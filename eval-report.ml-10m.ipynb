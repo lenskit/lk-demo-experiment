{
 "cells": [
  {
   "cell_type": "markdown",
   "id": "ca2a68d7",
   "metadata": {
    "papermill": {
     "duration": 0.010539,
     "end_time": "2025-02-22T22:25:17.360875",
     "exception": false,
     "start_time": "2025-02-22T22:25:17.350336",
     "status": "completed"
    },
    "tags": []
   },
   "source": [
    "# Evaluation Analysis for Recommender Output"
   ]
  },
  {
   "cell_type": "markdown",
   "id": "b63eda0c",
   "metadata": {
    "papermill": {
     "duration": 0.001291,
     "end_time": "2025-02-22T22:25:17.363623",
     "exception": false,
     "start_time": "2025-02-22T22:25:17.362332",
     "status": "completed"
    },
    "tags": []
   },
   "source": [
    "In this section we will analyze and compare the generated recommendations and predictions from a predefined list of algorithms with the goal of assessing the performance of each algorithm with respect to a metric. In other words, we would rank the algorithms for each metric considered with respect to performance."
   ]
  },
  {
   "cell_type": "markdown",
   "id": "36fb01ca",
   "metadata": {
    "papermill": {
     "duration": 0.001188,
     "end_time": "2025-02-22T22:25:17.366045",
     "exception": false,
     "start_time": "2025-02-22T22:25:17.364857",
     "status": "completed"
    },
    "tags": []
   },
   "source": [
    "## Setup"
   ]
  },
  {
   "cell_type": "markdown",
   "id": "21858d8a",
   "metadata": {
    "papermill": {
     "duration": 0.001299,
     "end_time": "2025-02-22T22:25:17.368528",
     "exception": false,
     "start_time": "2025-02-22T22:25:17.367229",
     "status": "completed"
    },
    "tags": []
   },
   "source": [
    "Below are the list of packages required to successfully run the analysis. They are divided into partitions to signify their specific task.<br>\n",
    "We need the pathlib package for working with files and folders"
   ]
  },
  {
   "cell_type": "code",
   "execution_count": 1,
   "id": "002c1a8e",
   "metadata": {
    "execution": {
     "iopub.execute_input": "2025-02-22T22:25:17.371698Z",
     "iopub.status.busy": "2025-02-22T22:25:17.371536Z",
     "iopub.status.idle": "2025-02-22T22:25:17.374420Z",
     "shell.execute_reply": "2025-02-22T22:25:17.373970Z"
    },
    "papermill": {
     "duration": 0.005225,
     "end_time": "2025-02-22T22:25:17.374964",
     "exception": false,
     "start_time": "2025-02-22T22:25:17.369739",
     "status": "completed"
    },
    "tags": []
   },
   "outputs": [],
   "source": [
    "from pathlib import Path\n",
    "import json"
   ]
  },
  {
   "cell_type": "markdown",
   "id": "d97e0d05",
   "metadata": {
    "papermill": {
     "duration": 0.001235,
     "end_time": "2025-02-22T22:25:17.377450",
     "exception": false,
     "start_time": "2025-02-22T22:25:17.376215",
     "status": "completed"
    },
    "tags": []
   },
   "source": [
    "Load libraries for analysis and visualization:"
   ]
  },
  {
   "cell_type": "code",
   "execution_count": 2,
   "id": "5dfaeefe",
   "metadata": {
    "execution": {
     "iopub.execute_input": "2025-02-22T22:25:17.380475Z",
     "iopub.status.busy": "2025-02-22T22:25:17.380312Z",
     "iopub.status.idle": "2025-02-22T22:25:17.872923Z",
     "shell.execute_reply": "2025-02-22T22:25:17.872513Z"
    },
    "lines_to_next_cell": 2,
    "papermill": {
     "duration": 0.49499,
     "end_time": "2025-02-22T22:25:17.873695",
     "exception": false,
     "start_time": "2025-02-22T22:25:17.378705",
     "status": "completed"
    },
    "tags": []
   },
   "outputs": [],
   "source": [
    "import seaborn as sns\n",
    "import matplotlib.pyplot as plt"
   ]
  },
  {
   "cell_type": "markdown",
   "id": "254c8bfe",
   "metadata": {
    "papermill": {
     "duration": 0.001298,
     "end_time": "2025-02-22T22:25:17.876497",
     "exception": false,
     "start_time": "2025-02-22T22:25:17.875199",
     "status": "completed"
    },
    "tags": []
   },
   "source": [
    "Import the LensKit metrics for analysis:"
   ]
  },
  {
   "cell_type": "code",
   "execution_count": 3,
   "id": "a1155fbc",
   "metadata": {
    "execution": {
     "iopub.execute_input": "2025-02-22T22:25:17.879749Z",
     "iopub.status.busy": "2025-02-22T22:25:17.879637Z",
     "iopub.status.idle": "2025-02-22T22:25:18.505044Z",
     "shell.execute_reply": "2025-02-22T22:25:18.504628Z"
    },
    "papermill": {
     "duration": 0.627908,
     "end_time": "2025-02-22T22:25:18.505706",
     "exception": false,
     "start_time": "2025-02-22T22:25:17.877798",
     "status": "completed"
    },
    "tags": []
   },
   "outputs": [],
   "source": [
    "from lenskit.data import Dataset, ItemListCollection\n",
    "from lenskit.metrics import RunAnalysis, RMSE, NDCG, RecipRank, RBP"
   ]
  },
  {
   "cell_type": "code",
   "execution_count": 4,
   "id": "43f2f0a9",
   "metadata": {
    "execution": {
     "iopub.execute_input": "2025-02-22T22:25:18.516747Z",
     "iopub.status.busy": "2025-02-22T22:25:18.516652Z",
     "iopub.status.idle": "2025-02-22T22:25:18.519489Z",
     "shell.execute_reply": "2025-02-22T22:25:18.519237Z"
    },
    "papermill": {
     "duration": 0.012713,
     "end_time": "2025-02-22T22:25:18.519985",
     "exception": false,
     "start_time": "2025-02-22T22:25:18.507272",
     "status": "completed"
    },
    "tags": []
   },
   "outputs": [],
   "source": [
    "from lkdemo.datasets import split_fraction"
   ]
  },
  {
   "cell_type": "markdown",
   "id": "35c34961",
   "metadata": {
    "papermill": {
     "duration": 0.001241,
     "end_time": "2025-02-22T22:25:18.522531",
     "exception": false,
     "start_time": "2025-02-22T22:25:18.521290",
     "status": "completed"
    },
    "tags": []
   },
   "source": [
    "## Load Data\n",
    "\n",
    "The recommendations are in `runs`, and we will need to reassemble the test data from `test`."
   ]
  },
  {
   "cell_type": "code",
   "execution_count": 5,
   "id": "3da98af4",
   "metadata": {
    "execution": {
     "iopub.execute_input": "2025-02-22T22:25:18.525559Z",
     "iopub.status.busy": "2025-02-22T22:25:18.525453Z",
     "iopub.status.idle": "2025-02-22T22:25:18.527116Z",
     "shell.execute_reply": "2025-02-22T22:25:18.526940Z"
    },
    "papermill": {
     "duration": 0.003864,
     "end_time": "2025-02-22T22:25:18.527690",
     "exception": false,
     "start_time": "2025-02-22T22:25:18.523826",
     "status": "completed"
    },
    "tags": [
     "parameters"
    ]
   },
   "outputs": [],
   "source": [
    "dataset = \"ml-100k\""
   ]
  },
  {
   "cell_type": "code",
   "execution_count": 6,
   "id": "f80f217d",
   "metadata": {
    "execution": {
     "iopub.execute_input": "2025-02-22T22:25:18.530690Z",
     "iopub.status.busy": "2025-02-22T22:25:18.530567Z",
     "iopub.status.idle": "2025-02-22T22:25:18.532372Z",
     "shell.execute_reply": "2025-02-22T22:25:18.531856Z"
    },
    "papermill": {
     "duration": 0.003776,
     "end_time": "2025-02-22T22:25:18.532762",
     "exception": false,
     "start_time": "2025-02-22T22:25:18.528986",
     "status": "completed"
    },
    "tags": [
     "injected-parameters"
    ]
   },
   "outputs": [],
   "source": [
    "# Parameters\n",
    "dataset = \"ml-10m\"\n"
   ]
  },
  {
   "cell_type": "code",
   "execution_count": 7,
   "id": "c9bbbdee",
   "metadata": {
    "execution": {
     "iopub.execute_input": "2025-02-22T22:25:18.535707Z",
     "iopub.status.busy": "2025-02-22T22:25:18.535613Z",
     "iopub.status.idle": "2025-02-22T22:25:18.536945Z",
     "shell.execute_reply": "2025-02-22T22:25:18.536797Z"
    },
    "papermill": {
     "duration": 0.003135,
     "end_time": "2025-02-22T22:25:18.537240",
     "exception": false,
     "start_time": "2025-02-22T22:25:18.534105",
     "status": "completed"
    },
    "tags": []
   },
   "outputs": [],
   "source": [
    "output_root = Path(\"runs\")"
   ]
  },
  {
   "cell_type": "code",
   "execution_count": 8,
   "id": "8e1bd83e",
   "metadata": {
    "execution": {
     "iopub.execute_input": "2025-02-22T22:25:18.540217Z",
     "iopub.status.busy": "2025-02-22T22:25:18.540112Z",
     "iopub.status.idle": "2025-02-22T22:25:18.541564Z",
     "shell.execute_reply": "2025-02-22T22:25:18.541409Z"
    },
    "papermill": {
     "duration": 0.003302,
     "end_time": "2025-02-22T22:25:18.541881",
     "exception": false,
     "start_time": "2025-02-22T22:25:18.538579",
     "status": "completed"
    },
    "tags": []
   },
   "outputs": [],
   "source": [
    "dirs = [fld for fld in output_root.glob(f'{dataset}-*')]"
   ]
  },
  {
   "cell_type": "code",
   "execution_count": 9,
   "id": "0b5febd9",
   "metadata": {
    "execution": {
     "iopub.execute_input": "2025-02-22T22:25:18.544892Z",
     "iopub.status.busy": "2025-02-22T22:25:18.544787Z",
     "iopub.status.idle": "2025-02-22T22:25:20.801219Z",
     "shell.execute_reply": "2025-02-22T22:25:20.800868Z"
    },
    "papermill": {
     "duration": 2.258657,
     "end_time": "2025-02-22T22:25:20.801897",
     "exception": false,
     "start_time": "2025-02-22T22:25:18.543240",
     "status": "completed"
    },
    "tags": []
   },
   "outputs": [],
   "source": [
    "recs = ItemListCollection(['model', 'user_id'], index=False)\n",
    "for fld in dirs:\n",
    "    for file in fld.glob(\"recs-*\"):\n",
    "        rec = ItemListCollection.load_parquet(file)\n",
    "        recs.add_from(rec, model=fld.name.split(\"-\")[-1])"
   ]
  },
  {
   "cell_type": "code",
   "execution_count": 10,
   "id": "4b06a7b5",
   "metadata": {
    "execution": {
     "iopub.execute_input": "2025-02-22T22:25:20.812982Z",
     "iopub.status.busy": "2025-02-22T22:25:20.812900Z",
     "iopub.status.idle": "2025-02-22T22:25:20.821214Z",
     "shell.execute_reply": "2025-02-22T22:25:20.821022Z"
    },
    "papermill": {
     "duration": 0.018144,
     "end_time": "2025-02-22T22:25:20.821672",
     "exception": false,
     "start_time": "2025-02-22T22:25:20.803528",
     "status": "completed"
    },
    "tags": []
   },
   "outputs": [
    {
     "data": {
      "text/plain": [
       "['ALS', 'Bias', 'IALS', 'IIE', 'III', 'Pop', 'UUE']"
      ]
     },
     "execution_count": 10,
     "metadata": {},
     "output_type": "execute_result"
    }
   ],
   "source": [
    "rec_algos = sorted(set(a for (a, _u) in recs.keys()))\n",
    "rec_algos"
   ]
  },
  {
   "cell_type": "code",
   "execution_count": 11,
   "id": "0fe9ffda",
   "metadata": {
    "execution": {
     "iopub.execute_input": "2025-02-22T22:25:20.825284Z",
     "iopub.status.busy": "2025-02-22T22:25:20.825170Z",
     "iopub.status.idle": "2025-02-22T22:25:22.772243Z",
     "shell.execute_reply": "2025-02-22T22:25:22.771907Z"
    },
    "papermill": {
     "duration": 1.949634,
     "end_time": "2025-02-22T22:25:22.772969",
     "exception": false,
     "start_time": "2025-02-22T22:25:20.823335",
     "status": "completed"
    },
    "tags": []
   },
   "outputs": [],
   "source": [
    "preds = ItemListCollection(['model', 'user_id'], index=False)\n",
    "for fld in dirs:\n",
    "    for file in fld.glob(\"pred-*\"):\n",
    "        pred = ItemListCollection.load_parquet(file)\n",
    "        preds.add_from(pred, model=fld.name.split(\"-\")[-1])"
   ]
  },
  {
   "cell_type": "markdown",
   "id": "afae618c",
   "metadata": {
    "papermill": {
     "duration": 0.008914,
     "end_time": "2025-02-22T22:25:22.783596",
     "exception": false,
     "start_time": "2025-02-22T22:25:22.774682",
     "status": "completed"
    },
    "tags": []
   },
   "source": [
    "We need to load the test data so that we have the ground truths for computing accuracy."
   ]
  },
  {
   "cell_type": "code",
   "execution_count": 12,
   "id": "01ecdf7b",
   "metadata": {
    "execution": {
     "iopub.execute_input": "2025-02-22T22:25:22.786937Z",
     "iopub.status.busy": "2025-02-22T22:25:22.786843Z",
     "iopub.status.idle": "2025-02-22T22:25:24.439680Z",
     "shell.execute_reply": "2025-02-22T22:25:24.439224Z"
    },
    "papermill": {
     "duration": 1.655339,
     "end_time": "2025-02-22T22:25:24.440337",
     "exception": false,
     "start_time": "2025-02-22T22:25:22.784998",
     "status": "completed"
    },
    "tags": []
   },
   "outputs": [],
   "source": [
    "data = Dataset.load(f\"data/{dataset}\")\n",
    "split = split_fraction(data, 0.2)\n",
    "test = split.test"
   ]
  },
  {
   "cell_type": "markdown",
   "id": "291700d9",
   "metadata": {
    "papermill": {
     "duration": 0.008536,
     "end_time": "2025-02-22T22:25:24.450577",
     "exception": false,
     "start_time": "2025-02-22T22:25:24.442041",
     "status": "completed"
    },
    "tags": []
   },
   "source": [
    "And identify users in the training set, so we only report metrics over them."
   ]
  },
  {
   "cell_type": "code",
   "execution_count": 13,
   "id": "acfdbd1c",
   "metadata": {
    "execution": {
     "iopub.execute_input": "2025-02-22T22:25:24.454193Z",
     "iopub.status.busy": "2025-02-22T22:25:24.454053Z",
     "iopub.status.idle": "2025-02-22T22:25:25.049186Z",
     "shell.execute_reply": "2025-02-22T22:25:25.048793Z"
    },
    "papermill": {
     "duration": 0.597661,
     "end_time": "2025-02-22T22:25:25.049872",
     "exception": false,
     "start_time": "2025-02-22T22:25:24.452211",
     "status": "completed"
    },
    "tags": []
   },
   "outputs": [],
   "source": [
    "train_users = split.train.user_stats()\n",
    "train_users = train_users[train_users['rating_count'] > 0]"
   ]
  },
  {
   "cell_type": "markdown",
   "id": "bb7059cd",
   "metadata": {
    "papermill": {
     "duration": 0.009089,
     "end_time": "2025-02-22T22:25:25.060703",
     "exception": false,
     "start_time": "2025-02-22T22:25:25.051614",
     "status": "completed"
    },
    "tags": []
   },
   "source": [
    "## Top-N Metrics\n",
    "\n",
    "`RunListAnalysis` computes metrics for recommendation results and takes care of\n",
    "matching recommendations and ground truth."
   ]
  },
  {
   "cell_type": "code",
   "execution_count": 14,
   "id": "60a7550d",
   "metadata": {
    "execution": {
     "iopub.execute_input": "2025-02-22T22:25:25.064026Z",
     "iopub.status.busy": "2025-02-22T22:25:25.063941Z",
     "iopub.status.idle": "2025-02-22T22:25:34.042427Z",
     "shell.execute_reply": "2025-02-22T22:25:34.042083Z"
    },
    "papermill": {
     "duration": 8.980829,
     "end_time": "2025-02-22T22:25:34.042941",
     "exception": false,
     "start_time": "2025-02-22T22:25:25.062112",
     "status": "completed"
    },
    "tags": []
   },
   "outputs": [
    {
     "name": "stderr",
     "output_type": "stream",
     "text": [
      "/home/mde48/lenskit/lk-demo-experiment/.venv/lib/python3.13/site-packages/lenskit/metrics/bulk.py:127: FutureWarning: The previous implementation of stack is deprecated and will be removed in a future version of pandas. See the What's New notes for pandas 2.1.0 for details. Specify future_stack=True to adopt the new implementation and silence this warning.\n",
      "  df = scores.groupby(list(keys)).agg([\"mean\", \"median\", \"std\"]).stack(level=0)\n"
     ]
    },
    {
     "data": {
      "text/html": [
       "<div>\n",
       "<style scoped>\n",
       "    .dataframe tbody tr th:only-of-type {\n",
       "        vertical-align: middle;\n",
       "    }\n",
       "\n",
       "    .dataframe tbody tr th {\n",
       "        vertical-align: top;\n",
       "    }\n",
       "\n",
       "    .dataframe thead th {\n",
       "        text-align: right;\n",
       "    }\n",
       "</style>\n",
       "<table border=\"1\" class=\"dataframe\">\n",
       "  <thead>\n",
       "    <tr style=\"text-align: right;\">\n",
       "      <th></th>\n",
       "      <th></th>\n",
       "      <th>mean</th>\n",
       "      <th>median</th>\n",
       "      <th>std</th>\n",
       "    </tr>\n",
       "    <tr>\n",
       "      <th>model</th>\n",
       "      <th></th>\n",
       "      <th></th>\n",
       "      <th></th>\n",
       "      <th></th>\n",
       "    </tr>\n",
       "  </thead>\n",
       "  <tbody>\n",
       "    <tr>\n",
       "      <th rowspan=\"3\" valign=\"top\">ALS</th>\n",
       "      <th>NDCG</th>\n",
       "      <td>0.121753</td>\n",
       "      <td>0.107308</td>\n",
       "      <td>0.095810</td>\n",
       "    </tr>\n",
       "    <tr>\n",
       "      <th>RBP</th>\n",
       "      <td>0.223468</td>\n",
       "      <td>0.158808</td>\n",
       "      <td>0.217678</td>\n",
       "    </tr>\n",
       "    <tr>\n",
       "      <th>RecipRank</th>\n",
       "      <td>0.527108</td>\n",
       "      <td>0.500000</td>\n",
       "      <td>0.438996</td>\n",
       "    </tr>\n",
       "    <tr>\n",
       "      <th rowspan=\"3\" valign=\"top\">Bias</th>\n",
       "      <th>NDCG</th>\n",
       "      <td>0.122468</td>\n",
       "      <td>0.108842</td>\n",
       "      <td>0.095923</td>\n",
       "    </tr>\n",
       "    <tr>\n",
       "      <th>RBP</th>\n",
       "      <td>0.226528</td>\n",
       "      <td>0.162843</td>\n",
       "      <td>0.217737</td>\n",
       "    </tr>\n",
       "    <tr>\n",
       "      <th>RecipRank</th>\n",
       "      <td>0.542384</td>\n",
       "      <td>0.500000</td>\n",
       "      <td>0.439935</td>\n",
       "    </tr>\n",
       "    <tr>\n",
       "      <th rowspan=\"3\" valign=\"top\">IALS</th>\n",
       "      <th>NDCG</th>\n",
       "      <td>0.042983</td>\n",
       "      <td>0.022689</td>\n",
       "      <td>0.067086</td>\n",
       "    </tr>\n",
       "    <tr>\n",
       "      <th>RBP</th>\n",
       "      <td>0.035575</td>\n",
       "      <td>0.001018</td>\n",
       "      <td>0.108561</td>\n",
       "    </tr>\n",
       "    <tr>\n",
       "      <th>RecipRank</th>\n",
       "      <td>0.081426</td>\n",
       "      <td>0.030303</td>\n",
       "      <td>0.187797</td>\n",
       "    </tr>\n",
       "    <tr>\n",
       "      <th rowspan=\"3\" valign=\"top\">IIE</th>\n",
       "      <th>NDCG</th>\n",
       "      <td>0.008394</td>\n",
       "      <td>0.000000</td>\n",
       "      <td>0.026761</td>\n",
       "    </tr>\n",
       "    <tr>\n",
       "      <th>RBP</th>\n",
       "      <td>0.007472</td>\n",
       "      <td>0.000000</td>\n",
       "      <td>0.041989</td>\n",
       "    </tr>\n",
       "    <tr>\n",
       "      <th>RecipRank</th>\n",
       "      <td>0.017134</td>\n",
       "      <td>0.000000</td>\n",
       "      <td>0.082209</td>\n",
       "    </tr>\n",
       "    <tr>\n",
       "      <th rowspan=\"3\" valign=\"top\">III</th>\n",
       "      <th>NDCG</th>\n",
       "      <td>0.034176</td>\n",
       "      <td>0.000000</td>\n",
       "      <td>0.092084</td>\n",
       "    </tr>\n",
       "    <tr>\n",
       "      <th>RBP</th>\n",
       "      <td>0.047779</td>\n",
       "      <td>0.000000</td>\n",
       "      <td>0.150655</td>\n",
       "    </tr>\n",
       "    <tr>\n",
       "      <th>RecipRank</th>\n",
       "      <td>0.082717</td>\n",
       "      <td>0.000000</td>\n",
       "      <td>0.242442</td>\n",
       "    </tr>\n",
       "    <tr>\n",
       "      <th rowspan=\"3\" valign=\"top\">Pop</th>\n",
       "      <th>NDCG</th>\n",
       "      <td>0.207656</td>\n",
       "      <td>0.192260</td>\n",
       "      <td>0.156670</td>\n",
       "    </tr>\n",
       "    <tr>\n",
       "      <th>RBP</th>\n",
       "      <td>0.383919</td>\n",
       "      <td>0.325337</td>\n",
       "      <td>0.330449</td>\n",
       "    </tr>\n",
       "    <tr>\n",
       "      <th>RecipRank</th>\n",
       "      <td>0.577445</td>\n",
       "      <td>0.500000</td>\n",
       "      <td>0.426818</td>\n",
       "    </tr>\n",
       "    <tr>\n",
       "      <th rowspan=\"3\" valign=\"top\">UUE</th>\n",
       "      <th>NDCG</th>\n",
       "      <td>0.007588</td>\n",
       "      <td>0.000000</td>\n",
       "      <td>0.022640</td>\n",
       "    </tr>\n",
       "    <tr>\n",
       "      <th>RBP</th>\n",
       "      <td>0.004828</td>\n",
       "      <td>0.000000</td>\n",
       "      <td>0.027005</td>\n",
       "    </tr>\n",
       "    <tr>\n",
       "      <th>RecipRank</th>\n",
       "      <td>0.010990</td>\n",
       "      <td>0.000000</td>\n",
       "      <td>0.042649</td>\n",
       "    </tr>\n",
       "  </tbody>\n",
       "</table>\n",
       "</div>"
      ],
      "text/plain": [
       "                     mean    median       std\n",
       "model                                        \n",
       "ALS   NDCG       0.121753  0.107308  0.095810\n",
       "      RBP        0.223468  0.158808  0.217678\n",
       "      RecipRank  0.527108  0.500000  0.438996\n",
       "Bias  NDCG       0.122468  0.108842  0.095923\n",
       "      RBP        0.226528  0.162843  0.217737\n",
       "      RecipRank  0.542384  0.500000  0.439935\n",
       "IALS  NDCG       0.042983  0.022689  0.067086\n",
       "      RBP        0.035575  0.001018  0.108561\n",
       "      RecipRank  0.081426  0.030303  0.187797\n",
       "IIE   NDCG       0.008394  0.000000  0.026761\n",
       "      RBP        0.007472  0.000000  0.041989\n",
       "      RecipRank  0.017134  0.000000  0.082209\n",
       "III   NDCG       0.034176  0.000000  0.092084\n",
       "      RBP        0.047779  0.000000  0.150655\n",
       "      RecipRank  0.082717  0.000000  0.242442\n",
       "Pop   NDCG       0.207656  0.192260  0.156670\n",
       "      RBP        0.383919  0.325337  0.330449\n",
       "      RecipRank  0.577445  0.500000  0.426818\n",
       "UUE   NDCG       0.007588  0.000000  0.022640\n",
       "      RBP        0.004828  0.000000  0.027005\n",
       "      RecipRank  0.010990  0.000000  0.042649"
      ]
     },
     "execution_count": 14,
     "metadata": {},
     "output_type": "execute_result"
    }
   ],
   "source": [
    "ra = RunAnalysis()\n",
    "\n",
    "ra.add_metric(NDCG())\n",
    "ra.add_metric(RecipRank())\n",
    "ra.add_metric(RBP())\n",
    "\n",
    "rec_results = ra.compute(recs, test)\n",
    "rec_results.list_summary('model')"
   ]
  },
  {
   "cell_type": "markdown",
   "id": "c43d0a23",
   "metadata": {
    "papermill": {
     "duration": 0.009009,
     "end_time": "2025-02-22T22:25:34.053679",
     "exception": false,
     "start_time": "2025-02-22T22:25:34.044670",
     "status": "completed"
    },
    "tags": []
   },
   "source": [
    "We can reshape the list metrics and plot them:"
   ]
  },
  {
   "cell_type": "code",
   "execution_count": 15,
   "id": "9d2d5d12",
   "metadata": {
    "execution": {
     "iopub.execute_input": "2025-02-22T22:25:34.057225Z",
     "iopub.status.busy": "2025-02-22T22:25:34.057121Z",
     "iopub.status.idle": "2025-02-22T22:25:34.599645Z",
     "shell.execute_reply": "2025-02-22T22:25:34.599474Z"
    },
    "papermill": {
     "duration": 0.544922,
     "end_time": "2025-02-22T22:25:34.600073",
     "exception": false,
     "start_time": "2025-02-22T22:25:34.055151",
     "status": "completed"
    },
    "tags": []
   },
   "outputs": [
    {
     "data": {
      "image/png": "[encoded data removed]",
      "text/plain": [
       "<Figure size 1511.11x500 with 3 Axes>"
      ]
     },
     "metadata": {},
     "output_type": "display_data"
    }
   ],
   "source": [
    "metrics = rec_results.list_metrics()\n",
    "metrics = metrics.melt(var_name='metric', ignore_index=False).reset_index()\n",
    "metrics = metrics[metrics['user_id'].isin(train_users.index)]\n",
    "sns.catplot(metrics, x='model', y='value', col='metric', kind='bar')\n",
    "plt.show()"
   ]
  },
  {
   "cell_type": "markdown",
   "id": "c43e61ea",
   "metadata": {
    "papermill": {
     "duration": 0.008742,
     "end_time": "2025-02-22T22:25:34.612017",
     "exception": false,
     "start_time": "2025-02-22T22:25:34.603275",
     "status": "completed"
    },
    "tags": []
   },
   "source": [
    "## Prediction RMSE\n",
    "\n",
    "We will also look at the prediction RMSE."
   ]
  },
  {
   "cell_type": "code",
   "execution_count": 16,
   "id": "96b6d861",
   "metadata": {
    "execution": {
     "iopub.execute_input": "2025-02-22T22:25:34.615769Z",
     "iopub.status.busy": "2025-02-22T22:25:34.615654Z",
     "iopub.status.idle": "2025-02-22T22:25:43.586975Z",
     "shell.execute_reply": "2025-02-22T22:25:43.586791Z"
    },
    "papermill": {
     "duration": 8.973886,
     "end_time": "2025-02-22T22:25:43.587495",
     "exception": false,
     "start_time": "2025-02-22T22:25:34.613609",
     "status": "completed"
    },
    "tags": []
   },
   "outputs": [
    {
     "name": "stderr",
     "output_type": "stream",
     "text": [
      "/home/mde48/lenskit/lk-demo-experiment/.venv/lib/python3.13/site-packages/lenskit/metrics/bulk.py:127: FutureWarning: The previous implementation of stack is deprecated and will be removed in a future version of pandas. See the What's New notes for pandas 2.1.0 for details. Specify future_stack=True to adopt the new implementation and silence this warning.\n",
      "  df = scores.groupby(list(keys)).agg([\"mean\", \"median\", \"std\"]).stack(level=0)\n"
     ]
    },
    {
     "data": {
      "text/html": [
       "<div>\n",
       "<style scoped>\n",
       "    .dataframe tbody tr th:only-of-type {\n",
       "        vertical-align: middle;\n",
       "    }\n",
       "\n",
       "    .dataframe tbody tr th {\n",
       "        vertical-align: top;\n",
       "    }\n",
       "\n",
       "    .dataframe thead th {\n",
       "        text-align: right;\n",
       "    }\n",
       "</style>\n",
       "<table border=\"1\" class=\"dataframe\">\n",
       "  <thead>\n",
       "    <tr style=\"text-align: right;\">\n",
       "      <th></th>\n",
       "      <th></th>\n",
       "      <th>mean</th>\n",
       "      <th>median</th>\n",
       "      <th>std</th>\n",
       "    </tr>\n",
       "    <tr>\n",
       "      <th>model</th>\n",
       "      <th></th>\n",
       "      <th></th>\n",
       "      <th></th>\n",
       "      <th></th>\n",
       "    </tr>\n",
       "  </thead>\n",
       "  <tbody>\n",
       "    <tr>\n",
       "      <th>ALS</th>\n",
       "      <th>RMSE</th>\n",
       "      <td>0.903379</td>\n",
       "      <td>0.850329</td>\n",
       "      <td>0.303010</td>\n",
       "    </tr>\n",
       "    <tr>\n",
       "      <th>Bias</th>\n",
       "      <th>RMSE</th>\n",
       "      <td>0.908350</td>\n",
       "      <td>0.854235</td>\n",
       "      <td>0.301733</td>\n",
       "    </tr>\n",
       "    <tr>\n",
       "      <th>IIE</th>\n",
       "      <th>RMSE</th>\n",
       "      <td>0.903569</td>\n",
       "      <td>0.850261</td>\n",
       "      <td>0.304478</td>\n",
       "    </tr>\n",
       "    <tr>\n",
       "      <th>UUE</th>\n",
       "      <th>RMSE</th>\n",
       "      <td>0.908947</td>\n",
       "      <td>0.854993</td>\n",
       "      <td>0.303898</td>\n",
       "    </tr>\n",
       "  </tbody>\n",
       "</table>\n",
       "</div>"
      ],
      "text/plain": [
       "                mean    median       std\n",
       "model                                   \n",
       "ALS   RMSE  0.903379  0.850329  0.303010\n",
       "Bias  RMSE  0.908350  0.854235  0.301733\n",
       "IIE   RMSE  0.903569  0.850261  0.304478\n",
       "UUE   RMSE  0.908947  0.854993  0.303898"
      ]
     },
     "execution_count": 16,
     "metadata": {},
     "output_type": "execute_result"
    }
   ],
   "source": [
    "pa = RunAnalysis()\n",
    "\n",
    "pa.add_metric(RMSE(missing_scores='ignore', missing_truth='ignore'))\n",
    "\n",
    "pred_results = pa.compute(preds, test)\n",
    "pred_results.list_summary('model')"
   ]
  },
  {
   "cell_type": "code",
   "execution_count": 17,
   "id": "6d814573",
   "metadata": {
    "execution": {
     "iopub.execute_input": "2025-02-22T22:25:43.598680Z",
     "iopub.status.busy": "2025-02-22T22:25:43.598588Z",
     "iopub.status.idle": "2025-02-22T22:25:43.716268Z",
     "shell.execute_reply": "2025-02-22T22:25:43.716017Z"
    },
    "papermill": {
     "duration": 0.127259,
     "end_time": "2025-02-22T22:25:43.716688",
     "exception": false,
     "start_time": "2025-02-22T22:25:43.589429",
     "status": "completed"
    },
    "tags": []
   },
   "outputs": [
    {
     "data": {
      "image/png": "[encoded data removed]",
      "text/plain": [
       "<Figure size 511.111x500 with 1 Axes>"
      ]
     },
     "metadata": {},
     "output_type": "display_data"
    }
   ],
   "source": [
    "pred_metrics = pred_results.list_metrics().reset_index()\n",
    "pred_metrics = pred_metrics[pred_metrics['user_id'].isin(train_users.index)]\n",
    "sns.catplot(pred_metrics, x='model', y='RMSE', kind='bar')\n",
    "plt.show()"
   ]
  },
  {
   "cell_type": "markdown",
   "id": "150ed96b",
   "metadata": {
    "papermill": {
     "duration": 0.009153,
     "end_time": "2025-02-22T22:25:43.727719",
     "exception": false,
     "start_time": "2025-02-22T22:25:43.718566",
     "status": "completed"
    },
    "tags": []
   },
   "source": [
    "## Save Metrics\n",
    "\n",
    "We'll now save the metrics to a file."
   ]
  },
  {
   "cell_type": "code",
   "execution_count": 18,
   "id": "95247ac8",
   "metadata": {
    "execution": {
     "iopub.execute_input": "2025-02-22T22:25:43.731559Z",
     "iopub.status.busy": "2025-02-22T22:25:43.731469Z",
     "iopub.status.idle": "2025-02-22T22:25:43.744606Z",
     "shell.execute_reply": "2025-02-22T22:25:43.744404Z"
    },
    "papermill": {
     "duration": 0.015477,
     "end_time": "2025-02-22T22:25:43.744907",
     "exception": false,
     "start_time": "2025-02-22T22:25:43.729430",
     "status": "completed"
    },
    "tags": []
   },
   "outputs": [
    {
     "name": "stderr",
     "output_type": "stream",
     "text": [
      "/home/mde48/lenskit/lk-demo-experiment/.venv/lib/python3.13/site-packages/lenskit/metrics/bulk.py:127: FutureWarning: The previous implementation of stack is deprecated and will be removed in a future version of pandas. See the What's New notes for pandas 2.1.0 for details. Specify future_stack=True to adopt the new implementation and silence this warning.\n",
      "  df = scores.groupby(list(keys)).agg([\"mean\", \"median\", \"std\"]).stack(level=0)\n"
     ]
    },
    {
     "data": {
      "text/html": [
       "<div>\n",
       "<style scoped>\n",
       "    .dataframe tbody tr th:only-of-type {\n",
       "        vertical-align: middle;\n",
       "    }\n",
       "\n",
       "    .dataframe tbody tr th {\n",
       "        vertical-align: top;\n",
       "    }\n",
       "\n",
       "    .dataframe thead th {\n",
       "        text-align: right;\n",
       "    }\n",
       "</style>\n",
       "<table border=\"1\" class=\"dataframe\">\n",
       "  <thead>\n",
       "    <tr style=\"text-align: right;\">\n",
       "      <th></th>\n",
       "      <th>NDCG</th>\n",
       "      <th>RBP</th>\n",
       "      <th>RecipRank</th>\n",
       "    </tr>\n",
       "    <tr>\n",
       "      <th>model</th>\n",
       "      <th></th>\n",
       "      <th></th>\n",
       "      <th></th>\n",
       "    </tr>\n",
       "  </thead>\n",
       "  <tbody>\n",
       "    <tr>\n",
       "      <th>ALS</th>\n",
       "      <td>0.121753</td>\n",
       "      <td>0.223468</td>\n",
       "      <td>0.527108</td>\n",
       "    </tr>\n",
       "    <tr>\n",
       "      <th>Bias</th>\n",
       "      <td>0.122468</td>\n",
       "      <td>0.226528</td>\n",
       "      <td>0.542384</td>\n",
       "    </tr>\n",
       "    <tr>\n",
       "      <th>IALS</th>\n",
       "      <td>0.042983</td>\n",
       "      <td>0.035575</td>\n",
       "      <td>0.081426</td>\n",
       "    </tr>\n",
       "    <tr>\n",
       "      <th>IIE</th>\n",
       "      <td>0.008394</td>\n",
       "      <td>0.007472</td>\n",
       "      <td>0.017134</td>\n",
       "    </tr>\n",
       "    <tr>\n",
       "      <th>III</th>\n",
       "      <td>0.034176</td>\n",
       "      <td>0.047779</td>\n",
       "      <td>0.082717</td>\n",
       "    </tr>\n",
       "    <tr>\n",
       "      <th>Pop</th>\n",
       "      <td>0.207656</td>\n",
       "      <td>0.383919</td>\n",
       "      <td>0.577445</td>\n",
       "    </tr>\n",
       "    <tr>\n",
       "      <th>UUE</th>\n",
       "      <td>0.007588</td>\n",
       "      <td>0.004828</td>\n",
       "      <td>0.010990</td>\n",
       "    </tr>\n",
       "  </tbody>\n",
       "</table>\n",
       "</div>"
      ],
      "text/plain": [
       "           NDCG       RBP  RecipRank\n",
       "model                               \n",
       "ALS    0.121753  0.223468   0.527108\n",
       "Bias   0.122468  0.226528   0.542384\n",
       "IALS   0.042983  0.035575   0.081426\n",
       "IIE    0.008394  0.007472   0.017134\n",
       "III    0.034176  0.047779   0.082717\n",
       "Pop    0.207656  0.383919   0.577445\n",
       "UUE    0.007588  0.004828   0.010990"
      ]
     },
     "execution_count": 18,
     "metadata": {},
     "output_type": "execute_result"
    }
   ],
   "source": [
    "rlsum = rec_results.list_summary('model')['mean'].unstack()\n",
    "rlsum"
   ]
  },
  {
   "cell_type": "code",
   "execution_count": 19,
   "id": "fb76a470",
   "metadata": {
    "execution": {
     "iopub.execute_input": "2025-02-22T22:25:43.749025Z",
     "iopub.status.busy": "2025-02-22T22:25:43.748955Z",
     "iopub.status.idle": "2025-02-22T22:25:43.750876Z",
     "shell.execute_reply": "2025-02-22T22:25:43.750719Z"
    },
    "papermill": {
     "duration": 0.00439,
     "end_time": "2025-02-22T22:25:43.751195",
     "exception": false,
     "start_time": "2025-02-22T22:25:43.746805",
     "status": "completed"
    },
    "tags": []
   },
   "outputs": [],
   "source": [
    "rlsum.to_json(f'eval-metrics.{dataset}.json', orient='index')"
   ]
  }
 ],
 "metadata": {
  "jupytext": {
   "formats": "ipynb,md",
   "notebook_metadata_filter": "split_at_heading"
  },
  "kernelspec": {
   "display_name": ".venv",
   "language": "python",
   "name": "python3"
  },
  "language_info": {
   "codemirror_mode": {
    "name": "ipython",
    "version": 3
   },
   "file_extension": ".py",
   "mimetype": "text/x-python",
   "name": "python",
   "nbconvert_exporter": "python",
   "pygments_lexer": "ipython3",
   "version": "3.13.2"
  },
  "papermill": {
   "default_parameters": {},
   "duration": 27.93696,
   "end_time": "2025-02-22T22:25:44.667865",
   "environment_variables": {},
   "exception": null,
   "input_path": "eval-report.ipynb",
   "output_path": "eval-report.ml-10m.ipynb",
   "parameters": {
    "dataset": "ml-10m"
   },
   "start_time": "2025-02-22T22:25:16.730905",
   "version": "2.6.0"
  },
  "split_at_heading": true
 },
 "nbformat": 4,
 "nbformat_minor": 5
}