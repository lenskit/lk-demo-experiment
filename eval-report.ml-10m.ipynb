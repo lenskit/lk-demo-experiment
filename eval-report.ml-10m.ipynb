{
 "cells": [
  {
   "cell_type": "markdown",
   "id": "cf34c732",
   "metadata": {
    "papermill": {
     "duration": 0.010595,
     "end_time": "2025-02-22T22:41:23.774077",
     "exception": false,
     "start_time": "2025-02-22T22:41:23.763482",
     "status": "completed"
    },
    "tags": []
   },
   "source": [
    "# Evaluation Analysis for Recommender Output"
   ]
  },
  {
   "cell_type": "markdown",
   "id": "f179abe6",
   "metadata": {
    "papermill": {
     "duration": 0.001259,
     "end_time": "2025-02-22T22:41:23.776900",
     "exception": false,
     "start_time": "2025-02-22T22:41:23.775641",
     "status": "completed"
    },
    "tags": []
   },
   "source": [
    "In this section we will analyze and compare the generated recommendations and predictions from a predefined list of algorithms with the goal of assessing the performance of each algorithm with respect to a metric. In other words, we would rank the algorithms for each metric considered with respect to performance."
   ]
  },
  {
   "cell_type": "markdown",
   "id": "5d3472f4",
   "metadata": {
    "papermill": {
     "duration": 0.001224,
     "end_time": "2025-02-22T22:41:23.779377",
     "exception": false,
     "start_time": "2025-02-22T22:41:23.778153",
     "status": "completed"
    },
    "tags": []
   },
   "source": [
    "## Setup"
   ]
  },
  {
   "cell_type": "markdown",
   "id": "cc43fdaf",
   "metadata": {
    "papermill": {
     "duration": 0.001229,
     "end_time": "2025-02-22T22:41:23.781971",
     "exception": false,
     "start_time": "2025-02-22T22:41:23.780742",
     "status": "completed"
    },
    "tags": []
   },
   "source": [
    "Below are the list of packages required to successfully run the analysis. They are divided into partitions to signify their specific task.<br>\n",
    "We need the pathlib package for working with files and folders"
   ]
  },
  {
   "cell_type": "code",
   "execution_count": 1,
   "id": "014be844",
   "metadata": {
    "execution": {
     "iopub.execute_input": "2025-02-22T22:41:23.785568Z",
     "iopub.status.busy": "2025-02-22T22:41:23.785459Z",
     "iopub.status.idle": "2025-02-22T22:41:23.788037Z",
     "shell.execute_reply": "2025-02-22T22:41:23.787761Z"
    },
    "papermill": {
     "duration": 0.005094,
     "end_time": "2025-02-22T22:41:23.788573",
     "exception": false,
     "start_time": "2025-02-22T22:41:23.783479",
     "status": "completed"
    },
    "tags": []
   },
   "outputs": [],
   "source": [
    "from pathlib import Path\n",
    "import json"
   ]
  },
  {
   "cell_type": "markdown",
   "id": "2647251d",
   "metadata": {
    "papermill": {
     "duration": 0.001296,
     "end_time": "2025-02-22T22:41:23.791183",
     "exception": false,
     "start_time": "2025-02-22T22:41:23.789887",
     "status": "completed"
    },
    "tags": []
   },
   "source": [
    "Load libraries for analysis and visualization:"
   ]
  },
  {
   "cell_type": "code",
   "execution_count": 2,
   "id": "c1ed49d5",
   "metadata": {
    "execution": {
     "iopub.execute_input": "2025-02-22T22:41:23.794188Z",
     "iopub.status.busy": "2025-02-22T22:41:23.794122Z",
     "iopub.status.idle": "2025-02-22T22:41:24.277994Z",
     "shell.execute_reply": "2025-02-22T22:41:24.277516Z"
    },
    "lines_to_next_cell": 2,
    "papermill": {
     "duration": 0.48632,
     "end_time": "2025-02-22T22:41:24.278814",
     "exception": false,
     "start_time": "2025-02-22T22:41:23.792494",
     "status": "completed"
    },
    "tags": []
   },
   "outputs": [],
   "source": [
    "import numpy as np\n",
    "import seaborn as sns\n",
    "import matplotlib.pyplot as plt"
   ]
  },
  {
   "cell_type": "markdown",
   "id": "0586a019",
   "metadata": {
    "papermill": {
     "duration": 0.008681,
     "end_time": "2025-02-22T22:41:24.289136",
     "exception": false,
     "start_time": "2025-02-22T22:41:24.280455",
     "status": "completed"
    },
    "tags": []
   },
   "source": [
    "Import the LensKit metrics for analysis:"
   ]
  },
  {
   "cell_type": "code",
   "execution_count": 3,
   "id": "1760b3f8",
   "metadata": {
    "execution": {
     "iopub.execute_input": "2025-02-22T22:41:24.292457Z",
     "iopub.status.busy": "2025-02-22T22:41:24.292337Z",
     "iopub.status.idle": "2025-02-22T22:41:24.930034Z",
     "shell.execute_reply": "2025-02-22T22:41:24.929598Z"
    },
    "papermill": {
     "duration": 0.64025,
     "end_time": "2025-02-22T22:41:24.930862",
     "exception": false,
     "start_time": "2025-02-22T22:41:24.290612",
     "status": "completed"
    },
    "tags": []
   },
   "outputs": [],
   "source": [
    "from lenskit.data import Dataset, ItemListCollection\n",
    "from lenskit.metrics import RunAnalysis, RMSE, NDCG, RecipRank, RBP"
   ]
  },
  {
   "cell_type": "code",
   "execution_count": 4,
   "id": "8ad8a9b5",
   "metadata": {
    "execution": {
     "iopub.execute_input": "2025-02-22T22:41:24.934433Z",
     "iopub.status.busy": "2025-02-22T22:41:24.934357Z",
     "iopub.status.idle": "2025-02-22T22:41:24.936998Z",
     "shell.execute_reply": "2025-02-22T22:41:24.936754Z"
    },
    "papermill": {
     "duration": 0.004975,
     "end_time": "2025-02-22T22:41:24.937516",
     "exception": false,
     "start_time": "2025-02-22T22:41:24.932541",
     "status": "completed"
    },
    "tags": []
   },
   "outputs": [],
   "source": [
    "from lkdemo.datasets import split_fraction"
   ]
  },
  {
   "cell_type": "markdown",
   "id": "e4db960e",
   "metadata": {
    "papermill": {
     "duration": 0.001308,
     "end_time": "2025-02-22T22:41:24.940172",
     "exception": false,
     "start_time": "2025-02-22T22:41:24.938864",
     "status": "completed"
    },
    "tags": []
   },
   "source": [
    "## Load Data\n",
    "\n",
    "The recommendations are in `runs`, and we will need to reassemble the test data from `test`."
   ]
  },
  {
   "cell_type": "code",
   "execution_count": 5,
   "id": "f0b0bb95",
   "metadata": {
    "execution": {
     "iopub.execute_input": "2025-02-22T22:41:24.943294Z",
     "iopub.status.busy": "2025-02-22T22:41:24.943218Z",
     "iopub.status.idle": "2025-02-22T22:41:24.944765Z",
     "shell.execute_reply": "2025-02-22T22:41:24.944544Z"
    },
    "papermill": {
     "duration": 0.003778,
     "end_time": "2025-02-22T22:41:24.945305",
     "exception": false,
     "start_time": "2025-02-22T22:41:24.941527",
     "status": "completed"
    },
    "tags": [
     "parameters"
    ]
   },
   "outputs": [],
   "source": [
    "dataset = \"ml-100k\""
   ]
  },
  {
   "cell_type": "code",
   "execution_count": 6,
   "id": "ca6eae26",
   "metadata": {
    "execution": {
     "iopub.execute_input": "2025-02-22T22:41:24.948379Z",
     "iopub.status.busy": "2025-02-22T22:41:24.948307Z",
     "iopub.status.idle": "2025-02-22T22:41:24.949773Z",
     "shell.execute_reply": "2025-02-22T22:41:24.949551Z"
    },
    "papermill": {
     "duration": 0.003616,
     "end_time": "2025-02-22T22:41:24.950295",
     "exception": false,
     "start_time": "2025-02-22T22:41:24.946679",
     "status": "completed"
    },
    "tags": [
     "injected-parameters"
    ]
   },
   "outputs": [],
   "source": [
    "# Parameters\n",
    "dataset = \"ml-10m\"\n"
   ]
  },
  {
   "cell_type": "code",
   "execution_count": 7,
   "id": "bb15507d",
   "metadata": {
    "execution": {
     "iopub.execute_input": "2025-02-22T22:41:24.953324Z",
     "iopub.status.busy": "2025-02-22T22:41:24.953257Z",
     "iopub.status.idle": "2025-02-22T22:41:24.954741Z",
     "shell.execute_reply": "2025-02-22T22:41:24.954524Z"
    },
    "papermill": {
     "duration": 0.003554,
     "end_time": "2025-02-22T22:41:24.955203",
     "exception": false,
     "start_time": "2025-02-22T22:41:24.951649",
     "status": "completed"
    },
    "tags": []
   },
   "outputs": [],
   "source": [
    "output_root = Path(\"runs\")"
   ]
  },
  {
   "cell_type": "code",
   "execution_count": 8,
   "id": "ecff58cf",
   "metadata": {
    "execution": {
     "iopub.execute_input": "2025-02-22T22:41:24.958275Z",
     "iopub.status.busy": "2025-02-22T22:41:24.958188Z",
     "iopub.status.idle": "2025-02-22T22:41:24.960005Z",
     "shell.execute_reply": "2025-02-22T22:41:24.959775Z"
    },
    "papermill": {
     "duration": 0.003885,
     "end_time": "2025-02-22T22:41:24.960466",
     "exception": false,
     "start_time": "2025-02-22T22:41:24.956581",
     "status": "completed"
    },
    "tags": []
   },
   "outputs": [],
   "source": [
    "dirs = [fld for fld in output_root.glob(f'{dataset}-*')]"
   ]
  },
  {
   "cell_type": "code",
   "execution_count": 9,
   "id": "98ec44f8",
   "metadata": {
    "execution": {
     "iopub.execute_input": "2025-02-22T22:41:24.963584Z",
     "iopub.status.busy": "2025-02-22T22:41:24.963496Z",
     "iopub.status.idle": "2025-02-22T22:41:27.001194Z",
     "shell.execute_reply": "2025-02-22T22:41:27.000702Z"
    },
    "papermill": {
     "duration": 2.040134,
     "end_time": "2025-02-22T22:41:27.002008",
     "exception": false,
     "start_time": "2025-02-22T22:41:24.961874",
     "status": "completed"
    },
    "tags": []
   },
   "outputs": [],
   "source": [
    "recs = ItemListCollection(['model', 'user_id'], index=False)\n",
    "for fld in dirs:\n",
    "    for file in fld.glob(\"recs-*\"):\n",
    "        rec = ItemListCollection.load_parquet(file)\n",
    "        recs.add_from(rec, model=fld.name.split(\"-\")[-1])"
   ]
  },
  {
   "cell_type": "code",
   "execution_count": 10,
   "id": "16052016",
   "metadata": {
    "execution": {
     "iopub.execute_input": "2025-02-22T22:41:27.013619Z",
     "iopub.status.busy": "2025-02-22T22:41:27.013541Z",
     "iopub.status.idle": "2025-02-22T22:41:27.022223Z",
     "shell.execute_reply": "2025-02-22T22:41:27.021981Z"
    },
    "papermill": {
     "duration": 0.018801,
     "end_time": "2025-02-22T22:41:27.022714",
     "exception": false,
     "start_time": "2025-02-22T22:41:27.003913",
     "status": "completed"
    },
    "tags": []
   },
   "outputs": [
    {
     "data": {
      "text/plain": [
       "['ALS', 'Bias', 'IALS', 'IIE', 'III', 'Pop', 'UUE']"
      ]
     },
     "execution_count": 10,
     "metadata": {},
     "output_type": "execute_result"
    }
   ],
   "source": [
    "rec_algos = sorted(set(a for (a, _u) in recs.keys()))\n",
    "rec_algos"
   ]
  },
  {
   "cell_type": "code",
   "execution_count": 11,
   "id": "b44ae566",
   "metadata": {
    "execution": {
     "iopub.execute_input": "2025-02-22T22:41:27.026310Z",
     "iopub.status.busy": "2025-02-22T22:41:27.026239Z",
     "iopub.status.idle": "2025-02-22T22:41:28.845664Z",
     "shell.execute_reply": "2025-02-22T22:41:28.845028Z"
    },
    "papermill": {
     "duration": 1.822349,
     "end_time": "2025-02-22T22:41:28.846571",
     "exception": false,
     "start_time": "2025-02-22T22:41:27.024222",
     "status": "completed"
    },
    "tags": []
   },
   "outputs": [],
   "source": [
    "preds = ItemListCollection(['model', 'user_id'], index=False)\n",
    "for fld in dirs:\n",
    "    for file in fld.glob(\"pred-*\"):\n",
    "        pred = ItemListCollection.load_parquet(file)\n",
    "        preds.add_from(pred, model=fld.name.split(\"-\")[-1])"
   ]
  },
  {
   "cell_type": "markdown",
   "id": "c3d9a53d",
   "metadata": {
    "papermill": {
     "duration": 0.008852,
     "end_time": "2025-02-22T22:41:28.857223",
     "exception": false,
     "start_time": "2025-02-22T22:41:28.848371",
     "status": "completed"
    },
    "tags": []
   },
   "source": [
    "We need to load the test data so that we have the ground truths for computing accuracy."
   ]
  },
  {
   "cell_type": "code",
   "execution_count": 12,
   "id": "f617082d",
   "metadata": {
    "execution": {
     "iopub.execute_input": "2025-02-22T22:41:28.860830Z",
     "iopub.status.busy": "2025-02-22T22:41:28.860733Z",
     "iopub.status.idle": "2025-02-22T22:41:30.423827Z",
     "shell.execute_reply": "2025-02-22T22:41:30.423201Z"
    },
    "papermill": {
     "duration": 1.566103,
     "end_time": "2025-02-22T22:41:30.424793",
     "exception": false,
     "start_time": "2025-02-22T22:41:28.858690",
     "status": "completed"
    },
    "tags": []
   },
   "outputs": [],
   "source": [
    "data = Dataset.load(f\"data/{dataset}\")\n",
    "split = split_fraction(data, 0.2)\n",
    "test = split.test"
   ]
  },
  {
   "cell_type": "markdown",
   "id": "1211178a",
   "metadata": {
    "papermill": {
     "duration": 0.008876,
     "end_time": "2025-02-22T22:41:30.435409",
     "exception": false,
     "start_time": "2025-02-22T22:41:30.426533",
     "status": "completed"
    },
    "tags": []
   },
   "source": [
    "And identify users in the training set, so we only report metrics over them."
   ]
  },
  {
   "cell_type": "code",
   "execution_count": 13,
   "id": "ea5fd212",
   "metadata": {
    "execution": {
     "iopub.execute_input": "2025-02-22T22:41:30.438876Z",
     "iopub.status.busy": "2025-02-22T22:41:30.438794Z",
     "iopub.status.idle": "2025-02-22T22:41:31.043304Z",
     "shell.execute_reply": "2025-02-22T22:41:31.042736Z"
    },
    "papermill": {
     "duration": 0.607383,
     "end_time": "2025-02-22T22:41:31.044257",
     "exception": false,
     "start_time": "2025-02-22T22:41:30.436874",
     "status": "completed"
    },
    "tags": []
   },
   "outputs": [],
   "source": [
    "train_users = split.train.user_stats()\n",
    "train_users = train_users[train_users['rating_count'] > 0]"
   ]
  },
  {
   "cell_type": "markdown",
   "id": "e8ca3779",
   "metadata": {
    "papermill": {
     "duration": 0.008933,
     "end_time": "2025-02-22T22:41:31.054990",
     "exception": false,
     "start_time": "2025-02-22T22:41:31.046057",
     "status": "completed"
    },
    "tags": []
   },
   "source": [
    "## Top-N Metrics\n",
    "\n",
    "`RunListAnalysis` computes metrics for recommendation results and takes care of\n",
    "matching recommendations and ground truth."
   ]
  },
  {
   "cell_type": "code",
   "execution_count": 14,
   "id": "7012260e",
   "metadata": {
    "execution": {
     "iopub.execute_input": "2025-02-22T22:41:31.058538Z",
     "iopub.status.busy": "2025-02-22T22:41:31.058444Z",
     "iopub.status.idle": "2025-02-22T22:41:39.922219Z",
     "shell.execute_reply": "2025-02-22T22:41:39.921889Z"
    },
    "papermill": {
     "duration": 8.86645,
     "end_time": "2025-02-22T22:41:39.922908",
     "exception": false,
     "start_time": "2025-02-22T22:41:31.056458",
     "status": "completed"
    },
    "tags": []
   },
   "outputs": [
    {
     "name": "stderr",
     "output_type": "stream",
     "text": [
      "/home/mde48/lenskit/lk-demo-experiment/.venv/lib/python3.13/site-packages/lenskit/metrics/bulk.py:127: FutureWarning: The previous implementation of stack is deprecated and will be removed in a future version of pandas. See the What's New notes for pandas 2.1.0 for details. Specify future_stack=True to adopt the new implementation and silence this warning.\n",
      "  df = scores.groupby(list(keys)).agg([\"mean\", \"median\", \"std\"]).stack(level=0)\n"
     ]
    },
    {
     "data": {
      "text/html": [
       "<div>\n",
       "<style scoped>\n",
       "    .dataframe tbody tr th:only-of-type {\n",
       "        vertical-align: middle;\n",
       "    }\n",
       "\n",
       "    .dataframe tbody tr th {\n",
       "        vertical-align: top;\n",
       "    }\n",
       "\n",
       "    .dataframe thead th {\n",
       "        text-align: right;\n",
       "    }\n",
       "</style>\n",
       "<table border=\"1\" class=\"dataframe\">\n",
       "  <thead>\n",
       "    <tr style=\"text-align: right;\">\n",
       "      <th></th>\n",
       "      <th></th>\n",
       "      <th>mean</th>\n",
       "      <th>median</th>\n",
       "      <th>std</th>\n",
       "    </tr>\n",
       "    <tr>\n",
       "      <th>model</th>\n",
       "      <th></th>\n",
       "      <th></th>\n",
       "      <th></th>\n",
       "      <th></th>\n",
       "    </tr>\n",
       "  </thead>\n",
       "  <tbody>\n",
       "    <tr>\n",
       "      <th rowspan=\"3\" valign=\"top\">ALS</th>\n",
       "      <th>NDCG</th>\n",
       "      <td>0.121753</td>\n",
       "      <td>0.107308</td>\n",
       "      <td>0.095810</td>\n",
       "    </tr>\n",
       "    <tr>\n",
       "      <th>RBP</th>\n",
       "      <td>0.223468</td>\n",
       "      <td>0.158808</td>\n",
       "      <td>0.217678</td>\n",
       "    </tr>\n",
       "    <tr>\n",
       "      <th>RecipRank</th>\n",
       "      <td>0.527108</td>\n",
       "      <td>0.500000</td>\n",
       "      <td>0.438996</td>\n",
       "    </tr>\n",
       "    <tr>\n",
       "      <th rowspan=\"3\" valign=\"top\">Bias</th>\n",
       "      <th>NDCG</th>\n",
       "      <td>0.122468</td>\n",
       "      <td>0.108842</td>\n",
       "      <td>0.095923</td>\n",
       "    </tr>\n",
       "    <tr>\n",
       "      <th>RBP</th>\n",
       "      <td>0.226528</td>\n",
       "      <td>0.162843</td>\n",
       "      <td>0.217737</td>\n",
       "    </tr>\n",
       "    <tr>\n",
       "      <th>RecipRank</th>\n",
       "      <td>0.542384</td>\n",
       "      <td>0.500000</td>\n",
       "      <td>0.439935</td>\n",
       "    </tr>\n",
       "    <tr>\n",
       "      <th rowspan=\"3\" valign=\"top\">IALS</th>\n",
       "      <th>NDCG</th>\n",
       "      <td>0.042983</td>\n",
       "      <td>0.022689</td>\n",
       "      <td>0.067086</td>\n",
       "    </tr>\n",
       "    <tr>\n",
       "      <th>RBP</th>\n",
       "      <td>0.035575</td>\n",
       "      <td>0.001018</td>\n",
       "      <td>0.108561</td>\n",
       "    </tr>\n",
       "    <tr>\n",
       "      <th>RecipRank</th>\n",
       "      <td>0.081426</td>\n",
       "      <td>0.030303</td>\n",
       "      <td>0.187797</td>\n",
       "    </tr>\n",
       "    <tr>\n",
       "      <th rowspan=\"3\" valign=\"top\">IIE</th>\n",
       "      <th>NDCG</th>\n",
       "      <td>0.008394</td>\n",
       "      <td>0.000000</td>\n",
       "      <td>0.026761</td>\n",
       "    </tr>\n",
       "    <tr>\n",
       "      <th>RBP</th>\n",
       "      <td>0.007472</td>\n",
       "      <td>0.000000</td>\n",
       "      <td>0.041989</td>\n",
       "    </tr>\n",
       "    <tr>\n",
       "      <th>RecipRank</th>\n",
       "      <td>0.017134</td>\n",
       "      <td>0.000000</td>\n",
       "      <td>0.082209</td>\n",
       "    </tr>\n",
       "    <tr>\n",
       "      <th rowspan=\"3\" valign=\"top\">III</th>\n",
       "      <th>NDCG</th>\n",
       "      <td>0.034176</td>\n",
       "      <td>0.000000</td>\n",
       "      <td>0.092084</td>\n",
       "    </tr>\n",
       "    <tr>\n",
       "      <th>RBP</th>\n",
       "      <td>0.047779</td>\n",
       "      <td>0.000000</td>\n",
       "      <td>0.150655</td>\n",
       "    </tr>\n",
       "    <tr>\n",
       "      <th>RecipRank</th>\n",
       "      <td>0.082717</td>\n",
       "      <td>0.000000</td>\n",
       "      <td>0.242442</td>\n",
       "    </tr>\n",
       "    <tr>\n",
       "      <th rowspan=\"3\" valign=\"top\">Pop</th>\n",
       "      <th>NDCG</th>\n",
       "      <td>0.207656</td>\n",
       "      <td>0.192260</td>\n",
       "      <td>0.156670</td>\n",
       "    </tr>\n",
       "    <tr>\n",
       "      <th>RBP</th>\n",
       "      <td>0.383919</td>\n",
       "      <td>0.325337</td>\n",
       "      <td>0.330449</td>\n",
       "    </tr>\n",
       "    <tr>\n",
       "      <th>RecipRank</th>\n",
       "      <td>0.577445</td>\n",
       "      <td>0.500000</td>\n",
       "      <td>0.426818</td>\n",
       "    </tr>\n",
       "    <tr>\n",
       "      <th rowspan=\"3\" valign=\"top\">UUE</th>\n",
       "      <th>NDCG</th>\n",
       "      <td>0.007588</td>\n",
       "      <td>0.000000</td>\n",
       "      <td>0.022640</td>\n",
       "    </tr>\n",
       "    <tr>\n",
       "      <th>RBP</th>\n",
       "      <td>0.004828</td>\n",
       "      <td>0.000000</td>\n",
       "      <td>0.027005</td>\n",
       "    </tr>\n",
       "    <tr>\n",
       "      <th>RecipRank</th>\n",
       "      <td>0.010990</td>\n",
       "      <td>0.000000</td>\n",
       "      <td>0.042649</td>\n",
       "    </tr>\n",
       "  </tbody>\n",
       "</table>\n",
       "</div>"
      ],
      "text/plain": [
       "                     mean    median       std\n",
       "model                                        \n",
       "ALS   NDCG       0.121753  0.107308  0.095810\n",
       "      RBP        0.223468  0.158808  0.217678\n",
       "      RecipRank  0.527108  0.500000  0.438996\n",
       "Bias  NDCG       0.122468  0.108842  0.095923\n",
       "      RBP        0.226528  0.162843  0.217737\n",
       "      RecipRank  0.542384  0.500000  0.439935\n",
       "IALS  NDCG       0.042983  0.022689  0.067086\n",
       "      RBP        0.035575  0.001018  0.108561\n",
       "      RecipRank  0.081426  0.030303  0.187797\n",
       "IIE   NDCG       0.008394  0.000000  0.026761\n",
       "      RBP        0.007472  0.000000  0.041989\n",
       "      RecipRank  0.017134  0.000000  0.082209\n",
       "III   NDCG       0.034176  0.000000  0.092084\n",
       "      RBP        0.047779  0.000000  0.150655\n",
       "      RecipRank  0.082717  0.000000  0.242442\n",
       "Pop   NDCG       0.207656  0.192260  0.156670\n",
       "      RBP        0.383919  0.325337  0.330449\n",
       "      RecipRank  0.577445  0.500000  0.426818\n",
       "UUE   NDCG       0.007588  0.000000  0.022640\n",
       "      RBP        0.004828  0.000000  0.027005\n",
       "      RecipRank  0.010990  0.000000  0.042649"
      ]
     },
     "execution_count": 14,
     "metadata": {},
     "output_type": "execute_result"
    }
   ],
   "source": [
    "ra = RunAnalysis()\n",
    "\n",
    "ra.add_metric(NDCG())\n",
    "ra.add_metric(RecipRank())\n",
    "ra.add_metric(RBP())\n",
    "\n",
    "rec_results = ra.compute(recs, test)\n",
    "rec_results.list_summary('model')"
   ]
  },
  {
   "cell_type": "markdown",
   "id": "3f0d53d0",
   "metadata": {
    "papermill": {
     "duration": 0.001594,
     "end_time": "2025-02-22T22:41:39.927630",
     "exception": false,
     "start_time": "2025-02-22T22:41:39.926036",
     "status": "completed"
    },
    "tags": []
   },
   "source": [
    "We can reshape the list metrics and plot them, after filtering to only users with at least 1 training rating:"
   ]
  },
  {
   "cell_type": "code",
   "execution_count": 15,
   "id": "502397c1",
   "metadata": {
    "execution": {
     "iopub.execute_input": "2025-02-22T22:41:39.931347Z",
     "iopub.status.busy": "2025-02-22T22:41:39.931266Z",
     "iopub.status.idle": "2025-02-22T22:41:40.453075Z",
     "shell.execute_reply": "2025-02-22T22:41:40.452801Z"
    },
    "papermill": {
     "duration": 0.524522,
     "end_time": "2025-02-22T22:41:40.453792",
     "exception": false,
     "start_time": "2025-02-22T22:41:39.929270",
     "status": "completed"
    },
    "tags": []
   },
   "outputs": [
    {
     "data": {
      "image/png": "[encoded data removed]",
      "text/plain": [
       "<Figure size 1511.11x500 with 3 Axes>"
      ]
     },
     "metadata": {},
     "output_type": "display_data"
    }
   ],
   "source": [
    "metrics = rec_results.list_metrics()\n",
    "metrics = metrics.melt(var_name='metric', ignore_index=False).reset_index()\n",
    "metrics = metrics[metrics['user_id'].isin(train_users.index)]\n",
    "sns.catplot(metrics, x='model', y='value', col='metric', kind='bar')\n",
    "plt.show()"
   ]
  },
  {
   "cell_type": "markdown",
   "id": "d1c9fd07",
   "metadata": {
    "papermill": {
     "duration": 0.008915,
     "end_time": "2025-02-22T22:41:40.464716",
     "exception": false,
     "start_time": "2025-02-22T22:41:40.455801",
     "status": "completed"
    },
    "tags": []
   },
   "source": [
    "Let's look at the influence of training ratings on performance, clamping 15+ into a single category:"
   ]
  },
  {
   "cell_type": "code",
   "execution_count": 16,
   "id": "2c606bcf",
   "metadata": {
    "execution": {
     "iopub.execute_input": "2025-02-22T22:41:40.468626Z",
     "iopub.status.busy": "2025-02-22T22:41:40.468544Z",
     "iopub.status.idle": "2025-02-22T22:41:41.278670Z",
     "shell.execute_reply": "2025-02-22T22:41:41.278495Z"
    },
    "papermill": {
     "duration": 0.812764,
     "end_time": "2025-02-22T22:41:41.279193",
     "exception": false,
     "start_time": "2025-02-22T22:41:40.466429",
     "status": "completed"
    },
    "tags": []
   },
   "outputs": [
    {
     "data": {
      "image/png": "[encoded data removed]",
      "text/plain": [
       "<Figure size 640x480 with 1 Axes>"
      ]
     },
     "metadata": {},
     "output_type": "display_data"
    }
   ],
   "source": [
    "tcounts = split.train.user_stats()['rating_count'].copy()\n",
    "tcounts[tcounts > 15] = 15\n",
    "metrics = rec_results.list_metrics().reset_index().join(tcounts, on='user_id')\n",
    "sns.lineplot(metrics, x='rating_count', y='NDCG', hue='model', errorbar='ci')\n",
    "plt.xlabel('# of Training Ratings')\n",
    "rc_ticks = np.arange(0, 16, 3)\n",
    "plt.xticks(rc_ticks, rc_ticks[:-1].tolist() + ['15+'])\n",
    "plt.show()"
   ]
  },
  {
   "cell_type": "markdown",
   "id": "ed6e858c",
   "metadata": {
    "papermill": {
     "duration": 0.008878,
     "end_time": "2025-02-22T22:41:41.290367",
     "exception": false,
     "start_time": "2025-02-22T22:41:41.281489",
     "status": "completed"
    },
    "tags": []
   },
   "source": [
    "## Prediction RMSE\n",
    "\n",
    "We will also look at the prediction RMSE."
   ]
  },
  {
   "cell_type": "code",
   "execution_count": 17,
   "id": "b1f49098",
   "metadata": {
    "execution": {
     "iopub.execute_input": "2025-02-22T22:41:41.294876Z",
     "iopub.status.busy": "2025-02-22T22:41:41.294796Z",
     "iopub.status.idle": "2025-02-22T22:41:50.193056Z",
     "shell.execute_reply": "2025-02-22T22:41:50.192821Z"
    },
    "papermill": {
     "duration": 8.901273,
     "end_time": "2025-02-22T22:41:50.193635",
     "exception": false,
     "start_time": "2025-02-22T22:41:41.292362",
     "status": "completed"
    },
    "tags": []
   },
   "outputs": [
    {
     "name": "stderr",
     "output_type": "stream",
     "text": [
      "/home/mde48/lenskit/lk-demo-experiment/.venv/lib/python3.13/site-packages/lenskit/metrics/bulk.py:127: FutureWarning: The previous implementation of stack is deprecated and will be removed in a future version of pandas. See the What's New notes for pandas 2.1.0 for details. Specify future_stack=True to adopt the new implementation and silence this warning.\n",
      "  df = scores.groupby(list(keys)).agg([\"mean\", \"median\", \"std\"]).stack(level=0)\n"
     ]
    },
    {
     "data": {
      "text/html": [
       "<div>\n",
       "<style scoped>\n",
       "    .dataframe tbody tr th:only-of-type {\n",
       "        vertical-align: middle;\n",
       "    }\n",
       "\n",
       "    .dataframe tbody tr th {\n",
       "        vertical-align: top;\n",
       "    }\n",
       "\n",
       "    .dataframe thead th {\n",
       "        text-align: right;\n",
       "    }\n",
       "</style>\n",
       "<table border=\"1\" class=\"dataframe\">\n",
       "  <thead>\n",
       "    <tr style=\"text-align: right;\">\n",
       "      <th></th>\n",
       "      <th></th>\n",
       "      <th>mean</th>\n",
       "      <th>median</th>\n",
       "      <th>std</th>\n",
       "    </tr>\n",
       "    <tr>\n",
       "      <th>model</th>\n",
       "      <th></th>\n",
       "      <th></th>\n",
       "      <th></th>\n",
       "      <th></th>\n",
       "    </tr>\n",
       "  </thead>\n",
       "  <tbody>\n",
       "    <tr>\n",
       "      <th>ALS</th>\n",
       "      <th>RMSE</th>\n",
       "      <td>0.903379</td>\n",
       "      <td>0.850329</td>\n",
       "      <td>0.303010</td>\n",
       "    </tr>\n",
       "    <tr>\n",
       "      <th>Bias</th>\n",
       "      <th>RMSE</th>\n",
       "      <td>0.908350</td>\n",
       "      <td>0.854235</td>\n",
       "      <td>0.301733</td>\n",
       "    </tr>\n",
       "    <tr>\n",
       "      <th>IIE</th>\n",
       "      <th>RMSE</th>\n",
       "      <td>0.903569</td>\n",
       "      <td>0.850261</td>\n",
       "      <td>0.304478</td>\n",
       "    </tr>\n",
       "    <tr>\n",
       "      <th>UUE</th>\n",
       "      <th>RMSE</th>\n",
       "      <td>0.908947</td>\n",
       "      <td>0.854993</td>\n",
       "      <td>0.303898</td>\n",
       "    </tr>\n",
       "  </tbody>\n",
       "</table>\n",
       "</div>"
      ],
      "text/plain": [
       "                mean    median       std\n",
       "model                                   \n",
       "ALS   RMSE  0.903379  0.850329  0.303010\n",
       "Bias  RMSE  0.908350  0.854235  0.301733\n",
       "IIE   RMSE  0.903569  0.850261  0.304478\n",
       "UUE   RMSE  0.908947  0.854993  0.303898"
      ]
     },
     "execution_count": 17,
     "metadata": {},
     "output_type": "execute_result"
    }
   ],
   "source": [
    "pa = RunAnalysis()\n",
    "\n",
    "pa.add_metric(RMSE(missing_scores='ignore', missing_truth='ignore'))\n",
    "\n",
    "pred_results = pa.compute(preds, test)\n",
    "pred_results.list_summary('model')"
   ]
  },
  {
   "cell_type": "code",
   "execution_count": 18,
   "id": "550b1e9e",
   "metadata": {
    "execution": {
     "iopub.execute_input": "2025-02-22T22:41:50.205307Z",
     "iopub.status.busy": "2025-02-22T22:41:50.205216Z",
     "iopub.status.idle": "2025-02-22T22:41:50.323161Z",
     "shell.execute_reply": "2025-02-22T22:41:50.322889Z"
    },
    "papermill": {
     "duration": 0.127807,
     "end_time": "2025-02-22T22:41:50.323671",
     "exception": false,
     "start_time": "2025-02-22T22:41:50.195864",
     "status": "completed"
    },
    "tags": []
   },
   "outputs": [
    {
     "data": {
      "image/png": "[encoded data removed]",
      "text/plain": [
       "<Figure size 511.111x500 with 1 Axes>"
      ]
     },
     "metadata": {},
     "output_type": "display_data"
    }
   ],
   "source": [
    "pred_metrics = pred_results.list_metrics().reset_index()\n",
    "pred_metrics = pred_metrics[pred_metrics['user_id'].isin(train_users.index)]\n",
    "sns.catplot(pred_metrics, x='model', y='RMSE', kind='bar')\n",
    "plt.show()"
   ]
  },
  {
   "cell_type": "markdown",
   "id": "d87127d7",
   "metadata": {
    "papermill": {
     "duration": 0.008712,
     "end_time": "2025-02-22T22:41:50.334624",
     "exception": false,
     "start_time": "2025-02-22T22:41:50.325912",
     "status": "completed"
    },
    "tags": []
   },
   "source": [
    "## Save Metrics\n",
    "\n",
    "We'll now save the metrics to a file."
   ]
  },
  {
   "cell_type": "code",
   "execution_count": 19,
   "id": "c022814e",
   "metadata": {
    "execution": {
     "iopub.execute_input": "2025-02-22T22:41:50.339416Z",
     "iopub.status.busy": "2025-02-22T22:41:50.339317Z",
     "iopub.status.idle": "2025-02-22T22:41:50.352363Z",
     "shell.execute_reply": "2025-02-22T22:41:50.352169Z"
    },
    "papermill": {
     "duration": 0.016049,
     "end_time": "2025-02-22T22:41:50.352829",
     "exception": false,
     "start_time": "2025-02-22T22:41:50.336780",
     "status": "completed"
    },
    "tags": []
   },
   "outputs": [
    {
     "name": "stderr",
     "output_type": "stream",
     "text": [
      "/home/mde48/lenskit/lk-demo-experiment/.venv/lib/python3.13/site-packages/lenskit/metrics/bulk.py:127: FutureWarning: The previous implementation of stack is deprecated and will be removed in a future version of pandas. See the What's New notes for pandas 2.1.0 for details. Specify future_stack=True to adopt the new implementation and silence this warning.\n",
      "  df = scores.groupby(list(keys)).agg([\"mean\", \"median\", \"std\"]).stack(level=0)\n"
     ]
    },
    {
     "data": {
      "text/html": [
       "<div>\n",
       "<style scoped>\n",
       "    .dataframe tbody tr th:only-of-type {\n",
       "        vertical-align: middle;\n",
       "    }\n",
       "\n",
       "    .dataframe tbody tr th {\n",
       "        vertical-align: top;\n",
       "    }\n",
       "\n",
       "    .dataframe thead th {\n",
       "        text-align: right;\n",
       "    }\n",
       "</style>\n",
       "<table border=\"1\" class=\"dataframe\">\n",
       "  <thead>\n",
       "    <tr style=\"text-align: right;\">\n",
       "      <th></th>\n",
       "      <th>NDCG</th>\n",
       "      <th>RBP</th>\n",
       "      <th>RecipRank</th>\n",
       "    </tr>\n",
       "    <tr>\n",
       "      <th>model</th>\n",
       "      <th></th>\n",
       "      <th></th>\n",
       "      <th></th>\n",
       "    </tr>\n",
       "  </thead>\n",
       "  <tbody>\n",
       "    <tr>\n",
       "      <th>ALS</th>\n",
       "      <td>0.121753</td>\n",
       "      <td>0.223468</td>\n",
       "      <td>0.527108</td>\n",
       "    </tr>\n",
       "    <tr>\n",
       "      <th>Bias</th>\n",
       "      <td>0.122468</td>\n",
       "      <td>0.226528</td>\n",
       "      <td>0.542384</td>\n",
       "    </tr>\n",
       "    <tr>\n",
       "      <th>IALS</th>\n",
       "      <td>0.042983</td>\n",
       "      <td>0.035575</td>\n",
       "      <td>0.081426</td>\n",
       "    </tr>\n",
       "    <tr>\n",
       "      <th>IIE</th>\n",
       "      <td>0.008394</td>\n",
       "      <td>0.007472</td>\n",
       "      <td>0.017134</td>\n",
       "    </tr>\n",
       "    <tr>\n",
       "      <th>III</th>\n",
       "      <td>0.034176</td>\n",
       "      <td>0.047779</td>\n",
       "      <td>0.082717</td>\n",
       "    </tr>\n",
       "    <tr>\n",
       "      <th>Pop</th>\n",
       "      <td>0.207656</td>\n",
       "      <td>0.383919</td>\n",
       "      <td>0.577445</td>\n",
       "    </tr>\n",
       "    <tr>\n",
       "      <th>UUE</th>\n",
       "      <td>0.007588</td>\n",
       "      <td>0.004828</td>\n",
       "      <td>0.010990</td>\n",
       "    </tr>\n",
       "  </tbody>\n",
       "</table>\n",
       "</div>"
      ],
      "text/plain": [
       "           NDCG       RBP  RecipRank\n",
       "model                               \n",
       "ALS    0.121753  0.223468   0.527108\n",
       "Bias   0.122468  0.226528   0.542384\n",
       "IALS   0.042983  0.035575   0.081426\n",
       "IIE    0.008394  0.007472   0.017134\n",
       "III    0.034176  0.047779   0.082717\n",
       "Pop    0.207656  0.383919   0.577445\n",
       "UUE    0.007588  0.004828   0.010990"
      ]
     },
     "execution_count": 19,
     "metadata": {},
     "output_type": "execute_result"
    }
   ],
   "source": [
    "rlsum = rec_results.list_summary('model')['mean'].unstack()\n",
    "rlsum"
   ]
  },
  {
   "cell_type": "code",
   "execution_count": 20,
   "id": "64a6ae31",
   "metadata": {
    "execution": {
     "iopub.execute_input": "2025-02-22T22:41:50.357896Z",
     "iopub.status.busy": "2025-02-22T22:41:50.357813Z",
     "iopub.status.idle": "2025-02-22T22:41:50.360113Z",
     "shell.execute_reply": "2025-02-22T22:41:50.359944Z"
    },
    "papermill": {
     "duration": 0.0053,
     "end_time": "2025-02-22T22:41:50.360600",
     "exception": false,
     "start_time": "2025-02-22T22:41:50.355300",
     "status": "completed"
    },
    "tags": []
   },
   "outputs": [],
   "source": [
    "rlsum.to_json(f'eval-metrics.{dataset}.json', orient='index')"
   ]
  }
 ],
 "metadata": {
  "jupytext": {
   "formats": "ipynb,md",
   "notebook_metadata_filter": "split_at_heading"
  },
  "kernelspec": {
   "display_name": ".venv",
   "language": "python",
   "name": "python3"
  },
  "language_info": {
   "codemirror_mode": {
    "name": "ipython",
    "version": 3
   },
   "file_extension": ".py",
   "mimetype": "text/x-python",
   "name": "python",
   "nbconvert_exporter": "python",
   "pygments_lexer": "ipython3",
   "version": "3.13.2"
  },
  "papermill": {
   "default_parameters": {},
   "duration": 28.133334,
   "end_time": "2025-02-22T22:41:51.278062",
   "environment_variables": {},
   "exception": null,
   "input_path": "eval-report.ipynb",
   "output_path": "eval-report.ml-10m.ipynb",
   "parameters": {
    "dataset": "ml-10m"
   },
   "start_time": "2025-02-22T22:41:23.144728",
   "version": "2.6.0"
  },
  "split_at_heading": true
 },
 "nbformat": 4,
 "nbformat_minor": 5
}