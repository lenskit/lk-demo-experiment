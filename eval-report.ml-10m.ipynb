{
 "cells": [
  {
   "cell_type": "markdown",
   "id": "605fd33a",
   "metadata": {
    "papermill": {
     "duration": 0.010458,
     "end_time": "2025-02-06T18:06:43.253413",
     "exception": false,
     "start_time": "2025-02-06T18:06:43.242955",
     "status": "completed"
    },
    "tags": []
   },
   "source": [
    "# Evaluation Analysis for Recommender Output"
   ]
  },
  {
   "cell_type": "markdown",
   "id": "60583352",
   "metadata": {
    "papermill": {
     "duration": 0.001129,
     "end_time": "2025-02-06T18:06:43.255949",
     "exception": false,
     "start_time": "2025-02-06T18:06:43.254820",
     "status": "completed"
    },
    "tags": []
   },
   "source": [
    "In this section we will analyze and compare the generated recommendations and predictions from a predefined list of algorithms with the goal of assessing the performance of each algorithm with respect to a metric. In other words, we would rank the algorithms for each metric considered with respect to performance."
   ]
  },
  {
   "cell_type": "markdown",
   "id": "4bb6a3e7",
   "metadata": {
    "papermill": {
     "duration": 0.001084,
     "end_time": "2025-02-06T18:06:43.258143",
     "exception": false,
     "start_time": "2025-02-06T18:06:43.257059",
     "status": "completed"
    },
    "tags": []
   },
   "source": [
    "## Setup"
   ]
  },
  {
   "cell_type": "markdown",
   "id": "d10343e5",
   "metadata": {
    "papermill": {
     "duration": 0.001199,
     "end_time": "2025-02-06T18:06:43.260458",
     "exception": false,
     "start_time": "2025-02-06T18:06:43.259259",
     "status": "completed"
    },
    "tags": []
   },
   "source": [
    "Below are the list of packages required to successfully run the analysis. They are divided into partitions to signify their specific task.<br>\n",
    "We need the pathlib package for working with files and folders"
   ]
  },
  {
   "cell_type": "code",
   "execution_count": 1,
   "id": "e366c574",
   "metadata": {
    "execution": {
     "iopub.execute_input": "2025-02-06T18:06:43.263343Z",
     "iopub.status.busy": "2025-02-06T18:06:43.263248Z",
     "iopub.status.idle": "2025-02-06T18:06:43.265336Z",
     "shell.execute_reply": "2025-02-06T18:06:43.265007Z"
    },
    "papermill": {
     "duration": 0.004117,
     "end_time": "2025-02-06T18:06:43.265688",
     "exception": false,
     "start_time": "2025-02-06T18:06:43.261571",
     "status": "completed"
    },
    "tags": []
   },
   "outputs": [],
   "source": [
    "from pathlib import Path\n",
    "import json"
   ]
  },
  {
   "cell_type": "markdown",
   "id": "f5cd5e83",
   "metadata": {
    "papermill": {
     "duration": 0.001159,
     "end_time": "2025-02-06T18:06:43.268072",
     "exception": false,
     "start_time": "2025-02-06T18:06:43.266913",
     "status": "completed"
    },
    "tags": []
   },
   "source": [
    "We would use the pandas for analyzing and manipulating our data while seaborn and matplotlib are used for data visualization. statsmodels.graphics.gofplots and scipy.stats.shapiro are used for normality check. Scipy.stats.friedmanchisquare is a non-parametric test used to determine the statistical significance in metric results and the wilcoxon test is used for pairwise comparison of sample data."
   ]
  },
  {
   "cell_type": "code",
   "execution_count": 2,
   "id": "35c4aa1e",
   "metadata": {
    "execution": {
     "iopub.execute_input": "2025-02-06T18:06:43.270700Z",
     "iopub.status.busy": "2025-02-06T18:06:43.270633Z",
     "iopub.status.idle": "2025-02-06T18:06:43.762089Z",
     "shell.execute_reply": "2025-02-06T18:06:43.761563Z"
    },
    "lines_to_next_cell": 2,
    "papermill": {
     "duration": 0.493737,
     "end_time": "2025-02-06T18:06:43.763027",
     "exception": false,
     "start_time": "2025-02-06T18:06:43.269290",
     "status": "completed"
    },
    "tags": []
   },
   "outputs": [],
   "source": [
    "import pandas as pd\n",
    "import seaborn as sns\n",
    "import matplotlib.pyplot as plt\n",
    "from statsmodels.graphics.gofplots import qqplot\n",
    "from scipy.stats import shapiro\n",
    "from scipy.stats import friedmanchisquare, wilcoxon\n",
    "from itertools import combinations"
   ]
  },
  {
   "cell_type": "markdown",
   "id": "b77c1db0",
   "metadata": {
    "papermill": {
     "duration": 0.008894,
     "end_time": "2025-02-06T18:06:43.773420",
     "exception": false,
     "start_time": "2025-02-06T18:06:43.764526",
     "status": "completed"
    },
    "tags": []
   },
   "source": [
    "Import the LensKit metrics for analysis:"
   ]
  },
  {
   "cell_type": "code",
   "execution_count": 3,
   "id": "86454f14",
   "metadata": {
    "execution": {
     "iopub.execute_input": "2025-02-06T18:06:43.776433Z",
     "iopub.status.busy": "2025-02-06T18:06:43.776306Z",
     "iopub.status.idle": "2025-02-06T18:06:44.408956Z",
     "shell.execute_reply": "2025-02-06T18:06:44.408551Z"
    },
    "papermill": {
     "duration": 0.635115,
     "end_time": "2025-02-06T18:06:44.409873",
     "exception": false,
     "start_time": "2025-02-06T18:06:43.774758",
     "status": "completed"
    },
    "tags": []
   },
   "outputs": [],
   "source": [
    "from lenskit.data import Dataset, ItemListCollection, UserIDKey\n",
    "from lenskit.metrics import RunAnalysis, RMSE, NDCG, RecipRank, RBP"
   ]
  },
  {
   "cell_type": "code",
   "execution_count": 4,
   "id": "1b539163",
   "metadata": {
    "execution": {
     "iopub.execute_input": "2025-02-06T18:06:44.421097Z",
     "iopub.status.busy": "2025-02-06T18:06:44.421019Z",
     "iopub.status.idle": "2025-02-06T18:06:44.423777Z",
     "shell.execute_reply": "2025-02-06T18:06:44.423539Z"
    },
    "papermill": {
     "duration": 0.012826,
     "end_time": "2025-02-06T18:06:44.424325",
     "exception": false,
     "start_time": "2025-02-06T18:06:44.411499",
     "status": "completed"
    },
    "tags": []
   },
   "outputs": [],
   "source": [
    "from lkdemo.datasets import split_fraction"
   ]
  },
  {
   "cell_type": "markdown",
   "id": "db65cf61",
   "metadata": {
    "papermill": {
     "duration": 0.001175,
     "end_time": "2025-02-06T18:06:44.426810",
     "exception": false,
     "start_time": "2025-02-06T18:06:44.425635",
     "status": "completed"
    },
    "tags": []
   },
   "source": [
    "## Load Data\n",
    "\n",
    "The recommendations are in `runs`, and we will need to reassemble the test data from `test`."
   ]
  },
  {
   "cell_type": "code",
   "execution_count": 5,
   "id": "de8c0535",
   "metadata": {
    "execution": {
     "iopub.execute_input": "2025-02-06T18:06:44.429626Z",
     "iopub.status.busy": "2025-02-06T18:06:44.429464Z",
     "iopub.status.idle": "2025-02-06T18:06:44.430938Z",
     "shell.execute_reply": "2025-02-06T18:06:44.430710Z"
    },
    "papermill": {
     "duration": 0.003341,
     "end_time": "2025-02-06T18:06:44.431342",
     "exception": false,
     "start_time": "2025-02-06T18:06:44.428001",
     "status": "completed"
    },
    "tags": [
     "parameters"
    ]
   },
   "outputs": [],
   "source": [
    "dataset = \"ml-100k\""
   ]
  },
  {
   "cell_type": "code",
   "execution_count": 6,
   "id": "687d96fc",
   "metadata": {
    "execution": {
     "iopub.execute_input": "2025-02-06T18:06:44.434151Z",
     "iopub.status.busy": "2025-02-06T18:06:44.433984Z",
     "iopub.status.idle": "2025-02-06T18:06:44.435386Z",
     "shell.execute_reply": "2025-02-06T18:06:44.435168Z"
    },
    "papermill": {
     "duration": 0.00327,
     "end_time": "2025-02-06T18:06:44.435851",
     "exception": false,
     "start_time": "2025-02-06T18:06:44.432581",
     "status": "completed"
    },
    "tags": [
     "injected-parameters"
    ]
   },
   "outputs": [],
   "source": [
    "# Parameters\n",
    "dataset = \"ml-10m\"\n"
   ]
  },
  {
   "cell_type": "code",
   "execution_count": 7,
   "id": "f5ea83f3",
   "metadata": {
    "execution": {
     "iopub.execute_input": "2025-02-06T18:06:44.438575Z",
     "iopub.status.busy": "2025-02-06T18:06:44.438502Z",
     "iopub.status.idle": "2025-02-06T18:06:44.440009Z",
     "shell.execute_reply": "2025-02-06T18:06:44.439792Z"
    },
    "papermill": {
     "duration": 0.003367,
     "end_time": "2025-02-06T18:06:44.440453",
     "exception": false,
     "start_time": "2025-02-06T18:06:44.437086",
     "status": "completed"
    },
    "tags": []
   },
   "outputs": [],
   "source": [
    "output_root = Path(\"runs\")"
   ]
  },
  {
   "cell_type": "code",
   "execution_count": 8,
   "id": "327f8a13",
   "metadata": {
    "execution": {
     "iopub.execute_input": "2025-02-06T18:06:44.443277Z",
     "iopub.status.busy": "2025-02-06T18:06:44.443171Z",
     "iopub.status.idle": "2025-02-06T18:06:44.444823Z",
     "shell.execute_reply": "2025-02-06T18:06:44.444598Z"
    },
    "papermill": {
     "duration": 0.003691,
     "end_time": "2025-02-06T18:06:44.445382",
     "exception": false,
     "start_time": "2025-02-06T18:06:44.441691",
     "status": "completed"
    },
    "tags": []
   },
   "outputs": [],
   "source": [
    "dirs = [fld for fld in output_root.glob(f'{dataset}-*')]"
   ]
  },
  {
   "cell_type": "code",
   "execution_count": 9,
   "id": "a0d58d42",
   "metadata": {
    "execution": {
     "iopub.execute_input": "2025-02-06T18:06:44.448159Z",
     "iopub.status.busy": "2025-02-06T18:06:44.448084Z",
     "iopub.status.idle": "2025-02-06T18:06:46.548048Z",
     "shell.execute_reply": "2025-02-06T18:06:46.547675Z"
    },
    "papermill": {
     "duration": 2.10224,
     "end_time": "2025-02-06T18:06:46.548875",
     "exception": false,
     "start_time": "2025-02-06T18:06:44.446635",
     "status": "completed"
    },
    "tags": []
   },
   "outputs": [],
   "source": [
    "recs = ItemListCollection(['model', 'user_id'], index=False)\n",
    "for fld in dirs:\n",
    "    for file in fld.glob(\"recs-*\"):\n",
    "        rec = ItemListCollection.load_parquet(file)\n",
    "        recs.add_from(rec, model=fld.name.split(\"-\")[-1])"
   ]
  },
  {
   "cell_type": "code",
   "execution_count": 10,
   "id": "68039a12",
   "metadata": {
    "execution": {
     "iopub.execute_input": "2025-02-06T18:06:46.560286Z",
     "iopub.status.busy": "2025-02-06T18:06:46.560195Z",
     "iopub.status.idle": "2025-02-06T18:06:46.571334Z",
     "shell.execute_reply": "2025-02-06T18:06:46.571080Z"
    },
    "papermill": {
     "duration": 0.021189,
     "end_time": "2025-02-06T18:06:46.571659",
     "exception": false,
     "start_time": "2025-02-06T18:06:46.550470",
     "status": "completed"
    },
    "tags": []
   },
   "outputs": [
    {
     "data": {
      "text/plain": [
       "['ALS', 'Bias', 'IALS', 'IIE', 'III', 'Pop', 'UUE']"
      ]
     },
     "execution_count": 10,
     "metadata": {},
     "output_type": "execute_result"
    }
   ],
   "source": [
    "rec_algos = sorted(set(a for (a, _u) in recs.keys()))\n",
    "rec_algos"
   ]
  },
  {
   "cell_type": "code",
   "execution_count": 11,
   "id": "6ec8ce31",
   "metadata": {
    "execution": {
     "iopub.execute_input": "2025-02-06T18:06:46.574699Z",
     "iopub.status.busy": "2025-02-06T18:06:46.574629Z",
     "iopub.status.idle": "2025-02-06T18:06:48.459892Z",
     "shell.execute_reply": "2025-02-06T18:06:48.459473Z"
    },
    "papermill": {
     "duration": 1.887546,
     "end_time": "2025-02-06T18:06:48.460631",
     "exception": false,
     "start_time": "2025-02-06T18:06:46.573085",
     "status": "completed"
    },
    "tags": []
   },
   "outputs": [],
   "source": [
    "preds = ItemListCollection(['model', 'user_id'], index=False)\n",
    "for fld in dirs:\n",
    "    for file in fld.glob(\"pred-*\"):\n",
    "        pred = ItemListCollection.load_parquet(file)\n",
    "        preds.add_from(pred, model=fld.name.split(\"-\")[-1])"
   ]
  },
  {
   "cell_type": "markdown",
   "id": "d7984c97",
   "metadata": {
    "papermill": {
     "duration": 0.00813,
     "end_time": "2025-02-06T18:06:48.470499",
     "exception": false,
     "start_time": "2025-02-06T18:06:48.462369",
     "status": "completed"
    },
    "tags": []
   },
   "source": [
    "We need to load the test data so that we have the ground truths for computing accuracy"
   ]
  },
  {
   "cell_type": "code",
   "execution_count": 12,
   "id": "edea330e",
   "metadata": {
    "execution": {
     "iopub.execute_input": "2025-02-06T18:06:48.473560Z",
     "iopub.status.busy": "2025-02-06T18:06:48.473463Z",
     "iopub.status.idle": "2025-02-06T18:06:50.048924Z",
     "shell.execute_reply": "2025-02-06T18:06:50.048616Z"
    },
    "papermill": {
     "duration": 1.577991,
     "end_time": "2025-02-06T18:06:50.049843",
     "exception": false,
     "start_time": "2025-02-06T18:06:48.471852",
     "status": "completed"
    },
    "tags": []
   },
   "outputs": [],
   "source": [
    "data = Dataset.load(f\"data/{dataset}\")\n",
    "split = split_fraction(data, 0.2)\n",
    "test = split.test"
   ]
  },
  {
   "cell_type": "markdown",
   "id": "8d267c49",
   "metadata": {
    "papermill": {
     "duration": 0.001387,
     "end_time": "2025-02-06T18:06:50.052908",
     "exception": false,
     "start_time": "2025-02-06T18:06:50.051521",
     "status": "completed"
    },
    "tags": []
   },
   "source": [
    "## Top-N Metrics\n",
    "\n",
    "`RunListAnalysis` computes metrics for recommendation results and takes care of\n",
    "matching recommendations and ground truth."
   ]
  },
  {
   "cell_type": "code",
   "execution_count": 13,
   "id": "5c468e42",
   "metadata": {
    "execution": {
     "iopub.execute_input": "2025-02-06T18:06:50.056048Z",
     "iopub.status.busy": "2025-02-06T18:06:50.055945Z",
     "iopub.status.idle": "2025-02-06T18:06:58.606873Z",
     "shell.execute_reply": "2025-02-06T18:06:58.606690Z"
    },
    "papermill": {
     "duration": 8.553086,
     "end_time": "2025-02-06T18:06:58.607375",
     "exception": false,
     "start_time": "2025-02-06T18:06:50.054289",
     "status": "completed"
    },
    "tags": []
   },
   "outputs": [
    {
     "name": "stderr",
     "output_type": "stream",
     "text": [
      "/home/mde48/lenskit/lk-demo-experiment/.venv/lib/python3.13/site-packages/lenskit/metrics/bulk.py:127: FutureWarning: The previous implementation of stack is deprecated and will be removed in a future version of pandas. See the What's New notes for pandas 2.1.0 for details. Specify future_stack=True to adopt the new implementation and silence this warning.\n",
      "  df = scores.groupby(list(keys)).agg([\"mean\", \"median\", \"std\"]).stack(level=0)\n"
     ]
    },
    {
     "data": {
      "text/html": [
       "<div>\n",
       "<style scoped>\n",
       "    .dataframe tbody tr th:only-of-type {\n",
       "        vertical-align: middle;\n",
       "    }\n",
       "\n",
       "    .dataframe tbody tr th {\n",
       "        vertical-align: top;\n",
       "    }\n",
       "\n",
       "    .dataframe thead th {\n",
       "        text-align: right;\n",
       "    }\n",
       "</style>\n",
       "<table border=\"1\" class=\"dataframe\">\n",
       "  <thead>\n",
       "    <tr style=\"text-align: right;\">\n",
       "      <th></th>\n",
       "      <th></th>\n",
       "      <th>mean</th>\n",
       "      <th>median</th>\n",
       "      <th>std</th>\n",
       "    </tr>\n",
       "    <tr>\n",
       "      <th>model</th>\n",
       "      <th></th>\n",
       "      <th></th>\n",
       "      <th></th>\n",
       "      <th></th>\n",
       "    </tr>\n",
       "  </thead>\n",
       "  <tbody>\n",
       "    <tr>\n",
       "      <th rowspan=\"3\" valign=\"top\">ALS</th>\n",
       "      <th>NDCG</th>\n",
       "      <td>0.121753</td>\n",
       "      <td>1.073078e-01</td>\n",
       "      <td>0.095810</td>\n",
       "    </tr>\n",
       "    <tr>\n",
       "      <th>RBP</th>\n",
       "      <td>0.365271</td>\n",
       "      <td>2.520142e-01</td>\n",
       "      <td>0.363638</td>\n",
       "    </tr>\n",
       "    <tr>\n",
       "      <th>RecipRank</th>\n",
       "      <td>0.527108</td>\n",
       "      <td>5.000000e-01</td>\n",
       "      <td>0.438996</td>\n",
       "    </tr>\n",
       "    <tr>\n",
       "      <th rowspan=\"3\" valign=\"top\">Bias</th>\n",
       "      <th>NDCG</th>\n",
       "      <td>0.122468</td>\n",
       "      <td>1.088416e-01</td>\n",
       "      <td>0.095923</td>\n",
       "    </tr>\n",
       "    <tr>\n",
       "      <th>RBP</th>\n",
       "      <td>0.376159</td>\n",
       "      <td>3.125076e-01</td>\n",
       "      <td>0.362753</td>\n",
       "    </tr>\n",
       "    <tr>\n",
       "      <th>RecipRank</th>\n",
       "      <td>0.542384</td>\n",
       "      <td>5.000000e-01</td>\n",
       "      <td>0.439935</td>\n",
       "    </tr>\n",
       "    <tr>\n",
       "      <th rowspan=\"3\" valign=\"top\">IALS</th>\n",
       "      <th>NDCG</th>\n",
       "      <td>0.042983</td>\n",
       "      <td>2.268893e-02</td>\n",
       "      <td>0.067086</td>\n",
       "    </tr>\n",
       "    <tr>\n",
       "      <th>RBP</th>\n",
       "      <td>0.032298</td>\n",
       "      <td>1.164153e-10</td>\n",
       "      <td>0.133089</td>\n",
       "    </tr>\n",
       "    <tr>\n",
       "      <th>RecipRank</th>\n",
       "      <td>0.081426</td>\n",
       "      <td>3.030303e-02</td>\n",
       "      <td>0.187797</td>\n",
       "    </tr>\n",
       "    <tr>\n",
       "      <th rowspan=\"3\" valign=\"top\">IIE</th>\n",
       "      <th>NDCG</th>\n",
       "      <td>0.008394</td>\n",
       "      <td>0.000000e+00</td>\n",
       "      <td>0.026761</td>\n",
       "    </tr>\n",
       "    <tr>\n",
       "      <th>RBP</th>\n",
       "      <td>0.005418</td>\n",
       "      <td>0.000000e+00</td>\n",
       "      <td>0.049844</td>\n",
       "    </tr>\n",
       "    <tr>\n",
       "      <th>RecipRank</th>\n",
       "      <td>0.017134</td>\n",
       "      <td>0.000000e+00</td>\n",
       "      <td>0.082209</td>\n",
       "    </tr>\n",
       "    <tr>\n",
       "      <th rowspan=\"3\" valign=\"top\">III</th>\n",
       "      <th>NDCG</th>\n",
       "      <td>0.034176</td>\n",
       "      <td>0.000000e+00</td>\n",
       "      <td>0.092084</td>\n",
       "    </tr>\n",
       "    <tr>\n",
       "      <th>RBP</th>\n",
       "      <td>0.053593</td>\n",
       "      <td>0.000000e+00</td>\n",
       "      <td>0.185789</td>\n",
       "    </tr>\n",
       "    <tr>\n",
       "      <th>RecipRank</th>\n",
       "      <td>0.082717</td>\n",
       "      <td>0.000000e+00</td>\n",
       "      <td>0.242442</td>\n",
       "    </tr>\n",
       "    <tr>\n",
       "      <th rowspan=\"3\" valign=\"top\">Pop</th>\n",
       "      <th>NDCG</th>\n",
       "      <td>0.207656</td>\n",
       "      <td>1.922601e-01</td>\n",
       "      <td>0.156670</td>\n",
       "    </tr>\n",
       "    <tr>\n",
       "      <th>RBP</th>\n",
       "      <td>0.452027</td>\n",
       "      <td>4.572917e-01</td>\n",
       "      <td>0.402692</td>\n",
       "    </tr>\n",
       "    <tr>\n",
       "      <th>RecipRank</th>\n",
       "      <td>0.577445</td>\n",
       "      <td>5.000000e-01</td>\n",
       "      <td>0.426818</td>\n",
       "    </tr>\n",
       "    <tr>\n",
       "      <th rowspan=\"3\" valign=\"top\">UUE</th>\n",
       "      <th>NDCG</th>\n",
       "      <td>0.007588</td>\n",
       "      <td>0.000000e+00</td>\n",
       "      <td>0.022640</td>\n",
       "    </tr>\n",
       "    <tr>\n",
       "      <th>RBP</th>\n",
       "      <td>0.001422</td>\n",
       "      <td>0.000000e+00</td>\n",
       "      <td>0.018602</td>\n",
       "    </tr>\n",
       "    <tr>\n",
       "      <th>RecipRank</th>\n",
       "      <td>0.010990</td>\n",
       "      <td>0.000000e+00</td>\n",
       "      <td>0.042649</td>\n",
       "    </tr>\n",
       "  </tbody>\n",
       "</table>\n",
       "</div>"
      ],
      "text/plain": [
       "                     mean        median       std\n",
       "model                                            \n",
       "ALS   NDCG       0.121753  1.073078e-01  0.095810\n",
       "      RBP        0.365271  2.520142e-01  0.363638\n",
       "      RecipRank  0.527108  5.000000e-01  0.438996\n",
       "Bias  NDCG       0.122468  1.088416e-01  0.095923\n",
       "      RBP        0.376159  3.125076e-01  0.362753\n",
       "      RecipRank  0.542384  5.000000e-01  0.439935\n",
       "IALS  NDCG       0.042983  2.268893e-02  0.067086\n",
       "      RBP        0.032298  1.164153e-10  0.133089\n",
       "      RecipRank  0.081426  3.030303e-02  0.187797\n",
       "IIE   NDCG       0.008394  0.000000e+00  0.026761\n",
       "      RBP        0.005418  0.000000e+00  0.049844\n",
       "      RecipRank  0.017134  0.000000e+00  0.082209\n",
       "III   NDCG       0.034176  0.000000e+00  0.092084\n",
       "      RBP        0.053593  0.000000e+00  0.185789\n",
       "      RecipRank  0.082717  0.000000e+00  0.242442\n",
       "Pop   NDCG       0.207656  1.922601e-01  0.156670\n",
       "      RBP        0.452027  4.572917e-01  0.402692\n",
       "      RecipRank  0.577445  5.000000e-01  0.426818\n",
       "UUE   NDCG       0.007588  0.000000e+00  0.022640\n",
       "      RBP        0.001422  0.000000e+00  0.018602\n",
       "      RecipRank  0.010990  0.000000e+00  0.042649"
      ]
     },
     "execution_count": 13,
     "metadata": {},
     "output_type": "execute_result"
    }
   ],
   "source": [
    "ra = RunAnalysis()\n",
    "\n",
    "ra.add_metric(NDCG())\n",
    "ra.add_metric(RecipRank())\n",
    "ra.add_metric(RBP())\n",
    "\n",
    "rec_results = ra.compute(recs, test)\n",
    "rec_results.list_summary('model')"
   ]
  },
  {
   "cell_type": "markdown",
   "id": "2cda0b8b",
   "metadata": {
    "papermill": {
     "duration": 0.009075,
     "end_time": "2025-02-06T18:06:58.618183",
     "exception": false,
     "start_time": "2025-02-06T18:06:58.609108",
     "status": "completed"
    },
    "tags": []
   },
   "source": [
    "We can reshape the list metrics and plot them:"
   ]
  },
  {
   "cell_type": "code",
   "execution_count": 14,
   "id": "2501e294",
   "metadata": {
    "execution": {
     "iopub.execute_input": "2025-02-06T18:06:58.621689Z",
     "iopub.status.busy": "2025-02-06T18:06:58.621570Z",
     "iopub.status.idle": "2025-02-06T18:06:59.749381Z",
     "shell.execute_reply": "2025-02-06T18:06:59.749111Z"
    },
    "papermill": {
     "duration": 1.130411,
     "end_time": "2025-02-06T18:06:59.750024",
     "exception": false,
     "start_time": "2025-02-06T18:06:58.619613",
     "status": "completed"
    },
    "tags": []
   },
   "outputs": [
    {
     "data": {
      "image/png": "[encoded data removed]",
      "text/plain": [
       "<Figure size 1511.11x500 with 3 Axes>"
      ]
     },
     "metadata": {},
     "output_type": "display_data"
    }
   ],
   "source": [
    "metrics = rec_results.list_metrics()\n",
    "metrics = metrics.melt(var_name='metric', ignore_index=False).reset_index()\n",
    "sns.catplot(metrics, x='model', y='value', col='metric', kind='bar')\n",
    "plt.show()"
   ]
  },
  {
   "cell_type": "markdown",
   "id": "993824c4",
   "metadata": {
    "papermill": {
     "duration": 0.009007,
     "end_time": "2025-02-06T18:06:59.760853",
     "exception": false,
     "start_time": "2025-02-06T18:06:59.751846",
     "status": "completed"
    },
    "tags": []
   },
   "source": [
    "## Prediction RMSE\n",
    "\n",
    "We will also look at the prediction RMSE."
   ]
  },
  {
   "cell_type": "code",
   "execution_count": 15,
   "id": "03e3a07f",
   "metadata": {
    "execution": {
     "iopub.execute_input": "2025-02-06T18:06:59.767367Z",
     "iopub.status.busy": "2025-02-06T18:06:59.767290Z",
     "iopub.status.idle": "2025-02-06T18:07:08.231991Z",
     "shell.execute_reply": "2025-02-06T18:07:08.231824Z"
    },
    "papermill": {
     "duration": 8.468936,
     "end_time": "2025-02-06T18:07:08.232809",
     "exception": false,
     "start_time": "2025-02-06T18:06:59.763873",
     "status": "completed"
    },
    "tags": []
   },
   "outputs": [
    {
     "name": "stderr",
     "output_type": "stream",
     "text": [
      "/home/mde48/lenskit/lk-demo-experiment/.venv/lib/python3.13/site-packages/lenskit/metrics/bulk.py:127: FutureWarning: The previous implementation of stack is deprecated and will be removed in a future version of pandas. See the What's New notes for pandas 2.1.0 for details. Specify future_stack=True to adopt the new implementation and silence this warning.\n",
      "  df = scores.groupby(list(keys)).agg([\"mean\", \"median\", \"std\"]).stack(level=0)\n"
     ]
    },
    {
     "data": {
      "text/html": [
       "<div>\n",
       "<style scoped>\n",
       "    .dataframe tbody tr th:only-of-type {\n",
       "        vertical-align: middle;\n",
       "    }\n",
       "\n",
       "    .dataframe tbody tr th {\n",
       "        vertical-align: top;\n",
       "    }\n",
       "\n",
       "    .dataframe thead th {\n",
       "        text-align: right;\n",
       "    }\n",
       "</style>\n",
       "<table border=\"1\" class=\"dataframe\">\n",
       "  <thead>\n",
       "    <tr style=\"text-align: right;\">\n",
       "      <th></th>\n",
       "      <th></th>\n",
       "      <th>mean</th>\n",
       "      <th>median</th>\n",
       "      <th>std</th>\n",
       "    </tr>\n",
       "    <tr>\n",
       "      <th>model</th>\n",
       "      <th></th>\n",
       "      <th></th>\n",
       "      <th></th>\n",
       "      <th></th>\n",
       "    </tr>\n",
       "  </thead>\n",
       "  <tbody>\n",
       "    <tr>\n",
       "      <th>ALS</th>\n",
       "      <th>RMSE</th>\n",
       "      <td>0.903379</td>\n",
       "      <td>0.850329</td>\n",
       "      <td>0.303010</td>\n",
       "    </tr>\n",
       "    <tr>\n",
       "      <th>Bias</th>\n",
       "      <th>RMSE</th>\n",
       "      <td>0.908350</td>\n",
       "      <td>0.854235</td>\n",
       "      <td>0.301733</td>\n",
       "    </tr>\n",
       "    <tr>\n",
       "      <th>IIE</th>\n",
       "      <th>RMSE</th>\n",
       "      <td>0.903569</td>\n",
       "      <td>0.850261</td>\n",
       "      <td>0.304478</td>\n",
       "    </tr>\n",
       "    <tr>\n",
       "      <th>UUE</th>\n",
       "      <th>RMSE</th>\n",
       "      <td>0.908947</td>\n",
       "      <td>0.854993</td>\n",
       "      <td>0.303898</td>\n",
       "    </tr>\n",
       "  </tbody>\n",
       "</table>\n",
       "</div>"
      ],
      "text/plain": [
       "                mean    median       std\n",
       "model                                   \n",
       "ALS   RMSE  0.903379  0.850329  0.303010\n",
       "Bias  RMSE  0.908350  0.854235  0.301733\n",
       "IIE   RMSE  0.903569  0.850261  0.304478\n",
       "UUE   RMSE  0.908947  0.854993  0.303898"
      ]
     },
     "execution_count": 15,
     "metadata": {},
     "output_type": "execute_result"
    }
   ],
   "source": [
    "pa = RunAnalysis()\n",
    "\n",
    "pa.add_metric(RMSE(missing_scores='ignore', missing_truth='ignore'))\n",
    "\n",
    "pred_results = pa.compute(preds, test)\n",
    "pred_results.list_summary('model')"
   ]
  },
  {
   "cell_type": "code",
   "execution_count": 16,
   "id": "a637c5ce",
   "metadata": {
    "execution": {
     "iopub.execute_input": "2025-02-06T18:07:08.236880Z",
     "iopub.status.busy": "2025-02-06T18:07:08.236804Z",
     "iopub.status.idle": "2025-02-06T18:07:08.458330Z",
     "shell.execute_reply": "2025-02-06T18:07:08.457908Z"
    },
    "papermill": {
     "duration": 0.224353,
     "end_time": "2025-02-06T18:07:08.458995",
     "exception": false,
     "start_time": "2025-02-06T18:07:08.234642",
     "status": "completed"
    },
    "tags": []
   },
   "outputs": [
    {
     "data": {
      "image/png": "[encoded data removed]",
      "text/plain": [
       "<Figure size 511.111x500 with 1 Axes>"
      ]
     },
     "metadata": {},
     "output_type": "display_data"
    }
   ],
   "source": [
    "sns.catplot(pred_results.list_metrics().reset_index(), x='model', y='RMSE', kind='bar')\n",
    "plt.show()"
   ]
  },
  {
   "cell_type": "markdown",
   "id": "9a86aaec",
   "metadata": {
    "papermill": {
     "duration": 0.005329,
     "end_time": "2025-02-06T18:07:08.469952",
     "exception": false,
     "start_time": "2025-02-06T18:07:08.464623",
     "status": "completed"
    },
    "tags": []
   },
   "source": [
    "## Save Metrics\n",
    "\n",
    "We'll now save the metrics to a file."
   ]
  },
  {
   "cell_type": "code",
   "execution_count": 17,
   "id": "7cc6c33e",
   "metadata": {
    "execution": {
     "iopub.execute_input": "2025-02-06T18:07:08.476950Z",
     "iopub.status.busy": "2025-02-06T18:07:08.476707Z",
     "iopub.status.idle": "2025-02-06T18:07:08.490669Z",
     "shell.execute_reply": "2025-02-06T18:07:08.490333Z"
    },
    "papermill": {
     "duration": 0.018188,
     "end_time": "2025-02-06T18:07:08.491277",
     "exception": false,
     "start_time": "2025-02-06T18:07:08.473089",
     "status": "completed"
    },
    "tags": []
   },
   "outputs": [
    {
     "name": "stderr",
     "output_type": "stream",
     "text": [
      "/home/mde48/lenskit/lk-demo-experiment/.venv/lib/python3.13/site-packages/lenskit/metrics/bulk.py:127: FutureWarning: The previous implementation of stack is deprecated and will be removed in a future version of pandas. See the What's New notes for pandas 2.1.0 for details. Specify future_stack=True to adopt the new implementation and silence this warning.\n",
      "  df = scores.groupby(list(keys)).agg([\"mean\", \"median\", \"std\"]).stack(level=0)\n"
     ]
    },
    {
     "data": {
      "text/html": [
       "<div>\n",
       "<style scoped>\n",
       "    .dataframe tbody tr th:only-of-type {\n",
       "        vertical-align: middle;\n",
       "    }\n",
       "\n",
       "    .dataframe tbody tr th {\n",
       "        vertical-align: top;\n",
       "    }\n",
       "\n",
       "    .dataframe thead th {\n",
       "        text-align: right;\n",
       "    }\n",
       "</style>\n",
       "<table border=\"1\" class=\"dataframe\">\n",
       "  <thead>\n",
       "    <tr style=\"text-align: right;\">\n",
       "      <th></th>\n",
       "      <th>NDCG</th>\n",
       "      <th>RBP</th>\n",
       "      <th>RecipRank</th>\n",
       "    </tr>\n",
       "    <tr>\n",
       "      <th>model</th>\n",
       "      <th></th>\n",
       "      <th></th>\n",
       "      <th></th>\n",
       "    </tr>\n",
       "  </thead>\n",
       "  <tbody>\n",
       "    <tr>\n",
       "      <th>ALS</th>\n",
       "      <td>0.121753</td>\n",
       "      <td>0.365271</td>\n",
       "      <td>0.527108</td>\n",
       "    </tr>\n",
       "    <tr>\n",
       "      <th>Bias</th>\n",
       "      <td>0.122468</td>\n",
       "      <td>0.376159</td>\n",
       "      <td>0.542384</td>\n",
       "    </tr>\n",
       "    <tr>\n",
       "      <th>IALS</th>\n",
       "      <td>0.042983</td>\n",
       "      <td>0.032298</td>\n",
       "      <td>0.081426</td>\n",
       "    </tr>\n",
       "    <tr>\n",
       "      <th>IIE</th>\n",
       "      <td>0.008394</td>\n",
       "      <td>0.005418</td>\n",
       "      <td>0.017134</td>\n",
       "    </tr>\n",
       "    <tr>\n",
       "      <th>III</th>\n",
       "      <td>0.034176</td>\n",
       "      <td>0.053593</td>\n",
       "      <td>0.082717</td>\n",
       "    </tr>\n",
       "    <tr>\n",
       "      <th>Pop</th>\n",
       "      <td>0.207656</td>\n",
       "      <td>0.452027</td>\n",
       "      <td>0.577445</td>\n",
       "    </tr>\n",
       "    <tr>\n",
       "      <th>UUE</th>\n",
       "      <td>0.007588</td>\n",
       "      <td>0.001422</td>\n",
       "      <td>0.010990</td>\n",
       "    </tr>\n",
       "  </tbody>\n",
       "</table>\n",
       "</div>"
      ],
      "text/plain": [
       "           NDCG       RBP  RecipRank\n",
       "model                               \n",
       "ALS    0.121753  0.365271   0.527108\n",
       "Bias   0.122468  0.376159   0.542384\n",
       "IALS   0.042983  0.032298   0.081426\n",
       "IIE    0.008394  0.005418   0.017134\n",
       "III    0.034176  0.053593   0.082717\n",
       "Pop    0.207656  0.452027   0.577445\n",
       "UUE    0.007588  0.001422   0.010990"
      ]
     },
     "execution_count": 17,
     "metadata": {},
     "output_type": "execute_result"
    }
   ],
   "source": [
    "rlsum = rec_results.list_summary('model')['mean'].unstack()\n",
    "rlsum"
   ]
  },
  {
   "cell_type": "code",
   "execution_count": 18,
   "id": "1cfaa06d",
   "metadata": {
    "execution": {
     "iopub.execute_input": "2025-02-06T18:07:08.498450Z",
     "iopub.status.busy": "2025-02-06T18:07:08.498326Z",
     "iopub.status.idle": "2025-02-06T18:07:08.499999Z",
     "shell.execute_reply": "2025-02-06T18:07:08.499846Z"
    },
    "papermill": {
     "duration": 0.006033,
     "end_time": "2025-02-06T18:07:08.500646",
     "exception": false,
     "start_time": "2025-02-06T18:07:08.494613",
     "status": "completed"
    },
    "tags": []
   },
   "outputs": [],
   "source": [
    "rlsum.to_json(f'eval-metrics.{dataset}.json', orient='index')"
   ]
  }
 ],
 "metadata": {
  "jupytext": {
   "formats": "ipynb,md",
   "notebook_metadata_filter": "split_at_heading"
  },
  "kernelspec": {
   "display_name": "Python 3 (ipykernel)",
   "language": "python",
   "name": "python3"
  },
  "language_info": {
   "codemirror_mode": {
    "name": "ipython",
    "version": 3
   },
   "file_extension": ".py",
   "mimetype": "text/x-python",
   "name": "python",
   "nbconvert_exporter": "python",
   "pygments_lexer": "ipython3",
   "version": "3.13.1"
  },
  "papermill": {
   "default_parameters": {},
   "duration": 26.797377,
   "end_time": "2025-02-06T18:07:09.420819",
   "environment_variables": {},
   "exception": null,
   "input_path": "eval-report.ipynb",
   "output_path": "eval-report.ml-10m.ipynb",
   "parameters": {
    "dataset": "ml-10m"
   },
   "start_time": "2025-02-06T18:06:42.623442",
   "version": "2.6.0"
  },
  "split_at_heading": true
 },
 "nbformat": 4,
 "nbformat_minor": 5
}