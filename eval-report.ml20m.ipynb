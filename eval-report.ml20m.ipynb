{
 "cells": [
  {
   "cell_type": "markdown",
   "id": "e9b80f8c",
   "metadata": {
    "papermill": {
     "duration": 0.021988,
     "end_time": "2022-02-17T00:25:42.554253",
     "exception": false,
     "start_time": "2022-02-17T00:25:42.532265",
     "status": "completed"
    },
    "tags": []
   },
   "source": [
    "# Evaluation Analysis for Recommender Output"
   ]
  },
  {
   "cell_type": "markdown",
   "id": "6b4ac00e",
   "metadata": {
    "papermill": {
     "duration": 0.01992,
     "end_time": "2022-02-17T00:25:42.594543",
     "exception": false,
     "start_time": "2022-02-17T00:25:42.574623",
     "status": "completed"
    },
    "tags": []
   },
   "source": [
    "In this section we will analyze and compare the generated recommendations and predictions from a predefined list of algorithms with the goal of assessing the performance of each algorithm with respect to a metric. In other words, we would rank the algorithms for each metric considered with respect to performance."
   ]
  },
  {
   "cell_type": "markdown",
   "id": "c2fc215d",
   "metadata": {
    "papermill": {
     "duration": 0.0316,
     "end_time": "2022-02-17T00:25:42.646280",
     "exception": false,
     "start_time": "2022-02-17T00:25:42.614680",
     "status": "completed"
    },
    "tags": []
   },
   "source": [
    "# Setup"
   ]
  },
  {
   "cell_type": "markdown",
   "id": "5ac5ab7c",
   "metadata": {
    "papermill": {
     "duration": 0.019727,
     "end_time": "2022-02-17T00:25:42.686293",
     "exception": false,
     "start_time": "2022-02-17T00:25:42.666566",
     "status": "completed"
    },
    "tags": []
   },
   "source": [
    "Below are the list of packages required to successfully run the analysis. They are divided into partitions to signify their specific task.<br>\n",
    "We need the pathlib package for working with files and folders"
   ]
  },
  {
   "cell_type": "code",
   "execution_count": 1,
   "id": "3e39d455",
   "metadata": {
    "execution": {
     "iopub.execute_input": "2022-02-17T00:25:42.727451Z",
     "iopub.status.busy": "2022-02-17T00:25:42.727030Z",
     "iopub.status.idle": "2022-02-17T00:25:42.732713Z",
     "shell.execute_reply": "2022-02-17T00:25:42.732379Z"
    },
    "papermill": {
     "duration": 0.027613,
     "end_time": "2022-02-17T00:25:42.733947",
     "exception": false,
     "start_time": "2022-02-17T00:25:42.706334",
     "status": "completed"
    },
    "tags": []
   },
   "outputs": [],
   "source": [
    "from pathlib import Path"
   ]
  },
  {
   "cell_type": "markdown",
   "id": "9b631f25",
   "metadata": {
    "papermill": {
     "duration": 0.020138,
     "end_time": "2022-02-17T00:25:42.774058",
     "exception": false,
     "start_time": "2022-02-17T00:25:42.753920",
     "status": "completed"
    },
    "tags": []
   },
   "source": [
    "We would use the pandas for analyzing and manipulating our data while seaborn and matplotlib are used for data visualization. statsmodels.graphics.gofplots and scipy.stats.shapiro are used for normality check. Scipy.stats.friedmanchisquare is a non-parametric test used to determine the statistical significance in metric results and the wilcoxon test is used for pairwise comparison of sample data."
   ]
  },
  {
   "cell_type": "code",
   "execution_count": 2,
   "id": "2556dd90",
   "metadata": {
    "execution": {
     "iopub.execute_input": "2022-02-17T00:25:42.814864Z",
     "iopub.status.busy": "2022-02-17T00:25:42.814726Z",
     "iopub.status.idle": "2022-02-17T00:25:51.909139Z",
     "shell.execute_reply": "2022-02-17T00:25:51.908553Z"
    },
    "papermill": {
     "duration": 9.116989,
     "end_time": "2022-02-17T00:25:51.910862",
     "exception": false,
     "start_time": "2022-02-17T00:25:42.793873",
     "status": "completed"
    },
    "tags": []
   },
   "outputs": [],
   "source": [
    "import pandas as pd\n",
    "import seaborn as sns\n",
    "import matplotlib.pyplot as plt\n",
    "from statsmodels.graphics.gofplots import qqplot\n",
    "from scipy.stats import shapiro\n",
    "from scipy.stats import friedmanchisquare, wilcoxon\n",
    "from itertools import combinations"
   ]
  },
  {
   "cell_type": "markdown",
   "id": "a507e25c",
   "metadata": {
    "papermill": {
     "duration": 0.020171,
     "end_time": "2022-02-17T00:25:51.952017",
     "exception": false,
     "start_time": "2022-02-17T00:25:51.931846",
     "status": "completed"
    },
    "tags": []
   },
   "source": [
    "Logging to show what's happening in LensKit routines:"
   ]
  },
  {
   "cell_type": "code",
   "execution_count": 3,
   "id": "3b034ed2",
   "metadata": {
    "execution": {
     "iopub.execute_input": "2022-02-17T00:25:51.993626Z",
     "iopub.status.busy": "2022-02-17T00:25:51.993463Z",
     "iopub.status.idle": "2022-02-17T00:25:52.021538Z",
     "shell.execute_reply": "2022-02-17T00:25:52.021154Z"
    },
    "papermill": {
     "duration": 0.050453,
     "end_time": "2022-02-17T00:25:52.022814",
     "exception": false,
     "start_time": "2022-02-17T00:25:51.972361",
     "status": "completed"
    },
    "tags": []
   },
   "outputs": [
    {
     "name": "stdout",
     "output_type": "stream",
     "text": [
      "[   INFO] lenskit.util.log notebook logging configured\n"
     ]
    }
   ],
   "source": [
    "from lenskit import util\n",
    "util.log_to_notebook()"
   ]
  },
  {
   "cell_type": "code",
   "execution_count": 4,
   "id": "933fcd8c",
   "metadata": {
    "execution": {
     "iopub.execute_input": "2022-02-17T00:25:52.065795Z",
     "iopub.status.busy": "2022-02-17T00:25:52.065633Z",
     "iopub.status.idle": "2022-02-17T00:25:52.068128Z",
     "shell.execute_reply": "2022-02-17T00:25:52.067761Z"
    },
    "papermill": {
     "duration": 0.024763,
     "end_time": "2022-02-17T00:25:52.069443",
     "exception": false,
     "start_time": "2022-02-17T00:25:52.044680",
     "status": "completed"
    },
    "tags": []
   },
   "outputs": [],
   "source": [
    "import logging\n",
    "_log = logging.getLogger('eval-report')"
   ]
  },
  {
   "cell_type": "markdown",
   "id": "7020f706",
   "metadata": {
    "papermill": {
     "duration": 0.020212,
     "end_time": "2022-02-17T00:25:52.109946",
     "exception": false,
     "start_time": "2022-02-17T00:25:52.089734",
     "status": "completed"
    },
    "tags": []
   },
   "source": [
    "We will use lenskit for training, running, and evaluating recommender algorithms"
   ]
  },
  {
   "cell_type": "code",
   "execution_count": 5,
   "id": "4c75de1f",
   "metadata": {
    "execution": {
     "iopub.execute_input": "2022-02-17T00:25:52.151435Z",
     "iopub.status.busy": "2022-02-17T00:25:52.151299Z",
     "iopub.status.idle": "2022-02-17T00:25:52.231091Z",
     "shell.execute_reply": "2022-02-17T00:25:52.230724Z"
    },
    "papermill": {
     "duration": 0.102062,
     "end_time": "2022-02-17T00:25:52.232441",
     "exception": false,
     "start_time": "2022-02-17T00:25:52.130379",
     "status": "completed"
    },
    "tags": []
   },
   "outputs": [],
   "source": [
    "from lenskit import topn\n",
    "from lenskit.metrics.predict import rmse"
   ]
  },
  {
   "cell_type": "markdown",
   "id": "365b5220",
   "metadata": {
    "papermill": {
     "duration": 0.068341,
     "end_time": "2022-02-17T00:25:52.321150",
     "exception": false,
     "start_time": "2022-02-17T00:25:52.252809",
     "status": "completed"
    },
    "tags": []
   },
   "source": [
    "# Load Data"
   ]
  },
  {
   "cell_type": "markdown",
   "id": "b6ebe314",
   "metadata": {
    "papermill": {
     "duration": 0.02042,
     "end_time": "2022-02-17T00:25:52.361787",
     "exception": false,
     "start_time": "2022-02-17T00:25:52.341367",
     "status": "completed"
    },
    "tags": []
   },
   "source": [
    "We specify the dataset we will use for our analysis and the main directory from where we read the recommendation and prediction files. From the main directory we find all the directories associated with the dataset and then read the recommendation and predictions files from those directories."
   ]
  },
  {
   "cell_type": "code",
   "execution_count": 6,
   "id": "a01363b9",
   "metadata": {
    "execution": {
     "iopub.execute_input": "2022-02-17T00:25:52.403610Z",
     "iopub.status.busy": "2022-02-17T00:25:52.403470Z",
     "iopub.status.idle": "2022-02-17T00:25:52.405919Z",
     "shell.execute_reply": "2022-02-17T00:25:52.405536Z"
    },
    "papermill": {
     "duration": 0.024948,
     "end_time": "2022-02-17T00:25:52.407140",
     "exception": false,
     "start_time": "2022-02-17T00:25:52.382192",
     "status": "completed"
    },
    "tags": [
     "parameters"
    ]
   },
   "outputs": [],
   "source": [
    "dataset = \"ml100k\""
   ]
  },
  {
   "cell_type": "code",
   "execution_count": 7,
   "id": "5c914999",
   "metadata": {
    "execution": {
     "iopub.execute_input": "2022-02-17T00:25:52.475193Z",
     "iopub.status.busy": "2022-02-17T00:25:52.475056Z",
     "iopub.status.idle": "2022-02-17T00:25:52.477395Z",
     "shell.execute_reply": "2022-02-17T00:25:52.477039Z"
    },
    "papermill": {
     "duration": 0.027584,
     "end_time": "2022-02-17T00:25:52.478615",
     "exception": false,
     "start_time": "2022-02-17T00:25:52.451031",
     "status": "completed"
    },
    "tags": [
     "injected-parameters"
    ]
   },
   "outputs": [],
   "source": [
    "# Parameters\n",
    "dataset = \"ml20m\"\n"
   ]
  },
  {
   "cell_type": "code",
   "execution_count": 8,
   "id": "756f2b5c",
   "metadata": {
    "execution": {
     "iopub.execute_input": "2022-02-17T00:25:52.532634Z",
     "iopub.status.busy": "2022-02-17T00:25:52.532497Z",
     "iopub.status.idle": "2022-02-17T00:25:52.534816Z",
     "shell.execute_reply": "2022-02-17T00:25:52.534442Z"
    },
    "papermill": {
     "duration": 0.034968,
     "end_time": "2022-02-17T00:25:52.536064",
     "exception": false,
     "start_time": "2022-02-17T00:25:52.501096",
     "status": "completed"
    },
    "tags": []
   },
   "outputs": [],
   "source": [
    "output_root = Path(\"runs\")"
   ]
  },
  {
   "cell_type": "code",
   "execution_count": 9,
   "id": "9f023184",
   "metadata": {
    "execution": {
     "iopub.execute_input": "2022-02-17T00:25:52.581119Z",
     "iopub.status.busy": "2022-02-17T00:25:52.580981Z",
     "iopub.status.idle": "2022-02-17T00:25:52.961696Z",
     "shell.execute_reply": "2022-02-17T00:25:52.961362Z"
    },
    "papermill": {
     "duration": 0.404687,
     "end_time": "2022-02-17T00:25:52.963015",
     "exception": false,
     "start_time": "2022-02-17T00:25:52.558328",
     "status": "completed"
    },
    "tags": []
   },
   "outputs": [],
   "source": [
    "dirs = [fld for fld in output_root.glob(f'{dataset}-*')]"
   ]
  },
  {
   "cell_type": "code",
   "execution_count": 10,
   "id": "2a062768",
   "metadata": {
    "execution": {
     "iopub.execute_input": "2022-02-17T00:25:53.006446Z",
     "iopub.status.busy": "2022-02-17T00:25:53.006015Z",
     "iopub.status.idle": "2022-02-17T00:26:53.305250Z",
     "shell.execute_reply": "2022-02-17T00:26:53.304443Z"
    },
    "papermill": {
     "duration": 60.343898,
     "end_time": "2022-02-17T00:26:53.328056",
     "exception": false,
     "start_time": "2022-02-17T00:25:52.984158",
     "status": "completed"
    },
    "tags": []
   },
   "outputs": [
    {
     "name": "stdout",
     "output_type": "stream",
     "text": [
      "<class 'pandas.core.frame.DataFrame'>\n",
      "RangeIndex: 96935400 entries, 0 to 96935399\n",
      "Data columns (total 5 columns):\n",
      " #   Column     Dtype   \n",
      "---  ------     -----   \n",
      " 0   item       int64   \n",
      " 1   score      float64 \n",
      " 2   user       int64   \n",
      " 3   rank       int64   \n",
      " 4   algorithm  category\n",
      "dtypes: category(1), float64(1), int64(3)\n",
      "memory usage: 3.0 GB\n"
     ]
    }
   ],
   "source": [
    "recs = []\n",
    "for fld in dirs: \n",
    "    for file in fld.glob(\"recs-*\"):\n",
    "        rec = pd.read_csv(file, sep=',')\n",
    "        rec[\"algorithm\"] = fld.name.split(\"-\")[1]\n",
    "        recs.append(rec)\n",
    "\n",
    "recs = pd.concat(recs, ignore_index=True)\n",
    "recs = recs.astype({'algorithm': 'category'})\n",
    "recs.info()"
   ]
  },
  {
   "cell_type": "code",
   "execution_count": 11,
   "id": "335ce1fb",
   "metadata": {
    "execution": {
     "iopub.execute_input": "2022-02-17T00:26:53.372459Z",
     "iopub.status.busy": "2022-02-17T00:26:53.372186Z",
     "iopub.status.idle": "2022-02-17T00:26:53.835147Z",
     "shell.execute_reply": "2022-02-17T00:26:53.834589Z"
    },
    "papermill": {
     "duration": 0.48674,
     "end_time": "2022-02-17T00:26:53.836399",
     "exception": false,
     "start_time": "2022-02-17T00:26:53.349659",
     "status": "completed"
    },
    "tags": []
   },
   "outputs": [
    {
     "data": {
      "text/plain": [
       "['Pop', 'Bias', 'IIE', 'UUE', 'ALS', 'III', 'IALS']\n",
       "Categories (7, object): ['ALS', 'Bias', 'IALS', 'IIE', 'III', 'Pop', 'UUE']"
      ]
     },
     "execution_count": 11,
     "metadata": {},
     "output_type": "execute_result"
    }
   ],
   "source": [
    "rec_algos = recs['algorithm'].unique()\n",
    "rec_algos"
   ]
  },
  {
   "cell_type": "code",
   "execution_count": 12,
   "id": "79c89093",
   "metadata": {
    "execution": {
     "iopub.execute_input": "2022-02-17T00:26:53.883216Z",
     "iopub.status.busy": "2022-02-17T00:26:53.882762Z",
     "iopub.status.idle": "2022-02-17T00:26:57.918603Z",
     "shell.execute_reply": "2022-02-17T00:26:57.918158Z"
    },
    "papermill": {
     "duration": 4.060655,
     "end_time": "2022-02-17T00:26:57.919903",
     "exception": false,
     "start_time": "2022-02-17T00:26:53.859248",
     "status": "completed"
    },
    "tags": []
   },
   "outputs": [
    {
     "name": "stdout",
     "output_type": "stream",
     "text": [
      "<class 'pandas.core.frame.DataFrame'>\n",
      "RangeIndex: 4154790 entries, 0 to 4154789\n",
      "Data columns (total 6 columns):\n",
      " #   Column      Dtype   \n",
      "---  ------      -----   \n",
      " 0   user        int64   \n",
      " 1   item        int64   \n",
      " 2   rating      float64 \n",
      " 3   timestamp   int64   \n",
      " 4   prediction  float64 \n",
      " 5   algorithm   category\n",
      "dtypes: category(1), float64(2), int64(3)\n",
      "memory usage: 162.5 MB\n"
     ]
    }
   ],
   "source": [
    "preds = []\n",
    "for fld in dirs:\n",
    "    for file in fld.glob(\"pred-*\"):\n",
    "        pred = pd.read_csv(file, sep=',')\n",
    "        pred[\"algorithm\"] = fld.name.split(\"-\")[1]\n",
    "        preds.append(pred)\n",
    "\n",
    "preds = pd.concat(preds, ignore_index=True)\n",
    "preds = preds.astype({'algorithm': 'category'})\n",
    "preds.info()"
   ]
  },
  {
   "cell_type": "markdown",
   "id": "f0a6463c",
   "metadata": {
    "papermill": {
     "duration": 0.023871,
     "end_time": "2022-02-17T00:26:57.968300",
     "exception": false,
     "start_time": "2022-02-17T00:26:57.944429",
     "status": "completed"
    },
    "tags": []
   },
   "source": [
    "We need to load the test data so that we have the ground truths for computing accuracy "
   ]
  },
  {
   "cell_type": "code",
   "execution_count": 13,
   "id": "8031f611",
   "metadata": {
    "execution": {
     "iopub.execute_input": "2022-02-17T00:26:58.017092Z",
     "iopub.status.busy": "2022-02-17T00:26:58.016679Z",
     "iopub.status.idle": "2022-02-17T00:26:58.019471Z",
     "shell.execute_reply": "2022-02-17T00:26:58.019101Z"
    },
    "papermill": {
     "duration": 0.028454,
     "end_time": "2022-02-17T00:26:58.020684",
     "exception": false,
     "start_time": "2022-02-17T00:26:57.992230",
     "status": "completed"
    },
    "tags": []
   },
   "outputs": [],
   "source": [
    "split_root = Path(\"data-split\")\n",
    "split_dir = split_root / dataset"
   ]
  },
  {
   "cell_type": "code",
   "execution_count": 14,
   "id": "d12b719a",
   "metadata": {
    "execution": {
     "iopub.execute_input": "2022-02-17T00:26:58.069402Z",
     "iopub.status.busy": "2022-02-17T00:26:58.068986Z",
     "iopub.status.idle": "2022-02-17T00:26:58.700895Z",
     "shell.execute_reply": "2022-02-17T00:26:58.700489Z"
    },
    "papermill": {
     "duration": 0.657731,
     "end_time": "2022-02-17T00:26:58.702312",
     "exception": false,
     "start_time": "2022-02-17T00:26:58.044581",
     "status": "completed"
    },
    "tags": []
   },
   "outputs": [
    {
     "data": {
      "text/html": [
       "<div>\n",
       "<style scoped>\n",
       "    .dataframe tbody tr th:only-of-type {\n",
       "        vertical-align: middle;\n",
       "    }\n",
       "\n",
       "    .dataframe tbody tr th {\n",
       "        vertical-align: top;\n",
       "    }\n",
       "\n",
       "    .dataframe thead th {\n",
       "        text-align: right;\n",
       "    }\n",
       "</style>\n",
       "<table border=\"1\" class=\"dataframe\">\n",
       "  <thead>\n",
       "    <tr style=\"text-align: right;\">\n",
       "      <th></th>\n",
       "      <th>user</th>\n",
       "      <th>item</th>\n",
       "      <th>rating</th>\n",
       "      <th>timestamp</th>\n",
       "      <th>part</th>\n",
       "    </tr>\n",
       "    <tr>\n",
       "      <th>index</th>\n",
       "      <th></th>\n",
       "      <th></th>\n",
       "      <th></th>\n",
       "      <th></th>\n",
       "      <th></th>\n",
       "    </tr>\n",
       "  </thead>\n",
       "  <tbody>\n",
       "    <tr>\n",
       "      <th>178</th>\n",
       "      <td>2</td>\n",
       "      <td>110</td>\n",
       "      <td>4.0</td>\n",
       "      <td>974820658</td>\n",
       "      <td>test-1</td>\n",
       "    </tr>\n",
       "    <tr>\n",
       "      <th>207</th>\n",
       "      <td>2</td>\n",
       "      <td>1973</td>\n",
       "      <td>3.0</td>\n",
       "      <td>974820916</td>\n",
       "      <td>test-1</td>\n",
       "    </tr>\n",
       "    <tr>\n",
       "      <th>228</th>\n",
       "      <td>2</td>\n",
       "      <td>3918</td>\n",
       "      <td>3.0</td>\n",
       "      <td>974820943</td>\n",
       "      <td>test-1</td>\n",
       "    </tr>\n",
       "    <tr>\n",
       "      <th>194</th>\n",
       "      <td>2</td>\n",
       "      <td>1259</td>\n",
       "      <td>5.0</td>\n",
       "      <td>974820659</td>\n",
       "      <td>test-1</td>\n",
       "    </tr>\n",
       "    <tr>\n",
       "      <th>185</th>\n",
       "      <td>2</td>\n",
       "      <td>589</td>\n",
       "      <td>5.0</td>\n",
       "      <td>974820658</td>\n",
       "      <td>test-1</td>\n",
       "    </tr>\n",
       "  </tbody>\n",
       "</table>\n",
       "</div>"
      ],
      "text/plain": [
       "       user  item  rating  timestamp    part\n",
       "index                                       \n",
       "178       2   110     4.0  974820658  test-1\n",
       "207       2  1973     3.0  974820916  test-1\n",
       "228       2  3918     3.0  974820943  test-1\n",
       "194       2  1259     5.0  974820659  test-1\n",
       "185       2   589     5.0  974820658  test-1"
      ]
     },
     "execution_count": 14,
     "metadata": {},
     "output_type": "execute_result"
    }
   ],
   "source": [
    "test = []\n",
    "for file in split_dir.glob(\"test-*.csv.gz\"):\n",
    "    test.append(pd.read_csv(file, sep=',', index_col='index').assign(part=file.stem.replace('.csv', '')))\n",
    "\n",
    "test = pd.concat(test)\n",
    "test.head()"
   ]
  },
  {
   "cell_type": "markdown",
   "id": "63d69130",
   "metadata": {
    "papermill": {
     "duration": 0.022552,
     "end_time": "2022-02-17T00:26:58.747705",
     "exception": false,
     "start_time": "2022-02-17T00:26:58.725153",
     "status": "completed"
    },
    "tags": []
   },
   "source": [
    "# Top-N Metrics"
   ]
  },
  {
   "cell_type": "markdown",
   "id": "fdbbe0c5",
   "metadata": {
    "papermill": {
     "duration": 0.022725,
     "end_time": "2022-02-17T00:26:58.793111",
     "exception": false,
     "start_time": "2022-02-17T00:26:58.770386",
     "status": "completed"
    },
    "tags": []
   },
   "source": [
    "The topn.RecListAnalysis class computes top-N metrics for recommendation list and takes care of making sure that the recommendations and ground truths are properly matched. Refer to the documentation for detailed explanation of the purpose for the RecListAnalysis class and how the analysis is done - https://lkpy.lenskit.org/en/stable/evaluation/topn-metrics.html "
   ]
  },
  {
   "cell_type": "code",
   "execution_count": 15,
   "id": "b19d03c5",
   "metadata": {
    "execution": {
     "iopub.execute_input": "2022-02-17T00:26:58.839794Z",
     "iopub.status.busy": "2022-02-17T00:26:58.839341Z",
     "iopub.status.idle": "2022-02-17T00:28:41.355094Z",
     "shell.execute_reply": "2022-02-17T00:28:41.354587Z"
    },
    "papermill": {
     "duration": 102.540867,
     "end_time": "2022-02-17T00:28:41.356502",
     "exception": false,
     "start_time": "2022-02-17T00:26:58.815635",
     "status": "completed"
    },
    "tags": []
   },
   "outputs": [
    {
     "name": "stdout",
     "output_type": "stream",
     "text": [
      "[   INFO] lenskit.topn analyzing 96935400 recommendations (692465 truth rows)\n"
     ]
    },
    {
     "name": "stdout",
     "output_type": "stream",
     "text": [
      "[   INFO] lenskit.topn using rec key columns ['algorithm', 'user']\n"
     ]
    },
    {
     "name": "stdout",
     "output_type": "stream",
     "text": [
      "[   INFO] lenskit.topn using truth key columns ['user']\n"
     ]
    },
    {
     "name": "stdout",
     "output_type": "stream",
     "text": [
      "[   INFO] lenskit.topn numbering truth lists\n"
     ]
    },
    {
     "name": "stdout",
     "output_type": "stream",
     "text": [
      "[   INFO] lenskit.topn numbering rec lists\n"
     ]
    },
    {
     "name": "stdout",
     "output_type": "stream",
     "text": [
      "[   INFO] lenskit.topn collecting metric results\n"
     ]
    },
    {
     "name": "stdout",
     "output_type": "stream",
     "text": [
      "[   INFO] lenskit.topn measured 969354 lists in 1m19.93s\n"
     ]
    },
    {
     "name": "stdout",
     "output_type": "stream",
     "text": [
      "[   INFO] lenskit.topn filling in missing user info (969354 initial rows)\n"
     ]
    },
    {
     "data": {
      "text/html": [
       "<div>\n",
       "<style scoped>\n",
       "    .dataframe tbody tr th:only-of-type {\n",
       "        vertical-align: middle;\n",
       "    }\n",
       "\n",
       "    .dataframe tbody tr th {\n",
       "        vertical-align: top;\n",
       "    }\n",
       "\n",
       "    .dataframe thead th {\n",
       "        text-align: right;\n",
       "    }\n",
       "</style>\n",
       "<table border=\"1\" class=\"dataframe\">\n",
       "  <thead>\n",
       "    <tr style=\"text-align: right;\">\n",
       "      <th></th>\n",
       "      <th></th>\n",
       "      <th>level_1</th>\n",
       "      <th>nrecs</th>\n",
       "      <th>precision</th>\n",
       "      <th>recip_rank</th>\n",
       "      <th>ndcg</th>\n",
       "      <th>ntruth</th>\n",
       "    </tr>\n",
       "    <tr>\n",
       "      <th>algorithm</th>\n",
       "      <th>user</th>\n",
       "      <th></th>\n",
       "      <th></th>\n",
       "      <th></th>\n",
       "      <th></th>\n",
       "      <th></th>\n",
       "      <th></th>\n",
       "    </tr>\n",
       "  </thead>\n",
       "  <tbody>\n",
       "    <tr>\n",
       "      <th rowspan=\"5\" valign=\"top\">ALS</th>\n",
       "      <th>1</th>\n",
       "      <td>553875.0</td>\n",
       "      <td>100.0</td>\n",
       "      <td>0.01</td>\n",
       "      <td>0.025641</td>\n",
       "      <td>0.054916</td>\n",
       "      <td>5</td>\n",
       "    </tr>\n",
       "    <tr>\n",
       "      <th>5</th>\n",
       "      <td>553876.0</td>\n",
       "      <td>100.0</td>\n",
       "      <td>0.01</td>\n",
       "      <td>0.027778</td>\n",
       "      <td>0.037888</td>\n",
       "      <td>5</td>\n",
       "    </tr>\n",
       "    <tr>\n",
       "      <th>6</th>\n",
       "      <td>553877.0</td>\n",
       "      <td>100.0</td>\n",
       "      <td>0.00</td>\n",
       "      <td>0.000000</td>\n",
       "      <td>0.000000</td>\n",
       "      <td>5</td>\n",
       "    </tr>\n",
       "    <tr>\n",
       "      <th>7</th>\n",
       "      <td>553878.0</td>\n",
       "      <td>100.0</td>\n",
       "      <td>0.00</td>\n",
       "      <td>0.000000</td>\n",
       "      <td>0.000000</td>\n",
       "      <td>5</td>\n",
       "    </tr>\n",
       "    <tr>\n",
       "      <th>11</th>\n",
       "      <td>553879.0</td>\n",
       "      <td>100.0</td>\n",
       "      <td>0.00</td>\n",
       "      <td>0.000000</td>\n",
       "      <td>0.000000</td>\n",
       "      <td>5</td>\n",
       "    </tr>\n",
       "  </tbody>\n",
       "</table>\n",
       "</div>"
      ],
      "text/plain": [
       "                 level_1  nrecs  precision  recip_rank      ndcg  ntruth\n",
       "algorithm user                                                          \n",
       "ALS       1     553875.0  100.0       0.01    0.025641  0.054916       5\n",
       "          5     553876.0  100.0       0.01    0.027778  0.037888       5\n",
       "          6     553877.0  100.0       0.00    0.000000  0.000000       5\n",
       "          7     553878.0  100.0       0.00    0.000000  0.000000       5\n",
       "          11    553879.0  100.0       0.00    0.000000  0.000000       5"
      ]
     },
     "execution_count": 15,
     "metadata": {},
     "output_type": "execute_result"
    }
   ],
   "source": [
    "rla = topn.RecListAnalysis()\n",
    "\n",
    "rla.add_metric(topn.precision)\n",
    "rla.add_metric(topn.recip_rank)\n",
    "rla.add_metric(topn.ndcg)\n",
    "results = rla.compute(recs, test, include_missing=True)\n",
    "results = results.fillna(0)\n",
    "results.head()"
   ]
  },
  {
   "cell_type": "markdown",
   "id": "5b288f4f",
   "metadata": {
    "papermill": {
     "duration": 0.02501,
     "end_time": "2022-02-17T00:28:41.408373",
     "exception": false,
     "start_time": "2022-02-17T00:28:41.383363",
     "status": "completed"
    },
    "tags": []
   },
   "source": [
    "We will reshape the 'results' dataframe by stacking the columns to index and then use the bar chart to visualize the performance of our algorithms with respect to the precision, reciprocal rank and ndcg metrics"
   ]
  },
  {
   "cell_type": "code",
   "execution_count": 16,
   "id": "6789d74b",
   "metadata": {
    "execution": {
     "iopub.execute_input": "2022-02-17T00:28:41.458496Z",
     "iopub.status.busy": "2022-02-17T00:28:41.458317Z",
     "iopub.status.idle": "2022-02-17T00:28:41.718114Z",
     "shell.execute_reply": "2022-02-17T00:28:41.717702Z"
    },
    "papermill": {
     "duration": 0.286671,
     "end_time": "2022-02-17T00:28:41.719360",
     "exception": false,
     "start_time": "2022-02-17T00:28:41.432689",
     "status": "completed"
    },
    "tags": []
   },
   "outputs": [
    {
     "data": {
      "text/html": [
       "<div>\n",
       "<style scoped>\n",
       "    .dataframe tbody tr th:only-of-type {\n",
       "        vertical-align: middle;\n",
       "    }\n",
       "\n",
       "    .dataframe tbody tr th {\n",
       "        vertical-align: top;\n",
       "    }\n",
       "\n",
       "    .dataframe thead th {\n",
       "        text-align: right;\n",
       "    }\n",
       "</style>\n",
       "<table border=\"1\" class=\"dataframe\">\n",
       "  <thead>\n",
       "    <tr style=\"text-align: right;\">\n",
       "      <th></th>\n",
       "      <th>algorithm</th>\n",
       "      <th>user</th>\n",
       "      <th>metric</th>\n",
       "      <th>val</th>\n",
       "    </tr>\n",
       "  </thead>\n",
       "  <tbody>\n",
       "    <tr>\n",
       "      <th>0</th>\n",
       "      <td>ALS</td>\n",
       "      <td>1</td>\n",
       "      <td>level_1</td>\n",
       "      <td>553875.000000</td>\n",
       "    </tr>\n",
       "    <tr>\n",
       "      <th>1</th>\n",
       "      <td>ALS</td>\n",
       "      <td>1</td>\n",
       "      <td>precision</td>\n",
       "      <td>0.010000</td>\n",
       "    </tr>\n",
       "    <tr>\n",
       "      <th>2</th>\n",
       "      <td>ALS</td>\n",
       "      <td>1</td>\n",
       "      <td>recip_rank</td>\n",
       "      <td>0.025641</td>\n",
       "    </tr>\n",
       "    <tr>\n",
       "      <th>3</th>\n",
       "      <td>ALS</td>\n",
       "      <td>1</td>\n",
       "      <td>ndcg</td>\n",
       "      <td>0.054916</td>\n",
       "    </tr>\n",
       "    <tr>\n",
       "      <th>4</th>\n",
       "      <td>ALS</td>\n",
       "      <td>5</td>\n",
       "      <td>level_1</td>\n",
       "      <td>553876.000000</td>\n",
       "    </tr>\n",
       "  </tbody>\n",
       "</table>\n",
       "</div>"
      ],
      "text/plain": [
       "  algorithm  user      metric            val\n",
       "0       ALS     1     level_1  553875.000000\n",
       "1       ALS     1   precision       0.010000\n",
       "2       ALS     1  recip_rank       0.025641\n",
       "3       ALS     1        ndcg       0.054916\n",
       "4       ALS     5     level_1  553876.000000"
      ]
     },
     "execution_count": 16,
     "metadata": {},
     "output_type": "execute_result"
    }
   ],
   "source": [
    "pltData = (results.drop(columns=['nrecs', 'ntruth']).stack()).reset_index()\n",
    "pltData.columns = ['algorithm', 'user', 'metric', 'val']\n",
    "pltData.head()"
   ]
  },
  {
   "cell_type": "markdown",
   "id": "fb1d4e1c",
   "metadata": {
    "papermill": {
     "duration": 0.024369,
     "end_time": "2022-02-17T00:28:41.768462",
     "exception": false,
     "start_time": "2022-02-17T00:28:41.744093",
     "status": "completed"
    },
    "tags": []
   },
   "source": [
    "We need to determine if the differences we observe in the performances of the algorithms for the various metrics are statistically significant. To achieve this, we will need to use either a parametric or non-parametric statistical test for comparing the differences. We will consider a parametric test - repeated ANOVA measure cause our sample groups are correlated."
   ]
  },
  {
   "cell_type": "code",
   "execution_count": 17,
   "id": "16217387",
   "metadata": {
    "execution": {
     "iopub.execute_input": "2022-02-17T00:28:41.818864Z",
     "iopub.status.busy": "2022-02-17T00:28:41.818690Z",
     "iopub.status.idle": "2022-02-17T00:29:09.512512Z",
     "shell.execute_reply": "2022-02-17T00:29:09.511867Z"
    },
    "papermill": {
     "duration": 27.720671,
     "end_time": "2022-02-17T00:29:09.513873",
     "exception": false,
     "start_time": "2022-02-17T00:28:41.793202",
     "status": "completed"
    },
    "tags": []
   },
   "outputs": [
    {
     "data": {
      "image/png": "[encoded data removed]",
      "text/plain": [
       "<Figure size 1036.8x216 with 4 Axes>"
      ]
     },
     "metadata": {
      "needs_background": "light"
     },
     "output_type": "display_data"
    }
   ],
   "source": [
    "g = sns.catplot(x = \"algorithm\", y = \"val\", data = pltData, kind=\"bar\", col = \"metric\", aspect=1.2, height=3, sharey=False)"
   ]
  },
  {
   "cell_type": "markdown",
   "id": "af69858e",
   "metadata": {
    "papermill": {
     "duration": 0.027266,
     "end_time": "2022-02-17T00:29:09.567210",
     "exception": false,
     "start_time": "2022-02-17T00:29:09.539944",
     "status": "completed"
    },
    "tags": []
   },
   "source": [
    "### Statistical Testing"
   ]
  },
  {
   "cell_type": "markdown",
   "id": "7aa70e78",
   "metadata": {
    "papermill": {
     "duration": 0.025937,
     "end_time": "2022-02-17T00:29:09.619322",
     "exception": false,
     "start_time": "2022-02-17T00:29:09.593385",
     "status": "completed"
    },
    "tags": []
   },
   "source": [
    "We will now examine these metrics in more detail and test for statistical significance.  Best practice for statistical testing for recommender systems is still a work in progress, but this method avoids most of the validity problems we know about.\n",
    "\n",
    "The Friedman $\\chi^2$ test will test the null hypothesis that there is no difference between algorithms in terms of their performance."
   ]
  },
  {
   "cell_type": "code",
   "execution_count": 18,
   "id": "f1b723fd",
   "metadata": {
    "execution": {
     "iopub.execute_input": "2022-02-17T00:29:09.672468Z",
     "iopub.status.busy": "2022-02-17T00:29:09.672218Z",
     "iopub.status.idle": "2022-02-17T00:29:09.676132Z",
     "shell.execute_reply": "2022-02-17T00:29:09.675655Z"
    },
    "papermill": {
     "duration": 0.032003,
     "end_time": "2022-02-17T00:29:09.677295",
     "exception": false,
     "start_time": "2022-02-17T00:29:09.645292",
     "status": "completed"
    },
    "tags": []
   },
   "outputs": [],
   "source": [
    "def metric_friedman(metric):\n",
    "    groups = [df[metric] for a, df in results.groupby('algorithm')]\n",
    "\n",
    "    stat, p = friedmanchisquare(*groups)\n",
    "    return pd.Series({'stat': stat, 'p': p}, name=metric)"
   ]
  },
  {
   "cell_type": "markdown",
   "id": "8fd6075e",
   "metadata": {
    "papermill": {
     "duration": 0.025951,
     "end_time": "2022-02-17T00:29:09.729012",
     "exception": false,
     "start_time": "2022-02-17T00:29:09.703061",
     "status": "completed"
    },
    "tags": []
   },
   "source": [
    "If the test detects significance, we have at least one pair of different algorithms - but which pairs?  Unfortunately, the good tests aren't readily available in scipy and friends, so we're going to take a conservative approch and perform pairwise Wilconxon signed-rank tests with a Bonferroni adjustment."
   ]
  },
  {
   "cell_type": "code",
   "execution_count": 19,
   "id": "22f719dc",
   "metadata": {
    "execution": {
     "iopub.execute_input": "2022-02-17T00:29:09.858215Z",
     "iopub.status.busy": "2022-02-17T00:29:09.858021Z",
     "iopub.status.idle": "2022-02-17T00:29:09.863352Z",
     "shell.execute_reply": "2022-02-17T00:29:09.862913Z"
    },
    "papermill": {
     "duration": 0.03308,
     "end_time": "2022-02-17T00:29:09.864470",
     "exception": false,
     "start_time": "2022-02-17T00:29:09.831390",
     "status": "completed"
    },
    "tags": []
   },
   "outputs": [],
   "source": [
    "pairs = pd.DataFrame.from_records(combinations(rec_algos, 2), columns=['A1', 'A2'])\n",
    "def am_wilcox(metric, p_scale = len(pairs)):\n",
    "    def compute(df):\n",
    "        vs1 = results.loc[df['A1'], metric]\n",
    "        vs2 = results.loc[df['A2'], metric]\n",
    "        diff = (vs1 - vs2).mean()\n",
    "        stat, p = wilcoxon(vs1, vs2)\n",
    "        return pd.Series({'diff': diff, 'stat': stat, 'p': p, 'adj_p': p * p_scale})\n",
    "    scores = pairs.apply(compute, axis=1)\n",
    "    return pairs.join(scores)"
   ]
  },
  {
   "cell_type": "markdown",
   "id": "a3ded5e3",
   "metadata": {
    "papermill": {
     "duration": 0.026051,
     "end_time": "2022-02-17T00:29:09.916005",
     "exception": false,
     "start_time": "2022-02-17T00:29:09.889954",
     "status": "completed"
    },
    "tags": []
   },
   "source": [
    "## Precision"
   ]
  },
  {
   "cell_type": "code",
   "execution_count": 20,
   "id": "9a9b3fd1",
   "metadata": {
    "execution": {
     "iopub.execute_input": "2022-02-17T00:29:09.968997Z",
     "iopub.status.busy": "2022-02-17T00:29:09.968805Z",
     "iopub.status.idle": "2022-02-17T00:29:17.317169Z",
     "shell.execute_reply": "2022-02-17T00:29:17.316776Z"
    },
    "papermill": {
     "duration": 7.376137,
     "end_time": "2022-02-17T00:29:17.318398",
     "exception": false,
     "start_time": "2022-02-17T00:29:09.942261",
     "status": "completed"
    },
    "tags": []
   },
   "outputs": [
    {
     "data": {
      "text/plain": [
       "stat    553311.623421\n",
       "p            0.000000\n",
       "Name: precision, dtype: float64"
      ]
     },
     "execution_count": 20,
     "metadata": {},
     "output_type": "execute_result"
    }
   ],
   "source": [
    "metric_friedman('precision')"
   ]
  },
  {
   "cell_type": "markdown",
   "id": "7cecd5f4",
   "metadata": {
    "papermill": {
     "duration": 0.027571,
     "end_time": "2022-02-17T00:29:17.372319",
     "exception": false,
     "start_time": "2022-02-17T00:29:17.344748",
     "status": "completed"
    },
    "tags": []
   },
   "source": [
    "This indicates a statistically significant difference exists - but where is it?\n",
    "\n",
    "To answer that question, we need a post-hoc test. "
   ]
  },
  {
   "cell_type": "code",
   "execution_count": 21,
   "id": "cc05b1da",
   "metadata": {
    "execution": {
     "iopub.execute_input": "2022-02-17T00:29:17.425979Z",
     "iopub.status.busy": "2022-02-17T00:29:17.425828Z",
     "iopub.status.idle": "2022-02-17T00:29:18.028403Z",
     "shell.execute_reply": "2022-02-17T00:29:18.028023Z"
    },
    "papermill": {
     "duration": 0.631055,
     "end_time": "2022-02-17T00:29:18.029547",
     "exception": false,
     "start_time": "2022-02-17T00:29:17.398492",
     "status": "completed"
    },
    "tags": []
   },
   "outputs": [
    {
     "data": {
      "text/html": [
       "<div>\n",
       "<style scoped>\n",
       "    .dataframe tbody tr th:only-of-type {\n",
       "        vertical-align: middle;\n",
       "    }\n",
       "\n",
       "    .dataframe tbody tr th {\n",
       "        vertical-align: top;\n",
       "    }\n",
       "\n",
       "    .dataframe thead th {\n",
       "        text-align: right;\n",
       "    }\n",
       "</style>\n",
       "<table border=\"1\" class=\"dataframe\">\n",
       "  <thead>\n",
       "    <tr style=\"text-align: right;\">\n",
       "      <th></th>\n",
       "      <th>A1</th>\n",
       "      <th>A2</th>\n",
       "      <th>diff</th>\n",
       "      <th>stat</th>\n",
       "      <th>p</th>\n",
       "      <th>adj_p</th>\n",
       "    </tr>\n",
       "  </thead>\n",
       "  <tbody>\n",
       "    <tr>\n",
       "      <th>2</th>\n",
       "      <td>Pop</td>\n",
       "      <td>UUE</td>\n",
       "      <td>0.015568</td>\n",
       "      <td>1.859408e+06</td>\n",
       "      <td>0.0</td>\n",
       "      <td>0.0</td>\n",
       "    </tr>\n",
       "    <tr>\n",
       "      <th>1</th>\n",
       "      <td>Pop</td>\n",
       "      <td>IIE</td>\n",
       "      <td>0.015256</td>\n",
       "      <td>2.244803e+07</td>\n",
       "      <td>0.0</td>\n",
       "      <td>0.0</td>\n",
       "    </tr>\n",
       "    <tr>\n",
       "      <th>3</th>\n",
       "      <td>Pop</td>\n",
       "      <td>ALS</td>\n",
       "      <td>0.011842</td>\n",
       "      <td>3.500488e+08</td>\n",
       "      <td>0.0</td>\n",
       "      <td>0.0</td>\n",
       "    </tr>\n",
       "    <tr>\n",
       "      <th>0</th>\n",
       "      <td>Pop</td>\n",
       "      <td>Bias</td>\n",
       "      <td>0.010282</td>\n",
       "      <td>5.450224e+08</td>\n",
       "      <td>0.0</td>\n",
       "      <td>0.0</td>\n",
       "    </tr>\n",
       "    <tr>\n",
       "      <th>7</th>\n",
       "      <td>Bias</td>\n",
       "      <td>UUE</td>\n",
       "      <td>0.005286</td>\n",
       "      <td>4.377270e+06</td>\n",
       "      <td>0.0</td>\n",
       "      <td>0.0</td>\n",
       "    </tr>\n",
       "    <tr>\n",
       "      <th>6</th>\n",
       "      <td>Bias</td>\n",
       "      <td>IIE</td>\n",
       "      <td>0.004974</td>\n",
       "      <td>1.418048e+07</td>\n",
       "      <td>0.0</td>\n",
       "      <td>0.0</td>\n",
       "    </tr>\n",
       "    <tr>\n",
       "      <th>8</th>\n",
       "      <td>Bias</td>\n",
       "      <td>ALS</td>\n",
       "      <td>0.001560</td>\n",
       "      <td>1.196254e+08</td>\n",
       "      <td>0.0</td>\n",
       "      <td>0.0</td>\n",
       "    </tr>\n",
       "    <tr>\n",
       "      <th>11</th>\n",
       "      <td>IIE</td>\n",
       "      <td>UUE</td>\n",
       "      <td>0.000312</td>\n",
       "      <td>7.025525e+05</td>\n",
       "      <td>0.0</td>\n",
       "      <td>0.0</td>\n",
       "    </tr>\n",
       "    <tr>\n",
       "      <th>12</th>\n",
       "      <td>IIE</td>\n",
       "      <td>ALS</td>\n",
       "      <td>-0.003414</td>\n",
       "      <td>1.231470e+07</td>\n",
       "      <td>0.0</td>\n",
       "      <td>0.0</td>\n",
       "    </tr>\n",
       "    <tr>\n",
       "      <th>15</th>\n",
       "      <td>UUE</td>\n",
       "      <td>ALS</td>\n",
       "      <td>-0.003726</td>\n",
       "      <td>3.865213e+06</td>\n",
       "      <td>0.0</td>\n",
       "      <td>0.0</td>\n",
       "    </tr>\n",
       "    <tr>\n",
       "      <th>4</th>\n",
       "      <td>Pop</td>\n",
       "      <td>III</td>\n",
       "      <td>-0.005844</td>\n",
       "      <td>1.191208e+09</td>\n",
       "      <td>0.0</td>\n",
       "      <td>0.0</td>\n",
       "    </tr>\n",
       "    <tr>\n",
       "      <th>20</th>\n",
       "      <td>III</td>\n",
       "      <td>IALS</td>\n",
       "      <td>-0.008062</td>\n",
       "      <td>4.808244e+08</td>\n",
       "      <td>0.0</td>\n",
       "      <td>0.0</td>\n",
       "    </tr>\n",
       "    <tr>\n",
       "      <th>5</th>\n",
       "      <td>Pop</td>\n",
       "      <td>IALS</td>\n",
       "      <td>-0.013906</td>\n",
       "      <td>7.618829e+08</td>\n",
       "      <td>0.0</td>\n",
       "      <td>0.0</td>\n",
       "    </tr>\n",
       "    <tr>\n",
       "      <th>9</th>\n",
       "      <td>Bias</td>\n",
       "      <td>III</td>\n",
       "      <td>-0.016127</td>\n",
       "      <td>1.931069e+08</td>\n",
       "      <td>0.0</td>\n",
       "      <td>0.0</td>\n",
       "    </tr>\n",
       "    <tr>\n",
       "      <th>18</th>\n",
       "      <td>ALS</td>\n",
       "      <td>III</td>\n",
       "      <td>-0.017687</td>\n",
       "      <td>9.890481e+07</td>\n",
       "      <td>0.0</td>\n",
       "      <td>0.0</td>\n",
       "    </tr>\n",
       "    <tr>\n",
       "      <th>13</th>\n",
       "      <td>IIE</td>\n",
       "      <td>III</td>\n",
       "      <td>-0.021100</td>\n",
       "      <td>6.313515e+06</td>\n",
       "      <td>0.0</td>\n",
       "      <td>0.0</td>\n",
       "    </tr>\n",
       "    <tr>\n",
       "      <th>16</th>\n",
       "      <td>UUE</td>\n",
       "      <td>III</td>\n",
       "      <td>-0.021412</td>\n",
       "      <td>1.068018e+06</td>\n",
       "      <td>0.0</td>\n",
       "      <td>0.0</td>\n",
       "    </tr>\n",
       "    <tr>\n",
       "      <th>10</th>\n",
       "      <td>Bias</td>\n",
       "      <td>IALS</td>\n",
       "      <td>-0.024188</td>\n",
       "      <td>5.991828e+07</td>\n",
       "      <td>0.0</td>\n",
       "      <td>0.0</td>\n",
       "    </tr>\n",
       "    <tr>\n",
       "      <th>19</th>\n",
       "      <td>ALS</td>\n",
       "      <td>IALS</td>\n",
       "      <td>-0.025748</td>\n",
       "      <td>3.119881e+07</td>\n",
       "      <td>0.0</td>\n",
       "      <td>0.0</td>\n",
       "    </tr>\n",
       "    <tr>\n",
       "      <th>14</th>\n",
       "      <td>IIE</td>\n",
       "      <td>IALS</td>\n",
       "      <td>-0.029162</td>\n",
       "      <td>2.969364e+06</td>\n",
       "      <td>0.0</td>\n",
       "      <td>0.0</td>\n",
       "    </tr>\n",
       "    <tr>\n",
       "      <th>17</th>\n",
       "      <td>UUE</td>\n",
       "      <td>IALS</td>\n",
       "      <td>-0.029474</td>\n",
       "      <td>2.304360e+05</td>\n",
       "      <td>0.0</td>\n",
       "      <td>0.0</td>\n",
       "    </tr>\n",
       "  </tbody>\n",
       "</table>\n",
       "</div>"
      ],
      "text/plain": [
       "      A1    A2      diff          stat    p  adj_p\n",
       "2    Pop   UUE  0.015568  1.859408e+06  0.0    0.0\n",
       "1    Pop   IIE  0.015256  2.244803e+07  0.0    0.0\n",
       "3    Pop   ALS  0.011842  3.500488e+08  0.0    0.0\n",
       "0    Pop  Bias  0.010282  5.450224e+08  0.0    0.0\n",
       "7   Bias   UUE  0.005286  4.377270e+06  0.0    0.0\n",
       "6   Bias   IIE  0.004974  1.418048e+07  0.0    0.0\n",
       "8   Bias   ALS  0.001560  1.196254e+08  0.0    0.0\n",
       "11   IIE   UUE  0.000312  7.025525e+05  0.0    0.0\n",
       "12   IIE   ALS -0.003414  1.231470e+07  0.0    0.0\n",
       "15   UUE   ALS -0.003726  3.865213e+06  0.0    0.0\n",
       "4    Pop   III -0.005844  1.191208e+09  0.0    0.0\n",
       "20   III  IALS -0.008062  4.808244e+08  0.0    0.0\n",
       "5    Pop  IALS -0.013906  7.618829e+08  0.0    0.0\n",
       "9   Bias   III -0.016127  1.931069e+08  0.0    0.0\n",
       "18   ALS   III -0.017687  9.890481e+07  0.0    0.0\n",
       "13   IIE   III -0.021100  6.313515e+06  0.0    0.0\n",
       "16   UUE   III -0.021412  1.068018e+06  0.0    0.0\n",
       "10  Bias  IALS -0.024188  5.991828e+07  0.0    0.0\n",
       "19   ALS  IALS -0.025748  3.119881e+07  0.0    0.0\n",
       "14   IIE  IALS -0.029162  2.969364e+06  0.0    0.0\n",
       "17   UUE  IALS -0.029474  2.304360e+05  0.0    0.0"
      ]
     },
     "execution_count": 21,
     "metadata": {},
     "output_type": "execute_result"
    }
   ],
   "source": [
    "am_wilcox('precision').sort_values('diff', ascending=False)"
   ]
  },
  {
   "cell_type": "markdown",
   "id": "0b7f8ddd",
   "metadata": {
    "papermill": {
     "duration": 0.026971,
     "end_time": "2022-02-17T00:29:18.083220",
     "exception": false,
     "start_time": "2022-02-17T00:29:18.056249",
     "status": "completed"
    },
    "tags": []
   },
   "source": [
    "We can consider pairs with an adjusted $p$ value less than 0.05 (5.0e-2) to be statistically significant.  However, we have so many data points, the substance of significance is questionable.  Pay attention to the 'diff' column, which is the difference between A1 and A2 (how much A1 outperforms A2)."
   ]
  },
  {
   "cell_type": "markdown",
   "id": "a41de0e1",
   "metadata": {
    "papermill": {
     "duration": 0.027178,
     "end_time": "2022-02-17T00:29:18.139509",
     "exception": false,
     "start_time": "2022-02-17T00:29:18.112331",
     "status": "completed"
    },
    "tags": []
   },
   "source": [
    "### nDCG"
   ]
  },
  {
   "cell_type": "markdown",
   "id": "6cb9da06",
   "metadata": {
    "papermill": {
     "duration": 0.026517,
     "end_time": "2022-02-17T00:29:18.194215",
     "exception": false,
     "start_time": "2022-02-17T00:29:18.167698",
     "status": "completed"
    },
    "tags": []
   },
   "source": [
    "Now let's do the same for nDCG:"
   ]
  },
  {
   "cell_type": "code",
   "execution_count": 22,
   "id": "6aeba633",
   "metadata": {
    "execution": {
     "iopub.execute_input": "2022-02-17T00:29:18.250152Z",
     "iopub.status.busy": "2022-02-17T00:29:18.249693Z",
     "iopub.status.idle": "2022-02-17T00:29:25.568571Z",
     "shell.execute_reply": "2022-02-17T00:29:25.568143Z"
    },
    "papermill": {
     "duration": 7.34856,
     "end_time": "2022-02-17T00:29:25.569876",
     "exception": false,
     "start_time": "2022-02-17T00:29:18.221316",
     "status": "completed"
    },
    "tags": []
   },
   "outputs": [
    {
     "data": {
      "text/plain": [
       "stat    506332.807727\n",
       "p            0.000000\n",
       "Name: ndcg, dtype: float64"
      ]
     },
     "execution_count": 22,
     "metadata": {},
     "output_type": "execute_result"
    }
   ],
   "source": [
    "metric_friedman('ndcg')"
   ]
  },
  {
   "cell_type": "code",
   "execution_count": 23,
   "id": "d2cc6c46",
   "metadata": {
    "execution": {
     "iopub.execute_input": "2022-02-17T00:29:25.626630Z",
     "iopub.status.busy": "2022-02-17T00:29:25.626074Z",
     "iopub.status.idle": "2022-02-17T00:29:26.445093Z",
     "shell.execute_reply": "2022-02-17T00:29:26.444711Z"
    },
    "papermill": {
     "duration": 0.849425,
     "end_time": "2022-02-17T00:29:26.446353",
     "exception": false,
     "start_time": "2022-02-17T00:29:25.596928",
     "status": "completed"
    },
    "tags": []
   },
   "outputs": [
    {
     "data": {
      "text/html": [
       "<div>\n",
       "<style scoped>\n",
       "    .dataframe tbody tr th:only-of-type {\n",
       "        vertical-align: middle;\n",
       "    }\n",
       "\n",
       "    .dataframe tbody tr th {\n",
       "        vertical-align: top;\n",
       "    }\n",
       "\n",
       "    .dataframe thead th {\n",
       "        text-align: right;\n",
       "    }\n",
       "</style>\n",
       "<table border=\"1\" class=\"dataframe\">\n",
       "  <thead>\n",
       "    <tr style=\"text-align: right;\">\n",
       "      <th></th>\n",
       "      <th>A1</th>\n",
       "      <th>A2</th>\n",
       "      <th>diff</th>\n",
       "      <th>stat</th>\n",
       "      <th>p</th>\n",
       "      <th>adj_p</th>\n",
       "    </tr>\n",
       "  </thead>\n",
       "  <tbody>\n",
       "    <tr>\n",
       "      <th>2</th>\n",
       "      <td>Pop</td>\n",
       "      <td>UUE</td>\n",
       "      <td>0.134801</td>\n",
       "      <td>1.744872e+06</td>\n",
       "      <td>0.0</td>\n",
       "      <td>0.0</td>\n",
       "    </tr>\n",
       "    <tr>\n",
       "      <th>1</th>\n",
       "      <td>Pop</td>\n",
       "      <td>IIE</td>\n",
       "      <td>0.133017</td>\n",
       "      <td>2.106708e+07</td>\n",
       "      <td>0.0</td>\n",
       "      <td>0.0</td>\n",
       "    </tr>\n",
       "    <tr>\n",
       "      <th>3</th>\n",
       "      <td>Pop</td>\n",
       "      <td>ALS</td>\n",
       "      <td>0.102291</td>\n",
       "      <td>6.734326e+08</td>\n",
       "      <td>0.0</td>\n",
       "      <td>0.0</td>\n",
       "    </tr>\n",
       "    <tr>\n",
       "      <th>0</th>\n",
       "      <td>Pop</td>\n",
       "      <td>Bias</td>\n",
       "      <td>0.081467</td>\n",
       "      <td>1.258265e+09</td>\n",
       "      <td>0.0</td>\n",
       "      <td>0.0</td>\n",
       "    </tr>\n",
       "    <tr>\n",
       "      <th>7</th>\n",
       "      <td>Bias</td>\n",
       "      <td>UUE</td>\n",
       "      <td>0.053335</td>\n",
       "      <td>3.419952e+06</td>\n",
       "      <td>0.0</td>\n",
       "      <td>0.0</td>\n",
       "    </tr>\n",
       "    <tr>\n",
       "      <th>6</th>\n",
       "      <td>Bias</td>\n",
       "      <td>IIE</td>\n",
       "      <td>0.051550</td>\n",
       "      <td>1.156230e+07</td>\n",
       "      <td>0.0</td>\n",
       "      <td>0.0</td>\n",
       "    </tr>\n",
       "    <tr>\n",
       "      <th>8</th>\n",
       "      <td>Bias</td>\n",
       "      <td>ALS</td>\n",
       "      <td>0.020824</td>\n",
       "      <td>3.987493e+08</td>\n",
       "      <td>0.0</td>\n",
       "      <td>0.0</td>\n",
       "    </tr>\n",
       "    <tr>\n",
       "      <th>11</th>\n",
       "      <td>IIE</td>\n",
       "      <td>UUE</td>\n",
       "      <td>0.001785</td>\n",
       "      <td>8.012785e+05</td>\n",
       "      <td>0.0</td>\n",
       "      <td>0.0</td>\n",
       "    </tr>\n",
       "    <tr>\n",
       "      <th>12</th>\n",
       "      <td>IIE</td>\n",
       "      <td>ALS</td>\n",
       "      <td>-0.030726</td>\n",
       "      <td>1.107945e+07</td>\n",
       "      <td>0.0</td>\n",
       "      <td>0.0</td>\n",
       "    </tr>\n",
       "    <tr>\n",
       "      <th>15</th>\n",
       "      <td>UUE</td>\n",
       "      <td>ALS</td>\n",
       "      <td>-0.032510</td>\n",
       "      <td>3.089066e+06</td>\n",
       "      <td>0.0</td>\n",
       "      <td>0.0</td>\n",
       "    </tr>\n",
       "    <tr>\n",
       "      <th>20</th>\n",
       "      <td>III</td>\n",
       "      <td>IALS</td>\n",
       "      <td>-0.033759</td>\n",
       "      <td>3.433006e+09</td>\n",
       "      <td>0.0</td>\n",
       "      <td>0.0</td>\n",
       "    </tr>\n",
       "    <tr>\n",
       "      <th>4</th>\n",
       "      <td>Pop</td>\n",
       "      <td>III</td>\n",
       "      <td>-0.085818</td>\n",
       "      <td>2.199642e+09</td>\n",
       "      <td>0.0</td>\n",
       "      <td>0.0</td>\n",
       "    </tr>\n",
       "    <tr>\n",
       "      <th>5</th>\n",
       "      <td>Pop</td>\n",
       "      <td>IALS</td>\n",
       "      <td>-0.119577</td>\n",
       "      <td>1.909144e+09</td>\n",
       "      <td>0.0</td>\n",
       "      <td>0.0</td>\n",
       "    </tr>\n",
       "    <tr>\n",
       "      <th>9</th>\n",
       "      <td>Bias</td>\n",
       "      <td>III</td>\n",
       "      <td>-0.167284</td>\n",
       "      <td>6.648124e+08</td>\n",
       "      <td>0.0</td>\n",
       "      <td>0.0</td>\n",
       "    </tr>\n",
       "    <tr>\n",
       "      <th>18</th>\n",
       "      <td>ALS</td>\n",
       "      <td>III</td>\n",
       "      <td>-0.188109</td>\n",
       "      <td>2.653568e+08</td>\n",
       "      <td>0.0</td>\n",
       "      <td>0.0</td>\n",
       "    </tr>\n",
       "    <tr>\n",
       "      <th>10</th>\n",
       "      <td>Bias</td>\n",
       "      <td>IALS</td>\n",
       "      <td>-0.201043</td>\n",
       "      <td>4.647127e+08</td>\n",
       "      <td>0.0</td>\n",
       "      <td>0.0</td>\n",
       "    </tr>\n",
       "    <tr>\n",
       "      <th>13</th>\n",
       "      <td>IIE</td>\n",
       "      <td>III</td>\n",
       "      <td>-0.218834</td>\n",
       "      <td>6.064062e+06</td>\n",
       "      <td>0.0</td>\n",
       "      <td>0.0</td>\n",
       "    </tr>\n",
       "    <tr>\n",
       "      <th>16</th>\n",
       "      <td>UUE</td>\n",
       "      <td>III</td>\n",
       "      <td>-0.220619</td>\n",
       "      <td>9.959440e+05</td>\n",
       "      <td>0.0</td>\n",
       "      <td>0.0</td>\n",
       "    </tr>\n",
       "    <tr>\n",
       "      <th>19</th>\n",
       "      <td>ALS</td>\n",
       "      <td>IALS</td>\n",
       "      <td>-0.221867</td>\n",
       "      <td>1.894724e+08</td>\n",
       "      <td>0.0</td>\n",
       "      <td>0.0</td>\n",
       "    </tr>\n",
       "    <tr>\n",
       "      <th>14</th>\n",
       "      <td>IIE</td>\n",
       "      <td>IALS</td>\n",
       "      <td>-0.252593</td>\n",
       "      <td>5.151746e+06</td>\n",
       "      <td>0.0</td>\n",
       "      <td>0.0</td>\n",
       "    </tr>\n",
       "    <tr>\n",
       "      <th>17</th>\n",
       "      <td>UUE</td>\n",
       "      <td>IALS</td>\n",
       "      <td>-0.254378</td>\n",
       "      <td>2.590315e+05</td>\n",
       "      <td>0.0</td>\n",
       "      <td>0.0</td>\n",
       "    </tr>\n",
       "  </tbody>\n",
       "</table>\n",
       "</div>"
      ],
      "text/plain": [
       "      A1    A2      diff          stat    p  adj_p\n",
       "2    Pop   UUE  0.134801  1.744872e+06  0.0    0.0\n",
       "1    Pop   IIE  0.133017  2.106708e+07  0.0    0.0\n",
       "3    Pop   ALS  0.102291  6.734326e+08  0.0    0.0\n",
       "0    Pop  Bias  0.081467  1.258265e+09  0.0    0.0\n",
       "7   Bias   UUE  0.053335  3.419952e+06  0.0    0.0\n",
       "6   Bias   IIE  0.051550  1.156230e+07  0.0    0.0\n",
       "8   Bias   ALS  0.020824  3.987493e+08  0.0    0.0\n",
       "11   IIE   UUE  0.001785  8.012785e+05  0.0    0.0\n",
       "12   IIE   ALS -0.030726  1.107945e+07  0.0    0.0\n",
       "15   UUE   ALS -0.032510  3.089066e+06  0.0    0.0\n",
       "20   III  IALS -0.033759  3.433006e+09  0.0    0.0\n",
       "4    Pop   III -0.085818  2.199642e+09  0.0    0.0\n",
       "5    Pop  IALS -0.119577  1.909144e+09  0.0    0.0\n",
       "9   Bias   III -0.167284  6.648124e+08  0.0    0.0\n",
       "18   ALS   III -0.188109  2.653568e+08  0.0    0.0\n",
       "10  Bias  IALS -0.201043  4.647127e+08  0.0    0.0\n",
       "13   IIE   III -0.218834  6.064062e+06  0.0    0.0\n",
       "16   UUE   III -0.220619  9.959440e+05  0.0    0.0\n",
       "19   ALS  IALS -0.221867  1.894724e+08  0.0    0.0\n",
       "14   IIE  IALS -0.252593  5.151746e+06  0.0    0.0\n",
       "17   UUE  IALS -0.254378  2.590315e+05  0.0    0.0"
      ]
     },
     "execution_count": 23,
     "metadata": {},
     "output_type": "execute_result"
    }
   ],
   "source": [
    "am_wilcox('ndcg').sort_values('diff', ascending=False)"
   ]
  },
  {
   "cell_type": "markdown",
   "id": "379ff00c",
   "metadata": {
    "papermill": {
     "duration": 0.027842,
     "end_time": "2022-02-17T00:29:26.501629",
     "exception": false,
     "start_time": "2022-02-17T00:29:26.473787",
     "status": "completed"
    },
    "tags": []
   },
   "source": [
    "### Reciprocal Rank\n",
    "\n",
    "We'll do this also for reciprocal rank (what is aggregated to compute MRR):"
   ]
  },
  {
   "cell_type": "code",
   "execution_count": 24,
   "id": "036f780f",
   "metadata": {
    "execution": {
     "iopub.execute_input": "2022-02-17T00:29:26.557493Z",
     "iopub.status.busy": "2022-02-17T00:29:26.557333Z",
     "iopub.status.idle": "2022-02-17T00:29:33.761500Z",
     "shell.execute_reply": "2022-02-17T00:29:33.760775Z"
    },
    "papermill": {
     "duration": 7.233825,
     "end_time": "2022-02-17T00:29:33.762768",
     "exception": false,
     "start_time": "2022-02-17T00:29:26.528943",
     "status": "completed"
    },
    "tags": []
   },
   "outputs": [
    {
     "data": {
      "text/plain": [
       "stat    476686.481378\n",
       "p            0.000000\n",
       "Name: recip_rank, dtype: float64"
      ]
     },
     "execution_count": 24,
     "metadata": {},
     "output_type": "execute_result"
    }
   ],
   "source": [
    "metric_friedman('recip_rank')"
   ]
  },
  {
   "cell_type": "code",
   "execution_count": 25,
   "id": "a141b489",
   "metadata": {
    "execution": {
     "iopub.execute_input": "2022-02-17T00:29:33.821425Z",
     "iopub.status.busy": "2022-02-17T00:29:33.821157Z",
     "iopub.status.idle": "2022-02-17T00:29:34.519674Z",
     "shell.execute_reply": "2022-02-17T00:29:34.518982Z"
    },
    "papermill": {
     "duration": 0.730287,
     "end_time": "2022-02-17T00:29:34.521026",
     "exception": false,
     "start_time": "2022-02-17T00:29:33.790739",
     "status": "completed"
    },
    "tags": []
   },
   "outputs": [
    {
     "data": {
      "text/html": [
       "<div>\n",
       "<style scoped>\n",
       "    .dataframe tbody tr th:only-of-type {\n",
       "        vertical-align: middle;\n",
       "    }\n",
       "\n",
       "    .dataframe tbody tr th {\n",
       "        vertical-align: top;\n",
       "    }\n",
       "\n",
       "    .dataframe thead th {\n",
       "        text-align: right;\n",
       "    }\n",
       "</style>\n",
       "<table border=\"1\" class=\"dataframe\">\n",
       "  <thead>\n",
       "    <tr style=\"text-align: right;\">\n",
       "      <th></th>\n",
       "      <th>A1</th>\n",
       "      <th>A2</th>\n",
       "      <th>diff</th>\n",
       "      <th>stat</th>\n",
       "      <th>p</th>\n",
       "      <th>adj_p</th>\n",
       "    </tr>\n",
       "  </thead>\n",
       "  <tbody>\n",
       "    <tr>\n",
       "      <th>2</th>\n",
       "      <td>Pop</td>\n",
       "      <td>UUE</td>\n",
       "      <td>0.159589</td>\n",
       "      <td>8.604840e+05</td>\n",
       "      <td>0.000000e+00</td>\n",
       "      <td>0.000000e+00</td>\n",
       "    </tr>\n",
       "    <tr>\n",
       "      <th>1</th>\n",
       "      <td>Pop</td>\n",
       "      <td>IIE</td>\n",
       "      <td>0.158907</td>\n",
       "      <td>1.829077e+07</td>\n",
       "      <td>0.000000e+00</td>\n",
       "      <td>0.000000e+00</td>\n",
       "    </tr>\n",
       "    <tr>\n",
       "      <th>3</th>\n",
       "      <td>Pop</td>\n",
       "      <td>ALS</td>\n",
       "      <td>0.122654</td>\n",
       "      <td>8.535941e+08</td>\n",
       "      <td>0.000000e+00</td>\n",
       "      <td>0.000000e+00</td>\n",
       "    </tr>\n",
       "    <tr>\n",
       "      <th>0</th>\n",
       "      <td>Pop</td>\n",
       "      <td>Bias</td>\n",
       "      <td>0.080286</td>\n",
       "      <td>1.568158e+09</td>\n",
       "      <td>0.000000e+00</td>\n",
       "      <td>0.000000e+00</td>\n",
       "    </tr>\n",
       "    <tr>\n",
       "      <th>7</th>\n",
       "      <td>Bias</td>\n",
       "      <td>UUE</td>\n",
       "      <td>0.079303</td>\n",
       "      <td>1.537843e+06</td>\n",
       "      <td>0.000000e+00</td>\n",
       "      <td>0.000000e+00</td>\n",
       "    </tr>\n",
       "    <tr>\n",
       "      <th>6</th>\n",
       "      <td>Bias</td>\n",
       "      <td>IIE</td>\n",
       "      <td>0.078620</td>\n",
       "      <td>8.915326e+06</td>\n",
       "      <td>0.000000e+00</td>\n",
       "      <td>0.000000e+00</td>\n",
       "    </tr>\n",
       "    <tr>\n",
       "      <th>8</th>\n",
       "      <td>Bias</td>\n",
       "      <td>ALS</td>\n",
       "      <td>0.042368</td>\n",
       "      <td>3.972713e+08</td>\n",
       "      <td>0.000000e+00</td>\n",
       "      <td>0.000000e+00</td>\n",
       "    </tr>\n",
       "    <tr>\n",
       "      <th>20</th>\n",
       "      <td>III</td>\n",
       "      <td>IALS</td>\n",
       "      <td>0.033251</td>\n",
       "      <td>3.731154e+09</td>\n",
       "      <td>4.108015e-25</td>\n",
       "      <td>8.626831e-24</td>\n",
       "    </tr>\n",
       "    <tr>\n",
       "      <th>11</th>\n",
       "      <td>IIE</td>\n",
       "      <td>UUE</td>\n",
       "      <td>0.000682</td>\n",
       "      <td>6.640155e+05</td>\n",
       "      <td>0.000000e+00</td>\n",
       "      <td>0.000000e+00</td>\n",
       "    </tr>\n",
       "    <tr>\n",
       "      <th>12</th>\n",
       "      <td>IIE</td>\n",
       "      <td>ALS</td>\n",
       "      <td>-0.036252</td>\n",
       "      <td>9.661312e+06</td>\n",
       "      <td>0.000000e+00</td>\n",
       "      <td>0.000000e+00</td>\n",
       "    </tr>\n",
       "    <tr>\n",
       "      <th>15</th>\n",
       "      <td>UUE</td>\n",
       "      <td>ALS</td>\n",
       "      <td>-0.036935</td>\n",
       "      <td>1.897689e+06</td>\n",
       "      <td>0.000000e+00</td>\n",
       "      <td>0.000000e+00</td>\n",
       "    </tr>\n",
       "    <tr>\n",
       "      <th>5</th>\n",
       "      <td>Pop</td>\n",
       "      <td>IALS</td>\n",
       "      <td>-0.098652</td>\n",
       "      <td>2.715584e+09</td>\n",
       "      <td>0.000000e+00</td>\n",
       "      <td>0.000000e+00</td>\n",
       "    </tr>\n",
       "    <tr>\n",
       "      <th>4</th>\n",
       "      <td>Pop</td>\n",
       "      <td>III</td>\n",
       "      <td>-0.131904</td>\n",
       "      <td>2.266736e+09</td>\n",
       "      <td>0.000000e+00</td>\n",
       "      <td>0.000000e+00</td>\n",
       "    </tr>\n",
       "    <tr>\n",
       "      <th>10</th>\n",
       "      <td>Bias</td>\n",
       "      <td>IALS</td>\n",
       "      <td>-0.178939</td>\n",
       "      <td>1.209544e+09</td>\n",
       "      <td>0.000000e+00</td>\n",
       "      <td>0.000000e+00</td>\n",
       "    </tr>\n",
       "    <tr>\n",
       "      <th>9</th>\n",
       "      <td>Bias</td>\n",
       "      <td>III</td>\n",
       "      <td>-0.212190</td>\n",
       "      <td>1.080731e+09</td>\n",
       "      <td>0.000000e+00</td>\n",
       "      <td>0.000000e+00</td>\n",
       "    </tr>\n",
       "    <tr>\n",
       "      <th>19</th>\n",
       "      <td>ALS</td>\n",
       "      <td>IALS</td>\n",
       "      <td>-0.221307</td>\n",
       "      <td>5.952695e+08</td>\n",
       "      <td>0.000000e+00</td>\n",
       "      <td>0.000000e+00</td>\n",
       "    </tr>\n",
       "    <tr>\n",
       "      <th>18</th>\n",
       "      <td>ALS</td>\n",
       "      <td>III</td>\n",
       "      <td>-0.254558</td>\n",
       "      <td>4.862418e+08</td>\n",
       "      <td>0.000000e+00</td>\n",
       "      <td>0.000000e+00</td>\n",
       "    </tr>\n",
       "    <tr>\n",
       "      <th>14</th>\n",
       "      <td>IIE</td>\n",
       "      <td>IALS</td>\n",
       "      <td>-0.257559</td>\n",
       "      <td>9.846168e+06</td>\n",
       "      <td>0.000000e+00</td>\n",
       "      <td>0.000000e+00</td>\n",
       "    </tr>\n",
       "    <tr>\n",
       "      <th>17</th>\n",
       "      <td>UUE</td>\n",
       "      <td>IALS</td>\n",
       "      <td>-0.258241</td>\n",
       "      <td>1.926595e+05</td>\n",
       "      <td>0.000000e+00</td>\n",
       "      <td>0.000000e+00</td>\n",
       "    </tr>\n",
       "    <tr>\n",
       "      <th>13</th>\n",
       "      <td>IIE</td>\n",
       "      <td>III</td>\n",
       "      <td>-0.290811</td>\n",
       "      <td>6.779125e+06</td>\n",
       "      <td>0.000000e+00</td>\n",
       "      <td>0.000000e+00</td>\n",
       "    </tr>\n",
       "    <tr>\n",
       "      <th>16</th>\n",
       "      <td>UUE</td>\n",
       "      <td>III</td>\n",
       "      <td>-0.291493</td>\n",
       "      <td>5.797055e+05</td>\n",
       "      <td>0.000000e+00</td>\n",
       "      <td>0.000000e+00</td>\n",
       "    </tr>\n",
       "  </tbody>\n",
       "</table>\n",
       "</div>"
      ],
      "text/plain": [
       "      A1    A2      diff          stat             p         adj_p\n",
       "2    Pop   UUE  0.159589  8.604840e+05  0.000000e+00  0.000000e+00\n",
       "1    Pop   IIE  0.158907  1.829077e+07  0.000000e+00  0.000000e+00\n",
       "3    Pop   ALS  0.122654  8.535941e+08  0.000000e+00  0.000000e+00\n",
       "0    Pop  Bias  0.080286  1.568158e+09  0.000000e+00  0.000000e+00\n",
       "7   Bias   UUE  0.079303  1.537843e+06  0.000000e+00  0.000000e+00\n",
       "6   Bias   IIE  0.078620  8.915326e+06  0.000000e+00  0.000000e+00\n",
       "8   Bias   ALS  0.042368  3.972713e+08  0.000000e+00  0.000000e+00\n",
       "20   III  IALS  0.033251  3.731154e+09  4.108015e-25  8.626831e-24\n",
       "11   IIE   UUE  0.000682  6.640155e+05  0.000000e+00  0.000000e+00\n",
       "12   IIE   ALS -0.036252  9.661312e+06  0.000000e+00  0.000000e+00\n",
       "15   UUE   ALS -0.036935  1.897689e+06  0.000000e+00  0.000000e+00\n",
       "5    Pop  IALS -0.098652  2.715584e+09  0.000000e+00  0.000000e+00\n",
       "4    Pop   III -0.131904  2.266736e+09  0.000000e+00  0.000000e+00\n",
       "10  Bias  IALS -0.178939  1.209544e+09  0.000000e+00  0.000000e+00\n",
       "9   Bias   III -0.212190  1.080731e+09  0.000000e+00  0.000000e+00\n",
       "19   ALS  IALS -0.221307  5.952695e+08  0.000000e+00  0.000000e+00\n",
       "18   ALS   III -0.254558  4.862418e+08  0.000000e+00  0.000000e+00\n",
       "14   IIE  IALS -0.257559  9.846168e+06  0.000000e+00  0.000000e+00\n",
       "17   UUE  IALS -0.258241  1.926595e+05  0.000000e+00  0.000000e+00\n",
       "13   IIE   III -0.290811  6.779125e+06  0.000000e+00  0.000000e+00\n",
       "16   UUE   III -0.291493  5.797055e+05  0.000000e+00  0.000000e+00"
      ]
     },
     "execution_count": 25,
     "metadata": {},
     "output_type": "execute_result"
    }
   ],
   "source": [
    "am_wilcox('recip_rank').sort_values('diff', ascending=False)"
   ]
  },
  {
   "cell_type": "markdown",
   "id": "88f0951b",
   "metadata": {
    "papermill": {
     "duration": 0.030475,
     "end_time": "2022-02-17T00:29:34.580209",
     "exception": false,
     "start_time": "2022-02-17T00:29:34.549734",
     "status": "completed"
    },
    "tags": []
   },
   "source": [
    "## Prediction RMSE\n",
    "\n",
    "We will also look at the prediction RMSE."
   ]
  },
  {
   "cell_type": "code",
   "execution_count": 26,
   "id": "d9fd7e49",
   "metadata": {
    "execution": {
     "iopub.execute_input": "2022-02-17T00:29:34.638094Z",
     "iopub.status.busy": "2022-02-17T00:29:34.637855Z",
     "iopub.status.idle": "2022-02-17T00:35:58.075043Z",
     "shell.execute_reply": "2022-02-17T00:35:58.073914Z"
    },
    "papermill": {
     "duration": 383.468473,
     "end_time": "2022-02-17T00:35:58.076895",
     "exception": false,
     "start_time": "2022-02-17T00:29:34.608422",
     "status": "completed"
    },
    "tags": []
   },
   "outputs": [],
   "source": [
    "user_rmse = preds.groupby(['algorithm', 'user']).apply(lambda df: rmse(df['prediction'], df['rating']))\n",
    "user_rmse = user_rmse.reset_index(name='RMSE')"
   ]
  },
  {
   "cell_type": "code",
   "execution_count": 27,
   "id": "a962f487",
   "metadata": {
    "execution": {
     "iopub.execute_input": "2022-02-17T00:35:58.155411Z",
     "iopub.status.busy": "2022-02-17T00:35:58.155071Z",
     "iopub.status.idle": "2022-02-17T00:36:03.552043Z",
     "shell.execute_reply": "2022-02-17T00:36:03.551628Z"
    },
    "papermill": {
     "duration": 5.433278,
     "end_time": "2022-02-17T00:36:03.553281",
     "exception": false,
     "start_time": "2022-02-17T00:35:58.120003",
     "status": "completed"
    },
    "tags": []
   },
   "outputs": [
    {
     "data": {
      "text/plain": [
       "<seaborn.axisgrid.FacetGrid at 0x7fffccdb9310>"
      ]
     },
     "execution_count": 27,
     "metadata": {},
     "output_type": "execute_result"
    },
    {
     "data": {
      "image/png": "[encoded data removed]",
      "text/plain": [
       "<Figure size 360x360 with 1 Axes>"
      ]
     },
     "metadata": {
      "needs_background": "light"
     },
     "output_type": "display_data"
    }
   ],
   "source": [
    "sns.catplot(x='algorithm', y='RMSE', data=user_rmse, kind='bar')"
   ]
  },
  {
   "cell_type": "code",
   "execution_count": null,
   "id": "51d8a7e0",
   "metadata": {
    "papermill": {
     "duration": 0.029134,
     "end_time": "2022-02-17T00:36:03.611935",
     "exception": false,
     "start_time": "2022-02-17T00:36:03.582801",
     "status": "completed"
    },
    "tags": []
   },
   "outputs": [],
   "source": []
  }
 ],
 "metadata": {
  "kernelspec": {
   "display_name": "Python 3 (ipykernel)",
   "language": "python",
   "name": "python3"
  },
  "language_info": {
   "codemirror_mode": {
    "name": "ipython",
    "version": 3
   },
   "file_extension": ".py",
   "mimetype": "text/x-python",
   "name": "python",
   "nbconvert_exporter": "python",
   "pygments_lexer": "ipython3",
   "version": "3.9.10"
  },
  "papermill": {
   "default_parameters": {},
   "duration": 629.319966,
   "end_time": "2022-02-17T00:36:04.261354",
   "environment_variables": {},
   "exception": null,
   "input_path": "eval-report.ipynb",
   "output_path": "eval-report.ml20m.ipynb",
   "parameters": {
    "dataset": "ml20m"
   },
   "start_time": "2022-02-17T00:25:34.941388",
   "version": "2.3.4"
  }
 },
 "nbformat": 4,
 "nbformat_minor": 5
}