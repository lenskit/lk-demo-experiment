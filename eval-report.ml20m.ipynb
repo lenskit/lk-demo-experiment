{
 "cells": [
  {
   "cell_type": "markdown",
   "id": "7291eba0",
   "metadata": {
    "papermill": {
     "duration": 0.010374,
     "end_time": "2024-12-14T23:14:05.334441",
     "exception": false,
     "start_time": "2024-12-14T23:14:05.324067",
     "status": "completed"
    },
    "tags": []
   },
   "source": [
    "# Evaluation Analysis for Recommender Output"
   ]
  },
  {
   "cell_type": "markdown",
   "id": "872010be",
   "metadata": {
    "papermill": {
     "duration": 0.001019,
     "end_time": "2024-12-14T23:14:05.336687",
     "exception": false,
     "start_time": "2024-12-14T23:14:05.335668",
     "status": "completed"
    },
    "tags": []
   },
   "source": [
    "In this section we will analyze and compare the generated recommendations and predictions from a predefined list of algorithms with the goal of assessing the performance of each algorithm with respect to a metric. In other words, we would rank the algorithms for each metric considered with respect to performance."
   ]
  },
  {
   "cell_type": "markdown",
   "id": "aaaf15df",
   "metadata": {
    "papermill": {
     "duration": 0.000998,
     "end_time": "2024-12-14T23:14:05.338736",
     "exception": false,
     "start_time": "2024-12-14T23:14:05.337738",
     "status": "completed"
    },
    "tags": []
   },
   "source": [
    "## Setup"
   ]
  },
  {
   "cell_type": "markdown",
   "id": "8684b9cf",
   "metadata": {
    "papermill": {
     "duration": 0.001057,
     "end_time": "2024-12-14T23:14:05.340836",
     "exception": false,
     "start_time": "2024-12-14T23:14:05.339779",
     "status": "completed"
    },
    "tags": []
   },
   "source": [
    "Below are the list of packages required to successfully run the analysis. They are divided into partitions to signify their specific task.<br>\n",
    "We need the pathlib package for working with files and folders"
   ]
  },
  {
   "cell_type": "code",
   "execution_count": 1,
   "id": "ee069941",
   "metadata": {
    "execution": {
     "iopub.execute_input": "2024-12-14T23:14:05.343513Z",
     "iopub.status.busy": "2024-12-14T23:14:05.343397Z",
     "iopub.status.idle": "2024-12-14T23:14:05.345510Z",
     "shell.execute_reply": "2024-12-14T23:14:05.345264Z"
    },
    "papermill": {
     "duration": 0.004111,
     "end_time": "2024-12-14T23:14:05.345997",
     "exception": false,
     "start_time": "2024-12-14T23:14:05.341886",
     "status": "completed"
    },
    "tags": []
   },
   "outputs": [],
   "source": [
    "from pathlib import Path\n",
    "import json"
   ]
  },
  {
   "cell_type": "markdown",
   "id": "50590acc",
   "metadata": {
    "papermill": {
     "duration": 0.001093,
     "end_time": "2024-12-14T23:14:05.348625",
     "exception": false,
     "start_time": "2024-12-14T23:14:05.347532",
     "status": "completed"
    },
    "tags": []
   },
   "source": [
    "We would use the pandas for analyzing and manipulating our data while seaborn and matplotlib are used for data visualization. statsmodels.graphics.gofplots and scipy.stats.shapiro are used for normality check. Scipy.stats.friedmanchisquare is a non-parametric test used to determine the statistical significance in metric results and the wilcoxon test is used for pairwise comparison of sample data."
   ]
  },
  {
   "cell_type": "code",
   "execution_count": 2,
   "id": "d40cc792",
   "metadata": {
    "execution": {
     "iopub.execute_input": "2024-12-14T23:14:05.351124Z",
     "iopub.status.busy": "2024-12-14T23:14:05.351060Z",
     "iopub.status.idle": "2024-12-14T23:14:05.793131Z",
     "shell.execute_reply": "2024-12-14T23:14:05.792840Z"
    },
    "lines_to_next_cell": 2,
    "papermill": {
     "duration": 0.44428,
     "end_time": "2024-12-14T23:14:05.794012",
     "exception": false,
     "start_time": "2024-12-14T23:14:05.349732",
     "status": "completed"
    },
    "tags": []
   },
   "outputs": [],
   "source": [
    "import pandas as pd\n",
    "import seaborn as sns\n",
    "import matplotlib.pyplot as plt\n",
    "from statsmodels.graphics.gofplots import qqplot\n",
    "from scipy.stats import shapiro\n",
    "from scipy.stats import friedmanchisquare, wilcoxon\n",
    "from itertools import combinations"
   ]
  },
  {
   "cell_type": "markdown",
   "id": "76360899",
   "metadata": {
    "papermill": {
     "duration": 0.008805,
     "end_time": "2024-12-14T23:14:05.804229",
     "exception": false,
     "start_time": "2024-12-14T23:14:05.795424",
     "status": "completed"
    },
    "tags": []
   },
   "source": [
    "Import the LensKit metrics for analysis:"
   ]
  },
  {
   "cell_type": "code",
   "execution_count": 3,
   "id": "9f0614f8",
   "metadata": {
    "execution": {
     "iopub.execute_input": "2024-12-14T23:14:05.807283Z",
     "iopub.status.busy": "2024-12-14T23:14:05.807129Z",
     "iopub.status.idle": "2024-12-14T23:14:06.453532Z",
     "shell.execute_reply": "2024-12-14T23:14:06.453243Z"
    },
    "papermill": {
     "duration": 0.648783,
     "end_time": "2024-12-14T23:14:06.454264",
     "exception": false,
     "start_time": "2024-12-14T23:14:05.805481",
     "status": "completed"
    },
    "tags": []
   },
   "outputs": [],
   "source": [
    "from lenskit.data import ItemListCollection, UserIDKey\n",
    "from lenskit.metrics import RunAnalysis, RMSE, NDCG, RecipRank, RBP"
   ]
  },
  {
   "cell_type": "markdown",
   "id": "44472f41",
   "metadata": {
    "papermill": {
     "duration": 0.001214,
     "end_time": "2024-12-14T23:14:06.456883",
     "exception": false,
     "start_time": "2024-12-14T23:14:06.455669",
     "status": "completed"
    },
    "tags": []
   },
   "source": [
    "## Load Data\n",
    "\n",
    "The recommendations are in `runs`, and we will need to reassemble the test data from `test`."
   ]
  },
  {
   "cell_type": "code",
   "execution_count": 4,
   "id": "a854029a",
   "metadata": {
    "execution": {
     "iopub.execute_input": "2024-12-14T23:14:06.459786Z",
     "iopub.status.busy": "2024-12-14T23:14:06.459694Z",
     "iopub.status.idle": "2024-12-14T23:14:06.461237Z",
     "shell.execute_reply": "2024-12-14T23:14:06.461073Z"
    },
    "papermill": {
     "duration": 0.003655,
     "end_time": "2024-12-14T23:14:06.461676",
     "exception": false,
     "start_time": "2024-12-14T23:14:06.458021",
     "status": "completed"
    },
    "tags": [
     "parameters"
    ]
   },
   "outputs": [],
   "source": [
    "dataset = \"ml100k\""
   ]
  },
  {
   "cell_type": "code",
   "execution_count": 5,
   "id": "14f9ed3d",
   "metadata": {
    "execution": {
     "iopub.execute_input": "2024-12-14T23:14:06.464537Z",
     "iopub.status.busy": "2024-12-14T23:14:06.464425Z",
     "iopub.status.idle": "2024-12-14T23:14:06.465821Z",
     "shell.execute_reply": "2024-12-14T23:14:06.465591Z"
    },
    "papermill": {
     "duration": 0.003343,
     "end_time": "2024-12-14T23:14:06.466185",
     "exception": false,
     "start_time": "2024-12-14T23:14:06.462842",
     "status": "completed"
    },
    "tags": [
     "injected-parameters"
    ]
   },
   "outputs": [],
   "source": [
    "# Parameters\n",
    "dataset = \"ml20m\"\n"
   ]
  },
  {
   "cell_type": "code",
   "execution_count": 6,
   "id": "58b1ab64",
   "metadata": {
    "execution": {
     "iopub.execute_input": "2024-12-14T23:14:06.468972Z",
     "iopub.status.busy": "2024-12-14T23:14:06.468838Z",
     "iopub.status.idle": "2024-12-14T23:14:06.470327Z",
     "shell.execute_reply": "2024-12-14T23:14:06.470118Z"
    },
    "papermill": {
     "duration": 0.003356,
     "end_time": "2024-12-14T23:14:06.470713",
     "exception": false,
     "start_time": "2024-12-14T23:14:06.467357",
     "status": "completed"
    },
    "tags": []
   },
   "outputs": [],
   "source": [
    "output_root = Path(\"runs\")"
   ]
  },
  {
   "cell_type": "code",
   "execution_count": 7,
   "id": "291fdc84",
   "metadata": {
    "execution": {
     "iopub.execute_input": "2024-12-14T23:14:06.474446Z",
     "iopub.status.busy": "2024-12-14T23:14:06.474284Z",
     "iopub.status.idle": "2024-12-14T23:14:06.475839Z",
     "shell.execute_reply": "2024-12-14T23:14:06.475637Z"
    },
    "papermill": {
     "duration": 0.004506,
     "end_time": "2024-12-14T23:14:06.476440",
     "exception": false,
     "start_time": "2024-12-14T23:14:06.471934",
     "status": "completed"
    },
    "tags": []
   },
   "outputs": [],
   "source": [
    "dirs = [fld for fld in output_root.glob(f'{dataset}-*')]"
   ]
  },
  {
   "cell_type": "code",
   "execution_count": 8,
   "id": "e47fe658",
   "metadata": {
    "execution": {
     "iopub.execute_input": "2024-12-14T23:14:06.481224Z",
     "iopub.status.busy": "2024-12-14T23:14:06.481160Z",
     "iopub.status.idle": "2024-12-14T23:14:19.148174Z",
     "shell.execute_reply": "2024-12-14T23:14:19.147585Z"
    },
    "papermill": {
     "duration": 12.67043,
     "end_time": "2024-12-14T23:14:19.149170",
     "exception": false,
     "start_time": "2024-12-14T23:14:06.478740",
     "status": "completed"
    },
    "tags": []
   },
   "outputs": [],
   "source": [
    "recs = ItemListCollection(['model', 'user_id'], index=False)\n",
    "for fld in dirs:\n",
    "    for file in fld.glob(\"recs-*\"):\n",
    "        rec = ItemListCollection.load_parquet(file)\n",
    "        recs.add_from(rec, model=fld.name.split(\"-\")[1])"
   ]
  },
  {
   "cell_type": "code",
   "execution_count": 9,
   "id": "36d675e6",
   "metadata": {
    "execution": {
     "iopub.execute_input": "2024-12-14T23:14:19.161510Z",
     "iopub.status.busy": "2024-12-14T23:14:19.161419Z",
     "iopub.status.idle": "2024-12-14T23:14:19.201417Z",
     "shell.execute_reply": "2024-12-14T23:14:19.201191Z"
    },
    "papermill": {
     "duration": 0.050352,
     "end_time": "2024-12-14T23:14:19.202213",
     "exception": false,
     "start_time": "2024-12-14T23:14:19.151861",
     "status": "completed"
    },
    "tags": []
   },
   "outputs": [
    {
     "data": {
      "text/plain": [
       "['ALS', 'Bias', 'IALS', 'IIE', 'III', 'Pop']"
      ]
     },
     "execution_count": 9,
     "metadata": {},
     "output_type": "execute_result"
    }
   ],
   "source": [
    "rec_algos = sorted(set(a for (a, _u) in recs.keys()))\n",
    "rec_algos"
   ]
  },
  {
   "cell_type": "code",
   "execution_count": 10,
   "id": "530bbfda",
   "metadata": {
    "execution": {
     "iopub.execute_input": "2024-12-14T23:14:19.206250Z",
     "iopub.status.busy": "2024-12-14T23:14:19.206135Z",
     "iopub.status.idle": "2024-12-14T23:14:29.430343Z",
     "shell.execute_reply": "2024-12-14T23:14:29.429753Z"
    },
    "papermill": {
     "duration": 10.226956,
     "end_time": "2024-12-14T23:14:29.431259",
     "exception": false,
     "start_time": "2024-12-14T23:14:19.204303",
     "status": "completed"
    },
    "tags": []
   },
   "outputs": [],
   "source": [
    "preds = ItemListCollection(['model', 'user_id'], index=False)\n",
    "for fld in dirs:\n",
    "    for file in fld.glob(\"pred-*\"):\n",
    "        pred = ItemListCollection.load_parquet(file)\n",
    "        preds.add_from(pred, model=fld.name.split(\"-\")[1])"
   ]
  },
  {
   "cell_type": "markdown",
   "id": "737fbf6f",
   "metadata": {
    "papermill": {
     "duration": 0.009119,
     "end_time": "2024-12-14T23:14:29.441871",
     "exception": false,
     "start_time": "2024-12-14T23:14:29.432752",
     "status": "completed"
    },
    "tags": []
   },
   "source": [
    "We need to load the test data so that we have the ground truths for computing accuracy"
   ]
  },
  {
   "cell_type": "code",
   "execution_count": 11,
   "id": "094c6750",
   "metadata": {
    "execution": {
     "iopub.execute_input": "2024-12-14T23:14:29.445697Z",
     "iopub.status.busy": "2024-12-14T23:14:29.445590Z",
     "iopub.status.idle": "2024-12-14T23:14:29.447364Z",
     "shell.execute_reply": "2024-12-14T23:14:29.447137Z"
    },
    "papermill": {
     "duration": 0.00461,
     "end_time": "2024-12-14T23:14:29.447821",
     "exception": false,
     "start_time": "2024-12-14T23:14:29.443211",
     "status": "completed"
    },
    "tags": []
   },
   "outputs": [],
   "source": [
    "split_root = Path(\"data-split\")\n",
    "split_dir = split_root / dataset"
   ]
  },
  {
   "cell_type": "code",
   "execution_count": 12,
   "id": "b6b27b83",
   "metadata": {
    "execution": {
     "iopub.execute_input": "2024-12-14T23:14:29.450722Z",
     "iopub.status.busy": "2024-12-14T23:14:29.450653Z",
     "iopub.status.idle": "2024-12-14T23:14:36.294561Z",
     "shell.execute_reply": "2024-12-14T23:14:36.294102Z"
    },
    "papermill": {
     "duration": 6.846384,
     "end_time": "2024-12-14T23:14:36.295473",
     "exception": false,
     "start_time": "2024-12-14T23:14:29.449089",
     "status": "completed"
    },
    "tags": []
   },
   "outputs": [],
   "source": [
    "test = ItemListCollection(UserIDKey)\n",
    "for file in split_dir.glob(\"test-*.parquet\"):\n",
    "    df = pd.read_parquet(file)\n",
    "    part = ItemListCollection.from_df(df, UserIDKey)\n",
    "    test.add_from(part)"
   ]
  },
  {
   "cell_type": "markdown",
   "id": "fed8bea2",
   "metadata": {
    "papermill": {
     "duration": 0.009105,
     "end_time": "2024-12-14T23:14:36.306094",
     "exception": false,
     "start_time": "2024-12-14T23:14:36.296989",
     "status": "completed"
    },
    "tags": []
   },
   "source": [
    "## Top-N Metrics\n",
    "\n",
    "`RunListAnalysis` computes metrics for recommendation results and takes care of\n",
    "matching recommendations and ground truth."
   ]
  },
  {
   "cell_type": "code",
   "execution_count": 13,
   "id": "7b68ce95",
   "metadata": {
    "execution": {
     "iopub.execute_input": "2024-12-14T23:14:36.309542Z",
     "iopub.status.busy": "2024-12-14T23:14:36.309427Z",
     "iopub.status.idle": "2024-12-14T23:15:29.998948Z",
     "shell.execute_reply": "2024-12-14T23:15:29.998786Z"
    },
    "papermill": {
     "duration": 53.692975,
     "end_time": "2024-12-14T23:15:30.000549",
     "exception": false,
     "start_time": "2024-12-14T23:14:36.307574",
     "status": "completed"
    },
    "tags": []
   },
   "outputs": [
    {
     "name": "stderr",
     "output_type": "stream",
     "text": [
      "/home/mde48/lenskit/lk-demo-experiment/.pixi/envs/cuda/lib/python3.12/site-packages/lenskit/metrics/bulk.py:116: FutureWarning: The previous implementation of stack is deprecated and will be removed in a future version of pandas. See the What's New notes for pandas 2.1.0 for details. Specify future_stack=True to adopt the new implementation and silence this warning.\n",
      "  df = scores.groupby(list(keys)).agg([\"mean\", \"median\", \"std\"]).stack(level=0)\n"
     ]
    },
    {
     "data": {
      "text/html": [
       "<div>\n",
       "<style scoped>\n",
       "    .dataframe tbody tr th:only-of-type {\n",
       "        vertical-align: middle;\n",
       "    }\n",
       "\n",
       "    .dataframe tbody tr th {\n",
       "        vertical-align: top;\n",
       "    }\n",
       "\n",
       "    .dataframe thead th {\n",
       "        text-align: right;\n",
       "    }\n",
       "</style>\n",
       "<table border=\"1\" class=\"dataframe\">\n",
       "  <thead>\n",
       "    <tr style=\"text-align: right;\">\n",
       "      <th></th>\n",
       "      <th></th>\n",
       "      <th>mean</th>\n",
       "      <th>median</th>\n",
       "      <th>std</th>\n",
       "    </tr>\n",
       "    <tr>\n",
       "      <th>model</th>\n",
       "      <th></th>\n",
       "      <th></th>\n",
       "      <th></th>\n",
       "      <th></th>\n",
       "    </tr>\n",
       "  </thead>\n",
       "  <tbody>\n",
       "    <tr>\n",
       "      <th rowspan=\"3\" valign=\"top\">ALS</th>\n",
       "      <th>NDCG</th>\n",
       "      <td>0.029944</td>\n",
       "      <td>0.000000e+00</td>\n",
       "      <td>0.067136</td>\n",
       "    </tr>\n",
       "    <tr>\n",
       "      <th>RBP</th>\n",
       "      <td>0.012318</td>\n",
       "      <td>0.000000e+00</td>\n",
       "      <td>0.068235</td>\n",
       "    </tr>\n",
       "    <tr>\n",
       "      <th>RecipRank</th>\n",
       "      <td>0.036446</td>\n",
       "      <td>0.000000e+00</td>\n",
       "      <td>0.136089</td>\n",
       "    </tr>\n",
       "    <tr>\n",
       "      <th rowspan=\"3\" valign=\"top\">Bias</th>\n",
       "      <th>NDCG</th>\n",
       "      <td>0.050186</td>\n",
       "      <td>0.000000e+00</td>\n",
       "      <td>0.093538</td>\n",
       "    </tr>\n",
       "    <tr>\n",
       "      <th>RBP</th>\n",
       "      <td>0.033222</td>\n",
       "      <td>0.000000e+00</td>\n",
       "      <td>0.115862</td>\n",
       "    </tr>\n",
       "    <tr>\n",
       "      <th>RecipRank</th>\n",
       "      <td>0.078600</td>\n",
       "      <td>0.000000e+00</td>\n",
       "      <td>0.222459</td>\n",
       "    </tr>\n",
       "    <tr>\n",
       "      <th rowspan=\"3\" valign=\"top\">IALS</th>\n",
       "      <th>NDCG</th>\n",
       "      <td>0.263129</td>\n",
       "      <td>2.174571e-01</td>\n",
       "      <td>0.195901</td>\n",
       "    </tr>\n",
       "    <tr>\n",
       "      <th>RBP</th>\n",
       "      <td>0.117848</td>\n",
       "      <td>1.953185e-03</td>\n",
       "      <td>0.207251</td>\n",
       "    </tr>\n",
       "    <tr>\n",
       "      <th>RecipRank</th>\n",
       "      <td>0.257614</td>\n",
       "      <td>1.111111e-01</td>\n",
       "      <td>0.321140</td>\n",
       "    </tr>\n",
       "    <tr>\n",
       "      <th rowspan=\"3\" valign=\"top\">IIE</th>\n",
       "      <th>NDCG</th>\n",
       "      <td>0.001799</td>\n",
       "      <td>0.000000e+00</td>\n",
       "      <td>0.010814</td>\n",
       "    </tr>\n",
       "    <tr>\n",
       "      <th>RBP</th>\n",
       "      <td>0.000017</td>\n",
       "      <td>0.000000e+00</td>\n",
       "      <td>0.001735</td>\n",
       "    </tr>\n",
       "    <tr>\n",
       "      <th>RecipRank</th>\n",
       "      <td>0.000747</td>\n",
       "      <td>0.000000e+00</td>\n",
       "      <td>0.006620</td>\n",
       "    </tr>\n",
       "    <tr>\n",
       "      <th rowspan=\"3\" valign=\"top\">III</th>\n",
       "      <th>NDCG</th>\n",
       "      <td>0.219711</td>\n",
       "      <td>1.487798e-01</td>\n",
       "      <td>0.210582</td>\n",
       "    </tr>\n",
       "    <tr>\n",
       "      <th>RBP</th>\n",
       "      <td>0.143266</td>\n",
       "      <td>4.882812e-04</td>\n",
       "      <td>0.234544</td>\n",
       "    </tr>\n",
       "    <tr>\n",
       "      <th>RecipRank</th>\n",
       "      <td>0.284771</td>\n",
       "      <td>9.090909e-02</td>\n",
       "      <td>0.367311</td>\n",
       "    </tr>\n",
       "    <tr>\n",
       "      <th rowspan=\"3\" valign=\"top\">Pop</th>\n",
       "      <th>NDCG</th>\n",
       "      <td>0.134941</td>\n",
       "      <td>9.007480e-02</td>\n",
       "      <td>0.148286</td>\n",
       "    </tr>\n",
       "    <tr>\n",
       "      <th>RBP</th>\n",
       "      <td>0.064867</td>\n",
       "      <td>7.465133e-09</td>\n",
       "      <td>0.156849</td>\n",
       "    </tr>\n",
       "    <tr>\n",
       "      <th>RecipRank</th>\n",
       "      <td>0.158689</td>\n",
       "      <td>3.703704e-02</td>\n",
       "      <td>0.276662</td>\n",
       "    </tr>\n",
       "  </tbody>\n",
       "</table>\n",
       "</div>"
      ],
      "text/plain": [
       "                     mean        median       std\n",
       "model                                            \n",
       "ALS   NDCG       0.029944  0.000000e+00  0.067136\n",
       "      RBP        0.012318  0.000000e+00  0.068235\n",
       "      RecipRank  0.036446  0.000000e+00  0.136089\n",
       "Bias  NDCG       0.050186  0.000000e+00  0.093538\n",
       "      RBP        0.033222  0.000000e+00  0.115862\n",
       "      RecipRank  0.078600  0.000000e+00  0.222459\n",
       "IALS  NDCG       0.263129  2.174571e-01  0.195901\n",
       "      RBP        0.117848  1.953185e-03  0.207251\n",
       "      RecipRank  0.257614  1.111111e-01  0.321140\n",
       "IIE   NDCG       0.001799  0.000000e+00  0.010814\n",
       "      RBP        0.000017  0.000000e+00  0.001735\n",
       "      RecipRank  0.000747  0.000000e+00  0.006620\n",
       "III   NDCG       0.219711  1.487798e-01  0.210582\n",
       "      RBP        0.143266  4.882812e-04  0.234544\n",
       "      RecipRank  0.284771  9.090909e-02  0.367311\n",
       "Pop   NDCG       0.134941  9.007480e-02  0.148286\n",
       "      RBP        0.064867  7.465133e-09  0.156849\n",
       "      RecipRank  0.158689  3.703704e-02  0.276662"
      ]
     },
     "execution_count": 13,
     "metadata": {},
     "output_type": "execute_result"
    }
   ],
   "source": [
    "ra = RunAnalysis()\n",
    "\n",
    "ra.add_metric(NDCG())\n",
    "ra.add_metric(RecipRank())\n",
    "ra.add_metric(RBP())\n",
    "\n",
    "rec_results = ra.compute(recs, test)\n",
    "rec_results.list_summary('model')"
   ]
  },
  {
   "cell_type": "markdown",
   "id": "8cba4e78",
   "metadata": {
    "papermill": {
     "duration": 0.001375,
     "end_time": "2024-12-14T23:15:30.010163",
     "exception": false,
     "start_time": "2024-12-14T23:15:30.008788",
     "status": "completed"
    },
    "tags": []
   },
   "source": [
    "We can reshape the list metrics and plot them:"
   ]
  },
  {
   "cell_type": "code",
   "execution_count": 14,
   "id": "238604c3",
   "metadata": {
    "execution": {
     "iopub.execute_input": "2024-12-14T23:15:30.013327Z",
     "iopub.status.busy": "2024-12-14T23:15:30.013201Z",
     "iopub.status.idle": "2024-12-14T23:15:38.873156Z",
     "shell.execute_reply": "2024-12-14T23:15:38.872764Z"
    },
    "papermill": {
     "duration": 8.862156,
     "end_time": "2024-12-14T23:15:38.873717",
     "exception": false,
     "start_time": "2024-12-14T23:15:30.011561",
     "status": "completed"
    },
    "tags": []
   },
   "outputs": [
    {
     "data": {
      "image/png": "[encoded data removed]",
      "text/plain": [
       "<Figure size 1511.11x500 with 3 Axes>"
      ]
     },
     "metadata": {},
     "output_type": "display_data"
    }
   ],
   "source": [
    "metrics = rec_results.list_metrics()\n",
    "metrics = metrics.melt(var_name='metric', ignore_index=False).reset_index()\n",
    "sns.catplot(metrics, x='model', y='value', col='metric', kind='bar')\n",
    "plt.show()"
   ]
  },
  {
   "cell_type": "markdown",
   "id": "d6f202d4",
   "metadata": {
    "papermill": {
     "duration": 0.009048,
     "end_time": "2024-12-14T23:15:38.884437",
     "exception": false,
     "start_time": "2024-12-14T23:15:38.875389",
     "status": "completed"
    },
    "tags": []
   },
   "source": [
    "## Prediction RMSE\n",
    "\n",
    "We will also look at the prediction RMSE."
   ]
  },
  {
   "cell_type": "code",
   "execution_count": 15,
   "id": "c78c5ff6",
   "metadata": {
    "execution": {
     "iopub.execute_input": "2024-12-14T23:15:38.887874Z",
     "iopub.status.busy": "2024-12-14T23:15:38.887757Z",
     "iopub.status.idle": "2024-12-14T23:17:55.722507Z",
     "shell.execute_reply": "2024-12-14T23:17:55.722323Z"
    },
    "papermill": {
     "duration": 136.838488,
     "end_time": "2024-12-14T23:17:55.724393",
     "exception": false,
     "start_time": "2024-12-14T23:15:38.885905",
     "status": "completed"
    },
    "tags": []
   },
   "outputs": [
    {
     "name": "stderr",
     "output_type": "stream",
     "text": [
      "/home/mde48/lenskit/lk-demo-experiment/.pixi/envs/cuda/lib/python3.12/site-packages/lenskit/metrics/bulk.py:116: FutureWarning: The previous implementation of stack is deprecated and will be removed in a future version of pandas. See the What's New notes for pandas 2.1.0 for details. Specify future_stack=True to adopt the new implementation and silence this warning.\n",
      "  df = scores.groupby(list(keys)).agg([\"mean\", \"median\", \"std\"]).stack(level=0)\n"
     ]
    },
    {
     "data": {
      "text/html": [
       "<div>\n",
       "<style scoped>\n",
       "    .dataframe tbody tr th:only-of-type {\n",
       "        vertical-align: middle;\n",
       "    }\n",
       "\n",
       "    .dataframe tbody tr th {\n",
       "        vertical-align: top;\n",
       "    }\n",
       "\n",
       "    .dataframe thead th {\n",
       "        text-align: right;\n",
       "    }\n",
       "</style>\n",
       "<table border=\"1\" class=\"dataframe\">\n",
       "  <thead>\n",
       "    <tr style=\"text-align: right;\">\n",
       "      <th></th>\n",
       "      <th></th>\n",
       "      <th>mean</th>\n",
       "      <th>median</th>\n",
       "      <th>std</th>\n",
       "    </tr>\n",
       "    <tr>\n",
       "      <th>model</th>\n",
       "      <th></th>\n",
       "      <th></th>\n",
       "      <th></th>\n",
       "      <th></th>\n",
       "    </tr>\n",
       "  </thead>\n",
       "  <tbody>\n",
       "    <tr>\n",
       "      <th>ALS</th>\n",
       "      <th>RMSE</th>\n",
       "      <td>0.785595</td>\n",
       "      <td>0.727380</td>\n",
       "      <td>0.343691</td>\n",
       "    </tr>\n",
       "    <tr>\n",
       "      <th>Bias</th>\n",
       "      <th>RMSE</th>\n",
       "      <td>0.829450</td>\n",
       "      <td>0.770576</td>\n",
       "      <td>0.357917</td>\n",
       "    </tr>\n",
       "    <tr>\n",
       "      <th>IIE</th>\n",
       "      <th>RMSE</th>\n",
       "      <td>0.771869</td>\n",
       "      <td>0.714103</td>\n",
       "      <td>0.344003</td>\n",
       "    </tr>\n",
       "  </tbody>\n",
       "</table>\n",
       "</div>"
      ],
      "text/plain": [
       "                mean    median       std\n",
       "model                                   \n",
       "ALS   RMSE  0.785595  0.727380  0.343691\n",
       "Bias  RMSE  0.829450  0.770576  0.357917\n",
       "IIE   RMSE  0.771869  0.714103  0.344003"
      ]
     },
     "execution_count": 15,
     "metadata": {},
     "output_type": "execute_result"
    }
   ],
   "source": [
    "pa = RunAnalysis()\n",
    "\n",
    "pa.add_metric(RMSE(missing_scores='ignore', missing_truth='ignore'))\n",
    "\n",
    "pred_results = pa.compute(preds, test)\n",
    "pred_results.list_summary('model')"
   ]
  },
  {
   "cell_type": "code",
   "execution_count": 16,
   "id": "929287d6",
   "metadata": {
    "execution": {
     "iopub.execute_input": "2024-12-14T23:17:55.735057Z",
     "iopub.status.busy": "2024-12-14T23:17:55.734837Z",
     "iopub.status.idle": "2024-12-14T23:17:57.118054Z",
     "shell.execute_reply": "2024-12-14T23:17:57.117777Z"
    },
    "papermill": {
     "duration": 1.385758,
     "end_time": "2024-12-14T23:17:57.118609",
     "exception": false,
     "start_time": "2024-12-14T23:17:55.732851",
     "status": "completed"
    },
    "tags": []
   },
   "outputs": [
    {
     "data": {
      "image/png": "[encoded data removed]",
      "text/plain": [
       "<Figure size 511.111x500 with 1 Axes>"
      ]
     },
     "metadata": {},
     "output_type": "display_data"
    }
   ],
   "source": [
    "sns.catplot(pred_results.list_metrics().reset_index(), x='model', y='RMSE', kind='bar')\n",
    "plt.show()"
   ]
  },
  {
   "cell_type": "markdown",
   "id": "0caac7ca",
   "metadata": {
    "papermill": {
     "duration": 0.008963,
     "end_time": "2024-12-14T23:17:57.129412",
     "exception": false,
     "start_time": "2024-12-14T23:17:57.120449",
     "status": "completed"
    },
    "tags": []
   },
   "source": [
    "## Save Metrics\n",
    "\n",
    "We'll now save the metrics to a file."
   ]
  },
  {
   "cell_type": "code",
   "execution_count": 17,
   "id": "4e43b021",
   "metadata": {
    "execution": {
     "iopub.execute_input": "2024-12-14T23:17:57.133158Z",
     "iopub.status.busy": "2024-12-14T23:17:57.133048Z",
     "iopub.status.idle": "2024-12-14T23:17:57.199020Z",
     "shell.execute_reply": "2024-12-14T23:17:57.198772Z"
    },
    "papermill": {
     "duration": 0.068537,
     "end_time": "2024-12-14T23:17:57.199550",
     "exception": false,
     "start_time": "2024-12-14T23:17:57.131013",
     "status": "completed"
    },
    "tags": []
   },
   "outputs": [
    {
     "name": "stderr",
     "output_type": "stream",
     "text": [
      "/home/mde48/lenskit/lk-demo-experiment/.pixi/envs/cuda/lib/python3.12/site-packages/lenskit/metrics/bulk.py:116: FutureWarning: The previous implementation of stack is deprecated and will be removed in a future version of pandas. See the What's New notes for pandas 2.1.0 for details. Specify future_stack=True to adopt the new implementation and silence this warning.\n",
      "  df = scores.groupby(list(keys)).agg([\"mean\", \"median\", \"std\"]).stack(level=0)\n"
     ]
    },
    {
     "data": {
      "text/html": [
       "<div>\n",
       "<style scoped>\n",
       "    .dataframe tbody tr th:only-of-type {\n",
       "        vertical-align: middle;\n",
       "    }\n",
       "\n",
       "    .dataframe tbody tr th {\n",
       "        vertical-align: top;\n",
       "    }\n",
       "\n",
       "    .dataframe thead th {\n",
       "        text-align: right;\n",
       "    }\n",
       "</style>\n",
       "<table border=\"1\" class=\"dataframe\">\n",
       "  <thead>\n",
       "    <tr style=\"text-align: right;\">\n",
       "      <th></th>\n",
       "      <th>NDCG</th>\n",
       "      <th>RBP</th>\n",
       "      <th>RecipRank</th>\n",
       "    </tr>\n",
       "    <tr>\n",
       "      <th>model</th>\n",
       "      <th></th>\n",
       "      <th></th>\n",
       "      <th></th>\n",
       "    </tr>\n",
       "  </thead>\n",
       "  <tbody>\n",
       "    <tr>\n",
       "      <th>ALS</th>\n",
       "      <td>0.029944</td>\n",
       "      <td>0.012318</td>\n",
       "      <td>0.036446</td>\n",
       "    </tr>\n",
       "    <tr>\n",
       "      <th>Bias</th>\n",
       "      <td>0.050186</td>\n",
       "      <td>0.033222</td>\n",
       "      <td>0.078600</td>\n",
       "    </tr>\n",
       "    <tr>\n",
       "      <th>IALS</th>\n",
       "      <td>0.263129</td>\n",
       "      <td>0.117848</td>\n",
       "      <td>0.257614</td>\n",
       "    </tr>\n",
       "    <tr>\n",
       "      <th>IIE</th>\n",
       "      <td>0.001799</td>\n",
       "      <td>0.000017</td>\n",
       "      <td>0.000747</td>\n",
       "    </tr>\n",
       "    <tr>\n",
       "      <th>III</th>\n",
       "      <td>0.219711</td>\n",
       "      <td>0.143266</td>\n",
       "      <td>0.284771</td>\n",
       "    </tr>\n",
       "    <tr>\n",
       "      <th>Pop</th>\n",
       "      <td>0.134941</td>\n",
       "      <td>0.064867</td>\n",
       "      <td>0.158689</td>\n",
       "    </tr>\n",
       "  </tbody>\n",
       "</table>\n",
       "</div>"
      ],
      "text/plain": [
       "           NDCG       RBP  RecipRank\n",
       "model                               \n",
       "ALS    0.029944  0.012318   0.036446\n",
       "Bias   0.050186  0.033222   0.078600\n",
       "IALS   0.263129  0.117848   0.257614\n",
       "IIE    0.001799  0.000017   0.000747\n",
       "III    0.219711  0.143266   0.284771\n",
       "Pop    0.134941  0.064867   0.158689"
      ]
     },
     "execution_count": 17,
     "metadata": {},
     "output_type": "execute_result"
    }
   ],
   "source": [
    "rlsum = rec_results.list_summary('model')['mean'].unstack()\n",
    "rlsum"
   ]
  },
  {
   "cell_type": "code",
   "execution_count": 18,
   "id": "cae53f67",
   "metadata": {
    "execution": {
     "iopub.execute_input": "2024-12-14T23:17:57.203248Z",
     "iopub.status.busy": "2024-12-14T23:17:57.203176Z",
     "iopub.status.idle": "2024-12-14T23:17:57.205677Z",
     "shell.execute_reply": "2024-12-14T23:17:57.205338Z"
    },
    "papermill": {
     "duration": 0.004925,
     "end_time": "2024-12-14T23:17:57.206191",
     "exception": false,
     "start_time": "2024-12-14T23:17:57.201266",
     "status": "completed"
    },
    "tags": []
   },
   "outputs": [],
   "source": [
    "rlsum.to_json(f'eval-metrics.{dataset}.json', orient='index')"
   ]
  }
 ],
 "metadata": {
  "jupytext": {
   "formats": "ipynb,md",
   "notebook_metadata_filter": "split_at_heading"
  },
  "kernelspec": {
   "display_name": "Python 3 (ipykernel)",
   "language": "python",
   "name": "python3"
  },
  "language_info": {
   "codemirror_mode": {
    "name": "ipython",
    "version": 3
   },
   "file_extension": ".py",
   "mimetype": "text/x-python",
   "name": "python",
   "nbconvert_exporter": "python",
   "pygments_lexer": "ipython3",
   "version": "3.12.8"
  },
  "papermill": {
   "default_parameters": {},
   "duration": 235.282055,
   "end_time": "2024-12-14T23:17:59.923467",
   "environment_variables": {},
   "exception": null,
   "input_path": "eval-report.ipynb",
   "output_path": "eval-report.ml20m.ipynb",
   "parameters": {
    "dataset": "ml20m"
   },
   "start_time": "2024-12-14T23:14:04.641412",
   "version": "2.6.0"
  },
  "split_at_heading": true
 },
 "nbformat": 4,
 "nbformat_minor": 5
}