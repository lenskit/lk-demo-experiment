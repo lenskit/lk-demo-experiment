{
 "cells": [
  {
   "cell_type": "markdown",
   "id": "ce485e34",
   "metadata": {
    "papermill": {
     "duration": 0.010919,
     "end_time": "2024-12-11T20:02:44.376504",
     "exception": false,
     "start_time": "2024-12-11T20:02:44.365585",
     "status": "completed"
    },
    "tags": []
   },
   "source": [
    "# Evaluation Analysis for Recommender Output"
   ]
  },
  {
   "cell_type": "markdown",
   "id": "17c9a5e6",
   "metadata": {
    "papermill": {
     "duration": 0.00151,
     "end_time": "2024-12-11T20:02:44.379866",
     "exception": false,
     "start_time": "2024-12-11T20:02:44.378356",
     "status": "completed"
    },
    "tags": []
   },
   "source": [
    "In this section we will analyze and compare the generated recommendations and predictions from a predefined list of algorithms with the goal of assessing the performance of each algorithm with respect to a metric. In other words, we would rank the algorithms for each metric considered with respect to performance."
   ]
  },
  {
   "cell_type": "markdown",
   "id": "f14bb433",
   "metadata": {
    "papermill": {
     "duration": 0.001552,
     "end_time": "2024-12-11T20:02:44.383017",
     "exception": false,
     "start_time": "2024-12-11T20:02:44.381465",
     "status": "completed"
    },
    "tags": []
   },
   "source": [
    "# Setup"
   ]
  },
  {
   "cell_type": "markdown",
   "id": "2b8308de",
   "metadata": {
    "papermill": {
     "duration": 0.001501,
     "end_time": "2024-12-11T20:02:44.386052",
     "exception": false,
     "start_time": "2024-12-11T20:02:44.384551",
     "status": "completed"
    },
    "tags": []
   },
   "source": [
    "Below are the list of packages required to successfully run the analysis. They are divided into partitions to signify their specific task.<br>\n",
    "We need the pathlib package for working with files and folders"
   ]
  },
  {
   "cell_type": "code",
   "execution_count": 1,
   "id": "77d2e6e9",
   "metadata": {
    "execution": {
     "iopub.execute_input": "2024-12-11T20:02:44.390208Z",
     "iopub.status.busy": "2024-12-11T20:02:44.389918Z",
     "iopub.status.idle": "2024-12-11T20:02:44.393084Z",
     "shell.execute_reply": "2024-12-11T20:02:44.392896Z"
    },
    "papermill": {
     "duration": 0.005844,
     "end_time": "2024-12-11T20:02:44.393441",
     "exception": false,
     "start_time": "2024-12-11T20:02:44.387597",
     "status": "completed"
    },
    "tags": []
   },
   "outputs": [],
   "source": [
    "from pathlib import Path"
   ]
  },
  {
   "cell_type": "markdown",
   "id": "8607dbba",
   "metadata": {
    "papermill": {
     "duration": 0.001511,
     "end_time": "2024-12-11T20:02:44.396524",
     "exception": false,
     "start_time": "2024-12-11T20:02:44.395013",
     "status": "completed"
    },
    "tags": []
   },
   "source": [
    "We would use the pandas for analyzing and manipulating our data while seaborn and matplotlib are used for data visualization. statsmodels.graphics.gofplots and scipy.stats.shapiro are used for normality check. Scipy.stats.friedmanchisquare is a non-parametric test used to determine the statistical significance in metric results and the wilcoxon test is used for pairwise comparison of sample data."
   ]
  },
  {
   "cell_type": "code",
   "execution_count": 2,
   "id": "54c9b1a0",
   "metadata": {
    "execution": {
     "iopub.execute_input": "2024-12-11T20:02:44.399976Z",
     "iopub.status.busy": "2024-12-11T20:02:44.399905Z",
     "iopub.status.idle": "2024-12-11T20:02:44.895242Z",
     "shell.execute_reply": "2024-12-11T20:02:44.894931Z"
    },
    "papermill": {
     "duration": 0.497912,
     "end_time": "2024-12-11T20:02:44.895999",
     "exception": false,
     "start_time": "2024-12-11T20:02:44.398087",
     "status": "completed"
    },
    "tags": []
   },
   "outputs": [],
   "source": [
    "import pandas as pd\n",
    "import seaborn as sns\n",
    "import matplotlib.pyplot as plt\n",
    "from statsmodels.graphics.gofplots import qqplot\n",
    "from scipy.stats import shapiro\n",
    "from scipy.stats import friedmanchisquare, wilcoxon\n",
    "from itertools import combinations"
   ]
  },
  {
   "cell_type": "markdown",
   "id": "09d4299f",
   "metadata": {
    "papermill": {
     "duration": 0.001671,
     "end_time": "2024-12-11T20:02:44.899478",
     "exception": false,
     "start_time": "2024-12-11T20:02:44.897807",
     "status": "completed"
    },
    "tags": []
   },
   "source": [
    "Logging to show what's happening in LensKit routines:"
   ]
  },
  {
   "cell_type": "code",
   "execution_count": 3,
   "id": "fd84093f",
   "metadata": {
    "execution": {
     "iopub.execute_input": "2024-12-11T20:02:44.903280Z",
     "iopub.status.busy": "2024-12-11T20:02:44.903142Z",
     "iopub.status.idle": "2024-12-11T20:02:44.909994Z",
     "shell.execute_reply": "2024-12-11T20:02:44.909806Z"
    },
    "papermill": {
     "duration": 0.009311,
     "end_time": "2024-12-11T20:02:44.910434",
     "exception": false,
     "start_time": "2024-12-11T20:02:44.901123",
     "status": "completed"
    },
    "tags": []
   },
   "outputs": [
    {
     "name": "stdout",
     "output_type": "stream",
     "text": [
      "[   INFO] lenskit.util.log notebook logging configured\n"
     ]
    }
   ],
   "source": [
    "from lenskit import util\n",
    "util.log_to_notebook()"
   ]
  },
  {
   "cell_type": "code",
   "execution_count": 4,
   "id": "c7c3c1f0",
   "metadata": {
    "execution": {
     "iopub.execute_input": "2024-12-11T20:02:44.914048Z",
     "iopub.status.busy": "2024-12-11T20:02:44.913973Z",
     "iopub.status.idle": "2024-12-11T20:02:44.915450Z",
     "shell.execute_reply": "2024-12-11T20:02:44.915170Z"
    },
    "papermill": {
     "duration": 0.003667,
     "end_time": "2024-12-11T20:02:44.915805",
     "exception": false,
     "start_time": "2024-12-11T20:02:44.912138",
     "status": "completed"
    },
    "tags": []
   },
   "outputs": [],
   "source": [
    "import logging\n",
    "_log = logging.getLogger('eval-report')"
   ]
  },
  {
   "cell_type": "markdown",
   "id": "af5b4ebc",
   "metadata": {
    "papermill": {
     "duration": 0.001604,
     "end_time": "2024-12-11T20:02:44.919038",
     "exception": false,
     "start_time": "2024-12-11T20:02:44.917434",
     "status": "completed"
    },
    "tags": []
   },
   "source": [
    "We will use lenskit for training, running, and evaluating recommender algorithms"
   ]
  },
  {
   "cell_type": "code",
   "execution_count": 5,
   "id": "803d7eb5",
   "metadata": {
    "execution": {
     "iopub.execute_input": "2024-12-11T20:02:44.922431Z",
     "iopub.status.busy": "2024-12-11T20:02:44.922355Z",
     "iopub.status.idle": "2024-12-11T20:02:44.948835Z",
     "shell.execute_reply": "2024-12-11T20:02:44.948378Z"
    },
    "papermill": {
     "duration": 0.028801,
     "end_time": "2024-12-11T20:02:44.949405",
     "exception": false,
     "start_time": "2024-12-11T20:02:44.920604",
     "status": "completed"
    },
    "tags": []
   },
   "outputs": [],
   "source": [
    "from lenskit import topn\n",
    "from lenskit.metrics.predict import rmse"
   ]
  },
  {
   "cell_type": "markdown",
   "id": "62cde0fa",
   "metadata": {
    "papermill": {
     "duration": 0.001766,
     "end_time": "2024-12-11T20:02:44.953046",
     "exception": false,
     "start_time": "2024-12-11T20:02:44.951280",
     "status": "completed"
    },
    "tags": []
   },
   "source": [
    "# Load Data"
   ]
  },
  {
   "cell_type": "markdown",
   "id": "0b8bdd0f",
   "metadata": {
    "papermill": {
     "duration": 0.001652,
     "end_time": "2024-12-11T20:02:44.956384",
     "exception": false,
     "start_time": "2024-12-11T20:02:44.954732",
     "status": "completed"
    },
    "tags": []
   },
   "source": [
    "We specify the dataset we will use for our analysis and the main directory from where we read the recommendation and prediction files. From the main directory we find all the directories associated with the dataset and then read the recommendation and predictions files from those directories."
   ]
  },
  {
   "cell_type": "code",
   "execution_count": 6,
   "id": "66d37091",
   "metadata": {
    "execution": {
     "iopub.execute_input": "2024-12-11T20:02:44.960046Z",
     "iopub.status.busy": "2024-12-11T20:02:44.959894Z",
     "iopub.status.idle": "2024-12-11T20:02:44.961678Z",
     "shell.execute_reply": "2024-12-11T20:02:44.961386Z"
    },
    "papermill": {
     "duration": 0.004103,
     "end_time": "2024-12-11T20:02:44.962098",
     "exception": false,
     "start_time": "2024-12-11T20:02:44.957995",
     "status": "completed"
    },
    "tags": [
     "parameters"
    ]
   },
   "outputs": [],
   "source": [
    "dataset = \"ml100k\""
   ]
  },
  {
   "cell_type": "code",
   "execution_count": 7,
   "id": "6af1558c",
   "metadata": {
    "execution": {
     "iopub.execute_input": "2024-12-11T20:02:44.966126Z",
     "iopub.status.busy": "2024-12-11T20:02:44.965768Z",
     "iopub.status.idle": "2024-12-11T20:02:44.967948Z",
     "shell.execute_reply": "2024-12-11T20:02:44.967590Z"
    },
    "papermill": {
     "duration": 0.004605,
     "end_time": "2024-12-11T20:02:44.968373",
     "exception": false,
     "start_time": "2024-12-11T20:02:44.963768",
     "status": "completed"
    },
    "tags": [
     "injected-parameters"
    ]
   },
   "outputs": [],
   "source": [
    "# Parameters\n",
    "dataset = \"ml20m\"\n"
   ]
  },
  {
   "cell_type": "code",
   "execution_count": 8,
   "id": "b7f9f66b",
   "metadata": {
    "execution": {
     "iopub.execute_input": "2024-12-11T20:02:44.972032Z",
     "iopub.status.busy": "2024-12-11T20:02:44.971957Z",
     "iopub.status.idle": "2024-12-11T20:02:44.973493Z",
     "shell.execute_reply": "2024-12-11T20:02:44.973262Z"
    },
    "papermill": {
     "duration": 0.003867,
     "end_time": "2024-12-11T20:02:44.973890",
     "exception": false,
     "start_time": "2024-12-11T20:02:44.970023",
     "status": "completed"
    },
    "tags": []
   },
   "outputs": [],
   "source": [
    "output_root = Path(\"runs\")"
   ]
  },
  {
   "cell_type": "code",
   "execution_count": 9,
   "id": "8688a4d0",
   "metadata": {
    "execution": {
     "iopub.execute_input": "2024-12-11T20:02:44.977532Z",
     "iopub.status.busy": "2024-12-11T20:02:44.977457Z",
     "iopub.status.idle": "2024-12-11T20:02:44.979169Z",
     "shell.execute_reply": "2024-12-11T20:02:44.978937Z"
    },
    "papermill": {
     "duration": 0.003963,
     "end_time": "2024-12-11T20:02:44.979526",
     "exception": false,
     "start_time": "2024-12-11T20:02:44.975563",
     "status": "completed"
    },
    "tags": []
   },
   "outputs": [],
   "source": [
    "dirs = [fld for fld in output_root.glob(f'{dataset}-*')]"
   ]
  },
  {
   "cell_type": "code",
   "execution_count": 10,
   "id": "56d609aa",
   "metadata": {
    "execution": {
     "iopub.execute_input": "2024-12-11T20:02:44.983175Z",
     "iopub.status.busy": "2024-12-11T20:02:44.983107Z",
     "iopub.status.idle": "2024-12-11T20:03:03.895965Z",
     "shell.execute_reply": "2024-12-11T20:03:03.895520Z"
    },
    "papermill": {
     "duration": 18.915364,
     "end_time": "2024-12-11T20:03:03.896601",
     "exception": false,
     "start_time": "2024-12-11T20:02:44.981237",
     "status": "completed"
    },
    "tags": []
   },
   "outputs": [
    {
     "name": "stdout",
     "output_type": "stream",
     "text": [
      "<class 'pandas.core.frame.DataFrame'>\n",
      "RangeIndex: 96935400 entries, 0 to 96935399\n",
      "Data columns (total 5 columns):\n",
      " #   Column     Dtype   \n",
      "---  ------     -----   \n",
      " 0   item       int64   \n",
      " 1   score      float64 \n",
      " 2   user       int64   \n",
      " 3   rank       int64   \n",
      " 4   algorithm  category\n",
      "dtypes: category(1), float64(1), int64(3)\n",
      "memory usage: 3.0 GB\n"
     ]
    }
   ],
   "source": [
    "recs = []\n",
    "for fld in dirs:\n",
    "    for file in fld.glob(\"recs-*\"):\n",
    "        rec = pd.read_csv(file)\n",
    "        rec[\"algorithm\"] = fld.name.split(\"-\")[1]\n",
    "        recs.append(rec)\n",
    "\n",
    "recs = pd.concat(recs, ignore_index=True)\n",
    "recs = recs.astype({'algorithm': 'category'})\n",
    "recs.info()"
   ]
  },
  {
   "cell_type": "code",
   "execution_count": 11,
   "id": "feaa4493",
   "metadata": {
    "execution": {
     "iopub.execute_input": "2024-12-11T20:03:03.908371Z",
     "iopub.status.busy": "2024-12-11T20:03:03.908278Z",
     "iopub.status.idle": "2024-12-11T20:03:04.053264Z",
     "shell.execute_reply": "2024-12-11T20:03:04.052899Z"
    },
    "papermill": {
     "duration": 0.15526,
     "end_time": "2024-12-11T20:03:04.053904",
     "exception": false,
     "start_time": "2024-12-11T20:03:03.898644",
     "status": "completed"
    },
    "tags": []
   },
   "outputs": [
    {
     "data": {
      "text/plain": [
       "['Bias', 'IIE', 'UUE', 'Pop', 'ALS', 'III', 'IALS']\n",
       "Categories (7, object): ['ALS', 'Bias', 'IALS', 'IIE', 'III', 'Pop', 'UUE']"
      ]
     },
     "execution_count": 11,
     "metadata": {},
     "output_type": "execute_result"
    }
   ],
   "source": [
    "rec_algos = recs['algorithm'].unique()\n",
    "rec_algos"
   ]
  },
  {
   "cell_type": "code",
   "execution_count": 12,
   "id": "b378a77c",
   "metadata": {
    "execution": {
     "iopub.execute_input": "2024-12-11T20:03:04.065292Z",
     "iopub.status.busy": "2024-12-11T20:03:04.065203Z",
     "iopub.status.idle": "2024-12-11T20:03:04.809257Z",
     "shell.execute_reply": "2024-12-11T20:03:04.808814Z"
    },
    "papermill": {
     "duration": 0.754036,
     "end_time": "2024-12-11T20:03:04.809846",
     "exception": false,
     "start_time": "2024-12-11T20:03:04.055810",
     "status": "completed"
    },
    "tags": []
   },
   "outputs": [
    {
     "name": "stdout",
     "output_type": "stream",
     "text": [
      "<class 'pandas.core.frame.DataFrame'>\n",
      "RangeIndex: 4154790 entries, 0 to 4154789\n",
      "Data columns (total 6 columns):\n",
      " #   Column      Dtype   \n",
      "---  ------      -----   \n",
      " 0   user        int64   \n",
      " 1   item        int64   \n",
      " 2   rating      float64 \n",
      " 3   timestamp   int64   \n",
      " 4   prediction  float64 \n",
      " 5   algorithm   category\n",
      "dtypes: category(1), float64(2), int64(3)\n",
      "memory usage: 162.5 MB\n"
     ]
    }
   ],
   "source": [
    "preds = []\n",
    "for fld in dirs:\n",
    "    for file in fld.glob(\"pred-*\"):\n",
    "        pred = pd.read_csv(file)\n",
    "        pred[\"algorithm\"] = fld.name.split(\"-\")[1]\n",
    "        preds.append(pred)\n",
    "\n",
    "preds = pd.concat(preds, ignore_index=True)\n",
    "preds = preds.astype({'algorithm': 'category'})\n",
    "preds.info()"
   ]
  },
  {
   "cell_type": "markdown",
   "id": "ca476ae1",
   "metadata": {
    "papermill": {
     "duration": 0.002004,
     "end_time": "2024-12-11T20:03:04.814038",
     "exception": false,
     "start_time": "2024-12-11T20:03:04.812034",
     "status": "completed"
    },
    "tags": []
   },
   "source": [
    "We need to load the test data so that we have the ground truths for computing accuracy"
   ]
  },
  {
   "cell_type": "code",
   "execution_count": 13,
   "id": "25294727",
   "metadata": {
    "execution": {
     "iopub.execute_input": "2024-12-11T20:03:04.818355Z",
     "iopub.status.busy": "2024-12-11T20:03:04.818248Z",
     "iopub.status.idle": "2024-12-11T20:03:04.820127Z",
     "shell.execute_reply": "2024-12-11T20:03:04.819859Z"
    },
    "papermill": {
     "duration": 0.004789,
     "end_time": "2024-12-11T20:03:04.820652",
     "exception": false,
     "start_time": "2024-12-11T20:03:04.815863",
     "status": "completed"
    },
    "tags": []
   },
   "outputs": [],
   "source": [
    "split_root = Path(\"data-split\")\n",
    "split_dir = split_root / dataset"
   ]
  },
  {
   "cell_type": "code",
   "execution_count": 14,
   "id": "88fc0d4e",
   "metadata": {
    "execution": {
     "iopub.execute_input": "2024-12-11T20:03:04.824726Z",
     "iopub.status.busy": "2024-12-11T20:03:04.824649Z",
     "iopub.status.idle": "2024-12-11T20:03:04.882005Z",
     "shell.execute_reply": "2024-12-11T20:03:04.881592Z"
    },
    "papermill": {
     "duration": 0.060121,
     "end_time": "2024-12-11T20:03:04.882573",
     "exception": false,
     "start_time": "2024-12-11T20:03:04.822452",
     "status": "completed"
    },
    "tags": []
   },
   "outputs": [
    {
     "data": {
      "text/html": [
       "<div>\n",
       "<style scoped>\n",
       "    .dataframe tbody tr th:only-of-type {\n",
       "        vertical-align: middle;\n",
       "    }\n",
       "\n",
       "    .dataframe tbody tr th {\n",
       "        vertical-align: top;\n",
       "    }\n",
       "\n",
       "    .dataframe thead th {\n",
       "        text-align: right;\n",
       "    }\n",
       "</style>\n",
       "<table border=\"1\" class=\"dataframe\">\n",
       "  <thead>\n",
       "    <tr style=\"text-align: right;\">\n",
       "      <th></th>\n",
       "      <th>user</th>\n",
       "      <th>item</th>\n",
       "      <th>rating</th>\n",
       "      <th>timestamp</th>\n",
       "      <th>part</th>\n",
       "    </tr>\n",
       "    <tr>\n",
       "      <th>index</th>\n",
       "      <th></th>\n",
       "      <th></th>\n",
       "      <th></th>\n",
       "      <th></th>\n",
       "      <th></th>\n",
       "    </tr>\n",
       "  </thead>\n",
       "  <tbody>\n",
       "    <tr>\n",
       "      <th>169</th>\n",
       "      <td>1</td>\n",
       "      <td>8482</td>\n",
       "      <td>3.5</td>\n",
       "      <td>1112485781</td>\n",
       "      <td>test-4</td>\n",
       "    </tr>\n",
       "    <tr>\n",
       "      <th>168</th>\n",
       "      <td>1</td>\n",
       "      <td>8368</td>\n",
       "      <td>4.0</td>\n",
       "      <td>1112485688</td>\n",
       "      <td>test-4</td>\n",
       "    </tr>\n",
       "    <tr>\n",
       "      <th>9</th>\n",
       "      <td>1</td>\n",
       "      <td>260</td>\n",
       "      <td>4.0</td>\n",
       "      <td>1112484826</td>\n",
       "      <td>test-4</td>\n",
       "    </tr>\n",
       "    <tr>\n",
       "      <th>104</th>\n",
       "      <td>1</td>\n",
       "      <td>3438</td>\n",
       "      <td>3.5</td>\n",
       "      <td>1112486094</td>\n",
       "      <td>test-4</td>\n",
       "    </tr>\n",
       "    <tr>\n",
       "      <th>72</th>\n",
       "      <td>1</td>\n",
       "      <td>2140</td>\n",
       "      <td>4.0</td>\n",
       "      <td>1112485705</td>\n",
       "      <td>test-4</td>\n",
       "    </tr>\n",
       "  </tbody>\n",
       "</table>\n",
       "</div>"
      ],
      "text/plain": [
       "       user  item  rating   timestamp    part\n",
       "index                                        \n",
       "169       1  8482     3.5  1112485781  test-4\n",
       "168       1  8368     4.0  1112485688  test-4\n",
       "9         1   260     4.0  1112484826  test-4\n",
       "104       1  3438     3.5  1112486094  test-4\n",
       "72        1  2140     4.0  1112485705  test-4"
      ]
     },
     "execution_count": 14,
     "metadata": {},
     "output_type": "execute_result"
    }
   ],
   "source": [
    "test = []\n",
    "for file in split_dir.glob(\"test-*.parquet\"):\n",
    "    test.append(pd.read_parquet(file,).assign(part=file.stem.replace('.parquet', '')))\n",
    "\n",
    "test = pd.concat(test).rename(columns={\n",
    "    'user_id': 'user',\n",
    "    'item_id': 'item',\n",
    "})\n",
    "test.head()"
   ]
  },
  {
   "cell_type": "markdown",
   "id": "5770c372",
   "metadata": {
    "papermill": {
     "duration": 0.001979,
     "end_time": "2024-12-11T20:03:04.886705",
     "exception": false,
     "start_time": "2024-12-11T20:03:04.884726",
     "status": "completed"
    },
    "tags": []
   },
   "source": [
    "# Top-N Metrics"
   ]
  },
  {
   "cell_type": "markdown",
   "id": "8e347325",
   "metadata": {
    "papermill": {
     "duration": 0.001905,
     "end_time": "2024-12-11T20:03:04.890556",
     "exception": false,
     "start_time": "2024-12-11T20:03:04.888651",
     "status": "completed"
    },
    "tags": []
   },
   "source": [
    "The topn.RecListAnalysis class computes top-N metrics for recommendation list and takes care of making sure that the recommendations and ground truths are properly matched. Refer to the documentation for detailed explanation of the purpose for the RecListAnalysis class and how the analysis is done - https://lkpy.lenskit.org/en/stable/evaluation/topn-metrics.html"
   ]
  },
  {
   "cell_type": "code",
   "execution_count": 15,
   "id": "198eda4d",
   "metadata": {
    "execution": {
     "iopub.execute_input": "2024-12-11T20:03:04.894892Z",
     "iopub.status.busy": "2024-12-11T20:03:04.894785Z",
     "iopub.status.idle": "2024-12-11T20:04:12.317096Z",
     "shell.execute_reply": "2024-12-11T20:04:12.316783Z"
    },
    "papermill": {
     "duration": 67.425526,
     "end_time": "2024-12-11T20:04:12.318007",
     "exception": false,
     "start_time": "2024-12-11T20:03:04.892481",
     "status": "completed"
    },
    "tags": []
   },
   "outputs": [
    {
     "name": "stdout",
     "output_type": "stream",
     "text": [
      "[   INFO] lenskit.topn analyzing 96935400 recommendations (692465 truth rows)\n"
     ]
    },
    {
     "name": "stdout",
     "output_type": "stream",
     "text": [
      "[   INFO] lenskit.topn using rec key columns ['algorithm', 'user']\n"
     ]
    },
    {
     "name": "stdout",
     "output_type": "stream",
     "text": [
      "[   INFO] lenskit.topn using truth key columns ['user']\n"
     ]
    },
    {
     "name": "stdout",
     "output_type": "stream",
     "text": [
      "[   INFO] lenskit.topn numbering truth lists\n"
     ]
    },
    {
     "name": "stdout",
     "output_type": "stream",
     "text": [
      "[   INFO] lenskit.topn numbering rec lists\n"
     ]
    },
    {
     "name": "stdout",
     "output_type": "stream",
     "text": [
      "[   INFO] lenskit.topn collecting metric results\n"
     ]
    },
    {
     "name": "stdout",
     "output_type": "stream",
     "text": [
      "[   INFO] lenskit.topn measured 969354 lists in 48.62s\n"
     ]
    },
    {
     "name": "stdout",
     "output_type": "stream",
     "text": [
      "[   INFO] lenskit.topn filling in missing user info (969354 initial rows)\n"
     ]
    },
    {
     "name": "stderr",
     "output_type": "stream",
     "text": [
      "/home/linuxbrew/.linuxbrew/envs/lkdemo/lib/python3.10/site-packages/lenskit/topn.py:152: FutureWarning: In a future version of pandas, a length 1 tuple will be returned when iterating over a groupby with a grouper equal to a list of length 1. Don't supply a list with a single grouper to avoid this warning.\n",
      "  for key, df in res.groupby(ug_cols):\n"
     ]
    },
    {
     "data": {
      "text/html": [
       "<div>\n",
       "<style scoped>\n",
       "    .dataframe tbody tr th:only-of-type {\n",
       "        vertical-align: middle;\n",
       "    }\n",
       "\n",
       "    .dataframe tbody tr th {\n",
       "        vertical-align: top;\n",
       "    }\n",
       "\n",
       "    .dataframe thead th {\n",
       "        text-align: right;\n",
       "    }\n",
       "</style>\n",
       "<table border=\"1\" class=\"dataframe\">\n",
       "  <thead>\n",
       "    <tr style=\"text-align: right;\">\n",
       "      <th></th>\n",
       "      <th></th>\n",
       "      <th>nrecs</th>\n",
       "      <th>precision</th>\n",
       "      <th>recip_rank</th>\n",
       "      <th>ndcg</th>\n",
       "      <th>ntruth</th>\n",
       "    </tr>\n",
       "    <tr>\n",
       "      <th>algorithm</th>\n",
       "      <th>user</th>\n",
       "      <th></th>\n",
       "      <th></th>\n",
       "      <th></th>\n",
       "      <th></th>\n",
       "      <th></th>\n",
       "    </tr>\n",
       "  </thead>\n",
       "  <tbody>\n",
       "    <tr>\n",
       "      <th rowspan=\"5\" valign=\"top\">ALS</th>\n",
       "      <th>1</th>\n",
       "      <td>100.0</td>\n",
       "      <td>0.01</td>\n",
       "      <td>0.025641</td>\n",
       "      <td>0.053122</td>\n",
       "      <td>5</td>\n",
       "    </tr>\n",
       "    <tr>\n",
       "      <th>5</th>\n",
       "      <td>100.0</td>\n",
       "      <td>0.01</td>\n",
       "      <td>0.027778</td>\n",
       "      <td>0.054309</td>\n",
       "      <td>5</td>\n",
       "    </tr>\n",
       "    <tr>\n",
       "      <th>6</th>\n",
       "      <td>100.0</td>\n",
       "      <td>0.00</td>\n",
       "      <td>0.000000</td>\n",
       "      <td>0.000000</td>\n",
       "      <td>5</td>\n",
       "    </tr>\n",
       "    <tr>\n",
       "      <th>7</th>\n",
       "      <td>100.0</td>\n",
       "      <td>0.00</td>\n",
       "      <td>0.000000</td>\n",
       "      <td>0.000000</td>\n",
       "      <td>5</td>\n",
       "    </tr>\n",
       "    <tr>\n",
       "      <th>11</th>\n",
       "      <td>100.0</td>\n",
       "      <td>0.00</td>\n",
       "      <td>0.000000</td>\n",
       "      <td>0.000000</td>\n",
       "      <td>5</td>\n",
       "    </tr>\n",
       "  </tbody>\n",
       "</table>\n",
       "</div>"
      ],
      "text/plain": [
       "                nrecs  precision  recip_rank      ndcg  ntruth\n",
       "algorithm user                                                \n",
       "ALS       1     100.0       0.01    0.025641  0.053122       5\n",
       "          5     100.0       0.01    0.027778  0.054309       5\n",
       "          6     100.0       0.00    0.000000  0.000000       5\n",
       "          7     100.0       0.00    0.000000  0.000000       5\n",
       "          11    100.0       0.00    0.000000  0.000000       5"
      ]
     },
     "execution_count": 15,
     "metadata": {},
     "output_type": "execute_result"
    }
   ],
   "source": [
    "rla = topn.RecListAnalysis()\n",
    "\n",
    "rla.add_metric(topn.precision)\n",
    "rla.add_metric(topn.recip_rank)\n",
    "rla.add_metric(topn.ndcg)\n",
    "results = rla.compute(recs, test.drop(columns=['rating']), include_missing=True)\n",
    "results = results.fillna(0)\n",
    "results.head()"
   ]
  },
  {
   "cell_type": "markdown",
   "id": "75dbe033",
   "metadata": {
    "papermill": {
     "duration": 0.008864,
     "end_time": "2024-12-11T20:04:12.331120",
     "exception": false,
     "start_time": "2024-12-11T20:04:12.322256",
     "status": "completed"
    },
    "tags": []
   },
   "source": [
    "We will reshape the 'results' dataframe by stacking the columns to index and then use the bar chart to visualize the performance of our algorithms with respect to the precision, reciprocal rank and ndcg metrics"
   ]
  },
  {
   "cell_type": "code",
   "execution_count": 16,
   "id": "4c7ffaf7",
   "metadata": {
    "execution": {
     "iopub.execute_input": "2024-12-11T20:04:12.336274Z",
     "iopub.status.busy": "2024-12-11T20:04:12.336124Z",
     "iopub.status.idle": "2024-12-11T20:04:12.400167Z",
     "shell.execute_reply": "2024-12-11T20:04:12.399933Z"
    },
    "papermill": {
     "duration": 0.067398,
     "end_time": "2024-12-11T20:04:12.400848",
     "exception": false,
     "start_time": "2024-12-11T20:04:12.333450",
     "status": "completed"
    },
    "tags": []
   },
   "outputs": [
    {
     "data": {
      "text/html": [
       "<div>\n",
       "<style scoped>\n",
       "    .dataframe tbody tr th:only-of-type {\n",
       "        vertical-align: middle;\n",
       "    }\n",
       "\n",
       "    .dataframe tbody tr th {\n",
       "        vertical-align: top;\n",
       "    }\n",
       "\n",
       "    .dataframe thead th {\n",
       "        text-align: right;\n",
       "    }\n",
       "</style>\n",
       "<table border=\"1\" class=\"dataframe\">\n",
       "  <thead>\n",
       "    <tr style=\"text-align: right;\">\n",
       "      <th></th>\n",
       "      <th>algorithm</th>\n",
       "      <th>user</th>\n",
       "      <th>metric</th>\n",
       "      <th>val</th>\n",
       "    </tr>\n",
       "  </thead>\n",
       "  <tbody>\n",
       "    <tr>\n",
       "      <th>0</th>\n",
       "      <td>ALS</td>\n",
       "      <td>1</td>\n",
       "      <td>precision</td>\n",
       "      <td>0.010000</td>\n",
       "    </tr>\n",
       "    <tr>\n",
       "      <th>1</th>\n",
       "      <td>ALS</td>\n",
       "      <td>1</td>\n",
       "      <td>recip_rank</td>\n",
       "      <td>0.025641</td>\n",
       "    </tr>\n",
       "    <tr>\n",
       "      <th>2</th>\n",
       "      <td>ALS</td>\n",
       "      <td>1</td>\n",
       "      <td>ndcg</td>\n",
       "      <td>0.053122</td>\n",
       "    </tr>\n",
       "    <tr>\n",
       "      <th>3</th>\n",
       "      <td>ALS</td>\n",
       "      <td>5</td>\n",
       "      <td>precision</td>\n",
       "      <td>0.010000</td>\n",
       "    </tr>\n",
       "    <tr>\n",
       "      <th>4</th>\n",
       "      <td>ALS</td>\n",
       "      <td>5</td>\n",
       "      <td>recip_rank</td>\n",
       "      <td>0.027778</td>\n",
       "    </tr>\n",
       "  </tbody>\n",
       "</table>\n",
       "</div>"
      ],
      "text/plain": [
       "  algorithm  user      metric       val\n",
       "0       ALS     1   precision  0.010000\n",
       "1       ALS     1  recip_rank  0.025641\n",
       "2       ALS     1        ndcg  0.053122\n",
       "3       ALS     5   precision  0.010000\n",
       "4       ALS     5  recip_rank  0.027778"
      ]
     },
     "execution_count": 16,
     "metadata": {},
     "output_type": "execute_result"
    }
   ],
   "source": [
    "pltData = (results.drop(columns=['nrecs', 'ntruth']).stack()).reset_index()\n",
    "pltData.columns = ['algorithm', 'user', 'metric', 'val']\n",
    "pltData.head()"
   ]
  },
  {
   "cell_type": "markdown",
   "id": "66c6e8ba",
   "metadata": {
    "papermill": {
     "duration": 0.00226,
     "end_time": "2024-12-11T20:04:12.405682",
     "exception": false,
     "start_time": "2024-12-11T20:04:12.403422",
     "status": "completed"
    },
    "tags": []
   },
   "source": [
    "We need to determine if the differences we observe in the performances of the algorithms for the various metrics are statistically significant. To achieve this, we will need to use either a parametric or non-parametric statistical test for comparing the differences. We will consider a parametric test - repeated ANOVA measure cause our sample groups are correlated."
   ]
  },
  {
   "cell_type": "code",
   "execution_count": 17,
   "id": "bd651349",
   "metadata": {
    "execution": {
     "iopub.execute_input": "2024-12-11T20:04:12.410478Z",
     "iopub.status.busy": "2024-12-11T20:04:12.410327Z",
     "iopub.status.idle": "2024-12-11T20:04:24.715714Z",
     "shell.execute_reply": "2024-12-11T20:04:24.715295Z"
    },
    "papermill": {
     "duration": 12.308444,
     "end_time": "2024-12-11T20:04:24.716298",
     "exception": false,
     "start_time": "2024-12-11T20:04:12.407854",
     "status": "completed"
    },
    "tags": []
   },
   "outputs": [
    {
     "data": {
      "image/png": "[encoded data removed]",
      "text/plain": [
       "<Figure size 1091.11x300 with 3 Axes>"
      ]
     },
     "metadata": {},
     "output_type": "display_data"
    }
   ],
   "source": [
    "g = sns.catplot(x = \"algorithm\", y = \"val\", data = pltData, kind=\"bar\", col = \"metric\", aspect=1.2, height=3, sharey=False)"
   ]
  },
  {
   "cell_type": "markdown",
   "id": "9e32b381",
   "metadata": {
    "papermill": {
     "duration": 0.002473,
     "end_time": "2024-12-11T20:04:24.721508",
     "exception": false,
     "start_time": "2024-12-11T20:04:24.719035",
     "status": "completed"
    },
    "tags": []
   },
   "source": [
    "## Prediction RMSE\n",
    "\n",
    "We will also look at the prediction RMSE."
   ]
  },
  {
   "cell_type": "code",
   "execution_count": 18,
   "id": "fb282b1c",
   "metadata": {
    "execution": {
     "iopub.execute_input": "2024-12-11T20:04:24.726749Z",
     "iopub.status.busy": "2024-12-11T20:04:24.726658Z",
     "iopub.status.idle": "2024-12-11T20:06:47.658188Z",
     "shell.execute_reply": "2024-12-11T20:06:47.657740Z"
    },
    "papermill": {
     "duration": 142.9352,
     "end_time": "2024-12-11T20:06:47.659045",
     "exception": false,
     "start_time": "2024-12-11T20:04:24.723845",
     "status": "completed"
    },
    "tags": []
   },
   "outputs": [],
   "source": [
    "preds = preds.rename(columns={'score': 'prediction'})\n",
    "user_rmse = preds.groupby(['algorithm', 'user']).apply(lambda df: rmse(df['prediction'], df['rating']))\n",
    "user_rmse = user_rmse.reset_index(name='RMSE')"
   ]
  },
  {
   "cell_type": "code",
   "execution_count": 19,
   "id": "73116a6d",
   "metadata": {
    "execution": {
     "iopub.execute_input": "2024-12-11T20:06:47.671837Z",
     "iopub.status.busy": "2024-12-11T20:06:47.671708Z",
     "iopub.status.idle": "2024-12-11T20:06:50.656952Z",
     "shell.execute_reply": "2024-12-11T20:06:50.656539Z"
    },
    "papermill": {
     "duration": 2.995668,
     "end_time": "2024-12-11T20:06:50.657394",
     "exception": false,
     "start_time": "2024-12-11T20:06:47.661726",
     "status": "completed"
    },
    "tags": []
   },
   "outputs": [
    {
     "data": {
      "text/plain": [
       "<seaborn.axisgrid.FacetGrid at 0x73d240ba72b0>"
      ]
     },
     "execution_count": 19,
     "metadata": {},
     "output_type": "execute_result"
    },
    {
     "data": {
      "image/png": "[encoded data removed]",
      "text/plain": [
       "<Figure size 511.111x500 with 1 Axes>"
      ]
     },
     "metadata": {},
     "output_type": "display_data"
    }
   ],
   "source": [
    "sns.catplot(x='algorithm', y='RMSE', data=user_rmse, kind='bar')"
   ]
  },
  {
   "cell_type": "markdown",
   "id": "ffbd7ba0",
   "metadata": {
    "papermill": {
     "duration": 0.00916,
     "end_time": "2024-12-11T20:06:50.669288",
     "exception": false,
     "start_time": "2024-12-11T20:06:50.660128",
     "status": "completed"
    },
    "tags": []
   },
   "source": [
    "## Save Metrics\n",
    "\n",
    "We'll now save the top-N recommendation metrics."
   ]
  },
  {
   "cell_type": "code",
   "execution_count": 20,
   "id": "1b776675",
   "metadata": {
    "execution": {
     "iopub.execute_input": "2024-12-11T20:06:50.674592Z",
     "iopub.status.busy": "2024-12-11T20:06:50.674504Z",
     "iopub.status.idle": "2024-12-11T20:06:50.707882Z",
     "shell.execute_reply": "2024-12-11T20:06:50.707471Z"
    },
    "papermill": {
     "duration": 0.036569,
     "end_time": "2024-12-11T20:06:50.708355",
     "exception": false,
     "start_time": "2024-12-11T20:06:50.671786",
     "status": "completed"
    },
    "tags": []
   },
   "outputs": [
    {
     "data": {
      "text/html": [
       "<div>\n",
       "<style scoped>\n",
       "    .dataframe tbody tr th:only-of-type {\n",
       "        vertical-align: middle;\n",
       "    }\n",
       "\n",
       "    .dataframe tbody tr th {\n",
       "        vertical-align: top;\n",
       "    }\n",
       "\n",
       "    .dataframe thead th {\n",
       "        text-align: right;\n",
       "    }\n",
       "</style>\n",
       "<table border=\"1\" class=\"dataframe\">\n",
       "  <thead>\n",
       "    <tr style=\"text-align: right;\">\n",
       "      <th></th>\n",
       "      <th>RecipRank</th>\n",
       "      <th>NDCG</th>\n",
       "    </tr>\n",
       "    <tr>\n",
       "      <th>algorithm</th>\n",
       "      <th></th>\n",
       "      <th></th>\n",
       "    </tr>\n",
       "  </thead>\n",
       "  <tbody>\n",
       "    <tr>\n",
       "      <th>ALS</th>\n",
       "      <td>0.036975</td>\n",
       "      <td>0.030096</td>\n",
       "    </tr>\n",
       "    <tr>\n",
       "      <th>Bias</th>\n",
       "      <td>0.079343</td>\n",
       "      <td>0.050358</td>\n",
       "    </tr>\n",
       "    <tr>\n",
       "      <th>IALS</th>\n",
       "      <td>0.258316</td>\n",
       "      <td>0.262941</td>\n",
       "    </tr>\n",
       "    <tr>\n",
       "      <th>IIE</th>\n",
       "      <td>0.000723</td>\n",
       "      <td>0.001677</td>\n",
       "    </tr>\n",
       "    <tr>\n",
       "      <th>III</th>\n",
       "      <td>0.291533</td>\n",
       "      <td>0.224187</td>\n",
       "    </tr>\n",
       "    <tr>\n",
       "      <th>Pop</th>\n",
       "      <td>0.159630</td>\n",
       "      <td>0.135220</td>\n",
       "    </tr>\n",
       "    <tr>\n",
       "      <th>UUE</th>\n",
       "      <td>0.000041</td>\n",
       "      <td>0.000118</td>\n",
       "    </tr>\n",
       "  </tbody>\n",
       "</table>\n",
       "</div>"
      ],
      "text/plain": [
       "           RecipRank      NDCG\n",
       "algorithm                     \n",
       "ALS         0.036975  0.030096\n",
       "Bias        0.079343  0.050358\n",
       "IALS        0.258316  0.262941\n",
       "IIE         0.000723  0.001677\n",
       "III         0.291533  0.224187\n",
       "Pop         0.159630  0.135220\n",
       "UUE         0.000041  0.000118"
      ]
     },
     "execution_count": 20,
     "metadata": {},
     "output_type": "execute_result"
    }
   ],
   "source": [
    "saved = results[['recip_rank', 'ndcg']].rename(columns={'ndcg': 'NDCG', 'recip_rank': 'RecipRank'})\n",
    "saved = saved.groupby('algorithm').agg('mean')\n",
    "saved"
   ]
  },
  {
   "cell_type": "code",
   "execution_count": 21,
   "id": "c4083a95",
   "metadata": {
    "execution": {
     "iopub.execute_input": "2024-12-11T20:06:50.714343Z",
     "iopub.status.busy": "2024-12-11T20:06:50.714254Z",
     "iopub.status.idle": "2024-12-11T20:06:50.716379Z",
     "shell.execute_reply": "2024-12-11T20:06:50.716098Z"
    },
    "papermill": {
     "duration": 0.005672,
     "end_time": "2024-12-11T20:06:50.716887",
     "exception": false,
     "start_time": "2024-12-11T20:06:50.711215",
     "status": "completed"
    },
    "tags": []
   },
   "outputs": [],
   "source": [
    "saved.to_json(f'eval-metrics.{dataset}.json', orient='index')"
   ]
  }
 ],
 "metadata": {
  "jupytext": {
   "formats": "ipynb,md",
   "notebook_metadata_filter": "split_at_heading"
  },
  "kernelspec": {
   "display_name": "Python 3 (ipykernel)",
   "language": "python",
   "name": "python3"
  },
  "language_info": {
   "codemirror_mode": {
    "name": "ipython",
    "version": 3
   },
   "file_extension": ".py",
   "mimetype": "text/x-python",
   "name": "python",
   "nbconvert_exporter": "python",
   "pygments_lexer": "ipython3",
   "version": "3.10.16"
  },
  "papermill": {
   "default_parameters": {},
   "duration": 247.393751,
   "end_time": "2024-12-11T20:06:51.033352",
   "environment_variables": {},
   "exception": null,
   "input_path": "eval-report.ipynb",
   "output_path": "eval-report.ml20m.ipynb",
   "parameters": {
    "dataset": "ml20m"
   },
   "start_time": "2024-12-11T20:02:43.639601",
   "version": "2.6.0"
  },
  "split_at_heading": true
 },
 "nbformat": 4,
 "nbformat_minor": 5
}