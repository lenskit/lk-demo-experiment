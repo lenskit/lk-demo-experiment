{
 "cells": [
  {
   "cell_type": "markdown",
   "id": "ed91d57a",
   "metadata": {
    "papermill": {
     "duration": 0.02399,
     "end_time": "2022-02-16T07:53:25.497723",
     "exception": false,
     "start_time": "2022-02-16T07:53:25.473733",
     "status": "completed"
    },
    "tags": []
   },
   "source": [
    "# Evaluation Analysis for Recommender Output"
   ]
  },
  {
   "cell_type": "markdown",
   "id": "2d362978",
   "metadata": {
    "papermill": {
     "duration": 0.026,
     "end_time": "2022-02-16T07:53:25.548691",
     "exception": false,
     "start_time": "2022-02-16T07:53:25.522691",
     "status": "completed"
    },
    "tags": []
   },
   "source": [
    "In this section we will analyze and compare the generated recommendations and predictions from a predefined list of algorithms with the goal of assessing the performance of each algorithm with respect to a metric. In other words, we would rank the algorithms for each metric considered with respect to performance."
   ]
  },
  {
   "cell_type": "markdown",
   "id": "e491b9ae",
   "metadata": {
    "papermill": {
     "duration": 0.026998,
     "end_time": "2022-02-16T07:53:25.602235",
     "exception": false,
     "start_time": "2022-02-16T07:53:25.575237",
     "status": "completed"
    },
    "tags": []
   },
   "source": [
    "# Setup"
   ]
  },
  {
   "cell_type": "markdown",
   "id": "08ec1561",
   "metadata": {
    "papermill": {
     "duration": 0.027997,
     "end_time": "2022-02-16T07:53:25.658234",
     "exception": false,
     "start_time": "2022-02-16T07:53:25.630237",
     "status": "completed"
    },
    "tags": []
   },
   "source": [
    "Below are the list of packages required to successfully run the analysis. They are divided into partitions to signify their specific task.<br>\n",
    "We need the pathlib package for working with files and folders"
   ]
  },
  {
   "cell_type": "code",
   "execution_count": 1,
   "id": "39b11345",
   "metadata": {
    "execution": {
     "iopub.execute_input": "2022-02-16T07:53:25.711947Z",
     "iopub.status.busy": "2022-02-16T07:53:25.711947Z",
     "iopub.status.idle": "2022-02-16T07:53:25.726946Z",
     "shell.execute_reply": "2022-02-16T07:53:25.726946Z"
    },
    "papermill": {
     "duration": 0.044709,
     "end_time": "2022-02-16T07:53:25.728945",
     "exception": false,
     "start_time": "2022-02-16T07:53:25.684236",
     "status": "completed"
    },
    "tags": []
   },
   "outputs": [],
   "source": [
    "from pathlib import Path"
   ]
  },
  {
   "cell_type": "markdown",
   "id": "611597a6",
   "metadata": {
    "papermill": {
     "duration": 0.030001,
     "end_time": "2022-02-16T07:53:25.791944",
     "exception": false,
     "start_time": "2022-02-16T07:53:25.761943",
     "status": "completed"
    },
    "tags": []
   },
   "source": [
    "We would use the pandas for analyzing and manipulating our data while seaborn and matplotlib are used for data visualization. statsmodels.graphics.gofplots and scipy.stats.shapiro are used for normality check. Scipy.stats.friedmanchisquare is a non-parametric test used to determine the statistical significance in metric results and the wilcoxon test is used for pairwise comparison of sample data."
   ]
  },
  {
   "cell_type": "code",
   "execution_count": 2,
   "id": "f5c22c10",
   "metadata": {
    "execution": {
     "iopub.execute_input": "2022-02-16T07:53:25.852943Z",
     "iopub.status.busy": "2022-02-16T07:53:25.852943Z",
     "iopub.status.idle": "2022-02-16T07:53:27.554325Z",
     "shell.execute_reply": "2022-02-16T07:53:27.554325Z"
    },
    "papermill": {
     "duration": 1.737415,
     "end_time": "2022-02-16T07:53:27.556357",
     "exception": false,
     "start_time": "2022-02-16T07:53:25.818942",
     "status": "completed"
    },
    "tags": []
   },
   "outputs": [],
   "source": [
    "import pandas as pd\n",
    "import seaborn as sns\n",
    "import matplotlib.pyplot as plt\n",
    "from statsmodels.graphics.gofplots import qqplot\n",
    "from scipy.stats import shapiro\n",
    "from scipy.stats import friedmanchisquare, wilcoxon\n",
    "from itertools import combinations"
   ]
  },
  {
   "cell_type": "markdown",
   "id": "bdd8b076",
   "metadata": {
    "papermill": {
     "duration": 0.028,
     "end_time": "2022-02-16T07:53:27.616913",
     "exception": false,
     "start_time": "2022-02-16T07:53:27.588913",
     "status": "completed"
    },
    "tags": []
   },
   "source": [
    "Logging to show what's happening in LensKit routines:"
   ]
  },
  {
   "cell_type": "code",
   "execution_count": 3,
   "id": "957e91d2",
   "metadata": {
    "execution": {
     "iopub.execute_input": "2022-02-16T07:53:27.671912Z",
     "iopub.status.busy": "2022-02-16T07:53:27.671912Z",
     "iopub.status.idle": "2022-02-16T07:53:27.711716Z",
     "shell.execute_reply": "2022-02-16T07:53:27.710943Z"
    },
    "papermill": {
     "duration": 0.069151,
     "end_time": "2022-02-16T07:53:27.713063",
     "exception": false,
     "start_time": "2022-02-16T07:53:27.643912",
     "status": "completed"
    },
    "tags": []
   },
   "outputs": [
    {
     "name": "stdout",
     "output_type": "stream",
     "text": [
      "[   INFO] lenskit.util.log notebook logging configured\n"
     ]
    }
   ],
   "source": [
    "from lenskit import util\n",
    "util.log_to_notebook()"
   ]
  },
  {
   "cell_type": "markdown",
   "id": "fee62cd1",
   "metadata": {
    "papermill": {
     "duration": 0.026999,
     "end_time": "2022-02-16T07:53:27.767331",
     "exception": false,
     "start_time": "2022-02-16T07:53:27.740332",
     "status": "completed"
    },
    "tags": []
   },
   "source": [
    "We will use lenskit for training, running, and evaluating recommender algorithms"
   ]
  },
  {
   "cell_type": "code",
   "execution_count": 4,
   "id": "800b5f82",
   "metadata": {
    "execution": {
     "iopub.execute_input": "2022-02-16T07:53:27.823333Z",
     "iopub.status.busy": "2022-02-16T07:53:27.823333Z",
     "iopub.status.idle": "2022-02-16T07:53:27.836333Z",
     "shell.execute_reply": "2022-02-16T07:53:27.836333Z"
    },
    "papermill": {
     "duration": 0.043001,
     "end_time": "2022-02-16T07:53:27.838333",
     "exception": false,
     "start_time": "2022-02-16T07:53:27.795332",
     "status": "completed"
    },
    "tags": []
   },
   "outputs": [],
   "source": [
    "from lenskit import topn\n",
    "from lenskit.metrics.predict import rmse"
   ]
  },
  {
   "cell_type": "markdown",
   "id": "f6828365",
   "metadata": {
    "papermill": {
     "duration": 0.027,
     "end_time": "2022-02-16T07:53:27.893331",
     "exception": false,
     "start_time": "2022-02-16T07:53:27.866331",
     "status": "completed"
    },
    "tags": []
   },
   "source": [
    "# Load Data"
   ]
  },
  {
   "cell_type": "markdown",
   "id": "6a44534f",
   "metadata": {
    "papermill": {
     "duration": 0.025968,
     "end_time": "2022-02-16T07:53:27.945330",
     "exception": false,
     "start_time": "2022-02-16T07:53:27.919362",
     "status": "completed"
    },
    "tags": []
   },
   "source": [
    "We specify the dataset we will use for our analysis and the main directory from where we read the recommendation and prediction files. From the main directory we find all the directories associated with the dataset and then read the recommendation and predictions files from those directories."
   ]
  },
  {
   "cell_type": "code",
   "execution_count": 5,
   "id": "2479a416",
   "metadata": {
    "execution": {
     "iopub.execute_input": "2022-02-16T07:53:27.998362Z",
     "iopub.status.busy": "2022-02-16T07:53:27.998362Z",
     "iopub.status.idle": "2022-02-16T07:53:28.011328Z",
     "shell.execute_reply": "2022-02-16T07:53:28.010360Z"
    },
    "papermill": {
     "duration": 0.04103,
     "end_time": "2022-02-16T07:53:28.012362",
     "exception": false,
     "start_time": "2022-02-16T07:53:27.971332",
     "status": "completed"
    },
    "tags": [
     "parameters"
    ]
   },
   "outputs": [],
   "source": [
    "dataset = \"ml10m\""
   ]
  },
  {
   "cell_type": "code",
   "execution_count": 6,
   "id": "88995110",
   "metadata": {
    "execution": {
     "iopub.execute_input": "2022-02-16T07:53:28.067344Z",
     "iopub.status.busy": "2022-02-16T07:53:28.067344Z",
     "iopub.status.idle": "2022-02-16T07:53:28.073327Z",
     "shell.execute_reply": "2022-02-16T07:53:28.073327Z"
    },
    "papermill": {
     "duration": 0.037002,
     "end_time": "2022-02-16T07:53:28.075330",
     "exception": false,
     "start_time": "2022-02-16T07:53:28.038328",
     "status": "completed"
    },
    "tags": [
     "injected-parameters"
    ]
   },
   "outputs": [],
   "source": [
    "# Parameters\n",
    "dataset = \"ml20m\"\n"
   ]
  },
  {
   "cell_type": "code",
   "execution_count": 7,
   "id": "24d8671e",
   "metadata": {
    "execution": {
     "iopub.execute_input": "2022-02-16T07:53:28.131355Z",
     "iopub.status.busy": "2022-02-16T07:53:28.131355Z",
     "iopub.status.idle": "2022-02-16T07:53:28.135356Z",
     "shell.execute_reply": "2022-02-16T07:53:28.135356Z"
    },
    "papermill": {
     "duration": 0.034037,
     "end_time": "2022-02-16T07:53:28.137365",
     "exception": false,
     "start_time": "2022-02-16T07:53:28.103328",
     "status": "completed"
    },
    "tags": []
   },
   "outputs": [],
   "source": [
    "output_root = Path(\"runs\")"
   ]
  },
  {
   "cell_type": "code",
   "execution_count": 8,
   "id": "310d8521",
   "metadata": {
    "execution": {
     "iopub.execute_input": "2022-02-16T07:53:28.192327Z",
     "iopub.status.busy": "2022-02-16T07:53:28.192327Z",
     "iopub.status.idle": "2022-02-16T07:53:28.196357Z",
     "shell.execute_reply": "2022-02-16T07:53:28.196357Z"
    },
    "papermill": {
     "duration": 0.034,
     "end_time": "2022-02-16T07:53:28.198357",
     "exception": false,
     "start_time": "2022-02-16T07:53:28.164357",
     "status": "completed"
    },
    "tags": []
   },
   "outputs": [],
   "source": [
    "dirs = [fld for fld in output_root.glob(f'{dataset}-*')]"
   ]
  },
  {
   "cell_type": "code",
   "execution_count": 9,
   "id": "3caa3332",
   "metadata": {
    "execution": {
     "iopub.execute_input": "2022-02-16T07:53:28.255326Z",
     "iopub.status.busy": "2022-02-16T07:53:28.255326Z",
     "iopub.status.idle": "2022-02-16T07:54:24.169688Z",
     "shell.execute_reply": "2022-02-16T07:54:24.169688Z"
    },
    "papermill": {
     "duration": 55.971744,
     "end_time": "2022-02-16T07:54:24.198104",
     "exception": false,
     "start_time": "2022-02-16T07:53:28.226360",
     "status": "completed"
    },
    "tags": []
   },
   "outputs": [
    {
     "name": "stdout",
     "output_type": "stream",
     "text": [
      "<class 'pandas.core.frame.DataFrame'>\n",
      "RangeIndex: 96935400 entries, 0 to 96935399\n",
      "Data columns (total 5 columns):\n",
      " #   Column     Dtype   \n",
      "---  ------     -----   \n",
      " 0   item       int64   \n",
      " 1   score      float64 \n",
      " 2   user       int64   \n",
      " 3   rank       int64   \n",
      " 4   algorithm  category\n",
      "dtypes: category(1), float64(1), int64(3)\n",
      "memory usage: 3.0 GB\n"
     ]
    }
   ],
   "source": [
    "recs = []\n",
    "for fld in dirs: \n",
    "    for file in fld.glob(\"recs-*\"):\n",
    "        rec = pd.read_csv(file, sep=',')\n",
    "        rec[\"algorithm\"] = fld.name.split(\"-\")[1]\n",
    "        recs.append(rec)\n",
    "\n",
    "recs = pd.concat(recs, ignore_index=True)\n",
    "recs = recs.astype({'algorithm': 'category'})\n",
    "recs.info()"
   ]
  },
  {
   "cell_type": "code",
   "execution_count": 10,
   "id": "bbe70e00",
   "metadata": {
    "execution": {
     "iopub.execute_input": "2022-02-16T07:54:24.250122Z",
     "iopub.status.busy": "2022-02-16T07:54:24.250122Z",
     "iopub.status.idle": "2022-02-16T07:54:24.914746Z",
     "shell.execute_reply": "2022-02-16T07:54:24.913751Z"
    },
    "papermill": {
     "duration": 0.691619,
     "end_time": "2022-02-16T07:54:24.915756",
     "exception": false,
     "start_time": "2022-02-16T07:54:24.224137",
     "status": "completed"
    },
    "tags": []
   },
   "outputs": [
    {
     "data": {
      "text/plain": [
       "['ALS', 'Bias', 'IALS', 'II', 'III', 'Pop', 'UU']\n",
       "Categories (7, object): ['ALS', 'Bias', 'IALS', 'II', 'III', 'Pop', 'UU']"
      ]
     },
     "execution_count": 10,
     "metadata": {},
     "output_type": "execute_result"
    }
   ],
   "source": [
    "rec_algos = recs['algorithm'].unique()\n",
    "rec_algos"
   ]
  },
  {
   "cell_type": "code",
   "execution_count": 11,
   "id": "3bc21b22",
   "metadata": {
    "execution": {
     "iopub.execute_input": "2022-02-16T07:54:24.966374Z",
     "iopub.status.busy": "2022-02-16T07:54:24.966374Z",
     "iopub.status.idle": "2022-02-16T07:54:28.670150Z",
     "shell.execute_reply": "2022-02-16T07:54:28.669182Z"
    },
    "papermill": {
     "duration": 3.730392,
     "end_time": "2022-02-16T07:54:28.671150",
     "exception": false,
     "start_time": "2022-02-16T07:54:24.940758",
     "status": "completed"
    },
    "tags": []
   },
   "outputs": [
    {
     "name": "stdout",
     "output_type": "stream",
     "text": [
      "<class 'pandas.core.frame.DataFrame'>\n",
      "RangeIndex: 4154790 entries, 0 to 4154789\n",
      "Data columns (total 6 columns):\n",
      " #   Column      Dtype   \n",
      "---  ------      -----   \n",
      " 0   user        int64   \n",
      " 1   item        int64   \n",
      " 2   rating      float64 \n",
      " 3   timestamp   int64   \n",
      " 4   prediction  float64 \n",
      " 5   algorithm   category\n",
      "dtypes: category(1), float64(2), int64(3)\n",
      "memory usage: 162.5 MB\n"
     ]
    }
   ],
   "source": [
    "preds = []\n",
    "for fld in dirs:\n",
    "    for file in fld.glob(\"pred-*\"):\n",
    "        pred = pd.read_csv(file, sep=',')\n",
    "        pred[\"algorithm\"] = fld.name.split(\"-\")[1]\n",
    "        preds.append(pred)\n",
    "\n",
    "preds = pd.concat(preds, ignore_index=True)\n",
    "preds = preds.astype({'algorithm': 'category'})\n",
    "preds.info()"
   ]
  },
  {
   "cell_type": "markdown",
   "id": "37506c8f",
   "metadata": {
    "papermill": {
     "duration": 0.026035,
     "end_time": "2022-02-16T07:54:28.723217",
     "exception": false,
     "start_time": "2022-02-16T07:54:28.697182",
     "status": "completed"
    },
    "tags": []
   },
   "source": [
    "We need to load the test data so that we have the ground truths for computing accuracy "
   ]
  },
  {
   "cell_type": "code",
   "execution_count": 12,
   "id": "25312c6b",
   "metadata": {
    "execution": {
     "iopub.execute_input": "2022-02-16T07:54:28.774178Z",
     "iopub.status.busy": "2022-02-16T07:54:28.774178Z",
     "iopub.status.idle": "2022-02-16T07:54:28.779179Z",
     "shell.execute_reply": "2022-02-16T07:54:28.779179Z"
    },
    "papermill": {
     "duration": 0.032998,
     "end_time": "2022-02-16T07:54:28.781147",
     "exception": false,
     "start_time": "2022-02-16T07:54:28.748149",
     "status": "completed"
    },
    "tags": []
   },
   "outputs": [],
   "source": [
    "split_root = Path(\"data-split\")\n",
    "split_dir = split_root / dataset"
   ]
  },
  {
   "cell_type": "code",
   "execution_count": 13,
   "id": "df757416",
   "metadata": {
    "execution": {
     "iopub.execute_input": "2022-02-16T07:54:28.858148Z",
     "iopub.status.busy": "2022-02-16T07:54:28.858148Z",
     "iopub.status.idle": "2022-02-16T07:54:29.311393Z",
     "shell.execute_reply": "2022-02-16T07:54:29.310376Z"
    },
    "papermill": {
     "duration": 0.501221,
     "end_time": "2022-02-16T07:54:29.313380",
     "exception": false,
     "start_time": "2022-02-16T07:54:28.812159",
     "status": "completed"
    },
    "tags": []
   },
   "outputs": [],
   "source": [
    "test = []\n",
    "for file in split_dir.glob(\"test-*.csv.gz\"):\n",
    "    test.append(pd.read_csv(file, sep=','))\n",
    "\n",
    "test = pd.concat(test, ignore_index=True)"
   ]
  },
  {
   "cell_type": "markdown",
   "id": "1f205f4c",
   "metadata": {
    "papermill": {
     "duration": 0.041998,
     "end_time": "2022-02-16T07:54:29.400391",
     "exception": false,
     "start_time": "2022-02-16T07:54:29.358393",
     "status": "completed"
    },
    "tags": []
   },
   "source": [
    "# Top-N Metrics"
   ]
  },
  {
   "cell_type": "markdown",
   "id": "78dddc46",
   "metadata": {
    "papermill": {
     "duration": 0.027999,
     "end_time": "2022-02-16T07:54:29.457375",
     "exception": false,
     "start_time": "2022-02-16T07:54:29.429376",
     "status": "completed"
    },
    "tags": []
   },
   "source": [
    "The topn.RecListAnalysis class computes top-N metrics for recommendation list and takes care of making sure that the recommendations and ground truths are properly matched. Refer to the documentation for detailed explanation of the purpose for the RecListAnalysis class and how the analysis is done - https://lkpy.lenskit.org/en/stable/evaluation/topn-metrics.html "
   ]
  },
  {
   "cell_type": "code",
   "execution_count": 14,
   "id": "42580459",
   "metadata": {
    "execution": {
     "iopub.execute_input": "2022-02-16T07:54:29.512372Z",
     "iopub.status.busy": "2022-02-16T07:54:29.512372Z",
     "iopub.status.idle": "2022-02-16T07:56:17.465252Z",
     "shell.execute_reply": "2022-02-16T07:56:17.465252Z"
    },
    "papermill": {
     "duration": 107.982865,
     "end_time": "2022-02-16T07:56:17.467240",
     "exception": false,
     "start_time": "2022-02-16T07:54:29.484375",
     "status": "completed"
    },
    "tags": []
   },
   "outputs": [
    {
     "name": "stdout",
     "output_type": "stream",
     "text": [
      "[   INFO] lenskit.topn analyzing 96935400 recommendations (692465 truth rows)\n"
     ]
    },
    {
     "name": "stdout",
     "output_type": "stream",
     "text": [
      "[   INFO] lenskit.topn using rec key columns ['algorithm', 'user']\n"
     ]
    },
    {
     "name": "stdout",
     "output_type": "stream",
     "text": [
      "[   INFO] lenskit.topn using truth key columns ['user']\n"
     ]
    },
    {
     "name": "stdout",
     "output_type": "stream",
     "text": [
      "[   INFO] lenskit.topn numbering truth lists\n"
     ]
    },
    {
     "name": "stdout",
     "output_type": "stream",
     "text": [
      "[   INFO] lenskit.topn numbering rec lists\n"
     ]
    },
    {
     "name": "stdout",
     "output_type": "stream",
     "text": [
      "[   INFO] lenskit.topn collecting metric results\n"
     ]
    },
    {
     "name": "stdout",
     "output_type": "stream",
     "text": [
      "[   INFO] lenskit.topn measured 969354 lists in 1m25.89s\n"
     ]
    },
    {
     "name": "stdout",
     "output_type": "stream",
     "text": [
      "[   INFO] lenskit.topn filling in missing user info (969354 initial rows)\n"
     ]
    },
    {
     "data": {
      "text/html": [
       "<div>\n",
       "<style scoped>\n",
       "    .dataframe tbody tr th:only-of-type {\n",
       "        vertical-align: middle;\n",
       "    }\n",
       "\n",
       "    .dataframe tbody tr th {\n",
       "        vertical-align: top;\n",
       "    }\n",
       "\n",
       "    .dataframe thead th {\n",
       "        text-align: right;\n",
       "    }\n",
       "</style>\n",
       "<table border=\"1\" class=\"dataframe\">\n",
       "  <thead>\n",
       "    <tr style=\"text-align: right;\">\n",
       "      <th></th>\n",
       "      <th></th>\n",
       "      <th>level_1</th>\n",
       "      <th>nrecs</th>\n",
       "      <th>precision</th>\n",
       "      <th>recip_rank</th>\n",
       "      <th>ndcg</th>\n",
       "      <th>ntruth</th>\n",
       "    </tr>\n",
       "    <tr>\n",
       "      <th>algorithm</th>\n",
       "      <th>user</th>\n",
       "      <th></th>\n",
       "      <th></th>\n",
       "      <th></th>\n",
       "      <th></th>\n",
       "      <th></th>\n",
       "      <th></th>\n",
       "    </tr>\n",
       "  </thead>\n",
       "  <tbody>\n",
       "    <tr>\n",
       "      <th rowspan=\"5\" valign=\"top\">ALS</th>\n",
       "      <th>2</th>\n",
       "      <td>0.0</td>\n",
       "      <td>100.0</td>\n",
       "      <td>0.02</td>\n",
       "      <td>0.062500</td>\n",
       "      <td>0.120560</td>\n",
       "      <td>5</td>\n",
       "    </tr>\n",
       "    <tr>\n",
       "      <th>10</th>\n",
       "      <td>1.0</td>\n",
       "      <td>100.0</td>\n",
       "      <td>0.01</td>\n",
       "      <td>0.028571</td>\n",
       "      <td>0.058565</td>\n",
       "      <td>5</td>\n",
       "    </tr>\n",
       "    <tr>\n",
       "      <th>15</th>\n",
       "      <td>2.0</td>\n",
       "      <td>100.0</td>\n",
       "      <td>0.01</td>\n",
       "      <td>0.333333</td>\n",
       "      <td>0.238012</td>\n",
       "      <td>5</td>\n",
       "    </tr>\n",
       "    <tr>\n",
       "      <th>16</th>\n",
       "      <td>3.0</td>\n",
       "      <td>100.0</td>\n",
       "      <td>0.00</td>\n",
       "      <td>0.000000</td>\n",
       "      <td>0.000000</td>\n",
       "      <td>5</td>\n",
       "    </tr>\n",
       "    <tr>\n",
       "      <th>27</th>\n",
       "      <td>4.0</td>\n",
       "      <td>100.0</td>\n",
       "      <td>0.00</td>\n",
       "      <td>0.000000</td>\n",
       "      <td>0.000000</td>\n",
       "      <td>5</td>\n",
       "    </tr>\n",
       "  </tbody>\n",
       "</table>\n",
       "</div>"
      ],
      "text/plain": [
       "                level_1  nrecs  precision  recip_rank      ndcg  ntruth\n",
       "algorithm user                                                         \n",
       "ALS       2         0.0  100.0       0.02    0.062500  0.120560       5\n",
       "          10        1.0  100.0       0.01    0.028571  0.058565       5\n",
       "          15        2.0  100.0       0.01    0.333333  0.238012       5\n",
       "          16        3.0  100.0       0.00    0.000000  0.000000       5\n",
       "          27        4.0  100.0       0.00    0.000000  0.000000       5"
      ]
     },
     "execution_count": 14,
     "metadata": {},
     "output_type": "execute_result"
    }
   ],
   "source": [
    "rla = topn.RecListAnalysis()\n",
    "\n",
    "rla.add_metric(topn.precision)\n",
    "rla.add_metric(topn.recip_rank)\n",
    "rla.add_metric(topn.ndcg)\n",
    "results = rla.compute(recs, test, include_missing=True)\n",
    "results = results.fillna(0)\n",
    "results.head()"
   ]
  },
  {
   "cell_type": "markdown",
   "id": "d322f869",
   "metadata": {
    "papermill": {
     "duration": 0.039985,
     "end_time": "2022-02-16T07:56:17.540243",
     "exception": false,
     "start_time": "2022-02-16T07:56:17.500258",
     "status": "completed"
    },
    "tags": []
   },
   "source": [
    "We will reshape the 'results' dataframe by stacking the columns to index and then use the bar chart to visualize the performance of our algorithms with respect to the precision, reciprocal rank and ndcg metrics"
   ]
  },
  {
   "cell_type": "code",
   "execution_count": 15,
   "id": "f6487636",
   "metadata": {
    "execution": {
     "iopub.execute_input": "2022-02-16T07:56:17.609239Z",
     "iopub.status.busy": "2022-02-16T07:56:17.609239Z",
     "iopub.status.idle": "2022-02-16T07:56:17.853377Z",
     "shell.execute_reply": "2022-02-16T07:56:17.853377Z"
    },
    "papermill": {
     "duration": 0.278103,
     "end_time": "2022-02-16T07:56:17.855376",
     "exception": false,
     "start_time": "2022-02-16T07:56:17.577273",
     "status": "completed"
    },
    "tags": []
   },
   "outputs": [
    {
     "data": {
      "text/html": [
       "<div>\n",
       "<style scoped>\n",
       "    .dataframe tbody tr th:only-of-type {\n",
       "        vertical-align: middle;\n",
       "    }\n",
       "\n",
       "    .dataframe tbody tr th {\n",
       "        vertical-align: top;\n",
       "    }\n",
       "\n",
       "    .dataframe thead th {\n",
       "        text-align: right;\n",
       "    }\n",
       "</style>\n",
       "<table border=\"1\" class=\"dataframe\">\n",
       "  <thead>\n",
       "    <tr style=\"text-align: right;\">\n",
       "      <th></th>\n",
       "      <th>algorithm</th>\n",
       "      <th>user</th>\n",
       "      <th>metric</th>\n",
       "      <th>val</th>\n",
       "    </tr>\n",
       "  </thead>\n",
       "  <tbody>\n",
       "    <tr>\n",
       "      <th>0</th>\n",
       "      <td>ALS</td>\n",
       "      <td>2</td>\n",
       "      <td>level_1</td>\n",
       "      <td>0.00000</td>\n",
       "    </tr>\n",
       "    <tr>\n",
       "      <th>1</th>\n",
       "      <td>ALS</td>\n",
       "      <td>2</td>\n",
       "      <td>precision</td>\n",
       "      <td>0.02000</td>\n",
       "    </tr>\n",
       "    <tr>\n",
       "      <th>2</th>\n",
       "      <td>ALS</td>\n",
       "      <td>2</td>\n",
       "      <td>recip_rank</td>\n",
       "      <td>0.06250</td>\n",
       "    </tr>\n",
       "    <tr>\n",
       "      <th>3</th>\n",
       "      <td>ALS</td>\n",
       "      <td>2</td>\n",
       "      <td>ndcg</td>\n",
       "      <td>0.12056</td>\n",
       "    </tr>\n",
       "    <tr>\n",
       "      <th>4</th>\n",
       "      <td>ALS</td>\n",
       "      <td>10</td>\n",
       "      <td>level_1</td>\n",
       "      <td>1.00000</td>\n",
       "    </tr>\n",
       "  </tbody>\n",
       "</table>\n",
       "</div>"
      ],
      "text/plain": [
       "  algorithm  user      metric      val\n",
       "0       ALS     2     level_1  0.00000\n",
       "1       ALS     2   precision  0.02000\n",
       "2       ALS     2  recip_rank  0.06250\n",
       "3       ALS     2        ndcg  0.12056\n",
       "4       ALS    10     level_1  1.00000"
      ]
     },
     "execution_count": 15,
     "metadata": {},
     "output_type": "execute_result"
    }
   ],
   "source": [
    "pltData = (results.drop(columns=['nrecs', 'ntruth']).stack()).reset_index()\n",
    "pltData.columns = ['algorithm', 'user', 'metric', 'val']\n",
    "pltData.head()"
   ]
  },
  {
   "cell_type": "markdown",
   "id": "c465b74d",
   "metadata": {
    "papermill": {
     "duration": 0.028999,
     "end_time": "2022-02-16T07:56:17.915374",
     "exception": false,
     "start_time": "2022-02-16T07:56:17.886375",
     "status": "completed"
    },
    "tags": []
   },
   "source": [
    "We need to determine if the differences we observe in the performances of the algorithms for the various metrics are statistically significant. To achieve this, we will need to use either a parametric or non-parametric statistical test for comparing the differences. We will consider a parametric test - repeated ANOVA measure cause our sample groups are correlated."
   ]
  },
  {
   "cell_type": "code",
   "execution_count": 16,
   "id": "8a184f7f",
   "metadata": {
    "execution": {
     "iopub.execute_input": "2022-02-16T07:56:17.973406Z",
     "iopub.status.busy": "2022-02-16T07:56:17.973406Z",
     "iopub.status.idle": "2022-02-16T07:57:01.358317Z",
     "shell.execute_reply": "2022-02-16T07:57:01.357348Z"
    },
    "papermill": {
     "duration": 43.431909,
     "end_time": "2022-02-16T07:57:01.376317",
     "exception": false,
     "start_time": "2022-02-16T07:56:17.944408",
     "status": "completed"
    },
    "tags": []
   },
   "outputs": [
    {
     "data": {
      "image/png": "[encoded data removed]",
      "text/plain": [
       "<Figure size 1036.8x216 with 4 Axes>"
      ]
     },
     "metadata": {
      "needs_background": "light"
     },
     "output_type": "display_data"
    }
   ],
   "source": [
    "g = sns.catplot(x = \"algorithm\", y = \"val\", data = pltData, kind=\"bar\", col = \"metric\", aspect=1.2, height=3, sharey=False)"
   ]
  },
  {
   "cell_type": "markdown",
   "id": "619f6bb6",
   "metadata": {
    "papermill": {
     "duration": 0.030005,
     "end_time": "2022-02-16T07:57:01.435353",
     "exception": false,
     "start_time": "2022-02-16T07:57:01.405348",
     "status": "completed"
    },
    "tags": []
   },
   "source": [
    "### Statistical Testing"
   ]
  },
  {
   "cell_type": "markdown",
   "id": "3bd7c444",
   "metadata": {
    "papermill": {
     "duration": 0.029,
     "end_time": "2022-02-16T07:57:01.493318",
     "exception": false,
     "start_time": "2022-02-16T07:57:01.464318",
     "status": "completed"
    },
    "tags": []
   },
   "source": [
    "We will now examine these metrics in more detail and test for statistical significance.  Best practice for statistical testing for recommender systems is still a work in progress, but this method avoids most of the validity problems we know about.\n",
    "\n",
    "The Friedman $\\chi^2$ test will test the null hypothesis that there is no difference between algorithms in terms of their performance."
   ]
  },
  {
   "cell_type": "code",
   "execution_count": 17,
   "id": "75222abb",
   "metadata": {
    "execution": {
     "iopub.execute_input": "2022-02-16T07:57:01.557290Z",
     "iopub.status.busy": "2022-02-16T07:57:01.557290Z",
     "iopub.status.idle": "2022-02-16T07:57:01.562274Z",
     "shell.execute_reply": "2022-02-16T07:57:01.561257Z"
    },
    "papermill": {
     "duration": 0.038915,
     "end_time": "2022-02-16T07:57:01.563262",
     "exception": false,
     "start_time": "2022-02-16T07:57:01.524347",
     "status": "completed"
    },
    "tags": []
   },
   "outputs": [],
   "source": [
    "def metric_friedman(metric):\n",
    "    groups = [df[metric] for a, df in results.groupby('algorithm')]\n",
    "\n",
    "    stat, p = friedmanchisquare(*groups)\n",
    "    return pd.Series({'stat': stat, 'p': p}, name=metric)"
   ]
  },
  {
   "cell_type": "markdown",
   "id": "452ecc76",
   "metadata": {
    "papermill": {
     "duration": 0.031999,
     "end_time": "2022-02-16T07:57:01.629256",
     "exception": false,
     "start_time": "2022-02-16T07:57:01.597257",
     "status": "completed"
    },
    "tags": []
   },
   "source": [
    "If the test detects significance, we have at least one pair of different algorithms - but which pairs?  Unfortunately, the good tests aren't readily available in scipy and friends, so we're going to take a conservative approch and perform pairwise Wilconxon signed-rank tests with a Bonferroni adjustment."
   ]
  },
  {
   "cell_type": "code",
   "execution_count": 18,
   "id": "fa0e2f37",
   "metadata": {
    "execution": {
     "iopub.execute_input": "2022-02-16T07:57:01.727266Z",
     "iopub.status.busy": "2022-02-16T07:57:01.727266Z",
     "iopub.status.idle": "2022-02-16T07:57:01.750258Z",
     "shell.execute_reply": "2022-02-16T07:57:01.749266Z"
    },
    "papermill": {
     "duration": 0.081007,
     "end_time": "2022-02-16T07:57:01.754265",
     "exception": false,
     "start_time": "2022-02-16T07:57:01.673258",
     "status": "completed"
    },
    "tags": []
   },
   "outputs": [],
   "source": [
    "pairs = pd.DataFrame.from_records(combinations(rec_algos, 2), columns=['A1', 'A2'])\n",
    "def am_wilcox(metric, p_scale = len(pairs)):\n",
    "    def compute(df):\n",
    "        vs1 = results.loc[df['A1'], metric]\n",
    "        vs2 = results.loc[df['A2'], metric]\n",
    "        diff = (vs1 - vs2).mean()\n",
    "        stat, p = wilcoxon(vs1, vs2)\n",
    "        return pd.Series({'diff': diff, 'stat': stat, 'p': p, 'adj_p': p * p_scale})\n",
    "    scores = pairs.apply(compute, axis=1)\n",
    "    return pairs.join(scores)"
   ]
  },
  {
   "cell_type": "markdown",
   "id": "7213cb91",
   "metadata": {
    "papermill": {
     "duration": 0.031036,
     "end_time": "2022-02-16T07:57:01.825290",
     "exception": false,
     "start_time": "2022-02-16T07:57:01.794254",
     "status": "completed"
    },
    "tags": []
   },
   "source": [
    "## Precision"
   ]
  },
  {
   "cell_type": "code",
   "execution_count": 19,
   "id": "ec53754a",
   "metadata": {
    "execution": {
     "iopub.execute_input": "2022-02-16T07:57:01.889288Z",
     "iopub.status.busy": "2022-02-16T07:57:01.888274Z",
     "iopub.status.idle": "2022-02-16T07:57:12.636334Z",
     "shell.execute_reply": "2022-02-16T07:57:12.635363Z"
    },
    "papermill": {
     "duration": 10.780049,
     "end_time": "2022-02-16T07:57:12.637332",
     "exception": false,
     "start_time": "2022-02-16T07:57:01.857283",
     "status": "completed"
    },
    "tags": []
   },
   "outputs": [
    {
     "data": {
      "text/plain": [
       "stat    533093.914025\n",
       "p            0.000000\n",
       "Name: precision, dtype: float64"
      ]
     },
     "execution_count": 19,
     "metadata": {},
     "output_type": "execute_result"
    }
   ],
   "source": [
    "metric_friedman('precision')"
   ]
  },
  {
   "cell_type": "markdown",
   "id": "0f8c7b98",
   "metadata": {
    "papermill": {
     "duration": 0.029999,
     "end_time": "2022-02-16T07:57:12.697362",
     "exception": false,
     "start_time": "2022-02-16T07:57:12.667363",
     "status": "completed"
    },
    "tags": []
   },
   "source": [
    "This indicates a statistically significant difference exists - but where is it?\n",
    "\n",
    "To answer that question, we need a post-hoc test. "
   ]
  },
  {
   "cell_type": "code",
   "execution_count": 20,
   "id": "cd57d78e",
   "metadata": {
    "execution": {
     "iopub.execute_input": "2022-02-16T07:57:12.757333Z",
     "iopub.status.busy": "2022-02-16T07:57:12.757333Z",
     "iopub.status.idle": "2022-02-16T07:57:13.360205Z",
     "shell.execute_reply": "2022-02-16T07:57:13.360205Z"
    },
    "papermill": {
     "duration": 0.634807,
     "end_time": "2022-02-16T07:57:13.362173",
     "exception": false,
     "start_time": "2022-02-16T07:57:12.727366",
     "status": "completed"
    },
    "tags": []
   },
   "outputs": [
    {
     "data": {
      "text/html": [
       "<div>\n",
       "<style scoped>\n",
       "    .dataframe tbody tr th:only-of-type {\n",
       "        vertical-align: middle;\n",
       "    }\n",
       "\n",
       "    .dataframe tbody tr th {\n",
       "        vertical-align: top;\n",
       "    }\n",
       "\n",
       "    .dataframe thead th {\n",
       "        text-align: right;\n",
       "    }\n",
       "</style>\n",
       "<table border=\"1\" class=\"dataframe\">\n",
       "  <thead>\n",
       "    <tr style=\"text-align: right;\">\n",
       "      <th></th>\n",
       "      <th>A1</th>\n",
       "      <th>A2</th>\n",
       "      <th>diff</th>\n",
       "      <th>stat</th>\n",
       "      <th>p</th>\n",
       "      <th>adj_p</th>\n",
       "    </tr>\n",
       "  </thead>\n",
       "  <tbody>\n",
       "    <tr>\n",
       "      <th>14</th>\n",
       "      <td>IALS</td>\n",
       "      <td>UU</td>\n",
       "      <td>0.029476</td>\n",
       "      <td>211486.0</td>\n",
       "      <td>0.0</td>\n",
       "      <td>0.0</td>\n",
       "    </tr>\n",
       "    <tr>\n",
       "      <th>11</th>\n",
       "      <td>IALS</td>\n",
       "      <td>II</td>\n",
       "      <td>0.029164</td>\n",
       "      <td>2959600.0</td>\n",
       "      <td>0.0</td>\n",
       "      <td>0.0</td>\n",
       "    </tr>\n",
       "    <tr>\n",
       "      <th>12</th>\n",
       "      <td>IALS</td>\n",
       "      <td>III</td>\n",
       "      <td>0.027363</td>\n",
       "      <td>28895160.0</td>\n",
       "      <td>0.0</td>\n",
       "      <td>0.0</td>\n",
       "    </tr>\n",
       "    <tr>\n",
       "      <th>20</th>\n",
       "      <td>Pop</td>\n",
       "      <td>UU</td>\n",
       "      <td>0.015568</td>\n",
       "      <td>1625019.0</td>\n",
       "      <td>0.0</td>\n",
       "      <td>0.0</td>\n",
       "    </tr>\n",
       "    <tr>\n",
       "      <th>13</th>\n",
       "      <td>IALS</td>\n",
       "      <td>Pop</td>\n",
       "      <td>0.013908</td>\n",
       "      <td>295009131.5</td>\n",
       "      <td>0.0</td>\n",
       "      <td>0.0</td>\n",
       "    </tr>\n",
       "    <tr>\n",
       "      <th>10</th>\n",
       "      <td>Bias</td>\n",
       "      <td>UU</td>\n",
       "      <td>0.005286</td>\n",
       "      <td>4230002.5</td>\n",
       "      <td>0.0</td>\n",
       "      <td>0.0</td>\n",
       "    </tr>\n",
       "    <tr>\n",
       "      <th>7</th>\n",
       "      <td>Bias</td>\n",
       "      <td>II</td>\n",
       "      <td>0.004974</td>\n",
       "      <td>14180484.0</td>\n",
       "      <td>0.0</td>\n",
       "      <td>0.0</td>\n",
       "    </tr>\n",
       "    <tr>\n",
       "      <th>5</th>\n",
       "      <td>ALS</td>\n",
       "      <td>UU</td>\n",
       "      <td>0.003726</td>\n",
       "      <td>3614795.0</td>\n",
       "      <td>0.0</td>\n",
       "      <td>0.0</td>\n",
       "    </tr>\n",
       "    <tr>\n",
       "      <th>2</th>\n",
       "      <td>ALS</td>\n",
       "      <td>II</td>\n",
       "      <td>0.003414</td>\n",
       "      <td>12314702.5</td>\n",
       "      <td>0.0</td>\n",
       "      <td>0.0</td>\n",
       "    </tr>\n",
       "    <tr>\n",
       "      <th>8</th>\n",
       "      <td>Bias</td>\n",
       "      <td>III</td>\n",
       "      <td>0.003173</td>\n",
       "      <td>474050299.0</td>\n",
       "      <td>0.0</td>\n",
       "      <td>0.0</td>\n",
       "    </tr>\n",
       "    <tr>\n",
       "      <th>19</th>\n",
       "      <td>III</td>\n",
       "      <td>UU</td>\n",
       "      <td>0.002113</td>\n",
       "      <td>2996107.5</td>\n",
       "      <td>0.0</td>\n",
       "      <td>0.0</td>\n",
       "    </tr>\n",
       "    <tr>\n",
       "      <th>3</th>\n",
       "      <td>ALS</td>\n",
       "      <td>III</td>\n",
       "      <td>0.001613</td>\n",
       "      <td>469596068.0</td>\n",
       "      <td>0.0</td>\n",
       "      <td>0.0</td>\n",
       "    </tr>\n",
       "    <tr>\n",
       "      <th>17</th>\n",
       "      <td>II</td>\n",
       "      <td>UU</td>\n",
       "      <td>0.000312</td>\n",
       "      <td>705174.5</td>\n",
       "      <td>0.0</td>\n",
       "      <td>0.0</td>\n",
       "    </tr>\n",
       "    <tr>\n",
       "      <th>0</th>\n",
       "      <td>ALS</td>\n",
       "      <td>Bias</td>\n",
       "      <td>-0.001560</td>\n",
       "      <td>119625375.5</td>\n",
       "      <td>0.0</td>\n",
       "      <td>0.0</td>\n",
       "    </tr>\n",
       "    <tr>\n",
       "      <th>15</th>\n",
       "      <td>II</td>\n",
       "      <td>III</td>\n",
       "      <td>-0.001801</td>\n",
       "      <td>48061173.5</td>\n",
       "      <td>0.0</td>\n",
       "      <td>0.0</td>\n",
       "    </tr>\n",
       "    <tr>\n",
       "      <th>9</th>\n",
       "      <td>Bias</td>\n",
       "      <td>Pop</td>\n",
       "      <td>-0.010282</td>\n",
       "      <td>335710525.5</td>\n",
       "      <td>0.0</td>\n",
       "      <td>0.0</td>\n",
       "    </tr>\n",
       "    <tr>\n",
       "      <th>4</th>\n",
       "      <td>ALS</td>\n",
       "      <td>Pop</td>\n",
       "      <td>-0.011842</td>\n",
       "      <td>201981264.5</td>\n",
       "      <td>0.0</td>\n",
       "      <td>0.0</td>\n",
       "    </tr>\n",
       "    <tr>\n",
       "      <th>18</th>\n",
       "      <td>III</td>\n",
       "      <td>Pop</td>\n",
       "      <td>-0.013455</td>\n",
       "      <td>215570370.0</td>\n",
       "      <td>0.0</td>\n",
       "      <td>0.0</td>\n",
       "    </tr>\n",
       "    <tr>\n",
       "      <th>16</th>\n",
       "      <td>II</td>\n",
       "      <td>Pop</td>\n",
       "      <td>-0.015256</td>\n",
       "      <td>14696583.0</td>\n",
       "      <td>0.0</td>\n",
       "      <td>0.0</td>\n",
       "    </tr>\n",
       "    <tr>\n",
       "      <th>6</th>\n",
       "      <td>Bias</td>\n",
       "      <td>IALS</td>\n",
       "      <td>-0.024190</td>\n",
       "      <td>60326915.5</td>\n",
       "      <td>0.0</td>\n",
       "      <td>0.0</td>\n",
       "    </tr>\n",
       "    <tr>\n",
       "      <th>1</th>\n",
       "      <td>ALS</td>\n",
       "      <td>IALS</td>\n",
       "      <td>-0.025750</td>\n",
       "      <td>31074634.5</td>\n",
       "      <td>0.0</td>\n",
       "      <td>0.0</td>\n",
       "    </tr>\n",
       "  </tbody>\n",
       "</table>\n",
       "</div>"
      ],
      "text/plain": [
       "      A1    A2      diff         stat    p  adj_p\n",
       "14  IALS    UU  0.029476     211486.0  0.0    0.0\n",
       "11  IALS    II  0.029164    2959600.0  0.0    0.0\n",
       "12  IALS   III  0.027363   28895160.0  0.0    0.0\n",
       "20   Pop    UU  0.015568    1625019.0  0.0    0.0\n",
       "13  IALS   Pop  0.013908  295009131.5  0.0    0.0\n",
       "10  Bias    UU  0.005286    4230002.5  0.0    0.0\n",
       "7   Bias    II  0.004974   14180484.0  0.0    0.0\n",
       "5    ALS    UU  0.003726    3614795.0  0.0    0.0\n",
       "2    ALS    II  0.003414   12314702.5  0.0    0.0\n",
       "8   Bias   III  0.003173  474050299.0  0.0    0.0\n",
       "19   III    UU  0.002113    2996107.5  0.0    0.0\n",
       "3    ALS   III  0.001613  469596068.0  0.0    0.0\n",
       "17    II    UU  0.000312     705174.5  0.0    0.0\n",
       "0    ALS  Bias -0.001560  119625375.5  0.0    0.0\n",
       "15    II   III -0.001801   48061173.5  0.0    0.0\n",
       "9   Bias   Pop -0.010282  335710525.5  0.0    0.0\n",
       "4    ALS   Pop -0.011842  201981264.5  0.0    0.0\n",
       "18   III   Pop -0.013455  215570370.0  0.0    0.0\n",
       "16    II   Pop -0.015256   14696583.0  0.0    0.0\n",
       "6   Bias  IALS -0.024190   60326915.5  0.0    0.0\n",
       "1    ALS  IALS -0.025750   31074634.5  0.0    0.0"
      ]
     },
     "execution_count": 20,
     "metadata": {},
     "output_type": "execute_result"
    }
   ],
   "source": [
    "am_wilcox('precision').sort_values('diff', ascending=False)"
   ]
  },
  {
   "cell_type": "markdown",
   "id": "9ac6efd7",
   "metadata": {
    "papermill": {
     "duration": 0.032003,
     "end_time": "2022-02-16T07:57:13.425173",
     "exception": false,
     "start_time": "2022-02-16T07:57:13.393170",
     "status": "completed"
    },
    "tags": []
   },
   "source": [
    "We can consider pairs with an adjusted $p$ value less than 0.05 (5.0e-2) to be statistically significant.  However, we have so many data points, the substance of significance is questionable.  Pay attention to the 'diff' column, which is the difference between A1 and A2 (how much A1 outperforms A2)."
   ]
  },
  {
   "cell_type": "markdown",
   "id": "30d514c5",
   "metadata": {
    "papermill": {
     "duration": 0.051968,
     "end_time": "2022-02-16T07:57:13.519169",
     "exception": false,
     "start_time": "2022-02-16T07:57:13.467201",
     "status": "completed"
    },
    "tags": []
   },
   "source": [
    "### nDCG"
   ]
  },
  {
   "cell_type": "markdown",
   "id": "628f910e",
   "metadata": {
    "papermill": {
     "duration": 0.038022,
     "end_time": "2022-02-16T07:57:13.610190",
     "exception": false,
     "start_time": "2022-02-16T07:57:13.572168",
     "status": "completed"
    },
    "tags": []
   },
   "source": [
    "Now let's do the same for nDCG:"
   ]
  },
  {
   "cell_type": "code",
   "execution_count": 21,
   "id": "3f0d3edf",
   "metadata": {
    "execution": {
     "iopub.execute_input": "2022-02-16T07:57:13.674433Z",
     "iopub.status.busy": "2022-02-16T07:57:13.674433Z",
     "iopub.status.idle": "2022-02-16T07:57:24.497802Z",
     "shell.execute_reply": "2022-02-16T07:57:24.497802Z"
    },
    "papermill": {
     "duration": 10.85642,
     "end_time": "2022-02-16T07:57:24.498843",
     "exception": false,
     "start_time": "2022-02-16T07:57:13.642423",
     "status": "completed"
    },
    "tags": []
   },
   "outputs": [
    {
     "data": {
      "text/plain": [
       "stat    490918.985237\n",
       "p            0.000000\n",
       "Name: ndcg, dtype: float64"
      ]
     },
     "execution_count": 21,
     "metadata": {},
     "output_type": "execute_result"
    }
   ],
   "source": [
    "metric_friedman('ndcg')"
   ]
  },
  {
   "cell_type": "code",
   "execution_count": 22,
   "id": "84e320ef",
   "metadata": {
    "execution": {
     "iopub.execute_input": "2022-02-16T07:57:24.565785Z",
     "iopub.status.busy": "2022-02-16T07:57:24.565785Z",
     "iopub.status.idle": "2022-02-16T07:57:25.351172Z",
     "shell.execute_reply": "2022-02-16T07:57:25.350613Z"
    },
    "papermill": {
     "duration": 0.819936,
     "end_time": "2022-02-16T07:57:25.351746",
     "exception": false,
     "start_time": "2022-02-16T07:57:24.531810",
     "status": "completed"
    },
    "tags": []
   },
   "outputs": [
    {
     "data": {
      "text/html": [
       "<div>\n",
       "<style scoped>\n",
       "    .dataframe tbody tr th:only-of-type {\n",
       "        vertical-align: middle;\n",
       "    }\n",
       "\n",
       "    .dataframe tbody tr th {\n",
       "        vertical-align: top;\n",
       "    }\n",
       "\n",
       "    .dataframe thead th {\n",
       "        text-align: right;\n",
       "    }\n",
       "</style>\n",
       "<table border=\"1\" class=\"dataframe\">\n",
       "  <thead>\n",
       "    <tr style=\"text-align: right;\">\n",
       "      <th></th>\n",
       "      <th>A1</th>\n",
       "      <th>A2</th>\n",
       "      <th>diff</th>\n",
       "      <th>stat</th>\n",
       "      <th>p</th>\n",
       "      <th>adj_p</th>\n",
       "    </tr>\n",
       "  </thead>\n",
       "  <tbody>\n",
       "    <tr>\n",
       "      <th>14</th>\n",
       "      <td>IALS</td>\n",
       "      <td>UU</td>\n",
       "      <td>0.254355</td>\n",
       "      <td>1.999650e+05</td>\n",
       "      <td>0.0</td>\n",
       "      <td>0.0</td>\n",
       "    </tr>\n",
       "    <tr>\n",
       "      <th>11</th>\n",
       "      <td>IALS</td>\n",
       "      <td>II</td>\n",
       "      <td>0.252571</td>\n",
       "      <td>5.111776e+06</td>\n",
       "      <td>0.0</td>\n",
       "      <td>0.0</td>\n",
       "    </tr>\n",
       "    <tr>\n",
       "      <th>12</th>\n",
       "      <td>IALS</td>\n",
       "      <td>III</td>\n",
       "      <td>0.232043</td>\n",
       "      <td>2.110698e+08</td>\n",
       "      <td>0.0</td>\n",
       "      <td>0.0</td>\n",
       "    </tr>\n",
       "    <tr>\n",
       "      <th>20</th>\n",
       "      <td>Pop</td>\n",
       "      <td>UU</td>\n",
       "      <td>0.134801</td>\n",
       "      <td>1.522102e+06</td>\n",
       "      <td>0.0</td>\n",
       "      <td>0.0</td>\n",
       "    </tr>\n",
       "    <tr>\n",
       "      <th>13</th>\n",
       "      <td>IALS</td>\n",
       "      <td>Pop</td>\n",
       "      <td>0.119554</td>\n",
       "      <td>1.489409e+09</td>\n",
       "      <td>0.0</td>\n",
       "      <td>0.0</td>\n",
       "    </tr>\n",
       "    <tr>\n",
       "      <th>10</th>\n",
       "      <td>Bias</td>\n",
       "      <td>UU</td>\n",
       "      <td>0.053335</td>\n",
       "      <td>3.412262e+06</td>\n",
       "      <td>0.0</td>\n",
       "      <td>0.0</td>\n",
       "    </tr>\n",
       "    <tr>\n",
       "      <th>7</th>\n",
       "      <td>Bias</td>\n",
       "      <td>II</td>\n",
       "      <td>0.051550</td>\n",
       "      <td>1.156230e+07</td>\n",
       "      <td>0.0</td>\n",
       "      <td>0.0</td>\n",
       "    </tr>\n",
       "    <tr>\n",
       "      <th>5</th>\n",
       "      <td>ALS</td>\n",
       "      <td>UU</td>\n",
       "      <td>0.032510</td>\n",
       "      <td>2.980006e+06</td>\n",
       "      <td>0.0</td>\n",
       "      <td>0.0</td>\n",
       "    </tr>\n",
       "    <tr>\n",
       "      <th>8</th>\n",
       "      <td>Bias</td>\n",
       "      <td>III</td>\n",
       "      <td>0.031023</td>\n",
       "      <td>6.608851e+08</td>\n",
       "      <td>0.0</td>\n",
       "      <td>0.0</td>\n",
       "    </tr>\n",
       "    <tr>\n",
       "      <th>2</th>\n",
       "      <td>ALS</td>\n",
       "      <td>II</td>\n",
       "      <td>0.030726</td>\n",
       "      <td>1.107945e+07</td>\n",
       "      <td>0.0</td>\n",
       "      <td>0.0</td>\n",
       "    </tr>\n",
       "    <tr>\n",
       "      <th>19</th>\n",
       "      <td>III</td>\n",
       "      <td>UU</td>\n",
       "      <td>0.022312</td>\n",
       "      <td>2.176697e+06</td>\n",
       "      <td>0.0</td>\n",
       "      <td>0.0</td>\n",
       "    </tr>\n",
       "    <tr>\n",
       "      <th>3</th>\n",
       "      <td>ALS</td>\n",
       "      <td>III</td>\n",
       "      <td>0.010198</td>\n",
       "      <td>6.308693e+08</td>\n",
       "      <td>0.0</td>\n",
       "      <td>0.0</td>\n",
       "    </tr>\n",
       "    <tr>\n",
       "      <th>17</th>\n",
       "      <td>II</td>\n",
       "      <td>UU</td>\n",
       "      <td>0.001785</td>\n",
       "      <td>8.112005e+05</td>\n",
       "      <td>0.0</td>\n",
       "      <td>0.0</td>\n",
       "    </tr>\n",
       "    <tr>\n",
       "      <th>15</th>\n",
       "      <td>II</td>\n",
       "      <td>III</td>\n",
       "      <td>-0.020527</td>\n",
       "      <td>3.579845e+07</td>\n",
       "      <td>0.0</td>\n",
       "      <td>0.0</td>\n",
       "    </tr>\n",
       "    <tr>\n",
       "      <th>0</th>\n",
       "      <td>ALS</td>\n",
       "      <td>Bias</td>\n",
       "      <td>-0.020824</td>\n",
       "      <td>3.987493e+08</td>\n",
       "      <td>0.0</td>\n",
       "      <td>0.0</td>\n",
       "    </tr>\n",
       "    <tr>\n",
       "      <th>9</th>\n",
       "      <td>Bias</td>\n",
       "      <td>Pop</td>\n",
       "      <td>-0.081467</td>\n",
       "      <td>9.351423e+08</td>\n",
       "      <td>0.0</td>\n",
       "      <td>0.0</td>\n",
       "    </tr>\n",
       "    <tr>\n",
       "      <th>4</th>\n",
       "      <td>ALS</td>\n",
       "      <td>Pop</td>\n",
       "      <td>-0.102291</td>\n",
       "      <td>4.299248e+08</td>\n",
       "      <td>0.0</td>\n",
       "      <td>0.0</td>\n",
       "    </tr>\n",
       "    <tr>\n",
       "      <th>18</th>\n",
       "      <td>III</td>\n",
       "      <td>Pop</td>\n",
       "      <td>-0.112489</td>\n",
       "      <td>5.453691e+08</td>\n",
       "      <td>0.0</td>\n",
       "      <td>0.0</td>\n",
       "    </tr>\n",
       "    <tr>\n",
       "      <th>16</th>\n",
       "      <td>II</td>\n",
       "      <td>Pop</td>\n",
       "      <td>-0.133017</td>\n",
       "      <td>1.395635e+07</td>\n",
       "      <td>0.0</td>\n",
       "      <td>0.0</td>\n",
       "    </tr>\n",
       "    <tr>\n",
       "      <th>6</th>\n",
       "      <td>Bias</td>\n",
       "      <td>IALS</td>\n",
       "      <td>-0.201021</td>\n",
       "      <td>4.646538e+08</td>\n",
       "      <td>0.0</td>\n",
       "      <td>0.0</td>\n",
       "    </tr>\n",
       "    <tr>\n",
       "      <th>1</th>\n",
       "      <td>ALS</td>\n",
       "      <td>IALS</td>\n",
       "      <td>-0.221845</td>\n",
       "      <td>1.892250e+08</td>\n",
       "      <td>0.0</td>\n",
       "      <td>0.0</td>\n",
       "    </tr>\n",
       "  </tbody>\n",
       "</table>\n",
       "</div>"
      ],
      "text/plain": [
       "      A1    A2      diff          stat    p  adj_p\n",
       "14  IALS    UU  0.254355  1.999650e+05  0.0    0.0\n",
       "11  IALS    II  0.252571  5.111776e+06  0.0    0.0\n",
       "12  IALS   III  0.232043  2.110698e+08  0.0    0.0\n",
       "20   Pop    UU  0.134801  1.522102e+06  0.0    0.0\n",
       "13  IALS   Pop  0.119554  1.489409e+09  0.0    0.0\n",
       "10  Bias    UU  0.053335  3.412262e+06  0.0    0.0\n",
       "7   Bias    II  0.051550  1.156230e+07  0.0    0.0\n",
       "5    ALS    UU  0.032510  2.980006e+06  0.0    0.0\n",
       "8   Bias   III  0.031023  6.608851e+08  0.0    0.0\n",
       "2    ALS    II  0.030726  1.107945e+07  0.0    0.0\n",
       "19   III    UU  0.022312  2.176697e+06  0.0    0.0\n",
       "3    ALS   III  0.010198  6.308693e+08  0.0    0.0\n",
       "17    II    UU  0.001785  8.112005e+05  0.0    0.0\n",
       "15    II   III -0.020527  3.579845e+07  0.0    0.0\n",
       "0    ALS  Bias -0.020824  3.987493e+08  0.0    0.0\n",
       "9   Bias   Pop -0.081467  9.351423e+08  0.0    0.0\n",
       "4    ALS   Pop -0.102291  4.299248e+08  0.0    0.0\n",
       "18   III   Pop -0.112489  5.453691e+08  0.0    0.0\n",
       "16    II   Pop -0.133017  1.395635e+07  0.0    0.0\n",
       "6   Bias  IALS -0.201021  4.646538e+08  0.0    0.0\n",
       "1    ALS  IALS -0.221845  1.892250e+08  0.0    0.0"
      ]
     },
     "execution_count": 22,
     "metadata": {},
     "output_type": "execute_result"
    }
   ],
   "source": [
    "am_wilcox('ndcg').sort_values('diff', ascending=False)"
   ]
  },
  {
   "cell_type": "markdown",
   "id": "475a7166",
   "metadata": {
    "papermill": {
     "duration": 0.03303,
     "end_time": "2022-02-16T07:57:25.416746",
     "exception": false,
     "start_time": "2022-02-16T07:57:25.383716",
     "status": "completed"
    },
    "tags": []
   },
   "source": [
    "### Reciprocal Rank\n",
    "\n",
    "We'll do this also for reciprocal rank (what is aggregated to compute MRR):"
   ]
  },
  {
   "cell_type": "code",
   "execution_count": 23,
   "id": "e8340f86",
   "metadata": {
    "execution": {
     "iopub.execute_input": "2022-02-16T07:57:25.488752Z",
     "iopub.status.busy": "2022-02-16T07:57:25.488752Z",
     "iopub.status.idle": "2022-02-16T07:57:36.172987Z",
     "shell.execute_reply": "2022-02-16T07:57:36.172987Z"
    },
    "papermill": {
     "duration": 10.722264,
     "end_time": "2022-02-16T07:57:36.174988",
     "exception": false,
     "start_time": "2022-02-16T07:57:25.452724",
     "status": "completed"
    },
    "tags": []
   },
   "outputs": [
    {
     "data": {
      "text/plain": [
       "stat    452422.878777\n",
       "p            0.000000\n",
       "Name: recip_rank, dtype: float64"
      ]
     },
     "execution_count": 23,
     "metadata": {},
     "output_type": "execute_result"
    }
   ],
   "source": [
    "metric_friedman('recip_rank')"
   ]
  },
  {
   "cell_type": "code",
   "execution_count": 24,
   "id": "82b4d073",
   "metadata": {
    "execution": {
     "iopub.execute_input": "2022-02-16T07:57:36.239993Z",
     "iopub.status.busy": "2022-02-16T07:57:36.238960Z",
     "iopub.status.idle": "2022-02-16T07:57:36.913540Z",
     "shell.execute_reply": "2022-02-16T07:57:36.913540Z"
    },
    "papermill": {
     "duration": 0.707538,
     "end_time": "2022-02-16T07:57:36.914544",
     "exception": false,
     "start_time": "2022-02-16T07:57:36.207006",
     "status": "completed"
    },
    "tags": []
   },
   "outputs": [
    {
     "data": {
      "text/html": [
       "<div>\n",
       "<style scoped>\n",
       "    .dataframe tbody tr th:only-of-type {\n",
       "        vertical-align: middle;\n",
       "    }\n",
       "\n",
       "    .dataframe tbody tr th {\n",
       "        vertical-align: top;\n",
       "    }\n",
       "\n",
       "    .dataframe thead th {\n",
       "        text-align: right;\n",
       "    }\n",
       "</style>\n",
       "<table border=\"1\" class=\"dataframe\">\n",
       "  <thead>\n",
       "    <tr style=\"text-align: right;\">\n",
       "      <th></th>\n",
       "      <th>A1</th>\n",
       "      <th>A2</th>\n",
       "      <th>diff</th>\n",
       "      <th>stat</th>\n",
       "      <th>p</th>\n",
       "      <th>adj_p</th>\n",
       "    </tr>\n",
       "  </thead>\n",
       "  <tbody>\n",
       "    <tr>\n",
       "      <th>14</th>\n",
       "      <td>IALS</td>\n",
       "      <td>UU</td>\n",
       "      <td>0.258184</td>\n",
       "      <td>1.609460e+05</td>\n",
       "      <td>0.000000e+00</td>\n",
       "      <td>0.000000e+00</td>\n",
       "    </tr>\n",
       "    <tr>\n",
       "      <th>11</th>\n",
       "      <td>IALS</td>\n",
       "      <td>II</td>\n",
       "      <td>0.257502</td>\n",
       "      <td>9.902243e+06</td>\n",
       "      <td>0.000000e+00</td>\n",
       "      <td>0.000000e+00</td>\n",
       "    </tr>\n",
       "    <tr>\n",
       "      <th>12</th>\n",
       "      <td>IALS</td>\n",
       "      <td>III</td>\n",
       "      <td>0.219852</td>\n",
       "      <td>6.909153e+08</td>\n",
       "      <td>0.000000e+00</td>\n",
       "      <td>0.000000e+00</td>\n",
       "    </tr>\n",
       "    <tr>\n",
       "      <th>20</th>\n",
       "      <td>Pop</td>\n",
       "      <td>UU</td>\n",
       "      <td>0.159589</td>\n",
       "      <td>9.273705e+05</td>\n",
       "      <td>0.000000e+00</td>\n",
       "      <td>0.000000e+00</td>\n",
       "    </tr>\n",
       "    <tr>\n",
       "      <th>13</th>\n",
       "      <td>IALS</td>\n",
       "      <td>Pop</td>\n",
       "      <td>0.098595</td>\n",
       "      <td>2.515583e+09</td>\n",
       "      <td>0.000000e+00</td>\n",
       "      <td>0.000000e+00</td>\n",
       "    </tr>\n",
       "    <tr>\n",
       "      <th>10</th>\n",
       "      <td>Bias</td>\n",
       "      <td>UU</td>\n",
       "      <td>0.079303</td>\n",
       "      <td>1.563434e+06</td>\n",
       "      <td>0.000000e+00</td>\n",
       "      <td>0.000000e+00</td>\n",
       "    </tr>\n",
       "    <tr>\n",
       "      <th>7</th>\n",
       "      <td>Bias</td>\n",
       "      <td>II</td>\n",
       "      <td>0.078620</td>\n",
       "      <td>8.915326e+06</td>\n",
       "      <td>0.000000e+00</td>\n",
       "      <td>0.000000e+00</td>\n",
       "    </tr>\n",
       "    <tr>\n",
       "      <th>8</th>\n",
       "      <td>Bias</td>\n",
       "      <td>III</td>\n",
       "      <td>0.040970</td>\n",
       "      <td>7.762681e+08</td>\n",
       "      <td>0.000000e+00</td>\n",
       "      <td>0.000000e+00</td>\n",
       "    </tr>\n",
       "    <tr>\n",
       "      <th>19</th>\n",
       "      <td>III</td>\n",
       "      <td>UU</td>\n",
       "      <td>0.038333</td>\n",
       "      <td>8.166355e+05</td>\n",
       "      <td>0.000000e+00</td>\n",
       "      <td>0.000000e+00</td>\n",
       "    </tr>\n",
       "    <tr>\n",
       "      <th>5</th>\n",
       "      <td>ALS</td>\n",
       "      <td>UU</td>\n",
       "      <td>0.036935</td>\n",
       "      <td>1.874122e+06</td>\n",
       "      <td>0.000000e+00</td>\n",
       "      <td>0.000000e+00</td>\n",
       "    </tr>\n",
       "    <tr>\n",
       "      <th>2</th>\n",
       "      <td>ALS</td>\n",
       "      <td>II</td>\n",
       "      <td>0.036252</td>\n",
       "      <td>9.661312e+06</td>\n",
       "      <td>0.000000e+00</td>\n",
       "      <td>0.000000e+00</td>\n",
       "    </tr>\n",
       "    <tr>\n",
       "      <th>17</th>\n",
       "      <td>II</td>\n",
       "      <td>UU</td>\n",
       "      <td>0.000682</td>\n",
       "      <td>6.605620e+05</td>\n",
       "      <td>0.000000e+00</td>\n",
       "      <td>0.000000e+00</td>\n",
       "    </tr>\n",
       "    <tr>\n",
       "      <th>3</th>\n",
       "      <td>ALS</td>\n",
       "      <td>III</td>\n",
       "      <td>-0.001398</td>\n",
       "      <td>7.305537e+08</td>\n",
       "      <td>2.172632e-123</td>\n",
       "      <td>4.562527e-122</td>\n",
       "    </tr>\n",
       "    <tr>\n",
       "      <th>15</th>\n",
       "      <td>II</td>\n",
       "      <td>III</td>\n",
       "      <td>-0.037650</td>\n",
       "      <td>2.102947e+07</td>\n",
       "      <td>0.000000e+00</td>\n",
       "      <td>0.000000e+00</td>\n",
       "    </tr>\n",
       "    <tr>\n",
       "      <th>0</th>\n",
       "      <td>ALS</td>\n",
       "      <td>Bias</td>\n",
       "      <td>-0.042368</td>\n",
       "      <td>3.972713e+08</td>\n",
       "      <td>0.000000e+00</td>\n",
       "      <td>0.000000e+00</td>\n",
       "    </tr>\n",
       "    <tr>\n",
       "      <th>9</th>\n",
       "      <td>Bias</td>\n",
       "      <td>Pop</td>\n",
       "      <td>-0.080286</td>\n",
       "      <td>1.360451e+09</td>\n",
       "      <td>0.000000e+00</td>\n",
       "      <td>0.000000e+00</td>\n",
       "    </tr>\n",
       "    <tr>\n",
       "      <th>18</th>\n",
       "      <td>III</td>\n",
       "      <td>Pop</td>\n",
       "      <td>-0.121256</td>\n",
       "      <td>8.743897e+08</td>\n",
       "      <td>0.000000e+00</td>\n",
       "      <td>0.000000e+00</td>\n",
       "    </tr>\n",
       "    <tr>\n",
       "      <th>4</th>\n",
       "      <td>ALS</td>\n",
       "      <td>Pop</td>\n",
       "      <td>-0.122654</td>\n",
       "      <td>6.325610e+08</td>\n",
       "      <td>0.000000e+00</td>\n",
       "      <td>0.000000e+00</td>\n",
       "    </tr>\n",
       "    <tr>\n",
       "      <th>16</th>\n",
       "      <td>II</td>\n",
       "      <td>Pop</td>\n",
       "      <td>-0.158907</td>\n",
       "      <td>1.227315e+07</td>\n",
       "      <td>0.000000e+00</td>\n",
       "      <td>0.000000e+00</td>\n",
       "    </tr>\n",
       "    <tr>\n",
       "      <th>6</th>\n",
       "      <td>Bias</td>\n",
       "      <td>IALS</td>\n",
       "      <td>-0.178882</td>\n",
       "      <td>1.208944e+09</td>\n",
       "      <td>0.000000e+00</td>\n",
       "      <td>0.000000e+00</td>\n",
       "    </tr>\n",
       "    <tr>\n",
       "      <th>1</th>\n",
       "      <td>ALS</td>\n",
       "      <td>IALS</td>\n",
       "      <td>-0.221250</td>\n",
       "      <td>5.945128e+08</td>\n",
       "      <td>0.000000e+00</td>\n",
       "      <td>0.000000e+00</td>\n",
       "    </tr>\n",
       "  </tbody>\n",
       "</table>\n",
       "</div>"
      ],
      "text/plain": [
       "      A1    A2      diff          stat              p          adj_p\n",
       "14  IALS    UU  0.258184  1.609460e+05   0.000000e+00   0.000000e+00\n",
       "11  IALS    II  0.257502  9.902243e+06   0.000000e+00   0.000000e+00\n",
       "12  IALS   III  0.219852  6.909153e+08   0.000000e+00   0.000000e+00\n",
       "20   Pop    UU  0.159589  9.273705e+05   0.000000e+00   0.000000e+00\n",
       "13  IALS   Pop  0.098595  2.515583e+09   0.000000e+00   0.000000e+00\n",
       "10  Bias    UU  0.079303  1.563434e+06   0.000000e+00   0.000000e+00\n",
       "7   Bias    II  0.078620  8.915326e+06   0.000000e+00   0.000000e+00\n",
       "8   Bias   III  0.040970  7.762681e+08   0.000000e+00   0.000000e+00\n",
       "19   III    UU  0.038333  8.166355e+05   0.000000e+00   0.000000e+00\n",
       "5    ALS    UU  0.036935  1.874122e+06   0.000000e+00   0.000000e+00\n",
       "2    ALS    II  0.036252  9.661312e+06   0.000000e+00   0.000000e+00\n",
       "17    II    UU  0.000682  6.605620e+05   0.000000e+00   0.000000e+00\n",
       "3    ALS   III -0.001398  7.305537e+08  2.172632e-123  4.562527e-122\n",
       "15    II   III -0.037650  2.102947e+07   0.000000e+00   0.000000e+00\n",
       "0    ALS  Bias -0.042368  3.972713e+08   0.000000e+00   0.000000e+00\n",
       "9   Bias   Pop -0.080286  1.360451e+09   0.000000e+00   0.000000e+00\n",
       "18   III   Pop -0.121256  8.743897e+08   0.000000e+00   0.000000e+00\n",
       "4    ALS   Pop -0.122654  6.325610e+08   0.000000e+00   0.000000e+00\n",
       "16    II   Pop -0.158907  1.227315e+07   0.000000e+00   0.000000e+00\n",
       "6   Bias  IALS -0.178882  1.208944e+09   0.000000e+00   0.000000e+00\n",
       "1    ALS  IALS -0.221250  5.945128e+08   0.000000e+00   0.000000e+00"
      ]
     },
     "execution_count": 24,
     "metadata": {},
     "output_type": "execute_result"
    }
   ],
   "source": [
    "am_wilcox('recip_rank').sort_values('diff', ascending=False)"
   ]
  },
  {
   "cell_type": "markdown",
   "id": "6824f76f",
   "metadata": {
    "papermill": {
     "duration": 0.034033,
     "end_time": "2022-02-16T07:57:36.981539",
     "exception": false,
     "start_time": "2022-02-16T07:57:36.947506",
     "status": "completed"
    },
    "tags": []
   },
   "source": [
    "## Prediction RMSE\n",
    "\n",
    "We will also look at the prediction RMSE."
   ]
  },
  {
   "cell_type": "code",
   "execution_count": 25,
   "id": "4735144e",
   "metadata": {
    "execution": {
     "iopub.execute_input": "2022-02-16T07:57:37.047554Z",
     "iopub.status.busy": "2022-02-16T07:57:37.047554Z",
     "iopub.status.idle": "2022-02-16T08:06:00.879365Z",
     "shell.execute_reply": "2022-02-16T08:06:00.879365Z"
    },
    "papermill": {
     "duration": 503.867792,
     "end_time": "2022-02-16T08:06:00.881332",
     "exception": false,
     "start_time": "2022-02-16T07:57:37.013540",
     "status": "completed"
    },
    "tags": []
   },
   "outputs": [],
   "source": [
    "user_rmse = preds.groupby(['algorithm', 'user']).apply(lambda df: rmse(df['prediction'], df['rating']))\n",
    "user_rmse = user_rmse.reset_index(name='RMSE')"
   ]
  },
  {
   "cell_type": "code",
   "execution_count": 26,
   "id": "7ed2614d",
   "metadata": {
    "execution": {
     "iopub.execute_input": "2022-02-16T08:06:00.967334Z",
     "iopub.status.busy": "2022-02-16T08:06:00.967334Z",
     "iopub.status.idle": "2022-02-16T08:06:09.132738Z",
     "shell.execute_reply": "2022-02-16T08:06:09.132738Z"
    },
    "papermill": {
     "duration": 8.220403,
     "end_time": "2022-02-16T08:06:09.134736",
     "exception": false,
     "start_time": "2022-02-16T08:06:00.914333",
     "status": "completed"
    },
    "tags": []
   },
   "outputs": [
    {
     "data": {
      "text/plain": [
       "<seaborn.axisgrid.FacetGrid at 0x1742416ec70>"
      ]
     },
     "execution_count": 26,
     "metadata": {},
     "output_type": "execute_result"
    },
    {
     "data": {
      "image/png": "[encoded data removed]",
      "text/plain": [
       "<Figure size 360x360 with 1 Axes>"
      ]
     },
     "metadata": {
      "needs_background": "light"
     },
     "output_type": "display_data"
    }
   ],
   "source": [
    "sns.catplot(x='algorithm', y='RMSE', data=user_rmse, kind='bar')"
   ]
  },
  {
   "cell_type": "code",
   "execution_count": null,
   "id": "3e365832",
   "metadata": {
    "papermill": {
     "duration": 0.03999,
     "end_time": "2022-02-16T08:06:09.207704",
     "exception": false,
     "start_time": "2022-02-16T08:06:09.167714",
     "status": "completed"
    },
    "tags": []
   },
   "outputs": [],
   "source": []
  }
 ],
 "metadata": {
  "kernelspec": {
   "display_name": "Python 3 (ipykernel)",
   "language": "python",
   "name": "python3"
  },
  "language_info": {
   "codemirror_mode": {
    "name": "ipython",
    "version": 3
   },
   "file_extension": ".py",
   "mimetype": "text/x-python",
   "name": "python",
   "nbconvert_exporter": "python",
   "pygments_lexer": "ipython3",
   "version": "3.9.7"
  },
  "papermill": {
   "default_parameters": {},
   "duration": 767.211246,
   "end_time": "2022-02-16T08:06:10.006325",
   "environment_variables": {},
   "exception": null,
   "input_path": "eval-report.ipynb",
   "output_path": "eval-report.ml20m.ipynb",
   "parameters": {
    "dataset": "ml20m"
   },
   "start_time": "2022-02-16T07:53:22.795079",
   "version": "2.3.3"
  }
 },
 "nbformat": 4,
 "nbformat_minor": 5
}