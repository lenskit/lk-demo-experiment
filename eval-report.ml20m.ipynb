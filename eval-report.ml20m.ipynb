{
 "cells": [
  {
   "cell_type": "markdown",
   "id": "7291eba0",
   "metadata": {
    "papermill": {
     "duration": 0.010835,
     "end_time": "2024-12-17T17:34:47.305039",
     "exception": false,
     "start_time": "2024-12-17T17:34:47.294204",
     "status": "completed"
    },
    "tags": []
   },
   "source": [
    "# Evaluation Analysis for Recommender Output"
   ]
  },
  {
   "cell_type": "markdown",
   "id": "872010be",
   "metadata": {
    "papermill": {
     "duration": 0.001071,
     "end_time": "2024-12-17T17:34:47.307510",
     "exception": false,
     "start_time": "2024-12-17T17:34:47.306439",
     "status": "completed"
    },
    "tags": []
   },
   "source": [
    "In this section we will analyze and compare the generated recommendations and predictions from a predefined list of algorithms with the goal of assessing the performance of each algorithm with respect to a metric. In other words, we would rank the algorithms for each metric considered with respect to performance."
   ]
  },
  {
   "cell_type": "markdown",
   "id": "aaaf15df",
   "metadata": {
    "papermill": {
     "duration": 0.00108,
     "end_time": "2024-12-17T17:34:47.309794",
     "exception": false,
     "start_time": "2024-12-17T17:34:47.308714",
     "status": "completed"
    },
    "tags": []
   },
   "source": [
    "## Setup"
   ]
  },
  {
   "cell_type": "markdown",
   "id": "8684b9cf",
   "metadata": {
    "papermill": {
     "duration": 0.001058,
     "end_time": "2024-12-17T17:34:47.311918",
     "exception": false,
     "start_time": "2024-12-17T17:34:47.310860",
     "status": "completed"
    },
    "tags": []
   },
   "source": [
    "Below are the list of packages required to successfully run the analysis. They are divided into partitions to signify their specific task.<br>\n",
    "We need the pathlib package for working with files and folders"
   ]
  },
  {
   "cell_type": "code",
   "execution_count": 1,
   "id": "ee069941",
   "metadata": {
    "execution": {
     "iopub.execute_input": "2024-12-17T17:34:47.314726Z",
     "iopub.status.busy": "2024-12-17T17:34:47.314580Z",
     "iopub.status.idle": "2024-12-17T17:34:47.316920Z",
     "shell.execute_reply": "2024-12-17T17:34:47.316428Z"
    },
    "papermill": {
     "duration": 0.004415,
     "end_time": "2024-12-17T17:34:47.317390",
     "exception": false,
     "start_time": "2024-12-17T17:34:47.312975",
     "status": "completed"
    },
    "tags": []
   },
   "outputs": [],
   "source": [
    "from pathlib import Path\n",
    "import json"
   ]
  },
  {
   "cell_type": "markdown",
   "id": "50590acc",
   "metadata": {
    "papermill": {
     "duration": 0.001086,
     "end_time": "2024-12-17T17:34:47.320056",
     "exception": false,
     "start_time": "2024-12-17T17:34:47.318970",
     "status": "completed"
    },
    "tags": []
   },
   "source": [
    "We would use the pandas for analyzing and manipulating our data while seaborn and matplotlib are used for data visualization. statsmodels.graphics.gofplots and scipy.stats.shapiro are used for normality check. Scipy.stats.friedmanchisquare is a non-parametric test used to determine the statistical significance in metric results and the wilcoxon test is used for pairwise comparison of sample data."
   ]
  },
  {
   "cell_type": "code",
   "execution_count": 2,
   "id": "d40cc792",
   "metadata": {
    "execution": {
     "iopub.execute_input": "2024-12-17T17:34:47.322864Z",
     "iopub.status.busy": "2024-12-17T17:34:47.322640Z",
     "iopub.status.idle": "2024-12-17T17:34:47.760730Z",
     "shell.execute_reply": "2024-12-17T17:34:47.760084Z"
    },
    "lines_to_next_cell": 2,
    "papermill": {
     "duration": 0.440378,
     "end_time": "2024-12-17T17:34:47.761520",
     "exception": false,
     "start_time": "2024-12-17T17:34:47.321142",
     "status": "completed"
    },
    "tags": []
   },
   "outputs": [],
   "source": [
    "import pandas as pd\n",
    "import seaborn as sns\n",
    "import matplotlib.pyplot as plt\n",
    "from statsmodels.graphics.gofplots import qqplot\n",
    "from scipy.stats import shapiro\n",
    "from scipy.stats import friedmanchisquare, wilcoxon\n",
    "from itertools import combinations"
   ]
  },
  {
   "cell_type": "markdown",
   "id": "76360899",
   "metadata": {
    "papermill": {
     "duration": 0.001211,
     "end_time": "2024-12-17T17:34:47.764147",
     "exception": false,
     "start_time": "2024-12-17T17:34:47.762936",
     "status": "completed"
    },
    "tags": []
   },
   "source": [
    "Import the LensKit metrics for analysis:"
   ]
  },
  {
   "cell_type": "code",
   "execution_count": 3,
   "id": "9f0614f8",
   "metadata": {
    "execution": {
     "iopub.execute_input": "2024-12-17T17:34:47.766897Z",
     "iopub.status.busy": "2024-12-17T17:34:47.766775Z",
     "iopub.status.idle": "2024-12-17T17:34:48.409680Z",
     "shell.execute_reply": "2024-12-17T17:34:48.409263Z"
    },
    "papermill": {
     "duration": 0.645122,
     "end_time": "2024-12-17T17:34:48.410415",
     "exception": false,
     "start_time": "2024-12-17T17:34:47.765293",
     "status": "completed"
    },
    "tags": []
   },
   "outputs": [],
   "source": [
    "from lenskit.data import ItemListCollection, UserIDKey\n",
    "from lenskit.metrics import RunAnalysis, RMSE, NDCG, RecipRank, RBP"
   ]
  },
  {
   "cell_type": "markdown",
   "id": "44472f41",
   "metadata": {
    "papermill": {
     "duration": 0.0088,
     "end_time": "2024-12-17T17:34:48.420659",
     "exception": false,
     "start_time": "2024-12-17T17:34:48.411859",
     "status": "completed"
    },
    "tags": []
   },
   "source": [
    "## Load Data\n",
    "\n",
    "The recommendations are in `runs`, and we will need to reassemble the test data from `test`."
   ]
  },
  {
   "cell_type": "code",
   "execution_count": 4,
   "id": "a854029a",
   "metadata": {
    "execution": {
     "iopub.execute_input": "2024-12-17T17:34:48.423636Z",
     "iopub.status.busy": "2024-12-17T17:34:48.423547Z",
     "iopub.status.idle": "2024-12-17T17:34:48.425331Z",
     "shell.execute_reply": "2024-12-17T17:34:48.425012Z"
    },
    "papermill": {
     "duration": 0.004095,
     "end_time": "2024-12-17T17:34:48.425990",
     "exception": false,
     "start_time": "2024-12-17T17:34:48.421895",
     "status": "completed"
    },
    "tags": [
     "parameters"
    ]
   },
   "outputs": [],
   "source": [
    "dataset = \"ml100k\""
   ]
  },
  {
   "cell_type": "code",
   "execution_count": 5,
   "id": "02e156b3",
   "metadata": {
    "execution": {
     "iopub.execute_input": "2024-12-17T17:34:48.429100Z",
     "iopub.status.busy": "2024-12-17T17:34:48.428864Z",
     "iopub.status.idle": "2024-12-17T17:34:48.430655Z",
     "shell.execute_reply": "2024-12-17T17:34:48.430327Z"
    },
    "papermill": {
     "duration": 0.00392,
     "end_time": "2024-12-17T17:34:48.431090",
     "exception": false,
     "start_time": "2024-12-17T17:34:48.427170",
     "status": "completed"
    },
    "tags": [
     "injected-parameters"
    ]
   },
   "outputs": [],
   "source": [
    "# Parameters\n",
    "dataset = \"ml20m\"\n"
   ]
  },
  {
   "cell_type": "code",
   "execution_count": 6,
   "id": "58b1ab64",
   "metadata": {
    "execution": {
     "iopub.execute_input": "2024-12-17T17:34:48.433858Z",
     "iopub.status.busy": "2024-12-17T17:34:48.433747Z",
     "iopub.status.idle": "2024-12-17T17:34:48.435263Z",
     "shell.execute_reply": "2024-12-17T17:34:48.435076Z"
    },
    "papermill": {
     "duration": 0.003377,
     "end_time": "2024-12-17T17:34:48.435620",
     "exception": false,
     "start_time": "2024-12-17T17:34:48.432243",
     "status": "completed"
    },
    "tags": []
   },
   "outputs": [],
   "source": [
    "output_root = Path(\"runs\")"
   ]
  },
  {
   "cell_type": "code",
   "execution_count": 7,
   "id": "291fdc84",
   "metadata": {
    "execution": {
     "iopub.execute_input": "2024-12-17T17:34:48.438318Z",
     "iopub.status.busy": "2024-12-17T17:34:48.438215Z",
     "iopub.status.idle": "2024-12-17T17:34:48.439930Z",
     "shell.execute_reply": "2024-12-17T17:34:48.439748Z"
    },
    "papermill": {
     "duration": 0.003473,
     "end_time": "2024-12-17T17:34:48.440239",
     "exception": false,
     "start_time": "2024-12-17T17:34:48.436766",
     "status": "completed"
    },
    "tags": []
   },
   "outputs": [],
   "source": [
    "dirs = [fld for fld in output_root.glob(f'{dataset}-*')]"
   ]
  },
  {
   "cell_type": "code",
   "execution_count": 8,
   "id": "e47fe658",
   "metadata": {
    "execution": {
     "iopub.execute_input": "2024-12-17T17:34:48.443039Z",
     "iopub.status.busy": "2024-12-17T17:34:48.442843Z",
     "iopub.status.idle": "2024-12-17T17:35:03.973249Z",
     "shell.execute_reply": "2024-12-17T17:35:03.972846Z"
    },
    "papermill": {
     "duration": 15.532679,
     "end_time": "2024-12-17T17:35:03.974086",
     "exception": false,
     "start_time": "2024-12-17T17:34:48.441407",
     "status": "completed"
    },
    "tags": []
   },
   "outputs": [],
   "source": [
    "recs = ItemListCollection(['model', 'user_id'], index=False)\n",
    "for fld in dirs:\n",
    "    for file in fld.glob(\"recs-*\"):\n",
    "        rec = ItemListCollection.load_parquet(file)\n",
    "        recs.add_from(rec, model=fld.name.split(\"-\")[1])"
   ]
  },
  {
   "cell_type": "code",
   "execution_count": 9,
   "id": "36d675e6",
   "metadata": {
    "execution": {
     "iopub.execute_input": "2024-12-17T17:35:03.985292Z",
     "iopub.status.busy": "2024-12-17T17:35:03.985199Z",
     "iopub.status.idle": "2024-12-17T17:35:04.030585Z",
     "shell.execute_reply": "2024-12-17T17:35:04.030287Z"
    },
    "papermill": {
     "duration": 0.055622,
     "end_time": "2024-12-17T17:35:04.031193",
     "exception": false,
     "start_time": "2024-12-17T17:35:03.975571",
     "status": "completed"
    },
    "tags": []
   },
   "outputs": [
    {
     "data": {
      "text/plain": [
       "['ALS', 'Bias', 'IALS', 'IIE', 'III', 'Pop', 'UUE']"
      ]
     },
     "execution_count": 9,
     "metadata": {},
     "output_type": "execute_result"
    }
   ],
   "source": [
    "rec_algos = sorted(set(a for (a, _u) in recs.keys()))\n",
    "rec_algos"
   ]
  },
  {
   "cell_type": "code",
   "execution_count": 10,
   "id": "530bbfda",
   "metadata": {
    "execution": {
     "iopub.execute_input": "2024-12-17T17:35:04.034531Z",
     "iopub.status.busy": "2024-12-17T17:35:04.034421Z",
     "iopub.status.idle": "2024-12-17T17:35:17.041123Z",
     "shell.execute_reply": "2024-12-17T17:35:17.040687Z"
    },
    "papermill": {
     "duration": 13.009209,
     "end_time": "2024-12-17T17:35:17.041899",
     "exception": false,
     "start_time": "2024-12-17T17:35:04.032690",
     "status": "completed"
    },
    "tags": []
   },
   "outputs": [],
   "source": [
    "preds = ItemListCollection(['model', 'user_id'], index=False)\n",
    "for fld in dirs:\n",
    "    for file in fld.glob(\"pred-*\"):\n",
    "        pred = ItemListCollection.load_parquet(file)\n",
    "        preds.add_from(pred, model=fld.name.split(\"-\")[1])"
   ]
  },
  {
   "cell_type": "markdown",
   "id": "737fbf6f",
   "metadata": {
    "papermill": {
     "duration": 0.018435,
     "end_time": "2024-12-17T17:35:17.061846",
     "exception": false,
     "start_time": "2024-12-17T17:35:17.043411",
     "status": "completed"
    },
    "tags": []
   },
   "source": [
    "We need to load the test data so that we have the ground truths for computing accuracy"
   ]
  },
  {
   "cell_type": "code",
   "execution_count": 11,
   "id": "094c6750",
   "metadata": {
    "execution": {
     "iopub.execute_input": "2024-12-17T17:35:17.065080Z",
     "iopub.status.busy": "2024-12-17T17:35:17.064995Z",
     "iopub.status.idle": "2024-12-17T17:35:17.066696Z",
     "shell.execute_reply": "2024-12-17T17:35:17.066431Z"
    },
    "papermill": {
     "duration": 0.003945,
     "end_time": "2024-12-17T17:35:17.067092",
     "exception": false,
     "start_time": "2024-12-17T17:35:17.063147",
     "status": "completed"
    },
    "tags": []
   },
   "outputs": [],
   "source": [
    "split_root = Path(\"data-split\")\n",
    "split_dir = split_root / dataset"
   ]
  },
  {
   "cell_type": "code",
   "execution_count": 12,
   "id": "b6b27b83",
   "metadata": {
    "execution": {
     "iopub.execute_input": "2024-12-17T17:35:17.069895Z",
     "iopub.status.busy": "2024-12-17T17:35:17.069829Z",
     "iopub.status.idle": "2024-12-17T17:35:24.963904Z",
     "shell.execute_reply": "2024-12-17T17:35:24.963392Z"
    },
    "papermill": {
     "duration": 7.896386,
     "end_time": "2024-12-17T17:35:24.964708",
     "exception": false,
     "start_time": "2024-12-17T17:35:17.068322",
     "status": "completed"
    },
    "tags": []
   },
   "outputs": [],
   "source": [
    "test = ItemListCollection(UserIDKey)\n",
    "for file in split_dir.glob(\"test-*.parquet\"):\n",
    "    df = pd.read_parquet(file)\n",
    "    part = ItemListCollection.from_df(df, UserIDKey)\n",
    "    test.add_from(part)"
   ]
  },
  {
   "cell_type": "markdown",
   "id": "fed8bea2",
   "metadata": {
    "papermill": {
     "duration": 0.009134,
     "end_time": "2024-12-17T17:35:24.975327",
     "exception": false,
     "start_time": "2024-12-17T17:35:24.966193",
     "status": "completed"
    },
    "tags": []
   },
   "source": [
    "## Top-N Metrics\n",
    "\n",
    "`RunListAnalysis` computes metrics for recommendation results and takes care of\n",
    "matching recommendations and ground truth."
   ]
  },
  {
   "cell_type": "code",
   "execution_count": 13,
   "id": "7b68ce95",
   "metadata": {
    "execution": {
     "iopub.execute_input": "2024-12-17T17:35:24.978716Z",
     "iopub.status.busy": "2024-12-17T17:35:24.978603Z",
     "iopub.status.idle": "2024-12-17T17:36:26.793426Z",
     "shell.execute_reply": "2024-12-17T17:36:26.793202Z"
    },
    "papermill": {
     "duration": 61.818453,
     "end_time": "2024-12-17T17:36:26.795067",
     "exception": false,
     "start_time": "2024-12-17T17:35:24.976614",
     "status": "completed"
    },
    "tags": []
   },
   "outputs": [
    {
     "name": "stderr",
     "output_type": "stream",
     "text": [
      "/home/mde48/lenskit/lkpy/lenskit/lenskit/metrics/bulk.py:121: FutureWarning: The previous implementation of stack is deprecated and will be removed in a future version of pandas. See the What's New notes for pandas 2.1.0 for details. Specify future_stack=True to adopt the new implementation and silence this warning.\n",
      "  df = scores.groupby(list(keys)).agg([\"mean\", \"median\", \"std\"]).stack(level=0)\n"
     ]
    },
    {
     "data": {
      "text/html": [
       "<div>\n",
       "<style scoped>\n",
       "    .dataframe tbody tr th:only-of-type {\n",
       "        vertical-align: middle;\n",
       "    }\n",
       "\n",
       "    .dataframe tbody tr th {\n",
       "        vertical-align: top;\n",
       "    }\n",
       "\n",
       "    .dataframe thead th {\n",
       "        text-align: right;\n",
       "    }\n",
       "</style>\n",
       "<table border=\"1\" class=\"dataframe\">\n",
       "  <thead>\n",
       "    <tr style=\"text-align: right;\">\n",
       "      <th></th>\n",
       "      <th></th>\n",
       "      <th>mean</th>\n",
       "      <th>median</th>\n",
       "      <th>std</th>\n",
       "    </tr>\n",
       "    <tr>\n",
       "      <th>model</th>\n",
       "      <th></th>\n",
       "      <th></th>\n",
       "      <th></th>\n",
       "      <th></th>\n",
       "    </tr>\n",
       "  </thead>\n",
       "  <tbody>\n",
       "    <tr>\n",
       "      <th rowspan=\"3\" valign=\"top\">ALS</th>\n",
       "      <th>NDCG</th>\n",
       "      <td>2.994379e-02</td>\n",
       "      <td>0.000000e+00</td>\n",
       "      <td>6.713556e-02</td>\n",
       "    </tr>\n",
       "    <tr>\n",
       "      <th>RBP</th>\n",
       "      <td>1.231758e-02</td>\n",
       "      <td>0.000000e+00</td>\n",
       "      <td>6.823536e-02</td>\n",
       "    </tr>\n",
       "    <tr>\n",
       "      <th>RecipRank</th>\n",
       "      <td>3.644566e-02</td>\n",
       "      <td>0.000000e+00</td>\n",
       "      <td>1.360892e-01</td>\n",
       "    </tr>\n",
       "    <tr>\n",
       "      <th rowspan=\"3\" valign=\"top\">Bias</th>\n",
       "      <th>NDCG</th>\n",
       "      <td>5.018591e-02</td>\n",
       "      <td>0.000000e+00</td>\n",
       "      <td>9.353811e-02</td>\n",
       "    </tr>\n",
       "    <tr>\n",
       "      <th>RBP</th>\n",
       "      <td>3.322223e-02</td>\n",
       "      <td>0.000000e+00</td>\n",
       "      <td>1.158623e-01</td>\n",
       "    </tr>\n",
       "    <tr>\n",
       "      <th>RecipRank</th>\n",
       "      <td>7.859996e-02</td>\n",
       "      <td>0.000000e+00</td>\n",
       "      <td>2.224595e-01</td>\n",
       "    </tr>\n",
       "    <tr>\n",
       "      <th rowspan=\"3\" valign=\"top\">IALS</th>\n",
       "      <th>NDCG</th>\n",
       "      <td>2.631292e-01</td>\n",
       "      <td>2.174571e-01</td>\n",
       "      <td>1.959015e-01</td>\n",
       "    </tr>\n",
       "    <tr>\n",
       "      <th>RBP</th>\n",
       "      <td>1.178477e-01</td>\n",
       "      <td>1.953185e-03</td>\n",
       "      <td>2.072507e-01</td>\n",
       "    </tr>\n",
       "    <tr>\n",
       "      <th>RecipRank</th>\n",
       "      <td>2.576143e-01</td>\n",
       "      <td>1.111111e-01</td>\n",
       "      <td>3.211402e-01</td>\n",
       "    </tr>\n",
       "    <tr>\n",
       "      <th rowspan=\"3\" valign=\"top\">IIE</th>\n",
       "      <th>NDCG</th>\n",
       "      <td>1.799055e-03</td>\n",
       "      <td>0.000000e+00</td>\n",
       "      <td>1.081409e-02</td>\n",
       "    </tr>\n",
       "    <tr>\n",
       "      <th>RBP</th>\n",
       "      <td>1.657536e-05</td>\n",
       "      <td>0.000000e+00</td>\n",
       "      <td>1.734659e-03</td>\n",
       "    </tr>\n",
       "    <tr>\n",
       "      <th>RecipRank</th>\n",
       "      <td>7.468014e-04</td>\n",
       "      <td>0.000000e+00</td>\n",
       "      <td>6.619561e-03</td>\n",
       "    </tr>\n",
       "    <tr>\n",
       "      <th rowspan=\"3\" valign=\"top\">III</th>\n",
       "      <th>NDCG</th>\n",
       "      <td>2.197107e-01</td>\n",
       "      <td>1.487798e-01</td>\n",
       "      <td>2.105819e-01</td>\n",
       "    </tr>\n",
       "    <tr>\n",
       "      <th>RBP</th>\n",
       "      <td>1.432661e-01</td>\n",
       "      <td>4.882812e-04</td>\n",
       "      <td>2.345441e-01</td>\n",
       "    </tr>\n",
       "    <tr>\n",
       "      <th>RecipRank</th>\n",
       "      <td>2.847712e-01</td>\n",
       "      <td>9.090909e-02</td>\n",
       "      <td>3.673109e-01</td>\n",
       "    </tr>\n",
       "    <tr>\n",
       "      <th rowspan=\"3\" valign=\"top\">Pop</th>\n",
       "      <th>NDCG</th>\n",
       "      <td>1.349406e-01</td>\n",
       "      <td>9.007480e-02</td>\n",
       "      <td>1.482855e-01</td>\n",
       "    </tr>\n",
       "    <tr>\n",
       "      <th>RBP</th>\n",
       "      <td>6.486671e-02</td>\n",
       "      <td>7.465133e-09</td>\n",
       "      <td>1.568487e-01</td>\n",
       "    </tr>\n",
       "    <tr>\n",
       "      <th>RecipRank</th>\n",
       "      <td>1.586887e-01</td>\n",
       "      <td>3.703704e-02</td>\n",
       "      <td>2.766616e-01</td>\n",
       "    </tr>\n",
       "    <tr>\n",
       "      <th rowspan=\"3\" valign=\"top\">UUE</th>\n",
       "      <th>NDCG</th>\n",
       "      <td>1.288285e-04</td>\n",
       "      <td>0.000000e+00</td>\n",
       "      <td>2.515028e-03</td>\n",
       "    </tr>\n",
       "    <tr>\n",
       "      <th>RBP</th>\n",
       "      <td>2.643849e-10</td>\n",
       "      <td>0.000000e+00</td>\n",
       "      <td>5.911085e-08</td>\n",
       "    </tr>\n",
       "    <tr>\n",
       "      <th>RecipRank</th>\n",
       "      <td>4.428234e-05</td>\n",
       "      <td>0.000000e+00</td>\n",
       "      <td>9.298385e-04</td>\n",
       "    </tr>\n",
       "  </tbody>\n",
       "</table>\n",
       "</div>"
      ],
      "text/plain": [
       "                         mean        median           std\n",
       "model                                                    \n",
       "ALS   NDCG       2.994379e-02  0.000000e+00  6.713556e-02\n",
       "      RBP        1.231758e-02  0.000000e+00  6.823536e-02\n",
       "      RecipRank  3.644566e-02  0.000000e+00  1.360892e-01\n",
       "Bias  NDCG       5.018591e-02  0.000000e+00  9.353811e-02\n",
       "      RBP        3.322223e-02  0.000000e+00  1.158623e-01\n",
       "      RecipRank  7.859996e-02  0.000000e+00  2.224595e-01\n",
       "IALS  NDCG       2.631292e-01  2.174571e-01  1.959015e-01\n",
       "      RBP        1.178477e-01  1.953185e-03  2.072507e-01\n",
       "      RecipRank  2.576143e-01  1.111111e-01  3.211402e-01\n",
       "IIE   NDCG       1.799055e-03  0.000000e+00  1.081409e-02\n",
       "      RBP        1.657536e-05  0.000000e+00  1.734659e-03\n",
       "      RecipRank  7.468014e-04  0.000000e+00  6.619561e-03\n",
       "III   NDCG       2.197107e-01  1.487798e-01  2.105819e-01\n",
       "      RBP        1.432661e-01  4.882812e-04  2.345441e-01\n",
       "      RecipRank  2.847712e-01  9.090909e-02  3.673109e-01\n",
       "Pop   NDCG       1.349406e-01  9.007480e-02  1.482855e-01\n",
       "      RBP        6.486671e-02  7.465133e-09  1.568487e-01\n",
       "      RecipRank  1.586887e-01  3.703704e-02  2.766616e-01\n",
       "UUE   NDCG       1.288285e-04  0.000000e+00  2.515028e-03\n",
       "      RBP        2.643849e-10  0.000000e+00  5.911085e-08\n",
       "      RecipRank  4.428234e-05  0.000000e+00  9.298385e-04"
      ]
     },
     "execution_count": 13,
     "metadata": {},
     "output_type": "execute_result"
    }
   ],
   "source": [
    "ra = RunAnalysis()\n",
    "\n",
    "ra.add_metric(NDCG())\n",
    "ra.add_metric(RecipRank())\n",
    "ra.add_metric(RBP())\n",
    "\n",
    "rec_results = ra.compute(recs, test)\n",
    "rec_results.list_summary('model')"
   ]
  },
  {
   "cell_type": "markdown",
   "id": "8cba4e78",
   "metadata": {
    "papermill": {
     "duration": 0.001333,
     "end_time": "2024-12-17T17:36:26.804742",
     "exception": false,
     "start_time": "2024-12-17T17:36:26.803409",
     "status": "completed"
    },
    "tags": []
   },
   "source": [
    "We can reshape the list metrics and plot them:"
   ]
  },
  {
   "cell_type": "code",
   "execution_count": 14,
   "id": "238604c3",
   "metadata": {
    "execution": {
     "iopub.execute_input": "2024-12-17T17:36:26.807814Z",
     "iopub.status.busy": "2024-12-17T17:36:26.807731Z",
     "iopub.status.idle": "2024-12-17T17:36:36.781100Z",
     "shell.execute_reply": "2024-12-17T17:36:36.780682Z"
    },
    "papermill": {
     "duration": 9.975706,
     "end_time": "2024-12-17T17:36:36.781774",
     "exception": false,
     "start_time": "2024-12-17T17:36:26.806068",
     "status": "completed"
    },
    "tags": []
   },
   "outputs": [
    {
     "data": {
      "image/png": "[encoded data removed]",
      "text/plain": [
       "<Figure size 1511.11x500 with 3 Axes>"
      ]
     },
     "metadata": {},
     "output_type": "display_data"
    }
   ],
   "source": [
    "metrics = rec_results.list_metrics()\n",
    "metrics = metrics.melt(var_name='metric', ignore_index=False).reset_index()\n",
    "sns.catplot(metrics, x='model', y='value', col='metric', kind='bar')\n",
    "plt.show()"
   ]
  },
  {
   "cell_type": "markdown",
   "id": "d6f202d4",
   "metadata": {
    "papermill": {
     "duration": 0.018683,
     "end_time": "2024-12-17T17:36:36.802078",
     "exception": false,
     "start_time": "2024-12-17T17:36:36.783395",
     "status": "completed"
    },
    "tags": []
   },
   "source": [
    "## Prediction RMSE\n",
    "\n",
    "We will also look at the prediction RMSE."
   ]
  },
  {
   "cell_type": "code",
   "execution_count": 15,
   "id": "c78c5ff6",
   "metadata": {
    "execution": {
     "iopub.execute_input": "2024-12-17T17:36:36.805505Z",
     "iopub.status.busy": "2024-12-17T17:36:36.805422Z",
     "iopub.status.idle": "2024-12-17T17:37:55.665958Z",
     "shell.execute_reply": "2024-12-17T17:37:55.665773Z"
    },
    "papermill": {
     "duration": 78.864272,
     "end_time": "2024-12-17T17:37:55.667772",
     "exception": false,
     "start_time": "2024-12-17T17:36:36.803500",
     "status": "completed"
    },
    "tags": []
   },
   "outputs": [
    {
     "name": "stderr",
     "output_type": "stream",
     "text": [
      "/home/mde48/lenskit/lkpy/lenskit/lenskit/metrics/bulk.py:121: FutureWarning: The previous implementation of stack is deprecated and will be removed in a future version of pandas. See the What's New notes for pandas 2.1.0 for details. Specify future_stack=True to adopt the new implementation and silence this warning.\n",
      "  df = scores.groupby(list(keys)).agg([\"mean\", \"median\", \"std\"]).stack(level=0)\n"
     ]
    },
    {
     "data": {
      "text/html": [
       "<div>\n",
       "<style scoped>\n",
       "    .dataframe tbody tr th:only-of-type {\n",
       "        vertical-align: middle;\n",
       "    }\n",
       "\n",
       "    .dataframe tbody tr th {\n",
       "        vertical-align: top;\n",
       "    }\n",
       "\n",
       "    .dataframe thead th {\n",
       "        text-align: right;\n",
       "    }\n",
       "</style>\n",
       "<table border=\"1\" class=\"dataframe\">\n",
       "  <thead>\n",
       "    <tr style=\"text-align: right;\">\n",
       "      <th></th>\n",
       "      <th></th>\n",
       "      <th>mean</th>\n",
       "      <th>median</th>\n",
       "      <th>std</th>\n",
       "    </tr>\n",
       "    <tr>\n",
       "      <th>model</th>\n",
       "      <th></th>\n",
       "      <th></th>\n",
       "      <th></th>\n",
       "      <th></th>\n",
       "    </tr>\n",
       "  </thead>\n",
       "  <tbody>\n",
       "    <tr>\n",
       "      <th>ALS</th>\n",
       "      <th>RMSE</th>\n",
       "      <td>0.785595</td>\n",
       "      <td>0.727380</td>\n",
       "      <td>0.343691</td>\n",
       "    </tr>\n",
       "    <tr>\n",
       "      <th>Bias</th>\n",
       "      <th>RMSE</th>\n",
       "      <td>0.829450</td>\n",
       "      <td>0.770576</td>\n",
       "      <td>0.357917</td>\n",
       "    </tr>\n",
       "    <tr>\n",
       "      <th>IIE</th>\n",
       "      <th>RMSE</th>\n",
       "      <td>0.771869</td>\n",
       "      <td>0.714103</td>\n",
       "      <td>0.344003</td>\n",
       "    </tr>\n",
       "    <tr>\n",
       "      <th>UUE</th>\n",
       "      <th>RMSE</th>\n",
       "      <td>0.798277</td>\n",
       "      <td>0.739411</td>\n",
       "      <td>0.350708</td>\n",
       "    </tr>\n",
       "  </tbody>\n",
       "</table>\n",
       "</div>"
      ],
      "text/plain": [
       "                mean    median       std\n",
       "model                                   \n",
       "ALS   RMSE  0.785595  0.727380  0.343691\n",
       "Bias  RMSE  0.829450  0.770576  0.357917\n",
       "IIE   RMSE  0.771869  0.714103  0.344003\n",
       "UUE   RMSE  0.798277  0.739411  0.350708"
      ]
     },
     "execution_count": 15,
     "metadata": {},
     "output_type": "execute_result"
    }
   ],
   "source": [
    "pa = RunAnalysis()\n",
    "\n",
    "pa.add_metric(RMSE(missing_scores='ignore', missing_truth='ignore'))\n",
    "\n",
    "pred_results = pa.compute(preds, test)\n",
    "pred_results.list_summary('model')"
   ]
  },
  {
   "cell_type": "code",
   "execution_count": 16,
   "id": "929287d6",
   "metadata": {
    "execution": {
     "iopub.execute_input": "2024-12-17T17:37:55.671363Z",
     "iopub.status.busy": "2024-12-17T17:37:55.671286Z",
     "iopub.status.idle": "2024-12-17T17:37:57.480301Z",
     "shell.execute_reply": "2024-12-17T17:37:57.479979Z"
    },
    "papermill": {
     "duration": 1.811535,
     "end_time": "2024-12-17T17:37:57.480932",
     "exception": false,
     "start_time": "2024-12-17T17:37:55.669397",
     "status": "completed"
    },
    "tags": []
   },
   "outputs": [
    {
     "data": {
      "image/png": "[encoded data removed]",
      "text/plain": [
       "<Figure size 511.111x500 with 1 Axes>"
      ]
     },
     "metadata": {},
     "output_type": "display_data"
    }
   ],
   "source": [
    "sns.catplot(pred_results.list_metrics().reset_index(), x='model', y='RMSE', kind='bar')\n",
    "plt.show()"
   ]
  },
  {
   "cell_type": "markdown",
   "id": "0caac7ca",
   "metadata": {
    "papermill": {
     "duration": 0.009346,
     "end_time": "2024-12-17T17:37:57.492048",
     "exception": false,
     "start_time": "2024-12-17T17:37:57.482702",
     "status": "completed"
    },
    "tags": []
   },
   "source": [
    "## Save Metrics\n",
    "\n",
    "We'll now save the metrics to a file."
   ]
  },
  {
   "cell_type": "code",
   "execution_count": 17,
   "id": "4e43b021",
   "metadata": {
    "execution": {
     "iopub.execute_input": "2024-12-17T17:37:57.495895Z",
     "iopub.status.busy": "2024-12-17T17:37:57.495810Z",
     "iopub.status.idle": "2024-12-17T17:37:57.573479Z",
     "shell.execute_reply": "2024-12-17T17:37:57.573313Z"
    },
    "papermill": {
     "duration": 0.080406,
     "end_time": "2024-12-17T17:37:57.574014",
     "exception": false,
     "start_time": "2024-12-17T17:37:57.493608",
     "status": "completed"
    },
    "tags": []
   },
   "outputs": [
    {
     "name": "stderr",
     "output_type": "stream",
     "text": [
      "/home/mde48/lenskit/lkpy/lenskit/lenskit/metrics/bulk.py:121: FutureWarning: The previous implementation of stack is deprecated and will be removed in a future version of pandas. See the What's New notes for pandas 2.1.0 for details. Specify future_stack=True to adopt the new implementation and silence this warning.\n",
      "  df = scores.groupby(list(keys)).agg([\"mean\", \"median\", \"std\"]).stack(level=0)\n"
     ]
    },
    {
     "data": {
      "text/html": [
       "<div>\n",
       "<style scoped>\n",
       "    .dataframe tbody tr th:only-of-type {\n",
       "        vertical-align: middle;\n",
       "    }\n",
       "\n",
       "    .dataframe tbody tr th {\n",
       "        vertical-align: top;\n",
       "    }\n",
       "\n",
       "    .dataframe thead th {\n",
       "        text-align: right;\n",
       "    }\n",
       "</style>\n",
       "<table border=\"1\" class=\"dataframe\">\n",
       "  <thead>\n",
       "    <tr style=\"text-align: right;\">\n",
       "      <th></th>\n",
       "      <th>NDCG</th>\n",
       "      <th>RBP</th>\n",
       "      <th>RecipRank</th>\n",
       "    </tr>\n",
       "    <tr>\n",
       "      <th>model</th>\n",
       "      <th></th>\n",
       "      <th></th>\n",
       "      <th></th>\n",
       "    </tr>\n",
       "  </thead>\n",
       "  <tbody>\n",
       "    <tr>\n",
       "      <th>ALS</th>\n",
       "      <td>0.029944</td>\n",
       "      <td>1.231758e-02</td>\n",
       "      <td>0.036446</td>\n",
       "    </tr>\n",
       "    <tr>\n",
       "      <th>Bias</th>\n",
       "      <td>0.050186</td>\n",
       "      <td>3.322223e-02</td>\n",
       "      <td>0.078600</td>\n",
       "    </tr>\n",
       "    <tr>\n",
       "      <th>IALS</th>\n",
       "      <td>0.263129</td>\n",
       "      <td>1.178477e-01</td>\n",
       "      <td>0.257614</td>\n",
       "    </tr>\n",
       "    <tr>\n",
       "      <th>IIE</th>\n",
       "      <td>0.001799</td>\n",
       "      <td>1.657536e-05</td>\n",
       "      <td>0.000747</td>\n",
       "    </tr>\n",
       "    <tr>\n",
       "      <th>III</th>\n",
       "      <td>0.219711</td>\n",
       "      <td>1.432661e-01</td>\n",
       "      <td>0.284771</td>\n",
       "    </tr>\n",
       "    <tr>\n",
       "      <th>Pop</th>\n",
       "      <td>0.134941</td>\n",
       "      <td>6.486671e-02</td>\n",
       "      <td>0.158689</td>\n",
       "    </tr>\n",
       "    <tr>\n",
       "      <th>UUE</th>\n",
       "      <td>0.000129</td>\n",
       "      <td>2.643849e-10</td>\n",
       "      <td>0.000044</td>\n",
       "    </tr>\n",
       "  </tbody>\n",
       "</table>\n",
       "</div>"
      ],
      "text/plain": [
       "           NDCG           RBP  RecipRank\n",
       "model                                   \n",
       "ALS    0.029944  1.231758e-02   0.036446\n",
       "Bias   0.050186  3.322223e-02   0.078600\n",
       "IALS   0.263129  1.178477e-01   0.257614\n",
       "IIE    0.001799  1.657536e-05   0.000747\n",
       "III    0.219711  1.432661e-01   0.284771\n",
       "Pop    0.134941  6.486671e-02   0.158689\n",
       "UUE    0.000129  2.643849e-10   0.000044"
      ]
     },
     "execution_count": 17,
     "metadata": {},
     "output_type": "execute_result"
    }
   ],
   "source": [
    "rlsum = rec_results.list_summary('model')['mean'].unstack()\n",
    "rlsum"
   ]
  },
  {
   "cell_type": "code",
   "execution_count": 18,
   "id": "cae53f67",
   "metadata": {
    "execution": {
     "iopub.execute_input": "2024-12-17T17:37:57.578038Z",
     "iopub.status.busy": "2024-12-17T17:37:57.577950Z",
     "iopub.status.idle": "2024-12-17T17:37:57.580477Z",
     "shell.execute_reply": "2024-12-17T17:37:57.580317Z"
    },
    "papermill": {
     "duration": 0.004981,
     "end_time": "2024-12-17T17:37:57.580815",
     "exception": false,
     "start_time": "2024-12-17T17:37:57.575834",
     "status": "completed"
    },
    "tags": []
   },
   "outputs": [],
   "source": [
    "rlsum.to_json(f'eval-metrics.{dataset}.json', orient='index')"
   ]
  }
 ],
 "metadata": {
  "jupytext": {
   "formats": "ipynb,md",
   "notebook_metadata_filter": "split_at_heading"
  },
  "kernelspec": {
   "display_name": "Python 3 (ipykernel)",
   "language": "python",
   "name": "python3"
  },
  "language_info": {
   "codemirror_mode": {
    "name": "ipython",
    "version": 3
   },
   "file_extension": ".py",
   "mimetype": "text/x-python",
   "name": "python",
   "nbconvert_exporter": "python",
   "pygments_lexer": "ipython3",
   "version": "3.12.8"
  },
  "papermill": {
   "default_parameters": {},
   "duration": 193.68639,
   "end_time": "2024-12-17T17:38:00.298742",
   "environment_variables": {},
   "exception": null,
   "input_path": "eval-report.ipynb",
   "output_path": "eval-report.ml20m.ipynb",
   "parameters": {
    "dataset": "ml20m"
   },
   "start_time": "2024-12-17T17:34:46.612352",
   "version": "2.6.0"
  },
  "split_at_heading": true
 },
 "nbformat": 4,
 "nbformat_minor": 5
}