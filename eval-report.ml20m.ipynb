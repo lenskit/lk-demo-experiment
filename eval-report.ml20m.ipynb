{
 "cells": [
  {
   "cell_type": "markdown",
   "id": "41f926a1",
   "metadata": {
    "tags": [
     "papermill-error-cell-tag"
    ]
   },
   "source": [
    "<span style=\"color:red; font-family:Helvetica Neue, Helvetica, Arial, sans-serif; font-size:2em;\">An Exception was encountered at '<a href=\"#papermill-error-cell\">In [19]</a>'.</span>"
   ]
  },
  {
   "cell_type": "markdown",
   "id": "320310ed",
   "metadata": {
    "papermill": {
     "duration": 0.071024,
     "end_time": "2021-12-09T06:11:17.262357",
     "exception": false,
     "start_time": "2021-12-09T06:11:17.191333",
     "status": "completed"
    },
    "tags": []
   },
   "source": [
    "# Evaluation Analysis for Recommender Output"
   ]
  },
  {
   "cell_type": "markdown",
   "id": "0d49d082",
   "metadata": {
    "papermill": {
     "duration": 0.090963,
     "end_time": "2021-12-09T06:11:17.436618",
     "exception": false,
     "start_time": "2021-12-09T06:11:17.345655",
     "status": "completed"
    },
    "tags": []
   },
   "source": [
    "In this section we will analyze and compare the generated recommendations and predictions from a predefined list of algorithms with the goal of assessing the performance of each algorithm with respect to a metric. In other words, we would rank the algorithms for each metric considered with respect to performance."
   ]
  },
  {
   "cell_type": "markdown",
   "id": "28cba51e",
   "metadata": {
    "papermill": {
     "duration": 0.071,
     "end_time": "2021-12-09T06:11:17.592619",
     "exception": false,
     "start_time": "2021-12-09T06:11:17.521619",
     "status": "completed"
    },
    "tags": []
   },
   "source": [
    "# Setup"
   ]
  },
  {
   "cell_type": "markdown",
   "id": "8e6c23f4",
   "metadata": {
    "papermill": {
     "duration": 0.069029,
     "end_time": "2021-12-09T06:11:17.732649",
     "exception": false,
     "start_time": "2021-12-09T06:11:17.663620",
     "status": "completed"
    },
    "tags": []
   },
   "source": [
    "Below are the list of packages required to successfully run the analysis. They are divided into partitions to signify their specific task.<br>\n",
    "We need the pathlib package for working with files and folders"
   ]
  },
  {
   "cell_type": "code",
   "execution_count": 1,
   "id": "bcc57038",
   "metadata": {
    "execution": {
     "iopub.execute_input": "2021-12-09T06:11:17.877620Z",
     "iopub.status.busy": "2021-12-09T06:11:17.876624Z",
     "iopub.status.idle": "2021-12-09T06:11:17.882649Z",
     "shell.execute_reply": "2021-12-09T06:11:17.883617Z"
    },
    "papermill": {
     "duration": 0.080968,
     "end_time": "2021-12-09T06:11:17.883617",
     "exception": false,
     "start_time": "2021-12-09T06:11:17.802649",
     "status": "completed"
    },
    "tags": []
   },
   "outputs": [],
   "source": [
    "from pathlib import Path"
   ]
  },
  {
   "cell_type": "markdown",
   "id": "2b47e2db",
   "metadata": {
    "papermill": {
     "duration": 0.070676,
     "end_time": "2021-12-09T06:11:18.026326",
     "exception": false,
     "start_time": "2021-12-09T06:11:17.955650",
     "status": "completed"
    },
    "tags": []
   },
   "source": [
    "We would use the pandas for analyzing and manipulating our data while seaborn and matplotlib are used for data visualization. statsmodels.graphics.gofplots and scipy.stats.shapiro are used for normality check. Scipy.stats.friedmanchisquare is a non-parametric test used to determine the statistical significance in metric results and the wilcoxon test is used for pairwise comparison of sample data."
   ]
  },
  {
   "cell_type": "code",
   "execution_count": 2,
   "id": "27be5fa1",
   "metadata": {
    "execution": {
     "iopub.execute_input": "2021-12-09T06:11:18.168776Z",
     "iopub.status.busy": "2021-12-09T06:11:18.168776Z",
     "iopub.status.idle": "2021-12-09T06:11:20.051320Z",
     "shell.execute_reply": "2021-12-09T06:11:20.050320Z"
    },
    "papermill": {
     "duration": 1.9547,
     "end_time": "2021-12-09T06:11:20.051320",
     "exception": false,
     "start_time": "2021-12-09T06:11:18.096620",
     "status": "completed"
    },
    "tags": []
   },
   "outputs": [],
   "source": [
    "import pandas as pd\n",
    "import seaborn as sns\n",
    "import matplotlib.pyplot as plt\n",
    "from statsmodels.graphics.gofplots import qqplot\n",
    "from scipy.stats import shapiro\n",
    "from scipy.stats import friedmanchisquare, wilcoxon\n",
    "from itertools import combinations"
   ]
  },
  {
   "cell_type": "markdown",
   "id": "7bc75e6d",
   "metadata": {
    "papermill": {
     "duration": 0.07101,
     "end_time": "2021-12-09T06:11:20.191718",
     "exception": false,
     "start_time": "2021-12-09T06:11:20.120708",
     "status": "completed"
    },
    "tags": []
   },
   "source": [
    "Logging to show what's happening in LensKit routines:"
   ]
  },
  {
   "cell_type": "code",
   "execution_count": 3,
   "id": "8f300c10",
   "metadata": {
    "execution": {
     "iopub.execute_input": "2021-12-09T06:11:20.331899Z",
     "iopub.status.busy": "2021-12-09T06:11:20.330900Z",
     "iopub.status.idle": "2021-12-09T06:11:20.379913Z",
     "shell.execute_reply": "2021-12-09T06:11:20.379913Z"
    },
    "papermill": {
     "duration": 0.120278,
     "end_time": "2021-12-09T06:11:20.379913",
     "exception": false,
     "start_time": "2021-12-09T06:11:20.259635",
     "status": "completed"
    },
    "tags": []
   },
   "outputs": [
    {
     "name": "stdout",
     "output_type": "stream",
     "text": [
      "[   INFO] lenskit.util.log notebook logging configured\n"
     ]
    }
   ],
   "source": [
    "from lenskit import util\n",
    "util.log_to_notebook()"
   ]
  },
  {
   "cell_type": "markdown",
   "id": "61ce68aa",
   "metadata": {
    "papermill": {
     "duration": 0.069619,
     "end_time": "2021-12-09T06:11:20.520553",
     "exception": false,
     "start_time": "2021-12-09T06:11:20.450934",
     "status": "completed"
    },
    "tags": []
   },
   "source": [
    "We will use lenskit for training, running, and evaluating recommender algorithms"
   ]
  },
  {
   "cell_type": "code",
   "execution_count": 4,
   "id": "2454a743",
   "metadata": {
    "execution": {
     "iopub.execute_input": "2021-12-09T06:11:20.674558Z",
     "iopub.status.busy": "2021-12-09T06:11:20.674558Z",
     "iopub.status.idle": "2021-12-09T06:11:20.691948Z",
     "shell.execute_reply": "2021-12-09T06:11:20.691948Z"
    },
    "papermill": {
     "duration": 0.101386,
     "end_time": "2021-12-09T06:11:20.692946",
     "exception": false,
     "start_time": "2021-12-09T06:11:20.591560",
     "status": "completed"
    },
    "tags": []
   },
   "outputs": [],
   "source": [
    "from lenskit import topn\n",
    "from lenskit.metrics.predict import rmse"
   ]
  },
  {
   "cell_type": "markdown",
   "id": "24b09bd7",
   "metadata": {
    "papermill": {
     "duration": 0.069007,
     "end_time": "2021-12-09T06:11:20.830576",
     "exception": false,
     "start_time": "2021-12-09T06:11:20.761569",
     "status": "completed"
    },
    "tags": []
   },
   "source": [
    "# Load Data"
   ]
  },
  {
   "cell_type": "markdown",
   "id": "75cd4e99",
   "metadata": {
    "papermill": {
     "duration": 0.067964,
     "end_time": "2021-12-09T06:11:20.968567",
     "exception": false,
     "start_time": "2021-12-09T06:11:20.900603",
     "status": "completed"
    },
    "tags": []
   },
   "source": [
    "We specify the dataset we will use for our analysis and the main directory from where we read the recommendation and prediction files. From the main directory we find all the directories associated with the dataset and then read the recommendation and predictions files from those directories."
   ]
  },
  {
   "cell_type": "code",
   "execution_count": 5,
   "id": "f7ac8821",
   "metadata": {
    "execution": {
     "iopub.execute_input": "2021-12-09T06:11:21.112289Z",
     "iopub.status.busy": "2021-12-09T06:11:21.112289Z",
     "iopub.status.idle": "2021-12-09T06:11:21.118039Z",
     "shell.execute_reply": "2021-12-09T06:11:21.118039Z"
    },
    "papermill": {
     "duration": 0.080822,
     "end_time": "2021-12-09T06:11:21.119074",
     "exception": false,
     "start_time": "2021-12-09T06:11:21.038252",
     "status": "completed"
    },
    "tags": [
     "parameters"
    ]
   },
   "outputs": [],
   "source": [
    "dataset = \"ml10m\""
   ]
  },
  {
   "cell_type": "code",
   "execution_count": 6,
   "id": "81c9f071",
   "metadata": {
    "execution": {
     "iopub.execute_input": "2021-12-09T06:11:21.261727Z",
     "iopub.status.busy": "2021-12-09T06:11:21.260733Z",
     "iopub.status.idle": "2021-12-09T06:11:21.275735Z",
     "shell.execute_reply": "2021-12-09T06:11:21.274695Z"
    },
    "papermill": {
     "duration": 0.086661,
     "end_time": "2021-12-09T06:11:21.275735",
     "exception": false,
     "start_time": "2021-12-09T06:11:21.189074",
     "status": "completed"
    },
    "tags": [
     "injected-parameters"
    ]
   },
   "outputs": [],
   "source": [
    "# Parameters\n",
    "dataset = \"ml20m\"\n"
   ]
  },
  {
   "cell_type": "code",
   "execution_count": 7,
   "id": "139308c6",
   "metadata": {
    "execution": {
     "iopub.execute_input": "2021-12-09T06:11:21.419116Z",
     "iopub.status.busy": "2021-12-09T06:11:21.418148Z",
     "iopub.status.idle": "2021-12-09T06:11:21.431114Z",
     "shell.execute_reply": "2021-12-09T06:11:21.431114Z"
    },
    "papermill": {
     "duration": 0.086079,
     "end_time": "2021-12-09T06:11:21.431114",
     "exception": false,
     "start_time": "2021-12-09T06:11:21.345035",
     "status": "completed"
    },
    "tags": []
   },
   "outputs": [],
   "source": [
    "output_root = Path(\"runs\")"
   ]
  },
  {
   "cell_type": "code",
   "execution_count": 8,
   "id": "9fc3cad6",
   "metadata": {
    "execution": {
     "iopub.execute_input": "2021-12-09T06:11:21.574116Z",
     "iopub.status.busy": "2021-12-09T06:11:21.573113Z",
     "iopub.status.idle": "2021-12-09T06:11:21.589829Z",
     "shell.execute_reply": "2021-12-09T06:11:21.589829Z"
    },
    "papermill": {
     "duration": 0.089717,
     "end_time": "2021-12-09T06:11:21.589829",
     "exception": false,
     "start_time": "2021-12-09T06:11:21.500112",
     "status": "completed"
    },
    "tags": []
   },
   "outputs": [],
   "source": [
    "dirs = [fld for fld in output_root.glob(f'{dataset}-*')]"
   ]
  },
  {
   "cell_type": "code",
   "execution_count": 9,
   "id": "0f91897f",
   "metadata": {
    "execution": {
     "iopub.execute_input": "2021-12-09T06:11:21.740809Z",
     "iopub.status.busy": "2021-12-09T06:11:21.740809Z",
     "iopub.status.idle": "2021-12-09T06:12:14.160357Z",
     "shell.execute_reply": "2021-12-09T06:12:14.160357Z"
    },
    "papermill": {
     "duration": 52.498533,
     "end_time": "2021-12-09T06:12:14.160357",
     "exception": false,
     "start_time": "2021-12-09T06:11:21.661824",
     "status": "completed"
    },
    "tags": []
   },
   "outputs": [
    {
     "name": "stdout",
     "output_type": "stream",
     "text": [
      "<class 'pandas.core.frame.DataFrame'>\n",
      "RangeIndex: 110784800 entries, 0 to 110784799\n",
      "Data columns (total 5 columns):\n",
      " #   Column     Dtype   \n",
      "---  ------     -----   \n",
      " 0   item       int64   \n",
      " 1   score      float64 \n",
      " 2   user       int64   \n",
      " 3   rank       int64   \n",
      " 4   algorithm  category\n",
      "dtypes: category(1), float64(1), int64(3)\n",
      "memory usage: 3.4 GB\n"
     ]
    }
   ],
   "source": [
    "recs = []\n",
    "for fld in dirs: \n",
    "    for file in fld.glob(\"recs-*\"):\n",
    "        rec = pd.read_csv(file, sep=',')\n",
    "        rec[\"algorithm\"] = fld.name.split(\"-\")[1]\n",
    "        recs.append(rec)\n",
    "\n",
    "recs = pd.concat(recs, ignore_index=True)\n",
    "recs = recs.astype({'algorithm': 'category'})\n",
    "recs.info()"
   ]
  },
  {
   "cell_type": "code",
   "execution_count": 10,
   "id": "9904d736",
   "metadata": {
    "execution": {
     "iopub.execute_input": "2021-12-09T06:12:14.308416Z",
     "iopub.status.busy": "2021-12-09T06:12:14.308416Z",
     "iopub.status.idle": "2021-12-09T06:12:15.023486Z",
     "shell.execute_reply": "2021-12-09T06:12:15.022490Z"
    },
    "papermill": {
     "duration": 0.791102,
     "end_time": "2021-12-09T06:12:15.023486",
     "exception": false,
     "start_time": "2021-12-09T06:12:14.232384",
     "status": "completed"
    },
    "tags": []
   },
   "outputs": [
    {
     "data": {
      "text/plain": [
       "['ALS', 'Bias', 'BPR', 'IALS', 'II', 'Pop', 'TFMF', 'UU']\n",
       "Categories (8, object): ['ALS', 'BPR', 'Bias', 'IALS', 'II', 'Pop', 'TFMF', 'UU']"
      ]
     },
     "execution_count": 10,
     "metadata": {},
     "output_type": "execute_result"
    }
   ],
   "source": [
    "rec_algos = recs['algorithm'].unique()\n",
    "rec_algos"
   ]
  },
  {
   "cell_type": "code",
   "execution_count": 11,
   "id": "9ae35d84",
   "metadata": {
    "execution": {
     "iopub.execute_input": "2021-12-09T06:12:15.169488Z",
     "iopub.status.busy": "2021-12-09T06:12:15.169488Z",
     "iopub.status.idle": "2021-12-09T06:12:18.543262Z",
     "shell.execute_reply": "2021-12-09T06:12:18.543262Z"
    },
    "papermill": {
     "duration": 3.449777,
     "end_time": "2021-12-09T06:12:18.543262",
     "exception": false,
     "start_time": "2021-12-09T06:12:15.093485",
     "status": "completed"
    },
    "tags": []
   },
   "outputs": [
    {
     "name": "stdout",
     "output_type": "stream",
     "text": [
      "<class 'pandas.core.frame.DataFrame'>\n",
      "RangeIndex: 4154790 entries, 0 to 4154789\n",
      "Data columns (total 6 columns):\n",
      " #   Column      Dtype   \n",
      "---  ------      -----   \n",
      " 0   user        int64   \n",
      " 1   item        int64   \n",
      " 2   rating      float64 \n",
      " 3   timestamp   int64   \n",
      " 4   prediction  float64 \n",
      " 5   algorithm   category\n",
      "dtypes: category(1), float64(2), int64(3)\n",
      "memory usage: 162.5 MB\n"
     ]
    }
   ],
   "source": [
    "preds = []\n",
    "for fld in dirs:\n",
    "    for file in fld.glob(\"pred-*\"):\n",
    "        pred = pd.read_csv(file, sep=',')\n",
    "        pred[\"algorithm\"] = fld.name.split(\"-\")[1]\n",
    "        preds.append(pred)\n",
    "\n",
    "preds = pd.concat(preds, ignore_index=True)\n",
    "preds = preds.astype({'algorithm': 'category'})\n",
    "preds.info()"
   ]
  },
  {
   "cell_type": "markdown",
   "id": "6d75d74b",
   "metadata": {
    "papermill": {
     "duration": 0.073609,
     "end_time": "2021-12-09T06:12:18.689902",
     "exception": false,
     "start_time": "2021-12-09T06:12:18.616293",
     "status": "completed"
    },
    "tags": []
   },
   "source": [
    "We need to load the test data so that we have the ground truths for computing accuracy "
   ]
  },
  {
   "cell_type": "code",
   "execution_count": 12,
   "id": "ca2df063",
   "metadata": {
    "execution": {
     "iopub.execute_input": "2021-12-09T06:12:18.838560Z",
     "iopub.status.busy": "2021-12-09T06:12:18.837562Z",
     "iopub.status.idle": "2021-12-09T06:12:18.855631Z",
     "shell.execute_reply": "2021-12-09T06:12:18.854596Z"
    },
    "papermill": {
     "duration": 0.091971,
     "end_time": "2021-12-09T06:12:18.855631",
     "exception": false,
     "start_time": "2021-12-09T06:12:18.763660",
     "status": "completed"
    },
    "tags": []
   },
   "outputs": [],
   "source": [
    "split_root = Path(\"data-split\")\n",
    "split_dir = split_root / dataset"
   ]
  },
  {
   "cell_type": "code",
   "execution_count": 13,
   "id": "51a5650f",
   "metadata": {
    "execution": {
     "iopub.execute_input": "2021-12-09T06:12:19.002252Z",
     "iopub.status.busy": "2021-12-09T06:12:19.002252Z",
     "iopub.status.idle": "2021-12-09T06:12:19.415126Z",
     "shell.execute_reply": "2021-12-09T06:12:19.415126Z"
    },
    "papermill": {
     "duration": 0.488498,
     "end_time": "2021-12-09T06:12:19.415126",
     "exception": false,
     "start_time": "2021-12-09T06:12:18.926628",
     "status": "completed"
    },
    "tags": []
   },
   "outputs": [],
   "source": [
    "test = []\n",
    "for file in split_dir.glob(\"test-*.csv.gz\"):\n",
    "    test.append(pd.read_csv(file, sep=','))\n",
    "\n",
    "test = pd.concat(test, ignore_index=True)"
   ]
  },
  {
   "cell_type": "markdown",
   "id": "1eef326d",
   "metadata": {
    "papermill": {
     "duration": 0.074992,
     "end_time": "2021-12-09T06:12:19.562154",
     "exception": false,
     "start_time": "2021-12-09T06:12:19.487162",
     "status": "completed"
    },
    "tags": []
   },
   "source": [
    "# Top-N Metrics"
   ]
  },
  {
   "cell_type": "markdown",
   "id": "fb7b7973",
   "metadata": {
    "papermill": {
     "duration": 0.071993,
     "end_time": "2021-12-09T06:12:19.706152",
     "exception": false,
     "start_time": "2021-12-09T06:12:19.634159",
     "status": "completed"
    },
    "tags": []
   },
   "source": [
    "The topn.RecListAnalysis class computes top-N metrics for recommendation list and takes care of making sure that the recommendations and ground truths are properly matched. Refer to the documentation for detailed explanation of the purpose for the RecListAnalysis class and how the analysis is done - https://lkpy.lenskit.org/en/stable/evaluation/topn-metrics.html "
   ]
  },
  {
   "cell_type": "code",
   "execution_count": 14,
   "id": "c69d1c3d",
   "metadata": {
    "execution": {
     "iopub.execute_input": "2021-12-09T06:12:19.854110Z",
     "iopub.status.busy": "2021-12-09T06:12:19.853102Z",
     "iopub.status.idle": "2021-12-09T06:14:00.780964Z",
     "shell.execute_reply": "2021-12-09T06:14:00.780964Z"
    },
    "papermill": {
     "duration": 101.004184,
     "end_time": "2021-12-09T06:14:00.781964",
     "exception": false,
     "start_time": "2021-12-09T06:12:19.777780",
     "status": "completed"
    },
    "tags": []
   },
   "outputs": [
    {
     "name": "stdout",
     "output_type": "stream",
     "text": [
      "[   INFO] lenskit.topn analyzing 110784800 recommendations (692465 truth rows)\n"
     ]
    },
    {
     "name": "stdout",
     "output_type": "stream",
     "text": [
      "[   INFO] lenskit.topn using rec key columns ['algorithm', 'user']\n"
     ]
    },
    {
     "name": "stdout",
     "output_type": "stream",
     "text": [
      "[   INFO] lenskit.topn using truth key columns ['user']\n"
     ]
    },
    {
     "name": "stdout",
     "output_type": "stream",
     "text": [
      "[   INFO] lenskit.topn numbering truth lists\n"
     ]
    },
    {
     "name": "stdout",
     "output_type": "stream",
     "text": [
      "[   INFO] lenskit.topn numbering rec lists\n"
     ]
    },
    {
     "name": "stdout",
     "output_type": "stream",
     "text": [
      "[   INFO] lenskit.topn collecting metric results\n"
     ]
    },
    {
     "name": "stdout",
     "output_type": "stream",
     "text": [
      "[   INFO] lenskit.topn measured 1107848 lists in 1m18.74s\n"
     ]
    },
    {
     "name": "stdout",
     "output_type": "stream",
     "text": [
      "[   INFO] lenskit.topn filling in missing user info (1107848 initial rows)\n"
     ]
    },
    {
     "data": {
      "text/html": [
       "<div>\n",
       "<style scoped>\n",
       "    .dataframe tbody tr th:only-of-type {\n",
       "        vertical-align: middle;\n",
       "    }\n",
       "\n",
       "    .dataframe tbody tr th {\n",
       "        vertical-align: top;\n",
       "    }\n",
       "\n",
       "    .dataframe thead th {\n",
       "        text-align: right;\n",
       "    }\n",
       "</style>\n",
       "<table border=\"1\" class=\"dataframe\">\n",
       "  <thead>\n",
       "    <tr style=\"text-align: right;\">\n",
       "      <th></th>\n",
       "      <th></th>\n",
       "      <th>nrecs</th>\n",
       "      <th>precision</th>\n",
       "      <th>recip_rank</th>\n",
       "      <th>ndcg</th>\n",
       "      <th>ntruth</th>\n",
       "    </tr>\n",
       "    <tr>\n",
       "      <th>algorithm</th>\n",
       "      <th>user</th>\n",
       "      <th></th>\n",
       "      <th></th>\n",
       "      <th></th>\n",
       "      <th></th>\n",
       "      <th></th>\n",
       "    </tr>\n",
       "  </thead>\n",
       "  <tbody>\n",
       "    <tr>\n",
       "      <th rowspan=\"5\" valign=\"top\">ALS</th>\n",
       "      <th>1</th>\n",
       "      <td>100.0</td>\n",
       "      <td>0.01</td>\n",
       "      <td>0.018519</td>\n",
       "      <td>0.057921</td>\n",
       "      <td>5</td>\n",
       "    </tr>\n",
       "    <tr>\n",
       "      <th>3</th>\n",
       "      <td>100.0</td>\n",
       "      <td>0.00</td>\n",
       "      <td>0.000000</td>\n",
       "      <td>0.000000</td>\n",
       "      <td>5</td>\n",
       "    </tr>\n",
       "    <tr>\n",
       "      <th>4</th>\n",
       "      <td>100.0</td>\n",
       "      <td>0.00</td>\n",
       "      <td>0.000000</td>\n",
       "      <td>0.000000</td>\n",
       "      <td>5</td>\n",
       "    </tr>\n",
       "    <tr>\n",
       "      <th>6</th>\n",
       "      <td>100.0</td>\n",
       "      <td>0.00</td>\n",
       "      <td>0.000000</td>\n",
       "      <td>0.000000</td>\n",
       "      <td>5</td>\n",
       "    </tr>\n",
       "    <tr>\n",
       "      <th>8</th>\n",
       "      <td>100.0</td>\n",
       "      <td>0.01</td>\n",
       "      <td>0.011494</td>\n",
       "      <td>0.050016</td>\n",
       "      <td>5</td>\n",
       "    </tr>\n",
       "  </tbody>\n",
       "</table>\n",
       "</div>"
      ],
      "text/plain": [
       "                nrecs  precision  recip_rank      ndcg  ntruth\n",
       "algorithm user                                                \n",
       "ALS       1     100.0       0.01    0.018519  0.057921       5\n",
       "          3     100.0       0.00    0.000000  0.000000       5\n",
       "          4     100.0       0.00    0.000000  0.000000       5\n",
       "          6     100.0       0.00    0.000000  0.000000       5\n",
       "          8     100.0       0.01    0.011494  0.050016       5"
      ]
     },
     "execution_count": 14,
     "metadata": {},
     "output_type": "execute_result"
    }
   ],
   "source": [
    "rla = topn.RecListAnalysis()\n",
    "\n",
    "rla.add_metric(topn.precision)\n",
    "rla.add_metric(topn.recip_rank)\n",
    "rla.add_metric(topn.ndcg)\n",
    "results = rla.compute(recs, test, include_missing=True)\n",
    "results = results.fillna(0)\n",
    "results.head()"
   ]
  },
  {
   "cell_type": "markdown",
   "id": "fd6d0672",
   "metadata": {
    "papermill": {
     "duration": 0.080004,
     "end_time": "2021-12-09T06:14:00.939741",
     "exception": false,
     "start_time": "2021-12-09T06:14:00.859737",
     "status": "completed"
    },
    "tags": []
   },
   "source": [
    "We will reshape the 'results' dataframe by stacking the columns to index and then use the bar chart to visualize the performance of our algorithms with respect to the precision, reciprocal rank and ndcg metrics"
   ]
  },
  {
   "cell_type": "code",
   "execution_count": 15,
   "id": "cfd3e571",
   "metadata": {
    "execution": {
     "iopub.execute_input": "2021-12-09T06:14:01.108708Z",
     "iopub.status.busy": "2021-12-09T06:14:01.108708Z",
     "iopub.status.idle": "2021-12-09T06:14:01.268428Z",
     "shell.execute_reply": "2021-12-09T06:14:01.269459Z"
    },
    "papermill": {
     "duration": 0.25072,
     "end_time": "2021-12-09T06:14:01.269459",
     "exception": false,
     "start_time": "2021-12-09T06:14:01.018739",
     "status": "completed"
    },
    "tags": []
   },
   "outputs": [
    {
     "data": {
      "text/html": [
       "<div>\n",
       "<style scoped>\n",
       "    .dataframe tbody tr th:only-of-type {\n",
       "        vertical-align: middle;\n",
       "    }\n",
       "\n",
       "    .dataframe tbody tr th {\n",
       "        vertical-align: top;\n",
       "    }\n",
       "\n",
       "    .dataframe thead th {\n",
       "        text-align: right;\n",
       "    }\n",
       "</style>\n",
       "<table border=\"1\" class=\"dataframe\">\n",
       "  <thead>\n",
       "    <tr style=\"text-align: right;\">\n",
       "      <th></th>\n",
       "      <th>algorithm</th>\n",
       "      <th>user</th>\n",
       "      <th>metric</th>\n",
       "      <th>val</th>\n",
       "    </tr>\n",
       "  </thead>\n",
       "  <tbody>\n",
       "    <tr>\n",
       "      <th>0</th>\n",
       "      <td>ALS</td>\n",
       "      <td>1</td>\n",
       "      <td>precision</td>\n",
       "      <td>0.010000</td>\n",
       "    </tr>\n",
       "    <tr>\n",
       "      <th>1</th>\n",
       "      <td>ALS</td>\n",
       "      <td>1</td>\n",
       "      <td>recip_rank</td>\n",
       "      <td>0.018519</td>\n",
       "    </tr>\n",
       "    <tr>\n",
       "      <th>2</th>\n",
       "      <td>ALS</td>\n",
       "      <td>1</td>\n",
       "      <td>ndcg</td>\n",
       "      <td>0.057921</td>\n",
       "    </tr>\n",
       "    <tr>\n",
       "      <th>3</th>\n",
       "      <td>ALS</td>\n",
       "      <td>3</td>\n",
       "      <td>precision</td>\n",
       "      <td>0.000000</td>\n",
       "    </tr>\n",
       "    <tr>\n",
       "      <th>4</th>\n",
       "      <td>ALS</td>\n",
       "      <td>3</td>\n",
       "      <td>recip_rank</td>\n",
       "      <td>0.000000</td>\n",
       "    </tr>\n",
       "  </tbody>\n",
       "</table>\n",
       "</div>"
      ],
      "text/plain": [
       "  algorithm  user      metric       val\n",
       "0       ALS     1   precision  0.010000\n",
       "1       ALS     1  recip_rank  0.018519\n",
       "2       ALS     1        ndcg  0.057921\n",
       "3       ALS     3   precision  0.000000\n",
       "4       ALS     3  recip_rank  0.000000"
      ]
     },
     "execution_count": 15,
     "metadata": {},
     "output_type": "execute_result"
    }
   ],
   "source": [
    "pltData = (results.drop(columns=['nrecs', 'ntruth']).stack()).reset_index()\n",
    "pltData.columns = ['algorithm', 'user', 'metric', 'val']\n",
    "pltData.head()"
   ]
  },
  {
   "cell_type": "markdown",
   "id": "1338225d",
   "metadata": {
    "papermill": {
     "duration": 0.080607,
     "end_time": "2021-12-09T06:14:01.431759",
     "exception": false,
     "start_time": "2021-12-09T06:14:01.351152",
     "status": "completed"
    },
    "tags": []
   },
   "source": [
    "We need to determine if the differences we observe in the performances of the algorithms for the various metrics are statistically significant. To achieve this, we will need to use either a parametric or non-parametric statistical test for comparing the differences. We will consider a parametric test - repeated ANOVA measure cause our sample groups are correlated."
   ]
  },
  {
   "cell_type": "code",
   "execution_count": 16,
   "id": "227ef161",
   "metadata": {
    "execution": {
     "iopub.execute_input": "2021-12-09T06:14:01.607396Z",
     "iopub.status.busy": "2021-12-09T06:14:01.605763Z",
     "iopub.status.idle": "2021-12-09T06:14:32.092230Z",
     "shell.execute_reply": "2021-12-09T06:14:32.092230Z"
    },
    "papermill": {
     "duration": 30.569161,
     "end_time": "2021-12-09T06:14:32.092230",
     "exception": false,
     "start_time": "2021-12-09T06:14:01.523069",
     "status": "completed"
    },
    "tags": []
   },
   "outputs": [
    {
     "data": {
      "image/png": "[encoded data removed]",
      "text/plain": [
       "<Figure size 777.6x216 with 3 Axes>"
      ]
     },
     "metadata": {
      "needs_background": "light"
     },
     "output_type": "display_data"
    }
   ],
   "source": [
    "g = sns.catplot(x = \"algorithm\", y = \"val\", data = pltData, kind=\"bar\", col = \"metric\", aspect=1.2, height=3, sharey=False)"
   ]
  },
  {
   "cell_type": "markdown",
   "id": "45d33cde",
   "metadata": {
    "papermill": {
     "duration": 0.081032,
     "end_time": "2021-12-09T06:14:32.255262",
     "exception": false,
     "start_time": "2021-12-09T06:14:32.174230",
     "status": "completed"
    },
    "tags": []
   },
   "source": [
    "### Statistical Testing"
   ]
  },
  {
   "cell_type": "markdown",
   "id": "944386ad",
   "metadata": {
    "papermill": {
     "duration": 0.081971,
     "end_time": "2021-12-09T06:14:32.422229",
     "exception": false,
     "start_time": "2021-12-09T06:14:32.340258",
     "status": "completed"
    },
    "tags": []
   },
   "source": [
    "We will now examine these metrics in more detail and test for statistical significance.  Best practice for statistical testing for recommender systems is still a work in progress, but this method avoids most of the validity problems we know about.\n",
    "\n",
    "The Friedman $\\chi^2$ test will test the null hypothesis that there is no difference between algorithms in terms of their performance."
   ]
  },
  {
   "cell_type": "code",
   "execution_count": 17,
   "id": "c4bfa64c",
   "metadata": {
    "execution": {
     "iopub.execute_input": "2021-12-09T06:14:32.589446Z",
     "iopub.status.busy": "2021-12-09T06:14:32.589446Z",
     "iopub.status.idle": "2021-12-09T06:14:32.599451Z",
     "shell.execute_reply": "2021-12-09T06:14:32.600478Z"
    },
    "papermill": {
     "duration": 0.096037,
     "end_time": "2021-12-09T06:14:32.600478",
     "exception": false,
     "start_time": "2021-12-09T06:14:32.504441",
     "status": "completed"
    },
    "tags": []
   },
   "outputs": [],
   "source": [
    "def metric_friedman(metric):\n",
    "    groups = [df[metric] for a, df in results.groupby('algorithm')]\n",
    "\n",
    "    stat, p = friedmanchisquare(*groups)\n",
    "    return pd.Series({'stat': stat, 'p': p}, name=metric)"
   ]
  },
  {
   "cell_type": "markdown",
   "id": "e9c6c29e",
   "metadata": {
    "papermill": {
     "duration": 0.081031,
     "end_time": "2021-12-09T06:14:32.761479",
     "exception": false,
     "start_time": "2021-12-09T06:14:32.680448",
     "status": "completed"
    },
    "tags": []
   },
   "source": [
    "If the test detects significance, we have at least one pair of different algorithms - but which pairs?  Unfortunately, the good tests aren't readily available in scipy and friends, so we're going to take a conservative approch and perform pairwise Wilconxon signed-rank tests with a Bonferroni adjustment."
   ]
  },
  {
   "cell_type": "code",
   "execution_count": 18,
   "id": "e817f890",
   "metadata": {
    "execution": {
     "iopub.execute_input": "2021-12-09T06:14:32.929907Z",
     "iopub.status.busy": "2021-12-09T06:14:32.929907Z",
     "iopub.status.idle": "2021-12-09T06:14:32.941909Z",
     "shell.execute_reply": "2021-12-09T06:14:32.941909Z"
    },
    "papermill": {
     "duration": 0.098751,
     "end_time": "2021-12-09T06:14:32.941909",
     "exception": false,
     "start_time": "2021-12-09T06:14:32.843158",
     "status": "completed"
    },
    "tags": []
   },
   "outputs": [],
   "source": [
    "pairs = pd.DataFrame.from_records(combinations(rec_algos, 2), columns=['A1', 'A2'])\n",
    "def am_wilcox(metric, p_scale = len(pairs)):\n",
    "    def compute(df):\n",
    "        vs1 = results.loc[df['A1'], metric]\n",
    "        vs2 = results.loc[df['A2'], metric]\n",
    "        diff = (vs1 - vs2).mean()\n",
    "        stat, p = wilcoxon(vs1, vs2)\n",
    "        return pd.Series({'diff': diff, 'stat': stat, 'p': p, 'adj_p': p * p_scale})\n",
    "    scores = pairs.apply(compute, axis=1)\n",
    "    return pairs.join(scores)"
   ]
  },
  {
   "cell_type": "markdown",
   "id": "2100d861",
   "metadata": {
    "papermill": {
     "duration": 0.081027,
     "end_time": "2021-12-09T06:14:33.104940",
     "exception": false,
     "start_time": "2021-12-09T06:14:33.023913",
     "status": "completed"
    },
    "tags": []
   },
   "source": [
    "## Precision"
   ]
  },
  {
   "cell_type": "markdown",
   "id": "8ff5b49c",
   "metadata": {
    "tags": [
     "papermill-error-cell-tag"
    ]
   },
   "source": [
    "<span id=\"papermill-error-cell\" style=\"color:red; font-family:Helvetica Neue, Helvetica, Arial, sans-serif; font-size:2em;\">Execution using papermill encountered an exception here and stopped:</span>"
   ]
  },
  {
   "cell_type": "code",
   "execution_count": 19,
   "id": "20ddbc01",
   "metadata": {
    "execution": {
     "iopub.execute_input": "2021-12-09T06:14:33.273594Z",
     "iopub.status.busy": "2021-12-09T06:14:33.273594Z",
     "iopub.status.idle": "2021-12-09T06:14:33.643722Z",
     "shell.execute_reply": "2021-12-09T06:14:33.643722Z"
    },
    "papermill": {
     "duration": 0.455811,
     "end_time": "2021-12-09T06:14:33.644753",
     "exception": true,
     "start_time": "2021-12-09T06:14:33.188942",
     "status": "failed"
    },
    "tags": []
   },
   "outputs": [
    {
     "ename": "ValueError",
     "evalue": "Unequal N in friedmanchisquare.  Aborting.",
     "output_type": "error",
     "traceback": [
      "\u001b[1;31m---------------------------------------------------------------------------\u001b[0m",
      "\u001b[1;31mValueError\u001b[0m                                Traceback (most recent call last)",
      "\u001b[1;32mC:\\Users\\MICHAE~1\\AppData\\Local\\Temp/ipykernel_13356/1036734720.py\u001b[0m in \u001b[0;36m<module>\u001b[1;34m\u001b[0m\n\u001b[1;32m----> 1\u001b[1;33m \u001b[0mmetric_friedman\u001b[0m\u001b[1;33m(\u001b[0m\u001b[1;34m'precision'\u001b[0m\u001b[1;33m)\u001b[0m\u001b[1;33m\u001b[0m\u001b[1;33m\u001b[0m\u001b[0m\n\u001b[0m",
      "\u001b[1;32mC:\\Users\\MICHAE~1\\AppData\\Local\\Temp/ipykernel_13356/4066632666.py\u001b[0m in \u001b[0;36mmetric_friedman\u001b[1;34m(metric)\u001b[0m\n\u001b[0;32m      2\u001b[0m     \u001b[0mgroups\u001b[0m \u001b[1;33m=\u001b[0m \u001b[1;33m[\u001b[0m\u001b[0mdf\u001b[0m\u001b[1;33m[\u001b[0m\u001b[0mmetric\u001b[0m\u001b[1;33m]\u001b[0m \u001b[1;32mfor\u001b[0m \u001b[0ma\u001b[0m\u001b[1;33m,\u001b[0m \u001b[0mdf\u001b[0m \u001b[1;32min\u001b[0m \u001b[0mresults\u001b[0m\u001b[1;33m.\u001b[0m\u001b[0mgroupby\u001b[0m\u001b[1;33m(\u001b[0m\u001b[1;34m'algorithm'\u001b[0m\u001b[1;33m)\u001b[0m\u001b[1;33m]\u001b[0m\u001b[1;33m\u001b[0m\u001b[1;33m\u001b[0m\u001b[0m\n\u001b[0;32m      3\u001b[0m \u001b[1;33m\u001b[0m\u001b[0m\n\u001b[1;32m----> 4\u001b[1;33m     \u001b[0mstat\u001b[0m\u001b[1;33m,\u001b[0m \u001b[0mp\u001b[0m \u001b[1;33m=\u001b[0m \u001b[0mfriedmanchisquare\u001b[0m\u001b[1;33m(\u001b[0m\u001b[1;33m*\u001b[0m\u001b[0mgroups\u001b[0m\u001b[1;33m)\u001b[0m\u001b[1;33m\u001b[0m\u001b[1;33m\u001b[0m\u001b[0m\n\u001b[0m\u001b[0;32m      5\u001b[0m     \u001b[1;32mreturn\u001b[0m \u001b[0mpd\u001b[0m\u001b[1;33m.\u001b[0m\u001b[0mSeries\u001b[0m\u001b[1;33m(\u001b[0m\u001b[1;33m{\u001b[0m\u001b[1;34m'stat'\u001b[0m\u001b[1;33m:\u001b[0m \u001b[0mstat\u001b[0m\u001b[1;33m,\u001b[0m \u001b[1;34m'p'\u001b[0m\u001b[1;33m:\u001b[0m \u001b[0mp\u001b[0m\u001b[1;33m}\u001b[0m\u001b[1;33m,\u001b[0m \u001b[0mname\u001b[0m\u001b[1;33m=\u001b[0m\u001b[0mmetric\u001b[0m\u001b[1;33m)\u001b[0m\u001b[1;33m\u001b[0m\u001b[1;33m\u001b[0m\u001b[0m\n",
      "\u001b[1;32m~\\Miniconda3\\envs\\lk-demo\\lib\\site-packages\\scipy\\stats\\stats.py\u001b[0m in \u001b[0;36mfriedmanchisquare\u001b[1;34m(*args)\u001b[0m\n\u001b[0;32m   7956\u001b[0m     \u001b[1;32mfor\u001b[0m \u001b[0mi\u001b[0m \u001b[1;32min\u001b[0m \u001b[0mrange\u001b[0m\u001b[1;33m(\u001b[0m\u001b[1;36m1\u001b[0m\u001b[1;33m,\u001b[0m \u001b[0mk\u001b[0m\u001b[1;33m)\u001b[0m\u001b[1;33m:\u001b[0m\u001b[1;33m\u001b[0m\u001b[1;33m\u001b[0m\u001b[0m\n\u001b[0;32m   7957\u001b[0m         \u001b[1;32mif\u001b[0m \u001b[0mlen\u001b[0m\u001b[1;33m(\u001b[0m\u001b[0margs\u001b[0m\u001b[1;33m[\u001b[0m\u001b[0mi\u001b[0m\u001b[1;33m]\u001b[0m\u001b[1;33m)\u001b[0m \u001b[1;33m!=\u001b[0m \u001b[0mn\u001b[0m\u001b[1;33m:\u001b[0m\u001b[1;33m\u001b[0m\u001b[1;33m\u001b[0m\u001b[0m\n\u001b[1;32m-> 7958\u001b[1;33m             \u001b[1;32mraise\u001b[0m \u001b[0mValueError\u001b[0m\u001b[1;33m(\u001b[0m\u001b[1;34m'Unequal N in friedmanchisquare.  Aborting.'\u001b[0m\u001b[1;33m)\u001b[0m\u001b[1;33m\u001b[0m\u001b[1;33m\u001b[0m\u001b[0m\n\u001b[0m\u001b[0;32m   7959\u001b[0m \u001b[1;33m\u001b[0m\u001b[0m\n\u001b[0;32m   7960\u001b[0m     \u001b[1;31m# Rank data\u001b[0m\u001b[1;33m\u001b[0m\u001b[1;33m\u001b[0m\u001b[0m\n",
      "\u001b[1;31mValueError\u001b[0m: Unequal N in friedmanchisquare.  Aborting."
     ]
    }
   ],
   "source": [
    "metric_friedman('precision')"
   ]
  },
  {
   "cell_type": "markdown",
   "id": "56221f9b",
   "metadata": {
    "papermill": {
     "duration": null,
     "end_time": null,
     "exception": null,
     "start_time": null,
     "status": "pending"
    },
    "tags": []
   },
   "source": [
    "This indicates a statistically significant difference exists - but where is it?\n",
    "\n",
    "To answer that question, we need a post-hoc test. "
   ]
  },
  {
   "cell_type": "code",
   "execution_count": null,
   "id": "e12ad25c",
   "metadata": {
    "papermill": {
     "duration": null,
     "end_time": null,
     "exception": null,
     "start_time": null,
     "status": "pending"
    },
    "tags": []
   },
   "outputs": [],
   "source": [
    "am_wilcox('precision').sort_values('diff', ascending=False)"
   ]
  },
  {
   "cell_type": "markdown",
   "id": "74bf4a60",
   "metadata": {
    "papermill": {
     "duration": null,
     "end_time": null,
     "exception": null,
     "start_time": null,
     "status": "pending"
    },
    "tags": []
   },
   "source": [
    "We can consider pairs with an adjusted $p$ value less than 0.05 (5.0e-2) to be statistically significant.  However, we have so many data points, the substance of significance is questionable.  Pay attention to the 'diff' column, which is the difference between A1 and A2 (how much A1 outperforms A2)."
   ]
  },
  {
   "cell_type": "markdown",
   "id": "47f8483a",
   "metadata": {
    "papermill": {
     "duration": null,
     "end_time": null,
     "exception": null,
     "start_time": null,
     "status": "pending"
    },
    "tags": []
   },
   "source": [
    "### nDCG"
   ]
  },
  {
   "cell_type": "markdown",
   "id": "9c243343",
   "metadata": {
    "papermill": {
     "duration": null,
     "end_time": null,
     "exception": null,
     "start_time": null,
     "status": "pending"
    },
    "tags": []
   },
   "source": [
    "Now let's do the same for nDCG:"
   ]
  },
  {
   "cell_type": "code",
   "execution_count": null,
   "id": "ee8a7ed7",
   "metadata": {
    "papermill": {
     "duration": null,
     "end_time": null,
     "exception": null,
     "start_time": null,
     "status": "pending"
    },
    "tags": []
   },
   "outputs": [],
   "source": [
    "metric_friedman('ndcg')"
   ]
  },
  {
   "cell_type": "code",
   "execution_count": null,
   "id": "487a937e",
   "metadata": {
    "papermill": {
     "duration": null,
     "end_time": null,
     "exception": null,
     "start_time": null,
     "status": "pending"
    },
    "tags": []
   },
   "outputs": [],
   "source": [
    "am_wilcox('ndcg').sort_values('diff', ascending=False)"
   ]
  },
  {
   "cell_type": "markdown",
   "id": "41164c24",
   "metadata": {
    "papermill": {
     "duration": null,
     "end_time": null,
     "exception": null,
     "start_time": null,
     "status": "pending"
    },
    "tags": []
   },
   "source": [
    "### Reciprocal Rank\n",
    "\n",
    "We'll do this also for reciprocal rank (what is aggregated to compute MRR):"
   ]
  },
  {
   "cell_type": "code",
   "execution_count": null,
   "id": "599a3e3c",
   "metadata": {
    "papermill": {
     "duration": null,
     "end_time": null,
     "exception": null,
     "start_time": null,
     "status": "pending"
    },
    "tags": []
   },
   "outputs": [],
   "source": [
    "metric_friedman('recip_rank')"
   ]
  },
  {
   "cell_type": "code",
   "execution_count": null,
   "id": "0bb07137",
   "metadata": {
    "papermill": {
     "duration": null,
     "end_time": null,
     "exception": null,
     "start_time": null,
     "status": "pending"
    },
    "tags": []
   },
   "outputs": [],
   "source": [
    "am_wilcox('recip_rank').sort_values('diff', ascending=False)"
   ]
  },
  {
   "cell_type": "markdown",
   "id": "faf3ae3e",
   "metadata": {
    "papermill": {
     "duration": null,
     "end_time": null,
     "exception": null,
     "start_time": null,
     "status": "pending"
    },
    "tags": []
   },
   "source": [
    "## Prediction RMSE\n",
    "\n",
    "We will also look at the prediction RMSE."
   ]
  },
  {
   "cell_type": "code",
   "execution_count": null,
   "id": "750d0ae0",
   "metadata": {
    "papermill": {
     "duration": null,
     "end_time": null,
     "exception": null,
     "start_time": null,
     "status": "pending"
    },
    "tags": []
   },
   "outputs": [],
   "source": [
    "user_rmse = preds.groupby(['algorithm', 'user']).apply(lambda df: rmse(df['prediction'], df['rating']))\n",
    "user_rmse = user_rmse.reset_index(name='RMSE')"
   ]
  },
  {
   "cell_type": "code",
   "execution_count": null,
   "id": "840b4372",
   "metadata": {
    "papermill": {
     "duration": null,
     "end_time": null,
     "exception": null,
     "start_time": null,
     "status": "pending"
    },
    "tags": []
   },
   "outputs": [],
   "source": [
    "sns.catplot(x='algorithm', y='RMSE', data=user_rmse, kind='bar')"
   ]
  },
  {
   "cell_type": "code",
   "execution_count": null,
   "id": "afed8b1a",
   "metadata": {
    "papermill": {
     "duration": null,
     "end_time": null,
     "exception": null,
     "start_time": null,
     "status": "pending"
    },
    "tags": []
   },
   "outputs": [],
   "source": []
  }
 ],
 "metadata": {
  "kernelspec": {
   "display_name": "Python 3",
   "language": "python",
   "name": "python3"
  },
  "language_info": {
   "codemirror_mode": {
    "name": "ipython",
    "version": 3
   },
   "file_extension": ".py",
   "mimetype": "text/x-python",
   "name": "python",
   "nbconvert_exporter": "python",
   "pygments_lexer": "ipython3",
   "version": "3.9.7"
  },
  "papermill": {
   "default_parameters": {},
   "duration": 199.572014,
   "end_time": "2021-12-09T06:14:34.394577",
   "environment_variables": {},
   "exception": true,
   "input_path": "eval-report.ipynb",
   "output_path": "eval-report.ml20m.ipynb",
   "parameters": {
    "dataset": "ml20m"
   },
   "start_time": "2021-12-09T06:11:14.822563",
   "version": "2.3.3"
  }
 },
 "nbformat": 4,
 "nbformat_minor": 5
}