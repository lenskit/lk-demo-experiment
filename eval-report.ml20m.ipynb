{
 "cells": [
  {
   "cell_type": "markdown",
   "id": "93740f9f",
   "metadata": {
    "papermill": {
     "duration": 0.010406,
     "end_time": "2024-12-18T07:39:52.701838",
     "exception": false,
     "start_time": "2024-12-18T07:39:52.691432",
     "status": "completed"
    },
    "tags": []
   },
   "source": [
    "# Evaluation Analysis for Recommender Output"
   ]
  },
  {
   "cell_type": "markdown",
   "id": "678b1137",
   "metadata": {
    "papermill": {
     "duration": 0.001205,
     "end_time": "2024-12-18T07:39:52.704314",
     "exception": false,
     "start_time": "2024-12-18T07:39:52.703109",
     "status": "completed"
    },
    "tags": []
   },
   "source": [
    "In this section we will analyze and compare the generated recommendations and predictions from a predefined list of algorithms with the goal of assessing the performance of each algorithm with respect to a metric. In other words, we would rank the algorithms for each metric considered with respect to performance."
   ]
  },
  {
   "cell_type": "markdown",
   "id": "e1501de5",
   "metadata": {
    "papermill": {
     "duration": 0.001033,
     "end_time": "2024-12-18T07:39:52.706459",
     "exception": false,
     "start_time": "2024-12-18T07:39:52.705426",
     "status": "completed"
    },
    "tags": []
   },
   "source": [
    "## Setup"
   ]
  },
  {
   "cell_type": "markdown",
   "id": "78e0ea5a",
   "metadata": {
    "papermill": {
     "duration": 0.001038,
     "end_time": "2024-12-18T07:39:52.708520",
     "exception": false,
     "start_time": "2024-12-18T07:39:52.707482",
     "status": "completed"
    },
    "tags": []
   },
   "source": [
    "Below are the list of packages required to successfully run the analysis. They are divided into partitions to signify their specific task.<br>\n",
    "We need the pathlib package for working with files and folders"
   ]
  },
  {
   "cell_type": "code",
   "execution_count": 1,
   "id": "aa9b9024",
   "metadata": {
    "execution": {
     "iopub.execute_input": "2024-12-18T07:39:52.711249Z",
     "iopub.status.busy": "2024-12-18T07:39:52.711105Z",
     "iopub.status.idle": "2024-12-18T07:39:52.713306Z",
     "shell.execute_reply": "2024-12-18T07:39:52.713007Z"
    },
    "papermill": {
     "duration": 0.004269,
     "end_time": "2024-12-18T07:39:52.713828",
     "exception": false,
     "start_time": "2024-12-18T07:39:52.709559",
     "status": "completed"
    },
    "tags": []
   },
   "outputs": [],
   "source": [
    "from pathlib import Path\n",
    "import json"
   ]
  },
  {
   "cell_type": "markdown",
   "id": "4a21d11d",
   "metadata": {
    "papermill": {
     "duration": 0.001067,
     "end_time": "2024-12-18T07:39:52.716017",
     "exception": false,
     "start_time": "2024-12-18T07:39:52.714950",
     "status": "completed"
    },
    "tags": []
   },
   "source": [
    "We would use the pandas for analyzing and manipulating our data while seaborn and matplotlib are used for data visualization. statsmodels.graphics.gofplots and scipy.stats.shapiro are used for normality check. Scipy.stats.friedmanchisquare is a non-parametric test used to determine the statistical significance in metric results and the wilcoxon test is used for pairwise comparison of sample data."
   ]
  },
  {
   "cell_type": "code",
   "execution_count": 2,
   "id": "a72bade7",
   "metadata": {
    "execution": {
     "iopub.execute_input": "2024-12-18T07:39:52.718668Z",
     "iopub.status.busy": "2024-12-18T07:39:52.718562Z",
     "iopub.status.idle": "2024-12-18T07:39:53.178825Z",
     "shell.execute_reply": "2024-12-18T07:39:53.178442Z"
    },
    "lines_to_next_cell": 2,
    "papermill": {
     "duration": 0.462511,
     "end_time": "2024-12-18T07:39:53.179653",
     "exception": false,
     "start_time": "2024-12-18T07:39:52.717142",
     "status": "completed"
    },
    "tags": []
   },
   "outputs": [],
   "source": [
    "import pandas as pd\n",
    "import seaborn as sns\n",
    "import matplotlib.pyplot as plt\n",
    "from statsmodels.graphics.gofplots import qqplot\n",
    "from scipy.stats import shapiro\n",
    "from scipy.stats import friedmanchisquare, wilcoxon\n",
    "from itertools import combinations"
   ]
  },
  {
   "cell_type": "markdown",
   "id": "e3a36d16",
   "metadata": {
    "papermill": {
     "duration": 0.001232,
     "end_time": "2024-12-18T07:39:53.182272",
     "exception": false,
     "start_time": "2024-12-18T07:39:53.181040",
     "status": "completed"
    },
    "tags": []
   },
   "source": [
    "Import the LensKit metrics for analysis:"
   ]
  },
  {
   "cell_type": "code",
   "execution_count": 3,
   "id": "14187914",
   "metadata": {
    "execution": {
     "iopub.execute_input": "2024-12-18T07:39:53.185218Z",
     "iopub.status.busy": "2024-12-18T07:39:53.185108Z",
     "iopub.status.idle": "2024-12-18T07:39:53.811837Z",
     "shell.execute_reply": "2024-12-18T07:39:53.811287Z"
    },
    "papermill": {
     "duration": 0.629213,
     "end_time": "2024-12-18T07:39:53.812668",
     "exception": false,
     "start_time": "2024-12-18T07:39:53.183455",
     "status": "completed"
    },
    "tags": []
   },
   "outputs": [],
   "source": [
    "from lenskit.data import ItemListCollection, UserIDKey\n",
    "from lenskit.metrics import RunAnalysis, RMSE, NDCG, RecipRank, RBP"
   ]
  },
  {
   "cell_type": "markdown",
   "id": "8a2f1201",
   "metadata": {
    "papermill": {
     "duration": 0.009004,
     "end_time": "2024-12-18T07:39:53.823048",
     "exception": false,
     "start_time": "2024-12-18T07:39:53.814044",
     "status": "completed"
    },
    "tags": []
   },
   "source": [
    "## Load Data\n",
    "\n",
    "The recommendations are in `runs`, and we will need to reassemble the test data from `test`."
   ]
  },
  {
   "cell_type": "code",
   "execution_count": 4,
   "id": "322018fa",
   "metadata": {
    "execution": {
     "iopub.execute_input": "2024-12-18T07:39:53.826220Z",
     "iopub.status.busy": "2024-12-18T07:39:53.826100Z",
     "iopub.status.idle": "2024-12-18T07:39:53.828089Z",
     "shell.execute_reply": "2024-12-18T07:39:53.827746Z"
    },
    "papermill": {
     "duration": 0.004334,
     "end_time": "2024-12-18T07:39:53.828656",
     "exception": false,
     "start_time": "2024-12-18T07:39:53.824322",
     "status": "completed"
    },
    "tags": [
     "parameters"
    ]
   },
   "outputs": [],
   "source": [
    "dataset = \"ml100k\""
   ]
  },
  {
   "cell_type": "code",
   "execution_count": 5,
   "id": "2ecc2b1c",
   "metadata": {
    "execution": {
     "iopub.execute_input": "2024-12-18T07:39:53.831484Z",
     "iopub.status.busy": "2024-12-18T07:39:53.831411Z",
     "iopub.status.idle": "2024-12-18T07:39:53.832828Z",
     "shell.execute_reply": "2024-12-18T07:39:53.832622Z"
    },
    "papermill": {
     "duration": 0.003413,
     "end_time": "2024-12-18T07:39:53.833249",
     "exception": false,
     "start_time": "2024-12-18T07:39:53.829836",
     "status": "completed"
    },
    "tags": [
     "injected-parameters"
    ]
   },
   "outputs": [],
   "source": [
    "# Parameters\n",
    "dataset = \"ml20m\"\n"
   ]
  },
  {
   "cell_type": "code",
   "execution_count": 6,
   "id": "bcc16ac2",
   "metadata": {
    "execution": {
     "iopub.execute_input": "2024-12-18T07:39:53.836074Z",
     "iopub.status.busy": "2024-12-18T07:39:53.835995Z",
     "iopub.status.idle": "2024-12-18T07:39:53.837427Z",
     "shell.execute_reply": "2024-12-18T07:39:53.837226Z"
    },
    "papermill": {
     "duration": 0.003468,
     "end_time": "2024-12-18T07:39:53.837885",
     "exception": false,
     "start_time": "2024-12-18T07:39:53.834417",
     "status": "completed"
    },
    "tags": []
   },
   "outputs": [],
   "source": [
    "output_root = Path(\"runs\")"
   ]
  },
  {
   "cell_type": "code",
   "execution_count": 7,
   "id": "ceb1ee76",
   "metadata": {
    "execution": {
     "iopub.execute_input": "2024-12-18T07:39:53.840418Z",
     "iopub.status.busy": "2024-12-18T07:39:53.840346Z",
     "iopub.status.idle": "2024-12-18T07:39:53.841912Z",
     "shell.execute_reply": "2024-12-18T07:39:53.841706Z"
    },
    "papermill": {
     "duration": 0.003178,
     "end_time": "2024-12-18T07:39:53.842218",
     "exception": false,
     "start_time": "2024-12-18T07:39:53.839040",
     "status": "completed"
    },
    "tags": []
   },
   "outputs": [],
   "source": [
    "dirs = [fld for fld in output_root.glob(f'{dataset}-*')]"
   ]
  },
  {
   "cell_type": "code",
   "execution_count": 8,
   "id": "ba136ca4",
   "metadata": {
    "execution": {
     "iopub.execute_input": "2024-12-18T07:39:53.845100Z",
     "iopub.status.busy": "2024-12-18T07:39:53.844958Z",
     "iopub.status.idle": "2024-12-18T07:40:08.574207Z",
     "shell.execute_reply": "2024-12-18T07:40:08.573578Z"
    },
    "papermill": {
     "duration": 14.731556,
     "end_time": "2024-12-18T07:40:08.575091",
     "exception": false,
     "start_time": "2024-12-18T07:39:53.843535",
     "status": "completed"
    },
    "tags": []
   },
   "outputs": [],
   "source": [
    "recs = ItemListCollection(['model', 'user_id'], index=False)\n",
    "for fld in dirs:\n",
    "    for file in fld.glob(\"recs-*\"):\n",
    "        rec = ItemListCollection.load_parquet(file)\n",
    "        recs.add_from(rec, model=fld.name.split(\"-\")[1])"
   ]
  },
  {
   "cell_type": "code",
   "execution_count": 9,
   "id": "0a0716f7",
   "metadata": {
    "execution": {
     "iopub.execute_input": "2024-12-18T07:40:08.578405Z",
     "iopub.status.busy": "2024-12-18T07:40:08.578307Z",
     "iopub.status.idle": "2024-12-18T07:40:08.656064Z",
     "shell.execute_reply": "2024-12-18T07:40:08.655712Z"
    },
    "papermill": {
     "duration": 0.080138,
     "end_time": "2024-12-18T07:40:08.656640",
     "exception": false,
     "start_time": "2024-12-18T07:40:08.576502",
     "status": "completed"
    },
    "tags": []
   },
   "outputs": [
    {
     "data": {
      "text/plain": [
       "['ALS', 'Bias', 'IALS', 'IIE', 'III', 'Pop', 'UUE']"
      ]
     },
     "execution_count": 9,
     "metadata": {},
     "output_type": "execute_result"
    }
   ],
   "source": [
    "rec_algos = sorted(set(a for (a, _u) in recs.keys()))\n",
    "rec_algos"
   ]
  },
  {
   "cell_type": "code",
   "execution_count": 10,
   "id": "71d6c2ed",
   "metadata": {
    "execution": {
     "iopub.execute_input": "2024-12-18T07:40:08.659824Z",
     "iopub.status.busy": "2024-12-18T07:40:08.659737Z",
     "iopub.status.idle": "2024-12-18T07:40:21.792282Z",
     "shell.execute_reply": "2024-12-18T07:40:21.791689Z"
    },
    "papermill": {
     "duration": 13.13555,
     "end_time": "2024-12-18T07:40:21.793537",
     "exception": false,
     "start_time": "2024-12-18T07:40:08.657987",
     "status": "completed"
    },
    "tags": []
   },
   "outputs": [],
   "source": [
    "preds = ItemListCollection(['model', 'user_id'], index=False)\n",
    "for fld in dirs:\n",
    "    for file in fld.glob(\"pred-*\"):\n",
    "        pred = ItemListCollection.load_parquet(file)\n",
    "        preds.add_from(pred, model=fld.name.split(\"-\")[1])"
   ]
  },
  {
   "cell_type": "markdown",
   "id": "c1ffa3a5",
   "metadata": {
    "papermill": {
     "duration": 0.009104,
     "end_time": "2024-12-18T07:40:21.804140",
     "exception": false,
     "start_time": "2024-12-18T07:40:21.795036",
     "status": "completed"
    },
    "tags": []
   },
   "source": [
    "We need to load the test data so that we have the ground truths for computing accuracy"
   ]
  },
  {
   "cell_type": "code",
   "execution_count": 11,
   "id": "131e4d84",
   "metadata": {
    "execution": {
     "iopub.execute_input": "2024-12-18T07:40:21.807261Z",
     "iopub.status.busy": "2024-12-18T07:40:21.807171Z",
     "iopub.status.idle": "2024-12-18T07:40:21.809108Z",
     "shell.execute_reply": "2024-12-18T07:40:21.808876Z"
    },
    "papermill": {
     "duration": 0.004153,
     "end_time": "2024-12-18T07:40:21.809517",
     "exception": false,
     "start_time": "2024-12-18T07:40:21.805364",
     "status": "completed"
    },
    "tags": []
   },
   "outputs": [],
   "source": [
    "split_root = Path(\"data-split\")\n",
    "split_dir = split_root / dataset"
   ]
  },
  {
   "cell_type": "code",
   "execution_count": 12,
   "id": "c38bfbfc",
   "metadata": {
    "execution": {
     "iopub.execute_input": "2024-12-18T07:40:21.812315Z",
     "iopub.status.busy": "2024-12-18T07:40:21.812254Z",
     "iopub.status.idle": "2024-12-18T07:40:29.138827Z",
     "shell.execute_reply": "2024-12-18T07:40:29.138228Z"
    },
    "papermill": {
     "duration": 7.328916,
     "end_time": "2024-12-18T07:40:29.139619",
     "exception": false,
     "start_time": "2024-12-18T07:40:21.810703",
     "status": "completed"
    },
    "tags": []
   },
   "outputs": [],
   "source": [
    "test = ItemListCollection(UserIDKey)\n",
    "for file in split_dir.glob(\"test-*.parquet\"):\n",
    "    df = pd.read_parquet(file)\n",
    "    part = ItemListCollection.from_df(df, UserIDKey)\n",
    "    test.add_from(part)"
   ]
  },
  {
   "cell_type": "markdown",
   "id": "d33a9869",
   "metadata": {
    "papermill": {
     "duration": 0.00897,
     "end_time": "2024-12-18T07:40:29.150083",
     "exception": false,
     "start_time": "2024-12-18T07:40:29.141113",
     "status": "completed"
    },
    "tags": []
   },
   "source": [
    "## Top-N Metrics\n",
    "\n",
    "`RunListAnalysis` computes metrics for recommendation results and takes care of\n",
    "matching recommendations and ground truth."
   ]
  },
  {
   "cell_type": "code",
   "execution_count": 13,
   "id": "d648b629",
   "metadata": {
    "execution": {
     "iopub.execute_input": "2024-12-18T07:40:29.153069Z",
     "iopub.status.busy": "2024-12-18T07:40:29.152966Z",
     "iopub.status.idle": "2024-12-18T07:41:31.987664Z",
     "shell.execute_reply": "2024-12-18T07:41:31.987295Z"
    },
    "papermill": {
     "duration": 62.837969,
     "end_time": "2024-12-18T07:41:31.989300",
     "exception": false,
     "start_time": "2024-12-18T07:40:29.151331",
     "status": "completed"
    },
    "tags": []
   },
   "outputs": [
    {
     "name": "stderr",
     "output_type": "stream",
     "text": [
      "/home/mde48/lenskit/lk-demo-experiment/.venv/lib/python3.12/site-packages/lenskit/metrics/bulk.py:121: FutureWarning: The previous implementation of stack is deprecated and will be removed in a future version of pandas. See the What's New notes for pandas 2.1.0 for details. Specify future_stack=True to adopt the new implementation and silence this warning.\n",
      "  df = scores.groupby(list(keys)).agg([\"mean\", \"median\", \"std\"]).stack(level=0)\n"
     ]
    },
    {
     "data": {
      "text/html": [
       "<div>\n",
       "<style scoped>\n",
       "    .dataframe tbody tr th:only-of-type {\n",
       "        vertical-align: middle;\n",
       "    }\n",
       "\n",
       "    .dataframe tbody tr th {\n",
       "        vertical-align: top;\n",
       "    }\n",
       "\n",
       "    .dataframe thead th {\n",
       "        text-align: right;\n",
       "    }\n",
       "</style>\n",
       "<table border=\"1\" class=\"dataframe\">\n",
       "  <thead>\n",
       "    <tr style=\"text-align: right;\">\n",
       "      <th></th>\n",
       "      <th></th>\n",
       "      <th>mean</th>\n",
       "      <th>median</th>\n",
       "      <th>std</th>\n",
       "    </tr>\n",
       "    <tr>\n",
       "      <th>model</th>\n",
       "      <th></th>\n",
       "      <th></th>\n",
       "      <th></th>\n",
       "      <th></th>\n",
       "    </tr>\n",
       "  </thead>\n",
       "  <tbody>\n",
       "    <tr>\n",
       "      <th rowspan=\"3\" valign=\"top\">ALS</th>\n",
       "      <th>NDCG</th>\n",
       "      <td>0.030009</td>\n",
       "      <td>0.000000e+00</td>\n",
       "      <td>0.067112</td>\n",
       "    </tr>\n",
       "    <tr>\n",
       "      <th>RBP</th>\n",
       "      <td>0.012255</td>\n",
       "      <td>0.000000e+00</td>\n",
       "      <td>0.068008</td>\n",
       "    </tr>\n",
       "    <tr>\n",
       "      <th>RecipRank</th>\n",
       "      <td>0.036409</td>\n",
       "      <td>0.000000e+00</td>\n",
       "      <td>0.135516</td>\n",
       "    </tr>\n",
       "    <tr>\n",
       "      <th rowspan=\"3\" valign=\"top\">Bias</th>\n",
       "      <th>NDCG</th>\n",
       "      <td>0.050428</td>\n",
       "      <td>0.000000e+00</td>\n",
       "      <td>0.093690</td>\n",
       "    </tr>\n",
       "    <tr>\n",
       "      <th>RBP</th>\n",
       "      <td>0.033535</td>\n",
       "      <td>0.000000e+00</td>\n",
       "      <td>0.116508</td>\n",
       "    </tr>\n",
       "    <tr>\n",
       "      <th>RecipRank</th>\n",
       "      <td>0.079268</td>\n",
       "      <td>0.000000e+00</td>\n",
       "      <td>0.223669</td>\n",
       "    </tr>\n",
       "    <tr>\n",
       "      <th rowspan=\"3\" valign=\"top\">IALS</th>\n",
       "      <th>NDCG</th>\n",
       "      <td>0.263104</td>\n",
       "      <td>2.158821e-01</td>\n",
       "      <td>0.196731</td>\n",
       "    </tr>\n",
       "    <tr>\n",
       "      <th>RBP</th>\n",
       "      <td>0.118555</td>\n",
       "      <td>1.953368e-03</td>\n",
       "      <td>0.208535</td>\n",
       "    </tr>\n",
       "    <tr>\n",
       "      <th>RecipRank</th>\n",
       "      <td>0.258433</td>\n",
       "      <td>1.111111e-01</td>\n",
       "      <td>0.322053</td>\n",
       "    </tr>\n",
       "    <tr>\n",
       "      <th rowspan=\"3\" valign=\"top\">IIE</th>\n",
       "      <th>NDCG</th>\n",
       "      <td>0.001832</td>\n",
       "      <td>0.000000e+00</td>\n",
       "      <td>0.011160</td>\n",
       "    </tr>\n",
       "    <tr>\n",
       "      <th>RBP</th>\n",
       "      <td>0.000033</td>\n",
       "      <td>0.000000e+00</td>\n",
       "      <td>0.002726</td>\n",
       "    </tr>\n",
       "    <tr>\n",
       "      <th>RecipRank</th>\n",
       "      <td>0.000771</td>\n",
       "      <td>0.000000e+00</td>\n",
       "      <td>0.007893</td>\n",
       "    </tr>\n",
       "    <tr>\n",
       "      <th rowspan=\"3\" valign=\"top\">III</th>\n",
       "      <th>NDCG</th>\n",
       "      <td>0.219961</td>\n",
       "      <td>1.488015e-01</td>\n",
       "      <td>0.211054</td>\n",
       "    </tr>\n",
       "    <tr>\n",
       "      <th>RBP</th>\n",
       "      <td>0.143408</td>\n",
       "      <td>4.882812e-04</td>\n",
       "      <td>0.235054</td>\n",
       "    </tr>\n",
       "    <tr>\n",
       "      <th>RecipRank</th>\n",
       "      <td>0.284756</td>\n",
       "      <td>9.090909e-02</td>\n",
       "      <td>0.367349</td>\n",
       "    </tr>\n",
       "    <tr>\n",
       "      <th rowspan=\"3\" valign=\"top\">Pop</th>\n",
       "      <th>NDCG</th>\n",
       "      <td>0.135319</td>\n",
       "      <td>9.029933e-02</td>\n",
       "      <td>0.148742</td>\n",
       "    </tr>\n",
       "    <tr>\n",
       "      <th>RBP</th>\n",
       "      <td>0.065624</td>\n",
       "      <td>1.490116e-08</td>\n",
       "      <td>0.157753</td>\n",
       "    </tr>\n",
       "    <tr>\n",
       "      <th>RecipRank</th>\n",
       "      <td>0.160239</td>\n",
       "      <td>3.846154e-02</td>\n",
       "      <td>0.278732</td>\n",
       "    </tr>\n",
       "    <tr>\n",
       "      <th rowspan=\"3\" valign=\"top\">UUE</th>\n",
       "      <th>NDCG</th>\n",
       "      <td>0.000132</td>\n",
       "      <td>0.000000e+00</td>\n",
       "      <td>0.002637</td>\n",
       "    </tr>\n",
       "    <tr>\n",
       "      <th>RBP</th>\n",
       "      <td>0.000002</td>\n",
       "      <td>0.000000e+00</td>\n",
       "      <td>0.000672</td>\n",
       "    </tr>\n",
       "    <tr>\n",
       "      <th>RecipRank</th>\n",
       "      <td>0.000048</td>\n",
       "      <td>0.000000e+00</td>\n",
       "      <td>0.001631</td>\n",
       "    </tr>\n",
       "  </tbody>\n",
       "</table>\n",
       "</div>"
      ],
      "text/plain": [
       "                     mean        median       std\n",
       "model                                            \n",
       "ALS   NDCG       0.030009  0.000000e+00  0.067112\n",
       "      RBP        0.012255  0.000000e+00  0.068008\n",
       "      RecipRank  0.036409  0.000000e+00  0.135516\n",
       "Bias  NDCG       0.050428  0.000000e+00  0.093690\n",
       "      RBP        0.033535  0.000000e+00  0.116508\n",
       "      RecipRank  0.079268  0.000000e+00  0.223669\n",
       "IALS  NDCG       0.263104  2.158821e-01  0.196731\n",
       "      RBP        0.118555  1.953368e-03  0.208535\n",
       "      RecipRank  0.258433  1.111111e-01  0.322053\n",
       "IIE   NDCG       0.001832  0.000000e+00  0.011160\n",
       "      RBP        0.000033  0.000000e+00  0.002726\n",
       "      RecipRank  0.000771  0.000000e+00  0.007893\n",
       "III   NDCG       0.219961  1.488015e-01  0.211054\n",
       "      RBP        0.143408  4.882812e-04  0.235054\n",
       "      RecipRank  0.284756  9.090909e-02  0.367349\n",
       "Pop   NDCG       0.135319  9.029933e-02  0.148742\n",
       "      RBP        0.065624  1.490116e-08  0.157753\n",
       "      RecipRank  0.160239  3.846154e-02  0.278732\n",
       "UUE   NDCG       0.000132  0.000000e+00  0.002637\n",
       "      RBP        0.000002  0.000000e+00  0.000672\n",
       "      RecipRank  0.000048  0.000000e+00  0.001631"
      ]
     },
     "execution_count": 13,
     "metadata": {},
     "output_type": "execute_result"
    }
   ],
   "source": [
    "ra = RunAnalysis()\n",
    "\n",
    "ra.add_metric(NDCG())\n",
    "ra.add_metric(RecipRank())\n",
    "ra.add_metric(RBP())\n",
    "\n",
    "rec_results = ra.compute(recs, test)\n",
    "rec_results.list_summary('model')"
   ]
  },
  {
   "cell_type": "markdown",
   "id": "f8842c48",
   "metadata": {
    "papermill": {
     "duration": 0.001366,
     "end_time": "2024-12-18T07:41:31.999122",
     "exception": false,
     "start_time": "2024-12-18T07:41:31.997756",
     "status": "completed"
    },
    "tags": []
   },
   "source": [
    "We can reshape the list metrics and plot them:"
   ]
  },
  {
   "cell_type": "code",
   "execution_count": 14,
   "id": "11308253",
   "metadata": {
    "execution": {
     "iopub.execute_input": "2024-12-18T07:41:32.002350Z",
     "iopub.status.busy": "2024-12-18T07:41:32.002261Z",
     "iopub.status.idle": "2024-12-18T07:41:40.182002Z",
     "shell.execute_reply": "2024-12-18T07:41:40.181515Z"
    },
    "papermill": {
     "duration": 8.18228,
     "end_time": "2024-12-18T07:41:40.182736",
     "exception": false,
     "start_time": "2024-12-18T07:41:32.000456",
     "status": "completed"
    },
    "tags": []
   },
   "outputs": [
    {
     "data": {
      "image/png": "[encoded data removed]",
      "text/plain": [
       "<Figure size 1511.11x500 with 3 Axes>"
      ]
     },
     "metadata": {},
     "output_type": "display_data"
    }
   ],
   "source": [
    "metrics = rec_results.list_metrics()\n",
    "metrics = metrics.melt(var_name='metric', ignore_index=False).reset_index()\n",
    "sns.catplot(metrics, x='model', y='value', col='metric', kind='bar')\n",
    "plt.show()"
   ]
  },
  {
   "cell_type": "markdown",
   "id": "ed2b7ce3",
   "metadata": {
    "papermill": {
     "duration": 0.009108,
     "end_time": "2024-12-18T07:41:40.193468",
     "exception": false,
     "start_time": "2024-12-18T07:41:40.184360",
     "status": "completed"
    },
    "tags": []
   },
   "source": [
    "## Prediction RMSE\n",
    "\n",
    "We will also look at the prediction RMSE."
   ]
  },
  {
   "cell_type": "code",
   "execution_count": 15,
   "id": "fb241eec",
   "metadata": {
    "execution": {
     "iopub.execute_input": "2024-12-18T07:41:40.196930Z",
     "iopub.status.busy": "2024-12-18T07:41:40.196834Z",
     "iopub.status.idle": "2024-12-18T07:42:59.373773Z",
     "shell.execute_reply": "2024-12-18T07:42:59.373436Z"
    },
    "papermill": {
     "duration": 79.180652,
     "end_time": "2024-12-18T07:42:59.375596",
     "exception": false,
     "start_time": "2024-12-18T07:41:40.194944",
     "status": "completed"
    },
    "tags": []
   },
   "outputs": [
    {
     "name": "stderr",
     "output_type": "stream",
     "text": [
      "/home/mde48/lenskit/lk-demo-experiment/.venv/lib/python3.12/site-packages/lenskit/metrics/bulk.py:121: FutureWarning: The previous implementation of stack is deprecated and will be removed in a future version of pandas. See the What's New notes for pandas 2.1.0 for details. Specify future_stack=True to adopt the new implementation and silence this warning.\n",
      "  df = scores.groupby(list(keys)).agg([\"mean\", \"median\", \"std\"]).stack(level=0)\n"
     ]
    },
    {
     "data": {
      "text/html": [
       "<div>\n",
       "<style scoped>\n",
       "    .dataframe tbody tr th:only-of-type {\n",
       "        vertical-align: middle;\n",
       "    }\n",
       "\n",
       "    .dataframe tbody tr th {\n",
       "        vertical-align: top;\n",
       "    }\n",
       "\n",
       "    .dataframe thead th {\n",
       "        text-align: right;\n",
       "    }\n",
       "</style>\n",
       "<table border=\"1\" class=\"dataframe\">\n",
       "  <thead>\n",
       "    <tr style=\"text-align: right;\">\n",
       "      <th></th>\n",
       "      <th></th>\n",
       "      <th>mean</th>\n",
       "      <th>median</th>\n",
       "      <th>std</th>\n",
       "    </tr>\n",
       "    <tr>\n",
       "      <th>model</th>\n",
       "      <th></th>\n",
       "      <th></th>\n",
       "      <th></th>\n",
       "      <th></th>\n",
       "    </tr>\n",
       "  </thead>\n",
       "  <tbody>\n",
       "    <tr>\n",
       "      <th>ALS</th>\n",
       "      <th>RMSE</th>\n",
       "      <td>0.785838</td>\n",
       "      <td>0.727835</td>\n",
       "      <td>0.344224</td>\n",
       "    </tr>\n",
       "    <tr>\n",
       "      <th>Bias</th>\n",
       "      <th>RMSE</th>\n",
       "      <td>0.829772</td>\n",
       "      <td>0.772143</td>\n",
       "      <td>0.358470</td>\n",
       "    </tr>\n",
       "    <tr>\n",
       "      <th>IIE</th>\n",
       "      <th>RMSE</th>\n",
       "      <td>0.771515</td>\n",
       "      <td>0.713756</td>\n",
       "      <td>0.343766</td>\n",
       "    </tr>\n",
       "    <tr>\n",
       "      <th>UUE</th>\n",
       "      <th>RMSE</th>\n",
       "      <td>0.798380</td>\n",
       "      <td>0.739999</td>\n",
       "      <td>0.351455</td>\n",
       "    </tr>\n",
       "  </tbody>\n",
       "</table>\n",
       "</div>"
      ],
      "text/plain": [
       "                mean    median       std\n",
       "model                                   \n",
       "ALS   RMSE  0.785838  0.727835  0.344224\n",
       "Bias  RMSE  0.829772  0.772143  0.358470\n",
       "IIE   RMSE  0.771515  0.713756  0.343766\n",
       "UUE   RMSE  0.798380  0.739999  0.351455"
      ]
     },
     "execution_count": 15,
     "metadata": {},
     "output_type": "execute_result"
    }
   ],
   "source": [
    "pa = RunAnalysis()\n",
    "\n",
    "pa.add_metric(RMSE(missing_scores='ignore', missing_truth='ignore'))\n",
    "\n",
    "pred_results = pa.compute(preds, test)\n",
    "pred_results.list_summary('model')"
   ]
  },
  {
   "cell_type": "code",
   "execution_count": 16,
   "id": "92a98510",
   "metadata": {
    "execution": {
     "iopub.execute_input": "2024-12-18T07:42:59.386242Z",
     "iopub.status.busy": "2024-12-18T07:42:59.386154Z",
     "iopub.status.idle": "2024-12-18T07:43:00.860843Z",
     "shell.execute_reply": "2024-12-18T07:43:00.860420Z"
    },
    "papermill": {
     "duration": 1.47741,
     "end_time": "2024-12-18T07:43:00.861476",
     "exception": false,
     "start_time": "2024-12-18T07:42:59.384066",
     "status": "completed"
    },
    "tags": []
   },
   "outputs": [
    {
     "data": {
      "image/png": "[encoded data removed]",
      "text/plain": [
       "<Figure size 511.111x500 with 1 Axes>"
      ]
     },
     "metadata": {},
     "output_type": "display_data"
    }
   ],
   "source": [
    "sns.catplot(pred_results.list_metrics().reset_index(), x='model', y='RMSE', kind='bar')\n",
    "plt.show()"
   ]
  },
  {
   "cell_type": "markdown",
   "id": "c9a309d6",
   "metadata": {
    "papermill": {
     "duration": 0.008961,
     "end_time": "2024-12-18T07:43:00.872409",
     "exception": false,
     "start_time": "2024-12-18T07:43:00.863448",
     "status": "completed"
    },
    "tags": []
   },
   "source": [
    "## Save Metrics\n",
    "\n",
    "We'll now save the metrics to a file."
   ]
  },
  {
   "cell_type": "code",
   "execution_count": 17,
   "id": "68b047dc",
   "metadata": {
    "execution": {
     "iopub.execute_input": "2024-12-18T07:43:00.876095Z",
     "iopub.status.busy": "2024-12-18T07:43:00.876006Z",
     "iopub.status.idle": "2024-12-18T07:43:00.949319Z",
     "shell.execute_reply": "2024-12-18T07:43:00.949120Z"
    },
    "papermill": {
     "duration": 0.075984,
     "end_time": "2024-12-18T07:43:00.949896",
     "exception": false,
     "start_time": "2024-12-18T07:43:00.873912",
     "status": "completed"
    },
    "tags": []
   },
   "outputs": [
    {
     "name": "stderr",
     "output_type": "stream",
     "text": [
      "/home/mde48/lenskit/lk-demo-experiment/.venv/lib/python3.12/site-packages/lenskit/metrics/bulk.py:121: FutureWarning: The previous implementation of stack is deprecated and will be removed in a future version of pandas. See the What's New notes for pandas 2.1.0 for details. Specify future_stack=True to adopt the new implementation and silence this warning.\n",
      "  df = scores.groupby(list(keys)).agg([\"mean\", \"median\", \"std\"]).stack(level=0)\n"
     ]
    },
    {
     "data": {
      "text/html": [
       "<div>\n",
       "<style scoped>\n",
       "    .dataframe tbody tr th:only-of-type {\n",
       "        vertical-align: middle;\n",
       "    }\n",
       "\n",
       "    .dataframe tbody tr th {\n",
       "        vertical-align: top;\n",
       "    }\n",
       "\n",
       "    .dataframe thead th {\n",
       "        text-align: right;\n",
       "    }\n",
       "</style>\n",
       "<table border=\"1\" class=\"dataframe\">\n",
       "  <thead>\n",
       "    <tr style=\"text-align: right;\">\n",
       "      <th></th>\n",
       "      <th>NDCG</th>\n",
       "      <th>RBP</th>\n",
       "      <th>RecipRank</th>\n",
       "    </tr>\n",
       "    <tr>\n",
       "      <th>model</th>\n",
       "      <th></th>\n",
       "      <th></th>\n",
       "      <th></th>\n",
       "    </tr>\n",
       "  </thead>\n",
       "  <tbody>\n",
       "    <tr>\n",
       "      <th>ALS</th>\n",
       "      <td>0.030009</td>\n",
       "      <td>0.012255</td>\n",
       "      <td>0.036409</td>\n",
       "    </tr>\n",
       "    <tr>\n",
       "      <th>Bias</th>\n",
       "      <td>0.050428</td>\n",
       "      <td>0.033535</td>\n",
       "      <td>0.079268</td>\n",
       "    </tr>\n",
       "    <tr>\n",
       "      <th>IALS</th>\n",
       "      <td>0.263104</td>\n",
       "      <td>0.118555</td>\n",
       "      <td>0.258433</td>\n",
       "    </tr>\n",
       "    <tr>\n",
       "      <th>IIE</th>\n",
       "      <td>0.001832</td>\n",
       "      <td>0.000033</td>\n",
       "      <td>0.000771</td>\n",
       "    </tr>\n",
       "    <tr>\n",
       "      <th>III</th>\n",
       "      <td>0.219961</td>\n",
       "      <td>0.143408</td>\n",
       "      <td>0.284756</td>\n",
       "    </tr>\n",
       "    <tr>\n",
       "      <th>Pop</th>\n",
       "      <td>0.135319</td>\n",
       "      <td>0.065624</td>\n",
       "      <td>0.160239</td>\n",
       "    </tr>\n",
       "    <tr>\n",
       "      <th>UUE</th>\n",
       "      <td>0.000132</td>\n",
       "      <td>0.000002</td>\n",
       "      <td>0.000048</td>\n",
       "    </tr>\n",
       "  </tbody>\n",
       "</table>\n",
       "</div>"
      ],
      "text/plain": [
       "           NDCG       RBP  RecipRank\n",
       "model                               \n",
       "ALS    0.030009  0.012255   0.036409\n",
       "Bias   0.050428  0.033535   0.079268\n",
       "IALS   0.263104  0.118555   0.258433\n",
       "IIE    0.001832  0.000033   0.000771\n",
       "III    0.219961  0.143408   0.284756\n",
       "Pop    0.135319  0.065624   0.160239\n",
       "UUE    0.000132  0.000002   0.000048"
      ]
     },
     "execution_count": 17,
     "metadata": {},
     "output_type": "execute_result"
    }
   ],
   "source": [
    "rlsum = rec_results.list_summary('model')['mean'].unstack()\n",
    "rlsum"
   ]
  },
  {
   "cell_type": "code",
   "execution_count": 18,
   "id": "5582d5d8",
   "metadata": {
    "execution": {
     "iopub.execute_input": "2024-12-18T07:43:00.953918Z",
     "iopub.status.busy": "2024-12-18T07:43:00.953815Z",
     "iopub.status.idle": "2024-12-18T07:43:00.955902Z",
     "shell.execute_reply": "2024-12-18T07:43:00.955672Z"
    },
    "papermill": {
     "duration": 0.00468,
     "end_time": "2024-12-18T07:43:00.956328",
     "exception": false,
     "start_time": "2024-12-18T07:43:00.951648",
     "status": "completed"
    },
    "tags": []
   },
   "outputs": [],
   "source": [
    "rlsum.to_json(f'eval-metrics.{dataset}.json', orient='index')"
   ]
  }
 ],
 "metadata": {
  "jupytext": {
   "formats": "ipynb,md",
   "notebook_metadata_filter": "split_at_heading"
  },
  "kernelspec": {
   "display_name": "Python 3 (ipykernel)",
   "language": "python",
   "name": "python3"
  },
  "language_info": {
   "codemirror_mode": {
    "name": "ipython",
    "version": 3
   },
   "file_extension": ".py",
   "mimetype": "text/x-python",
   "name": "python",
   "nbconvert_exporter": "python",
   "pygments_lexer": "ipython3",
   "version": "3.12.8"
  },
  "papermill": {
   "default_parameters": {},
   "duration": 191.664217,
   "end_time": "2024-12-18T07:43:03.673372",
   "environment_variables": {},
   "exception": null,
   "input_path": "eval-report.ipynb",
   "output_path": "eval-report.ml20m.ipynb",
   "parameters": {
    "dataset": "ml20m"
   },
   "start_time": "2024-12-18T07:39:52.009155",
   "version": "2.6.0"
  },
  "split_at_heading": true
 },
 "nbformat": 4,
 "nbformat_minor": 5
}