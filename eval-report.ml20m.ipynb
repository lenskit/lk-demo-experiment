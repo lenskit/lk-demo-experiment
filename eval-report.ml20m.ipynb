{
 "cells": [
  {
   "cell_type": "markdown",
   "id": "381bef4a",
   "metadata": {
    "papermill": {
     "duration": 0.010985,
     "end_time": "2024-12-09T11:33:43.180246",
     "exception": false,
     "start_time": "2024-12-09T11:33:43.169261",
     "status": "completed"
    },
    "tags": []
   },
   "source": [
    "# Evaluation Analysis for Recommender Output"
   ]
  },
  {
   "cell_type": "markdown",
   "id": "664c72ab",
   "metadata": {
    "papermill": {
     "duration": 0.001378,
     "end_time": "2024-12-09T11:33:43.183369",
     "exception": false,
     "start_time": "2024-12-09T11:33:43.181991",
     "status": "completed"
    },
    "tags": []
   },
   "source": [
    "In this section we will analyze and compare the generated recommendations and predictions from a predefined list of algorithms with the goal of assessing the performance of each algorithm with respect to a metric. In other words, we would rank the algorithms for each metric considered with respect to performance."
   ]
  },
  {
   "cell_type": "markdown",
   "id": "81fcb0af",
   "metadata": {
    "papermill": {
     "duration": 0.001067,
     "end_time": "2024-12-09T11:33:43.185616",
     "exception": false,
     "start_time": "2024-12-09T11:33:43.184549",
     "status": "completed"
    },
    "tags": []
   },
   "source": [
    "## Setup"
   ]
  },
  {
   "cell_type": "markdown",
   "id": "933a60f9",
   "metadata": {
    "papermill": {
     "duration": 0.001046,
     "end_time": "2024-12-09T11:33:43.187709",
     "exception": false,
     "start_time": "2024-12-09T11:33:43.186663",
     "status": "completed"
    },
    "tags": []
   },
   "source": [
    "Below are the list of packages required to successfully run the analysis. They are divided into partitions to signify their specific task.<br>\n",
    "We need the pathlib package for working with files and folders"
   ]
  },
  {
   "cell_type": "code",
   "execution_count": 1,
   "id": "9488a624",
   "metadata": {
    "execution": {
     "iopub.execute_input": "2024-12-09T11:33:43.190577Z",
     "iopub.status.busy": "2024-12-09T11:33:43.190448Z",
     "iopub.status.idle": "2024-12-09T11:33:43.192646Z",
     "shell.execute_reply": "2024-12-09T11:33:43.192334Z"
    },
    "papermill": {
     "duration": 0.004324,
     "end_time": "2024-12-09T11:33:43.193074",
     "exception": false,
     "start_time": "2024-12-09T11:33:43.188750",
     "status": "completed"
    },
    "tags": []
   },
   "outputs": [],
   "source": [
    "from pathlib import Path\n",
    "import json"
   ]
  },
  {
   "cell_type": "markdown",
   "id": "99e5fc5d",
   "metadata": {
    "papermill": {
     "duration": 0.001584,
     "end_time": "2024-12-09T11:33:43.195837",
     "exception": false,
     "start_time": "2024-12-09T11:33:43.194253",
     "status": "completed"
    },
    "tags": []
   },
   "source": [
    "We would use the pandas for analyzing and manipulating our data while seaborn and matplotlib are used for data visualization. statsmodels.graphics.gofplots and scipy.stats.shapiro are used for normality check. Scipy.stats.friedmanchisquare is a non-parametric test used to determine the statistical significance in metric results and the wilcoxon test is used for pairwise comparison of sample data."
   ]
  },
  {
   "cell_type": "code",
   "execution_count": 2,
   "id": "5443464f",
   "metadata": {
    "execution": {
     "iopub.execute_input": "2024-12-09T11:33:43.198599Z",
     "iopub.status.busy": "2024-12-09T11:33:43.198534Z",
     "iopub.status.idle": "2024-12-09T11:33:43.599156Z",
     "shell.execute_reply": "2024-12-09T11:33:43.598770Z"
    },
    "lines_to_next_cell": 2,
    "papermill": {
     "duration": 0.402717,
     "end_time": "2024-12-09T11:33:43.599883",
     "exception": false,
     "start_time": "2024-12-09T11:33:43.197166",
     "status": "completed"
    },
    "tags": []
   },
   "outputs": [],
   "source": [
    "import pandas as pd\n",
    "import seaborn as sns\n",
    "import matplotlib.pyplot as plt\n",
    "from statsmodels.graphics.gofplots import qqplot\n",
    "from scipy.stats import shapiro\n",
    "from scipy.stats import friedmanchisquare, wilcoxon\n",
    "from itertools import combinations"
   ]
  },
  {
   "cell_type": "markdown",
   "id": "17a97495",
   "metadata": {
    "papermill": {
     "duration": 0.008836,
     "end_time": "2024-12-09T11:33:43.610118",
     "exception": false,
     "start_time": "2024-12-09T11:33:43.601282",
     "status": "completed"
    },
    "tags": []
   },
   "source": [
    "Import the LensKit metrics for analysis:"
   ]
  },
  {
   "cell_type": "code",
   "execution_count": 3,
   "id": "64672a8e",
   "metadata": {
    "execution": {
     "iopub.execute_input": "2024-12-09T11:33:43.613336Z",
     "iopub.status.busy": "2024-12-09T11:33:43.613220Z",
     "iopub.status.idle": "2024-12-09T11:33:44.266123Z",
     "shell.execute_reply": "2024-12-09T11:33:44.265617Z"
    },
    "papermill": {
     "duration": 0.655442,
     "end_time": "2024-12-09T11:33:44.266933",
     "exception": false,
     "start_time": "2024-12-09T11:33:43.611491",
     "status": "completed"
    },
    "tags": []
   },
   "outputs": [],
   "source": [
    "from lenskit.data import ItemListCollection, UserIDKey\n",
    "from lenskit.metrics import RunAnalysis, RMSE, NDCG, RecipRank, RBP"
   ]
  },
  {
   "cell_type": "markdown",
   "id": "63508ad7",
   "metadata": {
    "papermill": {
     "duration": 0.008977,
     "end_time": "2024-12-09T11:33:44.277303",
     "exception": false,
     "start_time": "2024-12-09T11:33:44.268326",
     "status": "completed"
    },
    "tags": []
   },
   "source": [
    "## Load Data\n",
    "\n",
    "The recommendations are in `runs`, and we will need to reassemble the test data from `test`."
   ]
  },
  {
   "cell_type": "code",
   "execution_count": 4,
   "id": "2d81312f",
   "metadata": {
    "execution": {
     "iopub.execute_input": "2024-12-09T11:33:44.280453Z",
     "iopub.status.busy": "2024-12-09T11:33:44.280327Z",
     "iopub.status.idle": "2024-12-09T11:33:44.282013Z",
     "shell.execute_reply": "2024-12-09T11:33:44.281743Z"
    },
    "papermill": {
     "duration": 0.004086,
     "end_time": "2024-12-09T11:33:44.282584",
     "exception": false,
     "start_time": "2024-12-09T11:33:44.278498",
     "status": "completed"
    },
    "tags": [
     "parameters"
    ]
   },
   "outputs": [],
   "source": [
    "dataset = \"ml100k\""
   ]
  },
  {
   "cell_type": "code",
   "execution_count": 5,
   "id": "f38940ea",
   "metadata": {
    "execution": {
     "iopub.execute_input": "2024-12-09T11:33:44.285290Z",
     "iopub.status.busy": "2024-12-09T11:33:44.285221Z",
     "iopub.status.idle": "2024-12-09T11:33:44.286593Z",
     "shell.execute_reply": "2024-12-09T11:33:44.286390Z"
    },
    "papermill": {
     "duration": 0.003346,
     "end_time": "2024-12-09T11:33:44.287106",
     "exception": false,
     "start_time": "2024-12-09T11:33:44.283760",
     "status": "completed"
    },
    "tags": [
     "injected-parameters"
    ]
   },
   "outputs": [],
   "source": [
    "# Parameters\n",
    "dataset = \"ml20m\"\n"
   ]
  },
  {
   "cell_type": "code",
   "execution_count": 6,
   "id": "3ec95294",
   "metadata": {
    "execution": {
     "iopub.execute_input": "2024-12-09T11:33:44.289774Z",
     "iopub.status.busy": "2024-12-09T11:33:44.289712Z",
     "iopub.status.idle": "2024-12-09T11:33:44.291079Z",
     "shell.execute_reply": "2024-12-09T11:33:44.290884Z"
    },
    "papermill": {
     "duration": 0.003263,
     "end_time": "2024-12-09T11:33:44.291542",
     "exception": false,
     "start_time": "2024-12-09T11:33:44.288279",
     "status": "completed"
    },
    "tags": []
   },
   "outputs": [],
   "source": [
    "output_root = Path(\"runs\")"
   ]
  },
  {
   "cell_type": "code",
   "execution_count": 7,
   "id": "2fdbd191",
   "metadata": {
    "execution": {
     "iopub.execute_input": "2024-12-09T11:33:44.294266Z",
     "iopub.status.busy": "2024-12-09T11:33:44.294199Z",
     "iopub.status.idle": "2024-12-09T11:33:44.295778Z",
     "shell.execute_reply": "2024-12-09T11:33:44.295565Z"
    },
    "papermill": {
     "duration": 0.003451,
     "end_time": "2024-12-09T11:33:44.296175",
     "exception": false,
     "start_time": "2024-12-09T11:33:44.292724",
     "status": "completed"
    },
    "tags": []
   },
   "outputs": [],
   "source": [
    "dirs = [fld for fld in output_root.glob(f'{dataset}-*')]"
   ]
  },
  {
   "cell_type": "code",
   "execution_count": 8,
   "id": "57c58091",
   "metadata": {
    "execution": {
     "iopub.execute_input": "2024-12-09T11:33:44.299003Z",
     "iopub.status.busy": "2024-12-09T11:33:44.298889Z",
     "iopub.status.idle": "2024-12-09T11:36:23.098033Z",
     "shell.execute_reply": "2024-12-09T11:36:23.097376Z"
    },
    "papermill": {
     "duration": 158.801573,
     "end_time": "2024-12-09T11:36:23.098969",
     "exception": false,
     "start_time": "2024-12-09T11:33:44.297396",
     "status": "completed"
    },
    "tags": []
   },
   "outputs": [],
   "source": [
    "recs = ItemListCollection(['model', 'user_id'], index=False)\n",
    "for fld in dirs:\n",
    "    for file in fld.glob(\"recs-*\"):\n",
    "        rec = pd.read_parquet(file)\n",
    "        rec = ItemListCollection.from_df(rec, UserIDKey)\n",
    "        recs.add_from(rec, model=fld.name.split(\"-\")[1])"
   ]
  },
  {
   "cell_type": "code",
   "execution_count": 9,
   "id": "effd04de",
   "metadata": {
    "execution": {
     "iopub.execute_input": "2024-12-09T11:36:23.110350Z",
     "iopub.status.busy": "2024-12-09T11:36:23.110238Z",
     "iopub.status.idle": "2024-12-09T11:36:23.155766Z",
     "shell.execute_reply": "2024-12-09T11:36:23.155389Z"
    },
    "papermill": {
     "duration": 0.055857,
     "end_time": "2024-12-09T11:36:23.156328",
     "exception": false,
     "start_time": "2024-12-09T11:36:23.100471",
     "status": "completed"
    },
    "tags": []
   },
   "outputs": [
    {
     "data": {
      "text/plain": [
       "['ALS', 'Bias', 'IALS', 'IIE', 'III', 'Pop', 'UUE']"
      ]
     },
     "execution_count": 9,
     "metadata": {},
     "output_type": "execute_result"
    }
   ],
   "source": [
    "rec_algos = sorted(set(a for (a, _u) in recs.keys()))\n",
    "rec_algos"
   ]
  },
  {
   "cell_type": "code",
   "execution_count": 10,
   "id": "4593fe69",
   "metadata": {
    "execution": {
     "iopub.execute_input": "2024-12-09T11:36:23.159499Z",
     "iopub.status.busy": "2024-12-09T11:36:23.159418Z",
     "iopub.status.idle": "2024-12-09T11:37:40.258283Z",
     "shell.execute_reply": "2024-12-09T11:37:40.257872Z"
    },
    "papermill": {
     "duration": 77.101216,
     "end_time": "2024-12-09T11:37:40.258991",
     "exception": false,
     "start_time": "2024-12-09T11:36:23.157775",
     "status": "completed"
    },
    "tags": []
   },
   "outputs": [],
   "source": [
    "preds = ItemListCollection(['model', 'user_id'], index=False)\n",
    "for fld in dirs:\n",
    "    for file in fld.glob(\"pred-*\"):\n",
    "        pred = pd.read_parquet(file)\n",
    "        pred = ItemListCollection.from_df(pred, UserIDKey)\n",
    "        preds.add_from(pred, model=fld.name.split(\"-\")[1])"
   ]
  },
  {
   "cell_type": "markdown",
   "id": "5f88f622",
   "metadata": {
    "papermill": {
     "duration": 0.009226,
     "end_time": "2024-12-09T11:37:40.269742",
     "exception": false,
     "start_time": "2024-12-09T11:37:40.260516",
     "status": "completed"
    },
    "tags": []
   },
   "source": [
    "We need to load the test data so that we have the ground truths for computing accuracy"
   ]
  },
  {
   "cell_type": "code",
   "execution_count": 11,
   "id": "bf88dbf4",
   "metadata": {
    "execution": {
     "iopub.execute_input": "2024-12-09T11:37:40.272959Z",
     "iopub.status.busy": "2024-12-09T11:37:40.272848Z",
     "iopub.status.idle": "2024-12-09T11:37:40.274654Z",
     "shell.execute_reply": "2024-12-09T11:37:40.274339Z"
    },
    "papermill": {
     "duration": 0.004105,
     "end_time": "2024-12-09T11:37:40.275171",
     "exception": false,
     "start_time": "2024-12-09T11:37:40.271066",
     "status": "completed"
    },
    "tags": []
   },
   "outputs": [],
   "source": [
    "split_root = Path(\"data-split\")\n",
    "split_dir = split_root / dataset"
   ]
  },
  {
   "cell_type": "code",
   "execution_count": 12,
   "id": "bbd3075e",
   "metadata": {
    "execution": {
     "iopub.execute_input": "2024-12-09T11:37:40.278782Z",
     "iopub.status.busy": "2024-12-09T11:37:40.278706Z",
     "iopub.status.idle": "2024-12-09T11:37:59.239881Z",
     "shell.execute_reply": "2024-12-09T11:37:59.239222Z"
    },
    "papermill": {
     "duration": 18.964277,
     "end_time": "2024-12-09T11:37:59.240740",
     "exception": false,
     "start_time": "2024-12-09T11:37:40.276463",
     "status": "completed"
    },
    "tags": []
   },
   "outputs": [],
   "source": [
    "test = ItemListCollection(UserIDKey)\n",
    "for file in split_dir.glob(\"test-*.parquet\"):\n",
    "    df = pd.read_parquet(file)\n",
    "    test.add_from(ItemListCollection.from_df(df, UserIDKey))"
   ]
  },
  {
   "cell_type": "markdown",
   "id": "d1cc45f7",
   "metadata": {
    "papermill": {
     "duration": 0.009074,
     "end_time": "2024-12-09T11:37:59.251390",
     "exception": false,
     "start_time": "2024-12-09T11:37:59.242316",
     "status": "completed"
    },
    "tags": []
   },
   "source": [
    "## Top-N Metrics\n",
    "\n",
    "`RunListAnalysis` computes metrics for recommendation results and takes care of\n",
    "matching recommendations and ground truth."
   ]
  },
  {
   "cell_type": "code",
   "execution_count": 13,
   "id": "5cc74039",
   "metadata": {
    "execution": {
     "iopub.execute_input": "2024-12-09T11:37:59.255131Z",
     "iopub.status.busy": "2024-12-09T11:37:59.254857Z",
     "iopub.status.idle": "2024-12-09T11:39:01.444735Z",
     "shell.execute_reply": "2024-12-09T11:39:01.444329Z"
    },
    "papermill": {
     "duration": 62.193108,
     "end_time": "2024-12-09T11:39:01.445974",
     "exception": false,
     "start_time": "2024-12-09T11:37:59.252866",
     "status": "completed"
    },
    "tags": []
   },
   "outputs": [
    {
     "name": "stderr",
     "output_type": "stream",
     "text": [
      "/home/mde48/lenskit/lkpy/lenskit/lenskit/metrics/bulk.py:116: FutureWarning: The previous implementation of stack is deprecated and will be removed in a future version of pandas. See the What's New notes for pandas 2.1.0 for details. Specify future_stack=True to adopt the new implementation and silence this warning.\n",
      "  df = scores.groupby(list(keys)).agg([\"mean\", \"median\", \"std\"]).stack(level=0)\n"
     ]
    },
    {
     "data": {
      "text/html": [
       "<div>\n",
       "<style scoped>\n",
       "    .dataframe tbody tr th:only-of-type {\n",
       "        vertical-align: middle;\n",
       "    }\n",
       "\n",
       "    .dataframe tbody tr th {\n",
       "        vertical-align: top;\n",
       "    }\n",
       "\n",
       "    .dataframe thead th {\n",
       "        text-align: right;\n",
       "    }\n",
       "</style>\n",
       "<table border=\"1\" class=\"dataframe\">\n",
       "  <thead>\n",
       "    <tr style=\"text-align: right;\">\n",
       "      <th></th>\n",
       "      <th></th>\n",
       "      <th>mean</th>\n",
       "      <th>median</th>\n",
       "      <th>std</th>\n",
       "    </tr>\n",
       "    <tr>\n",
       "      <th>model</th>\n",
       "      <th></th>\n",
       "      <th></th>\n",
       "      <th></th>\n",
       "      <th></th>\n",
       "    </tr>\n",
       "  </thead>\n",
       "  <tbody>\n",
       "    <tr>\n",
       "      <th rowspan=\"3\" valign=\"top\">ALS</th>\n",
       "      <th>NDCG</th>\n",
       "      <td>2.993684e-02</td>\n",
       "      <td>0.000000e+00</td>\n",
       "      <td>6.703253e-02</td>\n",
       "    </tr>\n",
       "    <tr>\n",
       "      <th>RBP</th>\n",
       "      <td>1.227266e-02</td>\n",
       "      <td>0.000000e+00</td>\n",
       "      <td>6.804894e-02</td>\n",
       "    </tr>\n",
       "    <tr>\n",
       "      <th>RecipRank</th>\n",
       "      <td>3.638494e-02</td>\n",
       "      <td>0.000000e+00</td>\n",
       "      <td>1.358151e-01</td>\n",
       "    </tr>\n",
       "    <tr>\n",
       "      <th rowspan=\"3\" valign=\"top\">Bias</th>\n",
       "      <th>NDCG</th>\n",
       "      <td>5.018591e-02</td>\n",
       "      <td>0.000000e+00</td>\n",
       "      <td>9.353811e-02</td>\n",
       "    </tr>\n",
       "    <tr>\n",
       "      <th>RBP</th>\n",
       "      <td>3.322223e-02</td>\n",
       "      <td>0.000000e+00</td>\n",
       "      <td>1.158623e-01</td>\n",
       "    </tr>\n",
       "    <tr>\n",
       "      <th>RecipRank</th>\n",
       "      <td>7.859996e-02</td>\n",
       "      <td>0.000000e+00</td>\n",
       "      <td>2.224595e-01</td>\n",
       "    </tr>\n",
       "    <tr>\n",
       "      <th rowspan=\"3\" valign=\"top\">IALS</th>\n",
       "      <th>NDCG</th>\n",
       "      <td>2.633844e-01</td>\n",
       "      <td>2.168583e-01</td>\n",
       "      <td>1.967490e-01</td>\n",
       "    </tr>\n",
       "    <tr>\n",
       "      <th>RBP</th>\n",
       "      <td>1.183591e-01</td>\n",
       "      <td>1.953363e-03</td>\n",
       "      <td>2.078740e-01</td>\n",
       "    </tr>\n",
       "    <tr>\n",
       "      <th>RecipRank</th>\n",
       "      <td>2.579563e-01</td>\n",
       "      <td>1.111111e-01</td>\n",
       "      <td>3.212040e-01</td>\n",
       "    </tr>\n",
       "    <tr>\n",
       "      <th rowspan=\"3\" valign=\"top\">IIE</th>\n",
       "      <th>NDCG</th>\n",
       "      <td>1.799055e-03</td>\n",
       "      <td>0.000000e+00</td>\n",
       "      <td>1.081409e-02</td>\n",
       "    </tr>\n",
       "    <tr>\n",
       "      <th>RBP</th>\n",
       "      <td>1.657536e-05</td>\n",
       "      <td>0.000000e+00</td>\n",
       "      <td>1.734659e-03</td>\n",
       "    </tr>\n",
       "    <tr>\n",
       "      <th>RecipRank</th>\n",
       "      <td>7.468014e-04</td>\n",
       "      <td>0.000000e+00</td>\n",
       "      <td>6.619561e-03</td>\n",
       "    </tr>\n",
       "    <tr>\n",
       "      <th rowspan=\"3\" valign=\"top\">III</th>\n",
       "      <th>NDCG</th>\n",
       "      <td>2.197107e-01</td>\n",
       "      <td>1.487798e-01</td>\n",
       "      <td>2.105819e-01</td>\n",
       "    </tr>\n",
       "    <tr>\n",
       "      <th>RBP</th>\n",
       "      <td>1.432661e-01</td>\n",
       "      <td>4.882812e-04</td>\n",
       "      <td>2.345441e-01</td>\n",
       "    </tr>\n",
       "    <tr>\n",
       "      <th>RecipRank</th>\n",
       "      <td>2.847712e-01</td>\n",
       "      <td>9.090909e-02</td>\n",
       "      <td>3.673109e-01</td>\n",
       "    </tr>\n",
       "    <tr>\n",
       "      <th rowspan=\"3\" valign=\"top\">Pop</th>\n",
       "      <th>NDCG</th>\n",
       "      <td>1.349406e-01</td>\n",
       "      <td>9.007480e-02</td>\n",
       "      <td>1.482855e-01</td>\n",
       "    </tr>\n",
       "    <tr>\n",
       "      <th>RBP</th>\n",
       "      <td>6.486671e-02</td>\n",
       "      <td>7.465133e-09</td>\n",
       "      <td>1.568487e-01</td>\n",
       "    </tr>\n",
       "    <tr>\n",
       "      <th>RecipRank</th>\n",
       "      <td>1.586887e-01</td>\n",
       "      <td>3.703704e-02</td>\n",
       "      <td>2.766616e-01</td>\n",
       "    </tr>\n",
       "    <tr>\n",
       "      <th rowspan=\"3\" valign=\"top\">UUE</th>\n",
       "      <th>NDCG</th>\n",
       "      <td>1.289179e-04</td>\n",
       "      <td>0.000000e+00</td>\n",
       "      <td>2.515898e-03</td>\n",
       "    </tr>\n",
       "    <tr>\n",
       "      <th>RBP</th>\n",
       "      <td>2.645683e-10</td>\n",
       "      <td>0.000000e+00</td>\n",
       "      <td>5.913135e-08</td>\n",
       "    </tr>\n",
       "    <tr>\n",
       "      <th>RecipRank</th>\n",
       "      <td>4.431305e-05</td>\n",
       "      <td>0.000000e+00</td>\n",
       "      <td>9.301602e-04</td>\n",
       "    </tr>\n",
       "  </tbody>\n",
       "</table>\n",
       "</div>"
      ],
      "text/plain": [
       "                         mean        median           std\n",
       "model                                                    \n",
       "ALS   NDCG       2.993684e-02  0.000000e+00  6.703253e-02\n",
       "      RBP        1.227266e-02  0.000000e+00  6.804894e-02\n",
       "      RecipRank  3.638494e-02  0.000000e+00  1.358151e-01\n",
       "Bias  NDCG       5.018591e-02  0.000000e+00  9.353811e-02\n",
       "      RBP        3.322223e-02  0.000000e+00  1.158623e-01\n",
       "      RecipRank  7.859996e-02  0.000000e+00  2.224595e-01\n",
       "IALS  NDCG       2.633844e-01  2.168583e-01  1.967490e-01\n",
       "      RBP        1.183591e-01  1.953363e-03  2.078740e-01\n",
       "      RecipRank  2.579563e-01  1.111111e-01  3.212040e-01\n",
       "IIE   NDCG       1.799055e-03  0.000000e+00  1.081409e-02\n",
       "      RBP        1.657536e-05  0.000000e+00  1.734659e-03\n",
       "      RecipRank  7.468014e-04  0.000000e+00  6.619561e-03\n",
       "III   NDCG       2.197107e-01  1.487798e-01  2.105819e-01\n",
       "      RBP        1.432661e-01  4.882812e-04  2.345441e-01\n",
       "      RecipRank  2.847712e-01  9.090909e-02  3.673109e-01\n",
       "Pop   NDCG       1.349406e-01  9.007480e-02  1.482855e-01\n",
       "      RBP        6.486671e-02  7.465133e-09  1.568487e-01\n",
       "      RecipRank  1.586887e-01  3.703704e-02  2.766616e-01\n",
       "UUE   NDCG       1.289179e-04  0.000000e+00  2.515898e-03\n",
       "      RBP        2.645683e-10  0.000000e+00  5.913135e-08\n",
       "      RecipRank  4.431305e-05  0.000000e+00  9.301602e-04"
      ]
     },
     "execution_count": 13,
     "metadata": {},
     "output_type": "execute_result"
    }
   ],
   "source": [
    "ra = RunAnalysis()\n",
    "\n",
    "ra.add_metric(NDCG())\n",
    "ra.add_metric(RecipRank())\n",
    "ra.add_metric(RBP())\n",
    "\n",
    "rec_results = ra.compute(recs, test)\n",
    "rec_results.list_summary('model')"
   ]
  },
  {
   "cell_type": "markdown",
   "id": "b17ba3e5",
   "metadata": {
    "papermill": {
     "duration": 0.001366,
     "end_time": "2024-12-09T11:39:01.455613",
     "exception": false,
     "start_time": "2024-12-09T11:39:01.454247",
     "status": "completed"
    },
    "tags": []
   },
   "source": [
    "We can reshape the list metrics and plot them:"
   ]
  },
  {
   "cell_type": "code",
   "execution_count": 14,
   "id": "5c479b59",
   "metadata": {
    "execution": {
     "iopub.execute_input": "2024-12-09T11:39:01.458933Z",
     "iopub.status.busy": "2024-12-09T11:39:01.458787Z",
     "iopub.status.idle": "2024-12-09T11:39:11.912060Z",
     "shell.execute_reply": "2024-12-09T11:39:11.911632Z"
    },
    "papermill": {
     "duration": 10.45564,
     "end_time": "2024-12-09T11:39:11.912647",
     "exception": false,
     "start_time": "2024-12-09T11:39:01.457007",
     "status": "completed"
    },
    "tags": []
   },
   "outputs": [
    {
     "data": {
      "image/png": "[encoded data removed]",
      "text/plain": [
       "<Figure size 1511.11x500 with 3 Axes>"
      ]
     },
     "metadata": {},
     "output_type": "display_data"
    }
   ],
   "source": [
    "metrics = rec_results.list_metrics()\n",
    "metrics = metrics.melt(var_name='metric', ignore_index=False).reset_index()\n",
    "sns.catplot(metrics, x='model', y='value', col='metric', kind='bar')\n",
    "plt.show()"
   ]
  },
  {
   "cell_type": "markdown",
   "id": "904ccd24",
   "metadata": {
    "papermill": {
     "duration": 0.009211,
     "end_time": "2024-12-09T11:39:11.923503",
     "exception": false,
     "start_time": "2024-12-09T11:39:11.914292",
     "status": "completed"
    },
    "tags": []
   },
   "source": [
    "## Prediction RMSE\n",
    "\n",
    "We will also look at the prediction RMSE."
   ]
  },
  {
   "cell_type": "code",
   "execution_count": 15,
   "id": "ca056d28",
   "metadata": {
    "execution": {
     "iopub.execute_input": "2024-12-09T11:39:11.927192Z",
     "iopub.status.busy": "2024-12-09T11:39:11.927033Z",
     "iopub.status.idle": "2024-12-09T11:42:17.963674Z",
     "shell.execute_reply": "2024-12-09T11:42:17.963510Z"
    },
    "papermill": {
     "duration": 186.040636,
     "end_time": "2024-12-09T11:42:17.965629",
     "exception": false,
     "start_time": "2024-12-09T11:39:11.924993",
     "status": "completed"
    },
    "tags": []
   },
   "outputs": [
    {
     "name": "stderr",
     "output_type": "stream",
     "text": [
      "/home/mde48/lenskit/lkpy/lenskit/lenskit/metrics/bulk.py:116: FutureWarning: The previous implementation of stack is deprecated and will be removed in a future version of pandas. See the What's New notes for pandas 2.1.0 for details. Specify future_stack=True to adopt the new implementation and silence this warning.\n",
      "  df = scores.groupby(list(keys)).agg([\"mean\", \"median\", \"std\"]).stack(level=0)\n"
     ]
    },
    {
     "data": {
      "text/html": [
       "<div>\n",
       "<style scoped>\n",
       "    .dataframe tbody tr th:only-of-type {\n",
       "        vertical-align: middle;\n",
       "    }\n",
       "\n",
       "    .dataframe tbody tr th {\n",
       "        vertical-align: top;\n",
       "    }\n",
       "\n",
       "    .dataframe thead th {\n",
       "        text-align: right;\n",
       "    }\n",
       "</style>\n",
       "<table border=\"1\" class=\"dataframe\">\n",
       "  <thead>\n",
       "    <tr style=\"text-align: right;\">\n",
       "      <th></th>\n",
       "      <th></th>\n",
       "      <th>mean</th>\n",
       "      <th>median</th>\n",
       "      <th>std</th>\n",
       "    </tr>\n",
       "    <tr>\n",
       "      <th>model</th>\n",
       "      <th></th>\n",
       "      <th></th>\n",
       "      <th></th>\n",
       "      <th></th>\n",
       "    </tr>\n",
       "  </thead>\n",
       "  <tbody>\n",
       "    <tr>\n",
       "      <th>ALS</th>\n",
       "      <th>RMSE</th>\n",
       "      <td>0.785600</td>\n",
       "      <td>0.727572</td>\n",
       "      <td>0.343709</td>\n",
       "    </tr>\n",
       "    <tr>\n",
       "      <th>Bias</th>\n",
       "      <th>RMSE</th>\n",
       "      <td>0.829450</td>\n",
       "      <td>0.770576</td>\n",
       "      <td>0.357917</td>\n",
       "    </tr>\n",
       "    <tr>\n",
       "      <th>IIE</th>\n",
       "      <th>RMSE</th>\n",
       "      <td>0.771869</td>\n",
       "      <td>0.714103</td>\n",
       "      <td>0.344003</td>\n",
       "    </tr>\n",
       "    <tr>\n",
       "      <th>UUE</th>\n",
       "      <th>RMSE</th>\n",
       "      <td>0.798277</td>\n",
       "      <td>0.739411</td>\n",
       "      <td>0.350708</td>\n",
       "    </tr>\n",
       "  </tbody>\n",
       "</table>\n",
       "</div>"
      ],
      "text/plain": [
       "                mean    median       std\n",
       "model                                   \n",
       "ALS   RMSE  0.785600  0.727572  0.343709\n",
       "Bias  RMSE  0.829450  0.770576  0.357917\n",
       "IIE   RMSE  0.771869  0.714103  0.344003\n",
       "UUE   RMSE  0.798277  0.739411  0.350708"
      ]
     },
     "execution_count": 15,
     "metadata": {},
     "output_type": "execute_result"
    }
   ],
   "source": [
    "pa = RunAnalysis()\n",
    "\n",
    "pa.add_metric(RMSE(missing_scores='ignore', missing_truth='ignore'))\n",
    "\n",
    "pred_results = pa.compute(preds, test)\n",
    "pred_results.list_summary('model')"
   ]
  },
  {
   "cell_type": "code",
   "execution_count": 16,
   "id": "0626a38e",
   "metadata": {
    "execution": {
     "iopub.execute_input": "2024-12-09T11:42:17.976384Z",
     "iopub.status.busy": "2024-12-09T11:42:17.976265Z",
     "iopub.status.idle": "2024-12-09T11:42:19.867965Z",
     "shell.execute_reply": "2024-12-09T11:42:19.867603Z"
    },
    "papermill": {
     "duration": 1.894428,
     "end_time": "2024-12-09T11:42:19.868576",
     "exception": false,
     "start_time": "2024-12-09T11:42:17.974148",
     "status": "completed"
    },
    "tags": []
   },
   "outputs": [
    {
     "data": {
      "image/png": "[encoded data removed]",
      "text/plain": [
       "<Figure size 511.111x500 with 1 Axes>"
      ]
     },
     "metadata": {},
     "output_type": "display_data"
    }
   ],
   "source": [
    "sns.catplot(pred_results.list_metrics().reset_index(), x='model', y='RMSE', kind='bar')\n",
    "plt.show()"
   ]
  },
  {
   "cell_type": "markdown",
   "id": "c635bf68",
   "metadata": {
    "papermill": {
     "duration": 0.008843,
     "end_time": "2024-12-09T11:42:19.879334",
     "exception": false,
     "start_time": "2024-12-09T11:42:19.870491",
     "status": "completed"
    },
    "tags": []
   },
   "source": [
    "## Save Metrics\n",
    "\n",
    "We'll now save the metrics to a file."
   ]
  },
  {
   "cell_type": "code",
   "execution_count": 17,
   "id": "d1d7f624",
   "metadata": {
    "execution": {
     "iopub.execute_input": "2024-12-09T11:42:19.883358Z",
     "iopub.status.busy": "2024-12-09T11:42:19.883254Z",
     "iopub.status.idle": "2024-12-09T11:42:19.956815Z",
     "shell.execute_reply": "2024-12-09T11:42:19.956565Z"
    },
    "papermill": {
     "duration": 0.076435,
     "end_time": "2024-12-09T11:42:19.957444",
     "exception": false,
     "start_time": "2024-12-09T11:42:19.881009",
     "status": "completed"
    },
    "tags": []
   },
   "outputs": [
    {
     "name": "stderr",
     "output_type": "stream",
     "text": [
      "/home/mde48/lenskit/lkpy/lenskit/lenskit/metrics/bulk.py:116: FutureWarning: The previous implementation of stack is deprecated and will be removed in a future version of pandas. See the What's New notes for pandas 2.1.0 for details. Specify future_stack=True to adopt the new implementation and silence this warning.\n",
      "  df = scores.groupby(list(keys)).agg([\"mean\", \"median\", \"std\"]).stack(level=0)\n"
     ]
    },
    {
     "data": {
      "text/html": [
       "<div>\n",
       "<style scoped>\n",
       "    .dataframe tbody tr th:only-of-type {\n",
       "        vertical-align: middle;\n",
       "    }\n",
       "\n",
       "    .dataframe tbody tr th {\n",
       "        vertical-align: top;\n",
       "    }\n",
       "\n",
       "    .dataframe thead th {\n",
       "        text-align: right;\n",
       "    }\n",
       "</style>\n",
       "<table border=\"1\" class=\"dataframe\">\n",
       "  <thead>\n",
       "    <tr style=\"text-align: right;\">\n",
       "      <th></th>\n",
       "      <th>NDCG</th>\n",
       "      <th>RBP</th>\n",
       "      <th>RecipRank</th>\n",
       "    </tr>\n",
       "    <tr>\n",
       "      <th>model</th>\n",
       "      <th></th>\n",
       "      <th></th>\n",
       "      <th></th>\n",
       "    </tr>\n",
       "  </thead>\n",
       "  <tbody>\n",
       "    <tr>\n",
       "      <th>ALS</th>\n",
       "      <td>0.029937</td>\n",
       "      <td>1.227266e-02</td>\n",
       "      <td>0.036385</td>\n",
       "    </tr>\n",
       "    <tr>\n",
       "      <th>Bias</th>\n",
       "      <td>0.050186</td>\n",
       "      <td>3.322223e-02</td>\n",
       "      <td>0.078600</td>\n",
       "    </tr>\n",
       "    <tr>\n",
       "      <th>IALS</th>\n",
       "      <td>0.263384</td>\n",
       "      <td>1.183591e-01</td>\n",
       "      <td>0.257956</td>\n",
       "    </tr>\n",
       "    <tr>\n",
       "      <th>IIE</th>\n",
       "      <td>0.001799</td>\n",
       "      <td>1.657536e-05</td>\n",
       "      <td>0.000747</td>\n",
       "    </tr>\n",
       "    <tr>\n",
       "      <th>III</th>\n",
       "      <td>0.219711</td>\n",
       "      <td>1.432661e-01</td>\n",
       "      <td>0.284771</td>\n",
       "    </tr>\n",
       "    <tr>\n",
       "      <th>Pop</th>\n",
       "      <td>0.134941</td>\n",
       "      <td>6.486671e-02</td>\n",
       "      <td>0.158689</td>\n",
       "    </tr>\n",
       "    <tr>\n",
       "      <th>UUE</th>\n",
       "      <td>0.000129</td>\n",
       "      <td>2.645683e-10</td>\n",
       "      <td>0.000044</td>\n",
       "    </tr>\n",
       "  </tbody>\n",
       "</table>\n",
       "</div>"
      ],
      "text/plain": [
       "           NDCG           RBP  RecipRank\n",
       "model                                   \n",
       "ALS    0.029937  1.227266e-02   0.036385\n",
       "Bias   0.050186  3.322223e-02   0.078600\n",
       "IALS   0.263384  1.183591e-01   0.257956\n",
       "IIE    0.001799  1.657536e-05   0.000747\n",
       "III    0.219711  1.432661e-01   0.284771\n",
       "Pop    0.134941  6.486671e-02   0.158689\n",
       "UUE    0.000129  2.645683e-10   0.000044"
      ]
     },
     "execution_count": 17,
     "metadata": {},
     "output_type": "execute_result"
    }
   ],
   "source": [
    "rlsum = rec_results.list_summary('model')['mean'].unstack()\n",
    "rlsum"
   ]
  },
  {
   "cell_type": "code",
   "execution_count": 18,
   "id": "f564b364",
   "metadata": {
    "execution": {
     "iopub.execute_input": "2024-12-09T11:42:19.961519Z",
     "iopub.status.busy": "2024-12-09T11:42:19.961449Z",
     "iopub.status.idle": "2024-12-09T11:42:19.963937Z",
     "shell.execute_reply": "2024-12-09T11:42:19.963698Z"
    },
    "papermill": {
     "duration": 0.005222,
     "end_time": "2024-12-09T11:42:19.964457",
     "exception": false,
     "start_time": "2024-12-09T11:42:19.959235",
     "status": "completed"
    },
    "tags": []
   },
   "outputs": [],
   "source": [
    "rlsum.to_json(f'eval-metrics.{dataset}.json', orient='index')"
   ]
  }
 ],
 "metadata": {
  "jupytext": {
   "formats": "ipynb,md",
   "notebook_metadata_filter": "split_at_heading"
  },
  "kernelspec": {
   "display_name": "Python 3 (ipykernel)",
   "language": "python",
   "name": "python3"
  },
  "language_info": {
   "codemirror_mode": {
    "name": "ipython",
    "version": 3
   },
   "file_extension": ".py",
   "mimetype": "text/x-python",
   "name": "python",
   "nbconvert_exporter": "python",
   "pygments_lexer": "ipython3",
   "version": "3.12.7"
  },
  "papermill": {
   "default_parameters": {},
   "duration": 520.091259,
   "end_time": "2024-12-09T11:42:22.581321",
   "environment_variables": {},
   "exception": null,
   "input_path": "eval-report.ipynb",
   "output_path": "eval-report.ml20m.ipynb",
   "parameters": {
    "dataset": "ml20m"
   },
   "start_time": "2024-12-09T11:33:42.490062",
   "version": "2.6.0"
  },
  "split_at_heading": true
 },
 "nbformat": 4,
 "nbformat_minor": 5
}