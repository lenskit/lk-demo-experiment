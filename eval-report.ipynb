{
 "cells": [
  {
   "cell_type": "markdown",
   "id": "ebaafccd",
   "metadata": {},
   "source": [
    "# Evaluation Analysis for Recommender Output"
   ]
  },
  {
   "cell_type": "markdown",
   "id": "9a54d750",
   "metadata": {},
   "source": [
    "In this section we will analyze and compare the generated recommendations and predictions from a predefined list of algorithms with the goal of assessing the performance of each algorithm with respect to a metric. In other words, we would rank the algorithms for each metric considered with respect to performance."
   ]
  },
  {
   "cell_type": "markdown",
   "id": "049552b9",
   "metadata": {},
   "source": [
    "## Setup"
   ]
  },
  {
   "cell_type": "markdown",
   "id": "5abc8e86",
   "metadata": {},
   "source": [
    "Below are the list of packages required to successfully run the analysis. They are divided into partitions to signify their specific task.<br>\n",
    "We need the pathlib package for working with files and folders"
   ]
  },
  {
   "cell_type": "code",
   "execution_count": 1,
   "id": "6e57eaeb",
   "metadata": {},
   "outputs": [],
   "source": [
    "from pathlib import Path"
   ]
  },
  {
   "cell_type": "markdown",
   "id": "b2cf19b2",
   "metadata": {},
   "source": [
    "We would use the pandas for analyzing and manipulating our data while seaborn and matplotlib are used for data visualization. statsmodels.graphics.gofplots and scipy.stats.shapiro are used for normality check. Scipy.stats.friedmanchisquare is a non-parametric test used to determine the statistical significance in metric results and the wilcoxon test is used for pairwise comparison of sample data."
   ]
  },
  {
   "cell_type": "code",
   "execution_count": 2,
   "id": "9c85413d",
   "metadata": {
    "lines_to_next_cell": 2
   },
   "outputs": [],
   "source": [
    "import pandas as pd\n",
    "import seaborn as sns\n",
    "import matplotlib.pyplot as plt\n",
    "from statsmodels.graphics.gofplots import qqplot\n",
    "from scipy.stats import shapiro\n",
    "from scipy.stats import friedmanchisquare, wilcoxon\n",
    "from itertools import combinations"
   ]
  },
  {
   "cell_type": "markdown",
   "id": "5adf4215",
   "metadata": {},
   "source": [
    "Import the LensKit metrics for analysis:"
   ]
  },
  {
   "cell_type": "code",
   "execution_count": 3,
   "id": "4164455b",
   "metadata": {},
   "outputs": [],
   "source": [
    "from lenskit.data import ItemListCollection, UserIDKey\n",
    "from lenskit.metrics import RunAnalysis, RMSE, NDCG, RecipRank, RBP"
   ]
  },
  {
   "cell_type": "markdown",
   "id": "d85f87f9",
   "metadata": {},
   "source": [
    "## Load Data\n",
    "\n",
    "The recommendations are in `runs`, and we will need to reassemble the test data from `test`."
   ]
  },
  {
   "cell_type": "code",
   "execution_count": 4,
   "id": "8e4c81dc",
   "metadata": {
    "tags": [
     "parameters"
    ]
   },
   "outputs": [],
   "source": [
    "dataset = \"ml100k\""
   ]
  },
  {
   "cell_type": "code",
   "execution_count": 5,
   "id": "d0b84710",
   "metadata": {},
   "outputs": [],
   "source": [
    "output_root = Path(\"runs\")"
   ]
  },
  {
   "cell_type": "code",
   "execution_count": 6,
   "id": "be810f23",
   "metadata": {},
   "outputs": [],
   "source": [
    "dirs = [fld for fld in output_root.glob(f'{dataset}-*')]"
   ]
  },
  {
   "cell_type": "code",
   "execution_count": 9,
   "id": "e0099dd2",
   "metadata": {},
   "outputs": [],
   "source": [
    "recs = ItemListCollection(['algorithm', 'user_id'], index=False)\n",
    "for fld in dirs:\n",
    "    for file in fld.glob(\"recs-*\"):\n",
    "        rec = pd.read_parquet(file)\n",
    "        rec = ItemListCollection.from_df(rec, UserIDKey)\n",
    "        recs.add_from(rec, algorithm=fld.name.split(\"-\")[1])"
   ]
  },
  {
   "cell_type": "code",
   "execution_count": 10,
   "id": "b459c346",
   "metadata": {},
   "outputs": [
    {
     "data": {
      "text/plain": [
       "['ALS', 'Bias', 'IALS', 'IIE', 'III', 'Pop', 'UUE']"
      ]
     },
     "execution_count": 10,
     "metadata": {},
     "output_type": "execute_result"
    }
   ],
   "source": [
    "rec_algos = sorted(set(a for (a, _u) in recs.keys()))\n",
    "rec_algos"
   ]
  },
  {
   "cell_type": "code",
   "execution_count": 12,
   "id": "11a965e0",
   "metadata": {},
   "outputs": [],
   "source": [
    "preds = ItemListCollection(['algorithm', 'user_id'], index=False)\n",
    "for fld in dirs:\n",
    "    for file in fld.glob(\"pred-*\"):\n",
    "        pred = pd.read_parquet(file)\n",
    "        pred = ItemListCollection.from_df(pred, UserIDKey)\n",
    "        preds.add_from(pred, algorithm=fld.name.split(\"-\")[1])"
   ]
  },
  {
   "cell_type": "markdown",
   "id": "d7d44dcf",
   "metadata": {},
   "source": [
    "We need to load the test data so that we have the ground truths for computing accuracy"
   ]
  },
  {
   "cell_type": "code",
   "execution_count": 13,
   "id": "2caff5ec",
   "metadata": {},
   "outputs": [],
   "source": [
    "split_root = Path(\"data-split\")\n",
    "split_dir = split_root / dataset"
   ]
  },
  {
   "cell_type": "code",
   "execution_count": 15,
   "id": "2b277170",
   "metadata": {},
   "outputs": [],
   "source": [
    "test = ItemListCollection(UserIDKey)\n",
    "for file in split_dir.glob(\"test-*.parquet\"):\n",
    "    df = pd.read_parquet(file)\n",
    "    test.add_from(ItemListCollection.from_df(df, UserIDKey))"
   ]
  },
  {
   "cell_type": "markdown",
   "id": "2206c3ec",
   "metadata": {},
   "source": [
    "## Top-N Metrics\n",
    "\n",
    "`RunListAnalysis` computes metrics for recommendation results and takes care of\n",
    "matching recommendations and ground truth."
   ]
  },
  {
   "cell_type": "code",
   "execution_count": 16,
   "id": "26a956db",
   "metadata": {},
   "outputs": [
    {
     "data": {
      "text/html": [
       "<div>\n",
       "<style scoped>\n",
       "    .dataframe tbody tr th:only-of-type {\n",
       "        vertical-align: middle;\n",
       "    }\n",
       "\n",
       "    .dataframe tbody tr th {\n",
       "        vertical-align: top;\n",
       "    }\n",
       "\n",
       "    .dataframe thead th {\n",
       "        text-align: right;\n",
       "    }\n",
       "</style>\n",
       "<table border=\"1\" class=\"dataframe\">\n",
       "  <thead>\n",
       "    <tr style=\"text-align: right;\">\n",
       "      <th></th>\n",
       "      <th>mean</th>\n",
       "      <th>median</th>\n",
       "      <th>std</th>\n",
       "    </tr>\n",
       "    <tr>\n",
       "      <th>metric</th>\n",
       "      <th></th>\n",
       "      <th></th>\n",
       "      <th></th>\n",
       "    </tr>\n",
       "  </thead>\n",
       "  <tbody>\n",
       "    <tr>\n",
       "      <th>NDCG</th>\n",
       "      <td>0.053234</td>\n",
       "      <td>4.493845e-02</td>\n",
       "      <td>0.065193</td>\n",
       "    </tr>\n",
       "    <tr>\n",
       "      <th>RecipRank</th>\n",
       "      <td>0.042758</td>\n",
       "      <td>1.298701e-02</td>\n",
       "      <td>0.098754</td>\n",
       "    </tr>\n",
       "    <tr>\n",
       "      <th>RBP</th>\n",
       "      <td>0.007809</td>\n",
       "      <td>6.617445e-24</td>\n",
       "      <td>0.045109</td>\n",
       "    </tr>\n",
       "  </tbody>\n",
       "</table>\n",
       "</div>"
      ],
      "text/plain": [
       "               mean        median       std\n",
       "metric                                     \n",
       "NDCG       0.053234  4.493845e-02  0.065193\n",
       "RecipRank  0.042758  1.298701e-02  0.098754\n",
       "RBP        0.007809  6.617445e-24  0.045109"
      ]
     },
     "execution_count": 16,
     "metadata": {},
     "output_type": "execute_result"
    }
   ],
   "source": [
    "ra = RunAnalysis()\n",
    "\n",
    "ra.add_metric(NDCG())\n",
    "ra.add_metric(RecipRank())\n",
    "ra.add_metric(RBP())\n",
    "\n",
    "results = ra.compute(recs, test)\n",
    "results.list_summary()"
   ]
  },
  {
   "cell_type": "markdown",
   "id": "7c327a61",
   "metadata": {},
   "source": [
    "We can reshape the list metrics and plot them:"
   ]
  },
  {
   "cell_type": "code",
   "execution_count": 29,
   "id": "10c08e5c",
   "metadata": {},
   "outputs": [
    {
     "data": {
      "image/png": "[encoded data removed]",
      "text/plain": [
       "<Figure size 1511.11x500 with 3 Axes>"
      ]
     },
     "metadata": {},
     "output_type": "display_data"
    }
   ],
   "source": [
    "metrics = results.list_metrics()\n",
    "metrics = metrics.melt(var_name='metric', ignore_index=False).reset_index()\n",
    "sns.catplot(metrics, x='algorithm', y='value', col='metric', kind='bar')\n",
    "plt.show()"
   ]
  },
  {
   "cell_type": "markdown",
   "id": "b36f3b73",
   "metadata": {},
   "source": [
    "## Prediction RMSE\n",
    "\n",
    "We will also look at the prediction RMSE."
   ]
  },
  {
   "cell_type": "code",
   "execution_count": 33,
   "id": "1910b49a",
   "metadata": {},
   "outputs": [
    {
     "data": {
      "text/html": [
       "<div>\n",
       "<style scoped>\n",
       "    .dataframe tbody tr th:only-of-type {\n",
       "        vertical-align: middle;\n",
       "    }\n",
       "\n",
       "    .dataframe tbody tr th {\n",
       "        vertical-align: top;\n",
       "    }\n",
       "\n",
       "    .dataframe thead th {\n",
       "        text-align: right;\n",
       "    }\n",
       "</style>\n",
       "<table border=\"1\" class=\"dataframe\">\n",
       "  <thead>\n",
       "    <tr style=\"text-align: right;\">\n",
       "      <th></th>\n",
       "      <th>mean</th>\n",
       "      <th>median</th>\n",
       "      <th>std</th>\n",
       "    </tr>\n",
       "    <tr>\n",
       "      <th>metric</th>\n",
       "      <th></th>\n",
       "      <th></th>\n",
       "      <th></th>\n",
       "    </tr>\n",
       "  </thead>\n",
       "  <tbody>\n",
       "    <tr>\n",
       "      <th>RMSE</th>\n",
       "      <td>1.140178</td>\n",
       "      <td>1.061662</td>\n",
       "      <td>0.640912</td>\n",
       "    </tr>\n",
       "  </tbody>\n",
       "</table>\n",
       "</div>"
      ],
      "text/plain": [
       "            mean    median       std\n",
       "metric                              \n",
       "RMSE    1.140178  1.061662  0.640912"
      ]
     },
     "execution_count": 33,
     "metadata": {},
     "output_type": "execute_result"
    }
   ],
   "source": [
    "ra = RunAnalysis()\n",
    "\n",
    "ra.add_metric(RMSE(missing_scores='ignore', missing_truth='ignore'))\n",
    "\n",
    "results = ra.compute(preds, test)\n",
    "results.list_summary()"
   ]
  },
  {
   "cell_type": "code",
   "execution_count": 36,
   "id": "f15aaa1f",
   "metadata": {},
   "outputs": [
    {
     "data": {
      "image/png": "[encoded data removed]",
      "text/plain": [
       "<Figure size 511.111x500 with 1 Axes>"
      ]
     },
     "metadata": {},
     "output_type": "display_data"
    }
   ],
   "source": [
    "sns.catplot(results.list_metrics().reset_index(), x='algorithm', y='RMSE', kind='bar')\n",
    "plt.show()"
   ]
  },
  {
   "cell_type": "code",
   "execution_count": null,
   "id": "0236df38",
   "metadata": {},
   "outputs": [],
   "source": []
  }
 ],
 "metadata": {
  "jupytext": {
   "formats": "ipynb,md",
   "notebook_metadata_filter": "split_at_heading"
  },
  "kernelspec": {
   "display_name": "Python 3 (ipykernel)",
   "language": "python",
   "name": "python3"
  },
  "language_info": {
   "codemirror_mode": {
    "name": "ipython",
    "version": 3
   },
   "file_extension": ".py",
   "mimetype": "text/x-python",
   "name": "python",
   "nbconvert_exporter": "python",
   "pygments_lexer": "ipython3",
   "version": "3.12.7"
  },
  "split_at_heading": true
 },
 "nbformat": 4,
 "nbformat_minor": 5
}
