{
 "cells": [
  {
   "cell_type": "markdown",
   "id": "605fd33a",
   "metadata": {
    "papermill": {
     "duration": 0.010623,
     "end_time": "2025-02-06T17:58:14.894392",
     "exception": false,
     "start_time": "2025-02-06T17:58:14.883769",
     "status": "completed"
    },
    "tags": []
   },
   "source": [
    "# Evaluation Analysis for Recommender Output"
   ]
  },
  {
   "cell_type": "markdown",
   "id": "60583352",
   "metadata": {
    "papermill": {
     "duration": 0.001121,
     "end_time": "2025-02-06T17:58:14.896964",
     "exception": false,
     "start_time": "2025-02-06T17:58:14.895843",
     "status": "completed"
    },
    "tags": []
   },
   "source": [
    "In this section we will analyze and compare the generated recommendations and predictions from a predefined list of algorithms with the goal of assessing the performance of each algorithm with respect to a metric. In other words, we would rank the algorithms for each metric considered with respect to performance."
   ]
  },
  {
   "cell_type": "markdown",
   "id": "4bb6a3e7",
   "metadata": {
    "papermill": {
     "duration": 0.001117,
     "end_time": "2025-02-06T17:58:14.899236",
     "exception": false,
     "start_time": "2025-02-06T17:58:14.898119",
     "status": "completed"
    },
    "tags": []
   },
   "source": [
    "## Setup"
   ]
  },
  {
   "cell_type": "markdown",
   "id": "d10343e5",
   "metadata": {
    "papermill": {
     "duration": 0.001338,
     "end_time": "2025-02-06T17:58:14.901767",
     "exception": false,
     "start_time": "2025-02-06T17:58:14.900429",
     "status": "completed"
    },
    "tags": []
   },
   "source": [
    "Below are the list of packages required to successfully run the analysis. They are divided into partitions to signify their specific task.<br>\n",
    "We need the pathlib package for working with files and folders"
   ]
  },
  {
   "cell_type": "code",
   "execution_count": 1,
   "id": "e366c574",
   "metadata": {
    "execution": {
     "iopub.execute_input": "2025-02-06T17:58:14.904964Z",
     "iopub.status.busy": "2025-02-06T17:58:14.904778Z",
     "iopub.status.idle": "2025-02-06T17:58:14.907439Z",
     "shell.execute_reply": "2025-02-06T17:58:14.907100Z"
    },
    "papermill": {
     "duration": 0.005048,
     "end_time": "2025-02-06T17:58:14.908013",
     "exception": false,
     "start_time": "2025-02-06T17:58:14.902965",
     "status": "completed"
    },
    "tags": []
   },
   "outputs": [],
   "source": [
    "from pathlib import Path\n",
    "import json"
   ]
  },
  {
   "cell_type": "markdown",
   "id": "f5cd5e83",
   "metadata": {
    "papermill": {
     "duration": 0.001199,
     "end_time": "2025-02-06T17:58:14.910502",
     "exception": false,
     "start_time": "2025-02-06T17:58:14.909303",
     "status": "completed"
    },
    "tags": []
   },
   "source": [
    "We would use the pandas for analyzing and manipulating our data while seaborn and matplotlib are used for data visualization. statsmodels.graphics.gofplots and scipy.stats.shapiro are used for normality check. Scipy.stats.friedmanchisquare is a non-parametric test used to determine the statistical significance in metric results and the wilcoxon test is used for pairwise comparison of sample data."
   ]
  },
  {
   "cell_type": "code",
   "execution_count": 2,
   "id": "35c4aa1e",
   "metadata": {
    "execution": {
     "iopub.execute_input": "2025-02-06T17:58:14.913556Z",
     "iopub.status.busy": "2025-02-06T17:58:14.913280Z",
     "iopub.status.idle": "2025-02-06T17:58:15.439662Z",
     "shell.execute_reply": "2025-02-06T17:58:15.439180Z"
    },
    "lines_to_next_cell": 2,
    "papermill": {
     "duration": 0.528745,
     "end_time": "2025-02-06T17:58:15.440453",
     "exception": false,
     "start_time": "2025-02-06T17:58:14.911708",
     "status": "completed"
    },
    "tags": []
   },
   "outputs": [],
   "source": [
    "import pandas as pd\n",
    "import seaborn as sns\n",
    "import matplotlib.pyplot as plt\n",
    "from statsmodels.graphics.gofplots import qqplot\n",
    "from scipy.stats import shapiro\n",
    "from scipy.stats import friedmanchisquare, wilcoxon\n",
    "from itertools import combinations"
   ]
  },
  {
   "cell_type": "markdown",
   "id": "b77c1db0",
   "metadata": {
    "papermill": {
     "duration": 0.009062,
     "end_time": "2025-02-06T17:58:15.450952",
     "exception": false,
     "start_time": "2025-02-06T17:58:15.441890",
     "status": "completed"
    },
    "tags": []
   },
   "source": [
    "Import the LensKit metrics for analysis:"
   ]
  },
  {
   "cell_type": "code",
   "execution_count": 3,
   "id": "86454f14",
   "metadata": {
    "execution": {
     "iopub.execute_input": "2025-02-06T17:58:15.456821Z",
     "iopub.status.busy": "2025-02-06T17:58:15.456639Z",
     "iopub.status.idle": "2025-02-06T17:58:16.095490Z",
     "shell.execute_reply": "2025-02-06T17:58:16.094987Z"
    },
    "papermill": {
     "duration": 0.642914,
     "end_time": "2025-02-06T17:58:16.096452",
     "exception": false,
     "start_time": "2025-02-06T17:58:15.453538",
     "status": "completed"
    },
    "tags": []
   },
   "outputs": [],
   "source": [
    "from lenskit.data import Dataset, ItemListCollection, UserIDKey\n",
    "from lenskit.metrics import RunAnalysis, RMSE, NDCG, RecipRank, RBP"
   ]
  },
  {
   "cell_type": "code",
   "execution_count": 4,
   "id": "1b539163",
   "metadata": {
    "execution": {
     "iopub.execute_input": "2025-02-06T17:58:16.108319Z",
     "iopub.status.busy": "2025-02-06T17:58:16.108243Z",
     "iopub.status.idle": "2025-02-06T17:58:16.110939Z",
     "shell.execute_reply": "2025-02-06T17:58:16.110691Z"
    },
    "papermill": {
     "duration": 0.012479,
     "end_time": "2025-02-06T17:58:16.111392",
     "exception": false,
     "start_time": "2025-02-06T17:58:16.098913",
     "status": "completed"
    },
    "tags": []
   },
   "outputs": [],
   "source": [
    "from lkdemo.datasets import split_fraction"
   ]
  },
  {
   "cell_type": "markdown",
   "id": "db65cf61",
   "metadata": {
    "papermill": {
     "duration": 0.001191,
     "end_time": "2025-02-06T17:58:16.113854",
     "exception": false,
     "start_time": "2025-02-06T17:58:16.112663",
     "status": "completed"
    },
    "tags": []
   },
   "source": [
    "## Load Data\n",
    "\n",
    "The recommendations are in `runs`, and we will need to reassemble the test data from `test`."
   ]
  },
  {
   "cell_type": "code",
   "execution_count": 5,
   "id": "de8c0535",
   "metadata": {
    "execution": {
     "iopub.execute_input": "2025-02-06T17:58:16.116710Z",
     "iopub.status.busy": "2025-02-06T17:58:16.116523Z",
     "iopub.status.idle": "2025-02-06T17:58:16.118007Z",
     "shell.execute_reply": "2025-02-06T17:58:16.117786Z"
    },
    "papermill": {
     "duration": 0.003375,
     "end_time": "2025-02-06T17:58:16.118449",
     "exception": false,
     "start_time": "2025-02-06T17:58:16.115074",
     "status": "completed"
    },
    "tags": [
     "parameters"
    ]
   },
   "outputs": [],
   "source": [
    "dataset = \"ml-100k\""
   ]
  },
  {
   "cell_type": "code",
   "execution_count": 6,
   "id": "06f63d6b",
   "metadata": {
    "execution": {
     "iopub.execute_input": "2025-02-06T17:58:16.121151Z",
     "iopub.status.busy": "2025-02-06T17:58:16.121053Z",
     "iopub.status.idle": "2025-02-06T17:58:16.122439Z",
     "shell.execute_reply": "2025-02-06T17:58:16.122220Z"
    },
    "papermill": {
     "duration": 0.003046,
     "end_time": "2025-02-06T17:58:16.122712",
     "exception": false,
     "start_time": "2025-02-06T17:58:16.119666",
     "status": "completed"
    },
    "tags": [
     "injected-parameters"
    ]
   },
   "outputs": [],
   "source": [
    "# Parameters\n",
    "dataset = \"ml-latest-small\"\n"
   ]
  },
  {
   "cell_type": "code",
   "execution_count": 7,
   "id": "f5ea83f3",
   "metadata": {
    "execution": {
     "iopub.execute_input": "2025-02-06T17:58:16.125579Z",
     "iopub.status.busy": "2025-02-06T17:58:16.125481Z",
     "iopub.status.idle": "2025-02-06T17:58:16.126903Z",
     "shell.execute_reply": "2025-02-06T17:58:16.126679Z"
    },
    "papermill": {
     "duration": 0.00334,
     "end_time": "2025-02-06T17:58:16.127275",
     "exception": false,
     "start_time": "2025-02-06T17:58:16.123935",
     "status": "completed"
    },
    "tags": []
   },
   "outputs": [],
   "source": [
    "output_root = Path(\"runs\")"
   ]
  },
  {
   "cell_type": "code",
   "execution_count": 8,
   "id": "327f8a13",
   "metadata": {
    "execution": {
     "iopub.execute_input": "2025-02-06T17:58:16.130177Z",
     "iopub.status.busy": "2025-02-06T17:58:16.130076Z",
     "iopub.status.idle": "2025-02-06T17:58:16.131728Z",
     "shell.execute_reply": "2025-02-06T17:58:16.131498Z"
    },
    "papermill": {
     "duration": 0.003639,
     "end_time": "2025-02-06T17:58:16.132153",
     "exception": false,
     "start_time": "2025-02-06T17:58:16.128514",
     "status": "completed"
    },
    "tags": []
   },
   "outputs": [],
   "source": [
    "dirs = [fld for fld in output_root.glob(f'{dataset}-*')]"
   ]
  },
  {
   "cell_type": "code",
   "execution_count": 9,
   "id": "a0d58d42",
   "metadata": {
    "execution": {
     "iopub.execute_input": "2025-02-06T17:58:16.135115Z",
     "iopub.status.busy": "2025-02-06T17:58:16.134957Z",
     "iopub.status.idle": "2025-02-06T17:58:16.158646Z",
     "shell.execute_reply": "2025-02-06T17:58:16.158295Z"
    },
    "papermill": {
     "duration": 0.025691,
     "end_time": "2025-02-06T17:58:16.159089",
     "exception": false,
     "start_time": "2025-02-06T17:58:16.133398",
     "status": "completed"
    },
    "tags": []
   },
   "outputs": [],
   "source": [
    "recs = ItemListCollection(['model', 'user_id'], index=False)\n",
    "for fld in dirs:\n",
    "    for file in fld.glob(\"recs-*\"):\n",
    "        rec = ItemListCollection.load_parquet(file)\n",
    "        recs.add_from(rec, model=fld.name.split(\"-\")[-1])"
   ]
  },
  {
   "cell_type": "code",
   "execution_count": 10,
   "id": "68039a12",
   "metadata": {
    "execution": {
     "iopub.execute_input": "2025-02-06T17:58:16.162103Z",
     "iopub.status.busy": "2025-02-06T17:58:16.162034Z",
     "iopub.status.idle": "2025-02-06T17:58:16.165090Z",
     "shell.execute_reply": "2025-02-06T17:58:16.164857Z"
    },
    "papermill": {
     "duration": 0.005107,
     "end_time": "2025-02-06T17:58:16.165541",
     "exception": false,
     "start_time": "2025-02-06T17:58:16.160434",
     "status": "completed"
    },
    "tags": []
   },
   "outputs": [
    {
     "data": {
      "text/plain": [
       "['ALS', 'Bias', 'IALS', 'IIE', 'III', 'Pop', 'UUE']"
      ]
     },
     "execution_count": 10,
     "metadata": {},
     "output_type": "execute_result"
    }
   ],
   "source": [
    "rec_algos = sorted(set(a for (a, _u) in recs.keys()))\n",
    "rec_algos"
   ]
  },
  {
   "cell_type": "code",
   "execution_count": 11,
   "id": "6ec8ce31",
   "metadata": {
    "execution": {
     "iopub.execute_input": "2025-02-06T17:58:16.168680Z",
     "iopub.status.busy": "2025-02-06T17:58:16.168498Z",
     "iopub.status.idle": "2025-02-06T17:58:16.187812Z",
     "shell.execute_reply": "2025-02-06T17:58:16.187463Z"
    },
    "papermill": {
     "duration": 0.021523,
     "end_time": "2025-02-06T17:58:16.188403",
     "exception": false,
     "start_time": "2025-02-06T17:58:16.166880",
     "status": "completed"
    },
    "tags": []
   },
   "outputs": [],
   "source": [
    "preds = ItemListCollection(['model', 'user_id'], index=False)\n",
    "for fld in dirs:\n",
    "    for file in fld.glob(\"pred-*\"):\n",
    "        pred = ItemListCollection.load_parquet(file)\n",
    "        preds.add_from(pred, model=fld.name.split(\"-\")[-1])"
   ]
  },
  {
   "cell_type": "markdown",
   "id": "d7984c97",
   "metadata": {
    "papermill": {
     "duration": 0.001276,
     "end_time": "2025-02-06T17:58:16.191135",
     "exception": false,
     "start_time": "2025-02-06T17:58:16.189859",
     "status": "completed"
    },
    "tags": []
   },
   "source": [
    "We need to load the test data so that we have the ground truths for computing accuracy"
   ]
  },
  {
   "cell_type": "code",
   "execution_count": 12,
   "id": "edea330e",
   "metadata": {
    "execution": {
     "iopub.execute_input": "2025-02-06T17:58:16.194327Z",
     "iopub.status.busy": "2025-02-06T17:58:16.194253Z",
     "iopub.status.idle": "2025-02-06T17:58:16.215393Z",
     "shell.execute_reply": "2025-02-06T17:58:16.215012Z"
    },
    "papermill": {
     "duration": 0.023606,
     "end_time": "2025-02-06T17:58:16.216055",
     "exception": false,
     "start_time": "2025-02-06T17:58:16.192449",
     "status": "completed"
    },
    "tags": []
   },
   "outputs": [],
   "source": [
    "data = Dataset.load(f\"data/{dataset}\")\n",
    "split = split_fraction(data, 0.2)\n",
    "test = split.test"
   ]
  },
  {
   "cell_type": "markdown",
   "id": "8d267c49",
   "metadata": {
    "papermill": {
     "duration": 0.001303,
     "end_time": "2025-02-06T17:58:16.218893",
     "exception": false,
     "start_time": "2025-02-06T17:58:16.217590",
     "status": "completed"
    },
    "tags": []
   },
   "source": [
    "## Top-N Metrics\n",
    "\n",
    "`RunListAnalysis` computes metrics for recommendation results and takes care of\n",
    "matching recommendations and ground truth."
   ]
  },
  {
   "cell_type": "code",
   "execution_count": 13,
   "id": "5c468e42",
   "metadata": {
    "execution": {
     "iopub.execute_input": "2025-02-06T17:58:16.222135Z",
     "iopub.status.busy": "2025-02-06T17:58:16.222033Z",
     "iopub.status.idle": "2025-02-06T17:58:16.304510Z",
     "shell.execute_reply": "2025-02-06T17:58:16.304054Z"
    },
    "papermill": {
     "duration": 0.084842,
     "end_time": "2025-02-06T17:58:16.305077",
     "exception": false,
     "start_time": "2025-02-06T17:58:16.220235",
     "status": "completed"
    },
    "tags": []
   },
   "outputs": [
    {
     "name": "stderr",
     "output_type": "stream",
     "text": [
      "/home/mde48/lenskit/lk-demo-experiment/.venv/lib/python3.13/site-packages/lenskit/metrics/bulk.py:127: FutureWarning: The previous implementation of stack is deprecated and will be removed in a future version of pandas. See the What's New notes for pandas 2.1.0 for details. Specify future_stack=True to adopt the new implementation and silence this warning.\n",
      "  df = scores.groupby(list(keys)).agg([\"mean\", \"median\", \"std\"]).stack(level=0)\n"
     ]
    },
    {
     "data": {
      "text/html": [
       "<div>\n",
       "<style scoped>\n",
       "    .dataframe tbody tr th:only-of-type {\n",
       "        vertical-align: middle;\n",
       "    }\n",
       "\n",
       "    .dataframe tbody tr th {\n",
       "        vertical-align: top;\n",
       "    }\n",
       "\n",
       "    .dataframe thead th {\n",
       "        text-align: right;\n",
       "    }\n",
       "</style>\n",
       "<table border=\"1\" class=\"dataframe\">\n",
       "  <thead>\n",
       "    <tr style=\"text-align: right;\">\n",
       "      <th></th>\n",
       "      <th></th>\n",
       "      <th>mean</th>\n",
       "      <th>median</th>\n",
       "      <th>std</th>\n",
       "    </tr>\n",
       "    <tr>\n",
       "      <th>model</th>\n",
       "      <th></th>\n",
       "      <th></th>\n",
       "      <th></th>\n",
       "      <th></th>\n",
       "    </tr>\n",
       "  </thead>\n",
       "  <tbody>\n",
       "    <tr>\n",
       "      <th rowspan=\"3\" valign=\"top\">ALS</th>\n",
       "      <th>NDCG</th>\n",
       "      <td>0.143585</td>\n",
       "      <td>1.232583e-01</td>\n",
       "      <td>0.109129</td>\n",
       "    </tr>\n",
       "    <tr>\n",
       "      <th>RBP</th>\n",
       "      <td>0.301857</td>\n",
       "      <td>5.000000e-01</td>\n",
       "      <td>0.278593</td>\n",
       "    </tr>\n",
       "    <tr>\n",
       "      <th>RecipRank</th>\n",
       "      <td>0.572264</td>\n",
       "      <td>1.000000e+00</td>\n",
       "      <td>0.451754</td>\n",
       "    </tr>\n",
       "    <tr>\n",
       "      <th rowspan=\"3\" valign=\"top\">Bias</th>\n",
       "      <th>NDCG</th>\n",
       "      <td>0.144237</td>\n",
       "      <td>1.232583e-01</td>\n",
       "      <td>0.112597</td>\n",
       "    </tr>\n",
       "    <tr>\n",
       "      <th>RBP</th>\n",
       "      <td>0.302009</td>\n",
       "      <td>5.000000e-01</td>\n",
       "      <td>0.281581</td>\n",
       "    </tr>\n",
       "    <tr>\n",
       "      <th>RecipRank</th>\n",
       "      <td>0.569998</td>\n",
       "      <td>1.000000e+00</td>\n",
       "      <td>0.459706</td>\n",
       "    </tr>\n",
       "    <tr>\n",
       "      <th rowspan=\"3\" valign=\"top\">IALS</th>\n",
       "      <th>NDCG</th>\n",
       "      <td>0.036128</td>\n",
       "      <td>1.190915e-02</td>\n",
       "      <td>0.087273</td>\n",
       "    </tr>\n",
       "    <tr>\n",
       "      <th>RBP</th>\n",
       "      <td>0.017900</td>\n",
       "      <td>5.820766e-11</td>\n",
       "      <td>0.096810</td>\n",
       "    </tr>\n",
       "    <tr>\n",
       "      <th>RecipRank</th>\n",
       "      <td>0.057071</td>\n",
       "      <td>2.941176e-02</td>\n",
       "      <td>0.123974</td>\n",
       "    </tr>\n",
       "    <tr>\n",
       "      <th rowspan=\"3\" valign=\"top\">IIE</th>\n",
       "      <th>NDCG</th>\n",
       "      <td>0.003376</td>\n",
       "      <td>0.000000e+00</td>\n",
       "      <td>0.012898</td>\n",
       "    </tr>\n",
       "    <tr>\n",
       "      <th>RBP</th>\n",
       "      <td>0.001393</td>\n",
       "      <td>0.000000e+00</td>\n",
       "      <td>0.011963</td>\n",
       "    </tr>\n",
       "    <tr>\n",
       "      <th>RecipRank</th>\n",
       "      <td>0.008005</td>\n",
       "      <td>0.000000e+00</td>\n",
       "      <td>0.038480</td>\n",
       "    </tr>\n",
       "    <tr>\n",
       "      <th rowspan=\"3\" valign=\"top\">III</th>\n",
       "      <th>NDCG</th>\n",
       "      <td>0.025775</td>\n",
       "      <td>0.000000e+00</td>\n",
       "      <td>0.080206</td>\n",
       "    </tr>\n",
       "    <tr>\n",
       "      <th>RBP</th>\n",
       "      <td>0.026902</td>\n",
       "      <td>0.000000e+00</td>\n",
       "      <td>0.111105</td>\n",
       "    </tr>\n",
       "    <tr>\n",
       "      <th>RecipRank</th>\n",
       "      <td>0.053646</td>\n",
       "      <td>0.000000e+00</td>\n",
       "      <td>0.181649</td>\n",
       "    </tr>\n",
       "    <tr>\n",
       "      <th rowspan=\"3\" valign=\"top\">Pop</th>\n",
       "      <th>NDCG</th>\n",
       "      <td>0.217502</td>\n",
       "      <td>1.979622e-01</td>\n",
       "      <td>0.154321</td>\n",
       "    </tr>\n",
       "    <tr>\n",
       "      <th>RBP</th>\n",
       "      <td>0.480820</td>\n",
       "      <td>5.001221e-01</td>\n",
       "      <td>0.386027</td>\n",
       "    </tr>\n",
       "    <tr>\n",
       "      <th>RecipRank</th>\n",
       "      <td>0.637057</td>\n",
       "      <td>1.000000e+00</td>\n",
       "      <td>0.420176</td>\n",
       "    </tr>\n",
       "    <tr>\n",
       "      <th rowspan=\"3\" valign=\"top\">UUE</th>\n",
       "      <th>NDCG</th>\n",
       "      <td>0.000188</td>\n",
       "      <td>0.000000e+00</td>\n",
       "      <td>0.001452</td>\n",
       "    </tr>\n",
       "    <tr>\n",
       "      <th>RBP</th>\n",
       "      <td>0.000004</td>\n",
       "      <td>0.000000e+00</td>\n",
       "      <td>0.000045</td>\n",
       "    </tr>\n",
       "    <tr>\n",
       "      <th>RecipRank</th>\n",
       "      <td>0.001129</td>\n",
       "      <td>0.000000e+00</td>\n",
       "      <td>0.009192</td>\n",
       "    </tr>\n",
       "  </tbody>\n",
       "</table>\n",
       "</div>"
      ],
      "text/plain": [
       "                     mean        median       std\n",
       "model                                            \n",
       "ALS   NDCG       0.143585  1.232583e-01  0.109129\n",
       "      RBP        0.301857  5.000000e-01  0.278593\n",
       "      RecipRank  0.572264  1.000000e+00  0.451754\n",
       "Bias  NDCG       0.144237  1.232583e-01  0.112597\n",
       "      RBP        0.302009  5.000000e-01  0.281581\n",
       "      RecipRank  0.569998  1.000000e+00  0.459706\n",
       "IALS  NDCG       0.036128  1.190915e-02  0.087273\n",
       "      RBP        0.017900  5.820766e-11  0.096810\n",
       "      RecipRank  0.057071  2.941176e-02  0.123974\n",
       "IIE   NDCG       0.003376  0.000000e+00  0.012898\n",
       "      RBP        0.001393  0.000000e+00  0.011963\n",
       "      RecipRank  0.008005  0.000000e+00  0.038480\n",
       "III   NDCG       0.025775  0.000000e+00  0.080206\n",
       "      RBP        0.026902  0.000000e+00  0.111105\n",
       "      RecipRank  0.053646  0.000000e+00  0.181649\n",
       "Pop   NDCG       0.217502  1.979622e-01  0.154321\n",
       "      RBP        0.480820  5.001221e-01  0.386027\n",
       "      RecipRank  0.637057  1.000000e+00  0.420176\n",
       "UUE   NDCG       0.000188  0.000000e+00  0.001452\n",
       "      RBP        0.000004  0.000000e+00  0.000045\n",
       "      RecipRank  0.001129  0.000000e+00  0.009192"
      ]
     },
     "execution_count": 13,
     "metadata": {},
     "output_type": "execute_result"
    }
   ],
   "source": [
    "ra = RunAnalysis()\n",
    "\n",
    "ra.add_metric(NDCG())\n",
    "ra.add_metric(RecipRank())\n",
    "ra.add_metric(RBP())\n",
    "\n",
    "rec_results = ra.compute(recs, test)\n",
    "rec_results.list_summary('model')"
   ]
  },
  {
   "cell_type": "markdown",
   "id": "2cda0b8b",
   "metadata": {
    "papermill": {
     "duration": 0.001457,
     "end_time": "2025-02-06T17:58:16.308094",
     "exception": false,
     "start_time": "2025-02-06T17:58:16.306637",
     "status": "completed"
    },
    "tags": []
   },
   "source": [
    "We can reshape the list metrics and plot them:"
   ]
  },
  {
   "cell_type": "code",
   "execution_count": 14,
   "id": "2501e294",
   "metadata": {
    "execution": {
     "iopub.execute_input": "2025-02-06T17:58:16.311700Z",
     "iopub.status.busy": "2025-02-06T17:58:16.311615Z",
     "iopub.status.idle": "2025-02-06T17:58:16.618773Z",
     "shell.execute_reply": "2025-02-06T17:58:16.618595Z"
    },
    "papermill": {
     "duration": 0.309675,
     "end_time": "2025-02-06T17:58:16.619260",
     "exception": false,
     "start_time": "2025-02-06T17:58:16.309585",
     "status": "completed"
    },
    "tags": []
   },
   "outputs": [
    {
     "data": {
      "image/png": "[encoded data removed]",
      "text/plain": [
       "<Figure size 1511.11x500 with 3 Axes>"
      ]
     },
     "metadata": {},
     "output_type": "display_data"
    }
   ],
   "source": [
    "metrics = rec_results.list_metrics()\n",
    "metrics = metrics.melt(var_name='metric', ignore_index=False).reset_index()\n",
    "sns.catplot(metrics, x='model', y='value', col='metric', kind='bar')\n",
    "plt.show()"
   ]
  },
  {
   "cell_type": "markdown",
   "id": "993824c4",
   "metadata": {
    "papermill": {
     "duration": 0.001587,
     "end_time": "2025-02-06T17:58:16.622703",
     "exception": false,
     "start_time": "2025-02-06T17:58:16.621116",
     "status": "completed"
    },
    "tags": []
   },
   "source": [
    "## Prediction RMSE\n",
    "\n",
    "We will also look at the prediction RMSE."
   ]
  },
  {
   "cell_type": "code",
   "execution_count": 15,
   "id": "03e3a07f",
   "metadata": {
    "execution": {
     "iopub.execute_input": "2025-02-06T17:58:16.626231Z",
     "iopub.status.busy": "2025-02-06T17:58:16.626135Z",
     "iopub.status.idle": "2025-02-06T17:58:16.705445Z",
     "shell.execute_reply": "2025-02-06T17:58:16.705282Z"
    },
    "papermill": {
     "duration": 0.081721,
     "end_time": "2025-02-06T17:58:16.705979",
     "exception": false,
     "start_time": "2025-02-06T17:58:16.624258",
     "status": "completed"
    },
    "tags": []
   },
   "outputs": [
    {
     "name": "stderr",
     "output_type": "stream",
     "text": [
      "/home/mde48/lenskit/lk-demo-experiment/.venv/lib/python3.13/site-packages/lenskit/metrics/bulk.py:127: FutureWarning: The previous implementation of stack is deprecated and will be removed in a future version of pandas. See the What's New notes for pandas 2.1.0 for details. Specify future_stack=True to adopt the new implementation and silence this warning.\n",
      "  df = scores.groupby(list(keys)).agg([\"mean\", \"median\", \"std\"]).stack(level=0)\n"
     ]
    },
    {
     "data": {
      "text/html": [
       "<div>\n",
       "<style scoped>\n",
       "    .dataframe tbody tr th:only-of-type {\n",
       "        vertical-align: middle;\n",
       "    }\n",
       "\n",
       "    .dataframe tbody tr th {\n",
       "        vertical-align: top;\n",
       "    }\n",
       "\n",
       "    .dataframe thead th {\n",
       "        text-align: right;\n",
       "    }\n",
       "</style>\n",
       "<table border=\"1\" class=\"dataframe\">\n",
       "  <thead>\n",
       "    <tr style=\"text-align: right;\">\n",
       "      <th></th>\n",
       "      <th></th>\n",
       "      <th>mean</th>\n",
       "      <th>median</th>\n",
       "      <th>std</th>\n",
       "    </tr>\n",
       "    <tr>\n",
       "      <th>model</th>\n",
       "      <th></th>\n",
       "      <th></th>\n",
       "      <th></th>\n",
       "      <th></th>\n",
       "    </tr>\n",
       "  </thead>\n",
       "  <tbody>\n",
       "    <tr>\n",
       "      <th>ALS</th>\n",
       "      <th>RMSE</th>\n",
       "      <td>0.961093</td>\n",
       "      <td>0.898315</td>\n",
       "      <td>0.343152</td>\n",
       "    </tr>\n",
       "    <tr>\n",
       "      <th>Bias</th>\n",
       "      <th>RMSE</th>\n",
       "      <td>0.965678</td>\n",
       "      <td>0.899920</td>\n",
       "      <td>0.346167</td>\n",
       "    </tr>\n",
       "    <tr>\n",
       "      <th>IIE</th>\n",
       "      <th>RMSE</th>\n",
       "      <td>0.996960</td>\n",
       "      <td>0.942495</td>\n",
       "      <td>0.358581</td>\n",
       "    </tr>\n",
       "    <tr>\n",
       "      <th>UUE</th>\n",
       "      <th>RMSE</th>\n",
       "      <td>1.005463</td>\n",
       "      <td>0.942495</td>\n",
       "      <td>0.356630</td>\n",
       "    </tr>\n",
       "  </tbody>\n",
       "</table>\n",
       "</div>"
      ],
      "text/plain": [
       "                mean    median       std\n",
       "model                                   \n",
       "ALS   RMSE  0.961093  0.898315  0.343152\n",
       "Bias  RMSE  0.965678  0.899920  0.346167\n",
       "IIE   RMSE  0.996960  0.942495  0.358581\n",
       "UUE   RMSE  1.005463  0.942495  0.356630"
      ]
     },
     "execution_count": 15,
     "metadata": {},
     "output_type": "execute_result"
    }
   ],
   "source": [
    "pa = RunAnalysis()\n",
    "\n",
    "pa.add_metric(RMSE(missing_scores='ignore', missing_truth='ignore'))\n",
    "\n",
    "pred_results = pa.compute(preds, test)\n",
    "pred_results.list_summary('model')"
   ]
  },
  {
   "cell_type": "code",
   "execution_count": 16,
   "id": "a637c5ce",
   "metadata": {
    "execution": {
     "iopub.execute_input": "2025-02-06T17:58:16.709772Z",
     "iopub.status.busy": "2025-02-06T17:58:16.709685Z",
     "iopub.status.idle": "2025-02-06T17:58:16.788202Z",
     "shell.execute_reply": "2025-02-06T17:58:16.788035Z"
    },
    "papermill": {
     "duration": 0.081106,
     "end_time": "2025-02-06T17:58:16.788796",
     "exception": false,
     "start_time": "2025-02-06T17:58:16.707690",
     "status": "completed"
    },
    "tags": []
   },
   "outputs": [
    {
     "data": {
      "image/png": "[encoded data removed]",
      "text/plain": [
       "<Figure size 511.111x500 with 1 Axes>"
      ]
     },
     "metadata": {},
     "output_type": "display_data"
    }
   ],
   "source": [
    "sns.catplot(pred_results.list_metrics().reset_index(), x='model', y='RMSE', kind='bar')\n",
    "plt.show()"
   ]
  },
  {
   "cell_type": "markdown",
   "id": "9a86aaec",
   "metadata": {
    "papermill": {
     "duration": 0.001719,
     "end_time": "2025-02-06T17:58:16.793985",
     "exception": false,
     "start_time": "2025-02-06T17:58:16.792266",
     "status": "completed"
    },
    "tags": []
   },
   "source": [
    "## Save Metrics\n",
    "\n",
    "We'll now save the metrics to a file."
   ]
  },
  {
   "cell_type": "code",
   "execution_count": 17,
   "id": "7cc6c33e",
   "metadata": {
    "execution": {
     "iopub.execute_input": "2025-02-06T17:58:16.797879Z",
     "iopub.status.busy": "2025-02-06T17:58:16.797772Z",
     "iopub.status.idle": "2025-02-06T17:58:16.804153Z",
     "shell.execute_reply": "2025-02-06T17:58:16.803999Z"
    },
    "papermill": {
     "duration": 0.008872,
     "end_time": "2025-02-06T17:58:16.804569",
     "exception": false,
     "start_time": "2025-02-06T17:58:16.795697",
     "status": "completed"
    },
    "tags": []
   },
   "outputs": [
    {
     "name": "stderr",
     "output_type": "stream",
     "text": [
      "/home/mde48/lenskit/lk-demo-experiment/.venv/lib/python3.13/site-packages/lenskit/metrics/bulk.py:127: FutureWarning: The previous implementation of stack is deprecated and will be removed in a future version of pandas. See the What's New notes for pandas 2.1.0 for details. Specify future_stack=True to adopt the new implementation and silence this warning.\n",
      "  df = scores.groupby(list(keys)).agg([\"mean\", \"median\", \"std\"]).stack(level=0)\n"
     ]
    },
    {
     "data": {
      "text/html": [
       "<div>\n",
       "<style scoped>\n",
       "    .dataframe tbody tr th:only-of-type {\n",
       "        vertical-align: middle;\n",
       "    }\n",
       "\n",
       "    .dataframe tbody tr th {\n",
       "        vertical-align: top;\n",
       "    }\n",
       "\n",
       "    .dataframe thead th {\n",
       "        text-align: right;\n",
       "    }\n",
       "</style>\n",
       "<table border=\"1\" class=\"dataframe\">\n",
       "  <thead>\n",
       "    <tr style=\"text-align: right;\">\n",
       "      <th></th>\n",
       "      <th>NDCG</th>\n",
       "      <th>RBP</th>\n",
       "      <th>RecipRank</th>\n",
       "    </tr>\n",
       "    <tr>\n",
       "      <th>model</th>\n",
       "      <th></th>\n",
       "      <th></th>\n",
       "      <th></th>\n",
       "    </tr>\n",
       "  </thead>\n",
       "  <tbody>\n",
       "    <tr>\n",
       "      <th>ALS</th>\n",
       "      <td>0.143585</td>\n",
       "      <td>0.301857</td>\n",
       "      <td>0.572264</td>\n",
       "    </tr>\n",
       "    <tr>\n",
       "      <th>Bias</th>\n",
       "      <td>0.144237</td>\n",
       "      <td>0.302009</td>\n",
       "      <td>0.569998</td>\n",
       "    </tr>\n",
       "    <tr>\n",
       "      <th>IALS</th>\n",
       "      <td>0.036128</td>\n",
       "      <td>0.017900</td>\n",
       "      <td>0.057071</td>\n",
       "    </tr>\n",
       "    <tr>\n",
       "      <th>IIE</th>\n",
       "      <td>0.003376</td>\n",
       "      <td>0.001393</td>\n",
       "      <td>0.008005</td>\n",
       "    </tr>\n",
       "    <tr>\n",
       "      <th>III</th>\n",
       "      <td>0.025775</td>\n",
       "      <td>0.026902</td>\n",
       "      <td>0.053646</td>\n",
       "    </tr>\n",
       "    <tr>\n",
       "      <th>Pop</th>\n",
       "      <td>0.217502</td>\n",
       "      <td>0.480820</td>\n",
       "      <td>0.637057</td>\n",
       "    </tr>\n",
       "    <tr>\n",
       "      <th>UUE</th>\n",
       "      <td>0.000188</td>\n",
       "      <td>0.000004</td>\n",
       "      <td>0.001129</td>\n",
       "    </tr>\n",
       "  </tbody>\n",
       "</table>\n",
       "</div>"
      ],
      "text/plain": [
       "           NDCG       RBP  RecipRank\n",
       "model                               \n",
       "ALS    0.143585  0.301857   0.572264\n",
       "Bias   0.144237  0.302009   0.569998\n",
       "IALS   0.036128  0.017900   0.057071\n",
       "IIE    0.003376  0.001393   0.008005\n",
       "III    0.025775  0.026902   0.053646\n",
       "Pop    0.217502  0.480820   0.637057\n",
       "UUE    0.000188  0.000004   0.001129"
      ]
     },
     "execution_count": 17,
     "metadata": {},
     "output_type": "execute_result"
    }
   ],
   "source": [
    "rlsum = rec_results.list_summary('model')['mean'].unstack()\n",
    "rlsum"
   ]
  },
  {
   "cell_type": "code",
   "execution_count": 18,
   "id": "1cfaa06d",
   "metadata": {
    "execution": {
     "iopub.execute_input": "2025-02-06T17:58:16.808445Z",
     "iopub.status.busy": "2025-02-06T17:58:16.808336Z",
     "iopub.status.idle": "2025-02-06T17:58:16.809960Z",
     "shell.execute_reply": "2025-02-06T17:58:16.809807Z"
    },
    "papermill": {
     "duration": 0.00406,
     "end_time": "2025-02-06T17:58:16.810365",
     "exception": false,
     "start_time": "2025-02-06T17:58:16.806305",
     "status": "completed"
    },
    "tags": []
   },
   "outputs": [],
   "source": [
    "rlsum.to_json(f'eval-metrics.{dataset}.json', orient='index')"
   ]
  }
 ],
 "metadata": {
  "jupytext": {
   "formats": "ipynb,md",
   "notebook_metadata_filter": "split_at_heading"
  },
  "kernelspec": {
   "display_name": "Python 3 (ipykernel)",
   "language": "python",
   "name": "python3"
  },
  "language_info": {
   "codemirror_mode": {
    "name": "ipython",
    "version": 3
   },
   "file_extension": ".py",
   "mimetype": "text/x-python",
   "name": "python",
   "nbconvert_exporter": "python",
   "pygments_lexer": "ipython3",
   "version": "3.13.1"
  },
  "papermill": {
   "default_parameters": {},
   "duration": 2.958749,
   "end_time": "2025-02-06T17:58:17.225333",
   "environment_variables": {},
   "exception": null,
   "input_path": "eval-report.ipynb",
   "output_path": "eval-report.ml-latest-small.ipynb",
   "parameters": {
    "dataset": "ml-latest-small"
   },
   "start_time": "2025-02-06T17:58:14.266584",
   "version": "2.6.0"
  },
  "split_at_heading": true
 },
 "nbformat": 4,
 "nbformat_minor": 5
}