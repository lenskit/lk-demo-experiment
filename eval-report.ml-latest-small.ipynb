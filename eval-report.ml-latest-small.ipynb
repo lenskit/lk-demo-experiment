{
 "cells": [
  {
   "cell_type": "markdown",
   "id": "cf34c732",
   "metadata": {
    "papermill": {
     "duration": 0.007691,
     "end_time": "2025-02-22T22:41:12.198013",
     "exception": false,
     "start_time": "2025-02-22T22:41:12.190322",
     "status": "completed"
    },
    "tags": []
   },
   "source": [
    "# Evaluation Analysis for Recommender Output"
   ]
  },
  {
   "cell_type": "markdown",
   "id": "f179abe6",
   "metadata": {
    "papermill": {
     "duration": 0.001299,
     "end_time": "2025-02-22T22:41:12.200824",
     "exception": false,
     "start_time": "2025-02-22T22:41:12.199525",
     "status": "completed"
    },
    "tags": []
   },
   "source": [
    "In this section we will analyze and compare the generated recommendations and predictions from a predefined list of algorithms with the goal of assessing the performance of each algorithm with respect to a metric. In other words, we would rank the algorithms for each metric considered with respect to performance."
   ]
  },
  {
   "cell_type": "markdown",
   "id": "5d3472f4",
   "metadata": {
    "papermill": {
     "duration": 0.00124,
     "end_time": "2025-02-22T22:41:12.203366",
     "exception": false,
     "start_time": "2025-02-22T22:41:12.202126",
     "status": "completed"
    },
    "tags": []
   },
   "source": [
    "## Setup"
   ]
  },
  {
   "cell_type": "markdown",
   "id": "cc43fdaf",
   "metadata": {
    "papermill": {
     "duration": 0.00126,
     "end_time": "2025-02-22T22:41:12.206011",
     "exception": false,
     "start_time": "2025-02-22T22:41:12.204751",
     "status": "completed"
    },
    "tags": []
   },
   "source": [
    "Below are the list of packages required to successfully run the analysis. They are divided into partitions to signify their specific task.<br>\n",
    "We need the pathlib package for working with files and folders"
   ]
  },
  {
   "cell_type": "code",
   "execution_count": 1,
   "id": "014be844",
   "metadata": {
    "execution": {
     "iopub.execute_input": "2025-02-22T22:41:12.209493Z",
     "iopub.status.busy": "2025-02-22T22:41:12.209313Z",
     "iopub.status.idle": "2025-02-22T22:41:12.211858Z",
     "shell.execute_reply": "2025-02-22T22:41:12.211460Z"
    },
    "papermill": {
     "duration": 0.005095,
     "end_time": "2025-02-22T22:41:12.212424",
     "exception": false,
     "start_time": "2025-02-22T22:41:12.207329",
     "status": "completed"
    },
    "tags": []
   },
   "outputs": [],
   "source": [
    "from pathlib import Path\n",
    "import json"
   ]
  },
  {
   "cell_type": "markdown",
   "id": "2647251d",
   "metadata": {
    "papermill": {
     "duration": 0.001322,
     "end_time": "2025-02-22T22:41:12.215062",
     "exception": false,
     "start_time": "2025-02-22T22:41:12.213740",
     "status": "completed"
    },
    "tags": []
   },
   "source": [
    "Load libraries for analysis and visualization:"
   ]
  },
  {
   "cell_type": "code",
   "execution_count": 2,
   "id": "c1ed49d5",
   "metadata": {
    "execution": {
     "iopub.execute_input": "2025-02-22T22:41:12.218286Z",
     "iopub.status.busy": "2025-02-22T22:41:12.218156Z",
     "iopub.status.idle": "2025-02-22T22:41:12.694131Z",
     "shell.execute_reply": "2025-02-22T22:41:12.693722Z"
    },
    "lines_to_next_cell": 2,
    "papermill": {
     "duration": 0.478674,
     "end_time": "2025-02-22T22:41:12.695053",
     "exception": false,
     "start_time": "2025-02-22T22:41:12.216379",
     "status": "completed"
    },
    "tags": []
   },
   "outputs": [],
   "source": [
    "import numpy as np\n",
    "import seaborn as sns\n",
    "import matplotlib.pyplot as plt"
   ]
  },
  {
   "cell_type": "markdown",
   "id": "0586a019",
   "metadata": {
    "papermill": {
     "duration": 0.008868,
     "end_time": "2025-02-22T22:41:12.705616",
     "exception": false,
     "start_time": "2025-02-22T22:41:12.696748",
     "status": "completed"
    },
    "tags": []
   },
   "source": [
    "Import the LensKit metrics for analysis:"
   ]
  },
  {
   "cell_type": "code",
   "execution_count": 3,
   "id": "1760b3f8",
   "metadata": {
    "execution": {
     "iopub.execute_input": "2025-02-22T22:41:12.709003Z",
     "iopub.status.busy": "2025-02-22T22:41:12.708868Z",
     "iopub.status.idle": "2025-02-22T22:41:13.351175Z",
     "shell.execute_reply": "2025-02-22T22:41:13.350752Z"
    },
    "papermill": {
     "duration": 0.644926,
     "end_time": "2025-02-22T22:41:13.351988",
     "exception": false,
     "start_time": "2025-02-22T22:41:12.707062",
     "status": "completed"
    },
    "tags": []
   },
   "outputs": [],
   "source": [
    "from lenskit.data import Dataset, ItemListCollection\n",
    "from lenskit.metrics import RunAnalysis, RMSE, NDCG, RecipRank, RBP"
   ]
  },
  {
   "cell_type": "code",
   "execution_count": 4,
   "id": "8ad8a9b5",
   "metadata": {
    "execution": {
     "iopub.execute_input": "2025-02-22T22:41:13.363234Z",
     "iopub.status.busy": "2025-02-22T22:41:13.363139Z",
     "iopub.status.idle": "2025-02-22T22:41:13.366021Z",
     "shell.execute_reply": "2025-02-22T22:41:13.365867Z"
    },
    "papermill": {
     "duration": 0.012827,
     "end_time": "2025-02-22T22:41:13.366513",
     "exception": false,
     "start_time": "2025-02-22T22:41:13.353686",
     "status": "completed"
    },
    "tags": []
   },
   "outputs": [],
   "source": [
    "from lkdemo.datasets import split_fraction"
   ]
  },
  {
   "cell_type": "markdown",
   "id": "e4db960e",
   "metadata": {
    "papermill": {
     "duration": 0.001325,
     "end_time": "2025-02-22T22:41:13.369214",
     "exception": false,
     "start_time": "2025-02-22T22:41:13.367889",
     "status": "completed"
    },
    "tags": []
   },
   "source": [
    "## Load Data\n",
    "\n",
    "The recommendations are in `runs`, and we will need to reassemble the test data from `test`."
   ]
  },
  {
   "cell_type": "code",
   "execution_count": 5,
   "id": "f0b0bb95",
   "metadata": {
    "execution": {
     "iopub.execute_input": "2025-02-22T22:41:13.372386Z",
     "iopub.status.busy": "2025-02-22T22:41:13.372302Z",
     "iopub.status.idle": "2025-02-22T22:41:13.373612Z",
     "shell.execute_reply": "2025-02-22T22:41:13.373453Z"
    },
    "papermill": {
     "duration": 0.00363,
     "end_time": "2025-02-22T22:41:13.374175",
     "exception": false,
     "start_time": "2025-02-22T22:41:13.370545",
     "status": "completed"
    },
    "tags": [
     "parameters"
    ]
   },
   "outputs": [],
   "source": [
    "dataset = \"ml-100k\""
   ]
  },
  {
   "cell_type": "code",
   "execution_count": 6,
   "id": "c1abcbe1",
   "metadata": {
    "execution": {
     "iopub.execute_input": "2025-02-22T22:41:13.377356Z",
     "iopub.status.busy": "2025-02-22T22:41:13.377251Z",
     "iopub.status.idle": "2025-02-22T22:41:13.378510Z",
     "shell.execute_reply": "2025-02-22T22:41:13.378352Z"
    },
    "papermill": {
     "duration": 0.003434,
     "end_time": "2025-02-22T22:41:13.378933",
     "exception": false,
     "start_time": "2025-02-22T22:41:13.375499",
     "status": "completed"
    },
    "tags": [
     "injected-parameters"
    ]
   },
   "outputs": [],
   "source": [
    "# Parameters\n",
    "dataset = \"ml-latest-small\"\n"
   ]
  },
  {
   "cell_type": "code",
   "execution_count": 7,
   "id": "bb15507d",
   "metadata": {
    "execution": {
     "iopub.execute_input": "2025-02-22T22:41:13.381983Z",
     "iopub.status.busy": "2025-02-22T22:41:13.381903Z",
     "iopub.status.idle": "2025-02-22T22:41:13.383231Z",
     "shell.execute_reply": "2025-02-22T22:41:13.383077Z"
    },
    "papermill": {
     "duration": 0.003398,
     "end_time": "2025-02-22T22:41:13.383692",
     "exception": false,
     "start_time": "2025-02-22T22:41:13.380294",
     "status": "completed"
    },
    "tags": []
   },
   "outputs": [],
   "source": [
    "output_root = Path(\"runs\")"
   ]
  },
  {
   "cell_type": "code",
   "execution_count": 8,
   "id": "ecff58cf",
   "metadata": {
    "execution": {
     "iopub.execute_input": "2025-02-22T22:41:13.386915Z",
     "iopub.status.busy": "2025-02-22T22:41:13.386786Z",
     "iopub.status.idle": "2025-02-22T22:41:13.388434Z",
     "shell.execute_reply": "2025-02-22T22:41:13.388262Z"
    },
    "papermill": {
     "duration": 0.003774,
     "end_time": "2025-02-22T22:41:13.388885",
     "exception": false,
     "start_time": "2025-02-22T22:41:13.385111",
     "status": "completed"
    },
    "tags": []
   },
   "outputs": [],
   "source": [
    "dirs = [fld for fld in output_root.glob(f'{dataset}-*')]"
   ]
  },
  {
   "cell_type": "code",
   "execution_count": 9,
   "id": "98ec44f8",
   "metadata": {
    "execution": {
     "iopub.execute_input": "2025-02-22T22:41:13.392058Z",
     "iopub.status.busy": "2025-02-22T22:41:13.391973Z",
     "iopub.status.idle": "2025-02-22T22:41:13.415699Z",
     "shell.execute_reply": "2025-02-22T22:41:13.415510Z"
    },
    "papermill": {
     "duration": 0.026208,
     "end_time": "2025-02-22T22:41:13.416480",
     "exception": false,
     "start_time": "2025-02-22T22:41:13.390272",
     "status": "completed"
    },
    "tags": []
   },
   "outputs": [],
   "source": [
    "recs = ItemListCollection(['model', 'user_id'], index=False)\n",
    "for fld in dirs:\n",
    "    for file in fld.glob(\"recs-*\"):\n",
    "        rec = ItemListCollection.load_parquet(file)\n",
    "        recs.add_from(rec, model=fld.name.split(\"-\")[-1])"
   ]
  },
  {
   "cell_type": "code",
   "execution_count": 10,
   "id": "16052016",
   "metadata": {
    "execution": {
     "iopub.execute_input": "2025-02-22T22:41:13.419915Z",
     "iopub.status.busy": "2025-02-22T22:41:13.419800Z",
     "iopub.status.idle": "2025-02-22T22:41:13.422899Z",
     "shell.execute_reply": "2025-02-22T22:41:13.422602Z"
    },
    "papermill": {
     "duration": 0.005394,
     "end_time": "2025-02-22T22:41:13.423391",
     "exception": false,
     "start_time": "2025-02-22T22:41:13.417997",
     "status": "completed"
    },
    "tags": []
   },
   "outputs": [
    {
     "data": {
      "text/plain": [
       "['ALS', 'Bias', 'IALS', 'IIE', 'III', 'Pop', 'UUE']"
      ]
     },
     "execution_count": 10,
     "metadata": {},
     "output_type": "execute_result"
    }
   ],
   "source": [
    "rec_algos = sorted(set(a for (a, _u) in recs.keys()))\n",
    "rec_algos"
   ]
  },
  {
   "cell_type": "code",
   "execution_count": 11,
   "id": "b44ae566",
   "metadata": {
    "execution": {
     "iopub.execute_input": "2025-02-22T22:41:13.426794Z",
     "iopub.status.busy": "2025-02-22T22:41:13.426713Z",
     "iopub.status.idle": "2025-02-22T22:41:13.445406Z",
     "shell.execute_reply": "2025-02-22T22:41:13.445148Z"
    },
    "papermill": {
     "duration": 0.021049,
     "end_time": "2025-02-22T22:41:13.445884",
     "exception": false,
     "start_time": "2025-02-22T22:41:13.424835",
     "status": "completed"
    },
    "tags": []
   },
   "outputs": [],
   "source": [
    "preds = ItemListCollection(['model', 'user_id'], index=False)\n",
    "for fld in dirs:\n",
    "    for file in fld.glob(\"pred-*\"):\n",
    "        pred = ItemListCollection.load_parquet(file)\n",
    "        preds.add_from(pred, model=fld.name.split(\"-\")[-1])"
   ]
  },
  {
   "cell_type": "markdown",
   "id": "c3d9a53d",
   "metadata": {
    "papermill": {
     "duration": 0.001449,
     "end_time": "2025-02-22T22:41:13.448832",
     "exception": false,
     "start_time": "2025-02-22T22:41:13.447383",
     "status": "completed"
    },
    "tags": []
   },
   "source": [
    "We need to load the test data so that we have the ground truths for computing accuracy."
   ]
  },
  {
   "cell_type": "code",
   "execution_count": 12,
   "id": "f617082d",
   "metadata": {
    "execution": {
     "iopub.execute_input": "2025-02-22T22:41:13.452242Z",
     "iopub.status.busy": "2025-02-22T22:41:13.452157Z",
     "iopub.status.idle": "2025-02-22T22:41:13.475338Z",
     "shell.execute_reply": "2025-02-22T22:41:13.475035Z"
    },
    "papermill": {
     "duration": 0.025913,
     "end_time": "2025-02-22T22:41:13.476205",
     "exception": false,
     "start_time": "2025-02-22T22:41:13.450292",
     "status": "completed"
    },
    "tags": []
   },
   "outputs": [],
   "source": [
    "data = Dataset.load(f\"data/{dataset}\")\n",
    "split = split_fraction(data, 0.2)\n",
    "test = split.test"
   ]
  },
  {
   "cell_type": "markdown",
   "id": "1211178a",
   "metadata": {
    "papermill": {
     "duration": 0.002743,
     "end_time": "2025-02-22T22:41:13.482151",
     "exception": false,
     "start_time": "2025-02-22T22:41:13.479408",
     "status": "completed"
    },
    "tags": []
   },
   "source": [
    "And identify users in the training set, so we only report metrics over them."
   ]
  },
  {
   "cell_type": "code",
   "execution_count": 13,
   "id": "ea5fd212",
   "metadata": {
    "execution": {
     "iopub.execute_input": "2025-02-22T22:41:13.488327Z",
     "iopub.status.busy": "2025-02-22T22:41:13.488239Z",
     "iopub.status.idle": "2025-02-22T22:41:13.499039Z",
     "shell.execute_reply": "2025-02-22T22:41:13.498865Z"
    },
    "papermill": {
     "duration": 0.015107,
     "end_time": "2025-02-22T22:41:13.500014",
     "exception": false,
     "start_time": "2025-02-22T22:41:13.484907",
     "status": "completed"
    },
    "tags": []
   },
   "outputs": [],
   "source": [
    "train_users = split.train.user_stats()\n",
    "train_users = train_users[train_users['rating_count'] > 0]"
   ]
  },
  {
   "cell_type": "markdown",
   "id": "e8ca3779",
   "metadata": {
    "papermill": {
     "duration": 0.002748,
     "end_time": "2025-02-22T22:41:13.505660",
     "exception": false,
     "start_time": "2025-02-22T22:41:13.502912",
     "status": "completed"
    },
    "tags": []
   },
   "source": [
    "## Top-N Metrics\n",
    "\n",
    "`RunListAnalysis` computes metrics for recommendation results and takes care of\n",
    "matching recommendations and ground truth."
   ]
  },
  {
   "cell_type": "code",
   "execution_count": 14,
   "id": "7012260e",
   "metadata": {
    "execution": {
     "iopub.execute_input": "2025-02-22T22:41:13.511711Z",
     "iopub.status.busy": "2025-02-22T22:41:13.511639Z",
     "iopub.status.idle": "2025-02-22T22:41:13.595445Z",
     "shell.execute_reply": "2025-02-22T22:41:13.595197Z"
    },
    "papermill": {
     "duration": 0.087704,
     "end_time": "2025-02-22T22:41:13.596126",
     "exception": false,
     "start_time": "2025-02-22T22:41:13.508422",
     "status": "completed"
    },
    "tags": []
   },
   "outputs": [
    {
     "name": "stderr",
     "output_type": "stream",
     "text": [
      "/home/mde48/lenskit/lk-demo-experiment/.venv/lib/python3.13/site-packages/lenskit/metrics/bulk.py:127: FutureWarning: The previous implementation of stack is deprecated and will be removed in a future version of pandas. See the What's New notes for pandas 2.1.0 for details. Specify future_stack=True to adopt the new implementation and silence this warning.\n",
      "  df = scores.groupby(list(keys)).agg([\"mean\", \"median\", \"std\"]).stack(level=0)\n"
     ]
    },
    {
     "data": {
      "text/html": [
       "<div>\n",
       "<style scoped>\n",
       "    .dataframe tbody tr th:only-of-type {\n",
       "        vertical-align: middle;\n",
       "    }\n",
       "\n",
       "    .dataframe tbody tr th {\n",
       "        vertical-align: top;\n",
       "    }\n",
       "\n",
       "    .dataframe thead th {\n",
       "        text-align: right;\n",
       "    }\n",
       "</style>\n",
       "<table border=\"1\" class=\"dataframe\">\n",
       "  <thead>\n",
       "    <tr style=\"text-align: right;\">\n",
       "      <th></th>\n",
       "      <th></th>\n",
       "      <th>mean</th>\n",
       "      <th>median</th>\n",
       "      <th>std</th>\n",
       "    </tr>\n",
       "    <tr>\n",
       "      <th>model</th>\n",
       "      <th></th>\n",
       "      <th></th>\n",
       "      <th></th>\n",
       "      <th></th>\n",
       "    </tr>\n",
       "  </thead>\n",
       "  <tbody>\n",
       "    <tr>\n",
       "      <th rowspan=\"3\" valign=\"top\">ALS</th>\n",
       "      <th>NDCG</th>\n",
       "      <td>0.143585</td>\n",
       "      <td>0.123258</td>\n",
       "      <td>0.109129</td>\n",
       "    </tr>\n",
       "    <tr>\n",
       "      <th>RBP</th>\n",
       "      <td>0.196283</td>\n",
       "      <td>0.191755</td>\n",
       "      <td>0.174216</td>\n",
       "    </tr>\n",
       "    <tr>\n",
       "      <th>RecipRank</th>\n",
       "      <td>0.572264</td>\n",
       "      <td>1.000000</td>\n",
       "      <td>0.451754</td>\n",
       "    </tr>\n",
       "    <tr>\n",
       "      <th rowspan=\"3\" valign=\"top\">Bias</th>\n",
       "      <th>NDCG</th>\n",
       "      <td>0.144237</td>\n",
       "      <td>0.123258</td>\n",
       "      <td>0.112597</td>\n",
       "    </tr>\n",
       "    <tr>\n",
       "      <th>RBP</th>\n",
       "      <td>0.194368</td>\n",
       "      <td>0.185718</td>\n",
       "      <td>0.176979</td>\n",
       "    </tr>\n",
       "    <tr>\n",
       "      <th>RecipRank</th>\n",
       "      <td>0.569998</td>\n",
       "      <td>1.000000</td>\n",
       "      <td>0.459706</td>\n",
       "    </tr>\n",
       "    <tr>\n",
       "      <th rowspan=\"3\" valign=\"top\">IALS</th>\n",
       "      <th>NDCG</th>\n",
       "      <td>0.036128</td>\n",
       "      <td>0.011909</td>\n",
       "      <td>0.087273</td>\n",
       "    </tr>\n",
       "    <tr>\n",
       "      <th>RBP</th>\n",
       "      <td>0.026444</td>\n",
       "      <td>0.000703</td>\n",
       "      <td>0.084116</td>\n",
       "    </tr>\n",
       "    <tr>\n",
       "      <th>RecipRank</th>\n",
       "      <td>0.057071</td>\n",
       "      <td>0.029412</td>\n",
       "      <td>0.123974</td>\n",
       "    </tr>\n",
       "    <tr>\n",
       "      <th rowspan=\"3\" valign=\"top\">IIE</th>\n",
       "      <th>NDCG</th>\n",
       "      <td>0.003376</td>\n",
       "      <td>0.000000</td>\n",
       "      <td>0.012898</td>\n",
       "    </tr>\n",
       "    <tr>\n",
       "      <th>RBP</th>\n",
       "      <td>0.002943</td>\n",
       "      <td>0.000000</td>\n",
       "      <td>0.016685</td>\n",
       "    </tr>\n",
       "    <tr>\n",
       "      <th>RecipRank</th>\n",
       "      <td>0.008005</td>\n",
       "      <td>0.000000</td>\n",
       "      <td>0.038480</td>\n",
       "    </tr>\n",
       "    <tr>\n",
       "      <th rowspan=\"3\" valign=\"top\">III</th>\n",
       "      <th>NDCG</th>\n",
       "      <td>0.025775</td>\n",
       "      <td>0.000000</td>\n",
       "      <td>0.080206</td>\n",
       "    </tr>\n",
       "    <tr>\n",
       "      <th>RBP</th>\n",
       "      <td>0.025322</td>\n",
       "      <td>0.000000</td>\n",
       "      <td>0.093465</td>\n",
       "    </tr>\n",
       "    <tr>\n",
       "      <th>RecipRank</th>\n",
       "      <td>0.053646</td>\n",
       "      <td>0.000000</td>\n",
       "      <td>0.181649</td>\n",
       "    </tr>\n",
       "    <tr>\n",
       "      <th rowspan=\"3\" valign=\"top\">Pop</th>\n",
       "      <th>NDCG</th>\n",
       "      <td>0.217502</td>\n",
       "      <td>0.197962</td>\n",
       "      <td>0.154321</td>\n",
       "    </tr>\n",
       "    <tr>\n",
       "      <th>RBP</th>\n",
       "      <td>0.365221</td>\n",
       "      <td>0.350361</td>\n",
       "      <td>0.287828</td>\n",
       "    </tr>\n",
       "    <tr>\n",
       "      <th>RecipRank</th>\n",
       "      <td>0.637057</td>\n",
       "      <td>1.000000</td>\n",
       "      <td>0.420176</td>\n",
       "    </tr>\n",
       "    <tr>\n",
       "      <th rowspan=\"3\" valign=\"top\">UUE</th>\n",
       "      <th>NDCG</th>\n",
       "      <td>0.000188</td>\n",
       "      <td>0.000000</td>\n",
       "      <td>0.001452</td>\n",
       "    </tr>\n",
       "    <tr>\n",
       "      <th>RBP</th>\n",
       "      <td>0.000281</td>\n",
       "      <td>0.000000</td>\n",
       "      <td>0.002754</td>\n",
       "    </tr>\n",
       "    <tr>\n",
       "      <th>RecipRank</th>\n",
       "      <td>0.001129</td>\n",
       "      <td>0.000000</td>\n",
       "      <td>0.009192</td>\n",
       "    </tr>\n",
       "  </tbody>\n",
       "</table>\n",
       "</div>"
      ],
      "text/plain": [
       "                     mean    median       std\n",
       "model                                        \n",
       "ALS   NDCG       0.143585  0.123258  0.109129\n",
       "      RBP        0.196283  0.191755  0.174216\n",
       "      RecipRank  0.572264  1.000000  0.451754\n",
       "Bias  NDCG       0.144237  0.123258  0.112597\n",
       "      RBP        0.194368  0.185718  0.176979\n",
       "      RecipRank  0.569998  1.000000  0.459706\n",
       "IALS  NDCG       0.036128  0.011909  0.087273\n",
       "      RBP        0.026444  0.000703  0.084116\n",
       "      RecipRank  0.057071  0.029412  0.123974\n",
       "IIE   NDCG       0.003376  0.000000  0.012898\n",
       "      RBP        0.002943  0.000000  0.016685\n",
       "      RecipRank  0.008005  0.000000  0.038480\n",
       "III   NDCG       0.025775  0.000000  0.080206\n",
       "      RBP        0.025322  0.000000  0.093465\n",
       "      RecipRank  0.053646  0.000000  0.181649\n",
       "Pop   NDCG       0.217502  0.197962  0.154321\n",
       "      RBP        0.365221  0.350361  0.287828\n",
       "      RecipRank  0.637057  1.000000  0.420176\n",
       "UUE   NDCG       0.000188  0.000000  0.001452\n",
       "      RBP        0.000281  0.000000  0.002754\n",
       "      RecipRank  0.001129  0.000000  0.009192"
      ]
     },
     "execution_count": 14,
     "metadata": {},
     "output_type": "execute_result"
    }
   ],
   "source": [
    "ra = RunAnalysis()\n",
    "\n",
    "ra.add_metric(NDCG())\n",
    "ra.add_metric(RecipRank())\n",
    "ra.add_metric(RBP())\n",
    "\n",
    "rec_results = ra.compute(recs, test)\n",
    "rec_results.list_summary('model')"
   ]
  },
  {
   "cell_type": "markdown",
   "id": "3f0d53d0",
   "metadata": {
    "papermill": {
     "duration": 0.001692,
     "end_time": "2025-02-22T22:41:13.601932",
     "exception": false,
     "start_time": "2025-02-22T22:41:13.600240",
     "status": "completed"
    },
    "tags": []
   },
   "source": [
    "We can reshape the list metrics and plot them, after filtering to only users with at least 1 training rating:"
   ]
  },
  {
   "cell_type": "code",
   "execution_count": 15,
   "id": "502397c1",
   "metadata": {
    "execution": {
     "iopub.execute_input": "2025-02-22T22:41:13.605661Z",
     "iopub.status.busy": "2025-02-22T22:41:13.605584Z",
     "iopub.status.idle": "2025-02-22T22:41:13.911148Z",
     "shell.execute_reply": "2025-02-22T22:41:13.910888Z"
    },
    "papermill": {
     "duration": 0.308289,
     "end_time": "2025-02-22T22:41:13.911839",
     "exception": false,
     "start_time": "2025-02-22T22:41:13.603550",
     "status": "completed"
    },
    "tags": []
   },
   "outputs": [
    {
     "data": {
      "image/png": "[encoded data removed]",
      "text/plain": [
       "<Figure size 1511.11x500 with 3 Axes>"
      ]
     },
     "metadata": {},
     "output_type": "display_data"
    }
   ],
   "source": [
    "metrics = rec_results.list_metrics()\n",
    "metrics = metrics.melt(var_name='metric', ignore_index=False).reset_index()\n",
    "metrics = metrics[metrics['user_id'].isin(train_users.index)]\n",
    "sns.catplot(metrics, x='model', y='value', col='metric', kind='bar')\n",
    "plt.show()"
   ]
  },
  {
   "cell_type": "markdown",
   "id": "d1c9fd07",
   "metadata": {
    "papermill": {
     "duration": 0.001748,
     "end_time": "2025-02-22T22:41:13.915408",
     "exception": false,
     "start_time": "2025-02-22T22:41:13.913660",
     "status": "completed"
    },
    "tags": []
   },
   "source": [
    "Let's look at the influence of training ratings on performance, clamping 15+ into a single category:"
   ]
  },
  {
   "cell_type": "code",
   "execution_count": 16,
   "id": "2c606bcf",
   "metadata": {
    "execution": {
     "iopub.execute_input": "2025-02-22T22:41:13.919242Z",
     "iopub.status.busy": "2025-02-22T22:41:13.919159Z",
     "iopub.status.idle": "2025-02-22T22:41:14.064547Z",
     "shell.execute_reply": "2025-02-22T22:41:14.064313Z"
    },
    "papermill": {
     "duration": 0.148078,
     "end_time": "2025-02-22T22:41:14.065167",
     "exception": false,
     "start_time": "2025-02-22T22:41:13.917089",
     "status": "completed"
    },
    "tags": []
   },
   "outputs": [
    {
     "data": {
      "image/png": "[encoded data removed]",
      "text/plain": [
       "<Figure size 640x480 with 1 Axes>"
      ]
     },
     "metadata": {},
     "output_type": "display_data"
    }
   ],
   "source": [
    "tcounts = split.train.user_stats()['rating_count'].copy()\n",
    "tcounts[tcounts > 15] = 15\n",
    "metrics = rec_results.list_metrics().reset_index().join(tcounts, on='user_id')\n",
    "sns.lineplot(metrics, x='rating_count', y='NDCG', hue='model', errorbar='ci')\n",
    "plt.xlabel('# of Training Ratings')\n",
    "rc_ticks = np.arange(0, 16, 3)\n",
    "plt.xticks(rc_ticks, rc_ticks[:-1].tolist() + ['15+'])\n",
    "plt.show()"
   ]
  },
  {
   "cell_type": "markdown",
   "id": "ed6e858c",
   "metadata": {
    "papermill": {
     "duration": 0.008714,
     "end_time": "2025-02-22T22:41:14.076045",
     "exception": false,
     "start_time": "2025-02-22T22:41:14.067331",
     "status": "completed"
    },
    "tags": []
   },
   "source": [
    "## Prediction RMSE\n",
    "\n",
    "We will also look at the prediction RMSE."
   ]
  },
  {
   "cell_type": "code",
   "execution_count": 17,
   "id": "b1f49098",
   "metadata": {
    "execution": {
     "iopub.execute_input": "2025-02-22T22:41:14.080221Z",
     "iopub.status.busy": "2025-02-22T22:41:14.080132Z",
     "iopub.status.idle": "2025-02-22T22:41:14.162292Z",
     "shell.execute_reply": "2025-02-22T22:41:14.162117Z"
    },
    "papermill": {
     "duration": 0.085038,
     "end_time": "2025-02-22T22:41:14.162946",
     "exception": false,
     "start_time": "2025-02-22T22:41:14.077908",
     "status": "completed"
    },
    "tags": []
   },
   "outputs": [
    {
     "name": "stderr",
     "output_type": "stream",
     "text": [
      "/home/mde48/lenskit/lk-demo-experiment/.venv/lib/python3.13/site-packages/lenskit/metrics/bulk.py:127: FutureWarning: The previous implementation of stack is deprecated and will be removed in a future version of pandas. See the What's New notes for pandas 2.1.0 for details. Specify future_stack=True to adopt the new implementation and silence this warning.\n",
      "  df = scores.groupby(list(keys)).agg([\"mean\", \"median\", \"std\"]).stack(level=0)\n"
     ]
    },
    {
     "data": {
      "text/html": [
       "<div>\n",
       "<style scoped>\n",
       "    .dataframe tbody tr th:only-of-type {\n",
       "        vertical-align: middle;\n",
       "    }\n",
       "\n",
       "    .dataframe tbody tr th {\n",
       "        vertical-align: top;\n",
       "    }\n",
       "\n",
       "    .dataframe thead th {\n",
       "        text-align: right;\n",
       "    }\n",
       "</style>\n",
       "<table border=\"1\" class=\"dataframe\">\n",
       "  <thead>\n",
       "    <tr style=\"text-align: right;\">\n",
       "      <th></th>\n",
       "      <th></th>\n",
       "      <th>mean</th>\n",
       "      <th>median</th>\n",
       "      <th>std</th>\n",
       "    </tr>\n",
       "    <tr>\n",
       "      <th>model</th>\n",
       "      <th></th>\n",
       "      <th></th>\n",
       "      <th></th>\n",
       "      <th></th>\n",
       "    </tr>\n",
       "  </thead>\n",
       "  <tbody>\n",
       "    <tr>\n",
       "      <th>ALS</th>\n",
       "      <th>RMSE</th>\n",
       "      <td>0.961093</td>\n",
       "      <td>0.898315</td>\n",
       "      <td>0.343152</td>\n",
       "    </tr>\n",
       "    <tr>\n",
       "      <th>Bias</th>\n",
       "      <th>RMSE</th>\n",
       "      <td>0.965678</td>\n",
       "      <td>0.899920</td>\n",
       "      <td>0.346167</td>\n",
       "    </tr>\n",
       "    <tr>\n",
       "      <th>IIE</th>\n",
       "      <th>RMSE</th>\n",
       "      <td>0.996960</td>\n",
       "      <td>0.942495</td>\n",
       "      <td>0.358581</td>\n",
       "    </tr>\n",
       "    <tr>\n",
       "      <th>UUE</th>\n",
       "      <th>RMSE</th>\n",
       "      <td>1.005463</td>\n",
       "      <td>0.942495</td>\n",
       "      <td>0.356630</td>\n",
       "    </tr>\n",
       "  </tbody>\n",
       "</table>\n",
       "</div>"
      ],
      "text/plain": [
       "                mean    median       std\n",
       "model                                   \n",
       "ALS   RMSE  0.961093  0.898315  0.343152\n",
       "Bias  RMSE  0.965678  0.899920  0.346167\n",
       "IIE   RMSE  0.996960  0.942495  0.358581\n",
       "UUE   RMSE  1.005463  0.942495  0.356630"
      ]
     },
     "execution_count": 17,
     "metadata": {},
     "output_type": "execute_result"
    }
   ],
   "source": [
    "pa = RunAnalysis()\n",
    "\n",
    "pa.add_metric(RMSE(missing_scores='ignore', missing_truth='ignore'))\n",
    "\n",
    "pred_results = pa.compute(preds, test)\n",
    "pred_results.list_summary('model')"
   ]
  },
  {
   "cell_type": "code",
   "execution_count": 18,
   "id": "550b1e9e",
   "metadata": {
    "execution": {
     "iopub.execute_input": "2025-02-22T22:41:14.167310Z",
     "iopub.status.busy": "2025-02-22T22:41:14.167232Z",
     "iopub.status.idle": "2025-02-22T22:41:14.245266Z",
     "shell.execute_reply": "2025-02-22T22:41:14.245090Z"
    },
    "papermill": {
     "duration": 0.08094,
     "end_time": "2025-02-22T22:41:14.245833",
     "exception": false,
     "start_time": "2025-02-22T22:41:14.164893",
     "status": "completed"
    },
    "tags": []
   },
   "outputs": [
    {
     "data": {
      "image/png": "[encoded data removed]",
      "text/plain": [
       "<Figure size 511.111x500 with 1 Axes>"
      ]
     },
     "metadata": {},
     "output_type": "display_data"
    }
   ],
   "source": [
    "pred_metrics = pred_results.list_metrics().reset_index()\n",
    "pred_metrics = pred_metrics[pred_metrics['user_id'].isin(train_users.index)]\n",
    "sns.catplot(pred_metrics, x='model', y='RMSE', kind='bar')\n",
    "plt.show()"
   ]
  },
  {
   "cell_type": "markdown",
   "id": "d87127d7",
   "metadata": {
    "papermill": {
     "duration": 0.001978,
     "end_time": "2025-02-22T22:41:14.250055",
     "exception": false,
     "start_time": "2025-02-22T22:41:14.248077",
     "status": "completed"
    },
    "tags": []
   },
   "source": [
    "## Save Metrics\n",
    "\n",
    "We'll now save the metrics to a file."
   ]
  },
  {
   "cell_type": "code",
   "execution_count": 19,
   "id": "c022814e",
   "metadata": {
    "execution": {
     "iopub.execute_input": "2025-02-22T22:41:14.254489Z",
     "iopub.status.busy": "2025-02-22T22:41:14.254404Z",
     "iopub.status.idle": "2025-02-22T22:41:14.261012Z",
     "shell.execute_reply": "2025-02-22T22:41:14.260837Z"
    },
    "papermill": {
     "duration": 0.009303,
     "end_time": "2025-02-22T22:41:14.261392",
     "exception": false,
     "start_time": "2025-02-22T22:41:14.252089",
     "status": "completed"
    },
    "tags": []
   },
   "outputs": [
    {
     "name": "stderr",
     "output_type": "stream",
     "text": [
      "/home/mde48/lenskit/lk-demo-experiment/.venv/lib/python3.13/site-packages/lenskit/metrics/bulk.py:127: FutureWarning: The previous implementation of stack is deprecated and will be removed in a future version of pandas. See the What's New notes for pandas 2.1.0 for details. Specify future_stack=True to adopt the new implementation and silence this warning.\n",
      "  df = scores.groupby(list(keys)).agg([\"mean\", \"median\", \"std\"]).stack(level=0)\n"
     ]
    },
    {
     "data": {
      "text/html": [
       "<div>\n",
       "<style scoped>\n",
       "    .dataframe tbody tr th:only-of-type {\n",
       "        vertical-align: middle;\n",
       "    }\n",
       "\n",
       "    .dataframe tbody tr th {\n",
       "        vertical-align: top;\n",
       "    }\n",
       "\n",
       "    .dataframe thead th {\n",
       "        text-align: right;\n",
       "    }\n",
       "</style>\n",
       "<table border=\"1\" class=\"dataframe\">\n",
       "  <thead>\n",
       "    <tr style=\"text-align: right;\">\n",
       "      <th></th>\n",
       "      <th>NDCG</th>\n",
       "      <th>RBP</th>\n",
       "      <th>RecipRank</th>\n",
       "    </tr>\n",
       "    <tr>\n",
       "      <th>model</th>\n",
       "      <th></th>\n",
       "      <th></th>\n",
       "      <th></th>\n",
       "    </tr>\n",
       "  </thead>\n",
       "  <tbody>\n",
       "    <tr>\n",
       "      <th>ALS</th>\n",
       "      <td>0.143585</td>\n",
       "      <td>0.196283</td>\n",
       "      <td>0.572264</td>\n",
       "    </tr>\n",
       "    <tr>\n",
       "      <th>Bias</th>\n",
       "      <td>0.144237</td>\n",
       "      <td>0.194368</td>\n",
       "      <td>0.569998</td>\n",
       "    </tr>\n",
       "    <tr>\n",
       "      <th>IALS</th>\n",
       "      <td>0.036128</td>\n",
       "      <td>0.026444</td>\n",
       "      <td>0.057071</td>\n",
       "    </tr>\n",
       "    <tr>\n",
       "      <th>IIE</th>\n",
       "      <td>0.003376</td>\n",
       "      <td>0.002943</td>\n",
       "      <td>0.008005</td>\n",
       "    </tr>\n",
       "    <tr>\n",
       "      <th>III</th>\n",
       "      <td>0.025775</td>\n",
       "      <td>0.025322</td>\n",
       "      <td>0.053646</td>\n",
       "    </tr>\n",
       "    <tr>\n",
       "      <th>Pop</th>\n",
       "      <td>0.217502</td>\n",
       "      <td>0.365221</td>\n",
       "      <td>0.637057</td>\n",
       "    </tr>\n",
       "    <tr>\n",
       "      <th>UUE</th>\n",
       "      <td>0.000188</td>\n",
       "      <td>0.000281</td>\n",
       "      <td>0.001129</td>\n",
       "    </tr>\n",
       "  </tbody>\n",
       "</table>\n",
       "</div>"
      ],
      "text/plain": [
       "           NDCG       RBP  RecipRank\n",
       "model                               \n",
       "ALS    0.143585  0.196283   0.572264\n",
       "Bias   0.144237  0.194368   0.569998\n",
       "IALS   0.036128  0.026444   0.057071\n",
       "IIE    0.003376  0.002943   0.008005\n",
       "III    0.025775  0.025322   0.053646\n",
       "Pop    0.217502  0.365221   0.637057\n",
       "UUE    0.000188  0.000281   0.001129"
      ]
     },
     "execution_count": 19,
     "metadata": {},
     "output_type": "execute_result"
    }
   ],
   "source": [
    "rlsum = rec_results.list_summary('model')['mean'].unstack()\n",
    "rlsum"
   ]
  },
  {
   "cell_type": "code",
   "execution_count": 20,
   "id": "64a6ae31",
   "metadata": {
    "execution": {
     "iopub.execute_input": "2025-02-22T22:41:14.266080Z",
     "iopub.status.busy": "2025-02-22T22:41:14.265865Z",
     "iopub.status.idle": "2025-02-22T22:41:14.267703Z",
     "shell.execute_reply": "2025-02-22T22:41:14.267517Z"
    },
    "papermill": {
     "duration": 0.004691,
     "end_time": "2025-02-22T22:41:14.268141",
     "exception": false,
     "start_time": "2025-02-22T22:41:14.263450",
     "status": "completed"
    },
    "tags": []
   },
   "outputs": [],
   "source": [
    "rlsum.to_json(f'eval-metrics.{dataset}.json', orient='index')"
   ]
  }
 ],
 "metadata": {
  "jupytext": {
   "formats": "ipynb,md",
   "notebook_metadata_filter": "split_at_heading"
  },
  "kernelspec": {
   "display_name": ".venv",
   "language": "python",
   "name": "python3"
  },
  "language_info": {
   "codemirror_mode": {
    "name": "ipython",
    "version": 3
   },
   "file_extension": ".py",
   "mimetype": "text/x-python",
   "name": "python",
   "nbconvert_exporter": "python",
   "pygments_lexer": "ipython3",
   "version": "3.13.2"
  },
  "papermill": {
   "default_parameters": {},
   "duration": 3.11407,
   "end_time": "2025-02-22T22:41:14.685185",
   "environment_variables": {},
   "exception": null,
   "input_path": "eval-report.ipynb",
   "output_path": "eval-report.ml-latest-small.ipynb",
   "parameters": {
    "dataset": "ml-latest-small"
   },
   "start_time": "2025-02-22T22:41:11.571115",
   "version": "2.6.0"
  },
  "split_at_heading": true
 },
 "nbformat": 4,
 "nbformat_minor": 5
}