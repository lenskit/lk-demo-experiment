{
 "cells": [
  {
   "cell_type": "markdown",
   "id": "ca2a68d7",
   "metadata": {
    "papermill": {
     "duration": 0.010769,
     "end_time": "2025-02-22T22:25:06.682043",
     "exception": false,
     "start_time": "2025-02-22T22:25:06.671274",
     "status": "completed"
    },
    "tags": []
   },
   "source": [
    "# Evaluation Analysis for Recommender Output"
   ]
  },
  {
   "cell_type": "markdown",
   "id": "b63eda0c",
   "metadata": {
    "papermill": {
     "duration": 0.002462,
     "end_time": "2025-02-22T22:25:06.687551",
     "exception": false,
     "start_time": "2025-02-22T22:25:06.685089",
     "status": "completed"
    },
    "tags": []
   },
   "source": [
    "In this section we will analyze and compare the generated recommendations and predictions from a predefined list of algorithms with the goal of assessing the performance of each algorithm with respect to a metric. In other words, we would rank the algorithms for each metric considered with respect to performance."
   ]
  },
  {
   "cell_type": "markdown",
   "id": "36fb01ca",
   "metadata": {
    "papermill": {
     "duration": 0.00242,
     "end_time": "2025-02-22T22:25:06.692452",
     "exception": false,
     "start_time": "2025-02-22T22:25:06.690032",
     "status": "completed"
    },
    "tags": []
   },
   "source": [
    "## Setup"
   ]
  },
  {
   "cell_type": "markdown",
   "id": "21858d8a",
   "metadata": {
    "papermill": {
     "duration": 0.002586,
     "end_time": "2025-02-22T22:25:06.697512",
     "exception": false,
     "start_time": "2025-02-22T22:25:06.694926",
     "status": "completed"
    },
    "tags": []
   },
   "source": [
    "Below are the list of packages required to successfully run the analysis. They are divided into partitions to signify their specific task.<br>\n",
    "We need the pathlib package for working with files and folders"
   ]
  },
  {
   "cell_type": "code",
   "execution_count": 1,
   "id": "002c1a8e",
   "metadata": {
    "execution": {
     "iopub.execute_input": "2025-02-22T22:25:06.703193Z",
     "iopub.status.busy": "2025-02-22T22:25:06.702957Z",
     "iopub.status.idle": "2025-02-22T22:25:06.705262Z",
     "shell.execute_reply": "2025-02-22T22:25:06.705013Z"
    },
    "papermill": {
     "duration": 0.005902,
     "end_time": "2025-02-22T22:25:06.705836",
     "exception": false,
     "start_time": "2025-02-22T22:25:06.699934",
     "status": "completed"
    },
    "tags": []
   },
   "outputs": [],
   "source": [
    "from pathlib import Path\n",
    "import json"
   ]
  },
  {
   "cell_type": "markdown",
   "id": "d97e0d05",
   "metadata": {
    "papermill": {
     "duration": 0.002357,
     "end_time": "2025-02-22T22:25:06.710666",
     "exception": false,
     "start_time": "2025-02-22T22:25:06.708309",
     "status": "completed"
    },
    "tags": []
   },
   "source": [
    "Load libraries for analysis and visualization:"
   ]
  },
  {
   "cell_type": "code",
   "execution_count": 2,
   "id": "5dfaeefe",
   "metadata": {
    "execution": {
     "iopub.execute_input": "2025-02-22T22:25:06.714648Z",
     "iopub.status.busy": "2025-02-22T22:25:06.714543Z",
     "iopub.status.idle": "2025-02-22T22:25:07.191781Z",
     "shell.execute_reply": "2025-02-22T22:25:07.191357Z"
    },
    "lines_to_next_cell": 2,
    "papermill": {
     "duration": 0.479479,
     "end_time": "2025-02-22T22:25:07.192560",
     "exception": false,
     "start_time": "2025-02-22T22:25:06.713081",
     "status": "completed"
    },
    "tags": []
   },
   "outputs": [],
   "source": [
    "import seaborn as sns\n",
    "import matplotlib.pyplot as plt"
   ]
  },
  {
   "cell_type": "markdown",
   "id": "254c8bfe",
   "metadata": {
    "papermill": {
     "duration": 0.008782,
     "end_time": "2025-02-22T22:25:07.202978",
     "exception": false,
     "start_time": "2025-02-22T22:25:07.194196",
     "status": "completed"
    },
    "tags": []
   },
   "source": [
    "Import the LensKit metrics for analysis:"
   ]
  },
  {
   "cell_type": "code",
   "execution_count": 3,
   "id": "a1155fbc",
   "metadata": {
    "execution": {
     "iopub.execute_input": "2025-02-22T22:25:07.206199Z",
     "iopub.status.busy": "2025-02-22T22:25:07.206084Z",
     "iopub.status.idle": "2025-02-22T22:25:07.835844Z",
     "shell.execute_reply": "2025-02-22T22:25:07.835373Z"
    },
    "papermill": {
     "duration": 0.632283,
     "end_time": "2025-02-22T22:25:07.836643",
     "exception": false,
     "start_time": "2025-02-22T22:25:07.204360",
     "status": "completed"
    },
    "tags": []
   },
   "outputs": [],
   "source": [
    "from lenskit.data import Dataset, ItemListCollection\n",
    "from lenskit.metrics import RunAnalysis, RMSE, NDCG, RecipRank, RBP"
   ]
  },
  {
   "cell_type": "code",
   "execution_count": 4,
   "id": "43f2f0a9",
   "metadata": {
    "execution": {
     "iopub.execute_input": "2025-02-22T22:25:07.840382Z",
     "iopub.status.busy": "2025-02-22T22:25:07.840183Z",
     "iopub.status.idle": "2025-02-22T22:25:07.842611Z",
     "shell.execute_reply": "2025-02-22T22:25:07.842454Z"
    },
    "papermill": {
     "duration": 0.004812,
     "end_time": "2025-02-22T22:25:07.843102",
     "exception": false,
     "start_time": "2025-02-22T22:25:07.838290",
     "status": "completed"
    },
    "tags": []
   },
   "outputs": [],
   "source": [
    "from lkdemo.datasets import split_fraction"
   ]
  },
  {
   "cell_type": "markdown",
   "id": "35c34961",
   "metadata": {
    "papermill": {
     "duration": 0.001242,
     "end_time": "2025-02-22T22:25:07.845671",
     "exception": false,
     "start_time": "2025-02-22T22:25:07.844429",
     "status": "completed"
    },
    "tags": []
   },
   "source": [
    "## Load Data\n",
    "\n",
    "The recommendations are in `runs`, and we will need to reassemble the test data from `test`."
   ]
  },
  {
   "cell_type": "code",
   "execution_count": 5,
   "id": "3da98af4",
   "metadata": {
    "execution": {
     "iopub.execute_input": "2025-02-22T22:25:07.848458Z",
     "iopub.status.busy": "2025-02-22T22:25:07.848373Z",
     "iopub.status.idle": "2025-02-22T22:25:07.849688Z",
     "shell.execute_reply": "2025-02-22T22:25:07.849539Z"
    },
    "papermill": {
     "duration": 0.003312,
     "end_time": "2025-02-22T22:25:07.850241",
     "exception": false,
     "start_time": "2025-02-22T22:25:07.846929",
     "status": "completed"
    },
    "tags": [
     "parameters"
    ]
   },
   "outputs": [],
   "source": [
    "dataset = \"ml-100k\""
   ]
  },
  {
   "cell_type": "code",
   "execution_count": 6,
   "id": "a8f1e5c0",
   "metadata": {
    "execution": {
     "iopub.execute_input": "2025-02-22T22:25:07.853098Z",
     "iopub.status.busy": "2025-02-22T22:25:07.853026Z",
     "iopub.status.idle": "2025-02-22T22:25:07.854268Z",
     "shell.execute_reply": "2025-02-22T22:25:07.854120Z"
    },
    "papermill": {
     "duration": 0.003305,
     "end_time": "2025-02-22T22:25:07.854864",
     "exception": false,
     "start_time": "2025-02-22T22:25:07.851559",
     "status": "completed"
    },
    "tags": [
     "injected-parameters"
    ]
   },
   "outputs": [],
   "source": [
    "# Parameters\n",
    "dataset = \"ml-latest-small\"\n"
   ]
  },
  {
   "cell_type": "code",
   "execution_count": 7,
   "id": "c9bbbdee",
   "metadata": {
    "execution": {
     "iopub.execute_input": "2025-02-22T22:25:07.857803Z",
     "iopub.status.busy": "2025-02-22T22:25:07.857736Z",
     "iopub.status.idle": "2025-02-22T22:25:07.858987Z",
     "shell.execute_reply": "2025-02-22T22:25:07.858846Z"
    },
    "papermill": {
     "duration": 0.003355,
     "end_time": "2025-02-22T22:25:07.859531",
     "exception": false,
     "start_time": "2025-02-22T22:25:07.856176",
     "status": "completed"
    },
    "tags": []
   },
   "outputs": [],
   "source": [
    "output_root = Path(\"runs\")"
   ]
  },
  {
   "cell_type": "code",
   "execution_count": 8,
   "id": "8e1bd83e",
   "metadata": {
    "execution": {
     "iopub.execute_input": "2025-02-22T22:25:07.862424Z",
     "iopub.status.busy": "2025-02-22T22:25:07.862356Z",
     "iopub.status.idle": "2025-02-22T22:25:07.863914Z",
     "shell.execute_reply": "2025-02-22T22:25:07.863759Z"
    },
    "papermill": {
     "duration": 0.003523,
     "end_time": "2025-02-22T22:25:07.864388",
     "exception": false,
     "start_time": "2025-02-22T22:25:07.860865",
     "status": "completed"
    },
    "tags": []
   },
   "outputs": [],
   "source": [
    "dirs = [fld for fld in output_root.glob(f'{dataset}-*')]"
   ]
  },
  {
   "cell_type": "code",
   "execution_count": 9,
   "id": "0b5febd9",
   "metadata": {
    "execution": {
     "iopub.execute_input": "2025-02-22T22:25:07.867310Z",
     "iopub.status.busy": "2025-02-22T22:25:07.867243Z",
     "iopub.status.idle": "2025-02-22T22:25:07.892613Z",
     "shell.execute_reply": "2025-02-22T22:25:07.892350Z"
    },
    "papermill": {
     "duration": 0.02754,
     "end_time": "2025-02-22T22:25:07.893291",
     "exception": false,
     "start_time": "2025-02-22T22:25:07.865751",
     "status": "completed"
    },
    "tags": []
   },
   "outputs": [],
   "source": [
    "recs = ItemListCollection(['model', 'user_id'], index=False)\n",
    "for fld in dirs:\n",
    "    for file in fld.glob(\"recs-*\"):\n",
    "        rec = ItemListCollection.load_parquet(file)\n",
    "        recs.add_from(rec, model=fld.name.split(\"-\")[-1])"
   ]
  },
  {
   "cell_type": "code",
   "execution_count": 10,
   "id": "4b06a7b5",
   "metadata": {
    "execution": {
     "iopub.execute_input": "2025-02-22T22:25:07.896474Z",
     "iopub.status.busy": "2025-02-22T22:25:07.896402Z",
     "iopub.status.idle": "2025-02-22T22:25:07.899176Z",
     "shell.execute_reply": "2025-02-22T22:25:07.899031Z"
    },
    "papermill": {
     "duration": 0.004892,
     "end_time": "2025-02-22T22:25:07.899584",
     "exception": false,
     "start_time": "2025-02-22T22:25:07.894692",
     "status": "completed"
    },
    "tags": []
   },
   "outputs": [
    {
     "data": {
      "text/plain": [
       "['ALS', 'Bias', 'IALS', 'IIE', 'III', 'Pop', 'UUE']"
      ]
     },
     "execution_count": 10,
     "metadata": {},
     "output_type": "execute_result"
    }
   ],
   "source": [
    "rec_algos = sorted(set(a for (a, _u) in recs.keys()))\n",
    "rec_algos"
   ]
  },
  {
   "cell_type": "code",
   "execution_count": 11,
   "id": "0fe9ffda",
   "metadata": {
    "execution": {
     "iopub.execute_input": "2025-02-22T22:25:07.902805Z",
     "iopub.status.busy": "2025-02-22T22:25:07.902738Z",
     "iopub.status.idle": "2025-02-22T22:25:07.922823Z",
     "shell.execute_reply": "2025-02-22T22:25:07.922643Z"
    },
    "papermill": {
     "duration": 0.022205,
     "end_time": "2025-02-22T22:25:07.923329",
     "exception": false,
     "start_time": "2025-02-22T22:25:07.901124",
     "status": "completed"
    },
    "tags": []
   },
   "outputs": [],
   "source": [
    "preds = ItemListCollection(['model', 'user_id'], index=False)\n",
    "for fld in dirs:\n",
    "    for file in fld.glob(\"pred-*\"):\n",
    "        pred = ItemListCollection.load_parquet(file)\n",
    "        preds.add_from(pred, model=fld.name.split(\"-\")[-1])"
   ]
  },
  {
   "cell_type": "markdown",
   "id": "afae618c",
   "metadata": {
    "papermill": {
     "duration": 0.001352,
     "end_time": "2025-02-22T22:25:07.926148",
     "exception": false,
     "start_time": "2025-02-22T22:25:07.924796",
     "status": "completed"
    },
    "tags": []
   },
   "source": [
    "We need to load the test data so that we have the ground truths for computing accuracy."
   ]
  },
  {
   "cell_type": "code",
   "execution_count": 12,
   "id": "01ecdf7b",
   "metadata": {
    "execution": {
     "iopub.execute_input": "2025-02-22T22:25:07.929229Z",
     "iopub.status.busy": "2025-02-22T22:25:07.929147Z",
     "iopub.status.idle": "2025-02-22T22:25:07.953000Z",
     "shell.execute_reply": "2025-02-22T22:25:07.952654Z"
    },
    "papermill": {
     "duration": 0.02609,
     "end_time": "2025-02-22T22:25:07.953639",
     "exception": false,
     "start_time": "2025-02-22T22:25:07.927549",
     "status": "completed"
    },
    "tags": []
   },
   "outputs": [],
   "source": [
    "data = Dataset.load(f\"data/{dataset}\")\n",
    "split = split_fraction(data, 0.2)\n",
    "test = split.test"
   ]
  },
  {
   "cell_type": "markdown",
   "id": "291700d9",
   "metadata": {
    "papermill": {
     "duration": 0.001476,
     "end_time": "2025-02-22T22:25:07.956754",
     "exception": false,
     "start_time": "2025-02-22T22:25:07.955278",
     "status": "completed"
    },
    "tags": []
   },
   "source": [
    "And identify users in the training set, so we only report metrics over them."
   ]
  },
  {
   "cell_type": "code",
   "execution_count": 13,
   "id": "acfdbd1c",
   "metadata": {
    "execution": {
     "iopub.execute_input": "2025-02-22T22:25:07.959922Z",
     "iopub.status.busy": "2025-02-22T22:25:07.959834Z",
     "iopub.status.idle": "2025-02-22T22:25:07.968848Z",
     "shell.execute_reply": "2025-02-22T22:25:07.968663Z"
    },
    "papermill": {
     "duration": 0.011209,
     "end_time": "2025-02-22T22:25:07.969401",
     "exception": false,
     "start_time": "2025-02-22T22:25:07.958192",
     "status": "completed"
    },
    "tags": []
   },
   "outputs": [],
   "source": [
    "train_users = split.train.user_stats()\n",
    "train_users = train_users[train_users['rating_count'] > 0]"
   ]
  },
  {
   "cell_type": "markdown",
   "id": "bb7059cd",
   "metadata": {
    "papermill": {
     "duration": 0.001398,
     "end_time": "2025-02-22T22:25:07.972269",
     "exception": false,
     "start_time": "2025-02-22T22:25:07.970871",
     "status": "completed"
    },
    "tags": []
   },
   "source": [
    "## Top-N Metrics\n",
    "\n",
    "`RunListAnalysis` computes metrics for recommendation results and takes care of\n",
    "matching recommendations and ground truth."
   ]
  },
  {
   "cell_type": "code",
   "execution_count": 14,
   "id": "60a7550d",
   "metadata": {
    "execution": {
     "iopub.execute_input": "2025-02-22T22:25:07.976013Z",
     "iopub.status.busy": "2025-02-22T22:25:07.975935Z",
     "iopub.status.idle": "2025-02-22T22:25:08.065801Z",
     "shell.execute_reply": "2025-02-22T22:25:08.065403Z"
    },
    "papermill": {
     "duration": 0.092322,
     "end_time": "2025-02-22T22:25:08.066390",
     "exception": false,
     "start_time": "2025-02-22T22:25:07.974068",
     "status": "completed"
    },
    "tags": []
   },
   "outputs": [
    {
     "name": "stderr",
     "output_type": "stream",
     "text": [
      "/home/mde48/lenskit/lk-demo-experiment/.venv/lib/python3.13/site-packages/lenskit/metrics/bulk.py:127: FutureWarning: The previous implementation of stack is deprecated and will be removed in a future version of pandas. See the What's New notes for pandas 2.1.0 for details. Specify future_stack=True to adopt the new implementation and silence this warning.\n",
      "  df = scores.groupby(list(keys)).agg([\"mean\", \"median\", \"std\"]).stack(level=0)\n"
     ]
    },
    {
     "data": {
      "text/html": [
       "<div>\n",
       "<style scoped>\n",
       "    .dataframe tbody tr th:only-of-type {\n",
       "        vertical-align: middle;\n",
       "    }\n",
       "\n",
       "    .dataframe tbody tr th {\n",
       "        vertical-align: top;\n",
       "    }\n",
       "\n",
       "    .dataframe thead th {\n",
       "        text-align: right;\n",
       "    }\n",
       "</style>\n",
       "<table border=\"1\" class=\"dataframe\">\n",
       "  <thead>\n",
       "    <tr style=\"text-align: right;\">\n",
       "      <th></th>\n",
       "      <th></th>\n",
       "      <th>mean</th>\n",
       "      <th>median</th>\n",
       "      <th>std</th>\n",
       "    </tr>\n",
       "    <tr>\n",
       "      <th>model</th>\n",
       "      <th></th>\n",
       "      <th></th>\n",
       "      <th></th>\n",
       "      <th></th>\n",
       "    </tr>\n",
       "  </thead>\n",
       "  <tbody>\n",
       "    <tr>\n",
       "      <th rowspan=\"3\" valign=\"top\">ALS</th>\n",
       "      <th>NDCG</th>\n",
       "      <td>0.143585</td>\n",
       "      <td>0.123258</td>\n",
       "      <td>0.109129</td>\n",
       "    </tr>\n",
       "    <tr>\n",
       "      <th>RBP</th>\n",
       "      <td>0.196283</td>\n",
       "      <td>0.191755</td>\n",
       "      <td>0.174216</td>\n",
       "    </tr>\n",
       "    <tr>\n",
       "      <th>RecipRank</th>\n",
       "      <td>0.572264</td>\n",
       "      <td>1.000000</td>\n",
       "      <td>0.451754</td>\n",
       "    </tr>\n",
       "    <tr>\n",
       "      <th rowspan=\"3\" valign=\"top\">Bias</th>\n",
       "      <th>NDCG</th>\n",
       "      <td>0.144237</td>\n",
       "      <td>0.123258</td>\n",
       "      <td>0.112597</td>\n",
       "    </tr>\n",
       "    <tr>\n",
       "      <th>RBP</th>\n",
       "      <td>0.194368</td>\n",
       "      <td>0.185718</td>\n",
       "      <td>0.176979</td>\n",
       "    </tr>\n",
       "    <tr>\n",
       "      <th>RecipRank</th>\n",
       "      <td>0.569998</td>\n",
       "      <td>1.000000</td>\n",
       "      <td>0.459706</td>\n",
       "    </tr>\n",
       "    <tr>\n",
       "      <th rowspan=\"3\" valign=\"top\">IALS</th>\n",
       "      <th>NDCG</th>\n",
       "      <td>0.036128</td>\n",
       "      <td>0.011909</td>\n",
       "      <td>0.087273</td>\n",
       "    </tr>\n",
       "    <tr>\n",
       "      <th>RBP</th>\n",
       "      <td>0.026444</td>\n",
       "      <td>0.000703</td>\n",
       "      <td>0.084116</td>\n",
       "    </tr>\n",
       "    <tr>\n",
       "      <th>RecipRank</th>\n",
       "      <td>0.057071</td>\n",
       "      <td>0.029412</td>\n",
       "      <td>0.123974</td>\n",
       "    </tr>\n",
       "    <tr>\n",
       "      <th rowspan=\"3\" valign=\"top\">IIE</th>\n",
       "      <th>NDCG</th>\n",
       "      <td>0.003376</td>\n",
       "      <td>0.000000</td>\n",
       "      <td>0.012898</td>\n",
       "    </tr>\n",
       "    <tr>\n",
       "      <th>RBP</th>\n",
       "      <td>0.002943</td>\n",
       "      <td>0.000000</td>\n",
       "      <td>0.016685</td>\n",
       "    </tr>\n",
       "    <tr>\n",
       "      <th>RecipRank</th>\n",
       "      <td>0.008005</td>\n",
       "      <td>0.000000</td>\n",
       "      <td>0.038480</td>\n",
       "    </tr>\n",
       "    <tr>\n",
       "      <th rowspan=\"3\" valign=\"top\">III</th>\n",
       "      <th>NDCG</th>\n",
       "      <td>0.025775</td>\n",
       "      <td>0.000000</td>\n",
       "      <td>0.080206</td>\n",
       "    </tr>\n",
       "    <tr>\n",
       "      <th>RBP</th>\n",
       "      <td>0.025322</td>\n",
       "      <td>0.000000</td>\n",
       "      <td>0.093465</td>\n",
       "    </tr>\n",
       "    <tr>\n",
       "      <th>RecipRank</th>\n",
       "      <td>0.053646</td>\n",
       "      <td>0.000000</td>\n",
       "      <td>0.181649</td>\n",
       "    </tr>\n",
       "    <tr>\n",
       "      <th rowspan=\"3\" valign=\"top\">Pop</th>\n",
       "      <th>NDCG</th>\n",
       "      <td>0.217502</td>\n",
       "      <td>0.197962</td>\n",
       "      <td>0.154321</td>\n",
       "    </tr>\n",
       "    <tr>\n",
       "      <th>RBP</th>\n",
       "      <td>0.365221</td>\n",
       "      <td>0.350361</td>\n",
       "      <td>0.287828</td>\n",
       "    </tr>\n",
       "    <tr>\n",
       "      <th>RecipRank</th>\n",
       "      <td>0.637057</td>\n",
       "      <td>1.000000</td>\n",
       "      <td>0.420176</td>\n",
       "    </tr>\n",
       "    <tr>\n",
       "      <th rowspan=\"3\" valign=\"top\">UUE</th>\n",
       "      <th>NDCG</th>\n",
       "      <td>0.000188</td>\n",
       "      <td>0.000000</td>\n",
       "      <td>0.001452</td>\n",
       "    </tr>\n",
       "    <tr>\n",
       "      <th>RBP</th>\n",
       "      <td>0.000281</td>\n",
       "      <td>0.000000</td>\n",
       "      <td>0.002754</td>\n",
       "    </tr>\n",
       "    <tr>\n",
       "      <th>RecipRank</th>\n",
       "      <td>0.001129</td>\n",
       "      <td>0.000000</td>\n",
       "      <td>0.009192</td>\n",
       "    </tr>\n",
       "  </tbody>\n",
       "</table>\n",
       "</div>"
      ],
      "text/plain": [
       "                     mean    median       std\n",
       "model                                        \n",
       "ALS   NDCG       0.143585  0.123258  0.109129\n",
       "      RBP        0.196283  0.191755  0.174216\n",
       "      RecipRank  0.572264  1.000000  0.451754\n",
       "Bias  NDCG       0.144237  0.123258  0.112597\n",
       "      RBP        0.194368  0.185718  0.176979\n",
       "      RecipRank  0.569998  1.000000  0.459706\n",
       "IALS  NDCG       0.036128  0.011909  0.087273\n",
       "      RBP        0.026444  0.000703  0.084116\n",
       "      RecipRank  0.057071  0.029412  0.123974\n",
       "IIE   NDCG       0.003376  0.000000  0.012898\n",
       "      RBP        0.002943  0.000000  0.016685\n",
       "      RecipRank  0.008005  0.000000  0.038480\n",
       "III   NDCG       0.025775  0.000000  0.080206\n",
       "      RBP        0.025322  0.000000  0.093465\n",
       "      RecipRank  0.053646  0.000000  0.181649\n",
       "Pop   NDCG       0.217502  0.197962  0.154321\n",
       "      RBP        0.365221  0.350361  0.287828\n",
       "      RecipRank  0.637057  1.000000  0.420176\n",
       "UUE   NDCG       0.000188  0.000000  0.001452\n",
       "      RBP        0.000281  0.000000  0.002754\n",
       "      RecipRank  0.001129  0.000000  0.009192"
      ]
     },
     "execution_count": 14,
     "metadata": {},
     "output_type": "execute_result"
    }
   ],
   "source": [
    "ra = RunAnalysis()\n",
    "\n",
    "ra.add_metric(NDCG())\n",
    "ra.add_metric(RecipRank())\n",
    "ra.add_metric(RBP())\n",
    "\n",
    "rec_results = ra.compute(recs, test)\n",
    "rec_results.list_summary('model')"
   ]
  },
  {
   "cell_type": "markdown",
   "id": "c43d0a23",
   "metadata": {
    "papermill": {
     "duration": 0.00156,
     "end_time": "2025-02-22T22:25:08.069669",
     "exception": false,
     "start_time": "2025-02-22T22:25:08.068109",
     "status": "completed"
    },
    "tags": []
   },
   "source": [
    "We can reshape the list metrics and plot them:"
   ]
  },
  {
   "cell_type": "code",
   "execution_count": 15,
   "id": "9d2d5d12",
   "metadata": {
    "execution": {
     "iopub.execute_input": "2025-02-22T22:25:08.073459Z",
     "iopub.status.busy": "2025-02-22T22:25:08.073365Z",
     "iopub.status.idle": "2025-02-22T22:25:08.385965Z",
     "shell.execute_reply": "2025-02-22T22:25:08.385709Z"
    },
    "papermill": {
     "duration": 0.315235,
     "end_time": "2025-02-22T22:25:08.386569",
     "exception": false,
     "start_time": "2025-02-22T22:25:08.071334",
     "status": "completed"
    },
    "tags": []
   },
   "outputs": [
    {
     "data": {
      "image/png": "[encoded data removed]",
      "text/plain": [
       "<Figure size 1511.11x500 with 3 Axes>"
      ]
     },
     "metadata": {},
     "output_type": "display_data"
    }
   ],
   "source": [
    "metrics = rec_results.list_metrics()\n",
    "metrics = metrics.melt(var_name='metric', ignore_index=False).reset_index()\n",
    "metrics = metrics[metrics['user_id'].isin(train_users.index)]\n",
    "sns.catplot(metrics, x='model', y='value', col='metric', kind='bar')\n",
    "plt.show()"
   ]
  },
  {
   "cell_type": "markdown",
   "id": "c43e61ea",
   "metadata": {
    "papermill": {
     "duration": 0.009189,
     "end_time": "2025-02-22T22:25:08.398935",
     "exception": false,
     "start_time": "2025-02-22T22:25:08.389746",
     "status": "completed"
    },
    "tags": []
   },
   "source": [
    "## Prediction RMSE\n",
    "\n",
    "We will also look at the prediction RMSE."
   ]
  },
  {
   "cell_type": "code",
   "execution_count": 16,
   "id": "96b6d861",
   "metadata": {
    "execution": {
     "iopub.execute_input": "2025-02-22T22:25:08.402780Z",
     "iopub.status.busy": "2025-02-22T22:25:08.402700Z",
     "iopub.status.idle": "2025-02-22T22:25:08.486347Z",
     "shell.execute_reply": "2025-02-22T22:25:08.486183Z"
    },
    "papermill": {
     "duration": 0.08636,
     "end_time": "2025-02-22T22:25:08.487012",
     "exception": false,
     "start_time": "2025-02-22T22:25:08.400652",
     "status": "completed"
    },
    "tags": []
   },
   "outputs": [
    {
     "name": "stderr",
     "output_type": "stream",
     "text": [
      "/home/mde48/lenskit/lk-demo-experiment/.venv/lib/python3.13/site-packages/lenskit/metrics/bulk.py:127: FutureWarning: The previous implementation of stack is deprecated and will be removed in a future version of pandas. See the What's New notes for pandas 2.1.0 for details. Specify future_stack=True to adopt the new implementation and silence this warning.\n",
      "  df = scores.groupby(list(keys)).agg([\"mean\", \"median\", \"std\"]).stack(level=0)\n"
     ]
    },
    {
     "data": {
      "text/html": [
       "<div>\n",
       "<style scoped>\n",
       "    .dataframe tbody tr th:only-of-type {\n",
       "        vertical-align: middle;\n",
       "    }\n",
       "\n",
       "    .dataframe tbody tr th {\n",
       "        vertical-align: top;\n",
       "    }\n",
       "\n",
       "    .dataframe thead th {\n",
       "        text-align: right;\n",
       "    }\n",
       "</style>\n",
       "<table border=\"1\" class=\"dataframe\">\n",
       "  <thead>\n",
       "    <tr style=\"text-align: right;\">\n",
       "      <th></th>\n",
       "      <th></th>\n",
       "      <th>mean</th>\n",
       "      <th>median</th>\n",
       "      <th>std</th>\n",
       "    </tr>\n",
       "    <tr>\n",
       "      <th>model</th>\n",
       "      <th></th>\n",
       "      <th></th>\n",
       "      <th></th>\n",
       "      <th></th>\n",
       "    </tr>\n",
       "  </thead>\n",
       "  <tbody>\n",
       "    <tr>\n",
       "      <th>ALS</th>\n",
       "      <th>RMSE</th>\n",
       "      <td>0.961093</td>\n",
       "      <td>0.898315</td>\n",
       "      <td>0.343152</td>\n",
       "    </tr>\n",
       "    <tr>\n",
       "      <th>Bias</th>\n",
       "      <th>RMSE</th>\n",
       "      <td>0.965678</td>\n",
       "      <td>0.899920</td>\n",
       "      <td>0.346167</td>\n",
       "    </tr>\n",
       "    <tr>\n",
       "      <th>IIE</th>\n",
       "      <th>RMSE</th>\n",
       "      <td>0.996960</td>\n",
       "      <td>0.942495</td>\n",
       "      <td>0.358581</td>\n",
       "    </tr>\n",
       "    <tr>\n",
       "      <th>UUE</th>\n",
       "      <th>RMSE</th>\n",
       "      <td>1.005463</td>\n",
       "      <td>0.942495</td>\n",
       "      <td>0.356630</td>\n",
       "    </tr>\n",
       "  </tbody>\n",
       "</table>\n",
       "</div>"
      ],
      "text/plain": [
       "                mean    median       std\n",
       "model                                   \n",
       "ALS   RMSE  0.961093  0.898315  0.343152\n",
       "Bias  RMSE  0.965678  0.899920  0.346167\n",
       "IIE   RMSE  0.996960  0.942495  0.358581\n",
       "UUE   RMSE  1.005463  0.942495  0.356630"
      ]
     },
     "execution_count": 16,
     "metadata": {},
     "output_type": "execute_result"
    }
   ],
   "source": [
    "pa = RunAnalysis()\n",
    "\n",
    "pa.add_metric(RMSE(missing_scores='ignore', missing_truth='ignore'))\n",
    "\n",
    "pred_results = pa.compute(preds, test)\n",
    "pred_results.list_summary('model')"
   ]
  },
  {
   "cell_type": "code",
   "execution_count": 17,
   "id": "6d814573",
   "metadata": {
    "execution": {
     "iopub.execute_input": "2025-02-22T22:25:08.491065Z",
     "iopub.status.busy": "2025-02-22T22:25:08.490992Z",
     "iopub.status.idle": "2025-02-22T22:25:08.571989Z",
     "shell.execute_reply": "2025-02-22T22:25:08.571735Z"
    },
    "papermill": {
     "duration": 0.08381,
     "end_time": "2025-02-22T22:25:08.572612",
     "exception": false,
     "start_time": "2025-02-22T22:25:08.488802",
     "status": "completed"
    },
    "tags": []
   },
   "outputs": [
    {
     "data": {
      "image/png": "[encoded data removed]",
      "text/plain": [
       "<Figure size 511.111x500 with 1 Axes>"
      ]
     },
     "metadata": {},
     "output_type": "display_data"
    }
   ],
   "source": [
    "pred_metrics = pred_results.list_metrics().reset_index()\n",
    "pred_metrics = pred_metrics[pred_metrics['user_id'].isin(train_users.index)]\n",
    "sns.catplot(pred_metrics, x='model', y='RMSE', kind='bar')\n",
    "plt.show()"
   ]
  },
  {
   "cell_type": "markdown",
   "id": "150ed96b",
   "metadata": {
    "papermill": {
     "duration": 0.001771,
     "end_time": "2025-02-22T22:25:08.576270",
     "exception": false,
     "start_time": "2025-02-22T22:25:08.574499",
     "status": "completed"
    },
    "tags": []
   },
   "source": [
    "## Save Metrics\n",
    "\n",
    "We'll now save the metrics to a file."
   ]
  },
  {
   "cell_type": "code",
   "execution_count": 18,
   "id": "95247ac8",
   "metadata": {
    "execution": {
     "iopub.execute_input": "2025-02-22T22:25:08.580332Z",
     "iopub.status.busy": "2025-02-22T22:25:08.580255Z",
     "iopub.status.idle": "2025-02-22T22:25:08.586589Z",
     "shell.execute_reply": "2025-02-22T22:25:08.586427Z"
    },
    "papermill": {
     "duration": 0.009029,
     "end_time": "2025-02-22T22:25:08.587117",
     "exception": false,
     "start_time": "2025-02-22T22:25:08.578088",
     "status": "completed"
    },
    "tags": []
   },
   "outputs": [
    {
     "name": "stderr",
     "output_type": "stream",
     "text": [
      "/home/mde48/lenskit/lk-demo-experiment/.venv/lib/python3.13/site-packages/lenskit/metrics/bulk.py:127: FutureWarning: The previous implementation of stack is deprecated and will be removed in a future version of pandas. See the What's New notes for pandas 2.1.0 for details. Specify future_stack=True to adopt the new implementation and silence this warning.\n",
      "  df = scores.groupby(list(keys)).agg([\"mean\", \"median\", \"std\"]).stack(level=0)\n"
     ]
    },
    {
     "data": {
      "text/html": [
       "<div>\n",
       "<style scoped>\n",
       "    .dataframe tbody tr th:only-of-type {\n",
       "        vertical-align: middle;\n",
       "    }\n",
       "\n",
       "    .dataframe tbody tr th {\n",
       "        vertical-align: top;\n",
       "    }\n",
       "\n",
       "    .dataframe thead th {\n",
       "        text-align: right;\n",
       "    }\n",
       "</style>\n",
       "<table border=\"1\" class=\"dataframe\">\n",
       "  <thead>\n",
       "    <tr style=\"text-align: right;\">\n",
       "      <th></th>\n",
       "      <th>NDCG</th>\n",
       "      <th>RBP</th>\n",
       "      <th>RecipRank</th>\n",
       "    </tr>\n",
       "    <tr>\n",
       "      <th>model</th>\n",
       "      <th></th>\n",
       "      <th></th>\n",
       "      <th></th>\n",
       "    </tr>\n",
       "  </thead>\n",
       "  <tbody>\n",
       "    <tr>\n",
       "      <th>ALS</th>\n",
       "      <td>0.143585</td>\n",
       "      <td>0.196283</td>\n",
       "      <td>0.572264</td>\n",
       "    </tr>\n",
       "    <tr>\n",
       "      <th>Bias</th>\n",
       "      <td>0.144237</td>\n",
       "      <td>0.194368</td>\n",
       "      <td>0.569998</td>\n",
       "    </tr>\n",
       "    <tr>\n",
       "      <th>IALS</th>\n",
       "      <td>0.036128</td>\n",
       "      <td>0.026444</td>\n",
       "      <td>0.057071</td>\n",
       "    </tr>\n",
       "    <tr>\n",
       "      <th>IIE</th>\n",
       "      <td>0.003376</td>\n",
       "      <td>0.002943</td>\n",
       "      <td>0.008005</td>\n",
       "    </tr>\n",
       "    <tr>\n",
       "      <th>III</th>\n",
       "      <td>0.025775</td>\n",
       "      <td>0.025322</td>\n",
       "      <td>0.053646</td>\n",
       "    </tr>\n",
       "    <tr>\n",
       "      <th>Pop</th>\n",
       "      <td>0.217502</td>\n",
       "      <td>0.365221</td>\n",
       "      <td>0.637057</td>\n",
       "    </tr>\n",
       "    <tr>\n",
       "      <th>UUE</th>\n",
       "      <td>0.000188</td>\n",
       "      <td>0.000281</td>\n",
       "      <td>0.001129</td>\n",
       "    </tr>\n",
       "  </tbody>\n",
       "</table>\n",
       "</div>"
      ],
      "text/plain": [
       "           NDCG       RBP  RecipRank\n",
       "model                               \n",
       "ALS    0.143585  0.196283   0.572264\n",
       "Bias   0.144237  0.194368   0.569998\n",
       "IALS   0.036128  0.026444   0.057071\n",
       "IIE    0.003376  0.002943   0.008005\n",
       "III    0.025775  0.025322   0.053646\n",
       "Pop    0.217502  0.365221   0.637057\n",
       "UUE    0.000188  0.000281   0.001129"
      ]
     },
     "execution_count": 18,
     "metadata": {},
     "output_type": "execute_result"
    }
   ],
   "source": [
    "rlsum = rec_results.list_summary('model')['mean'].unstack()\n",
    "rlsum"
   ]
  },
  {
   "cell_type": "code",
   "execution_count": 19,
   "id": "fb76a470",
   "metadata": {
    "execution": {
     "iopub.execute_input": "2025-02-22T22:25:08.591224Z",
     "iopub.status.busy": "2025-02-22T22:25:08.591154Z",
     "iopub.status.idle": "2025-02-22T22:25:08.592907Z",
     "shell.execute_reply": "2025-02-22T22:25:08.592758Z"
    },
    "papermill": {
     "duration": 0.004447,
     "end_time": "2025-02-22T22:25:08.593374",
     "exception": false,
     "start_time": "2025-02-22T22:25:08.588927",
     "status": "completed"
    },
    "tags": []
   },
   "outputs": [],
   "source": [
    "rlsum.to_json(f'eval-metrics.{dataset}.json', orient='index')"
   ]
  }
 ],
 "metadata": {
  "jupytext": {
   "formats": "ipynb,md",
   "notebook_metadata_filter": "split_at_heading"
  },
  "kernelspec": {
   "display_name": ".venv",
   "language": "python",
   "name": "python3"
  },
  "language_info": {
   "codemirror_mode": {
    "name": "ipython",
    "version": 3
   },
   "file_extension": ".py",
   "mimetype": "text/x-python",
   "name": "python",
   "nbconvert_exporter": "python",
   "pygments_lexer": "ipython3",
   "version": "3.13.2"
  },
  "papermill": {
   "default_parameters": {},
   "duration": 2.956793,
   "end_time": "2025-02-22T22:25:09.010243",
   "environment_variables": {},
   "exception": null,
   "input_path": "eval-report.ipynb",
   "output_path": "eval-report.ml-latest-small.ipynb",
   "parameters": {
    "dataset": "ml-latest-small"
   },
   "start_time": "2025-02-22T22:25:06.053450",
   "version": "2.6.0"
  },
  "split_at_heading": true
 },
 "nbformat": 4,
 "nbformat_minor": 5
}