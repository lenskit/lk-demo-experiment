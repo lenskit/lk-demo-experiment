{
 "cells": [
  {
   "cell_type": "markdown",
   "id": "79e795a5",
   "metadata": {
    "tags": [
     "papermill-error-cell-tag"
    ]
   },
   "source": [
    "<span style=\"color:red; font-family:Helvetica Neue, Helvetica, Arial, sans-serif; font-size:2em;\">An Exception was encountered at '<a href=\"#papermill-error-cell\">In [15]</a>'.</span>"
   ]
  },
  {
   "cell_type": "markdown",
   "id": "627160a5",
   "metadata": {
    "papermill": {
     "duration": 0.010861,
     "end_time": "2025-02-06T17:41:32.379489",
     "exception": false,
     "start_time": "2025-02-06T17:41:32.368628",
     "status": "completed"
    },
    "tags": []
   },
   "source": [
    "# Evaluation Analysis for Recommender Output"
   ]
  },
  {
   "cell_type": "markdown",
   "id": "ff97d282",
   "metadata": {
    "papermill": {
     "duration": 0.001218,
     "end_time": "2025-02-06T17:41:32.382120",
     "exception": false,
     "start_time": "2025-02-06T17:41:32.380902",
     "status": "completed"
    },
    "tags": []
   },
   "source": [
    "In this section we will analyze and compare the generated recommendations and predictions from a predefined list of algorithms with the goal of assessing the performance of each algorithm with respect to a metric. In other words, we would rank the algorithms for each metric considered with respect to performance."
   ]
  },
  {
   "cell_type": "markdown",
   "id": "72feefd7",
   "metadata": {
    "papermill": {
     "duration": 0.001121,
     "end_time": "2025-02-06T17:41:32.384463",
     "exception": false,
     "start_time": "2025-02-06T17:41:32.383342",
     "status": "completed"
    },
    "tags": []
   },
   "source": [
    "## Setup"
   ]
  },
  {
   "cell_type": "markdown",
   "id": "824b8a17",
   "metadata": {
    "papermill": {
     "duration": 0.001269,
     "end_time": "2025-02-06T17:41:32.386855",
     "exception": false,
     "start_time": "2025-02-06T17:41:32.385586",
     "status": "completed"
    },
    "tags": []
   },
   "source": [
    "Below are the list of packages required to successfully run the analysis. They are divided into partitions to signify their specific task.<br>\n",
    "We need the pathlib package for working with files and folders"
   ]
  },
  {
   "cell_type": "code",
   "execution_count": 1,
   "id": "db629019",
   "metadata": {
    "execution": {
     "iopub.execute_input": "2025-02-06T17:41:32.389633Z",
     "iopub.status.busy": "2025-02-06T17:41:32.389531Z",
     "iopub.status.idle": "2025-02-06T17:41:32.391472Z",
     "shell.execute_reply": "2025-02-06T17:41:32.391235Z"
    },
    "papermill": {
     "duration": 0.004028,
     "end_time": "2025-02-06T17:41:32.392057",
     "exception": false,
     "start_time": "2025-02-06T17:41:32.388029",
     "status": "completed"
    },
    "tags": []
   },
   "outputs": [],
   "source": [
    "from pathlib import Path\n",
    "import json"
   ]
  },
  {
   "cell_type": "markdown",
   "id": "d61df12a",
   "metadata": {
    "papermill": {
     "duration": 0.001159,
     "end_time": "2025-02-06T17:41:32.394439",
     "exception": false,
     "start_time": "2025-02-06T17:41:32.393280",
     "status": "completed"
    },
    "tags": []
   },
   "source": [
    "We would use the pandas for analyzing and manipulating our data while seaborn and matplotlib are used for data visualization. statsmodels.graphics.gofplots and scipy.stats.shapiro are used for normality check. Scipy.stats.friedmanchisquare is a non-parametric test used to determine the statistical significance in metric results and the wilcoxon test is used for pairwise comparison of sample data."
   ]
  },
  {
   "cell_type": "code",
   "execution_count": 2,
   "id": "45f067bc",
   "metadata": {
    "execution": {
     "iopub.execute_input": "2025-02-06T17:41:32.397080Z",
     "iopub.status.busy": "2025-02-06T17:41:32.397007Z",
     "iopub.status.idle": "2025-02-06T17:41:32.886588Z",
     "shell.execute_reply": "2025-02-06T17:41:32.886151Z"
    },
    "lines_to_next_cell": 2,
    "papermill": {
     "duration": 0.491716,
     "end_time": "2025-02-06T17:41:32.887315",
     "exception": false,
     "start_time": "2025-02-06T17:41:32.395599",
     "status": "completed"
    },
    "tags": []
   },
   "outputs": [],
   "source": [
    "import pandas as pd\n",
    "import seaborn as sns\n",
    "import matplotlib.pyplot as plt\n",
    "from statsmodels.graphics.gofplots import qqplot\n",
    "from scipy.stats import shapiro\n",
    "from scipy.stats import friedmanchisquare, wilcoxon\n",
    "from itertools import combinations"
   ]
  },
  {
   "cell_type": "markdown",
   "id": "1681abfd",
   "metadata": {
    "papermill": {
     "duration": 0.008849,
     "end_time": "2025-02-06T17:41:32.897610",
     "exception": false,
     "start_time": "2025-02-06T17:41:32.888761",
     "status": "completed"
    },
    "tags": []
   },
   "source": [
    "Import the LensKit metrics for analysis:"
   ]
  },
  {
   "cell_type": "code",
   "execution_count": 3,
   "id": "a2ad1b0d",
   "metadata": {
    "execution": {
     "iopub.execute_input": "2025-02-06T17:41:32.900602Z",
     "iopub.status.busy": "2025-02-06T17:41:32.900478Z",
     "iopub.status.idle": "2025-02-06T17:41:33.538489Z",
     "shell.execute_reply": "2025-02-06T17:41:33.538156Z"
    },
    "papermill": {
     "duration": 0.6404,
     "end_time": "2025-02-06T17:41:33.539238",
     "exception": false,
     "start_time": "2025-02-06T17:41:32.898838",
     "status": "completed"
    },
    "tags": []
   },
   "outputs": [],
   "source": [
    "from lenskit.data import ItemListCollection, UserIDKey\n",
    "from lenskit.metrics import RunAnalysis, RMSE, NDCG, RecipRank, RBP"
   ]
  },
  {
   "cell_type": "markdown",
   "id": "39690fd8",
   "metadata": {
    "papermill": {
     "duration": 0.001275,
     "end_time": "2025-02-06T17:41:33.542095",
     "exception": false,
     "start_time": "2025-02-06T17:41:33.540820",
     "status": "completed"
    },
    "tags": []
   },
   "source": [
    "## Load Data\n",
    "\n",
    "The recommendations are in `runs`, and we will need to reassemble the test data from `test`."
   ]
  },
  {
   "cell_type": "code",
   "execution_count": 4,
   "id": "4e076282",
   "metadata": {
    "execution": {
     "iopub.execute_input": "2025-02-06T17:41:33.545324Z",
     "iopub.status.busy": "2025-02-06T17:41:33.545068Z",
     "iopub.status.idle": "2025-02-06T17:41:33.547019Z",
     "shell.execute_reply": "2025-02-06T17:41:33.546742Z"
    },
    "papermill": {
     "duration": 0.004088,
     "end_time": "2025-02-06T17:41:33.547473",
     "exception": false,
     "start_time": "2025-02-06T17:41:33.543385",
     "status": "completed"
    },
    "tags": [
     "parameters"
    ]
   },
   "outputs": [],
   "source": [
    "dataset = \"ml100k\""
   ]
  },
  {
   "cell_type": "code",
   "execution_count": 5,
   "id": "1a874206",
   "metadata": {
    "execution": {
     "iopub.execute_input": "2025-02-06T17:41:33.550476Z",
     "iopub.status.busy": "2025-02-06T17:41:33.550403Z",
     "iopub.status.idle": "2025-02-06T17:41:33.551749Z",
     "shell.execute_reply": "2025-02-06T17:41:33.551602Z"
    },
    "papermill": {
     "duration": 0.003338,
     "end_time": "2025-02-06T17:41:33.552144",
     "exception": false,
     "start_time": "2025-02-06T17:41:33.548806",
     "status": "completed"
    },
    "tags": [
     "injected-parameters"
    ]
   },
   "outputs": [],
   "source": [
    "# Parameters\n",
    "dataset = \"ml-latest-small\"\n"
   ]
  },
  {
   "cell_type": "code",
   "execution_count": 6,
   "id": "0167d6cb",
   "metadata": {
    "execution": {
     "iopub.execute_input": "2025-02-06T17:41:33.555030Z",
     "iopub.status.busy": "2025-02-06T17:41:33.554961Z",
     "iopub.status.idle": "2025-02-06T17:41:33.556227Z",
     "shell.execute_reply": "2025-02-06T17:41:33.556084Z"
    },
    "papermill": {
     "duration": 0.003251,
     "end_time": "2025-02-06T17:41:33.556654",
     "exception": false,
     "start_time": "2025-02-06T17:41:33.553403",
     "status": "completed"
    },
    "tags": []
   },
   "outputs": [],
   "source": [
    "output_root = Path(\"runs\")"
   ]
  },
  {
   "cell_type": "code",
   "execution_count": 7,
   "id": "0921d0c4",
   "metadata": {
    "execution": {
     "iopub.execute_input": "2025-02-06T17:41:33.559539Z",
     "iopub.status.busy": "2025-02-06T17:41:33.559468Z",
     "iopub.status.idle": "2025-02-06T17:41:33.560969Z",
     "shell.execute_reply": "2025-02-06T17:41:33.560825Z"
    },
    "papermill": {
     "duration": 0.003458,
     "end_time": "2025-02-06T17:41:33.561352",
     "exception": false,
     "start_time": "2025-02-06T17:41:33.557894",
     "status": "completed"
    },
    "tags": []
   },
   "outputs": [],
   "source": [
    "dirs = [fld for fld in output_root.glob(f'{dataset}-*')]"
   ]
  },
  {
   "cell_type": "code",
   "execution_count": 8,
   "id": "f5ff32c2",
   "metadata": {
    "execution": {
     "iopub.execute_input": "2025-02-06T17:41:33.564220Z",
     "iopub.status.busy": "2025-02-06T17:41:33.564149Z",
     "iopub.status.idle": "2025-02-06T17:41:33.573733Z",
     "shell.execute_reply": "2025-02-06T17:41:33.573570Z"
    },
    "papermill": {
     "duration": 0.011516,
     "end_time": "2025-02-06T17:41:33.574134",
     "exception": false,
     "start_time": "2025-02-06T17:41:33.562618",
     "status": "completed"
    },
    "tags": []
   },
   "outputs": [],
   "source": [
    "recs = ItemListCollection(['model', 'user_id'], index=False)\n",
    "for fld in dirs:\n",
    "    for file in fld.glob(\"recs-*\"):\n",
    "        rec = ItemListCollection.load_parquet(file)\n",
    "        recs.add_from(rec, model=fld.name.split(\"-\")[1])"
   ]
  },
  {
   "cell_type": "code",
   "execution_count": 9,
   "id": "bab0e837",
   "metadata": {
    "execution": {
     "iopub.execute_input": "2025-02-06T17:41:33.577151Z",
     "iopub.status.busy": "2025-02-06T17:41:33.577077Z",
     "iopub.status.idle": "2025-02-06T17:41:33.579624Z",
     "shell.execute_reply": "2025-02-06T17:41:33.579482Z"
    },
    "papermill": {
     "duration": 0.004491,
     "end_time": "2025-02-06T17:41:33.579964",
     "exception": false,
     "start_time": "2025-02-06T17:41:33.575473",
     "status": "completed"
    },
    "tags": []
   },
   "outputs": [
    {
     "data": {
      "text/plain": [
       "['latest']"
      ]
     },
     "execution_count": 9,
     "metadata": {},
     "output_type": "execute_result"
    }
   ],
   "source": [
    "rec_algos = sorted(set(a for (a, _u) in recs.keys()))\n",
    "rec_algos"
   ]
  },
  {
   "cell_type": "code",
   "execution_count": 10,
   "id": "ce684383",
   "metadata": {
    "execution": {
     "iopub.execute_input": "2025-02-06T17:41:33.583035Z",
     "iopub.status.busy": "2025-02-06T17:41:33.582967Z",
     "iopub.status.idle": "2025-02-06T17:41:33.586824Z",
     "shell.execute_reply": "2025-02-06T17:41:33.586667Z"
    },
    "papermill": {
     "duration": 0.005967,
     "end_time": "2025-02-06T17:41:33.587284",
     "exception": false,
     "start_time": "2025-02-06T17:41:33.581317",
     "status": "completed"
    },
    "tags": []
   },
   "outputs": [],
   "source": [
    "preds = ItemListCollection(['model', 'user_id'], index=False)\n",
    "for fld in dirs:\n",
    "    for file in fld.glob(\"pred-*\"):\n",
    "        pred = ItemListCollection.load_parquet(file)\n",
    "        preds.add_from(pred, model=fld.name.split(\"-\")[1])"
   ]
  },
  {
   "cell_type": "markdown",
   "id": "7def51b6",
   "metadata": {
    "papermill": {
     "duration": 0.001311,
     "end_time": "2025-02-06T17:41:33.589951",
     "exception": false,
     "start_time": "2025-02-06T17:41:33.588640",
     "status": "completed"
    },
    "tags": []
   },
   "source": [
    "We need to load the test data so that we have the ground truths for computing accuracy"
   ]
  },
  {
   "cell_type": "code",
   "execution_count": 11,
   "id": "392bd935",
   "metadata": {
    "execution": {
     "iopub.execute_input": "2025-02-06T17:41:33.593061Z",
     "iopub.status.busy": "2025-02-06T17:41:33.592992Z",
     "iopub.status.idle": "2025-02-06T17:41:33.594273Z",
     "shell.execute_reply": "2025-02-06T17:41:33.594132Z"
    },
    "papermill": {
     "duration": 0.003271,
     "end_time": "2025-02-06T17:41:33.594639",
     "exception": false,
     "start_time": "2025-02-06T17:41:33.591368",
     "status": "completed"
    },
    "tags": []
   },
   "outputs": [],
   "source": [
    "split_root = Path(\"data-split\")\n",
    "split_dir = split_root / dataset"
   ]
  },
  {
   "cell_type": "code",
   "execution_count": 12,
   "id": "bb4c0fb0",
   "metadata": {
    "execution": {
     "iopub.execute_input": "2025-02-06T17:41:33.597712Z",
     "iopub.status.busy": "2025-02-06T17:41:33.597644Z",
     "iopub.status.idle": "2025-02-06T17:41:33.599145Z",
     "shell.execute_reply": "2025-02-06T17:41:33.598996Z"
    },
    "papermill": {
     "duration": 0.003534,
     "end_time": "2025-02-06T17:41:33.599514",
     "exception": false,
     "start_time": "2025-02-06T17:41:33.595980",
     "status": "completed"
    },
    "tags": []
   },
   "outputs": [],
   "source": [
    "test = ItemListCollection(UserIDKey)\n",
    "for file in split_dir.glob(\"test-*.parquet\"):\n",
    "    df = pd.read_parquet(file)\n",
    "    part = ItemListCollection.from_df(df, UserIDKey)\n",
    "    test.add_from(part)"
   ]
  },
  {
   "cell_type": "markdown",
   "id": "b549d43f",
   "metadata": {
    "papermill": {
     "duration": 0.001287,
     "end_time": "2025-02-06T17:41:33.602184",
     "exception": false,
     "start_time": "2025-02-06T17:41:33.600897",
     "status": "completed"
    },
    "tags": []
   },
   "source": [
    "## Top-N Metrics\n",
    "\n",
    "`RunListAnalysis` computes metrics for recommendation results and takes care of\n",
    "matching recommendations and ground truth."
   ]
  },
  {
   "cell_type": "code",
   "execution_count": 13,
   "id": "b404031b",
   "metadata": {
    "execution": {
     "iopub.execute_input": "2025-02-06T17:41:33.605350Z",
     "iopub.status.busy": "2025-02-06T17:41:33.605281Z",
     "iopub.status.idle": "2025-02-06T17:41:33.615050Z",
     "shell.execute_reply": "2025-02-06T17:41:33.614906Z"
    },
    "papermill": {
     "duration": 0.01182,
     "end_time": "2025-02-06T17:41:33.615343",
     "exception": false,
     "start_time": "2025-02-06T17:41:33.603523",
     "status": "completed"
    },
    "tags": []
   },
   "outputs": [
    {
     "name": "stderr",
     "output_type": "stream",
     "text": [
      "list LKILCKeyType2(model='latest', user_id=514): no test items\n"
     ]
    },
    {
     "name": "stderr",
     "output_type": "stream",
     "text": [
      "list LKILCKeyType2(model='latest', user_id=514): no test items\n"
     ]
    },
    {
     "name": "stderr",
     "output_type": "stream",
     "text": [
      "list LKILCKeyType2(model='latest', user_id=514): no test items\n"
     ]
    },
    {
     "name": "stderr",
     "output_type": "stream",
     "text": [
      "list LKILCKeyType2(model='latest', user_id=514): no test items\n"
     ]
    },
    {
     "name": "stderr",
     "output_type": "stream",
     "text": [
      "list LKILCKeyType2(model='latest', user_id=514): no test items\n"
     ]
    },
    {
     "name": "stderr",
     "output_type": "stream",
     "text": [
      "list LKILCKeyType2(model='latest', user_id=514): no test items\n"
     ]
    },
    {
     "name": "stderr",
     "output_type": "stream",
     "text": [
      "list LKILCKeyType2(model='latest', user_id=514): no test items\n"
     ]
    },
    {
     "name": "stderr",
     "output_type": "stream",
     "text": [
      "/home/mde48/lenskit/lk-demo-experiment/.venv/lib/python3.13/site-packages/lenskit/metrics/bulk.py:127: FutureWarning: The previous implementation of stack is deprecated and will be removed in a future version of pandas. See the What's New notes for pandas 2.1.0 for details. Specify future_stack=True to adopt the new implementation and silence this warning.\n",
      "  df = scores.groupby(list(keys)).agg([\"mean\", \"median\", \"std\"]).stack(level=0)\n"
     ]
    },
    {
     "data": {
      "text/html": [
       "<div>\n",
       "<style scoped>\n",
       "    .dataframe tbody tr th:only-of-type {\n",
       "        vertical-align: middle;\n",
       "    }\n",
       "\n",
       "    .dataframe tbody tr th {\n",
       "        vertical-align: top;\n",
       "    }\n",
       "\n",
       "    .dataframe thead th {\n",
       "        text-align: right;\n",
       "    }\n",
       "</style>\n",
       "<table border=\"1\" class=\"dataframe\">\n",
       "  <thead>\n",
       "    <tr style=\"text-align: right;\">\n",
       "      <th></th>\n",
       "      <th></th>\n",
       "      <th>mean</th>\n",
       "      <th>median</th>\n",
       "      <th>std</th>\n",
       "    </tr>\n",
       "    <tr>\n",
       "      <th>model</th>\n",
       "      <th></th>\n",
       "      <th></th>\n",
       "      <th></th>\n",
       "      <th></th>\n",
       "    </tr>\n",
       "  </thead>\n",
       "  <tbody>\n",
       "    <tr>\n",
       "      <th rowspan=\"3\" valign=\"top\">latest</th>\n",
       "      <th>NDCG</th>\n",
       "      <td>0.0</td>\n",
       "      <td>0.0</td>\n",
       "      <td>0.0</td>\n",
       "    </tr>\n",
       "    <tr>\n",
       "      <th>RBP</th>\n",
       "      <td>0.0</td>\n",
       "      <td>0.0</td>\n",
       "      <td>0.0</td>\n",
       "    </tr>\n",
       "    <tr>\n",
       "      <th>RecipRank</th>\n",
       "      <td>0.0</td>\n",
       "      <td>0.0</td>\n",
       "      <td>0.0</td>\n",
       "    </tr>\n",
       "  </tbody>\n",
       "</table>\n",
       "</div>"
      ],
      "text/plain": [
       "                  mean  median  std\n",
       "model                              \n",
       "latest NDCG        0.0     0.0  0.0\n",
       "       RBP         0.0     0.0  0.0\n",
       "       RecipRank   0.0     0.0  0.0"
      ]
     },
     "execution_count": 13,
     "metadata": {},
     "output_type": "execute_result"
    }
   ],
   "source": [
    "ra = RunAnalysis()\n",
    "\n",
    "ra.add_metric(NDCG())\n",
    "ra.add_metric(RecipRank())\n",
    "ra.add_metric(RBP())\n",
    "\n",
    "rec_results = ra.compute(recs, test)\n",
    "rec_results.list_summary('model')"
   ]
  },
  {
   "cell_type": "markdown",
   "id": "5e27ecc2",
   "metadata": {
    "papermill": {
     "duration": 0.001508,
     "end_time": "2025-02-06T17:41:33.618447",
     "exception": false,
     "start_time": "2025-02-06T17:41:33.616939",
     "status": "completed"
    },
    "tags": []
   },
   "source": [
    "We can reshape the list metrics and plot them:"
   ]
  },
  {
   "cell_type": "code",
   "execution_count": 14,
   "id": "7d3abf05",
   "metadata": {
    "execution": {
     "iopub.execute_input": "2025-02-06T17:41:33.621767Z",
     "iopub.status.busy": "2025-02-06T17:41:33.621658Z",
     "iopub.status.idle": "2025-02-06T17:41:33.792445Z",
     "shell.execute_reply": "2025-02-06T17:41:33.792170Z"
    },
    "papermill": {
     "duration": 0.173134,
     "end_time": "2025-02-06T17:41:33.793082",
     "exception": false,
     "start_time": "2025-02-06T17:41:33.619948",
     "status": "completed"
    },
    "tags": []
   },
   "outputs": [
    {
     "data": {
      "image/png": "[encoded data removed]",
      "text/plain": [
       "<Figure size 1511.11x500 with 3 Axes>"
      ]
     },
     "metadata": {},
     "output_type": "display_data"
    }
   ],
   "source": [
    "metrics = rec_results.list_metrics()\n",
    "metrics = metrics.melt(var_name='metric', ignore_index=False).reset_index()\n",
    "sns.catplot(metrics, x='model', y='value', col='metric', kind='bar')\n",
    "plt.show()"
   ]
  },
  {
   "cell_type": "markdown",
   "id": "1bda46ae",
   "metadata": {
    "papermill": {
     "duration": 0.001683,
     "end_time": "2025-02-06T17:41:33.796636",
     "exception": false,
     "start_time": "2025-02-06T17:41:33.794953",
     "status": "completed"
    },
    "tags": []
   },
   "source": [
    "## Prediction RMSE\n",
    "\n",
    "We will also look at the prediction RMSE."
   ]
  },
  {
   "cell_type": "markdown",
   "id": "03fb5ec8",
   "metadata": {
    "tags": [
     "papermill-error-cell-tag"
    ]
   },
   "source": [
    "<span id=\"papermill-error-cell\" style=\"color:red; font-family:Helvetica Neue, Helvetica, Arial, sans-serif; font-size:2em;\">Execution using papermill encountered an exception here and stopped:</span>"
   ]
  },
  {
   "cell_type": "code",
   "execution_count": 15,
   "id": "14c6ec5d",
   "metadata": {
    "execution": {
     "iopub.execute_input": "2025-02-06T17:41:33.800254Z",
     "iopub.status.busy": "2025-02-06T17:41:33.800160Z",
     "iopub.status.idle": "2025-02-06T17:41:33.865499Z",
     "shell.execute_reply": "2025-02-06T17:41:33.865167Z"
    },
    "papermill": {
     "duration": 0.067795,
     "end_time": "2025-02-06T17:41:33.866022",
     "exception": true,
     "start_time": "2025-02-06T17:41:33.798227",
     "status": "failed"
    },
    "tags": []
   },
   "outputs": [
    {
     "name": "stderr",
     "output_type": "stream",
     "text": [
      "list LKILCKeyType2(model='latest', user_id=514): no test items\n"
     ]
    },
    {
     "name": "stderr",
     "output_type": "stream",
     "text": [
      "list LKILCKeyType2(model='latest', user_id=514): no test items\n"
     ]
    },
    {
     "name": "stderr",
     "output_type": "stream",
     "text": [
      "list LKILCKeyType2(model='latest', user_id=514): no test items\n"
     ]
    },
    {
     "name": "stderr",
     "output_type": "stream",
     "text": [
      "list LKILCKeyType2(model='latest', user_id=514): no test items\n"
     ]
    },
    {
     "ename": "ZeroDivisionError",
     "evalue": "float division by zero",
     "output_type": "error",
     "traceback": [
      "\u001b[0;31m---------------------------------------------------------------------------\u001b[0m",
      "\u001b[0;31mZeroDivisionError\u001b[0m                         Traceback (most recent call last)",
      "Cell \u001b[0;32mIn[15], line 5\u001b[0m\n\u001b[1;32m      1\u001b[0m pa \u001b[38;5;241m=\u001b[39m RunAnalysis()\n\u001b[1;32m      3\u001b[0m pa\u001b[38;5;241m.\u001b[39madd_metric(RMSE(missing_scores\u001b[38;5;241m=\u001b[39m\u001b[38;5;124m'\u001b[39m\u001b[38;5;124mignore\u001b[39m\u001b[38;5;124m'\u001b[39m, missing_truth\u001b[38;5;241m=\u001b[39m\u001b[38;5;124m'\u001b[39m\u001b[38;5;124mignore\u001b[39m\u001b[38;5;124m'\u001b[39m))\n\u001b[0;32m----> 5\u001b[0m pred_results \u001b[38;5;241m=\u001b[39m \u001b[43mpa\u001b[49m\u001b[38;5;241;43m.\u001b[39;49m\u001b[43mcompute\u001b[49m\u001b[43m(\u001b[49m\u001b[43mpreds\u001b[49m\u001b[43m,\u001b[49m\u001b[43m \u001b[49m\u001b[43mtest\u001b[49m\u001b[43m)\u001b[49m\n\u001b[1;32m      6\u001b[0m pred_results\u001b[38;5;241m.\u001b[39mlist_summary(\u001b[38;5;124m'\u001b[39m\u001b[38;5;124mmodel\u001b[39m\u001b[38;5;124m'\u001b[39m)\n",
      "File \u001b[0;32m~/lenskit/lk-demo-experiment/.venv/lib/python3.13/site-packages/lenskit/metrics/bulk.py:258\u001b[0m, in \u001b[0;36mRunAnalysis.compute\u001b[0;34m(self, outputs, test)\u001b[0m\n\u001b[1;32m    252\u001b[0m         pb\u001b[38;5;241m.\u001b[39mupdate()\n\u001b[1;32m    254\u001b[0m _log\u001b[38;5;241m.\u001b[39minfo(\u001b[38;5;124m\"\u001b[39m\u001b[38;5;124mcomputing \u001b[39m\u001b[38;5;132;01m%d\u001b[39;00m\u001b[38;5;124m global metrics for \u001b[39m\u001b[38;5;132;01m%d\u001b[39;00m\u001b[38;5;124m output lists\u001b[39m\u001b[38;5;124m\"\u001b[39m, \u001b[38;5;28mlen\u001b[39m(gms), n)\n\u001b[1;32m    255\u001b[0m global_results \u001b[38;5;241m=\u001b[39m pd\u001b[38;5;241m.\u001b[39mSeries(\n\u001b[1;32m    256\u001b[0m     {\n\u001b[1;32m    257\u001b[0m         m\u001b[38;5;241m.\u001b[39mlabel: (\n\u001b[0;32m--> 258\u001b[0m             \u001b[43mm\u001b[49m\u001b[38;5;241;43m.\u001b[39;49m\u001b[43mmetric\u001b[49m\u001b[38;5;241;43m.\u001b[39;49m\u001b[43mglobal_aggregate\u001b[49m\u001b[43m(\u001b[49m\u001b[43mlist_intermediates\u001b[49m\u001b[43m[\u001b[49m\u001b[43mm\u001b[49m\u001b[38;5;241;43m.\u001b[39;49m\u001b[43mlabel\u001b[49m\u001b[43m]\u001b[49m\u001b[43m)\u001b[49m\n\u001b[1;32m    259\u001b[0m             \u001b[38;5;28;01mif\u001b[39;00m m\u001b[38;5;241m.\u001b[39mis_decomposed\n\u001b[1;32m    260\u001b[0m             \u001b[38;5;28;01melse\u001b[39;00m m\u001b[38;5;241m.\u001b[39mmeasure_run(outputs, test)\n\u001b[1;32m    261\u001b[0m         )\n\u001b[1;32m    262\u001b[0m         \u001b[38;5;28;01mfor\u001b[39;00m m \u001b[38;5;129;01min\u001b[39;00m \u001b[38;5;28mself\u001b[39m\u001b[38;5;241m.\u001b[39mmetrics\n\u001b[1;32m    263\u001b[0m         \u001b[38;5;28;01mif\u001b[39;00m m\u001b[38;5;241m.\u001b[39mis_global \u001b[38;5;129;01mor\u001b[39;00m m\u001b[38;5;241m.\u001b[39mis_decomposed\n\u001b[1;32m    264\u001b[0m     },\n\u001b[1;32m    265\u001b[0m     dtype\u001b[38;5;241m=\u001b[39mnp\u001b[38;5;241m.\u001b[39mfloat64,\n\u001b[1;32m    266\u001b[0m )\n\u001b[1;32m    268\u001b[0m \u001b[38;5;28;01mreturn\u001b[39;00m RunAnalysisResult(\n\u001b[1;32m    269\u001b[0m     list_results,\n\u001b[1;32m    270\u001b[0m     global_results,\n\u001b[1;32m    271\u001b[0m     {m\u001b[38;5;241m.\u001b[39mlabel: m\u001b[38;5;241m.\u001b[39mdefault \u001b[38;5;28;01mfor\u001b[39;00m m \u001b[38;5;129;01min\u001b[39;00m \u001b[38;5;28mself\u001b[39m\u001b[38;5;241m.\u001b[39mmetrics \u001b[38;5;28;01mif\u001b[39;00m m\u001b[38;5;241m.\u001b[39mdefault \u001b[38;5;129;01mis\u001b[39;00m \u001b[38;5;129;01mnot\u001b[39;00m \u001b[38;5;28;01mNone\u001b[39;00m},\n\u001b[1;32m    272\u001b[0m )\n",
      "File \u001b[0;32m~/lenskit/lk-demo-experiment/.venv/lib/python3.13/site-packages/lenskit/metrics/predict.py:154\u001b[0m, in \u001b[0;36mRMSE.global_aggregate\u001b[0;34m(self, values)\u001b[0m\n\u001b[1;32m    151\u001b[0m     tot_sqerr \u001b[38;5;241m+\u001b[39m\u001b[38;5;241m=\u001b[39m t\n\u001b[1;32m    152\u001b[0m     tot_n \u001b[38;5;241m+\u001b[39m\u001b[38;5;241m=\u001b[39m n\n\u001b[0;32m--> 154\u001b[0m \u001b[38;5;28;01mreturn\u001b[39;00m np\u001b[38;5;241m.\u001b[39msqrt(\u001b[43mtot_sqerr\u001b[49m\u001b[43m \u001b[49m\u001b[38;5;241;43m/\u001b[39;49m\u001b[43m \u001b[49m\u001b[43mtot_n\u001b[49m)\n",
      "\u001b[0;31mZeroDivisionError\u001b[0m: float division by zero"
     ]
    }
   ],
   "source": [
    "pa = RunAnalysis()\n",
    "\n",
    "pa.add_metric(RMSE(missing_scores='ignore', missing_truth='ignore'))\n",
    "\n",
    "pred_results = pa.compute(preds, test)\n",
    "pred_results.list_summary('model')"
   ]
  },
  {
   "cell_type": "code",
   "execution_count": null,
   "id": "10794294",
   "metadata": {
    "papermill": {
     "duration": null,
     "end_time": null,
     "exception": null,
     "start_time": null,
     "status": "pending"
    },
    "tags": []
   },
   "outputs": [],
   "source": [
    "sns.catplot(pred_results.list_metrics().reset_index(), x='model', y='RMSE', kind='bar')\n",
    "plt.show()"
   ]
  },
  {
   "cell_type": "markdown",
   "id": "254438cc",
   "metadata": {
    "papermill": {
     "duration": null,
     "end_time": null,
     "exception": null,
     "start_time": null,
     "status": "pending"
    },
    "tags": []
   },
   "source": [
    "## Save Metrics\n",
    "\n",
    "We'll now save the metrics to a file."
   ]
  },
  {
   "cell_type": "code",
   "execution_count": null,
   "id": "968be017",
   "metadata": {
    "papermill": {
     "duration": null,
     "end_time": null,
     "exception": null,
     "start_time": null,
     "status": "pending"
    },
    "tags": []
   },
   "outputs": [],
   "source": [
    "rlsum = rec_results.list_summary('model')['mean'].unstack()\n",
    "rlsum"
   ]
  },
  {
   "cell_type": "code",
   "execution_count": null,
   "id": "c9df0568",
   "metadata": {
    "papermill": {
     "duration": null,
     "end_time": null,
     "exception": null,
     "start_time": null,
     "status": "pending"
    },
    "tags": []
   },
   "outputs": [],
   "source": [
    "rlsum.to_json(f'eval-metrics.{dataset}.json', orient='index')"
   ]
  }
 ],
 "metadata": {
  "jupytext": {
   "formats": "ipynb,md",
   "notebook_metadata_filter": "split_at_heading"
  },
  "kernelspec": {
   "display_name": "Python 3 (ipykernel)",
   "language": "python",
   "name": "python3"
  },
  "language_info": {
   "codemirror_mode": {
    "name": "ipython",
    "version": 3
   },
   "file_extension": ".py",
   "mimetype": "text/x-python",
   "name": "python",
   "nbconvert_exporter": "python",
   "pygments_lexer": "ipython3",
   "version": "3.13.1"
  },
  "papermill": {
   "default_parameters": {},
   "duration": 2.775978,
   "end_time": "2025-02-06T17:41:34.384092",
   "environment_variables": {},
   "exception": true,
   "input_path": "eval-report.ipynb",
   "output_path": "eval-report.ml-latest-small.ipynb",
   "parameters": {
    "dataset": "ml-latest-small"
   },
   "start_time": "2025-02-06T17:41:31.608114",
   "version": "2.6.0"
  },
  "split_at_heading": true
 },
 "nbformat": 4,
 "nbformat_minor": 5
}