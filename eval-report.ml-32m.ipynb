{
 "cells": [
  {
   "cell_type": "markdown",
   "id": "605fd33a",
   "metadata": {
    "papermill": {
     "duration": 0.010139,
     "end_time": "2025-02-06T19:32:10.717262",
     "exception": false,
     "start_time": "2025-02-06T19:32:10.707123",
     "status": "completed"
    },
    "tags": []
   },
   "source": [
    "# Evaluation Analysis for Recommender Output"
   ]
  },
  {
   "cell_type": "markdown",
   "id": "60583352",
   "metadata": {
    "papermill": {
     "duration": 0.001182,
     "end_time": "2025-02-06T19:32:10.719842",
     "exception": false,
     "start_time": "2025-02-06T19:32:10.718660",
     "status": "completed"
    },
    "tags": []
   },
   "source": [
    "In this section we will analyze and compare the generated recommendations and predictions from a predefined list of algorithms with the goal of assessing the performance of each algorithm with respect to a metric. In other words, we would rank the algorithms for each metric considered with respect to performance."
   ]
  },
  {
   "cell_type": "markdown",
   "id": "4bb6a3e7",
   "metadata": {
    "papermill": {
     "duration": 0.001138,
     "end_time": "2025-02-06T19:32:10.722221",
     "exception": false,
     "start_time": "2025-02-06T19:32:10.721083",
     "status": "completed"
    },
    "tags": []
   },
   "source": [
    "## Setup"
   ]
  },
  {
   "cell_type": "markdown",
   "id": "d10343e5",
   "metadata": {
    "papermill": {
     "duration": 0.00125,
     "end_time": "2025-02-06T19:32:10.724651",
     "exception": false,
     "start_time": "2025-02-06T19:32:10.723401",
     "status": "completed"
    },
    "tags": []
   },
   "source": [
    "Below are the list of packages required to successfully run the analysis. They are divided into partitions to signify their specific task.<br>\n",
    "We need the pathlib package for working with files and folders"
   ]
  },
  {
   "cell_type": "code",
   "execution_count": 1,
   "id": "e366c574",
   "metadata": {
    "execution": {
     "iopub.execute_input": "2025-02-06T19:32:10.727607Z",
     "iopub.status.busy": "2025-02-06T19:32:10.727514Z",
     "iopub.status.idle": "2025-02-06T19:32:10.729335Z",
     "shell.execute_reply": "2025-02-06T19:32:10.729172Z"
    },
    "papermill": {
     "duration": 0.004049,
     "end_time": "2025-02-06T19:32:10.729879",
     "exception": false,
     "start_time": "2025-02-06T19:32:10.725830",
     "status": "completed"
    },
    "tags": []
   },
   "outputs": [],
   "source": [
    "from pathlib import Path\n",
    "import json"
   ]
  },
  {
   "cell_type": "markdown",
   "id": "f5cd5e83",
   "metadata": {
    "papermill": {
     "duration": 0.001185,
     "end_time": "2025-02-06T19:32:10.732284",
     "exception": false,
     "start_time": "2025-02-06T19:32:10.731099",
     "status": "completed"
    },
    "tags": []
   },
   "source": [
    "We would use the pandas for analyzing and manipulating our data while seaborn and matplotlib are used for data visualization. statsmodels.graphics.gofplots and scipy.stats.shapiro are used for normality check. Scipy.stats.friedmanchisquare is a non-parametric test used to determine the statistical significance in metric results and the wilcoxon test is used for pairwise comparison of sample data."
   ]
  },
  {
   "cell_type": "code",
   "execution_count": 2,
   "id": "35c4aa1e",
   "metadata": {
    "execution": {
     "iopub.execute_input": "2025-02-06T19:32:10.735032Z",
     "iopub.status.busy": "2025-02-06T19:32:10.734963Z",
     "iopub.status.idle": "2025-02-06T19:32:11.226841Z",
     "shell.execute_reply": "2025-02-06T19:32:11.226344Z"
    },
    "lines_to_next_cell": 2,
    "papermill": {
     "duration": 0.494232,
     "end_time": "2025-02-06T19:32:11.227705",
     "exception": false,
     "start_time": "2025-02-06T19:32:10.733473",
     "status": "completed"
    },
    "tags": []
   },
   "outputs": [],
   "source": [
    "import pandas as pd\n",
    "import seaborn as sns\n",
    "import matplotlib.pyplot as plt\n",
    "from statsmodels.graphics.gofplots import qqplot\n",
    "from scipy.stats import shapiro\n",
    "from scipy.stats import friedmanchisquare, wilcoxon\n",
    "from itertools import combinations"
   ]
  },
  {
   "cell_type": "markdown",
   "id": "b77c1db0",
   "metadata": {
    "papermill": {
     "duration": 0.009256,
     "end_time": "2025-02-06T19:32:11.238436",
     "exception": false,
     "start_time": "2025-02-06T19:32:11.229180",
     "status": "completed"
    },
    "tags": []
   },
   "source": [
    "Import the LensKit metrics for analysis:"
   ]
  },
  {
   "cell_type": "code",
   "execution_count": 3,
   "id": "86454f14",
   "metadata": {
    "execution": {
     "iopub.execute_input": "2025-02-06T19:32:11.241469Z",
     "iopub.status.busy": "2025-02-06T19:32:11.241349Z",
     "iopub.status.idle": "2025-02-06T19:32:11.877757Z",
     "shell.execute_reply": "2025-02-06T19:32:11.877465Z"
    },
    "papermill": {
     "duration": 0.638957,
     "end_time": "2025-02-06T19:32:11.878651",
     "exception": false,
     "start_time": "2025-02-06T19:32:11.239694",
     "status": "completed"
    },
    "tags": []
   },
   "outputs": [],
   "source": [
    "from lenskit.data import Dataset, ItemListCollection, UserIDKey\n",
    "from lenskit.metrics import RunAnalysis, RMSE, NDCG, RecipRank, RBP"
   ]
  },
  {
   "cell_type": "code",
   "execution_count": 4,
   "id": "1b539163",
   "metadata": {
    "execution": {
     "iopub.execute_input": "2025-02-06T19:32:11.889899Z",
     "iopub.status.busy": "2025-02-06T19:32:11.889826Z",
     "iopub.status.idle": "2025-02-06T19:32:11.892415Z",
     "shell.execute_reply": "2025-02-06T19:32:11.892261Z"
    },
    "papermill": {
     "duration": 0.012634,
     "end_time": "2025-02-06T19:32:11.892935",
     "exception": false,
     "start_time": "2025-02-06T19:32:11.880301",
     "status": "completed"
    },
    "tags": []
   },
   "outputs": [],
   "source": [
    "from lkdemo.datasets import split_fraction"
   ]
  },
  {
   "cell_type": "markdown",
   "id": "db65cf61",
   "metadata": {
    "papermill": {
     "duration": 0.001209,
     "end_time": "2025-02-06T19:32:11.895415",
     "exception": false,
     "start_time": "2025-02-06T19:32:11.894206",
     "status": "completed"
    },
    "tags": []
   },
   "source": [
    "## Load Data\n",
    "\n",
    "The recommendations are in `runs`, and we will need to reassemble the test data from `test`."
   ]
  },
  {
   "cell_type": "code",
   "execution_count": 5,
   "id": "de8c0535",
   "metadata": {
    "execution": {
     "iopub.execute_input": "2025-02-06T19:32:11.898272Z",
     "iopub.status.busy": "2025-02-06T19:32:11.898199Z",
     "iopub.status.idle": "2025-02-06T19:32:11.899467Z",
     "shell.execute_reply": "2025-02-06T19:32:11.899331Z"
    },
    "papermill": {
     "duration": 0.003185,
     "end_time": "2025-02-06T19:32:11.899796",
     "exception": false,
     "start_time": "2025-02-06T19:32:11.896611",
     "status": "completed"
    },
    "tags": [
     "parameters"
    ]
   },
   "outputs": [],
   "source": [
    "dataset = \"ml-100k\""
   ]
  },
  {
   "cell_type": "code",
   "execution_count": 6,
   "id": "818e6e62",
   "metadata": {
    "execution": {
     "iopub.execute_input": "2025-02-06T19:32:11.902583Z",
     "iopub.status.busy": "2025-02-06T19:32:11.902515Z",
     "iopub.status.idle": "2025-02-06T19:32:11.903721Z",
     "shell.execute_reply": "2025-02-06T19:32:11.903585Z"
    },
    "papermill": {
     "duration": 0.003046,
     "end_time": "2025-02-06T19:32:11.904099",
     "exception": false,
     "start_time": "2025-02-06T19:32:11.901053",
     "status": "completed"
    },
    "tags": [
     "injected-parameters"
    ]
   },
   "outputs": [],
   "source": [
    "# Parameters\n",
    "dataset = \"ml-32m\"\n"
   ]
  },
  {
   "cell_type": "code",
   "execution_count": 7,
   "id": "f5ea83f3",
   "metadata": {
    "execution": {
     "iopub.execute_input": "2025-02-06T19:32:11.906844Z",
     "iopub.status.busy": "2025-02-06T19:32:11.906782Z",
     "iopub.status.idle": "2025-02-06T19:32:11.908104Z",
     "shell.execute_reply": "2025-02-06T19:32:11.907961Z"
    },
    "papermill": {
     "duration": 0.00312,
     "end_time": "2025-02-06T19:32:11.908465",
     "exception": false,
     "start_time": "2025-02-06T19:32:11.905345",
     "status": "completed"
    },
    "tags": []
   },
   "outputs": [],
   "source": [
    "output_root = Path(\"runs\")"
   ]
  },
  {
   "cell_type": "code",
   "execution_count": 8,
   "id": "327f8a13",
   "metadata": {
    "execution": {
     "iopub.execute_input": "2025-02-06T19:32:11.911350Z",
     "iopub.status.busy": "2025-02-06T19:32:11.911284Z",
     "iopub.status.idle": "2025-02-06T19:32:11.912753Z",
     "shell.execute_reply": "2025-02-06T19:32:11.912605Z"
    },
    "papermill": {
     "duration": 0.003297,
     "end_time": "2025-02-06T19:32:11.913037",
     "exception": false,
     "start_time": "2025-02-06T19:32:11.909740",
     "status": "completed"
    },
    "tags": []
   },
   "outputs": [],
   "source": [
    "dirs = [fld for fld in output_root.glob(f'{dataset}-*')]"
   ]
  },
  {
   "cell_type": "code",
   "execution_count": 9,
   "id": "a0d58d42",
   "metadata": {
    "execution": {
     "iopub.execute_input": "2025-02-06T19:32:11.916019Z",
     "iopub.status.busy": "2025-02-06T19:32:11.915952Z",
     "iopub.status.idle": "2025-02-06T19:32:17.980043Z",
     "shell.execute_reply": "2025-02-06T19:32:17.979730Z"
    },
    "papermill": {
     "duration": 6.066592,
     "end_time": "2025-02-06T19:32:17.980920",
     "exception": false,
     "start_time": "2025-02-06T19:32:11.914328",
     "status": "completed"
    },
    "tags": []
   },
   "outputs": [],
   "source": [
    "recs = ItemListCollection(['model', 'user_id'], index=False)\n",
    "for fld in dirs:\n",
    "    for file in fld.glob(\"recs-*\"):\n",
    "        rec = ItemListCollection.load_parquet(file)\n",
    "        recs.add_from(rec, model=fld.name.split(\"-\")[-1])"
   ]
  },
  {
   "cell_type": "code",
   "execution_count": 10,
   "id": "68039a12",
   "metadata": {
    "execution": {
     "iopub.execute_input": "2025-02-06T19:32:17.992023Z",
     "iopub.status.busy": "2025-02-06T19:32:17.991930Z",
     "iopub.status.idle": "2025-02-06T19:32:18.016240Z",
     "shell.execute_reply": "2025-02-06T19:32:18.015984Z"
    },
    "papermill": {
     "duration": 0.03432,
     "end_time": "2025-02-06T19:32:18.016843",
     "exception": false,
     "start_time": "2025-02-06T19:32:17.982523",
     "status": "completed"
    },
    "tags": []
   },
   "outputs": [
    {
     "data": {
      "text/plain": [
       "['ALS', 'Bias', 'IALS', 'IIE', 'III', 'Pop', 'UUE']"
      ]
     },
     "execution_count": 10,
     "metadata": {},
     "output_type": "execute_result"
    }
   ],
   "source": [
    "rec_algos = sorted(set(a for (a, _u) in recs.keys()))\n",
    "rec_algos"
   ]
  },
  {
   "cell_type": "code",
   "execution_count": 11,
   "id": "6ec8ce31",
   "metadata": {
    "execution": {
     "iopub.execute_input": "2025-02-06T19:32:18.020140Z",
     "iopub.status.busy": "2025-02-06T19:32:18.020069Z",
     "iopub.status.idle": "2025-02-06T19:32:22.869962Z",
     "shell.execute_reply": "2025-02-06T19:32:22.869663Z"
    },
    "papermill": {
     "duration": 4.852705,
     "end_time": "2025-02-06T19:32:22.871012",
     "exception": false,
     "start_time": "2025-02-06T19:32:18.018307",
     "status": "completed"
    },
    "tags": []
   },
   "outputs": [],
   "source": [
    "preds = ItemListCollection(['model', 'user_id'], index=False)\n",
    "for fld in dirs:\n",
    "    for file in fld.glob(\"pred-*\"):\n",
    "        pred = ItemListCollection.load_parquet(file)\n",
    "        preds.add_from(pred, model=fld.name.split(\"-\")[-1])"
   ]
  },
  {
   "cell_type": "markdown",
   "id": "d7984c97",
   "metadata": {
    "papermill": {
     "duration": 0.008825,
     "end_time": "2025-02-06T19:32:22.883016",
     "exception": false,
     "start_time": "2025-02-06T19:32:22.874191",
     "status": "completed"
    },
    "tags": []
   },
   "source": [
    "We need to load the test data so that we have the ground truths for computing accuracy"
   ]
  },
  {
   "cell_type": "code",
   "execution_count": 12,
   "id": "edea330e",
   "metadata": {
    "execution": {
     "iopub.execute_input": "2025-02-06T19:32:22.886835Z",
     "iopub.status.busy": "2025-02-06T19:32:22.886761Z",
     "iopub.status.idle": "2025-02-06T19:32:28.609458Z",
     "shell.execute_reply": "2025-02-06T19:32:28.609002Z"
    },
    "papermill": {
     "duration": 5.725621,
     "end_time": "2025-02-06T19:32:28.610293",
     "exception": false,
     "start_time": "2025-02-06T19:32:22.884672",
     "status": "completed"
    },
    "tags": []
   },
   "outputs": [],
   "source": [
    "data = Dataset.load(f\"data/{dataset}\")\n",
    "split = split_fraction(data, 0.2)\n",
    "test = split.test"
   ]
  },
  {
   "cell_type": "markdown",
   "id": "8d267c49",
   "metadata": {
    "papermill": {
     "duration": 0.008769,
     "end_time": "2025-02-06T19:32:28.620804",
     "exception": false,
     "start_time": "2025-02-06T19:32:28.612035",
     "status": "completed"
    },
    "tags": []
   },
   "source": [
    "## Top-N Metrics\n",
    "\n",
    "`RunListAnalysis` computes metrics for recommendation results and takes care of\n",
    "matching recommendations and ground truth."
   ]
  },
  {
   "cell_type": "code",
   "execution_count": 13,
   "id": "5c468e42",
   "metadata": {
    "execution": {
     "iopub.execute_input": "2025-02-06T19:32:28.624235Z",
     "iopub.status.busy": "2025-02-06T19:32:28.624134Z",
     "iopub.status.idle": "2025-02-06T19:32:52.729066Z",
     "shell.execute_reply": "2025-02-06T19:32:52.728867Z"
    },
    "papermill": {
     "duration": 24.107502,
     "end_time": "2025-02-06T19:32:52.729795",
     "exception": false,
     "start_time": "2025-02-06T19:32:28.622293",
     "status": "completed"
    },
    "tags": []
   },
   "outputs": [
    {
     "name": "stderr",
     "output_type": "stream",
     "text": [
      "/home/mde48/lenskit/lk-demo-experiment/.venv/lib/python3.13/site-packages/lenskit/metrics/bulk.py:127: FutureWarning: The previous implementation of stack is deprecated and will be removed in a future version of pandas. See the What's New notes for pandas 2.1.0 for details. Specify future_stack=True to adopt the new implementation and silence this warning.\n",
      "  df = scores.groupby(list(keys)).agg([\"mean\", \"median\", \"std\"]).stack(level=0)\n"
     ]
    },
    {
     "data": {
      "text/html": [
       "<div>\n",
       "<style scoped>\n",
       "    .dataframe tbody tr th:only-of-type {\n",
       "        vertical-align: middle;\n",
       "    }\n",
       "\n",
       "    .dataframe tbody tr th {\n",
       "        vertical-align: top;\n",
       "    }\n",
       "\n",
       "    .dataframe thead th {\n",
       "        text-align: right;\n",
       "    }\n",
       "</style>\n",
       "<table border=\"1\" class=\"dataframe\">\n",
       "  <thead>\n",
       "    <tr style=\"text-align: right;\">\n",
       "      <th></th>\n",
       "      <th></th>\n",
       "      <th>mean</th>\n",
       "      <th>median</th>\n",
       "      <th>std</th>\n",
       "    </tr>\n",
       "    <tr>\n",
       "      <th>model</th>\n",
       "      <th></th>\n",
       "      <th></th>\n",
       "      <th></th>\n",
       "      <th></th>\n",
       "    </tr>\n",
       "  </thead>\n",
       "  <tbody>\n",
       "    <tr>\n",
       "      <th rowspan=\"3\" valign=\"top\">ALS</th>\n",
       "      <th>NDCG</th>\n",
       "      <td>0.097212</td>\n",
       "      <td>8.021526e-02</td>\n",
       "      <td>0.083452</td>\n",
       "    </tr>\n",
       "    <tr>\n",
       "      <th>RBP</th>\n",
       "      <td>0.095338</td>\n",
       "      <td>1.250000e-01</td>\n",
       "      <td>0.150266</td>\n",
       "    </tr>\n",
       "    <tr>\n",
       "      <th>RecipRank</th>\n",
       "      <td>0.216380</td>\n",
       "      <td>3.333333e-01</td>\n",
       "      <td>0.200159</td>\n",
       "    </tr>\n",
       "    <tr>\n",
       "      <th rowspan=\"3\" valign=\"top\">Bias</th>\n",
       "      <th>NDCG</th>\n",
       "      <td>0.100578</td>\n",
       "      <td>8.330183e-02</td>\n",
       "      <td>0.082241</td>\n",
       "    </tr>\n",
       "    <tr>\n",
       "      <th>RBP</th>\n",
       "      <td>0.100452</td>\n",
       "      <td>1.250000e-01</td>\n",
       "      <td>0.155774</td>\n",
       "    </tr>\n",
       "    <tr>\n",
       "      <th>RecipRank</th>\n",
       "      <td>0.226740</td>\n",
       "      <td>3.333333e-01</td>\n",
       "      <td>0.203143</td>\n",
       "    </tr>\n",
       "    <tr>\n",
       "      <th rowspan=\"3\" valign=\"top\">IALS</th>\n",
       "      <th>NDCG</th>\n",
       "      <td>0.031835</td>\n",
       "      <td>1.091016e-02</td>\n",
       "      <td>0.067456</td>\n",
       "    </tr>\n",
       "    <tr>\n",
       "      <th>RBP</th>\n",
       "      <td>0.031696</td>\n",
       "      <td>2.273737e-13</td>\n",
       "      <td>0.134467</td>\n",
       "    </tr>\n",
       "    <tr>\n",
       "      <th>RecipRank</th>\n",
       "      <td>0.071240</td>\n",
       "      <td>2.380952e-02</td>\n",
       "      <td>0.187731</td>\n",
       "    </tr>\n",
       "    <tr>\n",
       "      <th rowspan=\"3\" valign=\"top\">IIE</th>\n",
       "      <th>NDCG</th>\n",
       "      <td>0.000423</td>\n",
       "      <td>0.000000e+00</td>\n",
       "      <td>0.006280</td>\n",
       "    </tr>\n",
       "    <tr>\n",
       "      <th>RBP</th>\n",
       "      <td>0.000420</td>\n",
       "      <td>0.000000e+00</td>\n",
       "      <td>0.014530</td>\n",
       "    </tr>\n",
       "    <tr>\n",
       "      <th>RecipRank</th>\n",
       "      <td>0.001220</td>\n",
       "      <td>0.000000e+00</td>\n",
       "      <td>0.023377</td>\n",
       "    </tr>\n",
       "    <tr>\n",
       "      <th rowspan=\"3\" valign=\"top\">III</th>\n",
       "      <th>NDCG</th>\n",
       "      <td>0.023521</td>\n",
       "      <td>0.000000e+00</td>\n",
       "      <td>0.070940</td>\n",
       "    </tr>\n",
       "    <tr>\n",
       "      <th>RBP</th>\n",
       "      <td>0.041154</td>\n",
       "      <td>0.000000e+00</td>\n",
       "      <td>0.161427</td>\n",
       "    </tr>\n",
       "    <tr>\n",
       "      <th>RecipRank</th>\n",
       "      <td>0.066214</td>\n",
       "      <td>0.000000e+00</td>\n",
       "      <td>0.219780</td>\n",
       "    </tr>\n",
       "    <tr>\n",
       "      <th rowspan=\"3\" valign=\"top\">Pop</th>\n",
       "      <th>NDCG</th>\n",
       "      <td>0.220562</td>\n",
       "      <td>2.034718e-01</td>\n",
       "      <td>0.149014</td>\n",
       "    </tr>\n",
       "    <tr>\n",
       "      <th>RBP</th>\n",
       "      <td>0.440105</td>\n",
       "      <td>4.074195e-01</td>\n",
       "      <td>0.368084</td>\n",
       "    </tr>\n",
       "    <tr>\n",
       "      <th>RecipRank</th>\n",
       "      <td>0.579689</td>\n",
       "      <td>5.000000e-01</td>\n",
       "      <td>0.391073</td>\n",
       "    </tr>\n",
       "    <tr>\n",
       "      <th rowspan=\"3\" valign=\"top\">UUE</th>\n",
       "      <th>NDCG</th>\n",
       "      <td>0.000021</td>\n",
       "      <td>0.000000e+00</td>\n",
       "      <td>0.000642</td>\n",
       "    </tr>\n",
       "    <tr>\n",
       "      <th>RBP</th>\n",
       "      <td>0.000043</td>\n",
       "      <td>0.000000e+00</td>\n",
       "      <td>0.004434</td>\n",
       "    </tr>\n",
       "    <tr>\n",
       "      <th>RecipRank</th>\n",
       "      <td>0.000200</td>\n",
       "      <td>0.000000e+00</td>\n",
       "      <td>0.009408</td>\n",
       "    </tr>\n",
       "  </tbody>\n",
       "</table>\n",
       "</div>"
      ],
      "text/plain": [
       "                     mean        median       std\n",
       "model                                            \n",
       "ALS   NDCG       0.097212  8.021526e-02  0.083452\n",
       "      RBP        0.095338  1.250000e-01  0.150266\n",
       "      RecipRank  0.216380  3.333333e-01  0.200159\n",
       "Bias  NDCG       0.100578  8.330183e-02  0.082241\n",
       "      RBP        0.100452  1.250000e-01  0.155774\n",
       "      RecipRank  0.226740  3.333333e-01  0.203143\n",
       "IALS  NDCG       0.031835  1.091016e-02  0.067456\n",
       "      RBP        0.031696  2.273737e-13  0.134467\n",
       "      RecipRank  0.071240  2.380952e-02  0.187731\n",
       "IIE   NDCG       0.000423  0.000000e+00  0.006280\n",
       "      RBP        0.000420  0.000000e+00  0.014530\n",
       "      RecipRank  0.001220  0.000000e+00  0.023377\n",
       "III   NDCG       0.023521  0.000000e+00  0.070940\n",
       "      RBP        0.041154  0.000000e+00  0.161427\n",
       "      RecipRank  0.066214  0.000000e+00  0.219780\n",
       "Pop   NDCG       0.220562  2.034718e-01  0.149014\n",
       "      RBP        0.440105  4.074195e-01  0.368084\n",
       "      RecipRank  0.579689  5.000000e-01  0.391073\n",
       "UUE   NDCG       0.000021  0.000000e+00  0.000642\n",
       "      RBP        0.000043  0.000000e+00  0.004434\n",
       "      RecipRank  0.000200  0.000000e+00  0.009408"
      ]
     },
     "execution_count": 13,
     "metadata": {},
     "output_type": "execute_result"
    }
   ],
   "source": [
    "ra = RunAnalysis()\n",
    "\n",
    "ra.add_metric(NDCG())\n",
    "ra.add_metric(RecipRank())\n",
    "ra.add_metric(RBP())\n",
    "\n",
    "rec_results = ra.compute(recs, test)\n",
    "rec_results.list_summary('model')"
   ]
  },
  {
   "cell_type": "markdown",
   "id": "2cda0b8b",
   "metadata": {
    "papermill": {
     "duration": 0.009058,
     "end_time": "2025-02-06T19:32:52.740583",
     "exception": false,
     "start_time": "2025-02-06T19:32:52.731525",
     "status": "completed"
    },
    "tags": []
   },
   "source": [
    "We can reshape the list metrics and plot them:"
   ]
  },
  {
   "cell_type": "code",
   "execution_count": 14,
   "id": "2501e294",
   "metadata": {
    "execution": {
     "iopub.execute_input": "2025-02-06T19:32:52.743952Z",
     "iopub.status.busy": "2025-02-06T19:32:52.743874Z",
     "iopub.status.idle": "2025-02-06T19:32:55.387747Z",
     "shell.execute_reply": "2025-02-06T19:32:55.387346Z"
    },
    "papermill": {
     "duration": 2.646334,
     "end_time": "2025-02-06T19:32:55.388346",
     "exception": false,
     "start_time": "2025-02-06T19:32:52.742012",
     "status": "completed"
    },
    "tags": []
   },
   "outputs": [
    {
     "data": {
      "image/png": "[encoded data removed]",
      "text/plain": [
       "<Figure size 1511.11x500 with 3 Axes>"
      ]
     },
     "metadata": {},
     "output_type": "display_data"
    }
   ],
   "source": [
    "metrics = rec_results.list_metrics()\n",
    "metrics = metrics.melt(var_name='metric', ignore_index=False).reset_index()\n",
    "sns.catplot(metrics, x='model', y='value', col='metric', kind='bar')\n",
    "plt.show()"
   ]
  },
  {
   "cell_type": "markdown",
   "id": "993824c4",
   "metadata": {
    "papermill": {
     "duration": 0.008955,
     "end_time": "2025-02-06T19:32:55.399022",
     "exception": false,
     "start_time": "2025-02-06T19:32:55.390067",
     "status": "completed"
    },
    "tags": []
   },
   "source": [
    "## Prediction RMSE\n",
    "\n",
    "We will also look at the prediction RMSE."
   ]
  },
  {
   "cell_type": "code",
   "execution_count": 15,
   "id": "03e3a07f",
   "metadata": {
    "execution": {
     "iopub.execute_input": "2025-02-06T19:32:55.402575Z",
     "iopub.status.busy": "2025-02-06T19:32:55.402487Z",
     "iopub.status.idle": "2025-02-06T19:33:19.238201Z",
     "shell.execute_reply": "2025-02-06T19:33:19.238027Z"
    },
    "papermill": {
     "duration": 23.838121,
     "end_time": "2025-02-06T19:33:19.238723",
     "exception": false,
     "start_time": "2025-02-06T19:32:55.400602",
     "status": "completed"
    },
    "tags": []
   },
   "outputs": [
    {
     "name": "stderr",
     "output_type": "stream",
     "text": [
      "/home/mde48/lenskit/lk-demo-experiment/.venv/lib/python3.13/site-packages/lenskit/metrics/bulk.py:127: FutureWarning: The previous implementation of stack is deprecated and will be removed in a future version of pandas. See the What's New notes for pandas 2.1.0 for details. Specify future_stack=True to adopt the new implementation and silence this warning.\n",
      "  df = scores.groupby(list(keys)).agg([\"mean\", \"median\", \"std\"]).stack(level=0)\n"
     ]
    },
    {
     "data": {
      "text/html": [
       "<div>\n",
       "<style scoped>\n",
       "    .dataframe tbody tr th:only-of-type {\n",
       "        vertical-align: middle;\n",
       "    }\n",
       "\n",
       "    .dataframe tbody tr th {\n",
       "        vertical-align: top;\n",
       "    }\n",
       "\n",
       "    .dataframe thead th {\n",
       "        text-align: right;\n",
       "    }\n",
       "</style>\n",
       "<table border=\"1\" class=\"dataframe\">\n",
       "  <thead>\n",
       "    <tr style=\"text-align: right;\">\n",
       "      <th></th>\n",
       "      <th></th>\n",
       "      <th>mean</th>\n",
       "      <th>median</th>\n",
       "      <th>std</th>\n",
       "    </tr>\n",
       "    <tr>\n",
       "      <th>model</th>\n",
       "      <th></th>\n",
       "      <th></th>\n",
       "      <th></th>\n",
       "      <th></th>\n",
       "    </tr>\n",
       "  </thead>\n",
       "  <tbody>\n",
       "    <tr>\n",
       "      <th>ALS</th>\n",
       "      <th>RMSE</th>\n",
       "      <td>0.906025</td>\n",
       "      <td>0.852996</td>\n",
       "      <td>0.331799</td>\n",
       "    </tr>\n",
       "    <tr>\n",
       "      <th>Bias</th>\n",
       "      <th>RMSE</th>\n",
       "      <td>0.911213</td>\n",
       "      <td>0.857496</td>\n",
       "      <td>0.331893</td>\n",
       "    </tr>\n",
       "    <tr>\n",
       "      <th>IIE</th>\n",
       "      <th>RMSE</th>\n",
       "      <td>0.911593</td>\n",
       "      <td>0.857751</td>\n",
       "      <td>0.333407</td>\n",
       "    </tr>\n",
       "    <tr>\n",
       "      <th>UUE</th>\n",
       "      <th>RMSE</th>\n",
       "      <td>0.913470</td>\n",
       "      <td>0.859174</td>\n",
       "      <td>0.332371</td>\n",
       "    </tr>\n",
       "  </tbody>\n",
       "</table>\n",
       "</div>"
      ],
      "text/plain": [
       "                mean    median       std\n",
       "model                                   \n",
       "ALS   RMSE  0.906025  0.852996  0.331799\n",
       "Bias  RMSE  0.911213  0.857496  0.331893\n",
       "IIE   RMSE  0.911593  0.857751  0.333407\n",
       "UUE   RMSE  0.913470  0.859174  0.332371"
      ]
     },
     "execution_count": 15,
     "metadata": {},
     "output_type": "execute_result"
    }
   ],
   "source": [
    "pa = RunAnalysis()\n",
    "\n",
    "pa.add_metric(RMSE(missing_scores='ignore', missing_truth='ignore'))\n",
    "\n",
    "pred_results = pa.compute(preds, test)\n",
    "pred_results.list_summary('model')"
   ]
  },
  {
   "cell_type": "code",
   "execution_count": 16,
   "id": "a637c5ce",
   "metadata": {
    "execution": {
     "iopub.execute_input": "2025-02-06T19:33:19.250106Z",
     "iopub.status.busy": "2025-02-06T19:33:19.250027Z",
     "iopub.status.idle": "2025-02-06T19:33:19.729833Z",
     "shell.execute_reply": "2025-02-06T19:33:19.729560Z"
    },
    "papermill": {
     "duration": 0.489758,
     "end_time": "2025-02-06T19:33:19.730347",
     "exception": false,
     "start_time": "2025-02-06T19:33:19.240589",
     "status": "completed"
    },
    "tags": []
   },
   "outputs": [
    {
     "data": {
      "image/png": "[encoded data removed]",
      "text/plain": [
       "<Figure size 511.111x500 with 1 Axes>"
      ]
     },
     "metadata": {},
     "output_type": "display_data"
    }
   ],
   "source": [
    "sns.catplot(pred_results.list_metrics().reset_index(), x='model', y='RMSE', kind='bar')\n",
    "plt.show()"
   ]
  },
  {
   "cell_type": "markdown",
   "id": "9a86aaec",
   "metadata": {
    "papermill": {
     "duration": 0.009138,
     "end_time": "2025-02-06T19:33:19.742738",
     "exception": false,
     "start_time": "2025-02-06T19:33:19.733600",
     "status": "completed"
    },
    "tags": []
   },
   "source": [
    "## Save Metrics\n",
    "\n",
    "We'll now save the metrics to a file."
   ]
  },
  {
   "cell_type": "code",
   "execution_count": 17,
   "id": "7cc6c33e",
   "metadata": {
    "execution": {
     "iopub.execute_input": "2025-02-06T19:33:19.746529Z",
     "iopub.status.busy": "2025-02-06T19:33:19.746440Z",
     "iopub.status.idle": "2025-02-06T19:33:19.771998Z",
     "shell.execute_reply": "2025-02-06T19:33:19.771738Z"
    },
    "papermill": {
     "duration": 0.028173,
     "end_time": "2025-02-06T19:33:19.772541",
     "exception": false,
     "start_time": "2025-02-06T19:33:19.744368",
     "status": "completed"
    },
    "tags": []
   },
   "outputs": [
    {
     "name": "stderr",
     "output_type": "stream",
     "text": [
      "/home/mde48/lenskit/lk-demo-experiment/.venv/lib/python3.13/site-packages/lenskit/metrics/bulk.py:127: FutureWarning: The previous implementation of stack is deprecated and will be removed in a future version of pandas. See the What's New notes for pandas 2.1.0 for details. Specify future_stack=True to adopt the new implementation and silence this warning.\n",
      "  df = scores.groupby(list(keys)).agg([\"mean\", \"median\", \"std\"]).stack(level=0)\n"
     ]
    },
    {
     "data": {
      "text/html": [
       "<div>\n",
       "<style scoped>\n",
       "    .dataframe tbody tr th:only-of-type {\n",
       "        vertical-align: middle;\n",
       "    }\n",
       "\n",
       "    .dataframe tbody tr th {\n",
       "        vertical-align: top;\n",
       "    }\n",
       "\n",
       "    .dataframe thead th {\n",
       "        text-align: right;\n",
       "    }\n",
       "</style>\n",
       "<table border=\"1\" class=\"dataframe\">\n",
       "  <thead>\n",
       "    <tr style=\"text-align: right;\">\n",
       "      <th></th>\n",
       "      <th>NDCG</th>\n",
       "      <th>RBP</th>\n",
       "      <th>RecipRank</th>\n",
       "    </tr>\n",
       "    <tr>\n",
       "      <th>model</th>\n",
       "      <th></th>\n",
       "      <th></th>\n",
       "      <th></th>\n",
       "    </tr>\n",
       "  </thead>\n",
       "  <tbody>\n",
       "    <tr>\n",
       "      <th>ALS</th>\n",
       "      <td>0.097212</td>\n",
       "      <td>0.095338</td>\n",
       "      <td>0.216380</td>\n",
       "    </tr>\n",
       "    <tr>\n",
       "      <th>Bias</th>\n",
       "      <td>0.100578</td>\n",
       "      <td>0.100452</td>\n",
       "      <td>0.226740</td>\n",
       "    </tr>\n",
       "    <tr>\n",
       "      <th>IALS</th>\n",
       "      <td>0.031835</td>\n",
       "      <td>0.031696</td>\n",
       "      <td>0.071240</td>\n",
       "    </tr>\n",
       "    <tr>\n",
       "      <th>IIE</th>\n",
       "      <td>0.000423</td>\n",
       "      <td>0.000420</td>\n",
       "      <td>0.001220</td>\n",
       "    </tr>\n",
       "    <tr>\n",
       "      <th>III</th>\n",
       "      <td>0.023521</td>\n",
       "      <td>0.041154</td>\n",
       "      <td>0.066214</td>\n",
       "    </tr>\n",
       "    <tr>\n",
       "      <th>Pop</th>\n",
       "      <td>0.220562</td>\n",
       "      <td>0.440105</td>\n",
       "      <td>0.579689</td>\n",
       "    </tr>\n",
       "    <tr>\n",
       "      <th>UUE</th>\n",
       "      <td>0.000021</td>\n",
       "      <td>0.000043</td>\n",
       "      <td>0.000200</td>\n",
       "    </tr>\n",
       "  </tbody>\n",
       "</table>\n",
       "</div>"
      ],
      "text/plain": [
       "           NDCG       RBP  RecipRank\n",
       "model                               \n",
       "ALS    0.097212  0.095338   0.216380\n",
       "Bias   0.100578  0.100452   0.226740\n",
       "IALS   0.031835  0.031696   0.071240\n",
       "IIE    0.000423  0.000420   0.001220\n",
       "III    0.023521  0.041154   0.066214\n",
       "Pop    0.220562  0.440105   0.579689\n",
       "UUE    0.000021  0.000043   0.000200"
      ]
     },
     "execution_count": 17,
     "metadata": {},
     "output_type": "execute_result"
    }
   ],
   "source": [
    "rlsum = rec_results.list_summary('model')['mean'].unstack()\n",
    "rlsum"
   ]
  },
  {
   "cell_type": "code",
   "execution_count": 18,
   "id": "1cfaa06d",
   "metadata": {
    "execution": {
     "iopub.execute_input": "2025-02-06T19:33:19.776607Z",
     "iopub.status.busy": "2025-02-06T19:33:19.776532Z",
     "iopub.status.idle": "2025-02-06T19:33:19.778268Z",
     "shell.execute_reply": "2025-02-06T19:33:19.778116Z"
    },
    "papermill": {
     "duration": 0.004296,
     "end_time": "2025-02-06T19:33:19.778721",
     "exception": false,
     "start_time": "2025-02-06T19:33:19.774425",
     "status": "completed"
    },
    "tags": []
   },
   "outputs": [],
   "source": [
    "rlsum.to_json(f'eval-metrics.{dataset}.json', orient='index')"
   ]
  }
 ],
 "metadata": {
  "jupytext": {
   "formats": "ipynb,md",
   "notebook_metadata_filter": "split_at_heading"
  },
  "kernelspec": {
   "display_name": "Python 3 (ipykernel)",
   "language": "python",
   "name": "python3"
  },
  "language_info": {
   "codemirror_mode": {
    "name": "ipython",
    "version": 3
   },
   "file_extension": ".py",
   "mimetype": "text/x-python",
   "name": "python",
   "nbconvert_exporter": "python",
   "pygments_lexer": "ipython3",
   "version": "3.13.1"
  },
  "papermill": {
   "default_parameters": {},
   "duration": 71.650833,
   "end_time": "2025-02-06T19:33:21.599104",
   "environment_variables": {},
   "exception": null,
   "input_path": "eval-report.ipynb",
   "output_path": "eval-report.ml-32m.ipynb",
   "parameters": {
    "dataset": "ml-32m"
   },
   "start_time": "2025-02-06T19:32:09.948271",
   "version": "2.6.0"
  },
  "split_at_heading": true
 },
 "nbformat": 4,
 "nbformat_minor": 5
}