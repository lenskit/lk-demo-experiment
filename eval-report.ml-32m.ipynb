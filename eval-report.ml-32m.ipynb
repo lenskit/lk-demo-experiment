{
 "cells": [
  {
   "cell_type": "markdown",
   "id": "ca2a68d7",
   "metadata": {
    "papermill": {
     "duration": 0.010574,
     "end_time": "2025-02-22T22:27:46.640468",
     "exception": false,
     "start_time": "2025-02-22T22:27:46.629894",
     "status": "completed"
    },
    "tags": []
   },
   "source": [
    "# Evaluation Analysis for Recommender Output"
   ]
  },
  {
   "cell_type": "markdown",
   "id": "b63eda0c",
   "metadata": {
    "papermill": {
     "duration": 0.001184,
     "end_time": "2025-02-22T22:27:46.643018",
     "exception": false,
     "start_time": "2025-02-22T22:27:46.641834",
     "status": "completed"
    },
    "tags": []
   },
   "source": [
    "In this section we will analyze and compare the generated recommendations and predictions from a predefined list of algorithms with the goal of assessing the performance of each algorithm with respect to a metric. In other words, we would rank the algorithms for each metric considered with respect to performance."
   ]
  },
  {
   "cell_type": "markdown",
   "id": "36fb01ca",
   "metadata": {
    "papermill": {
     "duration": 0.001148,
     "end_time": "2025-02-22T22:27:46.645331",
     "exception": false,
     "start_time": "2025-02-22T22:27:46.644183",
     "status": "completed"
    },
    "tags": []
   },
   "source": [
    "## Setup"
   ]
  },
  {
   "cell_type": "markdown",
   "id": "21858d8a",
   "metadata": {
    "papermill": {
     "duration": 0.001513,
     "end_time": "2025-02-22T22:27:46.648206",
     "exception": false,
     "start_time": "2025-02-22T22:27:46.646693",
     "status": "completed"
    },
    "tags": []
   },
   "source": [
    "Below are the list of packages required to successfully run the analysis. They are divided into partitions to signify their specific task.<br>\n",
    "We need the pathlib package for working with files and folders"
   ]
  },
  {
   "cell_type": "code",
   "execution_count": 1,
   "id": "002c1a8e",
   "metadata": {
    "execution": {
     "iopub.execute_input": "2025-02-22T22:27:46.651933Z",
     "iopub.status.busy": "2025-02-22T22:27:46.651291Z",
     "iopub.status.idle": "2025-02-22T22:27:46.653576Z",
     "shell.execute_reply": "2025-02-22T22:27:46.653333Z"
    },
    "papermill": {
     "duration": 0.004911,
     "end_time": "2025-02-22T22:27:46.654309",
     "exception": false,
     "start_time": "2025-02-22T22:27:46.649398",
     "status": "completed"
    },
    "tags": []
   },
   "outputs": [],
   "source": [
    "from pathlib import Path\n",
    "import json"
   ]
  },
  {
   "cell_type": "markdown",
   "id": "d97e0d05",
   "metadata": {
    "papermill": {
     "duration": 0.001212,
     "end_time": "2025-02-22T22:27:46.656759",
     "exception": false,
     "start_time": "2025-02-22T22:27:46.655547",
     "status": "completed"
    },
    "tags": []
   },
   "source": [
    "Load libraries for analysis and visualization:"
   ]
  },
  {
   "cell_type": "code",
   "execution_count": 2,
   "id": "5dfaeefe",
   "metadata": {
    "execution": {
     "iopub.execute_input": "2025-02-22T22:27:46.659780Z",
     "iopub.status.busy": "2025-02-22T22:27:46.659679Z",
     "iopub.status.idle": "2025-02-22T22:27:47.134948Z",
     "shell.execute_reply": "2025-02-22T22:27:47.134542Z"
    },
    "lines_to_next_cell": 2,
    "papermill": {
     "duration": 0.477782,
     "end_time": "2025-02-22T22:27:47.135777",
     "exception": false,
     "start_time": "2025-02-22T22:27:46.657995",
     "status": "completed"
    },
    "tags": []
   },
   "outputs": [],
   "source": [
    "import seaborn as sns\n",
    "import matplotlib.pyplot as plt"
   ]
  },
  {
   "cell_type": "markdown",
   "id": "254c8bfe",
   "metadata": {
    "papermill": {
     "duration": 0.008686,
     "end_time": "2025-02-22T22:27:47.146009",
     "exception": false,
     "start_time": "2025-02-22T22:27:47.137323",
     "status": "completed"
    },
    "tags": []
   },
   "source": [
    "Import the LensKit metrics for analysis:"
   ]
  },
  {
   "cell_type": "code",
   "execution_count": 3,
   "id": "a1155fbc",
   "metadata": {
    "execution": {
     "iopub.execute_input": "2025-02-22T22:27:47.149180Z",
     "iopub.status.busy": "2025-02-22T22:27:47.149059Z",
     "iopub.status.idle": "2025-02-22T22:27:47.774779Z",
     "shell.execute_reply": "2025-02-22T22:27:47.774355Z"
    },
    "papermill": {
     "duration": 0.628331,
     "end_time": "2025-02-22T22:27:47.775609",
     "exception": false,
     "start_time": "2025-02-22T22:27:47.147278",
     "status": "completed"
    },
    "tags": []
   },
   "outputs": [],
   "source": [
    "from lenskit.data import Dataset, ItemListCollection\n",
    "from lenskit.metrics import RunAnalysis, RMSE, NDCG, RecipRank, RBP"
   ]
  },
  {
   "cell_type": "code",
   "execution_count": 4,
   "id": "43f2f0a9",
   "metadata": {
    "execution": {
     "iopub.execute_input": "2025-02-22T22:27:47.787001Z",
     "iopub.status.busy": "2025-02-22T22:27:47.786909Z",
     "iopub.status.idle": "2025-02-22T22:27:47.790030Z",
     "shell.execute_reply": "2025-02-22T22:27:47.789692Z"
    },
    "papermill": {
     "duration": 0.01338,
     "end_time": "2025-02-22T22:27:47.790579",
     "exception": false,
     "start_time": "2025-02-22T22:27:47.777199",
     "status": "completed"
    },
    "tags": []
   },
   "outputs": [],
   "source": [
    "from lkdemo.datasets import split_fraction"
   ]
  },
  {
   "cell_type": "markdown",
   "id": "35c34961",
   "metadata": {
    "papermill": {
     "duration": 0.001219,
     "end_time": "2025-02-22T22:27:47.793112",
     "exception": false,
     "start_time": "2025-02-22T22:27:47.791893",
     "status": "completed"
    },
    "tags": []
   },
   "source": [
    "## Load Data\n",
    "\n",
    "The recommendations are in `runs`, and we will need to reassemble the test data from `test`."
   ]
  },
  {
   "cell_type": "code",
   "execution_count": 5,
   "id": "3da98af4",
   "metadata": {
    "execution": {
     "iopub.execute_input": "2025-02-22T22:27:47.796066Z",
     "iopub.status.busy": "2025-02-22T22:27:47.795982Z",
     "iopub.status.idle": "2025-02-22T22:27:47.797841Z",
     "shell.execute_reply": "2025-02-22T22:27:47.797626Z"
    },
    "papermill": {
     "duration": 0.003887,
     "end_time": "2025-02-22T22:27:47.798268",
     "exception": false,
     "start_time": "2025-02-22T22:27:47.794381",
     "status": "completed"
    },
    "tags": [
     "parameters"
    ]
   },
   "outputs": [],
   "source": [
    "dataset = \"ml-100k\""
   ]
  },
  {
   "cell_type": "code",
   "execution_count": 6,
   "id": "11e10b6a",
   "metadata": {
    "execution": {
     "iopub.execute_input": "2025-02-22T22:27:47.801265Z",
     "iopub.status.busy": "2025-02-22T22:27:47.801195Z",
     "iopub.status.idle": "2025-02-22T22:27:47.802670Z",
     "shell.execute_reply": "2025-02-22T22:27:47.802447Z"
    },
    "papermill": {
     "duration": 0.003716,
     "end_time": "2025-02-22T22:27:47.803249",
     "exception": false,
     "start_time": "2025-02-22T22:27:47.799533",
     "status": "completed"
    },
    "tags": [
     "injected-parameters"
    ]
   },
   "outputs": [],
   "source": [
    "# Parameters\n",
    "dataset = \"ml-32m\"\n"
   ]
  },
  {
   "cell_type": "code",
   "execution_count": 7,
   "id": "c9bbbdee",
   "metadata": {
    "execution": {
     "iopub.execute_input": "2025-02-22T22:27:47.806387Z",
     "iopub.status.busy": "2025-02-22T22:27:47.806322Z",
     "iopub.status.idle": "2025-02-22T22:27:47.807830Z",
     "shell.execute_reply": "2025-02-22T22:27:47.807603Z"
    },
    "papermill": {
     "duration": 0.003803,
     "end_time": "2025-02-22T22:27:47.808350",
     "exception": false,
     "start_time": "2025-02-22T22:27:47.804547",
     "status": "completed"
    },
    "tags": []
   },
   "outputs": [],
   "source": [
    "output_root = Path(\"runs\")"
   ]
  },
  {
   "cell_type": "code",
   "execution_count": 8,
   "id": "8e1bd83e",
   "metadata": {
    "execution": {
     "iopub.execute_input": "2025-02-22T22:27:47.811330Z",
     "iopub.status.busy": "2025-02-22T22:27:47.811260Z",
     "iopub.status.idle": "2025-02-22T22:27:47.812976Z",
     "shell.execute_reply": "2025-02-22T22:27:47.812745Z"
    },
    "papermill": {
     "duration": 0.003778,
     "end_time": "2025-02-22T22:27:47.813439",
     "exception": false,
     "start_time": "2025-02-22T22:27:47.809661",
     "status": "completed"
    },
    "tags": []
   },
   "outputs": [],
   "source": [
    "dirs = [fld for fld in output_root.glob(f'{dataset}-*')]"
   ]
  },
  {
   "cell_type": "code",
   "execution_count": 9,
   "id": "0b5febd9",
   "metadata": {
    "execution": {
     "iopub.execute_input": "2025-02-22T22:27:47.816459Z",
     "iopub.status.busy": "2025-02-22T22:27:47.816390Z",
     "iopub.status.idle": "2025-02-22T22:27:53.787483Z",
     "shell.execute_reply": "2025-02-22T22:27:53.786896Z"
    },
    "papermill": {
     "duration": 5.973631,
     "end_time": "2025-02-22T22:27:53.788361",
     "exception": false,
     "start_time": "2025-02-22T22:27:47.814730",
     "status": "completed"
    },
    "tags": []
   },
   "outputs": [],
   "source": [
    "recs = ItemListCollection(['model', 'user_id'], index=False)\n",
    "for fld in dirs:\n",
    "    for file in fld.glob(\"recs-*\"):\n",
    "        rec = ItemListCollection.load_parquet(file)\n",
    "        recs.add_from(rec, model=fld.name.split(\"-\")[-1])"
   ]
  },
  {
   "cell_type": "code",
   "execution_count": 10,
   "id": "4b06a7b5",
   "metadata": {
    "execution": {
     "iopub.execute_input": "2025-02-22T22:27:53.799534Z",
     "iopub.status.busy": "2025-02-22T22:27:53.799452Z",
     "iopub.status.idle": "2025-02-22T22:27:53.818186Z",
     "shell.execute_reply": "2025-02-22T22:27:53.817932Z"
    },
    "papermill": {
     "duration": 0.028777,
     "end_time": "2025-02-22T22:27:53.818800",
     "exception": false,
     "start_time": "2025-02-22T22:27:53.790023",
     "status": "completed"
    },
    "tags": []
   },
   "outputs": [
    {
     "data": {
      "text/plain": [
       "['ALS', 'Bias', 'IALS', 'IIE', 'III', 'Pop', 'UUE']"
      ]
     },
     "execution_count": 10,
     "metadata": {},
     "output_type": "execute_result"
    }
   ],
   "source": [
    "rec_algos = sorted(set(a for (a, _u) in recs.keys()))\n",
    "rec_algos"
   ]
  },
  {
   "cell_type": "code",
   "execution_count": 11,
   "id": "0fe9ffda",
   "metadata": {
    "execution": {
     "iopub.execute_input": "2025-02-22T22:27:53.822321Z",
     "iopub.status.busy": "2025-02-22T22:27:53.822250Z",
     "iopub.status.idle": "2025-02-22T22:27:58.665127Z",
     "shell.execute_reply": "2025-02-22T22:27:58.664488Z"
    },
    "papermill": {
     "duration": 4.845542,
     "end_time": "2025-02-22T22:27:58.666026",
     "exception": false,
     "start_time": "2025-02-22T22:27:53.820484",
     "status": "completed"
    },
    "tags": []
   },
   "outputs": [],
   "source": [
    "preds = ItemListCollection(['model', 'user_id'], index=False)\n",
    "for fld in dirs:\n",
    "    for file in fld.glob(\"pred-*\"):\n",
    "        pred = ItemListCollection.load_parquet(file)\n",
    "        preds.add_from(pred, model=fld.name.split(\"-\")[-1])"
   ]
  },
  {
   "cell_type": "markdown",
   "id": "afae618c",
   "metadata": {
    "papermill": {
     "duration": 0.009021,
     "end_time": "2025-02-22T22:27:58.676732",
     "exception": false,
     "start_time": "2025-02-22T22:27:58.667711",
     "status": "completed"
    },
    "tags": []
   },
   "source": [
    "We need to load the test data so that we have the ground truths for computing accuracy."
   ]
  },
  {
   "cell_type": "code",
   "execution_count": 12,
   "id": "01ecdf7b",
   "metadata": {
    "execution": {
     "iopub.execute_input": "2025-02-22T22:27:58.680141Z",
     "iopub.status.busy": "2025-02-22T22:27:58.680060Z",
     "iopub.status.idle": "2025-02-22T22:28:04.451866Z",
     "shell.execute_reply": "2025-02-22T22:28:04.451271Z"
    },
    "papermill": {
     "duration": 5.774535,
     "end_time": "2025-02-22T22:28:04.452794",
     "exception": false,
     "start_time": "2025-02-22T22:27:58.678259",
     "status": "completed"
    },
    "tags": []
   },
   "outputs": [],
   "source": [
    "data = Dataset.load(f\"data/{dataset}\")\n",
    "split = split_fraction(data, 0.2)\n",
    "test = split.test"
   ]
  },
  {
   "cell_type": "markdown",
   "id": "291700d9",
   "metadata": {
    "papermill": {
     "duration": 0.009002,
     "end_time": "2025-02-22T22:28:04.463513",
     "exception": false,
     "start_time": "2025-02-22T22:28:04.454511",
     "status": "completed"
    },
    "tags": []
   },
   "source": [
    "And identify users in the training set, so we only report metrics over them."
   ]
  },
  {
   "cell_type": "code",
   "execution_count": 13,
   "id": "acfdbd1c",
   "metadata": {
    "execution": {
     "iopub.execute_input": "2025-02-22T22:28:04.466877Z",
     "iopub.status.busy": "2025-02-22T22:28:04.466795Z",
     "iopub.status.idle": "2025-02-22T22:28:06.805395Z",
     "shell.execute_reply": "2025-02-22T22:28:06.804963Z"
    },
    "papermill": {
     "duration": 2.341327,
     "end_time": "2025-02-22T22:28:06.806276",
     "exception": false,
     "start_time": "2025-02-22T22:28:04.464949",
     "status": "completed"
    },
    "tags": []
   },
   "outputs": [],
   "source": [
    "train_users = split.train.user_stats()\n",
    "train_users = train_users[train_users['rating_count'] > 0]"
   ]
  },
  {
   "cell_type": "markdown",
   "id": "bb7059cd",
   "metadata": {
    "papermill": {
     "duration": 0.001482,
     "end_time": "2025-02-22T22:28:06.809502",
     "exception": false,
     "start_time": "2025-02-22T22:28:06.808020",
     "status": "completed"
    },
    "tags": []
   },
   "source": [
    "## Top-N Metrics\n",
    "\n",
    "`RunListAnalysis` computes metrics for recommendation results and takes care of\n",
    "matching recommendations and ground truth."
   ]
  },
  {
   "cell_type": "code",
   "execution_count": 14,
   "id": "60a7550d",
   "metadata": {
    "execution": {
     "iopub.execute_input": "2025-02-22T22:28:06.813269Z",
     "iopub.status.busy": "2025-02-22T22:28:06.812936Z",
     "iopub.status.idle": "2025-02-22T22:28:31.619074Z",
     "shell.execute_reply": "2025-02-22T22:28:31.618892Z"
    },
    "papermill": {
     "duration": 24.808749,
     "end_time": "2025-02-22T22:28:31.619660",
     "exception": false,
     "start_time": "2025-02-22T22:28:06.810911",
     "status": "completed"
    },
    "tags": []
   },
   "outputs": [
    {
     "name": "stderr",
     "output_type": "stream",
     "text": [
      "/home/mde48/lenskit/lk-demo-experiment/.venv/lib/python3.13/site-packages/lenskit/metrics/bulk.py:127: FutureWarning: The previous implementation of stack is deprecated and will be removed in a future version of pandas. See the What's New notes for pandas 2.1.0 for details. Specify future_stack=True to adopt the new implementation and silence this warning.\n",
      "  df = scores.groupby(list(keys)).agg([\"mean\", \"median\", \"std\"]).stack(level=0)\n"
     ]
    },
    {
     "data": {
      "text/html": [
       "<div>\n",
       "<style scoped>\n",
       "    .dataframe tbody tr th:only-of-type {\n",
       "        vertical-align: middle;\n",
       "    }\n",
       "\n",
       "    .dataframe tbody tr th {\n",
       "        vertical-align: top;\n",
       "    }\n",
       "\n",
       "    .dataframe thead th {\n",
       "        text-align: right;\n",
       "    }\n",
       "</style>\n",
       "<table border=\"1\" class=\"dataframe\">\n",
       "  <thead>\n",
       "    <tr style=\"text-align: right;\">\n",
       "      <th></th>\n",
       "      <th></th>\n",
       "      <th>mean</th>\n",
       "      <th>median</th>\n",
       "      <th>std</th>\n",
       "    </tr>\n",
       "    <tr>\n",
       "      <th>model</th>\n",
       "      <th></th>\n",
       "      <th></th>\n",
       "      <th></th>\n",
       "      <th></th>\n",
       "    </tr>\n",
       "  </thead>\n",
       "  <tbody>\n",
       "    <tr>\n",
       "      <th rowspan=\"3\" valign=\"top\">ALS</th>\n",
       "      <th>NDCG</th>\n",
       "      <td>0.097212</td>\n",
       "      <td>0.080215</td>\n",
       "      <td>0.083452</td>\n",
       "    </tr>\n",
       "    <tr>\n",
       "      <th>RBP</th>\n",
       "      <td>0.125089</td>\n",
       "      <td>0.108973</td>\n",
       "      <td>0.132925</td>\n",
       "    </tr>\n",
       "    <tr>\n",
       "      <th>RecipRank</th>\n",
       "      <td>0.216380</td>\n",
       "      <td>0.333333</td>\n",
       "      <td>0.200159</td>\n",
       "    </tr>\n",
       "    <tr>\n",
       "      <th rowspan=\"3\" valign=\"top\">Bias</th>\n",
       "      <th>NDCG</th>\n",
       "      <td>0.100578</td>\n",
       "      <td>0.083302</td>\n",
       "      <td>0.082241</td>\n",
       "    </tr>\n",
       "    <tr>\n",
       "      <th>RBP</th>\n",
       "      <td>0.129872</td>\n",
       "      <td>0.110704</td>\n",
       "      <td>0.132947</td>\n",
       "    </tr>\n",
       "    <tr>\n",
       "      <th>RecipRank</th>\n",
       "      <td>0.226740</td>\n",
       "      <td>0.333333</td>\n",
       "      <td>0.203143</td>\n",
       "    </tr>\n",
       "    <tr>\n",
       "      <th rowspan=\"3\" valign=\"top\">IALS</th>\n",
       "      <th>NDCG</th>\n",
       "      <td>0.031876</td>\n",
       "      <td>0.010950</td>\n",
       "      <td>0.066978</td>\n",
       "    </tr>\n",
       "    <tr>\n",
       "      <th>RBP</th>\n",
       "      <td>0.031333</td>\n",
       "      <td>0.000192</td>\n",
       "      <td>0.107891</td>\n",
       "    </tr>\n",
       "    <tr>\n",
       "      <th>RecipRank</th>\n",
       "      <td>0.072105</td>\n",
       "      <td>0.023810</td>\n",
       "      <td>0.190339</td>\n",
       "    </tr>\n",
       "    <tr>\n",
       "      <th rowspan=\"3\" valign=\"top\">IIE</th>\n",
       "      <th>NDCG</th>\n",
       "      <td>0.000423</td>\n",
       "      <td>0.000000</td>\n",
       "      <td>0.006280</td>\n",
       "    </tr>\n",
       "    <tr>\n",
       "      <th>RBP</th>\n",
       "      <td>0.000478</td>\n",
       "      <td>0.000000</td>\n",
       "      <td>0.011791</td>\n",
       "    </tr>\n",
       "    <tr>\n",
       "      <th>RecipRank</th>\n",
       "      <td>0.001220</td>\n",
       "      <td>0.000000</td>\n",
       "      <td>0.023377</td>\n",
       "    </tr>\n",
       "    <tr>\n",
       "      <th rowspan=\"3\" valign=\"top\">III</th>\n",
       "      <th>NDCG</th>\n",
       "      <td>0.023521</td>\n",
       "      <td>0.000000</td>\n",
       "      <td>0.070940</td>\n",
       "    </tr>\n",
       "    <tr>\n",
       "      <th>RBP</th>\n",
       "      <td>0.033874</td>\n",
       "      <td>0.000000</td>\n",
       "      <td>0.122890</td>\n",
       "    </tr>\n",
       "    <tr>\n",
       "      <th>RecipRank</th>\n",
       "      <td>0.066214</td>\n",
       "      <td>0.000000</td>\n",
       "      <td>0.219780</td>\n",
       "    </tr>\n",
       "    <tr>\n",
       "      <th rowspan=\"3\" valign=\"top\">Pop</th>\n",
       "      <th>NDCG</th>\n",
       "      <td>0.220562</td>\n",
       "      <td>0.203472</td>\n",
       "      <td>0.149014</td>\n",
       "    </tr>\n",
       "    <tr>\n",
       "      <th>RBP</th>\n",
       "      <td>0.369685</td>\n",
       "      <td>0.341945</td>\n",
       "      <td>0.282919</td>\n",
       "    </tr>\n",
       "    <tr>\n",
       "      <th>RecipRank</th>\n",
       "      <td>0.579689</td>\n",
       "      <td>0.500000</td>\n",
       "      <td>0.391073</td>\n",
       "    </tr>\n",
       "    <tr>\n",
       "      <th rowspan=\"3\" valign=\"top\">UUE</th>\n",
       "      <th>NDCG</th>\n",
       "      <td>0.000021</td>\n",
       "      <td>0.000000</td>\n",
       "      <td>0.000642</td>\n",
       "    </tr>\n",
       "    <tr>\n",
       "      <th>RBP</th>\n",
       "      <td>0.000043</td>\n",
       "      <td>0.000000</td>\n",
       "      <td>0.002104</td>\n",
       "    </tr>\n",
       "    <tr>\n",
       "      <th>RecipRank</th>\n",
       "      <td>0.000200</td>\n",
       "      <td>0.000000</td>\n",
       "      <td>0.009408</td>\n",
       "    </tr>\n",
       "  </tbody>\n",
       "</table>\n",
       "</div>"
      ],
      "text/plain": [
       "                     mean    median       std\n",
       "model                                        \n",
       "ALS   NDCG       0.097212  0.080215  0.083452\n",
       "      RBP        0.125089  0.108973  0.132925\n",
       "      RecipRank  0.216380  0.333333  0.200159\n",
       "Bias  NDCG       0.100578  0.083302  0.082241\n",
       "      RBP        0.129872  0.110704  0.132947\n",
       "      RecipRank  0.226740  0.333333  0.203143\n",
       "IALS  NDCG       0.031876  0.010950  0.066978\n",
       "      RBP        0.031333  0.000192  0.107891\n",
       "      RecipRank  0.072105  0.023810  0.190339\n",
       "IIE   NDCG       0.000423  0.000000  0.006280\n",
       "      RBP        0.000478  0.000000  0.011791\n",
       "      RecipRank  0.001220  0.000000  0.023377\n",
       "III   NDCG       0.023521  0.000000  0.070940\n",
       "      RBP        0.033874  0.000000  0.122890\n",
       "      RecipRank  0.066214  0.000000  0.219780\n",
       "Pop   NDCG       0.220562  0.203472  0.149014\n",
       "      RBP        0.369685  0.341945  0.282919\n",
       "      RecipRank  0.579689  0.500000  0.391073\n",
       "UUE   NDCG       0.000021  0.000000  0.000642\n",
       "      RBP        0.000043  0.000000  0.002104\n",
       "      RecipRank  0.000200  0.000000  0.009408"
      ]
     },
     "execution_count": 14,
     "metadata": {},
     "output_type": "execute_result"
    }
   ],
   "source": [
    "ra = RunAnalysis()\n",
    "\n",
    "ra.add_metric(NDCG())\n",
    "ra.add_metric(RecipRank())\n",
    "ra.add_metric(RBP())\n",
    "\n",
    "rec_results = ra.compute(recs, test)\n",
    "rec_results.list_summary('model')"
   ]
  },
  {
   "cell_type": "markdown",
   "id": "c43d0a23",
   "metadata": {
    "papermill": {
     "duration": 0.008907,
     "end_time": "2025-02-22T22:28:31.630319",
     "exception": false,
     "start_time": "2025-02-22T22:28:31.621412",
     "status": "completed"
    },
    "tags": []
   },
   "source": [
    "We can reshape the list metrics and plot them:"
   ]
  },
  {
   "cell_type": "code",
   "execution_count": 15,
   "id": "9d2d5d12",
   "metadata": {
    "execution": {
     "iopub.execute_input": "2025-02-22T22:28:31.633965Z",
     "iopub.status.busy": "2025-02-22T22:28:31.633890Z",
     "iopub.status.idle": "2025-02-22T22:28:32.429798Z",
     "shell.execute_reply": "2025-02-22T22:28:32.429331Z"
    },
    "papermill": {
     "duration": 0.79868,
     "end_time": "2025-02-22T22:28:32.430499",
     "exception": false,
     "start_time": "2025-02-22T22:28:31.631819",
     "status": "completed"
    },
    "tags": []
   },
   "outputs": [
    {
     "data": {
      "image/png": "[encoded data removed]",
      "text/plain": [
       "<Figure size 1511.11x500 with 3 Axes>"
      ]
     },
     "metadata": {},
     "output_type": "display_data"
    }
   ],
   "source": [
    "metrics = rec_results.list_metrics()\n",
    "metrics = metrics.melt(var_name='metric', ignore_index=False).reset_index()\n",
    "metrics = metrics[metrics['user_id'].isin(train_users.index)]\n",
    "sns.catplot(metrics, x='model', y='value', col='metric', kind='bar')\n",
    "plt.show()"
   ]
  },
  {
   "cell_type": "markdown",
   "id": "c43e61ea",
   "metadata": {
    "papermill": {
     "duration": 0.009079,
     "end_time": "2025-02-22T22:28:32.442888",
     "exception": false,
     "start_time": "2025-02-22T22:28:32.433809",
     "status": "completed"
    },
    "tags": []
   },
   "source": [
    "## Prediction RMSE\n",
    "\n",
    "We will also look at the prediction RMSE."
   ]
  },
  {
   "cell_type": "code",
   "execution_count": 16,
   "id": "96b6d861",
   "metadata": {
    "execution": {
     "iopub.execute_input": "2025-02-22T22:28:32.446649Z",
     "iopub.status.busy": "2025-02-22T22:28:32.446562Z",
     "iopub.status.idle": "2025-02-22T22:28:56.672348Z",
     "shell.execute_reply": "2025-02-22T22:28:56.672171Z"
    },
    "papermill": {
     "duration": 24.22848,
     "end_time": "2025-02-22T22:28:56.672913",
     "exception": false,
     "start_time": "2025-02-22T22:28:32.444433",
     "status": "completed"
    },
    "tags": []
   },
   "outputs": [
    {
     "name": "stderr",
     "output_type": "stream",
     "text": [
      "/home/mde48/lenskit/lk-demo-experiment/.venv/lib/python3.13/site-packages/lenskit/metrics/bulk.py:127: FutureWarning: The previous implementation of stack is deprecated and will be removed in a future version of pandas. See the What's New notes for pandas 2.1.0 for details. Specify future_stack=True to adopt the new implementation and silence this warning.\n",
      "  df = scores.groupby(list(keys)).agg([\"mean\", \"median\", \"std\"]).stack(level=0)\n"
     ]
    },
    {
     "data": {
      "text/html": [
       "<div>\n",
       "<style scoped>\n",
       "    .dataframe tbody tr th:only-of-type {\n",
       "        vertical-align: middle;\n",
       "    }\n",
       "\n",
       "    .dataframe tbody tr th {\n",
       "        vertical-align: top;\n",
       "    }\n",
       "\n",
       "    .dataframe thead th {\n",
       "        text-align: right;\n",
       "    }\n",
       "</style>\n",
       "<table border=\"1\" class=\"dataframe\">\n",
       "  <thead>\n",
       "    <tr style=\"text-align: right;\">\n",
       "      <th></th>\n",
       "      <th></th>\n",
       "      <th>mean</th>\n",
       "      <th>median</th>\n",
       "      <th>std</th>\n",
       "    </tr>\n",
       "    <tr>\n",
       "      <th>model</th>\n",
       "      <th></th>\n",
       "      <th></th>\n",
       "      <th></th>\n",
       "      <th></th>\n",
       "    </tr>\n",
       "  </thead>\n",
       "  <tbody>\n",
       "    <tr>\n",
       "      <th>ALS</th>\n",
       "      <th>RMSE</th>\n",
       "      <td>0.906025</td>\n",
       "      <td>0.852996</td>\n",
       "      <td>0.331799</td>\n",
       "    </tr>\n",
       "    <tr>\n",
       "      <th>Bias</th>\n",
       "      <th>RMSE</th>\n",
       "      <td>0.911213</td>\n",
       "      <td>0.857496</td>\n",
       "      <td>0.331893</td>\n",
       "    </tr>\n",
       "    <tr>\n",
       "      <th>IIE</th>\n",
       "      <th>RMSE</th>\n",
       "      <td>0.911593</td>\n",
       "      <td>0.857751</td>\n",
       "      <td>0.333407</td>\n",
       "    </tr>\n",
       "    <tr>\n",
       "      <th>UUE</th>\n",
       "      <th>RMSE</th>\n",
       "      <td>0.913470</td>\n",
       "      <td>0.859174</td>\n",
       "      <td>0.332371</td>\n",
       "    </tr>\n",
       "  </tbody>\n",
       "</table>\n",
       "</div>"
      ],
      "text/plain": [
       "                mean    median       std\n",
       "model                                   \n",
       "ALS   RMSE  0.906025  0.852996  0.331799\n",
       "Bias  RMSE  0.911213  0.857496  0.331893\n",
       "IIE   RMSE  0.911593  0.857751  0.333407\n",
       "UUE   RMSE  0.913470  0.859174  0.332371"
      ]
     },
     "execution_count": 16,
     "metadata": {},
     "output_type": "execute_result"
    }
   ],
   "source": [
    "pa = RunAnalysis()\n",
    "\n",
    "pa.add_metric(RMSE(missing_scores='ignore', missing_truth='ignore'))\n",
    "\n",
    "pred_results = pa.compute(preds, test)\n",
    "pred_results.list_summary('model')"
   ]
  },
  {
   "cell_type": "code",
   "execution_count": 17,
   "id": "6d814573",
   "metadata": {
    "execution": {
     "iopub.execute_input": "2025-02-22T22:28:56.684381Z",
     "iopub.status.busy": "2025-02-22T22:28:56.684276Z",
     "iopub.status.idle": "2025-02-22T22:28:56.851430Z",
     "shell.execute_reply": "2025-02-22T22:28:56.851163Z"
    },
    "papermill": {
     "duration": 0.177088,
     "end_time": "2025-02-22T22:28:56.852026",
     "exception": false,
     "start_time": "2025-02-22T22:28:56.674938",
     "status": "completed"
    },
    "tags": []
   },
   "outputs": [
    {
     "data": {
      "image/png": "[encoded data removed]",
      "text/plain": [
       "<Figure size 511.111x500 with 1 Axes>"
      ]
     },
     "metadata": {},
     "output_type": "display_data"
    }
   ],
   "source": [
    "pred_metrics = pred_results.list_metrics().reset_index()\n",
    "pred_metrics = pred_metrics[pred_metrics['user_id'].isin(train_users.index)]\n",
    "sns.catplot(pred_metrics, x='model', y='RMSE', kind='bar')\n",
    "plt.show()"
   ]
  },
  {
   "cell_type": "markdown",
   "id": "150ed96b",
   "metadata": {
    "papermill": {
     "duration": 0.008974,
     "end_time": "2025-02-22T22:28:56.862967",
     "exception": false,
     "start_time": "2025-02-22T22:28:56.853993",
     "status": "completed"
    },
    "tags": []
   },
   "source": [
    "## Save Metrics\n",
    "\n",
    "We'll now save the metrics to a file."
   ]
  },
  {
   "cell_type": "code",
   "execution_count": 18,
   "id": "95247ac8",
   "metadata": {
    "execution": {
     "iopub.execute_input": "2025-02-22T22:28:56.866924Z",
     "iopub.status.busy": "2025-02-22T22:28:56.866837Z",
     "iopub.status.idle": "2025-02-22T22:28:56.893463Z",
     "shell.execute_reply": "2025-02-22T22:28:56.893281Z"
    },
    "papermill": {
     "duration": 0.029295,
     "end_time": "2025-02-22T22:28:56.893941",
     "exception": false,
     "start_time": "2025-02-22T22:28:56.864646",
     "status": "completed"
    },
    "tags": []
   },
   "outputs": [
    {
     "name": "stderr",
     "output_type": "stream",
     "text": [
      "/home/mde48/lenskit/lk-demo-experiment/.venv/lib/python3.13/site-packages/lenskit/metrics/bulk.py:127: FutureWarning: The previous implementation of stack is deprecated and will be removed in a future version of pandas. See the What's New notes for pandas 2.1.0 for details. Specify future_stack=True to adopt the new implementation and silence this warning.\n",
      "  df = scores.groupby(list(keys)).agg([\"mean\", \"median\", \"std\"]).stack(level=0)\n"
     ]
    },
    {
     "data": {
      "text/html": [
       "<div>\n",
       "<style scoped>\n",
       "    .dataframe tbody tr th:only-of-type {\n",
       "        vertical-align: middle;\n",
       "    }\n",
       "\n",
       "    .dataframe tbody tr th {\n",
       "        vertical-align: top;\n",
       "    }\n",
       "\n",
       "    .dataframe thead th {\n",
       "        text-align: right;\n",
       "    }\n",
       "</style>\n",
       "<table border=\"1\" class=\"dataframe\">\n",
       "  <thead>\n",
       "    <tr style=\"text-align: right;\">\n",
       "      <th></th>\n",
       "      <th>NDCG</th>\n",
       "      <th>RBP</th>\n",
       "      <th>RecipRank</th>\n",
       "    </tr>\n",
       "    <tr>\n",
       "      <th>model</th>\n",
       "      <th></th>\n",
       "      <th></th>\n",
       "      <th></th>\n",
       "    </tr>\n",
       "  </thead>\n",
       "  <tbody>\n",
       "    <tr>\n",
       "      <th>ALS</th>\n",
       "      <td>0.097212</td>\n",
       "      <td>0.125089</td>\n",
       "      <td>0.216380</td>\n",
       "    </tr>\n",
       "    <tr>\n",
       "      <th>Bias</th>\n",
       "      <td>0.100578</td>\n",
       "      <td>0.129872</td>\n",
       "      <td>0.226740</td>\n",
       "    </tr>\n",
       "    <tr>\n",
       "      <th>IALS</th>\n",
       "      <td>0.031876</td>\n",
       "      <td>0.031333</td>\n",
       "      <td>0.072105</td>\n",
       "    </tr>\n",
       "    <tr>\n",
       "      <th>IIE</th>\n",
       "      <td>0.000423</td>\n",
       "      <td>0.000478</td>\n",
       "      <td>0.001220</td>\n",
       "    </tr>\n",
       "    <tr>\n",
       "      <th>III</th>\n",
       "      <td>0.023521</td>\n",
       "      <td>0.033874</td>\n",
       "      <td>0.066214</td>\n",
       "    </tr>\n",
       "    <tr>\n",
       "      <th>Pop</th>\n",
       "      <td>0.220562</td>\n",
       "      <td>0.369685</td>\n",
       "      <td>0.579689</td>\n",
       "    </tr>\n",
       "    <tr>\n",
       "      <th>UUE</th>\n",
       "      <td>0.000021</td>\n",
       "      <td>0.000043</td>\n",
       "      <td>0.000200</td>\n",
       "    </tr>\n",
       "  </tbody>\n",
       "</table>\n",
       "</div>"
      ],
      "text/plain": [
       "           NDCG       RBP  RecipRank\n",
       "model                               \n",
       "ALS    0.097212  0.125089   0.216380\n",
       "Bias   0.100578  0.129872   0.226740\n",
       "IALS   0.031876  0.031333   0.072105\n",
       "IIE    0.000423  0.000478   0.001220\n",
       "III    0.023521  0.033874   0.066214\n",
       "Pop    0.220562  0.369685   0.579689\n",
       "UUE    0.000021  0.000043   0.000200"
      ]
     },
     "execution_count": 18,
     "metadata": {},
     "output_type": "execute_result"
    }
   ],
   "source": [
    "rlsum = rec_results.list_summary('model')['mean'].unstack()\n",
    "rlsum"
   ]
  },
  {
   "cell_type": "code",
   "execution_count": 19,
   "id": "fb76a470",
   "metadata": {
    "execution": {
     "iopub.execute_input": "2025-02-22T22:28:56.898298Z",
     "iopub.status.busy": "2025-02-22T22:28:56.898141Z",
     "iopub.status.idle": "2025-02-22T22:28:56.899856Z",
     "shell.execute_reply": "2025-02-22T22:28:56.899699Z"
    },
    "papermill": {
     "duration": 0.004351,
     "end_time": "2025-02-22T22:28:56.900252",
     "exception": false,
     "start_time": "2025-02-22T22:28:56.895901",
     "status": "completed"
    },
    "tags": []
   },
   "outputs": [],
   "source": [
    "rlsum.to_json(f'eval-metrics.{dataset}.json', orient='index')"
   ]
  }
 ],
 "metadata": {
  "jupytext": {
   "formats": "ipynb,md",
   "notebook_metadata_filter": "split_at_heading"
  },
  "kernelspec": {
   "display_name": ".venv",
   "language": "python",
   "name": "python3"
  },
  "language_info": {
   "codemirror_mode": {
    "name": "ipython",
    "version": 3
   },
   "file_extension": ".py",
   "mimetype": "text/x-python",
   "name": "python",
   "nbconvert_exporter": "python",
   "pygments_lexer": "ipython3",
   "version": "3.13.2"
  },
  "papermill": {
   "default_parameters": {},
   "duration": 72.609316,
   "end_time": "2025-02-22T22:28:58.620143",
   "environment_variables": {},
   "exception": null,
   "input_path": "eval-report.ipynb",
   "output_path": "eval-report.ml-32m.ipynb",
   "parameters": {
    "dataset": "ml-32m"
   },
   "start_time": "2025-02-22T22:27:46.010827",
   "version": "2.6.0"
  },
  "split_at_heading": true
 },
 "nbformat": 4,
 "nbformat_minor": 5
}