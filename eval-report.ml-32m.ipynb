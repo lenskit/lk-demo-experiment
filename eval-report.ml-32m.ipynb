{
 "cells": [
  {
   "cell_type": "markdown",
   "id": "cf34c732",
   "metadata": {
    "papermill": {
     "duration": 0.010525,
     "end_time": "2025-02-22T22:42:54.264923",
     "exception": false,
     "start_time": "2025-02-22T22:42:54.254398",
     "status": "completed"
    },
    "tags": []
   },
   "source": [
    "# Evaluation Analysis for Recommender Output"
   ]
  },
  {
   "cell_type": "markdown",
   "id": "f179abe6",
   "metadata": {
    "papermill": {
     "duration": 0.001297,
     "end_time": "2025-02-22T22:42:54.267789",
     "exception": false,
     "start_time": "2025-02-22T22:42:54.266492",
     "status": "completed"
    },
    "tags": []
   },
   "source": [
    "In this section we will analyze and compare the generated recommendations and predictions from a predefined list of algorithms with the goal of assessing the performance of each algorithm with respect to a metric. In other words, we would rank the algorithms for each metric considered with respect to performance."
   ]
  },
  {
   "cell_type": "markdown",
   "id": "5d3472f4",
   "metadata": {
    "papermill": {
     "duration": 0.001296,
     "end_time": "2025-02-22T22:42:54.270421",
     "exception": false,
     "start_time": "2025-02-22T22:42:54.269125",
     "status": "completed"
    },
    "tags": []
   },
   "source": [
    "## Setup"
   ]
  },
  {
   "cell_type": "markdown",
   "id": "cc43fdaf",
   "metadata": {
    "papermill": {
     "duration": 0.001283,
     "end_time": "2025-02-22T22:42:54.273129",
     "exception": false,
     "start_time": "2025-02-22T22:42:54.271846",
     "status": "completed"
    },
    "tags": []
   },
   "source": [
    "Below are the list of packages required to successfully run the analysis. They are divided into partitions to signify their specific task.<br>\n",
    "We need the pathlib package for working with files and folders"
   ]
  },
  {
   "cell_type": "code",
   "execution_count": 1,
   "id": "014be844",
   "metadata": {
    "execution": {
     "iopub.execute_input": "2025-02-22T22:42:54.276245Z",
     "iopub.status.busy": "2025-02-22T22:42:54.276119Z",
     "iopub.status.idle": "2025-02-22T22:42:54.278309Z",
     "shell.execute_reply": "2025-02-22T22:42:54.278061Z"
    },
    "papermill": {
     "duration": 0.004445,
     "end_time": "2025-02-22T22:42:54.278878",
     "exception": false,
     "start_time": "2025-02-22T22:42:54.274433",
     "status": "completed"
    },
    "tags": []
   },
   "outputs": [],
   "source": [
    "from pathlib import Path\n",
    "import json"
   ]
  },
  {
   "cell_type": "markdown",
   "id": "2647251d",
   "metadata": {
    "papermill": {
     "duration": 0.001317,
     "end_time": "2025-02-22T22:42:54.281558",
     "exception": false,
     "start_time": "2025-02-22T22:42:54.280241",
     "status": "completed"
    },
    "tags": []
   },
   "source": [
    "Load libraries for analysis and visualization:"
   ]
  },
  {
   "cell_type": "code",
   "execution_count": 2,
   "id": "c1ed49d5",
   "metadata": {
    "execution": {
     "iopub.execute_input": "2025-02-22T22:42:54.284563Z",
     "iopub.status.busy": "2025-02-22T22:42:54.284467Z",
     "iopub.status.idle": "2025-02-22T22:42:54.755778Z",
     "shell.execute_reply": "2025-02-22T22:42:54.755357Z"
    },
    "lines_to_next_cell": 2,
    "papermill": {
     "duration": 0.473791,
     "end_time": "2025-02-22T22:42:54.756677",
     "exception": false,
     "start_time": "2025-02-22T22:42:54.282886",
     "status": "completed"
    },
    "tags": []
   },
   "outputs": [],
   "source": [
    "import numpy as np\n",
    "import seaborn as sns\n",
    "import matplotlib.pyplot as plt"
   ]
  },
  {
   "cell_type": "markdown",
   "id": "0586a019",
   "metadata": {
    "papermill": {
     "duration": 0.008862,
     "end_time": "2025-02-22T22:42:54.767183",
     "exception": false,
     "start_time": "2025-02-22T22:42:54.758321",
     "status": "completed"
    },
    "tags": []
   },
   "source": [
    "Import the LensKit metrics for analysis:"
   ]
  },
  {
   "cell_type": "code",
   "execution_count": 3,
   "id": "1760b3f8",
   "metadata": {
    "execution": {
     "iopub.execute_input": "2025-02-22T22:42:54.770590Z",
     "iopub.status.busy": "2025-02-22T22:42:54.770475Z",
     "iopub.status.idle": "2025-02-22T22:42:55.409804Z",
     "shell.execute_reply": "2025-02-22T22:42:55.409225Z"
    },
    "papermill": {
     "duration": 0.64205,
     "end_time": "2025-02-22T22:42:55.410685",
     "exception": false,
     "start_time": "2025-02-22T22:42:54.768635",
     "status": "completed"
    },
    "tags": []
   },
   "outputs": [],
   "source": [
    "from lenskit.data import Dataset, ItemListCollection\n",
    "from lenskit.metrics import RunAnalysis, RMSE, NDCG, RecipRank, RBP"
   ]
  },
  {
   "cell_type": "code",
   "execution_count": 4,
   "id": "8ad8a9b5",
   "metadata": {
    "execution": {
     "iopub.execute_input": "2025-02-22T22:42:55.421863Z",
     "iopub.status.busy": "2025-02-22T22:42:55.421780Z",
     "iopub.status.idle": "2025-02-22T22:42:55.424486Z",
     "shell.execute_reply": "2025-02-22T22:42:55.424247Z"
    },
    "papermill": {
     "duration": 0.012672,
     "end_time": "2025-02-22T22:42:55.425024",
     "exception": false,
     "start_time": "2025-02-22T22:42:55.412352",
     "status": "completed"
    },
    "tags": []
   },
   "outputs": [],
   "source": [
    "from lkdemo.datasets import split_fraction"
   ]
  },
  {
   "cell_type": "markdown",
   "id": "e4db960e",
   "metadata": {
    "papermill": {
     "duration": 0.001259,
     "end_time": "2025-02-22T22:42:55.427636",
     "exception": false,
     "start_time": "2025-02-22T22:42:55.426377",
     "status": "completed"
    },
    "tags": []
   },
   "source": [
    "## Load Data\n",
    "\n",
    "The recommendations are in `runs`, and we will need to reassemble the test data from `test`."
   ]
  },
  {
   "cell_type": "code",
   "execution_count": 5,
   "id": "f0b0bb95",
   "metadata": {
    "execution": {
     "iopub.execute_input": "2025-02-22T22:42:55.430781Z",
     "iopub.status.busy": "2025-02-22T22:42:55.430706Z",
     "iopub.status.idle": "2025-02-22T22:42:55.432239Z",
     "shell.execute_reply": "2025-02-22T22:42:55.432014Z"
    },
    "papermill": {
     "duration": 0.003875,
     "end_time": "2025-02-22T22:42:55.432822",
     "exception": false,
     "start_time": "2025-02-22T22:42:55.428947",
     "status": "completed"
    },
    "tags": [
     "parameters"
    ]
   },
   "outputs": [],
   "source": [
    "dataset = \"ml-100k\""
   ]
  },
  {
   "cell_type": "code",
   "execution_count": 6,
   "id": "32c84fef",
   "metadata": {
    "execution": {
     "iopub.execute_input": "2025-02-22T22:42:55.435866Z",
     "iopub.status.busy": "2025-02-22T22:42:55.435792Z",
     "iopub.status.idle": "2025-02-22T22:42:55.437288Z",
     "shell.execute_reply": "2025-02-22T22:42:55.437062Z"
    },
    "papermill": {
     "duration": 0.003524,
     "end_time": "2025-02-22T22:42:55.437736",
     "exception": false,
     "start_time": "2025-02-22T22:42:55.434212",
     "status": "completed"
    },
    "tags": [
     "injected-parameters"
    ]
   },
   "outputs": [],
   "source": [
    "# Parameters\n",
    "dataset = \"ml-32m\"\n"
   ]
  },
  {
   "cell_type": "code",
   "execution_count": 7,
   "id": "bb15507d",
   "metadata": {
    "execution": {
     "iopub.execute_input": "2025-02-22T22:42:55.440902Z",
     "iopub.status.busy": "2025-02-22T22:42:55.440832Z",
     "iopub.status.idle": "2025-02-22T22:42:55.442362Z",
     "shell.execute_reply": "2025-02-22T22:42:55.442136Z"
    },
    "papermill": {
     "duration": 0.003642,
     "end_time": "2025-02-22T22:42:55.442782",
     "exception": false,
     "start_time": "2025-02-22T22:42:55.439140",
     "status": "completed"
    },
    "tags": []
   },
   "outputs": [],
   "source": [
    "output_root = Path(\"runs\")"
   ]
  },
  {
   "cell_type": "code",
   "execution_count": 8,
   "id": "ecff58cf",
   "metadata": {
    "execution": {
     "iopub.execute_input": "2025-02-22T22:42:55.445902Z",
     "iopub.status.busy": "2025-02-22T22:42:55.445834Z",
     "iopub.status.idle": "2025-02-22T22:42:55.447582Z",
     "shell.execute_reply": "2025-02-22T22:42:55.447348Z"
    },
    "papermill": {
     "duration": 0.00391,
     "end_time": "2025-02-22T22:42:55.448071",
     "exception": false,
     "start_time": "2025-02-22T22:42:55.444161",
     "status": "completed"
    },
    "tags": []
   },
   "outputs": [],
   "source": [
    "dirs = [fld for fld in output_root.glob(f'{dataset}-*')]"
   ]
  },
  {
   "cell_type": "code",
   "execution_count": 9,
   "id": "98ec44f8",
   "metadata": {
    "execution": {
     "iopub.execute_input": "2025-02-22T22:42:55.451229Z",
     "iopub.status.busy": "2025-02-22T22:42:55.451155Z",
     "iopub.status.idle": "2025-02-22T22:43:01.349348Z",
     "shell.execute_reply": "2025-02-22T22:43:01.348750Z"
    },
    "papermill": {
     "duration": 5.900844,
     "end_time": "2025-02-22T22:43:01.350312",
     "exception": false,
     "start_time": "2025-02-22T22:42:55.449468",
     "status": "completed"
    },
    "tags": []
   },
   "outputs": [],
   "source": [
    "recs = ItemListCollection(['model', 'user_id'], index=False)\n",
    "for fld in dirs:\n",
    "    for file in fld.glob(\"recs-*\"):\n",
    "        rec = ItemListCollection.load_parquet(file)\n",
    "        recs.add_from(rec, model=fld.name.split(\"-\")[-1])"
   ]
  },
  {
   "cell_type": "code",
   "execution_count": 10,
   "id": "16052016",
   "metadata": {
    "execution": {
     "iopub.execute_input": "2025-02-22T22:43:01.354313Z",
     "iopub.status.busy": "2025-02-22T22:43:01.354228Z",
     "iopub.status.idle": "2025-02-22T22:43:01.372501Z",
     "shell.execute_reply": "2025-02-22T22:43:01.372247Z"
    },
    "papermill": {
     "duration": 0.02098,
     "end_time": "2025-02-22T22:43:01.373144",
     "exception": false,
     "start_time": "2025-02-22T22:43:01.352164",
     "status": "completed"
    },
    "tags": []
   },
   "outputs": [
    {
     "data": {
      "text/plain": [
       "['ALS', 'Bias', 'IALS', 'IIE', 'III', 'Pop', 'UUE']"
      ]
     },
     "execution_count": 10,
     "metadata": {},
     "output_type": "execute_result"
    }
   ],
   "source": [
    "rec_algos = sorted(set(a for (a, _u) in recs.keys()))\n",
    "rec_algos"
   ]
  },
  {
   "cell_type": "code",
   "execution_count": 11,
   "id": "b44ae566",
   "metadata": {
    "execution": {
     "iopub.execute_input": "2025-02-22T22:43:01.376846Z",
     "iopub.status.busy": "2025-02-22T22:43:01.376778Z",
     "iopub.status.idle": "2025-02-22T22:43:06.091616Z",
     "shell.execute_reply": "2025-02-22T22:43:06.091273Z"
    },
    "papermill": {
     "duration": 4.717659,
     "end_time": "2025-02-22T22:43:06.092437",
     "exception": false,
     "start_time": "2025-02-22T22:43:01.374778",
     "status": "completed"
    },
    "tags": []
   },
   "outputs": [],
   "source": [
    "preds = ItemListCollection(['model', 'user_id'], index=False)\n",
    "for fld in dirs:\n",
    "    for file in fld.glob(\"pred-*\"):\n",
    "        pred = ItemListCollection.load_parquet(file)\n",
    "        preds.add_from(pred, model=fld.name.split(\"-\")[-1])"
   ]
  },
  {
   "cell_type": "markdown",
   "id": "c3d9a53d",
   "metadata": {
    "papermill": {
     "duration": 0.008801,
     "end_time": "2025-02-22T22:43:06.103027",
     "exception": false,
     "start_time": "2025-02-22T22:43:06.094226",
     "status": "completed"
    },
    "tags": []
   },
   "source": [
    "We need to load the test data so that we have the ground truths for computing accuracy."
   ]
  },
  {
   "cell_type": "code",
   "execution_count": 12,
   "id": "f617082d",
   "metadata": {
    "execution": {
     "iopub.execute_input": "2025-02-22T22:43:06.106531Z",
     "iopub.status.busy": "2025-02-22T22:43:06.106449Z",
     "iopub.status.idle": "2025-02-22T22:43:11.785972Z",
     "shell.execute_reply": "2025-02-22T22:43:11.785655Z"
    },
    "papermill": {
     "duration": 5.682255,
     "end_time": "2025-02-22T22:43:11.786739",
     "exception": false,
     "start_time": "2025-02-22T22:43:06.104484",
     "status": "completed"
    },
    "tags": []
   },
   "outputs": [],
   "source": [
    "data = Dataset.load(f\"data/{dataset}\")\n",
    "split = split_fraction(data, 0.2)\n",
    "test = split.test"
   ]
  },
  {
   "cell_type": "markdown",
   "id": "1211178a",
   "metadata": {
    "papermill": {
     "duration": 0.009029,
     "end_time": "2025-02-22T22:43:11.797542",
     "exception": false,
     "start_time": "2025-02-22T22:43:11.788513",
     "status": "completed"
    },
    "tags": []
   },
   "source": [
    "And identify users in the training set, so we only report metrics over them."
   ]
  },
  {
   "cell_type": "code",
   "execution_count": 13,
   "id": "ea5fd212",
   "metadata": {
    "execution": {
     "iopub.execute_input": "2025-02-22T22:43:11.801037Z",
     "iopub.status.busy": "2025-02-22T22:43:11.800948Z",
     "iopub.status.idle": "2025-02-22T22:43:14.120011Z",
     "shell.execute_reply": "2025-02-22T22:43:14.119571Z"
    },
    "papermill": {
     "duration": 2.321636,
     "end_time": "2025-02-22T22:43:14.120706",
     "exception": false,
     "start_time": "2025-02-22T22:43:11.799070",
     "status": "completed"
    },
    "tags": []
   },
   "outputs": [],
   "source": [
    "train_users = split.train.user_stats()\n",
    "train_users = train_users[train_users['rating_count'] > 0]"
   ]
  },
  {
   "cell_type": "markdown",
   "id": "e8ca3779",
   "metadata": {
    "papermill": {
     "duration": 0.0015,
     "end_time": "2025-02-22T22:43:14.124022",
     "exception": false,
     "start_time": "2025-02-22T22:43:14.122522",
     "status": "completed"
    },
    "tags": []
   },
   "source": [
    "## Top-N Metrics\n",
    "\n",
    "`RunListAnalysis` computes metrics for recommendation results and takes care of\n",
    "matching recommendations and ground truth."
   ]
  },
  {
   "cell_type": "code",
   "execution_count": 14,
   "id": "7012260e",
   "metadata": {
    "execution": {
     "iopub.execute_input": "2025-02-22T22:43:14.127607Z",
     "iopub.status.busy": "2025-02-22T22:43:14.127519Z",
     "iopub.status.idle": "2025-02-22T22:43:39.099676Z",
     "shell.execute_reply": "2025-02-22T22:43:39.099228Z"
    },
    "papermill": {
     "duration": 24.97475,
     "end_time": "2025-02-22T22:43:39.100252",
     "exception": false,
     "start_time": "2025-02-22T22:43:14.125502",
     "status": "completed"
    },
    "tags": []
   },
   "outputs": [
    {
     "name": "stderr",
     "output_type": "stream",
     "text": [
      "/home/mde48/lenskit/lk-demo-experiment/.venv/lib/python3.13/site-packages/lenskit/metrics/bulk.py:127: FutureWarning: The previous implementation of stack is deprecated and will be removed in a future version of pandas. See the What's New notes for pandas 2.1.0 for details. Specify future_stack=True to adopt the new implementation and silence this warning.\n",
      "  df = scores.groupby(list(keys)).agg([\"mean\", \"median\", \"std\"]).stack(level=0)\n"
     ]
    },
    {
     "data": {
      "text/html": [
       "<div>\n",
       "<style scoped>\n",
       "    .dataframe tbody tr th:only-of-type {\n",
       "        vertical-align: middle;\n",
       "    }\n",
       "\n",
       "    .dataframe tbody tr th {\n",
       "        vertical-align: top;\n",
       "    }\n",
       "\n",
       "    .dataframe thead th {\n",
       "        text-align: right;\n",
       "    }\n",
       "</style>\n",
       "<table border=\"1\" class=\"dataframe\">\n",
       "  <thead>\n",
       "    <tr style=\"text-align: right;\">\n",
       "      <th></th>\n",
       "      <th></th>\n",
       "      <th>mean</th>\n",
       "      <th>median</th>\n",
       "      <th>std</th>\n",
       "    </tr>\n",
       "    <tr>\n",
       "      <th>model</th>\n",
       "      <th></th>\n",
       "      <th></th>\n",
       "      <th></th>\n",
       "      <th></th>\n",
       "    </tr>\n",
       "  </thead>\n",
       "  <tbody>\n",
       "    <tr>\n",
       "      <th rowspan=\"3\" valign=\"top\">ALS</th>\n",
       "      <th>NDCG</th>\n",
       "      <td>0.097212</td>\n",
       "      <td>0.080215</td>\n",
       "      <td>0.083452</td>\n",
       "    </tr>\n",
       "    <tr>\n",
       "      <th>RBP</th>\n",
       "      <td>0.125089</td>\n",
       "      <td>0.108973</td>\n",
       "      <td>0.132925</td>\n",
       "    </tr>\n",
       "    <tr>\n",
       "      <th>RecipRank</th>\n",
       "      <td>0.216380</td>\n",
       "      <td>0.333333</td>\n",
       "      <td>0.200159</td>\n",
       "    </tr>\n",
       "    <tr>\n",
       "      <th rowspan=\"3\" valign=\"top\">Bias</th>\n",
       "      <th>NDCG</th>\n",
       "      <td>0.100578</td>\n",
       "      <td>0.083302</td>\n",
       "      <td>0.082241</td>\n",
       "    </tr>\n",
       "    <tr>\n",
       "      <th>RBP</th>\n",
       "      <td>0.129872</td>\n",
       "      <td>0.110704</td>\n",
       "      <td>0.132947</td>\n",
       "    </tr>\n",
       "    <tr>\n",
       "      <th>RecipRank</th>\n",
       "      <td>0.226740</td>\n",
       "      <td>0.333333</td>\n",
       "      <td>0.203143</td>\n",
       "    </tr>\n",
       "    <tr>\n",
       "      <th rowspan=\"3\" valign=\"top\">IALS</th>\n",
       "      <th>NDCG</th>\n",
       "      <td>0.031876</td>\n",
       "      <td>0.010950</td>\n",
       "      <td>0.066978</td>\n",
       "    </tr>\n",
       "    <tr>\n",
       "      <th>RBP</th>\n",
       "      <td>0.031333</td>\n",
       "      <td>0.000192</td>\n",
       "      <td>0.107891</td>\n",
       "    </tr>\n",
       "    <tr>\n",
       "      <th>RecipRank</th>\n",
       "      <td>0.072105</td>\n",
       "      <td>0.023810</td>\n",
       "      <td>0.190339</td>\n",
       "    </tr>\n",
       "    <tr>\n",
       "      <th rowspan=\"3\" valign=\"top\">IIE</th>\n",
       "      <th>NDCG</th>\n",
       "      <td>0.000423</td>\n",
       "      <td>0.000000</td>\n",
       "      <td>0.006280</td>\n",
       "    </tr>\n",
       "    <tr>\n",
       "      <th>RBP</th>\n",
       "      <td>0.000478</td>\n",
       "      <td>0.000000</td>\n",
       "      <td>0.011791</td>\n",
       "    </tr>\n",
       "    <tr>\n",
       "      <th>RecipRank</th>\n",
       "      <td>0.001220</td>\n",
       "      <td>0.000000</td>\n",
       "      <td>0.023377</td>\n",
       "    </tr>\n",
       "    <tr>\n",
       "      <th rowspan=\"3\" valign=\"top\">III</th>\n",
       "      <th>NDCG</th>\n",
       "      <td>0.023521</td>\n",
       "      <td>0.000000</td>\n",
       "      <td>0.070940</td>\n",
       "    </tr>\n",
       "    <tr>\n",
       "      <th>RBP</th>\n",
       "      <td>0.033874</td>\n",
       "      <td>0.000000</td>\n",
       "      <td>0.122890</td>\n",
       "    </tr>\n",
       "    <tr>\n",
       "      <th>RecipRank</th>\n",
       "      <td>0.066214</td>\n",
       "      <td>0.000000</td>\n",
       "      <td>0.219780</td>\n",
       "    </tr>\n",
       "    <tr>\n",
       "      <th rowspan=\"3\" valign=\"top\">Pop</th>\n",
       "      <th>NDCG</th>\n",
       "      <td>0.220562</td>\n",
       "      <td>0.203472</td>\n",
       "      <td>0.149014</td>\n",
       "    </tr>\n",
       "    <tr>\n",
       "      <th>RBP</th>\n",
       "      <td>0.369685</td>\n",
       "      <td>0.341945</td>\n",
       "      <td>0.282919</td>\n",
       "    </tr>\n",
       "    <tr>\n",
       "      <th>RecipRank</th>\n",
       "      <td>0.579689</td>\n",
       "      <td>0.500000</td>\n",
       "      <td>0.391073</td>\n",
       "    </tr>\n",
       "    <tr>\n",
       "      <th rowspan=\"3\" valign=\"top\">UUE</th>\n",
       "      <th>NDCG</th>\n",
       "      <td>0.000021</td>\n",
       "      <td>0.000000</td>\n",
       "      <td>0.000642</td>\n",
       "    </tr>\n",
       "    <tr>\n",
       "      <th>RBP</th>\n",
       "      <td>0.000043</td>\n",
       "      <td>0.000000</td>\n",
       "      <td>0.002104</td>\n",
       "    </tr>\n",
       "    <tr>\n",
       "      <th>RecipRank</th>\n",
       "      <td>0.000200</td>\n",
       "      <td>0.000000</td>\n",
       "      <td>0.009408</td>\n",
       "    </tr>\n",
       "  </tbody>\n",
       "</table>\n",
       "</div>"
      ],
      "text/plain": [
       "                     mean    median       std\n",
       "model                                        \n",
       "ALS   NDCG       0.097212  0.080215  0.083452\n",
       "      RBP        0.125089  0.108973  0.132925\n",
       "      RecipRank  0.216380  0.333333  0.200159\n",
       "Bias  NDCG       0.100578  0.083302  0.082241\n",
       "      RBP        0.129872  0.110704  0.132947\n",
       "      RecipRank  0.226740  0.333333  0.203143\n",
       "IALS  NDCG       0.031876  0.010950  0.066978\n",
       "      RBP        0.031333  0.000192  0.107891\n",
       "      RecipRank  0.072105  0.023810  0.190339\n",
       "IIE   NDCG       0.000423  0.000000  0.006280\n",
       "      RBP        0.000478  0.000000  0.011791\n",
       "      RecipRank  0.001220  0.000000  0.023377\n",
       "III   NDCG       0.023521  0.000000  0.070940\n",
       "      RBP        0.033874  0.000000  0.122890\n",
       "      RecipRank  0.066214  0.000000  0.219780\n",
       "Pop   NDCG       0.220562  0.203472  0.149014\n",
       "      RBP        0.369685  0.341945  0.282919\n",
       "      RecipRank  0.579689  0.500000  0.391073\n",
       "UUE   NDCG       0.000021  0.000000  0.000642\n",
       "      RBP        0.000043  0.000000  0.002104\n",
       "      RecipRank  0.000200  0.000000  0.009408"
      ]
     },
     "execution_count": 14,
     "metadata": {},
     "output_type": "execute_result"
    }
   ],
   "source": [
    "ra = RunAnalysis()\n",
    "\n",
    "ra.add_metric(NDCG())\n",
    "ra.add_metric(RecipRank())\n",
    "ra.add_metric(RBP())\n",
    "\n",
    "rec_results = ra.compute(recs, test)\n",
    "rec_results.list_summary('model')"
   ]
  },
  {
   "cell_type": "markdown",
   "id": "3f0d53d0",
   "metadata": {
    "papermill": {
     "duration": 0.00868,
     "end_time": "2025-02-22T22:43:39.112137",
     "exception": false,
     "start_time": "2025-02-22T22:43:39.103457",
     "status": "completed"
    },
    "tags": []
   },
   "source": [
    "We can reshape the list metrics and plot them, after filtering to only users with at least 1 training rating:"
   ]
  },
  {
   "cell_type": "code",
   "execution_count": 15,
   "id": "502397c1",
   "metadata": {
    "execution": {
     "iopub.execute_input": "2025-02-22T22:43:39.115851Z",
     "iopub.status.busy": "2025-02-22T22:43:39.115754Z",
     "iopub.status.idle": "2025-02-22T22:43:39.923810Z",
     "shell.execute_reply": "2025-02-22T22:43:39.923237Z"
    },
    "papermill": {
     "duration": 0.810797,
     "end_time": "2025-02-22T22:43:39.924461",
     "exception": false,
     "start_time": "2025-02-22T22:43:39.113664",
     "status": "completed"
    },
    "tags": []
   },
   "outputs": [
    {
     "data": {
      "image/png": "[encoded data removed]",
      "text/plain": [
       "<Figure size 1511.11x500 with 3 Axes>"
      ]
     },
     "metadata": {},
     "output_type": "display_data"
    }
   ],
   "source": [
    "metrics = rec_results.list_metrics()\n",
    "metrics = metrics.melt(var_name='metric', ignore_index=False).reset_index()\n",
    "metrics = metrics[metrics['user_id'].isin(train_users.index)]\n",
    "sns.catplot(metrics, x='model', y='value', col='metric', kind='bar')\n",
    "plt.show()"
   ]
  },
  {
   "cell_type": "markdown",
   "id": "d1c9fd07",
   "metadata": {
    "papermill": {
     "duration": 0.008879,
     "end_time": "2025-02-22T22:43:39.935256",
     "exception": false,
     "start_time": "2025-02-22T22:43:39.926377",
     "status": "completed"
    },
    "tags": []
   },
   "source": [
    "Let's look at the influence of training ratings on performance, clamping 15+ into a single category:"
   ]
  },
  {
   "cell_type": "code",
   "execution_count": 16,
   "id": "2c606bcf",
   "metadata": {
    "execution": {
     "iopub.execute_input": "2025-02-22T22:43:39.939266Z",
     "iopub.status.busy": "2025-02-22T22:43:39.939171Z",
     "iopub.status.idle": "2025-02-22T22:43:41.290101Z",
     "shell.execute_reply": "2025-02-22T22:43:41.289889Z"
    },
    "papermill": {
     "duration": 1.353592,
     "end_time": "2025-02-22T22:43:41.290614",
     "exception": false,
     "start_time": "2025-02-22T22:43:39.937022",
     "status": "completed"
    },
    "tags": []
   },
   "outputs": [
    {
     "data": {
      "image/png": "[encoded data removed]",
      "text/plain": [
       "<Figure size 640x480 with 1 Axes>"
      ]
     },
     "metadata": {},
     "output_type": "display_data"
    }
   ],
   "source": [
    "tcounts = split.train.user_stats()['rating_count'].copy()\n",
    "tcounts[tcounts > 15] = 15\n",
    "metrics = rec_results.list_metrics().reset_index().join(tcounts, on='user_id')\n",
    "sns.lineplot(metrics, x='rating_count', y='NDCG', hue='model', errorbar='ci')\n",
    "plt.xlabel('# of Training Ratings')\n",
    "rc_ticks = np.arange(0, 16, 3)\n",
    "plt.xticks(rc_ticks, rc_ticks[:-1].tolist() + ['15+'])\n",
    "plt.show()"
   ]
  },
  {
   "cell_type": "markdown",
   "id": "ed6e858c",
   "metadata": {
    "papermill": {
     "duration": 0.008939,
     "end_time": "2025-02-22T22:43:41.301825",
     "exception": false,
     "start_time": "2025-02-22T22:43:41.292886",
     "status": "completed"
    },
    "tags": []
   },
   "source": [
    "## Prediction RMSE\n",
    "\n",
    "We will also look at the prediction RMSE."
   ]
  },
  {
   "cell_type": "code",
   "execution_count": 17,
   "id": "b1f49098",
   "metadata": {
    "execution": {
     "iopub.execute_input": "2025-02-22T22:43:41.306188Z",
     "iopub.status.busy": "2025-02-22T22:43:41.306111Z",
     "iopub.status.idle": "2025-02-22T22:44:05.575649Z",
     "shell.execute_reply": "2025-02-22T22:44:05.575457Z"
    },
    "papermill": {
     "duration": 24.272358,
     "end_time": "2025-02-22T22:44:05.576116",
     "exception": false,
     "start_time": "2025-02-22T22:43:41.303758",
     "status": "completed"
    },
    "tags": []
   },
   "outputs": [
    {
     "name": "stderr",
     "output_type": "stream",
     "text": [
      "/home/mde48/lenskit/lk-demo-experiment/.venv/lib/python3.13/site-packages/lenskit/metrics/bulk.py:127: FutureWarning: The previous implementation of stack is deprecated and will be removed in a future version of pandas. See the What's New notes for pandas 2.1.0 for details. Specify future_stack=True to adopt the new implementation and silence this warning.\n",
      "  df = scores.groupby(list(keys)).agg([\"mean\", \"median\", \"std\"]).stack(level=0)\n"
     ]
    },
    {
     "data": {
      "text/html": [
       "<div>\n",
       "<style scoped>\n",
       "    .dataframe tbody tr th:only-of-type {\n",
       "        vertical-align: middle;\n",
       "    }\n",
       "\n",
       "    .dataframe tbody tr th {\n",
       "        vertical-align: top;\n",
       "    }\n",
       "\n",
       "    .dataframe thead th {\n",
       "        text-align: right;\n",
       "    }\n",
       "</style>\n",
       "<table border=\"1\" class=\"dataframe\">\n",
       "  <thead>\n",
       "    <tr style=\"text-align: right;\">\n",
       "      <th></th>\n",
       "      <th></th>\n",
       "      <th>mean</th>\n",
       "      <th>median</th>\n",
       "      <th>std</th>\n",
       "    </tr>\n",
       "    <tr>\n",
       "      <th>model</th>\n",
       "      <th></th>\n",
       "      <th></th>\n",
       "      <th></th>\n",
       "      <th></th>\n",
       "    </tr>\n",
       "  </thead>\n",
       "  <tbody>\n",
       "    <tr>\n",
       "      <th>ALS</th>\n",
       "      <th>RMSE</th>\n",
       "      <td>0.906025</td>\n",
       "      <td>0.852996</td>\n",
       "      <td>0.331799</td>\n",
       "    </tr>\n",
       "    <tr>\n",
       "      <th>Bias</th>\n",
       "      <th>RMSE</th>\n",
       "      <td>0.911213</td>\n",
       "      <td>0.857496</td>\n",
       "      <td>0.331893</td>\n",
       "    </tr>\n",
       "    <tr>\n",
       "      <th>IIE</th>\n",
       "      <th>RMSE</th>\n",
       "      <td>0.911593</td>\n",
       "      <td>0.857751</td>\n",
       "      <td>0.333407</td>\n",
       "    </tr>\n",
       "    <tr>\n",
       "      <th>UUE</th>\n",
       "      <th>RMSE</th>\n",
       "      <td>0.913470</td>\n",
       "      <td>0.859174</td>\n",
       "      <td>0.332371</td>\n",
       "    </tr>\n",
       "  </tbody>\n",
       "</table>\n",
       "</div>"
      ],
      "text/plain": [
       "                mean    median       std\n",
       "model                                   \n",
       "ALS   RMSE  0.906025  0.852996  0.331799\n",
       "Bias  RMSE  0.911213  0.857496  0.331893\n",
       "IIE   RMSE  0.911593  0.857751  0.333407\n",
       "UUE   RMSE  0.913470  0.859174  0.332371"
      ]
     },
     "execution_count": 17,
     "metadata": {},
     "output_type": "execute_result"
    }
   ],
   "source": [
    "pa = RunAnalysis()\n",
    "\n",
    "pa.add_metric(RMSE(missing_scores='ignore', missing_truth='ignore'))\n",
    "\n",
    "pred_results = pa.compute(preds, test)\n",
    "pred_results.list_summary('model')"
   ]
  },
  {
   "cell_type": "code",
   "execution_count": 18,
   "id": "550b1e9e",
   "metadata": {
    "execution": {
     "iopub.execute_input": "2025-02-22T22:44:05.587891Z",
     "iopub.status.busy": "2025-02-22T22:44:05.587807Z",
     "iopub.status.idle": "2025-02-22T22:44:05.755849Z",
     "shell.execute_reply": "2025-02-22T22:44:05.755441Z"
    },
    "papermill": {
     "duration": 0.178243,
     "end_time": "2025-02-22T22:44:05.756874",
     "exception": false,
     "start_time": "2025-02-22T22:44:05.578631",
     "status": "completed"
    },
    "tags": []
   },
   "outputs": [
    {
     "data": {
      "image/png": "[encoded data removed]",
      "text/plain": [
       "<Figure size 511.111x500 with 1 Axes>"
      ]
     },
     "metadata": {},
     "output_type": "display_data"
    }
   ],
   "source": [
    "pred_metrics = pred_results.list_metrics().reset_index()\n",
    "pred_metrics = pred_metrics[pred_metrics['user_id'].isin(train_users.index)]\n",
    "sns.catplot(pred_metrics, x='model', y='RMSE', kind='bar')\n",
    "plt.show()"
   ]
  },
  {
   "cell_type": "markdown",
   "id": "d87127d7",
   "metadata": {
    "papermill": {
     "duration": 0.008929,
     "end_time": "2025-02-22T22:44:05.770145",
     "exception": false,
     "start_time": "2025-02-22T22:44:05.761216",
     "status": "completed"
    },
    "tags": []
   },
   "source": [
    "## Save Metrics\n",
    "\n",
    "We'll now save the metrics to a file."
   ]
  },
  {
   "cell_type": "code",
   "execution_count": 19,
   "id": "c022814e",
   "metadata": {
    "execution": {
     "iopub.execute_input": "2025-02-22T22:44:05.774998Z",
     "iopub.status.busy": "2025-02-22T22:44:05.774915Z",
     "iopub.status.idle": "2025-02-22T22:44:05.800456Z",
     "shell.execute_reply": "2025-02-22T22:44:05.800276Z"
    },
    "papermill": {
     "duration": 0.028391,
     "end_time": "2025-02-22T22:44:05.800893",
     "exception": false,
     "start_time": "2025-02-22T22:44:05.772502",
     "status": "completed"
    },
    "tags": []
   },
   "outputs": [
    {
     "name": "stderr",
     "output_type": "stream",
     "text": [
      "/home/mde48/lenskit/lk-demo-experiment/.venv/lib/python3.13/site-packages/lenskit/metrics/bulk.py:127: FutureWarning: The previous implementation of stack is deprecated and will be removed in a future version of pandas. See the What's New notes for pandas 2.1.0 for details. Specify future_stack=True to adopt the new implementation and silence this warning.\n",
      "  df = scores.groupby(list(keys)).agg([\"mean\", \"median\", \"std\"]).stack(level=0)\n"
     ]
    },
    {
     "data": {
      "text/html": [
       "<div>\n",
       "<style scoped>\n",
       "    .dataframe tbody tr th:only-of-type {\n",
       "        vertical-align: middle;\n",
       "    }\n",
       "\n",
       "    .dataframe tbody tr th {\n",
       "        vertical-align: top;\n",
       "    }\n",
       "\n",
       "    .dataframe thead th {\n",
       "        text-align: right;\n",
       "    }\n",
       "</style>\n",
       "<table border=\"1\" class=\"dataframe\">\n",
       "  <thead>\n",
       "    <tr style=\"text-align: right;\">\n",
       "      <th></th>\n",
       "      <th>NDCG</th>\n",
       "      <th>RBP</th>\n",
       "      <th>RecipRank</th>\n",
       "    </tr>\n",
       "    <tr>\n",
       "      <th>model</th>\n",
       "      <th></th>\n",
       "      <th></th>\n",
       "      <th></th>\n",
       "    </tr>\n",
       "  </thead>\n",
       "  <tbody>\n",
       "    <tr>\n",
       "      <th>ALS</th>\n",
       "      <td>0.097212</td>\n",
       "      <td>0.125089</td>\n",
       "      <td>0.216380</td>\n",
       "    </tr>\n",
       "    <tr>\n",
       "      <th>Bias</th>\n",
       "      <td>0.100578</td>\n",
       "      <td>0.129872</td>\n",
       "      <td>0.226740</td>\n",
       "    </tr>\n",
       "    <tr>\n",
       "      <th>IALS</th>\n",
       "      <td>0.031876</td>\n",
       "      <td>0.031333</td>\n",
       "      <td>0.072105</td>\n",
       "    </tr>\n",
       "    <tr>\n",
       "      <th>IIE</th>\n",
       "      <td>0.000423</td>\n",
       "      <td>0.000478</td>\n",
       "      <td>0.001220</td>\n",
       "    </tr>\n",
       "    <tr>\n",
       "      <th>III</th>\n",
       "      <td>0.023521</td>\n",
       "      <td>0.033874</td>\n",
       "      <td>0.066214</td>\n",
       "    </tr>\n",
       "    <tr>\n",
       "      <th>Pop</th>\n",
       "      <td>0.220562</td>\n",
       "      <td>0.369685</td>\n",
       "      <td>0.579689</td>\n",
       "    </tr>\n",
       "    <tr>\n",
       "      <th>UUE</th>\n",
       "      <td>0.000021</td>\n",
       "      <td>0.000043</td>\n",
       "      <td>0.000200</td>\n",
       "    </tr>\n",
       "  </tbody>\n",
       "</table>\n",
       "</div>"
      ],
      "text/plain": [
       "           NDCG       RBP  RecipRank\n",
       "model                               \n",
       "ALS    0.097212  0.125089   0.216380\n",
       "Bias   0.100578  0.129872   0.226740\n",
       "IALS   0.031876  0.031333   0.072105\n",
       "IIE    0.000423  0.000478   0.001220\n",
       "III    0.023521  0.033874   0.066214\n",
       "Pop    0.220562  0.369685   0.579689\n",
       "UUE    0.000021  0.000043   0.000200"
      ]
     },
     "execution_count": 19,
     "metadata": {},
     "output_type": "execute_result"
    }
   ],
   "source": [
    "rlsum = rec_results.list_summary('model')['mean'].unstack()\n",
    "rlsum"
   ]
  },
  {
   "cell_type": "code",
   "execution_count": 20,
   "id": "64a6ae31",
   "metadata": {
    "execution": {
     "iopub.execute_input": "2025-02-22T22:44:05.805817Z",
     "iopub.status.busy": "2025-02-22T22:44:05.805732Z",
     "iopub.status.idle": "2025-02-22T22:44:05.807687Z",
     "shell.execute_reply": "2025-02-22T22:44:05.807519Z"
    },
    "papermill": {
     "duration": 0.005149,
     "end_time": "2025-02-22T22:44:05.808215",
     "exception": false,
     "start_time": "2025-02-22T22:44:05.803066",
     "status": "completed"
    },
    "tags": []
   },
   "outputs": [],
   "source": [
    "rlsum.to_json(f'eval-metrics.{dataset}.json', orient='index')"
   ]
  }
 ],
 "metadata": {
  "jupytext": {
   "formats": "ipynb,md",
   "notebook_metadata_filter": "split_at_heading"
  },
  "kernelspec": {
   "display_name": ".venv",
   "language": "python",
   "name": "python3"
  },
  "language_info": {
   "codemirror_mode": {
    "name": "ipython",
    "version": 3
   },
   "file_extension": ".py",
   "mimetype": "text/x-python",
   "name": "python",
   "nbconvert_exporter": "python",
   "pygments_lexer": "ipython3",
   "version": "3.13.2"
  },
  "papermill": {
   "default_parameters": {},
   "duration": 73.89248,
   "end_time": "2025-02-22T22:44:07.528227",
   "environment_variables": {},
   "exception": null,
   "input_path": "eval-report.ipynb",
   "output_path": "eval-report.ml-32m.ipynb",
   "parameters": {
    "dataset": "ml-32m"
   },
   "start_time": "2025-02-22T22:42:53.635747",
   "version": "2.6.0"
  },
  "split_at_heading": true
 },
 "nbformat": 4,
 "nbformat_minor": 5
}