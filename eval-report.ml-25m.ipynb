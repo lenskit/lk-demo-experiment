{
 "cells": [
  {
   "cell_type": "markdown",
   "id": "cf34c732",
   "metadata": {
    "papermill": {
     "duration": 0.010651,
     "end_time": "2025-02-22T22:41:53.747081",
     "exception": false,
     "start_time": "2025-02-22T22:41:53.736430",
     "status": "completed"
    },
    "tags": []
   },
   "source": [
    "# Evaluation Analysis for Recommender Output"
   ]
  },
  {
   "cell_type": "markdown",
   "id": "f179abe6",
   "metadata": {
    "papermill": {
     "duration": 0.001294,
     "end_time": "2025-02-22T22:41:53.749867",
     "exception": false,
     "start_time": "2025-02-22T22:41:53.748573",
     "status": "completed"
    },
    "tags": []
   },
   "source": [
    "In this section we will analyze and compare the generated recommendations and predictions from a predefined list of algorithms with the goal of assessing the performance of each algorithm with respect to a metric. In other words, we would rank the algorithms for each metric considered with respect to performance."
   ]
  },
  {
   "cell_type": "markdown",
   "id": "5d3472f4",
   "metadata": {
    "papermill": {
     "duration": 0.001223,
     "end_time": "2025-02-22T22:41:53.752354",
     "exception": false,
     "start_time": "2025-02-22T22:41:53.751131",
     "status": "completed"
    },
    "tags": []
   },
   "source": [
    "## Setup"
   ]
  },
  {
   "cell_type": "markdown",
   "id": "cc43fdaf",
   "metadata": {
    "papermill": {
     "duration": 0.001252,
     "end_time": "2025-02-22T22:41:53.754988",
     "exception": false,
     "start_time": "2025-02-22T22:41:53.753736",
     "status": "completed"
    },
    "tags": []
   },
   "source": [
    "Below are the list of packages required to successfully run the analysis. They are divided into partitions to signify their specific task.<br>\n",
    "We need the pathlib package for working with files and folders"
   ]
  },
  {
   "cell_type": "code",
   "execution_count": 1,
   "id": "014be844",
   "metadata": {
    "execution": {
     "iopub.execute_input": "2025-02-22T22:41:53.758142Z",
     "iopub.status.busy": "2025-02-22T22:41:53.758023Z",
     "iopub.status.idle": "2025-02-22T22:41:53.760661Z",
     "shell.execute_reply": "2025-02-22T22:41:53.760164Z"
    },
    "papermill": {
     "duration": 0.00495,
     "end_time": "2025-02-22T22:41:53.761229",
     "exception": false,
     "start_time": "2025-02-22T22:41:53.756279",
     "status": "completed"
    },
    "tags": []
   },
   "outputs": [],
   "source": [
    "from pathlib import Path\n",
    "import json"
   ]
  },
  {
   "cell_type": "markdown",
   "id": "2647251d",
   "metadata": {
    "papermill": {
     "duration": 0.001289,
     "end_time": "2025-02-22T22:41:53.763841",
     "exception": false,
     "start_time": "2025-02-22T22:41:53.762552",
     "status": "completed"
    },
    "tags": []
   },
   "source": [
    "Load libraries for analysis and visualization:"
   ]
  },
  {
   "cell_type": "code",
   "execution_count": 2,
   "id": "c1ed49d5",
   "metadata": {
    "execution": {
     "iopub.execute_input": "2025-02-22T22:41:53.766889Z",
     "iopub.status.busy": "2025-02-22T22:41:53.766809Z",
     "iopub.status.idle": "2025-02-22T22:41:54.230648Z",
     "shell.execute_reply": "2025-02-22T22:41:54.230358Z"
    },
    "lines_to_next_cell": 2,
    "papermill": {
     "duration": 0.46641,
     "end_time": "2025-02-22T22:41:54.231548",
     "exception": false,
     "start_time": "2025-02-22T22:41:53.765138",
     "status": "completed"
    },
    "tags": []
   },
   "outputs": [],
   "source": [
    "import numpy as np\n",
    "import seaborn as sns\n",
    "import matplotlib.pyplot as plt"
   ]
  },
  {
   "cell_type": "markdown",
   "id": "0586a019",
   "metadata": {
    "papermill": {
     "duration": 0.00884,
     "end_time": "2025-02-22T22:41:54.242000",
     "exception": false,
     "start_time": "2025-02-22T22:41:54.233160",
     "status": "completed"
    },
    "tags": []
   },
   "source": [
    "Import the LensKit metrics for analysis:"
   ]
  },
  {
   "cell_type": "code",
   "execution_count": 3,
   "id": "1760b3f8",
   "metadata": {
    "execution": {
     "iopub.execute_input": "2025-02-22T22:41:54.245343Z",
     "iopub.status.busy": "2025-02-22T22:41:54.245196Z",
     "iopub.status.idle": "2025-02-22T22:41:54.870616Z",
     "shell.execute_reply": "2025-02-22T22:41:54.870357Z"
    },
    "papermill": {
     "duration": 0.627834,
     "end_time": "2025-02-22T22:41:54.871312",
     "exception": false,
     "start_time": "2025-02-22T22:41:54.243478",
     "status": "completed"
    },
    "tags": []
   },
   "outputs": [],
   "source": [
    "from lenskit.data import Dataset, ItemListCollection\n",
    "from lenskit.metrics import RunAnalysis, RMSE, NDCG, RecipRank, RBP"
   ]
  },
  {
   "cell_type": "code",
   "execution_count": 4,
   "id": "8ad8a9b5",
   "metadata": {
    "execution": {
     "iopub.execute_input": "2025-02-22T22:41:54.882517Z",
     "iopub.status.busy": "2025-02-22T22:41:54.882418Z",
     "iopub.status.idle": "2025-02-22T22:41:54.885053Z",
     "shell.execute_reply": "2025-02-22T22:41:54.884867Z"
    },
    "papermill": {
     "duration": 0.01304,
     "end_time": "2025-02-22T22:41:54.885971",
     "exception": false,
     "start_time": "2025-02-22T22:41:54.872931",
     "status": "completed"
    },
    "tags": []
   },
   "outputs": [],
   "source": [
    "from lkdemo.datasets import split_fraction"
   ]
  },
  {
   "cell_type": "markdown",
   "id": "e4db960e",
   "metadata": {
    "papermill": {
     "duration": 0.002521,
     "end_time": "2025-02-22T22:41:54.891160",
     "exception": false,
     "start_time": "2025-02-22T22:41:54.888639",
     "status": "completed"
    },
    "tags": []
   },
   "source": [
    "## Load Data\n",
    "\n",
    "The recommendations are in `runs`, and we will need to reassemble the test data from `test`."
   ]
  },
  {
   "cell_type": "code",
   "execution_count": 5,
   "id": "f0b0bb95",
   "metadata": {
    "execution": {
     "iopub.execute_input": "2025-02-22T22:41:54.896825Z",
     "iopub.status.busy": "2025-02-22T22:41:54.896698Z",
     "iopub.status.idle": "2025-02-22T22:41:54.898036Z",
     "shell.execute_reply": "2025-02-22T22:41:54.897863Z"
    },
    "papermill": {
     "duration": 0.005016,
     "end_time": "2025-02-22T22:41:54.898727",
     "exception": false,
     "start_time": "2025-02-22T22:41:54.893711",
     "status": "completed"
    },
    "tags": [
     "parameters"
    ]
   },
   "outputs": [],
   "source": [
    "dataset = \"ml-100k\""
   ]
  },
  {
   "cell_type": "code",
   "execution_count": 6,
   "id": "d8a82635",
   "metadata": {
    "execution": {
     "iopub.execute_input": "2025-02-22T22:41:54.904393Z",
     "iopub.status.busy": "2025-02-22T22:41:54.904276Z",
     "iopub.status.idle": "2025-02-22T22:41:54.905513Z",
     "shell.execute_reply": "2025-02-22T22:41:54.905348Z"
    },
    "papermill": {
     "duration": 0.004729,
     "end_time": "2025-02-22T22:41:54.906123",
     "exception": false,
     "start_time": "2025-02-22T22:41:54.901394",
     "status": "completed"
    },
    "tags": [
     "injected-parameters"
    ]
   },
   "outputs": [],
   "source": [
    "# Parameters\n",
    "dataset = \"ml-25m\"\n"
   ]
  },
  {
   "cell_type": "code",
   "execution_count": 7,
   "id": "bb15507d",
   "metadata": {
    "execution": {
     "iopub.execute_input": "2025-02-22T22:41:54.911871Z",
     "iopub.status.busy": "2025-02-22T22:41:54.911802Z",
     "iopub.status.idle": "2025-02-22T22:41:54.913189Z",
     "shell.execute_reply": "2025-02-22T22:41:54.913025Z"
    },
    "papermill": {
     "duration": 0.004979,
     "end_time": "2025-02-22T22:41:54.913773",
     "exception": false,
     "start_time": "2025-02-22T22:41:54.908794",
     "status": "completed"
    },
    "tags": []
   },
   "outputs": [],
   "source": [
    "output_root = Path(\"runs\")"
   ]
  },
  {
   "cell_type": "code",
   "execution_count": 8,
   "id": "ecff58cf",
   "metadata": {
    "execution": {
     "iopub.execute_input": "2025-02-22T22:41:54.919516Z",
     "iopub.status.busy": "2025-02-22T22:41:54.919398Z",
     "iopub.status.idle": "2025-02-22T22:41:54.920921Z",
     "shell.execute_reply": "2025-02-22T22:41:54.920759Z"
    },
    "papermill": {
     "duration": 0.00512,
     "end_time": "2025-02-22T22:41:54.921552",
     "exception": false,
     "start_time": "2025-02-22T22:41:54.916432",
     "status": "completed"
    },
    "tags": []
   },
   "outputs": [],
   "source": [
    "dirs = [fld for fld in output_root.glob(f'{dataset}-*')]"
   ]
  },
  {
   "cell_type": "code",
   "execution_count": 9,
   "id": "98ec44f8",
   "metadata": {
    "execution": {
     "iopub.execute_input": "2025-02-22T22:41:54.925314Z",
     "iopub.status.busy": "2025-02-22T22:41:54.925217Z",
     "iopub.status.idle": "2025-02-22T22:41:59.642102Z",
     "shell.execute_reply": "2025-02-22T22:41:59.641644Z"
    },
    "papermill": {
     "duration": 4.719419,
     "end_time": "2025-02-22T22:41:59.642971",
     "exception": false,
     "start_time": "2025-02-22T22:41:54.923552",
     "status": "completed"
    },
    "tags": []
   },
   "outputs": [],
   "source": [
    "recs = ItemListCollection(['model', 'user_id'], index=False)\n",
    "for fld in dirs:\n",
    "    for file in fld.glob(\"recs-*\"):\n",
    "        rec = ItemListCollection.load_parquet(file)\n",
    "        recs.add_from(rec, model=fld.name.split(\"-\")[-1])"
   ]
  },
  {
   "cell_type": "code",
   "execution_count": 10,
   "id": "16052016",
   "metadata": {
    "execution": {
     "iopub.execute_input": "2025-02-22T22:41:59.654222Z",
     "iopub.status.busy": "2025-02-22T22:41:59.654139Z",
     "iopub.status.idle": "2025-02-22T22:41:59.674817Z",
     "shell.execute_reply": "2025-02-22T22:41:59.674654Z"
    },
    "papermill": {
     "duration": 0.030669,
     "end_time": "2025-02-22T22:41:59.675469",
     "exception": false,
     "start_time": "2025-02-22T22:41:59.644800",
     "status": "completed"
    },
    "tags": []
   },
   "outputs": [
    {
     "data": {
      "text/plain": [
       "['ALS', 'Bias', 'IALS', 'IIE', 'III', 'Pop', 'UUE']"
      ]
     },
     "execution_count": 10,
     "metadata": {},
     "output_type": "execute_result"
    }
   ],
   "source": [
    "rec_algos = sorted(set(a for (a, _u) in recs.keys()))\n",
    "rec_algos"
   ]
  },
  {
   "cell_type": "code",
   "execution_count": 11,
   "id": "b44ae566",
   "metadata": {
    "execution": {
     "iopub.execute_input": "2025-02-22T22:41:59.679076Z",
     "iopub.status.busy": "2025-02-22T22:41:59.678980Z",
     "iopub.status.idle": "2025-02-22T22:42:04.166179Z",
     "shell.execute_reply": "2025-02-22T22:42:04.165936Z"
    },
    "papermill": {
     "duration": 4.489918,
     "end_time": "2025-02-22T22:42:04.167000",
     "exception": false,
     "start_time": "2025-02-22T22:41:59.677082",
     "status": "completed"
    },
    "tags": []
   },
   "outputs": [],
   "source": [
    "preds = ItemListCollection(['model', 'user_id'], index=False)\n",
    "for fld in dirs:\n",
    "    for file in fld.glob(\"pred-*\"):\n",
    "        pred = ItemListCollection.load_parquet(file)\n",
    "        preds.add_from(pred, model=fld.name.split(\"-\")[-1])"
   ]
  },
  {
   "cell_type": "markdown",
   "id": "c3d9a53d",
   "metadata": {
    "papermill": {
     "duration": 0.00874,
     "end_time": "2025-02-22T22:42:04.177543",
     "exception": false,
     "start_time": "2025-02-22T22:42:04.168803",
     "status": "completed"
    },
    "tags": []
   },
   "source": [
    "We need to load the test data so that we have the ground truths for computing accuracy."
   ]
  },
  {
   "cell_type": "code",
   "execution_count": 12,
   "id": "f617082d",
   "metadata": {
    "execution": {
     "iopub.execute_input": "2025-02-22T22:42:04.181091Z",
     "iopub.status.busy": "2025-02-22T22:42:04.180829Z",
     "iopub.status.idle": "2025-02-22T22:42:08.155937Z",
     "shell.execute_reply": "2025-02-22T22:42:08.155633Z"
    },
    "papermill": {
     "duration": 3.977731,
     "end_time": "2025-02-22T22:42:08.156741",
     "exception": false,
     "start_time": "2025-02-22T22:42:04.179010",
     "status": "completed"
    },
    "tags": []
   },
   "outputs": [],
   "source": [
    "data = Dataset.load(f\"data/{dataset}\")\n",
    "split = split_fraction(data, 0.2)\n",
    "test = split.test"
   ]
  },
  {
   "cell_type": "markdown",
   "id": "1211178a",
   "metadata": {
    "papermill": {
     "duration": 0.009172,
     "end_time": "2025-02-22T22:42:08.167713",
     "exception": false,
     "start_time": "2025-02-22T22:42:08.158541",
     "status": "completed"
    },
    "tags": []
   },
   "source": [
    "And identify users in the training set, so we only report metrics over them."
   ]
  },
  {
   "cell_type": "code",
   "execution_count": 13,
   "id": "ea5fd212",
   "metadata": {
    "execution": {
     "iopub.execute_input": "2025-02-22T22:42:08.171153Z",
     "iopub.status.busy": "2025-02-22T22:42:08.171042Z",
     "iopub.status.idle": "2025-02-22T22:42:09.852986Z",
     "shell.execute_reply": "2025-02-22T22:42:09.852588Z"
    },
    "papermill": {
     "duration": 1.68457,
     "end_time": "2025-02-22T22:42:09.853794",
     "exception": false,
     "start_time": "2025-02-22T22:42:08.169224",
     "status": "completed"
    },
    "tags": []
   },
   "outputs": [],
   "source": [
    "train_users = split.train.user_stats()\n",
    "train_users = train_users[train_users['rating_count'] > 0]"
   ]
  },
  {
   "cell_type": "markdown",
   "id": "e8ca3779",
   "metadata": {
    "papermill": {
     "duration": 0.008899,
     "end_time": "2025-02-22T22:42:09.864581",
     "exception": false,
     "start_time": "2025-02-22T22:42:09.855682",
     "status": "completed"
    },
    "tags": []
   },
   "source": [
    "## Top-N Metrics\n",
    "\n",
    "`RunListAnalysis` computes metrics for recommendation results and takes care of\n",
    "matching recommendations and ground truth."
   ]
  },
  {
   "cell_type": "code",
   "execution_count": 14,
   "id": "7012260e",
   "metadata": {
    "execution": {
     "iopub.execute_input": "2025-02-22T22:42:09.868116Z",
     "iopub.status.busy": "2025-02-22T22:42:09.867998Z",
     "iopub.status.idle": "2025-02-22T22:42:29.833676Z",
     "shell.execute_reply": "2025-02-22T22:42:29.833502Z"
    },
    "papermill": {
     "duration": 19.968008,
     "end_time": "2025-02-22T22:42:29.834108",
     "exception": false,
     "start_time": "2025-02-22T22:42:09.866100",
     "status": "completed"
    },
    "tags": []
   },
   "outputs": [
    {
     "name": "stderr",
     "output_type": "stream",
     "text": [
      "/home/mde48/lenskit/lk-demo-experiment/.venv/lib/python3.13/site-packages/lenskit/metrics/bulk.py:127: FutureWarning: The previous implementation of stack is deprecated and will be removed in a future version of pandas. See the What's New notes for pandas 2.1.0 for details. Specify future_stack=True to adopt the new implementation and silence this warning.\n",
      "  df = scores.groupby(list(keys)).agg([\"mean\", \"median\", \"std\"]).stack(level=0)\n"
     ]
    },
    {
     "data": {
      "text/html": [
       "<div>\n",
       "<style scoped>\n",
       "    .dataframe tbody tr th:only-of-type {\n",
       "        vertical-align: middle;\n",
       "    }\n",
       "\n",
       "    .dataframe tbody tr th {\n",
       "        vertical-align: top;\n",
       "    }\n",
       "\n",
       "    .dataframe thead th {\n",
       "        text-align: right;\n",
       "    }\n",
       "</style>\n",
       "<table border=\"1\" class=\"dataframe\">\n",
       "  <thead>\n",
       "    <tr style=\"text-align: right;\">\n",
       "      <th></th>\n",
       "      <th></th>\n",
       "      <th>mean</th>\n",
       "      <th>median</th>\n",
       "      <th>std</th>\n",
       "    </tr>\n",
       "    <tr>\n",
       "      <th>model</th>\n",
       "      <th></th>\n",
       "      <th></th>\n",
       "      <th></th>\n",
       "      <th></th>\n",
       "    </tr>\n",
       "  </thead>\n",
       "  <tbody>\n",
       "    <tr>\n",
       "      <th rowspan=\"3\" valign=\"top\">ALS</th>\n",
       "      <th>NDCG</th>\n",
       "      <td>0.137630</td>\n",
       "      <td>0.109051</td>\n",
       "      <td>0.123323</td>\n",
       "    </tr>\n",
       "    <tr>\n",
       "      <th>RBP</th>\n",
       "      <td>0.236228</td>\n",
       "      <td>0.181184</td>\n",
       "      <td>0.231968</td>\n",
       "    </tr>\n",
       "    <tr>\n",
       "      <th>RecipRank</th>\n",
       "      <td>0.570788</td>\n",
       "      <td>1.000000</td>\n",
       "      <td>0.451005</td>\n",
       "    </tr>\n",
       "    <tr>\n",
       "      <th rowspan=\"3\" valign=\"top\">Bias</th>\n",
       "      <th>NDCG</th>\n",
       "      <td>0.141648</td>\n",
       "      <td>0.112519</td>\n",
       "      <td>0.122777</td>\n",
       "    </tr>\n",
       "    <tr>\n",
       "      <th>RBP</th>\n",
       "      <td>0.244745</td>\n",
       "      <td>0.184198</td>\n",
       "      <td>0.229842</td>\n",
       "    </tr>\n",
       "    <tr>\n",
       "      <th>RecipRank</th>\n",
       "      <td>0.595578</td>\n",
       "      <td>1.000000</td>\n",
       "      <td>0.443768</td>\n",
       "    </tr>\n",
       "    <tr>\n",
       "      <th rowspan=\"3\" valign=\"top\">IALS</th>\n",
       "      <th>NDCG</th>\n",
       "      <td>0.034277</td>\n",
       "      <td>0.011810</td>\n",
       "      <td>0.071200</td>\n",
       "    </tr>\n",
       "    <tr>\n",
       "      <th>RBP</th>\n",
       "      <td>0.031878</td>\n",
       "      <td>0.000192</td>\n",
       "      <td>0.109555</td>\n",
       "    </tr>\n",
       "    <tr>\n",
       "      <th>RecipRank</th>\n",
       "      <td>0.072360</td>\n",
       "      <td>0.023810</td>\n",
       "      <td>0.190875</td>\n",
       "    </tr>\n",
       "    <tr>\n",
       "      <th rowspan=\"3\" valign=\"top\">IIE</th>\n",
       "      <th>NDCG</th>\n",
       "      <td>0.000570</td>\n",
       "      <td>0.000000</td>\n",
       "      <td>0.006423</td>\n",
       "    </tr>\n",
       "    <tr>\n",
       "      <th>RBP</th>\n",
       "      <td>0.000442</td>\n",
       "      <td>0.000000</td>\n",
       "      <td>0.009220</td>\n",
       "    </tr>\n",
       "    <tr>\n",
       "      <th>RecipRank</th>\n",
       "      <td>0.001545</td>\n",
       "      <td>0.000000</td>\n",
       "      <td>0.022866</td>\n",
       "    </tr>\n",
       "    <tr>\n",
       "      <th rowspan=\"3\" valign=\"top\">III</th>\n",
       "      <th>NDCG</th>\n",
       "      <td>0.024112</td>\n",
       "      <td>0.000000</td>\n",
       "      <td>0.071844</td>\n",
       "    </tr>\n",
       "    <tr>\n",
       "      <th>RBP</th>\n",
       "      <td>0.032646</td>\n",
       "      <td>0.000000</td>\n",
       "      <td>0.119159</td>\n",
       "    </tr>\n",
       "    <tr>\n",
       "      <th>RecipRank</th>\n",
       "      <td>0.063854</td>\n",
       "      <td>0.000000</td>\n",
       "      <td>0.213654</td>\n",
       "    </tr>\n",
       "    <tr>\n",
       "      <th rowspan=\"3\" valign=\"top\">Pop</th>\n",
       "      <th>NDCG</th>\n",
       "      <td>0.221063</td>\n",
       "      <td>0.204585</td>\n",
       "      <td>0.148566</td>\n",
       "    </tr>\n",
       "    <tr>\n",
       "      <th>RBP</th>\n",
       "      <td>0.372182</td>\n",
       "      <td>0.342790</td>\n",
       "      <td>0.280415</td>\n",
       "    </tr>\n",
       "    <tr>\n",
       "      <th>RecipRank</th>\n",
       "      <td>0.601185</td>\n",
       "      <td>0.500000</td>\n",
       "      <td>0.398991</td>\n",
       "    </tr>\n",
       "    <tr>\n",
       "      <th rowspan=\"3\" valign=\"top\">UUE</th>\n",
       "      <th>NDCG</th>\n",
       "      <td>0.000106</td>\n",
       "      <td>0.000000</td>\n",
       "      <td>0.001421</td>\n",
       "    </tr>\n",
       "    <tr>\n",
       "      <th>RBP</th>\n",
       "      <td>0.000188</td>\n",
       "      <td>0.000000</td>\n",
       "      <td>0.004169</td>\n",
       "    </tr>\n",
       "    <tr>\n",
       "      <th>RecipRank</th>\n",
       "      <td>0.000854</td>\n",
       "      <td>0.000000</td>\n",
       "      <td>0.017774</td>\n",
       "    </tr>\n",
       "  </tbody>\n",
       "</table>\n",
       "</div>"
      ],
      "text/plain": [
       "                     mean    median       std\n",
       "model                                        \n",
       "ALS   NDCG       0.137630  0.109051  0.123323\n",
       "      RBP        0.236228  0.181184  0.231968\n",
       "      RecipRank  0.570788  1.000000  0.451005\n",
       "Bias  NDCG       0.141648  0.112519  0.122777\n",
       "      RBP        0.244745  0.184198  0.229842\n",
       "      RecipRank  0.595578  1.000000  0.443768\n",
       "IALS  NDCG       0.034277  0.011810  0.071200\n",
       "      RBP        0.031878  0.000192  0.109555\n",
       "      RecipRank  0.072360  0.023810  0.190875\n",
       "IIE   NDCG       0.000570  0.000000  0.006423\n",
       "      RBP        0.000442  0.000000  0.009220\n",
       "      RecipRank  0.001545  0.000000  0.022866\n",
       "III   NDCG       0.024112  0.000000  0.071844\n",
       "      RBP        0.032646  0.000000  0.119159\n",
       "      RecipRank  0.063854  0.000000  0.213654\n",
       "Pop   NDCG       0.221063  0.204585  0.148566\n",
       "      RBP        0.372182  0.342790  0.280415\n",
       "      RecipRank  0.601185  0.500000  0.398991\n",
       "UUE   NDCG       0.000106  0.000000  0.001421\n",
       "      RBP        0.000188  0.000000  0.004169\n",
       "      RecipRank  0.000854  0.000000  0.017774"
      ]
     },
     "execution_count": 14,
     "metadata": {},
     "output_type": "execute_result"
    }
   ],
   "source": [
    "ra = RunAnalysis()\n",
    "\n",
    "ra.add_metric(NDCG())\n",
    "ra.add_metric(RecipRank())\n",
    "ra.add_metric(RBP())\n",
    "\n",
    "rec_results = ra.compute(recs, test)\n",
    "rec_results.list_summary('model')"
   ]
  },
  {
   "cell_type": "markdown",
   "id": "3f0d53d0",
   "metadata": {
    "papermill": {
     "duration": 0.008849,
     "end_time": "2025-02-22T22:42:29.846066",
     "exception": false,
     "start_time": "2025-02-22T22:42:29.837217",
     "status": "completed"
    },
    "tags": []
   },
   "source": [
    "We can reshape the list metrics and plot them, after filtering to only users with at least 1 training rating:"
   ]
  },
  {
   "cell_type": "code",
   "execution_count": 15,
   "id": "502397c1",
   "metadata": {
    "execution": {
     "iopub.execute_input": "2025-02-22T22:42:29.849687Z",
     "iopub.status.busy": "2025-02-22T22:42:29.849606Z",
     "iopub.status.idle": "2025-02-22T22:42:30.570250Z",
     "shell.execute_reply": "2025-02-22T22:42:30.569900Z"
    },
    "papermill": {
     "duration": 0.723152,
     "end_time": "2025-02-22T22:42:30.570800",
     "exception": false,
     "start_time": "2025-02-22T22:42:29.847648",
     "status": "completed"
    },
    "tags": []
   },
   "outputs": [
    {
     "data": {
      "image/png": "[encoded data removed]",
      "text/plain": [
       "<Figure size 1511.11x500 with 3 Axes>"
      ]
     },
     "metadata": {},
     "output_type": "display_data"
    }
   ],
   "source": [
    "metrics = rec_results.list_metrics()\n",
    "metrics = metrics.melt(var_name='metric', ignore_index=False).reset_index()\n",
    "metrics = metrics[metrics['user_id'].isin(train_users.index)]\n",
    "sns.catplot(metrics, x='model', y='value', col='metric', kind='bar')\n",
    "plt.show()"
   ]
  },
  {
   "cell_type": "markdown",
   "id": "d1c9fd07",
   "metadata": {
    "papermill": {
     "duration": 0.009164,
     "end_time": "2025-02-22T22:42:30.581899",
     "exception": false,
     "start_time": "2025-02-22T22:42:30.572735",
     "status": "completed"
    },
    "tags": []
   },
   "source": [
    "Let's look at the influence of training ratings on performance, clamping 15+ into a single category:"
   ]
  },
  {
   "cell_type": "code",
   "execution_count": 16,
   "id": "2c606bcf",
   "metadata": {
    "execution": {
     "iopub.execute_input": "2025-02-22T22:42:30.585567Z",
     "iopub.status.busy": "2025-02-22T22:42:30.585479Z",
     "iopub.status.idle": "2025-02-22T22:42:31.789313Z",
     "shell.execute_reply": "2025-02-22T22:42:31.789111Z"
    },
    "papermill": {
     "duration": 1.206309,
     "end_time": "2025-02-22T22:42:31.789887",
     "exception": false,
     "start_time": "2025-02-22T22:42:30.583578",
     "status": "completed"
    },
    "tags": []
   },
   "outputs": [
    {
     "data": {
      "image/png": "[encoded data removed]",
      "text/plain": [
       "<Figure size 640x480 with 1 Axes>"
      ]
     },
     "metadata": {},
     "output_type": "display_data"
    }
   ],
   "source": [
    "tcounts = split.train.user_stats()['rating_count'].copy()\n",
    "tcounts[tcounts > 15] = 15\n",
    "metrics = rec_results.list_metrics().reset_index().join(tcounts, on='user_id')\n",
    "sns.lineplot(metrics, x='rating_count', y='NDCG', hue='model', errorbar='ci')\n",
    "plt.xlabel('# of Training Ratings')\n",
    "rc_ticks = np.arange(0, 16, 3)\n",
    "plt.xticks(rc_ticks, rc_ticks[:-1].tolist() + ['15+'])\n",
    "plt.show()"
   ]
  },
  {
   "cell_type": "markdown",
   "id": "ed6e858c",
   "metadata": {
    "papermill": {
     "duration": 0.009022,
     "end_time": "2025-02-22T22:42:31.801151",
     "exception": false,
     "start_time": "2025-02-22T22:42:31.792129",
     "status": "completed"
    },
    "tags": []
   },
   "source": [
    "## Prediction RMSE\n",
    "\n",
    "We will also look at the prediction RMSE."
   ]
  },
  {
   "cell_type": "code",
   "execution_count": 17,
   "id": "b1f49098",
   "metadata": {
    "execution": {
     "iopub.execute_input": "2025-02-22T22:42:31.805457Z",
     "iopub.status.busy": "2025-02-22T22:42:31.805350Z",
     "iopub.status.idle": "2025-02-22T22:42:51.263999Z",
     "shell.execute_reply": "2025-02-22T22:42:51.263808Z"
    },
    "papermill": {
     "duration": 19.461425,
     "end_time": "2025-02-22T22:42:51.264530",
     "exception": false,
     "start_time": "2025-02-22T22:42:31.803105",
     "status": "completed"
    },
    "tags": []
   },
   "outputs": [
    {
     "name": "stderr",
     "output_type": "stream",
     "text": [
      "/home/mde48/lenskit/lk-demo-experiment/.venv/lib/python3.13/site-packages/lenskit/metrics/bulk.py:127: FutureWarning: The previous implementation of stack is deprecated and will be removed in a future version of pandas. See the What's New notes for pandas 2.1.0 for details. Specify future_stack=True to adopt the new implementation and silence this warning.\n",
      "  df = scores.groupby(list(keys)).agg([\"mean\", \"median\", \"std\"]).stack(level=0)\n"
     ]
    },
    {
     "data": {
      "text/html": [
       "<div>\n",
       "<style scoped>\n",
       "    .dataframe tbody tr th:only-of-type {\n",
       "        vertical-align: middle;\n",
       "    }\n",
       "\n",
       "    .dataframe tbody tr th {\n",
       "        vertical-align: top;\n",
       "    }\n",
       "\n",
       "    .dataframe thead th {\n",
       "        text-align: right;\n",
       "    }\n",
       "</style>\n",
       "<table border=\"1\" class=\"dataframe\">\n",
       "  <thead>\n",
       "    <tr style=\"text-align: right;\">\n",
       "      <th></th>\n",
       "      <th></th>\n",
       "      <th>mean</th>\n",
       "      <th>median</th>\n",
       "      <th>std</th>\n",
       "    </tr>\n",
       "    <tr>\n",
       "      <th>model</th>\n",
       "      <th></th>\n",
       "      <th></th>\n",
       "      <th></th>\n",
       "      <th></th>\n",
       "    </tr>\n",
       "  </thead>\n",
       "  <tbody>\n",
       "    <tr>\n",
       "      <th>ALS</th>\n",
       "      <th>RMSE</th>\n",
       "      <td>0.934057</td>\n",
       "      <td>0.879421</td>\n",
       "      <td>0.340821</td>\n",
       "    </tr>\n",
       "    <tr>\n",
       "      <th>Bias</th>\n",
       "      <th>RMSE</th>\n",
       "      <td>0.939226</td>\n",
       "      <td>0.883568</td>\n",
       "      <td>0.340386</td>\n",
       "    </tr>\n",
       "    <tr>\n",
       "      <th>IIE</th>\n",
       "      <th>RMSE</th>\n",
       "      <td>0.943959</td>\n",
       "      <td>0.888869</td>\n",
       "      <td>0.341722</td>\n",
       "    </tr>\n",
       "    <tr>\n",
       "      <th>UUE</th>\n",
       "      <th>RMSE</th>\n",
       "      <td>0.946682</td>\n",
       "      <td>0.891274</td>\n",
       "      <td>0.340916</td>\n",
       "    </tr>\n",
       "  </tbody>\n",
       "</table>\n",
       "</div>"
      ],
      "text/plain": [
       "                mean    median       std\n",
       "model                                   \n",
       "ALS   RMSE  0.934057  0.879421  0.340821\n",
       "Bias  RMSE  0.939226  0.883568  0.340386\n",
       "IIE   RMSE  0.943959  0.888869  0.341722\n",
       "UUE   RMSE  0.946682  0.891274  0.340916"
      ]
     },
     "execution_count": 17,
     "metadata": {},
     "output_type": "execute_result"
    }
   ],
   "source": [
    "pa = RunAnalysis()\n",
    "\n",
    "pa.add_metric(RMSE(missing_scores='ignore', missing_truth='ignore'))\n",
    "\n",
    "pred_results = pa.compute(preds, test)\n",
    "pred_results.list_summary('model')"
   ]
  },
  {
   "cell_type": "code",
   "execution_count": 18,
   "id": "550b1e9e",
   "metadata": {
    "execution": {
     "iopub.execute_input": "2025-02-22T22:42:51.276304Z",
     "iopub.status.busy": "2025-02-22T22:42:51.276195Z",
     "iopub.status.idle": "2025-02-22T22:42:51.429809Z",
     "shell.execute_reply": "2025-02-22T22:42:51.429463Z"
    },
    "papermill": {
     "duration": 0.163548,
     "end_time": "2025-02-22T22:42:51.430380",
     "exception": false,
     "start_time": "2025-02-22T22:42:51.266832",
     "status": "completed"
    },
    "tags": []
   },
   "outputs": [
    {
     "data": {
      "image/png": "[encoded data removed]",
      "text/plain": [
       "<Figure size 511.111x500 with 1 Axes>"
      ]
     },
     "metadata": {},
     "output_type": "display_data"
    }
   ],
   "source": [
    "pred_metrics = pred_results.list_metrics().reset_index()\n",
    "pred_metrics = pred_metrics[pred_metrics['user_id'].isin(train_users.index)]\n",
    "sns.catplot(pred_metrics, x='model', y='RMSE', kind='bar')\n",
    "plt.show()"
   ]
  },
  {
   "cell_type": "markdown",
   "id": "d87127d7",
   "metadata": {
    "papermill": {
     "duration": 0.009175,
     "end_time": "2025-02-22T22:42:51.441781",
     "exception": false,
     "start_time": "2025-02-22T22:42:51.432606",
     "status": "completed"
    },
    "tags": []
   },
   "source": [
    "## Save Metrics\n",
    "\n",
    "We'll now save the metrics to a file."
   ]
  },
  {
   "cell_type": "code",
   "execution_count": 19,
   "id": "c022814e",
   "metadata": {
    "execution": {
     "iopub.execute_input": "2025-02-22T22:42:51.446503Z",
     "iopub.status.busy": "2025-02-22T22:42:51.446411Z",
     "iopub.status.idle": "2025-02-22T22:42:51.468004Z",
     "shell.execute_reply": "2025-02-22T22:42:51.467834Z"
    },
    "papermill": {
     "duration": 0.024493,
     "end_time": "2025-02-22T22:42:51.468400",
     "exception": false,
     "start_time": "2025-02-22T22:42:51.443907",
     "status": "completed"
    },
    "tags": []
   },
   "outputs": [
    {
     "name": "stderr",
     "output_type": "stream",
     "text": [
      "/home/mde48/lenskit/lk-demo-experiment/.venv/lib/python3.13/site-packages/lenskit/metrics/bulk.py:127: FutureWarning: The previous implementation of stack is deprecated and will be removed in a future version of pandas. See the What's New notes for pandas 2.1.0 for details. Specify future_stack=True to adopt the new implementation and silence this warning.\n",
      "  df = scores.groupby(list(keys)).agg([\"mean\", \"median\", \"std\"]).stack(level=0)\n"
     ]
    },
    {
     "data": {
      "text/html": [
       "<div>\n",
       "<style scoped>\n",
       "    .dataframe tbody tr th:only-of-type {\n",
       "        vertical-align: middle;\n",
       "    }\n",
       "\n",
       "    .dataframe tbody tr th {\n",
       "        vertical-align: top;\n",
       "    }\n",
       "\n",
       "    .dataframe thead th {\n",
       "        text-align: right;\n",
       "    }\n",
       "</style>\n",
       "<table border=\"1\" class=\"dataframe\">\n",
       "  <thead>\n",
       "    <tr style=\"text-align: right;\">\n",
       "      <th></th>\n",
       "      <th>NDCG</th>\n",
       "      <th>RBP</th>\n",
       "      <th>RecipRank</th>\n",
       "    </tr>\n",
       "    <tr>\n",
       "      <th>model</th>\n",
       "      <th></th>\n",
       "      <th></th>\n",
       "      <th></th>\n",
       "    </tr>\n",
       "  </thead>\n",
       "  <tbody>\n",
       "    <tr>\n",
       "      <th>ALS</th>\n",
       "      <td>0.137630</td>\n",
       "      <td>0.236228</td>\n",
       "      <td>0.570788</td>\n",
       "    </tr>\n",
       "    <tr>\n",
       "      <th>Bias</th>\n",
       "      <td>0.141648</td>\n",
       "      <td>0.244745</td>\n",
       "      <td>0.595578</td>\n",
       "    </tr>\n",
       "    <tr>\n",
       "      <th>IALS</th>\n",
       "      <td>0.034277</td>\n",
       "      <td>0.031878</td>\n",
       "      <td>0.072360</td>\n",
       "    </tr>\n",
       "    <tr>\n",
       "      <th>IIE</th>\n",
       "      <td>0.000570</td>\n",
       "      <td>0.000442</td>\n",
       "      <td>0.001545</td>\n",
       "    </tr>\n",
       "    <tr>\n",
       "      <th>III</th>\n",
       "      <td>0.024112</td>\n",
       "      <td>0.032646</td>\n",
       "      <td>0.063854</td>\n",
       "    </tr>\n",
       "    <tr>\n",
       "      <th>Pop</th>\n",
       "      <td>0.221063</td>\n",
       "      <td>0.372182</td>\n",
       "      <td>0.601185</td>\n",
       "    </tr>\n",
       "    <tr>\n",
       "      <th>UUE</th>\n",
       "      <td>0.000106</td>\n",
       "      <td>0.000188</td>\n",
       "      <td>0.000854</td>\n",
       "    </tr>\n",
       "  </tbody>\n",
       "</table>\n",
       "</div>"
      ],
      "text/plain": [
       "           NDCG       RBP  RecipRank\n",
       "model                               \n",
       "ALS    0.137630  0.236228   0.570788\n",
       "Bias   0.141648  0.244745   0.595578\n",
       "IALS   0.034277  0.031878   0.072360\n",
       "IIE    0.000570  0.000442   0.001545\n",
       "III    0.024112  0.032646   0.063854\n",
       "Pop    0.221063  0.372182   0.601185\n",
       "UUE    0.000106  0.000188   0.000854"
      ]
     },
     "execution_count": 19,
     "metadata": {},
     "output_type": "execute_result"
    }
   ],
   "source": [
    "rlsum = rec_results.list_summary('model')['mean'].unstack()\n",
    "rlsum"
   ]
  },
  {
   "cell_type": "code",
   "execution_count": 20,
   "id": "64a6ae31",
   "metadata": {
    "execution": {
     "iopub.execute_input": "2025-02-22T22:42:51.473158Z",
     "iopub.status.busy": "2025-02-22T22:42:51.473062Z",
     "iopub.status.idle": "2025-02-22T22:42:51.474912Z",
     "shell.execute_reply": "2025-02-22T22:42:51.474731Z"
    },
    "papermill": {
     "duration": 0.004692,
     "end_time": "2025-02-22T22:42:51.475359",
     "exception": false,
     "start_time": "2025-02-22T22:42:51.470667",
     "status": "completed"
    },
    "tags": []
   },
   "outputs": [],
   "source": [
    "rlsum.to_json(f'eval-metrics.{dataset}.json', orient='index')"
   ]
  }
 ],
 "metadata": {
  "jupytext": {
   "formats": "ipynb,md",
   "notebook_metadata_filter": "split_at_heading"
  },
  "kernelspec": {
   "display_name": ".venv",
   "language": "python",
   "name": "python3"
  },
  "language_info": {
   "codemirror_mode": {
    "name": "ipython",
    "version": 3
   },
   "file_extension": ".py",
   "mimetype": "text/x-python",
   "name": "python",
   "nbconvert_exporter": "python",
   "pygments_lexer": "ipython3",
   "version": "3.13.2"
  },
  "papermill": {
   "default_parameters": {},
   "duration": 59.874742,
   "end_time": "2025-02-22T22:42:52.994025",
   "environment_variables": {},
   "exception": null,
   "input_path": "eval-report.ipynb",
   "output_path": "eval-report.ml-25m.ipynb",
   "parameters": {
    "dataset": "ml-25m"
   },
   "start_time": "2025-02-22T22:41:53.119283",
   "version": "2.6.0"
  },
  "split_at_heading": true
 },
 "nbformat": 4,
 "nbformat_minor": 5
}