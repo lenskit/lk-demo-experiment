{
 "cells": [
  {
   "cell_type": "markdown",
   "id": "ca2a68d7",
   "metadata": {
    "papermill": {
     "duration": 0.010714,
     "end_time": "2025-02-22T22:26:46.668827",
     "exception": false,
     "start_time": "2025-02-22T22:26:46.658113",
     "status": "completed"
    },
    "tags": []
   },
   "source": [
    "# Evaluation Analysis for Recommender Output"
   ]
  },
  {
   "cell_type": "markdown",
   "id": "b63eda0c",
   "metadata": {
    "papermill": {
     "duration": 0.001266,
     "end_time": "2025-02-22T22:26:46.671497",
     "exception": false,
     "start_time": "2025-02-22T22:26:46.670231",
     "status": "completed"
    },
    "tags": []
   },
   "source": [
    "In this section we will analyze and compare the generated recommendations and predictions from a predefined list of algorithms with the goal of assessing the performance of each algorithm with respect to a metric. In other words, we would rank the algorithms for each metric considered with respect to performance."
   ]
  },
  {
   "cell_type": "markdown",
   "id": "36fb01ca",
   "metadata": {
    "papermill": {
     "duration": 0.001198,
     "end_time": "2025-02-22T22:26:46.673932",
     "exception": false,
     "start_time": "2025-02-22T22:26:46.672734",
     "status": "completed"
    },
    "tags": []
   },
   "source": [
    "## Setup"
   ]
  },
  {
   "cell_type": "markdown",
   "id": "21858d8a",
   "metadata": {
    "papermill": {
     "duration": 0.001285,
     "end_time": "2025-02-22T22:26:46.676401",
     "exception": false,
     "start_time": "2025-02-22T22:26:46.675116",
     "status": "completed"
    },
    "tags": []
   },
   "source": [
    "Below are the list of packages required to successfully run the analysis. They are divided into partitions to signify their specific task.<br>\n",
    "We need the pathlib package for working with files and folders"
   ]
  },
  {
   "cell_type": "code",
   "execution_count": 1,
   "id": "002c1a8e",
   "metadata": {
    "execution": {
     "iopub.execute_input": "2025-02-22T22:26:46.679572Z",
     "iopub.status.busy": "2025-02-22T22:26:46.679477Z",
     "iopub.status.idle": "2025-02-22T22:26:46.681666Z",
     "shell.execute_reply": "2025-02-22T22:26:46.681425Z"
    },
    "papermill": {
     "duration": 0.004505,
     "end_time": "2025-02-22T22:26:46.682142",
     "exception": false,
     "start_time": "2025-02-22T22:26:46.677637",
     "status": "completed"
    },
    "tags": []
   },
   "outputs": [],
   "source": [
    "from pathlib import Path\n",
    "import json"
   ]
  },
  {
   "cell_type": "markdown",
   "id": "d97e0d05",
   "metadata": {
    "papermill": {
     "duration": 0.001281,
     "end_time": "2025-02-22T22:26:46.684711",
     "exception": false,
     "start_time": "2025-02-22T22:26:46.683430",
     "status": "completed"
    },
    "tags": []
   },
   "source": [
    "Load libraries for analysis and visualization:"
   ]
  },
  {
   "cell_type": "code",
   "execution_count": 2,
   "id": "5dfaeefe",
   "metadata": {
    "execution": {
     "iopub.execute_input": "2025-02-22T22:26:46.687633Z",
     "iopub.status.busy": "2025-02-22T22:26:46.687531Z",
     "iopub.status.idle": "2025-02-22T22:26:47.163169Z",
     "shell.execute_reply": "2025-02-22T22:26:47.162769Z"
    },
    "lines_to_next_cell": 2,
    "papermill": {
     "duration": 0.477951,
     "end_time": "2025-02-22T22:26:47.163968",
     "exception": false,
     "start_time": "2025-02-22T22:26:46.686017",
     "status": "completed"
    },
    "tags": []
   },
   "outputs": [],
   "source": [
    "import seaborn as sns\n",
    "import matplotlib.pyplot as plt"
   ]
  },
  {
   "cell_type": "markdown",
   "id": "254c8bfe",
   "metadata": {
    "papermill": {
     "duration": 0.008948,
     "end_time": "2025-02-22T22:26:47.174472",
     "exception": false,
     "start_time": "2025-02-22T22:26:47.165524",
     "status": "completed"
    },
    "tags": []
   },
   "source": [
    "Import the LensKit metrics for analysis:"
   ]
  },
  {
   "cell_type": "code",
   "execution_count": 3,
   "id": "a1155fbc",
   "metadata": {
    "execution": {
     "iopub.execute_input": "2025-02-22T22:26:47.177722Z",
     "iopub.status.busy": "2025-02-22T22:26:47.177590Z",
     "iopub.status.idle": "2025-02-22T22:26:47.808226Z",
     "shell.execute_reply": "2025-02-22T22:26:47.807806Z"
    },
    "papermill": {
     "duration": 0.633126,
     "end_time": "2025-02-22T22:26:47.808943",
     "exception": false,
     "start_time": "2025-02-22T22:26:47.175817",
     "status": "completed"
    },
    "tags": []
   },
   "outputs": [],
   "source": [
    "from lenskit.data import Dataset, ItemListCollection\n",
    "from lenskit.metrics import RunAnalysis, RMSE, NDCG, RecipRank, RBP"
   ]
  },
  {
   "cell_type": "code",
   "execution_count": 4,
   "id": "43f2f0a9",
   "metadata": {
    "execution": {
     "iopub.execute_input": "2025-02-22T22:26:47.819805Z",
     "iopub.status.busy": "2025-02-22T22:26:47.819732Z",
     "iopub.status.idle": "2025-02-22T22:26:47.822867Z",
     "shell.execute_reply": "2025-02-22T22:26:47.822613Z"
    },
    "papermill": {
     "duration": 0.012772,
     "end_time": "2025-02-22T22:26:47.823235",
     "exception": false,
     "start_time": "2025-02-22T22:26:47.810463",
     "status": "completed"
    },
    "tags": []
   },
   "outputs": [],
   "source": [
    "from lkdemo.datasets import split_fraction"
   ]
  },
  {
   "cell_type": "markdown",
   "id": "35c34961",
   "metadata": {
    "papermill": {
     "duration": 0.001224,
     "end_time": "2025-02-22T22:26:47.825730",
     "exception": false,
     "start_time": "2025-02-22T22:26:47.824506",
     "status": "completed"
    },
    "tags": []
   },
   "source": [
    "## Load Data\n",
    "\n",
    "The recommendations are in `runs`, and we will need to reassemble the test data from `test`."
   ]
  },
  {
   "cell_type": "code",
   "execution_count": 5,
   "id": "3da98af4",
   "metadata": {
    "execution": {
     "iopub.execute_input": "2025-02-22T22:26:47.828882Z",
     "iopub.status.busy": "2025-02-22T22:26:47.828777Z",
     "iopub.status.idle": "2025-02-22T22:26:47.830264Z",
     "shell.execute_reply": "2025-02-22T22:26:47.830104Z"
    },
    "papermill": {
     "duration": 0.003595,
     "end_time": "2025-02-22T22:26:47.830666",
     "exception": false,
     "start_time": "2025-02-22T22:26:47.827071",
     "status": "completed"
    },
    "tags": [
     "parameters"
    ]
   },
   "outputs": [],
   "source": [
    "dataset = \"ml-100k\""
   ]
  },
  {
   "cell_type": "code",
   "execution_count": 6,
   "id": "00f7a397",
   "metadata": {
    "execution": {
     "iopub.execute_input": "2025-02-22T22:26:47.833703Z",
     "iopub.status.busy": "2025-02-22T22:26:47.833637Z",
     "iopub.status.idle": "2025-02-22T22:26:47.834884Z",
     "shell.execute_reply": "2025-02-22T22:26:47.834737Z"
    },
    "papermill": {
     "duration": 0.003213,
     "end_time": "2025-02-22T22:26:47.835249",
     "exception": false,
     "start_time": "2025-02-22T22:26:47.832036",
     "status": "completed"
    },
    "tags": [
     "injected-parameters"
    ]
   },
   "outputs": [],
   "source": [
    "# Parameters\n",
    "dataset = \"ml-25m\"\n"
   ]
  },
  {
   "cell_type": "code",
   "execution_count": 7,
   "id": "c9bbbdee",
   "metadata": {
    "execution": {
     "iopub.execute_input": "2025-02-22T22:26:47.838289Z",
     "iopub.status.busy": "2025-02-22T22:26:47.838221Z",
     "iopub.status.idle": "2025-02-22T22:26:47.839504Z",
     "shell.execute_reply": "2025-02-22T22:26:47.839348Z"
    },
    "papermill": {
     "duration": 0.003138,
     "end_time": "2025-02-22T22:26:47.839781",
     "exception": false,
     "start_time": "2025-02-22T22:26:47.836643",
     "status": "completed"
    },
    "tags": []
   },
   "outputs": [],
   "source": [
    "output_root = Path(\"runs\")"
   ]
  },
  {
   "cell_type": "code",
   "execution_count": 8,
   "id": "8e1bd83e",
   "metadata": {
    "execution": {
     "iopub.execute_input": "2025-02-22T22:26:47.842772Z",
     "iopub.status.busy": "2025-02-22T22:26:47.842705Z",
     "iopub.status.idle": "2025-02-22T22:26:47.844237Z",
     "shell.execute_reply": "2025-02-22T22:26:47.844081Z"
    },
    "papermill": {
     "duration": 0.003431,
     "end_time": "2025-02-22T22:26:47.844567",
     "exception": false,
     "start_time": "2025-02-22T22:26:47.841136",
     "status": "completed"
    },
    "tags": []
   },
   "outputs": [],
   "source": [
    "dirs = [fld for fld in output_root.glob(f'{dataset}-*')]"
   ]
  },
  {
   "cell_type": "code",
   "execution_count": 9,
   "id": "0b5febd9",
   "metadata": {
    "execution": {
     "iopub.execute_input": "2025-02-22T22:26:47.847571Z",
     "iopub.status.busy": "2025-02-22T22:26:47.847504Z",
     "iopub.status.idle": "2025-02-22T22:26:52.656159Z",
     "shell.execute_reply": "2025-02-22T22:26:52.655931Z"
    },
    "papermill": {
     "duration": 4.810914,
     "end_time": "2025-02-22T22:26:52.656847",
     "exception": false,
     "start_time": "2025-02-22T22:26:47.845933",
     "status": "completed"
    },
    "tags": []
   },
   "outputs": [],
   "source": [
    "recs = ItemListCollection(['model', 'user_id'], index=False)\n",
    "for fld in dirs:\n",
    "    for file in fld.glob(\"recs-*\"):\n",
    "        rec = ItemListCollection.load_parquet(file)\n",
    "        recs.add_from(rec, model=fld.name.split(\"-\")[-1])"
   ]
  },
  {
   "cell_type": "code",
   "execution_count": 10,
   "id": "4b06a7b5",
   "metadata": {
    "execution": {
     "iopub.execute_input": "2025-02-22T22:26:52.660240Z",
     "iopub.status.busy": "2025-02-22T22:26:52.660164Z",
     "iopub.status.idle": "2025-02-22T22:26:52.678288Z",
     "shell.execute_reply": "2025-02-22T22:26:52.678038Z"
    },
    "papermill": {
     "duration": 0.020186,
     "end_time": "2025-02-22T22:26:52.678657",
     "exception": false,
     "start_time": "2025-02-22T22:26:52.658471",
     "status": "completed"
    },
    "tags": []
   },
   "outputs": [
    {
     "data": {
      "text/plain": [
       "['ALS', 'Bias', 'IALS', 'IIE', 'III', 'Pop', 'UUE']"
      ]
     },
     "execution_count": 10,
     "metadata": {},
     "output_type": "execute_result"
    }
   ],
   "source": [
    "rec_algos = sorted(set(a for (a, _u) in recs.keys()))\n",
    "rec_algos"
   ]
  },
  {
   "cell_type": "code",
   "execution_count": 11,
   "id": "0fe9ffda",
   "metadata": {
    "execution": {
     "iopub.execute_input": "2025-02-22T22:26:52.682430Z",
     "iopub.status.busy": "2025-02-22T22:26:52.682185Z",
     "iopub.status.idle": "2025-02-22T22:26:57.345134Z",
     "shell.execute_reply": "2025-02-22T22:26:57.344567Z"
    },
    "papermill": {
     "duration": 4.665668,
     "end_time": "2025-02-22T22:26:57.345989",
     "exception": false,
     "start_time": "2025-02-22T22:26:52.680321",
     "status": "completed"
    },
    "tags": []
   },
   "outputs": [],
   "source": [
    "preds = ItemListCollection(['model', 'user_id'], index=False)\n",
    "for fld in dirs:\n",
    "    for file in fld.glob(\"pred-*\"):\n",
    "        pred = ItemListCollection.load_parquet(file)\n",
    "        preds.add_from(pred, model=fld.name.split(\"-\")[-1])"
   ]
  },
  {
   "cell_type": "markdown",
   "id": "afae618c",
   "metadata": {
    "papermill": {
     "duration": 0.009002,
     "end_time": "2025-02-22T22:26:57.356706",
     "exception": false,
     "start_time": "2025-02-22T22:26:57.347704",
     "status": "completed"
    },
    "tags": []
   },
   "source": [
    "We need to load the test data so that we have the ground truths for computing accuracy."
   ]
  },
  {
   "cell_type": "code",
   "execution_count": 12,
   "id": "01ecdf7b",
   "metadata": {
    "execution": {
     "iopub.execute_input": "2025-02-22T22:26:57.360151Z",
     "iopub.status.busy": "2025-02-22T22:26:57.360060Z",
     "iopub.status.idle": "2025-02-22T22:27:01.382952Z",
     "shell.execute_reply": "2025-02-22T22:27:01.382430Z"
    },
    "papermill": {
     "duration": 4.025584,
     "end_time": "2025-02-22T22:27:01.383735",
     "exception": false,
     "start_time": "2025-02-22T22:26:57.358151",
     "status": "completed"
    },
    "tags": []
   },
   "outputs": [],
   "source": [
    "data = Dataset.load(f\"data/{dataset}\")\n",
    "split = split_fraction(data, 0.2)\n",
    "test = split.test"
   ]
  },
  {
   "cell_type": "markdown",
   "id": "291700d9",
   "metadata": {
    "papermill": {
     "duration": 0.008855,
     "end_time": "2025-02-22T22:27:01.394213",
     "exception": false,
     "start_time": "2025-02-22T22:27:01.385358",
     "status": "completed"
    },
    "tags": []
   },
   "source": [
    "And identify users in the training set, so we only report metrics over them."
   ]
  },
  {
   "cell_type": "code",
   "execution_count": 13,
   "id": "acfdbd1c",
   "metadata": {
    "execution": {
     "iopub.execute_input": "2025-02-22T22:27:01.397398Z",
     "iopub.status.busy": "2025-02-22T22:27:01.397297Z",
     "iopub.status.idle": "2025-02-22T22:27:03.049910Z",
     "shell.execute_reply": "2025-02-22T22:27:03.049450Z"
    },
    "papermill": {
     "duration": 1.655054,
     "end_time": "2025-02-22T22:27:03.050653",
     "exception": false,
     "start_time": "2025-02-22T22:27:01.395599",
     "status": "completed"
    },
    "tags": []
   },
   "outputs": [],
   "source": [
    "train_users = split.train.user_stats()\n",
    "train_users = train_users[train_users['rating_count'] > 0]"
   ]
  },
  {
   "cell_type": "markdown",
   "id": "bb7059cd",
   "metadata": {
    "papermill": {
     "duration": 0.008787,
     "end_time": "2025-02-22T22:27:03.061184",
     "exception": false,
     "start_time": "2025-02-22T22:27:03.052397",
     "status": "completed"
    },
    "tags": []
   },
   "source": [
    "## Top-N Metrics\n",
    "\n",
    "`RunListAnalysis` computes metrics for recommendation results and takes care of\n",
    "matching recommendations and ground truth."
   ]
  },
  {
   "cell_type": "code",
   "execution_count": 14,
   "id": "60a7550d",
   "metadata": {
    "execution": {
     "iopub.execute_input": "2025-02-22T22:27:03.064697Z",
     "iopub.status.busy": "2025-02-22T22:27:03.064605Z",
     "iopub.status.idle": "2025-02-22T22:27:23.101018Z",
     "shell.execute_reply": "2025-02-22T22:27:23.100625Z"
    },
    "papermill": {
     "duration": 20.039109,
     "end_time": "2025-02-22T22:27:23.101716",
     "exception": false,
     "start_time": "2025-02-22T22:27:03.062607",
     "status": "completed"
    },
    "tags": []
   },
   "outputs": [
    {
     "name": "stderr",
     "output_type": "stream",
     "text": [
      "/home/mde48/lenskit/lk-demo-experiment/.venv/lib/python3.13/site-packages/lenskit/metrics/bulk.py:127: FutureWarning: The previous implementation of stack is deprecated and will be removed in a future version of pandas. See the What's New notes for pandas 2.1.0 for details. Specify future_stack=True to adopt the new implementation and silence this warning.\n",
      "  df = scores.groupby(list(keys)).agg([\"mean\", \"median\", \"std\"]).stack(level=0)\n"
     ]
    },
    {
     "data": {
      "text/html": [
       "<div>\n",
       "<style scoped>\n",
       "    .dataframe tbody tr th:only-of-type {\n",
       "        vertical-align: middle;\n",
       "    }\n",
       "\n",
       "    .dataframe tbody tr th {\n",
       "        vertical-align: top;\n",
       "    }\n",
       "\n",
       "    .dataframe thead th {\n",
       "        text-align: right;\n",
       "    }\n",
       "</style>\n",
       "<table border=\"1\" class=\"dataframe\">\n",
       "  <thead>\n",
       "    <tr style=\"text-align: right;\">\n",
       "      <th></th>\n",
       "      <th></th>\n",
       "      <th>mean</th>\n",
       "      <th>median</th>\n",
       "      <th>std</th>\n",
       "    </tr>\n",
       "    <tr>\n",
       "      <th>model</th>\n",
       "      <th></th>\n",
       "      <th></th>\n",
       "      <th></th>\n",
       "      <th></th>\n",
       "    </tr>\n",
       "  </thead>\n",
       "  <tbody>\n",
       "    <tr>\n",
       "      <th rowspan=\"3\" valign=\"top\">ALS</th>\n",
       "      <th>NDCG</th>\n",
       "      <td>0.137630</td>\n",
       "      <td>0.109051</td>\n",
       "      <td>0.123323</td>\n",
       "    </tr>\n",
       "    <tr>\n",
       "      <th>RBP</th>\n",
       "      <td>0.236228</td>\n",
       "      <td>0.181184</td>\n",
       "      <td>0.231968</td>\n",
       "    </tr>\n",
       "    <tr>\n",
       "      <th>RecipRank</th>\n",
       "      <td>0.570788</td>\n",
       "      <td>1.000000</td>\n",
       "      <td>0.451005</td>\n",
       "    </tr>\n",
       "    <tr>\n",
       "      <th rowspan=\"3\" valign=\"top\">Bias</th>\n",
       "      <th>NDCG</th>\n",
       "      <td>0.141648</td>\n",
       "      <td>0.112519</td>\n",
       "      <td>0.122777</td>\n",
       "    </tr>\n",
       "    <tr>\n",
       "      <th>RBP</th>\n",
       "      <td>0.244745</td>\n",
       "      <td>0.184198</td>\n",
       "      <td>0.229842</td>\n",
       "    </tr>\n",
       "    <tr>\n",
       "      <th>RecipRank</th>\n",
       "      <td>0.595578</td>\n",
       "      <td>1.000000</td>\n",
       "      <td>0.443768</td>\n",
       "    </tr>\n",
       "    <tr>\n",
       "      <th rowspan=\"3\" valign=\"top\">IALS</th>\n",
       "      <th>NDCG</th>\n",
       "      <td>0.034277</td>\n",
       "      <td>0.011810</td>\n",
       "      <td>0.071200</td>\n",
       "    </tr>\n",
       "    <tr>\n",
       "      <th>RBP</th>\n",
       "      <td>0.031878</td>\n",
       "      <td>0.000192</td>\n",
       "      <td>0.109555</td>\n",
       "    </tr>\n",
       "    <tr>\n",
       "      <th>RecipRank</th>\n",
       "      <td>0.072360</td>\n",
       "      <td>0.023810</td>\n",
       "      <td>0.190875</td>\n",
       "    </tr>\n",
       "    <tr>\n",
       "      <th rowspan=\"3\" valign=\"top\">IIE</th>\n",
       "      <th>NDCG</th>\n",
       "      <td>0.000570</td>\n",
       "      <td>0.000000</td>\n",
       "      <td>0.006423</td>\n",
       "    </tr>\n",
       "    <tr>\n",
       "      <th>RBP</th>\n",
       "      <td>0.000442</td>\n",
       "      <td>0.000000</td>\n",
       "      <td>0.009220</td>\n",
       "    </tr>\n",
       "    <tr>\n",
       "      <th>RecipRank</th>\n",
       "      <td>0.001545</td>\n",
       "      <td>0.000000</td>\n",
       "      <td>0.022866</td>\n",
       "    </tr>\n",
       "    <tr>\n",
       "      <th rowspan=\"3\" valign=\"top\">III</th>\n",
       "      <th>NDCG</th>\n",
       "      <td>0.024112</td>\n",
       "      <td>0.000000</td>\n",
       "      <td>0.071844</td>\n",
       "    </tr>\n",
       "    <tr>\n",
       "      <th>RBP</th>\n",
       "      <td>0.032646</td>\n",
       "      <td>0.000000</td>\n",
       "      <td>0.119159</td>\n",
       "    </tr>\n",
       "    <tr>\n",
       "      <th>RecipRank</th>\n",
       "      <td>0.063854</td>\n",
       "      <td>0.000000</td>\n",
       "      <td>0.213654</td>\n",
       "    </tr>\n",
       "    <tr>\n",
       "      <th rowspan=\"3\" valign=\"top\">Pop</th>\n",
       "      <th>NDCG</th>\n",
       "      <td>0.221063</td>\n",
       "      <td>0.204585</td>\n",
       "      <td>0.148566</td>\n",
       "    </tr>\n",
       "    <tr>\n",
       "      <th>RBP</th>\n",
       "      <td>0.372182</td>\n",
       "      <td>0.342790</td>\n",
       "      <td>0.280415</td>\n",
       "    </tr>\n",
       "    <tr>\n",
       "      <th>RecipRank</th>\n",
       "      <td>0.601185</td>\n",
       "      <td>0.500000</td>\n",
       "      <td>0.398991</td>\n",
       "    </tr>\n",
       "    <tr>\n",
       "      <th rowspan=\"3\" valign=\"top\">UUE</th>\n",
       "      <th>NDCG</th>\n",
       "      <td>0.000106</td>\n",
       "      <td>0.000000</td>\n",
       "      <td>0.001421</td>\n",
       "    </tr>\n",
       "    <tr>\n",
       "      <th>RBP</th>\n",
       "      <td>0.000188</td>\n",
       "      <td>0.000000</td>\n",
       "      <td>0.004169</td>\n",
       "    </tr>\n",
       "    <tr>\n",
       "      <th>RecipRank</th>\n",
       "      <td>0.000854</td>\n",
       "      <td>0.000000</td>\n",
       "      <td>0.017774</td>\n",
       "    </tr>\n",
       "  </tbody>\n",
       "</table>\n",
       "</div>"
      ],
      "text/plain": [
       "                     mean    median       std\n",
       "model                                        \n",
       "ALS   NDCG       0.137630  0.109051  0.123323\n",
       "      RBP        0.236228  0.181184  0.231968\n",
       "      RecipRank  0.570788  1.000000  0.451005\n",
       "Bias  NDCG       0.141648  0.112519  0.122777\n",
       "      RBP        0.244745  0.184198  0.229842\n",
       "      RecipRank  0.595578  1.000000  0.443768\n",
       "IALS  NDCG       0.034277  0.011810  0.071200\n",
       "      RBP        0.031878  0.000192  0.109555\n",
       "      RecipRank  0.072360  0.023810  0.190875\n",
       "IIE   NDCG       0.000570  0.000000  0.006423\n",
       "      RBP        0.000442  0.000000  0.009220\n",
       "      RecipRank  0.001545  0.000000  0.022866\n",
       "III   NDCG       0.024112  0.000000  0.071844\n",
       "      RBP        0.032646  0.000000  0.119159\n",
       "      RecipRank  0.063854  0.000000  0.213654\n",
       "Pop   NDCG       0.221063  0.204585  0.148566\n",
       "      RBP        0.372182  0.342790  0.280415\n",
       "      RecipRank  0.601185  0.500000  0.398991\n",
       "UUE   NDCG       0.000106  0.000000  0.001421\n",
       "      RBP        0.000188  0.000000  0.004169\n",
       "      RecipRank  0.000854  0.000000  0.017774"
      ]
     },
     "execution_count": 14,
     "metadata": {},
     "output_type": "execute_result"
    }
   ],
   "source": [
    "ra = RunAnalysis()\n",
    "\n",
    "ra.add_metric(NDCG())\n",
    "ra.add_metric(RecipRank())\n",
    "ra.add_metric(RBP())\n",
    "\n",
    "rec_results = ra.compute(recs, test)\n",
    "rec_results.list_summary('model')"
   ]
  },
  {
   "cell_type": "markdown",
   "id": "c43d0a23",
   "metadata": {
    "papermill": {
     "duration": 0.008842,
     "end_time": "2025-02-22T22:27:23.112325",
     "exception": false,
     "start_time": "2025-02-22T22:27:23.103483",
     "status": "completed"
    },
    "tags": []
   },
   "source": [
    "We can reshape the list metrics and plot them:"
   ]
  },
  {
   "cell_type": "code",
   "execution_count": 15,
   "id": "9d2d5d12",
   "metadata": {
    "execution": {
     "iopub.execute_input": "2025-02-22T22:27:23.116076Z",
     "iopub.status.busy": "2025-02-22T22:27:23.115977Z",
     "iopub.status.idle": "2025-02-22T22:27:23.836571Z",
     "shell.execute_reply": "2025-02-22T22:27:23.836354Z"
    },
    "papermill": {
     "duration": 0.72326,
     "end_time": "2025-02-22T22:27:23.837121",
     "exception": false,
     "start_time": "2025-02-22T22:27:23.113861",
     "status": "completed"
    },
    "tags": []
   },
   "outputs": [
    {
     "data": {
      "image/png": "[encoded data removed]",
      "text/plain": [
       "<Figure size 1511.11x500 with 3 Axes>"
      ]
     },
     "metadata": {},
     "output_type": "display_data"
    }
   ],
   "source": [
    "metrics = rec_results.list_metrics()\n",
    "metrics = metrics.melt(var_name='metric', ignore_index=False).reset_index()\n",
    "metrics = metrics[metrics['user_id'].isin(train_users.index)]\n",
    "sns.catplot(metrics, x='model', y='value', col='metric', kind='bar')\n",
    "plt.show()"
   ]
  },
  {
   "cell_type": "markdown",
   "id": "c43e61ea",
   "metadata": {
    "papermill": {
     "duration": 0.00171,
     "end_time": "2025-02-22T22:27:23.842147",
     "exception": false,
     "start_time": "2025-02-22T22:27:23.840437",
     "status": "completed"
    },
    "tags": []
   },
   "source": [
    "## Prediction RMSE\n",
    "\n",
    "We will also look at the prediction RMSE."
   ]
  },
  {
   "cell_type": "code",
   "execution_count": 16,
   "id": "96b6d861",
   "metadata": {
    "execution": {
     "iopub.execute_input": "2025-02-22T22:27:23.845816Z",
     "iopub.status.busy": "2025-02-22T22:27:23.845727Z",
     "iopub.status.idle": "2025-02-22T22:27:43.645026Z",
     "shell.execute_reply": "2025-02-22T22:27:43.644850Z"
    },
    "papermill": {
     "duration": 19.801708,
     "end_time": "2025-02-22T22:27:43.645519",
     "exception": false,
     "start_time": "2025-02-22T22:27:23.843811",
     "status": "completed"
    },
    "tags": []
   },
   "outputs": [
    {
     "name": "stderr",
     "output_type": "stream",
     "text": [
      "/home/mde48/lenskit/lk-demo-experiment/.venv/lib/python3.13/site-packages/lenskit/metrics/bulk.py:127: FutureWarning: The previous implementation of stack is deprecated and will be removed in a future version of pandas. See the What's New notes for pandas 2.1.0 for details. Specify future_stack=True to adopt the new implementation and silence this warning.\n",
      "  df = scores.groupby(list(keys)).agg([\"mean\", \"median\", \"std\"]).stack(level=0)\n"
     ]
    },
    {
     "data": {
      "text/html": [
       "<div>\n",
       "<style scoped>\n",
       "    .dataframe tbody tr th:only-of-type {\n",
       "        vertical-align: middle;\n",
       "    }\n",
       "\n",
       "    .dataframe tbody tr th {\n",
       "        vertical-align: top;\n",
       "    }\n",
       "\n",
       "    .dataframe thead th {\n",
       "        text-align: right;\n",
       "    }\n",
       "</style>\n",
       "<table border=\"1\" class=\"dataframe\">\n",
       "  <thead>\n",
       "    <tr style=\"text-align: right;\">\n",
       "      <th></th>\n",
       "      <th></th>\n",
       "      <th>mean</th>\n",
       "      <th>median</th>\n",
       "      <th>std</th>\n",
       "    </tr>\n",
       "    <tr>\n",
       "      <th>model</th>\n",
       "      <th></th>\n",
       "      <th></th>\n",
       "      <th></th>\n",
       "      <th></th>\n",
       "    </tr>\n",
       "  </thead>\n",
       "  <tbody>\n",
       "    <tr>\n",
       "      <th>ALS</th>\n",
       "      <th>RMSE</th>\n",
       "      <td>0.934057</td>\n",
       "      <td>0.879421</td>\n",
       "      <td>0.340821</td>\n",
       "    </tr>\n",
       "    <tr>\n",
       "      <th>Bias</th>\n",
       "      <th>RMSE</th>\n",
       "      <td>0.939226</td>\n",
       "      <td>0.883568</td>\n",
       "      <td>0.340386</td>\n",
       "    </tr>\n",
       "    <tr>\n",
       "      <th>IIE</th>\n",
       "      <th>RMSE</th>\n",
       "      <td>0.943959</td>\n",
       "      <td>0.888869</td>\n",
       "      <td>0.341722</td>\n",
       "    </tr>\n",
       "    <tr>\n",
       "      <th>UUE</th>\n",
       "      <th>RMSE</th>\n",
       "      <td>0.946682</td>\n",
       "      <td>0.891274</td>\n",
       "      <td>0.340916</td>\n",
       "    </tr>\n",
       "  </tbody>\n",
       "</table>\n",
       "</div>"
      ],
      "text/plain": [
       "                mean    median       std\n",
       "model                                   \n",
       "ALS   RMSE  0.934057  0.879421  0.340821\n",
       "Bias  RMSE  0.939226  0.883568  0.340386\n",
       "IIE   RMSE  0.943959  0.888869  0.341722\n",
       "UUE   RMSE  0.946682  0.891274  0.340916"
      ]
     },
     "execution_count": 16,
     "metadata": {},
     "output_type": "execute_result"
    }
   ],
   "source": [
    "pa = RunAnalysis()\n",
    "\n",
    "pa.add_metric(RMSE(missing_scores='ignore', missing_truth='ignore'))\n",
    "\n",
    "pred_results = pa.compute(preds, test)\n",
    "pred_results.list_summary('model')"
   ]
  },
  {
   "cell_type": "code",
   "execution_count": 17,
   "id": "6d814573",
   "metadata": {
    "execution": {
     "iopub.execute_input": "2025-02-22T22:27:43.657116Z",
     "iopub.status.busy": "2025-02-22T22:27:43.657042Z",
     "iopub.status.idle": "2025-02-22T22:27:43.811234Z",
     "shell.execute_reply": "2025-02-22T22:27:43.810955Z"
    },
    "papermill": {
     "duration": 0.16429,
     "end_time": "2025-02-22T22:27:43.811787",
     "exception": false,
     "start_time": "2025-02-22T22:27:43.647497",
     "status": "completed"
    },
    "tags": []
   },
   "outputs": [
    {
     "data": {
      "image/png": "[encoded data removed]",
      "text/plain": [
       "<Figure size 511.111x500 with 1 Axes>"
      ]
     },
     "metadata": {},
     "output_type": "display_data"
    }
   ],
   "source": [
    "pred_metrics = pred_results.list_metrics().reset_index()\n",
    "pred_metrics = pred_metrics[pred_metrics['user_id'].isin(train_users.index)]\n",
    "sns.catplot(pred_metrics, x='model', y='RMSE', kind='bar')\n",
    "plt.show()"
   ]
  },
  {
   "cell_type": "markdown",
   "id": "150ed96b",
   "metadata": {
    "papermill": {
     "duration": 0.009024,
     "end_time": "2025-02-22T22:27:43.822849",
     "exception": false,
     "start_time": "2025-02-22T22:27:43.813825",
     "status": "completed"
    },
    "tags": []
   },
   "source": [
    "## Save Metrics\n",
    "\n",
    "We'll now save the metrics to a file."
   ]
  },
  {
   "cell_type": "code",
   "execution_count": 18,
   "id": "95247ac8",
   "metadata": {
    "execution": {
     "iopub.execute_input": "2025-02-22T22:27:43.826786Z",
     "iopub.status.busy": "2025-02-22T22:27:43.826709Z",
     "iopub.status.idle": "2025-02-22T22:27:43.848156Z",
     "shell.execute_reply": "2025-02-22T22:27:43.847956Z"
    },
    "papermill": {
     "duration": 0.024006,
     "end_time": "2025-02-22T22:27:43.848583",
     "exception": false,
     "start_time": "2025-02-22T22:27:43.824577",
     "status": "completed"
    },
    "tags": []
   },
   "outputs": [
    {
     "name": "stderr",
     "output_type": "stream",
     "text": [
      "/home/mde48/lenskit/lk-demo-experiment/.venv/lib/python3.13/site-packages/lenskit/metrics/bulk.py:127: FutureWarning: The previous implementation of stack is deprecated and will be removed in a future version of pandas. See the What's New notes for pandas 2.1.0 for details. Specify future_stack=True to adopt the new implementation and silence this warning.\n",
      "  df = scores.groupby(list(keys)).agg([\"mean\", \"median\", \"std\"]).stack(level=0)\n"
     ]
    },
    {
     "data": {
      "text/html": [
       "<div>\n",
       "<style scoped>\n",
       "    .dataframe tbody tr th:only-of-type {\n",
       "        vertical-align: middle;\n",
       "    }\n",
       "\n",
       "    .dataframe tbody tr th {\n",
       "        vertical-align: top;\n",
       "    }\n",
       "\n",
       "    .dataframe thead th {\n",
       "        text-align: right;\n",
       "    }\n",
       "</style>\n",
       "<table border=\"1\" class=\"dataframe\">\n",
       "  <thead>\n",
       "    <tr style=\"text-align: right;\">\n",
       "      <th></th>\n",
       "      <th>NDCG</th>\n",
       "      <th>RBP</th>\n",
       "      <th>RecipRank</th>\n",
       "    </tr>\n",
       "    <tr>\n",
       "      <th>model</th>\n",
       "      <th></th>\n",
       "      <th></th>\n",
       "      <th></th>\n",
       "    </tr>\n",
       "  </thead>\n",
       "  <tbody>\n",
       "    <tr>\n",
       "      <th>ALS</th>\n",
       "      <td>0.137630</td>\n",
       "      <td>0.236228</td>\n",
       "      <td>0.570788</td>\n",
       "    </tr>\n",
       "    <tr>\n",
       "      <th>Bias</th>\n",
       "      <td>0.141648</td>\n",
       "      <td>0.244745</td>\n",
       "      <td>0.595578</td>\n",
       "    </tr>\n",
       "    <tr>\n",
       "      <th>IALS</th>\n",
       "      <td>0.034277</td>\n",
       "      <td>0.031878</td>\n",
       "      <td>0.072360</td>\n",
       "    </tr>\n",
       "    <tr>\n",
       "      <th>IIE</th>\n",
       "      <td>0.000570</td>\n",
       "      <td>0.000442</td>\n",
       "      <td>0.001545</td>\n",
       "    </tr>\n",
       "    <tr>\n",
       "      <th>III</th>\n",
       "      <td>0.024112</td>\n",
       "      <td>0.032646</td>\n",
       "      <td>0.063854</td>\n",
       "    </tr>\n",
       "    <tr>\n",
       "      <th>Pop</th>\n",
       "      <td>0.221063</td>\n",
       "      <td>0.372182</td>\n",
       "      <td>0.601185</td>\n",
       "    </tr>\n",
       "    <tr>\n",
       "      <th>UUE</th>\n",
       "      <td>0.000106</td>\n",
       "      <td>0.000188</td>\n",
       "      <td>0.000854</td>\n",
       "    </tr>\n",
       "  </tbody>\n",
       "</table>\n",
       "</div>"
      ],
      "text/plain": [
       "           NDCG       RBP  RecipRank\n",
       "model                               \n",
       "ALS    0.137630  0.236228   0.570788\n",
       "Bias   0.141648  0.244745   0.595578\n",
       "IALS   0.034277  0.031878   0.072360\n",
       "IIE    0.000570  0.000442   0.001545\n",
       "III    0.024112  0.032646   0.063854\n",
       "Pop    0.221063  0.372182   0.601185\n",
       "UUE    0.000106  0.000188   0.000854"
      ]
     },
     "execution_count": 18,
     "metadata": {},
     "output_type": "execute_result"
    }
   ],
   "source": [
    "rlsum = rec_results.list_summary('model')['mean'].unstack()\n",
    "rlsum"
   ]
  },
  {
   "cell_type": "code",
   "execution_count": 19,
   "id": "fb76a470",
   "metadata": {
    "execution": {
     "iopub.execute_input": "2025-02-22T22:27:43.852916Z",
     "iopub.status.busy": "2025-02-22T22:27:43.852842Z",
     "iopub.status.idle": "2025-02-22T22:27:43.854892Z",
     "shell.execute_reply": "2025-02-22T22:27:43.854722Z"
    },
    "papermill": {
     "duration": 0.004752,
     "end_time": "2025-02-22T22:27:43.855314",
     "exception": false,
     "start_time": "2025-02-22T22:27:43.850562",
     "status": "completed"
    },
    "tags": []
   },
   "outputs": [],
   "source": [
    "rlsum.to_json(f'eval-metrics.{dataset}.json', orient='index')"
   ]
  }
 ],
 "metadata": {
  "jupytext": {
   "formats": "ipynb,md",
   "notebook_metadata_filter": "split_at_heading"
  },
  "kernelspec": {
   "display_name": ".venv",
   "language": "python",
   "name": "python3"
  },
  "language_info": {
   "codemirror_mode": {
    "name": "ipython",
    "version": 3
   },
   "file_extension": ".py",
   "mimetype": "text/x-python",
   "name": "python",
   "nbconvert_exporter": "python",
   "pygments_lexer": "ipython3",
   "version": "3.13.2"
  },
  "papermill": {
   "default_parameters": {},
   "duration": 59.335578,
   "end_time": "2025-02-22T22:27:45.374804",
   "environment_variables": {},
   "exception": null,
   "input_path": "eval-report.ipynb",
   "output_path": "eval-report.ml-25m.ipynb",
   "parameters": {
    "dataset": "ml-25m"
   },
   "start_time": "2025-02-22T22:26:46.039226",
   "version": "2.6.0"
  },
  "split_at_heading": true
 },
 "nbformat": 4,
 "nbformat_minor": 5
}