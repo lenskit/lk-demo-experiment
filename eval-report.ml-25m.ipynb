{
 "cells": [
  {
   "cell_type": "markdown",
   "id": "605fd33a",
   "metadata": {
    "papermill": {
     "duration": 0.010253,
     "end_time": "2025-02-06T18:50:27.005246",
     "exception": false,
     "start_time": "2025-02-06T18:50:26.994993",
     "status": "completed"
    },
    "tags": []
   },
   "source": [
    "# Evaluation Analysis for Recommender Output"
   ]
  },
  {
   "cell_type": "markdown",
   "id": "60583352",
   "metadata": {
    "papermill": {
     "duration": 0.001169,
     "end_time": "2025-02-06T18:50:27.007800",
     "exception": false,
     "start_time": "2025-02-06T18:50:27.006631",
     "status": "completed"
    },
    "tags": []
   },
   "source": [
    "In this section we will analyze and compare the generated recommendations and predictions from a predefined list of algorithms with the goal of assessing the performance of each algorithm with respect to a metric. In other words, we would rank the algorithms for each metric considered with respect to performance."
   ]
  },
  {
   "cell_type": "markdown",
   "id": "4bb6a3e7",
   "metadata": {
    "papermill": {
     "duration": 0.001085,
     "end_time": "2025-02-06T18:50:27.010026",
     "exception": false,
     "start_time": "2025-02-06T18:50:27.008941",
     "status": "completed"
    },
    "tags": []
   },
   "source": [
    "## Setup"
   ]
  },
  {
   "cell_type": "markdown",
   "id": "d10343e5",
   "metadata": {
    "papermill": {
     "duration": 0.001211,
     "end_time": "2025-02-06T18:50:27.012355",
     "exception": false,
     "start_time": "2025-02-06T18:50:27.011144",
     "status": "completed"
    },
    "tags": []
   },
   "source": [
    "Below are the list of packages required to successfully run the analysis. They are divided into partitions to signify their specific task.<br>\n",
    "We need the pathlib package for working with files and folders"
   ]
  },
  {
   "cell_type": "code",
   "execution_count": 1,
   "id": "e366c574",
   "metadata": {
    "execution": {
     "iopub.execute_input": "2025-02-06T18:50:27.015352Z",
     "iopub.status.busy": "2025-02-06T18:50:27.015237Z",
     "iopub.status.idle": "2025-02-06T18:50:27.017246Z",
     "shell.execute_reply": "2025-02-06T18:50:27.016997Z"
    },
    "papermill": {
     "duration": 0.004201,
     "end_time": "2025-02-06T18:50:27.017696",
     "exception": false,
     "start_time": "2025-02-06T18:50:27.013495",
     "status": "completed"
    },
    "tags": []
   },
   "outputs": [],
   "source": [
    "from pathlib import Path\n",
    "import json"
   ]
  },
  {
   "cell_type": "markdown",
   "id": "f5cd5e83",
   "metadata": {
    "papermill": {
     "duration": 0.001169,
     "end_time": "2025-02-06T18:50:27.020086",
     "exception": false,
     "start_time": "2025-02-06T18:50:27.018917",
     "status": "completed"
    },
    "tags": []
   },
   "source": [
    "We would use the pandas for analyzing and manipulating our data while seaborn and matplotlib are used for data visualization. statsmodels.graphics.gofplots and scipy.stats.shapiro are used for normality check. Scipy.stats.friedmanchisquare is a non-parametric test used to determine the statistical significance in metric results and the wilcoxon test is used for pairwise comparison of sample data."
   ]
  },
  {
   "cell_type": "code",
   "execution_count": 2,
   "id": "35c4aa1e",
   "metadata": {
    "execution": {
     "iopub.execute_input": "2025-02-06T18:50:27.022778Z",
     "iopub.status.busy": "2025-02-06T18:50:27.022688Z",
     "iopub.status.idle": "2025-02-06T18:50:27.511096Z",
     "shell.execute_reply": "2025-02-06T18:50:27.510675Z"
    },
    "lines_to_next_cell": 2,
    "papermill": {
     "duration": 0.490555,
     "end_time": "2025-02-06T18:50:27.511876",
     "exception": false,
     "start_time": "2025-02-06T18:50:27.021321",
     "status": "completed"
    },
    "tags": []
   },
   "outputs": [],
   "source": [
    "import pandas as pd\n",
    "import seaborn as sns\n",
    "import matplotlib.pyplot as plt\n",
    "from statsmodels.graphics.gofplots import qqplot\n",
    "from scipy.stats import shapiro\n",
    "from scipy.stats import friedmanchisquare, wilcoxon\n",
    "from itertools import combinations"
   ]
  },
  {
   "cell_type": "markdown",
   "id": "b77c1db0",
   "metadata": {
    "papermill": {
     "duration": 0.009061,
     "end_time": "2025-02-06T18:50:27.522465",
     "exception": false,
     "start_time": "2025-02-06T18:50:27.513404",
     "status": "completed"
    },
    "tags": []
   },
   "source": [
    "Import the LensKit metrics for analysis:"
   ]
  },
  {
   "cell_type": "code",
   "execution_count": 3,
   "id": "86454f14",
   "metadata": {
    "execution": {
     "iopub.execute_input": "2025-02-06T18:50:27.525416Z",
     "iopub.status.busy": "2025-02-06T18:50:27.525264Z",
     "iopub.status.idle": "2025-02-06T18:50:28.175770Z",
     "shell.execute_reply": "2025-02-06T18:50:28.175243Z"
    },
    "papermill": {
     "duration": 0.652869,
     "end_time": "2025-02-06T18:50:28.176580",
     "exception": false,
     "start_time": "2025-02-06T18:50:27.523711",
     "status": "completed"
    },
    "tags": []
   },
   "outputs": [],
   "source": [
    "from lenskit.data import Dataset, ItemListCollection, UserIDKey\n",
    "from lenskit.metrics import RunAnalysis, RMSE, NDCG, RecipRank, RBP"
   ]
  },
  {
   "cell_type": "code",
   "execution_count": 4,
   "id": "1b539163",
   "metadata": {
    "execution": {
     "iopub.execute_input": "2025-02-06T18:50:28.180001Z",
     "iopub.status.busy": "2025-02-06T18:50:28.179915Z",
     "iopub.status.idle": "2025-02-06T18:50:28.182907Z",
     "shell.execute_reply": "2025-02-06T18:50:28.182675Z"
    },
    "papermill": {
     "duration": 0.005439,
     "end_time": "2025-02-06T18:50:28.183576",
     "exception": false,
     "start_time": "2025-02-06T18:50:28.178137",
     "status": "completed"
    },
    "tags": []
   },
   "outputs": [],
   "source": [
    "from lkdemo.datasets import split_fraction"
   ]
  },
  {
   "cell_type": "markdown",
   "id": "db65cf61",
   "metadata": {
    "papermill": {
     "duration": 0.001182,
     "end_time": "2025-02-06T18:50:28.185982",
     "exception": false,
     "start_time": "2025-02-06T18:50:28.184800",
     "status": "completed"
    },
    "tags": []
   },
   "source": [
    "## Load Data\n",
    "\n",
    "The recommendations are in `runs`, and we will need to reassemble the test data from `test`."
   ]
  },
  {
   "cell_type": "code",
   "execution_count": 5,
   "id": "de8c0535",
   "metadata": {
    "execution": {
     "iopub.execute_input": "2025-02-06T18:50:28.188827Z",
     "iopub.status.busy": "2025-02-06T18:50:28.188745Z",
     "iopub.status.idle": "2025-02-06T18:50:28.190576Z",
     "shell.execute_reply": "2025-02-06T18:50:28.190339Z"
    },
    "papermill": {
     "duration": 0.003762,
     "end_time": "2025-02-06T18:50:28.190981",
     "exception": false,
     "start_time": "2025-02-06T18:50:28.187219",
     "status": "completed"
    },
    "tags": [
     "parameters"
    ]
   },
   "outputs": [],
   "source": [
    "dataset = \"ml-100k\""
   ]
  },
  {
   "cell_type": "code",
   "execution_count": 6,
   "id": "aae2e4ca",
   "metadata": {
    "execution": {
     "iopub.execute_input": "2025-02-06T18:50:28.193772Z",
     "iopub.status.busy": "2025-02-06T18:50:28.193696Z",
     "iopub.status.idle": "2025-02-06T18:50:28.195184Z",
     "shell.execute_reply": "2025-02-06T18:50:28.194949Z"
    },
    "papermill": {
     "duration": 0.003403,
     "end_time": "2025-02-06T18:50:28.195652",
     "exception": false,
     "start_time": "2025-02-06T18:50:28.192249",
     "status": "completed"
    },
    "tags": [
     "injected-parameters"
    ]
   },
   "outputs": [],
   "source": [
    "# Parameters\n",
    "dataset = \"ml-25m\"\n"
   ]
  },
  {
   "cell_type": "code",
   "execution_count": 7,
   "id": "f5ea83f3",
   "metadata": {
    "execution": {
     "iopub.execute_input": "2025-02-06T18:50:28.198436Z",
     "iopub.status.busy": "2025-02-06T18:50:28.198360Z",
     "iopub.status.idle": "2025-02-06T18:50:28.199891Z",
     "shell.execute_reply": "2025-02-06T18:50:28.199656Z"
    },
    "papermill": {
     "duration": 0.003478,
     "end_time": "2025-02-06T18:50:28.200367",
     "exception": false,
     "start_time": "2025-02-06T18:50:28.196889",
     "status": "completed"
    },
    "tags": []
   },
   "outputs": [],
   "source": [
    "output_root = Path(\"runs\")"
   ]
  },
  {
   "cell_type": "code",
   "execution_count": 8,
   "id": "327f8a13",
   "metadata": {
    "execution": {
     "iopub.execute_input": "2025-02-06T18:50:28.203127Z",
     "iopub.status.busy": "2025-02-06T18:50:28.203047Z",
     "iopub.status.idle": "2025-02-06T18:50:28.204795Z",
     "shell.execute_reply": "2025-02-06T18:50:28.204557Z"
    },
    "papermill": {
     "duration": 0.003555,
     "end_time": "2025-02-06T18:50:28.205150",
     "exception": false,
     "start_time": "2025-02-06T18:50:28.201595",
     "status": "completed"
    },
    "tags": []
   },
   "outputs": [],
   "source": [
    "dirs = [fld for fld in output_root.glob(f'{dataset}-*')]"
   ]
  },
  {
   "cell_type": "code",
   "execution_count": 9,
   "id": "a0d58d42",
   "metadata": {
    "execution": {
     "iopub.execute_input": "2025-02-06T18:50:28.207978Z",
     "iopub.status.busy": "2025-02-06T18:50:28.207879Z",
     "iopub.status.idle": "2025-02-06T18:50:33.087082Z",
     "shell.execute_reply": "2025-02-06T18:50:33.086634Z"
    },
    "papermill": {
     "duration": 4.881516,
     "end_time": "2025-02-06T18:50:33.087926",
     "exception": false,
     "start_time": "2025-02-06T18:50:28.206410",
     "status": "completed"
    },
    "tags": []
   },
   "outputs": [],
   "source": [
    "recs = ItemListCollection(['model', 'user_id'], index=False)\n",
    "for fld in dirs:\n",
    "    for file in fld.glob(\"recs-*\"):\n",
    "        rec = ItemListCollection.load_parquet(file)\n",
    "        recs.add_from(rec, model=fld.name.split(\"-\")[-1])"
   ]
  },
  {
   "cell_type": "code",
   "execution_count": 10,
   "id": "68039a12",
   "metadata": {
    "execution": {
     "iopub.execute_input": "2025-02-06T18:50:33.098961Z",
     "iopub.status.busy": "2025-02-06T18:50:33.098884Z",
     "iopub.status.idle": "2025-02-06T18:50:33.114809Z",
     "shell.execute_reply": "2025-02-06T18:50:33.114564Z"
    },
    "papermill": {
     "duration": 0.025744,
     "end_time": "2025-02-06T18:50:33.115330",
     "exception": false,
     "start_time": "2025-02-06T18:50:33.089586",
     "status": "completed"
    },
    "tags": []
   },
   "outputs": [
    {
     "data": {
      "text/plain": [
       "['ALS', 'Bias', 'IALS', 'IIE', 'III', 'Pop', 'UUE']"
      ]
     },
     "execution_count": 10,
     "metadata": {},
     "output_type": "execute_result"
    }
   ],
   "source": [
    "rec_algos = sorted(set(a for (a, _u) in recs.keys()))\n",
    "rec_algos"
   ]
  },
  {
   "cell_type": "code",
   "execution_count": 11,
   "id": "6ec8ce31",
   "metadata": {
    "execution": {
     "iopub.execute_input": "2025-02-06T18:50:33.118693Z",
     "iopub.status.busy": "2025-02-06T18:50:33.118624Z",
     "iopub.status.idle": "2025-02-06T18:50:37.833889Z",
     "shell.execute_reply": "2025-02-06T18:50:37.833180Z"
    },
    "papermill": {
     "duration": 4.717892,
     "end_time": "2025-02-06T18:50:37.834681",
     "exception": false,
     "start_time": "2025-02-06T18:50:33.116789",
     "status": "completed"
    },
    "tags": []
   },
   "outputs": [],
   "source": [
    "preds = ItemListCollection(['model', 'user_id'], index=False)\n",
    "for fld in dirs:\n",
    "    for file in fld.glob(\"pred-*\"):\n",
    "        pred = ItemListCollection.load_parquet(file)\n",
    "        preds.add_from(pred, model=fld.name.split(\"-\")[-1])"
   ]
  },
  {
   "cell_type": "markdown",
   "id": "d7984c97",
   "metadata": {
    "papermill": {
     "duration": 0.001456,
     "end_time": "2025-02-06T18:50:37.837967",
     "exception": false,
     "start_time": "2025-02-06T18:50:37.836511",
     "status": "completed"
    },
    "tags": []
   },
   "source": [
    "We need to load the test data so that we have the ground truths for computing accuracy"
   ]
  },
  {
   "cell_type": "code",
   "execution_count": 12,
   "id": "edea330e",
   "metadata": {
    "execution": {
     "iopub.execute_input": "2025-02-06T18:50:37.841151Z",
     "iopub.status.busy": "2025-02-06T18:50:37.841031Z",
     "iopub.status.idle": "2025-02-06T18:50:41.854051Z",
     "shell.execute_reply": "2025-02-06T18:50:41.853621Z"
    },
    "papermill": {
     "duration": 4.015651,
     "end_time": "2025-02-06T18:50:41.854973",
     "exception": false,
     "start_time": "2025-02-06T18:50:37.839322",
     "status": "completed"
    },
    "tags": []
   },
   "outputs": [],
   "source": [
    "data = Dataset.load(f\"data/{dataset}\")\n",
    "split = split_fraction(data, 0.2)\n",
    "test = split.test"
   ]
  },
  {
   "cell_type": "markdown",
   "id": "8d267c49",
   "metadata": {
    "papermill": {
     "duration": 0.00145,
     "end_time": "2025-02-06T18:50:41.858059",
     "exception": false,
     "start_time": "2025-02-06T18:50:41.856609",
     "status": "completed"
    },
    "tags": []
   },
   "source": [
    "## Top-N Metrics\n",
    "\n",
    "`RunListAnalysis` computes metrics for recommendation results and takes care of\n",
    "matching recommendations and ground truth."
   ]
  },
  {
   "cell_type": "code",
   "execution_count": 13,
   "id": "5c468e42",
   "metadata": {
    "execution": {
     "iopub.execute_input": "2025-02-06T18:50:41.861391Z",
     "iopub.status.busy": "2025-02-06T18:50:41.861303Z",
     "iopub.status.idle": "2025-02-06T18:51:01.220623Z",
     "shell.execute_reply": "2025-02-06T18:51:01.220457Z"
    },
    "papermill": {
     "duration": 19.361755,
     "end_time": "2025-02-06T18:51:01.221170",
     "exception": false,
     "start_time": "2025-02-06T18:50:41.859415",
     "status": "completed"
    },
    "tags": []
   },
   "outputs": [
    {
     "name": "stderr",
     "output_type": "stream",
     "text": [
      "/home/mde48/lenskit/lk-demo-experiment/.venv/lib/python3.13/site-packages/lenskit/metrics/bulk.py:127: FutureWarning: The previous implementation of stack is deprecated and will be removed in a future version of pandas. See the What's New notes for pandas 2.1.0 for details. Specify future_stack=True to adopt the new implementation and silence this warning.\n",
      "  df = scores.groupby(list(keys)).agg([\"mean\", \"median\", \"std\"]).stack(level=0)\n"
     ]
    },
    {
     "data": {
      "text/html": [
       "<div>\n",
       "<style scoped>\n",
       "    .dataframe tbody tr th:only-of-type {\n",
       "        vertical-align: middle;\n",
       "    }\n",
       "\n",
       "    .dataframe tbody tr th {\n",
       "        vertical-align: top;\n",
       "    }\n",
       "\n",
       "    .dataframe thead th {\n",
       "        text-align: right;\n",
       "    }\n",
       "</style>\n",
       "<table border=\"1\" class=\"dataframe\">\n",
       "  <thead>\n",
       "    <tr style=\"text-align: right;\">\n",
       "      <th></th>\n",
       "      <th></th>\n",
       "      <th>mean</th>\n",
       "      <th>median</th>\n",
       "      <th>std</th>\n",
       "    </tr>\n",
       "    <tr>\n",
       "      <th>model</th>\n",
       "      <th></th>\n",
       "      <th></th>\n",
       "      <th></th>\n",
       "      <th></th>\n",
       "    </tr>\n",
       "  </thead>\n",
       "  <tbody>\n",
       "    <tr>\n",
       "      <th rowspan=\"3\" valign=\"top\">ALS</th>\n",
       "      <th>NDCG</th>\n",
       "      <td>0.137630</td>\n",
       "      <td>1.090515e-01</td>\n",
       "      <td>0.123323</td>\n",
       "    </tr>\n",
       "    <tr>\n",
       "      <th>RBP</th>\n",
       "      <td>0.393680</td>\n",
       "      <td>5.000000e-01</td>\n",
       "      <td>0.368324</td>\n",
       "    </tr>\n",
       "    <tr>\n",
       "      <th>RecipRank</th>\n",
       "      <td>0.570788</td>\n",
       "      <td>1.000000e+00</td>\n",
       "      <td>0.451005</td>\n",
       "    </tr>\n",
       "    <tr>\n",
       "      <th rowspan=\"3\" valign=\"top\">Bias</th>\n",
       "      <th>NDCG</th>\n",
       "      <td>0.141648</td>\n",
       "      <td>1.125187e-01</td>\n",
       "      <td>0.122777</td>\n",
       "    </tr>\n",
       "    <tr>\n",
       "      <th>RBP</th>\n",
       "      <td>0.409035</td>\n",
       "      <td>5.000000e-01</td>\n",
       "      <td>0.364616</td>\n",
       "    </tr>\n",
       "    <tr>\n",
       "      <th>RecipRank</th>\n",
       "      <td>0.595578</td>\n",
       "      <td>1.000000e+00</td>\n",
       "      <td>0.443768</td>\n",
       "    </tr>\n",
       "    <tr>\n",
       "      <th rowspan=\"3\" valign=\"top\">IALS</th>\n",
       "      <th>NDCG</th>\n",
       "      <td>0.034277</td>\n",
       "      <td>1.180988e-02</td>\n",
       "      <td>0.071200</td>\n",
       "    </tr>\n",
       "    <tr>\n",
       "      <th>RBP</th>\n",
       "      <td>0.032481</td>\n",
       "      <td>2.273737e-13</td>\n",
       "      <td>0.137275</td>\n",
       "    </tr>\n",
       "    <tr>\n",
       "      <th>RecipRank</th>\n",
       "      <td>0.072360</td>\n",
       "      <td>2.380952e-02</td>\n",
       "      <td>0.190875</td>\n",
       "    </tr>\n",
       "    <tr>\n",
       "      <th rowspan=\"3\" valign=\"top\">IIE</th>\n",
       "      <th>NDCG</th>\n",
       "      <td>0.000570</td>\n",
       "      <td>0.000000e+00</td>\n",
       "      <td>0.006423</td>\n",
       "    </tr>\n",
       "    <tr>\n",
       "      <th>RBP</th>\n",
       "      <td>0.000378</td>\n",
       "      <td>0.000000e+00</td>\n",
       "      <td>0.013750</td>\n",
       "    </tr>\n",
       "    <tr>\n",
       "      <th>RecipRank</th>\n",
       "      <td>0.001545</td>\n",
       "      <td>0.000000e+00</td>\n",
       "      <td>0.022866</td>\n",
       "    </tr>\n",
       "    <tr>\n",
       "      <th rowspan=\"3\" valign=\"top\">III</th>\n",
       "      <th>NDCG</th>\n",
       "      <td>0.024112</td>\n",
       "      <td>0.000000e+00</td>\n",
       "      <td>0.071844</td>\n",
       "    </tr>\n",
       "    <tr>\n",
       "      <th>RBP</th>\n",
       "      <td>0.039062</td>\n",
       "      <td>0.000000e+00</td>\n",
       "      <td>0.156174</td>\n",
       "    </tr>\n",
       "    <tr>\n",
       "      <th>RecipRank</th>\n",
       "      <td>0.063854</td>\n",
       "      <td>0.000000e+00</td>\n",
       "      <td>0.213654</td>\n",
       "    </tr>\n",
       "    <tr>\n",
       "      <th rowspan=\"3\" valign=\"top\">Pop</th>\n",
       "      <th>NDCG</th>\n",
       "      <td>0.221063</td>\n",
       "      <td>2.045848e-01</td>\n",
       "      <td>0.148566</td>\n",
       "    </tr>\n",
       "    <tr>\n",
       "      <th>RBP</th>\n",
       "      <td>0.446459</td>\n",
       "      <td>4.475113e-01</td>\n",
       "      <td>0.366432</td>\n",
       "    </tr>\n",
       "    <tr>\n",
       "      <th>RecipRank</th>\n",
       "      <td>0.601185</td>\n",
       "      <td>5.000000e-01</td>\n",
       "      <td>0.398991</td>\n",
       "    </tr>\n",
       "    <tr>\n",
       "      <th rowspan=\"3\" valign=\"top\">UUE</th>\n",
       "      <th>NDCG</th>\n",
       "      <td>0.000106</td>\n",
       "      <td>0.000000e+00</td>\n",
       "      <td>0.001421</td>\n",
       "    </tr>\n",
       "    <tr>\n",
       "      <th>RBP</th>\n",
       "      <td>0.000162</td>\n",
       "      <td>0.000000e+00</td>\n",
       "      <td>0.008922</td>\n",
       "    </tr>\n",
       "    <tr>\n",
       "      <th>RecipRank</th>\n",
       "      <td>0.000854</td>\n",
       "      <td>0.000000e+00</td>\n",
       "      <td>0.017774</td>\n",
       "    </tr>\n",
       "  </tbody>\n",
       "</table>\n",
       "</div>"
      ],
      "text/plain": [
       "                     mean        median       std\n",
       "model                                            \n",
       "ALS   NDCG       0.137630  1.090515e-01  0.123323\n",
       "      RBP        0.393680  5.000000e-01  0.368324\n",
       "      RecipRank  0.570788  1.000000e+00  0.451005\n",
       "Bias  NDCG       0.141648  1.125187e-01  0.122777\n",
       "      RBP        0.409035  5.000000e-01  0.364616\n",
       "      RecipRank  0.595578  1.000000e+00  0.443768\n",
       "IALS  NDCG       0.034277  1.180988e-02  0.071200\n",
       "      RBP        0.032481  2.273737e-13  0.137275\n",
       "      RecipRank  0.072360  2.380952e-02  0.190875\n",
       "IIE   NDCG       0.000570  0.000000e+00  0.006423\n",
       "      RBP        0.000378  0.000000e+00  0.013750\n",
       "      RecipRank  0.001545  0.000000e+00  0.022866\n",
       "III   NDCG       0.024112  0.000000e+00  0.071844\n",
       "      RBP        0.039062  0.000000e+00  0.156174\n",
       "      RecipRank  0.063854  0.000000e+00  0.213654\n",
       "Pop   NDCG       0.221063  2.045848e-01  0.148566\n",
       "      RBP        0.446459  4.475113e-01  0.366432\n",
       "      RecipRank  0.601185  5.000000e-01  0.398991\n",
       "UUE   NDCG       0.000106  0.000000e+00  0.001421\n",
       "      RBP        0.000162  0.000000e+00  0.008922\n",
       "      RecipRank  0.000854  0.000000e+00  0.017774"
      ]
     },
     "execution_count": 13,
     "metadata": {},
     "output_type": "execute_result"
    }
   ],
   "source": [
    "ra = RunAnalysis()\n",
    "\n",
    "ra.add_metric(NDCG())\n",
    "ra.add_metric(RecipRank())\n",
    "ra.add_metric(RBP())\n",
    "\n",
    "rec_results = ra.compute(recs, test)\n",
    "rec_results.list_summary('model')"
   ]
  },
  {
   "cell_type": "markdown",
   "id": "2cda0b8b",
   "metadata": {
    "papermill": {
     "duration": 0.00886,
     "end_time": "2025-02-06T18:51:01.231774",
     "exception": false,
     "start_time": "2025-02-06T18:51:01.222914",
     "status": "completed"
    },
    "tags": []
   },
   "source": [
    "We can reshape the list metrics and plot them:"
   ]
  },
  {
   "cell_type": "code",
   "execution_count": 14,
   "id": "2501e294",
   "metadata": {
    "execution": {
     "iopub.execute_input": "2025-02-06T18:51:01.235207Z",
     "iopub.status.busy": "2025-02-06T18:51:01.235118Z",
     "iopub.status.idle": "2025-02-06T18:51:03.412946Z",
     "shell.execute_reply": "2025-02-06T18:51:03.412679Z"
    },
    "papermill": {
     "duration": 2.180386,
     "end_time": "2025-02-06T18:51:03.413641",
     "exception": false,
     "start_time": "2025-02-06T18:51:01.233255",
     "status": "completed"
    },
    "tags": []
   },
   "outputs": [
    {
     "data": {
      "image/png": "[encoded data removed]",
      "text/plain": [
       "<Figure size 1511.11x500 with 3 Axes>"
      ]
     },
     "metadata": {},
     "output_type": "display_data"
    }
   ],
   "source": [
    "metrics = rec_results.list_metrics()\n",
    "metrics = metrics.melt(var_name='metric', ignore_index=False).reset_index()\n",
    "sns.catplot(metrics, x='model', y='value', col='metric', kind='bar')\n",
    "plt.show()"
   ]
  },
  {
   "cell_type": "markdown",
   "id": "993824c4",
   "metadata": {
    "papermill": {
     "duration": 0.008716,
     "end_time": "2025-02-06T18:51:03.424159",
     "exception": false,
     "start_time": "2025-02-06T18:51:03.415443",
     "status": "completed"
    },
    "tags": []
   },
   "source": [
    "## Prediction RMSE\n",
    "\n",
    "We will also look at the prediction RMSE."
   ]
  },
  {
   "cell_type": "code",
   "execution_count": 15,
   "id": "03e3a07f",
   "metadata": {
    "execution": {
     "iopub.execute_input": "2025-02-06T18:51:03.427767Z",
     "iopub.status.busy": "2025-02-06T18:51:03.427679Z",
     "iopub.status.idle": "2025-02-06T18:51:22.930993Z",
     "shell.execute_reply": "2025-02-06T18:51:22.930825Z"
    },
    "papermill": {
     "duration": 19.505952,
     "end_time": "2025-02-06T18:51:22.931642",
     "exception": false,
     "start_time": "2025-02-06T18:51:03.425690",
     "status": "completed"
    },
    "tags": []
   },
   "outputs": [
    {
     "name": "stderr",
     "output_type": "stream",
     "text": [
      "/home/mde48/lenskit/lk-demo-experiment/.venv/lib/python3.13/site-packages/lenskit/metrics/bulk.py:127: FutureWarning: The previous implementation of stack is deprecated and will be removed in a future version of pandas. See the What's New notes for pandas 2.1.0 for details. Specify future_stack=True to adopt the new implementation and silence this warning.\n",
      "  df = scores.groupby(list(keys)).agg([\"mean\", \"median\", \"std\"]).stack(level=0)\n"
     ]
    },
    {
     "data": {
      "text/html": [
       "<div>\n",
       "<style scoped>\n",
       "    .dataframe tbody tr th:only-of-type {\n",
       "        vertical-align: middle;\n",
       "    }\n",
       "\n",
       "    .dataframe tbody tr th {\n",
       "        vertical-align: top;\n",
       "    }\n",
       "\n",
       "    .dataframe thead th {\n",
       "        text-align: right;\n",
       "    }\n",
       "</style>\n",
       "<table border=\"1\" class=\"dataframe\">\n",
       "  <thead>\n",
       "    <tr style=\"text-align: right;\">\n",
       "      <th></th>\n",
       "      <th></th>\n",
       "      <th>mean</th>\n",
       "      <th>median</th>\n",
       "      <th>std</th>\n",
       "    </tr>\n",
       "    <tr>\n",
       "      <th>model</th>\n",
       "      <th></th>\n",
       "      <th></th>\n",
       "      <th></th>\n",
       "      <th></th>\n",
       "    </tr>\n",
       "  </thead>\n",
       "  <tbody>\n",
       "    <tr>\n",
       "      <th>ALS</th>\n",
       "      <th>RMSE</th>\n",
       "      <td>0.934057</td>\n",
       "      <td>0.879421</td>\n",
       "      <td>0.340821</td>\n",
       "    </tr>\n",
       "    <tr>\n",
       "      <th>Bias</th>\n",
       "      <th>RMSE</th>\n",
       "      <td>0.939226</td>\n",
       "      <td>0.883568</td>\n",
       "      <td>0.340386</td>\n",
       "    </tr>\n",
       "    <tr>\n",
       "      <th>IIE</th>\n",
       "      <th>RMSE</th>\n",
       "      <td>0.943959</td>\n",
       "      <td>0.888869</td>\n",
       "      <td>0.341722</td>\n",
       "    </tr>\n",
       "    <tr>\n",
       "      <th>UUE</th>\n",
       "      <th>RMSE</th>\n",
       "      <td>0.946682</td>\n",
       "      <td>0.891274</td>\n",
       "      <td>0.340916</td>\n",
       "    </tr>\n",
       "  </tbody>\n",
       "</table>\n",
       "</div>"
      ],
      "text/plain": [
       "                mean    median       std\n",
       "model                                   \n",
       "ALS   RMSE  0.934057  0.879421  0.340821\n",
       "Bias  RMSE  0.939226  0.883568  0.340386\n",
       "IIE   RMSE  0.943959  0.888869  0.341722\n",
       "UUE   RMSE  0.946682  0.891274  0.340916"
      ]
     },
     "execution_count": 15,
     "metadata": {},
     "output_type": "execute_result"
    }
   ],
   "source": [
    "pa = RunAnalysis()\n",
    "\n",
    "pa.add_metric(RMSE(missing_scores='ignore', missing_truth='ignore'))\n",
    "\n",
    "pred_results = pa.compute(preds, test)\n",
    "pred_results.list_summary('model')"
   ]
  },
  {
   "cell_type": "code",
   "execution_count": 16,
   "id": "a637c5ce",
   "metadata": {
    "execution": {
     "iopub.execute_input": "2025-02-06T18:51:22.943233Z",
     "iopub.status.busy": "2025-02-06T18:51:22.943147Z",
     "iopub.status.idle": "2025-02-06T18:51:23.347581Z",
     "shell.execute_reply": "2025-02-06T18:51:23.347321Z"
    },
    "papermill": {
     "duration": 0.414675,
     "end_time": "2025-02-06T18:51:23.348219",
     "exception": false,
     "start_time": "2025-02-06T18:51:22.933544",
     "status": "completed"
    },
    "tags": []
   },
   "outputs": [
    {
     "data": {
      "image/png": "[encoded data removed]",
      "text/plain": [
       "<Figure size 511.111x500 with 1 Axes>"
      ]
     },
     "metadata": {},
     "output_type": "display_data"
    }
   ],
   "source": [
    "sns.catplot(pred_results.list_metrics().reset_index(), x='model', y='RMSE', kind='bar')\n",
    "plt.show()"
   ]
  },
  {
   "cell_type": "markdown",
   "id": "9a86aaec",
   "metadata": {
    "papermill": {
     "duration": 0.009213,
     "end_time": "2025-02-06T18:51:23.360705",
     "exception": false,
     "start_time": "2025-02-06T18:51:23.351492",
     "status": "completed"
    },
    "tags": []
   },
   "source": [
    "## Save Metrics\n",
    "\n",
    "We'll now save the metrics to a file."
   ]
  },
  {
   "cell_type": "code",
   "execution_count": 17,
   "id": "7cc6c33e",
   "metadata": {
    "execution": {
     "iopub.execute_input": "2025-02-06T18:51:23.364498Z",
     "iopub.status.busy": "2025-02-06T18:51:23.364418Z",
     "iopub.status.idle": "2025-02-06T18:51:23.385881Z",
     "shell.execute_reply": "2025-02-06T18:51:23.385716Z"
    },
    "papermill": {
     "duration": 0.023928,
     "end_time": "2025-02-06T18:51:23.386316",
     "exception": false,
     "start_time": "2025-02-06T18:51:23.362388",
     "status": "completed"
    },
    "tags": []
   },
   "outputs": [
    {
     "name": "stderr",
     "output_type": "stream",
     "text": [
      "/home/mde48/lenskit/lk-demo-experiment/.venv/lib/python3.13/site-packages/lenskit/metrics/bulk.py:127: FutureWarning: The previous implementation of stack is deprecated and will be removed in a future version of pandas. See the What's New notes for pandas 2.1.0 for details. Specify future_stack=True to adopt the new implementation and silence this warning.\n",
      "  df = scores.groupby(list(keys)).agg([\"mean\", \"median\", \"std\"]).stack(level=0)\n"
     ]
    },
    {
     "data": {
      "text/html": [
       "<div>\n",
       "<style scoped>\n",
       "    .dataframe tbody tr th:only-of-type {\n",
       "        vertical-align: middle;\n",
       "    }\n",
       "\n",
       "    .dataframe tbody tr th {\n",
       "        vertical-align: top;\n",
       "    }\n",
       "\n",
       "    .dataframe thead th {\n",
       "        text-align: right;\n",
       "    }\n",
       "</style>\n",
       "<table border=\"1\" class=\"dataframe\">\n",
       "  <thead>\n",
       "    <tr style=\"text-align: right;\">\n",
       "      <th></th>\n",
       "      <th>NDCG</th>\n",
       "      <th>RBP</th>\n",
       "      <th>RecipRank</th>\n",
       "    </tr>\n",
       "    <tr>\n",
       "      <th>model</th>\n",
       "      <th></th>\n",
       "      <th></th>\n",
       "      <th></th>\n",
       "    </tr>\n",
       "  </thead>\n",
       "  <tbody>\n",
       "    <tr>\n",
       "      <th>ALS</th>\n",
       "      <td>0.137630</td>\n",
       "      <td>0.393680</td>\n",
       "      <td>0.570788</td>\n",
       "    </tr>\n",
       "    <tr>\n",
       "      <th>Bias</th>\n",
       "      <td>0.141648</td>\n",
       "      <td>0.409035</td>\n",
       "      <td>0.595578</td>\n",
       "    </tr>\n",
       "    <tr>\n",
       "      <th>IALS</th>\n",
       "      <td>0.034277</td>\n",
       "      <td>0.032481</td>\n",
       "      <td>0.072360</td>\n",
       "    </tr>\n",
       "    <tr>\n",
       "      <th>IIE</th>\n",
       "      <td>0.000570</td>\n",
       "      <td>0.000378</td>\n",
       "      <td>0.001545</td>\n",
       "    </tr>\n",
       "    <tr>\n",
       "      <th>III</th>\n",
       "      <td>0.024112</td>\n",
       "      <td>0.039062</td>\n",
       "      <td>0.063854</td>\n",
       "    </tr>\n",
       "    <tr>\n",
       "      <th>Pop</th>\n",
       "      <td>0.221063</td>\n",
       "      <td>0.446459</td>\n",
       "      <td>0.601185</td>\n",
       "    </tr>\n",
       "    <tr>\n",
       "      <th>UUE</th>\n",
       "      <td>0.000106</td>\n",
       "      <td>0.000162</td>\n",
       "      <td>0.000854</td>\n",
       "    </tr>\n",
       "  </tbody>\n",
       "</table>\n",
       "</div>"
      ],
      "text/plain": [
       "           NDCG       RBP  RecipRank\n",
       "model                               \n",
       "ALS    0.137630  0.393680   0.570788\n",
       "Bias   0.141648  0.409035   0.595578\n",
       "IALS   0.034277  0.032481   0.072360\n",
       "IIE    0.000570  0.000378   0.001545\n",
       "III    0.024112  0.039062   0.063854\n",
       "Pop    0.221063  0.446459   0.601185\n",
       "UUE    0.000106  0.000162   0.000854"
      ]
     },
     "execution_count": 17,
     "metadata": {},
     "output_type": "execute_result"
    }
   ],
   "source": [
    "rlsum = rec_results.list_summary('model')['mean'].unstack()\n",
    "rlsum"
   ]
  },
  {
   "cell_type": "code",
   "execution_count": 18,
   "id": "1cfaa06d",
   "metadata": {
    "execution": {
     "iopub.execute_input": "2025-02-06T18:51:23.390202Z",
     "iopub.status.busy": "2025-02-06T18:51:23.390120Z",
     "iopub.status.idle": "2025-02-06T18:51:23.391937Z",
     "shell.execute_reply": "2025-02-06T18:51:23.391781Z"
    },
    "papermill": {
     "duration": 0.0044,
     "end_time": "2025-02-06T18:51:23.392516",
     "exception": false,
     "start_time": "2025-02-06T18:51:23.388116",
     "status": "completed"
    },
    "tags": []
   },
   "outputs": [],
   "source": [
    "rlsum.to_json(f'eval-metrics.{dataset}.json', orient='index')"
   ]
  }
 ],
 "metadata": {
  "jupytext": {
   "formats": "ipynb,md",
   "notebook_metadata_filter": "split_at_heading"
  },
  "kernelspec": {
   "display_name": "Python 3 (ipykernel)",
   "language": "python",
   "name": "python3"
  },
  "language_info": {
   "codemirror_mode": {
    "name": "ipython",
    "version": 3
   },
   "file_extension": ".py",
   "mimetype": "text/x-python",
   "name": "python",
   "nbconvert_exporter": "python",
   "pygments_lexer": "ipython3",
   "version": "3.13.1"
  },
  "papermill": {
   "default_parameters": {},
   "duration": 58.534801,
   "end_time": "2025-02-06T18:51:24.912101",
   "environment_variables": {},
   "exception": null,
   "input_path": "eval-report.ipynb",
   "output_path": "eval-report.ml-25m.ipynb",
   "parameters": {
    "dataset": "ml-25m"
   },
   "start_time": "2025-02-06T18:50:26.377300",
   "version": "2.6.0"
  },
  "split_at_heading": true
 },
 "nbformat": 4,
 "nbformat_minor": 5
}