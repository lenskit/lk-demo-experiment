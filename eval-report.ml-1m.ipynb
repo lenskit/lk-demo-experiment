{
 "cells": [
  {
   "cell_type": "markdown",
   "id": "605fd33a",
   "metadata": {
    "papermill": {
     "duration": 0.010405,
     "end_time": "2025-02-06T17:53:18.392855",
     "exception": false,
     "start_time": "2025-02-06T17:53:18.382450",
     "status": "completed"
    },
    "tags": []
   },
   "source": [
    "# Evaluation Analysis for Recommender Output"
   ]
  },
  {
   "cell_type": "markdown",
   "id": "60583352",
   "metadata": {
    "papermill": {
     "duration": 0.001162,
     "end_time": "2025-02-06T17:53:18.395432",
     "exception": false,
     "start_time": "2025-02-06T17:53:18.394270",
     "status": "completed"
    },
    "tags": []
   },
   "source": [
    "In this section we will analyze and compare the generated recommendations and predictions from a predefined list of algorithms with the goal of assessing the performance of each algorithm with respect to a metric. In other words, we would rank the algorithms for each metric considered with respect to performance."
   ]
  },
  {
   "cell_type": "markdown",
   "id": "4bb6a3e7",
   "metadata": {
    "papermill": {
     "duration": 0.00116,
     "end_time": "2025-02-06T17:53:18.397762",
     "exception": false,
     "start_time": "2025-02-06T17:53:18.396602",
     "status": "completed"
    },
    "tags": []
   },
   "source": [
    "## Setup"
   ]
  },
  {
   "cell_type": "markdown",
   "id": "d10343e5",
   "metadata": {
    "papermill": {
     "duration": 0.001461,
     "end_time": "2025-02-06T17:53:18.400412",
     "exception": false,
     "start_time": "2025-02-06T17:53:18.398951",
     "status": "completed"
    },
    "tags": []
   },
   "source": [
    "Below are the list of packages required to successfully run the analysis. They are divided into partitions to signify their specific task.<br>\n",
    "We need the pathlib package for working with files and folders"
   ]
  },
  {
   "cell_type": "code",
   "execution_count": 1,
   "id": "e366c574",
   "metadata": {
    "execution": {
     "iopub.execute_input": "2025-02-06T17:53:18.403398Z",
     "iopub.status.busy": "2025-02-06T17:53:18.403285Z",
     "iopub.status.idle": "2025-02-06T17:53:18.405441Z",
     "shell.execute_reply": "2025-02-06T17:53:18.405105Z"
    },
    "papermill": {
     "duration": 0.004466,
     "end_time": "2025-02-06T17:53:18.406085",
     "exception": false,
     "start_time": "2025-02-06T17:53:18.401619",
     "status": "completed"
    },
    "tags": []
   },
   "outputs": [],
   "source": [
    "from pathlib import Path\n",
    "import json"
   ]
  },
  {
   "cell_type": "markdown",
   "id": "f5cd5e83",
   "metadata": {
    "papermill": {
     "duration": 0.002351,
     "end_time": "2025-02-06T17:53:18.410584",
     "exception": false,
     "start_time": "2025-02-06T17:53:18.408233",
     "status": "completed"
    },
    "tags": []
   },
   "source": [
    "We would use the pandas for analyzing and manipulating our data while seaborn and matplotlib are used for data visualization. statsmodels.graphics.gofplots and scipy.stats.shapiro are used for normality check. Scipy.stats.friedmanchisquare is a non-parametric test used to determine the statistical significance in metric results and the wilcoxon test is used for pairwise comparison of sample data."
   ]
  },
  {
   "cell_type": "code",
   "execution_count": 2,
   "id": "35c4aa1e",
   "metadata": {
    "execution": {
     "iopub.execute_input": "2025-02-06T17:53:18.416022Z",
     "iopub.status.busy": "2025-02-06T17:53:18.415829Z",
     "iopub.status.idle": "2025-02-06T17:53:18.896011Z",
     "shell.execute_reply": "2025-02-06T17:53:18.895586Z"
    },
    "lines_to_next_cell": 2,
    "papermill": {
     "duration": 0.484008,
     "end_time": "2025-02-06T17:53:18.896985",
     "exception": false,
     "start_time": "2025-02-06T17:53:18.412977",
     "status": "completed"
    },
    "tags": []
   },
   "outputs": [],
   "source": [
    "import pandas as pd\n",
    "import seaborn as sns\n",
    "import matplotlib.pyplot as plt\n",
    "from statsmodels.graphics.gofplots import qqplot\n",
    "from scipy.stats import shapiro\n",
    "from scipy.stats import friedmanchisquare, wilcoxon\n",
    "from itertools import combinations"
   ]
  },
  {
   "cell_type": "markdown",
   "id": "b77c1db0",
   "metadata": {
    "papermill": {
     "duration": 0.008971,
     "end_time": "2025-02-06T17:53:18.908299",
     "exception": false,
     "start_time": "2025-02-06T17:53:18.899328",
     "status": "completed"
    },
    "tags": []
   },
   "source": [
    "Import the LensKit metrics for analysis:"
   ]
  },
  {
   "cell_type": "code",
   "execution_count": 3,
   "id": "86454f14",
   "metadata": {
    "execution": {
     "iopub.execute_input": "2025-02-06T17:53:18.911417Z",
     "iopub.status.busy": "2025-02-06T17:53:18.911284Z",
     "iopub.status.idle": "2025-02-06T17:53:19.575887Z",
     "shell.execute_reply": "2025-02-06T17:53:19.575480Z"
    },
    "papermill": {
     "duration": 0.6671,
     "end_time": "2025-02-06T17:53:19.576652",
     "exception": false,
     "start_time": "2025-02-06T17:53:18.909552",
     "status": "completed"
    },
    "tags": []
   },
   "outputs": [],
   "source": [
    "from lenskit.data import Dataset, ItemListCollection, UserIDKey\n",
    "from lenskit.metrics import RunAnalysis, RMSE, NDCG, RecipRank, RBP"
   ]
  },
  {
   "cell_type": "code",
   "execution_count": 4,
   "id": "1b539163",
   "metadata": {
    "execution": {
     "iopub.execute_input": "2025-02-06T17:53:19.587886Z",
     "iopub.status.busy": "2025-02-06T17:53:19.587772Z",
     "iopub.status.idle": "2025-02-06T17:53:19.590911Z",
     "shell.execute_reply": "2025-02-06T17:53:19.590503Z"
    },
    "papermill": {
     "duration": 0.013173,
     "end_time": "2025-02-06T17:53:19.591503",
     "exception": false,
     "start_time": "2025-02-06T17:53:19.578330",
     "status": "completed"
    },
    "tags": []
   },
   "outputs": [],
   "source": [
    "from lkdemo.datasets import split_fraction"
   ]
  },
  {
   "cell_type": "markdown",
   "id": "db65cf61",
   "metadata": {
    "papermill": {
     "duration": 0.001172,
     "end_time": "2025-02-06T17:53:19.594024",
     "exception": false,
     "start_time": "2025-02-06T17:53:19.592852",
     "status": "completed"
    },
    "tags": []
   },
   "source": [
    "## Load Data\n",
    "\n",
    "The recommendations are in `runs`, and we will need to reassemble the test data from `test`."
   ]
  },
  {
   "cell_type": "code",
   "execution_count": 5,
   "id": "de8c0535",
   "metadata": {
    "execution": {
     "iopub.execute_input": "2025-02-06T17:53:19.596995Z",
     "iopub.status.busy": "2025-02-06T17:53:19.596877Z",
     "iopub.status.idle": "2025-02-06T17:53:19.598327Z",
     "shell.execute_reply": "2025-02-06T17:53:19.598169Z"
    },
    "papermill": {
     "duration": 0.003384,
     "end_time": "2025-02-06T17:53:19.598641",
     "exception": false,
     "start_time": "2025-02-06T17:53:19.595257",
     "status": "completed"
    },
    "tags": [
     "parameters"
    ]
   },
   "outputs": [],
   "source": [
    "dataset = \"ml-100k\""
   ]
  },
  {
   "cell_type": "code",
   "execution_count": 6,
   "id": "9e551425",
   "metadata": {
    "execution": {
     "iopub.execute_input": "2025-02-06T17:53:19.601450Z",
     "iopub.status.busy": "2025-02-06T17:53:19.601380Z",
     "iopub.status.idle": "2025-02-06T17:53:19.602638Z",
     "shell.execute_reply": "2025-02-06T17:53:19.602490Z"
    },
    "papermill": {
     "duration": 0.003037,
     "end_time": "2025-02-06T17:53:19.602953",
     "exception": false,
     "start_time": "2025-02-06T17:53:19.599916",
     "status": "completed"
    },
    "tags": [
     "injected-parameters"
    ]
   },
   "outputs": [],
   "source": [
    "# Parameters\n",
    "dataset = \"ml-1m\"\n"
   ]
  },
  {
   "cell_type": "code",
   "execution_count": 7,
   "id": "f5ea83f3",
   "metadata": {
    "execution": {
     "iopub.execute_input": "2025-02-06T17:53:19.605809Z",
     "iopub.status.busy": "2025-02-06T17:53:19.605737Z",
     "iopub.status.idle": "2025-02-06T17:53:19.607052Z",
     "shell.execute_reply": "2025-02-06T17:53:19.606893Z"
    },
    "papermill": {
     "duration": 0.003109,
     "end_time": "2025-02-06T17:53:19.607351",
     "exception": false,
     "start_time": "2025-02-06T17:53:19.604242",
     "status": "completed"
    },
    "tags": []
   },
   "outputs": [],
   "source": [
    "output_root = Path(\"runs\")"
   ]
  },
  {
   "cell_type": "code",
   "execution_count": 8,
   "id": "327f8a13",
   "metadata": {
    "execution": {
     "iopub.execute_input": "2025-02-06T17:53:19.610131Z",
     "iopub.status.busy": "2025-02-06T17:53:19.610063Z",
     "iopub.status.idle": "2025-02-06T17:53:19.611548Z",
     "shell.execute_reply": "2025-02-06T17:53:19.611400Z"
    },
    "papermill": {
     "duration": 0.003197,
     "end_time": "2025-02-06T17:53:19.611835",
     "exception": false,
     "start_time": "2025-02-06T17:53:19.608638",
     "status": "completed"
    },
    "tags": []
   },
   "outputs": [],
   "source": [
    "dirs = [fld for fld in output_root.glob(f'{dataset}-*')]"
   ]
  },
  {
   "cell_type": "code",
   "execution_count": 9,
   "id": "a0d58d42",
   "metadata": {
    "execution": {
     "iopub.execute_input": "2025-02-06T17:53:19.614661Z",
     "iopub.status.busy": "2025-02-06T17:53:19.614587Z",
     "iopub.status.idle": "2025-02-06T17:53:19.624843Z",
     "shell.execute_reply": "2025-02-06T17:53:19.624658Z"
    },
    "papermill": {
     "duration": 0.012051,
     "end_time": "2025-02-06T17:53:19.625171",
     "exception": false,
     "start_time": "2025-02-06T17:53:19.613120",
     "status": "completed"
    },
    "tags": []
   },
   "outputs": [],
   "source": [
    "recs = ItemListCollection(['model', 'user_id'], index=False)\n",
    "for fld in dirs:\n",
    "    for file in fld.glob(\"recs-*\"):\n",
    "        rec = ItemListCollection.load_parquet(file)\n",
    "        recs.add_from(rec, model=fld.name.split(\"-\")[-1])"
   ]
  },
  {
   "cell_type": "code",
   "execution_count": 10,
   "id": "68039a12",
   "metadata": {
    "execution": {
     "iopub.execute_input": "2025-02-06T17:53:19.628157Z",
     "iopub.status.busy": "2025-02-06T17:53:19.628047Z",
     "iopub.status.idle": "2025-02-06T17:53:19.630616Z",
     "shell.execute_reply": "2025-02-06T17:53:19.630472Z"
    },
    "papermill": {
     "duration": 0.004363,
     "end_time": "2025-02-06T17:53:19.630921",
     "exception": false,
     "start_time": "2025-02-06T17:53:19.626558",
     "status": "completed"
    },
    "tags": []
   },
   "outputs": [
    {
     "data": {
      "text/plain": [
       "['ALS', 'Bias', 'IALS', 'IIE', 'III', 'Pop', 'UUE']"
      ]
     },
     "execution_count": 10,
     "metadata": {},
     "output_type": "execute_result"
    }
   ],
   "source": [
    "rec_algos = sorted(set(a for (a, _u) in recs.keys()))\n",
    "rec_algos"
   ]
  },
  {
   "cell_type": "code",
   "execution_count": 11,
   "id": "6ec8ce31",
   "metadata": {
    "execution": {
     "iopub.execute_input": "2025-02-06T17:53:19.633870Z",
     "iopub.status.busy": "2025-02-06T17:53:19.633801Z",
     "iopub.status.idle": "2025-02-06T17:53:19.638031Z",
     "shell.execute_reply": "2025-02-06T17:53:19.637871Z"
    },
    "papermill": {
     "duration": 0.006103,
     "end_time": "2025-02-06T17:53:19.638384",
     "exception": false,
     "start_time": "2025-02-06T17:53:19.632281",
     "status": "completed"
    },
    "tags": []
   },
   "outputs": [],
   "source": [
    "preds = ItemListCollection(['model', 'user_id'], index=False)\n",
    "for fld in dirs:\n",
    "    for file in fld.glob(\"pred-*\"):\n",
    "        pred = ItemListCollection.load_parquet(file)\n",
    "        preds.add_from(pred, model=fld.name.split(\"-\")[-1])"
   ]
  },
  {
   "cell_type": "markdown",
   "id": "d7984c97",
   "metadata": {
    "papermill": {
     "duration": 0.001331,
     "end_time": "2025-02-06T17:53:19.641198",
     "exception": false,
     "start_time": "2025-02-06T17:53:19.639867",
     "status": "completed"
    },
    "tags": []
   },
   "source": [
    "We need to load the test data so that we have the ground truths for computing accuracy"
   ]
  },
  {
   "cell_type": "code",
   "execution_count": 12,
   "id": "edea330e",
   "metadata": {
    "execution": {
     "iopub.execute_input": "2025-02-06T17:53:19.644207Z",
     "iopub.status.busy": "2025-02-06T17:53:19.644100Z",
     "iopub.status.idle": "2025-02-06T17:53:19.854328Z",
     "shell.execute_reply": "2025-02-06T17:53:19.853995Z"
    },
    "papermill": {
     "duration": 0.212486,
     "end_time": "2025-02-06T17:53:19.855046",
     "exception": false,
     "start_time": "2025-02-06T17:53:19.642560",
     "status": "completed"
    },
    "tags": []
   },
   "outputs": [],
   "source": [
    "data = Dataset.load(f\"data/{dataset}\")\n",
    "split = split_fraction(data, 0.2)\n",
    "test = split.test"
   ]
  },
  {
   "cell_type": "markdown",
   "id": "8d267c49",
   "metadata": {
    "papermill": {
     "duration": 0.00908,
     "end_time": "2025-02-06T17:53:19.865722",
     "exception": false,
     "start_time": "2025-02-06T17:53:19.856642",
     "status": "completed"
    },
    "tags": []
   },
   "source": [
    "## Top-N Metrics\n",
    "\n",
    "`RunListAnalysis` computes metrics for recommendation results and takes care of\n",
    "matching recommendations and ground truth."
   ]
  },
  {
   "cell_type": "code",
   "execution_count": 13,
   "id": "5c468e42",
   "metadata": {
    "execution": {
     "iopub.execute_input": "2025-02-06T17:53:19.868834Z",
     "iopub.status.busy": "2025-02-06T17:53:19.868759Z",
     "iopub.status.idle": "2025-02-06T17:53:19.878844Z",
     "shell.execute_reply": "2025-02-06T17:53:19.878692Z"
    },
    "papermill": {
     "duration": 0.012183,
     "end_time": "2025-02-06T17:53:19.879258",
     "exception": false,
     "start_time": "2025-02-06T17:53:19.867075",
     "status": "completed"
    },
    "tags": []
   },
   "outputs": [
    {
     "name": "stderr",
     "output_type": "stream",
     "text": [
      "/home/mde48/lenskit/lk-demo-experiment/.venv/lib/python3.13/site-packages/lenskit/metrics/bulk.py:127: FutureWarning: The previous implementation of stack is deprecated and will be removed in a future version of pandas. See the What's New notes for pandas 2.1.0 for details. Specify future_stack=True to adopt the new implementation and silence this warning.\n",
      "  df = scores.groupby(list(keys)).agg([\"mean\", \"median\", \"std\"]).stack(level=0)\n"
     ]
    },
    {
     "data": {
      "text/html": [
       "<div>\n",
       "<style scoped>\n",
       "    .dataframe tbody tr th:only-of-type {\n",
       "        vertical-align: middle;\n",
       "    }\n",
       "\n",
       "    .dataframe tbody tr th {\n",
       "        vertical-align: top;\n",
       "    }\n",
       "\n",
       "    .dataframe thead th {\n",
       "        text-align: right;\n",
       "    }\n",
       "</style>\n",
       "<table border=\"1\" class=\"dataframe\">\n",
       "  <thead>\n",
       "    <tr style=\"text-align: right;\">\n",
       "      <th></th>\n",
       "      <th></th>\n",
       "      <th>mean</th>\n",
       "      <th>median</th>\n",
       "      <th>std</th>\n",
       "    </tr>\n",
       "    <tr>\n",
       "      <th>model</th>\n",
       "      <th></th>\n",
       "      <th></th>\n",
       "      <th></th>\n",
       "      <th></th>\n",
       "    </tr>\n",
       "  </thead>\n",
       "  <tbody>\n",
       "    <tr>\n",
       "      <th rowspan=\"3\" valign=\"top\">ALS</th>\n",
       "      <th>NDCG</th>\n",
       "      <td>0.000000</td>\n",
       "      <td>0.000000</td>\n",
       "      <td>NaN</td>\n",
       "    </tr>\n",
       "    <tr>\n",
       "      <th>RBP</th>\n",
       "      <td>0.000000</td>\n",
       "      <td>0.000000</td>\n",
       "      <td>NaN</td>\n",
       "    </tr>\n",
       "    <tr>\n",
       "      <th>RecipRank</th>\n",
       "      <td>0.000000</td>\n",
       "      <td>0.000000</td>\n",
       "      <td>NaN</td>\n",
       "    </tr>\n",
       "    <tr>\n",
       "      <th rowspan=\"3\" valign=\"top\">Bias</th>\n",
       "      <th>NDCG</th>\n",
       "      <td>0.000000</td>\n",
       "      <td>0.000000</td>\n",
       "      <td>NaN</td>\n",
       "    </tr>\n",
       "    <tr>\n",
       "      <th>RBP</th>\n",
       "      <td>0.000000</td>\n",
       "      <td>0.000000</td>\n",
       "      <td>NaN</td>\n",
       "    </tr>\n",
       "    <tr>\n",
       "      <th>RecipRank</th>\n",
       "      <td>0.000000</td>\n",
       "      <td>0.000000</td>\n",
       "      <td>NaN</td>\n",
       "    </tr>\n",
       "    <tr>\n",
       "      <th rowspan=\"3\" valign=\"top\">IALS</th>\n",
       "      <th>NDCG</th>\n",
       "      <td>0.010140</td>\n",
       "      <td>0.010140</td>\n",
       "      <td>NaN</td>\n",
       "    </tr>\n",
       "    <tr>\n",
       "      <th>RBP</th>\n",
       "      <td>0.015625</td>\n",
       "      <td>0.015625</td>\n",
       "      <td>NaN</td>\n",
       "    </tr>\n",
       "    <tr>\n",
       "      <th>RecipRank</th>\n",
       "      <td>0.166667</td>\n",
       "      <td>0.166667</td>\n",
       "      <td>NaN</td>\n",
       "    </tr>\n",
       "    <tr>\n",
       "      <th rowspan=\"3\" valign=\"top\">IIE</th>\n",
       "      <th>NDCG</th>\n",
       "      <td>0.000000</td>\n",
       "      <td>0.000000</td>\n",
       "      <td>NaN</td>\n",
       "    </tr>\n",
       "    <tr>\n",
       "      <th>RBP</th>\n",
       "      <td>0.000000</td>\n",
       "      <td>0.000000</td>\n",
       "      <td>NaN</td>\n",
       "    </tr>\n",
       "    <tr>\n",
       "      <th>RecipRank</th>\n",
       "      <td>0.000000</td>\n",
       "      <td>0.000000</td>\n",
       "      <td>NaN</td>\n",
       "    </tr>\n",
       "    <tr>\n",
       "      <th rowspan=\"3\" valign=\"top\">III</th>\n",
       "      <th>NDCG</th>\n",
       "      <td>0.000000</td>\n",
       "      <td>0.000000</td>\n",
       "      <td>NaN</td>\n",
       "    </tr>\n",
       "    <tr>\n",
       "      <th>RBP</th>\n",
       "      <td>0.000000</td>\n",
       "      <td>0.000000</td>\n",
       "      <td>NaN</td>\n",
       "    </tr>\n",
       "    <tr>\n",
       "      <th>RecipRank</th>\n",
       "      <td>0.000000</td>\n",
       "      <td>0.000000</td>\n",
       "      <td>NaN</td>\n",
       "    </tr>\n",
       "    <tr>\n",
       "      <th rowspan=\"3\" valign=\"top\">Pop</th>\n",
       "      <th>NDCG</th>\n",
       "      <td>0.000000</td>\n",
       "      <td>0.000000</td>\n",
       "      <td>NaN</td>\n",
       "    </tr>\n",
       "    <tr>\n",
       "      <th>RBP</th>\n",
       "      <td>0.000000</td>\n",
       "      <td>0.000000</td>\n",
       "      <td>NaN</td>\n",
       "    </tr>\n",
       "    <tr>\n",
       "      <th>RecipRank</th>\n",
       "      <td>0.000000</td>\n",
       "      <td>0.000000</td>\n",
       "      <td>NaN</td>\n",
       "    </tr>\n",
       "    <tr>\n",
       "      <th rowspan=\"3\" valign=\"top\">UUE</th>\n",
       "      <th>NDCG</th>\n",
       "      <td>0.000000</td>\n",
       "      <td>0.000000</td>\n",
       "      <td>NaN</td>\n",
       "    </tr>\n",
       "    <tr>\n",
       "      <th>RBP</th>\n",
       "      <td>0.000000</td>\n",
       "      <td>0.000000</td>\n",
       "      <td>NaN</td>\n",
       "    </tr>\n",
       "    <tr>\n",
       "      <th>RecipRank</th>\n",
       "      <td>0.000000</td>\n",
       "      <td>0.000000</td>\n",
       "      <td>NaN</td>\n",
       "    </tr>\n",
       "  </tbody>\n",
       "</table>\n",
       "</div>"
      ],
      "text/plain": [
       "                     mean    median  std\n",
       "model                                   \n",
       "ALS   NDCG       0.000000  0.000000  NaN\n",
       "      RBP        0.000000  0.000000  NaN\n",
       "      RecipRank  0.000000  0.000000  NaN\n",
       "Bias  NDCG       0.000000  0.000000  NaN\n",
       "      RBP        0.000000  0.000000  NaN\n",
       "      RecipRank  0.000000  0.000000  NaN\n",
       "IALS  NDCG       0.010140  0.010140  NaN\n",
       "      RBP        0.015625  0.015625  NaN\n",
       "      RecipRank  0.166667  0.166667  NaN\n",
       "IIE   NDCG       0.000000  0.000000  NaN\n",
       "      RBP        0.000000  0.000000  NaN\n",
       "      RecipRank  0.000000  0.000000  NaN\n",
       "III   NDCG       0.000000  0.000000  NaN\n",
       "      RBP        0.000000  0.000000  NaN\n",
       "      RecipRank  0.000000  0.000000  NaN\n",
       "Pop   NDCG       0.000000  0.000000  NaN\n",
       "      RBP        0.000000  0.000000  NaN\n",
       "      RecipRank  0.000000  0.000000  NaN\n",
       "UUE   NDCG       0.000000  0.000000  NaN\n",
       "      RBP        0.000000  0.000000  NaN\n",
       "      RecipRank  0.000000  0.000000  NaN"
      ]
     },
     "execution_count": 13,
     "metadata": {},
     "output_type": "execute_result"
    }
   ],
   "source": [
    "ra = RunAnalysis()\n",
    "\n",
    "ra.add_metric(NDCG())\n",
    "ra.add_metric(RecipRank())\n",
    "ra.add_metric(RBP())\n",
    "\n",
    "rec_results = ra.compute(recs, test)\n",
    "rec_results.list_summary('model')"
   ]
  },
  {
   "cell_type": "markdown",
   "id": "2cda0b8b",
   "metadata": {
    "papermill": {
     "duration": 0.001384,
     "end_time": "2025-02-06T17:53:19.882133",
     "exception": false,
     "start_time": "2025-02-06T17:53:19.880749",
     "status": "completed"
    },
    "tags": []
   },
   "source": [
    "We can reshape the list metrics and plot them:"
   ]
  },
  {
   "cell_type": "code",
   "execution_count": 14,
   "id": "2501e294",
   "metadata": {
    "execution": {
     "iopub.execute_input": "2025-02-06T17:53:19.885360Z",
     "iopub.status.busy": "2025-02-06T17:53:19.885284Z",
     "iopub.status.idle": "2025-02-06T17:53:20.089735Z",
     "shell.execute_reply": "2025-02-06T17:53:20.089469Z"
    },
    "papermill": {
     "duration": 0.206801,
     "end_time": "2025-02-06T17:53:20.090395",
     "exception": false,
     "start_time": "2025-02-06T17:53:19.883594",
     "status": "completed"
    },
    "tags": []
   },
   "outputs": [
    {
     "data": {
      "image/png": "[encoded data removed]",
      "text/plain": [
       "<Figure size 1511.11x500 with 3 Axes>"
      ]
     },
     "metadata": {},
     "output_type": "display_data"
    }
   ],
   "source": [
    "metrics = rec_results.list_metrics()\n",
    "metrics = metrics.melt(var_name='metric', ignore_index=False).reset_index()\n",
    "sns.catplot(metrics, x='model', y='value', col='metric', kind='bar')\n",
    "plt.show()"
   ]
  },
  {
   "cell_type": "markdown",
   "id": "993824c4",
   "metadata": {
    "papermill": {
     "duration": 0.009039,
     "end_time": "2025-02-06T17:53:20.101236",
     "exception": false,
     "start_time": "2025-02-06T17:53:20.092197",
     "status": "completed"
    },
    "tags": []
   },
   "source": [
    "## Prediction RMSE\n",
    "\n",
    "We will also look at the prediction RMSE."
   ]
  },
  {
   "cell_type": "code",
   "execution_count": 15,
   "id": "03e3a07f",
   "metadata": {
    "execution": {
     "iopub.execute_input": "2025-02-06T17:53:20.104753Z",
     "iopub.status.busy": "2025-02-06T17:53:20.104668Z",
     "iopub.status.idle": "2025-02-06T17:53:20.111697Z",
     "shell.execute_reply": "2025-02-06T17:53:20.111544Z"
    },
    "papermill": {
     "duration": 0.009366,
     "end_time": "2025-02-06T17:53:20.112141",
     "exception": false,
     "start_time": "2025-02-06T17:53:20.102775",
     "status": "completed"
    },
    "tags": []
   },
   "outputs": [
    {
     "name": "stderr",
     "output_type": "stream",
     "text": [
      "/home/mde48/lenskit/lk-demo-experiment/.venv/lib/python3.13/site-packages/lenskit/metrics/bulk.py:127: FutureWarning: The previous implementation of stack is deprecated and will be removed in a future version of pandas. See the What's New notes for pandas 2.1.0 for details. Specify future_stack=True to adopt the new implementation and silence this warning.\n",
      "  df = scores.groupby(list(keys)).agg([\"mean\", \"median\", \"std\"]).stack(level=0)\n"
     ]
    },
    {
     "data": {
      "text/html": [
       "<div>\n",
       "<style scoped>\n",
       "    .dataframe tbody tr th:only-of-type {\n",
       "        vertical-align: middle;\n",
       "    }\n",
       "\n",
       "    .dataframe tbody tr th {\n",
       "        vertical-align: top;\n",
       "    }\n",
       "\n",
       "    .dataframe thead th {\n",
       "        text-align: right;\n",
       "    }\n",
       "</style>\n",
       "<table border=\"1\" class=\"dataframe\">\n",
       "  <thead>\n",
       "    <tr style=\"text-align: right;\">\n",
       "      <th></th>\n",
       "      <th></th>\n",
       "      <th>mean</th>\n",
       "      <th>median</th>\n",
       "      <th>std</th>\n",
       "    </tr>\n",
       "    <tr>\n",
       "      <th>model</th>\n",
       "      <th></th>\n",
       "      <th></th>\n",
       "      <th></th>\n",
       "      <th></th>\n",
       "    </tr>\n",
       "  </thead>\n",
       "  <tbody>\n",
       "    <tr>\n",
       "      <th>ALS</th>\n",
       "      <th>RMSE</th>\n",
       "      <td>0.108948</td>\n",
       "      <td>0.108948</td>\n",
       "      <td>NaN</td>\n",
       "    </tr>\n",
       "    <tr>\n",
       "      <th>Bias</th>\n",
       "      <th>RMSE</th>\n",
       "      <td>0.111886</td>\n",
       "      <td>0.111886</td>\n",
       "      <td>NaN</td>\n",
       "    </tr>\n",
       "    <tr>\n",
       "      <th>IIE</th>\n",
       "      <th>RMSE</th>\n",
       "      <td>0.101517</td>\n",
       "      <td>0.101517</td>\n",
       "      <td>NaN</td>\n",
       "    </tr>\n",
       "    <tr>\n",
       "      <th>UUE</th>\n",
       "      <th>RMSE</th>\n",
       "      <td>0.093054</td>\n",
       "      <td>0.093054</td>\n",
       "      <td>NaN</td>\n",
       "    </tr>\n",
       "  </tbody>\n",
       "</table>\n",
       "</div>"
      ],
      "text/plain": [
       "                mean    median  std\n",
       "model                              \n",
       "ALS   RMSE  0.108948  0.108948  NaN\n",
       "Bias  RMSE  0.111886  0.111886  NaN\n",
       "IIE   RMSE  0.101517  0.101517  NaN\n",
       "UUE   RMSE  0.093054  0.093054  NaN"
      ]
     },
     "execution_count": 15,
     "metadata": {},
     "output_type": "execute_result"
    }
   ],
   "source": [
    "pa = RunAnalysis()\n",
    "\n",
    "pa.add_metric(RMSE(missing_scores='ignore', missing_truth='ignore'))\n",
    "\n",
    "pred_results = pa.compute(preds, test)\n",
    "pred_results.list_summary('model')"
   ]
  },
  {
   "cell_type": "code",
   "execution_count": 16,
   "id": "a637c5ce",
   "metadata": {
    "execution": {
     "iopub.execute_input": "2025-02-06T17:53:20.115744Z",
     "iopub.status.busy": "2025-02-06T17:53:20.115635Z",
     "iopub.status.idle": "2025-02-06T17:53:20.171371Z",
     "shell.execute_reply": "2025-02-06T17:53:20.171114Z"
    },
    "papermill": {
     "duration": 0.0583,
     "end_time": "2025-02-06T17:53:20.172041",
     "exception": false,
     "start_time": "2025-02-06T17:53:20.113741",
     "status": "completed"
    },
    "tags": []
   },
   "outputs": [
    {
     "data": {
      "image/png": "[encoded data removed]",
      "text/plain": [
       "<Figure size 511.111x500 with 1 Axes>"
      ]
     },
     "metadata": {},
     "output_type": "display_data"
    }
   ],
   "source": [
    "sns.catplot(pred_results.list_metrics().reset_index(), x='model', y='RMSE', kind='bar')\n",
    "plt.show()"
   ]
  },
  {
   "cell_type": "markdown",
   "id": "9a86aaec",
   "metadata": {
    "papermill": {
     "duration": 0.001615,
     "end_time": "2025-02-06T17:53:20.176670",
     "exception": false,
     "start_time": "2025-02-06T17:53:20.175055",
     "status": "completed"
    },
    "tags": []
   },
   "source": [
    "## Save Metrics\n",
    "\n",
    "We'll now save the metrics to a file."
   ]
  },
  {
   "cell_type": "code",
   "execution_count": 17,
   "id": "7cc6c33e",
   "metadata": {
    "execution": {
     "iopub.execute_input": "2025-02-06T17:53:20.180203Z",
     "iopub.status.busy": "2025-02-06T17:53:20.180124Z",
     "iopub.status.idle": "2025-02-06T17:53:20.186261Z",
     "shell.execute_reply": "2025-02-06T17:53:20.186106Z"
    },
    "papermill": {
     "duration": 0.008635,
     "end_time": "2025-02-06T17:53:20.186902",
     "exception": false,
     "start_time": "2025-02-06T17:53:20.178267",
     "status": "completed"
    },
    "tags": []
   },
   "outputs": [
    {
     "name": "stderr",
     "output_type": "stream",
     "text": [
      "/home/mde48/lenskit/lk-demo-experiment/.venv/lib/python3.13/site-packages/lenskit/metrics/bulk.py:127: FutureWarning: The previous implementation of stack is deprecated and will be removed in a future version of pandas. See the What's New notes for pandas 2.1.0 for details. Specify future_stack=True to adopt the new implementation and silence this warning.\n",
      "  df = scores.groupby(list(keys)).agg([\"mean\", \"median\", \"std\"]).stack(level=0)\n"
     ]
    },
    {
     "data": {
      "text/html": [
       "<div>\n",
       "<style scoped>\n",
       "    .dataframe tbody tr th:only-of-type {\n",
       "        vertical-align: middle;\n",
       "    }\n",
       "\n",
       "    .dataframe tbody tr th {\n",
       "        vertical-align: top;\n",
       "    }\n",
       "\n",
       "    .dataframe thead th {\n",
       "        text-align: right;\n",
       "    }\n",
       "</style>\n",
       "<table border=\"1\" class=\"dataframe\">\n",
       "  <thead>\n",
       "    <tr style=\"text-align: right;\">\n",
       "      <th></th>\n",
       "      <th>NDCG</th>\n",
       "      <th>RBP</th>\n",
       "      <th>RecipRank</th>\n",
       "    </tr>\n",
       "    <tr>\n",
       "      <th>model</th>\n",
       "      <th></th>\n",
       "      <th></th>\n",
       "      <th></th>\n",
       "    </tr>\n",
       "  </thead>\n",
       "  <tbody>\n",
       "    <tr>\n",
       "      <th>ALS</th>\n",
       "      <td>0.00000</td>\n",
       "      <td>0.000000</td>\n",
       "      <td>0.000000</td>\n",
       "    </tr>\n",
       "    <tr>\n",
       "      <th>Bias</th>\n",
       "      <td>0.00000</td>\n",
       "      <td>0.000000</td>\n",
       "      <td>0.000000</td>\n",
       "    </tr>\n",
       "    <tr>\n",
       "      <th>IALS</th>\n",
       "      <td>0.01014</td>\n",
       "      <td>0.015625</td>\n",
       "      <td>0.166667</td>\n",
       "    </tr>\n",
       "    <tr>\n",
       "      <th>IIE</th>\n",
       "      <td>0.00000</td>\n",
       "      <td>0.000000</td>\n",
       "      <td>0.000000</td>\n",
       "    </tr>\n",
       "    <tr>\n",
       "      <th>III</th>\n",
       "      <td>0.00000</td>\n",
       "      <td>0.000000</td>\n",
       "      <td>0.000000</td>\n",
       "    </tr>\n",
       "    <tr>\n",
       "      <th>Pop</th>\n",
       "      <td>0.00000</td>\n",
       "      <td>0.000000</td>\n",
       "      <td>0.000000</td>\n",
       "    </tr>\n",
       "    <tr>\n",
       "      <th>UUE</th>\n",
       "      <td>0.00000</td>\n",
       "      <td>0.000000</td>\n",
       "      <td>0.000000</td>\n",
       "    </tr>\n",
       "  </tbody>\n",
       "</table>\n",
       "</div>"
      ],
      "text/plain": [
       "          NDCG       RBP  RecipRank\n",
       "model                              \n",
       "ALS    0.00000  0.000000   0.000000\n",
       "Bias   0.00000  0.000000   0.000000\n",
       "IALS   0.01014  0.015625   0.166667\n",
       "IIE    0.00000  0.000000   0.000000\n",
       "III    0.00000  0.000000   0.000000\n",
       "Pop    0.00000  0.000000   0.000000\n",
       "UUE    0.00000  0.000000   0.000000"
      ]
     },
     "execution_count": 17,
     "metadata": {},
     "output_type": "execute_result"
    }
   ],
   "source": [
    "rlsum = rec_results.list_summary('model')['mean'].unstack()\n",
    "rlsum"
   ]
  },
  {
   "cell_type": "code",
   "execution_count": 18,
   "id": "1cfaa06d",
   "metadata": {
    "execution": {
     "iopub.execute_input": "2025-02-06T17:53:20.190623Z",
     "iopub.status.busy": "2025-02-06T17:53:20.190553Z",
     "iopub.status.idle": "2025-02-06T17:53:20.192458Z",
     "shell.execute_reply": "2025-02-06T17:53:20.192304Z"
    },
    "papermill": {
     "duration": 0.004329,
     "end_time": "2025-02-06T17:53:20.192914",
     "exception": false,
     "start_time": "2025-02-06T17:53:20.188585",
     "status": "completed"
    },
    "tags": []
   },
   "outputs": [],
   "source": [
    "rlsum.to_json(f'eval-metrics.{dataset}.json', orient='index')"
   ]
  }
 ],
 "metadata": {
  "jupytext": {
   "formats": "ipynb,md",
   "notebook_metadata_filter": "split_at_heading"
  },
  "kernelspec": {
   "display_name": "Python 3 (ipykernel)",
   "language": "python",
   "name": "python3"
  },
  "language_info": {
   "codemirror_mode": {
    "name": "ipython",
    "version": 3
   },
   "file_extension": ".py",
   "mimetype": "text/x-python",
   "name": "python",
   "nbconvert_exporter": "python",
   "pygments_lexer": "ipython3",
   "version": "3.13.1"
  },
  "papermill": {
   "default_parameters": {},
   "duration": 2.843197,
   "end_time": "2025-02-06T17:53:20.608183",
   "environment_variables": {},
   "exception": null,
   "input_path": "eval-report.ipynb",
   "output_path": "eval-report.ml-1m.ipynb",
   "parameters": {
    "dataset": "ml-1m"
   },
   "start_time": "2025-02-06T17:53:17.764986",
   "version": "2.6.0"
  },
  "split_at_heading": true
 },
 "nbformat": 4,
 "nbformat_minor": 5
}