{
 "cells": [
  {
   "cell_type": "markdown",
   "id": "cf34c732",
   "metadata": {
    "papermill": {
     "duration": 0.010344,
     "end_time": "2025-02-22T22:41:16.131916",
     "exception": false,
     "start_time": "2025-02-22T22:41:16.121572",
     "status": "completed"
    },
    "tags": []
   },
   "source": [
    "# Evaluation Analysis for Recommender Output"
   ]
  },
  {
   "cell_type": "markdown",
   "id": "f179abe6",
   "metadata": {
    "papermill": {
     "duration": 0.001322,
     "end_time": "2025-02-22T22:41:16.134794",
     "exception": false,
     "start_time": "2025-02-22T22:41:16.133472",
     "status": "completed"
    },
    "tags": []
   },
   "source": [
    "In this section we will analyze and compare the generated recommendations and predictions from a predefined list of algorithms with the goal of assessing the performance of each algorithm with respect to a metric. In other words, we would rank the algorithms for each metric considered with respect to performance."
   ]
  },
  {
   "cell_type": "markdown",
   "id": "5d3472f4",
   "metadata": {
    "papermill": {
     "duration": 0.001288,
     "end_time": "2025-02-22T22:41:16.137390",
     "exception": false,
     "start_time": "2025-02-22T22:41:16.136102",
     "status": "completed"
    },
    "tags": []
   },
   "source": [
    "## Setup"
   ]
  },
  {
   "cell_type": "markdown",
   "id": "cc43fdaf",
   "metadata": {
    "papermill": {
     "duration": 0.004462,
     "end_time": "2025-02-22T22:41:16.143259",
     "exception": false,
     "start_time": "2025-02-22T22:41:16.138797",
     "status": "completed"
    },
    "tags": []
   },
   "source": [
    "Below are the list of packages required to successfully run the analysis. They are divided into partitions to signify their specific task.<br>\n",
    "We need the pathlib package for working with files and folders"
   ]
  },
  {
   "cell_type": "code",
   "execution_count": 1,
   "id": "014be844",
   "metadata": {
    "execution": {
     "iopub.execute_input": "2025-02-22T22:41:16.146597Z",
     "iopub.status.busy": "2025-02-22T22:41:16.146469Z",
     "iopub.status.idle": "2025-02-22T22:41:16.148228Z",
     "shell.execute_reply": "2025-02-22T22:41:16.148057Z"
    },
    "papermill": {
     "duration": 0.004214,
     "end_time": "2025-02-22T22:41:16.148807",
     "exception": false,
     "start_time": "2025-02-22T22:41:16.144593",
     "status": "completed"
    },
    "tags": []
   },
   "outputs": [],
   "source": [
    "from pathlib import Path\n",
    "import json"
   ]
  },
  {
   "cell_type": "markdown",
   "id": "2647251d",
   "metadata": {
    "papermill": {
     "duration": 0.001305,
     "end_time": "2025-02-22T22:41:16.151469",
     "exception": false,
     "start_time": "2025-02-22T22:41:16.150164",
     "status": "completed"
    },
    "tags": []
   },
   "source": [
    "Load libraries for analysis and visualization:"
   ]
  },
  {
   "cell_type": "code",
   "execution_count": 2,
   "id": "c1ed49d5",
   "metadata": {
    "execution": {
     "iopub.execute_input": "2025-02-22T22:41:16.154505Z",
     "iopub.status.busy": "2025-02-22T22:41:16.154424Z",
     "iopub.status.idle": "2025-02-22T22:41:16.623916Z",
     "shell.execute_reply": "2025-02-22T22:41:16.623638Z"
    },
    "lines_to_next_cell": 2,
    "papermill": {
     "duration": 0.471979,
     "end_time": "2025-02-22T22:41:16.624790",
     "exception": false,
     "start_time": "2025-02-22T22:41:16.152811",
     "status": "completed"
    },
    "tags": []
   },
   "outputs": [],
   "source": [
    "import numpy as np\n",
    "import seaborn as sns\n",
    "import matplotlib.pyplot as plt"
   ]
  },
  {
   "cell_type": "markdown",
   "id": "0586a019",
   "metadata": {
    "papermill": {
     "duration": 0.008617,
     "end_time": "2025-02-22T22:41:16.635158",
     "exception": false,
     "start_time": "2025-02-22T22:41:16.626541",
     "status": "completed"
    },
    "tags": []
   },
   "source": [
    "Import the LensKit metrics for analysis:"
   ]
  },
  {
   "cell_type": "code",
   "execution_count": 3,
   "id": "1760b3f8",
   "metadata": {
    "execution": {
     "iopub.execute_input": "2025-02-22T22:41:16.638491Z",
     "iopub.status.busy": "2025-02-22T22:41:16.638362Z",
     "iopub.status.idle": "2025-02-22T22:41:17.308736Z",
     "shell.execute_reply": "2025-02-22T22:41:17.308172Z"
    },
    "papermill": {
     "duration": 0.672935,
     "end_time": "2025-02-22T22:41:17.309530",
     "exception": false,
     "start_time": "2025-02-22T22:41:16.636595",
     "status": "completed"
    },
    "tags": []
   },
   "outputs": [],
   "source": [
    "from lenskit.data import Dataset, ItemListCollection\n",
    "from lenskit.metrics import RunAnalysis, RMSE, NDCG, RecipRank, RBP"
   ]
  },
  {
   "cell_type": "code",
   "execution_count": 4,
   "id": "8ad8a9b5",
   "metadata": {
    "execution": {
     "iopub.execute_input": "2025-02-22T22:41:17.318106Z",
     "iopub.status.busy": "2025-02-22T22:41:17.318005Z",
     "iopub.status.idle": "2025-02-22T22:41:17.320823Z",
     "shell.execute_reply": "2025-02-22T22:41:17.320657Z"
    },
    "papermill": {
     "duration": 0.01009,
     "end_time": "2025-02-22T22:41:17.321354",
     "exception": false,
     "start_time": "2025-02-22T22:41:17.311264",
     "status": "completed"
    },
    "tags": []
   },
   "outputs": [],
   "source": [
    "from lkdemo.datasets import split_fraction"
   ]
  },
  {
   "cell_type": "markdown",
   "id": "e4db960e",
   "metadata": {
    "papermill": {
     "duration": 0.001312,
     "end_time": "2025-02-22T22:41:17.324084",
     "exception": false,
     "start_time": "2025-02-22T22:41:17.322772",
     "status": "completed"
    },
    "tags": []
   },
   "source": [
    "## Load Data\n",
    "\n",
    "The recommendations are in `runs`, and we will need to reassemble the test data from `test`."
   ]
  },
  {
   "cell_type": "code",
   "execution_count": 5,
   "id": "f0b0bb95",
   "metadata": {
    "execution": {
     "iopub.execute_input": "2025-02-22T22:41:17.327121Z",
     "iopub.status.busy": "2025-02-22T22:41:17.327049Z",
     "iopub.status.idle": "2025-02-22T22:41:17.328332Z",
     "shell.execute_reply": "2025-02-22T22:41:17.328184Z"
    },
    "papermill": {
     "duration": 0.003296,
     "end_time": "2025-02-22T22:41:17.328716",
     "exception": false,
     "start_time": "2025-02-22T22:41:17.325420",
     "status": "completed"
    },
    "tags": [
     "parameters"
    ]
   },
   "outputs": [],
   "source": [
    "dataset = \"ml-100k\""
   ]
  },
  {
   "cell_type": "code",
   "execution_count": 6,
   "id": "8043123f",
   "metadata": {
    "execution": {
     "iopub.execute_input": "2025-02-22T22:41:17.331893Z",
     "iopub.status.busy": "2025-02-22T22:41:17.331823Z",
     "iopub.status.idle": "2025-02-22T22:41:17.333058Z",
     "shell.execute_reply": "2025-02-22T22:41:17.332917Z"
    },
    "papermill": {
     "duration": 0.003336,
     "end_time": "2025-02-22T22:41:17.333434",
     "exception": false,
     "start_time": "2025-02-22T22:41:17.330098",
     "status": "completed"
    },
    "tags": [
     "injected-parameters"
    ]
   },
   "outputs": [],
   "source": [
    "# Parameters\n",
    "dataset = \"ml-1m\"\n"
   ]
  },
  {
   "cell_type": "code",
   "execution_count": 7,
   "id": "bb15507d",
   "metadata": {
    "execution": {
     "iopub.execute_input": "2025-02-22T22:41:17.337135Z",
     "iopub.status.busy": "2025-02-22T22:41:17.337066Z",
     "iopub.status.idle": "2025-02-22T22:41:17.338327Z",
     "shell.execute_reply": "2025-02-22T22:41:17.338186Z"
    },
    "papermill": {
     "duration": 0.003274,
     "end_time": "2025-02-22T22:41:17.338701",
     "exception": false,
     "start_time": "2025-02-22T22:41:17.335427",
     "status": "completed"
    },
    "tags": []
   },
   "outputs": [],
   "source": [
    "output_root = Path(\"runs\")"
   ]
  },
  {
   "cell_type": "code",
   "execution_count": 8,
   "id": "ecff58cf",
   "metadata": {
    "execution": {
     "iopub.execute_input": "2025-02-22T22:41:17.341927Z",
     "iopub.status.busy": "2025-02-22T22:41:17.341858Z",
     "iopub.status.idle": "2025-02-22T22:41:17.343381Z",
     "shell.execute_reply": "2025-02-22T22:41:17.343223Z"
    },
    "papermill": {
     "duration": 0.003589,
     "end_time": "2025-02-22T22:41:17.343714",
     "exception": false,
     "start_time": "2025-02-22T22:41:17.340125",
     "status": "completed"
    },
    "tags": []
   },
   "outputs": [],
   "source": [
    "dirs = [fld for fld in output_root.glob(f'{dataset}-*')]"
   ]
  },
  {
   "cell_type": "code",
   "execution_count": 9,
   "id": "98ec44f8",
   "metadata": {
    "execution": {
     "iopub.execute_input": "2025-02-22T22:41:17.346873Z",
     "iopub.status.busy": "2025-02-22T22:41:17.346808Z",
     "iopub.status.idle": "2025-02-22T22:41:17.575003Z",
     "shell.execute_reply": "2025-02-22T22:41:17.574571Z"
    },
    "papermill": {
     "duration": 0.230892,
     "end_time": "2025-02-22T22:41:17.575978",
     "exception": false,
     "start_time": "2025-02-22T22:41:17.345086",
     "status": "completed"
    },
    "tags": []
   },
   "outputs": [],
   "source": [
    "recs = ItemListCollection(['model', 'user_id'], index=False)\n",
    "for fld in dirs:\n",
    "    for file in fld.glob(\"recs-*\"):\n",
    "        rec = ItemListCollection.load_parquet(file)\n",
    "        recs.add_from(rec, model=fld.name.split(\"-\")[-1])"
   ]
  },
  {
   "cell_type": "code",
   "execution_count": 10,
   "id": "16052016",
   "metadata": {
    "execution": {
     "iopub.execute_input": "2025-02-22T22:41:17.591187Z",
     "iopub.status.busy": "2025-02-22T22:41:17.591110Z",
     "iopub.status.idle": "2025-02-22T22:41:17.595030Z",
     "shell.execute_reply": "2025-02-22T22:41:17.594878Z"
    },
    "papermill": {
     "duration": 0.006514,
     "end_time": "2025-02-22T22:41:17.595586",
     "exception": false,
     "start_time": "2025-02-22T22:41:17.589072",
     "status": "completed"
    },
    "tags": []
   },
   "outputs": [
    {
     "data": {
      "text/plain": [
       "['ALS', 'Bias', 'IALS', 'IIE', 'III', 'Pop', 'UUE']"
      ]
     },
     "execution_count": 10,
     "metadata": {},
     "output_type": "execute_result"
    }
   ],
   "source": [
    "rec_algos = sorted(set(a for (a, _u) in recs.keys()))\n",
    "rec_algos"
   ]
  },
  {
   "cell_type": "code",
   "execution_count": 11,
   "id": "b44ae566",
   "metadata": {
    "execution": {
     "iopub.execute_input": "2025-02-22T22:41:17.599043Z",
     "iopub.status.busy": "2025-02-22T22:41:17.598977Z",
     "iopub.status.idle": "2025-02-22T22:41:17.784862Z",
     "shell.execute_reply": "2025-02-22T22:41:17.784439Z"
    },
    "papermill": {
     "duration": 0.188657,
     "end_time": "2025-02-22T22:41:17.785765",
     "exception": false,
     "start_time": "2025-02-22T22:41:17.597108",
     "status": "completed"
    },
    "tags": []
   },
   "outputs": [],
   "source": [
    "preds = ItemListCollection(['model', 'user_id'], index=False)\n",
    "for fld in dirs:\n",
    "    for file in fld.glob(\"pred-*\"):\n",
    "        pred = ItemListCollection.load_parquet(file)\n",
    "        preds.add_from(pred, model=fld.name.split(\"-\")[-1])"
   ]
  },
  {
   "cell_type": "markdown",
   "id": "c3d9a53d",
   "metadata": {
    "papermill": {
     "duration": 0.008877,
     "end_time": "2025-02-22T22:41:17.796422",
     "exception": false,
     "start_time": "2025-02-22T22:41:17.787545",
     "status": "completed"
    },
    "tags": []
   },
   "source": [
    "We need to load the test data so that we have the ground truths for computing accuracy."
   ]
  },
  {
   "cell_type": "code",
   "execution_count": 12,
   "id": "f617082d",
   "metadata": {
    "execution": {
     "iopub.execute_input": "2025-02-22T22:41:17.800126Z",
     "iopub.status.busy": "2025-02-22T22:41:17.800000Z",
     "iopub.status.idle": "2025-02-22T22:41:18.106628Z",
     "shell.execute_reply": "2025-02-22T22:41:18.106171Z"
    },
    "papermill": {
     "duration": 0.309612,
     "end_time": "2025-02-22T22:41:18.107532",
     "exception": false,
     "start_time": "2025-02-22T22:41:17.797920",
     "status": "completed"
    },
    "tags": []
   },
   "outputs": [],
   "source": [
    "data = Dataset.load(f\"data/{dataset}\")\n",
    "split = split_fraction(data, 0.2)\n",
    "test = split.test"
   ]
  },
  {
   "cell_type": "markdown",
   "id": "1211178a",
   "metadata": {
    "papermill": {
     "duration": 0.015621,
     "end_time": "2025-02-22T22:41:18.124949",
     "exception": false,
     "start_time": "2025-02-22T22:41:18.109328",
     "status": "completed"
    },
    "tags": []
   },
   "source": [
    "And identify users in the training set, so we only report metrics over them."
   ]
  },
  {
   "cell_type": "code",
   "execution_count": 13,
   "id": "ea5fd212",
   "metadata": {
    "execution": {
     "iopub.execute_input": "2025-02-22T22:41:18.128876Z",
     "iopub.status.busy": "2025-02-22T22:41:18.128759Z",
     "iopub.status.idle": "2025-02-22T22:41:18.185518Z",
     "shell.execute_reply": "2025-02-22T22:41:18.185131Z"
    },
    "papermill": {
     "duration": 0.059885,
     "end_time": "2025-02-22T22:41:18.186447",
     "exception": false,
     "start_time": "2025-02-22T22:41:18.126562",
     "status": "completed"
    },
    "tags": []
   },
   "outputs": [],
   "source": [
    "train_users = split.train.user_stats()\n",
    "train_users = train_users[train_users['rating_count'] > 0]"
   ]
  },
  {
   "cell_type": "markdown",
   "id": "e8ca3779",
   "metadata": {
    "papermill": {
     "duration": 0.001423,
     "end_time": "2025-02-22T22:41:18.189621",
     "exception": false,
     "start_time": "2025-02-22T22:41:18.188198",
     "status": "completed"
    },
    "tags": []
   },
   "source": [
    "## Top-N Metrics\n",
    "\n",
    "`RunListAnalysis` computes metrics for recommendation results and takes care of\n",
    "matching recommendations and ground truth."
   ]
  },
  {
   "cell_type": "code",
   "execution_count": 14,
   "id": "7012260e",
   "metadata": {
    "execution": {
     "iopub.execute_input": "2025-02-22T22:41:18.193205Z",
     "iopub.status.busy": "2025-02-22T22:41:18.193083Z",
     "iopub.status.idle": "2025-02-22T22:41:19.343190Z",
     "shell.execute_reply": "2025-02-22T22:41:19.343003Z"
    },
    "papermill": {
     "duration": 1.15279,
     "end_time": "2025-02-22T22:41:19.343852",
     "exception": false,
     "start_time": "2025-02-22T22:41:18.191062",
     "status": "completed"
    },
    "tags": []
   },
   "outputs": [
    {
     "name": "stderr",
     "output_type": "stream",
     "text": [
      "/home/mde48/lenskit/lk-demo-experiment/.venv/lib/python3.13/site-packages/lenskit/metrics/bulk.py:127: FutureWarning: The previous implementation of stack is deprecated and will be removed in a future version of pandas. See the What's New notes for pandas 2.1.0 for details. Specify future_stack=True to adopt the new implementation and silence this warning.\n",
      "  df = scores.groupby(list(keys)).agg([\"mean\", \"median\", \"std\"]).stack(level=0)\n"
     ]
    },
    {
     "data": {
      "text/html": [
       "<div>\n",
       "<style scoped>\n",
       "    .dataframe tbody tr th:only-of-type {\n",
       "        vertical-align: middle;\n",
       "    }\n",
       "\n",
       "    .dataframe tbody tr th {\n",
       "        vertical-align: top;\n",
       "    }\n",
       "\n",
       "    .dataframe thead th {\n",
       "        text-align: right;\n",
       "    }\n",
       "</style>\n",
       "<table border=\"1\" class=\"dataframe\">\n",
       "  <thead>\n",
       "    <tr style=\"text-align: right;\">\n",
       "      <th></th>\n",
       "      <th></th>\n",
       "      <th>mean</th>\n",
       "      <th>median</th>\n",
       "      <th>std</th>\n",
       "    </tr>\n",
       "    <tr>\n",
       "      <th>model</th>\n",
       "      <th></th>\n",
       "      <th></th>\n",
       "      <th></th>\n",
       "      <th></th>\n",
       "    </tr>\n",
       "  </thead>\n",
       "  <tbody>\n",
       "    <tr>\n",
       "      <th rowspan=\"3\" valign=\"top\">ALS</th>\n",
       "      <th>NDCG</th>\n",
       "      <td>0.107349</td>\n",
       "      <td>8.762198e-02</td>\n",
       "      <td>0.093322</td>\n",
       "    </tr>\n",
       "    <tr>\n",
       "      <th>RBP</th>\n",
       "      <td>0.138345</td>\n",
       "      <td>6.407255e-02</td>\n",
       "      <td>0.172552</td>\n",
       "    </tr>\n",
       "    <tr>\n",
       "      <th>RecipRank</th>\n",
       "      <td>0.261436</td>\n",
       "      <td>1.250000e-01</td>\n",
       "      <td>0.309230</td>\n",
       "    </tr>\n",
       "    <tr>\n",
       "      <th rowspan=\"3\" valign=\"top\">Bias</th>\n",
       "      <th>NDCG</th>\n",
       "      <td>0.106004</td>\n",
       "      <td>8.564795e-02</td>\n",
       "      <td>0.092345</td>\n",
       "    </tr>\n",
       "    <tr>\n",
       "      <th>RBP</th>\n",
       "      <td>0.137343</td>\n",
       "      <td>7.102358e-02</td>\n",
       "      <td>0.166864</td>\n",
       "    </tr>\n",
       "    <tr>\n",
       "      <th>RecipRank</th>\n",
       "      <td>0.245677</td>\n",
       "      <td>1.250000e-01</td>\n",
       "      <td>0.277671</td>\n",
       "    </tr>\n",
       "    <tr>\n",
       "      <th rowspan=\"3\" valign=\"top\">IALS</th>\n",
       "      <th>NDCG</th>\n",
       "      <td>0.111686</td>\n",
       "      <td>7.055683e-02</td>\n",
       "      <td>0.112362</td>\n",
       "    </tr>\n",
       "    <tr>\n",
       "      <th>RBP</th>\n",
       "      <td>0.112460</td>\n",
       "      <td>1.704118e-02</td>\n",
       "      <td>0.176247</td>\n",
       "    </tr>\n",
       "    <tr>\n",
       "      <th>RecipRank</th>\n",
       "      <td>0.209664</td>\n",
       "      <td>5.882353e-02</td>\n",
       "      <td>0.306494</td>\n",
       "    </tr>\n",
       "    <tr>\n",
       "      <th rowspan=\"3\" valign=\"top\">IIE</th>\n",
       "      <th>NDCG</th>\n",
       "      <td>0.042065</td>\n",
       "      <td>1.194101e-02</td>\n",
       "      <td>0.059622</td>\n",
       "    </tr>\n",
       "    <tr>\n",
       "      <th>RBP</th>\n",
       "      <td>0.029607</td>\n",
       "      <td>2.079036e-07</td>\n",
       "      <td>0.071335</td>\n",
       "    </tr>\n",
       "    <tr>\n",
       "      <th>RecipRank</th>\n",
       "      <td>0.058634</td>\n",
       "      <td>1.176471e-02</td>\n",
       "      <td>0.124962</td>\n",
       "    </tr>\n",
       "    <tr>\n",
       "      <th rowspan=\"3\" valign=\"top\">III</th>\n",
       "      <th>NDCG</th>\n",
       "      <td>0.113907</td>\n",
       "      <td>5.267823e-02</td>\n",
       "      <td>0.139673</td>\n",
       "    </tr>\n",
       "    <tr>\n",
       "      <th>RBP</th>\n",
       "      <td>0.160790</td>\n",
       "      <td>3.669370e-04</td>\n",
       "      <td>0.254071</td>\n",
       "    </tr>\n",
       "    <tr>\n",
       "      <th>RecipRank</th>\n",
       "      <td>0.273850</td>\n",
       "      <td>2.631579e-02</td>\n",
       "      <td>0.392796</td>\n",
       "    </tr>\n",
       "    <tr>\n",
       "      <th rowspan=\"3\" valign=\"top\">Pop</th>\n",
       "      <th>NDCG</th>\n",
       "      <td>0.223519</td>\n",
       "      <td>2.177198e-01</td>\n",
       "      <td>0.130122</td>\n",
       "    </tr>\n",
       "    <tr>\n",
       "      <th>RBP</th>\n",
       "      <td>0.328401</td>\n",
       "      <td>2.596966e-01</td>\n",
       "      <td>0.291568</td>\n",
       "    </tr>\n",
       "    <tr>\n",
       "      <th>RecipRank</th>\n",
       "      <td>0.542564</td>\n",
       "      <td>5.000000e-01</td>\n",
       "      <td>0.418496</td>\n",
       "    </tr>\n",
       "    <tr>\n",
       "      <th rowspan=\"3\" valign=\"top\">UUE</th>\n",
       "      <th>NDCG</th>\n",
       "      <td>0.034722</td>\n",
       "      <td>1.042421e-02</td>\n",
       "      <td>0.047978</td>\n",
       "    </tr>\n",
       "    <tr>\n",
       "      <th>RBP</th>\n",
       "      <td>0.013861</td>\n",
       "      <td>4.815401e-08</td>\n",
       "      <td>0.042194</td>\n",
       "    </tr>\n",
       "    <tr>\n",
       "      <th>RecipRank</th>\n",
       "      <td>0.031511</td>\n",
       "      <td>1.075269e-02</td>\n",
       "      <td>0.060464</td>\n",
       "    </tr>\n",
       "  </tbody>\n",
       "</table>\n",
       "</div>"
      ],
      "text/plain": [
       "                     mean        median       std\n",
       "model                                            \n",
       "ALS   NDCG       0.107349  8.762198e-02  0.093322\n",
       "      RBP        0.138345  6.407255e-02  0.172552\n",
       "      RecipRank  0.261436  1.250000e-01  0.309230\n",
       "Bias  NDCG       0.106004  8.564795e-02  0.092345\n",
       "      RBP        0.137343  7.102358e-02  0.166864\n",
       "      RecipRank  0.245677  1.250000e-01  0.277671\n",
       "IALS  NDCG       0.111686  7.055683e-02  0.112362\n",
       "      RBP        0.112460  1.704118e-02  0.176247\n",
       "      RecipRank  0.209664  5.882353e-02  0.306494\n",
       "IIE   NDCG       0.042065  1.194101e-02  0.059622\n",
       "      RBP        0.029607  2.079036e-07  0.071335\n",
       "      RecipRank  0.058634  1.176471e-02  0.124962\n",
       "III   NDCG       0.113907  5.267823e-02  0.139673\n",
       "      RBP        0.160790  3.669370e-04  0.254071\n",
       "      RecipRank  0.273850  2.631579e-02  0.392796\n",
       "Pop   NDCG       0.223519  2.177198e-01  0.130122\n",
       "      RBP        0.328401  2.596966e-01  0.291568\n",
       "      RecipRank  0.542564  5.000000e-01  0.418496\n",
       "UUE   NDCG       0.034722  1.042421e-02  0.047978\n",
       "      RBP        0.013861  4.815401e-08  0.042194\n",
       "      RecipRank  0.031511  1.075269e-02  0.060464"
      ]
     },
     "execution_count": 14,
     "metadata": {},
     "output_type": "execute_result"
    }
   ],
   "source": [
    "ra = RunAnalysis()\n",
    "\n",
    "ra.add_metric(NDCG())\n",
    "ra.add_metric(RecipRank())\n",
    "ra.add_metric(RBP())\n",
    "\n",
    "rec_results = ra.compute(recs, test)\n",
    "rec_results.list_summary('model')"
   ]
  },
  {
   "cell_type": "markdown",
   "id": "3f0d53d0",
   "metadata": {
    "papermill": {
     "duration": 0.008887,
     "end_time": "2025-02-22T22:41:19.355918",
     "exception": false,
     "start_time": "2025-02-22T22:41:19.347031",
     "status": "completed"
    },
    "tags": []
   },
   "source": [
    "We can reshape the list metrics and plot them, after filtering to only users with at least 1 training rating:"
   ]
  },
  {
   "cell_type": "code",
   "execution_count": 15,
   "id": "502397c1",
   "metadata": {
    "execution": {
     "iopub.execute_input": "2025-02-22T22:41:19.359814Z",
     "iopub.status.busy": "2025-02-22T22:41:19.359740Z",
     "iopub.status.idle": "2025-02-22T22:41:19.734061Z",
     "shell.execute_reply": "2025-02-22T22:41:19.733783Z"
    },
    "papermill": {
     "duration": 0.377214,
     "end_time": "2025-02-22T22:41:19.734833",
     "exception": false,
     "start_time": "2025-02-22T22:41:19.357619",
     "status": "completed"
    },
    "tags": []
   },
   "outputs": [
    {
     "data": {
      "image/png": "[encoded data removed]",
      "text/plain": [
       "<Figure size 1511.11x500 with 3 Axes>"
      ]
     },
     "metadata": {},
     "output_type": "display_data"
    }
   ],
   "source": [
    "metrics = rec_results.list_metrics()\n",
    "metrics = metrics.melt(var_name='metric', ignore_index=False).reset_index()\n",
    "metrics = metrics[metrics['user_id'].isin(train_users.index)]\n",
    "sns.catplot(metrics, x='model', y='value', col='metric', kind='bar')\n",
    "plt.show()"
   ]
  },
  {
   "cell_type": "markdown",
   "id": "d1c9fd07",
   "metadata": {
    "papermill": {
     "duration": 0.008893,
     "end_time": "2025-02-22T22:41:19.745668",
     "exception": false,
     "start_time": "2025-02-22T22:41:19.736775",
     "status": "completed"
    },
    "tags": []
   },
   "source": [
    "Let's look at the influence of training ratings on performance, clamping 15+ into a single category:"
   ]
  },
  {
   "cell_type": "code",
   "execution_count": 16,
   "id": "2c606bcf",
   "metadata": {
    "execution": {
     "iopub.execute_input": "2025-02-22T22:41:19.749501Z",
     "iopub.status.busy": "2025-02-22T22:41:19.749419Z",
     "iopub.status.idle": "2025-02-22T22:41:20.376794Z",
     "shell.execute_reply": "2025-02-22T22:41:20.376613Z"
    },
    "papermill": {
     "duration": 0.630205,
     "end_time": "2025-02-22T22:41:20.377493",
     "exception": false,
     "start_time": "2025-02-22T22:41:19.747288",
     "status": "completed"
    },
    "tags": []
   },
   "outputs": [
    {
     "data": {
      "image/png": "[encoded data removed]",
      "text/plain": [
       "<Figure size 640x480 with 1 Axes>"
      ]
     },
     "metadata": {},
     "output_type": "display_data"
    }
   ],
   "source": [
    "tcounts = split.train.user_stats()['rating_count'].copy()\n",
    "tcounts[tcounts > 15] = 15\n",
    "metrics = rec_results.list_metrics().reset_index().join(tcounts, on='user_id')\n",
    "sns.lineplot(metrics, x='rating_count', y='NDCG', hue='model', errorbar='ci')\n",
    "plt.xlabel('# of Training Ratings')\n",
    "rc_ticks = np.arange(0, 16, 3)\n",
    "plt.xticks(rc_ticks, rc_ticks[:-1].tolist() + ['15+'])\n",
    "plt.show()"
   ]
  },
  {
   "cell_type": "markdown",
   "id": "ed6e858c",
   "metadata": {
    "papermill": {
     "duration": 0.008918,
     "end_time": "2025-02-22T22:41:20.388674",
     "exception": false,
     "start_time": "2025-02-22T22:41:20.379756",
     "status": "completed"
    },
    "tags": []
   },
   "source": [
    "## Prediction RMSE\n",
    "\n",
    "We will also look at the prediction RMSE."
   ]
  },
  {
   "cell_type": "code",
   "execution_count": 17,
   "id": "b1f49098",
   "metadata": {
    "execution": {
     "iopub.execute_input": "2025-02-22T22:41:20.395195Z",
     "iopub.status.busy": "2025-02-22T22:41:20.395115Z",
     "iopub.status.idle": "2025-02-22T22:41:21.570673Z",
     "shell.execute_reply": "2025-02-22T22:41:21.570496Z"
    },
    "papermill": {
     "duration": 1.180706,
     "end_time": "2025-02-22T22:41:21.571313",
     "exception": false,
     "start_time": "2025-02-22T22:41:20.390607",
     "status": "completed"
    },
    "tags": []
   },
   "outputs": [
    {
     "name": "stderr",
     "output_type": "stream",
     "text": [
      "/home/mde48/lenskit/lk-demo-experiment/.venv/lib/python3.13/site-packages/lenskit/metrics/bulk.py:127: FutureWarning: The previous implementation of stack is deprecated and will be removed in a future version of pandas. See the What's New notes for pandas 2.1.0 for details. Specify future_stack=True to adopt the new implementation and silence this warning.\n",
      "  df = scores.groupby(list(keys)).agg([\"mean\", \"median\", \"std\"]).stack(level=0)\n"
     ]
    },
    {
     "data": {
      "text/html": [
       "<div>\n",
       "<style scoped>\n",
       "    .dataframe tbody tr th:only-of-type {\n",
       "        vertical-align: middle;\n",
       "    }\n",
       "\n",
       "    .dataframe tbody tr th {\n",
       "        vertical-align: top;\n",
       "    }\n",
       "\n",
       "    .dataframe thead th {\n",
       "        text-align: right;\n",
       "    }\n",
       "</style>\n",
       "<table border=\"1\" class=\"dataframe\">\n",
       "  <thead>\n",
       "    <tr style=\"text-align: right;\">\n",
       "      <th></th>\n",
       "      <th></th>\n",
       "      <th>mean</th>\n",
       "      <th>median</th>\n",
       "      <th>std</th>\n",
       "    </tr>\n",
       "    <tr>\n",
       "      <th>model</th>\n",
       "      <th></th>\n",
       "      <th></th>\n",
       "      <th></th>\n",
       "      <th></th>\n",
       "    </tr>\n",
       "  </thead>\n",
       "  <tbody>\n",
       "    <tr>\n",
       "      <th>ALS</th>\n",
       "      <th>RMSE</th>\n",
       "      <td>0.911415</td>\n",
       "      <td>0.883020</td>\n",
       "      <td>0.267941</td>\n",
       "    </tr>\n",
       "    <tr>\n",
       "      <th>Bias</th>\n",
       "      <th>RMSE</th>\n",
       "      <td>0.927785</td>\n",
       "      <td>0.901014</td>\n",
       "      <td>0.270145</td>\n",
       "    </tr>\n",
       "    <tr>\n",
       "      <th>IIE</th>\n",
       "      <th>RMSE</th>\n",
       "      <td>0.914029</td>\n",
       "      <td>0.883950</td>\n",
       "      <td>0.272659</td>\n",
       "    </tr>\n",
       "    <tr>\n",
       "      <th>UUE</th>\n",
       "      <th>RMSE</th>\n",
       "      <td>0.936178</td>\n",
       "      <td>0.908451</td>\n",
       "      <td>0.277874</td>\n",
       "    </tr>\n",
       "  </tbody>\n",
       "</table>\n",
       "</div>"
      ],
      "text/plain": [
       "                mean    median       std\n",
       "model                                   \n",
       "ALS   RMSE  0.911415  0.883020  0.267941\n",
       "Bias  RMSE  0.927785  0.901014  0.270145\n",
       "IIE   RMSE  0.914029  0.883950  0.272659\n",
       "UUE   RMSE  0.936178  0.908451  0.277874"
      ]
     },
     "execution_count": 17,
     "metadata": {},
     "output_type": "execute_result"
    }
   ],
   "source": [
    "pa = RunAnalysis()\n",
    "\n",
    "pa.add_metric(RMSE(missing_scores='ignore', missing_truth='ignore'))\n",
    "\n",
    "pred_results = pa.compute(preds, test)\n",
    "pred_results.list_summary('model')"
   ]
  },
  {
   "cell_type": "code",
   "execution_count": 18,
   "id": "550b1e9e",
   "metadata": {
    "execution": {
     "iopub.execute_input": "2025-02-22T22:41:21.583229Z",
     "iopub.status.busy": "2025-02-22T22:41:21.583159Z",
     "iopub.status.idle": "2025-02-22T22:41:21.671732Z",
     "shell.execute_reply": "2025-02-22T22:41:21.671568Z"
    },
    "papermill": {
     "duration": 0.098855,
     "end_time": "2025-02-22T22:41:21.672473",
     "exception": false,
     "start_time": "2025-02-22T22:41:21.573618",
     "status": "completed"
    },
    "tags": []
   },
   "outputs": [
    {
     "data": {
      "image/png": "[encoded data removed]",
      "text/plain": [
       "<Figure size 511.111x500 with 1 Axes>"
      ]
     },
     "metadata": {},
     "output_type": "display_data"
    }
   ],
   "source": [
    "pred_metrics = pred_results.list_metrics().reset_index()\n",
    "pred_metrics = pred_metrics[pred_metrics['user_id'].isin(train_users.index)]\n",
    "sns.catplot(pred_metrics, x='model', y='RMSE', kind='bar')\n",
    "plt.show()"
   ]
  },
  {
   "cell_type": "markdown",
   "id": "d87127d7",
   "metadata": {
    "papermill": {
     "duration": 0.002993,
     "end_time": "2025-02-22T22:41:21.677777",
     "exception": false,
     "start_time": "2025-02-22T22:41:21.674784",
     "status": "completed"
    },
    "tags": []
   },
   "source": [
    "## Save Metrics\n",
    "\n",
    "We'll now save the metrics to a file."
   ]
  },
  {
   "cell_type": "code",
   "execution_count": 19,
   "id": "c022814e",
   "metadata": {
    "execution": {
     "iopub.execute_input": "2025-02-22T22:41:21.682915Z",
     "iopub.status.busy": "2025-02-22T22:41:21.682842Z",
     "iopub.status.idle": "2025-02-22T22:41:21.690149Z",
     "shell.execute_reply": "2025-02-22T22:41:21.689997Z"
    },
    "papermill": {
     "duration": 0.010409,
     "end_time": "2025-02-22T22:41:21.690723",
     "exception": false,
     "start_time": "2025-02-22T22:41:21.680314",
     "status": "completed"
    },
    "tags": []
   },
   "outputs": [
    {
     "name": "stderr",
     "output_type": "stream",
     "text": [
      "/home/mde48/lenskit/lk-demo-experiment/.venv/lib/python3.13/site-packages/lenskit/metrics/bulk.py:127: FutureWarning: The previous implementation of stack is deprecated and will be removed in a future version of pandas. See the What's New notes for pandas 2.1.0 for details. Specify future_stack=True to adopt the new implementation and silence this warning.\n",
      "  df = scores.groupby(list(keys)).agg([\"mean\", \"median\", \"std\"]).stack(level=0)\n"
     ]
    },
    {
     "data": {
      "text/html": [
       "<div>\n",
       "<style scoped>\n",
       "    .dataframe tbody tr th:only-of-type {\n",
       "        vertical-align: middle;\n",
       "    }\n",
       "\n",
       "    .dataframe tbody tr th {\n",
       "        vertical-align: top;\n",
       "    }\n",
       "\n",
       "    .dataframe thead th {\n",
       "        text-align: right;\n",
       "    }\n",
       "</style>\n",
       "<table border=\"1\" class=\"dataframe\">\n",
       "  <thead>\n",
       "    <tr style=\"text-align: right;\">\n",
       "      <th></th>\n",
       "      <th>NDCG</th>\n",
       "      <th>RBP</th>\n",
       "      <th>RecipRank</th>\n",
       "    </tr>\n",
       "    <tr>\n",
       "      <th>model</th>\n",
       "      <th></th>\n",
       "      <th></th>\n",
       "      <th></th>\n",
       "    </tr>\n",
       "  </thead>\n",
       "  <tbody>\n",
       "    <tr>\n",
       "      <th>ALS</th>\n",
       "      <td>0.107349</td>\n",
       "      <td>0.138345</td>\n",
       "      <td>0.261436</td>\n",
       "    </tr>\n",
       "    <tr>\n",
       "      <th>Bias</th>\n",
       "      <td>0.106004</td>\n",
       "      <td>0.137343</td>\n",
       "      <td>0.245677</td>\n",
       "    </tr>\n",
       "    <tr>\n",
       "      <th>IALS</th>\n",
       "      <td>0.111686</td>\n",
       "      <td>0.112460</td>\n",
       "      <td>0.209664</td>\n",
       "    </tr>\n",
       "    <tr>\n",
       "      <th>IIE</th>\n",
       "      <td>0.042065</td>\n",
       "      <td>0.029607</td>\n",
       "      <td>0.058634</td>\n",
       "    </tr>\n",
       "    <tr>\n",
       "      <th>III</th>\n",
       "      <td>0.113907</td>\n",
       "      <td>0.160790</td>\n",
       "      <td>0.273850</td>\n",
       "    </tr>\n",
       "    <tr>\n",
       "      <th>Pop</th>\n",
       "      <td>0.223519</td>\n",
       "      <td>0.328401</td>\n",
       "      <td>0.542564</td>\n",
       "    </tr>\n",
       "    <tr>\n",
       "      <th>UUE</th>\n",
       "      <td>0.034722</td>\n",
       "      <td>0.013861</td>\n",
       "      <td>0.031511</td>\n",
       "    </tr>\n",
       "  </tbody>\n",
       "</table>\n",
       "</div>"
      ],
      "text/plain": [
       "           NDCG       RBP  RecipRank\n",
       "model                               \n",
       "ALS    0.107349  0.138345   0.261436\n",
       "Bias   0.106004  0.137343   0.245677\n",
       "IALS   0.111686  0.112460   0.209664\n",
       "IIE    0.042065  0.029607   0.058634\n",
       "III    0.113907  0.160790   0.273850\n",
       "Pop    0.223519  0.328401   0.542564\n",
       "UUE    0.034722  0.013861   0.031511"
      ]
     },
     "execution_count": 19,
     "metadata": {},
     "output_type": "execute_result"
    }
   ],
   "source": [
    "rlsum = rec_results.list_summary('model')['mean'].unstack()\n",
    "rlsum"
   ]
  },
  {
   "cell_type": "code",
   "execution_count": 20,
   "id": "64a6ae31",
   "metadata": {
    "execution": {
     "iopub.execute_input": "2025-02-22T22:41:21.695592Z",
     "iopub.status.busy": "2025-02-22T22:41:21.695472Z",
     "iopub.status.idle": "2025-02-22T22:41:21.697151Z",
     "shell.execute_reply": "2025-02-22T22:41:21.697001Z"
    },
    "papermill": {
     "duration": 0.004929,
     "end_time": "2025-02-22T22:41:21.697781",
     "exception": false,
     "start_time": "2025-02-22T22:41:21.692852",
     "status": "completed"
    },
    "tags": []
   },
   "outputs": [],
   "source": [
    "rlsum.to_json(f'eval-metrics.{dataset}.json', orient='index')"
   ]
  }
 ],
 "metadata": {
  "jupytext": {
   "formats": "ipynb,md",
   "notebook_metadata_filter": "split_at_heading"
  },
  "kernelspec": {
   "display_name": ".venv",
   "language": "python",
   "name": "python3"
  },
  "language_info": {
   "codemirror_mode": {
    "name": "ipython",
    "version": 3
   },
   "file_extension": ".py",
   "mimetype": "text/x-python",
   "name": "python",
   "nbconvert_exporter": "python",
   "pygments_lexer": "ipython3",
   "version": "3.13.2"
  },
  "papermill": {
   "default_parameters": {},
   "duration": 6.711962,
   "end_time": "2025-02-22T22:41:22.215420",
   "environment_variables": {},
   "exception": null,
   "input_path": "eval-report.ipynb",
   "output_path": "eval-report.ml-1m.ipynb",
   "parameters": {
    "dataset": "ml-1m"
   },
   "start_time": "2025-02-22T22:41:15.503458",
   "version": "2.6.0"
  },
  "split_at_heading": true
 },
 "nbformat": 4,
 "nbformat_minor": 5
}