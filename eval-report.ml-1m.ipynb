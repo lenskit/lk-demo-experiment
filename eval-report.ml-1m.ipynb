{
 "cells": [
  {
   "cell_type": "markdown",
   "id": "ca2a68d7",
   "metadata": {
    "papermill": {
     "duration": 0.010688,
     "end_time": "2025-02-22T22:25:10.496810",
     "exception": false,
     "start_time": "2025-02-22T22:25:10.486122",
     "status": "completed"
    },
    "tags": []
   },
   "source": [
    "# Evaluation Analysis for Recommender Output"
   ]
  },
  {
   "cell_type": "markdown",
   "id": "b63eda0c",
   "metadata": {
    "papermill": {
     "duration": 0.002498,
     "end_time": "2025-02-22T22:25:10.500744",
     "exception": false,
     "start_time": "2025-02-22T22:25:10.498246",
     "status": "completed"
    },
    "tags": []
   },
   "source": [
    "In this section we will analyze and compare the generated recommendations and predictions from a predefined list of algorithms with the goal of assessing the performance of each algorithm with respect to a metric. In other words, we would rank the algorithms for each metric considered with respect to performance."
   ]
  },
  {
   "cell_type": "markdown",
   "id": "36fb01ca",
   "metadata": {
    "papermill": {
     "duration": 0.001191,
     "end_time": "2025-02-22T22:25:10.503306",
     "exception": false,
     "start_time": "2025-02-22T22:25:10.502115",
     "status": "completed"
    },
    "tags": []
   },
   "source": [
    "## Setup"
   ]
  },
  {
   "cell_type": "markdown",
   "id": "21858d8a",
   "metadata": {
    "papermill": {
     "duration": 0.003458,
     "end_time": "2025-02-22T22:25:10.507963",
     "exception": false,
     "start_time": "2025-02-22T22:25:10.504505",
     "status": "completed"
    },
    "tags": []
   },
   "source": [
    "Below are the list of packages required to successfully run the analysis. They are divided into partitions to signify their specific task.<br>\n",
    "We need the pathlib package for working with files and folders"
   ]
  },
  {
   "cell_type": "code",
   "execution_count": 1,
   "id": "002c1a8e",
   "metadata": {
    "execution": {
     "iopub.execute_input": "2025-02-22T22:25:10.511349Z",
     "iopub.status.busy": "2025-02-22T22:25:10.511129Z",
     "iopub.status.idle": "2025-02-22T22:25:10.513902Z",
     "shell.execute_reply": "2025-02-22T22:25:10.513354Z"
    },
    "papermill": {
     "duration": 0.005333,
     "end_time": "2025-02-22T22:25:10.514539",
     "exception": false,
     "start_time": "2025-02-22T22:25:10.509206",
     "status": "completed"
    },
    "tags": []
   },
   "outputs": [],
   "source": [
    "from pathlib import Path\n",
    "import json"
   ]
  },
  {
   "cell_type": "markdown",
   "id": "d97e0d05",
   "metadata": {
    "papermill": {
     "duration": 0.00129,
     "end_time": "2025-02-22T22:25:10.517090",
     "exception": false,
     "start_time": "2025-02-22T22:25:10.515800",
     "status": "completed"
    },
    "tags": []
   },
   "source": [
    "Load libraries for analysis and visualization:"
   ]
  },
  {
   "cell_type": "code",
   "execution_count": 2,
   "id": "5dfaeefe",
   "metadata": {
    "execution": {
     "iopub.execute_input": "2025-02-22T22:25:10.520726Z",
     "iopub.status.busy": "2025-02-22T22:25:10.520368Z",
     "iopub.status.idle": "2025-02-22T22:25:10.994097Z",
     "shell.execute_reply": "2025-02-22T22:25:10.993687Z"
    },
    "lines_to_next_cell": 2,
    "papermill": {
     "duration": 0.476515,
     "end_time": "2025-02-22T22:25:10.994905",
     "exception": false,
     "start_time": "2025-02-22T22:25:10.518390",
     "status": "completed"
    },
    "tags": []
   },
   "outputs": [],
   "source": [
    "import seaborn as sns\n",
    "import matplotlib.pyplot as plt"
   ]
  },
  {
   "cell_type": "markdown",
   "id": "254c8bfe",
   "metadata": {
    "papermill": {
     "duration": 0.008777,
     "end_time": "2025-02-22T22:25:11.005303",
     "exception": false,
     "start_time": "2025-02-22T22:25:10.996526",
     "status": "completed"
    },
    "tags": []
   },
   "source": [
    "Import the LensKit metrics for analysis:"
   ]
  },
  {
   "cell_type": "code",
   "execution_count": 3,
   "id": "a1155fbc",
   "metadata": {
    "execution": {
     "iopub.execute_input": "2025-02-22T22:25:11.008798Z",
     "iopub.status.busy": "2025-02-22T22:25:11.008443Z",
     "iopub.status.idle": "2025-02-22T22:25:11.634103Z",
     "shell.execute_reply": "2025-02-22T22:25:11.633679Z"
    },
    "papermill": {
     "duration": 0.628148,
     "end_time": "2025-02-22T22:25:11.634821",
     "exception": false,
     "start_time": "2025-02-22T22:25:11.006673",
     "status": "completed"
    },
    "tags": []
   },
   "outputs": [],
   "source": [
    "from lenskit.data import Dataset, ItemListCollection\n",
    "from lenskit.metrics import RunAnalysis, RMSE, NDCG, RecipRank, RBP"
   ]
  },
  {
   "cell_type": "code",
   "execution_count": 4,
   "id": "43f2f0a9",
   "metadata": {
    "execution": {
     "iopub.execute_input": "2025-02-22T22:25:11.645806Z",
     "iopub.status.busy": "2025-02-22T22:25:11.645699Z",
     "iopub.status.idle": "2025-02-22T22:25:11.648312Z",
     "shell.execute_reply": "2025-02-22T22:25:11.648076Z"
    },
    "papermill": {
     "duration": 0.012317,
     "end_time": "2025-02-22T22:25:11.648730",
     "exception": false,
     "start_time": "2025-02-22T22:25:11.636413",
     "status": "completed"
    },
    "tags": []
   },
   "outputs": [],
   "source": [
    "from lkdemo.datasets import split_fraction"
   ]
  },
  {
   "cell_type": "markdown",
   "id": "35c34961",
   "metadata": {
    "papermill": {
     "duration": 0.001224,
     "end_time": "2025-02-22T22:25:11.651245",
     "exception": false,
     "start_time": "2025-02-22T22:25:11.650021",
     "status": "completed"
    },
    "tags": []
   },
   "source": [
    "## Load Data\n",
    "\n",
    "The recommendations are in `runs`, and we will need to reassemble the test data from `test`."
   ]
  },
  {
   "cell_type": "code",
   "execution_count": 5,
   "id": "3da98af4",
   "metadata": {
    "execution": {
     "iopub.execute_input": "2025-02-22T22:25:11.654244Z",
     "iopub.status.busy": "2025-02-22T22:25:11.654146Z",
     "iopub.status.idle": "2025-02-22T22:25:11.655662Z",
     "shell.execute_reply": "2025-02-22T22:25:11.655425Z"
    },
    "papermill": {
     "duration": 0.00357,
     "end_time": "2025-02-22T22:25:11.656104",
     "exception": false,
     "start_time": "2025-02-22T22:25:11.652534",
     "status": "completed"
    },
    "tags": [
     "parameters"
    ]
   },
   "outputs": [],
   "source": [
    "dataset = \"ml-100k\""
   ]
  },
  {
   "cell_type": "code",
   "execution_count": 6,
   "id": "e7f6149c",
   "metadata": {
    "execution": {
     "iopub.execute_input": "2025-02-22T22:25:11.659104Z",
     "iopub.status.busy": "2025-02-22T22:25:11.659008Z",
     "iopub.status.idle": "2025-02-22T22:25:11.660468Z",
     "shell.execute_reply": "2025-02-22T22:25:11.660243Z"
    },
    "papermill": {
     "duration": 0.003422,
     "end_time": "2025-02-22T22:25:11.660853",
     "exception": false,
     "start_time": "2025-02-22T22:25:11.657431",
     "status": "completed"
    },
    "tags": [
     "injected-parameters"
    ]
   },
   "outputs": [],
   "source": [
    "# Parameters\n",
    "dataset = \"ml-1m\"\n"
   ]
  },
  {
   "cell_type": "code",
   "execution_count": 7,
   "id": "c9bbbdee",
   "metadata": {
    "execution": {
     "iopub.execute_input": "2025-02-22T22:25:11.663881Z",
     "iopub.status.busy": "2025-02-22T22:25:11.663787Z",
     "iopub.status.idle": "2025-02-22T22:25:11.665283Z",
     "shell.execute_reply": "2025-02-22T22:25:11.665065Z"
    },
    "papermill": {
     "duration": 0.003473,
     "end_time": "2025-02-22T22:25:11.665678",
     "exception": false,
     "start_time": "2025-02-22T22:25:11.662205",
     "status": "completed"
    },
    "tags": []
   },
   "outputs": [],
   "source": [
    "output_root = Path(\"runs\")"
   ]
  },
  {
   "cell_type": "code",
   "execution_count": 8,
   "id": "8e1bd83e",
   "metadata": {
    "execution": {
     "iopub.execute_input": "2025-02-22T22:25:11.668779Z",
     "iopub.status.busy": "2025-02-22T22:25:11.668686Z",
     "iopub.status.idle": "2025-02-22T22:25:11.670421Z",
     "shell.execute_reply": "2025-02-22T22:25:11.670181Z"
    },
    "papermill": {
     "duration": 0.003806,
     "end_time": "2025-02-22T22:25:11.670822",
     "exception": false,
     "start_time": "2025-02-22T22:25:11.667016",
     "status": "completed"
    },
    "tags": []
   },
   "outputs": [],
   "source": [
    "dirs = [fld for fld in output_root.glob(f'{dataset}-*')]"
   ]
  },
  {
   "cell_type": "code",
   "execution_count": 9,
   "id": "0b5febd9",
   "metadata": {
    "execution": {
     "iopub.execute_input": "2025-02-22T22:25:11.673938Z",
     "iopub.status.busy": "2025-02-22T22:25:11.673841Z",
     "iopub.status.idle": "2025-02-22T22:25:11.908062Z",
     "shell.execute_reply": "2025-02-22T22:25:11.907412Z"
    },
    "papermill": {
     "duration": 0.236702,
     "end_time": "2025-02-22T22:25:11.908876",
     "exception": false,
     "start_time": "2025-02-22T22:25:11.672174",
     "status": "completed"
    },
    "tags": []
   },
   "outputs": [],
   "source": [
    "recs = ItemListCollection(['model', 'user_id'], index=False)\n",
    "for fld in dirs:\n",
    "    for file in fld.glob(\"recs-*\"):\n",
    "        rec = ItemListCollection.load_parquet(file)\n",
    "        recs.add_from(rec, model=fld.name.split(\"-\")[-1])"
   ]
  },
  {
   "cell_type": "code",
   "execution_count": 10,
   "id": "4b06a7b5",
   "metadata": {
    "execution": {
     "iopub.execute_input": "2025-02-22T22:25:11.912640Z",
     "iopub.status.busy": "2025-02-22T22:25:11.912444Z",
     "iopub.status.idle": "2025-02-22T22:25:11.916082Z",
     "shell.execute_reply": "2025-02-22T22:25:11.915852Z"
    },
    "papermill": {
     "duration": 0.006026,
     "end_time": "2025-02-22T22:25:11.916527",
     "exception": false,
     "start_time": "2025-02-22T22:25:11.910501",
     "status": "completed"
    },
    "tags": []
   },
   "outputs": [
    {
     "data": {
      "text/plain": [
       "['ALS', 'Bias', 'IALS', 'IIE', 'III', 'Pop', 'UUE']"
      ]
     },
     "execution_count": 10,
     "metadata": {},
     "output_type": "execute_result"
    }
   ],
   "source": [
    "rec_algos = sorted(set(a for (a, _u) in recs.keys()))\n",
    "rec_algos"
   ]
  },
  {
   "cell_type": "code",
   "execution_count": 11,
   "id": "0fe9ffda",
   "metadata": {
    "execution": {
     "iopub.execute_input": "2025-02-22T22:25:11.919971Z",
     "iopub.status.busy": "2025-02-22T22:25:11.919875Z",
     "iopub.status.idle": "2025-02-22T22:25:12.107974Z",
     "shell.execute_reply": "2025-02-22T22:25:12.107113Z"
    },
    "papermill": {
     "duration": 0.190731,
     "end_time": "2025-02-22T22:25:12.108810",
     "exception": false,
     "start_time": "2025-02-22T22:25:11.918079",
     "status": "completed"
    },
    "tags": []
   },
   "outputs": [],
   "source": [
    "preds = ItemListCollection(['model', 'user_id'], index=False)\n",
    "for fld in dirs:\n",
    "    for file in fld.glob(\"pred-*\"):\n",
    "        pred = ItemListCollection.load_parquet(file)\n",
    "        preds.add_from(pred, model=fld.name.split(\"-\")[-1])"
   ]
  },
  {
   "cell_type": "markdown",
   "id": "afae618c",
   "metadata": {
    "papermill": {
     "duration": 0.001448,
     "end_time": "2025-02-22T22:25:12.112013",
     "exception": false,
     "start_time": "2025-02-22T22:25:12.110565",
     "status": "completed"
    },
    "tags": []
   },
   "source": [
    "We need to load the test data so that we have the ground truths for computing accuracy."
   ]
  },
  {
   "cell_type": "code",
   "execution_count": 12,
   "id": "01ecdf7b",
   "metadata": {
    "execution": {
     "iopub.execute_input": "2025-02-22T22:25:12.115420Z",
     "iopub.status.busy": "2025-02-22T22:25:12.115323Z",
     "iopub.status.idle": "2025-02-22T22:25:12.397367Z",
     "shell.execute_reply": "2025-02-22T22:25:12.397128Z"
    },
    "papermill": {
     "duration": 0.284788,
     "end_time": "2025-02-22T22:25:12.398204",
     "exception": false,
     "start_time": "2025-02-22T22:25:12.113416",
     "status": "completed"
    },
    "tags": []
   },
   "outputs": [],
   "source": [
    "data = Dataset.load(f\"data/{dataset}\")\n",
    "split = split_fraction(data, 0.2)\n",
    "test = split.test"
   ]
  },
  {
   "cell_type": "markdown",
   "id": "291700d9",
   "metadata": {
    "papermill": {
     "duration": 0.009047,
     "end_time": "2025-02-22T22:25:12.408968",
     "exception": false,
     "start_time": "2025-02-22T22:25:12.399921",
     "status": "completed"
    },
    "tags": []
   },
   "source": [
    "And identify users in the training set, so we only report metrics over them."
   ]
  },
  {
   "cell_type": "code",
   "execution_count": 13,
   "id": "acfdbd1c",
   "metadata": {
    "execution": {
     "iopub.execute_input": "2025-02-22T22:25:12.412415Z",
     "iopub.status.busy": "2025-02-22T22:25:12.412322Z",
     "iopub.status.idle": "2025-02-22T22:25:12.468543Z",
     "shell.execute_reply": "2025-02-22T22:25:12.468317Z"
    },
    "papermill": {
     "duration": 0.058872,
     "end_time": "2025-02-22T22:25:12.469321",
     "exception": false,
     "start_time": "2025-02-22T22:25:12.410449",
     "status": "completed"
    },
    "tags": []
   },
   "outputs": [],
   "source": [
    "train_users = split.train.user_stats()\n",
    "train_users = train_users[train_users['rating_count'] > 0]"
   ]
  },
  {
   "cell_type": "markdown",
   "id": "bb7059cd",
   "metadata": {
    "papermill": {
     "duration": 0.001412,
     "end_time": "2025-02-22T22:25:12.472366",
     "exception": false,
     "start_time": "2025-02-22T22:25:12.470954",
     "status": "completed"
    },
    "tags": []
   },
   "source": [
    "## Top-N Metrics\n",
    "\n",
    "`RunListAnalysis` computes metrics for recommendation results and takes care of\n",
    "matching recommendations and ground truth."
   ]
  },
  {
   "cell_type": "code",
   "execution_count": 14,
   "id": "60a7550d",
   "metadata": {
    "execution": {
     "iopub.execute_input": "2025-02-22T22:25:12.475811Z",
     "iopub.status.busy": "2025-02-22T22:25:12.475689Z",
     "iopub.status.idle": "2025-02-22T22:25:13.619189Z",
     "shell.execute_reply": "2025-02-22T22:25:13.618839Z"
    },
    "papermill": {
     "duration": 1.145954,
     "end_time": "2025-02-22T22:25:13.619781",
     "exception": false,
     "start_time": "2025-02-22T22:25:12.473827",
     "status": "completed"
    },
    "tags": []
   },
   "outputs": [
    {
     "name": "stderr",
     "output_type": "stream",
     "text": [
      "/home/mde48/lenskit/lk-demo-experiment/.venv/lib/python3.13/site-packages/lenskit/metrics/bulk.py:127: FutureWarning: The previous implementation of stack is deprecated and will be removed in a future version of pandas. See the What's New notes for pandas 2.1.0 for details. Specify future_stack=True to adopt the new implementation and silence this warning.\n",
      "  df = scores.groupby(list(keys)).agg([\"mean\", \"median\", \"std\"]).stack(level=0)\n"
     ]
    },
    {
     "data": {
      "text/html": [
       "<div>\n",
       "<style scoped>\n",
       "    .dataframe tbody tr th:only-of-type {\n",
       "        vertical-align: middle;\n",
       "    }\n",
       "\n",
       "    .dataframe tbody tr th {\n",
       "        vertical-align: top;\n",
       "    }\n",
       "\n",
       "    .dataframe thead th {\n",
       "        text-align: right;\n",
       "    }\n",
       "</style>\n",
       "<table border=\"1\" class=\"dataframe\">\n",
       "  <thead>\n",
       "    <tr style=\"text-align: right;\">\n",
       "      <th></th>\n",
       "      <th></th>\n",
       "      <th>mean</th>\n",
       "      <th>median</th>\n",
       "      <th>std</th>\n",
       "    </tr>\n",
       "    <tr>\n",
       "      <th>model</th>\n",
       "      <th></th>\n",
       "      <th></th>\n",
       "      <th></th>\n",
       "      <th></th>\n",
       "    </tr>\n",
       "  </thead>\n",
       "  <tbody>\n",
       "    <tr>\n",
       "      <th rowspan=\"3\" valign=\"top\">ALS</th>\n",
       "      <th>NDCG</th>\n",
       "      <td>0.107349</td>\n",
       "      <td>8.762198e-02</td>\n",
       "      <td>0.093322</td>\n",
       "    </tr>\n",
       "    <tr>\n",
       "      <th>RBP</th>\n",
       "      <td>0.138345</td>\n",
       "      <td>6.407255e-02</td>\n",
       "      <td>0.172552</td>\n",
       "    </tr>\n",
       "    <tr>\n",
       "      <th>RecipRank</th>\n",
       "      <td>0.261436</td>\n",
       "      <td>1.250000e-01</td>\n",
       "      <td>0.309230</td>\n",
       "    </tr>\n",
       "    <tr>\n",
       "      <th rowspan=\"3\" valign=\"top\">Bias</th>\n",
       "      <th>NDCG</th>\n",
       "      <td>0.106004</td>\n",
       "      <td>8.564795e-02</td>\n",
       "      <td>0.092345</td>\n",
       "    </tr>\n",
       "    <tr>\n",
       "      <th>RBP</th>\n",
       "      <td>0.137343</td>\n",
       "      <td>7.102358e-02</td>\n",
       "      <td>0.166864</td>\n",
       "    </tr>\n",
       "    <tr>\n",
       "      <th>RecipRank</th>\n",
       "      <td>0.245677</td>\n",
       "      <td>1.250000e-01</td>\n",
       "      <td>0.277671</td>\n",
       "    </tr>\n",
       "    <tr>\n",
       "      <th rowspan=\"3\" valign=\"top\">IALS</th>\n",
       "      <th>NDCG</th>\n",
       "      <td>0.111686</td>\n",
       "      <td>7.055683e-02</td>\n",
       "      <td>0.112362</td>\n",
       "    </tr>\n",
       "    <tr>\n",
       "      <th>RBP</th>\n",
       "      <td>0.112460</td>\n",
       "      <td>1.704118e-02</td>\n",
       "      <td>0.176247</td>\n",
       "    </tr>\n",
       "    <tr>\n",
       "      <th>RecipRank</th>\n",
       "      <td>0.209664</td>\n",
       "      <td>5.882353e-02</td>\n",
       "      <td>0.306494</td>\n",
       "    </tr>\n",
       "    <tr>\n",
       "      <th rowspan=\"3\" valign=\"top\">IIE</th>\n",
       "      <th>NDCG</th>\n",
       "      <td>0.042065</td>\n",
       "      <td>1.194101e-02</td>\n",
       "      <td>0.059622</td>\n",
       "    </tr>\n",
       "    <tr>\n",
       "      <th>RBP</th>\n",
       "      <td>0.029607</td>\n",
       "      <td>2.079036e-07</td>\n",
       "      <td>0.071335</td>\n",
       "    </tr>\n",
       "    <tr>\n",
       "      <th>RecipRank</th>\n",
       "      <td>0.058634</td>\n",
       "      <td>1.176471e-02</td>\n",
       "      <td>0.124962</td>\n",
       "    </tr>\n",
       "    <tr>\n",
       "      <th rowspan=\"3\" valign=\"top\">III</th>\n",
       "      <th>NDCG</th>\n",
       "      <td>0.113907</td>\n",
       "      <td>5.267823e-02</td>\n",
       "      <td>0.139673</td>\n",
       "    </tr>\n",
       "    <tr>\n",
       "      <th>RBP</th>\n",
       "      <td>0.160790</td>\n",
       "      <td>3.669370e-04</td>\n",
       "      <td>0.254071</td>\n",
       "    </tr>\n",
       "    <tr>\n",
       "      <th>RecipRank</th>\n",
       "      <td>0.273850</td>\n",
       "      <td>2.631579e-02</td>\n",
       "      <td>0.392796</td>\n",
       "    </tr>\n",
       "    <tr>\n",
       "      <th rowspan=\"3\" valign=\"top\">Pop</th>\n",
       "      <th>NDCG</th>\n",
       "      <td>0.223519</td>\n",
       "      <td>2.177198e-01</td>\n",
       "      <td>0.130122</td>\n",
       "    </tr>\n",
       "    <tr>\n",
       "      <th>RBP</th>\n",
       "      <td>0.328401</td>\n",
       "      <td>2.596966e-01</td>\n",
       "      <td>0.291568</td>\n",
       "    </tr>\n",
       "    <tr>\n",
       "      <th>RecipRank</th>\n",
       "      <td>0.542564</td>\n",
       "      <td>5.000000e-01</td>\n",
       "      <td>0.418496</td>\n",
       "    </tr>\n",
       "    <tr>\n",
       "      <th rowspan=\"3\" valign=\"top\">UUE</th>\n",
       "      <th>NDCG</th>\n",
       "      <td>0.034722</td>\n",
       "      <td>1.042421e-02</td>\n",
       "      <td>0.047978</td>\n",
       "    </tr>\n",
       "    <tr>\n",
       "      <th>RBP</th>\n",
       "      <td>0.013861</td>\n",
       "      <td>4.815401e-08</td>\n",
       "      <td>0.042194</td>\n",
       "    </tr>\n",
       "    <tr>\n",
       "      <th>RecipRank</th>\n",
       "      <td>0.031511</td>\n",
       "      <td>1.075269e-02</td>\n",
       "      <td>0.060464</td>\n",
       "    </tr>\n",
       "  </tbody>\n",
       "</table>\n",
       "</div>"
      ],
      "text/plain": [
       "                     mean        median       std\n",
       "model                                            \n",
       "ALS   NDCG       0.107349  8.762198e-02  0.093322\n",
       "      RBP        0.138345  6.407255e-02  0.172552\n",
       "      RecipRank  0.261436  1.250000e-01  0.309230\n",
       "Bias  NDCG       0.106004  8.564795e-02  0.092345\n",
       "      RBP        0.137343  7.102358e-02  0.166864\n",
       "      RecipRank  0.245677  1.250000e-01  0.277671\n",
       "IALS  NDCG       0.111686  7.055683e-02  0.112362\n",
       "      RBP        0.112460  1.704118e-02  0.176247\n",
       "      RecipRank  0.209664  5.882353e-02  0.306494\n",
       "IIE   NDCG       0.042065  1.194101e-02  0.059622\n",
       "      RBP        0.029607  2.079036e-07  0.071335\n",
       "      RecipRank  0.058634  1.176471e-02  0.124962\n",
       "III   NDCG       0.113907  5.267823e-02  0.139673\n",
       "      RBP        0.160790  3.669370e-04  0.254071\n",
       "      RecipRank  0.273850  2.631579e-02  0.392796\n",
       "Pop   NDCG       0.223519  2.177198e-01  0.130122\n",
       "      RBP        0.328401  2.596966e-01  0.291568\n",
       "      RecipRank  0.542564  5.000000e-01  0.418496\n",
       "UUE   NDCG       0.034722  1.042421e-02  0.047978\n",
       "      RBP        0.013861  4.815401e-08  0.042194\n",
       "      RecipRank  0.031511  1.075269e-02  0.060464"
      ]
     },
     "execution_count": 14,
     "metadata": {},
     "output_type": "execute_result"
    }
   ],
   "source": [
    "ra = RunAnalysis()\n",
    "\n",
    "ra.add_metric(NDCG())\n",
    "ra.add_metric(RecipRank())\n",
    "ra.add_metric(RBP())\n",
    "\n",
    "rec_results = ra.compute(recs, test)\n",
    "rec_results.list_summary('model')"
   ]
  },
  {
   "cell_type": "markdown",
   "id": "c43d0a23",
   "metadata": {
    "papermill": {
     "duration": 0.009086,
     "end_time": "2025-02-22T22:25:13.630691",
     "exception": false,
     "start_time": "2025-02-22T22:25:13.621605",
     "status": "completed"
    },
    "tags": []
   },
   "source": [
    "We can reshape the list metrics and plot them:"
   ]
  },
  {
   "cell_type": "code",
   "execution_count": 15,
   "id": "9d2d5d12",
   "metadata": {
    "execution": {
     "iopub.execute_input": "2025-02-22T22:25:13.634278Z",
     "iopub.status.busy": "2025-02-22T22:25:13.634173Z",
     "iopub.status.idle": "2025-02-22T22:25:14.005810Z",
     "shell.execute_reply": "2025-02-22T22:25:14.005623Z"
    },
    "papermill": {
     "duration": 0.374025,
     "end_time": "2025-02-22T22:25:14.006338",
     "exception": false,
     "start_time": "2025-02-22T22:25:13.632313",
     "status": "completed"
    },
    "tags": []
   },
   "outputs": [
    {
     "data": {
      "image/png": "[encoded data removed]",
      "text/plain": [
       "<Figure size 1511.11x500 with 3 Axes>"
      ]
     },
     "metadata": {},
     "output_type": "display_data"
    }
   ],
   "source": [
    "metrics = rec_results.list_metrics()\n",
    "metrics = metrics.melt(var_name='metric', ignore_index=False).reset_index()\n",
    "metrics = metrics[metrics['user_id'].isin(train_users.index)]\n",
    "sns.catplot(metrics, x='model', y='value', col='metric', kind='bar')\n",
    "plt.show()"
   ]
  },
  {
   "cell_type": "markdown",
   "id": "c43e61ea",
   "metadata": {
    "papermill": {
     "duration": 0.009079,
     "end_time": "2025-02-22T22:25:14.018817",
     "exception": false,
     "start_time": "2025-02-22T22:25:14.009738",
     "status": "completed"
    },
    "tags": []
   },
   "source": [
    "## Prediction RMSE\n",
    "\n",
    "We will also look at the prediction RMSE."
   ]
  },
  {
   "cell_type": "code",
   "execution_count": 16,
   "id": "96b6d861",
   "metadata": {
    "execution": {
     "iopub.execute_input": "2025-02-22T22:25:14.022841Z",
     "iopub.status.busy": "2025-02-22T22:25:14.022743Z",
     "iopub.status.idle": "2025-02-22T22:25:15.164899Z",
     "shell.execute_reply": "2025-02-22T22:25:15.164727Z"
    },
    "papermill": {
     "duration": 1.144854,
     "end_time": "2025-02-22T22:25:15.165355",
     "exception": false,
     "start_time": "2025-02-22T22:25:14.020501",
     "status": "completed"
    },
    "tags": []
   },
   "outputs": [
    {
     "name": "stderr",
     "output_type": "stream",
     "text": [
      "/home/mde48/lenskit/lk-demo-experiment/.venv/lib/python3.13/site-packages/lenskit/metrics/bulk.py:127: FutureWarning: The previous implementation of stack is deprecated and will be removed in a future version of pandas. See the What's New notes for pandas 2.1.0 for details. Specify future_stack=True to adopt the new implementation and silence this warning.\n",
      "  df = scores.groupby(list(keys)).agg([\"mean\", \"median\", \"std\"]).stack(level=0)\n"
     ]
    },
    {
     "data": {
      "text/html": [
       "<div>\n",
       "<style scoped>\n",
       "    .dataframe tbody tr th:only-of-type {\n",
       "        vertical-align: middle;\n",
       "    }\n",
       "\n",
       "    .dataframe tbody tr th {\n",
       "        vertical-align: top;\n",
       "    }\n",
       "\n",
       "    .dataframe thead th {\n",
       "        text-align: right;\n",
       "    }\n",
       "</style>\n",
       "<table border=\"1\" class=\"dataframe\">\n",
       "  <thead>\n",
       "    <tr style=\"text-align: right;\">\n",
       "      <th></th>\n",
       "      <th></th>\n",
       "      <th>mean</th>\n",
       "      <th>median</th>\n",
       "      <th>std</th>\n",
       "    </tr>\n",
       "    <tr>\n",
       "      <th>model</th>\n",
       "      <th></th>\n",
       "      <th></th>\n",
       "      <th></th>\n",
       "      <th></th>\n",
       "    </tr>\n",
       "  </thead>\n",
       "  <tbody>\n",
       "    <tr>\n",
       "      <th>ALS</th>\n",
       "      <th>RMSE</th>\n",
       "      <td>0.911415</td>\n",
       "      <td>0.883020</td>\n",
       "      <td>0.267941</td>\n",
       "    </tr>\n",
       "    <tr>\n",
       "      <th>Bias</th>\n",
       "      <th>RMSE</th>\n",
       "      <td>0.927785</td>\n",
       "      <td>0.901014</td>\n",
       "      <td>0.270145</td>\n",
       "    </tr>\n",
       "    <tr>\n",
       "      <th>IIE</th>\n",
       "      <th>RMSE</th>\n",
       "      <td>0.914029</td>\n",
       "      <td>0.883950</td>\n",
       "      <td>0.272659</td>\n",
       "    </tr>\n",
       "    <tr>\n",
       "      <th>UUE</th>\n",
       "      <th>RMSE</th>\n",
       "      <td>0.936178</td>\n",
       "      <td>0.908451</td>\n",
       "      <td>0.277874</td>\n",
       "    </tr>\n",
       "  </tbody>\n",
       "</table>\n",
       "</div>"
      ],
      "text/plain": [
       "                mean    median       std\n",
       "model                                   \n",
       "ALS   RMSE  0.911415  0.883020  0.267941\n",
       "Bias  RMSE  0.927785  0.901014  0.270145\n",
       "IIE   RMSE  0.914029  0.883950  0.272659\n",
       "UUE   RMSE  0.936178  0.908451  0.277874"
      ]
     },
     "execution_count": 16,
     "metadata": {},
     "output_type": "execute_result"
    }
   ],
   "source": [
    "pa = RunAnalysis()\n",
    "\n",
    "pa.add_metric(RMSE(missing_scores='ignore', missing_truth='ignore'))\n",
    "\n",
    "pred_results = pa.compute(preds, test)\n",
    "pred_results.list_summary('model')"
   ]
  },
  {
   "cell_type": "code",
   "execution_count": 17,
   "id": "6d814573",
   "metadata": {
    "execution": {
     "iopub.execute_input": "2025-02-22T22:25:15.176625Z",
     "iopub.status.busy": "2025-02-22T22:25:15.176531Z",
     "iopub.status.idle": "2025-02-22T22:25:15.264309Z",
     "shell.execute_reply": "2025-02-22T22:25:15.264066Z"
    },
    "papermill": {
     "duration": 0.097563,
     "end_time": "2025-02-22T22:25:15.264947",
     "exception": false,
     "start_time": "2025-02-22T22:25:15.167384",
     "status": "completed"
    },
    "tags": []
   },
   "outputs": [
    {
     "data": {
      "image/png": "[encoded data removed]",
      "text/plain": [
       "<Figure size 511.111x500 with 1 Axes>"
      ]
     },
     "metadata": {},
     "output_type": "display_data"
    }
   ],
   "source": [
    "pred_metrics = pred_results.list_metrics().reset_index()\n",
    "pred_metrics = pred_metrics[pred_metrics['user_id'].isin(train_users.index)]\n",
    "sns.catplot(pred_metrics, x='model', y='RMSE', kind='bar')\n",
    "plt.show()"
   ]
  },
  {
   "cell_type": "markdown",
   "id": "150ed96b",
   "metadata": {
    "papermill": {
     "duration": 0.001768,
     "end_time": "2025-02-22T22:25:15.268565",
     "exception": false,
     "start_time": "2025-02-22T22:25:15.266797",
     "status": "completed"
    },
    "tags": []
   },
   "source": [
    "## Save Metrics\n",
    "\n",
    "We'll now save the metrics to a file."
   ]
  },
  {
   "cell_type": "code",
   "execution_count": 18,
   "id": "95247ac8",
   "metadata": {
    "execution": {
     "iopub.execute_input": "2025-02-22T22:25:15.272806Z",
     "iopub.status.busy": "2025-02-22T22:25:15.272718Z",
     "iopub.status.idle": "2025-02-22T22:25:15.279925Z",
     "shell.execute_reply": "2025-02-22T22:25:15.279765Z"
    },
    "papermill": {
     "duration": 0.009979,
     "end_time": "2025-02-22T22:25:15.280405",
     "exception": false,
     "start_time": "2025-02-22T22:25:15.270426",
     "status": "completed"
    },
    "tags": []
   },
   "outputs": [
    {
     "name": "stderr",
     "output_type": "stream",
     "text": [
      "/home/mde48/lenskit/lk-demo-experiment/.venv/lib/python3.13/site-packages/lenskit/metrics/bulk.py:127: FutureWarning: The previous implementation of stack is deprecated and will be removed in a future version of pandas. See the What's New notes for pandas 2.1.0 for details. Specify future_stack=True to adopt the new implementation and silence this warning.\n",
      "  df = scores.groupby(list(keys)).agg([\"mean\", \"median\", \"std\"]).stack(level=0)\n"
     ]
    },
    {
     "data": {
      "text/html": [
       "<div>\n",
       "<style scoped>\n",
       "    .dataframe tbody tr th:only-of-type {\n",
       "        vertical-align: middle;\n",
       "    }\n",
       "\n",
       "    .dataframe tbody tr th {\n",
       "        vertical-align: top;\n",
       "    }\n",
       "\n",
       "    .dataframe thead th {\n",
       "        text-align: right;\n",
       "    }\n",
       "</style>\n",
       "<table border=\"1\" class=\"dataframe\">\n",
       "  <thead>\n",
       "    <tr style=\"text-align: right;\">\n",
       "      <th></th>\n",
       "      <th>NDCG</th>\n",
       "      <th>RBP</th>\n",
       "      <th>RecipRank</th>\n",
       "    </tr>\n",
       "    <tr>\n",
       "      <th>model</th>\n",
       "      <th></th>\n",
       "      <th></th>\n",
       "      <th></th>\n",
       "    </tr>\n",
       "  </thead>\n",
       "  <tbody>\n",
       "    <tr>\n",
       "      <th>ALS</th>\n",
       "      <td>0.107349</td>\n",
       "      <td>0.138345</td>\n",
       "      <td>0.261436</td>\n",
       "    </tr>\n",
       "    <tr>\n",
       "      <th>Bias</th>\n",
       "      <td>0.106004</td>\n",
       "      <td>0.137343</td>\n",
       "      <td>0.245677</td>\n",
       "    </tr>\n",
       "    <tr>\n",
       "      <th>IALS</th>\n",
       "      <td>0.111686</td>\n",
       "      <td>0.112460</td>\n",
       "      <td>0.209664</td>\n",
       "    </tr>\n",
       "    <tr>\n",
       "      <th>IIE</th>\n",
       "      <td>0.042065</td>\n",
       "      <td>0.029607</td>\n",
       "      <td>0.058634</td>\n",
       "    </tr>\n",
       "    <tr>\n",
       "      <th>III</th>\n",
       "      <td>0.113907</td>\n",
       "      <td>0.160790</td>\n",
       "      <td>0.273850</td>\n",
       "    </tr>\n",
       "    <tr>\n",
       "      <th>Pop</th>\n",
       "      <td>0.223519</td>\n",
       "      <td>0.328401</td>\n",
       "      <td>0.542564</td>\n",
       "    </tr>\n",
       "    <tr>\n",
       "      <th>UUE</th>\n",
       "      <td>0.034722</td>\n",
       "      <td>0.013861</td>\n",
       "      <td>0.031511</td>\n",
       "    </tr>\n",
       "  </tbody>\n",
       "</table>\n",
       "</div>"
      ],
      "text/plain": [
       "           NDCG       RBP  RecipRank\n",
       "model                               \n",
       "ALS    0.107349  0.138345   0.261436\n",
       "Bias   0.106004  0.137343   0.245677\n",
       "IALS   0.111686  0.112460   0.209664\n",
       "IIE    0.042065  0.029607   0.058634\n",
       "III    0.113907  0.160790   0.273850\n",
       "Pop    0.223519  0.328401   0.542564\n",
       "UUE    0.034722  0.013861   0.031511"
      ]
     },
     "execution_count": 18,
     "metadata": {},
     "output_type": "execute_result"
    }
   ],
   "source": [
    "rlsum = rec_results.list_summary('model')['mean'].unstack()\n",
    "rlsum"
   ]
  },
  {
   "cell_type": "code",
   "execution_count": 19,
   "id": "fb76a470",
   "metadata": {
    "execution": {
     "iopub.execute_input": "2025-02-22T22:25:15.284665Z",
     "iopub.status.busy": "2025-02-22T22:25:15.284522Z",
     "iopub.status.idle": "2025-02-22T22:25:15.286228Z",
     "shell.execute_reply": "2025-02-22T22:25:15.286072Z"
    },
    "papermill": {
     "duration": 0.004522,
     "end_time": "2025-02-22T22:25:15.286753",
     "exception": false,
     "start_time": "2025-02-22T22:25:15.282231",
     "status": "completed"
    },
    "tags": []
   },
   "outputs": [],
   "source": [
    "rlsum.to_json(f'eval-metrics.{dataset}.json', orient='index')"
   ]
  }
 ],
 "metadata": {
  "jupytext": {
   "formats": "ipynb,md",
   "notebook_metadata_filter": "split_at_heading"
  },
  "kernelspec": {
   "display_name": ".venv",
   "language": "python",
   "name": "python3"
  },
  "language_info": {
   "codemirror_mode": {
    "name": "ipython",
    "version": 3
   },
   "file_extension": ".py",
   "mimetype": "text/x-python",
   "name": "python",
   "nbconvert_exporter": "python",
   "pygments_lexer": "ipython3",
   "version": "3.13.2"
  },
  "papermill": {
   "default_parameters": {},
   "duration": 5.940128,
   "end_time": "2025-02-22T22:25:15.803346",
   "environment_variables": {},
   "exception": null,
   "input_path": "eval-report.ipynb",
   "output_path": "eval-report.ml-1m.ipynb",
   "parameters": {
    "dataset": "ml-1m"
   },
   "start_time": "2025-02-22T22:25:09.863218",
   "version": "2.6.0"
  },
  "split_at_heading": true
 },
 "nbformat": 4,
 "nbformat_minor": 5
}