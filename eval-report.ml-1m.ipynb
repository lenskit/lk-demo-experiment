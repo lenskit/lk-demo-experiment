{
 "cells": [
  {
   "cell_type": "markdown",
   "id": "605fd33a",
   "metadata": {
    "papermill": {
     "duration": 0.010252,
     "end_time": "2025-02-06T18:01:12.016205",
     "exception": false,
     "start_time": "2025-02-06T18:01:12.005953",
     "status": "completed"
    },
    "tags": []
   },
   "source": [
    "# Evaluation Analysis for Recommender Output"
   ]
  },
  {
   "cell_type": "markdown",
   "id": "60583352",
   "metadata": {
    "papermill": {
     "duration": 0.001195,
     "end_time": "2025-02-06T18:01:12.018818",
     "exception": false,
     "start_time": "2025-02-06T18:01:12.017623",
     "status": "completed"
    },
    "tags": []
   },
   "source": [
    "In this section we will analyze and compare the generated recommendations and predictions from a predefined list of algorithms with the goal of assessing the performance of each algorithm with respect to a metric. In other words, we would rank the algorithms for each metric considered with respect to performance."
   ]
  },
  {
   "cell_type": "markdown",
   "id": "4bb6a3e7",
   "metadata": {
    "papermill": {
     "duration": 0.001142,
     "end_time": "2025-02-06T18:01:12.021174",
     "exception": false,
     "start_time": "2025-02-06T18:01:12.020032",
     "status": "completed"
    },
    "tags": []
   },
   "source": [
    "## Setup"
   ]
  },
  {
   "cell_type": "markdown",
   "id": "d10343e5",
   "metadata": {
    "papermill": {
     "duration": 0.001294,
     "end_time": "2025-02-06T18:01:12.023637",
     "exception": false,
     "start_time": "2025-02-06T18:01:12.022343",
     "status": "completed"
    },
    "tags": []
   },
   "source": [
    "Below are the list of packages required to successfully run the analysis. They are divided into partitions to signify their specific task.<br>\n",
    "We need the pathlib package for working with files and folders"
   ]
  },
  {
   "cell_type": "code",
   "execution_count": 1,
   "id": "e366c574",
   "metadata": {
    "execution": {
     "iopub.execute_input": "2025-02-06T18:01:12.026753Z",
     "iopub.status.busy": "2025-02-06T18:01:12.026653Z",
     "iopub.status.idle": "2025-02-06T18:01:12.029046Z",
     "shell.execute_reply": "2025-02-06T18:01:12.028800Z"
    },
    "papermill": {
     "duration": 0.004787,
     "end_time": "2025-02-06T18:01:12.029607",
     "exception": false,
     "start_time": "2025-02-06T18:01:12.024820",
     "status": "completed"
    },
    "tags": []
   },
   "outputs": [],
   "source": [
    "from pathlib import Path\n",
    "import json"
   ]
  },
  {
   "cell_type": "markdown",
   "id": "f5cd5e83",
   "metadata": {
    "papermill": {
     "duration": 0.00118,
     "end_time": "2025-02-06T18:01:12.032010",
     "exception": false,
     "start_time": "2025-02-06T18:01:12.030830",
     "status": "completed"
    },
    "tags": []
   },
   "source": [
    "We would use the pandas for analyzing and manipulating our data while seaborn and matplotlib are used for data visualization. statsmodels.graphics.gofplots and scipy.stats.shapiro are used for normality check. Scipy.stats.friedmanchisquare is a non-parametric test used to determine the statistical significance in metric results and the wilcoxon test is used for pairwise comparison of sample data."
   ]
  },
  {
   "cell_type": "code",
   "execution_count": 2,
   "id": "35c4aa1e",
   "metadata": {
    "execution": {
     "iopub.execute_input": "2025-02-06T18:01:12.034912Z",
     "iopub.status.busy": "2025-02-06T18:01:12.034845Z",
     "iopub.status.idle": "2025-02-06T18:01:12.529859Z",
     "shell.execute_reply": "2025-02-06T18:01:12.529330Z"
    },
    "lines_to_next_cell": 2,
    "papermill": {
     "duration": 0.497606,
     "end_time": "2025-02-06T18:01:12.530803",
     "exception": false,
     "start_time": "2025-02-06T18:01:12.033197",
     "status": "completed"
    },
    "tags": []
   },
   "outputs": [],
   "source": [
    "import pandas as pd\n",
    "import seaborn as sns\n",
    "import matplotlib.pyplot as plt\n",
    "from statsmodels.graphics.gofplots import qqplot\n",
    "from scipy.stats import shapiro\n",
    "from scipy.stats import friedmanchisquare, wilcoxon\n",
    "from itertools import combinations"
   ]
  },
  {
   "cell_type": "markdown",
   "id": "b77c1db0",
   "metadata": {
    "papermill": {
     "duration": 0.008836,
     "end_time": "2025-02-06T18:01:12.541110",
     "exception": false,
     "start_time": "2025-02-06T18:01:12.532274",
     "status": "completed"
    },
    "tags": []
   },
   "source": [
    "Import the LensKit metrics for analysis:"
   ]
  },
  {
   "cell_type": "code",
   "execution_count": 3,
   "id": "86454f14",
   "metadata": {
    "execution": {
     "iopub.execute_input": "2025-02-06T18:01:12.544222Z",
     "iopub.status.busy": "2025-02-06T18:01:12.544098Z",
     "iopub.status.idle": "2025-02-06T18:01:13.176576Z",
     "shell.execute_reply": "2025-02-06T18:01:13.176228Z"
    },
    "papermill": {
     "duration": 0.634991,
     "end_time": "2025-02-06T18:01:13.177433",
     "exception": false,
     "start_time": "2025-02-06T18:01:12.542442",
     "status": "completed"
    },
    "tags": []
   },
   "outputs": [],
   "source": [
    "from lenskit.data import Dataset, ItemListCollection, UserIDKey\n",
    "from lenskit.metrics import RunAnalysis, RMSE, NDCG, RecipRank, RBP"
   ]
  },
  {
   "cell_type": "code",
   "execution_count": 4,
   "id": "1b539163",
   "metadata": {
    "execution": {
     "iopub.execute_input": "2025-02-06T18:01:13.188473Z",
     "iopub.status.busy": "2025-02-06T18:01:13.188383Z",
     "iopub.status.idle": "2025-02-06T18:01:13.190966Z",
     "shell.execute_reply": "2025-02-06T18:01:13.190807Z"
    },
    "papermill": {
     "duration": 0.012496,
     "end_time": "2025-02-06T18:01:13.191540",
     "exception": false,
     "start_time": "2025-02-06T18:01:13.179044",
     "status": "completed"
    },
    "tags": []
   },
   "outputs": [],
   "source": [
    "from lkdemo.datasets import split_fraction"
   ]
  },
  {
   "cell_type": "markdown",
   "id": "db65cf61",
   "metadata": {
    "papermill": {
     "duration": 0.001187,
     "end_time": "2025-02-06T18:01:13.194010",
     "exception": false,
     "start_time": "2025-02-06T18:01:13.192823",
     "status": "completed"
    },
    "tags": []
   },
   "source": [
    "## Load Data\n",
    "\n",
    "The recommendations are in `runs`, and we will need to reassemble the test data from `test`."
   ]
  },
  {
   "cell_type": "code",
   "execution_count": 5,
   "id": "de8c0535",
   "metadata": {
    "execution": {
     "iopub.execute_input": "2025-02-06T18:01:13.196912Z",
     "iopub.status.busy": "2025-02-06T18:01:13.196839Z",
     "iopub.status.idle": "2025-02-06T18:01:13.198319Z",
     "shell.execute_reply": "2025-02-06T18:01:13.198168Z"
    },
    "papermill": {
     "duration": 0.003451,
     "end_time": "2025-02-06T18:01:13.198731",
     "exception": false,
     "start_time": "2025-02-06T18:01:13.195280",
     "status": "completed"
    },
    "tags": [
     "parameters"
    ]
   },
   "outputs": [],
   "source": [
    "dataset = \"ml-100k\""
   ]
  },
  {
   "cell_type": "code",
   "execution_count": 6,
   "id": "b363a298",
   "metadata": {
    "execution": {
     "iopub.execute_input": "2025-02-06T18:01:13.201494Z",
     "iopub.status.busy": "2025-02-06T18:01:13.201426Z",
     "iopub.status.idle": "2025-02-06T18:01:13.202634Z",
     "shell.execute_reply": "2025-02-06T18:01:13.202495Z"
    },
    "papermill": {
     "duration": 0.002959,
     "end_time": "2025-02-06T18:01:13.202948",
     "exception": false,
     "start_time": "2025-02-06T18:01:13.199989",
     "status": "completed"
    },
    "tags": [
     "injected-parameters"
    ]
   },
   "outputs": [],
   "source": [
    "# Parameters\n",
    "dataset = \"ml-1m\"\n"
   ]
  },
  {
   "cell_type": "code",
   "execution_count": 7,
   "id": "f5ea83f3",
   "metadata": {
    "execution": {
     "iopub.execute_input": "2025-02-06T18:01:13.205674Z",
     "iopub.status.busy": "2025-02-06T18:01:13.205606Z",
     "iopub.status.idle": "2025-02-06T18:01:13.206846Z",
     "shell.execute_reply": "2025-02-06T18:01:13.206707Z"
    },
    "papermill": {
     "duration": 0.002959,
     "end_time": "2025-02-06T18:01:13.207154",
     "exception": false,
     "start_time": "2025-02-06T18:01:13.204195",
     "status": "completed"
    },
    "tags": []
   },
   "outputs": [],
   "source": [
    "output_root = Path(\"runs\")"
   ]
  },
  {
   "cell_type": "code",
   "execution_count": 8,
   "id": "327f8a13",
   "metadata": {
    "execution": {
     "iopub.execute_input": "2025-02-06T18:01:13.209989Z",
     "iopub.status.busy": "2025-02-06T18:01:13.209921Z",
     "iopub.status.idle": "2025-02-06T18:01:13.211401Z",
     "shell.execute_reply": "2025-02-06T18:01:13.211257Z"
    },
    "papermill": {
     "duration": 0.003269,
     "end_time": "2025-02-06T18:01:13.211713",
     "exception": false,
     "start_time": "2025-02-06T18:01:13.208444",
     "status": "completed"
    },
    "tags": []
   },
   "outputs": [],
   "source": [
    "dirs = [fld for fld in output_root.glob(f'{dataset}-*')]"
   ]
  },
  {
   "cell_type": "code",
   "execution_count": 9,
   "id": "a0d58d42",
   "metadata": {
    "execution": {
     "iopub.execute_input": "2025-02-06T18:01:13.214633Z",
     "iopub.status.busy": "2025-02-06T18:01:13.214567Z",
     "iopub.status.idle": "2025-02-06T18:01:13.439086Z",
     "shell.execute_reply": "2025-02-06T18:01:13.438652Z"
    },
    "papermill": {
     "duration": 0.226897,
     "end_time": "2025-02-06T18:01:13.439893",
     "exception": false,
     "start_time": "2025-02-06T18:01:13.212996",
     "status": "completed"
    },
    "tags": []
   },
   "outputs": [],
   "source": [
    "recs = ItemListCollection(['model', 'user_id'], index=False)\n",
    "for fld in dirs:\n",
    "    for file in fld.glob(\"recs-*\"):\n",
    "        rec = ItemListCollection.load_parquet(file)\n",
    "        recs.add_from(rec, model=fld.name.split(\"-\")[-1])"
   ]
  },
  {
   "cell_type": "code",
   "execution_count": 10,
   "id": "68039a12",
   "metadata": {
    "execution": {
     "iopub.execute_input": "2025-02-06T18:01:13.451082Z",
     "iopub.status.busy": "2025-02-06T18:01:13.451001Z",
     "iopub.status.idle": "2025-02-06T18:01:13.455151Z",
     "shell.execute_reply": "2025-02-06T18:01:13.454831Z"
    },
    "papermill": {
     "duration": 0.014217,
     "end_time": "2025-02-06T18:01:13.455698",
     "exception": false,
     "start_time": "2025-02-06T18:01:13.441481",
     "status": "completed"
    },
    "tags": []
   },
   "outputs": [
    {
     "data": {
      "text/plain": [
       "['ALS', 'Bias', 'IALS', 'IIE', 'III', 'Pop', 'UUE']"
      ]
     },
     "execution_count": 10,
     "metadata": {},
     "output_type": "execute_result"
    }
   ],
   "source": [
    "rec_algos = sorted(set(a for (a, _u) in recs.keys()))\n",
    "rec_algos"
   ]
  },
  {
   "cell_type": "code",
   "execution_count": 11,
   "id": "6ec8ce31",
   "metadata": {
    "execution": {
     "iopub.execute_input": "2025-02-06T18:01:13.458762Z",
     "iopub.status.busy": "2025-02-06T18:01:13.458686Z",
     "iopub.status.idle": "2025-02-06T18:01:13.637638Z",
     "shell.execute_reply": "2025-02-06T18:01:13.637038Z"
    },
    "papermill": {
     "duration": 0.181549,
     "end_time": "2025-02-06T18:01:13.638628",
     "exception": false,
     "start_time": "2025-02-06T18:01:13.457079",
     "status": "completed"
    },
    "tags": []
   },
   "outputs": [],
   "source": [
    "preds = ItemListCollection(['model', 'user_id'], index=False)\n",
    "for fld in dirs:\n",
    "    for file in fld.glob(\"pred-*\"):\n",
    "        pred = ItemListCollection.load_parquet(file)\n",
    "        preds.add_from(pred, model=fld.name.split(\"-\")[-1])"
   ]
  },
  {
   "cell_type": "markdown",
   "id": "d7984c97",
   "metadata": {
    "papermill": {
     "duration": 0.008991,
     "end_time": "2025-02-06T18:01:13.649428",
     "exception": false,
     "start_time": "2025-02-06T18:01:13.640437",
     "status": "completed"
    },
    "tags": []
   },
   "source": [
    "We need to load the test data so that we have the ground truths for computing accuracy"
   ]
  },
  {
   "cell_type": "code",
   "execution_count": 12,
   "id": "edea330e",
   "metadata": {
    "execution": {
     "iopub.execute_input": "2025-02-06T18:01:13.652699Z",
     "iopub.status.busy": "2025-02-06T18:01:13.652614Z",
     "iopub.status.idle": "2025-02-06T18:01:13.932666Z",
     "shell.execute_reply": "2025-02-06T18:01:13.932157Z"
    },
    "papermill": {
     "duration": 0.282804,
     "end_time": "2025-02-06T18:01:13.933662",
     "exception": false,
     "start_time": "2025-02-06T18:01:13.650858",
     "status": "completed"
    },
    "tags": []
   },
   "outputs": [],
   "source": [
    "data = Dataset.load(f\"data/{dataset}\")\n",
    "split = split_fraction(data, 0.2)\n",
    "test = split.test"
   ]
  },
  {
   "cell_type": "markdown",
   "id": "8d267c49",
   "metadata": {
    "papermill": {
     "duration": 0.009004,
     "end_time": "2025-02-06T18:01:13.944314",
     "exception": false,
     "start_time": "2025-02-06T18:01:13.935310",
     "status": "completed"
    },
    "tags": []
   },
   "source": [
    "## Top-N Metrics\n",
    "\n",
    "`RunListAnalysis` computes metrics for recommendation results and takes care of\n",
    "matching recommendations and ground truth."
   ]
  },
  {
   "cell_type": "code",
   "execution_count": 13,
   "id": "5c468e42",
   "metadata": {
    "execution": {
     "iopub.execute_input": "2025-02-06T18:01:13.947765Z",
     "iopub.status.busy": "2025-02-06T18:01:13.947674Z",
     "iopub.status.idle": "2025-02-06T18:01:15.038149Z",
     "shell.execute_reply": "2025-02-06T18:01:15.037987Z"
    },
    "papermill": {
     "duration": 1.093024,
     "end_time": "2025-02-06T18:01:15.038785",
     "exception": false,
     "start_time": "2025-02-06T18:01:13.945761",
     "status": "completed"
    },
    "tags": []
   },
   "outputs": [
    {
     "name": "stderr",
     "output_type": "stream",
     "text": [
      "/home/mde48/lenskit/lk-demo-experiment/.venv/lib/python3.13/site-packages/lenskit/metrics/bulk.py:127: FutureWarning: The previous implementation of stack is deprecated and will be removed in a future version of pandas. See the What's New notes for pandas 2.1.0 for details. Specify future_stack=True to adopt the new implementation and silence this warning.\n",
      "  df = scores.groupby(list(keys)).agg([\"mean\", \"median\", \"std\"]).stack(level=0)\n"
     ]
    },
    {
     "data": {
      "text/html": [
       "<div>\n",
       "<style scoped>\n",
       "    .dataframe tbody tr th:only-of-type {\n",
       "        vertical-align: middle;\n",
       "    }\n",
       "\n",
       "    .dataframe tbody tr th {\n",
       "        vertical-align: top;\n",
       "    }\n",
       "\n",
       "    .dataframe thead th {\n",
       "        text-align: right;\n",
       "    }\n",
       "</style>\n",
       "<table border=\"1\" class=\"dataframe\">\n",
       "  <thead>\n",
       "    <tr style=\"text-align: right;\">\n",
       "      <th></th>\n",
       "      <th></th>\n",
       "      <th>mean</th>\n",
       "      <th>median</th>\n",
       "      <th>std</th>\n",
       "    </tr>\n",
       "    <tr>\n",
       "      <th>model</th>\n",
       "      <th></th>\n",
       "      <th></th>\n",
       "      <th></th>\n",
       "      <th></th>\n",
       "    </tr>\n",
       "  </thead>\n",
       "  <tbody>\n",
       "    <tr>\n",
       "      <th rowspan=\"3\" valign=\"top\">ALS</th>\n",
       "      <th>NDCG</th>\n",
       "      <td>0.107349</td>\n",
       "      <td>8.762198e-02</td>\n",
       "      <td>0.093322</td>\n",
       "    </tr>\n",
       "    <tr>\n",
       "      <th>RBP</th>\n",
       "      <td>0.137326</td>\n",
       "      <td>3.906509e-03</td>\n",
       "      <td>0.225401</td>\n",
       "    </tr>\n",
       "    <tr>\n",
       "      <th>RecipRank</th>\n",
       "      <td>0.261436</td>\n",
       "      <td>1.250000e-01</td>\n",
       "      <td>0.309230</td>\n",
       "    </tr>\n",
       "    <tr>\n",
       "      <th rowspan=\"3\" valign=\"top\">Bias</th>\n",
       "      <th>NDCG</th>\n",
       "      <td>0.106004</td>\n",
       "      <td>8.564795e-02</td>\n",
       "      <td>0.092345</td>\n",
       "    </tr>\n",
       "    <tr>\n",
       "      <th>RBP</th>\n",
       "      <td>0.125410</td>\n",
       "      <td>3.915923e-03</td>\n",
       "      <td>0.200427</td>\n",
       "    </tr>\n",
       "    <tr>\n",
       "      <th>RecipRank</th>\n",
       "      <td>0.245677</td>\n",
       "      <td>1.250000e-01</td>\n",
       "      <td>0.277671</td>\n",
       "    </tr>\n",
       "    <tr>\n",
       "      <th rowspan=\"3\" valign=\"top\">IALS</th>\n",
       "      <th>NDCG</th>\n",
       "      <td>0.111686</td>\n",
       "      <td>7.055683e-02</td>\n",
       "      <td>0.112362</td>\n",
       "    </tr>\n",
       "    <tr>\n",
       "      <th>RBP</th>\n",
       "      <td>0.109863</td>\n",
       "      <td>7.867813e-06</td>\n",
       "      <td>0.225897</td>\n",
       "    </tr>\n",
       "    <tr>\n",
       "      <th>RecipRank</th>\n",
       "      <td>0.209664</td>\n",
       "      <td>5.882353e-02</td>\n",
       "      <td>0.306494</td>\n",
       "    </tr>\n",
       "    <tr>\n",
       "      <th rowspan=\"3\" valign=\"top\">IIE</th>\n",
       "      <th>NDCG</th>\n",
       "      <td>0.042065</td>\n",
       "      <td>1.194101e-02</td>\n",
       "      <td>0.059622</td>\n",
       "    </tr>\n",
       "    <tr>\n",
       "      <th>RBP</th>\n",
       "      <td>0.015512</td>\n",
       "      <td>2.589988e-26</td>\n",
       "      <td>0.071668</td>\n",
       "    </tr>\n",
       "    <tr>\n",
       "      <th>RecipRank</th>\n",
       "      <td>0.058634</td>\n",
       "      <td>1.176471e-02</td>\n",
       "      <td>0.124962</td>\n",
       "    </tr>\n",
       "    <tr>\n",
       "      <th rowspan=\"3\" valign=\"top\">III</th>\n",
       "      <th>NDCG</th>\n",
       "      <td>0.113907</td>\n",
       "      <td>5.267823e-02</td>\n",
       "      <td>0.139673</td>\n",
       "    </tr>\n",
       "    <tr>\n",
       "      <th>RBP</th>\n",
       "      <td>0.190477</td>\n",
       "      <td>3.637979e-12</td>\n",
       "      <td>0.321129</td>\n",
       "    </tr>\n",
       "    <tr>\n",
       "      <th>RecipRank</th>\n",
       "      <td>0.273850</td>\n",
       "      <td>2.631579e-02</td>\n",
       "      <td>0.392796</td>\n",
       "    </tr>\n",
       "    <tr>\n",
       "      <th rowspan=\"3\" valign=\"top\">Pop</th>\n",
       "      <th>NDCG</th>\n",
       "      <td>0.223519</td>\n",
       "      <td>2.177198e-01</td>\n",
       "      <td>0.130122</td>\n",
       "    </tr>\n",
       "    <tr>\n",
       "      <th>RBP</th>\n",
       "      <td>0.383554</td>\n",
       "      <td>3.762217e-01</td>\n",
       "      <td>0.364643</td>\n",
       "    </tr>\n",
       "    <tr>\n",
       "      <th>RecipRank</th>\n",
       "      <td>0.542564</td>\n",
       "      <td>5.000000e-01</td>\n",
       "      <td>0.418496</td>\n",
       "    </tr>\n",
       "    <tr>\n",
       "      <th rowspan=\"3\" valign=\"top\">UUE</th>\n",
       "      <th>NDCG</th>\n",
       "      <td>0.034722</td>\n",
       "      <td>1.042421e-02</td>\n",
       "      <td>0.047978</td>\n",
       "    </tr>\n",
       "    <tr>\n",
       "      <th>RBP</th>\n",
       "      <td>0.003777</td>\n",
       "      <td>1.009742e-28</td>\n",
       "      <td>0.022701</td>\n",
       "    </tr>\n",
       "    <tr>\n",
       "      <th>RecipRank</th>\n",
       "      <td>0.031511</td>\n",
       "      <td>1.075269e-02</td>\n",
       "      <td>0.060464</td>\n",
       "    </tr>\n",
       "  </tbody>\n",
       "</table>\n",
       "</div>"
      ],
      "text/plain": [
       "                     mean        median       std\n",
       "model                                            \n",
       "ALS   NDCG       0.107349  8.762198e-02  0.093322\n",
       "      RBP        0.137326  3.906509e-03  0.225401\n",
       "      RecipRank  0.261436  1.250000e-01  0.309230\n",
       "Bias  NDCG       0.106004  8.564795e-02  0.092345\n",
       "      RBP        0.125410  3.915923e-03  0.200427\n",
       "      RecipRank  0.245677  1.250000e-01  0.277671\n",
       "IALS  NDCG       0.111686  7.055683e-02  0.112362\n",
       "      RBP        0.109863  7.867813e-06  0.225897\n",
       "      RecipRank  0.209664  5.882353e-02  0.306494\n",
       "IIE   NDCG       0.042065  1.194101e-02  0.059622\n",
       "      RBP        0.015512  2.589988e-26  0.071668\n",
       "      RecipRank  0.058634  1.176471e-02  0.124962\n",
       "III   NDCG       0.113907  5.267823e-02  0.139673\n",
       "      RBP        0.190477  3.637979e-12  0.321129\n",
       "      RecipRank  0.273850  2.631579e-02  0.392796\n",
       "Pop   NDCG       0.223519  2.177198e-01  0.130122\n",
       "      RBP        0.383554  3.762217e-01  0.364643\n",
       "      RecipRank  0.542564  5.000000e-01  0.418496\n",
       "UUE   NDCG       0.034722  1.042421e-02  0.047978\n",
       "      RBP        0.003777  1.009742e-28  0.022701\n",
       "      RecipRank  0.031511  1.075269e-02  0.060464"
      ]
     },
     "execution_count": 13,
     "metadata": {},
     "output_type": "execute_result"
    }
   ],
   "source": [
    "ra = RunAnalysis()\n",
    "\n",
    "ra.add_metric(NDCG())\n",
    "ra.add_metric(RecipRank())\n",
    "ra.add_metric(RBP())\n",
    "\n",
    "rec_results = ra.compute(recs, test)\n",
    "rec_results.list_summary('model')"
   ]
  },
  {
   "cell_type": "markdown",
   "id": "2cda0b8b",
   "metadata": {
    "papermill": {
     "duration": 0.008979,
     "end_time": "2025-02-06T18:01:15.049522",
     "exception": false,
     "start_time": "2025-02-06T18:01:15.040543",
     "status": "completed"
    },
    "tags": []
   },
   "source": [
    "We can reshape the list metrics and plot them:"
   ]
  },
  {
   "cell_type": "code",
   "execution_count": 14,
   "id": "2501e294",
   "metadata": {
    "execution": {
     "iopub.execute_input": "2025-02-06T18:01:15.052924Z",
     "iopub.status.busy": "2025-02-06T18:01:15.052838Z",
     "iopub.status.idle": "2025-02-06T18:01:15.457029Z",
     "shell.execute_reply": "2025-02-06T18:01:15.456764Z"
    },
    "papermill": {
     "duration": 0.406676,
     "end_time": "2025-02-06T18:01:15.457667",
     "exception": false,
     "start_time": "2025-02-06T18:01:15.050991",
     "status": "completed"
    },
    "tags": []
   },
   "outputs": [
    {
     "data": {
      "image/png": "[encoded data removed]",
      "text/plain": [
       "<Figure size 1511.11x500 with 3 Axes>"
      ]
     },
     "metadata": {},
     "output_type": "display_data"
    }
   ],
   "source": [
    "metrics = rec_results.list_metrics()\n",
    "metrics = metrics.melt(var_name='metric', ignore_index=False).reset_index()\n",
    "sns.catplot(metrics, x='model', y='value', col='metric', kind='bar')\n",
    "plt.show()"
   ]
  },
  {
   "cell_type": "markdown",
   "id": "993824c4",
   "metadata": {
    "papermill": {
     "duration": 0.009062,
     "end_time": "2025-02-06T18:01:15.468568",
     "exception": false,
     "start_time": "2025-02-06T18:01:15.459506",
     "status": "completed"
    },
    "tags": []
   },
   "source": [
    "## Prediction RMSE\n",
    "\n",
    "We will also look at the prediction RMSE."
   ]
  },
  {
   "cell_type": "code",
   "execution_count": 15,
   "id": "03e3a07f",
   "metadata": {
    "execution": {
     "iopub.execute_input": "2025-02-06T18:01:15.472066Z",
     "iopub.status.busy": "2025-02-06T18:01:15.471991Z",
     "iopub.status.idle": "2025-02-06T18:01:16.560009Z",
     "shell.execute_reply": "2025-02-06T18:01:16.559843Z"
    },
    "papermill": {
     "duration": 1.090716,
     "end_time": "2025-02-06T18:01:16.560811",
     "exception": false,
     "start_time": "2025-02-06T18:01:15.470095",
     "status": "completed"
    },
    "tags": []
   },
   "outputs": [
    {
     "name": "stderr",
     "output_type": "stream",
     "text": [
      "/home/mde48/lenskit/lk-demo-experiment/.venv/lib/python3.13/site-packages/lenskit/metrics/bulk.py:127: FutureWarning: The previous implementation of stack is deprecated and will be removed in a future version of pandas. See the What's New notes for pandas 2.1.0 for details. Specify future_stack=True to adopt the new implementation and silence this warning.\n",
      "  df = scores.groupby(list(keys)).agg([\"mean\", \"median\", \"std\"]).stack(level=0)\n"
     ]
    },
    {
     "data": {
      "text/html": [
       "<div>\n",
       "<style scoped>\n",
       "    .dataframe tbody tr th:only-of-type {\n",
       "        vertical-align: middle;\n",
       "    }\n",
       "\n",
       "    .dataframe tbody tr th {\n",
       "        vertical-align: top;\n",
       "    }\n",
       "\n",
       "    .dataframe thead th {\n",
       "        text-align: right;\n",
       "    }\n",
       "</style>\n",
       "<table border=\"1\" class=\"dataframe\">\n",
       "  <thead>\n",
       "    <tr style=\"text-align: right;\">\n",
       "      <th></th>\n",
       "      <th></th>\n",
       "      <th>mean</th>\n",
       "      <th>median</th>\n",
       "      <th>std</th>\n",
       "    </tr>\n",
       "    <tr>\n",
       "      <th>model</th>\n",
       "      <th></th>\n",
       "      <th></th>\n",
       "      <th></th>\n",
       "      <th></th>\n",
       "    </tr>\n",
       "  </thead>\n",
       "  <tbody>\n",
       "    <tr>\n",
       "      <th>ALS</th>\n",
       "      <th>RMSE</th>\n",
       "      <td>0.911415</td>\n",
       "      <td>0.883020</td>\n",
       "      <td>0.267941</td>\n",
       "    </tr>\n",
       "    <tr>\n",
       "      <th>Bias</th>\n",
       "      <th>RMSE</th>\n",
       "      <td>0.927785</td>\n",
       "      <td>0.901014</td>\n",
       "      <td>0.270145</td>\n",
       "    </tr>\n",
       "    <tr>\n",
       "      <th>IIE</th>\n",
       "      <th>RMSE</th>\n",
       "      <td>0.914029</td>\n",
       "      <td>0.883950</td>\n",
       "      <td>0.272659</td>\n",
       "    </tr>\n",
       "    <tr>\n",
       "      <th>UUE</th>\n",
       "      <th>RMSE</th>\n",
       "      <td>0.936178</td>\n",
       "      <td>0.908451</td>\n",
       "      <td>0.277874</td>\n",
       "    </tr>\n",
       "  </tbody>\n",
       "</table>\n",
       "</div>"
      ],
      "text/plain": [
       "                mean    median       std\n",
       "model                                   \n",
       "ALS   RMSE  0.911415  0.883020  0.267941\n",
       "Bias  RMSE  0.927785  0.901014  0.270145\n",
       "IIE   RMSE  0.914029  0.883950  0.272659\n",
       "UUE   RMSE  0.936178  0.908451  0.277874"
      ]
     },
     "execution_count": 15,
     "metadata": {},
     "output_type": "execute_result"
    }
   ],
   "source": [
    "pa = RunAnalysis()\n",
    "\n",
    "pa.add_metric(RMSE(missing_scores='ignore', missing_truth='ignore'))\n",
    "\n",
    "pred_results = pa.compute(preds, test)\n",
    "pred_results.list_summary('model')"
   ]
  },
  {
   "cell_type": "code",
   "execution_count": 16,
   "id": "a637c5ce",
   "metadata": {
    "execution": {
     "iopub.execute_input": "2025-02-06T18:01:16.573798Z",
     "iopub.status.busy": "2025-02-06T18:01:16.573720Z",
     "iopub.status.idle": "2025-02-06T18:01:16.668339Z",
     "shell.execute_reply": "2025-02-06T18:01:16.668044Z"
    },
    "papermill": {
     "duration": 0.104602,
     "end_time": "2025-02-06T18:01:16.668972",
     "exception": false,
     "start_time": "2025-02-06T18:01:16.564370",
     "status": "completed"
    },
    "tags": []
   },
   "outputs": [
    {
     "data": {
      "image/png": "[encoded data removed]",
      "text/plain": [
       "<Figure size 511.111x500 with 1 Axes>"
      ]
     },
     "metadata": {},
     "output_type": "display_data"
    }
   ],
   "source": [
    "sns.catplot(pred_results.list_metrics().reset_index(), x='model', y='RMSE', kind='bar')\n",
    "plt.show()"
   ]
  },
  {
   "cell_type": "markdown",
   "id": "9a86aaec",
   "metadata": {
    "papermill": {
     "duration": 0.001677,
     "end_time": "2025-02-06T18:01:16.674042",
     "exception": false,
     "start_time": "2025-02-06T18:01:16.672365",
     "status": "completed"
    },
    "tags": []
   },
   "source": [
    "## Save Metrics\n",
    "\n",
    "We'll now save the metrics to a file."
   ]
  },
  {
   "cell_type": "code",
   "execution_count": 17,
   "id": "7cc6c33e",
   "metadata": {
    "execution": {
     "iopub.execute_input": "2025-02-06T18:01:16.677790Z",
     "iopub.status.busy": "2025-02-06T18:01:16.677706Z",
     "iopub.status.idle": "2025-02-06T18:01:16.685028Z",
     "shell.execute_reply": "2025-02-06T18:01:16.684876Z"
    },
    "papermill": {
     "duration": 0.009841,
     "end_time": "2025-02-06T18:01:16.685525",
     "exception": false,
     "start_time": "2025-02-06T18:01:16.675684",
     "status": "completed"
    },
    "tags": []
   },
   "outputs": [
    {
     "name": "stderr",
     "output_type": "stream",
     "text": [
      "/home/mde48/lenskit/lk-demo-experiment/.venv/lib/python3.13/site-packages/lenskit/metrics/bulk.py:127: FutureWarning: The previous implementation of stack is deprecated and will be removed in a future version of pandas. See the What's New notes for pandas 2.1.0 for details. Specify future_stack=True to adopt the new implementation and silence this warning.\n",
      "  df = scores.groupby(list(keys)).agg([\"mean\", \"median\", \"std\"]).stack(level=0)\n"
     ]
    },
    {
     "data": {
      "text/html": [
       "<div>\n",
       "<style scoped>\n",
       "    .dataframe tbody tr th:only-of-type {\n",
       "        vertical-align: middle;\n",
       "    }\n",
       "\n",
       "    .dataframe tbody tr th {\n",
       "        vertical-align: top;\n",
       "    }\n",
       "\n",
       "    .dataframe thead th {\n",
       "        text-align: right;\n",
       "    }\n",
       "</style>\n",
       "<table border=\"1\" class=\"dataframe\">\n",
       "  <thead>\n",
       "    <tr style=\"text-align: right;\">\n",
       "      <th></th>\n",
       "      <th>NDCG</th>\n",
       "      <th>RBP</th>\n",
       "      <th>RecipRank</th>\n",
       "    </tr>\n",
       "    <tr>\n",
       "      <th>model</th>\n",
       "      <th></th>\n",
       "      <th></th>\n",
       "      <th></th>\n",
       "    </tr>\n",
       "  </thead>\n",
       "  <tbody>\n",
       "    <tr>\n",
       "      <th>ALS</th>\n",
       "      <td>0.107349</td>\n",
       "      <td>0.137326</td>\n",
       "      <td>0.261436</td>\n",
       "    </tr>\n",
       "    <tr>\n",
       "      <th>Bias</th>\n",
       "      <td>0.106004</td>\n",
       "      <td>0.125410</td>\n",
       "      <td>0.245677</td>\n",
       "    </tr>\n",
       "    <tr>\n",
       "      <th>IALS</th>\n",
       "      <td>0.111686</td>\n",
       "      <td>0.109863</td>\n",
       "      <td>0.209664</td>\n",
       "    </tr>\n",
       "    <tr>\n",
       "      <th>IIE</th>\n",
       "      <td>0.042065</td>\n",
       "      <td>0.015512</td>\n",
       "      <td>0.058634</td>\n",
       "    </tr>\n",
       "    <tr>\n",
       "      <th>III</th>\n",
       "      <td>0.113907</td>\n",
       "      <td>0.190477</td>\n",
       "      <td>0.273850</td>\n",
       "    </tr>\n",
       "    <tr>\n",
       "      <th>Pop</th>\n",
       "      <td>0.223519</td>\n",
       "      <td>0.383554</td>\n",
       "      <td>0.542564</td>\n",
       "    </tr>\n",
       "    <tr>\n",
       "      <th>UUE</th>\n",
       "      <td>0.034722</td>\n",
       "      <td>0.003777</td>\n",
       "      <td>0.031511</td>\n",
       "    </tr>\n",
       "  </tbody>\n",
       "</table>\n",
       "</div>"
      ],
      "text/plain": [
       "           NDCG       RBP  RecipRank\n",
       "model                               \n",
       "ALS    0.107349  0.137326   0.261436\n",
       "Bias   0.106004  0.125410   0.245677\n",
       "IALS   0.111686  0.109863   0.209664\n",
       "IIE    0.042065  0.015512   0.058634\n",
       "III    0.113907  0.190477   0.273850\n",
       "Pop    0.223519  0.383554   0.542564\n",
       "UUE    0.034722  0.003777   0.031511"
      ]
     },
     "execution_count": 17,
     "metadata": {},
     "output_type": "execute_result"
    }
   ],
   "source": [
    "rlsum = rec_results.list_summary('model')['mean'].unstack()\n",
    "rlsum"
   ]
  },
  {
   "cell_type": "code",
   "execution_count": 18,
   "id": "1cfaa06d",
   "metadata": {
    "execution": {
     "iopub.execute_input": "2025-02-06T18:01:16.689436Z",
     "iopub.status.busy": "2025-02-06T18:01:16.689358Z",
     "iopub.status.idle": "2025-02-06T18:01:16.691508Z",
     "shell.execute_reply": "2025-02-06T18:01:16.691269Z"
    },
    "papermill": {
     "duration": 0.004624,
     "end_time": "2025-02-06T18:01:16.691951",
     "exception": false,
     "start_time": "2025-02-06T18:01:16.687327",
     "status": "completed"
    },
    "tags": []
   },
   "outputs": [],
   "source": [
    "rlsum.to_json(f'eval-metrics.{dataset}.json', orient='index')"
   ]
  }
 ],
 "metadata": {
  "jupytext": {
   "formats": "ipynb,md",
   "notebook_metadata_filter": "split_at_heading"
  },
  "kernelspec": {
   "display_name": "Python 3 (ipykernel)",
   "language": "python",
   "name": "python3"
  },
  "language_info": {
   "codemirror_mode": {
    "name": "ipython",
    "version": 3
   },
   "file_extension": ".py",
   "mimetype": "text/x-python",
   "name": "python",
   "nbconvert_exporter": "python",
   "pygments_lexer": "ipython3",
   "version": "3.13.1"
  },
  "papermill": {
   "default_parameters": {},
   "duration": 5.819681,
   "end_time": "2025-02-06T18:01:17.208151",
   "environment_variables": {},
   "exception": null,
   "input_path": "eval-report.ipynb",
   "output_path": "eval-report.ml-1m.ipynb",
   "parameters": {
    "dataset": "ml-1m"
   },
   "start_time": "2025-02-06T18:01:11.388470",
   "version": "2.6.0"
  },
  "split_at_heading": true
 },
 "nbformat": 4,
 "nbformat_minor": 5
}