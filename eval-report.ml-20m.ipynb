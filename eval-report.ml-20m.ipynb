{
 "cells": [
  {
   "cell_type": "markdown",
   "id": "cf34c732",
   "metadata": {
    "papermill": {
     "duration": 0.010542,
     "end_time": "2025-02-22T22:38:50.219672",
     "exception": false,
     "start_time": "2025-02-22T22:38:50.209130",
     "status": "completed"
    },
    "tags": []
   },
   "source": [
    "# Evaluation Analysis for Recommender Output"
   ]
  },
  {
   "cell_type": "markdown",
   "id": "f179abe6",
   "metadata": {
    "papermill": {
     "duration": 0.001265,
     "end_time": "2025-02-22T22:38:50.222489",
     "exception": false,
     "start_time": "2025-02-22T22:38:50.221224",
     "status": "completed"
    },
    "tags": []
   },
   "source": [
    "In this section we will analyze and compare the generated recommendations and predictions from a predefined list of algorithms with the goal of assessing the performance of each algorithm with respect to a metric. In other words, we would rank the algorithms for each metric considered with respect to performance."
   ]
  },
  {
   "cell_type": "markdown",
   "id": "5d3472f4",
   "metadata": {
    "papermill": {
     "duration": 0.00127,
     "end_time": "2025-02-22T22:38:50.225059",
     "exception": false,
     "start_time": "2025-02-22T22:38:50.223789",
     "status": "completed"
    },
    "tags": []
   },
   "source": [
    "## Setup"
   ]
  },
  {
   "cell_type": "markdown",
   "id": "cc43fdaf",
   "metadata": {
    "papermill": {
     "duration": 0.001271,
     "end_time": "2025-02-22T22:38:50.227742",
     "exception": false,
     "start_time": "2025-02-22T22:38:50.226471",
     "status": "completed"
    },
    "tags": []
   },
   "source": [
    "Below are the list of packages required to successfully run the analysis. They are divided into partitions to signify their specific task.<br>\n",
    "We need the pathlib package for working with files and folders"
   ]
  },
  {
   "cell_type": "code",
   "execution_count": 1,
   "id": "014be844",
   "metadata": {
    "execution": {
     "iopub.execute_input": "2025-02-22T22:38:50.230788Z",
     "iopub.status.busy": "2025-02-22T22:38:50.230693Z",
     "iopub.status.idle": "2025-02-22T22:38:50.232826Z",
     "shell.execute_reply": "2025-02-22T22:38:50.232550Z"
    },
    "papermill": {
     "duration": 0.00431,
     "end_time": "2025-02-22T22:38:50.233356",
     "exception": false,
     "start_time": "2025-02-22T22:38:50.229046",
     "status": "completed"
    },
    "tags": []
   },
   "outputs": [],
   "source": [
    "from pathlib import Path\n",
    "import json"
   ]
  },
  {
   "cell_type": "markdown",
   "id": "2647251d",
   "metadata": {
    "papermill": {
     "duration": 0.001305,
     "end_time": "2025-02-22T22:38:50.236078",
     "exception": false,
     "start_time": "2025-02-22T22:38:50.234773",
     "status": "completed"
    },
    "tags": []
   },
   "source": [
    "Load libraries for analysis and visualization:"
   ]
  },
  {
   "cell_type": "code",
   "execution_count": 2,
   "id": "c1ed49d5",
   "metadata": {
    "execution": {
     "iopub.execute_input": "2025-02-22T22:38:50.239066Z",
     "iopub.status.busy": "2025-02-22T22:38:50.238978Z",
     "iopub.status.idle": "2025-02-22T22:38:50.717286Z",
     "shell.execute_reply": "2025-02-22T22:38:50.716872Z"
    },
    "lines_to_next_cell": 2,
    "papermill": {
     "duration": 0.48068,
     "end_time": "2025-02-22T22:38:50.718142",
     "exception": false,
     "start_time": "2025-02-22T22:38:50.237462",
     "status": "completed"
    },
    "tags": []
   },
   "outputs": [],
   "source": [
    "import numpy as np\n",
    "import seaborn as sns\n",
    "import matplotlib.pyplot as plt"
   ]
  },
  {
   "cell_type": "markdown",
   "id": "0586a019",
   "metadata": {
    "papermill": {
     "duration": 0.001409,
     "end_time": "2025-02-22T22:38:50.721247",
     "exception": false,
     "start_time": "2025-02-22T22:38:50.719838",
     "status": "completed"
    },
    "tags": []
   },
   "source": [
    "Import the LensKit metrics for analysis:"
   ]
  },
  {
   "cell_type": "code",
   "execution_count": 3,
   "id": "1760b3f8",
   "metadata": {
    "execution": {
     "iopub.execute_input": "2025-02-22T22:38:50.724474Z",
     "iopub.status.busy": "2025-02-22T22:38:50.724351Z",
     "iopub.status.idle": "2025-02-22T22:38:51.373935Z",
     "shell.execute_reply": "2025-02-22T22:38:51.373564Z"
    },
    "papermill": {
     "duration": 0.651995,
     "end_time": "2025-02-22T22:38:51.374676",
     "exception": false,
     "start_time": "2025-02-22T22:38:50.722681",
     "status": "completed"
    },
    "tags": []
   },
   "outputs": [],
   "source": [
    "from lenskit.data import Dataset, ItemListCollection\n",
    "from lenskit.metrics import RunAnalysis, RMSE, NDCG, RecipRank, RBP"
   ]
  },
  {
   "cell_type": "code",
   "execution_count": 4,
   "id": "8ad8a9b5",
   "metadata": {
    "execution": {
     "iopub.execute_input": "2025-02-22T22:38:51.385802Z",
     "iopub.status.busy": "2025-02-22T22:38:51.385719Z",
     "iopub.status.idle": "2025-02-22T22:38:51.388599Z",
     "shell.execute_reply": "2025-02-22T22:38:51.388349Z"
    },
    "papermill": {
     "duration": 0.012667,
     "end_time": "2025-02-22T22:38:51.389030",
     "exception": false,
     "start_time": "2025-02-22T22:38:51.376363",
     "status": "completed"
    },
    "tags": []
   },
   "outputs": [],
   "source": [
    "from lkdemo.datasets import split_fraction"
   ]
  },
  {
   "cell_type": "markdown",
   "id": "e4db960e",
   "metadata": {
    "papermill": {
     "duration": 0.001319,
     "end_time": "2025-02-22T22:38:51.391742",
     "exception": false,
     "start_time": "2025-02-22T22:38:51.390423",
     "status": "completed"
    },
    "tags": []
   },
   "source": [
    "## Load Data\n",
    "\n",
    "The recommendations are in `runs`, and we will need to reassemble the test data from `test`."
   ]
  },
  {
   "cell_type": "code",
   "execution_count": 5,
   "id": "f0b0bb95",
   "metadata": {
    "execution": {
     "iopub.execute_input": "2025-02-22T22:38:51.394879Z",
     "iopub.status.busy": "2025-02-22T22:38:51.394780Z",
     "iopub.status.idle": "2025-02-22T22:38:51.396369Z",
     "shell.execute_reply": "2025-02-22T22:38:51.396120Z"
    },
    "papermill": {
     "duration": 0.003845,
     "end_time": "2025-02-22T22:38:51.396911",
     "exception": false,
     "start_time": "2025-02-22T22:38:51.393066",
     "status": "completed"
    },
    "tags": [
     "parameters"
    ]
   },
   "outputs": [],
   "source": [
    "dataset = \"ml-100k\""
   ]
  },
  {
   "cell_type": "code",
   "execution_count": 6,
   "id": "3038348d",
   "metadata": {
    "execution": {
     "iopub.execute_input": "2025-02-22T22:38:51.399878Z",
     "iopub.status.busy": "2025-02-22T22:38:51.399813Z",
     "iopub.status.idle": "2025-02-22T22:38:51.401268Z",
     "shell.execute_reply": "2025-02-22T22:38:51.401048Z"
    },
    "papermill": {
     "duration": 0.003382,
     "end_time": "2025-02-22T22:38:51.401627",
     "exception": false,
     "start_time": "2025-02-22T22:38:51.398245",
     "status": "completed"
    },
    "tags": [
     "injected-parameters"
    ]
   },
   "outputs": [],
   "source": [
    "# Parameters\n",
    "dataset = \"ml-20m\"\n"
   ]
  },
  {
   "cell_type": "code",
   "execution_count": 7,
   "id": "bb15507d",
   "metadata": {
    "execution": {
     "iopub.execute_input": "2025-02-22T22:38:51.405589Z",
     "iopub.status.busy": "2025-02-22T22:38:51.405523Z",
     "iopub.status.idle": "2025-02-22T22:38:51.407030Z",
     "shell.execute_reply": "2025-02-22T22:38:51.406806Z"
    },
    "papermill": {
     "duration": 0.003453,
     "end_time": "2025-02-22T22:38:51.407394",
     "exception": false,
     "start_time": "2025-02-22T22:38:51.403941",
     "status": "completed"
    },
    "tags": []
   },
   "outputs": [],
   "source": [
    "output_root = Path(\"runs\")"
   ]
  },
  {
   "cell_type": "code",
   "execution_count": 8,
   "id": "ecff58cf",
   "metadata": {
    "execution": {
     "iopub.execute_input": "2025-02-22T22:38:51.410541Z",
     "iopub.status.busy": "2025-02-22T22:38:51.410474Z",
     "iopub.status.idle": "2025-02-22T22:38:51.412199Z",
     "shell.execute_reply": "2025-02-22T22:38:51.411969Z"
    },
    "papermill": {
     "duration": 0.003749,
     "end_time": "2025-02-22T22:38:51.412553",
     "exception": false,
     "start_time": "2025-02-22T22:38:51.408804",
     "status": "completed"
    },
    "tags": []
   },
   "outputs": [],
   "source": [
    "dirs = [fld for fld in output_root.glob(f'{dataset}-*')]"
   ]
  },
  {
   "cell_type": "code",
   "execution_count": 9,
   "id": "98ec44f8",
   "metadata": {
    "execution": {
     "iopub.execute_input": "2025-02-22T22:38:51.415700Z",
     "iopub.status.busy": "2025-02-22T22:38:51.415632Z",
     "iopub.status.idle": "2025-02-22T22:38:56.220180Z",
     "shell.execute_reply": "2025-02-22T22:38:56.219615Z"
    },
    "papermill": {
     "duration": 4.807117,
     "end_time": "2025-02-22T22:38:56.221077",
     "exception": false,
     "start_time": "2025-02-22T22:38:51.413960",
     "status": "completed"
    },
    "tags": []
   },
   "outputs": [],
   "source": [
    "recs = ItemListCollection(['model', 'user_id'], index=False)\n",
    "for fld in dirs:\n",
    "    for file in fld.glob(\"recs-*\"):\n",
    "        rec = ItemListCollection.load_parquet(file)\n",
    "        recs.add_from(rec, model=fld.name.split(\"-\")[-1])"
   ]
  },
  {
   "cell_type": "code",
   "execution_count": 10,
   "id": "16052016",
   "metadata": {
    "execution": {
     "iopub.execute_input": "2025-02-22T22:38:56.232485Z",
     "iopub.status.busy": "2025-02-22T22:38:56.232400Z",
     "iopub.status.idle": "2025-02-22T22:38:56.253505Z",
     "shell.execute_reply": "2025-02-22T22:38:56.253345Z"
    },
    "papermill": {
     "duration": 0.031004,
     "end_time": "2025-02-22T22:38:56.253931",
     "exception": false,
     "start_time": "2025-02-22T22:38:56.222927",
     "status": "completed"
    },
    "tags": []
   },
   "outputs": [
    {
     "data": {
      "text/plain": [
       "['ALS', 'Bias', 'IALS', 'IIE', 'III', 'Pop', 'UUE']"
      ]
     },
     "execution_count": 10,
     "metadata": {},
     "output_type": "execute_result"
    }
   ],
   "source": [
    "rec_algos = sorted(set(a for (a, _u) in recs.keys()))\n",
    "rec_algos"
   ]
  },
  {
   "cell_type": "code",
   "execution_count": 11,
   "id": "b44ae566",
   "metadata": {
    "execution": {
     "iopub.execute_input": "2025-02-22T22:38:56.257582Z",
     "iopub.status.busy": "2025-02-22T22:38:56.257501Z",
     "iopub.status.idle": "2025-02-22T22:39:00.807816Z",
     "shell.execute_reply": "2025-02-22T22:39:00.807275Z"
    },
    "papermill": {
     "duration": 4.553135,
     "end_time": "2025-02-22T22:39:00.808693",
     "exception": false,
     "start_time": "2025-02-22T22:38:56.255558",
     "status": "completed"
    },
    "tags": []
   },
   "outputs": [],
   "source": [
    "preds = ItemListCollection(['model', 'user_id'], index=False)\n",
    "for fld in dirs:\n",
    "    for file in fld.glob(\"pred-*\"):\n",
    "        pred = ItemListCollection.load_parquet(file)\n",
    "        preds.add_from(pred, model=fld.name.split(\"-\")[-1])"
   ]
  },
  {
   "cell_type": "markdown",
   "id": "c3d9a53d",
   "metadata": {
    "papermill": {
     "duration": 0.008866,
     "end_time": "2025-02-22T22:39:00.819347",
     "exception": false,
     "start_time": "2025-02-22T22:39:00.810481",
     "status": "completed"
    },
    "tags": []
   },
   "source": [
    "We need to load the test data so that we have the ground truths for computing accuracy."
   ]
  },
  {
   "cell_type": "code",
   "execution_count": 12,
   "id": "f617082d",
   "metadata": {
    "execution": {
     "iopub.execute_input": "2025-02-22T22:39:00.822896Z",
     "iopub.status.busy": "2025-02-22T22:39:00.822806Z",
     "iopub.status.idle": "2025-02-22T22:39:04.258869Z",
     "shell.execute_reply": "2025-02-22T22:39:04.258552Z"
    },
    "papermill": {
     "duration": 3.438841,
     "end_time": "2025-02-22T22:39:04.259669",
     "exception": false,
     "start_time": "2025-02-22T22:39:00.820828",
     "status": "completed"
    },
    "tags": []
   },
   "outputs": [],
   "source": [
    "data = Dataset.load(f\"data/{dataset}\")\n",
    "split = split_fraction(data, 0.2)\n",
    "test = split.test"
   ]
  },
  {
   "cell_type": "markdown",
   "id": "1211178a",
   "metadata": {
    "papermill": {
     "duration": 0.008745,
     "end_time": "2025-02-22T22:39:04.270258",
     "exception": false,
     "start_time": "2025-02-22T22:39:04.261513",
     "status": "completed"
    },
    "tags": []
   },
   "source": [
    "And identify users in the training set, so we only report metrics over them."
   ]
  },
  {
   "cell_type": "code",
   "execution_count": 13,
   "id": "ea5fd212",
   "metadata": {
    "execution": {
     "iopub.execute_input": "2025-02-22T22:39:04.273770Z",
     "iopub.status.busy": "2025-02-22T22:39:04.273687Z",
     "iopub.status.idle": "2025-02-22T22:39:05.571990Z",
     "shell.execute_reply": "2025-02-22T22:39:05.571542Z"
    },
    "papermill": {
     "duration": 1.301,
     "end_time": "2025-02-22T22:39:05.572779",
     "exception": false,
     "start_time": "2025-02-22T22:39:04.271779",
     "status": "completed"
    },
    "tags": []
   },
   "outputs": [],
   "source": [
    "train_users = split.train.user_stats()\n",
    "train_users = train_users[train_users['rating_count'] > 0]"
   ]
  },
  {
   "cell_type": "markdown",
   "id": "e8ca3779",
   "metadata": {
    "papermill": {
     "duration": 0.009031,
     "end_time": "2025-02-22T22:39:05.583614",
     "exception": false,
     "start_time": "2025-02-22T22:39:05.574583",
     "status": "completed"
    },
    "tags": []
   },
   "source": [
    "## Top-N Metrics\n",
    "\n",
    "`RunListAnalysis` computes metrics for recommendation results and takes care of\n",
    "matching recommendations and ground truth."
   ]
  },
  {
   "cell_type": "code",
   "execution_count": 14,
   "id": "7012260e",
   "metadata": {
    "execution": {
     "iopub.execute_input": "2025-02-22T22:39:05.587215Z",
     "iopub.status.busy": "2025-02-22T22:39:05.587079Z",
     "iopub.status.idle": "2025-02-22T22:39:26.163397Z",
     "shell.execute_reply": "2025-02-22T22:39:26.163127Z"
    },
    "papermill": {
     "duration": 20.578959,
     "end_time": "2025-02-22T22:39:26.164061",
     "exception": false,
     "start_time": "2025-02-22T22:39:05.585102",
     "status": "completed"
    },
    "tags": []
   },
   "outputs": [
    {
     "name": "stderr",
     "output_type": "stream",
     "text": [
      "/home/mde48/lenskit/lk-demo-experiment/.venv/lib/python3.13/site-packages/lenskit/metrics/bulk.py:127: FutureWarning: The previous implementation of stack is deprecated and will be removed in a future version of pandas. See the What's New notes for pandas 2.1.0 for details. Specify future_stack=True to adopt the new implementation and silence this warning.\n",
      "  df = scores.groupby(list(keys)).agg([\"mean\", \"median\", \"std\"]).stack(level=0)\n"
     ]
    },
    {
     "data": {
      "text/html": [
       "<div>\n",
       "<style scoped>\n",
       "    .dataframe tbody tr th:only-of-type {\n",
       "        vertical-align: middle;\n",
       "    }\n",
       "\n",
       "    .dataframe tbody tr th {\n",
       "        vertical-align: top;\n",
       "    }\n",
       "\n",
       "    .dataframe thead th {\n",
       "        text-align: right;\n",
       "    }\n",
       "</style>\n",
       "<table border=\"1\" class=\"dataframe\">\n",
       "  <thead>\n",
       "    <tr style=\"text-align: right;\">\n",
       "      <th></th>\n",
       "      <th></th>\n",
       "      <th>mean</th>\n",
       "      <th>median</th>\n",
       "      <th>std</th>\n",
       "    </tr>\n",
       "    <tr>\n",
       "      <th>model</th>\n",
       "      <th></th>\n",
       "      <th></th>\n",
       "      <th></th>\n",
       "      <th></th>\n",
       "    </tr>\n",
       "  </thead>\n",
       "  <tbody>\n",
       "    <tr>\n",
       "      <th rowspan=\"3\" valign=\"top\">ALS</th>\n",
       "      <th>NDCG</th>\n",
       "      <td>0.135228</td>\n",
       "      <td>0.111987</td>\n",
       "      <td>0.115142</td>\n",
       "    </tr>\n",
       "    <tr>\n",
       "      <th>RBP</th>\n",
       "      <td>0.214271</td>\n",
       "      <td>0.161248</td>\n",
       "      <td>0.212302</td>\n",
       "    </tr>\n",
       "    <tr>\n",
       "      <th>RecipRank</th>\n",
       "      <td>0.517624</td>\n",
       "      <td>0.333333</td>\n",
       "      <td>0.444651</td>\n",
       "    </tr>\n",
       "    <tr>\n",
       "      <th rowspan=\"3\" valign=\"top\">Bias</th>\n",
       "      <th>NDCG</th>\n",
       "      <td>0.135450</td>\n",
       "      <td>0.112120</td>\n",
       "      <td>0.115481</td>\n",
       "    </tr>\n",
       "    <tr>\n",
       "      <th>RBP</th>\n",
       "      <td>0.216176</td>\n",
       "      <td>0.161561</td>\n",
       "      <td>0.212348</td>\n",
       "    </tr>\n",
       "    <tr>\n",
       "      <th>RecipRank</th>\n",
       "      <td>0.528773</td>\n",
       "      <td>0.333333</td>\n",
       "      <td>0.445985</td>\n",
       "    </tr>\n",
       "    <tr>\n",
       "      <th rowspan=\"3\" valign=\"top\">IALS</th>\n",
       "      <th>NDCG</th>\n",
       "      <td>0.030659</td>\n",
       "      <td>0.015107</td>\n",
       "      <td>0.058179</td>\n",
       "    </tr>\n",
       "    <tr>\n",
       "      <th>RBP</th>\n",
       "      <td>0.027713</td>\n",
       "      <td>0.000038</td>\n",
       "      <td>0.101784</td>\n",
       "    </tr>\n",
       "    <tr>\n",
       "      <th>RecipRank</th>\n",
       "      <td>0.063468</td>\n",
       "      <td>0.018868</td>\n",
       "      <td>0.171945</td>\n",
       "    </tr>\n",
       "    <tr>\n",
       "      <th rowspan=\"3\" valign=\"top\">IIE</th>\n",
       "      <th>NDCG</th>\n",
       "      <td>0.004715</td>\n",
       "      <td>0.000000</td>\n",
       "      <td>0.018829</td>\n",
       "    </tr>\n",
       "    <tr>\n",
       "      <th>RBP</th>\n",
       "      <td>0.003525</td>\n",
       "      <td>0.000000</td>\n",
       "      <td>0.027848</td>\n",
       "    </tr>\n",
       "    <tr>\n",
       "      <th>RecipRank</th>\n",
       "      <td>0.008834</td>\n",
       "      <td>0.000000</td>\n",
       "      <td>0.050809</td>\n",
       "    </tr>\n",
       "    <tr>\n",
       "      <th rowspan=\"3\" valign=\"top\">III</th>\n",
       "      <th>NDCG</th>\n",
       "      <td>0.022439</td>\n",
       "      <td>0.000000</td>\n",
       "      <td>0.073231</td>\n",
       "    </tr>\n",
       "    <tr>\n",
       "      <th>RBP</th>\n",
       "      <td>0.035005</td>\n",
       "      <td>0.000000</td>\n",
       "      <td>0.131289</td>\n",
       "    </tr>\n",
       "    <tr>\n",
       "      <th>RecipRank</th>\n",
       "      <td>0.061476</td>\n",
       "      <td>0.000000</td>\n",
       "      <td>0.212268</td>\n",
       "    </tr>\n",
       "    <tr>\n",
       "      <th rowspan=\"3\" valign=\"top\">Pop</th>\n",
       "      <th>NDCG</th>\n",
       "      <td>0.176999</td>\n",
       "      <td>0.158126</td>\n",
       "      <td>0.140126</td>\n",
       "    </tr>\n",
       "    <tr>\n",
       "      <th>RBP</th>\n",
       "      <td>0.300117</td>\n",
       "      <td>0.216025</td>\n",
       "      <td>0.291834</td>\n",
       "    </tr>\n",
       "    <tr>\n",
       "      <th>RecipRank</th>\n",
       "      <td>0.515410</td>\n",
       "      <td>0.500000</td>\n",
       "      <td>0.422528</td>\n",
       "    </tr>\n",
       "    <tr>\n",
       "      <th rowspan=\"3\" valign=\"top\">UUE</th>\n",
       "      <th>NDCG</th>\n",
       "      <td>0.002470</td>\n",
       "      <td>0.000000</td>\n",
       "      <td>0.010976</td>\n",
       "    </tr>\n",
       "    <tr>\n",
       "      <th>RBP</th>\n",
       "      <td>0.000886</td>\n",
       "      <td>0.000000</td>\n",
       "      <td>0.007528</td>\n",
       "    </tr>\n",
       "    <tr>\n",
       "      <th>RecipRank</th>\n",
       "      <td>0.003528</td>\n",
       "      <td>0.000000</td>\n",
       "      <td>0.014155</td>\n",
       "    </tr>\n",
       "  </tbody>\n",
       "</table>\n",
       "</div>"
      ],
      "text/plain": [
       "                     mean    median       std\n",
       "model                                        \n",
       "ALS   NDCG       0.135228  0.111987  0.115142\n",
       "      RBP        0.214271  0.161248  0.212302\n",
       "      RecipRank  0.517624  0.333333  0.444651\n",
       "Bias  NDCG       0.135450  0.112120  0.115481\n",
       "      RBP        0.216176  0.161561  0.212348\n",
       "      RecipRank  0.528773  0.333333  0.445985\n",
       "IALS  NDCG       0.030659  0.015107  0.058179\n",
       "      RBP        0.027713  0.000038  0.101784\n",
       "      RecipRank  0.063468  0.018868  0.171945\n",
       "IIE   NDCG       0.004715  0.000000  0.018829\n",
       "      RBP        0.003525  0.000000  0.027848\n",
       "      RecipRank  0.008834  0.000000  0.050809\n",
       "III   NDCG       0.022439  0.000000  0.073231\n",
       "      RBP        0.035005  0.000000  0.131289\n",
       "      RecipRank  0.061476  0.000000  0.212268\n",
       "Pop   NDCG       0.176999  0.158126  0.140126\n",
       "      RBP        0.300117  0.216025  0.291834\n",
       "      RecipRank  0.515410  0.500000  0.422528\n",
       "UUE   NDCG       0.002470  0.000000  0.010976\n",
       "      RBP        0.000886  0.000000  0.007528\n",
       "      RecipRank  0.003528  0.000000  0.014155"
      ]
     },
     "execution_count": 14,
     "metadata": {},
     "output_type": "execute_result"
    }
   ],
   "source": [
    "ra = RunAnalysis()\n",
    "\n",
    "ra.add_metric(NDCG())\n",
    "ra.add_metric(RecipRank())\n",
    "ra.add_metric(RBP())\n",
    "\n",
    "rec_results = ra.compute(recs, test)\n",
    "rec_results.list_summary('model')"
   ]
  },
  {
   "cell_type": "markdown",
   "id": "3f0d53d0",
   "metadata": {
    "papermill": {
     "duration": 0.008854,
     "end_time": "2025-02-22T22:39:26.176104",
     "exception": false,
     "start_time": "2025-02-22T22:39:26.167250",
     "status": "completed"
    },
    "tags": []
   },
   "source": [
    "We can reshape the list metrics and plot them, after filtering to only users with at least 1 training rating:"
   ]
  },
  {
   "cell_type": "code",
   "execution_count": 15,
   "id": "502397c1",
   "metadata": {
    "execution": {
     "iopub.execute_input": "2025-02-22T22:39:26.180189Z",
     "iopub.status.busy": "2025-02-22T22:39:26.180107Z",
     "iopub.status.idle": "2025-02-22T22:39:26.859825Z",
     "shell.execute_reply": "2025-02-22T22:39:26.859389Z"
    },
    "papermill": {
     "duration": 0.682531,
     "end_time": "2025-02-22T22:39:26.860456",
     "exception": false,
     "start_time": "2025-02-22T22:39:26.177925",
     "status": "completed"
    },
    "tags": []
   },
   "outputs": [
    {
     "data": {
      "image/png": "[encoded data removed]",
      "text/plain": [
       "<Figure size 1511.11x500 with 3 Axes>"
      ]
     },
     "metadata": {},
     "output_type": "display_data"
    }
   ],
   "source": [
    "metrics = rec_results.list_metrics()\n",
    "metrics = metrics.melt(var_name='metric', ignore_index=False).reset_index()\n",
    "metrics = metrics[metrics['user_id'].isin(train_users.index)]\n",
    "sns.catplot(metrics, x='model', y='value', col='metric', kind='bar')\n",
    "plt.show()"
   ]
  },
  {
   "cell_type": "markdown",
   "id": "d1c9fd07",
   "metadata": {
    "papermill": {
     "duration": 0.008897,
     "end_time": "2025-02-22T22:39:26.871222",
     "exception": false,
     "start_time": "2025-02-22T22:39:26.862325",
     "status": "completed"
    },
    "tags": []
   },
   "source": [
    "Let's look at the influence of training ratings on performance, clamping 15+ into a single category:"
   ]
  },
  {
   "cell_type": "code",
   "execution_count": 16,
   "id": "2c606bcf",
   "metadata": {
    "execution": {
     "iopub.execute_input": "2025-02-22T22:39:26.875474Z",
     "iopub.status.busy": "2025-02-22T22:39:26.875368Z",
     "iopub.status.idle": "2025-02-22T22:39:28.077967Z",
     "shell.execute_reply": "2025-02-22T22:39:28.077711Z"
    },
    "papermill": {
     "duration": 1.205661,
     "end_time": "2025-02-22T22:39:28.078649",
     "exception": false,
     "start_time": "2025-02-22T22:39:26.872988",
     "status": "completed"
    },
    "tags": []
   },
   "outputs": [
    {
     "data": {
      "image/png": "[encoded data removed]",
      "text/plain": [
       "<Figure size 640x480 with 1 Axes>"
      ]
     },
     "metadata": {},
     "output_type": "display_data"
    }
   ],
   "source": [
    "tcounts = split.train.user_stats()['rating_count'].copy()\n",
    "tcounts[tcounts > 15] = 15\n",
    "metrics = rec_results.list_metrics().reset_index().join(tcounts, on='user_id')\n",
    "sns.lineplot(metrics, x='rating_count', y='NDCG', hue='model', errorbar='ci')\n",
    "plt.xlabel('# of Training Ratings')\n",
    "rc_ticks = np.arange(0, 16, 3)\n",
    "plt.xticks(rc_ticks, rc_ticks[:-1].tolist() + ['15+'])\n",
    "plt.show()"
   ]
  },
  {
   "cell_type": "markdown",
   "id": "ed6e858c",
   "metadata": {
    "papermill": {
     "duration": 0.00874,
     "end_time": "2025-02-22T22:39:28.089746",
     "exception": false,
     "start_time": "2025-02-22T22:39:28.081006",
     "status": "completed"
    },
    "tags": []
   },
   "source": [
    "## Prediction RMSE\n",
    "\n",
    "We will also look at the prediction RMSE."
   ]
  },
  {
   "cell_type": "code",
   "execution_count": 17,
   "id": "b1f49098",
   "metadata": {
    "execution": {
     "iopub.execute_input": "2025-02-22T22:39:28.094358Z",
     "iopub.status.busy": "2025-02-22T22:39:28.094227Z",
     "iopub.status.idle": "2025-02-22T22:39:48.028574Z",
     "shell.execute_reply": "2025-02-22T22:39:48.028401Z"
    },
    "papermill": {
     "duration": 19.93756,
     "end_time": "2025-02-22T22:39:48.029183",
     "exception": false,
     "start_time": "2025-02-22T22:39:28.091623",
     "status": "completed"
    },
    "tags": []
   },
   "outputs": [
    {
     "name": "stderr",
     "output_type": "stream",
     "text": [
      "/home/mde48/lenskit/lk-demo-experiment/.venv/lib/python3.13/site-packages/lenskit/metrics/bulk.py:127: FutureWarning: The previous implementation of stack is deprecated and will be removed in a future version of pandas. See the What's New notes for pandas 2.1.0 for details. Specify future_stack=True to adopt the new implementation and silence this warning.\n",
      "  df = scores.groupby(list(keys)).agg([\"mean\", \"median\", \"std\"]).stack(level=0)\n"
     ]
    },
    {
     "data": {
      "text/html": [
       "<div>\n",
       "<style scoped>\n",
       "    .dataframe tbody tr th:only-of-type {\n",
       "        vertical-align: middle;\n",
       "    }\n",
       "\n",
       "    .dataframe tbody tr th {\n",
       "        vertical-align: top;\n",
       "    }\n",
       "\n",
       "    .dataframe thead th {\n",
       "        text-align: right;\n",
       "    }\n",
       "</style>\n",
       "<table border=\"1\" class=\"dataframe\">\n",
       "  <thead>\n",
       "    <tr style=\"text-align: right;\">\n",
       "      <th></th>\n",
       "      <th></th>\n",
       "      <th>mean</th>\n",
       "      <th>median</th>\n",
       "      <th>std</th>\n",
       "    </tr>\n",
       "    <tr>\n",
       "      <th>model</th>\n",
       "      <th></th>\n",
       "      <th></th>\n",
       "      <th></th>\n",
       "      <th></th>\n",
       "    </tr>\n",
       "  </thead>\n",
       "  <tbody>\n",
       "    <tr>\n",
       "      <th>ALS</th>\n",
       "      <th>RMSE</th>\n",
       "      <td>0.927290</td>\n",
       "      <td>0.870680</td>\n",
       "      <td>0.318237</td>\n",
       "    </tr>\n",
       "    <tr>\n",
       "      <th>Bias</th>\n",
       "      <th>RMSE</th>\n",
       "      <td>0.930781</td>\n",
       "      <td>0.874023</td>\n",
       "      <td>0.317153</td>\n",
       "    </tr>\n",
       "    <tr>\n",
       "      <th>IIE</th>\n",
       "      <th>RMSE</th>\n",
       "      <td>0.928144</td>\n",
       "      <td>0.871069</td>\n",
       "      <td>0.319634</td>\n",
       "    </tr>\n",
       "    <tr>\n",
       "      <th>UUE</th>\n",
       "      <th>RMSE</th>\n",
       "      <td>0.930780</td>\n",
       "      <td>0.873439</td>\n",
       "      <td>0.318404</td>\n",
       "    </tr>\n",
       "  </tbody>\n",
       "</table>\n",
       "</div>"
      ],
      "text/plain": [
       "                mean    median       std\n",
       "model                                   \n",
       "ALS   RMSE  0.927290  0.870680  0.318237\n",
       "Bias  RMSE  0.930781  0.874023  0.317153\n",
       "IIE   RMSE  0.928144  0.871069  0.319634\n",
       "UUE   RMSE  0.930780  0.873439  0.318404"
      ]
     },
     "execution_count": 17,
     "metadata": {},
     "output_type": "execute_result"
    }
   ],
   "source": [
    "pa = RunAnalysis()\n",
    "\n",
    "pa.add_metric(RMSE(missing_scores='ignore', missing_truth='ignore'))\n",
    "\n",
    "pred_results = pa.compute(preds, test)\n",
    "pred_results.list_summary('model')"
   ]
  },
  {
   "cell_type": "code",
   "execution_count": 18,
   "id": "550b1e9e",
   "metadata": {
    "execution": {
     "iopub.execute_input": "2025-02-22T22:39:48.040974Z",
     "iopub.status.busy": "2025-02-22T22:39:48.040889Z",
     "iopub.status.idle": "2025-02-22T22:39:48.186947Z",
     "shell.execute_reply": "2025-02-22T22:39:48.186557Z"
    },
    "papermill": {
     "duration": 0.156129,
     "end_time": "2025-02-22T22:39:48.187645",
     "exception": false,
     "start_time": "2025-02-22T22:39:48.031516",
     "status": "completed"
    },
    "tags": []
   },
   "outputs": [
    {
     "data": {
      "image/png": "[encoded data removed]",
      "text/plain": [
       "<Figure size 511.111x500 with 1 Axes>"
      ]
     },
     "metadata": {},
     "output_type": "display_data"
    }
   ],
   "source": [
    "pred_metrics = pred_results.list_metrics().reset_index()\n",
    "pred_metrics = pred_metrics[pred_metrics['user_id'].isin(train_users.index)]\n",
    "sns.catplot(pred_metrics, x='model', y='RMSE', kind='bar')\n",
    "plt.show()"
   ]
  },
  {
   "cell_type": "markdown",
   "id": "d87127d7",
   "metadata": {
    "papermill": {
     "duration": 0.008864,
     "end_time": "2025-02-22T22:39:48.198807",
     "exception": false,
     "start_time": "2025-02-22T22:39:48.189943",
     "status": "completed"
    },
    "tags": []
   },
   "source": [
    "## Save Metrics\n",
    "\n",
    "We'll now save the metrics to a file."
   ]
  },
  {
   "cell_type": "code",
   "execution_count": 19,
   "id": "c022814e",
   "metadata": {
    "execution": {
     "iopub.execute_input": "2025-02-22T22:39:48.203518Z",
     "iopub.status.busy": "2025-02-22T22:39:48.203433Z",
     "iopub.status.idle": "2025-02-22T22:39:48.225822Z",
     "shell.execute_reply": "2025-02-22T22:39:48.225631Z"
    },
    "papermill": {
     "duration": 0.025412,
     "end_time": "2025-02-22T22:39:48.226353",
     "exception": false,
     "start_time": "2025-02-22T22:39:48.200941",
     "status": "completed"
    },
    "tags": []
   },
   "outputs": [
    {
     "name": "stderr",
     "output_type": "stream",
     "text": [
      "/home/mde48/lenskit/lk-demo-experiment/.venv/lib/python3.13/site-packages/lenskit/metrics/bulk.py:127: FutureWarning: The previous implementation of stack is deprecated and will be removed in a future version of pandas. See the What's New notes for pandas 2.1.0 for details. Specify future_stack=True to adopt the new implementation and silence this warning.\n",
      "  df = scores.groupby(list(keys)).agg([\"mean\", \"median\", \"std\"]).stack(level=0)\n"
     ]
    },
    {
     "data": {
      "text/html": [
       "<div>\n",
       "<style scoped>\n",
       "    .dataframe tbody tr th:only-of-type {\n",
       "        vertical-align: middle;\n",
       "    }\n",
       "\n",
       "    .dataframe tbody tr th {\n",
       "        vertical-align: top;\n",
       "    }\n",
       "\n",
       "    .dataframe thead th {\n",
       "        text-align: right;\n",
       "    }\n",
       "</style>\n",
       "<table border=\"1\" class=\"dataframe\">\n",
       "  <thead>\n",
       "    <tr style=\"text-align: right;\">\n",
       "      <th></th>\n",
       "      <th>NDCG</th>\n",
       "      <th>RBP</th>\n",
       "      <th>RecipRank</th>\n",
       "    </tr>\n",
       "    <tr>\n",
       "      <th>model</th>\n",
       "      <th></th>\n",
       "      <th></th>\n",
       "      <th></th>\n",
       "    </tr>\n",
       "  </thead>\n",
       "  <tbody>\n",
       "    <tr>\n",
       "      <th>ALS</th>\n",
       "      <td>0.135228</td>\n",
       "      <td>0.214271</td>\n",
       "      <td>0.517624</td>\n",
       "    </tr>\n",
       "    <tr>\n",
       "      <th>Bias</th>\n",
       "      <td>0.135450</td>\n",
       "      <td>0.216176</td>\n",
       "      <td>0.528773</td>\n",
       "    </tr>\n",
       "    <tr>\n",
       "      <th>IALS</th>\n",
       "      <td>0.030659</td>\n",
       "      <td>0.027713</td>\n",
       "      <td>0.063468</td>\n",
       "    </tr>\n",
       "    <tr>\n",
       "      <th>IIE</th>\n",
       "      <td>0.004715</td>\n",
       "      <td>0.003525</td>\n",
       "      <td>0.008834</td>\n",
       "    </tr>\n",
       "    <tr>\n",
       "      <th>III</th>\n",
       "      <td>0.022439</td>\n",
       "      <td>0.035005</td>\n",
       "      <td>0.061476</td>\n",
       "    </tr>\n",
       "    <tr>\n",
       "      <th>Pop</th>\n",
       "      <td>0.176999</td>\n",
       "      <td>0.300117</td>\n",
       "      <td>0.515410</td>\n",
       "    </tr>\n",
       "    <tr>\n",
       "      <th>UUE</th>\n",
       "      <td>0.002470</td>\n",
       "      <td>0.000886</td>\n",
       "      <td>0.003528</td>\n",
       "    </tr>\n",
       "  </tbody>\n",
       "</table>\n",
       "</div>"
      ],
      "text/plain": [
       "           NDCG       RBP  RecipRank\n",
       "model                               \n",
       "ALS    0.135228  0.214271   0.517624\n",
       "Bias   0.135450  0.216176   0.528773\n",
       "IALS   0.030659  0.027713   0.063468\n",
       "IIE    0.004715  0.003525   0.008834\n",
       "III    0.022439  0.035005   0.061476\n",
       "Pop    0.176999  0.300117   0.515410\n",
       "UUE    0.002470  0.000886   0.003528"
      ]
     },
     "execution_count": 19,
     "metadata": {},
     "output_type": "execute_result"
    }
   ],
   "source": [
    "rlsum = rec_results.list_summary('model')['mean'].unstack()\n",
    "rlsum"
   ]
  },
  {
   "cell_type": "code",
   "execution_count": 20,
   "id": "64a6ae31",
   "metadata": {
    "execution": {
     "iopub.execute_input": "2025-02-22T22:39:48.231376Z",
     "iopub.status.busy": "2025-02-22T22:39:48.231291Z",
     "iopub.status.idle": "2025-02-22T22:39:48.233173Z",
     "shell.execute_reply": "2025-02-22T22:39:48.233011Z"
    },
    "papermill": {
     "duration": 0.005178,
     "end_time": "2025-02-22T22:39:48.233781",
     "exception": false,
     "start_time": "2025-02-22T22:39:48.228603",
     "status": "completed"
    },
    "tags": []
   },
   "outputs": [],
   "source": [
    "rlsum.to_json(f'eval-metrics.{dataset}.json', orient='index')"
   ]
  }
 ],
 "metadata": {
  "jupytext": {
   "formats": "ipynb,md",
   "notebook_metadata_filter": "split_at_heading"
  },
  "kernelspec": {
   "display_name": ".venv",
   "language": "python",
   "name": "python3"
  },
  "language_info": {
   "codemirror_mode": {
    "name": "ipython",
    "version": 3
   },
   "file_extension": ".py",
   "mimetype": "text/x-python",
   "name": "python",
   "nbconvert_exporter": "python",
   "pygments_lexer": "ipython3",
   "version": "3.13.2"
  },
  "papermill": {
   "default_parameters": {},
   "duration": 60.210873,
   "end_time": "2025-02-22T22:39:49.652668",
   "environment_variables": {},
   "exception": null,
   "input_path": "eval-report.ipynb",
   "output_path": "eval-report.ml-20m.ipynb",
   "parameters": {
    "dataset": "ml-20m"
   },
   "start_time": "2025-02-22T22:38:49.441795",
   "version": "2.6.0"
  },
  "split_at_heading": true
 },
 "nbformat": 4,
 "nbformat_minor": 5
}