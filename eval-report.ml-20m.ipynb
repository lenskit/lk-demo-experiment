{
 "cells": [
  {
   "cell_type": "markdown",
   "id": "605fd33a",
   "metadata": {
    "papermill": {
     "duration": 0.010621,
     "end_time": "2025-02-06T18:23:31.411850",
     "exception": false,
     "start_time": "2025-02-06T18:23:31.401229",
     "status": "completed"
    },
    "tags": []
   },
   "source": [
    "# Evaluation Analysis for Recommender Output"
   ]
  },
  {
   "cell_type": "markdown",
   "id": "60583352",
   "metadata": {
    "papermill": {
     "duration": 0.001147,
     "end_time": "2025-02-06T18:23:31.414467",
     "exception": false,
     "start_time": "2025-02-06T18:23:31.413320",
     "status": "completed"
    },
    "tags": []
   },
   "source": [
    "In this section we will analyze and compare the generated recommendations and predictions from a predefined list of algorithms with the goal of assessing the performance of each algorithm with respect to a metric. In other words, we would rank the algorithms for each metric considered with respect to performance."
   ]
  },
  {
   "cell_type": "markdown",
   "id": "4bb6a3e7",
   "metadata": {
    "papermill": {
     "duration": 0.001092,
     "end_time": "2025-02-06T18:23:31.416680",
     "exception": false,
     "start_time": "2025-02-06T18:23:31.415588",
     "status": "completed"
    },
    "tags": []
   },
   "source": [
    "## Setup"
   ]
  },
  {
   "cell_type": "markdown",
   "id": "d10343e5",
   "metadata": {
    "papermill": {
     "duration": 0.001208,
     "end_time": "2025-02-06T18:23:31.419014",
     "exception": false,
     "start_time": "2025-02-06T18:23:31.417806",
     "status": "completed"
    },
    "tags": []
   },
   "source": [
    "Below are the list of packages required to successfully run the analysis. They are divided into partitions to signify their specific task.<br>\n",
    "We need the pathlib package for working with files and folders"
   ]
  },
  {
   "cell_type": "code",
   "execution_count": 1,
   "id": "e366c574",
   "metadata": {
    "execution": {
     "iopub.execute_input": "2025-02-06T18:23:31.422002Z",
     "iopub.status.busy": "2025-02-06T18:23:31.421767Z",
     "iopub.status.idle": "2025-02-06T18:23:31.424054Z",
     "shell.execute_reply": "2025-02-06T18:23:31.423807Z"
    },
    "papermill": {
     "duration": 0.004355,
     "end_time": "2025-02-06T18:23:31.424532",
     "exception": false,
     "start_time": "2025-02-06T18:23:31.420177",
     "status": "completed"
    },
    "tags": []
   },
   "outputs": [],
   "source": [
    "from pathlib import Path\n",
    "import json"
   ]
  },
  {
   "cell_type": "markdown",
   "id": "f5cd5e83",
   "metadata": {
    "papermill": {
     "duration": 0.00117,
     "end_time": "2025-02-06T18:23:31.426902",
     "exception": false,
     "start_time": "2025-02-06T18:23:31.425732",
     "status": "completed"
    },
    "tags": []
   },
   "source": [
    "We would use the pandas for analyzing and manipulating our data while seaborn and matplotlib are used for data visualization. statsmodels.graphics.gofplots and scipy.stats.shapiro are used for normality check. Scipy.stats.friedmanchisquare is a non-parametric test used to determine the statistical significance in metric results and the wilcoxon test is used for pairwise comparison of sample data."
   ]
  },
  {
   "cell_type": "code",
   "execution_count": 2,
   "id": "35c4aa1e",
   "metadata": {
    "execution": {
     "iopub.execute_input": "2025-02-06T18:23:31.429475Z",
     "iopub.status.busy": "2025-02-06T18:23:31.429408Z",
     "iopub.status.idle": "2025-02-06T18:23:31.918662Z",
     "shell.execute_reply": "2025-02-06T18:23:31.918243Z"
    },
    "lines_to_next_cell": 2,
    "papermill": {
     "duration": 0.491462,
     "end_time": "2025-02-06T18:23:31.919537",
     "exception": false,
     "start_time": "2025-02-06T18:23:31.428075",
     "status": "completed"
    },
    "tags": []
   },
   "outputs": [],
   "source": [
    "import pandas as pd\n",
    "import seaborn as sns\n",
    "import matplotlib.pyplot as plt\n",
    "from statsmodels.graphics.gofplots import qqplot\n",
    "from scipy.stats import shapiro\n",
    "from scipy.stats import friedmanchisquare, wilcoxon\n",
    "from itertools import combinations"
   ]
  },
  {
   "cell_type": "markdown",
   "id": "b77c1db0",
   "metadata": {
    "papermill": {
     "duration": 0.00886,
     "end_time": "2025-02-06T18:23:31.929883",
     "exception": false,
     "start_time": "2025-02-06T18:23:31.921023",
     "status": "completed"
    },
    "tags": []
   },
   "source": [
    "Import the LensKit metrics for analysis:"
   ]
  },
  {
   "cell_type": "code",
   "execution_count": 3,
   "id": "86454f14",
   "metadata": {
    "execution": {
     "iopub.execute_input": "2025-02-06T18:23:31.932976Z",
     "iopub.status.busy": "2025-02-06T18:23:31.932858Z",
     "iopub.status.idle": "2025-02-06T18:23:32.573779Z",
     "shell.execute_reply": "2025-02-06T18:23:32.573459Z"
    },
    "papermill": {
     "duration": 0.643482,
     "end_time": "2025-02-06T18:23:32.574655",
     "exception": false,
     "start_time": "2025-02-06T18:23:31.931173",
     "status": "completed"
    },
    "tags": []
   },
   "outputs": [],
   "source": [
    "from lenskit.data import Dataset, ItemListCollection, UserIDKey\n",
    "from lenskit.metrics import RunAnalysis, RMSE, NDCG, RecipRank, RBP"
   ]
  },
  {
   "cell_type": "code",
   "execution_count": 4,
   "id": "1b539163",
   "metadata": {
    "execution": {
     "iopub.execute_input": "2025-02-06T18:23:32.585699Z",
     "iopub.status.busy": "2025-02-06T18:23:32.585621Z",
     "iopub.status.idle": "2025-02-06T18:23:32.588418Z",
     "shell.execute_reply": "2025-02-06T18:23:32.588250Z"
    },
    "papermill": {
     "duration": 0.012585,
     "end_time": "2025-02-06T18:23:32.588820",
     "exception": false,
     "start_time": "2025-02-06T18:23:32.576235",
     "status": "completed"
    },
    "tags": []
   },
   "outputs": [],
   "source": [
    "from lkdemo.datasets import split_fraction"
   ]
  },
  {
   "cell_type": "markdown",
   "id": "db65cf61",
   "metadata": {
    "papermill": {
     "duration": 0.001203,
     "end_time": "2025-02-06T18:23:32.591304",
     "exception": false,
     "start_time": "2025-02-06T18:23:32.590101",
     "status": "completed"
    },
    "tags": []
   },
   "source": [
    "## Load Data\n",
    "\n",
    "The recommendations are in `runs`, and we will need to reassemble the test data from `test`."
   ]
  },
  {
   "cell_type": "code",
   "execution_count": 5,
   "id": "de8c0535",
   "metadata": {
    "execution": {
     "iopub.execute_input": "2025-02-06T18:23:32.593996Z",
     "iopub.status.busy": "2025-02-06T18:23:32.593924Z",
     "iopub.status.idle": "2025-02-06T18:23:32.595223Z",
     "shell.execute_reply": "2025-02-06T18:23:32.595078Z"
    },
    "papermill": {
     "duration": 0.002995,
     "end_time": "2025-02-06T18:23:32.595523",
     "exception": false,
     "start_time": "2025-02-06T18:23:32.592528",
     "status": "completed"
    },
    "tags": [
     "parameters"
    ]
   },
   "outputs": [],
   "source": [
    "dataset = \"ml-100k\""
   ]
  },
  {
   "cell_type": "code",
   "execution_count": 6,
   "id": "f6b04e6f",
   "metadata": {
    "execution": {
     "iopub.execute_input": "2025-02-06T18:23:32.598313Z",
     "iopub.status.busy": "2025-02-06T18:23:32.598245Z",
     "iopub.status.idle": "2025-02-06T18:23:32.599479Z",
     "shell.execute_reply": "2025-02-06T18:23:32.599344Z"
    },
    "papermill": {
     "duration": 0.002994,
     "end_time": "2025-02-06T18:23:32.599762",
     "exception": false,
     "start_time": "2025-02-06T18:23:32.596768",
     "status": "completed"
    },
    "tags": [
     "injected-parameters"
    ]
   },
   "outputs": [],
   "source": [
    "# Parameters\n",
    "dataset = \"ml-20m\"\n"
   ]
  },
  {
   "cell_type": "code",
   "execution_count": 7,
   "id": "f5ea83f3",
   "metadata": {
    "execution": {
     "iopub.execute_input": "2025-02-06T18:23:32.602636Z",
     "iopub.status.busy": "2025-02-06T18:23:32.602535Z",
     "iopub.status.idle": "2025-02-06T18:23:32.603816Z",
     "shell.execute_reply": "2025-02-06T18:23:32.603677Z"
    },
    "papermill": {
     "duration": 0.003198,
     "end_time": "2025-02-06T18:23:32.604239",
     "exception": false,
     "start_time": "2025-02-06T18:23:32.601041",
     "status": "completed"
    },
    "tags": []
   },
   "outputs": [],
   "source": [
    "output_root = Path(\"runs\")"
   ]
  },
  {
   "cell_type": "code",
   "execution_count": 8,
   "id": "327f8a13",
   "metadata": {
    "execution": {
     "iopub.execute_input": "2025-02-06T18:23:32.607103Z",
     "iopub.status.busy": "2025-02-06T18:23:32.607004Z",
     "iopub.status.idle": "2025-02-06T18:23:32.608490Z",
     "shell.execute_reply": "2025-02-06T18:23:32.608346Z"
    },
    "papermill": {
     "duration": 0.003346,
     "end_time": "2025-02-06T18:23:32.608866",
     "exception": false,
     "start_time": "2025-02-06T18:23:32.605520",
     "status": "completed"
    },
    "tags": []
   },
   "outputs": [],
   "source": [
    "dirs = [fld for fld in output_root.glob(f'{dataset}-*')]"
   ]
  },
  {
   "cell_type": "code",
   "execution_count": 9,
   "id": "a0d58d42",
   "metadata": {
    "execution": {
     "iopub.execute_input": "2025-02-06T18:23:32.611734Z",
     "iopub.status.busy": "2025-02-06T18:23:32.611668Z",
     "iopub.status.idle": "2025-02-06T18:23:37.400715Z",
     "shell.execute_reply": "2025-02-06T18:23:37.400248Z"
    },
    "papermill": {
     "duration": 4.791482,
     "end_time": "2025-02-06T18:23:37.401647",
     "exception": false,
     "start_time": "2025-02-06T18:23:32.610165",
     "status": "completed"
    },
    "tags": []
   },
   "outputs": [],
   "source": [
    "recs = ItemListCollection(['model', 'user_id'], index=False)\n",
    "for fld in dirs:\n",
    "    for file in fld.glob(\"recs-*\"):\n",
    "        rec = ItemListCollection.load_parquet(file)\n",
    "        recs.add_from(rec, model=fld.name.split(\"-\")[-1])"
   ]
  },
  {
   "cell_type": "code",
   "execution_count": 10,
   "id": "68039a12",
   "metadata": {
    "execution": {
     "iopub.execute_input": "2025-02-06T18:23:37.405216Z",
     "iopub.status.busy": "2025-02-06T18:23:37.405137Z",
     "iopub.status.idle": "2025-02-06T18:23:37.424527Z",
     "shell.execute_reply": "2025-02-06T18:23:37.424174Z"
    },
    "papermill": {
     "duration": 0.021916,
     "end_time": "2025-02-06T18:23:37.425201",
     "exception": false,
     "start_time": "2025-02-06T18:23:37.403285",
     "status": "completed"
    },
    "tags": []
   },
   "outputs": [
    {
     "data": {
      "text/plain": [
       "['ALS', 'Bias', 'IALS', 'IIE', 'III', 'Pop', 'UUE']"
      ]
     },
     "execution_count": 10,
     "metadata": {},
     "output_type": "execute_result"
    }
   ],
   "source": [
    "rec_algos = sorted(set(a for (a, _u) in recs.keys()))\n",
    "rec_algos"
   ]
  },
  {
   "cell_type": "code",
   "execution_count": 11,
   "id": "6ec8ce31",
   "metadata": {
    "execution": {
     "iopub.execute_input": "2025-02-06T18:23:37.428510Z",
     "iopub.status.busy": "2025-02-06T18:23:37.428433Z",
     "iopub.status.idle": "2025-02-06T18:23:41.971866Z",
     "shell.execute_reply": "2025-02-06T18:23:41.971422Z"
    },
    "papermill": {
     "duration": 4.546032,
     "end_time": "2025-02-06T18:23:41.972671",
     "exception": false,
     "start_time": "2025-02-06T18:23:37.426639",
     "status": "completed"
    },
    "tags": []
   },
   "outputs": [],
   "source": [
    "preds = ItemListCollection(['model', 'user_id'], index=False)\n",
    "for fld in dirs:\n",
    "    for file in fld.glob(\"pred-*\"):\n",
    "        pred = ItemListCollection.load_parquet(file)\n",
    "        preds.add_from(pred, model=fld.name.split(\"-\")[-1])"
   ]
  },
  {
   "cell_type": "markdown",
   "id": "d7984c97",
   "metadata": {
    "papermill": {
     "duration": 0.008882,
     "end_time": "2025-02-06T18:23:41.983328",
     "exception": false,
     "start_time": "2025-02-06T18:23:41.974446",
     "status": "completed"
    },
    "tags": []
   },
   "source": [
    "We need to load the test data so that we have the ground truths for computing accuracy"
   ]
  },
  {
   "cell_type": "code",
   "execution_count": 12,
   "id": "edea330e",
   "metadata": {
    "execution": {
     "iopub.execute_input": "2025-02-06T18:23:41.986504Z",
     "iopub.status.busy": "2025-02-06T18:23:41.986416Z",
     "iopub.status.idle": "2025-02-06T18:23:45.332696Z",
     "shell.execute_reply": "2025-02-06T18:23:45.332245Z"
    },
    "papermill": {
     "duration": 3.348953,
     "end_time": "2025-02-06T18:23:45.333585",
     "exception": false,
     "start_time": "2025-02-06T18:23:41.984632",
     "status": "completed"
    },
    "tags": []
   },
   "outputs": [],
   "source": [
    "data = Dataset.load(f\"data/{dataset}\")\n",
    "split = split_fraction(data, 0.2)\n",
    "test = split.test"
   ]
  },
  {
   "cell_type": "markdown",
   "id": "8d267c49",
   "metadata": {
    "papermill": {
     "duration": 0.008928,
     "end_time": "2025-02-06T18:23:45.344223",
     "exception": false,
     "start_time": "2025-02-06T18:23:45.335295",
     "status": "completed"
    },
    "tags": []
   },
   "source": [
    "## Top-N Metrics\n",
    "\n",
    "`RunListAnalysis` computes metrics for recommendation results and takes care of\n",
    "matching recommendations and ground truth."
   ]
  },
  {
   "cell_type": "code",
   "execution_count": 13,
   "id": "5c468e42",
   "metadata": {
    "execution": {
     "iopub.execute_input": "2025-02-06T18:23:45.347583Z",
     "iopub.status.busy": "2025-02-06T18:23:45.347501Z",
     "iopub.status.idle": "2025-02-06T18:24:04.902808Z",
     "shell.execute_reply": "2025-02-06T18:24:04.902617Z"
    },
    "papermill": {
     "duration": 19.557839,
     "end_time": "2025-02-06T18:24:04.903472",
     "exception": false,
     "start_time": "2025-02-06T18:23:45.345633",
     "status": "completed"
    },
    "tags": []
   },
   "outputs": [
    {
     "name": "stderr",
     "output_type": "stream",
     "text": [
      "/home/mde48/lenskit/lk-demo-experiment/.venv/lib/python3.13/site-packages/lenskit/metrics/bulk.py:127: FutureWarning: The previous implementation of stack is deprecated and will be removed in a future version of pandas. See the What's New notes for pandas 2.1.0 for details. Specify future_stack=True to adopt the new implementation and silence this warning.\n",
      "  df = scores.groupby(list(keys)).agg([\"mean\", \"median\", \"std\"]).stack(level=0)\n"
     ]
    },
    {
     "data": {
      "text/html": [
       "<div>\n",
       "<style scoped>\n",
       "    .dataframe tbody tr th:only-of-type {\n",
       "        vertical-align: middle;\n",
       "    }\n",
       "\n",
       "    .dataframe tbody tr th {\n",
       "        vertical-align: top;\n",
       "    }\n",
       "\n",
       "    .dataframe thead th {\n",
       "        text-align: right;\n",
       "    }\n",
       "</style>\n",
       "<table border=\"1\" class=\"dataframe\">\n",
       "  <thead>\n",
       "    <tr style=\"text-align: right;\">\n",
       "      <th></th>\n",
       "      <th></th>\n",
       "      <th>mean</th>\n",
       "      <th>median</th>\n",
       "      <th>std</th>\n",
       "    </tr>\n",
       "    <tr>\n",
       "      <th>model</th>\n",
       "      <th></th>\n",
       "      <th></th>\n",
       "      <th></th>\n",
       "      <th></th>\n",
       "    </tr>\n",
       "  </thead>\n",
       "  <tbody>\n",
       "    <tr>\n",
       "      <th rowspan=\"3\" valign=\"top\">ALS</th>\n",
       "      <th>NDCG</th>\n",
       "      <td>0.135228</td>\n",
       "      <td>1.119873e-01</td>\n",
       "      <td>0.115142</td>\n",
       "    </tr>\n",
       "    <tr>\n",
       "      <th>RBP</th>\n",
       "      <td>0.322551</td>\n",
       "      <td>1.879959e-01</td>\n",
       "      <td>0.327960</td>\n",
       "    </tr>\n",
       "    <tr>\n",
       "      <th>RecipRank</th>\n",
       "      <td>0.517624</td>\n",
       "      <td>3.333333e-01</td>\n",
       "      <td>0.444651</td>\n",
       "    </tr>\n",
       "    <tr>\n",
       "      <th rowspan=\"3\" valign=\"top\">Bias</th>\n",
       "      <th>NDCG</th>\n",
       "      <td>0.135450</td>\n",
       "      <td>1.121199e-01</td>\n",
       "      <td>0.115481</td>\n",
       "    </tr>\n",
       "    <tr>\n",
       "      <th>RBP</th>\n",
       "      <td>0.329940</td>\n",
       "      <td>2.337013e-01</td>\n",
       "      <td>0.327756</td>\n",
       "    </tr>\n",
       "    <tr>\n",
       "      <th>RecipRank</th>\n",
       "      <td>0.528773</td>\n",
       "      <td>3.333333e-01</td>\n",
       "      <td>0.445985</td>\n",
       "    </tr>\n",
       "    <tr>\n",
       "      <th rowspan=\"3\" valign=\"top\">IALS</th>\n",
       "      <th>NDCG</th>\n",
       "      <td>0.030659</td>\n",
       "      <td>1.510655e-02</td>\n",
       "      <td>0.058179</td>\n",
       "    </tr>\n",
       "    <tr>\n",
       "      <th>RBP</th>\n",
       "      <td>0.026424</td>\n",
       "      <td>1.111307e-16</td>\n",
       "      <td>0.123189</td>\n",
       "    </tr>\n",
       "    <tr>\n",
       "      <th>RecipRank</th>\n",
       "      <td>0.063468</td>\n",
       "      <td>1.886792e-02</td>\n",
       "      <td>0.171945</td>\n",
       "    </tr>\n",
       "    <tr>\n",
       "      <th rowspan=\"3\" valign=\"top\">IIE</th>\n",
       "      <th>NDCG</th>\n",
       "      <td>0.004715</td>\n",
       "      <td>0.000000e+00</td>\n",
       "      <td>0.018829</td>\n",
       "    </tr>\n",
       "    <tr>\n",
       "      <th>RBP</th>\n",
       "      <td>0.002142</td>\n",
       "      <td>0.000000e+00</td>\n",
       "      <td>0.029631</td>\n",
       "    </tr>\n",
       "    <tr>\n",
       "      <th>RecipRank</th>\n",
       "      <td>0.008834</td>\n",
       "      <td>0.000000e+00</td>\n",
       "      <td>0.050809</td>\n",
       "    </tr>\n",
       "    <tr>\n",
       "      <th rowspan=\"3\" valign=\"top\">III</th>\n",
       "      <th>NDCG</th>\n",
       "      <td>0.022439</td>\n",
       "      <td>0.000000e+00</td>\n",
       "      <td>0.073231</td>\n",
       "    </tr>\n",
       "    <tr>\n",
       "      <th>RBP</th>\n",
       "      <td>0.039927</td>\n",
       "      <td>0.000000e+00</td>\n",
       "      <td>0.161355</td>\n",
       "    </tr>\n",
       "    <tr>\n",
       "      <th>RecipRank</th>\n",
       "      <td>0.061476</td>\n",
       "      <td>0.000000e+00</td>\n",
       "      <td>0.212268</td>\n",
       "    </tr>\n",
       "    <tr>\n",
       "      <th rowspan=\"3\" valign=\"top\">Pop</th>\n",
       "      <th>NDCG</th>\n",
       "      <td>0.176999</td>\n",
       "      <td>1.581260e-01</td>\n",
       "      <td>0.140126</td>\n",
       "    </tr>\n",
       "    <tr>\n",
       "      <th>RBP</th>\n",
       "      <td>0.375826</td>\n",
       "      <td>2.519608e-01</td>\n",
       "      <td>0.382456</td>\n",
       "    </tr>\n",
       "    <tr>\n",
       "      <th>RecipRank</th>\n",
       "      <td>0.515410</td>\n",
       "      <td>5.000000e-01</td>\n",
       "      <td>0.422528</td>\n",
       "    </tr>\n",
       "    <tr>\n",
       "      <th rowspan=\"3\" valign=\"top\">UUE</th>\n",
       "      <th>NDCG</th>\n",
       "      <td>0.002470</td>\n",
       "      <td>0.000000e+00</td>\n",
       "      <td>0.010976</td>\n",
       "    </tr>\n",
       "    <tr>\n",
       "      <th>RBP</th>\n",
       "      <td>0.000035</td>\n",
       "      <td>0.000000e+00</td>\n",
       "      <td>0.001453</td>\n",
       "    </tr>\n",
       "    <tr>\n",
       "      <th>RecipRank</th>\n",
       "      <td>0.003528</td>\n",
       "      <td>0.000000e+00</td>\n",
       "      <td>0.014155</td>\n",
       "    </tr>\n",
       "  </tbody>\n",
       "</table>\n",
       "</div>"
      ],
      "text/plain": [
       "                     mean        median       std\n",
       "model                                            \n",
       "ALS   NDCG       0.135228  1.119873e-01  0.115142\n",
       "      RBP        0.322551  1.879959e-01  0.327960\n",
       "      RecipRank  0.517624  3.333333e-01  0.444651\n",
       "Bias  NDCG       0.135450  1.121199e-01  0.115481\n",
       "      RBP        0.329940  2.337013e-01  0.327756\n",
       "      RecipRank  0.528773  3.333333e-01  0.445985\n",
       "IALS  NDCG       0.030659  1.510655e-02  0.058179\n",
       "      RBP        0.026424  1.111307e-16  0.123189\n",
       "      RecipRank  0.063468  1.886792e-02  0.171945\n",
       "IIE   NDCG       0.004715  0.000000e+00  0.018829\n",
       "      RBP        0.002142  0.000000e+00  0.029631\n",
       "      RecipRank  0.008834  0.000000e+00  0.050809\n",
       "III   NDCG       0.022439  0.000000e+00  0.073231\n",
       "      RBP        0.039927  0.000000e+00  0.161355\n",
       "      RecipRank  0.061476  0.000000e+00  0.212268\n",
       "Pop   NDCG       0.176999  1.581260e-01  0.140126\n",
       "      RBP        0.375826  2.519608e-01  0.382456\n",
       "      RecipRank  0.515410  5.000000e-01  0.422528\n",
       "UUE   NDCG       0.002470  0.000000e+00  0.010976\n",
       "      RBP        0.000035  0.000000e+00  0.001453\n",
       "      RecipRank  0.003528  0.000000e+00  0.014155"
      ]
     },
     "execution_count": 13,
     "metadata": {},
     "output_type": "execute_result"
    }
   ],
   "source": [
    "ra = RunAnalysis()\n",
    "\n",
    "ra.add_metric(NDCG())\n",
    "ra.add_metric(RecipRank())\n",
    "ra.add_metric(RBP())\n",
    "\n",
    "rec_results = ra.compute(recs, test)\n",
    "rec_results.list_summary('model')"
   ]
  },
  {
   "cell_type": "markdown",
   "id": "2cda0b8b",
   "metadata": {
    "papermill": {
     "duration": 0.008969,
     "end_time": "2025-02-06T18:24:04.914160",
     "exception": false,
     "start_time": "2025-02-06T18:24:04.905191",
     "status": "completed"
    },
    "tags": []
   },
   "source": [
    "We can reshape the list metrics and plot them:"
   ]
  },
  {
   "cell_type": "code",
   "execution_count": 14,
   "id": "2501e294",
   "metadata": {
    "execution": {
     "iopub.execute_input": "2025-02-06T18:24:04.917668Z",
     "iopub.status.busy": "2025-02-06T18:24:04.917597Z",
     "iopub.status.idle": "2025-02-06T18:24:07.123927Z",
     "shell.execute_reply": "2025-02-06T18:24:07.123472Z"
    },
    "papermill": {
     "duration": 2.208929,
     "end_time": "2025-02-06T18:24:07.124588",
     "exception": false,
     "start_time": "2025-02-06T18:24:04.915659",
     "status": "completed"
    },
    "tags": []
   },
   "outputs": [
    {
     "data": {
      "image/png": "[encoded data removed]",
      "text/plain": [
       "<Figure size 1511.11x500 with 3 Axes>"
      ]
     },
     "metadata": {},
     "output_type": "display_data"
    }
   ],
   "source": [
    "metrics = rec_results.list_metrics()\n",
    "metrics = metrics.melt(var_name='metric', ignore_index=False).reset_index()\n",
    "sns.catplot(metrics, x='model', y='value', col='metric', kind='bar')\n",
    "plt.show()"
   ]
  },
  {
   "cell_type": "markdown",
   "id": "993824c4",
   "metadata": {
    "papermill": {
     "duration": 0.001663,
     "end_time": "2025-02-06T18:24:07.128104",
     "exception": false,
     "start_time": "2025-02-06T18:24:07.126441",
     "status": "completed"
    },
    "tags": []
   },
   "source": [
    "## Prediction RMSE\n",
    "\n",
    "We will also look at the prediction RMSE."
   ]
  },
  {
   "cell_type": "code",
   "execution_count": 15,
   "id": "03e3a07f",
   "metadata": {
    "execution": {
     "iopub.execute_input": "2025-02-06T18:24:07.131759Z",
     "iopub.status.busy": "2025-02-06T18:24:07.131676Z",
     "iopub.status.idle": "2025-02-06T18:24:26.639334Z",
     "shell.execute_reply": "2025-02-06T18:24:26.638999Z"
    },
    "papermill": {
     "duration": 19.510294,
     "end_time": "2025-02-06T18:24:26.639960",
     "exception": false,
     "start_time": "2025-02-06T18:24:07.129666",
     "status": "completed"
    },
    "tags": []
   },
   "outputs": [
    {
     "name": "stderr",
     "output_type": "stream",
     "text": [
      "/home/mde48/lenskit/lk-demo-experiment/.venv/lib/python3.13/site-packages/lenskit/metrics/bulk.py:127: FutureWarning: The previous implementation of stack is deprecated and will be removed in a future version of pandas. See the What's New notes for pandas 2.1.0 for details. Specify future_stack=True to adopt the new implementation and silence this warning.\n",
      "  df = scores.groupby(list(keys)).agg([\"mean\", \"median\", \"std\"]).stack(level=0)\n"
     ]
    },
    {
     "data": {
      "text/html": [
       "<div>\n",
       "<style scoped>\n",
       "    .dataframe tbody tr th:only-of-type {\n",
       "        vertical-align: middle;\n",
       "    }\n",
       "\n",
       "    .dataframe tbody tr th {\n",
       "        vertical-align: top;\n",
       "    }\n",
       "\n",
       "    .dataframe thead th {\n",
       "        text-align: right;\n",
       "    }\n",
       "</style>\n",
       "<table border=\"1\" class=\"dataframe\">\n",
       "  <thead>\n",
       "    <tr style=\"text-align: right;\">\n",
       "      <th></th>\n",
       "      <th></th>\n",
       "      <th>mean</th>\n",
       "      <th>median</th>\n",
       "      <th>std</th>\n",
       "    </tr>\n",
       "    <tr>\n",
       "      <th>model</th>\n",
       "      <th></th>\n",
       "      <th></th>\n",
       "      <th></th>\n",
       "      <th></th>\n",
       "    </tr>\n",
       "  </thead>\n",
       "  <tbody>\n",
       "    <tr>\n",
       "      <th>ALS</th>\n",
       "      <th>RMSE</th>\n",
       "      <td>0.927290</td>\n",
       "      <td>0.870680</td>\n",
       "      <td>0.318237</td>\n",
       "    </tr>\n",
       "    <tr>\n",
       "      <th>Bias</th>\n",
       "      <th>RMSE</th>\n",
       "      <td>0.930781</td>\n",
       "      <td>0.874023</td>\n",
       "      <td>0.317153</td>\n",
       "    </tr>\n",
       "    <tr>\n",
       "      <th>IIE</th>\n",
       "      <th>RMSE</th>\n",
       "      <td>0.928144</td>\n",
       "      <td>0.871069</td>\n",
       "      <td>0.319634</td>\n",
       "    </tr>\n",
       "    <tr>\n",
       "      <th>UUE</th>\n",
       "      <th>RMSE</th>\n",
       "      <td>0.930780</td>\n",
       "      <td>0.873439</td>\n",
       "      <td>0.318404</td>\n",
       "    </tr>\n",
       "  </tbody>\n",
       "</table>\n",
       "</div>"
      ],
      "text/plain": [
       "                mean    median       std\n",
       "model                                   \n",
       "ALS   RMSE  0.927290  0.870680  0.318237\n",
       "Bias  RMSE  0.930781  0.874023  0.317153\n",
       "IIE   RMSE  0.928144  0.871069  0.319634\n",
       "UUE   RMSE  0.930780  0.873439  0.318404"
      ]
     },
     "execution_count": 15,
     "metadata": {},
     "output_type": "execute_result"
    }
   ],
   "source": [
    "pa = RunAnalysis()\n",
    "\n",
    "pa.add_metric(RMSE(missing_scores='ignore', missing_truth='ignore'))\n",
    "\n",
    "pred_results = pa.compute(preds, test)\n",
    "pred_results.list_summary('model')"
   ]
  },
  {
   "cell_type": "code",
   "execution_count": 16,
   "id": "a637c5ce",
   "metadata": {
    "execution": {
     "iopub.execute_input": "2025-02-06T18:24:26.651443Z",
     "iopub.status.busy": "2025-02-06T18:24:26.651320Z",
     "iopub.status.idle": "2025-02-06T18:24:27.061306Z",
     "shell.execute_reply": "2025-02-06T18:24:27.061034Z"
    },
    "papermill": {
     "duration": 0.420258,
     "end_time": "2025-02-06T18:24:27.062078",
     "exception": false,
     "start_time": "2025-02-06T18:24:26.641820",
     "status": "completed"
    },
    "tags": []
   },
   "outputs": [
    {
     "data": {
      "image/png": "[encoded data removed]",
      "text/plain": [
       "<Figure size 511.111x500 with 1 Axes>"
      ]
     },
     "metadata": {},
     "output_type": "display_data"
    }
   ],
   "source": [
    "sns.catplot(pred_results.list_metrics().reset_index(), x='model', y='RMSE', kind='bar')\n",
    "plt.show()"
   ]
  },
  {
   "cell_type": "markdown",
   "id": "9a86aaec",
   "metadata": {
    "papermill": {
     "duration": 0.008919,
     "end_time": "2025-02-06T18:24:27.074585",
     "exception": false,
     "start_time": "2025-02-06T18:24:27.065666",
     "status": "completed"
    },
    "tags": []
   },
   "source": [
    "## Save Metrics\n",
    "\n",
    "We'll now save the metrics to a file."
   ]
  },
  {
   "cell_type": "code",
   "execution_count": 17,
   "id": "7cc6c33e",
   "metadata": {
    "execution": {
     "iopub.execute_input": "2025-02-06T18:24:27.078531Z",
     "iopub.status.busy": "2025-02-06T18:24:27.078441Z",
     "iopub.status.idle": "2025-02-06T18:24:27.100874Z",
     "shell.execute_reply": "2025-02-06T18:24:27.100708Z"
    },
    "papermill": {
     "duration": 0.025036,
     "end_time": "2025-02-06T18:24:27.101316",
     "exception": false,
     "start_time": "2025-02-06T18:24:27.076280",
     "status": "completed"
    },
    "tags": []
   },
   "outputs": [
    {
     "name": "stderr",
     "output_type": "stream",
     "text": [
      "/home/mde48/lenskit/lk-demo-experiment/.venv/lib/python3.13/site-packages/lenskit/metrics/bulk.py:127: FutureWarning: The previous implementation of stack is deprecated and will be removed in a future version of pandas. See the What's New notes for pandas 2.1.0 for details. Specify future_stack=True to adopt the new implementation and silence this warning.\n",
      "  df = scores.groupby(list(keys)).agg([\"mean\", \"median\", \"std\"]).stack(level=0)\n"
     ]
    },
    {
     "data": {
      "text/html": [
       "<div>\n",
       "<style scoped>\n",
       "    .dataframe tbody tr th:only-of-type {\n",
       "        vertical-align: middle;\n",
       "    }\n",
       "\n",
       "    .dataframe tbody tr th {\n",
       "        vertical-align: top;\n",
       "    }\n",
       "\n",
       "    .dataframe thead th {\n",
       "        text-align: right;\n",
       "    }\n",
       "</style>\n",
       "<table border=\"1\" class=\"dataframe\">\n",
       "  <thead>\n",
       "    <tr style=\"text-align: right;\">\n",
       "      <th></th>\n",
       "      <th>NDCG</th>\n",
       "      <th>RBP</th>\n",
       "      <th>RecipRank</th>\n",
       "    </tr>\n",
       "    <tr>\n",
       "      <th>model</th>\n",
       "      <th></th>\n",
       "      <th></th>\n",
       "      <th></th>\n",
       "    </tr>\n",
       "  </thead>\n",
       "  <tbody>\n",
       "    <tr>\n",
       "      <th>ALS</th>\n",
       "      <td>0.135228</td>\n",
       "      <td>0.322551</td>\n",
       "      <td>0.517624</td>\n",
       "    </tr>\n",
       "    <tr>\n",
       "      <th>Bias</th>\n",
       "      <td>0.135450</td>\n",
       "      <td>0.329940</td>\n",
       "      <td>0.528773</td>\n",
       "    </tr>\n",
       "    <tr>\n",
       "      <th>IALS</th>\n",
       "      <td>0.030659</td>\n",
       "      <td>0.026424</td>\n",
       "      <td>0.063468</td>\n",
       "    </tr>\n",
       "    <tr>\n",
       "      <th>IIE</th>\n",
       "      <td>0.004715</td>\n",
       "      <td>0.002142</td>\n",
       "      <td>0.008834</td>\n",
       "    </tr>\n",
       "    <tr>\n",
       "      <th>III</th>\n",
       "      <td>0.022439</td>\n",
       "      <td>0.039927</td>\n",
       "      <td>0.061476</td>\n",
       "    </tr>\n",
       "    <tr>\n",
       "      <th>Pop</th>\n",
       "      <td>0.176999</td>\n",
       "      <td>0.375826</td>\n",
       "      <td>0.515410</td>\n",
       "    </tr>\n",
       "    <tr>\n",
       "      <th>UUE</th>\n",
       "      <td>0.002470</td>\n",
       "      <td>0.000035</td>\n",
       "      <td>0.003528</td>\n",
       "    </tr>\n",
       "  </tbody>\n",
       "</table>\n",
       "</div>"
      ],
      "text/plain": [
       "           NDCG       RBP  RecipRank\n",
       "model                               \n",
       "ALS    0.135228  0.322551   0.517624\n",
       "Bias   0.135450  0.329940   0.528773\n",
       "IALS   0.030659  0.026424   0.063468\n",
       "IIE    0.004715  0.002142   0.008834\n",
       "III    0.022439  0.039927   0.061476\n",
       "Pop    0.176999  0.375826   0.515410\n",
       "UUE    0.002470  0.000035   0.003528"
      ]
     },
     "execution_count": 17,
     "metadata": {},
     "output_type": "execute_result"
    }
   ],
   "source": [
    "rlsum = rec_results.list_summary('model')['mean'].unstack()\n",
    "rlsum"
   ]
  },
  {
   "cell_type": "code",
   "execution_count": 18,
   "id": "1cfaa06d",
   "metadata": {
    "execution": {
     "iopub.execute_input": "2025-02-06T18:24:27.105426Z",
     "iopub.status.busy": "2025-02-06T18:24:27.105342Z",
     "iopub.status.idle": "2025-02-06T18:24:27.107084Z",
     "shell.execute_reply": "2025-02-06T18:24:27.106927Z"
    },
    "papermill": {
     "duration": 0.004509,
     "end_time": "2025-02-06T18:24:27.107674",
     "exception": false,
     "start_time": "2025-02-06T18:24:27.103165",
     "status": "completed"
    },
    "tags": []
   },
   "outputs": [],
   "source": [
    "rlsum.to_json(f'eval-metrics.{dataset}.json', orient='index')"
   ]
  }
 ],
 "metadata": {
  "jupytext": {
   "formats": "ipynb,md",
   "notebook_metadata_filter": "split_at_heading"
  },
  "kernelspec": {
   "display_name": "Python 3 (ipykernel)",
   "language": "python",
   "name": "python3"
  },
  "language_info": {
   "codemirror_mode": {
    "name": "ipython",
    "version": 3
   },
   "file_extension": ".py",
   "mimetype": "text/x-python",
   "name": "python",
   "nbconvert_exporter": "python",
   "pygments_lexer": "ipython3",
   "version": "3.13.1"
  },
  "papermill": {
   "default_parameters": {},
   "duration": 57.985,
   "end_time": "2025-02-06T18:24:28.626948",
   "environment_variables": {},
   "exception": null,
   "input_path": "eval-report.ipynb",
   "output_path": "eval-report.ml-20m.ipynb",
   "parameters": {
    "dataset": "ml-20m"
   },
   "start_time": "2025-02-06T18:23:30.641948",
   "version": "2.6.0"
  },
  "split_at_heading": true
 },
 "nbformat": 4,
 "nbformat_minor": 5
}