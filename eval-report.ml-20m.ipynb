{
 "cells": [
  {
   "cell_type": "markdown",
   "id": "ca2a68d7",
   "metadata": {
    "papermill": {
     "duration": 0.010417,
     "end_time": "2025-02-22T22:25:46.469662",
     "exception": false,
     "start_time": "2025-02-22T22:25:46.459245",
     "status": "completed"
    },
    "tags": []
   },
   "source": [
    "# Evaluation Analysis for Recommender Output"
   ]
  },
  {
   "cell_type": "markdown",
   "id": "b63eda0c",
   "metadata": {
    "papermill": {
     "duration": 0.001211,
     "end_time": "2025-02-22T22:25:46.472314",
     "exception": false,
     "start_time": "2025-02-22T22:25:46.471103",
     "status": "completed"
    },
    "tags": []
   },
   "source": [
    "In this section we will analyze and compare the generated recommendations and predictions from a predefined list of algorithms with the goal of assessing the performance of each algorithm with respect to a metric. In other words, we would rank the algorithms for each metric considered with respect to performance."
   ]
  },
  {
   "cell_type": "markdown",
   "id": "36fb01ca",
   "metadata": {
    "papermill": {
     "duration": 0.001177,
     "end_time": "2025-02-22T22:25:46.474731",
     "exception": false,
     "start_time": "2025-02-22T22:25:46.473554",
     "status": "completed"
    },
    "tags": []
   },
   "source": [
    "## Setup"
   ]
  },
  {
   "cell_type": "markdown",
   "id": "21858d8a",
   "metadata": {
    "papermill": {
     "duration": 0.001286,
     "end_time": "2025-02-22T22:25:46.477212",
     "exception": false,
     "start_time": "2025-02-22T22:25:46.475926",
     "status": "completed"
    },
    "tags": []
   },
   "source": [
    "Below are the list of packages required to successfully run the analysis. They are divided into partitions to signify their specific task.<br>\n",
    "We need the pathlib package for working with files and folders"
   ]
  },
  {
   "cell_type": "code",
   "execution_count": 1,
   "id": "002c1a8e",
   "metadata": {
    "execution": {
     "iopub.execute_input": "2025-02-22T22:25:46.480410Z",
     "iopub.status.busy": "2025-02-22T22:25:46.480232Z",
     "iopub.status.idle": "2025-02-22T22:25:46.482641Z",
     "shell.execute_reply": "2025-02-22T22:25:46.482353Z"
    },
    "papermill": {
     "duration": 0.004536,
     "end_time": "2025-02-22T22:25:46.482984",
     "exception": false,
     "start_time": "2025-02-22T22:25:46.478448",
     "status": "completed"
    },
    "tags": []
   },
   "outputs": [],
   "source": [
    "from pathlib import Path\n",
    "import json"
   ]
  },
  {
   "cell_type": "markdown",
   "id": "d97e0d05",
   "metadata": {
    "papermill": {
     "duration": 0.001241,
     "end_time": "2025-02-22T22:25:46.485528",
     "exception": false,
     "start_time": "2025-02-22T22:25:46.484287",
     "status": "completed"
    },
    "tags": []
   },
   "source": [
    "Load libraries for analysis and visualization:"
   ]
  },
  {
   "cell_type": "code",
   "execution_count": 2,
   "id": "5dfaeefe",
   "metadata": {
    "execution": {
     "iopub.execute_input": "2025-02-22T22:25:46.488438Z",
     "iopub.status.busy": "2025-02-22T22:25:46.488308Z",
     "iopub.status.idle": "2025-02-22T22:25:46.963968Z",
     "shell.execute_reply": "2025-02-22T22:25:46.963696Z"
    },
    "lines_to_next_cell": 2,
    "papermill": {
     "duration": 0.477952,
     "end_time": "2025-02-22T22:25:46.964747",
     "exception": false,
     "start_time": "2025-02-22T22:25:46.486795",
     "status": "completed"
    },
    "tags": []
   },
   "outputs": [],
   "source": [
    "import seaborn as sns\n",
    "import matplotlib.pyplot as plt"
   ]
  },
  {
   "cell_type": "markdown",
   "id": "254c8bfe",
   "metadata": {
    "papermill": {
     "duration": 0.008903,
     "end_time": "2025-02-22T22:25:46.975255",
     "exception": false,
     "start_time": "2025-02-22T22:25:46.966352",
     "status": "completed"
    },
    "tags": []
   },
   "source": [
    "Import the LensKit metrics for analysis:"
   ]
  },
  {
   "cell_type": "code",
   "execution_count": 3,
   "id": "a1155fbc",
   "metadata": {
    "execution": {
     "iopub.execute_input": "2025-02-22T22:25:46.978434Z",
     "iopub.status.busy": "2025-02-22T22:25:46.978287Z",
     "iopub.status.idle": "2025-02-22T22:25:47.622844Z",
     "shell.execute_reply": "2025-02-22T22:25:47.622547Z"
    },
    "papermill": {
     "duration": 0.647119,
     "end_time": "2025-02-22T22:25:47.623675",
     "exception": false,
     "start_time": "2025-02-22T22:25:46.976556",
     "status": "completed"
    },
    "tags": []
   },
   "outputs": [],
   "source": [
    "from lenskit.data import Dataset, ItemListCollection\n",
    "from lenskit.metrics import RunAnalysis, RMSE, NDCG, RecipRank, RBP"
   ]
  },
  {
   "cell_type": "code",
   "execution_count": 4,
   "id": "43f2f0a9",
   "metadata": {
    "execution": {
     "iopub.execute_input": "2025-02-22T22:25:47.634489Z",
     "iopub.status.busy": "2025-02-22T22:25:47.634401Z",
     "iopub.status.idle": "2025-02-22T22:25:47.636991Z",
     "shell.execute_reply": "2025-02-22T22:25:47.636827Z"
    },
    "papermill": {
     "duration": 0.012354,
     "end_time": "2025-02-22T22:25:47.637647",
     "exception": false,
     "start_time": "2025-02-22T22:25:47.625293",
     "status": "completed"
    },
    "tags": []
   },
   "outputs": [],
   "source": [
    "from lkdemo.datasets import split_fraction"
   ]
  },
  {
   "cell_type": "markdown",
   "id": "35c34961",
   "metadata": {
    "papermill": {
     "duration": 0.001273,
     "end_time": "2025-02-22T22:25:47.640268",
     "exception": false,
     "start_time": "2025-02-22T22:25:47.638995",
     "status": "completed"
    },
    "tags": []
   },
   "source": [
    "## Load Data\n",
    "\n",
    "The recommendations are in `runs`, and we will need to reassemble the test data from `test`."
   ]
  },
  {
   "cell_type": "code",
   "execution_count": 5,
   "id": "3da98af4",
   "metadata": {
    "execution": {
     "iopub.execute_input": "2025-02-22T22:25:47.643320Z",
     "iopub.status.busy": "2025-02-22T22:25:47.643179Z",
     "iopub.status.idle": "2025-02-22T22:25:47.644462Z",
     "shell.execute_reply": "2025-02-22T22:25:47.644313Z"
    },
    "papermill": {
     "duration": 0.003394,
     "end_time": "2025-02-22T22:25:47.644952",
     "exception": false,
     "start_time": "2025-02-22T22:25:47.641558",
     "status": "completed"
    },
    "tags": [
     "parameters"
    ]
   },
   "outputs": [],
   "source": [
    "dataset = \"ml-100k\""
   ]
  },
  {
   "cell_type": "code",
   "execution_count": 6,
   "id": "1efe19bb",
   "metadata": {
    "execution": {
     "iopub.execute_input": "2025-02-22T22:25:47.648023Z",
     "iopub.status.busy": "2025-02-22T22:25:47.647887Z",
     "iopub.status.idle": "2025-02-22T22:25:47.649082Z",
     "shell.execute_reply": "2025-02-22T22:25:47.648944Z"
    },
    "papermill": {
     "duration": 0.00335,
     "end_time": "2025-02-22T22:25:47.649647",
     "exception": false,
     "start_time": "2025-02-22T22:25:47.646297",
     "status": "completed"
    },
    "tags": [
     "injected-parameters"
    ]
   },
   "outputs": [],
   "source": [
    "# Parameters\n",
    "dataset = \"ml-20m\"\n"
   ]
  },
  {
   "cell_type": "code",
   "execution_count": 7,
   "id": "c9bbbdee",
   "metadata": {
    "execution": {
     "iopub.execute_input": "2025-02-22T22:25:47.652724Z",
     "iopub.status.busy": "2025-02-22T22:25:47.652625Z",
     "iopub.status.idle": "2025-02-22T22:25:47.653850Z",
     "shell.execute_reply": "2025-02-22T22:25:47.653707Z"
    },
    "papermill": {
     "duration": 0.003327,
     "end_time": "2025-02-22T22:25:47.654311",
     "exception": false,
     "start_time": "2025-02-22T22:25:47.650984",
     "status": "completed"
    },
    "tags": []
   },
   "outputs": [],
   "source": [
    "output_root = Path(\"runs\")"
   ]
  },
  {
   "cell_type": "code",
   "execution_count": 8,
   "id": "8e1bd83e",
   "metadata": {
    "execution": {
     "iopub.execute_input": "2025-02-22T22:25:47.657313Z",
     "iopub.status.busy": "2025-02-22T22:25:47.657211Z",
     "iopub.status.idle": "2025-02-22T22:25:47.658658Z",
     "shell.execute_reply": "2025-02-22T22:25:47.658502Z"
    },
    "papermill": {
     "duration": 0.003421,
     "end_time": "2025-02-22T22:25:47.659099",
     "exception": false,
     "start_time": "2025-02-22T22:25:47.655678",
     "status": "completed"
    },
    "tags": []
   },
   "outputs": [],
   "source": [
    "dirs = [fld for fld in output_root.glob(f'{dataset}-*')]"
   ]
  },
  {
   "cell_type": "code",
   "execution_count": 9,
   "id": "0b5febd9",
   "metadata": {
    "execution": {
     "iopub.execute_input": "2025-02-22T22:25:47.662130Z",
     "iopub.status.busy": "2025-02-22T22:25:47.662055Z",
     "iopub.status.idle": "2025-02-22T22:25:52.567968Z",
     "shell.execute_reply": "2025-02-22T22:25:52.567361Z"
    },
    "papermill": {
     "duration": 4.908349,
     "end_time": "2025-02-22T22:25:52.568824",
     "exception": false,
     "start_time": "2025-02-22T22:25:47.660475",
     "status": "completed"
    },
    "tags": []
   },
   "outputs": [],
   "source": [
    "recs = ItemListCollection(['model', 'user_id'], index=False)\n",
    "for fld in dirs:\n",
    "    for file in fld.glob(\"recs-*\"):\n",
    "        rec = ItemListCollection.load_parquet(file)\n",
    "        recs.add_from(rec, model=fld.name.split(\"-\")[-1])"
   ]
  },
  {
   "cell_type": "code",
   "execution_count": 10,
   "id": "4b06a7b5",
   "metadata": {
    "execution": {
     "iopub.execute_input": "2025-02-22T22:25:52.579980Z",
     "iopub.status.busy": "2025-02-22T22:25:52.579881Z",
     "iopub.status.idle": "2025-02-22T22:25:52.601596Z",
     "shell.execute_reply": "2025-02-22T22:25:52.601237Z"
    },
    "papermill": {
     "duration": 0.03163,
     "end_time": "2025-02-22T22:25:52.602099",
     "exception": false,
     "start_time": "2025-02-22T22:25:52.570469",
     "status": "completed"
    },
    "tags": []
   },
   "outputs": [
    {
     "data": {
      "text/plain": [
       "['ALS', 'Bias', 'IALS', 'IIE', 'III', 'Pop', 'UUE']"
      ]
     },
     "execution_count": 10,
     "metadata": {},
     "output_type": "execute_result"
    }
   ],
   "source": [
    "rec_algos = sorted(set(a for (a, _u) in recs.keys()))\n",
    "rec_algos"
   ]
  },
  {
   "cell_type": "code",
   "execution_count": 11,
   "id": "0fe9ffda",
   "metadata": {
    "execution": {
     "iopub.execute_input": "2025-02-22T22:25:52.605723Z",
     "iopub.status.busy": "2025-02-22T22:25:52.605624Z",
     "iopub.status.idle": "2025-02-22T22:25:57.206664Z",
     "shell.execute_reply": "2025-02-22T22:25:57.206189Z"
    },
    "papermill": {
     "duration": 4.603713,
     "end_time": "2025-02-22T22:25:57.207419",
     "exception": false,
     "start_time": "2025-02-22T22:25:52.603706",
     "status": "completed"
    },
    "tags": []
   },
   "outputs": [],
   "source": [
    "preds = ItemListCollection(['model', 'user_id'], index=False)\n",
    "for fld in dirs:\n",
    "    for file in fld.glob(\"pred-*\"):\n",
    "        pred = ItemListCollection.load_parquet(file)\n",
    "        preds.add_from(pred, model=fld.name.split(\"-\")[-1])"
   ]
  },
  {
   "cell_type": "markdown",
   "id": "afae618c",
   "metadata": {
    "papermill": {
     "duration": 0.008856,
     "end_time": "2025-02-22T22:25:57.217932",
     "exception": false,
     "start_time": "2025-02-22T22:25:57.209076",
     "status": "completed"
    },
    "tags": []
   },
   "source": [
    "We need to load the test data so that we have the ground truths for computing accuracy."
   ]
  },
  {
   "cell_type": "code",
   "execution_count": 12,
   "id": "01ecdf7b",
   "metadata": {
    "execution": {
     "iopub.execute_input": "2025-02-22T22:25:57.221440Z",
     "iopub.status.busy": "2025-02-22T22:25:57.221345Z",
     "iopub.status.idle": "2025-02-22T22:26:00.741847Z",
     "shell.execute_reply": "2025-02-22T22:26:00.741426Z"
    },
    "papermill": {
     "duration": 3.523373,
     "end_time": "2025-02-22T22:26:00.742700",
     "exception": false,
     "start_time": "2025-02-22T22:25:57.219327",
     "status": "completed"
    },
    "tags": []
   },
   "outputs": [],
   "source": [
    "data = Dataset.load(f\"data/{dataset}\")\n",
    "split = split_fraction(data, 0.2)\n",
    "test = split.test"
   ]
  },
  {
   "cell_type": "markdown",
   "id": "291700d9",
   "metadata": {
    "papermill": {
     "duration": 0.00883,
     "end_time": "2025-02-22T22:26:00.753227",
     "exception": false,
     "start_time": "2025-02-22T22:26:00.744397",
     "status": "completed"
    },
    "tags": []
   },
   "source": [
    "And identify users in the training set, so we only report metrics over them."
   ]
  },
  {
   "cell_type": "code",
   "execution_count": 13,
   "id": "acfdbd1c",
   "metadata": {
    "execution": {
     "iopub.execute_input": "2025-02-22T22:26:00.756517Z",
     "iopub.status.busy": "2025-02-22T22:26:00.756437Z",
     "iopub.status.idle": "2025-02-22T22:26:02.094735Z",
     "shell.execute_reply": "2025-02-22T22:26:02.094220Z"
    },
    "papermill": {
     "duration": 1.340994,
     "end_time": "2025-02-22T22:26:02.095573",
     "exception": false,
     "start_time": "2025-02-22T22:26:00.754579",
     "status": "completed"
    },
    "tags": []
   },
   "outputs": [],
   "source": [
    "train_users = split.train.user_stats()\n",
    "train_users = train_users[train_users['rating_count'] > 0]"
   ]
  },
  {
   "cell_type": "markdown",
   "id": "bb7059cd",
   "metadata": {
    "papermill": {
     "duration": 0.008997,
     "end_time": "2025-02-22T22:26:02.106291",
     "exception": false,
     "start_time": "2025-02-22T22:26:02.097294",
     "status": "completed"
    },
    "tags": []
   },
   "source": [
    "## Top-N Metrics\n",
    "\n",
    "`RunListAnalysis` computes metrics for recommendation results and takes care of\n",
    "matching recommendations and ground truth."
   ]
  },
  {
   "cell_type": "code",
   "execution_count": 14,
   "id": "60a7550d",
   "metadata": {
    "execution": {
     "iopub.execute_input": "2025-02-22T22:26:02.109732Z",
     "iopub.status.busy": "2025-02-22T22:26:02.109629Z",
     "iopub.status.idle": "2025-02-22T22:26:22.554598Z",
     "shell.execute_reply": "2025-02-22T22:26:22.554275Z"
    },
    "papermill": {
     "duration": 20.447535,
     "end_time": "2025-02-22T22:26:22.555277",
     "exception": false,
     "start_time": "2025-02-22T22:26:02.107742",
     "status": "completed"
    },
    "tags": []
   },
   "outputs": [
    {
     "name": "stderr",
     "output_type": "stream",
     "text": [
      "/home/mde48/lenskit/lk-demo-experiment/.venv/lib/python3.13/site-packages/lenskit/metrics/bulk.py:127: FutureWarning: The previous implementation of stack is deprecated and will be removed in a future version of pandas. See the What's New notes for pandas 2.1.0 for details. Specify future_stack=True to adopt the new implementation and silence this warning.\n",
      "  df = scores.groupby(list(keys)).agg([\"mean\", \"median\", \"std\"]).stack(level=0)\n"
     ]
    },
    {
     "data": {
      "text/html": [
       "<div>\n",
       "<style scoped>\n",
       "    .dataframe tbody tr th:only-of-type {\n",
       "        vertical-align: middle;\n",
       "    }\n",
       "\n",
       "    .dataframe tbody tr th {\n",
       "        vertical-align: top;\n",
       "    }\n",
       "\n",
       "    .dataframe thead th {\n",
       "        text-align: right;\n",
       "    }\n",
       "</style>\n",
       "<table border=\"1\" class=\"dataframe\">\n",
       "  <thead>\n",
       "    <tr style=\"text-align: right;\">\n",
       "      <th></th>\n",
       "      <th></th>\n",
       "      <th>mean</th>\n",
       "      <th>median</th>\n",
       "      <th>std</th>\n",
       "    </tr>\n",
       "    <tr>\n",
       "      <th>model</th>\n",
       "      <th></th>\n",
       "      <th></th>\n",
       "      <th></th>\n",
       "      <th></th>\n",
       "    </tr>\n",
       "  </thead>\n",
       "  <tbody>\n",
       "    <tr>\n",
       "      <th rowspan=\"3\" valign=\"top\">ALS</th>\n",
       "      <th>NDCG</th>\n",
       "      <td>0.135228</td>\n",
       "      <td>0.111987</td>\n",
       "      <td>0.115142</td>\n",
       "    </tr>\n",
       "    <tr>\n",
       "      <th>RBP</th>\n",
       "      <td>0.214271</td>\n",
       "      <td>0.161248</td>\n",
       "      <td>0.212302</td>\n",
       "    </tr>\n",
       "    <tr>\n",
       "      <th>RecipRank</th>\n",
       "      <td>0.517624</td>\n",
       "      <td>0.333333</td>\n",
       "      <td>0.444651</td>\n",
       "    </tr>\n",
       "    <tr>\n",
       "      <th rowspan=\"3\" valign=\"top\">Bias</th>\n",
       "      <th>NDCG</th>\n",
       "      <td>0.135450</td>\n",
       "      <td>0.112120</td>\n",
       "      <td>0.115481</td>\n",
       "    </tr>\n",
       "    <tr>\n",
       "      <th>RBP</th>\n",
       "      <td>0.216176</td>\n",
       "      <td>0.161561</td>\n",
       "      <td>0.212348</td>\n",
       "    </tr>\n",
       "    <tr>\n",
       "      <th>RecipRank</th>\n",
       "      <td>0.528773</td>\n",
       "      <td>0.333333</td>\n",
       "      <td>0.445985</td>\n",
       "    </tr>\n",
       "    <tr>\n",
       "      <th rowspan=\"3\" valign=\"top\">IALS</th>\n",
       "      <th>NDCG</th>\n",
       "      <td>0.030659</td>\n",
       "      <td>0.015107</td>\n",
       "      <td>0.058179</td>\n",
       "    </tr>\n",
       "    <tr>\n",
       "      <th>RBP</th>\n",
       "      <td>0.027713</td>\n",
       "      <td>0.000038</td>\n",
       "      <td>0.101784</td>\n",
       "    </tr>\n",
       "    <tr>\n",
       "      <th>RecipRank</th>\n",
       "      <td>0.063468</td>\n",
       "      <td>0.018868</td>\n",
       "      <td>0.171945</td>\n",
       "    </tr>\n",
       "    <tr>\n",
       "      <th rowspan=\"3\" valign=\"top\">IIE</th>\n",
       "      <th>NDCG</th>\n",
       "      <td>0.004715</td>\n",
       "      <td>0.000000</td>\n",
       "      <td>0.018829</td>\n",
       "    </tr>\n",
       "    <tr>\n",
       "      <th>RBP</th>\n",
       "      <td>0.003525</td>\n",
       "      <td>0.000000</td>\n",
       "      <td>0.027848</td>\n",
       "    </tr>\n",
       "    <tr>\n",
       "      <th>RecipRank</th>\n",
       "      <td>0.008834</td>\n",
       "      <td>0.000000</td>\n",
       "      <td>0.050809</td>\n",
       "    </tr>\n",
       "    <tr>\n",
       "      <th rowspan=\"3\" valign=\"top\">III</th>\n",
       "      <th>NDCG</th>\n",
       "      <td>0.022439</td>\n",
       "      <td>0.000000</td>\n",
       "      <td>0.073231</td>\n",
       "    </tr>\n",
       "    <tr>\n",
       "      <th>RBP</th>\n",
       "      <td>0.035005</td>\n",
       "      <td>0.000000</td>\n",
       "      <td>0.131289</td>\n",
       "    </tr>\n",
       "    <tr>\n",
       "      <th>RecipRank</th>\n",
       "      <td>0.061476</td>\n",
       "      <td>0.000000</td>\n",
       "      <td>0.212268</td>\n",
       "    </tr>\n",
       "    <tr>\n",
       "      <th rowspan=\"3\" valign=\"top\">Pop</th>\n",
       "      <th>NDCG</th>\n",
       "      <td>0.176999</td>\n",
       "      <td>0.158126</td>\n",
       "      <td>0.140126</td>\n",
       "    </tr>\n",
       "    <tr>\n",
       "      <th>RBP</th>\n",
       "      <td>0.300117</td>\n",
       "      <td>0.216025</td>\n",
       "      <td>0.291834</td>\n",
       "    </tr>\n",
       "    <tr>\n",
       "      <th>RecipRank</th>\n",
       "      <td>0.515410</td>\n",
       "      <td>0.500000</td>\n",
       "      <td>0.422528</td>\n",
       "    </tr>\n",
       "    <tr>\n",
       "      <th rowspan=\"3\" valign=\"top\">UUE</th>\n",
       "      <th>NDCG</th>\n",
       "      <td>0.002470</td>\n",
       "      <td>0.000000</td>\n",
       "      <td>0.010976</td>\n",
       "    </tr>\n",
       "    <tr>\n",
       "      <th>RBP</th>\n",
       "      <td>0.000886</td>\n",
       "      <td>0.000000</td>\n",
       "      <td>0.007528</td>\n",
       "    </tr>\n",
       "    <tr>\n",
       "      <th>RecipRank</th>\n",
       "      <td>0.003528</td>\n",
       "      <td>0.000000</td>\n",
       "      <td>0.014155</td>\n",
       "    </tr>\n",
       "  </tbody>\n",
       "</table>\n",
       "</div>"
      ],
      "text/plain": [
       "                     mean    median       std\n",
       "model                                        \n",
       "ALS   NDCG       0.135228  0.111987  0.115142\n",
       "      RBP        0.214271  0.161248  0.212302\n",
       "      RecipRank  0.517624  0.333333  0.444651\n",
       "Bias  NDCG       0.135450  0.112120  0.115481\n",
       "      RBP        0.216176  0.161561  0.212348\n",
       "      RecipRank  0.528773  0.333333  0.445985\n",
       "IALS  NDCG       0.030659  0.015107  0.058179\n",
       "      RBP        0.027713  0.000038  0.101784\n",
       "      RecipRank  0.063468  0.018868  0.171945\n",
       "IIE   NDCG       0.004715  0.000000  0.018829\n",
       "      RBP        0.003525  0.000000  0.027848\n",
       "      RecipRank  0.008834  0.000000  0.050809\n",
       "III   NDCG       0.022439  0.000000  0.073231\n",
       "      RBP        0.035005  0.000000  0.131289\n",
       "      RecipRank  0.061476  0.000000  0.212268\n",
       "Pop   NDCG       0.176999  0.158126  0.140126\n",
       "      RBP        0.300117  0.216025  0.291834\n",
       "      RecipRank  0.515410  0.500000  0.422528\n",
       "UUE   NDCG       0.002470  0.000000  0.010976\n",
       "      RBP        0.000886  0.000000  0.007528\n",
       "      RecipRank  0.003528  0.000000  0.014155"
      ]
     },
     "execution_count": 14,
     "metadata": {},
     "output_type": "execute_result"
    }
   ],
   "source": [
    "ra = RunAnalysis()\n",
    "\n",
    "ra.add_metric(NDCG())\n",
    "ra.add_metric(RecipRank())\n",
    "ra.add_metric(RBP())\n",
    "\n",
    "rec_results = ra.compute(recs, test)\n",
    "rec_results.list_summary('model')"
   ]
  },
  {
   "cell_type": "markdown",
   "id": "c43d0a23",
   "metadata": {
    "papermill": {
     "duration": 0.008776,
     "end_time": "2025-02-22T22:26:22.565840",
     "exception": false,
     "start_time": "2025-02-22T22:26:22.557064",
     "status": "completed"
    },
    "tags": []
   },
   "source": [
    "We can reshape the list metrics and plot them:"
   ]
  },
  {
   "cell_type": "code",
   "execution_count": 15,
   "id": "9d2d5d12",
   "metadata": {
    "execution": {
     "iopub.execute_input": "2025-02-22T22:26:22.569367Z",
     "iopub.status.busy": "2025-02-22T22:26:22.569273Z",
     "iopub.status.idle": "2025-02-22T22:26:23.249140Z",
     "shell.execute_reply": "2025-02-22T22:26:23.248674Z"
    },
    "papermill": {
     "duration": 0.682475,
     "end_time": "2025-02-22T22:26:23.249877",
     "exception": false,
     "start_time": "2025-02-22T22:26:22.567402",
     "status": "completed"
    },
    "tags": []
   },
   "outputs": [
    {
     "data": {
      "image/png": "[encoded data removed]",
      "text/plain": [
       "<Figure size 1511.11x500 with 3 Axes>"
      ]
     },
     "metadata": {},
     "output_type": "display_data"
    }
   ],
   "source": [
    "metrics = rec_results.list_metrics()\n",
    "metrics = metrics.melt(var_name='metric', ignore_index=False).reset_index()\n",
    "metrics = metrics[metrics['user_id'].isin(train_users.index)]\n",
    "sns.catplot(metrics, x='model', y='value', col='metric', kind='bar')\n",
    "plt.show()"
   ]
  },
  {
   "cell_type": "markdown",
   "id": "c43e61ea",
   "metadata": {
    "papermill": {
     "duration": 0.008942,
     "end_time": "2025-02-22T22:26:23.262263",
     "exception": false,
     "start_time": "2025-02-22T22:26:23.253321",
     "status": "completed"
    },
    "tags": []
   },
   "source": [
    "## Prediction RMSE\n",
    "\n",
    "We will also look at the prediction RMSE."
   ]
  },
  {
   "cell_type": "code",
   "execution_count": 16,
   "id": "96b6d861",
   "metadata": {
    "execution": {
     "iopub.execute_input": "2025-02-22T22:26:23.266009Z",
     "iopub.status.busy": "2025-02-22T22:26:23.265906Z",
     "iopub.status.idle": "2025-02-22T22:26:43.265582Z",
     "shell.execute_reply": "2025-02-22T22:26:43.265400Z"
    },
    "papermill": {
     "duration": 20.002021,
     "end_time": "2025-02-22T22:26:43.265947",
     "exception": false,
     "start_time": "2025-02-22T22:26:23.263926",
     "status": "completed"
    },
    "tags": []
   },
   "outputs": [
    {
     "name": "stderr",
     "output_type": "stream",
     "text": [
      "/home/mde48/lenskit/lk-demo-experiment/.venv/lib/python3.13/site-packages/lenskit/metrics/bulk.py:127: FutureWarning: The previous implementation of stack is deprecated and will be removed in a future version of pandas. See the What's New notes for pandas 2.1.0 for details. Specify future_stack=True to adopt the new implementation and silence this warning.\n",
      "  df = scores.groupby(list(keys)).agg([\"mean\", \"median\", \"std\"]).stack(level=0)\n"
     ]
    },
    {
     "data": {
      "text/html": [
       "<div>\n",
       "<style scoped>\n",
       "    .dataframe tbody tr th:only-of-type {\n",
       "        vertical-align: middle;\n",
       "    }\n",
       "\n",
       "    .dataframe tbody tr th {\n",
       "        vertical-align: top;\n",
       "    }\n",
       "\n",
       "    .dataframe thead th {\n",
       "        text-align: right;\n",
       "    }\n",
       "</style>\n",
       "<table border=\"1\" class=\"dataframe\">\n",
       "  <thead>\n",
       "    <tr style=\"text-align: right;\">\n",
       "      <th></th>\n",
       "      <th></th>\n",
       "      <th>mean</th>\n",
       "      <th>median</th>\n",
       "      <th>std</th>\n",
       "    </tr>\n",
       "    <tr>\n",
       "      <th>model</th>\n",
       "      <th></th>\n",
       "      <th></th>\n",
       "      <th></th>\n",
       "      <th></th>\n",
       "    </tr>\n",
       "  </thead>\n",
       "  <tbody>\n",
       "    <tr>\n",
       "      <th>ALS</th>\n",
       "      <th>RMSE</th>\n",
       "      <td>0.927290</td>\n",
       "      <td>0.870680</td>\n",
       "      <td>0.318237</td>\n",
       "    </tr>\n",
       "    <tr>\n",
       "      <th>Bias</th>\n",
       "      <th>RMSE</th>\n",
       "      <td>0.930781</td>\n",
       "      <td>0.874023</td>\n",
       "      <td>0.317153</td>\n",
       "    </tr>\n",
       "    <tr>\n",
       "      <th>IIE</th>\n",
       "      <th>RMSE</th>\n",
       "      <td>0.928144</td>\n",
       "      <td>0.871069</td>\n",
       "      <td>0.319634</td>\n",
       "    </tr>\n",
       "    <tr>\n",
       "      <th>UUE</th>\n",
       "      <th>RMSE</th>\n",
       "      <td>0.930780</td>\n",
       "      <td>0.873439</td>\n",
       "      <td>0.318404</td>\n",
       "    </tr>\n",
       "  </tbody>\n",
       "</table>\n",
       "</div>"
      ],
      "text/plain": [
       "                mean    median       std\n",
       "model                                   \n",
       "ALS   RMSE  0.927290  0.870680  0.318237\n",
       "Bias  RMSE  0.930781  0.874023  0.317153\n",
       "IIE   RMSE  0.928144  0.871069  0.319634\n",
       "UUE   RMSE  0.930780  0.873439  0.318404"
      ]
     },
     "execution_count": 16,
     "metadata": {},
     "output_type": "execute_result"
    }
   ],
   "source": [
    "pa = RunAnalysis()\n",
    "\n",
    "pa.add_metric(RMSE(missing_scores='ignore', missing_truth='ignore'))\n",
    "\n",
    "pred_results = pa.compute(preds, test)\n",
    "pred_results.list_summary('model')"
   ]
  },
  {
   "cell_type": "code",
   "execution_count": 17,
   "id": "6d814573",
   "metadata": {
    "execution": {
     "iopub.execute_input": "2025-02-22T22:26:43.277383Z",
     "iopub.status.busy": "2025-02-22T22:26:43.277297Z",
     "iopub.status.idle": "2025-02-22T22:26:43.425840Z",
     "shell.execute_reply": "2025-02-22T22:26:43.425557Z"
    },
    "papermill": {
     "duration": 0.158532,
     "end_time": "2025-02-22T22:26:43.426506",
     "exception": false,
     "start_time": "2025-02-22T22:26:43.267974",
     "status": "completed"
    },
    "tags": []
   },
   "outputs": [
    {
     "data": {
      "image/png": "[encoded data removed]",
      "text/plain": [
       "<Figure size 511.111x500 with 1 Axes>"
      ]
     },
     "metadata": {},
     "output_type": "display_data"
    }
   ],
   "source": [
    "pred_metrics = pred_results.list_metrics().reset_index()\n",
    "pred_metrics = pred_metrics[pred_metrics['user_id'].isin(train_users.index)]\n",
    "sns.catplot(pred_metrics, x='model', y='RMSE', kind='bar')\n",
    "plt.show()"
   ]
  },
  {
   "cell_type": "markdown",
   "id": "150ed96b",
   "metadata": {
    "papermill": {
     "duration": 0.008715,
     "end_time": "2025-02-22T22:26:43.438528",
     "exception": false,
     "start_time": "2025-02-22T22:26:43.429813",
     "status": "completed"
    },
    "tags": []
   },
   "source": [
    "## Save Metrics\n",
    "\n",
    "We'll now save the metrics to a file."
   ]
  },
  {
   "cell_type": "code",
   "execution_count": 18,
   "id": "95247ac8",
   "metadata": {
    "execution": {
     "iopub.execute_input": "2025-02-22T22:26:43.442680Z",
     "iopub.status.busy": "2025-02-22T22:26:43.442590Z",
     "iopub.status.idle": "2025-02-22T22:26:43.467023Z",
     "shell.execute_reply": "2025-02-22T22:26:43.466731Z"
    },
    "papermill": {
     "duration": 0.027194,
     "end_time": "2025-02-22T22:26:43.467539",
     "exception": false,
     "start_time": "2025-02-22T22:26:43.440345",
     "status": "completed"
    },
    "tags": []
   },
   "outputs": [
    {
     "name": "stderr",
     "output_type": "stream",
     "text": [
      "/home/mde48/lenskit/lk-demo-experiment/.venv/lib/python3.13/site-packages/lenskit/metrics/bulk.py:127: FutureWarning: The previous implementation of stack is deprecated and will be removed in a future version of pandas. See the What's New notes for pandas 2.1.0 for details. Specify future_stack=True to adopt the new implementation and silence this warning.\n",
      "  df = scores.groupby(list(keys)).agg([\"mean\", \"median\", \"std\"]).stack(level=0)\n"
     ]
    },
    {
     "data": {
      "text/html": [
       "<div>\n",
       "<style scoped>\n",
       "    .dataframe tbody tr th:only-of-type {\n",
       "        vertical-align: middle;\n",
       "    }\n",
       "\n",
       "    .dataframe tbody tr th {\n",
       "        vertical-align: top;\n",
       "    }\n",
       "\n",
       "    .dataframe thead th {\n",
       "        text-align: right;\n",
       "    }\n",
       "</style>\n",
       "<table border=\"1\" class=\"dataframe\">\n",
       "  <thead>\n",
       "    <tr style=\"text-align: right;\">\n",
       "      <th></th>\n",
       "      <th>NDCG</th>\n",
       "      <th>RBP</th>\n",
       "      <th>RecipRank</th>\n",
       "    </tr>\n",
       "    <tr>\n",
       "      <th>model</th>\n",
       "      <th></th>\n",
       "      <th></th>\n",
       "      <th></th>\n",
       "    </tr>\n",
       "  </thead>\n",
       "  <tbody>\n",
       "    <tr>\n",
       "      <th>ALS</th>\n",
       "      <td>0.135228</td>\n",
       "      <td>0.214271</td>\n",
       "      <td>0.517624</td>\n",
       "    </tr>\n",
       "    <tr>\n",
       "      <th>Bias</th>\n",
       "      <td>0.135450</td>\n",
       "      <td>0.216176</td>\n",
       "      <td>0.528773</td>\n",
       "    </tr>\n",
       "    <tr>\n",
       "      <th>IALS</th>\n",
       "      <td>0.030659</td>\n",
       "      <td>0.027713</td>\n",
       "      <td>0.063468</td>\n",
       "    </tr>\n",
       "    <tr>\n",
       "      <th>IIE</th>\n",
       "      <td>0.004715</td>\n",
       "      <td>0.003525</td>\n",
       "      <td>0.008834</td>\n",
       "    </tr>\n",
       "    <tr>\n",
       "      <th>III</th>\n",
       "      <td>0.022439</td>\n",
       "      <td>0.035005</td>\n",
       "      <td>0.061476</td>\n",
       "    </tr>\n",
       "    <tr>\n",
       "      <th>Pop</th>\n",
       "      <td>0.176999</td>\n",
       "      <td>0.300117</td>\n",
       "      <td>0.515410</td>\n",
       "    </tr>\n",
       "    <tr>\n",
       "      <th>UUE</th>\n",
       "      <td>0.002470</td>\n",
       "      <td>0.000886</td>\n",
       "      <td>0.003528</td>\n",
       "    </tr>\n",
       "  </tbody>\n",
       "</table>\n",
       "</div>"
      ],
      "text/plain": [
       "           NDCG       RBP  RecipRank\n",
       "model                               \n",
       "ALS    0.135228  0.214271   0.517624\n",
       "Bias   0.135450  0.216176   0.528773\n",
       "IALS   0.030659  0.027713   0.063468\n",
       "IIE    0.004715  0.003525   0.008834\n",
       "III    0.022439  0.035005   0.061476\n",
       "Pop    0.176999  0.300117   0.515410\n",
       "UUE    0.002470  0.000886   0.003528"
      ]
     },
     "execution_count": 18,
     "metadata": {},
     "output_type": "execute_result"
    }
   ],
   "source": [
    "rlsum = rec_results.list_summary('model')['mean'].unstack()\n",
    "rlsum"
   ]
  },
  {
   "cell_type": "code",
   "execution_count": 19,
   "id": "fb76a470",
   "metadata": {
    "execution": {
     "iopub.execute_input": "2025-02-22T22:26:43.471891Z",
     "iopub.status.busy": "2025-02-22T22:26:43.471778Z",
     "iopub.status.idle": "2025-02-22T22:26:43.474188Z",
     "shell.execute_reply": "2025-02-22T22:26:43.473949Z"
    },
    "papermill": {
     "duration": 0.005135,
     "end_time": "2025-02-22T22:26:43.474652",
     "exception": false,
     "start_time": "2025-02-22T22:26:43.469517",
     "status": "completed"
    },
    "tags": []
   },
   "outputs": [],
   "source": [
    "rlsum.to_json(f'eval-metrics.{dataset}.json', orient='index')"
   ]
  }
 ],
 "metadata": {
  "jupytext": {
   "formats": "ipynb,md",
   "notebook_metadata_filter": "split_at_heading"
  },
  "kernelspec": {
   "display_name": ".venv",
   "language": "python",
   "name": "python3"
  },
  "language_info": {
   "codemirror_mode": {
    "name": "ipython",
    "version": 3
   },
   "file_extension": ".py",
   "mimetype": "text/x-python",
   "name": "python",
   "nbconvert_exporter": "python",
   "pygments_lexer": "ipython3",
   "version": "3.13.2"
  },
  "papermill": {
   "default_parameters": {},
   "duration": 59.151833,
   "end_time": "2025-02-22T22:26:44.991714",
   "environment_variables": {},
   "exception": null,
   "input_path": "eval-report.ipynb",
   "output_path": "eval-report.ml-20m.ipynb",
   "parameters": {
    "dataset": "ml-20m"
   },
   "start_time": "2025-02-22T22:25:45.839881",
   "version": "2.6.0"
  },
  "split_at_heading": true
 },
 "nbformat": 4,
 "nbformat_minor": 5
}