{
 "cells": [
  {
   "cell_type": "markdown",
   "id": "7291eba0",
   "metadata": {
    "papermill": {
     "duration": 0.002197,
     "end_time": "2024-12-15T17:58:35.265278",
     "exception": false,
     "start_time": "2024-12-15T17:58:35.263081",
     "status": "completed"
    },
    "tags": []
   },
   "source": [
    "# Evaluation Analysis for Recommender Output"
   ]
  },
  {
   "cell_type": "markdown",
   "id": "872010be",
   "metadata": {
    "papermill": {
     "duration": 0.001098,
     "end_time": "2024-12-15T17:58:35.267655",
     "exception": false,
     "start_time": "2024-12-15T17:58:35.266557",
     "status": "completed"
    },
    "tags": []
   },
   "source": [
    "In this section we will analyze and compare the generated recommendations and predictions from a predefined list of algorithms with the goal of assessing the performance of each algorithm with respect to a metric. In other words, we would rank the algorithms for each metric considered with respect to performance."
   ]
  },
  {
   "cell_type": "markdown",
   "id": "aaaf15df",
   "metadata": {
    "papermill": {
     "duration": 0.00172,
     "end_time": "2024-12-15T17:58:35.270500",
     "exception": false,
     "start_time": "2024-12-15T17:58:35.268780",
     "status": "completed"
    },
    "tags": []
   },
   "source": [
    "## Setup"
   ]
  },
  {
   "cell_type": "markdown",
   "id": "8684b9cf",
   "metadata": {
    "papermill": {
     "duration": 0.001083,
     "end_time": "2024-12-15T17:58:35.272741",
     "exception": false,
     "start_time": "2024-12-15T17:58:35.271658",
     "status": "completed"
    },
    "tags": []
   },
   "source": [
    "Below are the list of packages required to successfully run the analysis. They are divided into partitions to signify their specific task.<br>\n",
    "We need the pathlib package for working with files and folders"
   ]
  },
  {
   "cell_type": "code",
   "execution_count": 1,
   "id": "ee069941",
   "metadata": {
    "execution": {
     "iopub.execute_input": "2024-12-15T17:58:35.275336Z",
     "iopub.status.busy": "2024-12-15T17:58:35.275235Z",
     "iopub.status.idle": "2024-12-15T17:58:35.277342Z",
     "shell.execute_reply": "2024-12-15T17:58:35.277126Z"
    },
    "papermill": {
     "duration": 0.004048,
     "end_time": "2024-12-15T17:58:35.277875",
     "exception": false,
     "start_time": "2024-12-15T17:58:35.273827",
     "status": "completed"
    },
    "tags": []
   },
   "outputs": [],
   "source": [
    "from pathlib import Path\n",
    "import json"
   ]
  },
  {
   "cell_type": "markdown",
   "id": "50590acc",
   "metadata": {
    "papermill": {
     "duration": 0.001109,
     "end_time": "2024-12-15T17:58:35.280535",
     "exception": false,
     "start_time": "2024-12-15T17:58:35.279426",
     "status": "completed"
    },
    "tags": []
   },
   "source": [
    "We would use the pandas for analyzing and manipulating our data while seaborn and matplotlib are used for data visualization. statsmodels.graphics.gofplots and scipy.stats.shapiro are used for normality check. Scipy.stats.friedmanchisquare is a non-parametric test used to determine the statistical significance in metric results and the wilcoxon test is used for pairwise comparison of sample data."
   ]
  },
  {
   "cell_type": "code",
   "execution_count": 2,
   "id": "d40cc792",
   "metadata": {
    "execution": {
     "iopub.execute_input": "2024-12-15T17:58:35.283115Z",
     "iopub.status.busy": "2024-12-15T17:58:35.283050Z",
     "iopub.status.idle": "2024-12-15T17:58:35.718897Z",
     "shell.execute_reply": "2024-12-15T17:58:35.718517Z"
    },
    "lines_to_next_cell": 2,
    "papermill": {
     "duration": 0.438059,
     "end_time": "2024-12-15T17:58:35.719702",
     "exception": false,
     "start_time": "2024-12-15T17:58:35.281643",
     "status": "completed"
    },
    "tags": []
   },
   "outputs": [],
   "source": [
    "import pandas as pd\n",
    "import seaborn as sns\n",
    "import matplotlib.pyplot as plt\n",
    "from statsmodels.graphics.gofplots import qqplot\n",
    "from scipy.stats import shapiro\n",
    "from scipy.stats import friedmanchisquare, wilcoxon\n",
    "from itertools import combinations"
   ]
  },
  {
   "cell_type": "markdown",
   "id": "76360899",
   "metadata": {
    "papermill": {
     "duration": 0.001209,
     "end_time": "2024-12-15T17:58:35.722367",
     "exception": false,
     "start_time": "2024-12-15T17:58:35.721158",
     "status": "completed"
    },
    "tags": []
   },
   "source": [
    "Import the LensKit metrics for analysis:"
   ]
  },
  {
   "cell_type": "code",
   "execution_count": 3,
   "id": "9f0614f8",
   "metadata": {
    "execution": {
     "iopub.execute_input": "2024-12-15T17:58:35.725296Z",
     "iopub.status.busy": "2024-12-15T17:58:35.725168Z",
     "iopub.status.idle": "2024-12-15T17:58:36.368253Z",
     "shell.execute_reply": "2024-12-15T17:58:36.367796Z"
    },
    "papermill": {
     "duration": 0.645446,
     "end_time": "2024-12-15T17:58:36.369025",
     "exception": false,
     "start_time": "2024-12-15T17:58:35.723579",
     "status": "completed"
    },
    "tags": []
   },
   "outputs": [],
   "source": [
    "from lenskit.data import ItemListCollection, UserIDKey\n",
    "from lenskit.metrics import RunAnalysis, RMSE, NDCG, RecipRank, RBP"
   ]
  },
  {
   "cell_type": "markdown",
   "id": "44472f41",
   "metadata": {
    "papermill": {
     "duration": 0.009215,
     "end_time": "2024-12-15T17:58:36.379689",
     "exception": false,
     "start_time": "2024-12-15T17:58:36.370474",
     "status": "completed"
    },
    "tags": []
   },
   "source": [
    "## Load Data\n",
    "\n",
    "The recommendations are in `runs`, and we will need to reassemble the test data from `test`."
   ]
  },
  {
   "cell_type": "code",
   "execution_count": 4,
   "id": "a854029a",
   "metadata": {
    "execution": {
     "iopub.execute_input": "2024-12-15T17:58:36.382842Z",
     "iopub.status.busy": "2024-12-15T17:58:36.382757Z",
     "iopub.status.idle": "2024-12-15T17:58:36.384452Z",
     "shell.execute_reply": "2024-12-15T17:58:36.384244Z"
    },
    "papermill": {
     "duration": 0.003945,
     "end_time": "2024-12-15T17:58:36.385040",
     "exception": false,
     "start_time": "2024-12-15T17:58:36.381095",
     "status": "completed"
    },
    "tags": [
     "parameters"
    ]
   },
   "outputs": [],
   "source": [
    "dataset = \"ml100k\""
   ]
  },
  {
   "cell_type": "code",
   "execution_count": 5,
   "id": "132e5b87",
   "metadata": {
    "execution": {
     "iopub.execute_input": "2024-12-15T17:58:36.389394Z",
     "iopub.status.busy": "2024-12-15T17:58:36.389323Z",
     "iopub.status.idle": "2024-12-15T17:58:36.390741Z",
     "shell.execute_reply": "2024-12-15T17:58:36.390533Z"
    },
    "papermill": {
     "duration": 0.004857,
     "end_time": "2024-12-15T17:58:36.391336",
     "exception": false,
     "start_time": "2024-12-15T17:58:36.386479",
     "status": "completed"
    },
    "tags": [
     "injected-parameters"
    ]
   },
   "outputs": [],
   "source": [
    "# Parameters\n",
    "dataset = \"ml25m\"\n"
   ]
  },
  {
   "cell_type": "code",
   "execution_count": 6,
   "id": "58b1ab64",
   "metadata": {
    "execution": {
     "iopub.execute_input": "2024-12-15T17:58:36.394737Z",
     "iopub.status.busy": "2024-12-15T17:58:36.394674Z",
     "iopub.status.idle": "2024-12-15T17:58:36.396042Z",
     "shell.execute_reply": "2024-12-15T17:58:36.395838Z"
    },
    "papermill": {
     "duration": 0.003324,
     "end_time": "2024-12-15T17:58:36.396458",
     "exception": false,
     "start_time": "2024-12-15T17:58:36.393134",
     "status": "completed"
    },
    "tags": []
   },
   "outputs": [],
   "source": [
    "output_root = Path(\"runs\")"
   ]
  },
  {
   "cell_type": "code",
   "execution_count": 7,
   "id": "291fdc84",
   "metadata": {
    "execution": {
     "iopub.execute_input": "2024-12-15T17:58:36.399889Z",
     "iopub.status.busy": "2024-12-15T17:58:36.399821Z",
     "iopub.status.idle": "2024-12-15T17:58:36.401594Z",
     "shell.execute_reply": "2024-12-15T17:58:36.401368Z"
    },
    "papermill": {
     "duration": 0.004215,
     "end_time": "2024-12-15T17:58:36.401843",
     "exception": false,
     "start_time": "2024-12-15T17:58:36.397628",
     "status": "completed"
    },
    "tags": []
   },
   "outputs": [],
   "source": [
    "dirs = [fld for fld in output_root.glob(f'{dataset}-*')]"
   ]
  },
  {
   "cell_type": "code",
   "execution_count": 8,
   "id": "e47fe658",
   "metadata": {
    "execution": {
     "iopub.execute_input": "2024-12-15T17:58:36.404422Z",
     "iopub.status.busy": "2024-12-15T17:58:36.404354Z",
     "iopub.status.idle": "2024-12-15T17:58:51.338536Z",
     "shell.execute_reply": "2024-12-15T17:58:51.337985Z"
    },
    "papermill": {
     "duration": 14.936352,
     "end_time": "2024-12-15T17:58:51.339373",
     "exception": false,
     "start_time": "2024-12-15T17:58:36.403021",
     "status": "completed"
    },
    "tags": []
   },
   "outputs": [],
   "source": [
    "recs = ItemListCollection(['model', 'user_id'], index=False)\n",
    "for fld in dirs:\n",
    "    for file in fld.glob(\"recs-*\"):\n",
    "        rec = ItemListCollection.load_parquet(file)\n",
    "        recs.add_from(rec, model=fld.name.split(\"-\")[1])"
   ]
  },
  {
   "cell_type": "code",
   "execution_count": 9,
   "id": "36d675e6",
   "metadata": {
    "execution": {
     "iopub.execute_input": "2024-12-15T17:58:51.350859Z",
     "iopub.status.busy": "2024-12-15T17:58:51.350773Z",
     "iopub.status.idle": "2024-12-15T17:58:51.401373Z",
     "shell.execute_reply": "2024-12-15T17:58:51.401039Z"
    },
    "papermill": {
     "duration": 0.061065,
     "end_time": "2024-12-15T17:58:51.401915",
     "exception": false,
     "start_time": "2024-12-15T17:58:51.340850",
     "status": "completed"
    },
    "tags": []
   },
   "outputs": [
    {
     "data": {
      "text/plain": [
       "['ALS', 'Bias', 'IALS', 'IIE', 'III', 'Pop']"
      ]
     },
     "execution_count": 9,
     "metadata": {},
     "output_type": "execute_result"
    }
   ],
   "source": [
    "rec_algos = sorted(set(a for (a, _u) in recs.keys()))\n",
    "rec_algos"
   ]
  },
  {
   "cell_type": "code",
   "execution_count": 10,
   "id": "530bbfda",
   "metadata": {
    "execution": {
     "iopub.execute_input": "2024-12-15T17:58:51.405062Z",
     "iopub.status.busy": "2024-12-15T17:58:51.404983Z",
     "iopub.status.idle": "2024-12-15T17:59:03.327166Z",
     "shell.execute_reply": "2024-12-15T17:59:03.326599Z"
    },
    "papermill": {
     "duration": 11.924633,
     "end_time": "2024-12-15T17:59:03.328026",
     "exception": false,
     "start_time": "2024-12-15T17:58:51.403393",
     "status": "completed"
    },
    "tags": []
   },
   "outputs": [],
   "source": [
    "preds = ItemListCollection(['model', 'user_id'], index=False)\n",
    "for fld in dirs:\n",
    "    for file in fld.glob(\"pred-*\"):\n",
    "        pred = ItemListCollection.load_parquet(file)\n",
    "        preds.add_from(pred, model=fld.name.split(\"-\")[1])"
   ]
  },
  {
   "cell_type": "markdown",
   "id": "737fbf6f",
   "metadata": {
    "papermill": {
     "duration": 0.009075,
     "end_time": "2024-12-15T17:59:03.338645",
     "exception": false,
     "start_time": "2024-12-15T17:59:03.329570",
     "status": "completed"
    },
    "tags": []
   },
   "source": [
    "We need to load the test data so that we have the ground truths for computing accuracy"
   ]
  },
  {
   "cell_type": "code",
   "execution_count": 11,
   "id": "094c6750",
   "metadata": {
    "execution": {
     "iopub.execute_input": "2024-12-15T17:59:03.341710Z",
     "iopub.status.busy": "2024-12-15T17:59:03.341618Z",
     "iopub.status.idle": "2024-12-15T17:59:03.343653Z",
     "shell.execute_reply": "2024-12-15T17:59:03.343361Z"
    },
    "papermill": {
     "duration": 0.004232,
     "end_time": "2024-12-15T17:59:03.344135",
     "exception": false,
     "start_time": "2024-12-15T17:59:03.339903",
     "status": "completed"
    },
    "tags": []
   },
   "outputs": [],
   "source": [
    "split_root = Path(\"data-split\")\n",
    "split_dir = split_root / dataset"
   ]
  },
  {
   "cell_type": "code",
   "execution_count": 12,
   "id": "b6b27b83",
   "metadata": {
    "execution": {
     "iopub.execute_input": "2024-12-15T17:59:03.346941Z",
     "iopub.status.busy": "2024-12-15T17:59:03.346875Z",
     "iopub.status.idle": "2024-12-15T17:59:11.371189Z",
     "shell.execute_reply": "2024-12-15T17:59:11.370597Z"
    },
    "papermill": {
     "duration": 8.0266,
     "end_time": "2024-12-15T17:59:11.372017",
     "exception": false,
     "start_time": "2024-12-15T17:59:03.345417",
     "status": "completed"
    },
    "tags": []
   },
   "outputs": [],
   "source": [
    "test = ItemListCollection(UserIDKey)\n",
    "for file in split_dir.glob(\"test-*.parquet\"):\n",
    "    df = pd.read_parquet(file)\n",
    "    part = ItemListCollection.from_df(df, UserIDKey)\n",
    "    test.add_from(part)"
   ]
  },
  {
   "cell_type": "markdown",
   "id": "fed8bea2",
   "metadata": {
    "papermill": {
     "duration": 0.001382,
     "end_time": "2024-12-15T17:59:11.374980",
     "exception": false,
     "start_time": "2024-12-15T17:59:11.373598",
     "status": "completed"
    },
    "tags": []
   },
   "source": [
    "## Top-N Metrics\n",
    "\n",
    "`RunListAnalysis` computes metrics for recommendation results and takes care of\n",
    "matching recommendations and ground truth."
   ]
  },
  {
   "cell_type": "code",
   "execution_count": 13,
   "id": "7b68ce95",
   "metadata": {
    "execution": {
     "iopub.execute_input": "2024-12-15T17:59:11.378075Z",
     "iopub.status.busy": "2024-12-15T17:59:11.377946Z",
     "iopub.status.idle": "2024-12-15T18:00:13.151693Z",
     "shell.execute_reply": "2024-12-15T18:00:13.151394Z"
    },
    "papermill": {
     "duration": 61.776853,
     "end_time": "2024-12-15T18:00:13.153104",
     "exception": false,
     "start_time": "2024-12-15T17:59:11.376251",
     "status": "completed"
    },
    "tags": []
   },
   "outputs": [
    {
     "name": "stderr",
     "output_type": "stream",
     "text": [
      "/home/mde48/lenskit/lkpy/lenskit/lenskit/metrics/bulk.py:121: FutureWarning: The previous implementation of stack is deprecated and will be removed in a future version of pandas. See the What's New notes for pandas 2.1.0 for details. Specify future_stack=True to adopt the new implementation and silence this warning.\n",
      "  df = scores.groupby(list(keys)).agg([\"mean\", \"median\", \"std\"]).stack(level=0)\n"
     ]
    },
    {
     "data": {
      "text/html": [
       "<div>\n",
       "<style scoped>\n",
       "    .dataframe tbody tr th:only-of-type {\n",
       "        vertical-align: middle;\n",
       "    }\n",
       "\n",
       "    .dataframe tbody tr th {\n",
       "        vertical-align: top;\n",
       "    }\n",
       "\n",
       "    .dataframe thead th {\n",
       "        text-align: right;\n",
       "    }\n",
       "</style>\n",
       "<table border=\"1\" class=\"dataframe\">\n",
       "  <thead>\n",
       "    <tr style=\"text-align: right;\">\n",
       "      <th></th>\n",
       "      <th></th>\n",
       "      <th>mean</th>\n",
       "      <th>median</th>\n",
       "      <th>std</th>\n",
       "    </tr>\n",
       "    <tr>\n",
       "      <th>model</th>\n",
       "      <th></th>\n",
       "      <th></th>\n",
       "      <th></th>\n",
       "      <th></th>\n",
       "    </tr>\n",
       "  </thead>\n",
       "  <tbody>\n",
       "    <tr>\n",
       "      <th rowspan=\"3\" valign=\"top\">ALS</th>\n",
       "      <th>NDCG</th>\n",
       "      <td>0.020004</td>\n",
       "      <td>0.000000e+00</td>\n",
       "      <td>0.047940</td>\n",
       "    </tr>\n",
       "    <tr>\n",
       "      <th>RBP</th>\n",
       "      <td>0.003453</td>\n",
       "      <td>0.000000e+00</td>\n",
       "      <td>0.031464</td>\n",
       "    </tr>\n",
       "    <tr>\n",
       "      <th>RecipRank</th>\n",
       "      <td>0.017160</td>\n",
       "      <td>0.000000e+00</td>\n",
       "      <td>0.070802</td>\n",
       "    </tr>\n",
       "    <tr>\n",
       "      <th rowspan=\"3\" valign=\"top\">Bias</th>\n",
       "      <th>NDCG</th>\n",
       "      <td>0.035069</td>\n",
       "      <td>0.000000e+00</td>\n",
       "      <td>0.058922</td>\n",
       "    </tr>\n",
       "    <tr>\n",
       "      <th>RBP</th>\n",
       "      <td>0.005963</td>\n",
       "      <td>0.000000e+00</td>\n",
       "      <td>0.026975</td>\n",
       "    </tr>\n",
       "    <tr>\n",
       "      <th>RecipRank</th>\n",
       "      <td>0.030003</td>\n",
       "      <td>0.000000e+00</td>\n",
       "      <td>0.074754</td>\n",
       "    </tr>\n",
       "    <tr>\n",
       "      <th rowspan=\"3\" valign=\"top\">IALS</th>\n",
       "      <th>NDCG</th>\n",
       "      <td>0.261206</td>\n",
       "      <td>2.156461e-01</td>\n",
       "      <td>0.192820</td>\n",
       "    </tr>\n",
       "    <tr>\n",
       "      <th>RBP</th>\n",
       "      <td>0.121352</td>\n",
       "      <td>1.960754e-03</td>\n",
       "      <td>0.209886</td>\n",
       "    </tr>\n",
       "    <tr>\n",
       "      <th>RecipRank</th>\n",
       "      <td>0.264268</td>\n",
       "      <td>1.111111e-01</td>\n",
       "      <td>0.327228</td>\n",
       "    </tr>\n",
       "    <tr>\n",
       "      <th rowspan=\"3\" valign=\"top\">IIE</th>\n",
       "      <th>NDCG</th>\n",
       "      <td>0.001013</td>\n",
       "      <td>0.000000e+00</td>\n",
       "      <td>0.008815</td>\n",
       "    </tr>\n",
       "    <tr>\n",
       "      <th>RBP</th>\n",
       "      <td>0.000018</td>\n",
       "      <td>0.000000e+00</td>\n",
       "      <td>0.001561</td>\n",
       "    </tr>\n",
       "    <tr>\n",
       "      <th>RecipRank</th>\n",
       "      <td>0.000427</td>\n",
       "      <td>0.000000e+00</td>\n",
       "      <td>0.005590</td>\n",
       "    </tr>\n",
       "    <tr>\n",
       "      <th rowspan=\"3\" valign=\"top\">III</th>\n",
       "      <th>NDCG</th>\n",
       "      <td>0.225891</td>\n",
       "      <td>1.628403e-01</td>\n",
       "      <td>0.205905</td>\n",
       "    </tr>\n",
       "    <tr>\n",
       "      <th>RBP</th>\n",
       "      <td>0.149103</td>\n",
       "      <td>9.765923e-04</td>\n",
       "      <td>0.236066</td>\n",
       "    </tr>\n",
       "    <tr>\n",
       "      <th>RecipRank</th>\n",
       "      <td>0.298439</td>\n",
       "      <td>1.000000e-01</td>\n",
       "      <td>0.372859</td>\n",
       "    </tr>\n",
       "    <tr>\n",
       "      <th rowspan=\"3\" valign=\"top\">Pop</th>\n",
       "      <th>NDCG</th>\n",
       "      <td>0.131249</td>\n",
       "      <td>8.935088e-02</td>\n",
       "      <td>0.141809</td>\n",
       "    </tr>\n",
       "    <tr>\n",
       "      <th>RBP</th>\n",
       "      <td>0.064678</td>\n",
       "      <td>1.490116e-08</td>\n",
       "      <td>0.153589</td>\n",
       "    </tr>\n",
       "    <tr>\n",
       "      <th>RecipRank</th>\n",
       "      <td>0.158989</td>\n",
       "      <td>3.846154e-02</td>\n",
       "      <td>0.274466</td>\n",
       "    </tr>\n",
       "  </tbody>\n",
       "</table>\n",
       "</div>"
      ],
      "text/plain": [
       "                     mean        median       std\n",
       "model                                            \n",
       "ALS   NDCG       0.020004  0.000000e+00  0.047940\n",
       "      RBP        0.003453  0.000000e+00  0.031464\n",
       "      RecipRank  0.017160  0.000000e+00  0.070802\n",
       "Bias  NDCG       0.035069  0.000000e+00  0.058922\n",
       "      RBP        0.005963  0.000000e+00  0.026975\n",
       "      RecipRank  0.030003  0.000000e+00  0.074754\n",
       "IALS  NDCG       0.261206  2.156461e-01  0.192820\n",
       "      RBP        0.121352  1.960754e-03  0.209886\n",
       "      RecipRank  0.264268  1.111111e-01  0.327228\n",
       "IIE   NDCG       0.001013  0.000000e+00  0.008815\n",
       "      RBP        0.000018  0.000000e+00  0.001561\n",
       "      RecipRank  0.000427  0.000000e+00  0.005590\n",
       "III   NDCG       0.225891  1.628403e-01  0.205905\n",
       "      RBP        0.149103  9.765923e-04  0.236066\n",
       "      RecipRank  0.298439  1.000000e-01  0.372859\n",
       "Pop   NDCG       0.131249  8.935088e-02  0.141809\n",
       "      RBP        0.064678  1.490116e-08  0.153589\n",
       "      RecipRank  0.158989  3.846154e-02  0.274466"
      ]
     },
     "execution_count": 13,
     "metadata": {},
     "output_type": "execute_result"
    }
   ],
   "source": [
    "ra = RunAnalysis()\n",
    "\n",
    "ra.add_metric(NDCG())\n",
    "ra.add_metric(RecipRank())\n",
    "ra.add_metric(RBP())\n",
    "\n",
    "rec_results = ra.compute(recs, test)\n",
    "rec_results.list_summary('model')"
   ]
  },
  {
   "cell_type": "markdown",
   "id": "8cba4e78",
   "metadata": {
    "papermill": {
     "duration": 0.001427,
     "end_time": "2024-12-15T18:00:13.162801",
     "exception": false,
     "start_time": "2024-12-15T18:00:13.161374",
     "status": "completed"
    },
    "tags": []
   },
   "source": [
    "We can reshape the list metrics and plot them:"
   ]
  },
  {
   "cell_type": "code",
   "execution_count": 14,
   "id": "238604c3",
   "metadata": {
    "execution": {
     "iopub.execute_input": "2024-12-15T18:00:13.166110Z",
     "iopub.status.busy": "2024-12-15T18:00:13.166017Z",
     "iopub.status.idle": "2024-12-15T18:00:23.533429Z",
     "shell.execute_reply": "2024-12-15T18:00:23.533073Z"
    },
    "papermill": {
     "duration": 10.369704,
     "end_time": "2024-12-15T18:00:23.533977",
     "exception": false,
     "start_time": "2024-12-15T18:00:13.164273",
     "status": "completed"
    },
    "tags": []
   },
   "outputs": [
    {
     "data": {
      "image/png": "[encoded data removed]",
      "text/plain": [
       "<Figure size 1511.11x500 with 3 Axes>"
      ]
     },
     "metadata": {},
     "output_type": "display_data"
    }
   ],
   "source": [
    "metrics = rec_results.list_metrics()\n",
    "metrics = metrics.melt(var_name='metric', ignore_index=False).reset_index()\n",
    "sns.catplot(metrics, x='model', y='value', col='metric', kind='bar')\n",
    "plt.show()"
   ]
  },
  {
   "cell_type": "markdown",
   "id": "d6f202d4",
   "metadata": {
    "papermill": {
     "duration": 0.00884,
     "end_time": "2024-12-15T18:00:23.544602",
     "exception": false,
     "start_time": "2024-12-15T18:00:23.535762",
     "status": "completed"
    },
    "tags": []
   },
   "source": [
    "## Prediction RMSE\n",
    "\n",
    "We will also look at the prediction RMSE."
   ]
  },
  {
   "cell_type": "code",
   "execution_count": 15,
   "id": "c78c5ff6",
   "metadata": {
    "execution": {
     "iopub.execute_input": "2024-12-15T18:00:23.548123Z",
     "iopub.status.busy": "2024-12-15T18:00:23.547916Z",
     "iopub.status.idle": "2024-12-15T18:01:32.749579Z",
     "shell.execute_reply": "2024-12-15T18:01:32.749368Z"
    },
    "papermill": {
     "duration": 69.205422,
     "end_time": "2024-12-15T18:01:32.751570",
     "exception": false,
     "start_time": "2024-12-15T18:00:23.546148",
     "status": "completed"
    },
    "tags": []
   },
   "outputs": [
    {
     "name": "stderr",
     "output_type": "stream",
     "text": [
      "/home/mde48/lenskit/lkpy/lenskit/lenskit/metrics/bulk.py:121: FutureWarning: The previous implementation of stack is deprecated and will be removed in a future version of pandas. See the What's New notes for pandas 2.1.0 for details. Specify future_stack=True to adopt the new implementation and silence this warning.\n",
      "  df = scores.groupby(list(keys)).agg([\"mean\", \"median\", \"std\"]).stack(level=0)\n"
     ]
    },
    {
     "data": {
      "text/html": [
       "<div>\n",
       "<style scoped>\n",
       "    .dataframe tbody tr th:only-of-type {\n",
       "        vertical-align: middle;\n",
       "    }\n",
       "\n",
       "    .dataframe tbody tr th {\n",
       "        vertical-align: top;\n",
       "    }\n",
       "\n",
       "    .dataframe thead th {\n",
       "        text-align: right;\n",
       "    }\n",
       "</style>\n",
       "<table border=\"1\" class=\"dataframe\">\n",
       "  <thead>\n",
       "    <tr style=\"text-align: right;\">\n",
       "      <th></th>\n",
       "      <th></th>\n",
       "      <th>mean</th>\n",
       "      <th>median</th>\n",
       "      <th>std</th>\n",
       "    </tr>\n",
       "    <tr>\n",
       "      <th>model</th>\n",
       "      <th></th>\n",
       "      <th></th>\n",
       "      <th></th>\n",
       "      <th></th>\n",
       "    </tr>\n",
       "  </thead>\n",
       "  <tbody>\n",
       "    <tr>\n",
       "      <th>ALS</th>\n",
       "      <th>RMSE</th>\n",
       "      <td>0.770816</td>\n",
       "      <td>0.707655</td>\n",
       "      <td>0.353444</td>\n",
       "    </tr>\n",
       "    <tr>\n",
       "      <th>Bias</th>\n",
       "      <th>RMSE</th>\n",
       "      <td>0.817549</td>\n",
       "      <td>0.752898</td>\n",
       "      <td>0.370980</td>\n",
       "    </tr>\n",
       "    <tr>\n",
       "      <th>IIE</th>\n",
       "      <th>RMSE</th>\n",
       "      <td>0.755559</td>\n",
       "      <td>0.693235</td>\n",
       "      <td>0.353544</td>\n",
       "    </tr>\n",
       "  </tbody>\n",
       "</table>\n",
       "</div>"
      ],
      "text/plain": [
       "                mean    median       std\n",
       "model                                   \n",
       "ALS   RMSE  0.770816  0.707655  0.353444\n",
       "Bias  RMSE  0.817549  0.752898  0.370980\n",
       "IIE   RMSE  0.755559  0.693235  0.353544"
      ]
     },
     "execution_count": 15,
     "metadata": {},
     "output_type": "execute_result"
    }
   ],
   "source": [
    "pa = RunAnalysis()\n",
    "\n",
    "pa.add_metric(RMSE(missing_scores='ignore', missing_truth='ignore'))\n",
    "\n",
    "pred_results = pa.compute(preds, test)\n",
    "pred_results.list_summary('model')"
   ]
  },
  {
   "cell_type": "code",
   "execution_count": 16,
   "id": "929287d6",
   "metadata": {
    "execution": {
     "iopub.execute_input": "2024-12-15T18:01:32.755269Z",
     "iopub.status.busy": "2024-12-15T18:01:32.755127Z",
     "iopub.status.idle": "2024-12-15T18:01:34.410047Z",
     "shell.execute_reply": "2024-12-15T18:01:34.409657Z"
    },
    "papermill": {
     "duration": 1.657502,
     "end_time": "2024-12-15T18:01:34.410712",
     "exception": false,
     "start_time": "2024-12-15T18:01:32.753210",
     "status": "completed"
    },
    "tags": []
   },
   "outputs": [
    {
     "data": {
      "image/png": "[encoded data removed]",
      "text/plain": [
       "<Figure size 511.111x500 with 1 Axes>"
      ]
     },
     "metadata": {},
     "output_type": "display_data"
    }
   ],
   "source": [
    "sns.catplot(pred_results.list_metrics().reset_index(), x='model', y='RMSE', kind='bar')\n",
    "plt.show()"
   ]
  },
  {
   "cell_type": "markdown",
   "id": "0caac7ca",
   "metadata": {
    "papermill": {
     "duration": 0.009237,
     "end_time": "2024-12-15T18:01:34.421757",
     "exception": false,
     "start_time": "2024-12-15T18:01:34.412520",
     "status": "completed"
    },
    "tags": []
   },
   "source": [
    "## Save Metrics\n",
    "\n",
    "We'll now save the metrics to a file."
   ]
  },
  {
   "cell_type": "code",
   "execution_count": 17,
   "id": "4e43b021",
   "metadata": {
    "execution": {
     "iopub.execute_input": "2024-12-15T18:01:34.425460Z",
     "iopub.status.busy": "2024-12-15T18:01:34.425364Z",
     "iopub.status.idle": "2024-12-15T18:01:34.500487Z",
     "shell.execute_reply": "2024-12-15T18:01:34.500279Z"
    },
    "papermill": {
     "duration": 0.077617,
     "end_time": "2024-12-15T18:01:34.500917",
     "exception": false,
     "start_time": "2024-12-15T18:01:34.423300",
     "status": "completed"
    },
    "tags": []
   },
   "outputs": [
    {
     "name": "stderr",
     "output_type": "stream",
     "text": [
      "/home/mde48/lenskit/lkpy/lenskit/lenskit/metrics/bulk.py:121: FutureWarning: The previous implementation of stack is deprecated and will be removed in a future version of pandas. See the What's New notes for pandas 2.1.0 for details. Specify future_stack=True to adopt the new implementation and silence this warning.\n",
      "  df = scores.groupby(list(keys)).agg([\"mean\", \"median\", \"std\"]).stack(level=0)\n"
     ]
    },
    {
     "data": {
      "text/html": [
       "<div>\n",
       "<style scoped>\n",
       "    .dataframe tbody tr th:only-of-type {\n",
       "        vertical-align: middle;\n",
       "    }\n",
       "\n",
       "    .dataframe tbody tr th {\n",
       "        vertical-align: top;\n",
       "    }\n",
       "\n",
       "    .dataframe thead th {\n",
       "        text-align: right;\n",
       "    }\n",
       "</style>\n",
       "<table border=\"1\" class=\"dataframe\">\n",
       "  <thead>\n",
       "    <tr style=\"text-align: right;\">\n",
       "      <th></th>\n",
       "      <th>NDCG</th>\n",
       "      <th>RBP</th>\n",
       "      <th>RecipRank</th>\n",
       "    </tr>\n",
       "    <tr>\n",
       "      <th>model</th>\n",
       "      <th></th>\n",
       "      <th></th>\n",
       "      <th></th>\n",
       "    </tr>\n",
       "  </thead>\n",
       "  <tbody>\n",
       "    <tr>\n",
       "      <th>ALS</th>\n",
       "      <td>0.020004</td>\n",
       "      <td>0.003453</td>\n",
       "      <td>0.017160</td>\n",
       "    </tr>\n",
       "    <tr>\n",
       "      <th>Bias</th>\n",
       "      <td>0.035069</td>\n",
       "      <td>0.005963</td>\n",
       "      <td>0.030003</td>\n",
       "    </tr>\n",
       "    <tr>\n",
       "      <th>IALS</th>\n",
       "      <td>0.261206</td>\n",
       "      <td>0.121352</td>\n",
       "      <td>0.264268</td>\n",
       "    </tr>\n",
       "    <tr>\n",
       "      <th>IIE</th>\n",
       "      <td>0.001013</td>\n",
       "      <td>0.000018</td>\n",
       "      <td>0.000427</td>\n",
       "    </tr>\n",
       "    <tr>\n",
       "      <th>III</th>\n",
       "      <td>0.225891</td>\n",
       "      <td>0.149103</td>\n",
       "      <td>0.298439</td>\n",
       "    </tr>\n",
       "    <tr>\n",
       "      <th>Pop</th>\n",
       "      <td>0.131249</td>\n",
       "      <td>0.064678</td>\n",
       "      <td>0.158989</td>\n",
       "    </tr>\n",
       "  </tbody>\n",
       "</table>\n",
       "</div>"
      ],
      "text/plain": [
       "           NDCG       RBP  RecipRank\n",
       "model                               \n",
       "ALS    0.020004  0.003453   0.017160\n",
       "Bias   0.035069  0.005963   0.030003\n",
       "IALS   0.261206  0.121352   0.264268\n",
       "IIE    0.001013  0.000018   0.000427\n",
       "III    0.225891  0.149103   0.298439\n",
       "Pop    0.131249  0.064678   0.158989"
      ]
     },
     "execution_count": 17,
     "metadata": {},
     "output_type": "execute_result"
    }
   ],
   "source": [
    "rlsum = rec_results.list_summary('model')['mean'].unstack()\n",
    "rlsum"
   ]
  },
  {
   "cell_type": "code",
   "execution_count": 18,
   "id": "cae53f67",
   "metadata": {
    "execution": {
     "iopub.execute_input": "2024-12-15T18:01:34.504923Z",
     "iopub.status.busy": "2024-12-15T18:01:34.504824Z",
     "iopub.status.idle": "2024-12-15T18:01:34.507667Z",
     "shell.execute_reply": "2024-12-15T18:01:34.507367Z"
    },
    "papermill": {
     "duration": 0.005575,
     "end_time": "2024-12-15T18:01:34.508236",
     "exception": false,
     "start_time": "2024-12-15T18:01:34.502661",
     "status": "completed"
    },
    "tags": []
   },
   "outputs": [],
   "source": [
    "rlsum.to_json(f'eval-metrics.{dataset}.json', orient='index')"
   ]
  }
 ],
 "metadata": {
  "jupytext": {
   "formats": "ipynb,md",
   "notebook_metadata_filter": "split_at_heading"
  },
  "kernelspec": {
   "display_name": "Python 3 (ipykernel)",
   "language": "python",
   "name": "python3"
  },
  "language_info": {
   "codemirror_mode": {
    "name": "ipython",
    "version": 3
   },
   "file_extension": ".py",
   "mimetype": "text/x-python",
   "name": "python",
   "nbconvert_exporter": "python",
   "pygments_lexer": "ipython3",
   "version": "3.12.8"
  },
  "papermill": {
   "default_parameters": {},
   "duration": 182.648426,
   "end_time": "2024-12-15T18:01:37.225341",
   "environment_variables": {},
   "exception": null,
   "input_path": "eval-report.ipynb",
   "output_path": "eval-report.ml25m.ipynb",
   "parameters": {
    "dataset": "ml25m"
   },
   "start_time": "2024-12-15T17:58:34.576915",
   "version": "2.6.0"
  },
  "split_at_heading": true
 },
 "nbformat": 4,
 "nbformat_minor": 5
}