{
 "cells": [
  {
   "cell_type": "markdown",
   "id": "381bef4a",
   "metadata": {
    "papermill": {
     "duration": 0.010811,
     "end_time": "2024-12-09T22:18:04.889637",
     "exception": false,
     "start_time": "2024-12-09T22:18:04.878826",
     "status": "completed"
    },
    "tags": []
   },
   "source": [
    "# Evaluation Analysis for Recommender Output"
   ]
  },
  {
   "cell_type": "markdown",
   "id": "664c72ab",
   "metadata": {
    "papermill": {
     "duration": 0.001189,
     "end_time": "2024-12-09T22:18:04.892233",
     "exception": false,
     "start_time": "2024-12-09T22:18:04.891044",
     "status": "completed"
    },
    "tags": []
   },
   "source": [
    "In this section we will analyze and compare the generated recommendations and predictions from a predefined list of algorithms with the goal of assessing the performance of each algorithm with respect to a metric. In other words, we would rank the algorithms for each metric considered with respect to performance."
   ]
  },
  {
   "cell_type": "markdown",
   "id": "81fcb0af",
   "metadata": {
    "papermill": {
     "duration": 0.001131,
     "end_time": "2024-12-09T22:18:04.894523",
     "exception": false,
     "start_time": "2024-12-09T22:18:04.893392",
     "status": "completed"
    },
    "tags": []
   },
   "source": [
    "## Setup"
   ]
  },
  {
   "cell_type": "markdown",
   "id": "933a60f9",
   "metadata": {
    "papermill": {
     "duration": 0.0011,
     "end_time": "2024-12-09T22:18:04.896767",
     "exception": false,
     "start_time": "2024-12-09T22:18:04.895667",
     "status": "completed"
    },
    "tags": []
   },
   "source": [
    "Below are the list of packages required to successfully run the analysis. They are divided into partitions to signify their specific task.<br>\n",
    "We need the pathlib package for working with files and folders"
   ]
  },
  {
   "cell_type": "code",
   "execution_count": 1,
   "id": "9488a624",
   "metadata": {
    "execution": {
     "iopub.execute_input": "2024-12-09T22:18:04.899569Z",
     "iopub.status.busy": "2024-12-09T22:18:04.899463Z",
     "iopub.status.idle": "2024-12-09T22:18:04.901721Z",
     "shell.execute_reply": "2024-12-09T22:18:04.901466Z"
    },
    "papermill": {
     "duration": 0.004291,
     "end_time": "2024-12-09T22:18:04.902161",
     "exception": false,
     "start_time": "2024-12-09T22:18:04.897870",
     "status": "completed"
    },
    "tags": []
   },
   "outputs": [],
   "source": [
    "from pathlib import Path\n",
    "import json"
   ]
  },
  {
   "cell_type": "markdown",
   "id": "99e5fc5d",
   "metadata": {
    "papermill": {
     "duration": 0.001148,
     "end_time": "2024-12-09T22:18:04.904488",
     "exception": false,
     "start_time": "2024-12-09T22:18:04.903340",
     "status": "completed"
    },
    "tags": []
   },
   "source": [
    "We would use the pandas for analyzing and manipulating our data while seaborn and matplotlib are used for data visualization. statsmodels.graphics.gofplots and scipy.stats.shapiro are used for normality check. Scipy.stats.friedmanchisquare is a non-parametric test used to determine the statistical significance in metric results and the wilcoxon test is used for pairwise comparison of sample data."
   ]
  },
  {
   "cell_type": "code",
   "execution_count": 2,
   "id": "5443464f",
   "metadata": {
    "execution": {
     "iopub.execute_input": "2024-12-09T22:18:04.907091Z",
     "iopub.status.busy": "2024-12-09T22:18:04.907023Z",
     "iopub.status.idle": "2024-12-09T22:18:05.306043Z",
     "shell.execute_reply": "2024-12-09T22:18:05.305548Z"
    },
    "lines_to_next_cell": 2,
    "papermill": {
     "duration": 0.401362,
     "end_time": "2024-12-09T22:18:05.306992",
     "exception": false,
     "start_time": "2024-12-09T22:18:04.905630",
     "status": "completed"
    },
    "tags": []
   },
   "outputs": [],
   "source": [
    "import pandas as pd\n",
    "import seaborn as sns\n",
    "import matplotlib.pyplot as plt\n",
    "from statsmodels.graphics.gofplots import qqplot\n",
    "from scipy.stats import shapiro\n",
    "from scipy.stats import friedmanchisquare, wilcoxon\n",
    "from itertools import combinations"
   ]
  },
  {
   "cell_type": "markdown",
   "id": "17a97495",
   "metadata": {
    "papermill": {
     "duration": 0.008841,
     "end_time": "2024-12-09T22:18:05.317243",
     "exception": false,
     "start_time": "2024-12-09T22:18:05.308402",
     "status": "completed"
    },
    "tags": []
   },
   "source": [
    "Import the LensKit metrics for analysis:"
   ]
  },
  {
   "cell_type": "code",
   "execution_count": 3,
   "id": "64672a8e",
   "metadata": {
    "execution": {
     "iopub.execute_input": "2024-12-09T22:18:05.320507Z",
     "iopub.status.busy": "2024-12-09T22:18:05.320372Z",
     "iopub.status.idle": "2024-12-09T22:18:05.981238Z",
     "shell.execute_reply": "2024-12-09T22:18:05.980831Z"
    },
    "papermill": {
     "duration": 0.663295,
     "end_time": "2024-12-09T22:18:05.981916",
     "exception": false,
     "start_time": "2024-12-09T22:18:05.318621",
     "status": "completed"
    },
    "tags": []
   },
   "outputs": [],
   "source": [
    "from lenskit.data import ItemListCollection, UserIDKey\n",
    "from lenskit.metrics import RunAnalysis, RMSE, NDCG, RecipRank, RBP"
   ]
  },
  {
   "cell_type": "markdown",
   "id": "63508ad7",
   "metadata": {
    "papermill": {
     "duration": 0.00132,
     "end_time": "2024-12-09T22:18:05.985364",
     "exception": false,
     "start_time": "2024-12-09T22:18:05.984044",
     "status": "completed"
    },
    "tags": []
   },
   "source": [
    "## Load Data\n",
    "\n",
    "The recommendations are in `runs`, and we will need to reassemble the test data from `test`."
   ]
  },
  {
   "cell_type": "code",
   "execution_count": 4,
   "id": "2d81312f",
   "metadata": {
    "execution": {
     "iopub.execute_input": "2024-12-09T22:18:05.988316Z",
     "iopub.status.busy": "2024-12-09T22:18:05.988190Z",
     "iopub.status.idle": "2024-12-09T22:18:05.990092Z",
     "shell.execute_reply": "2024-12-09T22:18:05.989871Z"
    },
    "papermill": {
     "duration": 0.003841,
     "end_time": "2024-12-09T22:18:05.990441",
     "exception": false,
     "start_time": "2024-12-09T22:18:05.986600",
     "status": "completed"
    },
    "tags": [
     "parameters"
    ]
   },
   "outputs": [],
   "source": [
    "dataset = \"ml100k\""
   ]
  },
  {
   "cell_type": "code",
   "execution_count": 5,
   "id": "d09ee1cd",
   "metadata": {
    "execution": {
     "iopub.execute_input": "2024-12-09T22:18:05.993095Z",
     "iopub.status.busy": "2024-12-09T22:18:05.993025Z",
     "iopub.status.idle": "2024-12-09T22:18:05.994422Z",
     "shell.execute_reply": "2024-12-09T22:18:05.994213Z"
    },
    "papermill": {
     "duration": 0.003201,
     "end_time": "2024-12-09T22:18:05.994805",
     "exception": false,
     "start_time": "2024-12-09T22:18:05.991604",
     "status": "completed"
    },
    "tags": [
     "injected-parameters"
    ]
   },
   "outputs": [],
   "source": [
    "# Parameters\n",
    "dataset = \"ml25m\"\n"
   ]
  },
  {
   "cell_type": "code",
   "execution_count": 6,
   "id": "3ec95294",
   "metadata": {
    "execution": {
     "iopub.execute_input": "2024-12-09T22:18:05.997445Z",
     "iopub.status.busy": "2024-12-09T22:18:05.997367Z",
     "iopub.status.idle": "2024-12-09T22:18:05.998840Z",
     "shell.execute_reply": "2024-12-09T22:18:05.998625Z"
    },
    "papermill": {
     "duration": 0.003233,
     "end_time": "2024-12-09T22:18:05.999241",
     "exception": false,
     "start_time": "2024-12-09T22:18:05.996008",
     "status": "completed"
    },
    "tags": []
   },
   "outputs": [],
   "source": [
    "output_root = Path(\"runs\")"
   ]
  },
  {
   "cell_type": "code",
   "execution_count": 7,
   "id": "2fdbd191",
   "metadata": {
    "execution": {
     "iopub.execute_input": "2024-12-09T22:18:06.003128Z",
     "iopub.status.busy": "2024-12-09T22:18:06.003061Z",
     "iopub.status.idle": "2024-12-09T22:18:06.004688Z",
     "shell.execute_reply": "2024-12-09T22:18:06.004466Z"
    },
    "papermill": {
     "duration": 0.004666,
     "end_time": "2024-12-09T22:18:06.005095",
     "exception": false,
     "start_time": "2024-12-09T22:18:06.000429",
     "status": "completed"
    },
    "tags": []
   },
   "outputs": [],
   "source": [
    "dirs = [fld for fld in output_root.glob(f'{dataset}-*')]"
   ]
  },
  {
   "cell_type": "code",
   "execution_count": 8,
   "id": "57c58091",
   "metadata": {
    "execution": {
     "iopub.execute_input": "2024-12-09T22:18:06.009232Z",
     "iopub.status.busy": "2024-12-09T22:18:06.009159Z",
     "iopub.status.idle": "2024-12-09T22:20:48.413212Z",
     "shell.execute_reply": "2024-12-09T22:20:48.412614Z"
    },
    "papermill": {
     "duration": 162.406998,
     "end_time": "2024-12-09T22:20:48.414011",
     "exception": false,
     "start_time": "2024-12-09T22:18:06.007013",
     "status": "completed"
    },
    "tags": []
   },
   "outputs": [],
   "source": [
    "recs = ItemListCollection(['model', 'user_id'], index=False)\n",
    "for fld in dirs:\n",
    "    for file in fld.glob(\"recs-*\"):\n",
    "        rec = pd.read_parquet(file)\n",
    "        rec = ItemListCollection.from_df(rec, UserIDKey)\n",
    "        recs.add_from(rec, model=fld.name.split(\"-\")[1])"
   ]
  },
  {
   "cell_type": "code",
   "execution_count": 9,
   "id": "effd04de",
   "metadata": {
    "execution": {
     "iopub.execute_input": "2024-12-09T22:20:48.425458Z",
     "iopub.status.busy": "2024-12-09T22:20:48.425337Z",
     "iopub.status.idle": "2024-12-09T22:20:48.472081Z",
     "shell.execute_reply": "2024-12-09T22:20:48.471774Z"
    },
    "papermill": {
     "duration": 0.057079,
     "end_time": "2024-12-09T22:20:48.472589",
     "exception": false,
     "start_time": "2024-12-09T22:20:48.415510",
     "status": "completed"
    },
    "tags": []
   },
   "outputs": [
    {
     "data": {
      "text/plain": [
       "['ALS', 'Bias', 'IALS', 'IIE', 'III', 'Pop']"
      ]
     },
     "execution_count": 9,
     "metadata": {},
     "output_type": "execute_result"
    }
   ],
   "source": [
    "rec_algos = sorted(set(a for (a, _u) in recs.keys()))\n",
    "rec_algos"
   ]
  },
  {
   "cell_type": "code",
   "execution_count": 10,
   "id": "4593fe69",
   "metadata": {
    "execution": {
     "iopub.execute_input": "2024-12-09T22:20:48.476151Z",
     "iopub.status.busy": "2024-12-09T22:20:48.476057Z",
     "iopub.status.idle": "2024-12-09T22:21:57.016400Z",
     "shell.execute_reply": "2024-12-09T22:21:57.016171Z"
    },
    "papermill": {
     "duration": 68.54303,
     "end_time": "2024-12-09T22:21:57.017142",
     "exception": false,
     "start_time": "2024-12-09T22:20:48.474112",
     "status": "completed"
    },
    "tags": []
   },
   "outputs": [],
   "source": [
    "preds = ItemListCollection(['model', 'user_id'], index=False)\n",
    "for fld in dirs:\n",
    "    for file in fld.glob(\"pred-*\"):\n",
    "        pred = pd.read_parquet(file)\n",
    "        pred = ItemListCollection.from_df(pred, UserIDKey)\n",
    "        preds.add_from(pred, model=fld.name.split(\"-\")[1])"
   ]
  },
  {
   "cell_type": "markdown",
   "id": "5f88f622",
   "metadata": {
    "papermill": {
     "duration": 0.018205,
     "end_time": "2024-12-09T22:21:57.036957",
     "exception": false,
     "start_time": "2024-12-09T22:21:57.018752",
     "status": "completed"
    },
    "tags": []
   },
   "source": [
    "We need to load the test data so that we have the ground truths for computing accuracy"
   ]
  },
  {
   "cell_type": "code",
   "execution_count": 11,
   "id": "bf88dbf4",
   "metadata": {
    "execution": {
     "iopub.execute_input": "2024-12-09T22:21:57.040509Z",
     "iopub.status.busy": "2024-12-09T22:21:57.040399Z",
     "iopub.status.idle": "2024-12-09T22:21:57.042143Z",
     "shell.execute_reply": "2024-12-09T22:21:57.041972Z"
    },
    "papermill": {
     "duration": 0.004082,
     "end_time": "2024-12-09T22:21:57.042503",
     "exception": false,
     "start_time": "2024-12-09T22:21:57.038421",
     "status": "completed"
    },
    "tags": []
   },
   "outputs": [],
   "source": [
    "split_root = Path(\"data-split\")\n",
    "split_dir = split_root / dataset"
   ]
  },
  {
   "cell_type": "code",
   "execution_count": 12,
   "id": "bbd3075e",
   "metadata": {
    "execution": {
     "iopub.execute_input": "2024-12-09T22:21:57.045569Z",
     "iopub.status.busy": "2024-12-09T22:21:57.045497Z",
     "iopub.status.idle": "2024-12-09T22:22:19.335000Z",
     "shell.execute_reply": "2024-12-09T22:22:19.334783Z"
    },
    "papermill": {
     "duration": 22.291875,
     "end_time": "2024-12-09T22:22:19.335767",
     "exception": false,
     "start_time": "2024-12-09T22:21:57.043892",
     "status": "completed"
    },
    "tags": []
   },
   "outputs": [],
   "source": [
    "test = ItemListCollection(UserIDKey)\n",
    "for file in split_dir.glob(\"test-*.parquet\"):\n",
    "    df = pd.read_parquet(file)\n",
    "    test.add_from(ItemListCollection.from_df(df, UserIDKey))"
   ]
  },
  {
   "cell_type": "markdown",
   "id": "d1cc45f7",
   "metadata": {
    "papermill": {
     "duration": 0.008892,
     "end_time": "2024-12-09T22:22:19.346205",
     "exception": false,
     "start_time": "2024-12-09T22:22:19.337313",
     "status": "completed"
    },
    "tags": []
   },
   "source": [
    "## Top-N Metrics\n",
    "\n",
    "`RunListAnalysis` computes metrics for recommendation results and takes care of\n",
    "matching recommendations and ground truth."
   ]
  },
  {
   "cell_type": "code",
   "execution_count": 13,
   "id": "5cc74039",
   "metadata": {
    "execution": {
     "iopub.execute_input": "2024-12-09T22:22:19.349511Z",
     "iopub.status.busy": "2024-12-09T22:22:19.349418Z",
     "iopub.status.idle": "2024-12-09T22:23:22.901440Z",
     "shell.execute_reply": "2024-12-09T22:23:22.901221Z"
    },
    "papermill": {
     "duration": 63.555482,
     "end_time": "2024-12-09T22:23:22.903091",
     "exception": false,
     "start_time": "2024-12-09T22:22:19.347609",
     "status": "completed"
    },
    "tags": []
   },
   "outputs": [
    {
     "name": "stderr",
     "output_type": "stream",
     "text": [
      "/home/mde48/lenskit/lkpy/lenskit/lenskit/metrics/bulk.py:116: FutureWarning: The previous implementation of stack is deprecated and will be removed in a future version of pandas. See the What's New notes for pandas 2.1.0 for details. Specify future_stack=True to adopt the new implementation and silence this warning.\n",
      "  df = scores.groupby(list(keys)).agg([\"mean\", \"median\", \"std\"]).stack(level=0)\n"
     ]
    },
    {
     "data": {
      "text/html": [
       "<div>\n",
       "<style scoped>\n",
       "    .dataframe tbody tr th:only-of-type {\n",
       "        vertical-align: middle;\n",
       "    }\n",
       "\n",
       "    .dataframe tbody tr th {\n",
       "        vertical-align: top;\n",
       "    }\n",
       "\n",
       "    .dataframe thead th {\n",
       "        text-align: right;\n",
       "    }\n",
       "</style>\n",
       "<table border=\"1\" class=\"dataframe\">\n",
       "  <thead>\n",
       "    <tr style=\"text-align: right;\">\n",
       "      <th></th>\n",
       "      <th></th>\n",
       "      <th>mean</th>\n",
       "      <th>median</th>\n",
       "      <th>std</th>\n",
       "    </tr>\n",
       "    <tr>\n",
       "      <th>model</th>\n",
       "      <th></th>\n",
       "      <th></th>\n",
       "      <th></th>\n",
       "      <th></th>\n",
       "    </tr>\n",
       "  </thead>\n",
       "  <tbody>\n",
       "    <tr>\n",
       "      <th rowspan=\"3\" valign=\"top\">ALS</th>\n",
       "      <th>NDCG</th>\n",
       "      <td>0.019996</td>\n",
       "      <td>0.000000e+00</td>\n",
       "      <td>0.047941</td>\n",
       "    </tr>\n",
       "    <tr>\n",
       "      <th>RBP</th>\n",
       "      <td>0.003447</td>\n",
       "      <td>0.000000e+00</td>\n",
       "      <td>0.031454</td>\n",
       "    </tr>\n",
       "    <tr>\n",
       "      <th>RecipRank</th>\n",
       "      <td>0.017163</td>\n",
       "      <td>0.000000e+00</td>\n",
       "      <td>0.070673</td>\n",
       "    </tr>\n",
       "    <tr>\n",
       "      <th rowspan=\"3\" valign=\"top\">Bias</th>\n",
       "      <th>NDCG</th>\n",
       "      <td>0.035069</td>\n",
       "      <td>0.000000e+00</td>\n",
       "      <td>0.058922</td>\n",
       "    </tr>\n",
       "    <tr>\n",
       "      <th>RBP</th>\n",
       "      <td>0.005963</td>\n",
       "      <td>0.000000e+00</td>\n",
       "      <td>0.026975</td>\n",
       "    </tr>\n",
       "    <tr>\n",
       "      <th>RecipRank</th>\n",
       "      <td>0.030003</td>\n",
       "      <td>0.000000e+00</td>\n",
       "      <td>0.074754</td>\n",
       "    </tr>\n",
       "    <tr>\n",
       "      <th rowspan=\"3\" valign=\"top\">IALS</th>\n",
       "      <th>NDCG</th>\n",
       "      <td>0.261046</td>\n",
       "      <td>2.153252e-01</td>\n",
       "      <td>0.192740</td>\n",
       "    </tr>\n",
       "    <tr>\n",
       "      <th>RBP</th>\n",
       "      <td>0.121172</td>\n",
       "      <td>1.956947e-03</td>\n",
       "      <td>0.209585</td>\n",
       "    </tr>\n",
       "    <tr>\n",
       "      <th>RecipRank</th>\n",
       "      <td>0.264014</td>\n",
       "      <td>1.111111e-01</td>\n",
       "      <td>0.326964</td>\n",
       "    </tr>\n",
       "    <tr>\n",
       "      <th rowspan=\"3\" valign=\"top\">IIE</th>\n",
       "      <th>NDCG</th>\n",
       "      <td>0.001013</td>\n",
       "      <td>0.000000e+00</td>\n",
       "      <td>0.008815</td>\n",
       "    </tr>\n",
       "    <tr>\n",
       "      <th>RBP</th>\n",
       "      <td>0.000018</td>\n",
       "      <td>0.000000e+00</td>\n",
       "      <td>0.001561</td>\n",
       "    </tr>\n",
       "    <tr>\n",
       "      <th>RecipRank</th>\n",
       "      <td>0.000427</td>\n",
       "      <td>0.000000e+00</td>\n",
       "      <td>0.005590</td>\n",
       "    </tr>\n",
       "    <tr>\n",
       "      <th rowspan=\"3\" valign=\"top\">III</th>\n",
       "      <th>NDCG</th>\n",
       "      <td>0.225891</td>\n",
       "      <td>1.628403e-01</td>\n",
       "      <td>0.205905</td>\n",
       "    </tr>\n",
       "    <tr>\n",
       "      <th>RBP</th>\n",
       "      <td>0.149103</td>\n",
       "      <td>9.765923e-04</td>\n",
       "      <td>0.236066</td>\n",
       "    </tr>\n",
       "    <tr>\n",
       "      <th>RecipRank</th>\n",
       "      <td>0.298439</td>\n",
       "      <td>1.000000e-01</td>\n",
       "      <td>0.372859</td>\n",
       "    </tr>\n",
       "    <tr>\n",
       "      <th rowspan=\"3\" valign=\"top\">Pop</th>\n",
       "      <th>NDCG</th>\n",
       "      <td>0.131249</td>\n",
       "      <td>8.935088e-02</td>\n",
       "      <td>0.141809</td>\n",
       "    </tr>\n",
       "    <tr>\n",
       "      <th>RBP</th>\n",
       "      <td>0.064678</td>\n",
       "      <td>1.490116e-08</td>\n",
       "      <td>0.153589</td>\n",
       "    </tr>\n",
       "    <tr>\n",
       "      <th>RecipRank</th>\n",
       "      <td>0.158989</td>\n",
       "      <td>3.846154e-02</td>\n",
       "      <td>0.274466</td>\n",
       "    </tr>\n",
       "  </tbody>\n",
       "</table>\n",
       "</div>"
      ],
      "text/plain": [
       "                     mean        median       std\n",
       "model                                            \n",
       "ALS   NDCG       0.019996  0.000000e+00  0.047941\n",
       "      RBP        0.003447  0.000000e+00  0.031454\n",
       "      RecipRank  0.017163  0.000000e+00  0.070673\n",
       "Bias  NDCG       0.035069  0.000000e+00  0.058922\n",
       "      RBP        0.005963  0.000000e+00  0.026975\n",
       "      RecipRank  0.030003  0.000000e+00  0.074754\n",
       "IALS  NDCG       0.261046  2.153252e-01  0.192740\n",
       "      RBP        0.121172  1.956947e-03  0.209585\n",
       "      RecipRank  0.264014  1.111111e-01  0.326964\n",
       "IIE   NDCG       0.001013  0.000000e+00  0.008815\n",
       "      RBP        0.000018  0.000000e+00  0.001561\n",
       "      RecipRank  0.000427  0.000000e+00  0.005590\n",
       "III   NDCG       0.225891  1.628403e-01  0.205905\n",
       "      RBP        0.149103  9.765923e-04  0.236066\n",
       "      RecipRank  0.298439  1.000000e-01  0.372859\n",
       "Pop   NDCG       0.131249  8.935088e-02  0.141809\n",
       "      RBP        0.064678  1.490116e-08  0.153589\n",
       "      RecipRank  0.158989  3.846154e-02  0.274466"
      ]
     },
     "execution_count": 13,
     "metadata": {},
     "output_type": "execute_result"
    }
   ],
   "source": [
    "ra = RunAnalysis()\n",
    "\n",
    "ra.add_metric(NDCG())\n",
    "ra.add_metric(RecipRank())\n",
    "ra.add_metric(RBP())\n",
    "\n",
    "rec_results = ra.compute(recs, test)\n",
    "rec_results.list_summary('model')"
   ]
  },
  {
   "cell_type": "markdown",
   "id": "b17ba3e5",
   "metadata": {
    "papermill": {
     "duration": 0.001472,
     "end_time": "2024-12-09T22:23:22.913151",
     "exception": false,
     "start_time": "2024-12-09T22:23:22.911679",
     "status": "completed"
    },
    "tags": []
   },
   "source": [
    "We can reshape the list metrics and plot them:"
   ]
  },
  {
   "cell_type": "code",
   "execution_count": 14,
   "id": "5c479b59",
   "metadata": {
    "execution": {
     "iopub.execute_input": "2024-12-09T22:23:22.916496Z",
     "iopub.status.busy": "2024-12-09T22:23:22.916402Z",
     "iopub.status.idle": "2024-12-09T22:23:33.359770Z",
     "shell.execute_reply": "2024-12-09T22:23:33.359328Z"
    },
    "papermill": {
     "duration": 10.445669,
     "end_time": "2024-12-09T22:23:33.360291",
     "exception": false,
     "start_time": "2024-12-09T22:23:22.914622",
     "status": "completed"
    },
    "tags": []
   },
   "outputs": [
    {
     "data": {
      "image/png": "[encoded data removed]",
      "text/plain": [
       "<Figure size 1511.11x500 with 3 Axes>"
      ]
     },
     "metadata": {},
     "output_type": "display_data"
    }
   ],
   "source": [
    "metrics = rec_results.list_metrics()\n",
    "metrics = metrics.melt(var_name='metric', ignore_index=False).reset_index()\n",
    "sns.catplot(metrics, x='model', y='value', col='metric', kind='bar')\n",
    "plt.show()"
   ]
  },
  {
   "cell_type": "markdown",
   "id": "904ccd24",
   "metadata": {
    "papermill": {
     "duration": 0.018736,
     "end_time": "2024-12-09T22:23:33.380695",
     "exception": false,
     "start_time": "2024-12-09T22:23:33.361959",
     "status": "completed"
    },
    "tags": []
   },
   "source": [
    "## Prediction RMSE\n",
    "\n",
    "We will also look at the prediction RMSE."
   ]
  },
  {
   "cell_type": "code",
   "execution_count": 15,
   "id": "ca056d28",
   "metadata": {
    "execution": {
     "iopub.execute_input": "2024-12-09T22:23:33.384934Z",
     "iopub.status.busy": "2024-12-09T22:23:33.384850Z",
     "iopub.status.idle": "2024-12-09T22:26:17.326650Z",
     "shell.execute_reply": "2024-12-09T22:26:17.326314Z"
    },
    "papermill": {
     "duration": 163.947361,
     "end_time": "2024-12-09T22:26:17.330074",
     "exception": false,
     "start_time": "2024-12-09T22:23:33.382713",
     "status": "completed"
    },
    "tags": []
   },
   "outputs": [
    {
     "name": "stderr",
     "output_type": "stream",
     "text": [
      "/home/mde48/lenskit/lkpy/lenskit/lenskit/metrics/bulk.py:116: FutureWarning: The previous implementation of stack is deprecated and will be removed in a future version of pandas. See the What's New notes for pandas 2.1.0 for details. Specify future_stack=True to adopt the new implementation and silence this warning.\n",
      "  df = scores.groupby(list(keys)).agg([\"mean\", \"median\", \"std\"]).stack(level=0)\n"
     ]
    },
    {
     "data": {
      "text/html": [
       "<div>\n",
       "<style scoped>\n",
       "    .dataframe tbody tr th:only-of-type {\n",
       "        vertical-align: middle;\n",
       "    }\n",
       "\n",
       "    .dataframe tbody tr th {\n",
       "        vertical-align: top;\n",
       "    }\n",
       "\n",
       "    .dataframe thead th {\n",
       "        text-align: right;\n",
       "    }\n",
       "</style>\n",
       "<table border=\"1\" class=\"dataframe\">\n",
       "  <thead>\n",
       "    <tr style=\"text-align: right;\">\n",
       "      <th></th>\n",
       "      <th></th>\n",
       "      <th>mean</th>\n",
       "      <th>median</th>\n",
       "      <th>std</th>\n",
       "    </tr>\n",
       "    <tr>\n",
       "      <th>model</th>\n",
       "      <th></th>\n",
       "      <th></th>\n",
       "      <th></th>\n",
       "      <th></th>\n",
       "    </tr>\n",
       "  </thead>\n",
       "  <tbody>\n",
       "    <tr>\n",
       "      <th>ALS</th>\n",
       "      <th>RMSE</th>\n",
       "      <td>0.770800</td>\n",
       "      <td>0.707822</td>\n",
       "      <td>0.353442</td>\n",
       "    </tr>\n",
       "    <tr>\n",
       "      <th>Bias</th>\n",
       "      <th>RMSE</th>\n",
       "      <td>0.817549</td>\n",
       "      <td>0.752898</td>\n",
       "      <td>0.370980</td>\n",
       "    </tr>\n",
       "    <tr>\n",
       "      <th>IIE</th>\n",
       "      <th>RMSE</th>\n",
       "      <td>0.755559</td>\n",
       "      <td>0.693235</td>\n",
       "      <td>0.353544</td>\n",
       "    </tr>\n",
       "  </tbody>\n",
       "</table>\n",
       "</div>"
      ],
      "text/plain": [
       "                mean    median       std\n",
       "model                                   \n",
       "ALS   RMSE  0.770800  0.707822  0.353442\n",
       "Bias  RMSE  0.817549  0.752898  0.370980\n",
       "IIE   RMSE  0.755559  0.693235  0.353544"
      ]
     },
     "execution_count": 15,
     "metadata": {},
     "output_type": "execute_result"
    }
   ],
   "source": [
    "pa = RunAnalysis()\n",
    "\n",
    "pa.add_metric(RMSE(missing_scores='ignore', missing_truth='ignore'))\n",
    "\n",
    "pred_results = pa.compute(preds, test)\n",
    "pred_results.list_summary('model')"
   ]
  },
  {
   "cell_type": "code",
   "execution_count": 16,
   "id": "0626a38e",
   "metadata": {
    "execution": {
     "iopub.execute_input": "2024-12-09T22:26:17.341874Z",
     "iopub.status.busy": "2024-12-09T22:26:17.341787Z",
     "iopub.status.idle": "2024-12-09T22:26:18.964774Z",
     "shell.execute_reply": "2024-12-09T22:26:18.964378Z"
    },
    "papermill": {
     "duration": 1.627375,
     "end_time": "2024-12-09T22:26:18.965607",
     "exception": false,
     "start_time": "2024-12-09T22:26:17.338232",
     "status": "completed"
    },
    "tags": []
   },
   "outputs": [
    {
     "data": {
      "image/png": "[encoded data removed]",
      "text/plain": [
       "<Figure size 511.111x500 with 1 Axes>"
      ]
     },
     "metadata": {},
     "output_type": "display_data"
    }
   ],
   "source": [
    "sns.catplot(pred_results.list_metrics().reset_index(), x='model', y='RMSE', kind='bar')\n",
    "plt.show()"
   ]
  },
  {
   "cell_type": "markdown",
   "id": "c635bf68",
   "metadata": {
    "papermill": {
     "duration": 0.009124,
     "end_time": "2024-12-09T22:26:18.978098",
     "exception": false,
     "start_time": "2024-12-09T22:26:18.968974",
     "status": "completed"
    },
    "tags": []
   },
   "source": [
    "## Save Metrics\n",
    "\n",
    "We'll now save the metrics to a file."
   ]
  },
  {
   "cell_type": "code",
   "execution_count": 17,
   "id": "d1d7f624",
   "metadata": {
    "execution": {
     "iopub.execute_input": "2024-12-09T22:26:18.981854Z",
     "iopub.status.busy": "2024-12-09T22:26:18.981772Z",
     "iopub.status.idle": "2024-12-09T22:26:19.059928Z",
     "shell.execute_reply": "2024-12-09T22:26:19.059759Z"
    },
    "papermill": {
     "duration": 0.080748,
     "end_time": "2024-12-09T22:26:19.060463",
     "exception": false,
     "start_time": "2024-12-09T22:26:18.979715",
     "status": "completed"
    },
    "tags": []
   },
   "outputs": [
    {
     "name": "stderr",
     "output_type": "stream",
     "text": [
      "/home/mde48/lenskit/lkpy/lenskit/lenskit/metrics/bulk.py:116: FutureWarning: The previous implementation of stack is deprecated and will be removed in a future version of pandas. See the What's New notes for pandas 2.1.0 for details. Specify future_stack=True to adopt the new implementation and silence this warning.\n",
      "  df = scores.groupby(list(keys)).agg([\"mean\", \"median\", \"std\"]).stack(level=0)\n"
     ]
    },
    {
     "data": {
      "text/html": [
       "<div>\n",
       "<style scoped>\n",
       "    .dataframe tbody tr th:only-of-type {\n",
       "        vertical-align: middle;\n",
       "    }\n",
       "\n",
       "    .dataframe tbody tr th {\n",
       "        vertical-align: top;\n",
       "    }\n",
       "\n",
       "    .dataframe thead th {\n",
       "        text-align: right;\n",
       "    }\n",
       "</style>\n",
       "<table border=\"1\" class=\"dataframe\">\n",
       "  <thead>\n",
       "    <tr style=\"text-align: right;\">\n",
       "      <th></th>\n",
       "      <th>NDCG</th>\n",
       "      <th>RBP</th>\n",
       "      <th>RecipRank</th>\n",
       "    </tr>\n",
       "    <tr>\n",
       "      <th>model</th>\n",
       "      <th></th>\n",
       "      <th></th>\n",
       "      <th></th>\n",
       "    </tr>\n",
       "  </thead>\n",
       "  <tbody>\n",
       "    <tr>\n",
       "      <th>ALS</th>\n",
       "      <td>0.019996</td>\n",
       "      <td>0.003447</td>\n",
       "      <td>0.017163</td>\n",
       "    </tr>\n",
       "    <tr>\n",
       "      <th>Bias</th>\n",
       "      <td>0.035069</td>\n",
       "      <td>0.005963</td>\n",
       "      <td>0.030003</td>\n",
       "    </tr>\n",
       "    <tr>\n",
       "      <th>IALS</th>\n",
       "      <td>0.261046</td>\n",
       "      <td>0.121172</td>\n",
       "      <td>0.264014</td>\n",
       "    </tr>\n",
       "    <tr>\n",
       "      <th>IIE</th>\n",
       "      <td>0.001013</td>\n",
       "      <td>0.000018</td>\n",
       "      <td>0.000427</td>\n",
       "    </tr>\n",
       "    <tr>\n",
       "      <th>III</th>\n",
       "      <td>0.225891</td>\n",
       "      <td>0.149103</td>\n",
       "      <td>0.298439</td>\n",
       "    </tr>\n",
       "    <tr>\n",
       "      <th>Pop</th>\n",
       "      <td>0.131249</td>\n",
       "      <td>0.064678</td>\n",
       "      <td>0.158989</td>\n",
       "    </tr>\n",
       "  </tbody>\n",
       "</table>\n",
       "</div>"
      ],
      "text/plain": [
       "           NDCG       RBP  RecipRank\n",
       "model                               \n",
       "ALS    0.019996  0.003447   0.017163\n",
       "Bias   0.035069  0.005963   0.030003\n",
       "IALS   0.261046  0.121172   0.264014\n",
       "IIE    0.001013  0.000018   0.000427\n",
       "III    0.225891  0.149103   0.298439\n",
       "Pop    0.131249  0.064678   0.158989"
      ]
     },
     "execution_count": 17,
     "metadata": {},
     "output_type": "execute_result"
    }
   ],
   "source": [
    "rlsum = rec_results.list_summary('model')['mean'].unstack()\n",
    "rlsum"
   ]
  },
  {
   "cell_type": "code",
   "execution_count": 18,
   "id": "f564b364",
   "metadata": {
    "execution": {
     "iopub.execute_input": "2024-12-09T22:26:19.064568Z",
     "iopub.status.busy": "2024-12-09T22:26:19.064498Z",
     "iopub.status.idle": "2024-12-09T22:26:19.066744Z",
     "shell.execute_reply": "2024-12-09T22:26:19.066600Z"
    },
    "papermill": {
     "duration": 0.004978,
     "end_time": "2024-12-09T22:26:19.067258",
     "exception": false,
     "start_time": "2024-12-09T22:26:19.062280",
     "status": "completed"
    },
    "tags": []
   },
   "outputs": [],
   "source": [
    "rlsum.to_json(f'eval-metrics.{dataset}.json', orient='index')"
   ]
  }
 ],
 "metadata": {
  "jupytext": {
   "formats": "ipynb,md",
   "notebook_metadata_filter": "split_at_heading"
  },
  "kernelspec": {
   "display_name": "Python 3 (ipykernel)",
   "language": "python",
   "name": "python3"
  },
  "language_info": {
   "codemirror_mode": {
    "name": "ipython",
    "version": 3
   },
   "file_extension": ".py",
   "mimetype": "text/x-python",
   "name": "python",
   "nbconvert_exporter": "python",
   "pygments_lexer": "ipython3",
   "version": "3.12.7"
  },
  "papermill": {
   "default_parameters": {},
   "duration": 497.428709,
   "end_time": "2024-12-09T22:26:21.683978",
   "environment_variables": {},
   "exception": null,
   "input_path": "eval-report.ipynb",
   "output_path": "eval-report.ml25m.ipynb",
   "parameters": {
    "dataset": "ml25m"
   },
   "start_time": "2024-12-09T22:18:04.255269",
   "version": "2.6.0"
  },
  "split_at_heading": true
 },
 "nbformat": 4,
 "nbformat_minor": 5
}