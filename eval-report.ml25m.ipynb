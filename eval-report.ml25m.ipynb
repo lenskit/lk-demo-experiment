{
 "cells": [
  {
   "cell_type": "markdown",
   "id": "93740f9f",
   "metadata": {
    "papermill": {
     "duration": 0.010342,
     "end_time": "2024-12-19T21:17:22.512223",
     "exception": false,
     "start_time": "2024-12-19T21:17:22.501881",
     "status": "completed"
    },
    "tags": []
   },
   "source": [
    "# Evaluation Analysis for Recommender Output"
   ]
  },
  {
   "cell_type": "markdown",
   "id": "678b1137",
   "metadata": {
    "papermill": {
     "duration": 0.001159,
     "end_time": "2024-12-19T21:17:22.514734",
     "exception": false,
     "start_time": "2024-12-19T21:17:22.513575",
     "status": "completed"
    },
    "tags": []
   },
   "source": [
    "In this section we will analyze and compare the generated recommendations and predictions from a predefined list of algorithms with the goal of assessing the performance of each algorithm with respect to a metric. In other words, we would rank the algorithms for each metric considered with respect to performance."
   ]
  },
  {
   "cell_type": "markdown",
   "id": "e1501de5",
   "metadata": {
    "papermill": {
     "duration": 0.00107,
     "end_time": "2024-12-19T21:17:22.516915",
     "exception": false,
     "start_time": "2024-12-19T21:17:22.515845",
     "status": "completed"
    },
    "tags": []
   },
   "source": [
    "## Setup"
   ]
  },
  {
   "cell_type": "markdown",
   "id": "78e0ea5a",
   "metadata": {
    "papermill": {
     "duration": 0.001072,
     "end_time": "2024-12-19T21:17:22.519140",
     "exception": false,
     "start_time": "2024-12-19T21:17:22.518068",
     "status": "completed"
    },
    "tags": []
   },
   "source": [
    "Below are the list of packages required to successfully run the analysis. They are divided into partitions to signify their specific task.<br>\n",
    "We need the pathlib package for working with files and folders"
   ]
  },
  {
   "cell_type": "code",
   "execution_count": 1,
   "id": "aa9b9024",
   "metadata": {
    "execution": {
     "iopub.execute_input": "2024-12-19T21:17:22.521899Z",
     "iopub.status.busy": "2024-12-19T21:17:22.521753Z",
     "iopub.status.idle": "2024-12-19T21:17:22.523439Z",
     "shell.execute_reply": "2024-12-19T21:17:22.523269Z"
    },
    "papermill": {
     "duration": 0.003505,
     "end_time": "2024-12-19T21:17:22.523740",
     "exception": false,
     "start_time": "2024-12-19T21:17:22.520235",
     "status": "completed"
    },
    "tags": []
   },
   "outputs": [],
   "source": [
    "from pathlib import Path\n",
    "import json"
   ]
  },
  {
   "cell_type": "markdown",
   "id": "4a21d11d",
   "metadata": {
    "papermill": {
     "duration": 0.001112,
     "end_time": "2024-12-19T21:17:22.526032",
     "exception": false,
     "start_time": "2024-12-19T21:17:22.524920",
     "status": "completed"
    },
    "tags": []
   },
   "source": [
    "We would use the pandas for analyzing and manipulating our data while seaborn and matplotlib are used for data visualization. statsmodels.graphics.gofplots and scipy.stats.shapiro are used for normality check. Scipy.stats.friedmanchisquare is a non-parametric test used to determine the statistical significance in metric results and the wilcoxon test is used for pairwise comparison of sample data."
   ]
  },
  {
   "cell_type": "code",
   "execution_count": 2,
   "id": "a72bade7",
   "metadata": {
    "execution": {
     "iopub.execute_input": "2024-12-19T21:17:22.528731Z",
     "iopub.status.busy": "2024-12-19T21:17:22.528584Z",
     "iopub.status.idle": "2024-12-19T21:17:23.023529Z",
     "shell.execute_reply": "2024-12-19T21:17:23.023337Z"
    },
    "lines_to_next_cell": 2,
    "papermill": {
     "duration": 0.497065,
     "end_time": "2024-12-19T21:17:23.024247",
     "exception": false,
     "start_time": "2024-12-19T21:17:22.527182",
     "status": "completed"
    },
    "tags": []
   },
   "outputs": [],
   "source": [
    "import pandas as pd\n",
    "import seaborn as sns\n",
    "import matplotlib.pyplot as plt\n",
    "from statsmodels.graphics.gofplots import qqplot\n",
    "from scipy.stats import shapiro\n",
    "from scipy.stats import friedmanchisquare, wilcoxon\n",
    "from itertools import combinations"
   ]
  },
  {
   "cell_type": "markdown",
   "id": "e3a36d16",
   "metadata": {
    "papermill": {
     "duration": 0.008686,
     "end_time": "2024-12-19T21:17:23.034302",
     "exception": false,
     "start_time": "2024-12-19T21:17:23.025616",
     "status": "completed"
    },
    "tags": []
   },
   "source": [
    "Import the LensKit metrics for analysis:"
   ]
  },
  {
   "cell_type": "code",
   "execution_count": 3,
   "id": "14187914",
   "metadata": {
    "execution": {
     "iopub.execute_input": "2024-12-19T21:17:23.037082Z",
     "iopub.status.busy": "2024-12-19T21:17:23.036928Z",
     "iopub.status.idle": "2024-12-19T21:17:23.679618Z",
     "shell.execute_reply": "2024-12-19T21:17:23.679123Z"
    },
    "papermill": {
     "duration": 0.644852,
     "end_time": "2024-12-19T21:17:23.680328",
     "exception": false,
     "start_time": "2024-12-19T21:17:23.035476",
     "status": "completed"
    },
    "tags": []
   },
   "outputs": [],
   "source": [
    "from lenskit.data import ItemListCollection, UserIDKey\n",
    "from lenskit.metrics import RunAnalysis, RMSE, NDCG, RecipRank, RBP"
   ]
  },
  {
   "cell_type": "markdown",
   "id": "8a2f1201",
   "metadata": {
    "papermill": {
     "duration": 0.008791,
     "end_time": "2024-12-19T21:17:23.690563",
     "exception": false,
     "start_time": "2024-12-19T21:17:23.681772",
     "status": "completed"
    },
    "tags": []
   },
   "source": [
    "## Load Data\n",
    "\n",
    "The recommendations are in `runs`, and we will need to reassemble the test data from `test`."
   ]
  },
  {
   "cell_type": "code",
   "execution_count": 4,
   "id": "322018fa",
   "metadata": {
    "execution": {
     "iopub.execute_input": "2024-12-19T21:17:23.693647Z",
     "iopub.status.busy": "2024-12-19T21:17:23.693504Z",
     "iopub.status.idle": "2024-12-19T21:17:23.695427Z",
     "shell.execute_reply": "2024-12-19T21:17:23.695085Z"
    },
    "papermill": {
     "duration": 0.00402,
     "end_time": "2024-12-19T21:17:23.695827",
     "exception": false,
     "start_time": "2024-12-19T21:17:23.691807",
     "status": "completed"
    },
    "tags": [
     "parameters"
    ]
   },
   "outputs": [],
   "source": [
    "dataset = \"ml100k\""
   ]
  },
  {
   "cell_type": "code",
   "execution_count": 5,
   "id": "c47b27d8",
   "metadata": {
    "execution": {
     "iopub.execute_input": "2024-12-19T21:17:23.698500Z",
     "iopub.status.busy": "2024-12-19T21:17:23.698369Z",
     "iopub.status.idle": "2024-12-19T21:17:23.699785Z",
     "shell.execute_reply": "2024-12-19T21:17:23.699581Z"
    },
    "papermill": {
     "duration": 0.003192,
     "end_time": "2024-12-19T21:17:23.700203",
     "exception": false,
     "start_time": "2024-12-19T21:17:23.697011",
     "status": "completed"
    },
    "tags": [
     "injected-parameters"
    ]
   },
   "outputs": [],
   "source": [
    "# Parameters\n",
    "dataset = \"ml25m\"\n"
   ]
  },
  {
   "cell_type": "code",
   "execution_count": 6,
   "id": "bcc16ac2",
   "metadata": {
    "execution": {
     "iopub.execute_input": "2024-12-19T21:17:23.703073Z",
     "iopub.status.busy": "2024-12-19T21:17:23.702969Z",
     "iopub.status.idle": "2024-12-19T21:17:23.704572Z",
     "shell.execute_reply": "2024-12-19T21:17:23.704295Z"
    },
    "papermill": {
     "duration": 0.003526,
     "end_time": "2024-12-19T21:17:23.704907",
     "exception": false,
     "start_time": "2024-12-19T21:17:23.701381",
     "status": "completed"
    },
    "tags": []
   },
   "outputs": [],
   "source": [
    "output_root = Path(\"runs\")"
   ]
  },
  {
   "cell_type": "code",
   "execution_count": 7,
   "id": "ceb1ee76",
   "metadata": {
    "execution": {
     "iopub.execute_input": "2024-12-19T21:17:23.707927Z",
     "iopub.status.busy": "2024-12-19T21:17:23.707777Z",
     "iopub.status.idle": "2024-12-19T21:17:23.709855Z",
     "shell.execute_reply": "2024-12-19T21:17:23.709580Z"
    },
    "papermill": {
     "duration": 0.004021,
     "end_time": "2024-12-19T21:17:23.710213",
     "exception": false,
     "start_time": "2024-12-19T21:17:23.706192",
     "status": "completed"
    },
    "tags": []
   },
   "outputs": [],
   "source": [
    "dirs = [fld for fld in output_root.glob(f'{dataset}-*')]"
   ]
  },
  {
   "cell_type": "code",
   "execution_count": 8,
   "id": "ba136ca4",
   "metadata": {
    "execution": {
     "iopub.execute_input": "2024-12-19T21:17:23.713519Z",
     "iopub.status.busy": "2024-12-19T21:17:23.713347Z",
     "iopub.status.idle": "2024-12-19T21:17:46.411961Z",
     "shell.execute_reply": "2024-12-19T21:17:46.411530Z"
    },
    "papermill": {
     "duration": 22.701165,
     "end_time": "2024-12-19T21:17:46.412743",
     "exception": false,
     "start_time": "2024-12-19T21:17:23.711578",
     "status": "completed"
    },
    "tags": []
   },
   "outputs": [],
   "source": [
    "recs = ItemListCollection(['model', 'user_id'], index=False)\n",
    "for fld in dirs:\n",
    "    for file in fld.glob(\"recs-*\"):\n",
    "        rec = ItemListCollection.load_parquet(file)\n",
    "        recs.add_from(rec, model=fld.name.split(\"-\")[1])"
   ]
  },
  {
   "cell_type": "code",
   "execution_count": 9,
   "id": "0a0716f7",
   "metadata": {
    "execution": {
     "iopub.execute_input": "2024-12-19T21:17:46.423471Z",
     "iopub.status.busy": "2024-12-19T21:17:46.423357Z",
     "iopub.status.idle": "2024-12-19T21:17:46.486030Z",
     "shell.execute_reply": "2024-12-19T21:17:46.485785Z"
    },
    "papermill": {
     "duration": 0.072255,
     "end_time": "2024-12-19T21:17:46.486450",
     "exception": false,
     "start_time": "2024-12-19T21:17:46.414195",
     "status": "completed"
    },
    "tags": []
   },
   "outputs": [
    {
     "data": {
      "text/plain": [
       "['ALS', 'Bias', 'IALS', 'IIE', 'III', 'Pop', 'UUE']"
      ]
     },
     "execution_count": 9,
     "metadata": {},
     "output_type": "execute_result"
    }
   ],
   "source": [
    "rec_algos = sorted(set(a for (a, _u) in recs.keys()))\n",
    "rec_algos"
   ]
  },
  {
   "cell_type": "code",
   "execution_count": 10,
   "id": "71d6c2ed",
   "metadata": {
    "execution": {
     "iopub.execute_input": "2024-12-19T21:17:46.489695Z",
     "iopub.status.busy": "2024-12-19T21:17:46.489589Z",
     "iopub.status.idle": "2024-12-19T21:18:04.303598Z",
     "shell.execute_reply": "2024-12-19T21:18:04.303191Z"
    },
    "papermill": {
     "duration": 17.816519,
     "end_time": "2024-12-19T21:18:04.304406",
     "exception": false,
     "start_time": "2024-12-19T21:17:46.487887",
     "status": "completed"
    },
    "tags": []
   },
   "outputs": [],
   "source": [
    "preds = ItemListCollection(['model', 'user_id'], index=False)\n",
    "for fld in dirs:\n",
    "    for file in fld.glob(\"pred-*\"):\n",
    "        pred = ItemListCollection.load_parquet(file)\n",
    "        preds.add_from(pred, model=fld.name.split(\"-\")[1])"
   ]
  },
  {
   "cell_type": "markdown",
   "id": "c1ffa3a5",
   "metadata": {
    "papermill": {
     "duration": 0.008493,
     "end_time": "2024-12-19T21:18:04.314451",
     "exception": false,
     "start_time": "2024-12-19T21:18:04.305958",
     "status": "completed"
    },
    "tags": []
   },
   "source": [
    "We need to load the test data so that we have the ground truths for computing accuracy"
   ]
  },
  {
   "cell_type": "code",
   "execution_count": 11,
   "id": "131e4d84",
   "metadata": {
    "execution": {
     "iopub.execute_input": "2024-12-19T21:18:04.317509Z",
     "iopub.status.busy": "2024-12-19T21:18:04.317397Z",
     "iopub.status.idle": "2024-12-19T21:18:04.318975Z",
     "shell.execute_reply": "2024-12-19T21:18:04.318748Z"
    },
    "papermill": {
     "duration": 0.003565,
     "end_time": "2024-12-19T21:18:04.319305",
     "exception": false,
     "start_time": "2024-12-19T21:18:04.315740",
     "status": "completed"
    },
    "tags": []
   },
   "outputs": [],
   "source": [
    "split_root = Path(\"data-split\")\n",
    "split_dir = split_root / dataset"
   ]
  },
  {
   "cell_type": "code",
   "execution_count": 12,
   "id": "c38bfbfc",
   "metadata": {
    "execution": {
     "iopub.execute_input": "2024-12-19T21:18:04.322154Z",
     "iopub.status.busy": "2024-12-19T21:18:04.322020Z",
     "iopub.status.idle": "2024-12-19T21:18:13.881204Z",
     "shell.execute_reply": "2024-12-19T21:18:13.880837Z"
    },
    "papermill": {
     "duration": 9.56156,
     "end_time": "2024-12-19T21:18:13.882122",
     "exception": false,
     "start_time": "2024-12-19T21:18:04.320562",
     "status": "completed"
    },
    "tags": []
   },
   "outputs": [],
   "source": [
    "test = ItemListCollection(UserIDKey)\n",
    "for file in split_dir.glob(\"test-*.parquet\"):\n",
    "    df = pd.read_parquet(file)\n",
    "    part = ItemListCollection.from_df(df, UserIDKey)\n",
    "    test.add_from(part)"
   ]
  },
  {
   "cell_type": "markdown",
   "id": "d33a9869",
   "metadata": {
    "papermill": {
     "duration": 0.008588,
     "end_time": "2024-12-19T21:18:13.892256",
     "exception": false,
     "start_time": "2024-12-19T21:18:13.883668",
     "status": "completed"
    },
    "tags": []
   },
   "source": [
    "## Top-N Metrics\n",
    "\n",
    "`RunListAnalysis` computes metrics for recommendation results and takes care of\n",
    "matching recommendations and ground truth."
   ]
  },
  {
   "cell_type": "code",
   "execution_count": 13,
   "id": "d648b629",
   "metadata": {
    "execution": {
     "iopub.execute_input": "2024-12-19T21:18:13.896451Z",
     "iopub.status.busy": "2024-12-19T21:18:13.896342Z",
     "iopub.status.idle": "2024-12-19T21:19:30.569239Z",
     "shell.execute_reply": "2024-12-19T21:19:30.569071Z"
    },
    "papermill": {
     "duration": 76.676712,
     "end_time": "2024-12-19T21:19:30.570917",
     "exception": false,
     "start_time": "2024-12-19T21:18:13.894205",
     "status": "completed"
    },
    "tags": []
   },
   "outputs": [
    {
     "name": "stderr",
     "output_type": "stream",
     "text": [
      "/home/mde48/lenskit/lkpy/lenskit/lenskit/metrics/bulk.py:121: FutureWarning: The previous implementation of stack is deprecated and will be removed in a future version of pandas. See the What's New notes for pandas 2.1.0 for details. Specify future_stack=True to adopt the new implementation and silence this warning.\n",
      "  df = scores.groupby(list(keys)).agg([\"mean\", \"median\", \"std\"]).stack(level=0)\n"
     ]
    },
    {
     "data": {
      "text/html": [
       "<div>\n",
       "<style scoped>\n",
       "    .dataframe tbody tr th:only-of-type {\n",
       "        vertical-align: middle;\n",
       "    }\n",
       "\n",
       "    .dataframe tbody tr th {\n",
       "        vertical-align: top;\n",
       "    }\n",
       "\n",
       "    .dataframe thead th {\n",
       "        text-align: right;\n",
       "    }\n",
       "</style>\n",
       "<table border=\"1\" class=\"dataframe\">\n",
       "  <thead>\n",
       "    <tr style=\"text-align: right;\">\n",
       "      <th></th>\n",
       "      <th></th>\n",
       "      <th>mean</th>\n",
       "      <th>median</th>\n",
       "      <th>std</th>\n",
       "    </tr>\n",
       "    <tr>\n",
       "      <th>model</th>\n",
       "      <th></th>\n",
       "      <th></th>\n",
       "      <th></th>\n",
       "      <th></th>\n",
       "    </tr>\n",
       "  </thead>\n",
       "  <tbody>\n",
       "    <tr>\n",
       "      <th rowspan=\"3\" valign=\"top\">ALS</th>\n",
       "      <th>NDCG</th>\n",
       "      <td>1.990993e-02</td>\n",
       "      <td>0.000000e+00</td>\n",
       "      <td>4.741448e-02</td>\n",
       "    </tr>\n",
       "    <tr>\n",
       "      <th>RBP</th>\n",
       "      <td>3.367101e-03</td>\n",
       "      <td>0.000000e+00</td>\n",
       "      <td>3.099371e-02</td>\n",
       "    </tr>\n",
       "    <tr>\n",
       "      <th>RecipRank</th>\n",
       "      <td>1.703095e-02</td>\n",
       "      <td>0.000000e+00</td>\n",
       "      <td>7.014610e-02</td>\n",
       "    </tr>\n",
       "    <tr>\n",
       "      <th rowspan=\"3\" valign=\"top\">Bias</th>\n",
       "      <th>NDCG</th>\n",
       "      <td>3.493915e-02</td>\n",
       "      <td>0.000000e+00</td>\n",
       "      <td>5.859454e-02</td>\n",
       "    </tr>\n",
       "    <tr>\n",
       "      <th>RBP</th>\n",
       "      <td>5.806646e-03</td>\n",
       "      <td>0.000000e+00</td>\n",
       "      <td>2.630711e-02</td>\n",
       "    </tr>\n",
       "    <tr>\n",
       "      <th>RecipRank</th>\n",
       "      <td>2.976359e-02</td>\n",
       "      <td>0.000000e+00</td>\n",
       "      <td>7.372270e-02</td>\n",
       "    </tr>\n",
       "    <tr>\n",
       "      <th rowspan=\"3\" valign=\"top\">IALS</th>\n",
       "      <th>NDCG</th>\n",
       "      <td>2.606783e-01</td>\n",
       "      <td>2.151946e-01</td>\n",
       "      <td>1.925266e-01</td>\n",
       "    </tr>\n",
       "    <tr>\n",
       "      <th>RBP</th>\n",
       "      <td>1.206457e-01</td>\n",
       "      <td>1.955092e-03</td>\n",
       "      <td>2.090963e-01</td>\n",
       "    </tr>\n",
       "    <tr>\n",
       "      <th>RecipRank</th>\n",
       "      <td>2.632957e-01</td>\n",
       "      <td>1.111111e-01</td>\n",
       "      <td>3.264759e-01</td>\n",
       "    </tr>\n",
       "    <tr>\n",
       "      <th rowspan=\"3\" valign=\"top\">IIE</th>\n",
       "      <th>NDCG</th>\n",
       "      <td>9.858528e-04</td>\n",
       "      <td>0.000000e+00</td>\n",
       "      <td>8.551925e-03</td>\n",
       "    </tr>\n",
       "    <tr>\n",
       "      <th>RBP</th>\n",
       "      <td>8.519131e-06</td>\n",
       "      <td>0.000000e+00</td>\n",
       "      <td>9.346984e-04</td>\n",
       "    </tr>\n",
       "    <tr>\n",
       "      <th>RecipRank</th>\n",
       "      <td>3.940350e-04</td>\n",
       "      <td>0.000000e+00</td>\n",
       "      <td>4.668243e-03</td>\n",
       "    </tr>\n",
       "    <tr>\n",
       "      <th rowspan=\"3\" valign=\"top\">III</th>\n",
       "      <th>NDCG</th>\n",
       "      <td>2.256859e-01</td>\n",
       "      <td>1.626065e-01</td>\n",
       "      <td>2.054953e-01</td>\n",
       "    </tr>\n",
       "    <tr>\n",
       "      <th>RBP</th>\n",
       "      <td>1.487806e-01</td>\n",
       "      <td>9.766817e-04</td>\n",
       "      <td>2.359021e-01</td>\n",
       "    </tr>\n",
       "    <tr>\n",
       "      <th>RecipRank</th>\n",
       "      <td>2.979288e-01</td>\n",
       "      <td>1.000000e-01</td>\n",
       "      <td>3.723175e-01</td>\n",
       "    </tr>\n",
       "    <tr>\n",
       "      <th rowspan=\"3\" valign=\"top\">Pop</th>\n",
       "      <th>NDCG</th>\n",
       "      <td>1.311176e-01</td>\n",
       "      <td>8.938872e-02</td>\n",
       "      <td>1.413021e-01</td>\n",
       "    </tr>\n",
       "    <tr>\n",
       "      <th>RBP</th>\n",
       "      <td>6.438092e-02</td>\n",
       "      <td>1.490116e-08</td>\n",
       "      <td>1.532674e-01</td>\n",
       "    </tr>\n",
       "    <tr>\n",
       "      <th>RecipRank</th>\n",
       "      <td>1.587200e-01</td>\n",
       "      <td>3.846154e-02</td>\n",
       "      <td>2.736539e-01</td>\n",
       "    </tr>\n",
       "    <tr>\n",
       "      <th rowspan=\"3\" valign=\"top\">UUE</th>\n",
       "      <th>NDCG</th>\n",
       "      <td>6.197397e-07</td>\n",
       "      <td>0.000000e+00</td>\n",
       "      <td>1.785865e-04</td>\n",
       "    </tr>\n",
       "    <tr>\n",
       "      <th>RBP</th>\n",
       "      <td>1.145954e-14</td>\n",
       "      <td>0.000000e+00</td>\n",
       "      <td>4.620071e-12</td>\n",
       "    </tr>\n",
       "    <tr>\n",
       "      <th>RecipRank</th>\n",
       "      <td>2.783018e-07</td>\n",
       "      <td>0.000000e+00</td>\n",
       "      <td>8.959215e-05</td>\n",
       "    </tr>\n",
       "  </tbody>\n",
       "</table>\n",
       "</div>"
      ],
      "text/plain": [
       "                         mean        median           std\n",
       "model                                                    \n",
       "ALS   NDCG       1.990993e-02  0.000000e+00  4.741448e-02\n",
       "      RBP        3.367101e-03  0.000000e+00  3.099371e-02\n",
       "      RecipRank  1.703095e-02  0.000000e+00  7.014610e-02\n",
       "Bias  NDCG       3.493915e-02  0.000000e+00  5.859454e-02\n",
       "      RBP        5.806646e-03  0.000000e+00  2.630711e-02\n",
       "      RecipRank  2.976359e-02  0.000000e+00  7.372270e-02\n",
       "IALS  NDCG       2.606783e-01  2.151946e-01  1.925266e-01\n",
       "      RBP        1.206457e-01  1.955092e-03  2.090963e-01\n",
       "      RecipRank  2.632957e-01  1.111111e-01  3.264759e-01\n",
       "IIE   NDCG       9.858528e-04  0.000000e+00  8.551925e-03\n",
       "      RBP        8.519131e-06  0.000000e+00  9.346984e-04\n",
       "      RecipRank  3.940350e-04  0.000000e+00  4.668243e-03\n",
       "III   NDCG       2.256859e-01  1.626065e-01  2.054953e-01\n",
       "      RBP        1.487806e-01  9.766817e-04  2.359021e-01\n",
       "      RecipRank  2.979288e-01  1.000000e-01  3.723175e-01\n",
       "Pop   NDCG       1.311176e-01  8.938872e-02  1.413021e-01\n",
       "      RBP        6.438092e-02  1.490116e-08  1.532674e-01\n",
       "      RecipRank  1.587200e-01  3.846154e-02  2.736539e-01\n",
       "UUE   NDCG       6.197397e-07  0.000000e+00  1.785865e-04\n",
       "      RBP        1.145954e-14  0.000000e+00  4.620071e-12\n",
       "      RecipRank  2.783018e-07  0.000000e+00  8.959215e-05"
      ]
     },
     "execution_count": 13,
     "metadata": {},
     "output_type": "execute_result"
    }
   ],
   "source": [
    "ra = RunAnalysis()\n",
    "\n",
    "ra.add_metric(NDCG())\n",
    "ra.add_metric(RecipRank())\n",
    "ra.add_metric(RBP())\n",
    "\n",
    "rec_results = ra.compute(recs, test)\n",
    "rec_results.list_summary('model')"
   ]
  },
  {
   "cell_type": "markdown",
   "id": "f8842c48",
   "metadata": {
    "papermill": {
     "duration": 0.001373,
     "end_time": "2024-12-19T21:19:30.580247",
     "exception": false,
     "start_time": "2024-12-19T21:19:30.578874",
     "status": "completed"
    },
    "tags": []
   },
   "source": [
    "We can reshape the list metrics and plot them:"
   ]
  },
  {
   "cell_type": "code",
   "execution_count": 14,
   "id": "11308253",
   "metadata": {
    "execution": {
     "iopub.execute_input": "2024-12-19T21:19:30.583332Z",
     "iopub.status.busy": "2024-12-19T21:19:30.583225Z",
     "iopub.status.idle": "2024-12-19T21:19:40.450421Z",
     "shell.execute_reply": "2024-12-19T21:19:40.450237Z"
    },
    "papermill": {
     "duration": 9.869459,
     "end_time": "2024-12-19T21:19:40.451051",
     "exception": false,
     "start_time": "2024-12-19T21:19:30.581592",
     "status": "completed"
    },
    "tags": []
   },
   "outputs": [
    {
     "data": {
      "image/png": "[encoded data removed]",
      "text/plain": [
       "<Figure size 1511.11x500 with 3 Axes>"
      ]
     },
     "metadata": {},
     "output_type": "display_data"
    }
   ],
   "source": [
    "metrics = rec_results.list_metrics()\n",
    "metrics = metrics.melt(var_name='metric', ignore_index=False).reset_index()\n",
    "sns.catplot(metrics, x='model', y='value', col='metric', kind='bar')\n",
    "plt.show()"
   ]
  },
  {
   "cell_type": "markdown",
   "id": "ed2b7ce3",
   "metadata": {
    "papermill": {
     "duration": 0.001563,
     "end_time": "2024-12-19T21:19:40.454316",
     "exception": false,
     "start_time": "2024-12-19T21:19:40.452753",
     "status": "completed"
    },
    "tags": []
   },
   "source": [
    "## Prediction RMSE\n",
    "\n",
    "We will also look at the prediction RMSE."
   ]
  },
  {
   "cell_type": "code",
   "execution_count": 15,
   "id": "fb241eec",
   "metadata": {
    "execution": {
     "iopub.execute_input": "2024-12-19T21:19:40.457784Z",
     "iopub.status.busy": "2024-12-19T21:19:40.457688Z",
     "iopub.status.idle": "2024-12-19T21:21:12.864538Z",
     "shell.execute_reply": "2024-12-19T21:21:12.864236Z"
    },
    "papermill": {
     "duration": 92.410712,
     "end_time": "2024-12-19T21:21:12.866461",
     "exception": false,
     "start_time": "2024-12-19T21:19:40.455749",
     "status": "completed"
    },
    "tags": []
   },
   "outputs": [
    {
     "name": "stderr",
     "output_type": "stream",
     "text": [
      "/home/mde48/lenskit/lkpy/lenskit/lenskit/metrics/bulk.py:121: FutureWarning: The previous implementation of stack is deprecated and will be removed in a future version of pandas. See the What's New notes for pandas 2.1.0 for details. Specify future_stack=True to adopt the new implementation and silence this warning.\n",
      "  df = scores.groupby(list(keys)).agg([\"mean\", \"median\", \"std\"]).stack(level=0)\n"
     ]
    },
    {
     "data": {
      "text/html": [
       "<div>\n",
       "<style scoped>\n",
       "    .dataframe tbody tr th:only-of-type {\n",
       "        vertical-align: middle;\n",
       "    }\n",
       "\n",
       "    .dataframe tbody tr th {\n",
       "        vertical-align: top;\n",
       "    }\n",
       "\n",
       "    .dataframe thead th {\n",
       "        text-align: right;\n",
       "    }\n",
       "</style>\n",
       "<table border=\"1\" class=\"dataframe\">\n",
       "  <thead>\n",
       "    <tr style=\"text-align: right;\">\n",
       "      <th></th>\n",
       "      <th></th>\n",
       "      <th>mean</th>\n",
       "      <th>median</th>\n",
       "      <th>std</th>\n",
       "    </tr>\n",
       "    <tr>\n",
       "      <th>model</th>\n",
       "      <th></th>\n",
       "      <th></th>\n",
       "      <th></th>\n",
       "      <th></th>\n",
       "    </tr>\n",
       "  </thead>\n",
       "  <tbody>\n",
       "    <tr>\n",
       "      <th>ALS</th>\n",
       "      <th>RMSE</th>\n",
       "      <td>0.771190</td>\n",
       "      <td>0.707540</td>\n",
       "      <td>0.354822</td>\n",
       "    </tr>\n",
       "    <tr>\n",
       "      <th>Bias</th>\n",
       "      <th>RMSE</th>\n",
       "      <td>0.818330</td>\n",
       "      <td>0.751826</td>\n",
       "      <td>0.372413</td>\n",
       "    </tr>\n",
       "    <tr>\n",
       "      <th>IIE</th>\n",
       "      <th>RMSE</th>\n",
       "      <td>0.755661</td>\n",
       "      <td>0.692294</td>\n",
       "      <td>0.354249</td>\n",
       "    </tr>\n",
       "    <tr>\n",
       "      <th>UUE</th>\n",
       "      <th>RMSE</th>\n",
       "      <td>0.782143</td>\n",
       "      <td>0.716925</td>\n",
       "      <td>0.361059</td>\n",
       "    </tr>\n",
       "  </tbody>\n",
       "</table>\n",
       "</div>"
      ],
      "text/plain": [
       "                mean    median       std\n",
       "model                                   \n",
       "ALS   RMSE  0.771190  0.707540  0.354822\n",
       "Bias  RMSE  0.818330  0.751826  0.372413\n",
       "IIE   RMSE  0.755661  0.692294  0.354249\n",
       "UUE   RMSE  0.782143  0.716925  0.361059"
      ]
     },
     "execution_count": 15,
     "metadata": {},
     "output_type": "execute_result"
    }
   ],
   "source": [
    "pa = RunAnalysis()\n",
    "\n",
    "pa.add_metric(RMSE(missing_scores='ignore', missing_truth='ignore'))\n",
    "\n",
    "pred_results = pa.compute(preds, test)\n",
    "pred_results.list_summary('model')"
   ]
  },
  {
   "cell_type": "code",
   "execution_count": 16,
   "id": "92a98510",
   "metadata": {
    "execution": {
     "iopub.execute_input": "2024-12-19T21:21:12.877096Z",
     "iopub.status.busy": "2024-12-19T21:21:12.877003Z",
     "iopub.status.idle": "2024-12-19T21:21:14.604139Z",
     "shell.execute_reply": "2024-12-19T21:21:14.603848Z"
    },
    "papermill": {
     "duration": 1.729908,
     "end_time": "2024-12-19T21:21:14.604833",
     "exception": false,
     "start_time": "2024-12-19T21:21:12.874925",
     "status": "completed"
    },
    "tags": []
   },
   "outputs": [
    {
     "data": {
      "image/png": "[encoded data removed]",
      "text/plain": [
       "<Figure size 511.111x500 with 1 Axes>"
      ]
     },
     "metadata": {},
     "output_type": "display_data"
    }
   ],
   "source": [
    "sns.catplot(pred_results.list_metrics().reset_index(), x='model', y='RMSE', kind='bar')\n",
    "plt.show()"
   ]
  },
  {
   "cell_type": "markdown",
   "id": "c9a309d6",
   "metadata": {
    "papermill": {
     "duration": 0.009052,
     "end_time": "2024-12-19T21:21:14.615810",
     "exception": false,
     "start_time": "2024-12-19T21:21:14.606758",
     "status": "completed"
    },
    "tags": []
   },
   "source": [
    "## Save Metrics\n",
    "\n",
    "We'll now save the metrics to a file."
   ]
  },
  {
   "cell_type": "code",
   "execution_count": 17,
   "id": "68b047dc",
   "metadata": {
    "execution": {
     "iopub.execute_input": "2024-12-19T21:21:14.619583Z",
     "iopub.status.busy": "2024-12-19T21:21:14.619475Z",
     "iopub.status.idle": "2024-12-19T21:21:14.709147Z",
     "shell.execute_reply": "2024-12-19T21:21:14.708961Z"
    },
    "papermill": {
     "duration": 0.092351,
     "end_time": "2024-12-19T21:21:14.709744",
     "exception": false,
     "start_time": "2024-12-19T21:21:14.617393",
     "status": "completed"
    },
    "tags": []
   },
   "outputs": [
    {
     "name": "stderr",
     "output_type": "stream",
     "text": [
      "/home/mde48/lenskit/lkpy/lenskit/lenskit/metrics/bulk.py:121: FutureWarning: The previous implementation of stack is deprecated and will be removed in a future version of pandas. See the What's New notes for pandas 2.1.0 for details. Specify future_stack=True to adopt the new implementation and silence this warning.\n",
      "  df = scores.groupby(list(keys)).agg([\"mean\", \"median\", \"std\"]).stack(level=0)\n"
     ]
    },
    {
     "data": {
      "text/html": [
       "<div>\n",
       "<style scoped>\n",
       "    .dataframe tbody tr th:only-of-type {\n",
       "        vertical-align: middle;\n",
       "    }\n",
       "\n",
       "    .dataframe tbody tr th {\n",
       "        vertical-align: top;\n",
       "    }\n",
       "\n",
       "    .dataframe thead th {\n",
       "        text-align: right;\n",
       "    }\n",
       "</style>\n",
       "<table border=\"1\" class=\"dataframe\">\n",
       "  <thead>\n",
       "    <tr style=\"text-align: right;\">\n",
       "      <th></th>\n",
       "      <th>NDCG</th>\n",
       "      <th>RBP</th>\n",
       "      <th>RecipRank</th>\n",
       "    </tr>\n",
       "    <tr>\n",
       "      <th>model</th>\n",
       "      <th></th>\n",
       "      <th></th>\n",
       "      <th></th>\n",
       "    </tr>\n",
       "  </thead>\n",
       "  <tbody>\n",
       "    <tr>\n",
       "      <th>ALS</th>\n",
       "      <td>1.990993e-02</td>\n",
       "      <td>3.367101e-03</td>\n",
       "      <td>1.703095e-02</td>\n",
       "    </tr>\n",
       "    <tr>\n",
       "      <th>Bias</th>\n",
       "      <td>3.493915e-02</td>\n",
       "      <td>5.806646e-03</td>\n",
       "      <td>2.976359e-02</td>\n",
       "    </tr>\n",
       "    <tr>\n",
       "      <th>IALS</th>\n",
       "      <td>2.606783e-01</td>\n",
       "      <td>1.206457e-01</td>\n",
       "      <td>2.632957e-01</td>\n",
       "    </tr>\n",
       "    <tr>\n",
       "      <th>IIE</th>\n",
       "      <td>9.858528e-04</td>\n",
       "      <td>8.519131e-06</td>\n",
       "      <td>3.940350e-04</td>\n",
       "    </tr>\n",
       "    <tr>\n",
       "      <th>III</th>\n",
       "      <td>2.256859e-01</td>\n",
       "      <td>1.487806e-01</td>\n",
       "      <td>2.979288e-01</td>\n",
       "    </tr>\n",
       "    <tr>\n",
       "      <th>Pop</th>\n",
       "      <td>1.311176e-01</td>\n",
       "      <td>6.438092e-02</td>\n",
       "      <td>1.587200e-01</td>\n",
       "    </tr>\n",
       "    <tr>\n",
       "      <th>UUE</th>\n",
       "      <td>6.197397e-07</td>\n",
       "      <td>1.145954e-14</td>\n",
       "      <td>2.783018e-07</td>\n",
       "    </tr>\n",
       "  </tbody>\n",
       "</table>\n",
       "</div>"
      ],
      "text/plain": [
       "               NDCG           RBP     RecipRank\n",
       "model                                          \n",
       "ALS    1.990993e-02  3.367101e-03  1.703095e-02\n",
       "Bias   3.493915e-02  5.806646e-03  2.976359e-02\n",
       "IALS   2.606783e-01  1.206457e-01  2.632957e-01\n",
       "IIE    9.858528e-04  8.519131e-06  3.940350e-04\n",
       "III    2.256859e-01  1.487806e-01  2.979288e-01\n",
       "Pop    1.311176e-01  6.438092e-02  1.587200e-01\n",
       "UUE    6.197397e-07  1.145954e-14  2.783018e-07"
      ]
     },
     "execution_count": 17,
     "metadata": {},
     "output_type": "execute_result"
    }
   ],
   "source": [
    "rlsum = rec_results.list_summary('model')['mean'].unstack()\n",
    "rlsum"
   ]
  },
  {
   "cell_type": "code",
   "execution_count": 18,
   "id": "5582d5d8",
   "metadata": {
    "execution": {
     "iopub.execute_input": "2024-12-19T21:21:14.714065Z",
     "iopub.status.busy": "2024-12-19T21:21:14.713978Z",
     "iopub.status.idle": "2024-12-19T21:21:14.716285Z",
     "shell.execute_reply": "2024-12-19T21:21:14.716002Z"
    },
    "papermill": {
     "duration": 0.00518,
     "end_time": "2024-12-19T21:21:14.716870",
     "exception": false,
     "start_time": "2024-12-19T21:21:14.711690",
     "status": "completed"
    },
    "tags": []
   },
   "outputs": [],
   "source": [
    "rlsum.to_json(f'eval-metrics.{dataset}.json', orient='index')"
   ]
  }
 ],
 "metadata": {
  "jupytext": {
   "formats": "ipynb,md",
   "notebook_metadata_filter": "split_at_heading"
  },
  "kernelspec": {
   "display_name": "Python 3 (ipykernel)",
   "language": "python",
   "name": "python3"
  },
  "language_info": {
   "codemirror_mode": {
    "name": "ipython",
    "version": 3
   },
   "file_extension": ".py",
   "mimetype": "text/x-python",
   "name": "python",
   "nbconvert_exporter": "python",
   "pygments_lexer": "ipython3",
   "version": "3.12.8"
  },
  "papermill": {
   "default_parameters": {},
   "duration": 235.560892,
   "end_time": "2024-12-19T21:21:17.434102",
   "environment_variables": {},
   "exception": null,
   "input_path": "eval-report.ipynb",
   "output_path": "eval-report.ml25m.ipynb",
   "parameters": {
    "dataset": "ml25m"
   },
   "start_time": "2024-12-19T21:17:21.873210",
   "version": "2.6.0"
  },
  "split_at_heading": true
 },
 "nbformat": 4,
 "nbformat_minor": 5
}