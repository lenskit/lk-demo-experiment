{
 "cells": [
  {
   "cell_type": "markdown",
   "id": "7291eba0",
   "metadata": {
    "papermill": {
     "duration": 0.0107,
     "end_time": "2024-12-17T17:38:02.219907",
     "exception": false,
     "start_time": "2024-12-17T17:38:02.209207",
     "status": "completed"
    },
    "tags": []
   },
   "source": [
    "# Evaluation Analysis for Recommender Output"
   ]
  },
  {
   "cell_type": "markdown",
   "id": "872010be",
   "metadata": {
    "papermill": {
     "duration": 0.001032,
     "end_time": "2024-12-17T17:38:02.222294",
     "exception": false,
     "start_time": "2024-12-17T17:38:02.221262",
     "status": "completed"
    },
    "tags": []
   },
   "source": [
    "In this section we will analyze and compare the generated recommendations and predictions from a predefined list of algorithms with the goal of assessing the performance of each algorithm with respect to a metric. In other words, we would rank the algorithms for each metric considered with respect to performance."
   ]
  },
  {
   "cell_type": "markdown",
   "id": "aaaf15df",
   "metadata": {
    "papermill": {
     "duration": 0.001019,
     "end_time": "2024-12-17T17:38:02.224394",
     "exception": false,
     "start_time": "2024-12-17T17:38:02.223375",
     "status": "completed"
    },
    "tags": []
   },
   "source": [
    "## Setup"
   ]
  },
  {
   "cell_type": "markdown",
   "id": "8684b9cf",
   "metadata": {
    "papermill": {
     "duration": 0.001021,
     "end_time": "2024-12-17T17:38:02.226488",
     "exception": false,
     "start_time": "2024-12-17T17:38:02.225467",
     "status": "completed"
    },
    "tags": []
   },
   "source": [
    "Below are the list of packages required to successfully run the analysis. They are divided into partitions to signify their specific task.<br>\n",
    "We need the pathlib package for working with files and folders"
   ]
  },
  {
   "cell_type": "code",
   "execution_count": 1,
   "id": "ee069941",
   "metadata": {
    "execution": {
     "iopub.execute_input": "2024-12-17T17:38:02.229165Z",
     "iopub.status.busy": "2024-12-17T17:38:02.229025Z",
     "iopub.status.idle": "2024-12-17T17:38:02.231577Z",
     "shell.execute_reply": "2024-12-17T17:38:02.231148Z"
    },
    "papermill": {
     "duration": 0.004509,
     "end_time": "2024-12-17T17:38:02.232004",
     "exception": false,
     "start_time": "2024-12-17T17:38:02.227495",
     "status": "completed"
    },
    "tags": []
   },
   "outputs": [],
   "source": [
    "from pathlib import Path\n",
    "import json"
   ]
  },
  {
   "cell_type": "markdown",
   "id": "50590acc",
   "metadata": {
    "papermill": {
     "duration": 0.001082,
     "end_time": "2024-12-17T17:38:02.234592",
     "exception": false,
     "start_time": "2024-12-17T17:38:02.233510",
     "status": "completed"
    },
    "tags": []
   },
   "source": [
    "We would use the pandas for analyzing and manipulating our data while seaborn and matplotlib are used for data visualization. statsmodels.graphics.gofplots and scipy.stats.shapiro are used for normality check. Scipy.stats.friedmanchisquare is a non-parametric test used to determine the statistical significance in metric results and the wilcoxon test is used for pairwise comparison of sample data."
   ]
  },
  {
   "cell_type": "code",
   "execution_count": 2,
   "id": "d40cc792",
   "metadata": {
    "execution": {
     "iopub.execute_input": "2024-12-17T17:38:02.237275Z",
     "iopub.status.busy": "2024-12-17T17:38:02.237025Z",
     "iopub.status.idle": "2024-12-17T17:38:02.690649Z",
     "shell.execute_reply": "2024-12-17T17:38:02.690267Z"
    },
    "lines_to_next_cell": 2,
    "papermill": {
     "duration": 0.455816,
     "end_time": "2024-12-17T17:38:02.691478",
     "exception": false,
     "start_time": "2024-12-17T17:38:02.235662",
     "status": "completed"
    },
    "tags": []
   },
   "outputs": [],
   "source": [
    "import pandas as pd\n",
    "import seaborn as sns\n",
    "import matplotlib.pyplot as plt\n",
    "from statsmodels.graphics.gofplots import qqplot\n",
    "from scipy.stats import shapiro\n",
    "from scipy.stats import friedmanchisquare, wilcoxon\n",
    "from itertools import combinations"
   ]
  },
  {
   "cell_type": "markdown",
   "id": "76360899",
   "metadata": {
    "papermill": {
     "duration": 0.008779,
     "end_time": "2024-12-17T17:38:02.701660",
     "exception": false,
     "start_time": "2024-12-17T17:38:02.692881",
     "status": "completed"
    },
    "tags": []
   },
   "source": [
    "Import the LensKit metrics for analysis:"
   ]
  },
  {
   "cell_type": "code",
   "execution_count": 3,
   "id": "9f0614f8",
   "metadata": {
    "execution": {
     "iopub.execute_input": "2024-12-17T17:38:02.704626Z",
     "iopub.status.busy": "2024-12-17T17:38:02.704498Z",
     "iopub.status.idle": "2024-12-17T17:38:03.352993Z",
     "shell.execute_reply": "2024-12-17T17:38:03.352577Z"
    },
    "papermill": {
     "duration": 0.651037,
     "end_time": "2024-12-17T17:38:03.354018",
     "exception": false,
     "start_time": "2024-12-17T17:38:02.702981",
     "status": "completed"
    },
    "tags": []
   },
   "outputs": [],
   "source": [
    "from lenskit.data import ItemListCollection, UserIDKey\n",
    "from lenskit.metrics import RunAnalysis, RMSE, NDCG, RecipRank, RBP"
   ]
  },
  {
   "cell_type": "markdown",
   "id": "44472f41",
   "metadata": {
    "papermill": {
     "duration": 0.009174,
     "end_time": "2024-12-17T17:38:03.365768",
     "exception": false,
     "start_time": "2024-12-17T17:38:03.356594",
     "status": "completed"
    },
    "tags": []
   },
   "source": [
    "## Load Data\n",
    "\n",
    "The recommendations are in `runs`, and we will need to reassemble the test data from `test`."
   ]
  },
  {
   "cell_type": "code",
   "execution_count": 4,
   "id": "a854029a",
   "metadata": {
    "execution": {
     "iopub.execute_input": "2024-12-17T17:38:03.369240Z",
     "iopub.status.busy": "2024-12-17T17:38:03.369152Z",
     "iopub.status.idle": "2024-12-17T17:38:03.370862Z",
     "shell.execute_reply": "2024-12-17T17:38:03.370578Z"
    },
    "papermill": {
     "duration": 0.003925,
     "end_time": "2024-12-17T17:38:03.371381",
     "exception": false,
     "start_time": "2024-12-17T17:38:03.367456",
     "status": "completed"
    },
    "tags": [
     "parameters"
    ]
   },
   "outputs": [],
   "source": [
    "dataset = \"ml100k\""
   ]
  },
  {
   "cell_type": "code",
   "execution_count": 5,
   "id": "c5bf6a43",
   "metadata": {
    "execution": {
     "iopub.execute_input": "2024-12-17T17:38:03.374328Z",
     "iopub.status.busy": "2024-12-17T17:38:03.374253Z",
     "iopub.status.idle": "2024-12-17T17:38:03.375580Z",
     "shell.execute_reply": "2024-12-17T17:38:03.375447Z"
    },
    "papermill": {
     "duration": 0.003381,
     "end_time": "2024-12-17T17:38:03.376084",
     "exception": false,
     "start_time": "2024-12-17T17:38:03.372703",
     "status": "completed"
    },
    "tags": [
     "injected-parameters"
    ]
   },
   "outputs": [],
   "source": [
    "# Parameters\n",
    "dataset = \"ml25m\"\n"
   ]
  },
  {
   "cell_type": "code",
   "execution_count": 6,
   "id": "58b1ab64",
   "metadata": {
    "execution": {
     "iopub.execute_input": "2024-12-17T17:38:03.379438Z",
     "iopub.status.busy": "2024-12-17T17:38:03.379368Z",
     "iopub.status.idle": "2024-12-17T17:38:03.380586Z",
     "shell.execute_reply": "2024-12-17T17:38:03.380453Z"
    },
    "papermill": {
     "duration": 0.003861,
     "end_time": "2024-12-17T17:38:03.381116",
     "exception": false,
     "start_time": "2024-12-17T17:38:03.377255",
     "status": "completed"
    },
    "tags": []
   },
   "outputs": [],
   "source": [
    "output_root = Path(\"runs\")"
   ]
  },
  {
   "cell_type": "code",
   "execution_count": 7,
   "id": "291fdc84",
   "metadata": {
    "execution": {
     "iopub.execute_input": "2024-12-17T17:38:03.383692Z",
     "iopub.status.busy": "2024-12-17T17:38:03.383632Z",
     "iopub.status.idle": "2024-12-17T17:38:03.385026Z",
     "shell.execute_reply": "2024-12-17T17:38:03.384879Z"
    },
    "papermill": {
     "duration": 0.003177,
     "end_time": "2024-12-17T17:38:03.385424",
     "exception": false,
     "start_time": "2024-12-17T17:38:03.382247",
     "status": "completed"
    },
    "tags": []
   },
   "outputs": [],
   "source": [
    "dirs = [fld for fld in output_root.glob(f'{dataset}-*')]"
   ]
  },
  {
   "cell_type": "code",
   "execution_count": 8,
   "id": "e47fe658",
   "metadata": {
    "execution": {
     "iopub.execute_input": "2024-12-17T17:38:03.388007Z",
     "iopub.status.busy": "2024-12-17T17:38:03.387940Z",
     "iopub.status.idle": "2024-12-17T17:38:22.044407Z",
     "shell.execute_reply": "2024-12-17T17:38:22.043954Z"
    },
    "papermill": {
     "duration": 18.658678,
     "end_time": "2024-12-17T17:38:22.045258",
     "exception": false,
     "start_time": "2024-12-17T17:38:03.386580",
     "status": "completed"
    },
    "tags": []
   },
   "outputs": [],
   "source": [
    "recs = ItemListCollection(['model', 'user_id'], index=False)\n",
    "for fld in dirs:\n",
    "    for file in fld.glob(\"recs-*\"):\n",
    "        rec = ItemListCollection.load_parquet(file)\n",
    "        recs.add_from(rec, model=fld.name.split(\"-\")[1])"
   ]
  },
  {
   "cell_type": "code",
   "execution_count": 9,
   "id": "36d675e6",
   "metadata": {
    "execution": {
     "iopub.execute_input": "2024-12-17T17:38:22.056649Z",
     "iopub.status.busy": "2024-12-17T17:38:22.056550Z",
     "iopub.status.idle": "2024-12-17T17:38:22.147254Z",
     "shell.execute_reply": "2024-12-17T17:38:22.146849Z"
    },
    "papermill": {
     "duration": 0.101146,
     "end_time": "2024-12-17T17:38:22.147899",
     "exception": false,
     "start_time": "2024-12-17T17:38:22.046753",
     "status": "completed"
    },
    "tags": []
   },
   "outputs": [
    {
     "data": {
      "text/plain": [
       "['ALS', 'Bias', 'IALS', 'IIE', 'III', 'Pop', 'UUE']"
      ]
     },
     "execution_count": 9,
     "metadata": {},
     "output_type": "execute_result"
    }
   ],
   "source": [
    "rec_algos = sorted(set(a for (a, _u) in recs.keys()))\n",
    "rec_algos"
   ]
  },
  {
   "cell_type": "code",
   "execution_count": 10,
   "id": "530bbfda",
   "metadata": {
    "execution": {
     "iopub.execute_input": "2024-12-17T17:38:22.151248Z",
     "iopub.status.busy": "2024-12-17T17:38:22.151131Z",
     "iopub.status.idle": "2024-12-17T17:38:37.993470Z",
     "shell.execute_reply": "2024-12-17T17:38:37.993047Z"
    },
    "papermill": {
     "duration": 15.844932,
     "end_time": "2024-12-17T17:38:37.994308",
     "exception": false,
     "start_time": "2024-12-17T17:38:22.149376",
     "status": "completed"
    },
    "tags": []
   },
   "outputs": [],
   "source": [
    "preds = ItemListCollection(['model', 'user_id'], index=False)\n",
    "for fld in dirs:\n",
    "    for file in fld.glob(\"pred-*\"):\n",
    "        pred = ItemListCollection.load_parquet(file)\n",
    "        preds.add_from(pred, model=fld.name.split(\"-\")[1])"
   ]
  },
  {
   "cell_type": "markdown",
   "id": "737fbf6f",
   "metadata": {
    "papermill": {
     "duration": 0.008998,
     "end_time": "2024-12-17T17:38:38.004816",
     "exception": false,
     "start_time": "2024-12-17T17:38:37.995818",
     "status": "completed"
    },
    "tags": []
   },
   "source": [
    "We need to load the test data so that we have the ground truths for computing accuracy"
   ]
  },
  {
   "cell_type": "code",
   "execution_count": 11,
   "id": "094c6750",
   "metadata": {
    "execution": {
     "iopub.execute_input": "2024-12-17T17:38:38.008135Z",
     "iopub.status.busy": "2024-12-17T17:38:38.008041Z",
     "iopub.status.idle": "2024-12-17T17:38:38.009963Z",
     "shell.execute_reply": "2024-12-17T17:38:38.009702Z"
    },
    "papermill": {
     "duration": 0.004283,
     "end_time": "2024-12-17T17:38:38.010475",
     "exception": false,
     "start_time": "2024-12-17T17:38:38.006192",
     "status": "completed"
    },
    "tags": []
   },
   "outputs": [],
   "source": [
    "split_root = Path(\"data-split\")\n",
    "split_dir = split_root / dataset"
   ]
  },
  {
   "cell_type": "code",
   "execution_count": 12,
   "id": "b6b27b83",
   "metadata": {
    "execution": {
     "iopub.execute_input": "2024-12-17T17:38:38.013375Z",
     "iopub.status.busy": "2024-12-17T17:38:38.013300Z",
     "iopub.status.idle": "2024-12-17T17:38:46.474242Z",
     "shell.execute_reply": "2024-12-17T17:38:46.473818Z"
    },
    "papermill": {
     "duration": 8.46324,
     "end_time": "2024-12-17T17:38:46.475001",
     "exception": false,
     "start_time": "2024-12-17T17:38:38.011761",
     "status": "completed"
    },
    "tags": []
   },
   "outputs": [],
   "source": [
    "test = ItemListCollection(UserIDKey)\n",
    "for file in split_dir.glob(\"test-*.parquet\"):\n",
    "    df = pd.read_parquet(file)\n",
    "    part = ItemListCollection.from_df(df, UserIDKey)\n",
    "    test.add_from(part)"
   ]
  },
  {
   "cell_type": "markdown",
   "id": "fed8bea2",
   "metadata": {
    "papermill": {
     "duration": 0.009053,
     "end_time": "2024-12-17T17:38:46.485622",
     "exception": false,
     "start_time": "2024-12-17T17:38:46.476569",
     "status": "completed"
    },
    "tags": []
   },
   "source": [
    "## Top-N Metrics\n",
    "\n",
    "`RunListAnalysis` computes metrics for recommendation results and takes care of\n",
    "matching recommendations and ground truth."
   ]
  },
  {
   "cell_type": "code",
   "execution_count": 13,
   "id": "7b68ce95",
   "metadata": {
    "execution": {
     "iopub.execute_input": "2024-12-17T17:38:46.488938Z",
     "iopub.status.busy": "2024-12-17T17:38:46.488851Z",
     "iopub.status.idle": "2024-12-17T17:40:00.002028Z",
     "shell.execute_reply": "2024-12-17T17:40:00.001839Z"
    },
    "papermill": {
     "duration": 73.516799,
     "end_time": "2024-12-17T17:40:00.003834",
     "exception": false,
     "start_time": "2024-12-17T17:38:46.487035",
     "status": "completed"
    },
    "tags": []
   },
   "outputs": [
    {
     "name": "stderr",
     "output_type": "stream",
     "text": [
      "/home/mde48/lenskit/lkpy/lenskit/lenskit/metrics/bulk.py:121: FutureWarning: The previous implementation of stack is deprecated and will be removed in a future version of pandas. See the What's New notes for pandas 2.1.0 for details. Specify future_stack=True to adopt the new implementation and silence this warning.\n",
      "  df = scores.groupby(list(keys)).agg([\"mean\", \"median\", \"std\"]).stack(level=0)\n"
     ]
    },
    {
     "data": {
      "text/html": [
       "<div>\n",
       "<style scoped>\n",
       "    .dataframe tbody tr th:only-of-type {\n",
       "        vertical-align: middle;\n",
       "    }\n",
       "\n",
       "    .dataframe tbody tr th {\n",
       "        vertical-align: top;\n",
       "    }\n",
       "\n",
       "    .dataframe thead th {\n",
       "        text-align: right;\n",
       "    }\n",
       "</style>\n",
       "<table border=\"1\" class=\"dataframe\">\n",
       "  <thead>\n",
       "    <tr style=\"text-align: right;\">\n",
       "      <th></th>\n",
       "      <th></th>\n",
       "      <th>mean</th>\n",
       "      <th>median</th>\n",
       "      <th>std</th>\n",
       "    </tr>\n",
       "    <tr>\n",
       "      <th>model</th>\n",
       "      <th></th>\n",
       "      <th></th>\n",
       "      <th></th>\n",
       "      <th></th>\n",
       "    </tr>\n",
       "  </thead>\n",
       "  <tbody>\n",
       "    <tr>\n",
       "      <th rowspan=\"3\" valign=\"top\">ALS</th>\n",
       "      <th>NDCG</th>\n",
       "      <td>2.000376e-02</td>\n",
       "      <td>0.000000e+00</td>\n",
       "      <td>4.793995e-02</td>\n",
       "    </tr>\n",
       "    <tr>\n",
       "      <th>RBP</th>\n",
       "      <td>3.453449e-03</td>\n",
       "      <td>0.000000e+00</td>\n",
       "      <td>3.146400e-02</td>\n",
       "    </tr>\n",
       "    <tr>\n",
       "      <th>RecipRank</th>\n",
       "      <td>1.716016e-02</td>\n",
       "      <td>0.000000e+00</td>\n",
       "      <td>7.080169e-02</td>\n",
       "    </tr>\n",
       "    <tr>\n",
       "      <th rowspan=\"3\" valign=\"top\">Bias</th>\n",
       "      <th>NDCG</th>\n",
       "      <td>3.506950e-02</td>\n",
       "      <td>0.000000e+00</td>\n",
       "      <td>5.892166e-02</td>\n",
       "    </tr>\n",
       "    <tr>\n",
       "      <th>RBP</th>\n",
       "      <td>5.963433e-03</td>\n",
       "      <td>0.000000e+00</td>\n",
       "      <td>2.697485e-02</td>\n",
       "    </tr>\n",
       "    <tr>\n",
       "      <th>RecipRank</th>\n",
       "      <td>3.000314e-02</td>\n",
       "      <td>0.000000e+00</td>\n",
       "      <td>7.475358e-02</td>\n",
       "    </tr>\n",
       "    <tr>\n",
       "      <th rowspan=\"3\" valign=\"top\">IALS</th>\n",
       "      <th>NDCG</th>\n",
       "      <td>2.612061e-01</td>\n",
       "      <td>2.156461e-01</td>\n",
       "      <td>1.928196e-01</td>\n",
       "    </tr>\n",
       "    <tr>\n",
       "      <th>RBP</th>\n",
       "      <td>1.213516e-01</td>\n",
       "      <td>1.960754e-03</td>\n",
       "      <td>2.098858e-01</td>\n",
       "    </tr>\n",
       "    <tr>\n",
       "      <th>RecipRank</th>\n",
       "      <td>2.642680e-01</td>\n",
       "      <td>1.111111e-01</td>\n",
       "      <td>3.272282e-01</td>\n",
       "    </tr>\n",
       "    <tr>\n",
       "      <th rowspan=\"3\" valign=\"top\">IIE</th>\n",
       "      <th>NDCG</th>\n",
       "      <td>1.013257e-03</td>\n",
       "      <td>0.000000e+00</td>\n",
       "      <td>8.815486e-03</td>\n",
       "    </tr>\n",
       "    <tr>\n",
       "      <th>RBP</th>\n",
       "      <td>1.773865e-05</td>\n",
       "      <td>0.000000e+00</td>\n",
       "      <td>1.561459e-03</td>\n",
       "    </tr>\n",
       "    <tr>\n",
       "      <th>RecipRank</th>\n",
       "      <td>4.267859e-04</td>\n",
       "      <td>0.000000e+00</td>\n",
       "      <td>5.590061e-03</td>\n",
       "    </tr>\n",
       "    <tr>\n",
       "      <th rowspan=\"3\" valign=\"top\">III</th>\n",
       "      <th>NDCG</th>\n",
       "      <td>2.258910e-01</td>\n",
       "      <td>1.628403e-01</td>\n",
       "      <td>2.059054e-01</td>\n",
       "    </tr>\n",
       "    <tr>\n",
       "      <th>RBP</th>\n",
       "      <td>1.491028e-01</td>\n",
       "      <td>9.765923e-04</td>\n",
       "      <td>2.360664e-01</td>\n",
       "    </tr>\n",
       "    <tr>\n",
       "      <th>RecipRank</th>\n",
       "      <td>2.984394e-01</td>\n",
       "      <td>1.000000e-01</td>\n",
       "      <td>3.728588e-01</td>\n",
       "    </tr>\n",
       "    <tr>\n",
       "      <th rowspan=\"3\" valign=\"top\">Pop</th>\n",
       "      <th>NDCG</th>\n",
       "      <td>1.312487e-01</td>\n",
       "      <td>8.935088e-02</td>\n",
       "      <td>1.418092e-01</td>\n",
       "    </tr>\n",
       "    <tr>\n",
       "      <th>RBP</th>\n",
       "      <td>6.467797e-02</td>\n",
       "      <td>1.490116e-08</td>\n",
       "      <td>1.535888e-01</td>\n",
       "    </tr>\n",
       "    <tr>\n",
       "      <th>RecipRank</th>\n",
       "      <td>1.589888e-01</td>\n",
       "      <td>3.846154e-02</td>\n",
       "      <td>2.744664e-01</td>\n",
       "    </tr>\n",
       "    <tr>\n",
       "      <th rowspan=\"3\" valign=\"top\">UUE</th>\n",
       "      <th>NDCG</th>\n",
       "      <td>3.183392e-07</td>\n",
       "      <td>0.000000e+00</td>\n",
       "      <td>1.283428e-04</td>\n",
       "    </tr>\n",
       "    <tr>\n",
       "      <th>RBP</th>\n",
       "      <td>6.994348e-19</td>\n",
       "      <td>0.000000e+00</td>\n",
       "      <td>2.819868e-16</td>\n",
       "    </tr>\n",
       "    <tr>\n",
       "      <th>RecipRank</th>\n",
       "      <td>1.430766e-07</td>\n",
       "      <td>0.000000e+00</td>\n",
       "      <td>5.768330e-05</td>\n",
       "    </tr>\n",
       "  </tbody>\n",
       "</table>\n",
       "</div>"
      ],
      "text/plain": [
       "                         mean        median           std\n",
       "model                                                    \n",
       "ALS   NDCG       2.000376e-02  0.000000e+00  4.793995e-02\n",
       "      RBP        3.453449e-03  0.000000e+00  3.146400e-02\n",
       "      RecipRank  1.716016e-02  0.000000e+00  7.080169e-02\n",
       "Bias  NDCG       3.506950e-02  0.000000e+00  5.892166e-02\n",
       "      RBP        5.963433e-03  0.000000e+00  2.697485e-02\n",
       "      RecipRank  3.000314e-02  0.000000e+00  7.475358e-02\n",
       "IALS  NDCG       2.612061e-01  2.156461e-01  1.928196e-01\n",
       "      RBP        1.213516e-01  1.960754e-03  2.098858e-01\n",
       "      RecipRank  2.642680e-01  1.111111e-01  3.272282e-01\n",
       "IIE   NDCG       1.013257e-03  0.000000e+00  8.815486e-03\n",
       "      RBP        1.773865e-05  0.000000e+00  1.561459e-03\n",
       "      RecipRank  4.267859e-04  0.000000e+00  5.590061e-03\n",
       "III   NDCG       2.258910e-01  1.628403e-01  2.059054e-01\n",
       "      RBP        1.491028e-01  9.765923e-04  2.360664e-01\n",
       "      RecipRank  2.984394e-01  1.000000e-01  3.728588e-01\n",
       "Pop   NDCG       1.312487e-01  8.935088e-02  1.418092e-01\n",
       "      RBP        6.467797e-02  1.490116e-08  1.535888e-01\n",
       "      RecipRank  1.589888e-01  3.846154e-02  2.744664e-01\n",
       "UUE   NDCG       3.183392e-07  0.000000e+00  1.283428e-04\n",
       "      RBP        6.994348e-19  0.000000e+00  2.819868e-16\n",
       "      RecipRank  1.430766e-07  0.000000e+00  5.768330e-05"
      ]
     },
     "execution_count": 13,
     "metadata": {},
     "output_type": "execute_result"
    }
   ],
   "source": [
    "ra = RunAnalysis()\n",
    "\n",
    "ra.add_metric(NDCG())\n",
    "ra.add_metric(RecipRank())\n",
    "ra.add_metric(RBP())\n",
    "\n",
    "rec_results = ra.compute(recs, test)\n",
    "rec_results.list_summary('model')"
   ]
  },
  {
   "cell_type": "markdown",
   "id": "8cba4e78",
   "metadata": {
    "papermill": {
     "duration": 0.001465,
     "end_time": "2024-12-17T17:40:00.013803",
     "exception": false,
     "start_time": "2024-12-17T17:40:00.012338",
     "status": "completed"
    },
    "tags": []
   },
   "source": [
    "We can reshape the list metrics and plot them:"
   ]
  },
  {
   "cell_type": "code",
   "execution_count": 14,
   "id": "238604c3",
   "metadata": {
    "execution": {
     "iopub.execute_input": "2024-12-17T17:40:00.017043Z",
     "iopub.status.busy": "2024-12-17T17:40:00.016954Z",
     "iopub.status.idle": "2024-12-17T17:40:11.834314Z",
     "shell.execute_reply": "2024-12-17T17:40:11.833934Z"
    },
    "papermill": {
     "duration": 11.819756,
     "end_time": "2024-12-17T17:40:11.834964",
     "exception": false,
     "start_time": "2024-12-17T17:40:00.015208",
     "status": "completed"
    },
    "tags": []
   },
   "outputs": [
    {
     "data": {
      "image/png": "[encoded data removed]",
      "text/plain": [
       "<Figure size 1511.11x500 with 3 Axes>"
      ]
     },
     "metadata": {},
     "output_type": "display_data"
    }
   ],
   "source": [
    "metrics = rec_results.list_metrics()\n",
    "metrics = metrics.melt(var_name='metric', ignore_index=False).reset_index()\n",
    "sns.catplot(metrics, x='model', y='value', col='metric', kind='bar')\n",
    "plt.show()"
   ]
  },
  {
   "cell_type": "markdown",
   "id": "d6f202d4",
   "metadata": {
    "papermill": {
     "duration": 0.001551,
     "end_time": "2024-12-17T17:40:11.838192",
     "exception": false,
     "start_time": "2024-12-17T17:40:11.836641",
     "status": "completed"
    },
    "tags": []
   },
   "source": [
    "## Prediction RMSE\n",
    "\n",
    "We will also look at the prediction RMSE."
   ]
  },
  {
   "cell_type": "code",
   "execution_count": 15,
   "id": "c78c5ff6",
   "metadata": {
    "execution": {
     "iopub.execute_input": "2024-12-17T17:40:11.841617Z",
     "iopub.status.busy": "2024-12-17T17:40:11.841540Z",
     "iopub.status.idle": "2024-12-17T17:41:45.695003Z",
     "shell.execute_reply": "2024-12-17T17:41:45.694836Z"
    },
    "papermill": {
     "duration": 93.857504,
     "end_time": "2024-12-17T17:41:45.697218",
     "exception": false,
     "start_time": "2024-12-17T17:40:11.839714",
     "status": "completed"
    },
    "tags": []
   },
   "outputs": [
    {
     "name": "stderr",
     "output_type": "stream",
     "text": [
      "/home/mde48/lenskit/lkpy/lenskit/lenskit/metrics/bulk.py:121: FutureWarning: The previous implementation of stack is deprecated and will be removed in a future version of pandas. See the What's New notes for pandas 2.1.0 for details. Specify future_stack=True to adopt the new implementation and silence this warning.\n",
      "  df = scores.groupby(list(keys)).agg([\"mean\", \"median\", \"std\"]).stack(level=0)\n"
     ]
    },
    {
     "data": {
      "text/html": [
       "<div>\n",
       "<style scoped>\n",
       "    .dataframe tbody tr th:only-of-type {\n",
       "        vertical-align: middle;\n",
       "    }\n",
       "\n",
       "    .dataframe tbody tr th {\n",
       "        vertical-align: top;\n",
       "    }\n",
       "\n",
       "    .dataframe thead th {\n",
       "        text-align: right;\n",
       "    }\n",
       "</style>\n",
       "<table border=\"1\" class=\"dataframe\">\n",
       "  <thead>\n",
       "    <tr style=\"text-align: right;\">\n",
       "      <th></th>\n",
       "      <th></th>\n",
       "      <th>mean</th>\n",
       "      <th>median</th>\n",
       "      <th>std</th>\n",
       "    </tr>\n",
       "    <tr>\n",
       "      <th>model</th>\n",
       "      <th></th>\n",
       "      <th></th>\n",
       "      <th></th>\n",
       "      <th></th>\n",
       "    </tr>\n",
       "  </thead>\n",
       "  <tbody>\n",
       "    <tr>\n",
       "      <th>ALS</th>\n",
       "      <th>RMSE</th>\n",
       "      <td>0.770816</td>\n",
       "      <td>0.707655</td>\n",
       "      <td>0.353444</td>\n",
       "    </tr>\n",
       "    <tr>\n",
       "      <th>Bias</th>\n",
       "      <th>RMSE</th>\n",
       "      <td>0.817549</td>\n",
       "      <td>0.752898</td>\n",
       "      <td>0.370980</td>\n",
       "    </tr>\n",
       "    <tr>\n",
       "      <th>IIE</th>\n",
       "      <th>RMSE</th>\n",
       "      <td>0.755559</td>\n",
       "      <td>0.693235</td>\n",
       "      <td>0.353544</td>\n",
       "    </tr>\n",
       "    <tr>\n",
       "      <th>UUE</th>\n",
       "      <th>RMSE</th>\n",
       "      <td>0.781587</td>\n",
       "      <td>0.717573</td>\n",
       "      <td>0.359801</td>\n",
       "    </tr>\n",
       "  </tbody>\n",
       "</table>\n",
       "</div>"
      ],
      "text/plain": [
       "                mean    median       std\n",
       "model                                   \n",
       "ALS   RMSE  0.770816  0.707655  0.353444\n",
       "Bias  RMSE  0.817549  0.752898  0.370980\n",
       "IIE   RMSE  0.755559  0.693235  0.353544\n",
       "UUE   RMSE  0.781587  0.717573  0.359801"
      ]
     },
     "execution_count": 15,
     "metadata": {},
     "output_type": "execute_result"
    }
   ],
   "source": [
    "pa = RunAnalysis()\n",
    "\n",
    "pa.add_metric(RMSE(missing_scores='ignore', missing_truth='ignore'))\n",
    "\n",
    "pred_results = pa.compute(preds, test)\n",
    "pred_results.list_summary('model')"
   ]
  },
  {
   "cell_type": "code",
   "execution_count": 16,
   "id": "929287d6",
   "metadata": {
    "execution": {
     "iopub.execute_input": "2024-12-17T17:41:45.707664Z",
     "iopub.status.busy": "2024-12-17T17:41:45.707587Z",
     "iopub.status.idle": "2024-12-17T17:41:47.823040Z",
     "shell.execute_reply": "2024-12-17T17:41:47.822794Z"
    },
    "papermill": {
     "duration": 2.117907,
     "end_time": "2024-12-17T17:41:47.823604",
     "exception": false,
     "start_time": "2024-12-17T17:41:45.705697",
     "status": "completed"
    },
    "tags": []
   },
   "outputs": [
    {
     "data": {
      "image/png": "[encoded data removed]",
      "text/plain": [
       "<Figure size 511.111x500 with 1 Axes>"
      ]
     },
     "metadata": {},
     "output_type": "display_data"
    }
   ],
   "source": [
    "sns.catplot(pred_results.list_metrics().reset_index(), x='model', y='RMSE', kind='bar')\n",
    "plt.show()"
   ]
  },
  {
   "cell_type": "markdown",
   "id": "0caac7ca",
   "metadata": {
    "papermill": {
     "duration": 0.008973,
     "end_time": "2024-12-17T17:41:47.834359",
     "exception": false,
     "start_time": "2024-12-17T17:41:47.825386",
     "status": "completed"
    },
    "tags": []
   },
   "source": [
    "## Save Metrics\n",
    "\n",
    "We'll now save the metrics to a file."
   ]
  },
  {
   "cell_type": "code",
   "execution_count": 17,
   "id": "4e43b021",
   "metadata": {
    "execution": {
     "iopub.execute_input": "2024-12-17T17:41:47.838155Z",
     "iopub.status.busy": "2024-12-17T17:41:47.838078Z",
     "iopub.status.idle": "2024-12-17T17:41:47.924622Z",
     "shell.execute_reply": "2024-12-17T17:41:47.924200Z"
    },
    "papermill": {
     "duration": 0.089285,
     "end_time": "2024-12-17T17:41:47.925261",
     "exception": false,
     "start_time": "2024-12-17T17:41:47.835976",
     "status": "completed"
    },
    "tags": []
   },
   "outputs": [
    {
     "name": "stderr",
     "output_type": "stream",
     "text": [
      "/home/mde48/lenskit/lkpy/lenskit/lenskit/metrics/bulk.py:121: FutureWarning: The previous implementation of stack is deprecated and will be removed in a future version of pandas. See the What's New notes for pandas 2.1.0 for details. Specify future_stack=True to adopt the new implementation and silence this warning.\n",
      "  df = scores.groupby(list(keys)).agg([\"mean\", \"median\", \"std\"]).stack(level=0)\n"
     ]
    },
    {
     "data": {
      "text/html": [
       "<div>\n",
       "<style scoped>\n",
       "    .dataframe tbody tr th:only-of-type {\n",
       "        vertical-align: middle;\n",
       "    }\n",
       "\n",
       "    .dataframe tbody tr th {\n",
       "        vertical-align: top;\n",
       "    }\n",
       "\n",
       "    .dataframe thead th {\n",
       "        text-align: right;\n",
       "    }\n",
       "</style>\n",
       "<table border=\"1\" class=\"dataframe\">\n",
       "  <thead>\n",
       "    <tr style=\"text-align: right;\">\n",
       "      <th></th>\n",
       "      <th>NDCG</th>\n",
       "      <th>RBP</th>\n",
       "      <th>RecipRank</th>\n",
       "    </tr>\n",
       "    <tr>\n",
       "      <th>model</th>\n",
       "      <th></th>\n",
       "      <th></th>\n",
       "      <th></th>\n",
       "    </tr>\n",
       "  </thead>\n",
       "  <tbody>\n",
       "    <tr>\n",
       "      <th>ALS</th>\n",
       "      <td>2.000376e-02</td>\n",
       "      <td>3.453449e-03</td>\n",
       "      <td>1.716016e-02</td>\n",
       "    </tr>\n",
       "    <tr>\n",
       "      <th>Bias</th>\n",
       "      <td>3.506950e-02</td>\n",
       "      <td>5.963433e-03</td>\n",
       "      <td>3.000314e-02</td>\n",
       "    </tr>\n",
       "    <tr>\n",
       "      <th>IALS</th>\n",
       "      <td>2.612061e-01</td>\n",
       "      <td>1.213516e-01</td>\n",
       "      <td>2.642680e-01</td>\n",
       "    </tr>\n",
       "    <tr>\n",
       "      <th>IIE</th>\n",
       "      <td>1.013257e-03</td>\n",
       "      <td>1.773865e-05</td>\n",
       "      <td>4.267859e-04</td>\n",
       "    </tr>\n",
       "    <tr>\n",
       "      <th>III</th>\n",
       "      <td>2.258910e-01</td>\n",
       "      <td>1.491028e-01</td>\n",
       "      <td>2.984394e-01</td>\n",
       "    </tr>\n",
       "    <tr>\n",
       "      <th>Pop</th>\n",
       "      <td>1.312487e-01</td>\n",
       "      <td>6.467797e-02</td>\n",
       "      <td>1.589888e-01</td>\n",
       "    </tr>\n",
       "    <tr>\n",
       "      <th>UUE</th>\n",
       "      <td>3.183392e-07</td>\n",
       "      <td>6.994348e-19</td>\n",
       "      <td>1.430766e-07</td>\n",
       "    </tr>\n",
       "  </tbody>\n",
       "</table>\n",
       "</div>"
      ],
      "text/plain": [
       "               NDCG           RBP     RecipRank\n",
       "model                                          \n",
       "ALS    2.000376e-02  3.453449e-03  1.716016e-02\n",
       "Bias   3.506950e-02  5.963433e-03  3.000314e-02\n",
       "IALS   2.612061e-01  1.213516e-01  2.642680e-01\n",
       "IIE    1.013257e-03  1.773865e-05  4.267859e-04\n",
       "III    2.258910e-01  1.491028e-01  2.984394e-01\n",
       "Pop    1.312487e-01  6.467797e-02  1.589888e-01\n",
       "UUE    3.183392e-07  6.994348e-19  1.430766e-07"
      ]
     },
     "execution_count": 17,
     "metadata": {},
     "output_type": "execute_result"
    }
   ],
   "source": [
    "rlsum = rec_results.list_summary('model')['mean'].unstack()\n",
    "rlsum"
   ]
  },
  {
   "cell_type": "code",
   "execution_count": 18,
   "id": "cae53f67",
   "metadata": {
    "execution": {
     "iopub.execute_input": "2024-12-17T17:41:47.931314Z",
     "iopub.status.busy": "2024-12-17T17:41:47.931236Z",
     "iopub.status.idle": "2024-12-17T17:41:47.933674Z",
     "shell.execute_reply": "2024-12-17T17:41:47.933528Z"
    },
    "papermill": {
     "duration": 0.007169,
     "end_time": "2024-12-17T17:41:47.934369",
     "exception": false,
     "start_time": "2024-12-17T17:41:47.927200",
     "status": "completed"
    },
    "tags": []
   },
   "outputs": [],
   "source": [
    "rlsum.to_json(f'eval-metrics.{dataset}.json', orient='index')"
   ]
  }
 ],
 "metadata": {
  "jupytext": {
   "formats": "ipynb,md",
   "notebook_metadata_filter": "split_at_heading"
  },
  "kernelspec": {
   "display_name": "Python 3 (ipykernel)",
   "language": "python",
   "name": "python3"
  },
  "language_info": {
   "codemirror_mode": {
    "name": "ipython",
    "version": 3
   },
   "file_extension": ".py",
   "mimetype": "text/x-python",
   "name": "python",
   "nbconvert_exporter": "python",
   "pygments_lexer": "ipython3",
   "version": "3.12.8"
  },
  "papermill": {
   "default_parameters": {},
   "duration": 229.124285,
   "end_time": "2024-12-17T17:41:50.652942",
   "environment_variables": {},
   "exception": null,
   "input_path": "eval-report.ipynb",
   "output_path": "eval-report.ml25m.ipynb",
   "parameters": {
    "dataset": "ml25m"
   },
   "start_time": "2024-12-17T17:38:01.528657",
   "version": "2.6.0"
  },
  "split_at_heading": true
 },
 "nbformat": 4,
 "nbformat_minor": 5
}