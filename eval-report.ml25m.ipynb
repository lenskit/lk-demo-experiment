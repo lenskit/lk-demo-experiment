{
 "cells": [
  {
   "cell_type": "markdown",
   "id": "7291eba0",
   "metadata": {
    "papermill": {
     "duration": 0.010456,
     "end_time": "2024-12-15T01:59:37.974879",
     "exception": false,
     "start_time": "2024-12-15T01:59:37.964423",
     "status": "completed"
    },
    "tags": []
   },
   "source": [
    "# Evaluation Analysis for Recommender Output"
   ]
  },
  {
   "cell_type": "markdown",
   "id": "872010be",
   "metadata": {
    "papermill": {
     "duration": 0.001053,
     "end_time": "2024-12-15T01:59:37.977229",
     "exception": false,
     "start_time": "2024-12-15T01:59:37.976176",
     "status": "completed"
    },
    "tags": []
   },
   "source": [
    "In this section we will analyze and compare the generated recommendations and predictions from a predefined list of algorithms with the goal of assessing the performance of each algorithm with respect to a metric. In other words, we would rank the algorithms for each metric considered with respect to performance."
   ]
  },
  {
   "cell_type": "markdown",
   "id": "aaaf15df",
   "metadata": {
    "papermill": {
     "duration": 0.001027,
     "end_time": "2024-12-15T01:59:37.979368",
     "exception": false,
     "start_time": "2024-12-15T01:59:37.978341",
     "status": "completed"
    },
    "tags": []
   },
   "source": [
    "## Setup"
   ]
  },
  {
   "cell_type": "markdown",
   "id": "8684b9cf",
   "metadata": {
    "papermill": {
     "duration": 0.00107,
     "end_time": "2024-12-15T01:59:37.981507",
     "exception": false,
     "start_time": "2024-12-15T01:59:37.980437",
     "status": "completed"
    },
    "tags": []
   },
   "source": [
    "Below are the list of packages required to successfully run the analysis. They are divided into partitions to signify their specific task.<br>\n",
    "We need the pathlib package for working with files and folders"
   ]
  },
  {
   "cell_type": "code",
   "execution_count": 1,
   "id": "ee069941",
   "metadata": {
    "execution": {
     "iopub.execute_input": "2024-12-15T01:59:37.984251Z",
     "iopub.status.busy": "2024-12-15T01:59:37.984109Z",
     "iopub.status.idle": "2024-12-15T01:59:37.985902Z",
     "shell.execute_reply": "2024-12-15T01:59:37.985747Z"
    },
    "papermill": {
     "duration": 0.003856,
     "end_time": "2024-12-15T01:59:37.986410",
     "exception": false,
     "start_time": "2024-12-15T01:59:37.982554",
     "status": "completed"
    },
    "tags": []
   },
   "outputs": [],
   "source": [
    "from pathlib import Path\n",
    "import json"
   ]
  },
  {
   "cell_type": "markdown",
   "id": "50590acc",
   "metadata": {
    "papermill": {
     "duration": 0.00108,
     "end_time": "2024-12-15T01:59:37.989035",
     "exception": false,
     "start_time": "2024-12-15T01:59:37.987955",
     "status": "completed"
    },
    "tags": []
   },
   "source": [
    "We would use the pandas for analyzing and manipulating our data while seaborn and matplotlib are used for data visualization. statsmodels.graphics.gofplots and scipy.stats.shapiro are used for normality check. Scipy.stats.friedmanchisquare is a non-parametric test used to determine the statistical significance in metric results and the wilcoxon test is used for pairwise comparison of sample data."
   ]
  },
  {
   "cell_type": "code",
   "execution_count": 2,
   "id": "d40cc792",
   "metadata": {
    "execution": {
     "iopub.execute_input": "2024-12-15T01:59:37.991724Z",
     "iopub.status.busy": "2024-12-15T01:59:37.991652Z",
     "iopub.status.idle": "2024-12-15T01:59:38.429963Z",
     "shell.execute_reply": "2024-12-15T01:59:38.429688Z"
    },
    "lines_to_next_cell": 2,
    "papermill": {
     "duration": 0.440707,
     "end_time": "2024-12-15T01:59:38.430835",
     "exception": false,
     "start_time": "2024-12-15T01:59:37.990128",
     "status": "completed"
    },
    "tags": []
   },
   "outputs": [],
   "source": [
    "import pandas as pd\n",
    "import seaborn as sns\n",
    "import matplotlib.pyplot as plt\n",
    "from statsmodels.graphics.gofplots import qqplot\n",
    "from scipy.stats import shapiro\n",
    "from scipy.stats import friedmanchisquare, wilcoxon\n",
    "from itertools import combinations"
   ]
  },
  {
   "cell_type": "markdown",
   "id": "76360899",
   "metadata": {
    "papermill": {
     "duration": 0.008872,
     "end_time": "2024-12-15T01:59:38.441139",
     "exception": false,
     "start_time": "2024-12-15T01:59:38.432267",
     "status": "completed"
    },
    "tags": []
   },
   "source": [
    "Import the LensKit metrics for analysis:"
   ]
  },
  {
   "cell_type": "code",
   "execution_count": 3,
   "id": "9f0614f8",
   "metadata": {
    "execution": {
     "iopub.execute_input": "2024-12-15T01:59:38.444157Z",
     "iopub.status.busy": "2024-12-15T01:59:38.444029Z",
     "iopub.status.idle": "2024-12-15T01:59:39.091559Z",
     "shell.execute_reply": "2024-12-15T01:59:39.091138Z"
    },
    "papermill": {
     "duration": 0.649987,
     "end_time": "2024-12-15T01:59:39.092412",
     "exception": false,
     "start_time": "2024-12-15T01:59:38.442425",
     "status": "completed"
    },
    "tags": []
   },
   "outputs": [],
   "source": [
    "from lenskit.data import ItemListCollection, UserIDKey\n",
    "from lenskit.metrics import RunAnalysis, RMSE, NDCG, RecipRank, RBP"
   ]
  },
  {
   "cell_type": "markdown",
   "id": "44472f41",
   "metadata": {
    "papermill": {
     "duration": 0.008902,
     "end_time": "2024-12-15T01:59:39.102720",
     "exception": false,
     "start_time": "2024-12-15T01:59:39.093818",
     "status": "completed"
    },
    "tags": []
   },
   "source": [
    "## Load Data\n",
    "\n",
    "The recommendations are in `runs`, and we will need to reassemble the test data from `test`."
   ]
  },
  {
   "cell_type": "code",
   "execution_count": 4,
   "id": "a854029a",
   "metadata": {
    "execution": {
     "iopub.execute_input": "2024-12-15T01:59:39.105793Z",
     "iopub.status.busy": "2024-12-15T01:59:39.105690Z",
     "iopub.status.idle": "2024-12-15T01:59:39.107695Z",
     "shell.execute_reply": "2024-12-15T01:59:39.107385Z"
    },
    "papermill": {
     "duration": 0.004261,
     "end_time": "2024-12-15T01:59:39.108159",
     "exception": false,
     "start_time": "2024-12-15T01:59:39.103898",
     "status": "completed"
    },
    "tags": [
     "parameters"
    ]
   },
   "outputs": [],
   "source": [
    "dataset = \"ml100k\""
   ]
  },
  {
   "cell_type": "code",
   "execution_count": 5,
   "id": "d40ad1f9",
   "metadata": {
    "execution": {
     "iopub.execute_input": "2024-12-15T01:59:39.110950Z",
     "iopub.status.busy": "2024-12-15T01:59:39.110871Z",
     "iopub.status.idle": "2024-12-15T01:59:39.112146Z",
     "shell.execute_reply": "2024-12-15T01:59:39.111992Z"
    },
    "papermill": {
     "duration": 0.003129,
     "end_time": "2024-12-15T01:59:39.112470",
     "exception": false,
     "start_time": "2024-12-15T01:59:39.109341",
     "status": "completed"
    },
    "tags": [
     "injected-parameters"
    ]
   },
   "outputs": [],
   "source": [
    "# Parameters\n",
    "dataset = \"ml25m\"\n"
   ]
  },
  {
   "cell_type": "code",
   "execution_count": 6,
   "id": "58b1ab64",
   "metadata": {
    "execution": {
     "iopub.execute_input": "2024-12-15T01:59:39.115015Z",
     "iopub.status.busy": "2024-12-15T01:59:39.114936Z",
     "iopub.status.idle": "2024-12-15T01:59:39.116192Z",
     "shell.execute_reply": "2024-12-15T01:59:39.116049Z"
    },
    "papermill": {
     "duration": 0.00283,
     "end_time": "2024-12-15T01:59:39.116450",
     "exception": false,
     "start_time": "2024-12-15T01:59:39.113620",
     "status": "completed"
    },
    "tags": []
   },
   "outputs": [],
   "source": [
    "output_root = Path(\"runs\")"
   ]
  },
  {
   "cell_type": "code",
   "execution_count": 7,
   "id": "291fdc84",
   "metadata": {
    "execution": {
     "iopub.execute_input": "2024-12-15T01:59:39.118991Z",
     "iopub.status.busy": "2024-12-15T01:59:39.118925Z",
     "iopub.status.idle": "2024-12-15T01:59:39.120317Z",
     "shell.execute_reply": "2024-12-15T01:59:39.120177Z"
    },
    "papermill": {
     "duration": 0.002994,
     "end_time": "2024-12-15T01:59:39.120599",
     "exception": false,
     "start_time": "2024-12-15T01:59:39.117605",
     "status": "completed"
    },
    "tags": []
   },
   "outputs": [],
   "source": [
    "dirs = [fld for fld in output_root.glob(f'{dataset}-*')]"
   ]
  },
  {
   "cell_type": "code",
   "execution_count": 8,
   "id": "e47fe658",
   "metadata": {
    "execution": {
     "iopub.execute_input": "2024-12-15T01:59:39.123201Z",
     "iopub.status.busy": "2024-12-15T01:59:39.123082Z",
     "iopub.status.idle": "2024-12-15T01:59:53.982119Z",
     "shell.execute_reply": "2024-12-15T01:59:53.981714Z"
    },
    "papermill": {
     "duration": 14.861167,
     "end_time": "2024-12-15T01:59:53.982921",
     "exception": false,
     "start_time": "2024-12-15T01:59:39.121754",
     "status": "completed"
    },
    "tags": []
   },
   "outputs": [],
   "source": [
    "recs = ItemListCollection(['model', 'user_id'], index=False)\n",
    "for fld in dirs:\n",
    "    for file in fld.glob(\"recs-*\"):\n",
    "        rec = ItemListCollection.load_parquet(file)\n",
    "        recs.add_from(rec, model=fld.name.split(\"-\")[1])"
   ]
  },
  {
   "cell_type": "code",
   "execution_count": 9,
   "id": "36d675e6",
   "metadata": {
    "execution": {
     "iopub.execute_input": "2024-12-15T01:59:53.993960Z",
     "iopub.status.busy": "2024-12-15T01:59:53.993869Z",
     "iopub.status.idle": "2024-12-15T01:59:54.039804Z",
     "shell.execute_reply": "2024-12-15T01:59:54.039537Z"
    },
    "papermill": {
     "duration": 0.055835,
     "end_time": "2024-12-15T01:59:54.040321",
     "exception": false,
     "start_time": "2024-12-15T01:59:53.984486",
     "status": "completed"
    },
    "tags": []
   },
   "outputs": [
    {
     "data": {
      "text/plain": [
       "['ALS', 'Bias', 'IALS', 'IIE', 'III', 'Pop']"
      ]
     },
     "execution_count": 9,
     "metadata": {},
     "output_type": "execute_result"
    }
   ],
   "source": [
    "rec_algos = sorted(set(a for (a, _u) in recs.keys()))\n",
    "rec_algos"
   ]
  },
  {
   "cell_type": "code",
   "execution_count": 10,
   "id": "530bbfda",
   "metadata": {
    "execution": {
     "iopub.execute_input": "2024-12-15T01:59:54.043748Z",
     "iopub.status.busy": "2024-12-15T01:59:54.043574Z",
     "iopub.status.idle": "2024-12-15T02:00:06.324048Z",
     "shell.execute_reply": "2024-12-15T02:00:06.323517Z"
    },
    "papermill": {
     "duration": 12.283006,
     "end_time": "2024-12-15T02:00:06.324814",
     "exception": false,
     "start_time": "2024-12-15T01:59:54.041808",
     "status": "completed"
    },
    "tags": []
   },
   "outputs": [],
   "source": [
    "preds = ItemListCollection(['model', 'user_id'], index=False)\n",
    "for fld in dirs:\n",
    "    for file in fld.glob(\"pred-*\"):\n",
    "        pred = ItemListCollection.load_parquet(file)\n",
    "        preds.add_from(pred, model=fld.name.split(\"-\")[1])"
   ]
  },
  {
   "cell_type": "markdown",
   "id": "737fbf6f",
   "metadata": {
    "papermill": {
     "duration": 0.008818,
     "end_time": "2024-12-15T02:00:06.335215",
     "exception": false,
     "start_time": "2024-12-15T02:00:06.326397",
     "status": "completed"
    },
    "tags": []
   },
   "source": [
    "We need to load the test data so that we have the ground truths for computing accuracy"
   ]
  },
  {
   "cell_type": "code",
   "execution_count": 11,
   "id": "094c6750",
   "metadata": {
    "execution": {
     "iopub.execute_input": "2024-12-15T02:00:06.338344Z",
     "iopub.status.busy": "2024-12-15T02:00:06.338248Z",
     "iopub.status.idle": "2024-12-15T02:00:06.339788Z",
     "shell.execute_reply": "2024-12-15T02:00:06.339637Z"
    },
    "papermill": {
     "duration": 0.003626,
     "end_time": "2024-12-15T02:00:06.340198",
     "exception": false,
     "start_time": "2024-12-15T02:00:06.336572",
     "status": "completed"
    },
    "tags": []
   },
   "outputs": [],
   "source": [
    "split_root = Path(\"data-split\")\n",
    "split_dir = split_root / dataset"
   ]
  },
  {
   "cell_type": "code",
   "execution_count": 12,
   "id": "b6b27b83",
   "metadata": {
    "execution": {
     "iopub.execute_input": "2024-12-15T02:00:06.343072Z",
     "iopub.status.busy": "2024-12-15T02:00:06.343000Z",
     "iopub.status.idle": "2024-12-15T02:00:14.486724Z",
     "shell.execute_reply": "2024-12-15T02:00:14.486177Z"
    },
    "papermill": {
     "duration": 8.146067,
     "end_time": "2024-12-15T02:00:14.487541",
     "exception": false,
     "start_time": "2024-12-15T02:00:06.341474",
     "status": "completed"
    },
    "tags": []
   },
   "outputs": [],
   "source": [
    "test = ItemListCollection(UserIDKey)\n",
    "for file in split_dir.glob(\"test-*.parquet\"):\n",
    "    df = pd.read_parquet(file)\n",
    "    part = ItemListCollection.from_df(df, UserIDKey)\n",
    "    test.add_from(part)"
   ]
  },
  {
   "cell_type": "markdown",
   "id": "fed8bea2",
   "metadata": {
    "papermill": {
     "duration": 0.008543,
     "end_time": "2024-12-15T02:00:14.497608",
     "exception": false,
     "start_time": "2024-12-15T02:00:14.489065",
     "status": "completed"
    },
    "tags": []
   },
   "source": [
    "## Top-N Metrics\n",
    "\n",
    "`RunListAnalysis` computes metrics for recommendation results and takes care of\n",
    "matching recommendations and ground truth."
   ]
  },
  {
   "cell_type": "code",
   "execution_count": 13,
   "id": "7b68ce95",
   "metadata": {
    "execution": {
     "iopub.execute_input": "2024-12-15T02:00:14.500784Z",
     "iopub.status.busy": "2024-12-15T02:00:14.500608Z",
     "iopub.status.idle": "2024-12-15T02:01:16.357446Z",
     "shell.execute_reply": "2024-12-15T02:01:16.357211Z"
    },
    "papermill": {
     "duration": 61.860146,
     "end_time": "2024-12-15T02:01:16.359091",
     "exception": false,
     "start_time": "2024-12-15T02:00:14.498945",
     "status": "completed"
    },
    "tags": []
   },
   "outputs": [
    {
     "name": "stderr",
     "output_type": "stream",
     "text": [
      "/home/mde48/lenskit/lk-demo-experiment/.pixi/envs/cuda/lib/python3.12/site-packages/lenskit/metrics/bulk.py:116: FutureWarning: The previous implementation of stack is deprecated and will be removed in a future version of pandas. See the What's New notes for pandas 2.1.0 for details. Specify future_stack=True to adopt the new implementation and silence this warning.\n",
      "  df = scores.groupby(list(keys)).agg([\"mean\", \"median\", \"std\"]).stack(level=0)\n"
     ]
    },
    {
     "data": {
      "text/html": [
       "<div>\n",
       "<style scoped>\n",
       "    .dataframe tbody tr th:only-of-type {\n",
       "        vertical-align: middle;\n",
       "    }\n",
       "\n",
       "    .dataframe tbody tr th {\n",
       "        vertical-align: top;\n",
       "    }\n",
       "\n",
       "    .dataframe thead th {\n",
       "        text-align: right;\n",
       "    }\n",
       "</style>\n",
       "<table border=\"1\" class=\"dataframe\">\n",
       "  <thead>\n",
       "    <tr style=\"text-align: right;\">\n",
       "      <th></th>\n",
       "      <th></th>\n",
       "      <th>mean</th>\n",
       "      <th>median</th>\n",
       "      <th>std</th>\n",
       "    </tr>\n",
       "    <tr>\n",
       "      <th>model</th>\n",
       "      <th></th>\n",
       "      <th></th>\n",
       "      <th></th>\n",
       "      <th></th>\n",
       "    </tr>\n",
       "  </thead>\n",
       "  <tbody>\n",
       "    <tr>\n",
       "      <th rowspan=\"3\" valign=\"top\">ALS</th>\n",
       "      <th>NDCG</th>\n",
       "      <td>0.020004</td>\n",
       "      <td>0.000000e+00</td>\n",
       "      <td>0.047940</td>\n",
       "    </tr>\n",
       "    <tr>\n",
       "      <th>RBP</th>\n",
       "      <td>0.003453</td>\n",
       "      <td>0.000000e+00</td>\n",
       "      <td>0.031464</td>\n",
       "    </tr>\n",
       "    <tr>\n",
       "      <th>RecipRank</th>\n",
       "      <td>0.017160</td>\n",
       "      <td>0.000000e+00</td>\n",
       "      <td>0.070802</td>\n",
       "    </tr>\n",
       "    <tr>\n",
       "      <th rowspan=\"3\" valign=\"top\">Bias</th>\n",
       "      <th>NDCG</th>\n",
       "      <td>0.035069</td>\n",
       "      <td>0.000000e+00</td>\n",
       "      <td>0.058922</td>\n",
       "    </tr>\n",
       "    <tr>\n",
       "      <th>RBP</th>\n",
       "      <td>0.005963</td>\n",
       "      <td>0.000000e+00</td>\n",
       "      <td>0.026975</td>\n",
       "    </tr>\n",
       "    <tr>\n",
       "      <th>RecipRank</th>\n",
       "      <td>0.030003</td>\n",
       "      <td>0.000000e+00</td>\n",
       "      <td>0.074754</td>\n",
       "    </tr>\n",
       "    <tr>\n",
       "      <th rowspan=\"3\" valign=\"top\">IALS</th>\n",
       "      <th>NDCG</th>\n",
       "      <td>0.261206</td>\n",
       "      <td>2.156461e-01</td>\n",
       "      <td>0.192820</td>\n",
       "    </tr>\n",
       "    <tr>\n",
       "      <th>RBP</th>\n",
       "      <td>0.121352</td>\n",
       "      <td>1.960754e-03</td>\n",
       "      <td>0.209886</td>\n",
       "    </tr>\n",
       "    <tr>\n",
       "      <th>RecipRank</th>\n",
       "      <td>0.264268</td>\n",
       "      <td>1.111111e-01</td>\n",
       "      <td>0.327228</td>\n",
       "    </tr>\n",
       "    <tr>\n",
       "      <th rowspan=\"3\" valign=\"top\">IIE</th>\n",
       "      <th>NDCG</th>\n",
       "      <td>0.001013</td>\n",
       "      <td>0.000000e+00</td>\n",
       "      <td>0.008815</td>\n",
       "    </tr>\n",
       "    <tr>\n",
       "      <th>RBP</th>\n",
       "      <td>0.000018</td>\n",
       "      <td>0.000000e+00</td>\n",
       "      <td>0.001561</td>\n",
       "    </tr>\n",
       "    <tr>\n",
       "      <th>RecipRank</th>\n",
       "      <td>0.000427</td>\n",
       "      <td>0.000000e+00</td>\n",
       "      <td>0.005590</td>\n",
       "    </tr>\n",
       "    <tr>\n",
       "      <th rowspan=\"3\" valign=\"top\">III</th>\n",
       "      <th>NDCG</th>\n",
       "      <td>0.225891</td>\n",
       "      <td>1.628403e-01</td>\n",
       "      <td>0.205905</td>\n",
       "    </tr>\n",
       "    <tr>\n",
       "      <th>RBP</th>\n",
       "      <td>0.149103</td>\n",
       "      <td>9.765923e-04</td>\n",
       "      <td>0.236066</td>\n",
       "    </tr>\n",
       "    <tr>\n",
       "      <th>RecipRank</th>\n",
       "      <td>0.298439</td>\n",
       "      <td>1.000000e-01</td>\n",
       "      <td>0.372859</td>\n",
       "    </tr>\n",
       "    <tr>\n",
       "      <th rowspan=\"3\" valign=\"top\">Pop</th>\n",
       "      <th>NDCG</th>\n",
       "      <td>0.131249</td>\n",
       "      <td>8.935088e-02</td>\n",
       "      <td>0.141809</td>\n",
       "    </tr>\n",
       "    <tr>\n",
       "      <th>RBP</th>\n",
       "      <td>0.064678</td>\n",
       "      <td>1.490116e-08</td>\n",
       "      <td>0.153589</td>\n",
       "    </tr>\n",
       "    <tr>\n",
       "      <th>RecipRank</th>\n",
       "      <td>0.158989</td>\n",
       "      <td>3.846154e-02</td>\n",
       "      <td>0.274466</td>\n",
       "    </tr>\n",
       "  </tbody>\n",
       "</table>\n",
       "</div>"
      ],
      "text/plain": [
       "                     mean        median       std\n",
       "model                                            \n",
       "ALS   NDCG       0.020004  0.000000e+00  0.047940\n",
       "      RBP        0.003453  0.000000e+00  0.031464\n",
       "      RecipRank  0.017160  0.000000e+00  0.070802\n",
       "Bias  NDCG       0.035069  0.000000e+00  0.058922\n",
       "      RBP        0.005963  0.000000e+00  0.026975\n",
       "      RecipRank  0.030003  0.000000e+00  0.074754\n",
       "IALS  NDCG       0.261206  2.156461e-01  0.192820\n",
       "      RBP        0.121352  1.960754e-03  0.209886\n",
       "      RecipRank  0.264268  1.111111e-01  0.327228\n",
       "IIE   NDCG       0.001013  0.000000e+00  0.008815\n",
       "      RBP        0.000018  0.000000e+00  0.001561\n",
       "      RecipRank  0.000427  0.000000e+00  0.005590\n",
       "III   NDCG       0.225891  1.628403e-01  0.205905\n",
       "      RBP        0.149103  9.765923e-04  0.236066\n",
       "      RecipRank  0.298439  1.000000e-01  0.372859\n",
       "Pop   NDCG       0.131249  8.935088e-02  0.141809\n",
       "      RBP        0.064678  1.490116e-08  0.153589\n",
       "      RecipRank  0.158989  3.846154e-02  0.274466"
      ]
     },
     "execution_count": 13,
     "metadata": {},
     "output_type": "execute_result"
    }
   ],
   "source": [
    "ra = RunAnalysis()\n",
    "\n",
    "ra.add_metric(NDCG())\n",
    "ra.add_metric(RecipRank())\n",
    "ra.add_metric(RBP())\n",
    "\n",
    "rec_results = ra.compute(recs, test)\n",
    "rec_results.list_summary('model')"
   ]
  },
  {
   "cell_type": "markdown",
   "id": "8cba4e78",
   "metadata": {
    "papermill": {
     "duration": 0.001409,
     "end_time": "2024-12-15T02:01:16.378634",
     "exception": false,
     "start_time": "2024-12-15T02:01:16.377225",
     "status": "completed"
    },
    "tags": []
   },
   "source": [
    "We can reshape the list metrics and plot them:"
   ]
  },
  {
   "cell_type": "code",
   "execution_count": 14,
   "id": "238604c3",
   "metadata": {
    "execution": {
     "iopub.execute_input": "2024-12-15T02:01:16.381807Z",
     "iopub.status.busy": "2024-12-15T02:01:16.381706Z",
     "iopub.status.idle": "2024-12-15T02:01:26.726989Z",
     "shell.execute_reply": "2024-12-15T02:01:26.726596Z"
    },
    "papermill": {
     "duration": 10.34745,
     "end_time": "2024-12-15T02:01:26.727543",
     "exception": false,
     "start_time": "2024-12-15T02:01:16.380093",
     "status": "completed"
    },
    "tags": []
   },
   "outputs": [
    {
     "data": {
      "image/png": "[encoded data removed]",
      "text/plain": [
       "<Figure size 1511.11x500 with 3 Axes>"
      ]
     },
     "metadata": {},
     "output_type": "display_data"
    }
   ],
   "source": [
    "metrics = rec_results.list_metrics()\n",
    "metrics = metrics.melt(var_name='metric', ignore_index=False).reset_index()\n",
    "sns.catplot(metrics, x='model', y='value', col='metric', kind='bar')\n",
    "plt.show()"
   ]
  },
  {
   "cell_type": "markdown",
   "id": "d6f202d4",
   "metadata": {
    "papermill": {
     "duration": 0.001563,
     "end_time": "2024-12-15T02:01:26.730742",
     "exception": false,
     "start_time": "2024-12-15T02:01:26.729179",
     "status": "completed"
    },
    "tags": []
   },
   "source": [
    "## Prediction RMSE\n",
    "\n",
    "We will also look at the prediction RMSE."
   ]
  },
  {
   "cell_type": "code",
   "execution_count": 15,
   "id": "c78c5ff6",
   "metadata": {
    "execution": {
     "iopub.execute_input": "2024-12-15T02:01:26.733969Z",
     "iopub.status.busy": "2024-12-15T02:01:26.733878Z",
     "iopub.status.idle": "2024-12-15T02:04:06.291188Z",
     "shell.execute_reply": "2024-12-15T02:04:06.291029Z"
    },
    "papermill": {
     "duration": 159.561057,
     "end_time": "2024-12-15T02:04:06.293275",
     "exception": false,
     "start_time": "2024-12-15T02:01:26.732218",
     "status": "completed"
    },
    "tags": []
   },
   "outputs": [
    {
     "name": "stderr",
     "output_type": "stream",
     "text": [
      "/home/mde48/lenskit/lk-demo-experiment/.pixi/envs/cuda/lib/python3.12/site-packages/lenskit/metrics/bulk.py:116: FutureWarning: The previous implementation of stack is deprecated and will be removed in a future version of pandas. See the What's New notes for pandas 2.1.0 for details. Specify future_stack=True to adopt the new implementation and silence this warning.\n",
      "  df = scores.groupby(list(keys)).agg([\"mean\", \"median\", \"std\"]).stack(level=0)\n"
     ]
    },
    {
     "data": {
      "text/html": [
       "<div>\n",
       "<style scoped>\n",
       "    .dataframe tbody tr th:only-of-type {\n",
       "        vertical-align: middle;\n",
       "    }\n",
       "\n",
       "    .dataframe tbody tr th {\n",
       "        vertical-align: top;\n",
       "    }\n",
       "\n",
       "    .dataframe thead th {\n",
       "        text-align: right;\n",
       "    }\n",
       "</style>\n",
       "<table border=\"1\" class=\"dataframe\">\n",
       "  <thead>\n",
       "    <tr style=\"text-align: right;\">\n",
       "      <th></th>\n",
       "      <th></th>\n",
       "      <th>mean</th>\n",
       "      <th>median</th>\n",
       "      <th>std</th>\n",
       "    </tr>\n",
       "    <tr>\n",
       "      <th>model</th>\n",
       "      <th></th>\n",
       "      <th></th>\n",
       "      <th></th>\n",
       "      <th></th>\n",
       "    </tr>\n",
       "  </thead>\n",
       "  <tbody>\n",
       "    <tr>\n",
       "      <th>ALS</th>\n",
       "      <th>RMSE</th>\n",
       "      <td>0.770816</td>\n",
       "      <td>0.707655</td>\n",
       "      <td>0.353444</td>\n",
       "    </tr>\n",
       "    <tr>\n",
       "      <th>Bias</th>\n",
       "      <th>RMSE</th>\n",
       "      <td>0.817549</td>\n",
       "      <td>0.752898</td>\n",
       "      <td>0.370980</td>\n",
       "    </tr>\n",
       "    <tr>\n",
       "      <th>IIE</th>\n",
       "      <th>RMSE</th>\n",
       "      <td>0.755559</td>\n",
       "      <td>0.693235</td>\n",
       "      <td>0.353544</td>\n",
       "    </tr>\n",
       "  </tbody>\n",
       "</table>\n",
       "</div>"
      ],
      "text/plain": [
       "                mean    median       std\n",
       "model                                   \n",
       "ALS   RMSE  0.770816  0.707655  0.353444\n",
       "Bias  RMSE  0.817549  0.752898  0.370980\n",
       "IIE   RMSE  0.755559  0.693235  0.353544"
      ]
     },
     "execution_count": 15,
     "metadata": {},
     "output_type": "execute_result"
    }
   ],
   "source": [
    "pa = RunAnalysis()\n",
    "\n",
    "pa.add_metric(RMSE(missing_scores='ignore', missing_truth='ignore'))\n",
    "\n",
    "pred_results = pa.compute(preds, test)\n",
    "pred_results.list_summary('model')"
   ]
  },
  {
   "cell_type": "code",
   "execution_count": 16,
   "id": "929287d6",
   "metadata": {
    "execution": {
     "iopub.execute_input": "2024-12-15T02:04:06.313267Z",
     "iopub.status.busy": "2024-12-15T02:04:06.313182Z",
     "iopub.status.idle": "2024-12-15T02:04:07.957175Z",
     "shell.execute_reply": "2024-12-15T02:04:07.957002Z"
    },
    "papermill": {
     "duration": 1.646507,
     "end_time": "2024-12-15T02:04:07.957734",
     "exception": false,
     "start_time": "2024-12-15T02:04:06.311227",
     "status": "completed"
    },
    "tags": []
   },
   "outputs": [
    {
     "data": {
      "image/png": "[encoded data removed]",
      "text/plain": [
       "<Figure size 511.111x500 with 1 Axes>"
      ]
     },
     "metadata": {},
     "output_type": "display_data"
    }
   ],
   "source": [
    "sns.catplot(pred_results.list_metrics().reset_index(), x='model', y='RMSE', kind='bar')\n",
    "plt.show()"
   ]
  },
  {
   "cell_type": "markdown",
   "id": "0caac7ca",
   "metadata": {
    "papermill": {
     "duration": 0.008891,
     "end_time": "2024-12-15T02:04:07.968423",
     "exception": false,
     "start_time": "2024-12-15T02:04:07.959532",
     "status": "completed"
    },
    "tags": []
   },
   "source": [
    "## Save Metrics\n",
    "\n",
    "We'll now save the metrics to a file."
   ]
  },
  {
   "cell_type": "code",
   "execution_count": 17,
   "id": "4e43b021",
   "metadata": {
    "execution": {
     "iopub.execute_input": "2024-12-15T02:04:07.972104Z",
     "iopub.status.busy": "2024-12-15T02:04:07.972013Z",
     "iopub.status.idle": "2024-12-15T02:04:08.047078Z",
     "shell.execute_reply": "2024-12-15T02:04:08.046913Z"
    },
    "papermill": {
     "duration": 0.077639,
     "end_time": "2024-12-15T02:04:08.047630",
     "exception": false,
     "start_time": "2024-12-15T02:04:07.969991",
     "status": "completed"
    },
    "tags": []
   },
   "outputs": [
    {
     "name": "stderr",
     "output_type": "stream",
     "text": [
      "/home/mde48/lenskit/lk-demo-experiment/.pixi/envs/cuda/lib/python3.12/site-packages/lenskit/metrics/bulk.py:116: FutureWarning: The previous implementation of stack is deprecated and will be removed in a future version of pandas. See the What's New notes for pandas 2.1.0 for details. Specify future_stack=True to adopt the new implementation and silence this warning.\n",
      "  df = scores.groupby(list(keys)).agg([\"mean\", \"median\", \"std\"]).stack(level=0)\n"
     ]
    },
    {
     "data": {
      "text/html": [
       "<div>\n",
       "<style scoped>\n",
       "    .dataframe tbody tr th:only-of-type {\n",
       "        vertical-align: middle;\n",
       "    }\n",
       "\n",
       "    .dataframe tbody tr th {\n",
       "        vertical-align: top;\n",
       "    }\n",
       "\n",
       "    .dataframe thead th {\n",
       "        text-align: right;\n",
       "    }\n",
       "</style>\n",
       "<table border=\"1\" class=\"dataframe\">\n",
       "  <thead>\n",
       "    <tr style=\"text-align: right;\">\n",
       "      <th></th>\n",
       "      <th>NDCG</th>\n",
       "      <th>RBP</th>\n",
       "      <th>RecipRank</th>\n",
       "    </tr>\n",
       "    <tr>\n",
       "      <th>model</th>\n",
       "      <th></th>\n",
       "      <th></th>\n",
       "      <th></th>\n",
       "    </tr>\n",
       "  </thead>\n",
       "  <tbody>\n",
       "    <tr>\n",
       "      <th>ALS</th>\n",
       "      <td>0.020004</td>\n",
       "      <td>0.003453</td>\n",
       "      <td>0.017160</td>\n",
       "    </tr>\n",
       "    <tr>\n",
       "      <th>Bias</th>\n",
       "      <td>0.035069</td>\n",
       "      <td>0.005963</td>\n",
       "      <td>0.030003</td>\n",
       "    </tr>\n",
       "    <tr>\n",
       "      <th>IALS</th>\n",
       "      <td>0.261206</td>\n",
       "      <td>0.121352</td>\n",
       "      <td>0.264268</td>\n",
       "    </tr>\n",
       "    <tr>\n",
       "      <th>IIE</th>\n",
       "      <td>0.001013</td>\n",
       "      <td>0.000018</td>\n",
       "      <td>0.000427</td>\n",
       "    </tr>\n",
       "    <tr>\n",
       "      <th>III</th>\n",
       "      <td>0.225891</td>\n",
       "      <td>0.149103</td>\n",
       "      <td>0.298439</td>\n",
       "    </tr>\n",
       "    <tr>\n",
       "      <th>Pop</th>\n",
       "      <td>0.131249</td>\n",
       "      <td>0.064678</td>\n",
       "      <td>0.158989</td>\n",
       "    </tr>\n",
       "  </tbody>\n",
       "</table>\n",
       "</div>"
      ],
      "text/plain": [
       "           NDCG       RBP  RecipRank\n",
       "model                               \n",
       "ALS    0.020004  0.003453   0.017160\n",
       "Bias   0.035069  0.005963   0.030003\n",
       "IALS   0.261206  0.121352   0.264268\n",
       "IIE    0.001013  0.000018   0.000427\n",
       "III    0.225891  0.149103   0.298439\n",
       "Pop    0.131249  0.064678   0.158989"
      ]
     },
     "execution_count": 17,
     "metadata": {},
     "output_type": "execute_result"
    }
   ],
   "source": [
    "rlsum = rec_results.list_summary('model')['mean'].unstack()\n",
    "rlsum"
   ]
  },
  {
   "cell_type": "code",
   "execution_count": 18,
   "id": "cae53f67",
   "metadata": {
    "execution": {
     "iopub.execute_input": "2024-12-15T02:04:08.051694Z",
     "iopub.status.busy": "2024-12-15T02:04:08.051615Z",
     "iopub.status.idle": "2024-12-15T02:04:08.054072Z",
     "shell.execute_reply": "2024-12-15T02:04:08.053920Z"
    },
    "papermill": {
     "duration": 0.004951,
     "end_time": "2024-12-15T02:04:08.054442",
     "exception": false,
     "start_time": "2024-12-15T02:04:08.049491",
     "status": "completed"
    },
    "tags": []
   },
   "outputs": [],
   "source": [
    "rlsum.to_json(f'eval-metrics.{dataset}.json', orient='index')"
   ]
  }
 ],
 "metadata": {
  "jupytext": {
   "formats": "ipynb,md",
   "notebook_metadata_filter": "split_at_heading"
  },
  "kernelspec": {
   "display_name": "Python 3 (ipykernel)",
   "language": "python",
   "name": "python3"
  },
  "language_info": {
   "codemirror_mode": {
    "name": "ipython",
    "version": 3
   },
   "file_extension": ".py",
   "mimetype": "text/x-python",
   "name": "python",
   "nbconvert_exporter": "python",
   "pygments_lexer": "ipython3",
   "version": "3.12.8"
  },
  "papermill": {
   "default_parameters": {},
   "duration": 273.487468,
   "end_time": "2024-12-15T02:04:10.771359",
   "environment_variables": {},
   "exception": null,
   "input_path": "eval-report.ipynb",
   "output_path": "eval-report.ml25m.ipynb",
   "parameters": {
    "dataset": "ml25m"
   },
   "start_time": "2024-12-15T01:59:37.283891",
   "version": "2.6.0"
  },
  "split_at_heading": true
 },
 "nbformat": 4,
 "nbformat_minor": 5
}