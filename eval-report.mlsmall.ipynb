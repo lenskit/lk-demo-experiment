{
 "cells": [
  {
   "cell_type": "markdown",
   "id": "7291eba0",
   "metadata": {
    "papermill": {
     "duration": 0.010391,
     "end_time": "2024-12-17T17:32:50.058066",
     "exception": false,
     "start_time": "2024-12-17T17:32:50.047675",
     "status": "completed"
    },
    "tags": []
   },
   "source": [
    "# Evaluation Analysis for Recommender Output"
   ]
  },
  {
   "cell_type": "markdown",
   "id": "872010be",
   "metadata": {
    "papermill": {
     "duration": 0.001065,
     "end_time": "2024-12-17T17:32:50.060472",
     "exception": false,
     "start_time": "2024-12-17T17:32:50.059407",
     "status": "completed"
    },
    "tags": []
   },
   "source": [
    "In this section we will analyze and compare the generated recommendations and predictions from a predefined list of algorithms with the goal of assessing the performance of each algorithm with respect to a metric. In other words, we would rank the algorithms for each metric considered with respect to performance."
   ]
  },
  {
   "cell_type": "markdown",
   "id": "aaaf15df",
   "metadata": {
    "papermill": {
     "duration": 0.001002,
     "end_time": "2024-12-17T17:32:50.062567",
     "exception": false,
     "start_time": "2024-12-17T17:32:50.061565",
     "status": "completed"
    },
    "tags": []
   },
   "source": [
    "## Setup"
   ]
  },
  {
   "cell_type": "markdown",
   "id": "8684b9cf",
   "metadata": {
    "papermill": {
     "duration": 0.001011,
     "end_time": "2024-12-17T17:32:50.064623",
     "exception": false,
     "start_time": "2024-12-17T17:32:50.063612",
     "status": "completed"
    },
    "tags": []
   },
   "source": [
    "Below are the list of packages required to successfully run the analysis. They are divided into partitions to signify their specific task.<br>\n",
    "We need the pathlib package for working with files and folders"
   ]
  },
  {
   "cell_type": "code",
   "execution_count": 1,
   "id": "ee069941",
   "metadata": {
    "execution": {
     "iopub.execute_input": "2024-12-17T17:32:50.067303Z",
     "iopub.status.busy": "2024-12-17T17:32:50.067177Z",
     "iopub.status.idle": "2024-12-17T17:32:50.069939Z",
     "shell.execute_reply": "2024-12-17T17:32:50.069445Z"
    },
    "papermill": {
     "duration": 0.004813,
     "end_time": "2024-12-17T17:32:50.070469",
     "exception": false,
     "start_time": "2024-12-17T17:32:50.065656",
     "status": "completed"
    },
    "tags": []
   },
   "outputs": [],
   "source": [
    "from pathlib import Path\n",
    "import json"
   ]
  },
  {
   "cell_type": "markdown",
   "id": "50590acc",
   "metadata": {
    "papermill": {
     "duration": 0.001101,
     "end_time": "2024-12-17T17:32:50.073083",
     "exception": false,
     "start_time": "2024-12-17T17:32:50.071982",
     "status": "completed"
    },
    "tags": []
   },
   "source": [
    "We would use the pandas for analyzing and manipulating our data while seaborn and matplotlib are used for data visualization. statsmodels.graphics.gofplots and scipy.stats.shapiro are used for normality check. Scipy.stats.friedmanchisquare is a non-parametric test used to determine the statistical significance in metric results and the wilcoxon test is used for pairwise comparison of sample data."
   ]
  },
  {
   "cell_type": "code",
   "execution_count": 2,
   "id": "d40cc792",
   "metadata": {
    "execution": {
     "iopub.execute_input": "2024-12-17T17:32:50.075809Z",
     "iopub.status.busy": "2024-12-17T17:32:50.075693Z",
     "iopub.status.idle": "2024-12-17T17:32:50.504764Z",
     "shell.execute_reply": "2024-12-17T17:32:50.504473Z"
    },
    "lines_to_next_cell": 2,
    "papermill": {
     "duration": 0.431367,
     "end_time": "2024-12-17T17:32:50.505540",
     "exception": false,
     "start_time": "2024-12-17T17:32:50.074173",
     "status": "completed"
    },
    "tags": []
   },
   "outputs": [],
   "source": [
    "import pandas as pd\n",
    "import seaborn as sns\n",
    "import matplotlib.pyplot as plt\n",
    "from statsmodels.graphics.gofplots import qqplot\n",
    "from scipy.stats import shapiro\n",
    "from scipy.stats import friedmanchisquare, wilcoxon\n",
    "from itertools import combinations"
   ]
  },
  {
   "cell_type": "markdown",
   "id": "76360899",
   "metadata": {
    "papermill": {
     "duration": 0.008819,
     "end_time": "2024-12-17T17:32:50.515768",
     "exception": false,
     "start_time": "2024-12-17T17:32:50.506949",
     "status": "completed"
    },
    "tags": []
   },
   "source": [
    "Import the LensKit metrics for analysis:"
   ]
  },
  {
   "cell_type": "code",
   "execution_count": 3,
   "id": "9f0614f8",
   "metadata": {
    "execution": {
     "iopub.execute_input": "2024-12-17T17:32:50.518960Z",
     "iopub.status.busy": "2024-12-17T17:32:50.518764Z",
     "iopub.status.idle": "2024-12-17T17:32:51.159982Z",
     "shell.execute_reply": "2024-12-17T17:32:51.159509Z"
    },
    "papermill": {
     "duration": 0.643785,
     "end_time": "2024-12-17T17:32:51.160789",
     "exception": false,
     "start_time": "2024-12-17T17:32:50.517004",
     "status": "completed"
    },
    "tags": []
   },
   "outputs": [],
   "source": [
    "from lenskit.data import ItemListCollection, UserIDKey\n",
    "from lenskit.metrics import RunAnalysis, RMSE, NDCG, RecipRank, RBP"
   ]
  },
  {
   "cell_type": "markdown",
   "id": "44472f41",
   "metadata": {
    "papermill": {
     "duration": 0.00929,
     "end_time": "2024-12-17T17:32:51.171525",
     "exception": false,
     "start_time": "2024-12-17T17:32:51.162235",
     "status": "completed"
    },
    "tags": []
   },
   "source": [
    "## Load Data\n",
    "\n",
    "The recommendations are in `runs`, and we will need to reassemble the test data from `test`."
   ]
  },
  {
   "cell_type": "code",
   "execution_count": 4,
   "id": "a854029a",
   "metadata": {
    "execution": {
     "iopub.execute_input": "2024-12-17T17:32:51.174535Z",
     "iopub.status.busy": "2024-12-17T17:32:51.174451Z",
     "iopub.status.idle": "2024-12-17T17:32:51.175849Z",
     "shell.execute_reply": "2024-12-17T17:32:51.175675Z"
    },
    "papermill": {
     "duration": 0.003437,
     "end_time": "2024-12-17T17:32:51.176215",
     "exception": false,
     "start_time": "2024-12-17T17:32:51.172778",
     "status": "completed"
    },
    "tags": [
     "parameters"
    ]
   },
   "outputs": [],
   "source": [
    "dataset = \"ml100k\""
   ]
  },
  {
   "cell_type": "code",
   "execution_count": 5,
   "id": "7d00a7d9",
   "metadata": {
    "execution": {
     "iopub.execute_input": "2024-12-17T17:32:51.178997Z",
     "iopub.status.busy": "2024-12-17T17:32:51.178930Z",
     "iopub.status.idle": "2024-12-17T17:32:51.180199Z",
     "shell.execute_reply": "2024-12-17T17:32:51.180061Z"
    },
    "papermill": {
     "duration": 0.00311,
     "end_time": "2024-12-17T17:32:51.180524",
     "exception": false,
     "start_time": "2024-12-17T17:32:51.177414",
     "status": "completed"
    },
    "tags": [
     "injected-parameters"
    ]
   },
   "outputs": [],
   "source": [
    "# Parameters\n",
    "dataset = \"mlsmall\"\n"
   ]
  },
  {
   "cell_type": "code",
   "execution_count": 6,
   "id": "58b1ab64",
   "metadata": {
    "execution": {
     "iopub.execute_input": "2024-12-17T17:32:51.185155Z",
     "iopub.status.busy": "2024-12-17T17:32:51.185094Z",
     "iopub.status.idle": "2024-12-17T17:32:51.186570Z",
     "shell.execute_reply": "2024-12-17T17:32:51.186428Z"
    },
    "papermill": {
     "duration": 0.003338,
     "end_time": "2024-12-17T17:32:51.186942",
     "exception": false,
     "start_time": "2024-12-17T17:32:51.183604",
     "status": "completed"
    },
    "tags": []
   },
   "outputs": [],
   "source": [
    "output_root = Path(\"runs\")"
   ]
  },
  {
   "cell_type": "code",
   "execution_count": 7,
   "id": "291fdc84",
   "metadata": {
    "execution": {
     "iopub.execute_input": "2024-12-17T17:32:51.190276Z",
     "iopub.status.busy": "2024-12-17T17:32:51.190213Z",
     "iopub.status.idle": "2024-12-17T17:32:51.191630Z",
     "shell.execute_reply": "2024-12-17T17:32:51.191491Z"
    },
    "papermill": {
     "duration": 0.003757,
     "end_time": "2024-12-17T17:32:51.191920",
     "exception": false,
     "start_time": "2024-12-17T17:32:51.188163",
     "status": "completed"
    },
    "tags": []
   },
   "outputs": [],
   "source": [
    "dirs = [fld for fld in output_root.glob(f'{dataset}-*')]"
   ]
  },
  {
   "cell_type": "code",
   "execution_count": 8,
   "id": "e47fe658",
   "metadata": {
    "execution": {
     "iopub.execute_input": "2024-12-17T17:32:51.194638Z",
     "iopub.status.busy": "2024-12-17T17:32:51.194571Z",
     "iopub.status.idle": "2024-12-17T17:32:51.302244Z",
     "shell.execute_reply": "2024-12-17T17:32:51.301971Z"
    },
    "papermill": {
     "duration": 0.109723,
     "end_time": "2024-12-17T17:32:51.302833",
     "exception": false,
     "start_time": "2024-12-17T17:32:51.193110",
     "status": "completed"
    },
    "tags": []
   },
   "outputs": [],
   "source": [
    "recs = ItemListCollection(['model', 'user_id'], index=False)\n",
    "for fld in dirs:\n",
    "    for file in fld.glob(\"recs-*\"):\n",
    "        rec = ItemListCollection.load_parquet(file)\n",
    "        recs.add_from(rec, model=fld.name.split(\"-\")[1])"
   ]
  },
  {
   "cell_type": "code",
   "execution_count": 9,
   "id": "36d675e6",
   "metadata": {
    "execution": {
     "iopub.execute_input": "2024-12-17T17:32:51.307160Z",
     "iopub.status.busy": "2024-12-17T17:32:51.307081Z",
     "iopub.status.idle": "2024-12-17T17:32:51.309903Z",
     "shell.execute_reply": "2024-12-17T17:32:51.309761Z"
    },
    "papermill": {
     "duration": 0.006192,
     "end_time": "2024-12-17T17:32:51.310443",
     "exception": false,
     "start_time": "2024-12-17T17:32:51.304251",
     "status": "completed"
    },
    "tags": []
   },
   "outputs": [
    {
     "data": {
      "text/plain": [
       "['ALS', 'Bias', 'IALS', 'IIE', 'III', 'Pop', 'UUE']"
      ]
     },
     "execution_count": 9,
     "metadata": {},
     "output_type": "execute_result"
    }
   ],
   "source": [
    "rec_algos = sorted(set(a for (a, _u) in recs.keys()))\n",
    "rec_algos"
   ]
  },
  {
   "cell_type": "code",
   "execution_count": 10,
   "id": "530bbfda",
   "metadata": {
    "execution": {
     "iopub.execute_input": "2024-12-17T17:32:51.315638Z",
     "iopub.status.busy": "2024-12-17T17:32:51.315556Z",
     "iopub.status.idle": "2024-12-17T17:32:51.369614Z",
     "shell.execute_reply": "2024-12-17T17:32:51.369357Z"
    },
    "papermill": {
     "duration": 0.057576,
     "end_time": "2024-12-17T17:32:51.370412",
     "exception": false,
     "start_time": "2024-12-17T17:32:51.312836",
     "status": "completed"
    },
    "tags": []
   },
   "outputs": [],
   "source": [
    "preds = ItemListCollection(['model', 'user_id'], index=False)\n",
    "for fld in dirs:\n",
    "    for file in fld.glob(\"pred-*\"):\n",
    "        pred = ItemListCollection.load_parquet(file)\n",
    "        preds.add_from(pred, model=fld.name.split(\"-\")[1])"
   ]
  },
  {
   "cell_type": "markdown",
   "id": "737fbf6f",
   "metadata": {
    "papermill": {
     "duration": 0.001439,
     "end_time": "2024-12-17T17:32:51.374316",
     "exception": false,
     "start_time": "2024-12-17T17:32:51.372877",
     "status": "completed"
    },
    "tags": []
   },
   "source": [
    "We need to load the test data so that we have the ground truths for computing accuracy"
   ]
  },
  {
   "cell_type": "code",
   "execution_count": 11,
   "id": "094c6750",
   "metadata": {
    "execution": {
     "iopub.execute_input": "2024-12-17T17:32:51.377373Z",
     "iopub.status.busy": "2024-12-17T17:32:51.377250Z",
     "iopub.status.idle": "2024-12-17T17:32:51.378801Z",
     "shell.execute_reply": "2024-12-17T17:32:51.378656Z"
    },
    "papermill": {
     "duration": 0.003656,
     "end_time": "2024-12-17T17:32:51.379266",
     "exception": false,
     "start_time": "2024-12-17T17:32:51.375610",
     "status": "completed"
    },
    "tags": []
   },
   "outputs": [],
   "source": [
    "split_root = Path(\"data-split\")\n",
    "split_dir = split_root / dataset"
   ]
  },
  {
   "cell_type": "code",
   "execution_count": 12,
   "id": "b6b27b83",
   "metadata": {
    "execution": {
     "iopub.execute_input": "2024-12-17T17:32:51.382598Z",
     "iopub.status.busy": "2024-12-17T17:32:51.382532Z",
     "iopub.status.idle": "2024-12-17T17:32:51.471039Z",
     "shell.execute_reply": "2024-12-17T17:32:51.470750Z"
    },
    "papermill": {
     "duration": 0.090958,
     "end_time": "2024-12-17T17:32:51.471771",
     "exception": false,
     "start_time": "2024-12-17T17:32:51.380813",
     "status": "completed"
    },
    "tags": []
   },
   "outputs": [],
   "source": [
    "test = ItemListCollection(UserIDKey)\n",
    "for file in split_dir.glob(\"test-*.parquet\"):\n",
    "    df = pd.read_parquet(file)\n",
    "    part = ItemListCollection.from_df(df, UserIDKey)\n",
    "    test.add_from(part)"
   ]
  },
  {
   "cell_type": "markdown",
   "id": "fed8bea2",
   "metadata": {
    "papermill": {
     "duration": 0.001329,
     "end_time": "2024-12-17T17:32:51.474608",
     "exception": false,
     "start_time": "2024-12-17T17:32:51.473279",
     "status": "completed"
    },
    "tags": []
   },
   "source": [
    "## Top-N Metrics\n",
    "\n",
    "`RunListAnalysis` computes metrics for recommendation results and takes care of\n",
    "matching recommendations and ground truth."
   ]
  },
  {
   "cell_type": "code",
   "execution_count": 13,
   "id": "7b68ce95",
   "metadata": {
    "execution": {
     "iopub.execute_input": "2024-12-17T17:32:51.478610Z",
     "iopub.status.busy": "2024-12-17T17:32:51.478523Z",
     "iopub.status.idle": "2024-12-17T17:32:51.759057Z",
     "shell.execute_reply": "2024-12-17T17:32:51.758898Z"
    },
    "papermill": {
     "duration": 0.282895,
     "end_time": "2024-12-17T17:32:51.759566",
     "exception": false,
     "start_time": "2024-12-17T17:32:51.476671",
     "status": "completed"
    },
    "tags": []
   },
   "outputs": [
    {
     "name": "stderr",
     "output_type": "stream",
     "text": [
      "/home/mde48/lenskit/lkpy/lenskit/lenskit/metrics/bulk.py:121: FutureWarning: The previous implementation of stack is deprecated and will be removed in a future version of pandas. See the What's New notes for pandas 2.1.0 for details. Specify future_stack=True to adopt the new implementation and silence this warning.\n",
      "  df = scores.groupby(list(keys)).agg([\"mean\", \"median\", \"std\"]).stack(level=0)\n"
     ]
    },
    {
     "data": {
      "text/html": [
       "<div>\n",
       "<style scoped>\n",
       "    .dataframe tbody tr th:only-of-type {\n",
       "        vertical-align: middle;\n",
       "    }\n",
       "\n",
       "    .dataframe tbody tr th {\n",
       "        vertical-align: top;\n",
       "    }\n",
       "\n",
       "    .dataframe thead th {\n",
       "        text-align: right;\n",
       "    }\n",
       "</style>\n",
       "<table border=\"1\" class=\"dataframe\">\n",
       "  <thead>\n",
       "    <tr style=\"text-align: right;\">\n",
       "      <th></th>\n",
       "      <th></th>\n",
       "      <th>mean</th>\n",
       "      <th>median</th>\n",
       "      <th>std</th>\n",
       "    </tr>\n",
       "    <tr>\n",
       "      <th>model</th>\n",
       "      <th></th>\n",
       "      <th></th>\n",
       "      <th></th>\n",
       "      <th></th>\n",
       "    </tr>\n",
       "  </thead>\n",
       "  <tbody>\n",
       "    <tr>\n",
       "      <th rowspan=\"3\" valign=\"top\">ALS</th>\n",
       "      <th>NDCG</th>\n",
       "      <td>0.044477</td>\n",
       "      <td>0.000000e+00</td>\n",
       "      <td>0.073642</td>\n",
       "    </tr>\n",
       "    <tr>\n",
       "      <th>RBP</th>\n",
       "      <td>0.016837</td>\n",
       "      <td>0.000000e+00</td>\n",
       "      <td>0.075712</td>\n",
       "    </tr>\n",
       "    <tr>\n",
       "      <th>RecipRank</th>\n",
       "      <td>0.052553</td>\n",
       "      <td>0.000000e+00</td>\n",
       "      <td>0.154571</td>\n",
       "    </tr>\n",
       "    <tr>\n",
       "      <th rowspan=\"3\" valign=\"top\">Bias</th>\n",
       "      <th>NDCG</th>\n",
       "      <td>0.056837</td>\n",
       "      <td>4.380638e-02</td>\n",
       "      <td>0.082093</td>\n",
       "    </tr>\n",
       "    <tr>\n",
       "      <th>RBP</th>\n",
       "      <td>0.025322</td>\n",
       "      <td>1.938705e-26</td>\n",
       "      <td>0.104163</td>\n",
       "    </tr>\n",
       "    <tr>\n",
       "      <th>RecipRank</th>\n",
       "      <td>0.074222</td>\n",
       "      <td>1.169631e-02</td>\n",
       "      <td>0.207617</td>\n",
       "    </tr>\n",
       "    <tr>\n",
       "      <th rowspan=\"3\" valign=\"top\">IALS</th>\n",
       "      <th>NDCG</th>\n",
       "      <td>0.221068</td>\n",
       "      <td>1.682108e-01</td>\n",
       "      <td>0.192906</td>\n",
       "    </tr>\n",
       "    <tr>\n",
       "      <th>RBP</th>\n",
       "      <td>0.101004</td>\n",
       "      <td>1.220703e-04</td>\n",
       "      <td>0.189913</td>\n",
       "    </tr>\n",
       "    <tr>\n",
       "      <th>RecipRank</th>\n",
       "      <td>0.225590</td>\n",
       "      <td>7.692308e-02</td>\n",
       "      <td>0.307643</td>\n",
       "    </tr>\n",
       "    <tr>\n",
       "      <th rowspan=\"3\" valign=\"top\">IIE</th>\n",
       "      <th>NDCG</th>\n",
       "      <td>0.002620</td>\n",
       "      <td>0.000000e+00</td>\n",
       "      <td>0.015590</td>\n",
       "    </tr>\n",
       "    <tr>\n",
       "      <th>RBP</th>\n",
       "      <td>0.000410</td>\n",
       "      <td>0.000000e+00</td>\n",
       "      <td>0.010122</td>\n",
       "    </tr>\n",
       "    <tr>\n",
       "      <th>RecipRank</th>\n",
       "      <td>0.001642</td>\n",
       "      <td>0.000000e+00</td>\n",
       "      <td>0.020729</td>\n",
       "    </tr>\n",
       "    <tr>\n",
       "      <th rowspan=\"3\" valign=\"top\">III</th>\n",
       "      <th>NDCG</th>\n",
       "      <td>0.215293</td>\n",
       "      <td>1.491980e-01</td>\n",
       "      <td>0.208262</td>\n",
       "    </tr>\n",
       "    <tr>\n",
       "      <th>RBP</th>\n",
       "      <td>0.143913</td>\n",
       "      <td>2.441420e-04</td>\n",
       "      <td>0.232122</td>\n",
       "    </tr>\n",
       "    <tr>\n",
       "      <th>RecipRank</th>\n",
       "      <td>0.285037</td>\n",
       "      <td>8.333333e-02</td>\n",
       "      <td>0.369859</td>\n",
       "    </tr>\n",
       "    <tr>\n",
       "      <th rowspan=\"3\" valign=\"top\">Pop</th>\n",
       "      <th>NDCG</th>\n",
       "      <td>0.142104</td>\n",
       "      <td>7.709739e-02</td>\n",
       "      <td>0.157413</td>\n",
       "    </tr>\n",
       "    <tr>\n",
       "      <th>RBP</th>\n",
       "      <td>0.078577</td>\n",
       "      <td>1.862645e-08</td>\n",
       "      <td>0.173880</td>\n",
       "    </tr>\n",
       "    <tr>\n",
       "      <th>RecipRank</th>\n",
       "      <td>0.179519</td>\n",
       "      <td>3.846154e-02</td>\n",
       "      <td>0.301824</td>\n",
       "    </tr>\n",
       "    <tr>\n",
       "      <th rowspan=\"3\" valign=\"top\">UUE</th>\n",
       "      <th>NDCG</th>\n",
       "      <td>0.000326</td>\n",
       "      <td>0.000000e+00</td>\n",
       "      <td>0.004832</td>\n",
       "    </tr>\n",
       "    <tr>\n",
       "      <th>RBP</th>\n",
       "      <td>0.000006</td>\n",
       "      <td>0.000000e+00</td>\n",
       "      <td>0.000158</td>\n",
       "    </tr>\n",
       "    <tr>\n",
       "      <th>RecipRank</th>\n",
       "      <td>0.000286</td>\n",
       "      <td>0.000000e+00</td>\n",
       "      <td>0.005256</td>\n",
       "    </tr>\n",
       "  </tbody>\n",
       "</table>\n",
       "</div>"
      ],
      "text/plain": [
       "                     mean        median       std\n",
       "model                                            \n",
       "ALS   NDCG       0.044477  0.000000e+00  0.073642\n",
       "      RBP        0.016837  0.000000e+00  0.075712\n",
       "      RecipRank  0.052553  0.000000e+00  0.154571\n",
       "Bias  NDCG       0.056837  4.380638e-02  0.082093\n",
       "      RBP        0.025322  1.938705e-26  0.104163\n",
       "      RecipRank  0.074222  1.169631e-02  0.207617\n",
       "IALS  NDCG       0.221068  1.682108e-01  0.192906\n",
       "      RBP        0.101004  1.220703e-04  0.189913\n",
       "      RecipRank  0.225590  7.692308e-02  0.307643\n",
       "IIE   NDCG       0.002620  0.000000e+00  0.015590\n",
       "      RBP        0.000410  0.000000e+00  0.010122\n",
       "      RecipRank  0.001642  0.000000e+00  0.020729\n",
       "III   NDCG       0.215293  1.491980e-01  0.208262\n",
       "      RBP        0.143913  2.441420e-04  0.232122\n",
       "      RecipRank  0.285037  8.333333e-02  0.369859\n",
       "Pop   NDCG       0.142104  7.709739e-02  0.157413\n",
       "      RBP        0.078577  1.862645e-08  0.173880\n",
       "      RecipRank  0.179519  3.846154e-02  0.301824\n",
       "UUE   NDCG       0.000326  0.000000e+00  0.004832\n",
       "      RBP        0.000006  0.000000e+00  0.000158\n",
       "      RecipRank  0.000286  0.000000e+00  0.005256"
      ]
     },
     "execution_count": 13,
     "metadata": {},
     "output_type": "execute_result"
    }
   ],
   "source": [
    "ra = RunAnalysis()\n",
    "\n",
    "ra.add_metric(NDCG())\n",
    "ra.add_metric(RecipRank())\n",
    "ra.add_metric(RBP())\n",
    "\n",
    "rec_results = ra.compute(recs, test)\n",
    "rec_results.list_summary('model')"
   ]
  },
  {
   "cell_type": "markdown",
   "id": "8cba4e78",
   "metadata": {
    "papermill": {
     "duration": 0.009092,
     "end_time": "2024-12-17T17:32:51.770115",
     "exception": false,
     "start_time": "2024-12-17T17:32:51.761023",
     "status": "completed"
    },
    "tags": []
   },
   "source": [
    "We can reshape the list metrics and plot them:"
   ]
  },
  {
   "cell_type": "code",
   "execution_count": 14,
   "id": "238604c3",
   "metadata": {
    "execution": {
     "iopub.execute_input": "2024-12-17T17:32:51.773596Z",
     "iopub.status.busy": "2024-12-17T17:32:51.773520Z",
     "iopub.status.idle": "2024-12-17T17:32:52.092817Z",
     "shell.execute_reply": "2024-12-17T17:32:52.092578Z"
    },
    "papermill": {
     "duration": 0.321764,
     "end_time": "2024-12-17T17:32:52.093432",
     "exception": false,
     "start_time": "2024-12-17T17:32:51.771668",
     "status": "completed"
    },
    "tags": []
   },
   "outputs": [
    {
     "data": {
      "image/png": "[encoded data removed]",
      "text/plain": [
       "<Figure size 1511.11x500 with 3 Axes>"
      ]
     },
     "metadata": {},
     "output_type": "display_data"
    }
   ],
   "source": [
    "metrics = rec_results.list_metrics()\n",
    "metrics = metrics.melt(var_name='metric', ignore_index=False).reset_index()\n",
    "sns.catplot(metrics, x='model', y='value', col='metric', kind='bar')\n",
    "plt.show()"
   ]
  },
  {
   "cell_type": "markdown",
   "id": "d6f202d4",
   "metadata": {
    "papermill": {
     "duration": 0.00886,
     "end_time": "2024-12-17T17:32:52.103905",
     "exception": false,
     "start_time": "2024-12-17T17:32:52.095045",
     "status": "completed"
    },
    "tags": []
   },
   "source": [
    "## Prediction RMSE\n",
    "\n",
    "We will also look at the prediction RMSE."
   ]
  },
  {
   "cell_type": "code",
   "execution_count": 15,
   "id": "c78c5ff6",
   "metadata": {
    "execution": {
     "iopub.execute_input": "2024-12-17T17:32:52.107546Z",
     "iopub.status.busy": "2024-12-17T17:32:52.107455Z",
     "iopub.status.idle": "2024-12-17T17:32:52.461640Z",
     "shell.execute_reply": "2024-12-17T17:32:52.461491Z"
    },
    "papermill": {
     "duration": 0.356674,
     "end_time": "2024-12-17T17:32:52.462151",
     "exception": false,
     "start_time": "2024-12-17T17:32:52.105477",
     "status": "completed"
    },
    "tags": []
   },
   "outputs": [
    {
     "name": "stderr",
     "output_type": "stream",
     "text": [
      "/home/mde48/lenskit/lkpy/lenskit/lenskit/metrics/bulk.py:121: FutureWarning: The previous implementation of stack is deprecated and will be removed in a future version of pandas. See the What's New notes for pandas 2.1.0 for details. Specify future_stack=True to adopt the new implementation and silence this warning.\n",
      "  df = scores.groupby(list(keys)).agg([\"mean\", \"median\", \"std\"]).stack(level=0)\n"
     ]
    },
    {
     "data": {
      "text/html": [
       "<div>\n",
       "<style scoped>\n",
       "    .dataframe tbody tr th:only-of-type {\n",
       "        vertical-align: middle;\n",
       "    }\n",
       "\n",
       "    .dataframe tbody tr th {\n",
       "        vertical-align: top;\n",
       "    }\n",
       "\n",
       "    .dataframe thead th {\n",
       "        text-align: right;\n",
       "    }\n",
       "</style>\n",
       "<table border=\"1\" class=\"dataframe\">\n",
       "  <thead>\n",
       "    <tr style=\"text-align: right;\">\n",
       "      <th></th>\n",
       "      <th></th>\n",
       "      <th>mean</th>\n",
       "      <th>median</th>\n",
       "      <th>std</th>\n",
       "    </tr>\n",
       "    <tr>\n",
       "      <th>model</th>\n",
       "      <th></th>\n",
       "      <th></th>\n",
       "      <th></th>\n",
       "      <th></th>\n",
       "    </tr>\n",
       "  </thead>\n",
       "  <tbody>\n",
       "    <tr>\n",
       "      <th>ALS</th>\n",
       "      <th>RMSE</th>\n",
       "      <td>0.822781</td>\n",
       "      <td>0.756343</td>\n",
       "      <td>0.369172</td>\n",
       "    </tr>\n",
       "    <tr>\n",
       "      <th>Bias</th>\n",
       "      <th>RMSE</th>\n",
       "      <td>0.844854</td>\n",
       "      <td>0.779785</td>\n",
       "      <td>0.378084</td>\n",
       "    </tr>\n",
       "    <tr>\n",
       "      <th>IIE</th>\n",
       "      <th>RMSE</th>\n",
       "      <td>0.831609</td>\n",
       "      <td>0.768649</td>\n",
       "      <td>0.386477</td>\n",
       "    </tr>\n",
       "    <tr>\n",
       "      <th>UUE</th>\n",
       "      <th>RMSE</th>\n",
       "      <td>0.859945</td>\n",
       "      <td>0.799290</td>\n",
       "      <td>0.388816</td>\n",
       "    </tr>\n",
       "  </tbody>\n",
       "</table>\n",
       "</div>"
      ],
      "text/plain": [
       "                mean    median       std\n",
       "model                                   \n",
       "ALS   RMSE  0.822781  0.756343  0.369172\n",
       "Bias  RMSE  0.844854  0.779785  0.378084\n",
       "IIE   RMSE  0.831609  0.768649  0.386477\n",
       "UUE   RMSE  0.859945  0.799290  0.388816"
      ]
     },
     "execution_count": 15,
     "metadata": {},
     "output_type": "execute_result"
    }
   ],
   "source": [
    "pa = RunAnalysis()\n",
    "\n",
    "pa.add_metric(RMSE(missing_scores='ignore', missing_truth='ignore'))\n",
    "\n",
    "pred_results = pa.compute(preds, test)\n",
    "pred_results.list_summary('model')"
   ]
  },
  {
   "cell_type": "code",
   "execution_count": 16,
   "id": "929287d6",
   "metadata": {
    "execution": {
     "iopub.execute_input": "2024-12-17T17:32:52.470123Z",
     "iopub.status.busy": "2024-12-17T17:32:52.470042Z",
     "iopub.status.idle": "2024-12-17T17:32:52.547610Z",
     "shell.execute_reply": "2024-12-17T17:32:52.547360Z"
    },
    "papermill": {
     "duration": 0.084602,
     "end_time": "2024-12-17T17:32:52.548349",
     "exception": false,
     "start_time": "2024-12-17T17:32:52.463747",
     "status": "completed"
    },
    "tags": []
   },
   "outputs": [
    {
     "data": {
      "image/png": "[encoded data removed]",
      "text/plain": [
       "<Figure size 511.111x500 with 1 Axes>"
      ]
     },
     "metadata": {},
     "output_type": "display_data"
    }
   ],
   "source": [
    "sns.catplot(pred_results.list_metrics().reset_index(), x='model', y='RMSE', kind='bar')\n",
    "plt.show()"
   ]
  },
  {
   "cell_type": "markdown",
   "id": "0caac7ca",
   "metadata": {
    "papermill": {
     "duration": 0.002132,
     "end_time": "2024-12-17T17:32:52.553858",
     "exception": false,
     "start_time": "2024-12-17T17:32:52.551726",
     "status": "completed"
    },
    "tags": []
   },
   "source": [
    "## Save Metrics\n",
    "\n",
    "We'll now save the metrics to a file."
   ]
  },
  {
   "cell_type": "code",
   "execution_count": 17,
   "id": "4e43b021",
   "metadata": {
    "execution": {
     "iopub.execute_input": "2024-12-17T17:32:52.557632Z",
     "iopub.status.busy": "2024-12-17T17:32:52.557543Z",
     "iopub.status.idle": "2024-12-17T17:32:52.564195Z",
     "shell.execute_reply": "2024-12-17T17:32:52.563999Z"
    },
    "papermill": {
     "duration": 0.009192,
     "end_time": "2024-12-17T17:32:52.564647",
     "exception": false,
     "start_time": "2024-12-17T17:32:52.555455",
     "status": "completed"
    },
    "tags": []
   },
   "outputs": [
    {
     "name": "stderr",
     "output_type": "stream",
     "text": [
      "/home/mde48/lenskit/lkpy/lenskit/lenskit/metrics/bulk.py:121: FutureWarning: The previous implementation of stack is deprecated and will be removed in a future version of pandas. See the What's New notes for pandas 2.1.0 for details. Specify future_stack=True to adopt the new implementation and silence this warning.\n",
      "  df = scores.groupby(list(keys)).agg([\"mean\", \"median\", \"std\"]).stack(level=0)\n"
     ]
    },
    {
     "data": {
      "text/html": [
       "<div>\n",
       "<style scoped>\n",
       "    .dataframe tbody tr th:only-of-type {\n",
       "        vertical-align: middle;\n",
       "    }\n",
       "\n",
       "    .dataframe tbody tr th {\n",
       "        vertical-align: top;\n",
       "    }\n",
       "\n",
       "    .dataframe thead th {\n",
       "        text-align: right;\n",
       "    }\n",
       "</style>\n",
       "<table border=\"1\" class=\"dataframe\">\n",
       "  <thead>\n",
       "    <tr style=\"text-align: right;\">\n",
       "      <th></th>\n",
       "      <th>NDCG</th>\n",
       "      <th>RBP</th>\n",
       "      <th>RecipRank</th>\n",
       "    </tr>\n",
       "    <tr>\n",
       "      <th>model</th>\n",
       "      <th></th>\n",
       "      <th></th>\n",
       "      <th></th>\n",
       "    </tr>\n",
       "  </thead>\n",
       "  <tbody>\n",
       "    <tr>\n",
       "      <th>ALS</th>\n",
       "      <td>0.044477</td>\n",
       "      <td>0.016837</td>\n",
       "      <td>0.052553</td>\n",
       "    </tr>\n",
       "    <tr>\n",
       "      <th>Bias</th>\n",
       "      <td>0.056837</td>\n",
       "      <td>0.025322</td>\n",
       "      <td>0.074222</td>\n",
       "    </tr>\n",
       "    <tr>\n",
       "      <th>IALS</th>\n",
       "      <td>0.221068</td>\n",
       "      <td>0.101004</td>\n",
       "      <td>0.225590</td>\n",
       "    </tr>\n",
       "    <tr>\n",
       "      <th>IIE</th>\n",
       "      <td>0.002620</td>\n",
       "      <td>0.000410</td>\n",
       "      <td>0.001642</td>\n",
       "    </tr>\n",
       "    <tr>\n",
       "      <th>III</th>\n",
       "      <td>0.215293</td>\n",
       "      <td>0.143913</td>\n",
       "      <td>0.285037</td>\n",
       "    </tr>\n",
       "    <tr>\n",
       "      <th>Pop</th>\n",
       "      <td>0.142104</td>\n",
       "      <td>0.078577</td>\n",
       "      <td>0.179519</td>\n",
       "    </tr>\n",
       "    <tr>\n",
       "      <th>UUE</th>\n",
       "      <td>0.000326</td>\n",
       "      <td>0.000006</td>\n",
       "      <td>0.000286</td>\n",
       "    </tr>\n",
       "  </tbody>\n",
       "</table>\n",
       "</div>"
      ],
      "text/plain": [
       "           NDCG       RBP  RecipRank\n",
       "model                               \n",
       "ALS    0.044477  0.016837   0.052553\n",
       "Bias   0.056837  0.025322   0.074222\n",
       "IALS   0.221068  0.101004   0.225590\n",
       "IIE    0.002620  0.000410   0.001642\n",
       "III    0.215293  0.143913   0.285037\n",
       "Pop    0.142104  0.078577   0.179519\n",
       "UUE    0.000326  0.000006   0.000286"
      ]
     },
     "execution_count": 17,
     "metadata": {},
     "output_type": "execute_result"
    }
   ],
   "source": [
    "rlsum = rec_results.list_summary('model')['mean'].unstack()\n",
    "rlsum"
   ]
  },
  {
   "cell_type": "code",
   "execution_count": 18,
   "id": "cae53f67",
   "metadata": {
    "execution": {
     "iopub.execute_input": "2024-12-17T17:32:52.568427Z",
     "iopub.status.busy": "2024-12-17T17:32:52.568294Z",
     "iopub.status.idle": "2024-12-17T17:32:52.570782Z",
     "shell.execute_reply": "2024-12-17T17:32:52.570559Z"
    },
    "papermill": {
     "duration": 0.004891,
     "end_time": "2024-12-17T17:32:52.571196",
     "exception": false,
     "start_time": "2024-12-17T17:32:52.566305",
     "status": "completed"
    },
    "tags": []
   },
   "outputs": [],
   "source": [
    "rlsum.to_json(f'eval-metrics.{dataset}.json', orient='index')"
   ]
  }
 ],
 "metadata": {
  "jupytext": {
   "formats": "ipynb,md",
   "notebook_metadata_filter": "split_at_heading"
  },
  "kernelspec": {
   "display_name": "Python 3 (ipykernel)",
   "language": "python",
   "name": "python3"
  },
  "language_info": {
   "codemirror_mode": {
    "name": "ipython",
    "version": 3
   },
   "file_extension": ".py",
   "mimetype": "text/x-python",
   "name": "python",
   "nbconvert_exporter": "python",
   "pygments_lexer": "ipython3",
   "version": "3.12.8"
  },
  "papermill": {
   "default_parameters": {},
   "duration": 3.617701,
   "end_time": "2024-12-17T17:32:52.987589",
   "environment_variables": {},
   "exception": null,
   "input_path": "eval-report.ipynb",
   "output_path": "eval-report.mlsmall.ipynb",
   "parameters": {
    "dataset": "mlsmall"
   },
   "start_time": "2024-12-17T17:32:49.369888",
   "version": "2.6.0"
  },
  "split_at_heading": true
 },
 "nbformat": 4,
 "nbformat_minor": 5
}