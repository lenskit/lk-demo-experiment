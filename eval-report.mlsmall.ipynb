{
 "cells": [
  {
   "cell_type": "markdown",
   "id": "381bef4a",
   "metadata": {
    "papermill": {
     "duration": 0.010969,
     "end_time": "2024-12-07T21:22:47.085667",
     "exception": false,
     "start_time": "2024-12-07T21:22:47.074698",
     "status": "completed"
    },
    "tags": []
   },
   "source": [
    "# Evaluation Analysis for Recommender Output"
   ]
  },
  {
   "cell_type": "markdown",
   "id": "664c72ab",
   "metadata": {
    "papermill": {
     "duration": 0.001021,
     "end_time": "2024-12-07T21:22:47.087904",
     "exception": false,
     "start_time": "2024-12-07T21:22:47.086883",
     "status": "completed"
    },
    "tags": []
   },
   "source": [
    "In this section we will analyze and compare the generated recommendations and predictions from a predefined list of algorithms with the goal of assessing the performance of each algorithm with respect to a metric. In other words, we would rank the algorithms for each metric considered with respect to performance."
   ]
  },
  {
   "cell_type": "markdown",
   "id": "81fcb0af",
   "metadata": {
    "papermill": {
     "duration": 0.001454,
     "end_time": "2024-12-07T21:22:47.090472",
     "exception": false,
     "start_time": "2024-12-07T21:22:47.089018",
     "status": "completed"
    },
    "tags": []
   },
   "source": [
    "## Setup"
   ]
  },
  {
   "cell_type": "markdown",
   "id": "933a60f9",
   "metadata": {
    "papermill": {
     "duration": 0.001056,
     "end_time": "2024-12-07T21:22:47.092880",
     "exception": false,
     "start_time": "2024-12-07T21:22:47.091824",
     "status": "completed"
    },
    "tags": []
   },
   "source": [
    "Below are the list of packages required to successfully run the analysis. They are divided into partitions to signify their specific task.<br>\n",
    "We need the pathlib package for working with files and folders"
   ]
  },
  {
   "cell_type": "code",
   "execution_count": 1,
   "id": "9488a624",
   "metadata": {
    "execution": {
     "iopub.execute_input": "2024-12-07T21:22:47.095650Z",
     "iopub.status.busy": "2024-12-07T21:22:47.095512Z",
     "iopub.status.idle": "2024-12-07T21:22:47.097581Z",
     "shell.execute_reply": "2024-12-07T21:22:47.097222Z"
    },
    "papermill": {
     "duration": 0.0042,
     "end_time": "2024-12-07T21:22:47.098115",
     "exception": false,
     "start_time": "2024-12-07T21:22:47.093915",
     "status": "completed"
    },
    "tags": []
   },
   "outputs": [],
   "source": [
    "from pathlib import Path\n",
    "import json"
   ]
  },
  {
   "cell_type": "markdown",
   "id": "99e5fc5d",
   "metadata": {
    "papermill": {
     "duration": 0.001064,
     "end_time": "2024-12-07T21:22:47.100337",
     "exception": false,
     "start_time": "2024-12-07T21:22:47.099273",
     "status": "completed"
    },
    "tags": []
   },
   "source": [
    "We would use the pandas for analyzing and manipulating our data while seaborn and matplotlib are used for data visualization. statsmodels.graphics.gofplots and scipy.stats.shapiro are used for normality check. Scipy.stats.friedmanchisquare is a non-parametric test used to determine the statistical significance in metric results and the wilcoxon test is used for pairwise comparison of sample data."
   ]
  },
  {
   "cell_type": "code",
   "execution_count": 2,
   "id": "5443464f",
   "metadata": {
    "execution": {
     "iopub.execute_input": "2024-12-07T21:22:47.103247Z",
     "iopub.status.busy": "2024-12-07T21:22:47.102963Z",
     "iopub.status.idle": "2024-12-07T21:22:47.507948Z",
     "shell.execute_reply": "2024-12-07T21:22:47.507585Z"
    },
    "lines_to_next_cell": 2,
    "papermill": {
     "duration": 0.407212,
     "end_time": "2024-12-07T21:22:47.508680",
     "exception": false,
     "start_time": "2024-12-07T21:22:47.101468",
     "status": "completed"
    },
    "tags": []
   },
   "outputs": [],
   "source": [
    "import pandas as pd\n",
    "import seaborn as sns\n",
    "import matplotlib.pyplot as plt\n",
    "from statsmodels.graphics.gofplots import qqplot\n",
    "from scipy.stats import shapiro\n",
    "from scipy.stats import friedmanchisquare, wilcoxon\n",
    "from itertools import combinations"
   ]
  },
  {
   "cell_type": "markdown",
   "id": "17a97495",
   "metadata": {
    "papermill": {
     "duration": 0.008867,
     "end_time": "2024-12-07T21:22:47.518959",
     "exception": false,
     "start_time": "2024-12-07T21:22:47.510092",
     "status": "completed"
    },
    "tags": []
   },
   "source": [
    "Import the LensKit metrics for analysis:"
   ]
  },
  {
   "cell_type": "code",
   "execution_count": 3,
   "id": "64672a8e",
   "metadata": {
    "execution": {
     "iopub.execute_input": "2024-12-07T21:22:47.522074Z",
     "iopub.status.busy": "2024-12-07T21:22:47.521883Z",
     "iopub.status.idle": "2024-12-07T21:22:48.191810Z",
     "shell.execute_reply": "2024-12-07T21:22:48.191546Z"
    },
    "papermill": {
     "duration": 0.672331,
     "end_time": "2024-12-07T21:22:48.192537",
     "exception": false,
     "start_time": "2024-12-07T21:22:47.520206",
     "status": "completed"
    },
    "tags": []
   },
   "outputs": [],
   "source": [
    "from lenskit.data import ItemListCollection, UserIDKey\n",
    "from lenskit.metrics import RunAnalysis, RMSE, NDCG, RecipRank, RBP"
   ]
  },
  {
   "cell_type": "markdown",
   "id": "63508ad7",
   "metadata": {
    "papermill": {
     "duration": 0.00911,
     "end_time": "2024-12-07T21:22:48.203012",
     "exception": false,
     "start_time": "2024-12-07T21:22:48.193902",
     "status": "completed"
    },
    "tags": []
   },
   "source": [
    "## Load Data\n",
    "\n",
    "The recommendations are in `runs`, and we will need to reassemble the test data from `test`."
   ]
  },
  {
   "cell_type": "code",
   "execution_count": 4,
   "id": "2d81312f",
   "metadata": {
    "execution": {
     "iopub.execute_input": "2024-12-07T21:22:48.206084Z",
     "iopub.status.busy": "2024-12-07T21:22:48.205949Z",
     "iopub.status.idle": "2024-12-07T21:22:48.207797Z",
     "shell.execute_reply": "2024-12-07T21:22:48.207635Z"
    },
    "papermill": {
     "duration": 0.003853,
     "end_time": "2024-12-07T21:22:48.208118",
     "exception": false,
     "start_time": "2024-12-07T21:22:48.204265",
     "status": "completed"
    },
    "tags": [
     "parameters"
    ]
   },
   "outputs": [],
   "source": [
    "dataset = \"ml100k\""
   ]
  },
  {
   "cell_type": "code",
   "execution_count": 5,
   "id": "3dc867ee",
   "metadata": {
    "execution": {
     "iopub.execute_input": "2024-12-07T21:22:48.210735Z",
     "iopub.status.busy": "2024-12-07T21:22:48.210630Z",
     "iopub.status.idle": "2024-12-07T21:22:48.211793Z",
     "shell.execute_reply": "2024-12-07T21:22:48.211662Z"
    },
    "papermill": {
     "duration": 0.002759,
     "end_time": "2024-12-07T21:22:48.212031",
     "exception": false,
     "start_time": "2024-12-07T21:22:48.209272",
     "status": "completed"
    },
    "tags": [
     "injected-parameters"
    ]
   },
   "outputs": [],
   "source": [
    "# Parameters\n",
    "dataset = \"mlsmall\"\n"
   ]
  },
  {
   "cell_type": "code",
   "execution_count": 6,
   "id": "3ec95294",
   "metadata": {
    "execution": {
     "iopub.execute_input": "2024-12-07T21:22:48.214687Z",
     "iopub.status.busy": "2024-12-07T21:22:48.214600Z",
     "iopub.status.idle": "2024-12-07T21:22:48.215754Z",
     "shell.execute_reply": "2024-12-07T21:22:48.215624Z"
    },
    "papermill": {
     "duration": 0.002817,
     "end_time": "2024-12-07T21:22:48.216020",
     "exception": false,
     "start_time": "2024-12-07T21:22:48.213203",
     "status": "completed"
    },
    "tags": []
   },
   "outputs": [],
   "source": [
    "output_root = Path(\"runs\")"
   ]
  },
  {
   "cell_type": "code",
   "execution_count": 7,
   "id": "2fdbd191",
   "metadata": {
    "execution": {
     "iopub.execute_input": "2024-12-07T21:22:48.218783Z",
     "iopub.status.busy": "2024-12-07T21:22:48.218682Z",
     "iopub.status.idle": "2024-12-07T21:22:48.220059Z",
     "shell.execute_reply": "2024-12-07T21:22:48.219899Z"
    },
    "papermill": {
     "duration": 0.003261,
     "end_time": "2024-12-07T21:22:48.220460",
     "exception": false,
     "start_time": "2024-12-07T21:22:48.217199",
     "status": "completed"
    },
    "tags": []
   },
   "outputs": [],
   "source": [
    "dirs = [fld for fld in output_root.glob(f'{dataset}-*')]"
   ]
  },
  {
   "cell_type": "code",
   "execution_count": 8,
   "id": "57c58091",
   "metadata": {
    "execution": {
     "iopub.execute_input": "2024-12-07T21:22:48.223029Z",
     "iopub.status.busy": "2024-12-07T21:22:48.222964Z",
     "iopub.status.idle": "2024-12-07T21:22:48.972905Z",
     "shell.execute_reply": "2024-12-07T21:22:48.972461Z"
    },
    "papermill": {
     "duration": 0.752104,
     "end_time": "2024-12-07T21:22:48.973754",
     "exception": false,
     "start_time": "2024-12-07T21:22:48.221650",
     "status": "completed"
    },
    "tags": []
   },
   "outputs": [],
   "source": [
    "recs = ItemListCollection(['model', 'user_id'], index=False)\n",
    "for fld in dirs:\n",
    "    for file in fld.glob(\"recs-*\"):\n",
    "        rec = pd.read_parquet(file)\n",
    "        rec = ItemListCollection.from_df(rec, UserIDKey)\n",
    "        recs.add_from(rec, model=fld.name.split(\"-\")[1])"
   ]
  },
  {
   "cell_type": "code",
   "execution_count": 9,
   "id": "effd04de",
   "metadata": {
    "execution": {
     "iopub.execute_input": "2024-12-07T21:22:48.984852Z",
     "iopub.status.busy": "2024-12-07T21:22:48.984765Z",
     "iopub.status.idle": "2024-12-07T21:22:48.988094Z",
     "shell.execute_reply": "2024-12-07T21:22:48.987945Z"
    },
    "papermill": {
     "duration": 0.013306,
     "end_time": "2024-12-07T21:22:48.988496",
     "exception": false,
     "start_time": "2024-12-07T21:22:48.975190",
     "status": "completed"
    },
    "tags": []
   },
   "outputs": [
    {
     "data": {
      "text/plain": [
       "['ALS', 'Bias', 'IALS', 'IIE', 'III', 'Pop', 'UUE']"
      ]
     },
     "execution_count": 9,
     "metadata": {},
     "output_type": "execute_result"
    }
   ],
   "source": [
    "rec_algos = sorted(set(a for (a, _u) in recs.keys()))\n",
    "rec_algos"
   ]
  },
  {
   "cell_type": "code",
   "execution_count": 10,
   "id": "4593fe69",
   "metadata": {
    "execution": {
     "iopub.execute_input": "2024-12-07T21:22:48.991347Z",
     "iopub.status.busy": "2024-12-07T21:22:48.991279Z",
     "iopub.status.idle": "2024-12-07T21:22:49.351668Z",
     "shell.execute_reply": "2024-12-07T21:22:49.351367Z"
    },
    "papermill": {
     "duration": 0.362598,
     "end_time": "2024-12-07T21:22:49.352376",
     "exception": false,
     "start_time": "2024-12-07T21:22:48.989778",
     "status": "completed"
    },
    "tags": []
   },
   "outputs": [],
   "source": [
    "preds = ItemListCollection(['model', 'user_id'], index=False)\n",
    "for fld in dirs:\n",
    "    for file in fld.glob(\"pred-*\"):\n",
    "        pred = pd.read_parquet(file)\n",
    "        pred = ItemListCollection.from_df(pred, UserIDKey)\n",
    "        preds.add_from(pred, model=fld.name.split(\"-\")[1])"
   ]
  },
  {
   "cell_type": "markdown",
   "id": "5f88f622",
   "metadata": {
    "papermill": {
     "duration": 0.008948,
     "end_time": "2024-12-07T21:22:49.362876",
     "exception": false,
     "start_time": "2024-12-07T21:22:49.353928",
     "status": "completed"
    },
    "tags": []
   },
   "source": [
    "We need to load the test data so that we have the ground truths for computing accuracy"
   ]
  },
  {
   "cell_type": "code",
   "execution_count": 11,
   "id": "bf88dbf4",
   "metadata": {
    "execution": {
     "iopub.execute_input": "2024-12-07T21:22:49.367538Z",
     "iopub.status.busy": "2024-12-07T21:22:49.367404Z",
     "iopub.status.idle": "2024-12-07T21:22:49.368984Z",
     "shell.execute_reply": "2024-12-07T21:22:49.368749Z"
    },
    "papermill": {
     "duration": 0.005349,
     "end_time": "2024-12-07T21:22:49.369507",
     "exception": false,
     "start_time": "2024-12-07T21:22:49.364158",
     "status": "completed"
    },
    "tags": []
   },
   "outputs": [],
   "source": [
    "split_root = Path(\"data-split\")\n",
    "split_dir = split_root / dataset"
   ]
  },
  {
   "cell_type": "code",
   "execution_count": 12,
   "id": "bbd3075e",
   "metadata": {
    "execution": {
     "iopub.execute_input": "2024-12-07T21:22:49.373279Z",
     "iopub.status.busy": "2024-12-07T21:22:49.373160Z",
     "iopub.status.idle": "2024-12-07T21:22:49.512772Z",
     "shell.execute_reply": "2024-12-07T21:22:49.512304Z"
    },
    "papermill": {
     "duration": 0.143067,
     "end_time": "2024-12-07T21:22:49.513833",
     "exception": false,
     "start_time": "2024-12-07T21:22:49.370766",
     "status": "completed"
    },
    "tags": []
   },
   "outputs": [],
   "source": [
    "test = ItemListCollection(UserIDKey)\n",
    "for file in split_dir.glob(\"test-*.parquet\"):\n",
    "    df = pd.read_parquet(file)\n",
    "    test.add_from(ItemListCollection.from_df(df, UserIDKey))"
   ]
  },
  {
   "cell_type": "markdown",
   "id": "d1cc45f7",
   "metadata": {
    "papermill": {
     "duration": 0.002131,
     "end_time": "2024-12-07T21:22:49.518804",
     "exception": false,
     "start_time": "2024-12-07T21:22:49.516673",
     "status": "completed"
    },
    "tags": []
   },
   "source": [
    "## Top-N Metrics\n",
    "\n",
    "`RunListAnalysis` computes metrics for recommendation results and takes care of\n",
    "matching recommendations and ground truth."
   ]
  },
  {
   "cell_type": "code",
   "execution_count": 13,
   "id": "5cc74039",
   "metadata": {
    "execution": {
     "iopub.execute_input": "2024-12-07T21:22:49.522324Z",
     "iopub.status.busy": "2024-12-07T21:22:49.522133Z",
     "iopub.status.idle": "2024-12-07T21:22:49.813596Z",
     "shell.execute_reply": "2024-12-07T21:22:49.813257Z"
    },
    "papermill": {
     "duration": 0.294022,
     "end_time": "2024-12-07T21:22:49.814149",
     "exception": false,
     "start_time": "2024-12-07T21:22:49.520127",
     "status": "completed"
    },
    "tags": []
   },
   "outputs": [
    {
     "name": "stderr",
     "output_type": "stream",
     "text": [
      "/home/mde48/lenskit/lkpy/lenskit/lenskit/metrics/bulk.py:116: FutureWarning: The previous implementation of stack is deprecated and will be removed in a future version of pandas. See the What's New notes for pandas 2.1.0 for details. Specify future_stack=True to adopt the new implementation and silence this warning.\n",
      "  df = scores.groupby(list(keys)).agg([\"mean\", \"median\", \"std\"]).stack(level=0)\n"
     ]
    },
    {
     "data": {
      "text/html": [
       "<div>\n",
       "<style scoped>\n",
       "    .dataframe tbody tr th:only-of-type {\n",
       "        vertical-align: middle;\n",
       "    }\n",
       "\n",
       "    .dataframe tbody tr th {\n",
       "        vertical-align: top;\n",
       "    }\n",
       "\n",
       "    .dataframe thead th {\n",
       "        text-align: right;\n",
       "    }\n",
       "</style>\n",
       "<table border=\"1\" class=\"dataframe\">\n",
       "  <thead>\n",
       "    <tr style=\"text-align: right;\">\n",
       "      <th></th>\n",
       "      <th></th>\n",
       "      <th>mean</th>\n",
       "      <th>median</th>\n",
       "      <th>std</th>\n",
       "    </tr>\n",
       "    <tr>\n",
       "      <th>model</th>\n",
       "      <th></th>\n",
       "      <th></th>\n",
       "      <th></th>\n",
       "      <th></th>\n",
       "    </tr>\n",
       "  </thead>\n",
       "  <tbody>\n",
       "    <tr>\n",
       "      <th rowspan=\"3\" valign=\"top\">ALS</th>\n",
       "      <th>NDCG</th>\n",
       "      <td>0.045532</td>\n",
       "      <td>0.000000e+00</td>\n",
       "      <td>0.076487</td>\n",
       "    </tr>\n",
       "    <tr>\n",
       "      <th>RBP</th>\n",
       "      <td>0.017876</td>\n",
       "      <td>0.000000e+00</td>\n",
       "      <td>0.080690</td>\n",
       "    </tr>\n",
       "    <tr>\n",
       "      <th>RecipRank</th>\n",
       "      <td>0.055705</td>\n",
       "      <td>0.000000e+00</td>\n",
       "      <td>0.162225</td>\n",
       "    </tr>\n",
       "    <tr>\n",
       "      <th rowspan=\"3\" valign=\"top\">Bias</th>\n",
       "      <th>NDCG</th>\n",
       "      <td>0.056837</td>\n",
       "      <td>4.380638e-02</td>\n",
       "      <td>0.082093</td>\n",
       "    </tr>\n",
       "    <tr>\n",
       "      <th>RBP</th>\n",
       "      <td>0.025322</td>\n",
       "      <td>1.938705e-26</td>\n",
       "      <td>0.104163</td>\n",
       "    </tr>\n",
       "    <tr>\n",
       "      <th>RecipRank</th>\n",
       "      <td>0.074222</td>\n",
       "      <td>1.169631e-02</td>\n",
       "      <td>0.207617</td>\n",
       "    </tr>\n",
       "    <tr>\n",
       "      <th rowspan=\"3\" valign=\"top\">IALS</th>\n",
       "      <th>NDCG</th>\n",
       "      <td>0.217368</td>\n",
       "      <td>1.613681e-01</td>\n",
       "      <td>0.192997</td>\n",
       "    </tr>\n",
       "    <tr>\n",
       "      <th>RBP</th>\n",
       "      <td>0.097195</td>\n",
       "      <td>2.441406e-04</td>\n",
       "      <td>0.193851</td>\n",
       "    </tr>\n",
       "    <tr>\n",
       "      <th>RecipRank</th>\n",
       "      <td>0.219954</td>\n",
       "      <td>8.333333e-02</td>\n",
       "      <td>0.309157</td>\n",
       "    </tr>\n",
       "    <tr>\n",
       "      <th rowspan=\"3\" valign=\"top\">IIE</th>\n",
       "      <th>NDCG</th>\n",
       "      <td>0.002620</td>\n",
       "      <td>0.000000e+00</td>\n",
       "      <td>0.015590</td>\n",
       "    </tr>\n",
       "    <tr>\n",
       "      <th>RBP</th>\n",
       "      <td>0.000410</td>\n",
       "      <td>0.000000e+00</td>\n",
       "      <td>0.010122</td>\n",
       "    </tr>\n",
       "    <tr>\n",
       "      <th>RecipRank</th>\n",
       "      <td>0.001642</td>\n",
       "      <td>0.000000e+00</td>\n",
       "      <td>0.020729</td>\n",
       "    </tr>\n",
       "    <tr>\n",
       "      <th rowspan=\"3\" valign=\"top\">III</th>\n",
       "      <th>NDCG</th>\n",
       "      <td>0.215293</td>\n",
       "      <td>1.491980e-01</td>\n",
       "      <td>0.208262</td>\n",
       "    </tr>\n",
       "    <tr>\n",
       "      <th>RBP</th>\n",
       "      <td>0.143913</td>\n",
       "      <td>2.441420e-04</td>\n",
       "      <td>0.232122</td>\n",
       "    </tr>\n",
       "    <tr>\n",
       "      <th>RecipRank</th>\n",
       "      <td>0.285037</td>\n",
       "      <td>8.333333e-02</td>\n",
       "      <td>0.369859</td>\n",
       "    </tr>\n",
       "    <tr>\n",
       "      <th rowspan=\"3\" valign=\"top\">Pop</th>\n",
       "      <th>NDCG</th>\n",
       "      <td>0.142104</td>\n",
       "      <td>7.709739e-02</td>\n",
       "      <td>0.157413</td>\n",
       "    </tr>\n",
       "    <tr>\n",
       "      <th>RBP</th>\n",
       "      <td>0.078577</td>\n",
       "      <td>1.862645e-08</td>\n",
       "      <td>0.173880</td>\n",
       "    </tr>\n",
       "    <tr>\n",
       "      <th>RecipRank</th>\n",
       "      <td>0.179519</td>\n",
       "      <td>3.846154e-02</td>\n",
       "      <td>0.301824</td>\n",
       "    </tr>\n",
       "    <tr>\n",
       "      <th rowspan=\"3\" valign=\"top\">UUE</th>\n",
       "      <th>NDCG</th>\n",
       "      <td>0.000326</td>\n",
       "      <td>0.000000e+00</td>\n",
       "      <td>0.004836</td>\n",
       "    </tr>\n",
       "    <tr>\n",
       "      <th>RBP</th>\n",
       "      <td>0.000006</td>\n",
       "      <td>0.000000e+00</td>\n",
       "      <td>0.000158</td>\n",
       "    </tr>\n",
       "    <tr>\n",
       "      <th>RecipRank</th>\n",
       "      <td>0.000286</td>\n",
       "      <td>0.000000e+00</td>\n",
       "      <td>0.005261</td>\n",
       "    </tr>\n",
       "  </tbody>\n",
       "</table>\n",
       "</div>"
      ],
      "text/plain": [
       "                     mean        median       std\n",
       "model                                            \n",
       "ALS   NDCG       0.045532  0.000000e+00  0.076487\n",
       "      RBP        0.017876  0.000000e+00  0.080690\n",
       "      RecipRank  0.055705  0.000000e+00  0.162225\n",
       "Bias  NDCG       0.056837  4.380638e-02  0.082093\n",
       "      RBP        0.025322  1.938705e-26  0.104163\n",
       "      RecipRank  0.074222  1.169631e-02  0.207617\n",
       "IALS  NDCG       0.217368  1.613681e-01  0.192997\n",
       "      RBP        0.097195  2.441406e-04  0.193851\n",
       "      RecipRank  0.219954  8.333333e-02  0.309157\n",
       "IIE   NDCG       0.002620  0.000000e+00  0.015590\n",
       "      RBP        0.000410  0.000000e+00  0.010122\n",
       "      RecipRank  0.001642  0.000000e+00  0.020729\n",
       "III   NDCG       0.215293  1.491980e-01  0.208262\n",
       "      RBP        0.143913  2.441420e-04  0.232122\n",
       "      RecipRank  0.285037  8.333333e-02  0.369859\n",
       "Pop   NDCG       0.142104  7.709739e-02  0.157413\n",
       "      RBP        0.078577  1.862645e-08  0.173880\n",
       "      RecipRank  0.179519  3.846154e-02  0.301824\n",
       "UUE   NDCG       0.000326  0.000000e+00  0.004836\n",
       "      RBP        0.000006  0.000000e+00  0.000158\n",
       "      RecipRank  0.000286  0.000000e+00  0.005261"
      ]
     },
     "execution_count": 13,
     "metadata": {},
     "output_type": "execute_result"
    }
   ],
   "source": [
    "ra = RunAnalysis()\n",
    "\n",
    "ra.add_metric(NDCG())\n",
    "ra.add_metric(RecipRank())\n",
    "ra.add_metric(RBP())\n",
    "\n",
    "rec_results = ra.compute(recs, test)\n",
    "rec_results.list_summary('model')"
   ]
  },
  {
   "cell_type": "markdown",
   "id": "b17ba3e5",
   "metadata": {
    "papermill": {
     "duration": 0.009017,
     "end_time": "2024-12-07T21:22:49.824749",
     "exception": false,
     "start_time": "2024-12-07T21:22:49.815732",
     "status": "completed"
    },
    "tags": []
   },
   "source": [
    "We can reshape the list metrics and plot them:"
   ]
  },
  {
   "cell_type": "code",
   "execution_count": 14,
   "id": "5c479b59",
   "metadata": {
    "execution": {
     "iopub.execute_input": "2024-12-07T21:22:49.828123Z",
     "iopub.status.busy": "2024-12-07T21:22:49.828017Z",
     "iopub.status.idle": "2024-12-07T21:22:50.158061Z",
     "shell.execute_reply": "2024-12-07T21:22:50.157841Z"
    },
    "papermill": {
     "duration": 0.332338,
     "end_time": "2024-12-07T21:22:50.158481",
     "exception": false,
     "start_time": "2024-12-07T21:22:49.826143",
     "status": "completed"
    },
    "tags": []
   },
   "outputs": [
    {
     "data": {
      "image/png": "[encoded data removed]",
      "text/plain": [
       "<Figure size 1511.11x500 with 3 Axes>"
      ]
     },
     "metadata": {},
     "output_type": "display_data"
    }
   ],
   "source": [
    "metrics = rec_results.list_metrics()\n",
    "metrics = metrics.melt(var_name='metric', ignore_index=False).reset_index()\n",
    "sns.catplot(metrics, x='model', y='value', col='metric', kind='bar')\n",
    "plt.show()"
   ]
  },
  {
   "cell_type": "markdown",
   "id": "904ccd24",
   "metadata": {
    "papermill": {
     "duration": 0.008864,
     "end_time": "2024-12-07T21:22:50.169067",
     "exception": false,
     "start_time": "2024-12-07T21:22:50.160203",
     "status": "completed"
    },
    "tags": []
   },
   "source": [
    "## Prediction RMSE\n",
    "\n",
    "We will also look at the prediction RMSE."
   ]
  },
  {
   "cell_type": "code",
   "execution_count": 15,
   "id": "ca056d28",
   "metadata": {
    "execution": {
     "iopub.execute_input": "2024-12-07T21:22:50.174164Z",
     "iopub.status.busy": "2024-12-07T21:22:50.174061Z",
     "iopub.status.idle": "2024-12-07T21:22:51.011385Z",
     "shell.execute_reply": "2024-12-07T21:22:51.011223Z"
    },
    "papermill": {
     "duration": 0.840177,
     "end_time": "2024-12-07T21:22:51.011956",
     "exception": false,
     "start_time": "2024-12-07T21:22:50.171779",
     "status": "completed"
    },
    "tags": []
   },
   "outputs": [
    {
     "name": "stderr",
     "output_type": "stream",
     "text": [
      "/home/mde48/lenskit/lkpy/lenskit/lenskit/metrics/bulk.py:116: FutureWarning: The previous implementation of stack is deprecated and will be removed in a future version of pandas. See the What's New notes for pandas 2.1.0 for details. Specify future_stack=True to adopt the new implementation and silence this warning.\n",
      "  df = scores.groupby(list(keys)).agg([\"mean\", \"median\", \"std\"]).stack(level=0)\n"
     ]
    },
    {
     "data": {
      "text/html": [
       "<div>\n",
       "<style scoped>\n",
       "    .dataframe tbody tr th:only-of-type {\n",
       "        vertical-align: middle;\n",
       "    }\n",
       "\n",
       "    .dataframe tbody tr th {\n",
       "        vertical-align: top;\n",
       "    }\n",
       "\n",
       "    .dataframe thead th {\n",
       "        text-align: right;\n",
       "    }\n",
       "</style>\n",
       "<table border=\"1\" class=\"dataframe\">\n",
       "  <thead>\n",
       "    <tr style=\"text-align: right;\">\n",
       "      <th></th>\n",
       "      <th></th>\n",
       "      <th>mean</th>\n",
       "      <th>median</th>\n",
       "      <th>std</th>\n",
       "    </tr>\n",
       "    <tr>\n",
       "      <th>model</th>\n",
       "      <th></th>\n",
       "      <th></th>\n",
       "      <th></th>\n",
       "      <th></th>\n",
       "    </tr>\n",
       "  </thead>\n",
       "  <tbody>\n",
       "    <tr>\n",
       "      <th>ALS</th>\n",
       "      <th>RMSE</th>\n",
       "      <td>0.821750</td>\n",
       "      <td>0.763025</td>\n",
       "      <td>0.367535</td>\n",
       "    </tr>\n",
       "    <tr>\n",
       "      <th>Bias</th>\n",
       "      <th>RMSE</th>\n",
       "      <td>0.844854</td>\n",
       "      <td>0.779785</td>\n",
       "      <td>0.378084</td>\n",
       "    </tr>\n",
       "    <tr>\n",
       "      <th>IIE</th>\n",
       "      <th>RMSE</th>\n",
       "      <td>0.831609</td>\n",
       "      <td>0.768649</td>\n",
       "      <td>0.386477</td>\n",
       "    </tr>\n",
       "    <tr>\n",
       "      <th>UUE</th>\n",
       "      <th>RMSE</th>\n",
       "      <td>0.859945</td>\n",
       "      <td>0.799290</td>\n",
       "      <td>0.388816</td>\n",
       "    </tr>\n",
       "  </tbody>\n",
       "</table>\n",
       "</div>"
      ],
      "text/plain": [
       "                mean    median       std\n",
       "model                                   \n",
       "ALS   RMSE  0.821750  0.763025  0.367535\n",
       "Bias  RMSE  0.844854  0.779785  0.378084\n",
       "IIE   RMSE  0.831609  0.768649  0.386477\n",
       "UUE   RMSE  0.859945  0.799290  0.388816"
      ]
     },
     "execution_count": 15,
     "metadata": {},
     "output_type": "execute_result"
    }
   ],
   "source": [
    "pa = RunAnalysis()\n",
    "\n",
    "pa.add_metric(RMSE(missing_scores='ignore', missing_truth='ignore'))\n",
    "\n",
    "pred_results = pa.compute(preds, test)\n",
    "pred_results.list_summary('model')"
   ]
  },
  {
   "cell_type": "code",
   "execution_count": 16,
   "id": "0626a38e",
   "metadata": {
    "execution": {
     "iopub.execute_input": "2024-12-07T21:22:51.024202Z",
     "iopub.status.busy": "2024-12-07T21:22:51.024090Z",
     "iopub.status.idle": "2024-12-07T21:22:51.101821Z",
     "shell.execute_reply": "2024-12-07T21:22:51.101591Z"
    },
    "papermill": {
     "duration": 0.088603,
     "end_time": "2024-12-07T21:22:51.102373",
     "exception": false,
     "start_time": "2024-12-07T21:22:51.013770",
     "status": "completed"
    },
    "tags": []
   },
   "outputs": [
    {
     "data": {
      "image/png": "[encoded data removed]",
      "text/plain": [
       "<Figure size 511.111x500 with 1 Axes>"
      ]
     },
     "metadata": {},
     "output_type": "display_data"
    }
   ],
   "source": [
    "sns.catplot(pred_results.list_metrics().reset_index(), x='model', y='RMSE', kind='bar')\n",
    "plt.show()"
   ]
  },
  {
   "cell_type": "markdown",
   "id": "c635bf68",
   "metadata": {
    "papermill": {
     "duration": 0.001599,
     "end_time": "2024-12-07T21:22:51.105615",
     "exception": false,
     "start_time": "2024-12-07T21:22:51.104016",
     "status": "completed"
    },
    "tags": []
   },
   "source": [
    "## Save Metrics\n",
    "\n",
    "We'll now save the metrics to a file."
   ]
  },
  {
   "cell_type": "code",
   "execution_count": 17,
   "id": "d1d7f624",
   "metadata": {
    "execution": {
     "iopub.execute_input": "2024-12-07T21:22:51.109434Z",
     "iopub.status.busy": "2024-12-07T21:22:51.109211Z",
     "iopub.status.idle": "2024-12-07T21:22:51.115656Z",
     "shell.execute_reply": "2024-12-07T21:22:51.115515Z"
    },
    "papermill": {
     "duration": 0.00889,
     "end_time": "2024-12-07T21:22:51.116058",
     "exception": false,
     "start_time": "2024-12-07T21:22:51.107168",
     "status": "completed"
    },
    "tags": []
   },
   "outputs": [
    {
     "name": "stderr",
     "output_type": "stream",
     "text": [
      "/home/mde48/lenskit/lkpy/lenskit/lenskit/metrics/bulk.py:116: FutureWarning: The previous implementation of stack is deprecated and will be removed in a future version of pandas. See the What's New notes for pandas 2.1.0 for details. Specify future_stack=True to adopt the new implementation and silence this warning.\n",
      "  df = scores.groupby(list(keys)).agg([\"mean\", \"median\", \"std\"]).stack(level=0)\n"
     ]
    },
    {
     "data": {
      "text/html": [
       "<div>\n",
       "<style scoped>\n",
       "    .dataframe tbody tr th:only-of-type {\n",
       "        vertical-align: middle;\n",
       "    }\n",
       "\n",
       "    .dataframe tbody tr th {\n",
       "        vertical-align: top;\n",
       "    }\n",
       "\n",
       "    .dataframe thead th {\n",
       "        text-align: right;\n",
       "    }\n",
       "</style>\n",
       "<table border=\"1\" class=\"dataframe\">\n",
       "  <thead>\n",
       "    <tr style=\"text-align: right;\">\n",
       "      <th></th>\n",
       "      <th>NDCG</th>\n",
       "      <th>RBP</th>\n",
       "      <th>RecipRank</th>\n",
       "    </tr>\n",
       "    <tr>\n",
       "      <th>model</th>\n",
       "      <th></th>\n",
       "      <th></th>\n",
       "      <th></th>\n",
       "    </tr>\n",
       "  </thead>\n",
       "  <tbody>\n",
       "    <tr>\n",
       "      <th>ALS</th>\n",
       "      <td>0.045532</td>\n",
       "      <td>0.017876</td>\n",
       "      <td>0.055705</td>\n",
       "    </tr>\n",
       "    <tr>\n",
       "      <th>Bias</th>\n",
       "      <td>0.056837</td>\n",
       "      <td>0.025322</td>\n",
       "      <td>0.074222</td>\n",
       "    </tr>\n",
       "    <tr>\n",
       "      <th>IALS</th>\n",
       "      <td>0.217368</td>\n",
       "      <td>0.097195</td>\n",
       "      <td>0.219954</td>\n",
       "    </tr>\n",
       "    <tr>\n",
       "      <th>IIE</th>\n",
       "      <td>0.002620</td>\n",
       "      <td>0.000410</td>\n",
       "      <td>0.001642</td>\n",
       "    </tr>\n",
       "    <tr>\n",
       "      <th>III</th>\n",
       "      <td>0.215293</td>\n",
       "      <td>0.143913</td>\n",
       "      <td>0.285037</td>\n",
       "    </tr>\n",
       "    <tr>\n",
       "      <th>Pop</th>\n",
       "      <td>0.142104</td>\n",
       "      <td>0.078577</td>\n",
       "      <td>0.179519</td>\n",
       "    </tr>\n",
       "    <tr>\n",
       "      <th>UUE</th>\n",
       "      <td>0.000326</td>\n",
       "      <td>0.000006</td>\n",
       "      <td>0.000286</td>\n",
       "    </tr>\n",
       "  </tbody>\n",
       "</table>\n",
       "</div>"
      ],
      "text/plain": [
       "           NDCG       RBP  RecipRank\n",
       "model                               \n",
       "ALS    0.045532  0.017876   0.055705\n",
       "Bias   0.056837  0.025322   0.074222\n",
       "IALS   0.217368  0.097195   0.219954\n",
       "IIE    0.002620  0.000410   0.001642\n",
       "III    0.215293  0.143913   0.285037\n",
       "Pop    0.142104  0.078577   0.179519\n",
       "UUE    0.000326  0.000006   0.000286"
      ]
     },
     "execution_count": 17,
     "metadata": {},
     "output_type": "execute_result"
    }
   ],
   "source": [
    "rlsum = rec_results.list_summary('model')['mean'].unstack()\n",
    "rlsum"
   ]
  },
  {
   "cell_type": "code",
   "execution_count": 18,
   "id": "f564b364",
   "metadata": {
    "execution": {
     "iopub.execute_input": "2024-12-07T21:22:51.119886Z",
     "iopub.status.busy": "2024-12-07T21:22:51.119813Z",
     "iopub.status.idle": "2024-12-07T21:22:51.122094Z",
     "shell.execute_reply": "2024-12-07T21:22:51.121938Z"
    },
    "papermill": {
     "duration": 0.004766,
     "end_time": "2024-12-07T21:22:51.122537",
     "exception": false,
     "start_time": "2024-12-07T21:22:51.117771",
     "status": "completed"
    },
    "tags": []
   },
   "outputs": [],
   "source": [
    "rlsum.to_json(f'eval-metrics.{dataset}.json', orient='index')"
   ]
  }
 ],
 "metadata": {
  "jupytext": {
   "formats": "ipynb,md",
   "notebook_metadata_filter": "split_at_heading"
  },
  "kernelspec": {
   "display_name": "Python 3 (ipykernel)",
   "language": "python",
   "name": "python3"
  },
  "language_info": {
   "codemirror_mode": {
    "name": "ipython",
    "version": 3
   },
   "file_extension": ".py",
   "mimetype": "text/x-python",
   "name": "python",
   "nbconvert_exporter": "python",
   "pygments_lexer": "ipython3",
   "version": "3.12.7"
  },
  "papermill": {
   "default_parameters": {},
   "duration": 5.139094,
   "end_time": "2024-12-07T21:22:51.538068",
   "environment_variables": {},
   "exception": null,
   "input_path": "eval-report.ipynb",
   "output_path": "eval-report.mlsmall.ipynb",
   "parameters": {
    "dataset": "mlsmall"
   },
   "start_time": "2024-12-07T21:22:46.398974",
   "version": "2.6.0"
  },
  "split_at_heading": true
 },
 "nbformat": 4,
 "nbformat_minor": 5
}