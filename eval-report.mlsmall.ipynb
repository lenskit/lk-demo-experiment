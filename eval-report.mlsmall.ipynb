{
 "cells": [
  {
   "cell_type": "markdown",
   "id": "93740f9f",
   "metadata": {
    "papermill": {
     "duration": 0.002014,
     "end_time": "2024-12-18T00:04:51.209621",
     "exception": false,
     "start_time": "2024-12-18T00:04:51.207607",
     "status": "completed"
    },
    "tags": []
   },
   "source": [
    "# Evaluation Analysis for Recommender Output"
   ]
  },
  {
   "cell_type": "markdown",
   "id": "678b1137",
   "metadata": {
    "papermill": {
     "duration": 0.001103,
     "end_time": "2024-12-18T00:04:51.212031",
     "exception": false,
     "start_time": "2024-12-18T00:04:51.210928",
     "status": "completed"
    },
    "tags": []
   },
   "source": [
    "In this section we will analyze and compare the generated recommendations and predictions from a predefined list of algorithms with the goal of assessing the performance of each algorithm with respect to a metric. In other words, we would rank the algorithms for each metric considered with respect to performance."
   ]
  },
  {
   "cell_type": "markdown",
   "id": "e1501de5",
   "metadata": {
    "papermill": {
     "duration": 0.001041,
     "end_time": "2024-12-18T00:04:51.214092",
     "exception": false,
     "start_time": "2024-12-18T00:04:51.213051",
     "status": "completed"
    },
    "tags": []
   },
   "source": [
    "## Setup"
   ]
  },
  {
   "cell_type": "markdown",
   "id": "78e0ea5a",
   "metadata": {
    "papermill": {
     "duration": 0.001002,
     "end_time": "2024-12-18T00:04:51.216130",
     "exception": false,
     "start_time": "2024-12-18T00:04:51.215128",
     "status": "completed"
    },
    "tags": []
   },
   "source": [
    "Below are the list of packages required to successfully run the analysis. They are divided into partitions to signify their specific task.<br>\n",
    "We need the pathlib package for working with files and folders"
   ]
  },
  {
   "cell_type": "code",
   "execution_count": 1,
   "id": "aa9b9024",
   "metadata": {
    "execution": {
     "iopub.execute_input": "2024-12-18T00:04:51.219105Z",
     "iopub.status.busy": "2024-12-18T00:04:51.218720Z",
     "iopub.status.idle": "2024-12-18T00:04:51.220901Z",
     "shell.execute_reply": "2024-12-18T00:04:51.220631Z"
    },
    "papermill": {
     "duration": 0.004168,
     "end_time": "2024-12-18T00:04:51.221301",
     "exception": false,
     "start_time": "2024-12-18T00:04:51.217133",
     "status": "completed"
    },
    "tags": []
   },
   "outputs": [],
   "source": [
    "from pathlib import Path\n",
    "import json"
   ]
  },
  {
   "cell_type": "markdown",
   "id": "4a21d11d",
   "metadata": {
    "papermill": {
     "duration": 0.001068,
     "end_time": "2024-12-18T00:04:51.223489",
     "exception": false,
     "start_time": "2024-12-18T00:04:51.222421",
     "status": "completed"
    },
    "tags": []
   },
   "source": [
    "We would use the pandas for analyzing and manipulating our data while seaborn and matplotlib are used for data visualization. statsmodels.graphics.gofplots and scipy.stats.shapiro are used for normality check. Scipy.stats.friedmanchisquare is a non-parametric test used to determine the statistical significance in metric results and the wilcoxon test is used for pairwise comparison of sample data."
   ]
  },
  {
   "cell_type": "code",
   "execution_count": 2,
   "id": "a72bade7",
   "metadata": {
    "execution": {
     "iopub.execute_input": "2024-12-18T00:04:51.226078Z",
     "iopub.status.busy": "2024-12-18T00:04:51.225924Z",
     "iopub.status.idle": "2024-12-18T00:04:51.666750Z",
     "shell.execute_reply": "2024-12-18T00:04:51.666467Z"
    },
    "lines_to_next_cell": 2,
    "papermill": {
     "duration": 0.443065,
     "end_time": "2024-12-18T00:04:51.667635",
     "exception": false,
     "start_time": "2024-12-18T00:04:51.224570",
     "status": "completed"
    },
    "tags": []
   },
   "outputs": [],
   "source": [
    "import pandas as pd\n",
    "import seaborn as sns\n",
    "import matplotlib.pyplot as plt\n",
    "from statsmodels.graphics.gofplots import qqplot\n",
    "from scipy.stats import shapiro\n",
    "from scipy.stats import friedmanchisquare, wilcoxon\n",
    "from itertools import combinations"
   ]
  },
  {
   "cell_type": "markdown",
   "id": "e3a36d16",
   "metadata": {
    "papermill": {
     "duration": 0.008825,
     "end_time": "2024-12-18T00:04:51.677870",
     "exception": false,
     "start_time": "2024-12-18T00:04:51.669045",
     "status": "completed"
    },
    "tags": []
   },
   "source": [
    "Import the LensKit metrics for analysis:"
   ]
  },
  {
   "cell_type": "code",
   "execution_count": 3,
   "id": "14187914",
   "metadata": {
    "execution": {
     "iopub.execute_input": "2024-12-18T00:04:51.680689Z",
     "iopub.status.busy": "2024-12-18T00:04:51.680566Z",
     "iopub.status.idle": "2024-12-18T00:04:52.290844Z",
     "shell.execute_reply": "2024-12-18T00:04:52.290393Z"
    },
    "papermill": {
     "duration": 0.612862,
     "end_time": "2024-12-18T00:04:52.291882",
     "exception": false,
     "start_time": "2024-12-18T00:04:51.679020",
     "status": "completed"
    },
    "tags": []
   },
   "outputs": [],
   "source": [
    "from lenskit.data import ItemListCollection, UserIDKey\n",
    "from lenskit.metrics import RunAnalysis, RMSE, NDCG, RecipRank, RBP"
   ]
  },
  {
   "cell_type": "markdown",
   "id": "8a2f1201",
   "metadata": {
    "papermill": {
     "duration": 0.009048,
     "end_time": "2024-12-18T00:04:52.303163",
     "exception": false,
     "start_time": "2024-12-18T00:04:52.294115",
     "status": "completed"
    },
    "tags": []
   },
   "source": [
    "## Load Data\n",
    "\n",
    "The recommendations are in `runs`, and we will need to reassemble the test data from `test`."
   ]
  },
  {
   "cell_type": "code",
   "execution_count": 4,
   "id": "322018fa",
   "metadata": {
    "execution": {
     "iopub.execute_input": "2024-12-18T00:04:52.306058Z",
     "iopub.status.busy": "2024-12-18T00:04:52.305938Z",
     "iopub.status.idle": "2024-12-18T00:04:52.307342Z",
     "shell.execute_reply": "2024-12-18T00:04:52.307174Z"
    },
    "papermill": {
     "duration": 0.003496,
     "end_time": "2024-12-18T00:04:52.307787",
     "exception": false,
     "start_time": "2024-12-18T00:04:52.304291",
     "status": "completed"
    },
    "tags": [
     "parameters"
    ]
   },
   "outputs": [],
   "source": [
    "dataset = \"ml100k\""
   ]
  },
  {
   "cell_type": "code",
   "execution_count": 5,
   "id": "bba177e7",
   "metadata": {
    "execution": {
     "iopub.execute_input": "2024-12-18T00:04:52.310500Z",
     "iopub.status.busy": "2024-12-18T00:04:52.310400Z",
     "iopub.status.idle": "2024-12-18T00:04:52.311661Z",
     "shell.execute_reply": "2024-12-18T00:04:52.311521Z"
    },
    "papermill": {
     "duration": 0.003374,
     "end_time": "2024-12-18T00:04:52.312275",
     "exception": false,
     "start_time": "2024-12-18T00:04:52.308901",
     "status": "completed"
    },
    "tags": [
     "injected-parameters"
    ]
   },
   "outputs": [],
   "source": [
    "# Parameters\n",
    "dataset = \"mlsmall\"\n"
   ]
  },
  {
   "cell_type": "code",
   "execution_count": 6,
   "id": "bcc16ac2",
   "metadata": {
    "execution": {
     "iopub.execute_input": "2024-12-18T00:04:52.317422Z",
     "iopub.status.busy": "2024-12-18T00:04:52.317348Z",
     "iopub.status.idle": "2024-12-18T00:04:52.318573Z",
     "shell.execute_reply": "2024-12-18T00:04:52.318434Z"
    },
    "papermill": {
     "duration": 0.004631,
     "end_time": "2024-12-18T00:04:52.319157",
     "exception": false,
     "start_time": "2024-12-18T00:04:52.314526",
     "status": "completed"
    },
    "tags": []
   },
   "outputs": [],
   "source": [
    "output_root = Path(\"runs\")"
   ]
  },
  {
   "cell_type": "code",
   "execution_count": 7,
   "id": "ceb1ee76",
   "metadata": {
    "execution": {
     "iopub.execute_input": "2024-12-18T00:04:52.323270Z",
     "iopub.status.busy": "2024-12-18T00:04:52.323196Z",
     "iopub.status.idle": "2024-12-18T00:04:52.324950Z",
     "shell.execute_reply": "2024-12-18T00:04:52.324643Z"
    },
    "papermill": {
     "duration": 0.003846,
     "end_time": "2024-12-18T00:04:52.325285",
     "exception": false,
     "start_time": "2024-12-18T00:04:52.321439",
     "status": "completed"
    },
    "tags": []
   },
   "outputs": [],
   "source": [
    "dirs = [fld for fld in output_root.glob(f'{dataset}-*')]"
   ]
  },
  {
   "cell_type": "code",
   "execution_count": 8,
   "id": "ba136ca4",
   "metadata": {
    "execution": {
     "iopub.execute_input": "2024-12-18T00:04:52.327925Z",
     "iopub.status.busy": "2024-12-18T00:04:52.327859Z",
     "iopub.status.idle": "2024-12-18T00:04:52.402413Z",
     "shell.execute_reply": "2024-12-18T00:04:52.402213Z"
    },
    "papermill": {
     "duration": 0.076846,
     "end_time": "2024-12-18T00:04:52.403311",
     "exception": false,
     "start_time": "2024-12-18T00:04:52.326465",
     "status": "completed"
    },
    "tags": []
   },
   "outputs": [],
   "source": [
    "recs = ItemListCollection(['model', 'user_id'], index=False)\n",
    "for fld in dirs:\n",
    "    for file in fld.glob(\"recs-*\"):\n",
    "        rec = ItemListCollection.load_parquet(file)\n",
    "        recs.add_from(rec, model=fld.name.split(\"-\")[1])"
   ]
  },
  {
   "cell_type": "code",
   "execution_count": 9,
   "id": "0a0716f7",
   "metadata": {
    "execution": {
     "iopub.execute_input": "2024-12-18T00:04:52.407090Z",
     "iopub.status.busy": "2024-12-18T00:04:52.406998Z",
     "iopub.status.idle": "2024-12-18T00:04:52.410094Z",
     "shell.execute_reply": "2024-12-18T00:04:52.409946Z"
    },
    "papermill": {
     "duration": 0.005355,
     "end_time": "2024-12-18T00:04:52.410629",
     "exception": false,
     "start_time": "2024-12-18T00:04:52.405274",
     "status": "completed"
    },
    "tags": []
   },
   "outputs": [
    {
     "data": {
      "text/plain": [
       "['ALS', 'Bias', 'IALS', 'IIE', 'III', 'Pop', 'UUE']"
      ]
     },
     "execution_count": 9,
     "metadata": {},
     "output_type": "execute_result"
    }
   ],
   "source": [
    "rec_algos = sorted(set(a for (a, _u) in recs.keys()))\n",
    "rec_algos"
   ]
  },
  {
   "cell_type": "code",
   "execution_count": 10,
   "id": "71d6c2ed",
   "metadata": {
    "execution": {
     "iopub.execute_input": "2024-12-18T00:04:52.413691Z",
     "iopub.status.busy": "2024-12-18T00:04:52.413587Z",
     "iopub.status.idle": "2024-12-18T00:04:52.522247Z",
     "shell.execute_reply": "2024-12-18T00:04:52.521851Z"
    },
    "papermill": {
     "duration": 0.111255,
     "end_time": "2024-12-18T00:04:52.523139",
     "exception": false,
     "start_time": "2024-12-18T00:04:52.411884",
     "status": "completed"
    },
    "tags": []
   },
   "outputs": [],
   "source": [
    "preds = ItemListCollection(['model', 'user_id'], index=False)\n",
    "for fld in dirs:\n",
    "    for file in fld.glob(\"pred-*\"):\n",
    "        pred = ItemListCollection.load_parquet(file)\n",
    "        preds.add_from(pred, model=fld.name.split(\"-\")[1])"
   ]
  },
  {
   "cell_type": "markdown",
   "id": "c1ffa3a5",
   "metadata": {
    "papermill": {
     "duration": 0.009093,
     "end_time": "2024-12-18T00:04:52.533651",
     "exception": false,
     "start_time": "2024-12-18T00:04:52.524558",
     "status": "completed"
    },
    "tags": []
   },
   "source": [
    "We need to load the test data so that we have the ground truths for computing accuracy"
   ]
  },
  {
   "cell_type": "code",
   "execution_count": 11,
   "id": "131e4d84",
   "metadata": {
    "execution": {
     "iopub.execute_input": "2024-12-18T00:04:52.536813Z",
     "iopub.status.busy": "2024-12-18T00:04:52.536725Z",
     "iopub.status.idle": "2024-12-18T00:04:52.538401Z",
     "shell.execute_reply": "2024-12-18T00:04:52.538066Z"
    },
    "papermill": {
     "duration": 0.003878,
     "end_time": "2024-12-18T00:04:52.538856",
     "exception": false,
     "start_time": "2024-12-18T00:04:52.534978",
     "status": "completed"
    },
    "tags": []
   },
   "outputs": [],
   "source": [
    "split_root = Path(\"data-split\")\n",
    "split_dir = split_root / dataset"
   ]
  },
  {
   "cell_type": "code",
   "execution_count": 12,
   "id": "c38bfbfc",
   "metadata": {
    "execution": {
     "iopub.execute_input": "2024-12-18T00:04:52.541898Z",
     "iopub.status.busy": "2024-12-18T00:04:52.541821Z",
     "iopub.status.idle": "2024-12-18T00:04:52.573272Z",
     "shell.execute_reply": "2024-12-18T00:04:52.573107Z"
    },
    "papermill": {
     "duration": 0.033773,
     "end_time": "2024-12-18T00:04:52.573877",
     "exception": false,
     "start_time": "2024-12-18T00:04:52.540104",
     "status": "completed"
    },
    "tags": []
   },
   "outputs": [],
   "source": [
    "test = ItemListCollection(UserIDKey)\n",
    "for file in split_dir.glob(\"test-*.parquet\"):\n",
    "    df = pd.read_parquet(file)\n",
    "    part = ItemListCollection.from_df(df, UserIDKey)\n",
    "    test.add_from(part)"
   ]
  },
  {
   "cell_type": "markdown",
   "id": "d33a9869",
   "metadata": {
    "papermill": {
     "duration": 0.001225,
     "end_time": "2024-12-18T00:04:52.576395",
     "exception": false,
     "start_time": "2024-12-18T00:04:52.575170",
     "status": "completed"
    },
    "tags": []
   },
   "source": [
    "## Top-N Metrics\n",
    "\n",
    "`RunListAnalysis` computes metrics for recommendation results and takes care of\n",
    "matching recommendations and ground truth."
   ]
  },
  {
   "cell_type": "code",
   "execution_count": 13,
   "id": "d648b629",
   "metadata": {
    "execution": {
     "iopub.execute_input": "2024-12-18T00:04:52.579346Z",
     "iopub.status.busy": "2024-12-18T00:04:52.579206Z",
     "iopub.status.idle": "2024-12-18T00:04:52.858518Z",
     "shell.execute_reply": "2024-12-18T00:04:52.858361Z"
    },
    "papermill": {
     "duration": 0.281413,
     "end_time": "2024-12-18T00:04:52.859036",
     "exception": false,
     "start_time": "2024-12-18T00:04:52.577623",
     "status": "completed"
    },
    "tags": []
   },
   "outputs": [
    {
     "name": "stderr",
     "output_type": "stream",
     "text": [
      "/home/mde48/lenskit/lk-demo-experiment/.venv/lib/python3.12/site-packages/lenskit/metrics/bulk.py:121: FutureWarning: The previous implementation of stack is deprecated and will be removed in a future version of pandas. See the What's New notes for pandas 2.1.0 for details. Specify future_stack=True to adopt the new implementation and silence this warning.\n",
      "  df = scores.groupby(list(keys)).agg([\"mean\", \"median\", \"std\"]).stack(level=0)\n"
     ]
    },
    {
     "data": {
      "text/html": [
       "<div>\n",
       "<style scoped>\n",
       "    .dataframe tbody tr th:only-of-type {\n",
       "        vertical-align: middle;\n",
       "    }\n",
       "\n",
       "    .dataframe tbody tr th {\n",
       "        vertical-align: top;\n",
       "    }\n",
       "\n",
       "    .dataframe thead th {\n",
       "        text-align: right;\n",
       "    }\n",
       "</style>\n",
       "<table border=\"1\" class=\"dataframe\">\n",
       "  <thead>\n",
       "    <tr style=\"text-align: right;\">\n",
       "      <th></th>\n",
       "      <th></th>\n",
       "      <th>mean</th>\n",
       "      <th>median</th>\n",
       "      <th>std</th>\n",
       "    </tr>\n",
       "    <tr>\n",
       "      <th>model</th>\n",
       "      <th></th>\n",
       "      <th></th>\n",
       "      <th></th>\n",
       "      <th></th>\n",
       "    </tr>\n",
       "  </thead>\n",
       "  <tbody>\n",
       "    <tr>\n",
       "      <th rowspan=\"3\" valign=\"top\">ALS</th>\n",
       "      <th>NDCG</th>\n",
       "      <td>4.542906e-02</td>\n",
       "      <td>0.000000e+00</td>\n",
       "      <td>8.294727e-02</td>\n",
       "    </tr>\n",
       "    <tr>\n",
       "      <th>RBP</th>\n",
       "      <td>1.765977e-02</td>\n",
       "      <td>0.000000e+00</td>\n",
       "      <td>8.410567e-02</td>\n",
       "    </tr>\n",
       "    <tr>\n",
       "      <th>RecipRank</th>\n",
       "      <td>5.149760e-02</td>\n",
       "      <td>0.000000e+00</td>\n",
       "      <td>1.579846e-01</td>\n",
       "    </tr>\n",
       "    <tr>\n",
       "      <th rowspan=\"3\" valign=\"top\">Bias</th>\n",
       "      <th>NDCG</th>\n",
       "      <td>5.601311e-02</td>\n",
       "      <td>0.000000e+00</td>\n",
       "      <td>8.737785e-02</td>\n",
       "    </tr>\n",
       "    <tr>\n",
       "      <th>RBP</th>\n",
       "      <td>2.606650e-02</td>\n",
       "      <td>0.000000e+00</td>\n",
       "      <td>1.025407e-01</td>\n",
       "    </tr>\n",
       "    <tr>\n",
       "      <th>RecipRank</th>\n",
       "      <td>7.264085e-02</td>\n",
       "      <td>0.000000e+00</td>\n",
       "      <td>2.047017e-01</td>\n",
       "    </tr>\n",
       "    <tr>\n",
       "      <th rowspan=\"3\" valign=\"top\">IALS</th>\n",
       "      <th>NDCG</th>\n",
       "      <td>2.191363e-01</td>\n",
       "      <td>1.635121e-01</td>\n",
       "      <td>2.005753e-01</td>\n",
       "    </tr>\n",
       "    <tr>\n",
       "      <th>RBP</th>\n",
       "      <td>9.698519e-02</td>\n",
       "      <td>2.441406e-04</td>\n",
       "      <td>2.022502e-01</td>\n",
       "    </tr>\n",
       "    <tr>\n",
       "      <th>RecipRank</th>\n",
       "      <td>2.140774e-01</td>\n",
       "      <td>8.333333e-02</td>\n",
       "      <td>3.048640e-01</td>\n",
       "    </tr>\n",
       "    <tr>\n",
       "      <th rowspan=\"3\" valign=\"top\">IIE</th>\n",
       "      <th>NDCG</th>\n",
       "      <td>1.200182e-03</td>\n",
       "      <td>0.000000e+00</td>\n",
       "      <td>7.677767e-03</td>\n",
       "    </tr>\n",
       "    <tr>\n",
       "      <th>RBP</th>\n",
       "      <td>2.001155e-07</td>\n",
       "      <td>0.000000e+00</td>\n",
       "      <td>4.942482e-06</td>\n",
       "    </tr>\n",
       "    <tr>\n",
       "      <th>RecipRank</th>\n",
       "      <td>5.004860e-04</td>\n",
       "      <td>0.000000e+00</td>\n",
       "      <td>4.070783e-03</td>\n",
       "    </tr>\n",
       "    <tr>\n",
       "      <th rowspan=\"3\" valign=\"top\">III</th>\n",
       "      <th>NDCG</th>\n",
       "      <td>2.167043e-01</td>\n",
       "      <td>1.412044e-01</td>\n",
       "      <td>2.132348e-01</td>\n",
       "    </tr>\n",
       "    <tr>\n",
       "      <th>RBP</th>\n",
       "      <td>1.426967e-01</td>\n",
       "      <td>3.929138e-04</td>\n",
       "      <td>2.386489e-01</td>\n",
       "    </tr>\n",
       "    <tr>\n",
       "      <th>RecipRank</th>\n",
       "      <td>2.826761e-01</td>\n",
       "      <td>8.712121e-02</td>\n",
       "      <td>3.721013e-01</td>\n",
       "    </tr>\n",
       "    <tr>\n",
       "      <th rowspan=\"3\" valign=\"top\">Pop</th>\n",
       "      <th>NDCG</th>\n",
       "      <td>1.363422e-01</td>\n",
       "      <td>8.496263e-02</td>\n",
       "      <td>1.510073e-01</td>\n",
       "    </tr>\n",
       "    <tr>\n",
       "      <th>RBP</th>\n",
       "      <td>6.995563e-02</td>\n",
       "      <td>7.450581e-09</td>\n",
       "      <td>1.614184e-01</td>\n",
       "    </tr>\n",
       "    <tr>\n",
       "      <th>RecipRank</th>\n",
       "      <td>1.670077e-01</td>\n",
       "      <td>3.703704e-02</td>\n",
       "      <td>2.895553e-01</td>\n",
       "    </tr>\n",
       "    <tr>\n",
       "      <th rowspan=\"3\" valign=\"top\">UUE</th>\n",
       "      <th>NDCG</th>\n",
       "      <td>3.285547e-04</td>\n",
       "      <td>0.000000e+00</td>\n",
       "      <td>4.084565e-03</td>\n",
       "    </tr>\n",
       "    <tr>\n",
       "      <th>RBP</th>\n",
       "      <td>6.202456e-12</td>\n",
       "      <td>0.000000e+00</td>\n",
       "      <td>1.508471e-10</td>\n",
       "    </tr>\n",
       "    <tr>\n",
       "      <th>RecipRank</th>\n",
       "      <td>1.438125e-04</td>\n",
       "      <td>0.000000e+00</td>\n",
       "      <td>1.978258e-03</td>\n",
       "    </tr>\n",
       "  </tbody>\n",
       "</table>\n",
       "</div>"
      ],
      "text/plain": [
       "                         mean        median           std\n",
       "model                                                    \n",
       "ALS   NDCG       4.542906e-02  0.000000e+00  8.294727e-02\n",
       "      RBP        1.765977e-02  0.000000e+00  8.410567e-02\n",
       "      RecipRank  5.149760e-02  0.000000e+00  1.579846e-01\n",
       "Bias  NDCG       5.601311e-02  0.000000e+00  8.737785e-02\n",
       "      RBP        2.606650e-02  0.000000e+00  1.025407e-01\n",
       "      RecipRank  7.264085e-02  0.000000e+00  2.047017e-01\n",
       "IALS  NDCG       2.191363e-01  1.635121e-01  2.005753e-01\n",
       "      RBP        9.698519e-02  2.441406e-04  2.022502e-01\n",
       "      RecipRank  2.140774e-01  8.333333e-02  3.048640e-01\n",
       "IIE   NDCG       1.200182e-03  0.000000e+00  7.677767e-03\n",
       "      RBP        2.001155e-07  0.000000e+00  4.942482e-06\n",
       "      RecipRank  5.004860e-04  0.000000e+00  4.070783e-03\n",
       "III   NDCG       2.167043e-01  1.412044e-01  2.132348e-01\n",
       "      RBP        1.426967e-01  3.929138e-04  2.386489e-01\n",
       "      RecipRank  2.826761e-01  8.712121e-02  3.721013e-01\n",
       "Pop   NDCG       1.363422e-01  8.496263e-02  1.510073e-01\n",
       "      RBP        6.995563e-02  7.450581e-09  1.614184e-01\n",
       "      RecipRank  1.670077e-01  3.703704e-02  2.895553e-01\n",
       "UUE   NDCG       3.285547e-04  0.000000e+00  4.084565e-03\n",
       "      RBP        6.202456e-12  0.000000e+00  1.508471e-10\n",
       "      RecipRank  1.438125e-04  0.000000e+00  1.978258e-03"
      ]
     },
     "execution_count": 13,
     "metadata": {},
     "output_type": "execute_result"
    }
   ],
   "source": [
    "ra = RunAnalysis()\n",
    "\n",
    "ra.add_metric(NDCG())\n",
    "ra.add_metric(RecipRank())\n",
    "ra.add_metric(RBP())\n",
    "\n",
    "rec_results = ra.compute(recs, test)\n",
    "rec_results.list_summary('model')"
   ]
  },
  {
   "cell_type": "markdown",
   "id": "f8842c48",
   "metadata": {
    "papermill": {
     "duration": 0.009168,
     "end_time": "2024-12-18T00:04:52.869698",
     "exception": false,
     "start_time": "2024-12-18T00:04:52.860530",
     "status": "completed"
    },
    "tags": []
   },
   "source": [
    "We can reshape the list metrics and plot them:"
   ]
  },
  {
   "cell_type": "code",
   "execution_count": 14,
   "id": "11308253",
   "metadata": {
    "execution": {
     "iopub.execute_input": "2024-12-18T00:04:52.873012Z",
     "iopub.status.busy": "2024-12-18T00:04:52.872917Z",
     "iopub.status.idle": "2024-12-18T00:04:53.184650Z",
     "shell.execute_reply": "2024-12-18T00:04:53.184361Z"
    },
    "papermill": {
     "duration": 0.314196,
     "end_time": "2024-12-18T00:04:53.185255",
     "exception": false,
     "start_time": "2024-12-18T00:04:52.871059",
     "status": "completed"
    },
    "tags": []
   },
   "outputs": [
    {
     "data": {
      "image/png": "[encoded data removed]",
      "text/plain": [
       "<Figure size 1511.11x500 with 3 Axes>"
      ]
     },
     "metadata": {},
     "output_type": "display_data"
    }
   ],
   "source": [
    "metrics = rec_results.list_metrics()\n",
    "metrics = metrics.melt(var_name='metric', ignore_index=False).reset_index()\n",
    "sns.catplot(metrics, x='model', y='value', col='metric', kind='bar')\n",
    "plt.show()"
   ]
  },
  {
   "cell_type": "markdown",
   "id": "ed2b7ce3",
   "metadata": {
    "papermill": {
     "duration": 0.008824,
     "end_time": "2024-12-18T00:04:53.195708",
     "exception": false,
     "start_time": "2024-12-18T00:04:53.186884",
     "status": "completed"
    },
    "tags": []
   },
   "source": [
    "## Prediction RMSE\n",
    "\n",
    "We will also look at the prediction RMSE."
   ]
  },
  {
   "cell_type": "code",
   "execution_count": 15,
   "id": "fb241eec",
   "metadata": {
    "execution": {
     "iopub.execute_input": "2024-12-18T00:04:53.199219Z",
     "iopub.status.busy": "2024-12-18T00:04:53.199103Z",
     "iopub.status.idle": "2024-12-18T00:04:53.562442Z",
     "shell.execute_reply": "2024-12-18T00:04:53.562255Z"
    },
    "papermill": {
     "duration": 0.365676,
     "end_time": "2024-12-18T00:04:53.562976",
     "exception": false,
     "start_time": "2024-12-18T00:04:53.197300",
     "status": "completed"
    },
    "tags": []
   },
   "outputs": [
    {
     "name": "stderr",
     "output_type": "stream",
     "text": [
      "/home/mde48/lenskit/lk-demo-experiment/.venv/lib/python3.12/site-packages/lenskit/metrics/bulk.py:121: FutureWarning: The previous implementation of stack is deprecated and will be removed in a future version of pandas. See the What's New notes for pandas 2.1.0 for details. Specify future_stack=True to adopt the new implementation and silence this warning.\n",
      "  df = scores.groupby(list(keys)).agg([\"mean\", \"median\", \"std\"]).stack(level=0)\n"
     ]
    },
    {
     "data": {
      "text/html": [
       "<div>\n",
       "<style scoped>\n",
       "    .dataframe tbody tr th:only-of-type {\n",
       "        vertical-align: middle;\n",
       "    }\n",
       "\n",
       "    .dataframe tbody tr th {\n",
       "        vertical-align: top;\n",
       "    }\n",
       "\n",
       "    .dataframe thead th {\n",
       "        text-align: right;\n",
       "    }\n",
       "</style>\n",
       "<table border=\"1\" class=\"dataframe\">\n",
       "  <thead>\n",
       "    <tr style=\"text-align: right;\">\n",
       "      <th></th>\n",
       "      <th></th>\n",
       "      <th>mean</th>\n",
       "      <th>median</th>\n",
       "      <th>std</th>\n",
       "    </tr>\n",
       "    <tr>\n",
       "      <th>model</th>\n",
       "      <th></th>\n",
       "      <th></th>\n",
       "      <th></th>\n",
       "      <th></th>\n",
       "    </tr>\n",
       "  </thead>\n",
       "  <tbody>\n",
       "    <tr>\n",
       "      <th>ALS</th>\n",
       "      <th>RMSE</th>\n",
       "      <td>0.811070</td>\n",
       "      <td>0.742495</td>\n",
       "      <td>0.378079</td>\n",
       "    </tr>\n",
       "    <tr>\n",
       "      <th>Bias</th>\n",
       "      <th>RMSE</th>\n",
       "      <td>0.829665</td>\n",
       "      <td>0.753077</td>\n",
       "      <td>0.380607</td>\n",
       "    </tr>\n",
       "    <tr>\n",
       "      <th>IIE</th>\n",
       "      <th>RMSE</th>\n",
       "      <td>0.812797</td>\n",
       "      <td>0.729393</td>\n",
       "      <td>0.386238</td>\n",
       "    </tr>\n",
       "    <tr>\n",
       "      <th>UUE</th>\n",
       "      <th>RMSE</th>\n",
       "      <td>0.846543</td>\n",
       "      <td>0.753359</td>\n",
       "      <td>0.388143</td>\n",
       "    </tr>\n",
       "  </tbody>\n",
       "</table>\n",
       "</div>"
      ],
      "text/plain": [
       "                mean    median       std\n",
       "model                                   \n",
       "ALS   RMSE  0.811070  0.742495  0.378079\n",
       "Bias  RMSE  0.829665  0.753077  0.380607\n",
       "IIE   RMSE  0.812797  0.729393  0.386238\n",
       "UUE   RMSE  0.846543  0.753359  0.388143"
      ]
     },
     "execution_count": 15,
     "metadata": {},
     "output_type": "execute_result"
    }
   ],
   "source": [
    "pa = RunAnalysis()\n",
    "\n",
    "pa.add_metric(RMSE(missing_scores='ignore', missing_truth='ignore'))\n",
    "\n",
    "pred_results = pa.compute(preds, test)\n",
    "pred_results.list_summary('model')"
   ]
  },
  {
   "cell_type": "code",
   "execution_count": 16,
   "id": "92a98510",
   "metadata": {
    "execution": {
     "iopub.execute_input": "2024-12-18T00:04:53.574323Z",
     "iopub.status.busy": "2024-12-18T00:04:53.574221Z",
     "iopub.status.idle": "2024-12-18T00:04:53.649624Z",
     "shell.execute_reply": "2024-12-18T00:04:53.649360Z"
    },
    "papermill": {
     "duration": 0.085752,
     "end_time": "2024-12-18T00:04:53.650404",
     "exception": false,
     "start_time": "2024-12-18T00:04:53.564652",
     "status": "completed"
    },
    "tags": []
   },
   "outputs": [
    {
     "data": {
      "image/png": "[encoded data removed]",
      "text/plain": [
       "<Figure size 511.111x500 with 1 Axes>"
      ]
     },
     "metadata": {},
     "output_type": "display_data"
    }
   ],
   "source": [
    "sns.catplot(pred_results.list_metrics().reset_index(), x='model', y='RMSE', kind='bar')\n",
    "plt.show()"
   ]
  },
  {
   "cell_type": "markdown",
   "id": "c9a309d6",
   "metadata": {
    "papermill": {
     "duration": 0.001515,
     "end_time": "2024-12-18T00:04:53.654720",
     "exception": false,
     "start_time": "2024-12-18T00:04:53.653205",
     "status": "completed"
    },
    "tags": []
   },
   "source": [
    "## Save Metrics\n",
    "\n",
    "We'll now save the metrics to a file."
   ]
  },
  {
   "cell_type": "code",
   "execution_count": 17,
   "id": "68b047dc",
   "metadata": {
    "execution": {
     "iopub.execute_input": "2024-12-18T00:04:53.658327Z",
     "iopub.status.busy": "2024-12-18T00:04:53.658255Z",
     "iopub.status.idle": "2024-12-18T00:04:53.664935Z",
     "shell.execute_reply": "2024-12-18T00:04:53.664792Z"
    },
    "papermill": {
     "duration": 0.009083,
     "end_time": "2024-12-18T00:04:53.665317",
     "exception": false,
     "start_time": "2024-12-18T00:04:53.656234",
     "status": "completed"
    },
    "tags": []
   },
   "outputs": [
    {
     "name": "stderr",
     "output_type": "stream",
     "text": [
      "/home/mde48/lenskit/lk-demo-experiment/.venv/lib/python3.12/site-packages/lenskit/metrics/bulk.py:121: FutureWarning: The previous implementation of stack is deprecated and will be removed in a future version of pandas. See the What's New notes for pandas 2.1.0 for details. Specify future_stack=True to adopt the new implementation and silence this warning.\n",
      "  df = scores.groupby(list(keys)).agg([\"mean\", \"median\", \"std\"]).stack(level=0)\n"
     ]
    },
    {
     "data": {
      "text/html": [
       "<div>\n",
       "<style scoped>\n",
       "    .dataframe tbody tr th:only-of-type {\n",
       "        vertical-align: middle;\n",
       "    }\n",
       "\n",
       "    .dataframe tbody tr th {\n",
       "        vertical-align: top;\n",
       "    }\n",
       "\n",
       "    .dataframe thead th {\n",
       "        text-align: right;\n",
       "    }\n",
       "</style>\n",
       "<table border=\"1\" class=\"dataframe\">\n",
       "  <thead>\n",
       "    <tr style=\"text-align: right;\">\n",
       "      <th></th>\n",
       "      <th>NDCG</th>\n",
       "      <th>RBP</th>\n",
       "      <th>RecipRank</th>\n",
       "    </tr>\n",
       "    <tr>\n",
       "      <th>model</th>\n",
       "      <th></th>\n",
       "      <th></th>\n",
       "      <th></th>\n",
       "    </tr>\n",
       "  </thead>\n",
       "  <tbody>\n",
       "    <tr>\n",
       "      <th>ALS</th>\n",
       "      <td>0.045429</td>\n",
       "      <td>1.765977e-02</td>\n",
       "      <td>0.051498</td>\n",
       "    </tr>\n",
       "    <tr>\n",
       "      <th>Bias</th>\n",
       "      <td>0.056013</td>\n",
       "      <td>2.606650e-02</td>\n",
       "      <td>0.072641</td>\n",
       "    </tr>\n",
       "    <tr>\n",
       "      <th>IALS</th>\n",
       "      <td>0.219136</td>\n",
       "      <td>9.698519e-02</td>\n",
       "      <td>0.214077</td>\n",
       "    </tr>\n",
       "    <tr>\n",
       "      <th>IIE</th>\n",
       "      <td>0.001200</td>\n",
       "      <td>2.001155e-07</td>\n",
       "      <td>0.000500</td>\n",
       "    </tr>\n",
       "    <tr>\n",
       "      <th>III</th>\n",
       "      <td>0.216704</td>\n",
       "      <td>1.426967e-01</td>\n",
       "      <td>0.282676</td>\n",
       "    </tr>\n",
       "    <tr>\n",
       "      <th>Pop</th>\n",
       "      <td>0.136342</td>\n",
       "      <td>6.995563e-02</td>\n",
       "      <td>0.167008</td>\n",
       "    </tr>\n",
       "    <tr>\n",
       "      <th>UUE</th>\n",
       "      <td>0.000329</td>\n",
       "      <td>6.202456e-12</td>\n",
       "      <td>0.000144</td>\n",
       "    </tr>\n",
       "  </tbody>\n",
       "</table>\n",
       "</div>"
      ],
      "text/plain": [
       "           NDCG           RBP  RecipRank\n",
       "model                                   \n",
       "ALS    0.045429  1.765977e-02   0.051498\n",
       "Bias   0.056013  2.606650e-02   0.072641\n",
       "IALS   0.219136  9.698519e-02   0.214077\n",
       "IIE    0.001200  2.001155e-07   0.000500\n",
       "III    0.216704  1.426967e-01   0.282676\n",
       "Pop    0.136342  6.995563e-02   0.167008\n",
       "UUE    0.000329  6.202456e-12   0.000144"
      ]
     },
     "execution_count": 17,
     "metadata": {},
     "output_type": "execute_result"
    }
   ],
   "source": [
    "rlsum = rec_results.list_summary('model')['mean'].unstack()\n",
    "rlsum"
   ]
  },
  {
   "cell_type": "code",
   "execution_count": 18,
   "id": "5582d5d8",
   "metadata": {
    "execution": {
     "iopub.execute_input": "2024-12-18T00:04:53.669002Z",
     "iopub.status.busy": "2024-12-18T00:04:53.668933Z",
     "iopub.status.idle": "2024-12-18T00:04:53.670510Z",
     "shell.execute_reply": "2024-12-18T00:04:53.670362Z"
    },
    "papermill": {
     "duration": 0.00398,
     "end_time": "2024-12-18T00:04:53.670876",
     "exception": false,
     "start_time": "2024-12-18T00:04:53.666896",
     "status": "completed"
    },
    "tags": []
   },
   "outputs": [],
   "source": [
    "rlsum.to_json(f'eval-metrics.{dataset}.json', orient='index')"
   ]
  }
 ],
 "metadata": {
  "jupytext": {
   "formats": "ipynb,md",
   "notebook_metadata_filter": "split_at_heading"
  },
  "kernelspec": {
   "display_name": "Python 3 (ipykernel)",
   "language": "python",
   "name": "python3"
  },
  "language_info": {
   "codemirror_mode": {
    "name": "ipython",
    "version": 3
   },
   "file_extension": ".py",
   "mimetype": "text/x-python",
   "name": "python",
   "nbconvert_exporter": "python",
   "pygments_lexer": "ipython3",
   "version": "3.12.8"
  },
  "papermill": {
   "default_parameters": {},
   "duration": 3.561781,
   "end_time": "2024-12-18T00:04:54.087351",
   "environment_variables": {},
   "exception": null,
   "input_path": "eval-report.ipynb",
   "output_path": "eval-report.mlsmall.ipynb",
   "parameters": {
    "dataset": "mlsmall"
   },
   "start_time": "2024-12-18T00:04:50.525570",
   "version": "2.6.0"
  },
  "split_at_heading": true
 },
 "nbformat": 4,
 "nbformat_minor": 5
}