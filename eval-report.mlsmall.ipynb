{
 "cells": [
  {
   "cell_type": "markdown",
   "id": "d4f4b855",
   "metadata": {
    "papermill": {
     "duration": 0.025998,
     "end_time": "2022-02-15T23:26:27.120156",
     "exception": false,
     "start_time": "2022-02-15T23:26:27.094158",
     "status": "completed"
    },
    "tags": []
   },
   "source": [
    "# Evaluation Analysis for Recommender Output"
   ]
  },
  {
   "cell_type": "markdown",
   "id": "ad22280d",
   "metadata": {
    "papermill": {
     "duration": 0.029502,
     "end_time": "2022-02-15T23:26:27.175702",
     "exception": false,
     "start_time": "2022-02-15T23:26:27.146200",
     "status": "completed"
    },
    "tags": []
   },
   "source": [
    "In this section we will analyze and compare the generated recommendations and predictions from a predefined list of algorithms with the goal of assessing the performance of each algorithm with respect to a metric. In other words, we would rank the algorithms for each metric considered with respect to performance."
   ]
  },
  {
   "cell_type": "markdown",
   "id": "488f6d74",
   "metadata": {
    "papermill": {
     "duration": 0.027793,
     "end_time": "2022-02-15T23:26:27.235045",
     "exception": false,
     "start_time": "2022-02-15T23:26:27.207252",
     "status": "completed"
    },
    "tags": []
   },
   "source": [
    "# Setup"
   ]
  },
  {
   "cell_type": "markdown",
   "id": "da17fb9f",
   "metadata": {
    "papermill": {
     "duration": 0.024999,
     "end_time": "2022-02-15T23:26:27.284045",
     "exception": false,
     "start_time": "2022-02-15T23:26:27.259046",
     "status": "completed"
    },
    "tags": []
   },
   "source": [
    "Below are the list of packages required to successfully run the analysis. They are divided into partitions to signify their specific task.<br>\n",
    "We need the pathlib package for working with files and folders"
   ]
  },
  {
   "cell_type": "code",
   "execution_count": 1,
   "id": "ec497815",
   "metadata": {
    "execution": {
     "iopub.execute_input": "2022-02-15T23:26:27.336051Z",
     "iopub.status.busy": "2022-02-15T23:26:27.335045Z",
     "iopub.status.idle": "2022-02-15T23:26:27.345048Z",
     "shell.execute_reply": "2022-02-15T23:26:27.345048Z"
    },
    "papermill": {
     "duration": 0.039306,
     "end_time": "2022-02-15T23:26:27.347383",
     "exception": false,
     "start_time": "2022-02-15T23:26:27.308077",
     "status": "completed"
    },
    "tags": []
   },
   "outputs": [],
   "source": [
    "from pathlib import Path"
   ]
  },
  {
   "cell_type": "markdown",
   "id": "0f751815",
   "metadata": {
    "papermill": {
     "duration": 0.02603,
     "end_time": "2022-02-15T23:26:27.397414",
     "exception": false,
     "start_time": "2022-02-15T23:26:27.371384",
     "status": "completed"
    },
    "tags": []
   },
   "source": [
    "We would use the pandas for analyzing and manipulating our data while seaborn and matplotlib are used for data visualization. statsmodels.graphics.gofplots and scipy.stats.shapiro are used for normality check. Scipy.stats.friedmanchisquare is a non-parametric test used to determine the statistical significance in metric results and the wilcoxon test is used for pairwise comparison of sample data."
   ]
  },
  {
   "cell_type": "code",
   "execution_count": 2,
   "id": "921c2724",
   "metadata": {
    "execution": {
     "iopub.execute_input": "2022-02-15T23:26:27.450415Z",
     "iopub.status.busy": "2022-02-15T23:26:27.450415Z",
     "iopub.status.idle": "2022-02-15T23:26:29.120062Z",
     "shell.execute_reply": "2022-02-15T23:26:29.120062Z"
    },
    "papermill": {
     "duration": 1.700639,
     "end_time": "2022-02-15T23:26:29.122056",
     "exception": false,
     "start_time": "2022-02-15T23:26:27.421417",
     "status": "completed"
    },
    "tags": []
   },
   "outputs": [],
   "source": [
    "import pandas as pd\n",
    "import seaborn as sns\n",
    "import matplotlib.pyplot as plt\n",
    "from statsmodels.graphics.gofplots import qqplot\n",
    "from scipy.stats import shapiro\n",
    "from scipy.stats import friedmanchisquare, wilcoxon\n",
    "from itertools import combinations"
   ]
  },
  {
   "cell_type": "markdown",
   "id": "73359296",
   "metadata": {
    "papermill": {
     "duration": 0.027603,
     "end_time": "2022-02-15T23:26:29.172659",
     "exception": false,
     "start_time": "2022-02-15T23:26:29.145056",
     "status": "completed"
    },
    "tags": []
   },
   "source": [
    "Logging to show what's happening in LensKit routines:"
   ]
  },
  {
   "cell_type": "code",
   "execution_count": 3,
   "id": "0bd29cca",
   "metadata": {
    "execution": {
     "iopub.execute_input": "2022-02-15T23:26:29.223492Z",
     "iopub.status.busy": "2022-02-15T23:26:29.223492Z",
     "iopub.status.idle": "2022-02-15T23:26:29.277103Z",
     "shell.execute_reply": "2022-02-15T23:26:29.276088Z"
    },
    "papermill": {
     "duration": 0.081461,
     "end_time": "2022-02-15T23:26:29.279119",
     "exception": false,
     "start_time": "2022-02-15T23:26:29.197658",
     "status": "completed"
    },
    "tags": []
   },
   "outputs": [
    {
     "name": "stdout",
     "output_type": "stream",
     "text": [
      "[   INFO] lenskit.util.log notebook logging configured\n"
     ]
    }
   ],
   "source": [
    "from lenskit import util\n",
    "util.log_to_notebook()"
   ]
  },
  {
   "cell_type": "markdown",
   "id": "a05eb887",
   "metadata": {
    "papermill": {
     "duration": 0.024997,
     "end_time": "2022-02-15T23:26:29.330086",
     "exception": false,
     "start_time": "2022-02-15T23:26:29.305089",
     "status": "completed"
    },
    "tags": []
   },
   "source": [
    "We will use lenskit for training, running, and evaluating recommender algorithms"
   ]
  },
  {
   "cell_type": "code",
   "execution_count": 4,
   "id": "868d79be",
   "metadata": {
    "execution": {
     "iopub.execute_input": "2022-02-15T23:26:29.381088Z",
     "iopub.status.busy": "2022-02-15T23:26:29.381088Z",
     "iopub.status.idle": "2022-02-15T23:26:29.401092Z",
     "shell.execute_reply": "2022-02-15T23:26:29.401092Z"
    },
    "papermill": {
     "duration": 0.048,
     "end_time": "2022-02-15T23:26:29.403086",
     "exception": false,
     "start_time": "2022-02-15T23:26:29.355086",
     "status": "completed"
    },
    "tags": []
   },
   "outputs": [],
   "source": [
    "from lenskit import topn\n",
    "from lenskit.metrics.predict import rmse"
   ]
  },
  {
   "cell_type": "markdown",
   "id": "3170058b",
   "metadata": {
    "papermill": {
     "duration": 0.027,
     "end_time": "2022-02-15T23:26:29.453085",
     "exception": false,
     "start_time": "2022-02-15T23:26:29.426085",
     "status": "completed"
    },
    "tags": []
   },
   "source": [
    "# Load Data"
   ]
  },
  {
   "cell_type": "markdown",
   "id": "36e33418",
   "metadata": {
    "papermill": {
     "duration": 0.025008,
     "end_time": "2022-02-15T23:26:29.502092",
     "exception": false,
     "start_time": "2022-02-15T23:26:29.477084",
     "status": "completed"
    },
    "tags": []
   },
   "source": [
    "We specify the dataset we will use for our analysis and the main directory from where we read the recommendation and prediction files. From the main directory we find all the directories associated with the dataset and then read the recommendation and predictions files from those directories."
   ]
  },
  {
   "cell_type": "code",
   "execution_count": 5,
   "id": "8e5ce47a",
   "metadata": {
    "execution": {
     "iopub.execute_input": "2022-02-15T23:26:29.551086Z",
     "iopub.status.busy": "2022-02-15T23:26:29.551086Z",
     "iopub.status.idle": "2022-02-15T23:26:29.556088Z",
     "shell.execute_reply": "2022-02-15T23:26:29.555237Z"
    },
    "papermill": {
     "duration": 0.030971,
     "end_time": "2022-02-15T23:26:29.557086",
     "exception": false,
     "start_time": "2022-02-15T23:26:29.526115",
     "status": "completed"
    },
    "tags": [
     "parameters"
    ]
   },
   "outputs": [],
   "source": [
    "dataset = \"ml10m\""
   ]
  },
  {
   "cell_type": "code",
   "execution_count": 6,
   "id": "40ff5bb5",
   "metadata": {
    "execution": {
     "iopub.execute_input": "2022-02-15T23:26:29.608084Z",
     "iopub.status.busy": "2022-02-15T23:26:29.607085Z",
     "iopub.status.idle": "2022-02-15T23:26:29.620172Z",
     "shell.execute_reply": "2022-02-15T23:26:29.619236Z"
    },
    "papermill": {
     "duration": 0.039121,
     "end_time": "2022-02-15T23:26:29.621207",
     "exception": false,
     "start_time": "2022-02-15T23:26:29.582086",
     "status": "completed"
    },
    "tags": [
     "injected-parameters"
    ]
   },
   "outputs": [],
   "source": [
    "# Parameters\n",
    "dataset = \"mlsmall\"\n"
   ]
  },
  {
   "cell_type": "code",
   "execution_count": 7,
   "id": "2e521f8c",
   "metadata": {
    "execution": {
     "iopub.execute_input": "2022-02-15T23:26:29.673835Z",
     "iopub.status.busy": "2022-02-15T23:26:29.673835Z",
     "iopub.status.idle": "2022-02-15T23:26:29.682863Z",
     "shell.execute_reply": "2022-02-15T23:26:29.682863Z"
    },
    "papermill": {
     "duration": 0.039636,
     "end_time": "2022-02-15T23:26:29.684832",
     "exception": false,
     "start_time": "2022-02-15T23:26:29.645196",
     "status": "completed"
    },
    "tags": []
   },
   "outputs": [],
   "source": [
    "output_root = Path(\"runs\")"
   ]
  },
  {
   "cell_type": "code",
   "execution_count": 8,
   "id": "81a2387b",
   "metadata": {
    "execution": {
     "iopub.execute_input": "2022-02-15T23:26:29.736315Z",
     "iopub.status.busy": "2022-02-15T23:26:29.736315Z",
     "iopub.status.idle": "2022-02-15T23:26:29.746318Z",
     "shell.execute_reply": "2022-02-15T23:26:29.744365Z"
    },
    "papermill": {
     "duration": 0.038482,
     "end_time": "2022-02-15T23:26:29.747314",
     "exception": false,
     "start_time": "2022-02-15T23:26:29.708832",
     "status": "completed"
    },
    "tags": []
   },
   "outputs": [],
   "source": [
    "dirs = [fld for fld in output_root.glob(f'{dataset}-*')]"
   ]
  },
  {
   "cell_type": "code",
   "execution_count": 9,
   "id": "b4ab83ba",
   "metadata": {
    "execution": {
     "iopub.execute_input": "2022-02-15T23:26:29.799347Z",
     "iopub.status.busy": "2022-02-15T23:26:29.799347Z",
     "iopub.status.idle": "2022-02-15T23:26:30.119574Z",
     "shell.execute_reply": "2022-02-15T23:26:30.118726Z"
    },
    "papermill": {
     "duration": 0.348287,
     "end_time": "2022-02-15T23:26:30.120602",
     "exception": false,
     "start_time": "2022-02-15T23:26:29.772315",
     "status": "completed"
    },
    "tags": []
   },
   "outputs": [
    {
     "name": "stdout",
     "output_type": "stream",
     "text": [
      "<class 'pandas.core.frame.DataFrame'>\n",
      "RangeIndex: 365900 entries, 0 to 365899\n",
      "Data columns (total 5 columns):\n",
      " #   Column     Non-Null Count   Dtype   \n",
      "---  ------     --------------   -----   \n",
      " 0   item       365900 non-null  int64   \n",
      " 1   score      365900 non-null  float64 \n",
      " 2   user       365900 non-null  int64   \n",
      " 3   rank       365900 non-null  int64   \n",
      " 4   algorithm  365900 non-null  category\n",
      "dtypes: category(1), float64(1), int64(3)\n",
      "memory usage: 11.5 MB\n"
     ]
    }
   ],
   "source": [
    "recs = []\n",
    "for fld in dirs: \n",
    "    for file in fld.glob(\"recs-*\"):\n",
    "        rec = pd.read_csv(file, sep=',')\n",
    "        rec[\"algorithm\"] = fld.name.split(\"-\")[1]\n",
    "        recs.append(rec)\n",
    "\n",
    "recs = pd.concat(recs, ignore_index=True)\n",
    "recs = recs.astype({'algorithm': 'category'})\n",
    "recs.info()"
   ]
  },
  {
   "cell_type": "code",
   "execution_count": 10,
   "id": "e762cf8a",
   "metadata": {
    "execution": {
     "iopub.execute_input": "2022-02-15T23:26:30.173569Z",
     "iopub.status.busy": "2022-02-15T23:26:30.173569Z",
     "iopub.status.idle": "2022-02-15T23:26:30.196578Z",
     "shell.execute_reply": "2022-02-15T23:26:30.195572Z"
    },
    "papermill": {
     "duration": 0.052001,
     "end_time": "2022-02-15T23:26:30.197571",
     "exception": false,
     "start_time": "2022-02-15T23:26:30.145570",
     "status": "completed"
    },
    "tags": []
   },
   "outputs": [
    {
     "data": {
      "text/plain": [
       "['ALS', 'Bias', 'IALS', 'II', 'Pop', 'UU']\n",
       "Categories (6, object): ['ALS', 'Bias', 'IALS', 'II', 'Pop', 'UU']"
      ]
     },
     "execution_count": 10,
     "metadata": {},
     "output_type": "execute_result"
    }
   ],
   "source": [
    "rec_algos = recs['algorithm'].unique()\n",
    "rec_algos"
   ]
  },
  {
   "cell_type": "code",
   "execution_count": 11,
   "id": "d5cf0a2d",
   "metadata": {
    "execution": {
     "iopub.execute_input": "2022-02-15T23:26:30.251591Z",
     "iopub.status.busy": "2022-02-15T23:26:30.250557Z",
     "iopub.status.idle": "2022-02-15T23:26:30.323564Z",
     "shell.execute_reply": "2022-02-15T23:26:30.322566Z"
    },
    "papermill": {
     "duration": 0.102949,
     "end_time": "2022-02-15T23:26:30.325552",
     "exception": false,
     "start_time": "2022-02-15T23:26:30.222603",
     "status": "completed"
    },
    "tags": []
   },
   "outputs": [
    {
     "name": "stdout",
     "output_type": "stream",
     "text": [
      "<class 'pandas.core.frame.DataFrame'>\n",
      "RangeIndex: 15250 entries, 0 to 15249\n",
      "Data columns (total 6 columns):\n",
      " #   Column      Non-Null Count  Dtype   \n",
      "---  ------      --------------  -----   \n",
      " 0   user        15250 non-null  int64   \n",
      " 1   item        15250 non-null  int64   \n",
      " 2   rating      15250 non-null  float64 \n",
      " 3   timestamp   15250 non-null  int64   \n",
      " 4   prediction  15011 non-null  float64 \n",
      " 5   algorithm   15250 non-null  category\n",
      "dtypes: category(1), float64(2), int64(3)\n",
      "memory usage: 610.9 KB\n"
     ]
    }
   ],
   "source": [
    "preds = []\n",
    "for fld in dirs:\n",
    "    for file in fld.glob(\"pred-*\"):\n",
    "        pred = pd.read_csv(file, sep=',')\n",
    "        pred[\"algorithm\"] = fld.name.split(\"-\")[1]\n",
    "        preds.append(pred)\n",
    "\n",
    "preds = pd.concat(preds, ignore_index=True)\n",
    "preds = preds.astype({'algorithm': 'category'})\n",
    "preds.info()"
   ]
  },
  {
   "cell_type": "markdown",
   "id": "ee13923a",
   "metadata": {
    "papermill": {
     "duration": 0.02803,
     "end_time": "2022-02-15T23:26:30.380582",
     "exception": false,
     "start_time": "2022-02-15T23:26:30.352552",
     "status": "completed"
    },
    "tags": []
   },
   "source": [
    "We need to load the test data so that we have the ground truths for computing accuracy "
   ]
  },
  {
   "cell_type": "code",
   "execution_count": 12,
   "id": "0fca76e9",
   "metadata": {
    "execution": {
     "iopub.execute_input": "2022-02-15T23:26:30.436553Z",
     "iopub.status.busy": "2022-02-15T23:26:30.436553Z",
     "iopub.status.idle": "2022-02-15T23:26:30.447774Z",
     "shell.execute_reply": "2022-02-15T23:26:30.446618Z"
    },
    "papermill": {
     "duration": 0.04319,
     "end_time": "2022-02-15T23:26:30.448772",
     "exception": false,
     "start_time": "2022-02-15T23:26:30.405582",
     "status": "completed"
    },
    "tags": []
   },
   "outputs": [],
   "source": [
    "split_root = Path(\"data-split\")\n",
    "split_dir = split_root / dataset"
   ]
  },
  {
   "cell_type": "code",
   "execution_count": 13,
   "id": "1010de08",
   "metadata": {
    "execution": {
     "iopub.execute_input": "2022-02-15T23:26:30.500771Z",
     "iopub.status.busy": "2022-02-15T23:26:30.500771Z",
     "iopub.status.idle": "2022-02-15T23:26:30.522771Z",
     "shell.execute_reply": "2022-02-15T23:26:30.522771Z"
    },
    "papermill": {
     "duration": 0.051,
     "end_time": "2022-02-15T23:26:30.524771",
     "exception": false,
     "start_time": "2022-02-15T23:26:30.473771",
     "status": "completed"
    },
    "tags": []
   },
   "outputs": [],
   "source": [
    "test = []\n",
    "for file in split_dir.glob(\"test-*.csv.gz\"):\n",
    "    test.append(pd.read_csv(file, sep=','))\n",
    "\n",
    "test = pd.concat(test, ignore_index=True)"
   ]
  },
  {
   "cell_type": "markdown",
   "id": "43856305",
   "metadata": {
    "papermill": {
     "duration": 0.026601,
     "end_time": "2022-02-15T23:26:30.577371",
     "exception": false,
     "start_time": "2022-02-15T23:26:30.550770",
     "status": "completed"
    },
    "tags": []
   },
   "source": [
    "# Top-N Metrics"
   ]
  },
  {
   "cell_type": "markdown",
   "id": "4f66a3d6",
   "metadata": {
    "papermill": {
     "duration": 0.026508,
     "end_time": "2022-02-15T23:26:30.629919",
     "exception": false,
     "start_time": "2022-02-15T23:26:30.603411",
     "status": "completed"
    },
    "tags": []
   },
   "source": [
    "The topn.RecListAnalysis class computes top-N metrics for recommendation list and takes care of making sure that the recommendations and ground truths are properly matched. Refer to the documentation for detailed explanation of the purpose for the RecListAnalysis class and how the analysis is done - https://lkpy.lenskit.org/en/stable/evaluation/topn-metrics.html "
   ]
  },
  {
   "cell_type": "code",
   "execution_count": 14,
   "id": "fcaec267",
   "metadata": {
    "execution": {
     "iopub.execute_input": "2022-02-15T23:26:30.684920Z",
     "iopub.status.busy": "2022-02-15T23:26:30.684920Z",
     "iopub.status.idle": "2022-02-15T23:26:30.963738Z",
     "shell.execute_reply": "2022-02-15T23:26:30.963219Z"
    },
    "papermill": {
     "duration": 0.30582,
     "end_time": "2022-02-15T23:26:30.964740",
     "exception": false,
     "start_time": "2022-02-15T23:26:30.658920",
     "status": "completed"
    },
    "tags": []
   },
   "outputs": [
    {
     "name": "stdout",
     "output_type": "stream",
     "text": [
      "[   INFO] lenskit.topn analyzing 365900 recommendations (3050 truth rows)\n"
     ]
    },
    {
     "name": "stdout",
     "output_type": "stream",
     "text": [
      "[   INFO] lenskit.topn using rec key columns ['algorithm', 'user']\n"
     ]
    },
    {
     "name": "stdout",
     "output_type": "stream",
     "text": [
      "[   INFO] lenskit.topn using truth key columns ['user']\n"
     ]
    },
    {
     "name": "stdout",
     "output_type": "stream",
     "text": [
      "[   INFO] lenskit.topn numbering truth lists\n"
     ]
    },
    {
     "name": "stdout",
     "output_type": "stream",
     "text": [
      "[   INFO] lenskit.topn numbering rec lists\n"
     ]
    },
    {
     "name": "stdout",
     "output_type": "stream",
     "text": [
      "[   INFO] lenskit.topn collecting metric results\n"
     ]
    },
    {
     "name": "stdout",
     "output_type": "stream",
     "text": [
      "[   INFO] lenskit.topn measured 3659 lists in  158ms\n"
     ]
    },
    {
     "name": "stdout",
     "output_type": "stream",
     "text": [
      "[   INFO] lenskit.topn filling in missing user info (3659 initial rows)\n"
     ]
    },
    {
     "data": {
      "text/html": [
       "<div>\n",
       "<style scoped>\n",
       "    .dataframe tbody tr th:only-of-type {\n",
       "        vertical-align: middle;\n",
       "    }\n",
       "\n",
       "    .dataframe tbody tr th {\n",
       "        vertical-align: top;\n",
       "    }\n",
       "\n",
       "    .dataframe thead th {\n",
       "        text-align: right;\n",
       "    }\n",
       "</style>\n",
       "<table border=\"1\" class=\"dataframe\">\n",
       "  <thead>\n",
       "    <tr style=\"text-align: right;\">\n",
       "      <th></th>\n",
       "      <th></th>\n",
       "      <th>level_1</th>\n",
       "      <th>nrecs</th>\n",
       "      <th>precision</th>\n",
       "      <th>recip_rank</th>\n",
       "      <th>ndcg</th>\n",
       "      <th>ntruth</th>\n",
       "    </tr>\n",
       "    <tr>\n",
       "      <th>algorithm</th>\n",
       "      <th>user</th>\n",
       "      <th></th>\n",
       "      <th></th>\n",
       "      <th></th>\n",
       "      <th></th>\n",
       "      <th></th>\n",
       "      <th></th>\n",
       "    </tr>\n",
       "  </thead>\n",
       "  <tbody>\n",
       "    <tr>\n",
       "      <th rowspan=\"5\" valign=\"top\">ALS</th>\n",
       "      <th>2</th>\n",
       "      <td>0.0</td>\n",
       "      <td>100.0</td>\n",
       "      <td>0.02</td>\n",
       "      <td>0.014286</td>\n",
       "      <td>0.090597</td>\n",
       "      <td>5</td>\n",
       "    </tr>\n",
       "    <tr>\n",
       "      <th>3</th>\n",
       "      <td>1.0</td>\n",
       "      <td>100.0</td>\n",
       "      <td>0.00</td>\n",
       "      <td>0.000000</td>\n",
       "      <td>0.000000</td>\n",
       "      <td>5</td>\n",
       "    </tr>\n",
       "    <tr>\n",
       "      <th>5</th>\n",
       "      <td>2.0</td>\n",
       "      <td>100.0</td>\n",
       "      <td>0.01</td>\n",
       "      <td>0.125000</td>\n",
       "      <td>0.075448</td>\n",
       "      <td>5</td>\n",
       "    </tr>\n",
       "    <tr>\n",
       "      <th>10</th>\n",
       "      <td>3.0</td>\n",
       "      <td>100.0</td>\n",
       "      <td>0.00</td>\n",
       "      <td>0.000000</td>\n",
       "      <td>0.000000</td>\n",
       "      <td>5</td>\n",
       "    </tr>\n",
       "    <tr>\n",
       "      <th>15</th>\n",
       "      <td>4.0</td>\n",
       "      <td>100.0</td>\n",
       "      <td>0.01</td>\n",
       "      <td>0.083333</td>\n",
       "      <td>0.095728</td>\n",
       "      <td>5</td>\n",
       "    </tr>\n",
       "  </tbody>\n",
       "</table>\n",
       "</div>"
      ],
      "text/plain": [
       "                level_1  nrecs  precision  recip_rank      ndcg  ntruth\n",
       "algorithm user                                                         \n",
       "ALS       2         0.0  100.0       0.02    0.014286  0.090597       5\n",
       "          3         1.0  100.0       0.00    0.000000  0.000000       5\n",
       "          5         2.0  100.0       0.01    0.125000  0.075448       5\n",
       "          10        3.0  100.0       0.00    0.000000  0.000000       5\n",
       "          15        4.0  100.0       0.01    0.083333  0.095728       5"
      ]
     },
     "execution_count": 14,
     "metadata": {},
     "output_type": "execute_result"
    }
   ],
   "source": [
    "rla = topn.RecListAnalysis()\n",
    "\n",
    "rla.add_metric(topn.precision)\n",
    "rla.add_metric(topn.recip_rank)\n",
    "rla.add_metric(topn.ndcg)\n",
    "results = rla.compute(recs, test, include_missing=True)\n",
    "results = results.fillna(0)\n",
    "results.head()"
   ]
  },
  {
   "cell_type": "markdown",
   "id": "9914ee31",
   "metadata": {
    "papermill": {
     "duration": 0.028041,
     "end_time": "2022-02-15T23:26:31.020776",
     "exception": false,
     "start_time": "2022-02-15T23:26:30.992735",
     "status": "completed"
    },
    "tags": []
   },
   "source": [
    "We will reshape the 'results' dataframe by stacking the columns to index and then use the bar chart to visualize the performance of our algorithms with respect to the precision, reciprocal rank and ndcg metrics"
   ]
  },
  {
   "cell_type": "code",
   "execution_count": 15,
   "id": "23304c6c",
   "metadata": {
    "execution": {
     "iopub.execute_input": "2022-02-15T23:26:31.084363Z",
     "iopub.status.busy": "2022-02-15T23:26:31.084363Z",
     "iopub.status.idle": "2022-02-15T23:26:31.106337Z",
     "shell.execute_reply": "2022-02-15T23:26:31.105481Z"
    },
    "papermill": {
     "duration": 0.05857,
     "end_time": "2022-02-15T23:26:31.108331",
     "exception": false,
     "start_time": "2022-02-15T23:26:31.049761",
     "status": "completed"
    },
    "tags": []
   },
   "outputs": [
    {
     "data": {
      "text/html": [
       "<div>\n",
       "<style scoped>\n",
       "    .dataframe tbody tr th:only-of-type {\n",
       "        vertical-align: middle;\n",
       "    }\n",
       "\n",
       "    .dataframe tbody tr th {\n",
       "        vertical-align: top;\n",
       "    }\n",
       "\n",
       "    .dataframe thead th {\n",
       "        text-align: right;\n",
       "    }\n",
       "</style>\n",
       "<table border=\"1\" class=\"dataframe\">\n",
       "  <thead>\n",
       "    <tr style=\"text-align: right;\">\n",
       "      <th></th>\n",
       "      <th>algorithm</th>\n",
       "      <th>user</th>\n",
       "      <th>metric</th>\n",
       "      <th>val</th>\n",
       "    </tr>\n",
       "  </thead>\n",
       "  <tbody>\n",
       "    <tr>\n",
       "      <th>0</th>\n",
       "      <td>ALS</td>\n",
       "      <td>2</td>\n",
       "      <td>level_1</td>\n",
       "      <td>0.000000</td>\n",
       "    </tr>\n",
       "    <tr>\n",
       "      <th>1</th>\n",
       "      <td>ALS</td>\n",
       "      <td>2</td>\n",
       "      <td>precision</td>\n",
       "      <td>0.020000</td>\n",
       "    </tr>\n",
       "    <tr>\n",
       "      <th>2</th>\n",
       "      <td>ALS</td>\n",
       "      <td>2</td>\n",
       "      <td>recip_rank</td>\n",
       "      <td>0.014286</td>\n",
       "    </tr>\n",
       "    <tr>\n",
       "      <th>3</th>\n",
       "      <td>ALS</td>\n",
       "      <td>2</td>\n",
       "      <td>ndcg</td>\n",
       "      <td>0.090597</td>\n",
       "    </tr>\n",
       "    <tr>\n",
       "      <th>4</th>\n",
       "      <td>ALS</td>\n",
       "      <td>3</td>\n",
       "      <td>level_1</td>\n",
       "      <td>1.000000</td>\n",
       "    </tr>\n",
       "  </tbody>\n",
       "</table>\n",
       "</div>"
      ],
      "text/plain": [
       "  algorithm  user      metric       val\n",
       "0       ALS     2     level_1  0.000000\n",
       "1       ALS     2   precision  0.020000\n",
       "2       ALS     2  recip_rank  0.014286\n",
       "3       ALS     2        ndcg  0.090597\n",
       "4       ALS     3     level_1  1.000000"
      ]
     },
     "execution_count": 15,
     "metadata": {},
     "output_type": "execute_result"
    }
   ],
   "source": [
    "pltData = (results.drop(columns=['nrecs', 'ntruth']).stack()).reset_index()\n",
    "pltData.columns = ['algorithm', 'user', 'metric', 'val']\n",
    "pltData.head()"
   ]
  },
  {
   "cell_type": "markdown",
   "id": "e0bdae48",
   "metadata": {
    "papermill": {
     "duration": 0.033508,
     "end_time": "2022-02-15T23:26:31.169839",
     "exception": false,
     "start_time": "2022-02-15T23:26:31.136331",
     "status": "completed"
    },
    "tags": []
   },
   "source": [
    "We need to determine if the differences we observe in the performances of the algorithms for the various metrics are statistically significant. To achieve this, we will need to use either a parametric or non-parametric statistical test for comparing the differences. We will consider a parametric test - repeated ANOVA measure cause our sample groups are correlated."
   ]
  },
  {
   "cell_type": "code",
   "execution_count": 16,
   "id": "7bbd0931",
   "metadata": {
    "execution": {
     "iopub.execute_input": "2022-02-15T23:26:31.250331Z",
     "iopub.status.busy": "2022-02-15T23:26:31.250331Z",
     "iopub.status.idle": "2022-02-15T23:26:32.489962Z",
     "shell.execute_reply": "2022-02-15T23:26:32.489426Z"
    },
    "papermill": {
     "duration": 1.272994,
     "end_time": "2022-02-15T23:26:32.491963",
     "exception": false,
     "start_time": "2022-02-15T23:26:31.218969",
     "status": "completed"
    },
    "tags": []
   },
   "outputs": [
    {
     "data": {
      "image/png": "[encoded data removed]",
      "text/plain": [
       "<Figure size 1036.8x216 with 4 Axes>"
      ]
     },
     "metadata": {
      "needs_background": "light"
     },
     "output_type": "display_data"
    }
   ],
   "source": [
    "g = sns.catplot(x = \"algorithm\", y = \"val\", data = pltData, kind=\"bar\", col = \"metric\", aspect=1.2, height=3, sharey=False)"
   ]
  },
  {
   "cell_type": "markdown",
   "id": "e4ac4ae4",
   "metadata": {
    "papermill": {
     "duration": 0.040153,
     "end_time": "2022-02-15T23:26:32.572113",
     "exception": false,
     "start_time": "2022-02-15T23:26:32.531960",
     "status": "completed"
    },
    "tags": []
   },
   "source": [
    "### Statistical Testing"
   ]
  },
  {
   "cell_type": "markdown",
   "id": "416fad9c",
   "metadata": {
    "papermill": {
     "duration": 0.031999,
     "end_time": "2022-02-15T23:26:32.637069",
     "exception": false,
     "start_time": "2022-02-15T23:26:32.605070",
     "status": "completed"
    },
    "tags": []
   },
   "source": [
    "We will now examine these metrics in more detail and test for statistical significance.  Best practice for statistical testing for recommender systems is still a work in progress, but this method avoids most of the validity problems we know about.\n",
    "\n",
    "The Friedman $\\chi^2$ test will test the null hypothesis that there is no difference between algorithms in terms of their performance."
   ]
  },
  {
   "cell_type": "code",
   "execution_count": 17,
   "id": "201407c5",
   "metadata": {
    "execution": {
     "iopub.execute_input": "2022-02-15T23:26:32.708069Z",
     "iopub.status.busy": "2022-02-15T23:26:32.708069Z",
     "iopub.status.idle": "2022-02-15T23:26:32.722068Z",
     "shell.execute_reply": "2022-02-15T23:26:32.722068Z"
    },
    "papermill": {
     "duration": 0.05,
     "end_time": "2022-02-15T23:26:32.724069",
     "exception": false,
     "start_time": "2022-02-15T23:26:32.674069",
     "status": "completed"
    },
    "tags": []
   },
   "outputs": [],
   "source": [
    "def metric_friedman(metric):\n",
    "    groups = [df[metric] for a, df in results.groupby('algorithm')]\n",
    "\n",
    "    stat, p = friedmanchisquare(*groups)\n",
    "    return pd.Series({'stat': stat, 'p': p}, name=metric)"
   ]
  },
  {
   "cell_type": "markdown",
   "id": "96bff406",
   "metadata": {
    "papermill": {
     "duration": 0.03311,
     "end_time": "2022-02-15T23:26:32.790347",
     "exception": false,
     "start_time": "2022-02-15T23:26:32.757237",
     "status": "completed"
    },
    "tags": []
   },
   "source": [
    "If the test detects significance, we have at least one pair of different algorithms - but which pairs?  Unfortunately, the good tests aren't readily available in scipy and friends, so we're going to take a conservative approch and perform pairwise Wilconxon signed-rank tests with a Bonferroni adjustment."
   ]
  },
  {
   "cell_type": "code",
   "execution_count": 18,
   "id": "d711c5b2",
   "metadata": {
    "execution": {
     "iopub.execute_input": "2022-02-15T23:26:32.856573Z",
     "iopub.status.busy": "2022-02-15T23:26:32.856573Z",
     "iopub.status.idle": "2022-02-15T23:26:32.876677Z",
     "shell.execute_reply": "2022-02-15T23:26:32.875785Z"
    },
    "papermill": {
     "duration": 0.056354,
     "end_time": "2022-02-15T23:26:32.877665",
     "exception": false,
     "start_time": "2022-02-15T23:26:32.821311",
     "status": "completed"
    },
    "tags": []
   },
   "outputs": [],
   "source": [
    "pairs = pd.DataFrame.from_records(combinations(rec_algos, 2), columns=['A1', 'A2'])\n",
    "def am_wilcox(metric, p_scale = len(pairs)):\n",
    "    def compute(df):\n",
    "        vs1 = results.loc[df['A1'], metric]\n",
    "        vs2 = results.loc[df['A2'], metric]\n",
    "        diff = (vs1 - vs2).mean()\n",
    "        stat, p = wilcoxon(vs1, vs2)\n",
    "        return pd.Series({'diff': diff, 'stat': stat, 'p': p, 'adj_p': p * p_scale})\n",
    "    scores = pairs.apply(compute, axis=1)\n",
    "    return pairs.join(scores)"
   ]
  },
  {
   "cell_type": "markdown",
   "id": "fb901062",
   "metadata": {
    "papermill": {
     "duration": 0.030029,
     "end_time": "2022-02-15T23:26:32.937689",
     "exception": false,
     "start_time": "2022-02-15T23:26:32.907660",
     "status": "completed"
    },
    "tags": []
   },
   "source": [
    "## Precision"
   ]
  },
  {
   "cell_type": "code",
   "execution_count": 19,
   "id": "6f80a746",
   "metadata": {
    "execution": {
     "iopub.execute_input": "2022-02-15T23:26:33.002812Z",
     "iopub.status.busy": "2022-02-15T23:26:33.001659Z",
     "iopub.status.idle": "2022-02-15T23:26:33.065868Z",
     "shell.execute_reply": "2022-02-15T23:26:33.064867Z"
    },
    "papermill": {
     "duration": 0.098176,
     "end_time": "2022-02-15T23:26:33.066867",
     "exception": false,
     "start_time": "2022-02-15T23:26:32.968691",
     "status": "completed"
    },
    "tags": []
   },
   "outputs": [
    {
     "data": {
      "text/plain": [
       "stat    1847.459522\n",
       "p          0.000000\n",
       "Name: precision, dtype: float64"
      ]
     },
     "execution_count": 19,
     "metadata": {},
     "output_type": "execute_result"
    }
   ],
   "source": [
    "metric_friedman('precision')"
   ]
  },
  {
   "cell_type": "markdown",
   "id": "3ab2f004",
   "metadata": {
    "papermill": {
     "duration": 0.031612,
     "end_time": "2022-02-15T23:26:33.132104",
     "exception": false,
     "start_time": "2022-02-15T23:26:33.100492",
     "status": "completed"
    },
    "tags": []
   },
   "source": [
    "This indicates a statistically significant difference exists - but where is it?\n",
    "\n",
    "To answer that question, we need a post-hoc test. "
   ]
  },
  {
   "cell_type": "code",
   "execution_count": 20,
   "id": "4e994b77",
   "metadata": {
    "execution": {
     "iopub.execute_input": "2022-02-15T23:26:33.210096Z",
     "iopub.status.busy": "2022-02-15T23:26:33.210096Z",
     "iopub.status.idle": "2022-02-15T23:26:33.255993Z",
     "shell.execute_reply": "2022-02-15T23:26:33.255309Z"
    },
    "papermill": {
     "duration": 0.087954,
     "end_time": "2022-02-15T23:26:33.257018",
     "exception": false,
     "start_time": "2022-02-15T23:26:33.169064",
     "status": "completed"
    },
    "tags": []
   },
   "outputs": [
    {
     "data": {
      "text/html": [
       "<div>\n",
       "<style scoped>\n",
       "    .dataframe tbody tr th:only-of-type {\n",
       "        vertical-align: middle;\n",
       "    }\n",
       "\n",
       "    .dataframe tbody tr th {\n",
       "        vertical-align: top;\n",
       "    }\n",
       "\n",
       "    .dataframe thead th {\n",
       "        text-align: right;\n",
       "    }\n",
       "</style>\n",
       "<table border=\"1\" class=\"dataframe\">\n",
       "  <thead>\n",
       "    <tr style=\"text-align: right;\">\n",
       "      <th></th>\n",
       "      <th>A1</th>\n",
       "      <th>A2</th>\n",
       "      <th>diff</th>\n",
       "      <th>stat</th>\n",
       "      <th>p</th>\n",
       "      <th>adj_p</th>\n",
       "    </tr>\n",
       "  </thead>\n",
       "  <tbody>\n",
       "    <tr>\n",
       "      <th>11</th>\n",
       "      <td>IALS</td>\n",
       "      <td>UU</td>\n",
       "      <td>0.024721</td>\n",
       "      <td>0.0</td>\n",
       "      <td>5.638710e-92</td>\n",
       "      <td>8.458064e-91</td>\n",
       "    </tr>\n",
       "    <tr>\n",
       "      <th>9</th>\n",
       "      <td>IALS</td>\n",
       "      <td>II</td>\n",
       "      <td>0.024377</td>\n",
       "      <td>268.0</td>\n",
       "      <td>5.930030e-92</td>\n",
       "      <td>8.895046e-91</td>\n",
       "    </tr>\n",
       "    <tr>\n",
       "      <th>14</th>\n",
       "      <td>Pop</td>\n",
       "      <td>UU</td>\n",
       "      <td>0.014967</td>\n",
       "      <td>92.0</td>\n",
       "      <td>1.931992e-77</td>\n",
       "      <td>2.897988e-76</td>\n",
       "    </tr>\n",
       "    <tr>\n",
       "      <th>10</th>\n",
       "      <td>IALS</td>\n",
       "      <td>Pop</td>\n",
       "      <td>0.009754</td>\n",
       "      <td>7635.5</td>\n",
       "      <td>7.402356e-49</td>\n",
       "      <td>1.110353e-47</td>\n",
       "    </tr>\n",
       "    <tr>\n",
       "      <th>8</th>\n",
       "      <td>Bias</td>\n",
       "      <td>UU</td>\n",
       "      <td>0.006689</td>\n",
       "      <td>206.0</td>\n",
       "      <td>1.494795e-53</td>\n",
       "      <td>2.242193e-52</td>\n",
       "    </tr>\n",
       "    <tr>\n",
       "      <th>6</th>\n",
       "      <td>Bias</td>\n",
       "      <td>II</td>\n",
       "      <td>0.006344</td>\n",
       "      <td>309.5</td>\n",
       "      <td>1.773504e-51</td>\n",
       "      <td>2.660257e-50</td>\n",
       "    </tr>\n",
       "    <tr>\n",
       "      <th>4</th>\n",
       "      <td>ALS</td>\n",
       "      <td>UU</td>\n",
       "      <td>0.005508</td>\n",
       "      <td>179.0</td>\n",
       "      <td>1.253737e-45</td>\n",
       "      <td>1.880606e-44</td>\n",
       "    </tr>\n",
       "    <tr>\n",
       "      <th>2</th>\n",
       "      <td>ALS</td>\n",
       "      <td>II</td>\n",
       "      <td>0.005164</td>\n",
       "      <td>365.5</td>\n",
       "      <td>1.202343e-43</td>\n",
       "      <td>1.803515e-42</td>\n",
       "    </tr>\n",
       "    <tr>\n",
       "      <th>13</th>\n",
       "      <td>II</td>\n",
       "      <td>UU</td>\n",
       "      <td>0.000344</td>\n",
       "      <td>46.0</td>\n",
       "      <td>6.240821e-04</td>\n",
       "      <td>9.361232e-03</td>\n",
       "    </tr>\n",
       "    <tr>\n",
       "      <th>0</th>\n",
       "      <td>ALS</td>\n",
       "      <td>Bias</td>\n",
       "      <td>-0.001180</td>\n",
       "      <td>8127.0</td>\n",
       "      <td>1.030720e-04</td>\n",
       "      <td>1.546080e-03</td>\n",
       "    </tr>\n",
       "    <tr>\n",
       "      <th>7</th>\n",
       "      <td>Bias</td>\n",
       "      <td>Pop</td>\n",
       "      <td>-0.008279</td>\n",
       "      <td>6215.5</td>\n",
       "      <td>8.549474e-44</td>\n",
       "      <td>1.282421e-42</td>\n",
       "    </tr>\n",
       "    <tr>\n",
       "      <th>3</th>\n",
       "      <td>ALS</td>\n",
       "      <td>Pop</td>\n",
       "      <td>-0.009459</td>\n",
       "      <td>6679.5</td>\n",
       "      <td>1.570425e-47</td>\n",
       "      <td>2.355638e-46</td>\n",
       "    </tr>\n",
       "    <tr>\n",
       "      <th>12</th>\n",
       "      <td>II</td>\n",
       "      <td>Pop</td>\n",
       "      <td>-0.014623</td>\n",
       "      <td>689.5</td>\n",
       "      <td>2.618647e-76</td>\n",
       "      <td>3.927970e-75</td>\n",
       "    </tr>\n",
       "    <tr>\n",
       "      <th>5</th>\n",
       "      <td>Bias</td>\n",
       "      <td>IALS</td>\n",
       "      <td>-0.018033</td>\n",
       "      <td>3075.5</td>\n",
       "      <td>1.472178e-75</td>\n",
       "      <td>2.208267e-74</td>\n",
       "    </tr>\n",
       "    <tr>\n",
       "      <th>1</th>\n",
       "      <td>ALS</td>\n",
       "      <td>IALS</td>\n",
       "      <td>-0.019213</td>\n",
       "      <td>2428.5</td>\n",
       "      <td>1.582474e-77</td>\n",
       "      <td>2.373711e-76</td>\n",
       "    </tr>\n",
       "  </tbody>\n",
       "</table>\n",
       "</div>"
      ],
      "text/plain": [
       "      A1    A2      diff    stat             p         adj_p\n",
       "11  IALS    UU  0.024721     0.0  5.638710e-92  8.458064e-91\n",
       "9   IALS    II  0.024377   268.0  5.930030e-92  8.895046e-91\n",
       "14   Pop    UU  0.014967    92.0  1.931992e-77  2.897988e-76\n",
       "10  IALS   Pop  0.009754  7635.5  7.402356e-49  1.110353e-47\n",
       "8   Bias    UU  0.006689   206.0  1.494795e-53  2.242193e-52\n",
       "6   Bias    II  0.006344   309.5  1.773504e-51  2.660257e-50\n",
       "4    ALS    UU  0.005508   179.0  1.253737e-45  1.880606e-44\n",
       "2    ALS    II  0.005164   365.5  1.202343e-43  1.803515e-42\n",
       "13    II    UU  0.000344    46.0  6.240821e-04  9.361232e-03\n",
       "0    ALS  Bias -0.001180  8127.0  1.030720e-04  1.546080e-03\n",
       "7   Bias   Pop -0.008279  6215.5  8.549474e-44  1.282421e-42\n",
       "3    ALS   Pop -0.009459  6679.5  1.570425e-47  2.355638e-46\n",
       "12    II   Pop -0.014623   689.5  2.618647e-76  3.927970e-75\n",
       "5   Bias  IALS -0.018033  3075.5  1.472178e-75  2.208267e-74\n",
       "1    ALS  IALS -0.019213  2428.5  1.582474e-77  2.373711e-76"
      ]
     },
     "execution_count": 20,
     "metadata": {},
     "output_type": "execute_result"
    }
   ],
   "source": [
    "am_wilcox('precision').sort_values('diff', ascending=False)"
   ]
  },
  {
   "cell_type": "markdown",
   "id": "f131e714",
   "metadata": {
    "papermill": {
     "duration": 0.031005,
     "end_time": "2022-02-15T23:26:33.321018",
     "exception": false,
     "start_time": "2022-02-15T23:26:33.290013",
     "status": "completed"
    },
    "tags": []
   },
   "source": [
    "We can consider pairs with an adjusted $p$ value less than 0.05 (5.0e-2) to be statistically significant.  However, we have so many data points, the substance of significance is questionable.  Pay attention to the 'diff' column, which is the difference between A1 and A2 (how much A1 outperforms A2)."
   ]
  },
  {
   "cell_type": "markdown",
   "id": "cb8717f1",
   "metadata": {
    "papermill": {
     "duration": 0.031011,
     "end_time": "2022-02-15T23:26:33.384997",
     "exception": false,
     "start_time": "2022-02-15T23:26:33.353986",
     "status": "completed"
    },
    "tags": []
   },
   "source": [
    "### nDCG"
   ]
  },
  {
   "cell_type": "markdown",
   "id": "dbd43666",
   "metadata": {
    "papermill": {
     "duration": 0.032994,
     "end_time": "2022-02-15T23:26:33.450012",
     "exception": false,
     "start_time": "2022-02-15T23:26:33.417018",
     "status": "completed"
    },
    "tags": []
   },
   "source": [
    "Now let's do the same for nDCG:"
   ]
  },
  {
   "cell_type": "code",
   "execution_count": 21,
   "id": "58cb28e7",
   "metadata": {
    "execution": {
     "iopub.execute_input": "2022-02-15T23:26:33.516913Z",
     "iopub.status.busy": "2022-02-15T23:26:33.516913Z",
     "iopub.status.idle": "2022-02-15T23:26:33.567895Z",
     "shell.execute_reply": "2022-02-15T23:26:33.566888Z"
    },
    "papermill": {
     "duration": 0.087864,
     "end_time": "2022-02-15T23:26:33.568885",
     "exception": false,
     "start_time": "2022-02-15T23:26:33.481021",
     "status": "completed"
    },
    "tags": []
   },
   "outputs": [
    {
     "data": {
      "text/plain": [
       "stat    1756.217348\n",
       "p          0.000000\n",
       "Name: ndcg, dtype: float64"
      ]
     },
     "execution_count": 21,
     "metadata": {},
     "output_type": "execute_result"
    }
   ],
   "source": [
    "metric_friedman('ndcg')"
   ]
  },
  {
   "cell_type": "code",
   "execution_count": 22,
   "id": "d984ec3a",
   "metadata": {
    "execution": {
     "iopub.execute_input": "2022-02-15T23:26:33.634884Z",
     "iopub.status.busy": "2022-02-15T23:26:33.634884Z",
     "iopub.status.idle": "2022-02-15T23:26:33.676886Z",
     "shell.execute_reply": "2022-02-15T23:26:33.676031Z"
    },
    "papermill": {
     "duration": 0.078005,
     "end_time": "2022-02-15T23:26:33.678887",
     "exception": false,
     "start_time": "2022-02-15T23:26:33.600882",
     "status": "completed"
    },
    "tags": []
   },
   "outputs": [
    {
     "data": {
      "text/html": [
       "<div>\n",
       "<style scoped>\n",
       "    .dataframe tbody tr th:only-of-type {\n",
       "        vertical-align: middle;\n",
       "    }\n",
       "\n",
       "    .dataframe tbody tr th {\n",
       "        vertical-align: top;\n",
       "    }\n",
       "\n",
       "    .dataframe thead th {\n",
       "        text-align: right;\n",
       "    }\n",
       "</style>\n",
       "<table border=\"1\" class=\"dataframe\">\n",
       "  <thead>\n",
       "    <tr style=\"text-align: right;\">\n",
       "      <th></th>\n",
       "      <th>A1</th>\n",
       "      <th>A2</th>\n",
       "      <th>diff</th>\n",
       "      <th>stat</th>\n",
       "      <th>p</th>\n",
       "      <th>adj_p</th>\n",
       "    </tr>\n",
       "  </thead>\n",
       "  <tbody>\n",
       "    <tr>\n",
       "      <th>11</th>\n",
       "      <td>IALS</td>\n",
       "      <td>UU</td>\n",
       "      <td>0.212819</td>\n",
       "      <td>1.0</td>\n",
       "      <td>2.694885e-91</td>\n",
       "      <td>4.042328e-90</td>\n",
       "    </tr>\n",
       "    <tr>\n",
       "      <th>9</th>\n",
       "      <td>IALS</td>\n",
       "      <td>II</td>\n",
       "      <td>0.210994</td>\n",
       "      <td>159.0</td>\n",
       "      <td>1.416703e-91</td>\n",
       "      <td>2.125054e-90</td>\n",
       "    </tr>\n",
       "    <tr>\n",
       "      <th>14</th>\n",
       "      <td>Pop</td>\n",
       "      <td>UU</td>\n",
       "      <td>0.136646</td>\n",
       "      <td>41.0</td>\n",
       "      <td>7.867290e-76</td>\n",
       "      <td>1.180094e-74</td>\n",
       "    </tr>\n",
       "    <tr>\n",
       "      <th>10</th>\n",
       "      <td>IALS</td>\n",
       "      <td>Pop</td>\n",
       "      <td>0.076172</td>\n",
       "      <td>39005.0</td>\n",
       "      <td>1.365257e-25</td>\n",
       "      <td>2.047886e-24</td>\n",
       "    </tr>\n",
       "    <tr>\n",
       "      <th>8</th>\n",
       "      <td>Bias</td>\n",
       "      <td>UU</td>\n",
       "      <td>0.056569</td>\n",
       "      <td>67.0</td>\n",
       "      <td>7.912894e-50</td>\n",
       "      <td>1.186934e-48</td>\n",
       "    </tr>\n",
       "    <tr>\n",
       "      <th>6</th>\n",
       "      <td>Bias</td>\n",
       "      <td>II</td>\n",
       "      <td>0.054744</td>\n",
       "      <td>208.0</td>\n",
       "      <td>2.250263e-49</td>\n",
       "      <td>3.375394e-48</td>\n",
       "    </tr>\n",
       "    <tr>\n",
       "      <th>4</th>\n",
       "      <td>ALS</td>\n",
       "      <td>UU</td>\n",
       "      <td>0.044493</td>\n",
       "      <td>54.5</td>\n",
       "      <td>1.781601e-42</td>\n",
       "      <td>2.672402e-41</td>\n",
       "    </tr>\n",
       "    <tr>\n",
       "      <th>2</th>\n",
       "      <td>ALS</td>\n",
       "      <td>II</td>\n",
       "      <td>0.042668</td>\n",
       "      <td>117.0</td>\n",
       "      <td>1.752191e-42</td>\n",
       "      <td>2.628286e-41</td>\n",
       "    </tr>\n",
       "    <tr>\n",
       "      <th>13</th>\n",
       "      <td>II</td>\n",
       "      <td>UU</td>\n",
       "      <td>0.001825</td>\n",
       "      <td>39.0</td>\n",
       "      <td>8.905376e-04</td>\n",
       "      <td>1.335806e-02</td>\n",
       "    </tr>\n",
       "    <tr>\n",
       "      <th>0</th>\n",
       "      <td>ALS</td>\n",
       "      <td>Bias</td>\n",
       "      <td>-0.012076</td>\n",
       "      <td>22315.5</td>\n",
       "      <td>1.736337e-04</td>\n",
       "      <td>2.604506e-03</td>\n",
       "    </tr>\n",
       "    <tr>\n",
       "      <th>7</th>\n",
       "      <td>Bias</td>\n",
       "      <td>Pop</td>\n",
       "      <td>-0.080078</td>\n",
       "      <td>11991.0</td>\n",
       "      <td>3.181687e-49</td>\n",
       "      <td>4.772530e-48</td>\n",
       "    </tr>\n",
       "    <tr>\n",
       "      <th>3</th>\n",
       "      <td>ALS</td>\n",
       "      <td>Pop</td>\n",
       "      <td>-0.092153</td>\n",
       "      <td>11231.0</td>\n",
       "      <td>8.946434e-53</td>\n",
       "      <td>1.341965e-51</td>\n",
       "    </tr>\n",
       "    <tr>\n",
       "      <th>12</th>\n",
       "      <td>II</td>\n",
       "      <td>Pop</td>\n",
       "      <td>-0.134822</td>\n",
       "      <td>326.0</td>\n",
       "      <td>7.713447e-76</td>\n",
       "      <td>1.157017e-74</td>\n",
       "    </tr>\n",
       "    <tr>\n",
       "      <th>5</th>\n",
       "      <td>Bias</td>\n",
       "      <td>IALS</td>\n",
       "      <td>-0.156250</td>\n",
       "      <td>11484.0</td>\n",
       "      <td>3.277186e-69</td>\n",
       "      <td>4.915779e-68</td>\n",
       "    </tr>\n",
       "    <tr>\n",
       "      <th>1</th>\n",
       "      <td>ALS</td>\n",
       "      <td>IALS</td>\n",
       "      <td>-0.168326</td>\n",
       "      <td>7398.0</td>\n",
       "      <td>2.270119e-77</td>\n",
       "      <td>3.405178e-76</td>\n",
       "    </tr>\n",
       "  </tbody>\n",
       "</table>\n",
       "</div>"
      ],
      "text/plain": [
       "      A1    A2      diff     stat             p         adj_p\n",
       "11  IALS    UU  0.212819      1.0  2.694885e-91  4.042328e-90\n",
       "9   IALS    II  0.210994    159.0  1.416703e-91  2.125054e-90\n",
       "14   Pop    UU  0.136646     41.0  7.867290e-76  1.180094e-74\n",
       "10  IALS   Pop  0.076172  39005.0  1.365257e-25  2.047886e-24\n",
       "8   Bias    UU  0.056569     67.0  7.912894e-50  1.186934e-48\n",
       "6   Bias    II  0.054744    208.0  2.250263e-49  3.375394e-48\n",
       "4    ALS    UU  0.044493     54.5  1.781601e-42  2.672402e-41\n",
       "2    ALS    II  0.042668    117.0  1.752191e-42  2.628286e-41\n",
       "13    II    UU  0.001825     39.0  8.905376e-04  1.335806e-02\n",
       "0    ALS  Bias -0.012076  22315.5  1.736337e-04  2.604506e-03\n",
       "7   Bias   Pop -0.080078  11991.0  3.181687e-49  4.772530e-48\n",
       "3    ALS   Pop -0.092153  11231.0  8.946434e-53  1.341965e-51\n",
       "12    II   Pop -0.134822    326.0  7.713447e-76  1.157017e-74\n",
       "5   Bias  IALS -0.156250  11484.0  3.277186e-69  4.915779e-68\n",
       "1    ALS  IALS -0.168326   7398.0  2.270119e-77  3.405178e-76"
      ]
     },
     "execution_count": 22,
     "metadata": {},
     "output_type": "execute_result"
    }
   ],
   "source": [
    "am_wilcox('ndcg').sort_values('diff', ascending=False)"
   ]
  },
  {
   "cell_type": "markdown",
   "id": "2c737fec",
   "metadata": {
    "papermill": {
     "duration": 0.03469,
     "end_time": "2022-02-15T23:26:33.744573",
     "exception": false,
     "start_time": "2022-02-15T23:26:33.709883",
     "status": "completed"
    },
    "tags": []
   },
   "source": [
    "### Reciprocal Rank\n",
    "\n",
    "We'll do this also for reciprocal rank (what is aggregated to compute MRR):"
   ]
  },
  {
   "cell_type": "code",
   "execution_count": 23,
   "id": "44dab642",
   "metadata": {
    "execution": {
     "iopub.execute_input": "2022-02-15T23:26:33.816195Z",
     "iopub.status.busy": "2022-02-15T23:26:33.816195Z",
     "iopub.status.idle": "2022-02-15T23:26:33.868213Z",
     "shell.execute_reply": "2022-02-15T23:26:33.867214Z"
    },
    "papermill": {
     "duration": 0.085998,
     "end_time": "2022-02-15T23:26:33.870195",
     "exception": false,
     "start_time": "2022-02-15T23:26:33.784197",
     "status": "completed"
    },
    "tags": []
   },
   "outputs": [
    {
     "data": {
      "text/plain": [
       "stat    1650.495886\n",
       "p          0.000000\n",
       "Name: recip_rank, dtype: float64"
      ]
     },
     "execution_count": 23,
     "metadata": {},
     "output_type": "execute_result"
    }
   ],
   "source": [
    "metric_friedman('recip_rank')"
   ]
  },
  {
   "cell_type": "code",
   "execution_count": 24,
   "id": "66f05764",
   "metadata": {
    "execution": {
     "iopub.execute_input": "2022-02-15T23:26:33.937193Z",
     "iopub.status.busy": "2022-02-15T23:26:33.937193Z",
     "iopub.status.idle": "2022-02-15T23:26:33.977253Z",
     "shell.execute_reply": "2022-02-15T23:26:33.976346Z"
    },
    "papermill": {
     "duration": 0.075999,
     "end_time": "2022-02-15T23:26:33.980194",
     "exception": false,
     "start_time": "2022-02-15T23:26:33.904195",
     "status": "completed"
    },
    "tags": []
   },
   "outputs": [
    {
     "data": {
      "text/html": [
       "<div>\n",
       "<style scoped>\n",
       "    .dataframe tbody tr th:only-of-type {\n",
       "        vertical-align: middle;\n",
       "    }\n",
       "\n",
       "    .dataframe tbody tr th {\n",
       "        vertical-align: top;\n",
       "    }\n",
       "\n",
       "    .dataframe thead th {\n",
       "        text-align: right;\n",
       "    }\n",
       "</style>\n",
       "<table border=\"1\" class=\"dataframe\">\n",
       "  <thead>\n",
       "    <tr style=\"text-align: right;\">\n",
       "      <th></th>\n",
       "      <th>A1</th>\n",
       "      <th>A2</th>\n",
       "      <th>diff</th>\n",
       "      <th>stat</th>\n",
       "      <th>p</th>\n",
       "      <th>adj_p</th>\n",
       "    </tr>\n",
       "  </thead>\n",
       "  <tbody>\n",
       "    <tr>\n",
       "      <th>11</th>\n",
       "      <td>IALS</td>\n",
       "      <td>UU</td>\n",
       "      <td>0.218669</td>\n",
       "      <td>0.0</td>\n",
       "      <td>2.301754e-91</td>\n",
       "      <td>3.452631e-90</td>\n",
       "    </tr>\n",
       "    <tr>\n",
       "      <th>9</th>\n",
       "      <td>IALS</td>\n",
       "      <td>II</td>\n",
       "      <td>0.218087</td>\n",
       "      <td>271.5</td>\n",
       "      <td>2.268778e-91</td>\n",
       "      <td>3.403167e-90</td>\n",
       "    </tr>\n",
       "    <tr>\n",
       "      <th>14</th>\n",
       "      <td>Pop</td>\n",
       "      <td>UU</td>\n",
       "      <td>0.178722</td>\n",
       "      <td>44.5</td>\n",
       "      <td>7.073240e-76</td>\n",
       "      <td>1.060986e-74</td>\n",
       "    </tr>\n",
       "    <tr>\n",
       "      <th>8</th>\n",
       "      <td>Bias</td>\n",
       "      <td>UU</td>\n",
       "      <td>0.077988</td>\n",
       "      <td>70.0</td>\n",
       "      <td>7.873501e-50</td>\n",
       "      <td>1.181025e-48</td>\n",
       "    </tr>\n",
       "    <tr>\n",
       "      <th>6</th>\n",
       "      <td>Bias</td>\n",
       "      <td>II</td>\n",
       "      <td>0.077406</td>\n",
       "      <td>143.0</td>\n",
       "      <td>1.142619e-49</td>\n",
       "      <td>1.713928e-48</td>\n",
       "    </tr>\n",
       "    <tr>\n",
       "      <th>4</th>\n",
       "      <td>ALS</td>\n",
       "      <td>UU</td>\n",
       "      <td>0.050185</td>\n",
       "      <td>79.5</td>\n",
       "      <td>2.374763e-42</td>\n",
       "      <td>3.562145e-41</td>\n",
       "    </tr>\n",
       "    <tr>\n",
       "      <th>2</th>\n",
       "      <td>ALS</td>\n",
       "      <td>II</td>\n",
       "      <td>0.049603</td>\n",
       "      <td>133.5</td>\n",
       "      <td>2.112878e-42</td>\n",
       "      <td>3.169317e-41</td>\n",
       "    </tr>\n",
       "    <tr>\n",
       "      <th>10</th>\n",
       "      <td>IALS</td>\n",
       "      <td>Pop</td>\n",
       "      <td>0.039947</td>\n",
       "      <td>53499.5</td>\n",
       "      <td>5.050573e-07</td>\n",
       "      <td>7.575859e-06</td>\n",
       "    </tr>\n",
       "    <tr>\n",
       "      <th>13</th>\n",
       "      <td>II</td>\n",
       "      <td>UU</td>\n",
       "      <td>0.000582</td>\n",
       "      <td>61.0</td>\n",
       "      <td>6.294337e-03</td>\n",
       "      <td>9.441505e-02</td>\n",
       "    </tr>\n",
       "    <tr>\n",
       "      <th>0</th>\n",
       "      <td>ALS</td>\n",
       "      <td>Bias</td>\n",
       "      <td>-0.027803</td>\n",
       "      <td>22182.5</td>\n",
       "      <td>7.842539e-04</td>\n",
       "      <td>1.176381e-02</td>\n",
       "    </tr>\n",
       "    <tr>\n",
       "      <th>7</th>\n",
       "      <td>Bias</td>\n",
       "      <td>Pop</td>\n",
       "      <td>-0.100733</td>\n",
       "      <td>20246.5</td>\n",
       "      <td>1.531558e-30</td>\n",
       "      <td>2.297337e-29</td>\n",
       "    </tr>\n",
       "    <tr>\n",
       "      <th>3</th>\n",
       "      <td>ALS</td>\n",
       "      <td>Pop</td>\n",
       "      <td>-0.128536</td>\n",
       "      <td>16535.5</td>\n",
       "      <td>2.800939e-40</td>\n",
       "      <td>4.201408e-39</td>\n",
       "    </tr>\n",
       "    <tr>\n",
       "      <th>5</th>\n",
       "      <td>Bias</td>\n",
       "      <td>IALS</td>\n",
       "      <td>-0.140680</td>\n",
       "      <td>23926.5</td>\n",
       "      <td>1.812520e-45</td>\n",
       "      <td>2.718780e-44</td>\n",
       "    </tr>\n",
       "    <tr>\n",
       "      <th>1</th>\n",
       "      <td>ALS</td>\n",
       "      <td>IALS</td>\n",
       "      <td>-0.168483</td>\n",
       "      <td>16844.0</td>\n",
       "      <td>1.123668e-56</td>\n",
       "      <td>1.685502e-55</td>\n",
       "    </tr>\n",
       "    <tr>\n",
       "      <th>12</th>\n",
       "      <td>II</td>\n",
       "      <td>Pop</td>\n",
       "      <td>-0.178140</td>\n",
       "      <td>356.5</td>\n",
       "      <td>8.471899e-76</td>\n",
       "      <td>1.270785e-74</td>\n",
       "    </tr>\n",
       "  </tbody>\n",
       "</table>\n",
       "</div>"
      ],
      "text/plain": [
       "      A1    A2      diff     stat             p         adj_p\n",
       "11  IALS    UU  0.218669      0.0  2.301754e-91  3.452631e-90\n",
       "9   IALS    II  0.218087    271.5  2.268778e-91  3.403167e-90\n",
       "14   Pop    UU  0.178722     44.5  7.073240e-76  1.060986e-74\n",
       "8   Bias    UU  0.077988     70.0  7.873501e-50  1.181025e-48\n",
       "6   Bias    II  0.077406    143.0  1.142619e-49  1.713928e-48\n",
       "4    ALS    UU  0.050185     79.5  2.374763e-42  3.562145e-41\n",
       "2    ALS    II  0.049603    133.5  2.112878e-42  3.169317e-41\n",
       "10  IALS   Pop  0.039947  53499.5  5.050573e-07  7.575859e-06\n",
       "13    II    UU  0.000582     61.0  6.294337e-03  9.441505e-02\n",
       "0    ALS  Bias -0.027803  22182.5  7.842539e-04  1.176381e-02\n",
       "7   Bias   Pop -0.100733  20246.5  1.531558e-30  2.297337e-29\n",
       "3    ALS   Pop -0.128536  16535.5  2.800939e-40  4.201408e-39\n",
       "5   Bias  IALS -0.140680  23926.5  1.812520e-45  2.718780e-44\n",
       "1    ALS  IALS -0.168483  16844.0  1.123668e-56  1.685502e-55\n",
       "12    II   Pop -0.178140    356.5  8.471899e-76  1.270785e-74"
      ]
     },
     "execution_count": 24,
     "metadata": {},
     "output_type": "execute_result"
    }
   ],
   "source": [
    "am_wilcox('recip_rank').sort_values('diff', ascending=False)"
   ]
  },
  {
   "cell_type": "markdown",
   "id": "a4db10ee",
   "metadata": {
    "papermill": {
     "duration": 0.034631,
     "end_time": "2022-02-15T23:26:34.053824",
     "exception": false,
     "start_time": "2022-02-15T23:26:34.019193",
     "status": "completed"
    },
    "tags": []
   },
   "source": [
    "## Prediction RMSE\n",
    "\n",
    "We will also look at the prediction RMSE."
   ]
  },
  {
   "cell_type": "code",
   "execution_count": 25,
   "id": "887c84fe",
   "metadata": {
    "execution": {
     "iopub.execute_input": "2022-02-15T23:26:34.121845Z",
     "iopub.status.busy": "2022-02-15T23:26:34.121845Z",
     "iopub.status.idle": "2022-02-15T23:26:35.818866Z",
     "shell.execute_reply": "2022-02-15T23:26:35.818866Z"
    },
    "papermill": {
     "duration": 1.734657,
     "end_time": "2022-02-15T23:26:35.820861",
     "exception": false,
     "start_time": "2022-02-15T23:26:34.086204",
     "status": "completed"
    },
    "tags": []
   },
   "outputs": [],
   "source": [
    "user_rmse = preds.groupby(['algorithm', 'user']).apply(lambda df: rmse(df['prediction'], df['rating']))\n",
    "user_rmse = user_rmse.reset_index(name='RMSE')"
   ]
  },
  {
   "cell_type": "code",
   "execution_count": 26,
   "id": "156708f8",
   "metadata": {
    "execution": {
     "iopub.execute_input": "2022-02-15T23:26:35.889861Z",
     "iopub.status.busy": "2022-02-15T23:26:35.889861Z",
     "iopub.status.idle": "2022-02-15T23:26:36.149225Z",
     "shell.execute_reply": "2022-02-15T23:26:36.149225Z"
    },
    "papermill": {
     "duration": 0.295352,
     "end_time": "2022-02-15T23:26:36.151181",
     "exception": false,
     "start_time": "2022-02-15T23:26:35.855829",
     "status": "completed"
    },
    "tags": []
   },
   "outputs": [
    {
     "data": {
      "text/plain": [
       "<seaborn.axisgrid.FacetGrid at 0x22780544f40>"
      ]
     },
     "execution_count": 26,
     "metadata": {},
     "output_type": "execute_result"
    },
    {
     "data": {
      "image/png": "[encoded data removed]",
      "text/plain": [
       "<Figure size 360x360 with 1 Axes>"
      ]
     },
     "metadata": {
      "needs_background": "light"
     },
     "output_type": "display_data"
    }
   ],
   "source": [
    "sns.catplot(x='algorithm', y='RMSE', data=user_rmse, kind='bar')"
   ]
  },
  {
   "cell_type": "code",
   "execution_count": null,
   "id": "cdf5ac66",
   "metadata": {
    "papermill": {
     "duration": 0.035008,
     "end_time": "2022-02-15T23:26:36.219189",
     "exception": false,
     "start_time": "2022-02-15T23:26:36.184181",
     "status": "completed"
    },
    "tags": []
   },
   "outputs": [],
   "source": []
  }
 ],
 "metadata": {
  "kernelspec": {
   "display_name": "Python 3 (ipykernel)",
   "language": "python",
   "name": "python3"
  },
  "language_info": {
   "codemirror_mode": {
    "name": "ipython",
    "version": 3
   },
   "file_extension": ".py",
   "mimetype": "text/x-python",
   "name": "python",
   "nbconvert_exporter": "python",
   "pygments_lexer": "ipython3",
   "version": "3.9.7"
  },
  "papermill": {
   "default_parameters": {},
   "duration": 12.02906,
   "end_time": "2022-02-15T23:26:36.500569",
   "environment_variables": {},
   "exception": null,
   "input_path": "eval-report.ipynb",
   "output_path": "eval-report.mlsmall.ipynb",
   "parameters": {
    "dataset": "mlsmall"
   },
   "start_time": "2022-02-15T23:26:24.471509",
   "version": "2.3.3"
  }
 },
 "nbformat": 4,
 "nbformat_minor": 5
}