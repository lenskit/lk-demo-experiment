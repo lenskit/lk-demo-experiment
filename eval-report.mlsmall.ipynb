{
 "cells": [
  {
   "cell_type": "markdown",
   "id": "7291eba0",
   "metadata": {
    "papermill": {
     "duration": 0.010332,
     "end_time": "2024-12-14T20:42:48.089389",
     "exception": false,
     "start_time": "2024-12-14T20:42:48.079057",
     "status": "completed"
    },
    "tags": []
   },
   "source": [
    "# Evaluation Analysis for Recommender Output"
   ]
  },
  {
   "cell_type": "markdown",
   "id": "872010be",
   "metadata": {
    "papermill": {
     "duration": 0.001056,
     "end_time": "2024-12-14T20:42:48.091704",
     "exception": false,
     "start_time": "2024-12-14T20:42:48.090648",
     "status": "completed"
    },
    "tags": []
   },
   "source": [
    "In this section we will analyze and compare the generated recommendations and predictions from a predefined list of algorithms with the goal of assessing the performance of each algorithm with respect to a metric. In other words, we would rank the algorithms for each metric considered with respect to performance."
   ]
  },
  {
   "cell_type": "markdown",
   "id": "aaaf15df",
   "metadata": {
    "papermill": {
     "duration": 0.001061,
     "end_time": "2024-12-14T20:42:48.093870",
     "exception": false,
     "start_time": "2024-12-14T20:42:48.092809",
     "status": "completed"
    },
    "tags": []
   },
   "source": [
    "## Setup"
   ]
  },
  {
   "cell_type": "markdown",
   "id": "8684b9cf",
   "metadata": {
    "papermill": {
     "duration": 0.001037,
     "end_time": "2024-12-14T20:42:48.095960",
     "exception": false,
     "start_time": "2024-12-14T20:42:48.094923",
     "status": "completed"
    },
    "tags": []
   },
   "source": [
    "Below are the list of packages required to successfully run the analysis. They are divided into partitions to signify their specific task.<br>\n",
    "We need the pathlib package for working with files and folders"
   ]
  },
  {
   "cell_type": "code",
   "execution_count": 1,
   "id": "ee069941",
   "metadata": {
    "execution": {
     "iopub.execute_input": "2024-12-14T20:42:48.098963Z",
     "iopub.status.busy": "2024-12-14T20:42:48.098616Z",
     "iopub.status.idle": "2024-12-14T20:42:48.100439Z",
     "shell.execute_reply": "2024-12-14T20:42:48.100290Z"
    },
    "papermill": {
     "duration": 0.003835,
     "end_time": "2024-12-14T20:42:48.100841",
     "exception": false,
     "start_time": "2024-12-14T20:42:48.097006",
     "status": "completed"
    },
    "tags": []
   },
   "outputs": [],
   "source": [
    "from pathlib import Path\n",
    "import json"
   ]
  },
  {
   "cell_type": "markdown",
   "id": "50590acc",
   "metadata": {
    "papermill": {
     "duration": 0.001125,
     "end_time": "2024-12-14T20:42:48.103492",
     "exception": false,
     "start_time": "2024-12-14T20:42:48.102367",
     "status": "completed"
    },
    "tags": []
   },
   "source": [
    "We would use the pandas for analyzing and manipulating our data while seaborn and matplotlib are used for data visualization. statsmodels.graphics.gofplots and scipy.stats.shapiro are used for normality check. Scipy.stats.friedmanchisquare is a non-parametric test used to determine the statistical significance in metric results and the wilcoxon test is used for pairwise comparison of sample data."
   ]
  },
  {
   "cell_type": "code",
   "execution_count": 2,
   "id": "d40cc792",
   "metadata": {
    "execution": {
     "iopub.execute_input": "2024-12-14T20:42:48.106358Z",
     "iopub.status.busy": "2024-12-14T20:42:48.106129Z",
     "iopub.status.idle": "2024-12-14T20:42:48.543692Z",
     "shell.execute_reply": "2024-12-14T20:42:48.543491Z"
    },
    "lines_to_next_cell": 2,
    "papermill": {
     "duration": 0.439715,
     "end_time": "2024-12-14T20:42:48.544347",
     "exception": false,
     "start_time": "2024-12-14T20:42:48.104632",
     "status": "completed"
    },
    "tags": []
   },
   "outputs": [],
   "source": [
    "import pandas as pd\n",
    "import seaborn as sns\n",
    "import matplotlib.pyplot as plt\n",
    "from statsmodels.graphics.gofplots import qqplot\n",
    "from scipy.stats import shapiro\n",
    "from scipy.stats import friedmanchisquare, wilcoxon\n",
    "from itertools import combinations"
   ]
  },
  {
   "cell_type": "markdown",
   "id": "76360899",
   "metadata": {
    "papermill": {
     "duration": 0.008781,
     "end_time": "2024-12-14T20:42:48.554533",
     "exception": false,
     "start_time": "2024-12-14T20:42:48.545752",
     "status": "completed"
    },
    "tags": []
   },
   "source": [
    "Import the LensKit metrics for analysis:"
   ]
  },
  {
   "cell_type": "code",
   "execution_count": 3,
   "id": "9f0614f8",
   "metadata": {
    "execution": {
     "iopub.execute_input": "2024-12-14T20:42:48.557338Z",
     "iopub.status.busy": "2024-12-14T20:42:48.557204Z",
     "iopub.status.idle": "2024-12-14T20:42:49.196145Z",
     "shell.execute_reply": "2024-12-14T20:42:49.195742Z"
    },
    "papermill": {
     "duration": 0.641133,
     "end_time": "2024-12-14T20:42:49.196824",
     "exception": false,
     "start_time": "2024-12-14T20:42:48.555691",
     "status": "completed"
    },
    "tags": []
   },
   "outputs": [],
   "source": [
    "from lenskit.data import ItemListCollection, UserIDKey\n",
    "from lenskit.metrics import RunAnalysis, RMSE, NDCG, RecipRank, RBP"
   ]
  },
  {
   "cell_type": "markdown",
   "id": "44472f41",
   "metadata": {
    "papermill": {
     "duration": 0.009084,
     "end_time": "2024-12-14T20:42:49.207277",
     "exception": false,
     "start_time": "2024-12-14T20:42:49.198193",
     "status": "completed"
    },
    "tags": []
   },
   "source": [
    "## Load Data\n",
    "\n",
    "The recommendations are in `runs`, and we will need to reassemble the test data from `test`."
   ]
  },
  {
   "cell_type": "code",
   "execution_count": 4,
   "id": "a854029a",
   "metadata": {
    "execution": {
     "iopub.execute_input": "2024-12-14T20:42:49.210225Z",
     "iopub.status.busy": "2024-12-14T20:42:49.210131Z",
     "iopub.status.idle": "2024-12-14T20:42:49.211810Z",
     "shell.execute_reply": "2024-12-14T20:42:49.211644Z"
    },
    "papermill": {
     "duration": 0.003804,
     "end_time": "2024-12-14T20:42:49.212269",
     "exception": false,
     "start_time": "2024-12-14T20:42:49.208465",
     "status": "completed"
    },
    "tags": [
     "parameters"
    ]
   },
   "outputs": [],
   "source": [
    "dataset = \"ml100k\""
   ]
  },
  {
   "cell_type": "code",
   "execution_count": 5,
   "id": "12dc3204",
   "metadata": {
    "execution": {
     "iopub.execute_input": "2024-12-14T20:42:49.214933Z",
     "iopub.status.busy": "2024-12-14T20:42:49.214869Z",
     "iopub.status.idle": "2024-12-14T20:42:49.216042Z",
     "shell.execute_reply": "2024-12-14T20:42:49.215912Z"
    },
    "papermill": {
     "duration": 0.002877,
     "end_time": "2024-12-14T20:42:49.216337",
     "exception": false,
     "start_time": "2024-12-14T20:42:49.213460",
     "status": "completed"
    },
    "tags": [
     "injected-parameters"
    ]
   },
   "outputs": [],
   "source": [
    "# Parameters\n",
    "dataset = \"mlsmall\"\n"
   ]
  },
  {
   "cell_type": "code",
   "execution_count": 6,
   "id": "58b1ab64",
   "metadata": {
    "execution": {
     "iopub.execute_input": "2024-12-14T20:42:49.219049Z",
     "iopub.status.busy": "2024-12-14T20:42:49.218973Z",
     "iopub.status.idle": "2024-12-14T20:42:49.220215Z",
     "shell.execute_reply": "2024-12-14T20:42:49.220083Z"
    },
    "papermill": {
     "duration": 0.002996,
     "end_time": "2024-12-14T20:42:49.220518",
     "exception": false,
     "start_time": "2024-12-14T20:42:49.217522",
     "status": "completed"
    },
    "tags": []
   },
   "outputs": [],
   "source": [
    "output_root = Path(\"runs\")"
   ]
  },
  {
   "cell_type": "code",
   "execution_count": 7,
   "id": "291fdc84",
   "metadata": {
    "execution": {
     "iopub.execute_input": "2024-12-14T20:42:49.223180Z",
     "iopub.status.busy": "2024-12-14T20:42:49.223114Z",
     "iopub.status.idle": "2024-12-14T20:42:49.224918Z",
     "shell.execute_reply": "2024-12-14T20:42:49.224648Z"
    },
    "papermill": {
     "duration": 0.003452,
     "end_time": "2024-12-14T20:42:49.225177",
     "exception": false,
     "start_time": "2024-12-14T20:42:49.221725",
     "status": "completed"
    },
    "tags": []
   },
   "outputs": [],
   "source": [
    "dirs = [fld for fld in output_root.glob(f'{dataset}-*')]"
   ]
  },
  {
   "cell_type": "code",
   "execution_count": 8,
   "id": "e47fe658",
   "metadata": {
    "execution": {
     "iopub.execute_input": "2024-12-14T20:42:49.227722Z",
     "iopub.status.busy": "2024-12-14T20:42:49.227661Z",
     "iopub.status.idle": "2024-12-14T20:42:49.296685Z",
     "shell.execute_reply": "2024-12-14T20:42:49.296370Z"
    },
    "papermill": {
     "duration": 0.070898,
     "end_time": "2024-12-14T20:42:49.297260",
     "exception": false,
     "start_time": "2024-12-14T20:42:49.226362",
     "status": "completed"
    },
    "tags": []
   },
   "outputs": [],
   "source": [
    "recs = ItemListCollection(['model', 'user_id'], index=False)\n",
    "for fld in dirs:\n",
    "    for file in fld.glob(\"recs-*\"):\n",
    "        rec = ItemListCollection.load_parquet(file)\n",
    "        recs.add_from(rec, model=fld.name.split(\"-\")[1])"
   ]
  },
  {
   "cell_type": "code",
   "execution_count": 9,
   "id": "36d675e6",
   "metadata": {
    "execution": {
     "iopub.execute_input": "2024-12-14T20:42:49.300299Z",
     "iopub.status.busy": "2024-12-14T20:42:49.300224Z",
     "iopub.status.idle": "2024-12-14T20:42:49.303234Z",
     "shell.execute_reply": "2024-12-14T20:42:49.303039Z"
    },
    "papermill": {
     "duration": 0.004923,
     "end_time": "2024-12-14T20:42:49.303580",
     "exception": false,
     "start_time": "2024-12-14T20:42:49.298657",
     "status": "completed"
    },
    "tags": []
   },
   "outputs": [
    {
     "data": {
      "text/plain": [
       "['ALS', 'Bias', 'IALS', 'IIE', 'III', 'Pop']"
      ]
     },
     "execution_count": 9,
     "metadata": {},
     "output_type": "execute_result"
    }
   ],
   "source": [
    "rec_algos = sorted(set(a for (a, _u) in recs.keys()))\n",
    "rec_algos"
   ]
  },
  {
   "cell_type": "code",
   "execution_count": 10,
   "id": "530bbfda",
   "metadata": {
    "execution": {
     "iopub.execute_input": "2024-12-14T20:42:49.306320Z",
     "iopub.status.busy": "2024-12-14T20:42:49.306245Z",
     "iopub.status.idle": "2024-12-14T20:42:49.347988Z",
     "shell.execute_reply": "2024-12-14T20:42:49.347689Z"
    },
    "papermill": {
     "duration": 0.043703,
     "end_time": "2024-12-14T20:42:49.348507",
     "exception": false,
     "start_time": "2024-12-14T20:42:49.304804",
     "status": "completed"
    },
    "tags": []
   },
   "outputs": [],
   "source": [
    "preds = ItemListCollection(['model', 'user_id'], index=False)\n",
    "for fld in dirs:\n",
    "    for file in fld.glob(\"pred-*\"):\n",
    "        pred = ItemListCollection.load_parquet(file)\n",
    "        preds.add_from(pred, model=fld.name.split(\"-\")[1])"
   ]
  },
  {
   "cell_type": "markdown",
   "id": "737fbf6f",
   "metadata": {
    "papermill": {
     "duration": 0.001271,
     "end_time": "2024-12-14T20:42:49.351101",
     "exception": false,
     "start_time": "2024-12-14T20:42:49.349830",
     "status": "completed"
    },
    "tags": []
   },
   "source": [
    "We need to load the test data so that we have the ground truths for computing accuracy"
   ]
  },
  {
   "cell_type": "code",
   "execution_count": 11,
   "id": "094c6750",
   "metadata": {
    "execution": {
     "iopub.execute_input": "2024-12-14T20:42:49.353920Z",
     "iopub.status.busy": "2024-12-14T20:42:49.353841Z",
     "iopub.status.idle": "2024-12-14T20:42:49.355770Z",
     "shell.execute_reply": "2024-12-14T20:42:49.355541Z"
    },
    "papermill": {
     "duration": 0.003804,
     "end_time": "2024-12-14T20:42:49.356165",
     "exception": false,
     "start_time": "2024-12-14T20:42:49.352361",
     "status": "completed"
    },
    "tags": []
   },
   "outputs": [],
   "source": [
    "split_root = Path(\"data-split\")\n",
    "split_dir = split_root / dataset"
   ]
  },
  {
   "cell_type": "code",
   "execution_count": 12,
   "id": "b6b27b83",
   "metadata": {
    "execution": {
     "iopub.execute_input": "2024-12-14T20:42:49.359037Z",
     "iopub.status.busy": "2024-12-14T20:42:49.358959Z",
     "iopub.status.idle": "2024-12-14T20:42:49.390907Z",
     "shell.execute_reply": "2024-12-14T20:42:49.390568Z"
    },
    "papermill": {
     "duration": 0.033912,
     "end_time": "2024-12-14T20:42:49.391347",
     "exception": false,
     "start_time": "2024-12-14T20:42:49.357435",
     "status": "completed"
    },
    "tags": []
   },
   "outputs": [],
   "source": [
    "test = ItemListCollection(UserIDKey)\n",
    "for file in split_dir.glob(\"test-*.parquet\"):\n",
    "    df = pd.read_parquet(file)\n",
    "    part = ItemListCollection.from_df(df, UserIDKey)\n",
    "    test.add_from(part)"
   ]
  },
  {
   "cell_type": "markdown",
   "id": "fed8bea2",
   "metadata": {
    "papermill": {
     "duration": 0.001222,
     "end_time": "2024-12-14T20:42:49.393810",
     "exception": false,
     "start_time": "2024-12-14T20:42:49.392588",
     "status": "completed"
    },
    "tags": []
   },
   "source": [
    "## Top-N Metrics\n",
    "\n",
    "`RunListAnalysis` computes metrics for recommendation results and takes care of\n",
    "matching recommendations and ground truth."
   ]
  },
  {
   "cell_type": "code",
   "execution_count": 13,
   "id": "7b68ce95",
   "metadata": {
    "execution": {
     "iopub.execute_input": "2024-12-14T20:42:49.396738Z",
     "iopub.status.busy": "2024-12-14T20:42:49.396656Z",
     "iopub.status.idle": "2024-12-14T20:42:49.637487Z",
     "shell.execute_reply": "2024-12-14T20:42:49.637215Z"
    },
    "papermill": {
     "duration": 0.242882,
     "end_time": "2024-12-14T20:42:49.637946",
     "exception": false,
     "start_time": "2024-12-14T20:42:49.395064",
     "status": "completed"
    },
    "tags": []
   },
   "outputs": [
    {
     "name": "stderr",
     "output_type": "stream",
     "text": [
      "/home/mde48/lenskit/lk-demo-experiment/.pixi/envs/cuda/lib/python3.12/site-packages/lenskit/metrics/bulk.py:116: FutureWarning: The previous implementation of stack is deprecated and will be removed in a future version of pandas. See the What's New notes for pandas 2.1.0 for details. Specify future_stack=True to adopt the new implementation and silence this warning.\n",
      "  df = scores.groupby(list(keys)).agg([\"mean\", \"median\", \"std\"]).stack(level=0)\n"
     ]
    },
    {
     "data": {
      "text/html": [
       "<div>\n",
       "<style scoped>\n",
       "    .dataframe tbody tr th:only-of-type {\n",
       "        vertical-align: middle;\n",
       "    }\n",
       "\n",
       "    .dataframe tbody tr th {\n",
       "        vertical-align: top;\n",
       "    }\n",
       "\n",
       "    .dataframe thead th {\n",
       "        text-align: right;\n",
       "    }\n",
       "</style>\n",
       "<table border=\"1\" class=\"dataframe\">\n",
       "  <thead>\n",
       "    <tr style=\"text-align: right;\">\n",
       "      <th></th>\n",
       "      <th></th>\n",
       "      <th>mean</th>\n",
       "      <th>median</th>\n",
       "      <th>std</th>\n",
       "    </tr>\n",
       "    <tr>\n",
       "      <th>model</th>\n",
       "      <th></th>\n",
       "      <th></th>\n",
       "      <th></th>\n",
       "      <th></th>\n",
       "    </tr>\n",
       "  </thead>\n",
       "  <tbody>\n",
       "    <tr>\n",
       "      <th rowspan=\"3\" valign=\"top\">ALS</th>\n",
       "      <th>NDCG</th>\n",
       "      <td>0.044477</td>\n",
       "      <td>0.000000e+00</td>\n",
       "      <td>0.073642</td>\n",
       "    </tr>\n",
       "    <tr>\n",
       "      <th>RBP</th>\n",
       "      <td>0.016837</td>\n",
       "      <td>0.000000e+00</td>\n",
       "      <td>0.075712</td>\n",
       "    </tr>\n",
       "    <tr>\n",
       "      <th>RecipRank</th>\n",
       "      <td>0.052553</td>\n",
       "      <td>0.000000e+00</td>\n",
       "      <td>0.154571</td>\n",
       "    </tr>\n",
       "    <tr>\n",
       "      <th rowspan=\"3\" valign=\"top\">Bias</th>\n",
       "      <th>NDCG</th>\n",
       "      <td>0.056837</td>\n",
       "      <td>4.380638e-02</td>\n",
       "      <td>0.082093</td>\n",
       "    </tr>\n",
       "    <tr>\n",
       "      <th>RBP</th>\n",
       "      <td>0.025322</td>\n",
       "      <td>1.938705e-26</td>\n",
       "      <td>0.104163</td>\n",
       "    </tr>\n",
       "    <tr>\n",
       "      <th>RecipRank</th>\n",
       "      <td>0.074222</td>\n",
       "      <td>1.169631e-02</td>\n",
       "      <td>0.207617</td>\n",
       "    </tr>\n",
       "    <tr>\n",
       "      <th rowspan=\"3\" valign=\"top\">IALS</th>\n",
       "      <th>NDCG</th>\n",
       "      <td>0.221068</td>\n",
       "      <td>1.682108e-01</td>\n",
       "      <td>0.192906</td>\n",
       "    </tr>\n",
       "    <tr>\n",
       "      <th>RBP</th>\n",
       "      <td>0.101004</td>\n",
       "      <td>1.220703e-04</td>\n",
       "      <td>0.189913</td>\n",
       "    </tr>\n",
       "    <tr>\n",
       "      <th>RecipRank</th>\n",
       "      <td>0.225590</td>\n",
       "      <td>7.692308e-02</td>\n",
       "      <td>0.307643</td>\n",
       "    </tr>\n",
       "    <tr>\n",
       "      <th rowspan=\"3\" valign=\"top\">IIE</th>\n",
       "      <th>NDCG</th>\n",
       "      <td>0.002620</td>\n",
       "      <td>0.000000e+00</td>\n",
       "      <td>0.015590</td>\n",
       "    </tr>\n",
       "    <tr>\n",
       "      <th>RBP</th>\n",
       "      <td>0.000410</td>\n",
       "      <td>0.000000e+00</td>\n",
       "      <td>0.010122</td>\n",
       "    </tr>\n",
       "    <tr>\n",
       "      <th>RecipRank</th>\n",
       "      <td>0.001642</td>\n",
       "      <td>0.000000e+00</td>\n",
       "      <td>0.020729</td>\n",
       "    </tr>\n",
       "    <tr>\n",
       "      <th rowspan=\"3\" valign=\"top\">III</th>\n",
       "      <th>NDCG</th>\n",
       "      <td>0.215293</td>\n",
       "      <td>1.491980e-01</td>\n",
       "      <td>0.208262</td>\n",
       "    </tr>\n",
       "    <tr>\n",
       "      <th>RBP</th>\n",
       "      <td>0.143913</td>\n",
       "      <td>2.441420e-04</td>\n",
       "      <td>0.232122</td>\n",
       "    </tr>\n",
       "    <tr>\n",
       "      <th>RecipRank</th>\n",
       "      <td>0.285037</td>\n",
       "      <td>8.333333e-02</td>\n",
       "      <td>0.369859</td>\n",
       "    </tr>\n",
       "    <tr>\n",
       "      <th rowspan=\"3\" valign=\"top\">Pop</th>\n",
       "      <th>NDCG</th>\n",
       "      <td>0.142104</td>\n",
       "      <td>7.709739e-02</td>\n",
       "      <td>0.157413</td>\n",
       "    </tr>\n",
       "    <tr>\n",
       "      <th>RBP</th>\n",
       "      <td>0.078577</td>\n",
       "      <td>1.862645e-08</td>\n",
       "      <td>0.173880</td>\n",
       "    </tr>\n",
       "    <tr>\n",
       "      <th>RecipRank</th>\n",
       "      <td>0.179519</td>\n",
       "      <td>3.846154e-02</td>\n",
       "      <td>0.301824</td>\n",
       "    </tr>\n",
       "  </tbody>\n",
       "</table>\n",
       "</div>"
      ],
      "text/plain": [
       "                     mean        median       std\n",
       "model                                            \n",
       "ALS   NDCG       0.044477  0.000000e+00  0.073642\n",
       "      RBP        0.016837  0.000000e+00  0.075712\n",
       "      RecipRank  0.052553  0.000000e+00  0.154571\n",
       "Bias  NDCG       0.056837  4.380638e-02  0.082093\n",
       "      RBP        0.025322  1.938705e-26  0.104163\n",
       "      RecipRank  0.074222  1.169631e-02  0.207617\n",
       "IALS  NDCG       0.221068  1.682108e-01  0.192906\n",
       "      RBP        0.101004  1.220703e-04  0.189913\n",
       "      RecipRank  0.225590  7.692308e-02  0.307643\n",
       "IIE   NDCG       0.002620  0.000000e+00  0.015590\n",
       "      RBP        0.000410  0.000000e+00  0.010122\n",
       "      RecipRank  0.001642  0.000000e+00  0.020729\n",
       "III   NDCG       0.215293  1.491980e-01  0.208262\n",
       "      RBP        0.143913  2.441420e-04  0.232122\n",
       "      RecipRank  0.285037  8.333333e-02  0.369859\n",
       "Pop   NDCG       0.142104  7.709739e-02  0.157413\n",
       "      RBP        0.078577  1.862645e-08  0.173880\n",
       "      RecipRank  0.179519  3.846154e-02  0.301824"
      ]
     },
     "execution_count": 13,
     "metadata": {},
     "output_type": "execute_result"
    }
   ],
   "source": [
    "ra = RunAnalysis()\n",
    "\n",
    "ra.add_metric(NDCG())\n",
    "ra.add_metric(RecipRank())\n",
    "ra.add_metric(RBP())\n",
    "\n",
    "rec_results = ra.compute(recs, test)\n",
    "rec_results.list_summary('model')"
   ]
  },
  {
   "cell_type": "markdown",
   "id": "8cba4e78",
   "metadata": {
    "papermill": {
     "duration": 0.008656,
     "end_time": "2024-12-14T20:42:49.648065",
     "exception": false,
     "start_time": "2024-12-14T20:42:49.639409",
     "status": "completed"
    },
    "tags": []
   },
   "source": [
    "We can reshape the list metrics and plot them:"
   ]
  },
  {
   "cell_type": "code",
   "execution_count": 14,
   "id": "238604c3",
   "metadata": {
    "execution": {
     "iopub.execute_input": "2024-12-14T20:42:49.651371Z",
     "iopub.status.busy": "2024-12-14T20:42:49.651274Z",
     "iopub.status.idle": "2024-12-14T20:42:50.002231Z",
     "shell.execute_reply": "2024-12-14T20:42:50.001975Z"
    },
    "papermill": {
     "duration": 0.353422,
     "end_time": "2024-12-14T20:42:50.002899",
     "exception": false,
     "start_time": "2024-12-14T20:42:49.649477",
     "status": "completed"
    },
    "tags": []
   },
   "outputs": [
    {
     "data": {
      "image/png": "[encoded data removed]",
      "text/plain": [
       "<Figure size 1511.11x500 with 3 Axes>"
      ]
     },
     "metadata": {},
     "output_type": "display_data"
    }
   ],
   "source": [
    "metrics = rec_results.list_metrics()\n",
    "metrics = metrics.melt(var_name='metric', ignore_index=False).reset_index()\n",
    "sns.catplot(metrics, x='model', y='value', col='metric', kind='bar')\n",
    "plt.show()"
   ]
  },
  {
   "cell_type": "markdown",
   "id": "d6f202d4",
   "metadata": {
    "papermill": {
     "duration": 0.008937,
     "end_time": "2024-12-14T20:42:50.014815",
     "exception": false,
     "start_time": "2024-12-14T20:42:50.005878",
     "status": "completed"
    },
    "tags": []
   },
   "source": [
    "## Prediction RMSE\n",
    "\n",
    "We will also look at the prediction RMSE."
   ]
  },
  {
   "cell_type": "code",
   "execution_count": 15,
   "id": "c78c5ff6",
   "metadata": {
    "execution": {
     "iopub.execute_input": "2024-12-14T20:42:50.018546Z",
     "iopub.status.busy": "2024-12-14T20:42:50.018456Z",
     "iopub.status.idle": "2024-12-14T20:42:50.623227Z",
     "shell.execute_reply": "2024-12-14T20:42:50.623088Z"
    },
    "papermill": {
     "duration": 0.607211,
     "end_time": "2024-12-14T20:42:50.623666",
     "exception": false,
     "start_time": "2024-12-14T20:42:50.016455",
     "status": "completed"
    },
    "tags": []
   },
   "outputs": [
    {
     "name": "stderr",
     "output_type": "stream",
     "text": [
      "/home/mde48/lenskit/lk-demo-experiment/.pixi/envs/cuda/lib/python3.12/site-packages/lenskit/metrics/bulk.py:116: FutureWarning: The previous implementation of stack is deprecated and will be removed in a future version of pandas. See the What's New notes for pandas 2.1.0 for details. Specify future_stack=True to adopt the new implementation and silence this warning.\n",
      "  df = scores.groupby(list(keys)).agg([\"mean\", \"median\", \"std\"]).stack(level=0)\n"
     ]
    },
    {
     "data": {
      "text/html": [
       "<div>\n",
       "<style scoped>\n",
       "    .dataframe tbody tr th:only-of-type {\n",
       "        vertical-align: middle;\n",
       "    }\n",
       "\n",
       "    .dataframe tbody tr th {\n",
       "        vertical-align: top;\n",
       "    }\n",
       "\n",
       "    .dataframe thead th {\n",
       "        text-align: right;\n",
       "    }\n",
       "</style>\n",
       "<table border=\"1\" class=\"dataframe\">\n",
       "  <thead>\n",
       "    <tr style=\"text-align: right;\">\n",
       "      <th></th>\n",
       "      <th></th>\n",
       "      <th>mean</th>\n",
       "      <th>median</th>\n",
       "      <th>std</th>\n",
       "    </tr>\n",
       "    <tr>\n",
       "      <th>model</th>\n",
       "      <th></th>\n",
       "      <th></th>\n",
       "      <th></th>\n",
       "      <th></th>\n",
       "    </tr>\n",
       "  </thead>\n",
       "  <tbody>\n",
       "    <tr>\n",
       "      <th>ALS</th>\n",
       "      <th>RMSE</th>\n",
       "      <td>0.822781</td>\n",
       "      <td>0.756343</td>\n",
       "      <td>0.369172</td>\n",
       "    </tr>\n",
       "    <tr>\n",
       "      <th>Bias</th>\n",
       "      <th>RMSE</th>\n",
       "      <td>0.844854</td>\n",
       "      <td>0.779785</td>\n",
       "      <td>0.378084</td>\n",
       "    </tr>\n",
       "    <tr>\n",
       "      <th>IIE</th>\n",
       "      <th>RMSE</th>\n",
       "      <td>0.831609</td>\n",
       "      <td>0.768649</td>\n",
       "      <td>0.386477</td>\n",
       "    </tr>\n",
       "  </tbody>\n",
       "</table>\n",
       "</div>"
      ],
      "text/plain": [
       "                mean    median       std\n",
       "model                                   \n",
       "ALS   RMSE  0.822781  0.756343  0.369172\n",
       "Bias  RMSE  0.844854  0.779785  0.378084\n",
       "IIE   RMSE  0.831609  0.768649  0.386477"
      ]
     },
     "execution_count": 15,
     "metadata": {},
     "output_type": "execute_result"
    }
   ],
   "source": [
    "pa = RunAnalysis()\n",
    "\n",
    "pa.add_metric(RMSE(missing_scores='ignore', missing_truth='ignore'))\n",
    "\n",
    "pred_results = pa.compute(preds, test)\n",
    "pred_results.list_summary('model')"
   ]
  },
  {
   "cell_type": "code",
   "execution_count": 16,
   "id": "929287d6",
   "metadata": {
    "execution": {
     "iopub.execute_input": "2024-12-14T20:42:50.634837Z",
     "iopub.status.busy": "2024-12-14T20:42:50.634755Z",
     "iopub.status.idle": "2024-12-14T20:42:50.704444Z",
     "shell.execute_reply": "2024-12-14T20:42:50.704202Z"
    },
    "papermill": {
     "duration": 0.079593,
     "end_time": "2024-12-14T20:42:50.704884",
     "exception": false,
     "start_time": "2024-12-14T20:42:50.625291",
     "status": "completed"
    },
    "tags": []
   },
   "outputs": [
    {
     "data": {
      "image/png": "[encoded data removed]",
      "text/plain": [
       "<Figure size 511.111x500 with 1 Axes>"
      ]
     },
     "metadata": {},
     "output_type": "display_data"
    }
   ],
   "source": [
    "sns.catplot(pred_results.list_metrics().reset_index(), x='model', y='RMSE', kind='bar')\n",
    "plt.show()"
   ]
  },
  {
   "cell_type": "markdown",
   "id": "0caac7ca",
   "metadata": {
    "papermill": {
     "duration": 0.001623,
     "end_time": "2024-12-14T20:42:50.708225",
     "exception": false,
     "start_time": "2024-12-14T20:42:50.706602",
     "status": "completed"
    },
    "tags": []
   },
   "source": [
    "## Save Metrics\n",
    "\n",
    "We'll now save the metrics to a file."
   ]
  },
  {
   "cell_type": "code",
   "execution_count": 17,
   "id": "4e43b021",
   "metadata": {
    "execution": {
     "iopub.execute_input": "2024-12-14T20:42:50.711844Z",
     "iopub.status.busy": "2024-12-14T20:42:50.711720Z",
     "iopub.status.idle": "2024-12-14T20:42:50.717895Z",
     "shell.execute_reply": "2024-12-14T20:42:50.717753Z"
    },
    "papermill": {
     "duration": 0.008369,
     "end_time": "2024-12-14T20:42:50.718259",
     "exception": false,
     "start_time": "2024-12-14T20:42:50.709890",
     "status": "completed"
    },
    "tags": []
   },
   "outputs": [
    {
     "name": "stderr",
     "output_type": "stream",
     "text": [
      "/home/mde48/lenskit/lk-demo-experiment/.pixi/envs/cuda/lib/python3.12/site-packages/lenskit/metrics/bulk.py:116: FutureWarning: The previous implementation of stack is deprecated and will be removed in a future version of pandas. See the What's New notes for pandas 2.1.0 for details. Specify future_stack=True to adopt the new implementation and silence this warning.\n",
      "  df = scores.groupby(list(keys)).agg([\"mean\", \"median\", \"std\"]).stack(level=0)\n"
     ]
    },
    {
     "data": {
      "text/html": [
       "<div>\n",
       "<style scoped>\n",
       "    .dataframe tbody tr th:only-of-type {\n",
       "        vertical-align: middle;\n",
       "    }\n",
       "\n",
       "    .dataframe tbody tr th {\n",
       "        vertical-align: top;\n",
       "    }\n",
       "\n",
       "    .dataframe thead th {\n",
       "        text-align: right;\n",
       "    }\n",
       "</style>\n",
       "<table border=\"1\" class=\"dataframe\">\n",
       "  <thead>\n",
       "    <tr style=\"text-align: right;\">\n",
       "      <th></th>\n",
       "      <th>NDCG</th>\n",
       "      <th>RBP</th>\n",
       "      <th>RecipRank</th>\n",
       "    </tr>\n",
       "    <tr>\n",
       "      <th>model</th>\n",
       "      <th></th>\n",
       "      <th></th>\n",
       "      <th></th>\n",
       "    </tr>\n",
       "  </thead>\n",
       "  <tbody>\n",
       "    <tr>\n",
       "      <th>ALS</th>\n",
       "      <td>0.044477</td>\n",
       "      <td>0.016837</td>\n",
       "      <td>0.052553</td>\n",
       "    </tr>\n",
       "    <tr>\n",
       "      <th>Bias</th>\n",
       "      <td>0.056837</td>\n",
       "      <td>0.025322</td>\n",
       "      <td>0.074222</td>\n",
       "    </tr>\n",
       "    <tr>\n",
       "      <th>IALS</th>\n",
       "      <td>0.221068</td>\n",
       "      <td>0.101004</td>\n",
       "      <td>0.225590</td>\n",
       "    </tr>\n",
       "    <tr>\n",
       "      <th>IIE</th>\n",
       "      <td>0.002620</td>\n",
       "      <td>0.000410</td>\n",
       "      <td>0.001642</td>\n",
       "    </tr>\n",
       "    <tr>\n",
       "      <th>III</th>\n",
       "      <td>0.215293</td>\n",
       "      <td>0.143913</td>\n",
       "      <td>0.285037</td>\n",
       "    </tr>\n",
       "    <tr>\n",
       "      <th>Pop</th>\n",
       "      <td>0.142104</td>\n",
       "      <td>0.078577</td>\n",
       "      <td>0.179519</td>\n",
       "    </tr>\n",
       "  </tbody>\n",
       "</table>\n",
       "</div>"
      ],
      "text/plain": [
       "           NDCG       RBP  RecipRank\n",
       "model                               \n",
       "ALS    0.044477  0.016837   0.052553\n",
       "Bias   0.056837  0.025322   0.074222\n",
       "IALS   0.221068  0.101004   0.225590\n",
       "IIE    0.002620  0.000410   0.001642\n",
       "III    0.215293  0.143913   0.285037\n",
       "Pop    0.142104  0.078577   0.179519"
      ]
     },
     "execution_count": 17,
     "metadata": {},
     "output_type": "execute_result"
    }
   ],
   "source": [
    "rlsum = rec_results.list_summary('model')['mean'].unstack()\n",
    "rlsum"
   ]
  },
  {
   "cell_type": "code",
   "execution_count": 18,
   "id": "cae53f67",
   "metadata": {
    "execution": {
     "iopub.execute_input": "2024-12-14T20:42:50.721835Z",
     "iopub.status.busy": "2024-12-14T20:42:50.721706Z",
     "iopub.status.idle": "2024-12-14T20:42:50.723760Z",
     "shell.execute_reply": "2024-12-14T20:42:50.723612Z"
    },
    "papermill": {
     "duration": 0.004221,
     "end_time": "2024-12-14T20:42:50.724141",
     "exception": false,
     "start_time": "2024-12-14T20:42:50.719920",
     "status": "completed"
    },
    "tags": []
   },
   "outputs": [],
   "source": [
    "rlsum.to_json(f'eval-metrics.{dataset}.json', orient='index')"
   ]
  }
 ],
 "metadata": {
  "jupytext": {
   "formats": "ipynb,md",
   "notebook_metadata_filter": "split_at_heading"
  },
  "kernelspec": {
   "display_name": "Python 3 (ipykernel)",
   "language": "python",
   "name": "python3"
  },
  "language_info": {
   "codemirror_mode": {
    "name": "ipython",
    "version": 3
   },
   "file_extension": ".py",
   "mimetype": "text/x-python",
   "name": "python",
   "nbconvert_exporter": "python",
   "pygments_lexer": "ipython3",
   "version": "3.12.8"
  },
  "papermill": {
   "default_parameters": {},
   "duration": 3.74284,
   "end_time": "2024-12-14T20:42:51.140447",
   "environment_variables": {},
   "exception": null,
   "input_path": "eval-report.ipynb",
   "output_path": "eval-report.mlsmall.ipynb",
   "parameters": {
    "dataset": "mlsmall"
   },
   "start_time": "2024-12-14T20:42:47.397607",
   "version": "2.6.0"
  },
  "split_at_heading": true
 },
 "nbformat": 4,
 "nbformat_minor": 5
}