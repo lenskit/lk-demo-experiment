{
 "cells": [
  {
   "cell_type": "markdown",
   "id": "ce485e34",
   "metadata": {
    "papermill": {
     "duration": 0.005875,
     "end_time": "2024-12-07T21:06:43.540731",
     "exception": false,
     "start_time": "2024-12-07T21:06:43.534856",
     "status": "completed"
    },
    "tags": []
   },
   "source": [
    "# Evaluation Analysis for Recommender Output"
   ]
  },
  {
   "cell_type": "markdown",
   "id": "17c9a5e6",
   "metadata": {
    "papermill": {
     "duration": 0.004569,
     "end_time": "2024-12-07T21:06:43.550437",
     "exception": false,
     "start_time": "2024-12-07T21:06:43.545868",
     "status": "completed"
    },
    "tags": []
   },
   "source": [
    "In this section we will analyze and compare the generated recommendations and predictions from a predefined list of algorithms with the goal of assessing the performance of each algorithm with respect to a metric. In other words, we would rank the algorithms for each metric considered with respect to performance."
   ]
  },
  {
   "cell_type": "markdown",
   "id": "f14bb433",
   "metadata": {
    "papermill": {
     "duration": 0.004672,
     "end_time": "2024-12-07T21:06:43.559524",
     "exception": false,
     "start_time": "2024-12-07T21:06:43.554852",
     "status": "completed"
    },
    "tags": []
   },
   "source": [
    "# Setup"
   ]
  },
  {
   "cell_type": "markdown",
   "id": "2b8308de",
   "metadata": {
    "papermill": {
     "duration": 0.004371,
     "end_time": "2024-12-07T21:06:43.568165",
     "exception": false,
     "start_time": "2024-12-07T21:06:43.563794",
     "status": "completed"
    },
    "tags": []
   },
   "source": [
    "Below are the list of packages required to successfully run the analysis. They are divided into partitions to signify their specific task.<br>\n",
    "We need the pathlib package for working with files and folders"
   ]
  },
  {
   "cell_type": "code",
   "execution_count": 1,
   "id": "77d2e6e9",
   "metadata": {
    "execution": {
     "iopub.execute_input": "2024-12-07T21:06:43.578564Z",
     "iopub.status.busy": "2024-12-07T21:06:43.578332Z",
     "iopub.status.idle": "2024-12-07T21:06:43.583110Z",
     "shell.execute_reply": "2024-12-07T21:06:43.582736Z"
    },
    "papermill": {
     "duration": 0.011399,
     "end_time": "2024-12-07T21:06:43.583786",
     "exception": false,
     "start_time": "2024-12-07T21:06:43.572387",
     "status": "completed"
    },
    "tags": []
   },
   "outputs": [],
   "source": [
    "from pathlib import Path"
   ]
  },
  {
   "cell_type": "markdown",
   "id": "8607dbba",
   "metadata": {
    "papermill": {
     "duration": 0.004435,
     "end_time": "2024-12-07T21:06:43.592658",
     "exception": false,
     "start_time": "2024-12-07T21:06:43.588223",
     "status": "completed"
    },
    "tags": []
   },
   "source": [
    "We would use the pandas for analyzing and manipulating our data while seaborn and matplotlib are used for data visualization. statsmodels.graphics.gofplots and scipy.stats.shapiro are used for normality check. Scipy.stats.friedmanchisquare is a non-parametric test used to determine the statistical significance in metric results and the wilcoxon test is used for pairwise comparison of sample data."
   ]
  },
  {
   "cell_type": "code",
   "execution_count": 2,
   "id": "54c9b1a0",
   "metadata": {
    "execution": {
     "iopub.execute_input": "2024-12-07T21:06:43.602442Z",
     "iopub.status.busy": "2024-12-07T21:06:43.602231Z",
     "iopub.status.idle": "2024-12-07T21:06:44.771763Z",
     "shell.execute_reply": "2024-12-07T21:06:44.771206Z"
    },
    "papermill": {
     "duration": 1.175877,
     "end_time": "2024-12-07T21:06:44.772886",
     "exception": false,
     "start_time": "2024-12-07T21:06:43.597009",
     "status": "completed"
    },
    "tags": []
   },
   "outputs": [],
   "source": [
    "import pandas as pd\n",
    "import seaborn as sns\n",
    "import matplotlib.pyplot as plt\n",
    "from statsmodels.graphics.gofplots import qqplot\n",
    "from scipy.stats import shapiro\n",
    "from scipy.stats import friedmanchisquare, wilcoxon\n",
    "from itertools import combinations"
   ]
  },
  {
   "cell_type": "markdown",
   "id": "09d4299f",
   "metadata": {
    "papermill": {
     "duration": 0.004565,
     "end_time": "2024-12-07T21:06:44.782787",
     "exception": false,
     "start_time": "2024-12-07T21:06:44.778222",
     "status": "completed"
    },
    "tags": []
   },
   "source": [
    "Logging to show what's happening in LensKit routines:"
   ]
  },
  {
   "cell_type": "code",
   "execution_count": 3,
   "id": "fd84093f",
   "metadata": {
    "execution": {
     "iopub.execute_input": "2024-12-07T21:06:44.792732Z",
     "iopub.status.busy": "2024-12-07T21:06:44.792414Z",
     "iopub.status.idle": "2024-12-07T21:06:44.813178Z",
     "shell.execute_reply": "2024-12-07T21:06:44.812785Z"
    },
    "papermill": {
     "duration": 0.02673,
     "end_time": "2024-12-07T21:06:44.813919",
     "exception": false,
     "start_time": "2024-12-07T21:06:44.787189",
     "status": "completed"
    },
    "tags": []
   },
   "outputs": [
    {
     "name": "stdout",
     "output_type": "stream",
     "text": [
      "[   INFO] lenskit.util.log notebook logging configured\n"
     ]
    }
   ],
   "source": [
    "from lenskit import util\n",
    "util.log_to_notebook()"
   ]
  },
  {
   "cell_type": "code",
   "execution_count": 4,
   "id": "c7c3c1f0",
   "metadata": {
    "execution": {
     "iopub.execute_input": "2024-12-07T21:06:44.824645Z",
     "iopub.status.busy": "2024-12-07T21:06:44.824416Z",
     "iopub.status.idle": "2024-12-07T21:06:44.826749Z",
     "shell.execute_reply": "2024-12-07T21:06:44.826361Z"
    },
    "papermill": {
     "duration": 0.008552,
     "end_time": "2024-12-07T21:06:44.827379",
     "exception": false,
     "start_time": "2024-12-07T21:06:44.818827",
     "status": "completed"
    },
    "tags": []
   },
   "outputs": [],
   "source": [
    "import logging\n",
    "_log = logging.getLogger('eval-report')"
   ]
  },
  {
   "cell_type": "markdown",
   "id": "af5b4ebc",
   "metadata": {
    "papermill": {
     "duration": 0.004704,
     "end_time": "2024-12-07T21:06:44.836985",
     "exception": false,
     "start_time": "2024-12-07T21:06:44.832281",
     "status": "completed"
    },
    "tags": []
   },
   "source": [
    "We will use lenskit for training, running, and evaluating recommender algorithms"
   ]
  },
  {
   "cell_type": "code",
   "execution_count": 5,
   "id": "803d7eb5",
   "metadata": {
    "execution": {
     "iopub.execute_input": "2024-12-07T21:06:44.846491Z",
     "iopub.status.busy": "2024-12-07T21:06:44.846080Z",
     "iopub.status.idle": "2024-12-07T21:06:44.912350Z",
     "shell.execute_reply": "2024-12-07T21:06:44.911911Z"
    },
    "papermill": {
     "duration": 0.072194,
     "end_time": "2024-12-07T21:06:44.913447",
     "exception": false,
     "start_time": "2024-12-07T21:06:44.841253",
     "status": "completed"
    },
    "tags": []
   },
   "outputs": [],
   "source": [
    "from lenskit import topn\n",
    "from lenskit.metrics.predict import rmse"
   ]
  },
  {
   "cell_type": "markdown",
   "id": "62cde0fa",
   "metadata": {
    "papermill": {
     "duration": 0.00484,
     "end_time": "2024-12-07T21:06:44.923515",
     "exception": false,
     "start_time": "2024-12-07T21:06:44.918675",
     "status": "completed"
    },
    "tags": []
   },
   "source": [
    "# Load Data"
   ]
  },
  {
   "cell_type": "markdown",
   "id": "0b8bdd0f",
   "metadata": {
    "papermill": {
     "duration": 0.004633,
     "end_time": "2024-12-07T21:06:44.932657",
     "exception": false,
     "start_time": "2024-12-07T21:06:44.928024",
     "status": "completed"
    },
    "tags": []
   },
   "source": [
    "We specify the dataset we will use for our analysis and the main directory from where we read the recommendation and prediction files. From the main directory we find all the directories associated with the dataset and then read the recommendation and predictions files from those directories."
   ]
  },
  {
   "cell_type": "code",
   "execution_count": 6,
   "id": "66d37091",
   "metadata": {
    "execution": {
     "iopub.execute_input": "2024-12-07T21:06:44.942639Z",
     "iopub.status.busy": "2024-12-07T21:06:44.942396Z",
     "iopub.status.idle": "2024-12-07T21:06:44.944753Z",
     "shell.execute_reply": "2024-12-07T21:06:44.944364Z"
    },
    "papermill": {
     "duration": 0.008034,
     "end_time": "2024-12-07T21:06:44.945439",
     "exception": false,
     "start_time": "2024-12-07T21:06:44.937405",
     "status": "completed"
    },
    "tags": [
     "parameters"
    ]
   },
   "outputs": [],
   "source": [
    "dataset = \"ml100k\""
   ]
  },
  {
   "cell_type": "code",
   "execution_count": 7,
   "id": "a4ad7a04",
   "metadata": {
    "execution": {
     "iopub.execute_input": "2024-12-07T21:06:44.955233Z",
     "iopub.status.busy": "2024-12-07T21:06:44.954902Z",
     "iopub.status.idle": "2024-12-07T21:06:44.957075Z",
     "shell.execute_reply": "2024-12-07T21:06:44.956698Z"
    },
    "papermill": {
     "duration": 0.007877,
     "end_time": "2024-12-07T21:06:44.957755",
     "exception": false,
     "start_time": "2024-12-07T21:06:44.949878",
     "status": "completed"
    },
    "tags": [
     "injected-parameters"
    ]
   },
   "outputs": [],
   "source": [
    "# Parameters\n",
    "dataset = \"mlsmall\"\n"
   ]
  },
  {
   "cell_type": "code",
   "execution_count": 8,
   "id": "b7f9f66b",
   "metadata": {
    "execution": {
     "iopub.execute_input": "2024-12-07T21:06:44.968136Z",
     "iopub.status.busy": "2024-12-07T21:06:44.967930Z",
     "iopub.status.idle": "2024-12-07T21:06:44.970158Z",
     "shell.execute_reply": "2024-12-07T21:06:44.969782Z"
    },
    "papermill": {
     "duration": 0.008517,
     "end_time": "2024-12-07T21:06:44.970875",
     "exception": false,
     "start_time": "2024-12-07T21:06:44.962358",
     "status": "completed"
    },
    "tags": []
   },
   "outputs": [],
   "source": [
    "output_root = Path(\"runs\")"
   ]
  },
  {
   "cell_type": "code",
   "execution_count": 9,
   "id": "8688a4d0",
   "metadata": {
    "execution": {
     "iopub.execute_input": "2024-12-07T21:06:44.980158Z",
     "iopub.status.busy": "2024-12-07T21:06:44.979952Z",
     "iopub.status.idle": "2024-12-07T21:06:44.982832Z",
     "shell.execute_reply": "2024-12-07T21:06:44.982411Z"
    },
    "papermill": {
     "duration": 0.008403,
     "end_time": "2024-12-07T21:06:44.983534",
     "exception": false,
     "start_time": "2024-12-07T21:06:44.975131",
     "status": "completed"
    },
    "tags": []
   },
   "outputs": [],
   "source": [
    "dirs = [fld for fld in output_root.glob(f'{dataset}-*')]"
   ]
  },
  {
   "cell_type": "code",
   "execution_count": 10,
   "id": "56d609aa",
   "metadata": {
    "execution": {
     "iopub.execute_input": "2024-12-07T21:06:44.993377Z",
     "iopub.status.busy": "2024-12-07T21:06:44.993175Z",
     "iopub.status.idle": "2024-12-07T21:06:45.279166Z",
     "shell.execute_reply": "2024-12-07T21:06:45.278702Z"
    },
    "papermill": {
     "duration": 0.292238,
     "end_time": "2024-12-07T21:06:45.280265",
     "exception": false,
     "start_time": "2024-12-07T21:06:44.988027",
     "status": "completed"
    },
    "tags": []
   },
   "outputs": [
    {
     "name": "stdout",
     "output_type": "stream",
     "text": [
      "<class 'pandas.core.frame.DataFrame'>\n",
      "RangeIndex: 426900 entries, 0 to 426899\n",
      "Data columns (total 5 columns):\n",
      " #   Column     Non-Null Count   Dtype   \n",
      "---  ------     --------------   -----   \n",
      " 0   item       426900 non-null  int64   \n",
      " 1   score      426900 non-null  float64 \n",
      " 2   user       426900 non-null  int64   \n",
      " 3   rank       426900 non-null  int64   \n",
      " 4   algorithm  426900 non-null  category\n",
      "dtypes: category(1), float64(1), int64(3)\n",
      "memory usage: 13.4 MB\n"
     ]
    }
   ],
   "source": [
    "recs = []\n",
    "for fld in dirs:\n",
    "    for file in fld.glob(\"recs-*\"):\n",
    "        rec = pd.read_csv(file)\n",
    "        rec[\"algorithm\"] = fld.name.split(\"-\")[1]\n",
    "        recs.append(rec)\n",
    "\n",
    "recs = pd.concat(recs, ignore_index=True)\n",
    "recs = recs.astype({'algorithm': 'category'})\n",
    "recs.info()"
   ]
  },
  {
   "cell_type": "code",
   "execution_count": 11,
   "id": "feaa4493",
   "metadata": {
    "execution": {
     "iopub.execute_input": "2024-12-07T21:06:45.292290Z",
     "iopub.status.busy": "2024-12-07T21:06:45.292042Z",
     "iopub.status.idle": "2024-12-07T21:06:45.298846Z",
     "shell.execute_reply": "2024-12-07T21:06:45.298467Z"
    },
    "papermill": {
     "duration": 0.013033,
     "end_time": "2024-12-07T21:06:45.299554",
     "exception": false,
     "start_time": "2024-12-07T21:06:45.286521",
     "status": "completed"
    },
    "tags": []
   },
   "outputs": [
    {
     "data": {
      "text/plain": [
       "['Pop', 'ALS', 'UUE', 'IIE', 'Bias', 'III', 'IALS']\n",
       "Categories (7, object): ['ALS', 'Bias', 'IALS', 'IIE', 'III', 'Pop', 'UUE']"
      ]
     },
     "execution_count": 11,
     "metadata": {},
     "output_type": "execute_result"
    }
   ],
   "source": [
    "rec_algos = recs['algorithm'].unique()\n",
    "rec_algos"
   ]
  },
  {
   "cell_type": "code",
   "execution_count": 12,
   "id": "b378a77c",
   "metadata": {
    "execution": {
     "iopub.execute_input": "2024-12-07T21:06:45.310034Z",
     "iopub.status.busy": "2024-12-07T21:06:45.309816Z",
     "iopub.status.idle": "2024-12-07T21:06:45.404771Z",
     "shell.execute_reply": "2024-12-07T21:06:45.404343Z"
    },
    "papermill": {
     "duration": 0.101069,
     "end_time": "2024-12-07T21:06:45.405452",
     "exception": false,
     "start_time": "2024-12-07T21:06:45.304383",
     "status": "completed"
    },
    "tags": []
   },
   "outputs": [
    {
     "name": "stdout",
     "output_type": "stream",
     "text": [
      "<class 'pandas.core.frame.DataFrame'>\n",
      "RangeIndex: 18300 entries, 0 to 18299\n",
      "Data columns (total 6 columns):\n",
      " #   Column      Non-Null Count  Dtype   \n",
      "---  ------      --------------  -----   \n",
      " 0   user        18300 non-null  int64   \n",
      " 1   item        18300 non-null  int64   \n",
      " 2   rating      18300 non-null  float64 \n",
      " 3   timestamp   18300 non-null  int64   \n",
      " 4   prediction  18022 non-null  float64 \n",
      " 5   algorithm   18300 non-null  category\n",
      "dtypes: category(1), float64(2), int64(3)\n",
      "memory usage: 733.1 KB\n"
     ]
    }
   ],
   "source": [
    "preds = []\n",
    "for fld in dirs:\n",
    "    for file in fld.glob(\"pred-*\"):\n",
    "        pred = pd.read_csv(file)\n",
    "        pred[\"algorithm\"] = fld.name.split(\"-\")[1]\n",
    "        preds.append(pred)\n",
    "\n",
    "preds = pd.concat(preds, ignore_index=True)\n",
    "preds = preds.astype({'algorithm': 'category'})\n",
    "preds.info()"
   ]
  },
  {
   "cell_type": "markdown",
   "id": "ca476ae1",
   "metadata": {
    "papermill": {
     "duration": 0.005296,
     "end_time": "2024-12-07T21:06:45.416191",
     "exception": false,
     "start_time": "2024-12-07T21:06:45.410895",
     "status": "completed"
    },
    "tags": []
   },
   "source": [
    "We need to load the test data so that we have the ground truths for computing accuracy"
   ]
  },
  {
   "cell_type": "code",
   "execution_count": 13,
   "id": "25294727",
   "metadata": {
    "execution": {
     "iopub.execute_input": "2024-12-07T21:06:45.426697Z",
     "iopub.status.busy": "2024-12-07T21:06:45.426480Z",
     "iopub.status.idle": "2024-12-07T21:06:45.428777Z",
     "shell.execute_reply": "2024-12-07T21:06:45.428390Z"
    },
    "papermill": {
     "duration": 0.008549,
     "end_time": "2024-12-07T21:06:45.429552",
     "exception": false,
     "start_time": "2024-12-07T21:06:45.421003",
     "status": "completed"
    },
    "tags": []
   },
   "outputs": [],
   "source": [
    "split_root = Path(\"data-split\")\n",
    "split_dir = split_root / dataset"
   ]
  },
  {
   "cell_type": "code",
   "execution_count": 14,
   "id": "88fc0d4e",
   "metadata": {
    "execution": {
     "iopub.execute_input": "2024-12-07T21:06:45.440188Z",
     "iopub.status.busy": "2024-12-07T21:06:45.439829Z",
     "iopub.status.idle": "2024-12-07T21:06:45.502789Z",
     "shell.execute_reply": "2024-12-07T21:06:45.502400Z"
    },
    "papermill": {
     "duration": 0.068996,
     "end_time": "2024-12-07T21:06:45.503521",
     "exception": false,
     "start_time": "2024-12-07T21:06:45.434525",
     "status": "completed"
    },
    "tags": []
   },
   "outputs": [
    {
     "data": {
      "text/html": [
       "<div>\n",
       "<style scoped>\n",
       "    .dataframe tbody tr th:only-of-type {\n",
       "        vertical-align: middle;\n",
       "    }\n",
       "\n",
       "    .dataframe tbody tr th {\n",
       "        vertical-align: top;\n",
       "    }\n",
       "\n",
       "    .dataframe thead th {\n",
       "        text-align: right;\n",
       "    }\n",
       "</style>\n",
       "<table border=\"1\" class=\"dataframe\">\n",
       "  <thead>\n",
       "    <tr style=\"text-align: right;\">\n",
       "      <th></th>\n",
       "      <th>user</th>\n",
       "      <th>item</th>\n",
       "      <th>rating</th>\n",
       "      <th>timestamp</th>\n",
       "      <th>part</th>\n",
       "    </tr>\n",
       "    <tr>\n",
       "      <th>index</th>\n",
       "      <th></th>\n",
       "      <th></th>\n",
       "      <th></th>\n",
       "      <th></th>\n",
       "      <th></th>\n",
       "    </tr>\n",
       "  </thead>\n",
       "  <tbody>\n",
       "    <tr>\n",
       "      <th>249</th>\n",
       "      <td>2</td>\n",
       "      <td>86345</td>\n",
       "      <td>4.0</td>\n",
       "      <td>1445715166</td>\n",
       "      <td>test-1</td>\n",
       "    </tr>\n",
       "    <tr>\n",
       "      <th>238</th>\n",
       "      <td>2</td>\n",
       "      <td>46970</td>\n",
       "      <td>4.0</td>\n",
       "      <td>1445715013</td>\n",
       "      <td>test-1</td>\n",
       "    </tr>\n",
       "    <tr>\n",
       "      <th>234</th>\n",
       "      <td>2</td>\n",
       "      <td>1704</td>\n",
       "      <td>4.5</td>\n",
       "      <td>1445715228</td>\n",
       "      <td>test-1</td>\n",
       "    </tr>\n",
       "    <tr>\n",
       "      <th>233</th>\n",
       "      <td>2</td>\n",
       "      <td>333</td>\n",
       "      <td>4.0</td>\n",
       "      <td>1445715029</td>\n",
       "      <td>test-1</td>\n",
       "    </tr>\n",
       "    <tr>\n",
       "      <th>235</th>\n",
       "      <td>2</td>\n",
       "      <td>3578</td>\n",
       "      <td>4.0</td>\n",
       "      <td>1445714885</td>\n",
       "      <td>test-1</td>\n",
       "    </tr>\n",
       "  </tbody>\n",
       "</table>\n",
       "</div>"
      ],
      "text/plain": [
       "       user   item  rating   timestamp    part\n",
       "index                                         \n",
       "249       2  86345     4.0  1445715166  test-1\n",
       "238       2  46970     4.0  1445715013  test-1\n",
       "234       2   1704     4.5  1445715228  test-1\n",
       "233       2    333     4.0  1445715029  test-1\n",
       "235       2   3578     4.0  1445714885  test-1"
      ]
     },
     "execution_count": 14,
     "metadata": {},
     "output_type": "execute_result"
    }
   ],
   "source": [
    "test = []\n",
    "for file in split_dir.glob(\"test-*.parquet\"):\n",
    "    test.append(pd.read_parquet(file,).assign(part=file.stem.replace('.parquet', '')))\n",
    "\n",
    "test = pd.concat(test).rename(columns={\n",
    "    'user_id': 'user',\n",
    "    'item_id': 'item',\n",
    "})\n",
    "test.head()"
   ]
  },
  {
   "cell_type": "markdown",
   "id": "5770c372",
   "metadata": {
    "papermill": {
     "duration": 0.005015,
     "end_time": "2024-12-07T21:06:45.513720",
     "exception": false,
     "start_time": "2024-12-07T21:06:45.508705",
     "status": "completed"
    },
    "tags": []
   },
   "source": [
    "# Top-N Metrics"
   ]
  },
  {
   "cell_type": "markdown",
   "id": "8e347325",
   "metadata": {
    "papermill": {
     "duration": 0.004781,
     "end_time": "2024-12-07T21:06:45.524011",
     "exception": false,
     "start_time": "2024-12-07T21:06:45.519230",
     "status": "completed"
    },
    "tags": []
   },
   "source": [
    "The topn.RecListAnalysis class computes top-N metrics for recommendation list and takes care of making sure that the recommendations and ground truths are properly matched. Refer to the documentation for detailed explanation of the purpose for the RecListAnalysis class and how the analysis is done - https://lkpy.lenskit.org/en/stable/evaluation/topn-metrics.html"
   ]
  },
  {
   "cell_type": "code",
   "execution_count": 15,
   "id": "198eda4d",
   "metadata": {
    "execution": {
     "iopub.execute_input": "2024-12-07T21:06:45.534364Z",
     "iopub.status.busy": "2024-12-07T21:06:45.534145Z",
     "iopub.status.idle": "2024-12-07T21:06:45.781259Z",
     "shell.execute_reply": "2024-12-07T21:06:45.780859Z"
    },
    "papermill": {
     "duration": 0.253116,
     "end_time": "2024-12-07T21:06:45.782009",
     "exception": false,
     "start_time": "2024-12-07T21:06:45.528893",
     "status": "completed"
    },
    "tags": []
   },
   "outputs": [
    {
     "name": "stdout",
     "output_type": "stream",
     "text": [
      "[   INFO] lenskit.topn analyzing 426900 recommendations (3050 truth rows)\n"
     ]
    },
    {
     "name": "stdout",
     "output_type": "stream",
     "text": [
      "[   INFO] lenskit.topn using rec key columns ['algorithm', 'user']\n"
     ]
    },
    {
     "name": "stdout",
     "output_type": "stream",
     "text": [
      "[   INFO] lenskit.topn using truth key columns ['user']\n"
     ]
    },
    {
     "name": "stdout",
     "output_type": "stream",
     "text": [
      "[   INFO] lenskit.topn numbering truth lists\n"
     ]
    },
    {
     "name": "stdout",
     "output_type": "stream",
     "text": [
      "[   INFO] lenskit.topn numbering rec lists\n"
     ]
    },
    {
     "name": "stdout",
     "output_type": "stream",
     "text": [
      "[   INFO] lenskit.topn collecting metric results\n"
     ]
    },
    {
     "name": "stdout",
     "output_type": "stream",
     "text": [
      "[   INFO] lenskit.topn measured 4269 lists in  152ms\n"
     ]
    },
    {
     "name": "stdout",
     "output_type": "stream",
     "text": [
      "[   INFO] lenskit.topn filling in missing user info (4269 initial rows)\n"
     ]
    },
    {
     "name": "stderr",
     "output_type": "stream",
     "text": [
      "/home/mde48/micromamba/envs/lkdemo/lib/python3.10/site-packages/lenskit/topn.py:152: FutureWarning: In a future version of pandas, a length 1 tuple will be returned when iterating over a groupby with a grouper equal to a list of length 1. Don't supply a list with a single grouper to avoid this warning.\n",
      "  for key, df in res.groupby(ug_cols):\n"
     ]
    },
    {
     "data": {
      "text/html": [
       "<div>\n",
       "<style scoped>\n",
       "    .dataframe tbody tr th:only-of-type {\n",
       "        vertical-align: middle;\n",
       "    }\n",
       "\n",
       "    .dataframe tbody tr th {\n",
       "        vertical-align: top;\n",
       "    }\n",
       "\n",
       "    .dataframe thead th {\n",
       "        text-align: right;\n",
       "    }\n",
       "</style>\n",
       "<table border=\"1\" class=\"dataframe\">\n",
       "  <thead>\n",
       "    <tr style=\"text-align: right;\">\n",
       "      <th></th>\n",
       "      <th></th>\n",
       "      <th>nrecs</th>\n",
       "      <th>precision</th>\n",
       "      <th>recip_rank</th>\n",
       "      <th>ndcg</th>\n",
       "      <th>ntruth</th>\n",
       "    </tr>\n",
       "    <tr>\n",
       "      <th>algorithm</th>\n",
       "      <th>user</th>\n",
       "      <th></th>\n",
       "      <th></th>\n",
       "      <th></th>\n",
       "      <th></th>\n",
       "      <th></th>\n",
       "    </tr>\n",
       "  </thead>\n",
       "  <tbody>\n",
       "    <tr>\n",
       "      <th rowspan=\"5\" valign=\"top\">ALS</th>\n",
       "      <th>14</th>\n",
       "      <td>100.0</td>\n",
       "      <td>0.00</td>\n",
       "      <td>0.000000</td>\n",
       "      <td>0.000000</td>\n",
       "      <td>5</td>\n",
       "    </tr>\n",
       "    <tr>\n",
       "      <th>17</th>\n",
       "      <td>100.0</td>\n",
       "      <td>0.03</td>\n",
       "      <td>0.090909</td>\n",
       "      <td>0.191715</td>\n",
       "      <td>5</td>\n",
       "    </tr>\n",
       "    <tr>\n",
       "      <th>24</th>\n",
       "      <td>100.0</td>\n",
       "      <td>0.00</td>\n",
       "      <td>0.000000</td>\n",
       "      <td>0.000000</td>\n",
       "      <td>5</td>\n",
       "    </tr>\n",
       "    <tr>\n",
       "      <th>26</th>\n",
       "      <td>100.0</td>\n",
       "      <td>0.00</td>\n",
       "      <td>0.000000</td>\n",
       "      <td>0.000000</td>\n",
       "      <td>5</td>\n",
       "    </tr>\n",
       "    <tr>\n",
       "      <th>30</th>\n",
       "      <td>100.0</td>\n",
       "      <td>0.01</td>\n",
       "      <td>0.333333</td>\n",
       "      <td>0.177148</td>\n",
       "      <td>5</td>\n",
       "    </tr>\n",
       "  </tbody>\n",
       "</table>\n",
       "</div>"
      ],
      "text/plain": [
       "                nrecs  precision  recip_rank      ndcg  ntruth\n",
       "algorithm user                                                \n",
       "ALS       14    100.0       0.00    0.000000  0.000000       5\n",
       "          17    100.0       0.03    0.090909  0.191715       5\n",
       "          24    100.0       0.00    0.000000  0.000000       5\n",
       "          26    100.0       0.00    0.000000  0.000000       5\n",
       "          30    100.0       0.01    0.333333  0.177148       5"
      ]
     },
     "execution_count": 15,
     "metadata": {},
     "output_type": "execute_result"
    }
   ],
   "source": [
    "rla = topn.RecListAnalysis()\n",
    "\n",
    "rla.add_metric(topn.precision)\n",
    "rla.add_metric(topn.recip_rank)\n",
    "rla.add_metric(topn.ndcg)\n",
    "results = rla.compute(recs, test.drop(columns=['rating']), include_missing=True)\n",
    "results = results.fillna(0)\n",
    "results.head()"
   ]
  },
  {
   "cell_type": "markdown",
   "id": "75dbe033",
   "metadata": {
    "papermill": {
     "duration": 0.0059,
     "end_time": "2024-12-07T21:06:45.794464",
     "exception": false,
     "start_time": "2024-12-07T21:06:45.788564",
     "status": "completed"
    },
    "tags": []
   },
   "source": [
    "We will reshape the 'results' dataframe by stacking the columns to index and then use the bar chart to visualize the performance of our algorithms with respect to the precision, reciprocal rank and ndcg metrics"
   ]
  },
  {
   "cell_type": "code",
   "execution_count": 16,
   "id": "4c7ffaf7",
   "metadata": {
    "execution": {
     "iopub.execute_input": "2024-12-07T21:06:45.806666Z",
     "iopub.status.busy": "2024-12-07T21:06:45.806423Z",
     "iopub.status.idle": "2024-12-07T21:06:45.815274Z",
     "shell.execute_reply": "2024-12-07T21:06:45.814880Z"
    },
    "papermill": {
     "duration": 0.01555,
     "end_time": "2024-12-07T21:06:45.815913",
     "exception": false,
     "start_time": "2024-12-07T21:06:45.800363",
     "status": "completed"
    },
    "tags": []
   },
   "outputs": [
    {
     "data": {
      "text/html": [
       "<div>\n",
       "<style scoped>\n",
       "    .dataframe tbody tr th:only-of-type {\n",
       "        vertical-align: middle;\n",
       "    }\n",
       "\n",
       "    .dataframe tbody tr th {\n",
       "        vertical-align: top;\n",
       "    }\n",
       "\n",
       "    .dataframe thead th {\n",
       "        text-align: right;\n",
       "    }\n",
       "</style>\n",
       "<table border=\"1\" class=\"dataframe\">\n",
       "  <thead>\n",
       "    <tr style=\"text-align: right;\">\n",
       "      <th></th>\n",
       "      <th>algorithm</th>\n",
       "      <th>user</th>\n",
       "      <th>metric</th>\n",
       "      <th>val</th>\n",
       "    </tr>\n",
       "  </thead>\n",
       "  <tbody>\n",
       "    <tr>\n",
       "      <th>0</th>\n",
       "      <td>ALS</td>\n",
       "      <td>14</td>\n",
       "      <td>precision</td>\n",
       "      <td>0.000000</td>\n",
       "    </tr>\n",
       "    <tr>\n",
       "      <th>1</th>\n",
       "      <td>ALS</td>\n",
       "      <td>14</td>\n",
       "      <td>recip_rank</td>\n",
       "      <td>0.000000</td>\n",
       "    </tr>\n",
       "    <tr>\n",
       "      <th>2</th>\n",
       "      <td>ALS</td>\n",
       "      <td>14</td>\n",
       "      <td>ndcg</td>\n",
       "      <td>0.000000</td>\n",
       "    </tr>\n",
       "    <tr>\n",
       "      <th>3</th>\n",
       "      <td>ALS</td>\n",
       "      <td>17</td>\n",
       "      <td>precision</td>\n",
       "      <td>0.030000</td>\n",
       "    </tr>\n",
       "    <tr>\n",
       "      <th>4</th>\n",
       "      <td>ALS</td>\n",
       "      <td>17</td>\n",
       "      <td>recip_rank</td>\n",
       "      <td>0.090909</td>\n",
       "    </tr>\n",
       "  </tbody>\n",
       "</table>\n",
       "</div>"
      ],
      "text/plain": [
       "  algorithm  user      metric       val\n",
       "0       ALS    14   precision  0.000000\n",
       "1       ALS    14  recip_rank  0.000000\n",
       "2       ALS    14        ndcg  0.000000\n",
       "3       ALS    17   precision  0.030000\n",
       "4       ALS    17  recip_rank  0.090909"
      ]
     },
     "execution_count": 16,
     "metadata": {},
     "output_type": "execute_result"
    }
   ],
   "source": [
    "pltData = (results.drop(columns=['nrecs', 'ntruth']).stack()).reset_index()\n",
    "pltData.columns = ['algorithm', 'user', 'metric', 'val']\n",
    "pltData.head()"
   ]
  },
  {
   "cell_type": "markdown",
   "id": "66c6e8ba",
   "metadata": {
    "papermill": {
     "duration": 0.005539,
     "end_time": "2024-12-07T21:06:45.827342",
     "exception": false,
     "start_time": "2024-12-07T21:06:45.821803",
     "status": "completed"
    },
    "tags": []
   },
   "source": [
    "We need to determine if the differences we observe in the performances of the algorithms for the various metrics are statistically significant. To achieve this, we will need to use either a parametric or non-parametric statistical test for comparing the differences. We will consider a parametric test - repeated ANOVA measure cause our sample groups are correlated."
   ]
  },
  {
   "cell_type": "code",
   "execution_count": 17,
   "id": "bd651349",
   "metadata": {
    "execution": {
     "iopub.execute_input": "2024-12-07T21:06:45.839319Z",
     "iopub.status.busy": "2024-12-07T21:06:45.839105Z",
     "iopub.status.idle": "2024-12-07T21:06:46.862258Z",
     "shell.execute_reply": "2024-12-07T21:06:46.861804Z"
    },
    "papermill": {
     "duration": 1.030172,
     "end_time": "2024-12-07T21:06:46.863032",
     "exception": false,
     "start_time": "2024-12-07T21:06:45.832860",
     "status": "completed"
    },
    "tags": []
   },
   "outputs": [
    {
     "data": {
      "image/png": "[encoded data removed]",
      "text/plain": [
       "<Figure size 1091.11x300 with 3 Axes>"
      ]
     },
     "metadata": {},
     "output_type": "display_data"
    }
   ],
   "source": [
    "g = sns.catplot(x = \"algorithm\", y = \"val\", data = pltData, kind=\"bar\", col = \"metric\", aspect=1.2, height=3, sharey=False)"
   ]
  },
  {
   "cell_type": "markdown",
   "id": "9e32b381",
   "metadata": {
    "papermill": {
     "duration": 0.006261,
     "end_time": "2024-12-07T21:06:46.876715",
     "exception": false,
     "start_time": "2024-12-07T21:06:46.870454",
     "status": "completed"
    },
    "tags": []
   },
   "source": [
    "## Prediction RMSE\n",
    "\n",
    "We will also look at the prediction RMSE."
   ]
  },
  {
   "cell_type": "code",
   "execution_count": 18,
   "id": "fb282b1c",
   "metadata": {
    "execution": {
     "iopub.execute_input": "2024-12-07T21:06:46.889592Z",
     "iopub.status.busy": "2024-12-07T21:06:46.889347Z",
     "iopub.status.idle": "2024-12-07T21:06:48.300633Z",
     "shell.execute_reply": "2024-12-07T21:06:48.300233Z"
    },
    "papermill": {
     "duration": 1.41872,
     "end_time": "2024-12-07T21:06:48.301495",
     "exception": false,
     "start_time": "2024-12-07T21:06:46.882775",
     "status": "completed"
    },
    "tags": []
   },
   "outputs": [],
   "source": [
    "preds = preds.rename(columns={'score': 'prediction'})\n",
    "user_rmse = preds.groupby(['algorithm', 'user']).apply(lambda df: rmse(df['prediction'], df['rating']))\n",
    "user_rmse = user_rmse.reset_index(name='RMSE')"
   ]
  },
  {
   "cell_type": "code",
   "execution_count": 19,
   "id": "73116a6d",
   "metadata": {
    "execution": {
     "iopub.execute_input": "2024-12-07T21:06:48.317857Z",
     "iopub.status.busy": "2024-12-07T21:06:48.317635Z",
     "iopub.status.idle": "2024-12-07T21:06:48.586581Z",
     "shell.execute_reply": "2024-12-07T21:06:48.586182Z"
    },
    "papermill": {
     "duration": 0.278443,
     "end_time": "2024-12-07T21:06:48.587338",
     "exception": false,
     "start_time": "2024-12-07T21:06:48.308895",
     "status": "completed"
    },
    "tags": []
   },
   "outputs": [
    {
     "data": {
      "text/plain": [
       "<seaborn.axisgrid.FacetGrid at 0x1555303bfee0>"
      ]
     },
     "execution_count": 19,
     "metadata": {},
     "output_type": "execute_result"
    },
    {
     "data": {
      "image/png": "[encoded data removed]",
      "text/plain": [
       "<Figure size 511.111x500 with 1 Axes>"
      ]
     },
     "metadata": {},
     "output_type": "display_data"
    }
   ],
   "source": [
    "sns.catplot(x='algorithm', y='RMSE', data=user_rmse, kind='bar')"
   ]
  },
  {
   "cell_type": "markdown",
   "id": "ffbd7ba0",
   "metadata": {
    "papermill": {
     "duration": 0.006178,
     "end_time": "2024-12-07T21:06:48.600051",
     "exception": false,
     "start_time": "2024-12-07T21:06:48.593873",
     "status": "completed"
    },
    "tags": []
   },
   "source": [
    "## Save Metrics\n",
    "\n",
    "We'll now save the top-N recommendation metrics."
   ]
  },
  {
   "cell_type": "code",
   "execution_count": 20,
   "id": "1b776675",
   "metadata": {
    "execution": {
     "iopub.execute_input": "2024-12-07T21:06:48.613636Z",
     "iopub.status.busy": "2024-12-07T21:06:48.613363Z",
     "iopub.status.idle": "2024-12-07T21:06:48.620865Z",
     "shell.execute_reply": "2024-12-07T21:06:48.620488Z"
    },
    "papermill": {
     "duration": 0.015262,
     "end_time": "2024-12-07T21:06:48.621667",
     "exception": false,
     "start_time": "2024-12-07T21:06:48.606405",
     "status": "completed"
    },
    "tags": []
   },
   "outputs": [
    {
     "data": {
      "text/html": [
       "<div>\n",
       "<style scoped>\n",
       "    .dataframe tbody tr th:only-of-type {\n",
       "        vertical-align: middle;\n",
       "    }\n",
       "\n",
       "    .dataframe tbody tr th {\n",
       "        vertical-align: top;\n",
       "    }\n",
       "\n",
       "    .dataframe thead th {\n",
       "        text-align: right;\n",
       "    }\n",
       "</style>\n",
       "<table border=\"1\" class=\"dataframe\">\n",
       "  <thead>\n",
       "    <tr style=\"text-align: right;\">\n",
       "      <th></th>\n",
       "      <th>RecipRank</th>\n",
       "      <th>NDCG</th>\n",
       "    </tr>\n",
       "    <tr>\n",
       "      <th>algorithm</th>\n",
       "      <th></th>\n",
       "      <th></th>\n",
       "    </tr>\n",
       "  </thead>\n",
       "  <tbody>\n",
       "    <tr>\n",
       "      <th>ALS</th>\n",
       "      <td>0.050323</td>\n",
       "      <td>0.042460</td>\n",
       "    </tr>\n",
       "    <tr>\n",
       "      <th>Bias</th>\n",
       "      <td>0.078126</td>\n",
       "      <td>0.054602</td>\n",
       "    </tr>\n",
       "    <tr>\n",
       "      <th>IALS</th>\n",
       "      <td>0.218723</td>\n",
       "      <td>0.219548</td>\n",
       "    </tr>\n",
       "    <tr>\n",
       "      <th>IIE</th>\n",
       "      <td>0.000719</td>\n",
       "      <td>0.001999</td>\n",
       "    </tr>\n",
       "    <tr>\n",
       "      <th>III</th>\n",
       "      <td>0.290649</td>\n",
       "      <td>0.215907</td>\n",
       "    </tr>\n",
       "    <tr>\n",
       "      <th>Pop</th>\n",
       "      <td>0.178859</td>\n",
       "      <td>0.136401</td>\n",
       "    </tr>\n",
       "    <tr>\n",
       "      <th>UUE</th>\n",
       "      <td>0.000137</td>\n",
       "      <td>0.000327</td>\n",
       "    </tr>\n",
       "  </tbody>\n",
       "</table>\n",
       "</div>"
      ],
      "text/plain": [
       "           RecipRank      NDCG\n",
       "algorithm                     \n",
       "ALS         0.050323  0.042460\n",
       "Bias        0.078126  0.054602\n",
       "IALS        0.218723  0.219548\n",
       "IIE         0.000719  0.001999\n",
       "III         0.290649  0.215907\n",
       "Pop         0.178859  0.136401\n",
       "UUE         0.000137  0.000327"
      ]
     },
     "execution_count": 20,
     "metadata": {},
     "output_type": "execute_result"
    }
   ],
   "source": [
    "saved = results[['recip_rank', 'ndcg']].rename(columns={'ndcg': 'NDCG', 'recip_rank': 'RecipRank'})\n",
    "saved = saved.groupby('algorithm').agg('mean')\n",
    "saved"
   ]
  },
  {
   "cell_type": "code",
   "execution_count": 21,
   "id": "c4083a95",
   "metadata": {
    "execution": {
     "iopub.execute_input": "2024-12-07T21:06:48.634960Z",
     "iopub.status.busy": "2024-12-07T21:06:48.634746Z",
     "iopub.status.idle": "2024-12-07T21:06:48.638676Z",
     "shell.execute_reply": "2024-12-07T21:06:48.638280Z"
    },
    "papermill": {
     "duration": 0.011441,
     "end_time": "2024-12-07T21:06:48.639365",
     "exception": false,
     "start_time": "2024-12-07T21:06:48.627924",
     "status": "completed"
    },
    "tags": []
   },
   "outputs": [],
   "source": [
    "saved.to_json(f'eval-metrics.{dataset}.json', orient='index')"
   ]
  }
 ],
 "metadata": {
  "jupytext": {
   "formats": "ipynb,md",
   "notebook_metadata_filter": "split_at_heading"
  },
  "kernelspec": {
   "display_name": "Python 3 (ipykernel)",
   "language": "python",
   "name": "python3"
  },
  "language_info": {
   "codemirror_mode": {
    "name": "ipython",
    "version": 3
   },
   "file_extension": ".py",
   "mimetype": "text/x-python",
   "name": "python",
   "nbconvert_exporter": "python",
   "pygments_lexer": "ipython3",
   "version": "3.10.16"
  },
  "papermill": {
   "default_parameters": {},
   "duration": 6.569449,
   "end_time": "2024-12-07T21:06:49.061547",
   "environment_variables": {},
   "exception": null,
   "input_path": "eval-report.ipynb",
   "output_path": "eval-report.mlsmall.ipynb",
   "parameters": {
    "dataset": "mlsmall"
   },
   "start_time": "2024-12-07T21:06:42.492098",
   "version": "2.6.0"
  },
  "split_at_heading": true
 },
 "nbformat": 4,
 "nbformat_minor": 5
}