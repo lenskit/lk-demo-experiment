{
 "cells": [
  {
   "cell_type": "markdown",
   "id": "d39f1274",
   "metadata": {
    "papermill": {
     "duration": 0.024392,
     "end_time": "2022-02-17T20:46:26.667658",
     "exception": false,
     "start_time": "2022-02-17T20:46:26.643266",
     "status": "completed"
    },
    "tags": []
   },
   "source": [
    "# Evaluation Analysis for Recommender Output"
   ]
  },
  {
   "cell_type": "markdown",
   "id": "2ec0c578",
   "metadata": {
    "papermill": {
     "duration": 0.02022,
     "end_time": "2022-02-17T20:46:26.708729",
     "exception": false,
     "start_time": "2022-02-17T20:46:26.688509",
     "status": "completed"
    },
    "tags": []
   },
   "source": [
    "In this section we will analyze and compare the generated recommendations and predictions from a predefined list of algorithms with the goal of assessing the performance of each algorithm with respect to a metric. In other words, we would rank the algorithms for each metric considered with respect to performance."
   ]
  },
  {
   "cell_type": "markdown",
   "id": "32827246",
   "metadata": {
    "papermill": {
     "duration": 0.02004,
     "end_time": "2022-02-17T20:46:26.748662",
     "exception": false,
     "start_time": "2022-02-17T20:46:26.728622",
     "status": "completed"
    },
    "tags": []
   },
   "source": [
    "# Setup"
   ]
  },
  {
   "cell_type": "markdown",
   "id": "37accd2e",
   "metadata": {
    "papermill": {
     "duration": 0.019999,
     "end_time": "2022-02-17T20:46:26.788718",
     "exception": false,
     "start_time": "2022-02-17T20:46:26.768719",
     "status": "completed"
    },
    "tags": []
   },
   "source": [
    "Below are the list of packages required to successfully run the analysis. They are divided into partitions to signify their specific task.<br>\n",
    "We need the pathlib package for working with files and folders"
   ]
  },
  {
   "cell_type": "code",
   "execution_count": 1,
   "id": "c00161ac",
   "metadata": {
    "execution": {
     "iopub.execute_input": "2022-02-17T20:46:26.830615Z",
     "iopub.status.busy": "2022-02-17T20:46:26.830430Z",
     "iopub.status.idle": "2022-02-17T20:46:26.836452Z",
     "shell.execute_reply": "2022-02-17T20:46:26.836104Z"
    },
    "papermill": {
     "duration": 0.029364,
     "end_time": "2022-02-17T20:46:26.837897",
     "exception": false,
     "start_time": "2022-02-17T20:46:26.808533",
     "status": "completed"
    },
    "tags": []
   },
   "outputs": [],
   "source": [
    "from pathlib import Path"
   ]
  },
  {
   "cell_type": "markdown",
   "id": "d928df13",
   "metadata": {
    "papermill": {
     "duration": 0.020402,
     "end_time": "2022-02-17T20:46:26.879183",
     "exception": false,
     "start_time": "2022-02-17T20:46:26.858781",
     "status": "completed"
    },
    "tags": []
   },
   "source": [
    "We would use the pandas for analyzing and manipulating our data while seaborn and matplotlib are used for data visualization. statsmodels.graphics.gofplots and scipy.stats.shapiro are used for normality check. Scipy.stats.friedmanchisquare is a non-parametric test used to determine the statistical significance in metric results and the wilcoxon test is used for pairwise comparison of sample data."
   ]
  },
  {
   "cell_type": "code",
   "execution_count": 2,
   "id": "1fc755ec",
   "metadata": {
    "execution": {
     "iopub.execute_input": "2022-02-17T20:46:26.920837Z",
     "iopub.status.busy": "2022-02-17T20:46:26.920480Z",
     "iopub.status.idle": "2022-02-17T20:46:30.769505Z",
     "shell.execute_reply": "2022-02-17T20:46:30.769038Z"
    },
    "papermill": {
     "duration": 3.871869,
     "end_time": "2022-02-17T20:46:30.771326",
     "exception": false,
     "start_time": "2022-02-17T20:46:26.899457",
     "status": "completed"
    },
    "tags": []
   },
   "outputs": [],
   "source": [
    "import pandas as pd\n",
    "import seaborn as sns\n",
    "import matplotlib.pyplot as plt\n",
    "from statsmodels.graphics.gofplots import qqplot\n",
    "from scipy.stats import shapiro\n",
    "from scipy.stats import friedmanchisquare, wilcoxon\n",
    "from itertools import combinations"
   ]
  },
  {
   "cell_type": "markdown",
   "id": "feaa4485",
   "metadata": {
    "papermill": {
     "duration": 0.020823,
     "end_time": "2022-02-17T20:46:30.813803",
     "exception": false,
     "start_time": "2022-02-17T20:46:30.792980",
     "status": "completed"
    },
    "tags": []
   },
   "source": [
    "Logging to show what's happening in LensKit routines:"
   ]
  },
  {
   "cell_type": "code",
   "execution_count": 3,
   "id": "39443186",
   "metadata": {
    "execution": {
     "iopub.execute_input": "2022-02-17T20:46:30.855299Z",
     "iopub.status.busy": "2022-02-17T20:46:30.855141Z",
     "iopub.status.idle": "2022-02-17T20:46:30.873835Z",
     "shell.execute_reply": "2022-02-17T20:46:30.873449Z"
    },
    "papermill": {
     "duration": 0.041248,
     "end_time": "2022-02-17T20:46:30.875215",
     "exception": false,
     "start_time": "2022-02-17T20:46:30.833967",
     "status": "completed"
    },
    "tags": []
   },
   "outputs": [
    {
     "name": "stdout",
     "output_type": "stream",
     "text": [
      "[   INFO] lenskit.util.log notebook logging configured\n"
     ]
    }
   ],
   "source": [
    "from lenskit import util\n",
    "util.log_to_notebook()"
   ]
  },
  {
   "cell_type": "code",
   "execution_count": 4,
   "id": "fadca5dc",
   "metadata": {
    "execution": {
     "iopub.execute_input": "2022-02-17T20:46:30.918722Z",
     "iopub.status.busy": "2022-02-17T20:46:30.918377Z",
     "iopub.status.idle": "2022-02-17T20:46:30.920719Z",
     "shell.execute_reply": "2022-02-17T20:46:30.920357Z"
    },
    "papermill": {
     "duration": 0.024971,
     "end_time": "2022-02-17T20:46:30.921943",
     "exception": false,
     "start_time": "2022-02-17T20:46:30.896972",
     "status": "completed"
    },
    "tags": []
   },
   "outputs": [],
   "source": [
    "import logging\n",
    "_log = logging.getLogger('eval-report')"
   ]
  },
  {
   "cell_type": "markdown",
   "id": "1b138e0b",
   "metadata": {
    "papermill": {
     "duration": 0.021271,
     "end_time": "2022-02-17T20:46:30.964507",
     "exception": false,
     "start_time": "2022-02-17T20:46:30.943236",
     "status": "completed"
    },
    "tags": []
   },
   "source": [
    "We will use lenskit for training, running, and evaluating recommender algorithms"
   ]
  },
  {
   "cell_type": "code",
   "execution_count": 5,
   "id": "4a53cbc8",
   "metadata": {
    "execution": {
     "iopub.execute_input": "2022-02-17T20:46:31.009118Z",
     "iopub.status.busy": "2022-02-17T20:46:31.008979Z",
     "iopub.status.idle": "2022-02-17T20:46:31.048837Z",
     "shell.execute_reply": "2022-02-17T20:46:31.048448Z"
    },
    "papermill": {
     "duration": 0.063836,
     "end_time": "2022-02-17T20:46:31.050203",
     "exception": false,
     "start_time": "2022-02-17T20:46:30.986367",
     "status": "completed"
    },
    "tags": []
   },
   "outputs": [],
   "source": [
    "from lenskit import topn\n",
    "from lenskit.metrics.predict import rmse"
   ]
  },
  {
   "cell_type": "markdown",
   "id": "d9d67d8e",
   "metadata": {
    "papermill": {
     "duration": 0.021033,
     "end_time": "2022-02-17T20:46:31.092958",
     "exception": false,
     "start_time": "2022-02-17T20:46:31.071925",
     "status": "completed"
    },
    "tags": []
   },
   "source": [
    "# Load Data"
   ]
  },
  {
   "cell_type": "markdown",
   "id": "94707c60",
   "metadata": {
    "papermill": {
     "duration": 0.02197,
     "end_time": "2022-02-17T20:46:31.136420",
     "exception": false,
     "start_time": "2022-02-17T20:46:31.114450",
     "status": "completed"
    },
    "tags": []
   },
   "source": [
    "We specify the dataset we will use for our analysis and the main directory from where we read the recommendation and prediction files. From the main directory we find all the directories associated with the dataset and then read the recommendation and predictions files from those directories."
   ]
  },
  {
   "cell_type": "code",
   "execution_count": 6,
   "id": "95d51f24",
   "metadata": {
    "execution": {
     "iopub.execute_input": "2022-02-17T20:46:31.193333Z",
     "iopub.status.busy": "2022-02-17T20:46:31.193191Z",
     "iopub.status.idle": "2022-02-17T20:46:31.195680Z",
     "shell.execute_reply": "2022-02-17T20:46:31.195330Z"
    },
    "papermill": {
     "duration": 0.039309,
     "end_time": "2022-02-17T20:46:31.196857",
     "exception": false,
     "start_time": "2022-02-17T20:46:31.157548",
     "status": "completed"
    },
    "tags": [
     "parameters"
    ]
   },
   "outputs": [],
   "source": [
    "dataset = \"ml100k\""
   ]
  },
  {
   "cell_type": "code",
   "execution_count": 7,
   "id": "cd93e69d",
   "metadata": {
    "execution": {
     "iopub.execute_input": "2022-02-17T20:46:31.243146Z",
     "iopub.status.busy": "2022-02-17T20:46:31.242783Z",
     "iopub.status.idle": "2022-02-17T20:46:31.244931Z",
     "shell.execute_reply": "2022-02-17T20:46:31.244553Z"
    },
    "papermill": {
     "duration": 0.027706,
     "end_time": "2022-02-17T20:46:31.246163",
     "exception": false,
     "start_time": "2022-02-17T20:46:31.218457",
     "status": "completed"
    },
    "tags": [
     "injected-parameters"
    ]
   },
   "outputs": [],
   "source": [
    "# Parameters\n",
    "dataset = \"mlsmall\"\n"
   ]
  },
  {
   "cell_type": "code",
   "execution_count": 8,
   "id": "3234a45b",
   "metadata": {
    "execution": {
     "iopub.execute_input": "2022-02-17T20:46:31.290587Z",
     "iopub.status.busy": "2022-02-17T20:46:31.290451Z",
     "iopub.status.idle": "2022-02-17T20:46:31.292838Z",
     "shell.execute_reply": "2022-02-17T20:46:31.292461Z"
    },
    "papermill": {
     "duration": 0.026194,
     "end_time": "2022-02-17T20:46:31.294028",
     "exception": false,
     "start_time": "2022-02-17T20:46:31.267834",
     "status": "completed"
    },
    "tags": []
   },
   "outputs": [],
   "source": [
    "output_root = Path(\"runs\")"
   ]
  },
  {
   "cell_type": "code",
   "execution_count": 9,
   "id": "94484e6f",
   "metadata": {
    "execution": {
     "iopub.execute_input": "2022-02-17T20:46:31.405067Z",
     "iopub.status.busy": "2022-02-17T20:46:31.404930Z",
     "iopub.status.idle": "2022-02-17T20:46:31.407746Z",
     "shell.execute_reply": "2022-02-17T20:46:31.407380Z"
    },
    "papermill": {
     "duration": 0.079317,
     "end_time": "2022-02-17T20:46:31.408945",
     "exception": false,
     "start_time": "2022-02-17T20:46:31.329628",
     "status": "completed"
    },
    "tags": []
   },
   "outputs": [],
   "source": [
    "dirs = [fld for fld in output_root.glob(f'{dataset}-*')]"
   ]
  },
  {
   "cell_type": "code",
   "execution_count": 10,
   "id": "6021e092",
   "metadata": {
    "execution": {
     "iopub.execute_input": "2022-02-17T20:46:31.452604Z",
     "iopub.status.busy": "2022-02-17T20:46:31.452190Z",
     "iopub.status.idle": "2022-02-17T20:46:32.361333Z",
     "shell.execute_reply": "2022-02-17T20:46:32.360909Z"
    },
    "papermill": {
     "duration": 0.932374,
     "end_time": "2022-02-17T20:46:32.362650",
     "exception": false,
     "start_time": "2022-02-17T20:46:31.430276",
     "status": "completed"
    },
    "tags": []
   },
   "outputs": [
    {
     "name": "stdout",
     "output_type": "stream",
     "text": [
      "<class 'pandas.core.frame.DataFrame'>\n",
      "RangeIndex: 426900 entries, 0 to 426899\n",
      "Data columns (total 5 columns):\n",
      " #   Column     Non-Null Count   Dtype   \n",
      "---  ------     --------------   -----   \n",
      " 0   item       426900 non-null  int64   \n",
      " 1   score      426900 non-null  float64 \n",
      " 2   user       426900 non-null  int64   \n",
      " 3   rank       426900 non-null  int64   \n",
      " 4   algorithm  426900 non-null  category\n",
      "dtypes: category(1), float64(1), int64(3)\n",
      "memory usage: 13.4 MB\n"
     ]
    }
   ],
   "source": [
    "recs = []\n",
    "for fld in dirs: \n",
    "    for file in fld.glob(\"recs-*\"):\n",
    "        rec = pd.read_csv(file, sep=',')\n",
    "        rec[\"algorithm\"] = fld.name.split(\"-\")[1]\n",
    "        recs.append(rec)\n",
    "\n",
    "recs = pd.concat(recs, ignore_index=True)\n",
    "recs = recs.astype({'algorithm': 'category'})\n",
    "recs.info()"
   ]
  },
  {
   "cell_type": "code",
   "execution_count": 11,
   "id": "508dcb42",
   "metadata": {
    "execution": {
     "iopub.execute_input": "2022-02-17T20:46:32.408544Z",
     "iopub.status.busy": "2022-02-17T20:46:32.408386Z",
     "iopub.status.idle": "2022-02-17T20:46:32.415638Z",
     "shell.execute_reply": "2022-02-17T20:46:32.415287Z"
    },
    "papermill": {
     "duration": 0.031603,
     "end_time": "2022-02-17T20:46:32.416887",
     "exception": false,
     "start_time": "2022-02-17T20:46:32.385284",
     "status": "completed"
    },
    "tags": []
   },
   "outputs": [
    {
     "data": {
      "text/plain": [
       "['Pop', 'Bias', 'IIE', 'UUE', 'ALS', 'IALS', 'III']\n",
       "Categories (7, object): ['ALS', 'Bias', 'IALS', 'IIE', 'III', 'Pop', 'UUE']"
      ]
     },
     "execution_count": 11,
     "metadata": {},
     "output_type": "execute_result"
    }
   ],
   "source": [
    "rec_algos = recs['algorithm'].unique()\n",
    "rec_algos"
   ]
  },
  {
   "cell_type": "code",
   "execution_count": 12,
   "id": "604a962c",
   "metadata": {
    "execution": {
     "iopub.execute_input": "2022-02-17T20:46:32.463193Z",
     "iopub.status.busy": "2022-02-17T20:46:32.462776Z",
     "iopub.status.idle": "2022-02-17T20:46:32.745022Z",
     "shell.execute_reply": "2022-02-17T20:46:32.744622Z"
    },
    "papermill": {
     "duration": 0.306917,
     "end_time": "2022-02-17T20:46:32.746307",
     "exception": false,
     "start_time": "2022-02-17T20:46:32.439390",
     "status": "completed"
    },
    "tags": []
   },
   "outputs": [
    {
     "name": "stdout",
     "output_type": "stream",
     "text": [
      "<class 'pandas.core.frame.DataFrame'>\n",
      "RangeIndex: 18300 entries, 0 to 18299\n",
      "Data columns (total 6 columns):\n",
      " #   Column      Non-Null Count  Dtype   \n",
      "---  ------      --------------  -----   \n",
      " 0   user        18300 non-null  int64   \n",
      " 1   item        18300 non-null  int64   \n",
      " 2   rating      18300 non-null  float64 \n",
      " 3   timestamp   18300 non-null  int64   \n",
      " 4   prediction  18022 non-null  float64 \n",
      " 5   algorithm   18300 non-null  category\n",
      "dtypes: category(1), float64(2), int64(3)\n",
      "memory usage: 733.1 KB\n"
     ]
    }
   ],
   "source": [
    "preds = []\n",
    "for fld in dirs:\n",
    "    for file in fld.glob(\"pred-*\"):\n",
    "        pred = pd.read_csv(file, sep=',')\n",
    "        pred[\"algorithm\"] = fld.name.split(\"-\")[1]\n",
    "        preds.append(pred)\n",
    "\n",
    "preds = pd.concat(preds, ignore_index=True)\n",
    "preds = preds.astype({'algorithm': 'category'})\n",
    "preds.info()"
   ]
  },
  {
   "cell_type": "markdown",
   "id": "bf86b5cc",
   "metadata": {
    "papermill": {
     "duration": 0.023099,
     "end_time": "2022-02-17T20:46:32.793111",
     "exception": false,
     "start_time": "2022-02-17T20:46:32.770012",
     "status": "completed"
    },
    "tags": []
   },
   "source": [
    "We need to load the test data so that we have the ground truths for computing accuracy "
   ]
  },
  {
   "cell_type": "code",
   "execution_count": 13,
   "id": "fea416f8",
   "metadata": {
    "execution": {
     "iopub.execute_input": "2022-02-17T20:46:32.839926Z",
     "iopub.status.busy": "2022-02-17T20:46:32.839782Z",
     "iopub.status.idle": "2022-02-17T20:46:32.842244Z",
     "shell.execute_reply": "2022-02-17T20:46:32.841878Z"
    },
    "papermill": {
     "duration": 0.027512,
     "end_time": "2022-02-17T20:46:32.843435",
     "exception": false,
     "start_time": "2022-02-17T20:46:32.815923",
     "status": "completed"
    },
    "tags": []
   },
   "outputs": [],
   "source": [
    "split_root = Path(\"data-split\")\n",
    "split_dir = split_root / dataset"
   ]
  },
  {
   "cell_type": "code",
   "execution_count": 14,
   "id": "44d243d4",
   "metadata": {
    "execution": {
     "iopub.execute_input": "2022-02-17T20:46:32.890092Z",
     "iopub.status.busy": "2022-02-17T20:46:32.889952Z",
     "iopub.status.idle": "2022-02-17T20:46:32.911760Z",
     "shell.execute_reply": "2022-02-17T20:46:32.911403Z"
    },
    "papermill": {
     "duration": 0.046545,
     "end_time": "2022-02-17T20:46:32.913001",
     "exception": false,
     "start_time": "2022-02-17T20:46:32.866456",
     "status": "completed"
    },
    "tags": []
   },
   "outputs": [
    {
     "data": {
      "text/html": [
       "<div>\n",
       "<style scoped>\n",
       "    .dataframe tbody tr th:only-of-type {\n",
       "        vertical-align: middle;\n",
       "    }\n",
       "\n",
       "    .dataframe tbody tr th {\n",
       "        vertical-align: top;\n",
       "    }\n",
       "\n",
       "    .dataframe thead th {\n",
       "        text-align: right;\n",
       "    }\n",
       "</style>\n",
       "<table border=\"1\" class=\"dataframe\">\n",
       "  <thead>\n",
       "    <tr style=\"text-align: right;\">\n",
       "      <th></th>\n",
       "      <th>user</th>\n",
       "      <th>item</th>\n",
       "      <th>rating</th>\n",
       "      <th>timestamp</th>\n",
       "      <th>part</th>\n",
       "    </tr>\n",
       "    <tr>\n",
       "      <th>index</th>\n",
       "      <th></th>\n",
       "      <th></th>\n",
       "      <th></th>\n",
       "      <th></th>\n",
       "      <th></th>\n",
       "    </tr>\n",
       "  </thead>\n",
       "  <tbody>\n",
       "    <tr>\n",
       "      <th>249</th>\n",
       "      <td>2</td>\n",
       "      <td>86345</td>\n",
       "      <td>4.0</td>\n",
       "      <td>1445715166</td>\n",
       "      <td>test-1</td>\n",
       "    </tr>\n",
       "    <tr>\n",
       "      <th>238</th>\n",
       "      <td>2</td>\n",
       "      <td>46970</td>\n",
       "      <td>4.0</td>\n",
       "      <td>1445715013</td>\n",
       "      <td>test-1</td>\n",
       "    </tr>\n",
       "    <tr>\n",
       "      <th>234</th>\n",
       "      <td>2</td>\n",
       "      <td>1704</td>\n",
       "      <td>4.5</td>\n",
       "      <td>1445715228</td>\n",
       "      <td>test-1</td>\n",
       "    </tr>\n",
       "    <tr>\n",
       "      <th>233</th>\n",
       "      <td>2</td>\n",
       "      <td>333</td>\n",
       "      <td>4.0</td>\n",
       "      <td>1445715029</td>\n",
       "      <td>test-1</td>\n",
       "    </tr>\n",
       "    <tr>\n",
       "      <th>235</th>\n",
       "      <td>2</td>\n",
       "      <td>3578</td>\n",
       "      <td>4.0</td>\n",
       "      <td>1445714885</td>\n",
       "      <td>test-1</td>\n",
       "    </tr>\n",
       "  </tbody>\n",
       "</table>\n",
       "</div>"
      ],
      "text/plain": [
       "       user   item  rating   timestamp    part\n",
       "index                                         \n",
       "249       2  86345     4.0  1445715166  test-1\n",
       "238       2  46970     4.0  1445715013  test-1\n",
       "234       2   1704     4.5  1445715228  test-1\n",
       "233       2    333     4.0  1445715029  test-1\n",
       "235       2   3578     4.0  1445714885  test-1"
      ]
     },
     "execution_count": 14,
     "metadata": {},
     "output_type": "execute_result"
    }
   ],
   "source": [
    "test = []\n",
    "for file in split_dir.glob(\"test-*.csv.gz\"):\n",
    "    test.append(pd.read_csv(file, sep=',', index_col='index').assign(part=file.stem.replace('.csv', '')))\n",
    "\n",
    "test = pd.concat(test)\n",
    "test.head()"
   ]
  },
  {
   "cell_type": "markdown",
   "id": "715d2023",
   "metadata": {
    "papermill": {
     "duration": 0.022513,
     "end_time": "2022-02-17T20:46:32.958192",
     "exception": false,
     "start_time": "2022-02-17T20:46:32.935679",
     "status": "completed"
    },
    "tags": []
   },
   "source": [
    "# Top-N Metrics"
   ]
  },
  {
   "cell_type": "markdown",
   "id": "ebea7045",
   "metadata": {
    "papermill": {
     "duration": 0.022333,
     "end_time": "2022-02-17T20:46:33.003148",
     "exception": false,
     "start_time": "2022-02-17T20:46:32.980815",
     "status": "completed"
    },
    "tags": []
   },
   "source": [
    "The topn.RecListAnalysis class computes top-N metrics for recommendation list and takes care of making sure that the recommendations and ground truths are properly matched. Refer to the documentation for detailed explanation of the purpose for the RecListAnalysis class and how the analysis is done - https://lkpy.lenskit.org/en/stable/evaluation/topn-metrics.html "
   ]
  },
  {
   "cell_type": "code",
   "execution_count": 15,
   "id": "3762711c",
   "metadata": {
    "execution": {
     "iopub.execute_input": "2022-02-17T20:46:33.051345Z",
     "iopub.status.busy": "2022-02-17T20:46:33.051176Z",
     "iopub.status.idle": "2022-02-17T20:46:33.369978Z",
     "shell.execute_reply": "2022-02-17T20:46:33.369593Z"
    },
    "papermill": {
     "duration": 0.34479,
     "end_time": "2022-02-17T20:46:33.371253",
     "exception": false,
     "start_time": "2022-02-17T20:46:33.026463",
     "status": "completed"
    },
    "tags": []
   },
   "outputs": [
    {
     "name": "stdout",
     "output_type": "stream",
     "text": [
      "[   INFO] lenskit.topn analyzing 426900 recommendations (3050 truth rows)\n"
     ]
    },
    {
     "name": "stdout",
     "output_type": "stream",
     "text": [
      "[   INFO] lenskit.topn using rec key columns ['algorithm', 'user']\n"
     ]
    },
    {
     "name": "stdout",
     "output_type": "stream",
     "text": [
      "[   INFO] lenskit.topn using truth key columns ['user']\n"
     ]
    },
    {
     "name": "stdout",
     "output_type": "stream",
     "text": [
      "[   INFO] lenskit.topn numbering truth lists\n"
     ]
    },
    {
     "name": "stdout",
     "output_type": "stream",
     "text": [
      "[   INFO] lenskit.topn numbering rec lists\n"
     ]
    },
    {
     "name": "stdout",
     "output_type": "stream",
     "text": [
      "[   INFO] lenskit.topn collecting metric results\n"
     ]
    },
    {
     "name": "stdout",
     "output_type": "stream",
     "text": [
      "[   INFO] lenskit.topn measured 4269 lists in  195ms\n"
     ]
    },
    {
     "name": "stdout",
     "output_type": "stream",
     "text": [
      "[   INFO] lenskit.topn filling in missing user info (4269 initial rows)\n"
     ]
    },
    {
     "data": {
      "text/html": [
       "<div>\n",
       "<style scoped>\n",
       "    .dataframe tbody tr th:only-of-type {\n",
       "        vertical-align: middle;\n",
       "    }\n",
       "\n",
       "    .dataframe tbody tr th {\n",
       "        vertical-align: top;\n",
       "    }\n",
       "\n",
       "    .dataframe thead th {\n",
       "        text-align: right;\n",
       "    }\n",
       "</style>\n",
       "<table border=\"1\" class=\"dataframe\">\n",
       "  <thead>\n",
       "    <tr style=\"text-align: right;\">\n",
       "      <th></th>\n",
       "      <th></th>\n",
       "      <th>level_1</th>\n",
       "      <th>nrecs</th>\n",
       "      <th>precision</th>\n",
       "      <th>recip_rank</th>\n",
       "      <th>ndcg</th>\n",
       "      <th>ntruth</th>\n",
       "    </tr>\n",
       "    <tr>\n",
       "      <th>algorithm</th>\n",
       "      <th>user</th>\n",
       "      <th></th>\n",
       "      <th></th>\n",
       "      <th></th>\n",
       "      <th></th>\n",
       "      <th></th>\n",
       "      <th></th>\n",
       "    </tr>\n",
       "  </thead>\n",
       "  <tbody>\n",
       "    <tr>\n",
       "      <th rowspan=\"5\" valign=\"top\">ALS</th>\n",
       "      <th>1</th>\n",
       "      <td>2439.0</td>\n",
       "      <td>100.0</td>\n",
       "      <td>0.00</td>\n",
       "      <td>0.000000</td>\n",
       "      <td>0.000000</td>\n",
       "      <td>5</td>\n",
       "    </tr>\n",
       "    <tr>\n",
       "      <th>6</th>\n",
       "      <td>2440.0</td>\n",
       "      <td>100.0</td>\n",
       "      <td>0.00</td>\n",
       "      <td>0.000000</td>\n",
       "      <td>0.000000</td>\n",
       "      <td>5</td>\n",
       "    </tr>\n",
       "    <tr>\n",
       "      <th>9</th>\n",
       "      <td>2441.0</td>\n",
       "      <td>100.0</td>\n",
       "      <td>0.02</td>\n",
       "      <td>0.083333</td>\n",
       "      <td>0.141944</td>\n",
       "      <td>5</td>\n",
       "    </tr>\n",
       "    <tr>\n",
       "      <th>13</th>\n",
       "      <td>2442.0</td>\n",
       "      <td>100.0</td>\n",
       "      <td>0.02</td>\n",
       "      <td>0.076923</td>\n",
       "      <td>0.146520</td>\n",
       "      <td>5</td>\n",
       "    </tr>\n",
       "    <tr>\n",
       "      <th>18</th>\n",
       "      <td>2443.0</td>\n",
       "      <td>100.0</td>\n",
       "      <td>0.00</td>\n",
       "      <td>0.000000</td>\n",
       "      <td>0.000000</td>\n",
       "      <td>5</td>\n",
       "    </tr>\n",
       "  </tbody>\n",
       "</table>\n",
       "</div>"
      ],
      "text/plain": [
       "                level_1  nrecs  precision  recip_rank      ndcg  ntruth\n",
       "algorithm user                                                         \n",
       "ALS       1      2439.0  100.0       0.00    0.000000  0.000000       5\n",
       "          6      2440.0  100.0       0.00    0.000000  0.000000       5\n",
       "          9      2441.0  100.0       0.02    0.083333  0.141944       5\n",
       "          13     2442.0  100.0       0.02    0.076923  0.146520       5\n",
       "          18     2443.0  100.0       0.00    0.000000  0.000000       5"
      ]
     },
     "execution_count": 15,
     "metadata": {},
     "output_type": "execute_result"
    }
   ],
   "source": [
    "rla = topn.RecListAnalysis()\n",
    "\n",
    "rla.add_metric(topn.precision)\n",
    "rla.add_metric(topn.recip_rank)\n",
    "rla.add_metric(topn.ndcg)\n",
    "results = rla.compute(recs, test, include_missing=True)\n",
    "results = results.fillna(0)\n",
    "results.head()"
   ]
  },
  {
   "cell_type": "markdown",
   "id": "5e569b35",
   "metadata": {
    "papermill": {
     "duration": 0.025791,
     "end_time": "2022-02-17T20:46:33.423247",
     "exception": false,
     "start_time": "2022-02-17T20:46:33.397456",
     "status": "completed"
    },
    "tags": []
   },
   "source": [
    "We will reshape the 'results' dataframe by stacking the columns to index and then use the bar chart to visualize the performance of our algorithms with respect to the precision, reciprocal rank and ndcg metrics"
   ]
  },
  {
   "cell_type": "code",
   "execution_count": 16,
   "id": "1d75a62d",
   "metadata": {
    "execution": {
     "iopub.execute_input": "2022-02-17T20:46:33.475586Z",
     "iopub.status.busy": "2022-02-17T20:46:33.475432Z",
     "iopub.status.idle": "2022-02-17T20:46:33.485118Z",
     "shell.execute_reply": "2022-02-17T20:46:33.484768Z"
    },
    "papermill": {
     "duration": 0.037617,
     "end_time": "2022-02-17T20:46:33.486366",
     "exception": false,
     "start_time": "2022-02-17T20:46:33.448749",
     "status": "completed"
    },
    "tags": []
   },
   "outputs": [
    {
     "data": {
      "text/html": [
       "<div>\n",
       "<style scoped>\n",
       "    .dataframe tbody tr th:only-of-type {\n",
       "        vertical-align: middle;\n",
       "    }\n",
       "\n",
       "    .dataframe tbody tr th {\n",
       "        vertical-align: top;\n",
       "    }\n",
       "\n",
       "    .dataframe thead th {\n",
       "        text-align: right;\n",
       "    }\n",
       "</style>\n",
       "<table border=\"1\" class=\"dataframe\">\n",
       "  <thead>\n",
       "    <tr style=\"text-align: right;\">\n",
       "      <th></th>\n",
       "      <th>algorithm</th>\n",
       "      <th>user</th>\n",
       "      <th>metric</th>\n",
       "      <th>val</th>\n",
       "    </tr>\n",
       "  </thead>\n",
       "  <tbody>\n",
       "    <tr>\n",
       "      <th>0</th>\n",
       "      <td>ALS</td>\n",
       "      <td>1</td>\n",
       "      <td>level_1</td>\n",
       "      <td>2439.0</td>\n",
       "    </tr>\n",
       "    <tr>\n",
       "      <th>1</th>\n",
       "      <td>ALS</td>\n",
       "      <td>1</td>\n",
       "      <td>precision</td>\n",
       "      <td>0.0</td>\n",
       "    </tr>\n",
       "    <tr>\n",
       "      <th>2</th>\n",
       "      <td>ALS</td>\n",
       "      <td>1</td>\n",
       "      <td>recip_rank</td>\n",
       "      <td>0.0</td>\n",
       "    </tr>\n",
       "    <tr>\n",
       "      <th>3</th>\n",
       "      <td>ALS</td>\n",
       "      <td>1</td>\n",
       "      <td>ndcg</td>\n",
       "      <td>0.0</td>\n",
       "    </tr>\n",
       "    <tr>\n",
       "      <th>4</th>\n",
       "      <td>ALS</td>\n",
       "      <td>6</td>\n",
       "      <td>level_1</td>\n",
       "      <td>2440.0</td>\n",
       "    </tr>\n",
       "  </tbody>\n",
       "</table>\n",
       "</div>"
      ],
      "text/plain": [
       "  algorithm  user      metric     val\n",
       "0       ALS     1     level_1  2439.0\n",
       "1       ALS     1   precision     0.0\n",
       "2       ALS     1  recip_rank     0.0\n",
       "3       ALS     1        ndcg     0.0\n",
       "4       ALS     6     level_1  2440.0"
      ]
     },
     "execution_count": 16,
     "metadata": {},
     "output_type": "execute_result"
    }
   ],
   "source": [
    "pltData = (results.drop(columns=['nrecs', 'ntruth']).stack()).reset_index()\n",
    "pltData.columns = ['algorithm', 'user', 'metric', 'val']\n",
    "pltData.head()"
   ]
  },
  {
   "cell_type": "markdown",
   "id": "609462c7",
   "metadata": {
    "papermill": {
     "duration": 0.02682,
     "end_time": "2022-02-17T20:46:33.539132",
     "exception": false,
     "start_time": "2022-02-17T20:46:33.512312",
     "status": "completed"
    },
    "tags": []
   },
   "source": [
    "We need to determine if the differences we observe in the performances of the algorithms for the various metrics are statistically significant. To achieve this, we will need to use either a parametric or non-parametric statistical test for comparing the differences. We will consider a parametric test - repeated ANOVA measure cause our sample groups are correlated."
   ]
  },
  {
   "cell_type": "code",
   "execution_count": 17,
   "id": "fcfebc5e",
   "metadata": {
    "execution": {
     "iopub.execute_input": "2022-02-17T20:46:33.592332Z",
     "iopub.status.busy": "2022-02-17T20:46:33.592169Z",
     "iopub.status.idle": "2022-02-17T20:46:34.637899Z",
     "shell.execute_reply": "2022-02-17T20:46:34.637491Z"
    },
    "papermill": {
     "duration": 1.073823,
     "end_time": "2022-02-17T20:46:34.639183",
     "exception": false,
     "start_time": "2022-02-17T20:46:33.565360",
     "status": "completed"
    },
    "tags": []
   },
   "outputs": [
    {
     "data": {
      "image/png": "[encoded data removed]",
      "text/plain": [
       "<Figure size 1036.8x216 with 4 Axes>"
      ]
     },
     "metadata": {
      "needs_background": "light"
     },
     "output_type": "display_data"
    }
   ],
   "source": [
    "g = sns.catplot(x = \"algorithm\", y = \"val\", data = pltData, kind=\"bar\", col = \"metric\", aspect=1.2, height=3, sharey=False)"
   ]
  },
  {
   "cell_type": "markdown",
   "id": "13343df3",
   "metadata": {
    "papermill": {
     "duration": 0.026949,
     "end_time": "2022-02-17T20:46:34.693287",
     "exception": false,
     "start_time": "2022-02-17T20:46:34.666338",
     "status": "completed"
    },
    "tags": []
   },
   "source": [
    "### Statistical Testing"
   ]
  },
  {
   "cell_type": "markdown",
   "id": "f663f3da",
   "metadata": {
    "papermill": {
     "duration": 0.025723,
     "end_time": "2022-02-17T20:46:34.745912",
     "exception": false,
     "start_time": "2022-02-17T20:46:34.720189",
     "status": "completed"
    },
    "tags": []
   },
   "source": [
    "We will now examine these metrics in more detail and test for statistical significance.  Best practice for statistical testing for recommender systems is still a work in progress, but this method avoids most of the validity problems we know about.\n",
    "\n",
    "The Friedman $\\chi^2$ test will test the null hypothesis that there is no difference between algorithms in terms of their performance."
   ]
  },
  {
   "cell_type": "code",
   "execution_count": 18,
   "id": "9af947bf",
   "metadata": {
    "execution": {
     "iopub.execute_input": "2022-02-17T20:46:34.798734Z",
     "iopub.status.busy": "2022-02-17T20:46:34.798540Z",
     "iopub.status.idle": "2022-02-17T20:46:34.802000Z",
     "shell.execute_reply": "2022-02-17T20:46:34.801568Z"
    },
    "papermill": {
     "duration": 0.031481,
     "end_time": "2022-02-17T20:46:34.803216",
     "exception": false,
     "start_time": "2022-02-17T20:46:34.771735",
     "status": "completed"
    },
    "tags": []
   },
   "outputs": [],
   "source": [
    "def metric_friedman(metric):\n",
    "    groups = [df[metric] for a, df in results.groupby('algorithm')]\n",
    "\n",
    "    stat, p = friedmanchisquare(*groups)\n",
    "    return pd.Series({'stat': stat, 'p': p}, name=metric)"
   ]
  },
  {
   "cell_type": "markdown",
   "id": "cde114ce",
   "metadata": {
    "papermill": {
     "duration": 0.026558,
     "end_time": "2022-02-17T20:46:34.856522",
     "exception": false,
     "start_time": "2022-02-17T20:46:34.829964",
     "status": "completed"
    },
    "tags": []
   },
   "source": [
    "If the test detects significance, we have at least one pair of different algorithms - but which pairs?  Unfortunately, the good tests aren't readily available in scipy and friends, so we're going to take a conservative approch and perform pairwise Wilconxon signed-rank tests with a Bonferroni adjustment."
   ]
  },
  {
   "cell_type": "code",
   "execution_count": 19,
   "id": "c81deddf",
   "metadata": {
    "execution": {
     "iopub.execute_input": "2022-02-17T20:46:34.910186Z",
     "iopub.status.busy": "2022-02-17T20:46:34.910038Z",
     "iopub.status.idle": "2022-02-17T20:46:34.914825Z",
     "shell.execute_reply": "2022-02-17T20:46:34.914459Z"
    },
    "papermill": {
     "duration": 0.032477,
     "end_time": "2022-02-17T20:46:34.915996",
     "exception": false,
     "start_time": "2022-02-17T20:46:34.883519",
     "status": "completed"
    },
    "tags": []
   },
   "outputs": [],
   "source": [
    "pairs = pd.DataFrame.from_records(combinations(rec_algos, 2), columns=['A1', 'A2'])\n",
    "def am_wilcox(metric, p_scale = len(pairs)):\n",
    "    def compute(df):\n",
    "        vs1 = results.loc[df['A1'], metric]\n",
    "        vs2 = results.loc[df['A2'], metric]\n",
    "        diff = (vs1 - vs2).mean()\n",
    "        stat, p = wilcoxon(vs1, vs2)\n",
    "        return pd.Series({'diff': diff, 'stat': stat, 'p': p, 'adj_p': p * p_scale})\n",
    "    scores = pairs.apply(compute, axis=1)\n",
    "    return pairs.join(scores)"
   ]
  },
  {
   "cell_type": "markdown",
   "id": "359f08b3",
   "metadata": {
    "papermill": {
     "duration": 0.027201,
     "end_time": "2022-02-17T20:46:34.970300",
     "exception": false,
     "start_time": "2022-02-17T20:46:34.943099",
     "status": "completed"
    },
    "tags": []
   },
   "source": [
    "## Precision"
   ]
  },
  {
   "cell_type": "code",
   "execution_count": 20,
   "id": "aa374feb",
   "metadata": {
    "execution": {
     "iopub.execute_input": "2022-02-17T20:46:35.024959Z",
     "iopub.status.busy": "2022-02-17T20:46:35.024820Z",
     "iopub.status.idle": "2022-02-17T20:46:35.067767Z",
     "shell.execute_reply": "2022-02-17T20:46:35.067422Z"
    },
    "papermill": {
     "duration": 0.071745,
     "end_time": "2022-02-17T20:46:35.069013",
     "exception": false,
     "start_time": "2022-02-17T20:46:34.997268",
     "status": "completed"
    },
    "tags": []
   },
   "outputs": [
    {
     "data": {
      "text/plain": [
       "stat    2016.620598\n",
       "p          0.000000\n",
       "Name: precision, dtype: float64"
      ]
     },
     "execution_count": 20,
     "metadata": {},
     "output_type": "execute_result"
    }
   ],
   "source": [
    "metric_friedman('precision')"
   ]
  },
  {
   "cell_type": "markdown",
   "id": "26ab967f",
   "metadata": {
    "papermill": {
     "duration": 0.0286,
     "end_time": "2022-02-17T20:46:35.125912",
     "exception": false,
     "start_time": "2022-02-17T20:46:35.097312",
     "status": "completed"
    },
    "tags": []
   },
   "source": [
    "This indicates a statistically significant difference exists - but where is it?\n",
    "\n",
    "To answer that question, we need a post-hoc test. "
   ]
  },
  {
   "cell_type": "code",
   "execution_count": 21,
   "id": "34604fc8",
   "metadata": {
    "execution": {
     "iopub.execute_input": "2022-02-17T20:46:35.182873Z",
     "iopub.status.busy": "2022-02-17T20:46:35.182735Z",
     "iopub.status.idle": "2022-02-17T20:46:35.232805Z",
     "shell.execute_reply": "2022-02-17T20:46:35.232457Z"
    },
    "papermill": {
     "duration": 0.079829,
     "end_time": "2022-02-17T20:46:35.233982",
     "exception": false,
     "start_time": "2022-02-17T20:46:35.154153",
     "status": "completed"
    },
    "tags": []
   },
   "outputs": [
    {
     "data": {
      "text/html": [
       "<div>\n",
       "<style scoped>\n",
       "    .dataframe tbody tr th:only-of-type {\n",
       "        vertical-align: middle;\n",
       "    }\n",
       "\n",
       "    .dataframe tbody tr th {\n",
       "        vertical-align: top;\n",
       "    }\n",
       "\n",
       "    .dataframe thead th {\n",
       "        text-align: right;\n",
       "    }\n",
       "</style>\n",
       "<table border=\"1\" class=\"dataframe\">\n",
       "  <thead>\n",
       "    <tr style=\"text-align: right;\">\n",
       "      <th></th>\n",
       "      <th>A1</th>\n",
       "      <th>A2</th>\n",
       "      <th>diff</th>\n",
       "      <th>stat</th>\n",
       "      <th>p</th>\n",
       "      <th>adj_p</th>\n",
       "    </tr>\n",
       "  </thead>\n",
       "  <tbody>\n",
       "    <tr>\n",
       "      <th>2</th>\n",
       "      <td>Pop</td>\n",
       "      <td>UUE</td>\n",
       "      <td>0.014967</td>\n",
       "      <td>0.0</td>\n",
       "      <td>2.307024e-77</td>\n",
       "      <td>4.844750e-76</td>\n",
       "    </tr>\n",
       "    <tr>\n",
       "      <th>1</th>\n",
       "      <td>Pop</td>\n",
       "      <td>IIE</td>\n",
       "      <td>0.014623</td>\n",
       "      <td>766.5</td>\n",
       "      <td>2.759444e-76</td>\n",
       "      <td>5.794832e-75</td>\n",
       "    </tr>\n",
       "    <tr>\n",
       "      <th>3</th>\n",
       "      <td>Pop</td>\n",
       "      <td>ALS</td>\n",
       "      <td>0.009459</td>\n",
       "      <td>11646.0</td>\n",
       "      <td>8.338142e-42</td>\n",
       "      <td>1.751010e-40</td>\n",
       "    </tr>\n",
       "    <tr>\n",
       "      <th>0</th>\n",
       "      <td>Pop</td>\n",
       "      <td>Bias</td>\n",
       "      <td>0.008279</td>\n",
       "      <td>14244.5</td>\n",
       "      <td>8.007782e-34</td>\n",
       "      <td>1.681634e-32</td>\n",
       "    </tr>\n",
       "    <tr>\n",
       "      <th>7</th>\n",
       "      <td>Bias</td>\n",
       "      <td>UUE</td>\n",
       "      <td>0.006689</td>\n",
       "      <td>102.5</td>\n",
       "      <td>7.515357e-54</td>\n",
       "      <td>1.578225e-52</td>\n",
       "    </tr>\n",
       "    <tr>\n",
       "      <th>6</th>\n",
       "      <td>Bias</td>\n",
       "      <td>IIE</td>\n",
       "      <td>0.006344</td>\n",
       "      <td>309.5</td>\n",
       "      <td>1.773504e-51</td>\n",
       "      <td>3.724359e-50</td>\n",
       "    </tr>\n",
       "    <tr>\n",
       "      <th>20</th>\n",
       "      <td>IALS</td>\n",
       "      <td>III</td>\n",
       "      <td>0.004344</td>\n",
       "      <td>45816.0</td>\n",
       "      <td>2.515203e-06</td>\n",
       "      <td>5.281925e-05</td>\n",
       "    </tr>\n",
       "    <tr>\n",
       "      <th>8</th>\n",
       "      <td>Bias</td>\n",
       "      <td>ALS</td>\n",
       "      <td>0.001180</td>\n",
       "      <td>8127.0</td>\n",
       "      <td>1.030720e-04</td>\n",
       "      <td>2.164512e-03</td>\n",
       "    </tr>\n",
       "    <tr>\n",
       "      <th>11</th>\n",
       "      <td>IIE</td>\n",
       "      <td>UUE</td>\n",
       "      <td>0.000344</td>\n",
       "      <td>31.5</td>\n",
       "      <td>4.291077e-04</td>\n",
       "      <td>9.011261e-03</td>\n",
       "    </tr>\n",
       "    <tr>\n",
       "      <th>12</th>\n",
       "      <td>IIE</td>\n",
       "      <td>ALS</td>\n",
       "      <td>-0.005164</td>\n",
       "      <td>365.5</td>\n",
       "      <td>1.202343e-43</td>\n",
       "      <td>2.524921e-42</td>\n",
       "    </tr>\n",
       "    <tr>\n",
       "      <th>5</th>\n",
       "      <td>Pop</td>\n",
       "      <td>III</td>\n",
       "      <td>-0.005475</td>\n",
       "      <td>39038.0</td>\n",
       "      <td>9.114037e-12</td>\n",
       "      <td>1.913948e-10</td>\n",
       "    </tr>\n",
       "    <tr>\n",
       "      <th>15</th>\n",
       "      <td>UUE</td>\n",
       "      <td>ALS</td>\n",
       "      <td>-0.005508</td>\n",
       "      <td>89.5</td>\n",
       "      <td>5.191624e-46</td>\n",
       "      <td>1.090241e-44</td>\n",
       "    </tr>\n",
       "    <tr>\n",
       "      <th>4</th>\n",
       "      <td>Pop</td>\n",
       "      <td>IALS</td>\n",
       "      <td>-0.009820</td>\n",
       "      <td>18788.5</td>\n",
       "      <td>1.430753e-33</td>\n",
       "      <td>3.004581e-32</td>\n",
       "    </tr>\n",
       "    <tr>\n",
       "      <th>10</th>\n",
       "      <td>Bias</td>\n",
       "      <td>III</td>\n",
       "      <td>-0.013754</td>\n",
       "      <td>11785.5</td>\n",
       "      <td>2.746743e-53</td>\n",
       "      <td>5.768159e-52</td>\n",
       "    </tr>\n",
       "    <tr>\n",
       "      <th>19</th>\n",
       "      <td>ALS</td>\n",
       "      <td>III</td>\n",
       "      <td>-0.014934</td>\n",
       "      <td>9740.0</td>\n",
       "      <td>1.553642e-59</td>\n",
       "      <td>3.262649e-58</td>\n",
       "    </tr>\n",
       "    <tr>\n",
       "      <th>9</th>\n",
       "      <td>Bias</td>\n",
       "      <td>IALS</td>\n",
       "      <td>-0.018098</td>\n",
       "      <td>3108.0</td>\n",
       "      <td>2.094645e-76</td>\n",
       "      <td>4.398754e-75</td>\n",
       "    </tr>\n",
       "    <tr>\n",
       "      <th>18</th>\n",
       "      <td>ALS</td>\n",
       "      <td>IALS</td>\n",
       "      <td>-0.019279</td>\n",
       "      <td>2410.0</td>\n",
       "      <td>4.051560e-78</td>\n",
       "      <td>8.508275e-77</td>\n",
       "    </tr>\n",
       "    <tr>\n",
       "      <th>14</th>\n",
       "      <td>IIE</td>\n",
       "      <td>III</td>\n",
       "      <td>-0.020098</td>\n",
       "      <td>553.0</td>\n",
       "      <td>1.547735e-84</td>\n",
       "      <td>3.250243e-83</td>\n",
       "    </tr>\n",
       "    <tr>\n",
       "      <th>17</th>\n",
       "      <td>UUE</td>\n",
       "      <td>III</td>\n",
       "      <td>-0.020443</td>\n",
       "      <td>0.0</td>\n",
       "      <td>2.796829e-85</td>\n",
       "      <td>5.873341e-84</td>\n",
       "    </tr>\n",
       "    <tr>\n",
       "      <th>13</th>\n",
       "      <td>IIE</td>\n",
       "      <td>IALS</td>\n",
       "      <td>-0.024443</td>\n",
       "      <td>274.0</td>\n",
       "      <td>1.296699e-92</td>\n",
       "      <td>2.723069e-91</td>\n",
       "    </tr>\n",
       "    <tr>\n",
       "      <th>16</th>\n",
       "      <td>UUE</td>\n",
       "      <td>IALS</td>\n",
       "      <td>-0.024787</td>\n",
       "      <td>0.0</td>\n",
       "      <td>8.479595e-93</td>\n",
       "      <td>1.780715e-91</td>\n",
       "    </tr>\n",
       "  </tbody>\n",
       "</table>\n",
       "</div>"
      ],
      "text/plain": [
       "      A1    A2      diff     stat             p         adj_p\n",
       "2    Pop   UUE  0.014967      0.0  2.307024e-77  4.844750e-76\n",
       "1    Pop   IIE  0.014623    766.5  2.759444e-76  5.794832e-75\n",
       "3    Pop   ALS  0.009459  11646.0  8.338142e-42  1.751010e-40\n",
       "0    Pop  Bias  0.008279  14244.5  8.007782e-34  1.681634e-32\n",
       "7   Bias   UUE  0.006689    102.5  7.515357e-54  1.578225e-52\n",
       "6   Bias   IIE  0.006344    309.5  1.773504e-51  3.724359e-50\n",
       "20  IALS   III  0.004344  45816.0  2.515203e-06  5.281925e-05\n",
       "8   Bias   ALS  0.001180   8127.0  1.030720e-04  2.164512e-03\n",
       "11   IIE   UUE  0.000344     31.5  4.291077e-04  9.011261e-03\n",
       "12   IIE   ALS -0.005164    365.5  1.202343e-43  2.524921e-42\n",
       "5    Pop   III -0.005475  39038.0  9.114037e-12  1.913948e-10\n",
       "15   UUE   ALS -0.005508     89.5  5.191624e-46  1.090241e-44\n",
       "4    Pop  IALS -0.009820  18788.5  1.430753e-33  3.004581e-32\n",
       "10  Bias   III -0.013754  11785.5  2.746743e-53  5.768159e-52\n",
       "19   ALS   III -0.014934   9740.0  1.553642e-59  3.262649e-58\n",
       "9   Bias  IALS -0.018098   3108.0  2.094645e-76  4.398754e-75\n",
       "18   ALS  IALS -0.019279   2410.0  4.051560e-78  8.508275e-77\n",
       "14   IIE   III -0.020098    553.0  1.547735e-84  3.250243e-83\n",
       "17   UUE   III -0.020443      0.0  2.796829e-85  5.873341e-84\n",
       "13   IIE  IALS -0.024443    274.0  1.296699e-92  2.723069e-91\n",
       "16   UUE  IALS -0.024787      0.0  8.479595e-93  1.780715e-91"
      ]
     },
     "execution_count": 21,
     "metadata": {},
     "output_type": "execute_result"
    }
   ],
   "source": [
    "am_wilcox('precision').sort_values('diff', ascending=False)"
   ]
  },
  {
   "cell_type": "markdown",
   "id": "8771a6d8",
   "metadata": {
    "papermill": {
     "duration": 0.02779,
     "end_time": "2022-02-17T20:46:35.289696",
     "exception": false,
     "start_time": "2022-02-17T20:46:35.261906",
     "status": "completed"
    },
    "tags": []
   },
   "source": [
    "We can consider pairs with an adjusted $p$ value less than 0.05 (5.0e-2) to be statistically significant.  However, we have so many data points, the substance of significance is questionable.  Pay attention to the 'diff' column, which is the difference between A1 and A2 (how much A1 outperforms A2)."
   ]
  },
  {
   "cell_type": "markdown",
   "id": "2871e7ff",
   "metadata": {
    "papermill": {
     "duration": 0.028565,
     "end_time": "2022-02-17T20:46:35.346468",
     "exception": false,
     "start_time": "2022-02-17T20:46:35.317903",
     "status": "completed"
    },
    "tags": []
   },
   "source": [
    "### nDCG"
   ]
  },
  {
   "cell_type": "markdown",
   "id": "fff02f17",
   "metadata": {
    "papermill": {
     "duration": 0.028349,
     "end_time": "2022-02-17T20:46:35.402826",
     "exception": false,
     "start_time": "2022-02-17T20:46:35.374477",
     "status": "completed"
    },
    "tags": []
   },
   "source": [
    "Now let's do the same for nDCG:"
   ]
  },
  {
   "cell_type": "code",
   "execution_count": 22,
   "id": "5e0712c8",
   "metadata": {
    "execution": {
     "iopub.execute_input": "2022-02-17T20:46:35.461196Z",
     "iopub.status.busy": "2022-02-17T20:46:35.461057Z",
     "iopub.status.idle": "2022-02-17T20:46:35.502665Z",
     "shell.execute_reply": "2022-02-17T20:46:35.502327Z"
    },
    "papermill": {
     "duration": 0.071517,
     "end_time": "2022-02-17T20:46:35.503855",
     "exception": false,
     "start_time": "2022-02-17T20:46:35.432338",
     "status": "completed"
    },
    "tags": []
   },
   "outputs": [
    {
     "data": {
      "text/plain": [
       "stat    1903.925886\n",
       "p          0.000000\n",
       "Name: ndcg, dtype: float64"
      ]
     },
     "execution_count": 22,
     "metadata": {},
     "output_type": "execute_result"
    }
   ],
   "source": [
    "metric_friedman('ndcg')"
   ]
  },
  {
   "cell_type": "code",
   "execution_count": 23,
   "id": "0db5e3ba",
   "metadata": {
    "execution": {
     "iopub.execute_input": "2022-02-17T20:46:35.561423Z",
     "iopub.status.busy": "2022-02-17T20:46:35.561127Z",
     "iopub.status.idle": "2022-02-17T20:46:35.614399Z",
     "shell.execute_reply": "2022-02-17T20:46:35.614057Z"
    },
    "papermill": {
     "duration": 0.08342,
     "end_time": "2022-02-17T20:46:35.615560",
     "exception": false,
     "start_time": "2022-02-17T20:46:35.532140",
     "status": "completed"
    },
    "tags": []
   },
   "outputs": [
    {
     "data": {
      "text/html": [
       "<div>\n",
       "<style scoped>\n",
       "    .dataframe tbody tr th:only-of-type {\n",
       "        vertical-align: middle;\n",
       "    }\n",
       "\n",
       "    .dataframe tbody tr th {\n",
       "        vertical-align: top;\n",
       "    }\n",
       "\n",
       "    .dataframe thead th {\n",
       "        text-align: right;\n",
       "    }\n",
       "</style>\n",
       "<table border=\"1\" class=\"dataframe\">\n",
       "  <thead>\n",
       "    <tr style=\"text-align: right;\">\n",
       "      <th></th>\n",
       "      <th>A1</th>\n",
       "      <th>A2</th>\n",
       "      <th>diff</th>\n",
       "      <th>stat</th>\n",
       "      <th>p</th>\n",
       "      <th>adj_p</th>\n",
       "    </tr>\n",
       "  </thead>\n",
       "  <tbody>\n",
       "    <tr>\n",
       "      <th>2</th>\n",
       "      <td>Pop</td>\n",
       "      <td>UUE</td>\n",
       "      <td>0.136646</td>\n",
       "      <td>0.0</td>\n",
       "      <td>8.731199e-76</td>\n",
       "      <td>1.833552e-74</td>\n",
       "    </tr>\n",
       "    <tr>\n",
       "      <th>1</th>\n",
       "      <td>Pop</td>\n",
       "      <td>IIE</td>\n",
       "      <td>0.134822</td>\n",
       "      <td>494.0</td>\n",
       "      <td>2.303073e-75</td>\n",
       "      <td>4.836453e-74</td>\n",
       "    </tr>\n",
       "    <tr>\n",
       "      <th>3</th>\n",
       "      <td>Pop</td>\n",
       "      <td>ALS</td>\n",
       "      <td>0.092153</td>\n",
       "      <td>19612.0</td>\n",
       "      <td>1.708743e-41</td>\n",
       "      <td>3.588361e-40</td>\n",
       "    </tr>\n",
       "    <tr>\n",
       "      <th>0</th>\n",
       "      <td>Pop</td>\n",
       "      <td>Bias</td>\n",
       "      <td>0.080078</td>\n",
       "      <td>24719.0</td>\n",
       "      <td>2.794862e-33</td>\n",
       "      <td>5.869209e-32</td>\n",
       "    </tr>\n",
       "    <tr>\n",
       "      <th>7</th>\n",
       "      <td>Bias</td>\n",
       "      <td>UUE</td>\n",
       "      <td>0.056569</td>\n",
       "      <td>24.0</td>\n",
       "      <td>7.451481e-50</td>\n",
       "      <td>1.564811e-48</td>\n",
       "    </tr>\n",
       "    <tr>\n",
       "      <th>6</th>\n",
       "      <td>Bias</td>\n",
       "      <td>IIE</td>\n",
       "      <td>0.054744</td>\n",
       "      <td>208.0</td>\n",
       "      <td>2.250263e-49</td>\n",
       "      <td>4.725552e-48</td>\n",
       "    </tr>\n",
       "    <tr>\n",
       "      <th>8</th>\n",
       "      <td>Bias</td>\n",
       "      <td>ALS</td>\n",
       "      <td>0.012076</td>\n",
       "      <td>22315.5</td>\n",
       "      <td>1.736337e-04</td>\n",
       "      <td>3.646308e-03</td>\n",
       "    </tr>\n",
       "    <tr>\n",
       "      <th>11</th>\n",
       "      <td>IIE</td>\n",
       "      <td>UUE</td>\n",
       "      <td>0.001825</td>\n",
       "      <td>32.0</td>\n",
       "      <td>7.477943e-04</td>\n",
       "      <td>1.570368e-02</td>\n",
       "    </tr>\n",
       "    <tr>\n",
       "      <th>20</th>\n",
       "      <td>IALS</td>\n",
       "      <td>III</td>\n",
       "      <td>-0.000566</td>\n",
       "      <td>90228.0</td>\n",
       "      <td>9.024057e-01</td>\n",
       "      <td>1.895052e+01</td>\n",
       "    </tr>\n",
       "    <tr>\n",
       "      <th>12</th>\n",
       "      <td>IIE</td>\n",
       "      <td>ALS</td>\n",
       "      <td>-0.042668</td>\n",
       "      <td>117.0</td>\n",
       "      <td>1.752191e-42</td>\n",
       "      <td>3.679600e-41</td>\n",
       "    </tr>\n",
       "    <tr>\n",
       "      <th>15</th>\n",
       "      <td>UUE</td>\n",
       "      <td>ALS</td>\n",
       "      <td>-0.044493</td>\n",
       "      <td>15.5</td>\n",
       "      <td>1.627027e-42</td>\n",
       "      <td>3.416757e-41</td>\n",
       "    </tr>\n",
       "    <tr>\n",
       "      <th>4</th>\n",
       "      <td>Pop</td>\n",
       "      <td>IALS</td>\n",
       "      <td>-0.074683</td>\n",
       "      <td>51556.0</td>\n",
       "      <td>1.603352e-16</td>\n",
       "      <td>3.367040e-15</td>\n",
       "    </tr>\n",
       "    <tr>\n",
       "      <th>5</th>\n",
       "      <td>Pop</td>\n",
       "      <td>III</td>\n",
       "      <td>-0.075248</td>\n",
       "      <td>55480.0</td>\n",
       "      <td>7.081465e-13</td>\n",
       "      <td>1.487108e-11</td>\n",
       "    </tr>\n",
       "    <tr>\n",
       "      <th>9</th>\n",
       "      <td>Bias</td>\n",
       "      <td>IALS</td>\n",
       "      <td>-0.154760</td>\n",
       "      <td>11643.0</td>\n",
       "      <td>2.686857e-69</td>\n",
       "      <td>5.642400e-68</td>\n",
       "    </tr>\n",
       "    <tr>\n",
       "      <th>10</th>\n",
       "      <td>Bias</td>\n",
       "      <td>III</td>\n",
       "      <td>-0.155326</td>\n",
       "      <td>20109.5</td>\n",
       "      <td>8.265370e-51</td>\n",
       "      <td>1.735728e-49</td>\n",
       "    </tr>\n",
       "    <tr>\n",
       "      <th>18</th>\n",
       "      <td>ALS</td>\n",
       "      <td>IALS</td>\n",
       "      <td>-0.166836</td>\n",
       "      <td>7620.0</td>\n",
       "      <td>1.154564e-77</td>\n",
       "      <td>2.424584e-76</td>\n",
       "    </tr>\n",
       "    <tr>\n",
       "      <th>19</th>\n",
       "      <td>ALS</td>\n",
       "      <td>III</td>\n",
       "      <td>-0.167402</td>\n",
       "      <td>16463.0</td>\n",
       "      <td>8.499856e-58</td>\n",
       "      <td>1.784970e-56</td>\n",
       "    </tr>\n",
       "    <tr>\n",
       "      <th>13</th>\n",
       "      <td>IIE</td>\n",
       "      <td>IALS</td>\n",
       "      <td>-0.209505</td>\n",
       "      <td>168.0</td>\n",
       "      <td>3.286094e-92</td>\n",
       "      <td>6.900798e-91</td>\n",
       "    </tr>\n",
       "    <tr>\n",
       "      <th>14</th>\n",
       "      <td>IIE</td>\n",
       "      <td>III</td>\n",
       "      <td>-0.210070</td>\n",
       "      <td>513.0</td>\n",
       "      <td>4.081429e-84</td>\n",
       "      <td>8.571000e-83</td>\n",
       "    </tr>\n",
       "    <tr>\n",
       "      <th>16</th>\n",
       "      <td>UUE</td>\n",
       "      <td>IALS</td>\n",
       "      <td>-0.211329</td>\n",
       "      <td>0.0</td>\n",
       "      <td>5.958534e-92</td>\n",
       "      <td>1.251292e-90</td>\n",
       "    </tr>\n",
       "    <tr>\n",
       "      <th>17</th>\n",
       "      <td>UUE</td>\n",
       "      <td>III</td>\n",
       "      <td>-0.211895</td>\n",
       "      <td>0.0</td>\n",
       "      <td>1.929936e-84</td>\n",
       "      <td>4.052865e-83</td>\n",
       "    </tr>\n",
       "  </tbody>\n",
       "</table>\n",
       "</div>"
      ],
      "text/plain": [
       "      A1    A2      diff     stat             p         adj_p\n",
       "2    Pop   UUE  0.136646      0.0  8.731199e-76  1.833552e-74\n",
       "1    Pop   IIE  0.134822    494.0  2.303073e-75  4.836453e-74\n",
       "3    Pop   ALS  0.092153  19612.0  1.708743e-41  3.588361e-40\n",
       "0    Pop  Bias  0.080078  24719.0  2.794862e-33  5.869209e-32\n",
       "7   Bias   UUE  0.056569     24.0  7.451481e-50  1.564811e-48\n",
       "6   Bias   IIE  0.054744    208.0  2.250263e-49  4.725552e-48\n",
       "8   Bias   ALS  0.012076  22315.5  1.736337e-04  3.646308e-03\n",
       "11   IIE   UUE  0.001825     32.0  7.477943e-04  1.570368e-02\n",
       "20  IALS   III -0.000566  90228.0  9.024057e-01  1.895052e+01\n",
       "12   IIE   ALS -0.042668    117.0  1.752191e-42  3.679600e-41\n",
       "15   UUE   ALS -0.044493     15.5  1.627027e-42  3.416757e-41\n",
       "4    Pop  IALS -0.074683  51556.0  1.603352e-16  3.367040e-15\n",
       "5    Pop   III -0.075248  55480.0  7.081465e-13  1.487108e-11\n",
       "9   Bias  IALS -0.154760  11643.0  2.686857e-69  5.642400e-68\n",
       "10  Bias   III -0.155326  20109.5  8.265370e-51  1.735728e-49\n",
       "18   ALS  IALS -0.166836   7620.0  1.154564e-77  2.424584e-76\n",
       "19   ALS   III -0.167402  16463.0  8.499856e-58  1.784970e-56\n",
       "13   IIE  IALS -0.209505    168.0  3.286094e-92  6.900798e-91\n",
       "14   IIE   III -0.210070    513.0  4.081429e-84  8.571000e-83\n",
       "16   UUE  IALS -0.211329      0.0  5.958534e-92  1.251292e-90\n",
       "17   UUE   III -0.211895      0.0  1.929936e-84  4.052865e-83"
      ]
     },
     "execution_count": 23,
     "metadata": {},
     "output_type": "execute_result"
    }
   ],
   "source": [
    "am_wilcox('ndcg').sort_values('diff', ascending=False)"
   ]
  },
  {
   "cell_type": "markdown",
   "id": "7b7683ac",
   "metadata": {
    "papermill": {
     "duration": 0.029469,
     "end_time": "2022-02-17T20:46:35.673734",
     "exception": false,
     "start_time": "2022-02-17T20:46:35.644265",
     "status": "completed"
    },
    "tags": []
   },
   "source": [
    "### Reciprocal Rank\n",
    "\n",
    "We'll do this also for reciprocal rank (what is aggregated to compute MRR):"
   ]
  },
  {
   "cell_type": "code",
   "execution_count": 24,
   "id": "89cdef5d",
   "metadata": {
    "execution": {
     "iopub.execute_input": "2022-02-17T20:46:35.731303Z",
     "iopub.status.busy": "2022-02-17T20:46:35.731165Z",
     "iopub.status.idle": "2022-02-17T20:46:35.768991Z",
     "shell.execute_reply": "2022-02-17T20:46:35.768648Z"
    },
    "papermill": {
     "duration": 0.068973,
     "end_time": "2022-02-17T20:46:35.770216",
     "exception": false,
     "start_time": "2022-02-17T20:46:35.701243",
     "status": "completed"
    },
    "tags": []
   },
   "outputs": [
    {
     "data": {
      "text/plain": [
       "stat    1813.103827\n",
       "p          0.000000\n",
       "Name: recip_rank, dtype: float64"
      ]
     },
     "execution_count": 24,
     "metadata": {},
     "output_type": "execute_result"
    }
   ],
   "source": [
    "metric_friedman('recip_rank')"
   ]
  },
  {
   "cell_type": "code",
   "execution_count": 25,
   "id": "83598292",
   "metadata": {
    "execution": {
     "iopub.execute_input": "2022-02-17T20:46:35.828053Z",
     "iopub.status.busy": "2022-02-17T20:46:35.827634Z",
     "iopub.status.idle": "2022-02-17T20:46:35.881049Z",
     "shell.execute_reply": "2022-02-17T20:46:35.880673Z"
    },
    "papermill": {
     "duration": 0.083028,
     "end_time": "2022-02-17T20:46:35.882334",
     "exception": false,
     "start_time": "2022-02-17T20:46:35.799306",
     "status": "completed"
    },
    "tags": []
   },
   "outputs": [
    {
     "data": {
      "text/html": [
       "<div>\n",
       "<style scoped>\n",
       "    .dataframe tbody tr th:only-of-type {\n",
       "        vertical-align: middle;\n",
       "    }\n",
       "\n",
       "    .dataframe tbody tr th {\n",
       "        vertical-align: top;\n",
       "    }\n",
       "\n",
       "    .dataframe thead th {\n",
       "        text-align: right;\n",
       "    }\n",
       "</style>\n",
       "<table border=\"1\" class=\"dataframe\">\n",
       "  <thead>\n",
       "    <tr style=\"text-align: right;\">\n",
       "      <th></th>\n",
       "      <th>A1</th>\n",
       "      <th>A2</th>\n",
       "      <th>diff</th>\n",
       "      <th>stat</th>\n",
       "      <th>p</th>\n",
       "      <th>adj_p</th>\n",
       "    </tr>\n",
       "  </thead>\n",
       "  <tbody>\n",
       "    <tr>\n",
       "      <th>2</th>\n",
       "      <td>Pop</td>\n",
       "      <td>UUE</td>\n",
       "      <td>0.178722</td>\n",
       "      <td>74.0</td>\n",
       "      <td>1.251841e-75</td>\n",
       "      <td>2.628865e-74</td>\n",
       "    </tr>\n",
       "    <tr>\n",
       "      <th>1</th>\n",
       "      <td>Pop</td>\n",
       "      <td>IIE</td>\n",
       "      <td>0.178140</td>\n",
       "      <td>297.5</td>\n",
       "      <td>5.721867e-76</td>\n",
       "      <td>1.201592e-74</td>\n",
       "    </tr>\n",
       "    <tr>\n",
       "      <th>3</th>\n",
       "      <td>Pop</td>\n",
       "      <td>ALS</td>\n",
       "      <td>0.128536</td>\n",
       "      <td>24463.0</td>\n",
       "      <td>5.916999e-32</td>\n",
       "      <td>1.242570e-30</td>\n",
       "    </tr>\n",
       "    <tr>\n",
       "      <th>0</th>\n",
       "      <td>Pop</td>\n",
       "      <td>Bias</td>\n",
       "      <td>0.100733</td>\n",
       "      <td>29133.0</td>\n",
       "      <td>2.559135e-24</td>\n",
       "      <td>5.374184e-23</td>\n",
       "    </tr>\n",
       "    <tr>\n",
       "      <th>7</th>\n",
       "      <td>Bias</td>\n",
       "      <td>UUE</td>\n",
       "      <td>0.077988</td>\n",
       "      <td>22.0</td>\n",
       "      <td>7.044437e-50</td>\n",
       "      <td>1.479332e-48</td>\n",
       "    </tr>\n",
       "    <tr>\n",
       "      <th>6</th>\n",
       "      <td>Bias</td>\n",
       "      <td>IIE</td>\n",
       "      <td>0.077406</td>\n",
       "      <td>143.0</td>\n",
       "      <td>1.142619e-49</td>\n",
       "      <td>2.399500e-48</td>\n",
       "    </tr>\n",
       "    <tr>\n",
       "      <th>8</th>\n",
       "      <td>Bias</td>\n",
       "      <td>ALS</td>\n",
       "      <td>0.027803</td>\n",
       "      <td>22182.5</td>\n",
       "      <td>7.842539e-04</td>\n",
       "      <td>1.646933e-02</td>\n",
       "    </tr>\n",
       "    <tr>\n",
       "      <th>11</th>\n",
       "      <td>IIE</td>\n",
       "      <td>UUE</td>\n",
       "      <td>0.000582</td>\n",
       "      <td>46.0</td>\n",
       "      <td>2.952485e-03</td>\n",
       "      <td>6.200218e-02</td>\n",
       "    </tr>\n",
       "    <tr>\n",
       "      <th>4</th>\n",
       "      <td>Pop</td>\n",
       "      <td>IALS</td>\n",
       "      <td>-0.033450</td>\n",
       "      <td>64862.5</td>\n",
       "      <td>1.316958e-04</td>\n",
       "      <td>2.765612e-03</td>\n",
       "    </tr>\n",
       "    <tr>\n",
       "      <th>12</th>\n",
       "      <td>IIE</td>\n",
       "      <td>ALS</td>\n",
       "      <td>-0.049603</td>\n",
       "      <td>133.5</td>\n",
       "      <td>2.112878e-42</td>\n",
       "      <td>4.437044e-41</td>\n",
       "    </tr>\n",
       "    <tr>\n",
       "      <th>15</th>\n",
       "      <td>UUE</td>\n",
       "      <td>ALS</td>\n",
       "      <td>-0.050185</td>\n",
       "      <td>31.0</td>\n",
       "      <td>1.937577e-42</td>\n",
       "      <td>4.068913e-41</td>\n",
       "    </tr>\n",
       "    <tr>\n",
       "      <th>20</th>\n",
       "      <td>IALS</td>\n",
       "      <td>III</td>\n",
       "      <td>-0.078339</td>\n",
       "      <td>72357.0</td>\n",
       "      <td>1.710583e-03</td>\n",
       "      <td>3.592224e-02</td>\n",
       "    </tr>\n",
       "    <tr>\n",
       "      <th>5</th>\n",
       "      <td>Pop</td>\n",
       "      <td>III</td>\n",
       "      <td>-0.111790</td>\n",
       "      <td>53528.0</td>\n",
       "      <td>1.379504e-10</td>\n",
       "      <td>2.896959e-09</td>\n",
       "    </tr>\n",
       "    <tr>\n",
       "      <th>9</th>\n",
       "      <td>Bias</td>\n",
       "      <td>IALS</td>\n",
       "      <td>-0.134184</td>\n",
       "      <td>24178.0</td>\n",
       "      <td>4.636754e-45</td>\n",
       "      <td>9.737183e-44</td>\n",
       "    </tr>\n",
       "    <tr>\n",
       "      <th>18</th>\n",
       "      <td>ALS</td>\n",
       "      <td>IALS</td>\n",
       "      <td>-0.161987</td>\n",
       "      <td>17436.0</td>\n",
       "      <td>7.302922e-57</td>\n",
       "      <td>1.533614e-55</td>\n",
       "    </tr>\n",
       "    <tr>\n",
       "      <th>13</th>\n",
       "      <td>IIE</td>\n",
       "      <td>IALS</td>\n",
       "      <td>-0.211590</td>\n",
       "      <td>277.0</td>\n",
       "      <td>5.217574e-92</td>\n",
       "      <td>1.095690e-90</td>\n",
       "    </tr>\n",
       "    <tr>\n",
       "      <th>16</th>\n",
       "      <td>UUE</td>\n",
       "      <td>IALS</td>\n",
       "      <td>-0.212172</td>\n",
       "      <td>0.0</td>\n",
       "      <td>5.205477e-92</td>\n",
       "      <td>1.093150e-90</td>\n",
       "    </tr>\n",
       "    <tr>\n",
       "      <th>10</th>\n",
       "      <td>Bias</td>\n",
       "      <td>III</td>\n",
       "      <td>-0.212523</td>\n",
       "      <td>24038.5</td>\n",
       "      <td>2.993856e-42</td>\n",
       "      <td>6.287098e-41</td>\n",
       "    </tr>\n",
       "    <tr>\n",
       "      <th>19</th>\n",
       "      <td>ALS</td>\n",
       "      <td>III</td>\n",
       "      <td>-0.240326</td>\n",
       "      <td>20140.5</td>\n",
       "      <td>1.428743e-50</td>\n",
       "      <td>3.000360e-49</td>\n",
       "    </tr>\n",
       "    <tr>\n",
       "      <th>14</th>\n",
       "      <td>IIE</td>\n",
       "      <td>III</td>\n",
       "      <td>-0.289929</td>\n",
       "      <td>448.0</td>\n",
       "      <td>1.575255e-84</td>\n",
       "      <td>3.308036e-83</td>\n",
       "    </tr>\n",
       "    <tr>\n",
       "      <th>17</th>\n",
       "      <td>UUE</td>\n",
       "      <td>III</td>\n",
       "      <td>-0.290511</td>\n",
       "      <td>0.0</td>\n",
       "      <td>1.054657e-84</td>\n",
       "      <td>2.214779e-83</td>\n",
       "    </tr>\n",
       "  </tbody>\n",
       "</table>\n",
       "</div>"
      ],
      "text/plain": [
       "      A1    A2      diff     stat             p         adj_p\n",
       "2    Pop   UUE  0.178722     74.0  1.251841e-75  2.628865e-74\n",
       "1    Pop   IIE  0.178140    297.5  5.721867e-76  1.201592e-74\n",
       "3    Pop   ALS  0.128536  24463.0  5.916999e-32  1.242570e-30\n",
       "0    Pop  Bias  0.100733  29133.0  2.559135e-24  5.374184e-23\n",
       "7   Bias   UUE  0.077988     22.0  7.044437e-50  1.479332e-48\n",
       "6   Bias   IIE  0.077406    143.0  1.142619e-49  2.399500e-48\n",
       "8   Bias   ALS  0.027803  22182.5  7.842539e-04  1.646933e-02\n",
       "11   IIE   UUE  0.000582     46.0  2.952485e-03  6.200218e-02\n",
       "4    Pop  IALS -0.033450  64862.5  1.316958e-04  2.765612e-03\n",
       "12   IIE   ALS -0.049603    133.5  2.112878e-42  4.437044e-41\n",
       "15   UUE   ALS -0.050185     31.0  1.937577e-42  4.068913e-41\n",
       "20  IALS   III -0.078339  72357.0  1.710583e-03  3.592224e-02\n",
       "5    Pop   III -0.111790  53528.0  1.379504e-10  2.896959e-09\n",
       "9   Bias  IALS -0.134184  24178.0  4.636754e-45  9.737183e-44\n",
       "18   ALS  IALS -0.161987  17436.0  7.302922e-57  1.533614e-55\n",
       "13   IIE  IALS -0.211590    277.0  5.217574e-92  1.095690e-90\n",
       "16   UUE  IALS -0.212172      0.0  5.205477e-92  1.093150e-90\n",
       "10  Bias   III -0.212523  24038.5  2.993856e-42  6.287098e-41\n",
       "19   ALS   III -0.240326  20140.5  1.428743e-50  3.000360e-49\n",
       "14   IIE   III -0.289929    448.0  1.575255e-84  3.308036e-83\n",
       "17   UUE   III -0.290511      0.0  1.054657e-84  2.214779e-83"
      ]
     },
     "execution_count": 25,
     "metadata": {},
     "output_type": "execute_result"
    }
   ],
   "source": [
    "am_wilcox('recip_rank').sort_values('diff', ascending=False)"
   ]
  },
  {
   "cell_type": "markdown",
   "id": "543770a8",
   "metadata": {
    "papermill": {
     "duration": 0.029669,
     "end_time": "2022-02-17T20:46:35.941482",
     "exception": false,
     "start_time": "2022-02-17T20:46:35.911813",
     "status": "completed"
    },
    "tags": []
   },
   "source": [
    "## Prediction RMSE\n",
    "\n",
    "We will also look at the prediction RMSE."
   ]
  },
  {
   "cell_type": "code",
   "execution_count": 26,
   "id": "deec9f37",
   "metadata": {
    "execution": {
     "iopub.execute_input": "2022-02-17T20:46:36.003502Z",
     "iopub.status.busy": "2022-02-17T20:46:36.003356Z",
     "iopub.status.idle": "2022-02-17T20:46:37.752794Z",
     "shell.execute_reply": "2022-02-17T20:46:37.752227Z"
    },
    "papermill": {
     "duration": 1.782197,
     "end_time": "2022-02-17T20:46:37.754383",
     "exception": false,
     "start_time": "2022-02-17T20:46:35.972186",
     "status": "completed"
    },
    "tags": []
   },
   "outputs": [],
   "source": [
    "user_rmse = preds.groupby(['algorithm', 'user']).apply(lambda df: rmse(df['prediction'], df['rating']))\n",
    "user_rmse = user_rmse.reset_index(name='RMSE')"
   ]
  },
  {
   "cell_type": "code",
   "execution_count": 27,
   "id": "51c54912",
   "metadata": {
    "execution": {
     "iopub.execute_input": "2022-02-17T20:46:37.815063Z",
     "iopub.status.busy": "2022-02-17T20:46:37.814899Z",
     "iopub.status.idle": "2022-02-17T20:46:38.057205Z",
     "shell.execute_reply": "2022-02-17T20:46:38.056851Z"
    },
    "papermill": {
     "duration": 0.274263,
     "end_time": "2022-02-17T20:46:38.058350",
     "exception": false,
     "start_time": "2022-02-17T20:46:37.784087",
     "status": "completed"
    },
    "tags": []
   },
   "outputs": [
    {
     "data": {
      "text/plain": [
       "<seaborn.axisgrid.FacetGrid at 0x7fffccb93880>"
      ]
     },
     "execution_count": 27,
     "metadata": {},
     "output_type": "execute_result"
    },
    {
     "data": {
      "image/png": "[encoded data removed]",
      "text/plain": [
       "<Figure size 360x360 with 1 Axes>"
      ]
     },
     "metadata": {
      "needs_background": "light"
     },
     "output_type": "display_data"
    }
   ],
   "source": [
    "sns.catplot(x='algorithm', y='RMSE', data=user_rmse, kind='bar')"
   ]
  },
  {
   "cell_type": "code",
   "execution_count": null,
   "id": "8648409a",
   "metadata": {
    "papermill": {
     "duration": 0.030642,
     "end_time": "2022-02-17T20:46:38.119911",
     "exception": false,
     "start_time": "2022-02-17T20:46:38.089269",
     "status": "completed"
    },
    "tags": []
   },
   "outputs": [],
   "source": []
  }
 ],
 "metadata": {
  "kernelspec": {
   "display_name": "Python 3 (ipykernel)",
   "language": "python",
   "name": "python3"
  },
  "language_info": {
   "codemirror_mode": {
    "name": "ipython",
    "version": 3
   },
   "file_extension": ".py",
   "mimetype": "text/x-python",
   "name": "python",
   "nbconvert_exporter": "python",
   "pygments_lexer": "ipython3",
   "version": "3.9.10"
  },
  "papermill": {
   "default_parameters": {},
   "duration": 18.488744,
   "end_time": "2022-02-17T20:46:38.568254",
   "environment_variables": {},
   "exception": null,
   "input_path": "eval-report.ipynb",
   "output_path": "eval-report.mlsmall.ipynb",
   "parameters": {
    "dataset": "mlsmall"
   },
   "start_time": "2022-02-17T20:46:20.079510",
   "version": "2.3.4"
  }
 },
 "nbformat": 4,
 "nbformat_minor": 5
}