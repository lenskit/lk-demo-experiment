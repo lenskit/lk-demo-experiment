{
 "cells": [
  {
   "cell_type": "markdown",
   "id": "41ff549a",
   "metadata": {
    "papermill": {
     "duration": 0.022006,
     "end_time": "2022-02-16T02:03:35.032071",
     "exception": false,
     "start_time": "2022-02-16T02:03:35.010065",
     "status": "completed"
    },
    "tags": []
   },
   "source": [
    "# Evaluation Analysis for Recommender Output"
   ]
  },
  {
   "cell_type": "markdown",
   "id": "acf495e8",
   "metadata": {
    "papermill": {
     "duration": 0.021998,
     "end_time": "2022-02-16T02:03:35.077071",
     "exception": false,
     "start_time": "2022-02-16T02:03:35.055073",
     "status": "completed"
    },
    "tags": []
   },
   "source": [
    "In this section we will analyze and compare the generated recommendations and predictions from a predefined list of algorithms with the goal of assessing the performance of each algorithm with respect to a metric. In other words, we would rank the algorithms for each metric considered with respect to performance."
   ]
  },
  {
   "cell_type": "markdown",
   "id": "88548a06",
   "metadata": {
    "papermill": {
     "duration": 0.021999,
     "end_time": "2022-02-16T02:03:35.122070",
     "exception": false,
     "start_time": "2022-02-16T02:03:35.100071",
     "status": "completed"
    },
    "tags": []
   },
   "source": [
    "# Setup"
   ]
  },
  {
   "cell_type": "markdown",
   "id": "27b1ad02",
   "metadata": {
    "papermill": {
     "duration": 0.022,
     "end_time": "2022-02-16T02:03:35.166070",
     "exception": false,
     "start_time": "2022-02-16T02:03:35.144070",
     "status": "completed"
    },
    "tags": []
   },
   "source": [
    "Below are the list of packages required to successfully run the analysis. They are divided into partitions to signify their specific task.<br>\n",
    "We need the pathlib package for working with files and folders"
   ]
  },
  {
   "cell_type": "code",
   "execution_count": 1,
   "id": "93090393",
   "metadata": {
    "execution": {
     "iopub.execute_input": "2022-02-16T02:03:35.211675Z",
     "iopub.status.busy": "2022-02-16T02:03:35.211675Z",
     "iopub.status.idle": "2022-02-16T02:03:35.226682Z",
     "shell.execute_reply": "2022-02-16T02:03:35.225681Z"
    },
    "papermill": {
     "duration": 0.039605,
     "end_time": "2022-02-16T02:03:35.227675",
     "exception": false,
     "start_time": "2022-02-16T02:03:35.188070",
     "status": "completed"
    },
    "tags": []
   },
   "outputs": [],
   "source": [
    "from pathlib import Path"
   ]
  },
  {
   "cell_type": "markdown",
   "id": "fb0694f4",
   "metadata": {
    "papermill": {
     "duration": 0.023001,
     "end_time": "2022-02-16T02:03:35.272708",
     "exception": false,
     "start_time": "2022-02-16T02:03:35.249707",
     "status": "completed"
    },
    "tags": []
   },
   "source": [
    "We would use the pandas for analyzing and manipulating our data while seaborn and matplotlib are used for data visualization. statsmodels.graphics.gofplots and scipy.stats.shapiro are used for normality check. Scipy.stats.friedmanchisquare is a non-parametric test used to determine the statistical significance in metric results and the wilcoxon test is used for pairwise comparison of sample data."
   ]
  },
  {
   "cell_type": "code",
   "execution_count": 2,
   "id": "25e4dbf7",
   "metadata": {
    "execution": {
     "iopub.execute_input": "2022-02-16T02:03:35.317675Z",
     "iopub.status.busy": "2022-02-16T02:03:35.317675Z",
     "iopub.status.idle": "2022-02-16T02:03:36.795305Z",
     "shell.execute_reply": "2022-02-16T02:03:36.795305Z"
    },
    "papermill": {
     "duration": 1.502598,
     "end_time": "2022-02-16T02:03:36.797306",
     "exception": false,
     "start_time": "2022-02-16T02:03:35.294708",
     "status": "completed"
    },
    "tags": []
   },
   "outputs": [],
   "source": [
    "import pandas as pd\n",
    "import seaborn as sns\n",
    "import matplotlib.pyplot as plt\n",
    "from statsmodels.graphics.gofplots import qqplot\n",
    "from scipy.stats import shapiro\n",
    "from scipy.stats import friedmanchisquare, wilcoxon\n",
    "from itertools import combinations"
   ]
  },
  {
   "cell_type": "markdown",
   "id": "b6ab7d67",
   "metadata": {
    "papermill": {
     "duration": 0.022001,
     "end_time": "2022-02-16T02:03:36.841305",
     "exception": false,
     "start_time": "2022-02-16T02:03:36.819304",
     "status": "completed"
    },
    "tags": []
   },
   "source": [
    "Logging to show what's happening in LensKit routines:"
   ]
  },
  {
   "cell_type": "code",
   "execution_count": 3,
   "id": "52a6092d",
   "metadata": {
    "execution": {
     "iopub.execute_input": "2022-02-16T02:03:36.887341Z",
     "iopub.status.busy": "2022-02-16T02:03:36.887341Z",
     "iopub.status.idle": "2022-02-16T02:03:36.923976Z",
     "shell.execute_reply": "2022-02-16T02:03:36.923123Z"
    },
    "papermill": {
     "duration": 0.0607,
     "end_time": "2022-02-16T02:03:36.925007",
     "exception": false,
     "start_time": "2022-02-16T02:03:36.864307",
     "status": "completed"
    },
    "tags": []
   },
   "outputs": [
    {
     "name": "stdout",
     "output_type": "stream",
     "text": [
      "[   INFO] lenskit.util.log notebook logging configured\n"
     ]
    }
   ],
   "source": [
    "from lenskit import util\n",
    "util.log_to_notebook()"
   ]
  },
  {
   "cell_type": "markdown",
   "id": "2e9563cb",
   "metadata": {
    "papermill": {
     "duration": 0.024999,
     "end_time": "2022-02-16T02:03:36.975006",
     "exception": false,
     "start_time": "2022-02-16T02:03:36.950007",
     "status": "completed"
    },
    "tags": []
   },
   "source": [
    "We will use lenskit for training, running, and evaluating recommender algorithms"
   ]
  },
  {
   "cell_type": "code",
   "execution_count": 4,
   "id": "389b0ba3",
   "metadata": {
    "execution": {
     "iopub.execute_input": "2022-02-16T02:03:37.022974Z",
     "iopub.status.busy": "2022-02-16T02:03:37.022974Z",
     "iopub.status.idle": "2022-02-16T02:03:37.034976Z",
     "shell.execute_reply": "2022-02-16T02:03:37.034124Z"
    },
    "papermill": {
     "duration": 0.03704,
     "end_time": "2022-02-16T02:03:37.036016",
     "exception": false,
     "start_time": "2022-02-16T02:03:36.998976",
     "status": "completed"
    },
    "tags": []
   },
   "outputs": [],
   "source": [
    "from lenskit import topn\n",
    "from lenskit.metrics.predict import rmse"
   ]
  },
  {
   "cell_type": "markdown",
   "id": "64c2074a",
   "metadata": {
    "papermill": {
     "duration": 0.025998,
     "end_time": "2022-02-16T02:03:37.085974",
     "exception": false,
     "start_time": "2022-02-16T02:03:37.059976",
     "status": "completed"
    },
    "tags": []
   },
   "source": [
    "# Load Data"
   ]
  },
  {
   "cell_type": "markdown",
   "id": "e4f7ffb9",
   "metadata": {
    "papermill": {
     "duration": 0.025,
     "end_time": "2022-02-16T02:03:37.134974",
     "exception": false,
     "start_time": "2022-02-16T02:03:37.109974",
     "status": "completed"
    },
    "tags": []
   },
   "source": [
    "We specify the dataset we will use for our analysis and the main directory from where we read the recommendation and prediction files. From the main directory we find all the directories associated with the dataset and then read the recommendation and predictions files from those directories."
   ]
  },
  {
   "cell_type": "code",
   "execution_count": 5,
   "id": "8cf7bcbe",
   "metadata": {
    "execution": {
     "iopub.execute_input": "2022-02-16T02:03:37.182974Z",
     "iopub.status.busy": "2022-02-16T02:03:37.182974Z",
     "iopub.status.idle": "2022-02-16T02:03:37.188031Z",
     "shell.execute_reply": "2022-02-16T02:03:37.188031Z"
    },
    "papermill": {
     "duration": 0.031,
     "end_time": "2022-02-16T02:03:37.189974",
     "exception": false,
     "start_time": "2022-02-16T02:03:37.158974",
     "status": "completed"
    },
    "tags": [
     "parameters"
    ]
   },
   "outputs": [],
   "source": [
    "dataset = \"ml10m\""
   ]
  },
  {
   "cell_type": "code",
   "execution_count": 6,
   "id": "afc414c0",
   "metadata": {
    "execution": {
     "iopub.execute_input": "2022-02-16T02:03:37.237614Z",
     "iopub.status.busy": "2022-02-16T02:03:37.237614Z",
     "iopub.status.idle": "2022-02-16T02:03:37.251316Z",
     "shell.execute_reply": "2022-02-16T02:03:37.250354Z"
    },
    "papermill": {
     "duration": 0.039325,
     "end_time": "2022-02-16T02:03:37.252330",
     "exception": false,
     "start_time": "2022-02-16T02:03:37.213005",
     "status": "completed"
    },
    "tags": [
     "injected-parameters"
    ]
   },
   "outputs": [],
   "source": [
    "# Parameters\n",
    "dataset = \"ml10m\"\n"
   ]
  },
  {
   "cell_type": "code",
   "execution_count": 7,
   "id": "35a73192",
   "metadata": {
    "execution": {
     "iopub.execute_input": "2022-02-16T02:03:37.300357Z",
     "iopub.status.busy": "2022-02-16T02:03:37.300357Z",
     "iopub.status.idle": "2022-02-16T02:03:37.312779Z",
     "shell.execute_reply": "2022-02-16T02:03:37.311769Z"
    },
    "papermill": {
     "duration": 0.037459,
     "end_time": "2022-02-16T02:03:37.313813",
     "exception": false,
     "start_time": "2022-02-16T02:03:37.276354",
     "status": "completed"
    },
    "tags": []
   },
   "outputs": [],
   "source": [
    "output_root = Path(\"runs\")"
   ]
  },
  {
   "cell_type": "code",
   "execution_count": 8,
   "id": "e7c46bc2",
   "metadata": {
    "execution": {
     "iopub.execute_input": "2022-02-16T02:03:37.366481Z",
     "iopub.status.busy": "2022-02-16T02:03:37.365847Z",
     "iopub.status.idle": "2022-02-16T02:03:37.375746Z",
     "shell.execute_reply": "2022-02-16T02:03:37.374730Z"
    },
    "papermill": {
     "duration": 0.040939,
     "end_time": "2022-02-16T02:03:37.378749",
     "exception": false,
     "start_time": "2022-02-16T02:03:37.337810",
     "status": "completed"
    },
    "tags": []
   },
   "outputs": [],
   "source": [
    "dirs = [fld for fld in output_root.glob(f'{dataset}-*')]"
   ]
  },
  {
   "cell_type": "code",
   "execution_count": 9,
   "id": "51815170",
   "metadata": {
    "execution": {
     "iopub.execute_input": "2022-02-16T02:03:37.448361Z",
     "iopub.status.busy": "2022-02-16T02:03:37.448361Z",
     "iopub.status.idle": "2022-02-16T02:03:57.375447Z",
     "shell.execute_reply": "2022-02-16T02:03:57.375447Z"
    },
    "papermill": {
     "duration": 19.962656,
     "end_time": "2022-02-16T02:03:57.377416",
     "exception": false,
     "start_time": "2022-02-16T02:03:37.414760",
     "status": "completed"
    },
    "tags": []
   },
   "outputs": [
    {
     "name": "stdout",
     "output_type": "stream",
     "text": [
      "<class 'pandas.core.frame.DataFrame'>\n",
      "RangeIndex: 41923000 entries, 0 to 41922999\n",
      "Data columns (total 5 columns):\n",
      " #   Column     Dtype   \n",
      "---  ------     -----   \n",
      " 0   item       int64   \n",
      " 1   score      float64 \n",
      " 2   user       int64   \n",
      " 3   rank       int64   \n",
      " 4   algorithm  category\n",
      "dtypes: category(1), float64(1), int64(3)\n",
      "memory usage: 1.3 GB\n"
     ]
    }
   ],
   "source": [
    "recs = []\n",
    "for fld in dirs: \n",
    "    for file in fld.glob(\"recs-*\"):\n",
    "        rec = pd.read_csv(file, sep=',')\n",
    "        rec[\"algorithm\"] = fld.name.split(\"-\")[1]\n",
    "        recs.append(rec)\n",
    "\n",
    "recs = pd.concat(recs, ignore_index=True)\n",
    "recs = recs.astype({'algorithm': 'category'})\n",
    "recs.info()"
   ]
  },
  {
   "cell_type": "code",
   "execution_count": 10,
   "id": "c5b6eec6",
   "metadata": {
    "execution": {
     "iopub.execute_input": "2022-02-16T02:03:57.428550Z",
     "iopub.status.busy": "2022-02-16T02:03:57.427582Z",
     "iopub.status.idle": "2022-02-16T02:03:57.674693Z",
     "shell.execute_reply": "2022-02-16T02:03:57.673672Z"
    },
    "papermill": {
     "duration": 0.273122,
     "end_time": "2022-02-16T02:03:57.675640",
     "exception": false,
     "start_time": "2022-02-16T02:03:57.402518",
     "status": "completed"
    },
    "tags": []
   },
   "outputs": [
    {
     "data": {
      "text/plain": [
       "['ALS', 'Bias', 'IALS', 'II', 'Pop', 'UU']\n",
       "Categories (6, object): ['ALS', 'Bias', 'IALS', 'II', 'Pop', 'UU']"
      ]
     },
     "execution_count": 10,
     "metadata": {},
     "output_type": "execute_result"
    }
   ],
   "source": [
    "rec_algos = recs['algorithm'].unique()\n",
    "rec_algos"
   ]
  },
  {
   "cell_type": "code",
   "execution_count": 11,
   "id": "ac0773ab",
   "metadata": {
    "execution": {
     "iopub.execute_input": "2022-02-16T02:03:57.726683Z",
     "iopub.status.busy": "2022-02-16T02:03:57.726683Z",
     "iopub.status.idle": "2022-02-16T02:03:59.143837Z",
     "shell.execute_reply": "2022-02-16T02:03:59.143837Z"
    },
    "papermill": {
     "duration": 1.445175,
     "end_time": "2022-02-16T02:03:59.144814",
     "exception": false,
     "start_time": "2022-02-16T02:03:57.699639",
     "status": "completed"
    },
    "tags": []
   },
   "outputs": [
    {
     "name": "stdout",
     "output_type": "stream",
     "text": [
      "<class 'pandas.core.frame.DataFrame'>\n",
      "RangeIndex: 1746950 entries, 0 to 1746949\n",
      "Data columns (total 6 columns):\n",
      " #   Column      Dtype   \n",
      "---  ------      -----   \n",
      " 0   user        int64   \n",
      " 1   item        int64   \n",
      " 2   rating      float64 \n",
      " 3   timestamp   int64   \n",
      " 4   prediction  float64 \n",
      " 5   algorithm   category\n",
      "dtypes: category(1), float64(2), int64(3)\n",
      "memory usage: 68.3 MB\n"
     ]
    }
   ],
   "source": [
    "preds = []\n",
    "for fld in dirs:\n",
    "    for file in fld.glob(\"pred-*\"):\n",
    "        pred = pd.read_csv(file, sep=',')\n",
    "        pred[\"algorithm\"] = fld.name.split(\"-\")[1]\n",
    "        preds.append(pred)\n",
    "\n",
    "preds = pd.concat(preds, ignore_index=True)\n",
    "preds = preds.astype({'algorithm': 'category'})\n",
    "preds.info()"
   ]
  },
  {
   "cell_type": "markdown",
   "id": "2beb9d57",
   "metadata": {
    "papermill": {
     "duration": 0.027009,
     "end_time": "2022-02-16T02:03:59.196846",
     "exception": false,
     "start_time": "2022-02-16T02:03:59.169837",
     "status": "completed"
    },
    "tags": []
   },
   "source": [
    "We need to load the test data so that we have the ground truths for computing accuracy "
   ]
  },
  {
   "cell_type": "code",
   "execution_count": 12,
   "id": "a68ca234",
   "metadata": {
    "execution": {
     "iopub.execute_input": "2022-02-16T02:03:59.250804Z",
     "iopub.status.busy": "2022-02-16T02:03:59.250804Z",
     "iopub.status.idle": "2022-02-16T02:03:59.253806Z",
     "shell.execute_reply": "2022-02-16T02:03:59.253806Z"
    },
    "papermill": {
     "duration": 0.032997,
     "end_time": "2022-02-16T02:03:59.255805",
     "exception": false,
     "start_time": "2022-02-16T02:03:59.222808",
     "status": "completed"
    },
    "tags": []
   },
   "outputs": [],
   "source": [
    "split_root = Path(\"data-split\")\n",
    "split_dir = split_root / dataset"
   ]
  },
  {
   "cell_type": "code",
   "execution_count": 13,
   "id": "f5f40df3",
   "metadata": {
    "execution": {
     "iopub.execute_input": "2022-02-16T02:03:59.305806Z",
     "iopub.status.busy": "2022-02-16T02:03:59.304806Z",
     "iopub.status.idle": "2022-02-16T02:03:59.521452Z",
     "shell.execute_reply": "2022-02-16T02:03:59.520470Z"
    },
    "papermill": {
     "duration": 0.242665,
     "end_time": "2022-02-16T02:03:59.522471",
     "exception": false,
     "start_time": "2022-02-16T02:03:59.279806",
     "status": "completed"
    },
    "tags": []
   },
   "outputs": [],
   "source": [
    "test = []\n",
    "for file in split_dir.glob(\"test-*.csv.gz\"):\n",
    "    test.append(pd.read_csv(file, sep=','))\n",
    "\n",
    "test = pd.concat(test, ignore_index=True)"
   ]
  },
  {
   "cell_type": "markdown",
   "id": "3ef9a1c5",
   "metadata": {
    "papermill": {
     "duration": 0.026105,
     "end_time": "2022-02-16T02:03:59.579990",
     "exception": false,
     "start_time": "2022-02-16T02:03:59.553885",
     "status": "completed"
    },
    "tags": []
   },
   "source": [
    "# Top-N Metrics"
   ]
  },
  {
   "cell_type": "markdown",
   "id": "71794576",
   "metadata": {
    "papermill": {
     "duration": 0.024997,
     "end_time": "2022-02-16T02:03:59.630564",
     "exception": false,
     "start_time": "2022-02-16T02:03:59.605567",
     "status": "completed"
    },
    "tags": []
   },
   "source": [
    "The topn.RecListAnalysis class computes top-N metrics for recommendation list and takes care of making sure that the recommendations and ground truths are properly matched. Refer to the documentation for detailed explanation of the purpose for the RecListAnalysis class and how the analysis is done - https://lkpy.lenskit.org/en/stable/evaluation/topn-metrics.html "
   ]
  },
  {
   "cell_type": "code",
   "execution_count": 14,
   "id": "276fa0aa",
   "metadata": {
    "execution": {
     "iopub.execute_input": "2022-02-16T02:03:59.682547Z",
     "iopub.status.busy": "2022-02-16T02:03:59.682547Z",
     "iopub.status.idle": "2022-02-16T02:04:35.254700Z",
     "shell.execute_reply": "2022-02-16T02:04:35.253695Z"
    },
    "papermill": {
     "duration": 35.599113,
     "end_time": "2022-02-16T02:04:35.255663",
     "exception": false,
     "start_time": "2022-02-16T02:03:59.656550",
     "status": "completed"
    },
    "tags": []
   },
   "outputs": [
    {
     "name": "stdout",
     "output_type": "stream",
     "text": [
      "[   INFO] lenskit.topn analyzing 41923000 recommendations (349390 truth rows)\n"
     ]
    },
    {
     "name": "stdout",
     "output_type": "stream",
     "text": [
      "[   INFO] lenskit.topn using rec key columns ['algorithm', 'user']\n"
     ]
    },
    {
     "name": "stdout",
     "output_type": "stream",
     "text": [
      "[   INFO] lenskit.topn using truth key columns ['user']\n"
     ]
    },
    {
     "name": "stdout",
     "output_type": "stream",
     "text": [
      "[   INFO] lenskit.topn numbering truth lists\n"
     ]
    },
    {
     "name": "stdout",
     "output_type": "stream",
     "text": [
      "[   INFO] lenskit.topn numbering rec lists\n"
     ]
    },
    {
     "name": "stdout",
     "output_type": "stream",
     "text": [
      "[   INFO] lenskit.topn collecting metric results\n"
     ]
    },
    {
     "name": "stdout",
     "output_type": "stream",
     "text": [
      "[   INFO] lenskit.topn measured 419230 lists in 27.69s\n"
     ]
    },
    {
     "name": "stdout",
     "output_type": "stream",
     "text": [
      "[   INFO] lenskit.topn filling in missing user info (419230 initial rows)\n"
     ]
    },
    {
     "data": {
      "text/html": [
       "<div>\n",
       "<style scoped>\n",
       "    .dataframe tbody tr th:only-of-type {\n",
       "        vertical-align: middle;\n",
       "    }\n",
       "\n",
       "    .dataframe tbody tr th {\n",
       "        vertical-align: top;\n",
       "    }\n",
       "\n",
       "    .dataframe thead th {\n",
       "        text-align: right;\n",
       "    }\n",
       "</style>\n",
       "<table border=\"1\" class=\"dataframe\">\n",
       "  <thead>\n",
       "    <tr style=\"text-align: right;\">\n",
       "      <th></th>\n",
       "      <th></th>\n",
       "      <th>level_1</th>\n",
       "      <th>nrecs</th>\n",
       "      <th>precision</th>\n",
       "      <th>recip_rank</th>\n",
       "      <th>ndcg</th>\n",
       "      <th>ntruth</th>\n",
       "    </tr>\n",
       "    <tr>\n",
       "      <th>algorithm</th>\n",
       "      <th>user</th>\n",
       "      <th></th>\n",
       "      <th></th>\n",
       "      <th></th>\n",
       "      <th></th>\n",
       "      <th></th>\n",
       "      <th></th>\n",
       "    </tr>\n",
       "  </thead>\n",
       "  <tbody>\n",
       "    <tr>\n",
       "      <th rowspan=\"5\" valign=\"top\">ALS</th>\n",
       "      <th>1</th>\n",
       "      <td>0.0</td>\n",
       "      <td>100.0</td>\n",
       "      <td>0.00</td>\n",
       "      <td>0.000000</td>\n",
       "      <td>0.000000</td>\n",
       "      <td>5</td>\n",
       "    </tr>\n",
       "    <tr>\n",
       "      <th>9</th>\n",
       "      <td>1.0</td>\n",
       "      <td>100.0</td>\n",
       "      <td>0.00</td>\n",
       "      <td>0.000000</td>\n",
       "      <td>0.000000</td>\n",
       "      <td>5</td>\n",
       "    </tr>\n",
       "    <tr>\n",
       "      <th>10</th>\n",
       "      <td>2.0</td>\n",
       "      <td>100.0</td>\n",
       "      <td>0.00</td>\n",
       "      <td>0.000000</td>\n",
       "      <td>0.000000</td>\n",
       "      <td>5</td>\n",
       "    </tr>\n",
       "    <tr>\n",
       "      <th>11</th>\n",
       "      <td>3.0</td>\n",
       "      <td>100.0</td>\n",
       "      <td>0.02</td>\n",
       "      <td>0.100000</td>\n",
       "      <td>0.131508</td>\n",
       "      <td>5</td>\n",
       "    </tr>\n",
       "    <tr>\n",
       "      <th>13</th>\n",
       "      <td>4.0</td>\n",
       "      <td>100.0</td>\n",
       "      <td>0.01</td>\n",
       "      <td>0.037037</td>\n",
       "      <td>0.082002</td>\n",
       "      <td>5</td>\n",
       "    </tr>\n",
       "  </tbody>\n",
       "</table>\n",
       "</div>"
      ],
      "text/plain": [
       "                level_1  nrecs  precision  recip_rank      ndcg  ntruth\n",
       "algorithm user                                                         \n",
       "ALS       1         0.0  100.0       0.00    0.000000  0.000000       5\n",
       "          9         1.0  100.0       0.00    0.000000  0.000000       5\n",
       "          10        2.0  100.0       0.00    0.000000  0.000000       5\n",
       "          11        3.0  100.0       0.02    0.100000  0.131508       5\n",
       "          13        4.0  100.0       0.01    0.037037  0.082002       5"
      ]
     },
     "execution_count": 14,
     "metadata": {},
     "output_type": "execute_result"
    }
   ],
   "source": [
    "rla = topn.RecListAnalysis()\n",
    "\n",
    "rla.add_metric(topn.precision)\n",
    "rla.add_metric(topn.recip_rank)\n",
    "rla.add_metric(topn.ndcg)\n",
    "results = rla.compute(recs, test, include_missing=True)\n",
    "results = results.fillna(0)\n",
    "results.head()"
   ]
  },
  {
   "cell_type": "markdown",
   "id": "1d89bc21",
   "metadata": {
    "papermill": {
     "duration": 0.028001,
     "end_time": "2022-02-16T02:04:35.311662",
     "exception": false,
     "start_time": "2022-02-16T02:04:35.283661",
     "status": "completed"
    },
    "tags": []
   },
   "source": [
    "We will reshape the 'results' dataframe by stacking the columns to index and then use the bar chart to visualize the performance of our algorithms with respect to the precision, reciprocal rank and ndcg metrics"
   ]
  },
  {
   "cell_type": "code",
   "execution_count": 15,
   "id": "8e5d49f8",
   "metadata": {
    "execution": {
     "iopub.execute_input": "2022-02-16T02:04:35.365661Z",
     "iopub.status.busy": "2022-02-16T02:04:35.365661Z",
     "iopub.status.idle": "2022-02-16T02:04:35.457686Z",
     "shell.execute_reply": "2022-02-16T02:04:35.456837Z"
    },
    "papermill": {
     "duration": 0.120042,
     "end_time": "2022-02-16T02:04:35.458704",
     "exception": false,
     "start_time": "2022-02-16T02:04:35.338662",
     "status": "completed"
    },
    "tags": []
   },
   "outputs": [
    {
     "data": {
      "text/html": [
       "<div>\n",
       "<style scoped>\n",
       "    .dataframe tbody tr th:only-of-type {\n",
       "        vertical-align: middle;\n",
       "    }\n",
       "\n",
       "    .dataframe tbody tr th {\n",
       "        vertical-align: top;\n",
       "    }\n",
       "\n",
       "    .dataframe thead th {\n",
       "        text-align: right;\n",
       "    }\n",
       "</style>\n",
       "<table border=\"1\" class=\"dataframe\">\n",
       "  <thead>\n",
       "    <tr style=\"text-align: right;\">\n",
       "      <th></th>\n",
       "      <th>algorithm</th>\n",
       "      <th>user</th>\n",
       "      <th>metric</th>\n",
       "      <th>val</th>\n",
       "    </tr>\n",
       "  </thead>\n",
       "  <tbody>\n",
       "    <tr>\n",
       "      <th>0</th>\n",
       "      <td>ALS</td>\n",
       "      <td>1</td>\n",
       "      <td>level_1</td>\n",
       "      <td>0.0</td>\n",
       "    </tr>\n",
       "    <tr>\n",
       "      <th>1</th>\n",
       "      <td>ALS</td>\n",
       "      <td>1</td>\n",
       "      <td>precision</td>\n",
       "      <td>0.0</td>\n",
       "    </tr>\n",
       "    <tr>\n",
       "      <th>2</th>\n",
       "      <td>ALS</td>\n",
       "      <td>1</td>\n",
       "      <td>recip_rank</td>\n",
       "      <td>0.0</td>\n",
       "    </tr>\n",
       "    <tr>\n",
       "      <th>3</th>\n",
       "      <td>ALS</td>\n",
       "      <td>1</td>\n",
       "      <td>ndcg</td>\n",
       "      <td>0.0</td>\n",
       "    </tr>\n",
       "    <tr>\n",
       "      <th>4</th>\n",
       "      <td>ALS</td>\n",
       "      <td>9</td>\n",
       "      <td>level_1</td>\n",
       "      <td>1.0</td>\n",
       "    </tr>\n",
       "  </tbody>\n",
       "</table>\n",
       "</div>"
      ],
      "text/plain": [
       "  algorithm  user      metric  val\n",
       "0       ALS     1     level_1  0.0\n",
       "1       ALS     1   precision  0.0\n",
       "2       ALS     1  recip_rank  0.0\n",
       "3       ALS     1        ndcg  0.0\n",
       "4       ALS     9     level_1  1.0"
      ]
     },
     "execution_count": 15,
     "metadata": {},
     "output_type": "execute_result"
    }
   ],
   "source": [
    "pltData = (results.drop(columns=['nrecs', 'ntruth']).stack()).reset_index()\n",
    "pltData.columns = ['algorithm', 'user', 'metric', 'val']\n",
    "pltData.head()"
   ]
  },
  {
   "cell_type": "markdown",
   "id": "0d8c9281",
   "metadata": {
    "papermill": {
     "duration": 0.027969,
     "end_time": "2022-02-16T02:04:35.513687",
     "exception": false,
     "start_time": "2022-02-16T02:04:35.485718",
     "status": "completed"
    },
    "tags": []
   },
   "source": [
    "We need to determine if the differences we observe in the performances of the algorithms for the various metrics are statistically significant. To achieve this, we will need to use either a parametric or non-parametric statistical test for comparing the differences. We will consider a parametric test - repeated ANOVA measure cause our sample groups are correlated."
   ]
  },
  {
   "cell_type": "code",
   "execution_count": 16,
   "id": "1d8cca8b",
   "metadata": {
    "execution": {
     "iopub.execute_input": "2022-02-16T02:04:35.568723Z",
     "iopub.status.busy": "2022-02-16T02:04:35.568723Z",
     "iopub.status.idle": "2022-02-16T02:04:47.059583Z",
     "shell.execute_reply": "2022-02-16T02:04:47.058726Z"
    },
    "papermill": {
     "duration": 11.519895,
     "end_time": "2022-02-16T02:04:47.060614",
     "exception": false,
     "start_time": "2022-02-16T02:04:35.540719",
     "status": "completed"
    },
    "tags": []
   },
   "outputs": [
    {
     "data": {
      "image/png": "[encoded data removed]",
      "text/plain": [
       "<Figure size 1036.8x216 with 4 Axes>"
      ]
     },
     "metadata": {
      "needs_background": "light"
     },
     "output_type": "display_data"
    }
   ],
   "source": [
    "g = sns.catplot(x = \"algorithm\", y = \"val\", data = pltData, kind=\"bar\", col = \"metric\", aspect=1.2, height=3, sharey=False)"
   ]
  },
  {
   "cell_type": "markdown",
   "id": "5a35884d",
   "metadata": {
    "papermill": {
     "duration": 0.028029,
     "end_time": "2022-02-16T02:04:47.116613",
     "exception": false,
     "start_time": "2022-02-16T02:04:47.088584",
     "status": "completed"
    },
    "tags": []
   },
   "source": [
    "### Statistical Testing"
   ]
  },
  {
   "cell_type": "markdown",
   "id": "212f3092",
   "metadata": {
    "papermill": {
     "duration": 0.027999,
     "end_time": "2022-02-16T02:04:47.172615",
     "exception": false,
     "start_time": "2022-02-16T02:04:47.144616",
     "status": "completed"
    },
    "tags": []
   },
   "source": [
    "We will now examine these metrics in more detail and test for statistical significance.  Best practice for statistical testing for recommender systems is still a work in progress, but this method avoids most of the validity problems we know about.\n",
    "\n",
    "The Friedman $\\chi^2$ test will test the null hypothesis that there is no difference between algorithms in terms of their performance."
   ]
  },
  {
   "cell_type": "code",
   "execution_count": 17,
   "id": "f7b74619",
   "metadata": {
    "execution": {
     "iopub.execute_input": "2022-02-16T02:04:47.229584Z",
     "iopub.status.busy": "2022-02-16T02:04:47.229584Z",
     "iopub.status.idle": "2022-02-16T02:04:47.249285Z",
     "shell.execute_reply": "2022-02-16T02:04:47.248277Z"
    },
    "papermill": {
     "duration": 0.04973,
     "end_time": "2022-02-16T02:04:47.250314",
     "exception": false,
     "start_time": "2022-02-16T02:04:47.200584",
     "status": "completed"
    },
    "tags": []
   },
   "outputs": [],
   "source": [
    "def metric_friedman(metric):\n",
    "    groups = [df[metric] for a, df in results.groupby('algorithm')]\n",
    "\n",
    "    stat, p = friedmanchisquare(*groups)\n",
    "    return pd.Series({'stat': stat, 'p': p}, name=metric)"
   ]
  },
  {
   "cell_type": "markdown",
   "id": "4a0154b4",
   "metadata": {
    "papermill": {
     "duration": 0.028001,
     "end_time": "2022-02-16T02:04:47.306314",
     "exception": false,
     "start_time": "2022-02-16T02:04:47.278313",
     "status": "completed"
    },
    "tags": []
   },
   "source": [
    "If the test detects significance, we have at least one pair of different algorithms - but which pairs?  Unfortunately, the good tests aren't readily available in scipy and friends, so we're going to take a conservative approch and perform pairwise Wilconxon signed-rank tests with a Bonferroni adjustment."
   ]
  },
  {
   "cell_type": "code",
   "execution_count": 18,
   "id": "942eb077",
   "metadata": {
    "execution": {
     "iopub.execute_input": "2022-02-16T02:04:47.363284Z",
     "iopub.status.busy": "2022-02-16T02:04:47.363284Z",
     "iopub.status.idle": "2022-02-16T02:04:47.371317Z",
     "shell.execute_reply": "2022-02-16T02:04:47.370434Z"
    },
    "papermill": {
     "duration": 0.038965,
     "end_time": "2022-02-16T02:04:47.373281",
     "exception": false,
     "start_time": "2022-02-16T02:04:47.334316",
     "status": "completed"
    },
    "tags": []
   },
   "outputs": [],
   "source": [
    "pairs = pd.DataFrame.from_records(combinations(rec_algos, 2), columns=['A1', 'A2'])\n",
    "def am_wilcox(metric, p_scale = len(pairs)):\n",
    "    def compute(df):\n",
    "        vs1 = results.loc[df['A1'], metric]\n",
    "        vs2 = results.loc[df['A2'], metric]\n",
    "        diff = (vs1 - vs2).mean()\n",
    "        stat, p = wilcoxon(vs1, vs2)\n",
    "        return pd.Series({'diff': diff, 'stat': stat, 'p': p, 'adj_p': p * p_scale})\n",
    "    scores = pairs.apply(compute, axis=1)\n",
    "    return pairs.join(scores)"
   ]
  },
  {
   "cell_type": "markdown",
   "id": "ff89882f",
   "metadata": {
    "papermill": {
     "duration": 0.029,
     "end_time": "2022-02-16T02:04:47.432280",
     "exception": false,
     "start_time": "2022-02-16T02:04:47.403280",
     "status": "completed"
    },
    "tags": []
   },
   "source": [
    "## Precision"
   ]
  },
  {
   "cell_type": "code",
   "execution_count": 19,
   "id": "cdd9f92a",
   "metadata": {
    "execution": {
     "iopub.execute_input": "2022-02-16T02:04:47.490280Z",
     "iopub.status.busy": "2022-02-16T02:04:47.490280Z",
     "iopub.status.idle": "2022-02-16T02:04:52.223349Z",
     "shell.execute_reply": "2022-02-16T02:04:52.222350Z"
    },
    "papermill": {
     "duration": 4.763113,
     "end_time": "2022-02-16T02:04:52.224392",
     "exception": false,
     "start_time": "2022-02-16T02:04:47.461279",
     "status": "completed"
    },
    "tags": []
   },
   "outputs": [
    {
     "data": {
      "text/plain": [
       "stat    216019.277215\n",
       "p            0.000000\n",
       "Name: precision, dtype: float64"
      ]
     },
     "execution_count": 19,
     "metadata": {},
     "output_type": "execute_result"
    }
   ],
   "source": [
    "metric_friedman('precision')"
   ]
  },
  {
   "cell_type": "markdown",
   "id": "2d2bbef0",
   "metadata": {
    "papermill": {
     "duration": 0.029031,
     "end_time": "2022-02-16T02:04:52.283379",
     "exception": false,
     "start_time": "2022-02-16T02:04:52.254348",
     "status": "completed"
    },
    "tags": []
   },
   "source": [
    "This indicates a statistically significant difference exists - but where is it?\n",
    "\n",
    "To answer that question, we need a post-hoc test. "
   ]
  },
  {
   "cell_type": "code",
   "execution_count": 20,
   "id": "f5ac3976",
   "metadata": {
    "execution": {
     "iopub.execute_input": "2022-02-16T02:04:52.341375Z",
     "iopub.status.busy": "2022-02-16T02:04:52.341375Z",
     "iopub.status.idle": "2022-02-16T02:04:52.519353Z",
     "shell.execute_reply": "2022-02-16T02:04:52.518496Z"
    },
    "papermill": {
     "duration": 0.209998,
     "end_time": "2022-02-16T02:04:52.522345",
     "exception": false,
     "start_time": "2022-02-16T02:04:52.312347",
     "status": "completed"
    },
    "tags": []
   },
   "outputs": [
    {
     "data": {
      "text/html": [
       "<div>\n",
       "<style scoped>\n",
       "    .dataframe tbody tr th:only-of-type {\n",
       "        vertical-align: middle;\n",
       "    }\n",
       "\n",
       "    .dataframe tbody tr th {\n",
       "        vertical-align: top;\n",
       "    }\n",
       "\n",
       "    .dataframe thead th {\n",
       "        text-align: right;\n",
       "    }\n",
       "</style>\n",
       "<table border=\"1\" class=\"dataframe\">\n",
       "  <thead>\n",
       "    <tr style=\"text-align: right;\">\n",
       "      <th></th>\n",
       "      <th>A1</th>\n",
       "      <th>A2</th>\n",
       "      <th>diff</th>\n",
       "      <th>stat</th>\n",
       "      <th>p</th>\n",
       "      <th>adj_p</th>\n",
       "    </tr>\n",
       "  </thead>\n",
       "  <tbody>\n",
       "    <tr>\n",
       "      <th>11</th>\n",
       "      <td>IALS</td>\n",
       "      <td>UU</td>\n",
       "      <td>0.029563</td>\n",
       "      <td>4246007.0</td>\n",
       "      <td>0.000000e+00</td>\n",
       "      <td>0.000000e+00</td>\n",
       "    </tr>\n",
       "    <tr>\n",
       "      <th>9</th>\n",
       "      <td>IALS</td>\n",
       "      <td>II</td>\n",
       "      <td>0.029314</td>\n",
       "      <td>4570344.5</td>\n",
       "      <td>0.000000e+00</td>\n",
       "      <td>0.000000e+00</td>\n",
       "    </tr>\n",
       "    <tr>\n",
       "      <th>14</th>\n",
       "      <td>Pop</td>\n",
       "      <td>UU</td>\n",
       "      <td>0.015545</td>\n",
       "      <td>38423994.5</td>\n",
       "      <td>0.000000e+00</td>\n",
       "      <td>0.000000e+00</td>\n",
       "    </tr>\n",
       "    <tr>\n",
       "      <th>10</th>\n",
       "      <td>IALS</td>\n",
       "      <td>Pop</td>\n",
       "      <td>0.014018</td>\n",
       "      <td>66601299.5</td>\n",
       "      <td>0.000000e+00</td>\n",
       "      <td>0.000000e+00</td>\n",
       "    </tr>\n",
       "    <tr>\n",
       "      <th>8</th>\n",
       "      <td>Bias</td>\n",
       "      <td>UU</td>\n",
       "      <td>0.002791</td>\n",
       "      <td>107733040.0</td>\n",
       "      <td>0.000000e+00</td>\n",
       "      <td>0.000000e+00</td>\n",
       "    </tr>\n",
       "    <tr>\n",
       "      <th>4</th>\n",
       "      <td>ALS</td>\n",
       "      <td>UU</td>\n",
       "      <td>0.002639</td>\n",
       "      <td>107377077.5</td>\n",
       "      <td>0.000000e+00</td>\n",
       "      <td>0.000000e+00</td>\n",
       "    </tr>\n",
       "    <tr>\n",
       "      <th>6</th>\n",
       "      <td>Bias</td>\n",
       "      <td>II</td>\n",
       "      <td>0.002542</td>\n",
       "      <td>39920037.0</td>\n",
       "      <td>0.000000e+00</td>\n",
       "      <td>0.000000e+00</td>\n",
       "    </tr>\n",
       "    <tr>\n",
       "      <th>2</th>\n",
       "      <td>ALS</td>\n",
       "      <td>II</td>\n",
       "      <td>0.002389</td>\n",
       "      <td>25079696.5</td>\n",
       "      <td>0.000000e+00</td>\n",
       "      <td>0.000000e+00</td>\n",
       "    </tr>\n",
       "    <tr>\n",
       "      <th>13</th>\n",
       "      <td>II</td>\n",
       "      <td>UU</td>\n",
       "      <td>0.000250</td>\n",
       "      <td>99319368.0</td>\n",
       "      <td>2.147777e-19</td>\n",
       "      <td>3.221666e-18</td>\n",
       "    </tr>\n",
       "    <tr>\n",
       "      <th>0</th>\n",
       "      <td>ALS</td>\n",
       "      <td>Bias</td>\n",
       "      <td>-0.000153</td>\n",
       "      <td>56174361.5</td>\n",
       "      <td>1.698976e-14</td>\n",
       "      <td>2.548465e-13</td>\n",
       "    </tr>\n",
       "    <tr>\n",
       "      <th>7</th>\n",
       "      <td>Bias</td>\n",
       "      <td>Pop</td>\n",
       "      <td>-0.012754</td>\n",
       "      <td>74186525.0</td>\n",
       "      <td>0.000000e+00</td>\n",
       "      <td>0.000000e+00</td>\n",
       "    </tr>\n",
       "    <tr>\n",
       "      <th>3</th>\n",
       "      <td>ALS</td>\n",
       "      <td>Pop</td>\n",
       "      <td>-0.012906</td>\n",
       "      <td>70334866.0</td>\n",
       "      <td>0.000000e+00</td>\n",
       "      <td>0.000000e+00</td>\n",
       "    </tr>\n",
       "    <tr>\n",
       "      <th>12</th>\n",
       "      <td>II</td>\n",
       "      <td>Pop</td>\n",
       "      <td>-0.015295</td>\n",
       "      <td>35842472.0</td>\n",
       "      <td>0.000000e+00</td>\n",
       "      <td>0.000000e+00</td>\n",
       "    </tr>\n",
       "    <tr>\n",
       "      <th>5</th>\n",
       "      <td>Bias</td>\n",
       "      <td>IALS</td>\n",
       "      <td>-0.026772</td>\n",
       "      <td>10775247.5</td>\n",
       "      <td>0.000000e+00</td>\n",
       "      <td>0.000000e+00</td>\n",
       "    </tr>\n",
       "    <tr>\n",
       "      <th>1</th>\n",
       "      <td>ALS</td>\n",
       "      <td>IALS</td>\n",
       "      <td>-0.026924</td>\n",
       "      <td>9552425.0</td>\n",
       "      <td>0.000000e+00</td>\n",
       "      <td>0.000000e+00</td>\n",
       "    </tr>\n",
       "  </tbody>\n",
       "</table>\n",
       "</div>"
      ],
      "text/plain": [
       "      A1    A2      diff         stat             p         adj_p\n",
       "11  IALS    UU  0.029563    4246007.0  0.000000e+00  0.000000e+00\n",
       "9   IALS    II  0.029314    4570344.5  0.000000e+00  0.000000e+00\n",
       "14   Pop    UU  0.015545   38423994.5  0.000000e+00  0.000000e+00\n",
       "10  IALS   Pop  0.014018   66601299.5  0.000000e+00  0.000000e+00\n",
       "8   Bias    UU  0.002791  107733040.0  0.000000e+00  0.000000e+00\n",
       "4    ALS    UU  0.002639  107377077.5  0.000000e+00  0.000000e+00\n",
       "6   Bias    II  0.002542   39920037.0  0.000000e+00  0.000000e+00\n",
       "2    ALS    II  0.002389   25079696.5  0.000000e+00  0.000000e+00\n",
       "13    II    UU  0.000250   99319368.0  2.147777e-19  3.221666e-18\n",
       "0    ALS  Bias -0.000153   56174361.5  1.698976e-14  2.548465e-13\n",
       "7   Bias   Pop -0.012754   74186525.0  0.000000e+00  0.000000e+00\n",
       "3    ALS   Pop -0.012906   70334866.0  0.000000e+00  0.000000e+00\n",
       "12    II   Pop -0.015295   35842472.0  0.000000e+00  0.000000e+00\n",
       "5   Bias  IALS -0.026772   10775247.5  0.000000e+00  0.000000e+00\n",
       "1    ALS  IALS -0.026924    9552425.0  0.000000e+00  0.000000e+00"
      ]
     },
     "execution_count": 20,
     "metadata": {},
     "output_type": "execute_result"
    }
   ],
   "source": [
    "am_wilcox('precision').sort_values('diff', ascending=False)"
   ]
  },
  {
   "cell_type": "markdown",
   "id": "74f7682d",
   "metadata": {
    "papermill": {
     "duration": 0.029,
     "end_time": "2022-02-16T02:04:52.580376",
     "exception": false,
     "start_time": "2022-02-16T02:04:52.551376",
     "status": "completed"
    },
    "tags": []
   },
   "source": [
    "We can consider pairs with an adjusted $p$ value less than 0.05 (5.0e-2) to be statistically significant.  However, we have so many data points, the substance of significance is questionable.  Pay attention to the 'diff' column, which is the difference between A1 and A2 (how much A1 outperforms A2)."
   ]
  },
  {
   "cell_type": "markdown",
   "id": "ce23287b",
   "metadata": {
    "papermill": {
     "duration": 0.028997,
     "end_time": "2022-02-16T02:04:52.639343",
     "exception": false,
     "start_time": "2022-02-16T02:04:52.610346",
     "status": "completed"
    },
    "tags": []
   },
   "source": [
    "### nDCG"
   ]
  },
  {
   "cell_type": "markdown",
   "id": "bd722b12",
   "metadata": {
    "papermill": {
     "duration": 0.029005,
     "end_time": "2022-02-16T02:04:52.697388",
     "exception": false,
     "start_time": "2022-02-16T02:04:52.668383",
     "status": "completed"
    },
    "tags": []
   },
   "source": [
    "Now let's do the same for nDCG:"
   ]
  },
  {
   "cell_type": "code",
   "execution_count": 21,
   "id": "59356977",
   "metadata": {
    "execution": {
     "iopub.execute_input": "2022-02-16T02:04:52.756347Z",
     "iopub.status.busy": "2022-02-16T02:04:52.756347Z",
     "iopub.status.idle": "2022-02-16T02:04:57.475857Z",
     "shell.execute_reply": "2022-02-16T02:04:57.475857Z"
    },
    "papermill": {
     "duration": 4.751472,
     "end_time": "2022-02-16T02:04:57.477853",
     "exception": false,
     "start_time": "2022-02-16T02:04:52.726381",
     "status": "completed"
    },
    "tags": []
   },
   "outputs": [
    {
     "data": {
      "text/plain": [
       "stat    192271.006814\n",
       "p            0.000000\n",
       "Name: ndcg, dtype: float64"
      ]
     },
     "execution_count": 21,
     "metadata": {},
     "output_type": "execute_result"
    }
   ],
   "source": [
    "metric_friedman('ndcg')"
   ]
  },
  {
   "cell_type": "code",
   "execution_count": 22,
   "id": "56546bc1",
   "metadata": {
    "execution": {
     "iopub.execute_input": "2022-02-16T02:04:57.540819Z",
     "iopub.status.busy": "2022-02-16T02:04:57.539817Z",
     "iopub.status.idle": "2022-02-16T02:04:57.776821Z",
     "shell.execute_reply": "2022-02-16T02:04:57.775966Z"
    },
    "papermill": {
     "duration": 0.268017,
     "end_time": "2022-02-16T02:04:57.777848",
     "exception": false,
     "start_time": "2022-02-16T02:04:57.509831",
     "status": "completed"
    },
    "tags": []
   },
   "outputs": [
    {
     "data": {
      "text/html": [
       "<div>\n",
       "<style scoped>\n",
       "    .dataframe tbody tr th:only-of-type {\n",
       "        vertical-align: middle;\n",
       "    }\n",
       "\n",
       "    .dataframe tbody tr th {\n",
       "        vertical-align: top;\n",
       "    }\n",
       "\n",
       "    .dataframe thead th {\n",
       "        text-align: right;\n",
       "    }\n",
       "</style>\n",
       "<table border=\"1\" class=\"dataframe\">\n",
       "  <thead>\n",
       "    <tr style=\"text-align: right;\">\n",
       "      <th></th>\n",
       "      <th>A1</th>\n",
       "      <th>A2</th>\n",
       "      <th>diff</th>\n",
       "      <th>stat</th>\n",
       "      <th>p</th>\n",
       "      <th>adj_p</th>\n",
       "    </tr>\n",
       "  </thead>\n",
       "  <tbody>\n",
       "    <tr>\n",
       "      <th>11</th>\n",
       "      <td>IALS</td>\n",
       "      <td>UU</td>\n",
       "      <td>0.264109</td>\n",
       "      <td>5691219.0</td>\n",
       "      <td>0.000000e+00</td>\n",
       "      <td>0.000000e+00</td>\n",
       "    </tr>\n",
       "    <tr>\n",
       "      <th>9</th>\n",
       "      <td>IALS</td>\n",
       "      <td>II</td>\n",
       "      <td>0.261184</td>\n",
       "      <td>11473100.0</td>\n",
       "      <td>0.000000e+00</td>\n",
       "      <td>0.000000e+00</td>\n",
       "    </tr>\n",
       "    <tr>\n",
       "      <th>14</th>\n",
       "      <td>Pop</td>\n",
       "      <td>UU</td>\n",
       "      <td>0.140720</td>\n",
       "      <td>46080470.5</td>\n",
       "      <td>0.000000e+00</td>\n",
       "      <td>0.000000e+00</td>\n",
       "    </tr>\n",
       "    <tr>\n",
       "      <th>10</th>\n",
       "      <td>IALS</td>\n",
       "      <td>Pop</td>\n",
       "      <td>0.123388</td>\n",
       "      <td>382998230.5</td>\n",
       "      <td>0.000000e+00</td>\n",
       "      <td>0.000000e+00</td>\n",
       "    </tr>\n",
       "    <tr>\n",
       "      <th>8</th>\n",
       "      <td>Bias</td>\n",
       "      <td>UU</td>\n",
       "      <td>0.035897</td>\n",
       "      <td>112625106.5</td>\n",
       "      <td>0.000000e+00</td>\n",
       "      <td>0.000000e+00</td>\n",
       "    </tr>\n",
       "    <tr>\n",
       "      <th>6</th>\n",
       "      <td>Bias</td>\n",
       "      <td>II</td>\n",
       "      <td>0.032972</td>\n",
       "      <td>57313793.0</td>\n",
       "      <td>0.000000e+00</td>\n",
       "      <td>0.000000e+00</td>\n",
       "    </tr>\n",
       "    <tr>\n",
       "      <th>4</th>\n",
       "      <td>ALS</td>\n",
       "      <td>UU</td>\n",
       "      <td>0.031276</td>\n",
       "      <td>104487939.0</td>\n",
       "      <td>0.000000e+00</td>\n",
       "      <td>0.000000e+00</td>\n",
       "    </tr>\n",
       "    <tr>\n",
       "      <th>2</th>\n",
       "      <td>ALS</td>\n",
       "      <td>II</td>\n",
       "      <td>0.028351</td>\n",
       "      <td>36879491.5</td>\n",
       "      <td>0.000000e+00</td>\n",
       "      <td>0.000000e+00</td>\n",
       "    </tr>\n",
       "    <tr>\n",
       "      <th>13</th>\n",
       "      <td>II</td>\n",
       "      <td>UU</td>\n",
       "      <td>0.002925</td>\n",
       "      <td>110026263.5</td>\n",
       "      <td>1.459984e-44</td>\n",
       "      <td>2.189977e-43</td>\n",
       "    </tr>\n",
       "    <tr>\n",
       "      <th>0</th>\n",
       "      <td>ALS</td>\n",
       "      <td>Bias</td>\n",
       "      <td>-0.004621</td>\n",
       "      <td>198413255.0</td>\n",
       "      <td>5.746133e-25</td>\n",
       "      <td>8.619199e-24</td>\n",
       "    </tr>\n",
       "    <tr>\n",
       "      <th>7</th>\n",
       "      <td>Bias</td>\n",
       "      <td>Pop</td>\n",
       "      <td>-0.104823</td>\n",
       "      <td>207308814.0</td>\n",
       "      <td>0.000000e+00</td>\n",
       "      <td>0.000000e+00</td>\n",
       "    </tr>\n",
       "    <tr>\n",
       "      <th>3</th>\n",
       "      <td>ALS</td>\n",
       "      <td>Pop</td>\n",
       "      <td>-0.109444</td>\n",
       "      <td>171590611.0</td>\n",
       "      <td>0.000000e+00</td>\n",
       "      <td>0.000000e+00</td>\n",
       "    </tr>\n",
       "    <tr>\n",
       "      <th>12</th>\n",
       "      <td>II</td>\n",
       "      <td>Pop</td>\n",
       "      <td>-0.137795</td>\n",
       "      <td>49232126.0</td>\n",
       "      <td>0.000000e+00</td>\n",
       "      <td>0.000000e+00</td>\n",
       "    </tr>\n",
       "    <tr>\n",
       "      <th>5</th>\n",
       "      <td>Bias</td>\n",
       "      <td>IALS</td>\n",
       "      <td>-0.228212</td>\n",
       "      <td>85749514.0</td>\n",
       "      <td>0.000000e+00</td>\n",
       "      <td>0.000000e+00</td>\n",
       "    </tr>\n",
       "    <tr>\n",
       "      <th>1</th>\n",
       "      <td>ALS</td>\n",
       "      <td>IALS</td>\n",
       "      <td>-0.232832</td>\n",
       "      <td>64846747.0</td>\n",
       "      <td>0.000000e+00</td>\n",
       "      <td>0.000000e+00</td>\n",
       "    </tr>\n",
       "  </tbody>\n",
       "</table>\n",
       "</div>"
      ],
      "text/plain": [
       "      A1    A2      diff         stat             p         adj_p\n",
       "11  IALS    UU  0.264109    5691219.0  0.000000e+00  0.000000e+00\n",
       "9   IALS    II  0.261184   11473100.0  0.000000e+00  0.000000e+00\n",
       "14   Pop    UU  0.140720   46080470.5  0.000000e+00  0.000000e+00\n",
       "10  IALS   Pop  0.123388  382998230.5  0.000000e+00  0.000000e+00\n",
       "8   Bias    UU  0.035897  112625106.5  0.000000e+00  0.000000e+00\n",
       "6   Bias    II  0.032972   57313793.0  0.000000e+00  0.000000e+00\n",
       "4    ALS    UU  0.031276  104487939.0  0.000000e+00  0.000000e+00\n",
       "2    ALS    II  0.028351   36879491.5  0.000000e+00  0.000000e+00\n",
       "13    II    UU  0.002925  110026263.5  1.459984e-44  2.189977e-43\n",
       "0    ALS  Bias -0.004621  198413255.0  5.746133e-25  8.619199e-24\n",
       "7   Bias   Pop -0.104823  207308814.0  0.000000e+00  0.000000e+00\n",
       "3    ALS   Pop -0.109444  171590611.0  0.000000e+00  0.000000e+00\n",
       "12    II   Pop -0.137795   49232126.0  0.000000e+00  0.000000e+00\n",
       "5   Bias  IALS -0.228212   85749514.0  0.000000e+00  0.000000e+00\n",
       "1    ALS  IALS -0.232832   64846747.0  0.000000e+00  0.000000e+00"
      ]
     },
     "execution_count": 22,
     "metadata": {},
     "output_type": "execute_result"
    }
   ],
   "source": [
    "am_wilcox('ndcg').sort_values('diff', ascending=False)"
   ]
  },
  {
   "cell_type": "markdown",
   "id": "8b5e4592",
   "metadata": {
    "papermill": {
     "duration": 0.028981,
     "end_time": "2022-02-16T02:04:57.836855",
     "exception": false,
     "start_time": "2022-02-16T02:04:57.807874",
     "status": "completed"
    },
    "tags": []
   },
   "source": [
    "### Reciprocal Rank\n",
    "\n",
    "We'll do this also for reciprocal rank (what is aggregated to compute MRR):"
   ]
  },
  {
   "cell_type": "code",
   "execution_count": 23,
   "id": "89c4c0f6",
   "metadata": {
    "execution": {
     "iopub.execute_input": "2022-02-16T02:04:57.899402Z",
     "iopub.status.busy": "2022-02-16T02:04:57.899402Z",
     "iopub.status.idle": "2022-02-16T02:05:02.616541Z",
     "shell.execute_reply": "2022-02-16T02:05:02.615689Z"
    },
    "papermill": {
     "duration": 4.748758,
     "end_time": "2022-02-16T02:05:02.617571",
     "exception": false,
     "start_time": "2022-02-16T02:04:57.868813",
     "status": "completed"
    },
    "tags": []
   },
   "outputs": [
    {
     "data": {
      "text/plain": [
       "stat    173630.267024\n",
       "p            0.000000\n",
       "Name: recip_rank, dtype: float64"
      ]
     },
     "execution_count": 23,
     "metadata": {},
     "output_type": "execute_result"
    }
   ],
   "source": [
    "metric_friedman('recip_rank')"
   ]
  },
  {
   "cell_type": "code",
   "execution_count": 24,
   "id": "eac5d210",
   "metadata": {
    "execution": {
     "iopub.execute_input": "2022-02-16T02:05:02.679539Z",
     "iopub.status.busy": "2022-02-16T02:05:02.679539Z",
     "iopub.status.idle": "2022-02-16T02:05:02.880539Z",
     "shell.execute_reply": "2022-02-16T02:05:02.879682Z"
    },
    "papermill": {
     "duration": 0.233002,
     "end_time": "2022-02-16T02:05:02.881538",
     "exception": false,
     "start_time": "2022-02-16T02:05:02.648536",
     "status": "completed"
    },
    "tags": []
   },
   "outputs": [
    {
     "data": {
      "text/html": [
       "<div>\n",
       "<style scoped>\n",
       "    .dataframe tbody tr th:only-of-type {\n",
       "        vertical-align: middle;\n",
       "    }\n",
       "\n",
       "    .dataframe tbody tr th {\n",
       "        vertical-align: top;\n",
       "    }\n",
       "\n",
       "    .dataframe thead th {\n",
       "        text-align: right;\n",
       "    }\n",
       "</style>\n",
       "<table border=\"1\" class=\"dataframe\">\n",
       "  <thead>\n",
       "    <tr style=\"text-align: right;\">\n",
       "      <th></th>\n",
       "      <th>A1</th>\n",
       "      <th>A2</th>\n",
       "      <th>diff</th>\n",
       "      <th>stat</th>\n",
       "      <th>p</th>\n",
       "      <th>adj_p</th>\n",
       "    </tr>\n",
       "  </thead>\n",
       "  <tbody>\n",
       "    <tr>\n",
       "      <th>11</th>\n",
       "      <td>IALS</td>\n",
       "      <td>UU</td>\n",
       "      <td>0.270864</td>\n",
       "      <td>10265673.0</td>\n",
       "      <td>0.000000e+00</td>\n",
       "      <td>0.000000e+00</td>\n",
       "    </tr>\n",
       "    <tr>\n",
       "      <th>9</th>\n",
       "      <td>IALS</td>\n",
       "      <td>II</td>\n",
       "      <td>0.267306</td>\n",
       "      <td>33805143.5</td>\n",
       "      <td>0.000000e+00</td>\n",
       "      <td>0.000000e+00</td>\n",
       "    </tr>\n",
       "    <tr>\n",
       "      <th>14</th>\n",
       "      <td>Pop</td>\n",
       "      <td>UU</td>\n",
       "      <td>0.170884</td>\n",
       "      <td>44489207.5</td>\n",
       "      <td>0.000000e+00</td>\n",
       "      <td>0.000000e+00</td>\n",
       "    </tr>\n",
       "    <tr>\n",
       "      <th>10</th>\n",
       "      <td>IALS</td>\n",
       "      <td>Pop</td>\n",
       "      <td>0.099980</td>\n",
       "      <td>645805667.5</td>\n",
       "      <td>0.000000e+00</td>\n",
       "      <td>0.000000e+00</td>\n",
       "    </tr>\n",
       "    <tr>\n",
       "      <th>8</th>\n",
       "      <td>Bias</td>\n",
       "      <td>UU</td>\n",
       "      <td>0.065409</td>\n",
       "      <td>103127570.5</td>\n",
       "      <td>0.000000e+00</td>\n",
       "      <td>0.000000e+00</td>\n",
       "    </tr>\n",
       "    <tr>\n",
       "      <th>6</th>\n",
       "      <td>Bias</td>\n",
       "      <td>II</td>\n",
       "      <td>0.061851</td>\n",
       "      <td>59219212.0</td>\n",
       "      <td>0.000000e+00</td>\n",
       "      <td>0.000000e+00</td>\n",
       "    </tr>\n",
       "    <tr>\n",
       "      <th>4</th>\n",
       "      <td>ALS</td>\n",
       "      <td>UU</td>\n",
       "      <td>0.046077</td>\n",
       "      <td>92187285.5</td>\n",
       "      <td>0.000000e+00</td>\n",
       "      <td>0.000000e+00</td>\n",
       "    </tr>\n",
       "    <tr>\n",
       "      <th>2</th>\n",
       "      <td>ALS</td>\n",
       "      <td>II</td>\n",
       "      <td>0.042518</td>\n",
       "      <td>36612230.5</td>\n",
       "      <td>0.000000e+00</td>\n",
       "      <td>0.000000e+00</td>\n",
       "    </tr>\n",
       "    <tr>\n",
       "      <th>13</th>\n",
       "      <td>II</td>\n",
       "      <td>UU</td>\n",
       "      <td>0.003559</td>\n",
       "      <td>106072790.0</td>\n",
       "      <td>3.784110e-72</td>\n",
       "      <td>5.676165e-71</td>\n",
       "    </tr>\n",
       "    <tr>\n",
       "      <th>0</th>\n",
       "      <td>ALS</td>\n",
       "      <td>Bias</td>\n",
       "      <td>-0.019332</td>\n",
       "      <td>191162112.5</td>\n",
       "      <td>1.350944e-33</td>\n",
       "      <td>2.026415e-32</td>\n",
       "    </tr>\n",
       "    <tr>\n",
       "      <th>7</th>\n",
       "      <td>Bias</td>\n",
       "      <td>Pop</td>\n",
       "      <td>-0.105475</td>\n",
       "      <td>323845515.5</td>\n",
       "      <td>0.000000e+00</td>\n",
       "      <td>0.000000e+00</td>\n",
       "    </tr>\n",
       "    <tr>\n",
       "      <th>3</th>\n",
       "      <td>ALS</td>\n",
       "      <td>Pop</td>\n",
       "      <td>-0.124807</td>\n",
       "      <td>260590280.5</td>\n",
       "      <td>0.000000e+00</td>\n",
       "      <td>0.000000e+00</td>\n",
       "    </tr>\n",
       "    <tr>\n",
       "      <th>12</th>\n",
       "      <td>II</td>\n",
       "      <td>Pop</td>\n",
       "      <td>-0.167326</td>\n",
       "      <td>60938968.0</td>\n",
       "      <td>0.000000e+00</td>\n",
       "      <td>0.000000e+00</td>\n",
       "    </tr>\n",
       "    <tr>\n",
       "      <th>5</th>\n",
       "      <td>Bias</td>\n",
       "      <td>IALS</td>\n",
       "      <td>-0.205455</td>\n",
       "      <td>264364257.0</td>\n",
       "      <td>0.000000e+00</td>\n",
       "      <td>0.000000e+00</td>\n",
       "    </tr>\n",
       "    <tr>\n",
       "      <th>1</th>\n",
       "      <td>ALS</td>\n",
       "      <td>IALS</td>\n",
       "      <td>-0.224787</td>\n",
       "      <td>205642286.5</td>\n",
       "      <td>0.000000e+00</td>\n",
       "      <td>0.000000e+00</td>\n",
       "    </tr>\n",
       "  </tbody>\n",
       "</table>\n",
       "</div>"
      ],
      "text/plain": [
       "      A1    A2      diff         stat             p         adj_p\n",
       "11  IALS    UU  0.270864   10265673.0  0.000000e+00  0.000000e+00\n",
       "9   IALS    II  0.267306   33805143.5  0.000000e+00  0.000000e+00\n",
       "14   Pop    UU  0.170884   44489207.5  0.000000e+00  0.000000e+00\n",
       "10  IALS   Pop  0.099980  645805667.5  0.000000e+00  0.000000e+00\n",
       "8   Bias    UU  0.065409  103127570.5  0.000000e+00  0.000000e+00\n",
       "6   Bias    II  0.061851   59219212.0  0.000000e+00  0.000000e+00\n",
       "4    ALS    UU  0.046077   92187285.5  0.000000e+00  0.000000e+00\n",
       "2    ALS    II  0.042518   36612230.5  0.000000e+00  0.000000e+00\n",
       "13    II    UU  0.003559  106072790.0  3.784110e-72  5.676165e-71\n",
       "0    ALS  Bias -0.019332  191162112.5  1.350944e-33  2.026415e-32\n",
       "7   Bias   Pop -0.105475  323845515.5  0.000000e+00  0.000000e+00\n",
       "3    ALS   Pop -0.124807  260590280.5  0.000000e+00  0.000000e+00\n",
       "12    II   Pop -0.167326   60938968.0  0.000000e+00  0.000000e+00\n",
       "5   Bias  IALS -0.205455  264364257.0  0.000000e+00  0.000000e+00\n",
       "1    ALS  IALS -0.224787  205642286.5  0.000000e+00  0.000000e+00"
      ]
     },
     "execution_count": 24,
     "metadata": {},
     "output_type": "execute_result"
    }
   ],
   "source": [
    "am_wilcox('recip_rank').sort_values('diff', ascending=False)"
   ]
  },
  {
   "cell_type": "markdown",
   "id": "b752001f",
   "metadata": {
    "papermill": {
     "duration": 0.031221,
     "end_time": "2022-02-16T02:05:02.944760",
     "exception": false,
     "start_time": "2022-02-16T02:05:02.913539",
     "status": "completed"
    },
    "tags": []
   },
   "source": [
    "## Prediction RMSE\n",
    "\n",
    "We will also look at the prediction RMSE."
   ]
  },
  {
   "cell_type": "code",
   "execution_count": 25,
   "id": "0c60ef63",
   "metadata": {
    "execution": {
     "iopub.execute_input": "2022-02-16T02:05:03.006724Z",
     "iopub.status.busy": "2022-02-16T02:05:03.006724Z",
     "iopub.status.idle": "2022-02-16T02:08:04.955271Z",
     "shell.execute_reply": "2022-02-16T02:08:04.955271Z"
    },
    "papermill": {
     "duration": 181.982396,
     "end_time": "2022-02-16T02:08:04.957148",
     "exception": false,
     "start_time": "2022-02-16T02:05:02.974752",
     "status": "completed"
    },
    "tags": []
   },
   "outputs": [],
   "source": [
    "user_rmse = preds.groupby(['algorithm', 'user']).apply(lambda df: rmse(df['prediction'], df['rating']))\n",
    "user_rmse = user_rmse.reset_index(name='RMSE')"
   ]
  },
  {
   "cell_type": "code",
   "execution_count": 26,
   "id": "7de44742",
   "metadata": {
    "execution": {
     "iopub.execute_input": "2022-02-16T02:08:05.021118Z",
     "iopub.status.busy": "2022-02-16T02:08:05.021118Z",
     "iopub.status.idle": "2022-02-16T02:08:07.215147Z",
     "shell.execute_reply": "2022-02-16T02:08:07.214460Z"
    },
    "papermill": {
     "duration": 2.228027,
     "end_time": "2022-02-16T02:08:07.217175",
     "exception": false,
     "start_time": "2022-02-16T02:08:04.989148",
     "status": "completed"
    },
    "tags": []
   },
   "outputs": [
    {
     "data": {
      "text/plain": [
       "<seaborn.axisgrid.FacetGrid at 0x241a4337ee0>"
      ]
     },
     "execution_count": 26,
     "metadata": {},
     "output_type": "execute_result"
    },
    {
     "data": {
      "image/png": "[encoded data removed]",
      "text/plain": [
       "<Figure size 360x360 with 1 Axes>"
      ]
     },
     "metadata": {
      "needs_background": "light"
     },
     "output_type": "display_data"
    }
   ],
   "source": [
    "sns.catplot(x='algorithm', y='RMSE', data=user_rmse, kind='bar')"
   ]
  },
  {
   "cell_type": "code",
   "execution_count": null,
   "id": "fe75fbee",
   "metadata": {
    "papermill": {
     "duration": 0.032031,
     "end_time": "2022-02-16T02:08:07.281173",
     "exception": false,
     "start_time": "2022-02-16T02:08:07.249142",
     "status": "completed"
    },
    "tags": []
   },
   "outputs": [],
   "source": []
  }
 ],
 "metadata": {
  "kernelspec": {
   "display_name": "Python 3 (ipykernel)",
   "language": "python",
   "name": "python3"
  },
  "language_info": {
   "codemirror_mode": {
    "name": "ipython",
    "version": 3
   },
   "file_extension": ".py",
   "mimetype": "text/x-python",
   "name": "python",
   "nbconvert_exporter": "python",
   "pygments_lexer": "ipython3",
   "version": "3.9.7"
  },
  "papermill": {
   "default_parameters": {},
   "duration": 274.694964,
   "end_time": "2022-02-16T02:08:07.650783",
   "environment_variables": {},
   "exception": null,
   "input_path": "eval-report.ipynb",
   "output_path": "eval-report.ml10m.ipynb",
   "parameters": {
    "dataset": "ml10m"
   },
   "start_time": "2022-02-16T02:03:32.955819",
   "version": "2.3.3"
  }
 },
 "nbformat": 4,
 "nbformat_minor": 5
}