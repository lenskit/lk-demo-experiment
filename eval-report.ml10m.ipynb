{
 "cells": [
  {
   "cell_type": "markdown",
   "id": "7291eba0",
   "metadata": {
    "papermill": {
     "duration": 0.01057,
     "end_time": "2024-12-14T21:31:40.030895",
     "exception": false,
     "start_time": "2024-12-14T21:31:40.020325",
     "status": "completed"
    },
    "tags": []
   },
   "source": [
    "# Evaluation Analysis for Recommender Output"
   ]
  },
  {
   "cell_type": "markdown",
   "id": "872010be",
   "metadata": {
    "papermill": {
     "duration": 0.001114,
     "end_time": "2024-12-14T21:31:40.033290",
     "exception": false,
     "start_time": "2024-12-14T21:31:40.032176",
     "status": "completed"
    },
    "tags": []
   },
   "source": [
    "In this section we will analyze and compare the generated recommendations and predictions from a predefined list of algorithms with the goal of assessing the performance of each algorithm with respect to a metric. In other words, we would rank the algorithms for each metric considered with respect to performance."
   ]
  },
  {
   "cell_type": "markdown",
   "id": "aaaf15df",
   "metadata": {
    "papermill": {
     "duration": 0.001069,
     "end_time": "2024-12-14T21:31:40.035469",
     "exception": false,
     "start_time": "2024-12-14T21:31:40.034400",
     "status": "completed"
    },
    "tags": []
   },
   "source": [
    "## Setup"
   ]
  },
  {
   "cell_type": "markdown",
   "id": "8684b9cf",
   "metadata": {
    "papermill": {
     "duration": 0.001075,
     "end_time": "2024-12-14T21:31:40.037597",
     "exception": false,
     "start_time": "2024-12-14T21:31:40.036522",
     "status": "completed"
    },
    "tags": []
   },
   "source": [
    "Below are the list of packages required to successfully run the analysis. They are divided into partitions to signify their specific task.<br>\n",
    "We need the pathlib package for working with files and folders"
   ]
  },
  {
   "cell_type": "code",
   "execution_count": 1,
   "id": "ee069941",
   "metadata": {
    "execution": {
     "iopub.execute_input": "2024-12-14T21:31:40.040363Z",
     "iopub.status.busy": "2024-12-14T21:31:40.040269Z",
     "iopub.status.idle": "2024-12-14T21:31:40.042360Z",
     "shell.execute_reply": "2024-12-14T21:31:40.042076Z"
    },
    "papermill": {
     "duration": 0.004263,
     "end_time": "2024-12-14T21:31:40.042941",
     "exception": false,
     "start_time": "2024-12-14T21:31:40.038678",
     "status": "completed"
    },
    "tags": []
   },
   "outputs": [],
   "source": [
    "from pathlib import Path\n",
    "import json"
   ]
  },
  {
   "cell_type": "markdown",
   "id": "50590acc",
   "metadata": {
    "papermill": {
     "duration": 0.001092,
     "end_time": "2024-12-14T21:31:40.045591",
     "exception": false,
     "start_time": "2024-12-14T21:31:40.044499",
     "status": "completed"
    },
    "tags": []
   },
   "source": [
    "We would use the pandas for analyzing and manipulating our data while seaborn and matplotlib are used for data visualization. statsmodels.graphics.gofplots and scipy.stats.shapiro are used for normality check. Scipy.stats.friedmanchisquare is a non-parametric test used to determine the statistical significance in metric results and the wilcoxon test is used for pairwise comparison of sample data."
   ]
  },
  {
   "cell_type": "code",
   "execution_count": 2,
   "id": "d40cc792",
   "metadata": {
    "execution": {
     "iopub.execute_input": "2024-12-14T21:31:40.048134Z",
     "iopub.status.busy": "2024-12-14T21:31:40.048059Z",
     "iopub.status.idle": "2024-12-14T21:31:40.484937Z",
     "shell.execute_reply": "2024-12-14T21:31:40.484553Z"
    },
    "lines_to_next_cell": 2,
    "papermill": {
     "duration": 0.438962,
     "end_time": "2024-12-14T21:31:40.485667",
     "exception": false,
     "start_time": "2024-12-14T21:31:40.046705",
     "status": "completed"
    },
    "tags": []
   },
   "outputs": [],
   "source": [
    "import pandas as pd\n",
    "import seaborn as sns\n",
    "import matplotlib.pyplot as plt\n",
    "from statsmodels.graphics.gofplots import qqplot\n",
    "from scipy.stats import shapiro\n",
    "from scipy.stats import friedmanchisquare, wilcoxon\n",
    "from itertools import combinations"
   ]
  },
  {
   "cell_type": "markdown",
   "id": "76360899",
   "metadata": {
    "papermill": {
     "duration": 0.008972,
     "end_time": "2024-12-14T21:31:40.496073",
     "exception": false,
     "start_time": "2024-12-14T21:31:40.487101",
     "status": "completed"
    },
    "tags": []
   },
   "source": [
    "Import the LensKit metrics for analysis:"
   ]
  },
  {
   "cell_type": "code",
   "execution_count": 3,
   "id": "9f0614f8",
   "metadata": {
    "execution": {
     "iopub.execute_input": "2024-12-14T21:31:40.498975Z",
     "iopub.status.busy": "2024-12-14T21:31:40.498816Z",
     "iopub.status.idle": "2024-12-14T21:31:41.144253Z",
     "shell.execute_reply": "2024-12-14T21:31:41.143871Z"
    },
    "papermill": {
     "duration": 0.647584,
     "end_time": "2024-12-14T21:31:41.144889",
     "exception": false,
     "start_time": "2024-12-14T21:31:40.497305",
     "status": "completed"
    },
    "tags": []
   },
   "outputs": [],
   "source": [
    "from lenskit.data import ItemListCollection, UserIDKey\n",
    "from lenskit.metrics import RunAnalysis, RMSE, NDCG, RecipRank, RBP"
   ]
  },
  {
   "cell_type": "markdown",
   "id": "44472f41",
   "metadata": {
    "papermill": {
     "duration": 0.008805,
     "end_time": "2024-12-14T21:31:41.155116",
     "exception": false,
     "start_time": "2024-12-14T21:31:41.146311",
     "status": "completed"
    },
    "tags": []
   },
   "source": [
    "## Load Data\n",
    "\n",
    "The recommendations are in `runs`, and we will need to reassemble the test data from `test`."
   ]
  },
  {
   "cell_type": "code",
   "execution_count": 4,
   "id": "a854029a",
   "metadata": {
    "execution": {
     "iopub.execute_input": "2024-12-14T21:31:41.158034Z",
     "iopub.status.busy": "2024-12-14T21:31:41.157944Z",
     "iopub.status.idle": "2024-12-14T21:31:41.159927Z",
     "shell.execute_reply": "2024-12-14T21:31:41.159626Z"
    },
    "papermill": {
     "duration": 0.004013,
     "end_time": "2024-12-14T21:31:41.160412",
     "exception": false,
     "start_time": "2024-12-14T21:31:41.156399",
     "status": "completed"
    },
    "tags": [
     "parameters"
    ]
   },
   "outputs": [],
   "source": [
    "dataset = \"ml100k\""
   ]
  },
  {
   "cell_type": "code",
   "execution_count": 5,
   "id": "d558069a",
   "metadata": {
    "execution": {
     "iopub.execute_input": "2024-12-14T21:31:41.163087Z",
     "iopub.status.busy": "2024-12-14T21:31:41.163006Z",
     "iopub.status.idle": "2024-12-14T21:31:41.164560Z",
     "shell.execute_reply": "2024-12-14T21:31:41.164336Z"
    },
    "papermill": {
     "duration": 0.003496,
     "end_time": "2024-12-14T21:31:41.165021",
     "exception": false,
     "start_time": "2024-12-14T21:31:41.161525",
     "status": "completed"
    },
    "tags": [
     "injected-parameters"
    ]
   },
   "outputs": [],
   "source": [
    "# Parameters\n",
    "dataset = \"ml10m\"\n"
   ]
  },
  {
   "cell_type": "code",
   "execution_count": 6,
   "id": "58b1ab64",
   "metadata": {
    "execution": {
     "iopub.execute_input": "2024-12-14T21:31:41.167850Z",
     "iopub.status.busy": "2024-12-14T21:31:41.167772Z",
     "iopub.status.idle": "2024-12-14T21:31:41.169240Z",
     "shell.execute_reply": "2024-12-14T21:31:41.169010Z"
    },
    "papermill": {
     "duration": 0.003524,
     "end_time": "2024-12-14T21:31:41.169677",
     "exception": false,
     "start_time": "2024-12-14T21:31:41.166153",
     "status": "completed"
    },
    "tags": []
   },
   "outputs": [],
   "source": [
    "output_root = Path(\"runs\")"
   ]
  },
  {
   "cell_type": "code",
   "execution_count": 7,
   "id": "291fdc84",
   "metadata": {
    "execution": {
     "iopub.execute_input": "2024-12-14T21:31:41.172414Z",
     "iopub.status.busy": "2024-12-14T21:31:41.172330Z",
     "iopub.status.idle": "2024-12-14T21:31:41.173953Z",
     "shell.execute_reply": "2024-12-14T21:31:41.173740Z"
    },
    "papermill": {
     "duration": 0.003657,
     "end_time": "2024-12-14T21:31:41.174449",
     "exception": false,
     "start_time": "2024-12-14T21:31:41.170792",
     "status": "completed"
    },
    "tags": []
   },
   "outputs": [],
   "source": [
    "dirs = [fld for fld in output_root.glob(f'{dataset}-*')]"
   ]
  },
  {
   "cell_type": "code",
   "execution_count": 8,
   "id": "e47fe658",
   "metadata": {
    "execution": {
     "iopub.execute_input": "2024-12-14T21:31:41.177225Z",
     "iopub.status.busy": "2024-12-14T21:31:41.177113Z",
     "iopub.status.idle": "2024-12-14T21:31:47.769521Z",
     "shell.execute_reply": "2024-12-14T21:31:47.768913Z"
    },
    "papermill": {
     "duration": 6.594749,
     "end_time": "2024-12-14T21:31:47.770318",
     "exception": false,
     "start_time": "2024-12-14T21:31:41.175569",
     "status": "completed"
    },
    "tags": []
   },
   "outputs": [],
   "source": [
    "recs = ItemListCollection(['model', 'user_id'], index=False)\n",
    "for fld in dirs:\n",
    "    for file in fld.glob(\"recs-*\"):\n",
    "        rec = ItemListCollection.load_parquet(file)\n",
    "        recs.add_from(rec, model=fld.name.split(\"-\")[1])"
   ]
  },
  {
   "cell_type": "code",
   "execution_count": 9,
   "id": "36d675e6",
   "metadata": {
    "execution": {
     "iopub.execute_input": "2024-12-14T21:31:47.781817Z",
     "iopub.status.busy": "2024-12-14T21:31:47.781719Z",
     "iopub.status.idle": "2024-12-14T21:31:47.814749Z",
     "shell.execute_reply": "2024-12-14T21:31:47.814264Z"
    },
    "papermill": {
     "duration": 0.043532,
     "end_time": "2024-12-14T21:31:47.815346",
     "exception": false,
     "start_time": "2024-12-14T21:31:47.771814",
     "status": "completed"
    },
    "tags": []
   },
   "outputs": [
    {
     "data": {
      "text/plain": [
       "['ALS', 'Bias', 'IALS', 'IIE', 'III', 'Pop']"
      ]
     },
     "execution_count": 9,
     "metadata": {},
     "output_type": "execute_result"
    }
   ],
   "source": [
    "rec_algos = sorted(set(a for (a, _u) in recs.keys()))\n",
    "rec_algos"
   ]
  },
  {
   "cell_type": "code",
   "execution_count": 10,
   "id": "530bbfda",
   "metadata": {
    "execution": {
     "iopub.execute_input": "2024-12-14T21:31:47.818432Z",
     "iopub.status.busy": "2024-12-14T21:31:47.818347Z",
     "iopub.status.idle": "2024-12-14T21:31:52.979217Z",
     "shell.execute_reply": "2024-12-14T21:31:52.978809Z"
    },
    "papermill": {
     "duration": 5.163273,
     "end_time": "2024-12-14T21:31:52.979956",
     "exception": false,
     "start_time": "2024-12-14T21:31:47.816683",
     "status": "completed"
    },
    "tags": []
   },
   "outputs": [],
   "source": [
    "preds = ItemListCollection(['model', 'user_id'], index=False)\n",
    "for fld in dirs:\n",
    "    for file in fld.glob(\"pred-*\"):\n",
    "        pred = ItemListCollection.load_parquet(file)\n",
    "        preds.add_from(pred, model=fld.name.split(\"-\")[1])"
   ]
  },
  {
   "cell_type": "markdown",
   "id": "737fbf6f",
   "metadata": {
    "papermill": {
     "duration": 0.008729,
     "end_time": "2024-12-14T21:31:52.990252",
     "exception": false,
     "start_time": "2024-12-14T21:31:52.981523",
     "status": "completed"
    },
    "tags": []
   },
   "source": [
    "We need to load the test data so that we have the ground truths for computing accuracy"
   ]
  },
  {
   "cell_type": "code",
   "execution_count": 11,
   "id": "094c6750",
   "metadata": {
    "execution": {
     "iopub.execute_input": "2024-12-14T21:31:52.993542Z",
     "iopub.status.busy": "2024-12-14T21:31:52.993313Z",
     "iopub.status.idle": "2024-12-14T21:31:52.995069Z",
     "shell.execute_reply": "2024-12-14T21:31:52.994803Z"
    },
    "papermill": {
     "duration": 0.004068,
     "end_time": "2024-12-14T21:31:52.995693",
     "exception": false,
     "start_time": "2024-12-14T21:31:52.991625",
     "status": "completed"
    },
    "tags": []
   },
   "outputs": [],
   "source": [
    "split_root = Path(\"data-split\")\n",
    "split_dir = split_root / dataset"
   ]
  },
  {
   "cell_type": "code",
   "execution_count": 12,
   "id": "b6b27b83",
   "metadata": {
    "execution": {
     "iopub.execute_input": "2024-12-14T21:31:52.998535Z",
     "iopub.status.busy": "2024-12-14T21:31:52.998439Z",
     "iopub.status.idle": "2024-12-14T21:31:55.570484Z",
     "shell.execute_reply": "2024-12-14T21:31:55.570078Z"
    },
    "papermill": {
     "duration": 2.574248,
     "end_time": "2024-12-14T21:31:55.571195",
     "exception": false,
     "start_time": "2024-12-14T21:31:52.996947",
     "status": "completed"
    },
    "tags": []
   },
   "outputs": [],
   "source": [
    "test = ItemListCollection(UserIDKey)\n",
    "for file in split_dir.glob(\"test-*.parquet\"):\n",
    "    df = pd.read_parquet(file)\n",
    "    part = ItemListCollection.from_df(df, UserIDKey)\n",
    "    test.add_from(part)"
   ]
  },
  {
   "cell_type": "markdown",
   "id": "fed8bea2",
   "metadata": {
    "papermill": {
     "duration": 0.008924,
     "end_time": "2024-12-14T21:31:55.581777",
     "exception": false,
     "start_time": "2024-12-14T21:31:55.572853",
     "status": "completed"
    },
    "tags": []
   },
   "source": [
    "## Top-N Metrics\n",
    "\n",
    "`RunListAnalysis` computes metrics for recommendation results and takes care of\n",
    "matching recommendations and ground truth."
   ]
  },
  {
   "cell_type": "code",
   "execution_count": 13,
   "id": "7b68ce95",
   "metadata": {
    "execution": {
     "iopub.execute_input": "2024-12-14T21:31:55.585003Z",
     "iopub.status.busy": "2024-12-14T21:31:55.584858Z",
     "iopub.status.idle": "2024-12-14T21:32:22.573919Z",
     "shell.execute_reply": "2024-12-14T21:32:22.573545Z"
    },
    "papermill": {
     "duration": 26.991402,
     "end_time": "2024-12-14T21:32:22.574501",
     "exception": false,
     "start_time": "2024-12-14T21:31:55.583099",
     "status": "completed"
    },
    "tags": []
   },
   "outputs": [
    {
     "name": "stderr",
     "output_type": "stream",
     "text": [
      "/home/mde48/lenskit/lk-demo-experiment/.pixi/envs/cuda/lib/python3.12/site-packages/lenskit/metrics/bulk.py:116: FutureWarning: The previous implementation of stack is deprecated and will be removed in a future version of pandas. See the What's New notes for pandas 2.1.0 for details. Specify future_stack=True to adopt the new implementation and silence this warning.\n",
      "  df = scores.groupby(list(keys)).agg([\"mean\", \"median\", \"std\"]).stack(level=0)\n"
     ]
    },
    {
     "data": {
      "text/html": [
       "<div>\n",
       "<style scoped>\n",
       "    .dataframe tbody tr th:only-of-type {\n",
       "        vertical-align: middle;\n",
       "    }\n",
       "\n",
       "    .dataframe tbody tr th {\n",
       "        vertical-align: top;\n",
       "    }\n",
       "\n",
       "    .dataframe thead th {\n",
       "        text-align: right;\n",
       "    }\n",
       "</style>\n",
       "<table border=\"1\" class=\"dataframe\">\n",
       "  <thead>\n",
       "    <tr style=\"text-align: right;\">\n",
       "      <th></th>\n",
       "      <th></th>\n",
       "      <th>mean</th>\n",
       "      <th>median</th>\n",
       "      <th>std</th>\n",
       "    </tr>\n",
       "    <tr>\n",
       "      <th>model</th>\n",
       "      <th></th>\n",
       "      <th></th>\n",
       "      <th></th>\n",
       "      <th></th>\n",
       "    </tr>\n",
       "  </thead>\n",
       "  <tbody>\n",
       "    <tr>\n",
       "      <th rowspan=\"3\" valign=\"top\">ALS</th>\n",
       "      <th>NDCG</th>\n",
       "      <td>0.038213</td>\n",
       "      <td>0.000000e+00</td>\n",
       "      <td>0.075143</td>\n",
       "    </tr>\n",
       "    <tr>\n",
       "      <th>RBP</th>\n",
       "      <td>0.017647</td>\n",
       "      <td>0.000000e+00</td>\n",
       "      <td>0.080197</td>\n",
       "    </tr>\n",
       "    <tr>\n",
       "      <th>RecipRank</th>\n",
       "      <td>0.050194</td>\n",
       "      <td>0.000000e+00</td>\n",
       "      <td>0.159501</td>\n",
       "    </tr>\n",
       "    <tr>\n",
       "      <th rowspan=\"3\" valign=\"top\">Bias</th>\n",
       "      <th>NDCG</th>\n",
       "      <td>0.043227</td>\n",
       "      <td>0.000000e+00</td>\n",
       "      <td>0.085239</td>\n",
       "    </tr>\n",
       "    <tr>\n",
       "      <th>RBP</th>\n",
       "      <td>0.029255</td>\n",
       "      <td>0.000000e+00</td>\n",
       "      <td>0.107693</td>\n",
       "    </tr>\n",
       "    <tr>\n",
       "      <th>RecipRank</th>\n",
       "      <td>0.068840</td>\n",
       "      <td>0.000000e+00</td>\n",
       "      <td>0.210294</td>\n",
       "    </tr>\n",
       "    <tr>\n",
       "      <th rowspan=\"3\" valign=\"top\">IALS</th>\n",
       "      <th>NDCG</th>\n",
       "      <td>0.285632</td>\n",
       "      <td>2.388330e-01</td>\n",
       "      <td>0.205255</td>\n",
       "    </tr>\n",
       "    <tr>\n",
       "      <th>RBP</th>\n",
       "      <td>0.129865</td>\n",
       "      <td>3.914118e-03</td>\n",
       "      <td>0.218110</td>\n",
       "    </tr>\n",
       "    <tr>\n",
       "      <th>RecipRank</th>\n",
       "      <td>0.275061</td>\n",
       "      <td>1.250000e-01</td>\n",
       "      <td>0.328409</td>\n",
       "    </tr>\n",
       "    <tr>\n",
       "      <th rowspan=\"3\" valign=\"top\">IIE</th>\n",
       "      <th>NDCG</th>\n",
       "      <td>0.008300</td>\n",
       "      <td>0.000000e+00</td>\n",
       "      <td>0.024377</td>\n",
       "    </tr>\n",
       "    <tr>\n",
       "      <th>RBP</th>\n",
       "      <td>0.000207</td>\n",
       "      <td>0.000000e+00</td>\n",
       "      <td>0.007187</td>\n",
       "    </tr>\n",
       "    <tr>\n",
       "      <th>RecipRank</th>\n",
       "      <td>0.004205</td>\n",
       "      <td>0.000000e+00</td>\n",
       "      <td>0.020607</td>\n",
       "    </tr>\n",
       "    <tr>\n",
       "      <th rowspan=\"3\" valign=\"top\">III</th>\n",
       "      <th>NDCG</th>\n",
       "      <td>0.245048</td>\n",
       "      <td>1.736796e-01</td>\n",
       "      <td>0.221260</td>\n",
       "    </tr>\n",
       "    <tr>\n",
       "      <th>RBP</th>\n",
       "      <td>0.158682</td>\n",
       "      <td>1.953125e-03</td>\n",
       "      <td>0.245553</td>\n",
       "    </tr>\n",
       "    <tr>\n",
       "      <th>RecipRank</th>\n",
       "      <td>0.308449</td>\n",
       "      <td>1.111111e-01</td>\n",
       "      <td>0.374972</td>\n",
       "    </tr>\n",
       "    <tr>\n",
       "      <th rowspan=\"3\" valign=\"top\">Pop</th>\n",
       "      <th>NDCG</th>\n",
       "      <td>0.152604</td>\n",
       "      <td>9.991295e-02</td>\n",
       "      <td>0.162863</td>\n",
       "    </tr>\n",
       "    <tr>\n",
       "      <th>RBP</th>\n",
       "      <td>0.075644</td>\n",
       "      <td>1.192093e-07</td>\n",
       "      <td>0.170703</td>\n",
       "    </tr>\n",
       "    <tr>\n",
       "      <th>RecipRank</th>\n",
       "      <td>0.176635</td>\n",
       "      <td>4.347826e-02</td>\n",
       "      <td>0.292454</td>\n",
       "    </tr>\n",
       "  </tbody>\n",
       "</table>\n",
       "</div>"
      ],
      "text/plain": [
       "                     mean        median       std\n",
       "model                                            \n",
       "ALS   NDCG       0.038213  0.000000e+00  0.075143\n",
       "      RBP        0.017647  0.000000e+00  0.080197\n",
       "      RecipRank  0.050194  0.000000e+00  0.159501\n",
       "Bias  NDCG       0.043227  0.000000e+00  0.085239\n",
       "      RBP        0.029255  0.000000e+00  0.107693\n",
       "      RecipRank  0.068840  0.000000e+00  0.210294\n",
       "IALS  NDCG       0.285632  2.388330e-01  0.205255\n",
       "      RBP        0.129865  3.914118e-03  0.218110\n",
       "      RecipRank  0.275061  1.250000e-01  0.328409\n",
       "IIE   NDCG       0.008300  0.000000e+00  0.024377\n",
       "      RBP        0.000207  0.000000e+00  0.007187\n",
       "      RecipRank  0.004205  0.000000e+00  0.020607\n",
       "III   NDCG       0.245048  1.736796e-01  0.221260\n",
       "      RBP        0.158682  1.953125e-03  0.245553\n",
       "      RecipRank  0.308449  1.111111e-01  0.374972\n",
       "Pop   NDCG       0.152604  9.991295e-02  0.162863\n",
       "      RBP        0.075644  1.192093e-07  0.170703\n",
       "      RecipRank  0.176635  4.347826e-02  0.292454"
      ]
     },
     "execution_count": 13,
     "metadata": {},
     "output_type": "execute_result"
    }
   ],
   "source": [
    "ra = RunAnalysis()\n",
    "\n",
    "ra.add_metric(NDCG())\n",
    "ra.add_metric(RecipRank())\n",
    "ra.add_metric(RBP())\n",
    "\n",
    "rec_results = ra.compute(recs, test)\n",
    "rec_results.list_summary('model')"
   ]
  },
  {
   "cell_type": "markdown",
   "id": "8cba4e78",
   "metadata": {
    "papermill": {
     "duration": 0.018665,
     "end_time": "2024-12-14T21:32:22.594728",
     "exception": false,
     "start_time": "2024-12-14T21:32:22.576063",
     "status": "completed"
    },
    "tags": []
   },
   "source": [
    "We can reshape the list metrics and plot them:"
   ]
  },
  {
   "cell_type": "code",
   "execution_count": 14,
   "id": "238604c3",
   "metadata": {
    "execution": {
     "iopub.execute_input": "2024-12-14T21:32:22.598369Z",
     "iopub.status.busy": "2024-12-14T21:32:22.598072Z",
     "iopub.status.idle": "2024-12-14T21:32:27.170996Z",
     "shell.execute_reply": "2024-12-14T21:32:27.170744Z"
    },
    "papermill": {
     "duration": 4.575452,
     "end_time": "2024-12-14T21:32:27.171617",
     "exception": false,
     "start_time": "2024-12-14T21:32:22.596165",
     "status": "completed"
    },
    "tags": []
   },
   "outputs": [
    {
     "data": {
      "image/png": "[encoded data removed]",
      "text/plain": [
       "<Figure size 1511.11x500 with 3 Axes>"
      ]
     },
     "metadata": {},
     "output_type": "display_data"
    }
   ],
   "source": [
    "metrics = rec_results.list_metrics()\n",
    "metrics = metrics.melt(var_name='metric', ignore_index=False).reset_index()\n",
    "sns.catplot(metrics, x='model', y='value', col='metric', kind='bar')\n",
    "plt.show()"
   ]
  },
  {
   "cell_type": "markdown",
   "id": "d6f202d4",
   "metadata": {
    "papermill": {
     "duration": 0.009258,
     "end_time": "2024-12-14T21:32:27.182733",
     "exception": false,
     "start_time": "2024-12-14T21:32:27.173475",
     "status": "completed"
    },
    "tags": []
   },
   "source": [
    "## Prediction RMSE\n",
    "\n",
    "We will also look at the prediction RMSE."
   ]
  },
  {
   "cell_type": "code",
   "execution_count": 15,
   "id": "c78c5ff6",
   "metadata": {
    "execution": {
     "iopub.execute_input": "2024-12-14T21:32:27.186366Z",
     "iopub.status.busy": "2024-12-14T21:32:27.186263Z",
     "iopub.status.idle": "2024-12-14T21:33:35.118187Z",
     "shell.execute_reply": "2024-12-14T21:33:35.118027Z"
    },
    "papermill": {
     "duration": 67.935891,
     "end_time": "2024-12-14T21:33:35.120148",
     "exception": false,
     "start_time": "2024-12-14T21:32:27.184257",
     "status": "completed"
    },
    "tags": []
   },
   "outputs": [
    {
     "name": "stderr",
     "output_type": "stream",
     "text": [
      "/home/mde48/lenskit/lk-demo-experiment/.pixi/envs/cuda/lib/python3.12/site-packages/lenskit/metrics/bulk.py:116: FutureWarning: The previous implementation of stack is deprecated and will be removed in a future version of pandas. See the What's New notes for pandas 2.1.0 for details. Specify future_stack=True to adopt the new implementation and silence this warning.\n",
      "  df = scores.groupby(list(keys)).agg([\"mean\", \"median\", \"std\"]).stack(level=0)\n"
     ]
    },
    {
     "data": {
      "text/html": [
       "<div>\n",
       "<style scoped>\n",
       "    .dataframe tbody tr th:only-of-type {\n",
       "        vertical-align: middle;\n",
       "    }\n",
       "\n",
       "    .dataframe tbody tr th {\n",
       "        vertical-align: top;\n",
       "    }\n",
       "\n",
       "    .dataframe thead th {\n",
       "        text-align: right;\n",
       "    }\n",
       "</style>\n",
       "<table border=\"1\" class=\"dataframe\">\n",
       "  <thead>\n",
       "    <tr style=\"text-align: right;\">\n",
       "      <th></th>\n",
       "      <th></th>\n",
       "      <th>mean</th>\n",
       "      <th>median</th>\n",
       "      <th>std</th>\n",
       "    </tr>\n",
       "    <tr>\n",
       "      <th>model</th>\n",
       "      <th></th>\n",
       "      <th></th>\n",
       "      <th></th>\n",
       "      <th></th>\n",
       "    </tr>\n",
       "  </thead>\n",
       "  <tbody>\n",
       "    <tr>\n",
       "      <th>ALS</th>\n",
       "      <th>RMSE</th>\n",
       "      <td>0.789414</td>\n",
       "      <td>0.736592</td>\n",
       "      <td>0.333054</td>\n",
       "    </tr>\n",
       "    <tr>\n",
       "      <th>Bias</th>\n",
       "      <th>RMSE</th>\n",
       "      <td>0.832844</td>\n",
       "      <td>0.779487</td>\n",
       "      <td>0.347313</td>\n",
       "    </tr>\n",
       "    <tr>\n",
       "      <th>IIE</th>\n",
       "      <th>RMSE</th>\n",
       "      <td>0.777402</td>\n",
       "      <td>0.725244</td>\n",
       "      <td>0.333224</td>\n",
       "    </tr>\n",
       "  </tbody>\n",
       "</table>\n",
       "</div>"
      ],
      "text/plain": [
       "                mean    median       std\n",
       "model                                   \n",
       "ALS   RMSE  0.789414  0.736592  0.333054\n",
       "Bias  RMSE  0.832844  0.779487  0.347313\n",
       "IIE   RMSE  0.777402  0.725244  0.333224"
      ]
     },
     "execution_count": 15,
     "metadata": {},
     "output_type": "execute_result"
    }
   ],
   "source": [
    "pa = RunAnalysis()\n",
    "\n",
    "pa.add_metric(RMSE(missing_scores='ignore', missing_truth='ignore'))\n",
    "\n",
    "pred_results = pa.compute(preds, test)\n",
    "pred_results.list_summary('model')"
   ]
  },
  {
   "cell_type": "code",
   "execution_count": 16,
   "id": "929287d6",
   "metadata": {
    "execution": {
     "iopub.execute_input": "2024-12-14T21:33:35.130428Z",
     "iopub.status.busy": "2024-12-14T21:33:35.130324Z",
     "iopub.status.idle": "2024-12-14T21:33:35.876070Z",
     "shell.execute_reply": "2024-12-14T21:33:35.875804Z"
    },
    "papermill": {
     "duration": 0.748278,
     "end_time": "2024-12-14T21:33:35.876698",
     "exception": false,
     "start_time": "2024-12-14T21:33:35.128420",
     "status": "completed"
    },
    "tags": []
   },
   "outputs": [
    {
     "data": {
      "image/png": "[encoded data removed]",
      "text/plain": [
       "<Figure size 511.111x500 with 1 Axes>"
      ]
     },
     "metadata": {},
     "output_type": "display_data"
    }
   ],
   "source": [
    "sns.catplot(pred_results.list_metrics().reset_index(), x='model', y='RMSE', kind='bar')\n",
    "plt.show()"
   ]
  },
  {
   "cell_type": "markdown",
   "id": "0caac7ca",
   "metadata": {
    "papermill": {
     "duration": 0.009059,
     "end_time": "2024-12-14T21:33:35.887623",
     "exception": false,
     "start_time": "2024-12-14T21:33:35.878564",
     "status": "completed"
    },
    "tags": []
   },
   "source": [
    "## Save Metrics\n",
    "\n",
    "We'll now save the metrics to a file."
   ]
  },
  {
   "cell_type": "code",
   "execution_count": 17,
   "id": "4e43b021",
   "metadata": {
    "execution": {
     "iopub.execute_input": "2024-12-14T21:33:35.891168Z",
     "iopub.status.busy": "2024-12-14T21:33:35.891091Z",
     "iopub.status.idle": "2024-12-14T21:33:35.928806Z",
     "shell.execute_reply": "2024-12-14T21:33:35.928542Z"
    },
    "papermill": {
     "duration": 0.040283,
     "end_time": "2024-12-14T21:33:35.929482",
     "exception": false,
     "start_time": "2024-12-14T21:33:35.889199",
     "status": "completed"
    },
    "tags": []
   },
   "outputs": [
    {
     "name": "stderr",
     "output_type": "stream",
     "text": [
      "/home/mde48/lenskit/lk-demo-experiment/.pixi/envs/cuda/lib/python3.12/site-packages/lenskit/metrics/bulk.py:116: FutureWarning: The previous implementation of stack is deprecated and will be removed in a future version of pandas. See the What's New notes for pandas 2.1.0 for details. Specify future_stack=True to adopt the new implementation and silence this warning.\n",
      "  df = scores.groupby(list(keys)).agg([\"mean\", \"median\", \"std\"]).stack(level=0)\n"
     ]
    },
    {
     "data": {
      "text/html": [
       "<div>\n",
       "<style scoped>\n",
       "    .dataframe tbody tr th:only-of-type {\n",
       "        vertical-align: middle;\n",
       "    }\n",
       "\n",
       "    .dataframe tbody tr th {\n",
       "        vertical-align: top;\n",
       "    }\n",
       "\n",
       "    .dataframe thead th {\n",
       "        text-align: right;\n",
       "    }\n",
       "</style>\n",
       "<table border=\"1\" class=\"dataframe\">\n",
       "  <thead>\n",
       "    <tr style=\"text-align: right;\">\n",
       "      <th></th>\n",
       "      <th>NDCG</th>\n",
       "      <th>RBP</th>\n",
       "      <th>RecipRank</th>\n",
       "    </tr>\n",
       "    <tr>\n",
       "      <th>model</th>\n",
       "      <th></th>\n",
       "      <th></th>\n",
       "      <th></th>\n",
       "    </tr>\n",
       "  </thead>\n",
       "  <tbody>\n",
       "    <tr>\n",
       "      <th>ALS</th>\n",
       "      <td>0.038213</td>\n",
       "      <td>0.017647</td>\n",
       "      <td>0.050194</td>\n",
       "    </tr>\n",
       "    <tr>\n",
       "      <th>Bias</th>\n",
       "      <td>0.043227</td>\n",
       "      <td>0.029255</td>\n",
       "      <td>0.068840</td>\n",
       "    </tr>\n",
       "    <tr>\n",
       "      <th>IALS</th>\n",
       "      <td>0.285632</td>\n",
       "      <td>0.129865</td>\n",
       "      <td>0.275061</td>\n",
       "    </tr>\n",
       "    <tr>\n",
       "      <th>IIE</th>\n",
       "      <td>0.008300</td>\n",
       "      <td>0.000207</td>\n",
       "      <td>0.004205</td>\n",
       "    </tr>\n",
       "    <tr>\n",
       "      <th>III</th>\n",
       "      <td>0.245048</td>\n",
       "      <td>0.158682</td>\n",
       "      <td>0.308449</td>\n",
       "    </tr>\n",
       "    <tr>\n",
       "      <th>Pop</th>\n",
       "      <td>0.152604</td>\n",
       "      <td>0.075644</td>\n",
       "      <td>0.176635</td>\n",
       "    </tr>\n",
       "  </tbody>\n",
       "</table>\n",
       "</div>"
      ],
      "text/plain": [
       "           NDCG       RBP  RecipRank\n",
       "model                               \n",
       "ALS    0.038213  0.017647   0.050194\n",
       "Bias   0.043227  0.029255   0.068840\n",
       "IALS   0.285632  0.129865   0.275061\n",
       "IIE    0.008300  0.000207   0.004205\n",
       "III    0.245048  0.158682   0.308449\n",
       "Pop    0.152604  0.075644   0.176635"
      ]
     },
     "execution_count": 17,
     "metadata": {},
     "output_type": "execute_result"
    }
   ],
   "source": [
    "rlsum = rec_results.list_summary('model')['mean'].unstack()\n",
    "rlsum"
   ]
  },
  {
   "cell_type": "code",
   "execution_count": 18,
   "id": "cae53f67",
   "metadata": {
    "execution": {
     "iopub.execute_input": "2024-12-14T21:33:35.933460Z",
     "iopub.status.busy": "2024-12-14T21:33:35.933365Z",
     "iopub.status.idle": "2024-12-14T21:33:35.935699Z",
     "shell.execute_reply": "2024-12-14T21:33:35.935540Z"
    },
    "papermill": {
     "duration": 0.004878,
     "end_time": "2024-12-14T21:33:35.936153",
     "exception": false,
     "start_time": "2024-12-14T21:33:35.931275",
     "status": "completed"
    },
    "tags": []
   },
   "outputs": [],
   "source": [
    "rlsum.to_json(f'eval-metrics.{dataset}.json', orient='index')"
   ]
  }
 ],
 "metadata": {
  "jupytext": {
   "formats": "ipynb,md",
   "notebook_metadata_filter": "split_at_heading"
  },
  "kernelspec": {
   "display_name": "Python 3 (ipykernel)",
   "language": "python",
   "name": "python3"
  },
  "language_info": {
   "codemirror_mode": {
    "name": "ipython",
    "version": 3
   },
   "file_extension": ".py",
   "mimetype": "text/x-python",
   "name": "python",
   "nbconvert_exporter": "python",
   "pygments_lexer": "ipython3",
   "version": "3.12.8"
  },
  "papermill": {
   "default_parameters": {},
   "duration": 118.321964,
   "end_time": "2024-12-14T21:33:37.656479",
   "environment_variables": {},
   "exception": null,
   "input_path": "eval-report.ipynb",
   "output_path": "eval-report.ml10m.ipynb",
   "parameters": {
    "dataset": "ml10m"
   },
   "start_time": "2024-12-14T21:31:39.334515",
   "version": "2.6.0"
  },
  "split_at_heading": true
 },
 "nbformat": 4,
 "nbformat_minor": 5
}