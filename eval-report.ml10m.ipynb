{
 "cells": [
  {
   "cell_type": "markdown",
   "id": "7291eba0",
   "metadata": {
    "papermill": {
     "duration": 0.01185,
     "end_time": "2024-12-15T17:56:18.327444",
     "exception": false,
     "start_time": "2024-12-15T17:56:18.315594",
     "status": "completed"
    },
    "tags": []
   },
   "source": [
    "# Evaluation Analysis for Recommender Output"
   ]
  },
  {
   "cell_type": "markdown",
   "id": "872010be",
   "metadata": {
    "papermill": {
     "duration": 0.002089,
     "end_time": "2024-12-15T17:56:18.332062",
     "exception": false,
     "start_time": "2024-12-15T17:56:18.329973",
     "status": "completed"
    },
    "tags": []
   },
   "source": [
    "In this section we will analyze and compare the generated recommendations and predictions from a predefined list of algorithms with the goal of assessing the performance of each algorithm with respect to a metric. In other words, we would rank the algorithms for each metric considered with respect to performance."
   ]
  },
  {
   "cell_type": "markdown",
   "id": "aaaf15df",
   "metadata": {
    "papermill": {
     "duration": 0.001426,
     "end_time": "2024-12-15T17:56:18.335687",
     "exception": false,
     "start_time": "2024-12-15T17:56:18.334261",
     "status": "completed"
    },
    "tags": []
   },
   "source": [
    "## Setup"
   ]
  },
  {
   "cell_type": "markdown",
   "id": "8684b9cf",
   "metadata": {
    "papermill": {
     "duration": 0.001102,
     "end_time": "2024-12-15T17:56:18.337911",
     "exception": false,
     "start_time": "2024-12-15T17:56:18.336809",
     "status": "completed"
    },
    "tags": []
   },
   "source": [
    "Below are the list of packages required to successfully run the analysis. They are divided into partitions to signify their specific task.<br>\n",
    "We need the pathlib package for working with files and folders"
   ]
  },
  {
   "cell_type": "code",
   "execution_count": 1,
   "id": "ee069941",
   "metadata": {
    "execution": {
     "iopub.execute_input": "2024-12-15T17:56:18.340697Z",
     "iopub.status.busy": "2024-12-15T17:56:18.340549Z",
     "iopub.status.idle": "2024-12-15T17:56:18.342974Z",
     "shell.execute_reply": "2024-12-15T17:56:18.342689Z"
    },
    "papermill": {
     "duration": 0.004496,
     "end_time": "2024-12-15T17:56:18.343482",
     "exception": false,
     "start_time": "2024-12-15T17:56:18.338986",
     "status": "completed"
    },
    "tags": []
   },
   "outputs": [],
   "source": [
    "from pathlib import Path\n",
    "import json"
   ]
  },
  {
   "cell_type": "markdown",
   "id": "50590acc",
   "metadata": {
    "papermill": {
     "duration": 0.001091,
     "end_time": "2024-12-15T17:56:18.346112",
     "exception": false,
     "start_time": "2024-12-15T17:56:18.345021",
     "status": "completed"
    },
    "tags": []
   },
   "source": [
    "We would use the pandas for analyzing and manipulating our data while seaborn and matplotlib are used for data visualization. statsmodels.graphics.gofplots and scipy.stats.shapiro are used for normality check. Scipy.stats.friedmanchisquare is a non-parametric test used to determine the statistical significance in metric results and the wilcoxon test is used for pairwise comparison of sample data."
   ]
  },
  {
   "cell_type": "code",
   "execution_count": 2,
   "id": "d40cc792",
   "metadata": {
    "execution": {
     "iopub.execute_input": "2024-12-15T17:56:18.349303Z",
     "iopub.status.busy": "2024-12-15T17:56:18.349078Z",
     "iopub.status.idle": "2024-12-15T17:56:18.791928Z",
     "shell.execute_reply": "2024-12-15T17:56:18.791541Z"
    },
    "lines_to_next_cell": 2,
    "papermill": {
     "duration": 0.4456,
     "end_time": "2024-12-15T17:56:18.792784",
     "exception": false,
     "start_time": "2024-12-15T17:56:18.347184",
     "status": "completed"
    },
    "tags": []
   },
   "outputs": [],
   "source": [
    "import pandas as pd\n",
    "import seaborn as sns\n",
    "import matplotlib.pyplot as plt\n",
    "from statsmodels.graphics.gofplots import qqplot\n",
    "from scipy.stats import shapiro\n",
    "from scipy.stats import friedmanchisquare, wilcoxon\n",
    "from itertools import combinations"
   ]
  },
  {
   "cell_type": "markdown",
   "id": "76360899",
   "metadata": {
    "papermill": {
     "duration": 0.008929,
     "end_time": "2024-12-15T17:56:18.803139",
     "exception": false,
     "start_time": "2024-12-15T17:56:18.794210",
     "status": "completed"
    },
    "tags": []
   },
   "source": [
    "Import the LensKit metrics for analysis:"
   ]
  },
  {
   "cell_type": "code",
   "execution_count": 3,
   "id": "9f0614f8",
   "metadata": {
    "execution": {
     "iopub.execute_input": "2024-12-15T17:56:18.806200Z",
     "iopub.status.busy": "2024-12-15T17:56:18.806071Z",
     "iopub.status.idle": "2024-12-15T17:56:19.456437Z",
     "shell.execute_reply": "2024-12-15T17:56:19.455932Z"
    },
    "papermill": {
     "duration": 0.652829,
     "end_time": "2024-12-15T17:56:19.457269",
     "exception": false,
     "start_time": "2024-12-15T17:56:18.804440",
     "status": "completed"
    },
    "tags": []
   },
   "outputs": [],
   "source": [
    "from lenskit.data import ItemListCollection, UserIDKey\n",
    "from lenskit.metrics import RunAnalysis, RMSE, NDCG, RecipRank, RBP"
   ]
  },
  {
   "cell_type": "markdown",
   "id": "44472f41",
   "metadata": {
    "papermill": {
     "duration": 0.009142,
     "end_time": "2024-12-15T17:56:19.467778",
     "exception": false,
     "start_time": "2024-12-15T17:56:19.458636",
     "status": "completed"
    },
    "tags": []
   },
   "source": [
    "## Load Data\n",
    "\n",
    "The recommendations are in `runs`, and we will need to reassemble the test data from `test`."
   ]
  },
  {
   "cell_type": "code",
   "execution_count": 4,
   "id": "a854029a",
   "metadata": {
    "execution": {
     "iopub.execute_input": "2024-12-15T17:56:19.470803Z",
     "iopub.status.busy": "2024-12-15T17:56:19.470713Z",
     "iopub.status.idle": "2024-12-15T17:56:19.472555Z",
     "shell.execute_reply": "2024-12-15T17:56:19.472275Z"
    },
    "papermill": {
     "duration": 0.004128,
     "end_time": "2024-12-15T17:56:19.473066",
     "exception": false,
     "start_time": "2024-12-15T17:56:19.468938",
     "status": "completed"
    },
    "tags": [
     "parameters"
    ]
   },
   "outputs": [],
   "source": [
    "dataset = \"ml100k\""
   ]
  },
  {
   "cell_type": "code",
   "execution_count": 5,
   "id": "1be893b7",
   "metadata": {
    "execution": {
     "iopub.execute_input": "2024-12-15T17:56:19.475808Z",
     "iopub.status.busy": "2024-12-15T17:56:19.475739Z",
     "iopub.status.idle": "2024-12-15T17:56:19.477124Z",
     "shell.execute_reply": "2024-12-15T17:56:19.476921Z"
    },
    "papermill": {
     "duration": 0.003247,
     "end_time": "2024-12-15T17:56:19.477542",
     "exception": false,
     "start_time": "2024-12-15T17:56:19.474295",
     "status": "completed"
    },
    "tags": [
     "injected-parameters"
    ]
   },
   "outputs": [],
   "source": [
    "# Parameters\n",
    "dataset = \"ml10m\"\n"
   ]
  },
  {
   "cell_type": "code",
   "execution_count": 6,
   "id": "58b1ab64",
   "metadata": {
    "execution": {
     "iopub.execute_input": "2024-12-15T17:56:19.480119Z",
     "iopub.status.busy": "2024-12-15T17:56:19.480050Z",
     "iopub.status.idle": "2024-12-15T17:56:19.481528Z",
     "shell.execute_reply": "2024-12-15T17:56:19.481304Z"
    },
    "papermill": {
     "duration": 0.00331,
     "end_time": "2024-12-15T17:56:19.482024",
     "exception": false,
     "start_time": "2024-12-15T17:56:19.478714",
     "status": "completed"
    },
    "tags": []
   },
   "outputs": [],
   "source": [
    "output_root = Path(\"runs\")"
   ]
  },
  {
   "cell_type": "code",
   "execution_count": 7,
   "id": "291fdc84",
   "metadata": {
    "execution": {
     "iopub.execute_input": "2024-12-15T17:56:19.484651Z",
     "iopub.status.busy": "2024-12-15T17:56:19.484585Z",
     "iopub.status.idle": "2024-12-15T17:56:19.486221Z",
     "shell.execute_reply": "2024-12-15T17:56:19.486017Z"
    },
    "papermill": {
     "duration": 0.003524,
     "end_time": "2024-12-15T17:56:19.486711",
     "exception": false,
     "start_time": "2024-12-15T17:56:19.483187",
     "status": "completed"
    },
    "tags": []
   },
   "outputs": [],
   "source": [
    "dirs = [fld for fld in output_root.glob(f'{dataset}-*')]"
   ]
  },
  {
   "cell_type": "code",
   "execution_count": 8,
   "id": "e47fe658",
   "metadata": {
    "execution": {
     "iopub.execute_input": "2024-12-15T17:56:19.489317Z",
     "iopub.status.busy": "2024-12-15T17:56:19.489249Z",
     "iopub.status.idle": "2024-12-15T17:56:26.108263Z",
     "shell.execute_reply": "2024-12-15T17:56:26.107610Z"
    },
    "papermill": {
     "duration": 6.621262,
     "end_time": "2024-12-15T17:56:26.109141",
     "exception": false,
     "start_time": "2024-12-15T17:56:19.487879",
     "status": "completed"
    },
    "tags": []
   },
   "outputs": [],
   "source": [
    "recs = ItemListCollection(['model', 'user_id'], index=False)\n",
    "for fld in dirs:\n",
    "    for file in fld.glob(\"recs-*\"):\n",
    "        rec = ItemListCollection.load_parquet(file)\n",
    "        recs.add_from(rec, model=fld.name.split(\"-\")[1])"
   ]
  },
  {
   "cell_type": "code",
   "execution_count": 9,
   "id": "36d675e6",
   "metadata": {
    "execution": {
     "iopub.execute_input": "2024-12-15T17:56:26.120459Z",
     "iopub.status.busy": "2024-12-15T17:56:26.120359Z",
     "iopub.status.idle": "2024-12-15T17:56:26.142700Z",
     "shell.execute_reply": "2024-12-15T17:56:26.142325Z"
    },
    "papermill": {
     "duration": 0.032734,
     "end_time": "2024-12-15T17:56:26.143351",
     "exception": false,
     "start_time": "2024-12-15T17:56:26.110617",
     "status": "completed"
    },
    "tags": []
   },
   "outputs": [
    {
     "data": {
      "text/plain": [
       "['ALS', 'Bias', 'IALS', 'IIE', 'III', 'Pop']"
      ]
     },
     "execution_count": 9,
     "metadata": {},
     "output_type": "execute_result"
    }
   ],
   "source": [
    "rec_algos = sorted(set(a for (a, _u) in recs.keys()))\n",
    "rec_algos"
   ]
  },
  {
   "cell_type": "code",
   "execution_count": 10,
   "id": "530bbfda",
   "metadata": {
    "execution": {
     "iopub.execute_input": "2024-12-15T17:56:26.146551Z",
     "iopub.status.busy": "2024-12-15T17:56:26.146462Z",
     "iopub.status.idle": "2024-12-15T17:56:31.571160Z",
     "shell.execute_reply": "2024-12-15T17:56:31.570562Z"
    },
    "papermill": {
     "duration": 5.427406,
     "end_time": "2024-12-15T17:56:31.572121",
     "exception": false,
     "start_time": "2024-12-15T17:56:26.144715",
     "status": "completed"
    },
    "tags": []
   },
   "outputs": [],
   "source": [
    "preds = ItemListCollection(['model', 'user_id'], index=False)\n",
    "for fld in dirs:\n",
    "    for file in fld.glob(\"pred-*\"):\n",
    "        pred = ItemListCollection.load_parquet(file)\n",
    "        preds.add_from(pred, model=fld.name.split(\"-\")[1])"
   ]
  },
  {
   "cell_type": "markdown",
   "id": "737fbf6f",
   "metadata": {
    "papermill": {
     "duration": 0.00921,
     "end_time": "2024-12-15T17:56:31.582817",
     "exception": false,
     "start_time": "2024-12-15T17:56:31.573607",
     "status": "completed"
    },
    "tags": []
   },
   "source": [
    "We need to load the test data so that we have the ground truths for computing accuracy"
   ]
  },
  {
   "cell_type": "code",
   "execution_count": 11,
   "id": "094c6750",
   "metadata": {
    "execution": {
     "iopub.execute_input": "2024-12-15T17:56:31.586063Z",
     "iopub.status.busy": "2024-12-15T17:56:31.585971Z",
     "iopub.status.idle": "2024-12-15T17:56:31.587972Z",
     "shell.execute_reply": "2024-12-15T17:56:31.587739Z"
    },
    "papermill": {
     "duration": 0.004429,
     "end_time": "2024-12-15T17:56:31.588553",
     "exception": false,
     "start_time": "2024-12-15T17:56:31.584124",
     "status": "completed"
    },
    "tags": []
   },
   "outputs": [],
   "source": [
    "split_root = Path(\"data-split\")\n",
    "split_dir = split_root / dataset"
   ]
  },
  {
   "cell_type": "code",
   "execution_count": 12,
   "id": "b6b27b83",
   "metadata": {
    "execution": {
     "iopub.execute_input": "2024-12-15T17:56:31.591516Z",
     "iopub.status.busy": "2024-12-15T17:56:31.591435Z",
     "iopub.status.idle": "2024-12-15T17:56:34.170967Z",
     "shell.execute_reply": "2024-12-15T17:56:34.170283Z"
    },
    "papermill": {
     "duration": 2.582059,
     "end_time": "2024-12-15T17:56:34.171874",
     "exception": false,
     "start_time": "2024-12-15T17:56:31.589815",
     "status": "completed"
    },
    "tags": []
   },
   "outputs": [],
   "source": [
    "test = ItemListCollection(UserIDKey)\n",
    "for file in split_dir.glob(\"test-*.parquet\"):\n",
    "    df = pd.read_parquet(file)\n",
    "    part = ItemListCollection.from_df(df, UserIDKey)\n",
    "    test.add_from(part)"
   ]
  },
  {
   "cell_type": "markdown",
   "id": "fed8bea2",
   "metadata": {
    "papermill": {
     "duration": 0.009073,
     "end_time": "2024-12-15T17:56:34.182496",
     "exception": false,
     "start_time": "2024-12-15T17:56:34.173423",
     "status": "completed"
    },
    "tags": []
   },
   "source": [
    "## Top-N Metrics\n",
    "\n",
    "`RunListAnalysis` computes metrics for recommendation results and takes care of\n",
    "matching recommendations and ground truth."
   ]
  },
  {
   "cell_type": "code",
   "execution_count": 13,
   "id": "7b68ce95",
   "metadata": {
    "execution": {
     "iopub.execute_input": "2024-12-15T17:56:34.185982Z",
     "iopub.status.busy": "2024-12-15T17:56:34.185894Z",
     "iopub.status.idle": "2024-12-15T17:57:01.582830Z",
     "shell.execute_reply": "2024-12-15T17:57:01.582582Z"
    },
    "papermill": {
     "duration": 27.399184,
     "end_time": "2024-12-15T17:57:01.583249",
     "exception": false,
     "start_time": "2024-12-15T17:56:34.184065",
     "status": "completed"
    },
    "tags": []
   },
   "outputs": [
    {
     "name": "stderr",
     "output_type": "stream",
     "text": [
      "/home/mde48/lenskit/lkpy/lenskit/lenskit/metrics/bulk.py:121: FutureWarning: The previous implementation of stack is deprecated and will be removed in a future version of pandas. See the What's New notes for pandas 2.1.0 for details. Specify future_stack=True to adopt the new implementation and silence this warning.\n",
      "  df = scores.groupby(list(keys)).agg([\"mean\", \"median\", \"std\"]).stack(level=0)\n"
     ]
    },
    {
     "data": {
      "text/html": [
       "<div>\n",
       "<style scoped>\n",
       "    .dataframe tbody tr th:only-of-type {\n",
       "        vertical-align: middle;\n",
       "    }\n",
       "\n",
       "    .dataframe tbody tr th {\n",
       "        vertical-align: top;\n",
       "    }\n",
       "\n",
       "    .dataframe thead th {\n",
       "        text-align: right;\n",
       "    }\n",
       "</style>\n",
       "<table border=\"1\" class=\"dataframe\">\n",
       "  <thead>\n",
       "    <tr style=\"text-align: right;\">\n",
       "      <th></th>\n",
       "      <th></th>\n",
       "      <th>mean</th>\n",
       "      <th>median</th>\n",
       "      <th>std</th>\n",
       "    </tr>\n",
       "    <tr>\n",
       "      <th>model</th>\n",
       "      <th></th>\n",
       "      <th></th>\n",
       "      <th></th>\n",
       "      <th></th>\n",
       "    </tr>\n",
       "  </thead>\n",
       "  <tbody>\n",
       "    <tr>\n",
       "      <th rowspan=\"3\" valign=\"top\">ALS</th>\n",
       "      <th>NDCG</th>\n",
       "      <td>0.038213</td>\n",
       "      <td>0.000000e+00</td>\n",
       "      <td>0.075143</td>\n",
       "    </tr>\n",
       "    <tr>\n",
       "      <th>RBP</th>\n",
       "      <td>0.017647</td>\n",
       "      <td>0.000000e+00</td>\n",
       "      <td>0.080197</td>\n",
       "    </tr>\n",
       "    <tr>\n",
       "      <th>RecipRank</th>\n",
       "      <td>0.050194</td>\n",
       "      <td>0.000000e+00</td>\n",
       "      <td>0.159501</td>\n",
       "    </tr>\n",
       "    <tr>\n",
       "      <th rowspan=\"3\" valign=\"top\">Bias</th>\n",
       "      <th>NDCG</th>\n",
       "      <td>0.043227</td>\n",
       "      <td>0.000000e+00</td>\n",
       "      <td>0.085239</td>\n",
       "    </tr>\n",
       "    <tr>\n",
       "      <th>RBP</th>\n",
       "      <td>0.029255</td>\n",
       "      <td>0.000000e+00</td>\n",
       "      <td>0.107693</td>\n",
       "    </tr>\n",
       "    <tr>\n",
       "      <th>RecipRank</th>\n",
       "      <td>0.068840</td>\n",
       "      <td>0.000000e+00</td>\n",
       "      <td>0.210294</td>\n",
       "    </tr>\n",
       "    <tr>\n",
       "      <th rowspan=\"3\" valign=\"top\">IALS</th>\n",
       "      <th>NDCG</th>\n",
       "      <td>0.285632</td>\n",
       "      <td>2.388330e-01</td>\n",
       "      <td>0.205255</td>\n",
       "    </tr>\n",
       "    <tr>\n",
       "      <th>RBP</th>\n",
       "      <td>0.129865</td>\n",
       "      <td>3.914118e-03</td>\n",
       "      <td>0.218110</td>\n",
       "    </tr>\n",
       "    <tr>\n",
       "      <th>RecipRank</th>\n",
       "      <td>0.275061</td>\n",
       "      <td>1.250000e-01</td>\n",
       "      <td>0.328409</td>\n",
       "    </tr>\n",
       "    <tr>\n",
       "      <th rowspan=\"3\" valign=\"top\">IIE</th>\n",
       "      <th>NDCG</th>\n",
       "      <td>0.008300</td>\n",
       "      <td>0.000000e+00</td>\n",
       "      <td>0.024377</td>\n",
       "    </tr>\n",
       "    <tr>\n",
       "      <th>RBP</th>\n",
       "      <td>0.000207</td>\n",
       "      <td>0.000000e+00</td>\n",
       "      <td>0.007187</td>\n",
       "    </tr>\n",
       "    <tr>\n",
       "      <th>RecipRank</th>\n",
       "      <td>0.004205</td>\n",
       "      <td>0.000000e+00</td>\n",
       "      <td>0.020607</td>\n",
       "    </tr>\n",
       "    <tr>\n",
       "      <th rowspan=\"3\" valign=\"top\">III</th>\n",
       "      <th>NDCG</th>\n",
       "      <td>0.245048</td>\n",
       "      <td>1.736796e-01</td>\n",
       "      <td>0.221260</td>\n",
       "    </tr>\n",
       "    <tr>\n",
       "      <th>RBP</th>\n",
       "      <td>0.158682</td>\n",
       "      <td>1.953125e-03</td>\n",
       "      <td>0.245553</td>\n",
       "    </tr>\n",
       "    <tr>\n",
       "      <th>RecipRank</th>\n",
       "      <td>0.308449</td>\n",
       "      <td>1.111111e-01</td>\n",
       "      <td>0.374972</td>\n",
       "    </tr>\n",
       "    <tr>\n",
       "      <th rowspan=\"3\" valign=\"top\">Pop</th>\n",
       "      <th>NDCG</th>\n",
       "      <td>0.152604</td>\n",
       "      <td>9.991295e-02</td>\n",
       "      <td>0.162863</td>\n",
       "    </tr>\n",
       "    <tr>\n",
       "      <th>RBP</th>\n",
       "      <td>0.075644</td>\n",
       "      <td>1.192093e-07</td>\n",
       "      <td>0.170703</td>\n",
       "    </tr>\n",
       "    <tr>\n",
       "      <th>RecipRank</th>\n",
       "      <td>0.176635</td>\n",
       "      <td>4.347826e-02</td>\n",
       "      <td>0.292454</td>\n",
       "    </tr>\n",
       "  </tbody>\n",
       "</table>\n",
       "</div>"
      ],
      "text/plain": [
       "                     mean        median       std\n",
       "model                                            \n",
       "ALS   NDCG       0.038213  0.000000e+00  0.075143\n",
       "      RBP        0.017647  0.000000e+00  0.080197\n",
       "      RecipRank  0.050194  0.000000e+00  0.159501\n",
       "Bias  NDCG       0.043227  0.000000e+00  0.085239\n",
       "      RBP        0.029255  0.000000e+00  0.107693\n",
       "      RecipRank  0.068840  0.000000e+00  0.210294\n",
       "IALS  NDCG       0.285632  2.388330e-01  0.205255\n",
       "      RBP        0.129865  3.914118e-03  0.218110\n",
       "      RecipRank  0.275061  1.250000e-01  0.328409\n",
       "IIE   NDCG       0.008300  0.000000e+00  0.024377\n",
       "      RBP        0.000207  0.000000e+00  0.007187\n",
       "      RecipRank  0.004205  0.000000e+00  0.020607\n",
       "III   NDCG       0.245048  1.736796e-01  0.221260\n",
       "      RBP        0.158682  1.953125e-03  0.245553\n",
       "      RecipRank  0.308449  1.111111e-01  0.374972\n",
       "Pop   NDCG       0.152604  9.991295e-02  0.162863\n",
       "      RBP        0.075644  1.192093e-07  0.170703\n",
       "      RecipRank  0.176635  4.347826e-02  0.292454"
      ]
     },
     "execution_count": 13,
     "metadata": {},
     "output_type": "execute_result"
    }
   ],
   "source": [
    "ra = RunAnalysis()\n",
    "\n",
    "ra.add_metric(NDCG())\n",
    "ra.add_metric(RecipRank())\n",
    "ra.add_metric(RBP())\n",
    "\n",
    "rec_results = ra.compute(recs, test)\n",
    "rec_results.list_summary('model')"
   ]
  },
  {
   "cell_type": "markdown",
   "id": "8cba4e78",
   "metadata": {
    "papermill": {
     "duration": 0.00882,
     "end_time": "2024-12-15T17:57:01.593737",
     "exception": false,
     "start_time": "2024-12-15T17:57:01.584917",
     "status": "completed"
    },
    "tags": []
   },
   "source": [
    "We can reshape the list metrics and plot them:"
   ]
  },
  {
   "cell_type": "code",
   "execution_count": 14,
   "id": "238604c3",
   "metadata": {
    "execution": {
     "iopub.execute_input": "2024-12-15T17:57:01.596930Z",
     "iopub.status.busy": "2024-12-15T17:57:01.596856Z",
     "iopub.status.idle": "2024-12-15T17:57:06.035898Z",
     "shell.execute_reply": "2024-12-15T17:57:06.035397Z"
    },
    "papermill": {
     "duration": 4.4416,
     "end_time": "2024-12-15T17:57:06.036788",
     "exception": false,
     "start_time": "2024-12-15T17:57:01.595188",
     "status": "completed"
    },
    "tags": []
   },
   "outputs": [
    {
     "data": {
      "image/png": "[encoded data removed]",
      "text/plain": [
       "<Figure size 1511.11x500 with 3 Axes>"
      ]
     },
     "metadata": {},
     "output_type": "display_data"
    }
   ],
   "source": [
    "metrics = rec_results.list_metrics()\n",
    "metrics = metrics.melt(var_name='metric', ignore_index=False).reset_index()\n",
    "sns.catplot(metrics, x='model', y='value', col='metric', kind='bar')\n",
    "plt.show()"
   ]
  },
  {
   "cell_type": "markdown",
   "id": "d6f202d4",
   "metadata": {
    "papermill": {
     "duration": 0.018708,
     "end_time": "2024-12-15T17:57:06.057659",
     "exception": false,
     "start_time": "2024-12-15T17:57:06.038951",
     "status": "completed"
    },
    "tags": []
   },
   "source": [
    "## Prediction RMSE\n",
    "\n",
    "We will also look at the prediction RMSE."
   ]
  },
  {
   "cell_type": "code",
   "execution_count": 15,
   "id": "c78c5ff6",
   "metadata": {
    "execution": {
     "iopub.execute_input": "2024-12-15T17:57:06.061336Z",
     "iopub.status.busy": "2024-12-15T17:57:06.061230Z",
     "iopub.status.idle": "2024-12-15T17:57:35.855412Z",
     "shell.execute_reply": "2024-12-15T17:57:35.855246Z"
    },
    "papermill": {
     "duration": 29.796612,
     "end_time": "2024-12-15T17:57:35.855935",
     "exception": false,
     "start_time": "2024-12-15T17:57:06.059323",
     "status": "completed"
    },
    "tags": []
   },
   "outputs": [
    {
     "name": "stderr",
     "output_type": "stream",
     "text": [
      "/home/mde48/lenskit/lkpy/lenskit/lenskit/metrics/bulk.py:121: FutureWarning: The previous implementation of stack is deprecated and will be removed in a future version of pandas. See the What's New notes for pandas 2.1.0 for details. Specify future_stack=True to adopt the new implementation and silence this warning.\n",
      "  df = scores.groupby(list(keys)).agg([\"mean\", \"median\", \"std\"]).stack(level=0)\n"
     ]
    },
    {
     "data": {
      "text/html": [
       "<div>\n",
       "<style scoped>\n",
       "    .dataframe tbody tr th:only-of-type {\n",
       "        vertical-align: middle;\n",
       "    }\n",
       "\n",
       "    .dataframe tbody tr th {\n",
       "        vertical-align: top;\n",
       "    }\n",
       "\n",
       "    .dataframe thead th {\n",
       "        text-align: right;\n",
       "    }\n",
       "</style>\n",
       "<table border=\"1\" class=\"dataframe\">\n",
       "  <thead>\n",
       "    <tr style=\"text-align: right;\">\n",
       "      <th></th>\n",
       "      <th></th>\n",
       "      <th>mean</th>\n",
       "      <th>median</th>\n",
       "      <th>std</th>\n",
       "    </tr>\n",
       "    <tr>\n",
       "      <th>model</th>\n",
       "      <th></th>\n",
       "      <th></th>\n",
       "      <th></th>\n",
       "      <th></th>\n",
       "    </tr>\n",
       "  </thead>\n",
       "  <tbody>\n",
       "    <tr>\n",
       "      <th>ALS</th>\n",
       "      <th>RMSE</th>\n",
       "      <td>0.789414</td>\n",
       "      <td>0.736592</td>\n",
       "      <td>0.333054</td>\n",
       "    </tr>\n",
       "    <tr>\n",
       "      <th>Bias</th>\n",
       "      <th>RMSE</th>\n",
       "      <td>0.832844</td>\n",
       "      <td>0.779487</td>\n",
       "      <td>0.347313</td>\n",
       "    </tr>\n",
       "    <tr>\n",
       "      <th>IIE</th>\n",
       "      <th>RMSE</th>\n",
       "      <td>0.777402</td>\n",
       "      <td>0.725244</td>\n",
       "      <td>0.333224</td>\n",
       "    </tr>\n",
       "  </tbody>\n",
       "</table>\n",
       "</div>"
      ],
      "text/plain": [
       "                mean    median       std\n",
       "model                                   \n",
       "ALS   RMSE  0.789414  0.736592  0.333054\n",
       "Bias  RMSE  0.832844  0.779487  0.347313\n",
       "IIE   RMSE  0.777402  0.725244  0.333224"
      ]
     },
     "execution_count": 15,
     "metadata": {},
     "output_type": "execute_result"
    }
   ],
   "source": [
    "pa = RunAnalysis()\n",
    "\n",
    "pa.add_metric(RMSE(missing_scores='ignore', missing_truth='ignore'))\n",
    "\n",
    "pred_results = pa.compute(preds, test)\n",
    "pred_results.list_summary('model')"
   ]
  },
  {
   "cell_type": "code",
   "execution_count": 16,
   "id": "929287d6",
   "metadata": {
    "execution": {
     "iopub.execute_input": "2024-12-15T17:57:35.859883Z",
     "iopub.status.busy": "2024-12-15T17:57:35.859794Z",
     "iopub.status.idle": "2024-12-15T17:57:36.578969Z",
     "shell.execute_reply": "2024-12-15T17:57:36.578714Z"
    },
    "papermill": {
     "duration": 0.721717,
     "end_time": "2024-12-15T17:57:36.579565",
     "exception": false,
     "start_time": "2024-12-15T17:57:35.857848",
     "status": "completed"
    },
    "tags": []
   },
   "outputs": [
    {
     "data": {
      "image/png": "[encoded data removed]",
      "text/plain": [
       "<Figure size 511.111x500 with 1 Axes>"
      ]
     },
     "metadata": {},
     "output_type": "display_data"
    }
   ],
   "source": [
    "sns.catplot(pred_results.list_metrics().reset_index(), x='model', y='RMSE', kind='bar')\n",
    "plt.show()"
   ]
  },
  {
   "cell_type": "markdown",
   "id": "0caac7ca",
   "metadata": {
    "papermill": {
     "duration": 0.009035,
     "end_time": "2024-12-15T17:57:36.590489",
     "exception": false,
     "start_time": "2024-12-15T17:57:36.581454",
     "status": "completed"
    },
    "tags": []
   },
   "source": [
    "## Save Metrics\n",
    "\n",
    "We'll now save the metrics to a file."
   ]
  },
  {
   "cell_type": "code",
   "execution_count": 17,
   "id": "4e43b021",
   "metadata": {
    "execution": {
     "iopub.execute_input": "2024-12-15T17:57:36.594318Z",
     "iopub.status.busy": "2024-12-15T17:57:36.594212Z",
     "iopub.status.idle": "2024-12-15T17:57:36.630691Z",
     "shell.execute_reply": "2024-12-15T17:57:36.630526Z"
    },
    "papermill": {
     "duration": 0.039145,
     "end_time": "2024-12-15T17:57:36.631252",
     "exception": false,
     "start_time": "2024-12-15T17:57:36.592107",
     "status": "completed"
    },
    "tags": []
   },
   "outputs": [
    {
     "name": "stderr",
     "output_type": "stream",
     "text": [
      "/home/mde48/lenskit/lkpy/lenskit/lenskit/metrics/bulk.py:121: FutureWarning: The previous implementation of stack is deprecated and will be removed in a future version of pandas. See the What's New notes for pandas 2.1.0 for details. Specify future_stack=True to adopt the new implementation and silence this warning.\n",
      "  df = scores.groupby(list(keys)).agg([\"mean\", \"median\", \"std\"]).stack(level=0)\n"
     ]
    },
    {
     "data": {
      "text/html": [
       "<div>\n",
       "<style scoped>\n",
       "    .dataframe tbody tr th:only-of-type {\n",
       "        vertical-align: middle;\n",
       "    }\n",
       "\n",
       "    .dataframe tbody tr th {\n",
       "        vertical-align: top;\n",
       "    }\n",
       "\n",
       "    .dataframe thead th {\n",
       "        text-align: right;\n",
       "    }\n",
       "</style>\n",
       "<table border=\"1\" class=\"dataframe\">\n",
       "  <thead>\n",
       "    <tr style=\"text-align: right;\">\n",
       "      <th></th>\n",
       "      <th>NDCG</th>\n",
       "      <th>RBP</th>\n",
       "      <th>RecipRank</th>\n",
       "    </tr>\n",
       "    <tr>\n",
       "      <th>model</th>\n",
       "      <th></th>\n",
       "      <th></th>\n",
       "      <th></th>\n",
       "    </tr>\n",
       "  </thead>\n",
       "  <tbody>\n",
       "    <tr>\n",
       "      <th>ALS</th>\n",
       "      <td>0.038213</td>\n",
       "      <td>0.017647</td>\n",
       "      <td>0.050194</td>\n",
       "    </tr>\n",
       "    <tr>\n",
       "      <th>Bias</th>\n",
       "      <td>0.043227</td>\n",
       "      <td>0.029255</td>\n",
       "      <td>0.068840</td>\n",
       "    </tr>\n",
       "    <tr>\n",
       "      <th>IALS</th>\n",
       "      <td>0.285632</td>\n",
       "      <td>0.129865</td>\n",
       "      <td>0.275061</td>\n",
       "    </tr>\n",
       "    <tr>\n",
       "      <th>IIE</th>\n",
       "      <td>0.008300</td>\n",
       "      <td>0.000207</td>\n",
       "      <td>0.004205</td>\n",
       "    </tr>\n",
       "    <tr>\n",
       "      <th>III</th>\n",
       "      <td>0.245048</td>\n",
       "      <td>0.158682</td>\n",
       "      <td>0.308449</td>\n",
       "    </tr>\n",
       "    <tr>\n",
       "      <th>Pop</th>\n",
       "      <td>0.152604</td>\n",
       "      <td>0.075644</td>\n",
       "      <td>0.176635</td>\n",
       "    </tr>\n",
       "  </tbody>\n",
       "</table>\n",
       "</div>"
      ],
      "text/plain": [
       "           NDCG       RBP  RecipRank\n",
       "model                               \n",
       "ALS    0.038213  0.017647   0.050194\n",
       "Bias   0.043227  0.029255   0.068840\n",
       "IALS   0.285632  0.129865   0.275061\n",
       "IIE    0.008300  0.000207   0.004205\n",
       "III    0.245048  0.158682   0.308449\n",
       "Pop    0.152604  0.075644   0.176635"
      ]
     },
     "execution_count": 17,
     "metadata": {},
     "output_type": "execute_result"
    }
   ],
   "source": [
    "rlsum = rec_results.list_summary('model')['mean'].unstack()\n",
    "rlsum"
   ]
  },
  {
   "cell_type": "code",
   "execution_count": 18,
   "id": "cae53f67",
   "metadata": {
    "execution": {
     "iopub.execute_input": "2024-12-15T17:57:36.635423Z",
     "iopub.status.busy": "2024-12-15T17:57:36.635305Z",
     "iopub.status.idle": "2024-12-15T17:57:36.637882Z",
     "shell.execute_reply": "2024-12-15T17:57:36.637722Z"
    },
    "papermill": {
     "duration": 0.005306,
     "end_time": "2024-12-15T17:57:36.638363",
     "exception": false,
     "start_time": "2024-12-15T17:57:36.633057",
     "status": "completed"
    },
    "tags": []
   },
   "outputs": [],
   "source": [
    "rlsum.to_json(f'eval-metrics.{dataset}.json', orient='index')"
   ]
  }
 ],
 "metadata": {
  "jupytext": {
   "formats": "ipynb,md",
   "notebook_metadata_filter": "split_at_heading"
  },
  "kernelspec": {
   "display_name": "Python 3 (ipykernel)",
   "language": "python",
   "name": "python3"
  },
  "language_info": {
   "codemirror_mode": {
    "name": "ipython",
    "version": 3
   },
   "file_extension": ".py",
   "mimetype": "text/x-python",
   "name": "python",
   "nbconvert_exporter": "python",
   "pygments_lexer": "ipython3",
   "version": "3.12.8"
  },
  "papermill": {
   "default_parameters": {},
   "duration": 80.730537,
   "end_time": "2024-12-15T17:57:38.359214",
   "environment_variables": {},
   "exception": null,
   "input_path": "eval-report.ipynb",
   "output_path": "eval-report.ml10m.ipynb",
   "parameters": {
    "dataset": "ml10m"
   },
   "start_time": "2024-12-15T17:56:17.628677",
   "version": "2.6.0"
  },
  "split_at_heading": true
 },
 "nbformat": 4,
 "nbformat_minor": 5
}