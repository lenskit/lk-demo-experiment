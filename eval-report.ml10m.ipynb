{
 "cells": [
  {
   "cell_type": "markdown",
   "id": "a9a7d17a",
   "metadata": {
    "papermill": {
     "duration": 0.027455,
     "end_time": "2022-02-17T22:25:40.424875",
     "exception": false,
     "start_time": "2022-02-17T22:25:40.397420",
     "status": "completed"
    },
    "tags": []
   },
   "source": [
    "# Evaluation Analysis for Recommender Output"
   ]
  },
  {
   "cell_type": "markdown",
   "id": "c3716c02",
   "metadata": {
    "papermill": {
     "duration": 0.020054,
     "end_time": "2022-02-17T22:25:40.466075",
     "exception": false,
     "start_time": "2022-02-17T22:25:40.446021",
     "status": "completed"
    },
    "tags": []
   },
   "source": [
    "In this section we will analyze and compare the generated recommendations and predictions from a predefined list of algorithms with the goal of assessing the performance of each algorithm with respect to a metric. In other words, we would rank the algorithms for each metric considered with respect to performance."
   ]
  },
  {
   "cell_type": "markdown",
   "id": "d5e1d5c5",
   "metadata": {
    "papermill": {
     "duration": 0.030108,
     "end_time": "2022-02-17T22:25:40.516185",
     "exception": false,
     "start_time": "2022-02-17T22:25:40.486077",
     "status": "completed"
    },
    "tags": []
   },
   "source": [
    "# Setup"
   ]
  },
  {
   "cell_type": "markdown",
   "id": "499cbd25",
   "metadata": {
    "papermill": {
     "duration": 0.020534,
     "end_time": "2022-02-17T22:25:40.557158",
     "exception": false,
     "start_time": "2022-02-17T22:25:40.536624",
     "status": "completed"
    },
    "tags": []
   },
   "source": [
    "Below are the list of packages required to successfully run the analysis. They are divided into partitions to signify their specific task.<br>\n",
    "We need the pathlib package for working with files and folders"
   ]
  },
  {
   "cell_type": "code",
   "execution_count": 1,
   "id": "055ac6c3",
   "metadata": {
    "execution": {
     "iopub.execute_input": "2022-02-17T22:25:40.602906Z",
     "iopub.status.busy": "2022-02-17T22:25:40.602734Z",
     "iopub.status.idle": "2022-02-17T22:25:40.608825Z",
     "shell.execute_reply": "2022-02-17T22:25:40.608360Z"
    },
    "papermill": {
     "duration": 0.031846,
     "end_time": "2022-02-17T22:25:40.610218",
     "exception": false,
     "start_time": "2022-02-17T22:25:40.578372",
     "status": "completed"
    },
    "tags": []
   },
   "outputs": [],
   "source": [
    "from pathlib import Path"
   ]
  },
  {
   "cell_type": "markdown",
   "id": "24325944",
   "metadata": {
    "papermill": {
     "duration": 0.020224,
     "end_time": "2022-02-17T22:25:40.651423",
     "exception": false,
     "start_time": "2022-02-17T22:25:40.631199",
     "status": "completed"
    },
    "tags": []
   },
   "source": [
    "We would use the pandas for analyzing and manipulating our data while seaborn and matplotlib are used for data visualization. statsmodels.graphics.gofplots and scipy.stats.shapiro are used for normality check. Scipy.stats.friedmanchisquare is a non-parametric test used to determine the statistical significance in metric results and the wilcoxon test is used for pairwise comparison of sample data."
   ]
  },
  {
   "cell_type": "code",
   "execution_count": 2,
   "id": "f274b2e4",
   "metadata": {
    "execution": {
     "iopub.execute_input": "2022-02-17T22:25:40.692776Z",
     "iopub.status.busy": "2022-02-17T22:25:40.692433Z",
     "iopub.status.idle": "2022-02-17T22:25:45.422048Z",
     "shell.execute_reply": "2022-02-17T22:25:45.421460Z"
    },
    "papermill": {
     "duration": 4.752199,
     "end_time": "2022-02-17T22:25:45.423689",
     "exception": false,
     "start_time": "2022-02-17T22:25:40.671490",
     "status": "completed"
    },
    "tags": []
   },
   "outputs": [],
   "source": [
    "import pandas as pd\n",
    "import seaborn as sns\n",
    "import matplotlib.pyplot as plt\n",
    "from statsmodels.graphics.gofplots import qqplot\n",
    "from scipy.stats import shapiro\n",
    "from scipy.stats import friedmanchisquare, wilcoxon\n",
    "from itertools import combinations"
   ]
  },
  {
   "cell_type": "markdown",
   "id": "49e41844",
   "metadata": {
    "papermill": {
     "duration": 0.020233,
     "end_time": "2022-02-17T22:25:45.464654",
     "exception": false,
     "start_time": "2022-02-17T22:25:45.444421",
     "status": "completed"
    },
    "tags": []
   },
   "source": [
    "Logging to show what's happening in LensKit routines:"
   ]
  },
  {
   "cell_type": "code",
   "execution_count": 3,
   "id": "c867a0d6",
   "metadata": {
    "execution": {
     "iopub.execute_input": "2022-02-17T22:25:45.506862Z",
     "iopub.status.busy": "2022-02-17T22:25:45.506543Z",
     "iopub.status.idle": "2022-02-17T22:25:45.525114Z",
     "shell.execute_reply": "2022-02-17T22:25:45.524733Z"
    },
    "papermill": {
     "duration": 0.041666,
     "end_time": "2022-02-17T22:25:45.526541",
     "exception": false,
     "start_time": "2022-02-17T22:25:45.484875",
     "status": "completed"
    },
    "tags": []
   },
   "outputs": [
    {
     "name": "stdout",
     "output_type": "stream",
     "text": [
      "[   INFO] lenskit.util.log notebook logging configured\n"
     ]
    }
   ],
   "source": [
    "from lenskit import util\n",
    "util.log_to_notebook()"
   ]
  },
  {
   "cell_type": "code",
   "execution_count": 4,
   "id": "6d8e7da8",
   "metadata": {
    "execution": {
     "iopub.execute_input": "2022-02-17T22:25:45.568901Z",
     "iopub.status.busy": "2022-02-17T22:25:45.568695Z",
     "iopub.status.idle": "2022-02-17T22:25:45.571021Z",
     "shell.execute_reply": "2022-02-17T22:25:45.570647Z"
    },
    "papermill": {
     "duration": 0.024705,
     "end_time": "2022-02-17T22:25:45.572159",
     "exception": false,
     "start_time": "2022-02-17T22:25:45.547454",
     "status": "completed"
    },
    "tags": []
   },
   "outputs": [],
   "source": [
    "import logging\n",
    "_log = logging.getLogger('eval-report')"
   ]
  },
  {
   "cell_type": "markdown",
   "id": "5c2684d4",
   "metadata": {
    "papermill": {
     "duration": 0.02136,
     "end_time": "2022-02-17T22:25:45.613922",
     "exception": false,
     "start_time": "2022-02-17T22:25:45.592562",
     "status": "completed"
    },
    "tags": []
   },
   "source": [
    "We will use lenskit for training, running, and evaluating recommender algorithms"
   ]
  },
  {
   "cell_type": "code",
   "execution_count": 5,
   "id": "64485990",
   "metadata": {
    "execution": {
     "iopub.execute_input": "2022-02-17T22:25:45.658219Z",
     "iopub.status.busy": "2022-02-17T22:25:45.658037Z",
     "iopub.status.idle": "2022-02-17T22:25:45.664471Z",
     "shell.execute_reply": "2022-02-17T22:25:45.664123Z"
    },
    "papermill": {
     "duration": 0.031526,
     "end_time": "2022-02-17T22:25:45.665789",
     "exception": false,
     "start_time": "2022-02-17T22:25:45.634263",
     "status": "completed"
    },
    "tags": []
   },
   "outputs": [],
   "source": [
    "from lenskit import topn\n",
    "from lenskit.metrics.predict import rmse"
   ]
  },
  {
   "cell_type": "markdown",
   "id": "2fa4d68d",
   "metadata": {
    "papermill": {
     "duration": 0.020353,
     "end_time": "2022-02-17T22:25:45.707125",
     "exception": false,
     "start_time": "2022-02-17T22:25:45.686772",
     "status": "completed"
    },
    "tags": []
   },
   "source": [
    "# Load Data"
   ]
  },
  {
   "cell_type": "markdown",
   "id": "ad8cda08",
   "metadata": {
    "papermill": {
     "duration": 0.020509,
     "end_time": "2022-02-17T22:25:45.748145",
     "exception": false,
     "start_time": "2022-02-17T22:25:45.727636",
     "status": "completed"
    },
    "tags": []
   },
   "source": [
    "We specify the dataset we will use for our analysis and the main directory from where we read the recommendation and prediction files. From the main directory we find all the directories associated with the dataset and then read the recommendation and predictions files from those directories."
   ]
  },
  {
   "cell_type": "code",
   "execution_count": 6,
   "id": "b310f56d",
   "metadata": {
    "execution": {
     "iopub.execute_input": "2022-02-17T22:25:45.793398Z",
     "iopub.status.busy": "2022-02-17T22:25:45.793208Z",
     "iopub.status.idle": "2022-02-17T22:25:45.795478Z",
     "shell.execute_reply": "2022-02-17T22:25:45.795121Z"
    },
    "papermill": {
     "duration": 0.027625,
     "end_time": "2022-02-17T22:25:45.796579",
     "exception": false,
     "start_time": "2022-02-17T22:25:45.768954",
     "status": "completed"
    },
    "tags": [
     "parameters"
    ]
   },
   "outputs": [],
   "source": [
    "dataset = \"ml100k\""
   ]
  },
  {
   "cell_type": "code",
   "execution_count": 7,
   "id": "4494cb27",
   "metadata": {
    "execution": {
     "iopub.execute_input": "2022-02-17T22:25:45.838633Z",
     "iopub.status.busy": "2022-02-17T22:25:45.838453Z",
     "iopub.status.idle": "2022-02-17T22:25:45.840532Z",
     "shell.execute_reply": "2022-02-17T22:25:45.840189Z"
    },
    "papermill": {
     "duration": 0.024594,
     "end_time": "2022-02-17T22:25:45.841715",
     "exception": false,
     "start_time": "2022-02-17T22:25:45.817121",
     "status": "completed"
    },
    "tags": [
     "injected-parameters"
    ]
   },
   "outputs": [],
   "source": [
    "# Parameters\n",
    "dataset = \"ml10m\"\n"
   ]
  },
  {
   "cell_type": "code",
   "execution_count": 8,
   "id": "b2276dac",
   "metadata": {
    "execution": {
     "iopub.execute_input": "2022-02-17T22:25:45.885089Z",
     "iopub.status.busy": "2022-02-17T22:25:45.884781Z",
     "iopub.status.idle": "2022-02-17T22:25:45.886908Z",
     "shell.execute_reply": "2022-02-17T22:25:45.886548Z"
    },
    "papermill": {
     "duration": 0.025341,
     "end_time": "2022-02-17T22:25:45.888275",
     "exception": false,
     "start_time": "2022-02-17T22:25:45.862934",
     "status": "completed"
    },
    "tags": []
   },
   "outputs": [],
   "source": [
    "output_root = Path(\"runs\")"
   ]
  },
  {
   "cell_type": "code",
   "execution_count": 9,
   "id": "c7202910",
   "metadata": {
    "execution": {
     "iopub.execute_input": "2022-02-17T22:25:45.989041Z",
     "iopub.status.busy": "2022-02-17T22:25:45.988811Z",
     "iopub.status.idle": "2022-02-17T22:25:46.402184Z",
     "shell.execute_reply": "2022-02-17T22:25:46.401846Z"
    },
    "papermill": {
     "duration": 0.49465,
     "end_time": "2022-02-17T22:25:46.403656",
     "exception": false,
     "start_time": "2022-02-17T22:25:45.909006",
     "status": "completed"
    },
    "tags": []
   },
   "outputs": [],
   "source": [
    "dirs = [fld for fld in output_root.glob(f'{dataset}-*')]"
   ]
  },
  {
   "cell_type": "code",
   "execution_count": 10,
   "id": "732137e4",
   "metadata": {
    "execution": {
     "iopub.execute_input": "2022-02-17T22:25:46.447480Z",
     "iopub.status.busy": "2022-02-17T22:25:46.447290Z",
     "iopub.status.idle": "2022-02-17T22:26:13.941223Z",
     "shell.execute_reply": "2022-02-17T22:26:13.940263Z"
    },
    "papermill": {
     "duration": 27.517996,
     "end_time": "2022-02-17T22:26:13.942651",
     "exception": false,
     "start_time": "2022-02-17T22:25:46.424655",
     "status": "completed"
    },
    "tags": []
   },
   "outputs": [
    {
     "name": "stdout",
     "output_type": "stream",
     "text": [
      "<class 'pandas.core.frame.DataFrame'>\n",
      "RangeIndex: 48910800 entries, 0 to 48910799\n",
      "Data columns (total 5 columns):\n",
      " #   Column     Dtype   \n",
      "---  ------     -----   \n",
      " 0   item       int64   \n",
      " 1   score      float64 \n",
      " 2   user       int64   \n",
      " 3   rank       int64   \n",
      " 4   algorithm  category\n",
      "dtypes: category(1), float64(1), int64(3)\n",
      "memory usage: 1.5 GB\n"
     ]
    }
   ],
   "source": [
    "recs = []\n",
    "for fld in dirs: \n",
    "    for file in fld.glob(\"recs-*\"):\n",
    "        rec = pd.read_csv(file, sep=',')\n",
    "        rec[\"algorithm\"] = fld.name.split(\"-\")[1]\n",
    "        recs.append(rec)\n",
    "\n",
    "recs = pd.concat(recs, ignore_index=True)\n",
    "recs = recs.astype({'algorithm': 'category'})\n",
    "recs.info()"
   ]
  },
  {
   "cell_type": "code",
   "execution_count": 11,
   "id": "05c6c117",
   "metadata": {
    "execution": {
     "iopub.execute_input": "2022-02-17T22:26:13.987994Z",
     "iopub.status.busy": "2022-02-17T22:26:13.987727Z",
     "iopub.status.idle": "2022-02-17T22:26:14.210856Z",
     "shell.execute_reply": "2022-02-17T22:26:14.210517Z"
    },
    "papermill": {
     "duration": 0.247384,
     "end_time": "2022-02-17T22:26:14.211988",
     "exception": false,
     "start_time": "2022-02-17T22:26:13.964604",
     "status": "completed"
    },
    "tags": []
   },
   "outputs": [
    {
     "data": {
      "text/plain": [
       "['Pop', 'Bias', 'IIE', 'UUE', 'ALS', 'III', 'IALS']\n",
       "Categories (7, object): ['ALS', 'Bias', 'IALS', 'IIE', 'III', 'Pop', 'UUE']"
      ]
     },
     "execution_count": 11,
     "metadata": {},
     "output_type": "execute_result"
    }
   ],
   "source": [
    "rec_algos = recs['algorithm'].unique()\n",
    "rec_algos"
   ]
  },
  {
   "cell_type": "code",
   "execution_count": 12,
   "id": "38e63e35",
   "metadata": {
    "execution": {
     "iopub.execute_input": "2022-02-17T22:26:14.256397Z",
     "iopub.status.busy": "2022-02-17T22:26:14.256208Z",
     "iopub.status.idle": "2022-02-17T22:26:16.276433Z",
     "shell.execute_reply": "2022-02-17T22:26:16.275983Z"
    },
    "papermill": {
     "duration": 2.043615,
     "end_time": "2022-02-17T22:26:16.277656",
     "exception": false,
     "start_time": "2022-02-17T22:26:14.234041",
     "status": "completed"
    },
    "tags": []
   },
   "outputs": [
    {
     "name": "stdout",
     "output_type": "stream",
     "text": [
      "<class 'pandas.core.frame.DataFrame'>\n",
      "RangeIndex: 2096340 entries, 0 to 2096339\n",
      "Data columns (total 6 columns):\n",
      " #   Column      Dtype   \n",
      "---  ------      -----   \n",
      " 0   user        int64   \n",
      " 1   item        int64   \n",
      " 2   rating      float64 \n",
      " 3   timestamp   int64   \n",
      " 4   prediction  float64 \n",
      " 5   algorithm   category\n",
      "dtypes: category(1), float64(2), int64(3)\n",
      "memory usage: 82.0 MB\n"
     ]
    }
   ],
   "source": [
    "preds = []\n",
    "for fld in dirs:\n",
    "    for file in fld.glob(\"pred-*\"):\n",
    "        pred = pd.read_csv(file, sep=',')\n",
    "        pred[\"algorithm\"] = fld.name.split(\"-\")[1]\n",
    "        preds.append(pred)\n",
    "\n",
    "preds = pd.concat(preds, ignore_index=True)\n",
    "preds = preds.astype({'algorithm': 'category'})\n",
    "preds.info()"
   ]
  },
  {
   "cell_type": "markdown",
   "id": "ffc52b1a",
   "metadata": {
    "papermill": {
     "duration": 0.021977,
     "end_time": "2022-02-17T22:26:16.321832",
     "exception": false,
     "start_time": "2022-02-17T22:26:16.299855",
     "status": "completed"
    },
    "tags": []
   },
   "source": [
    "We need to load the test data so that we have the ground truths for computing accuracy "
   ]
  },
  {
   "cell_type": "code",
   "execution_count": 13,
   "id": "62d07fde",
   "metadata": {
    "execution": {
     "iopub.execute_input": "2022-02-17T22:26:16.366425Z",
     "iopub.status.busy": "2022-02-17T22:26:16.366219Z",
     "iopub.status.idle": "2022-02-17T22:26:16.368956Z",
     "shell.execute_reply": "2022-02-17T22:26:16.368579Z"
    },
    "papermill": {
     "duration": 0.026359,
     "end_time": "2022-02-17T22:26:16.370085",
     "exception": false,
     "start_time": "2022-02-17T22:26:16.343726",
     "status": "completed"
    },
    "tags": []
   },
   "outputs": [],
   "source": [
    "split_root = Path(\"data-split\")\n",
    "split_dir = split_root / dataset"
   ]
  },
  {
   "cell_type": "code",
   "execution_count": 14,
   "id": "80427e65",
   "metadata": {
    "execution": {
     "iopub.execute_input": "2022-02-17T22:26:16.414549Z",
     "iopub.status.busy": "2022-02-17T22:26:16.414364Z",
     "iopub.status.idle": "2022-02-17T22:26:16.685472Z",
     "shell.execute_reply": "2022-02-17T22:26:16.685093Z"
    },
    "papermill": {
     "duration": 0.294765,
     "end_time": "2022-02-17T22:26:16.686613",
     "exception": false,
     "start_time": "2022-02-17T22:26:16.391848",
     "status": "completed"
    },
    "tags": []
   },
   "outputs": [
    {
     "data": {
      "text/html": [
       "<div>\n",
       "<style scoped>\n",
       "    .dataframe tbody tr th:only-of-type {\n",
       "        vertical-align: middle;\n",
       "    }\n",
       "\n",
       "    .dataframe tbody tr th {\n",
       "        vertical-align: top;\n",
       "    }\n",
       "\n",
       "    .dataframe thead th {\n",
       "        text-align: right;\n",
       "    }\n",
       "</style>\n",
       "<table border=\"1\" class=\"dataframe\">\n",
       "  <thead>\n",
       "    <tr style=\"text-align: right;\">\n",
       "      <th></th>\n",
       "      <th>user</th>\n",
       "      <th>item</th>\n",
       "      <th>rating</th>\n",
       "      <th>timestamp</th>\n",
       "      <th>part</th>\n",
       "    </tr>\n",
       "    <tr>\n",
       "      <th>index</th>\n",
       "      <th></th>\n",
       "      <th></th>\n",
       "      <th></th>\n",
       "      <th></th>\n",
       "      <th></th>\n",
       "    </tr>\n",
       "  </thead>\n",
       "  <tbody>\n",
       "    <tr>\n",
       "      <th>8</th>\n",
       "      <td>1</td>\n",
       "      <td>362</td>\n",
       "      <td>5.0</td>\n",
       "      <td>838984885</td>\n",
       "      <td>test-1</td>\n",
       "    </tr>\n",
       "    <tr>\n",
       "      <th>6</th>\n",
       "      <td>1</td>\n",
       "      <td>355</td>\n",
       "      <td>5.0</td>\n",
       "      <td>838984474</td>\n",
       "      <td>test-1</td>\n",
       "    </tr>\n",
       "    <tr>\n",
       "      <th>2</th>\n",
       "      <td>1</td>\n",
       "      <td>231</td>\n",
       "      <td>5.0</td>\n",
       "      <td>838983392</td>\n",
       "      <td>test-1</td>\n",
       "    </tr>\n",
       "    <tr>\n",
       "      <th>19</th>\n",
       "      <td>1</td>\n",
       "      <td>589</td>\n",
       "      <td>5.0</td>\n",
       "      <td>838983778</td>\n",
       "      <td>test-1</td>\n",
       "    </tr>\n",
       "    <tr>\n",
       "      <th>16</th>\n",
       "      <td>1</td>\n",
       "      <td>539</td>\n",
       "      <td>5.0</td>\n",
       "      <td>838984068</td>\n",
       "      <td>test-1</td>\n",
       "    </tr>\n",
       "  </tbody>\n",
       "</table>\n",
       "</div>"
      ],
      "text/plain": [
       "       user  item  rating  timestamp    part\n",
       "index                                       \n",
       "8         1   362     5.0  838984885  test-1\n",
       "6         1   355     5.0  838984474  test-1\n",
       "2         1   231     5.0  838983392  test-1\n",
       "19        1   589     5.0  838983778  test-1\n",
       "16        1   539     5.0  838984068  test-1"
      ]
     },
     "execution_count": 14,
     "metadata": {},
     "output_type": "execute_result"
    }
   ],
   "source": [
    "test = []\n",
    "for file in split_dir.glob(\"test-*.csv.gz\"):\n",
    "    test.append(pd.read_csv(file, sep=',', index_col='index').assign(part=file.stem.replace('.csv', '')))\n",
    "\n",
    "test = pd.concat(test)\n",
    "test.head()"
   ]
  },
  {
   "cell_type": "markdown",
   "id": "3542d1c1",
   "metadata": {
    "papermill": {
     "duration": 0.02241,
     "end_time": "2022-02-17T22:26:16.731757",
     "exception": false,
     "start_time": "2022-02-17T22:26:16.709347",
     "status": "completed"
    },
    "tags": []
   },
   "source": [
    "# Top-N Metrics"
   ]
  },
  {
   "cell_type": "markdown",
   "id": "2b49d053",
   "metadata": {
    "papermill": {
     "duration": 0.022477,
     "end_time": "2022-02-17T22:26:16.776649",
     "exception": false,
     "start_time": "2022-02-17T22:26:16.754172",
     "status": "completed"
    },
    "tags": []
   },
   "source": [
    "The topn.RecListAnalysis class computes top-N metrics for recommendation list and takes care of making sure that the recommendations and ground truths are properly matched. Refer to the documentation for detailed explanation of the purpose for the RecListAnalysis class and how the analysis is done - https://lkpy.lenskit.org/en/stable/evaluation/topn-metrics.html "
   ]
  },
  {
   "cell_type": "code",
   "execution_count": 15,
   "id": "8f52e54a",
   "metadata": {
    "execution": {
     "iopub.execute_input": "2022-02-17T22:26:16.822698Z",
     "iopub.status.busy": "2022-02-17T22:26:16.822479Z",
     "iopub.status.idle": "2022-02-17T22:27:00.591233Z",
     "shell.execute_reply": "2022-02-17T22:27:00.590763Z"
    },
    "papermill": {
     "duration": 43.793547,
     "end_time": "2022-02-17T22:27:00.592642",
     "exception": false,
     "start_time": "2022-02-17T22:26:16.799095",
     "status": "completed"
    },
    "tags": []
   },
   "outputs": [
    {
     "name": "stdout",
     "output_type": "stream",
     "text": [
      "[   INFO] lenskit.topn analyzing 48910800 recommendations (349390 truth rows)\n"
     ]
    },
    {
     "name": "stdout",
     "output_type": "stream",
     "text": [
      "[   INFO] lenskit.topn using rec key columns ['algorithm', 'user']\n"
     ]
    },
    {
     "name": "stdout",
     "output_type": "stream",
     "text": [
      "[   INFO] lenskit.topn using truth key columns ['user']\n"
     ]
    },
    {
     "name": "stdout",
     "output_type": "stream",
     "text": [
      "[   INFO] lenskit.topn numbering truth lists\n"
     ]
    },
    {
     "name": "stdout",
     "output_type": "stream",
     "text": [
      "[   INFO] lenskit.topn numbering rec lists\n"
     ]
    },
    {
     "name": "stdout",
     "output_type": "stream",
     "text": [
      "[   INFO] lenskit.topn collecting metric results\n"
     ]
    },
    {
     "name": "stdout",
     "output_type": "stream",
     "text": [
      "[   INFO] lenskit.topn measured 489108 lists in 33.23s\n"
     ]
    },
    {
     "name": "stdout",
     "output_type": "stream",
     "text": [
      "[   INFO] lenskit.topn filling in missing user info (489108 initial rows)\n"
     ]
    },
    {
     "data": {
      "text/html": [
       "<div>\n",
       "<style scoped>\n",
       "    .dataframe tbody tr th:only-of-type {\n",
       "        vertical-align: middle;\n",
       "    }\n",
       "\n",
       "    .dataframe tbody tr th {\n",
       "        vertical-align: top;\n",
       "    }\n",
       "\n",
       "    .dataframe thead th {\n",
       "        text-align: right;\n",
       "    }\n",
       "</style>\n",
       "<table border=\"1\" class=\"dataframe\">\n",
       "  <thead>\n",
       "    <tr style=\"text-align: right;\">\n",
       "      <th></th>\n",
       "      <th></th>\n",
       "      <th>level_1</th>\n",
       "      <th>nrecs</th>\n",
       "      <th>precision</th>\n",
       "      <th>recip_rank</th>\n",
       "      <th>ndcg</th>\n",
       "      <th>ntruth</th>\n",
       "    </tr>\n",
       "    <tr>\n",
       "      <th>algorithm</th>\n",
       "      <th>user</th>\n",
       "      <th></th>\n",
       "      <th></th>\n",
       "      <th></th>\n",
       "      <th></th>\n",
       "      <th></th>\n",
       "      <th></th>\n",
       "    </tr>\n",
       "  </thead>\n",
       "  <tbody>\n",
       "    <tr>\n",
       "      <th rowspan=\"5\" valign=\"top\">ALS</th>\n",
       "      <th>1</th>\n",
       "      <td>279474.0</td>\n",
       "      <td>100.0</td>\n",
       "      <td>0.00</td>\n",
       "      <td>0.000000</td>\n",
       "      <td>0.000000</td>\n",
       "      <td>5</td>\n",
       "    </tr>\n",
       "    <tr>\n",
       "      <th>9</th>\n",
       "      <td>279475.0</td>\n",
       "      <td>100.0</td>\n",
       "      <td>0.00</td>\n",
       "      <td>0.000000</td>\n",
       "      <td>0.000000</td>\n",
       "      <td>5</td>\n",
       "    </tr>\n",
       "    <tr>\n",
       "      <th>10</th>\n",
       "      <td>279476.0</td>\n",
       "      <td>100.0</td>\n",
       "      <td>0.00</td>\n",
       "      <td>0.000000</td>\n",
       "      <td>0.000000</td>\n",
       "      <td>5</td>\n",
       "    </tr>\n",
       "    <tr>\n",
       "      <th>11</th>\n",
       "      <td>279477.0</td>\n",
       "      <td>100.0</td>\n",
       "      <td>0.02</td>\n",
       "      <td>0.100000</td>\n",
       "      <td>0.131508</td>\n",
       "      <td>5</td>\n",
       "    </tr>\n",
       "    <tr>\n",
       "      <th>13</th>\n",
       "      <td>279478.0</td>\n",
       "      <td>100.0</td>\n",
       "      <td>0.01</td>\n",
       "      <td>0.037037</td>\n",
       "      <td>0.082002</td>\n",
       "      <td>5</td>\n",
       "    </tr>\n",
       "  </tbody>\n",
       "</table>\n",
       "</div>"
      ],
      "text/plain": [
       "                 level_1  nrecs  precision  recip_rank      ndcg  ntruth\n",
       "algorithm user                                                          \n",
       "ALS       1     279474.0  100.0       0.00    0.000000  0.000000       5\n",
       "          9     279475.0  100.0       0.00    0.000000  0.000000       5\n",
       "          10    279476.0  100.0       0.00    0.000000  0.000000       5\n",
       "          11    279477.0  100.0       0.02    0.100000  0.131508       5\n",
       "          13    279478.0  100.0       0.01    0.037037  0.082002       5"
      ]
     },
     "execution_count": 15,
     "metadata": {},
     "output_type": "execute_result"
    }
   ],
   "source": [
    "rla = topn.RecListAnalysis()\n",
    "\n",
    "rla.add_metric(topn.precision)\n",
    "rla.add_metric(topn.recip_rank)\n",
    "rla.add_metric(topn.ndcg)\n",
    "results = rla.compute(recs, test, include_missing=True)\n",
    "results = results.fillna(0)\n",
    "results.head()"
   ]
  },
  {
   "cell_type": "markdown",
   "id": "86c63e76",
   "metadata": {
    "papermill": {
     "duration": 0.024791,
     "end_time": "2022-02-17T22:27:00.642059",
     "exception": false,
     "start_time": "2022-02-17T22:27:00.617268",
     "status": "completed"
    },
    "tags": []
   },
   "source": [
    "We will reshape the 'results' dataframe by stacking the columns to index and then use the bar chart to visualize the performance of our algorithms with respect to the precision, reciprocal rank and ndcg metrics"
   ]
  },
  {
   "cell_type": "code",
   "execution_count": 16,
   "id": "93b2e282",
   "metadata": {
    "execution": {
     "iopub.execute_input": "2022-02-17T22:27:00.692141Z",
     "iopub.status.busy": "2022-02-17T22:27:00.691906Z",
     "iopub.status.idle": "2022-02-17T22:27:00.803156Z",
     "shell.execute_reply": "2022-02-17T22:27:00.802773Z"
    },
    "papermill": {
     "duration": 0.138086,
     "end_time": "2022-02-17T22:27:00.804446",
     "exception": false,
     "start_time": "2022-02-17T22:27:00.666360",
     "status": "completed"
    },
    "tags": []
   },
   "outputs": [
    {
     "data": {
      "text/html": [
       "<div>\n",
       "<style scoped>\n",
       "    .dataframe tbody tr th:only-of-type {\n",
       "        vertical-align: middle;\n",
       "    }\n",
       "\n",
       "    .dataframe tbody tr th {\n",
       "        vertical-align: top;\n",
       "    }\n",
       "\n",
       "    .dataframe thead th {\n",
       "        text-align: right;\n",
       "    }\n",
       "</style>\n",
       "<table border=\"1\" class=\"dataframe\">\n",
       "  <thead>\n",
       "    <tr style=\"text-align: right;\">\n",
       "      <th></th>\n",
       "      <th>algorithm</th>\n",
       "      <th>user</th>\n",
       "      <th>metric</th>\n",
       "      <th>val</th>\n",
       "    </tr>\n",
       "  </thead>\n",
       "  <tbody>\n",
       "    <tr>\n",
       "      <th>0</th>\n",
       "      <td>ALS</td>\n",
       "      <td>1</td>\n",
       "      <td>level_1</td>\n",
       "      <td>279474.0</td>\n",
       "    </tr>\n",
       "    <tr>\n",
       "      <th>1</th>\n",
       "      <td>ALS</td>\n",
       "      <td>1</td>\n",
       "      <td>precision</td>\n",
       "      <td>0.0</td>\n",
       "    </tr>\n",
       "    <tr>\n",
       "      <th>2</th>\n",
       "      <td>ALS</td>\n",
       "      <td>1</td>\n",
       "      <td>recip_rank</td>\n",
       "      <td>0.0</td>\n",
       "    </tr>\n",
       "    <tr>\n",
       "      <th>3</th>\n",
       "      <td>ALS</td>\n",
       "      <td>1</td>\n",
       "      <td>ndcg</td>\n",
       "      <td>0.0</td>\n",
       "    </tr>\n",
       "    <tr>\n",
       "      <th>4</th>\n",
       "      <td>ALS</td>\n",
       "      <td>9</td>\n",
       "      <td>level_1</td>\n",
       "      <td>279475.0</td>\n",
       "    </tr>\n",
       "  </tbody>\n",
       "</table>\n",
       "</div>"
      ],
      "text/plain": [
       "  algorithm  user      metric       val\n",
       "0       ALS     1     level_1  279474.0\n",
       "1       ALS     1   precision       0.0\n",
       "2       ALS     1  recip_rank       0.0\n",
       "3       ALS     1        ndcg       0.0\n",
       "4       ALS     9     level_1  279475.0"
      ]
     },
     "execution_count": 16,
     "metadata": {},
     "output_type": "execute_result"
    }
   ],
   "source": [
    "pltData = (results.drop(columns=['nrecs', 'ntruth']).stack()).reset_index()\n",
    "pltData.columns = ['algorithm', 'user', 'metric', 'val']\n",
    "pltData.head()"
   ]
  },
  {
   "cell_type": "markdown",
   "id": "362e2b2d",
   "metadata": {
    "papermill": {
     "duration": 0.031338,
     "end_time": "2022-02-17T22:27:00.860681",
     "exception": false,
     "start_time": "2022-02-17T22:27:00.829343",
     "status": "completed"
    },
    "tags": []
   },
   "source": [
    "We need to determine if the differences we observe in the performances of the algorithms for the various metrics are statistically significant. To achieve this, we will need to use either a parametric or non-parametric statistical test for comparing the differences. We will consider a parametric test - repeated ANOVA measure cause our sample groups are correlated."
   ]
  },
  {
   "cell_type": "code",
   "execution_count": 17,
   "id": "09f1867e",
   "metadata": {
    "execution": {
     "iopub.execute_input": "2022-02-17T22:27:00.911098Z",
     "iopub.status.busy": "2022-02-17T22:27:00.910885Z",
     "iopub.status.idle": "2022-02-17T22:27:13.851339Z",
     "shell.execute_reply": "2022-02-17T22:27:13.850843Z"
    },
    "papermill": {
     "duration": 12.967272,
     "end_time": "2022-02-17T22:27:13.852632",
     "exception": false,
     "start_time": "2022-02-17T22:27:00.885360",
     "status": "completed"
    },
    "tags": []
   },
   "outputs": [
    {
     "data": {
      "image/png": "[encoded data removed]",
      "text/plain": [
       "<Figure size 1036.8x216 with 4 Axes>"
      ]
     },
     "metadata": {
      "needs_background": "light"
     },
     "output_type": "display_data"
    }
   ],
   "source": [
    "g = sns.catplot(x = \"algorithm\", y = \"val\", data = pltData, kind=\"bar\", col = \"metric\", aspect=1.2, height=3, sharey=False)"
   ]
  },
  {
   "cell_type": "markdown",
   "id": "04cd45c1",
   "metadata": {
    "papermill": {
     "duration": 0.027155,
     "end_time": "2022-02-17T22:27:13.905697",
     "exception": false,
     "start_time": "2022-02-17T22:27:13.878542",
     "status": "completed"
    },
    "tags": []
   },
   "source": [
    "### Statistical Testing"
   ]
  },
  {
   "cell_type": "markdown",
   "id": "4826b740",
   "metadata": {
    "papermill": {
     "duration": 0.025572,
     "end_time": "2022-02-17T22:27:13.957066",
     "exception": false,
     "start_time": "2022-02-17T22:27:13.931494",
     "status": "completed"
    },
    "tags": []
   },
   "source": [
    "We will now examine these metrics in more detail and test for statistical significance.  Best practice for statistical testing for recommender systems is still a work in progress, but this method avoids most of the validity problems we know about.\n",
    "\n",
    "The Friedman $\\chi^2$ test will test the null hypothesis that there is no difference between algorithms in terms of their performance."
   ]
  },
  {
   "cell_type": "code",
   "execution_count": 18,
   "id": "20a9374f",
   "metadata": {
    "execution": {
     "iopub.execute_input": "2022-02-17T22:27:14.009484Z",
     "iopub.status.busy": "2022-02-17T22:27:14.009248Z",
     "iopub.status.idle": "2022-02-17T22:27:14.012726Z",
     "shell.execute_reply": "2022-02-17T22:27:14.012352Z"
    },
    "papermill": {
     "duration": 0.031404,
     "end_time": "2022-02-17T22:27:14.014168",
     "exception": false,
     "start_time": "2022-02-17T22:27:13.982764",
     "status": "completed"
    },
    "tags": []
   },
   "outputs": [],
   "source": [
    "def metric_friedman(metric):\n",
    "    groups = [df[metric] for a, df in results.groupby('algorithm')]\n",
    "\n",
    "    stat, p = friedmanchisquare(*groups)\n",
    "    return pd.Series({'stat': stat, 'p': p}, name=metric)"
   ]
  },
  {
   "cell_type": "markdown",
   "id": "8c2ec069",
   "metadata": {
    "papermill": {
     "duration": 0.025997,
     "end_time": "2022-02-17T22:27:14.065956",
     "exception": false,
     "start_time": "2022-02-17T22:27:14.039959",
     "status": "completed"
    },
    "tags": []
   },
   "source": [
    "If the test detects significance, we have at least one pair of different algorithms - but which pairs?  Unfortunately, the good tests aren't readily available in scipy and friends, so we're going to take a conservative approch and perform pairwise Wilconxon signed-rank tests with a Bonferroni adjustment."
   ]
  },
  {
   "cell_type": "code",
   "execution_count": 19,
   "id": "17fced3a",
   "metadata": {
    "execution": {
     "iopub.execute_input": "2022-02-17T22:27:14.125111Z",
     "iopub.status.busy": "2022-02-17T22:27:14.124939Z",
     "iopub.status.idle": "2022-02-17T22:27:14.129784Z",
     "shell.execute_reply": "2022-02-17T22:27:14.129423Z"
    },
    "papermill": {
     "duration": 0.038502,
     "end_time": "2022-02-17T22:27:14.130867",
     "exception": false,
     "start_time": "2022-02-17T22:27:14.092365",
     "status": "completed"
    },
    "tags": []
   },
   "outputs": [],
   "source": [
    "pairs = pd.DataFrame.from_records(combinations(rec_algos, 2), columns=['A1', 'A2'])\n",
    "def am_wilcox(metric, p_scale = len(pairs)):\n",
    "    def compute(df):\n",
    "        vs1 = results.loc[df['A1'], metric]\n",
    "        vs2 = results.loc[df['A2'], metric]\n",
    "        diff = (vs1 - vs2).mean()\n",
    "        stat, p = wilcoxon(vs1, vs2)\n",
    "        return pd.Series({'diff': diff, 'stat': stat, 'p': p, 'adj_p': p * p_scale})\n",
    "    scores = pairs.apply(compute, axis=1)\n",
    "    return pairs.join(scores)"
   ]
  },
  {
   "cell_type": "markdown",
   "id": "ab160342",
   "metadata": {
    "papermill": {
     "duration": 0.026113,
     "end_time": "2022-02-17T22:27:14.182502",
     "exception": false,
     "start_time": "2022-02-17T22:27:14.156389",
     "status": "completed"
    },
    "tags": []
   },
   "source": [
    "## Precision"
   ]
  },
  {
   "cell_type": "code",
   "execution_count": 20,
   "id": "12737d8b",
   "metadata": {
    "execution": {
     "iopub.execute_input": "2022-02-17T22:27:14.235398Z",
     "iopub.status.busy": "2022-02-17T22:27:14.235211Z",
     "iopub.status.idle": "2022-02-17T22:27:17.879457Z",
     "shell.execute_reply": "2022-02-17T22:27:17.879087Z"
    },
    "papermill": {
     "duration": 3.672248,
     "end_time": "2022-02-17T22:27:17.880893",
     "exception": false,
     "start_time": "2022-02-17T22:27:14.208645",
     "status": "completed"
    },
    "tags": []
   },
   "outputs": [
    {
     "data": {
      "text/plain": [
       "stat    262913.826905\n",
       "p            0.000000\n",
       "Name: precision, dtype: float64"
      ]
     },
     "execution_count": 20,
     "metadata": {},
     "output_type": "execute_result"
    }
   ],
   "source": [
    "metric_friedman('precision')"
   ]
  },
  {
   "cell_type": "markdown",
   "id": "96cb5751",
   "metadata": {
    "papermill": {
     "duration": 0.028514,
     "end_time": "2022-02-17T22:27:17.935252",
     "exception": false,
     "start_time": "2022-02-17T22:27:17.906738",
     "status": "completed"
    },
    "tags": []
   },
   "source": [
    "This indicates a statistically significant difference exists - but where is it?\n",
    "\n",
    "To answer that question, we need a post-hoc test. "
   ]
  },
  {
   "cell_type": "code",
   "execution_count": 21,
   "id": "7760c854",
   "metadata": {
    "execution": {
     "iopub.execute_input": "2022-02-17T22:27:17.989844Z",
     "iopub.status.busy": "2022-02-17T22:27:17.989625Z",
     "iopub.status.idle": "2022-02-17T22:27:18.253178Z",
     "shell.execute_reply": "2022-02-17T22:27:18.252808Z"
    },
    "papermill": {
     "duration": 0.292243,
     "end_time": "2022-02-17T22:27:18.254325",
     "exception": false,
     "start_time": "2022-02-17T22:27:17.962082",
     "status": "completed"
    },
    "tags": []
   },
   "outputs": [
    {
     "data": {
      "text/html": [
       "<div>\n",
       "<style scoped>\n",
       "    .dataframe tbody tr th:only-of-type {\n",
       "        vertical-align: middle;\n",
       "    }\n",
       "\n",
       "    .dataframe tbody tr th {\n",
       "        vertical-align: top;\n",
       "    }\n",
       "\n",
       "    .dataframe thead th {\n",
       "        text-align: right;\n",
       "    }\n",
       "</style>\n",
       "<table border=\"1\" class=\"dataframe\">\n",
       "  <thead>\n",
       "    <tr style=\"text-align: right;\">\n",
       "      <th></th>\n",
       "      <th>A1</th>\n",
       "      <th>A2</th>\n",
       "      <th>diff</th>\n",
       "      <th>stat</th>\n",
       "      <th>p</th>\n",
       "      <th>adj_p</th>\n",
       "    </tr>\n",
       "  </thead>\n",
       "  <tbody>\n",
       "    <tr>\n",
       "      <th>2</th>\n",
       "      <td>Pop</td>\n",
       "      <td>UUE</td>\n",
       "      <td>0.015545</td>\n",
       "      <td>38610808.0</td>\n",
       "      <td>0.000000e+00</td>\n",
       "      <td>0.000000e+00</td>\n",
       "    </tr>\n",
       "    <tr>\n",
       "      <th>1</th>\n",
       "      <td>Pop</td>\n",
       "      <td>IIE</td>\n",
       "      <td>0.015295</td>\n",
       "      <td>41820584.5</td>\n",
       "      <td>0.000000e+00</td>\n",
       "      <td>0.000000e+00</td>\n",
       "    </tr>\n",
       "    <tr>\n",
       "      <th>3</th>\n",
       "      <td>Pop</td>\n",
       "      <td>ALS</td>\n",
       "      <td>0.012906</td>\n",
       "      <td>90860867.5</td>\n",
       "      <td>0.000000e+00</td>\n",
       "      <td>0.000000e+00</td>\n",
       "    </tr>\n",
       "    <tr>\n",
       "      <th>0</th>\n",
       "      <td>Pop</td>\n",
       "      <td>Bias</td>\n",
       "      <td>0.012754</td>\n",
       "      <td>94484783.5</td>\n",
       "      <td>0.000000e+00</td>\n",
       "      <td>0.000000e+00</td>\n",
       "    </tr>\n",
       "    <tr>\n",
       "      <th>7</th>\n",
       "      <td>Bias</td>\n",
       "      <td>UUE</td>\n",
       "      <td>0.002791</td>\n",
       "      <td>107733040.0</td>\n",
       "      <td>0.000000e+00</td>\n",
       "      <td>0.000000e+00</td>\n",
       "    </tr>\n",
       "    <tr>\n",
       "      <th>6</th>\n",
       "      <td>Bias</td>\n",
       "      <td>IIE</td>\n",
       "      <td>0.002542</td>\n",
       "      <td>39920037.0</td>\n",
       "      <td>0.000000e+00</td>\n",
       "      <td>0.000000e+00</td>\n",
       "    </tr>\n",
       "    <tr>\n",
       "      <th>11</th>\n",
       "      <td>IIE</td>\n",
       "      <td>UUE</td>\n",
       "      <td>0.000250</td>\n",
       "      <td>99319368.0</td>\n",
       "      <td>2.147777e-19</td>\n",
       "      <td>4.510332e-18</td>\n",
       "    </tr>\n",
       "    <tr>\n",
       "      <th>8</th>\n",
       "      <td>Bias</td>\n",
       "      <td>ALS</td>\n",
       "      <td>0.000153</td>\n",
       "      <td>56174361.5</td>\n",
       "      <td>1.698976e-14</td>\n",
       "      <td>3.567850e-13</td>\n",
       "    </tr>\n",
       "    <tr>\n",
       "      <th>12</th>\n",
       "      <td>IIE</td>\n",
       "      <td>ALS</td>\n",
       "      <td>-0.002389</td>\n",
       "      <td>25079696.5</td>\n",
       "      <td>0.000000e+00</td>\n",
       "      <td>0.000000e+00</td>\n",
       "    </tr>\n",
       "    <tr>\n",
       "      <th>15</th>\n",
       "      <td>UUE</td>\n",
       "      <td>ALS</td>\n",
       "      <td>-0.002639</td>\n",
       "      <td>107377077.5</td>\n",
       "      <td>0.000000e+00</td>\n",
       "      <td>0.000000e+00</td>\n",
       "    </tr>\n",
       "    <tr>\n",
       "      <th>4</th>\n",
       "      <td>Pop</td>\n",
       "      <td>III</td>\n",
       "      <td>-0.006281</td>\n",
       "      <td>225112322.5</td>\n",
       "      <td>0.000000e+00</td>\n",
       "      <td>0.000000e+00</td>\n",
       "    </tr>\n",
       "    <tr>\n",
       "      <th>20</th>\n",
       "      <td>III</td>\n",
       "      <td>IALS</td>\n",
       "      <td>-0.007736</td>\n",
       "      <td>113325554.0</td>\n",
       "      <td>0.000000e+00</td>\n",
       "      <td>0.000000e+00</td>\n",
       "    </tr>\n",
       "    <tr>\n",
       "      <th>5</th>\n",
       "      <td>Pop</td>\n",
       "      <td>IALS</td>\n",
       "      <td>-0.014017</td>\n",
       "      <td>154813327.5</td>\n",
       "      <td>0.000000e+00</td>\n",
       "      <td>0.000000e+00</td>\n",
       "    </tr>\n",
       "    <tr>\n",
       "      <th>9</th>\n",
       "      <td>Bias</td>\n",
       "      <td>III</td>\n",
       "      <td>-0.019034</td>\n",
       "      <td>33170232.0</td>\n",
       "      <td>0.000000e+00</td>\n",
       "      <td>0.000000e+00</td>\n",
       "    </tr>\n",
       "    <tr>\n",
       "      <th>18</th>\n",
       "      <td>ALS</td>\n",
       "      <td>III</td>\n",
       "      <td>-0.019187</td>\n",
       "      <td>29097760.0</td>\n",
       "      <td>0.000000e+00</td>\n",
       "      <td>0.000000e+00</td>\n",
       "    </tr>\n",
       "    <tr>\n",
       "      <th>13</th>\n",
       "      <td>IIE</td>\n",
       "      <td>III</td>\n",
       "      <td>-0.021576</td>\n",
       "      <td>14585484.5</td>\n",
       "      <td>0.000000e+00</td>\n",
       "      <td>0.000000e+00</td>\n",
       "    </tr>\n",
       "    <tr>\n",
       "      <th>16</th>\n",
       "      <td>UUE</td>\n",
       "      <td>III</td>\n",
       "      <td>-0.021826</td>\n",
       "      <td>16678470.5</td>\n",
       "      <td>0.000000e+00</td>\n",
       "      <td>0.000000e+00</td>\n",
       "    </tr>\n",
       "    <tr>\n",
       "      <th>10</th>\n",
       "      <td>Bias</td>\n",
       "      <td>IALS</td>\n",
       "      <td>-0.026771</td>\n",
       "      <td>10806690.0</td>\n",
       "      <td>0.000000e+00</td>\n",
       "      <td>0.000000e+00</td>\n",
       "    </tr>\n",
       "    <tr>\n",
       "      <th>19</th>\n",
       "      <td>ALS</td>\n",
       "      <td>IALS</td>\n",
       "      <td>-0.026923</td>\n",
       "      <td>9619085.5</td>\n",
       "      <td>0.000000e+00</td>\n",
       "      <td>0.000000e+00</td>\n",
       "    </tr>\n",
       "    <tr>\n",
       "      <th>14</th>\n",
       "      <td>IIE</td>\n",
       "      <td>IALS</td>\n",
       "      <td>-0.029312</td>\n",
       "      <td>4564054.5</td>\n",
       "      <td>0.000000e+00</td>\n",
       "      <td>0.000000e+00</td>\n",
       "    </tr>\n",
       "    <tr>\n",
       "      <th>17</th>\n",
       "      <td>UUE</td>\n",
       "      <td>IALS</td>\n",
       "      <td>-0.029562</td>\n",
       "      <td>4197542.5</td>\n",
       "      <td>0.000000e+00</td>\n",
       "      <td>0.000000e+00</td>\n",
       "    </tr>\n",
       "  </tbody>\n",
       "</table>\n",
       "</div>"
      ],
      "text/plain": [
       "      A1    A2      diff         stat             p         adj_p\n",
       "2    Pop   UUE  0.015545   38610808.0  0.000000e+00  0.000000e+00\n",
       "1    Pop   IIE  0.015295   41820584.5  0.000000e+00  0.000000e+00\n",
       "3    Pop   ALS  0.012906   90860867.5  0.000000e+00  0.000000e+00\n",
       "0    Pop  Bias  0.012754   94484783.5  0.000000e+00  0.000000e+00\n",
       "7   Bias   UUE  0.002791  107733040.0  0.000000e+00  0.000000e+00\n",
       "6   Bias   IIE  0.002542   39920037.0  0.000000e+00  0.000000e+00\n",
       "11   IIE   UUE  0.000250   99319368.0  2.147777e-19  4.510332e-18\n",
       "8   Bias   ALS  0.000153   56174361.5  1.698976e-14  3.567850e-13\n",
       "12   IIE   ALS -0.002389   25079696.5  0.000000e+00  0.000000e+00\n",
       "15   UUE   ALS -0.002639  107377077.5  0.000000e+00  0.000000e+00\n",
       "4    Pop   III -0.006281  225112322.5  0.000000e+00  0.000000e+00\n",
       "20   III  IALS -0.007736  113325554.0  0.000000e+00  0.000000e+00\n",
       "5    Pop  IALS -0.014017  154813327.5  0.000000e+00  0.000000e+00\n",
       "9   Bias   III -0.019034   33170232.0  0.000000e+00  0.000000e+00\n",
       "18   ALS   III -0.019187   29097760.0  0.000000e+00  0.000000e+00\n",
       "13   IIE   III -0.021576   14585484.5  0.000000e+00  0.000000e+00\n",
       "16   UUE   III -0.021826   16678470.5  0.000000e+00  0.000000e+00\n",
       "10  Bias  IALS -0.026771   10806690.0  0.000000e+00  0.000000e+00\n",
       "19   ALS  IALS -0.026923    9619085.5  0.000000e+00  0.000000e+00\n",
       "14   IIE  IALS -0.029312    4564054.5  0.000000e+00  0.000000e+00\n",
       "17   UUE  IALS -0.029562    4197542.5  0.000000e+00  0.000000e+00"
      ]
     },
     "execution_count": 21,
     "metadata": {},
     "output_type": "execute_result"
    }
   ],
   "source": [
    "am_wilcox('precision').sort_values('diff', ascending=False)"
   ]
  },
  {
   "cell_type": "markdown",
   "id": "dd9e3de3",
   "metadata": {
    "papermill": {
     "duration": 0.026593,
     "end_time": "2022-02-17T22:27:18.307354",
     "exception": false,
     "start_time": "2022-02-17T22:27:18.280761",
     "status": "completed"
    },
    "tags": []
   },
   "source": [
    "We can consider pairs with an adjusted $p$ value less than 0.05 (5.0e-2) to be statistically significant.  However, we have so many data points, the substance of significance is questionable.  Pay attention to the 'diff' column, which is the difference between A1 and A2 (how much A1 outperforms A2)."
   ]
  },
  {
   "cell_type": "markdown",
   "id": "5532c308",
   "metadata": {
    "papermill": {
     "duration": 0.027361,
     "end_time": "2022-02-17T22:27:18.361496",
     "exception": false,
     "start_time": "2022-02-17T22:27:18.334135",
     "status": "completed"
    },
    "tags": []
   },
   "source": [
    "### nDCG"
   ]
  },
  {
   "cell_type": "markdown",
   "id": "ce5de432",
   "metadata": {
    "papermill": {
     "duration": 0.026579,
     "end_time": "2022-02-17T22:27:18.414694",
     "exception": false,
     "start_time": "2022-02-17T22:27:18.388115",
     "status": "completed"
    },
    "tags": []
   },
   "source": [
    "Now let's do the same for nDCG:"
   ]
  },
  {
   "cell_type": "code",
   "execution_count": 22,
   "id": "6f61160c",
   "metadata": {
    "execution": {
     "iopub.execute_input": "2022-02-17T22:27:18.470386Z",
     "iopub.status.busy": "2022-02-17T22:27:18.470173Z",
     "iopub.status.idle": "2022-02-17T22:27:22.151064Z",
     "shell.execute_reply": "2022-02-17T22:27:22.150677Z"
    },
    "papermill": {
     "duration": 3.709857,
     "end_time": "2022-02-17T22:27:22.152335",
     "exception": false,
     "start_time": "2022-02-17T22:27:18.442478",
     "status": "completed"
    },
    "tags": []
   },
   "outputs": [
    {
     "data": {
      "text/plain": [
       "stat    234436.773049\n",
       "p            0.000000\n",
       "Name: ndcg, dtype: float64"
      ]
     },
     "execution_count": 22,
     "metadata": {},
     "output_type": "execute_result"
    }
   ],
   "source": [
    "metric_friedman('ndcg')"
   ]
  },
  {
   "cell_type": "code",
   "execution_count": 23,
   "id": "fda801cf",
   "metadata": {
    "execution": {
     "iopub.execute_input": "2022-02-17T22:27:22.215214Z",
     "iopub.status.busy": "2022-02-17T22:27:22.215003Z",
     "iopub.status.idle": "2022-02-17T22:27:22.586881Z",
     "shell.execute_reply": "2022-02-17T22:27:22.586503Z"
    },
    "papermill": {
     "duration": 0.403703,
     "end_time": "2022-02-17T22:27:22.588067",
     "exception": false,
     "start_time": "2022-02-17T22:27:22.184364",
     "status": "completed"
    },
    "tags": []
   },
   "outputs": [
    {
     "data": {
      "text/html": [
       "<div>\n",
       "<style scoped>\n",
       "    .dataframe tbody tr th:only-of-type {\n",
       "        vertical-align: middle;\n",
       "    }\n",
       "\n",
       "    .dataframe tbody tr th {\n",
       "        vertical-align: top;\n",
       "    }\n",
       "\n",
       "    .dataframe thead th {\n",
       "        text-align: right;\n",
       "    }\n",
       "</style>\n",
       "<table border=\"1\" class=\"dataframe\">\n",
       "  <thead>\n",
       "    <tr style=\"text-align: right;\">\n",
       "      <th></th>\n",
       "      <th>A1</th>\n",
       "      <th>A2</th>\n",
       "      <th>diff</th>\n",
       "      <th>stat</th>\n",
       "      <th>p</th>\n",
       "      <th>adj_p</th>\n",
       "    </tr>\n",
       "  </thead>\n",
       "  <tbody>\n",
       "    <tr>\n",
       "      <th>2</th>\n",
       "      <td>Pop</td>\n",
       "      <td>UUE</td>\n",
       "      <td>0.140720</td>\n",
       "      <td>46637395.0</td>\n",
       "      <td>0.000000e+00</td>\n",
       "      <td>0.000000e+00</td>\n",
       "    </tr>\n",
       "    <tr>\n",
       "      <th>1</th>\n",
       "      <td>Pop</td>\n",
       "      <td>IIE</td>\n",
       "      <td>0.137795</td>\n",
       "      <td>56508944.0</td>\n",
       "      <td>0.000000e+00</td>\n",
       "      <td>0.000000e+00</td>\n",
       "    </tr>\n",
       "    <tr>\n",
       "      <th>3</th>\n",
       "      <td>Pop</td>\n",
       "      <td>ALS</td>\n",
       "      <td>0.109444</td>\n",
       "      <td>209154898.0</td>\n",
       "      <td>0.000000e+00</td>\n",
       "      <td>0.000000e+00</td>\n",
       "    </tr>\n",
       "    <tr>\n",
       "      <th>0</th>\n",
       "      <td>Pop</td>\n",
       "      <td>Bias</td>\n",
       "      <td>0.104823</td>\n",
       "      <td>243592982.0</td>\n",
       "      <td>0.000000e+00</td>\n",
       "      <td>0.000000e+00</td>\n",
       "    </tr>\n",
       "    <tr>\n",
       "      <th>7</th>\n",
       "      <td>Bias</td>\n",
       "      <td>UUE</td>\n",
       "      <td>0.035897</td>\n",
       "      <td>112625106.5</td>\n",
       "      <td>0.000000e+00</td>\n",
       "      <td>0.000000e+00</td>\n",
       "    </tr>\n",
       "    <tr>\n",
       "      <th>6</th>\n",
       "      <td>Bias</td>\n",
       "      <td>IIE</td>\n",
       "      <td>0.032972</td>\n",
       "      <td>57313793.0</td>\n",
       "      <td>0.000000e+00</td>\n",
       "      <td>0.000000e+00</td>\n",
       "    </tr>\n",
       "    <tr>\n",
       "      <th>8</th>\n",
       "      <td>Bias</td>\n",
       "      <td>ALS</td>\n",
       "      <td>0.004621</td>\n",
       "      <td>198413255.0</td>\n",
       "      <td>5.746133e-25</td>\n",
       "      <td>1.206688e-23</td>\n",
       "    </tr>\n",
       "    <tr>\n",
       "      <th>11</th>\n",
       "      <td>IIE</td>\n",
       "      <td>UUE</td>\n",
       "      <td>0.002925</td>\n",
       "      <td>110026263.5</td>\n",
       "      <td>1.459984e-44</td>\n",
       "      <td>3.065967e-43</td>\n",
       "    </tr>\n",
       "    <tr>\n",
       "      <th>12</th>\n",
       "      <td>IIE</td>\n",
       "      <td>ALS</td>\n",
       "      <td>-0.028351</td>\n",
       "      <td>36879491.5</td>\n",
       "      <td>0.000000e+00</td>\n",
       "      <td>0.000000e+00</td>\n",
       "    </tr>\n",
       "    <tr>\n",
       "      <th>20</th>\n",
       "      <td>III</td>\n",
       "      <td>IALS</td>\n",
       "      <td>-0.030622</td>\n",
       "      <td>918473943.5</td>\n",
       "      <td>0.000000e+00</td>\n",
       "      <td>0.000000e+00</td>\n",
       "    </tr>\n",
       "    <tr>\n",
       "      <th>15</th>\n",
       "      <td>UUE</td>\n",
       "      <td>ALS</td>\n",
       "      <td>-0.031276</td>\n",
       "      <td>104487939.0</td>\n",
       "      <td>0.000000e+00</td>\n",
       "      <td>0.000000e+00</td>\n",
       "    </tr>\n",
       "    <tr>\n",
       "      <th>4</th>\n",
       "      <td>Pop</td>\n",
       "      <td>III</td>\n",
       "      <td>-0.092766</td>\n",
       "      <td>483168134.5</td>\n",
       "      <td>0.000000e+00</td>\n",
       "      <td>0.000000e+00</td>\n",
       "    </tr>\n",
       "    <tr>\n",
       "      <th>5</th>\n",
       "      <td>Pop</td>\n",
       "      <td>IALS</td>\n",
       "      <td>-0.123388</td>\n",
       "      <td>463048262.5</td>\n",
       "      <td>0.000000e+00</td>\n",
       "      <td>0.000000e+00</td>\n",
       "    </tr>\n",
       "    <tr>\n",
       "      <th>9</th>\n",
       "      <td>Bias</td>\n",
       "      <td>III</td>\n",
       "      <td>-0.197589</td>\n",
       "      <td>125010440.5</td>\n",
       "      <td>0.000000e+00</td>\n",
       "      <td>0.000000e+00</td>\n",
       "    </tr>\n",
       "    <tr>\n",
       "      <th>18</th>\n",
       "      <td>ALS</td>\n",
       "      <td>III</td>\n",
       "      <td>-0.202210</td>\n",
       "      <td>90415668.5</td>\n",
       "      <td>0.000000e+00</td>\n",
       "      <td>0.000000e+00</td>\n",
       "    </tr>\n",
       "    <tr>\n",
       "      <th>10</th>\n",
       "      <td>Bias</td>\n",
       "      <td>IALS</td>\n",
       "      <td>-0.228211</td>\n",
       "      <td>85738215.0</td>\n",
       "      <td>0.000000e+00</td>\n",
       "      <td>0.000000e+00</td>\n",
       "    </tr>\n",
       "    <tr>\n",
       "      <th>13</th>\n",
       "      <td>IIE</td>\n",
       "      <td>III</td>\n",
       "      <td>-0.230562</td>\n",
       "      <td>20403854.5</td>\n",
       "      <td>0.000000e+00</td>\n",
       "      <td>0.000000e+00</td>\n",
       "    </tr>\n",
       "    <tr>\n",
       "      <th>19</th>\n",
       "      <td>ALS</td>\n",
       "      <td>IALS</td>\n",
       "      <td>-0.232832</td>\n",
       "      <td>64838213.0</td>\n",
       "      <td>0.000000e+00</td>\n",
       "      <td>0.000000e+00</td>\n",
       "    </tr>\n",
       "    <tr>\n",
       "      <th>16</th>\n",
       "      <td>UUE</td>\n",
       "      <td>III</td>\n",
       "      <td>-0.233486</td>\n",
       "      <td>18197971.5</td>\n",
       "      <td>0.000000e+00</td>\n",
       "      <td>0.000000e+00</td>\n",
       "    </tr>\n",
       "    <tr>\n",
       "      <th>14</th>\n",
       "      <td>IIE</td>\n",
       "      <td>IALS</td>\n",
       "      <td>-0.261184</td>\n",
       "      <td>11452983.0</td>\n",
       "      <td>0.000000e+00</td>\n",
       "      <td>0.000000e+00</td>\n",
       "    </tr>\n",
       "    <tr>\n",
       "      <th>17</th>\n",
       "      <td>UUE</td>\n",
       "      <td>IALS</td>\n",
       "      <td>-0.264108</td>\n",
       "      <td>5712849.0</td>\n",
       "      <td>0.000000e+00</td>\n",
       "      <td>0.000000e+00</td>\n",
       "    </tr>\n",
       "  </tbody>\n",
       "</table>\n",
       "</div>"
      ],
      "text/plain": [
       "      A1    A2      diff         stat             p         adj_p\n",
       "2    Pop   UUE  0.140720   46637395.0  0.000000e+00  0.000000e+00\n",
       "1    Pop   IIE  0.137795   56508944.0  0.000000e+00  0.000000e+00\n",
       "3    Pop   ALS  0.109444  209154898.0  0.000000e+00  0.000000e+00\n",
       "0    Pop  Bias  0.104823  243592982.0  0.000000e+00  0.000000e+00\n",
       "7   Bias   UUE  0.035897  112625106.5  0.000000e+00  0.000000e+00\n",
       "6   Bias   IIE  0.032972   57313793.0  0.000000e+00  0.000000e+00\n",
       "8   Bias   ALS  0.004621  198413255.0  5.746133e-25  1.206688e-23\n",
       "11   IIE   UUE  0.002925  110026263.5  1.459984e-44  3.065967e-43\n",
       "12   IIE   ALS -0.028351   36879491.5  0.000000e+00  0.000000e+00\n",
       "20   III  IALS -0.030622  918473943.5  0.000000e+00  0.000000e+00\n",
       "15   UUE   ALS -0.031276  104487939.0  0.000000e+00  0.000000e+00\n",
       "4    Pop   III -0.092766  483168134.5  0.000000e+00  0.000000e+00\n",
       "5    Pop  IALS -0.123388  463048262.5  0.000000e+00  0.000000e+00\n",
       "9   Bias   III -0.197589  125010440.5  0.000000e+00  0.000000e+00\n",
       "18   ALS   III -0.202210   90415668.5  0.000000e+00  0.000000e+00\n",
       "10  Bias  IALS -0.228211   85738215.0  0.000000e+00  0.000000e+00\n",
       "13   IIE   III -0.230562   20403854.5  0.000000e+00  0.000000e+00\n",
       "19   ALS  IALS -0.232832   64838213.0  0.000000e+00  0.000000e+00\n",
       "16   UUE   III -0.233486   18197971.5  0.000000e+00  0.000000e+00\n",
       "14   IIE  IALS -0.261184   11452983.0  0.000000e+00  0.000000e+00\n",
       "17   UUE  IALS -0.264108    5712849.0  0.000000e+00  0.000000e+00"
      ]
     },
     "execution_count": 23,
     "metadata": {},
     "output_type": "execute_result"
    }
   ],
   "source": [
    "am_wilcox('ndcg').sort_values('diff', ascending=False)"
   ]
  },
  {
   "cell_type": "markdown",
   "id": "ad2a3bfe",
   "metadata": {
    "papermill": {
     "duration": 0.029322,
     "end_time": "2022-02-17T22:27:22.645351",
     "exception": false,
     "start_time": "2022-02-17T22:27:22.616029",
     "status": "completed"
    },
    "tags": []
   },
   "source": [
    "### Reciprocal Rank\n",
    "\n",
    "We'll do this also for reciprocal rank (what is aggregated to compute MRR):"
   ]
  },
  {
   "cell_type": "code",
   "execution_count": 24,
   "id": "abb041a9",
   "metadata": {
    "execution": {
     "iopub.execute_input": "2022-02-17T22:27:22.701505Z",
     "iopub.status.busy": "2022-02-17T22:27:22.701294Z",
     "iopub.status.idle": "2022-02-17T22:27:26.331862Z",
     "shell.execute_reply": "2022-02-17T22:27:26.331488Z"
    },
    "papermill": {
     "duration": 3.660117,
     "end_time": "2022-02-17T22:27:26.333180",
     "exception": false,
     "start_time": "2022-02-17T22:27:22.673063",
     "status": "completed"
    },
    "tags": []
   },
   "outputs": [
    {
     "data": {
      "text/plain": [
       "stat    214890.780089\n",
       "p            0.000000\n",
       "Name: recip_rank, dtype: float64"
      ]
     },
     "execution_count": 24,
     "metadata": {},
     "output_type": "execute_result"
    }
   ],
   "source": [
    "metric_friedman('recip_rank')"
   ]
  },
  {
   "cell_type": "code",
   "execution_count": 25,
   "id": "c3c82ce8",
   "metadata": {
    "execution": {
     "iopub.execute_input": "2022-02-17T22:27:26.389782Z",
     "iopub.status.busy": "2022-02-17T22:27:26.389564Z",
     "iopub.status.idle": "2022-02-17T22:27:26.703089Z",
     "shell.execute_reply": "2022-02-17T22:27:26.702717Z"
    },
    "papermill": {
     "duration": 0.343577,
     "end_time": "2022-02-17T22:27:26.704498",
     "exception": false,
     "start_time": "2022-02-17T22:27:26.360921",
     "status": "completed"
    },
    "tags": []
   },
   "outputs": [
    {
     "data": {
      "text/html": [
       "<div>\n",
       "<style scoped>\n",
       "    .dataframe tbody tr th:only-of-type {\n",
       "        vertical-align: middle;\n",
       "    }\n",
       "\n",
       "    .dataframe tbody tr th {\n",
       "        vertical-align: top;\n",
       "    }\n",
       "\n",
       "    .dataframe thead th {\n",
       "        text-align: right;\n",
       "    }\n",
       "</style>\n",
       "<table border=\"1\" class=\"dataframe\">\n",
       "  <thead>\n",
       "    <tr style=\"text-align: right;\">\n",
       "      <th></th>\n",
       "      <th>A1</th>\n",
       "      <th>A2</th>\n",
       "      <th>diff</th>\n",
       "      <th>stat</th>\n",
       "      <th>p</th>\n",
       "      <th>adj_p</th>\n",
       "    </tr>\n",
       "  </thead>\n",
       "  <tbody>\n",
       "    <tr>\n",
       "      <th>2</th>\n",
       "      <td>Pop</td>\n",
       "      <td>UUE</td>\n",
       "      <td>0.170884</td>\n",
       "      <td>44889423.0</td>\n",
       "      <td>0.000000e+00</td>\n",
       "      <td>0.000000e+00</td>\n",
       "    </tr>\n",
       "    <tr>\n",
       "      <th>1</th>\n",
       "      <td>Pop</td>\n",
       "      <td>IIE</td>\n",
       "      <td>0.167326</td>\n",
       "      <td>67098501.0</td>\n",
       "      <td>0.000000e+00</td>\n",
       "      <td>0.000000e+00</td>\n",
       "    </tr>\n",
       "    <tr>\n",
       "      <th>3</th>\n",
       "      <td>Pop</td>\n",
       "      <td>ALS</td>\n",
       "      <td>0.124807</td>\n",
       "      <td>291609550.5</td>\n",
       "      <td>0.000000e+00</td>\n",
       "      <td>0.000000e+00</td>\n",
       "    </tr>\n",
       "    <tr>\n",
       "      <th>0</th>\n",
       "      <td>Pop</td>\n",
       "      <td>Bias</td>\n",
       "      <td>0.105475</td>\n",
       "      <td>341193646.5</td>\n",
       "      <td>0.000000e+00</td>\n",
       "      <td>0.000000e+00</td>\n",
       "    </tr>\n",
       "    <tr>\n",
       "      <th>7</th>\n",
       "      <td>Bias</td>\n",
       "      <td>UUE</td>\n",
       "      <td>0.065409</td>\n",
       "      <td>103127570.5</td>\n",
       "      <td>0.000000e+00</td>\n",
       "      <td>0.000000e+00</td>\n",
       "    </tr>\n",
       "    <tr>\n",
       "      <th>6</th>\n",
       "      <td>Bias</td>\n",
       "      <td>IIE</td>\n",
       "      <td>0.061851</td>\n",
       "      <td>59219212.0</td>\n",
       "      <td>0.000000e+00</td>\n",
       "      <td>0.000000e+00</td>\n",
       "    </tr>\n",
       "    <tr>\n",
       "      <th>20</th>\n",
       "      <td>III</td>\n",
       "      <td>IALS</td>\n",
       "      <td>0.037939</td>\n",
       "      <td>916556715.5</td>\n",
       "      <td>2.626652e-42</td>\n",
       "      <td>5.515969e-41</td>\n",
       "    </tr>\n",
       "    <tr>\n",
       "      <th>8</th>\n",
       "      <td>Bias</td>\n",
       "      <td>ALS</td>\n",
       "      <td>0.019332</td>\n",
       "      <td>191162112.5</td>\n",
       "      <td>1.350944e-33</td>\n",
       "      <td>2.836981e-32</td>\n",
       "    </tr>\n",
       "    <tr>\n",
       "      <th>11</th>\n",
       "      <td>IIE</td>\n",
       "      <td>UUE</td>\n",
       "      <td>0.003559</td>\n",
       "      <td>106072790.0</td>\n",
       "      <td>3.784110e-72</td>\n",
       "      <td>7.946630e-71</td>\n",
       "    </tr>\n",
       "    <tr>\n",
       "      <th>12</th>\n",
       "      <td>IIE</td>\n",
       "      <td>ALS</td>\n",
       "      <td>-0.042518</td>\n",
       "      <td>36612230.5</td>\n",
       "      <td>0.000000e+00</td>\n",
       "      <td>0.000000e+00</td>\n",
       "    </tr>\n",
       "    <tr>\n",
       "      <th>15</th>\n",
       "      <td>UUE</td>\n",
       "      <td>ALS</td>\n",
       "      <td>-0.046077</td>\n",
       "      <td>92187285.5</td>\n",
       "      <td>0.000000e+00</td>\n",
       "      <td>0.000000e+00</td>\n",
       "    </tr>\n",
       "    <tr>\n",
       "      <th>5</th>\n",
       "      <td>Pop</td>\n",
       "      <td>IALS</td>\n",
       "      <td>-0.099837</td>\n",
       "      <td>683352574.0</td>\n",
       "      <td>0.000000e+00</td>\n",
       "      <td>0.000000e+00</td>\n",
       "    </tr>\n",
       "    <tr>\n",
       "      <th>4</th>\n",
       "      <td>Pop</td>\n",
       "      <td>III</td>\n",
       "      <td>-0.137776</td>\n",
       "      <td>520122602.5</td>\n",
       "      <td>0.000000e+00</td>\n",
       "      <td>0.000000e+00</td>\n",
       "    </tr>\n",
       "    <tr>\n",
       "      <th>10</th>\n",
       "      <td>Bias</td>\n",
       "      <td>IALS</td>\n",
       "      <td>-0.205312</td>\n",
       "      <td>264661805.0</td>\n",
       "      <td>0.000000e+00</td>\n",
       "      <td>0.000000e+00</td>\n",
       "    </tr>\n",
       "    <tr>\n",
       "      <th>19</th>\n",
       "      <td>ALS</td>\n",
       "      <td>IALS</td>\n",
       "      <td>-0.224644</td>\n",
       "      <td>206154836.0</td>\n",
       "      <td>0.000000e+00</td>\n",
       "      <td>0.000000e+00</td>\n",
       "    </tr>\n",
       "    <tr>\n",
       "      <th>9</th>\n",
       "      <td>Bias</td>\n",
       "      <td>III</td>\n",
       "      <td>-0.243251</td>\n",
       "      <td>240821983.0</td>\n",
       "      <td>0.000000e+00</td>\n",
       "      <td>0.000000e+00</td>\n",
       "    </tr>\n",
       "    <tr>\n",
       "      <th>18</th>\n",
       "      <td>ALS</td>\n",
       "      <td>III</td>\n",
       "      <td>-0.262583</td>\n",
       "      <td>171129102.0</td>\n",
       "      <td>0.000000e+00</td>\n",
       "      <td>0.000000e+00</td>\n",
       "    </tr>\n",
       "    <tr>\n",
       "      <th>14</th>\n",
       "      <td>IIE</td>\n",
       "      <td>IALS</td>\n",
       "      <td>-0.267163</td>\n",
       "      <td>33756363.0</td>\n",
       "      <td>0.000000e+00</td>\n",
       "      <td>0.000000e+00</td>\n",
       "    </tr>\n",
       "    <tr>\n",
       "      <th>17</th>\n",
       "      <td>UUE</td>\n",
       "      <td>IALS</td>\n",
       "      <td>-0.270721</td>\n",
       "      <td>10307060.5</td>\n",
       "      <td>0.000000e+00</td>\n",
       "      <td>0.000000e+00</td>\n",
       "    </tr>\n",
       "    <tr>\n",
       "      <th>13</th>\n",
       "      <td>IIE</td>\n",
       "      <td>III</td>\n",
       "      <td>-0.305101</td>\n",
       "      <td>32266827.0</td>\n",
       "      <td>0.000000e+00</td>\n",
       "      <td>0.000000e+00</td>\n",
       "    </tr>\n",
       "    <tr>\n",
       "      <th>16</th>\n",
       "      <td>UUE</td>\n",
       "      <td>III</td>\n",
       "      <td>-0.308660</td>\n",
       "      <td>18752349.0</td>\n",
       "      <td>0.000000e+00</td>\n",
       "      <td>0.000000e+00</td>\n",
       "    </tr>\n",
       "  </tbody>\n",
       "</table>\n",
       "</div>"
      ],
      "text/plain": [
       "      A1    A2      diff         stat             p         adj_p\n",
       "2    Pop   UUE  0.170884   44889423.0  0.000000e+00  0.000000e+00\n",
       "1    Pop   IIE  0.167326   67098501.0  0.000000e+00  0.000000e+00\n",
       "3    Pop   ALS  0.124807  291609550.5  0.000000e+00  0.000000e+00\n",
       "0    Pop  Bias  0.105475  341193646.5  0.000000e+00  0.000000e+00\n",
       "7   Bias   UUE  0.065409  103127570.5  0.000000e+00  0.000000e+00\n",
       "6   Bias   IIE  0.061851   59219212.0  0.000000e+00  0.000000e+00\n",
       "20   III  IALS  0.037939  916556715.5  2.626652e-42  5.515969e-41\n",
       "8   Bias   ALS  0.019332  191162112.5  1.350944e-33  2.836981e-32\n",
       "11   IIE   UUE  0.003559  106072790.0  3.784110e-72  7.946630e-71\n",
       "12   IIE   ALS -0.042518   36612230.5  0.000000e+00  0.000000e+00\n",
       "15   UUE   ALS -0.046077   92187285.5  0.000000e+00  0.000000e+00\n",
       "5    Pop  IALS -0.099837  683352574.0  0.000000e+00  0.000000e+00\n",
       "4    Pop   III -0.137776  520122602.5  0.000000e+00  0.000000e+00\n",
       "10  Bias  IALS -0.205312  264661805.0  0.000000e+00  0.000000e+00\n",
       "19   ALS  IALS -0.224644  206154836.0  0.000000e+00  0.000000e+00\n",
       "9   Bias   III -0.243251  240821983.0  0.000000e+00  0.000000e+00\n",
       "18   ALS   III -0.262583  171129102.0  0.000000e+00  0.000000e+00\n",
       "14   IIE  IALS -0.267163   33756363.0  0.000000e+00  0.000000e+00\n",
       "17   UUE  IALS -0.270721   10307060.5  0.000000e+00  0.000000e+00\n",
       "13   IIE   III -0.305101   32266827.0  0.000000e+00  0.000000e+00\n",
       "16   UUE   III -0.308660   18752349.0  0.000000e+00  0.000000e+00"
      ]
     },
     "execution_count": 25,
     "metadata": {},
     "output_type": "execute_result"
    }
   ],
   "source": [
    "am_wilcox('recip_rank').sort_values('diff', ascending=False)"
   ]
  },
  {
   "cell_type": "markdown",
   "id": "79ef07c6",
   "metadata": {
    "papermill": {
     "duration": 0.029673,
     "end_time": "2022-02-17T22:27:26.762300",
     "exception": false,
     "start_time": "2022-02-17T22:27:26.732627",
     "status": "completed"
    },
    "tags": []
   },
   "source": [
    "## Prediction RMSE\n",
    "\n",
    "We will also look at the prediction RMSE."
   ]
  },
  {
   "cell_type": "code",
   "execution_count": 26,
   "id": "1375edd9",
   "metadata": {
    "execution": {
     "iopub.execute_input": "2022-02-17T22:27:26.821867Z",
     "iopub.status.busy": "2022-02-17T22:27:26.821640Z",
     "iopub.status.idle": "2022-02-17T22:30:43.342216Z",
     "shell.execute_reply": "2022-02-17T22:30:43.341422Z"
    },
    "papermill": {
     "duration": 196.551928,
     "end_time": "2022-02-17T22:30:43.344130",
     "exception": false,
     "start_time": "2022-02-17T22:27:26.792202",
     "status": "completed"
    },
    "tags": []
   },
   "outputs": [],
   "source": [
    "user_rmse = preds.groupby(['algorithm', 'user']).apply(lambda df: rmse(df['prediction'], df['rating']))\n",
    "user_rmse = user_rmse.reset_index(name='RMSE')"
   ]
  },
  {
   "cell_type": "code",
   "execution_count": 27,
   "id": "fd3dddfb",
   "metadata": {
    "execution": {
     "iopub.execute_input": "2022-02-17T22:30:43.403591Z",
     "iopub.status.busy": "2022-02-17T22:30:43.403345Z",
     "iopub.status.idle": "2022-02-17T22:30:45.938406Z",
     "shell.execute_reply": "2022-02-17T22:30:45.938042Z"
    },
    "papermill": {
     "duration": 2.565896,
     "end_time": "2022-02-17T22:30:45.939618",
     "exception": false,
     "start_time": "2022-02-17T22:30:43.373722",
     "status": "completed"
    },
    "tags": []
   },
   "outputs": [
    {
     "data": {
      "text/plain": [
       "<seaborn.axisgrid.FacetGrid at 0x7fffccd87070>"
      ]
     },
     "execution_count": 27,
     "metadata": {},
     "output_type": "execute_result"
    },
    {
     "data": {
      "image/png": "[encoded data removed]",
      "text/plain": [
       "<Figure size 360x360 with 1 Axes>"
      ]
     },
     "metadata": {
      "needs_background": "light"
     },
     "output_type": "display_data"
    }
   ],
   "source": [
    "sns.catplot(x='algorithm', y='RMSE', data=user_rmse, kind='bar')"
   ]
  },
  {
   "cell_type": "code",
   "execution_count": null,
   "id": "536d6fc6",
   "metadata": {
    "papermill": {
     "duration": 0.031215,
     "end_time": "2022-02-17T22:30:46.000327",
     "exception": false,
     "start_time": "2022-02-17T22:30:45.969112",
     "status": "completed"
    },
    "tags": []
   },
   "outputs": [],
   "source": []
  }
 ],
 "metadata": {
  "kernelspec": {
   "display_name": "Python 3 (ipykernel)",
   "language": "python",
   "name": "python3"
  },
  "language_info": {
   "codemirror_mode": {
    "name": "ipython",
    "version": 3
   },
   "file_extension": ".py",
   "mimetype": "text/x-python",
   "name": "python",
   "nbconvert_exporter": "python",
   "pygments_lexer": "ipython3",
   "version": "3.9.10"
  },
  "papermill": {
   "default_parameters": {},
   "duration": 313.546121,
   "end_time": "2022-02-17T22:30:46.451751",
   "environment_variables": {},
   "exception": null,
   "input_path": "eval-report.ipynb",
   "output_path": "eval-report.ml10m.ipynb",
   "parameters": {
    "dataset": "ml10m"
   },
   "start_time": "2022-02-17T22:25:32.905630",
   "version": "2.3.4"
  }
 },
 "nbformat": 4,
 "nbformat_minor": 5
}