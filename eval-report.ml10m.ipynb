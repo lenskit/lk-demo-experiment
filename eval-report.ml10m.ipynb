{
 "cells": [
  {
   "cell_type": "markdown",
   "id": "ce485e34",
   "metadata": {
    "papermill": {
     "duration": 0.004895,
     "end_time": "2024-12-08T00:44:51.816723",
     "exception": false,
     "start_time": "2024-12-08T00:44:51.811828",
     "status": "completed"
    },
    "tags": []
   },
   "source": [
    "# Evaluation Analysis for Recommender Output"
   ]
  },
  {
   "cell_type": "markdown",
   "id": "17c9a5e6",
   "metadata": {
    "papermill": {
     "duration": 0.004453,
     "end_time": "2024-12-08T00:44:51.830312",
     "exception": false,
     "start_time": "2024-12-08T00:44:51.825859",
     "status": "completed"
    },
    "tags": []
   },
   "source": [
    "In this section we will analyze and compare the generated recommendations and predictions from a predefined list of algorithms with the goal of assessing the performance of each algorithm with respect to a metric. In other words, we would rank the algorithms for each metric considered with respect to performance."
   ]
  },
  {
   "cell_type": "markdown",
   "id": "f14bb433",
   "metadata": {
    "papermill": {
     "duration": 0.004494,
     "end_time": "2024-12-08T00:44:51.839173",
     "exception": false,
     "start_time": "2024-12-08T00:44:51.834679",
     "status": "completed"
    },
    "tags": []
   },
   "source": [
    "# Setup"
   ]
  },
  {
   "cell_type": "markdown",
   "id": "2b8308de",
   "metadata": {
    "papermill": {
     "duration": 0.004141,
     "end_time": "2024-12-08T00:44:51.847518",
     "exception": false,
     "start_time": "2024-12-08T00:44:51.843377",
     "status": "completed"
    },
    "tags": []
   },
   "source": [
    "Below are the list of packages required to successfully run the analysis. They are divided into partitions to signify their specific task.<br>\n",
    "We need the pathlib package for working with files and folders"
   ]
  },
  {
   "cell_type": "code",
   "execution_count": 1,
   "id": "77d2e6e9",
   "metadata": {
    "execution": {
     "iopub.execute_input": "2024-12-08T00:44:51.857181Z",
     "iopub.status.busy": "2024-12-08T00:44:51.856960Z",
     "iopub.status.idle": "2024-12-08T00:44:51.861809Z",
     "shell.execute_reply": "2024-12-08T00:44:51.861435Z"
    },
    "papermill": {
     "duration": 0.010912,
     "end_time": "2024-12-08T00:44:51.862573",
     "exception": false,
     "start_time": "2024-12-08T00:44:51.851661",
     "status": "completed"
    },
    "tags": []
   },
   "outputs": [],
   "source": [
    "from pathlib import Path"
   ]
  },
  {
   "cell_type": "markdown",
   "id": "8607dbba",
   "metadata": {
    "papermill": {
     "duration": 0.004389,
     "end_time": "2024-12-08T00:44:51.871221",
     "exception": false,
     "start_time": "2024-12-08T00:44:51.866832",
     "status": "completed"
    },
    "tags": []
   },
   "source": [
    "We would use the pandas for analyzing and manipulating our data while seaborn and matplotlib are used for data visualization. statsmodels.graphics.gofplots and scipy.stats.shapiro are used for normality check. Scipy.stats.friedmanchisquare is a non-parametric test used to determine the statistical significance in metric results and the wilcoxon test is used for pairwise comparison of sample data."
   ]
  },
  {
   "cell_type": "code",
   "execution_count": 2,
   "id": "54c9b1a0",
   "metadata": {
    "execution": {
     "iopub.execute_input": "2024-12-08T00:44:51.880772Z",
     "iopub.status.busy": "2024-12-08T00:44:51.880571Z",
     "iopub.status.idle": "2024-12-08T00:44:59.295291Z",
     "shell.execute_reply": "2024-12-08T00:44:59.294745Z"
    },
    "papermill": {
     "duration": 7.420896,
     "end_time": "2024-12-08T00:44:59.296358",
     "exception": false,
     "start_time": "2024-12-08T00:44:51.875462",
     "status": "completed"
    },
    "tags": []
   },
   "outputs": [],
   "source": [
    "import pandas as pd\n",
    "import seaborn as sns\n",
    "import matplotlib.pyplot as plt\n",
    "from statsmodels.graphics.gofplots import qqplot\n",
    "from scipy.stats import shapiro\n",
    "from scipy.stats import friedmanchisquare, wilcoxon\n",
    "from itertools import combinations"
   ]
  },
  {
   "cell_type": "markdown",
   "id": "09d4299f",
   "metadata": {
    "papermill": {
     "duration": 0.004625,
     "end_time": "2024-12-08T00:44:59.306339",
     "exception": false,
     "start_time": "2024-12-08T00:44:59.301714",
     "status": "completed"
    },
    "tags": []
   },
   "source": [
    "Logging to show what's happening in LensKit routines:"
   ]
  },
  {
   "cell_type": "code",
   "execution_count": 3,
   "id": "fd84093f",
   "metadata": {
    "execution": {
     "iopub.execute_input": "2024-12-08T00:44:59.316164Z",
     "iopub.status.busy": "2024-12-08T00:44:59.315835Z",
     "iopub.status.idle": "2024-12-08T00:44:59.335724Z",
     "shell.execute_reply": "2024-12-08T00:44:59.335322Z"
    },
    "papermill": {
     "duration": 0.025512,
     "end_time": "2024-12-08T00:44:59.336404",
     "exception": false,
     "start_time": "2024-12-08T00:44:59.310892",
     "status": "completed"
    },
    "tags": []
   },
   "outputs": [
    {
     "name": "stdout",
     "output_type": "stream",
     "text": [
      "[   INFO] lenskit.util.log notebook logging configured\n"
     ]
    }
   ],
   "source": [
    "from lenskit import util\n",
    "util.log_to_notebook()"
   ]
  },
  {
   "cell_type": "code",
   "execution_count": 4,
   "id": "c7c3c1f0",
   "metadata": {
    "execution": {
     "iopub.execute_input": "2024-12-08T00:44:59.346554Z",
     "iopub.status.busy": "2024-12-08T00:44:59.346331Z",
     "iopub.status.idle": "2024-12-08T00:44:59.348698Z",
     "shell.execute_reply": "2024-12-08T00:44:59.348297Z"
    },
    "papermill": {
     "duration": 0.008243,
     "end_time": "2024-12-08T00:44:59.349345",
     "exception": false,
     "start_time": "2024-12-08T00:44:59.341102",
     "status": "completed"
    },
    "tags": []
   },
   "outputs": [],
   "source": [
    "import logging\n",
    "_log = logging.getLogger('eval-report')"
   ]
  },
  {
   "cell_type": "markdown",
   "id": "af5b4ebc",
   "metadata": {
    "papermill": {
     "duration": 0.004614,
     "end_time": "2024-12-08T00:44:59.358292",
     "exception": false,
     "start_time": "2024-12-08T00:44:59.353678",
     "status": "completed"
    },
    "tags": []
   },
   "source": [
    "We will use lenskit for training, running, and evaluating recommender algorithms"
   ]
  },
  {
   "cell_type": "code",
   "execution_count": 5,
   "id": "803d7eb5",
   "metadata": {
    "execution": {
     "iopub.execute_input": "2024-12-08T00:44:59.368619Z",
     "iopub.status.busy": "2024-12-08T00:44:59.368411Z",
     "iopub.status.idle": "2024-12-08T00:44:59.455174Z",
     "shell.execute_reply": "2024-12-08T00:44:59.454721Z"
    },
    "papermill": {
     "duration": 0.093408,
     "end_time": "2024-12-08T00:44:59.456151",
     "exception": false,
     "start_time": "2024-12-08T00:44:59.362743",
     "status": "completed"
    },
    "tags": []
   },
   "outputs": [],
   "source": [
    "from lenskit import topn\n",
    "from lenskit.metrics.predict import rmse"
   ]
  },
  {
   "cell_type": "markdown",
   "id": "62cde0fa",
   "metadata": {
    "papermill": {
     "duration": 0.004978,
     "end_time": "2024-12-08T00:44:59.466541",
     "exception": false,
     "start_time": "2024-12-08T00:44:59.461563",
     "status": "completed"
    },
    "tags": []
   },
   "source": [
    "# Load Data"
   ]
  },
  {
   "cell_type": "markdown",
   "id": "0b8bdd0f",
   "metadata": {
    "papermill": {
     "duration": 0.004365,
     "end_time": "2024-12-08T00:44:59.475556",
     "exception": false,
     "start_time": "2024-12-08T00:44:59.471191",
     "status": "completed"
    },
    "tags": []
   },
   "source": [
    "We specify the dataset we will use for our analysis and the main directory from where we read the recommendation and prediction files. From the main directory we find all the directories associated with the dataset and then read the recommendation and predictions files from those directories."
   ]
  },
  {
   "cell_type": "code",
   "execution_count": 6,
   "id": "66d37091",
   "metadata": {
    "execution": {
     "iopub.execute_input": "2024-12-08T00:44:59.485185Z",
     "iopub.status.busy": "2024-12-08T00:44:59.484955Z",
     "iopub.status.idle": "2024-12-08T00:44:59.487328Z",
     "shell.execute_reply": "2024-12-08T00:44:59.486928Z"
    },
    "papermill": {
     "duration": 0.007993,
     "end_time": "2024-12-08T00:44:59.487991",
     "exception": false,
     "start_time": "2024-12-08T00:44:59.479998",
     "status": "completed"
    },
    "tags": [
     "parameters"
    ]
   },
   "outputs": [],
   "source": [
    "dataset = \"ml100k\""
   ]
  },
  {
   "cell_type": "code",
   "execution_count": 7,
   "id": "9c987eb1",
   "metadata": {
    "execution": {
     "iopub.execute_input": "2024-12-08T00:44:59.497770Z",
     "iopub.status.busy": "2024-12-08T00:44:59.497421Z",
     "iopub.status.idle": "2024-12-08T00:44:59.499665Z",
     "shell.execute_reply": "2024-12-08T00:44:59.499286Z"
    },
    "papermill": {
     "duration": 0.008098,
     "end_time": "2024-12-08T00:44:59.500395",
     "exception": false,
     "start_time": "2024-12-08T00:44:59.492297",
     "status": "completed"
    },
    "tags": [
     "injected-parameters"
    ]
   },
   "outputs": [],
   "source": [
    "# Parameters\n",
    "dataset = \"ml10m\"\n"
   ]
  },
  {
   "cell_type": "code",
   "execution_count": 8,
   "id": "b7f9f66b",
   "metadata": {
    "execution": {
     "iopub.execute_input": "2024-12-08T00:44:59.510014Z",
     "iopub.status.busy": "2024-12-08T00:44:59.509799Z",
     "iopub.status.idle": "2024-12-08T00:44:59.512042Z",
     "shell.execute_reply": "2024-12-08T00:44:59.511651Z"
    },
    "papermill": {
     "duration": 0.007897,
     "end_time": "2024-12-08T00:44:59.512692",
     "exception": false,
     "start_time": "2024-12-08T00:44:59.504795",
     "status": "completed"
    },
    "tags": []
   },
   "outputs": [],
   "source": [
    "output_root = Path(\"runs\")"
   ]
  },
  {
   "cell_type": "code",
   "execution_count": 9,
   "id": "8688a4d0",
   "metadata": {
    "execution": {
     "iopub.execute_input": "2024-12-08T00:44:59.524289Z",
     "iopub.status.busy": "2024-12-08T00:44:59.524013Z",
     "iopub.status.idle": "2024-12-08T00:44:59.526895Z",
     "shell.execute_reply": "2024-12-08T00:44:59.526505Z"
    },
    "papermill": {
     "duration": 0.008916,
     "end_time": "2024-12-08T00:44:59.527665",
     "exception": false,
     "start_time": "2024-12-08T00:44:59.518749",
     "status": "completed"
    },
    "tags": []
   },
   "outputs": [],
   "source": [
    "dirs = [fld for fld in output_root.glob(f'{dataset}-*')]"
   ]
  },
  {
   "cell_type": "code",
   "execution_count": 10,
   "id": "56d609aa",
   "metadata": {
    "execution": {
     "iopub.execute_input": "2024-12-08T00:44:59.537648Z",
     "iopub.status.busy": "2024-12-08T00:44:59.537443Z",
     "iopub.status.idle": "2024-12-08T00:45:14.100655Z",
     "shell.execute_reply": "2024-12-08T00:45:14.100097Z"
    },
    "papermill": {
     "duration": 14.569375,
     "end_time": "2024-12-08T00:45:14.101517",
     "exception": false,
     "start_time": "2024-12-08T00:44:59.532142",
     "status": "completed"
    },
    "tags": []
   },
   "outputs": [
    {
     "name": "stdout",
     "output_type": "stream",
     "text": [
      "<class 'pandas.core.frame.DataFrame'>\n",
      "RangeIndex: 48910800 entries, 0 to 48910799\n",
      "Data columns (total 5 columns):\n",
      " #   Column     Dtype   \n",
      "---  ------     -----   \n",
      " 0   item       int64   \n",
      " 1   score      float64 \n",
      " 2   user       int64   \n",
      " 3   rank       int64   \n",
      " 4   algorithm  category\n",
      "dtypes: category(1), float64(1), int64(3)\n",
      "memory usage: 1.5 GB\n"
     ]
    }
   ],
   "source": [
    "recs = []\n",
    "for fld in dirs:\n",
    "    for file in fld.glob(\"recs-*\"):\n",
    "        rec = pd.read_csv(file)\n",
    "        rec[\"algorithm\"] = fld.name.split(\"-\")[1]\n",
    "        recs.append(rec)\n",
    "\n",
    "recs = pd.concat(recs, ignore_index=True)\n",
    "recs = recs.astype({'algorithm': 'category'})\n",
    "recs.info()"
   ]
  },
  {
   "cell_type": "code",
   "execution_count": 11,
   "id": "feaa4493",
   "metadata": {
    "execution": {
     "iopub.execute_input": "2024-12-08T00:45:14.113722Z",
     "iopub.status.busy": "2024-12-08T00:45:14.113474Z",
     "iopub.status.idle": "2024-12-08T00:45:14.272453Z",
     "shell.execute_reply": "2024-12-08T00:45:14.272082Z"
    },
    "papermill": {
     "duration": 0.165396,
     "end_time": "2024-12-08T00:45:14.273134",
     "exception": false,
     "start_time": "2024-12-08T00:45:14.107738",
     "status": "completed"
    },
    "tags": []
   },
   "outputs": [
    {
     "data": {
      "text/plain": [
       "['UUE', 'IALS', 'Pop', 'III', 'ALS', 'Bias', 'IIE']\n",
       "Categories (7, object): ['ALS', 'Bias', 'IALS', 'IIE', 'III', 'Pop', 'UUE']"
      ]
     },
     "execution_count": 11,
     "metadata": {},
     "output_type": "execute_result"
    }
   ],
   "source": [
    "rec_algos = recs['algorithm'].unique()\n",
    "rec_algos"
   ]
  },
  {
   "cell_type": "code",
   "execution_count": 12,
   "id": "b378a77c",
   "metadata": {
    "execution": {
     "iopub.execute_input": "2024-12-08T00:45:14.284056Z",
     "iopub.status.busy": "2024-12-08T00:45:14.283819Z",
     "iopub.status.idle": "2024-12-08T00:45:15.256895Z",
     "shell.execute_reply": "2024-12-08T00:45:15.256442Z"
    },
    "papermill": {
     "duration": 0.979146,
     "end_time": "2024-12-08T00:45:15.257687",
     "exception": false,
     "start_time": "2024-12-08T00:45:14.278541",
     "status": "completed"
    },
    "tags": []
   },
   "outputs": [
    {
     "name": "stdout",
     "output_type": "stream",
     "text": [
      "<class 'pandas.core.frame.DataFrame'>\n",
      "RangeIndex: 2096340 entries, 0 to 2096339\n",
      "Data columns (total 6 columns):\n",
      " #   Column      Dtype   \n",
      "---  ------      -----   \n",
      " 0   user        int64   \n",
      " 1   item        int64   \n",
      " 2   rating      float64 \n",
      " 3   timestamp   int64   \n",
      " 4   prediction  float64 \n",
      " 5   algorithm   category\n",
      "dtypes: category(1), float64(2), int64(3)\n",
      "memory usage: 82.0 MB\n"
     ]
    }
   ],
   "source": [
    "preds = []\n",
    "for fld in dirs:\n",
    "    for file in fld.glob(\"pred-*\"):\n",
    "        pred = pd.read_csv(file)\n",
    "        pred[\"algorithm\"] = fld.name.split(\"-\")[1]\n",
    "        preds.append(pred)\n",
    "\n",
    "preds = pd.concat(preds, ignore_index=True)\n",
    "preds = preds.astype({'algorithm': 'category'})\n",
    "preds.info()"
   ]
  },
  {
   "cell_type": "markdown",
   "id": "ca476ae1",
   "metadata": {
    "papermill": {
     "duration": 0.004902,
     "end_time": "2024-12-08T00:45:15.268393",
     "exception": false,
     "start_time": "2024-12-08T00:45:15.263491",
     "status": "completed"
    },
    "tags": []
   },
   "source": [
    "We need to load the test data so that we have the ground truths for computing accuracy"
   ]
  },
  {
   "cell_type": "code",
   "execution_count": 13,
   "id": "25294727",
   "metadata": {
    "execution": {
     "iopub.execute_input": "2024-12-08T00:45:15.279815Z",
     "iopub.status.busy": "2024-12-08T00:45:15.279582Z",
     "iopub.status.idle": "2024-12-08T00:45:15.282164Z",
     "shell.execute_reply": "2024-12-08T00:45:15.281760Z"
    },
    "papermill": {
     "duration": 0.009144,
     "end_time": "2024-12-08T00:45:15.282823",
     "exception": false,
     "start_time": "2024-12-08T00:45:15.273679",
     "status": "completed"
    },
    "tags": []
   },
   "outputs": [],
   "source": [
    "split_root = Path(\"data-split\")\n",
    "split_dir = split_root / dataset"
   ]
  },
  {
   "cell_type": "code",
   "execution_count": 14,
   "id": "88fc0d4e",
   "metadata": {
    "execution": {
     "iopub.execute_input": "2024-12-08T00:45:15.294378Z",
     "iopub.status.busy": "2024-12-08T00:45:15.294163Z",
     "iopub.status.idle": "2024-12-08T00:45:15.474573Z",
     "shell.execute_reply": "2024-12-08T00:45:15.474147Z"
    },
    "papermill": {
     "duration": 0.187415,
     "end_time": "2024-12-08T00:45:15.475431",
     "exception": false,
     "start_time": "2024-12-08T00:45:15.288016",
     "status": "completed"
    },
    "tags": []
   },
   "outputs": [
    {
     "data": {
      "text/html": [
       "<div>\n",
       "<style scoped>\n",
       "    .dataframe tbody tr th:only-of-type {\n",
       "        vertical-align: middle;\n",
       "    }\n",
       "\n",
       "    .dataframe tbody tr th {\n",
       "        vertical-align: top;\n",
       "    }\n",
       "\n",
       "    .dataframe thead th {\n",
       "        text-align: right;\n",
       "    }\n",
       "</style>\n",
       "<table border=\"1\" class=\"dataframe\">\n",
       "  <thead>\n",
       "    <tr style=\"text-align: right;\">\n",
       "      <th></th>\n",
       "      <th>user</th>\n",
       "      <th>item</th>\n",
       "      <th>rating</th>\n",
       "      <th>timestamp</th>\n",
       "      <th>part</th>\n",
       "    </tr>\n",
       "    <tr>\n",
       "      <th>index</th>\n",
       "      <th></th>\n",
       "      <th></th>\n",
       "      <th></th>\n",
       "      <th></th>\n",
       "      <th></th>\n",
       "    </tr>\n",
       "  </thead>\n",
       "  <tbody>\n",
       "    <tr>\n",
       "      <th>62</th>\n",
       "      <td>3</td>\n",
       "      <td>5505</td>\n",
       "      <td>2.0</td>\n",
       "      <td>1136075848</td>\n",
       "      <td>test-3</td>\n",
       "    </tr>\n",
       "    <tr>\n",
       "      <th>54</th>\n",
       "      <td>3</td>\n",
       "      <td>1597</td>\n",
       "      <td>4.5</td>\n",
       "      <td>1133571226</td>\n",
       "      <td>test-3</td>\n",
       "    </tr>\n",
       "    <tr>\n",
       "      <th>64</th>\n",
       "      <td>3</td>\n",
       "      <td>5952</td>\n",
       "      <td>3.5</td>\n",
       "      <td>1133570984</td>\n",
       "      <td>test-3</td>\n",
       "    </tr>\n",
       "    <tr>\n",
       "      <th>43</th>\n",
       "      <td>3</td>\n",
       "      <td>151</td>\n",
       "      <td>4.5</td>\n",
       "      <td>1133571026</td>\n",
       "      <td>test-3</td>\n",
       "    </tr>\n",
       "    <tr>\n",
       "      <th>68</th>\n",
       "      <td>3</td>\n",
       "      <td>7153</td>\n",
       "      <td>4.0</td>\n",
       "      <td>1133571171</td>\n",
       "      <td>test-3</td>\n",
       "    </tr>\n",
       "  </tbody>\n",
       "</table>\n",
       "</div>"
      ],
      "text/plain": [
       "       user  item  rating   timestamp    part\n",
       "index                                        \n",
       "62        3  5505     2.0  1136075848  test-3\n",
       "54        3  1597     4.5  1133571226  test-3\n",
       "64        3  5952     3.5  1133570984  test-3\n",
       "43        3   151     4.5  1133571026  test-3\n",
       "68        3  7153     4.0  1133571171  test-3"
      ]
     },
     "execution_count": 14,
     "metadata": {},
     "output_type": "execute_result"
    }
   ],
   "source": [
    "test = []\n",
    "for file in split_dir.glob(\"test-*.parquet\"):\n",
    "    test.append(pd.read_parquet(file,).assign(part=file.stem.replace('.parquet', '')))\n",
    "\n",
    "test = pd.concat(test).rename(columns={\n",
    "    'user_id': 'user',\n",
    "    'item_id': 'item',\n",
    "})\n",
    "test.head()"
   ]
  },
  {
   "cell_type": "markdown",
   "id": "5770c372",
   "metadata": {
    "papermill": {
     "duration": 0.00493,
     "end_time": "2024-12-08T00:45:15.486393",
     "exception": false,
     "start_time": "2024-12-08T00:45:15.481463",
     "status": "completed"
    },
    "tags": []
   },
   "source": [
    "# Top-N Metrics"
   ]
  },
  {
   "cell_type": "markdown",
   "id": "8e347325",
   "metadata": {
    "papermill": {
     "duration": 0.005385,
     "end_time": "2024-12-08T00:45:15.496948",
     "exception": false,
     "start_time": "2024-12-08T00:45:15.491563",
     "status": "completed"
    },
    "tags": []
   },
   "source": [
    "The topn.RecListAnalysis class computes top-N metrics for recommendation list and takes care of making sure that the recommendations and ground truths are properly matched. Refer to the documentation for detailed explanation of the purpose for the RecListAnalysis class and how the analysis is done - https://lkpy.lenskit.org/en/stable/evaluation/topn-metrics.html"
   ]
  },
  {
   "cell_type": "code",
   "execution_count": 15,
   "id": "198eda4d",
   "metadata": {
    "execution": {
     "iopub.execute_input": "2024-12-08T00:45:15.507930Z",
     "iopub.status.busy": "2024-12-08T00:45:15.507701Z",
     "iopub.status.idle": "2024-12-08T00:45:53.738955Z",
     "shell.execute_reply": "2024-12-08T00:45:53.738436Z"
    },
    "papermill": {
     "duration": 38.237817,
     "end_time": "2024-12-08T00:45:53.739805",
     "exception": false,
     "start_time": "2024-12-08T00:45:15.501988",
     "status": "completed"
    },
    "tags": []
   },
   "outputs": [
    {
     "name": "stdout",
     "output_type": "stream",
     "text": [
      "[   INFO] lenskit.topn analyzing 48910800 recommendations (349390 truth rows)\n"
     ]
    },
    {
     "name": "stdout",
     "output_type": "stream",
     "text": [
      "[   INFO] lenskit.topn using rec key columns ['algorithm', 'user']\n"
     ]
    },
    {
     "name": "stdout",
     "output_type": "stream",
     "text": [
      "[   INFO] lenskit.topn using truth key columns ['user']\n"
     ]
    },
    {
     "name": "stdout",
     "output_type": "stream",
     "text": [
      "[   INFO] lenskit.topn numbering truth lists\n"
     ]
    },
    {
     "name": "stdout",
     "output_type": "stream",
     "text": [
      "[   INFO] lenskit.topn numbering rec lists\n"
     ]
    },
    {
     "name": "stdout",
     "output_type": "stream",
     "text": [
      "[   INFO] lenskit.topn collecting metric results\n"
     ]
    },
    {
     "name": "stdout",
     "output_type": "stream",
     "text": [
      "[   INFO] lenskit.topn measured 489108 lists in 30.23s\n"
     ]
    },
    {
     "name": "stdout",
     "output_type": "stream",
     "text": [
      "[   INFO] lenskit.topn filling in missing user info (489108 initial rows)\n"
     ]
    },
    {
     "name": "stderr",
     "output_type": "stream",
     "text": [
      "/home/mde48/micromamba/envs/lkdemo/lib/python3.10/site-packages/lenskit/topn.py:152: FutureWarning: In a future version of pandas, a length 1 tuple will be returned when iterating over a groupby with a grouper equal to a list of length 1. Don't supply a list with a single grouper to avoid this warning.\n",
      "  for key, df in res.groupby(ug_cols):\n"
     ]
    },
    {
     "data": {
      "text/html": [
       "<div>\n",
       "<style scoped>\n",
       "    .dataframe tbody tr th:only-of-type {\n",
       "        vertical-align: middle;\n",
       "    }\n",
       "\n",
       "    .dataframe tbody tr th {\n",
       "        vertical-align: top;\n",
       "    }\n",
       "\n",
       "    .dataframe thead th {\n",
       "        text-align: right;\n",
       "    }\n",
       "</style>\n",
       "<table border=\"1\" class=\"dataframe\">\n",
       "  <thead>\n",
       "    <tr style=\"text-align: right;\">\n",
       "      <th></th>\n",
       "      <th></th>\n",
       "      <th>nrecs</th>\n",
       "      <th>precision</th>\n",
       "      <th>recip_rank</th>\n",
       "      <th>ndcg</th>\n",
       "      <th>ntruth</th>\n",
       "    </tr>\n",
       "    <tr>\n",
       "      <th>algorithm</th>\n",
       "      <th>user</th>\n",
       "      <th></th>\n",
       "      <th></th>\n",
       "      <th></th>\n",
       "      <th></th>\n",
       "      <th></th>\n",
       "    </tr>\n",
       "  </thead>\n",
       "  <tbody>\n",
       "    <tr>\n",
       "      <th rowspan=\"5\" valign=\"top\">ALS</th>\n",
       "      <th>6</th>\n",
       "      <td>100.0</td>\n",
       "      <td>0.01</td>\n",
       "      <td>0.010309</td>\n",
       "      <td>0.042542</td>\n",
       "      <td>5</td>\n",
       "    </tr>\n",
       "    <tr>\n",
       "      <th>8</th>\n",
       "      <td>100.0</td>\n",
       "      <td>0.00</td>\n",
       "      <td>0.000000</td>\n",
       "      <td>0.000000</td>\n",
       "      <td>5</td>\n",
       "    </tr>\n",
       "    <tr>\n",
       "      <th>12</th>\n",
       "      <td>100.0</td>\n",
       "      <td>0.00</td>\n",
       "      <td>0.000000</td>\n",
       "      <td>0.000000</td>\n",
       "      <td>5</td>\n",
       "    </tr>\n",
       "    <tr>\n",
       "      <th>16</th>\n",
       "      <td>100.0</td>\n",
       "      <td>0.01</td>\n",
       "      <td>0.025641</td>\n",
       "      <td>0.053122</td>\n",
       "      <td>5</td>\n",
       "    </tr>\n",
       "    <tr>\n",
       "      <th>22</th>\n",
       "      <td>100.0</td>\n",
       "      <td>0.00</td>\n",
       "      <td>0.000000</td>\n",
       "      <td>0.000000</td>\n",
       "      <td>5</td>\n",
       "    </tr>\n",
       "  </tbody>\n",
       "</table>\n",
       "</div>"
      ],
      "text/plain": [
       "                nrecs  precision  recip_rank      ndcg  ntruth\n",
       "algorithm user                                                \n",
       "ALS       6     100.0       0.01    0.010309  0.042542       5\n",
       "          8     100.0       0.00    0.000000  0.000000       5\n",
       "          12    100.0       0.00    0.000000  0.000000       5\n",
       "          16    100.0       0.01    0.025641  0.053122       5\n",
       "          22    100.0       0.00    0.000000  0.000000       5"
      ]
     },
     "execution_count": 15,
     "metadata": {},
     "output_type": "execute_result"
    }
   ],
   "source": [
    "rla = topn.RecListAnalysis()\n",
    "\n",
    "rla.add_metric(topn.precision)\n",
    "rla.add_metric(topn.recip_rank)\n",
    "rla.add_metric(topn.ndcg)\n",
    "results = rla.compute(recs, test.drop(columns=['rating']), include_missing=True)\n",
    "results = results.fillna(0)\n",
    "results.head()"
   ]
  },
  {
   "cell_type": "markdown",
   "id": "75dbe033",
   "metadata": {
    "papermill": {
     "duration": 0.005579,
     "end_time": "2024-12-08T00:45:53.751822",
     "exception": false,
     "start_time": "2024-12-08T00:45:53.746243",
     "status": "completed"
    },
    "tags": []
   },
   "source": [
    "We will reshape the 'results' dataframe by stacking the columns to index and then use the bar chart to visualize the performance of our algorithms with respect to the precision, reciprocal rank and ndcg metrics"
   ]
  },
  {
   "cell_type": "code",
   "execution_count": 16,
   "id": "4c7ffaf7",
   "metadata": {
    "execution": {
     "iopub.execute_input": "2024-12-08T00:45:53.764521Z",
     "iopub.status.busy": "2024-12-08T00:45:53.764270Z",
     "iopub.status.idle": "2024-12-08T00:45:53.841652Z",
     "shell.execute_reply": "2024-12-08T00:45:53.841187Z"
    },
    "papermill": {
     "duration": 0.08474,
     "end_time": "2024-12-08T00:45:53.842389",
     "exception": false,
     "start_time": "2024-12-08T00:45:53.757649",
     "status": "completed"
    },
    "tags": []
   },
   "outputs": [
    {
     "data": {
      "text/html": [
       "<div>\n",
       "<style scoped>\n",
       "    .dataframe tbody tr th:only-of-type {\n",
       "        vertical-align: middle;\n",
       "    }\n",
       "\n",
       "    .dataframe tbody tr th {\n",
       "        vertical-align: top;\n",
       "    }\n",
       "\n",
       "    .dataframe thead th {\n",
       "        text-align: right;\n",
       "    }\n",
       "</style>\n",
       "<table border=\"1\" class=\"dataframe\">\n",
       "  <thead>\n",
       "    <tr style=\"text-align: right;\">\n",
       "      <th></th>\n",
       "      <th>algorithm</th>\n",
       "      <th>user</th>\n",
       "      <th>metric</th>\n",
       "      <th>val</th>\n",
       "    </tr>\n",
       "  </thead>\n",
       "  <tbody>\n",
       "    <tr>\n",
       "      <th>0</th>\n",
       "      <td>ALS</td>\n",
       "      <td>6</td>\n",
       "      <td>precision</td>\n",
       "      <td>0.010000</td>\n",
       "    </tr>\n",
       "    <tr>\n",
       "      <th>1</th>\n",
       "      <td>ALS</td>\n",
       "      <td>6</td>\n",
       "      <td>recip_rank</td>\n",
       "      <td>0.010309</td>\n",
       "    </tr>\n",
       "    <tr>\n",
       "      <th>2</th>\n",
       "      <td>ALS</td>\n",
       "      <td>6</td>\n",
       "      <td>ndcg</td>\n",
       "      <td>0.042542</td>\n",
       "    </tr>\n",
       "    <tr>\n",
       "      <th>3</th>\n",
       "      <td>ALS</td>\n",
       "      <td>8</td>\n",
       "      <td>precision</td>\n",
       "      <td>0.000000</td>\n",
       "    </tr>\n",
       "    <tr>\n",
       "      <th>4</th>\n",
       "      <td>ALS</td>\n",
       "      <td>8</td>\n",
       "      <td>recip_rank</td>\n",
       "      <td>0.000000</td>\n",
       "    </tr>\n",
       "  </tbody>\n",
       "</table>\n",
       "</div>"
      ],
      "text/plain": [
       "  algorithm  user      metric       val\n",
       "0       ALS     6   precision  0.010000\n",
       "1       ALS     6  recip_rank  0.010309\n",
       "2       ALS     6        ndcg  0.042542\n",
       "3       ALS     8   precision  0.000000\n",
       "4       ALS     8  recip_rank  0.000000"
      ]
     },
     "execution_count": 16,
     "metadata": {},
     "output_type": "execute_result"
    }
   ],
   "source": [
    "pltData = (results.drop(columns=['nrecs', 'ntruth']).stack()).reset_index()\n",
    "pltData.columns = ['algorithm', 'user', 'metric', 'val']\n",
    "pltData.head()"
   ]
  },
  {
   "cell_type": "markdown",
   "id": "66c6e8ba",
   "metadata": {
    "papermill": {
     "duration": 0.005499,
     "end_time": "2024-12-08T00:45:53.854340",
     "exception": false,
     "start_time": "2024-12-08T00:45:53.848841",
     "status": "completed"
    },
    "tags": []
   },
   "source": [
    "We need to determine if the differences we observe in the performances of the algorithms for the various metrics are statistically significant. To achieve this, we will need to use either a parametric or non-parametric statistical test for comparing the differences. We will consider a parametric test - repeated ANOVA measure cause our sample groups are correlated."
   ]
  },
  {
   "cell_type": "code",
   "execution_count": 17,
   "id": "bd651349",
   "metadata": {
    "execution": {
     "iopub.execute_input": "2024-12-08T00:45:53.867047Z",
     "iopub.status.busy": "2024-12-08T00:45:53.866798Z",
     "iopub.status.idle": "2024-12-08T00:46:06.660715Z",
     "shell.execute_reply": "2024-12-08T00:46:06.660194Z"
    },
    "papermill": {
     "duration": 12.801524,
     "end_time": "2024-12-08T00:46:06.661556",
     "exception": false,
     "start_time": "2024-12-08T00:45:53.860032",
     "status": "completed"
    },
    "tags": []
   },
   "outputs": [
    {
     "data": {
      "image/png": "[encoded data removed]",
      "text/plain": [
       "<Figure size 1091.11x300 with 3 Axes>"
      ]
     },
     "metadata": {},
     "output_type": "display_data"
    }
   ],
   "source": [
    "g = sns.catplot(x = \"algorithm\", y = \"val\", data = pltData, kind=\"bar\", col = \"metric\", aspect=1.2, height=3, sharey=False)"
   ]
  },
  {
   "cell_type": "markdown",
   "id": "9e32b381",
   "metadata": {
    "papermill": {
     "duration": 0.006186,
     "end_time": "2024-12-08T00:46:06.675326",
     "exception": false,
     "start_time": "2024-12-08T00:46:06.669140",
     "status": "completed"
    },
    "tags": []
   },
   "source": [
    "## Prediction RMSE\n",
    "\n",
    "We will also look at the prediction RMSE."
   ]
  },
  {
   "cell_type": "code",
   "execution_count": 18,
   "id": "fb282b1c",
   "metadata": {
    "execution": {
     "iopub.execute_input": "2024-12-08T00:46:06.688517Z",
     "iopub.status.busy": "2024-12-08T00:46:06.688244Z",
     "iopub.status.idle": "2024-12-08T00:48:49.996229Z",
     "shell.execute_reply": "2024-12-08T00:48:49.995575Z"
    },
    "papermill": {
     "duration": 163.316001,
     "end_time": "2024-12-08T00:48:49.997338",
     "exception": false,
     "start_time": "2024-12-08T00:46:06.681337",
     "status": "completed"
    },
    "tags": []
   },
   "outputs": [],
   "source": [
    "preds = preds.rename(columns={'score': 'prediction'})\n",
    "user_rmse = preds.groupby(['algorithm', 'user']).apply(lambda df: rmse(df['prediction'], df['rating']))\n",
    "user_rmse = user_rmse.reset_index(name='RMSE')"
   ]
  },
  {
   "cell_type": "code",
   "execution_count": 19,
   "id": "73116a6d",
   "metadata": {
    "execution": {
     "iopub.execute_input": "2024-12-08T00:48:50.012507Z",
     "iopub.status.busy": "2024-12-08T00:48:50.012240Z",
     "iopub.status.idle": "2024-12-08T00:48:53.106904Z",
     "shell.execute_reply": "2024-12-08T00:48:53.106484Z"
    },
    "papermill": {
     "duration": 3.102275,
     "end_time": "2024-12-08T00:48:53.107590",
     "exception": false,
     "start_time": "2024-12-08T00:48:50.005315",
     "status": "completed"
    },
    "tags": []
   },
   "outputs": [
    {
     "data": {
      "text/plain": [
       "<seaborn.axisgrid.FacetGrid at 0x1555302d3fd0>"
      ]
     },
     "execution_count": 19,
     "metadata": {},
     "output_type": "execute_result"
    },
    {
     "data": {
      "image/png": "[encoded data removed]",
      "text/plain": [
       "<Figure size 511.111x500 with 1 Axes>"
      ]
     },
     "metadata": {},
     "output_type": "display_data"
    }
   ],
   "source": [
    "sns.catplot(x='algorithm', y='RMSE', data=user_rmse, kind='bar')"
   ]
  },
  {
   "cell_type": "markdown",
   "id": "ffbd7ba0",
   "metadata": {
    "papermill": {
     "duration": 0.006749,
     "end_time": "2024-12-08T00:48:53.122048",
     "exception": false,
     "start_time": "2024-12-08T00:48:53.115299",
     "status": "completed"
    },
    "tags": []
   },
   "source": [
    "## Save Metrics\n",
    "\n",
    "We'll now save the top-N recommendation metrics."
   ]
  },
  {
   "cell_type": "code",
   "execution_count": 20,
   "id": "1b776675",
   "metadata": {
    "execution": {
     "iopub.execute_input": "2024-12-08T00:48:53.135340Z",
     "iopub.status.busy": "2024-12-08T00:48:53.135100Z",
     "iopub.status.idle": "2024-12-08T00:48:53.170762Z",
     "shell.execute_reply": "2024-12-08T00:48:53.170329Z"
    },
    "papermill": {
     "duration": 0.043267,
     "end_time": "2024-12-08T00:48:53.171570",
     "exception": false,
     "start_time": "2024-12-08T00:48:53.128303",
     "status": "completed"
    },
    "tags": []
   },
   "outputs": [
    {
     "data": {
      "text/html": [
       "<div>\n",
       "<style scoped>\n",
       "    .dataframe tbody tr th:only-of-type {\n",
       "        vertical-align: middle;\n",
       "    }\n",
       "\n",
       "    .dataframe tbody tr th {\n",
       "        vertical-align: top;\n",
       "    }\n",
       "\n",
       "    .dataframe thead th {\n",
       "        text-align: right;\n",
       "    }\n",
       "</style>\n",
       "<table border=\"1\" class=\"dataframe\">\n",
       "  <thead>\n",
       "    <tr style=\"text-align: right;\">\n",
       "      <th></th>\n",
       "      <th>RecipRank</th>\n",
       "      <th>NDCG</th>\n",
       "    </tr>\n",
       "    <tr>\n",
       "      <th>algorithm</th>\n",
       "      <th></th>\n",
       "      <th></th>\n",
       "    </tr>\n",
       "  </thead>\n",
       "  <tbody>\n",
       "    <tr>\n",
       "      <th>ALS</th>\n",
       "      <td>0.050287</td>\n",
       "      <td>0.038741</td>\n",
       "    </tr>\n",
       "    <tr>\n",
       "      <th>Bias</th>\n",
       "      <td>0.069619</td>\n",
       "      <td>0.043852</td>\n",
       "    </tr>\n",
       "    <tr>\n",
       "      <th>IALS</th>\n",
       "      <td>0.275229</td>\n",
       "      <td>0.285604</td>\n",
       "    </tr>\n",
       "    <tr>\n",
       "      <th>IIE</th>\n",
       "      <td>0.007768</td>\n",
       "      <td>0.012593</td>\n",
       "    </tr>\n",
       "    <tr>\n",
       "      <th>III</th>\n",
       "      <td>0.312870</td>\n",
       "      <td>0.249497</td>\n",
       "    </tr>\n",
       "    <tr>\n",
       "      <th>Pop</th>\n",
       "      <td>0.175094</td>\n",
       "      <td>0.153006</td>\n",
       "    </tr>\n",
       "    <tr>\n",
       "      <th>UUE</th>\n",
       "      <td>0.004210</td>\n",
       "      <td>0.009815</td>\n",
       "    </tr>\n",
       "  </tbody>\n",
       "</table>\n",
       "</div>"
      ],
      "text/plain": [
       "           RecipRank      NDCG\n",
       "algorithm                     \n",
       "ALS         0.050287  0.038741\n",
       "Bias        0.069619  0.043852\n",
       "IALS        0.275229  0.285604\n",
       "IIE         0.007768  0.012593\n",
       "III         0.312870  0.249497\n",
       "Pop         0.175094  0.153006\n",
       "UUE         0.004210  0.009815"
      ]
     },
     "execution_count": 20,
     "metadata": {},
     "output_type": "execute_result"
    }
   ],
   "source": [
    "saved = results[['recip_rank', 'ndcg']].rename(columns={'ndcg': 'NDCG', 'recip_rank': 'RecipRank'})\n",
    "saved = saved.groupby('algorithm').agg('mean')\n",
    "saved"
   ]
  },
  {
   "cell_type": "code",
   "execution_count": 21,
   "id": "c4083a95",
   "metadata": {
    "execution": {
     "iopub.execute_input": "2024-12-08T00:48:53.185410Z",
     "iopub.status.busy": "2024-12-08T00:48:53.185175Z",
     "iopub.status.idle": "2024-12-08T00:48:53.189686Z",
     "shell.execute_reply": "2024-12-08T00:48:53.189297Z"
    },
    "papermill": {
     "duration": 0.012224,
     "end_time": "2024-12-08T00:48:53.190478",
     "exception": false,
     "start_time": "2024-12-08T00:48:53.178254",
     "status": "completed"
    },
    "tags": []
   },
   "outputs": [],
   "source": [
    "saved.to_json(f'eval-metrics.{dataset}.json', orient='index')"
   ]
  }
 ],
 "metadata": {
  "jupytext": {
   "formats": "ipynb,md",
   "notebook_metadata_filter": "split_at_heading"
  },
  "kernelspec": {
   "display_name": "Python 3 (ipykernel)",
   "language": "python",
   "name": "python3"
  },
  "language_info": {
   "codemirror_mode": {
    "name": "ipython",
    "version": 3
   },
   "file_extension": ".py",
   "mimetype": "text/x-python",
   "name": "python",
   "nbconvert_exporter": "python",
   "pygments_lexer": "ipython3",
   "version": "3.10.16"
  },
  "papermill": {
   "default_parameters": {},
   "duration": 246.682476,
   "end_time": "2024-12-08T00:48:53.613512",
   "environment_variables": {},
   "exception": null,
   "input_path": "eval-report.ipynb",
   "output_path": "eval-report.ml10m.ipynb",
   "parameters": {
    "dataset": "ml10m"
   },
   "start_time": "2024-12-08T00:44:46.931036",
   "version": "2.6.0"
  },
  "split_at_heading": true
 },
 "nbformat": 4,
 "nbformat_minor": 5
}