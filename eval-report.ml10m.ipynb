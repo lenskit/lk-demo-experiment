{
 "cells": [
  {
   "cell_type": "markdown",
   "id": "7291eba0",
   "metadata": {
    "papermill": {
     "duration": 0.010453,
     "end_time": "2024-12-17T17:33:06.355847",
     "exception": false,
     "start_time": "2024-12-17T17:33:06.345394",
     "status": "completed"
    },
    "tags": []
   },
   "source": [
    "# Evaluation Analysis for Recommender Output"
   ]
  },
  {
   "cell_type": "markdown",
   "id": "872010be",
   "metadata": {
    "papermill": {
     "duration": 0.001093,
     "end_time": "2024-12-17T17:33:06.358224",
     "exception": false,
     "start_time": "2024-12-17T17:33:06.357131",
     "status": "completed"
    },
    "tags": []
   },
   "source": [
    "In this section we will analyze and compare the generated recommendations and predictions from a predefined list of algorithms with the goal of assessing the performance of each algorithm with respect to a metric. In other words, we would rank the algorithms for each metric considered with respect to performance."
   ]
  },
  {
   "cell_type": "markdown",
   "id": "aaaf15df",
   "metadata": {
    "papermill": {
     "duration": 0.001092,
     "end_time": "2024-12-17T17:33:06.360428",
     "exception": false,
     "start_time": "2024-12-17T17:33:06.359336",
     "status": "completed"
    },
    "tags": []
   },
   "source": [
    "## Setup"
   ]
  },
  {
   "cell_type": "markdown",
   "id": "8684b9cf",
   "metadata": {
    "papermill": {
     "duration": 0.001056,
     "end_time": "2024-12-17T17:33:06.362523",
     "exception": false,
     "start_time": "2024-12-17T17:33:06.361467",
     "status": "completed"
    },
    "tags": []
   },
   "source": [
    "Below are the list of packages required to successfully run the analysis. They are divided into partitions to signify their specific task.<br>\n",
    "We need the pathlib package for working with files and folders"
   ]
  },
  {
   "cell_type": "code",
   "execution_count": 1,
   "id": "ee069941",
   "metadata": {
    "execution": {
     "iopub.execute_input": "2024-12-17T17:33:06.365280Z",
     "iopub.status.busy": "2024-12-17T17:33:06.365148Z",
     "iopub.status.idle": "2024-12-17T17:33:06.367196Z",
     "shell.execute_reply": "2024-12-17T17:33:06.366912Z"
    },
    "papermill": {
     "duration": 0.004179,
     "end_time": "2024-12-17T17:33:06.367749",
     "exception": false,
     "start_time": "2024-12-17T17:33:06.363570",
     "status": "completed"
    },
    "tags": []
   },
   "outputs": [],
   "source": [
    "from pathlib import Path\n",
    "import json"
   ]
  },
  {
   "cell_type": "markdown",
   "id": "50590acc",
   "metadata": {
    "papermill": {
     "duration": 0.001134,
     "end_time": "2024-12-17T17:33:06.370393",
     "exception": false,
     "start_time": "2024-12-17T17:33:06.369259",
     "status": "completed"
    },
    "tags": []
   },
   "source": [
    "We would use the pandas for analyzing and manipulating our data while seaborn and matplotlib are used for data visualization. statsmodels.graphics.gofplots and scipy.stats.shapiro are used for normality check. Scipy.stats.friedmanchisquare is a non-parametric test used to determine the statistical significance in metric results and the wilcoxon test is used for pairwise comparison of sample data."
   ]
  },
  {
   "cell_type": "code",
   "execution_count": 2,
   "id": "d40cc792",
   "metadata": {
    "execution": {
     "iopub.execute_input": "2024-12-17T17:33:06.373391Z",
     "iopub.status.busy": "2024-12-17T17:33:06.373309Z",
     "iopub.status.idle": "2024-12-17T17:33:06.807261Z",
     "shell.execute_reply": "2024-12-17T17:33:06.806879Z"
    },
    "lines_to_next_cell": 2,
    "papermill": {
     "duration": 0.43664,
     "end_time": "2024-12-17T17:33:06.808134",
     "exception": false,
     "start_time": "2024-12-17T17:33:06.371494",
     "status": "completed"
    },
    "tags": []
   },
   "outputs": [],
   "source": [
    "import pandas as pd\n",
    "import seaborn as sns\n",
    "import matplotlib.pyplot as plt\n",
    "from statsmodels.graphics.gofplots import qqplot\n",
    "from scipy.stats import shapiro\n",
    "from scipy.stats import friedmanchisquare, wilcoxon\n",
    "from itertools import combinations"
   ]
  },
  {
   "cell_type": "markdown",
   "id": "76360899",
   "metadata": {
    "papermill": {
     "duration": 0.008817,
     "end_time": "2024-12-17T17:33:06.818426",
     "exception": false,
     "start_time": "2024-12-17T17:33:06.809609",
     "status": "completed"
    },
    "tags": []
   },
   "source": [
    "Import the LensKit metrics for analysis:"
   ]
  },
  {
   "cell_type": "code",
   "execution_count": 3,
   "id": "9f0614f8",
   "metadata": {
    "execution": {
     "iopub.execute_input": "2024-12-17T17:33:06.821752Z",
     "iopub.status.busy": "2024-12-17T17:33:06.821342Z",
     "iopub.status.idle": "2024-12-17T17:33:07.466985Z",
     "shell.execute_reply": "2024-12-17T17:33:07.466572Z"
    },
    "papermill": {
     "duration": 0.648255,
     "end_time": "2024-12-17T17:33:07.467884",
     "exception": false,
     "start_time": "2024-12-17T17:33:06.819629",
     "status": "completed"
    },
    "tags": []
   },
   "outputs": [],
   "source": [
    "from lenskit.data import ItemListCollection, UserIDKey\n",
    "from lenskit.metrics import RunAnalysis, RMSE, NDCG, RecipRank, RBP"
   ]
  },
  {
   "cell_type": "markdown",
   "id": "44472f41",
   "metadata": {
    "papermill": {
     "duration": 0.009016,
     "end_time": "2024-12-17T17:33:07.478304",
     "exception": false,
     "start_time": "2024-12-17T17:33:07.469288",
     "status": "completed"
    },
    "tags": []
   },
   "source": [
    "## Load Data\n",
    "\n",
    "The recommendations are in `runs`, and we will need to reassemble the test data from `test`."
   ]
  },
  {
   "cell_type": "code",
   "execution_count": 4,
   "id": "a854029a",
   "metadata": {
    "execution": {
     "iopub.execute_input": "2024-12-17T17:33:07.481756Z",
     "iopub.status.busy": "2024-12-17T17:33:07.481323Z",
     "iopub.status.idle": "2024-12-17T17:33:07.482923Z",
     "shell.execute_reply": "2024-12-17T17:33:07.482767Z"
    },
    "papermill": {
     "duration": 0.003921,
     "end_time": "2024-12-17T17:33:07.483369",
     "exception": false,
     "start_time": "2024-12-17T17:33:07.479448",
     "status": "completed"
    },
    "tags": [
     "parameters"
    ]
   },
   "outputs": [],
   "source": [
    "dataset = \"ml100k\""
   ]
  },
  {
   "cell_type": "code",
   "execution_count": 5,
   "id": "6b15ee06",
   "metadata": {
    "execution": {
     "iopub.execute_input": "2024-12-17T17:33:07.486280Z",
     "iopub.status.busy": "2024-12-17T17:33:07.486119Z",
     "iopub.status.idle": "2024-12-17T17:33:07.487371Z",
     "shell.execute_reply": "2024-12-17T17:33:07.487213Z"
    },
    "papermill": {
     "duration": 0.003318,
     "end_time": "2024-12-17T17:33:07.487849",
     "exception": false,
     "start_time": "2024-12-17T17:33:07.484531",
     "status": "completed"
    },
    "tags": [
     "injected-parameters"
    ]
   },
   "outputs": [],
   "source": [
    "# Parameters\n",
    "dataset = \"ml10m\"\n"
   ]
  },
  {
   "cell_type": "code",
   "execution_count": 6,
   "id": "58b1ab64",
   "metadata": {
    "execution": {
     "iopub.execute_input": "2024-12-17T17:33:07.490595Z",
     "iopub.status.busy": "2024-12-17T17:33:07.490517Z",
     "iopub.status.idle": "2024-12-17T17:33:07.491979Z",
     "shell.execute_reply": "2024-12-17T17:33:07.491827Z"
    },
    "papermill": {
     "duration": 0.003502,
     "end_time": "2024-12-17T17:33:07.492495",
     "exception": false,
     "start_time": "2024-12-17T17:33:07.488993",
     "status": "completed"
    },
    "tags": []
   },
   "outputs": [],
   "source": [
    "output_root = Path(\"runs\")"
   ]
  },
  {
   "cell_type": "code",
   "execution_count": 7,
   "id": "291fdc84",
   "metadata": {
    "execution": {
     "iopub.execute_input": "2024-12-17T17:33:07.495102Z",
     "iopub.status.busy": "2024-12-17T17:33:07.494998Z",
     "iopub.status.idle": "2024-12-17T17:33:07.496510Z",
     "shell.execute_reply": "2024-12-17T17:33:07.496339Z"
    },
    "papermill": {
     "duration": 0.003118,
     "end_time": "2024-12-17T17:33:07.496772",
     "exception": false,
     "start_time": "2024-12-17T17:33:07.493654",
     "status": "completed"
    },
    "tags": []
   },
   "outputs": [],
   "source": [
    "dirs = [fld for fld in output_root.glob(f'{dataset}-*')]"
   ]
  },
  {
   "cell_type": "code",
   "execution_count": 8,
   "id": "e47fe658",
   "metadata": {
    "execution": {
     "iopub.execute_input": "2024-12-17T17:33:07.499390Z",
     "iopub.status.busy": "2024-12-17T17:33:07.499322Z",
     "iopub.status.idle": "2024-12-17T17:33:15.981881Z",
     "shell.execute_reply": "2024-12-17T17:33:15.981422Z"
    },
    "papermill": {
     "duration": 8.484588,
     "end_time": "2024-12-17T17:33:15.982562",
     "exception": false,
     "start_time": "2024-12-17T17:33:07.497974",
     "status": "completed"
    },
    "tags": []
   },
   "outputs": [],
   "source": [
    "recs = ItemListCollection(['model', 'user_id'], index=False)\n",
    "for fld in dirs:\n",
    "    for file in fld.glob(\"recs-*\"):\n",
    "        rec = ItemListCollection.load_parquet(file)\n",
    "        recs.add_from(rec, model=fld.name.split(\"-\")[1])"
   ]
  },
  {
   "cell_type": "code",
   "execution_count": 9,
   "id": "36d675e6",
   "metadata": {
    "execution": {
     "iopub.execute_input": "2024-12-17T17:33:15.990947Z",
     "iopub.status.busy": "2024-12-17T17:33:15.990624Z",
     "iopub.status.idle": "2024-12-17T17:33:16.030851Z",
     "shell.execute_reply": "2024-12-17T17:33:16.030698Z"
    },
    "papermill": {
     "duration": 0.047428,
     "end_time": "2024-12-17T17:33:16.031405",
     "exception": false,
     "start_time": "2024-12-17T17:33:15.983977",
     "status": "completed"
    },
    "tags": []
   },
   "outputs": [
    {
     "data": {
      "text/plain": [
       "['ALS', 'Bias', 'IALS', 'IIE', 'III', 'Pop', 'UUE']"
      ]
     },
     "execution_count": 9,
     "metadata": {},
     "output_type": "execute_result"
    }
   ],
   "source": [
    "rec_algos = sorted(set(a for (a, _u) in recs.keys()))\n",
    "rec_algos"
   ]
  },
  {
   "cell_type": "code",
   "execution_count": 10,
   "id": "530bbfda",
   "metadata": {
    "execution": {
     "iopub.execute_input": "2024-12-17T17:33:16.035239Z",
     "iopub.status.busy": "2024-12-17T17:33:16.035066Z",
     "iopub.status.idle": "2024-12-17T17:33:23.449246Z",
     "shell.execute_reply": "2024-12-17T17:33:23.448824Z"
    },
    "papermill": {
     "duration": 7.417229,
     "end_time": "2024-12-17T17:33:23.450041",
     "exception": false,
     "start_time": "2024-12-17T17:33:16.032812",
     "status": "completed"
    },
    "tags": []
   },
   "outputs": [],
   "source": [
    "preds = ItemListCollection(['model', 'user_id'], index=False)\n",
    "for fld in dirs:\n",
    "    for file in fld.glob(\"pred-*\"):\n",
    "        pred = ItemListCollection.load_parquet(file)\n",
    "        preds.add_from(pred, model=fld.name.split(\"-\")[1])"
   ]
  },
  {
   "cell_type": "markdown",
   "id": "737fbf6f",
   "metadata": {
    "papermill": {
     "duration": 0.018466,
     "end_time": "2024-12-17T17:33:23.470039",
     "exception": false,
     "start_time": "2024-12-17T17:33:23.451573",
     "status": "completed"
    },
    "tags": []
   },
   "source": [
    "We need to load the test data so that we have the ground truths for computing accuracy"
   ]
  },
  {
   "cell_type": "code",
   "execution_count": 11,
   "id": "094c6750",
   "metadata": {
    "execution": {
     "iopub.execute_input": "2024-12-17T17:33:23.473367Z",
     "iopub.status.busy": "2024-12-17T17:33:23.473062Z",
     "iopub.status.idle": "2024-12-17T17:33:23.474679Z",
     "shell.execute_reply": "2024-12-17T17:33:23.474529Z"
    },
    "papermill": {
     "duration": 0.003647,
     "end_time": "2024-12-17T17:33:23.475088",
     "exception": false,
     "start_time": "2024-12-17T17:33:23.471441",
     "status": "completed"
    },
    "tags": []
   },
   "outputs": [],
   "source": [
    "split_root = Path(\"data-split\")\n",
    "split_dir = split_root / dataset"
   ]
  },
  {
   "cell_type": "code",
   "execution_count": 12,
   "id": "b6b27b83",
   "metadata": {
    "execution": {
     "iopub.execute_input": "2024-12-17T17:33:23.477980Z",
     "iopub.status.busy": "2024-12-17T17:33:23.477914Z",
     "iopub.status.idle": "2024-12-17T17:33:26.037007Z",
     "shell.execute_reply": "2024-12-17T17:33:26.036608Z"
    },
    "papermill": {
     "duration": 2.561466,
     "end_time": "2024-12-17T17:33:26.037798",
     "exception": false,
     "start_time": "2024-12-17T17:33:23.476332",
     "status": "completed"
    },
    "tags": []
   },
   "outputs": [],
   "source": [
    "test = ItemListCollection(UserIDKey)\n",
    "for file in split_dir.glob(\"test-*.parquet\"):\n",
    "    df = pd.read_parquet(file)\n",
    "    part = ItemListCollection.from_df(df, UserIDKey)\n",
    "    test.add_from(part)"
   ]
  },
  {
   "cell_type": "markdown",
   "id": "fed8bea2",
   "metadata": {
    "papermill": {
     "duration": 0.00907,
     "end_time": "2024-12-17T17:33:26.048383",
     "exception": false,
     "start_time": "2024-12-17T17:33:26.039313",
     "status": "completed"
    },
    "tags": []
   },
   "source": [
    "## Top-N Metrics\n",
    "\n",
    "`RunListAnalysis` computes metrics for recommendation results and takes care of\n",
    "matching recommendations and ground truth."
   ]
  },
  {
   "cell_type": "code",
   "execution_count": 13,
   "id": "7b68ce95",
   "metadata": {
    "execution": {
     "iopub.execute_input": "2024-12-17T17:33:26.051521Z",
     "iopub.status.busy": "2024-12-17T17:33:26.051417Z",
     "iopub.status.idle": "2024-12-17T17:33:57.434117Z",
     "shell.execute_reply": "2024-12-17T17:33:57.433957Z"
    },
    "papermill": {
     "duration": 31.386289,
     "end_time": "2024-12-17T17:33:57.435921",
     "exception": false,
     "start_time": "2024-12-17T17:33:26.049632",
     "status": "completed"
    },
    "tags": []
   },
   "outputs": [
    {
     "name": "stderr",
     "output_type": "stream",
     "text": [
      "/home/mde48/lenskit/lkpy/lenskit/lenskit/metrics/bulk.py:121: FutureWarning: The previous implementation of stack is deprecated and will be removed in a future version of pandas. See the What's New notes for pandas 2.1.0 for details. Specify future_stack=True to adopt the new implementation and silence this warning.\n",
      "  df = scores.groupby(list(keys)).agg([\"mean\", \"median\", \"std\"]).stack(level=0)\n"
     ]
    },
    {
     "data": {
      "text/html": [
       "<div>\n",
       "<style scoped>\n",
       "    .dataframe tbody tr th:only-of-type {\n",
       "        vertical-align: middle;\n",
       "    }\n",
       "\n",
       "    .dataframe tbody tr th {\n",
       "        vertical-align: top;\n",
       "    }\n",
       "\n",
       "    .dataframe thead th {\n",
       "        text-align: right;\n",
       "    }\n",
       "</style>\n",
       "<table border=\"1\" class=\"dataframe\">\n",
       "  <thead>\n",
       "    <tr style=\"text-align: right;\">\n",
       "      <th></th>\n",
       "      <th></th>\n",
       "      <th>mean</th>\n",
       "      <th>median</th>\n",
       "      <th>std</th>\n",
       "    </tr>\n",
       "    <tr>\n",
       "      <th>model</th>\n",
       "      <th></th>\n",
       "      <th></th>\n",
       "      <th></th>\n",
       "      <th></th>\n",
       "    </tr>\n",
       "  </thead>\n",
       "  <tbody>\n",
       "    <tr>\n",
       "      <th rowspan=\"3\" valign=\"top\">ALS</th>\n",
       "      <th>NDCG</th>\n",
       "      <td>0.038213</td>\n",
       "      <td>0.000000e+00</td>\n",
       "      <td>0.075143</td>\n",
       "    </tr>\n",
       "    <tr>\n",
       "      <th>RBP</th>\n",
       "      <td>0.017647</td>\n",
       "      <td>0.000000e+00</td>\n",
       "      <td>0.080197</td>\n",
       "    </tr>\n",
       "    <tr>\n",
       "      <th>RecipRank</th>\n",
       "      <td>0.050194</td>\n",
       "      <td>0.000000e+00</td>\n",
       "      <td>0.159501</td>\n",
       "    </tr>\n",
       "    <tr>\n",
       "      <th rowspan=\"3\" valign=\"top\">Bias</th>\n",
       "      <th>NDCG</th>\n",
       "      <td>0.043227</td>\n",
       "      <td>0.000000e+00</td>\n",
       "      <td>0.085239</td>\n",
       "    </tr>\n",
       "    <tr>\n",
       "      <th>RBP</th>\n",
       "      <td>0.029255</td>\n",
       "      <td>0.000000e+00</td>\n",
       "      <td>0.107693</td>\n",
       "    </tr>\n",
       "    <tr>\n",
       "      <th>RecipRank</th>\n",
       "      <td>0.068840</td>\n",
       "      <td>0.000000e+00</td>\n",
       "      <td>0.210294</td>\n",
       "    </tr>\n",
       "    <tr>\n",
       "      <th rowspan=\"3\" valign=\"top\">IALS</th>\n",
       "      <th>NDCG</th>\n",
       "      <td>0.285632</td>\n",
       "      <td>2.388330e-01</td>\n",
       "      <td>0.205255</td>\n",
       "    </tr>\n",
       "    <tr>\n",
       "      <th>RBP</th>\n",
       "      <td>0.129865</td>\n",
       "      <td>3.914118e-03</td>\n",
       "      <td>0.218110</td>\n",
       "    </tr>\n",
       "    <tr>\n",
       "      <th>RecipRank</th>\n",
       "      <td>0.275061</td>\n",
       "      <td>1.250000e-01</td>\n",
       "      <td>0.328409</td>\n",
       "    </tr>\n",
       "    <tr>\n",
       "      <th rowspan=\"3\" valign=\"top\">IIE</th>\n",
       "      <th>NDCG</th>\n",
       "      <td>0.008300</td>\n",
       "      <td>0.000000e+00</td>\n",
       "      <td>0.024377</td>\n",
       "    </tr>\n",
       "    <tr>\n",
       "      <th>RBP</th>\n",
       "      <td>0.000207</td>\n",
       "      <td>0.000000e+00</td>\n",
       "      <td>0.007187</td>\n",
       "    </tr>\n",
       "    <tr>\n",
       "      <th>RecipRank</th>\n",
       "      <td>0.004205</td>\n",
       "      <td>0.000000e+00</td>\n",
       "      <td>0.020607</td>\n",
       "    </tr>\n",
       "    <tr>\n",
       "      <th rowspan=\"3\" valign=\"top\">III</th>\n",
       "      <th>NDCG</th>\n",
       "      <td>0.245048</td>\n",
       "      <td>1.736796e-01</td>\n",
       "      <td>0.221260</td>\n",
       "    </tr>\n",
       "    <tr>\n",
       "      <th>RBP</th>\n",
       "      <td>0.158682</td>\n",
       "      <td>1.953125e-03</td>\n",
       "      <td>0.245553</td>\n",
       "    </tr>\n",
       "    <tr>\n",
       "      <th>RecipRank</th>\n",
       "      <td>0.308449</td>\n",
       "      <td>1.111111e-01</td>\n",
       "      <td>0.374972</td>\n",
       "    </tr>\n",
       "    <tr>\n",
       "      <th rowspan=\"3\" valign=\"top\">Pop</th>\n",
       "      <th>NDCG</th>\n",
       "      <td>0.152604</td>\n",
       "      <td>9.991295e-02</td>\n",
       "      <td>0.162863</td>\n",
       "    </tr>\n",
       "    <tr>\n",
       "      <th>RBP</th>\n",
       "      <td>0.075644</td>\n",
       "      <td>1.192093e-07</td>\n",
       "      <td>0.170703</td>\n",
       "    </tr>\n",
       "    <tr>\n",
       "      <th>RecipRank</th>\n",
       "      <td>0.176635</td>\n",
       "      <td>4.347826e-02</td>\n",
       "      <td>0.292454</td>\n",
       "    </tr>\n",
       "    <tr>\n",
       "      <th rowspan=\"3\" valign=\"top\">UUE</th>\n",
       "      <th>NDCG</th>\n",
       "      <td>0.009960</td>\n",
       "      <td>0.000000e+00</td>\n",
       "      <td>0.023236</td>\n",
       "    </tr>\n",
       "    <tr>\n",
       "      <th>RBP</th>\n",
       "      <td>0.000038</td>\n",
       "      <td>0.000000e+00</td>\n",
       "      <td>0.001660</td>\n",
       "    </tr>\n",
       "    <tr>\n",
       "      <th>RecipRank</th>\n",
       "      <td>0.004229</td>\n",
       "      <td>0.000000e+00</td>\n",
       "      <td>0.012869</td>\n",
       "    </tr>\n",
       "  </tbody>\n",
       "</table>\n",
       "</div>"
      ],
      "text/plain": [
       "                     mean        median       std\n",
       "model                                            \n",
       "ALS   NDCG       0.038213  0.000000e+00  0.075143\n",
       "      RBP        0.017647  0.000000e+00  0.080197\n",
       "      RecipRank  0.050194  0.000000e+00  0.159501\n",
       "Bias  NDCG       0.043227  0.000000e+00  0.085239\n",
       "      RBP        0.029255  0.000000e+00  0.107693\n",
       "      RecipRank  0.068840  0.000000e+00  0.210294\n",
       "IALS  NDCG       0.285632  2.388330e-01  0.205255\n",
       "      RBP        0.129865  3.914118e-03  0.218110\n",
       "      RecipRank  0.275061  1.250000e-01  0.328409\n",
       "IIE   NDCG       0.008300  0.000000e+00  0.024377\n",
       "      RBP        0.000207  0.000000e+00  0.007187\n",
       "      RecipRank  0.004205  0.000000e+00  0.020607\n",
       "III   NDCG       0.245048  1.736796e-01  0.221260\n",
       "      RBP        0.158682  1.953125e-03  0.245553\n",
       "      RecipRank  0.308449  1.111111e-01  0.374972\n",
       "Pop   NDCG       0.152604  9.991295e-02  0.162863\n",
       "      RBP        0.075644  1.192093e-07  0.170703\n",
       "      RecipRank  0.176635  4.347826e-02  0.292454\n",
       "UUE   NDCG       0.009960  0.000000e+00  0.023236\n",
       "      RBP        0.000038  0.000000e+00  0.001660\n",
       "      RecipRank  0.004229  0.000000e+00  0.012869"
      ]
     },
     "execution_count": 13,
     "metadata": {},
     "output_type": "execute_result"
    }
   ],
   "source": [
    "ra = RunAnalysis()\n",
    "\n",
    "ra.add_metric(NDCG())\n",
    "ra.add_metric(RecipRank())\n",
    "ra.add_metric(RBP())\n",
    "\n",
    "rec_results = ra.compute(recs, test)\n",
    "rec_results.list_summary('model')"
   ]
  },
  {
   "cell_type": "markdown",
   "id": "8cba4e78",
   "metadata": {
    "papermill": {
     "duration": 0.001445,
     "end_time": "2024-12-17T17:33:57.445745",
     "exception": false,
     "start_time": "2024-12-17T17:33:57.444300",
     "status": "completed"
    },
    "tags": []
   },
   "source": [
    "We can reshape the list metrics and plot them:"
   ]
  },
  {
   "cell_type": "code",
   "execution_count": 14,
   "id": "238604c3",
   "metadata": {
    "execution": {
     "iopub.execute_input": "2024-12-17T17:33:57.448978Z",
     "iopub.status.busy": "2024-12-17T17:33:57.448898Z",
     "iopub.status.idle": "2024-12-17T17:34:02.717461Z",
     "shell.execute_reply": "2024-12-17T17:34:02.717233Z"
    },
    "papermill": {
     "duration": 5.270798,
     "end_time": "2024-12-17T17:34:02.718012",
     "exception": false,
     "start_time": "2024-12-17T17:33:57.447214",
     "status": "completed"
    },
    "tags": []
   },
   "outputs": [
    {
     "data": {
      "image/png": "[encoded data removed]",
      "text/plain": [
       "<Figure size 1511.11x500 with 3 Axes>"
      ]
     },
     "metadata": {},
     "output_type": "display_data"
    }
   ],
   "source": [
    "metrics = rec_results.list_metrics()\n",
    "metrics = metrics.melt(var_name='metric', ignore_index=False).reset_index()\n",
    "sns.catplot(metrics, x='model', y='value', col='metric', kind='bar')\n",
    "plt.show()"
   ]
  },
  {
   "cell_type": "markdown",
   "id": "d6f202d4",
   "metadata": {
    "papermill": {
     "duration": 0.00865,
     "end_time": "2024-12-17T17:34:02.728413",
     "exception": false,
     "start_time": "2024-12-17T17:34:02.719763",
     "status": "completed"
    },
    "tags": []
   },
   "source": [
    "## Prediction RMSE\n",
    "\n",
    "We will also look at the prediction RMSE."
   ]
  },
  {
   "cell_type": "code",
   "execution_count": 15,
   "id": "c78c5ff6",
   "metadata": {
    "execution": {
     "iopub.execute_input": "2024-12-17T17:34:02.731919Z",
     "iopub.status.busy": "2024-12-17T17:34:02.731812Z",
     "iopub.status.idle": "2024-12-17T17:34:42.330439Z",
     "shell.execute_reply": "2024-12-17T17:34:42.330140Z"
    },
    "papermill": {
     "duration": 39.602427,
     "end_time": "2024-12-17T17:34:42.332386",
     "exception": false,
     "start_time": "2024-12-17T17:34:02.729959",
     "status": "completed"
    },
    "tags": []
   },
   "outputs": [
    {
     "name": "stderr",
     "output_type": "stream",
     "text": [
      "/home/mde48/lenskit/lkpy/lenskit/lenskit/metrics/bulk.py:121: FutureWarning: The previous implementation of stack is deprecated and will be removed in a future version of pandas. See the What's New notes for pandas 2.1.0 for details. Specify future_stack=True to adopt the new implementation and silence this warning.\n",
      "  df = scores.groupby(list(keys)).agg([\"mean\", \"median\", \"std\"]).stack(level=0)\n"
     ]
    },
    {
     "data": {
      "text/html": [
       "<div>\n",
       "<style scoped>\n",
       "    .dataframe tbody tr th:only-of-type {\n",
       "        vertical-align: middle;\n",
       "    }\n",
       "\n",
       "    .dataframe tbody tr th {\n",
       "        vertical-align: top;\n",
       "    }\n",
       "\n",
       "    .dataframe thead th {\n",
       "        text-align: right;\n",
       "    }\n",
       "</style>\n",
       "<table border=\"1\" class=\"dataframe\">\n",
       "  <thead>\n",
       "    <tr style=\"text-align: right;\">\n",
       "      <th></th>\n",
       "      <th></th>\n",
       "      <th>mean</th>\n",
       "      <th>median</th>\n",
       "      <th>std</th>\n",
       "    </tr>\n",
       "    <tr>\n",
       "      <th>model</th>\n",
       "      <th></th>\n",
       "      <th></th>\n",
       "      <th></th>\n",
       "      <th></th>\n",
       "    </tr>\n",
       "  </thead>\n",
       "  <tbody>\n",
       "    <tr>\n",
       "      <th>ALS</th>\n",
       "      <th>RMSE</th>\n",
       "      <td>0.789414</td>\n",
       "      <td>0.736592</td>\n",
       "      <td>0.333054</td>\n",
       "    </tr>\n",
       "    <tr>\n",
       "      <th>Bias</th>\n",
       "      <th>RMSE</th>\n",
       "      <td>0.832844</td>\n",
       "      <td>0.779487</td>\n",
       "      <td>0.347313</td>\n",
       "    </tr>\n",
       "    <tr>\n",
       "      <th>IIE</th>\n",
       "      <th>RMSE</th>\n",
       "      <td>0.777402</td>\n",
       "      <td>0.725244</td>\n",
       "      <td>0.333224</td>\n",
       "    </tr>\n",
       "    <tr>\n",
       "      <th>UUE</th>\n",
       "      <th>RMSE</th>\n",
       "      <td>0.803166</td>\n",
       "      <td>0.750478</td>\n",
       "      <td>0.341269</td>\n",
       "    </tr>\n",
       "  </tbody>\n",
       "</table>\n",
       "</div>"
      ],
      "text/plain": [
       "                mean    median       std\n",
       "model                                   \n",
       "ALS   RMSE  0.789414  0.736592  0.333054\n",
       "Bias  RMSE  0.832844  0.779487  0.347313\n",
       "IIE   RMSE  0.777402  0.725244  0.333224\n",
       "UUE   RMSE  0.803166  0.750478  0.341269"
      ]
     },
     "execution_count": 15,
     "metadata": {},
     "output_type": "execute_result"
    }
   ],
   "source": [
    "pa = RunAnalysis()\n",
    "\n",
    "pa.add_metric(RMSE(missing_scores='ignore', missing_truth='ignore'))\n",
    "\n",
    "pred_results = pa.compute(preds, test)\n",
    "pred_results.list_summary('model')"
   ]
  },
  {
   "cell_type": "code",
   "execution_count": 16,
   "id": "929287d6",
   "metadata": {
    "execution": {
     "iopub.execute_input": "2024-12-17T17:34:42.343254Z",
     "iopub.status.busy": "2024-12-17T17:34:42.343165Z",
     "iopub.status.idle": "2024-12-17T17:34:43.318159Z",
     "shell.execute_reply": "2024-12-17T17:34:43.317862Z"
    },
    "papermill": {
     "duration": 0.977558,
     "end_time": "2024-12-17T17:34:43.318796",
     "exception": false,
     "start_time": "2024-12-17T17:34:42.341238",
     "status": "completed"
    },
    "tags": []
   },
   "outputs": [
    {
     "data": {
      "image/png": "[encoded data removed]",
      "text/plain": [
       "<Figure size 511.111x500 with 1 Axes>"
      ]
     },
     "metadata": {},
     "output_type": "display_data"
    }
   ],
   "source": [
    "sns.catplot(pred_results.list_metrics().reset_index(), x='model', y='RMSE', kind='bar')\n",
    "plt.show()"
   ]
  },
  {
   "cell_type": "markdown",
   "id": "0caac7ca",
   "metadata": {
    "papermill": {
     "duration": 0.009199,
     "end_time": "2024-12-17T17:34:43.329802",
     "exception": false,
     "start_time": "2024-12-17T17:34:43.320603",
     "status": "completed"
    },
    "tags": []
   },
   "source": [
    "## Save Metrics\n",
    "\n",
    "We'll now save the metrics to a file."
   ]
  },
  {
   "cell_type": "code",
   "execution_count": 17,
   "id": "4e43b021",
   "metadata": {
    "execution": {
     "iopub.execute_input": "2024-12-17T17:34:43.333387Z",
     "iopub.status.busy": "2024-12-17T17:34:43.333313Z",
     "iopub.status.idle": "2024-12-17T17:34:43.377004Z",
     "shell.execute_reply": "2024-12-17T17:34:43.376765Z"
    },
    "papermill": {
     "duration": 0.046257,
     "end_time": "2024-12-17T17:34:43.377632",
     "exception": false,
     "start_time": "2024-12-17T17:34:43.331375",
     "status": "completed"
    },
    "tags": []
   },
   "outputs": [
    {
     "name": "stderr",
     "output_type": "stream",
     "text": [
      "/home/mde48/lenskit/lkpy/lenskit/lenskit/metrics/bulk.py:121: FutureWarning: The previous implementation of stack is deprecated and will be removed in a future version of pandas. See the What's New notes for pandas 2.1.0 for details. Specify future_stack=True to adopt the new implementation and silence this warning.\n",
      "  df = scores.groupby(list(keys)).agg([\"mean\", \"median\", \"std\"]).stack(level=0)\n"
     ]
    },
    {
     "data": {
      "text/html": [
       "<div>\n",
       "<style scoped>\n",
       "    .dataframe tbody tr th:only-of-type {\n",
       "        vertical-align: middle;\n",
       "    }\n",
       "\n",
       "    .dataframe tbody tr th {\n",
       "        vertical-align: top;\n",
       "    }\n",
       "\n",
       "    .dataframe thead th {\n",
       "        text-align: right;\n",
       "    }\n",
       "</style>\n",
       "<table border=\"1\" class=\"dataframe\">\n",
       "  <thead>\n",
       "    <tr style=\"text-align: right;\">\n",
       "      <th></th>\n",
       "      <th>NDCG</th>\n",
       "      <th>RBP</th>\n",
       "      <th>RecipRank</th>\n",
       "    </tr>\n",
       "    <tr>\n",
       "      <th>model</th>\n",
       "      <th></th>\n",
       "      <th></th>\n",
       "      <th></th>\n",
       "    </tr>\n",
       "  </thead>\n",
       "  <tbody>\n",
       "    <tr>\n",
       "      <th>ALS</th>\n",
       "      <td>0.038213</td>\n",
       "      <td>0.017647</td>\n",
       "      <td>0.050194</td>\n",
       "    </tr>\n",
       "    <tr>\n",
       "      <th>Bias</th>\n",
       "      <td>0.043227</td>\n",
       "      <td>0.029255</td>\n",
       "      <td>0.068840</td>\n",
       "    </tr>\n",
       "    <tr>\n",
       "      <th>IALS</th>\n",
       "      <td>0.285632</td>\n",
       "      <td>0.129865</td>\n",
       "      <td>0.275061</td>\n",
       "    </tr>\n",
       "    <tr>\n",
       "      <th>IIE</th>\n",
       "      <td>0.008300</td>\n",
       "      <td>0.000207</td>\n",
       "      <td>0.004205</td>\n",
       "    </tr>\n",
       "    <tr>\n",
       "      <th>III</th>\n",
       "      <td>0.245048</td>\n",
       "      <td>0.158682</td>\n",
       "      <td>0.308449</td>\n",
       "    </tr>\n",
       "    <tr>\n",
       "      <th>Pop</th>\n",
       "      <td>0.152604</td>\n",
       "      <td>0.075644</td>\n",
       "      <td>0.176635</td>\n",
       "    </tr>\n",
       "    <tr>\n",
       "      <th>UUE</th>\n",
       "      <td>0.009960</td>\n",
       "      <td>0.000038</td>\n",
       "      <td>0.004229</td>\n",
       "    </tr>\n",
       "  </tbody>\n",
       "</table>\n",
       "</div>"
      ],
      "text/plain": [
       "           NDCG       RBP  RecipRank\n",
       "model                               \n",
       "ALS    0.038213  0.017647   0.050194\n",
       "Bias   0.043227  0.029255   0.068840\n",
       "IALS   0.285632  0.129865   0.275061\n",
       "IIE    0.008300  0.000207   0.004205\n",
       "III    0.245048  0.158682   0.308449\n",
       "Pop    0.152604  0.075644   0.176635\n",
       "UUE    0.009960  0.000038   0.004229"
      ]
     },
     "execution_count": 17,
     "metadata": {},
     "output_type": "execute_result"
    }
   ],
   "source": [
    "rlsum = rec_results.list_summary('model')['mean'].unstack()\n",
    "rlsum"
   ]
  },
  {
   "cell_type": "code",
   "execution_count": 18,
   "id": "cae53f67",
   "metadata": {
    "execution": {
     "iopub.execute_input": "2024-12-17T17:34:43.381599Z",
     "iopub.status.busy": "2024-12-17T17:34:43.381529Z",
     "iopub.status.idle": "2024-12-17T17:34:43.383893Z",
     "shell.execute_reply": "2024-12-17T17:34:43.383744Z"
    },
    "papermill": {
     "duration": 0.005056,
     "end_time": "2024-12-17T17:34:43.384502",
     "exception": false,
     "start_time": "2024-12-17T17:34:43.379446",
     "status": "completed"
    },
    "tags": []
   },
   "outputs": [],
   "source": [
    "rlsum.to_json(f'eval-metrics.{dataset}.json', orient='index')"
   ]
  }
 ],
 "metadata": {
  "jupytext": {
   "formats": "ipynb,md",
   "notebook_metadata_filter": "split_at_heading"
  },
  "kernelspec": {
   "display_name": "Python 3 (ipykernel)",
   "language": "python",
   "name": "python3"
  },
  "language_info": {
   "codemirror_mode": {
    "name": "ipython",
    "version": 3
   },
   "file_extension": ".py",
   "mimetype": "text/x-python",
   "name": "python",
   "nbconvert_exporter": "python",
   "pygments_lexer": "ipython3",
   "version": "3.12.8"
  },
  "papermill": {
   "default_parameters": {},
   "duration": 99.842964,
   "end_time": "2024-12-17T17:34:45.507537",
   "environment_variables": {},
   "exception": null,
   "input_path": "eval-report.ipynb",
   "output_path": "eval-report.ml10m.ipynb",
   "parameters": {
    "dataset": "ml10m"
   },
   "start_time": "2024-12-17T17:33:05.664573",
   "version": "2.6.0"
  },
  "split_at_heading": true
 },
 "nbformat": 4,
 "nbformat_minor": 5
}