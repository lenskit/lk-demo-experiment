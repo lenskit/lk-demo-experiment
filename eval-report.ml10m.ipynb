{
 "cells": [
  {
   "cell_type": "markdown",
   "id": "381bef4a",
   "metadata": {
    "papermill": {
     "duration": 0.002591,
     "end_time": "2024-12-08T05:17:56.090741",
     "exception": false,
     "start_time": "2024-12-08T05:17:56.088150",
     "status": "completed"
    },
    "tags": []
   },
   "source": [
    "# Evaluation Analysis for Recommender Output"
   ]
  },
  {
   "cell_type": "markdown",
   "id": "664c72ab",
   "metadata": {
    "papermill": {
     "duration": 0.001069,
     "end_time": "2024-12-08T05:17:56.093076",
     "exception": false,
     "start_time": "2024-12-08T05:17:56.092007",
     "status": "completed"
    },
    "tags": []
   },
   "source": [
    "In this section we will analyze and compare the generated recommendations and predictions from a predefined list of algorithms with the goal of assessing the performance of each algorithm with respect to a metric. In other words, we would rank the algorithms for each metric considered with respect to performance."
   ]
  },
  {
   "cell_type": "markdown",
   "id": "81fcb0af",
   "metadata": {
    "papermill": {
     "duration": 0.001067,
     "end_time": "2024-12-08T05:17:56.095262",
     "exception": false,
     "start_time": "2024-12-08T05:17:56.094195",
     "status": "completed"
    },
    "tags": []
   },
   "source": [
    "## Setup"
   ]
  },
  {
   "cell_type": "markdown",
   "id": "933a60f9",
   "metadata": {
    "papermill": {
     "duration": 0.001092,
     "end_time": "2024-12-08T05:17:56.097413",
     "exception": false,
     "start_time": "2024-12-08T05:17:56.096321",
     "status": "completed"
    },
    "tags": []
   },
   "source": [
    "Below are the list of packages required to successfully run the analysis. They are divided into partitions to signify their specific task.<br>\n",
    "We need the pathlib package for working with files and folders"
   ]
  },
  {
   "cell_type": "code",
   "execution_count": 1,
   "id": "9488a624",
   "metadata": {
    "execution": {
     "iopub.execute_input": "2024-12-08T05:17:56.100569Z",
     "iopub.status.busy": "2024-12-08T05:17:56.100225Z",
     "iopub.status.idle": "2024-12-08T05:17:56.102455Z",
     "shell.execute_reply": "2024-12-08T05:17:56.102241Z"
    },
    "papermill": {
     "duration": 0.004475,
     "end_time": "2024-12-08T05:17:56.102963",
     "exception": false,
     "start_time": "2024-12-08T05:17:56.098488",
     "status": "completed"
    },
    "tags": []
   },
   "outputs": [],
   "source": [
    "from pathlib import Path\n",
    "import json"
   ]
  },
  {
   "cell_type": "markdown",
   "id": "99e5fc5d",
   "metadata": {
    "papermill": {
     "duration": 0.002073,
     "end_time": "2024-12-08T05:17:56.107276",
     "exception": false,
     "start_time": "2024-12-08T05:17:56.105203",
     "status": "completed"
    },
    "tags": []
   },
   "source": [
    "We would use the pandas for analyzing and manipulating our data while seaborn and matplotlib are used for data visualization. statsmodels.graphics.gofplots and scipy.stats.shapiro are used for normality check. Scipy.stats.friedmanchisquare is a non-parametric test used to determine the statistical significance in metric results and the wilcoxon test is used for pairwise comparison of sample data."
   ]
  },
  {
   "cell_type": "code",
   "execution_count": 2,
   "id": "5443464f",
   "metadata": {
    "execution": {
     "iopub.execute_input": "2024-12-08T05:17:56.111875Z",
     "iopub.status.busy": "2024-12-08T05:17:56.111797Z",
     "iopub.status.idle": "2024-12-08T05:17:56.510984Z",
     "shell.execute_reply": "2024-12-08T05:17:56.510507Z"
    },
    "lines_to_next_cell": 2,
    "papermill": {
     "duration": 0.402659,
     "end_time": "2024-12-08T05:17:56.512028",
     "exception": false,
     "start_time": "2024-12-08T05:17:56.109369",
     "status": "completed"
    },
    "tags": []
   },
   "outputs": [],
   "source": [
    "import pandas as pd\n",
    "import seaborn as sns\n",
    "import matplotlib.pyplot as plt\n",
    "from statsmodels.graphics.gofplots import qqplot\n",
    "from scipy.stats import shapiro\n",
    "from scipy.stats import friedmanchisquare, wilcoxon\n",
    "from itertools import combinations"
   ]
  },
  {
   "cell_type": "markdown",
   "id": "17a97495",
   "metadata": {
    "papermill": {
     "duration": 0.00909,
     "end_time": "2024-12-08T05:17:56.522803",
     "exception": false,
     "start_time": "2024-12-08T05:17:56.513713",
     "status": "completed"
    },
    "tags": []
   },
   "source": [
    "Import the LensKit metrics for analysis:"
   ]
  },
  {
   "cell_type": "code",
   "execution_count": 3,
   "id": "64672a8e",
   "metadata": {
    "execution": {
     "iopub.execute_input": "2024-12-08T05:17:56.525595Z",
     "iopub.status.busy": "2024-12-08T05:17:56.525473Z",
     "iopub.status.idle": "2024-12-08T05:17:57.180088Z",
     "shell.execute_reply": "2024-12-08T05:17:57.179586Z"
    },
    "papermill": {
     "duration": 0.656924,
     "end_time": "2024-12-08T05:17:57.180937",
     "exception": false,
     "start_time": "2024-12-08T05:17:56.524013",
     "status": "completed"
    },
    "tags": []
   },
   "outputs": [],
   "source": [
    "from lenskit.data import ItemListCollection, UserIDKey\n",
    "from lenskit.metrics import RunAnalysis, RMSE, NDCG, RecipRank, RBP"
   ]
  },
  {
   "cell_type": "markdown",
   "id": "63508ad7",
   "metadata": {
    "papermill": {
     "duration": 0.001277,
     "end_time": "2024-12-08T05:17:57.183573",
     "exception": false,
     "start_time": "2024-12-08T05:17:57.182296",
     "status": "completed"
    },
    "tags": []
   },
   "source": [
    "## Load Data\n",
    "\n",
    "The recommendations are in `runs`, and we will need to reassemble the test data from `test`."
   ]
  },
  {
   "cell_type": "code",
   "execution_count": 4,
   "id": "2d81312f",
   "metadata": {
    "execution": {
     "iopub.execute_input": "2024-12-08T05:17:57.186554Z",
     "iopub.status.busy": "2024-12-08T05:17:57.186445Z",
     "iopub.status.idle": "2024-12-08T05:17:57.188315Z",
     "shell.execute_reply": "2024-12-08T05:17:57.188089Z"
    },
    "papermill": {
     "duration": 0.003899,
     "end_time": "2024-12-08T05:17:57.188763",
     "exception": false,
     "start_time": "2024-12-08T05:17:57.184864",
     "status": "completed"
    },
    "tags": [
     "parameters"
    ]
   },
   "outputs": [],
   "source": [
    "dataset = \"ml100k\""
   ]
  },
  {
   "cell_type": "code",
   "execution_count": 5,
   "id": "4b265231",
   "metadata": {
    "execution": {
     "iopub.execute_input": "2024-12-08T05:17:57.191489Z",
     "iopub.status.busy": "2024-12-08T05:17:57.191398Z",
     "iopub.status.idle": "2024-12-08T05:17:57.192865Z",
     "shell.execute_reply": "2024-12-08T05:17:57.192632Z"
    },
    "papermill": {
     "duration": 0.003267,
     "end_time": "2024-12-08T05:17:57.193218",
     "exception": false,
     "start_time": "2024-12-08T05:17:57.189951",
     "status": "completed"
    },
    "tags": [
     "injected-parameters"
    ]
   },
   "outputs": [],
   "source": [
    "# Parameters\n",
    "dataset = \"ml10m\"\n"
   ]
  },
  {
   "cell_type": "code",
   "execution_count": 6,
   "id": "3ec95294",
   "metadata": {
    "execution": {
     "iopub.execute_input": "2024-12-08T05:17:57.195854Z",
     "iopub.status.busy": "2024-12-08T05:17:57.195775Z",
     "iopub.status.idle": "2024-12-08T05:17:57.197232Z",
     "shell.execute_reply": "2024-12-08T05:17:57.197019Z"
    },
    "papermill": {
     "duration": 0.003141,
     "end_time": "2024-12-08T05:17:57.197570",
     "exception": false,
     "start_time": "2024-12-08T05:17:57.194429",
     "status": "completed"
    },
    "tags": []
   },
   "outputs": [],
   "source": [
    "output_root = Path(\"runs\")"
   ]
  },
  {
   "cell_type": "code",
   "execution_count": 7,
   "id": "2fdbd191",
   "metadata": {
    "execution": {
     "iopub.execute_input": "2024-12-08T05:17:57.200263Z",
     "iopub.status.busy": "2024-12-08T05:17:57.200187Z",
     "iopub.status.idle": "2024-12-08T05:17:57.201839Z",
     "shell.execute_reply": "2024-12-08T05:17:57.201627Z"
    },
    "papermill": {
     "duration": 0.003396,
     "end_time": "2024-12-08T05:17:57.202159",
     "exception": false,
     "start_time": "2024-12-08T05:17:57.198763",
     "status": "completed"
    },
    "tags": []
   },
   "outputs": [],
   "source": [
    "dirs = [fld for fld in output_root.glob(f'{dataset}-*')]"
   ]
  },
  {
   "cell_type": "code",
   "execution_count": 8,
   "id": "57c58091",
   "metadata": {
    "execution": {
     "iopub.execute_input": "2024-12-08T05:17:57.204819Z",
     "iopub.status.busy": "2024-12-08T05:17:57.204740Z",
     "iopub.status.idle": "2024-12-08T05:19:17.369093Z",
     "shell.execute_reply": "2024-12-08T05:19:17.368574Z"
    },
    "papermill": {
     "duration": 80.166455,
     "end_time": "2024-12-08T05:19:17.369814",
     "exception": false,
     "start_time": "2024-12-08T05:17:57.203359",
     "status": "completed"
    },
    "tags": []
   },
   "outputs": [],
   "source": [
    "recs = ItemListCollection(['model', 'user_id'], index=False)\n",
    "for fld in dirs:\n",
    "    for file in fld.glob(\"recs-*\"):\n",
    "        rec = pd.read_parquet(file)\n",
    "        rec = ItemListCollection.from_df(rec, UserIDKey)\n",
    "        recs.add_from(rec, model=fld.name.split(\"-\")[1])"
   ]
  },
  {
   "cell_type": "code",
   "execution_count": 9,
   "id": "effd04de",
   "metadata": {
    "execution": {
     "iopub.execute_input": "2024-12-08T05:19:17.380914Z",
     "iopub.status.busy": "2024-12-08T05:19:17.380829Z",
     "iopub.status.idle": "2024-12-08T05:19:17.419035Z",
     "shell.execute_reply": "2024-12-08T05:19:17.418782Z"
    },
    "papermill": {
     "duration": 0.048264,
     "end_time": "2024-12-08T05:19:17.419610",
     "exception": false,
     "start_time": "2024-12-08T05:19:17.371346",
     "status": "completed"
    },
    "tags": []
   },
   "outputs": [
    {
     "data": {
      "text/plain": [
       "['ALS', 'Bias', 'IALS', 'IIE', 'III', 'Pop', 'UUE']"
      ]
     },
     "execution_count": 9,
     "metadata": {},
     "output_type": "execute_result"
    }
   ],
   "source": [
    "rec_algos = sorted(set(a for (a, _u) in recs.keys()))\n",
    "rec_algos"
   ]
  },
  {
   "cell_type": "code",
   "execution_count": 10,
   "id": "4593fe69",
   "metadata": {
    "execution": {
     "iopub.execute_input": "2024-12-08T05:19:17.422894Z",
     "iopub.status.busy": "2024-12-08T05:19:17.422799Z",
     "iopub.status.idle": "2024-12-08T05:19:56.987182Z",
     "shell.execute_reply": "2024-12-08T05:19:56.986798Z"
    },
    "papermill": {
     "duration": 39.566862,
     "end_time": "2024-12-08T05:19:56.987889",
     "exception": false,
     "start_time": "2024-12-08T05:19:17.421027",
     "status": "completed"
    },
    "tags": []
   },
   "outputs": [],
   "source": [
    "preds = ItemListCollection(['model', 'user_id'], index=False)\n",
    "for fld in dirs:\n",
    "    for file in fld.glob(\"pred-*\"):\n",
    "        pred = pd.read_parquet(file)\n",
    "        pred = ItemListCollection.from_df(pred, UserIDKey)\n",
    "        preds.add_from(pred, model=fld.name.split(\"-\")[1])"
   ]
  },
  {
   "cell_type": "markdown",
   "id": "5f88f622",
   "metadata": {
    "papermill": {
     "duration": 0.018586,
     "end_time": "2024-12-08T05:19:57.007960",
     "exception": false,
     "start_time": "2024-12-08T05:19:56.989374",
     "status": "completed"
    },
    "tags": []
   },
   "source": [
    "We need to load the test data so that we have the ground truths for computing accuracy"
   ]
  },
  {
   "cell_type": "code",
   "execution_count": 11,
   "id": "bf88dbf4",
   "metadata": {
    "execution": {
     "iopub.execute_input": "2024-12-08T05:19:57.011039Z",
     "iopub.status.busy": "2024-12-08T05:19:57.010944Z",
     "iopub.status.idle": "2024-12-08T05:19:57.012593Z",
     "shell.execute_reply": "2024-12-08T05:19:57.012358Z"
    },
    "papermill": {
     "duration": 0.003822,
     "end_time": "2024-12-08T05:19:57.013087",
     "exception": false,
     "start_time": "2024-12-08T05:19:57.009265",
     "status": "completed"
    },
    "tags": []
   },
   "outputs": [],
   "source": [
    "split_root = Path(\"data-split\")\n",
    "split_dir = split_root / dataset"
   ]
  },
  {
   "cell_type": "code",
   "execution_count": 12,
   "id": "bbd3075e",
   "metadata": {
    "execution": {
     "iopub.execute_input": "2024-12-08T05:19:57.016012Z",
     "iopub.status.busy": "2024-12-08T05:19:57.015941Z",
     "iopub.status.idle": "2024-12-08T05:20:06.583431Z",
     "shell.execute_reply": "2024-12-08T05:20:06.583049Z"
    },
    "papermill": {
     "duration": 9.569841,
     "end_time": "2024-12-08T05:20:06.584179",
     "exception": false,
     "start_time": "2024-12-08T05:19:57.014338",
     "status": "completed"
    },
    "tags": []
   },
   "outputs": [],
   "source": [
    "test = ItemListCollection(UserIDKey)\n",
    "for file in split_dir.glob(\"test-*.parquet\"):\n",
    "    df = pd.read_parquet(file)\n",
    "    test.add_from(ItemListCollection.from_df(df, UserIDKey))"
   ]
  },
  {
   "cell_type": "markdown",
   "id": "d1cc45f7",
   "metadata": {
    "papermill": {
     "duration": 0.001374,
     "end_time": "2024-12-08T05:20:06.587106",
     "exception": false,
     "start_time": "2024-12-08T05:20:06.585732",
     "status": "completed"
    },
    "tags": []
   },
   "source": [
    "## Top-N Metrics\n",
    "\n",
    "`RunListAnalysis` computes metrics for recommendation results and takes care of\n",
    "matching recommendations and ground truth."
   ]
  },
  {
   "cell_type": "code",
   "execution_count": 13,
   "id": "5cc74039",
   "metadata": {
    "execution": {
     "iopub.execute_input": "2024-12-08T05:20:06.590310Z",
     "iopub.status.busy": "2024-12-08T05:20:06.590222Z",
     "iopub.status.idle": "2024-12-08T05:20:38.525253Z",
     "shell.execute_reply": "2024-12-08T05:20:38.524925Z"
    },
    "papermill": {
     "duration": 31.93829,
     "end_time": "2024-12-08T05:20:38.526648",
     "exception": false,
     "start_time": "2024-12-08T05:20:06.588358",
     "status": "completed"
    },
    "tags": []
   },
   "outputs": [
    {
     "name": "stderr",
     "output_type": "stream",
     "text": [
      "/home/mde48/lenskit/lkpy/lenskit/lenskit/metrics/bulk.py:116: FutureWarning: The previous implementation of stack is deprecated and will be removed in a future version of pandas. See the What's New notes for pandas 2.1.0 for details. Specify future_stack=True to adopt the new implementation and silence this warning.\n",
      "  df = scores.groupby(list(keys)).agg([\"mean\", \"median\", \"std\"]).stack(level=0)\n"
     ]
    },
    {
     "data": {
      "text/html": [
       "<div>\n",
       "<style scoped>\n",
       "    .dataframe tbody tr th:only-of-type {\n",
       "        vertical-align: middle;\n",
       "    }\n",
       "\n",
       "    .dataframe tbody tr th {\n",
       "        vertical-align: top;\n",
       "    }\n",
       "\n",
       "    .dataframe thead th {\n",
       "        text-align: right;\n",
       "    }\n",
       "</style>\n",
       "<table border=\"1\" class=\"dataframe\">\n",
       "  <thead>\n",
       "    <tr style=\"text-align: right;\">\n",
       "      <th></th>\n",
       "      <th></th>\n",
       "      <th>mean</th>\n",
       "      <th>median</th>\n",
       "      <th>std</th>\n",
       "    </tr>\n",
       "    <tr>\n",
       "      <th>model</th>\n",
       "      <th></th>\n",
       "      <th></th>\n",
       "      <th></th>\n",
       "      <th></th>\n",
       "    </tr>\n",
       "  </thead>\n",
       "  <tbody>\n",
       "    <tr>\n",
       "      <th rowspan=\"3\" valign=\"top\">ALS</th>\n",
       "      <th>NDCG</th>\n",
       "      <td>0.038216</td>\n",
       "      <td>0.000000e+00</td>\n",
       "      <td>0.075065</td>\n",
       "    </tr>\n",
       "    <tr>\n",
       "      <th>RBP</th>\n",
       "      <td>0.017646</td>\n",
       "      <td>0.000000e+00</td>\n",
       "      <td>0.080255</td>\n",
       "    </tr>\n",
       "    <tr>\n",
       "      <th>RecipRank</th>\n",
       "      <td>0.050246</td>\n",
       "      <td>0.000000e+00</td>\n",
       "      <td>0.159775</td>\n",
       "    </tr>\n",
       "    <tr>\n",
       "      <th rowspan=\"3\" valign=\"top\">Bias</th>\n",
       "      <th>NDCG</th>\n",
       "      <td>0.043227</td>\n",
       "      <td>0.000000e+00</td>\n",
       "      <td>0.085239</td>\n",
       "    </tr>\n",
       "    <tr>\n",
       "      <th>RBP</th>\n",
       "      <td>0.029255</td>\n",
       "      <td>0.000000e+00</td>\n",
       "      <td>0.107693</td>\n",
       "    </tr>\n",
       "    <tr>\n",
       "      <th>RecipRank</th>\n",
       "      <td>0.068840</td>\n",
       "      <td>0.000000e+00</td>\n",
       "      <td>0.210294</td>\n",
       "    </tr>\n",
       "    <tr>\n",
       "      <th rowspan=\"3\" valign=\"top\">IALS</th>\n",
       "      <th>NDCG</th>\n",
       "      <td>0.285566</td>\n",
       "      <td>2.385986e-01</td>\n",
       "      <td>0.205206</td>\n",
       "    </tr>\n",
       "    <tr>\n",
       "      <th>RBP</th>\n",
       "      <td>0.129736</td>\n",
       "      <td>3.913879e-03</td>\n",
       "      <td>0.218036</td>\n",
       "    </tr>\n",
       "    <tr>\n",
       "      <th>RecipRank</th>\n",
       "      <td>0.274766</td>\n",
       "      <td>1.250000e-01</td>\n",
       "      <td>0.328148</td>\n",
       "    </tr>\n",
       "    <tr>\n",
       "      <th rowspan=\"3\" valign=\"top\">IIE</th>\n",
       "      <th>NDCG</th>\n",
       "      <td>0.008300</td>\n",
       "      <td>0.000000e+00</td>\n",
       "      <td>0.024377</td>\n",
       "    </tr>\n",
       "    <tr>\n",
       "      <th>RBP</th>\n",
       "      <td>0.000207</td>\n",
       "      <td>0.000000e+00</td>\n",
       "      <td>0.007187</td>\n",
       "    </tr>\n",
       "    <tr>\n",
       "      <th>RecipRank</th>\n",
       "      <td>0.004205</td>\n",
       "      <td>0.000000e+00</td>\n",
       "      <td>0.020607</td>\n",
       "    </tr>\n",
       "    <tr>\n",
       "      <th rowspan=\"3\" valign=\"top\">III</th>\n",
       "      <th>NDCG</th>\n",
       "      <td>0.245048</td>\n",
       "      <td>1.736796e-01</td>\n",
       "      <td>0.221260</td>\n",
       "    </tr>\n",
       "    <tr>\n",
       "      <th>RBP</th>\n",
       "      <td>0.158682</td>\n",
       "      <td>1.953125e-03</td>\n",
       "      <td>0.245553</td>\n",
       "    </tr>\n",
       "    <tr>\n",
       "      <th>RecipRank</th>\n",
       "      <td>0.308449</td>\n",
       "      <td>1.111111e-01</td>\n",
       "      <td>0.374972</td>\n",
       "    </tr>\n",
       "    <tr>\n",
       "      <th rowspan=\"3\" valign=\"top\">Pop</th>\n",
       "      <th>NDCG</th>\n",
       "      <td>0.152604</td>\n",
       "      <td>9.991295e-02</td>\n",
       "      <td>0.162863</td>\n",
       "    </tr>\n",
       "    <tr>\n",
       "      <th>RBP</th>\n",
       "      <td>0.075644</td>\n",
       "      <td>1.192093e-07</td>\n",
       "      <td>0.170703</td>\n",
       "    </tr>\n",
       "    <tr>\n",
       "      <th>RecipRank</th>\n",
       "      <td>0.176635</td>\n",
       "      <td>4.347826e-02</td>\n",
       "      <td>0.292454</td>\n",
       "    </tr>\n",
       "    <tr>\n",
       "      <th rowspan=\"3\" valign=\"top\">UUE</th>\n",
       "      <th>NDCG</th>\n",
       "      <td>0.009965</td>\n",
       "      <td>0.000000e+00</td>\n",
       "      <td>0.023241</td>\n",
       "    </tr>\n",
       "    <tr>\n",
       "      <th>RBP</th>\n",
       "      <td>0.000038</td>\n",
       "      <td>0.000000e+00</td>\n",
       "      <td>0.001660</td>\n",
       "    </tr>\n",
       "    <tr>\n",
       "      <th>RecipRank</th>\n",
       "      <td>0.004231</td>\n",
       "      <td>0.000000e+00</td>\n",
       "      <td>0.012872</td>\n",
       "    </tr>\n",
       "  </tbody>\n",
       "</table>\n",
       "</div>"
      ],
      "text/plain": [
       "                     mean        median       std\n",
       "model                                            \n",
       "ALS   NDCG       0.038216  0.000000e+00  0.075065\n",
       "      RBP        0.017646  0.000000e+00  0.080255\n",
       "      RecipRank  0.050246  0.000000e+00  0.159775\n",
       "Bias  NDCG       0.043227  0.000000e+00  0.085239\n",
       "      RBP        0.029255  0.000000e+00  0.107693\n",
       "      RecipRank  0.068840  0.000000e+00  0.210294\n",
       "IALS  NDCG       0.285566  2.385986e-01  0.205206\n",
       "      RBP        0.129736  3.913879e-03  0.218036\n",
       "      RecipRank  0.274766  1.250000e-01  0.328148\n",
       "IIE   NDCG       0.008300  0.000000e+00  0.024377\n",
       "      RBP        0.000207  0.000000e+00  0.007187\n",
       "      RecipRank  0.004205  0.000000e+00  0.020607\n",
       "III   NDCG       0.245048  1.736796e-01  0.221260\n",
       "      RBP        0.158682  1.953125e-03  0.245553\n",
       "      RecipRank  0.308449  1.111111e-01  0.374972\n",
       "Pop   NDCG       0.152604  9.991295e-02  0.162863\n",
       "      RBP        0.075644  1.192093e-07  0.170703\n",
       "      RecipRank  0.176635  4.347826e-02  0.292454\n",
       "UUE   NDCG       0.009965  0.000000e+00  0.023241\n",
       "      RBP        0.000038  0.000000e+00  0.001660\n",
       "      RecipRank  0.004231  0.000000e+00  0.012872"
      ]
     },
     "execution_count": 13,
     "metadata": {},
     "output_type": "execute_result"
    }
   ],
   "source": [
    "ra = RunAnalysis()\n",
    "\n",
    "ra.add_metric(NDCG())\n",
    "ra.add_metric(RecipRank())\n",
    "ra.add_metric(RBP())\n",
    "\n",
    "rec_results = ra.compute(recs, test)\n",
    "rec_results.list_summary('model')"
   ]
  },
  {
   "cell_type": "markdown",
   "id": "b17ba3e5",
   "metadata": {
    "papermill": {
     "duration": 0.001419,
     "end_time": "2024-12-08T05:20:38.536752",
     "exception": false,
     "start_time": "2024-12-08T05:20:38.535333",
     "status": "completed"
    },
    "tags": []
   },
   "source": [
    "We can reshape the list metrics and plot them:"
   ]
  },
  {
   "cell_type": "code",
   "execution_count": 14,
   "id": "5c479b59",
   "metadata": {
    "execution": {
     "iopub.execute_input": "2024-12-08T05:20:38.540065Z",
     "iopub.status.busy": "2024-12-08T05:20:38.539981Z",
     "iopub.status.idle": "2024-12-08T05:20:43.978631Z",
     "shell.execute_reply": "2024-12-08T05:20:43.978136Z"
    },
    "papermill": {
     "duration": 5.44112,
     "end_time": "2024-12-08T05:20:43.979272",
     "exception": false,
     "start_time": "2024-12-08T05:20:38.538152",
     "status": "completed"
    },
    "tags": []
   },
   "outputs": [
    {
     "data": {
      "image/png": "[encoded data removed]",
      "text/plain": [
       "<Figure size 1511.11x500 with 3 Axes>"
      ]
     },
     "metadata": {},
     "output_type": "display_data"
    }
   ],
   "source": [
    "metrics = rec_results.list_metrics()\n",
    "metrics = metrics.melt(var_name='metric', ignore_index=False).reset_index()\n",
    "sns.catplot(metrics, x='model', y='value', col='metric', kind='bar')\n",
    "plt.show()"
   ]
  },
  {
   "cell_type": "markdown",
   "id": "904ccd24",
   "metadata": {
    "papermill": {
     "duration": 0.018685,
     "end_time": "2024-12-08T05:20:43.999620",
     "exception": false,
     "start_time": "2024-12-08T05:20:43.980935",
     "status": "completed"
    },
    "tags": []
   },
   "source": [
    "## Prediction RMSE\n",
    "\n",
    "We will also look at the prediction RMSE."
   ]
  },
  {
   "cell_type": "code",
   "execution_count": 15,
   "id": "ca056d28",
   "metadata": {
    "execution": {
     "iopub.execute_input": "2024-12-08T05:20:44.003237Z",
     "iopub.status.busy": "2024-12-08T05:20:44.003114Z",
     "iopub.status.idle": "2024-12-08T05:22:17.812944Z",
     "shell.execute_reply": "2024-12-08T05:22:17.812787Z"
    },
    "papermill": {
     "duration": 93.813807,
     "end_time": "2024-12-08T05:22:17.814986",
     "exception": false,
     "start_time": "2024-12-08T05:20:44.001179",
     "status": "completed"
    },
    "tags": []
   },
   "outputs": [
    {
     "name": "stderr",
     "output_type": "stream",
     "text": [
      "/home/mde48/lenskit/lkpy/lenskit/lenskit/metrics/bulk.py:116: FutureWarning: The previous implementation of stack is deprecated and will be removed in a future version of pandas. See the What's New notes for pandas 2.1.0 for details. Specify future_stack=True to adopt the new implementation and silence this warning.\n",
      "  df = scores.groupby(list(keys)).agg([\"mean\", \"median\", \"std\"]).stack(level=0)\n"
     ]
    },
    {
     "data": {
      "text/html": [
       "<div>\n",
       "<style scoped>\n",
       "    .dataframe tbody tr th:only-of-type {\n",
       "        vertical-align: middle;\n",
       "    }\n",
       "\n",
       "    .dataframe tbody tr th {\n",
       "        vertical-align: top;\n",
       "    }\n",
       "\n",
       "    .dataframe thead th {\n",
       "        text-align: right;\n",
       "    }\n",
       "</style>\n",
       "<table border=\"1\" class=\"dataframe\">\n",
       "  <thead>\n",
       "    <tr style=\"text-align: right;\">\n",
       "      <th></th>\n",
       "      <th></th>\n",
       "      <th>mean</th>\n",
       "      <th>median</th>\n",
       "      <th>std</th>\n",
       "    </tr>\n",
       "    <tr>\n",
       "      <th>model</th>\n",
       "      <th></th>\n",
       "      <th></th>\n",
       "      <th></th>\n",
       "      <th></th>\n",
       "    </tr>\n",
       "  </thead>\n",
       "  <tbody>\n",
       "    <tr>\n",
       "      <th>ALS</th>\n",
       "      <th>RMSE</th>\n",
       "      <td>0.789466</td>\n",
       "      <td>0.736695</td>\n",
       "      <td>0.333086</td>\n",
       "    </tr>\n",
       "    <tr>\n",
       "      <th>Bias</th>\n",
       "      <th>RMSE</th>\n",
       "      <td>0.832844</td>\n",
       "      <td>0.779487</td>\n",
       "      <td>0.347313</td>\n",
       "    </tr>\n",
       "    <tr>\n",
       "      <th>IIE</th>\n",
       "      <th>RMSE</th>\n",
       "      <td>0.777402</td>\n",
       "      <td>0.725244</td>\n",
       "      <td>0.333224</td>\n",
       "    </tr>\n",
       "    <tr>\n",
       "      <th>UUE</th>\n",
       "      <th>RMSE</th>\n",
       "      <td>0.803166</td>\n",
       "      <td>0.750478</td>\n",
       "      <td>0.341269</td>\n",
       "    </tr>\n",
       "  </tbody>\n",
       "</table>\n",
       "</div>"
      ],
      "text/plain": [
       "                mean    median       std\n",
       "model                                   \n",
       "ALS   RMSE  0.789466  0.736695  0.333086\n",
       "Bias  RMSE  0.832844  0.779487  0.347313\n",
       "IIE   RMSE  0.777402  0.725244  0.333224\n",
       "UUE   RMSE  0.803166  0.750478  0.341269"
      ]
     },
     "execution_count": 15,
     "metadata": {},
     "output_type": "execute_result"
    }
   ],
   "source": [
    "pa = RunAnalysis()\n",
    "\n",
    "pa.add_metric(RMSE(missing_scores='ignore', missing_truth='ignore'))\n",
    "\n",
    "pred_results = pa.compute(preds, test)\n",
    "pred_results.list_summary('model')"
   ]
  },
  {
   "cell_type": "code",
   "execution_count": 16,
   "id": "0626a38e",
   "metadata": {
    "execution": {
     "iopub.execute_input": "2024-12-08T05:22:17.826131Z",
     "iopub.status.busy": "2024-12-08T05:22:17.826047Z",
     "iopub.status.idle": "2024-12-08T05:22:18.816541Z",
     "shell.execute_reply": "2024-12-08T05:22:18.816367Z"
    },
    "papermill": {
     "duration": 0.993141,
     "end_time": "2024-12-08T05:22:18.817061",
     "exception": false,
     "start_time": "2024-12-08T05:22:17.823920",
     "status": "completed"
    },
    "tags": []
   },
   "outputs": [
    {
     "data": {
      "image/png": "[encoded data removed]",
      "text/plain": [
       "<Figure size 511.111x500 with 1 Axes>"
      ]
     },
     "metadata": {},
     "output_type": "display_data"
    }
   ],
   "source": [
    "sns.catplot(pred_results.list_metrics().reset_index(), x='model', y='RMSE', kind='bar')\n",
    "plt.show()"
   ]
  },
  {
   "cell_type": "markdown",
   "id": "c635bf68",
   "metadata": {
    "papermill": {
     "duration": 0.00915,
     "end_time": "2024-12-08T05:22:18.827993",
     "exception": false,
     "start_time": "2024-12-08T05:22:18.818843",
     "status": "completed"
    },
    "tags": []
   },
   "source": [
    "## Save Metrics\n",
    "\n",
    "We'll now save the metrics to a file."
   ]
  },
  {
   "cell_type": "code",
   "execution_count": 17,
   "id": "d1d7f624",
   "metadata": {
    "execution": {
     "iopub.execute_input": "2024-12-08T05:22:18.831929Z",
     "iopub.status.busy": "2024-12-08T05:22:18.831836Z",
     "iopub.status.idle": "2024-12-08T05:22:18.874167Z",
     "shell.execute_reply": "2024-12-08T05:22:18.873990Z"
    },
    "papermill": {
     "duration": 0.044946,
     "end_time": "2024-12-08T05:22:18.874528",
     "exception": false,
     "start_time": "2024-12-08T05:22:18.829582",
     "status": "completed"
    },
    "tags": []
   },
   "outputs": [
    {
     "name": "stderr",
     "output_type": "stream",
     "text": [
      "/home/mde48/lenskit/lkpy/lenskit/lenskit/metrics/bulk.py:116: FutureWarning: The previous implementation of stack is deprecated and will be removed in a future version of pandas. See the What's New notes for pandas 2.1.0 for details. Specify future_stack=True to adopt the new implementation and silence this warning.\n",
      "  df = scores.groupby(list(keys)).agg([\"mean\", \"median\", \"std\"]).stack(level=0)\n"
     ]
    },
    {
     "data": {
      "text/html": [
       "<div>\n",
       "<style scoped>\n",
       "    .dataframe tbody tr th:only-of-type {\n",
       "        vertical-align: middle;\n",
       "    }\n",
       "\n",
       "    .dataframe tbody tr th {\n",
       "        vertical-align: top;\n",
       "    }\n",
       "\n",
       "    .dataframe thead th {\n",
       "        text-align: right;\n",
       "    }\n",
       "</style>\n",
       "<table border=\"1\" class=\"dataframe\">\n",
       "  <thead>\n",
       "    <tr style=\"text-align: right;\">\n",
       "      <th></th>\n",
       "      <th>NDCG</th>\n",
       "      <th>RBP</th>\n",
       "      <th>RecipRank</th>\n",
       "    </tr>\n",
       "    <tr>\n",
       "      <th>model</th>\n",
       "      <th></th>\n",
       "      <th></th>\n",
       "      <th></th>\n",
       "    </tr>\n",
       "  </thead>\n",
       "  <tbody>\n",
       "    <tr>\n",
       "      <th>ALS</th>\n",
       "      <td>0.038216</td>\n",
       "      <td>0.017646</td>\n",
       "      <td>0.050246</td>\n",
       "    </tr>\n",
       "    <tr>\n",
       "      <th>Bias</th>\n",
       "      <td>0.043227</td>\n",
       "      <td>0.029255</td>\n",
       "      <td>0.068840</td>\n",
       "    </tr>\n",
       "    <tr>\n",
       "      <th>IALS</th>\n",
       "      <td>0.285566</td>\n",
       "      <td>0.129736</td>\n",
       "      <td>0.274766</td>\n",
       "    </tr>\n",
       "    <tr>\n",
       "      <th>IIE</th>\n",
       "      <td>0.008300</td>\n",
       "      <td>0.000207</td>\n",
       "      <td>0.004205</td>\n",
       "    </tr>\n",
       "    <tr>\n",
       "      <th>III</th>\n",
       "      <td>0.245048</td>\n",
       "      <td>0.158682</td>\n",
       "      <td>0.308449</td>\n",
       "    </tr>\n",
       "    <tr>\n",
       "      <th>Pop</th>\n",
       "      <td>0.152604</td>\n",
       "      <td>0.075644</td>\n",
       "      <td>0.176635</td>\n",
       "    </tr>\n",
       "    <tr>\n",
       "      <th>UUE</th>\n",
       "      <td>0.009965</td>\n",
       "      <td>0.000038</td>\n",
       "      <td>0.004231</td>\n",
       "    </tr>\n",
       "  </tbody>\n",
       "</table>\n",
       "</div>"
      ],
      "text/plain": [
       "           NDCG       RBP  RecipRank\n",
       "model                               \n",
       "ALS    0.038216  0.017646   0.050246\n",
       "Bias   0.043227  0.029255   0.068840\n",
       "IALS   0.285566  0.129736   0.274766\n",
       "IIE    0.008300  0.000207   0.004205\n",
       "III    0.245048  0.158682   0.308449\n",
       "Pop    0.152604  0.075644   0.176635\n",
       "UUE    0.009965  0.000038   0.004231"
      ]
     },
     "execution_count": 17,
     "metadata": {},
     "output_type": "execute_result"
    }
   ],
   "source": [
    "rlsum = rec_results.list_summary('model')['mean'].unstack()\n",
    "rlsum"
   ]
  },
  {
   "cell_type": "code",
   "execution_count": 18,
   "id": "f564b364",
   "metadata": {
    "execution": {
     "iopub.execute_input": "2024-12-08T05:22:18.878514Z",
     "iopub.status.busy": "2024-12-08T05:22:18.878439Z",
     "iopub.status.idle": "2024-12-08T05:22:18.880880Z",
     "shell.execute_reply": "2024-12-08T05:22:18.880710Z"
    },
    "papermill": {
     "duration": 0.004879,
     "end_time": "2024-12-08T05:22:18.881204",
     "exception": false,
     "start_time": "2024-12-08T05:22:18.876325",
     "status": "completed"
    },
    "tags": []
   },
   "outputs": [],
   "source": [
    "rlsum.to_json(f'eval-metrics.{dataset}.json', orient='index')"
   ]
  }
 ],
 "metadata": {
  "jupytext": {
   "formats": "ipynb,md",
   "notebook_metadata_filter": "split_at_heading"
  },
  "kernelspec": {
   "display_name": "Python 3 (ipykernel)",
   "language": "python",
   "name": "python3"
  },
  "language_info": {
   "codemirror_mode": {
    "name": "ipython",
    "version": 3
   },
   "file_extension": ".py",
   "mimetype": "text/x-python",
   "name": "python",
   "nbconvert_exporter": "python",
   "pygments_lexer": "ipython3",
   "version": "3.12.7"
  },
  "papermill": {
   "default_parameters": {},
   "duration": 265.19527,
   "end_time": "2024-12-08T05:22:20.601433",
   "environment_variables": {},
   "exception": null,
   "input_path": "eval-report.ipynb",
   "output_path": "eval-report.ml10m.ipynb",
   "parameters": {
    "dataset": "ml10m"
   },
   "start_time": "2024-12-08T05:17:55.406163",
   "version": "2.6.0"
  },
  "split_at_heading": true
 },
 "nbformat": 4,
 "nbformat_minor": 5
}