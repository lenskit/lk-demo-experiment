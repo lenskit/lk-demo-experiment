{
 "cells": [
  {
   "cell_type": "markdown",
   "id": "93740f9f",
   "metadata": {
    "papermill": {
     "duration": 0.010543,
     "end_time": "2024-12-18T02:08:15.828129",
     "exception": false,
     "start_time": "2024-12-18T02:08:15.817586",
     "status": "completed"
    },
    "tags": []
   },
   "source": [
    "# Evaluation Analysis for Recommender Output"
   ]
  },
  {
   "cell_type": "markdown",
   "id": "678b1137",
   "metadata": {
    "papermill": {
     "duration": 0.001108,
     "end_time": "2024-12-18T02:08:15.830520",
     "exception": false,
     "start_time": "2024-12-18T02:08:15.829412",
     "status": "completed"
    },
    "tags": []
   },
   "source": [
    "In this section we will analyze and compare the generated recommendations and predictions from a predefined list of algorithms with the goal of assessing the performance of each algorithm with respect to a metric. In other words, we would rank the algorithms for each metric considered with respect to performance."
   ]
  },
  {
   "cell_type": "markdown",
   "id": "e1501de5",
   "metadata": {
    "papermill": {
     "duration": 0.001066,
     "end_time": "2024-12-18T02:08:15.832743",
     "exception": false,
     "start_time": "2024-12-18T02:08:15.831677",
     "status": "completed"
    },
    "tags": []
   },
   "source": [
    "## Setup"
   ]
  },
  {
   "cell_type": "markdown",
   "id": "78e0ea5a",
   "metadata": {
    "papermill": {
     "duration": 0.00104,
     "end_time": "2024-12-18T02:08:15.834883",
     "exception": false,
     "start_time": "2024-12-18T02:08:15.833843",
     "status": "completed"
    },
    "tags": []
   },
   "source": [
    "Below are the list of packages required to successfully run the analysis. They are divided into partitions to signify their specific task.<br>\n",
    "We need the pathlib package for working with files and folders"
   ]
  },
  {
   "cell_type": "code",
   "execution_count": 1,
   "id": "aa9b9024",
   "metadata": {
    "execution": {
     "iopub.execute_input": "2024-12-18T02:08:15.838018Z",
     "iopub.status.busy": "2024-12-18T02:08:15.837655Z",
     "iopub.status.idle": "2024-12-18T02:08:15.840005Z",
     "shell.execute_reply": "2024-12-18T02:08:15.839574Z"
    },
    "papermill": {
     "duration": 0.004598,
     "end_time": "2024-12-18T02:08:15.840535",
     "exception": false,
     "start_time": "2024-12-18T02:08:15.835937",
     "status": "completed"
    },
    "tags": []
   },
   "outputs": [],
   "source": [
    "from pathlib import Path\n",
    "import json"
   ]
  },
  {
   "cell_type": "markdown",
   "id": "4a21d11d",
   "metadata": {
    "papermill": {
     "duration": 0.00105,
     "end_time": "2024-12-18T02:08:15.842714",
     "exception": false,
     "start_time": "2024-12-18T02:08:15.841664",
     "status": "completed"
    },
    "tags": []
   },
   "source": [
    "We would use the pandas for analyzing and manipulating our data while seaborn and matplotlib are used for data visualization. statsmodels.graphics.gofplots and scipy.stats.shapiro are used for normality check. Scipy.stats.friedmanchisquare is a non-parametric test used to determine the statistical significance in metric results and the wilcoxon test is used for pairwise comparison of sample data."
   ]
  },
  {
   "cell_type": "code",
   "execution_count": 2,
   "id": "a72bade7",
   "metadata": {
    "execution": {
     "iopub.execute_input": "2024-12-18T02:08:15.845257Z",
     "iopub.status.busy": "2024-12-18T02:08:15.845182Z",
     "iopub.status.idle": "2024-12-18T02:08:16.302884Z",
     "shell.execute_reply": "2024-12-18T02:08:16.302454Z"
    },
    "lines_to_next_cell": 2,
    "papermill": {
     "duration": 0.459824,
     "end_time": "2024-12-18T02:08:16.303651",
     "exception": false,
     "start_time": "2024-12-18T02:08:15.843827",
     "status": "completed"
    },
    "tags": []
   },
   "outputs": [],
   "source": [
    "import pandas as pd\n",
    "import seaborn as sns\n",
    "import matplotlib.pyplot as plt\n",
    "from statsmodels.graphics.gofplots import qqplot\n",
    "from scipy.stats import shapiro\n",
    "from scipy.stats import friedmanchisquare, wilcoxon\n",
    "from itertools import combinations"
   ]
  },
  {
   "cell_type": "markdown",
   "id": "e3a36d16",
   "metadata": {
    "papermill": {
     "duration": 0.008751,
     "end_time": "2024-12-18T02:08:16.313778",
     "exception": false,
     "start_time": "2024-12-18T02:08:16.305027",
     "status": "completed"
    },
    "tags": []
   },
   "source": [
    "Import the LensKit metrics for analysis:"
   ]
  },
  {
   "cell_type": "code",
   "execution_count": 3,
   "id": "14187914",
   "metadata": {
    "execution": {
     "iopub.execute_input": "2024-12-18T02:08:16.316663Z",
     "iopub.status.busy": "2024-12-18T02:08:16.316546Z",
     "iopub.status.idle": "2024-12-18T02:08:16.948062Z",
     "shell.execute_reply": "2024-12-18T02:08:16.947542Z"
    },
    "papermill": {
     "duration": 0.633997,
     "end_time": "2024-12-18T02:08:16.948972",
     "exception": false,
     "start_time": "2024-12-18T02:08:16.314975",
     "status": "completed"
    },
    "tags": []
   },
   "outputs": [],
   "source": [
    "from lenskit.data import ItemListCollection, UserIDKey\n",
    "from lenskit.metrics import RunAnalysis, RMSE, NDCG, RecipRank, RBP"
   ]
  },
  {
   "cell_type": "markdown",
   "id": "8a2f1201",
   "metadata": {
    "papermill": {
     "duration": 0.009263,
     "end_time": "2024-12-18T02:08:16.959633",
     "exception": false,
     "start_time": "2024-12-18T02:08:16.950370",
     "status": "completed"
    },
    "tags": []
   },
   "source": [
    "## Load Data\n",
    "\n",
    "The recommendations are in `runs`, and we will need to reassemble the test data from `test`."
   ]
  },
  {
   "cell_type": "code",
   "execution_count": 4,
   "id": "322018fa",
   "metadata": {
    "execution": {
     "iopub.execute_input": "2024-12-18T02:08:16.962706Z",
     "iopub.status.busy": "2024-12-18T02:08:16.962615Z",
     "iopub.status.idle": "2024-12-18T02:08:16.964740Z",
     "shell.execute_reply": "2024-12-18T02:08:16.964324Z"
    },
    "papermill": {
     "duration": 0.004418,
     "end_time": "2024-12-18T02:08:16.965324",
     "exception": false,
     "start_time": "2024-12-18T02:08:16.960906",
     "status": "completed"
    },
    "tags": [
     "parameters"
    ]
   },
   "outputs": [],
   "source": [
    "dataset = \"ml100k\""
   ]
  },
  {
   "cell_type": "code",
   "execution_count": 5,
   "id": "4b8b1c2a",
   "metadata": {
    "execution": {
     "iopub.execute_input": "2024-12-18T02:08:16.968686Z",
     "iopub.status.busy": "2024-12-18T02:08:16.968569Z",
     "iopub.status.idle": "2024-12-18T02:08:16.970325Z",
     "shell.execute_reply": "2024-12-18T02:08:16.970049Z"
    },
    "papermill": {
     "duration": 0.004476,
     "end_time": "2024-12-18T02:08:16.970925",
     "exception": false,
     "start_time": "2024-12-18T02:08:16.966449",
     "status": "completed"
    },
    "tags": [
     "injected-parameters"
    ]
   },
   "outputs": [],
   "source": [
    "# Parameters\n",
    "dataset = \"ml10m\"\n"
   ]
  },
  {
   "cell_type": "code",
   "execution_count": 6,
   "id": "bcc16ac2",
   "metadata": {
    "execution": {
     "iopub.execute_input": "2024-12-18T02:08:16.974152Z",
     "iopub.status.busy": "2024-12-18T02:08:16.973946Z",
     "iopub.status.idle": "2024-12-18T02:08:16.975631Z",
     "shell.execute_reply": "2024-12-18T02:08:16.975365Z"
    },
    "papermill": {
     "duration": 0.004079,
     "end_time": "2024-12-18T02:08:16.976130",
     "exception": false,
     "start_time": "2024-12-18T02:08:16.972051",
     "status": "completed"
    },
    "tags": []
   },
   "outputs": [],
   "source": [
    "output_root = Path(\"runs\")"
   ]
  },
  {
   "cell_type": "code",
   "execution_count": 7,
   "id": "ceb1ee76",
   "metadata": {
    "execution": {
     "iopub.execute_input": "2024-12-18T02:08:16.978953Z",
     "iopub.status.busy": "2024-12-18T02:08:16.978735Z",
     "iopub.status.idle": "2024-12-18T02:08:16.981054Z",
     "shell.execute_reply": "2024-12-18T02:08:16.980747Z"
    },
    "papermill": {
     "duration": 0.004339,
     "end_time": "2024-12-18T02:08:16.981581",
     "exception": false,
     "start_time": "2024-12-18T02:08:16.977242",
     "status": "completed"
    },
    "tags": []
   },
   "outputs": [],
   "source": [
    "dirs = [fld for fld in output_root.glob(f'{dataset}-*')]"
   ]
  },
  {
   "cell_type": "code",
   "execution_count": 8,
   "id": "ba136ca4",
   "metadata": {
    "execution": {
     "iopub.execute_input": "2024-12-18T02:08:16.984812Z",
     "iopub.status.busy": "2024-12-18T02:08:16.984735Z",
     "iopub.status.idle": "2024-12-18T02:08:25.038598Z",
     "shell.execute_reply": "2024-12-18T02:08:25.038227Z"
    },
    "papermill": {
     "duration": 8.056841,
     "end_time": "2024-12-18T02:08:25.039571",
     "exception": false,
     "start_time": "2024-12-18T02:08:16.982730",
     "status": "completed"
    },
    "tags": []
   },
   "outputs": [],
   "source": [
    "recs = ItemListCollection(['model', 'user_id'], index=False)\n",
    "for fld in dirs:\n",
    "    for file in fld.glob(\"recs-*\"):\n",
    "        rec = ItemListCollection.load_parquet(file)\n",
    "        recs.add_from(rec, model=fld.name.split(\"-\")[1])"
   ]
  },
  {
   "cell_type": "code",
   "execution_count": 9,
   "id": "0a0716f7",
   "metadata": {
    "execution": {
     "iopub.execute_input": "2024-12-18T02:08:25.060662Z",
     "iopub.status.busy": "2024-12-18T02:08:25.060437Z",
     "iopub.status.idle": "2024-12-18T02:08:25.100834Z",
     "shell.execute_reply": "2024-12-18T02:08:25.100497Z"
    },
    "papermill": {
     "duration": 0.060385,
     "end_time": "2024-12-18T02:08:25.101404",
     "exception": false,
     "start_time": "2024-12-18T02:08:25.041019",
     "status": "completed"
    },
    "tags": []
   },
   "outputs": [
    {
     "data": {
      "text/plain": [
       "['ALS', 'Bias', 'IALS', 'IIE', 'III', 'Pop', 'UUE']"
      ]
     },
     "execution_count": 9,
     "metadata": {},
     "output_type": "execute_result"
    }
   ],
   "source": [
    "rec_algos = sorted(set(a for (a, _u) in recs.keys()))\n",
    "rec_algos"
   ]
  },
  {
   "cell_type": "code",
   "execution_count": 10,
   "id": "71d6c2ed",
   "metadata": {
    "execution": {
     "iopub.execute_input": "2024-12-18T02:08:25.104532Z",
     "iopub.status.busy": "2024-12-18T02:08:25.104441Z",
     "iopub.status.idle": "2024-12-18T02:08:32.120309Z",
     "shell.execute_reply": "2024-12-18T02:08:32.119859Z"
    },
    "papermill": {
     "duration": 7.018411,
     "end_time": "2024-12-18T02:08:32.121124",
     "exception": false,
     "start_time": "2024-12-18T02:08:25.102713",
     "status": "completed"
    },
    "tags": []
   },
   "outputs": [],
   "source": [
    "preds = ItemListCollection(['model', 'user_id'], index=False)\n",
    "for fld in dirs:\n",
    "    for file in fld.glob(\"pred-*\"):\n",
    "        pred = ItemListCollection.load_parquet(file)\n",
    "        preds.add_from(pred, model=fld.name.split(\"-\")[1])"
   ]
  },
  {
   "cell_type": "markdown",
   "id": "c1ffa3a5",
   "metadata": {
    "papermill": {
     "duration": 0.009211,
     "end_time": "2024-12-18T02:08:32.131850",
     "exception": false,
     "start_time": "2024-12-18T02:08:32.122639",
     "status": "completed"
    },
    "tags": []
   },
   "source": [
    "We need to load the test data so that we have the ground truths for computing accuracy"
   ]
  },
  {
   "cell_type": "code",
   "execution_count": 11,
   "id": "131e4d84",
   "metadata": {
    "execution": {
     "iopub.execute_input": "2024-12-18T02:08:32.135169Z",
     "iopub.status.busy": "2024-12-18T02:08:32.135034Z",
     "iopub.status.idle": "2024-12-18T02:08:32.136885Z",
     "shell.execute_reply": "2024-12-18T02:08:32.136618Z"
    },
    "papermill": {
     "duration": 0.004341,
     "end_time": "2024-12-18T02:08:32.137515",
     "exception": false,
     "start_time": "2024-12-18T02:08:32.133174",
     "status": "completed"
    },
    "tags": []
   },
   "outputs": [],
   "source": [
    "split_root = Path(\"data-split\")\n",
    "split_dir = split_root / dataset"
   ]
  },
  {
   "cell_type": "code",
   "execution_count": 12,
   "id": "c38bfbfc",
   "metadata": {
    "execution": {
     "iopub.execute_input": "2024-12-18T02:08:32.140285Z",
     "iopub.status.busy": "2024-12-18T02:08:32.140221Z",
     "iopub.status.idle": "2024-12-18T02:08:34.728225Z",
     "shell.execute_reply": "2024-12-18T02:08:34.727789Z"
    },
    "papermill": {
     "duration": 2.590324,
     "end_time": "2024-12-18T02:08:34.729061",
     "exception": false,
     "start_time": "2024-12-18T02:08:32.138737",
     "status": "completed"
    },
    "tags": []
   },
   "outputs": [],
   "source": [
    "test = ItemListCollection(UserIDKey)\n",
    "for file in split_dir.glob(\"test-*.parquet\"):\n",
    "    df = pd.read_parquet(file)\n",
    "    part = ItemListCollection.from_df(df, UserIDKey)\n",
    "    test.add_from(part)"
   ]
  },
  {
   "cell_type": "markdown",
   "id": "d33a9869",
   "metadata": {
    "papermill": {
     "duration": 0.009001,
     "end_time": "2024-12-18T02:08:34.739615",
     "exception": false,
     "start_time": "2024-12-18T02:08:34.730614",
     "status": "completed"
    },
    "tags": []
   },
   "source": [
    "## Top-N Metrics\n",
    "\n",
    "`RunListAnalysis` computes metrics for recommendation results and takes care of\n",
    "matching recommendations and ground truth."
   ]
  },
  {
   "cell_type": "code",
   "execution_count": 13,
   "id": "d648b629",
   "metadata": {
    "execution": {
     "iopub.execute_input": "2024-12-18T02:08:34.742916Z",
     "iopub.status.busy": "2024-12-18T02:08:34.742826Z",
     "iopub.status.idle": "2024-12-18T02:09:06.062259Z",
     "shell.execute_reply": "2024-12-18T02:09:06.062095Z"
    },
    "papermill": {
     "duration": 31.32328,
     "end_time": "2024-12-18T02:09:06.064201",
     "exception": false,
     "start_time": "2024-12-18T02:08:34.740921",
     "status": "completed"
    },
    "tags": []
   },
   "outputs": [
    {
     "name": "stderr",
     "output_type": "stream",
     "text": [
      "/home/mde48/lenskit/lk-demo-experiment/.venv/lib/python3.12/site-packages/lenskit/metrics/bulk.py:121: FutureWarning: The previous implementation of stack is deprecated and will be removed in a future version of pandas. See the What's New notes for pandas 2.1.0 for details. Specify future_stack=True to adopt the new implementation and silence this warning.\n",
      "  df = scores.groupby(list(keys)).agg([\"mean\", \"median\", \"std\"]).stack(level=0)\n"
     ]
    },
    {
     "data": {
      "text/html": [
       "<div>\n",
       "<style scoped>\n",
       "    .dataframe tbody tr th:only-of-type {\n",
       "        vertical-align: middle;\n",
       "    }\n",
       "\n",
       "    .dataframe tbody tr th {\n",
       "        vertical-align: top;\n",
       "    }\n",
       "\n",
       "    .dataframe thead th {\n",
       "        text-align: right;\n",
       "    }\n",
       "</style>\n",
       "<table border=\"1\" class=\"dataframe\">\n",
       "  <thead>\n",
       "    <tr style=\"text-align: right;\">\n",
       "      <th></th>\n",
       "      <th></th>\n",
       "      <th>mean</th>\n",
       "      <th>median</th>\n",
       "      <th>std</th>\n",
       "    </tr>\n",
       "    <tr>\n",
       "      <th>model</th>\n",
       "      <th></th>\n",
       "      <th></th>\n",
       "      <th></th>\n",
       "      <th></th>\n",
       "    </tr>\n",
       "  </thead>\n",
       "  <tbody>\n",
       "    <tr>\n",
       "      <th rowspan=\"3\" valign=\"top\">ALS</th>\n",
       "      <th>NDCG</th>\n",
       "      <td>0.038598</td>\n",
       "      <td>0.000000e+00</td>\n",
       "      <td>0.074995</td>\n",
       "    </tr>\n",
       "    <tr>\n",
       "      <th>RBP</th>\n",
       "      <td>0.017376</td>\n",
       "      <td>0.000000e+00</td>\n",
       "      <td>0.079439</td>\n",
       "    </tr>\n",
       "    <tr>\n",
       "      <th>RecipRank</th>\n",
       "      <td>0.049909</td>\n",
       "      <td>0.000000e+00</td>\n",
       "      <td>0.157868</td>\n",
       "    </tr>\n",
       "    <tr>\n",
       "      <th rowspan=\"3\" valign=\"top\">Bias</th>\n",
       "      <th>NDCG</th>\n",
       "      <td>0.043546</td>\n",
       "      <td>0.000000e+00</td>\n",
       "      <td>0.084652</td>\n",
       "    </tr>\n",
       "    <tr>\n",
       "      <th>RBP</th>\n",
       "      <td>0.029159</td>\n",
       "      <td>0.000000e+00</td>\n",
       "      <td>0.107172</td>\n",
       "    </tr>\n",
       "    <tr>\n",
       "      <th>RecipRank</th>\n",
       "      <td>0.069021</td>\n",
       "      <td>0.000000e+00</td>\n",
       "      <td>0.209927</td>\n",
       "    </tr>\n",
       "    <tr>\n",
       "      <th rowspan=\"3\" valign=\"top\">IALS</th>\n",
       "      <th>NDCG</th>\n",
       "      <td>0.285568</td>\n",
       "      <td>2.384417e-01</td>\n",
       "      <td>0.205483</td>\n",
       "    </tr>\n",
       "    <tr>\n",
       "      <th>RBP</th>\n",
       "      <td>0.130026</td>\n",
       "      <td>3.907204e-03</td>\n",
       "      <td>0.218684</td>\n",
       "    </tr>\n",
       "    <tr>\n",
       "      <th>RecipRank</th>\n",
       "      <td>0.274714</td>\n",
       "      <td>1.250000e-01</td>\n",
       "      <td>0.328592</td>\n",
       "    </tr>\n",
       "    <tr>\n",
       "      <th rowspan=\"3\" valign=\"top\">IIE</th>\n",
       "      <th>NDCG</th>\n",
       "      <td>0.008402</td>\n",
       "      <td>0.000000e+00</td>\n",
       "      <td>0.024843</td>\n",
       "    </tr>\n",
       "    <tr>\n",
       "      <th>RBP</th>\n",
       "      <td>0.000216</td>\n",
       "      <td>0.000000e+00</td>\n",
       "      <td>0.006548</td>\n",
       "    </tr>\n",
       "    <tr>\n",
       "      <th>RecipRank</th>\n",
       "      <td>0.004263</td>\n",
       "      <td>0.000000e+00</td>\n",
       "      <td>0.019965</td>\n",
       "    </tr>\n",
       "    <tr>\n",
       "      <th rowspan=\"3\" valign=\"top\">III</th>\n",
       "      <th>NDCG</th>\n",
       "      <td>0.246125</td>\n",
       "      <td>1.752308e-01</td>\n",
       "      <td>0.221216</td>\n",
       "    </tr>\n",
       "    <tr>\n",
       "      <th>RBP</th>\n",
       "      <td>0.159018</td>\n",
       "      <td>1.954440e-03</td>\n",
       "      <td>0.245992</td>\n",
       "    </tr>\n",
       "    <tr>\n",
       "      <th>RecipRank</th>\n",
       "      <td>0.309141</td>\n",
       "      <td>1.111111e-01</td>\n",
       "      <td>0.374461</td>\n",
       "    </tr>\n",
       "    <tr>\n",
       "      <th rowspan=\"3\" valign=\"top\">Pop</th>\n",
       "      <th>NDCG</th>\n",
       "      <td>0.153792</td>\n",
       "      <td>1.000131e-01</td>\n",
       "      <td>0.163144</td>\n",
       "    </tr>\n",
       "    <tr>\n",
       "      <th>RBP</th>\n",
       "      <td>0.076449</td>\n",
       "      <td>2.384186e-07</td>\n",
       "      <td>0.171651</td>\n",
       "    </tr>\n",
       "    <tr>\n",
       "      <th>RecipRank</th>\n",
       "      <td>0.178469</td>\n",
       "      <td>4.545455e-02</td>\n",
       "      <td>0.294051</td>\n",
       "    </tr>\n",
       "    <tr>\n",
       "      <th rowspan=\"3\" valign=\"top\">UUE</th>\n",
       "      <th>NDCG</th>\n",
       "      <td>0.010010</td>\n",
       "      <td>0.000000e+00</td>\n",
       "      <td>0.023468</td>\n",
       "    </tr>\n",
       "    <tr>\n",
       "      <th>RBP</th>\n",
       "      <td>0.000040</td>\n",
       "      <td>0.000000e+00</td>\n",
       "      <td>0.001857</td>\n",
       "    </tr>\n",
       "    <tr>\n",
       "      <th>RecipRank</th>\n",
       "      <td>0.004255</td>\n",
       "      <td>0.000000e+00</td>\n",
       "      <td>0.013029</td>\n",
       "    </tr>\n",
       "  </tbody>\n",
       "</table>\n",
       "</div>"
      ],
      "text/plain": [
       "                     mean        median       std\n",
       "model                                            \n",
       "ALS   NDCG       0.038598  0.000000e+00  0.074995\n",
       "      RBP        0.017376  0.000000e+00  0.079439\n",
       "      RecipRank  0.049909  0.000000e+00  0.157868\n",
       "Bias  NDCG       0.043546  0.000000e+00  0.084652\n",
       "      RBP        0.029159  0.000000e+00  0.107172\n",
       "      RecipRank  0.069021  0.000000e+00  0.209927\n",
       "IALS  NDCG       0.285568  2.384417e-01  0.205483\n",
       "      RBP        0.130026  3.907204e-03  0.218684\n",
       "      RecipRank  0.274714  1.250000e-01  0.328592\n",
       "IIE   NDCG       0.008402  0.000000e+00  0.024843\n",
       "      RBP        0.000216  0.000000e+00  0.006548\n",
       "      RecipRank  0.004263  0.000000e+00  0.019965\n",
       "III   NDCG       0.246125  1.752308e-01  0.221216\n",
       "      RBP        0.159018  1.954440e-03  0.245992\n",
       "      RecipRank  0.309141  1.111111e-01  0.374461\n",
       "Pop   NDCG       0.153792  1.000131e-01  0.163144\n",
       "      RBP        0.076449  2.384186e-07  0.171651\n",
       "      RecipRank  0.178469  4.545455e-02  0.294051\n",
       "UUE   NDCG       0.010010  0.000000e+00  0.023468\n",
       "      RBP        0.000040  0.000000e+00  0.001857\n",
       "      RecipRank  0.004255  0.000000e+00  0.013029"
      ]
     },
     "execution_count": 13,
     "metadata": {},
     "output_type": "execute_result"
    }
   ],
   "source": [
    "ra = RunAnalysis()\n",
    "\n",
    "ra.add_metric(NDCG())\n",
    "ra.add_metric(RecipRank())\n",
    "ra.add_metric(RBP())\n",
    "\n",
    "rec_results = ra.compute(recs, test)\n",
    "rec_results.list_summary('model')"
   ]
  },
  {
   "cell_type": "markdown",
   "id": "f8842c48",
   "metadata": {
    "papermill": {
     "duration": 0.001414,
     "end_time": "2024-12-18T02:09:06.074034",
     "exception": false,
     "start_time": "2024-12-18T02:09:06.072620",
     "status": "completed"
    },
    "tags": []
   },
   "source": [
    "We can reshape the list metrics and plot them:"
   ]
  },
  {
   "cell_type": "code",
   "execution_count": 14,
   "id": "11308253",
   "metadata": {
    "execution": {
     "iopub.execute_input": "2024-12-18T02:09:06.077283Z",
     "iopub.status.busy": "2024-12-18T02:09:06.077203Z",
     "iopub.status.idle": "2024-12-18T02:09:10.214937Z",
     "shell.execute_reply": "2024-12-18T02:09:10.214529Z"
    },
    "papermill": {
     "duration": 4.1402,
     "end_time": "2024-12-18T02:09:10.215592",
     "exception": false,
     "start_time": "2024-12-18T02:09:06.075392",
     "status": "completed"
    },
    "tags": []
   },
   "outputs": [
    {
     "data": {
      "image/png": "[encoded data removed]",
      "text/plain": [
       "<Figure size 1511.11x500 with 3 Axes>"
      ]
     },
     "metadata": {},
     "output_type": "display_data"
    }
   ],
   "source": [
    "metrics = rec_results.list_metrics()\n",
    "metrics = metrics.melt(var_name='metric', ignore_index=False).reset_index()\n",
    "sns.catplot(metrics, x='model', y='value', col='metric', kind='bar')\n",
    "plt.show()"
   ]
  },
  {
   "cell_type": "markdown",
   "id": "ed2b7ce3",
   "metadata": {
    "papermill": {
     "duration": 0.008997,
     "end_time": "2024-12-18T02:09:10.226336",
     "exception": false,
     "start_time": "2024-12-18T02:09:10.217339",
     "status": "completed"
    },
    "tags": []
   },
   "source": [
    "## Prediction RMSE\n",
    "\n",
    "We will also look at the prediction RMSE."
   ]
  },
  {
   "cell_type": "code",
   "execution_count": 15,
   "id": "fb241eec",
   "metadata": {
    "execution": {
     "iopub.execute_input": "2024-12-18T02:09:10.229807Z",
     "iopub.status.busy": "2024-12-18T02:09:10.229714Z",
     "iopub.status.idle": "2024-12-18T02:09:50.067526Z",
     "shell.execute_reply": "2024-12-18T02:09:50.067340Z"
    },
    "papermill": {
     "duration": 39.84187,
     "end_time": "2024-12-18T02:09:50.069678",
     "exception": false,
     "start_time": "2024-12-18T02:09:10.227808",
     "status": "completed"
    },
    "tags": []
   },
   "outputs": [
    {
     "name": "stderr",
     "output_type": "stream",
     "text": [
      "/home/mde48/lenskit/lk-demo-experiment/.venv/lib/python3.12/site-packages/lenskit/metrics/bulk.py:121: FutureWarning: The previous implementation of stack is deprecated and will be removed in a future version of pandas. See the What's New notes for pandas 2.1.0 for details. Specify future_stack=True to adopt the new implementation and silence this warning.\n",
      "  df = scores.groupby(list(keys)).agg([\"mean\", \"median\", \"std\"]).stack(level=0)\n"
     ]
    },
    {
     "data": {
      "text/html": [
       "<div>\n",
       "<style scoped>\n",
       "    .dataframe tbody tr th:only-of-type {\n",
       "        vertical-align: middle;\n",
       "    }\n",
       "\n",
       "    .dataframe tbody tr th {\n",
       "        vertical-align: top;\n",
       "    }\n",
       "\n",
       "    .dataframe thead th {\n",
       "        text-align: right;\n",
       "    }\n",
       "</style>\n",
       "<table border=\"1\" class=\"dataframe\">\n",
       "  <thead>\n",
       "    <tr style=\"text-align: right;\">\n",
       "      <th></th>\n",
       "      <th></th>\n",
       "      <th>mean</th>\n",
       "      <th>median</th>\n",
       "      <th>std</th>\n",
       "    </tr>\n",
       "    <tr>\n",
       "      <th>model</th>\n",
       "      <th></th>\n",
       "      <th></th>\n",
       "      <th></th>\n",
       "      <th></th>\n",
       "    </tr>\n",
       "  </thead>\n",
       "  <tbody>\n",
       "    <tr>\n",
       "      <th>ALS</th>\n",
       "      <th>RMSE</th>\n",
       "      <td>0.790128</td>\n",
       "      <td>0.737132</td>\n",
       "      <td>0.332617</td>\n",
       "    </tr>\n",
       "    <tr>\n",
       "      <th>Bias</th>\n",
       "      <th>RMSE</th>\n",
       "      <td>0.834101</td>\n",
       "      <td>0.780474</td>\n",
       "      <td>0.346606</td>\n",
       "    </tr>\n",
       "    <tr>\n",
       "      <th>IIE</th>\n",
       "      <th>RMSE</th>\n",
       "      <td>0.777438</td>\n",
       "      <td>0.725162</td>\n",
       "      <td>0.332297</td>\n",
       "    </tr>\n",
       "    <tr>\n",
       "      <th>UUE</th>\n",
       "      <th>RMSE</th>\n",
       "      <td>0.804941</td>\n",
       "      <td>0.751836</td>\n",
       "      <td>0.340971</td>\n",
       "    </tr>\n",
       "  </tbody>\n",
       "</table>\n",
       "</div>"
      ],
      "text/plain": [
       "                mean    median       std\n",
       "model                                   \n",
       "ALS   RMSE  0.790128  0.737132  0.332617\n",
       "Bias  RMSE  0.834101  0.780474  0.346606\n",
       "IIE   RMSE  0.777438  0.725162  0.332297\n",
       "UUE   RMSE  0.804941  0.751836  0.340971"
      ]
     },
     "execution_count": 15,
     "metadata": {},
     "output_type": "execute_result"
    }
   ],
   "source": [
    "pa = RunAnalysis()\n",
    "\n",
    "pa.add_metric(RMSE(missing_scores='ignore', missing_truth='ignore'))\n",
    "\n",
    "pred_results = pa.compute(preds, test)\n",
    "pred_results.list_summary('model')"
   ]
  },
  {
   "cell_type": "code",
   "execution_count": 16,
   "id": "92a98510",
   "metadata": {
    "execution": {
     "iopub.execute_input": "2024-12-18T02:09:50.089929Z",
     "iopub.status.busy": "2024-12-18T02:09:50.089794Z",
     "iopub.status.idle": "2024-12-18T02:09:50.835642Z",
     "shell.execute_reply": "2024-12-18T02:09:50.835228Z"
    },
    "papermill": {
     "duration": 0.748678,
     "end_time": "2024-12-18T02:09:50.836334",
     "exception": false,
     "start_time": "2024-12-18T02:09:50.087656",
     "status": "completed"
    },
    "tags": []
   },
   "outputs": [
    {
     "data": {
      "image/png": "[encoded data removed]",
      "text/plain": [
       "<Figure size 511.111x500 with 1 Axes>"
      ]
     },
     "metadata": {},
     "output_type": "display_data"
    }
   ],
   "source": [
    "sns.catplot(pred_results.list_metrics().reset_index(), x='model', y='RMSE', kind='bar')\n",
    "plt.show()"
   ]
  },
  {
   "cell_type": "markdown",
   "id": "c9a309d6",
   "metadata": {
    "papermill": {
     "duration": 0.00912,
     "end_time": "2024-12-18T02:09:50.847244",
     "exception": false,
     "start_time": "2024-12-18T02:09:50.838124",
     "status": "completed"
    },
    "tags": []
   },
   "source": [
    "## Save Metrics\n",
    "\n",
    "We'll now save the metrics to a file."
   ]
  },
  {
   "cell_type": "code",
   "execution_count": 17,
   "id": "68b047dc",
   "metadata": {
    "execution": {
     "iopub.execute_input": "2024-12-18T02:09:50.851054Z",
     "iopub.status.busy": "2024-12-18T02:09:50.850969Z",
     "iopub.status.idle": "2024-12-18T02:09:50.893939Z",
     "shell.execute_reply": "2024-12-18T02:09:50.893766Z"
    },
    "papermill": {
     "duration": 0.045733,
     "end_time": "2024-12-18T02:09:50.894562",
     "exception": false,
     "start_time": "2024-12-18T02:09:50.848829",
     "status": "completed"
    },
    "tags": []
   },
   "outputs": [
    {
     "name": "stderr",
     "output_type": "stream",
     "text": [
      "/home/mde48/lenskit/lk-demo-experiment/.venv/lib/python3.12/site-packages/lenskit/metrics/bulk.py:121: FutureWarning: The previous implementation of stack is deprecated and will be removed in a future version of pandas. See the What's New notes for pandas 2.1.0 for details. Specify future_stack=True to adopt the new implementation and silence this warning.\n",
      "  df = scores.groupby(list(keys)).agg([\"mean\", \"median\", \"std\"]).stack(level=0)\n"
     ]
    },
    {
     "data": {
      "text/html": [
       "<div>\n",
       "<style scoped>\n",
       "    .dataframe tbody tr th:only-of-type {\n",
       "        vertical-align: middle;\n",
       "    }\n",
       "\n",
       "    .dataframe tbody tr th {\n",
       "        vertical-align: top;\n",
       "    }\n",
       "\n",
       "    .dataframe thead th {\n",
       "        text-align: right;\n",
       "    }\n",
       "</style>\n",
       "<table border=\"1\" class=\"dataframe\">\n",
       "  <thead>\n",
       "    <tr style=\"text-align: right;\">\n",
       "      <th></th>\n",
       "      <th>NDCG</th>\n",
       "      <th>RBP</th>\n",
       "      <th>RecipRank</th>\n",
       "    </tr>\n",
       "    <tr>\n",
       "      <th>model</th>\n",
       "      <th></th>\n",
       "      <th></th>\n",
       "      <th></th>\n",
       "    </tr>\n",
       "  </thead>\n",
       "  <tbody>\n",
       "    <tr>\n",
       "      <th>ALS</th>\n",
       "      <td>0.038598</td>\n",
       "      <td>0.017376</td>\n",
       "      <td>0.049909</td>\n",
       "    </tr>\n",
       "    <tr>\n",
       "      <th>Bias</th>\n",
       "      <td>0.043546</td>\n",
       "      <td>0.029159</td>\n",
       "      <td>0.069021</td>\n",
       "    </tr>\n",
       "    <tr>\n",
       "      <th>IALS</th>\n",
       "      <td>0.285568</td>\n",
       "      <td>0.130026</td>\n",
       "      <td>0.274714</td>\n",
       "    </tr>\n",
       "    <tr>\n",
       "      <th>IIE</th>\n",
       "      <td>0.008402</td>\n",
       "      <td>0.000216</td>\n",
       "      <td>0.004263</td>\n",
       "    </tr>\n",
       "    <tr>\n",
       "      <th>III</th>\n",
       "      <td>0.246125</td>\n",
       "      <td>0.159018</td>\n",
       "      <td>0.309141</td>\n",
       "    </tr>\n",
       "    <tr>\n",
       "      <th>Pop</th>\n",
       "      <td>0.153792</td>\n",
       "      <td>0.076449</td>\n",
       "      <td>0.178469</td>\n",
       "    </tr>\n",
       "    <tr>\n",
       "      <th>UUE</th>\n",
       "      <td>0.010010</td>\n",
       "      <td>0.000040</td>\n",
       "      <td>0.004255</td>\n",
       "    </tr>\n",
       "  </tbody>\n",
       "</table>\n",
       "</div>"
      ],
      "text/plain": [
       "           NDCG       RBP  RecipRank\n",
       "model                               \n",
       "ALS    0.038598  0.017376   0.049909\n",
       "Bias   0.043546  0.029159   0.069021\n",
       "IALS   0.285568  0.130026   0.274714\n",
       "IIE    0.008402  0.000216   0.004263\n",
       "III    0.246125  0.159018   0.309141\n",
       "Pop    0.153792  0.076449   0.178469\n",
       "UUE    0.010010  0.000040   0.004255"
      ]
     },
     "execution_count": 17,
     "metadata": {},
     "output_type": "execute_result"
    }
   ],
   "source": [
    "rlsum = rec_results.list_summary('model')['mean'].unstack()\n",
    "rlsum"
   ]
  },
  {
   "cell_type": "code",
   "execution_count": 18,
   "id": "5582d5d8",
   "metadata": {
    "execution": {
     "iopub.execute_input": "2024-12-18T02:09:50.898556Z",
     "iopub.status.busy": "2024-12-18T02:09:50.898486Z",
     "iopub.status.idle": "2024-12-18T02:09:50.900459Z",
     "shell.execute_reply": "2024-12-18T02:09:50.900241Z"
    },
    "papermill": {
     "duration": 0.004509,
     "end_time": "2024-12-18T02:09:50.900895",
     "exception": false,
     "start_time": "2024-12-18T02:09:50.896386",
     "status": "completed"
    },
    "tags": []
   },
   "outputs": [],
   "source": [
    "rlsum.to_json(f'eval-metrics.{dataset}.json', orient='index')"
   ]
  }
 ],
 "metadata": {
  "jupytext": {
   "formats": "ipynb,md",
   "notebook_metadata_filter": "split_at_heading"
  },
  "kernelspec": {
   "display_name": "Python 3 (ipykernel)",
   "language": "python",
   "name": "python3"
  },
  "language_info": {
   "codemirror_mode": {
    "name": "ipython",
    "version": 3
   },
   "file_extension": ".py",
   "mimetype": "text/x-python",
   "name": "python",
   "nbconvert_exporter": "python",
   "pygments_lexer": "ipython3",
   "version": "3.12.8"
  },
  "papermill": {
   "default_parameters": {},
   "duration": 97.888735,
   "end_time": "2024-12-18T02:09:53.022294",
   "environment_variables": {},
   "exception": null,
   "input_path": "eval-report.ipynb",
   "output_path": "eval-report.ml10m.ipynb",
   "parameters": {
    "dataset": "ml10m"
   },
   "start_time": "2024-12-18T02:08:15.133559",
   "version": "2.6.0"
  },
  "split_at_heading": true
 },
 "nbformat": 4,
 "nbformat_minor": 5
}