{
 "cells": [
  {
   "cell_type": "markdown",
   "id": "ca2a68d7",
   "metadata": {
    "papermill": {
     "duration": 0.01027,
     "end_time": "2025-02-22T22:25:02.681579",
     "exception": false,
     "start_time": "2025-02-22T22:25:02.671309",
     "status": "completed"
    },
    "tags": []
   },
   "source": [
    "# Evaluation Analysis for Recommender Output"
   ]
  },
  {
   "cell_type": "markdown",
   "id": "b63eda0c",
   "metadata": {
    "papermill": {
     "duration": 0.001218,
     "end_time": "2025-02-22T22:25:02.684297",
     "exception": false,
     "start_time": "2025-02-22T22:25:02.683079",
     "status": "completed"
    },
    "tags": []
   },
   "source": [
    "In this section we will analyze and compare the generated recommendations and predictions from a predefined list of algorithms with the goal of assessing the performance of each algorithm with respect to a metric. In other words, we would rank the algorithms for each metric considered with respect to performance."
   ]
  },
  {
   "cell_type": "markdown",
   "id": "36fb01ca",
   "metadata": {
    "papermill": {
     "duration": 0.001182,
     "end_time": "2025-02-22T22:25:02.686745",
     "exception": false,
     "start_time": "2025-02-22T22:25:02.685563",
     "status": "completed"
    },
    "tags": []
   },
   "source": [
    "## Setup"
   ]
  },
  {
   "cell_type": "markdown",
   "id": "21858d8a",
   "metadata": {
    "papermill": {
     "duration": 0.001272,
     "end_time": "2025-02-22T22:25:02.689243",
     "exception": false,
     "start_time": "2025-02-22T22:25:02.687971",
     "status": "completed"
    },
    "tags": []
   },
   "source": [
    "Below are the list of packages required to successfully run the analysis. They are divided into partitions to signify their specific task.<br>\n",
    "We need the pathlib package for working with files and folders"
   ]
  },
  {
   "cell_type": "code",
   "execution_count": 1,
   "id": "002c1a8e",
   "metadata": {
    "execution": {
     "iopub.execute_input": "2025-02-22T22:25:02.692542Z",
     "iopub.status.busy": "2025-02-22T22:25:02.692427Z",
     "iopub.status.idle": "2025-02-22T22:25:02.694596Z",
     "shell.execute_reply": "2025-02-22T22:25:02.694350Z"
    },
    "papermill": {
     "duration": 0.004553,
     "end_time": "2025-02-22T22:25:02.694996",
     "exception": false,
     "start_time": "2025-02-22T22:25:02.690443",
     "status": "completed"
    },
    "tags": []
   },
   "outputs": [],
   "source": [
    "from pathlib import Path\n",
    "import json"
   ]
  },
  {
   "cell_type": "markdown",
   "id": "d97e0d05",
   "metadata": {
    "papermill": {
     "duration": 0.001199,
     "end_time": "2025-02-22T22:25:02.697460",
     "exception": false,
     "start_time": "2025-02-22T22:25:02.696261",
     "status": "completed"
    },
    "tags": []
   },
   "source": [
    "Load libraries for analysis and visualization:"
   ]
  },
  {
   "cell_type": "code",
   "execution_count": 2,
   "id": "5dfaeefe",
   "metadata": {
    "execution": {
     "iopub.execute_input": "2025-02-22T22:25:02.700286Z",
     "iopub.status.busy": "2025-02-22T22:25:02.700185Z",
     "iopub.status.idle": "2025-02-22T22:25:03.174347Z",
     "shell.execute_reply": "2025-02-22T22:25:03.174062Z"
    },
    "lines_to_next_cell": 2,
    "papermill": {
     "duration": 0.476503,
     "end_time": "2025-02-22T22:25:03.175251",
     "exception": false,
     "start_time": "2025-02-22T22:25:02.698748",
     "status": "completed"
    },
    "tags": []
   },
   "outputs": [],
   "source": [
    "import seaborn as sns\n",
    "import matplotlib.pyplot as plt"
   ]
  },
  {
   "cell_type": "markdown",
   "id": "254c8bfe",
   "metadata": {
    "papermill": {
     "duration": 0.008976,
     "end_time": "2025-02-22T22:25:03.185783",
     "exception": false,
     "start_time": "2025-02-22T22:25:03.176807",
     "status": "completed"
    },
    "tags": []
   },
   "source": [
    "Import the LensKit metrics for analysis:"
   ]
  },
  {
   "cell_type": "code",
   "execution_count": 3,
   "id": "a1155fbc",
   "metadata": {
    "execution": {
     "iopub.execute_input": "2025-02-22T22:25:03.188988Z",
     "iopub.status.busy": "2025-02-22T22:25:03.188876Z",
     "iopub.status.idle": "2025-02-22T22:25:03.820702Z",
     "shell.execute_reply": "2025-02-22T22:25:03.820360Z"
    },
    "papermill": {
     "duration": 0.634356,
     "end_time": "2025-02-22T22:25:03.821451",
     "exception": false,
     "start_time": "2025-02-22T22:25:03.187095",
     "status": "completed"
    },
    "tags": []
   },
   "outputs": [],
   "source": [
    "from lenskit.data import Dataset, ItemListCollection\n",
    "from lenskit.metrics import RunAnalysis, RMSE, NDCG, RecipRank, RBP"
   ]
  },
  {
   "cell_type": "code",
   "execution_count": 4,
   "id": "43f2f0a9",
   "metadata": {
    "execution": {
     "iopub.execute_input": "2025-02-22T22:25:03.825067Z",
     "iopub.status.busy": "2025-02-22T22:25:03.824975Z",
     "iopub.status.idle": "2025-02-22T22:25:03.827528Z",
     "shell.execute_reply": "2025-02-22T22:25:03.827352Z"
    },
    "papermill": {
     "duration": 0.004788,
     "end_time": "2025-02-22T22:25:03.827913",
     "exception": false,
     "start_time": "2025-02-22T22:25:03.823125",
     "status": "completed"
    },
    "tags": []
   },
   "outputs": [],
   "source": [
    "from lkdemo.datasets import split_fraction"
   ]
  },
  {
   "cell_type": "markdown",
   "id": "35c34961",
   "metadata": {
    "papermill": {
     "duration": 0.001217,
     "end_time": "2025-02-22T22:25:03.830503",
     "exception": false,
     "start_time": "2025-02-22T22:25:03.829286",
     "status": "completed"
    },
    "tags": []
   },
   "source": [
    "## Load Data\n",
    "\n",
    "The recommendations are in `runs`, and we will need to reassemble the test data from `test`."
   ]
  },
  {
   "cell_type": "code",
   "execution_count": 5,
   "id": "3da98af4",
   "metadata": {
    "execution": {
     "iopub.execute_input": "2025-02-22T22:25:03.833578Z",
     "iopub.status.busy": "2025-02-22T22:25:03.833463Z",
     "iopub.status.idle": "2025-02-22T22:25:03.834723Z",
     "shell.execute_reply": "2025-02-22T22:25:03.834574Z"
    },
    "papermill": {
     "duration": 0.003398,
     "end_time": "2025-02-22T22:25:03.835181",
     "exception": false,
     "start_time": "2025-02-22T22:25:03.831783",
     "status": "completed"
    },
    "tags": [
     "parameters"
    ]
   },
   "outputs": [],
   "source": [
    "dataset = \"ml-100k\""
   ]
  },
  {
   "cell_type": "code",
   "execution_count": 6,
   "id": "f9524bca",
   "metadata": {
    "execution": {
     "iopub.execute_input": "2025-02-22T22:25:03.838179Z",
     "iopub.status.busy": "2025-02-22T22:25:03.838076Z",
     "iopub.status.idle": "2025-02-22T22:25:03.839253Z",
     "shell.execute_reply": "2025-02-22T22:25:03.839114Z"
    },
    "papermill": {
     "duration": 0.003222,
     "end_time": "2025-02-22T22:25:03.839714",
     "exception": false,
     "start_time": "2025-02-22T22:25:03.836492",
     "status": "completed"
    },
    "tags": [
     "injected-parameters"
    ]
   },
   "outputs": [],
   "source": [
    "# Parameters\n",
    "dataset = \"ml-100k\"\n"
   ]
  },
  {
   "cell_type": "code",
   "execution_count": 7,
   "id": "c9bbbdee",
   "metadata": {
    "execution": {
     "iopub.execute_input": "2025-02-22T22:25:03.842842Z",
     "iopub.status.busy": "2025-02-22T22:25:03.842738Z",
     "iopub.status.idle": "2025-02-22T22:25:03.843946Z",
     "shell.execute_reply": "2025-02-22T22:25:03.843810Z"
    },
    "papermill": {
     "duration": 0.003431,
     "end_time": "2025-02-22T22:25:03.844473",
     "exception": false,
     "start_time": "2025-02-22T22:25:03.841042",
     "status": "completed"
    },
    "tags": []
   },
   "outputs": [],
   "source": [
    "output_root = Path(\"runs\")"
   ]
  },
  {
   "cell_type": "code",
   "execution_count": 8,
   "id": "8e1bd83e",
   "metadata": {
    "execution": {
     "iopub.execute_input": "2025-02-22T22:25:03.847623Z",
     "iopub.status.busy": "2025-02-22T22:25:03.847496Z",
     "iopub.status.idle": "2025-02-22T22:25:03.848925Z",
     "shell.execute_reply": "2025-02-22T22:25:03.848775Z"
    },
    "papermill": {
     "duration": 0.003565,
     "end_time": "2025-02-22T22:25:03.849371",
     "exception": false,
     "start_time": "2025-02-22T22:25:03.845806",
     "status": "completed"
    },
    "tags": []
   },
   "outputs": [],
   "source": [
    "dirs = [fld for fld in output_root.glob(f'{dataset}-*')]"
   ]
  },
  {
   "cell_type": "code",
   "execution_count": 9,
   "id": "0b5febd9",
   "metadata": {
    "execution": {
     "iopub.execute_input": "2025-02-22T22:25:03.852520Z",
     "iopub.status.busy": "2025-02-22T22:25:03.852398Z",
     "iopub.status.idle": "2025-02-22T22:25:03.900162Z",
     "shell.execute_reply": "2025-02-22T22:25:03.899682Z"
    },
    "papermill": {
     "duration": 0.050203,
     "end_time": "2025-02-22T22:25:03.900926",
     "exception": false,
     "start_time": "2025-02-22T22:25:03.850723",
     "status": "completed"
    },
    "tags": []
   },
   "outputs": [],
   "source": [
    "recs = ItemListCollection(['model', 'user_id'], index=False)\n",
    "for fld in dirs:\n",
    "    for file in fld.glob(\"recs-*\"):\n",
    "        rec = ItemListCollection.load_parquet(file)\n",
    "        recs.add_from(rec, model=fld.name.split(\"-\")[-1])"
   ]
  },
  {
   "cell_type": "code",
   "execution_count": 10,
   "id": "4b06a7b5",
   "metadata": {
    "execution": {
     "iopub.execute_input": "2025-02-22T22:25:03.904266Z",
     "iopub.status.busy": "2025-02-22T22:25:03.904187Z",
     "iopub.status.idle": "2025-02-22T22:25:03.907233Z",
     "shell.execute_reply": "2025-02-22T22:25:03.907080Z"
    },
    "papermill": {
     "duration": 0.005316,
     "end_time": "2025-02-22T22:25:03.907719",
     "exception": false,
     "start_time": "2025-02-22T22:25:03.902403",
     "status": "completed"
    },
    "tags": []
   },
   "outputs": [
    {
     "data": {
      "text/plain": [
       "['ALS', 'Bias', 'IALS', 'IIE', 'III', 'Pop', 'UUE']"
      ]
     },
     "execution_count": 10,
     "metadata": {},
     "output_type": "execute_result"
    }
   ],
   "source": [
    "rec_algos = sorted(set(a for (a, _u) in recs.keys()))\n",
    "rec_algos"
   ]
  },
  {
   "cell_type": "code",
   "execution_count": 11,
   "id": "0fe9ffda",
   "metadata": {
    "execution": {
     "iopub.execute_input": "2025-02-22T22:25:03.911052Z",
     "iopub.status.busy": "2025-02-22T22:25:03.910941Z",
     "iopub.status.idle": "2025-02-22T22:25:03.944789Z",
     "shell.execute_reply": "2025-02-22T22:25:03.944488Z"
    },
    "papermill": {
     "duration": 0.036082,
     "end_time": "2025-02-22T22:25:03.945348",
     "exception": false,
     "start_time": "2025-02-22T22:25:03.909266",
     "status": "completed"
    },
    "tags": []
   },
   "outputs": [],
   "source": [
    "preds = ItemListCollection(['model', 'user_id'], index=False)\n",
    "for fld in dirs:\n",
    "    for file in fld.glob(\"pred-*\"):\n",
    "        pred = ItemListCollection.load_parquet(file)\n",
    "        preds.add_from(pred, model=fld.name.split(\"-\")[-1])"
   ]
  },
  {
   "cell_type": "markdown",
   "id": "afae618c",
   "metadata": {
    "papermill": {
     "duration": 0.001357,
     "end_time": "2025-02-22T22:25:03.948287",
     "exception": false,
     "start_time": "2025-02-22T22:25:03.946930",
     "status": "completed"
    },
    "tags": []
   },
   "source": [
    "We need to load the test data so that we have the ground truths for computing accuracy."
   ]
  },
  {
   "cell_type": "code",
   "execution_count": 12,
   "id": "01ecdf7b",
   "metadata": {
    "execution": {
     "iopub.execute_input": "2025-02-22T22:25:03.951786Z",
     "iopub.status.busy": "2025-02-22T22:25:03.951713Z",
     "iopub.status.idle": "2025-02-22T22:25:03.988958Z",
     "shell.execute_reply": "2025-02-22T22:25:03.988647Z"
    },
    "papermill": {
     "duration": 0.039943,
     "end_time": "2025-02-22T22:25:03.989593",
     "exception": false,
     "start_time": "2025-02-22T22:25:03.949650",
     "status": "completed"
    },
    "tags": []
   },
   "outputs": [],
   "source": [
    "data = Dataset.load(f\"data/{dataset}\")\n",
    "split = split_fraction(data, 0.2)\n",
    "test = split.test"
   ]
  },
  {
   "cell_type": "markdown",
   "id": "291700d9",
   "metadata": {
    "papermill": {
     "duration": 0.00141,
     "end_time": "2025-02-22T22:25:03.992621",
     "exception": false,
     "start_time": "2025-02-22T22:25:03.991211",
     "status": "completed"
    },
    "tags": []
   },
   "source": [
    "And identify users in the training set, so we only report metrics over them."
   ]
  },
  {
   "cell_type": "code",
   "execution_count": 13,
   "id": "acfdbd1c",
   "metadata": {
    "execution": {
     "iopub.execute_input": "2025-02-22T22:25:03.995955Z",
     "iopub.status.busy": "2025-02-22T22:25:03.995856Z",
     "iopub.status.idle": "2025-02-22T22:25:04.004735Z",
     "shell.execute_reply": "2025-02-22T22:25:04.004558Z"
    },
    "papermill": {
     "duration": 0.011239,
     "end_time": "2025-02-22T22:25:04.005238",
     "exception": false,
     "start_time": "2025-02-22T22:25:03.993999",
     "status": "completed"
    },
    "tags": []
   },
   "outputs": [],
   "source": [
    "train_users = split.train.user_stats()\n",
    "train_users = train_users[train_users['rating_count'] > 0]"
   ]
  },
  {
   "cell_type": "markdown",
   "id": "bb7059cd",
   "metadata": {
    "papermill": {
     "duration": 0.001427,
     "end_time": "2025-02-22T22:25:04.008124",
     "exception": false,
     "start_time": "2025-02-22T22:25:04.006697",
     "status": "completed"
    },
    "tags": []
   },
   "source": [
    "## Top-N Metrics\n",
    "\n",
    "`RunListAnalysis` computes metrics for recommendation results and takes care of\n",
    "matching recommendations and ground truth."
   ]
  },
  {
   "cell_type": "code",
   "execution_count": 14,
   "id": "60a7550d",
   "metadata": {
    "execution": {
     "iopub.execute_input": "2025-02-22T22:25:04.011527Z",
     "iopub.status.busy": "2025-02-22T22:25:04.011383Z",
     "iopub.status.idle": "2025-02-22T22:25:04.197109Z",
     "shell.execute_reply": "2025-02-22T22:25:04.196950Z"
    },
    "papermill": {
     "duration": 0.188053,
     "end_time": "2025-02-22T22:25:04.197602",
     "exception": false,
     "start_time": "2025-02-22T22:25:04.009549",
     "status": "completed"
    },
    "tags": []
   },
   "outputs": [
    {
     "name": "stderr",
     "output_type": "stream",
     "text": [
      "/home/mde48/lenskit/lk-demo-experiment/.venv/lib/python3.13/site-packages/lenskit/metrics/bulk.py:127: FutureWarning: The previous implementation of stack is deprecated and will be removed in a future version of pandas. See the What's New notes for pandas 2.1.0 for details. Specify future_stack=True to adopt the new implementation and silence this warning.\n",
      "  df = scores.groupby(list(keys)).agg([\"mean\", \"median\", \"std\"]).stack(level=0)\n"
     ]
    },
    {
     "data": {
      "text/html": [
       "<div>\n",
       "<style scoped>\n",
       "    .dataframe tbody tr th:only-of-type {\n",
       "        vertical-align: middle;\n",
       "    }\n",
       "\n",
       "    .dataframe tbody tr th {\n",
       "        vertical-align: top;\n",
       "    }\n",
       "\n",
       "    .dataframe thead th {\n",
       "        text-align: right;\n",
       "    }\n",
       "</style>\n",
       "<table border=\"1\" class=\"dataframe\">\n",
       "  <thead>\n",
       "    <tr style=\"text-align: right;\">\n",
       "      <th></th>\n",
       "      <th></th>\n",
       "      <th>mean</th>\n",
       "      <th>median</th>\n",
       "      <th>std</th>\n",
       "    </tr>\n",
       "    <tr>\n",
       "      <th>model</th>\n",
       "      <th></th>\n",
       "      <th></th>\n",
       "      <th></th>\n",
       "      <th></th>\n",
       "    </tr>\n",
       "  </thead>\n",
       "  <tbody>\n",
       "    <tr>\n",
       "      <th rowspan=\"3\" valign=\"top\">ALS</th>\n",
       "      <th>NDCG</th>\n",
       "      <td>0.163800</td>\n",
       "      <td>0.132480</td>\n",
       "      <td>0.120870</td>\n",
       "    </tr>\n",
       "    <tr>\n",
       "      <th>RBP</th>\n",
       "      <td>0.176975</td>\n",
       "      <td>0.081726</td>\n",
       "      <td>0.200577</td>\n",
       "    </tr>\n",
       "    <tr>\n",
       "      <th>RecipRank</th>\n",
       "      <td>0.237353</td>\n",
       "      <td>0.166667</td>\n",
       "      <td>0.262634</td>\n",
       "    </tr>\n",
       "    <tr>\n",
       "      <th rowspan=\"3\" valign=\"top\">Bias</th>\n",
       "      <th>NDCG</th>\n",
       "      <td>0.163369</td>\n",
       "      <td>0.128442</td>\n",
       "      <td>0.122004</td>\n",
       "    </tr>\n",
       "    <tr>\n",
       "      <th>RBP</th>\n",
       "      <td>0.177391</td>\n",
       "      <td>0.086458</td>\n",
       "      <td>0.195531</td>\n",
       "    </tr>\n",
       "    <tr>\n",
       "      <th>RecipRank</th>\n",
       "      <td>0.228765</td>\n",
       "      <td>0.166667</td>\n",
       "      <td>0.242535</td>\n",
       "    </tr>\n",
       "    <tr>\n",
       "      <th rowspan=\"3\" valign=\"top\">IALS</th>\n",
       "      <th>NDCG</th>\n",
       "      <td>0.099041</td>\n",
       "      <td>0.078205</td>\n",
       "      <td>0.106209</td>\n",
       "    </tr>\n",
       "    <tr>\n",
       "      <th>RBP</th>\n",
       "      <td>0.045300</td>\n",
       "      <td>0.008053</td>\n",
       "      <td>0.100831</td>\n",
       "    </tr>\n",
       "    <tr>\n",
       "      <th>RecipRank</th>\n",
       "      <td>0.115516</td>\n",
       "      <td>0.045455</td>\n",
       "      <td>0.244183</td>\n",
       "    </tr>\n",
       "    <tr>\n",
       "      <th rowspan=\"3\" valign=\"top\">IIE</th>\n",
       "      <th>NDCG</th>\n",
       "      <td>0.028293</td>\n",
       "      <td>0.000000</td>\n",
       "      <td>0.063929</td>\n",
       "    </tr>\n",
       "    <tr>\n",
       "      <th>RBP</th>\n",
       "      <td>0.014442</td>\n",
       "      <td>0.000000</td>\n",
       "      <td>0.055494</td>\n",
       "    </tr>\n",
       "    <tr>\n",
       "      <th>RecipRank</th>\n",
       "      <td>0.036741</td>\n",
       "      <td>0.000000</td>\n",
       "      <td>0.133359</td>\n",
       "    </tr>\n",
       "    <tr>\n",
       "      <th rowspan=\"3\" valign=\"top\">III</th>\n",
       "      <th>NDCG</th>\n",
       "      <td>0.051244</td>\n",
       "      <td>0.000000</td>\n",
       "      <td>0.125677</td>\n",
       "    </tr>\n",
       "    <tr>\n",
       "      <th>RBP</th>\n",
       "      <td>0.044998</td>\n",
       "      <td>0.000000</td>\n",
       "      <td>0.150366</td>\n",
       "    </tr>\n",
       "    <tr>\n",
       "      <th>RecipRank</th>\n",
       "      <td>0.078288</td>\n",
       "      <td>0.000000</td>\n",
       "      <td>0.233043</td>\n",
       "    </tr>\n",
       "    <tr>\n",
       "      <th rowspan=\"3\" valign=\"top\">Pop</th>\n",
       "      <th>NDCG</th>\n",
       "      <td>0.279687</td>\n",
       "      <td>0.268988</td>\n",
       "      <td>0.162487</td>\n",
       "    </tr>\n",
       "    <tr>\n",
       "      <th>RBP</th>\n",
       "      <td>0.318951</td>\n",
       "      <td>0.250104</td>\n",
       "      <td>0.273319</td>\n",
       "    </tr>\n",
       "    <tr>\n",
       "      <th>RecipRank</th>\n",
       "      <td>0.494082</td>\n",
       "      <td>0.250000</td>\n",
       "      <td>0.409474</td>\n",
       "    </tr>\n",
       "    <tr>\n",
       "      <th rowspan=\"3\" valign=\"top\">UUE</th>\n",
       "      <th>NDCG</th>\n",
       "      <td>0.022112</td>\n",
       "      <td>0.000000</td>\n",
       "      <td>0.044289</td>\n",
       "    </tr>\n",
       "    <tr>\n",
       "      <th>RBP</th>\n",
       "      <td>0.002570</td>\n",
       "      <td>0.000000</td>\n",
       "      <td>0.013186</td>\n",
       "    </tr>\n",
       "    <tr>\n",
       "      <th>RecipRank</th>\n",
       "      <td>0.010190</td>\n",
       "      <td>0.000000</td>\n",
       "      <td>0.024621</td>\n",
       "    </tr>\n",
       "  </tbody>\n",
       "</table>\n",
       "</div>"
      ],
      "text/plain": [
       "                     mean    median       std\n",
       "model                                        \n",
       "ALS   NDCG       0.163800  0.132480  0.120870\n",
       "      RBP        0.176975  0.081726  0.200577\n",
       "      RecipRank  0.237353  0.166667  0.262634\n",
       "Bias  NDCG       0.163369  0.128442  0.122004\n",
       "      RBP        0.177391  0.086458  0.195531\n",
       "      RecipRank  0.228765  0.166667  0.242535\n",
       "IALS  NDCG       0.099041  0.078205  0.106209\n",
       "      RBP        0.045300  0.008053  0.100831\n",
       "      RecipRank  0.115516  0.045455  0.244183\n",
       "IIE   NDCG       0.028293  0.000000  0.063929\n",
       "      RBP        0.014442  0.000000  0.055494\n",
       "      RecipRank  0.036741  0.000000  0.133359\n",
       "III   NDCG       0.051244  0.000000  0.125677\n",
       "      RBP        0.044998  0.000000  0.150366\n",
       "      RecipRank  0.078288  0.000000  0.233043\n",
       "Pop   NDCG       0.279687  0.268988  0.162487\n",
       "      RBP        0.318951  0.250104  0.273319\n",
       "      RecipRank  0.494082  0.250000  0.409474\n",
       "UUE   NDCG       0.022112  0.000000  0.044289\n",
       "      RBP        0.002570  0.000000  0.013186\n",
       "      RecipRank  0.010190  0.000000  0.024621"
      ]
     },
     "execution_count": 14,
     "metadata": {},
     "output_type": "execute_result"
    }
   ],
   "source": [
    "ra = RunAnalysis()\n",
    "\n",
    "ra.add_metric(NDCG())\n",
    "ra.add_metric(RecipRank())\n",
    "ra.add_metric(RBP())\n",
    "\n",
    "rec_results = ra.compute(recs, test)\n",
    "rec_results.list_summary('model')"
   ]
  },
  {
   "cell_type": "markdown",
   "id": "c43d0a23",
   "metadata": {
    "papermill": {
     "duration": 0.00883,
     "end_time": "2025-02-22T22:25:04.208166",
     "exception": false,
     "start_time": "2025-02-22T22:25:04.199336",
     "status": "completed"
    },
    "tags": []
   },
   "source": [
    "We can reshape the list metrics and plot them:"
   ]
  },
  {
   "cell_type": "code",
   "execution_count": 15,
   "id": "9d2d5d12",
   "metadata": {
    "execution": {
     "iopub.execute_input": "2025-02-22T22:25:04.211787Z",
     "iopub.status.busy": "2025-02-22T22:25:04.211699Z",
     "iopub.status.idle": "2025-02-22T22:25:04.521723Z",
     "shell.execute_reply": "2025-02-22T22:25:04.521347Z"
    },
    "papermill": {
     "duration": 0.312622,
     "end_time": "2025-02-22T22:25:04.522309",
     "exception": false,
     "start_time": "2025-02-22T22:25:04.209687",
     "status": "completed"
    },
    "tags": []
   },
   "outputs": [
    {
     "data": {
      "image/png": "[encoded data removed]",
      "text/plain": [
       "<Figure size 1511.11x500 with 3 Axes>"
      ]
     },
     "metadata": {},
     "output_type": "display_data"
    }
   ],
   "source": [
    "metrics = rec_results.list_metrics()\n",
    "metrics = metrics.melt(var_name='metric', ignore_index=False).reset_index()\n",
    "metrics = metrics[metrics['user_id'].isin(train_users.index)]\n",
    "sns.catplot(metrics, x='model', y='value', col='metric', kind='bar')\n",
    "plt.show()"
   ]
  },
  {
   "cell_type": "markdown",
   "id": "c43e61ea",
   "metadata": {
    "papermill": {
     "duration": 0.009012,
     "end_time": "2025-02-22T22:25:04.534567",
     "exception": false,
     "start_time": "2025-02-22T22:25:04.525555",
     "status": "completed"
    },
    "tags": []
   },
   "source": [
    "## Prediction RMSE\n",
    "\n",
    "We will also look at the prediction RMSE."
   ]
  },
  {
   "cell_type": "code",
   "execution_count": 16,
   "id": "96b6d861",
   "metadata": {
    "execution": {
     "iopub.execute_input": "2025-02-22T22:25:04.538215Z",
     "iopub.status.busy": "2025-02-22T22:25:04.538137Z",
     "iopub.status.idle": "2025-02-22T22:25:04.738232Z",
     "shell.execute_reply": "2025-02-22T22:25:04.738064Z"
    },
    "papermill": {
     "duration": 0.202596,
     "end_time": "2025-02-22T22:25:04.738797",
     "exception": false,
     "start_time": "2025-02-22T22:25:04.536201",
     "status": "completed"
    },
    "tags": []
   },
   "outputs": [
    {
     "name": "stderr",
     "output_type": "stream",
     "text": [
      "/home/mde48/lenskit/lk-demo-experiment/.venv/lib/python3.13/site-packages/lenskit/metrics/bulk.py:127: FutureWarning: The previous implementation of stack is deprecated and will be removed in a future version of pandas. See the What's New notes for pandas 2.1.0 for details. Specify future_stack=True to adopt the new implementation and silence this warning.\n",
      "  df = scores.groupby(list(keys)).agg([\"mean\", \"median\", \"std\"]).stack(level=0)\n"
     ]
    },
    {
     "data": {
      "text/html": [
       "<div>\n",
       "<style scoped>\n",
       "    .dataframe tbody tr th:only-of-type {\n",
       "        vertical-align: middle;\n",
       "    }\n",
       "\n",
       "    .dataframe tbody tr th {\n",
       "        vertical-align: top;\n",
       "    }\n",
       "\n",
       "    .dataframe thead th {\n",
       "        text-align: right;\n",
       "    }\n",
       "</style>\n",
       "<table border=\"1\" class=\"dataframe\">\n",
       "  <thead>\n",
       "    <tr style=\"text-align: right;\">\n",
       "      <th></th>\n",
       "      <th></th>\n",
       "      <th>mean</th>\n",
       "      <th>median</th>\n",
       "      <th>std</th>\n",
       "    </tr>\n",
       "    <tr>\n",
       "      <th>model</th>\n",
       "      <th></th>\n",
       "      <th></th>\n",
       "      <th></th>\n",
       "      <th></th>\n",
       "    </tr>\n",
       "  </thead>\n",
       "  <tbody>\n",
       "    <tr>\n",
       "      <th>ALS</th>\n",
       "      <th>RMSE</th>\n",
       "      <td>0.964949</td>\n",
       "      <td>0.942919</td>\n",
       "      <td>0.298124</td>\n",
       "    </tr>\n",
       "    <tr>\n",
       "      <th>Bias</th>\n",
       "      <th>RMSE</th>\n",
       "      <td>0.971432</td>\n",
       "      <td>0.945351</td>\n",
       "      <td>0.292602</td>\n",
       "    </tr>\n",
       "    <tr>\n",
       "      <th>IIE</th>\n",
       "      <th>RMSE</th>\n",
       "      <td>0.973457</td>\n",
       "      <td>0.944259</td>\n",
       "      <td>0.304926</td>\n",
       "    </tr>\n",
       "    <tr>\n",
       "      <th>UUE</th>\n",
       "      <th>RMSE</th>\n",
       "      <td>0.978119</td>\n",
       "      <td>0.958315</td>\n",
       "      <td>0.305261</td>\n",
       "    </tr>\n",
       "  </tbody>\n",
       "</table>\n",
       "</div>"
      ],
      "text/plain": [
       "                mean    median       std\n",
       "model                                   \n",
       "ALS   RMSE  0.964949  0.942919  0.298124\n",
       "Bias  RMSE  0.971432  0.945351  0.292602\n",
       "IIE   RMSE  0.973457  0.944259  0.304926\n",
       "UUE   RMSE  0.978119  0.958315  0.305261"
      ]
     },
     "execution_count": 16,
     "metadata": {},
     "output_type": "execute_result"
    }
   ],
   "source": [
    "pa = RunAnalysis()\n",
    "\n",
    "pa.add_metric(RMSE(missing_scores='ignore', missing_truth='ignore'))\n",
    "\n",
    "pred_results = pa.compute(preds, test)\n",
    "pred_results.list_summary('model')"
   ]
  },
  {
   "cell_type": "code",
   "execution_count": 17,
   "id": "6d814573",
   "metadata": {
    "execution": {
     "iopub.execute_input": "2025-02-22T22:25:04.742838Z",
     "iopub.status.busy": "2025-02-22T22:25:04.742765Z",
     "iopub.status.idle": "2025-02-22T22:25:04.818480Z",
     "shell.execute_reply": "2025-02-22T22:25:04.818249Z"
    },
    "papermill": {
     "duration": 0.078421,
     "end_time": "2025-02-22T22:25:04.819117",
     "exception": false,
     "start_time": "2025-02-22T22:25:04.740696",
     "status": "completed"
    },
    "tags": []
   },
   "outputs": [
    {
     "data": {
      "image/png": "[encoded data removed]",
      "text/plain": [
       "<Figure size 511.111x500 with 1 Axes>"
      ]
     },
     "metadata": {},
     "output_type": "display_data"
    }
   ],
   "source": [
    "pred_metrics = pred_results.list_metrics().reset_index()\n",
    "pred_metrics = pred_metrics[pred_metrics['user_id'].isin(train_users.index)]\n",
    "sns.catplot(pred_metrics, x='model', y='RMSE', kind='bar')\n",
    "plt.show()"
   ]
  },
  {
   "cell_type": "markdown",
   "id": "150ed96b",
   "metadata": {
    "papermill": {
     "duration": 0.001763,
     "end_time": "2025-02-22T22:25:04.822727",
     "exception": false,
     "start_time": "2025-02-22T22:25:04.820964",
     "status": "completed"
    },
    "tags": []
   },
   "source": [
    "## Save Metrics\n",
    "\n",
    "We'll now save the metrics to a file."
   ]
  },
  {
   "cell_type": "code",
   "execution_count": 18,
   "id": "95247ac8",
   "metadata": {
    "execution": {
     "iopub.execute_input": "2025-02-22T22:25:04.826847Z",
     "iopub.status.busy": "2025-02-22T22:25:04.826767Z",
     "iopub.status.idle": "2025-02-22T22:25:04.833179Z",
     "shell.execute_reply": "2025-02-22T22:25:04.833031Z"
    },
    "papermill": {
     "duration": 0.009071,
     "end_time": "2025-02-22T22:25:04.833586",
     "exception": false,
     "start_time": "2025-02-22T22:25:04.824515",
     "status": "completed"
    },
    "tags": []
   },
   "outputs": [
    {
     "name": "stderr",
     "output_type": "stream",
     "text": [
      "/home/mde48/lenskit/lk-demo-experiment/.venv/lib/python3.13/site-packages/lenskit/metrics/bulk.py:127: FutureWarning: The previous implementation of stack is deprecated and will be removed in a future version of pandas. See the What's New notes for pandas 2.1.0 for details. Specify future_stack=True to adopt the new implementation and silence this warning.\n",
      "  df = scores.groupby(list(keys)).agg([\"mean\", \"median\", \"std\"]).stack(level=0)\n"
     ]
    },
    {
     "data": {
      "text/html": [
       "<div>\n",
       "<style scoped>\n",
       "    .dataframe tbody tr th:only-of-type {\n",
       "        vertical-align: middle;\n",
       "    }\n",
       "\n",
       "    .dataframe tbody tr th {\n",
       "        vertical-align: top;\n",
       "    }\n",
       "\n",
       "    .dataframe thead th {\n",
       "        text-align: right;\n",
       "    }\n",
       "</style>\n",
       "<table border=\"1\" class=\"dataframe\">\n",
       "  <thead>\n",
       "    <tr style=\"text-align: right;\">\n",
       "      <th></th>\n",
       "      <th>NDCG</th>\n",
       "      <th>RBP</th>\n",
       "      <th>RecipRank</th>\n",
       "    </tr>\n",
       "    <tr>\n",
       "      <th>model</th>\n",
       "      <th></th>\n",
       "      <th></th>\n",
       "      <th></th>\n",
       "    </tr>\n",
       "  </thead>\n",
       "  <tbody>\n",
       "    <tr>\n",
       "      <th>ALS</th>\n",
       "      <td>0.163800</td>\n",
       "      <td>0.176975</td>\n",
       "      <td>0.237353</td>\n",
       "    </tr>\n",
       "    <tr>\n",
       "      <th>Bias</th>\n",
       "      <td>0.163369</td>\n",
       "      <td>0.177391</td>\n",
       "      <td>0.228765</td>\n",
       "    </tr>\n",
       "    <tr>\n",
       "      <th>IALS</th>\n",
       "      <td>0.099041</td>\n",
       "      <td>0.045300</td>\n",
       "      <td>0.115516</td>\n",
       "    </tr>\n",
       "    <tr>\n",
       "      <th>IIE</th>\n",
       "      <td>0.028293</td>\n",
       "      <td>0.014442</td>\n",
       "      <td>0.036741</td>\n",
       "    </tr>\n",
       "    <tr>\n",
       "      <th>III</th>\n",
       "      <td>0.051244</td>\n",
       "      <td>0.044998</td>\n",
       "      <td>0.078288</td>\n",
       "    </tr>\n",
       "    <tr>\n",
       "      <th>Pop</th>\n",
       "      <td>0.279687</td>\n",
       "      <td>0.318951</td>\n",
       "      <td>0.494082</td>\n",
       "    </tr>\n",
       "    <tr>\n",
       "      <th>UUE</th>\n",
       "      <td>0.022112</td>\n",
       "      <td>0.002570</td>\n",
       "      <td>0.010190</td>\n",
       "    </tr>\n",
       "  </tbody>\n",
       "</table>\n",
       "</div>"
      ],
      "text/plain": [
       "           NDCG       RBP  RecipRank\n",
       "model                               \n",
       "ALS    0.163800  0.176975   0.237353\n",
       "Bias   0.163369  0.177391   0.228765\n",
       "IALS   0.099041  0.045300   0.115516\n",
       "IIE    0.028293  0.014442   0.036741\n",
       "III    0.051244  0.044998   0.078288\n",
       "Pop    0.279687  0.318951   0.494082\n",
       "UUE    0.022112  0.002570   0.010190"
      ]
     },
     "execution_count": 18,
     "metadata": {},
     "output_type": "execute_result"
    }
   ],
   "source": [
    "rlsum = rec_results.list_summary('model')['mean'].unstack()\n",
    "rlsum"
   ]
  },
  {
   "cell_type": "code",
   "execution_count": 19,
   "id": "fb76a470",
   "metadata": {
    "execution": {
     "iopub.execute_input": "2025-02-22T22:25:04.837632Z",
     "iopub.status.busy": "2025-02-22T22:25:04.837531Z",
     "iopub.status.idle": "2025-02-22T22:25:04.839239Z",
     "shell.execute_reply": "2025-02-22T22:25:04.839078Z"
    },
    "papermill": {
     "duration": 0.00416,
     "end_time": "2025-02-22T22:25:04.839607",
     "exception": false,
     "start_time": "2025-02-22T22:25:04.835447",
     "status": "completed"
    },
    "tags": []
   },
   "outputs": [],
   "source": [
    "rlsum.to_json(f'eval-metrics.{dataset}.json', orient='index')"
   ]
  }
 ],
 "metadata": {
  "jupytext": {
   "formats": "ipynb,md",
   "notebook_metadata_filter": "split_at_heading"
  },
  "kernelspec": {
   "display_name": ".venv",
   "language": "python",
   "name": "python3"
  },
  "language_info": {
   "codemirror_mode": {
    "name": "ipython",
    "version": 3
   },
   "file_extension": ".py",
   "mimetype": "text/x-python",
   "name": "python",
   "nbconvert_exporter": "python",
   "pygments_lexer": "ipython3",
   "version": "3.13.2"
  },
  "papermill": {
   "default_parameters": {},
   "duration": 3.344066,
   "end_time": "2025-02-22T22:25:05.256167",
   "environment_variables": {},
   "exception": null,
   "input_path": "eval-report.ipynb",
   "output_path": "eval-report.ml-100k.ipynb",
   "parameters": {
    "dataset": "ml-100k"
   },
   "start_time": "2025-02-22T22:25:01.912101",
   "version": "2.6.0"
  },
  "split_at_heading": true
 },
 "nbformat": 4,
 "nbformat_minor": 5
}