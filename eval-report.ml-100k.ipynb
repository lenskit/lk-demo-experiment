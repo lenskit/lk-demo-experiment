{
 "cells": [
  {
   "cell_type": "markdown",
   "id": "208ba4f6",
   "metadata": {
    "tags": [
     "papermill-error-cell-tag"
    ]
   },
   "source": [
    "<span style=\"color:red; font-family:Helvetica Neue, Helvetica, Arial, sans-serif; font-size:2em;\">An Exception was encountered at '<a href=\"#papermill-error-cell\">In [15]</a>'.</span>"
   ]
  },
  {
   "cell_type": "markdown",
   "id": "a90dbf44",
   "metadata": {
    "papermill": {
     "duration": 0.005077,
     "end_time": "2025-02-06T17:46:05.970320",
     "exception": false,
     "start_time": "2025-02-06T17:46:05.965243",
     "status": "completed"
    },
    "tags": []
   },
   "source": [
    "# Evaluation Analysis for Recommender Output"
   ]
  },
  {
   "cell_type": "markdown",
   "id": "bd340e15",
   "metadata": {
    "papermill": {
     "duration": 0.001188,
     "end_time": "2025-02-06T17:46:05.973004",
     "exception": false,
     "start_time": "2025-02-06T17:46:05.971816",
     "status": "completed"
    },
    "tags": []
   },
   "source": [
    "In this section we will analyze and compare the generated recommendations and predictions from a predefined list of algorithms with the goal of assessing the performance of each algorithm with respect to a metric. In other words, we would rank the algorithms for each metric considered with respect to performance."
   ]
  },
  {
   "cell_type": "markdown",
   "id": "b71f7f77",
   "metadata": {
    "papermill": {
     "duration": 0.001126,
     "end_time": "2025-02-06T17:46:05.975323",
     "exception": false,
     "start_time": "2025-02-06T17:46:05.974197",
     "status": "completed"
    },
    "tags": []
   },
   "source": [
    "## Setup"
   ]
  },
  {
   "cell_type": "markdown",
   "id": "686b5bb6",
   "metadata": {
    "papermill": {
     "duration": 0.001245,
     "end_time": "2025-02-06T17:46:05.977743",
     "exception": false,
     "start_time": "2025-02-06T17:46:05.976498",
     "status": "completed"
    },
    "tags": []
   },
   "source": [
    "Below are the list of packages required to successfully run the analysis. They are divided into partitions to signify their specific task.<br>\n",
    "We need the pathlib package for working with files and folders"
   ]
  },
  {
   "cell_type": "code",
   "execution_count": 1,
   "id": "3f67d845",
   "metadata": {
    "execution": {
     "iopub.execute_input": "2025-02-06T17:46:05.980696Z",
     "iopub.status.busy": "2025-02-06T17:46:05.980557Z",
     "iopub.status.idle": "2025-02-06T17:46:05.982248Z",
     "shell.execute_reply": "2025-02-06T17:46:05.982084Z"
    },
    "papermill": {
     "duration": 0.003758,
     "end_time": "2025-02-06T17:46:05.982673",
     "exception": false,
     "start_time": "2025-02-06T17:46:05.978915",
     "status": "completed"
    },
    "tags": []
   },
   "outputs": [],
   "source": [
    "from pathlib import Path\n",
    "import json"
   ]
  },
  {
   "cell_type": "markdown",
   "id": "9ca58076",
   "metadata": {
    "papermill": {
     "duration": 0.00116,
     "end_time": "2025-02-06T17:46:05.985041",
     "exception": false,
     "start_time": "2025-02-06T17:46:05.983881",
     "status": "completed"
    },
    "tags": []
   },
   "source": [
    "We would use the pandas for analyzing and manipulating our data while seaborn and matplotlib are used for data visualization. statsmodels.graphics.gofplots and scipy.stats.shapiro are used for normality check. Scipy.stats.friedmanchisquare is a non-parametric test used to determine the statistical significance in metric results and the wilcoxon test is used for pairwise comparison of sample data."
   ]
  },
  {
   "cell_type": "code",
   "execution_count": 2,
   "id": "7f5b8e5e",
   "metadata": {
    "execution": {
     "iopub.execute_input": "2025-02-06T17:46:05.987769Z",
     "iopub.status.busy": "2025-02-06T17:46:05.987699Z",
     "iopub.status.idle": "2025-02-06T17:46:06.470427Z",
     "shell.execute_reply": "2025-02-06T17:46:06.470032Z"
    },
    "lines_to_next_cell": 2,
    "papermill": {
     "duration": 0.484943,
     "end_time": "2025-02-06T17:46:06.471182",
     "exception": false,
     "start_time": "2025-02-06T17:46:05.986239",
     "status": "completed"
    },
    "tags": []
   },
   "outputs": [],
   "source": [
    "import pandas as pd\n",
    "import seaborn as sns\n",
    "import matplotlib.pyplot as plt\n",
    "from statsmodels.graphics.gofplots import qqplot\n",
    "from scipy.stats import shapiro\n",
    "from scipy.stats import friedmanchisquare, wilcoxon\n",
    "from itertools import combinations"
   ]
  },
  {
   "cell_type": "markdown",
   "id": "f13b0ceb",
   "metadata": {
    "papermill": {
     "duration": 0.009173,
     "end_time": "2025-02-06T17:46:06.481793",
     "exception": false,
     "start_time": "2025-02-06T17:46:06.472620",
     "status": "completed"
    },
    "tags": []
   },
   "source": [
    "Import the LensKit metrics for analysis:"
   ]
  },
  {
   "cell_type": "code",
   "execution_count": 3,
   "id": "6f233051",
   "metadata": {
    "execution": {
     "iopub.execute_input": "2025-02-06T17:46:06.484825Z",
     "iopub.status.busy": "2025-02-06T17:46:06.484697Z",
     "iopub.status.idle": "2025-02-06T17:46:07.108452Z",
     "shell.execute_reply": "2025-02-06T17:46:07.107960Z"
    },
    "papermill": {
     "duration": 0.626071,
     "end_time": "2025-02-06T17:46:07.109184",
     "exception": false,
     "start_time": "2025-02-06T17:46:06.483113",
     "status": "completed"
    },
    "tags": []
   },
   "outputs": [],
   "source": [
    "from lenskit.data import ItemListCollection, UserIDKey\n",
    "from lenskit.metrics import RunAnalysis, RMSE, NDCG, RecipRank, RBP"
   ]
  },
  {
   "cell_type": "markdown",
   "id": "bd6c25dc",
   "metadata": {
    "papermill": {
     "duration": 0.001633,
     "end_time": "2025-02-06T17:46:07.112414",
     "exception": false,
     "start_time": "2025-02-06T17:46:07.110781",
     "status": "completed"
    },
    "tags": []
   },
   "source": [
    "## Load Data\n",
    "\n",
    "The recommendations are in `runs`, and we will need to reassemble the test data from `test`."
   ]
  },
  {
   "cell_type": "code",
   "execution_count": 4,
   "id": "873cf52a",
   "metadata": {
    "execution": {
     "iopub.execute_input": "2025-02-06T17:46:07.115441Z",
     "iopub.status.busy": "2025-02-06T17:46:07.115354Z",
     "iopub.status.idle": "2025-02-06T17:46:07.116820Z",
     "shell.execute_reply": "2025-02-06T17:46:07.116659Z"
    },
    "papermill": {
     "duration": 0.00355,
     "end_time": "2025-02-06T17:46:07.117238",
     "exception": false,
     "start_time": "2025-02-06T17:46:07.113688",
     "status": "completed"
    },
    "tags": [
     "parameters"
    ]
   },
   "outputs": [],
   "source": [
    "dataset = \"ml100k\""
   ]
  },
  {
   "cell_type": "code",
   "execution_count": 5,
   "id": "16ff32a8",
   "metadata": {
    "execution": {
     "iopub.execute_input": "2025-02-06T17:46:07.120067Z",
     "iopub.status.busy": "2025-02-06T17:46:07.119991Z",
     "iopub.status.idle": "2025-02-06T17:46:07.121521Z",
     "shell.execute_reply": "2025-02-06T17:46:07.121265Z"
    },
    "papermill": {
     "duration": 0.003561,
     "end_time": "2025-02-06T17:46:07.122006",
     "exception": false,
     "start_time": "2025-02-06T17:46:07.118445",
     "status": "completed"
    },
    "tags": [
     "injected-parameters"
    ]
   },
   "outputs": [],
   "source": [
    "# Parameters\n",
    "dataset = \"ml-100k\"\n"
   ]
  },
  {
   "cell_type": "code",
   "execution_count": 6,
   "id": "63aeae9b",
   "metadata": {
    "execution": {
     "iopub.execute_input": "2025-02-06T17:46:07.124905Z",
     "iopub.status.busy": "2025-02-06T17:46:07.124694Z",
     "iopub.status.idle": "2025-02-06T17:46:07.126572Z",
     "shell.execute_reply": "2025-02-06T17:46:07.126283Z"
    },
    "papermill": {
     "duration": 0.003686,
     "end_time": "2025-02-06T17:46:07.126896",
     "exception": false,
     "start_time": "2025-02-06T17:46:07.123210",
     "status": "completed"
    },
    "tags": []
   },
   "outputs": [],
   "source": [
    "output_root = Path(\"runs\")"
   ]
  },
  {
   "cell_type": "code",
   "execution_count": 7,
   "id": "421e8970",
   "metadata": {
    "execution": {
     "iopub.execute_input": "2025-02-06T17:46:07.129712Z",
     "iopub.status.busy": "2025-02-06T17:46:07.129589Z",
     "iopub.status.idle": "2025-02-06T17:46:07.132544Z",
     "shell.execute_reply": "2025-02-06T17:46:07.132210Z"
    },
    "papermill": {
     "duration": 0.004879,
     "end_time": "2025-02-06T17:46:07.132988",
     "exception": false,
     "start_time": "2025-02-06T17:46:07.128109",
     "status": "completed"
    },
    "tags": []
   },
   "outputs": [],
   "source": [
    "dirs = [fld for fld in output_root.glob(f'{dataset}-*')]"
   ]
  },
  {
   "cell_type": "code",
   "execution_count": 8,
   "id": "8957d79c",
   "metadata": {
    "execution": {
     "iopub.execute_input": "2025-02-06T17:46:07.135961Z",
     "iopub.status.busy": "2025-02-06T17:46:07.135692Z",
     "iopub.status.idle": "2025-02-06T17:46:07.145867Z",
     "shell.execute_reply": "2025-02-06T17:46:07.145623Z"
    },
    "papermill": {
     "duration": 0.012079,
     "end_time": "2025-02-06T17:46:07.146277",
     "exception": false,
     "start_time": "2025-02-06T17:46:07.134198",
     "status": "completed"
    },
    "tags": []
   },
   "outputs": [],
   "source": [
    "recs = ItemListCollection(['model', 'user_id'], index=False)\n",
    "for fld in dirs:\n",
    "    for file in fld.glob(\"recs-*\"):\n",
    "        rec = ItemListCollection.load_parquet(file)\n",
    "        recs.add_from(rec, model=fld.name.split(\"-\")[1])"
   ]
  },
  {
   "cell_type": "code",
   "execution_count": 9,
   "id": "ae78a2f9",
   "metadata": {
    "execution": {
     "iopub.execute_input": "2025-02-06T17:46:07.149057Z",
     "iopub.status.busy": "2025-02-06T17:46:07.148988Z",
     "iopub.status.idle": "2025-02-06T17:46:07.151897Z",
     "shell.execute_reply": "2025-02-06T17:46:07.151670Z"
    },
    "papermill": {
     "duration": 0.004669,
     "end_time": "2025-02-06T17:46:07.152225",
     "exception": false,
     "start_time": "2025-02-06T17:46:07.147556",
     "status": "completed"
    },
    "tags": []
   },
   "outputs": [
    {
     "data": {
      "text/plain": [
       "['100k']"
      ]
     },
     "execution_count": 9,
     "metadata": {},
     "output_type": "execute_result"
    }
   ],
   "source": [
    "rec_algos = sorted(set(a for (a, _u) in recs.keys()))\n",
    "rec_algos"
   ]
  },
  {
   "cell_type": "code",
   "execution_count": 10,
   "id": "13b71df1",
   "metadata": {
    "execution": {
     "iopub.execute_input": "2025-02-06T17:46:07.155043Z",
     "iopub.status.busy": "2025-02-06T17:46:07.154977Z",
     "iopub.status.idle": "2025-02-06T17:46:07.159430Z",
     "shell.execute_reply": "2025-02-06T17:46:07.159169Z"
    },
    "papermill": {
     "duration": 0.006192,
     "end_time": "2025-02-06T17:46:07.159719",
     "exception": false,
     "start_time": "2025-02-06T17:46:07.153527",
     "status": "completed"
    },
    "tags": []
   },
   "outputs": [],
   "source": [
    "preds = ItemListCollection(['model', 'user_id'], index=False)\n",
    "for fld in dirs:\n",
    "    for file in fld.glob(\"pred-*\"):\n",
    "        pred = ItemListCollection.load_parquet(file)\n",
    "        preds.add_from(pred, model=fld.name.split(\"-\")[1])"
   ]
  },
  {
   "cell_type": "markdown",
   "id": "6fee6979",
   "metadata": {
    "papermill": {
     "duration": 0.001282,
     "end_time": "2025-02-06T17:46:07.162299",
     "exception": false,
     "start_time": "2025-02-06T17:46:07.161017",
     "status": "completed"
    },
    "tags": []
   },
   "source": [
    "We need to load the test data so that we have the ground truths for computing accuracy"
   ]
  },
  {
   "cell_type": "code",
   "execution_count": 11,
   "id": "bbcee323",
   "metadata": {
    "execution": {
     "iopub.execute_input": "2025-02-06T17:46:07.165404Z",
     "iopub.status.busy": "2025-02-06T17:46:07.165333Z",
     "iopub.status.idle": "2025-02-06T17:46:07.166679Z",
     "shell.execute_reply": "2025-02-06T17:46:07.166529Z"
    },
    "papermill": {
     "duration": 0.003229,
     "end_time": "2025-02-06T17:46:07.166974",
     "exception": false,
     "start_time": "2025-02-06T17:46:07.163745",
     "status": "completed"
    },
    "tags": []
   },
   "outputs": [],
   "source": [
    "split_root = Path(\"data-split\")\n",
    "split_dir = split_root / dataset"
   ]
  },
  {
   "cell_type": "code",
   "execution_count": 12,
   "id": "baba5f24",
   "metadata": {
    "execution": {
     "iopub.execute_input": "2025-02-06T17:46:07.169879Z",
     "iopub.status.busy": "2025-02-06T17:46:07.169813Z",
     "iopub.status.idle": "2025-02-06T17:46:07.171319Z",
     "shell.execute_reply": "2025-02-06T17:46:07.171170Z"
    },
    "papermill": {
     "duration": 0.003297,
     "end_time": "2025-02-06T17:46:07.171630",
     "exception": false,
     "start_time": "2025-02-06T17:46:07.168333",
     "status": "completed"
    },
    "tags": []
   },
   "outputs": [],
   "source": [
    "test = ItemListCollection(UserIDKey)\n",
    "for file in split_dir.glob(\"test-*.parquet\"):\n",
    "    df = pd.read_parquet(file)\n",
    "    part = ItemListCollection.from_df(df, UserIDKey)\n",
    "    test.add_from(part)"
   ]
  },
  {
   "cell_type": "markdown",
   "id": "dab227c3",
   "metadata": {
    "papermill": {
     "duration": 0.001299,
     "end_time": "2025-02-06T17:46:07.174279",
     "exception": false,
     "start_time": "2025-02-06T17:46:07.172980",
     "status": "completed"
    },
    "tags": []
   },
   "source": [
    "## Top-N Metrics\n",
    "\n",
    "`RunListAnalysis` computes metrics for recommendation results and takes care of\n",
    "matching recommendations and ground truth."
   ]
  },
  {
   "cell_type": "code",
   "execution_count": 13,
   "id": "b11e6b8c",
   "metadata": {
    "execution": {
     "iopub.execute_input": "2025-02-06T17:46:07.177242Z",
     "iopub.status.busy": "2025-02-06T17:46:07.177172Z",
     "iopub.status.idle": "2025-02-06T17:46:07.186736Z",
     "shell.execute_reply": "2025-02-06T17:46:07.186588Z"
    },
    "papermill": {
     "duration": 0.011504,
     "end_time": "2025-02-06T17:46:07.187085",
     "exception": false,
     "start_time": "2025-02-06T17:46:07.175581",
     "status": "completed"
    },
    "tags": []
   },
   "outputs": [
    {
     "name": "stderr",
     "output_type": "stream",
     "text": [
      "list LKILCKeyType2(model='100k', user_id=729): no test items\n"
     ]
    },
    {
     "name": "stderr",
     "output_type": "stream",
     "text": [
      "list LKILCKeyType2(model='100k', user_id=729): no test items\n"
     ]
    },
    {
     "name": "stderr",
     "output_type": "stream",
     "text": [
      "list LKILCKeyType2(model='100k', user_id=729): no test items\n"
     ]
    },
    {
     "name": "stderr",
     "output_type": "stream",
     "text": [
      "list LKILCKeyType2(model='100k', user_id=729): no test items\n"
     ]
    },
    {
     "name": "stderr",
     "output_type": "stream",
     "text": [
      "list LKILCKeyType2(model='100k', user_id=729): no test items\n"
     ]
    },
    {
     "name": "stderr",
     "output_type": "stream",
     "text": [
      "list LKILCKeyType2(model='100k', user_id=729): no test items\n"
     ]
    },
    {
     "name": "stderr",
     "output_type": "stream",
     "text": [
      "list LKILCKeyType2(model='100k', user_id=729): no test items\n"
     ]
    },
    {
     "name": "stderr",
     "output_type": "stream",
     "text": [
      "/home/mde48/lenskit/lk-demo-experiment/.venv/lib/python3.13/site-packages/lenskit/metrics/bulk.py:127: FutureWarning: The previous implementation of stack is deprecated and will be removed in a future version of pandas. See the What's New notes for pandas 2.1.0 for details. Specify future_stack=True to adopt the new implementation and silence this warning.\n",
      "  df = scores.groupby(list(keys)).agg([\"mean\", \"median\", \"std\"]).stack(level=0)\n"
     ]
    },
    {
     "data": {
      "text/html": [
       "<div>\n",
       "<style scoped>\n",
       "    .dataframe tbody tr th:only-of-type {\n",
       "        vertical-align: middle;\n",
       "    }\n",
       "\n",
       "    .dataframe tbody tr th {\n",
       "        vertical-align: top;\n",
       "    }\n",
       "\n",
       "    .dataframe thead th {\n",
       "        text-align: right;\n",
       "    }\n",
       "</style>\n",
       "<table border=\"1\" class=\"dataframe\">\n",
       "  <thead>\n",
       "    <tr style=\"text-align: right;\">\n",
       "      <th></th>\n",
       "      <th></th>\n",
       "      <th>mean</th>\n",
       "      <th>median</th>\n",
       "      <th>std</th>\n",
       "    </tr>\n",
       "    <tr>\n",
       "      <th>model</th>\n",
       "      <th></th>\n",
       "      <th></th>\n",
       "      <th></th>\n",
       "      <th></th>\n",
       "    </tr>\n",
       "  </thead>\n",
       "  <tbody>\n",
       "    <tr>\n",
       "      <th rowspan=\"3\" valign=\"top\">100k</th>\n",
       "      <th>NDCG</th>\n",
       "      <td>0.0</td>\n",
       "      <td>0.0</td>\n",
       "      <td>0.0</td>\n",
       "    </tr>\n",
       "    <tr>\n",
       "      <th>RBP</th>\n",
       "      <td>0.0</td>\n",
       "      <td>0.0</td>\n",
       "      <td>0.0</td>\n",
       "    </tr>\n",
       "    <tr>\n",
       "      <th>RecipRank</th>\n",
       "      <td>0.0</td>\n",
       "      <td>0.0</td>\n",
       "      <td>0.0</td>\n",
       "    </tr>\n",
       "  </tbody>\n",
       "</table>\n",
       "</div>"
      ],
      "text/plain": [
       "                 mean  median  std\n",
       "model                             \n",
       "100k  NDCG        0.0     0.0  0.0\n",
       "      RBP         0.0     0.0  0.0\n",
       "      RecipRank   0.0     0.0  0.0"
      ]
     },
     "execution_count": 13,
     "metadata": {},
     "output_type": "execute_result"
    }
   ],
   "source": [
    "ra = RunAnalysis()\n",
    "\n",
    "ra.add_metric(NDCG())\n",
    "ra.add_metric(RecipRank())\n",
    "ra.add_metric(RBP())\n",
    "\n",
    "rec_results = ra.compute(recs, test)\n",
    "rec_results.list_summary('model')"
   ]
  },
  {
   "cell_type": "markdown",
   "id": "ecf492c5",
   "metadata": {
    "papermill": {
     "duration": 0.001501,
     "end_time": "2025-02-06T17:46:07.190172",
     "exception": false,
     "start_time": "2025-02-06T17:46:07.188671",
     "status": "completed"
    },
    "tags": []
   },
   "source": [
    "We can reshape the list metrics and plot them:"
   ]
  },
  {
   "cell_type": "code",
   "execution_count": 14,
   "id": "ebc36567",
   "metadata": {
    "execution": {
     "iopub.execute_input": "2025-02-06T17:46:07.193568Z",
     "iopub.status.busy": "2025-02-06T17:46:07.193459Z",
     "iopub.status.idle": "2025-02-06T17:46:07.361564Z",
     "shell.execute_reply": "2025-02-06T17:46:07.361183Z"
    },
    "papermill": {
     "duration": 0.170519,
     "end_time": "2025-02-06T17:46:07.362194",
     "exception": false,
     "start_time": "2025-02-06T17:46:07.191675",
     "status": "completed"
    },
    "tags": []
   },
   "outputs": [
    {
     "data": {
      "image/png": "[encoded data removed]",
      "text/plain": [
       "<Figure size 1511.11x500 with 3 Axes>"
      ]
     },
     "metadata": {},
     "output_type": "display_data"
    }
   ],
   "source": [
    "metrics = rec_results.list_metrics()\n",
    "metrics = metrics.melt(var_name='metric', ignore_index=False).reset_index()\n",
    "sns.catplot(metrics, x='model', y='value', col='metric', kind='bar')\n",
    "plt.show()"
   ]
  },
  {
   "cell_type": "markdown",
   "id": "91e96eba",
   "metadata": {
    "papermill": {
     "duration": 0.008842,
     "end_time": "2025-02-06T17:46:07.372930",
     "exception": false,
     "start_time": "2025-02-06T17:46:07.364088",
     "status": "completed"
    },
    "tags": []
   },
   "source": [
    "## Prediction RMSE\n",
    "\n",
    "We will also look at the prediction RMSE."
   ]
  },
  {
   "cell_type": "markdown",
   "id": "41a4bb8a",
   "metadata": {
    "tags": [
     "papermill-error-cell-tag"
    ]
   },
   "source": [
    "<span id=\"papermill-error-cell\" style=\"color:red; font-family:Helvetica Neue, Helvetica, Arial, sans-serif; font-size:2em;\">Execution using papermill encountered an exception here and stopped:</span>"
   ]
  },
  {
   "cell_type": "code",
   "execution_count": 15,
   "id": "2ece0f6d",
   "metadata": {
    "execution": {
     "iopub.execute_input": "2025-02-06T17:46:07.376680Z",
     "iopub.status.busy": "2025-02-06T17:46:07.376523Z",
     "iopub.status.idle": "2025-02-06T17:46:07.447838Z",
     "shell.execute_reply": "2025-02-06T17:46:07.447566Z"
    },
    "papermill": {
     "duration": 0.073931,
     "end_time": "2025-02-06T17:46:07.448442",
     "exception": true,
     "start_time": "2025-02-06T17:46:07.374511",
     "status": "failed"
    },
    "tags": []
   },
   "outputs": [
    {
     "name": "stderr",
     "output_type": "stream",
     "text": [
      "list LKILCKeyType2(model='100k', user_id=729): no test items\n"
     ]
    },
    {
     "name": "stderr",
     "output_type": "stream",
     "text": [
      "list LKILCKeyType2(model='100k', user_id=729): no test items\n"
     ]
    },
    {
     "name": "stderr",
     "output_type": "stream",
     "text": [
      "list LKILCKeyType2(model='100k', user_id=729): no test items\n"
     ]
    },
    {
     "name": "stderr",
     "output_type": "stream",
     "text": [
      "list LKILCKeyType2(model='100k', user_id=729): no test items\n"
     ]
    },
    {
     "ename": "ZeroDivisionError",
     "evalue": "float division by zero",
     "output_type": "error",
     "traceback": [
      "\u001b[0;31m---------------------------------------------------------------------------\u001b[0m",
      "\u001b[0;31mZeroDivisionError\u001b[0m                         Traceback (most recent call last)",
      "Cell \u001b[0;32mIn[15], line 5\u001b[0m\n\u001b[1;32m      1\u001b[0m pa \u001b[38;5;241m=\u001b[39m RunAnalysis()\n\u001b[1;32m      3\u001b[0m pa\u001b[38;5;241m.\u001b[39madd_metric(RMSE(missing_scores\u001b[38;5;241m=\u001b[39m\u001b[38;5;124m'\u001b[39m\u001b[38;5;124mignore\u001b[39m\u001b[38;5;124m'\u001b[39m, missing_truth\u001b[38;5;241m=\u001b[39m\u001b[38;5;124m'\u001b[39m\u001b[38;5;124mignore\u001b[39m\u001b[38;5;124m'\u001b[39m))\n\u001b[0;32m----> 5\u001b[0m pred_results \u001b[38;5;241m=\u001b[39m \u001b[43mpa\u001b[49m\u001b[38;5;241;43m.\u001b[39;49m\u001b[43mcompute\u001b[49m\u001b[43m(\u001b[49m\u001b[43mpreds\u001b[49m\u001b[43m,\u001b[49m\u001b[43m \u001b[49m\u001b[43mtest\u001b[49m\u001b[43m)\u001b[49m\n\u001b[1;32m      6\u001b[0m pred_results\u001b[38;5;241m.\u001b[39mlist_summary(\u001b[38;5;124m'\u001b[39m\u001b[38;5;124mmodel\u001b[39m\u001b[38;5;124m'\u001b[39m)\n",
      "File \u001b[0;32m~/lenskit/lk-demo-experiment/.venv/lib/python3.13/site-packages/lenskit/metrics/bulk.py:258\u001b[0m, in \u001b[0;36mRunAnalysis.compute\u001b[0;34m(self, outputs, test)\u001b[0m\n\u001b[1;32m    252\u001b[0m         pb\u001b[38;5;241m.\u001b[39mupdate()\n\u001b[1;32m    254\u001b[0m _log\u001b[38;5;241m.\u001b[39minfo(\u001b[38;5;124m\"\u001b[39m\u001b[38;5;124mcomputing \u001b[39m\u001b[38;5;132;01m%d\u001b[39;00m\u001b[38;5;124m global metrics for \u001b[39m\u001b[38;5;132;01m%d\u001b[39;00m\u001b[38;5;124m output lists\u001b[39m\u001b[38;5;124m\"\u001b[39m, \u001b[38;5;28mlen\u001b[39m(gms), n)\n\u001b[1;32m    255\u001b[0m global_results \u001b[38;5;241m=\u001b[39m pd\u001b[38;5;241m.\u001b[39mSeries(\n\u001b[1;32m    256\u001b[0m     {\n\u001b[1;32m    257\u001b[0m         m\u001b[38;5;241m.\u001b[39mlabel: (\n\u001b[0;32m--> 258\u001b[0m             \u001b[43mm\u001b[49m\u001b[38;5;241;43m.\u001b[39;49m\u001b[43mmetric\u001b[49m\u001b[38;5;241;43m.\u001b[39;49m\u001b[43mglobal_aggregate\u001b[49m\u001b[43m(\u001b[49m\u001b[43mlist_intermediates\u001b[49m\u001b[43m[\u001b[49m\u001b[43mm\u001b[49m\u001b[38;5;241;43m.\u001b[39;49m\u001b[43mlabel\u001b[49m\u001b[43m]\u001b[49m\u001b[43m)\u001b[49m\n\u001b[1;32m    259\u001b[0m             \u001b[38;5;28;01mif\u001b[39;00m m\u001b[38;5;241m.\u001b[39mis_decomposed\n\u001b[1;32m    260\u001b[0m             \u001b[38;5;28;01melse\u001b[39;00m m\u001b[38;5;241m.\u001b[39mmeasure_run(outputs, test)\n\u001b[1;32m    261\u001b[0m         )\n\u001b[1;32m    262\u001b[0m         \u001b[38;5;28;01mfor\u001b[39;00m m \u001b[38;5;129;01min\u001b[39;00m \u001b[38;5;28mself\u001b[39m\u001b[38;5;241m.\u001b[39mmetrics\n\u001b[1;32m    263\u001b[0m         \u001b[38;5;28;01mif\u001b[39;00m m\u001b[38;5;241m.\u001b[39mis_global \u001b[38;5;129;01mor\u001b[39;00m m\u001b[38;5;241m.\u001b[39mis_decomposed\n\u001b[1;32m    264\u001b[0m     },\n\u001b[1;32m    265\u001b[0m     dtype\u001b[38;5;241m=\u001b[39mnp\u001b[38;5;241m.\u001b[39mfloat64,\n\u001b[1;32m    266\u001b[0m )\n\u001b[1;32m    268\u001b[0m \u001b[38;5;28;01mreturn\u001b[39;00m RunAnalysisResult(\n\u001b[1;32m    269\u001b[0m     list_results,\n\u001b[1;32m    270\u001b[0m     global_results,\n\u001b[1;32m    271\u001b[0m     {m\u001b[38;5;241m.\u001b[39mlabel: m\u001b[38;5;241m.\u001b[39mdefault \u001b[38;5;28;01mfor\u001b[39;00m m \u001b[38;5;129;01min\u001b[39;00m \u001b[38;5;28mself\u001b[39m\u001b[38;5;241m.\u001b[39mmetrics \u001b[38;5;28;01mif\u001b[39;00m m\u001b[38;5;241m.\u001b[39mdefault \u001b[38;5;129;01mis\u001b[39;00m \u001b[38;5;129;01mnot\u001b[39;00m \u001b[38;5;28;01mNone\u001b[39;00m},\n\u001b[1;32m    272\u001b[0m )\n",
      "File \u001b[0;32m~/lenskit/lk-demo-experiment/.venv/lib/python3.13/site-packages/lenskit/metrics/predict.py:154\u001b[0m, in \u001b[0;36mRMSE.global_aggregate\u001b[0;34m(self, values)\u001b[0m\n\u001b[1;32m    151\u001b[0m     tot_sqerr \u001b[38;5;241m+\u001b[39m\u001b[38;5;241m=\u001b[39m t\n\u001b[1;32m    152\u001b[0m     tot_n \u001b[38;5;241m+\u001b[39m\u001b[38;5;241m=\u001b[39m n\n\u001b[0;32m--> 154\u001b[0m \u001b[38;5;28;01mreturn\u001b[39;00m np\u001b[38;5;241m.\u001b[39msqrt(\u001b[43mtot_sqerr\u001b[49m\u001b[43m \u001b[49m\u001b[38;5;241;43m/\u001b[39;49m\u001b[43m \u001b[49m\u001b[43mtot_n\u001b[49m)\n",
      "\u001b[0;31mZeroDivisionError\u001b[0m: float division by zero"
     ]
    }
   ],
   "source": [
    "pa = RunAnalysis()\n",
    "\n",
    "pa.add_metric(RMSE(missing_scores='ignore', missing_truth='ignore'))\n",
    "\n",
    "pred_results = pa.compute(preds, test)\n",
    "pred_results.list_summary('model')"
   ]
  },
  {
   "cell_type": "code",
   "execution_count": null,
   "id": "267337a4",
   "metadata": {
    "papermill": {
     "duration": null,
     "end_time": null,
     "exception": null,
     "start_time": null,
     "status": "pending"
    },
    "tags": []
   },
   "outputs": [],
   "source": [
    "sns.catplot(pred_results.list_metrics().reset_index(), x='model', y='RMSE', kind='bar')\n",
    "plt.show()"
   ]
  },
  {
   "cell_type": "markdown",
   "id": "69fe652f",
   "metadata": {
    "papermill": {
     "duration": null,
     "end_time": null,
     "exception": null,
     "start_time": null,
     "status": "pending"
    },
    "tags": []
   },
   "source": [
    "## Save Metrics\n",
    "\n",
    "We'll now save the metrics to a file."
   ]
  },
  {
   "cell_type": "code",
   "execution_count": null,
   "id": "84b8508c",
   "metadata": {
    "papermill": {
     "duration": null,
     "end_time": null,
     "exception": null,
     "start_time": null,
     "status": "pending"
    },
    "tags": []
   },
   "outputs": [],
   "source": [
    "rlsum = rec_results.list_summary('model')['mean'].unstack()\n",
    "rlsum"
   ]
  },
  {
   "cell_type": "code",
   "execution_count": null,
   "id": "1000a13b",
   "metadata": {
    "papermill": {
     "duration": null,
     "end_time": null,
     "exception": null,
     "start_time": null,
     "status": "pending"
    },
    "tags": []
   },
   "outputs": [],
   "source": [
    "rlsum.to_json(f'eval-metrics.{dataset}.json', orient='index')"
   ]
  }
 ],
 "metadata": {
  "jupytext": {
   "formats": "ipynb,md",
   "notebook_metadata_filter": "split_at_heading"
  },
  "kernelspec": {
   "display_name": "Python 3",
   "language": "python",
   "name": "python3"
  },
  "language_info": {
   "codemirror_mode": {
    "name": "ipython",
    "version": 3
   },
   "file_extension": ".py",
   "mimetype": "text/x-python",
   "name": "python",
   "nbconvert_exporter": "python",
   "pygments_lexer": "ipython3",
   "version": "3.13.1"
  },
  "papermill": {
   "default_parameters": {},
   "duration": 2.516082,
   "end_time": "2025-02-06T17:46:07.864963",
   "environment_variables": {},
   "exception": true,
   "input_path": "eval-report.ipynb",
   "output_path": "eval-report.ml-100k.ipynb",
   "parameters": {
    "dataset": "ml-100k"
   },
   "start_time": "2025-02-06T17:46:05.348881",
   "version": "2.6.0"
  },
  "split_at_heading": true
 },
 "nbformat": 4,
 "nbformat_minor": 5
}
