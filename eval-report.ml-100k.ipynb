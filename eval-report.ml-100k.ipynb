{
 "cells": [
  {
   "cell_type": "markdown",
   "id": "b4f141a2",
   "metadata": {
    "papermill": {
     "duration": 0.001783,
     "end_time": "2025-03-20T20:58:27.901695",
     "exception": false,
     "start_time": "2025-03-20T20:58:27.899912",
     "status": "completed"
    },
    "tags": []
   },
   "source": [
    "# Evaluation Analysis for Recommender Output"
   ]
  },
  {
   "cell_type": "markdown",
   "id": "fe62da5d",
   "metadata": {
    "papermill": {
     "duration": 0.001536,
     "end_time": "2025-03-20T20:58:27.912216",
     "exception": false,
     "start_time": "2025-03-20T20:58:27.910680",
     "status": "completed"
    },
    "tags": []
   },
   "source": [
    "In this section we will analyze and compare the generated recommendations and predictions from a predefined list of algorithms with the goal of assessing the performance of each algorithm with respect to a metric. In other words, we would rank the algorithms for each metric considered with respect to performance."
   ]
  },
  {
   "cell_type": "markdown",
   "id": "509d5fb5",
   "metadata": {
    "papermill": {
     "duration": 0.00193,
     "end_time": "2025-03-20T20:58:27.915505",
     "exception": false,
     "start_time": "2025-03-20T20:58:27.913575",
     "status": "completed"
    },
    "tags": []
   },
   "source": [
    "## Setup"
   ]
  },
  {
   "cell_type": "markdown",
   "id": "bf426238",
   "metadata": {
    "papermill": {
     "duration": 0.001297,
     "end_time": "2025-03-20T20:58:27.918246",
     "exception": false,
     "start_time": "2025-03-20T20:58:27.916949",
     "status": "completed"
    },
    "tags": []
   },
   "source": [
    "Below are the list of packages required to successfully run the analysis. They are divided into partitions to signify their specific task.<br>\n",
    "We need the pathlib package for working with files and folders"
   ]
  },
  {
   "cell_type": "code",
   "execution_count": 1,
   "id": "c78e1888",
   "metadata": {
    "execution": {
     "iopub.execute_input": "2025-03-20T20:58:27.921462Z",
     "iopub.status.busy": "2025-03-20T20:58:27.921359Z",
     "iopub.status.idle": "2025-03-20T20:58:27.923699Z",
     "shell.execute_reply": "2025-03-20T20:58:27.923379Z"
    },
    "papermill": {
     "duration": 0.004692,
     "end_time": "2025-03-20T20:58:27.924237",
     "exception": false,
     "start_time": "2025-03-20T20:58:27.919545",
     "status": "completed"
    },
    "tags": []
   },
   "outputs": [],
   "source": [
    "from pathlib import Path\n",
    "import json"
   ]
  },
  {
   "cell_type": "markdown",
   "id": "ad0e42f1",
   "metadata": {
    "papermill": {
     "duration": 0.001371,
     "end_time": "2025-03-20T20:58:27.926999",
     "exception": false,
     "start_time": "2025-03-20T20:58:27.925628",
     "status": "completed"
    },
    "tags": []
   },
   "source": [
    "Load libraries for analysis and visualization:"
   ]
  },
  {
   "cell_type": "code",
   "execution_count": 2,
   "id": "293b33c3",
   "metadata": {
    "execution": {
     "iopub.execute_input": "2025-03-20T20:58:27.929998Z",
     "iopub.status.busy": "2025-03-20T20:58:27.929914Z",
     "iopub.status.idle": "2025-03-20T20:58:28.411950Z",
     "shell.execute_reply": "2025-03-20T20:58:28.411549Z"
    },
    "lines_to_next_cell": 2,
    "papermill": {
     "duration": 0.484363,
     "end_time": "2025-03-20T20:58:28.412690",
     "exception": false,
     "start_time": "2025-03-20T20:58:27.928327",
     "status": "completed"
    },
    "tags": []
   },
   "outputs": [],
   "source": [
    "import numpy as np\n",
    "import seaborn as sns\n",
    "import matplotlib.pyplot as plt"
   ]
  },
  {
   "cell_type": "markdown",
   "id": "f93d0984",
   "metadata": {
    "papermill": {
     "duration": 0.008783,
     "end_time": "2025-03-20T20:58:28.423148",
     "exception": false,
     "start_time": "2025-03-20T20:58:28.414365",
     "status": "completed"
    },
    "tags": []
   },
   "source": [
    "Import the LensKit metrics for analysis:"
   ]
  },
  {
   "cell_type": "code",
   "execution_count": 3,
   "id": "9ded95b1",
   "metadata": {
    "execution": {
     "iopub.execute_input": "2025-03-20T20:58:28.426496Z",
     "iopub.status.busy": "2025-03-20T20:58:28.426313Z",
     "iopub.status.idle": "2025-03-20T20:58:29.102811Z",
     "shell.execute_reply": "2025-03-20T20:58:29.102391Z"
    },
    "papermill": {
     "duration": 0.678903,
     "end_time": "2025-03-20T20:58:29.103479",
     "exception": false,
     "start_time": "2025-03-20T20:58:28.424576",
     "status": "completed"
    },
    "tags": []
   },
   "outputs": [],
   "source": [
    "from lenskit.data import Dataset, ItemListCollection\n",
    "from lenskit.metrics import RunAnalysis, RMSE, NDCG, RecipRank, RBP"
   ]
  },
  {
   "cell_type": "code",
   "execution_count": 4,
   "id": "432b86a5",
   "metadata": {
    "execution": {
     "iopub.execute_input": "2025-03-20T20:58:29.114621Z",
     "iopub.status.busy": "2025-03-20T20:58:29.114493Z",
     "iopub.status.idle": "2025-03-20T20:58:29.117664Z",
     "shell.execute_reply": "2025-03-20T20:58:29.117269Z"
    },
    "papermill": {
     "duration": 0.012978,
     "end_time": "2025-03-20T20:58:29.118124",
     "exception": false,
     "start_time": "2025-03-20T20:58:29.105146",
     "status": "completed"
    },
    "tags": []
   },
   "outputs": [],
   "source": [
    "from lkdemo.datasets import split_fraction"
   ]
  },
  {
   "cell_type": "markdown",
   "id": "77f34e1c",
   "metadata": {
    "papermill": {
     "duration": 0.001481,
     "end_time": "2025-03-20T20:58:29.121008",
     "exception": false,
     "start_time": "2025-03-20T20:58:29.119527",
     "status": "completed"
    },
    "tags": []
   },
   "source": [
    "## Load Data\n",
    "\n",
    "The recommendations are in `runs`, and we will need to reassemble the test data from `test`."
   ]
  },
  {
   "cell_type": "code",
   "execution_count": 5,
   "id": "8d67986a",
   "metadata": {
    "execution": {
     "iopub.execute_input": "2025-03-20T20:58:29.124140Z",
     "iopub.status.busy": "2025-03-20T20:58:29.124043Z",
     "iopub.status.idle": "2025-03-20T20:58:29.125636Z",
     "shell.execute_reply": "2025-03-20T20:58:29.125383Z"
    },
    "papermill": {
     "duration": 0.003952,
     "end_time": "2025-03-20T20:58:29.126351",
     "exception": false,
     "start_time": "2025-03-20T20:58:29.122399",
     "status": "completed"
    },
    "tags": [
     "parameters"
    ]
   },
   "outputs": [],
   "source": [
    "dataset = \"ml-100k\""
   ]
  },
  {
   "cell_type": "code",
   "execution_count": 6,
   "id": "38b76f6d",
   "metadata": {
    "execution": {
     "iopub.execute_input": "2025-03-20T20:58:29.132133Z",
     "iopub.status.busy": "2025-03-20T20:58:29.132048Z",
     "iopub.status.idle": "2025-03-20T20:58:29.133617Z",
     "shell.execute_reply": "2025-03-20T20:58:29.133385Z"
    },
    "papermill": {
     "duration": 0.005382,
     "end_time": "2025-03-20T20:58:29.134445",
     "exception": false,
     "start_time": "2025-03-20T20:58:29.129063",
     "status": "completed"
    },
    "tags": [
     "injected-parameters"
    ]
   },
   "outputs": [],
   "source": [
    "# Parameters\n",
    "dataset = \"ml-100k\"\n"
   ]
  },
  {
   "cell_type": "code",
   "execution_count": 7,
   "id": "c9e5a75e",
   "metadata": {
    "execution": {
     "iopub.execute_input": "2025-03-20T20:58:29.137675Z",
     "iopub.status.busy": "2025-03-20T20:58:29.137572Z",
     "iopub.status.idle": "2025-03-20T20:58:29.139248Z",
     "shell.execute_reply": "2025-03-20T20:58:29.138970Z"
    },
    "papermill": {
     "duration": 0.003884,
     "end_time": "2025-03-20T20:58:29.139762",
     "exception": false,
     "start_time": "2025-03-20T20:58:29.135878",
     "status": "completed"
    },
    "tags": []
   },
   "outputs": [],
   "source": [
    "output_root = Path(\"runs\")"
   ]
  },
  {
   "cell_type": "code",
   "execution_count": 8,
   "id": "1b5e5ee3",
   "metadata": {
    "execution": {
     "iopub.execute_input": "2025-03-20T20:58:29.142884Z",
     "iopub.status.busy": "2025-03-20T20:58:29.142811Z",
     "iopub.status.idle": "2025-03-20T20:58:29.144832Z",
     "shell.execute_reply": "2025-03-20T20:58:29.144598Z"
    },
    "papermill": {
     "duration": 0.003989,
     "end_time": "2025-03-20T20:58:29.145175",
     "exception": false,
     "start_time": "2025-03-20T20:58:29.141186",
     "status": "completed"
    },
    "tags": []
   },
   "outputs": [],
   "source": [
    "dirs = [fld for fld in output_root.glob(f'{dataset}-*')]"
   ]
  },
  {
   "cell_type": "code",
   "execution_count": 9,
   "id": "8c5a6d12",
   "metadata": {
    "execution": {
     "iopub.execute_input": "2025-03-20T20:58:29.148418Z",
     "iopub.status.busy": "2025-03-20T20:58:29.148308Z",
     "iopub.status.idle": "2025-03-20T20:58:29.217948Z",
     "shell.execute_reply": "2025-03-20T20:58:29.217390Z"
    },
    "papermill": {
     "duration": 0.072249,
     "end_time": "2025-03-20T20:58:29.218838",
     "exception": false,
     "start_time": "2025-03-20T20:58:29.146589",
     "status": "completed"
    },
    "tags": []
   },
   "outputs": [],
   "source": [
    "recs = ItemListCollection(['model', 'user_id'], index=False)\n",
    "for fld in dirs:\n",
    "    for file in fld.glob(\"recs-*\"):\n",
    "        rec = ItemListCollection.load_parquet(file)\n",
    "        recs.add_from(rec, model=fld.name.split(\"-\")[-1])"
   ]
  },
  {
   "cell_type": "code",
   "execution_count": 10,
   "id": "cc8a4d98",
   "metadata": {
    "execution": {
     "iopub.execute_input": "2025-03-20T20:58:29.222677Z",
     "iopub.status.busy": "2025-03-20T20:58:29.222580Z",
     "iopub.status.idle": "2025-03-20T20:58:29.226335Z",
     "shell.execute_reply": "2025-03-20T20:58:29.226138Z"
    },
    "papermill": {
     "duration": 0.006304,
     "end_time": "2025-03-20T20:58:29.226831",
     "exception": false,
     "start_time": "2025-03-20T20:58:29.220527",
     "status": "completed"
    },
    "tags": []
   },
   "outputs": [
    {
     "data": {
      "text/plain": [
       "['ALS',\n",
       " 'Bias',\n",
       " 'FlexBPR',\n",
       " 'FlexLMF',\n",
       " 'FlexMF',\n",
       " 'IALS',\n",
       " 'IIE',\n",
       " 'III',\n",
       " 'Pop',\n",
       " 'UUE']"
      ]
     },
     "execution_count": 10,
     "metadata": {},
     "output_type": "execute_result"
    }
   ],
   "source": [
    "rec_algos = sorted(set(a for (a, _u) in recs.keys()))\n",
    "rec_algos"
   ]
  },
  {
   "cell_type": "code",
   "execution_count": 11,
   "id": "a36504c9",
   "metadata": {
    "execution": {
     "iopub.execute_input": "2025-03-20T20:58:29.230362Z",
     "iopub.status.busy": "2025-03-20T20:58:29.230282Z",
     "iopub.status.idle": "2025-03-20T20:58:29.289699Z",
     "shell.execute_reply": "2025-03-20T20:58:29.289281Z"
    },
    "papermill": {
     "duration": 0.061942,
     "end_time": "2025-03-20T20:58:29.290293",
     "exception": false,
     "start_time": "2025-03-20T20:58:29.228351",
     "status": "completed"
    },
    "tags": []
   },
   "outputs": [],
   "source": [
    "preds = ItemListCollection(['model', 'user_id'], index=False)\n",
    "for fld in dirs:\n",
    "    for file in fld.glob(\"pred-*\"):\n",
    "        pred = ItemListCollection.load_parquet(file)\n",
    "        preds.add_from(pred, model=fld.name.split(\"-\")[-1])"
   ]
  },
  {
   "cell_type": "markdown",
   "id": "26ac7000",
   "metadata": {
    "papermill": {
     "duration": 0.003051,
     "end_time": "2025-03-20T20:58:29.295006",
     "exception": false,
     "start_time": "2025-03-20T20:58:29.291955",
     "status": "completed"
    },
    "tags": []
   },
   "source": [
    "We need to load the test data so that we have the ground truths for computing accuracy."
   ]
  },
  {
   "cell_type": "code",
   "execution_count": 12,
   "id": "14649b8d",
   "metadata": {
    "execution": {
     "iopub.execute_input": "2025-03-20T20:58:29.298670Z",
     "iopub.status.busy": "2025-03-20T20:58:29.298582Z",
     "iopub.status.idle": "2025-03-20T20:58:29.336831Z",
     "shell.execute_reply": "2025-03-20T20:58:29.336512Z"
    },
    "papermill": {
     "duration": 0.040934,
     "end_time": "2025-03-20T20:58:29.337509",
     "exception": false,
     "start_time": "2025-03-20T20:58:29.296575",
     "status": "completed"
    },
    "tags": []
   },
   "outputs": [],
   "source": [
    "data = Dataset.load(f\"data/{dataset}\")\n",
    "split = split_fraction(data, 0.2)\n",
    "test = split.test"
   ]
  },
  {
   "cell_type": "markdown",
   "id": "12706408",
   "metadata": {
    "papermill": {
     "duration": 0.00152,
     "end_time": "2025-03-20T20:58:29.340817",
     "exception": false,
     "start_time": "2025-03-20T20:58:29.339297",
     "status": "completed"
    },
    "tags": []
   },
   "source": [
    "And identify users in the training set, so we only report metrics over them."
   ]
  },
  {
   "cell_type": "code",
   "execution_count": 13,
   "id": "a6fb0bd9",
   "metadata": {
    "execution": {
     "iopub.execute_input": "2025-03-20T20:58:29.344484Z",
     "iopub.status.busy": "2025-03-20T20:58:29.344399Z",
     "iopub.status.idle": "2025-03-20T20:58:29.354489Z",
     "shell.execute_reply": "2025-03-20T20:58:29.354323Z"
    },
    "papermill": {
     "duration": 0.012603,
     "end_time": "2025-03-20T20:58:29.354947",
     "exception": false,
     "start_time": "2025-03-20T20:58:29.342344",
     "status": "completed"
    },
    "tags": []
   },
   "outputs": [],
   "source": [
    "train_users = split.train.user_stats()\n",
    "train_users = train_users[train_users['rating_count'] > 0]"
   ]
  },
  {
   "cell_type": "markdown",
   "id": "320cd787",
   "metadata": {
    "papermill": {
     "duration": 0.001513,
     "end_time": "2025-03-20T20:58:29.357977",
     "exception": false,
     "start_time": "2025-03-20T20:58:29.356464",
     "status": "completed"
    },
    "tags": []
   },
   "source": [
    "## Top-N Metrics\n",
    "\n",
    "`RunListAnalysis` computes metrics for recommendation results and takes care of\n",
    "matching recommendations and ground truth."
   ]
  },
  {
   "cell_type": "code",
   "execution_count": 14,
   "id": "5a041f16",
   "metadata": {
    "execution": {
     "iopub.execute_input": "2025-03-20T20:58:29.361547Z",
     "iopub.status.busy": "2025-03-20T20:58:29.361466Z",
     "iopub.status.idle": "2025-03-20T20:58:29.622007Z",
     "shell.execute_reply": "2025-03-20T20:58:29.621750Z"
    },
    "papermill": {
     "duration": 0.263072,
     "end_time": "2025-03-20T20:58:29.622593",
     "exception": false,
     "start_time": "2025-03-20T20:58:29.359521",
     "status": "completed"
    },
    "tags": []
   },
   "outputs": [
    {
     "name": "stderr",
     "output_type": "stream",
     "text": [
      "/home/mde48/lenskit/lkpy/src/lenskit/metrics/bulk.py:133: FutureWarning: The previous implementation of stack is deprecated and will be removed in a future version of pandas. See the What's New notes for pandas 2.1.0 for details. Specify future_stack=True to adopt the new implementation and silence this warning.\n",
      "  df = scores.groupby(list(keys)).agg([\"mean\", \"median\", \"std\"]).stack(level=0)\n"
     ]
    },
    {
     "data": {
      "text/html": [
       "<div>\n",
       "<style scoped>\n",
       "    .dataframe tbody tr th:only-of-type {\n",
       "        vertical-align: middle;\n",
       "    }\n",
       "\n",
       "    .dataframe tbody tr th {\n",
       "        vertical-align: top;\n",
       "    }\n",
       "\n",
       "    .dataframe thead th {\n",
       "        text-align: right;\n",
       "    }\n",
       "</style>\n",
       "<table border=\"1\" class=\"dataframe\">\n",
       "  <thead>\n",
       "    <tr style=\"text-align: right;\">\n",
       "      <th></th>\n",
       "      <th></th>\n",
       "      <th>mean</th>\n",
       "      <th>median</th>\n",
       "      <th>std</th>\n",
       "    </tr>\n",
       "    <tr>\n",
       "      <th>model</th>\n",
       "      <th></th>\n",
       "      <th></th>\n",
       "      <th></th>\n",
       "      <th></th>\n",
       "    </tr>\n",
       "  </thead>\n",
       "  <tbody>\n",
       "    <tr>\n",
       "      <th rowspan=\"3\" valign=\"top\">ALS</th>\n",
       "      <th>NDCG</th>\n",
       "      <td>0.163800</td>\n",
       "      <td>0.132480</td>\n",
       "      <td>0.120870</td>\n",
       "    </tr>\n",
       "    <tr>\n",
       "      <th>RBP</th>\n",
       "      <td>0.176975</td>\n",
       "      <td>0.081726</td>\n",
       "      <td>0.200577</td>\n",
       "    </tr>\n",
       "    <tr>\n",
       "      <th>RecipRank</th>\n",
       "      <td>0.237353</td>\n",
       "      <td>0.166667</td>\n",
       "      <td>0.262634</td>\n",
       "    </tr>\n",
       "    <tr>\n",
       "      <th rowspan=\"3\" valign=\"top\">Bias</th>\n",
       "      <th>NDCG</th>\n",
       "      <td>0.163369</td>\n",
       "      <td>0.128442</td>\n",
       "      <td>0.122004</td>\n",
       "    </tr>\n",
       "    <tr>\n",
       "      <th>RBP</th>\n",
       "      <td>0.177391</td>\n",
       "      <td>0.086458</td>\n",
       "      <td>0.195531</td>\n",
       "    </tr>\n",
       "    <tr>\n",
       "      <th>RecipRank</th>\n",
       "      <td>0.228765</td>\n",
       "      <td>0.166667</td>\n",
       "      <td>0.242535</td>\n",
       "    </tr>\n",
       "    <tr>\n",
       "      <th rowspan=\"3\" valign=\"top\">FlexBPR</th>\n",
       "      <th>NDCG</th>\n",
       "      <td>0.048112</td>\n",
       "      <td>0.038296</td>\n",
       "      <td>0.058993</td>\n",
       "    </tr>\n",
       "    <tr>\n",
       "      <th>RBP</th>\n",
       "      <td>0.011551</td>\n",
       "      <td>0.000086</td>\n",
       "      <td>0.032803</td>\n",
       "    </tr>\n",
       "    <tr>\n",
       "      <th>RecipRank</th>\n",
       "      <td>0.037104</td>\n",
       "      <td>0.020408</td>\n",
       "      <td>0.088799</td>\n",
       "    </tr>\n",
       "    <tr>\n",
       "      <th rowspan=\"3\" valign=\"top\">FlexLMF</th>\n",
       "      <th>NDCG</th>\n",
       "      <td>0.047042</td>\n",
       "      <td>0.036382</td>\n",
       "      <td>0.049218</td>\n",
       "    </tr>\n",
       "    <tr>\n",
       "      <th>RBP</th>\n",
       "      <td>0.011535</td>\n",
       "      <td>0.000157</td>\n",
       "      <td>0.029016</td>\n",
       "    </tr>\n",
       "    <tr>\n",
       "      <th>RecipRank</th>\n",
       "      <td>0.036859</td>\n",
       "      <td>0.022222</td>\n",
       "      <td>0.074315</td>\n",
       "    </tr>\n",
       "    <tr>\n",
       "      <th rowspan=\"3\" valign=\"top\">FlexMF</th>\n",
       "      <th>NDCG</th>\n",
       "      <td>0.067214</td>\n",
       "      <td>0.058942</td>\n",
       "      <td>0.069942</td>\n",
       "    </tr>\n",
       "    <tr>\n",
       "      <th>RBP</th>\n",
       "      <td>0.027395</td>\n",
       "      <td>0.003570</td>\n",
       "      <td>0.084538</td>\n",
       "    </tr>\n",
       "    <tr>\n",
       "      <th>RecipRank</th>\n",
       "      <td>0.071494</td>\n",
       "      <td>0.040000</td>\n",
       "      <td>0.174823</td>\n",
       "    </tr>\n",
       "    <tr>\n",
       "      <th rowspan=\"3\" valign=\"top\">IALS</th>\n",
       "      <th>NDCG</th>\n",
       "      <td>0.099041</td>\n",
       "      <td>0.078205</td>\n",
       "      <td>0.106209</td>\n",
       "    </tr>\n",
       "    <tr>\n",
       "      <th>RBP</th>\n",
       "      <td>0.045300</td>\n",
       "      <td>0.008053</td>\n",
       "      <td>0.100831</td>\n",
       "    </tr>\n",
       "    <tr>\n",
       "      <th>RecipRank</th>\n",
       "      <td>0.115516</td>\n",
       "      <td>0.045455</td>\n",
       "      <td>0.244183</td>\n",
       "    </tr>\n",
       "    <tr>\n",
       "      <th rowspan=\"3\" valign=\"top\">IIE</th>\n",
       "      <th>NDCG</th>\n",
       "      <td>0.028293</td>\n",
       "      <td>0.000000</td>\n",
       "      <td>0.063929</td>\n",
       "    </tr>\n",
       "    <tr>\n",
       "      <th>RBP</th>\n",
       "      <td>0.014442</td>\n",
       "      <td>0.000000</td>\n",
       "      <td>0.055494</td>\n",
       "    </tr>\n",
       "    <tr>\n",
       "      <th>RecipRank</th>\n",
       "      <td>0.036741</td>\n",
       "      <td>0.000000</td>\n",
       "      <td>0.133359</td>\n",
       "    </tr>\n",
       "    <tr>\n",
       "      <th rowspan=\"3\" valign=\"top\">III</th>\n",
       "      <th>NDCG</th>\n",
       "      <td>0.051244</td>\n",
       "      <td>0.000000</td>\n",
       "      <td>0.125677</td>\n",
       "    </tr>\n",
       "    <tr>\n",
       "      <th>RBP</th>\n",
       "      <td>0.044998</td>\n",
       "      <td>0.000000</td>\n",
       "      <td>0.150366</td>\n",
       "    </tr>\n",
       "    <tr>\n",
       "      <th>RecipRank</th>\n",
       "      <td>0.078288</td>\n",
       "      <td>0.000000</td>\n",
       "      <td>0.233043</td>\n",
       "    </tr>\n",
       "    <tr>\n",
       "      <th rowspan=\"3\" valign=\"top\">Pop</th>\n",
       "      <th>NDCG</th>\n",
       "      <td>0.279687</td>\n",
       "      <td>0.268988</td>\n",
       "      <td>0.162487</td>\n",
       "    </tr>\n",
       "    <tr>\n",
       "      <th>RBP</th>\n",
       "      <td>0.318951</td>\n",
       "      <td>0.250104</td>\n",
       "      <td>0.273319</td>\n",
       "    </tr>\n",
       "    <tr>\n",
       "      <th>RecipRank</th>\n",
       "      <td>0.494082</td>\n",
       "      <td>0.250000</td>\n",
       "      <td>0.409474</td>\n",
       "    </tr>\n",
       "    <tr>\n",
       "      <th rowspan=\"3\" valign=\"top\">UUE</th>\n",
       "      <th>NDCG</th>\n",
       "      <td>0.022112</td>\n",
       "      <td>0.000000</td>\n",
       "      <td>0.044289</td>\n",
       "    </tr>\n",
       "    <tr>\n",
       "      <th>RBP</th>\n",
       "      <td>0.002570</td>\n",
       "      <td>0.000000</td>\n",
       "      <td>0.013186</td>\n",
       "    </tr>\n",
       "    <tr>\n",
       "      <th>RecipRank</th>\n",
       "      <td>0.010190</td>\n",
       "      <td>0.000000</td>\n",
       "      <td>0.024621</td>\n",
       "    </tr>\n",
       "  </tbody>\n",
       "</table>\n",
       "</div>"
      ],
      "text/plain": [
       "                       mean    median       std\n",
       "model                                          \n",
       "ALS     NDCG       0.163800  0.132480  0.120870\n",
       "        RBP        0.176975  0.081726  0.200577\n",
       "        RecipRank  0.237353  0.166667  0.262634\n",
       "Bias    NDCG       0.163369  0.128442  0.122004\n",
       "        RBP        0.177391  0.086458  0.195531\n",
       "        RecipRank  0.228765  0.166667  0.242535\n",
       "FlexBPR NDCG       0.048112  0.038296  0.058993\n",
       "        RBP        0.011551  0.000086  0.032803\n",
       "        RecipRank  0.037104  0.020408  0.088799\n",
       "FlexLMF NDCG       0.047042  0.036382  0.049218\n",
       "        RBP        0.011535  0.000157  0.029016\n",
       "        RecipRank  0.036859  0.022222  0.074315\n",
       "FlexMF  NDCG       0.067214  0.058942  0.069942\n",
       "        RBP        0.027395  0.003570  0.084538\n",
       "        RecipRank  0.071494  0.040000  0.174823\n",
       "IALS    NDCG       0.099041  0.078205  0.106209\n",
       "        RBP        0.045300  0.008053  0.100831\n",
       "        RecipRank  0.115516  0.045455  0.244183\n",
       "IIE     NDCG       0.028293  0.000000  0.063929\n",
       "        RBP        0.014442  0.000000  0.055494\n",
       "        RecipRank  0.036741  0.000000  0.133359\n",
       "III     NDCG       0.051244  0.000000  0.125677\n",
       "        RBP        0.044998  0.000000  0.150366\n",
       "        RecipRank  0.078288  0.000000  0.233043\n",
       "Pop     NDCG       0.279687  0.268988  0.162487\n",
       "        RBP        0.318951  0.250104  0.273319\n",
       "        RecipRank  0.494082  0.250000  0.409474\n",
       "UUE     NDCG       0.022112  0.000000  0.044289\n",
       "        RBP        0.002570  0.000000  0.013186\n",
       "        RecipRank  0.010190  0.000000  0.024621"
      ]
     },
     "execution_count": 14,
     "metadata": {},
     "output_type": "execute_result"
    }
   ],
   "source": [
    "ra = RunAnalysis()\n",
    "\n",
    "ra.add_metric(NDCG())\n",
    "ra.add_metric(RecipRank())\n",
    "ra.add_metric(RBP())\n",
    "\n",
    "rec_results = ra.compute(recs, test)\n",
    "rec_results.list_summary('model')"
   ]
  },
  {
   "cell_type": "markdown",
   "id": "2c724915",
   "metadata": {
    "papermill": {
     "duration": 0.001631,
     "end_time": "2025-03-20T20:58:29.626040",
     "exception": false,
     "start_time": "2025-03-20T20:58:29.624409",
     "status": "completed"
    },
    "tags": []
   },
   "source": [
    "We can reshape the list metrics and plot them, after filtering to only users with at least 1 training rating:"
   ]
  },
  {
   "cell_type": "code",
   "execution_count": 15,
   "id": "a8f7dfe3",
   "metadata": {
    "execution": {
     "iopub.execute_input": "2025-03-20T20:58:29.629951Z",
     "iopub.status.busy": "2025-03-20T20:58:29.629829Z",
     "iopub.status.idle": "2025-03-20T20:58:29.997402Z",
     "shell.execute_reply": "2025-03-20T20:58:29.997122Z"
    },
    "papermill": {
     "duration": 0.370302,
     "end_time": "2025-03-20T20:58:29.998008",
     "exception": false,
     "start_time": "2025-03-20T20:58:29.627706",
     "status": "completed"
    },
    "tags": []
   },
   "outputs": [
    {
     "data": {
      "image/png": "[encoded data removed]",
      "text/plain": [
       "<Figure size 1511.11x500 with 3 Axes>"
      ]
     },
     "metadata": {},
     "output_type": "display_data"
    }
   ],
   "source": [
    "metrics = rec_results.list_metrics()\n",
    "metrics = metrics.melt(var_name='metric', ignore_index=False).reset_index()\n",
    "metrics = metrics[metrics['user_id'].isin(train_users.index)]\n",
    "sns.catplot(metrics, y='model', x='value', col='metric', kind='bar')\n",
    "plt.show()"
   ]
  },
  {
   "cell_type": "markdown",
   "id": "962a83f3",
   "metadata": {
    "papermill": {
     "duration": 0.008912,
     "end_time": "2025-03-20T20:58:30.008871",
     "exception": false,
     "start_time": "2025-03-20T20:58:29.999959",
     "status": "completed"
    },
    "tags": []
   },
   "source": [
    "Let's look at the influence of training ratings on performance, clamping 15+\n",
    "into a single category — this helps understand perhaps surprising performance\n",
    "relative to cross-fold evaluations:"
   ]
  },
  {
   "cell_type": "code",
   "execution_count": 16,
   "id": "c7498c5f",
   "metadata": {
    "execution": {
     "iopub.execute_input": "2025-03-20T20:58:30.012983Z",
     "iopub.status.busy": "2025-03-20T20:58:30.012881Z",
     "iopub.status.idle": "2025-03-20T20:58:30.269667Z",
     "shell.execute_reply": "2025-03-20T20:58:30.269284Z"
    },
    "papermill": {
     "duration": 0.259473,
     "end_time": "2025-03-20T20:58:30.270216",
     "exception": false,
     "start_time": "2025-03-20T20:58:30.010743",
     "status": "completed"
    },
    "tags": []
   },
   "outputs": [
    {
     "data": {
      "image/png": "[encoded data removed]",
      "text/plain": [
       "<Figure size 640x480 with 1 Axes>"
      ]
     },
     "metadata": {},
     "output_type": "display_data"
    }
   ],
   "source": [
    "tcounts = split.train.user_stats()['rating_count'].copy()\n",
    "tcounts[tcounts > 15] = 15\n",
    "metrics = rec_results.list_metrics().reset_index().join(tcounts, on='user_id')\n",
    "sns.lineplot(metrics, x='rating_count', y='NDCG', hue='model', errorbar='ci')\n",
    "plt.xlabel('# of Training Ratings')\n",
    "rc_ticks = np.arange(0, 16, 3)\n",
    "plt.xticks(rc_ticks, rc_ticks[:-1].tolist() + ['15+'])\n",
    "plt.show()"
   ]
  },
  {
   "cell_type": "markdown",
   "id": "5cd7a0c2",
   "metadata": {
    "papermill": {
     "duration": 0.008862,
     "end_time": "2025-03-20T20:58:30.281222",
     "exception": false,
     "start_time": "2025-03-20T20:58:30.272360",
     "status": "completed"
    },
    "tags": []
   },
   "source": [
    "## Prediction RMSE\n",
    "\n",
    "We will also look at the prediction RMSE."
   ]
  },
  {
   "cell_type": "code",
   "execution_count": 17,
   "id": "4ef2104b",
   "metadata": {
    "execution": {
     "iopub.execute_input": "2025-03-20T20:58:30.285893Z",
     "iopub.status.busy": "2025-03-20T20:58:30.285797Z",
     "iopub.status.idle": "2025-03-20T20:58:30.528446Z",
     "shell.execute_reply": "2025-03-20T20:58:30.528281Z"
    },
    "papermill": {
     "duration": 0.245749,
     "end_time": "2025-03-20T20:58:30.529068",
     "exception": false,
     "start_time": "2025-03-20T20:58:30.283319",
     "status": "completed"
    },
    "tags": []
   },
   "outputs": [
    {
     "name": "stderr",
     "output_type": "stream",
     "text": [
      "/home/mde48/lenskit/lkpy/src/lenskit/metrics/bulk.py:133: FutureWarning: The previous implementation of stack is deprecated and will be removed in a future version of pandas. See the What's New notes for pandas 2.1.0 for details. Specify future_stack=True to adopt the new implementation and silence this warning.\n",
      "  df = scores.groupby(list(keys)).agg([\"mean\", \"median\", \"std\"]).stack(level=0)\n"
     ]
    },
    {
     "data": {
      "text/html": [
       "<div>\n",
       "<style scoped>\n",
       "    .dataframe tbody tr th:only-of-type {\n",
       "        vertical-align: middle;\n",
       "    }\n",
       "\n",
       "    .dataframe tbody tr th {\n",
       "        vertical-align: top;\n",
       "    }\n",
       "\n",
       "    .dataframe thead th {\n",
       "        text-align: right;\n",
       "    }\n",
       "</style>\n",
       "<table border=\"1\" class=\"dataframe\">\n",
       "  <thead>\n",
       "    <tr style=\"text-align: right;\">\n",
       "      <th></th>\n",
       "      <th></th>\n",
       "      <th>mean</th>\n",
       "      <th>median</th>\n",
       "      <th>std</th>\n",
       "    </tr>\n",
       "    <tr>\n",
       "      <th>model</th>\n",
       "      <th></th>\n",
       "      <th></th>\n",
       "      <th></th>\n",
       "      <th></th>\n",
       "    </tr>\n",
       "  </thead>\n",
       "  <tbody>\n",
       "    <tr>\n",
       "      <th>ALS</th>\n",
       "      <th>RMSE</th>\n",
       "      <td>0.964949</td>\n",
       "      <td>0.942919</td>\n",
       "      <td>0.298124</td>\n",
       "    </tr>\n",
       "    <tr>\n",
       "      <th>Bias</th>\n",
       "      <th>RMSE</th>\n",
       "      <td>0.971432</td>\n",
       "      <td>0.945351</td>\n",
       "      <td>0.292602</td>\n",
       "    </tr>\n",
       "    <tr>\n",
       "      <th>FlexMF</th>\n",
       "      <th>RMSE</th>\n",
       "      <td>1.015055</td>\n",
       "      <td>1.051425</td>\n",
       "      <td>0.296757</td>\n",
       "    </tr>\n",
       "    <tr>\n",
       "      <th>IIE</th>\n",
       "      <th>RMSE</th>\n",
       "      <td>0.973457</td>\n",
       "      <td>0.944259</td>\n",
       "      <td>0.304926</td>\n",
       "    </tr>\n",
       "    <tr>\n",
       "      <th>UUE</th>\n",
       "      <th>RMSE</th>\n",
       "      <td>0.978119</td>\n",
       "      <td>0.958315</td>\n",
       "      <td>0.305261</td>\n",
       "    </tr>\n",
       "  </tbody>\n",
       "</table>\n",
       "</div>"
      ],
      "text/plain": [
       "                 mean    median       std\n",
       "model                                    \n",
       "ALS    RMSE  0.964949  0.942919  0.298124\n",
       "Bias   RMSE  0.971432  0.945351  0.292602\n",
       "FlexMF RMSE  1.015055  1.051425  0.296757\n",
       "IIE    RMSE  0.973457  0.944259  0.304926\n",
       "UUE    RMSE  0.978119  0.958315  0.305261"
      ]
     },
     "execution_count": 17,
     "metadata": {},
     "output_type": "execute_result"
    }
   ],
   "source": [
    "pa = RunAnalysis()\n",
    "\n",
    "pa.add_metric(RMSE(missing_scores='ignore', missing_truth='ignore'))\n",
    "\n",
    "pred_results = pa.compute(preds, test)\n",
    "pred_results.list_summary('model')"
   ]
  },
  {
   "cell_type": "code",
   "execution_count": 18,
   "id": "bcc0f0f1",
   "metadata": {
    "execution": {
     "iopub.execute_input": "2025-03-20T20:58:30.540633Z",
     "iopub.status.busy": "2025-03-20T20:58:30.540541Z",
     "iopub.status.idle": "2025-03-20T20:58:30.624730Z",
     "shell.execute_reply": "2025-03-20T20:58:30.624469Z"
    },
    "papermill": {
     "duration": 0.094235,
     "end_time": "2025-03-20T20:58:30.625362",
     "exception": false,
     "start_time": "2025-03-20T20:58:30.531127",
     "status": "completed"
    },
    "tags": []
   },
   "outputs": [
    {
     "data": {
      "image/png": "[encoded data removed]",
      "text/plain": [
       "<Figure size 511.111x500 with 1 Axes>"
      ]
     },
     "metadata": {},
     "output_type": "display_data"
    }
   ],
   "source": [
    "pred_metrics = pred_results.list_metrics().reset_index()\n",
    "pred_metrics = pred_metrics[pred_metrics['user_id'].isin(train_users.index)]\n",
    "sns.catplot(pred_metrics, x='model', y='RMSE', kind='bar')\n",
    "plt.show()"
   ]
  },
  {
   "cell_type": "markdown",
   "id": "467e51c4",
   "metadata": {
    "papermill": {
     "duration": 0.002139,
     "end_time": "2025-03-20T20:58:30.629750",
     "exception": false,
     "start_time": "2025-03-20T20:58:30.627611",
     "status": "completed"
    },
    "tags": []
   },
   "source": [
    "## Save Metrics\n",
    "\n",
    "We'll now save the metrics to a file."
   ]
  },
  {
   "cell_type": "code",
   "execution_count": 19,
   "id": "6d422333",
   "metadata": {
    "execution": {
     "iopub.execute_input": "2025-03-20T20:58:30.634364Z",
     "iopub.status.busy": "2025-03-20T20:58:30.634239Z",
     "iopub.status.idle": "2025-03-20T20:58:30.640844Z",
     "shell.execute_reply": "2025-03-20T20:58:30.640688Z"
    },
    "papermill": {
     "duration": 0.00953,
     "end_time": "2025-03-20T20:58:30.641320",
     "exception": false,
     "start_time": "2025-03-20T20:58:30.631790",
     "status": "completed"
    },
    "tags": []
   },
   "outputs": [
    {
     "name": "stderr",
     "output_type": "stream",
     "text": [
      "/home/mde48/lenskit/lkpy/src/lenskit/metrics/bulk.py:133: FutureWarning: The previous implementation of stack is deprecated and will be removed in a future version of pandas. See the What's New notes for pandas 2.1.0 for details. Specify future_stack=True to adopt the new implementation and silence this warning.\n",
      "  df = scores.groupby(list(keys)).agg([\"mean\", \"median\", \"std\"]).stack(level=0)\n"
     ]
    },
    {
     "data": {
      "text/html": [
       "<div>\n",
       "<style scoped>\n",
       "    .dataframe tbody tr th:only-of-type {\n",
       "        vertical-align: middle;\n",
       "    }\n",
       "\n",
       "    .dataframe tbody tr th {\n",
       "        vertical-align: top;\n",
       "    }\n",
       "\n",
       "    .dataframe thead th {\n",
       "        text-align: right;\n",
       "    }\n",
       "</style>\n",
       "<table border=\"1\" class=\"dataframe\">\n",
       "  <thead>\n",
       "    <tr style=\"text-align: right;\">\n",
       "      <th></th>\n",
       "      <th>NDCG</th>\n",
       "      <th>RBP</th>\n",
       "      <th>RecipRank</th>\n",
       "    </tr>\n",
       "    <tr>\n",
       "      <th>model</th>\n",
       "      <th></th>\n",
       "      <th></th>\n",
       "      <th></th>\n",
       "    </tr>\n",
       "  </thead>\n",
       "  <tbody>\n",
       "    <tr>\n",
       "      <th>ALS</th>\n",
       "      <td>0.163800</td>\n",
       "      <td>0.176975</td>\n",
       "      <td>0.237353</td>\n",
       "    </tr>\n",
       "    <tr>\n",
       "      <th>Bias</th>\n",
       "      <td>0.163369</td>\n",
       "      <td>0.177391</td>\n",
       "      <td>0.228765</td>\n",
       "    </tr>\n",
       "    <tr>\n",
       "      <th>FlexBPR</th>\n",
       "      <td>0.048112</td>\n",
       "      <td>0.011551</td>\n",
       "      <td>0.037104</td>\n",
       "    </tr>\n",
       "    <tr>\n",
       "      <th>FlexLMF</th>\n",
       "      <td>0.047042</td>\n",
       "      <td>0.011535</td>\n",
       "      <td>0.036859</td>\n",
       "    </tr>\n",
       "    <tr>\n",
       "      <th>FlexMF</th>\n",
       "      <td>0.067214</td>\n",
       "      <td>0.027395</td>\n",
       "      <td>0.071494</td>\n",
       "    </tr>\n",
       "    <tr>\n",
       "      <th>IALS</th>\n",
       "      <td>0.099041</td>\n",
       "      <td>0.045300</td>\n",
       "      <td>0.115516</td>\n",
       "    </tr>\n",
       "    <tr>\n",
       "      <th>IIE</th>\n",
       "      <td>0.028293</td>\n",
       "      <td>0.014442</td>\n",
       "      <td>0.036741</td>\n",
       "    </tr>\n",
       "    <tr>\n",
       "      <th>III</th>\n",
       "      <td>0.051244</td>\n",
       "      <td>0.044998</td>\n",
       "      <td>0.078288</td>\n",
       "    </tr>\n",
       "    <tr>\n",
       "      <th>Pop</th>\n",
       "      <td>0.279687</td>\n",
       "      <td>0.318951</td>\n",
       "      <td>0.494082</td>\n",
       "    </tr>\n",
       "    <tr>\n",
       "      <th>UUE</th>\n",
       "      <td>0.022112</td>\n",
       "      <td>0.002570</td>\n",
       "      <td>0.010190</td>\n",
       "    </tr>\n",
       "  </tbody>\n",
       "</table>\n",
       "</div>"
      ],
      "text/plain": [
       "             NDCG       RBP  RecipRank\n",
       "model                                 \n",
       "ALS      0.163800  0.176975   0.237353\n",
       "Bias     0.163369  0.177391   0.228765\n",
       "FlexBPR  0.048112  0.011551   0.037104\n",
       "FlexLMF  0.047042  0.011535   0.036859\n",
       "FlexMF   0.067214  0.027395   0.071494\n",
       "IALS     0.099041  0.045300   0.115516\n",
       "IIE      0.028293  0.014442   0.036741\n",
       "III      0.051244  0.044998   0.078288\n",
       "Pop      0.279687  0.318951   0.494082\n",
       "UUE      0.022112  0.002570   0.010190"
      ]
     },
     "execution_count": 19,
     "metadata": {},
     "output_type": "execute_result"
    }
   ],
   "source": [
    "rlsum = rec_results.list_summary('model')['mean'].unstack()\n",
    "rlsum"
   ]
  },
  {
   "cell_type": "code",
   "execution_count": 20,
   "id": "1ed5a4d7",
   "metadata": {
    "execution": {
     "iopub.execute_input": "2025-03-20T20:58:30.646255Z",
     "iopub.status.busy": "2025-03-20T20:58:30.646179Z",
     "iopub.status.idle": "2025-03-20T20:58:30.648315Z",
     "shell.execute_reply": "2025-03-20T20:58:30.648054Z"
    },
    "papermill": {
     "duration": 0.004996,
     "end_time": "2025-03-20T20:58:30.648749",
     "exception": false,
     "start_time": "2025-03-20T20:58:30.643753",
     "status": "completed"
    },
    "tags": []
   },
   "outputs": [],
   "source": [
    "rlsum.to_json(f'eval-metrics.{dataset}.json', orient='index')"
   ]
  }
 ],
 "metadata": {
  "jupytext": {
   "formats": "ipynb,md",
   "notebook_metadata_filter": "split_at_heading"
  },
  "kernelspec": {
   "display_name": ".venv",
   "language": "python",
   "name": "python3"
  },
  "language_info": {
   "codemirror_mode": {
    "name": "ipython",
    "version": 3
   },
   "file_extension": ".py",
   "mimetype": "text/x-python",
   "name": "python",
   "nbconvert_exporter": "python",
   "pygments_lexer": "ipython3",
   "version": "3.13.2"
  },
  "papermill": {
   "default_parameters": {},
   "duration": 3.782528,
   "end_time": "2025-03-20T20:58:31.064389",
   "environment_variables": {},
   "exception": null,
   "input_path": "eval-report.ipynb",
   "output_path": "eval-report.ml-100k.ipynb",
   "parameters": {
    "dataset": "ml-100k"
   },
   "start_time": "2025-03-20T20:58:27.281861",
   "version": "2.6.0"
  },
  "split_at_heading": true
 },
 "nbformat": 4,
 "nbformat_minor": 5
}