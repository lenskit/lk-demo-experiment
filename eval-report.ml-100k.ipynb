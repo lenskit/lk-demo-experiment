{
 "cells": [
  {
   "cell_type": "markdown",
   "id": "cf34c732",
   "metadata": {
    "papermill": {
     "duration": 0.010615,
     "end_time": "2025-02-22T22:41:07.929335",
     "exception": false,
     "start_time": "2025-02-22T22:41:07.918720",
     "status": "completed"
    },
    "tags": []
   },
   "source": [
    "# Evaluation Analysis for Recommender Output"
   ]
  },
  {
   "cell_type": "markdown",
   "id": "f179abe6",
   "metadata": {
    "papermill": {
     "duration": 0.00125,
     "end_time": "2025-02-22T22:41:07.932074",
     "exception": false,
     "start_time": "2025-02-22T22:41:07.930824",
     "status": "completed"
    },
    "tags": []
   },
   "source": [
    "In this section we will analyze and compare the generated recommendations and predictions from a predefined list of algorithms with the goal of assessing the performance of each algorithm with respect to a metric. In other words, we would rank the algorithms for each metric considered with respect to performance."
   ]
  },
  {
   "cell_type": "markdown",
   "id": "5d3472f4",
   "metadata": {
    "papermill": {
     "duration": 0.001259,
     "end_time": "2025-02-22T22:41:07.934596",
     "exception": false,
     "start_time": "2025-02-22T22:41:07.933337",
     "status": "completed"
    },
    "tags": []
   },
   "source": [
    "## Setup"
   ]
  },
  {
   "cell_type": "markdown",
   "id": "cc43fdaf",
   "metadata": {
    "papermill": {
     "duration": 0.001262,
     "end_time": "2025-02-22T22:41:07.937269",
     "exception": false,
     "start_time": "2025-02-22T22:41:07.936007",
     "status": "completed"
    },
    "tags": []
   },
   "source": [
    "Below are the list of packages required to successfully run the analysis. They are divided into partitions to signify their specific task.<br>\n",
    "We need the pathlib package for working with files and folders"
   ]
  },
  {
   "cell_type": "code",
   "execution_count": 1,
   "id": "014be844",
   "metadata": {
    "execution": {
     "iopub.execute_input": "2025-02-22T22:41:07.940376Z",
     "iopub.status.busy": "2025-02-22T22:41:07.940283Z",
     "iopub.status.idle": "2025-02-22T22:41:07.942445Z",
     "shell.execute_reply": "2025-02-22T22:41:07.942193Z"
    },
    "papermill": {
     "duration": 0.004465,
     "end_time": "2025-02-22T22:41:07.943039",
     "exception": false,
     "start_time": "2025-02-22T22:41:07.938574",
     "status": "completed"
    },
    "tags": []
   },
   "outputs": [],
   "source": [
    "from pathlib import Path\n",
    "import json"
   ]
  },
  {
   "cell_type": "markdown",
   "id": "2647251d",
   "metadata": {
    "papermill": {
     "duration": 0.001305,
     "end_time": "2025-02-22T22:41:07.945700",
     "exception": false,
     "start_time": "2025-02-22T22:41:07.944395",
     "status": "completed"
    },
    "tags": []
   },
   "source": [
    "Load libraries for analysis and visualization:"
   ]
  },
  {
   "cell_type": "code",
   "execution_count": 2,
   "id": "c1ed49d5",
   "metadata": {
    "execution": {
     "iopub.execute_input": "2025-02-22T22:41:07.948759Z",
     "iopub.status.busy": "2025-02-22T22:41:07.948692Z",
     "iopub.status.idle": "2025-02-22T22:41:08.427234Z",
     "shell.execute_reply": "2025-02-22T22:41:08.426833Z"
    },
    "lines_to_next_cell": 2,
    "papermill": {
     "duration": 0.481144,
     "end_time": "2025-02-22T22:41:08.428157",
     "exception": false,
     "start_time": "2025-02-22T22:41:07.947013",
     "status": "completed"
    },
    "tags": []
   },
   "outputs": [],
   "source": [
    "import numpy as np\n",
    "import seaborn as sns\n",
    "import matplotlib.pyplot as plt"
   ]
  },
  {
   "cell_type": "markdown",
   "id": "0586a019",
   "metadata": {
    "papermill": {
     "duration": 0.008824,
     "end_time": "2025-02-22T22:41:08.438687",
     "exception": false,
     "start_time": "2025-02-22T22:41:08.429863",
     "status": "completed"
    },
    "tags": []
   },
   "source": [
    "Import the LensKit metrics for analysis:"
   ]
  },
  {
   "cell_type": "code",
   "execution_count": 3,
   "id": "1760b3f8",
   "metadata": {
    "execution": {
     "iopub.execute_input": "2025-02-22T22:41:08.442161Z",
     "iopub.status.busy": "2025-02-22T22:41:08.442046Z",
     "iopub.status.idle": "2025-02-22T22:41:09.074317Z",
     "shell.execute_reply": "2025-02-22T22:41:09.073900Z"
    },
    "papermill": {
     "duration": 0.634896,
     "end_time": "2025-02-22T22:41:09.075030",
     "exception": false,
     "start_time": "2025-02-22T22:41:08.440134",
     "status": "completed"
    },
    "tags": []
   },
   "outputs": [],
   "source": [
    "from lenskit.data import Dataset, ItemListCollection\n",
    "from lenskit.metrics import RunAnalysis, RMSE, NDCG, RecipRank, RBP"
   ]
  },
  {
   "cell_type": "code",
   "execution_count": 4,
   "id": "8ad8a9b5",
   "metadata": {
    "execution": {
     "iopub.execute_input": "2025-02-22T22:41:09.086416Z",
     "iopub.status.busy": "2025-02-22T22:41:09.086269Z",
     "iopub.status.idle": "2025-02-22T22:41:09.089286Z",
     "shell.execute_reply": "2025-02-22T22:41:09.089035Z"
    },
    "papermill": {
     "duration": 0.013216,
     "end_time": "2025-02-22T22:41:09.089884",
     "exception": false,
     "start_time": "2025-02-22T22:41:09.076668",
     "status": "completed"
    },
    "tags": []
   },
   "outputs": [],
   "source": [
    "from lkdemo.datasets import split_fraction"
   ]
  },
  {
   "cell_type": "markdown",
   "id": "e4db960e",
   "metadata": {
    "papermill": {
     "duration": 0.0013,
     "end_time": "2025-02-22T22:41:09.092536",
     "exception": false,
     "start_time": "2025-02-22T22:41:09.091236",
     "status": "completed"
    },
    "tags": []
   },
   "source": [
    "## Load Data\n",
    "\n",
    "The recommendations are in `runs`, and we will need to reassemble the test data from `test`."
   ]
  },
  {
   "cell_type": "code",
   "execution_count": 5,
   "id": "f0b0bb95",
   "metadata": {
    "execution": {
     "iopub.execute_input": "2025-02-22T22:41:09.095789Z",
     "iopub.status.busy": "2025-02-22T22:41:09.095705Z",
     "iopub.status.idle": "2025-02-22T22:41:09.097193Z",
     "shell.execute_reply": "2025-02-22T22:41:09.097025Z"
    },
    "papermill": {
     "duration": 0.003873,
     "end_time": "2025-02-22T22:41:09.097760",
     "exception": false,
     "start_time": "2025-02-22T22:41:09.093887",
     "status": "completed"
    },
    "tags": [
     "parameters"
    ]
   },
   "outputs": [],
   "source": [
    "dataset = \"ml-100k\""
   ]
  },
  {
   "cell_type": "code",
   "execution_count": 6,
   "id": "9930df0a",
   "metadata": {
    "execution": {
     "iopub.execute_input": "2025-02-22T22:41:09.100939Z",
     "iopub.status.busy": "2025-02-22T22:41:09.100838Z",
     "iopub.status.idle": "2025-02-22T22:41:09.102107Z",
     "shell.execute_reply": "2025-02-22T22:41:09.101950Z"
    },
    "papermill": {
     "duration": 0.003492,
     "end_time": "2025-02-22T22:41:09.102618",
     "exception": false,
     "start_time": "2025-02-22T22:41:09.099126",
     "status": "completed"
    },
    "tags": [
     "injected-parameters"
    ]
   },
   "outputs": [],
   "source": [
    "# Parameters\n",
    "dataset = \"ml-100k\"\n"
   ]
  },
  {
   "cell_type": "code",
   "execution_count": 7,
   "id": "bb15507d",
   "metadata": {
    "execution": {
     "iopub.execute_input": "2025-02-22T22:41:09.105911Z",
     "iopub.status.busy": "2025-02-22T22:41:09.105813Z",
     "iopub.status.idle": "2025-02-22T22:41:09.107137Z",
     "shell.execute_reply": "2025-02-22T22:41:09.106982Z"
    },
    "papermill": {
     "duration": 0.003512,
     "end_time": "2025-02-22T22:41:09.107495",
     "exception": false,
     "start_time": "2025-02-22T22:41:09.103983",
     "status": "completed"
    },
    "tags": []
   },
   "outputs": [],
   "source": [
    "output_root = Path(\"runs\")"
   ]
  },
  {
   "cell_type": "code",
   "execution_count": 8,
   "id": "ecff58cf",
   "metadata": {
    "execution": {
     "iopub.execute_input": "2025-02-22T22:41:09.110699Z",
     "iopub.status.busy": "2025-02-22T22:41:09.110600Z",
     "iopub.status.idle": "2025-02-22T22:41:09.112120Z",
     "shell.execute_reply": "2025-02-22T22:41:09.111967Z"
    },
    "papermill": {
     "duration": 0.003711,
     "end_time": "2025-02-22T22:41:09.112592",
     "exception": false,
     "start_time": "2025-02-22T22:41:09.108881",
     "status": "completed"
    },
    "tags": []
   },
   "outputs": [],
   "source": [
    "dirs = [fld for fld in output_root.glob(f'{dataset}-*')]"
   ]
  },
  {
   "cell_type": "code",
   "execution_count": 9,
   "id": "98ec44f8",
   "metadata": {
    "execution": {
     "iopub.execute_input": "2025-02-22T22:41:09.116033Z",
     "iopub.status.busy": "2025-02-22T22:41:09.115937Z",
     "iopub.status.idle": "2025-02-22T22:41:09.161866Z",
     "shell.execute_reply": "2025-02-22T22:41:09.161679Z"
    },
    "papermill": {
     "duration": 0.048505,
     "end_time": "2025-02-22T22:41:09.162449",
     "exception": false,
     "start_time": "2025-02-22T22:41:09.113944",
     "status": "completed"
    },
    "tags": []
   },
   "outputs": [],
   "source": [
    "recs = ItemListCollection(['model', 'user_id'], index=False)\n",
    "for fld in dirs:\n",
    "    for file in fld.glob(\"recs-*\"):\n",
    "        rec = ItemListCollection.load_parquet(file)\n",
    "        recs.add_from(rec, model=fld.name.split(\"-\")[-1])"
   ]
  },
  {
   "cell_type": "code",
   "execution_count": 10,
   "id": "16052016",
   "metadata": {
    "execution": {
     "iopub.execute_input": "2025-02-22T22:41:09.166106Z",
     "iopub.status.busy": "2025-02-22T22:41:09.166002Z",
     "iopub.status.idle": "2025-02-22T22:41:09.168791Z",
     "shell.execute_reply": "2025-02-22T22:41:09.168628Z"
    },
    "papermill": {
     "duration": 0.005168,
     "end_time": "2025-02-22T22:41:09.169227",
     "exception": false,
     "start_time": "2025-02-22T22:41:09.164059",
     "status": "completed"
    },
    "tags": []
   },
   "outputs": [
    {
     "data": {
      "text/plain": [
       "['ALS', 'Bias', 'IALS', 'IIE', 'III', 'Pop', 'UUE']"
      ]
     },
     "execution_count": 10,
     "metadata": {},
     "output_type": "execute_result"
    }
   ],
   "source": [
    "rec_algos = sorted(set(a for (a, _u) in recs.keys()))\n",
    "rec_algos"
   ]
  },
  {
   "cell_type": "code",
   "execution_count": 11,
   "id": "b44ae566",
   "metadata": {
    "execution": {
     "iopub.execute_input": "2025-02-22T22:41:09.172660Z",
     "iopub.status.busy": "2025-02-22T22:41:09.172563Z",
     "iopub.status.idle": "2025-02-22T22:41:09.205459Z",
     "shell.execute_reply": "2025-02-22T22:41:09.205214Z"
    },
    "papermill": {
     "duration": 0.035391,
     "end_time": "2025-02-22T22:41:09.206066",
     "exception": false,
     "start_time": "2025-02-22T22:41:09.170675",
     "status": "completed"
    },
    "tags": []
   },
   "outputs": [],
   "source": [
    "preds = ItemListCollection(['model', 'user_id'], index=False)\n",
    "for fld in dirs:\n",
    "    for file in fld.glob(\"pred-*\"):\n",
    "        pred = ItemListCollection.load_parquet(file)\n",
    "        preds.add_from(pred, model=fld.name.split(\"-\")[-1])"
   ]
  },
  {
   "cell_type": "markdown",
   "id": "c3d9a53d",
   "metadata": {
    "papermill": {
     "duration": 0.001472,
     "end_time": "2025-02-22T22:41:09.209166",
     "exception": false,
     "start_time": "2025-02-22T22:41:09.207694",
     "status": "completed"
    },
    "tags": []
   },
   "source": [
    "We need to load the test data so that we have the ground truths for computing accuracy."
   ]
  },
  {
   "cell_type": "code",
   "execution_count": 12,
   "id": "f617082d",
   "metadata": {
    "execution": {
     "iopub.execute_input": "2025-02-22T22:41:09.212602Z",
     "iopub.status.busy": "2025-02-22T22:41:09.212496Z",
     "iopub.status.idle": "2025-02-22T22:41:09.250613Z",
     "shell.execute_reply": "2025-02-22T22:41:09.250219Z"
    },
    "papermill": {
     "duration": 0.040744,
     "end_time": "2025-02-22T22:41:09.251358",
     "exception": false,
     "start_time": "2025-02-22T22:41:09.210614",
     "status": "completed"
    },
    "tags": []
   },
   "outputs": [],
   "source": [
    "data = Dataset.load(f\"data/{dataset}\")\n",
    "split = split_fraction(data, 0.2)\n",
    "test = split.test"
   ]
  },
  {
   "cell_type": "markdown",
   "id": "1211178a",
   "metadata": {
    "papermill": {
     "duration": 0.001483,
     "end_time": "2025-02-22T22:41:09.254470",
     "exception": false,
     "start_time": "2025-02-22T22:41:09.252987",
     "status": "completed"
    },
    "tags": []
   },
   "source": [
    "And identify users in the training set, so we only report metrics over them."
   ]
  },
  {
   "cell_type": "code",
   "execution_count": 13,
   "id": "ea5fd212",
   "metadata": {
    "execution": {
     "iopub.execute_input": "2025-02-22T22:41:09.257962Z",
     "iopub.status.busy": "2025-02-22T22:41:09.257855Z",
     "iopub.status.idle": "2025-02-22T22:41:09.270155Z",
     "shell.execute_reply": "2025-02-22T22:41:09.269990Z"
    },
    "papermill": {
     "duration": 0.014762,
     "end_time": "2025-02-22T22:41:09.270712",
     "exception": false,
     "start_time": "2025-02-22T22:41:09.255950",
     "status": "completed"
    },
    "tags": []
   },
   "outputs": [],
   "source": [
    "train_users = split.train.user_stats()\n",
    "train_users = train_users[train_users['rating_count'] > 0]"
   ]
  },
  {
   "cell_type": "markdown",
   "id": "e8ca3779",
   "metadata": {
    "papermill": {
     "duration": 0.0014,
     "end_time": "2025-02-22T22:41:09.273629",
     "exception": false,
     "start_time": "2025-02-22T22:41:09.272229",
     "status": "completed"
    },
    "tags": []
   },
   "source": [
    "## Top-N Metrics\n",
    "\n",
    "`RunListAnalysis` computes metrics for recommendation results and takes care of\n",
    "matching recommendations and ground truth."
   ]
  },
  {
   "cell_type": "code",
   "execution_count": 14,
   "id": "7012260e",
   "metadata": {
    "execution": {
     "iopub.execute_input": "2025-02-22T22:41:09.277167Z",
     "iopub.status.busy": "2025-02-22T22:41:09.277065Z",
     "iopub.status.idle": "2025-02-22T22:41:09.467026Z",
     "shell.execute_reply": "2025-02-22T22:41:09.466801Z"
    },
    "papermill": {
     "duration": 0.19236,
     "end_time": "2025-02-22T22:41:09.467472",
     "exception": false,
     "start_time": "2025-02-22T22:41:09.275112",
     "status": "completed"
    },
    "tags": []
   },
   "outputs": [
    {
     "name": "stderr",
     "output_type": "stream",
     "text": [
      "/home/mde48/lenskit/lk-demo-experiment/.venv/lib/python3.13/site-packages/lenskit/metrics/bulk.py:127: FutureWarning: The previous implementation of stack is deprecated and will be removed in a future version of pandas. See the What's New notes for pandas 2.1.0 for details. Specify future_stack=True to adopt the new implementation and silence this warning.\n",
      "  df = scores.groupby(list(keys)).agg([\"mean\", \"median\", \"std\"]).stack(level=0)\n"
     ]
    },
    {
     "data": {
      "text/html": [
       "<div>\n",
       "<style scoped>\n",
       "    .dataframe tbody tr th:only-of-type {\n",
       "        vertical-align: middle;\n",
       "    }\n",
       "\n",
       "    .dataframe tbody tr th {\n",
       "        vertical-align: top;\n",
       "    }\n",
       "\n",
       "    .dataframe thead th {\n",
       "        text-align: right;\n",
       "    }\n",
       "</style>\n",
       "<table border=\"1\" class=\"dataframe\">\n",
       "  <thead>\n",
       "    <tr style=\"text-align: right;\">\n",
       "      <th></th>\n",
       "      <th></th>\n",
       "      <th>mean</th>\n",
       "      <th>median</th>\n",
       "      <th>std</th>\n",
       "    </tr>\n",
       "    <tr>\n",
       "      <th>model</th>\n",
       "      <th></th>\n",
       "      <th></th>\n",
       "      <th></th>\n",
       "      <th></th>\n",
       "    </tr>\n",
       "  </thead>\n",
       "  <tbody>\n",
       "    <tr>\n",
       "      <th rowspan=\"3\" valign=\"top\">ALS</th>\n",
       "      <th>NDCG</th>\n",
       "      <td>0.163800</td>\n",
       "      <td>0.132480</td>\n",
       "      <td>0.120870</td>\n",
       "    </tr>\n",
       "    <tr>\n",
       "      <th>RBP</th>\n",
       "      <td>0.176975</td>\n",
       "      <td>0.081726</td>\n",
       "      <td>0.200577</td>\n",
       "    </tr>\n",
       "    <tr>\n",
       "      <th>RecipRank</th>\n",
       "      <td>0.237353</td>\n",
       "      <td>0.166667</td>\n",
       "      <td>0.262634</td>\n",
       "    </tr>\n",
       "    <tr>\n",
       "      <th rowspan=\"3\" valign=\"top\">Bias</th>\n",
       "      <th>NDCG</th>\n",
       "      <td>0.163369</td>\n",
       "      <td>0.128442</td>\n",
       "      <td>0.122004</td>\n",
       "    </tr>\n",
       "    <tr>\n",
       "      <th>RBP</th>\n",
       "      <td>0.177391</td>\n",
       "      <td>0.086458</td>\n",
       "      <td>0.195531</td>\n",
       "    </tr>\n",
       "    <tr>\n",
       "      <th>RecipRank</th>\n",
       "      <td>0.228765</td>\n",
       "      <td>0.166667</td>\n",
       "      <td>0.242535</td>\n",
       "    </tr>\n",
       "    <tr>\n",
       "      <th rowspan=\"3\" valign=\"top\">IALS</th>\n",
       "      <th>NDCG</th>\n",
       "      <td>0.099041</td>\n",
       "      <td>0.078205</td>\n",
       "      <td>0.106209</td>\n",
       "    </tr>\n",
       "    <tr>\n",
       "      <th>RBP</th>\n",
       "      <td>0.045300</td>\n",
       "      <td>0.008053</td>\n",
       "      <td>0.100831</td>\n",
       "    </tr>\n",
       "    <tr>\n",
       "      <th>RecipRank</th>\n",
       "      <td>0.115516</td>\n",
       "      <td>0.045455</td>\n",
       "      <td>0.244183</td>\n",
       "    </tr>\n",
       "    <tr>\n",
       "      <th rowspan=\"3\" valign=\"top\">IIE</th>\n",
       "      <th>NDCG</th>\n",
       "      <td>0.028293</td>\n",
       "      <td>0.000000</td>\n",
       "      <td>0.063929</td>\n",
       "    </tr>\n",
       "    <tr>\n",
       "      <th>RBP</th>\n",
       "      <td>0.014442</td>\n",
       "      <td>0.000000</td>\n",
       "      <td>0.055494</td>\n",
       "    </tr>\n",
       "    <tr>\n",
       "      <th>RecipRank</th>\n",
       "      <td>0.036741</td>\n",
       "      <td>0.000000</td>\n",
       "      <td>0.133359</td>\n",
       "    </tr>\n",
       "    <tr>\n",
       "      <th rowspan=\"3\" valign=\"top\">III</th>\n",
       "      <th>NDCG</th>\n",
       "      <td>0.051244</td>\n",
       "      <td>0.000000</td>\n",
       "      <td>0.125677</td>\n",
       "    </tr>\n",
       "    <tr>\n",
       "      <th>RBP</th>\n",
       "      <td>0.044998</td>\n",
       "      <td>0.000000</td>\n",
       "      <td>0.150366</td>\n",
       "    </tr>\n",
       "    <tr>\n",
       "      <th>RecipRank</th>\n",
       "      <td>0.078288</td>\n",
       "      <td>0.000000</td>\n",
       "      <td>0.233043</td>\n",
       "    </tr>\n",
       "    <tr>\n",
       "      <th rowspan=\"3\" valign=\"top\">Pop</th>\n",
       "      <th>NDCG</th>\n",
       "      <td>0.279687</td>\n",
       "      <td>0.268988</td>\n",
       "      <td>0.162487</td>\n",
       "    </tr>\n",
       "    <tr>\n",
       "      <th>RBP</th>\n",
       "      <td>0.318951</td>\n",
       "      <td>0.250104</td>\n",
       "      <td>0.273319</td>\n",
       "    </tr>\n",
       "    <tr>\n",
       "      <th>RecipRank</th>\n",
       "      <td>0.494082</td>\n",
       "      <td>0.250000</td>\n",
       "      <td>0.409474</td>\n",
       "    </tr>\n",
       "    <tr>\n",
       "      <th rowspan=\"3\" valign=\"top\">UUE</th>\n",
       "      <th>NDCG</th>\n",
       "      <td>0.022112</td>\n",
       "      <td>0.000000</td>\n",
       "      <td>0.044289</td>\n",
       "    </tr>\n",
       "    <tr>\n",
       "      <th>RBP</th>\n",
       "      <td>0.002570</td>\n",
       "      <td>0.000000</td>\n",
       "      <td>0.013186</td>\n",
       "    </tr>\n",
       "    <tr>\n",
       "      <th>RecipRank</th>\n",
       "      <td>0.010190</td>\n",
       "      <td>0.000000</td>\n",
       "      <td>0.024621</td>\n",
       "    </tr>\n",
       "  </tbody>\n",
       "</table>\n",
       "</div>"
      ],
      "text/plain": [
       "                     mean    median       std\n",
       "model                                        \n",
       "ALS   NDCG       0.163800  0.132480  0.120870\n",
       "      RBP        0.176975  0.081726  0.200577\n",
       "      RecipRank  0.237353  0.166667  0.262634\n",
       "Bias  NDCG       0.163369  0.128442  0.122004\n",
       "      RBP        0.177391  0.086458  0.195531\n",
       "      RecipRank  0.228765  0.166667  0.242535\n",
       "IALS  NDCG       0.099041  0.078205  0.106209\n",
       "      RBP        0.045300  0.008053  0.100831\n",
       "      RecipRank  0.115516  0.045455  0.244183\n",
       "IIE   NDCG       0.028293  0.000000  0.063929\n",
       "      RBP        0.014442  0.000000  0.055494\n",
       "      RecipRank  0.036741  0.000000  0.133359\n",
       "III   NDCG       0.051244  0.000000  0.125677\n",
       "      RBP        0.044998  0.000000  0.150366\n",
       "      RecipRank  0.078288  0.000000  0.233043\n",
       "Pop   NDCG       0.279687  0.268988  0.162487\n",
       "      RBP        0.318951  0.250104  0.273319\n",
       "      RecipRank  0.494082  0.250000  0.409474\n",
       "UUE   NDCG       0.022112  0.000000  0.044289\n",
       "      RBP        0.002570  0.000000  0.013186\n",
       "      RecipRank  0.010190  0.000000  0.024621"
      ]
     },
     "execution_count": 14,
     "metadata": {},
     "output_type": "execute_result"
    }
   ],
   "source": [
    "ra = RunAnalysis()\n",
    "\n",
    "ra.add_metric(NDCG())\n",
    "ra.add_metric(RecipRank())\n",
    "ra.add_metric(RBP())\n",
    "\n",
    "rec_results = ra.compute(recs, test)\n",
    "rec_results.list_summary('model')"
   ]
  },
  {
   "cell_type": "markdown",
   "id": "3f0d53d0",
   "metadata": {
    "papermill": {
     "duration": 0.008818,
     "end_time": "2025-02-22T22:41:09.479371",
     "exception": false,
     "start_time": "2025-02-22T22:41:09.470553",
     "status": "completed"
    },
    "tags": []
   },
   "source": [
    "We can reshape the list metrics and plot them, after filtering to only users with at least 1 training rating:"
   ]
  },
  {
   "cell_type": "code",
   "execution_count": 15,
   "id": "502397c1",
   "metadata": {
    "execution": {
     "iopub.execute_input": "2025-02-22T22:41:09.483271Z",
     "iopub.status.busy": "2025-02-22T22:41:09.483160Z",
     "iopub.status.idle": "2025-02-22T22:41:09.794863Z",
     "shell.execute_reply": "2025-02-22T22:41:09.794649Z"
    },
    "papermill": {
     "duration": 0.314412,
     "end_time": "2025-02-22T22:41:09.795469",
     "exception": false,
     "start_time": "2025-02-22T22:41:09.481057",
     "status": "completed"
    },
    "tags": []
   },
   "outputs": [
    {
     "data": {
      "image/png": "[encoded data removed]",
      "text/plain": [
       "<Figure size 1511.11x500 with 3 Axes>"
      ]
     },
     "metadata": {},
     "output_type": "display_data"
    }
   ],
   "source": [
    "metrics = rec_results.list_metrics()\n",
    "metrics = metrics.melt(var_name='metric', ignore_index=False).reset_index()\n",
    "metrics = metrics[metrics['user_id'].isin(train_users.index)]\n",
    "sns.catplot(metrics, x='model', y='value', col='metric', kind='bar')\n",
    "plt.show()"
   ]
  },
  {
   "cell_type": "markdown",
   "id": "d1c9fd07",
   "metadata": {
    "papermill": {
     "duration": 0.008998,
     "end_time": "2025-02-22T22:41:09.806266",
     "exception": false,
     "start_time": "2025-02-22T22:41:09.797268",
     "status": "completed"
    },
    "tags": []
   },
   "source": [
    "Let's look at the influence of training ratings on performance, clamping 15+ into a single category:"
   ]
  },
  {
   "cell_type": "code",
   "execution_count": 16,
   "id": "2c606bcf",
   "metadata": {
    "execution": {
     "iopub.execute_input": "2025-02-22T22:41:09.810382Z",
     "iopub.status.busy": "2025-02-22T22:41:09.810249Z",
     "iopub.status.idle": "2025-02-22T22:41:09.998093Z",
     "shell.execute_reply": "2025-02-22T22:41:09.997870Z"
    },
    "papermill": {
     "duration": 0.190548,
     "end_time": "2025-02-22T22:41:09.998549",
     "exception": false,
     "start_time": "2025-02-22T22:41:09.808001",
     "status": "completed"
    },
    "tags": []
   },
   "outputs": [
    {
     "data": {
      "image/png": "[encoded data removed]",
      "text/plain": [
       "<Figure size 640x480 with 1 Axes>"
      ]
     },
     "metadata": {},
     "output_type": "display_data"
    }
   ],
   "source": [
    "tcounts = split.train.user_stats()['rating_count'].copy()\n",
    "tcounts[tcounts > 15] = 15\n",
    "metrics = rec_results.list_metrics().reset_index().join(tcounts, on='user_id')\n",
    "sns.lineplot(metrics, x='rating_count', y='NDCG', hue='model', errorbar='ci')\n",
    "plt.xlabel('# of Training Ratings')\n",
    "rc_ticks = np.arange(0, 16, 3)\n",
    "plt.xticks(rc_ticks, rc_ticks[:-1].tolist() + ['15+'])\n",
    "plt.show()"
   ]
  },
  {
   "cell_type": "markdown",
   "id": "ed6e858c",
   "metadata": {
    "papermill": {
     "duration": 0.00914,
     "end_time": "2025-02-22T22:41:10.009564",
     "exception": false,
     "start_time": "2025-02-22T22:41:10.000424",
     "status": "completed"
    },
    "tags": []
   },
   "source": [
    "## Prediction RMSE\n",
    "\n",
    "We will also look at the prediction RMSE."
   ]
  },
  {
   "cell_type": "code",
   "execution_count": 17,
   "id": "b1f49098",
   "metadata": {
    "execution": {
     "iopub.execute_input": "2025-02-22T22:41:10.015546Z",
     "iopub.status.busy": "2025-02-22T22:41:10.015325Z",
     "iopub.status.idle": "2025-02-22T22:41:10.214320Z",
     "shell.execute_reply": "2025-02-22T22:41:10.214034Z"
    },
    "papermill": {
     "duration": 0.203582,
     "end_time": "2025-02-22T22:41:10.214896",
     "exception": false,
     "start_time": "2025-02-22T22:41:10.011314",
     "status": "completed"
    },
    "tags": []
   },
   "outputs": [
    {
     "name": "stderr",
     "output_type": "stream",
     "text": [
      "/home/mde48/lenskit/lk-demo-experiment/.venv/lib/python3.13/site-packages/lenskit/metrics/bulk.py:127: FutureWarning: The previous implementation of stack is deprecated and will be removed in a future version of pandas. See the What's New notes for pandas 2.1.0 for details. Specify future_stack=True to adopt the new implementation and silence this warning.\n",
      "  df = scores.groupby(list(keys)).agg([\"mean\", \"median\", \"std\"]).stack(level=0)\n"
     ]
    },
    {
     "data": {
      "text/html": [
       "<div>\n",
       "<style scoped>\n",
       "    .dataframe tbody tr th:only-of-type {\n",
       "        vertical-align: middle;\n",
       "    }\n",
       "\n",
       "    .dataframe tbody tr th {\n",
       "        vertical-align: top;\n",
       "    }\n",
       "\n",
       "    .dataframe thead th {\n",
       "        text-align: right;\n",
       "    }\n",
       "</style>\n",
       "<table border=\"1\" class=\"dataframe\">\n",
       "  <thead>\n",
       "    <tr style=\"text-align: right;\">\n",
       "      <th></th>\n",
       "      <th></th>\n",
       "      <th>mean</th>\n",
       "      <th>median</th>\n",
       "      <th>std</th>\n",
       "    </tr>\n",
       "    <tr>\n",
       "      <th>model</th>\n",
       "      <th></th>\n",
       "      <th></th>\n",
       "      <th></th>\n",
       "      <th></th>\n",
       "    </tr>\n",
       "  </thead>\n",
       "  <tbody>\n",
       "    <tr>\n",
       "      <th>ALS</th>\n",
       "      <th>RMSE</th>\n",
       "      <td>0.964949</td>\n",
       "      <td>0.942919</td>\n",
       "      <td>0.298124</td>\n",
       "    </tr>\n",
       "    <tr>\n",
       "      <th>Bias</th>\n",
       "      <th>RMSE</th>\n",
       "      <td>0.971432</td>\n",
       "      <td>0.945351</td>\n",
       "      <td>0.292602</td>\n",
       "    </tr>\n",
       "    <tr>\n",
       "      <th>IIE</th>\n",
       "      <th>RMSE</th>\n",
       "      <td>0.973457</td>\n",
       "      <td>0.944259</td>\n",
       "      <td>0.304926</td>\n",
       "    </tr>\n",
       "    <tr>\n",
       "      <th>UUE</th>\n",
       "      <th>RMSE</th>\n",
       "      <td>0.978119</td>\n",
       "      <td>0.958315</td>\n",
       "      <td>0.305261</td>\n",
       "    </tr>\n",
       "  </tbody>\n",
       "</table>\n",
       "</div>"
      ],
      "text/plain": [
       "                mean    median       std\n",
       "model                                   \n",
       "ALS   RMSE  0.964949  0.942919  0.298124\n",
       "Bias  RMSE  0.971432  0.945351  0.292602\n",
       "IIE   RMSE  0.973457  0.944259  0.304926\n",
       "UUE   RMSE  0.978119  0.958315  0.305261"
      ]
     },
     "execution_count": 17,
     "metadata": {},
     "output_type": "execute_result"
    }
   ],
   "source": [
    "pa = RunAnalysis()\n",
    "\n",
    "pa.add_metric(RMSE(missing_scores='ignore', missing_truth='ignore'))\n",
    "\n",
    "pred_results = pa.compute(preds, test)\n",
    "pred_results.list_summary('model')"
   ]
  },
  {
   "cell_type": "code",
   "execution_count": 18,
   "id": "550b1e9e",
   "metadata": {
    "execution": {
     "iopub.execute_input": "2025-02-22T22:41:10.226490Z",
     "iopub.status.busy": "2025-02-22T22:41:10.226386Z",
     "iopub.status.idle": "2025-02-22T22:41:10.302982Z",
     "shell.execute_reply": "2025-02-22T22:41:10.302739Z"
    },
    "papermill": {
     "duration": 0.086652,
     "end_time": "2025-02-22T22:41:10.303593",
     "exception": false,
     "start_time": "2025-02-22T22:41:10.216941",
     "status": "completed"
    },
    "tags": []
   },
   "outputs": [
    {
     "data": {
      "image/png": "[encoded data removed]",
      "text/plain": [
       "<Figure size 511.111x500 with 1 Axes>"
      ]
     },
     "metadata": {},
     "output_type": "display_data"
    }
   ],
   "source": [
    "pred_metrics = pred_results.list_metrics().reset_index()\n",
    "pred_metrics = pred_metrics[pred_metrics['user_id'].isin(train_users.index)]\n",
    "sns.catplot(pred_metrics, x='model', y='RMSE', kind='bar')\n",
    "plt.show()"
   ]
  },
  {
   "cell_type": "markdown",
   "id": "d87127d7",
   "metadata": {
    "papermill": {
     "duration": 0.002357,
     "end_time": "2025-02-22T22:41:10.308009",
     "exception": false,
     "start_time": "2025-02-22T22:41:10.305652",
     "status": "completed"
    },
    "tags": []
   },
   "source": [
    "## Save Metrics\n",
    "\n",
    "We'll now save the metrics to a file."
   ]
  },
  {
   "cell_type": "code",
   "execution_count": 19,
   "id": "c022814e",
   "metadata": {
    "execution": {
     "iopub.execute_input": "2025-02-22T22:41:10.312659Z",
     "iopub.status.busy": "2025-02-22T22:41:10.312558Z",
     "iopub.status.idle": "2025-02-22T22:41:10.318972Z",
     "shell.execute_reply": "2025-02-22T22:41:10.318817Z"
    },
    "papermill": {
     "duration": 0.009288,
     "end_time": "2025-02-22T22:41:10.319375",
     "exception": false,
     "start_time": "2025-02-22T22:41:10.310087",
     "status": "completed"
    },
    "tags": []
   },
   "outputs": [
    {
     "name": "stderr",
     "output_type": "stream",
     "text": [
      "/home/mde48/lenskit/lk-demo-experiment/.venv/lib/python3.13/site-packages/lenskit/metrics/bulk.py:127: FutureWarning: The previous implementation of stack is deprecated and will be removed in a future version of pandas. See the What's New notes for pandas 2.1.0 for details. Specify future_stack=True to adopt the new implementation and silence this warning.\n",
      "  df = scores.groupby(list(keys)).agg([\"mean\", \"median\", \"std\"]).stack(level=0)\n"
     ]
    },
    {
     "data": {
      "text/html": [
       "<div>\n",
       "<style scoped>\n",
       "    .dataframe tbody tr th:only-of-type {\n",
       "        vertical-align: middle;\n",
       "    }\n",
       "\n",
       "    .dataframe tbody tr th {\n",
       "        vertical-align: top;\n",
       "    }\n",
       "\n",
       "    .dataframe thead th {\n",
       "        text-align: right;\n",
       "    }\n",
       "</style>\n",
       "<table border=\"1\" class=\"dataframe\">\n",
       "  <thead>\n",
       "    <tr style=\"text-align: right;\">\n",
       "      <th></th>\n",
       "      <th>NDCG</th>\n",
       "      <th>RBP</th>\n",
       "      <th>RecipRank</th>\n",
       "    </tr>\n",
       "    <tr>\n",
       "      <th>model</th>\n",
       "      <th></th>\n",
       "      <th></th>\n",
       "      <th></th>\n",
       "    </tr>\n",
       "  </thead>\n",
       "  <tbody>\n",
       "    <tr>\n",
       "      <th>ALS</th>\n",
       "      <td>0.163800</td>\n",
       "      <td>0.176975</td>\n",
       "      <td>0.237353</td>\n",
       "    </tr>\n",
       "    <tr>\n",
       "      <th>Bias</th>\n",
       "      <td>0.163369</td>\n",
       "      <td>0.177391</td>\n",
       "      <td>0.228765</td>\n",
       "    </tr>\n",
       "    <tr>\n",
       "      <th>IALS</th>\n",
       "      <td>0.099041</td>\n",
       "      <td>0.045300</td>\n",
       "      <td>0.115516</td>\n",
       "    </tr>\n",
       "    <tr>\n",
       "      <th>IIE</th>\n",
       "      <td>0.028293</td>\n",
       "      <td>0.014442</td>\n",
       "      <td>0.036741</td>\n",
       "    </tr>\n",
       "    <tr>\n",
       "      <th>III</th>\n",
       "      <td>0.051244</td>\n",
       "      <td>0.044998</td>\n",
       "      <td>0.078288</td>\n",
       "    </tr>\n",
       "    <tr>\n",
       "      <th>Pop</th>\n",
       "      <td>0.279687</td>\n",
       "      <td>0.318951</td>\n",
       "      <td>0.494082</td>\n",
       "    </tr>\n",
       "    <tr>\n",
       "      <th>UUE</th>\n",
       "      <td>0.022112</td>\n",
       "      <td>0.002570</td>\n",
       "      <td>0.010190</td>\n",
       "    </tr>\n",
       "  </tbody>\n",
       "</table>\n",
       "</div>"
      ],
      "text/plain": [
       "           NDCG       RBP  RecipRank\n",
       "model                               \n",
       "ALS    0.163800  0.176975   0.237353\n",
       "Bias   0.163369  0.177391   0.228765\n",
       "IALS   0.099041  0.045300   0.115516\n",
       "IIE    0.028293  0.014442   0.036741\n",
       "III    0.051244  0.044998   0.078288\n",
       "Pop    0.279687  0.318951   0.494082\n",
       "UUE    0.022112  0.002570   0.010190"
      ]
     },
     "execution_count": 19,
     "metadata": {},
     "output_type": "execute_result"
    }
   ],
   "source": [
    "rlsum = rec_results.list_summary('model')['mean'].unstack()\n",
    "rlsum"
   ]
  },
  {
   "cell_type": "code",
   "execution_count": 20,
   "id": "64a6ae31",
   "metadata": {
    "execution": {
     "iopub.execute_input": "2025-02-22T22:41:10.324087Z",
     "iopub.status.busy": "2025-02-22T22:41:10.323957Z",
     "iopub.status.idle": "2025-02-22T22:41:10.325627Z",
     "shell.execute_reply": "2025-02-22T22:41:10.325472Z"
    },
    "papermill": {
     "duration": 0.004821,
     "end_time": "2025-02-22T22:41:10.326233",
     "exception": false,
     "start_time": "2025-02-22T22:41:10.321412",
     "status": "completed"
    },
    "tags": []
   },
   "outputs": [],
   "source": [
    "rlsum.to_json(f'eval-metrics.{dataset}.json', orient='index')"
   ]
  }
 ],
 "metadata": {
  "jupytext": {
   "formats": "ipynb,md",
   "notebook_metadata_filter": "split_at_heading"
  },
  "kernelspec": {
   "display_name": ".venv",
   "language": "python",
   "name": "python3"
  },
  "language_info": {
   "codemirror_mode": {
    "name": "ipython",
    "version": 3
   },
   "file_extension": ".py",
   "mimetype": "text/x-python",
   "name": "python",
   "nbconvert_exporter": "python",
   "pygments_lexer": "ipython3",
   "version": "3.13.2"
  },
  "papermill": {
   "default_parameters": {},
   "duration": 3.441781,
   "end_time": "2025-02-22T22:41:10.742846",
   "environment_variables": {},
   "exception": null,
   "input_path": "eval-report.ipynb",
   "output_path": "eval-report.ml-100k.ipynb",
   "parameters": {
    "dataset": "ml-100k"
   },
   "start_time": "2025-02-22T22:41:07.301065",
   "version": "2.6.0"
  },
  "split_at_heading": true
 },
 "nbformat": 4,
 "nbformat_minor": 5
}