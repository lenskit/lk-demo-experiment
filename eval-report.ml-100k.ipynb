{
 "cells": [
  {
   "cell_type": "markdown",
   "id": "605fd33a",
   "metadata": {
    "papermill": {
     "duration": 0.010319,
     "end_time": "2025-02-06T17:49:52.332699",
     "exception": false,
     "start_time": "2025-02-06T17:49:52.322380",
     "status": "completed"
    },
    "tags": []
   },
   "source": [
    "# Evaluation Analysis for Recommender Output"
   ]
  },
  {
   "cell_type": "markdown",
   "id": "60583352",
   "metadata": {
    "papermill": {
     "duration": 0.001207,
     "end_time": "2025-02-06T17:49:52.335477",
     "exception": false,
     "start_time": "2025-02-06T17:49:52.334270",
     "status": "completed"
    },
    "tags": []
   },
   "source": [
    "In this section we will analyze and compare the generated recommendations and predictions from a predefined list of algorithms with the goal of assessing the performance of each algorithm with respect to a metric. In other words, we would rank the algorithms for each metric considered with respect to performance."
   ]
  },
  {
   "cell_type": "markdown",
   "id": "4bb6a3e7",
   "metadata": {
    "papermill": {
     "duration": 0.00118,
     "end_time": "2025-02-06T17:49:52.337872",
     "exception": false,
     "start_time": "2025-02-06T17:49:52.336692",
     "status": "completed"
    },
    "tags": []
   },
   "source": [
    "## Setup"
   ]
  },
  {
   "cell_type": "markdown",
   "id": "d10343e5",
   "metadata": {
    "papermill": {
     "duration": 0.001285,
     "end_time": "2025-02-06T17:49:52.340360",
     "exception": false,
     "start_time": "2025-02-06T17:49:52.339075",
     "status": "completed"
    },
    "tags": []
   },
   "source": [
    "Below are the list of packages required to successfully run the analysis. They are divided into partitions to signify their specific task.<br>\n",
    "We need the pathlib package for working with files and folders"
   ]
  },
  {
   "cell_type": "code",
   "execution_count": 1,
   "id": "e366c574",
   "metadata": {
    "execution": {
     "iopub.execute_input": "2025-02-06T17:49:52.343609Z",
     "iopub.status.busy": "2025-02-06T17:49:52.343215Z",
     "iopub.status.idle": "2025-02-06T17:49:52.345430Z",
     "shell.execute_reply": "2025-02-06T17:49:52.345172Z"
    },
    "papermill": {
     "duration": 0.00428,
     "end_time": "2025-02-06T17:49:52.345831",
     "exception": false,
     "start_time": "2025-02-06T17:49:52.341551",
     "status": "completed"
    },
    "tags": []
   },
   "outputs": [],
   "source": [
    "from pathlib import Path\n",
    "import json"
   ]
  },
  {
   "cell_type": "markdown",
   "id": "f5cd5e83",
   "metadata": {
    "papermill": {
     "duration": 0.001174,
     "end_time": "2025-02-06T17:49:52.348265",
     "exception": false,
     "start_time": "2025-02-06T17:49:52.347091",
     "status": "completed"
    },
    "tags": []
   },
   "source": [
    "We would use the pandas for analyzing and manipulating our data while seaborn and matplotlib are used for data visualization. statsmodels.graphics.gofplots and scipy.stats.shapiro are used for normality check. Scipy.stats.friedmanchisquare is a non-parametric test used to determine the statistical significance in metric results and the wilcoxon test is used for pairwise comparison of sample data."
   ]
  },
  {
   "cell_type": "code",
   "execution_count": 2,
   "id": "35c4aa1e",
   "metadata": {
    "execution": {
     "iopub.execute_input": "2025-02-06T17:49:52.351155Z",
     "iopub.status.busy": "2025-02-06T17:49:52.351031Z",
     "iopub.status.idle": "2025-02-06T17:49:52.838635Z",
     "shell.execute_reply": "2025-02-06T17:49:52.838179Z"
    },
    "lines_to_next_cell": 2,
    "papermill": {
     "duration": 0.489834,
     "end_time": "2025-02-06T17:49:52.839373",
     "exception": false,
     "start_time": "2025-02-06T17:49:52.349539",
     "status": "completed"
    },
    "tags": []
   },
   "outputs": [],
   "source": [
    "import pandas as pd\n",
    "import seaborn as sns\n",
    "import matplotlib.pyplot as plt\n",
    "from statsmodels.graphics.gofplots import qqplot\n",
    "from scipy.stats import shapiro\n",
    "from scipy.stats import friedmanchisquare, wilcoxon\n",
    "from itertools import combinations"
   ]
  },
  {
   "cell_type": "markdown",
   "id": "b77c1db0",
   "metadata": {
    "papermill": {
     "duration": 0.008681,
     "end_time": "2025-02-06T17:49:52.849591",
     "exception": false,
     "start_time": "2025-02-06T17:49:52.840910",
     "status": "completed"
    },
    "tags": []
   },
   "source": [
    "Import the LensKit metrics for analysis:"
   ]
  },
  {
   "cell_type": "code",
   "execution_count": 3,
   "id": "86454f14",
   "metadata": {
    "execution": {
     "iopub.execute_input": "2025-02-06T17:49:52.852857Z",
     "iopub.status.busy": "2025-02-06T17:49:52.852685Z",
     "iopub.status.idle": "2025-02-06T17:49:53.498614Z",
     "shell.execute_reply": "2025-02-06T17:49:53.498269Z"
    },
    "papermill": {
     "duration": 0.648578,
     "end_time": "2025-02-06T17:49:53.499445",
     "exception": false,
     "start_time": "2025-02-06T17:49:52.850867",
     "status": "completed"
    },
    "tags": []
   },
   "outputs": [],
   "source": [
    "from lenskit.data import Dataset, ItemListCollection, UserIDKey\n",
    "from lenskit.metrics import RunAnalysis, RMSE, NDCG, RecipRank, RBP"
   ]
  },
  {
   "cell_type": "code",
   "execution_count": 4,
   "id": "1b539163",
   "metadata": {
    "execution": {
     "iopub.execute_input": "2025-02-06T17:49:53.502794Z",
     "iopub.status.busy": "2025-02-06T17:49:53.502709Z",
     "iopub.status.idle": "2025-02-06T17:49:53.505563Z",
     "shell.execute_reply": "2025-02-06T17:49:53.505325Z"
    },
    "papermill": {
     "duration": 0.005018,
     "end_time": "2025-02-06T17:49:53.506073",
     "exception": false,
     "start_time": "2025-02-06T17:49:53.501055",
     "status": "completed"
    },
    "tags": []
   },
   "outputs": [],
   "source": [
    "from lkdemo.datasets import split_fraction"
   ]
  },
  {
   "cell_type": "markdown",
   "id": "db65cf61",
   "metadata": {
    "papermill": {
     "duration": 0.001203,
     "end_time": "2025-02-06T17:49:53.508559",
     "exception": false,
     "start_time": "2025-02-06T17:49:53.507356",
     "status": "completed"
    },
    "tags": []
   },
   "source": [
    "## Load Data\n",
    "\n",
    "The recommendations are in `runs`, and we will need to reassemble the test data from `test`."
   ]
  },
  {
   "cell_type": "code",
   "execution_count": 5,
   "id": "de8c0535",
   "metadata": {
    "execution": {
     "iopub.execute_input": "2025-02-06T17:49:53.511256Z",
     "iopub.status.busy": "2025-02-06T17:49:53.511183Z",
     "iopub.status.idle": "2025-02-06T17:49:53.512735Z",
     "shell.execute_reply": "2025-02-06T17:49:53.512514Z"
    },
    "papermill": {
     "duration": 0.003422,
     "end_time": "2025-02-06T17:49:53.513184",
     "exception": false,
     "start_time": "2025-02-06T17:49:53.509762",
     "status": "completed"
    },
    "tags": [
     "parameters"
    ]
   },
   "outputs": [],
   "source": [
    "dataset = \"ml-100k\""
   ]
  },
  {
   "cell_type": "code",
   "execution_count": 6,
   "id": "e7b82d64",
   "metadata": {
    "execution": {
     "iopub.execute_input": "2025-02-06T17:49:53.515931Z",
     "iopub.status.busy": "2025-02-06T17:49:53.515863Z",
     "iopub.status.idle": "2025-02-06T17:49:53.517591Z",
     "shell.execute_reply": "2025-02-06T17:49:53.517293Z"
    },
    "papermill": {
     "duration": 0.003579,
     "end_time": "2025-02-06T17:49:53.518039",
     "exception": false,
     "start_time": "2025-02-06T17:49:53.514460",
     "status": "completed"
    },
    "tags": [
     "injected-parameters"
    ]
   },
   "outputs": [],
   "source": [
    "# Parameters\n",
    "dataset = \"ml-100k\"\n"
   ]
  },
  {
   "cell_type": "code",
   "execution_count": 7,
   "id": "f5ea83f3",
   "metadata": {
    "execution": {
     "iopub.execute_input": "2025-02-06T17:49:53.520802Z",
     "iopub.status.busy": "2025-02-06T17:49:53.520736Z",
     "iopub.status.idle": "2025-02-06T17:49:53.522405Z",
     "shell.execute_reply": "2025-02-06T17:49:53.522168Z"
    },
    "papermill": {
     "duration": 0.003564,
     "end_time": "2025-02-06T17:49:53.522839",
     "exception": false,
     "start_time": "2025-02-06T17:49:53.519275",
     "status": "completed"
    },
    "tags": []
   },
   "outputs": [],
   "source": [
    "output_root = Path(\"runs\")"
   ]
  },
  {
   "cell_type": "code",
   "execution_count": 8,
   "id": "327f8a13",
   "metadata": {
    "execution": {
     "iopub.execute_input": "2025-02-06T17:49:53.525636Z",
     "iopub.status.busy": "2025-02-06T17:49:53.525568Z",
     "iopub.status.idle": "2025-02-06T17:49:53.527375Z",
     "shell.execute_reply": "2025-02-06T17:49:53.527135Z"
    },
    "papermill": {
     "duration": 0.003703,
     "end_time": "2025-02-06T17:49:53.527820",
     "exception": false,
     "start_time": "2025-02-06T17:49:53.524117",
     "status": "completed"
    },
    "tags": []
   },
   "outputs": [],
   "source": [
    "dirs = [fld for fld in output_root.glob(f'{dataset}-*')]"
   ]
  },
  {
   "cell_type": "code",
   "execution_count": 9,
   "id": "a0d58d42",
   "metadata": {
    "execution": {
     "iopub.execute_input": "2025-02-06T17:49:53.530618Z",
     "iopub.status.busy": "2025-02-06T17:49:53.530545Z",
     "iopub.status.idle": "2025-02-06T17:49:53.541207Z",
     "shell.execute_reply": "2025-02-06T17:49:53.540948Z"
    },
    "papermill": {
     "duration": 0.012527,
     "end_time": "2025-02-06T17:49:53.541642",
     "exception": false,
     "start_time": "2025-02-06T17:49:53.529115",
     "status": "completed"
    },
    "tags": []
   },
   "outputs": [],
   "source": [
    "recs = ItemListCollection(['model', 'user_id'], index=False)\n",
    "for fld in dirs:\n",
    "    for file in fld.glob(\"recs-*\"):\n",
    "        rec = ItemListCollection.load_parquet(file)\n",
    "        recs.add_from(rec, model=fld.name.split(\"-\")[-1])"
   ]
  },
  {
   "cell_type": "code",
   "execution_count": 10,
   "id": "68039a12",
   "metadata": {
    "execution": {
     "iopub.execute_input": "2025-02-06T17:49:53.544627Z",
     "iopub.status.busy": "2025-02-06T17:49:53.544527Z",
     "iopub.status.idle": "2025-02-06T17:49:53.547552Z",
     "shell.execute_reply": "2025-02-06T17:49:53.547325Z"
    },
    "papermill": {
     "duration": 0.004973,
     "end_time": "2025-02-06T17:49:53.547950",
     "exception": false,
     "start_time": "2025-02-06T17:49:53.542977",
     "status": "completed"
    },
    "tags": []
   },
   "outputs": [
    {
     "data": {
      "text/plain": [
       "['ALS', 'Bias', 'IALS', 'IIE', 'III', 'Pop', 'UUE']"
      ]
     },
     "execution_count": 10,
     "metadata": {},
     "output_type": "execute_result"
    }
   ],
   "source": [
    "rec_algos = sorted(set(a for (a, _u) in recs.keys()))\n",
    "rec_algos"
   ]
  },
  {
   "cell_type": "code",
   "execution_count": 11,
   "id": "6ec8ce31",
   "metadata": {
    "execution": {
     "iopub.execute_input": "2025-02-06T17:49:53.551003Z",
     "iopub.status.busy": "2025-02-06T17:49:53.550929Z",
     "iopub.status.idle": "2025-02-06T17:49:53.554950Z",
     "shell.execute_reply": "2025-02-06T17:49:53.554716Z"
    },
    "papermill": {
     "duration": 0.006031,
     "end_time": "2025-02-06T17:49:53.555362",
     "exception": false,
     "start_time": "2025-02-06T17:49:53.549331",
     "status": "completed"
    },
    "tags": []
   },
   "outputs": [],
   "source": [
    "preds = ItemListCollection(['model', 'user_id'], index=False)\n",
    "for fld in dirs:\n",
    "    for file in fld.glob(\"pred-*\"):\n",
    "        pred = ItemListCollection.load_parquet(file)\n",
    "        preds.add_from(pred, model=fld.name.split(\"-\")[-1])"
   ]
  },
  {
   "cell_type": "markdown",
   "id": "d7984c97",
   "metadata": {
    "papermill": {
     "duration": 0.001312,
     "end_time": "2025-02-06T17:49:53.558139",
     "exception": false,
     "start_time": "2025-02-06T17:49:53.556827",
     "status": "completed"
    },
    "tags": []
   },
   "source": [
    "We need to load the test data so that we have the ground truths for computing accuracy"
   ]
  },
  {
   "cell_type": "code",
   "execution_count": 12,
   "id": "edea330e",
   "metadata": {
    "execution": {
     "iopub.execute_input": "2025-02-06T17:49:53.561058Z",
     "iopub.status.busy": "2025-02-06T17:49:53.560973Z",
     "iopub.status.idle": "2025-02-06T17:49:53.598426Z",
     "shell.execute_reply": "2025-02-06T17:49:53.597977Z"
    },
    "papermill": {
     "duration": 0.0396,
     "end_time": "2025-02-06T17:49:53.599090",
     "exception": false,
     "start_time": "2025-02-06T17:49:53.559490",
     "status": "completed"
    },
    "tags": []
   },
   "outputs": [],
   "source": [
    "data = Dataset.load(f\"data/{dataset}\")\n",
    "split = split_fraction(data, 0.2)\n",
    "test = split.test"
   ]
  },
  {
   "cell_type": "markdown",
   "id": "8d267c49",
   "metadata": {
    "papermill": {
     "duration": 0.001367,
     "end_time": "2025-02-06T17:49:53.602064",
     "exception": false,
     "start_time": "2025-02-06T17:49:53.600697",
     "status": "completed"
    },
    "tags": []
   },
   "source": [
    "## Top-N Metrics\n",
    "\n",
    "`RunListAnalysis` computes metrics for recommendation results and takes care of\n",
    "matching recommendations and ground truth."
   ]
  },
  {
   "cell_type": "code",
   "execution_count": 13,
   "id": "5c468e42",
   "metadata": {
    "execution": {
     "iopub.execute_input": "2025-02-06T17:49:53.605189Z",
     "iopub.status.busy": "2025-02-06T17:49:53.605103Z",
     "iopub.status.idle": "2025-02-06T17:49:53.615659Z",
     "shell.execute_reply": "2025-02-06T17:49:53.615424Z"
    },
    "papermill": {
     "duration": 0.012572,
     "end_time": "2025-02-06T17:49:53.616053",
     "exception": false,
     "start_time": "2025-02-06T17:49:53.603481",
     "status": "completed"
    },
    "tags": []
   },
   "outputs": [
    {
     "name": "stderr",
     "output_type": "stream",
     "text": [
      "/home/mde48/lenskit/lk-demo-experiment/.venv/lib/python3.13/site-packages/lenskit/metrics/bulk.py:127: FutureWarning: The previous implementation of stack is deprecated and will be removed in a future version of pandas. See the What's New notes for pandas 2.1.0 for details. Specify future_stack=True to adopt the new implementation and silence this warning.\n",
      "  df = scores.groupby(list(keys)).agg([\"mean\", \"median\", \"std\"]).stack(level=0)\n"
     ]
    },
    {
     "data": {
      "text/html": [
       "<div>\n",
       "<style scoped>\n",
       "    .dataframe tbody tr th:only-of-type {\n",
       "        vertical-align: middle;\n",
       "    }\n",
       "\n",
       "    .dataframe tbody tr th {\n",
       "        vertical-align: top;\n",
       "    }\n",
       "\n",
       "    .dataframe thead th {\n",
       "        text-align: right;\n",
       "    }\n",
       "</style>\n",
       "<table border=\"1\" class=\"dataframe\">\n",
       "  <thead>\n",
       "    <tr style=\"text-align: right;\">\n",
       "      <th></th>\n",
       "      <th></th>\n",
       "      <th>mean</th>\n",
       "      <th>median</th>\n",
       "      <th>std</th>\n",
       "    </tr>\n",
       "    <tr>\n",
       "      <th>model</th>\n",
       "      <th></th>\n",
       "      <th></th>\n",
       "      <th></th>\n",
       "      <th></th>\n",
       "    </tr>\n",
       "  </thead>\n",
       "  <tbody>\n",
       "    <tr>\n",
       "      <th rowspan=\"3\" valign=\"top\">ALS</th>\n",
       "      <th>NDCG</th>\n",
       "      <td>4.811441e-02</td>\n",
       "      <td>4.811441e-02</td>\n",
       "      <td>NaN</td>\n",
       "    </tr>\n",
       "    <tr>\n",
       "      <th>RBP</th>\n",
       "      <td>1.562500e-02</td>\n",
       "      <td>1.562500e-02</td>\n",
       "      <td>NaN</td>\n",
       "    </tr>\n",
       "    <tr>\n",
       "      <th>RecipRank</th>\n",
       "      <td>1.666667e-01</td>\n",
       "      <td>1.666667e-01</td>\n",
       "      <td>NaN</td>\n",
       "    </tr>\n",
       "    <tr>\n",
       "      <th rowspan=\"3\" valign=\"top\">Bias</th>\n",
       "      <th>NDCG</th>\n",
       "      <td>5.814268e-02</td>\n",
       "      <td>5.814268e-02</td>\n",
       "      <td>NaN</td>\n",
       "    </tr>\n",
       "    <tr>\n",
       "      <th>RBP</th>\n",
       "      <td>4.291534e-06</td>\n",
       "      <td>4.291534e-06</td>\n",
       "      <td>NaN</td>\n",
       "    </tr>\n",
       "    <tr>\n",
       "      <th>RecipRank</th>\n",
       "      <td>5.555556e-02</td>\n",
       "      <td>5.555556e-02</td>\n",
       "      <td>NaN</td>\n",
       "    </tr>\n",
       "    <tr>\n",
       "      <th rowspan=\"3\" valign=\"top\">IALS</th>\n",
       "      <th>NDCG</th>\n",
       "      <td>2.357709e-01</td>\n",
       "      <td>2.357709e-01</td>\n",
       "      <td>NaN</td>\n",
       "    </tr>\n",
       "    <tr>\n",
       "      <th>RBP</th>\n",
       "      <td>1.123810e-02</td>\n",
       "      <td>1.123810e-02</td>\n",
       "      <td>NaN</td>\n",
       "    </tr>\n",
       "    <tr>\n",
       "      <th>RecipRank</th>\n",
       "      <td>1.428571e-01</td>\n",
       "      <td>1.428571e-01</td>\n",
       "      <td>NaN</td>\n",
       "    </tr>\n",
       "    <tr>\n",
       "      <th rowspan=\"3\" valign=\"top\">IIE</th>\n",
       "      <th>NDCG</th>\n",
       "      <td>1.897510e-02</td>\n",
       "      <td>1.897510e-02</td>\n",
       "      <td>NaN</td>\n",
       "    </tr>\n",
       "    <tr>\n",
       "      <th>RBP</th>\n",
       "      <td>5.048710e-29</td>\n",
       "      <td>5.048710e-29</td>\n",
       "      <td>NaN</td>\n",
       "    </tr>\n",
       "    <tr>\n",
       "      <th>RecipRank</th>\n",
       "      <td>1.063830e-02</td>\n",
       "      <td>1.063830e-02</td>\n",
       "      <td>NaN</td>\n",
       "    </tr>\n",
       "    <tr>\n",
       "      <th rowspan=\"3\" valign=\"top\">III</th>\n",
       "      <th>NDCG</th>\n",
       "      <td>4.641791e-01</td>\n",
       "      <td>4.641791e-01</td>\n",
       "      <td>NaN</td>\n",
       "    </tr>\n",
       "    <tr>\n",
       "      <th>RBP</th>\n",
       "      <td>8.364258e-01</td>\n",
       "      <td>8.364258e-01</td>\n",
       "      <td>NaN</td>\n",
       "    </tr>\n",
       "    <tr>\n",
       "      <th>RecipRank</th>\n",
       "      <td>1.000000e+00</td>\n",
       "      <td>1.000000e+00</td>\n",
       "      <td>NaN</td>\n",
       "    </tr>\n",
       "    <tr>\n",
       "      <th rowspan=\"3\" valign=\"top\">Pop</th>\n",
       "      <th>NDCG</th>\n",
       "      <td>1.436560e-01</td>\n",
       "      <td>1.436560e-01</td>\n",
       "      <td>NaN</td>\n",
       "    </tr>\n",
       "    <tr>\n",
       "      <th>RBP</th>\n",
       "      <td>7.814411e-03</td>\n",
       "      <td>7.814411e-03</td>\n",
       "      <td>NaN</td>\n",
       "    </tr>\n",
       "    <tr>\n",
       "      <th>RecipRank</th>\n",
       "      <td>1.428571e-01</td>\n",
       "      <td>1.428571e-01</td>\n",
       "      <td>NaN</td>\n",
       "    </tr>\n",
       "    <tr>\n",
       "      <th rowspan=\"3\" valign=\"top\">UUE</th>\n",
       "      <th>NDCG</th>\n",
       "      <td>6.561138e-02</td>\n",
       "      <td>6.561138e-02</td>\n",
       "      <td>NaN</td>\n",
       "    </tr>\n",
       "    <tr>\n",
       "      <th>RBP</th>\n",
       "      <td>1.490116e-08</td>\n",
       "      <td>1.490116e-08</td>\n",
       "      <td>NaN</td>\n",
       "    </tr>\n",
       "    <tr>\n",
       "      <th>RecipRank</th>\n",
       "      <td>3.846154e-02</td>\n",
       "      <td>3.846154e-02</td>\n",
       "      <td>NaN</td>\n",
       "    </tr>\n",
       "  </tbody>\n",
       "</table>\n",
       "</div>"
      ],
      "text/plain": [
       "                         mean        median  std\n",
       "model                                           \n",
       "ALS   NDCG       4.811441e-02  4.811441e-02  NaN\n",
       "      RBP        1.562500e-02  1.562500e-02  NaN\n",
       "      RecipRank  1.666667e-01  1.666667e-01  NaN\n",
       "Bias  NDCG       5.814268e-02  5.814268e-02  NaN\n",
       "      RBP        4.291534e-06  4.291534e-06  NaN\n",
       "      RecipRank  5.555556e-02  5.555556e-02  NaN\n",
       "IALS  NDCG       2.357709e-01  2.357709e-01  NaN\n",
       "      RBP        1.123810e-02  1.123810e-02  NaN\n",
       "      RecipRank  1.428571e-01  1.428571e-01  NaN\n",
       "IIE   NDCG       1.897510e-02  1.897510e-02  NaN\n",
       "      RBP        5.048710e-29  5.048710e-29  NaN\n",
       "      RecipRank  1.063830e-02  1.063830e-02  NaN\n",
       "III   NDCG       4.641791e-01  4.641791e-01  NaN\n",
       "      RBP        8.364258e-01  8.364258e-01  NaN\n",
       "      RecipRank  1.000000e+00  1.000000e+00  NaN\n",
       "Pop   NDCG       1.436560e-01  1.436560e-01  NaN\n",
       "      RBP        7.814411e-03  7.814411e-03  NaN\n",
       "      RecipRank  1.428571e-01  1.428571e-01  NaN\n",
       "UUE   NDCG       6.561138e-02  6.561138e-02  NaN\n",
       "      RBP        1.490116e-08  1.490116e-08  NaN\n",
       "      RecipRank  3.846154e-02  3.846154e-02  NaN"
      ]
     },
     "execution_count": 13,
     "metadata": {},
     "output_type": "execute_result"
    }
   ],
   "source": [
    "ra = RunAnalysis()\n",
    "\n",
    "ra.add_metric(NDCG())\n",
    "ra.add_metric(RecipRank())\n",
    "ra.add_metric(RBP())\n",
    "\n",
    "rec_results = ra.compute(recs, test)\n",
    "rec_results.list_summary('model')"
   ]
  },
  {
   "cell_type": "markdown",
   "id": "2cda0b8b",
   "metadata": {
    "papermill": {
     "duration": 0.001413,
     "end_time": "2025-02-06T17:49:53.618964",
     "exception": false,
     "start_time": "2025-02-06T17:49:53.617551",
     "status": "completed"
    },
    "tags": []
   },
   "source": [
    "We can reshape the list metrics and plot them:"
   ]
  },
  {
   "cell_type": "code",
   "execution_count": 14,
   "id": "2501e294",
   "metadata": {
    "execution": {
     "iopub.execute_input": "2025-02-06T17:49:53.622092Z",
     "iopub.status.busy": "2025-02-06T17:49:53.622002Z",
     "iopub.status.idle": "2025-02-06T17:49:53.819630Z",
     "shell.execute_reply": "2025-02-06T17:49:53.819223Z"
    },
    "papermill": {
     "duration": 0.199745,
     "end_time": "2025-02-06T17:49:53.820140",
     "exception": false,
     "start_time": "2025-02-06T17:49:53.620395",
     "status": "completed"
    },
    "tags": []
   },
   "outputs": [
    {
     "data": {
      "image/png": "[encoded data removed]",
      "text/plain": [
       "<Figure size 1511.11x500 with 3 Axes>"
      ]
     },
     "metadata": {},
     "output_type": "display_data"
    }
   ],
   "source": [
    "metrics = rec_results.list_metrics()\n",
    "metrics = metrics.melt(var_name='metric', ignore_index=False).reset_index()\n",
    "sns.catplot(metrics, x='model', y='value', col='metric', kind='bar')\n",
    "plt.show()"
   ]
  },
  {
   "cell_type": "markdown",
   "id": "993824c4",
   "metadata": {
    "papermill": {
     "duration": 0.008834,
     "end_time": "2025-02-06T17:49:53.830760",
     "exception": false,
     "start_time": "2025-02-06T17:49:53.821926",
     "status": "completed"
    },
    "tags": []
   },
   "source": [
    "## Prediction RMSE\n",
    "\n",
    "We will also look at the prediction RMSE."
   ]
  },
  {
   "cell_type": "code",
   "execution_count": 15,
   "id": "03e3a07f",
   "metadata": {
    "execution": {
     "iopub.execute_input": "2025-02-06T17:49:53.834474Z",
     "iopub.status.busy": "2025-02-06T17:49:53.834373Z",
     "iopub.status.idle": "2025-02-06T17:49:53.842548Z",
     "shell.execute_reply": "2025-02-06T17:49:53.842288Z"
    },
    "papermill": {
     "duration": 0.010473,
     "end_time": "2025-02-06T17:49:53.842878",
     "exception": false,
     "start_time": "2025-02-06T17:49:53.832405",
     "status": "completed"
    },
    "tags": []
   },
   "outputs": [
    {
     "name": "stderr",
     "output_type": "stream",
     "text": [
      "/home/mde48/lenskit/lk-demo-experiment/.venv/lib/python3.13/site-packages/lenskit/metrics/bulk.py:127: FutureWarning: The previous implementation of stack is deprecated and will be removed in a future version of pandas. See the What's New notes for pandas 2.1.0 for details. Specify future_stack=True to adopt the new implementation and silence this warning.\n",
      "  df = scores.groupby(list(keys)).agg([\"mean\", \"median\", \"std\"]).stack(level=0)\n"
     ]
    },
    {
     "data": {
      "text/html": [
       "<div>\n",
       "<style scoped>\n",
       "    .dataframe tbody tr th:only-of-type {\n",
       "        vertical-align: middle;\n",
       "    }\n",
       "\n",
       "    .dataframe tbody tr th {\n",
       "        vertical-align: top;\n",
       "    }\n",
       "\n",
       "    .dataframe thead th {\n",
       "        text-align: right;\n",
       "    }\n",
       "</style>\n",
       "<table border=\"1\" class=\"dataframe\">\n",
       "  <thead>\n",
       "    <tr style=\"text-align: right;\">\n",
       "      <th></th>\n",
       "      <th></th>\n",
       "      <th>mean</th>\n",
       "      <th>median</th>\n",
       "      <th>std</th>\n",
       "    </tr>\n",
       "    <tr>\n",
       "      <th>model</th>\n",
       "      <th></th>\n",
       "      <th></th>\n",
       "      <th></th>\n",
       "      <th></th>\n",
       "    </tr>\n",
       "  </thead>\n",
       "  <tbody>\n",
       "    <tr>\n",
       "      <th>ALS</th>\n",
       "      <th>RMSE</th>\n",
       "      <td>0.655399</td>\n",
       "      <td>0.655399</td>\n",
       "      <td>NaN</td>\n",
       "    </tr>\n",
       "    <tr>\n",
       "      <th>Bias</th>\n",
       "      <th>RMSE</th>\n",
       "      <td>0.526606</td>\n",
       "      <td>0.526606</td>\n",
       "      <td>NaN</td>\n",
       "    </tr>\n",
       "    <tr>\n",
       "      <th>IIE</th>\n",
       "      <th>RMSE</th>\n",
       "      <td>0.565706</td>\n",
       "      <td>0.565706</td>\n",
       "      <td>NaN</td>\n",
       "    </tr>\n",
       "    <tr>\n",
       "      <th>UUE</th>\n",
       "      <th>RMSE</th>\n",
       "      <td>0.717296</td>\n",
       "      <td>0.717296</td>\n",
       "      <td>NaN</td>\n",
       "    </tr>\n",
       "  </tbody>\n",
       "</table>\n",
       "</div>"
      ],
      "text/plain": [
       "                mean    median  std\n",
       "model                              \n",
       "ALS   RMSE  0.655399  0.655399  NaN\n",
       "Bias  RMSE  0.526606  0.526606  NaN\n",
       "IIE   RMSE  0.565706  0.565706  NaN\n",
       "UUE   RMSE  0.717296  0.717296  NaN"
      ]
     },
     "execution_count": 15,
     "metadata": {},
     "output_type": "execute_result"
    }
   ],
   "source": [
    "pa = RunAnalysis()\n",
    "\n",
    "pa.add_metric(RMSE(missing_scores='ignore', missing_truth='ignore'))\n",
    "\n",
    "pred_results = pa.compute(preds, test)\n",
    "pred_results.list_summary('model')"
   ]
  },
  {
   "cell_type": "code",
   "execution_count": 16,
   "id": "a637c5ce",
   "metadata": {
    "execution": {
     "iopub.execute_input": "2025-02-06T17:49:53.846588Z",
     "iopub.status.busy": "2025-02-06T17:49:53.846412Z",
     "iopub.status.idle": "2025-02-06T17:49:53.907544Z",
     "shell.execute_reply": "2025-02-06T17:49:53.907117Z"
    },
    "papermill": {
     "duration": 0.063525,
     "end_time": "2025-02-06T17:49:53.908059",
     "exception": false,
     "start_time": "2025-02-06T17:49:53.844534",
     "status": "completed"
    },
    "tags": []
   },
   "outputs": [
    {
     "data": {
      "image/png": "[encoded data removed]",
      "text/plain": [
       "<Figure size 511.111x500 with 1 Axes>"
      ]
     },
     "metadata": {},
     "output_type": "display_data"
    }
   ],
   "source": [
    "sns.catplot(pred_results.list_metrics().reset_index(), x='model', y='RMSE', kind='bar')\n",
    "plt.show()"
   ]
  },
  {
   "cell_type": "markdown",
   "id": "9a86aaec",
   "metadata": {
    "papermill": {
     "duration": 0.001675,
     "end_time": "2025-02-06T17:49:53.912845",
     "exception": false,
     "start_time": "2025-02-06T17:49:53.911170",
     "status": "completed"
    },
    "tags": []
   },
   "source": [
    "## Save Metrics\n",
    "\n",
    "We'll now save the metrics to a file."
   ]
  },
  {
   "cell_type": "code",
   "execution_count": 17,
   "id": "7cc6c33e",
   "metadata": {
    "execution": {
     "iopub.execute_input": "2025-02-06T17:49:53.916653Z",
     "iopub.status.busy": "2025-02-06T17:49:53.916536Z",
     "iopub.status.idle": "2025-02-06T17:49:53.926420Z",
     "shell.execute_reply": "2025-02-06T17:49:53.926108Z"
    },
    "papermill": {
     "duration": 0.012308,
     "end_time": "2025-02-06T17:49:53.926763",
     "exception": false,
     "start_time": "2025-02-06T17:49:53.914455",
     "status": "completed"
    },
    "tags": []
   },
   "outputs": [
    {
     "name": "stderr",
     "output_type": "stream",
     "text": [
      "/home/mde48/lenskit/lk-demo-experiment/.venv/lib/python3.13/site-packages/lenskit/metrics/bulk.py:127: FutureWarning: The previous implementation of stack is deprecated and will be removed in a future version of pandas. See the What's New notes for pandas 2.1.0 for details. Specify future_stack=True to adopt the new implementation and silence this warning.\n",
      "  df = scores.groupby(list(keys)).agg([\"mean\", \"median\", \"std\"]).stack(level=0)\n"
     ]
    },
    {
     "data": {
      "text/html": [
       "<div>\n",
       "<style scoped>\n",
       "    .dataframe tbody tr th:only-of-type {\n",
       "        vertical-align: middle;\n",
       "    }\n",
       "\n",
       "    .dataframe tbody tr th {\n",
       "        vertical-align: top;\n",
       "    }\n",
       "\n",
       "    .dataframe thead th {\n",
       "        text-align: right;\n",
       "    }\n",
       "</style>\n",
       "<table border=\"1\" class=\"dataframe\">\n",
       "  <thead>\n",
       "    <tr style=\"text-align: right;\">\n",
       "      <th></th>\n",
       "      <th>NDCG</th>\n",
       "      <th>RBP</th>\n",
       "      <th>RecipRank</th>\n",
       "    </tr>\n",
       "    <tr>\n",
       "      <th>model</th>\n",
       "      <th></th>\n",
       "      <th></th>\n",
       "      <th></th>\n",
       "    </tr>\n",
       "  </thead>\n",
       "  <tbody>\n",
       "    <tr>\n",
       "      <th>ALS</th>\n",
       "      <td>0.048114</td>\n",
       "      <td>1.562500e-02</td>\n",
       "      <td>0.166667</td>\n",
       "    </tr>\n",
       "    <tr>\n",
       "      <th>Bias</th>\n",
       "      <td>0.058143</td>\n",
       "      <td>4.291534e-06</td>\n",
       "      <td>0.055556</td>\n",
       "    </tr>\n",
       "    <tr>\n",
       "      <th>IALS</th>\n",
       "      <td>0.235771</td>\n",
       "      <td>1.123810e-02</td>\n",
       "      <td>0.142857</td>\n",
       "    </tr>\n",
       "    <tr>\n",
       "      <th>IIE</th>\n",
       "      <td>0.018975</td>\n",
       "      <td>5.048710e-29</td>\n",
       "      <td>0.010638</td>\n",
       "    </tr>\n",
       "    <tr>\n",
       "      <th>III</th>\n",
       "      <td>0.464179</td>\n",
       "      <td>8.364258e-01</td>\n",
       "      <td>1.000000</td>\n",
       "    </tr>\n",
       "    <tr>\n",
       "      <th>Pop</th>\n",
       "      <td>0.143656</td>\n",
       "      <td>7.814411e-03</td>\n",
       "      <td>0.142857</td>\n",
       "    </tr>\n",
       "    <tr>\n",
       "      <th>UUE</th>\n",
       "      <td>0.065611</td>\n",
       "      <td>1.490116e-08</td>\n",
       "      <td>0.038462</td>\n",
       "    </tr>\n",
       "  </tbody>\n",
       "</table>\n",
       "</div>"
      ],
      "text/plain": [
       "           NDCG           RBP  RecipRank\n",
       "model                                   \n",
       "ALS    0.048114  1.562500e-02   0.166667\n",
       "Bias   0.058143  4.291534e-06   0.055556\n",
       "IALS   0.235771  1.123810e-02   0.142857\n",
       "IIE    0.018975  5.048710e-29   0.010638\n",
       "III    0.464179  8.364258e-01   1.000000\n",
       "Pop    0.143656  7.814411e-03   0.142857\n",
       "UUE    0.065611  1.490116e-08   0.038462"
      ]
     },
     "execution_count": 17,
     "metadata": {},
     "output_type": "execute_result"
    }
   ],
   "source": [
    "rlsum = rec_results.list_summary('model')['mean'].unstack()\n",
    "rlsum"
   ]
  },
  {
   "cell_type": "code",
   "execution_count": 18,
   "id": "1cfaa06d",
   "metadata": {
    "execution": {
     "iopub.execute_input": "2025-02-06T17:49:53.930732Z",
     "iopub.status.busy": "2025-02-06T17:49:53.930538Z",
     "iopub.status.idle": "2025-02-06T17:49:53.933417Z",
     "shell.execute_reply": "2025-02-06T17:49:53.932947Z"
    },
    "papermill": {
     "duration": 0.005302,
     "end_time": "2025-02-06T17:49:53.933803",
     "exception": false,
     "start_time": "2025-02-06T17:49:53.928501",
     "status": "completed"
    },
    "tags": []
   },
   "outputs": [],
   "source": [
    "rlsum.to_json(f'eval-metrics.{dataset}.json', orient='index')"
   ]
  }
 ],
 "metadata": {
  "jupytext": {
   "formats": "ipynb,md",
   "notebook_metadata_filter": "split_at_heading"
  },
  "kernelspec": {
   "display_name": "Python 3 (ipykernel)",
   "language": "python",
   "name": "python3"
  },
  "language_info": {
   "codemirror_mode": {
    "name": "ipython",
    "version": 3
   },
   "file_extension": ".py",
   "mimetype": "text/x-python",
   "name": "python",
   "nbconvert_exporter": "python",
   "pygments_lexer": "ipython3",
   "version": "3.13.1"
  },
  "papermill": {
   "default_parameters": {},
   "duration": 2.645265,
   "end_time": "2025-02-06T17:49:54.350183",
   "environment_variables": {},
   "exception": null,
   "input_path": "eval-report.ipynb",
   "output_path": "eval-report.ml-100k.ipynb",
   "parameters": {
    "dataset": "ml-100k"
   },
   "start_time": "2025-02-06T17:49:51.704918",
   "version": "2.6.0"
  },
  "split_at_heading": true
 },
 "nbformat": 4,
 "nbformat_minor": 5
}