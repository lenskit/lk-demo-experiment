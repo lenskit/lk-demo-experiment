{
 "cells": [
  {
   "cell_type": "markdown",
   "id": "605fd33a",
   "metadata": {
    "papermill": {
     "duration": 0.010769,
     "end_time": "2025-02-06T17:56:34.973311",
     "exception": false,
     "start_time": "2025-02-06T17:56:34.962542",
     "status": "completed"
    },
    "tags": []
   },
   "source": [
    "# Evaluation Analysis for Recommender Output"
   ]
  },
  {
   "cell_type": "markdown",
   "id": "60583352",
   "metadata": {
    "papermill": {
     "duration": 0.001159,
     "end_time": "2025-02-06T17:56:34.975865",
     "exception": false,
     "start_time": "2025-02-06T17:56:34.974706",
     "status": "completed"
    },
    "tags": []
   },
   "source": [
    "In this section we will analyze and compare the generated recommendations and predictions from a predefined list of algorithms with the goal of assessing the performance of each algorithm with respect to a metric. In other words, we would rank the algorithms for each metric considered with respect to performance."
   ]
  },
  {
   "cell_type": "markdown",
   "id": "4bb6a3e7",
   "metadata": {
    "papermill": {
     "duration": 0.001077,
     "end_time": "2025-02-06T17:56:34.978101",
     "exception": false,
     "start_time": "2025-02-06T17:56:34.977024",
     "status": "completed"
    },
    "tags": []
   },
   "source": [
    "## Setup"
   ]
  },
  {
   "cell_type": "markdown",
   "id": "d10343e5",
   "metadata": {
    "papermill": {
     "duration": 0.001201,
     "end_time": "2025-02-06T17:56:34.980431",
     "exception": false,
     "start_time": "2025-02-06T17:56:34.979230",
     "status": "completed"
    },
    "tags": []
   },
   "source": [
    "Below are the list of packages required to successfully run the analysis. They are divided into partitions to signify their specific task.<br>\n",
    "We need the pathlib package for working with files and folders"
   ]
  },
  {
   "cell_type": "code",
   "execution_count": 1,
   "id": "e366c574",
   "metadata": {
    "execution": {
     "iopub.execute_input": "2025-02-06T17:56:34.983386Z",
     "iopub.status.busy": "2025-02-06T17:56:34.983275Z",
     "iopub.status.idle": "2025-02-06T17:56:34.985302Z",
     "shell.execute_reply": "2025-02-06T17:56:34.985054Z"
    },
    "papermill": {
     "duration": 0.004459,
     "end_time": "2025-02-06T17:56:34.986019",
     "exception": false,
     "start_time": "2025-02-06T17:56:34.981560",
     "status": "completed"
    },
    "tags": []
   },
   "outputs": [],
   "source": [
    "from pathlib import Path\n",
    "import json"
   ]
  },
  {
   "cell_type": "markdown",
   "id": "f5cd5e83",
   "metadata": {
    "papermill": {
     "duration": 0.001237,
     "end_time": "2025-02-06T17:56:34.989733",
     "exception": false,
     "start_time": "2025-02-06T17:56:34.988496",
     "status": "completed"
    },
    "tags": []
   },
   "source": [
    "We would use the pandas for analyzing and manipulating our data while seaborn and matplotlib are used for data visualization. statsmodels.graphics.gofplots and scipy.stats.shapiro are used for normality check. Scipy.stats.friedmanchisquare is a non-parametric test used to determine the statistical significance in metric results and the wilcoxon test is used for pairwise comparison of sample data."
   ]
  },
  {
   "cell_type": "code",
   "execution_count": 2,
   "id": "35c4aa1e",
   "metadata": {
    "execution": {
     "iopub.execute_input": "2025-02-06T17:56:34.992399Z",
     "iopub.status.busy": "2025-02-06T17:56:34.992331Z",
     "iopub.status.idle": "2025-02-06T17:56:35.457570Z",
     "shell.execute_reply": "2025-02-06T17:56:35.457125Z"
    },
    "lines_to_next_cell": 2,
    "papermill": {
     "duration": 0.467526,
     "end_time": "2025-02-06T17:56:35.458455",
     "exception": false,
     "start_time": "2025-02-06T17:56:34.990929",
     "status": "completed"
    },
    "tags": []
   },
   "outputs": [],
   "source": [
    "import pandas as pd\n",
    "import seaborn as sns\n",
    "import matplotlib.pyplot as plt\n",
    "from statsmodels.graphics.gofplots import qqplot\n",
    "from scipy.stats import shapiro\n",
    "from scipy.stats import friedmanchisquare, wilcoxon\n",
    "from itertools import combinations"
   ]
  },
  {
   "cell_type": "markdown",
   "id": "b77c1db0",
   "metadata": {
    "papermill": {
     "duration": 0.008691,
     "end_time": "2025-02-06T17:56:35.468702",
     "exception": false,
     "start_time": "2025-02-06T17:56:35.460011",
     "status": "completed"
    },
    "tags": []
   },
   "source": [
    "Import the LensKit metrics for analysis:"
   ]
  },
  {
   "cell_type": "code",
   "execution_count": 3,
   "id": "86454f14",
   "metadata": {
    "execution": {
     "iopub.execute_input": "2025-02-06T17:56:35.471681Z",
     "iopub.status.busy": "2025-02-06T17:56:35.471528Z",
     "iopub.status.idle": "2025-02-06T17:56:36.109861Z",
     "shell.execute_reply": "2025-02-06T17:56:36.109563Z"
    },
    "papermill": {
     "duration": 0.640767,
     "end_time": "2025-02-06T17:56:36.110708",
     "exception": false,
     "start_time": "2025-02-06T17:56:35.469941",
     "status": "completed"
    },
    "tags": []
   },
   "outputs": [],
   "source": [
    "from lenskit.data import Dataset, ItemListCollection, UserIDKey\n",
    "from lenskit.metrics import RunAnalysis, RMSE, NDCG, RecipRank, RBP"
   ]
  },
  {
   "cell_type": "code",
   "execution_count": 4,
   "id": "1b539163",
   "metadata": {
    "execution": {
     "iopub.execute_input": "2025-02-06T17:56:36.121564Z",
     "iopub.status.busy": "2025-02-06T17:56:36.121481Z",
     "iopub.status.idle": "2025-02-06T17:56:36.123913Z",
     "shell.execute_reply": "2025-02-06T17:56:36.123751Z"
    },
    "papermill": {
     "duration": 0.012012,
     "end_time": "2025-02-06T17:56:36.124304",
     "exception": false,
     "start_time": "2025-02-06T17:56:36.112292",
     "status": "completed"
    },
    "tags": []
   },
   "outputs": [],
   "source": [
    "from lkdemo.datasets import split_fraction"
   ]
  },
  {
   "cell_type": "markdown",
   "id": "db65cf61",
   "metadata": {
    "papermill": {
     "duration": 0.001188,
     "end_time": "2025-02-06T17:56:36.126767",
     "exception": false,
     "start_time": "2025-02-06T17:56:36.125579",
     "status": "completed"
    },
    "tags": []
   },
   "source": [
    "## Load Data\n",
    "\n",
    "The recommendations are in `runs`, and we will need to reassemble the test data from `test`."
   ]
  },
  {
   "cell_type": "code",
   "execution_count": 5,
   "id": "de8c0535",
   "metadata": {
    "execution": {
     "iopub.execute_input": "2025-02-06T17:56:36.129588Z",
     "iopub.status.busy": "2025-02-06T17:56:36.129513Z",
     "iopub.status.idle": "2025-02-06T17:56:36.130810Z",
     "shell.execute_reply": "2025-02-06T17:56:36.130668Z"
    },
    "papermill": {
     "duration": 0.003216,
     "end_time": "2025-02-06T17:56:36.131177",
     "exception": false,
     "start_time": "2025-02-06T17:56:36.127961",
     "status": "completed"
    },
    "tags": [
     "parameters"
    ]
   },
   "outputs": [],
   "source": [
    "dataset = \"ml-100k\""
   ]
  },
  {
   "cell_type": "code",
   "execution_count": 6,
   "id": "51c6cbf9",
   "metadata": {
    "execution": {
     "iopub.execute_input": "2025-02-06T17:56:36.133925Z",
     "iopub.status.busy": "2025-02-06T17:56:36.133857Z",
     "iopub.status.idle": "2025-02-06T17:56:36.135107Z",
     "shell.execute_reply": "2025-02-06T17:56:36.134968Z"
    },
    "papermill": {
     "duration": 0.002971,
     "end_time": "2025-02-06T17:56:36.135428",
     "exception": false,
     "start_time": "2025-02-06T17:56:36.132457",
     "status": "completed"
    },
    "tags": [
     "injected-parameters"
    ]
   },
   "outputs": [],
   "source": [
    "# Parameters\n",
    "dataset = \"ml-100k\"\n"
   ]
  },
  {
   "cell_type": "code",
   "execution_count": 7,
   "id": "f5ea83f3",
   "metadata": {
    "execution": {
     "iopub.execute_input": "2025-02-06T17:56:36.138229Z",
     "iopub.status.busy": "2025-02-06T17:56:36.138158Z",
     "iopub.status.idle": "2025-02-06T17:56:36.139435Z",
     "shell.execute_reply": "2025-02-06T17:56:36.139298Z"
    },
    "papermill": {
     "duration": 0.003009,
     "end_time": "2025-02-06T17:56:36.139701",
     "exception": false,
     "start_time": "2025-02-06T17:56:36.136692",
     "status": "completed"
    },
    "tags": []
   },
   "outputs": [],
   "source": [
    "output_root = Path(\"runs\")"
   ]
  },
  {
   "cell_type": "code",
   "execution_count": 8,
   "id": "327f8a13",
   "metadata": {
    "execution": {
     "iopub.execute_input": "2025-02-06T17:56:36.142468Z",
     "iopub.status.busy": "2025-02-06T17:56:36.142402Z",
     "iopub.status.idle": "2025-02-06T17:56:36.143880Z",
     "shell.execute_reply": "2025-02-06T17:56:36.143731Z"
    },
    "papermill": {
     "duration": 0.003181,
     "end_time": "2025-02-06T17:56:36.144156",
     "exception": false,
     "start_time": "2025-02-06T17:56:36.140975",
     "status": "completed"
    },
    "tags": []
   },
   "outputs": [],
   "source": [
    "dirs = [fld for fld in output_root.glob(f'{dataset}-*')]"
   ]
  },
  {
   "cell_type": "code",
   "execution_count": 9,
   "id": "a0d58d42",
   "metadata": {
    "execution": {
     "iopub.execute_input": "2025-02-06T17:56:36.146970Z",
     "iopub.status.busy": "2025-02-06T17:56:36.146898Z",
     "iopub.status.idle": "2025-02-06T17:56:36.192687Z",
     "shell.execute_reply": "2025-02-06T17:56:36.192406Z"
    },
    "papermill": {
     "duration": 0.04778,
     "end_time": "2025-02-06T17:56:36.193242",
     "exception": false,
     "start_time": "2025-02-06T17:56:36.145462",
     "status": "completed"
    },
    "tags": []
   },
   "outputs": [],
   "source": [
    "recs = ItemListCollection(['model', 'user_id'], index=False)\n",
    "for fld in dirs:\n",
    "    for file in fld.glob(\"recs-*\"):\n",
    "        rec = ItemListCollection.load_parquet(file)\n",
    "        recs.add_from(rec, model=fld.name.split(\"-\")[-1])"
   ]
  },
  {
   "cell_type": "code",
   "execution_count": 10,
   "id": "68039a12",
   "metadata": {
    "execution": {
     "iopub.execute_input": "2025-02-06T17:56:36.196450Z",
     "iopub.status.busy": "2025-02-06T17:56:36.196382Z",
     "iopub.status.idle": "2025-02-06T17:56:36.199652Z",
     "shell.execute_reply": "2025-02-06T17:56:36.199510Z"
    },
    "papermill": {
     "duration": 0.005333,
     "end_time": "2025-02-06T17:56:36.200005",
     "exception": false,
     "start_time": "2025-02-06T17:56:36.194672",
     "status": "completed"
    },
    "tags": []
   },
   "outputs": [
    {
     "data": {
      "text/plain": [
       "['ALS', 'Bias', 'IALS', 'IIE', 'III', 'Pop', 'UUE']"
      ]
     },
     "execution_count": 10,
     "metadata": {},
     "output_type": "execute_result"
    }
   ],
   "source": [
    "rec_algos = sorted(set(a for (a, _u) in recs.keys()))\n",
    "rec_algos"
   ]
  },
  {
   "cell_type": "code",
   "execution_count": 11,
   "id": "6ec8ce31",
   "metadata": {
    "execution": {
     "iopub.execute_input": "2025-02-06T17:56:36.203018Z",
     "iopub.status.busy": "2025-02-06T17:56:36.202953Z",
     "iopub.status.idle": "2025-02-06T17:56:36.236321Z",
     "shell.execute_reply": "2025-02-06T17:56:36.236056Z"
    },
    "papermill": {
     "duration": 0.035452,
     "end_time": "2025-02-06T17:56:36.236815",
     "exception": false,
     "start_time": "2025-02-06T17:56:36.201363",
     "status": "completed"
    },
    "tags": []
   },
   "outputs": [],
   "source": [
    "preds = ItemListCollection(['model', 'user_id'], index=False)\n",
    "for fld in dirs:\n",
    "    for file in fld.glob(\"pred-*\"):\n",
    "        pred = ItemListCollection.load_parquet(file)\n",
    "        preds.add_from(pred, model=fld.name.split(\"-\")[-1])"
   ]
  },
  {
   "cell_type": "markdown",
   "id": "d7984c97",
   "metadata": {
    "papermill": {
     "duration": 0.001336,
     "end_time": "2025-02-06T17:56:36.239741",
     "exception": false,
     "start_time": "2025-02-06T17:56:36.238405",
     "status": "completed"
    },
    "tags": []
   },
   "source": [
    "We need to load the test data so that we have the ground truths for computing accuracy"
   ]
  },
  {
   "cell_type": "code",
   "execution_count": 12,
   "id": "edea330e",
   "metadata": {
    "execution": {
     "iopub.execute_input": "2025-02-06T17:56:36.242801Z",
     "iopub.status.busy": "2025-02-06T17:56:36.242709Z",
     "iopub.status.idle": "2025-02-06T17:56:36.279604Z",
     "shell.execute_reply": "2025-02-06T17:56:36.279331Z"
    },
    "papermill": {
     "duration": 0.039199,
     "end_time": "2025-02-06T17:56:36.280233",
     "exception": false,
     "start_time": "2025-02-06T17:56:36.241034",
     "status": "completed"
    },
    "tags": []
   },
   "outputs": [],
   "source": [
    "data = Dataset.load(f\"data/{dataset}\")\n",
    "split = split_fraction(data, 0.2)\n",
    "test = split.test"
   ]
  },
  {
   "cell_type": "markdown",
   "id": "8d267c49",
   "metadata": {
    "papermill": {
     "duration": 0.001377,
     "end_time": "2025-02-06T17:56:36.283103",
     "exception": false,
     "start_time": "2025-02-06T17:56:36.281726",
     "status": "completed"
    },
    "tags": []
   },
   "source": [
    "## Top-N Metrics\n",
    "\n",
    "`RunListAnalysis` computes metrics for recommendation results and takes care of\n",
    "matching recommendations and ground truth."
   ]
  },
  {
   "cell_type": "code",
   "execution_count": 13,
   "id": "5c468e42",
   "metadata": {
    "execution": {
     "iopub.execute_input": "2025-02-06T17:56:36.286221Z",
     "iopub.status.busy": "2025-02-06T17:56:36.286140Z",
     "iopub.status.idle": "2025-02-06T17:56:36.465685Z",
     "shell.execute_reply": "2025-02-06T17:56:36.465489Z"
    },
    "papermill": {
     "duration": 0.181658,
     "end_time": "2025-02-06T17:56:36.466111",
     "exception": false,
     "start_time": "2025-02-06T17:56:36.284453",
     "status": "completed"
    },
    "tags": []
   },
   "outputs": [
    {
     "name": "stderr",
     "output_type": "stream",
     "text": [
      "/home/mde48/lenskit/lk-demo-experiment/.venv/lib/python3.13/site-packages/lenskit/metrics/bulk.py:127: FutureWarning: The previous implementation of stack is deprecated and will be removed in a future version of pandas. See the What's New notes for pandas 2.1.0 for details. Specify future_stack=True to adopt the new implementation and silence this warning.\n",
      "  df = scores.groupby(list(keys)).agg([\"mean\", \"median\", \"std\"]).stack(level=0)\n"
     ]
    },
    {
     "data": {
      "text/html": [
       "<div>\n",
       "<style scoped>\n",
       "    .dataframe tbody tr th:only-of-type {\n",
       "        vertical-align: middle;\n",
       "    }\n",
       "\n",
       "    .dataframe tbody tr th {\n",
       "        vertical-align: top;\n",
       "    }\n",
       "\n",
       "    .dataframe thead th {\n",
       "        text-align: right;\n",
       "    }\n",
       "</style>\n",
       "<table border=\"1\" class=\"dataframe\">\n",
       "  <thead>\n",
       "    <tr style=\"text-align: right;\">\n",
       "      <th></th>\n",
       "      <th></th>\n",
       "      <th>mean</th>\n",
       "      <th>median</th>\n",
       "      <th>std</th>\n",
       "    </tr>\n",
       "    <tr>\n",
       "      <th>model</th>\n",
       "      <th></th>\n",
       "      <th></th>\n",
       "      <th></th>\n",
       "      <th></th>\n",
       "    </tr>\n",
       "  </thead>\n",
       "  <tbody>\n",
       "    <tr>\n",
       "      <th rowspan=\"3\" valign=\"top\">ALS</th>\n",
       "      <th>NDCG</th>\n",
       "      <td>0.163800</td>\n",
       "      <td>1.324795e-01</td>\n",
       "      <td>0.120870</td>\n",
       "    </tr>\n",
       "    <tr>\n",
       "      <th>RBP</th>\n",
       "      <td>0.112466</td>\n",
       "      <td>1.562691e-02</td>\n",
       "      <td>0.211288</td>\n",
       "    </tr>\n",
       "    <tr>\n",
       "      <th>RecipRank</th>\n",
       "      <td>0.237353</td>\n",
       "      <td>1.666667e-01</td>\n",
       "      <td>0.262634</td>\n",
       "    </tr>\n",
       "    <tr>\n",
       "      <th rowspan=\"3\" valign=\"top\">Bias</th>\n",
       "      <th>NDCG</th>\n",
       "      <td>0.163369</td>\n",
       "      <td>1.284421e-01</td>\n",
       "      <td>0.122004</td>\n",
       "    </tr>\n",
       "    <tr>\n",
       "      <th>RBP</th>\n",
       "      <td>0.102817</td>\n",
       "      <td>1.562692e-02</td>\n",
       "      <td>0.190049</td>\n",
       "    </tr>\n",
       "    <tr>\n",
       "      <th>RecipRank</th>\n",
       "      <td>0.228765</td>\n",
       "      <td>1.666667e-01</td>\n",
       "      <td>0.242535</td>\n",
       "    </tr>\n",
       "    <tr>\n",
       "      <th rowspan=\"3\" valign=\"top\">IALS</th>\n",
       "      <th>NDCG</th>\n",
       "      <td>0.099041</td>\n",
       "      <td>7.820491e-02</td>\n",
       "      <td>0.106209</td>\n",
       "    </tr>\n",
       "    <tr>\n",
       "      <th>RBP</th>\n",
       "      <td>0.049560</td>\n",
       "      <td>2.831239e-07</td>\n",
       "      <td>0.156709</td>\n",
       "    </tr>\n",
       "    <tr>\n",
       "      <th>RecipRank</th>\n",
       "      <td>0.115516</td>\n",
       "      <td>4.545455e-02</td>\n",
       "      <td>0.244183</td>\n",
       "    </tr>\n",
       "    <tr>\n",
       "      <th rowspan=\"3\" valign=\"top\">IIE</th>\n",
       "      <th>NDCG</th>\n",
       "      <td>0.028293</td>\n",
       "      <td>0.000000e+00</td>\n",
       "      <td>0.063929</td>\n",
       "    </tr>\n",
       "    <tr>\n",
       "      <th>RBP</th>\n",
       "      <td>0.014055</td>\n",
       "      <td>0.000000e+00</td>\n",
       "      <td>0.081054</td>\n",
       "    </tr>\n",
       "    <tr>\n",
       "      <th>RecipRank</th>\n",
       "      <td>0.036741</td>\n",
       "      <td>0.000000e+00</td>\n",
       "      <td>0.133359</td>\n",
       "    </tr>\n",
       "    <tr>\n",
       "      <th rowspan=\"3\" valign=\"top\">III</th>\n",
       "      <th>NDCG</th>\n",
       "      <td>0.051244</td>\n",
       "      <td>0.000000e+00</td>\n",
       "      <td>0.125677</td>\n",
       "    </tr>\n",
       "    <tr>\n",
       "      <th>RBP</th>\n",
       "      <td>0.049774</td>\n",
       "      <td>0.000000e+00</td>\n",
       "      <td>0.175202</td>\n",
       "    </tr>\n",
       "    <tr>\n",
       "      <th>RecipRank</th>\n",
       "      <td>0.078288</td>\n",
       "      <td>0.000000e+00</td>\n",
       "      <td>0.233043</td>\n",
       "    </tr>\n",
       "    <tr>\n",
       "      <th rowspan=\"3\" valign=\"top\">Pop</th>\n",
       "      <th>NDCG</th>\n",
       "      <td>0.279687</td>\n",
       "      <td>2.689881e-01</td>\n",
       "      <td>0.162487</td>\n",
       "    </tr>\n",
       "    <tr>\n",
       "      <th>RBP</th>\n",
       "      <td>0.353056</td>\n",
       "      <td>1.231547e-01</td>\n",
       "      <td>0.382184</td>\n",
       "    </tr>\n",
       "    <tr>\n",
       "      <th>RecipRank</th>\n",
       "      <td>0.494082</td>\n",
       "      <td>2.500000e-01</td>\n",
       "      <td>0.409474</td>\n",
       "    </tr>\n",
       "    <tr>\n",
       "      <th rowspan=\"3\" valign=\"top\">UUE</th>\n",
       "      <th>NDCG</th>\n",
       "      <td>0.022112</td>\n",
       "      <td>0.000000e+00</td>\n",
       "      <td>0.044289</td>\n",
       "    </tr>\n",
       "    <tr>\n",
       "      <th>RBP</th>\n",
       "      <td>0.000267</td>\n",
       "      <td>0.000000e+00</td>\n",
       "      <td>0.003762</td>\n",
       "    </tr>\n",
       "    <tr>\n",
       "      <th>RecipRank</th>\n",
       "      <td>0.010190</td>\n",
       "      <td>0.000000e+00</td>\n",
       "      <td>0.024621</td>\n",
       "    </tr>\n",
       "  </tbody>\n",
       "</table>\n",
       "</div>"
      ],
      "text/plain": [
       "                     mean        median       std\n",
       "model                                            \n",
       "ALS   NDCG       0.163800  1.324795e-01  0.120870\n",
       "      RBP        0.112466  1.562691e-02  0.211288\n",
       "      RecipRank  0.237353  1.666667e-01  0.262634\n",
       "Bias  NDCG       0.163369  1.284421e-01  0.122004\n",
       "      RBP        0.102817  1.562692e-02  0.190049\n",
       "      RecipRank  0.228765  1.666667e-01  0.242535\n",
       "IALS  NDCG       0.099041  7.820491e-02  0.106209\n",
       "      RBP        0.049560  2.831239e-07  0.156709\n",
       "      RecipRank  0.115516  4.545455e-02  0.244183\n",
       "IIE   NDCG       0.028293  0.000000e+00  0.063929\n",
       "      RBP        0.014055  0.000000e+00  0.081054\n",
       "      RecipRank  0.036741  0.000000e+00  0.133359\n",
       "III   NDCG       0.051244  0.000000e+00  0.125677\n",
       "      RBP        0.049774  0.000000e+00  0.175202\n",
       "      RecipRank  0.078288  0.000000e+00  0.233043\n",
       "Pop   NDCG       0.279687  2.689881e-01  0.162487\n",
       "      RBP        0.353056  1.231547e-01  0.382184\n",
       "      RecipRank  0.494082  2.500000e-01  0.409474\n",
       "UUE   NDCG       0.022112  0.000000e+00  0.044289\n",
       "      RBP        0.000267  0.000000e+00  0.003762\n",
       "      RecipRank  0.010190  0.000000e+00  0.024621"
      ]
     },
     "execution_count": 13,
     "metadata": {},
     "output_type": "execute_result"
    }
   ],
   "source": [
    "ra = RunAnalysis()\n",
    "\n",
    "ra.add_metric(NDCG())\n",
    "ra.add_metric(RecipRank())\n",
    "ra.add_metric(RBP())\n",
    "\n",
    "rec_results = ra.compute(recs, test)\n",
    "rec_results.list_summary('model')"
   ]
  },
  {
   "cell_type": "markdown",
   "id": "2cda0b8b",
   "metadata": {
    "papermill": {
     "duration": 0.008836,
     "end_time": "2025-02-06T17:56:36.476654",
     "exception": false,
     "start_time": "2025-02-06T17:56:36.467818",
     "status": "completed"
    },
    "tags": []
   },
   "source": [
    "We can reshape the list metrics and plot them:"
   ]
  },
  {
   "cell_type": "code",
   "execution_count": 14,
   "id": "2501e294",
   "metadata": {
    "execution": {
     "iopub.execute_input": "2025-02-06T17:56:36.480127Z",
     "iopub.status.busy": "2025-02-06T17:56:36.480056Z",
     "iopub.status.idle": "2025-02-06T17:56:36.796021Z",
     "shell.execute_reply": "2025-02-06T17:56:36.795736Z"
    },
    "papermill": {
     "duration": 0.318405,
     "end_time": "2025-02-06T17:56:36.796511",
     "exception": false,
     "start_time": "2025-02-06T17:56:36.478106",
     "status": "completed"
    },
    "tags": []
   },
   "outputs": [
    {
     "data": {
      "image/png": "[encoded data removed]",
      "text/plain": [
       "<Figure size 1511.11x500 with 3 Axes>"
      ]
     },
     "metadata": {},
     "output_type": "display_data"
    }
   ],
   "source": [
    "metrics = rec_results.list_metrics()\n",
    "metrics = metrics.melt(var_name='metric', ignore_index=False).reset_index()\n",
    "sns.catplot(metrics, x='model', y='value', col='metric', kind='bar')\n",
    "plt.show()"
   ]
  },
  {
   "cell_type": "markdown",
   "id": "993824c4",
   "metadata": {
    "papermill": {
     "duration": 0.009099,
     "end_time": "2025-02-06T17:56:36.807391",
     "exception": false,
     "start_time": "2025-02-06T17:56:36.798292",
     "status": "completed"
    },
    "tags": []
   },
   "source": [
    "## Prediction RMSE\n",
    "\n",
    "We will also look at the prediction RMSE."
   ]
  },
  {
   "cell_type": "code",
   "execution_count": 15,
   "id": "03e3a07f",
   "metadata": {
    "execution": {
     "iopub.execute_input": "2025-02-06T17:56:36.811023Z",
     "iopub.status.busy": "2025-02-06T17:56:36.810948Z",
     "iopub.status.idle": "2025-02-06T17:56:37.001852Z",
     "shell.execute_reply": "2025-02-06T17:56:37.001692Z"
    },
    "papermill": {
     "duration": 0.193445,
     "end_time": "2025-02-06T17:56:37.002460",
     "exception": false,
     "start_time": "2025-02-06T17:56:36.809015",
     "status": "completed"
    },
    "tags": []
   },
   "outputs": [
    {
     "name": "stderr",
     "output_type": "stream",
     "text": [
      "/home/mde48/lenskit/lk-demo-experiment/.venv/lib/python3.13/site-packages/lenskit/metrics/bulk.py:127: FutureWarning: The previous implementation of stack is deprecated and will be removed in a future version of pandas. See the What's New notes for pandas 2.1.0 for details. Specify future_stack=True to adopt the new implementation and silence this warning.\n",
      "  df = scores.groupby(list(keys)).agg([\"mean\", \"median\", \"std\"]).stack(level=0)\n"
     ]
    },
    {
     "data": {
      "text/html": [
       "<div>\n",
       "<style scoped>\n",
       "    .dataframe tbody tr th:only-of-type {\n",
       "        vertical-align: middle;\n",
       "    }\n",
       "\n",
       "    .dataframe tbody tr th {\n",
       "        vertical-align: top;\n",
       "    }\n",
       "\n",
       "    .dataframe thead th {\n",
       "        text-align: right;\n",
       "    }\n",
       "</style>\n",
       "<table border=\"1\" class=\"dataframe\">\n",
       "  <thead>\n",
       "    <tr style=\"text-align: right;\">\n",
       "      <th></th>\n",
       "      <th></th>\n",
       "      <th>mean</th>\n",
       "      <th>median</th>\n",
       "      <th>std</th>\n",
       "    </tr>\n",
       "    <tr>\n",
       "      <th>model</th>\n",
       "      <th></th>\n",
       "      <th></th>\n",
       "      <th></th>\n",
       "      <th></th>\n",
       "    </tr>\n",
       "  </thead>\n",
       "  <tbody>\n",
       "    <tr>\n",
       "      <th>ALS</th>\n",
       "      <th>RMSE</th>\n",
       "      <td>0.964949</td>\n",
       "      <td>0.942919</td>\n",
       "      <td>0.298124</td>\n",
       "    </tr>\n",
       "    <tr>\n",
       "      <th>Bias</th>\n",
       "      <th>RMSE</th>\n",
       "      <td>0.971432</td>\n",
       "      <td>0.945351</td>\n",
       "      <td>0.292602</td>\n",
       "    </tr>\n",
       "    <tr>\n",
       "      <th>IIE</th>\n",
       "      <th>RMSE</th>\n",
       "      <td>0.973457</td>\n",
       "      <td>0.944259</td>\n",
       "      <td>0.304926</td>\n",
       "    </tr>\n",
       "    <tr>\n",
       "      <th>UUE</th>\n",
       "      <th>RMSE</th>\n",
       "      <td>0.978119</td>\n",
       "      <td>0.958315</td>\n",
       "      <td>0.305261</td>\n",
       "    </tr>\n",
       "  </tbody>\n",
       "</table>\n",
       "</div>"
      ],
      "text/plain": [
       "                mean    median       std\n",
       "model                                   \n",
       "ALS   RMSE  0.964949  0.942919  0.298124\n",
       "Bias  RMSE  0.971432  0.945351  0.292602\n",
       "IIE   RMSE  0.973457  0.944259  0.304926\n",
       "UUE   RMSE  0.978119  0.958315  0.305261"
      ]
     },
     "execution_count": 15,
     "metadata": {},
     "output_type": "execute_result"
    }
   ],
   "source": [
    "pa = RunAnalysis()\n",
    "\n",
    "pa.add_metric(RMSE(missing_scores='ignore', missing_truth='ignore'))\n",
    "\n",
    "pred_results = pa.compute(preds, test)\n",
    "pred_results.list_summary('model')"
   ]
  },
  {
   "cell_type": "code",
   "execution_count": 16,
   "id": "a637c5ce",
   "metadata": {
    "execution": {
     "iopub.execute_input": "2025-02-06T17:56:37.013710Z",
     "iopub.status.busy": "2025-02-06T17:56:37.013566Z",
     "iopub.status.idle": "2025-02-06T17:56:37.094705Z",
     "shell.execute_reply": "2025-02-06T17:56:37.094384Z"
    },
    "papermill": {
     "duration": 0.091196,
     "end_time": "2025-02-06T17:56:37.095354",
     "exception": false,
     "start_time": "2025-02-06T17:56:37.004158",
     "status": "completed"
    },
    "tags": []
   },
   "outputs": [
    {
     "data": {
      "image/png": "[encoded data removed]",
      "text/plain": [
       "<Figure size 511.111x500 with 1 Axes>"
      ]
     },
     "metadata": {},
     "output_type": "display_data"
    }
   ],
   "source": [
    "sns.catplot(pred_results.list_metrics().reset_index(), x='model', y='RMSE', kind='bar')\n",
    "plt.show()"
   ]
  },
  {
   "cell_type": "markdown",
   "id": "9a86aaec",
   "metadata": {
    "papermill": {
     "duration": 0.001644,
     "end_time": "2025-02-06T17:56:37.100177",
     "exception": false,
     "start_time": "2025-02-06T17:56:37.098533",
     "status": "completed"
    },
    "tags": []
   },
   "source": [
    "## Save Metrics\n",
    "\n",
    "We'll now save the metrics to a file."
   ]
  },
  {
   "cell_type": "code",
   "execution_count": 17,
   "id": "7cc6c33e",
   "metadata": {
    "execution": {
     "iopub.execute_input": "2025-02-06T17:56:37.104041Z",
     "iopub.status.busy": "2025-02-06T17:56:37.103957Z",
     "iopub.status.idle": "2025-02-06T17:56:37.110318Z",
     "shell.execute_reply": "2025-02-06T17:56:37.110168Z"
    },
    "papermill": {
     "duration": 0.008856,
     "end_time": "2025-02-06T17:56:37.110804",
     "exception": false,
     "start_time": "2025-02-06T17:56:37.101948",
     "status": "completed"
    },
    "tags": []
   },
   "outputs": [
    {
     "name": "stderr",
     "output_type": "stream",
     "text": [
      "/home/mde48/lenskit/lk-demo-experiment/.venv/lib/python3.13/site-packages/lenskit/metrics/bulk.py:127: FutureWarning: The previous implementation of stack is deprecated and will be removed in a future version of pandas. See the What's New notes for pandas 2.1.0 for details. Specify future_stack=True to adopt the new implementation and silence this warning.\n",
      "  df = scores.groupby(list(keys)).agg([\"mean\", \"median\", \"std\"]).stack(level=0)\n"
     ]
    },
    {
     "data": {
      "text/html": [
       "<div>\n",
       "<style scoped>\n",
       "    .dataframe tbody tr th:only-of-type {\n",
       "        vertical-align: middle;\n",
       "    }\n",
       "\n",
       "    .dataframe tbody tr th {\n",
       "        vertical-align: top;\n",
       "    }\n",
       "\n",
       "    .dataframe thead th {\n",
       "        text-align: right;\n",
       "    }\n",
       "</style>\n",
       "<table border=\"1\" class=\"dataframe\">\n",
       "  <thead>\n",
       "    <tr style=\"text-align: right;\">\n",
       "      <th></th>\n",
       "      <th>NDCG</th>\n",
       "      <th>RBP</th>\n",
       "      <th>RecipRank</th>\n",
       "    </tr>\n",
       "    <tr>\n",
       "      <th>model</th>\n",
       "      <th></th>\n",
       "      <th></th>\n",
       "      <th></th>\n",
       "    </tr>\n",
       "  </thead>\n",
       "  <tbody>\n",
       "    <tr>\n",
       "      <th>ALS</th>\n",
       "      <td>0.163800</td>\n",
       "      <td>0.112466</td>\n",
       "      <td>0.237353</td>\n",
       "    </tr>\n",
       "    <tr>\n",
       "      <th>Bias</th>\n",
       "      <td>0.163369</td>\n",
       "      <td>0.102817</td>\n",
       "      <td>0.228765</td>\n",
       "    </tr>\n",
       "    <tr>\n",
       "      <th>IALS</th>\n",
       "      <td>0.099041</td>\n",
       "      <td>0.049560</td>\n",
       "      <td>0.115516</td>\n",
       "    </tr>\n",
       "    <tr>\n",
       "      <th>IIE</th>\n",
       "      <td>0.028293</td>\n",
       "      <td>0.014055</td>\n",
       "      <td>0.036741</td>\n",
       "    </tr>\n",
       "    <tr>\n",
       "      <th>III</th>\n",
       "      <td>0.051244</td>\n",
       "      <td>0.049774</td>\n",
       "      <td>0.078288</td>\n",
       "    </tr>\n",
       "    <tr>\n",
       "      <th>Pop</th>\n",
       "      <td>0.279687</td>\n",
       "      <td>0.353056</td>\n",
       "      <td>0.494082</td>\n",
       "    </tr>\n",
       "    <tr>\n",
       "      <th>UUE</th>\n",
       "      <td>0.022112</td>\n",
       "      <td>0.000267</td>\n",
       "      <td>0.010190</td>\n",
       "    </tr>\n",
       "  </tbody>\n",
       "</table>\n",
       "</div>"
      ],
      "text/plain": [
       "           NDCG       RBP  RecipRank\n",
       "model                               \n",
       "ALS    0.163800  0.112466   0.237353\n",
       "Bias   0.163369  0.102817   0.228765\n",
       "IALS   0.099041  0.049560   0.115516\n",
       "IIE    0.028293  0.014055   0.036741\n",
       "III    0.051244  0.049774   0.078288\n",
       "Pop    0.279687  0.353056   0.494082\n",
       "UUE    0.022112  0.000267   0.010190"
      ]
     },
     "execution_count": 17,
     "metadata": {},
     "output_type": "execute_result"
    }
   ],
   "source": [
    "rlsum = rec_results.list_summary('model')['mean'].unstack()\n",
    "rlsum"
   ]
  },
  {
   "cell_type": "code",
   "execution_count": 18,
   "id": "1cfaa06d",
   "metadata": {
    "execution": {
     "iopub.execute_input": "2025-02-06T17:56:37.114680Z",
     "iopub.status.busy": "2025-02-06T17:56:37.114581Z",
     "iopub.status.idle": "2025-02-06T17:56:37.116317Z",
     "shell.execute_reply": "2025-02-06T17:56:37.116164Z"
    },
    "papermill": {
     "duration": 0.004268,
     "end_time": "2025-02-06T17:56:37.116810",
     "exception": false,
     "start_time": "2025-02-06T17:56:37.112542",
     "status": "completed"
    },
    "tags": []
   },
   "outputs": [],
   "source": [
    "rlsum.to_json(f'eval-metrics.{dataset}.json', orient='index')"
   ]
  }
 ],
 "metadata": {
  "jupytext": {
   "formats": "ipynb,md",
   "notebook_metadata_filter": "split_at_heading"
  },
  "kernelspec": {
   "display_name": "Python 3 (ipykernel)",
   "language": "python",
   "name": "python3"
  },
  "language_info": {
   "codemirror_mode": {
    "name": "ipython",
    "version": 3
   },
   "file_extension": ".py",
   "mimetype": "text/x-python",
   "name": "python",
   "nbconvert_exporter": "python",
   "pygments_lexer": "ipython3",
   "version": "3.13.1"
  },
  "papermill": {
   "default_parameters": {},
   "duration": 3.188379,
   "end_time": "2025-02-06T17:56:37.532097",
   "environment_variables": {},
   "exception": null,
   "input_path": "eval-report.ipynb",
   "output_path": "eval-report.ml-100k.ipynb",
   "parameters": {
    "dataset": "ml-100k"
   },
   "start_time": "2025-02-06T17:56:34.343718",
   "version": "2.6.0"
  },
  "split_at_heading": true
 },
 "nbformat": 4,
 "nbformat_minor": 5
}