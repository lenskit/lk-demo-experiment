{
 "cells": [
  {
   "cell_type": "markdown",
   "id": "381bef4a",
   "metadata": {
    "papermill": {
     "duration": 0.010745,
     "end_time": "2024-12-10T05:44:25.543249",
     "exception": false,
     "start_time": "2024-12-10T05:44:25.532504",
     "status": "completed"
    },
    "tags": []
   },
   "source": [
    "# Evaluation Analysis for Recommender Output"
   ]
  },
  {
   "cell_type": "markdown",
   "id": "664c72ab",
   "metadata": {
    "papermill": {
     "duration": 0.001145,
     "end_time": "2024-12-10T05:44:25.545713",
     "exception": false,
     "start_time": "2024-12-10T05:44:25.544568",
     "status": "completed"
    },
    "tags": []
   },
   "source": [
    "In this section we will analyze and compare the generated recommendations and predictions from a predefined list of algorithms with the goal of assessing the performance of each algorithm with respect to a metric. In other words, we would rank the algorithms for each metric considered with respect to performance."
   ]
  },
  {
   "cell_type": "markdown",
   "id": "81fcb0af",
   "metadata": {
    "papermill": {
     "duration": 0.001051,
     "end_time": "2024-12-10T05:44:25.547908",
     "exception": false,
     "start_time": "2024-12-10T05:44:25.546857",
     "status": "completed"
    },
    "tags": []
   },
   "source": [
    "## Setup"
   ]
  },
  {
   "cell_type": "markdown",
   "id": "933a60f9",
   "metadata": {
    "papermill": {
     "duration": 0.001075,
     "end_time": "2024-12-10T05:44:25.550080",
     "exception": false,
     "start_time": "2024-12-10T05:44:25.549005",
     "status": "completed"
    },
    "tags": []
   },
   "source": [
    "Below are the list of packages required to successfully run the analysis. They are divided into partitions to signify their specific task.<br>\n",
    "We need the pathlib package for working with files and folders"
   ]
  },
  {
   "cell_type": "code",
   "execution_count": 1,
   "id": "9488a624",
   "metadata": {
    "execution": {
     "iopub.execute_input": "2024-12-10T05:44:25.552884Z",
     "iopub.status.busy": "2024-12-10T05:44:25.552778Z",
     "iopub.status.idle": "2024-12-10T05:44:25.555271Z",
     "shell.execute_reply": "2024-12-10T05:44:25.554974Z"
    },
    "papermill": {
     "duration": 0.004664,
     "end_time": "2024-12-10T05:44:25.555819",
     "exception": false,
     "start_time": "2024-12-10T05:44:25.551155",
     "status": "completed"
    },
    "tags": []
   },
   "outputs": [],
   "source": [
    "from pathlib import Path\n",
    "import json"
   ]
  },
  {
   "cell_type": "markdown",
   "id": "99e5fc5d",
   "metadata": {
    "papermill": {
     "duration": 0.001059,
     "end_time": "2024-12-10T05:44:25.558026",
     "exception": false,
     "start_time": "2024-12-10T05:44:25.556967",
     "status": "completed"
    },
    "tags": []
   },
   "source": [
    "We would use the pandas for analyzing and manipulating our data while seaborn and matplotlib are used for data visualization. statsmodels.graphics.gofplots and scipy.stats.shapiro are used for normality check. Scipy.stats.friedmanchisquare is a non-parametric test used to determine the statistical significance in metric results and the wilcoxon test is used for pairwise comparison of sample data."
   ]
  },
  {
   "cell_type": "code",
   "execution_count": 2,
   "id": "5443464f",
   "metadata": {
    "execution": {
     "iopub.execute_input": "2024-12-10T05:44:25.560709Z",
     "iopub.status.busy": "2024-12-10T05:44:25.560596Z",
     "iopub.status.idle": "2024-12-10T05:44:25.959992Z",
     "shell.execute_reply": "2024-12-10T05:44:25.959615Z"
    },
    "lines_to_next_cell": 2,
    "papermill": {
     "duration": 0.401595,
     "end_time": "2024-12-10T05:44:25.960717",
     "exception": false,
     "start_time": "2024-12-10T05:44:25.559122",
     "status": "completed"
    },
    "tags": []
   },
   "outputs": [],
   "source": [
    "import pandas as pd\n",
    "import seaborn as sns\n",
    "import matplotlib.pyplot as plt\n",
    "from statsmodels.graphics.gofplots import qqplot\n",
    "from scipy.stats import shapiro\n",
    "from scipy.stats import friedmanchisquare, wilcoxon\n",
    "from itertools import combinations"
   ]
  },
  {
   "cell_type": "markdown",
   "id": "17a97495",
   "metadata": {
    "papermill": {
     "duration": 0.006778,
     "end_time": "2024-12-10T05:44:25.968848",
     "exception": false,
     "start_time": "2024-12-10T05:44:25.962070",
     "status": "completed"
    },
    "tags": []
   },
   "source": [
    "Import the LensKit metrics for analysis:"
   ]
  },
  {
   "cell_type": "code",
   "execution_count": 3,
   "id": "64672a8e",
   "metadata": {
    "execution": {
     "iopub.execute_input": "2024-12-10T05:44:25.971578Z",
     "iopub.status.busy": "2024-12-10T05:44:25.971440Z",
     "iopub.status.idle": "2024-12-10T05:44:26.637424Z",
     "shell.execute_reply": "2024-12-10T05:44:26.637190Z"
    },
    "papermill": {
     "duration": 0.667963,
     "end_time": "2024-12-10T05:44:26.637979",
     "exception": false,
     "start_time": "2024-12-10T05:44:25.970016",
     "status": "completed"
    },
    "tags": []
   },
   "outputs": [],
   "source": [
    "from lenskit.data import ItemListCollection, UserIDKey\n",
    "from lenskit.metrics import RunAnalysis, RMSE, NDCG, RecipRank, RBP"
   ]
  },
  {
   "cell_type": "markdown",
   "id": "63508ad7",
   "metadata": {
    "papermill": {
     "duration": 0.008734,
     "end_time": "2024-12-10T05:44:26.648067",
     "exception": false,
     "start_time": "2024-12-10T05:44:26.639333",
     "status": "completed"
    },
    "tags": []
   },
   "source": [
    "## Load Data\n",
    "\n",
    "The recommendations are in `runs`, and we will need to reassemble the test data from `test`."
   ]
  },
  {
   "cell_type": "code",
   "execution_count": 4,
   "id": "2d81312f",
   "metadata": {
    "execution": {
     "iopub.execute_input": "2024-12-10T05:44:26.651041Z",
     "iopub.status.busy": "2024-12-10T05:44:26.650954Z",
     "iopub.status.idle": "2024-12-10T05:44:26.652407Z",
     "shell.execute_reply": "2024-12-10T05:44:26.652183Z"
    },
    "papermill": {
     "duration": 0.00343,
     "end_time": "2024-12-10T05:44:26.652700",
     "exception": false,
     "start_time": "2024-12-10T05:44:26.649270",
     "status": "completed"
    },
    "tags": [
     "parameters"
    ]
   },
   "outputs": [],
   "source": [
    "dataset = \"ml100k\""
   ]
  },
  {
   "cell_type": "code",
   "execution_count": 5,
   "id": "c9afca0d",
   "metadata": {
    "execution": {
     "iopub.execute_input": "2024-12-10T05:44:26.655445Z",
     "iopub.status.busy": "2024-12-10T05:44:26.655348Z",
     "iopub.status.idle": "2024-12-10T05:44:26.656633Z",
     "shell.execute_reply": "2024-12-10T05:44:26.656496Z"
    },
    "papermill": {
     "duration": 0.003083,
     "end_time": "2024-12-10T05:44:26.656941",
     "exception": false,
     "start_time": "2024-12-10T05:44:26.653858",
     "status": "completed"
    },
    "tags": [
     "injected-parameters"
    ]
   },
   "outputs": [],
   "source": [
    "# Parameters\n",
    "dataset = \"ml32m\"\n"
   ]
  },
  {
   "cell_type": "code",
   "execution_count": 6,
   "id": "3ec95294",
   "metadata": {
    "execution": {
     "iopub.execute_input": "2024-12-10T05:44:26.659641Z",
     "iopub.status.busy": "2024-12-10T05:44:26.659576Z",
     "iopub.status.idle": "2024-12-10T05:44:26.660800Z",
     "shell.execute_reply": "2024-12-10T05:44:26.660665Z"
    },
    "papermill": {
     "duration": 0.002996,
     "end_time": "2024-12-10T05:44:26.661094",
     "exception": false,
     "start_time": "2024-12-10T05:44:26.658098",
     "status": "completed"
    },
    "tags": []
   },
   "outputs": [],
   "source": [
    "output_root = Path(\"runs\")"
   ]
  },
  {
   "cell_type": "code",
   "execution_count": 7,
   "id": "2fdbd191",
   "metadata": {
    "execution": {
     "iopub.execute_input": "2024-12-10T05:44:26.663837Z",
     "iopub.status.busy": "2024-12-10T05:44:26.663757Z",
     "iopub.status.idle": "2024-12-10T05:44:26.665358Z",
     "shell.execute_reply": "2024-12-10T05:44:26.665170Z"
    },
    "papermill": {
     "duration": 0.003421,
     "end_time": "2024-12-10T05:44:26.665690",
     "exception": false,
     "start_time": "2024-12-10T05:44:26.662269",
     "status": "completed"
    },
    "tags": []
   },
   "outputs": [],
   "source": [
    "dirs = [fld for fld in output_root.glob(f'{dataset}-*')]"
   ]
  },
  {
   "cell_type": "code",
   "execution_count": 8,
   "id": "57c58091",
   "metadata": {
    "execution": {
     "iopub.execute_input": "2024-12-10T05:44:26.668466Z",
     "iopub.status.busy": "2024-12-10T05:44:26.668389Z",
     "iopub.status.idle": "2024-12-10T05:47:45.494171Z",
     "shell.execute_reply": "2024-12-10T05:47:45.493550Z"
    },
    "papermill": {
     "duration": 198.828134,
     "end_time": "2024-12-10T05:47:45.495007",
     "exception": false,
     "start_time": "2024-12-10T05:44:26.666873",
     "status": "completed"
    },
    "tags": []
   },
   "outputs": [],
   "source": [
    "recs = ItemListCollection(['model', 'user_id'], index=False)\n",
    "for fld in dirs:\n",
    "    for file in fld.glob(\"recs-*\"):\n",
    "        rec = pd.read_parquet(file)\n",
    "        rec = ItemListCollection.from_df(rec, UserIDKey)\n",
    "        recs.add_from(rec, model=fld.name.split(\"-\")[1])"
   ]
  },
  {
   "cell_type": "code",
   "execution_count": 9,
   "id": "effd04de",
   "metadata": {
    "execution": {
     "iopub.execute_input": "2024-12-10T05:47:45.506433Z",
     "iopub.status.busy": "2024-12-10T05:47:45.506326Z",
     "iopub.status.idle": "2024-12-10T05:47:45.588373Z",
     "shell.execute_reply": "2024-12-10T05:47:45.587938Z"
    },
    "papermill": {
     "duration": 0.092574,
     "end_time": "2024-12-10T05:47:45.589093",
     "exception": false,
     "start_time": "2024-12-10T05:47:45.496519",
     "status": "completed"
    },
    "tags": []
   },
   "outputs": [
    {
     "data": {
      "text/plain": [
       "['ALS', 'Bias', 'IALS', 'IIE', 'III', 'Pop']"
      ]
     },
     "execution_count": 9,
     "metadata": {},
     "output_type": "execute_result"
    }
   ],
   "source": [
    "rec_algos = sorted(set(a for (a, _u) in recs.keys()))\n",
    "rec_algos"
   ]
  },
  {
   "cell_type": "code",
   "execution_count": 10,
   "id": "4593fe69",
   "metadata": {
    "execution": {
     "iopub.execute_input": "2024-12-10T05:47:45.592448Z",
     "iopub.status.busy": "2024-12-10T05:47:45.592362Z",
     "iopub.status.idle": "2024-12-10T05:49:09.212234Z",
     "shell.execute_reply": "2024-12-10T05:49:09.211965Z"
    },
    "papermill": {
     "duration": 83.622646,
     "end_time": "2024-12-10T05:49:09.213157",
     "exception": false,
     "start_time": "2024-12-10T05:47:45.590511",
     "status": "completed"
    },
    "tags": []
   },
   "outputs": [],
   "source": [
    "preds = ItemListCollection(['model', 'user_id'], index=False)\n",
    "for fld in dirs:\n",
    "    for file in fld.glob(\"pred-*\"):\n",
    "        pred = pd.read_parquet(file)\n",
    "        pred = ItemListCollection.from_df(pred, UserIDKey)\n",
    "        preds.add_from(pred, model=fld.name.split(\"-\")[1])"
   ]
  },
  {
   "cell_type": "markdown",
   "id": "5f88f622",
   "metadata": {
    "papermill": {
     "duration": 0.008801,
     "end_time": "2024-12-10T05:49:09.223483",
     "exception": false,
     "start_time": "2024-12-10T05:49:09.214682",
     "status": "completed"
    },
    "tags": []
   },
   "source": [
    "We need to load the test data so that we have the ground truths for computing accuracy"
   ]
  },
  {
   "cell_type": "code",
   "execution_count": 11,
   "id": "bf88dbf4",
   "metadata": {
    "execution": {
     "iopub.execute_input": "2024-12-10T05:49:09.226652Z",
     "iopub.status.busy": "2024-12-10T05:49:09.226560Z",
     "iopub.status.idle": "2024-12-10T05:49:09.227976Z",
     "shell.execute_reply": "2024-12-10T05:49:09.227831Z"
    },
    "papermill": {
     "duration": 0.003677,
     "end_time": "2024-12-10T05:49:09.228471",
     "exception": false,
     "start_time": "2024-12-10T05:49:09.224794",
     "status": "completed"
    },
    "tags": []
   },
   "outputs": [],
   "source": [
    "split_root = Path(\"data-split\")\n",
    "split_dir = split_root / dataset"
   ]
  },
  {
   "cell_type": "code",
   "execution_count": 12,
   "id": "bbd3075e",
   "metadata": {
    "execution": {
     "iopub.execute_input": "2024-12-10T05:49:09.231470Z",
     "iopub.status.busy": "2024-12-10T05:49:09.231375Z",
     "iopub.status.idle": "2024-12-10T05:49:36.283105Z",
     "shell.execute_reply": "2024-12-10T05:49:36.282689Z"
    },
    "papermill": {
     "duration": 27.054232,
     "end_time": "2024-12-10T05:49:36.283974",
     "exception": false,
     "start_time": "2024-12-10T05:49:09.229742",
     "status": "completed"
    },
    "tags": []
   },
   "outputs": [],
   "source": [
    "test = ItemListCollection(UserIDKey)\n",
    "for file in split_dir.glob(\"test-*.parquet\"):\n",
    "    df = pd.read_parquet(file)\n",
    "    test.add_from(ItemListCollection.from_df(df, UserIDKey))"
   ]
  },
  {
   "cell_type": "markdown",
   "id": "d1cc45f7",
   "metadata": {
    "papermill": {
     "duration": 0.008789,
     "end_time": "2024-12-10T05:49:36.294325",
     "exception": false,
     "start_time": "2024-12-10T05:49:36.285536",
     "status": "completed"
    },
    "tags": []
   },
   "source": [
    "## Top-N Metrics\n",
    "\n",
    "`RunListAnalysis` computes metrics for recommendation results and takes care of\n",
    "matching recommendations and ground truth."
   ]
  },
  {
   "cell_type": "code",
   "execution_count": 13,
   "id": "5cc74039",
   "metadata": {
    "execution": {
     "iopub.execute_input": "2024-12-10T05:49:36.297548Z",
     "iopub.status.busy": "2024-12-10T05:49:36.297449Z",
     "iopub.status.idle": "2024-12-10T05:50:55.226636Z",
     "shell.execute_reply": "2024-12-10T05:50:55.226389Z"
    },
    "papermill": {
     "duration": 78.932842,
     "end_time": "2024-12-10T05:50:55.228474",
     "exception": false,
     "start_time": "2024-12-10T05:49:36.295632",
     "status": "completed"
    },
    "tags": []
   },
   "outputs": [
    {
     "name": "stderr",
     "output_type": "stream",
     "text": [
      "/home/mde48/lenskit/lk-demo-experiment/.pixi/envs/cuda/lib/python3.12/site-packages/lenskit/metrics/bulk.py:116: FutureWarning: The previous implementation of stack is deprecated and will be removed in a future version of pandas. See the What's New notes for pandas 2.1.0 for details. Specify future_stack=True to adopt the new implementation and silence this warning.\n",
      "  df = scores.groupby(list(keys)).agg([\"mean\", \"median\", \"std\"]).stack(level=0)\n"
     ]
    },
    {
     "data": {
      "text/html": [
       "<div>\n",
       "<style scoped>\n",
       "    .dataframe tbody tr th:only-of-type {\n",
       "        vertical-align: middle;\n",
       "    }\n",
       "\n",
       "    .dataframe tbody tr th {\n",
       "        vertical-align: top;\n",
       "    }\n",
       "\n",
       "    .dataframe thead th {\n",
       "        text-align: right;\n",
       "    }\n",
       "</style>\n",
       "<table border=\"1\" class=\"dataframe\">\n",
       "  <thead>\n",
       "    <tr style=\"text-align: right;\">\n",
       "      <th></th>\n",
       "      <th></th>\n",
       "      <th>mean</th>\n",
       "      <th>median</th>\n",
       "      <th>std</th>\n",
       "    </tr>\n",
       "    <tr>\n",
       "      <th>model</th>\n",
       "      <th></th>\n",
       "      <th></th>\n",
       "      <th></th>\n",
       "      <th></th>\n",
       "    </tr>\n",
       "  </thead>\n",
       "  <tbody>\n",
       "    <tr>\n",
       "      <th rowspan=\"3\" valign=\"top\">ALS</th>\n",
       "      <th>NDCG</th>\n",
       "      <td>0.015639</td>\n",
       "      <td>0.000000e+00</td>\n",
       "      <td>0.041319</td>\n",
       "    </tr>\n",
       "    <tr>\n",
       "      <th>RBP</th>\n",
       "      <td>0.002333</td>\n",
       "      <td>0.000000e+00</td>\n",
       "      <td>0.026929</td>\n",
       "    </tr>\n",
       "    <tr>\n",
       "      <th>RecipRank</th>\n",
       "      <td>0.012426</td>\n",
       "      <td>0.000000e+00</td>\n",
       "      <td>0.060284</td>\n",
       "    </tr>\n",
       "    <tr>\n",
       "      <th rowspan=\"3\" valign=\"top\">Bias</th>\n",
       "      <th>NDCG</th>\n",
       "      <td>0.029528</td>\n",
       "      <td>0.000000e+00</td>\n",
       "      <td>0.050135</td>\n",
       "    </tr>\n",
       "    <tr>\n",
       "      <th>RBP</th>\n",
       "      <td>0.002784</td>\n",
       "      <td>0.000000e+00</td>\n",
       "      <td>0.016395</td>\n",
       "    </tr>\n",
       "    <tr>\n",
       "      <th>RecipRank</th>\n",
       "      <td>0.021874</td>\n",
       "      <td>0.000000e+00</td>\n",
       "      <td>0.056266</td>\n",
       "    </tr>\n",
       "    <tr>\n",
       "      <th rowspan=\"3\" valign=\"top\">IALS</th>\n",
       "      <th>NDCG</th>\n",
       "      <td>0.258671</td>\n",
       "      <td>2.127080e-01</td>\n",
       "      <td>0.191885</td>\n",
       "    </tr>\n",
       "    <tr>\n",
       "      <th>RBP</th>\n",
       "      <td>0.121836</td>\n",
       "      <td>1.953363e-03</td>\n",
       "      <td>0.210022</td>\n",
       "    </tr>\n",
       "    <tr>\n",
       "      <th>RecipRank</th>\n",
       "      <td>0.265175</td>\n",
       "      <td>1.111111e-01</td>\n",
       "      <td>0.328981</td>\n",
       "    </tr>\n",
       "    <tr>\n",
       "      <th rowspan=\"3\" valign=\"top\">IIE</th>\n",
       "      <th>NDCG</th>\n",
       "      <td>0.001373</td>\n",
       "      <td>0.000000e+00</td>\n",
       "      <td>0.010782</td>\n",
       "    </tr>\n",
       "    <tr>\n",
       "      <th>RBP</th>\n",
       "      <td>0.000034</td>\n",
       "      <td>0.000000e+00</td>\n",
       "      <td>0.002521</td>\n",
       "    </tr>\n",
       "    <tr>\n",
       "      <th>RecipRank</th>\n",
       "      <td>0.000587</td>\n",
       "      <td>0.000000e+00</td>\n",
       "      <td>0.007555</td>\n",
       "    </tr>\n",
       "    <tr>\n",
       "      <th rowspan=\"3\" valign=\"top\">III</th>\n",
       "      <th>NDCG</th>\n",
       "      <td>0.226666</td>\n",
       "      <td>1.652725e-01</td>\n",
       "      <td>0.204686</td>\n",
       "    </tr>\n",
       "    <tr>\n",
       "      <th>RBP</th>\n",
       "      <td>0.150927</td>\n",
       "      <td>1.586914e-03</td>\n",
       "      <td>0.236827</td>\n",
       "    </tr>\n",
       "    <tr>\n",
       "      <th>RecipRank</th>\n",
       "      <td>0.302247</td>\n",
       "      <td>1.000000e-01</td>\n",
       "      <td>0.374646</td>\n",
       "    </tr>\n",
       "    <tr>\n",
       "      <th rowspan=\"3\" valign=\"top\">Pop</th>\n",
       "      <th>NDCG</th>\n",
       "      <td>0.129194</td>\n",
       "      <td>8.857376e-02</td>\n",
       "      <td>0.140090</td>\n",
       "    </tr>\n",
       "    <tr>\n",
       "      <th>RBP</th>\n",
       "      <td>0.064584</td>\n",
       "      <td>7.450581e-09</td>\n",
       "      <td>0.153568</td>\n",
       "    </tr>\n",
       "    <tr>\n",
       "      <th>RecipRank</th>\n",
       "      <td>0.159087</td>\n",
       "      <td>3.703704e-02</td>\n",
       "      <td>0.276221</td>\n",
       "    </tr>\n",
       "  </tbody>\n",
       "</table>\n",
       "</div>"
      ],
      "text/plain": [
       "                     mean        median       std\n",
       "model                                            \n",
       "ALS   NDCG       0.015639  0.000000e+00  0.041319\n",
       "      RBP        0.002333  0.000000e+00  0.026929\n",
       "      RecipRank  0.012426  0.000000e+00  0.060284\n",
       "Bias  NDCG       0.029528  0.000000e+00  0.050135\n",
       "      RBP        0.002784  0.000000e+00  0.016395\n",
       "      RecipRank  0.021874  0.000000e+00  0.056266\n",
       "IALS  NDCG       0.258671  2.127080e-01  0.191885\n",
       "      RBP        0.121836  1.953363e-03  0.210022\n",
       "      RecipRank  0.265175  1.111111e-01  0.328981\n",
       "IIE   NDCG       0.001373  0.000000e+00  0.010782\n",
       "      RBP        0.000034  0.000000e+00  0.002521\n",
       "      RecipRank  0.000587  0.000000e+00  0.007555\n",
       "III   NDCG       0.226666  1.652725e-01  0.204686\n",
       "      RBP        0.150927  1.586914e-03  0.236827\n",
       "      RecipRank  0.302247  1.000000e-01  0.374646\n",
       "Pop   NDCG       0.129194  8.857376e-02  0.140090\n",
       "      RBP        0.064584  7.450581e-09  0.153568\n",
       "      RecipRank  0.159087  3.703704e-02  0.276221"
      ]
     },
     "execution_count": 13,
     "metadata": {},
     "output_type": "execute_result"
    }
   ],
   "source": [
    "ra = RunAnalysis()\n",
    "\n",
    "ra.add_metric(NDCG())\n",
    "ra.add_metric(RecipRank())\n",
    "ra.add_metric(RBP())\n",
    "\n",
    "rec_results = ra.compute(recs, test)\n",
    "rec_results.list_summary('model')"
   ]
  },
  {
   "cell_type": "markdown",
   "id": "b17ba3e5",
   "metadata": {
    "papermill": {
     "duration": 0.001518,
     "end_time": "2024-12-10T05:50:55.238417",
     "exception": false,
     "start_time": "2024-12-10T05:50:55.236899",
     "status": "completed"
    },
    "tags": []
   },
   "source": [
    "We can reshape the list metrics and plot them:"
   ]
  },
  {
   "cell_type": "code",
   "execution_count": 14,
   "id": "5c479b59",
   "metadata": {
    "execution": {
     "iopub.execute_input": "2024-12-10T05:50:55.241627Z",
     "iopub.status.busy": "2024-12-10T05:50:55.241537Z",
     "iopub.status.idle": "2024-12-10T05:51:07.974529Z",
     "shell.execute_reply": "2024-12-10T05:51:07.974126Z"
    },
    "papermill": {
     "duration": 12.735411,
     "end_time": "2024-12-10T05:51:07.975228",
     "exception": false,
     "start_time": "2024-12-10T05:50:55.239817",
     "status": "completed"
    },
    "tags": []
   },
   "outputs": [
    {
     "data": {
      "image/png": "[encoded data removed]",
      "text/plain": [
       "<Figure size 1511.11x500 with 3 Axes>"
      ]
     },
     "metadata": {},
     "output_type": "display_data"
    }
   ],
   "source": [
    "metrics = rec_results.list_metrics()\n",
    "metrics = metrics.melt(var_name='metric', ignore_index=False).reset_index()\n",
    "sns.catplot(metrics, x='model', y='value', col='metric', kind='bar')\n",
    "plt.show()"
   ]
  },
  {
   "cell_type": "markdown",
   "id": "904ccd24",
   "metadata": {
    "papermill": {
     "duration": 0.009077,
     "end_time": "2024-12-10T05:51:07.986030",
     "exception": false,
     "start_time": "2024-12-10T05:51:07.976953",
     "status": "completed"
    },
    "tags": []
   },
   "source": [
    "## Prediction RMSE\n",
    "\n",
    "We will also look at the prediction RMSE."
   ]
  },
  {
   "cell_type": "code",
   "execution_count": 15,
   "id": "ca056d28",
   "metadata": {
    "execution": {
     "iopub.execute_input": "2024-12-10T05:51:07.989689Z",
     "iopub.status.busy": "2024-12-10T05:51:07.989602Z",
     "iopub.status.idle": "2024-12-10T05:54:27.627185Z",
     "shell.execute_reply": "2024-12-10T05:54:27.626919Z"
    },
    "papermill": {
     "duration": 199.641351,
     "end_time": "2024-12-10T05:54:27.628941",
     "exception": false,
     "start_time": "2024-12-10T05:51:07.987590",
     "status": "completed"
    },
    "tags": []
   },
   "outputs": [
    {
     "name": "stderr",
     "output_type": "stream",
     "text": [
      "/home/mde48/lenskit/lk-demo-experiment/.pixi/envs/cuda/lib/python3.12/site-packages/lenskit/metrics/bulk.py:116: FutureWarning: The previous implementation of stack is deprecated and will be removed in a future version of pandas. See the What's New notes for pandas 2.1.0 for details. Specify future_stack=True to adopt the new implementation and silence this warning.\n",
      "  df = scores.groupby(list(keys)).agg([\"mean\", \"median\", \"std\"]).stack(level=0)\n"
     ]
    },
    {
     "data": {
      "text/html": [
       "<div>\n",
       "<style scoped>\n",
       "    .dataframe tbody tr th:only-of-type {\n",
       "        vertical-align: middle;\n",
       "    }\n",
       "\n",
       "    .dataframe tbody tr th {\n",
       "        vertical-align: top;\n",
       "    }\n",
       "\n",
       "    .dataframe thead th {\n",
       "        text-align: right;\n",
       "    }\n",
       "</style>\n",
       "<table border=\"1\" class=\"dataframe\">\n",
       "  <thead>\n",
       "    <tr style=\"text-align: right;\">\n",
       "      <th></th>\n",
       "      <th></th>\n",
       "      <th>mean</th>\n",
       "      <th>median</th>\n",
       "      <th>std</th>\n",
       "    </tr>\n",
       "    <tr>\n",
       "      <th>model</th>\n",
       "      <th></th>\n",
       "      <th></th>\n",
       "      <th></th>\n",
       "      <th></th>\n",
       "    </tr>\n",
       "  </thead>\n",
       "  <tbody>\n",
       "    <tr>\n",
       "      <th>ALS</th>\n",
       "      <th>RMSE</th>\n",
       "      <td>0.762725</td>\n",
       "      <td>0.698439</td>\n",
       "      <td>0.356365</td>\n",
       "    </tr>\n",
       "    <tr>\n",
       "      <th>Bias</th>\n",
       "      <th>RMSE</th>\n",
       "      <td>0.810034</td>\n",
       "      <td>0.741199</td>\n",
       "      <td>0.375163</td>\n",
       "    </tr>\n",
       "    <tr>\n",
       "      <th>IIE</th>\n",
       "      <th>RMSE</th>\n",
       "      <td>0.746687</td>\n",
       "      <td>0.682737</td>\n",
       "      <td>0.355903</td>\n",
       "    </tr>\n",
       "  </tbody>\n",
       "</table>\n",
       "</div>"
      ],
      "text/plain": [
       "                mean    median       std\n",
       "model                                   \n",
       "ALS   RMSE  0.762725  0.698439  0.356365\n",
       "Bias  RMSE  0.810034  0.741199  0.375163\n",
       "IIE   RMSE  0.746687  0.682737  0.355903"
      ]
     },
     "execution_count": 15,
     "metadata": {},
     "output_type": "execute_result"
    }
   ],
   "source": [
    "pa = RunAnalysis()\n",
    "\n",
    "pa.add_metric(RMSE(missing_scores='ignore', missing_truth='ignore'))\n",
    "\n",
    "pred_results = pa.compute(preds, test)\n",
    "pred_results.list_summary('model')"
   ]
  },
  {
   "cell_type": "code",
   "execution_count": 16,
   "id": "0626a38e",
   "metadata": {
    "execution": {
     "iopub.execute_input": "2024-12-10T05:54:27.649136Z",
     "iopub.status.busy": "2024-12-10T05:54:27.649051Z",
     "iopub.status.idle": "2024-12-10T05:54:29.643345Z",
     "shell.execute_reply": "2024-12-10T05:54:29.643064Z"
    },
    "papermill": {
     "duration": 1.997099,
     "end_time": "2024-12-10T05:54:29.643989",
     "exception": false,
     "start_time": "2024-12-10T05:54:27.646890",
     "status": "completed"
    },
    "tags": []
   },
   "outputs": [
    {
     "data": {
      "image/png": "[encoded data removed]",
      "text/plain": [
       "<Figure size 511.111x500 with 1 Axes>"
      ]
     },
     "metadata": {},
     "output_type": "display_data"
    }
   ],
   "source": [
    "sns.catplot(pred_results.list_metrics().reset_index(), x='model', y='RMSE', kind='bar')\n",
    "plt.show()"
   ]
  },
  {
   "cell_type": "markdown",
   "id": "c635bf68",
   "metadata": {
    "papermill": {
     "duration": 0.009094,
     "end_time": "2024-12-10T05:54:29.654802",
     "exception": false,
     "start_time": "2024-12-10T05:54:29.645708",
     "status": "completed"
    },
    "tags": []
   },
   "source": [
    "## Save Metrics\n",
    "\n",
    "We'll now save the metrics to a file."
   ]
  },
  {
   "cell_type": "code",
   "execution_count": 17,
   "id": "d1d7f624",
   "metadata": {
    "execution": {
     "iopub.execute_input": "2024-12-10T05:54:29.658472Z",
     "iopub.status.busy": "2024-12-10T05:54:29.658356Z",
     "iopub.status.idle": "2024-12-10T05:54:29.759756Z",
     "shell.execute_reply": "2024-12-10T05:54:29.759577Z"
    },
    "papermill": {
     "duration": 0.104042,
     "end_time": "2024-12-10T05:54:29.760357",
     "exception": false,
     "start_time": "2024-12-10T05:54:29.656315",
     "status": "completed"
    },
    "tags": []
   },
   "outputs": [
    {
     "name": "stderr",
     "output_type": "stream",
     "text": [
      "/home/mde48/lenskit/lk-demo-experiment/.pixi/envs/cuda/lib/python3.12/site-packages/lenskit/metrics/bulk.py:116: FutureWarning: The previous implementation of stack is deprecated and will be removed in a future version of pandas. See the What's New notes for pandas 2.1.0 for details. Specify future_stack=True to adopt the new implementation and silence this warning.\n",
      "  df = scores.groupby(list(keys)).agg([\"mean\", \"median\", \"std\"]).stack(level=0)\n"
     ]
    },
    {
     "data": {
      "text/html": [
       "<div>\n",
       "<style scoped>\n",
       "    .dataframe tbody tr th:only-of-type {\n",
       "        vertical-align: middle;\n",
       "    }\n",
       "\n",
       "    .dataframe tbody tr th {\n",
       "        vertical-align: top;\n",
       "    }\n",
       "\n",
       "    .dataframe thead th {\n",
       "        text-align: right;\n",
       "    }\n",
       "</style>\n",
       "<table border=\"1\" class=\"dataframe\">\n",
       "  <thead>\n",
       "    <tr style=\"text-align: right;\">\n",
       "      <th></th>\n",
       "      <th>NDCG</th>\n",
       "      <th>RBP</th>\n",
       "      <th>RecipRank</th>\n",
       "    </tr>\n",
       "    <tr>\n",
       "      <th>model</th>\n",
       "      <th></th>\n",
       "      <th></th>\n",
       "      <th></th>\n",
       "    </tr>\n",
       "  </thead>\n",
       "  <tbody>\n",
       "    <tr>\n",
       "      <th>ALS</th>\n",
       "      <td>0.015639</td>\n",
       "      <td>0.002333</td>\n",
       "      <td>0.012426</td>\n",
       "    </tr>\n",
       "    <tr>\n",
       "      <th>Bias</th>\n",
       "      <td>0.029528</td>\n",
       "      <td>0.002784</td>\n",
       "      <td>0.021874</td>\n",
       "    </tr>\n",
       "    <tr>\n",
       "      <th>IALS</th>\n",
       "      <td>0.258671</td>\n",
       "      <td>0.121836</td>\n",
       "      <td>0.265175</td>\n",
       "    </tr>\n",
       "    <tr>\n",
       "      <th>IIE</th>\n",
       "      <td>0.001373</td>\n",
       "      <td>0.000034</td>\n",
       "      <td>0.000587</td>\n",
       "    </tr>\n",
       "    <tr>\n",
       "      <th>III</th>\n",
       "      <td>0.226666</td>\n",
       "      <td>0.150927</td>\n",
       "      <td>0.302247</td>\n",
       "    </tr>\n",
       "    <tr>\n",
       "      <th>Pop</th>\n",
       "      <td>0.129194</td>\n",
       "      <td>0.064584</td>\n",
       "      <td>0.159087</td>\n",
       "    </tr>\n",
       "  </tbody>\n",
       "</table>\n",
       "</div>"
      ],
      "text/plain": [
       "           NDCG       RBP  RecipRank\n",
       "model                               \n",
       "ALS    0.015639  0.002333   0.012426\n",
       "Bias   0.029528  0.002784   0.021874\n",
       "IALS   0.258671  0.121836   0.265175\n",
       "IIE    0.001373  0.000034   0.000587\n",
       "III    0.226666  0.150927   0.302247\n",
       "Pop    0.129194  0.064584   0.159087"
      ]
     },
     "execution_count": 17,
     "metadata": {},
     "output_type": "execute_result"
    }
   ],
   "source": [
    "rlsum = rec_results.list_summary('model')['mean'].unstack()\n",
    "rlsum"
   ]
  },
  {
   "cell_type": "code",
   "execution_count": 18,
   "id": "f564b364",
   "metadata": {
    "execution": {
     "iopub.execute_input": "2024-12-10T05:54:29.771975Z",
     "iopub.status.busy": "2024-12-10T05:54:29.771874Z",
     "iopub.status.idle": "2024-12-10T05:54:29.774650Z",
     "shell.execute_reply": "2024-12-10T05:54:29.774309Z"
    },
    "papermill": {
     "duration": 0.012916,
     "end_time": "2024-12-10T05:54:29.775166",
     "exception": false,
     "start_time": "2024-12-10T05:54:29.762250",
     "status": "completed"
    },
    "tags": []
   },
   "outputs": [],
   "source": [
    "rlsum.to_json(f'eval-metrics.{dataset}.json', orient='index')"
   ]
  }
 ],
 "metadata": {
  "jupytext": {
   "formats": "ipynb,md",
   "notebook_metadata_filter": "split_at_heading"
  },
  "kernelspec": {
   "display_name": "Python 3 (ipykernel)",
   "language": "python",
   "name": "python3"
  },
  "language_info": {
   "codemirror_mode": {
    "name": "ipython",
    "version": 3
   },
   "file_extension": ".py",
   "mimetype": "text/x-python",
   "name": "python",
   "nbconvert_exporter": "python",
   "pygments_lexer": "ipython3",
   "version": "3.12.7"
  },
  "papermill": {
   "default_parameters": {},
   "duration": 607.636138,
   "end_time": "2024-12-10T05:54:32.492780",
   "environment_variables": {},
   "exception": null,
   "input_path": "eval-report.ipynb",
   "output_path": "eval-report.ml32m.ipynb",
   "parameters": {
    "dataset": "ml32m"
   },
   "start_time": "2024-12-10T05:44:24.856642",
   "version": "2.6.0"
  },
  "split_at_heading": true
 },
 "nbformat": 4,
 "nbformat_minor": 5
}