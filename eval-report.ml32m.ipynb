{
 "cells": [
  {
   "cell_type": "markdown",
   "id": "7291eba0",
   "metadata": {
    "papermill": {
     "duration": 0.010659,
     "end_time": "2024-12-17T17:41:51.944042",
     "exception": false,
     "start_time": "2024-12-17T17:41:51.933383",
     "status": "completed"
    },
    "tags": []
   },
   "source": [
    "# Evaluation Analysis for Recommender Output"
   ]
  },
  {
   "cell_type": "markdown",
   "id": "872010be",
   "metadata": {
    "papermill": {
     "duration": 0.001105,
     "end_time": "2024-12-17T17:41:51.946418",
     "exception": false,
     "start_time": "2024-12-17T17:41:51.945313",
     "status": "completed"
    },
    "tags": []
   },
   "source": [
    "In this section we will analyze and compare the generated recommendations and predictions from a predefined list of algorithms with the goal of assessing the performance of each algorithm with respect to a metric. In other words, we would rank the algorithms for each metric considered with respect to performance."
   ]
  },
  {
   "cell_type": "markdown",
   "id": "aaaf15df",
   "metadata": {
    "papermill": {
     "duration": 0.001053,
     "end_time": "2024-12-17T17:41:51.948573",
     "exception": false,
     "start_time": "2024-12-17T17:41:51.947520",
     "status": "completed"
    },
    "tags": []
   },
   "source": [
    "## Setup"
   ]
  },
  {
   "cell_type": "markdown",
   "id": "8684b9cf",
   "metadata": {
    "papermill": {
     "duration": 0.001072,
     "end_time": "2024-12-17T17:41:51.950704",
     "exception": false,
     "start_time": "2024-12-17T17:41:51.949632",
     "status": "completed"
    },
    "tags": []
   },
   "source": [
    "Below are the list of packages required to successfully run the analysis. They are divided into partitions to signify their specific task.<br>\n",
    "We need the pathlib package for working with files and folders"
   ]
  },
  {
   "cell_type": "code",
   "execution_count": 1,
   "id": "ee069941",
   "metadata": {
    "execution": {
     "iopub.execute_input": "2024-12-17T17:41:51.953650Z",
     "iopub.status.busy": "2024-12-17T17:41:51.953408Z",
     "iopub.status.idle": "2024-12-17T17:41:51.955395Z",
     "shell.execute_reply": "2024-12-17T17:41:51.955119Z"
    },
    "papermill": {
     "duration": 0.003995,
     "end_time": "2024-12-17T17:41:51.955781",
     "exception": false,
     "start_time": "2024-12-17T17:41:51.951786",
     "status": "completed"
    },
    "tags": []
   },
   "outputs": [],
   "source": [
    "from pathlib import Path\n",
    "import json"
   ]
  },
  {
   "cell_type": "markdown",
   "id": "50590acc",
   "metadata": {
    "papermill": {
     "duration": 0.001095,
     "end_time": "2024-12-17T17:41:51.958397",
     "exception": false,
     "start_time": "2024-12-17T17:41:51.957302",
     "status": "completed"
    },
    "tags": []
   },
   "source": [
    "We would use the pandas for analyzing and manipulating our data while seaborn and matplotlib are used for data visualization. statsmodels.graphics.gofplots and scipy.stats.shapiro are used for normality check. Scipy.stats.friedmanchisquare is a non-parametric test used to determine the statistical significance in metric results and the wilcoxon test is used for pairwise comparison of sample data."
   ]
  },
  {
   "cell_type": "code",
   "execution_count": 2,
   "id": "d40cc792",
   "metadata": {
    "execution": {
     "iopub.execute_input": "2024-12-17T17:41:51.960964Z",
     "iopub.status.busy": "2024-12-17T17:41:51.960835Z",
     "iopub.status.idle": "2024-12-17T17:41:52.385268Z",
     "shell.execute_reply": "2024-12-17T17:41:52.384877Z"
    },
    "lines_to_next_cell": 2,
    "papermill": {
     "duration": 0.426583,
     "end_time": "2024-12-17T17:41:52.386086",
     "exception": false,
     "start_time": "2024-12-17T17:41:51.959503",
     "status": "completed"
    },
    "tags": []
   },
   "outputs": [],
   "source": [
    "import pandas as pd\n",
    "import seaborn as sns\n",
    "import matplotlib.pyplot as plt\n",
    "from statsmodels.graphics.gofplots import qqplot\n",
    "from scipy.stats import shapiro\n",
    "from scipy.stats import friedmanchisquare, wilcoxon\n",
    "from itertools import combinations"
   ]
  },
  {
   "cell_type": "markdown",
   "id": "76360899",
   "metadata": {
    "papermill": {
     "duration": 0.008921,
     "end_time": "2024-12-17T17:41:52.396475",
     "exception": false,
     "start_time": "2024-12-17T17:41:52.387554",
     "status": "completed"
    },
    "tags": []
   },
   "source": [
    "Import the LensKit metrics for analysis:"
   ]
  },
  {
   "cell_type": "code",
   "execution_count": 3,
   "id": "9f0614f8",
   "metadata": {
    "execution": {
     "iopub.execute_input": "2024-12-17T17:41:52.399511Z",
     "iopub.status.busy": "2024-12-17T17:41:52.399382Z",
     "iopub.status.idle": "2024-12-17T17:41:53.034418Z",
     "shell.execute_reply": "2024-12-17T17:41:53.033887Z"
    },
    "papermill": {
     "duration": 0.637533,
     "end_time": "2024-12-17T17:41:53.035289",
     "exception": false,
     "start_time": "2024-12-17T17:41:52.397756",
     "status": "completed"
    },
    "tags": []
   },
   "outputs": [],
   "source": [
    "from lenskit.data import ItemListCollection, UserIDKey\n",
    "from lenskit.metrics import RunAnalysis, RMSE, NDCG, RecipRank, RBP"
   ]
  },
  {
   "cell_type": "markdown",
   "id": "44472f41",
   "metadata": {
    "papermill": {
     "duration": 0.009289,
     "end_time": "2024-12-17T17:41:53.045946",
     "exception": false,
     "start_time": "2024-12-17T17:41:53.036657",
     "status": "completed"
    },
    "tags": []
   },
   "source": [
    "## Load Data\n",
    "\n",
    "The recommendations are in `runs`, and we will need to reassemble the test data from `test`."
   ]
  },
  {
   "cell_type": "code",
   "execution_count": 4,
   "id": "a854029a",
   "metadata": {
    "execution": {
     "iopub.execute_input": "2024-12-17T17:41:53.049061Z",
     "iopub.status.busy": "2024-12-17T17:41:53.048954Z",
     "iopub.status.idle": "2024-12-17T17:41:53.050805Z",
     "shell.execute_reply": "2024-12-17T17:41:53.050515Z"
    },
    "papermill": {
     "duration": 0.004142,
     "end_time": "2024-12-17T17:41:53.051288",
     "exception": false,
     "start_time": "2024-12-17T17:41:53.047146",
     "status": "completed"
    },
    "tags": [
     "parameters"
    ]
   },
   "outputs": [],
   "source": [
    "dataset = \"ml100k\""
   ]
  },
  {
   "cell_type": "code",
   "execution_count": 5,
   "id": "6da02c0c",
   "metadata": {
    "execution": {
     "iopub.execute_input": "2024-12-17T17:41:53.053989Z",
     "iopub.status.busy": "2024-12-17T17:41:53.053901Z",
     "iopub.status.idle": "2024-12-17T17:41:53.055273Z",
     "shell.execute_reply": "2024-12-17T17:41:53.055085Z"
    },
    "papermill": {
     "duration": 0.003373,
     "end_time": "2024-12-17T17:41:53.055811",
     "exception": false,
     "start_time": "2024-12-17T17:41:53.052438",
     "status": "completed"
    },
    "tags": [
     "injected-parameters"
    ]
   },
   "outputs": [],
   "source": [
    "# Parameters\n",
    "dataset = \"ml32m\"\n"
   ]
  },
  {
   "cell_type": "code",
   "execution_count": 6,
   "id": "58b1ab64",
   "metadata": {
    "execution": {
     "iopub.execute_input": "2024-12-17T17:41:53.058401Z",
     "iopub.status.busy": "2024-12-17T17:41:53.058336Z",
     "iopub.status.idle": "2024-12-17T17:41:53.059725Z",
     "shell.execute_reply": "2024-12-17T17:41:53.059522Z"
    },
    "papermill": {
     "duration": 0.003136,
     "end_time": "2024-12-17T17:41:53.060119",
     "exception": false,
     "start_time": "2024-12-17T17:41:53.056983",
     "status": "completed"
    },
    "tags": []
   },
   "outputs": [],
   "source": [
    "output_root = Path(\"runs\")"
   ]
  },
  {
   "cell_type": "code",
   "execution_count": 7,
   "id": "291fdc84",
   "metadata": {
    "execution": {
     "iopub.execute_input": "2024-12-17T17:41:53.062836Z",
     "iopub.status.busy": "2024-12-17T17:41:53.062718Z",
     "iopub.status.idle": "2024-12-17T17:41:53.064315Z",
     "shell.execute_reply": "2024-12-17T17:41:53.064107Z"
    },
    "papermill": {
     "duration": 0.003386,
     "end_time": "2024-12-17T17:41:53.064679",
     "exception": false,
     "start_time": "2024-12-17T17:41:53.061293",
     "status": "completed"
    },
    "tags": []
   },
   "outputs": [],
   "source": [
    "dirs = [fld for fld in output_root.glob(f'{dataset}-*')]"
   ]
  },
  {
   "cell_type": "code",
   "execution_count": 8,
   "id": "e47fe658",
   "metadata": {
    "execution": {
     "iopub.execute_input": "2024-12-17T17:41:53.067698Z",
     "iopub.status.busy": "2024-12-17T17:41:53.067525Z",
     "iopub.status.idle": "2024-12-17T17:42:15.144161Z",
     "shell.execute_reply": "2024-12-17T17:42:15.143601Z"
    },
    "papermill": {
     "duration": 22.079289,
     "end_time": "2024-12-17T17:42:15.145150",
     "exception": false,
     "start_time": "2024-12-17T17:41:53.065861",
     "status": "completed"
    },
    "tags": []
   },
   "outputs": [],
   "source": [
    "recs = ItemListCollection(['model', 'user_id'], index=False)\n",
    "for fld in dirs:\n",
    "    for file in fld.glob(\"recs-*\"):\n",
    "        rec = ItemListCollection.load_parquet(file)\n",
    "        recs.add_from(rec, model=fld.name.split(\"-\")[1])"
   ]
  },
  {
   "cell_type": "code",
   "execution_count": 9,
   "id": "36d675e6",
   "metadata": {
    "execution": {
     "iopub.execute_input": "2024-12-17T17:42:15.157565Z",
     "iopub.status.busy": "2024-12-17T17:42:15.157477Z",
     "iopub.status.idle": "2024-12-17T17:42:15.221597Z",
     "shell.execute_reply": "2024-12-17T17:42:15.221438Z"
    },
    "papermill": {
     "duration": 0.074384,
     "end_time": "2024-12-17T17:42:15.222234",
     "exception": false,
     "start_time": "2024-12-17T17:42:15.147850",
     "status": "completed"
    },
    "tags": []
   },
   "outputs": [
    {
     "data": {
      "text/plain": [
       "['ALS', 'Bias', 'IALS', 'IIE', 'III', 'Pop', 'UUE']"
      ]
     },
     "execution_count": 9,
     "metadata": {},
     "output_type": "execute_result"
    }
   ],
   "source": [
    "rec_algos = sorted(set(a for (a, _u) in recs.keys()))\n",
    "rec_algos"
   ]
  },
  {
   "cell_type": "code",
   "execution_count": 10,
   "id": "530bbfda",
   "metadata": {
    "execution": {
     "iopub.execute_input": "2024-12-17T17:42:15.225783Z",
     "iopub.status.busy": "2024-12-17T17:42:15.225665Z",
     "iopub.status.idle": "2024-12-17T17:42:34.322109Z",
     "shell.execute_reply": "2024-12-17T17:42:34.321585Z"
    },
    "papermill": {
     "duration": 19.099165,
     "end_time": "2024-12-17T17:42:34.322928",
     "exception": false,
     "start_time": "2024-12-17T17:42:15.223763",
     "status": "completed"
    },
    "tags": []
   },
   "outputs": [],
   "source": [
    "preds = ItemListCollection(['model', 'user_id'], index=False)\n",
    "for fld in dirs:\n",
    "    for file in fld.glob(\"pred-*\"):\n",
    "        pred = ItemListCollection.load_parquet(file)\n",
    "        preds.add_from(pred, model=fld.name.split(\"-\")[1])"
   ]
  },
  {
   "cell_type": "markdown",
   "id": "737fbf6f",
   "metadata": {
    "papermill": {
     "duration": 0.009212,
     "end_time": "2024-12-17T17:42:34.333716",
     "exception": false,
     "start_time": "2024-12-17T17:42:34.324504",
     "status": "completed"
    },
    "tags": []
   },
   "source": [
    "We need to load the test data so that we have the ground truths for computing accuracy"
   ]
  },
  {
   "cell_type": "code",
   "execution_count": 11,
   "id": "094c6750",
   "metadata": {
    "execution": {
     "iopub.execute_input": "2024-12-17T17:42:34.337063Z",
     "iopub.status.busy": "2024-12-17T17:42:34.336955Z",
     "iopub.status.idle": "2024-12-17T17:42:34.338645Z",
     "shell.execute_reply": "2024-12-17T17:42:34.338460Z"
    },
    "papermill": {
     "duration": 0.004026,
     "end_time": "2024-12-17T17:42:34.339129",
     "exception": false,
     "start_time": "2024-12-17T17:42:34.335103",
     "status": "completed"
    },
    "tags": []
   },
   "outputs": [],
   "source": [
    "split_root = Path(\"data-split\")\n",
    "split_dir = split_root / dataset"
   ]
  },
  {
   "cell_type": "code",
   "execution_count": 12,
   "id": "b6b27b83",
   "metadata": {
    "execution": {
     "iopub.execute_input": "2024-12-17T17:42:34.342090Z",
     "iopub.status.busy": "2024-12-17T17:42:34.341957Z",
     "iopub.status.idle": "2024-12-17T17:42:44.849732Z",
     "shell.execute_reply": "2024-12-17T17:42:44.849441Z"
    },
    "papermill": {
     "duration": 10.510062,
     "end_time": "2024-12-17T17:42:44.850423",
     "exception": false,
     "start_time": "2024-12-17T17:42:34.340361",
     "status": "completed"
    },
    "tags": []
   },
   "outputs": [],
   "source": [
    "test = ItemListCollection(UserIDKey)\n",
    "for file in split_dir.glob(\"test-*.parquet\"):\n",
    "    df = pd.read_parquet(file)\n",
    "    part = ItemListCollection.from_df(df, UserIDKey)\n",
    "    test.add_from(part)"
   ]
  },
  {
   "cell_type": "markdown",
   "id": "fed8bea2",
   "metadata": {
    "papermill": {
     "duration": 0.008902,
     "end_time": "2024-12-17T17:42:44.860883",
     "exception": false,
     "start_time": "2024-12-17T17:42:44.851981",
     "status": "completed"
    },
    "tags": []
   },
   "source": [
    "## Top-N Metrics\n",
    "\n",
    "`RunListAnalysis` computes metrics for recommendation results and takes care of\n",
    "matching recommendations and ground truth."
   ]
  },
  {
   "cell_type": "code",
   "execution_count": 13,
   "id": "7b68ce95",
   "metadata": {
    "execution": {
     "iopub.execute_input": "2024-12-17T17:42:44.864390Z",
     "iopub.status.busy": "2024-12-17T17:42:44.864237Z",
     "iopub.status.idle": "2024-12-17T17:44:13.454885Z",
     "shell.execute_reply": "2024-12-17T17:44:13.454721Z"
    },
    "papermill": {
     "duration": 88.5945,
     "end_time": "2024-12-17T17:44:13.456757",
     "exception": false,
     "start_time": "2024-12-17T17:42:44.862257",
     "status": "completed"
    },
    "tags": []
   },
   "outputs": [
    {
     "name": "stderr",
     "output_type": "stream",
     "text": [
      "/home/mde48/lenskit/lkpy/lenskit/lenskit/metrics/bulk.py:121: FutureWarning: The previous implementation of stack is deprecated and will be removed in a future version of pandas. See the What's New notes for pandas 2.1.0 for details. Specify future_stack=True to adopt the new implementation and silence this warning.\n",
      "  df = scores.groupby(list(keys)).agg([\"mean\", \"median\", \"std\"]).stack(level=0)\n"
     ]
    },
    {
     "data": {
      "text/html": [
       "<div>\n",
       "<style scoped>\n",
       "    .dataframe tbody tr th:only-of-type {\n",
       "        vertical-align: middle;\n",
       "    }\n",
       "\n",
       "    .dataframe tbody tr th {\n",
       "        vertical-align: top;\n",
       "    }\n",
       "\n",
       "    .dataframe thead th {\n",
       "        text-align: right;\n",
       "    }\n",
       "</style>\n",
       "<table border=\"1\" class=\"dataframe\">\n",
       "  <thead>\n",
       "    <tr style=\"text-align: right;\">\n",
       "      <th></th>\n",
       "      <th></th>\n",
       "      <th>mean</th>\n",
       "      <th>median</th>\n",
       "      <th>std</th>\n",
       "    </tr>\n",
       "    <tr>\n",
       "      <th>model</th>\n",
       "      <th></th>\n",
       "      <th></th>\n",
       "      <th></th>\n",
       "      <th></th>\n",
       "    </tr>\n",
       "  </thead>\n",
       "  <tbody>\n",
       "    <tr>\n",
       "      <th rowspan=\"3\" valign=\"top\">ALS</th>\n",
       "      <th>NDCG</th>\n",
       "      <td>1.564870e-02</td>\n",
       "      <td>0.000000e+00</td>\n",
       "      <td>4.131370e-02</td>\n",
       "    </tr>\n",
       "    <tr>\n",
       "      <th>RBP</th>\n",
       "      <td>2.322251e-03</td>\n",
       "      <td>0.000000e+00</td>\n",
       "      <td>2.678393e-02</td>\n",
       "    </tr>\n",
       "    <tr>\n",
       "      <th>RecipRank</th>\n",
       "      <td>1.240078e-02</td>\n",
       "      <td>0.000000e+00</td>\n",
       "      <td>6.002058e-02</td>\n",
       "    </tr>\n",
       "    <tr>\n",
       "      <th rowspan=\"3\" valign=\"top\">Bias</th>\n",
       "      <th>NDCG</th>\n",
       "      <td>2.952825e-02</td>\n",
       "      <td>0.000000e+00</td>\n",
       "      <td>5.013534e-02</td>\n",
       "    </tr>\n",
       "    <tr>\n",
       "      <th>RBP</th>\n",
       "      <td>2.783627e-03</td>\n",
       "      <td>0.000000e+00</td>\n",
       "      <td>1.639477e-02</td>\n",
       "    </tr>\n",
       "    <tr>\n",
       "      <th>RecipRank</th>\n",
       "      <td>2.187359e-02</td>\n",
       "      <td>0.000000e+00</td>\n",
       "      <td>5.626605e-02</td>\n",
       "    </tr>\n",
       "    <tr>\n",
       "      <th rowspan=\"3\" valign=\"top\">IALS</th>\n",
       "      <th>NDCG</th>\n",
       "      <td>2.584300e-01</td>\n",
       "      <td>2.129376e-01</td>\n",
       "      <td>1.915889e-01</td>\n",
       "    </tr>\n",
       "    <tr>\n",
       "      <th>RBP</th>\n",
       "      <td>1.215339e-01</td>\n",
       "      <td>1.953244e-03</td>\n",
       "      <td>2.096407e-01</td>\n",
       "    </tr>\n",
       "    <tr>\n",
       "      <th>RecipRank</th>\n",
       "      <td>2.647495e-01</td>\n",
       "      <td>1.111111e-01</td>\n",
       "      <td>3.286039e-01</td>\n",
       "    </tr>\n",
       "    <tr>\n",
       "      <th rowspan=\"3\" valign=\"top\">IIE</th>\n",
       "      <th>NDCG</th>\n",
       "      <td>1.373499e-03</td>\n",
       "      <td>0.000000e+00</td>\n",
       "      <td>1.078223e-02</td>\n",
       "    </tr>\n",
       "    <tr>\n",
       "      <th>RBP</th>\n",
       "      <td>3.397693e-05</td>\n",
       "      <td>0.000000e+00</td>\n",
       "      <td>2.521086e-03</td>\n",
       "    </tr>\n",
       "    <tr>\n",
       "      <th>RecipRank</th>\n",
       "      <td>5.869814e-04</td>\n",
       "      <td>0.000000e+00</td>\n",
       "      <td>7.555072e-03</td>\n",
       "    </tr>\n",
       "    <tr>\n",
       "      <th rowspan=\"3\" valign=\"top\">III</th>\n",
       "      <th>NDCG</th>\n",
       "      <td>2.266665e-01</td>\n",
       "      <td>1.652725e-01</td>\n",
       "      <td>2.046865e-01</td>\n",
       "    </tr>\n",
       "    <tr>\n",
       "      <th>RBP</th>\n",
       "      <td>1.509271e-01</td>\n",
       "      <td>1.586914e-03</td>\n",
       "      <td>2.368270e-01</td>\n",
       "    </tr>\n",
       "    <tr>\n",
       "      <th>RecipRank</th>\n",
       "      <td>3.022473e-01</td>\n",
       "      <td>1.000000e-01</td>\n",
       "      <td>3.746464e-01</td>\n",
       "    </tr>\n",
       "    <tr>\n",
       "      <th rowspan=\"3\" valign=\"top\">Pop</th>\n",
       "      <th>NDCG</th>\n",
       "      <td>1.291941e-01</td>\n",
       "      <td>8.857376e-02</td>\n",
       "      <td>1.400904e-01</td>\n",
       "    </tr>\n",
       "    <tr>\n",
       "      <th>RBP</th>\n",
       "      <td>6.458402e-02</td>\n",
       "      <td>7.450581e-09</td>\n",
       "      <td>1.535679e-01</td>\n",
       "    </tr>\n",
       "    <tr>\n",
       "      <th>RecipRank</th>\n",
       "      <td>1.590873e-01</td>\n",
       "      <td>3.703704e-02</td>\n",
       "      <td>2.762212e-01</td>\n",
       "    </tr>\n",
       "    <tr>\n",
       "      <th rowspan=\"3\" valign=\"top\">UUE</th>\n",
       "      <th>NDCG</th>\n",
       "      <td>1.498905e-06</td>\n",
       "      <td>0.000000e+00</td>\n",
       "      <td>2.795162e-04</td>\n",
       "    </tr>\n",
       "    <tr>\n",
       "      <th>RBP</th>\n",
       "      <td>1.518680e-10</td>\n",
       "      <td>0.000000e+00</td>\n",
       "      <td>6.807822e-08</td>\n",
       "    </tr>\n",
       "    <tr>\n",
       "      <th>RecipRank</th>\n",
       "      <td>6.918260e-07</td>\n",
       "      <td>0.000000e+00</td>\n",
       "      <td>1.657770e-04</td>\n",
       "    </tr>\n",
       "  </tbody>\n",
       "</table>\n",
       "</div>"
      ],
      "text/plain": [
       "                         mean        median           std\n",
       "model                                                    \n",
       "ALS   NDCG       1.564870e-02  0.000000e+00  4.131370e-02\n",
       "      RBP        2.322251e-03  0.000000e+00  2.678393e-02\n",
       "      RecipRank  1.240078e-02  0.000000e+00  6.002058e-02\n",
       "Bias  NDCG       2.952825e-02  0.000000e+00  5.013534e-02\n",
       "      RBP        2.783627e-03  0.000000e+00  1.639477e-02\n",
       "      RecipRank  2.187359e-02  0.000000e+00  5.626605e-02\n",
       "IALS  NDCG       2.584300e-01  2.129376e-01  1.915889e-01\n",
       "      RBP        1.215339e-01  1.953244e-03  2.096407e-01\n",
       "      RecipRank  2.647495e-01  1.111111e-01  3.286039e-01\n",
       "IIE   NDCG       1.373499e-03  0.000000e+00  1.078223e-02\n",
       "      RBP        3.397693e-05  0.000000e+00  2.521086e-03\n",
       "      RecipRank  5.869814e-04  0.000000e+00  7.555072e-03\n",
       "III   NDCG       2.266665e-01  1.652725e-01  2.046865e-01\n",
       "      RBP        1.509271e-01  1.586914e-03  2.368270e-01\n",
       "      RecipRank  3.022473e-01  1.000000e-01  3.746464e-01\n",
       "Pop   NDCG       1.291941e-01  8.857376e-02  1.400904e-01\n",
       "      RBP        6.458402e-02  7.450581e-09  1.535679e-01\n",
       "      RecipRank  1.590873e-01  3.703704e-02  2.762212e-01\n",
       "UUE   NDCG       1.498905e-06  0.000000e+00  2.795162e-04\n",
       "      RBP        1.518680e-10  0.000000e+00  6.807822e-08\n",
       "      RecipRank  6.918260e-07  0.000000e+00  1.657770e-04"
      ]
     },
     "execution_count": 13,
     "metadata": {},
     "output_type": "execute_result"
    }
   ],
   "source": [
    "ra = RunAnalysis()\n",
    "\n",
    "ra.add_metric(NDCG())\n",
    "ra.add_metric(RecipRank())\n",
    "ra.add_metric(RBP())\n",
    "\n",
    "rec_results = ra.compute(recs, test)\n",
    "rec_results.list_summary('model')"
   ]
  },
  {
   "cell_type": "markdown",
   "id": "8cba4e78",
   "metadata": {
    "papermill": {
     "duration": 0.001419,
     "end_time": "2024-12-17T17:44:13.459733",
     "exception": false,
     "start_time": "2024-12-17T17:44:13.458314",
     "status": "completed"
    },
    "tags": []
   },
   "source": [
    "We can reshape the list metrics and plot them:"
   ]
  },
  {
   "cell_type": "code",
   "execution_count": 14,
   "id": "238604c3",
   "metadata": {
    "execution": {
     "iopub.execute_input": "2024-12-17T17:44:13.462955Z",
     "iopub.status.busy": "2024-12-17T17:44:13.462844Z",
     "iopub.status.idle": "2024-12-17T17:44:28.432654Z",
     "shell.execute_reply": "2024-12-17T17:44:28.432139Z"
    },
    "papermill": {
     "duration": 14.972168,
     "end_time": "2024-12-17T17:44:28.433277",
     "exception": false,
     "start_time": "2024-12-17T17:44:13.461109",
     "status": "completed"
    },
    "tags": []
   },
   "outputs": [
    {
     "data": {
      "image/png": "[encoded data removed]",
      "text/plain": [
       "<Figure size 1511.11x500 with 3 Axes>"
      ]
     },
     "metadata": {},
     "output_type": "display_data"
    }
   ],
   "source": [
    "metrics = rec_results.list_metrics()\n",
    "metrics = metrics.melt(var_name='metric', ignore_index=False).reset_index()\n",
    "sns.catplot(metrics, x='model', y='value', col='metric', kind='bar')\n",
    "plt.show()"
   ]
  },
  {
   "cell_type": "markdown",
   "id": "d6f202d4",
   "metadata": {
    "papermill": {
     "duration": 0.009007,
     "end_time": "2024-12-17T17:44:28.443993",
     "exception": false,
     "start_time": "2024-12-17T17:44:28.434986",
     "status": "completed"
    },
    "tags": []
   },
   "source": [
    "## Prediction RMSE\n",
    "\n",
    "We will also look at the prediction RMSE."
   ]
  },
  {
   "cell_type": "code",
   "execution_count": 15,
   "id": "c78c5ff6",
   "metadata": {
    "execution": {
     "iopub.execute_input": "2024-12-17T17:44:28.447516Z",
     "iopub.status.busy": "2024-12-17T17:44:28.447387Z",
     "iopub.status.idle": "2024-12-17T17:46:21.757859Z",
     "shell.execute_reply": "2024-12-17T17:46:21.757693Z"
    },
    "papermill": {
     "duration": 113.314295,
     "end_time": "2024-12-17T17:46:21.759822",
     "exception": false,
     "start_time": "2024-12-17T17:44:28.445527",
     "status": "completed"
    },
    "tags": []
   },
   "outputs": [
    {
     "name": "stderr",
     "output_type": "stream",
     "text": [
      "/home/mde48/lenskit/lkpy/lenskit/lenskit/metrics/bulk.py:121: FutureWarning: The previous implementation of stack is deprecated and will be removed in a future version of pandas. See the What's New notes for pandas 2.1.0 for details. Specify future_stack=True to adopt the new implementation and silence this warning.\n",
      "  df = scores.groupby(list(keys)).agg([\"mean\", \"median\", \"std\"]).stack(level=0)\n"
     ]
    },
    {
     "data": {
      "text/html": [
       "<div>\n",
       "<style scoped>\n",
       "    .dataframe tbody tr th:only-of-type {\n",
       "        vertical-align: middle;\n",
       "    }\n",
       "\n",
       "    .dataframe tbody tr th {\n",
       "        vertical-align: top;\n",
       "    }\n",
       "\n",
       "    .dataframe thead th {\n",
       "        text-align: right;\n",
       "    }\n",
       "</style>\n",
       "<table border=\"1\" class=\"dataframe\">\n",
       "  <thead>\n",
       "    <tr style=\"text-align: right;\">\n",
       "      <th></th>\n",
       "      <th></th>\n",
       "      <th>mean</th>\n",
       "      <th>median</th>\n",
       "      <th>std</th>\n",
       "    </tr>\n",
       "    <tr>\n",
       "      <th>model</th>\n",
       "      <th></th>\n",
       "      <th></th>\n",
       "      <th></th>\n",
       "      <th></th>\n",
       "    </tr>\n",
       "  </thead>\n",
       "  <tbody>\n",
       "    <tr>\n",
       "      <th>ALS</th>\n",
       "      <th>RMSE</th>\n",
       "      <td>0.762752</td>\n",
       "      <td>0.698469</td>\n",
       "      <td>0.356364</td>\n",
       "    </tr>\n",
       "    <tr>\n",
       "      <th>Bias</th>\n",
       "      <th>RMSE</th>\n",
       "      <td>0.810034</td>\n",
       "      <td>0.741199</td>\n",
       "      <td>0.375163</td>\n",
       "    </tr>\n",
       "    <tr>\n",
       "      <th>IIE</th>\n",
       "      <th>RMSE</th>\n",
       "      <td>0.746687</td>\n",
       "      <td>0.682737</td>\n",
       "      <td>0.355903</td>\n",
       "    </tr>\n",
       "    <tr>\n",
       "      <th>UUE</th>\n",
       "      <th>RMSE</th>\n",
       "      <td>0.771957</td>\n",
       "      <td>0.706146</td>\n",
       "      <td>0.362350</td>\n",
       "    </tr>\n",
       "  </tbody>\n",
       "</table>\n",
       "</div>"
      ],
      "text/plain": [
       "                mean    median       std\n",
       "model                                   \n",
       "ALS   RMSE  0.762752  0.698469  0.356364\n",
       "Bias  RMSE  0.810034  0.741199  0.375163\n",
       "IIE   RMSE  0.746687  0.682737  0.355903\n",
       "UUE   RMSE  0.771957  0.706146  0.362350"
      ]
     },
     "execution_count": 15,
     "metadata": {},
     "output_type": "execute_result"
    }
   ],
   "source": [
    "pa = RunAnalysis()\n",
    "\n",
    "pa.add_metric(RMSE(missing_scores='ignore', missing_truth='ignore'))\n",
    "\n",
    "pred_results = pa.compute(preds, test)\n",
    "pred_results.list_summary('model')"
   ]
  },
  {
   "cell_type": "code",
   "execution_count": 16,
   "id": "929287d6",
   "metadata": {
    "execution": {
     "iopub.execute_input": "2024-12-17T17:46:21.763506Z",
     "iopub.status.busy": "2024-12-17T17:46:21.763414Z",
     "iopub.status.idle": "2024-12-17T17:46:24.432026Z",
     "shell.execute_reply": "2024-12-17T17:46:24.431772Z"
    },
    "papermill": {
     "duration": 2.671074,
     "end_time": "2024-12-17T17:46:24.432561",
     "exception": false,
     "start_time": "2024-12-17T17:46:21.761487",
     "status": "completed"
    },
    "tags": []
   },
   "outputs": [
    {
     "data": {
      "image/png": "[encoded data removed]",
      "text/plain": [
       "<Figure size 511.111x500 with 1 Axes>"
      ]
     },
     "metadata": {},
     "output_type": "display_data"
    }
   ],
   "source": [
    "sns.catplot(pred_results.list_metrics().reset_index(), x='model', y='RMSE', kind='bar')\n",
    "plt.show()"
   ]
  },
  {
   "cell_type": "markdown",
   "id": "0caac7ca",
   "metadata": {
    "papermill": {
     "duration": 0.008885,
     "end_time": "2024-12-17T17:46:24.443329",
     "exception": false,
     "start_time": "2024-12-17T17:46:24.434444",
     "status": "completed"
    },
    "tags": []
   },
   "source": [
    "## Save Metrics\n",
    "\n",
    "We'll now save the metrics to a file."
   ]
  },
  {
   "cell_type": "code",
   "execution_count": 17,
   "id": "4e43b021",
   "metadata": {
    "execution": {
     "iopub.execute_input": "2024-12-17T17:46:24.447013Z",
     "iopub.status.busy": "2024-12-17T17:46:24.446888Z",
     "iopub.status.idle": "2024-12-17T17:46:24.561837Z",
     "shell.execute_reply": "2024-12-17T17:46:24.561678Z"
    },
    "papermill": {
     "duration": 0.117335,
     "end_time": "2024-12-17T17:46:24.562327",
     "exception": false,
     "start_time": "2024-12-17T17:46:24.444992",
     "status": "completed"
    },
    "tags": []
   },
   "outputs": [
    {
     "name": "stderr",
     "output_type": "stream",
     "text": [
      "/home/mde48/lenskit/lkpy/lenskit/lenskit/metrics/bulk.py:121: FutureWarning: The previous implementation of stack is deprecated and will be removed in a future version of pandas. See the What's New notes for pandas 2.1.0 for details. Specify future_stack=True to adopt the new implementation and silence this warning.\n",
      "  df = scores.groupby(list(keys)).agg([\"mean\", \"median\", \"std\"]).stack(level=0)\n"
     ]
    },
    {
     "data": {
      "text/html": [
       "<div>\n",
       "<style scoped>\n",
       "    .dataframe tbody tr th:only-of-type {\n",
       "        vertical-align: middle;\n",
       "    }\n",
       "\n",
       "    .dataframe tbody tr th {\n",
       "        vertical-align: top;\n",
       "    }\n",
       "\n",
       "    .dataframe thead th {\n",
       "        text-align: right;\n",
       "    }\n",
       "</style>\n",
       "<table border=\"1\" class=\"dataframe\">\n",
       "  <thead>\n",
       "    <tr style=\"text-align: right;\">\n",
       "      <th></th>\n",
       "      <th>NDCG</th>\n",
       "      <th>RBP</th>\n",
       "      <th>RecipRank</th>\n",
       "    </tr>\n",
       "    <tr>\n",
       "      <th>model</th>\n",
       "      <th></th>\n",
       "      <th></th>\n",
       "      <th></th>\n",
       "    </tr>\n",
       "  </thead>\n",
       "  <tbody>\n",
       "    <tr>\n",
       "      <th>ALS</th>\n",
       "      <td>0.015649</td>\n",
       "      <td>2.322251e-03</td>\n",
       "      <td>1.240078e-02</td>\n",
       "    </tr>\n",
       "    <tr>\n",
       "      <th>Bias</th>\n",
       "      <td>0.029528</td>\n",
       "      <td>2.783627e-03</td>\n",
       "      <td>2.187359e-02</td>\n",
       "    </tr>\n",
       "    <tr>\n",
       "      <th>IALS</th>\n",
       "      <td>0.258430</td>\n",
       "      <td>1.215339e-01</td>\n",
       "      <td>2.647495e-01</td>\n",
       "    </tr>\n",
       "    <tr>\n",
       "      <th>IIE</th>\n",
       "      <td>0.001373</td>\n",
       "      <td>3.397693e-05</td>\n",
       "      <td>5.869814e-04</td>\n",
       "    </tr>\n",
       "    <tr>\n",
       "      <th>III</th>\n",
       "      <td>0.226666</td>\n",
       "      <td>1.509271e-01</td>\n",
       "      <td>3.022473e-01</td>\n",
       "    </tr>\n",
       "    <tr>\n",
       "      <th>Pop</th>\n",
       "      <td>0.129194</td>\n",
       "      <td>6.458402e-02</td>\n",
       "      <td>1.590873e-01</td>\n",
       "    </tr>\n",
       "    <tr>\n",
       "      <th>UUE</th>\n",
       "      <td>0.000001</td>\n",
       "      <td>1.518680e-10</td>\n",
       "      <td>6.918260e-07</td>\n",
       "    </tr>\n",
       "  </tbody>\n",
       "</table>\n",
       "</div>"
      ],
      "text/plain": [
       "           NDCG           RBP     RecipRank\n",
       "model                                      \n",
       "ALS    0.015649  2.322251e-03  1.240078e-02\n",
       "Bias   0.029528  2.783627e-03  2.187359e-02\n",
       "IALS   0.258430  1.215339e-01  2.647495e-01\n",
       "IIE    0.001373  3.397693e-05  5.869814e-04\n",
       "III    0.226666  1.509271e-01  3.022473e-01\n",
       "Pop    0.129194  6.458402e-02  1.590873e-01\n",
       "UUE    0.000001  1.518680e-10  6.918260e-07"
      ]
     },
     "execution_count": 17,
     "metadata": {},
     "output_type": "execute_result"
    }
   ],
   "source": [
    "rlsum = rec_results.list_summary('model')['mean'].unstack()\n",
    "rlsum"
   ]
  },
  {
   "cell_type": "code",
   "execution_count": 18,
   "id": "cae53f67",
   "metadata": {
    "execution": {
     "iopub.execute_input": "2024-12-17T17:46:24.566350Z",
     "iopub.status.busy": "2024-12-17T17:46:24.566246Z",
     "iopub.status.idle": "2024-12-17T17:46:24.568516Z",
     "shell.execute_reply": "2024-12-17T17:46:24.568342Z"
    },
    "papermill": {
     "duration": 0.004708,
     "end_time": "2024-12-17T17:46:24.568896",
     "exception": false,
     "start_time": "2024-12-17T17:46:24.564188",
     "status": "completed"
    },
    "tags": []
   },
   "outputs": [],
   "source": [
    "rlsum.to_json(f'eval-metrics.{dataset}.json', orient='index')"
   ]
  }
 ],
 "metadata": {
  "jupytext": {
   "formats": "ipynb,md",
   "notebook_metadata_filter": "split_at_heading"
  },
  "kernelspec": {
   "display_name": "Python 3 (ipykernel)",
   "language": "python",
   "name": "python3"
  },
  "language_info": {
   "codemirror_mode": {
    "name": "ipython",
    "version": 3
   },
   "file_extension": ".py",
   "mimetype": "text/x-python",
   "name": "python",
   "nbconvert_exporter": "python",
   "pygments_lexer": "ipython3",
   "version": "3.12.8"
  },
  "papermill": {
   "default_parameters": {},
   "duration": 276.030674,
   "end_time": "2024-12-17T17:46:27.285210",
   "environment_variables": {},
   "exception": null,
   "input_path": "eval-report.ipynb",
   "output_path": "eval-report.ml32m.ipynb",
   "parameters": {
    "dataset": "ml32m"
   },
   "start_time": "2024-12-17T17:41:51.254536",
   "version": "2.6.0"
  },
  "split_at_heading": true
 },
 "nbformat": 4,
 "nbformat_minor": 5
}