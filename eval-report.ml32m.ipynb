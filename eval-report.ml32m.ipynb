{
 "cells": [
  {
   "cell_type": "markdown",
   "id": "7291eba0",
   "metadata": {
    "papermill": {
     "duration": 0.010421,
     "end_time": "2024-12-15T06:06:36.223339",
     "exception": false,
     "start_time": "2024-12-15T06:06:36.212918",
     "status": "completed"
    },
    "tags": []
   },
   "source": [
    "# Evaluation Analysis for Recommender Output"
   ]
  },
  {
   "cell_type": "markdown",
   "id": "872010be",
   "metadata": {
    "papermill": {
     "duration": 0.001041,
     "end_time": "2024-12-15T06:06:36.225630",
     "exception": false,
     "start_time": "2024-12-15T06:06:36.224589",
     "status": "completed"
    },
    "tags": []
   },
   "source": [
    "In this section we will analyze and compare the generated recommendations and predictions from a predefined list of algorithms with the goal of assessing the performance of each algorithm with respect to a metric. In other words, we would rank the algorithms for each metric considered with respect to performance."
   ]
  },
  {
   "cell_type": "markdown",
   "id": "aaaf15df",
   "metadata": {
    "papermill": {
     "duration": 0.001458,
     "end_time": "2024-12-15T06:06:36.228176",
     "exception": false,
     "start_time": "2024-12-15T06:06:36.226718",
     "status": "completed"
    },
    "tags": []
   },
   "source": [
    "## Setup"
   ]
  },
  {
   "cell_type": "markdown",
   "id": "8684b9cf",
   "metadata": {
    "papermill": {
     "duration": 0.001037,
     "end_time": "2024-12-15T06:06:36.231088",
     "exception": false,
     "start_time": "2024-12-15T06:06:36.230051",
     "status": "completed"
    },
    "tags": []
   },
   "source": [
    "Below are the list of packages required to successfully run the analysis. They are divided into partitions to signify their specific task.<br>\n",
    "We need the pathlib package for working with files and folders"
   ]
  },
  {
   "cell_type": "code",
   "execution_count": 1,
   "id": "ee069941",
   "metadata": {
    "execution": {
     "iopub.execute_input": "2024-12-15T06:06:36.233991Z",
     "iopub.status.busy": "2024-12-15T06:06:36.233825Z",
     "iopub.status.idle": "2024-12-15T06:06:36.236309Z",
     "shell.execute_reply": "2024-12-15T06:06:36.236040Z"
    },
    "papermill": {
     "duration": 0.004755,
     "end_time": "2024-12-15T06:06:36.236864",
     "exception": false,
     "start_time": "2024-12-15T06:06:36.232109",
     "status": "completed"
    },
    "tags": []
   },
   "outputs": [],
   "source": [
    "from pathlib import Path\n",
    "import json"
   ]
  },
  {
   "cell_type": "markdown",
   "id": "50590acc",
   "metadata": {
    "papermill": {
     "duration": 0.001077,
     "end_time": "2024-12-15T06:06:36.239444",
     "exception": false,
     "start_time": "2024-12-15T06:06:36.238367",
     "status": "completed"
    },
    "tags": []
   },
   "source": [
    "We would use the pandas for analyzing and manipulating our data while seaborn and matplotlib are used for data visualization. statsmodels.graphics.gofplots and scipy.stats.shapiro are used for normality check. Scipy.stats.friedmanchisquare is a non-parametric test used to determine the statistical significance in metric results and the wilcoxon test is used for pairwise comparison of sample data."
   ]
  },
  {
   "cell_type": "code",
   "execution_count": 2,
   "id": "d40cc792",
   "metadata": {
    "execution": {
     "iopub.execute_input": "2024-12-15T06:06:36.242092Z",
     "iopub.status.busy": "2024-12-15T06:06:36.241984Z",
     "iopub.status.idle": "2024-12-15T06:06:36.672710Z",
     "shell.execute_reply": "2024-12-15T06:06:36.672386Z"
    },
    "lines_to_next_cell": 2,
    "papermill": {
     "duration": 0.433003,
     "end_time": "2024-12-15T06:06:36.673503",
     "exception": false,
     "start_time": "2024-12-15T06:06:36.240500",
     "status": "completed"
    },
    "tags": []
   },
   "outputs": [],
   "source": [
    "import pandas as pd\n",
    "import seaborn as sns\n",
    "import matplotlib.pyplot as plt\n",
    "from statsmodels.graphics.gofplots import qqplot\n",
    "from scipy.stats import shapiro\n",
    "from scipy.stats import friedmanchisquare, wilcoxon\n",
    "from itertools import combinations"
   ]
  },
  {
   "cell_type": "markdown",
   "id": "76360899",
   "metadata": {
    "papermill": {
     "duration": 0.00863,
     "end_time": "2024-12-15T06:06:36.683493",
     "exception": false,
     "start_time": "2024-12-15T06:06:36.674863",
     "status": "completed"
    },
    "tags": []
   },
   "source": [
    "Import the LensKit metrics for analysis:"
   ]
  },
  {
   "cell_type": "code",
   "execution_count": 3,
   "id": "9f0614f8",
   "metadata": {
    "execution": {
     "iopub.execute_input": "2024-12-15T06:06:36.687009Z",
     "iopub.status.busy": "2024-12-15T06:06:36.686862Z",
     "iopub.status.idle": "2024-12-15T06:06:37.345083Z",
     "shell.execute_reply": "2024-12-15T06:06:37.344705Z"
    },
    "papermill": {
     "duration": 0.661129,
     "end_time": "2024-12-15T06:06:37.345866",
     "exception": false,
     "start_time": "2024-12-15T06:06:36.684737",
     "status": "completed"
    },
    "tags": []
   },
   "outputs": [],
   "source": [
    "from lenskit.data import ItemListCollection, UserIDKey\n",
    "from lenskit.metrics import RunAnalysis, RMSE, NDCG, RecipRank, RBP"
   ]
  },
  {
   "cell_type": "markdown",
   "id": "44472f41",
   "metadata": {
    "papermill": {
     "duration": 0.008812,
     "end_time": "2024-12-15T06:06:37.356002",
     "exception": false,
     "start_time": "2024-12-15T06:06:37.347190",
     "status": "completed"
    },
    "tags": []
   },
   "source": [
    "## Load Data\n",
    "\n",
    "The recommendations are in `runs`, and we will need to reassemble the test data from `test`."
   ]
  },
  {
   "cell_type": "code",
   "execution_count": 4,
   "id": "a854029a",
   "metadata": {
    "execution": {
     "iopub.execute_input": "2024-12-15T06:06:37.359114Z",
     "iopub.status.busy": "2024-12-15T06:06:37.359021Z",
     "iopub.status.idle": "2024-12-15T06:06:37.360833Z",
     "shell.execute_reply": "2024-12-15T06:06:37.360544Z"
    },
    "papermill": {
     "duration": 0.004022,
     "end_time": "2024-12-15T06:06:37.361285",
     "exception": false,
     "start_time": "2024-12-15T06:06:37.357263",
     "status": "completed"
    },
    "tags": [
     "parameters"
    ]
   },
   "outputs": [],
   "source": [
    "dataset = \"ml100k\""
   ]
  },
  {
   "cell_type": "code",
   "execution_count": 5,
   "id": "0673a65e",
   "metadata": {
    "execution": {
     "iopub.execute_input": "2024-12-15T06:06:37.363933Z",
     "iopub.status.busy": "2024-12-15T06:06:37.363863Z",
     "iopub.status.idle": "2024-12-15T06:06:37.365209Z",
     "shell.execute_reply": "2024-12-15T06:06:37.365018Z"
    },
    "papermill": {
     "duration": 0.003263,
     "end_time": "2024-12-15T06:06:37.365714",
     "exception": false,
     "start_time": "2024-12-15T06:06:37.362451",
     "status": "completed"
    },
    "tags": [
     "injected-parameters"
    ]
   },
   "outputs": [],
   "source": [
    "# Parameters\n",
    "dataset = \"ml32m\"\n"
   ]
  },
  {
   "cell_type": "code",
   "execution_count": 6,
   "id": "58b1ab64",
   "metadata": {
    "execution": {
     "iopub.execute_input": "2024-12-15T06:06:37.368333Z",
     "iopub.status.busy": "2024-12-15T06:06:37.368267Z",
     "iopub.status.idle": "2024-12-15T06:06:37.369646Z",
     "shell.execute_reply": "2024-12-15T06:06:37.369449Z"
    },
    "papermill": {
     "duration": 0.003069,
     "end_time": "2024-12-15T06:06:37.369940",
     "exception": false,
     "start_time": "2024-12-15T06:06:37.366871",
     "status": "completed"
    },
    "tags": []
   },
   "outputs": [],
   "source": [
    "output_root = Path(\"runs\")"
   ]
  },
  {
   "cell_type": "code",
   "execution_count": 7,
   "id": "291fdc84",
   "metadata": {
    "execution": {
     "iopub.execute_input": "2024-12-15T06:06:37.372575Z",
     "iopub.status.busy": "2024-12-15T06:06:37.372515Z",
     "iopub.status.idle": "2024-12-15T06:06:37.374065Z",
     "shell.execute_reply": "2024-12-15T06:06:37.373867Z"
    },
    "papermill": {
     "duration": 0.003348,
     "end_time": "2024-12-15T06:06:37.374426",
     "exception": false,
     "start_time": "2024-12-15T06:06:37.371078",
     "status": "completed"
    },
    "tags": []
   },
   "outputs": [],
   "source": [
    "dirs = [fld for fld in output_root.glob(f'{dataset}-*')]"
   ]
  },
  {
   "cell_type": "code",
   "execution_count": 8,
   "id": "e47fe658",
   "metadata": {
    "execution": {
     "iopub.execute_input": "2024-12-15T06:06:37.376966Z",
     "iopub.status.busy": "2024-12-15T06:06:37.376904Z",
     "iopub.status.idle": "2024-12-15T06:06:56.183253Z",
     "shell.execute_reply": "2024-12-15T06:06:56.182803Z"
    },
    "papermill": {
     "duration": 18.808466,
     "end_time": "2024-12-15T06:06:56.184041",
     "exception": false,
     "start_time": "2024-12-15T06:06:37.375575",
     "status": "completed"
    },
    "tags": []
   },
   "outputs": [],
   "source": [
    "recs = ItemListCollection(['model', 'user_id'], index=False)\n",
    "for fld in dirs:\n",
    "    for file in fld.glob(\"recs-*\"):\n",
    "        rec = ItemListCollection.load_parquet(file)\n",
    "        recs.add_from(rec, model=fld.name.split(\"-\")[1])"
   ]
  },
  {
   "cell_type": "code",
   "execution_count": 9,
   "id": "36d675e6",
   "metadata": {
    "execution": {
     "iopub.execute_input": "2024-12-15T06:06:56.195313Z",
     "iopub.status.busy": "2024-12-15T06:06:56.195236Z",
     "iopub.status.idle": "2024-12-15T06:06:56.252233Z",
     "shell.execute_reply": "2024-12-15T06:06:56.251856Z"
    },
    "papermill": {
     "duration": 0.067257,
     "end_time": "2024-12-15T06:06:56.252807",
     "exception": false,
     "start_time": "2024-12-15T06:06:56.185550",
     "status": "completed"
    },
    "tags": []
   },
   "outputs": [
    {
     "data": {
      "text/plain": [
       "['ALS', 'Bias', 'IALS', 'IIE', 'III', 'Pop']"
      ]
     },
     "execution_count": 9,
     "metadata": {},
     "output_type": "execute_result"
    }
   ],
   "source": [
    "rec_algos = sorted(set(a for (a, _u) in recs.keys()))\n",
    "rec_algos"
   ]
  },
  {
   "cell_type": "code",
   "execution_count": 10,
   "id": "530bbfda",
   "metadata": {
    "execution": {
     "iopub.execute_input": "2024-12-15T06:06:56.256042Z",
     "iopub.status.busy": "2024-12-15T06:06:56.255966Z",
     "iopub.status.idle": "2024-12-15T06:07:10.902118Z",
     "shell.execute_reply": "2024-12-15T06:07:10.901612Z"
    },
    "papermill": {
     "duration": 14.648711,
     "end_time": "2024-12-15T06:07:10.902887",
     "exception": false,
     "start_time": "2024-12-15T06:06:56.254176",
     "status": "completed"
    },
    "tags": []
   },
   "outputs": [],
   "source": [
    "preds = ItemListCollection(['model', 'user_id'], index=False)\n",
    "for fld in dirs:\n",
    "    for file in fld.glob(\"pred-*\"):\n",
    "        pred = ItemListCollection.load_parquet(file)\n",
    "        preds.add_from(pred, model=fld.name.split(\"-\")[1])"
   ]
  },
  {
   "cell_type": "markdown",
   "id": "737fbf6f",
   "metadata": {
    "papermill": {
     "duration": 0.018765,
     "end_time": "2024-12-15T06:07:10.923334",
     "exception": false,
     "start_time": "2024-12-15T06:07:10.904569",
     "status": "completed"
    },
    "tags": []
   },
   "source": [
    "We need to load the test data so that we have the ground truths for computing accuracy"
   ]
  },
  {
   "cell_type": "code",
   "execution_count": 11,
   "id": "094c6750",
   "metadata": {
    "execution": {
     "iopub.execute_input": "2024-12-15T06:07:10.928969Z",
     "iopub.status.busy": "2024-12-15T06:07:10.928829Z",
     "iopub.status.idle": "2024-12-15T06:07:10.930756Z",
     "shell.execute_reply": "2024-12-15T06:07:10.930596Z"
    },
    "papermill": {
     "duration": 0.005774,
     "end_time": "2024-12-15T06:07:10.931586",
     "exception": false,
     "start_time": "2024-12-15T06:07:10.925812",
     "status": "completed"
    },
    "tags": []
   },
   "outputs": [],
   "source": [
    "split_root = Path(\"data-split\")\n",
    "split_dir = split_root / dataset"
   ]
  },
  {
   "cell_type": "code",
   "execution_count": 12,
   "id": "b6b27b83",
   "metadata": {
    "execution": {
     "iopub.execute_input": "2024-12-15T06:07:10.936922Z",
     "iopub.status.busy": "2024-12-15T06:07:10.936845Z",
     "iopub.status.idle": "2024-12-15T06:07:20.895846Z",
     "shell.execute_reply": "2024-12-15T06:07:20.895316Z"
    },
    "papermill": {
     "duration": 9.962535,
     "end_time": "2024-12-15T06:07:20.896646",
     "exception": false,
     "start_time": "2024-12-15T06:07:10.934111",
     "status": "completed"
    },
    "tags": []
   },
   "outputs": [],
   "source": [
    "test = ItemListCollection(UserIDKey)\n",
    "for file in split_dir.glob(\"test-*.parquet\"):\n",
    "    df = pd.read_parquet(file)\n",
    "    part = ItemListCollection.from_df(df, UserIDKey)\n",
    "    test.add_from(part)"
   ]
  },
  {
   "cell_type": "markdown",
   "id": "fed8bea2",
   "metadata": {
    "papermill": {
     "duration": 0.019089,
     "end_time": "2024-12-15T06:07:20.917240",
     "exception": false,
     "start_time": "2024-12-15T06:07:20.898151",
     "status": "completed"
    },
    "tags": []
   },
   "source": [
    "## Top-N Metrics\n",
    "\n",
    "`RunListAnalysis` computes metrics for recommendation results and takes care of\n",
    "matching recommendations and ground truth."
   ]
  },
  {
   "cell_type": "code",
   "execution_count": 13,
   "id": "7b68ce95",
   "metadata": {
    "execution": {
     "iopub.execute_input": "2024-12-15T06:07:20.920531Z",
     "iopub.status.busy": "2024-12-15T06:07:20.920420Z",
     "iopub.status.idle": "2024-12-15T06:08:37.310802Z",
     "shell.execute_reply": "2024-12-15T06:08:37.310211Z"
    },
    "papermill": {
     "duration": 76.393464,
     "end_time": "2024-12-15T06:08:37.312055",
     "exception": false,
     "start_time": "2024-12-15T06:07:20.918591",
     "status": "completed"
    },
    "tags": []
   },
   "outputs": [
    {
     "name": "stderr",
     "output_type": "stream",
     "text": [
      "/home/mde48/lenskit/lk-demo-experiment/.pixi/envs/cuda/lib/python3.12/site-packages/lenskit/metrics/bulk.py:116: FutureWarning: The previous implementation of stack is deprecated and will be removed in a future version of pandas. See the What's New notes for pandas 2.1.0 for details. Specify future_stack=True to adopt the new implementation and silence this warning.\n",
      "  df = scores.groupby(list(keys)).agg([\"mean\", \"median\", \"std\"]).stack(level=0)\n"
     ]
    },
    {
     "data": {
      "text/html": [
       "<div>\n",
       "<style scoped>\n",
       "    .dataframe tbody tr th:only-of-type {\n",
       "        vertical-align: middle;\n",
       "    }\n",
       "\n",
       "    .dataframe tbody tr th {\n",
       "        vertical-align: top;\n",
       "    }\n",
       "\n",
       "    .dataframe thead th {\n",
       "        text-align: right;\n",
       "    }\n",
       "</style>\n",
       "<table border=\"1\" class=\"dataframe\">\n",
       "  <thead>\n",
       "    <tr style=\"text-align: right;\">\n",
       "      <th></th>\n",
       "      <th></th>\n",
       "      <th>mean</th>\n",
       "      <th>median</th>\n",
       "      <th>std</th>\n",
       "    </tr>\n",
       "    <tr>\n",
       "      <th>model</th>\n",
       "      <th></th>\n",
       "      <th></th>\n",
       "      <th></th>\n",
       "      <th></th>\n",
       "    </tr>\n",
       "  </thead>\n",
       "  <tbody>\n",
       "    <tr>\n",
       "      <th rowspan=\"3\" valign=\"top\">ALS</th>\n",
       "      <th>NDCG</th>\n",
       "      <td>0.015649</td>\n",
       "      <td>0.000000e+00</td>\n",
       "      <td>0.041314</td>\n",
       "    </tr>\n",
       "    <tr>\n",
       "      <th>RBP</th>\n",
       "      <td>0.002322</td>\n",
       "      <td>0.000000e+00</td>\n",
       "      <td>0.026784</td>\n",
       "    </tr>\n",
       "    <tr>\n",
       "      <th>RecipRank</th>\n",
       "      <td>0.012401</td>\n",
       "      <td>0.000000e+00</td>\n",
       "      <td>0.060021</td>\n",
       "    </tr>\n",
       "    <tr>\n",
       "      <th rowspan=\"3\" valign=\"top\">Bias</th>\n",
       "      <th>NDCG</th>\n",
       "      <td>0.029528</td>\n",
       "      <td>0.000000e+00</td>\n",
       "      <td>0.050135</td>\n",
       "    </tr>\n",
       "    <tr>\n",
       "      <th>RBP</th>\n",
       "      <td>0.002784</td>\n",
       "      <td>0.000000e+00</td>\n",
       "      <td>0.016395</td>\n",
       "    </tr>\n",
       "    <tr>\n",
       "      <th>RecipRank</th>\n",
       "      <td>0.021874</td>\n",
       "      <td>0.000000e+00</td>\n",
       "      <td>0.056266</td>\n",
       "    </tr>\n",
       "    <tr>\n",
       "      <th rowspan=\"3\" valign=\"top\">IALS</th>\n",
       "      <th>NDCG</th>\n",
       "      <td>0.258430</td>\n",
       "      <td>2.129376e-01</td>\n",
       "      <td>0.191589</td>\n",
       "    </tr>\n",
       "    <tr>\n",
       "      <th>RBP</th>\n",
       "      <td>0.121534</td>\n",
       "      <td>1.953244e-03</td>\n",
       "      <td>0.209641</td>\n",
       "    </tr>\n",
       "    <tr>\n",
       "      <th>RecipRank</th>\n",
       "      <td>0.264750</td>\n",
       "      <td>1.111111e-01</td>\n",
       "      <td>0.328604</td>\n",
       "    </tr>\n",
       "    <tr>\n",
       "      <th rowspan=\"3\" valign=\"top\">IIE</th>\n",
       "      <th>NDCG</th>\n",
       "      <td>0.001373</td>\n",
       "      <td>0.000000e+00</td>\n",
       "      <td>0.010782</td>\n",
       "    </tr>\n",
       "    <tr>\n",
       "      <th>RBP</th>\n",
       "      <td>0.000034</td>\n",
       "      <td>0.000000e+00</td>\n",
       "      <td>0.002521</td>\n",
       "    </tr>\n",
       "    <tr>\n",
       "      <th>RecipRank</th>\n",
       "      <td>0.000587</td>\n",
       "      <td>0.000000e+00</td>\n",
       "      <td>0.007555</td>\n",
       "    </tr>\n",
       "    <tr>\n",
       "      <th rowspan=\"3\" valign=\"top\">III</th>\n",
       "      <th>NDCG</th>\n",
       "      <td>0.226666</td>\n",
       "      <td>1.652725e-01</td>\n",
       "      <td>0.204686</td>\n",
       "    </tr>\n",
       "    <tr>\n",
       "      <th>RBP</th>\n",
       "      <td>0.150927</td>\n",
       "      <td>1.586914e-03</td>\n",
       "      <td>0.236827</td>\n",
       "    </tr>\n",
       "    <tr>\n",
       "      <th>RecipRank</th>\n",
       "      <td>0.302247</td>\n",
       "      <td>1.000000e-01</td>\n",
       "      <td>0.374646</td>\n",
       "    </tr>\n",
       "    <tr>\n",
       "      <th rowspan=\"3\" valign=\"top\">Pop</th>\n",
       "      <th>NDCG</th>\n",
       "      <td>0.129194</td>\n",
       "      <td>8.857376e-02</td>\n",
       "      <td>0.140090</td>\n",
       "    </tr>\n",
       "    <tr>\n",
       "      <th>RBP</th>\n",
       "      <td>0.064584</td>\n",
       "      <td>7.450581e-09</td>\n",
       "      <td>0.153568</td>\n",
       "    </tr>\n",
       "    <tr>\n",
       "      <th>RecipRank</th>\n",
       "      <td>0.159087</td>\n",
       "      <td>3.703704e-02</td>\n",
       "      <td>0.276221</td>\n",
       "    </tr>\n",
       "  </tbody>\n",
       "</table>\n",
       "</div>"
      ],
      "text/plain": [
       "                     mean        median       std\n",
       "model                                            \n",
       "ALS   NDCG       0.015649  0.000000e+00  0.041314\n",
       "      RBP        0.002322  0.000000e+00  0.026784\n",
       "      RecipRank  0.012401  0.000000e+00  0.060021\n",
       "Bias  NDCG       0.029528  0.000000e+00  0.050135\n",
       "      RBP        0.002784  0.000000e+00  0.016395\n",
       "      RecipRank  0.021874  0.000000e+00  0.056266\n",
       "IALS  NDCG       0.258430  2.129376e-01  0.191589\n",
       "      RBP        0.121534  1.953244e-03  0.209641\n",
       "      RecipRank  0.264750  1.111111e-01  0.328604\n",
       "IIE   NDCG       0.001373  0.000000e+00  0.010782\n",
       "      RBP        0.000034  0.000000e+00  0.002521\n",
       "      RecipRank  0.000587  0.000000e+00  0.007555\n",
       "III   NDCG       0.226666  1.652725e-01  0.204686\n",
       "      RBP        0.150927  1.586914e-03  0.236827\n",
       "      RecipRank  0.302247  1.000000e-01  0.374646\n",
       "Pop   NDCG       0.129194  8.857376e-02  0.140090\n",
       "      RBP        0.064584  7.450581e-09  0.153568\n",
       "      RecipRank  0.159087  3.703704e-02  0.276221"
      ]
     },
     "execution_count": 13,
     "metadata": {},
     "output_type": "execute_result"
    }
   ],
   "source": [
    "ra = RunAnalysis()\n",
    "\n",
    "ra.add_metric(NDCG())\n",
    "ra.add_metric(RecipRank())\n",
    "ra.add_metric(RBP())\n",
    "\n",
    "rec_results = ra.compute(recs, test)\n",
    "rec_results.list_summary('model')"
   ]
  },
  {
   "cell_type": "markdown",
   "id": "8cba4e78",
   "metadata": {
    "papermill": {
     "duration": 0.001349,
     "end_time": "2024-12-15T06:08:37.314861",
     "exception": false,
     "start_time": "2024-12-15T06:08:37.313512",
     "status": "completed"
    },
    "tags": []
   },
   "source": [
    "We can reshape the list metrics and plot them:"
   ]
  },
  {
   "cell_type": "code",
   "execution_count": 14,
   "id": "238604c3",
   "metadata": {
    "execution": {
     "iopub.execute_input": "2024-12-15T06:08:37.318191Z",
     "iopub.status.busy": "2024-12-15T06:08:37.318003Z",
     "iopub.status.idle": "2024-12-15T06:08:49.998415Z",
     "shell.execute_reply": "2024-12-15T06:08:49.997984Z"
    },
    "papermill": {
     "duration": 12.682777,
     "end_time": "2024-12-15T06:08:49.998998",
     "exception": false,
     "start_time": "2024-12-15T06:08:37.316221",
     "status": "completed"
    },
    "tags": []
   },
   "outputs": [
    {
     "data": {
      "image/png": "[encoded data removed]",
      "text/plain": [
       "<Figure size 1511.11x500 with 3 Axes>"
      ]
     },
     "metadata": {},
     "output_type": "display_data"
    }
   ],
   "source": [
    "metrics = rec_results.list_metrics()\n",
    "metrics = metrics.melt(var_name='metric', ignore_index=False).reset_index()\n",
    "sns.catplot(metrics, x='model', y='value', col='metric', kind='bar')\n",
    "plt.show()"
   ]
  },
  {
   "cell_type": "markdown",
   "id": "d6f202d4",
   "metadata": {
    "papermill": {
     "duration": 0.008852,
     "end_time": "2024-12-15T06:08:50.009536",
     "exception": false,
     "start_time": "2024-12-15T06:08:50.000684",
     "status": "completed"
    },
    "tags": []
   },
   "source": [
    "## Prediction RMSE\n",
    "\n",
    "We will also look at the prediction RMSE."
   ]
  },
  {
   "cell_type": "code",
   "execution_count": 15,
   "id": "c78c5ff6",
   "metadata": {
    "execution": {
     "iopub.execute_input": "2024-12-15T06:08:50.013108Z",
     "iopub.status.busy": "2024-12-15T06:08:50.012971Z",
     "iopub.status.idle": "2024-12-15T06:12:05.986714Z",
     "shell.execute_reply": "2024-12-15T06:12:05.986452Z"
    },
    "papermill": {
     "duration": 195.977526,
     "end_time": "2024-12-15T06:12:05.988610",
     "exception": false,
     "start_time": "2024-12-15T06:08:50.011084",
     "status": "completed"
    },
    "tags": []
   },
   "outputs": [
    {
     "name": "stderr",
     "output_type": "stream",
     "text": [
      "/home/mde48/lenskit/lk-demo-experiment/.pixi/envs/cuda/lib/python3.12/site-packages/lenskit/metrics/bulk.py:116: FutureWarning: The previous implementation of stack is deprecated and will be removed in a future version of pandas. See the What's New notes for pandas 2.1.0 for details. Specify future_stack=True to adopt the new implementation and silence this warning.\n",
      "  df = scores.groupby(list(keys)).agg([\"mean\", \"median\", \"std\"]).stack(level=0)\n"
     ]
    },
    {
     "data": {
      "text/html": [
       "<div>\n",
       "<style scoped>\n",
       "    .dataframe tbody tr th:only-of-type {\n",
       "        vertical-align: middle;\n",
       "    }\n",
       "\n",
       "    .dataframe tbody tr th {\n",
       "        vertical-align: top;\n",
       "    }\n",
       "\n",
       "    .dataframe thead th {\n",
       "        text-align: right;\n",
       "    }\n",
       "</style>\n",
       "<table border=\"1\" class=\"dataframe\">\n",
       "  <thead>\n",
       "    <tr style=\"text-align: right;\">\n",
       "      <th></th>\n",
       "      <th></th>\n",
       "      <th>mean</th>\n",
       "      <th>median</th>\n",
       "      <th>std</th>\n",
       "    </tr>\n",
       "    <tr>\n",
       "      <th>model</th>\n",
       "      <th></th>\n",
       "      <th></th>\n",
       "      <th></th>\n",
       "      <th></th>\n",
       "    </tr>\n",
       "  </thead>\n",
       "  <tbody>\n",
       "    <tr>\n",
       "      <th>ALS</th>\n",
       "      <th>RMSE</th>\n",
       "      <td>0.762752</td>\n",
       "      <td>0.698469</td>\n",
       "      <td>0.356364</td>\n",
       "    </tr>\n",
       "    <tr>\n",
       "      <th>Bias</th>\n",
       "      <th>RMSE</th>\n",
       "      <td>0.810034</td>\n",
       "      <td>0.741199</td>\n",
       "      <td>0.375163</td>\n",
       "    </tr>\n",
       "    <tr>\n",
       "      <th>IIE</th>\n",
       "      <th>RMSE</th>\n",
       "      <td>0.746687</td>\n",
       "      <td>0.682737</td>\n",
       "      <td>0.355903</td>\n",
       "    </tr>\n",
       "  </tbody>\n",
       "</table>\n",
       "</div>"
      ],
      "text/plain": [
       "                mean    median       std\n",
       "model                                   \n",
       "ALS   RMSE  0.762752  0.698469  0.356364\n",
       "Bias  RMSE  0.810034  0.741199  0.375163\n",
       "IIE   RMSE  0.746687  0.682737  0.355903"
      ]
     },
     "execution_count": 15,
     "metadata": {},
     "output_type": "execute_result"
    }
   ],
   "source": [
    "pa = RunAnalysis()\n",
    "\n",
    "pa.add_metric(RMSE(missing_scores='ignore', missing_truth='ignore'))\n",
    "\n",
    "pred_results = pa.compute(preds, test)\n",
    "pred_results.list_summary('model')"
   ]
  },
  {
   "cell_type": "code",
   "execution_count": 16,
   "id": "929287d6",
   "metadata": {
    "execution": {
     "iopub.execute_input": "2024-12-15T06:12:05.992219Z",
     "iopub.status.busy": "2024-12-15T06:12:05.992088Z",
     "iopub.status.idle": "2024-12-15T06:12:07.997412Z",
     "shell.execute_reply": "2024-12-15T06:12:07.997150Z"
    },
    "papermill": {
     "duration": 2.007798,
     "end_time": "2024-12-15T06:12:07.998001",
     "exception": false,
     "start_time": "2024-12-15T06:12:05.990203",
     "status": "completed"
    },
    "tags": []
   },
   "outputs": [
    {
     "data": {
      "image/png": "[encoded data removed]",
      "text/plain": [
       "<Figure size 511.111x500 with 1 Axes>"
      ]
     },
     "metadata": {},
     "output_type": "display_data"
    }
   ],
   "source": [
    "sns.catplot(pred_results.list_metrics().reset_index(), x='model', y='RMSE', kind='bar')\n",
    "plt.show()"
   ]
  },
  {
   "cell_type": "markdown",
   "id": "0caac7ca",
   "metadata": {
    "papermill": {
     "duration": 0.00897,
     "end_time": "2024-12-15T06:12:08.008680",
     "exception": false,
     "start_time": "2024-12-15T06:12:07.999710",
     "status": "completed"
    },
    "tags": []
   },
   "source": [
    "## Save Metrics\n",
    "\n",
    "We'll now save the metrics to a file."
   ]
  },
  {
   "cell_type": "code",
   "execution_count": 17,
   "id": "4e43b021",
   "metadata": {
    "execution": {
     "iopub.execute_input": "2024-12-15T06:12:08.012346Z",
     "iopub.status.busy": "2024-12-15T06:12:08.012198Z",
     "iopub.status.idle": "2024-12-15T06:12:08.108549Z",
     "shell.execute_reply": "2024-12-15T06:12:08.108216Z"
    },
    "papermill": {
     "duration": 0.098879,
     "end_time": "2024-12-15T06:12:08.109113",
     "exception": false,
     "start_time": "2024-12-15T06:12:08.010234",
     "status": "completed"
    },
    "tags": []
   },
   "outputs": [
    {
     "name": "stderr",
     "output_type": "stream",
     "text": [
      "/home/mde48/lenskit/lk-demo-experiment/.pixi/envs/cuda/lib/python3.12/site-packages/lenskit/metrics/bulk.py:116: FutureWarning: The previous implementation of stack is deprecated and will be removed in a future version of pandas. See the What's New notes for pandas 2.1.0 for details. Specify future_stack=True to adopt the new implementation and silence this warning.\n",
      "  df = scores.groupby(list(keys)).agg([\"mean\", \"median\", \"std\"]).stack(level=0)\n"
     ]
    },
    {
     "data": {
      "text/html": [
       "<div>\n",
       "<style scoped>\n",
       "    .dataframe tbody tr th:only-of-type {\n",
       "        vertical-align: middle;\n",
       "    }\n",
       "\n",
       "    .dataframe tbody tr th {\n",
       "        vertical-align: top;\n",
       "    }\n",
       "\n",
       "    .dataframe thead th {\n",
       "        text-align: right;\n",
       "    }\n",
       "</style>\n",
       "<table border=\"1\" class=\"dataframe\">\n",
       "  <thead>\n",
       "    <tr style=\"text-align: right;\">\n",
       "      <th></th>\n",
       "      <th>NDCG</th>\n",
       "      <th>RBP</th>\n",
       "      <th>RecipRank</th>\n",
       "    </tr>\n",
       "    <tr>\n",
       "      <th>model</th>\n",
       "      <th></th>\n",
       "      <th></th>\n",
       "      <th></th>\n",
       "    </tr>\n",
       "  </thead>\n",
       "  <tbody>\n",
       "    <tr>\n",
       "      <th>ALS</th>\n",
       "      <td>0.015649</td>\n",
       "      <td>0.002322</td>\n",
       "      <td>0.012401</td>\n",
       "    </tr>\n",
       "    <tr>\n",
       "      <th>Bias</th>\n",
       "      <td>0.029528</td>\n",
       "      <td>0.002784</td>\n",
       "      <td>0.021874</td>\n",
       "    </tr>\n",
       "    <tr>\n",
       "      <th>IALS</th>\n",
       "      <td>0.258430</td>\n",
       "      <td>0.121534</td>\n",
       "      <td>0.264750</td>\n",
       "    </tr>\n",
       "    <tr>\n",
       "      <th>IIE</th>\n",
       "      <td>0.001373</td>\n",
       "      <td>0.000034</td>\n",
       "      <td>0.000587</td>\n",
       "    </tr>\n",
       "    <tr>\n",
       "      <th>III</th>\n",
       "      <td>0.226666</td>\n",
       "      <td>0.150927</td>\n",
       "      <td>0.302247</td>\n",
       "    </tr>\n",
       "    <tr>\n",
       "      <th>Pop</th>\n",
       "      <td>0.129194</td>\n",
       "      <td>0.064584</td>\n",
       "      <td>0.159087</td>\n",
       "    </tr>\n",
       "  </tbody>\n",
       "</table>\n",
       "</div>"
      ],
      "text/plain": [
       "           NDCG       RBP  RecipRank\n",
       "model                               \n",
       "ALS    0.015649  0.002322   0.012401\n",
       "Bias   0.029528  0.002784   0.021874\n",
       "IALS   0.258430  0.121534   0.264750\n",
       "IIE    0.001373  0.000034   0.000587\n",
       "III    0.226666  0.150927   0.302247\n",
       "Pop    0.129194  0.064584   0.159087"
      ]
     },
     "execution_count": 17,
     "metadata": {},
     "output_type": "execute_result"
    }
   ],
   "source": [
    "rlsum = rec_results.list_summary('model')['mean'].unstack()\n",
    "rlsum"
   ]
  },
  {
   "cell_type": "code",
   "execution_count": 18,
   "id": "cae53f67",
   "metadata": {
    "execution": {
     "iopub.execute_input": "2024-12-15T06:12:08.113200Z",
     "iopub.status.busy": "2024-12-15T06:12:08.113117Z",
     "iopub.status.idle": "2024-12-15T06:12:08.115720Z",
     "shell.execute_reply": "2024-12-15T06:12:08.115552Z"
    },
    "papermill": {
     "duration": 0.005118,
     "end_time": "2024-12-15T06:12:08.116024",
     "exception": false,
     "start_time": "2024-12-15T06:12:08.110906",
     "status": "completed"
    },
    "tags": []
   },
   "outputs": [],
   "source": [
    "rlsum.to_json(f'eval-metrics.{dataset}.json', orient='index')"
   ]
  }
 ],
 "metadata": {
  "jupytext": {
   "formats": "ipynb,md",
   "notebook_metadata_filter": "split_at_heading"
  },
  "kernelspec": {
   "display_name": "Python 3 (ipykernel)",
   "language": "python",
   "name": "python3"
  },
  "language_info": {
   "codemirror_mode": {
    "name": "ipython",
    "version": 3
   },
   "file_extension": ".py",
   "mimetype": "text/x-python",
   "name": "python",
   "nbconvert_exporter": "python",
   "pygments_lexer": "ipython3",
   "version": "3.12.8"
  },
  "papermill": {
   "default_parameters": {},
   "duration": 335.402088,
   "end_time": "2024-12-15T06:12:10.932883",
   "environment_variables": {},
   "exception": null,
   "input_path": "eval-report.ipynb",
   "output_path": "eval-report.ml32m.ipynb",
   "parameters": {
    "dataset": "ml32m"
   },
   "start_time": "2024-12-15T06:06:35.530795",
   "version": "2.6.0"
  },
  "split_at_heading": true
 },
 "nbformat": 4,
 "nbformat_minor": 5
}