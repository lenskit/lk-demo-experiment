{
 "cells": [
  {
   "cell_type": "markdown",
   "id": "7291eba0",
   "metadata": {
    "papermill": {
     "duration": 0.010567,
     "end_time": "2024-12-14T20:38:51.881713",
     "exception": false,
     "start_time": "2024-12-14T20:38:51.871146",
     "status": "completed"
    },
    "tags": []
   },
   "source": [
    "# Evaluation Analysis for Recommender Output"
   ]
  },
  {
   "cell_type": "markdown",
   "id": "872010be",
   "metadata": {
    "papermill": {
     "duration": 0.001078,
     "end_time": "2024-12-14T20:38:51.884110",
     "exception": false,
     "start_time": "2024-12-14T20:38:51.883032",
     "status": "completed"
    },
    "tags": []
   },
   "source": [
    "In this section we will analyze and compare the generated recommendations and predictions from a predefined list of algorithms with the goal of assessing the performance of each algorithm with respect to a metric. In other words, we would rank the algorithms for each metric considered with respect to performance."
   ]
  },
  {
   "cell_type": "markdown",
   "id": "aaaf15df",
   "metadata": {
    "papermill": {
     "duration": 0.001089,
     "end_time": "2024-12-14T20:38:51.886334",
     "exception": false,
     "start_time": "2024-12-14T20:38:51.885245",
     "status": "completed"
    },
    "tags": []
   },
   "source": [
    "## Setup"
   ]
  },
  {
   "cell_type": "markdown",
   "id": "8684b9cf",
   "metadata": {
    "papermill": {
     "duration": 0.001081,
     "end_time": "2024-12-14T20:38:51.888482",
     "exception": false,
     "start_time": "2024-12-14T20:38:51.887401",
     "status": "completed"
    },
    "tags": []
   },
   "source": [
    "Below are the list of packages required to successfully run the analysis. They are divided into partitions to signify their specific task.<br>\n",
    "We need the pathlib package for working with files and folders"
   ]
  },
  {
   "cell_type": "code",
   "execution_count": 1,
   "id": "ee069941",
   "metadata": {
    "execution": {
     "iopub.execute_input": "2024-12-14T20:38:51.891589Z",
     "iopub.status.busy": "2024-12-14T20:38:51.891282Z",
     "iopub.status.idle": "2024-12-14T20:38:51.893893Z",
     "shell.execute_reply": "2024-12-14T20:38:51.893611Z"
    },
    "papermill": {
     "duration": 0.00478,
     "end_time": "2024-12-14T20:38:51.894327",
     "exception": false,
     "start_time": "2024-12-14T20:38:51.889547",
     "status": "completed"
    },
    "tags": []
   },
   "outputs": [],
   "source": [
    "from pathlib import Path\n",
    "import json"
   ]
  },
  {
   "cell_type": "markdown",
   "id": "50590acc",
   "metadata": {
    "papermill": {
     "duration": 0.001098,
     "end_time": "2024-12-14T20:38:51.896968",
     "exception": false,
     "start_time": "2024-12-14T20:38:51.895870",
     "status": "completed"
    },
    "tags": []
   },
   "source": [
    "We would use the pandas for analyzing and manipulating our data while seaborn and matplotlib are used for data visualization. statsmodels.graphics.gofplots and scipy.stats.shapiro are used for normality check. Scipy.stats.friedmanchisquare is a non-parametric test used to determine the statistical significance in metric results and the wilcoxon test is used for pairwise comparison of sample data."
   ]
  },
  {
   "cell_type": "code",
   "execution_count": 2,
   "id": "d40cc792",
   "metadata": {
    "execution": {
     "iopub.execute_input": "2024-12-14T20:38:51.899702Z",
     "iopub.status.busy": "2024-12-14T20:38:51.899464Z",
     "iopub.status.idle": "2024-12-14T20:38:52.331075Z",
     "shell.execute_reply": "2024-12-14T20:38:52.330673Z"
    },
    "lines_to_next_cell": 2,
    "papermill": {
     "duration": 0.433759,
     "end_time": "2024-12-14T20:38:52.331833",
     "exception": false,
     "start_time": "2024-12-14T20:38:51.898074",
     "status": "completed"
    },
    "tags": []
   },
   "outputs": [],
   "source": [
    "import pandas as pd\n",
    "import seaborn as sns\n",
    "import matplotlib.pyplot as plt\n",
    "from statsmodels.graphics.gofplots import qqplot\n",
    "from scipy.stats import shapiro\n",
    "from scipy.stats import friedmanchisquare, wilcoxon\n",
    "from itertools import combinations"
   ]
  },
  {
   "cell_type": "markdown",
   "id": "76360899",
   "metadata": {
    "papermill": {
     "duration": 0.008917,
     "end_time": "2024-12-14T20:38:52.342175",
     "exception": false,
     "start_time": "2024-12-14T20:38:52.333258",
     "status": "completed"
    },
    "tags": []
   },
   "source": [
    "Import the LensKit metrics for analysis:"
   ]
  },
  {
   "cell_type": "code",
   "execution_count": 3,
   "id": "9f0614f8",
   "metadata": {
    "execution": {
     "iopub.execute_input": "2024-12-14T20:38:52.345197Z",
     "iopub.status.busy": "2024-12-14T20:38:52.345031Z",
     "iopub.status.idle": "2024-12-14T20:38:52.978672Z",
     "shell.execute_reply": "2024-12-14T20:38:52.978286Z"
    },
    "papermill": {
     "duration": 0.636092,
     "end_time": "2024-12-14T20:38:52.979567",
     "exception": false,
     "start_time": "2024-12-14T20:38:52.343475",
     "status": "completed"
    },
    "tags": []
   },
   "outputs": [],
   "source": [
    "from lenskit.data import ItemListCollection, UserIDKey\n",
    "from lenskit.metrics import RunAnalysis, RMSE, NDCG, RecipRank, RBP"
   ]
  },
  {
   "cell_type": "markdown",
   "id": "44472f41",
   "metadata": {
    "papermill": {
     "duration": 0.008917,
     "end_time": "2024-12-14T20:38:52.989880",
     "exception": false,
     "start_time": "2024-12-14T20:38:52.980963",
     "status": "completed"
    },
    "tags": []
   },
   "source": [
    "## Load Data\n",
    "\n",
    "The recommendations are in `runs`, and we will need to reassemble the test data from `test`."
   ]
  },
  {
   "cell_type": "code",
   "execution_count": 4,
   "id": "a854029a",
   "metadata": {
    "execution": {
     "iopub.execute_input": "2024-12-14T20:38:52.992752Z",
     "iopub.status.busy": "2024-12-14T20:38:52.992660Z",
     "iopub.status.idle": "2024-12-14T20:38:52.994355Z",
     "shell.execute_reply": "2024-12-14T20:38:52.994114Z"
    },
    "papermill": {
     "duration": 0.003783,
     "end_time": "2024-12-14T20:38:52.994856",
     "exception": false,
     "start_time": "2024-12-14T20:38:52.991073",
     "status": "completed"
    },
    "tags": [
     "parameters"
    ]
   },
   "outputs": [],
   "source": [
    "dataset = \"ml100k\""
   ]
  },
  {
   "cell_type": "code",
   "execution_count": 5,
   "id": "b0ad3282",
   "metadata": {
    "execution": {
     "iopub.execute_input": "2024-12-14T20:38:52.997555Z",
     "iopub.status.busy": "2024-12-14T20:38:52.997465Z",
     "iopub.status.idle": "2024-12-14T20:38:52.998879Z",
     "shell.execute_reply": "2024-12-14T20:38:52.998652Z"
    },
    "papermill": {
     "duration": 0.003126,
     "end_time": "2024-12-14T20:38:52.999187",
     "exception": false,
     "start_time": "2024-12-14T20:38:52.996061",
     "status": "completed"
    },
    "tags": [
     "injected-parameters"
    ]
   },
   "outputs": [],
   "source": [
    "# Parameters\n",
    "dataset = \"ml100k\"\n"
   ]
  },
  {
   "cell_type": "code",
   "execution_count": 6,
   "id": "58b1ab64",
   "metadata": {
    "execution": {
     "iopub.execute_input": "2024-12-14T20:38:53.002563Z",
     "iopub.status.busy": "2024-12-14T20:38:53.002441Z",
     "iopub.status.idle": "2024-12-14T20:38:53.003671Z",
     "shell.execute_reply": "2024-12-14T20:38:53.003529Z"
    },
    "papermill": {
     "duration": 0.003515,
     "end_time": "2024-12-14T20:38:53.003977",
     "exception": false,
     "start_time": "2024-12-14T20:38:53.000462",
     "status": "completed"
    },
    "tags": []
   },
   "outputs": [],
   "source": [
    "output_root = Path(\"runs\")"
   ]
  },
  {
   "cell_type": "code",
   "execution_count": 7,
   "id": "291fdc84",
   "metadata": {
    "execution": {
     "iopub.execute_input": "2024-12-14T20:38:53.006643Z",
     "iopub.status.busy": "2024-12-14T20:38:53.006529Z",
     "iopub.status.idle": "2024-12-14T20:38:53.007912Z",
     "shell.execute_reply": "2024-12-14T20:38:53.007763Z"
    },
    "papermill": {
     "duration": 0.003036,
     "end_time": "2024-12-14T20:38:53.008197",
     "exception": false,
     "start_time": "2024-12-14T20:38:53.005161",
     "status": "completed"
    },
    "tags": []
   },
   "outputs": [],
   "source": [
    "dirs = [fld for fld in output_root.glob(f'{dataset}-*')]"
   ]
  },
  {
   "cell_type": "code",
   "execution_count": 8,
   "id": "e47fe658",
   "metadata": {
    "execution": {
     "iopub.execute_input": "2024-12-14T20:38:53.010813Z",
     "iopub.status.busy": "2024-12-14T20:38:53.010701Z",
     "iopub.status.idle": "2024-12-14T20:38:53.098877Z",
     "shell.execute_reply": "2024-12-14T20:38:53.098579Z"
    },
    "papermill": {
     "duration": 0.090294,
     "end_time": "2024-12-14T20:38:53.099679",
     "exception": false,
     "start_time": "2024-12-14T20:38:53.009385",
     "status": "completed"
    },
    "tags": []
   },
   "outputs": [],
   "source": [
    "recs = ItemListCollection(['model', 'user_id'], index=False)\n",
    "for fld in dirs:\n",
    "    for file in fld.glob(\"recs-*\"):\n",
    "        rec = ItemListCollection.load_parquet(file)\n",
    "        recs.add_from(rec, model=fld.name.split(\"-\")[1])"
   ]
  },
  {
   "cell_type": "code",
   "execution_count": 9,
   "id": "36d675e6",
   "metadata": {
    "execution": {
     "iopub.execute_input": "2024-12-14T20:38:53.103091Z",
     "iopub.status.busy": "2024-12-14T20:38:53.102969Z",
     "iopub.status.idle": "2024-12-14T20:38:53.105914Z",
     "shell.execute_reply": "2024-12-14T20:38:53.105752Z"
    },
    "papermill": {
     "duration": 0.004994,
     "end_time": "2024-12-14T20:38:53.106202",
     "exception": false,
     "start_time": "2024-12-14T20:38:53.101208",
     "status": "completed"
    },
    "tags": []
   },
   "outputs": [
    {
     "data": {
      "text/plain": [
       "['ALS', 'Bias', 'IALS', 'IIE', 'III', 'Pop']"
      ]
     },
     "execution_count": 9,
     "metadata": {},
     "output_type": "execute_result"
    }
   ],
   "source": [
    "rec_algos = sorted(set(a for (a, _u) in recs.keys()))\n",
    "rec_algos"
   ]
  },
  {
   "cell_type": "code",
   "execution_count": 10,
   "id": "530bbfda",
   "metadata": {
    "execution": {
     "iopub.execute_input": "2024-12-14T20:38:53.109121Z",
     "iopub.status.busy": "2024-12-14T20:38:53.109000Z",
     "iopub.status.idle": "2024-12-14T20:38:53.217490Z",
     "shell.execute_reply": "2024-12-14T20:38:53.217212Z"
    },
    "papermill": {
     "duration": 0.110813,
     "end_time": "2024-12-14T20:38:53.218278",
     "exception": false,
     "start_time": "2024-12-14T20:38:53.107465",
     "status": "completed"
    },
    "tags": []
   },
   "outputs": [],
   "source": [
    "preds = ItemListCollection(['model', 'user_id'], index=False)\n",
    "for fld in dirs:\n",
    "    for file in fld.glob(\"pred-*\"):\n",
    "        pred = ItemListCollection.load_parquet(file)\n",
    "        preds.add_from(pred, model=fld.name.split(\"-\")[1])"
   ]
  },
  {
   "cell_type": "markdown",
   "id": "737fbf6f",
   "metadata": {
    "papermill": {
     "duration": 0.009201,
     "end_time": "2024-12-14T20:38:53.228919",
     "exception": false,
     "start_time": "2024-12-14T20:38:53.219718",
     "status": "completed"
    },
    "tags": []
   },
   "source": [
    "We need to load the test data so that we have the ground truths for computing accuracy"
   ]
  },
  {
   "cell_type": "code",
   "execution_count": 11,
   "id": "094c6750",
   "metadata": {
    "execution": {
     "iopub.execute_input": "2024-12-14T20:38:53.232065Z",
     "iopub.status.busy": "2024-12-14T20:38:53.231954Z",
     "iopub.status.idle": "2024-12-14T20:38:53.233457Z",
     "shell.execute_reply": "2024-12-14T20:38:53.233290Z"
    },
    "papermill": {
     "duration": 0.003576,
     "end_time": "2024-12-14T20:38:53.233872",
     "exception": false,
     "start_time": "2024-12-14T20:38:53.230296",
     "status": "completed"
    },
    "tags": []
   },
   "outputs": [],
   "source": [
    "split_root = Path(\"data-split\")\n",
    "split_dir = split_root / dataset"
   ]
  },
  {
   "cell_type": "code",
   "execution_count": 12,
   "id": "b6b27b83",
   "metadata": {
    "execution": {
     "iopub.execute_input": "2024-12-14T20:38:53.236824Z",
     "iopub.status.busy": "2024-12-14T20:38:53.236757Z",
     "iopub.status.idle": "2024-12-14T20:38:53.280132Z",
     "shell.execute_reply": "2024-12-14T20:38:53.279774Z"
    },
    "papermill": {
     "duration": 0.045608,
     "end_time": "2024-12-14T20:38:53.280782",
     "exception": false,
     "start_time": "2024-12-14T20:38:53.235174",
     "status": "completed"
    },
    "tags": []
   },
   "outputs": [],
   "source": [
    "test = ItemListCollection(UserIDKey)\n",
    "for file in split_dir.glob(\"test-*.parquet\"):\n",
    "    df = pd.read_parquet(file)\n",
    "    part = ItemListCollection.from_df(df, UserIDKey)\n",
    "    test.add_from(part)"
   ]
  },
  {
   "cell_type": "markdown",
   "id": "fed8bea2",
   "metadata": {
    "papermill": {
     "duration": 0.001218,
     "end_time": "2024-12-14T20:38:53.283333",
     "exception": false,
     "start_time": "2024-12-14T20:38:53.282115",
     "status": "completed"
    },
    "tags": []
   },
   "source": [
    "## Top-N Metrics\n",
    "\n",
    "`RunListAnalysis` computes metrics for recommendation results and takes care of\n",
    "matching recommendations and ground truth."
   ]
  },
  {
   "cell_type": "code",
   "execution_count": 13,
   "id": "7b68ce95",
   "metadata": {
    "execution": {
     "iopub.execute_input": "2024-12-14T20:38:53.286396Z",
     "iopub.status.busy": "2024-12-14T20:38:53.286213Z",
     "iopub.status.idle": "2024-12-14T20:38:53.688727Z",
     "shell.execute_reply": "2024-12-14T20:38:53.688489Z"
    },
    "papermill": {
     "duration": 0.404744,
     "end_time": "2024-12-14T20:38:53.689358",
     "exception": false,
     "start_time": "2024-12-14T20:38:53.284614",
     "status": "completed"
    },
    "tags": []
   },
   "outputs": [
    {
     "name": "stderr",
     "output_type": "stream",
     "text": [
      "/home/mde48/lenskit/lk-demo-experiment/.pixi/envs/cuda/lib/python3.12/site-packages/lenskit/metrics/bulk.py:116: FutureWarning: The previous implementation of stack is deprecated and will be removed in a future version of pandas. See the What's New notes for pandas 2.1.0 for details. Specify future_stack=True to adopt the new implementation and silence this warning.\n",
      "  df = scores.groupby(list(keys)).agg([\"mean\", \"median\", \"std\"]).stack(level=0)\n"
     ]
    },
    {
     "data": {
      "text/html": [
       "<div>\n",
       "<style scoped>\n",
       "    .dataframe tbody tr th:only-of-type {\n",
       "        vertical-align: middle;\n",
       "    }\n",
       "\n",
       "    .dataframe tbody tr th {\n",
       "        vertical-align: top;\n",
       "    }\n",
       "\n",
       "    .dataframe thead th {\n",
       "        text-align: right;\n",
       "    }\n",
       "</style>\n",
       "<table border=\"1\" class=\"dataframe\">\n",
       "  <thead>\n",
       "    <tr style=\"text-align: right;\">\n",
       "      <th></th>\n",
       "      <th></th>\n",
       "      <th>mean</th>\n",
       "      <th>median</th>\n",
       "      <th>std</th>\n",
       "    </tr>\n",
       "    <tr>\n",
       "      <th>model</th>\n",
       "      <th></th>\n",
       "      <th></th>\n",
       "      <th></th>\n",
       "      <th></th>\n",
       "    </tr>\n",
       "  </thead>\n",
       "  <tbody>\n",
       "    <tr>\n",
       "      <th rowspan=\"3\" valign=\"top\">ALS</th>\n",
       "      <th>NDCG</th>\n",
       "      <td>0.077773</td>\n",
       "      <td>5.000654e-02</td>\n",
       "      <td>0.092587</td>\n",
       "    </tr>\n",
       "    <tr>\n",
       "      <th>RBP</th>\n",
       "      <td>0.024453</td>\n",
       "      <td>6.938894e-18</td>\n",
       "      <td>0.093874</td>\n",
       "    </tr>\n",
       "    <tr>\n",
       "      <th>RecipRank</th>\n",
       "      <td>0.077801</td>\n",
       "      <td>1.754386e-02</td>\n",
       "      <td>0.181314</td>\n",
       "    </tr>\n",
       "    <tr>\n",
       "      <th rowspan=\"3\" valign=\"top\">Bias</th>\n",
       "      <th>NDCG</th>\n",
       "      <td>0.077457</td>\n",
       "      <td>5.312220e-02</td>\n",
       "      <td>0.090349</td>\n",
       "    </tr>\n",
       "    <tr>\n",
       "      <th>RBP</th>\n",
       "      <td>0.016942</td>\n",
       "      <td>1.776357e-15</td>\n",
       "      <td>0.073437</td>\n",
       "    </tr>\n",
       "    <tr>\n",
       "      <th>RecipRank</th>\n",
       "      <td>0.068016</td>\n",
       "      <td>2.040816e-02</td>\n",
       "      <td>0.147820</td>\n",
       "    </tr>\n",
       "    <tr>\n",
       "      <th rowspan=\"3\" valign=\"top\">IALS</th>\n",
       "      <th>NDCG</th>\n",
       "      <td>0.294280</td>\n",
       "      <td>2.579722e-01</td>\n",
       "      <td>0.174189</td>\n",
       "    </tr>\n",
       "    <tr>\n",
       "      <th>RBP</th>\n",
       "      <td>0.113372</td>\n",
       "      <td>7.812619e-03</td>\n",
       "      <td>0.197215</td>\n",
       "    </tr>\n",
       "    <tr>\n",
       "      <th>RecipRank</th>\n",
       "      <td>0.260056</td>\n",
       "      <td>1.428571e-01</td>\n",
       "      <td>0.302162</td>\n",
       "    </tr>\n",
       "    <tr>\n",
       "      <th rowspan=\"3\" valign=\"top\">IIE</th>\n",
       "      <th>NDCG</th>\n",
       "      <td>0.057488</td>\n",
       "      <td>4.467052e-02</td>\n",
       "      <td>0.070846</td>\n",
       "    </tr>\n",
       "    <tr>\n",
       "      <th>RBP</th>\n",
       "      <td>0.007631</td>\n",
       "      <td>8.271806e-25</td>\n",
       "      <td>0.049530</td>\n",
       "    </tr>\n",
       "    <tr>\n",
       "      <th>RecipRank</th>\n",
       "      <td>0.039690</td>\n",
       "      <td>1.250000e-02</td>\n",
       "      <td>0.104957</td>\n",
       "    </tr>\n",
       "    <tr>\n",
       "      <th rowspan=\"3\" valign=\"top\">III</th>\n",
       "      <th>NDCG</th>\n",
       "      <td>0.291569</td>\n",
       "      <td>2.521752e-01</td>\n",
       "      <td>0.193535</td>\n",
       "    </tr>\n",
       "    <tr>\n",
       "      <th>RBP</th>\n",
       "      <td>0.185973</td>\n",
       "      <td>3.125004e-02</td>\n",
       "      <td>0.246712</td>\n",
       "    </tr>\n",
       "    <tr>\n",
       "      <th>RecipRank</th>\n",
       "      <td>0.366979</td>\n",
       "      <td>2.000000e-01</td>\n",
       "      <td>0.378522</td>\n",
       "    </tr>\n",
       "    <tr>\n",
       "      <th rowspan=\"3\" valign=\"top\">Pop</th>\n",
       "      <th>NDCG</th>\n",
       "      <td>0.187684</td>\n",
       "      <td>1.560404e-01</td>\n",
       "      <td>0.139955</td>\n",
       "    </tr>\n",
       "    <tr>\n",
       "      <th>RBP</th>\n",
       "      <td>0.081261</td>\n",
       "      <td>4.882812e-04</td>\n",
       "      <td>0.163514</td>\n",
       "    </tr>\n",
       "    <tr>\n",
       "      <th>RecipRank</th>\n",
       "      <td>0.207395</td>\n",
       "      <td>9.090909e-02</td>\n",
       "      <td>0.285323</td>\n",
       "    </tr>\n",
       "  </tbody>\n",
       "</table>\n",
       "</div>"
      ],
      "text/plain": [
       "                     mean        median       std\n",
       "model                                            \n",
       "ALS   NDCG       0.077773  5.000654e-02  0.092587\n",
       "      RBP        0.024453  6.938894e-18  0.093874\n",
       "      RecipRank  0.077801  1.754386e-02  0.181314\n",
       "Bias  NDCG       0.077457  5.312220e-02  0.090349\n",
       "      RBP        0.016942  1.776357e-15  0.073437\n",
       "      RecipRank  0.068016  2.040816e-02  0.147820\n",
       "IALS  NDCG       0.294280  2.579722e-01  0.174189\n",
       "      RBP        0.113372  7.812619e-03  0.197215\n",
       "      RecipRank  0.260056  1.428571e-01  0.302162\n",
       "IIE   NDCG       0.057488  4.467052e-02  0.070846\n",
       "      RBP        0.007631  8.271806e-25  0.049530\n",
       "      RecipRank  0.039690  1.250000e-02  0.104957\n",
       "III   NDCG       0.291569  2.521752e-01  0.193535\n",
       "      RBP        0.185973  3.125004e-02  0.246712\n",
       "      RecipRank  0.366979  2.000000e-01  0.378522\n",
       "Pop   NDCG       0.187684  1.560404e-01  0.139955\n",
       "      RBP        0.081261  4.882812e-04  0.163514\n",
       "      RecipRank  0.207395  9.090909e-02  0.285323"
      ]
     },
     "execution_count": 13,
     "metadata": {},
     "output_type": "execute_result"
    }
   ],
   "source": [
    "ra = RunAnalysis()\n",
    "\n",
    "ra.add_metric(NDCG())\n",
    "ra.add_metric(RecipRank())\n",
    "ra.add_metric(RBP())\n",
    "\n",
    "rec_results = ra.compute(recs, test)\n",
    "rec_results.list_summary('model')"
   ]
  },
  {
   "cell_type": "markdown",
   "id": "8cba4e78",
   "metadata": {
    "papermill": {
     "duration": 0.009071,
     "end_time": "2024-12-14T20:38:53.699995",
     "exception": false,
     "start_time": "2024-12-14T20:38:53.690924",
     "status": "completed"
    },
    "tags": []
   },
   "source": [
    "We can reshape the list metrics and plot them:"
   ]
  },
  {
   "cell_type": "code",
   "execution_count": 14,
   "id": "238604c3",
   "metadata": {
    "execution": {
     "iopub.execute_input": "2024-12-14T20:38:53.703486Z",
     "iopub.status.busy": "2024-12-14T20:38:53.703267Z",
     "iopub.status.idle": "2024-12-14T20:38:54.035314Z",
     "shell.execute_reply": "2024-12-14T20:38:54.035061Z"
    },
    "papermill": {
     "duration": 0.33457,
     "end_time": "2024-12-14T20:38:54.035975",
     "exception": false,
     "start_time": "2024-12-14T20:38:53.701405",
     "status": "completed"
    },
    "tags": []
   },
   "outputs": [
    {
     "data": {
      "image/png": "[encoded data removed]",
      "text/plain": [
       "<Figure size 1511.11x500 with 3 Axes>"
      ]
     },
     "metadata": {},
     "output_type": "display_data"
    }
   ],
   "source": [
    "metrics = rec_results.list_metrics()\n",
    "metrics = metrics.melt(var_name='metric', ignore_index=False).reset_index()\n",
    "sns.catplot(metrics, x='model', y='value', col='metric', kind='bar')\n",
    "plt.show()"
   ]
  },
  {
   "cell_type": "markdown",
   "id": "d6f202d4",
   "metadata": {
    "papermill": {
     "duration": 0.008925,
     "end_time": "2024-12-14T20:38:54.046646",
     "exception": false,
     "start_time": "2024-12-14T20:38:54.037721",
     "status": "completed"
    },
    "tags": []
   },
   "source": [
    "## Prediction RMSE\n",
    "\n",
    "We will also look at the prediction RMSE."
   ]
  },
  {
   "cell_type": "code",
   "execution_count": 15,
   "id": "c78c5ff6",
   "metadata": {
    "execution": {
     "iopub.execute_input": "2024-12-14T20:38:54.049943Z",
     "iopub.status.busy": "2024-12-14T20:38:54.049865Z",
     "iopub.status.idle": "2024-12-14T20:38:54.984157Z",
     "shell.execute_reply": "2024-12-14T20:38:54.983915Z"
    },
    "papermill": {
     "duration": 0.936662,
     "end_time": "2024-12-14T20:38:54.984811",
     "exception": false,
     "start_time": "2024-12-14T20:38:54.048149",
     "status": "completed"
    },
    "tags": []
   },
   "outputs": [
    {
     "name": "stderr",
     "output_type": "stream",
     "text": [
      "/home/mde48/lenskit/lk-demo-experiment/.pixi/envs/cuda/lib/python3.12/site-packages/lenskit/metrics/bulk.py:116: FutureWarning: The previous implementation of stack is deprecated and will be removed in a future version of pandas. See the What's New notes for pandas 2.1.0 for details. Specify future_stack=True to adopt the new implementation and silence this warning.\n",
      "  df = scores.groupby(list(keys)).agg([\"mean\", \"median\", \"std\"]).stack(level=0)\n"
     ]
    },
    {
     "data": {
      "text/html": [
       "<div>\n",
       "<style scoped>\n",
       "    .dataframe tbody tr th:only-of-type {\n",
       "        vertical-align: middle;\n",
       "    }\n",
       "\n",
       "    .dataframe tbody tr th {\n",
       "        vertical-align: top;\n",
       "    }\n",
       "\n",
       "    .dataframe thead th {\n",
       "        text-align: right;\n",
       "    }\n",
       "</style>\n",
       "<table border=\"1\" class=\"dataframe\">\n",
       "  <thead>\n",
       "    <tr style=\"text-align: right;\">\n",
       "      <th></th>\n",
       "      <th></th>\n",
       "      <th>mean</th>\n",
       "      <th>median</th>\n",
       "      <th>std</th>\n",
       "    </tr>\n",
       "    <tr>\n",
       "      <th>model</th>\n",
       "      <th></th>\n",
       "      <th></th>\n",
       "      <th></th>\n",
       "      <th></th>\n",
       "    </tr>\n",
       "  </thead>\n",
       "  <tbody>\n",
       "    <tr>\n",
       "      <th>ALS</th>\n",
       "      <th>RMSE</th>\n",
       "      <td>0.883805</td>\n",
       "      <td>0.831470</td>\n",
       "      <td>0.336939</td>\n",
       "    </tr>\n",
       "    <tr>\n",
       "      <th>Bias</th>\n",
       "      <th>RMSE</th>\n",
       "      <td>0.909377</td>\n",
       "      <td>0.867472</td>\n",
       "      <td>0.344338</td>\n",
       "    </tr>\n",
       "    <tr>\n",
       "      <th>IIE</th>\n",
       "      <th>RMSE</th>\n",
       "      <td>0.876274</td>\n",
       "      <td>0.829409</td>\n",
       "      <td>0.345672</td>\n",
       "    </tr>\n",
       "  </tbody>\n",
       "</table>\n",
       "</div>"
      ],
      "text/plain": [
       "                mean    median       std\n",
       "model                                   \n",
       "ALS   RMSE  0.883805  0.831470  0.336939\n",
       "Bias  RMSE  0.909377  0.867472  0.344338\n",
       "IIE   RMSE  0.876274  0.829409  0.345672"
      ]
     },
     "execution_count": 15,
     "metadata": {},
     "output_type": "execute_result"
    }
   ],
   "source": [
    "pa = RunAnalysis()\n",
    "\n",
    "pa.add_metric(RMSE(missing_scores='ignore', missing_truth='ignore'))\n",
    "\n",
    "pred_results = pa.compute(preds, test)\n",
    "pred_results.list_summary('model')"
   ]
  },
  {
   "cell_type": "code",
   "execution_count": 16,
   "id": "929287d6",
   "metadata": {
    "execution": {
     "iopub.execute_input": "2024-12-14T20:38:54.996287Z",
     "iopub.status.busy": "2024-12-14T20:38:54.996191Z",
     "iopub.status.idle": "2024-12-14T20:38:55.070497Z",
     "shell.execute_reply": "2024-12-14T20:38:55.070338Z"
    },
    "papermill": {
     "duration": 0.0845,
     "end_time": "2024-12-14T20:38:55.071042",
     "exception": false,
     "start_time": "2024-12-14T20:38:54.986542",
     "status": "completed"
    },
    "tags": []
   },
   "outputs": [
    {
     "data": {
      "image/png": "[encoded data removed]",
      "text/plain": [
       "<Figure size 511.111x500 with 1 Axes>"
      ]
     },
     "metadata": {},
     "output_type": "display_data"
    }
   ],
   "source": [
    "sns.catplot(pred_results.list_metrics().reset_index(), x='model', y='RMSE', kind='bar')\n",
    "plt.show()"
   ]
  },
  {
   "cell_type": "markdown",
   "id": "0caac7ca",
   "metadata": {
    "papermill": {
     "duration": 0.001555,
     "end_time": "2024-12-14T20:38:55.074290",
     "exception": false,
     "start_time": "2024-12-14T20:38:55.072735",
     "status": "completed"
    },
    "tags": []
   },
   "source": [
    "## Save Metrics\n",
    "\n",
    "We'll now save the metrics to a file."
   ]
  },
  {
   "cell_type": "code",
   "execution_count": 17,
   "id": "4e43b021",
   "metadata": {
    "execution": {
     "iopub.execute_input": "2024-12-14T20:38:55.077906Z",
     "iopub.status.busy": "2024-12-14T20:38:55.077835Z",
     "iopub.status.idle": "2024-12-14T20:38:55.084213Z",
     "shell.execute_reply": "2024-12-14T20:38:55.084072Z"
    },
    "papermill": {
     "duration": 0.00874,
     "end_time": "2024-12-14T20:38:55.084587",
     "exception": false,
     "start_time": "2024-12-14T20:38:55.075847",
     "status": "completed"
    },
    "tags": []
   },
   "outputs": [
    {
     "name": "stderr",
     "output_type": "stream",
     "text": [
      "/home/mde48/lenskit/lk-demo-experiment/.pixi/envs/cuda/lib/python3.12/site-packages/lenskit/metrics/bulk.py:116: FutureWarning: The previous implementation of stack is deprecated and will be removed in a future version of pandas. See the What's New notes for pandas 2.1.0 for details. Specify future_stack=True to adopt the new implementation and silence this warning.\n",
      "  df = scores.groupby(list(keys)).agg([\"mean\", \"median\", \"std\"]).stack(level=0)\n"
     ]
    },
    {
     "data": {
      "text/html": [
       "<div>\n",
       "<style scoped>\n",
       "    .dataframe tbody tr th:only-of-type {\n",
       "        vertical-align: middle;\n",
       "    }\n",
       "\n",
       "    .dataframe tbody tr th {\n",
       "        vertical-align: top;\n",
       "    }\n",
       "\n",
       "    .dataframe thead th {\n",
       "        text-align: right;\n",
       "    }\n",
       "</style>\n",
       "<table border=\"1\" class=\"dataframe\">\n",
       "  <thead>\n",
       "    <tr style=\"text-align: right;\">\n",
       "      <th></th>\n",
       "      <th>NDCG</th>\n",
       "      <th>RBP</th>\n",
       "      <th>RecipRank</th>\n",
       "    </tr>\n",
       "    <tr>\n",
       "      <th>model</th>\n",
       "      <th></th>\n",
       "      <th></th>\n",
       "      <th></th>\n",
       "    </tr>\n",
       "  </thead>\n",
       "  <tbody>\n",
       "    <tr>\n",
       "      <th>ALS</th>\n",
       "      <td>0.077773</td>\n",
       "      <td>0.024453</td>\n",
       "      <td>0.077801</td>\n",
       "    </tr>\n",
       "    <tr>\n",
       "      <th>Bias</th>\n",
       "      <td>0.077457</td>\n",
       "      <td>0.016942</td>\n",
       "      <td>0.068016</td>\n",
       "    </tr>\n",
       "    <tr>\n",
       "      <th>IALS</th>\n",
       "      <td>0.294280</td>\n",
       "      <td>0.113372</td>\n",
       "      <td>0.260056</td>\n",
       "    </tr>\n",
       "    <tr>\n",
       "      <th>IIE</th>\n",
       "      <td>0.057488</td>\n",
       "      <td>0.007631</td>\n",
       "      <td>0.039690</td>\n",
       "    </tr>\n",
       "    <tr>\n",
       "      <th>III</th>\n",
       "      <td>0.291569</td>\n",
       "      <td>0.185973</td>\n",
       "      <td>0.366979</td>\n",
       "    </tr>\n",
       "    <tr>\n",
       "      <th>Pop</th>\n",
       "      <td>0.187684</td>\n",
       "      <td>0.081261</td>\n",
       "      <td>0.207395</td>\n",
       "    </tr>\n",
       "  </tbody>\n",
       "</table>\n",
       "</div>"
      ],
      "text/plain": [
       "           NDCG       RBP  RecipRank\n",
       "model                               \n",
       "ALS    0.077773  0.024453   0.077801\n",
       "Bias   0.077457  0.016942   0.068016\n",
       "IALS   0.294280  0.113372   0.260056\n",
       "IIE    0.057488  0.007631   0.039690\n",
       "III    0.291569  0.185973   0.366979\n",
       "Pop    0.187684  0.081261   0.207395"
      ]
     },
     "execution_count": 17,
     "metadata": {},
     "output_type": "execute_result"
    }
   ],
   "source": [
    "rlsum = rec_results.list_summary('model')['mean'].unstack()\n",
    "rlsum"
   ]
  },
  {
   "cell_type": "code",
   "execution_count": 18,
   "id": "cae53f67",
   "metadata": {
    "execution": {
     "iopub.execute_input": "2024-12-14T20:38:55.088269Z",
     "iopub.status.busy": "2024-12-14T20:38:55.088200Z",
     "iopub.status.idle": "2024-12-14T20:38:55.090326Z",
     "shell.execute_reply": "2024-12-14T20:38:55.090175Z"
    },
    "papermill": {
     "duration": 0.004558,
     "end_time": "2024-12-14T20:38:55.090793",
     "exception": false,
     "start_time": "2024-12-14T20:38:55.086235",
     "status": "completed"
    },
    "tags": []
   },
   "outputs": [],
   "source": [
    "rlsum.to_json(f'eval-metrics.{dataset}.json', orient='index')"
   ]
  }
 ],
 "metadata": {
  "jupytext": {
   "formats": "ipynb,md",
   "notebook_metadata_filter": "split_at_heading"
  },
  "kernelspec": {
   "display_name": "Python 3 (ipykernel)",
   "language": "python",
   "name": "python3"
  },
  "language_info": {
   "codemirror_mode": {
    "name": "ipython",
    "version": 3
   },
   "file_extension": ".py",
   "mimetype": "text/x-python",
   "name": "python",
   "nbconvert_exporter": "python",
   "pygments_lexer": "ipython3",
   "version": "3.12.8"
  },
  "papermill": {
   "default_parameters": {},
   "duration": 4.260737,
   "end_time": "2024-12-14T20:38:55.507403",
   "environment_variables": {},
   "exception": null,
   "input_path": "eval-report.ipynb",
   "output_path": "eval-report.ml100k.ipynb",
   "parameters": {
    "dataset": "ml100k"
   },
   "start_time": "2024-12-14T20:38:51.246666",
   "version": "2.6.0"
  },
  "split_at_heading": true
 },
 "nbformat": 4,
 "nbformat_minor": 5
}