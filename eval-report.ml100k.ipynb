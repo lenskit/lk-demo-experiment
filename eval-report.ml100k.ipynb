{
 "cells": [
  {
   "cell_type": "markdown",
   "id": "7c11e818",
   "metadata": {
    "papermill": {
     "duration": 0.071413,
     "end_time": "2021-12-08T22:13:50.239580",
     "exception": false,
     "start_time": "2021-12-08T22:13:50.168167",
     "status": "completed"
    },
    "tags": []
   },
   "source": [
    "# Evaluation Analysis for Recommender Output"
   ]
  },
  {
   "cell_type": "markdown",
   "id": "373bf1e2",
   "metadata": {
    "papermill": {
     "duration": 0.074998,
     "end_time": "2021-12-08T22:13:50.386346",
     "exception": false,
     "start_time": "2021-12-08T22:13:50.311348",
     "status": "completed"
    },
    "tags": []
   },
   "source": [
    "In this section we will analyze and compare the generated recommendations and predictions from a predefined list of algorithms with the goal of assessing the performance of each algorithm with respect to a metric. In other words, we would rank the algorithms for each metric considered with respect to performance."
   ]
  },
  {
   "cell_type": "markdown",
   "id": "83083744",
   "metadata": {
    "papermill": {
     "duration": 0.069998,
     "end_time": "2021-12-08T22:13:50.526684",
     "exception": false,
     "start_time": "2021-12-08T22:13:50.456686",
     "status": "completed"
    },
    "tags": []
   },
   "source": [
    "# Setup"
   ]
  },
  {
   "cell_type": "markdown",
   "id": "f0aa926f",
   "metadata": {
    "papermill": {
     "duration": 0.06867,
     "end_time": "2021-12-08T22:13:50.665355",
     "exception": false,
     "start_time": "2021-12-08T22:13:50.596685",
     "status": "completed"
    },
    "tags": []
   },
   "source": [
    "Below are the list of packages required to successfully run the analysis. They are divided into partitions to signify their specific task.<br>\n",
    "We need the pathlib package for working with files and folders"
   ]
  },
  {
   "cell_type": "code",
   "execution_count": 1,
   "id": "609ece0f",
   "metadata": {
    "execution": {
     "iopub.execute_input": "2021-12-08T22:13:50.815391Z",
     "iopub.status.busy": "2021-12-08T22:13:50.814393Z",
     "iopub.status.idle": "2021-12-08T22:13:50.825421Z",
     "shell.execute_reply": "2021-12-08T22:13:50.825421Z"
    },
    "papermill": {
     "duration": 0.090036,
     "end_time": "2021-12-08T22:13:50.825421",
     "exception": false,
     "start_time": "2021-12-08T22:13:50.735385",
     "status": "completed"
    },
    "tags": []
   },
   "outputs": [],
   "source": [
    "from pathlib import Path"
   ]
  },
  {
   "cell_type": "markdown",
   "id": "a5ca05d6",
   "metadata": {
    "papermill": {
     "duration": 0.072001,
     "end_time": "2021-12-08T22:13:50.969040",
     "exception": false,
     "start_time": "2021-12-08T22:13:50.897039",
     "status": "completed"
    },
    "tags": []
   },
   "source": [
    "We would use the pandas for analyzing and manipulating our data while seaborn and matplotlib are used for data visualization. statsmodels.graphics.gofplots and scipy.stats.shapiro are used for normality check. Scipy.stats.friedmanchisquare is a non-parametric test used to determine the statistical significance in metric results and the wilcoxon test is used for pairwise comparison of sample data."
   ]
  },
  {
   "cell_type": "code",
   "execution_count": 2,
   "id": "b7a6c1b2",
   "metadata": {
    "execution": {
     "iopub.execute_input": "2021-12-08T22:13:51.113039Z",
     "iopub.status.busy": "2021-12-08T22:13:51.113039Z",
     "iopub.status.idle": "2021-12-08T22:13:52.794915Z",
     "shell.execute_reply": "2021-12-08T22:13:52.794915Z"
    },
    "papermill": {
     "duration": 1.754876,
     "end_time": "2021-12-08T22:13:52.794915",
     "exception": false,
     "start_time": "2021-12-08T22:13:51.040039",
     "status": "completed"
    },
    "tags": []
   },
   "outputs": [],
   "source": [
    "import pandas as pd\n",
    "import seaborn as sns\n",
    "import matplotlib.pyplot as plt\n",
    "from statsmodels.graphics.gofplots import qqplot\n",
    "from scipy.stats import shapiro\n",
    "from scipy.stats import friedmanchisquare, wilcoxon\n",
    "from itertools import combinations"
   ]
  },
  {
   "cell_type": "markdown",
   "id": "237188f6",
   "metadata": {
    "papermill": {
     "duration": 0.072683,
     "end_time": "2021-12-08T22:13:52.938595",
     "exception": false,
     "start_time": "2021-12-08T22:13:52.865912",
     "status": "completed"
    },
    "tags": []
   },
   "source": [
    "Logging to show what's happening in LensKit routines:"
   ]
  },
  {
   "cell_type": "code",
   "execution_count": 3,
   "id": "7fc07d1a",
   "metadata": {
    "execution": {
     "iopub.execute_input": "2021-12-08T22:13:53.093621Z",
     "iopub.status.busy": "2021-12-08T22:13:53.092608Z",
     "iopub.status.idle": "2021-12-08T22:13:53.142630Z",
     "shell.execute_reply": "2021-12-08T22:13:53.141612Z"
    },
    "papermill": {
     "duration": 0.129976,
     "end_time": "2021-12-08T22:13:53.142630",
     "exception": false,
     "start_time": "2021-12-08T22:13:53.012654",
     "status": "completed"
    },
    "tags": []
   },
   "outputs": [
    {
     "name": "stdout",
     "output_type": "stream",
     "text": [
      "[   INFO] lenskit.util.log notebook logging configured\n"
     ]
    }
   ],
   "source": [
    "from lenskit import util\n",
    "util.log_to_notebook()"
   ]
  },
  {
   "cell_type": "markdown",
   "id": "75ecb8f2",
   "metadata": {
    "papermill": {
     "duration": 0.07048,
     "end_time": "2021-12-08T22:13:53.294103",
     "exception": false,
     "start_time": "2021-12-08T22:13:53.223623",
     "status": "completed"
    },
    "tags": []
   },
   "source": [
    "We will use lenskit for training, running, and evaluating recommender algorithms"
   ]
  },
  {
   "cell_type": "code",
   "execution_count": 4,
   "id": "4514c25b",
   "metadata": {
    "execution": {
     "iopub.execute_input": "2021-12-08T22:13:53.446108Z",
     "iopub.status.busy": "2021-12-08T22:13:53.445108Z",
     "iopub.status.idle": "2021-12-08T22:13:53.453743Z",
     "shell.execute_reply": "2021-12-08T22:13:53.453743Z"
    },
    "papermill": {
     "duration": 0.088605,
     "end_time": "2021-12-08T22:13:53.453743",
     "exception": false,
     "start_time": "2021-12-08T22:13:53.365138",
     "status": "completed"
    },
    "tags": []
   },
   "outputs": [],
   "source": [
    "from lenskit import topn\n",
    "from lenskit.metrics.predict import rmse"
   ]
  },
  {
   "cell_type": "markdown",
   "id": "67af1f8e",
   "metadata": {
    "papermill": {
     "duration": 0.073637,
     "end_time": "2021-12-08T22:13:53.611387",
     "exception": false,
     "start_time": "2021-12-08T22:13:53.537750",
     "status": "completed"
    },
    "tags": []
   },
   "source": [
    "# Load Data"
   ]
  },
  {
   "cell_type": "markdown",
   "id": "ab540ce1",
   "metadata": {
    "papermill": {
     "duration": 0.084032,
     "end_time": "2021-12-08T22:13:53.768420",
     "exception": false,
     "start_time": "2021-12-08T22:13:53.684388",
     "status": "completed"
    },
    "tags": []
   },
   "source": [
    "We specify the dataset we will use for our analysis and the main directory from where we read the recommendation and prediction files. From the main directory we find all the directories associated with the dataset and then read the recommendation and predictions files from those directories."
   ]
  },
  {
   "cell_type": "code",
   "execution_count": 5,
   "id": "f19dcd2e",
   "metadata": {
    "execution": {
     "iopub.execute_input": "2021-12-08T22:13:53.916415Z",
     "iopub.status.busy": "2021-12-08T22:13:53.916415Z",
     "iopub.status.idle": "2021-12-08T22:13:53.920017Z",
     "shell.execute_reply": "2021-12-08T22:13:53.921068Z"
    },
    "papermill": {
     "duration": 0.079662,
     "end_time": "2021-12-08T22:13:53.921068",
     "exception": false,
     "start_time": "2021-12-08T22:13:53.841406",
     "status": "completed"
    },
    "tags": [
     "parameters"
    ]
   },
   "outputs": [],
   "source": [
    "dataset = \"ml10m\""
   ]
  },
  {
   "cell_type": "code",
   "execution_count": 6,
   "id": "61a09ed6",
   "metadata": {
    "execution": {
     "iopub.execute_input": "2021-12-08T22:13:54.071069Z",
     "iopub.status.busy": "2021-12-08T22:13:54.070077Z",
     "iopub.status.idle": "2021-12-08T22:13:54.077039Z",
     "shell.execute_reply": "2021-12-08T22:13:54.077039Z"
    },
    "papermill": {
     "duration": 0.081968,
     "end_time": "2021-12-08T22:13:54.077039",
     "exception": false,
     "start_time": "2021-12-08T22:13:53.995071",
     "status": "completed"
    },
    "tags": [
     "injected-parameters"
    ]
   },
   "outputs": [],
   "source": [
    "# Parameters\n",
    "dataset = \"ml100k\"\n"
   ]
  },
  {
   "cell_type": "code",
   "execution_count": 7,
   "id": "e1043011",
   "metadata": {
    "execution": {
     "iopub.execute_input": "2021-12-08T22:13:54.245066Z",
     "iopub.status.busy": "2021-12-08T22:13:54.244067Z",
     "iopub.status.idle": "2021-12-08T22:13:54.251035Z",
     "shell.execute_reply": "2021-12-08T22:13:54.251035Z"
    },
    "papermill": {
     "duration": 0.096,
     "end_time": "2021-12-08T22:13:54.251035",
     "exception": false,
     "start_time": "2021-12-08T22:13:54.155035",
     "status": "completed"
    },
    "tags": []
   },
   "outputs": [],
   "source": [
    "output_root = Path(\"runs\")"
   ]
  },
  {
   "cell_type": "code",
   "execution_count": 8,
   "id": "259c4e70",
   "metadata": {
    "execution": {
     "iopub.execute_input": "2021-12-08T22:13:54.431430Z",
     "iopub.status.busy": "2021-12-08T22:13:54.430398Z",
     "iopub.status.idle": "2021-12-08T22:13:54.436401Z",
     "shell.execute_reply": "2021-12-08T22:13:54.436401Z"
    },
    "papermill": {
     "duration": 0.096001,
     "end_time": "2021-12-08T22:13:54.436401",
     "exception": false,
     "start_time": "2021-12-08T22:13:54.340400",
     "status": "completed"
    },
    "tags": []
   },
   "outputs": [],
   "source": [
    "dirs = [fld for fld in output_root.glob(f'{dataset}-*')]"
   ]
  },
  {
   "cell_type": "code",
   "execution_count": 9,
   "id": "b7227d57",
   "metadata": {
    "execution": {
     "iopub.execute_input": "2021-12-08T22:13:54.586066Z",
     "iopub.status.busy": "2021-12-08T22:13:54.586066Z",
     "iopub.status.idle": "2021-12-08T22:13:55.107450Z",
     "shell.execute_reply": "2021-12-08T22:13:55.106449Z"
    },
    "papermill": {
     "duration": 0.598383,
     "end_time": "2021-12-08T22:13:55.107450",
     "exception": false,
     "start_time": "2021-12-08T22:13:54.509067",
     "status": "completed"
    },
    "tags": []
   },
   "outputs": [
    {
     "name": "stdout",
     "output_type": "stream",
     "text": [
      "<class 'pandas.core.frame.DataFrame'>\n",
      "RangeIndex: 754400 entries, 0 to 754399\n",
      "Data columns (total 5 columns):\n",
      " #   Column     Non-Null Count   Dtype   \n",
      "---  ------     --------------   -----   \n",
      " 0   item       754400 non-null  int64   \n",
      " 1   score      754400 non-null  float64 \n",
      " 2   user       754400 non-null  int64   \n",
      " 3   rank       754400 non-null  int64   \n",
      " 4   algorithm  754400 non-null  category\n",
      "dtypes: category(1), float64(1), int64(3)\n",
      "memory usage: 23.7 MB\n"
     ]
    }
   ],
   "source": [
    "recs = []\n",
    "for fld in dirs: \n",
    "    for file in fld.glob(\"recs-*\"):\n",
    "        rec = pd.read_csv(file, sep=',')\n",
    "        rec[\"algorithm\"] = fld.name.split(\"-\")[1]\n",
    "        recs.append(rec)\n",
    "\n",
    "recs = pd.concat(recs, ignore_index=True)\n",
    "recs = recs.astype({'algorithm': 'category'})\n",
    "recs.info()"
   ]
  },
  {
   "cell_type": "code",
   "execution_count": 10,
   "id": "6a142d9e",
   "metadata": {
    "execution": {
     "iopub.execute_input": "2021-12-08T22:13:55.258418Z",
     "iopub.status.busy": "2021-12-08T22:13:55.258418Z",
     "iopub.status.idle": "2021-12-08T22:13:55.280446Z",
     "shell.execute_reply": "2021-12-08T22:13:55.280446Z"
    },
    "papermill": {
     "duration": 0.100999,
     "end_time": "2021-12-08T22:13:55.280446",
     "exception": false,
     "start_time": "2021-12-08T22:13:55.179447",
     "status": "completed"
    },
    "tags": []
   },
   "outputs": [
    {
     "data": {
      "text/plain": [
       "['ALS', 'Bias', 'BPR', 'IALS', 'II', 'Pop', 'TFMF', 'UU']\n",
       "Categories (8, object): ['ALS', 'BPR', 'Bias', 'IALS', 'II', 'Pop', 'TFMF', 'UU']"
      ]
     },
     "execution_count": 10,
     "metadata": {},
     "output_type": "execute_result"
    }
   ],
   "source": [
    "rec_algos = recs['algorithm'].unique()\n",
    "rec_algos"
   ]
  },
  {
   "cell_type": "code",
   "execution_count": 11,
   "id": "e49207dd",
   "metadata": {
    "execution": {
     "iopub.execute_input": "2021-12-08T22:13:55.443956Z",
     "iopub.status.busy": "2021-12-08T22:13:55.443956Z",
     "iopub.status.idle": "2021-12-08T22:13:55.596191Z",
     "shell.execute_reply": "2021-12-08T22:13:55.595159Z"
    },
    "papermill": {
     "duration": 0.235257,
     "end_time": "2021-12-08T22:13:55.596191",
     "exception": false,
     "start_time": "2021-12-08T22:13:55.360934",
     "status": "completed"
    },
    "tags": []
   },
   "outputs": [
    {
     "name": "stdout",
     "output_type": "stream",
     "text": [
      "<class 'pandas.core.frame.DataFrame'>\n",
      "RangeIndex: 28290 entries, 0 to 28289\n",
      "Data columns (total 6 columns):\n",
      " #   Column      Non-Null Count  Dtype   \n",
      "---  ------      --------------  -----   \n",
      " 0   user        28290 non-null  int64   \n",
      " 1   item        28290 non-null  int64   \n",
      " 2   rating      28290 non-null  float64 \n",
      " 3   timestamp   28290 non-null  int64   \n",
      " 4   prediction  28269 non-null  float64 \n",
      " 5   algorithm   28290 non-null  category\n",
      "dtypes: category(1), float64(2), int64(3)\n",
      "memory usage: 1.1 MB\n"
     ]
    }
   ],
   "source": [
    "preds = []\n",
    "for fld in dirs:\n",
    "    for file in fld.glob(\"pred-*\"):\n",
    "        pred = pd.read_csv(file, sep=',')\n",
    "        pred[\"algorithm\"] = fld.name.split(\"-\")[1]\n",
    "        preds.append(pred)\n",
    "\n",
    "preds = pd.concat(preds, ignore_index=True)\n",
    "preds = preds.astype({'algorithm': 'category'})\n",
    "preds.info()"
   ]
  },
  {
   "cell_type": "markdown",
   "id": "47ac2fce",
   "metadata": {
    "papermill": {
     "duration": 0.085032,
     "end_time": "2021-12-08T22:13:55.757195",
     "exception": false,
     "start_time": "2021-12-08T22:13:55.672163",
     "status": "completed"
    },
    "tags": []
   },
   "source": [
    "We need to load the test data so that we have the ground truths for computing accuracy "
   ]
  },
  {
   "cell_type": "code",
   "execution_count": 12,
   "id": "01907a3b",
   "metadata": {
    "execution": {
     "iopub.execute_input": "2021-12-08T22:13:55.914157Z",
     "iopub.status.busy": "2021-12-08T22:13:55.913158Z",
     "iopub.status.idle": "2021-12-08T22:13:55.924159Z",
     "shell.execute_reply": "2021-12-08T22:13:55.925159Z"
    },
    "papermill": {
     "duration": 0.09197,
     "end_time": "2021-12-08T22:13:55.925159",
     "exception": false,
     "start_time": "2021-12-08T22:13:55.833189",
     "status": "completed"
    },
    "tags": []
   },
   "outputs": [],
   "source": [
    "split_root = Path(\"data-split\")\n",
    "split_dir = split_root / dataset"
   ]
  },
  {
   "cell_type": "code",
   "execution_count": 13,
   "id": "0279388d",
   "metadata": {
    "execution": {
     "iopub.execute_input": "2021-12-08T22:13:56.077799Z",
     "iopub.status.busy": "2021-12-08T22:13:56.077799Z",
     "iopub.status.idle": "2021-12-08T22:13:56.100799Z",
     "shell.execute_reply": "2021-12-08T22:13:56.100799Z"
    },
    "papermill": {
     "duration": 0.099998,
     "end_time": "2021-12-08T22:13:56.100799",
     "exception": false,
     "start_time": "2021-12-08T22:13:56.000801",
     "status": "completed"
    },
    "tags": []
   },
   "outputs": [],
   "source": [
    "test = []\n",
    "for file in split_dir.glob(\"test-*.csv.gz\"):\n",
    "    test.append(pd.read_csv(file, sep=','))\n",
    "\n",
    "test = pd.concat(test, ignore_index=True)"
   ]
  },
  {
   "cell_type": "markdown",
   "id": "ecf43b6d",
   "metadata": {
    "papermill": {
     "duration": 0.076997,
     "end_time": "2021-12-08T22:13:56.252829",
     "exception": false,
     "start_time": "2021-12-08T22:13:56.175832",
     "status": "completed"
    },
    "tags": []
   },
   "source": [
    "# Top-N Metrics"
   ]
  },
  {
   "cell_type": "markdown",
   "id": "df73fb50",
   "metadata": {
    "papermill": {
     "duration": 0.079024,
     "end_time": "2021-12-08T22:13:56.412768",
     "exception": false,
     "start_time": "2021-12-08T22:13:56.333744",
     "status": "completed"
    },
    "tags": []
   },
   "source": [
    "The topn.RecListAnalysis class computes top-N metrics for recommendation list and takes care of making sure that the recommendations and ground truths are properly matched. Refer to the documentation for detailed explanation of the purpose for the RecListAnalysis class and how the analysis is done - https://lkpy.lenskit.org/en/stable/evaluation/topn-metrics.html "
   ]
  },
  {
   "cell_type": "code",
   "execution_count": 14,
   "id": "16e6fd9b",
   "metadata": {
    "execution": {
     "iopub.execute_input": "2021-12-08T22:13:56.569514Z",
     "iopub.status.busy": "2021-12-08T22:13:56.568504Z",
     "iopub.status.idle": "2021-12-08T22:13:57.335872Z",
     "shell.execute_reply": "2021-12-08T22:13:57.335304Z"
    },
    "papermill": {
     "duration": 0.847365,
     "end_time": "2021-12-08T22:13:57.335872",
     "exception": false,
     "start_time": "2021-12-08T22:13:56.488507",
     "status": "completed"
    },
    "tags": []
   },
   "outputs": [
    {
     "name": "stdout",
     "output_type": "stream",
     "text": [
      "[   INFO] lenskit.topn analyzing 754400 recommendations (4715 truth rows)\n"
     ]
    },
    {
     "name": "stdout",
     "output_type": "stream",
     "text": [
      "[   INFO] lenskit.topn using rec key columns ['algorithm', 'user']\n"
     ]
    },
    {
     "name": "stdout",
     "output_type": "stream",
     "text": [
      "[   INFO] lenskit.topn using truth key columns ['user']\n"
     ]
    },
    {
     "name": "stdout",
     "output_type": "stream",
     "text": [
      "[   INFO] lenskit.topn numbering truth lists\n"
     ]
    },
    {
     "name": "stdout",
     "output_type": "stream",
     "text": [
      "[   INFO] lenskit.topn numbering rec lists\n"
     ]
    },
    {
     "name": "stdout",
     "output_type": "stream",
     "text": [
      "[   INFO] lenskit.topn collecting metric results\n"
     ]
    },
    {
     "name": "stdout",
     "output_type": "stream",
     "text": [
      "[   INFO] lenskit.topn measured 7544 lists in  484ms\n"
     ]
    },
    {
     "name": "stdout",
     "output_type": "stream",
     "text": [
      "[   INFO] lenskit.topn filling in missing user info (7544 initial rows)\n"
     ]
    },
    {
     "data": {
      "text/html": [
       "<div>\n",
       "<style scoped>\n",
       "    .dataframe tbody tr th:only-of-type {\n",
       "        vertical-align: middle;\n",
       "    }\n",
       "\n",
       "    .dataframe tbody tr th {\n",
       "        vertical-align: top;\n",
       "    }\n",
       "\n",
       "    .dataframe thead th {\n",
       "        text-align: right;\n",
       "    }\n",
       "</style>\n",
       "<table border=\"1\" class=\"dataframe\">\n",
       "  <thead>\n",
       "    <tr style=\"text-align: right;\">\n",
       "      <th></th>\n",
       "      <th></th>\n",
       "      <th>nrecs</th>\n",
       "      <th>precision</th>\n",
       "      <th>recip_rank</th>\n",
       "      <th>ndcg</th>\n",
       "      <th>ntruth</th>\n",
       "    </tr>\n",
       "    <tr>\n",
       "      <th>algorithm</th>\n",
       "      <th>user</th>\n",
       "      <th></th>\n",
       "      <th></th>\n",
       "      <th></th>\n",
       "      <th></th>\n",
       "      <th></th>\n",
       "    </tr>\n",
       "  </thead>\n",
       "  <tbody>\n",
       "    <tr>\n",
       "      <th rowspan=\"5\" valign=\"top\">ALS</th>\n",
       "      <th>1</th>\n",
       "      <td>100</td>\n",
       "      <td>0.01</td>\n",
       "      <td>0.043478</td>\n",
       "      <td>0.072145</td>\n",
       "      <td>5</td>\n",
       "    </tr>\n",
       "    <tr>\n",
       "      <th>9</th>\n",
       "      <td>100</td>\n",
       "      <td>0.01</td>\n",
       "      <td>0.142857</td>\n",
       "      <td>0.090089</td>\n",
       "      <td>5</td>\n",
       "    </tr>\n",
       "    <tr>\n",
       "      <th>11</th>\n",
       "      <td>100</td>\n",
       "      <td>0.01</td>\n",
       "      <td>0.055556</td>\n",
       "      <td>0.067333</td>\n",
       "      <td>5</td>\n",
       "    </tr>\n",
       "    <tr>\n",
       "      <th>15</th>\n",
       "      <td>100</td>\n",
       "      <td>0.00</td>\n",
       "      <td>0.000000</td>\n",
       "      <td>0.000000</td>\n",
       "      <td>5</td>\n",
       "    </tr>\n",
       "    <tr>\n",
       "      <th>16</th>\n",
       "      <td>100</td>\n",
       "      <td>0.02</td>\n",
       "      <td>0.250000</td>\n",
       "      <td>0.224006</td>\n",
       "      <td>5</td>\n",
       "    </tr>\n",
       "  </tbody>\n",
       "</table>\n",
       "</div>"
      ],
      "text/plain": [
       "                nrecs  precision  recip_rank      ndcg  ntruth\n",
       "algorithm user                                                \n",
       "ALS       1       100       0.01    0.043478  0.072145       5\n",
       "          9       100       0.01    0.142857  0.090089       5\n",
       "          11      100       0.01    0.055556  0.067333       5\n",
       "          15      100       0.00    0.000000  0.000000       5\n",
       "          16      100       0.02    0.250000  0.224006       5"
      ]
     },
     "execution_count": 14,
     "metadata": {},
     "output_type": "execute_result"
    }
   ],
   "source": [
    "rla = topn.RecListAnalysis()\n",
    "\n",
    "rla.add_metric(topn.precision)\n",
    "rla.add_metric(topn.recip_rank)\n",
    "rla.add_metric(topn.ndcg)\n",
    "results = rla.compute(recs, test, include_missing=True)\n",
    "results = results.fillna(0)\n",
    "results.head()"
   ]
  },
  {
   "cell_type": "markdown",
   "id": "2728c8e7",
   "metadata": {
    "papermill": {
     "duration": 0.085588,
     "end_time": "2021-12-08T22:13:57.502053",
     "exception": false,
     "start_time": "2021-12-08T22:13:57.416465",
     "status": "completed"
    },
    "tags": []
   },
   "source": [
    "We will reshape the 'results' dataframe by stacking the columns to index and then use the bar chart to visualize the performance of our algorithms with respect to the precision, reciprocal rank and ndcg metrics"
   ]
  },
  {
   "cell_type": "code",
   "execution_count": 15,
   "id": "76af5c07",
   "metadata": {
    "execution": {
     "iopub.execute_input": "2021-12-08T22:13:57.667053Z",
     "iopub.status.busy": "2021-12-08T22:13:57.667053Z",
     "iopub.status.idle": "2021-12-08T22:13:57.678052Z",
     "shell.execute_reply": "2021-12-08T22:13:57.678052Z"
    },
    "papermill": {
     "duration": 0.094969,
     "end_time": "2021-12-08T22:13:57.678052",
     "exception": false,
     "start_time": "2021-12-08T22:13:57.583083",
     "status": "completed"
    },
    "tags": []
   },
   "outputs": [
    {
     "data": {
      "text/html": [
       "<div>\n",
       "<style scoped>\n",
       "    .dataframe tbody tr th:only-of-type {\n",
       "        vertical-align: middle;\n",
       "    }\n",
       "\n",
       "    .dataframe tbody tr th {\n",
       "        vertical-align: top;\n",
       "    }\n",
       "\n",
       "    .dataframe thead th {\n",
       "        text-align: right;\n",
       "    }\n",
       "</style>\n",
       "<table border=\"1\" class=\"dataframe\">\n",
       "  <thead>\n",
       "    <tr style=\"text-align: right;\">\n",
       "      <th></th>\n",
       "      <th>algorithm</th>\n",
       "      <th>user</th>\n",
       "      <th>metric</th>\n",
       "      <th>val</th>\n",
       "    </tr>\n",
       "  </thead>\n",
       "  <tbody>\n",
       "    <tr>\n",
       "      <th>0</th>\n",
       "      <td>ALS</td>\n",
       "      <td>1</td>\n",
       "      <td>precision</td>\n",
       "      <td>0.010000</td>\n",
       "    </tr>\n",
       "    <tr>\n",
       "      <th>1</th>\n",
       "      <td>ALS</td>\n",
       "      <td>1</td>\n",
       "      <td>recip_rank</td>\n",
       "      <td>0.043478</td>\n",
       "    </tr>\n",
       "    <tr>\n",
       "      <th>2</th>\n",
       "      <td>ALS</td>\n",
       "      <td>1</td>\n",
       "      <td>ndcg</td>\n",
       "      <td>0.072145</td>\n",
       "    </tr>\n",
       "    <tr>\n",
       "      <th>3</th>\n",
       "      <td>ALS</td>\n",
       "      <td>9</td>\n",
       "      <td>precision</td>\n",
       "      <td>0.010000</td>\n",
       "    </tr>\n",
       "    <tr>\n",
       "      <th>4</th>\n",
       "      <td>ALS</td>\n",
       "      <td>9</td>\n",
       "      <td>recip_rank</td>\n",
       "      <td>0.142857</td>\n",
       "    </tr>\n",
       "  </tbody>\n",
       "</table>\n",
       "</div>"
      ],
      "text/plain": [
       "  algorithm  user      metric       val\n",
       "0       ALS     1   precision  0.010000\n",
       "1       ALS     1  recip_rank  0.043478\n",
       "2       ALS     1        ndcg  0.072145\n",
       "3       ALS     9   precision  0.010000\n",
       "4       ALS     9  recip_rank  0.142857"
      ]
     },
     "execution_count": 15,
     "metadata": {},
     "output_type": "execute_result"
    }
   ],
   "source": [
    "pltData = (results.drop(columns=['nrecs', 'ntruth']).stack()).reset_index()\n",
    "pltData.columns = ['algorithm', 'user', 'metric', 'val']\n",
    "pltData.head()"
   ]
  },
  {
   "cell_type": "markdown",
   "id": "e0cdafc2",
   "metadata": {
    "papermill": {
     "duration": 0.081041,
     "end_time": "2021-12-08T22:13:57.840091",
     "exception": false,
     "start_time": "2021-12-08T22:13:57.759050",
     "status": "completed"
    },
    "tags": []
   },
   "source": [
    "We need to determine if the differences we observe in the performances of the algorithms for the various metrics are statistically significant. To achieve this, we will need to use either a parametric or non-parametric statistical test for comparing the differences. We will consider a parametric test - repeated ANOVA measure cause our sample groups are correlated."
   ]
  },
  {
   "cell_type": "code",
   "execution_count": 16,
   "id": "ed54015d",
   "metadata": {
    "execution": {
     "iopub.execute_input": "2021-12-08T22:13:58.012685Z",
     "iopub.status.busy": "2021-12-08T22:13:58.011685Z",
     "iopub.status.idle": "2021-12-08T22:13:59.157879Z",
     "shell.execute_reply": "2021-12-08T22:13:59.157879Z"
    },
    "papermill": {
     "duration": 1.230799,
     "end_time": "2021-12-08T22:13:59.157879",
     "exception": false,
     "start_time": "2021-12-08T22:13:57.927080",
     "status": "completed"
    },
    "tags": []
   },
   "outputs": [
    {
     "data": {
      "image/png": "[encoded data removed]",
      "text/plain": [
       "<Figure size 777.6x216 with 3 Axes>"
      ]
     },
     "metadata": {
      "needs_background": "light"
     },
     "output_type": "display_data"
    }
   ],
   "source": [
    "g = sns.catplot(x = \"algorithm\", y = \"val\", data = pltData, kind=\"bar\", col = \"metric\", aspect=1.2, height=3, sharey=False)"
   ]
  },
  {
   "cell_type": "markdown",
   "id": "2ac884dc",
   "metadata": {
    "papermill": {
     "duration": 0.085,
     "end_time": "2021-12-08T22:13:59.338878",
     "exception": false,
     "start_time": "2021-12-08T22:13:59.253878",
     "status": "completed"
    },
    "tags": []
   },
   "source": [
    "### Statistical Testing"
   ]
  },
  {
   "cell_type": "markdown",
   "id": "6ef2aa64",
   "metadata": {
    "papermill": {
     "duration": 0.133774,
     "end_time": "2021-12-08T22:13:59.561233",
     "exception": false,
     "start_time": "2021-12-08T22:13:59.427459",
     "status": "completed"
    },
    "tags": []
   },
   "source": [
    "We will now examine these metrics in more detail and test for statistical significance.  Best practice for statistical testing for recommender systems is still a work in progress, but this method avoids most of the validity problems we know about.\n",
    "\n",
    "The Friedman $\\chi^2$ test will test the null hypothesis that there is no difference between algorithms in terms of their performance."
   ]
  },
  {
   "cell_type": "code",
   "execution_count": 17,
   "id": "f0f8af16",
   "metadata": {
    "execution": {
     "iopub.execute_input": "2021-12-08T22:13:59.778892Z",
     "iopub.status.busy": "2021-12-08T22:13:59.777867Z",
     "iopub.status.idle": "2021-12-08T22:13:59.795867Z",
     "shell.execute_reply": "2021-12-08T22:13:59.794881Z"
    },
    "papermill": {
     "duration": 0.131639,
     "end_time": "2021-12-08T22:13:59.795867",
     "exception": false,
     "start_time": "2021-12-08T22:13:59.664228",
     "status": "completed"
    },
    "tags": []
   },
   "outputs": [],
   "source": [
    "def metric_friedman(metric):\n",
    "    groups = [df[metric] for a, df in results.groupby('algorithm')]\n",
    "\n",
    "    stat, p = friedmanchisquare(*groups)\n",
    "    return pd.Series({'stat': stat, 'p': p}, name=metric)"
   ]
  },
  {
   "cell_type": "markdown",
   "id": "80f80a99",
   "metadata": {
    "papermill": {
     "duration": 0.086693,
     "end_time": "2021-12-08T22:13:59.976095",
     "exception": false,
     "start_time": "2021-12-08T22:13:59.889402",
     "status": "completed"
    },
    "tags": []
   },
   "source": [
    "If the test detects significance, we have at least one pair of different algorithms - but which pairs?  Unfortunately, the good tests aren't readily available in scipy and friends, so we're going to take a conservative approch and perform pairwise Wilconxon signed-rank tests with a Bonferroni adjustment."
   ]
  },
  {
   "cell_type": "code",
   "execution_count": 18,
   "id": "28e57a65",
   "metadata": {
    "execution": {
     "iopub.execute_input": "2021-12-08T22:14:00.156755Z",
     "iopub.status.busy": "2021-12-08T22:14:00.155719Z",
     "iopub.status.idle": "2021-12-08T22:14:00.171750Z",
     "shell.execute_reply": "2021-12-08T22:14:00.171750Z"
    },
    "papermill": {
     "duration": 0.11,
     "end_time": "2021-12-08T22:14:00.171750",
     "exception": false,
     "start_time": "2021-12-08T22:14:00.061750",
     "status": "completed"
    },
    "tags": []
   },
   "outputs": [],
   "source": [
    "pairs = pd.DataFrame.from_records(combinations(rec_algos, 2), columns=['A1', 'A2'])\n",
    "def am_wilcox(metric, p_scale = len(pairs)):\n",
    "    def compute(df):\n",
    "        vs1 = results.loc[df['A1'], metric]\n",
    "        vs2 = results.loc[df['A2'], metric]\n",
    "        diff = (vs1 - vs2).mean()\n",
    "        stat, p = wilcoxon(vs1, vs2)\n",
    "        return pd.Series({'diff': diff, 'stat': stat, 'p': p, 'adj_p': p * p_scale})\n",
    "    scores = pairs.apply(compute, axis=1)\n",
    "    return pairs.join(scores)"
   ]
  },
  {
   "cell_type": "markdown",
   "id": "c3b8c994",
   "metadata": {
    "papermill": {
     "duration": 0.097608,
     "end_time": "2021-12-08T22:14:00.385330",
     "exception": false,
     "start_time": "2021-12-08T22:14:00.287722",
     "status": "completed"
    },
    "tags": []
   },
   "source": [
    "## Precision"
   ]
  },
  {
   "cell_type": "code",
   "execution_count": 19,
   "id": "2f751941",
   "metadata": {
    "execution": {
     "iopub.execute_input": "2021-12-08T22:14:00.588971Z",
     "iopub.status.busy": "2021-12-08T22:14:00.588971Z",
     "iopub.status.idle": "2021-12-08T22:14:00.669671Z",
     "shell.execute_reply": "2021-12-08T22:14:00.669671Z"
    },
    "papermill": {
     "duration": 0.172373,
     "end_time": "2021-12-08T22:14:00.669671",
     "exception": false,
     "start_time": "2021-12-08T22:14:00.497298",
     "status": "completed"
    },
    "tags": []
   },
   "outputs": [
    {
     "data": {
      "text/plain": [
       "stat    4153.540347\n",
       "p          0.000000\n",
       "Name: precision, dtype: float64"
      ]
     },
     "execution_count": 19,
     "metadata": {},
     "output_type": "execute_result"
    }
   ],
   "source": [
    "metric_friedman('precision')"
   ]
  },
  {
   "cell_type": "markdown",
   "id": "df6a0bf5",
   "metadata": {
    "papermill": {
     "duration": 0.088998,
     "end_time": "2021-12-08T22:14:00.846667",
     "exception": false,
     "start_time": "2021-12-08T22:14:00.757669",
     "status": "completed"
    },
    "tags": []
   },
   "source": [
    "This indicates a statistically significant difference exists - but where is it?\n",
    "\n",
    "To answer that question, we need a post-hoc test. "
   ]
  },
  {
   "cell_type": "code",
   "execution_count": 20,
   "id": "2dfad028",
   "metadata": {
    "execution": {
     "iopub.execute_input": "2021-12-08T22:14:01.023380Z",
     "iopub.status.busy": "2021-12-08T22:14:01.022373Z",
     "iopub.status.idle": "2021-12-08T22:14:01.090342Z",
     "shell.execute_reply": "2021-12-08T22:14:01.090342Z"
    },
    "papermill": {
     "duration": 0.159643,
     "end_time": "2021-12-08T22:14:01.090342",
     "exception": false,
     "start_time": "2021-12-08T22:14:00.930699",
     "status": "completed"
    },
    "tags": []
   },
   "outputs": [
    {
     "data": {
      "text/html": [
       "<div>\n",
       "<style scoped>\n",
       "    .dataframe tbody tr th:only-of-type {\n",
       "        vertical-align: middle;\n",
       "    }\n",
       "\n",
       "    .dataframe tbody tr th {\n",
       "        vertical-align: top;\n",
       "    }\n",
       "\n",
       "    .dataframe thead th {\n",
       "        text-align: right;\n",
       "    }\n",
       "</style>\n",
       "<table border=\"1\" class=\"dataframe\">\n",
       "  <thead>\n",
       "    <tr style=\"text-align: right;\">\n",
       "      <th></th>\n",
       "      <th>A1</th>\n",
       "      <th>A2</th>\n",
       "      <th>diff</th>\n",
       "      <th>stat</th>\n",
       "      <th>p</th>\n",
       "      <th>adj_p</th>\n",
       "    </tr>\n",
       "  </thead>\n",
       "  <tbody>\n",
       "    <tr>\n",
       "      <th>20</th>\n",
       "      <td>IALS</td>\n",
       "      <td>TFMF</td>\n",
       "      <td>0.032810</td>\n",
       "      <td>37.5</td>\n",
       "      <td>1.531651e-154</td>\n",
       "      <td>4.288622e-153</td>\n",
       "    </tr>\n",
       "    <tr>\n",
       "      <th>21</th>\n",
       "      <td>IALS</td>\n",
       "      <td>UU</td>\n",
       "      <td>0.026235</td>\n",
       "      <td>2572.5</td>\n",
       "      <td>2.156298e-143</td>\n",
       "      <td>6.037634e-142</td>\n",
       "    </tr>\n",
       "    <tr>\n",
       "      <th>18</th>\n",
       "      <td>IALS</td>\n",
       "      <td>II</td>\n",
       "      <td>0.024199</td>\n",
       "      <td>7042.5</td>\n",
       "      <td>1.981598e-133</td>\n",
       "      <td>5.548474e-132</td>\n",
       "    </tr>\n",
       "    <tr>\n",
       "      <th>25</th>\n",
       "      <td>Pop</td>\n",
       "      <td>TFMF</td>\n",
       "      <td>0.021919</td>\n",
       "      <td>0.0</td>\n",
       "      <td>6.752032e-145</td>\n",
       "      <td>1.890569e-143</td>\n",
       "    </tr>\n",
       "    <tr>\n",
       "      <th>26</th>\n",
       "      <td>Pop</td>\n",
       "      <td>UU</td>\n",
       "      <td>0.015345</td>\n",
       "      <td>10764.5</td>\n",
       "      <td>5.028684e-117</td>\n",
       "      <td>1.408031e-115</td>\n",
       "    </tr>\n",
       "    <tr>\n",
       "      <th>19</th>\n",
       "      <td>IALS</td>\n",
       "      <td>Pop</td>\n",
       "      <td>0.010891</td>\n",
       "      <td>22190.0</td>\n",
       "      <td>2.552936e-77</td>\n",
       "      <td>7.148221e-76</td>\n",
       "    </tr>\n",
       "    <tr>\n",
       "      <th>5</th>\n",
       "      <td>ALS</td>\n",
       "      <td>TFMF</td>\n",
       "      <td>0.010095</td>\n",
       "      <td>3415.5</td>\n",
       "      <td>4.781070e-95</td>\n",
       "      <td>1.338700e-93</td>\n",
       "    </tr>\n",
       "    <tr>\n",
       "      <th>1</th>\n",
       "      <td>ALS</td>\n",
       "      <td>BPR</td>\n",
       "      <td>0.010095</td>\n",
       "      <td>3653.0</td>\n",
       "      <td>1.731753e-94</td>\n",
       "      <td>4.848909e-93</td>\n",
       "    </tr>\n",
       "    <tr>\n",
       "      <th>7</th>\n",
       "      <td>Bias</td>\n",
       "      <td>BPR</td>\n",
       "      <td>0.009936</td>\n",
       "      <td>3590.0</td>\n",
       "      <td>9.193681e-93</td>\n",
       "      <td>2.574231e-91</td>\n",
       "    </tr>\n",
       "    <tr>\n",
       "      <th>11</th>\n",
       "      <td>Bias</td>\n",
       "      <td>TFMF</td>\n",
       "      <td>0.009936</td>\n",
       "      <td>3299.0</td>\n",
       "      <td>1.803436e-93</td>\n",
       "      <td>5.049620e-92</td>\n",
       "    </tr>\n",
       "    <tr>\n",
       "      <th>23</th>\n",
       "      <td>II</td>\n",
       "      <td>TFMF</td>\n",
       "      <td>0.008611</td>\n",
       "      <td>4350.0</td>\n",
       "      <td>2.052058e-83</td>\n",
       "      <td>5.745763e-82</td>\n",
       "    </tr>\n",
       "    <tr>\n",
       "      <th>6</th>\n",
       "      <td>ALS</td>\n",
       "      <td>UU</td>\n",
       "      <td>0.003521</td>\n",
       "      <td>12756.0</td>\n",
       "      <td>1.768894e-31</td>\n",
       "      <td>4.952903e-30</td>\n",
       "    </tr>\n",
       "    <tr>\n",
       "      <th>12</th>\n",
       "      <td>Bias</td>\n",
       "      <td>UU</td>\n",
       "      <td>0.003362</td>\n",
       "      <td>15421.0</td>\n",
       "      <td>6.521056e-26</td>\n",
       "      <td>1.825896e-24</td>\n",
       "    </tr>\n",
       "    <tr>\n",
       "      <th>24</th>\n",
       "      <td>II</td>\n",
       "      <td>UU</td>\n",
       "      <td>0.002036</td>\n",
       "      <td>19948.5</td>\n",
       "      <td>1.684772e-12</td>\n",
       "      <td>4.717362e-11</td>\n",
       "    </tr>\n",
       "    <tr>\n",
       "      <th>3</th>\n",
       "      <td>ALS</td>\n",
       "      <td>II</td>\n",
       "      <td>0.001485</td>\n",
       "      <td>15614.5</td>\n",
       "      <td>3.728193e-09</td>\n",
       "      <td>1.043894e-07</td>\n",
       "    </tr>\n",
       "    <tr>\n",
       "      <th>9</th>\n",
       "      <td>Bias</td>\n",
       "      <td>II</td>\n",
       "      <td>0.001326</td>\n",
       "      <td>23928.0</td>\n",
       "      <td>2.594893e-05</td>\n",
       "      <td>7.265700e-04</td>\n",
       "    </tr>\n",
       "    <tr>\n",
       "      <th>0</th>\n",
       "      <td>ALS</td>\n",
       "      <td>Bias</td>\n",
       "      <td>0.000159</td>\n",
       "      <td>32027.0</td>\n",
       "      <td>4.268244e-01</td>\n",
       "      <td>1.195108e+01</td>\n",
       "    </tr>\n",
       "    <tr>\n",
       "      <th>16</th>\n",
       "      <td>BPR</td>\n",
       "      <td>TFMF</td>\n",
       "      <td>0.000000</td>\n",
       "      <td>2185.5</td>\n",
       "      <td>1.000000e+00</td>\n",
       "      <td>2.800000e+01</td>\n",
       "    </tr>\n",
       "    <tr>\n",
       "      <th>27</th>\n",
       "      <td>TFMF</td>\n",
       "      <td>UU</td>\n",
       "      <td>-0.006575</td>\n",
       "      <td>3967.0</td>\n",
       "      <td>2.457791e-76</td>\n",
       "      <td>6.881814e-75</td>\n",
       "    </tr>\n",
       "    <tr>\n",
       "      <th>17</th>\n",
       "      <td>BPR</td>\n",
       "      <td>UU</td>\n",
       "      <td>-0.006575</td>\n",
       "      <td>4524.5</td>\n",
       "      <td>2.501840e-75</td>\n",
       "      <td>7.005151e-74</td>\n",
       "    </tr>\n",
       "    <tr>\n",
       "      <th>14</th>\n",
       "      <td>BPR</td>\n",
       "      <td>II</td>\n",
       "      <td>-0.008611</td>\n",
       "      <td>4158.0</td>\n",
       "      <td>8.536891e-84</td>\n",
       "      <td>2.390329e-82</td>\n",
       "    </tr>\n",
       "    <tr>\n",
       "      <th>4</th>\n",
       "      <td>ALS</td>\n",
       "      <td>Pop</td>\n",
       "      <td>-0.011824</td>\n",
       "      <td>29257.0</td>\n",
       "      <td>6.642572e-87</td>\n",
       "      <td>1.859920e-85</td>\n",
       "    </tr>\n",
       "    <tr>\n",
       "      <th>10</th>\n",
       "      <td>Bias</td>\n",
       "      <td>Pop</td>\n",
       "      <td>-0.011983</td>\n",
       "      <td>27535.0</td>\n",
       "      <td>8.411736e-88</td>\n",
       "      <td>2.355286e-86</td>\n",
       "    </tr>\n",
       "    <tr>\n",
       "      <th>22</th>\n",
       "      <td>II</td>\n",
       "      <td>Pop</td>\n",
       "      <td>-0.013309</td>\n",
       "      <td>22619.5</td>\n",
       "      <td>8.209310e-97</td>\n",
       "      <td>2.298607e-95</td>\n",
       "    </tr>\n",
       "    <tr>\n",
       "      <th>15</th>\n",
       "      <td>BPR</td>\n",
       "      <td>Pop</td>\n",
       "      <td>-0.021919</td>\n",
       "      <td>301.5</td>\n",
       "      <td>3.952121e-145</td>\n",
       "      <td>1.106594e-143</td>\n",
       "    </tr>\n",
       "    <tr>\n",
       "      <th>2</th>\n",
       "      <td>ALS</td>\n",
       "      <td>IALS</td>\n",
       "      <td>-0.022715</td>\n",
       "      <td>7443.5</td>\n",
       "      <td>1.004710e-127</td>\n",
       "      <td>2.813187e-126</td>\n",
       "    </tr>\n",
       "    <tr>\n",
       "      <th>8</th>\n",
       "      <td>Bias</td>\n",
       "      <td>IALS</td>\n",
       "      <td>-0.022874</td>\n",
       "      <td>8728.0</td>\n",
       "      <td>1.469525e-126</td>\n",
       "      <td>4.114671e-125</td>\n",
       "    </tr>\n",
       "    <tr>\n",
       "      <th>13</th>\n",
       "      <td>BPR</td>\n",
       "      <td>IALS</td>\n",
       "      <td>-0.032810</td>\n",
       "      <td>0.0</td>\n",
       "      <td>6.484242e-154</td>\n",
       "      <td>1.815588e-152</td>\n",
       "    </tr>\n",
       "  </tbody>\n",
       "</table>\n",
       "</div>"
      ],
      "text/plain": [
       "      A1    A2      diff     stat              p          adj_p\n",
       "20  IALS  TFMF  0.032810     37.5  1.531651e-154  4.288622e-153\n",
       "21  IALS    UU  0.026235   2572.5  2.156298e-143  6.037634e-142\n",
       "18  IALS    II  0.024199   7042.5  1.981598e-133  5.548474e-132\n",
       "25   Pop  TFMF  0.021919      0.0  6.752032e-145  1.890569e-143\n",
       "26   Pop    UU  0.015345  10764.5  5.028684e-117  1.408031e-115\n",
       "19  IALS   Pop  0.010891  22190.0   2.552936e-77   7.148221e-76\n",
       "5    ALS  TFMF  0.010095   3415.5   4.781070e-95   1.338700e-93\n",
       "1    ALS   BPR  0.010095   3653.0   1.731753e-94   4.848909e-93\n",
       "7   Bias   BPR  0.009936   3590.0   9.193681e-93   2.574231e-91\n",
       "11  Bias  TFMF  0.009936   3299.0   1.803436e-93   5.049620e-92\n",
       "23    II  TFMF  0.008611   4350.0   2.052058e-83   5.745763e-82\n",
       "6    ALS    UU  0.003521  12756.0   1.768894e-31   4.952903e-30\n",
       "12  Bias    UU  0.003362  15421.0   6.521056e-26   1.825896e-24\n",
       "24    II    UU  0.002036  19948.5   1.684772e-12   4.717362e-11\n",
       "3    ALS    II  0.001485  15614.5   3.728193e-09   1.043894e-07\n",
       "9   Bias    II  0.001326  23928.0   2.594893e-05   7.265700e-04\n",
       "0    ALS  Bias  0.000159  32027.0   4.268244e-01   1.195108e+01\n",
       "16   BPR  TFMF  0.000000   2185.5   1.000000e+00   2.800000e+01\n",
       "27  TFMF    UU -0.006575   3967.0   2.457791e-76   6.881814e-75\n",
       "17   BPR    UU -0.006575   4524.5   2.501840e-75   7.005151e-74\n",
       "14   BPR    II -0.008611   4158.0   8.536891e-84   2.390329e-82\n",
       "4    ALS   Pop -0.011824  29257.0   6.642572e-87   1.859920e-85\n",
       "10  Bias   Pop -0.011983  27535.0   8.411736e-88   2.355286e-86\n",
       "22    II   Pop -0.013309  22619.5   8.209310e-97   2.298607e-95\n",
       "15   BPR   Pop -0.021919    301.5  3.952121e-145  1.106594e-143\n",
       "2    ALS  IALS -0.022715   7443.5  1.004710e-127  2.813187e-126\n",
       "8   Bias  IALS -0.022874   8728.0  1.469525e-126  4.114671e-125\n",
       "13   BPR  IALS -0.032810      0.0  6.484242e-154  1.815588e-152"
      ]
     },
     "execution_count": 20,
     "metadata": {},
     "output_type": "execute_result"
    }
   ],
   "source": [
    "am_wilcox('precision').sort_values('diff', ascending=False)"
   ]
  },
  {
   "cell_type": "markdown",
   "id": "6cc9a484",
   "metadata": {
    "papermill": {
     "duration": 0.09601,
     "end_time": "2021-12-08T22:14:01.292350",
     "exception": false,
     "start_time": "2021-12-08T22:14:01.196340",
     "status": "completed"
    },
    "tags": []
   },
   "source": [
    "We can consider pairs with an adjusted $p$ value less than 0.05 (5.0e-2) to be statistically significant.  However, we have so many data points, the substance of significance is questionable.  Pay attention to the 'diff' column, which is the difference between A1 and A2 (how much A1 outperforms A2)."
   ]
  },
  {
   "cell_type": "markdown",
   "id": "9db8ffdf",
   "metadata": {
    "papermill": {
     "duration": 0.107026,
     "end_time": "2021-12-08T22:14:01.508326",
     "exception": false,
     "start_time": "2021-12-08T22:14:01.401300",
     "status": "completed"
    },
    "tags": []
   },
   "source": [
    "### nDCG"
   ]
  },
  {
   "cell_type": "markdown",
   "id": "afb6d685",
   "metadata": {
    "papermill": {
     "duration": 0.099999,
     "end_time": "2021-12-08T22:14:01.696985",
     "exception": false,
     "start_time": "2021-12-08T22:14:01.596986",
     "status": "completed"
    },
    "tags": []
   },
   "source": [
    "Now let's do the same for nDCG:"
   ]
  },
  {
   "cell_type": "code",
   "execution_count": 21,
   "id": "c756272a",
   "metadata": {
    "execution": {
     "iopub.execute_input": "2021-12-08T22:14:01.893952Z",
     "iopub.status.busy": "2021-12-08T22:14:01.892951Z",
     "iopub.status.idle": "2021-12-08T22:14:01.974982Z",
     "shell.execute_reply": "2021-12-08T22:14:01.973953Z"
    },
    "papermill": {
     "duration": 0.18999,
     "end_time": "2021-12-08T22:14:01.974982",
     "exception": false,
     "start_time": "2021-12-08T22:14:01.784992",
     "status": "completed"
    },
    "tags": []
   },
   "outputs": [
    {
     "data": {
      "text/plain": [
       "stat    3840.040908\n",
       "p          0.000000\n",
       "Name: ndcg, dtype: float64"
      ]
     },
     "execution_count": 21,
     "metadata": {},
     "output_type": "execute_result"
    }
   ],
   "source": [
    "metric_friedman('ndcg')"
   ]
  },
  {
   "cell_type": "code",
   "execution_count": 22,
   "id": "0e71cdb2",
   "metadata": {
    "execution": {
     "iopub.execute_input": "2021-12-08T22:14:02.155593Z",
     "iopub.status.busy": "2021-12-08T22:14:02.155593Z",
     "iopub.status.idle": "2021-12-08T22:14:02.241359Z",
     "shell.execute_reply": "2021-12-08T22:14:02.242208Z"
    },
    "papermill": {
     "duration": 0.178659,
     "end_time": "2021-12-08T22:14:02.242282",
     "exception": false,
     "start_time": "2021-12-08T22:14:02.063623",
     "status": "completed"
    },
    "tags": []
   },
   "outputs": [
    {
     "data": {
      "text/html": [
       "<div>\n",
       "<style scoped>\n",
       "    .dataframe tbody tr th:only-of-type {\n",
       "        vertical-align: middle;\n",
       "    }\n",
       "\n",
       "    .dataframe tbody tr th {\n",
       "        vertical-align: top;\n",
       "    }\n",
       "\n",
       "    .dataframe thead th {\n",
       "        text-align: right;\n",
       "    }\n",
       "</style>\n",
       "<table border=\"1\" class=\"dataframe\">\n",
       "  <thead>\n",
       "    <tr style=\"text-align: right;\">\n",
       "      <th></th>\n",
       "      <th>A1</th>\n",
       "      <th>A2</th>\n",
       "      <th>diff</th>\n",
       "      <th>stat</th>\n",
       "      <th>p</th>\n",
       "      <th>adj_p</th>\n",
       "    </tr>\n",
       "  </thead>\n",
       "  <tbody>\n",
       "    <tr>\n",
       "      <th>20</th>\n",
       "      <td>IALS</td>\n",
       "      <td>TFMF</td>\n",
       "      <td>0.252845</td>\n",
       "      <td>266.0</td>\n",
       "      <td>6.325383e-153</td>\n",
       "      <td>1.771107e-151</td>\n",
       "    </tr>\n",
       "    <tr>\n",
       "      <th>21</th>\n",
       "      <td>IALS</td>\n",
       "      <td>UU</td>\n",
       "      <td>0.217305</td>\n",
       "      <td>3016.0</td>\n",
       "      <td>4.314080e-150</td>\n",
       "      <td>1.207942e-148</td>\n",
       "    </tr>\n",
       "    <tr>\n",
       "      <th>18</th>\n",
       "      <td>IALS</td>\n",
       "      <td>II</td>\n",
       "      <td>0.195833</td>\n",
       "      <td>18731.0</td>\n",
       "      <td>2.083906e-129</td>\n",
       "      <td>5.834937e-128</td>\n",
       "    </tr>\n",
       "    <tr>\n",
       "      <th>25</th>\n",
       "      <td>Pop</td>\n",
       "      <td>TFMF</td>\n",
       "      <td>0.184973</td>\n",
       "      <td>42.0</td>\n",
       "      <td>9.353017e-145</td>\n",
       "      <td>2.618845e-143</td>\n",
       "    </tr>\n",
       "    <tr>\n",
       "      <th>26</th>\n",
       "      <td>Pop</td>\n",
       "      <td>UU</td>\n",
       "      <td>0.149433</td>\n",
       "      <td>9754.5</td>\n",
       "      <td>2.806272e-135</td>\n",
       "      <td>7.857561e-134</td>\n",
       "    </tr>\n",
       "    <tr>\n",
       "      <th>5</th>\n",
       "      <td>ALS</td>\n",
       "      <td>TFMF</td>\n",
       "      <td>0.078811</td>\n",
       "      <td>3655.5</td>\n",
       "      <td>3.246863e-93</td>\n",
       "      <td>9.091217e-92</td>\n",
       "    </tr>\n",
       "    <tr>\n",
       "      <th>1</th>\n",
       "      <td>ALS</td>\n",
       "      <td>BPR</td>\n",
       "      <td>0.078539</td>\n",
       "      <td>4225.0</td>\n",
       "      <td>4.844415e-92</td>\n",
       "      <td>1.356436e-90</td>\n",
       "    </tr>\n",
       "    <tr>\n",
       "      <th>11</th>\n",
       "      <td>Bias</td>\n",
       "      <td>TFMF</td>\n",
       "      <td>0.075257</td>\n",
       "      <td>3844.0</td>\n",
       "      <td>9.073721e-92</td>\n",
       "      <td>2.540642e-90</td>\n",
       "    </tr>\n",
       "    <tr>\n",
       "      <th>7</th>\n",
       "      <td>Bias</td>\n",
       "      <td>BPR</td>\n",
       "      <td>0.074986</td>\n",
       "      <td>4559.0</td>\n",
       "      <td>1.211842e-90</td>\n",
       "      <td>3.393158e-89</td>\n",
       "    </tr>\n",
       "    <tr>\n",
       "      <th>19</th>\n",
       "      <td>IALS</td>\n",
       "      <td>Pop</td>\n",
       "      <td>0.067872</td>\n",
       "      <td>134064.0</td>\n",
       "      <td>7.220547e-25</td>\n",
       "      <td>2.021753e-23</td>\n",
       "    </tr>\n",
       "    <tr>\n",
       "      <th>23</th>\n",
       "      <td>II</td>\n",
       "      <td>TFMF</td>\n",
       "      <td>0.057012</td>\n",
       "      <td>4874.0</td>\n",
       "      <td>2.528281e-81</td>\n",
       "      <td>7.079187e-80</td>\n",
       "    </tr>\n",
       "    <tr>\n",
       "      <th>6</th>\n",
       "      <td>ALS</td>\n",
       "      <td>UU</td>\n",
       "      <td>0.043271</td>\n",
       "      <td>20309.0</td>\n",
       "      <td>7.375667e-67</td>\n",
       "      <td>2.065187e-65</td>\n",
       "    </tr>\n",
       "    <tr>\n",
       "      <th>12</th>\n",
       "      <td>Bias</td>\n",
       "      <td>UU</td>\n",
       "      <td>0.039717</td>\n",
       "      <td>27248.5</td>\n",
       "      <td>1.493123e-56</td>\n",
       "      <td>4.180745e-55</td>\n",
       "    </tr>\n",
       "    <tr>\n",
       "      <th>3</th>\n",
       "      <td>ALS</td>\n",
       "      <td>II</td>\n",
       "      <td>0.021799</td>\n",
       "      <td>51254.5</td>\n",
       "      <td>1.607653e-24</td>\n",
       "      <td>4.501429e-23</td>\n",
       "    </tr>\n",
       "    <tr>\n",
       "      <th>24</th>\n",
       "      <td>II</td>\n",
       "      <td>UU</td>\n",
       "      <td>0.021472</td>\n",
       "      <td>41783.0</td>\n",
       "      <td>2.097589e-29</td>\n",
       "      <td>5.873248e-28</td>\n",
       "    </tr>\n",
       "    <tr>\n",
       "      <th>9</th>\n",
       "      <td>Bias</td>\n",
       "      <td>II</td>\n",
       "      <td>0.018245</td>\n",
       "      <td>63152.0</td>\n",
       "      <td>8.509411e-17</td>\n",
       "      <td>2.382635e-15</td>\n",
       "    </tr>\n",
       "    <tr>\n",
       "      <th>0</th>\n",
       "      <td>ALS</td>\n",
       "      <td>Bias</td>\n",
       "      <td>0.003554</td>\n",
       "      <td>103739.0</td>\n",
       "      <td>3.728093e-01</td>\n",
       "      <td>1.043866e+01</td>\n",
       "    </tr>\n",
       "    <tr>\n",
       "      <th>16</th>\n",
       "      <td>BPR</td>\n",
       "      <td>TFMF</td>\n",
       "      <td>0.000271</td>\n",
       "      <td>2556.0</td>\n",
       "      <td>9.473309e-01</td>\n",
       "      <td>2.652527e+01</td>\n",
       "    </tr>\n",
       "    <tr>\n",
       "      <th>17</th>\n",
       "      <td>BPR</td>\n",
       "      <td>UU</td>\n",
       "      <td>-0.035269</td>\n",
       "      <td>6068.0</td>\n",
       "      <td>1.681132e-69</td>\n",
       "      <td>4.707171e-68</td>\n",
       "    </tr>\n",
       "    <tr>\n",
       "      <th>27</th>\n",
       "      <td>TFMF</td>\n",
       "      <td>UU</td>\n",
       "      <td>-0.035540</td>\n",
       "      <td>5316.0</td>\n",
       "      <td>1.038411e-70</td>\n",
       "      <td>2.907552e-69</td>\n",
       "    </tr>\n",
       "    <tr>\n",
       "      <th>14</th>\n",
       "      <td>BPR</td>\n",
       "      <td>II</td>\n",
       "      <td>-0.056741</td>\n",
       "      <td>5291.0</td>\n",
       "      <td>4.868851e-80</td>\n",
       "      <td>1.363278e-78</td>\n",
       "    </tr>\n",
       "    <tr>\n",
       "      <th>4</th>\n",
       "      <td>ALS</td>\n",
       "      <td>Pop</td>\n",
       "      <td>-0.106163</td>\n",
       "      <td>57022.5</td>\n",
       "      <td>2.284944e-79</td>\n",
       "      <td>6.397844e-78</td>\n",
       "    </tr>\n",
       "    <tr>\n",
       "      <th>10</th>\n",
       "      <td>Bias</td>\n",
       "      <td>Pop</td>\n",
       "      <td>-0.109716</td>\n",
       "      <td>54734.0</td>\n",
       "      <td>1.492619e-81</td>\n",
       "      <td>4.179335e-80</td>\n",
       "    </tr>\n",
       "    <tr>\n",
       "      <th>22</th>\n",
       "      <td>II</td>\n",
       "      <td>Pop</td>\n",
       "      <td>-0.127961</td>\n",
       "      <td>34104.0</td>\n",
       "      <td>1.850572e-105</td>\n",
       "      <td>5.181602e-104</td>\n",
       "    </tr>\n",
       "    <tr>\n",
       "      <th>2</th>\n",
       "      <td>ALS</td>\n",
       "      <td>IALS</td>\n",
       "      <td>-0.174034</td>\n",
       "      <td>36261.0</td>\n",
       "      <td>2.152428e-107</td>\n",
       "      <td>6.026797e-106</td>\n",
       "    </tr>\n",
       "    <tr>\n",
       "      <th>8</th>\n",
       "      <td>Bias</td>\n",
       "      <td>IALS</td>\n",
       "      <td>-0.177588</td>\n",
       "      <td>36830.0</td>\n",
       "      <td>2.414541e-107</td>\n",
       "      <td>6.760714e-106</td>\n",
       "    </tr>\n",
       "    <tr>\n",
       "      <th>15</th>\n",
       "      <td>BPR</td>\n",
       "      <td>Pop</td>\n",
       "      <td>-0.184702</td>\n",
       "      <td>1200.0</td>\n",
       "      <td>1.569997e-143</td>\n",
       "      <td>4.395990e-142</td>\n",
       "    </tr>\n",
       "    <tr>\n",
       "      <th>13</th>\n",
       "      <td>BPR</td>\n",
       "      <td>IALS</td>\n",
       "      <td>-0.252574</td>\n",
       "      <td>115.0</td>\n",
       "      <td>5.651003e-153</td>\n",
       "      <td>1.582281e-151</td>\n",
       "    </tr>\n",
       "  </tbody>\n",
       "</table>\n",
       "</div>"
      ],
      "text/plain": [
       "      A1    A2      diff      stat              p          adj_p\n",
       "20  IALS  TFMF  0.252845     266.0  6.325383e-153  1.771107e-151\n",
       "21  IALS    UU  0.217305    3016.0  4.314080e-150  1.207942e-148\n",
       "18  IALS    II  0.195833   18731.0  2.083906e-129  5.834937e-128\n",
       "25   Pop  TFMF  0.184973      42.0  9.353017e-145  2.618845e-143\n",
       "26   Pop    UU  0.149433    9754.5  2.806272e-135  7.857561e-134\n",
       "5    ALS  TFMF  0.078811    3655.5   3.246863e-93   9.091217e-92\n",
       "1    ALS   BPR  0.078539    4225.0   4.844415e-92   1.356436e-90\n",
       "11  Bias  TFMF  0.075257    3844.0   9.073721e-92   2.540642e-90\n",
       "7   Bias   BPR  0.074986    4559.0   1.211842e-90   3.393158e-89\n",
       "19  IALS   Pop  0.067872  134064.0   7.220547e-25   2.021753e-23\n",
       "23    II  TFMF  0.057012    4874.0   2.528281e-81   7.079187e-80\n",
       "6    ALS    UU  0.043271   20309.0   7.375667e-67   2.065187e-65\n",
       "12  Bias    UU  0.039717   27248.5   1.493123e-56   4.180745e-55\n",
       "3    ALS    II  0.021799   51254.5   1.607653e-24   4.501429e-23\n",
       "24    II    UU  0.021472   41783.0   2.097589e-29   5.873248e-28\n",
       "9   Bias    II  0.018245   63152.0   8.509411e-17   2.382635e-15\n",
       "0    ALS  Bias  0.003554  103739.0   3.728093e-01   1.043866e+01\n",
       "16   BPR  TFMF  0.000271    2556.0   9.473309e-01   2.652527e+01\n",
       "17   BPR    UU -0.035269    6068.0   1.681132e-69   4.707171e-68\n",
       "27  TFMF    UU -0.035540    5316.0   1.038411e-70   2.907552e-69\n",
       "14   BPR    II -0.056741    5291.0   4.868851e-80   1.363278e-78\n",
       "4    ALS   Pop -0.106163   57022.5   2.284944e-79   6.397844e-78\n",
       "10  Bias   Pop -0.109716   54734.0   1.492619e-81   4.179335e-80\n",
       "22    II   Pop -0.127961   34104.0  1.850572e-105  5.181602e-104\n",
       "2    ALS  IALS -0.174034   36261.0  2.152428e-107  6.026797e-106\n",
       "8   Bias  IALS -0.177588   36830.0  2.414541e-107  6.760714e-106\n",
       "15   BPR   Pop -0.184702    1200.0  1.569997e-143  4.395990e-142\n",
       "13   BPR  IALS -0.252574     115.0  5.651003e-153  1.582281e-151"
      ]
     },
     "execution_count": 22,
     "metadata": {},
     "output_type": "execute_result"
    }
   ],
   "source": [
    "am_wilcox('ndcg').sort_values('diff', ascending=False)"
   ]
  },
  {
   "cell_type": "markdown",
   "id": "4279039c",
   "metadata": {
    "papermill": {
     "duration": 0.10015,
     "end_time": "2021-12-08T22:14:02.456793",
     "exception": false,
     "start_time": "2021-12-08T22:14:02.356643",
     "status": "completed"
    },
    "tags": []
   },
   "source": [
    "### Reciprocal Rank\n",
    "\n",
    "We'll do this also for reciprocal rank (what is aggregated to compute MRR):"
   ]
  },
  {
   "cell_type": "code",
   "execution_count": 23,
   "id": "69e86c6b",
   "metadata": {
    "execution": {
     "iopub.execute_input": "2021-12-08T22:14:02.656056Z",
     "iopub.status.busy": "2021-12-08T22:14:02.656056Z",
     "iopub.status.idle": "2021-12-08T22:14:02.738077Z",
     "shell.execute_reply": "2021-12-08T22:14:02.738077Z"
    },
    "papermill": {
     "duration": 0.184599,
     "end_time": "2021-12-08T22:14:02.739084",
     "exception": false,
     "start_time": "2021-12-08T22:14:02.554485",
     "status": "completed"
    },
    "tags": []
   },
   "outputs": [
    {
     "data": {
      "text/plain": [
       "stat    3605.566116\n",
       "p          0.000000\n",
       "Name: recip_rank, dtype: float64"
      ]
     },
     "execution_count": 23,
     "metadata": {},
     "output_type": "execute_result"
    }
   ],
   "source": [
    "metric_friedman('recip_rank')"
   ]
  },
  {
   "cell_type": "code",
   "execution_count": 24,
   "id": "b224e59c",
   "metadata": {
    "execution": {
     "iopub.execute_input": "2021-12-08T22:14:02.923082Z",
     "iopub.status.busy": "2021-12-08T22:14:02.922051Z",
     "iopub.status.idle": "2021-12-08T22:14:03.001048Z",
     "shell.execute_reply": "2021-12-08T22:14:03.001048Z"
    },
    "papermill": {
     "duration": 0.170995,
     "end_time": "2021-12-08T22:14:03.001048",
     "exception": false,
     "start_time": "2021-12-08T22:14:02.830053",
     "status": "completed"
    },
    "tags": []
   },
   "outputs": [
    {
     "data": {
      "text/html": [
       "<div>\n",
       "<style scoped>\n",
       "    .dataframe tbody tr th:only-of-type {\n",
       "        vertical-align: middle;\n",
       "    }\n",
       "\n",
       "    .dataframe tbody tr th {\n",
       "        vertical-align: top;\n",
       "    }\n",
       "\n",
       "    .dataframe thead th {\n",
       "        text-align: right;\n",
       "    }\n",
       "</style>\n",
       "<table border=\"1\" class=\"dataframe\">\n",
       "  <thead>\n",
       "    <tr style=\"text-align: right;\">\n",
       "      <th></th>\n",
       "      <th>A1</th>\n",
       "      <th>A2</th>\n",
       "      <th>diff</th>\n",
       "      <th>stat</th>\n",
       "      <th>p</th>\n",
       "      <th>adj_p</th>\n",
       "    </tr>\n",
       "  </thead>\n",
       "  <tbody>\n",
       "    <tr>\n",
       "      <th>20</th>\n",
       "      <td>IALS</td>\n",
       "      <td>TFMF</td>\n",
       "      <td>0.216370</td>\n",
       "      <td>1799.5</td>\n",
       "      <td>1.107866e-150</td>\n",
       "      <td>3.102025e-149</td>\n",
       "    </tr>\n",
       "    <tr>\n",
       "      <th>25</th>\n",
       "      <td>Pop</td>\n",
       "      <td>TFMF</td>\n",
       "      <td>0.206136</td>\n",
       "      <td>2132.5</td>\n",
       "      <td>1.435922e-141</td>\n",
       "      <td>4.020581e-140</td>\n",
       "    </tr>\n",
       "    <tr>\n",
       "      <th>21</th>\n",
       "      <td>IALS</td>\n",
       "      <td>UU</td>\n",
       "      <td>0.204584</td>\n",
       "      <td>8196.0</td>\n",
       "      <td>1.062968e-142</td>\n",
       "      <td>2.976309e-141</td>\n",
       "    </tr>\n",
       "    <tr>\n",
       "      <th>26</th>\n",
       "      <td>Pop</td>\n",
       "      <td>UU</td>\n",
       "      <td>0.194350</td>\n",
       "      <td>9687.0</td>\n",
       "      <td>5.003730e-135</td>\n",
       "      <td>1.401044e-133</td>\n",
       "    </tr>\n",
       "    <tr>\n",
       "      <th>18</th>\n",
       "      <td>IALS</td>\n",
       "      <td>II</td>\n",
       "      <td>0.180803</td>\n",
       "      <td>49406.0</td>\n",
       "      <td>5.615186e-92</td>\n",
       "      <td>1.572252e-90</td>\n",
       "    </tr>\n",
       "    <tr>\n",
       "      <th>5</th>\n",
       "      <td>ALS</td>\n",
       "      <td>TFMF</td>\n",
       "      <td>0.074658</td>\n",
       "      <td>7753.5</td>\n",
       "      <td>9.338185e-85</td>\n",
       "      <td>2.614692e-83</td>\n",
       "    </tr>\n",
       "    <tr>\n",
       "      <th>1</th>\n",
       "      <td>ALS</td>\n",
       "      <td>BPR</td>\n",
       "      <td>0.072886</td>\n",
       "      <td>8582.0</td>\n",
       "      <td>2.558924e-83</td>\n",
       "      <td>7.164988e-82</td>\n",
       "    </tr>\n",
       "    <tr>\n",
       "      <th>11</th>\n",
       "      <td>Bias</td>\n",
       "      <td>TFMF</td>\n",
       "      <td>0.063540</td>\n",
       "      <td>7290.0</td>\n",
       "      <td>9.606233e-85</td>\n",
       "      <td>2.689745e-83</td>\n",
       "    </tr>\n",
       "    <tr>\n",
       "      <th>6</th>\n",
       "      <td>ALS</td>\n",
       "      <td>UU</td>\n",
       "      <td>0.062872</td>\n",
       "      <td>18046.0</td>\n",
       "      <td>4.995783e-70</td>\n",
       "      <td>1.398819e-68</td>\n",
       "    </tr>\n",
       "    <tr>\n",
       "      <th>7</th>\n",
       "      <td>Bias</td>\n",
       "      <td>BPR</td>\n",
       "      <td>0.061769</td>\n",
       "      <td>7835.5</td>\n",
       "      <td>4.937619e-84</td>\n",
       "      <td>1.382533e-82</td>\n",
       "    </tr>\n",
       "    <tr>\n",
       "      <th>12</th>\n",
       "      <td>Bias</td>\n",
       "      <td>UU</td>\n",
       "      <td>0.051754</td>\n",
       "      <td>19135.5</td>\n",
       "      <td>5.102472e-69</td>\n",
       "      <td>1.428692e-67</td>\n",
       "    </tr>\n",
       "    <tr>\n",
       "      <th>3</th>\n",
       "      <td>ALS</td>\n",
       "      <td>II</td>\n",
       "      <td>0.039091</td>\n",
       "      <td>51311.0</td>\n",
       "      <td>7.182566e-23</td>\n",
       "      <td>2.011118e-21</td>\n",
       "    </tr>\n",
       "    <tr>\n",
       "      <th>23</th>\n",
       "      <td>II</td>\n",
       "      <td>TFMF</td>\n",
       "      <td>0.035567</td>\n",
       "      <td>10160.5</td>\n",
       "      <td>4.356267e-70</td>\n",
       "      <td>1.219755e-68</td>\n",
       "    </tr>\n",
       "    <tr>\n",
       "      <th>9</th>\n",
       "      <td>Bias</td>\n",
       "      <td>II</td>\n",
       "      <td>0.027973</td>\n",
       "      <td>58130.5</td>\n",
       "      <td>7.441887e-20</td>\n",
       "      <td>2.083728e-18</td>\n",
       "    </tr>\n",
       "    <tr>\n",
       "      <th>24</th>\n",
       "      <td>II</td>\n",
       "      <td>UU</td>\n",
       "      <td>0.023781</td>\n",
       "      <td>36291.5</td>\n",
       "      <td>5.668811e-36</td>\n",
       "      <td>1.587267e-34</td>\n",
       "    </tr>\n",
       "    <tr>\n",
       "      <th>0</th>\n",
       "      <td>ALS</td>\n",
       "      <td>Bias</td>\n",
       "      <td>0.011118</td>\n",
       "      <td>103094.5</td>\n",
       "      <td>9.275462e-01</td>\n",
       "      <td>2.597129e+01</td>\n",
       "    </tr>\n",
       "    <tr>\n",
       "      <th>19</th>\n",
       "      <td>IALS</td>\n",
       "      <td>Pop</td>\n",
       "      <td>0.010234</td>\n",
       "      <td>191502.0</td>\n",
       "      <td>2.238128e-01</td>\n",
       "      <td>6.266760e+00</td>\n",
       "    </tr>\n",
       "    <tr>\n",
       "      <th>16</th>\n",
       "      <td>BPR</td>\n",
       "      <td>TFMF</td>\n",
       "      <td>0.001772</td>\n",
       "      <td>2534.5</td>\n",
       "      <td>8.895301e-01</td>\n",
       "      <td>2.490684e+01</td>\n",
       "    </tr>\n",
       "    <tr>\n",
       "      <th>17</th>\n",
       "      <td>BPR</td>\n",
       "      <td>UU</td>\n",
       "      <td>-0.010014</td>\n",
       "      <td>11804.5</td>\n",
       "      <td>9.665729e-57</td>\n",
       "      <td>2.706404e-55</td>\n",
       "    </tr>\n",
       "    <tr>\n",
       "      <th>27</th>\n",
       "      <td>TFMF</td>\n",
       "      <td>UU</td>\n",
       "      <td>-0.011786</td>\n",
       "      <td>11013.0</td>\n",
       "      <td>1.332984e-57</td>\n",
       "      <td>3.732355e-56</td>\n",
       "    </tr>\n",
       "    <tr>\n",
       "      <th>14</th>\n",
       "      <td>BPR</td>\n",
       "      <td>II</td>\n",
       "      <td>-0.033796</td>\n",
       "      <td>9997.0</td>\n",
       "      <td>5.006648e-70</td>\n",
       "      <td>1.401861e-68</td>\n",
       "    </tr>\n",
       "    <tr>\n",
       "      <th>4</th>\n",
       "      <td>ALS</td>\n",
       "      <td>Pop</td>\n",
       "      <td>-0.131478</td>\n",
       "      <td>70062.0</td>\n",
       "      <td>6.650754e-63</td>\n",
       "      <td>1.862211e-61</td>\n",
       "    </tr>\n",
       "    <tr>\n",
       "      <th>2</th>\n",
       "      <td>ALS</td>\n",
       "      <td>IALS</td>\n",
       "      <td>-0.141712</td>\n",
       "      <td>78062.0</td>\n",
       "      <td>7.071464e-60</td>\n",
       "      <td>1.980010e-58</td>\n",
       "    </tr>\n",
       "    <tr>\n",
       "      <th>10</th>\n",
       "      <td>Bias</td>\n",
       "      <td>Pop</td>\n",
       "      <td>-0.142595</td>\n",
       "      <td>67372.0</td>\n",
       "      <td>2.347961e-66</td>\n",
       "      <td>6.574290e-65</td>\n",
       "    </tr>\n",
       "    <tr>\n",
       "      <th>8</th>\n",
       "      <td>Bias</td>\n",
       "      <td>IALS</td>\n",
       "      <td>-0.152830</td>\n",
       "      <td>79296.5</td>\n",
       "      <td>2.218663e-61</td>\n",
       "      <td>6.212255e-60</td>\n",
       "    </tr>\n",
       "    <tr>\n",
       "      <th>22</th>\n",
       "      <td>II</td>\n",
       "      <td>Pop</td>\n",
       "      <td>-0.170568</td>\n",
       "      <td>42723.5</td>\n",
       "      <td>1.892586e-92</td>\n",
       "      <td>5.299242e-91</td>\n",
       "    </tr>\n",
       "    <tr>\n",
       "      <th>15</th>\n",
       "      <td>BPR</td>\n",
       "      <td>Pop</td>\n",
       "      <td>-0.204364</td>\n",
       "      <td>3864.0</td>\n",
       "      <td>1.054259e-139</td>\n",
       "      <td>2.951925e-138</td>\n",
       "    </tr>\n",
       "    <tr>\n",
       "      <th>13</th>\n",
       "      <td>BPR</td>\n",
       "      <td>IALS</td>\n",
       "      <td>-0.214598</td>\n",
       "      <td>3477.5</td>\n",
       "      <td>3.503859e-148</td>\n",
       "      <td>9.810805e-147</td>\n",
       "    </tr>\n",
       "  </tbody>\n",
       "</table>\n",
       "</div>"
      ],
      "text/plain": [
       "      A1    A2      diff      stat              p          adj_p\n",
       "20  IALS  TFMF  0.216370    1799.5  1.107866e-150  3.102025e-149\n",
       "25   Pop  TFMF  0.206136    2132.5  1.435922e-141  4.020581e-140\n",
       "21  IALS    UU  0.204584    8196.0  1.062968e-142  2.976309e-141\n",
       "26   Pop    UU  0.194350    9687.0  5.003730e-135  1.401044e-133\n",
       "18  IALS    II  0.180803   49406.0   5.615186e-92   1.572252e-90\n",
       "5    ALS  TFMF  0.074658    7753.5   9.338185e-85   2.614692e-83\n",
       "1    ALS   BPR  0.072886    8582.0   2.558924e-83   7.164988e-82\n",
       "11  Bias  TFMF  0.063540    7290.0   9.606233e-85   2.689745e-83\n",
       "6    ALS    UU  0.062872   18046.0   4.995783e-70   1.398819e-68\n",
       "7   Bias   BPR  0.061769    7835.5   4.937619e-84   1.382533e-82\n",
       "12  Bias    UU  0.051754   19135.5   5.102472e-69   1.428692e-67\n",
       "3    ALS    II  0.039091   51311.0   7.182566e-23   2.011118e-21\n",
       "23    II  TFMF  0.035567   10160.5   4.356267e-70   1.219755e-68\n",
       "9   Bias    II  0.027973   58130.5   7.441887e-20   2.083728e-18\n",
       "24    II    UU  0.023781   36291.5   5.668811e-36   1.587267e-34\n",
       "0    ALS  Bias  0.011118  103094.5   9.275462e-01   2.597129e+01\n",
       "19  IALS   Pop  0.010234  191502.0   2.238128e-01   6.266760e+00\n",
       "16   BPR  TFMF  0.001772    2534.5   8.895301e-01   2.490684e+01\n",
       "17   BPR    UU -0.010014   11804.5   9.665729e-57   2.706404e-55\n",
       "27  TFMF    UU -0.011786   11013.0   1.332984e-57   3.732355e-56\n",
       "14   BPR    II -0.033796    9997.0   5.006648e-70   1.401861e-68\n",
       "4    ALS   Pop -0.131478   70062.0   6.650754e-63   1.862211e-61\n",
       "2    ALS  IALS -0.141712   78062.0   7.071464e-60   1.980010e-58\n",
       "10  Bias   Pop -0.142595   67372.0   2.347961e-66   6.574290e-65\n",
       "8   Bias  IALS -0.152830   79296.5   2.218663e-61   6.212255e-60\n",
       "22    II   Pop -0.170568   42723.5   1.892586e-92   5.299242e-91\n",
       "15   BPR   Pop -0.204364    3864.0  1.054259e-139  2.951925e-138\n",
       "13   BPR  IALS -0.214598    3477.5  3.503859e-148  9.810805e-147"
      ]
     },
     "execution_count": 24,
     "metadata": {},
     "output_type": "execute_result"
    }
   ],
   "source": [
    "am_wilcox('recip_rank').sort_values('diff', ascending=False)"
   ]
  },
  {
   "cell_type": "markdown",
   "id": "18cc7477",
   "metadata": {
    "papermill": {
     "duration": 0.090028,
     "end_time": "2021-12-08T22:14:03.185684",
     "exception": false,
     "start_time": "2021-12-08T22:14:03.095656",
     "status": "completed"
    },
    "tags": []
   },
   "source": [
    "## Prediction RMSE\n",
    "\n",
    "We will also look at the prediction RMSE."
   ]
  },
  {
   "cell_type": "code",
   "execution_count": 25,
   "id": "2be2f225",
   "metadata": {
    "execution": {
     "iopub.execute_input": "2021-12-08T22:14:03.388652Z",
     "iopub.status.busy": "2021-12-08T22:14:03.388652Z",
     "iopub.status.idle": "2021-12-08T22:14:06.609098Z",
     "shell.execute_reply": "2021-12-08T22:14:06.609098Z"
    },
    "papermill": {
     "duration": 3.330444,
     "end_time": "2021-12-08T22:14:06.609098",
     "exception": false,
     "start_time": "2021-12-08T22:14:03.278654",
     "status": "completed"
    },
    "tags": []
   },
   "outputs": [],
   "source": [
    "user_rmse = preds.groupby(['algorithm', 'user']).apply(lambda df: rmse(df['prediction'], df['rating']))\n",
    "user_rmse = user_rmse.reset_index(name='RMSE')"
   ]
  },
  {
   "cell_type": "code",
   "execution_count": 26,
   "id": "fc084618",
   "metadata": {
    "execution": {
     "iopub.execute_input": "2021-12-08T22:14:06.796064Z",
     "iopub.status.busy": "2021-12-08T22:14:06.795068Z",
     "iopub.status.idle": "2021-12-08T22:14:07.157643Z",
     "shell.execute_reply": "2021-12-08T22:14:07.158641Z"
    },
    "papermill": {
     "duration": 0.456573,
     "end_time": "2021-12-08T22:14:07.158641",
     "exception": false,
     "start_time": "2021-12-08T22:14:06.702068",
     "status": "completed"
    },
    "tags": []
   },
   "outputs": [
    {
     "data": {
      "text/plain": [
       "<seaborn.axisgrid.FacetGrid at 0x20b6332ae80>"
      ]
     },
     "execution_count": 26,
     "metadata": {},
     "output_type": "execute_result"
    },
    {
     "data": {
      "image/png": "[encoded data removed]",
      "text/plain": [
       "<Figure size 360x360 with 1 Axes>"
      ]
     },
     "metadata": {
      "needs_background": "light"
     },
     "output_type": "display_data"
    }
   ],
   "source": [
    "sns.catplot(x='algorithm', y='RMSE', data=user_rmse, kind='bar')"
   ]
  },
  {
   "cell_type": "code",
   "execution_count": null,
   "id": "9fdfe281",
   "metadata": {
    "papermill": {
     "duration": 0.127,
     "end_time": "2021-12-08T22:14:07.439636",
     "exception": false,
     "start_time": "2021-12-08T22:14:07.312636",
     "status": "completed"
    },
    "tags": []
   },
   "outputs": [],
   "source": []
  }
 ],
 "metadata": {
  "kernelspec": {
   "display_name": "Python 3",
   "language": "python",
   "name": "python3"
  },
  "language_info": {
   "codemirror_mode": {
    "name": "ipython",
    "version": 3
   },
   "file_extension": ".py",
   "mimetype": "text/x-python",
   "name": "python",
   "nbconvert_exporter": "python",
   "pygments_lexer": "ipython3",
   "version": "3.9.7"
  },
  "papermill": {
   "default_parameters": {},
   "duration": 19.867669,
   "end_time": "2021-12-08T22:14:07.920756",
   "environment_variables": {},
   "exception": null,
   "input_path": "eval-report.ipynb",
   "output_path": "eval-report.ml100k.ipynb",
   "parameters": {
    "dataset": "ml100k"
   },
   "start_time": "2021-12-08T22:13:48.053087",
   "version": "2.3.3"
  }
 },
 "nbformat": 4,
 "nbformat_minor": 5
}