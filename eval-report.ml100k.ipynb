{
 "cells": [
  {
   "cell_type": "markdown",
   "id": "71964c7e",
   "metadata": {
    "papermill": {
     "duration": 0.024,
     "end_time": "2022-02-15T23:18:46.468009",
     "exception": false,
     "start_time": "2022-02-15T23:18:46.444009",
     "status": "completed"
    },
    "tags": []
   },
   "source": [
    "# Evaluation Analysis for Recommender Output"
   ]
  },
  {
   "cell_type": "markdown",
   "id": "76fbc114",
   "metadata": {
    "papermill": {
     "duration": 0.026024,
     "end_time": "2022-02-15T23:18:46.525659",
     "exception": false,
     "start_time": "2022-02-15T23:18:46.499635",
     "status": "completed"
    },
    "tags": []
   },
   "source": [
    "In this section we will analyze and compare the generated recommendations and predictions from a predefined list of algorithms with the goal of assessing the performance of each algorithm with respect to a metric. In other words, we would rank the algorithms for each metric considered with respect to performance."
   ]
  },
  {
   "cell_type": "markdown",
   "id": "0fac6c5e",
   "metadata": {
    "papermill": {
     "duration": 0.023676,
     "end_time": "2022-02-15T23:18:46.577928",
     "exception": false,
     "start_time": "2022-02-15T23:18:46.554252",
     "status": "completed"
    },
    "tags": []
   },
   "source": [
    "# Setup"
   ]
  },
  {
   "cell_type": "markdown",
   "id": "a5f5cbcb",
   "metadata": {
    "papermill": {
     "duration": 0.025006,
     "end_time": "2022-02-15T23:18:46.629936",
     "exception": false,
     "start_time": "2022-02-15T23:18:46.604930",
     "status": "completed"
    },
    "tags": []
   },
   "source": [
    "Below are the list of packages required to successfully run the analysis. They are divided into partitions to signify their specific task.<br>\n",
    "We need the pathlib package for working with files and folders"
   ]
  },
  {
   "cell_type": "code",
   "execution_count": 1,
   "id": "dc1de940",
   "metadata": {
    "execution": {
     "iopub.execute_input": "2022-02-15T23:18:46.678928Z",
     "iopub.status.busy": "2022-02-15T23:18:46.678928Z",
     "iopub.status.idle": "2022-02-15T23:18:46.695927Z",
     "shell.execute_reply": "2022-02-15T23:18:46.695927Z"
    },
    "papermill": {
     "duration": 0.043999,
     "end_time": "2022-02-15T23:18:46.698897",
     "exception": false,
     "start_time": "2022-02-15T23:18:46.654898",
     "status": "completed"
    },
    "tags": []
   },
   "outputs": [],
   "source": [
    "from pathlib import Path"
   ]
  },
  {
   "cell_type": "markdown",
   "id": "532c490d",
   "metadata": {
    "papermill": {
     "duration": 0.025975,
     "end_time": "2022-02-15T23:18:46.747901",
     "exception": false,
     "start_time": "2022-02-15T23:18:46.721926",
     "status": "completed"
    },
    "tags": []
   },
   "source": [
    "We would use the pandas for analyzing and manipulating our data while seaborn and matplotlib are used for data visualization. statsmodels.graphics.gofplots and scipy.stats.shapiro are used for normality check. Scipy.stats.friedmanchisquare is a non-parametric test used to determine the statistical significance in metric results and the wilcoxon test is used for pairwise comparison of sample data."
   ]
  },
  {
   "cell_type": "code",
   "execution_count": 2,
   "id": "5fb4368e",
   "metadata": {
    "execution": {
     "iopub.execute_input": "2022-02-15T23:18:46.795926Z",
     "iopub.status.busy": "2022-02-15T23:18:46.795926Z",
     "iopub.status.idle": "2022-02-15T23:18:48.515045Z",
     "shell.execute_reply": "2022-02-15T23:18:48.514043Z"
    },
    "papermill": {
     "duration": 1.745146,
     "end_time": "2022-02-15T23:18:48.516074",
     "exception": false,
     "start_time": "2022-02-15T23:18:46.770928",
     "status": "completed"
    },
    "tags": []
   },
   "outputs": [],
   "source": [
    "import pandas as pd\n",
    "import seaborn as sns\n",
    "import matplotlib.pyplot as plt\n",
    "from statsmodels.graphics.gofplots import qqplot\n",
    "from scipy.stats import shapiro\n",
    "from scipy.stats import friedmanchisquare, wilcoxon\n",
    "from itertools import combinations"
   ]
  },
  {
   "cell_type": "markdown",
   "id": "034dca54",
   "metadata": {
    "papermill": {
     "duration": 0.022543,
     "end_time": "2022-02-15T23:18:48.562318",
     "exception": false,
     "start_time": "2022-02-15T23:18:48.539775",
     "status": "completed"
    },
    "tags": []
   },
   "source": [
    "Logging to show what's happening in LensKit routines:"
   ]
  },
  {
   "cell_type": "code",
   "execution_count": 3,
   "id": "b9949d0b",
   "metadata": {
    "execution": {
     "iopub.execute_input": "2022-02-15T23:18:48.611468Z",
     "iopub.status.busy": "2022-02-15T23:18:48.610447Z",
     "iopub.status.idle": "2022-02-15T23:18:48.652440Z",
     "shell.execute_reply": "2022-02-15T23:18:48.652440Z"
    },
    "papermill": {
     "duration": 0.066725,
     "end_time": "2022-02-15T23:18:48.654178",
     "exception": false,
     "start_time": "2022-02-15T23:18:48.587453",
     "status": "completed"
    },
    "tags": []
   },
   "outputs": [
    {
     "name": "stdout",
     "output_type": "stream",
     "text": [
      "[   INFO] lenskit.util.log notebook logging configured\n"
     ]
    }
   ],
   "source": [
    "from lenskit import util\n",
    "util.log_to_notebook()"
   ]
  },
  {
   "cell_type": "markdown",
   "id": "7ad925b7",
   "metadata": {
    "papermill": {
     "duration": 0.027004,
     "end_time": "2022-02-15T23:18:48.705179",
     "exception": false,
     "start_time": "2022-02-15T23:18:48.678175",
     "status": "completed"
    },
    "tags": []
   },
   "source": [
    "We will use lenskit for training, running, and evaluating recommender algorithms"
   ]
  },
  {
   "cell_type": "code",
   "execution_count": 4,
   "id": "341f4e82",
   "metadata": {
    "execution": {
     "iopub.execute_input": "2022-02-15T23:18:48.755145Z",
     "iopub.status.busy": "2022-02-15T23:18:48.755145Z",
     "iopub.status.idle": "2022-02-15T23:18:48.761222Z",
     "shell.execute_reply": "2022-02-15T23:18:48.761222Z"
    },
    "papermill": {
     "duration": 0.034003,
     "end_time": "2022-02-15T23:18:48.763178",
     "exception": false,
     "start_time": "2022-02-15T23:18:48.729175",
     "status": "completed"
    },
    "tags": []
   },
   "outputs": [],
   "source": [
    "from lenskit import topn\n",
    "from lenskit.metrics.predict import rmse"
   ]
  },
  {
   "cell_type": "markdown",
   "id": "eee33f63",
   "metadata": {
    "papermill": {
     "duration": 0.024022,
     "end_time": "2022-02-15T23:18:48.810197",
     "exception": false,
     "start_time": "2022-02-15T23:18:48.786175",
     "status": "completed"
    },
    "tags": []
   },
   "source": [
    "# Load Data"
   ]
  },
  {
   "cell_type": "markdown",
   "id": "63bf3361",
   "metadata": {
    "papermill": {
     "duration": 0.026001,
     "end_time": "2022-02-15T23:18:48.862750",
     "exception": false,
     "start_time": "2022-02-15T23:18:48.836749",
     "status": "completed"
    },
    "tags": []
   },
   "source": [
    "We specify the dataset we will use for our analysis and the main directory from where we read the recommendation and prediction files. From the main directory we find all the directories associated with the dataset and then read the recommendation and predictions files from those directories."
   ]
  },
  {
   "cell_type": "code",
   "execution_count": 5,
   "id": "78e9bde0",
   "metadata": {
    "execution": {
     "iopub.execute_input": "2022-02-15T23:18:48.915749Z",
     "iopub.status.busy": "2022-02-15T23:18:48.915749Z",
     "iopub.status.idle": "2022-02-15T23:18:48.917784Z",
     "shell.execute_reply": "2022-02-15T23:18:48.917784Z"
    },
    "papermill": {
     "duration": 0.029001,
     "end_time": "2022-02-15T23:18:48.918750",
     "exception": false,
     "start_time": "2022-02-15T23:18:48.889749",
     "status": "completed"
    },
    "tags": [
     "parameters"
    ]
   },
   "outputs": [],
   "source": [
    "dataset = \"ml10m\""
   ]
  },
  {
   "cell_type": "code",
   "execution_count": 6,
   "id": "600e18ef",
   "metadata": {
    "execution": {
     "iopub.execute_input": "2022-02-15T23:18:48.966750Z",
     "iopub.status.busy": "2022-02-15T23:18:48.966750Z",
     "iopub.status.idle": "2022-02-15T23:18:48.982520Z",
     "shell.execute_reply": "2022-02-15T23:18:48.981753Z"
    },
    "papermill": {
     "duration": 0.041754,
     "end_time": "2022-02-15T23:18:48.984503",
     "exception": false,
     "start_time": "2022-02-15T23:18:48.942749",
     "status": "completed"
    },
    "tags": [
     "injected-parameters"
    ]
   },
   "outputs": [],
   "source": [
    "# Parameters\n",
    "dataset = \"ml100k\"\n"
   ]
  },
  {
   "cell_type": "code",
   "execution_count": 7,
   "id": "b7d1746e",
   "metadata": {
    "execution": {
     "iopub.execute_input": "2022-02-15T23:18:49.034492Z",
     "iopub.status.busy": "2022-02-15T23:18:49.034492Z",
     "iopub.status.idle": "2022-02-15T23:18:49.043830Z",
     "shell.execute_reply": "2022-02-15T23:18:49.043830Z"
    },
    "papermill": {
     "duration": 0.03732,
     "end_time": "2022-02-15T23:18:49.045831",
     "exception": false,
     "start_time": "2022-02-15T23:18:49.008511",
     "status": "completed"
    },
    "tags": []
   },
   "outputs": [],
   "source": [
    "output_root = Path(\"runs\")"
   ]
  },
  {
   "cell_type": "code",
   "execution_count": 8,
   "id": "10cd822a",
   "metadata": {
    "execution": {
     "iopub.execute_input": "2022-02-15T23:18:49.093830Z",
     "iopub.status.busy": "2022-02-15T23:18:49.093830Z",
     "iopub.status.idle": "2022-02-15T23:18:49.107832Z",
     "shell.execute_reply": "2022-02-15T23:18:49.106970Z"
    },
    "papermill": {
     "duration": 0.039003,
     "end_time": "2022-02-15T23:18:49.108833",
     "exception": false,
     "start_time": "2022-02-15T23:18:49.069830",
     "status": "completed"
    },
    "tags": []
   },
   "outputs": [],
   "source": [
    "dirs = [fld for fld in output_root.glob(f'{dataset}-*')]"
   ]
  },
  {
   "cell_type": "code",
   "execution_count": 9,
   "id": "779caf67",
   "metadata": {
    "execution": {
     "iopub.execute_input": "2022-02-15T23:18:49.159861Z",
     "iopub.status.busy": "2022-02-15T23:18:49.158831Z",
     "iopub.status.idle": "2022-02-15T23:18:49.560359Z",
     "shell.execute_reply": "2022-02-15T23:18:49.559349Z"
    },
    "papermill": {
     "duration": 0.428527,
     "end_time": "2022-02-15T23:18:49.562358",
     "exception": false,
     "start_time": "2022-02-15T23:18:49.133831",
     "status": "completed"
    },
    "tags": []
   },
   "outputs": [
    {
     "name": "stdout",
     "output_type": "stream",
     "text": [
      "<class 'pandas.core.frame.DataFrame'>\n",
      "RangeIndex: 565800 entries, 0 to 565799\n",
      "Data columns (total 5 columns):\n",
      " #   Column     Non-Null Count   Dtype   \n",
      "---  ------     --------------   -----   \n",
      " 0   item       565800 non-null  int64   \n",
      " 1   score      565800 non-null  float64 \n",
      " 2   user       565800 non-null  int64   \n",
      " 3   rank       565800 non-null  int64   \n",
      " 4   algorithm  565800 non-null  category\n",
      "dtypes: category(1), float64(1), int64(3)\n",
      "memory usage: 17.8 MB\n"
     ]
    }
   ],
   "source": [
    "recs = []\n",
    "for fld in dirs: \n",
    "    for file in fld.glob(\"recs-*\"):\n",
    "        rec = pd.read_csv(file, sep=',')\n",
    "        rec[\"algorithm\"] = fld.name.split(\"-\")[1]\n",
    "        recs.append(rec)\n",
    "\n",
    "recs = pd.concat(recs, ignore_index=True)\n",
    "recs = recs.astype({'algorithm': 'category'})\n",
    "recs.info()"
   ]
  },
  {
   "cell_type": "code",
   "execution_count": 10,
   "id": "fad3481c",
   "metadata": {
    "execution": {
     "iopub.execute_input": "2022-02-15T23:18:49.613355Z",
     "iopub.status.busy": "2022-02-15T23:18:49.612355Z",
     "iopub.status.idle": "2022-02-15T23:18:49.637359Z",
     "shell.execute_reply": "2022-02-15T23:18:49.636501Z"
    },
    "papermill": {
     "duration": 0.052998,
     "end_time": "2022-02-15T23:18:49.639353",
     "exception": false,
     "start_time": "2022-02-15T23:18:49.586355",
     "status": "completed"
    },
    "tags": []
   },
   "outputs": [
    {
     "data": {
      "text/plain": [
       "['ALS', 'Bias', 'IALS', 'II', 'Pop', 'UU']\n",
       "Categories (6, object): ['ALS', 'Bias', 'IALS', 'II', 'Pop', 'UU']"
      ]
     },
     "execution_count": 10,
     "metadata": {},
     "output_type": "execute_result"
    }
   ],
   "source": [
    "rec_algos = recs['algorithm'].unique()\n",
    "rec_algos"
   ]
  },
  {
   "cell_type": "code",
   "execution_count": 11,
   "id": "cee17ec7",
   "metadata": {
    "execution": {
     "iopub.execute_input": "2022-02-15T23:18:49.690423Z",
     "iopub.status.busy": "2022-02-15T23:18:49.690423Z",
     "iopub.status.idle": "2022-02-15T23:18:49.780394Z",
     "shell.execute_reply": "2022-02-15T23:18:49.779424Z"
    },
    "papermill": {
     "duration": 0.121038,
     "end_time": "2022-02-15T23:18:49.784429",
     "exception": false,
     "start_time": "2022-02-15T23:18:49.663391",
     "status": "completed"
    },
    "tags": []
   },
   "outputs": [
    {
     "name": "stdout",
     "output_type": "stream",
     "text": [
      "<class 'pandas.core.frame.DataFrame'>\n",
      "RangeIndex: 23575 entries, 0 to 23574\n",
      "Data columns (total 6 columns):\n",
      " #   Column      Non-Null Count  Dtype   \n",
      "---  ------      --------------  -----   \n",
      " 0   user        23575 non-null  int64   \n",
      " 1   item        23575 non-null  int64   \n",
      " 2   rating      23575 non-null  float64 \n",
      " 3   timestamp   23575 non-null  int64   \n",
      " 4   prediction  23565 non-null  float64 \n",
      " 5   algorithm   23575 non-null  category\n",
      "dtypes: category(1), float64(2), int64(3)\n",
      "memory usage: 944.3 KB\n"
     ]
    }
   ],
   "source": [
    "preds = []\n",
    "for fld in dirs:\n",
    "    for file in fld.glob(\"pred-*\"):\n",
    "        pred = pd.read_csv(file, sep=',')\n",
    "        pred[\"algorithm\"] = fld.name.split(\"-\")[1]\n",
    "        preds.append(pred)\n",
    "\n",
    "preds = pd.concat(preds, ignore_index=True)\n",
    "preds = preds.astype({'algorithm': 'category'})\n",
    "preds.info()"
   ]
  },
  {
   "cell_type": "markdown",
   "id": "51919988",
   "metadata": {
    "papermill": {
     "duration": 0.025369,
     "end_time": "2022-02-15T23:18:49.840762",
     "exception": false,
     "start_time": "2022-02-15T23:18:49.815393",
     "status": "completed"
    },
    "tags": []
   },
   "source": [
    "We need to load the test data so that we have the ground truths for computing accuracy "
   ]
  },
  {
   "cell_type": "code",
   "execution_count": 12,
   "id": "f6394b4c",
   "metadata": {
    "execution": {
     "iopub.execute_input": "2022-02-15T23:18:49.892337Z",
     "iopub.status.busy": "2022-02-15T23:18:49.892337Z",
     "iopub.status.idle": "2022-02-15T23:18:49.906259Z",
     "shell.execute_reply": "2022-02-15T23:18:49.905411Z"
    },
    "papermill": {
     "duration": 0.040499,
     "end_time": "2022-02-15T23:18:49.907261",
     "exception": false,
     "start_time": "2022-02-15T23:18:49.866762",
     "status": "completed"
    },
    "tags": []
   },
   "outputs": [],
   "source": [
    "split_root = Path(\"data-split\")\n",
    "split_dir = split_root / dataset"
   ]
  },
  {
   "cell_type": "code",
   "execution_count": 13,
   "id": "7d71beb6",
   "metadata": {
    "execution": {
     "iopub.execute_input": "2022-02-15T23:18:49.957290Z",
     "iopub.status.busy": "2022-02-15T23:18:49.957290Z",
     "iopub.status.idle": "2022-02-15T23:18:49.985145Z",
     "shell.execute_reply": "2022-02-15T23:18:49.984606Z"
    },
    "papermill": {
     "duration": 0.054887,
     "end_time": "2022-02-15T23:18:49.987177",
     "exception": false,
     "start_time": "2022-02-15T23:18:49.932290",
     "status": "completed"
    },
    "tags": []
   },
   "outputs": [],
   "source": [
    "test = []\n",
    "for file in split_dir.glob(\"test-*.csv.gz\"):\n",
    "    test.append(pd.read_csv(file, sep=','))\n",
    "\n",
    "test = pd.concat(test, ignore_index=True)"
   ]
  },
  {
   "cell_type": "markdown",
   "id": "854a3b7d",
   "metadata": {
    "papermill": {
     "duration": 0.027038,
     "end_time": "2022-02-15T23:18:50.038790",
     "exception": false,
     "start_time": "2022-02-15T23:18:50.011752",
     "status": "completed"
    },
    "tags": []
   },
   "source": [
    "# Top-N Metrics"
   ]
  },
  {
   "cell_type": "markdown",
   "id": "6cec8d34",
   "metadata": {
    "papermill": {
     "duration": 0.026019,
     "end_time": "2022-02-15T23:18:50.089792",
     "exception": false,
     "start_time": "2022-02-15T23:18:50.063773",
     "status": "completed"
    },
    "tags": []
   },
   "source": [
    "The topn.RecListAnalysis class computes top-N metrics for recommendation list and takes care of making sure that the recommendations and ground truths are properly matched. Refer to the documentation for detailed explanation of the purpose for the RecListAnalysis class and how the analysis is done - https://lkpy.lenskit.org/en/stable/evaluation/topn-metrics.html "
   ]
  },
  {
   "cell_type": "code",
   "execution_count": 14,
   "id": "0b57c175",
   "metadata": {
    "execution": {
     "iopub.execute_input": "2022-02-15T23:18:50.142822Z",
     "iopub.status.busy": "2022-02-15T23:18:50.142822Z",
     "iopub.status.idle": "2022-02-15T23:18:50.537172Z",
     "shell.execute_reply": "2022-02-15T23:18:50.536623Z"
    },
    "papermill": {
     "duration": 0.421344,
     "end_time": "2022-02-15T23:18:50.538174",
     "exception": false,
     "start_time": "2022-02-15T23:18:50.116830",
     "status": "completed"
    },
    "tags": []
   },
   "outputs": [
    {
     "name": "stdout",
     "output_type": "stream",
     "text": [
      "[   INFO] lenskit.topn analyzing 565800 recommendations (4715 truth rows)\n"
     ]
    },
    {
     "name": "stdout",
     "output_type": "stream",
     "text": [
      "[   INFO] lenskit.topn using rec key columns ['algorithm', 'user']\n"
     ]
    },
    {
     "name": "stdout",
     "output_type": "stream",
     "text": [
      "[   INFO] lenskit.topn using truth key columns ['user']\n"
     ]
    },
    {
     "name": "stdout",
     "output_type": "stream",
     "text": [
      "[   INFO] lenskit.topn numbering truth lists\n"
     ]
    },
    {
     "name": "stdout",
     "output_type": "stream",
     "text": [
      "[   INFO] lenskit.topn numbering rec lists\n"
     ]
    },
    {
     "name": "stdout",
     "output_type": "stream",
     "text": [
      "[   INFO] lenskit.topn collecting metric results\n"
     ]
    },
    {
     "name": "stdout",
     "output_type": "stream",
     "text": [
      "[   INFO] lenskit.topn measured 5658 lists in  232ms\n"
     ]
    },
    {
     "name": "stdout",
     "output_type": "stream",
     "text": [
      "[   INFO] lenskit.topn filling in missing user info (5658 initial rows)\n"
     ]
    },
    {
     "data": {
      "text/html": [
       "<div>\n",
       "<style scoped>\n",
       "    .dataframe tbody tr th:only-of-type {\n",
       "        vertical-align: middle;\n",
       "    }\n",
       "\n",
       "    .dataframe tbody tr th {\n",
       "        vertical-align: top;\n",
       "    }\n",
       "\n",
       "    .dataframe thead th {\n",
       "        text-align: right;\n",
       "    }\n",
       "</style>\n",
       "<table border=\"1\" class=\"dataframe\">\n",
       "  <thead>\n",
       "    <tr style=\"text-align: right;\">\n",
       "      <th></th>\n",
       "      <th></th>\n",
       "      <th>level_1</th>\n",
       "      <th>nrecs</th>\n",
       "      <th>precision</th>\n",
       "      <th>recip_rank</th>\n",
       "      <th>ndcg</th>\n",
       "      <th>ntruth</th>\n",
       "    </tr>\n",
       "    <tr>\n",
       "      <th>algorithm</th>\n",
       "      <th>user</th>\n",
       "      <th></th>\n",
       "      <th></th>\n",
       "      <th></th>\n",
       "      <th></th>\n",
       "      <th></th>\n",
       "      <th></th>\n",
       "    </tr>\n",
       "  </thead>\n",
       "  <tbody>\n",
       "    <tr>\n",
       "      <th rowspan=\"5\" valign=\"top\">ALS</th>\n",
       "      <th>7</th>\n",
       "      <td>0</td>\n",
       "      <td>100</td>\n",
       "      <td>0.01</td>\n",
       "      <td>0.500000</td>\n",
       "      <td>0.301792</td>\n",
       "      <td>5</td>\n",
       "    </tr>\n",
       "    <tr>\n",
       "      <th>14</th>\n",
       "      <td>1</td>\n",
       "      <td>100</td>\n",
       "      <td>0.04</td>\n",
       "      <td>0.100000</td>\n",
       "      <td>0.243961</td>\n",
       "      <td>5</td>\n",
       "    </tr>\n",
       "    <tr>\n",
       "      <th>16</th>\n",
       "      <td>2</td>\n",
       "      <td>100</td>\n",
       "      <td>0.01</td>\n",
       "      <td>0.019608</td>\n",
       "      <td>0.044586</td>\n",
       "      <td>5</td>\n",
       "    </tr>\n",
       "    <tr>\n",
       "      <th>17</th>\n",
       "      <td>3</td>\n",
       "      <td>100</td>\n",
       "      <td>0.01</td>\n",
       "      <td>0.083333</td>\n",
       "      <td>0.099143</td>\n",
       "      <td>5</td>\n",
       "    </tr>\n",
       "    <tr>\n",
       "      <th>24</th>\n",
       "      <td>4</td>\n",
       "      <td>100</td>\n",
       "      <td>0.00</td>\n",
       "      <td>0.000000</td>\n",
       "      <td>0.000000</td>\n",
       "      <td>5</td>\n",
       "    </tr>\n",
       "  </tbody>\n",
       "</table>\n",
       "</div>"
      ],
      "text/plain": [
       "                level_1  nrecs  precision  recip_rank      ndcg  ntruth\n",
       "algorithm user                                                         \n",
       "ALS       7           0    100       0.01    0.500000  0.301792       5\n",
       "          14          1    100       0.04    0.100000  0.243961       5\n",
       "          16          2    100       0.01    0.019608  0.044586       5\n",
       "          17          3    100       0.01    0.083333  0.099143       5\n",
       "          24          4    100       0.00    0.000000  0.000000       5"
      ]
     },
     "execution_count": 14,
     "metadata": {},
     "output_type": "execute_result"
    }
   ],
   "source": [
    "rla = topn.RecListAnalysis()\n",
    "\n",
    "rla.add_metric(topn.precision)\n",
    "rla.add_metric(topn.recip_rank)\n",
    "rla.add_metric(topn.ndcg)\n",
    "results = rla.compute(recs, test, include_missing=True)\n",
    "results = results.fillna(0)\n",
    "results.head()"
   ]
  },
  {
   "cell_type": "markdown",
   "id": "7834e4c8",
   "metadata": {
    "papermill": {
     "duration": 0.027681,
     "end_time": "2022-02-15T23:18:50.593881",
     "exception": false,
     "start_time": "2022-02-15T23:18:50.566200",
     "status": "completed"
    },
    "tags": []
   },
   "source": [
    "We will reshape the 'results' dataframe by stacking the columns to index and then use the bar chart to visualize the performance of our algorithms with respect to the precision, reciprocal rank and ndcg metrics"
   ]
  },
  {
   "cell_type": "code",
   "execution_count": 15,
   "id": "5f4ab739",
   "metadata": {
    "execution": {
     "iopub.execute_input": "2022-02-15T23:18:50.651921Z",
     "iopub.status.busy": "2022-02-15T23:18:50.651921Z",
     "iopub.status.idle": "2022-02-15T23:18:50.662906Z",
     "shell.execute_reply": "2022-02-15T23:18:50.661964Z"
    },
    "papermill": {
     "duration": 0.042016,
     "end_time": "2022-02-15T23:18:50.664888",
     "exception": false,
     "start_time": "2022-02-15T23:18:50.622872",
     "status": "completed"
    },
    "tags": []
   },
   "outputs": [
    {
     "data": {
      "text/html": [
       "<div>\n",
       "<style scoped>\n",
       "    .dataframe tbody tr th:only-of-type {\n",
       "        vertical-align: middle;\n",
       "    }\n",
       "\n",
       "    .dataframe tbody tr th {\n",
       "        vertical-align: top;\n",
       "    }\n",
       "\n",
       "    .dataframe thead th {\n",
       "        text-align: right;\n",
       "    }\n",
       "</style>\n",
       "<table border=\"1\" class=\"dataframe\">\n",
       "  <thead>\n",
       "    <tr style=\"text-align: right;\">\n",
       "      <th></th>\n",
       "      <th>algorithm</th>\n",
       "      <th>user</th>\n",
       "      <th>metric</th>\n",
       "      <th>val</th>\n",
       "    </tr>\n",
       "  </thead>\n",
       "  <tbody>\n",
       "    <tr>\n",
       "      <th>0</th>\n",
       "      <td>ALS</td>\n",
       "      <td>7</td>\n",
       "      <td>level_1</td>\n",
       "      <td>0.000000</td>\n",
       "    </tr>\n",
       "    <tr>\n",
       "      <th>1</th>\n",
       "      <td>ALS</td>\n",
       "      <td>7</td>\n",
       "      <td>precision</td>\n",
       "      <td>0.010000</td>\n",
       "    </tr>\n",
       "    <tr>\n",
       "      <th>2</th>\n",
       "      <td>ALS</td>\n",
       "      <td>7</td>\n",
       "      <td>recip_rank</td>\n",
       "      <td>0.500000</td>\n",
       "    </tr>\n",
       "    <tr>\n",
       "      <th>3</th>\n",
       "      <td>ALS</td>\n",
       "      <td>7</td>\n",
       "      <td>ndcg</td>\n",
       "      <td>0.301792</td>\n",
       "    </tr>\n",
       "    <tr>\n",
       "      <th>4</th>\n",
       "      <td>ALS</td>\n",
       "      <td>14</td>\n",
       "      <td>level_1</td>\n",
       "      <td>1.000000</td>\n",
       "    </tr>\n",
       "  </tbody>\n",
       "</table>\n",
       "</div>"
      ],
      "text/plain": [
       "  algorithm  user      metric       val\n",
       "0       ALS     7     level_1  0.000000\n",
       "1       ALS     7   precision  0.010000\n",
       "2       ALS     7  recip_rank  0.500000\n",
       "3       ALS     7        ndcg  0.301792\n",
       "4       ALS    14     level_1  1.000000"
      ]
     },
     "execution_count": 15,
     "metadata": {},
     "output_type": "execute_result"
    }
   ],
   "source": [
    "pltData = (results.drop(columns=['nrecs', 'ntruth']).stack()).reset_index()\n",
    "pltData.columns = ['algorithm', 'user', 'metric', 'val']\n",
    "pltData.head()"
   ]
  },
  {
   "cell_type": "markdown",
   "id": "a23e8f76",
   "metadata": {
    "papermill": {
     "duration": 0.034968,
     "end_time": "2022-02-15T23:18:50.727889",
     "exception": false,
     "start_time": "2022-02-15T23:18:50.692921",
     "status": "completed"
    },
    "tags": []
   },
   "source": [
    "We need to determine if the differences we observe in the performances of the algorithms for the various metrics are statistically significant. To achieve this, we will need to use either a parametric or non-parametric statistical test for comparing the differences. We will consider a parametric test - repeated ANOVA measure cause our sample groups are correlated."
   ]
  },
  {
   "cell_type": "code",
   "execution_count": 16,
   "id": "405b7de5",
   "metadata": {
    "execution": {
     "iopub.execute_input": "2022-02-15T23:18:50.804477Z",
     "iopub.status.busy": "2022-02-15T23:18:50.804477Z",
     "iopub.status.idle": "2022-02-15T23:18:52.084126Z",
     "shell.execute_reply": "2022-02-15T23:18:52.084126Z"
    },
    "papermill": {
     "duration": 1.322227,
     "end_time": "2022-02-15T23:18:52.086127",
     "exception": false,
     "start_time": "2022-02-15T23:18:50.763900",
     "status": "completed"
    },
    "tags": []
   },
   "outputs": [
    {
     "data": {
      "image/png": "[encoded data removed]",
      "text/plain": [
       "<Figure size 1036.8x216 with 4 Axes>"
      ]
     },
     "metadata": {
      "needs_background": "light"
     },
     "output_type": "display_data"
    }
   ],
   "source": [
    "g = sns.catplot(x = \"algorithm\", y = \"val\", data = pltData, kind=\"bar\", col = \"metric\", aspect=1.2, height=3, sharey=False)"
   ]
  },
  {
   "cell_type": "markdown",
   "id": "2bd36ebd",
   "metadata": {
    "papermill": {
     "duration": 0.02903,
     "end_time": "2022-02-15T23:18:52.148126",
     "exception": false,
     "start_time": "2022-02-15T23:18:52.119096",
     "status": "completed"
    },
    "tags": []
   },
   "source": [
    "### Statistical Testing"
   ]
  },
  {
   "cell_type": "markdown",
   "id": "e094077d",
   "metadata": {
    "papermill": {
     "duration": 0.030031,
     "end_time": "2022-02-15T23:18:52.209126",
     "exception": false,
     "start_time": "2022-02-15T23:18:52.179095",
     "status": "completed"
    },
    "tags": []
   },
   "source": [
    "We will now examine these metrics in more detail and test for statistical significance.  Best practice for statistical testing for recommender systems is still a work in progress, but this method avoids most of the validity problems we know about.\n",
    "\n",
    "The Friedman $\\chi^2$ test will test the null hypothesis that there is no difference between algorithms in terms of their performance."
   ]
  },
  {
   "cell_type": "code",
   "execution_count": 17,
   "id": "3be0f6d8",
   "metadata": {
    "execution": {
     "iopub.execute_input": "2022-02-15T23:18:52.272123Z",
     "iopub.status.busy": "2022-02-15T23:18:52.272123Z",
     "iopub.status.idle": "2022-02-15T23:18:52.288127Z",
     "shell.execute_reply": "2022-02-15T23:18:52.288127Z"
    },
    "papermill": {
     "duration": 0.051002,
     "end_time": "2022-02-15T23:18:52.290126",
     "exception": false,
     "start_time": "2022-02-15T23:18:52.239124",
     "status": "completed"
    },
    "tags": []
   },
   "outputs": [],
   "source": [
    "def metric_friedman(metric):\n",
    "    groups = [df[metric] for a, df in results.groupby('algorithm')]\n",
    "\n",
    "    stat, p = friedmanchisquare(*groups)\n",
    "    return pd.Series({'stat': stat, 'p': p}, name=metric)"
   ]
  },
  {
   "cell_type": "markdown",
   "id": "b956cb12",
   "metadata": {
    "papermill": {
     "duration": 0.034029,
     "end_time": "2022-02-15T23:18:52.358122",
     "exception": false,
     "start_time": "2022-02-15T23:18:52.324093",
     "status": "completed"
    },
    "tags": []
   },
   "source": [
    "If the test detects significance, we have at least one pair of different algorithms - but which pairs?  Unfortunately, the good tests aren't readily available in scipy and friends, so we're going to take a conservative approch and perform pairwise Wilconxon signed-rank tests with a Bonferroni adjustment."
   ]
  },
  {
   "cell_type": "code",
   "execution_count": 18,
   "id": "4b2ba8c6",
   "metadata": {
    "execution": {
     "iopub.execute_input": "2022-02-15T23:18:52.424121Z",
     "iopub.status.busy": "2022-02-15T23:18:52.424121Z",
     "iopub.status.idle": "2022-02-15T23:18:52.431106Z",
     "shell.execute_reply": "2022-02-15T23:18:52.430122Z"
    },
    "papermill": {
     "duration": 0.044044,
     "end_time": "2022-02-15T23:18:52.433136",
     "exception": false,
     "start_time": "2022-02-15T23:18:52.389092",
     "status": "completed"
    },
    "tags": []
   },
   "outputs": [],
   "source": [
    "pairs = pd.DataFrame.from_records(combinations(rec_algos, 2), columns=['A1', 'A2'])\n",
    "def am_wilcox(metric, p_scale = len(pairs)):\n",
    "    def compute(df):\n",
    "        vs1 = results.loc[df['A1'], metric]\n",
    "        vs2 = results.loc[df['A2'], metric]\n",
    "        diff = (vs1 - vs2).mean()\n",
    "        stat, p = wilcoxon(vs1, vs2)\n",
    "        return pd.Series({'diff': diff, 'stat': stat, 'p': p, 'adj_p': p * p_scale})\n",
    "    scores = pairs.apply(compute, axis=1)\n",
    "    return pairs.join(scores)"
   ]
  },
  {
   "cell_type": "markdown",
   "id": "cddda195",
   "metadata": {
    "papermill": {
     "duration": 0.032964,
     "end_time": "2022-02-15T23:18:52.499614",
     "exception": false,
     "start_time": "2022-02-15T23:18:52.466650",
     "status": "completed"
    },
    "tags": []
   },
   "source": [
    "## Precision"
   ]
  },
  {
   "cell_type": "code",
   "execution_count": 19,
   "id": "c0375358",
   "metadata": {
    "execution": {
     "iopub.execute_input": "2022-02-15T23:18:52.560353Z",
     "iopub.status.busy": "2022-02-15T23:18:52.560353Z",
     "iopub.status.idle": "2022-02-15T23:18:52.649657Z",
     "shell.execute_reply": "2022-02-15T23:18:52.649657Z"
    },
    "papermill": {
     "duration": 0.122083,
     "end_time": "2022-02-15T23:18:52.651657",
     "exception": false,
     "start_time": "2022-02-15T23:18:52.529574",
     "status": "completed"
    },
    "tags": []
   },
   "outputs": [
    {
     "data": {
      "text/plain": [
       "stat    2566.448386\n",
       "p          0.000000\n",
       "Name: precision, dtype: float64"
      ]
     },
     "execution_count": 19,
     "metadata": {},
     "output_type": "execute_result"
    }
   ],
   "source": [
    "metric_friedman('precision')"
   ]
  },
  {
   "cell_type": "markdown",
   "id": "4748931c",
   "metadata": {
    "papermill": {
     "duration": 0.031032,
     "end_time": "2022-02-15T23:18:52.717659",
     "exception": false,
     "start_time": "2022-02-15T23:18:52.686627",
     "status": "completed"
    },
    "tags": []
   },
   "source": [
    "This indicates a statistically significant difference exists - but where is it?\n",
    "\n",
    "To answer that question, we need a post-hoc test. "
   ]
  },
  {
   "cell_type": "code",
   "execution_count": 20,
   "id": "8347dca2",
   "metadata": {
    "execution": {
     "iopub.execute_input": "2022-02-15T23:18:52.783628Z",
     "iopub.status.busy": "2022-02-15T23:18:52.783628Z",
     "iopub.status.idle": "2022-02-15T23:18:52.824654Z",
     "shell.execute_reply": "2022-02-15T23:18:52.824654Z"
    },
    "papermill": {
     "duration": 0.076988,
     "end_time": "2022-02-15T23:18:52.826654",
     "exception": false,
     "start_time": "2022-02-15T23:18:52.749666",
     "status": "completed"
    },
    "tags": []
   },
   "outputs": [
    {
     "data": {
      "text/html": [
       "<div>\n",
       "<style scoped>\n",
       "    .dataframe tbody tr th:only-of-type {\n",
       "        vertical-align: middle;\n",
       "    }\n",
       "\n",
       "    .dataframe tbody tr th {\n",
       "        vertical-align: top;\n",
       "    }\n",
       "\n",
       "    .dataframe thead th {\n",
       "        text-align: right;\n",
       "    }\n",
       "</style>\n",
       "<table border=\"1\" class=\"dataframe\">\n",
       "  <thead>\n",
       "    <tr style=\"text-align: right;\">\n",
       "      <th></th>\n",
       "      <th>A1</th>\n",
       "      <th>A2</th>\n",
       "      <th>diff</th>\n",
       "      <th>stat</th>\n",
       "      <th>p</th>\n",
       "      <th>adj_p</th>\n",
       "    </tr>\n",
       "  </thead>\n",
       "  <tbody>\n",
       "    <tr>\n",
       "      <th>11</th>\n",
       "      <td>IALS</td>\n",
       "      <td>UU</td>\n",
       "      <td>0.027338</td>\n",
       "      <td>1950.0</td>\n",
       "      <td>5.020471e-146</td>\n",
       "      <td>7.530707e-145</td>\n",
       "    </tr>\n",
       "    <tr>\n",
       "      <th>9</th>\n",
       "      <td>IALS</td>\n",
       "      <td>II</td>\n",
       "      <td>0.025504</td>\n",
       "      <td>4375.0</td>\n",
       "      <td>1.888412e-137</td>\n",
       "      <td>2.832618e-136</td>\n",
       "    </tr>\n",
       "    <tr>\n",
       "      <th>14</th>\n",
       "      <td>Pop</td>\n",
       "      <td>UU</td>\n",
       "      <td>0.015080</td>\n",
       "      <td>9669.0</td>\n",
       "      <td>2.572141e-116</td>\n",
       "      <td>3.858211e-115</td>\n",
       "    </tr>\n",
       "    <tr>\n",
       "      <th>10</th>\n",
       "      <td>IALS</td>\n",
       "      <td>Pop</td>\n",
       "      <td>0.012259</td>\n",
       "      <td>17384.0</td>\n",
       "      <td>1.047689e-89</td>\n",
       "      <td>1.571533e-88</td>\n",
       "    </tr>\n",
       "    <tr>\n",
       "      <th>4</th>\n",
       "      <td>ALS</td>\n",
       "      <td>UU</td>\n",
       "      <td>0.003457</td>\n",
       "      <td>11241.5</td>\n",
       "      <td>5.108602e-33</td>\n",
       "      <td>7.662903e-32</td>\n",
       "    </tr>\n",
       "    <tr>\n",
       "      <th>8</th>\n",
       "      <td>Bias</td>\n",
       "      <td>UU</td>\n",
       "      <td>0.003436</td>\n",
       "      <td>16811.0</td>\n",
       "      <td>4.329554e-27</td>\n",
       "      <td>6.494331e-26</td>\n",
       "    </tr>\n",
       "    <tr>\n",
       "      <th>13</th>\n",
       "      <td>II</td>\n",
       "      <td>UU</td>\n",
       "      <td>0.001835</td>\n",
       "      <td>18946.0</td>\n",
       "      <td>2.192785e-11</td>\n",
       "      <td>3.289177e-10</td>\n",
       "    </tr>\n",
       "    <tr>\n",
       "      <th>2</th>\n",
       "      <td>ALS</td>\n",
       "      <td>II</td>\n",
       "      <td>0.001622</td>\n",
       "      <td>14107.5</td>\n",
       "      <td>1.088990e-12</td>\n",
       "      <td>1.633485e-11</td>\n",
       "    </tr>\n",
       "    <tr>\n",
       "      <th>6</th>\n",
       "      <td>Bias</td>\n",
       "      <td>II</td>\n",
       "      <td>0.001601</td>\n",
       "      <td>21093.5</td>\n",
       "      <td>8.936320e-10</td>\n",
       "      <td>1.340448e-08</td>\n",
       "    </tr>\n",
       "    <tr>\n",
       "      <th>0</th>\n",
       "      <td>ALS</td>\n",
       "      <td>Bias</td>\n",
       "      <td>0.000021</td>\n",
       "      <td>31483.5</td>\n",
       "      <td>8.027451e-01</td>\n",
       "      <td>1.204118e+01</td>\n",
       "    </tr>\n",
       "    <tr>\n",
       "      <th>3</th>\n",
       "      <td>ALS</td>\n",
       "      <td>Pop</td>\n",
       "      <td>-0.011622</td>\n",
       "      <td>28988.5</td>\n",
       "      <td>1.355203e-83</td>\n",
       "      <td>2.032805e-82</td>\n",
       "    </tr>\n",
       "    <tr>\n",
       "      <th>7</th>\n",
       "      <td>Bias</td>\n",
       "      <td>Pop</td>\n",
       "      <td>-0.011644</td>\n",
       "      <td>29969.0</td>\n",
       "      <td>4.930287e-83</td>\n",
       "      <td>7.395431e-82</td>\n",
       "    </tr>\n",
       "    <tr>\n",
       "      <th>12</th>\n",
       "      <td>II</td>\n",
       "      <td>Pop</td>\n",
       "      <td>-0.013245</td>\n",
       "      <td>19339.5</td>\n",
       "      <td>2.735608e-97</td>\n",
       "      <td>4.103412e-96</td>\n",
       "    </tr>\n",
       "    <tr>\n",
       "      <th>1</th>\n",
       "      <td>ALS</td>\n",
       "      <td>IALS</td>\n",
       "      <td>-0.023881</td>\n",
       "      <td>7703.0</td>\n",
       "      <td>4.690341e-131</td>\n",
       "      <td>7.035512e-130</td>\n",
       "    </tr>\n",
       "    <tr>\n",
       "      <th>5</th>\n",
       "      <td>Bias</td>\n",
       "      <td>IALS</td>\n",
       "      <td>-0.023902</td>\n",
       "      <td>7631.0</td>\n",
       "      <td>1.133894e-131</td>\n",
       "      <td>1.700841e-130</td>\n",
       "    </tr>\n",
       "  </tbody>\n",
       "</table>\n",
       "</div>"
      ],
      "text/plain": [
       "      A1    A2      diff     stat              p          adj_p\n",
       "11  IALS    UU  0.027338   1950.0  5.020471e-146  7.530707e-145\n",
       "9   IALS    II  0.025504   4375.0  1.888412e-137  2.832618e-136\n",
       "14   Pop    UU  0.015080   9669.0  2.572141e-116  3.858211e-115\n",
       "10  IALS   Pop  0.012259  17384.0   1.047689e-89   1.571533e-88\n",
       "4    ALS    UU  0.003457  11241.5   5.108602e-33   7.662903e-32\n",
       "8   Bias    UU  0.003436  16811.0   4.329554e-27   6.494331e-26\n",
       "13    II    UU  0.001835  18946.0   2.192785e-11   3.289177e-10\n",
       "2    ALS    II  0.001622  14107.5   1.088990e-12   1.633485e-11\n",
       "6   Bias    II  0.001601  21093.5   8.936320e-10   1.340448e-08\n",
       "0    ALS  Bias  0.000021  31483.5   8.027451e-01   1.204118e+01\n",
       "3    ALS   Pop -0.011622  28988.5   1.355203e-83   2.032805e-82\n",
       "7   Bias   Pop -0.011644  29969.0   4.930287e-83   7.395431e-82\n",
       "12    II   Pop -0.013245  19339.5   2.735608e-97   4.103412e-96\n",
       "1    ALS  IALS -0.023881   7703.0  4.690341e-131  7.035512e-130\n",
       "5   Bias  IALS -0.023902   7631.0  1.133894e-131  1.700841e-130"
      ]
     },
     "execution_count": 20,
     "metadata": {},
     "output_type": "execute_result"
    }
   ],
   "source": [
    "am_wilcox('precision').sort_values('diff', ascending=False)"
   ]
  },
  {
   "cell_type": "markdown",
   "id": "baba3682",
   "metadata": {
    "papermill": {
     "duration": 0.033057,
     "end_time": "2022-02-15T23:18:52.892344",
     "exception": false,
     "start_time": "2022-02-15T23:18:52.859287",
     "status": "completed"
    },
    "tags": []
   },
   "source": [
    "We can consider pairs with an adjusted $p$ value less than 0.05 (5.0e-2) to be statistically significant.  However, we have so many data points, the substance of significance is questionable.  Pay attention to the 'diff' column, which is the difference between A1 and A2 (how much A1 outperforms A2)."
   ]
  },
  {
   "cell_type": "markdown",
   "id": "4d8b170c",
   "metadata": {
    "papermill": {
     "duration": 0.032993,
     "end_time": "2022-02-15T23:18:52.960332",
     "exception": false,
     "start_time": "2022-02-15T23:18:52.927339",
     "status": "completed"
    },
    "tags": []
   },
   "source": [
    "### nDCG"
   ]
  },
  {
   "cell_type": "markdown",
   "id": "de59ec76",
   "metadata": {
    "papermill": {
     "duration": 0.035667,
     "end_time": "2022-02-15T23:18:53.033968",
     "exception": false,
     "start_time": "2022-02-15T23:18:52.998301",
     "status": "completed"
    },
    "tags": []
   },
   "source": [
    "Now let's do the same for nDCG:"
   ]
  },
  {
   "cell_type": "code",
   "execution_count": 21,
   "id": "9a311e42",
   "metadata": {
    "execution": {
     "iopub.execute_input": "2022-02-15T23:18:53.101940Z",
     "iopub.status.busy": "2022-02-15T23:18:53.101940Z",
     "iopub.status.idle": "2022-02-15T23:18:53.188001Z",
     "shell.execute_reply": "2022-02-15T23:18:53.188001Z"
    },
    "papermill": {
     "duration": 0.122999,
     "end_time": "2022-02-15T23:18:53.189970",
     "exception": false,
     "start_time": "2022-02-15T23:18:53.066971",
     "status": "completed"
    },
    "tags": []
   },
   "outputs": [
    {
     "data": {
      "text/plain": [
       "stat    2123.644034\n",
       "p          0.000000\n",
       "Name: ndcg, dtype: float64"
      ]
     },
     "execution_count": 21,
     "metadata": {},
     "output_type": "execute_result"
    }
   ],
   "source": [
    "metric_friedman('ndcg')"
   ]
  },
  {
   "cell_type": "code",
   "execution_count": 22,
   "id": "c31f481d",
   "metadata": {
    "execution": {
     "iopub.execute_input": "2022-02-15T23:18:53.256010Z",
     "iopub.status.busy": "2022-02-15T23:18:53.256010Z",
     "iopub.status.idle": "2022-02-15T23:18:53.299984Z",
     "shell.execute_reply": "2022-02-15T23:18:53.299984Z"
    },
    "papermill": {
     "duration": 0.079041,
     "end_time": "2022-02-15T23:18:53.302012",
     "exception": false,
     "start_time": "2022-02-15T23:18:53.222971",
     "status": "completed"
    },
    "tags": []
   },
   "outputs": [
    {
     "data": {
      "text/html": [
       "<div>\n",
       "<style scoped>\n",
       "    .dataframe tbody tr th:only-of-type {\n",
       "        vertical-align: middle;\n",
       "    }\n",
       "\n",
       "    .dataframe tbody tr th {\n",
       "        vertical-align: top;\n",
       "    }\n",
       "\n",
       "    .dataframe thead th {\n",
       "        text-align: right;\n",
       "    }\n",
       "</style>\n",
       "<table border=\"1\" class=\"dataframe\">\n",
       "  <thead>\n",
       "    <tr style=\"text-align: right;\">\n",
       "      <th></th>\n",
       "      <th>A1</th>\n",
       "      <th>A2</th>\n",
       "      <th>diff</th>\n",
       "      <th>stat</th>\n",
       "      <th>p</th>\n",
       "      <th>adj_p</th>\n",
       "    </tr>\n",
       "  </thead>\n",
       "  <tbody>\n",
       "    <tr>\n",
       "      <th>11</th>\n",
       "      <td>IALS</td>\n",
       "      <td>UU</td>\n",
       "      <td>0.244295</td>\n",
       "      <td>2450.0</td>\n",
       "      <td>1.047782e-151</td>\n",
       "      <td>1.571673e-150</td>\n",
       "    </tr>\n",
       "    <tr>\n",
       "      <th>9</th>\n",
       "      <td>IALS</td>\n",
       "      <td>II</td>\n",
       "      <td>0.222729</td>\n",
       "      <td>15959.0</td>\n",
       "      <td>1.042509e-133</td>\n",
       "      <td>1.563764e-132</td>\n",
       "    </tr>\n",
       "    <tr>\n",
       "      <th>14</th>\n",
       "      <td>Pop</td>\n",
       "      <td>UU</td>\n",
       "      <td>0.148184</td>\n",
       "      <td>10033.0</td>\n",
       "      <td>5.275428e-134</td>\n",
       "      <td>7.913142e-133</td>\n",
       "    </tr>\n",
       "    <tr>\n",
       "      <th>10</th>\n",
       "      <td>IALS</td>\n",
       "      <td>Pop</td>\n",
       "      <td>0.096111</td>\n",
       "      <td>108683.0</td>\n",
       "      <td>3.731257e-41</td>\n",
       "      <td>5.596886e-40</td>\n",
       "    </tr>\n",
       "    <tr>\n",
       "      <th>4</th>\n",
       "      <td>ALS</td>\n",
       "      <td>UU</td>\n",
       "      <td>0.046022</td>\n",
       "      <td>21218.0</td>\n",
       "      <td>2.024207e-66</td>\n",
       "      <td>3.036311e-65</td>\n",
       "    </tr>\n",
       "    <tr>\n",
       "      <th>8</th>\n",
       "      <td>Bias</td>\n",
       "      <td>UU</td>\n",
       "      <td>0.041360</td>\n",
       "      <td>27725.5</td>\n",
       "      <td>3.247128e-58</td>\n",
       "      <td>4.870692e-57</td>\n",
       "    </tr>\n",
       "    <tr>\n",
       "      <th>2</th>\n",
       "      <td>ALS</td>\n",
       "      <td>II</td>\n",
       "      <td>0.024456</td>\n",
       "      <td>49100.0</td>\n",
       "      <td>3.449377e-29</td>\n",
       "      <td>5.174066e-28</td>\n",
       "    </tr>\n",
       "    <tr>\n",
       "      <th>13</th>\n",
       "      <td>II</td>\n",
       "      <td>UU</td>\n",
       "      <td>0.021566</td>\n",
       "      <td>45767.0</td>\n",
       "      <td>5.831325e-26</td>\n",
       "      <td>8.746987e-25</td>\n",
       "    </tr>\n",
       "    <tr>\n",
       "      <th>6</th>\n",
       "      <td>Bias</td>\n",
       "      <td>II</td>\n",
       "      <td>0.019794</td>\n",
       "      <td>61510.0</td>\n",
       "      <td>3.158119e-19</td>\n",
       "      <td>4.737179e-18</td>\n",
       "    </tr>\n",
       "    <tr>\n",
       "      <th>0</th>\n",
       "      <td>ALS</td>\n",
       "      <td>Bias</td>\n",
       "      <td>0.004662</td>\n",
       "      <td>104417.0</td>\n",
       "      <td>3.428635e-01</td>\n",
       "      <td>5.142953e+00</td>\n",
       "    </tr>\n",
       "    <tr>\n",
       "      <th>3</th>\n",
       "      <td>ALS</td>\n",
       "      <td>Pop</td>\n",
       "      <td>-0.102162</td>\n",
       "      <td>65840.0</td>\n",
       "      <td>1.022195e-68</td>\n",
       "      <td>1.533293e-67</td>\n",
       "    </tr>\n",
       "    <tr>\n",
       "      <th>7</th>\n",
       "      <td>Bias</td>\n",
       "      <td>Pop</td>\n",
       "      <td>-0.106824</td>\n",
       "      <td>57443.0</td>\n",
       "      <td>2.786585e-78</td>\n",
       "      <td>4.179877e-77</td>\n",
       "    </tr>\n",
       "    <tr>\n",
       "      <th>12</th>\n",
       "      <td>II</td>\n",
       "      <td>Pop</td>\n",
       "      <td>-0.126618</td>\n",
       "      <td>35159.0</td>\n",
       "      <td>1.467271e-102</td>\n",
       "      <td>2.200907e-101</td>\n",
       "    </tr>\n",
       "    <tr>\n",
       "      <th>1</th>\n",
       "      <td>ALS</td>\n",
       "      <td>IALS</td>\n",
       "      <td>-0.198273</td>\n",
       "      <td>37878.0</td>\n",
       "      <td>2.328026e-107</td>\n",
       "      <td>3.492039e-106</td>\n",
       "    </tr>\n",
       "    <tr>\n",
       "      <th>5</th>\n",
       "      <td>Bias</td>\n",
       "      <td>IALS</td>\n",
       "      <td>-0.202935</td>\n",
       "      <td>30933.0</td>\n",
       "      <td>2.667369e-115</td>\n",
       "      <td>4.001053e-114</td>\n",
       "    </tr>\n",
       "  </tbody>\n",
       "</table>\n",
       "</div>"
      ],
      "text/plain": [
       "      A1    A2      diff      stat              p          adj_p\n",
       "11  IALS    UU  0.244295    2450.0  1.047782e-151  1.571673e-150\n",
       "9   IALS    II  0.222729   15959.0  1.042509e-133  1.563764e-132\n",
       "14   Pop    UU  0.148184   10033.0  5.275428e-134  7.913142e-133\n",
       "10  IALS   Pop  0.096111  108683.0   3.731257e-41   5.596886e-40\n",
       "4    ALS    UU  0.046022   21218.0   2.024207e-66   3.036311e-65\n",
       "8   Bias    UU  0.041360   27725.5   3.247128e-58   4.870692e-57\n",
       "2    ALS    II  0.024456   49100.0   3.449377e-29   5.174066e-28\n",
       "13    II    UU  0.021566   45767.0   5.831325e-26   8.746987e-25\n",
       "6   Bias    II  0.019794   61510.0   3.158119e-19   4.737179e-18\n",
       "0    ALS  Bias  0.004662  104417.0   3.428635e-01   5.142953e+00\n",
       "3    ALS   Pop -0.102162   65840.0   1.022195e-68   1.533293e-67\n",
       "7   Bias   Pop -0.106824   57443.0   2.786585e-78   4.179877e-77\n",
       "12    II   Pop -0.126618   35159.0  1.467271e-102  2.200907e-101\n",
       "1    ALS  IALS -0.198273   37878.0  2.328026e-107  3.492039e-106\n",
       "5   Bias  IALS -0.202935   30933.0  2.667369e-115  4.001053e-114"
      ]
     },
     "execution_count": 22,
     "metadata": {},
     "output_type": "execute_result"
    }
   ],
   "source": [
    "am_wilcox('ndcg').sort_values('diff', ascending=False)"
   ]
  },
  {
   "cell_type": "markdown",
   "id": "85280679",
   "metadata": {
    "papermill": {
     "duration": 0.031998,
     "end_time": "2022-02-15T23:18:53.367009",
     "exception": false,
     "start_time": "2022-02-15T23:18:53.335011",
     "status": "completed"
    },
    "tags": []
   },
   "source": [
    "### Reciprocal Rank\n",
    "\n",
    "We'll do this also for reciprocal rank (what is aggregated to compute MRR):"
   ]
  },
  {
   "cell_type": "code",
   "execution_count": 23,
   "id": "1e89c0b7",
   "metadata": {
    "execution": {
     "iopub.execute_input": "2022-02-15T23:18:53.443018Z",
     "iopub.status.busy": "2022-02-15T23:18:53.443018Z",
     "iopub.status.idle": "2022-02-15T23:18:53.536590Z",
     "shell.execute_reply": "2022-02-15T23:18:53.536590Z"
    },
    "papermill": {
     "duration": 0.13661,
     "end_time": "2022-02-15T23:18:53.538590",
     "exception": false,
     "start_time": "2022-02-15T23:18:53.401980",
     "status": "completed"
    },
    "tags": []
   },
   "outputs": [
    {
     "data": {
      "text/plain": [
       "stat    1877.569828\n",
       "p          0.000000\n",
       "Name: recip_rank, dtype: float64"
      ]
     },
     "execution_count": 23,
     "metadata": {},
     "output_type": "execute_result"
    }
   ],
   "source": [
    "metric_friedman('recip_rank')"
   ]
  },
  {
   "cell_type": "code",
   "execution_count": 24,
   "id": "2649cc61",
   "metadata": {
    "execution": {
     "iopub.execute_input": "2022-02-15T23:18:53.606201Z",
     "iopub.status.busy": "2022-02-15T23:18:53.606201Z",
     "iopub.status.idle": "2022-02-15T23:18:53.648171Z",
     "shell.execute_reply": "2022-02-15T23:18:53.647170Z"
    },
    "papermill": {
     "duration": 0.078037,
     "end_time": "2022-02-15T23:18:53.649207",
     "exception": false,
     "start_time": "2022-02-15T23:18:53.571170",
     "status": "completed"
    },
    "tags": []
   },
   "outputs": [
    {
     "data": {
      "text/html": [
       "<div>\n",
       "<style scoped>\n",
       "    .dataframe tbody tr th:only-of-type {\n",
       "        vertical-align: middle;\n",
       "    }\n",
       "\n",
       "    .dataframe tbody tr th {\n",
       "        vertical-align: top;\n",
       "    }\n",
       "\n",
       "    .dataframe thead th {\n",
       "        text-align: right;\n",
       "    }\n",
       "</style>\n",
       "<table border=\"1\" class=\"dataframe\">\n",
       "  <thead>\n",
       "    <tr style=\"text-align: right;\">\n",
       "      <th></th>\n",
       "      <th>A1</th>\n",
       "      <th>A2</th>\n",
       "      <th>diff</th>\n",
       "      <th>stat</th>\n",
       "      <th>p</th>\n",
       "      <th>adj_p</th>\n",
       "    </tr>\n",
       "  </thead>\n",
       "  <tbody>\n",
       "    <tr>\n",
       "      <th>11</th>\n",
       "      <td>IALS</td>\n",
       "      <td>UU</td>\n",
       "      <td>0.248085</td>\n",
       "      <td>6256.5</td>\n",
       "      <td>1.108716e-145</td>\n",
       "      <td>1.663074e-144</td>\n",
       "    </tr>\n",
       "    <tr>\n",
       "      <th>9</th>\n",
       "      <td>IALS</td>\n",
       "      <td>II</td>\n",
       "      <td>0.221021</td>\n",
       "      <td>39675.5</td>\n",
       "      <td>1.236022e-102</td>\n",
       "      <td>1.854033e-101</td>\n",
       "    </tr>\n",
       "    <tr>\n",
       "      <th>14</th>\n",
       "      <td>Pop</td>\n",
       "      <td>UU</td>\n",
       "      <td>0.203907</td>\n",
       "      <td>8810.5</td>\n",
       "      <td>2.354491e-135</td>\n",
       "      <td>3.531736e-134</td>\n",
       "    </tr>\n",
       "    <tr>\n",
       "      <th>4</th>\n",
       "      <td>ALS</td>\n",
       "      <td>UU</td>\n",
       "      <td>0.070534</td>\n",
       "      <td>17186.0</td>\n",
       "      <td>3.845260e-73</td>\n",
       "      <td>5.767891e-72</td>\n",
       "    </tr>\n",
       "    <tr>\n",
       "      <th>8</th>\n",
       "      <td>Bias</td>\n",
       "      <td>UU</td>\n",
       "      <td>0.057195</td>\n",
       "      <td>18832.5</td>\n",
       "      <td>1.339341e-71</td>\n",
       "      <td>2.009012e-70</td>\n",
       "    </tr>\n",
       "    <tr>\n",
       "      <th>10</th>\n",
       "      <td>IALS</td>\n",
       "      <td>Pop</td>\n",
       "      <td>0.044178</td>\n",
       "      <td>159091.0</td>\n",
       "      <td>1.541038e-06</td>\n",
       "      <td>2.311556e-05</td>\n",
       "    </tr>\n",
       "    <tr>\n",
       "      <th>2</th>\n",
       "      <td>ALS</td>\n",
       "      <td>II</td>\n",
       "      <td>0.043469</td>\n",
       "      <td>48383.0</td>\n",
       "      <td>2.699226e-28</td>\n",
       "      <td>4.048840e-27</td>\n",
       "    </tr>\n",
       "    <tr>\n",
       "      <th>6</th>\n",
       "      <td>Bias</td>\n",
       "      <td>II</td>\n",
       "      <td>0.030131</td>\n",
       "      <td>60277.5</td>\n",
       "      <td>6.835116e-20</td>\n",
       "      <td>1.025267e-18</td>\n",
       "    </tr>\n",
       "    <tr>\n",
       "      <th>13</th>\n",
       "      <td>II</td>\n",
       "      <td>UU</td>\n",
       "      <td>0.027064</td>\n",
       "      <td>38413.0</td>\n",
       "      <td>4.005928e-34</td>\n",
       "      <td>6.008893e-33</td>\n",
       "    </tr>\n",
       "    <tr>\n",
       "      <th>0</th>\n",
       "      <td>ALS</td>\n",
       "      <td>Bias</td>\n",
       "      <td>0.013338</td>\n",
       "      <td>104877.0</td>\n",
       "      <td>8.492244e-01</td>\n",
       "      <td>1.273837e+01</td>\n",
       "    </tr>\n",
       "    <tr>\n",
       "      <th>3</th>\n",
       "      <td>ALS</td>\n",
       "      <td>Pop</td>\n",
       "      <td>-0.133374</td>\n",
       "      <td>78410.0</td>\n",
       "      <td>2.286580e-54</td>\n",
       "      <td>3.429871e-53</td>\n",
       "    </tr>\n",
       "    <tr>\n",
       "      <th>7</th>\n",
       "      <td>Bias</td>\n",
       "      <td>Pop</td>\n",
       "      <td>-0.146712</td>\n",
       "      <td>67563.5</td>\n",
       "      <td>2.679668e-65</td>\n",
       "      <td>4.019502e-64</td>\n",
       "    </tr>\n",
       "    <tr>\n",
       "      <th>12</th>\n",
       "      <td>II</td>\n",
       "      <td>Pop</td>\n",
       "      <td>-0.176843</td>\n",
       "      <td>44382.0</td>\n",
       "      <td>2.435392e-90</td>\n",
       "      <td>3.653088e-89</td>\n",
       "    </tr>\n",
       "    <tr>\n",
       "      <th>1</th>\n",
       "      <td>ALS</td>\n",
       "      <td>IALS</td>\n",
       "      <td>-0.177551</td>\n",
       "      <td>77621.0</td>\n",
       "      <td>1.269524e-64</td>\n",
       "      <td>1.904286e-63</td>\n",
       "    </tr>\n",
       "    <tr>\n",
       "      <th>5</th>\n",
       "      <td>Bias</td>\n",
       "      <td>IALS</td>\n",
       "      <td>-0.190890</td>\n",
       "      <td>66033.5</td>\n",
       "      <td>2.786547e-75</td>\n",
       "      <td>4.179821e-74</td>\n",
       "    </tr>\n",
       "  </tbody>\n",
       "</table>\n",
       "</div>"
      ],
      "text/plain": [
       "      A1    A2      diff      stat              p          adj_p\n",
       "11  IALS    UU  0.248085    6256.5  1.108716e-145  1.663074e-144\n",
       "9   IALS    II  0.221021   39675.5  1.236022e-102  1.854033e-101\n",
       "14   Pop    UU  0.203907    8810.5  2.354491e-135  3.531736e-134\n",
       "4    ALS    UU  0.070534   17186.0   3.845260e-73   5.767891e-72\n",
       "8   Bias    UU  0.057195   18832.5   1.339341e-71   2.009012e-70\n",
       "10  IALS   Pop  0.044178  159091.0   1.541038e-06   2.311556e-05\n",
       "2    ALS    II  0.043469   48383.0   2.699226e-28   4.048840e-27\n",
       "6   Bias    II  0.030131   60277.5   6.835116e-20   1.025267e-18\n",
       "13    II    UU  0.027064   38413.0   4.005928e-34   6.008893e-33\n",
       "0    ALS  Bias  0.013338  104877.0   8.492244e-01   1.273837e+01\n",
       "3    ALS   Pop -0.133374   78410.0   2.286580e-54   3.429871e-53\n",
       "7   Bias   Pop -0.146712   67563.5   2.679668e-65   4.019502e-64\n",
       "12    II   Pop -0.176843   44382.0   2.435392e-90   3.653088e-89\n",
       "1    ALS  IALS -0.177551   77621.0   1.269524e-64   1.904286e-63\n",
       "5   Bias  IALS -0.190890   66033.5   2.786547e-75   4.179821e-74"
      ]
     },
     "execution_count": 24,
     "metadata": {},
     "output_type": "execute_result"
    }
   ],
   "source": [
    "am_wilcox('recip_rank').sort_values('diff', ascending=False)"
   ]
  },
  {
   "cell_type": "markdown",
   "id": "a52dc011",
   "metadata": {
    "papermill": {
     "duration": 0.038011,
     "end_time": "2022-02-15T23:18:53.722200",
     "exception": false,
     "start_time": "2022-02-15T23:18:53.684189",
     "status": "completed"
    },
    "tags": []
   },
   "source": [
    "## Prediction RMSE\n",
    "\n",
    "We will also look at the prediction RMSE."
   ]
  },
  {
   "cell_type": "code",
   "execution_count": 25,
   "id": "74e073d1",
   "metadata": {
    "execution": {
     "iopub.execute_input": "2022-02-15T23:18:53.795182Z",
     "iopub.status.busy": "2022-02-15T23:18:53.795182Z",
     "iopub.status.idle": "2022-02-15T23:18:56.455504Z",
     "shell.execute_reply": "2022-02-15T23:18:56.454534Z"
    },
    "papermill": {
     "duration": 2.700365,
     "end_time": "2022-02-15T23:18:56.456534",
     "exception": false,
     "start_time": "2022-02-15T23:18:53.756169",
     "status": "completed"
    },
    "tags": []
   },
   "outputs": [],
   "source": [
    "user_rmse = preds.groupby(['algorithm', 'user']).apply(lambda df: rmse(df['prediction'], df['rating']))\n",
    "user_rmse = user_rmse.reset_index(name='RMSE')"
   ]
  },
  {
   "cell_type": "code",
   "execution_count": 26,
   "id": "fcdb65d8",
   "metadata": {
    "execution": {
     "iopub.execute_input": "2022-02-15T23:18:56.528652Z",
     "iopub.status.busy": "2022-02-15T23:18:56.528652Z",
     "iopub.status.idle": "2022-02-15T23:18:56.799185Z",
     "shell.execute_reply": "2022-02-15T23:18:56.798213Z"
    },
    "papermill": {
     "duration": 0.309634,
     "end_time": "2022-02-15T23:18:56.801214",
     "exception": false,
     "start_time": "2022-02-15T23:18:56.491580",
     "status": "completed"
    },
    "tags": []
   },
   "outputs": [
    {
     "data": {
      "text/plain": [
       "<seaborn.axisgrid.FacetGrid at 0x1a6ed962c10>"
      ]
     },
     "execution_count": 26,
     "metadata": {},
     "output_type": "execute_result"
    },
    {
     "data": {
      "image/png": "[encoded data removed]",
      "text/plain": [
       "<Figure size 360x360 with 1 Axes>"
      ]
     },
     "metadata": {
      "needs_background": "light"
     },
     "output_type": "display_data"
    }
   ],
   "source": [
    "sns.catplot(x='algorithm', y='RMSE', data=user_rmse, kind='bar')"
   ]
  },
  {
   "cell_type": "code",
   "execution_count": null,
   "id": "008ea4a5",
   "metadata": {
    "papermill": {
     "duration": 0.036001,
     "end_time": "2022-02-15T23:18:56.874184",
     "exception": false,
     "start_time": "2022-02-15T23:18:56.838183",
     "status": "completed"
    },
    "tags": []
   },
   "outputs": [],
   "source": []
  }
 ],
 "metadata": {
  "kernelspec": {
   "display_name": "Python 3 (ipykernel)",
   "language": "python",
   "name": "python3"
  },
  "language_info": {
   "codemirror_mode": {
    "name": "ipython",
    "version": 3
   },
   "file_extension": ".py",
   "mimetype": "text/x-python",
   "name": "python",
   "nbconvert_exporter": "python",
   "pygments_lexer": "ipython3",
   "version": "3.9.7"
  },
  "papermill": {
   "default_parameters": {},
   "duration": 12.822799,
   "end_time": "2022-02-15T23:18:57.145490",
   "environment_variables": {},
   "exception": null,
   "input_path": "eval-report.ipynb",
   "output_path": "eval-report.ml100k.ipynb",
   "parameters": {
    "dataset": "ml100k"
   },
   "start_time": "2022-02-15T23:18:44.322691",
   "version": "2.3.3"
  }
 },
 "nbformat": 4,
 "nbformat_minor": 5
}