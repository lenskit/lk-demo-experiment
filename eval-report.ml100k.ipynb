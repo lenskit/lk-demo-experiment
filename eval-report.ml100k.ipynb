{
 "cells": [
  {
   "cell_type": "markdown",
   "id": "ce485e34",
   "metadata": {
    "papermill": {
     "duration": 0.010755,
     "end_time": "2024-12-07T20:27:59.211184",
     "exception": false,
     "start_time": "2024-12-07T20:27:59.200429",
     "status": "completed"
    },
    "tags": []
   },
   "source": [
    "# Evaluation Analysis for Recommender Output"
   ]
  },
  {
   "cell_type": "markdown",
   "id": "17c9a5e6",
   "metadata": {
    "papermill": {
     "duration": 0.001507,
     "end_time": "2024-12-07T20:27:59.214439",
     "exception": false,
     "start_time": "2024-12-07T20:27:59.212932",
     "status": "completed"
    },
    "tags": []
   },
   "source": [
    "In this section we will analyze and compare the generated recommendations and predictions from a predefined list of algorithms with the goal of assessing the performance of each algorithm with respect to a metric. In other words, we would rank the algorithms for each metric considered with respect to performance."
   ]
  },
  {
   "cell_type": "markdown",
   "id": "f14bb433",
   "metadata": {
    "papermill": {
     "duration": 0.00146,
     "end_time": "2024-12-07T20:27:59.217379",
     "exception": false,
     "start_time": "2024-12-07T20:27:59.215919",
     "status": "completed"
    },
    "tags": []
   },
   "source": [
    "# Setup"
   ]
  },
  {
   "cell_type": "markdown",
   "id": "2b8308de",
   "metadata": {
    "papermill": {
     "duration": 0.001432,
     "end_time": "2024-12-07T20:27:59.220294",
     "exception": false,
     "start_time": "2024-12-07T20:27:59.218862",
     "status": "completed"
    },
    "tags": []
   },
   "source": [
    "Below are the list of packages required to successfully run the analysis. They are divided into partitions to signify their specific task.<br>\n",
    "We need the pathlib package for working with files and folders"
   ]
  },
  {
   "cell_type": "code",
   "execution_count": 1,
   "id": "77d2e6e9",
   "metadata": {
    "execution": {
     "iopub.execute_input": "2024-12-07T20:27:59.224508Z",
     "iopub.status.busy": "2024-12-07T20:27:59.224317Z",
     "iopub.status.idle": "2024-12-07T20:27:59.228141Z",
     "shell.execute_reply": "2024-12-07T20:27:59.227828Z"
    },
    "papermill": {
     "duration": 0.006983,
     "end_time": "2024-12-07T20:27:59.228735",
     "exception": false,
     "start_time": "2024-12-07T20:27:59.221752",
     "status": "completed"
    },
    "tags": []
   },
   "outputs": [],
   "source": [
    "from pathlib import Path"
   ]
  },
  {
   "cell_type": "markdown",
   "id": "8607dbba",
   "metadata": {
    "papermill": {
     "duration": 0.00153,
     "end_time": "2024-12-07T20:27:59.231772",
     "exception": false,
     "start_time": "2024-12-07T20:27:59.230242",
     "status": "completed"
    },
    "tags": []
   },
   "source": [
    "We would use the pandas for analyzing and manipulating our data while seaborn and matplotlib are used for data visualization. statsmodels.graphics.gofplots and scipy.stats.shapiro are used for normality check. Scipy.stats.friedmanchisquare is a non-parametric test used to determine the statistical significance in metric results and the wilcoxon test is used for pairwise comparison of sample data."
   ]
  },
  {
   "cell_type": "code",
   "execution_count": 2,
   "id": "54c9b1a0",
   "metadata": {
    "execution": {
     "iopub.execute_input": "2024-12-07T20:27:59.235688Z",
     "iopub.status.busy": "2024-12-07T20:27:59.235307Z",
     "iopub.status.idle": "2024-12-07T20:27:59.661466Z",
     "shell.execute_reply": "2024-12-07T20:27:59.660925Z"
    },
    "papermill": {
     "duration": 0.429167,
     "end_time": "2024-12-07T20:27:59.662454",
     "exception": false,
     "start_time": "2024-12-07T20:27:59.233287",
     "status": "completed"
    },
    "tags": []
   },
   "outputs": [],
   "source": [
    "import pandas as pd\n",
    "import seaborn as sns\n",
    "import matplotlib.pyplot as plt\n",
    "from statsmodels.graphics.gofplots import qqplot\n",
    "from scipy.stats import shapiro\n",
    "from scipy.stats import friedmanchisquare, wilcoxon\n",
    "from itertools import combinations"
   ]
  },
  {
   "cell_type": "markdown",
   "id": "09d4299f",
   "metadata": {
    "papermill": {
     "duration": 0.001645,
     "end_time": "2024-12-07T20:27:59.674913",
     "exception": false,
     "start_time": "2024-12-07T20:27:59.673268",
     "status": "completed"
    },
    "tags": []
   },
   "source": [
    "Logging to show what's happening in LensKit routines:"
   ]
  },
  {
   "cell_type": "code",
   "execution_count": 3,
   "id": "fd84093f",
   "metadata": {
    "execution": {
     "iopub.execute_input": "2024-12-07T20:27:59.678727Z",
     "iopub.status.busy": "2024-12-07T20:27:59.678599Z",
     "iopub.status.idle": "2024-12-07T20:27:59.685941Z",
     "shell.execute_reply": "2024-12-07T20:27:59.685691Z"
    },
    "papermill": {
     "duration": 0.009795,
     "end_time": "2024-12-07T20:27:59.686298",
     "exception": false,
     "start_time": "2024-12-07T20:27:59.676503",
     "status": "completed"
    },
    "tags": []
   },
   "outputs": [
    {
     "name": "stdout",
     "output_type": "stream",
     "text": [
      "[   INFO] lenskit.util.log notebook logging configured\n"
     ]
    }
   ],
   "source": [
    "from lenskit import util\n",
    "util.log_to_notebook()"
   ]
  },
  {
   "cell_type": "code",
   "execution_count": 4,
   "id": "c7c3c1f0",
   "metadata": {
    "execution": {
     "iopub.execute_input": "2024-12-07T20:27:59.689983Z",
     "iopub.status.busy": "2024-12-07T20:27:59.689905Z",
     "iopub.status.idle": "2024-12-07T20:27:59.691556Z",
     "shell.execute_reply": "2024-12-07T20:27:59.691315Z"
    },
    "papermill": {
     "duration": 0.003886,
     "end_time": "2024-12-07T20:27:59.691865",
     "exception": false,
     "start_time": "2024-12-07T20:27:59.687979",
     "status": "completed"
    },
    "tags": []
   },
   "outputs": [],
   "source": [
    "import logging\n",
    "_log = logging.getLogger('eval-report')"
   ]
  },
  {
   "cell_type": "markdown",
   "id": "af5b4ebc",
   "metadata": {
    "papermill": {
     "duration": 0.001571,
     "end_time": "2024-12-07T20:27:59.695064",
     "exception": false,
     "start_time": "2024-12-07T20:27:59.693493",
     "status": "completed"
    },
    "tags": []
   },
   "source": [
    "We will use lenskit for training, running, and evaluating recommender algorithms"
   ]
  },
  {
   "cell_type": "code",
   "execution_count": 5,
   "id": "803d7eb5",
   "metadata": {
    "execution": {
     "iopub.execute_input": "2024-12-07T20:27:59.698511Z",
     "iopub.status.busy": "2024-12-07T20:27:59.698438Z",
     "iopub.status.idle": "2024-12-07T20:27:59.724213Z",
     "shell.execute_reply": "2024-12-07T20:27:59.723780Z"
    },
    "papermill": {
     "duration": 0.028108,
     "end_time": "2024-12-07T20:27:59.724775",
     "exception": false,
     "start_time": "2024-12-07T20:27:59.696667",
     "status": "completed"
    },
    "tags": []
   },
   "outputs": [],
   "source": [
    "from lenskit import topn\n",
    "from lenskit.metrics.predict import rmse"
   ]
  },
  {
   "cell_type": "markdown",
   "id": "62cde0fa",
   "metadata": {
    "papermill": {
     "duration": 0.001677,
     "end_time": "2024-12-07T20:27:59.728336",
     "exception": false,
     "start_time": "2024-12-07T20:27:59.726659",
     "status": "completed"
    },
    "tags": []
   },
   "source": [
    "# Load Data"
   ]
  },
  {
   "cell_type": "markdown",
   "id": "0b8bdd0f",
   "metadata": {
    "papermill": {
     "duration": 0.001631,
     "end_time": "2024-12-07T20:27:59.731611",
     "exception": false,
     "start_time": "2024-12-07T20:27:59.729980",
     "status": "completed"
    },
    "tags": []
   },
   "source": [
    "We specify the dataset we will use for our analysis and the main directory from where we read the recommendation and prediction files. From the main directory we find all the directories associated with the dataset and then read the recommendation and predictions files from those directories."
   ]
  },
  {
   "cell_type": "code",
   "execution_count": 6,
   "id": "66d37091",
   "metadata": {
    "execution": {
     "iopub.execute_input": "2024-12-07T20:27:59.735267Z",
     "iopub.status.busy": "2024-12-07T20:27:59.735173Z",
     "iopub.status.idle": "2024-12-07T20:27:59.737008Z",
     "shell.execute_reply": "2024-12-07T20:27:59.736670Z"
    },
    "papermill": {
     "duration": 0.004416,
     "end_time": "2024-12-07T20:27:59.737626",
     "exception": false,
     "start_time": "2024-12-07T20:27:59.733210",
     "status": "completed"
    },
    "tags": [
     "parameters"
    ]
   },
   "outputs": [],
   "source": [
    "dataset = \"ml100k\""
   ]
  },
  {
   "cell_type": "code",
   "execution_count": 7,
   "id": "f5422058",
   "metadata": {
    "execution": {
     "iopub.execute_input": "2024-12-07T20:27:59.741223Z",
     "iopub.status.busy": "2024-12-07T20:27:59.741146Z",
     "iopub.status.idle": "2024-12-07T20:27:59.742625Z",
     "shell.execute_reply": "2024-12-07T20:27:59.742390Z"
    },
    "papermill": {
     "duration": 0.003923,
     "end_time": "2024-12-07T20:27:59.743189",
     "exception": false,
     "start_time": "2024-12-07T20:27:59.739266",
     "status": "completed"
    },
    "tags": [
     "injected-parameters"
    ]
   },
   "outputs": [],
   "source": [
    "# Parameters\n",
    "dataset = \"ml100k\"\n"
   ]
  },
  {
   "cell_type": "code",
   "execution_count": 8,
   "id": "b7f9f66b",
   "metadata": {
    "execution": {
     "iopub.execute_input": "2024-12-07T20:27:59.746936Z",
     "iopub.status.busy": "2024-12-07T20:27:59.746863Z",
     "iopub.status.idle": "2024-12-07T20:27:59.748358Z",
     "shell.execute_reply": "2024-12-07T20:27:59.748122Z"
    },
    "papermill": {
     "duration": 0.00412,
     "end_time": "2024-12-07T20:27:59.748944",
     "exception": false,
     "start_time": "2024-12-07T20:27:59.744824",
     "status": "completed"
    },
    "tags": []
   },
   "outputs": [],
   "source": [
    "output_root = Path(\"runs\")"
   ]
  },
  {
   "cell_type": "code",
   "execution_count": 9,
   "id": "8688a4d0",
   "metadata": {
    "execution": {
     "iopub.execute_input": "2024-12-07T20:27:59.752681Z",
     "iopub.status.busy": "2024-12-07T20:27:59.752593Z",
     "iopub.status.idle": "2024-12-07T20:27:59.754352Z",
     "shell.execute_reply": "2024-12-07T20:27:59.754108Z"
    },
    "papermill": {
     "duration": 0.004303,
     "end_time": "2024-12-07T20:27:59.754928",
     "exception": false,
     "start_time": "2024-12-07T20:27:59.750625",
     "status": "completed"
    },
    "tags": []
   },
   "outputs": [],
   "source": [
    "dirs = [fld for fld in output_root.glob(f'{dataset}-*')]"
   ]
  },
  {
   "cell_type": "code",
   "execution_count": 10,
   "id": "56d609aa",
   "metadata": {
    "execution": {
     "iopub.execute_input": "2024-12-07T20:27:59.758835Z",
     "iopub.status.busy": "2024-12-07T20:27:59.758762Z",
     "iopub.status.idle": "2024-12-07T20:27:59.895323Z",
     "shell.execute_reply": "2024-12-07T20:27:59.894876Z"
    },
    "papermill": {
     "duration": 0.139239,
     "end_time": "2024-12-07T20:27:59.895922",
     "exception": false,
     "start_time": "2024-12-07T20:27:59.756683",
     "status": "completed"
    },
    "tags": []
   },
   "outputs": [
    {
     "name": "stdout",
     "output_type": "stream",
     "text": [
      "<class 'pandas.core.frame.DataFrame'>\n",
      "RangeIndex: 660100 entries, 0 to 660099\n",
      "Data columns (total 5 columns):\n",
      " #   Column     Non-Null Count   Dtype   \n",
      "---  ------     --------------   -----   \n",
      " 0   item       660100 non-null  int64   \n",
      " 1   score      660100 non-null  float64 \n",
      " 2   user       660100 non-null  int64   \n",
      " 3   rank       660100 non-null  int64   \n",
      " 4   algorithm  660100 non-null  category\n",
      "dtypes: category(1), float64(1), int64(3)\n",
      "memory usage: 20.8 MB\n"
     ]
    }
   ],
   "source": [
    "recs = []\n",
    "for fld in dirs:\n",
    "    for file in fld.glob(\"recs-*\"):\n",
    "        rec = pd.read_csv(file)\n",
    "        rec[\"algorithm\"] = fld.name.split(\"-\")[1]\n",
    "        recs.append(rec)\n",
    "\n",
    "recs = pd.concat(recs, ignore_index=True)\n",
    "recs = recs.astype({'algorithm': 'category'})\n",
    "recs.info()"
   ]
  },
  {
   "cell_type": "code",
   "execution_count": 11,
   "id": "feaa4493",
   "metadata": {
    "execution": {
     "iopub.execute_input": "2024-12-07T20:27:59.907731Z",
     "iopub.status.busy": "2024-12-07T20:27:59.907641Z",
     "iopub.status.idle": "2024-12-07T20:27:59.912005Z",
     "shell.execute_reply": "2024-12-07T20:27:59.911762Z"
    },
    "papermill": {
     "duration": 0.014601,
     "end_time": "2024-12-07T20:27:59.912592",
     "exception": false,
     "start_time": "2024-12-07T20:27:59.897991",
     "status": "completed"
    },
    "tags": []
   },
   "outputs": [
    {
     "data": {
      "text/plain": [
       "['UUE', 'ALS', 'IIE', 'Bias', 'III', 'Pop', 'IALS']\n",
       "Categories (7, object): ['ALS', 'Bias', 'IALS', 'IIE', 'III', 'Pop', 'UUE']"
      ]
     },
     "execution_count": 11,
     "metadata": {},
     "output_type": "execute_result"
    }
   ],
   "source": [
    "rec_algos = recs['algorithm'].unique()\n",
    "rec_algos"
   ]
  },
  {
   "cell_type": "code",
   "execution_count": 12,
   "id": "b378a77c",
   "metadata": {
    "execution": {
     "iopub.execute_input": "2024-12-07T20:27:59.916792Z",
     "iopub.status.busy": "2024-12-07T20:27:59.916706Z",
     "iopub.status.idle": "2024-12-07T20:27:59.937674Z",
     "shell.execute_reply": "2024-12-07T20:27:59.937311Z"
    },
    "papermill": {
     "duration": 0.023891,
     "end_time": "2024-12-07T20:27:59.938265",
     "exception": false,
     "start_time": "2024-12-07T20:27:59.914374",
     "status": "completed"
    },
    "tags": []
   },
   "outputs": [
    {
     "name": "stdout",
     "output_type": "stream",
     "text": [
      "<class 'pandas.core.frame.DataFrame'>\n",
      "RangeIndex: 18860 entries, 0 to 18859\n",
      "Data columns (total 6 columns):\n",
      " #   Column      Non-Null Count  Dtype   \n",
      "---  ------      --------------  -----   \n",
      " 0   user        18860 non-null  int64   \n",
      " 1   item        18860 non-null  int64   \n",
      " 2   rating      18860 non-null  float64 \n",
      " 3   timestamp   18860 non-null  int64   \n",
      " 4   prediction  18850 non-null  float64 \n",
      " 5   algorithm   18860 non-null  category\n",
      "dtypes: category(1), float64(2), int64(3)\n",
      "memory usage: 755.5 KB\n"
     ]
    }
   ],
   "source": [
    "preds = []\n",
    "for fld in dirs:\n",
    "    for file in fld.glob(\"pred-*\"):\n",
    "        pred = pd.read_csv(file)\n",
    "        pred[\"algorithm\"] = fld.name.split(\"-\")[1]\n",
    "        preds.append(pred)\n",
    "\n",
    "preds = pd.concat(preds, ignore_index=True)\n",
    "preds = preds.astype({'algorithm': 'category'})\n",
    "preds.info()"
   ]
  },
  {
   "cell_type": "markdown",
   "id": "ca476ae1",
   "metadata": {
    "papermill": {
     "duration": 0.001755,
     "end_time": "2024-12-07T20:27:59.941918",
     "exception": false,
     "start_time": "2024-12-07T20:27:59.940163",
     "status": "completed"
    },
    "tags": []
   },
   "source": [
    "We need to load the test data so that we have the ground truths for computing accuracy"
   ]
  },
  {
   "cell_type": "code",
   "execution_count": 13,
   "id": "25294727",
   "metadata": {
    "execution": {
     "iopub.execute_input": "2024-12-07T20:27:59.946073Z",
     "iopub.status.busy": "2024-12-07T20:27:59.945985Z",
     "iopub.status.idle": "2024-12-07T20:27:59.947498Z",
     "shell.execute_reply": "2024-12-07T20:27:59.947300Z"
    },
    "papermill": {
     "duration": 0.004335,
     "end_time": "2024-12-07T20:27:59.947976",
     "exception": false,
     "start_time": "2024-12-07T20:27:59.943641",
     "status": "completed"
    },
    "tags": []
   },
   "outputs": [],
   "source": [
    "split_root = Path(\"data-split\")\n",
    "split_dir = split_root / dataset"
   ]
  },
  {
   "cell_type": "code",
   "execution_count": 14,
   "id": "88fc0d4e",
   "metadata": {
    "execution": {
     "iopub.execute_input": "2024-12-07T20:27:59.951907Z",
     "iopub.status.busy": "2024-12-07T20:27:59.951840Z",
     "iopub.status.idle": "2024-12-07T20:27:59.975000Z",
     "shell.execute_reply": "2024-12-07T20:27:59.974718Z"
    },
    "papermill": {
     "duration": 0.025608,
     "end_time": "2024-12-07T20:27:59.975346",
     "exception": false,
     "start_time": "2024-12-07T20:27:59.949738",
     "status": "completed"
    },
    "tags": []
   },
   "outputs": [
    {
     "data": {
      "text/html": [
       "<div>\n",
       "<style scoped>\n",
       "    .dataframe tbody tr th:only-of-type {\n",
       "        vertical-align: middle;\n",
       "    }\n",
       "\n",
       "    .dataframe tbody tr th {\n",
       "        vertical-align: top;\n",
       "    }\n",
       "\n",
       "    .dataframe thead th {\n",
       "        text-align: right;\n",
       "    }\n",
       "</style>\n",
       "<table border=\"1\" class=\"dataframe\">\n",
       "  <thead>\n",
       "    <tr style=\"text-align: right;\">\n",
       "      <th></th>\n",
       "      <th>user</th>\n",
       "      <th>item</th>\n",
       "      <th>rating</th>\n",
       "      <th>timestamp</th>\n",
       "      <th>part</th>\n",
       "    </tr>\n",
       "    <tr>\n",
       "      <th>index</th>\n",
       "      <th></th>\n",
       "      <th></th>\n",
       "      <th></th>\n",
       "      <th></th>\n",
       "      <th></th>\n",
       "    </tr>\n",
       "  </thead>\n",
       "  <tbody>\n",
       "    <tr>\n",
       "      <th>14425</th>\n",
       "      <td>1</td>\n",
       "      <td>255</td>\n",
       "      <td>2.0</td>\n",
       "      <td>885345822</td>\n",
       "      <td>test-3</td>\n",
       "    </tr>\n",
       "    <tr>\n",
       "      <th>77073</th>\n",
       "      <td>1</td>\n",
       "      <td>124</td>\n",
       "      <td>5.0</td>\n",
       "      <td>875071484</td>\n",
       "      <td>test-3</td>\n",
       "    </tr>\n",
       "    <tr>\n",
       "      <th>20952</th>\n",
       "      <td>1</td>\n",
       "      <td>22</td>\n",
       "      <td>4.0</td>\n",
       "      <td>875072404</td>\n",
       "      <td>test-3</td>\n",
       "    </tr>\n",
       "    <tr>\n",
       "      <th>933</th>\n",
       "      <td>1</td>\n",
       "      <td>155</td>\n",
       "      <td>2.0</td>\n",
       "      <td>878542201</td>\n",
       "      <td>test-3</td>\n",
       "    </tr>\n",
       "    <tr>\n",
       "      <th>40519</th>\n",
       "      <td>1</td>\n",
       "      <td>109</td>\n",
       "      <td>5.0</td>\n",
       "      <td>874965739</td>\n",
       "      <td>test-3</td>\n",
       "    </tr>\n",
       "  </tbody>\n",
       "</table>\n",
       "</div>"
      ],
      "text/plain": [
       "       user  item  rating  timestamp    part\n",
       "index                                       \n",
       "14425     1   255     2.0  885345822  test-3\n",
       "77073     1   124     5.0  875071484  test-3\n",
       "20952     1    22     4.0  875072404  test-3\n",
       "933       1   155     2.0  878542201  test-3\n",
       "40519     1   109     5.0  874965739  test-3"
      ]
     },
     "execution_count": 14,
     "metadata": {},
     "output_type": "execute_result"
    }
   ],
   "source": [
    "test = []\n",
    "for file in split_dir.glob(\"test-*.parquet\"):\n",
    "    test.append(pd.read_parquet(file,).assign(part=file.stem.replace('.parquet', '')))\n",
    "\n",
    "test = pd.concat(test).rename(columns={\n",
    "    'user_id': 'user',\n",
    "    'item_id': 'item',\n",
    "})\n",
    "test.head()"
   ]
  },
  {
   "cell_type": "markdown",
   "id": "5770c372",
   "metadata": {
    "papermill": {
     "duration": 0.001902,
     "end_time": "2024-12-07T20:27:59.979261",
     "exception": false,
     "start_time": "2024-12-07T20:27:59.977359",
     "status": "completed"
    },
    "tags": []
   },
   "source": [
    "# Top-N Metrics"
   ]
  },
  {
   "cell_type": "markdown",
   "id": "8e347325",
   "metadata": {
    "papermill": {
     "duration": 0.001876,
     "end_time": "2024-12-07T20:27:59.983019",
     "exception": false,
     "start_time": "2024-12-07T20:27:59.981143",
     "status": "completed"
    },
    "tags": []
   },
   "source": [
    "The topn.RecListAnalysis class computes top-N metrics for recommendation list and takes care of making sure that the recommendations and ground truths are properly matched. Refer to the documentation for detailed explanation of the purpose for the RecListAnalysis class and how the analysis is done - https://lkpy.lenskit.org/en/stable/evaluation/topn-metrics.html"
   ]
  },
  {
   "cell_type": "code",
   "execution_count": 15,
   "id": "198eda4d",
   "metadata": {
    "execution": {
     "iopub.execute_input": "2024-12-07T20:27:59.987111Z",
     "iopub.status.busy": "2024-12-07T20:27:59.987025Z",
     "iopub.status.idle": "2024-12-07T20:28:00.150720Z",
     "shell.execute_reply": "2024-12-07T20:28:00.150250Z"
    },
    "papermill": {
     "duration": 0.166406,
     "end_time": "2024-12-07T20:28:00.151284",
     "exception": false,
     "start_time": "2024-12-07T20:27:59.984878",
     "status": "completed"
    },
    "tags": []
   },
   "outputs": [
    {
     "name": "stdout",
     "output_type": "stream",
     "text": [
      "[   INFO] lenskit.topn analyzing 660100 recommendations (4715 truth rows)\n"
     ]
    },
    {
     "name": "stdout",
     "output_type": "stream",
     "text": [
      "[   INFO] lenskit.topn using rec key columns ['algorithm', 'user']\n"
     ]
    },
    {
     "name": "stdout",
     "output_type": "stream",
     "text": [
      "[   INFO] lenskit.topn using truth key columns ['user']\n"
     ]
    },
    {
     "name": "stdout",
     "output_type": "stream",
     "text": [
      "[   INFO] lenskit.topn numbering truth lists\n"
     ]
    },
    {
     "name": "stdout",
     "output_type": "stream",
     "text": [
      "[   INFO] lenskit.topn numbering rec lists\n"
     ]
    },
    {
     "name": "stdout",
     "output_type": "stream",
     "text": [
      "[   INFO] lenskit.topn collecting metric results\n"
     ]
    },
    {
     "name": "stdout",
     "output_type": "stream",
     "text": [
      "[   INFO] lenskit.topn measured 6601 lists in  95ms\n"
     ]
    },
    {
     "name": "stdout",
     "output_type": "stream",
     "text": [
      "[   INFO] lenskit.topn filling in missing user info (6601 initial rows)\n"
     ]
    },
    {
     "name": "stderr",
     "output_type": "stream",
     "text": [
      "/home/linuxbrew/.linuxbrew/envs/lkdemo/lib/python3.10/site-packages/lenskit/topn.py:152: FutureWarning: In a future version of pandas, a length 1 tuple will be returned when iterating over a groupby with a grouper equal to a list of length 1. Don't supply a list with a single grouper to avoid this warning.\n",
      "  for key, df in res.groupby(ug_cols):\n"
     ]
    },
    {
     "data": {
      "text/html": [
       "<div>\n",
       "<style scoped>\n",
       "    .dataframe tbody tr th:only-of-type {\n",
       "        vertical-align: middle;\n",
       "    }\n",
       "\n",
       "    .dataframe tbody tr th {\n",
       "        vertical-align: top;\n",
       "    }\n",
       "\n",
       "    .dataframe thead th {\n",
       "        text-align: right;\n",
       "    }\n",
       "</style>\n",
       "<table border=\"1\" class=\"dataframe\">\n",
       "  <thead>\n",
       "    <tr style=\"text-align: right;\">\n",
       "      <th></th>\n",
       "      <th></th>\n",
       "      <th>nrecs</th>\n",
       "      <th>precision</th>\n",
       "      <th>recip_rank</th>\n",
       "      <th>ndcg</th>\n",
       "      <th>ntruth</th>\n",
       "    </tr>\n",
       "    <tr>\n",
       "      <th>algorithm</th>\n",
       "      <th>user</th>\n",
       "      <th></th>\n",
       "      <th></th>\n",
       "      <th></th>\n",
       "      <th></th>\n",
       "      <th></th>\n",
       "    </tr>\n",
       "  </thead>\n",
       "  <tbody>\n",
       "    <tr>\n",
       "      <th rowspan=\"5\" valign=\"top\">ALS</th>\n",
       "      <th>1</th>\n",
       "      <td>100</td>\n",
       "      <td>0.02</td>\n",
       "      <td>0.031250</td>\n",
       "      <td>0.102606</td>\n",
       "      <td>5</td>\n",
       "    </tr>\n",
       "    <tr>\n",
       "      <th>10</th>\n",
       "      <td>100</td>\n",
       "      <td>0.02</td>\n",
       "      <td>0.166667</td>\n",
       "      <td>0.170686</td>\n",
       "      <td>5</td>\n",
       "    </tr>\n",
       "    <tr>\n",
       "      <th>12</th>\n",
       "      <td>100</td>\n",
       "      <td>0.05</td>\n",
       "      <td>0.333333</td>\n",
       "      <td>0.454573</td>\n",
       "      <td>5</td>\n",
       "    </tr>\n",
       "    <tr>\n",
       "      <th>20</th>\n",
       "      <td>100</td>\n",
       "      <td>0.01</td>\n",
       "      <td>0.071429</td>\n",
       "      <td>0.073745</td>\n",
       "      <td>5</td>\n",
       "    </tr>\n",
       "    <tr>\n",
       "      <th>22</th>\n",
       "      <td>100</td>\n",
       "      <td>0.00</td>\n",
       "      <td>0.000000</td>\n",
       "      <td>0.000000</td>\n",
       "      <td>5</td>\n",
       "    </tr>\n",
       "  </tbody>\n",
       "</table>\n",
       "</div>"
      ],
      "text/plain": [
       "                nrecs  precision  recip_rank      ndcg  ntruth\n",
       "algorithm user                                                \n",
       "ALS       1       100       0.02    0.031250  0.102606       5\n",
       "          10      100       0.02    0.166667  0.170686       5\n",
       "          12      100       0.05    0.333333  0.454573       5\n",
       "          20      100       0.01    0.071429  0.073745       5\n",
       "          22      100       0.00    0.000000  0.000000       5"
      ]
     },
     "execution_count": 15,
     "metadata": {},
     "output_type": "execute_result"
    }
   ],
   "source": [
    "rla = topn.RecListAnalysis()\n",
    "\n",
    "rla.add_metric(topn.precision)\n",
    "rla.add_metric(topn.recip_rank)\n",
    "rla.add_metric(topn.ndcg)\n",
    "results = rla.compute(recs, test.drop(columns=['rating']), include_missing=True)\n",
    "results = results.fillna(0)\n",
    "results.head()"
   ]
  },
  {
   "cell_type": "markdown",
   "id": "75dbe033",
   "metadata": {
    "papermill": {
     "duration": 0.009024,
     "end_time": "2024-12-07T20:28:00.162761",
     "exception": false,
     "start_time": "2024-12-07T20:28:00.153737",
     "status": "completed"
    },
    "tags": []
   },
   "source": [
    "We will reshape the 'results' dataframe by stacking the columns to index and then use the bar chart to visualize the performance of our algorithms with respect to the precision, reciprocal rank and ndcg metrics"
   ]
  },
  {
   "cell_type": "code",
   "execution_count": 16,
   "id": "4c7ffaf7",
   "metadata": {
    "execution": {
     "iopub.execute_input": "2024-12-07T20:28:00.167543Z",
     "iopub.status.busy": "2024-12-07T20:28:00.167414Z",
     "iopub.status.idle": "2024-12-07T20:28:00.172437Z",
     "shell.execute_reply": "2024-12-07T20:28:00.172254Z"
    },
    "papermill": {
     "duration": 0.008086,
     "end_time": "2024-12-07T20:28:00.172966",
     "exception": false,
     "start_time": "2024-12-07T20:28:00.164880",
     "status": "completed"
    },
    "tags": []
   },
   "outputs": [
    {
     "data": {
      "text/html": [
       "<div>\n",
       "<style scoped>\n",
       "    .dataframe tbody tr th:only-of-type {\n",
       "        vertical-align: middle;\n",
       "    }\n",
       "\n",
       "    .dataframe tbody tr th {\n",
       "        vertical-align: top;\n",
       "    }\n",
       "\n",
       "    .dataframe thead th {\n",
       "        text-align: right;\n",
       "    }\n",
       "</style>\n",
       "<table border=\"1\" class=\"dataframe\">\n",
       "  <thead>\n",
       "    <tr style=\"text-align: right;\">\n",
       "      <th></th>\n",
       "      <th>algorithm</th>\n",
       "      <th>user</th>\n",
       "      <th>metric</th>\n",
       "      <th>val</th>\n",
       "    </tr>\n",
       "  </thead>\n",
       "  <tbody>\n",
       "    <tr>\n",
       "      <th>0</th>\n",
       "      <td>ALS</td>\n",
       "      <td>1</td>\n",
       "      <td>precision</td>\n",
       "      <td>0.020000</td>\n",
       "    </tr>\n",
       "    <tr>\n",
       "      <th>1</th>\n",
       "      <td>ALS</td>\n",
       "      <td>1</td>\n",
       "      <td>recip_rank</td>\n",
       "      <td>0.031250</td>\n",
       "    </tr>\n",
       "    <tr>\n",
       "      <th>2</th>\n",
       "      <td>ALS</td>\n",
       "      <td>1</td>\n",
       "      <td>ndcg</td>\n",
       "      <td>0.102606</td>\n",
       "    </tr>\n",
       "    <tr>\n",
       "      <th>3</th>\n",
       "      <td>ALS</td>\n",
       "      <td>10</td>\n",
       "      <td>precision</td>\n",
       "      <td>0.020000</td>\n",
       "    </tr>\n",
       "    <tr>\n",
       "      <th>4</th>\n",
       "      <td>ALS</td>\n",
       "      <td>10</td>\n",
       "      <td>recip_rank</td>\n",
       "      <td>0.166667</td>\n",
       "    </tr>\n",
       "  </tbody>\n",
       "</table>\n",
       "</div>"
      ],
      "text/plain": [
       "  algorithm  user      metric       val\n",
       "0       ALS     1   precision  0.020000\n",
       "1       ALS     1  recip_rank  0.031250\n",
       "2       ALS     1        ndcg  0.102606\n",
       "3       ALS    10   precision  0.020000\n",
       "4       ALS    10  recip_rank  0.166667"
      ]
     },
     "execution_count": 16,
     "metadata": {},
     "output_type": "execute_result"
    }
   ],
   "source": [
    "pltData = (results.drop(columns=['nrecs', 'ntruth']).stack()).reset_index()\n",
    "pltData.columns = ['algorithm', 'user', 'metric', 'val']\n",
    "pltData.head()"
   ]
  },
  {
   "cell_type": "markdown",
   "id": "66c6e8ba",
   "metadata": {
    "papermill": {
     "duration": 0.002177,
     "end_time": "2024-12-07T20:28:00.177337",
     "exception": false,
     "start_time": "2024-12-07T20:28:00.175160",
     "status": "completed"
    },
    "tags": []
   },
   "source": [
    "We need to determine if the differences we observe in the performances of the algorithms for the various metrics are statistically significant. To achieve this, we will need to use either a parametric or non-parametric statistical test for comparing the differences. We will consider a parametric test - repeated ANOVA measure cause our sample groups are correlated."
   ]
  },
  {
   "cell_type": "code",
   "execution_count": 17,
   "id": "bd651349",
   "metadata": {
    "execution": {
     "iopub.execute_input": "2024-12-07T20:28:00.182121Z",
     "iopub.status.busy": "2024-12-07T20:28:00.182030Z",
     "iopub.status.idle": "2024-12-07T20:28:00.627164Z",
     "shell.execute_reply": "2024-12-07T20:28:00.626861Z"
    },
    "papermill": {
     "duration": 0.448265,
     "end_time": "2024-12-07T20:28:00.627812",
     "exception": false,
     "start_time": "2024-12-07T20:28:00.179547",
     "status": "completed"
    },
    "tags": []
   },
   "outputs": [
    {
     "data": {
      "image/png": "[encoded data removed]",
      "text/plain": [
       "<Figure size 1091.11x300 with 3 Axes>"
      ]
     },
     "metadata": {},
     "output_type": "display_data"
    }
   ],
   "source": [
    "g = sns.catplot(x = \"algorithm\", y = \"val\", data = pltData, kind=\"bar\", col = \"metric\", aspect=1.2, height=3, sharey=False)"
   ]
  },
  {
   "cell_type": "markdown",
   "id": "9e32b381",
   "metadata": {
    "papermill": {
     "duration": 0.009048,
     "end_time": "2024-12-07T20:28:00.639554",
     "exception": false,
     "start_time": "2024-12-07T20:28:00.630506",
     "status": "completed"
    },
    "tags": []
   },
   "source": [
    "## Prediction RMSE\n",
    "\n",
    "We will also look at the prediction RMSE."
   ]
  },
  {
   "cell_type": "code",
   "execution_count": 18,
   "id": "fb282b1c",
   "metadata": {
    "execution": {
     "iopub.execute_input": "2024-12-07T20:28:00.645088Z",
     "iopub.status.busy": "2024-12-07T20:28:00.644945Z",
     "iopub.status.idle": "2024-12-07T20:28:01.281302Z",
     "shell.execute_reply": "2024-12-07T20:28:01.280969Z"
    },
    "papermill": {
     "duration": 0.640179,
     "end_time": "2024-12-07T20:28:01.282144",
     "exception": false,
     "start_time": "2024-12-07T20:28:00.641965",
     "status": "completed"
    },
    "tags": []
   },
   "outputs": [],
   "source": [
    "preds = preds.rename(columns={'score': 'prediction'})\n",
    "user_rmse = preds.groupby(['algorithm', 'user']).apply(lambda df: rmse(df['prediction'], df['rating']))\n",
    "user_rmse = user_rmse.reset_index(name='RMSE')"
   ]
  },
  {
   "cell_type": "code",
   "execution_count": 19,
   "id": "73116a6d",
   "metadata": {
    "execution": {
     "iopub.execute_input": "2024-12-07T20:28:01.294901Z",
     "iopub.status.busy": "2024-12-07T20:28:01.294800Z",
     "iopub.status.idle": "2024-12-07T20:28:01.393139Z",
     "shell.execute_reply": "2024-12-07T20:28:01.392852Z"
    },
    "papermill": {
     "duration": 0.109008,
     "end_time": "2024-12-07T20:28:01.393690",
     "exception": false,
     "start_time": "2024-12-07T20:28:01.284682",
     "status": "completed"
    },
    "tags": []
   },
   "outputs": [
    {
     "data": {
      "text/plain": [
       "<seaborn.axisgrid.FacetGrid at 0x7f00b84867d0>"
      ]
     },
     "execution_count": 19,
     "metadata": {},
     "output_type": "execute_result"
    },
    {
     "data": {
      "image/png": "[encoded data removed]",
      "text/plain": [
       "<Figure size 511.111x500 with 1 Axes>"
      ]
     },
     "metadata": {},
     "output_type": "display_data"
    }
   ],
   "source": [
    "sns.catplot(x='algorithm', y='RMSE', data=user_rmse, kind='bar')"
   ]
  },
  {
   "cell_type": "markdown",
   "id": "ffbd7ba0",
   "metadata": {
    "papermill": {
     "duration": 0.002494,
     "end_time": "2024-12-07T20:28:01.398925",
     "exception": false,
     "start_time": "2024-12-07T20:28:01.396431",
     "status": "completed"
    },
    "tags": []
   },
   "source": [
    "## Save Metrics\n",
    "\n",
    "We'll now save the top-N recommendation metrics."
   ]
  },
  {
   "cell_type": "code",
   "execution_count": 20,
   "id": "1b776675",
   "metadata": {
    "execution": {
     "iopub.execute_input": "2024-12-07T20:28:01.404277Z",
     "iopub.status.busy": "2024-12-07T20:28:01.404177Z",
     "iopub.status.idle": "2024-12-07T20:28:01.408419Z",
     "shell.execute_reply": "2024-12-07T20:28:01.408226Z"
    },
    "papermill": {
     "duration": 0.007596,
     "end_time": "2024-12-07T20:28:01.408994",
     "exception": false,
     "start_time": "2024-12-07T20:28:01.401398",
     "status": "completed"
    },
    "tags": []
   },
   "outputs": [
    {
     "data": {
      "text/html": [
       "<div>\n",
       "<style scoped>\n",
       "    .dataframe tbody tr th:only-of-type {\n",
       "        vertical-align: middle;\n",
       "    }\n",
       "\n",
       "    .dataframe tbody tr th {\n",
       "        vertical-align: top;\n",
       "    }\n",
       "\n",
       "    .dataframe thead th {\n",
       "        text-align: right;\n",
       "    }\n",
       "</style>\n",
       "<table border=\"1\" class=\"dataframe\">\n",
       "  <thead>\n",
       "    <tr style=\"text-align: right;\">\n",
       "      <th></th>\n",
       "      <th>RecipRank</th>\n",
       "      <th>NDCG</th>\n",
       "    </tr>\n",
       "    <tr>\n",
       "      <th>algorithm</th>\n",
       "      <th></th>\n",
       "      <th></th>\n",
       "    </tr>\n",
       "  </thead>\n",
       "  <tbody>\n",
       "    <tr>\n",
       "      <th>ALS</th>\n",
       "      <td>0.084256</td>\n",
       "      <td>0.079510</td>\n",
       "    </tr>\n",
       "    <tr>\n",
       "      <th>Bias</th>\n",
       "      <td>0.070918</td>\n",
       "      <td>0.076594</td>\n",
       "    </tr>\n",
       "    <tr>\n",
       "      <th>IALS</th>\n",
       "      <td>0.260084</td>\n",
       "      <td>0.295100</td>\n",
       "    </tr>\n",
       "    <tr>\n",
       "      <th>IIE</th>\n",
       "      <td>0.040787</td>\n",
       "      <td>0.056837</td>\n",
       "    </tr>\n",
       "    <tr>\n",
       "      <th>III</th>\n",
       "      <td>0.355172</td>\n",
       "      <td>0.284440</td>\n",
       "    </tr>\n",
       "    <tr>\n",
       "      <th>Pop</th>\n",
       "      <td>0.217630</td>\n",
       "      <td>0.192362</td>\n",
       "    </tr>\n",
       "    <tr>\n",
       "      <th>UUE</th>\n",
       "      <td>0.013723</td>\n",
       "      <td>0.036543</td>\n",
       "    </tr>\n",
       "  </tbody>\n",
       "</table>\n",
       "</div>"
      ],
      "text/plain": [
       "           RecipRank      NDCG\n",
       "algorithm                     \n",
       "ALS         0.084256  0.079510\n",
       "Bias        0.070918  0.076594\n",
       "IALS        0.260084  0.295100\n",
       "IIE         0.040787  0.056837\n",
       "III         0.355172  0.284440\n",
       "Pop         0.217630  0.192362\n",
       "UUE         0.013723  0.036543"
      ]
     },
     "execution_count": 20,
     "metadata": {},
     "output_type": "execute_result"
    }
   ],
   "source": [
    "saved = results[['recip_rank', 'ndcg']].rename(columns={'ndcg': 'NDCG', 'recip_rank': 'RecipRank'})\n",
    "saved = saved.groupby('algorithm').agg('mean')\n",
    "saved"
   ]
  },
  {
   "cell_type": "code",
   "execution_count": 21,
   "id": "c4083a95",
   "metadata": {
    "execution": {
     "iopub.execute_input": "2024-12-07T20:28:01.414531Z",
     "iopub.status.busy": "2024-12-07T20:28:01.414437Z",
     "iopub.status.idle": "2024-12-07T20:28:01.416439Z",
     "shell.execute_reply": "2024-12-07T20:28:01.416144Z"
    },
    "papermill": {
     "duration": 0.005367,
     "end_time": "2024-12-07T20:28:01.416927",
     "exception": false,
     "start_time": "2024-12-07T20:28:01.411560",
     "status": "completed"
    },
    "tags": []
   },
   "outputs": [],
   "source": [
    "saved.to_json(f'eval-metrics.{dataset}.json', orient='index')"
   ]
  }
 ],
 "metadata": {
  "jupytext": {
   "formats": "ipynb,md",
   "notebook_metadata_filter": "split_at_heading"
  },
  "kernelspec": {
   "display_name": "Python 3 (ipykernel)",
   "language": "python",
   "name": "python3"
  },
  "language_info": {
   "codemirror_mode": {
    "name": "ipython",
    "version": 3
   },
   "file_extension": ".py",
   "mimetype": "text/x-python",
   "name": "python",
   "nbconvert_exporter": "python",
   "pygments_lexer": "ipython3",
   "version": "3.10.16"
  },
  "papermill": {
   "default_parameters": {},
   "duration": 3.100807,
   "end_time": "2024-12-07T20:28:01.633418",
   "environment_variables": {},
   "exception": null,
   "input_path": "eval-report.ipynb",
   "output_path": "eval-report.ml100k.ipynb",
   "parameters": {
    "dataset": "ml100k"
   },
   "start_time": "2024-12-07T20:27:58.532611",
   "version": "2.6.0"
  },
  "split_at_heading": true
 },
 "nbformat": 4,
 "nbformat_minor": 5
}