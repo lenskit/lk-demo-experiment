{
 "cells": [
  {
   "cell_type": "markdown",
   "id": "7291eba0",
   "metadata": {
    "papermill": {
     "duration": 0.010498,
     "end_time": "2024-12-17T17:32:45.154416",
     "exception": false,
     "start_time": "2024-12-17T17:32:45.143918",
     "status": "completed"
    },
    "tags": []
   },
   "source": [
    "# Evaluation Analysis for Recommender Output"
   ]
  },
  {
   "cell_type": "markdown",
   "id": "872010be",
   "metadata": {
    "papermill": {
     "duration": 0.001092,
     "end_time": "2024-12-17T17:32:45.156824",
     "exception": false,
     "start_time": "2024-12-17T17:32:45.155732",
     "status": "completed"
    },
    "tags": []
   },
   "source": [
    "In this section we will analyze and compare the generated recommendations and predictions from a predefined list of algorithms with the goal of assessing the performance of each algorithm with respect to a metric. In other words, we would rank the algorithms for each metric considered with respect to performance."
   ]
  },
  {
   "cell_type": "markdown",
   "id": "aaaf15df",
   "metadata": {
    "papermill": {
     "duration": 0.001045,
     "end_time": "2024-12-17T17:32:45.159024",
     "exception": false,
     "start_time": "2024-12-17T17:32:45.157979",
     "status": "completed"
    },
    "tags": []
   },
   "source": [
    "## Setup"
   ]
  },
  {
   "cell_type": "markdown",
   "id": "8684b9cf",
   "metadata": {
    "papermill": {
     "duration": 0.001126,
     "end_time": "2024-12-17T17:32:45.161220",
     "exception": false,
     "start_time": "2024-12-17T17:32:45.160094",
     "status": "completed"
    },
    "tags": []
   },
   "source": [
    "Below are the list of packages required to successfully run the analysis. They are divided into partitions to signify their specific task.<br>\n",
    "We need the pathlib package for working with files and folders"
   ]
  },
  {
   "cell_type": "code",
   "execution_count": 1,
   "id": "ee069941",
   "metadata": {
    "execution": {
     "iopub.execute_input": "2024-12-17T17:32:45.164254Z",
     "iopub.status.busy": "2024-12-17T17:32:45.164107Z",
     "iopub.status.idle": "2024-12-17T17:32:45.166087Z",
     "shell.execute_reply": "2024-12-17T17:32:45.165919Z"
    },
    "papermill": {
     "duration": 0.004075,
     "end_time": "2024-12-17T17:32:45.166375",
     "exception": false,
     "start_time": "2024-12-17T17:32:45.162300",
     "status": "completed"
    },
    "tags": []
   },
   "outputs": [],
   "source": [
    "from pathlib import Path\n",
    "import json"
   ]
  },
  {
   "cell_type": "markdown",
   "id": "50590acc",
   "metadata": {
    "papermill": {
     "duration": 0.001058,
     "end_time": "2024-12-17T17:32:45.168957",
     "exception": false,
     "start_time": "2024-12-17T17:32:45.167899",
     "status": "completed"
    },
    "tags": []
   },
   "source": [
    "We would use the pandas for analyzing and manipulating our data while seaborn and matplotlib are used for data visualization. statsmodels.graphics.gofplots and scipy.stats.shapiro are used for normality check. Scipy.stats.friedmanchisquare is a non-parametric test used to determine the statistical significance in metric results and the wilcoxon test is used for pairwise comparison of sample data."
   ]
  },
  {
   "cell_type": "code",
   "execution_count": 2,
   "id": "d40cc792",
   "metadata": {
    "execution": {
     "iopub.execute_input": "2024-12-17T17:32:45.171518Z",
     "iopub.status.busy": "2024-12-17T17:32:45.171453Z",
     "iopub.status.idle": "2024-12-17T17:32:45.721259Z",
     "shell.execute_reply": "2024-12-17T17:32:45.720987Z"
    },
    "lines_to_next_cell": 2,
    "papermill": {
     "duration": 0.551955,
     "end_time": "2024-12-17T17:32:45.722006",
     "exception": false,
     "start_time": "2024-12-17T17:32:45.170051",
     "status": "completed"
    },
    "tags": []
   },
   "outputs": [],
   "source": [
    "import pandas as pd\n",
    "import seaborn as sns\n",
    "import matplotlib.pyplot as plt\n",
    "from statsmodels.graphics.gofplots import qqplot\n",
    "from scipy.stats import shapiro\n",
    "from scipy.stats import friedmanchisquare, wilcoxon\n",
    "from itertools import combinations"
   ]
  },
  {
   "cell_type": "markdown",
   "id": "76360899",
   "metadata": {
    "papermill": {
     "duration": 0.001249,
     "end_time": "2024-12-17T17:32:45.724635",
     "exception": false,
     "start_time": "2024-12-17T17:32:45.723386",
     "status": "completed"
    },
    "tags": []
   },
   "source": [
    "Import the LensKit metrics for analysis:"
   ]
  },
  {
   "cell_type": "code",
   "execution_count": 3,
   "id": "9f0614f8",
   "metadata": {
    "execution": {
     "iopub.execute_input": "2024-12-17T17:32:45.727520Z",
     "iopub.status.busy": "2024-12-17T17:32:45.727387Z",
     "iopub.status.idle": "2024-12-17T17:32:46.405813Z",
     "shell.execute_reply": "2024-12-17T17:32:46.405543Z"
    },
    "papermill": {
     "duration": 0.680919,
     "end_time": "2024-12-17T17:32:46.406735",
     "exception": false,
     "start_time": "2024-12-17T17:32:45.725816",
     "status": "completed"
    },
    "tags": []
   },
   "outputs": [],
   "source": [
    "from lenskit.data import ItemListCollection, UserIDKey\n",
    "from lenskit.metrics import RunAnalysis, RMSE, NDCG, RecipRank, RBP"
   ]
  },
  {
   "cell_type": "markdown",
   "id": "44472f41",
   "metadata": {
    "papermill": {
     "duration": 0.00121,
     "end_time": "2024-12-17T17:32:46.409424",
     "exception": false,
     "start_time": "2024-12-17T17:32:46.408214",
     "status": "completed"
    },
    "tags": []
   },
   "source": [
    "## Load Data\n",
    "\n",
    "The recommendations are in `runs`, and we will need to reassemble the test data from `test`."
   ]
  },
  {
   "cell_type": "code",
   "execution_count": 4,
   "id": "a854029a",
   "metadata": {
    "execution": {
     "iopub.execute_input": "2024-12-17T17:32:46.412378Z",
     "iopub.status.busy": "2024-12-17T17:32:46.412243Z",
     "iopub.status.idle": "2024-12-17T17:32:46.413957Z",
     "shell.execute_reply": "2024-12-17T17:32:46.413736Z"
    },
    "papermill": {
     "duration": 0.003735,
     "end_time": "2024-12-17T17:32:46.414382",
     "exception": false,
     "start_time": "2024-12-17T17:32:46.410647",
     "status": "completed"
    },
    "tags": [
     "parameters"
    ]
   },
   "outputs": [],
   "source": [
    "dataset = \"ml100k\""
   ]
  },
  {
   "cell_type": "code",
   "execution_count": 5,
   "id": "42361a69",
   "metadata": {
    "execution": {
     "iopub.execute_input": "2024-12-17T17:32:46.417451Z",
     "iopub.status.busy": "2024-12-17T17:32:46.417381Z",
     "iopub.status.idle": "2024-12-17T17:32:46.418894Z",
     "shell.execute_reply": "2024-12-17T17:32:46.418687Z"
    },
    "papermill": {
     "duration": 0.003387,
     "end_time": "2024-12-17T17:32:46.419264",
     "exception": false,
     "start_time": "2024-12-17T17:32:46.415877",
     "status": "completed"
    },
    "tags": [
     "injected-parameters"
    ]
   },
   "outputs": [],
   "source": [
    "# Parameters\n",
    "dataset = \"ml100k\"\n"
   ]
  },
  {
   "cell_type": "code",
   "execution_count": 6,
   "id": "58b1ab64",
   "metadata": {
    "execution": {
     "iopub.execute_input": "2024-12-17T17:32:46.421934Z",
     "iopub.status.busy": "2024-12-17T17:32:46.421876Z",
     "iopub.status.idle": "2024-12-17T17:32:46.423242Z",
     "shell.execute_reply": "2024-12-17T17:32:46.423050Z"
    },
    "papermill": {
     "duration": 0.003153,
     "end_time": "2024-12-17T17:32:46.423597",
     "exception": false,
     "start_time": "2024-12-17T17:32:46.420444",
     "status": "completed"
    },
    "tags": []
   },
   "outputs": [],
   "source": [
    "output_root = Path(\"runs\")"
   ]
  },
  {
   "cell_type": "code",
   "execution_count": 7,
   "id": "291fdc84",
   "metadata": {
    "execution": {
     "iopub.execute_input": "2024-12-17T17:32:46.426385Z",
     "iopub.status.busy": "2024-12-17T17:32:46.426322Z",
     "iopub.status.idle": "2024-12-17T17:32:46.427867Z",
     "shell.execute_reply": "2024-12-17T17:32:46.427667Z"
    },
    "papermill": {
     "duration": 0.003448,
     "end_time": "2024-12-17T17:32:46.428223",
     "exception": false,
     "start_time": "2024-12-17T17:32:46.424775",
     "status": "completed"
    },
    "tags": []
   },
   "outputs": [],
   "source": [
    "dirs = [fld for fld in output_root.glob(f'{dataset}-*')]"
   ]
  },
  {
   "cell_type": "code",
   "execution_count": 8,
   "id": "e47fe658",
   "metadata": {
    "execution": {
     "iopub.execute_input": "2024-12-17T17:32:46.430781Z",
     "iopub.status.busy": "2024-12-17T17:32:46.430717Z",
     "iopub.status.idle": "2024-12-17T17:32:46.539289Z",
     "shell.execute_reply": "2024-12-17T17:32:46.538909Z"
    },
    "papermill": {
     "duration": 0.110625,
     "end_time": "2024-12-17T17:32:46.540013",
     "exception": false,
     "start_time": "2024-12-17T17:32:46.429388",
     "status": "completed"
    },
    "tags": []
   },
   "outputs": [],
   "source": [
    "recs = ItemListCollection(['model', 'user_id'], index=False)\n",
    "for fld in dirs:\n",
    "    for file in fld.glob(\"recs-*\"):\n",
    "        rec = ItemListCollection.load_parquet(file)\n",
    "        recs.add_from(rec, model=fld.name.split(\"-\")[1])"
   ]
  },
  {
   "cell_type": "code",
   "execution_count": 9,
   "id": "36d675e6",
   "metadata": {
    "execution": {
     "iopub.execute_input": "2024-12-17T17:32:46.543443Z",
     "iopub.status.busy": "2024-12-17T17:32:46.543345Z",
     "iopub.status.idle": "2024-12-17T17:32:46.546675Z",
     "shell.execute_reply": "2024-12-17T17:32:46.546466Z"
    },
    "papermill": {
     "duration": 0.005534,
     "end_time": "2024-12-17T17:32:46.547052",
     "exception": false,
     "start_time": "2024-12-17T17:32:46.541518",
     "status": "completed"
    },
    "tags": []
   },
   "outputs": [
    {
     "data": {
      "text/plain": [
       "['ALS', 'Bias', 'IALS', 'IIE', 'III', 'Pop', 'UUE']"
      ]
     },
     "execution_count": 9,
     "metadata": {},
     "output_type": "execute_result"
    }
   ],
   "source": [
    "rec_algos = sorted(set(a for (a, _u) in recs.keys()))\n",
    "rec_algos"
   ]
  },
  {
   "cell_type": "code",
   "execution_count": 10,
   "id": "530bbfda",
   "metadata": {
    "execution": {
     "iopub.execute_input": "2024-12-17T17:32:46.549939Z",
     "iopub.status.busy": "2024-12-17T17:32:46.549866Z",
     "iopub.status.idle": "2024-12-17T17:32:46.684078Z",
     "shell.execute_reply": "2024-12-17T17:32:46.683691Z"
    },
    "papermill": {
     "duration": 0.136472,
     "end_time": "2024-12-17T17:32:46.684798",
     "exception": false,
     "start_time": "2024-12-17T17:32:46.548326",
     "status": "completed"
    },
    "tags": []
   },
   "outputs": [],
   "source": [
    "preds = ItemListCollection(['model', 'user_id'], index=False)\n",
    "for fld in dirs:\n",
    "    for file in fld.glob(\"pred-*\"):\n",
    "        pred = ItemListCollection.load_parquet(file)\n",
    "        preds.add_from(pred, model=fld.name.split(\"-\")[1])"
   ]
  },
  {
   "cell_type": "markdown",
   "id": "737fbf6f",
   "metadata": {
    "papermill": {
     "duration": 0.001415,
     "end_time": "2024-12-17T17:32:46.687687",
     "exception": false,
     "start_time": "2024-12-17T17:32:46.686272",
     "status": "completed"
    },
    "tags": []
   },
   "source": [
    "We need to load the test data so that we have the ground truths for computing accuracy"
   ]
  },
  {
   "cell_type": "code",
   "execution_count": 11,
   "id": "094c6750",
   "metadata": {
    "execution": {
     "iopub.execute_input": "2024-12-17T17:32:46.690781Z",
     "iopub.status.busy": "2024-12-17T17:32:46.690702Z",
     "iopub.status.idle": "2024-12-17T17:32:46.692396Z",
     "shell.execute_reply": "2024-12-17T17:32:46.692153Z"
    },
    "papermill": {
     "duration": 0.003898,
     "end_time": "2024-12-17T17:32:46.692930",
     "exception": false,
     "start_time": "2024-12-17T17:32:46.689032",
     "status": "completed"
    },
    "tags": []
   },
   "outputs": [],
   "source": [
    "split_root = Path(\"data-split\")\n",
    "split_dir = split_root / dataset"
   ]
  },
  {
   "cell_type": "code",
   "execution_count": 12,
   "id": "b6b27b83",
   "metadata": {
    "execution": {
     "iopub.execute_input": "2024-12-17T17:32:46.695978Z",
     "iopub.status.busy": "2024-12-17T17:32:46.695858Z",
     "iopub.status.idle": "2024-12-17T17:32:46.753037Z",
     "shell.execute_reply": "2024-12-17T17:32:46.752702Z"
    },
    "papermill": {
     "duration": 0.059556,
     "end_time": "2024-12-17T17:32:46.753731",
     "exception": false,
     "start_time": "2024-12-17T17:32:46.694175",
     "status": "completed"
    },
    "tags": []
   },
   "outputs": [],
   "source": [
    "test = ItemListCollection(UserIDKey)\n",
    "for file in split_dir.glob(\"test-*.parquet\"):\n",
    "    df = pd.read_parquet(file)\n",
    "    part = ItemListCollection.from_df(df, UserIDKey)\n",
    "    test.add_from(part)"
   ]
  },
  {
   "cell_type": "markdown",
   "id": "fed8bea2",
   "metadata": {
    "papermill": {
     "duration": 0.001251,
     "end_time": "2024-12-17T17:32:46.756274",
     "exception": false,
     "start_time": "2024-12-17T17:32:46.755023",
     "status": "completed"
    },
    "tags": []
   },
   "source": [
    "## Top-N Metrics\n",
    "\n",
    "`RunListAnalysis` computes metrics for recommendation results and takes care of\n",
    "matching recommendations and ground truth."
   ]
  },
  {
   "cell_type": "code",
   "execution_count": 13,
   "id": "7b68ce95",
   "metadata": {
    "execution": {
     "iopub.execute_input": "2024-12-17T17:32:46.759442Z",
     "iopub.status.busy": "2024-12-17T17:32:46.759364Z",
     "iopub.status.idle": "2024-12-17T17:32:47.248171Z",
     "shell.execute_reply": "2024-12-17T17:32:47.247960Z"
    },
    "papermill": {
     "duration": 0.491229,
     "end_time": "2024-12-17T17:32:47.248794",
     "exception": false,
     "start_time": "2024-12-17T17:32:46.757565",
     "status": "completed"
    },
    "tags": []
   },
   "outputs": [
    {
     "name": "stderr",
     "output_type": "stream",
     "text": [
      "/home/mde48/lenskit/lkpy/lenskit/lenskit/metrics/bulk.py:121: FutureWarning: The previous implementation of stack is deprecated and will be removed in a future version of pandas. See the What's New notes for pandas 2.1.0 for details. Specify future_stack=True to adopt the new implementation and silence this warning.\n",
      "  df = scores.groupby(list(keys)).agg([\"mean\", \"median\", \"std\"]).stack(level=0)\n"
     ]
    },
    {
     "data": {
      "text/html": [
       "<div>\n",
       "<style scoped>\n",
       "    .dataframe tbody tr th:only-of-type {\n",
       "        vertical-align: middle;\n",
       "    }\n",
       "\n",
       "    .dataframe tbody tr th {\n",
       "        vertical-align: top;\n",
       "    }\n",
       "\n",
       "    .dataframe thead th {\n",
       "        text-align: right;\n",
       "    }\n",
       "</style>\n",
       "<table border=\"1\" class=\"dataframe\">\n",
       "  <thead>\n",
       "    <tr style=\"text-align: right;\">\n",
       "      <th></th>\n",
       "      <th></th>\n",
       "      <th>mean</th>\n",
       "      <th>median</th>\n",
       "      <th>std</th>\n",
       "    </tr>\n",
       "    <tr>\n",
       "      <th>model</th>\n",
       "      <th></th>\n",
       "      <th></th>\n",
       "      <th></th>\n",
       "      <th></th>\n",
       "    </tr>\n",
       "  </thead>\n",
       "  <tbody>\n",
       "    <tr>\n",
       "      <th rowspan=\"3\" valign=\"top\">ALS</th>\n",
       "      <th>NDCG</th>\n",
       "      <td>0.077773</td>\n",
       "      <td>5.000654e-02</td>\n",
       "      <td>0.092587</td>\n",
       "    </tr>\n",
       "    <tr>\n",
       "      <th>RBP</th>\n",
       "      <td>0.024453</td>\n",
       "      <td>6.938894e-18</td>\n",
       "      <td>0.093874</td>\n",
       "    </tr>\n",
       "    <tr>\n",
       "      <th>RecipRank</th>\n",
       "      <td>0.077801</td>\n",
       "      <td>1.754386e-02</td>\n",
       "      <td>0.181314</td>\n",
       "    </tr>\n",
       "    <tr>\n",
       "      <th rowspan=\"3\" valign=\"top\">Bias</th>\n",
       "      <th>NDCG</th>\n",
       "      <td>0.077457</td>\n",
       "      <td>5.312220e-02</td>\n",
       "      <td>0.090349</td>\n",
       "    </tr>\n",
       "    <tr>\n",
       "      <th>RBP</th>\n",
       "      <td>0.016942</td>\n",
       "      <td>1.776357e-15</td>\n",
       "      <td>0.073437</td>\n",
       "    </tr>\n",
       "    <tr>\n",
       "      <th>RecipRank</th>\n",
       "      <td>0.068016</td>\n",
       "      <td>2.040816e-02</td>\n",
       "      <td>0.147820</td>\n",
       "    </tr>\n",
       "    <tr>\n",
       "      <th rowspan=\"3\" valign=\"top\">IALS</th>\n",
       "      <th>NDCG</th>\n",
       "      <td>0.294280</td>\n",
       "      <td>2.579722e-01</td>\n",
       "      <td>0.174189</td>\n",
       "    </tr>\n",
       "    <tr>\n",
       "      <th>RBP</th>\n",
       "      <td>0.113372</td>\n",
       "      <td>7.812619e-03</td>\n",
       "      <td>0.197215</td>\n",
       "    </tr>\n",
       "    <tr>\n",
       "      <th>RecipRank</th>\n",
       "      <td>0.260056</td>\n",
       "      <td>1.428571e-01</td>\n",
       "      <td>0.302162</td>\n",
       "    </tr>\n",
       "    <tr>\n",
       "      <th rowspan=\"3\" valign=\"top\">IIE</th>\n",
       "      <th>NDCG</th>\n",
       "      <td>0.057488</td>\n",
       "      <td>4.467052e-02</td>\n",
       "      <td>0.070846</td>\n",
       "    </tr>\n",
       "    <tr>\n",
       "      <th>RBP</th>\n",
       "      <td>0.007631</td>\n",
       "      <td>8.271806e-25</td>\n",
       "      <td>0.049530</td>\n",
       "    </tr>\n",
       "    <tr>\n",
       "      <th>RecipRank</th>\n",
       "      <td>0.039690</td>\n",
       "      <td>1.250000e-02</td>\n",
       "      <td>0.104957</td>\n",
       "    </tr>\n",
       "    <tr>\n",
       "      <th rowspan=\"3\" valign=\"top\">III</th>\n",
       "      <th>NDCG</th>\n",
       "      <td>0.291569</td>\n",
       "      <td>2.521752e-01</td>\n",
       "      <td>0.193535</td>\n",
       "    </tr>\n",
       "    <tr>\n",
       "      <th>RBP</th>\n",
       "      <td>0.185973</td>\n",
       "      <td>3.125004e-02</td>\n",
       "      <td>0.246712</td>\n",
       "    </tr>\n",
       "    <tr>\n",
       "      <th>RecipRank</th>\n",
       "      <td>0.366979</td>\n",
       "      <td>2.000000e-01</td>\n",
       "      <td>0.378522</td>\n",
       "    </tr>\n",
       "    <tr>\n",
       "      <th rowspan=\"3\" valign=\"top\">Pop</th>\n",
       "      <th>NDCG</th>\n",
       "      <td>0.187684</td>\n",
       "      <td>1.560404e-01</td>\n",
       "      <td>0.139955</td>\n",
       "    </tr>\n",
       "    <tr>\n",
       "      <th>RBP</th>\n",
       "      <td>0.081261</td>\n",
       "      <td>4.882812e-04</td>\n",
       "      <td>0.163514</td>\n",
       "    </tr>\n",
       "    <tr>\n",
       "      <th>RecipRank</th>\n",
       "      <td>0.207395</td>\n",
       "      <td>9.090909e-02</td>\n",
       "      <td>0.285323</td>\n",
       "    </tr>\n",
       "    <tr>\n",
       "      <th rowspan=\"3\" valign=\"top\">UUE</th>\n",
       "      <th>NDCG</th>\n",
       "      <td>0.035936</td>\n",
       "      <td>4.283597e-02</td>\n",
       "      <td>0.042351</td>\n",
       "    </tr>\n",
       "    <tr>\n",
       "      <th>RBP</th>\n",
       "      <td>0.000128</td>\n",
       "      <td>5.048710e-29</td>\n",
       "      <td>0.001650</td>\n",
       "    </tr>\n",
       "    <tr>\n",
       "      <th>RecipRank</th>\n",
       "      <td>0.013789</td>\n",
       "      <td>1.063830e-02</td>\n",
       "      <td>0.021431</td>\n",
       "    </tr>\n",
       "  </tbody>\n",
       "</table>\n",
       "</div>"
      ],
      "text/plain": [
       "                     mean        median       std\n",
       "model                                            \n",
       "ALS   NDCG       0.077773  5.000654e-02  0.092587\n",
       "      RBP        0.024453  6.938894e-18  0.093874\n",
       "      RecipRank  0.077801  1.754386e-02  0.181314\n",
       "Bias  NDCG       0.077457  5.312220e-02  0.090349\n",
       "      RBP        0.016942  1.776357e-15  0.073437\n",
       "      RecipRank  0.068016  2.040816e-02  0.147820\n",
       "IALS  NDCG       0.294280  2.579722e-01  0.174189\n",
       "      RBP        0.113372  7.812619e-03  0.197215\n",
       "      RecipRank  0.260056  1.428571e-01  0.302162\n",
       "IIE   NDCG       0.057488  4.467052e-02  0.070846\n",
       "      RBP        0.007631  8.271806e-25  0.049530\n",
       "      RecipRank  0.039690  1.250000e-02  0.104957\n",
       "III   NDCG       0.291569  2.521752e-01  0.193535\n",
       "      RBP        0.185973  3.125004e-02  0.246712\n",
       "      RecipRank  0.366979  2.000000e-01  0.378522\n",
       "Pop   NDCG       0.187684  1.560404e-01  0.139955\n",
       "      RBP        0.081261  4.882812e-04  0.163514\n",
       "      RecipRank  0.207395  9.090909e-02  0.285323\n",
       "UUE   NDCG       0.035936  4.283597e-02  0.042351\n",
       "      RBP        0.000128  5.048710e-29  0.001650\n",
       "      RecipRank  0.013789  1.063830e-02  0.021431"
      ]
     },
     "execution_count": 13,
     "metadata": {},
     "output_type": "execute_result"
    }
   ],
   "source": [
    "ra = RunAnalysis()\n",
    "\n",
    "ra.add_metric(NDCG())\n",
    "ra.add_metric(RecipRank())\n",
    "ra.add_metric(RBP())\n",
    "\n",
    "rec_results = ra.compute(recs, test)\n",
    "rec_results.list_summary('model')"
   ]
  },
  {
   "cell_type": "markdown",
   "id": "8cba4e78",
   "metadata": {
    "papermill": {
     "duration": 0.001343,
     "end_time": "2024-12-17T17:32:47.251633",
     "exception": false,
     "start_time": "2024-12-17T17:32:47.250290",
     "status": "completed"
    },
    "tags": []
   },
   "source": [
    "We can reshape the list metrics and plot them:"
   ]
  },
  {
   "cell_type": "code",
   "execution_count": 14,
   "id": "238604c3",
   "metadata": {
    "execution": {
     "iopub.execute_input": "2024-12-17T17:32:47.254799Z",
     "iopub.status.busy": "2024-12-17T17:32:47.254720Z",
     "iopub.status.idle": "2024-12-17T17:32:47.622624Z",
     "shell.execute_reply": "2024-12-17T17:32:47.622203Z"
    },
    "papermill": {
     "duration": 0.370348,
     "end_time": "2024-12-17T17:32:47.623287",
     "exception": false,
     "start_time": "2024-12-17T17:32:47.252939",
     "status": "completed"
    },
    "tags": []
   },
   "outputs": [
    {
     "data": {
      "image/png": "[encoded data removed]",
      "text/plain": [
       "<Figure size 1511.11x500 with 3 Axes>"
      ]
     },
     "metadata": {},
     "output_type": "display_data"
    }
   ],
   "source": [
    "metrics = rec_results.list_metrics()\n",
    "metrics = metrics.melt(var_name='metric', ignore_index=False).reset_index()\n",
    "sns.catplot(metrics, x='model', y='value', col='metric', kind='bar')\n",
    "plt.show()"
   ]
  },
  {
   "cell_type": "markdown",
   "id": "d6f202d4",
   "metadata": {
    "papermill": {
     "duration": 0.001504,
     "end_time": "2024-12-17T17:32:47.626501",
     "exception": false,
     "start_time": "2024-12-17T17:32:47.624997",
     "status": "completed"
    },
    "tags": []
   },
   "source": [
    "## Prediction RMSE\n",
    "\n",
    "We will also look at the prediction RMSE."
   ]
  },
  {
   "cell_type": "code",
   "execution_count": 15,
   "id": "c78c5ff6",
   "metadata": {
    "execution": {
     "iopub.execute_input": "2024-12-17T17:32:47.630056Z",
     "iopub.status.busy": "2024-12-17T17:32:47.629971Z",
     "iopub.status.idle": "2024-12-17T17:32:48.178621Z",
     "shell.execute_reply": "2024-12-17T17:32:48.178477Z"
    },
    "papermill": {
     "duration": 0.55112,
     "end_time": "2024-12-17T17:32:48.179147",
     "exception": false,
     "start_time": "2024-12-17T17:32:47.628027",
     "status": "completed"
    },
    "tags": []
   },
   "outputs": [
    {
     "name": "stderr",
     "output_type": "stream",
     "text": [
      "/home/mde48/lenskit/lkpy/lenskit/lenskit/metrics/bulk.py:121: FutureWarning: The previous implementation of stack is deprecated and will be removed in a future version of pandas. See the What's New notes for pandas 2.1.0 for details. Specify future_stack=True to adopt the new implementation and silence this warning.\n",
      "  df = scores.groupby(list(keys)).agg([\"mean\", \"median\", \"std\"]).stack(level=0)\n"
     ]
    },
    {
     "data": {
      "text/html": [
       "<div>\n",
       "<style scoped>\n",
       "    .dataframe tbody tr th:only-of-type {\n",
       "        vertical-align: middle;\n",
       "    }\n",
       "\n",
       "    .dataframe tbody tr th {\n",
       "        vertical-align: top;\n",
       "    }\n",
       "\n",
       "    .dataframe thead th {\n",
       "        text-align: right;\n",
       "    }\n",
       "</style>\n",
       "<table border=\"1\" class=\"dataframe\">\n",
       "  <thead>\n",
       "    <tr style=\"text-align: right;\">\n",
       "      <th></th>\n",
       "      <th></th>\n",
       "      <th>mean</th>\n",
       "      <th>median</th>\n",
       "      <th>std</th>\n",
       "    </tr>\n",
       "    <tr>\n",
       "      <th>model</th>\n",
       "      <th></th>\n",
       "      <th></th>\n",
       "      <th></th>\n",
       "      <th></th>\n",
       "    </tr>\n",
       "  </thead>\n",
       "  <tbody>\n",
       "    <tr>\n",
       "      <th>ALS</th>\n",
       "      <th>RMSE</th>\n",
       "      <td>0.883805</td>\n",
       "      <td>0.831470</td>\n",
       "      <td>0.336939</td>\n",
       "    </tr>\n",
       "    <tr>\n",
       "      <th>Bias</th>\n",
       "      <th>RMSE</th>\n",
       "      <td>0.909377</td>\n",
       "      <td>0.867472</td>\n",
       "      <td>0.344338</td>\n",
       "    </tr>\n",
       "    <tr>\n",
       "      <th>IIE</th>\n",
       "      <th>RMSE</th>\n",
       "      <td>0.876274</td>\n",
       "      <td>0.829409</td>\n",
       "      <td>0.345672</td>\n",
       "    </tr>\n",
       "    <tr>\n",
       "      <th>UUE</th>\n",
       "      <th>RMSE</th>\n",
       "      <td>0.895760</td>\n",
       "      <td>0.844384</td>\n",
       "      <td>0.358496</td>\n",
       "    </tr>\n",
       "  </tbody>\n",
       "</table>\n",
       "</div>"
      ],
      "text/plain": [
       "                mean    median       std\n",
       "model                                   \n",
       "ALS   RMSE  0.883805  0.831470  0.336939\n",
       "Bias  RMSE  0.909377  0.867472  0.344338\n",
       "IIE   RMSE  0.876274  0.829409  0.345672\n",
       "UUE   RMSE  0.895760  0.844384  0.358496"
      ]
     },
     "execution_count": 15,
     "metadata": {},
     "output_type": "execute_result"
    }
   ],
   "source": [
    "pa = RunAnalysis()\n",
    "\n",
    "pa.add_metric(RMSE(missing_scores='ignore', missing_truth='ignore'))\n",
    "\n",
    "pred_results = pa.compute(preds, test)\n",
    "pred_results.list_summary('model')"
   ]
  },
  {
   "cell_type": "code",
   "execution_count": 16,
   "id": "929287d6",
   "metadata": {
    "execution": {
     "iopub.execute_input": "2024-12-17T17:32:48.190327Z",
     "iopub.status.busy": "2024-12-17T17:32:48.190252Z",
     "iopub.status.idle": "2024-12-17T17:32:48.273048Z",
     "shell.execute_reply": "2024-12-17T17:32:48.272806Z"
    },
    "papermill": {
     "duration": 0.092691,
     "end_time": "2024-12-17T17:32:48.273521",
     "exception": false,
     "start_time": "2024-12-17T17:32:48.180830",
     "status": "completed"
    },
    "tags": []
   },
   "outputs": [
    {
     "data": {
      "image/png": "[encoded data removed]",
      "text/plain": [
       "<Figure size 511.111x500 with 1 Axes>"
      ]
     },
     "metadata": {},
     "output_type": "display_data"
    }
   ],
   "source": [
    "sns.catplot(pred_results.list_metrics().reset_index(), x='model', y='RMSE', kind='bar')\n",
    "plt.show()"
   ]
  },
  {
   "cell_type": "markdown",
   "id": "0caac7ca",
   "metadata": {
    "papermill": {
     "duration": 0.001661,
     "end_time": "2024-12-17T17:32:48.276844",
     "exception": false,
     "start_time": "2024-12-17T17:32:48.275183",
     "status": "completed"
    },
    "tags": []
   },
   "source": [
    "## Save Metrics\n",
    "\n",
    "We'll now save the metrics to a file."
   ]
  },
  {
   "cell_type": "code",
   "execution_count": 17,
   "id": "4e43b021",
   "metadata": {
    "execution": {
     "iopub.execute_input": "2024-12-17T17:32:48.280500Z",
     "iopub.status.busy": "2024-12-17T17:32:48.280416Z",
     "iopub.status.idle": "2024-12-17T17:32:48.287318Z",
     "shell.execute_reply": "2024-12-17T17:32:48.287179Z"
    },
    "papermill": {
     "duration": 0.009453,
     "end_time": "2024-12-17T17:32:48.287835",
     "exception": false,
     "start_time": "2024-12-17T17:32:48.278382",
     "status": "completed"
    },
    "tags": []
   },
   "outputs": [
    {
     "name": "stderr",
     "output_type": "stream",
     "text": [
      "/home/mde48/lenskit/lkpy/lenskit/lenskit/metrics/bulk.py:121: FutureWarning: The previous implementation of stack is deprecated and will be removed in a future version of pandas. See the What's New notes for pandas 2.1.0 for details. Specify future_stack=True to adopt the new implementation and silence this warning.\n",
      "  df = scores.groupby(list(keys)).agg([\"mean\", \"median\", \"std\"]).stack(level=0)\n"
     ]
    },
    {
     "data": {
      "text/html": [
       "<div>\n",
       "<style scoped>\n",
       "    .dataframe tbody tr th:only-of-type {\n",
       "        vertical-align: middle;\n",
       "    }\n",
       "\n",
       "    .dataframe tbody tr th {\n",
       "        vertical-align: top;\n",
       "    }\n",
       "\n",
       "    .dataframe thead th {\n",
       "        text-align: right;\n",
       "    }\n",
       "</style>\n",
       "<table border=\"1\" class=\"dataframe\">\n",
       "  <thead>\n",
       "    <tr style=\"text-align: right;\">\n",
       "      <th></th>\n",
       "      <th>NDCG</th>\n",
       "      <th>RBP</th>\n",
       "      <th>RecipRank</th>\n",
       "    </tr>\n",
       "    <tr>\n",
       "      <th>model</th>\n",
       "      <th></th>\n",
       "      <th></th>\n",
       "      <th></th>\n",
       "    </tr>\n",
       "  </thead>\n",
       "  <tbody>\n",
       "    <tr>\n",
       "      <th>ALS</th>\n",
       "      <td>0.077773</td>\n",
       "      <td>0.024453</td>\n",
       "      <td>0.077801</td>\n",
       "    </tr>\n",
       "    <tr>\n",
       "      <th>Bias</th>\n",
       "      <td>0.077457</td>\n",
       "      <td>0.016942</td>\n",
       "      <td>0.068016</td>\n",
       "    </tr>\n",
       "    <tr>\n",
       "      <th>IALS</th>\n",
       "      <td>0.294280</td>\n",
       "      <td>0.113372</td>\n",
       "      <td>0.260056</td>\n",
       "    </tr>\n",
       "    <tr>\n",
       "      <th>IIE</th>\n",
       "      <td>0.057488</td>\n",
       "      <td>0.007631</td>\n",
       "      <td>0.039690</td>\n",
       "    </tr>\n",
       "    <tr>\n",
       "      <th>III</th>\n",
       "      <td>0.291569</td>\n",
       "      <td>0.185973</td>\n",
       "      <td>0.366979</td>\n",
       "    </tr>\n",
       "    <tr>\n",
       "      <th>Pop</th>\n",
       "      <td>0.187684</td>\n",
       "      <td>0.081261</td>\n",
       "      <td>0.207395</td>\n",
       "    </tr>\n",
       "    <tr>\n",
       "      <th>UUE</th>\n",
       "      <td>0.035936</td>\n",
       "      <td>0.000128</td>\n",
       "      <td>0.013789</td>\n",
       "    </tr>\n",
       "  </tbody>\n",
       "</table>\n",
       "</div>"
      ],
      "text/plain": [
       "           NDCG       RBP  RecipRank\n",
       "model                               \n",
       "ALS    0.077773  0.024453   0.077801\n",
       "Bias   0.077457  0.016942   0.068016\n",
       "IALS   0.294280  0.113372   0.260056\n",
       "IIE    0.057488  0.007631   0.039690\n",
       "III    0.291569  0.185973   0.366979\n",
       "Pop    0.187684  0.081261   0.207395\n",
       "UUE    0.035936  0.000128   0.013789"
      ]
     },
     "execution_count": 17,
     "metadata": {},
     "output_type": "execute_result"
    }
   ],
   "source": [
    "rlsum = rec_results.list_summary('model')['mean'].unstack()\n",
    "rlsum"
   ]
  },
  {
   "cell_type": "code",
   "execution_count": 18,
   "id": "cae53f67",
   "metadata": {
    "execution": {
     "iopub.execute_input": "2024-12-17T17:32:48.291602Z",
     "iopub.status.busy": "2024-12-17T17:32:48.291535Z",
     "iopub.status.idle": "2024-12-17T17:32:48.293684Z",
     "shell.execute_reply": "2024-12-17T17:32:48.293535Z"
    },
    "papermill": {
     "duration": 0.004505,
     "end_time": "2024-12-17T17:32:48.294067",
     "exception": false,
     "start_time": "2024-12-17T17:32:48.289562",
     "status": "completed"
    },
    "tags": []
   },
   "outputs": [],
   "source": [
    "rlsum.to_json(f'eval-metrics.{dataset}.json', orient='index')"
   ]
  }
 ],
 "metadata": {
  "jupytext": {
   "formats": "ipynb,md",
   "notebook_metadata_filter": "split_at_heading"
  },
  "kernelspec": {
   "display_name": "Python 3 (ipykernel)",
   "language": "python",
   "name": "python3"
  },
  "language_info": {
   "codemirror_mode": {
    "name": "ipython",
    "version": 3
   },
   "file_extension": ".py",
   "mimetype": "text/x-python",
   "name": "python",
   "nbconvert_exporter": "python",
   "pygments_lexer": "ipython3",
   "version": "3.12.8"
  },
  "papermill": {
   "default_parameters": {},
   "duration": 4.235191,
   "end_time": "2024-12-17T17:32:48.710377",
   "environment_variables": {},
   "exception": null,
   "input_path": "eval-report.ipynb",
   "output_path": "eval-report.ml100k.ipynb",
   "parameters": {
    "dataset": "ml100k"
   },
   "start_time": "2024-12-17T17:32:44.475186",
   "version": "2.6.0"
  },
  "split_at_heading": true
 },
 "nbformat": 4,
 "nbformat_minor": 5
}