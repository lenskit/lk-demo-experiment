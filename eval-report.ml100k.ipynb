{
 "cells": [
  {
   "cell_type": "markdown",
   "id": "f1019e39",
   "metadata": {
    "papermill": {
     "duration": 0.004939,
     "end_time": "2024-12-19T23:15:24.539812",
     "exception": false,
     "start_time": "2024-12-19T23:15:24.534873",
     "status": "completed"
    },
    "tags": []
   },
   "source": [
    "# Evaluation Analysis for Recommender Output"
   ]
  },
  {
   "cell_type": "markdown",
   "id": "bcc78799",
   "metadata": {
    "papermill": {
     "duration": 0.003667,
     "end_time": "2024-12-19T23:15:24.547962",
     "exception": false,
     "start_time": "2024-12-19T23:15:24.544295",
     "status": "completed"
    },
    "tags": []
   },
   "source": [
    "In this section we will analyze and compare the generated recommendations and predictions from a predefined list of algorithms with the goal of assessing the performance of each algorithm with respect to a metric. In other words, we would rank the algorithms for each metric considered with respect to performance."
   ]
  },
  {
   "cell_type": "markdown",
   "id": "e8c799a7",
   "metadata": {
    "papermill": {
     "duration": 0.003536,
     "end_time": "2024-12-19T23:15:24.555136",
     "exception": false,
     "start_time": "2024-12-19T23:15:24.551600",
     "status": "completed"
    },
    "tags": []
   },
   "source": [
    "## Setup"
   ]
  },
  {
   "cell_type": "markdown",
   "id": "77218f63",
   "metadata": {
    "papermill": {
     "duration": 0.00363,
     "end_time": "2024-12-19T23:15:24.562294",
     "exception": false,
     "start_time": "2024-12-19T23:15:24.558664",
     "status": "completed"
    },
    "tags": []
   },
   "source": [
    "Below are the list of packages required to successfully run the analysis. They are divided into partitions to signify their specific task.<br>\n",
    "We need the pathlib package for working with files and folders"
   ]
  },
  {
   "cell_type": "code",
   "execution_count": 1,
   "id": "d7b24574",
   "metadata": {
    "execution": {
     "iopub.execute_input": "2024-12-19T23:15:24.570283Z",
     "iopub.status.busy": "2024-12-19T23:15:24.570027Z",
     "iopub.status.idle": "2024-12-19T23:15:24.572869Z",
     "shell.execute_reply": "2024-12-19T23:15:24.572514Z"
    },
    "papermill": {
     "duration": 0.007793,
     "end_time": "2024-12-19T23:15:24.573574",
     "exception": false,
     "start_time": "2024-12-19T23:15:24.565781",
     "status": "completed"
    },
    "tags": []
   },
   "outputs": [],
   "source": [
    "from pathlib import Path\n",
    "import json"
   ]
  },
  {
   "cell_type": "markdown",
   "id": "41dc69f9",
   "metadata": {
    "papermill": {
     "duration": 0.003369,
     "end_time": "2024-12-19T23:15:24.580422",
     "exception": false,
     "start_time": "2024-12-19T23:15:24.577053",
     "status": "completed"
    },
    "tags": []
   },
   "source": [
    "We would use the pandas for analyzing and manipulating our data while seaborn and matplotlib are used for data visualization. statsmodels.graphics.gofplots and scipy.stats.shapiro are used for normality check. Scipy.stats.friedmanchisquare is a non-parametric test used to determine the statistical significance in metric results and the wilcoxon test is used for pairwise comparison of sample data."
   ]
  },
  {
   "cell_type": "code",
   "execution_count": 2,
   "id": "63353683",
   "metadata": {
    "execution": {
     "iopub.execute_input": "2024-12-19T23:15:24.587992Z",
     "iopub.status.busy": "2024-12-19T23:15:24.587775Z",
     "iopub.status.idle": "2024-12-19T23:15:29.587331Z",
     "shell.execute_reply": "2024-12-19T23:15:29.586799Z"
    },
    "lines_to_next_cell": 2,
    "papermill": {
     "duration": 5.004578,
     "end_time": "2024-12-19T23:15:29.588494",
     "exception": false,
     "start_time": "2024-12-19T23:15:24.583916",
     "status": "completed"
    },
    "tags": []
   },
   "outputs": [],
   "source": [
    "import pandas as pd\n",
    "import seaborn as sns\n",
    "import matplotlib.pyplot as plt\n",
    "from statsmodels.graphics.gofplots import qqplot\n",
    "from scipy.stats import shapiro\n",
    "from scipy.stats import friedmanchisquare, wilcoxon\n",
    "from itertools import combinations"
   ]
  },
  {
   "cell_type": "markdown",
   "id": "285102b5",
   "metadata": {
    "papermill": {
     "duration": 0.003574,
     "end_time": "2024-12-19T23:15:29.596419",
     "exception": false,
     "start_time": "2024-12-19T23:15:29.592845",
     "status": "completed"
    },
    "tags": []
   },
   "source": [
    "Import the LensKit metrics for analysis:"
   ]
  },
  {
   "cell_type": "code",
   "execution_count": 3,
   "id": "18eb2bb9",
   "metadata": {
    "execution": {
     "iopub.execute_input": "2024-12-19T23:15:29.604056Z",
     "iopub.status.busy": "2024-12-19T23:15:29.603712Z",
     "iopub.status.idle": "2024-12-19T23:15:32.873845Z",
     "shell.execute_reply": "2024-12-19T23:15:32.873426Z"
    },
    "papermill": {
     "duration": 3.275148,
     "end_time": "2024-12-19T23:15:32.874841",
     "exception": false,
     "start_time": "2024-12-19T23:15:29.599693",
     "status": "completed"
    },
    "tags": []
   },
   "outputs": [],
   "source": [
    "from lenskit.data import ItemListCollection, UserIDKey\n",
    "from lenskit.metrics import RunAnalysis, RMSE, NDCG, RecipRank, RBP"
   ]
  },
  {
   "cell_type": "markdown",
   "id": "1681b64f",
   "metadata": {
    "papermill": {
     "duration": 0.003711,
     "end_time": "2024-12-19T23:15:32.882913",
     "exception": false,
     "start_time": "2024-12-19T23:15:32.879202",
     "status": "completed"
    },
    "tags": []
   },
   "source": [
    "## Load Data\n",
    "\n",
    "The recommendations are in `runs`, and we will need to reassemble the test data from `test`."
   ]
  },
  {
   "cell_type": "code",
   "execution_count": 4,
   "id": "c361af0e",
   "metadata": {
    "execution": {
     "iopub.execute_input": "2024-12-19T23:15:32.890313Z",
     "iopub.status.busy": "2024-12-19T23:15:32.890088Z",
     "iopub.status.idle": "2024-12-19T23:15:32.892396Z",
     "shell.execute_reply": "2024-12-19T23:15:32.892044Z"
    },
    "papermill": {
     "duration": 0.006906,
     "end_time": "2024-12-19T23:15:32.893110",
     "exception": false,
     "start_time": "2024-12-19T23:15:32.886204",
     "status": "completed"
    },
    "tags": [
     "parameters"
    ]
   },
   "outputs": [],
   "source": [
    "dataset = \"ml100k\""
   ]
  },
  {
   "cell_type": "code",
   "execution_count": 5,
   "id": "62eb70a1",
   "metadata": {
    "execution": {
     "iopub.execute_input": "2024-12-19T23:15:32.900432Z",
     "iopub.status.busy": "2024-12-19T23:15:32.900228Z",
     "iopub.status.idle": "2024-12-19T23:15:32.902277Z",
     "shell.execute_reply": "2024-12-19T23:15:32.901936Z"
    },
    "papermill": {
     "duration": 0.006632,
     "end_time": "2024-12-19T23:15:32.902949",
     "exception": false,
     "start_time": "2024-12-19T23:15:32.896317",
     "status": "completed"
    },
    "tags": [
     "injected-parameters"
    ]
   },
   "outputs": [],
   "source": [
    "# Parameters\n",
    "dataset = \"ml100k\"\n"
   ]
  },
  {
   "cell_type": "code",
   "execution_count": 6,
   "id": "1758f093",
   "metadata": {
    "execution": {
     "iopub.execute_input": "2024-12-19T23:15:32.910380Z",
     "iopub.status.busy": "2024-12-19T23:15:32.910177Z",
     "iopub.status.idle": "2024-12-19T23:15:32.912321Z",
     "shell.execute_reply": "2024-12-19T23:15:32.911980Z"
    },
    "papermill": {
     "duration": 0.006755,
     "end_time": "2024-12-19T23:15:32.913047",
     "exception": false,
     "start_time": "2024-12-19T23:15:32.906292",
     "status": "completed"
    },
    "tags": []
   },
   "outputs": [],
   "source": [
    "output_root = Path(\"runs\")"
   ]
  },
  {
   "cell_type": "code",
   "execution_count": 7,
   "id": "7e8b78eb",
   "metadata": {
    "execution": {
     "iopub.execute_input": "2024-12-19T23:15:32.920791Z",
     "iopub.status.busy": "2024-12-19T23:15:32.920601Z",
     "iopub.status.idle": "2024-12-19T23:15:32.923362Z",
     "shell.execute_reply": "2024-12-19T23:15:32.923024Z"
    },
    "papermill": {
     "duration": 0.007676,
     "end_time": "2024-12-19T23:15:32.924029",
     "exception": false,
     "start_time": "2024-12-19T23:15:32.916353",
     "status": "completed"
    },
    "tags": []
   },
   "outputs": [],
   "source": [
    "dirs = [fld for fld in output_root.glob(f'{dataset}-*')]"
   ]
  },
  {
   "cell_type": "code",
   "execution_count": 8,
   "id": "89bdd7c1",
   "metadata": {
    "execution": {
     "iopub.execute_input": "2024-12-19T23:15:32.931385Z",
     "iopub.status.busy": "2024-12-19T23:15:32.931184Z",
     "iopub.status.idle": "2024-12-19T23:15:33.342259Z",
     "shell.execute_reply": "2024-12-19T23:15:33.341833Z"
    },
    "papermill": {
     "duration": 0.415982,
     "end_time": "2024-12-19T23:15:33.343370",
     "exception": false,
     "start_time": "2024-12-19T23:15:32.927388",
     "status": "completed"
    },
    "tags": []
   },
   "outputs": [],
   "source": [
    "recs = ItemListCollection(['model', 'user_id'], index=False)\n",
    "for fld in dirs:\n",
    "    for file in fld.glob(\"recs-*\"):\n",
    "        rec = ItemListCollection.load_parquet(file)\n",
    "        recs.add_from(rec, model=fld.name.split(\"-\")[1])"
   ]
  },
  {
   "cell_type": "code",
   "execution_count": 9,
   "id": "1e51da55",
   "metadata": {
    "execution": {
     "iopub.execute_input": "2024-12-19T23:15:33.352846Z",
     "iopub.status.busy": "2024-12-19T23:15:33.352621Z",
     "iopub.status.idle": "2024-12-19T23:15:33.358775Z",
     "shell.execute_reply": "2024-12-19T23:15:33.358432Z"
    },
    "papermill": {
     "duration": 0.011386,
     "end_time": "2024-12-19T23:15:33.359491",
     "exception": false,
     "start_time": "2024-12-19T23:15:33.348105",
     "status": "completed"
    },
    "tags": []
   },
   "outputs": [
    {
     "data": {
      "text/plain": [
       "['ALS', 'Bias', 'IALS', 'IIE', 'III', 'Pop', 'UUE']"
      ]
     },
     "execution_count": 9,
     "metadata": {},
     "output_type": "execute_result"
    }
   ],
   "source": [
    "rec_algos = sorted(set(a for (a, _u) in recs.keys()))\n",
    "rec_algos"
   ]
  },
  {
   "cell_type": "code",
   "execution_count": 10,
   "id": "7643ed0e",
   "metadata": {
    "execution": {
     "iopub.execute_input": "2024-12-19T23:15:33.368208Z",
     "iopub.status.busy": "2024-12-19T23:15:33.367998Z",
     "iopub.status.idle": "2024-12-19T23:15:33.741119Z",
     "shell.execute_reply": "2024-12-19T23:15:33.740672Z"
    },
    "papermill": {
     "duration": 0.378767,
     "end_time": "2024-12-19T23:15:33.742283",
     "exception": false,
     "start_time": "2024-12-19T23:15:33.363516",
     "status": "completed"
    },
    "tags": []
   },
   "outputs": [],
   "source": [
    "preds = ItemListCollection(['model', 'user_id'], index=False)\n",
    "for fld in dirs:\n",
    "    for file in fld.glob(\"pred-*\"):\n",
    "        pred = ItemListCollection.load_parquet(file)\n",
    "        preds.add_from(pred, model=fld.name.split(\"-\")[1])"
   ]
  },
  {
   "cell_type": "markdown",
   "id": "b4733eea",
   "metadata": {
    "papermill": {
     "duration": 0.004137,
     "end_time": "2024-12-19T23:15:33.751651",
     "exception": false,
     "start_time": "2024-12-19T23:15:33.747514",
     "status": "completed"
    },
    "tags": []
   },
   "source": [
    "We need to load the test data so that we have the ground truths for computing accuracy"
   ]
  },
  {
   "cell_type": "code",
   "execution_count": 11,
   "id": "48858b06",
   "metadata": {
    "execution": {
     "iopub.execute_input": "2024-12-19T23:15:33.760469Z",
     "iopub.status.busy": "2024-12-19T23:15:33.760196Z",
     "iopub.status.idle": "2024-12-19T23:15:33.762739Z",
     "shell.execute_reply": "2024-12-19T23:15:33.762365Z"
    },
    "papermill": {
     "duration": 0.008062,
     "end_time": "2024-12-19T23:15:33.763465",
     "exception": false,
     "start_time": "2024-12-19T23:15:33.755403",
     "status": "completed"
    },
    "tags": []
   },
   "outputs": [],
   "source": [
    "split_root = Path(\"data-split\")\n",
    "split_dir = split_root / dataset"
   ]
  },
  {
   "cell_type": "code",
   "execution_count": 12,
   "id": "a971ba20",
   "metadata": {
    "execution": {
     "iopub.execute_input": "2024-12-19T23:15:33.772254Z",
     "iopub.status.busy": "2024-12-19T23:15:33.772052Z",
     "iopub.status.idle": "2024-12-19T23:15:33.903526Z",
     "shell.execute_reply": "2024-12-19T23:15:33.903115Z"
    },
    "papermill": {
     "duration": 0.137109,
     "end_time": "2024-12-19T23:15:33.904509",
     "exception": false,
     "start_time": "2024-12-19T23:15:33.767400",
     "status": "completed"
    },
    "tags": []
   },
   "outputs": [],
   "source": [
    "test = ItemListCollection(UserIDKey)\n",
    "for file in split_dir.glob(\"test-*.parquet\"):\n",
    "    df = pd.read_parquet(file)\n",
    "    part = ItemListCollection.from_df(df, UserIDKey)\n",
    "    test.add_from(part)"
   ]
  },
  {
   "cell_type": "markdown",
   "id": "01c28cce",
   "metadata": {
    "papermill": {
     "duration": 0.004062,
     "end_time": "2024-12-19T23:15:33.913480",
     "exception": false,
     "start_time": "2024-12-19T23:15:33.909418",
     "status": "completed"
    },
    "tags": []
   },
   "source": [
    "## Top-N Metrics\n",
    "\n",
    "`RunListAnalysis` computes metrics for recommendation results and takes care of\n",
    "matching recommendations and ground truth."
   ]
  },
  {
   "cell_type": "code",
   "execution_count": 13,
   "id": "ab0db84a",
   "metadata": {
    "execution": {
     "iopub.execute_input": "2024-12-19T23:15:33.922240Z",
     "iopub.status.busy": "2024-12-19T23:15:33.922011Z",
     "iopub.status.idle": "2024-12-19T23:15:35.250498Z",
     "shell.execute_reply": "2024-12-19T23:15:35.250061Z"
    },
    "papermill": {
     "duration": 1.33384,
     "end_time": "2024-12-19T23:15:35.251258",
     "exception": false,
     "start_time": "2024-12-19T23:15:33.917418",
     "status": "completed"
    },
    "tags": []
   },
   "outputs": [
    {
     "name": "stderr",
     "output_type": "stream",
     "text": [
      "/beegfs/scratch/mde48/lenskit/lk-demo-experiment/.venv/lib/python3.12/site-packages/lenskit/metrics/bulk.py:121: FutureWarning: The previous implementation of stack is deprecated and will be removed in a future version of pandas. See the What's New notes for pandas 2.1.0 for details. Specify future_stack=True to adopt the new implementation and silence this warning.\n",
      "  df = scores.groupby(list(keys)).agg([\"mean\", \"median\", \"std\"]).stack(level=0)\n"
     ]
    },
    {
     "data": {
      "text/html": [
       "<div>\n",
       "<style scoped>\n",
       "    .dataframe tbody tr th:only-of-type {\n",
       "        vertical-align: middle;\n",
       "    }\n",
       "\n",
       "    .dataframe tbody tr th {\n",
       "        vertical-align: top;\n",
       "    }\n",
       "\n",
       "    .dataframe thead th {\n",
       "        text-align: right;\n",
       "    }\n",
       "</style>\n",
       "<table border=\"1\" class=\"dataframe\">\n",
       "  <thead>\n",
       "    <tr style=\"text-align: right;\">\n",
       "      <th></th>\n",
       "      <th></th>\n",
       "      <th>mean</th>\n",
       "      <th>median</th>\n",
       "      <th>std</th>\n",
       "    </tr>\n",
       "    <tr>\n",
       "      <th>model</th>\n",
       "      <th></th>\n",
       "      <th></th>\n",
       "      <th></th>\n",
       "      <th></th>\n",
       "    </tr>\n",
       "  </thead>\n",
       "  <tbody>\n",
       "    <tr>\n",
       "      <th rowspan=\"3\" valign=\"top\">ALS</th>\n",
       "      <th>NDCG</th>\n",
       "      <td>0.076539</td>\n",
       "      <td>5.112522e-02</td>\n",
       "      <td>0.091632</td>\n",
       "    </tr>\n",
       "    <tr>\n",
       "      <th>RBP</th>\n",
       "      <td>0.021906</td>\n",
       "      <td>2.775558e-17</td>\n",
       "      <td>0.089350</td>\n",
       "    </tr>\n",
       "    <tr>\n",
       "      <th>RecipRank</th>\n",
       "      <td>0.073048</td>\n",
       "      <td>1.818182e-02</td>\n",
       "      <td>0.173601</td>\n",
       "    </tr>\n",
       "    <tr>\n",
       "      <th rowspan=\"3\" valign=\"top\">Bias</th>\n",
       "      <th>NDCG</th>\n",
       "      <td>0.073431</td>\n",
       "      <td>5.054779e-02</td>\n",
       "      <td>0.089999</td>\n",
       "    </tr>\n",
       "    <tr>\n",
       "      <th>RBP</th>\n",
       "      <td>0.016909</td>\n",
       "      <td>3.686287e-18</td>\n",
       "      <td>0.077561</td>\n",
       "    </tr>\n",
       "    <tr>\n",
       "      <th>RecipRank</th>\n",
       "      <td>0.065026</td>\n",
       "      <td>1.724138e-02</td>\n",
       "      <td>0.156346</td>\n",
       "    </tr>\n",
       "    <tr>\n",
       "      <th rowspan=\"3\" valign=\"top\">IALS</th>\n",
       "      <th>NDCG</th>\n",
       "      <td>0.290518</td>\n",
       "      <td>2.603352e-01</td>\n",
       "      <td>0.167183</td>\n",
       "    </tr>\n",
       "    <tr>\n",
       "      <th>RBP</th>\n",
       "      <td>0.106127</td>\n",
       "      <td>7.812500e-03</td>\n",
       "      <td>0.184926</td>\n",
       "    </tr>\n",
       "    <tr>\n",
       "      <th>RecipRank</th>\n",
       "      <td>0.251593</td>\n",
       "      <td>1.428571e-01</td>\n",
       "      <td>0.289077</td>\n",
       "    </tr>\n",
       "    <tr>\n",
       "      <th rowspan=\"3\" valign=\"top\">IIE</th>\n",
       "      <th>NDCG</th>\n",
       "      <td>0.055951</td>\n",
       "      <td>4.565589e-02</td>\n",
       "      <td>0.069029</td>\n",
       "    </tr>\n",
       "    <tr>\n",
       "      <th>RBP</th>\n",
       "      <td>0.006018</td>\n",
       "      <td>2.646978e-23</td>\n",
       "      <td>0.039328</td>\n",
       "    </tr>\n",
       "    <tr>\n",
       "      <th>RecipRank</th>\n",
       "      <td>0.036192</td>\n",
       "      <td>1.333333e-02</td>\n",
       "      <td>0.086930</td>\n",
       "    </tr>\n",
       "    <tr>\n",
       "      <th rowspan=\"3\" valign=\"top\">III</th>\n",
       "      <th>NDCG</th>\n",
       "      <td>0.287290</td>\n",
       "      <td>2.421055e-01</td>\n",
       "      <td>0.191443</td>\n",
       "    </tr>\n",
       "    <tr>\n",
       "      <th>RBP</th>\n",
       "      <td>0.173297</td>\n",
       "      <td>1.953125e-02</td>\n",
       "      <td>0.239286</td>\n",
       "    </tr>\n",
       "    <tr>\n",
       "      <th>RecipRank</th>\n",
       "      <td>0.349393</td>\n",
       "      <td>1.666667e-01</td>\n",
       "      <td>0.370002</td>\n",
       "    </tr>\n",
       "    <tr>\n",
       "      <th rowspan=\"3\" valign=\"top\">Pop</th>\n",
       "      <th>NDCG</th>\n",
       "      <td>0.189052</td>\n",
       "      <td>1.646429e-01</td>\n",
       "      <td>0.136573</td>\n",
       "    </tr>\n",
       "    <tr>\n",
       "      <th>RBP</th>\n",
       "      <td>0.080038</td>\n",
       "      <td>5.188137e-04</td>\n",
       "      <td>0.161279</td>\n",
       "    </tr>\n",
       "    <tr>\n",
       "      <th>RecipRank</th>\n",
       "      <td>0.206877</td>\n",
       "      <td>9.090909e-02</td>\n",
       "      <td>0.278886</td>\n",
       "    </tr>\n",
       "    <tr>\n",
       "      <th rowspan=\"3\" valign=\"top\">UUE</th>\n",
       "      <th>NDCG</th>\n",
       "      <td>0.034070</td>\n",
       "      <td>4.244664e-02</td>\n",
       "      <td>0.039639</td>\n",
       "    </tr>\n",
       "    <tr>\n",
       "      <th>RBP</th>\n",
       "      <td>0.000037</td>\n",
       "      <td>3.155444e-30</td>\n",
       "      <td>0.000404</td>\n",
       "    </tr>\n",
       "    <tr>\n",
       "      <th>RecipRank</th>\n",
       "      <td>0.013010</td>\n",
       "      <td>1.020408e-02</td>\n",
       "      <td>0.019302</td>\n",
       "    </tr>\n",
       "  </tbody>\n",
       "</table>\n",
       "</div>"
      ],
      "text/plain": [
       "                     mean        median       std\n",
       "model                                            \n",
       "ALS   NDCG       0.076539  5.112522e-02  0.091632\n",
       "      RBP        0.021906  2.775558e-17  0.089350\n",
       "      RecipRank  0.073048  1.818182e-02  0.173601\n",
       "Bias  NDCG       0.073431  5.054779e-02  0.089999\n",
       "      RBP        0.016909  3.686287e-18  0.077561\n",
       "      RecipRank  0.065026  1.724138e-02  0.156346\n",
       "IALS  NDCG       0.290518  2.603352e-01  0.167183\n",
       "      RBP        0.106127  7.812500e-03  0.184926\n",
       "      RecipRank  0.251593  1.428571e-01  0.289077\n",
       "IIE   NDCG       0.055951  4.565589e-02  0.069029\n",
       "      RBP        0.006018  2.646978e-23  0.039328\n",
       "      RecipRank  0.036192  1.333333e-02  0.086930\n",
       "III   NDCG       0.287290  2.421055e-01  0.191443\n",
       "      RBP        0.173297  1.953125e-02  0.239286\n",
       "      RecipRank  0.349393  1.666667e-01  0.370002\n",
       "Pop   NDCG       0.189052  1.646429e-01  0.136573\n",
       "      RBP        0.080038  5.188137e-04  0.161279\n",
       "      RecipRank  0.206877  9.090909e-02  0.278886\n",
       "UUE   NDCG       0.034070  4.244664e-02  0.039639\n",
       "      RBP        0.000037  3.155444e-30  0.000404\n",
       "      RecipRank  0.013010  1.020408e-02  0.019302"
      ]
     },
     "execution_count": 13,
     "metadata": {},
     "output_type": "execute_result"
    }
   ],
   "source": [
    "ra = RunAnalysis()\n",
    "\n",
    "ra.add_metric(NDCG())\n",
    "ra.add_metric(RecipRank())\n",
    "ra.add_metric(RBP())\n",
    "\n",
    "rec_results = ra.compute(recs, test)\n",
    "rec_results.list_summary('model')"
   ]
  },
  {
   "cell_type": "markdown",
   "id": "25787c4c",
   "metadata": {
    "papermill": {
     "duration": 0.004129,
     "end_time": "2024-12-19T23:15:35.260222",
     "exception": false,
     "start_time": "2024-12-19T23:15:35.256093",
     "status": "completed"
    },
    "tags": []
   },
   "source": [
    "We can reshape the list metrics and plot them:"
   ]
  },
  {
   "cell_type": "code",
   "execution_count": 14,
   "id": "a2296f89",
   "metadata": {
    "execution": {
     "iopub.execute_input": "2024-12-19T23:15:35.269130Z",
     "iopub.status.busy": "2024-12-19T23:15:35.268883Z",
     "iopub.status.idle": "2024-12-19T23:15:36.521097Z",
     "shell.execute_reply": "2024-12-19T23:15:36.520687Z"
    },
    "papermill": {
     "duration": 1.257768,
     "end_time": "2024-12-19T23:15:36.521902",
     "exception": false,
     "start_time": "2024-12-19T23:15:35.264134",
     "status": "completed"
    },
    "tags": []
   },
   "outputs": [
    {
     "data": {
      "image/png": "[encoded data removed]",
      "text/plain": [
       "<Figure size 1511.11x500 with 3 Axes>"
      ]
     },
     "metadata": {},
     "output_type": "display_data"
    }
   ],
   "source": [
    "metrics = rec_results.list_metrics()\n",
    "metrics = metrics.melt(var_name='metric', ignore_index=False).reset_index()\n",
    "sns.catplot(metrics, x='model', y='value', col='metric', kind='bar')\n",
    "plt.show()"
   ]
  },
  {
   "cell_type": "markdown",
   "id": "db3b46ec",
   "metadata": {
    "papermill": {
     "duration": 0.004421,
     "end_time": "2024-12-19T23:15:36.531525",
     "exception": false,
     "start_time": "2024-12-19T23:15:36.527104",
     "status": "completed"
    },
    "tags": []
   },
   "source": [
    "## Prediction RMSE\n",
    "\n",
    "We will also look at the prediction RMSE."
   ]
  },
  {
   "cell_type": "code",
   "execution_count": 15,
   "id": "5ddd139b",
   "metadata": {
    "execution": {
     "iopub.execute_input": "2024-12-19T23:15:36.541045Z",
     "iopub.status.busy": "2024-12-19T23:15:36.540817Z",
     "iopub.status.idle": "2024-12-19T23:15:37.969146Z",
     "shell.execute_reply": "2024-12-19T23:15:37.968567Z"
    },
    "papermill": {
     "duration": 1.43437,
     "end_time": "2024-12-19T23:15:37.970117",
     "exception": false,
     "start_time": "2024-12-19T23:15:36.535747",
     "status": "completed"
    },
    "tags": []
   },
   "outputs": [
    {
     "name": "stderr",
     "output_type": "stream",
     "text": [
      "/beegfs/scratch/mde48/lenskit/lk-demo-experiment/.venv/lib/python3.12/site-packages/lenskit/metrics/bulk.py:121: FutureWarning: The previous implementation of stack is deprecated and will be removed in a future version of pandas. See the What's New notes for pandas 2.1.0 for details. Specify future_stack=True to adopt the new implementation and silence this warning.\n",
      "  df = scores.groupby(list(keys)).agg([\"mean\", \"median\", \"std\"]).stack(level=0)\n"
     ]
    },
    {
     "data": {
      "text/html": [
       "<div>\n",
       "<style scoped>\n",
       "    .dataframe tbody tr th:only-of-type {\n",
       "        vertical-align: middle;\n",
       "    }\n",
       "\n",
       "    .dataframe tbody tr th {\n",
       "        vertical-align: top;\n",
       "    }\n",
       "\n",
       "    .dataframe thead th {\n",
       "        text-align: right;\n",
       "    }\n",
       "</style>\n",
       "<table border=\"1\" class=\"dataframe\">\n",
       "  <thead>\n",
       "    <tr style=\"text-align: right;\">\n",
       "      <th></th>\n",
       "      <th></th>\n",
       "      <th>mean</th>\n",
       "      <th>median</th>\n",
       "      <th>std</th>\n",
       "    </tr>\n",
       "    <tr>\n",
       "      <th>model</th>\n",
       "      <th></th>\n",
       "      <th></th>\n",
       "      <th></th>\n",
       "      <th></th>\n",
       "    </tr>\n",
       "  </thead>\n",
       "  <tbody>\n",
       "    <tr>\n",
       "      <th>ALS</th>\n",
       "      <th>RMSE</th>\n",
       "      <td>0.867905</td>\n",
       "      <td>0.820823</td>\n",
       "      <td>0.337485</td>\n",
       "    </tr>\n",
       "    <tr>\n",
       "      <th>Bias</th>\n",
       "      <th>RMSE</th>\n",
       "      <td>0.893602</td>\n",
       "      <td>0.853273</td>\n",
       "      <td>0.336509</td>\n",
       "    </tr>\n",
       "    <tr>\n",
       "      <th>IIE</th>\n",
       "      <th>RMSE</th>\n",
       "      <td>0.864128</td>\n",
       "      <td>0.818677</td>\n",
       "      <td>0.335030</td>\n",
       "    </tr>\n",
       "    <tr>\n",
       "      <th>UUE</th>\n",
       "      <th>RMSE</th>\n",
       "      <td>0.889174</td>\n",
       "      <td>0.828173</td>\n",
       "      <td>0.346621</td>\n",
       "    </tr>\n",
       "  </tbody>\n",
       "</table>\n",
       "</div>"
      ],
      "text/plain": [
       "                mean    median       std\n",
       "model                                   \n",
       "ALS   RMSE  0.867905  0.820823  0.337485\n",
       "Bias  RMSE  0.893602  0.853273  0.336509\n",
       "IIE   RMSE  0.864128  0.818677  0.335030\n",
       "UUE   RMSE  0.889174  0.828173  0.346621"
      ]
     },
     "execution_count": 15,
     "metadata": {},
     "output_type": "execute_result"
    }
   ],
   "source": [
    "pa = RunAnalysis()\n",
    "\n",
    "pa.add_metric(RMSE(missing_scores='ignore', missing_truth='ignore'))\n",
    "\n",
    "pred_results = pa.compute(preds, test)\n",
    "pred_results.list_summary('model')"
   ]
  },
  {
   "cell_type": "code",
   "execution_count": 16,
   "id": "8911faf9",
   "metadata": {
    "execution": {
     "iopub.execute_input": "2024-12-19T23:15:37.982085Z",
     "iopub.status.busy": "2024-12-19T23:15:37.981819Z",
     "iopub.status.idle": "2024-12-19T23:15:38.267546Z",
     "shell.execute_reply": "2024-12-19T23:15:38.267156Z"
    },
    "papermill": {
     "duration": 0.292055,
     "end_time": "2024-12-19T23:15:38.268357",
     "exception": false,
     "start_time": "2024-12-19T23:15:37.976302",
     "status": "completed"
    },
    "tags": []
   },
   "outputs": [
    {
     "data": {
      "image/png": "[encoded data removed]",
      "text/plain": [
       "<Figure size 511.111x500 with 1 Axes>"
      ]
     },
     "metadata": {},
     "output_type": "display_data"
    }
   ],
   "source": [
    "sns.catplot(pred_results.list_metrics().reset_index(), x='model', y='RMSE', kind='bar')\n",
    "plt.show()"
   ]
  },
  {
   "cell_type": "markdown",
   "id": "de6450d9",
   "metadata": {
    "papermill": {
     "duration": 0.004745,
     "end_time": "2024-12-19T23:15:38.278639",
     "exception": false,
     "start_time": "2024-12-19T23:15:38.273894",
     "status": "completed"
    },
    "tags": []
   },
   "source": [
    "## Save Metrics\n",
    "\n",
    "We'll now save the metrics to a file."
   ]
  },
  {
   "cell_type": "code",
   "execution_count": 17,
   "id": "9ccc37fd",
   "metadata": {
    "execution": {
     "iopub.execute_input": "2024-12-19T23:15:38.288622Z",
     "iopub.status.busy": "2024-12-19T23:15:38.288401Z",
     "iopub.status.idle": "2024-12-19T23:15:38.303906Z",
     "shell.execute_reply": "2024-12-19T23:15:38.303546Z"
    },
    "papermill": {
     "duration": 0.021518,
     "end_time": "2024-12-19T23:15:38.304616",
     "exception": false,
     "start_time": "2024-12-19T23:15:38.283098",
     "status": "completed"
    },
    "tags": []
   },
   "outputs": [
    {
     "name": "stderr",
     "output_type": "stream",
     "text": [
      "/beegfs/scratch/mde48/lenskit/lk-demo-experiment/.venv/lib/python3.12/site-packages/lenskit/metrics/bulk.py:121: FutureWarning: The previous implementation of stack is deprecated and will be removed in a future version of pandas. See the What's New notes for pandas 2.1.0 for details. Specify future_stack=True to adopt the new implementation and silence this warning.\n",
      "  df = scores.groupby(list(keys)).agg([\"mean\", \"median\", \"std\"]).stack(level=0)\n"
     ]
    },
    {
     "data": {
      "text/html": [
       "<div>\n",
       "<style scoped>\n",
       "    .dataframe tbody tr th:only-of-type {\n",
       "        vertical-align: middle;\n",
       "    }\n",
       "\n",
       "    .dataframe tbody tr th {\n",
       "        vertical-align: top;\n",
       "    }\n",
       "\n",
       "    .dataframe thead th {\n",
       "        text-align: right;\n",
       "    }\n",
       "</style>\n",
       "<table border=\"1\" class=\"dataframe\">\n",
       "  <thead>\n",
       "    <tr style=\"text-align: right;\">\n",
       "      <th></th>\n",
       "      <th>NDCG</th>\n",
       "      <th>RBP</th>\n",
       "      <th>RecipRank</th>\n",
       "    </tr>\n",
       "    <tr>\n",
       "      <th>model</th>\n",
       "      <th></th>\n",
       "      <th></th>\n",
       "      <th></th>\n",
       "    </tr>\n",
       "  </thead>\n",
       "  <tbody>\n",
       "    <tr>\n",
       "      <th>ALS</th>\n",
       "      <td>0.076539</td>\n",
       "      <td>0.021906</td>\n",
       "      <td>0.073048</td>\n",
       "    </tr>\n",
       "    <tr>\n",
       "      <th>Bias</th>\n",
       "      <td>0.073431</td>\n",
       "      <td>0.016909</td>\n",
       "      <td>0.065026</td>\n",
       "    </tr>\n",
       "    <tr>\n",
       "      <th>IALS</th>\n",
       "      <td>0.290518</td>\n",
       "      <td>0.106127</td>\n",
       "      <td>0.251593</td>\n",
       "    </tr>\n",
       "    <tr>\n",
       "      <th>IIE</th>\n",
       "      <td>0.055951</td>\n",
       "      <td>0.006018</td>\n",
       "      <td>0.036192</td>\n",
       "    </tr>\n",
       "    <tr>\n",
       "      <th>III</th>\n",
       "      <td>0.287290</td>\n",
       "      <td>0.173297</td>\n",
       "      <td>0.349393</td>\n",
       "    </tr>\n",
       "    <tr>\n",
       "      <th>Pop</th>\n",
       "      <td>0.189052</td>\n",
       "      <td>0.080038</td>\n",
       "      <td>0.206877</td>\n",
       "    </tr>\n",
       "    <tr>\n",
       "      <th>UUE</th>\n",
       "      <td>0.034070</td>\n",
       "      <td>0.000037</td>\n",
       "      <td>0.013010</td>\n",
       "    </tr>\n",
       "  </tbody>\n",
       "</table>\n",
       "</div>"
      ],
      "text/plain": [
       "           NDCG       RBP  RecipRank\n",
       "model                               \n",
       "ALS    0.076539  0.021906   0.073048\n",
       "Bias   0.073431  0.016909   0.065026\n",
       "IALS   0.290518  0.106127   0.251593\n",
       "IIE    0.055951  0.006018   0.036192\n",
       "III    0.287290  0.173297   0.349393\n",
       "Pop    0.189052  0.080038   0.206877\n",
       "UUE    0.034070  0.000037   0.013010"
      ]
     },
     "execution_count": 17,
     "metadata": {},
     "output_type": "execute_result"
    }
   ],
   "source": [
    "rlsum = rec_results.list_summary('model')['mean'].unstack()\n",
    "rlsum"
   ]
  },
  {
   "cell_type": "code",
   "execution_count": 18,
   "id": "70473b3c",
   "metadata": {
    "execution": {
     "iopub.execute_input": "2024-12-19T23:15:38.315077Z",
     "iopub.status.busy": "2024-12-19T23:15:38.314865Z",
     "iopub.status.idle": "2024-12-19T23:15:38.320890Z",
     "shell.execute_reply": "2024-12-19T23:15:38.320542Z"
    },
    "papermill": {
     "duration": 0.012069,
     "end_time": "2024-12-19T23:15:38.321614",
     "exception": false,
     "start_time": "2024-12-19T23:15:38.309545",
     "status": "completed"
    },
    "tags": []
   },
   "outputs": [],
   "source": [
    "rlsum.to_json(f'eval-metrics.{dataset}.json', orient='index')"
   ]
  }
 ],
 "metadata": {
  "jupytext": {
   "formats": "ipynb,md",
   "notebook_metadata_filter": "split_at_heading"
  },
  "kernelspec": {
   "display_name": "Python 3 (ipykernel)",
   "language": "python",
   "name": "python3"
  },
  "language_info": {
   "codemirror_mode": {
    "name": "ipython",
    "version": 3
   },
   "file_extension": ".py",
   "mimetype": "text/x-python",
   "name": "python",
   "nbconvert_exporter": "python",
   "pygments_lexer": "ipython3",
   "version": "3.12.8"
  },
  "papermill": {
   "default_parameters": {},
   "duration": 18.752482,
   "end_time": "2024-12-19T23:15:39.344021",
   "environment_variables": {},
   "exception": null,
   "input_path": "eval-report.ipynb",
   "output_path": "eval-report.ml100k.ipynb",
   "parameters": {
    "dataset": "ml100k"
   },
   "start_time": "2024-12-19T23:15:20.591539",
   "version": "2.6.0"
  },
  "split_at_heading": true
 },
 "nbformat": 4,
 "nbformat_minor": 5
}