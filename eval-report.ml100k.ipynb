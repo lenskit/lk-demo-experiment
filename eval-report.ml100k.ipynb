{
 "cells": [
  {
   "cell_type": "markdown",
   "id": "c350117e",
   "metadata": {
    "papermill": {
     "duration": 0.011843,
     "end_time": "2024-12-07T20:10:44.435598",
     "exception": false,
     "start_time": "2024-12-07T20:10:44.423755",
     "status": "completed"
    },
    "tags": []
   },
   "source": [
    "# Evaluation Analysis for Recommender Output"
   ]
  },
  {
   "cell_type": "markdown",
   "id": "f8727f2c",
   "metadata": {
    "papermill": {
     "duration": 0.001068,
     "end_time": "2024-12-07T20:10:44.438014",
     "exception": false,
     "start_time": "2024-12-07T20:10:44.436946",
     "status": "completed"
    },
    "tags": []
   },
   "source": [
    "In this section we will analyze and compare the generated recommendations and predictions from a predefined list of algorithms with the goal of assessing the performance of each algorithm with respect to a metric. In other words, we would rank the algorithms for each metric considered with respect to performance."
   ]
  },
  {
   "cell_type": "markdown",
   "id": "20905928",
   "metadata": {
    "papermill": {
     "duration": 0.001045,
     "end_time": "2024-12-07T20:10:44.440173",
     "exception": false,
     "start_time": "2024-12-07T20:10:44.439128",
     "status": "completed"
    },
    "tags": []
   },
   "source": [
    "## Setup"
   ]
  },
  {
   "cell_type": "markdown",
   "id": "a81245f4",
   "metadata": {
    "papermill": {
     "duration": 0.001117,
     "end_time": "2024-12-07T20:10:44.443069",
     "exception": false,
     "start_time": "2024-12-07T20:10:44.441952",
     "status": "completed"
    },
    "tags": []
   },
   "source": [
    "Below are the list of packages required to successfully run the analysis. They are divided into partitions to signify their specific task.<br>\n",
    "We need the pathlib package for working with files and folders"
   ]
  },
  {
   "cell_type": "code",
   "execution_count": 1,
   "id": "2aa621c5",
   "metadata": {
    "execution": {
     "iopub.execute_input": "2024-12-07T20:10:44.445869Z",
     "iopub.status.busy": "2024-12-07T20:10:44.445732Z",
     "iopub.status.idle": "2024-12-07T20:10:44.447626Z",
     "shell.execute_reply": "2024-12-07T20:10:44.447394Z"
    },
    "papermill": {
     "duration": 0.004011,
     "end_time": "2024-12-07T20:10:44.448144",
     "exception": false,
     "start_time": "2024-12-07T20:10:44.444133",
     "status": "completed"
    },
    "tags": []
   },
   "outputs": [],
   "source": [
    "from pathlib import Path"
   ]
  },
  {
   "cell_type": "markdown",
   "id": "e69d5901",
   "metadata": {
    "papermill": {
     "duration": 0.001086,
     "end_time": "2024-12-07T20:10:44.450368",
     "exception": false,
     "start_time": "2024-12-07T20:10:44.449282",
     "status": "completed"
    },
    "tags": []
   },
   "source": [
    "We would use the pandas for analyzing and manipulating our data while seaborn and matplotlib are used for data visualization. statsmodels.graphics.gofplots and scipy.stats.shapiro are used for normality check. Scipy.stats.friedmanchisquare is a non-parametric test used to determine the statistical significance in metric results and the wilcoxon test is used for pairwise comparison of sample data."
   ]
  },
  {
   "cell_type": "code",
   "execution_count": 2,
   "id": "bbd13b75",
   "metadata": {
    "execution": {
     "iopub.execute_input": "2024-12-07T20:10:44.452984Z",
     "iopub.status.busy": "2024-12-07T20:10:44.452914Z",
     "iopub.status.idle": "2024-12-07T20:10:44.852873Z",
     "shell.execute_reply": "2024-12-07T20:10:44.852488Z"
    },
    "lines_to_next_cell": 2,
    "papermill": {
     "duration": 0.402113,
     "end_time": "2024-12-07T20:10:44.853656",
     "exception": false,
     "start_time": "2024-12-07T20:10:44.451543",
     "status": "completed"
    },
    "tags": []
   },
   "outputs": [],
   "source": [
    "import pandas as pd\n",
    "import seaborn as sns\n",
    "import matplotlib.pyplot as plt\n",
    "from statsmodels.graphics.gofplots import qqplot\n",
    "from scipy.stats import shapiro\n",
    "from scipy.stats import friedmanchisquare, wilcoxon\n",
    "from itertools import combinations"
   ]
  },
  {
   "cell_type": "markdown",
   "id": "69f793a5",
   "metadata": {
    "papermill": {
     "duration": 0.009043,
     "end_time": "2024-12-07T20:10:44.864147",
     "exception": false,
     "start_time": "2024-12-07T20:10:44.855104",
     "status": "completed"
    },
    "tags": []
   },
   "source": [
    "Import the LensKit metrics for analysis:"
   ]
  },
  {
   "cell_type": "code",
   "execution_count": 3,
   "id": "e543a667",
   "metadata": {
    "execution": {
     "iopub.execute_input": "2024-12-07T20:10:44.867138Z",
     "iopub.status.busy": "2024-12-07T20:10:44.866991Z",
     "iopub.status.idle": "2024-12-07T20:10:45.517014Z",
     "shell.execute_reply": "2024-12-07T20:10:45.516654Z"
    },
    "papermill": {
     "duration": 0.652406,
     "end_time": "2024-12-07T20:10:45.517774",
     "exception": false,
     "start_time": "2024-12-07T20:10:44.865368",
     "status": "completed"
    },
    "tags": []
   },
   "outputs": [],
   "source": [
    "from lenskit.data import ItemListCollection, UserIDKey\n",
    "from lenskit.metrics import RunAnalysis, RMSE, NDCG, RecipRank, RBP"
   ]
  },
  {
   "cell_type": "markdown",
   "id": "5dd989f8",
   "metadata": {
    "papermill": {
     "duration": 0.008836,
     "end_time": "2024-12-07T20:10:45.528044",
     "exception": false,
     "start_time": "2024-12-07T20:10:45.519208",
     "status": "completed"
    },
    "tags": []
   },
   "source": [
    "## Load Data\n",
    "\n",
    "The recommendations are in `runs`, and we will need to reassemble the test data from `test`."
   ]
  },
  {
   "cell_type": "code",
   "execution_count": 4,
   "id": "180f4273",
   "metadata": {
    "execution": {
     "iopub.execute_input": "2024-12-07T20:10:45.533072Z",
     "iopub.status.busy": "2024-12-07T20:10:45.532983Z",
     "iopub.status.idle": "2024-12-07T20:10:45.534540Z",
     "shell.execute_reply": "2024-12-07T20:10:45.534328Z"
    },
    "papermill": {
     "duration": 0.00491,
     "end_time": "2024-12-07T20:10:45.535235",
     "exception": false,
     "start_time": "2024-12-07T20:10:45.530325",
     "status": "completed"
    },
    "tags": [
     "parameters"
    ]
   },
   "outputs": [],
   "source": [
    "dataset = \"ml100k\""
   ]
  },
  {
   "cell_type": "code",
   "execution_count": 5,
   "id": "58959037",
   "metadata": {
    "execution": {
     "iopub.execute_input": "2024-12-07T20:10:45.539325Z",
     "iopub.status.busy": "2024-12-07T20:10:45.539213Z",
     "iopub.status.idle": "2024-12-07T20:10:45.540676Z",
     "shell.execute_reply": "2024-12-07T20:10:45.540463Z"
    },
    "papermill": {
     "duration": 0.003665,
     "end_time": "2024-12-07T20:10:45.541186",
     "exception": false,
     "start_time": "2024-12-07T20:10:45.537521",
     "status": "completed"
    },
    "tags": [
     "injected-parameters"
    ]
   },
   "outputs": [],
   "source": [
    "# Parameters\n",
    "dataset = \"ml100k\"\n"
   ]
  },
  {
   "cell_type": "code",
   "execution_count": 6,
   "id": "db21af25",
   "metadata": {
    "execution": {
     "iopub.execute_input": "2024-12-07T20:10:45.543770Z",
     "iopub.status.busy": "2024-12-07T20:10:45.543693Z",
     "iopub.status.idle": "2024-12-07T20:10:45.545099Z",
     "shell.execute_reply": "2024-12-07T20:10:45.544896Z"
    },
    "papermill": {
     "duration": 0.003247,
     "end_time": "2024-12-07T20:10:45.545546",
     "exception": false,
     "start_time": "2024-12-07T20:10:45.542299",
     "status": "completed"
    },
    "tags": []
   },
   "outputs": [],
   "source": [
    "output_root = Path(\"runs\")"
   ]
  },
  {
   "cell_type": "code",
   "execution_count": 7,
   "id": "c04578cf",
   "metadata": {
    "execution": {
     "iopub.execute_input": "2024-12-07T20:10:45.548204Z",
     "iopub.status.busy": "2024-12-07T20:10:45.548141Z",
     "iopub.status.idle": "2024-12-07T20:10:45.549726Z",
     "shell.execute_reply": "2024-12-07T20:10:45.549514Z"
    },
    "papermill": {
     "duration": 0.003387,
     "end_time": "2024-12-07T20:10:45.550067",
     "exception": false,
     "start_time": "2024-12-07T20:10:45.546680",
     "status": "completed"
    },
    "tags": []
   },
   "outputs": [],
   "source": [
    "dirs = [fld for fld in output_root.glob(f'{dataset}-*')]"
   ]
  },
  {
   "cell_type": "code",
   "execution_count": 8,
   "id": "7d9fdcbb",
   "metadata": {
    "execution": {
     "iopub.execute_input": "2024-12-07T20:10:45.553371Z",
     "iopub.status.busy": "2024-12-07T20:10:45.553301Z",
     "iopub.status.idle": "2024-12-07T20:10:46.653051Z",
     "shell.execute_reply": "2024-12-07T20:10:46.652548Z"
    },
    "papermill": {
     "duration": 1.102581,
     "end_time": "2024-12-07T20:10:46.653841",
     "exception": false,
     "start_time": "2024-12-07T20:10:45.551260",
     "status": "completed"
    },
    "tags": []
   },
   "outputs": [],
   "source": [
    "recs = ItemListCollection(['model', 'user_id'], index=False)\n",
    "for fld in dirs:\n",
    "    for file in fld.glob(\"recs-*\"):\n",
    "        rec = pd.read_parquet(file)\n",
    "        rec = ItemListCollection.from_df(rec, UserIDKey)\n",
    "        recs.add_from(rec, model=fld.name.split(\"-\")[1])"
   ]
  },
  {
   "cell_type": "code",
   "execution_count": 9,
   "id": "39121df4",
   "metadata": {
    "execution": {
     "iopub.execute_input": "2024-12-07T20:10:46.664783Z",
     "iopub.status.busy": "2024-12-07T20:10:46.664694Z",
     "iopub.status.idle": "2024-12-07T20:10:46.668365Z",
     "shell.execute_reply": "2024-12-07T20:10:46.668165Z"
    },
    "papermill": {
     "duration": 0.013536,
     "end_time": "2024-12-07T20:10:46.668817",
     "exception": false,
     "start_time": "2024-12-07T20:10:46.655281",
     "status": "completed"
    },
    "tags": []
   },
   "outputs": [
    {
     "data": {
      "text/plain": [
       "['ALS', 'Bias', 'IALS', 'IIE', 'III', 'Pop', 'UUE']"
      ]
     },
     "execution_count": 9,
     "metadata": {},
     "output_type": "execute_result"
    }
   ],
   "source": [
    "rec_algos = sorted(set(a for (a, _u) in recs.keys()))\n",
    "rec_algos"
   ]
  },
  {
   "cell_type": "code",
   "execution_count": 10,
   "id": "417fbc1b",
   "metadata": {
    "execution": {
     "iopub.execute_input": "2024-12-07T20:10:46.671725Z",
     "iopub.status.busy": "2024-12-07T20:10:46.671662Z",
     "iopub.status.idle": "2024-12-07T20:10:47.263776Z",
     "shell.execute_reply": "2024-12-07T20:10:47.263303Z"
    },
    "papermill": {
     "duration": 0.594547,
     "end_time": "2024-12-07T20:10:47.264554",
     "exception": false,
     "start_time": "2024-12-07T20:10:46.670007",
     "status": "completed"
    },
    "tags": []
   },
   "outputs": [],
   "source": [
    "preds = ItemListCollection(['model', 'user_id'], index=False)\n",
    "for fld in dirs:\n",
    "    for file in fld.glob(\"pred-*\"):\n",
    "        pred = pd.read_parquet(file)\n",
    "        pred = ItemListCollection.from_df(pred, UserIDKey)\n",
    "        preds.add_from(pred, model=fld.name.split(\"-\")[1])"
   ]
  },
  {
   "cell_type": "markdown",
   "id": "41891d60",
   "metadata": {
    "papermill": {
     "duration": 0.008854,
     "end_time": "2024-12-07T20:10:47.274932",
     "exception": false,
     "start_time": "2024-12-07T20:10:47.266078",
     "status": "completed"
    },
    "tags": []
   },
   "source": [
    "We need to load the test data so that we have the ground truths for computing accuracy"
   ]
  },
  {
   "cell_type": "code",
   "execution_count": 11,
   "id": "ea1323a4",
   "metadata": {
    "execution": {
     "iopub.execute_input": "2024-12-07T20:10:47.278002Z",
     "iopub.status.busy": "2024-12-07T20:10:47.277910Z",
     "iopub.status.idle": "2024-12-07T20:10:47.279773Z",
     "shell.execute_reply": "2024-12-07T20:10:47.279461Z"
    },
    "papermill": {
     "duration": 0.004041,
     "end_time": "2024-12-07T20:10:47.280192",
     "exception": false,
     "start_time": "2024-12-07T20:10:47.276151",
     "status": "completed"
    },
    "tags": []
   },
   "outputs": [],
   "source": [
    "split_root = Path(\"data-split\")\n",
    "split_dir = split_root / dataset"
   ]
  },
  {
   "cell_type": "code",
   "execution_count": 12,
   "id": "69f6d555",
   "metadata": {
    "execution": {
     "iopub.execute_input": "2024-12-07T20:10:47.282996Z",
     "iopub.status.busy": "2024-12-07T20:10:47.282932Z",
     "iopub.status.idle": "2024-12-07T20:10:47.412636Z",
     "shell.execute_reply": "2024-12-07T20:10:47.412393Z"
    },
    "papermill": {
     "duration": 0.131992,
     "end_time": "2024-12-07T20:10:47.413436",
     "exception": false,
     "start_time": "2024-12-07T20:10:47.281444",
     "status": "completed"
    },
    "tags": []
   },
   "outputs": [],
   "source": [
    "test = ItemListCollection(UserIDKey)\n",
    "for file in split_dir.glob(\"test-*.parquet\"):\n",
    "    df = pd.read_parquet(file)\n",
    "    test.add_from(ItemListCollection.from_df(df, UserIDKey))"
   ]
  },
  {
   "cell_type": "markdown",
   "id": "927df4a3",
   "metadata": {
    "papermill": {
     "duration": 0.001272,
     "end_time": "2024-12-07T20:10:47.416128",
     "exception": false,
     "start_time": "2024-12-07T20:10:47.414856",
     "status": "completed"
    },
    "tags": []
   },
   "source": [
    "## Top-N Metrics\n",
    "\n",
    "`RunListAnalysis` computes metrics for recommendation results and takes care of\n",
    "matching recommendations and ground truth."
   ]
  },
  {
   "cell_type": "code",
   "execution_count": 13,
   "id": "feb27f37",
   "metadata": {
    "execution": {
     "iopub.execute_input": "2024-12-07T20:10:47.419077Z",
     "iopub.status.busy": "2024-12-07T20:10:47.419003Z",
     "iopub.status.idle": "2024-12-07T20:10:47.876966Z",
     "shell.execute_reply": "2024-12-07T20:10:47.876809Z"
    },
    "papermill": {
     "duration": 0.460268,
     "end_time": "2024-12-07T20:10:47.877622",
     "exception": false,
     "start_time": "2024-12-07T20:10:47.417354",
     "status": "completed"
    },
    "tags": []
   },
   "outputs": [
    {
     "name": "stderr",
     "output_type": "stream",
     "text": [
      "/home/mde48/lenskit/lkpy/lenskit/lenskit/metrics/bulk.py:116: FutureWarning: The previous implementation of stack is deprecated and will be removed in a future version of pandas. See the What's New notes for pandas 2.1.0 for details. Specify future_stack=True to adopt the new implementation and silence this warning.\n",
      "  df = scores.groupby(list(keys)).agg([\"mean\", \"median\", \"std\"]).stack(level=0)\n"
     ]
    },
    {
     "data": {
      "text/html": [
       "<div>\n",
       "<style scoped>\n",
       "    .dataframe tbody tr th:only-of-type {\n",
       "        vertical-align: middle;\n",
       "    }\n",
       "\n",
       "    .dataframe tbody tr th {\n",
       "        vertical-align: top;\n",
       "    }\n",
       "\n",
       "    .dataframe thead th {\n",
       "        text-align: right;\n",
       "    }\n",
       "</style>\n",
       "<table border=\"1\" class=\"dataframe\">\n",
       "  <thead>\n",
       "    <tr style=\"text-align: right;\">\n",
       "      <th></th>\n",
       "      <th></th>\n",
       "      <th>mean</th>\n",
       "      <th>median</th>\n",
       "      <th>std</th>\n",
       "    </tr>\n",
       "    <tr>\n",
       "      <th>model</th>\n",
       "      <th></th>\n",
       "      <th></th>\n",
       "      <th></th>\n",
       "      <th></th>\n",
       "    </tr>\n",
       "  </thead>\n",
       "  <tbody>\n",
       "    <tr>\n",
       "      <th rowspan=\"3\" valign=\"top\">ALS</th>\n",
       "      <th>NDCG</th>\n",
       "      <td>0.076304</td>\n",
       "      <td>4.974829e-02</td>\n",
       "      <td>0.091255</td>\n",
       "    </tr>\n",
       "    <tr>\n",
       "      <th>RBP</th>\n",
       "      <td>0.022969</td>\n",
       "      <td>6.938894e-18</td>\n",
       "      <td>0.091461</td>\n",
       "    </tr>\n",
       "    <tr>\n",
       "      <th>RecipRank</th>\n",
       "      <td>0.075490</td>\n",
       "      <td>1.754386e-02</td>\n",
       "      <td>0.176918</td>\n",
       "    </tr>\n",
       "    <tr>\n",
       "      <th rowspan=\"3\" valign=\"top\">Bias</th>\n",
       "      <th>NDCG</th>\n",
       "      <td>0.077457</td>\n",
       "      <td>5.312220e-02</td>\n",
       "      <td>0.090349</td>\n",
       "    </tr>\n",
       "    <tr>\n",
       "      <th>RBP</th>\n",
       "      <td>0.016942</td>\n",
       "      <td>1.776357e-15</td>\n",
       "      <td>0.073437</td>\n",
       "    </tr>\n",
       "    <tr>\n",
       "      <th>RecipRank</th>\n",
       "      <td>0.068016</td>\n",
       "      <td>2.040816e-02</td>\n",
       "      <td>0.147820</td>\n",
       "    </tr>\n",
       "    <tr>\n",
       "      <th rowspan=\"3\" valign=\"top\">IALS</th>\n",
       "      <th>NDCG</th>\n",
       "      <td>0.290632</td>\n",
       "      <td>2.467713e-01</td>\n",
       "      <td>0.175422</td>\n",
       "    </tr>\n",
       "    <tr>\n",
       "      <th>RBP</th>\n",
       "      <td>0.114411</td>\n",
       "      <td>3.906280e-03</td>\n",
       "      <td>0.198986</td>\n",
       "    </tr>\n",
       "    <tr>\n",
       "      <th>RecipRank</th>\n",
       "      <td>0.257057</td>\n",
       "      <td>1.250000e-01</td>\n",
       "      <td>0.306638</td>\n",
       "    </tr>\n",
       "    <tr>\n",
       "      <th rowspan=\"3\" valign=\"top\">IIE</th>\n",
       "      <th>NDCG</th>\n",
       "      <td>0.057488</td>\n",
       "      <td>4.467052e-02</td>\n",
       "      <td>0.070846</td>\n",
       "    </tr>\n",
       "    <tr>\n",
       "      <th>RBP</th>\n",
       "      <td>0.007631</td>\n",
       "      <td>8.271806e-25</td>\n",
       "      <td>0.049530</td>\n",
       "    </tr>\n",
       "    <tr>\n",
       "      <th>RecipRank</th>\n",
       "      <td>0.039690</td>\n",
       "      <td>1.250000e-02</td>\n",
       "      <td>0.104957</td>\n",
       "    </tr>\n",
       "    <tr>\n",
       "      <th rowspan=\"3\" valign=\"top\">III</th>\n",
       "      <th>NDCG</th>\n",
       "      <td>0.057488</td>\n",
       "      <td>4.467052e-02</td>\n",
       "      <td>0.070846</td>\n",
       "    </tr>\n",
       "    <tr>\n",
       "      <th>RBP</th>\n",
       "      <td>0.007631</td>\n",
       "      <td>8.271806e-25</td>\n",
       "      <td>0.049530</td>\n",
       "    </tr>\n",
       "    <tr>\n",
       "      <th>RecipRank</th>\n",
       "      <td>0.039690</td>\n",
       "      <td>1.250000e-02</td>\n",
       "      <td>0.104957</td>\n",
       "    </tr>\n",
       "    <tr>\n",
       "      <th rowspan=\"3\" valign=\"top\">Pop</th>\n",
       "      <th>NDCG</th>\n",
       "      <td>0.187684</td>\n",
       "      <td>1.560404e-01</td>\n",
       "      <td>0.139955</td>\n",
       "    </tr>\n",
       "    <tr>\n",
       "      <th>RBP</th>\n",
       "      <td>0.081261</td>\n",
       "      <td>4.882812e-04</td>\n",
       "      <td>0.163514</td>\n",
       "    </tr>\n",
       "    <tr>\n",
       "      <th>RecipRank</th>\n",
       "      <td>0.207395</td>\n",
       "      <td>9.090909e-02</td>\n",
       "      <td>0.285323</td>\n",
       "    </tr>\n",
       "    <tr>\n",
       "      <th rowspan=\"3\" valign=\"top\">UUE</th>\n",
       "      <th>NDCG</th>\n",
       "      <td>0.035936</td>\n",
       "      <td>4.283597e-02</td>\n",
       "      <td>0.042351</td>\n",
       "    </tr>\n",
       "    <tr>\n",
       "      <th>RBP</th>\n",
       "      <td>0.000128</td>\n",
       "      <td>5.048710e-29</td>\n",
       "      <td>0.001650</td>\n",
       "    </tr>\n",
       "    <tr>\n",
       "      <th>RecipRank</th>\n",
       "      <td>0.013789</td>\n",
       "      <td>1.063830e-02</td>\n",
       "      <td>0.021431</td>\n",
       "    </tr>\n",
       "  </tbody>\n",
       "</table>\n",
       "</div>"
      ],
      "text/plain": [
       "                     mean        median       std\n",
       "model                                            \n",
       "ALS   NDCG       0.076304  4.974829e-02  0.091255\n",
       "      RBP        0.022969  6.938894e-18  0.091461\n",
       "      RecipRank  0.075490  1.754386e-02  0.176918\n",
       "Bias  NDCG       0.077457  5.312220e-02  0.090349\n",
       "      RBP        0.016942  1.776357e-15  0.073437\n",
       "      RecipRank  0.068016  2.040816e-02  0.147820\n",
       "IALS  NDCG       0.290632  2.467713e-01  0.175422\n",
       "      RBP        0.114411  3.906280e-03  0.198986\n",
       "      RecipRank  0.257057  1.250000e-01  0.306638\n",
       "IIE   NDCG       0.057488  4.467052e-02  0.070846\n",
       "      RBP        0.007631  8.271806e-25  0.049530\n",
       "      RecipRank  0.039690  1.250000e-02  0.104957\n",
       "III   NDCG       0.057488  4.467052e-02  0.070846\n",
       "      RBP        0.007631  8.271806e-25  0.049530\n",
       "      RecipRank  0.039690  1.250000e-02  0.104957\n",
       "Pop   NDCG       0.187684  1.560404e-01  0.139955\n",
       "      RBP        0.081261  4.882812e-04  0.163514\n",
       "      RecipRank  0.207395  9.090909e-02  0.285323\n",
       "UUE   NDCG       0.035936  4.283597e-02  0.042351\n",
       "      RBP        0.000128  5.048710e-29  0.001650\n",
       "      RecipRank  0.013789  1.063830e-02  0.021431"
      ]
     },
     "execution_count": 13,
     "metadata": {},
     "output_type": "execute_result"
    }
   ],
   "source": [
    "ra = RunAnalysis()\n",
    "\n",
    "ra.add_metric(NDCG())\n",
    "ra.add_metric(RecipRank())\n",
    "ra.add_metric(RBP())\n",
    "\n",
    "rec_results = ra.compute(recs, test)\n",
    "rec_results.list_summary('model')"
   ]
  },
  {
   "cell_type": "markdown",
   "id": "b093fbb7",
   "metadata": {
    "papermill": {
     "duration": 0.008798,
     "end_time": "2024-12-07T20:10:47.887979",
     "exception": false,
     "start_time": "2024-12-07T20:10:47.879181",
     "status": "completed"
    },
    "tags": []
   },
   "source": [
    "We can reshape the list metrics and plot them:"
   ]
  },
  {
   "cell_type": "code",
   "execution_count": 14,
   "id": "b6e85bfc",
   "metadata": {
    "execution": {
     "iopub.execute_input": "2024-12-07T20:10:47.891312Z",
     "iopub.status.busy": "2024-12-07T20:10:47.891214Z",
     "iopub.status.idle": "2024-12-07T20:10:48.239208Z",
     "shell.execute_reply": "2024-12-07T20:10:48.239047Z"
    },
    "papermill": {
     "duration": 0.350449,
     "end_time": "2024-12-07T20:10:48.239797",
     "exception": false,
     "start_time": "2024-12-07T20:10:47.889348",
     "status": "completed"
    },
    "tags": []
   },
   "outputs": [
    {
     "data": {
      "image/png": "[encoded data removed]",
      "text/plain": [
       "<Figure size 1511.11x500 with 3 Axes>"
      ]
     },
     "metadata": {},
     "output_type": "display_data"
    }
   ],
   "source": [
    "metrics = rec_results.list_metrics()\n",
    "metrics = metrics.melt(var_name='metric', ignore_index=False).reset_index()\n",
    "sns.catplot(metrics, x='model', y='value', col='metric', kind='bar')\n",
    "plt.show()"
   ]
  },
  {
   "cell_type": "markdown",
   "id": "e75ca5d9",
   "metadata": {
    "papermill": {
     "duration": 0.008827,
     "end_time": "2024-12-07T20:10:48.250302",
     "exception": false,
     "start_time": "2024-12-07T20:10:48.241475",
     "status": "completed"
    },
    "tags": []
   },
   "source": [
    "## Prediction RMSE\n",
    "\n",
    "We will also look at the prediction RMSE."
   ]
  },
  {
   "cell_type": "code",
   "execution_count": 15,
   "id": "e4c5316a",
   "metadata": {
    "execution": {
     "iopub.execute_input": "2024-12-07T20:10:48.253719Z",
     "iopub.status.busy": "2024-12-07T20:10:48.253633Z",
     "iopub.status.idle": "2024-12-07T20:10:49.539547Z",
     "shell.execute_reply": "2024-12-07T20:10:49.539390Z"
    },
    "papermill": {
     "duration": 1.288358,
     "end_time": "2024-12-07T20:10:49.540100",
     "exception": false,
     "start_time": "2024-12-07T20:10:48.251742",
     "status": "completed"
    },
    "tags": []
   },
   "outputs": [
    {
     "name": "stderr",
     "output_type": "stream",
     "text": [
      "/home/mde48/lenskit/lkpy/lenskit/lenskit/metrics/bulk.py:116: FutureWarning: The previous implementation of stack is deprecated and will be removed in a future version of pandas. See the What's New notes for pandas 2.1.0 for details. Specify future_stack=True to adopt the new implementation and silence this warning.\n",
      "  df = scores.groupby(list(keys)).agg([\"mean\", \"median\", \"std\"]).stack(level=0)\n"
     ]
    },
    {
     "data": {
      "text/html": [
       "<div>\n",
       "<style scoped>\n",
       "    .dataframe tbody tr th:only-of-type {\n",
       "        vertical-align: middle;\n",
       "    }\n",
       "\n",
       "    .dataframe tbody tr th {\n",
       "        vertical-align: top;\n",
       "    }\n",
       "\n",
       "    .dataframe thead th {\n",
       "        text-align: right;\n",
       "    }\n",
       "</style>\n",
       "<table border=\"1\" class=\"dataframe\">\n",
       "  <thead>\n",
       "    <tr style=\"text-align: right;\">\n",
       "      <th></th>\n",
       "      <th></th>\n",
       "      <th>mean</th>\n",
       "      <th>median</th>\n",
       "      <th>std</th>\n",
       "    </tr>\n",
       "    <tr>\n",
       "      <th>model</th>\n",
       "      <th></th>\n",
       "      <th></th>\n",
       "      <th></th>\n",
       "      <th></th>\n",
       "    </tr>\n",
       "  </thead>\n",
       "  <tbody>\n",
       "    <tr>\n",
       "      <th>ALS</th>\n",
       "      <th>RMSE</th>\n",
       "      <td>0.883977</td>\n",
       "      <td>0.829830</td>\n",
       "      <td>0.337821</td>\n",
       "    </tr>\n",
       "    <tr>\n",
       "      <th>Bias</th>\n",
       "      <th>RMSE</th>\n",
       "      <td>0.909377</td>\n",
       "      <td>0.867472</td>\n",
       "      <td>0.344338</td>\n",
       "    </tr>\n",
       "    <tr>\n",
       "      <th>IIE</th>\n",
       "      <th>RMSE</th>\n",
       "      <td>0.874066</td>\n",
       "      <td>0.824863</td>\n",
       "      <td>0.343443</td>\n",
       "    </tr>\n",
       "    <tr>\n",
       "      <th>UUE</th>\n",
       "      <th>RMSE</th>\n",
       "      <td>0.895035</td>\n",
       "      <td>0.842309</td>\n",
       "      <td>0.358073</td>\n",
       "    </tr>\n",
       "  </tbody>\n",
       "</table>\n",
       "</div>"
      ],
      "text/plain": [
       "                mean    median       std\n",
       "model                                   \n",
       "ALS   RMSE  0.883977  0.829830  0.337821\n",
       "Bias  RMSE  0.909377  0.867472  0.344338\n",
       "IIE   RMSE  0.874066  0.824863  0.343443\n",
       "UUE   RMSE  0.895035  0.842309  0.358073"
      ]
     },
     "execution_count": 15,
     "metadata": {},
     "output_type": "execute_result"
    }
   ],
   "source": [
    "pa = RunAnalysis()\n",
    "\n",
    "pa.add_metric(RMSE(missing_scores='ignore', missing_truth='ignore'))\n",
    "\n",
    "pred_results = pa.compute(preds, test)\n",
    "pred_results.list_summary('model')"
   ]
  },
  {
   "cell_type": "code",
   "execution_count": 16,
   "id": "571a74fa",
   "metadata": {
    "execution": {
     "iopub.execute_input": "2024-12-07T20:10:49.551515Z",
     "iopub.status.busy": "2024-12-07T20:10:49.551428Z",
     "iopub.status.idle": "2024-12-07T20:10:49.634053Z",
     "shell.execute_reply": "2024-12-07T20:10:49.633781Z"
    },
    "papermill": {
     "duration": 0.092812,
     "end_time": "2024-12-07T20:10:49.634571",
     "exception": false,
     "start_time": "2024-12-07T20:10:49.541759",
     "status": "completed"
    },
    "tags": []
   },
   "outputs": [
    {
     "data": {
      "image/png": "[encoded data removed]",
      "text/plain": [
       "<Figure size 511.111x500 with 1 Axes>"
      ]
     },
     "metadata": {},
     "output_type": "display_data"
    }
   ],
   "source": [
    "sns.catplot(pred_results.list_metrics().reset_index(), x='model', y='RMSE', kind='bar')\n",
    "plt.show()"
   ]
  },
  {
   "cell_type": "markdown",
   "id": "4457c4e5",
   "metadata": {
    "papermill": {
     "duration": 0.001616,
     "end_time": "2024-12-07T20:10:49.637822",
     "exception": false,
     "start_time": "2024-12-07T20:10:49.636206",
     "status": "completed"
    },
    "tags": []
   },
   "source": [
    "## Save Metrics\n",
    "\n",
    "We'll now save the metrics to a file."
   ]
  },
  {
   "cell_type": "code",
   "execution_count": 17,
   "id": "8f075a9a",
   "metadata": {
    "execution": {
     "iopub.execute_input": "2024-12-07T20:10:49.641337Z",
     "iopub.status.busy": "2024-12-07T20:10:49.641239Z",
     "iopub.status.idle": "2024-12-07T20:10:49.647647Z",
     "shell.execute_reply": "2024-12-07T20:10:49.647495Z"
    },
    "papermill": {
     "duration": 0.008611,
     "end_time": "2024-12-07T20:10:49.647971",
     "exception": false,
     "start_time": "2024-12-07T20:10:49.639360",
     "status": "completed"
    },
    "tags": []
   },
   "outputs": [
    {
     "name": "stderr",
     "output_type": "stream",
     "text": [
      "/home/mde48/lenskit/lkpy/lenskit/lenskit/metrics/bulk.py:116: FutureWarning: The previous implementation of stack is deprecated and will be removed in a future version of pandas. See the What's New notes for pandas 2.1.0 for details. Specify future_stack=True to adopt the new implementation and silence this warning.\n",
      "  df = scores.groupby(list(keys)).agg([\"mean\", \"median\", \"std\"]).stack(level=0)\n"
     ]
    }
   ],
   "source": [
    "rec_results.list_summary('model')['mean'].unstack().to_csv(f'eval-metrics.{dataset}.csv')"
   ]
  }
 ],
 "metadata": {
  "jupytext": {
   "formats": "ipynb,md",
   "notebook_metadata_filter": "split_at_heading"
  },
  "kernelspec": {
   "display_name": "Python 3 (ipykernel)",
   "language": "python",
   "name": "python3"
  },
  "language_info": {
   "codemirror_mode": {
    "name": "ipython",
    "version": 3
   },
   "file_extension": ".py",
   "mimetype": "text/x-python",
   "name": "python",
   "nbconvert_exporter": "python",
   "pygments_lexer": "ipython3",
   "version": "3.12.7"
  },
  "papermill": {
   "default_parameters": {},
   "duration": 6.323777,
   "end_time": "2024-12-07T20:10:50.064504",
   "environment_variables": {},
   "exception": null,
   "input_path": "eval-report.ipynb",
   "output_path": "eval-report.ml100k.ipynb",
   "parameters": {
    "dataset": "ml100k"
   },
   "start_time": "2024-12-07T20:10:43.740727",
   "version": "2.6.0"
  },
  "split_at_heading": true
 },
 "nbformat": 4,
 "nbformat_minor": 5
}