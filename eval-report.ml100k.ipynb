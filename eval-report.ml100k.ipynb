{
 "cells": [
  {
   "cell_type": "markdown",
   "id": "5fdd6215",
   "metadata": {
    "papermill": {
     "duration": 0.002687,
     "end_time": "2024-12-07T05:50:22.960591",
     "exception": false,
     "start_time": "2024-12-07T05:50:22.957904",
     "status": "completed"
    },
    "tags": []
   },
   "source": [
    "# Evaluation Analysis for Recommender Output"
   ]
  },
  {
   "cell_type": "markdown",
   "id": "41a320cc",
   "metadata": {
    "papermill": {
     "duration": 0.001056,
     "end_time": "2024-12-07T05:50:22.962947",
     "exception": false,
     "start_time": "2024-12-07T05:50:22.961891",
     "status": "completed"
    },
    "tags": []
   },
   "source": [
    "In this section we will analyze and compare the generated recommendations and predictions from a predefined list of algorithms with the goal of assessing the performance of each algorithm with respect to a metric. In other words, we would rank the algorithms for each metric considered with respect to performance."
   ]
  },
  {
   "cell_type": "markdown",
   "id": "90e036a6",
   "metadata": {
    "papermill": {
     "duration": 0.001035,
     "end_time": "2024-12-07T05:50:22.965127",
     "exception": false,
     "start_time": "2024-12-07T05:50:22.964092",
     "status": "completed"
    },
    "tags": []
   },
   "source": [
    "## Setup"
   ]
  },
  {
   "cell_type": "markdown",
   "id": "33745d6b",
   "metadata": {
    "papermill": {
     "duration": 0.001053,
     "end_time": "2024-12-07T05:50:22.967228",
     "exception": false,
     "start_time": "2024-12-07T05:50:22.966175",
     "status": "completed"
    },
    "tags": []
   },
   "source": [
    "Below are the list of packages required to successfully run the analysis. They are divided into partitions to signify their specific task.<br>\n",
    "We need the pathlib package for working with files and folders"
   ]
  },
  {
   "cell_type": "code",
   "execution_count": 1,
   "id": "9123d6b8",
   "metadata": {
    "execution": {
     "iopub.execute_input": "2024-12-07T05:50:22.969816Z",
     "iopub.status.busy": "2024-12-07T05:50:22.969710Z",
     "iopub.status.idle": "2024-12-07T05:50:22.971481Z",
     "shell.execute_reply": "2024-12-07T05:50:22.971286Z"
    },
    "papermill": {
     "duration": 0.003587,
     "end_time": "2024-12-07T05:50:22.971853",
     "exception": false,
     "start_time": "2024-12-07T05:50:22.968266",
     "status": "completed"
    },
    "tags": []
   },
   "outputs": [],
   "source": [
    "from pathlib import Path"
   ]
  },
  {
   "cell_type": "markdown",
   "id": "2df0165c",
   "metadata": {
    "papermill": {
     "duration": 0.001043,
     "end_time": "2024-12-07T05:50:22.974030",
     "exception": false,
     "start_time": "2024-12-07T05:50:22.972987",
     "status": "completed"
    },
    "tags": []
   },
   "source": [
    "We would use the pandas for analyzing and manipulating our data while seaborn and matplotlib are used for data visualization. statsmodels.graphics.gofplots and scipy.stats.shapiro are used for normality check. Scipy.stats.friedmanchisquare is a non-parametric test used to determine the statistical significance in metric results and the wilcoxon test is used for pairwise comparison of sample data."
   ]
  },
  {
   "cell_type": "code",
   "execution_count": 2,
   "id": "0e6a2561",
   "metadata": {
    "execution": {
     "iopub.execute_input": "2024-12-07T05:50:22.976616Z",
     "iopub.status.busy": "2024-12-07T05:50:22.976417Z",
     "iopub.status.idle": "2024-12-07T05:50:23.385769Z",
     "shell.execute_reply": "2024-12-07T05:50:23.385485Z"
    },
    "lines_to_next_cell": 2,
    "papermill": {
     "duration": 0.411396,
     "end_time": "2024-12-07T05:50:23.386468",
     "exception": false,
     "start_time": "2024-12-07T05:50:22.975072",
     "status": "completed"
    },
    "tags": []
   },
   "outputs": [],
   "source": [
    "import pandas as pd\n",
    "import seaborn as sns\n",
    "import matplotlib.pyplot as plt\n",
    "from statsmodels.graphics.gofplots import qqplot\n",
    "from scipy.stats import shapiro\n",
    "from scipy.stats import friedmanchisquare, wilcoxon\n",
    "from itertools import combinations"
   ]
  },
  {
   "cell_type": "markdown",
   "id": "c0b8e240",
   "metadata": {
    "papermill": {
     "duration": 0.008944,
     "end_time": "2024-12-07T05:50:23.396734",
     "exception": false,
     "start_time": "2024-12-07T05:50:23.387790",
     "status": "completed"
    },
    "tags": []
   },
   "source": [
    "Import the LensKit metrics for analysis:"
   ]
  },
  {
   "cell_type": "code",
   "execution_count": 3,
   "id": "ad2284e5",
   "metadata": {
    "execution": {
     "iopub.execute_input": "2024-12-07T05:50:23.399729Z",
     "iopub.status.busy": "2024-12-07T05:50:23.399513Z",
     "iopub.status.idle": "2024-12-07T05:50:24.068987Z",
     "shell.execute_reply": "2024-12-07T05:50:24.068809Z"
    },
    "papermill": {
     "duration": 0.671761,
     "end_time": "2024-12-07T05:50:24.069684",
     "exception": false,
     "start_time": "2024-12-07T05:50:23.397923",
     "status": "completed"
    },
    "tags": []
   },
   "outputs": [],
   "source": [
    "from lenskit.data import ItemListCollection, UserIDKey\n",
    "from lenskit.metrics import RunAnalysis, RMSE, NDCG, RecipRank, RBP"
   ]
  },
  {
   "cell_type": "markdown",
   "id": "12975d2a",
   "metadata": {
    "papermill": {
     "duration": 0.008761,
     "end_time": "2024-12-07T05:50:24.079812",
     "exception": false,
     "start_time": "2024-12-07T05:50:24.071051",
     "status": "completed"
    },
    "tags": []
   },
   "source": [
    "## Load Data\n",
    "\n",
    "The recommendations are in `runs`, and we will need to reassemble the test data from `test`."
   ]
  },
  {
   "cell_type": "code",
   "execution_count": 4,
   "id": "88d3a801",
   "metadata": {
    "execution": {
     "iopub.execute_input": "2024-12-07T05:50:24.082811Z",
     "iopub.status.busy": "2024-12-07T05:50:24.082419Z",
     "iopub.status.idle": "2024-12-07T05:50:24.084004Z",
     "shell.execute_reply": "2024-12-07T05:50:24.083862Z"
    },
    "papermill": {
     "duration": 0.003284,
     "end_time": "2024-12-07T05:50:24.084298",
     "exception": false,
     "start_time": "2024-12-07T05:50:24.081014",
     "status": "completed"
    },
    "tags": [
     "parameters"
    ]
   },
   "outputs": [],
   "source": [
    "dataset = \"ml100k\""
   ]
  },
  {
   "cell_type": "code",
   "execution_count": 5,
   "id": "640697d7",
   "metadata": {
    "execution": {
     "iopub.execute_input": "2024-12-07T05:50:24.086869Z",
     "iopub.status.busy": "2024-12-07T05:50:24.086804Z",
     "iopub.status.idle": "2024-12-07T05:50:24.088004Z",
     "shell.execute_reply": "2024-12-07T05:50:24.087866Z"
    },
    "papermill": {
     "duration": 0.002966,
     "end_time": "2024-12-07T05:50:24.088391",
     "exception": false,
     "start_time": "2024-12-07T05:50:24.085425",
     "status": "completed"
    },
    "tags": [
     "injected-parameters"
    ]
   },
   "outputs": [],
   "source": [
    "# Parameters\n",
    "dataset = \"ml100k\"\n"
   ]
  },
  {
   "cell_type": "code",
   "execution_count": 6,
   "id": "2683e07d",
   "metadata": {
    "execution": {
     "iopub.execute_input": "2024-12-07T05:50:24.090848Z",
     "iopub.status.busy": "2024-12-07T05:50:24.090782Z",
     "iopub.status.idle": "2024-12-07T05:50:24.091984Z",
     "shell.execute_reply": "2024-12-07T05:50:24.091841Z"
    },
    "papermill": {
     "duration": 0.002721,
     "end_time": "2024-12-07T05:50:24.092245",
     "exception": false,
     "start_time": "2024-12-07T05:50:24.089524",
     "status": "completed"
    },
    "tags": []
   },
   "outputs": [],
   "source": [
    "output_root = Path(\"runs\")"
   ]
  },
  {
   "cell_type": "code",
   "execution_count": 7,
   "id": "48c36d77",
   "metadata": {
    "execution": {
     "iopub.execute_input": "2024-12-07T05:50:24.094734Z",
     "iopub.status.busy": "2024-12-07T05:50:24.094670Z",
     "iopub.status.idle": "2024-12-07T05:50:24.096045Z",
     "shell.execute_reply": "2024-12-07T05:50:24.095888Z"
    },
    "papermill": {
     "duration": 0.003114,
     "end_time": "2024-12-07T05:50:24.096518",
     "exception": false,
     "start_time": "2024-12-07T05:50:24.093404",
     "status": "completed"
    },
    "tags": []
   },
   "outputs": [],
   "source": [
    "dirs = [fld for fld in output_root.glob(f'{dataset}-*')]"
   ]
  },
  {
   "cell_type": "code",
   "execution_count": 8,
   "id": "786015de",
   "metadata": {
    "execution": {
     "iopub.execute_input": "2024-12-07T05:50:24.101252Z",
     "iopub.status.busy": "2024-12-07T05:50:24.101181Z",
     "iopub.status.idle": "2024-12-07T05:50:25.242167Z",
     "shell.execute_reply": "2024-12-07T05:50:25.241831Z"
    },
    "papermill": {
     "duration": 1.144249,
     "end_time": "2024-12-07T05:50:25.243042",
     "exception": false,
     "start_time": "2024-12-07T05:50:24.098793",
     "status": "completed"
    },
    "tags": []
   },
   "outputs": [],
   "source": [
    "recs = ItemListCollection(['algorithm', 'user_id'], index=False)\n",
    "for fld in dirs:\n",
    "    for file in fld.glob(\"recs-*\"):\n",
    "        rec = pd.read_parquet(file)\n",
    "        rec = ItemListCollection.from_df(rec, UserIDKey)\n",
    "        recs.add_from(rec, algorithm=fld.name.split(\"-\")[1])"
   ]
  },
  {
   "cell_type": "code",
   "execution_count": 9,
   "id": "3172ad10",
   "metadata": {
    "execution": {
     "iopub.execute_input": "2024-12-07T05:50:25.248430Z",
     "iopub.status.busy": "2024-12-07T05:50:25.248337Z",
     "iopub.status.idle": "2024-12-07T05:50:25.251823Z",
     "shell.execute_reply": "2024-12-07T05:50:25.251666Z"
    },
    "papermill": {
     "duration": 0.006929,
     "end_time": "2024-12-07T05:50:25.252573",
     "exception": false,
     "start_time": "2024-12-07T05:50:25.245644",
     "status": "completed"
    },
    "tags": []
   },
   "outputs": [
    {
     "data": {
      "text/plain": [
       "['ALS', 'Bias', 'IALS', 'IIE', 'III', 'Pop', 'UUE']"
      ]
     },
     "execution_count": 9,
     "metadata": {},
     "output_type": "execute_result"
    }
   ],
   "source": [
    "rec_algos = sorted(set(a for (a, _u) in recs.keys()))\n",
    "rec_algos"
   ]
  },
  {
   "cell_type": "code",
   "execution_count": 10,
   "id": "87fcc1f6",
   "metadata": {
    "execution": {
     "iopub.execute_input": "2024-12-07T05:50:25.257887Z",
     "iopub.status.busy": "2024-12-07T05:50:25.257805Z",
     "iopub.status.idle": "2024-12-07T05:50:25.863730Z",
     "shell.execute_reply": "2024-12-07T05:50:25.863449Z"
    },
    "papermill": {
     "duration": 0.609532,
     "end_time": "2024-12-07T05:50:25.864620",
     "exception": false,
     "start_time": "2024-12-07T05:50:25.255088",
     "status": "completed"
    },
    "tags": []
   },
   "outputs": [],
   "source": [
    "preds = ItemListCollection(['algorithm', 'user_id'], index=False)\n",
    "for fld in dirs:\n",
    "    for file in fld.glob(\"pred-*\"):\n",
    "        pred = pd.read_parquet(file)\n",
    "        pred = ItemListCollection.from_df(pred, UserIDKey)\n",
    "        preds.add_from(pred, algorithm=fld.name.split(\"-\")[1])"
   ]
  },
  {
   "cell_type": "markdown",
   "id": "b29697c2",
   "metadata": {
    "papermill": {
     "duration": 0.008843,
     "end_time": "2024-12-07T05:50:25.876189",
     "exception": false,
     "start_time": "2024-12-07T05:50:25.867346",
     "status": "completed"
    },
    "tags": []
   },
   "source": [
    "We need to load the test data so that we have the ground truths for computing accuracy"
   ]
  },
  {
   "cell_type": "code",
   "execution_count": 11,
   "id": "79f09915",
   "metadata": {
    "execution": {
     "iopub.execute_input": "2024-12-07T05:50:25.880968Z",
     "iopub.status.busy": "2024-12-07T05:50:25.880868Z",
     "iopub.status.idle": "2024-12-07T05:50:25.882544Z",
     "shell.execute_reply": "2024-12-07T05:50:25.882390Z"
    },
    "papermill": {
     "duration": 0.004325,
     "end_time": "2024-12-07T05:50:25.883013",
     "exception": false,
     "start_time": "2024-12-07T05:50:25.878688",
     "status": "completed"
    },
    "tags": []
   },
   "outputs": [],
   "source": [
    "split_root = Path(\"data-split\")\n",
    "split_dir = split_root / dataset"
   ]
  },
  {
   "cell_type": "code",
   "execution_count": 12,
   "id": "69e0cf06",
   "metadata": {
    "execution": {
     "iopub.execute_input": "2024-12-07T05:50:25.885749Z",
     "iopub.status.busy": "2024-12-07T05:50:25.885684Z",
     "iopub.status.idle": "2024-12-07T05:50:26.019685Z",
     "shell.execute_reply": "2024-12-07T05:50:26.019347Z"
    },
    "papermill": {
     "duration": 0.136248,
     "end_time": "2024-12-07T05:50:26.020487",
     "exception": false,
     "start_time": "2024-12-07T05:50:25.884239",
     "status": "completed"
    },
    "tags": []
   },
   "outputs": [],
   "source": [
    "test = ItemListCollection(UserIDKey)\n",
    "for file in split_dir.glob(\"test-*.parquet\"):\n",
    "    df = pd.read_parquet(file)\n",
    "    test.add_from(ItemListCollection.from_df(df, UserIDKey))"
   ]
  },
  {
   "cell_type": "markdown",
   "id": "44840f3c",
   "metadata": {
    "papermill": {
     "duration": 0.008636,
     "end_time": "2024-12-07T05:50:26.030630",
     "exception": false,
     "start_time": "2024-12-07T05:50:26.021994",
     "status": "completed"
    },
    "tags": []
   },
   "source": [
    "## Top-N Metrics\n",
    "\n",
    "`RunListAnalysis` computes metrics for recommendation results and takes care of\n",
    "matching recommendations and ground truth."
   ]
  },
  {
   "cell_type": "code",
   "execution_count": 13,
   "id": "a2f0ab74",
   "metadata": {
    "execution": {
     "iopub.execute_input": "2024-12-07T05:50:26.033685Z",
     "iopub.status.busy": "2024-12-07T05:50:26.033578Z",
     "iopub.status.idle": "2024-12-07T05:50:26.526119Z",
     "shell.execute_reply": "2024-12-07T05:50:26.525861Z"
    },
    "papermill": {
     "duration": 0.49478,
     "end_time": "2024-12-07T05:50:26.526690",
     "exception": false,
     "start_time": "2024-12-07T05:50:26.031910",
     "status": "completed"
    },
    "tags": []
   },
   "outputs": [
    {
     "data": {
      "text/html": [
       "<div>\n",
       "<style scoped>\n",
       "    .dataframe tbody tr th:only-of-type {\n",
       "        vertical-align: middle;\n",
       "    }\n",
       "\n",
       "    .dataframe tbody tr th {\n",
       "        vertical-align: top;\n",
       "    }\n",
       "\n",
       "    .dataframe thead th {\n",
       "        text-align: right;\n",
       "    }\n",
       "</style>\n",
       "<table border=\"1\" class=\"dataframe\">\n",
       "  <thead>\n",
       "    <tr style=\"text-align: right;\">\n",
       "      <th></th>\n",
       "      <th>mean</th>\n",
       "      <th>median</th>\n",
       "      <th>std</th>\n",
       "    </tr>\n",
       "    <tr>\n",
       "      <th>metric</th>\n",
       "      <th></th>\n",
       "      <th></th>\n",
       "      <th></th>\n",
       "    </tr>\n",
       "  </thead>\n",
       "  <tbody>\n",
       "    <tr>\n",
       "      <th>NDCG</th>\n",
       "      <td>0.053234</td>\n",
       "      <td>4.493845e-02</td>\n",
       "      <td>0.065193</td>\n",
       "    </tr>\n",
       "    <tr>\n",
       "      <th>RecipRank</th>\n",
       "      <td>0.042758</td>\n",
       "      <td>1.298701e-02</td>\n",
       "      <td>0.098754</td>\n",
       "    </tr>\n",
       "    <tr>\n",
       "      <th>RBP</th>\n",
       "      <td>0.007809</td>\n",
       "      <td>6.617445e-24</td>\n",
       "      <td>0.045109</td>\n",
       "    </tr>\n",
       "  </tbody>\n",
       "</table>\n",
       "</div>"
      ],
      "text/plain": [
       "               mean        median       std\n",
       "metric                                     \n",
       "NDCG       0.053234  4.493845e-02  0.065193\n",
       "RecipRank  0.042758  1.298701e-02  0.098754\n",
       "RBP        0.007809  6.617445e-24  0.045109"
      ]
     },
     "execution_count": 13,
     "metadata": {},
     "output_type": "execute_result"
    }
   ],
   "source": [
    "ra = RunAnalysis()\n",
    "\n",
    "ra.add_metric(NDCG())\n",
    "ra.add_metric(RecipRank())\n",
    "ra.add_metric(RBP())\n",
    "\n",
    "results = ra.compute(recs, test)\n",
    "results.list_summary()"
   ]
  },
  {
   "cell_type": "markdown",
   "id": "64bf0a3c",
   "metadata": {
    "papermill": {
     "duration": 0.001314,
     "end_time": "2024-12-07T05:50:26.529559",
     "exception": false,
     "start_time": "2024-12-07T05:50:26.528245",
     "status": "completed"
    },
    "tags": []
   },
   "source": [
    "We can reshape the list metrics and plot them:"
   ]
  },
  {
   "cell_type": "code",
   "execution_count": 14,
   "id": "e2c83aa2",
   "metadata": {
    "execution": {
     "iopub.execute_input": "2024-12-07T05:50:26.532646Z",
     "iopub.status.busy": "2024-12-07T05:50:26.532563Z",
     "iopub.status.idle": "2024-12-07T05:50:26.908937Z",
     "shell.execute_reply": "2024-12-07T05:50:26.908667Z"
    },
    "papermill": {
     "duration": 0.378589,
     "end_time": "2024-12-07T05:50:26.909448",
     "exception": false,
     "start_time": "2024-12-07T05:50:26.530859",
     "status": "completed"
    },
    "tags": []
   },
   "outputs": [
    {
     "data": {
      "image/png": "[encoded data removed]",
      "text/plain": [
       "<Figure size 1511.11x500 with 3 Axes>"
      ]
     },
     "metadata": {},
     "output_type": "display_data"
    }
   ],
   "source": [
    "metrics = results.list_metrics()\n",
    "metrics = metrics.melt(var_name='metric', ignore_index=False).reset_index()\n",
    "sns.catplot(metrics, x='algorithm', y='value', col='metric', kind='bar')\n",
    "plt.show()"
   ]
  },
  {
   "cell_type": "markdown",
   "id": "4f27389c",
   "metadata": {
    "papermill": {
     "duration": 0.001393,
     "end_time": "2024-12-07T05:50:26.912471",
     "exception": false,
     "start_time": "2024-12-07T05:50:26.911078",
     "status": "completed"
    },
    "tags": []
   },
   "source": [
    "## Prediction RMSE\n",
    "\n",
    "We will also look at the prediction RMSE."
   ]
  },
  {
   "cell_type": "code",
   "execution_count": 15,
   "id": "8392b16f",
   "metadata": {
    "execution": {
     "iopub.execute_input": "2024-12-07T05:50:26.915670Z",
     "iopub.status.busy": "2024-12-07T05:50:26.915580Z",
     "iopub.status.idle": "2024-12-07T05:50:28.781714Z",
     "shell.execute_reply": "2024-12-07T05:50:28.781521Z"
    },
    "papermill": {
     "duration": 1.868371,
     "end_time": "2024-12-07T05:50:28.782192",
     "exception": false,
     "start_time": "2024-12-07T05:50:26.913821",
     "status": "completed"
    },
    "tags": []
   },
   "outputs": [
    {
     "data": {
      "text/html": [
       "<div>\n",
       "<style scoped>\n",
       "    .dataframe tbody tr th:only-of-type {\n",
       "        vertical-align: middle;\n",
       "    }\n",
       "\n",
       "    .dataframe tbody tr th {\n",
       "        vertical-align: top;\n",
       "    }\n",
       "\n",
       "    .dataframe thead th {\n",
       "        text-align: right;\n",
       "    }\n",
       "</style>\n",
       "<table border=\"1\" class=\"dataframe\">\n",
       "  <thead>\n",
       "    <tr style=\"text-align: right;\">\n",
       "      <th></th>\n",
       "      <th>mean</th>\n",
       "      <th>median</th>\n",
       "      <th>std</th>\n",
       "    </tr>\n",
       "    <tr>\n",
       "      <th>metric</th>\n",
       "      <th></th>\n",
       "      <th></th>\n",
       "      <th></th>\n",
       "    </tr>\n",
       "  </thead>\n",
       "  <tbody>\n",
       "    <tr>\n",
       "      <th>RMSE</th>\n",
       "      <td>1.140178</td>\n",
       "      <td>1.061662</td>\n",
       "      <td>0.640912</td>\n",
       "    </tr>\n",
       "  </tbody>\n",
       "</table>\n",
       "</div>"
      ],
      "text/plain": [
       "            mean    median       std\n",
       "metric                              \n",
       "RMSE    1.140178  1.061662  0.640912"
      ]
     },
     "execution_count": 15,
     "metadata": {},
     "output_type": "execute_result"
    }
   ],
   "source": [
    "ra = RunAnalysis()\n",
    "\n",
    "ra.add_metric(RMSE(missing_scores='ignore', missing_truth='ignore'))\n",
    "\n",
    "results = ra.compute(preds, test)\n",
    "results.list_summary()"
   ]
  },
  {
   "cell_type": "code",
   "execution_count": 16,
   "id": "13cb068d",
   "metadata": {
    "execution": {
     "iopub.execute_input": "2024-12-07T05:50:28.793403Z",
     "iopub.status.busy": "2024-12-07T05:50:28.793319Z",
     "iopub.status.idle": "2024-12-07T05:50:28.873580Z",
     "shell.execute_reply": "2024-12-07T05:50:28.873374Z"
    },
    "papermill": {
     "duration": 0.09019,
     "end_time": "2024-12-07T05:50:28.874077",
     "exception": false,
     "start_time": "2024-12-07T05:50:28.783887",
     "status": "completed"
    },
    "tags": []
   },
   "outputs": [
    {
     "data": {
      "image/png": "[encoded data removed]",
      "text/plain": [
       "<Figure size 511.111x500 with 1 Axes>"
      ]
     },
     "metadata": {},
     "output_type": "display_data"
    }
   ],
   "source": [
    "sns.catplot(results.list_metrics().reset_index(), x='algorithm', y='RMSE', kind='bar')\n",
    "plt.show()"
   ]
  },
  {
   "cell_type": "code",
   "execution_count": null,
   "id": "660590f9",
   "metadata": {
    "papermill": {
     "duration": 0.001472,
     "end_time": "2024-12-07T05:50:28.877167",
     "exception": false,
     "start_time": "2024-12-07T05:50:28.875695",
     "status": "completed"
    },
    "tags": []
   },
   "outputs": [],
   "source": []
  }
 ],
 "metadata": {
  "jupytext": {
   "formats": "ipynb,md",
   "notebook_metadata_filter": "split_at_heading"
  },
  "kernelspec": {
   "display_name": "Python 3 (ipykernel)",
   "language": "python",
   "name": "python3"
  },
  "language_info": {
   "codemirror_mode": {
    "name": "ipython",
    "version": 3
   },
   "file_extension": ".py",
   "mimetype": "text/x-python",
   "name": "python",
   "nbconvert_exporter": "python",
   "pygments_lexer": "ipython3",
   "version": "3.12.7"
  },
  "papermill": {
   "default_parameters": {},
   "duration": 7.01625,
   "end_time": "2024-12-07T05:50:29.295056",
   "environment_variables": {},
   "exception": null,
   "input_path": "eval-report.ipynb",
   "output_path": "eval-report.ml100k.ipynb",
   "parameters": {
    "dataset": "ml100k"
   },
   "start_time": "2024-12-07T05:50:22.278806",
   "version": "2.6.0"
  },
  "split_at_heading": true
 },
 "nbformat": 4,
 "nbformat_minor": 5
}