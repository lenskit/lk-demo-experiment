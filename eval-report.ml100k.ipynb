{
 "cells": [
  {
   "cell_type": "markdown",
   "id": "93740f9f",
   "metadata": {
    "papermill": {
     "duration": 0.010557,
     "end_time": "2024-12-18T00:00:26.883820",
     "exception": false,
     "start_time": "2024-12-18T00:00:26.873263",
     "status": "completed"
    },
    "tags": []
   },
   "source": [
    "# Evaluation Analysis for Recommender Output"
   ]
  },
  {
   "cell_type": "markdown",
   "id": "678b1137",
   "metadata": {
    "papermill": {
     "duration": 0.001087,
     "end_time": "2024-12-18T00:00:26.886205",
     "exception": false,
     "start_time": "2024-12-18T00:00:26.885118",
     "status": "completed"
    },
    "tags": []
   },
   "source": [
    "In this section we will analyze and compare the generated recommendations and predictions from a predefined list of algorithms with the goal of assessing the performance of each algorithm with respect to a metric. In other words, we would rank the algorithms for each metric considered with respect to performance."
   ]
  },
  {
   "cell_type": "markdown",
   "id": "e1501de5",
   "metadata": {
    "papermill": {
     "duration": 0.001055,
     "end_time": "2024-12-18T00:00:26.888406",
     "exception": false,
     "start_time": "2024-12-18T00:00:26.887351",
     "status": "completed"
    },
    "tags": []
   },
   "source": [
    "## Setup"
   ]
  },
  {
   "cell_type": "markdown",
   "id": "78e0ea5a",
   "metadata": {
    "papermill": {
     "duration": 0.001057,
     "end_time": "2024-12-18T00:00:26.890548",
     "exception": false,
     "start_time": "2024-12-18T00:00:26.889491",
     "status": "completed"
    },
    "tags": []
   },
   "source": [
    "Below are the list of packages required to successfully run the analysis. They are divided into partitions to signify their specific task.<br>\n",
    "We need the pathlib package for working with files and folders"
   ]
  },
  {
   "cell_type": "code",
   "execution_count": 1,
   "id": "aa9b9024",
   "metadata": {
    "execution": {
     "iopub.execute_input": "2024-12-18T00:00:26.893624Z",
     "iopub.status.busy": "2024-12-18T00:00:26.893275Z",
     "iopub.status.idle": "2024-12-18T00:00:26.895787Z",
     "shell.execute_reply": "2024-12-18T00:00:26.895315Z"
    },
    "papermill": {
     "duration": 0.004713,
     "end_time": "2024-12-18T00:00:26.896335",
     "exception": false,
     "start_time": "2024-12-18T00:00:26.891622",
     "status": "completed"
    },
    "tags": []
   },
   "outputs": [],
   "source": [
    "from pathlib import Path\n",
    "import json"
   ]
  },
  {
   "cell_type": "markdown",
   "id": "4a21d11d",
   "metadata": {
    "papermill": {
     "duration": 0.001093,
     "end_time": "2024-12-18T00:00:26.898626",
     "exception": false,
     "start_time": "2024-12-18T00:00:26.897533",
     "status": "completed"
    },
    "tags": []
   },
   "source": [
    "We would use the pandas for analyzing and manipulating our data while seaborn and matplotlib are used for data visualization. statsmodels.graphics.gofplots and scipy.stats.shapiro are used for normality check. Scipy.stats.friedmanchisquare is a non-parametric test used to determine the statistical significance in metric results and the wilcoxon test is used for pairwise comparison of sample data."
   ]
  },
  {
   "cell_type": "code",
   "execution_count": 2,
   "id": "a72bade7",
   "metadata": {
    "execution": {
     "iopub.execute_input": "2024-12-18T00:00:26.901163Z",
     "iopub.status.busy": "2024-12-18T00:00:26.901060Z",
     "iopub.status.idle": "2024-12-18T00:00:28.011033Z",
     "shell.execute_reply": "2024-12-18T00:00:28.010754Z"
    },
    "lines_to_next_cell": 2,
    "papermill": {
     "duration": 1.111942,
     "end_time": "2024-12-18T00:00:28.011661",
     "exception": false,
     "start_time": "2024-12-18T00:00:26.899719",
     "status": "completed"
    },
    "tags": []
   },
   "outputs": [],
   "source": [
    "import pandas as pd\n",
    "import seaborn as sns\n",
    "import matplotlib.pyplot as plt\n",
    "from statsmodels.graphics.gofplots import qqplot\n",
    "from scipy.stats import shapiro\n",
    "from scipy.stats import friedmanchisquare, wilcoxon\n",
    "from itertools import combinations"
   ]
  },
  {
   "cell_type": "markdown",
   "id": "e3a36d16",
   "metadata": {
    "papermill": {
     "duration": 0.001158,
     "end_time": "2024-12-18T00:00:28.014177",
     "exception": false,
     "start_time": "2024-12-18T00:00:28.013019",
     "status": "completed"
    },
    "tags": []
   },
   "source": [
    "Import the LensKit metrics for analysis:"
   ]
  },
  {
   "cell_type": "code",
   "execution_count": 3,
   "id": "14187914",
   "metadata": {
    "execution": {
     "iopub.execute_input": "2024-12-18T00:00:28.016928Z",
     "iopub.status.busy": "2024-12-18T00:00:28.016771Z",
     "iopub.status.idle": "2024-12-18T00:00:28.652688Z",
     "shell.execute_reply": "2024-12-18T00:00:28.652360Z"
    },
    "papermill": {
     "duration": 0.638072,
     "end_time": "2024-12-18T00:00:28.653429",
     "exception": false,
     "start_time": "2024-12-18T00:00:28.015357",
     "status": "completed"
    },
    "tags": []
   },
   "outputs": [],
   "source": [
    "from lenskit.data import ItemListCollection, UserIDKey\n",
    "from lenskit.metrics import RunAnalysis, RMSE, NDCG, RecipRank, RBP"
   ]
  },
  {
   "cell_type": "markdown",
   "id": "8a2f1201",
   "metadata": {
    "papermill": {
     "duration": 0.008616,
     "end_time": "2024-12-18T00:00:28.664457",
     "exception": false,
     "start_time": "2024-12-18T00:00:28.655841",
     "status": "completed"
    },
    "tags": []
   },
   "source": [
    "## Load Data\n",
    "\n",
    "The recommendations are in `runs`, and we will need to reassemble the test data from `test`."
   ]
  },
  {
   "cell_type": "code",
   "execution_count": 4,
   "id": "322018fa",
   "metadata": {
    "execution": {
     "iopub.execute_input": "2024-12-18T00:00:28.667213Z",
     "iopub.status.busy": "2024-12-18T00:00:28.667096Z",
     "iopub.status.idle": "2024-12-18T00:00:28.668426Z",
     "shell.execute_reply": "2024-12-18T00:00:28.668272Z"
    },
    "papermill": {
     "duration": 0.00336,
     "end_time": "2024-12-18T00:00:28.668963",
     "exception": false,
     "start_time": "2024-12-18T00:00:28.665603",
     "status": "completed"
    },
    "tags": [
     "parameters"
    ]
   },
   "outputs": [],
   "source": [
    "dataset = \"ml100k\""
   ]
  },
  {
   "cell_type": "code",
   "execution_count": 5,
   "id": "11b76a0f",
   "metadata": {
    "execution": {
     "iopub.execute_input": "2024-12-18T00:00:28.673892Z",
     "iopub.status.busy": "2024-12-18T00:00:28.673788Z",
     "iopub.status.idle": "2024-12-18T00:00:28.674945Z",
     "shell.execute_reply": "2024-12-18T00:00:28.674808Z"
    },
    "papermill": {
     "duration": 0.004215,
     "end_time": "2024-12-18T00:00:28.675428",
     "exception": false,
     "start_time": "2024-12-18T00:00:28.671213",
     "status": "completed"
    },
    "tags": [
     "injected-parameters"
    ]
   },
   "outputs": [],
   "source": [
    "# Parameters\n",
    "dataset = \"ml100k\"\n"
   ]
  },
  {
   "cell_type": "code",
   "execution_count": 6,
   "id": "bcc16ac2",
   "metadata": {
    "execution": {
     "iopub.execute_input": "2024-12-18T00:00:28.680188Z",
     "iopub.status.busy": "2024-12-18T00:00:28.680092Z",
     "iopub.status.idle": "2024-12-18T00:00:28.681253Z",
     "shell.execute_reply": "2024-12-18T00:00:28.681114Z"
    },
    "papermill": {
     "duration": 0.004025,
     "end_time": "2024-12-18T00:00:28.681687",
     "exception": false,
     "start_time": "2024-12-18T00:00:28.677662",
     "status": "completed"
    },
    "tags": []
   },
   "outputs": [],
   "source": [
    "output_root = Path(\"runs\")"
   ]
  },
  {
   "cell_type": "code",
   "execution_count": 7,
   "id": "ceb1ee76",
   "metadata": {
    "execution": {
     "iopub.execute_input": "2024-12-18T00:00:28.684862Z",
     "iopub.status.busy": "2024-12-18T00:00:28.684736Z",
     "iopub.status.idle": "2024-12-18T00:00:28.686160Z",
     "shell.execute_reply": "2024-12-18T00:00:28.686014Z"
    },
    "papermill": {
     "duration": 0.003152,
     "end_time": "2024-12-18T00:00:28.686459",
     "exception": false,
     "start_time": "2024-12-18T00:00:28.683307",
     "status": "completed"
    },
    "tags": []
   },
   "outputs": [],
   "source": [
    "dirs = [fld for fld in output_root.glob(f'{dataset}-*')]"
   ]
  },
  {
   "cell_type": "code",
   "execution_count": 8,
   "id": "ba136ca4",
   "metadata": {
    "execution": {
     "iopub.execute_input": "2024-12-18T00:00:28.689212Z",
     "iopub.status.busy": "2024-12-18T00:00:28.689103Z",
     "iopub.status.idle": "2024-12-18T00:00:28.787153Z",
     "shell.execute_reply": "2024-12-18T00:00:28.786755Z"
    },
    "papermill": {
     "duration": 0.100242,
     "end_time": "2024-12-18T00:00:28.787934",
     "exception": false,
     "start_time": "2024-12-18T00:00:28.687692",
     "status": "completed"
    },
    "tags": []
   },
   "outputs": [],
   "source": [
    "recs = ItemListCollection(['model', 'user_id'], index=False)\n",
    "for fld in dirs:\n",
    "    for file in fld.glob(\"recs-*\"):\n",
    "        rec = ItemListCollection.load_parquet(file)\n",
    "        recs.add_from(rec, model=fld.name.split(\"-\")[1])"
   ]
  },
  {
   "cell_type": "code",
   "execution_count": 9,
   "id": "0a0716f7",
   "metadata": {
    "execution": {
     "iopub.execute_input": "2024-12-18T00:00:28.791372Z",
     "iopub.status.busy": "2024-12-18T00:00:28.791259Z",
     "iopub.status.idle": "2024-12-18T00:00:28.794396Z",
     "shell.execute_reply": "2024-12-18T00:00:28.794189Z"
    },
    "papermill": {
     "duration": 0.005499,
     "end_time": "2024-12-18T00:00:28.794906",
     "exception": false,
     "start_time": "2024-12-18T00:00:28.789407",
     "status": "completed"
    },
    "tags": []
   },
   "outputs": [
    {
     "data": {
      "text/plain": [
       "['ALS', 'Bias', 'IALS', 'IIE', 'III', 'Pop', 'UUE']"
      ]
     },
     "execution_count": 9,
     "metadata": {},
     "output_type": "execute_result"
    }
   ],
   "source": [
    "rec_algos = sorted(set(a for (a, _u) in recs.keys()))\n",
    "rec_algos"
   ]
  },
  {
   "cell_type": "code",
   "execution_count": 10,
   "id": "71d6c2ed",
   "metadata": {
    "execution": {
     "iopub.execute_input": "2024-12-18T00:00:28.797923Z",
     "iopub.status.busy": "2024-12-18T00:00:28.797833Z",
     "iopub.status.idle": "2024-12-18T00:00:28.933765Z",
     "shell.execute_reply": "2024-12-18T00:00:28.933038Z"
    },
    "papermill": {
     "duration": 0.138427,
     "end_time": "2024-12-18T00:00:28.934560",
     "exception": false,
     "start_time": "2024-12-18T00:00:28.796133",
     "status": "completed"
    },
    "tags": []
   },
   "outputs": [],
   "source": [
    "preds = ItemListCollection(['model', 'user_id'], index=False)\n",
    "for fld in dirs:\n",
    "    for file in fld.glob(\"pred-*\"):\n",
    "        pred = ItemListCollection.load_parquet(file)\n",
    "        preds.add_from(pred, model=fld.name.split(\"-\")[1])"
   ]
  },
  {
   "cell_type": "markdown",
   "id": "c1ffa3a5",
   "metadata": {
    "papermill": {
     "duration": 0.009134,
     "end_time": "2024-12-18T00:00:28.945179",
     "exception": false,
     "start_time": "2024-12-18T00:00:28.936045",
     "status": "completed"
    },
    "tags": []
   },
   "source": [
    "We need to load the test data so that we have the ground truths for computing accuracy"
   ]
  },
  {
   "cell_type": "code",
   "execution_count": 11,
   "id": "131e4d84",
   "metadata": {
    "execution": {
     "iopub.execute_input": "2024-12-18T00:00:28.948346Z",
     "iopub.status.busy": "2024-12-18T00:00:28.948228Z",
     "iopub.status.idle": "2024-12-18T00:00:28.950073Z",
     "shell.execute_reply": "2024-12-18T00:00:28.949779Z"
    },
    "papermill": {
     "duration": 0.003945,
     "end_time": "2024-12-18T00:00:28.950429",
     "exception": false,
     "start_time": "2024-12-18T00:00:28.946484",
     "status": "completed"
    },
    "tags": []
   },
   "outputs": [],
   "source": [
    "split_root = Path(\"data-split\")\n",
    "split_dir = split_root / dataset"
   ]
  },
  {
   "cell_type": "code",
   "execution_count": 12,
   "id": "c38bfbfc",
   "metadata": {
    "execution": {
     "iopub.execute_input": "2024-12-18T00:00:28.953333Z",
     "iopub.status.busy": "2024-12-18T00:00:28.953243Z",
     "iopub.status.idle": "2024-12-18T00:00:28.997636Z",
     "shell.execute_reply": "2024-12-18T00:00:28.997226Z"
    },
    "papermill": {
     "duration": 0.046578,
     "end_time": "2024-12-18T00:00:28.998202",
     "exception": false,
     "start_time": "2024-12-18T00:00:28.951624",
     "status": "completed"
    },
    "tags": []
   },
   "outputs": [],
   "source": [
    "test = ItemListCollection(UserIDKey)\n",
    "for file in split_dir.glob(\"test-*.parquet\"):\n",
    "    df = pd.read_parquet(file)\n",
    "    part = ItemListCollection.from_df(df, UserIDKey)\n",
    "    test.add_from(part)"
   ]
  },
  {
   "cell_type": "markdown",
   "id": "d33a9869",
   "metadata": {
    "papermill": {
     "duration": 0.001241,
     "end_time": "2024-12-18T00:00:29.000679",
     "exception": false,
     "start_time": "2024-12-18T00:00:28.999438",
     "status": "completed"
    },
    "tags": []
   },
   "source": [
    "## Top-N Metrics\n",
    "\n",
    "`RunListAnalysis` computes metrics for recommendation results and takes care of\n",
    "matching recommendations and ground truth."
   ]
  },
  {
   "cell_type": "code",
   "execution_count": 13,
   "id": "d648b629",
   "metadata": {
    "execution": {
     "iopub.execute_input": "2024-12-18T00:00:29.003834Z",
     "iopub.status.busy": "2024-12-18T00:00:29.003648Z",
     "iopub.status.idle": "2024-12-18T00:00:29.466697Z",
     "shell.execute_reply": "2024-12-18T00:00:29.466363Z"
    },
    "papermill": {
     "duration": 0.465312,
     "end_time": "2024-12-18T00:00:29.467261",
     "exception": false,
     "start_time": "2024-12-18T00:00:29.001949",
     "status": "completed"
    },
    "tags": []
   },
   "outputs": [
    {
     "name": "stderr",
     "output_type": "stream",
     "text": [
      "/home/mde48/lenskit/lk-demo-experiment/.venv/lib/python3.12/site-packages/lenskit/metrics/bulk.py:121: FutureWarning: The previous implementation of stack is deprecated and will be removed in a future version of pandas. See the What's New notes for pandas 2.1.0 for details. Specify future_stack=True to adopt the new implementation and silence this warning.\n",
      "  df = scores.groupby(list(keys)).agg([\"mean\", \"median\", \"std\"]).stack(level=0)\n"
     ]
    },
    {
     "data": {
      "text/html": [
       "<div>\n",
       "<style scoped>\n",
       "    .dataframe tbody tr th:only-of-type {\n",
       "        vertical-align: middle;\n",
       "    }\n",
       "\n",
       "    .dataframe tbody tr th {\n",
       "        vertical-align: top;\n",
       "    }\n",
       "\n",
       "    .dataframe thead th {\n",
       "        text-align: right;\n",
       "    }\n",
       "</style>\n",
       "<table border=\"1\" class=\"dataframe\">\n",
       "  <thead>\n",
       "    <tr style=\"text-align: right;\">\n",
       "      <th></th>\n",
       "      <th></th>\n",
       "      <th>mean</th>\n",
       "      <th>median</th>\n",
       "      <th>std</th>\n",
       "    </tr>\n",
       "    <tr>\n",
       "      <th>model</th>\n",
       "      <th></th>\n",
       "      <th></th>\n",
       "      <th></th>\n",
       "      <th></th>\n",
       "    </tr>\n",
       "  </thead>\n",
       "  <tbody>\n",
       "    <tr>\n",
       "      <th rowspan=\"3\" valign=\"top\">ALS</th>\n",
       "      <th>NDCG</th>\n",
       "      <td>0.077503</td>\n",
       "      <td>5.112522e-02</td>\n",
       "      <td>0.092434</td>\n",
       "    </tr>\n",
       "    <tr>\n",
       "      <th>RBP</th>\n",
       "      <td>0.024332</td>\n",
       "      <td>2.775558e-17</td>\n",
       "      <td>0.093150</td>\n",
       "    </tr>\n",
       "    <tr>\n",
       "      <th>RecipRank</th>\n",
       "      <td>0.078375</td>\n",
       "      <td>1.818182e-02</td>\n",
       "      <td>0.183064</td>\n",
       "    </tr>\n",
       "    <tr>\n",
       "      <th rowspan=\"3\" valign=\"top\">Bias</th>\n",
       "      <th>NDCG</th>\n",
       "      <td>0.075139</td>\n",
       "      <td>5.275761e-02</td>\n",
       "      <td>0.090029</td>\n",
       "    </tr>\n",
       "    <tr>\n",
       "      <th>RBP</th>\n",
       "      <td>0.017776</td>\n",
       "      <td>6.661338e-16</td>\n",
       "      <td>0.072508</td>\n",
       "    </tr>\n",
       "    <tr>\n",
       "      <th>RecipRank</th>\n",
       "      <td>0.067601</td>\n",
       "      <td>1.960784e-02</td>\n",
       "      <td>0.147352</td>\n",
       "    </tr>\n",
       "    <tr>\n",
       "      <th rowspan=\"3\" valign=\"top\">IALS</th>\n",
       "      <th>NDCG</th>\n",
       "      <td>0.292309</td>\n",
       "      <td>2.540648e-01</td>\n",
       "      <td>0.170104</td>\n",
       "    </tr>\n",
       "    <tr>\n",
       "      <th>RBP</th>\n",
       "      <td>0.112257</td>\n",
       "      <td>3.913879e-03</td>\n",
       "      <td>0.187892</td>\n",
       "    </tr>\n",
       "    <tr>\n",
       "      <th>RecipRank</th>\n",
       "      <td>0.258966</td>\n",
       "      <td>1.250000e-01</td>\n",
       "      <td>0.302168</td>\n",
       "    </tr>\n",
       "    <tr>\n",
       "      <th rowspan=\"3\" valign=\"top\">IIE</th>\n",
       "      <th>NDCG</th>\n",
       "      <td>0.055975</td>\n",
       "      <td>4.404242e-02</td>\n",
       "      <td>0.072088</td>\n",
       "    </tr>\n",
       "    <tr>\n",
       "      <th>RBP</th>\n",
       "      <td>0.007745</td>\n",
       "      <td>1.033976e-25</td>\n",
       "      <td>0.047968</td>\n",
       "    </tr>\n",
       "    <tr>\n",
       "      <th>RecipRank</th>\n",
       "      <td>0.038422</td>\n",
       "      <td>1.204819e-02</td>\n",
       "      <td>0.102594</td>\n",
       "    </tr>\n",
       "    <tr>\n",
       "      <th rowspan=\"3\" valign=\"top\">III</th>\n",
       "      <th>NDCG</th>\n",
       "      <td>0.284382</td>\n",
       "      <td>2.418158e-01</td>\n",
       "      <td>0.189190</td>\n",
       "    </tr>\n",
       "    <tr>\n",
       "      <th>RBP</th>\n",
       "      <td>0.177353</td>\n",
       "      <td>3.125000e-02</td>\n",
       "      <td>0.237706</td>\n",
       "    </tr>\n",
       "    <tr>\n",
       "      <th>RecipRank</th>\n",
       "      <td>0.360765</td>\n",
       "      <td>2.000000e-01</td>\n",
       "      <td>0.373517</td>\n",
       "    </tr>\n",
       "    <tr>\n",
       "      <th rowspan=\"3\" valign=\"top\">Pop</th>\n",
       "      <th>NDCG</th>\n",
       "      <td>0.186630</td>\n",
       "      <td>1.634362e-01</td>\n",
       "      <td>0.132123</td>\n",
       "    </tr>\n",
       "    <tr>\n",
       "      <th>RBP</th>\n",
       "      <td>0.077715</td>\n",
       "      <td>9.765625e-04</td>\n",
       "      <td>0.159859</td>\n",
       "    </tr>\n",
       "    <tr>\n",
       "      <th>RecipRank</th>\n",
       "      <td>0.204922</td>\n",
       "      <td>1.000000e-01</td>\n",
       "      <td>0.279991</td>\n",
       "    </tr>\n",
       "    <tr>\n",
       "      <th rowspan=\"3\" valign=\"top\">UUE</th>\n",
       "      <th>NDCG</th>\n",
       "      <td>0.037052</td>\n",
       "      <td>4.283597e-02</td>\n",
       "      <td>0.042810</td>\n",
       "    </tr>\n",
       "    <tr>\n",
       "      <th>RBP</th>\n",
       "      <td>0.000310</td>\n",
       "      <td>2.524355e-29</td>\n",
       "      <td>0.005776</td>\n",
       "    </tr>\n",
       "    <tr>\n",
       "      <th>RecipRank</th>\n",
       "      <td>0.014056</td>\n",
       "      <td>1.052632e-02</td>\n",
       "      <td>0.024095</td>\n",
       "    </tr>\n",
       "  </tbody>\n",
       "</table>\n",
       "</div>"
      ],
      "text/plain": [
       "                     mean        median       std\n",
       "model                                            \n",
       "ALS   NDCG       0.077503  5.112522e-02  0.092434\n",
       "      RBP        0.024332  2.775558e-17  0.093150\n",
       "      RecipRank  0.078375  1.818182e-02  0.183064\n",
       "Bias  NDCG       0.075139  5.275761e-02  0.090029\n",
       "      RBP        0.017776  6.661338e-16  0.072508\n",
       "      RecipRank  0.067601  1.960784e-02  0.147352\n",
       "IALS  NDCG       0.292309  2.540648e-01  0.170104\n",
       "      RBP        0.112257  3.913879e-03  0.187892\n",
       "      RecipRank  0.258966  1.250000e-01  0.302168\n",
       "IIE   NDCG       0.055975  4.404242e-02  0.072088\n",
       "      RBP        0.007745  1.033976e-25  0.047968\n",
       "      RecipRank  0.038422  1.204819e-02  0.102594\n",
       "III   NDCG       0.284382  2.418158e-01  0.189190\n",
       "      RBP        0.177353  3.125000e-02  0.237706\n",
       "      RecipRank  0.360765  2.000000e-01  0.373517\n",
       "Pop   NDCG       0.186630  1.634362e-01  0.132123\n",
       "      RBP        0.077715  9.765625e-04  0.159859\n",
       "      RecipRank  0.204922  1.000000e-01  0.279991\n",
       "UUE   NDCG       0.037052  4.283597e-02  0.042810\n",
       "      RBP        0.000310  2.524355e-29  0.005776\n",
       "      RecipRank  0.014056  1.052632e-02  0.024095"
      ]
     },
     "execution_count": 13,
     "metadata": {},
     "output_type": "execute_result"
    }
   ],
   "source": [
    "ra = RunAnalysis()\n",
    "\n",
    "ra.add_metric(NDCG())\n",
    "ra.add_metric(RecipRank())\n",
    "ra.add_metric(RBP())\n",
    "\n",
    "rec_results = ra.compute(recs, test)\n",
    "rec_results.list_summary('model')"
   ]
  },
  {
   "cell_type": "markdown",
   "id": "f8842c48",
   "metadata": {
    "papermill": {
     "duration": 0.00876,
     "end_time": "2024-12-18T00:00:29.477529",
     "exception": false,
     "start_time": "2024-12-18T00:00:29.468769",
     "status": "completed"
    },
    "tags": []
   },
   "source": [
    "We can reshape the list metrics and plot them:"
   ]
  },
  {
   "cell_type": "code",
   "execution_count": 14,
   "id": "11308253",
   "metadata": {
    "execution": {
     "iopub.execute_input": "2024-12-18T00:00:29.481019Z",
     "iopub.status.busy": "2024-12-18T00:00:29.480855Z",
     "iopub.status.idle": "2024-12-18T00:00:29.838643Z",
     "shell.execute_reply": "2024-12-18T00:00:29.838472Z"
    },
    "papermill": {
     "duration": 0.360129,
     "end_time": "2024-12-18T00:00:29.839103",
     "exception": false,
     "start_time": "2024-12-18T00:00:29.478974",
     "status": "completed"
    },
    "tags": []
   },
   "outputs": [
    {
     "data": {
      "image/png": "[encoded data removed]",
      "text/plain": [
       "<Figure size 1511.11x500 with 3 Axes>"
      ]
     },
     "metadata": {},
     "output_type": "display_data"
    }
   ],
   "source": [
    "metrics = rec_results.list_metrics()\n",
    "metrics = metrics.melt(var_name='metric', ignore_index=False).reset_index()\n",
    "sns.catplot(metrics, x='model', y='value', col='metric', kind='bar')\n",
    "plt.show()"
   ]
  },
  {
   "cell_type": "markdown",
   "id": "ed2b7ce3",
   "metadata": {
    "papermill": {
     "duration": 0.008473,
     "end_time": "2024-12-18T00:00:29.849258",
     "exception": false,
     "start_time": "2024-12-18T00:00:29.840785",
     "status": "completed"
    },
    "tags": []
   },
   "source": [
    "## Prediction RMSE\n",
    "\n",
    "We will also look at the prediction RMSE."
   ]
  },
  {
   "cell_type": "code",
   "execution_count": 15,
   "id": "fb241eec",
   "metadata": {
    "execution": {
     "iopub.execute_input": "2024-12-18T00:00:29.852771Z",
     "iopub.status.busy": "2024-12-18T00:00:29.852588Z",
     "iopub.status.idle": "2024-12-18T00:00:30.406301Z",
     "shell.execute_reply": "2024-12-18T00:00:30.406125Z"
    },
    "papermill": {
     "duration": 0.556347,
     "end_time": "2024-12-18T00:00:30.407040",
     "exception": false,
     "start_time": "2024-12-18T00:00:29.850693",
     "status": "completed"
    },
    "tags": []
   },
   "outputs": [
    {
     "name": "stderr",
     "output_type": "stream",
     "text": [
      "/home/mde48/lenskit/lk-demo-experiment/.venv/lib/python3.12/site-packages/lenskit/metrics/bulk.py:121: FutureWarning: The previous implementation of stack is deprecated and will be removed in a future version of pandas. See the What's New notes for pandas 2.1.0 for details. Specify future_stack=True to adopt the new implementation and silence this warning.\n",
      "  df = scores.groupby(list(keys)).agg([\"mean\", \"median\", \"std\"]).stack(level=0)\n"
     ]
    },
    {
     "data": {
      "text/html": [
       "<div>\n",
       "<style scoped>\n",
       "    .dataframe tbody tr th:only-of-type {\n",
       "        vertical-align: middle;\n",
       "    }\n",
       "\n",
       "    .dataframe tbody tr th {\n",
       "        vertical-align: top;\n",
       "    }\n",
       "\n",
       "    .dataframe thead th {\n",
       "        text-align: right;\n",
       "    }\n",
       "</style>\n",
       "<table border=\"1\" class=\"dataframe\">\n",
       "  <thead>\n",
       "    <tr style=\"text-align: right;\">\n",
       "      <th></th>\n",
       "      <th></th>\n",
       "      <th>mean</th>\n",
       "      <th>median</th>\n",
       "      <th>std</th>\n",
       "    </tr>\n",
       "    <tr>\n",
       "      <th>model</th>\n",
       "      <th></th>\n",
       "      <th></th>\n",
       "      <th></th>\n",
       "      <th></th>\n",
       "    </tr>\n",
       "  </thead>\n",
       "  <tbody>\n",
       "    <tr>\n",
       "      <th>ALS</th>\n",
       "      <th>RMSE</th>\n",
       "      <td>0.875350</td>\n",
       "      <td>0.834291</td>\n",
       "      <td>0.347143</td>\n",
       "    </tr>\n",
       "    <tr>\n",
       "      <th>Bias</th>\n",
       "      <th>RMSE</th>\n",
       "      <td>0.897510</td>\n",
       "      <td>0.854280</td>\n",
       "      <td>0.341581</td>\n",
       "    </tr>\n",
       "    <tr>\n",
       "      <th>IIE</th>\n",
       "      <th>RMSE</th>\n",
       "      <td>0.867792</td>\n",
       "      <td>0.830513</td>\n",
       "      <td>0.342500</td>\n",
       "    </tr>\n",
       "    <tr>\n",
       "      <th>UUE</th>\n",
       "      <th>RMSE</th>\n",
       "      <td>0.901715</td>\n",
       "      <td>0.865036</td>\n",
       "      <td>0.354092</td>\n",
       "    </tr>\n",
       "  </tbody>\n",
       "</table>\n",
       "</div>"
      ],
      "text/plain": [
       "                mean    median       std\n",
       "model                                   \n",
       "ALS   RMSE  0.875350  0.834291  0.347143\n",
       "Bias  RMSE  0.897510  0.854280  0.341581\n",
       "IIE   RMSE  0.867792  0.830513  0.342500\n",
       "UUE   RMSE  0.901715  0.865036  0.354092"
      ]
     },
     "execution_count": 15,
     "metadata": {},
     "output_type": "execute_result"
    }
   ],
   "source": [
    "pa = RunAnalysis()\n",
    "\n",
    "pa.add_metric(RMSE(missing_scores='ignore', missing_truth='ignore'))\n",
    "\n",
    "pred_results = pa.compute(preds, test)\n",
    "pred_results.list_summary('model')"
   ]
  },
  {
   "cell_type": "code",
   "execution_count": 16,
   "id": "92a98510",
   "metadata": {
    "execution": {
     "iopub.execute_input": "2024-12-18T00:00:30.417935Z",
     "iopub.status.busy": "2024-12-18T00:00:30.417851Z",
     "iopub.status.idle": "2024-12-18T00:00:30.495805Z",
     "shell.execute_reply": "2024-12-18T00:00:30.495550Z"
    },
    "papermill": {
     "duration": 0.087508,
     "end_time": "2024-12-18T00:00:30.496264",
     "exception": false,
     "start_time": "2024-12-18T00:00:30.408756",
     "status": "completed"
    },
    "tags": []
   },
   "outputs": [
    {
     "data": {
      "image/png": "[encoded data removed]",
      "text/plain": [
       "<Figure size 511.111x500 with 1 Axes>"
      ]
     },
     "metadata": {},
     "output_type": "display_data"
    }
   ],
   "source": [
    "sns.catplot(pred_results.list_metrics().reset_index(), x='model', y='RMSE', kind='bar')\n",
    "plt.show()"
   ]
  },
  {
   "cell_type": "markdown",
   "id": "c9a309d6",
   "metadata": {
    "papermill": {
     "duration": 0.001623,
     "end_time": "2024-12-18T00:00:30.499636",
     "exception": false,
     "start_time": "2024-12-18T00:00:30.498013",
     "status": "completed"
    },
    "tags": []
   },
   "source": [
    "## Save Metrics\n",
    "\n",
    "We'll now save the metrics to a file."
   ]
  },
  {
   "cell_type": "code",
   "execution_count": 17,
   "id": "68b047dc",
   "metadata": {
    "execution": {
     "iopub.execute_input": "2024-12-18T00:00:30.503087Z",
     "iopub.status.busy": "2024-12-18T00:00:30.503012Z",
     "iopub.status.idle": "2024-12-18T00:00:30.509396Z",
     "shell.execute_reply": "2024-12-18T00:00:30.509252Z"
    },
    "papermill": {
     "duration": 0.008581,
     "end_time": "2024-12-18T00:00:30.509780",
     "exception": false,
     "start_time": "2024-12-18T00:00:30.501199",
     "status": "completed"
    },
    "tags": []
   },
   "outputs": [
    {
     "name": "stderr",
     "output_type": "stream",
     "text": [
      "/home/mde48/lenskit/lk-demo-experiment/.venv/lib/python3.12/site-packages/lenskit/metrics/bulk.py:121: FutureWarning: The previous implementation of stack is deprecated and will be removed in a future version of pandas. See the What's New notes for pandas 2.1.0 for details. Specify future_stack=True to adopt the new implementation and silence this warning.\n",
      "  df = scores.groupby(list(keys)).agg([\"mean\", \"median\", \"std\"]).stack(level=0)\n"
     ]
    },
    {
     "data": {
      "text/html": [
       "<div>\n",
       "<style scoped>\n",
       "    .dataframe tbody tr th:only-of-type {\n",
       "        vertical-align: middle;\n",
       "    }\n",
       "\n",
       "    .dataframe tbody tr th {\n",
       "        vertical-align: top;\n",
       "    }\n",
       "\n",
       "    .dataframe thead th {\n",
       "        text-align: right;\n",
       "    }\n",
       "</style>\n",
       "<table border=\"1\" class=\"dataframe\">\n",
       "  <thead>\n",
       "    <tr style=\"text-align: right;\">\n",
       "      <th></th>\n",
       "      <th>NDCG</th>\n",
       "      <th>RBP</th>\n",
       "      <th>RecipRank</th>\n",
       "    </tr>\n",
       "    <tr>\n",
       "      <th>model</th>\n",
       "      <th></th>\n",
       "      <th></th>\n",
       "      <th></th>\n",
       "    </tr>\n",
       "  </thead>\n",
       "  <tbody>\n",
       "    <tr>\n",
       "      <th>ALS</th>\n",
       "      <td>0.077503</td>\n",
       "      <td>0.024332</td>\n",
       "      <td>0.078375</td>\n",
       "    </tr>\n",
       "    <tr>\n",
       "      <th>Bias</th>\n",
       "      <td>0.075139</td>\n",
       "      <td>0.017776</td>\n",
       "      <td>0.067601</td>\n",
       "    </tr>\n",
       "    <tr>\n",
       "      <th>IALS</th>\n",
       "      <td>0.292309</td>\n",
       "      <td>0.112257</td>\n",
       "      <td>0.258966</td>\n",
       "    </tr>\n",
       "    <tr>\n",
       "      <th>IIE</th>\n",
       "      <td>0.055975</td>\n",
       "      <td>0.007745</td>\n",
       "      <td>0.038422</td>\n",
       "    </tr>\n",
       "    <tr>\n",
       "      <th>III</th>\n",
       "      <td>0.284382</td>\n",
       "      <td>0.177353</td>\n",
       "      <td>0.360765</td>\n",
       "    </tr>\n",
       "    <tr>\n",
       "      <th>Pop</th>\n",
       "      <td>0.186630</td>\n",
       "      <td>0.077715</td>\n",
       "      <td>0.204922</td>\n",
       "    </tr>\n",
       "    <tr>\n",
       "      <th>UUE</th>\n",
       "      <td>0.037052</td>\n",
       "      <td>0.000310</td>\n",
       "      <td>0.014056</td>\n",
       "    </tr>\n",
       "  </tbody>\n",
       "</table>\n",
       "</div>"
      ],
      "text/plain": [
       "           NDCG       RBP  RecipRank\n",
       "model                               \n",
       "ALS    0.077503  0.024332   0.078375\n",
       "Bias   0.075139  0.017776   0.067601\n",
       "IALS   0.292309  0.112257   0.258966\n",
       "IIE    0.055975  0.007745   0.038422\n",
       "III    0.284382  0.177353   0.360765\n",
       "Pop    0.186630  0.077715   0.204922\n",
       "UUE    0.037052  0.000310   0.014056"
      ]
     },
     "execution_count": 17,
     "metadata": {},
     "output_type": "execute_result"
    }
   ],
   "source": [
    "rlsum = rec_results.list_summary('model')['mean'].unstack()\n",
    "rlsum"
   ]
  },
  {
   "cell_type": "code",
   "execution_count": 18,
   "id": "5582d5d8",
   "metadata": {
    "execution": {
     "iopub.execute_input": "2024-12-18T00:00:30.513540Z",
     "iopub.status.busy": "2024-12-18T00:00:30.513469Z",
     "iopub.status.idle": "2024-12-18T00:00:30.515094Z",
     "shell.execute_reply": "2024-12-18T00:00:30.514931Z"
    },
    "papermill": {
     "duration": 0.003977,
     "end_time": "2024-12-18T00:00:30.515491",
     "exception": false,
     "start_time": "2024-12-18T00:00:30.511514",
     "status": "completed"
    },
    "tags": []
   },
   "outputs": [],
   "source": [
    "rlsum.to_json(f'eval-metrics.{dataset}.json', orient='index')"
   ]
  }
 ],
 "metadata": {
  "jupytext": {
   "formats": "ipynb,md",
   "notebook_metadata_filter": "split_at_heading"
  },
  "kernelspec": {
   "display_name": "Python 3 (ipykernel)",
   "language": "python",
   "name": "python3"
  },
  "language_info": {
   "codemirror_mode": {
    "name": "ipython",
    "version": 3
   },
   "file_extension": ".py",
   "mimetype": "text/x-python",
   "name": "python",
   "nbconvert_exporter": "python",
   "pygments_lexer": "ipython3",
   "version": "3.12.8"
  },
  "papermill": {
   "default_parameters": {},
   "duration": 4.981185,
   "end_time": "2024-12-18T00:00:30.931151",
   "environment_variables": {},
   "exception": null,
   "input_path": "eval-report.ipynb",
   "output_path": "eval-report.ml100k.ipynb",
   "parameters": {
    "dataset": "ml100k"
   },
   "start_time": "2024-12-18T00:00:25.949966",
   "version": "2.6.0"
  },
  "split_at_heading": true
 },
 "nbformat": 4,
 "nbformat_minor": 5
}