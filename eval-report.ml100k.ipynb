{
 "cells": [
  {
   "cell_type": "markdown",
   "id": "381bef4a",
   "metadata": {
    "papermill": {
     "duration": 0.010807,
     "end_time": "2024-12-07T21:14:10.138946",
     "exception": false,
     "start_time": "2024-12-07T21:14:10.128139",
     "status": "completed"
    },
    "tags": []
   },
   "source": [
    "# Evaluation Analysis for Recommender Output"
   ]
  },
  {
   "cell_type": "markdown",
   "id": "664c72ab",
   "metadata": {
    "papermill": {
     "duration": 0.001121,
     "end_time": "2024-12-07T21:14:10.141391",
     "exception": false,
     "start_time": "2024-12-07T21:14:10.140270",
     "status": "completed"
    },
    "tags": []
   },
   "source": [
    "In this section we will analyze and compare the generated recommendations and predictions from a predefined list of algorithms with the goal of assessing the performance of each algorithm with respect to a metric. In other words, we would rank the algorithms for each metric considered with respect to performance."
   ]
  },
  {
   "cell_type": "markdown",
   "id": "81fcb0af",
   "metadata": {
    "papermill": {
     "duration": 0.001076,
     "end_time": "2024-12-07T21:14:10.143592",
     "exception": false,
     "start_time": "2024-12-07T21:14:10.142516",
     "status": "completed"
    },
    "tags": []
   },
   "source": [
    "## Setup"
   ]
  },
  {
   "cell_type": "markdown",
   "id": "933a60f9",
   "metadata": {
    "papermill": {
     "duration": 0.001089,
     "end_time": "2024-12-07T21:14:10.145779",
     "exception": false,
     "start_time": "2024-12-07T21:14:10.144690",
     "status": "completed"
    },
    "tags": []
   },
   "source": [
    "Below are the list of packages required to successfully run the analysis. They are divided into partitions to signify their specific task.<br>\n",
    "We need the pathlib package for working with files and folders"
   ]
  },
  {
   "cell_type": "code",
   "execution_count": 1,
   "id": "9488a624",
   "metadata": {
    "execution": {
     "iopub.execute_input": "2024-12-07T21:14:10.148948Z",
     "iopub.status.busy": "2024-12-07T21:14:10.148777Z",
     "iopub.status.idle": "2024-12-07T21:14:10.151095Z",
     "shell.execute_reply": "2024-12-07T21:14:10.150929Z"
    },
    "papermill": {
     "duration": 0.004721,
     "end_time": "2024-12-07T21:14:10.151591",
     "exception": false,
     "start_time": "2024-12-07T21:14:10.146870",
     "status": "completed"
    },
    "tags": []
   },
   "outputs": [],
   "source": [
    "from pathlib import Path\n",
    "import json"
   ]
  },
  {
   "cell_type": "markdown",
   "id": "99e5fc5d",
   "metadata": {
    "papermill": {
     "duration": 0.001696,
     "end_time": "2024-12-07T21:14:10.154472",
     "exception": false,
     "start_time": "2024-12-07T21:14:10.152776",
     "status": "completed"
    },
    "tags": []
   },
   "source": [
    "We would use the pandas for analyzing and manipulating our data while seaborn and matplotlib are used for data visualization. statsmodels.graphics.gofplots and scipy.stats.shapiro are used for normality check. Scipy.stats.friedmanchisquare is a non-parametric test used to determine the statistical significance in metric results and the wilcoxon test is used for pairwise comparison of sample data."
   ]
  },
  {
   "cell_type": "code",
   "execution_count": 2,
   "id": "5443464f",
   "metadata": {
    "execution": {
     "iopub.execute_input": "2024-12-07T21:14:10.157326Z",
     "iopub.status.busy": "2024-12-07T21:14:10.157215Z",
     "iopub.status.idle": "2024-12-07T21:14:10.551937Z",
     "shell.execute_reply": "2024-12-07T21:14:10.551762Z"
    },
    "lines_to_next_cell": 2,
    "papermill": {
     "duration": 0.397059,
     "end_time": "2024-12-07T21:14:10.552754",
     "exception": false,
     "start_time": "2024-12-07T21:14:10.155695",
     "status": "completed"
    },
    "tags": []
   },
   "outputs": [],
   "source": [
    "import pandas as pd\n",
    "import seaborn as sns\n",
    "import matplotlib.pyplot as plt\n",
    "from statsmodels.graphics.gofplots import qqplot\n",
    "from scipy.stats import shapiro\n",
    "from scipy.stats import friedmanchisquare, wilcoxon\n",
    "from itertools import combinations"
   ]
  },
  {
   "cell_type": "markdown",
   "id": "17a97495",
   "metadata": {
    "papermill": {
     "duration": 0.008859,
     "end_time": "2024-12-07T21:14:10.563042",
     "exception": false,
     "start_time": "2024-12-07T21:14:10.554183",
     "status": "completed"
    },
    "tags": []
   },
   "source": [
    "Import the LensKit metrics for analysis:"
   ]
  },
  {
   "cell_type": "code",
   "execution_count": 3,
   "id": "64672a8e",
   "metadata": {
    "execution": {
     "iopub.execute_input": "2024-12-07T21:14:10.566067Z",
     "iopub.status.busy": "2024-12-07T21:14:10.565924Z",
     "iopub.status.idle": "2024-12-07T21:14:11.235051Z",
     "shell.execute_reply": "2024-12-07T21:14:11.234792Z"
    },
    "papermill": {
     "duration": 0.671645,
     "end_time": "2024-12-07T21:14:11.235872",
     "exception": false,
     "start_time": "2024-12-07T21:14:10.564227",
     "status": "completed"
    },
    "tags": []
   },
   "outputs": [],
   "source": [
    "from lenskit.data import ItemListCollection, UserIDKey\n",
    "from lenskit.metrics import RunAnalysis, RMSE, NDCG, RecipRank, RBP"
   ]
  },
  {
   "cell_type": "markdown",
   "id": "63508ad7",
   "metadata": {
    "papermill": {
     "duration": 0.008851,
     "end_time": "2024-12-07T21:14:11.246186",
     "exception": false,
     "start_time": "2024-12-07T21:14:11.237335",
     "status": "completed"
    },
    "tags": []
   },
   "source": [
    "## Load Data\n",
    "\n",
    "The recommendations are in `runs`, and we will need to reassemble the test data from `test`."
   ]
  },
  {
   "cell_type": "code",
   "execution_count": 4,
   "id": "2d81312f",
   "metadata": {
    "execution": {
     "iopub.execute_input": "2024-12-07T21:14:11.249145Z",
     "iopub.status.busy": "2024-12-07T21:14:11.249032Z",
     "iopub.status.idle": "2024-12-07T21:14:11.250442Z",
     "shell.execute_reply": "2024-12-07T21:14:11.250298Z"
    },
    "papermill": {
     "duration": 0.00357,
     "end_time": "2024-12-07T21:14:11.250938",
     "exception": false,
     "start_time": "2024-12-07T21:14:11.247368",
     "status": "completed"
    },
    "tags": [
     "parameters"
    ]
   },
   "outputs": [],
   "source": [
    "dataset = \"ml100k\""
   ]
  },
  {
   "cell_type": "code",
   "execution_count": 5,
   "id": "499200b2",
   "metadata": {
    "execution": {
     "iopub.execute_input": "2024-12-07T21:14:11.253802Z",
     "iopub.status.busy": "2024-12-07T21:14:11.253703Z",
     "iopub.status.idle": "2024-12-07T21:14:11.254960Z",
     "shell.execute_reply": "2024-12-07T21:14:11.254827Z"
    },
    "papermill": {
     "duration": 0.003358,
     "end_time": "2024-12-07T21:14:11.255459",
     "exception": false,
     "start_time": "2024-12-07T21:14:11.252101",
     "status": "completed"
    },
    "tags": [
     "injected-parameters"
    ]
   },
   "outputs": [],
   "source": [
    "# Parameters\n",
    "dataset = \"ml100k\"\n"
   ]
  },
  {
   "cell_type": "code",
   "execution_count": 6,
   "id": "3ec95294",
   "metadata": {
    "execution": {
     "iopub.execute_input": "2024-12-07T21:14:11.258364Z",
     "iopub.status.busy": "2024-12-07T21:14:11.258224Z",
     "iopub.status.idle": "2024-12-07T21:14:11.259437Z",
     "shell.execute_reply": "2024-12-07T21:14:11.259301Z"
    },
    "papermill": {
     "duration": 0.003192,
     "end_time": "2024-12-07T21:14:11.259787",
     "exception": false,
     "start_time": "2024-12-07T21:14:11.256595",
     "status": "completed"
    },
    "tags": []
   },
   "outputs": [],
   "source": [
    "output_root = Path(\"runs\")"
   ]
  },
  {
   "cell_type": "code",
   "execution_count": 7,
   "id": "2fdbd191",
   "metadata": {
    "execution": {
     "iopub.execute_input": "2024-12-07T21:14:11.262620Z",
     "iopub.status.busy": "2024-12-07T21:14:11.262556Z",
     "iopub.status.idle": "2024-12-07T21:14:11.263925Z",
     "shell.execute_reply": "2024-12-07T21:14:11.263791Z"
    },
    "papermill": {
     "duration": 0.003342,
     "end_time": "2024-12-07T21:14:11.264310",
     "exception": false,
     "start_time": "2024-12-07T21:14:11.260968",
     "status": "completed"
    },
    "tags": []
   },
   "outputs": [],
   "source": [
    "dirs = [fld for fld in output_root.glob(f'{dataset}-*')]"
   ]
  },
  {
   "cell_type": "code",
   "execution_count": 8,
   "id": "57c58091",
   "metadata": {
    "execution": {
     "iopub.execute_input": "2024-12-07T21:14:11.267116Z",
     "iopub.status.busy": "2024-12-07T21:14:11.267026Z",
     "iopub.status.idle": "2024-12-07T21:14:12.383333Z",
     "shell.execute_reply": "2024-12-07T21:14:12.382968Z"
    },
    "papermill": {
     "duration": 1.118587,
     "end_time": "2024-12-07T21:14:12.384105",
     "exception": false,
     "start_time": "2024-12-07T21:14:11.265518",
     "status": "completed"
    },
    "tags": []
   },
   "outputs": [],
   "source": [
    "recs = ItemListCollection(['model', 'user_id'], index=False)\n",
    "for fld in dirs:\n",
    "    for file in fld.glob(\"recs-*\"):\n",
    "        rec = pd.read_parquet(file)\n",
    "        rec = ItemListCollection.from_df(rec, UserIDKey)\n",
    "        recs.add_from(rec, model=fld.name.split(\"-\")[1])"
   ]
  },
  {
   "cell_type": "code",
   "execution_count": 9,
   "id": "effd04de",
   "metadata": {
    "execution": {
     "iopub.execute_input": "2024-12-07T21:14:12.395096Z",
     "iopub.status.busy": "2024-12-07T21:14:12.395009Z",
     "iopub.status.idle": "2024-12-07T21:14:12.398097Z",
     "shell.execute_reply": "2024-12-07T21:14:12.397961Z"
    },
    "papermill": {
     "duration": 0.012921,
     "end_time": "2024-12-07T21:14:12.398496",
     "exception": false,
     "start_time": "2024-12-07T21:14:12.385575",
     "status": "completed"
    },
    "tags": []
   },
   "outputs": [
    {
     "data": {
      "text/plain": [
       "['ALS', 'Bias', 'IALS', 'IIE', 'III', 'Pop', 'UUE']"
      ]
     },
     "execution_count": 9,
     "metadata": {},
     "output_type": "execute_result"
    }
   ],
   "source": [
    "rec_algos = sorted(set(a for (a, _u) in recs.keys()))\n",
    "rec_algos"
   ]
  },
  {
   "cell_type": "code",
   "execution_count": 10,
   "id": "4593fe69",
   "metadata": {
    "execution": {
     "iopub.execute_input": "2024-12-07T21:14:12.401534Z",
     "iopub.status.busy": "2024-12-07T21:14:12.401451Z",
     "iopub.status.idle": "2024-12-07T21:14:13.000011Z",
     "shell.execute_reply": "2024-12-07T21:14:12.999599Z"
    },
    "papermill": {
     "duration": 0.601004,
     "end_time": "2024-12-07T21:14:13.000796",
     "exception": false,
     "start_time": "2024-12-07T21:14:12.399792",
     "status": "completed"
    },
    "tags": []
   },
   "outputs": [],
   "source": [
    "preds = ItemListCollection(['model', 'user_id'], index=False)\n",
    "for fld in dirs:\n",
    "    for file in fld.glob(\"pred-*\"):\n",
    "        pred = pd.read_parquet(file)\n",
    "        pred = ItemListCollection.from_df(pred, UserIDKey)\n",
    "        preds.add_from(pred, model=fld.name.split(\"-\")[1])"
   ]
  },
  {
   "cell_type": "markdown",
   "id": "5f88f622",
   "metadata": {
    "papermill": {
     "duration": 0.00896,
     "end_time": "2024-12-07T21:14:13.011293",
     "exception": false,
     "start_time": "2024-12-07T21:14:13.002333",
     "status": "completed"
    },
    "tags": []
   },
   "source": [
    "We need to load the test data so that we have the ground truths for computing accuracy"
   ]
  },
  {
   "cell_type": "code",
   "execution_count": 11,
   "id": "bf88dbf4",
   "metadata": {
    "execution": {
     "iopub.execute_input": "2024-12-07T21:14:13.014522Z",
     "iopub.status.busy": "2024-12-07T21:14:13.014420Z",
     "iopub.status.idle": "2024-12-07T21:14:13.016027Z",
     "shell.execute_reply": "2024-12-07T21:14:13.015861Z"
    },
    "papermill": {
     "duration": 0.00363,
     "end_time": "2024-12-07T21:14:13.016330",
     "exception": false,
     "start_time": "2024-12-07T21:14:13.012700",
     "status": "completed"
    },
    "tags": []
   },
   "outputs": [],
   "source": [
    "split_root = Path(\"data-split\")\n",
    "split_dir = split_root / dataset"
   ]
  },
  {
   "cell_type": "code",
   "execution_count": 12,
   "id": "bbd3075e",
   "metadata": {
    "execution": {
     "iopub.execute_input": "2024-12-07T21:14:13.019225Z",
     "iopub.status.busy": "2024-12-07T21:14:13.019158Z",
     "iopub.status.idle": "2024-12-07T21:14:13.151744Z",
     "shell.execute_reply": "2024-12-07T21:14:13.151298Z"
    },
    "papermill": {
     "duration": 0.134748,
     "end_time": "2024-12-07T21:14:13.152358",
     "exception": false,
     "start_time": "2024-12-07T21:14:13.017610",
     "status": "completed"
    },
    "tags": []
   },
   "outputs": [],
   "source": [
    "test = ItemListCollection(UserIDKey)\n",
    "for file in split_dir.glob(\"test-*.parquet\"):\n",
    "    df = pd.read_parquet(file)\n",
    "    test.add_from(ItemListCollection.from_df(df, UserIDKey))"
   ]
  },
  {
   "cell_type": "markdown",
   "id": "d1cc45f7",
   "metadata": {
    "papermill": {
     "duration": 0.008988,
     "end_time": "2024-12-07T21:14:13.162808",
     "exception": false,
     "start_time": "2024-12-07T21:14:13.153820",
     "status": "completed"
    },
    "tags": []
   },
   "source": [
    "## Top-N Metrics\n",
    "\n",
    "`RunListAnalysis` computes metrics for recommendation results and takes care of\n",
    "matching recommendations and ground truth."
   ]
  },
  {
   "cell_type": "code",
   "execution_count": 13,
   "id": "5cc74039",
   "metadata": {
    "execution": {
     "iopub.execute_input": "2024-12-07T21:14:13.166735Z",
     "iopub.status.busy": "2024-12-07T21:14:13.166644Z",
     "iopub.status.idle": "2024-12-07T21:14:13.641838Z",
     "shell.execute_reply": "2024-12-07T21:14:13.641659Z"
    },
    "papermill": {
     "duration": 0.47813,
     "end_time": "2024-12-07T21:14:13.642341",
     "exception": false,
     "start_time": "2024-12-07T21:14:13.164211",
     "status": "completed"
    },
    "tags": []
   },
   "outputs": [
    {
     "name": "stderr",
     "output_type": "stream",
     "text": [
      "/home/mde48/lenskit/lkpy/lenskit/lenskit/metrics/bulk.py:116: FutureWarning: The previous implementation of stack is deprecated and will be removed in a future version of pandas. See the What's New notes for pandas 2.1.0 for details. Specify future_stack=True to adopt the new implementation and silence this warning.\n",
      "  df = scores.groupby(list(keys)).agg([\"mean\", \"median\", \"std\"]).stack(level=0)\n"
     ]
    },
    {
     "data": {
      "text/html": [
       "<div>\n",
       "<style scoped>\n",
       "    .dataframe tbody tr th:only-of-type {\n",
       "        vertical-align: middle;\n",
       "    }\n",
       "\n",
       "    .dataframe tbody tr th {\n",
       "        vertical-align: top;\n",
       "    }\n",
       "\n",
       "    .dataframe thead th {\n",
       "        text-align: right;\n",
       "    }\n",
       "</style>\n",
       "<table border=\"1\" class=\"dataframe\">\n",
       "  <thead>\n",
       "    <tr style=\"text-align: right;\">\n",
       "      <th></th>\n",
       "      <th></th>\n",
       "      <th>mean</th>\n",
       "      <th>median</th>\n",
       "      <th>std</th>\n",
       "    </tr>\n",
       "    <tr>\n",
       "      <th>model</th>\n",
       "      <th></th>\n",
       "      <th></th>\n",
       "      <th></th>\n",
       "      <th></th>\n",
       "    </tr>\n",
       "  </thead>\n",
       "  <tbody>\n",
       "    <tr>\n",
       "      <th rowspan=\"3\" valign=\"top\">ALS</th>\n",
       "      <th>NDCG</th>\n",
       "      <td>0.076304</td>\n",
       "      <td>4.974829e-02</td>\n",
       "      <td>0.091255</td>\n",
       "    </tr>\n",
       "    <tr>\n",
       "      <th>RBP</th>\n",
       "      <td>0.022969</td>\n",
       "      <td>6.938894e-18</td>\n",
       "      <td>0.091461</td>\n",
       "    </tr>\n",
       "    <tr>\n",
       "      <th>RecipRank</th>\n",
       "      <td>0.075490</td>\n",
       "      <td>1.754386e-02</td>\n",
       "      <td>0.176918</td>\n",
       "    </tr>\n",
       "    <tr>\n",
       "      <th rowspan=\"3\" valign=\"top\">Bias</th>\n",
       "      <th>NDCG</th>\n",
       "      <td>0.077457</td>\n",
       "      <td>5.312220e-02</td>\n",
       "      <td>0.090349</td>\n",
       "    </tr>\n",
       "    <tr>\n",
       "      <th>RBP</th>\n",
       "      <td>0.016942</td>\n",
       "      <td>1.776357e-15</td>\n",
       "      <td>0.073437</td>\n",
       "    </tr>\n",
       "    <tr>\n",
       "      <th>RecipRank</th>\n",
       "      <td>0.068016</td>\n",
       "      <td>2.040816e-02</td>\n",
       "      <td>0.147820</td>\n",
       "    </tr>\n",
       "    <tr>\n",
       "      <th rowspan=\"3\" valign=\"top\">IALS</th>\n",
       "      <th>NDCG</th>\n",
       "      <td>0.290632</td>\n",
       "      <td>2.467713e-01</td>\n",
       "      <td>0.175422</td>\n",
       "    </tr>\n",
       "    <tr>\n",
       "      <th>RBP</th>\n",
       "      <td>0.114411</td>\n",
       "      <td>3.906280e-03</td>\n",
       "      <td>0.198986</td>\n",
       "    </tr>\n",
       "    <tr>\n",
       "      <th>RecipRank</th>\n",
       "      <td>0.257057</td>\n",
       "      <td>1.250000e-01</td>\n",
       "      <td>0.306638</td>\n",
       "    </tr>\n",
       "    <tr>\n",
       "      <th rowspan=\"3\" valign=\"top\">IIE</th>\n",
       "      <th>NDCG</th>\n",
       "      <td>0.057488</td>\n",
       "      <td>4.467052e-02</td>\n",
       "      <td>0.070846</td>\n",
       "    </tr>\n",
       "    <tr>\n",
       "      <th>RBP</th>\n",
       "      <td>0.007631</td>\n",
       "      <td>8.271806e-25</td>\n",
       "      <td>0.049530</td>\n",
       "    </tr>\n",
       "    <tr>\n",
       "      <th>RecipRank</th>\n",
       "      <td>0.039690</td>\n",
       "      <td>1.250000e-02</td>\n",
       "      <td>0.104957</td>\n",
       "    </tr>\n",
       "    <tr>\n",
       "      <th rowspan=\"3\" valign=\"top\">III</th>\n",
       "      <th>NDCG</th>\n",
       "      <td>0.291569</td>\n",
       "      <td>2.521752e-01</td>\n",
       "      <td>0.193535</td>\n",
       "    </tr>\n",
       "    <tr>\n",
       "      <th>RBP</th>\n",
       "      <td>0.185973</td>\n",
       "      <td>3.125004e-02</td>\n",
       "      <td>0.246712</td>\n",
       "    </tr>\n",
       "    <tr>\n",
       "      <th>RecipRank</th>\n",
       "      <td>0.366979</td>\n",
       "      <td>2.000000e-01</td>\n",
       "      <td>0.378522</td>\n",
       "    </tr>\n",
       "    <tr>\n",
       "      <th rowspan=\"3\" valign=\"top\">Pop</th>\n",
       "      <th>NDCG</th>\n",
       "      <td>0.187684</td>\n",
       "      <td>1.560404e-01</td>\n",
       "      <td>0.139955</td>\n",
       "    </tr>\n",
       "    <tr>\n",
       "      <th>RBP</th>\n",
       "      <td>0.081261</td>\n",
       "      <td>4.882812e-04</td>\n",
       "      <td>0.163514</td>\n",
       "    </tr>\n",
       "    <tr>\n",
       "      <th>RecipRank</th>\n",
       "      <td>0.207395</td>\n",
       "      <td>9.090909e-02</td>\n",
       "      <td>0.285323</td>\n",
       "    </tr>\n",
       "    <tr>\n",
       "      <th rowspan=\"3\" valign=\"top\">UUE</th>\n",
       "      <th>NDCG</th>\n",
       "      <td>0.035936</td>\n",
       "      <td>4.283597e-02</td>\n",
       "      <td>0.042351</td>\n",
       "    </tr>\n",
       "    <tr>\n",
       "      <th>RBP</th>\n",
       "      <td>0.000128</td>\n",
       "      <td>5.048710e-29</td>\n",
       "      <td>0.001650</td>\n",
       "    </tr>\n",
       "    <tr>\n",
       "      <th>RecipRank</th>\n",
       "      <td>0.013789</td>\n",
       "      <td>1.063830e-02</td>\n",
       "      <td>0.021431</td>\n",
       "    </tr>\n",
       "  </tbody>\n",
       "</table>\n",
       "</div>"
      ],
      "text/plain": [
       "                     mean        median       std\n",
       "model                                            \n",
       "ALS   NDCG       0.076304  4.974829e-02  0.091255\n",
       "      RBP        0.022969  6.938894e-18  0.091461\n",
       "      RecipRank  0.075490  1.754386e-02  0.176918\n",
       "Bias  NDCG       0.077457  5.312220e-02  0.090349\n",
       "      RBP        0.016942  1.776357e-15  0.073437\n",
       "      RecipRank  0.068016  2.040816e-02  0.147820\n",
       "IALS  NDCG       0.290632  2.467713e-01  0.175422\n",
       "      RBP        0.114411  3.906280e-03  0.198986\n",
       "      RecipRank  0.257057  1.250000e-01  0.306638\n",
       "IIE   NDCG       0.057488  4.467052e-02  0.070846\n",
       "      RBP        0.007631  8.271806e-25  0.049530\n",
       "      RecipRank  0.039690  1.250000e-02  0.104957\n",
       "III   NDCG       0.291569  2.521752e-01  0.193535\n",
       "      RBP        0.185973  3.125004e-02  0.246712\n",
       "      RecipRank  0.366979  2.000000e-01  0.378522\n",
       "Pop   NDCG       0.187684  1.560404e-01  0.139955\n",
       "      RBP        0.081261  4.882812e-04  0.163514\n",
       "      RecipRank  0.207395  9.090909e-02  0.285323\n",
       "UUE   NDCG       0.035936  4.283597e-02  0.042351\n",
       "      RBP        0.000128  5.048710e-29  0.001650\n",
       "      RecipRank  0.013789  1.063830e-02  0.021431"
      ]
     },
     "execution_count": 13,
     "metadata": {},
     "output_type": "execute_result"
    }
   ],
   "source": [
    "ra = RunAnalysis()\n",
    "\n",
    "ra.add_metric(NDCG())\n",
    "ra.add_metric(RecipRank())\n",
    "ra.add_metric(RBP())\n",
    "\n",
    "rec_results = ra.compute(recs, test)\n",
    "rec_results.list_summary('model')"
   ]
  },
  {
   "cell_type": "markdown",
   "id": "b17ba3e5",
   "metadata": {
    "papermill": {
     "duration": 0.009011,
     "end_time": "2024-12-07T21:14:13.652946",
     "exception": false,
     "start_time": "2024-12-07T21:14:13.643935",
     "status": "completed"
    },
    "tags": []
   },
   "source": [
    "We can reshape the list metrics and plot them:"
   ]
  },
  {
   "cell_type": "code",
   "execution_count": 14,
   "id": "5c479b59",
   "metadata": {
    "execution": {
     "iopub.execute_input": "2024-12-07T21:14:13.657096Z",
     "iopub.status.busy": "2024-12-07T21:14:13.657015Z",
     "iopub.status.idle": "2024-12-07T21:14:14.017733Z",
     "shell.execute_reply": "2024-12-07T21:14:14.017491Z"
    },
    "papermill": {
     "duration": 0.363929,
     "end_time": "2024-12-07T21:14:14.018322",
     "exception": false,
     "start_time": "2024-12-07T21:14:13.654393",
     "status": "completed"
    },
    "tags": []
   },
   "outputs": [
    {
     "data": {
      "image/png": "[encoded data removed]",
      "text/plain": [
       "<Figure size 1511.11x500 with 3 Axes>"
      ]
     },
     "metadata": {},
     "output_type": "display_data"
    }
   ],
   "source": [
    "metrics = rec_results.list_metrics()\n",
    "metrics = metrics.melt(var_name='metric', ignore_index=False).reset_index()\n",
    "sns.catplot(metrics, x='model', y='value', col='metric', kind='bar')\n",
    "plt.show()"
   ]
  },
  {
   "cell_type": "markdown",
   "id": "904ccd24",
   "metadata": {
    "papermill": {
     "duration": 0.009058,
     "end_time": "2024-12-07T21:14:14.029109",
     "exception": false,
     "start_time": "2024-12-07T21:14:14.020051",
     "status": "completed"
    },
    "tags": []
   },
   "source": [
    "## Prediction RMSE\n",
    "\n",
    "We will also look at the prediction RMSE."
   ]
  },
  {
   "cell_type": "code",
   "execution_count": 15,
   "id": "ca056d28",
   "metadata": {
    "execution": {
     "iopub.execute_input": "2024-12-07T21:14:14.032939Z",
     "iopub.status.busy": "2024-12-07T21:14:14.032799Z",
     "iopub.status.idle": "2024-12-07T21:14:15.337640Z",
     "shell.execute_reply": "2024-12-07T21:14:15.337489Z"
    },
    "papermill": {
     "duration": 1.307343,
     "end_time": "2024-12-07T21:14:15.338072",
     "exception": false,
     "start_time": "2024-12-07T21:14:14.030729",
     "status": "completed"
    },
    "tags": []
   },
   "outputs": [
    {
     "name": "stderr",
     "output_type": "stream",
     "text": [
      "/home/mde48/lenskit/lkpy/lenskit/lenskit/metrics/bulk.py:116: FutureWarning: The previous implementation of stack is deprecated and will be removed in a future version of pandas. See the What's New notes for pandas 2.1.0 for details. Specify future_stack=True to adopt the new implementation and silence this warning.\n",
      "  df = scores.groupby(list(keys)).agg([\"mean\", \"median\", \"std\"]).stack(level=0)\n"
     ]
    },
    {
     "data": {
      "text/html": [
       "<div>\n",
       "<style scoped>\n",
       "    .dataframe tbody tr th:only-of-type {\n",
       "        vertical-align: middle;\n",
       "    }\n",
       "\n",
       "    .dataframe tbody tr th {\n",
       "        vertical-align: top;\n",
       "    }\n",
       "\n",
       "    .dataframe thead th {\n",
       "        text-align: right;\n",
       "    }\n",
       "</style>\n",
       "<table border=\"1\" class=\"dataframe\">\n",
       "  <thead>\n",
       "    <tr style=\"text-align: right;\">\n",
       "      <th></th>\n",
       "      <th></th>\n",
       "      <th>mean</th>\n",
       "      <th>median</th>\n",
       "      <th>std</th>\n",
       "    </tr>\n",
       "    <tr>\n",
       "      <th>model</th>\n",
       "      <th></th>\n",
       "      <th></th>\n",
       "      <th></th>\n",
       "      <th></th>\n",
       "    </tr>\n",
       "  </thead>\n",
       "  <tbody>\n",
       "    <tr>\n",
       "      <th>ALS</th>\n",
       "      <th>RMSE</th>\n",
       "      <td>0.883977</td>\n",
       "      <td>0.829830</td>\n",
       "      <td>0.337821</td>\n",
       "    </tr>\n",
       "    <tr>\n",
       "      <th>Bias</th>\n",
       "      <th>RMSE</th>\n",
       "      <td>0.909377</td>\n",
       "      <td>0.867472</td>\n",
       "      <td>0.344338</td>\n",
       "    </tr>\n",
       "    <tr>\n",
       "      <th>IIE</th>\n",
       "      <th>RMSE</th>\n",
       "      <td>0.874066</td>\n",
       "      <td>0.824863</td>\n",
       "      <td>0.343443</td>\n",
       "    </tr>\n",
       "    <tr>\n",
       "      <th>UUE</th>\n",
       "      <th>RMSE</th>\n",
       "      <td>0.895035</td>\n",
       "      <td>0.842309</td>\n",
       "      <td>0.358073</td>\n",
       "    </tr>\n",
       "  </tbody>\n",
       "</table>\n",
       "</div>"
      ],
      "text/plain": [
       "                mean    median       std\n",
       "model                                   \n",
       "ALS   RMSE  0.883977  0.829830  0.337821\n",
       "Bias  RMSE  0.909377  0.867472  0.344338\n",
       "IIE   RMSE  0.874066  0.824863  0.343443\n",
       "UUE   RMSE  0.895035  0.842309  0.358073"
      ]
     },
     "execution_count": 15,
     "metadata": {},
     "output_type": "execute_result"
    }
   ],
   "source": [
    "pa = RunAnalysis()\n",
    "\n",
    "pa.add_metric(RMSE(missing_scores='ignore', missing_truth='ignore'))\n",
    "\n",
    "pred_results = pa.compute(preds, test)\n",
    "pred_results.list_summary('model')"
   ]
  },
  {
   "cell_type": "code",
   "execution_count": 16,
   "id": "0626a38e",
   "metadata": {
    "execution": {
     "iopub.execute_input": "2024-12-07T21:14:15.349174Z",
     "iopub.status.busy": "2024-12-07T21:14:15.349086Z",
     "iopub.status.idle": "2024-12-07T21:14:15.432808Z",
     "shell.execute_reply": "2024-12-07T21:14:15.432580Z"
    },
    "papermill": {
     "duration": 0.093566,
     "end_time": "2024-12-07T21:14:15.433348",
     "exception": false,
     "start_time": "2024-12-07T21:14:15.339782",
     "status": "completed"
    },
    "tags": []
   },
   "outputs": [
    {
     "data": {
      "image/png": "[encoded data removed]",
      "text/plain": [
       "<Figure size 511.111x500 with 1 Axes>"
      ]
     },
     "metadata": {},
     "output_type": "display_data"
    }
   ],
   "source": [
    "sns.catplot(pred_results.list_metrics().reset_index(), x='model', y='RMSE', kind='bar')\n",
    "plt.show()"
   ]
  },
  {
   "cell_type": "markdown",
   "id": "c635bf68",
   "metadata": {
    "papermill": {
     "duration": 0.001692,
     "end_time": "2024-12-07T21:14:15.436722",
     "exception": false,
     "start_time": "2024-12-07T21:14:15.435030",
     "status": "completed"
    },
    "tags": []
   },
   "source": [
    "## Save Metrics\n",
    "\n",
    "We'll now save the metrics to a file."
   ]
  },
  {
   "cell_type": "code",
   "execution_count": 17,
   "id": "d1d7f624",
   "metadata": {
    "execution": {
     "iopub.execute_input": "2024-12-07T21:14:15.440648Z",
     "iopub.status.busy": "2024-12-07T21:14:15.440570Z",
     "iopub.status.idle": "2024-12-07T21:14:15.447129Z",
     "shell.execute_reply": "2024-12-07T21:14:15.446991Z"
    },
    "papermill": {
     "duration": 0.009116,
     "end_time": "2024-12-07T21:14:15.447516",
     "exception": false,
     "start_time": "2024-12-07T21:14:15.438400",
     "status": "completed"
    },
    "tags": []
   },
   "outputs": [
    {
     "name": "stderr",
     "output_type": "stream",
     "text": [
      "/home/mde48/lenskit/lkpy/lenskit/lenskit/metrics/bulk.py:116: FutureWarning: The previous implementation of stack is deprecated and will be removed in a future version of pandas. See the What's New notes for pandas 2.1.0 for details. Specify future_stack=True to adopt the new implementation and silence this warning.\n",
      "  df = scores.groupby(list(keys)).agg([\"mean\", \"median\", \"std\"]).stack(level=0)\n"
     ]
    },
    {
     "data": {
      "text/html": [
       "<div>\n",
       "<style scoped>\n",
       "    .dataframe tbody tr th:only-of-type {\n",
       "        vertical-align: middle;\n",
       "    }\n",
       "\n",
       "    .dataframe tbody tr th {\n",
       "        vertical-align: top;\n",
       "    }\n",
       "\n",
       "    .dataframe thead th {\n",
       "        text-align: right;\n",
       "    }\n",
       "</style>\n",
       "<table border=\"1\" class=\"dataframe\">\n",
       "  <thead>\n",
       "    <tr style=\"text-align: right;\">\n",
       "      <th></th>\n",
       "      <th>NDCG</th>\n",
       "      <th>RBP</th>\n",
       "      <th>RecipRank</th>\n",
       "    </tr>\n",
       "    <tr>\n",
       "      <th>model</th>\n",
       "      <th></th>\n",
       "      <th></th>\n",
       "      <th></th>\n",
       "    </tr>\n",
       "  </thead>\n",
       "  <tbody>\n",
       "    <tr>\n",
       "      <th>ALS</th>\n",
       "      <td>0.076304</td>\n",
       "      <td>0.022969</td>\n",
       "      <td>0.075490</td>\n",
       "    </tr>\n",
       "    <tr>\n",
       "      <th>Bias</th>\n",
       "      <td>0.077457</td>\n",
       "      <td>0.016942</td>\n",
       "      <td>0.068016</td>\n",
       "    </tr>\n",
       "    <tr>\n",
       "      <th>IALS</th>\n",
       "      <td>0.290632</td>\n",
       "      <td>0.114411</td>\n",
       "      <td>0.257057</td>\n",
       "    </tr>\n",
       "    <tr>\n",
       "      <th>IIE</th>\n",
       "      <td>0.057488</td>\n",
       "      <td>0.007631</td>\n",
       "      <td>0.039690</td>\n",
       "    </tr>\n",
       "    <tr>\n",
       "      <th>III</th>\n",
       "      <td>0.291569</td>\n",
       "      <td>0.185973</td>\n",
       "      <td>0.366979</td>\n",
       "    </tr>\n",
       "    <tr>\n",
       "      <th>Pop</th>\n",
       "      <td>0.187684</td>\n",
       "      <td>0.081261</td>\n",
       "      <td>0.207395</td>\n",
       "    </tr>\n",
       "    <tr>\n",
       "      <th>UUE</th>\n",
       "      <td>0.035936</td>\n",
       "      <td>0.000128</td>\n",
       "      <td>0.013789</td>\n",
       "    </tr>\n",
       "  </tbody>\n",
       "</table>\n",
       "</div>"
      ],
      "text/plain": [
       "           NDCG       RBP  RecipRank\n",
       "model                               \n",
       "ALS    0.076304  0.022969   0.075490\n",
       "Bias   0.077457  0.016942   0.068016\n",
       "IALS   0.290632  0.114411   0.257057\n",
       "IIE    0.057488  0.007631   0.039690\n",
       "III    0.291569  0.185973   0.366979\n",
       "Pop    0.187684  0.081261   0.207395\n",
       "UUE    0.035936  0.000128   0.013789"
      ]
     },
     "execution_count": 17,
     "metadata": {},
     "output_type": "execute_result"
    }
   ],
   "source": [
    "rlsum = rec_results.list_summary('model')['mean'].unstack()\n",
    "rlsum"
   ]
  },
  {
   "cell_type": "code",
   "execution_count": 18,
   "id": "f564b364",
   "metadata": {
    "execution": {
     "iopub.execute_input": "2024-12-07T21:14:15.451350Z",
     "iopub.status.busy": "2024-12-07T21:14:15.451246Z",
     "iopub.status.idle": "2024-12-07T21:14:15.453475Z",
     "shell.execute_reply": "2024-12-07T21:14:15.453305Z"
    },
    "papermill": {
     "duration": 0.004531,
     "end_time": "2024-12-07T21:14:15.453798",
     "exception": false,
     "start_time": "2024-12-07T21:14:15.449267",
     "status": "completed"
    },
    "tags": []
   },
   "outputs": [],
   "source": [
    "rlsum.to_json(f'eval-metrics.{dataset}.json', orient='index')"
   ]
  }
 ],
 "metadata": {
  "jupytext": {
   "formats": "ipynb,md",
   "notebook_metadata_filter": "split_at_heading"
  },
  "kernelspec": {
   "display_name": "Python 3 (ipykernel)",
   "language": "python",
   "name": "python3"
  },
  "language_info": {
   "codemirror_mode": {
    "name": "ipython",
    "version": 3
   },
   "file_extension": ".py",
   "mimetype": "text/x-python",
   "name": "python",
   "nbconvert_exporter": "python",
   "pygments_lexer": "ipython3",
   "version": "3.12.7"
  },
  "papermill": {
   "default_parameters": {},
   "duration": 6.422385,
   "end_time": "2024-12-07T21:14:15.869341",
   "environment_variables": {},
   "exception": null,
   "input_path": "eval-report.ipynb",
   "output_path": "eval-report.ml100k.ipynb",
   "parameters": {
    "dataset": "ml100k"
   },
   "start_time": "2024-12-07T21:14:09.446956",
   "version": "2.6.0"
  },
  "split_at_heading": true
 },
 "nbformat": 4,
 "nbformat_minor": 5
}