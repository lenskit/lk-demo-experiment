{
 "cells": [
  {
   "cell_type": "markdown",
   "id": "e7fb16b5",
   "metadata": {
    "papermill": {
     "duration": 0.027014,
     "end_time": "2022-02-16T19:04:06.547596",
     "exception": false,
     "start_time": "2022-02-16T19:04:06.520582",
     "status": "completed"
    },
    "tags": []
   },
   "source": [
    "# Evaluation Analysis for Recommender Output"
   ]
  },
  {
   "cell_type": "markdown",
   "id": "09fee9e2",
   "metadata": {
    "papermill": {
     "duration": 0.025967,
     "end_time": "2022-02-16T19:04:06.598570",
     "exception": false,
     "start_time": "2022-02-16T19:04:06.572603",
     "status": "completed"
    },
    "tags": []
   },
   "source": [
    "In this section we will analyze and compare the generated recommendations and predictions from a predefined list of algorithms with the goal of assessing the performance of each algorithm with respect to a metric. In other words, we would rank the algorithms for each metric considered with respect to performance."
   ]
  },
  {
   "cell_type": "markdown",
   "id": "8a6caafa",
   "metadata": {
    "papermill": {
     "duration": 0.024997,
     "end_time": "2022-02-16T19:04:06.647568",
     "exception": false,
     "start_time": "2022-02-16T19:04:06.622571",
     "status": "completed"
    },
    "tags": []
   },
   "source": [
    "# Setup"
   ]
  },
  {
   "cell_type": "markdown",
   "id": "009944b0",
   "metadata": {
    "papermill": {
     "duration": 0.04,
     "end_time": "2022-02-16T19:04:06.718570",
     "exception": false,
     "start_time": "2022-02-16T19:04:06.678570",
     "status": "completed"
    },
    "tags": []
   },
   "source": [
    "Below are the list of packages required to successfully run the analysis. They are divided into partitions to signify their specific task.<br>\n",
    "We need the pathlib package for working with files and folders"
   ]
  },
  {
   "cell_type": "code",
   "execution_count": 1,
   "id": "db873bd7",
   "metadata": {
    "execution": {
     "iopub.execute_input": "2022-02-16T19:04:06.805163Z",
     "iopub.status.busy": "2022-02-16T19:04:06.804165Z",
     "iopub.status.idle": "2022-02-16T19:04:06.829163Z",
     "shell.execute_reply": "2022-02-16T19:04:06.829163Z"
    },
    "papermill": {
     "duration": 0.065595,
     "end_time": "2022-02-16T19:04:06.831164",
     "exception": false,
     "start_time": "2022-02-16T19:04:06.765569",
     "status": "completed"
    },
    "tags": []
   },
   "outputs": [],
   "source": [
    "from pathlib import Path"
   ]
  },
  {
   "cell_type": "markdown",
   "id": "4a89cda3",
   "metadata": {
    "papermill": {
     "duration": 0.051003,
     "end_time": "2022-02-16T19:04:06.931170",
     "exception": false,
     "start_time": "2022-02-16T19:04:06.880167",
     "status": "completed"
    },
    "tags": []
   },
   "source": [
    "We would use the pandas for analyzing and manipulating our data while seaborn and matplotlib are used for data visualization. statsmodels.graphics.gofplots and scipy.stats.shapiro are used for normality check. Scipy.stats.friedmanchisquare is a non-parametric test used to determine the statistical significance in metric results and the wilcoxon test is used for pairwise comparison of sample data."
   ]
  },
  {
   "cell_type": "code",
   "execution_count": 2,
   "id": "b2ec3e50",
   "metadata": {
    "execution": {
     "iopub.execute_input": "2022-02-16T19:04:07.030181Z",
     "iopub.status.busy": "2022-02-16T19:04:07.029173Z",
     "iopub.status.idle": "2022-02-16T19:04:08.886225Z",
     "shell.execute_reply": "2022-02-16T19:04:08.886225Z"
    },
    "papermill": {
     "duration": 1.906003,
     "end_time": "2022-02-16T19:04:08.888165",
     "exception": false,
     "start_time": "2022-02-16T19:04:06.982162",
     "status": "completed"
    },
    "tags": []
   },
   "outputs": [],
   "source": [
    "import pandas as pd\n",
    "import seaborn as sns\n",
    "import matplotlib.pyplot as plt\n",
    "from statsmodels.graphics.gofplots import qqplot\n",
    "from scipy.stats import shapiro\n",
    "from scipy.stats import friedmanchisquare, wilcoxon\n",
    "from itertools import combinations"
   ]
  },
  {
   "cell_type": "markdown",
   "id": "9aac4a5e",
   "metadata": {
    "papermill": {
     "duration": 0.040006,
     "end_time": "2022-02-16T19:04:08.952168",
     "exception": false,
     "start_time": "2022-02-16T19:04:08.912162",
     "status": "completed"
    },
    "tags": []
   },
   "source": [
    "Logging to show what's happening in LensKit routines:"
   ]
  },
  {
   "cell_type": "code",
   "execution_count": 3,
   "id": "a3f212c3",
   "metadata": {
    "execution": {
     "iopub.execute_input": "2022-02-16T19:04:09.040163Z",
     "iopub.status.busy": "2022-02-16T19:04:09.039165Z",
     "iopub.status.idle": "2022-02-16T19:04:09.085193Z",
     "shell.execute_reply": "2022-02-16T19:04:09.085193Z"
    },
    "papermill": {
     "duration": 0.090934,
     "end_time": "2022-02-16T19:04:09.087162",
     "exception": false,
     "start_time": "2022-02-16T19:04:08.996228",
     "status": "completed"
    },
    "tags": []
   },
   "outputs": [
    {
     "name": "stdout",
     "output_type": "stream",
     "text": [
      "[   INFO] lenskit.util.log notebook logging configured\n"
     ]
    }
   ],
   "source": [
    "from lenskit import util\n",
    "util.log_to_notebook()"
   ]
  },
  {
   "cell_type": "code",
   "execution_count": 4,
   "id": "a722afc5",
   "metadata": {
    "execution": {
     "iopub.execute_input": "2022-02-16T19:04:09.139195Z",
     "iopub.status.busy": "2022-02-16T19:04:09.139195Z",
     "iopub.status.idle": "2022-02-16T19:04:09.146802Z",
     "shell.execute_reply": "2022-02-16T19:04:09.146196Z"
    },
    "papermill": {
     "duration": 0.034679,
     "end_time": "2022-02-16T19:04:09.147843",
     "exception": false,
     "start_time": "2022-02-16T19:04:09.113164",
     "status": "completed"
    },
    "tags": []
   },
   "outputs": [],
   "source": [
    "import logging\n",
    "_log = logging.getLogger('eval-report')"
   ]
  },
  {
   "cell_type": "markdown",
   "id": "09e4c3e0",
   "metadata": {
    "papermill": {
     "duration": 0.023635,
     "end_time": "2022-02-16T19:04:09.195648",
     "exception": false,
     "start_time": "2022-02-16T19:04:09.172013",
     "status": "completed"
    },
    "tags": []
   },
   "source": [
    "We will use lenskit for training, running, and evaluating recommender algorithms"
   ]
  },
  {
   "cell_type": "code",
   "execution_count": 5,
   "id": "536c1157",
   "metadata": {
    "execution": {
     "iopub.execute_input": "2022-02-16T19:04:09.244659Z",
     "iopub.status.busy": "2022-02-16T19:04:09.244659Z",
     "iopub.status.idle": "2022-02-16T19:04:09.255709Z",
     "shell.execute_reply": "2022-02-16T19:04:09.255709Z"
    },
    "papermill": {
     "duration": 0.036957,
     "end_time": "2022-02-16T19:04:09.256617",
     "exception": false,
     "start_time": "2022-02-16T19:04:09.219660",
     "status": "completed"
    },
    "tags": []
   },
   "outputs": [],
   "source": [
    "from lenskit import topn\n",
    "from lenskit.metrics.predict import rmse"
   ]
  },
  {
   "cell_type": "markdown",
   "id": "00077519",
   "metadata": {
    "papermill": {
     "duration": 0.025,
     "end_time": "2022-02-16T19:04:09.306647",
     "exception": false,
     "start_time": "2022-02-16T19:04:09.281647",
     "status": "completed"
    },
    "tags": []
   },
   "source": [
    "# Load Data"
   ]
  },
  {
   "cell_type": "markdown",
   "id": "a1cb68c3",
   "metadata": {
    "papermill": {
     "duration": 0.026,
     "end_time": "2022-02-16T19:04:09.357647",
     "exception": false,
     "start_time": "2022-02-16T19:04:09.331647",
     "status": "completed"
    },
    "tags": []
   },
   "source": [
    "We specify the dataset we will use for our analysis and the main directory from where we read the recommendation and prediction files. From the main directory we find all the directories associated with the dataset and then read the recommendation and predictions files from those directories."
   ]
  },
  {
   "cell_type": "code",
   "execution_count": 6,
   "id": "f4310718",
   "metadata": {
    "execution": {
     "iopub.execute_input": "2022-02-16T19:04:09.409652Z",
     "iopub.status.busy": "2022-02-16T19:04:09.409652Z",
     "iopub.status.idle": "2022-02-16T19:04:09.414619Z",
     "shell.execute_reply": "2022-02-16T19:04:09.413710Z"
    },
    "papermill": {
     "duration": 0.033,
     "end_time": "2022-02-16T19:04:09.416615",
     "exception": false,
     "start_time": "2022-02-16T19:04:09.383615",
     "status": "completed"
    },
    "tags": [
     "parameters"
    ]
   },
   "outputs": [],
   "source": [
    "dataset = \"ml100k\""
   ]
  },
  {
   "cell_type": "code",
   "execution_count": 7,
   "id": "8d554e55",
   "metadata": {
    "execution": {
     "iopub.execute_input": "2022-02-16T19:04:09.492617Z",
     "iopub.status.busy": "2022-02-16T19:04:09.491619Z",
     "iopub.status.idle": "2022-02-16T19:04:09.510629Z",
     "shell.execute_reply": "2022-02-16T19:04:09.509632Z"
    },
    "papermill": {
     "duration": 0.062003,
     "end_time": "2022-02-16T19:04:09.512618",
     "exception": false,
     "start_time": "2022-02-16T19:04:09.450615",
     "status": "completed"
    },
    "tags": [
     "injected-parameters"
    ]
   },
   "outputs": [],
   "source": [
    "# Parameters\n",
    "dataset = \"ml100k\"\n"
   ]
  },
  {
   "cell_type": "code",
   "execution_count": 8,
   "id": "9dbd9f50",
   "metadata": {
    "execution": {
     "iopub.execute_input": "2022-02-16T19:04:09.579646Z",
     "iopub.status.busy": "2022-02-16T19:04:09.579646Z",
     "iopub.status.idle": "2022-02-16T19:04:09.589613Z",
     "shell.execute_reply": "2022-02-16T19:04:09.588641Z"
    },
    "papermill": {
     "duration": 0.038012,
     "end_time": "2022-02-16T19:04:09.590647",
     "exception": false,
     "start_time": "2022-02-16T19:04:09.552635",
     "status": "completed"
    },
    "tags": []
   },
   "outputs": [],
   "source": [
    "output_root = Path(\"runs\")"
   ]
  },
  {
   "cell_type": "code",
   "execution_count": 9,
   "id": "7983281a",
   "metadata": {
    "execution": {
     "iopub.execute_input": "2022-02-16T19:04:09.642615Z",
     "iopub.status.busy": "2022-02-16T19:04:09.642615Z",
     "iopub.status.idle": "2022-02-16T19:04:09.651667Z",
     "shell.execute_reply": "2022-02-16T19:04:09.651667Z"
    },
    "papermill": {
     "duration": 0.037999,
     "end_time": "2022-02-16T19:04:09.653644",
     "exception": false,
     "start_time": "2022-02-16T19:04:09.615645",
     "status": "completed"
    },
    "tags": []
   },
   "outputs": [],
   "source": [
    "dirs = [fld for fld in output_root.glob(f'{dataset}-*')]"
   ]
  },
  {
   "cell_type": "code",
   "execution_count": 10,
   "id": "74175263",
   "metadata": {
    "execution": {
     "iopub.execute_input": "2022-02-16T19:04:09.701645Z",
     "iopub.status.busy": "2022-02-16T19:04:09.701645Z",
     "iopub.status.idle": "2022-02-16T19:04:10.233144Z",
     "shell.execute_reply": "2022-02-16T19:04:10.233144Z"
    },
    "papermill": {
     "duration": 0.556405,
     "end_time": "2022-02-16T19:04:10.234050",
     "exception": false,
     "start_time": "2022-02-16T19:04:09.677645",
     "status": "completed"
    },
    "tags": []
   },
   "outputs": [
    {
     "name": "stdout",
     "output_type": "stream",
     "text": [
      "<class 'pandas.core.frame.DataFrame'>\n",
      "RangeIndex: 660100 entries, 0 to 660099\n",
      "Data columns (total 5 columns):\n",
      " #   Column     Non-Null Count   Dtype   \n",
      "---  ------     --------------   -----   \n",
      " 0   item       660100 non-null  int64   \n",
      " 1   score      660100 non-null  float64 \n",
      " 2   user       660100 non-null  int64   \n",
      " 3   rank       660100 non-null  int64   \n",
      " 4   algorithm  660100 non-null  category\n",
      "dtypes: category(1), float64(1), int64(3)\n",
      "memory usage: 20.8 MB\n"
     ]
    }
   ],
   "source": [
    "recs = []\n",
    "for fld in dirs: \n",
    "    for file in fld.glob(\"recs-*\"):\n",
    "        rec = pd.read_csv(file, sep=',')\n",
    "        rec[\"algorithm\"] = fld.name.split(\"-\")[1]\n",
    "        recs.append(rec)\n",
    "\n",
    "recs = pd.concat(recs, ignore_index=True)\n",
    "recs = recs.astype({'algorithm': 'category'})\n",
    "recs.info()"
   ]
  },
  {
   "cell_type": "code",
   "execution_count": 11,
   "id": "c6c751f6",
   "metadata": {
    "execution": {
     "iopub.execute_input": "2022-02-16T19:04:10.286049Z",
     "iopub.status.busy": "2022-02-16T19:04:10.286049Z",
     "iopub.status.idle": "2022-02-16T19:04:10.311048Z",
     "shell.execute_reply": "2022-02-16T19:04:10.310083Z"
    },
    "papermill": {
     "duration": 0.053002,
     "end_time": "2022-02-16T19:04:10.312084",
     "exception": false,
     "start_time": "2022-02-16T19:04:10.259082",
     "status": "completed"
    },
    "tags": []
   },
   "outputs": [
    {
     "data": {
      "text/plain": [
       "['ALS', 'Bias', 'IALS', 'IIE', 'III', 'Pop', 'UUE']\n",
       "Categories (7, object): ['ALS', 'Bias', 'IALS', 'IIE', 'III', 'Pop', 'UUE']"
      ]
     },
     "execution_count": 11,
     "metadata": {},
     "output_type": "execute_result"
    }
   ],
   "source": [
    "rec_algos = recs['algorithm'].unique()\n",
    "rec_algos"
   ]
  },
  {
   "cell_type": "code",
   "execution_count": 12,
   "id": "3873da93",
   "metadata": {
    "execution": {
     "iopub.execute_input": "2022-02-16T19:04:10.364082Z",
     "iopub.status.busy": "2022-02-16T19:04:10.364082Z",
     "iopub.status.idle": "2022-02-16T19:04:10.436048Z",
     "shell.execute_reply": "2022-02-16T19:04:10.435049Z"
    },
    "papermill": {
     "duration": 0.101965,
     "end_time": "2022-02-16T19:04:10.439048",
     "exception": false,
     "start_time": "2022-02-16T19:04:10.337083",
     "status": "completed"
    },
    "tags": []
   },
   "outputs": [
    {
     "name": "stdout",
     "output_type": "stream",
     "text": [
      "<class 'pandas.core.frame.DataFrame'>\n",
      "RangeIndex: 18860 entries, 0 to 18859\n",
      "Data columns (total 6 columns):\n",
      " #   Column      Non-Null Count  Dtype   \n",
      "---  ------      --------------  -----   \n",
      " 0   user        18860 non-null  int64   \n",
      " 1   item        18860 non-null  int64   \n",
      " 2   rating      18860 non-null  float64 \n",
      " 3   timestamp   18860 non-null  int64   \n",
      " 4   prediction  18850 non-null  float64 \n",
      " 5   algorithm   18860 non-null  category\n",
      "dtypes: category(1), float64(2), int64(3)\n",
      "memory usage: 755.5 KB\n"
     ]
    }
   ],
   "source": [
    "preds = []\n",
    "for fld in dirs:\n",
    "    for file in fld.glob(\"pred-*\"):\n",
    "        pred = pd.read_csv(file, sep=',')\n",
    "        pred[\"algorithm\"] = fld.name.split(\"-\")[1]\n",
    "        preds.append(pred)\n",
    "\n",
    "preds = pd.concat(preds, ignore_index=True)\n",
    "preds = preds.astype({'algorithm': 'category'})\n",
    "preds.info()"
   ]
  },
  {
   "cell_type": "markdown",
   "id": "bfd180cd",
   "metadata": {
    "papermill": {
     "duration": 0.049,
     "end_time": "2022-02-16T19:04:10.535050",
     "exception": false,
     "start_time": "2022-02-16T19:04:10.486050",
     "status": "completed"
    },
    "tags": []
   },
   "source": [
    "We need to load the test data so that we have the ground truths for computing accuracy "
   ]
  },
  {
   "cell_type": "code",
   "execution_count": 13,
   "id": "7a132e47",
   "metadata": {
    "execution": {
     "iopub.execute_input": "2022-02-16T19:04:10.624050Z",
     "iopub.status.busy": "2022-02-16T19:04:10.624050Z",
     "iopub.status.idle": "2022-02-16T19:04:10.640068Z",
     "shell.execute_reply": "2022-02-16T19:04:10.639049Z"
    },
    "papermill": {
     "duration": 0.06699,
     "end_time": "2022-02-16T19:04:10.643047",
     "exception": false,
     "start_time": "2022-02-16T19:04:10.576057",
     "status": "completed"
    },
    "tags": []
   },
   "outputs": [],
   "source": [
    "split_root = Path(\"data-split\")\n",
    "split_dir = split_root / dataset"
   ]
  },
  {
   "cell_type": "code",
   "execution_count": 14,
   "id": "1ee3f7cc",
   "metadata": {
    "execution": {
     "iopub.execute_input": "2022-02-16T19:04:10.728071Z",
     "iopub.status.busy": "2022-02-16T19:04:10.728071Z",
     "iopub.status.idle": "2022-02-16T19:04:10.768113Z",
     "shell.execute_reply": "2022-02-16T19:04:10.767102Z"
    },
    "papermill": {
     "duration": 0.081015,
     "end_time": "2022-02-16T19:04:10.770078",
     "exception": false,
     "start_time": "2022-02-16T19:04:10.689063",
     "status": "completed"
    },
    "tags": []
   },
   "outputs": [
    {
     "data": {
      "text/html": [
       "<div>\n",
       "<style scoped>\n",
       "    .dataframe tbody tr th:only-of-type {\n",
       "        vertical-align: middle;\n",
       "    }\n",
       "\n",
       "    .dataframe tbody tr th {\n",
       "        vertical-align: top;\n",
       "    }\n",
       "\n",
       "    .dataframe thead th {\n",
       "        text-align: right;\n",
       "    }\n",
       "</style>\n",
       "<table border=\"1\" class=\"dataframe\">\n",
       "  <thead>\n",
       "    <tr style=\"text-align: right;\">\n",
       "      <th></th>\n",
       "      <th>user</th>\n",
       "      <th>item</th>\n",
       "      <th>rating</th>\n",
       "      <th>timestamp</th>\n",
       "      <th>part</th>\n",
       "    </tr>\n",
       "    <tr>\n",
       "      <th>index</th>\n",
       "      <th></th>\n",
       "      <th></th>\n",
       "      <th></th>\n",
       "      <th></th>\n",
       "      <th></th>\n",
       "    </tr>\n",
       "  </thead>\n",
       "  <tbody>\n",
       "    <tr>\n",
       "      <th>29559</th>\n",
       "      <td>7</td>\n",
       "      <td>446</td>\n",
       "      <td>2.0</td>\n",
       "      <td>892132020</td>\n",
       "      <td>test-1</td>\n",
       "    </tr>\n",
       "    <tr>\n",
       "      <th>22535</th>\n",
       "      <td>7</td>\n",
       "      <td>660</td>\n",
       "      <td>5.0</td>\n",
       "      <td>891353051</td>\n",
       "      <td>test-1</td>\n",
       "    </tr>\n",
       "    <tr>\n",
       "      <th>16984</th>\n",
       "      <td>7</td>\n",
       "      <td>259</td>\n",
       "      <td>3.0</td>\n",
       "      <td>891350464</td>\n",
       "      <td>test-1</td>\n",
       "    </tr>\n",
       "    <tr>\n",
       "      <th>53087</th>\n",
       "      <td>7</td>\n",
       "      <td>513</td>\n",
       "      <td>4.0</td>\n",
       "      <td>891351772</td>\n",
       "      <td>test-1</td>\n",
       "    </tr>\n",
       "    <tr>\n",
       "      <th>28431</th>\n",
       "      <td>7</td>\n",
       "      <td>391</td>\n",
       "      <td>3.0</td>\n",
       "      <td>892132943</td>\n",
       "      <td>test-1</td>\n",
       "    </tr>\n",
       "  </tbody>\n",
       "</table>\n",
       "</div>"
      ],
      "text/plain": [
       "       user  item  rating  timestamp    part\n",
       "index                                       \n",
       "29559     7   446     2.0  892132020  test-1\n",
       "22535     7   660     5.0  891353051  test-1\n",
       "16984     7   259     3.0  891350464  test-1\n",
       "53087     7   513     4.0  891351772  test-1\n",
       "28431     7   391     3.0  892132943  test-1"
      ]
     },
     "execution_count": 14,
     "metadata": {},
     "output_type": "execute_result"
    }
   ],
   "source": [
    "test = []\n",
    "for file in split_dir.glob(\"test-*.csv.gz\"):\n",
    "    test.append(pd.read_csv(file, sep=',', index_col='index').assign(part=file.stem.replace('.csv', '')))\n",
    "\n",
    "test = pd.concat(test)\n",
    "test.head()"
   ]
  },
  {
   "cell_type": "markdown",
   "id": "1c784c21",
   "metadata": {
    "papermill": {
     "duration": 0.031611,
     "end_time": "2022-02-16T19:04:10.835658",
     "exception": false,
     "start_time": "2022-02-16T19:04:10.804047",
     "status": "completed"
    },
    "tags": []
   },
   "source": [
    "# Top-N Metrics"
   ]
  },
  {
   "cell_type": "markdown",
   "id": "340a2cf2",
   "metadata": {
    "papermill": {
     "duration": 0.029,
     "end_time": "2022-02-16T19:04:10.893688",
     "exception": false,
     "start_time": "2022-02-16T19:04:10.864688",
     "status": "completed"
    },
    "tags": []
   },
   "source": [
    "The topn.RecListAnalysis class computes top-N metrics for recommendation list and takes care of making sure that the recommendations and ground truths are properly matched. Refer to the documentation for detailed explanation of the purpose for the RecListAnalysis class and how the analysis is done - https://lkpy.lenskit.org/en/stable/evaluation/topn-metrics.html "
   ]
  },
  {
   "cell_type": "code",
   "execution_count": 15,
   "id": "06bade84",
   "metadata": {
    "execution": {
     "iopub.execute_input": "2022-02-16T19:04:10.951714Z",
     "iopub.status.busy": "2022-02-16T19:04:10.951714Z",
     "iopub.status.idle": "2022-02-16T19:04:11.721578Z",
     "shell.execute_reply": "2022-02-16T19:04:11.721578Z"
    },
    "papermill": {
     "duration": 0.802897,
     "end_time": "2022-02-16T19:04:11.723586",
     "exception": false,
     "start_time": "2022-02-16T19:04:10.920689",
     "status": "completed"
    },
    "tags": []
   },
   "outputs": [
    {
     "name": "stdout",
     "output_type": "stream",
     "text": [
      "[   INFO] lenskit.topn analyzing 660100 recommendations (4715 truth rows)\n"
     ]
    },
    {
     "name": "stdout",
     "output_type": "stream",
     "text": [
      "[   INFO] lenskit.topn using rec key columns ['algorithm', 'user']\n"
     ]
    },
    {
     "name": "stdout",
     "output_type": "stream",
     "text": [
      "[   INFO] lenskit.topn using truth key columns ['user']\n"
     ]
    },
    {
     "name": "stdout",
     "output_type": "stream",
     "text": [
      "[   INFO] lenskit.topn numbering truth lists\n"
     ]
    },
    {
     "name": "stdout",
     "output_type": "stream",
     "text": [
      "[   INFO] lenskit.topn numbering rec lists\n"
     ]
    },
    {
     "name": "stdout",
     "output_type": "stream",
     "text": [
      "[   INFO] lenskit.topn collecting metric results\n"
     ]
    },
    {
     "name": "stdout",
     "output_type": "stream",
     "text": [
      "[   INFO] lenskit.topn measured 6601 lists in  520ms\n"
     ]
    },
    {
     "name": "stdout",
     "output_type": "stream",
     "text": [
      "[   INFO] lenskit.topn filling in missing user info (6601 initial rows)\n"
     ]
    },
    {
     "data": {
      "text/html": [
       "<div>\n",
       "<style scoped>\n",
       "    .dataframe tbody tr th:only-of-type {\n",
       "        vertical-align: middle;\n",
       "    }\n",
       "\n",
       "    .dataframe tbody tr th {\n",
       "        vertical-align: top;\n",
       "    }\n",
       "\n",
       "    .dataframe thead th {\n",
       "        text-align: right;\n",
       "    }\n",
       "</style>\n",
       "<table border=\"1\" class=\"dataframe\">\n",
       "  <thead>\n",
       "    <tr style=\"text-align: right;\">\n",
       "      <th></th>\n",
       "      <th></th>\n",
       "      <th>nrecs</th>\n",
       "      <th>precision</th>\n",
       "      <th>recip_rank</th>\n",
       "      <th>ndcg</th>\n",
       "      <th>ntruth</th>\n",
       "    </tr>\n",
       "    <tr>\n",
       "      <th>algorithm</th>\n",
       "      <th>user</th>\n",
       "      <th></th>\n",
       "      <th></th>\n",
       "      <th></th>\n",
       "      <th></th>\n",
       "      <th></th>\n",
       "    </tr>\n",
       "  </thead>\n",
       "  <tbody>\n",
       "    <tr>\n",
       "      <th rowspan=\"5\" valign=\"top\">ALS</th>\n",
       "      <th>7</th>\n",
       "      <td>100</td>\n",
       "      <td>0.01</td>\n",
       "      <td>0.500000</td>\n",
       "      <td>0.301792</td>\n",
       "      <td>5</td>\n",
       "    </tr>\n",
       "    <tr>\n",
       "      <th>14</th>\n",
       "      <td>100</td>\n",
       "      <td>0.04</td>\n",
       "      <td>0.100000</td>\n",
       "      <td>0.243961</td>\n",
       "      <td>5</td>\n",
       "    </tr>\n",
       "    <tr>\n",
       "      <th>16</th>\n",
       "      <td>100</td>\n",
       "      <td>0.01</td>\n",
       "      <td>0.019608</td>\n",
       "      <td>0.044586</td>\n",
       "      <td>5</td>\n",
       "    </tr>\n",
       "    <tr>\n",
       "      <th>17</th>\n",
       "      <td>100</td>\n",
       "      <td>0.01</td>\n",
       "      <td>0.083333</td>\n",
       "      <td>0.099143</td>\n",
       "      <td>5</td>\n",
       "    </tr>\n",
       "    <tr>\n",
       "      <th>24</th>\n",
       "      <td>100</td>\n",
       "      <td>0.00</td>\n",
       "      <td>0.000000</td>\n",
       "      <td>0.000000</td>\n",
       "      <td>5</td>\n",
       "    </tr>\n",
       "  </tbody>\n",
       "</table>\n",
       "</div>"
      ],
      "text/plain": [
       "                nrecs  precision  recip_rank      ndcg  ntruth\n",
       "algorithm user                                                \n",
       "ALS       7       100       0.01    0.500000  0.301792       5\n",
       "          14      100       0.04    0.100000  0.243961       5\n",
       "          16      100       0.01    0.019608  0.044586       5\n",
       "          17      100       0.01    0.083333  0.099143       5\n",
       "          24      100       0.00    0.000000  0.000000       5"
      ]
     },
     "execution_count": 15,
     "metadata": {},
     "output_type": "execute_result"
    }
   ],
   "source": [
    "rla = topn.RecListAnalysis()\n",
    "\n",
    "rla.add_metric(topn.precision)\n",
    "rla.add_metric(topn.recip_rank)\n",
    "rla.add_metric(topn.ndcg)\n",
    "results = rla.compute(recs, test, include_missing=True)\n",
    "results = results.fillna(0)\n",
    "results.head()"
   ]
  },
  {
   "cell_type": "markdown",
   "id": "8ecf9924",
   "metadata": {
    "papermill": {
     "duration": 0.038987,
     "end_time": "2022-02-16T19:04:11.792548",
     "exception": false,
     "start_time": "2022-02-16T19:04:11.753561",
     "status": "completed"
    },
    "tags": []
   },
   "source": [
    "We will reshape the 'results' dataframe by stacking the columns to index and then use the bar chart to visualize the performance of our algorithms with respect to the precision, reciprocal rank and ndcg metrics"
   ]
  },
  {
   "cell_type": "code",
   "execution_count": 16,
   "id": "4c178e8e",
   "metadata": {
    "execution": {
     "iopub.execute_input": "2022-02-16T19:04:11.863233Z",
     "iopub.status.busy": "2022-02-16T19:04:11.863233Z",
     "iopub.status.idle": "2022-02-16T19:04:11.879234Z",
     "shell.execute_reply": "2022-02-16T19:04:11.879234Z"
    },
    "papermill": {
     "duration": 0.050968,
     "end_time": "2022-02-16T19:04:11.880200",
     "exception": false,
     "start_time": "2022-02-16T19:04:11.829232",
     "status": "completed"
    },
    "tags": []
   },
   "outputs": [
    {
     "data": {
      "text/html": [
       "<div>\n",
       "<style scoped>\n",
       "    .dataframe tbody tr th:only-of-type {\n",
       "        vertical-align: middle;\n",
       "    }\n",
       "\n",
       "    .dataframe tbody tr th {\n",
       "        vertical-align: top;\n",
       "    }\n",
       "\n",
       "    .dataframe thead th {\n",
       "        text-align: right;\n",
       "    }\n",
       "</style>\n",
       "<table border=\"1\" class=\"dataframe\">\n",
       "  <thead>\n",
       "    <tr style=\"text-align: right;\">\n",
       "      <th></th>\n",
       "      <th>algorithm</th>\n",
       "      <th>user</th>\n",
       "      <th>metric</th>\n",
       "      <th>val</th>\n",
       "    </tr>\n",
       "  </thead>\n",
       "  <tbody>\n",
       "    <tr>\n",
       "      <th>0</th>\n",
       "      <td>ALS</td>\n",
       "      <td>7</td>\n",
       "      <td>precision</td>\n",
       "      <td>0.010000</td>\n",
       "    </tr>\n",
       "    <tr>\n",
       "      <th>1</th>\n",
       "      <td>ALS</td>\n",
       "      <td>7</td>\n",
       "      <td>recip_rank</td>\n",
       "      <td>0.500000</td>\n",
       "    </tr>\n",
       "    <tr>\n",
       "      <th>2</th>\n",
       "      <td>ALS</td>\n",
       "      <td>7</td>\n",
       "      <td>ndcg</td>\n",
       "      <td>0.301792</td>\n",
       "    </tr>\n",
       "    <tr>\n",
       "      <th>3</th>\n",
       "      <td>ALS</td>\n",
       "      <td>14</td>\n",
       "      <td>precision</td>\n",
       "      <td>0.040000</td>\n",
       "    </tr>\n",
       "    <tr>\n",
       "      <th>4</th>\n",
       "      <td>ALS</td>\n",
       "      <td>14</td>\n",
       "      <td>recip_rank</td>\n",
       "      <td>0.100000</td>\n",
       "    </tr>\n",
       "  </tbody>\n",
       "</table>\n",
       "</div>"
      ],
      "text/plain": [
       "  algorithm  user      metric       val\n",
       "0       ALS     7   precision  0.010000\n",
       "1       ALS     7  recip_rank  0.500000\n",
       "2       ALS     7        ndcg  0.301792\n",
       "3       ALS    14   precision  0.040000\n",
       "4       ALS    14  recip_rank  0.100000"
      ]
     },
     "execution_count": 16,
     "metadata": {},
     "output_type": "execute_result"
    }
   ],
   "source": [
    "pltData = (results.drop(columns=['nrecs', 'ntruth']).stack()).reset_index()\n",
    "pltData.columns = ['algorithm', 'user', 'metric', 'val']\n",
    "pltData.head()"
   ]
  },
  {
   "cell_type": "markdown",
   "id": "fabfbe38",
   "metadata": {
    "papermill": {
     "duration": 0.029999,
     "end_time": "2022-02-16T19:04:11.941199",
     "exception": false,
     "start_time": "2022-02-16T19:04:11.911200",
     "status": "completed"
    },
    "tags": []
   },
   "source": [
    "We need to determine if the differences we observe in the performances of the algorithms for the various metrics are statistically significant. To achieve this, we will need to use either a parametric or non-parametric statistical test for comparing the differences. We will consider a parametric test - repeated ANOVA measure cause our sample groups are correlated."
   ]
  },
  {
   "cell_type": "code",
   "execution_count": 17,
   "id": "5c9d5c53",
   "metadata": {
    "execution": {
     "iopub.execute_input": "2022-02-16T19:04:12.042199Z",
     "iopub.status.busy": "2022-02-16T19:04:12.042199Z",
     "iopub.status.idle": "2022-02-16T19:04:13.396244Z",
     "shell.execute_reply": "2022-02-16T19:04:13.395389Z"
    },
    "papermill": {
     "duration": 1.413039,
     "end_time": "2022-02-16T19:04:13.397242",
     "exception": false,
     "start_time": "2022-02-16T19:04:11.984203",
     "status": "completed"
    },
    "tags": []
   },
   "outputs": [
    {
     "data": {
      "image/png": "[encoded data removed]",
      "text/plain": [
       "<Figure size 777.6x216 with 3 Axes>"
      ]
     },
     "metadata": {
      "needs_background": "light"
     },
     "output_type": "display_data"
    }
   ],
   "source": [
    "g = sns.catplot(x = \"algorithm\", y = \"val\", data = pltData, kind=\"bar\", col = \"metric\", aspect=1.2, height=3, sharey=False)"
   ]
  },
  {
   "cell_type": "markdown",
   "id": "530f5578",
   "metadata": {
    "papermill": {
     "duration": 0.036001,
     "end_time": "2022-02-16T19:04:13.466242",
     "exception": false,
     "start_time": "2022-02-16T19:04:13.430241",
     "status": "completed"
    },
    "tags": []
   },
   "source": [
    "### Statistical Testing"
   ]
  },
  {
   "cell_type": "markdown",
   "id": "e25a333b",
   "metadata": {
    "papermill": {
     "duration": 0.053997,
     "end_time": "2022-02-16T19:04:13.576242",
     "exception": false,
     "start_time": "2022-02-16T19:04:13.522245",
     "status": "completed"
    },
    "tags": []
   },
   "source": [
    "We will now examine these metrics in more detail and test for statistical significance.  Best practice for statistical testing for recommender systems is still a work in progress, but this method avoids most of the validity problems we know about.\n",
    "\n",
    "The Friedman $\\chi^2$ test will test the null hypothesis that there is no difference between algorithms in terms of their performance."
   ]
  },
  {
   "cell_type": "code",
   "execution_count": 18,
   "id": "e17b886c",
   "metadata": {
    "execution": {
     "iopub.execute_input": "2022-02-16T19:04:13.651273Z",
     "iopub.status.busy": "2022-02-16T19:04:13.650239Z",
     "iopub.status.idle": "2022-02-16T19:04:13.665241Z",
     "shell.execute_reply": "2022-02-16T19:04:13.664384Z"
    },
    "papermill": {
     "duration": 0.051032,
     "end_time": "2022-02-16T19:04:13.666272",
     "exception": false,
     "start_time": "2022-02-16T19:04:13.615240",
     "status": "completed"
    },
    "tags": []
   },
   "outputs": [],
   "source": [
    "def metric_friedman(metric):\n",
    "    groups = [df[metric] for a, df in results.groupby('algorithm')]\n",
    "\n",
    "    stat, p = friedmanchisquare(*groups)\n",
    "    return pd.Series({'stat': stat, 'p': p}, name=metric)"
   ]
  },
  {
   "cell_type": "markdown",
   "id": "cc7a0769",
   "metadata": {
    "papermill": {
     "duration": 0.057997,
     "end_time": "2022-02-16T19:04:13.772240",
     "exception": false,
     "start_time": "2022-02-16T19:04:13.714243",
     "status": "completed"
    },
    "tags": []
   },
   "source": [
    "If the test detects significance, we have at least one pair of different algorithms - but which pairs?  Unfortunately, the good tests aren't readily available in scipy and friends, so we're going to take a conservative approch and perform pairwise Wilconxon signed-rank tests with a Bonferroni adjustment."
   ]
  },
  {
   "cell_type": "code",
   "execution_count": 19,
   "id": "0691f102",
   "metadata": {
    "execution": {
     "iopub.execute_input": "2022-02-16T19:04:13.863825Z",
     "iopub.status.busy": "2022-02-16T19:04:13.863825Z",
     "iopub.status.idle": "2022-02-16T19:04:13.882825Z",
     "shell.execute_reply": "2022-02-16T19:04:13.881823Z"
    },
    "papermill": {
     "duration": 0.064586,
     "end_time": "2022-02-16T19:04:13.884824",
     "exception": false,
     "start_time": "2022-02-16T19:04:13.820238",
     "status": "completed"
    },
    "tags": []
   },
   "outputs": [],
   "source": [
    "pairs = pd.DataFrame.from_records(combinations(rec_algos, 2), columns=['A1', 'A2'])\n",
    "def am_wilcox(metric, p_scale = len(pairs)):\n",
    "    def compute(df):\n",
    "        vs1 = results.loc[df['A1'], metric]\n",
    "        vs2 = results.loc[df['A2'], metric]\n",
    "        diff = (vs1 - vs2).mean()\n",
    "        stat, p = wilcoxon(vs1, vs2)\n",
    "        return pd.Series({'diff': diff, 'stat': stat, 'p': p, 'adj_p': p * p_scale})\n",
    "    scores = pairs.apply(compute, axis=1)\n",
    "    return pairs.join(scores)"
   ]
  },
  {
   "cell_type": "markdown",
   "id": "687445b8",
   "metadata": {
    "papermill": {
     "duration": 0.030034,
     "end_time": "2022-02-16T19:04:13.946857",
     "exception": false,
     "start_time": "2022-02-16T19:04:13.916823",
     "status": "completed"
    },
    "tags": []
   },
   "source": [
    "## Precision"
   ]
  },
  {
   "cell_type": "code",
   "execution_count": 20,
   "id": "c0cb9b41",
   "metadata": {
    "execution": {
     "iopub.execute_input": "2022-02-16T19:04:14.030823Z",
     "iopub.status.busy": "2022-02-16T19:04:14.029837Z",
     "iopub.status.idle": "2022-02-16T19:04:14.163826Z",
     "shell.execute_reply": "2022-02-16T19:04:14.162824Z"
    },
    "papermill": {
     "duration": 0.187967,
     "end_time": "2022-02-16T19:04:14.165823",
     "exception": false,
     "start_time": "2022-02-16T19:04:13.977856",
     "status": "completed"
    },
    "tags": []
   },
   "outputs": [
    {
     "data": {
      "text/plain": [
       "stat    3181.107688\n",
       "p          0.000000\n",
       "Name: precision, dtype: float64"
      ]
     },
     "execution_count": 20,
     "metadata": {},
     "output_type": "execute_result"
    }
   ],
   "source": [
    "metric_friedman('precision')"
   ]
  },
  {
   "cell_type": "markdown",
   "id": "122e6454",
   "metadata": {
    "papermill": {
     "duration": 0.038837,
     "end_time": "2022-02-16T19:04:14.246353",
     "exception": false,
     "start_time": "2022-02-16T19:04:14.207516",
     "status": "completed"
    },
    "tags": []
   },
   "source": [
    "This indicates a statistically significant difference exists - but where is it?\n",
    "\n",
    "To answer that question, we need a post-hoc test. "
   ]
  },
  {
   "cell_type": "code",
   "execution_count": 21,
   "id": "ef8f0806",
   "metadata": {
    "execution": {
     "iopub.execute_input": "2022-02-16T19:04:14.329327Z",
     "iopub.status.busy": "2022-02-16T19:04:14.329327Z",
     "iopub.status.idle": "2022-02-16T19:04:14.402322Z",
     "shell.execute_reply": "2022-02-16T19:04:14.401323Z"
    },
    "papermill": {
     "duration": 0.119015,
     "end_time": "2022-02-16T19:04:14.404337",
     "exception": false,
     "start_time": "2022-02-16T19:04:14.285322",
     "status": "completed"
    },
    "tags": []
   },
   "outputs": [
    {
     "data": {
      "text/html": [
       "<div>\n",
       "<style scoped>\n",
       "    .dataframe tbody tr th:only-of-type {\n",
       "        vertical-align: middle;\n",
       "    }\n",
       "\n",
       "    .dataframe tbody tr th {\n",
       "        vertical-align: top;\n",
       "    }\n",
       "\n",
       "    .dataframe thead th {\n",
       "        text-align: right;\n",
       "    }\n",
       "</style>\n",
       "<table border=\"1\" class=\"dataframe\">\n",
       "  <thead>\n",
       "    <tr style=\"text-align: right;\">\n",
       "      <th></th>\n",
       "      <th>A1</th>\n",
       "      <th>A2</th>\n",
       "      <th>diff</th>\n",
       "      <th>stat</th>\n",
       "      <th>p</th>\n",
       "      <th>adj_p</th>\n",
       "    </tr>\n",
       "  </thead>\n",
       "  <tbody>\n",
       "    <tr>\n",
       "      <th>14</th>\n",
       "      <td>IALS</td>\n",
       "      <td>UUE</td>\n",
       "      <td>0.027338</td>\n",
       "      <td>1950.0</td>\n",
       "      <td>5.020471e-146</td>\n",
       "      <td>1.054299e-144</td>\n",
       "    </tr>\n",
       "    <tr>\n",
       "      <th>11</th>\n",
       "      <td>IALS</td>\n",
       "      <td>IIE</td>\n",
       "      <td>0.025504</td>\n",
       "      <td>4375.0</td>\n",
       "      <td>1.888412e-137</td>\n",
       "      <td>3.965665e-136</td>\n",
       "    </tr>\n",
       "    <tr>\n",
       "      <th>19</th>\n",
       "      <td>III</td>\n",
       "      <td>UUE</td>\n",
       "      <td>0.021273</td>\n",
       "      <td>4743.5</td>\n",
       "      <td>1.907076e-133</td>\n",
       "      <td>4.004860e-132</td>\n",
       "    </tr>\n",
       "    <tr>\n",
       "      <th>20</th>\n",
       "      <td>Pop</td>\n",
       "      <td>UUE</td>\n",
       "      <td>0.015080</td>\n",
       "      <td>9669.0</td>\n",
       "      <td>2.572141e-116</td>\n",
       "      <td>5.401495e-115</td>\n",
       "    </tr>\n",
       "    <tr>\n",
       "      <th>13</th>\n",
       "      <td>IALS</td>\n",
       "      <td>Pop</td>\n",
       "      <td>0.012259</td>\n",
       "      <td>17384.0</td>\n",
       "      <td>1.047689e-89</td>\n",
       "      <td>2.200146e-88</td>\n",
       "    </tr>\n",
       "    <tr>\n",
       "      <th>18</th>\n",
       "      <td>III</td>\n",
       "      <td>Pop</td>\n",
       "      <td>0.006193</td>\n",
       "      <td>32529.5</td>\n",
       "      <td>4.189752e-41</td>\n",
       "      <td>8.798478e-40</td>\n",
       "    </tr>\n",
       "    <tr>\n",
       "      <th>12</th>\n",
       "      <td>IALS</td>\n",
       "      <td>III</td>\n",
       "      <td>0.006066</td>\n",
       "      <td>29922.0</td>\n",
       "      <td>6.835663e-49</td>\n",
       "      <td>1.435489e-47</td>\n",
       "    </tr>\n",
       "    <tr>\n",
       "      <th>5</th>\n",
       "      <td>ALS</td>\n",
       "      <td>UUE</td>\n",
       "      <td>0.003457</td>\n",
       "      <td>11241.5</td>\n",
       "      <td>5.108602e-33</td>\n",
       "      <td>1.072806e-31</td>\n",
       "    </tr>\n",
       "    <tr>\n",
       "      <th>10</th>\n",
       "      <td>Bias</td>\n",
       "      <td>UUE</td>\n",
       "      <td>0.003436</td>\n",
       "      <td>16811.0</td>\n",
       "      <td>4.329554e-27</td>\n",
       "      <td>9.092063e-26</td>\n",
       "    </tr>\n",
       "    <tr>\n",
       "      <th>17</th>\n",
       "      <td>IIE</td>\n",
       "      <td>UUE</td>\n",
       "      <td>0.001835</td>\n",
       "      <td>18946.0</td>\n",
       "      <td>2.192785e-11</td>\n",
       "      <td>4.604847e-10</td>\n",
       "    </tr>\n",
       "    <tr>\n",
       "      <th>2</th>\n",
       "      <td>ALS</td>\n",
       "      <td>IIE</td>\n",
       "      <td>0.001622</td>\n",
       "      <td>14107.5</td>\n",
       "      <td>1.088990e-12</td>\n",
       "      <td>2.286879e-11</td>\n",
       "    </tr>\n",
       "    <tr>\n",
       "      <th>7</th>\n",
       "      <td>Bias</td>\n",
       "      <td>IIE</td>\n",
       "      <td>0.001601</td>\n",
       "      <td>21093.5</td>\n",
       "      <td>8.936320e-10</td>\n",
       "      <td>1.876627e-08</td>\n",
       "    </tr>\n",
       "    <tr>\n",
       "      <th>0</th>\n",
       "      <td>ALS</td>\n",
       "      <td>Bias</td>\n",
       "      <td>0.000021</td>\n",
       "      <td>31483.5</td>\n",
       "      <td>8.027451e-01</td>\n",
       "      <td>1.685765e+01</td>\n",
       "    </tr>\n",
       "    <tr>\n",
       "      <th>4</th>\n",
       "      <td>ALS</td>\n",
       "      <td>Pop</td>\n",
       "      <td>-0.011622</td>\n",
       "      <td>28988.5</td>\n",
       "      <td>1.355203e-83</td>\n",
       "      <td>2.845927e-82</td>\n",
       "    </tr>\n",
       "    <tr>\n",
       "      <th>9</th>\n",
       "      <td>Bias</td>\n",
       "      <td>Pop</td>\n",
       "      <td>-0.011644</td>\n",
       "      <td>29969.0</td>\n",
       "      <td>4.930287e-83</td>\n",
       "      <td>1.035360e-81</td>\n",
       "    </tr>\n",
       "    <tr>\n",
       "      <th>16</th>\n",
       "      <td>IIE</td>\n",
       "      <td>Pop</td>\n",
       "      <td>-0.013245</td>\n",
       "      <td>19339.5</td>\n",
       "      <td>2.735608e-97</td>\n",
       "      <td>5.744777e-96</td>\n",
       "    </tr>\n",
       "    <tr>\n",
       "      <th>3</th>\n",
       "      <td>ALS</td>\n",
       "      <td>III</td>\n",
       "      <td>-0.017815</td>\n",
       "      <td>16449.0</td>\n",
       "      <td>1.221181e-110</td>\n",
       "      <td>2.564481e-109</td>\n",
       "    </tr>\n",
       "    <tr>\n",
       "      <th>8</th>\n",
       "      <td>Bias</td>\n",
       "      <td>III</td>\n",
       "      <td>-0.017837</td>\n",
       "      <td>17958.5</td>\n",
       "      <td>5.233165e-111</td>\n",
       "      <td>1.098965e-109</td>\n",
       "    </tr>\n",
       "    <tr>\n",
       "      <th>15</th>\n",
       "      <td>IIE</td>\n",
       "      <td>III</td>\n",
       "      <td>-0.019438</td>\n",
       "      <td>11615.5</td>\n",
       "      <td>1.395909e-120</td>\n",
       "      <td>2.931409e-119</td>\n",
       "    </tr>\n",
       "    <tr>\n",
       "      <th>1</th>\n",
       "      <td>ALS</td>\n",
       "      <td>IALS</td>\n",
       "      <td>-0.023881</td>\n",
       "      <td>7703.0</td>\n",
       "      <td>4.690341e-131</td>\n",
       "      <td>9.849717e-130</td>\n",
       "    </tr>\n",
       "    <tr>\n",
       "      <th>6</th>\n",
       "      <td>Bias</td>\n",
       "      <td>IALS</td>\n",
       "      <td>-0.023902</td>\n",
       "      <td>7631.0</td>\n",
       "      <td>1.133894e-131</td>\n",
       "      <td>2.381178e-130</td>\n",
       "    </tr>\n",
       "  </tbody>\n",
       "</table>\n",
       "</div>"
      ],
      "text/plain": [
       "      A1    A2      diff     stat              p          adj_p\n",
       "14  IALS   UUE  0.027338   1950.0  5.020471e-146  1.054299e-144\n",
       "11  IALS   IIE  0.025504   4375.0  1.888412e-137  3.965665e-136\n",
       "19   III   UUE  0.021273   4743.5  1.907076e-133  4.004860e-132\n",
       "20   Pop   UUE  0.015080   9669.0  2.572141e-116  5.401495e-115\n",
       "13  IALS   Pop  0.012259  17384.0   1.047689e-89   2.200146e-88\n",
       "18   III   Pop  0.006193  32529.5   4.189752e-41   8.798478e-40\n",
       "12  IALS   III  0.006066  29922.0   6.835663e-49   1.435489e-47\n",
       "5    ALS   UUE  0.003457  11241.5   5.108602e-33   1.072806e-31\n",
       "10  Bias   UUE  0.003436  16811.0   4.329554e-27   9.092063e-26\n",
       "17   IIE   UUE  0.001835  18946.0   2.192785e-11   4.604847e-10\n",
       "2    ALS   IIE  0.001622  14107.5   1.088990e-12   2.286879e-11\n",
       "7   Bias   IIE  0.001601  21093.5   8.936320e-10   1.876627e-08\n",
       "0    ALS  Bias  0.000021  31483.5   8.027451e-01   1.685765e+01\n",
       "4    ALS   Pop -0.011622  28988.5   1.355203e-83   2.845927e-82\n",
       "9   Bias   Pop -0.011644  29969.0   4.930287e-83   1.035360e-81\n",
       "16   IIE   Pop -0.013245  19339.5   2.735608e-97   5.744777e-96\n",
       "3    ALS   III -0.017815  16449.0  1.221181e-110  2.564481e-109\n",
       "8   Bias   III -0.017837  17958.5  5.233165e-111  1.098965e-109\n",
       "15   IIE   III -0.019438  11615.5  1.395909e-120  2.931409e-119\n",
       "1    ALS  IALS -0.023881   7703.0  4.690341e-131  9.849717e-130\n",
       "6   Bias  IALS -0.023902   7631.0  1.133894e-131  2.381178e-130"
      ]
     },
     "execution_count": 21,
     "metadata": {},
     "output_type": "execute_result"
    }
   ],
   "source": [
    "am_wilcox('precision').sort_values('diff', ascending=False)"
   ]
  },
  {
   "cell_type": "markdown",
   "id": "0dcb2430",
   "metadata": {
    "papermill": {
     "duration": 0.053999,
     "end_time": "2022-02-16T19:04:14.510322",
     "exception": false,
     "start_time": "2022-02-16T19:04:14.456323",
     "status": "completed"
    },
    "tags": []
   },
   "source": [
    "We can consider pairs with an adjusted $p$ value less than 0.05 (5.0e-2) to be statistically significant.  However, we have so many data points, the substance of significance is questionable.  Pay attention to the 'diff' column, which is the difference between A1 and A2 (how much A1 outperforms A2)."
   ]
  },
  {
   "cell_type": "markdown",
   "id": "0bde091e",
   "metadata": {
    "papermill": {
     "duration": 0.051999,
     "end_time": "2022-02-16T19:04:14.640323",
     "exception": false,
     "start_time": "2022-02-16T19:04:14.588324",
     "status": "completed"
    },
    "tags": []
   },
   "source": [
    "### nDCG"
   ]
  },
  {
   "cell_type": "markdown",
   "id": "48170911",
   "metadata": {
    "papermill": {
     "duration": 0.035035,
     "end_time": "2022-02-16T19:04:14.713358",
     "exception": false,
     "start_time": "2022-02-16T19:04:14.678323",
     "status": "completed"
    },
    "tags": []
   },
   "source": [
    "Now let's do the same for nDCG:"
   ]
  },
  {
   "cell_type": "code",
   "execution_count": 22,
   "id": "19151ea7",
   "metadata": {
    "execution": {
     "iopub.execute_input": "2022-02-16T19:04:14.779352Z",
     "iopub.status.busy": "2022-02-16T19:04:14.779352Z",
     "iopub.status.idle": "2022-02-16T19:04:14.862947Z",
     "shell.execute_reply": "2022-02-16T19:04:14.862947Z"
    },
    "papermill": {
     "duration": 0.120595,
     "end_time": "2022-02-16T19:04:14.864947",
     "exception": false,
     "start_time": "2022-02-16T19:04:14.744352",
     "status": "completed"
    },
    "tags": []
   },
   "outputs": [
    {
     "data": {
      "text/plain": [
       "stat    2715.514181\n",
       "p          0.000000\n",
       "Name: ndcg, dtype: float64"
      ]
     },
     "execution_count": 22,
     "metadata": {},
     "output_type": "execute_result"
    }
   ],
   "source": [
    "metric_friedman('ndcg')"
   ]
  },
  {
   "cell_type": "code",
   "execution_count": 23,
   "id": "357e8097",
   "metadata": {
    "execution": {
     "iopub.execute_input": "2022-02-16T19:04:14.939968Z",
     "iopub.status.busy": "2022-02-16T19:04:14.939968Z",
     "iopub.status.idle": "2022-02-16T19:04:14.988980Z",
     "shell.execute_reply": "2022-02-16T19:04:14.988980Z"
    },
    "papermill": {
     "duration": 0.088018,
     "end_time": "2022-02-16T19:04:14.990985",
     "exception": false,
     "start_time": "2022-02-16T19:04:14.902967",
     "status": "completed"
    },
    "tags": []
   },
   "outputs": [
    {
     "data": {
      "text/html": [
       "<div>\n",
       "<style scoped>\n",
       "    .dataframe tbody tr th:only-of-type {\n",
       "        vertical-align: middle;\n",
       "    }\n",
       "\n",
       "    .dataframe tbody tr th {\n",
       "        vertical-align: top;\n",
       "    }\n",
       "\n",
       "    .dataframe thead th {\n",
       "        text-align: right;\n",
       "    }\n",
       "</style>\n",
       "<table border=\"1\" class=\"dataframe\">\n",
       "  <thead>\n",
       "    <tr style=\"text-align: right;\">\n",
       "      <th></th>\n",
       "      <th>A1</th>\n",
       "      <th>A2</th>\n",
       "      <th>diff</th>\n",
       "      <th>stat</th>\n",
       "      <th>p</th>\n",
       "      <th>adj_p</th>\n",
       "    </tr>\n",
       "  </thead>\n",
       "  <tbody>\n",
       "    <tr>\n",
       "      <th>14</th>\n",
       "      <td>IALS</td>\n",
       "      <td>UUE</td>\n",
       "      <td>0.244295</td>\n",
       "      <td>2450.0</td>\n",
       "      <td>1.047782e-151</td>\n",
       "      <td>2.200342e-150</td>\n",
       "    </tr>\n",
       "    <tr>\n",
       "      <th>19</th>\n",
       "      <td>III</td>\n",
       "      <td>UUE</td>\n",
       "      <td>0.241602</td>\n",
       "      <td>3143.0</td>\n",
       "      <td>9.792359e-148</td>\n",
       "      <td>2.056395e-146</td>\n",
       "    </tr>\n",
       "    <tr>\n",
       "      <th>11</th>\n",
       "      <td>IALS</td>\n",
       "      <td>IIE</td>\n",
       "      <td>0.222729</td>\n",
       "      <td>15959.0</td>\n",
       "      <td>1.042509e-133</td>\n",
       "      <td>2.189270e-132</td>\n",
       "    </tr>\n",
       "    <tr>\n",
       "      <th>20</th>\n",
       "      <td>Pop</td>\n",
       "      <td>UUE</td>\n",
       "      <td>0.148184</td>\n",
       "      <td>10033.0</td>\n",
       "      <td>5.275428e-134</td>\n",
       "      <td>1.107840e-132</td>\n",
       "    </tr>\n",
       "    <tr>\n",
       "      <th>13</th>\n",
       "      <td>IALS</td>\n",
       "      <td>Pop</td>\n",
       "      <td>0.096111</td>\n",
       "      <td>108683.0</td>\n",
       "      <td>3.731257e-41</td>\n",
       "      <td>7.835641e-40</td>\n",
       "    </tr>\n",
       "    <tr>\n",
       "      <th>18</th>\n",
       "      <td>III</td>\n",
       "      <td>Pop</td>\n",
       "      <td>0.093418</td>\n",
       "      <td>91008.0</td>\n",
       "      <td>2.055337e-51</td>\n",
       "      <td>4.316207e-50</td>\n",
       "    </tr>\n",
       "    <tr>\n",
       "      <th>5</th>\n",
       "      <td>ALS</td>\n",
       "      <td>UUE</td>\n",
       "      <td>0.046022</td>\n",
       "      <td>21218.0</td>\n",
       "      <td>2.024207e-66</td>\n",
       "      <td>4.250835e-65</td>\n",
       "    </tr>\n",
       "    <tr>\n",
       "      <th>10</th>\n",
       "      <td>Bias</td>\n",
       "      <td>UUE</td>\n",
       "      <td>0.041360</td>\n",
       "      <td>27725.5</td>\n",
       "      <td>3.247128e-58</td>\n",
       "      <td>6.818969e-57</td>\n",
       "    </tr>\n",
       "    <tr>\n",
       "      <th>2</th>\n",
       "      <td>ALS</td>\n",
       "      <td>IIE</td>\n",
       "      <td>0.024456</td>\n",
       "      <td>49100.0</td>\n",
       "      <td>3.449377e-29</td>\n",
       "      <td>7.243692e-28</td>\n",
       "    </tr>\n",
       "    <tr>\n",
       "      <th>17</th>\n",
       "      <td>IIE</td>\n",
       "      <td>UUE</td>\n",
       "      <td>0.021566</td>\n",
       "      <td>45767.0</td>\n",
       "      <td>5.831325e-26</td>\n",
       "      <td>1.224578e-24</td>\n",
       "    </tr>\n",
       "    <tr>\n",
       "      <th>7</th>\n",
       "      <td>Bias</td>\n",
       "      <td>IIE</td>\n",
       "      <td>0.019794</td>\n",
       "      <td>61510.0</td>\n",
       "      <td>3.158119e-19</td>\n",
       "      <td>6.632050e-18</td>\n",
       "    </tr>\n",
       "    <tr>\n",
       "      <th>0</th>\n",
       "      <td>ALS</td>\n",
       "      <td>Bias</td>\n",
       "      <td>0.004662</td>\n",
       "      <td>104417.0</td>\n",
       "      <td>3.428635e-01</td>\n",
       "      <td>7.200134e+00</td>\n",
       "    </tr>\n",
       "    <tr>\n",
       "      <th>12</th>\n",
       "      <td>IALS</td>\n",
       "      <td>III</td>\n",
       "      <td>0.002693</td>\n",
       "      <td>213284.0</td>\n",
       "      <td>4.049890e-01</td>\n",
       "      <td>8.504770e+00</td>\n",
       "    </tr>\n",
       "    <tr>\n",
       "      <th>4</th>\n",
       "      <td>ALS</td>\n",
       "      <td>Pop</td>\n",
       "      <td>-0.102162</td>\n",
       "      <td>65840.0</td>\n",
       "      <td>1.022195e-68</td>\n",
       "      <td>2.146610e-67</td>\n",
       "    </tr>\n",
       "    <tr>\n",
       "      <th>9</th>\n",
       "      <td>Bias</td>\n",
       "      <td>Pop</td>\n",
       "      <td>-0.106824</td>\n",
       "      <td>57443.0</td>\n",
       "      <td>2.786585e-78</td>\n",
       "      <td>5.851828e-77</td>\n",
       "    </tr>\n",
       "    <tr>\n",
       "      <th>16</th>\n",
       "      <td>IIE</td>\n",
       "      <td>Pop</td>\n",
       "      <td>-0.126618</td>\n",
       "      <td>35159.0</td>\n",
       "      <td>1.467271e-102</td>\n",
       "      <td>3.081269e-101</td>\n",
       "    </tr>\n",
       "    <tr>\n",
       "      <th>3</th>\n",
       "      <td>ALS</td>\n",
       "      <td>III</td>\n",
       "      <td>-0.195580</td>\n",
       "      <td>35829.0</td>\n",
       "      <td>1.182688e-105</td>\n",
       "      <td>2.483644e-104</td>\n",
       "    </tr>\n",
       "    <tr>\n",
       "      <th>1</th>\n",
       "      <td>ALS</td>\n",
       "      <td>IALS</td>\n",
       "      <td>-0.198273</td>\n",
       "      <td>37878.0</td>\n",
       "      <td>2.328026e-107</td>\n",
       "      <td>4.888855e-106</td>\n",
       "    </tr>\n",
       "    <tr>\n",
       "      <th>8</th>\n",
       "      <td>Bias</td>\n",
       "      <td>III</td>\n",
       "      <td>-0.200242</td>\n",
       "      <td>31982.0</td>\n",
       "      <td>7.697308e-111</td>\n",
       "      <td>1.616435e-109</td>\n",
       "    </tr>\n",
       "    <tr>\n",
       "      <th>6</th>\n",
       "      <td>Bias</td>\n",
       "      <td>IALS</td>\n",
       "      <td>-0.202935</td>\n",
       "      <td>30933.0</td>\n",
       "      <td>2.667369e-115</td>\n",
       "      <td>5.601475e-114</td>\n",
       "    </tr>\n",
       "    <tr>\n",
       "      <th>15</th>\n",
       "      <td>IIE</td>\n",
       "      <td>III</td>\n",
       "      <td>-0.220036</td>\n",
       "      <td>18128.0</td>\n",
       "      <td>2.621704e-128</td>\n",
       "      <td>5.505578e-127</td>\n",
       "    </tr>\n",
       "  </tbody>\n",
       "</table>\n",
       "</div>"
      ],
      "text/plain": [
       "      A1    A2      diff      stat              p          adj_p\n",
       "14  IALS   UUE  0.244295    2450.0  1.047782e-151  2.200342e-150\n",
       "19   III   UUE  0.241602    3143.0  9.792359e-148  2.056395e-146\n",
       "11  IALS   IIE  0.222729   15959.0  1.042509e-133  2.189270e-132\n",
       "20   Pop   UUE  0.148184   10033.0  5.275428e-134  1.107840e-132\n",
       "13  IALS   Pop  0.096111  108683.0   3.731257e-41   7.835641e-40\n",
       "18   III   Pop  0.093418   91008.0   2.055337e-51   4.316207e-50\n",
       "5    ALS   UUE  0.046022   21218.0   2.024207e-66   4.250835e-65\n",
       "10  Bias   UUE  0.041360   27725.5   3.247128e-58   6.818969e-57\n",
       "2    ALS   IIE  0.024456   49100.0   3.449377e-29   7.243692e-28\n",
       "17   IIE   UUE  0.021566   45767.0   5.831325e-26   1.224578e-24\n",
       "7   Bias   IIE  0.019794   61510.0   3.158119e-19   6.632050e-18\n",
       "0    ALS  Bias  0.004662  104417.0   3.428635e-01   7.200134e+00\n",
       "12  IALS   III  0.002693  213284.0   4.049890e-01   8.504770e+00\n",
       "4    ALS   Pop -0.102162   65840.0   1.022195e-68   2.146610e-67\n",
       "9   Bias   Pop -0.106824   57443.0   2.786585e-78   5.851828e-77\n",
       "16   IIE   Pop -0.126618   35159.0  1.467271e-102  3.081269e-101\n",
       "3    ALS   III -0.195580   35829.0  1.182688e-105  2.483644e-104\n",
       "1    ALS  IALS -0.198273   37878.0  2.328026e-107  4.888855e-106\n",
       "8   Bias   III -0.200242   31982.0  7.697308e-111  1.616435e-109\n",
       "6   Bias  IALS -0.202935   30933.0  2.667369e-115  5.601475e-114\n",
       "15   IIE   III -0.220036   18128.0  2.621704e-128  5.505578e-127"
      ]
     },
     "execution_count": 23,
     "metadata": {},
     "output_type": "execute_result"
    }
   ],
   "source": [
    "am_wilcox('ndcg').sort_values('diff', ascending=False)"
   ]
  },
  {
   "cell_type": "markdown",
   "id": "83b01078",
   "metadata": {
    "papermill": {
     "duration": 0.055997,
     "end_time": "2022-02-16T19:04:15.099946",
     "exception": false,
     "start_time": "2022-02-16T19:04:15.043949",
     "status": "completed"
    },
    "tags": []
   },
   "source": [
    "### Reciprocal Rank\n",
    "\n",
    "We'll do this also for reciprocal rank (what is aggregated to compute MRR):"
   ]
  },
  {
   "cell_type": "code",
   "execution_count": 24,
   "id": "b686c95d",
   "metadata": {
    "execution": {
     "iopub.execute_input": "2022-02-16T19:04:15.179945Z",
     "iopub.status.busy": "2022-02-16T19:04:15.178981Z",
     "iopub.status.idle": "2022-02-16T19:04:15.256663Z",
     "shell.execute_reply": "2022-02-16T19:04:15.256663Z"
    },
    "papermill": {
     "duration": 0.11369,
     "end_time": "2022-02-16T19:04:15.258637",
     "exception": false,
     "start_time": "2022-02-16T19:04:15.144947",
     "status": "completed"
    },
    "tags": []
   },
   "outputs": [
    {
     "data": {
      "text/plain": [
       "stat    2436.23697\n",
       "p          0.00000\n",
       "Name: recip_rank, dtype: float64"
      ]
     },
     "execution_count": 24,
     "metadata": {},
     "output_type": "execute_result"
    }
   ],
   "source": [
    "metric_friedman('recip_rank')"
   ]
  },
  {
   "cell_type": "code",
   "execution_count": 25,
   "id": "a170d836",
   "metadata": {
    "execution": {
     "iopub.execute_input": "2022-02-16T19:04:15.324643Z",
     "iopub.status.busy": "2022-02-16T19:04:15.324643Z",
     "iopub.status.idle": "2022-02-16T19:04:15.380611Z",
     "shell.execute_reply": "2022-02-16T19:04:15.379637Z"
    },
    "papermill": {
     "duration": 0.091966,
     "end_time": "2022-02-16T19:04:15.382602",
     "exception": false,
     "start_time": "2022-02-16T19:04:15.290636",
     "status": "completed"
    },
    "tags": []
   },
   "outputs": [
    {
     "data": {
      "text/html": [
       "<div>\n",
       "<style scoped>\n",
       "    .dataframe tbody tr th:only-of-type {\n",
       "        vertical-align: middle;\n",
       "    }\n",
       "\n",
       "    .dataframe tbody tr th {\n",
       "        vertical-align: top;\n",
       "    }\n",
       "\n",
       "    .dataframe thead th {\n",
       "        text-align: right;\n",
       "    }\n",
       "</style>\n",
       "<table border=\"1\" class=\"dataframe\">\n",
       "  <thead>\n",
       "    <tr style=\"text-align: right;\">\n",
       "      <th></th>\n",
       "      <th>A1</th>\n",
       "      <th>A2</th>\n",
       "      <th>diff</th>\n",
       "      <th>stat</th>\n",
       "      <th>p</th>\n",
       "      <th>adj_p</th>\n",
       "    </tr>\n",
       "  </thead>\n",
       "  <tbody>\n",
       "    <tr>\n",
       "      <th>19</th>\n",
       "      <td>III</td>\n",
       "      <td>UUE</td>\n",
       "      <td>0.341449</td>\n",
       "      <td>3606.5</td>\n",
       "      <td>2.678113e-146</td>\n",
       "      <td>5.624037e-145</td>\n",
       "    </tr>\n",
       "    <tr>\n",
       "      <th>14</th>\n",
       "      <td>IALS</td>\n",
       "      <td>UUE</td>\n",
       "      <td>0.248085</td>\n",
       "      <td>6256.5</td>\n",
       "      <td>1.108716e-145</td>\n",
       "      <td>2.328304e-144</td>\n",
       "    </tr>\n",
       "    <tr>\n",
       "      <th>11</th>\n",
       "      <td>IALS</td>\n",
       "      <td>IIE</td>\n",
       "      <td>0.221021</td>\n",
       "      <td>39675.5</td>\n",
       "      <td>1.236022e-102</td>\n",
       "      <td>2.595647e-101</td>\n",
       "    </tr>\n",
       "    <tr>\n",
       "      <th>20</th>\n",
       "      <td>Pop</td>\n",
       "      <td>UUE</td>\n",
       "      <td>0.203907</td>\n",
       "      <td>8810.5</td>\n",
       "      <td>2.354491e-135</td>\n",
       "      <td>4.944431e-134</td>\n",
       "    </tr>\n",
       "    <tr>\n",
       "      <th>18</th>\n",
       "      <td>III</td>\n",
       "      <td>Pop</td>\n",
       "      <td>0.137542</td>\n",
       "      <td>104415.5</td>\n",
       "      <td>1.062953e-28</td>\n",
       "      <td>2.232201e-27</td>\n",
       "    </tr>\n",
       "    <tr>\n",
       "      <th>5</th>\n",
       "      <td>ALS</td>\n",
       "      <td>UUE</td>\n",
       "      <td>0.070534</td>\n",
       "      <td>17186.0</td>\n",
       "      <td>3.845260e-73</td>\n",
       "      <td>8.075047e-72</td>\n",
       "    </tr>\n",
       "    <tr>\n",
       "      <th>10</th>\n",
       "      <td>Bias</td>\n",
       "      <td>UUE</td>\n",
       "      <td>0.057195</td>\n",
       "      <td>18832.5</td>\n",
       "      <td>1.339341e-71</td>\n",
       "      <td>2.812616e-70</td>\n",
       "    </tr>\n",
       "    <tr>\n",
       "      <th>13</th>\n",
       "      <td>IALS</td>\n",
       "      <td>Pop</td>\n",
       "      <td>0.044178</td>\n",
       "      <td>159091.0</td>\n",
       "      <td>1.541038e-06</td>\n",
       "      <td>3.236179e-05</td>\n",
       "    </tr>\n",
       "    <tr>\n",
       "      <th>2</th>\n",
       "      <td>ALS</td>\n",
       "      <td>IIE</td>\n",
       "      <td>0.043469</td>\n",
       "      <td>48383.0</td>\n",
       "      <td>2.699226e-28</td>\n",
       "      <td>5.668376e-27</td>\n",
       "    </tr>\n",
       "    <tr>\n",
       "      <th>7</th>\n",
       "      <td>Bias</td>\n",
       "      <td>IIE</td>\n",
       "      <td>0.030131</td>\n",
       "      <td>60277.5</td>\n",
       "      <td>6.835116e-20</td>\n",
       "      <td>1.435374e-18</td>\n",
       "    </tr>\n",
       "    <tr>\n",
       "      <th>17</th>\n",
       "      <td>IIE</td>\n",
       "      <td>UUE</td>\n",
       "      <td>0.027064</td>\n",
       "      <td>38413.0</td>\n",
       "      <td>4.005928e-34</td>\n",
       "      <td>8.412450e-33</td>\n",
       "    </tr>\n",
       "    <tr>\n",
       "      <th>0</th>\n",
       "      <td>ALS</td>\n",
       "      <td>Bias</td>\n",
       "      <td>0.013338</td>\n",
       "      <td>104877.0</td>\n",
       "      <td>8.492244e-01</td>\n",
       "      <td>1.783371e+01</td>\n",
       "    </tr>\n",
       "    <tr>\n",
       "      <th>12</th>\n",
       "      <td>IALS</td>\n",
       "      <td>III</td>\n",
       "      <td>-0.093364</td>\n",
       "      <td>143364.0</td>\n",
       "      <td>9.416813e-10</td>\n",
       "      <td>1.977531e-08</td>\n",
       "    </tr>\n",
       "    <tr>\n",
       "      <th>4</th>\n",
       "      <td>ALS</td>\n",
       "      <td>Pop</td>\n",
       "      <td>-0.133374</td>\n",
       "      <td>78410.0</td>\n",
       "      <td>2.286580e-54</td>\n",
       "      <td>4.801819e-53</td>\n",
       "    </tr>\n",
       "    <tr>\n",
       "      <th>9</th>\n",
       "      <td>Bias</td>\n",
       "      <td>Pop</td>\n",
       "      <td>-0.146712</td>\n",
       "      <td>67563.5</td>\n",
       "      <td>2.679668e-65</td>\n",
       "      <td>5.627303e-64</td>\n",
       "    </tr>\n",
       "    <tr>\n",
       "      <th>16</th>\n",
       "      <td>IIE</td>\n",
       "      <td>Pop</td>\n",
       "      <td>-0.176843</td>\n",
       "      <td>44382.0</td>\n",
       "      <td>2.435392e-90</td>\n",
       "      <td>5.114323e-89</td>\n",
       "    </tr>\n",
       "    <tr>\n",
       "      <th>1</th>\n",
       "      <td>ALS</td>\n",
       "      <td>IALS</td>\n",
       "      <td>-0.177551</td>\n",
       "      <td>77621.0</td>\n",
       "      <td>1.269524e-64</td>\n",
       "      <td>2.666001e-63</td>\n",
       "    </tr>\n",
       "    <tr>\n",
       "      <th>6</th>\n",
       "      <td>Bias</td>\n",
       "      <td>IALS</td>\n",
       "      <td>-0.190890</td>\n",
       "      <td>66033.5</td>\n",
       "      <td>2.786547e-75</td>\n",
       "      <td>5.851749e-74</td>\n",
       "    </tr>\n",
       "    <tr>\n",
       "      <th>3</th>\n",
       "      <td>ALS</td>\n",
       "      <td>III</td>\n",
       "      <td>-0.270916</td>\n",
       "      <td>51924.0</td>\n",
       "      <td>4.578375e-83</td>\n",
       "      <td>9.614588e-82</td>\n",
       "    </tr>\n",
       "    <tr>\n",
       "      <th>8</th>\n",
       "      <td>Bias</td>\n",
       "      <td>III</td>\n",
       "      <td>-0.284254</td>\n",
       "      <td>48758.5</td>\n",
       "      <td>6.296919e-90</td>\n",
       "      <td>1.322353e-88</td>\n",
       "    </tr>\n",
       "    <tr>\n",
       "      <th>15</th>\n",
       "      <td>IIE</td>\n",
       "      <td>III</td>\n",
       "      <td>-0.314385</td>\n",
       "      <td>29000.0</td>\n",
       "      <td>2.683983e-113</td>\n",
       "      <td>5.636363e-112</td>\n",
       "    </tr>\n",
       "  </tbody>\n",
       "</table>\n",
       "</div>"
      ],
      "text/plain": [
       "      A1    A2      diff      stat              p          adj_p\n",
       "19   III   UUE  0.341449    3606.5  2.678113e-146  5.624037e-145\n",
       "14  IALS   UUE  0.248085    6256.5  1.108716e-145  2.328304e-144\n",
       "11  IALS   IIE  0.221021   39675.5  1.236022e-102  2.595647e-101\n",
       "20   Pop   UUE  0.203907    8810.5  2.354491e-135  4.944431e-134\n",
       "18   III   Pop  0.137542  104415.5   1.062953e-28   2.232201e-27\n",
       "5    ALS   UUE  0.070534   17186.0   3.845260e-73   8.075047e-72\n",
       "10  Bias   UUE  0.057195   18832.5   1.339341e-71   2.812616e-70\n",
       "13  IALS   Pop  0.044178  159091.0   1.541038e-06   3.236179e-05\n",
       "2    ALS   IIE  0.043469   48383.0   2.699226e-28   5.668376e-27\n",
       "7   Bias   IIE  0.030131   60277.5   6.835116e-20   1.435374e-18\n",
       "17   IIE   UUE  0.027064   38413.0   4.005928e-34   8.412450e-33\n",
       "0    ALS  Bias  0.013338  104877.0   8.492244e-01   1.783371e+01\n",
       "12  IALS   III -0.093364  143364.0   9.416813e-10   1.977531e-08\n",
       "4    ALS   Pop -0.133374   78410.0   2.286580e-54   4.801819e-53\n",
       "9   Bias   Pop -0.146712   67563.5   2.679668e-65   5.627303e-64\n",
       "16   IIE   Pop -0.176843   44382.0   2.435392e-90   5.114323e-89\n",
       "1    ALS  IALS -0.177551   77621.0   1.269524e-64   2.666001e-63\n",
       "6   Bias  IALS -0.190890   66033.5   2.786547e-75   5.851749e-74\n",
       "3    ALS   III -0.270916   51924.0   4.578375e-83   9.614588e-82\n",
       "8   Bias   III -0.284254   48758.5   6.296919e-90   1.322353e-88\n",
       "15   IIE   III -0.314385   29000.0  2.683983e-113  5.636363e-112"
      ]
     },
     "execution_count": 25,
     "metadata": {},
     "output_type": "execute_result"
    }
   ],
   "source": [
    "am_wilcox('recip_rank').sort_values('diff', ascending=False)"
   ]
  },
  {
   "cell_type": "markdown",
   "id": "2f43e2e1",
   "metadata": {
    "papermill": {
     "duration": 0.034997,
     "end_time": "2022-02-16T19:04:15.453624",
     "exception": false,
     "start_time": "2022-02-16T19:04:15.418627",
     "status": "completed"
    },
    "tags": []
   },
   "source": [
    "## Prediction RMSE\n",
    "\n",
    "We will also look at the prediction RMSE."
   ]
  },
  {
   "cell_type": "code",
   "execution_count": 26,
   "id": "469107b1",
   "metadata": {
    "execution": {
     "iopub.execute_input": "2022-02-16T19:04:15.536603Z",
     "iopub.status.busy": "2022-02-16T19:04:15.536603Z",
     "iopub.status.idle": "2022-02-16T19:04:17.973134Z",
     "shell.execute_reply": "2022-02-16T19:04:17.972134Z"
    },
    "papermill": {
     "duration": 2.486497,
     "end_time": "2022-02-16T19:04:17.974131",
     "exception": false,
     "start_time": "2022-02-16T19:04:15.487634",
     "status": "completed"
    },
    "tags": []
   },
   "outputs": [],
   "source": [
    "user_rmse = preds.groupby(['algorithm', 'user']).apply(lambda df: rmse(df['prediction'], df['rating']))\n",
    "user_rmse = user_rmse.reset_index(name='RMSE')"
   ]
  },
  {
   "cell_type": "code",
   "execution_count": 27,
   "id": "9b245968",
   "metadata": {
    "execution": {
     "iopub.execute_input": "2022-02-16T19:04:18.042162Z",
     "iopub.status.busy": "2022-02-16T19:04:18.042162Z",
     "iopub.status.idle": "2022-02-16T19:04:18.316347Z",
     "shell.execute_reply": "2022-02-16T19:04:18.316347Z"
    },
    "papermill": {
     "duration": 0.311117,
     "end_time": "2022-02-16T19:04:18.318285",
     "exception": false,
     "start_time": "2022-02-16T19:04:18.007168",
     "status": "completed"
    },
    "tags": []
   },
   "outputs": [
    {
     "data": {
      "text/plain": [
       "<seaborn.axisgrid.FacetGrid at 0x23cbbd60df0>"
      ]
     },
     "execution_count": 27,
     "metadata": {},
     "output_type": "execute_result"
    },
    {
     "data": {
      "image/png": "[encoded data removed]",
      "text/plain": [
       "<Figure size 360x360 with 1 Axes>"
      ]
     },
     "metadata": {
      "needs_background": "light"
     },
     "output_type": "display_data"
    }
   ],
   "source": [
    "sns.catplot(x='algorithm', y='RMSE', data=user_rmse, kind='bar')"
   ]
  },
  {
   "cell_type": "code",
   "execution_count": null,
   "id": "0a9ca0e6",
   "metadata": {
    "papermill": {
     "duration": 0.03403,
     "end_time": "2022-02-16T19:04:18.386316",
     "exception": false,
     "start_time": "2022-02-16T19:04:18.352286",
     "status": "completed"
    },
    "tags": []
   },
   "outputs": [],
   "source": []
  }
 ],
 "metadata": {
  "kernelspec": {
   "display_name": "Python 3 (ipykernel)",
   "language": "python",
   "name": "python3"
  },
  "language_info": {
   "codemirror_mode": {
    "name": "ipython",
    "version": 3
   },
   "file_extension": ".py",
   "mimetype": "text/x-python",
   "name": "python",
   "nbconvert_exporter": "python",
   "pygments_lexer": "ipython3",
   "version": "3.9.7"
  },
  "papermill": {
   "default_parameters": {},
   "duration": 14.931365,
   "end_time": "2022-02-16T19:04:18.776304",
   "environment_variables": {},
   "exception": null,
   "input_path": "eval-report.ipynb",
   "output_path": "eval-report.ml100k.ipynb",
   "parameters": {
    "dataset": "ml100k"
   },
   "start_time": "2022-02-16T19:04:03.844939",
   "version": "2.3.3"
  }
 },
 "nbformat": 4,
 "nbformat_minor": 5
}