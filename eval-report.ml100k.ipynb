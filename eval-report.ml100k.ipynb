{
 "cells": [
  {
   "cell_type": "markdown",
   "id": "381bef4a",
   "metadata": {
    "papermill": {
     "duration": 0.002665,
     "end_time": "2024-12-07T20:16:57.403988",
     "exception": false,
     "start_time": "2024-12-07T20:16:57.401323",
     "status": "completed"
    },
    "tags": []
   },
   "source": [
    "# Evaluation Analysis for Recommender Output"
   ]
  },
  {
   "cell_type": "markdown",
   "id": "664c72ab",
   "metadata": {
    "papermill": {
     "duration": 0.001038,
     "end_time": "2024-12-07T20:16:57.406268",
     "exception": false,
     "start_time": "2024-12-07T20:16:57.405230",
     "status": "completed"
    },
    "tags": []
   },
   "source": [
    "In this section we will analyze and compare the generated recommendations and predictions from a predefined list of algorithms with the goal of assessing the performance of each algorithm with respect to a metric. In other words, we would rank the algorithms for each metric considered with respect to performance."
   ]
  },
  {
   "cell_type": "markdown",
   "id": "81fcb0af",
   "metadata": {
    "papermill": {
     "duration": 0.001011,
     "end_time": "2024-12-07T20:16:57.408375",
     "exception": false,
     "start_time": "2024-12-07T20:16:57.407364",
     "status": "completed"
    },
    "tags": []
   },
   "source": [
    "## Setup"
   ]
  },
  {
   "cell_type": "markdown",
   "id": "933a60f9",
   "metadata": {
    "papermill": {
     "duration": 0.001073,
     "end_time": "2024-12-07T20:16:57.410502",
     "exception": false,
     "start_time": "2024-12-07T20:16:57.409429",
     "status": "completed"
    },
    "tags": []
   },
   "source": [
    "Below are the list of packages required to successfully run the analysis. They are divided into partitions to signify their specific task.<br>\n",
    "We need the pathlib package for working with files and folders"
   ]
  },
  {
   "cell_type": "code",
   "execution_count": 1,
   "id": "9488a624",
   "metadata": {
    "execution": {
     "iopub.execute_input": "2024-12-07T20:16:57.413650Z",
     "iopub.status.busy": "2024-12-07T20:16:57.413334Z",
     "iopub.status.idle": "2024-12-07T20:16:57.415662Z",
     "shell.execute_reply": "2024-12-07T20:16:57.415375Z"
    },
    "papermill": {
     "duration": 0.004517,
     "end_time": "2024-12-07T20:16:57.416068",
     "exception": false,
     "start_time": "2024-12-07T20:16:57.411551",
     "status": "completed"
    },
    "tags": []
   },
   "outputs": [],
   "source": [
    "from pathlib import Path\n",
    "import json"
   ]
  },
  {
   "cell_type": "markdown",
   "id": "99e5fc5d",
   "metadata": {
    "papermill": {
     "duration": 0.001063,
     "end_time": "2024-12-07T20:16:57.418277",
     "exception": false,
     "start_time": "2024-12-07T20:16:57.417214",
     "status": "completed"
    },
    "tags": []
   },
   "source": [
    "We would use the pandas for analyzing and manipulating our data while seaborn and matplotlib are used for data visualization. statsmodels.graphics.gofplots and scipy.stats.shapiro are used for normality check. Scipy.stats.friedmanchisquare is a non-parametric test used to determine the statistical significance in metric results and the wilcoxon test is used for pairwise comparison of sample data."
   ]
  },
  {
   "cell_type": "code",
   "execution_count": 2,
   "id": "5443464f",
   "metadata": {
    "execution": {
     "iopub.execute_input": "2024-12-07T20:16:57.420983Z",
     "iopub.status.busy": "2024-12-07T20:16:57.420762Z",
     "iopub.status.idle": "2024-12-07T20:16:57.835823Z",
     "shell.execute_reply": "2024-12-07T20:16:57.835259Z"
    },
    "lines_to_next_cell": 2,
    "papermill": {
     "duration": 0.41725,
     "end_time": "2024-12-07T20:16:57.836626",
     "exception": false,
     "start_time": "2024-12-07T20:16:57.419376",
     "status": "completed"
    },
    "tags": []
   },
   "outputs": [],
   "source": [
    "import pandas as pd\n",
    "import seaborn as sns\n",
    "import matplotlib.pyplot as plt\n",
    "from statsmodels.graphics.gofplots import qqplot\n",
    "from scipy.stats import shapiro\n",
    "from scipy.stats import friedmanchisquare, wilcoxon\n",
    "from itertools import combinations"
   ]
  },
  {
   "cell_type": "markdown",
   "id": "17a97495",
   "metadata": {
    "papermill": {
     "duration": 0.009,
     "end_time": "2024-12-07T20:16:57.847006",
     "exception": false,
     "start_time": "2024-12-07T20:16:57.838006",
     "status": "completed"
    },
    "tags": []
   },
   "source": [
    "Import the LensKit metrics for analysis:"
   ]
  },
  {
   "cell_type": "code",
   "execution_count": 3,
   "id": "64672a8e",
   "metadata": {
    "execution": {
     "iopub.execute_input": "2024-12-07T20:16:57.849977Z",
     "iopub.status.busy": "2024-12-07T20:16:57.849860Z",
     "iopub.status.idle": "2024-12-07T20:16:58.503243Z",
     "shell.execute_reply": "2024-12-07T20:16:58.502549Z"
    },
    "papermill": {
     "duration": 0.655652,
     "end_time": "2024-12-07T20:16:58.503934",
     "exception": false,
     "start_time": "2024-12-07T20:16:57.848282",
     "status": "completed"
    },
    "tags": []
   },
   "outputs": [],
   "source": [
    "from lenskit.data import ItemListCollection, UserIDKey\n",
    "from lenskit.metrics import RunAnalysis, RMSE, NDCG, RecipRank, RBP"
   ]
  },
  {
   "cell_type": "markdown",
   "id": "63508ad7",
   "metadata": {
    "papermill": {
     "duration": 0.008821,
     "end_time": "2024-12-07T20:16:58.514142",
     "exception": false,
     "start_time": "2024-12-07T20:16:58.505321",
     "status": "completed"
    },
    "tags": []
   },
   "source": [
    "## Load Data\n",
    "\n",
    "The recommendations are in `runs`, and we will need to reassemble the test data from `test`."
   ]
  },
  {
   "cell_type": "code",
   "execution_count": 4,
   "id": "2d81312f",
   "metadata": {
    "execution": {
     "iopub.execute_input": "2024-12-07T20:16:58.516965Z",
     "iopub.status.busy": "2024-12-07T20:16:58.516881Z",
     "iopub.status.idle": "2024-12-07T20:16:58.518901Z",
     "shell.execute_reply": "2024-12-07T20:16:58.518655Z"
    },
    "papermill": {
     "duration": 0.00391,
     "end_time": "2024-12-07T20:16:58.519225",
     "exception": false,
     "start_time": "2024-12-07T20:16:58.515315",
     "status": "completed"
    },
    "tags": [
     "parameters"
    ]
   },
   "outputs": [],
   "source": [
    "dataset = \"ml100k\""
   ]
  },
  {
   "cell_type": "code",
   "execution_count": 5,
   "id": "5f7c3e1b",
   "metadata": {
    "execution": {
     "iopub.execute_input": "2024-12-07T20:16:58.521878Z",
     "iopub.status.busy": "2024-12-07T20:16:58.521811Z",
     "iopub.status.idle": "2024-12-07T20:16:58.523065Z",
     "shell.execute_reply": "2024-12-07T20:16:58.522934Z"
    },
    "papermill": {
     "duration": 0.003056,
     "end_time": "2024-12-07T20:16:58.523445",
     "exception": false,
     "start_time": "2024-12-07T20:16:58.520389",
     "status": "completed"
    },
    "tags": [
     "injected-parameters"
    ]
   },
   "outputs": [],
   "source": [
    "# Parameters\n",
    "dataset = \"ml100k\"\n"
   ]
  },
  {
   "cell_type": "code",
   "execution_count": 6,
   "id": "3ec95294",
   "metadata": {
    "execution": {
     "iopub.execute_input": "2024-12-07T20:16:58.526140Z",
     "iopub.status.busy": "2024-12-07T20:16:58.526069Z",
     "iopub.status.idle": "2024-12-07T20:16:58.527292Z",
     "shell.execute_reply": "2024-12-07T20:16:58.527156Z"
    },
    "papermill": {
     "duration": 0.002999,
     "end_time": "2024-12-07T20:16:58.527648",
     "exception": false,
     "start_time": "2024-12-07T20:16:58.524649",
     "status": "completed"
    },
    "tags": []
   },
   "outputs": [],
   "source": [
    "output_root = Path(\"runs\")"
   ]
  },
  {
   "cell_type": "code",
   "execution_count": 7,
   "id": "2fdbd191",
   "metadata": {
    "execution": {
     "iopub.execute_input": "2024-12-07T20:16:58.530241Z",
     "iopub.status.busy": "2024-12-07T20:16:58.530176Z",
     "iopub.status.idle": "2024-12-07T20:16:58.531611Z",
     "shell.execute_reply": "2024-12-07T20:16:58.531466Z"
    },
    "papermill": {
     "duration": 0.003073,
     "end_time": "2024-12-07T20:16:58.531898",
     "exception": false,
     "start_time": "2024-12-07T20:16:58.528825",
     "status": "completed"
    },
    "tags": []
   },
   "outputs": [],
   "source": [
    "dirs = [fld for fld in output_root.glob(f'{dataset}-*')]"
   ]
  },
  {
   "cell_type": "code",
   "execution_count": 8,
   "id": "57c58091",
   "metadata": {
    "execution": {
     "iopub.execute_input": "2024-12-07T20:16:58.534578Z",
     "iopub.status.busy": "2024-12-07T20:16:58.534514Z",
     "iopub.status.idle": "2024-12-07T20:16:59.641903Z",
     "shell.execute_reply": "2024-12-07T20:16:59.641514Z"
    },
    "papermill": {
     "duration": 1.109632,
     "end_time": "2024-12-07T20:16:59.642710",
     "exception": false,
     "start_time": "2024-12-07T20:16:58.533078",
     "status": "completed"
    },
    "tags": []
   },
   "outputs": [],
   "source": [
    "recs = ItemListCollection(['model', 'user_id'], index=False)\n",
    "for fld in dirs:\n",
    "    for file in fld.glob(\"recs-*\"):\n",
    "        rec = pd.read_parquet(file)\n",
    "        rec = ItemListCollection.from_df(rec, UserIDKey)\n",
    "        recs.add_from(rec, model=fld.name.split(\"-\")[1])"
   ]
  },
  {
   "cell_type": "code",
   "execution_count": 9,
   "id": "effd04de",
   "metadata": {
    "execution": {
     "iopub.execute_input": "2024-12-07T20:16:59.653750Z",
     "iopub.status.busy": "2024-12-07T20:16:59.653670Z",
     "iopub.status.idle": "2024-12-07T20:16:59.656909Z",
     "shell.execute_reply": "2024-12-07T20:16:59.656769Z"
    },
    "papermill": {
     "duration": 0.013162,
     "end_time": "2024-12-07T20:16:59.657294",
     "exception": false,
     "start_time": "2024-12-07T20:16:59.644132",
     "status": "completed"
    },
    "tags": []
   },
   "outputs": [
    {
     "data": {
      "text/plain": [
       "['ALS', 'Bias', 'IALS', 'IIE', 'III', 'Pop', 'UUE']"
      ]
     },
     "execution_count": 9,
     "metadata": {},
     "output_type": "execute_result"
    }
   ],
   "source": [
    "rec_algos = sorted(set(a for (a, _u) in recs.keys()))\n",
    "rec_algos"
   ]
  },
  {
   "cell_type": "code",
   "execution_count": 10,
   "id": "4593fe69",
   "metadata": {
    "execution": {
     "iopub.execute_input": "2024-12-07T20:16:59.660220Z",
     "iopub.status.busy": "2024-12-07T20:16:59.660149Z",
     "iopub.status.idle": "2024-12-07T20:17:00.258216Z",
     "shell.execute_reply": "2024-12-07T20:17:00.257830Z"
    },
    "papermill": {
     "duration": 0.600504,
     "end_time": "2024-12-07T20:17:00.259081",
     "exception": false,
     "start_time": "2024-12-07T20:16:59.658577",
     "status": "completed"
    },
    "tags": []
   },
   "outputs": [],
   "source": [
    "preds = ItemListCollection(['model', 'user_id'], index=False)\n",
    "for fld in dirs:\n",
    "    for file in fld.glob(\"pred-*\"):\n",
    "        pred = pd.read_parquet(file)\n",
    "        pred = ItemListCollection.from_df(pred, UserIDKey)\n",
    "        preds.add_from(pred, model=fld.name.split(\"-\")[1])"
   ]
  },
  {
   "cell_type": "markdown",
   "id": "5f88f622",
   "metadata": {
    "papermill": {
     "duration": 0.00923,
     "end_time": "2024-12-07T20:17:00.269762",
     "exception": false,
     "start_time": "2024-12-07T20:17:00.260532",
     "status": "completed"
    },
    "tags": []
   },
   "source": [
    "We need to load the test data so that we have the ground truths for computing accuracy"
   ]
  },
  {
   "cell_type": "code",
   "execution_count": 11,
   "id": "bf88dbf4",
   "metadata": {
    "execution": {
     "iopub.execute_input": "2024-12-07T20:17:00.272915Z",
     "iopub.status.busy": "2024-12-07T20:17:00.272826Z",
     "iopub.status.idle": "2024-12-07T20:17:00.274525Z",
     "shell.execute_reply": "2024-12-07T20:17:00.274388Z"
    },
    "papermill": {
     "duration": 0.003969,
     "end_time": "2024-12-07T20:17:00.275033",
     "exception": false,
     "start_time": "2024-12-07T20:17:00.271064",
     "status": "completed"
    },
    "tags": []
   },
   "outputs": [],
   "source": [
    "split_root = Path(\"data-split\")\n",
    "split_dir = split_root / dataset"
   ]
  },
  {
   "cell_type": "code",
   "execution_count": 12,
   "id": "bbd3075e",
   "metadata": {
    "execution": {
     "iopub.execute_input": "2024-12-07T20:17:00.277881Z",
     "iopub.status.busy": "2024-12-07T20:17:00.277785Z",
     "iopub.status.idle": "2024-12-07T20:17:00.406181Z",
     "shell.execute_reply": "2024-12-07T20:17:00.405939Z"
    },
    "papermill": {
     "duration": 0.130569,
     "end_time": "2024-12-07T20:17:00.406861",
     "exception": false,
     "start_time": "2024-12-07T20:17:00.276292",
     "status": "completed"
    },
    "tags": []
   },
   "outputs": [],
   "source": [
    "test = ItemListCollection(UserIDKey)\n",
    "for file in split_dir.glob(\"test-*.parquet\"):\n",
    "    df = pd.read_parquet(file)\n",
    "    test.add_from(ItemListCollection.from_df(df, UserIDKey))"
   ]
  },
  {
   "cell_type": "markdown",
   "id": "d1cc45f7",
   "metadata": {
    "papermill": {
     "duration": 0.009096,
     "end_time": "2024-12-07T20:17:00.417403",
     "exception": false,
     "start_time": "2024-12-07T20:17:00.408307",
     "status": "completed"
    },
    "tags": []
   },
   "source": [
    "## Top-N Metrics\n",
    "\n",
    "`RunListAnalysis` computes metrics for recommendation results and takes care of\n",
    "matching recommendations and ground truth."
   ]
  },
  {
   "cell_type": "code",
   "execution_count": 13,
   "id": "5cc74039",
   "metadata": {
    "execution": {
     "iopub.execute_input": "2024-12-07T20:17:00.420503Z",
     "iopub.status.busy": "2024-12-07T20:17:00.420398Z",
     "iopub.status.idle": "2024-12-07T20:17:00.891756Z",
     "shell.execute_reply": "2024-12-07T20:17:00.891310Z"
    },
    "papermill": {
     "duration": 0.473731,
     "end_time": "2024-12-07T20:17:00.892427",
     "exception": false,
     "start_time": "2024-12-07T20:17:00.418696",
     "status": "completed"
    },
    "tags": []
   },
   "outputs": [
    {
     "name": "stderr",
     "output_type": "stream",
     "text": [
      "/home/mde48/lenskit/lkpy/lenskit/lenskit/metrics/bulk.py:116: FutureWarning: The previous implementation of stack is deprecated and will be removed in a future version of pandas. See the What's New notes for pandas 2.1.0 for details. Specify future_stack=True to adopt the new implementation and silence this warning.\n",
      "  df = scores.groupby(list(keys)).agg([\"mean\", \"median\", \"std\"]).stack(level=0)\n"
     ]
    },
    {
     "data": {
      "text/html": [
       "<div>\n",
       "<style scoped>\n",
       "    .dataframe tbody tr th:only-of-type {\n",
       "        vertical-align: middle;\n",
       "    }\n",
       "\n",
       "    .dataframe tbody tr th {\n",
       "        vertical-align: top;\n",
       "    }\n",
       "\n",
       "    .dataframe thead th {\n",
       "        text-align: right;\n",
       "    }\n",
       "</style>\n",
       "<table border=\"1\" class=\"dataframe\">\n",
       "  <thead>\n",
       "    <tr style=\"text-align: right;\">\n",
       "      <th></th>\n",
       "      <th></th>\n",
       "      <th>mean</th>\n",
       "      <th>median</th>\n",
       "      <th>std</th>\n",
       "    </tr>\n",
       "    <tr>\n",
       "      <th>model</th>\n",
       "      <th></th>\n",
       "      <th></th>\n",
       "      <th></th>\n",
       "      <th></th>\n",
       "    </tr>\n",
       "  </thead>\n",
       "  <tbody>\n",
       "    <tr>\n",
       "      <th rowspan=\"3\" valign=\"top\">ALS</th>\n",
       "      <th>NDCG</th>\n",
       "      <td>0.076304</td>\n",
       "      <td>4.974829e-02</td>\n",
       "      <td>0.091255</td>\n",
       "    </tr>\n",
       "    <tr>\n",
       "      <th>RBP</th>\n",
       "      <td>0.022969</td>\n",
       "      <td>6.938894e-18</td>\n",
       "      <td>0.091461</td>\n",
       "    </tr>\n",
       "    <tr>\n",
       "      <th>RecipRank</th>\n",
       "      <td>0.075490</td>\n",
       "      <td>1.754386e-02</td>\n",
       "      <td>0.176918</td>\n",
       "    </tr>\n",
       "    <tr>\n",
       "      <th rowspan=\"3\" valign=\"top\">Bias</th>\n",
       "      <th>NDCG</th>\n",
       "      <td>0.077457</td>\n",
       "      <td>5.312220e-02</td>\n",
       "      <td>0.090349</td>\n",
       "    </tr>\n",
       "    <tr>\n",
       "      <th>RBP</th>\n",
       "      <td>0.016942</td>\n",
       "      <td>1.776357e-15</td>\n",
       "      <td>0.073437</td>\n",
       "    </tr>\n",
       "    <tr>\n",
       "      <th>RecipRank</th>\n",
       "      <td>0.068016</td>\n",
       "      <td>2.040816e-02</td>\n",
       "      <td>0.147820</td>\n",
       "    </tr>\n",
       "    <tr>\n",
       "      <th rowspan=\"3\" valign=\"top\">IALS</th>\n",
       "      <th>NDCG</th>\n",
       "      <td>0.290632</td>\n",
       "      <td>2.467713e-01</td>\n",
       "      <td>0.175422</td>\n",
       "    </tr>\n",
       "    <tr>\n",
       "      <th>RBP</th>\n",
       "      <td>0.114411</td>\n",
       "      <td>3.906280e-03</td>\n",
       "      <td>0.198986</td>\n",
       "    </tr>\n",
       "    <tr>\n",
       "      <th>RecipRank</th>\n",
       "      <td>0.257057</td>\n",
       "      <td>1.250000e-01</td>\n",
       "      <td>0.306638</td>\n",
       "    </tr>\n",
       "    <tr>\n",
       "      <th rowspan=\"3\" valign=\"top\">IIE</th>\n",
       "      <th>NDCG</th>\n",
       "      <td>0.057488</td>\n",
       "      <td>4.467052e-02</td>\n",
       "      <td>0.070846</td>\n",
       "    </tr>\n",
       "    <tr>\n",
       "      <th>RBP</th>\n",
       "      <td>0.007631</td>\n",
       "      <td>8.271806e-25</td>\n",
       "      <td>0.049530</td>\n",
       "    </tr>\n",
       "    <tr>\n",
       "      <th>RecipRank</th>\n",
       "      <td>0.039690</td>\n",
       "      <td>1.250000e-02</td>\n",
       "      <td>0.104957</td>\n",
       "    </tr>\n",
       "    <tr>\n",
       "      <th rowspan=\"3\" valign=\"top\">III</th>\n",
       "      <th>NDCG</th>\n",
       "      <td>0.057488</td>\n",
       "      <td>4.467052e-02</td>\n",
       "      <td>0.070846</td>\n",
       "    </tr>\n",
       "    <tr>\n",
       "      <th>RBP</th>\n",
       "      <td>0.007631</td>\n",
       "      <td>8.271806e-25</td>\n",
       "      <td>0.049530</td>\n",
       "    </tr>\n",
       "    <tr>\n",
       "      <th>RecipRank</th>\n",
       "      <td>0.039690</td>\n",
       "      <td>1.250000e-02</td>\n",
       "      <td>0.104957</td>\n",
       "    </tr>\n",
       "    <tr>\n",
       "      <th rowspan=\"3\" valign=\"top\">Pop</th>\n",
       "      <th>NDCG</th>\n",
       "      <td>0.187684</td>\n",
       "      <td>1.560404e-01</td>\n",
       "      <td>0.139955</td>\n",
       "    </tr>\n",
       "    <tr>\n",
       "      <th>RBP</th>\n",
       "      <td>0.081261</td>\n",
       "      <td>4.882812e-04</td>\n",
       "      <td>0.163514</td>\n",
       "    </tr>\n",
       "    <tr>\n",
       "      <th>RecipRank</th>\n",
       "      <td>0.207395</td>\n",
       "      <td>9.090909e-02</td>\n",
       "      <td>0.285323</td>\n",
       "    </tr>\n",
       "    <tr>\n",
       "      <th rowspan=\"3\" valign=\"top\">UUE</th>\n",
       "      <th>NDCG</th>\n",
       "      <td>0.035936</td>\n",
       "      <td>4.283597e-02</td>\n",
       "      <td>0.042351</td>\n",
       "    </tr>\n",
       "    <tr>\n",
       "      <th>RBP</th>\n",
       "      <td>0.000128</td>\n",
       "      <td>5.048710e-29</td>\n",
       "      <td>0.001650</td>\n",
       "    </tr>\n",
       "    <tr>\n",
       "      <th>RecipRank</th>\n",
       "      <td>0.013789</td>\n",
       "      <td>1.063830e-02</td>\n",
       "      <td>0.021431</td>\n",
       "    </tr>\n",
       "  </tbody>\n",
       "</table>\n",
       "</div>"
      ],
      "text/plain": [
       "                     mean        median       std\n",
       "model                                            \n",
       "ALS   NDCG       0.076304  4.974829e-02  0.091255\n",
       "      RBP        0.022969  6.938894e-18  0.091461\n",
       "      RecipRank  0.075490  1.754386e-02  0.176918\n",
       "Bias  NDCG       0.077457  5.312220e-02  0.090349\n",
       "      RBP        0.016942  1.776357e-15  0.073437\n",
       "      RecipRank  0.068016  2.040816e-02  0.147820\n",
       "IALS  NDCG       0.290632  2.467713e-01  0.175422\n",
       "      RBP        0.114411  3.906280e-03  0.198986\n",
       "      RecipRank  0.257057  1.250000e-01  0.306638\n",
       "IIE   NDCG       0.057488  4.467052e-02  0.070846\n",
       "      RBP        0.007631  8.271806e-25  0.049530\n",
       "      RecipRank  0.039690  1.250000e-02  0.104957\n",
       "III   NDCG       0.057488  4.467052e-02  0.070846\n",
       "      RBP        0.007631  8.271806e-25  0.049530\n",
       "      RecipRank  0.039690  1.250000e-02  0.104957\n",
       "Pop   NDCG       0.187684  1.560404e-01  0.139955\n",
       "      RBP        0.081261  4.882812e-04  0.163514\n",
       "      RecipRank  0.207395  9.090909e-02  0.285323\n",
       "UUE   NDCG       0.035936  4.283597e-02  0.042351\n",
       "      RBP        0.000128  5.048710e-29  0.001650\n",
       "      RecipRank  0.013789  1.063830e-02  0.021431"
      ]
     },
     "execution_count": 13,
     "metadata": {},
     "output_type": "execute_result"
    }
   ],
   "source": [
    "ra = RunAnalysis()\n",
    "\n",
    "ra.add_metric(NDCG())\n",
    "ra.add_metric(RecipRank())\n",
    "ra.add_metric(RBP())\n",
    "\n",
    "rec_results = ra.compute(recs, test)\n",
    "rec_results.list_summary('model')"
   ]
  },
  {
   "cell_type": "markdown",
   "id": "b17ba3e5",
   "metadata": {
    "papermill": {
     "duration": 0.001475,
     "end_time": "2024-12-07T20:17:00.895494",
     "exception": false,
     "start_time": "2024-12-07T20:17:00.894019",
     "status": "completed"
    },
    "tags": []
   },
   "source": [
    "We can reshape the list metrics and plot them:"
   ]
  },
  {
   "cell_type": "code",
   "execution_count": 14,
   "id": "5c479b59",
   "metadata": {
    "execution": {
     "iopub.execute_input": "2024-12-07T20:17:00.898899Z",
     "iopub.status.busy": "2024-12-07T20:17:00.898817Z",
     "iopub.status.idle": "2024-12-07T20:17:01.254977Z",
     "shell.execute_reply": "2024-12-07T20:17:01.254674Z"
    },
    "papermill": {
     "duration": 0.358776,
     "end_time": "2024-12-07T20:17:01.255692",
     "exception": false,
     "start_time": "2024-12-07T20:17:00.896916",
     "status": "completed"
    },
    "tags": []
   },
   "outputs": [
    {
     "data": {
      "image/png": "[encoded data removed]",
      "text/plain": [
       "<Figure size 1511.11x500 with 3 Axes>"
      ]
     },
     "metadata": {},
     "output_type": "display_data"
    }
   ],
   "source": [
    "metrics = rec_results.list_metrics()\n",
    "metrics = metrics.melt(var_name='metric', ignore_index=False).reset_index()\n",
    "sns.catplot(metrics, x='model', y='value', col='metric', kind='bar')\n",
    "plt.show()"
   ]
  },
  {
   "cell_type": "markdown",
   "id": "904ccd24",
   "metadata": {
    "papermill": {
     "duration": 0.008974,
     "end_time": "2024-12-07T20:17:01.266347",
     "exception": false,
     "start_time": "2024-12-07T20:17:01.257373",
     "status": "completed"
    },
    "tags": []
   },
   "source": [
    "## Prediction RMSE\n",
    "\n",
    "We will also look at the prediction RMSE."
   ]
  },
  {
   "cell_type": "code",
   "execution_count": 15,
   "id": "ca056d28",
   "metadata": {
    "execution": {
     "iopub.execute_input": "2024-12-07T20:17:01.270018Z",
     "iopub.status.busy": "2024-12-07T20:17:01.269917Z",
     "iopub.status.idle": "2024-12-07T20:17:02.540056Z",
     "shell.execute_reply": "2024-12-07T20:17:02.539902Z"
    },
    "papermill": {
     "duration": 1.2728,
     "end_time": "2024-12-07T20:17:02.540647",
     "exception": false,
     "start_time": "2024-12-07T20:17:01.267847",
     "status": "completed"
    },
    "tags": []
   },
   "outputs": [
    {
     "name": "stderr",
     "output_type": "stream",
     "text": [
      "/home/mde48/lenskit/lkpy/lenskit/lenskit/metrics/bulk.py:116: FutureWarning: The previous implementation of stack is deprecated and will be removed in a future version of pandas. See the What's New notes for pandas 2.1.0 for details. Specify future_stack=True to adopt the new implementation and silence this warning.\n",
      "  df = scores.groupby(list(keys)).agg([\"mean\", \"median\", \"std\"]).stack(level=0)\n"
     ]
    },
    {
     "data": {
      "text/html": [
       "<div>\n",
       "<style scoped>\n",
       "    .dataframe tbody tr th:only-of-type {\n",
       "        vertical-align: middle;\n",
       "    }\n",
       "\n",
       "    .dataframe tbody tr th {\n",
       "        vertical-align: top;\n",
       "    }\n",
       "\n",
       "    .dataframe thead th {\n",
       "        text-align: right;\n",
       "    }\n",
       "</style>\n",
       "<table border=\"1\" class=\"dataframe\">\n",
       "  <thead>\n",
       "    <tr style=\"text-align: right;\">\n",
       "      <th></th>\n",
       "      <th></th>\n",
       "      <th>mean</th>\n",
       "      <th>median</th>\n",
       "      <th>std</th>\n",
       "    </tr>\n",
       "    <tr>\n",
       "      <th>model</th>\n",
       "      <th></th>\n",
       "      <th></th>\n",
       "      <th></th>\n",
       "      <th></th>\n",
       "    </tr>\n",
       "  </thead>\n",
       "  <tbody>\n",
       "    <tr>\n",
       "      <th>ALS</th>\n",
       "      <th>RMSE</th>\n",
       "      <td>0.883977</td>\n",
       "      <td>0.829830</td>\n",
       "      <td>0.337821</td>\n",
       "    </tr>\n",
       "    <tr>\n",
       "      <th>Bias</th>\n",
       "      <th>RMSE</th>\n",
       "      <td>0.909377</td>\n",
       "      <td>0.867472</td>\n",
       "      <td>0.344338</td>\n",
       "    </tr>\n",
       "    <tr>\n",
       "      <th>IIE</th>\n",
       "      <th>RMSE</th>\n",
       "      <td>0.874066</td>\n",
       "      <td>0.824863</td>\n",
       "      <td>0.343443</td>\n",
       "    </tr>\n",
       "    <tr>\n",
       "      <th>UUE</th>\n",
       "      <th>RMSE</th>\n",
       "      <td>0.895035</td>\n",
       "      <td>0.842309</td>\n",
       "      <td>0.358073</td>\n",
       "    </tr>\n",
       "  </tbody>\n",
       "</table>\n",
       "</div>"
      ],
      "text/plain": [
       "                mean    median       std\n",
       "model                                   \n",
       "ALS   RMSE  0.883977  0.829830  0.337821\n",
       "Bias  RMSE  0.909377  0.867472  0.344338\n",
       "IIE   RMSE  0.874066  0.824863  0.343443\n",
       "UUE   RMSE  0.895035  0.842309  0.358073"
      ]
     },
     "execution_count": 15,
     "metadata": {},
     "output_type": "execute_result"
    }
   ],
   "source": [
    "pa = RunAnalysis()\n",
    "\n",
    "pa.add_metric(RMSE(missing_scores='ignore', missing_truth='ignore'))\n",
    "\n",
    "pred_results = pa.compute(preds, test)\n",
    "pred_results.list_summary('model')"
   ]
  },
  {
   "cell_type": "code",
   "execution_count": 16,
   "id": "0626a38e",
   "metadata": {
    "execution": {
     "iopub.execute_input": "2024-12-07T20:17:02.552001Z",
     "iopub.status.busy": "2024-12-07T20:17:02.551883Z",
     "iopub.status.idle": "2024-12-07T20:17:02.635197Z",
     "shell.execute_reply": "2024-12-07T20:17:02.634966Z"
    },
    "papermill": {
     "duration": 0.093451,
     "end_time": "2024-12-07T20:17:02.635803",
     "exception": false,
     "start_time": "2024-12-07T20:17:02.542352",
     "status": "completed"
    },
    "tags": []
   },
   "outputs": [
    {
     "data": {
      "image/png": "[encoded data removed]",
      "text/plain": [
       "<Figure size 511.111x500 with 1 Axes>"
      ]
     },
     "metadata": {},
     "output_type": "display_data"
    }
   ],
   "source": [
    "sns.catplot(pred_results.list_metrics().reset_index(), x='model', y='RMSE', kind='bar')\n",
    "plt.show()"
   ]
  },
  {
   "cell_type": "markdown",
   "id": "c635bf68",
   "metadata": {
    "papermill": {
     "duration": 0.001593,
     "end_time": "2024-12-07T20:17:02.639102",
     "exception": false,
     "start_time": "2024-12-07T20:17:02.637509",
     "status": "completed"
    },
    "tags": []
   },
   "source": [
    "## Save Metrics\n",
    "\n",
    "We'll now save the metrics to a file."
   ]
  },
  {
   "cell_type": "code",
   "execution_count": 17,
   "id": "d1d7f624",
   "metadata": {
    "execution": {
     "iopub.execute_input": "2024-12-07T20:17:02.642692Z",
     "iopub.status.busy": "2024-12-07T20:17:02.642591Z",
     "iopub.status.idle": "2024-12-07T20:17:02.648961Z",
     "shell.execute_reply": "2024-12-07T20:17:02.648830Z"
    },
    "papermill": {
     "duration": 0.008684,
     "end_time": "2024-12-07T20:17:02.649423",
     "exception": false,
     "start_time": "2024-12-07T20:17:02.640739",
     "status": "completed"
    },
    "tags": []
   },
   "outputs": [
    {
     "name": "stderr",
     "output_type": "stream",
     "text": [
      "/home/mde48/lenskit/lkpy/lenskit/lenskit/metrics/bulk.py:116: FutureWarning: The previous implementation of stack is deprecated and will be removed in a future version of pandas. See the What's New notes for pandas 2.1.0 for details. Specify future_stack=True to adopt the new implementation and silence this warning.\n",
      "  df = scores.groupby(list(keys)).agg([\"mean\", \"median\", \"std\"]).stack(level=0)\n"
     ]
    },
    {
     "data": {
      "text/html": [
       "<div>\n",
       "<style scoped>\n",
       "    .dataframe tbody tr th:only-of-type {\n",
       "        vertical-align: middle;\n",
       "    }\n",
       "\n",
       "    .dataframe tbody tr th {\n",
       "        vertical-align: top;\n",
       "    }\n",
       "\n",
       "    .dataframe thead th {\n",
       "        text-align: right;\n",
       "    }\n",
       "</style>\n",
       "<table border=\"1\" class=\"dataframe\">\n",
       "  <thead>\n",
       "    <tr style=\"text-align: right;\">\n",
       "      <th></th>\n",
       "      <th>NDCG</th>\n",
       "      <th>RBP</th>\n",
       "      <th>RecipRank</th>\n",
       "    </tr>\n",
       "    <tr>\n",
       "      <th>model</th>\n",
       "      <th></th>\n",
       "      <th></th>\n",
       "      <th></th>\n",
       "    </tr>\n",
       "  </thead>\n",
       "  <tbody>\n",
       "    <tr>\n",
       "      <th>ALS</th>\n",
       "      <td>0.076304</td>\n",
       "      <td>0.022969</td>\n",
       "      <td>0.075490</td>\n",
       "    </tr>\n",
       "    <tr>\n",
       "      <th>Bias</th>\n",
       "      <td>0.077457</td>\n",
       "      <td>0.016942</td>\n",
       "      <td>0.068016</td>\n",
       "    </tr>\n",
       "    <tr>\n",
       "      <th>IALS</th>\n",
       "      <td>0.290632</td>\n",
       "      <td>0.114411</td>\n",
       "      <td>0.257057</td>\n",
       "    </tr>\n",
       "    <tr>\n",
       "      <th>IIE</th>\n",
       "      <td>0.057488</td>\n",
       "      <td>0.007631</td>\n",
       "      <td>0.039690</td>\n",
       "    </tr>\n",
       "    <tr>\n",
       "      <th>III</th>\n",
       "      <td>0.057488</td>\n",
       "      <td>0.007631</td>\n",
       "      <td>0.039690</td>\n",
       "    </tr>\n",
       "    <tr>\n",
       "      <th>Pop</th>\n",
       "      <td>0.187684</td>\n",
       "      <td>0.081261</td>\n",
       "      <td>0.207395</td>\n",
       "    </tr>\n",
       "    <tr>\n",
       "      <th>UUE</th>\n",
       "      <td>0.035936</td>\n",
       "      <td>0.000128</td>\n",
       "      <td>0.013789</td>\n",
       "    </tr>\n",
       "  </tbody>\n",
       "</table>\n",
       "</div>"
      ],
      "text/plain": [
       "           NDCG       RBP  RecipRank\n",
       "model                               \n",
       "ALS    0.076304  0.022969   0.075490\n",
       "Bias   0.077457  0.016942   0.068016\n",
       "IALS   0.290632  0.114411   0.257057\n",
       "IIE    0.057488  0.007631   0.039690\n",
       "III    0.057488  0.007631   0.039690\n",
       "Pop    0.187684  0.081261   0.207395\n",
       "UUE    0.035936  0.000128   0.013789"
      ]
     },
     "execution_count": 17,
     "metadata": {},
     "output_type": "execute_result"
    }
   ],
   "source": [
    "rlsum = rec_results.list_summary('model')['mean'].unstack()\n",
    "rlsum"
   ]
  },
  {
   "cell_type": "code",
   "execution_count": 18,
   "id": "f564b364",
   "metadata": {
    "execution": {
     "iopub.execute_input": "2024-12-07T20:17:02.653227Z",
     "iopub.status.busy": "2024-12-07T20:17:02.653126Z",
     "iopub.status.idle": "2024-12-07T20:17:02.655717Z",
     "shell.execute_reply": "2024-12-07T20:17:02.655453Z"
    },
    "papermill": {
     "duration": 0.005012,
     "end_time": "2024-12-07T20:17:02.656143",
     "exception": false,
     "start_time": "2024-12-07T20:17:02.651131",
     "status": "completed"
    },
    "tags": []
   },
   "outputs": [],
   "source": [
    "rlsum.to_json(f'eval-metrics.{dataset}.json', orient='index')"
   ]
  }
 ],
 "metadata": {
  "jupytext": {
   "formats": "ipynb,md",
   "notebook_metadata_filter": "split_at_heading"
  },
  "kernelspec": {
   "display_name": "Python 3 (ipykernel)",
   "language": "python",
   "name": "python3"
  },
  "language_info": {
   "codemirror_mode": {
    "name": "ipython",
    "version": 3
   },
   "file_extension": ".py",
   "mimetype": "text/x-python",
   "name": "python",
   "nbconvert_exporter": "python",
   "pygments_lexer": "ipython3",
   "version": "3.12.7"
  },
  "papermill": {
   "default_parameters": {},
   "duration": 6.303312,
   "end_time": "2024-12-07T20:17:03.072003",
   "environment_variables": {},
   "exception": null,
   "input_path": "eval-report.ipynb",
   "output_path": "eval-report.ml100k.ipynb",
   "parameters": {
    "dataset": "ml100k"
   },
   "start_time": "2024-12-07T20:16:56.768691",
   "version": "2.6.0"
  },
  "split_at_heading": true
 },
 "nbformat": 4,
 "nbformat_minor": 5
}