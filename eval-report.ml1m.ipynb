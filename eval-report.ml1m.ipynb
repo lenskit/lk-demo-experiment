{
 "cells": [
  {
   "cell_type": "markdown",
   "id": "7291eba0",
   "metadata": {
    "papermill": {
     "duration": 0.010549,
     "end_time": "2024-12-17T17:32:54.365870",
     "exception": false,
     "start_time": "2024-12-17T17:32:54.355321",
     "status": "completed"
    },
    "tags": []
   },
   "source": [
    "# Evaluation Analysis for Recommender Output"
   ]
  },
  {
   "cell_type": "markdown",
   "id": "872010be",
   "metadata": {
    "papermill": {
     "duration": 0.001383,
     "end_time": "2024-12-17T17:32:54.369484",
     "exception": false,
     "start_time": "2024-12-17T17:32:54.368101",
     "status": "completed"
    },
    "tags": []
   },
   "source": [
    "In this section we will analyze and compare the generated recommendations and predictions from a predefined list of algorithms with the goal of assessing the performance of each algorithm with respect to a metric. In other words, we would rank the algorithms for each metric considered with respect to performance."
   ]
  },
  {
   "cell_type": "markdown",
   "id": "aaaf15df",
   "metadata": {
    "papermill": {
     "duration": 0.00101,
     "end_time": "2024-12-17T17:32:54.371595",
     "exception": false,
     "start_time": "2024-12-17T17:32:54.370585",
     "status": "completed"
    },
    "tags": []
   },
   "source": [
    "## Setup"
   ]
  },
  {
   "cell_type": "markdown",
   "id": "8684b9cf",
   "metadata": {
    "papermill": {
     "duration": 0.001098,
     "end_time": "2024-12-17T17:32:54.373747",
     "exception": false,
     "start_time": "2024-12-17T17:32:54.372649",
     "status": "completed"
    },
    "tags": []
   },
   "source": [
    "Below are the list of packages required to successfully run the analysis. They are divided into partitions to signify their specific task.<br>\n",
    "We need the pathlib package for working with files and folders"
   ]
  },
  {
   "cell_type": "code",
   "execution_count": 1,
   "id": "ee069941",
   "metadata": {
    "execution": {
     "iopub.execute_input": "2024-12-17T17:32:54.376981Z",
     "iopub.status.busy": "2024-12-17T17:32:54.376556Z",
     "iopub.status.idle": "2024-12-17T17:32:54.379144Z",
     "shell.execute_reply": "2024-12-17T17:32:54.378894Z"
    },
    "papermill": {
     "duration": 0.004915,
     "end_time": "2024-12-17T17:32:54.379736",
     "exception": false,
     "start_time": "2024-12-17T17:32:54.374821",
     "status": "completed"
    },
    "tags": []
   },
   "outputs": [],
   "source": [
    "from pathlib import Path\n",
    "import json"
   ]
  },
  {
   "cell_type": "markdown",
   "id": "50590acc",
   "metadata": {
    "papermill": {
     "duration": 0.001264,
     "end_time": "2024-12-17T17:32:54.382495",
     "exception": false,
     "start_time": "2024-12-17T17:32:54.381231",
     "status": "completed"
    },
    "tags": []
   },
   "source": [
    "We would use the pandas for analyzing and manipulating our data while seaborn and matplotlib are used for data visualization. statsmodels.graphics.gofplots and scipy.stats.shapiro are used for normality check. Scipy.stats.friedmanchisquare is a non-parametric test used to determine the statistical significance in metric results and the wilcoxon test is used for pairwise comparison of sample data."
   ]
  },
  {
   "cell_type": "code",
   "execution_count": 2,
   "id": "d40cc792",
   "metadata": {
    "execution": {
     "iopub.execute_input": "2024-12-17T17:32:54.385227Z",
     "iopub.status.busy": "2024-12-17T17:32:54.385009Z",
     "iopub.status.idle": "2024-12-17T17:32:54.801336Z",
     "shell.execute_reply": "2024-12-17T17:32:54.801051Z"
    },
    "lines_to_next_cell": 2,
    "papermill": {
     "duration": 0.418453,
     "end_time": "2024-12-17T17:32:54.802050",
     "exception": false,
     "start_time": "2024-12-17T17:32:54.383597",
     "status": "completed"
    },
    "tags": []
   },
   "outputs": [],
   "source": [
    "import pandas as pd\n",
    "import seaborn as sns\n",
    "import matplotlib.pyplot as plt\n",
    "from statsmodels.graphics.gofplots import qqplot\n",
    "from scipy.stats import shapiro\n",
    "from scipy.stats import friedmanchisquare, wilcoxon\n",
    "from itertools import combinations"
   ]
  },
  {
   "cell_type": "markdown",
   "id": "76360899",
   "metadata": {
    "papermill": {
     "duration": 0.001248,
     "end_time": "2024-12-17T17:32:54.804776",
     "exception": false,
     "start_time": "2024-12-17T17:32:54.803528",
     "status": "completed"
    },
    "tags": []
   },
   "source": [
    "Import the LensKit metrics for analysis:"
   ]
  },
  {
   "cell_type": "code",
   "execution_count": 3,
   "id": "9f0614f8",
   "metadata": {
    "execution": {
     "iopub.execute_input": "2024-12-17T17:32:54.807670Z",
     "iopub.status.busy": "2024-12-17T17:32:54.807554Z",
     "iopub.status.idle": "2024-12-17T17:32:55.444744Z",
     "shell.execute_reply": "2024-12-17T17:32:55.444359Z"
    },
    "papermill": {
     "duration": 0.639516,
     "end_time": "2024-12-17T17:32:55.445528",
     "exception": false,
     "start_time": "2024-12-17T17:32:54.806012",
     "status": "completed"
    },
    "tags": []
   },
   "outputs": [],
   "source": [
    "from lenskit.data import ItemListCollection, UserIDKey\n",
    "from lenskit.metrics import RunAnalysis, RMSE, NDCG, RecipRank, RBP"
   ]
  },
  {
   "cell_type": "markdown",
   "id": "44472f41",
   "metadata": {
    "papermill": {
     "duration": 0.008954,
     "end_time": "2024-12-17T17:32:55.455898",
     "exception": false,
     "start_time": "2024-12-17T17:32:55.446944",
     "status": "completed"
    },
    "tags": []
   },
   "source": [
    "## Load Data\n",
    "\n",
    "The recommendations are in `runs`, and we will need to reassemble the test data from `test`."
   ]
  },
  {
   "cell_type": "code",
   "execution_count": 4,
   "id": "a854029a",
   "metadata": {
    "execution": {
     "iopub.execute_input": "2024-12-17T17:32:55.458985Z",
     "iopub.status.busy": "2024-12-17T17:32:55.458883Z",
     "iopub.status.idle": "2024-12-17T17:32:55.460652Z",
     "shell.execute_reply": "2024-12-17T17:32:55.460300Z"
    },
    "papermill": {
     "duration": 0.004018,
     "end_time": "2024-12-17T17:32:55.461148",
     "exception": false,
     "start_time": "2024-12-17T17:32:55.457130",
     "status": "completed"
    },
    "tags": [
     "parameters"
    ]
   },
   "outputs": [],
   "source": [
    "dataset = \"ml100k\""
   ]
  },
  {
   "cell_type": "code",
   "execution_count": 5,
   "id": "990e8586",
   "metadata": {
    "execution": {
     "iopub.execute_input": "2024-12-17T17:32:55.463904Z",
     "iopub.status.busy": "2024-12-17T17:32:55.463827Z",
     "iopub.status.idle": "2024-12-17T17:32:55.465374Z",
     "shell.execute_reply": "2024-12-17T17:32:55.465043Z"
    },
    "papermill": {
     "duration": 0.003532,
     "end_time": "2024-12-17T17:32:55.465884",
     "exception": false,
     "start_time": "2024-12-17T17:32:55.462352",
     "status": "completed"
    },
    "tags": [
     "injected-parameters"
    ]
   },
   "outputs": [],
   "source": [
    "# Parameters\n",
    "dataset = \"ml1m\"\n"
   ]
  },
  {
   "cell_type": "code",
   "execution_count": 6,
   "id": "58b1ab64",
   "metadata": {
    "execution": {
     "iopub.execute_input": "2024-12-17T17:32:55.468640Z",
     "iopub.status.busy": "2024-12-17T17:32:55.468564Z",
     "iopub.status.idle": "2024-12-17T17:32:55.469940Z",
     "shell.execute_reply": "2024-12-17T17:32:55.469724Z"
    },
    "papermill": {
     "duration": 0.003411,
     "end_time": "2024-12-17T17:32:55.470493",
     "exception": false,
     "start_time": "2024-12-17T17:32:55.467082",
     "status": "completed"
    },
    "tags": []
   },
   "outputs": [],
   "source": [
    "output_root = Path(\"runs\")"
   ]
  },
  {
   "cell_type": "code",
   "execution_count": 7,
   "id": "291fdc84",
   "metadata": {
    "execution": {
     "iopub.execute_input": "2024-12-17T17:32:55.475509Z",
     "iopub.status.busy": "2024-12-17T17:32:55.475345Z",
     "iopub.status.idle": "2024-12-17T17:32:55.477165Z",
     "shell.execute_reply": "2024-12-17T17:32:55.476977Z"
    },
    "papermill": {
     "duration": 0.004943,
     "end_time": "2024-12-17T17:32:55.477727",
     "exception": false,
     "start_time": "2024-12-17T17:32:55.472784",
     "status": "completed"
    },
    "tags": []
   },
   "outputs": [],
   "source": [
    "dirs = [fld for fld in output_root.glob(f'{dataset}-*')]"
   ]
  },
  {
   "cell_type": "code",
   "execution_count": 8,
   "id": "e47fe658",
   "metadata": {
    "execution": {
     "iopub.execute_input": "2024-12-17T17:32:55.481644Z",
     "iopub.status.busy": "2024-12-17T17:32:55.481463Z",
     "iopub.status.idle": "2024-12-17T17:32:56.241769Z",
     "shell.execute_reply": "2024-12-17T17:32:56.241326Z"
    },
    "papermill": {
     "duration": 0.762737,
     "end_time": "2024-12-17T17:32:56.242542",
     "exception": false,
     "start_time": "2024-12-17T17:32:55.479805",
     "status": "completed"
    },
    "tags": []
   },
   "outputs": [],
   "source": [
    "recs = ItemListCollection(['model', 'user_id'], index=False)\n",
    "for fld in dirs:\n",
    "    for file in fld.glob(\"recs-*\"):\n",
    "        rec = ItemListCollection.load_parquet(file)\n",
    "        recs.add_from(rec, model=fld.name.split(\"-\")[1])"
   ]
  },
  {
   "cell_type": "code",
   "execution_count": 9,
   "id": "36d675e6",
   "metadata": {
    "execution": {
     "iopub.execute_input": "2024-12-17T17:32:56.246080Z",
     "iopub.status.busy": "2024-12-17T17:32:56.245998Z",
     "iopub.status.idle": "2024-12-17T17:32:56.251851Z",
     "shell.execute_reply": "2024-12-17T17:32:56.251654Z"
    },
    "papermill": {
     "duration": 0.008374,
     "end_time": "2024-12-17T17:32:56.252408",
     "exception": false,
     "start_time": "2024-12-17T17:32:56.244034",
     "status": "completed"
    },
    "tags": []
   },
   "outputs": [
    {
     "data": {
      "text/plain": [
       "['ALS', 'Bias', 'IALS', 'IIE', 'III', 'Pop', 'UUE']"
      ]
     },
     "execution_count": 9,
     "metadata": {},
     "output_type": "execute_result"
    }
   ],
   "source": [
    "rec_algos = sorted(set(a for (a, _u) in recs.keys()))\n",
    "rec_algos"
   ]
  },
  {
   "cell_type": "code",
   "execution_count": 10,
   "id": "530bbfda",
   "metadata": {
    "execution": {
     "iopub.execute_input": "2024-12-17T17:32:56.255599Z",
     "iopub.status.busy": "2024-12-17T17:32:56.255508Z",
     "iopub.status.idle": "2024-12-17T17:32:56.952667Z",
     "shell.execute_reply": "2024-12-17T17:32:56.952079Z"
    },
    "papermill": {
     "duration": 0.699788,
     "end_time": "2024-12-17T17:32:56.953535",
     "exception": false,
     "start_time": "2024-12-17T17:32:56.253747",
     "status": "completed"
    },
    "tags": []
   },
   "outputs": [],
   "source": [
    "preds = ItemListCollection(['model', 'user_id'], index=False)\n",
    "for fld in dirs:\n",
    "    for file in fld.glob(\"pred-*\"):\n",
    "        pred = ItemListCollection.load_parquet(file)\n",
    "        preds.add_from(pred, model=fld.name.split(\"-\")[1])"
   ]
  },
  {
   "cell_type": "markdown",
   "id": "737fbf6f",
   "metadata": {
    "papermill": {
     "duration": 0.001379,
     "end_time": "2024-12-17T17:32:56.956482",
     "exception": false,
     "start_time": "2024-12-17T17:32:56.955103",
     "status": "completed"
    },
    "tags": []
   },
   "source": [
    "We need to load the test data so that we have the ground truths for computing accuracy"
   ]
  },
  {
   "cell_type": "code",
   "execution_count": 11,
   "id": "094c6750",
   "metadata": {
    "execution": {
     "iopub.execute_input": "2024-12-17T17:32:56.960141Z",
     "iopub.status.busy": "2024-12-17T17:32:56.959790Z",
     "iopub.status.idle": "2024-12-17T17:32:56.961649Z",
     "shell.execute_reply": "2024-12-17T17:32:56.961359Z"
    },
    "papermill": {
     "duration": 0.004375,
     "end_time": "2024-12-17T17:32:56.962227",
     "exception": false,
     "start_time": "2024-12-17T17:32:56.957852",
     "status": "completed"
    },
    "tags": []
   },
   "outputs": [],
   "source": [
    "split_root = Path(\"data-split\")\n",
    "split_dir = split_root / dataset"
   ]
  },
  {
   "cell_type": "code",
   "execution_count": 12,
   "id": "b6b27b83",
   "metadata": {
    "execution": {
     "iopub.execute_input": "2024-12-17T17:32:56.965271Z",
     "iopub.status.busy": "2024-12-17T17:32:56.965194Z",
     "iopub.status.idle": "2024-12-17T17:32:57.209696Z",
     "shell.execute_reply": "2024-12-17T17:32:57.209114Z"
    },
    "papermill": {
     "duration": 0.24699,
     "end_time": "2024-12-17T17:32:57.210480",
     "exception": false,
     "start_time": "2024-12-17T17:32:56.963490",
     "status": "completed"
    },
    "tags": []
   },
   "outputs": [],
   "source": [
    "test = ItemListCollection(UserIDKey)\n",
    "for file in split_dir.glob(\"test-*.parquet\"):\n",
    "    df = pd.read_parquet(file)\n",
    "    part = ItemListCollection.from_df(df, UserIDKey)\n",
    "    test.add_from(part)"
   ]
  },
  {
   "cell_type": "markdown",
   "id": "fed8bea2",
   "metadata": {
    "papermill": {
     "duration": 0.008899,
     "end_time": "2024-12-17T17:32:57.220880",
     "exception": false,
     "start_time": "2024-12-17T17:32:57.211981",
     "status": "completed"
    },
    "tags": []
   },
   "source": [
    "## Top-N Metrics\n",
    "\n",
    "`RunListAnalysis` computes metrics for recommendation results and takes care of\n",
    "matching recommendations and ground truth."
   ]
  },
  {
   "cell_type": "code",
   "execution_count": 13,
   "id": "7b68ce95",
   "metadata": {
    "execution": {
     "iopub.execute_input": "2024-12-17T17:32:57.224205Z",
     "iopub.status.busy": "2024-12-17T17:32:57.224118Z",
     "iopub.status.idle": "2024-12-17T17:32:59.888885Z",
     "shell.execute_reply": "2024-12-17T17:32:59.888584Z"
    },
    "papermill": {
     "duration": 2.66729,
     "end_time": "2024-12-17T17:32:59.889501",
     "exception": false,
     "start_time": "2024-12-17T17:32:57.222211",
     "status": "completed"
    },
    "tags": []
   },
   "outputs": [
    {
     "name": "stderr",
     "output_type": "stream",
     "text": [
      "/home/mde48/lenskit/lkpy/lenskit/lenskit/metrics/bulk.py:121: FutureWarning: The previous implementation of stack is deprecated and will be removed in a future version of pandas. See the What's New notes for pandas 2.1.0 for details. Specify future_stack=True to adopt the new implementation and silence this warning.\n",
      "  df = scores.groupby(list(keys)).agg([\"mean\", \"median\", \"std\"]).stack(level=0)\n"
     ]
    },
    {
     "data": {
      "text/html": [
       "<div>\n",
       "<style scoped>\n",
       "    .dataframe tbody tr th:only-of-type {\n",
       "        vertical-align: middle;\n",
       "    }\n",
       "\n",
       "    .dataframe tbody tr th {\n",
       "        vertical-align: top;\n",
       "    }\n",
       "\n",
       "    .dataframe thead th {\n",
       "        text-align: right;\n",
       "    }\n",
       "</style>\n",
       "<table border=\"1\" class=\"dataframe\">\n",
       "  <thead>\n",
       "    <tr style=\"text-align: right;\">\n",
       "      <th></th>\n",
       "      <th></th>\n",
       "      <th>mean</th>\n",
       "      <th>median</th>\n",
       "      <th>std</th>\n",
       "    </tr>\n",
       "    <tr>\n",
       "      <th>model</th>\n",
       "      <th></th>\n",
       "      <th></th>\n",
       "      <th></th>\n",
       "      <th></th>\n",
       "    </tr>\n",
       "  </thead>\n",
       "  <tbody>\n",
       "    <tr>\n",
       "      <th rowspan=\"3\" valign=\"top\">ALS</th>\n",
       "      <th>NDCG</th>\n",
       "      <td>0.053046</td>\n",
       "      <td>0.000000e+00</td>\n",
       "      <td>0.082675</td>\n",
       "    </tr>\n",
       "    <tr>\n",
       "      <th>RBP</th>\n",
       "      <td>0.016682</td>\n",
       "      <td>0.000000e+00</td>\n",
       "      <td>0.076668</td>\n",
       "    </tr>\n",
       "    <tr>\n",
       "      <th>RecipRank</th>\n",
       "      <td>0.054174</td>\n",
       "      <td>0.000000e+00</td>\n",
       "      <td>0.152701</td>\n",
       "    </tr>\n",
       "    <tr>\n",
       "      <th rowspan=\"3\" valign=\"top\">Bias</th>\n",
       "      <th>NDCG</th>\n",
       "      <td>0.049744</td>\n",
       "      <td>0.000000e+00</td>\n",
       "      <td>0.075282</td>\n",
       "    </tr>\n",
       "    <tr>\n",
       "      <th>RBP</th>\n",
       "      <td>0.010717</td>\n",
       "      <td>0.000000e+00</td>\n",
       "      <td>0.056017</td>\n",
       "    </tr>\n",
       "    <tr>\n",
       "      <th>RecipRank</th>\n",
       "      <td>0.044258</td>\n",
       "      <td>0.000000e+00</td>\n",
       "      <td>0.118458</td>\n",
       "    </tr>\n",
       "    <tr>\n",
       "      <th rowspan=\"3\" valign=\"top\">IALS</th>\n",
       "      <th>NDCG</th>\n",
       "      <td>0.231801</td>\n",
       "      <td>2.009854e-01</td>\n",
       "      <td>0.153612</td>\n",
       "    </tr>\n",
       "    <tr>\n",
       "      <th>RBP</th>\n",
       "      <td>0.086439</td>\n",
       "      <td>5.188739e-04</td>\n",
       "      <td>0.170963</td>\n",
       "    </tr>\n",
       "    <tr>\n",
       "      <th>RecipRank</th>\n",
       "      <td>0.216609</td>\n",
       "      <td>9.090909e-02</td>\n",
       "      <td>0.288559</td>\n",
       "    </tr>\n",
       "    <tr>\n",
       "      <th rowspan=\"3\" valign=\"top\">IIE</th>\n",
       "      <th>NDCG</th>\n",
       "      <td>0.038123</td>\n",
       "      <td>0.000000e+00</td>\n",
       "      <td>0.057696</td>\n",
       "    </tr>\n",
       "    <tr>\n",
       "      <th>RBP</th>\n",
       "      <td>0.004345</td>\n",
       "      <td>0.000000e+00</td>\n",
       "      <td>0.035248</td>\n",
       "    </tr>\n",
       "    <tr>\n",
       "      <th>RecipRank</th>\n",
       "      <td>0.026552</td>\n",
       "      <td>0.000000e+00</td>\n",
       "      <td>0.079340</td>\n",
       "    </tr>\n",
       "    <tr>\n",
       "      <th rowspan=\"3\" valign=\"top\">III</th>\n",
       "      <th>NDCG</th>\n",
       "      <td>0.188728</td>\n",
       "      <td>1.437144e-01</td>\n",
       "      <td>0.159716</td>\n",
       "    </tr>\n",
       "    <tr>\n",
       "      <th>RBP</th>\n",
       "      <td>0.108998</td>\n",
       "      <td>2.441406e-04</td>\n",
       "      <td>0.195514</td>\n",
       "    </tr>\n",
       "    <tr>\n",
       "      <th>RecipRank</th>\n",
       "      <td>0.245997</td>\n",
       "      <td>8.333333e-02</td>\n",
       "      <td>0.332014</td>\n",
       "    </tr>\n",
       "    <tr>\n",
       "      <th rowspan=\"3\" valign=\"top\">Pop</th>\n",
       "      <th>NDCG</th>\n",
       "      <td>0.130506</td>\n",
       "      <td>9.633708e-02</td>\n",
       "      <td>0.128663</td>\n",
       "    </tr>\n",
       "    <tr>\n",
       "      <th>RBP</th>\n",
       "      <td>0.060303</td>\n",
       "      <td>5.960464e-08</td>\n",
       "      <td>0.146928</td>\n",
       "    </tr>\n",
       "    <tr>\n",
       "      <th>RecipRank</th>\n",
       "      <td>0.155132</td>\n",
       "      <td>4.166667e-02</td>\n",
       "      <td>0.268589</td>\n",
       "    </tr>\n",
       "    <tr>\n",
       "      <th rowspan=\"3\" valign=\"top\">UUE</th>\n",
       "      <th>NDCG</th>\n",
       "      <td>0.031049</td>\n",
       "      <td>0.000000e+00</td>\n",
       "      <td>0.044373</td>\n",
       "    </tr>\n",
       "    <tr>\n",
       "      <th>RBP</th>\n",
       "      <td>0.001134</td>\n",
       "      <td>0.000000e+00</td>\n",
       "      <td>0.011158</td>\n",
       "    </tr>\n",
       "    <tr>\n",
       "      <th>RecipRank</th>\n",
       "      <td>0.016203</td>\n",
       "      <td>0.000000e+00</td>\n",
       "      <td>0.038081</td>\n",
       "    </tr>\n",
       "  </tbody>\n",
       "</table>\n",
       "</div>"
      ],
      "text/plain": [
       "                     mean        median       std\n",
       "model                                            \n",
       "ALS   NDCG       0.053046  0.000000e+00  0.082675\n",
       "      RBP        0.016682  0.000000e+00  0.076668\n",
       "      RecipRank  0.054174  0.000000e+00  0.152701\n",
       "Bias  NDCG       0.049744  0.000000e+00  0.075282\n",
       "      RBP        0.010717  0.000000e+00  0.056017\n",
       "      RecipRank  0.044258  0.000000e+00  0.118458\n",
       "IALS  NDCG       0.231801  2.009854e-01  0.153612\n",
       "      RBP        0.086439  5.188739e-04  0.170963\n",
       "      RecipRank  0.216609  9.090909e-02  0.288559\n",
       "IIE   NDCG       0.038123  0.000000e+00  0.057696\n",
       "      RBP        0.004345  0.000000e+00  0.035248\n",
       "      RecipRank  0.026552  0.000000e+00  0.079340\n",
       "III   NDCG       0.188728  1.437144e-01  0.159716\n",
       "      RBP        0.108998  2.441406e-04  0.195514\n",
       "      RecipRank  0.245997  8.333333e-02  0.332014\n",
       "Pop   NDCG       0.130506  9.633708e-02  0.128663\n",
       "      RBP        0.060303  5.960464e-08  0.146928\n",
       "      RecipRank  0.155132  4.166667e-02  0.268589\n",
       "UUE   NDCG       0.031049  0.000000e+00  0.044373\n",
       "      RBP        0.001134  0.000000e+00  0.011158\n",
       "      RecipRank  0.016203  0.000000e+00  0.038081"
      ]
     },
     "execution_count": 13,
     "metadata": {},
     "output_type": "execute_result"
    }
   ],
   "source": [
    "ra = RunAnalysis()\n",
    "\n",
    "ra.add_metric(NDCG())\n",
    "ra.add_metric(RecipRank())\n",
    "ra.add_metric(RBP())\n",
    "\n",
    "rec_results = ra.compute(recs, test)\n",
    "rec_results.list_summary('model')"
   ]
  },
  {
   "cell_type": "markdown",
   "id": "8cba4e78",
   "metadata": {
    "papermill": {
     "duration": 0.001446,
     "end_time": "2024-12-17T17:32:59.892615",
     "exception": false,
     "start_time": "2024-12-17T17:32:59.891169",
     "status": "completed"
    },
    "tags": []
   },
   "source": [
    "We can reshape the list metrics and plot them:"
   ]
  },
  {
   "cell_type": "code",
   "execution_count": 14,
   "id": "238604c3",
   "metadata": {
    "execution": {
     "iopub.execute_input": "2024-12-17T17:32:59.896026Z",
     "iopub.status.busy": "2024-12-17T17:32:59.895925Z",
     "iopub.status.idle": "2024-12-17T17:33:00.608996Z",
     "shell.execute_reply": "2024-12-17T17:33:00.608735Z"
    },
    "papermill": {
     "duration": 0.715602,
     "end_time": "2024-12-17T17:33:00.609587",
     "exception": false,
     "start_time": "2024-12-17T17:32:59.893985",
     "status": "completed"
    },
    "tags": []
   },
   "outputs": [
    {
     "data": {
      "image/png": "[encoded data removed]",
      "text/plain": [
       "<Figure size 1511.11x500 with 3 Axes>"
      ]
     },
     "metadata": {},
     "output_type": "display_data"
    }
   ],
   "source": [
    "metrics = rec_results.list_metrics()\n",
    "metrics = metrics.melt(var_name='metric', ignore_index=False).reset_index()\n",
    "sns.catplot(metrics, x='model', y='value', col='metric', kind='bar')\n",
    "plt.show()"
   ]
  },
  {
   "cell_type": "markdown",
   "id": "d6f202d4",
   "metadata": {
    "papermill": {
     "duration": 0.008924,
     "end_time": "2024-12-17T17:33:00.620237",
     "exception": false,
     "start_time": "2024-12-17T17:33:00.611313",
     "status": "completed"
    },
    "tags": []
   },
   "source": [
    "## Prediction RMSE\n",
    "\n",
    "We will also look at the prediction RMSE."
   ]
  },
  {
   "cell_type": "code",
   "execution_count": 15,
   "id": "c78c5ff6",
   "metadata": {
    "execution": {
     "iopub.execute_input": "2024-12-17T17:33:00.623854Z",
     "iopub.status.busy": "2024-12-17T17:33:00.623776Z",
     "iopub.status.idle": "2024-12-17T17:33:04.109108Z",
     "shell.execute_reply": "2024-12-17T17:33:04.108754Z"
    },
    "papermill": {
     "duration": 3.487832,
     "end_time": "2024-12-17T17:33:04.109586",
     "exception": false,
     "start_time": "2024-12-17T17:33:00.621754",
     "status": "completed"
    },
    "tags": []
   },
   "outputs": [
    {
     "name": "stderr",
     "output_type": "stream",
     "text": [
      "/home/mde48/lenskit/lkpy/lenskit/lenskit/metrics/bulk.py:121: FutureWarning: The previous implementation of stack is deprecated and will be removed in a future version of pandas. See the What's New notes for pandas 2.1.0 for details. Specify future_stack=True to adopt the new implementation and silence this warning.\n",
      "  df = scores.groupby(list(keys)).agg([\"mean\", \"median\", \"std\"]).stack(level=0)\n"
     ]
    },
    {
     "data": {
      "text/html": [
       "<div>\n",
       "<style scoped>\n",
       "    .dataframe tbody tr th:only-of-type {\n",
       "        vertical-align: middle;\n",
       "    }\n",
       "\n",
       "    .dataframe tbody tr th {\n",
       "        vertical-align: top;\n",
       "    }\n",
       "\n",
       "    .dataframe thead th {\n",
       "        text-align: right;\n",
       "    }\n",
       "</style>\n",
       "<table border=\"1\" class=\"dataframe\">\n",
       "  <thead>\n",
       "    <tr style=\"text-align: right;\">\n",
       "      <th></th>\n",
       "      <th></th>\n",
       "      <th>mean</th>\n",
       "      <th>median</th>\n",
       "      <th>std</th>\n",
       "    </tr>\n",
       "    <tr>\n",
       "      <th>model</th>\n",
       "      <th></th>\n",
       "      <th></th>\n",
       "      <th></th>\n",
       "      <th></th>\n",
       "    </tr>\n",
       "  </thead>\n",
       "  <tbody>\n",
       "    <tr>\n",
       "      <th>ALS</th>\n",
       "      <th>RMSE</th>\n",
       "      <td>0.829243</td>\n",
       "      <td>0.789964</td>\n",
       "      <td>0.318975</td>\n",
       "    </tr>\n",
       "    <tr>\n",
       "      <th>Bias</th>\n",
       "      <th>RMSE</th>\n",
       "      <td>0.871160</td>\n",
       "      <td>0.827136</td>\n",
       "      <td>0.331031</td>\n",
       "    </tr>\n",
       "    <tr>\n",
       "      <th>IIE</th>\n",
       "      <th>RMSE</th>\n",
       "      <td>0.818480</td>\n",
       "      <td>0.777677</td>\n",
       "      <td>0.321417</td>\n",
       "    </tr>\n",
       "    <tr>\n",
       "      <th>UUE</th>\n",
       "      <th>RMSE</th>\n",
       "      <td>0.857397</td>\n",
       "      <td>0.814194</td>\n",
       "      <td>0.335299</td>\n",
       "    </tr>\n",
       "  </tbody>\n",
       "</table>\n",
       "</div>"
      ],
      "text/plain": [
       "                mean    median       std\n",
       "model                                   \n",
       "ALS   RMSE  0.829243  0.789964  0.318975\n",
       "Bias  RMSE  0.871160  0.827136  0.331031\n",
       "IIE   RMSE  0.818480  0.777677  0.321417\n",
       "UUE   RMSE  0.857397  0.814194  0.335299"
      ]
     },
     "execution_count": 15,
     "metadata": {},
     "output_type": "execute_result"
    }
   ],
   "source": [
    "pa = RunAnalysis()\n",
    "\n",
    "pa.add_metric(RMSE(missing_scores='ignore', missing_truth='ignore'))\n",
    "\n",
    "pred_results = pa.compute(preds, test)\n",
    "pred_results.list_summary('model')"
   ]
  },
  {
   "cell_type": "code",
   "execution_count": 16,
   "id": "929287d6",
   "metadata": {
    "execution": {
     "iopub.execute_input": "2024-12-17T17:33:04.120565Z",
     "iopub.status.busy": "2024-12-17T17:33:04.120490Z",
     "iopub.status.idle": "2024-12-17T17:33:04.268600Z",
     "shell.execute_reply": "2024-12-17T17:33:04.268237Z"
    },
    "papermill": {
     "duration": 0.157833,
     "end_time": "2024-12-17T17:33:04.269111",
     "exception": false,
     "start_time": "2024-12-17T17:33:04.111278",
     "status": "completed"
    },
    "tags": []
   },
   "outputs": [
    {
     "data": {
      "image/png": "[encoded data removed]",
      "text/plain": [
       "<Figure size 511.111x500 with 1 Axes>"
      ]
     },
     "metadata": {},
     "output_type": "display_data"
    }
   ],
   "source": [
    "sns.catplot(pred_results.list_metrics().reset_index(), x='model', y='RMSE', kind='bar')\n",
    "plt.show()"
   ]
  },
  {
   "cell_type": "markdown",
   "id": "0caac7ca",
   "metadata": {
    "papermill": {
     "duration": 0.008989,
     "end_time": "2024-12-17T17:33:04.279800",
     "exception": false,
     "start_time": "2024-12-17T17:33:04.270811",
     "status": "completed"
    },
    "tags": []
   },
   "source": [
    "## Save Metrics\n",
    "\n",
    "We'll now save the metrics to a file."
   ]
  },
  {
   "cell_type": "code",
   "execution_count": 17,
   "id": "4e43b021",
   "metadata": {
    "execution": {
     "iopub.execute_input": "2024-12-17T17:33:04.283473Z",
     "iopub.status.busy": "2024-12-17T17:33:04.283385Z",
     "iopub.status.idle": "2024-12-17T17:33:04.292443Z",
     "shell.execute_reply": "2024-12-17T17:33:04.292298Z"
    },
    "papermill": {
     "duration": 0.011651,
     "end_time": "2024-12-17T17:33:04.293047",
     "exception": false,
     "start_time": "2024-12-17T17:33:04.281396",
     "status": "completed"
    },
    "tags": []
   },
   "outputs": [
    {
     "name": "stderr",
     "output_type": "stream",
     "text": [
      "/home/mde48/lenskit/lkpy/lenskit/lenskit/metrics/bulk.py:121: FutureWarning: The previous implementation of stack is deprecated and will be removed in a future version of pandas. See the What's New notes for pandas 2.1.0 for details. Specify future_stack=True to adopt the new implementation and silence this warning.\n",
      "  df = scores.groupby(list(keys)).agg([\"mean\", \"median\", \"std\"]).stack(level=0)\n"
     ]
    },
    {
     "data": {
      "text/html": [
       "<div>\n",
       "<style scoped>\n",
       "    .dataframe tbody tr th:only-of-type {\n",
       "        vertical-align: middle;\n",
       "    }\n",
       "\n",
       "    .dataframe tbody tr th {\n",
       "        vertical-align: top;\n",
       "    }\n",
       "\n",
       "    .dataframe thead th {\n",
       "        text-align: right;\n",
       "    }\n",
       "</style>\n",
       "<table border=\"1\" class=\"dataframe\">\n",
       "  <thead>\n",
       "    <tr style=\"text-align: right;\">\n",
       "      <th></th>\n",
       "      <th>NDCG</th>\n",
       "      <th>RBP</th>\n",
       "      <th>RecipRank</th>\n",
       "    </tr>\n",
       "    <tr>\n",
       "      <th>model</th>\n",
       "      <th></th>\n",
       "      <th></th>\n",
       "      <th></th>\n",
       "    </tr>\n",
       "  </thead>\n",
       "  <tbody>\n",
       "    <tr>\n",
       "      <th>ALS</th>\n",
       "      <td>0.053046</td>\n",
       "      <td>0.016682</td>\n",
       "      <td>0.054174</td>\n",
       "    </tr>\n",
       "    <tr>\n",
       "      <th>Bias</th>\n",
       "      <td>0.049744</td>\n",
       "      <td>0.010717</td>\n",
       "      <td>0.044258</td>\n",
       "    </tr>\n",
       "    <tr>\n",
       "      <th>IALS</th>\n",
       "      <td>0.231801</td>\n",
       "      <td>0.086439</td>\n",
       "      <td>0.216609</td>\n",
       "    </tr>\n",
       "    <tr>\n",
       "      <th>IIE</th>\n",
       "      <td>0.038123</td>\n",
       "      <td>0.004345</td>\n",
       "      <td>0.026552</td>\n",
       "    </tr>\n",
       "    <tr>\n",
       "      <th>III</th>\n",
       "      <td>0.188728</td>\n",
       "      <td>0.108998</td>\n",
       "      <td>0.245997</td>\n",
       "    </tr>\n",
       "    <tr>\n",
       "      <th>Pop</th>\n",
       "      <td>0.130506</td>\n",
       "      <td>0.060303</td>\n",
       "      <td>0.155132</td>\n",
       "    </tr>\n",
       "    <tr>\n",
       "      <th>UUE</th>\n",
       "      <td>0.031049</td>\n",
       "      <td>0.001134</td>\n",
       "      <td>0.016203</td>\n",
       "    </tr>\n",
       "  </tbody>\n",
       "</table>\n",
       "</div>"
      ],
      "text/plain": [
       "           NDCG       RBP  RecipRank\n",
       "model                               \n",
       "ALS    0.053046  0.016682   0.054174\n",
       "Bias   0.049744  0.010717   0.044258\n",
       "IALS   0.231801  0.086439   0.216609\n",
       "IIE    0.038123  0.004345   0.026552\n",
       "III    0.188728  0.108998   0.245997\n",
       "Pop    0.130506  0.060303   0.155132\n",
       "UUE    0.031049  0.001134   0.016203"
      ]
     },
     "execution_count": 17,
     "metadata": {},
     "output_type": "execute_result"
    }
   ],
   "source": [
    "rlsum = rec_results.list_summary('model')['mean'].unstack()\n",
    "rlsum"
   ]
  },
  {
   "cell_type": "code",
   "execution_count": 18,
   "id": "cae53f67",
   "metadata": {
    "execution": {
     "iopub.execute_input": "2024-12-17T17:33:04.299875Z",
     "iopub.status.busy": "2024-12-17T17:33:04.299809Z",
     "iopub.status.idle": "2024-12-17T17:33:04.302067Z",
     "shell.execute_reply": "2024-12-17T17:33:04.301920Z"
    },
    "papermill": {
     "duration": 0.00632,
     "end_time": "2024-12-17T17:33:04.302639",
     "exception": false,
     "start_time": "2024-12-17T17:33:04.296319",
     "status": "completed"
    },
    "tags": []
   },
   "outputs": [],
   "source": [
    "rlsum.to_json(f'eval-metrics.{dataset}.json', orient='index')"
   ]
  }
 ],
 "metadata": {
  "jupytext": {
   "formats": "ipynb,md",
   "notebook_metadata_filter": "split_at_heading"
  },
  "kernelspec": {
   "display_name": "Python 3 (ipykernel)",
   "language": "python",
   "name": "python3"
  },
  "language_info": {
   "codemirror_mode": {
    "name": "ipython",
    "version": 3
   },
   "file_extension": ".py",
   "mimetype": "text/x-python",
   "name": "python",
   "nbconvert_exporter": "python",
   "pygments_lexer": "ipython3",
   "version": "3.12.8"
  },
  "papermill": {
   "default_parameters": {},
   "duration": 11.139235,
   "end_time": "2024-12-17T17:33:04.818293",
   "environment_variables": {},
   "exception": null,
   "input_path": "eval-report.ipynb",
   "output_path": "eval-report.ml1m.ipynb",
   "parameters": {
    "dataset": "ml1m"
   },
   "start_time": "2024-12-17T17:32:53.679058",
   "version": "2.6.0"
  },
  "split_at_heading": true
 },
 "nbformat": 4,
 "nbformat_minor": 5
}