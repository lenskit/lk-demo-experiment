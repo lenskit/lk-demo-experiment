{
 "cells": [
  {
   "cell_type": "markdown",
   "id": "381bef4a",
   "metadata": {
    "papermill": {
     "duration": 0.010799,
     "end_time": "2024-12-07T21:30:53.508959",
     "exception": false,
     "start_time": "2024-12-07T21:30:53.498160",
     "status": "completed"
    },
    "tags": []
   },
   "source": [
    "# Evaluation Analysis for Recommender Output"
   ]
  },
  {
   "cell_type": "markdown",
   "id": "664c72ab",
   "metadata": {
    "papermill": {
     "duration": 0.001152,
     "end_time": "2024-12-07T21:30:53.511467",
     "exception": false,
     "start_time": "2024-12-07T21:30:53.510315",
     "status": "completed"
    },
    "tags": []
   },
   "source": [
    "In this section we will analyze and compare the generated recommendations and predictions from a predefined list of algorithms with the goal of assessing the performance of each algorithm with respect to a metric. In other words, we would rank the algorithms for each metric considered with respect to performance."
   ]
  },
  {
   "cell_type": "markdown",
   "id": "81fcb0af",
   "metadata": {
    "papermill": {
     "duration": 0.001055,
     "end_time": "2024-12-07T21:30:53.513712",
     "exception": false,
     "start_time": "2024-12-07T21:30:53.512657",
     "status": "completed"
    },
    "tags": []
   },
   "source": [
    "## Setup"
   ]
  },
  {
   "cell_type": "markdown",
   "id": "933a60f9",
   "metadata": {
    "papermill": {
     "duration": 0.001062,
     "end_time": "2024-12-07T21:30:53.515849",
     "exception": false,
     "start_time": "2024-12-07T21:30:53.514787",
     "status": "completed"
    },
    "tags": []
   },
   "source": [
    "Below are the list of packages required to successfully run the analysis. They are divided into partitions to signify their specific task.<br>\n",
    "We need the pathlib package for working with files and folders"
   ]
  },
  {
   "cell_type": "code",
   "execution_count": 1,
   "id": "9488a624",
   "metadata": {
    "execution": {
     "iopub.execute_input": "2024-12-07T21:30:53.518611Z",
     "iopub.status.busy": "2024-12-07T21:30:53.518502Z",
     "iopub.status.idle": "2024-12-07T21:30:53.520538Z",
     "shell.execute_reply": "2024-12-07T21:30:53.520312Z"
    },
    "papermill": {
     "duration": 0.004074,
     "end_time": "2024-12-07T21:30:53.520987",
     "exception": false,
     "start_time": "2024-12-07T21:30:53.516913",
     "status": "completed"
    },
    "tags": []
   },
   "outputs": [],
   "source": [
    "from pathlib import Path\n",
    "import json"
   ]
  },
  {
   "cell_type": "markdown",
   "id": "99e5fc5d",
   "metadata": {
    "papermill": {
     "duration": 0.001078,
     "end_time": "2024-12-07T21:30:53.523227",
     "exception": false,
     "start_time": "2024-12-07T21:30:53.522149",
     "status": "completed"
    },
    "tags": []
   },
   "source": [
    "We would use the pandas for analyzing and manipulating our data while seaborn and matplotlib are used for data visualization. statsmodels.graphics.gofplots and scipy.stats.shapiro are used for normality check. Scipy.stats.friedmanchisquare is a non-parametric test used to determine the statistical significance in metric results and the wilcoxon test is used for pairwise comparison of sample data."
   ]
  },
  {
   "cell_type": "code",
   "execution_count": 2,
   "id": "5443464f",
   "metadata": {
    "execution": {
     "iopub.execute_input": "2024-12-07T21:30:53.525715Z",
     "iopub.status.busy": "2024-12-07T21:30:53.525637Z",
     "iopub.status.idle": "2024-12-07T21:30:53.922427Z",
     "shell.execute_reply": "2024-12-07T21:30:53.922216Z"
    },
    "lines_to_next_cell": 2,
    "papermill": {
     "duration": 0.39891,
     "end_time": "2024-12-07T21:30:53.923219",
     "exception": false,
     "start_time": "2024-12-07T21:30:53.524309",
     "status": "completed"
    },
    "tags": []
   },
   "outputs": [],
   "source": [
    "import pandas as pd\n",
    "import seaborn as sns\n",
    "import matplotlib.pyplot as plt\n",
    "from statsmodels.graphics.gofplots import qqplot\n",
    "from scipy.stats import shapiro\n",
    "from scipy.stats import friedmanchisquare, wilcoxon\n",
    "from itertools import combinations"
   ]
  },
  {
   "cell_type": "markdown",
   "id": "17a97495",
   "metadata": {
    "papermill": {
     "duration": 0.00904,
     "end_time": "2024-12-07T21:30:53.933652",
     "exception": false,
     "start_time": "2024-12-07T21:30:53.924612",
     "status": "completed"
    },
    "tags": []
   },
   "source": [
    "Import the LensKit metrics for analysis:"
   ]
  },
  {
   "cell_type": "code",
   "execution_count": 3,
   "id": "64672a8e",
   "metadata": {
    "execution": {
     "iopub.execute_input": "2024-12-07T21:30:53.936599Z",
     "iopub.status.busy": "2024-12-07T21:30:53.936428Z",
     "iopub.status.idle": "2024-12-07T21:30:54.601633Z",
     "shell.execute_reply": "2024-12-07T21:30:54.601173Z"
    },
    "papermill": {
     "duration": 0.667458,
     "end_time": "2024-12-07T21:30:54.602367",
     "exception": false,
     "start_time": "2024-12-07T21:30:53.934909",
     "status": "completed"
    },
    "tags": []
   },
   "outputs": [],
   "source": [
    "from lenskit.data import ItemListCollection, UserIDKey\n",
    "from lenskit.metrics import RunAnalysis, RMSE, NDCG, RecipRank, RBP"
   ]
  },
  {
   "cell_type": "markdown",
   "id": "63508ad7",
   "metadata": {
    "papermill": {
     "duration": 0.009113,
     "end_time": "2024-12-07T21:30:54.612939",
     "exception": false,
     "start_time": "2024-12-07T21:30:54.603826",
     "status": "completed"
    },
    "tags": []
   },
   "source": [
    "## Load Data\n",
    "\n",
    "The recommendations are in `runs`, and we will need to reassemble the test data from `test`."
   ]
  },
  {
   "cell_type": "code",
   "execution_count": 4,
   "id": "2d81312f",
   "metadata": {
    "execution": {
     "iopub.execute_input": "2024-12-07T21:30:54.616048Z",
     "iopub.status.busy": "2024-12-07T21:30:54.615924Z",
     "iopub.status.idle": "2024-12-07T21:30:54.617975Z",
     "shell.execute_reply": "2024-12-07T21:30:54.617684Z"
    },
    "papermill": {
     "duration": 0.004206,
     "end_time": "2024-12-07T21:30:54.618370",
     "exception": false,
     "start_time": "2024-12-07T21:30:54.614164",
     "status": "completed"
    },
    "tags": [
     "parameters"
    ]
   },
   "outputs": [],
   "source": [
    "dataset = \"ml100k\""
   ]
  },
  {
   "cell_type": "code",
   "execution_count": 5,
   "id": "20ac6643",
   "metadata": {
    "execution": {
     "iopub.execute_input": "2024-12-07T21:30:54.621155Z",
     "iopub.status.busy": "2024-12-07T21:30:54.621084Z",
     "iopub.status.idle": "2024-12-07T21:30:54.622570Z",
     "shell.execute_reply": "2024-12-07T21:30:54.622370Z"
    },
    "papermill": {
     "duration": 0.003339,
     "end_time": "2024-12-07T21:30:54.622931",
     "exception": false,
     "start_time": "2024-12-07T21:30:54.619592",
     "status": "completed"
    },
    "tags": [
     "injected-parameters"
    ]
   },
   "outputs": [],
   "source": [
    "# Parameters\n",
    "dataset = \"ml1m\"\n"
   ]
  },
  {
   "cell_type": "code",
   "execution_count": 6,
   "id": "3ec95294",
   "metadata": {
    "execution": {
     "iopub.execute_input": "2024-12-07T21:30:54.625505Z",
     "iopub.status.busy": "2024-12-07T21:30:54.625436Z",
     "iopub.status.idle": "2024-12-07T21:30:54.626851Z",
     "shell.execute_reply": "2024-12-07T21:30:54.626658Z"
    },
    "papermill": {
     "duration": 0.003027,
     "end_time": "2024-12-07T21:30:54.627122",
     "exception": false,
     "start_time": "2024-12-07T21:30:54.624095",
     "status": "completed"
    },
    "tags": []
   },
   "outputs": [],
   "source": [
    "output_root = Path(\"runs\")"
   ]
  },
  {
   "cell_type": "code",
   "execution_count": 7,
   "id": "2fdbd191",
   "metadata": {
    "execution": {
     "iopub.execute_input": "2024-12-07T21:30:54.629655Z",
     "iopub.status.busy": "2024-12-07T21:30:54.629592Z",
     "iopub.status.idle": "2024-12-07T21:30:54.631158Z",
     "shell.execute_reply": "2024-12-07T21:30:54.630956Z"
    },
    "papermill": {
     "duration": 0.003251,
     "end_time": "2024-12-07T21:30:54.631508",
     "exception": false,
     "start_time": "2024-12-07T21:30:54.628257",
     "status": "completed"
    },
    "tags": []
   },
   "outputs": [],
   "source": [
    "dirs = [fld for fld in output_root.glob(f'{dataset}-*')]"
   ]
  },
  {
   "cell_type": "code",
   "execution_count": 8,
   "id": "57c58091",
   "metadata": {
    "execution": {
     "iopub.execute_input": "2024-12-07T21:30:54.634180Z",
     "iopub.status.busy": "2024-12-07T21:30:54.634102Z",
     "iopub.status.idle": "2024-12-07T21:31:01.706880Z",
     "shell.execute_reply": "2024-12-07T21:31:01.706291Z"
    },
    "papermill": {
     "duration": 7.074955,
     "end_time": "2024-12-07T21:31:01.707663",
     "exception": false,
     "start_time": "2024-12-07T21:30:54.632708",
     "status": "completed"
    },
    "tags": []
   },
   "outputs": [],
   "source": [
    "recs = ItemListCollection(['model', 'user_id'], index=False)\n",
    "for fld in dirs:\n",
    "    for file in fld.glob(\"recs-*\"):\n",
    "        rec = pd.read_parquet(file)\n",
    "        rec = ItemListCollection.from_df(rec, UserIDKey)\n",
    "        recs.add_from(rec, model=fld.name.split(\"-\")[1])"
   ]
  },
  {
   "cell_type": "code",
   "execution_count": 9,
   "id": "effd04de",
   "metadata": {
    "execution": {
     "iopub.execute_input": "2024-12-07T21:31:01.719168Z",
     "iopub.status.busy": "2024-12-07T21:31:01.719078Z",
     "iopub.status.idle": "2024-12-07T21:31:01.724613Z",
     "shell.execute_reply": "2024-12-07T21:31:01.724390Z"
    },
    "papermill": {
     "duration": 0.015938,
     "end_time": "2024-12-07T21:31:01.725029",
     "exception": false,
     "start_time": "2024-12-07T21:31:01.709091",
     "status": "completed"
    },
    "tags": []
   },
   "outputs": [
    {
     "data": {
      "text/plain": [
       "['ALS', 'Bias', 'IALS', 'IIE', 'III', 'Pop', 'UUE']"
      ]
     },
     "execution_count": 9,
     "metadata": {},
     "output_type": "execute_result"
    }
   ],
   "source": [
    "rec_algos = sorted(set(a for (a, _u) in recs.keys()))\n",
    "rec_algos"
   ]
  },
  {
   "cell_type": "code",
   "execution_count": 10,
   "id": "4593fe69",
   "metadata": {
    "execution": {
     "iopub.execute_input": "2024-12-07T21:31:01.727839Z",
     "iopub.status.busy": "2024-12-07T21:31:01.727763Z",
     "iopub.status.idle": "2024-12-07T21:31:05.128242Z",
     "shell.execute_reply": "2024-12-07T21:31:05.127683Z"
    },
    "papermill": {
     "duration": 3.402792,
     "end_time": "2024-12-07T21:31:05.129070",
     "exception": false,
     "start_time": "2024-12-07T21:31:01.726278",
     "status": "completed"
    },
    "tags": []
   },
   "outputs": [],
   "source": [
    "preds = ItemListCollection(['model', 'user_id'], index=False)\n",
    "for fld in dirs:\n",
    "    for file in fld.glob(\"pred-*\"):\n",
    "        pred = pd.read_parquet(file)\n",
    "        pred = ItemListCollection.from_df(pred, UserIDKey)\n",
    "        preds.add_from(pred, model=fld.name.split(\"-\")[1])"
   ]
  },
  {
   "cell_type": "markdown",
   "id": "5f88f622",
   "metadata": {
    "papermill": {
     "duration": 0.001322,
     "end_time": "2024-12-07T21:31:05.131939",
     "exception": false,
     "start_time": "2024-12-07T21:31:05.130617",
     "status": "completed"
    },
    "tags": []
   },
   "source": [
    "We need to load the test data so that we have the ground truths for computing accuracy"
   ]
  },
  {
   "cell_type": "code",
   "execution_count": 11,
   "id": "bf88dbf4",
   "metadata": {
    "execution": {
     "iopub.execute_input": "2024-12-07T21:31:05.134924Z",
     "iopub.status.busy": "2024-12-07T21:31:05.134832Z",
     "iopub.status.idle": "2024-12-07T21:31:05.136701Z",
     "shell.execute_reply": "2024-12-07T21:31:05.136390Z"
    },
    "papermill": {
     "duration": 0.003907,
     "end_time": "2024-12-07T21:31:05.137140",
     "exception": false,
     "start_time": "2024-12-07T21:31:05.133233",
     "status": "completed"
    },
    "tags": []
   },
   "outputs": [],
   "source": [
    "split_root = Path(\"data-split\")\n",
    "split_dir = split_root / dataset"
   ]
  },
  {
   "cell_type": "code",
   "execution_count": 12,
   "id": "bbd3075e",
   "metadata": {
    "execution": {
     "iopub.execute_input": "2024-12-07T21:31:05.139967Z",
     "iopub.status.busy": "2024-12-07T21:31:05.139903Z",
     "iopub.status.idle": "2024-12-07T21:31:06.038620Z",
     "shell.execute_reply": "2024-12-07T21:31:06.038043Z"
    },
    "papermill": {
     "duration": 0.90098,
     "end_time": "2024-12-07T21:31:06.039369",
     "exception": false,
     "start_time": "2024-12-07T21:31:05.138389",
     "status": "completed"
    },
    "tags": []
   },
   "outputs": [],
   "source": [
    "test = ItemListCollection(UserIDKey)\n",
    "for file in split_dir.glob(\"test-*.parquet\"):\n",
    "    df = pd.read_parquet(file)\n",
    "    test.add_from(ItemListCollection.from_df(df, UserIDKey))"
   ]
  },
  {
   "cell_type": "markdown",
   "id": "d1cc45f7",
   "metadata": {
    "papermill": {
     "duration": 0.009093,
     "end_time": "2024-12-07T21:31:06.049981",
     "exception": false,
     "start_time": "2024-12-07T21:31:06.040888",
     "status": "completed"
    },
    "tags": []
   },
   "source": [
    "## Top-N Metrics\n",
    "\n",
    "`RunListAnalysis` computes metrics for recommendation results and takes care of\n",
    "matching recommendations and ground truth."
   ]
  },
  {
   "cell_type": "code",
   "execution_count": 13,
   "id": "5cc74039",
   "metadata": {
    "execution": {
     "iopub.execute_input": "2024-12-07T21:31:06.053281Z",
     "iopub.status.busy": "2024-12-07T21:31:06.053198Z",
     "iopub.status.idle": "2024-12-07T21:31:08.794013Z",
     "shell.execute_reply": "2024-12-07T21:31:08.793623Z"
    },
    "papermill": {
     "duration": 2.74316,
     "end_time": "2024-12-07T21:31:08.794614",
     "exception": false,
     "start_time": "2024-12-07T21:31:06.051454",
     "status": "completed"
    },
    "tags": []
   },
   "outputs": [
    {
     "name": "stderr",
     "output_type": "stream",
     "text": [
      "/home/mde48/lenskit/lkpy/lenskit/lenskit/metrics/bulk.py:116: FutureWarning: The previous implementation of stack is deprecated and will be removed in a future version of pandas. See the What's New notes for pandas 2.1.0 for details. Specify future_stack=True to adopt the new implementation and silence this warning.\n",
      "  df = scores.groupby(list(keys)).agg([\"mean\", \"median\", \"std\"]).stack(level=0)\n"
     ]
    },
    {
     "data": {
      "text/html": [
       "<div>\n",
       "<style scoped>\n",
       "    .dataframe tbody tr th:only-of-type {\n",
       "        vertical-align: middle;\n",
       "    }\n",
       "\n",
       "    .dataframe tbody tr th {\n",
       "        vertical-align: top;\n",
       "    }\n",
       "\n",
       "    .dataframe thead th {\n",
       "        text-align: right;\n",
       "    }\n",
       "</style>\n",
       "<table border=\"1\" class=\"dataframe\">\n",
       "  <thead>\n",
       "    <tr style=\"text-align: right;\">\n",
       "      <th></th>\n",
       "      <th></th>\n",
       "      <th>mean</th>\n",
       "      <th>median</th>\n",
       "      <th>std</th>\n",
       "    </tr>\n",
       "    <tr>\n",
       "      <th>model</th>\n",
       "      <th></th>\n",
       "      <th></th>\n",
       "      <th></th>\n",
       "      <th></th>\n",
       "    </tr>\n",
       "  </thead>\n",
       "  <tbody>\n",
       "    <tr>\n",
       "      <th rowspan=\"3\" valign=\"top\">ALS</th>\n",
       "      <th>NDCG</th>\n",
       "      <td>0.052912</td>\n",
       "      <td>0.000000e+00</td>\n",
       "      <td>0.081967</td>\n",
       "    </tr>\n",
       "    <tr>\n",
       "      <th>RBP</th>\n",
       "      <td>0.016577</td>\n",
       "      <td>0.000000e+00</td>\n",
       "      <td>0.076794</td>\n",
       "    </tr>\n",
       "    <tr>\n",
       "      <th>RecipRank</th>\n",
       "      <td>0.054227</td>\n",
       "      <td>0.000000e+00</td>\n",
       "      <td>0.153055</td>\n",
       "    </tr>\n",
       "    <tr>\n",
       "      <th rowspan=\"3\" valign=\"top\">Bias</th>\n",
       "      <th>NDCG</th>\n",
       "      <td>0.049744</td>\n",
       "      <td>0.000000e+00</td>\n",
       "      <td>0.075282</td>\n",
       "    </tr>\n",
       "    <tr>\n",
       "      <th>RBP</th>\n",
       "      <td>0.010717</td>\n",
       "      <td>0.000000e+00</td>\n",
       "      <td>0.056017</td>\n",
       "    </tr>\n",
       "    <tr>\n",
       "      <th>RecipRank</th>\n",
       "      <td>0.044258</td>\n",
       "      <td>0.000000e+00</td>\n",
       "      <td>0.118458</td>\n",
       "    </tr>\n",
       "    <tr>\n",
       "      <th rowspan=\"3\" valign=\"top\">IALS</th>\n",
       "      <th>NDCG</th>\n",
       "      <td>0.232199</td>\n",
       "      <td>2.022693e-01</td>\n",
       "      <td>0.153582</td>\n",
       "    </tr>\n",
       "    <tr>\n",
       "      <th>RBP</th>\n",
       "      <td>0.087097</td>\n",
       "      <td>9.765625e-04</td>\n",
       "      <td>0.173465</td>\n",
       "    </tr>\n",
       "    <tr>\n",
       "      <th>RecipRank</th>\n",
       "      <td>0.217190</td>\n",
       "      <td>1.000000e-01</td>\n",
       "      <td>0.288525</td>\n",
       "    </tr>\n",
       "    <tr>\n",
       "      <th rowspan=\"3\" valign=\"top\">IIE</th>\n",
       "      <th>NDCG</th>\n",
       "      <td>0.038123</td>\n",
       "      <td>0.000000e+00</td>\n",
       "      <td>0.057696</td>\n",
       "    </tr>\n",
       "    <tr>\n",
       "      <th>RBP</th>\n",
       "      <td>0.004345</td>\n",
       "      <td>0.000000e+00</td>\n",
       "      <td>0.035248</td>\n",
       "    </tr>\n",
       "    <tr>\n",
       "      <th>RecipRank</th>\n",
       "      <td>0.026552</td>\n",
       "      <td>0.000000e+00</td>\n",
       "      <td>0.079340</td>\n",
       "    </tr>\n",
       "    <tr>\n",
       "      <th rowspan=\"3\" valign=\"top\">III</th>\n",
       "      <th>NDCG</th>\n",
       "      <td>0.188728</td>\n",
       "      <td>1.437144e-01</td>\n",
       "      <td>0.159716</td>\n",
       "    </tr>\n",
       "    <tr>\n",
       "      <th>RBP</th>\n",
       "      <td>0.108998</td>\n",
       "      <td>2.441406e-04</td>\n",
       "      <td>0.195514</td>\n",
       "    </tr>\n",
       "    <tr>\n",
       "      <th>RecipRank</th>\n",
       "      <td>0.245997</td>\n",
       "      <td>8.333333e-02</td>\n",
       "      <td>0.332014</td>\n",
       "    </tr>\n",
       "    <tr>\n",
       "      <th rowspan=\"3\" valign=\"top\">Pop</th>\n",
       "      <th>NDCG</th>\n",
       "      <td>0.130506</td>\n",
       "      <td>9.633708e-02</td>\n",
       "      <td>0.128663</td>\n",
       "    </tr>\n",
       "    <tr>\n",
       "      <th>RBP</th>\n",
       "      <td>0.060303</td>\n",
       "      <td>5.960464e-08</td>\n",
       "      <td>0.146928</td>\n",
       "    </tr>\n",
       "    <tr>\n",
       "      <th>RecipRank</th>\n",
       "      <td>0.155132</td>\n",
       "      <td>4.166667e-02</td>\n",
       "      <td>0.268589</td>\n",
       "    </tr>\n",
       "    <tr>\n",
       "      <th rowspan=\"3\" valign=\"top\">UUE</th>\n",
       "      <th>NDCG</th>\n",
       "      <td>0.031049</td>\n",
       "      <td>0.000000e+00</td>\n",
       "      <td>0.044373</td>\n",
       "    </tr>\n",
       "    <tr>\n",
       "      <th>RBP</th>\n",
       "      <td>0.001134</td>\n",
       "      <td>0.000000e+00</td>\n",
       "      <td>0.011158</td>\n",
       "    </tr>\n",
       "    <tr>\n",
       "      <th>RecipRank</th>\n",
       "      <td>0.016203</td>\n",
       "      <td>0.000000e+00</td>\n",
       "      <td>0.038081</td>\n",
       "    </tr>\n",
       "  </tbody>\n",
       "</table>\n",
       "</div>"
      ],
      "text/plain": [
       "                     mean        median       std\n",
       "model                                            \n",
       "ALS   NDCG       0.052912  0.000000e+00  0.081967\n",
       "      RBP        0.016577  0.000000e+00  0.076794\n",
       "      RecipRank  0.054227  0.000000e+00  0.153055\n",
       "Bias  NDCG       0.049744  0.000000e+00  0.075282\n",
       "      RBP        0.010717  0.000000e+00  0.056017\n",
       "      RecipRank  0.044258  0.000000e+00  0.118458\n",
       "IALS  NDCG       0.232199  2.022693e-01  0.153582\n",
       "      RBP        0.087097  9.765625e-04  0.173465\n",
       "      RecipRank  0.217190  1.000000e-01  0.288525\n",
       "IIE   NDCG       0.038123  0.000000e+00  0.057696\n",
       "      RBP        0.004345  0.000000e+00  0.035248\n",
       "      RecipRank  0.026552  0.000000e+00  0.079340\n",
       "III   NDCG       0.188728  1.437144e-01  0.159716\n",
       "      RBP        0.108998  2.441406e-04  0.195514\n",
       "      RecipRank  0.245997  8.333333e-02  0.332014\n",
       "Pop   NDCG       0.130506  9.633708e-02  0.128663\n",
       "      RBP        0.060303  5.960464e-08  0.146928\n",
       "      RecipRank  0.155132  4.166667e-02  0.268589\n",
       "UUE   NDCG       0.031049  0.000000e+00  0.044373\n",
       "      RBP        0.001134  0.000000e+00  0.011158\n",
       "      RecipRank  0.016203  0.000000e+00  0.038081"
      ]
     },
     "execution_count": 13,
     "metadata": {},
     "output_type": "execute_result"
    }
   ],
   "source": [
    "ra = RunAnalysis()\n",
    "\n",
    "ra.add_metric(NDCG())\n",
    "ra.add_metric(RecipRank())\n",
    "ra.add_metric(RBP())\n",
    "\n",
    "rec_results = ra.compute(recs, test)\n",
    "rec_results.list_summary('model')"
   ]
  },
  {
   "cell_type": "markdown",
   "id": "b17ba3e5",
   "metadata": {
    "papermill": {
     "duration": 0.008879,
     "end_time": "2024-12-07T21:31:08.805064",
     "exception": false,
     "start_time": "2024-12-07T21:31:08.796185",
     "status": "completed"
    },
    "tags": []
   },
   "source": [
    "We can reshape the list metrics and plot them:"
   ]
  },
  {
   "cell_type": "code",
   "execution_count": 14,
   "id": "5c479b59",
   "metadata": {
    "execution": {
     "iopub.execute_input": "2024-12-07T21:31:08.808479Z",
     "iopub.status.busy": "2024-12-07T21:31:08.808377Z",
     "iopub.status.idle": "2024-12-07T21:31:09.534629Z",
     "shell.execute_reply": "2024-12-07T21:31:09.534293Z"
    },
    "papermill": {
     "duration": 0.728608,
     "end_time": "2024-12-07T21:31:09.535128",
     "exception": false,
     "start_time": "2024-12-07T21:31:08.806520",
     "status": "completed"
    },
    "tags": []
   },
   "outputs": [
    {
     "data": {
      "image/png": "[encoded data removed]",
      "text/plain": [
       "<Figure size 1511.11x500 with 3 Axes>"
      ]
     },
     "metadata": {},
     "output_type": "display_data"
    }
   ],
   "source": [
    "metrics = rec_results.list_metrics()\n",
    "metrics = metrics.melt(var_name='metric', ignore_index=False).reset_index()\n",
    "sns.catplot(metrics, x='model', y='value', col='metric', kind='bar')\n",
    "plt.show()"
   ]
  },
  {
   "cell_type": "markdown",
   "id": "904ccd24",
   "metadata": {
    "papermill": {
     "duration": 0.009064,
     "end_time": "2024-12-07T21:31:09.545812",
     "exception": false,
     "start_time": "2024-12-07T21:31:09.536748",
     "status": "completed"
    },
    "tags": []
   },
   "source": [
    "## Prediction RMSE\n",
    "\n",
    "We will also look at the prediction RMSE."
   ]
  },
  {
   "cell_type": "code",
   "execution_count": 15,
   "id": "ca056d28",
   "metadata": {
    "execution": {
     "iopub.execute_input": "2024-12-07T21:31:09.549457Z",
     "iopub.status.busy": "2024-12-07T21:31:09.549355Z",
     "iopub.status.idle": "2024-12-07T21:31:17.660356Z",
     "shell.execute_reply": "2024-12-07T21:31:17.660140Z"
    },
    "papermill": {
     "duration": 8.113479,
     "end_time": "2024-12-07T21:31:17.660830",
     "exception": false,
     "start_time": "2024-12-07T21:31:09.547351",
     "status": "completed"
    },
    "tags": []
   },
   "outputs": [
    {
     "name": "stderr",
     "output_type": "stream",
     "text": [
      "/home/mde48/lenskit/lkpy/lenskit/lenskit/metrics/bulk.py:116: FutureWarning: The previous implementation of stack is deprecated and will be removed in a future version of pandas. See the What's New notes for pandas 2.1.0 for details. Specify future_stack=True to adopt the new implementation and silence this warning.\n",
      "  df = scores.groupby(list(keys)).agg([\"mean\", \"median\", \"std\"]).stack(level=0)\n"
     ]
    },
    {
     "data": {
      "text/html": [
       "<div>\n",
       "<style scoped>\n",
       "    .dataframe tbody tr th:only-of-type {\n",
       "        vertical-align: middle;\n",
       "    }\n",
       "\n",
       "    .dataframe tbody tr th {\n",
       "        vertical-align: top;\n",
       "    }\n",
       "\n",
       "    .dataframe thead th {\n",
       "        text-align: right;\n",
       "    }\n",
       "</style>\n",
       "<table border=\"1\" class=\"dataframe\">\n",
       "  <thead>\n",
       "    <tr style=\"text-align: right;\">\n",
       "      <th></th>\n",
       "      <th></th>\n",
       "      <th>mean</th>\n",
       "      <th>median</th>\n",
       "      <th>std</th>\n",
       "    </tr>\n",
       "    <tr>\n",
       "      <th>model</th>\n",
       "      <th></th>\n",
       "      <th></th>\n",
       "      <th></th>\n",
       "      <th></th>\n",
       "    </tr>\n",
       "  </thead>\n",
       "  <tbody>\n",
       "    <tr>\n",
       "      <th>ALS</th>\n",
       "      <th>RMSE</th>\n",
       "      <td>0.829111</td>\n",
       "      <td>0.788561</td>\n",
       "      <td>0.319170</td>\n",
       "    </tr>\n",
       "    <tr>\n",
       "      <th>Bias</th>\n",
       "      <th>RMSE</th>\n",
       "      <td>0.871160</td>\n",
       "      <td>0.827136</td>\n",
       "      <td>0.331031</td>\n",
       "    </tr>\n",
       "    <tr>\n",
       "      <th>IIE</th>\n",
       "      <th>RMSE</th>\n",
       "      <td>0.818480</td>\n",
       "      <td>0.777677</td>\n",
       "      <td>0.321417</td>\n",
       "    </tr>\n",
       "    <tr>\n",
       "      <th>UUE</th>\n",
       "      <th>RMSE</th>\n",
       "      <td>0.857397</td>\n",
       "      <td>0.814194</td>\n",
       "      <td>0.335299</td>\n",
       "    </tr>\n",
       "  </tbody>\n",
       "</table>\n",
       "</div>"
      ],
      "text/plain": [
       "                mean    median       std\n",
       "model                                   \n",
       "ALS   RMSE  0.829111  0.788561  0.319170\n",
       "Bias  RMSE  0.871160  0.827136  0.331031\n",
       "IIE   RMSE  0.818480  0.777677  0.321417\n",
       "UUE   RMSE  0.857397  0.814194  0.335299"
      ]
     },
     "execution_count": 15,
     "metadata": {},
     "output_type": "execute_result"
    }
   ],
   "source": [
    "pa = RunAnalysis()\n",
    "\n",
    "pa.add_metric(RMSE(missing_scores='ignore', missing_truth='ignore'))\n",
    "\n",
    "pred_results = pa.compute(preds, test)\n",
    "pred_results.list_summary('model')"
   ]
  },
  {
   "cell_type": "code",
   "execution_count": 16,
   "id": "0626a38e",
   "metadata": {
    "execution": {
     "iopub.execute_input": "2024-12-07T21:31:17.671989Z",
     "iopub.status.busy": "2024-12-07T21:31:17.671895Z",
     "iopub.status.idle": "2024-12-07T21:31:17.820838Z",
     "shell.execute_reply": "2024-12-07T21:31:17.820586Z"
    },
    "papermill": {
     "duration": 0.158643,
     "end_time": "2024-12-07T21:31:17.821282",
     "exception": false,
     "start_time": "2024-12-07T21:31:17.662639",
     "status": "completed"
    },
    "tags": []
   },
   "outputs": [
    {
     "data": {
      "image/png": "[encoded data removed]",
      "text/plain": [
       "<Figure size 511.111x500 with 1 Axes>"
      ]
     },
     "metadata": {},
     "output_type": "display_data"
    }
   ],
   "source": [
    "sns.catplot(pred_results.list_metrics().reset_index(), x='model', y='RMSE', kind='bar')\n",
    "plt.show()"
   ]
  },
  {
   "cell_type": "markdown",
   "id": "c635bf68",
   "metadata": {
    "papermill": {
     "duration": 0.008818,
     "end_time": "2024-12-07T21:31:17.831809",
     "exception": false,
     "start_time": "2024-12-07T21:31:17.822991",
     "status": "completed"
    },
    "tags": []
   },
   "source": [
    "## Save Metrics\n",
    "\n",
    "We'll now save the metrics to a file."
   ]
  },
  {
   "cell_type": "code",
   "execution_count": 17,
   "id": "d1d7f624",
   "metadata": {
    "execution": {
     "iopub.execute_input": "2024-12-07T21:31:17.835500Z",
     "iopub.status.busy": "2024-12-07T21:31:17.835397Z",
     "iopub.status.idle": "2024-12-07T21:31:17.844671Z",
     "shell.execute_reply": "2024-12-07T21:31:17.844526Z"
    },
    "papermill": {
     "duration": 0.011848,
     "end_time": "2024-12-07T21:31:17.845250",
     "exception": false,
     "start_time": "2024-12-07T21:31:17.833402",
     "status": "completed"
    },
    "tags": []
   },
   "outputs": [
    {
     "name": "stderr",
     "output_type": "stream",
     "text": [
      "/home/mde48/lenskit/lkpy/lenskit/lenskit/metrics/bulk.py:116: FutureWarning: The previous implementation of stack is deprecated and will be removed in a future version of pandas. See the What's New notes for pandas 2.1.0 for details. Specify future_stack=True to adopt the new implementation and silence this warning.\n",
      "  df = scores.groupby(list(keys)).agg([\"mean\", \"median\", \"std\"]).stack(level=0)\n"
     ]
    },
    {
     "data": {
      "text/html": [
       "<div>\n",
       "<style scoped>\n",
       "    .dataframe tbody tr th:only-of-type {\n",
       "        vertical-align: middle;\n",
       "    }\n",
       "\n",
       "    .dataframe tbody tr th {\n",
       "        vertical-align: top;\n",
       "    }\n",
       "\n",
       "    .dataframe thead th {\n",
       "        text-align: right;\n",
       "    }\n",
       "</style>\n",
       "<table border=\"1\" class=\"dataframe\">\n",
       "  <thead>\n",
       "    <tr style=\"text-align: right;\">\n",
       "      <th></th>\n",
       "      <th>NDCG</th>\n",
       "      <th>RBP</th>\n",
       "      <th>RecipRank</th>\n",
       "    </tr>\n",
       "    <tr>\n",
       "      <th>model</th>\n",
       "      <th></th>\n",
       "      <th></th>\n",
       "      <th></th>\n",
       "    </tr>\n",
       "  </thead>\n",
       "  <tbody>\n",
       "    <tr>\n",
       "      <th>ALS</th>\n",
       "      <td>0.052912</td>\n",
       "      <td>0.016577</td>\n",
       "      <td>0.054227</td>\n",
       "    </tr>\n",
       "    <tr>\n",
       "      <th>Bias</th>\n",
       "      <td>0.049744</td>\n",
       "      <td>0.010717</td>\n",
       "      <td>0.044258</td>\n",
       "    </tr>\n",
       "    <tr>\n",
       "      <th>IALS</th>\n",
       "      <td>0.232199</td>\n",
       "      <td>0.087097</td>\n",
       "      <td>0.217190</td>\n",
       "    </tr>\n",
       "    <tr>\n",
       "      <th>IIE</th>\n",
       "      <td>0.038123</td>\n",
       "      <td>0.004345</td>\n",
       "      <td>0.026552</td>\n",
       "    </tr>\n",
       "    <tr>\n",
       "      <th>III</th>\n",
       "      <td>0.188728</td>\n",
       "      <td>0.108998</td>\n",
       "      <td>0.245997</td>\n",
       "    </tr>\n",
       "    <tr>\n",
       "      <th>Pop</th>\n",
       "      <td>0.130506</td>\n",
       "      <td>0.060303</td>\n",
       "      <td>0.155132</td>\n",
       "    </tr>\n",
       "    <tr>\n",
       "      <th>UUE</th>\n",
       "      <td>0.031049</td>\n",
       "      <td>0.001134</td>\n",
       "      <td>0.016203</td>\n",
       "    </tr>\n",
       "  </tbody>\n",
       "</table>\n",
       "</div>"
      ],
      "text/plain": [
       "           NDCG       RBP  RecipRank\n",
       "model                               \n",
       "ALS    0.052912  0.016577   0.054227\n",
       "Bias   0.049744  0.010717   0.044258\n",
       "IALS   0.232199  0.087097   0.217190\n",
       "IIE    0.038123  0.004345   0.026552\n",
       "III    0.188728  0.108998   0.245997\n",
       "Pop    0.130506  0.060303   0.155132\n",
       "UUE    0.031049  0.001134   0.016203"
      ]
     },
     "execution_count": 17,
     "metadata": {},
     "output_type": "execute_result"
    }
   ],
   "source": [
    "rlsum = rec_results.list_summary('model')['mean'].unstack()\n",
    "rlsum"
   ]
  },
  {
   "cell_type": "code",
   "execution_count": 18,
   "id": "f564b364",
   "metadata": {
    "execution": {
     "iopub.execute_input": "2024-12-07T21:31:17.852024Z",
     "iopub.status.busy": "2024-12-07T21:31:17.851955Z",
     "iopub.status.idle": "2024-12-07T21:31:17.854175Z",
     "shell.execute_reply": "2024-12-07T21:31:17.854006Z"
    },
    "papermill": {
     "duration": 0.006252,
     "end_time": "2024-12-07T21:31:17.854772",
     "exception": false,
     "start_time": "2024-12-07T21:31:17.848520",
     "status": "completed"
    },
    "tags": []
   },
   "outputs": [],
   "source": [
    "rlsum.to_json(f'eval-metrics.{dataset}.json', orient='index')"
   ]
  }
 ],
 "metadata": {
  "jupytext": {
   "formats": "ipynb,md",
   "notebook_metadata_filter": "split_at_heading"
  },
  "kernelspec": {
   "display_name": "Python 3 (ipykernel)",
   "language": "python",
   "name": "python3"
  },
  "language_info": {
   "codemirror_mode": {
    "name": "ipython",
    "version": 3
   },
   "file_extension": ".py",
   "mimetype": "text/x-python",
   "name": "python",
   "nbconvert_exporter": "python",
   "pygments_lexer": "ipython3",
   "version": "3.12.7"
  },
  "papermill": {
   "default_parameters": {},
   "duration": 25.551007,
   "end_time": "2024-12-07T21:31:18.373349",
   "environment_variables": {},
   "exception": null,
   "input_path": "eval-report.ipynb",
   "output_path": "eval-report.ml1m.ipynb",
   "parameters": {
    "dataset": "ml1m"
   },
   "start_time": "2024-12-07T21:30:52.822342",
   "version": "2.6.0"
  },
  "split_at_heading": true
 },
 "nbformat": 4,
 "nbformat_minor": 5
}