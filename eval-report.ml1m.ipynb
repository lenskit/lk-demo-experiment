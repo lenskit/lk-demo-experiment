{
 "cells": [
  {
   "cell_type": "markdown",
   "id": "627160a5",
   "metadata": {
    "papermill": {
     "duration": 0.004245,
     "end_time": "2024-12-19T23:25:38.462270",
     "exception": false,
     "start_time": "2024-12-19T23:25:38.458025",
     "status": "completed"
    },
    "tags": []
   },
   "source": [
    "# Evaluation Analysis for Recommender Output"
   ]
  },
  {
   "cell_type": "markdown",
   "id": "ff97d282",
   "metadata": {
    "papermill": {
     "duration": 0.003531,
     "end_time": "2024-12-19T23:25:38.470067",
     "exception": false,
     "start_time": "2024-12-19T23:25:38.466536",
     "status": "completed"
    },
    "tags": []
   },
   "source": [
    "In this section we will analyze and compare the generated recommendations and predictions from a predefined list of algorithms with the goal of assessing the performance of each algorithm with respect to a metric. In other words, we would rank the algorithms for each metric considered with respect to performance."
   ]
  },
  {
   "cell_type": "markdown",
   "id": "72feefd7",
   "metadata": {
    "papermill": {
     "duration": 0.003546,
     "end_time": "2024-12-19T23:25:38.477408",
     "exception": false,
     "start_time": "2024-12-19T23:25:38.473862",
     "status": "completed"
    },
    "tags": []
   },
   "source": [
    "## Setup"
   ]
  },
  {
   "cell_type": "markdown",
   "id": "824b8a17",
   "metadata": {
    "papermill": {
     "duration": 0.003353,
     "end_time": "2024-12-19T23:25:38.484213",
     "exception": false,
     "start_time": "2024-12-19T23:25:38.480860",
     "status": "completed"
    },
    "tags": []
   },
   "source": [
    "Below are the list of packages required to successfully run the analysis. They are divided into partitions to signify their specific task.<br>\n",
    "We need the pathlib package for working with files and folders"
   ]
  },
  {
   "cell_type": "code",
   "execution_count": 1,
   "id": "db629019",
   "metadata": {
    "execution": {
     "iopub.execute_input": "2024-12-19T23:25:38.492243Z",
     "iopub.status.busy": "2024-12-19T23:25:38.491975Z",
     "iopub.status.idle": "2024-12-19T23:25:38.494876Z",
     "shell.execute_reply": "2024-12-19T23:25:38.494510Z"
    },
    "papermill": {
     "duration": 0.007944,
     "end_time": "2024-12-19T23:25:38.495661",
     "exception": false,
     "start_time": "2024-12-19T23:25:38.487717",
     "status": "completed"
    },
    "tags": []
   },
   "outputs": [],
   "source": [
    "from pathlib import Path\n",
    "import json"
   ]
  },
  {
   "cell_type": "markdown",
   "id": "d61df12a",
   "metadata": {
    "papermill": {
     "duration": 0.003447,
     "end_time": "2024-12-19T23:25:38.502722",
     "exception": false,
     "start_time": "2024-12-19T23:25:38.499275",
     "status": "completed"
    },
    "tags": []
   },
   "source": [
    "We would use the pandas for analyzing and manipulating our data while seaborn and matplotlib are used for data visualization. statsmodels.graphics.gofplots and scipy.stats.shapiro are used for normality check. Scipy.stats.friedmanchisquare is a non-parametric test used to determine the statistical significance in metric results and the wilcoxon test is used for pairwise comparison of sample data."
   ]
  },
  {
   "cell_type": "code",
   "execution_count": 2,
   "id": "45f067bc",
   "metadata": {
    "execution": {
     "iopub.execute_input": "2024-12-19T23:25:38.510558Z",
     "iopub.status.busy": "2024-12-19T23:25:38.510312Z",
     "iopub.status.idle": "2024-12-19T23:25:41.189841Z",
     "shell.execute_reply": "2024-12-19T23:25:41.189404Z"
    },
    "lines_to_next_cell": 2,
    "papermill": {
     "duration": 2.684762,
     "end_time": "2024-12-19T23:25:41.190965",
     "exception": false,
     "start_time": "2024-12-19T23:25:38.506203",
     "status": "completed"
    },
    "tags": []
   },
   "outputs": [],
   "source": [
    "import pandas as pd\n",
    "import seaborn as sns\n",
    "import matplotlib.pyplot as plt\n",
    "from statsmodels.graphics.gofplots import qqplot\n",
    "from scipy.stats import shapiro\n",
    "from scipy.stats import friedmanchisquare, wilcoxon\n",
    "from itertools import combinations"
   ]
  },
  {
   "cell_type": "markdown",
   "id": "1681abfd",
   "metadata": {
    "papermill": {
     "duration": 0.003434,
     "end_time": "2024-12-19T23:25:41.198646",
     "exception": false,
     "start_time": "2024-12-19T23:25:41.195212",
     "status": "completed"
    },
    "tags": []
   },
   "source": [
    "Import the LensKit metrics for analysis:"
   ]
  },
  {
   "cell_type": "code",
   "execution_count": 3,
   "id": "a2ad1b0d",
   "metadata": {
    "execution": {
     "iopub.execute_input": "2024-12-19T23:25:41.206621Z",
     "iopub.status.busy": "2024-12-19T23:25:41.206307Z",
     "iopub.status.idle": "2024-12-19T23:25:44.289592Z",
     "shell.execute_reply": "2024-12-19T23:25:44.289174Z"
    },
    "papermill": {
     "duration": 3.088483,
     "end_time": "2024-12-19T23:25:44.290602",
     "exception": false,
     "start_time": "2024-12-19T23:25:41.202119",
     "status": "completed"
    },
    "tags": []
   },
   "outputs": [],
   "source": [
    "from lenskit.data import ItemListCollection, UserIDKey\n",
    "from lenskit.metrics import RunAnalysis, RMSE, NDCG, RecipRank, RBP"
   ]
  },
  {
   "cell_type": "markdown",
   "id": "39690fd8",
   "metadata": {
    "papermill": {
     "duration": 0.003559,
     "end_time": "2024-12-19T23:25:44.298233",
     "exception": false,
     "start_time": "2024-12-19T23:25:44.294674",
     "status": "completed"
    },
    "tags": []
   },
   "source": [
    "## Load Data\n",
    "\n",
    "The recommendations are in `runs`, and we will need to reassemble the test data from `test`."
   ]
  },
  {
   "cell_type": "code",
   "execution_count": 4,
   "id": "4e076282",
   "metadata": {
    "execution": {
     "iopub.execute_input": "2024-12-19T23:25:44.305915Z",
     "iopub.status.busy": "2024-12-19T23:25:44.305676Z",
     "iopub.status.idle": "2024-12-19T23:25:44.308045Z",
     "shell.execute_reply": "2024-12-19T23:25:44.307684Z"
    },
    "papermill": {
     "duration": 0.007198,
     "end_time": "2024-12-19T23:25:44.308724",
     "exception": false,
     "start_time": "2024-12-19T23:25:44.301526",
     "status": "completed"
    },
    "tags": [
     "parameters"
    ]
   },
   "outputs": [],
   "source": [
    "dataset = \"ml100k\""
   ]
  },
  {
   "cell_type": "code",
   "execution_count": 5,
   "id": "1103f9cf",
   "metadata": {
    "execution": {
     "iopub.execute_input": "2024-12-19T23:25:44.316645Z",
     "iopub.status.busy": "2024-12-19T23:25:44.316451Z",
     "iopub.status.idle": "2024-12-19T23:25:44.318536Z",
     "shell.execute_reply": "2024-12-19T23:25:44.318192Z"
    },
    "papermill": {
     "duration": 0.006981,
     "end_time": "2024-12-19T23:25:44.319191",
     "exception": false,
     "start_time": "2024-12-19T23:25:44.312210",
     "status": "completed"
    },
    "tags": [
     "injected-parameters"
    ]
   },
   "outputs": [],
   "source": [
    "# Parameters\n",
    "dataset = \"ml1m\"\n"
   ]
  },
  {
   "cell_type": "code",
   "execution_count": 6,
   "id": "0167d6cb",
   "metadata": {
    "execution": {
     "iopub.execute_input": "2024-12-19T23:25:44.326663Z",
     "iopub.status.busy": "2024-12-19T23:25:44.326475Z",
     "iopub.status.idle": "2024-12-19T23:25:44.328581Z",
     "shell.execute_reply": "2024-12-19T23:25:44.328246Z"
    },
    "papermill": {
     "duration": 0.006624,
     "end_time": "2024-12-19T23:25:44.329274",
     "exception": false,
     "start_time": "2024-12-19T23:25:44.322650",
     "status": "completed"
    },
    "tags": []
   },
   "outputs": [],
   "source": [
    "output_root = Path(\"runs\")"
   ]
  },
  {
   "cell_type": "code",
   "execution_count": 7,
   "id": "0921d0c4",
   "metadata": {
    "execution": {
     "iopub.execute_input": "2024-12-19T23:25:44.337004Z",
     "iopub.status.busy": "2024-12-19T23:25:44.336812Z",
     "iopub.status.idle": "2024-12-19T23:25:44.339537Z",
     "shell.execute_reply": "2024-12-19T23:25:44.339195Z"
    },
    "papermill": {
     "duration": 0.007355,
     "end_time": "2024-12-19T23:25:44.340211",
     "exception": false,
     "start_time": "2024-12-19T23:25:44.332856",
     "status": "completed"
    },
    "tags": []
   },
   "outputs": [],
   "source": [
    "dirs = [fld for fld in output_root.glob(f'{dataset}-*')]"
   ]
  },
  {
   "cell_type": "code",
   "execution_count": 8,
   "id": "f5ff32c2",
   "metadata": {
    "execution": {
     "iopub.execute_input": "2024-12-19T23:25:44.347717Z",
     "iopub.status.busy": "2024-12-19T23:25:44.347530Z",
     "iopub.status.idle": "2024-12-19T23:25:46.290537Z",
     "shell.execute_reply": "2024-12-19T23:25:46.290107Z"
    },
    "papermill": {
     "duration": 1.947992,
     "end_time": "2024-12-19T23:25:46.291620",
     "exception": false,
     "start_time": "2024-12-19T23:25:44.343628",
     "status": "completed"
    },
    "tags": []
   },
   "outputs": [],
   "source": [
    "recs = ItemListCollection(['model', 'user_id'], index=False)\n",
    "for fld in dirs:\n",
    "    for file in fld.glob(\"recs-*\"):\n",
    "        rec = ItemListCollection.load_parquet(file)\n",
    "        recs.add_from(rec, model=fld.name.split(\"-\")[1])"
   ]
  },
  {
   "cell_type": "code",
   "execution_count": 9,
   "id": "bab0e837",
   "metadata": {
    "execution": {
     "iopub.execute_input": "2024-12-19T23:25:46.301950Z",
     "iopub.status.busy": "2024-12-19T23:25:46.301718Z",
     "iopub.status.idle": "2024-12-19T23:25:46.316024Z",
     "shell.execute_reply": "2024-12-19T23:25:46.315669Z"
    },
    "papermill": {
     "duration": 0.01968,
     "end_time": "2024-12-19T23:25:46.316744",
     "exception": false,
     "start_time": "2024-12-19T23:25:46.297064",
     "status": "completed"
    },
    "tags": []
   },
   "outputs": [
    {
     "data": {
      "text/plain": [
       "['ALS', 'Bias', 'IALS', 'IIE', 'III', 'Pop', 'UUE']"
      ]
     },
     "execution_count": 9,
     "metadata": {},
     "output_type": "execute_result"
    }
   ],
   "source": [
    "rec_algos = sorted(set(a for (a, _u) in recs.keys()))\n",
    "rec_algos"
   ]
  },
  {
   "cell_type": "code",
   "execution_count": 10,
   "id": "ce684383",
   "metadata": {
    "execution": {
     "iopub.execute_input": "2024-12-19T23:25:46.325619Z",
     "iopub.status.busy": "2024-12-19T23:25:46.325411Z",
     "iopub.status.idle": "2024-12-19T23:25:47.946092Z",
     "shell.execute_reply": "2024-12-19T23:25:47.945655Z"
    },
    "papermill": {
     "duration": 1.626275,
     "end_time": "2024-12-19T23:25:47.947208",
     "exception": false,
     "start_time": "2024-12-19T23:25:46.320933",
     "status": "completed"
    },
    "tags": []
   },
   "outputs": [],
   "source": [
    "preds = ItemListCollection(['model', 'user_id'], index=False)\n",
    "for fld in dirs:\n",
    "    for file in fld.glob(\"pred-*\"):\n",
    "        pred = ItemListCollection.load_parquet(file)\n",
    "        preds.add_from(pred, model=fld.name.split(\"-\")[1])"
   ]
  },
  {
   "cell_type": "markdown",
   "id": "7def51b6",
   "metadata": {
    "papermill": {
     "duration": 0.004132,
     "end_time": "2024-12-19T23:25:47.956651",
     "exception": false,
     "start_time": "2024-12-19T23:25:47.952519",
     "status": "completed"
    },
    "tags": []
   },
   "source": [
    "We need to load the test data so that we have the ground truths for computing accuracy"
   ]
  },
  {
   "cell_type": "code",
   "execution_count": 11,
   "id": "392bd935",
   "metadata": {
    "execution": {
     "iopub.execute_input": "2024-12-19T23:25:47.965461Z",
     "iopub.status.busy": "2024-12-19T23:25:47.965209Z",
     "iopub.status.idle": "2024-12-19T23:25:47.967628Z",
     "shell.execute_reply": "2024-12-19T23:25:47.967270Z"
    },
    "papermill": {
     "duration": 0.007767,
     "end_time": "2024-12-19T23:25:47.968321",
     "exception": false,
     "start_time": "2024-12-19T23:25:47.960554",
     "status": "completed"
    },
    "tags": []
   },
   "outputs": [],
   "source": [
    "split_root = Path(\"data-split\")\n",
    "split_dir = split_root / dataset"
   ]
  },
  {
   "cell_type": "code",
   "execution_count": 12,
   "id": "bb4c0fb0",
   "metadata": {
    "execution": {
     "iopub.execute_input": "2024-12-19T23:25:47.976983Z",
     "iopub.status.busy": "2024-12-19T23:25:47.976783Z",
     "iopub.status.idle": "2024-12-19T23:25:48.545649Z",
     "shell.execute_reply": "2024-12-19T23:25:48.545212Z"
    },
    "papermill": {
     "duration": 0.574534,
     "end_time": "2024-12-19T23:25:48.546761",
     "exception": false,
     "start_time": "2024-12-19T23:25:47.972227",
     "status": "completed"
    },
    "tags": []
   },
   "outputs": [],
   "source": [
    "test = ItemListCollection(UserIDKey)\n",
    "for file in split_dir.glob(\"test-*.parquet\"):\n",
    "    df = pd.read_parquet(file)\n",
    "    part = ItemListCollection.from_df(df, UserIDKey)\n",
    "    test.add_from(part)"
   ]
  },
  {
   "cell_type": "markdown",
   "id": "b549d43f",
   "metadata": {
    "papermill": {
     "duration": 0.004133,
     "end_time": "2024-12-19T23:25:48.555832",
     "exception": false,
     "start_time": "2024-12-19T23:25:48.551699",
     "status": "completed"
    },
    "tags": []
   },
   "source": [
    "## Top-N Metrics\n",
    "\n",
    "`RunListAnalysis` computes metrics for recommendation results and takes care of\n",
    "matching recommendations and ground truth."
   ]
  },
  {
   "cell_type": "code",
   "execution_count": 13,
   "id": "b404031b",
   "metadata": {
    "execution": {
     "iopub.execute_input": "2024-12-19T23:25:48.564934Z",
     "iopub.status.busy": "2024-12-19T23:25:48.564677Z",
     "iopub.status.idle": "2024-12-19T23:25:55.818110Z",
     "shell.execute_reply": "2024-12-19T23:25:55.817639Z"
    },
    "papermill": {
     "duration": 7.259007,
     "end_time": "2024-12-19T23:25:55.818877",
     "exception": false,
     "start_time": "2024-12-19T23:25:48.559870",
     "status": "completed"
    },
    "tags": []
   },
   "outputs": [
    {
     "name": "stderr",
     "output_type": "stream",
     "text": [
      "/beegfs/scratch/mde48/lenskit/lk-demo-experiment/.venv/lib/python3.12/site-packages/lenskit/metrics/bulk.py:121: FutureWarning: The previous implementation of stack is deprecated and will be removed in a future version of pandas. See the What's New notes for pandas 2.1.0 for details. Specify future_stack=True to adopt the new implementation and silence this warning.\n",
      "  df = scores.groupby(list(keys)).agg([\"mean\", \"median\", \"std\"]).stack(level=0)\n"
     ]
    },
    {
     "data": {
      "text/html": [
       "<div>\n",
       "<style scoped>\n",
       "    .dataframe tbody tr th:only-of-type {\n",
       "        vertical-align: middle;\n",
       "    }\n",
       "\n",
       "    .dataframe tbody tr th {\n",
       "        vertical-align: top;\n",
       "    }\n",
       "\n",
       "    .dataframe thead th {\n",
       "        text-align: right;\n",
       "    }\n",
       "</style>\n",
       "<table border=\"1\" class=\"dataframe\">\n",
       "  <thead>\n",
       "    <tr style=\"text-align: right;\">\n",
       "      <th></th>\n",
       "      <th></th>\n",
       "      <th>mean</th>\n",
       "      <th>median</th>\n",
       "      <th>std</th>\n",
       "    </tr>\n",
       "    <tr>\n",
       "      <th>model</th>\n",
       "      <th></th>\n",
       "      <th></th>\n",
       "      <th></th>\n",
       "      <th></th>\n",
       "    </tr>\n",
       "  </thead>\n",
       "  <tbody>\n",
       "    <tr>\n",
       "      <th rowspan=\"3\" valign=\"top\">ALS</th>\n",
       "      <th>NDCG</th>\n",
       "      <td>0.054060</td>\n",
       "      <td>4.235286e-02</td>\n",
       "      <td>0.081873</td>\n",
       "    </tr>\n",
       "    <tr>\n",
       "      <th>RBP</th>\n",
       "      <td>0.016962</td>\n",
       "      <td>1.577722e-30</td>\n",
       "      <td>0.078891</td>\n",
       "    </tr>\n",
       "    <tr>\n",
       "      <th>RecipRank</th>\n",
       "      <td>0.055568</td>\n",
       "      <td>1.010101e-02</td>\n",
       "      <td>0.155457</td>\n",
       "    </tr>\n",
       "    <tr>\n",
       "      <th rowspan=\"3\" valign=\"top\">Bias</th>\n",
       "      <th>NDCG</th>\n",
       "      <td>0.050986</td>\n",
       "      <td>0.000000e+00</td>\n",
       "      <td>0.074653</td>\n",
       "    </tr>\n",
       "    <tr>\n",
       "      <th>RBP</th>\n",
       "      <td>0.012614</td>\n",
       "      <td>0.000000e+00</td>\n",
       "      <td>0.064828</td>\n",
       "    </tr>\n",
       "    <tr>\n",
       "      <th>RecipRank</th>\n",
       "      <td>0.048764</td>\n",
       "      <td>0.000000e+00</td>\n",
       "      <td>0.134390</td>\n",
       "    </tr>\n",
       "    <tr>\n",
       "      <th rowspan=\"3\" valign=\"top\">IALS</th>\n",
       "      <th>NDCG</th>\n",
       "      <td>0.230121</td>\n",
       "      <td>2.000827e-01</td>\n",
       "      <td>0.152065</td>\n",
       "    </tr>\n",
       "    <tr>\n",
       "      <th>RBP</th>\n",
       "      <td>0.084689</td>\n",
       "      <td>4.887581e-04</td>\n",
       "      <td>0.168636</td>\n",
       "    </tr>\n",
       "    <tr>\n",
       "      <th>RecipRank</th>\n",
       "      <td>0.212745</td>\n",
       "      <td>9.090909e-02</td>\n",
       "      <td>0.283109</td>\n",
       "    </tr>\n",
       "    <tr>\n",
       "      <th rowspan=\"3\" valign=\"top\">IIE</th>\n",
       "      <th>NDCG</th>\n",
       "      <td>0.038865</td>\n",
       "      <td>0.000000e+00</td>\n",
       "      <td>0.056056</td>\n",
       "    </tr>\n",
       "    <tr>\n",
       "      <th>RBP</th>\n",
       "      <td>0.003127</td>\n",
       "      <td>0.000000e+00</td>\n",
       "      <td>0.026095</td>\n",
       "    </tr>\n",
       "    <tr>\n",
       "      <th>RecipRank</th>\n",
       "      <td>0.025148</td>\n",
       "      <td>0.000000e+00</td>\n",
       "      <td>0.063940</td>\n",
       "    </tr>\n",
       "    <tr>\n",
       "      <th rowspan=\"3\" valign=\"top\">III</th>\n",
       "      <th>NDCG</th>\n",
       "      <td>0.191302</td>\n",
       "      <td>1.458087e-01</td>\n",
       "      <td>0.162051</td>\n",
       "    </tr>\n",
       "    <tr>\n",
       "      <th>RBP</th>\n",
       "      <td>0.111977</td>\n",
       "      <td>2.441408e-04</td>\n",
       "      <td>0.199130</td>\n",
       "    </tr>\n",
       "    <tr>\n",
       "      <th>RecipRank</th>\n",
       "      <td>0.250148</td>\n",
       "      <td>8.333333e-02</td>\n",
       "      <td>0.335772</td>\n",
       "    </tr>\n",
       "    <tr>\n",
       "      <th rowspan=\"3\" valign=\"top\">Pop</th>\n",
       "      <th>NDCG</th>\n",
       "      <td>0.130655</td>\n",
       "      <td>9.621702e-02</td>\n",
       "      <td>0.127814</td>\n",
       "    </tr>\n",
       "    <tr>\n",
       "      <th>RBP</th>\n",
       "      <td>0.058055</td>\n",
       "      <td>5.960493e-08</td>\n",
       "      <td>0.142183</td>\n",
       "    </tr>\n",
       "    <tr>\n",
       "      <th>RecipRank</th>\n",
       "      <td>0.152306</td>\n",
       "      <td>4.166667e-02</td>\n",
       "      <td>0.261123</td>\n",
       "    </tr>\n",
       "    <tr>\n",
       "      <th rowspan=\"3\" valign=\"top\">UUE</th>\n",
       "      <th>NDCG</th>\n",
       "      <td>0.031857</td>\n",
       "      <td>0.000000e+00</td>\n",
       "      <td>0.044531</td>\n",
       "    </tr>\n",
       "    <tr>\n",
       "      <th>RBP</th>\n",
       "      <td>0.001005</td>\n",
       "      <td>0.000000e+00</td>\n",
       "      <td>0.010277</td>\n",
       "    </tr>\n",
       "    <tr>\n",
       "      <th>RecipRank</th>\n",
       "      <td>0.016836</td>\n",
       "      <td>0.000000e+00</td>\n",
       "      <td>0.037242</td>\n",
       "    </tr>\n",
       "  </tbody>\n",
       "</table>\n",
       "</div>"
      ],
      "text/plain": [
       "                     mean        median       std\n",
       "model                                            \n",
       "ALS   NDCG       0.054060  4.235286e-02  0.081873\n",
       "      RBP        0.016962  1.577722e-30  0.078891\n",
       "      RecipRank  0.055568  1.010101e-02  0.155457\n",
       "Bias  NDCG       0.050986  0.000000e+00  0.074653\n",
       "      RBP        0.012614  0.000000e+00  0.064828\n",
       "      RecipRank  0.048764  0.000000e+00  0.134390\n",
       "IALS  NDCG       0.230121  2.000827e-01  0.152065\n",
       "      RBP        0.084689  4.887581e-04  0.168636\n",
       "      RecipRank  0.212745  9.090909e-02  0.283109\n",
       "IIE   NDCG       0.038865  0.000000e+00  0.056056\n",
       "      RBP        0.003127  0.000000e+00  0.026095\n",
       "      RecipRank  0.025148  0.000000e+00  0.063940\n",
       "III   NDCG       0.191302  1.458087e-01  0.162051\n",
       "      RBP        0.111977  2.441408e-04  0.199130\n",
       "      RecipRank  0.250148  8.333333e-02  0.335772\n",
       "Pop   NDCG       0.130655  9.621702e-02  0.127814\n",
       "      RBP        0.058055  5.960493e-08  0.142183\n",
       "      RecipRank  0.152306  4.166667e-02  0.261123\n",
       "UUE   NDCG       0.031857  0.000000e+00  0.044531\n",
       "      RBP        0.001005  0.000000e+00  0.010277\n",
       "      RecipRank  0.016836  0.000000e+00  0.037242"
      ]
     },
     "execution_count": 13,
     "metadata": {},
     "output_type": "execute_result"
    }
   ],
   "source": [
    "ra = RunAnalysis()\n",
    "\n",
    "ra.add_metric(NDCG())\n",
    "ra.add_metric(RecipRank())\n",
    "ra.add_metric(RBP())\n",
    "\n",
    "rec_results = ra.compute(recs, test)\n",
    "rec_results.list_summary('model')"
   ]
  },
  {
   "cell_type": "markdown",
   "id": "5e27ecc2",
   "metadata": {
    "papermill": {
     "duration": 0.004068,
     "end_time": "2024-12-19T23:25:55.828084",
     "exception": false,
     "start_time": "2024-12-19T23:25:55.824016",
     "status": "completed"
    },
    "tags": []
   },
   "source": [
    "We can reshape the list metrics and plot them:"
   ]
  },
  {
   "cell_type": "code",
   "execution_count": 14,
   "id": "7d3abf05",
   "metadata": {
    "execution": {
     "iopub.execute_input": "2024-12-19T23:25:55.837653Z",
     "iopub.status.busy": "2024-12-19T23:25:55.837379Z",
     "iopub.status.idle": "2024-12-19T23:25:57.522440Z",
     "shell.execute_reply": "2024-12-19T23:25:57.521989Z"
    },
    "papermill": {
     "duration": 1.690968,
     "end_time": "2024-12-19T23:25:57.523422",
     "exception": false,
     "start_time": "2024-12-19T23:25:55.832454",
     "status": "completed"
    },
    "tags": []
   },
   "outputs": [
    {
     "data": {
      "image/png": "[encoded data removed]",
      "text/plain": [
       "<Figure size 1511.11x500 with 3 Axes>"
      ]
     },
     "metadata": {},
     "output_type": "display_data"
    }
   ],
   "source": [
    "metrics = rec_results.list_metrics()\n",
    "metrics = metrics.melt(var_name='metric', ignore_index=False).reset_index()\n",
    "sns.catplot(metrics, x='model', y='value', col='metric', kind='bar')\n",
    "plt.show()"
   ]
  },
  {
   "cell_type": "markdown",
   "id": "1bda46ae",
   "metadata": {
    "papermill": {
     "duration": 0.004663,
     "end_time": "2024-12-19T23:25:57.533182",
     "exception": false,
     "start_time": "2024-12-19T23:25:57.528519",
     "status": "completed"
    },
    "tags": []
   },
   "source": [
    "## Prediction RMSE\n",
    "\n",
    "We will also look at the prediction RMSE."
   ]
  },
  {
   "cell_type": "code",
   "execution_count": 15,
   "id": "14c6ec5d",
   "metadata": {
    "execution": {
     "iopub.execute_input": "2024-12-19T23:25:57.543259Z",
     "iopub.status.busy": "2024-12-19T23:25:57.542994Z",
     "iopub.status.idle": "2024-12-19T23:26:06.577699Z",
     "shell.execute_reply": "2024-12-19T23:26:06.577244Z"
    },
    "papermill": {
     "duration": 9.040679,
     "end_time": "2024-12-19T23:26:06.578465",
     "exception": false,
     "start_time": "2024-12-19T23:25:57.537786",
     "status": "completed"
    },
    "tags": []
   },
   "outputs": [
    {
     "name": "stderr",
     "output_type": "stream",
     "text": [
      "/beegfs/scratch/mde48/lenskit/lk-demo-experiment/.venv/lib/python3.12/site-packages/lenskit/metrics/bulk.py:121: FutureWarning: The previous implementation of stack is deprecated and will be removed in a future version of pandas. See the What's New notes for pandas 2.1.0 for details. Specify future_stack=True to adopt the new implementation and silence this warning.\n",
      "  df = scores.groupby(list(keys)).agg([\"mean\", \"median\", \"std\"]).stack(level=0)\n"
     ]
    },
    {
     "data": {
      "text/html": [
       "<div>\n",
       "<style scoped>\n",
       "    .dataframe tbody tr th:only-of-type {\n",
       "        vertical-align: middle;\n",
       "    }\n",
       "\n",
       "    .dataframe tbody tr th {\n",
       "        vertical-align: top;\n",
       "    }\n",
       "\n",
       "    .dataframe thead th {\n",
       "        text-align: right;\n",
       "    }\n",
       "</style>\n",
       "<table border=\"1\" class=\"dataframe\">\n",
       "  <thead>\n",
       "    <tr style=\"text-align: right;\">\n",
       "      <th></th>\n",
       "      <th></th>\n",
       "      <th>mean</th>\n",
       "      <th>median</th>\n",
       "      <th>std</th>\n",
       "    </tr>\n",
       "    <tr>\n",
       "      <th>model</th>\n",
       "      <th></th>\n",
       "      <th></th>\n",
       "      <th></th>\n",
       "      <th></th>\n",
       "    </tr>\n",
       "  </thead>\n",
       "  <tbody>\n",
       "    <tr>\n",
       "      <th>ALS</th>\n",
       "      <th>RMSE</th>\n",
       "      <td>0.825556</td>\n",
       "      <td>0.783917</td>\n",
       "      <td>0.322380</td>\n",
       "    </tr>\n",
       "    <tr>\n",
       "      <th>Bias</th>\n",
       "      <th>RMSE</th>\n",
       "      <td>0.865517</td>\n",
       "      <td>0.823410</td>\n",
       "      <td>0.334150</td>\n",
       "    </tr>\n",
       "    <tr>\n",
       "      <th>IIE</th>\n",
       "      <th>RMSE</th>\n",
       "      <td>0.815378</td>\n",
       "      <td>0.770895</td>\n",
       "      <td>0.323589</td>\n",
       "    </tr>\n",
       "    <tr>\n",
       "      <th>UUE</th>\n",
       "      <th>RMSE</th>\n",
       "      <td>0.854072</td>\n",
       "      <td>0.814342</td>\n",
       "      <td>0.336098</td>\n",
       "    </tr>\n",
       "  </tbody>\n",
       "</table>\n",
       "</div>"
      ],
      "text/plain": [
       "                mean    median       std\n",
       "model                                   \n",
       "ALS   RMSE  0.825556  0.783917  0.322380\n",
       "Bias  RMSE  0.865517  0.823410  0.334150\n",
       "IIE   RMSE  0.815378  0.770895  0.323589\n",
       "UUE   RMSE  0.854072  0.814342  0.336098"
      ]
     },
     "execution_count": 15,
     "metadata": {},
     "output_type": "execute_result"
    }
   ],
   "source": [
    "pa = RunAnalysis()\n",
    "\n",
    "pa.add_metric(RMSE(missing_scores='ignore', missing_truth='ignore'))\n",
    "\n",
    "pred_results = pa.compute(preds, test)\n",
    "pred_results.list_summary('model')"
   ]
  },
  {
   "cell_type": "code",
   "execution_count": 16,
   "id": "10794294",
   "metadata": {
    "execution": {
     "iopub.execute_input": "2024-12-19T23:26:06.590585Z",
     "iopub.status.busy": "2024-12-19T23:26:06.590346Z",
     "iopub.status.idle": "2024-12-19T23:26:06.958510Z",
     "shell.execute_reply": "2024-12-19T23:26:06.958128Z"
    },
    "papermill": {
     "duration": 0.374411,
     "end_time": "2024-12-19T23:26:06.959259",
     "exception": false,
     "start_time": "2024-12-19T23:26:06.584848",
     "status": "completed"
    },
    "tags": []
   },
   "outputs": [
    {
     "data": {
      "image/png": "[encoded data removed]",
      "text/plain": [
       "<Figure size 511.111x500 with 1 Axes>"
      ]
     },
     "metadata": {},
     "output_type": "display_data"
    }
   ],
   "source": [
    "sns.catplot(pred_results.list_metrics().reset_index(), x='model', y='RMSE', kind='bar')\n",
    "plt.show()"
   ]
  },
  {
   "cell_type": "markdown",
   "id": "254438cc",
   "metadata": {
    "papermill": {
     "duration": 0.004841,
     "end_time": "2024-12-19T23:26:06.969855",
     "exception": false,
     "start_time": "2024-12-19T23:26:06.965014",
     "status": "completed"
    },
    "tags": []
   },
   "source": [
    "## Save Metrics\n",
    "\n",
    "We'll now save the metrics to a file."
   ]
  },
  {
   "cell_type": "code",
   "execution_count": 17,
   "id": "968be017",
   "metadata": {
    "execution": {
     "iopub.execute_input": "2024-12-19T23:26:06.980208Z",
     "iopub.status.busy": "2024-12-19T23:26:06.979949Z",
     "iopub.status.idle": "2024-12-19T23:26:07.001667Z",
     "shell.execute_reply": "2024-12-19T23:26:07.001292Z"
    },
    "papermill": {
     "duration": 0.0279,
     "end_time": "2024-12-19T23:26:07.002448",
     "exception": false,
     "start_time": "2024-12-19T23:26:06.974548",
     "status": "completed"
    },
    "tags": []
   },
   "outputs": [
    {
     "name": "stderr",
     "output_type": "stream",
     "text": [
      "/beegfs/scratch/mde48/lenskit/lk-demo-experiment/.venv/lib/python3.12/site-packages/lenskit/metrics/bulk.py:121: FutureWarning: The previous implementation of stack is deprecated and will be removed in a future version of pandas. See the What's New notes for pandas 2.1.0 for details. Specify future_stack=True to adopt the new implementation and silence this warning.\n",
      "  df = scores.groupby(list(keys)).agg([\"mean\", \"median\", \"std\"]).stack(level=0)\n"
     ]
    },
    {
     "data": {
      "text/html": [
       "<div>\n",
       "<style scoped>\n",
       "    .dataframe tbody tr th:only-of-type {\n",
       "        vertical-align: middle;\n",
       "    }\n",
       "\n",
       "    .dataframe tbody tr th {\n",
       "        vertical-align: top;\n",
       "    }\n",
       "\n",
       "    .dataframe thead th {\n",
       "        text-align: right;\n",
       "    }\n",
       "</style>\n",
       "<table border=\"1\" class=\"dataframe\">\n",
       "  <thead>\n",
       "    <tr style=\"text-align: right;\">\n",
       "      <th></th>\n",
       "      <th>NDCG</th>\n",
       "      <th>RBP</th>\n",
       "      <th>RecipRank</th>\n",
       "    </tr>\n",
       "    <tr>\n",
       "      <th>model</th>\n",
       "      <th></th>\n",
       "      <th></th>\n",
       "      <th></th>\n",
       "    </tr>\n",
       "  </thead>\n",
       "  <tbody>\n",
       "    <tr>\n",
       "      <th>ALS</th>\n",
       "      <td>0.054060</td>\n",
       "      <td>0.016962</td>\n",
       "      <td>0.055568</td>\n",
       "    </tr>\n",
       "    <tr>\n",
       "      <th>Bias</th>\n",
       "      <td>0.050986</td>\n",
       "      <td>0.012614</td>\n",
       "      <td>0.048764</td>\n",
       "    </tr>\n",
       "    <tr>\n",
       "      <th>IALS</th>\n",
       "      <td>0.230121</td>\n",
       "      <td>0.084689</td>\n",
       "      <td>0.212745</td>\n",
       "    </tr>\n",
       "    <tr>\n",
       "      <th>IIE</th>\n",
       "      <td>0.038865</td>\n",
       "      <td>0.003127</td>\n",
       "      <td>0.025148</td>\n",
       "    </tr>\n",
       "    <tr>\n",
       "      <th>III</th>\n",
       "      <td>0.191302</td>\n",
       "      <td>0.111977</td>\n",
       "      <td>0.250148</td>\n",
       "    </tr>\n",
       "    <tr>\n",
       "      <th>Pop</th>\n",
       "      <td>0.130655</td>\n",
       "      <td>0.058055</td>\n",
       "      <td>0.152306</td>\n",
       "    </tr>\n",
       "    <tr>\n",
       "      <th>UUE</th>\n",
       "      <td>0.031857</td>\n",
       "      <td>0.001005</td>\n",
       "      <td>0.016836</td>\n",
       "    </tr>\n",
       "  </tbody>\n",
       "</table>\n",
       "</div>"
      ],
      "text/plain": [
       "           NDCG       RBP  RecipRank\n",
       "model                               \n",
       "ALS    0.054060  0.016962   0.055568\n",
       "Bias   0.050986  0.012614   0.048764\n",
       "IALS   0.230121  0.084689   0.212745\n",
       "IIE    0.038865  0.003127   0.025148\n",
       "III    0.191302  0.111977   0.250148\n",
       "Pop    0.130655  0.058055   0.152306\n",
       "UUE    0.031857  0.001005   0.016836"
      ]
     },
     "execution_count": 17,
     "metadata": {},
     "output_type": "execute_result"
    }
   ],
   "source": [
    "rlsum = rec_results.list_summary('model')['mean'].unstack()\n",
    "rlsum"
   ]
  },
  {
   "cell_type": "code",
   "execution_count": 18,
   "id": "c9df0568",
   "metadata": {
    "execution": {
     "iopub.execute_input": "2024-12-19T23:26:07.013922Z",
     "iopub.status.busy": "2024-12-19T23:26:07.013678Z",
     "iopub.status.idle": "2024-12-19T23:26:07.020105Z",
     "shell.execute_reply": "2024-12-19T23:26:07.019719Z"
    },
    "papermill": {
     "duration": 0.013214,
     "end_time": "2024-12-19T23:26:07.020973",
     "exception": false,
     "start_time": "2024-12-19T23:26:07.007759",
     "status": "completed"
    },
    "tags": []
   },
   "outputs": [],
   "source": [
    "rlsum.to_json(f'eval-metrics.{dataset}.json', orient='index')"
   ]
  }
 ],
 "metadata": {
  "jupytext": {
   "formats": "ipynb,md",
   "notebook_metadata_filter": "split_at_heading"
  },
  "kernelspec": {
   "display_name": "Python 3 (ipykernel)",
   "language": "python",
   "name": "python3"
  },
  "language_info": {
   "codemirror_mode": {
    "name": "ipython",
    "version": 3
   },
   "file_extension": ".py",
   "mimetype": "text/x-python",
   "name": "python",
   "nbconvert_exporter": "python",
   "pygments_lexer": "ipython3",
   "version": "3.12.8"
  },
  "papermill": {
   "default_parameters": {},
   "duration": 31.753895,
   "end_time": "2024-12-19T23:26:08.243577",
   "environment_variables": {},
   "exception": null,
   "input_path": "eval-report.ipynb",
   "output_path": "eval-report.ml1m.ipynb",
   "parameters": {
    "dataset": "ml1m"
   },
   "start_time": "2024-12-19T23:25:36.489682",
   "version": "2.6.0"
  },
  "split_at_heading": true
 },
 "nbformat": 4,
 "nbformat_minor": 5
}