{
 "cells": [
  {
   "cell_type": "markdown",
   "id": "ce485e34",
   "metadata": {
    "papermill": {
     "duration": 0.005331,
     "end_time": "2024-12-07T20:56:54.898878",
     "exception": false,
     "start_time": "2024-12-07T20:56:54.893547",
     "status": "completed"
    },
    "tags": []
   },
   "source": [
    "# Evaluation Analysis for Recommender Output"
   ]
  },
  {
   "cell_type": "markdown",
   "id": "17c9a5e6",
   "metadata": {
    "papermill": {
     "duration": 0.004349,
     "end_time": "2024-12-07T20:56:54.908492",
     "exception": false,
     "start_time": "2024-12-07T20:56:54.904143",
     "status": "completed"
    },
    "tags": []
   },
   "source": [
    "In this section we will analyze and compare the generated recommendations and predictions from a predefined list of algorithms with the goal of assessing the performance of each algorithm with respect to a metric. In other words, we would rank the algorithms for each metric considered with respect to performance."
   ]
  },
  {
   "cell_type": "markdown",
   "id": "f14bb433",
   "metadata": {
    "papermill": {
     "duration": 0.004561,
     "end_time": "2024-12-07T20:56:54.917348",
     "exception": false,
     "start_time": "2024-12-07T20:56:54.912787",
     "status": "completed"
    },
    "tags": []
   },
   "source": [
    "# Setup"
   ]
  },
  {
   "cell_type": "markdown",
   "id": "2b8308de",
   "metadata": {
    "papermill": {
     "duration": 0.004256,
     "end_time": "2024-12-07T20:56:54.925850",
     "exception": false,
     "start_time": "2024-12-07T20:56:54.921594",
     "status": "completed"
    },
    "tags": []
   },
   "source": [
    "Below are the list of packages required to successfully run the analysis. They are divided into partitions to signify their specific task.<br>\n",
    "We need the pathlib package for working with files and folders"
   ]
  },
  {
   "cell_type": "code",
   "execution_count": 1,
   "id": "77d2e6e9",
   "metadata": {
    "execution": {
     "iopub.execute_input": "2024-12-07T20:56:54.935778Z",
     "iopub.status.busy": "2024-12-07T20:56:54.935563Z",
     "iopub.status.idle": "2024-12-07T20:56:54.940295Z",
     "shell.execute_reply": "2024-12-07T20:56:54.939925Z"
    },
    "papermill": {
     "duration": 0.010964,
     "end_time": "2024-12-07T20:56:54.941054",
     "exception": false,
     "start_time": "2024-12-07T20:56:54.930090",
     "status": "completed"
    },
    "tags": []
   },
   "outputs": [],
   "source": [
    "from pathlib import Path"
   ]
  },
  {
   "cell_type": "markdown",
   "id": "8607dbba",
   "metadata": {
    "papermill": {
     "duration": 0.004603,
     "end_time": "2024-12-07T20:56:54.950133",
     "exception": false,
     "start_time": "2024-12-07T20:56:54.945530",
     "status": "completed"
    },
    "tags": []
   },
   "source": [
    "We would use the pandas for analyzing and manipulating our data while seaborn and matplotlib are used for data visualization. statsmodels.graphics.gofplots and scipy.stats.shapiro are used for normality check. Scipy.stats.friedmanchisquare is a non-parametric test used to determine the statistical significance in metric results and the wilcoxon test is used for pairwise comparison of sample data."
   ]
  },
  {
   "cell_type": "code",
   "execution_count": 2,
   "id": "54c9b1a0",
   "metadata": {
    "execution": {
     "iopub.execute_input": "2024-12-07T20:56:54.959677Z",
     "iopub.status.busy": "2024-12-07T20:56:54.959466Z",
     "iopub.status.idle": "2024-12-07T20:57:04.611953Z",
     "shell.execute_reply": "2024-12-07T20:57:04.611498Z"
    },
    "papermill": {
     "duration": 9.658426,
     "end_time": "2024-12-07T20:57:04.612971",
     "exception": false,
     "start_time": "2024-12-07T20:56:54.954545",
     "status": "completed"
    },
    "tags": []
   },
   "outputs": [],
   "source": [
    "import pandas as pd\n",
    "import seaborn as sns\n",
    "import matplotlib.pyplot as plt\n",
    "from statsmodels.graphics.gofplots import qqplot\n",
    "from scipy.stats import shapiro\n",
    "from scipy.stats import friedmanchisquare, wilcoxon\n",
    "from itertools import combinations"
   ]
  },
  {
   "cell_type": "markdown",
   "id": "09d4299f",
   "metadata": {
    "papermill": {
     "duration": 0.004873,
     "end_time": "2024-12-07T20:57:04.623511",
     "exception": false,
     "start_time": "2024-12-07T20:57:04.618638",
     "status": "completed"
    },
    "tags": []
   },
   "source": [
    "Logging to show what's happening in LensKit routines:"
   ]
  },
  {
   "cell_type": "code",
   "execution_count": 3,
   "id": "fd84093f",
   "metadata": {
    "execution": {
     "iopub.execute_input": "2024-12-07T20:57:04.633265Z",
     "iopub.status.busy": "2024-12-07T20:57:04.632962Z",
     "iopub.status.idle": "2024-12-07T20:57:04.653267Z",
     "shell.execute_reply": "2024-12-07T20:57:04.652878Z"
    },
    "papermill": {
     "duration": 0.025967,
     "end_time": "2024-12-07T20:57:04.654009",
     "exception": false,
     "start_time": "2024-12-07T20:57:04.628042",
     "status": "completed"
    },
    "tags": []
   },
   "outputs": [
    {
     "name": "stdout",
     "output_type": "stream",
     "text": [
      "[   INFO] lenskit.util.log notebook logging configured\n"
     ]
    }
   ],
   "source": [
    "from lenskit import util\n",
    "util.log_to_notebook()"
   ]
  },
  {
   "cell_type": "code",
   "execution_count": 4,
   "id": "c7c3c1f0",
   "metadata": {
    "execution": {
     "iopub.execute_input": "2024-12-07T20:57:04.664288Z",
     "iopub.status.busy": "2024-12-07T20:57:04.664070Z",
     "iopub.status.idle": "2024-12-07T20:57:04.666400Z",
     "shell.execute_reply": "2024-12-07T20:57:04.666014Z"
    },
    "papermill": {
     "duration": 0.008278,
     "end_time": "2024-12-07T20:57:04.667095",
     "exception": false,
     "start_time": "2024-12-07T20:57:04.658817",
     "status": "completed"
    },
    "tags": []
   },
   "outputs": [],
   "source": [
    "import logging\n",
    "_log = logging.getLogger('eval-report')"
   ]
  },
  {
   "cell_type": "markdown",
   "id": "af5b4ebc",
   "metadata": {
    "papermill": {
     "duration": 0.004419,
     "end_time": "2024-12-07T20:57:04.675965",
     "exception": false,
     "start_time": "2024-12-07T20:57:04.671546",
     "status": "completed"
    },
    "tags": []
   },
   "source": [
    "We will use lenskit for training, running, and evaluating recommender algorithms"
   ]
  },
  {
   "cell_type": "code",
   "execution_count": 5,
   "id": "803d7eb5",
   "metadata": {
    "execution": {
     "iopub.execute_input": "2024-12-07T20:57:04.685285Z",
     "iopub.status.busy": "2024-12-07T20:57:04.685077Z",
     "iopub.status.idle": "2024-12-07T20:57:04.716838Z",
     "shell.execute_reply": "2024-12-07T20:57:04.716469Z"
    },
    "papermill": {
     "duration": 0.037343,
     "end_time": "2024-12-07T20:57:04.717649",
     "exception": false,
     "start_time": "2024-12-07T20:57:04.680306",
     "status": "completed"
    },
    "tags": []
   },
   "outputs": [],
   "source": [
    "from lenskit import topn\n",
    "from lenskit.metrics.predict import rmse"
   ]
  },
  {
   "cell_type": "markdown",
   "id": "62cde0fa",
   "metadata": {
    "papermill": {
     "duration": 0.004695,
     "end_time": "2024-12-07T20:57:04.727496",
     "exception": false,
     "start_time": "2024-12-07T20:57:04.722801",
     "status": "completed"
    },
    "tags": []
   },
   "source": [
    "# Load Data"
   ]
  },
  {
   "cell_type": "markdown",
   "id": "0b8bdd0f",
   "metadata": {
    "papermill": {
     "duration": 0.004283,
     "end_time": "2024-12-07T20:57:04.736801",
     "exception": false,
     "start_time": "2024-12-07T20:57:04.732518",
     "status": "completed"
    },
    "tags": []
   },
   "source": [
    "We specify the dataset we will use for our analysis and the main directory from where we read the recommendation and prediction files. From the main directory we find all the directories associated with the dataset and then read the recommendation and predictions files from those directories."
   ]
  },
  {
   "cell_type": "code",
   "execution_count": 6,
   "id": "66d37091",
   "metadata": {
    "execution": {
     "iopub.execute_input": "2024-12-07T20:57:04.746260Z",
     "iopub.status.busy": "2024-12-07T20:57:04.745841Z",
     "iopub.status.idle": "2024-12-07T20:57:04.748070Z",
     "shell.execute_reply": "2024-12-07T20:57:04.747701Z"
    },
    "papermill": {
     "duration": 0.007778,
     "end_time": "2024-12-07T20:57:04.748764",
     "exception": false,
     "start_time": "2024-12-07T20:57:04.740986",
     "status": "completed"
    },
    "tags": [
     "parameters"
    ]
   },
   "outputs": [],
   "source": [
    "dataset = \"ml100k\""
   ]
  },
  {
   "cell_type": "code",
   "execution_count": 7,
   "id": "236227c7",
   "metadata": {
    "execution": {
     "iopub.execute_input": "2024-12-07T20:57:04.758138Z",
     "iopub.status.busy": "2024-12-07T20:57:04.757930Z",
     "iopub.status.idle": "2024-12-07T20:57:04.760085Z",
     "shell.execute_reply": "2024-12-07T20:57:04.759707Z"
    },
    "papermill": {
     "duration": 0.007581,
     "end_time": "2024-12-07T20:57:04.760700",
     "exception": false,
     "start_time": "2024-12-07T20:57:04.753119",
     "status": "completed"
    },
    "tags": [
     "injected-parameters"
    ]
   },
   "outputs": [],
   "source": [
    "# Parameters\n",
    "dataset = \"ml1m\"\n"
   ]
  },
  {
   "cell_type": "code",
   "execution_count": 8,
   "id": "b7f9f66b",
   "metadata": {
    "execution": {
     "iopub.execute_input": "2024-12-07T20:57:04.769888Z",
     "iopub.status.busy": "2024-12-07T20:57:04.769642Z",
     "iopub.status.idle": "2024-12-07T20:57:04.771877Z",
     "shell.execute_reply": "2024-12-07T20:57:04.771492Z"
    },
    "papermill": {
     "duration": 0.007681,
     "end_time": "2024-12-07T20:57:04.772490",
     "exception": false,
     "start_time": "2024-12-07T20:57:04.764809",
     "status": "completed"
    },
    "tags": []
   },
   "outputs": [],
   "source": [
    "output_root = Path(\"runs\")"
   ]
  },
  {
   "cell_type": "code",
   "execution_count": 9,
   "id": "8688a4d0",
   "metadata": {
    "execution": {
     "iopub.execute_input": "2024-12-07T20:57:04.781935Z",
     "iopub.status.busy": "2024-12-07T20:57:04.781729Z",
     "iopub.status.idle": "2024-12-07T20:57:04.784678Z",
     "shell.execute_reply": "2024-12-07T20:57:04.784284Z"
    },
    "papermill": {
     "duration": 0.008546,
     "end_time": "2024-12-07T20:57:04.785360",
     "exception": false,
     "start_time": "2024-12-07T20:57:04.776814",
     "status": "completed"
    },
    "tags": []
   },
   "outputs": [],
   "source": [
    "dirs = [fld for fld in output_root.glob(f'{dataset}-*')]"
   ]
  },
  {
   "cell_type": "code",
   "execution_count": 10,
   "id": "56d609aa",
   "metadata": {
    "execution": {
     "iopub.execute_input": "2024-12-07T20:57:04.794970Z",
     "iopub.status.busy": "2024-12-07T20:57:04.794774Z",
     "iopub.status.idle": "2024-12-07T20:57:06.326153Z",
     "shell.execute_reply": "2024-12-07T20:57:06.325696Z"
    },
    "papermill": {
     "duration": 1.537043,
     "end_time": "2024-12-07T20:57:06.326954",
     "exception": false,
     "start_time": "2024-12-07T20:57:04.789911",
     "status": "completed"
    },
    "tags": []
   },
   "outputs": [
    {
     "name": "stdout",
     "output_type": "stream",
     "text": [
      "<class 'pandas.core.frame.DataFrame'>\n",
      "RangeIndex: 4228000 entries, 0 to 4227999\n",
      "Data columns (total 5 columns):\n",
      " #   Column     Dtype   \n",
      "---  ------     -----   \n",
      " 0   item       int64   \n",
      " 1   score      float64 \n",
      " 2   user       int64   \n",
      " 3   rank       int64   \n",
      " 4   algorithm  category\n",
      "dtypes: category(1), float64(1), int64(3)\n",
      "memory usage: 133.1 MB\n"
     ]
    }
   ],
   "source": [
    "recs = []\n",
    "for fld in dirs:\n",
    "    for file in fld.glob(\"recs-*\"):\n",
    "        rec = pd.read_csv(file)\n",
    "        rec[\"algorithm\"] = fld.name.split(\"-\")[1]\n",
    "        recs.append(rec)\n",
    "\n",
    "recs = pd.concat(recs, ignore_index=True)\n",
    "recs = recs.astype({'algorithm': 'category'})\n",
    "recs.info()"
   ]
  },
  {
   "cell_type": "code",
   "execution_count": 11,
   "id": "feaa4493",
   "metadata": {
    "execution": {
     "iopub.execute_input": "2024-12-07T20:57:06.339402Z",
     "iopub.status.busy": "2024-12-07T20:57:06.339170Z",
     "iopub.status.idle": "2024-12-07T20:57:06.357887Z",
     "shell.execute_reply": "2024-12-07T20:57:06.357494Z"
    },
    "papermill": {
     "duration": 0.025147,
     "end_time": "2024-12-07T20:57:06.358673",
     "exception": false,
     "start_time": "2024-12-07T20:57:06.333526",
     "status": "completed"
    },
    "tags": []
   },
   "outputs": [
    {
     "data": {
      "text/plain": [
       "['Bias', 'IIE', 'Pop', 'UUE', 'III', 'IALS', 'ALS']\n",
       "Categories (7, object): ['ALS', 'Bias', 'IALS', 'IIE', 'III', 'Pop', 'UUE']"
      ]
     },
     "execution_count": 11,
     "metadata": {},
     "output_type": "execute_result"
    }
   ],
   "source": [
    "rec_algos = recs['algorithm'].unique()\n",
    "rec_algos"
   ]
  },
  {
   "cell_type": "code",
   "execution_count": 12,
   "id": "b378a77c",
   "metadata": {
    "execution": {
     "iopub.execute_input": "2024-12-07T20:57:06.369162Z",
     "iopub.status.busy": "2024-12-07T20:57:06.368757Z",
     "iopub.status.idle": "2024-12-07T20:57:06.533541Z",
     "shell.execute_reply": "2024-12-07T20:57:06.533095Z"
    },
    "papermill": {
     "duration": 0.17107,
     "end_time": "2024-12-07T20:57:06.534406",
     "exception": false,
     "start_time": "2024-12-07T20:57:06.363336",
     "status": "completed"
    },
    "tags": []
   },
   "outputs": [
    {
     "name": "stdout",
     "output_type": "stream",
     "text": [
      "<class 'pandas.core.frame.DataFrame'>\n",
      "RangeIndex: 181200 entries, 0 to 181199\n",
      "Data columns (total 6 columns):\n",
      " #   Column      Non-Null Count   Dtype   \n",
      "---  ------      --------------   -----   \n",
      " 0   user        181200 non-null  int64   \n",
      " 1   item        181200 non-null  int64   \n",
      " 2   rating      181200 non-null  float64 \n",
      " 3   timestamp   181200 non-null  int64   \n",
      " 4   prediction  181154 non-null  float64 \n",
      " 5   algorithm   181200 non-null  category\n",
      "dtypes: category(1), float64(2), int64(3)\n",
      "memory usage: 7.1 MB\n"
     ]
    }
   ],
   "source": [
    "preds = []\n",
    "for fld in dirs:\n",
    "    for file in fld.glob(\"pred-*\"):\n",
    "        pred = pd.read_csv(file)\n",
    "        pred[\"algorithm\"] = fld.name.split(\"-\")[1]\n",
    "        preds.append(pred)\n",
    "\n",
    "preds = pd.concat(preds, ignore_index=True)\n",
    "preds = preds.astype({'algorithm': 'category'})\n",
    "preds.info()"
   ]
  },
  {
   "cell_type": "markdown",
   "id": "ca476ae1",
   "metadata": {
    "papermill": {
     "duration": 0.005022,
     "end_time": "2024-12-07T20:57:06.545138",
     "exception": false,
     "start_time": "2024-12-07T20:57:06.540116",
     "status": "completed"
    },
    "tags": []
   },
   "source": [
    "We need to load the test data so that we have the ground truths for computing accuracy"
   ]
  },
  {
   "cell_type": "code",
   "execution_count": 13,
   "id": "25294727",
   "metadata": {
    "execution": {
     "iopub.execute_input": "2024-12-07T20:57:06.555727Z",
     "iopub.status.busy": "2024-12-07T20:57:06.555485Z",
     "iopub.status.idle": "2024-12-07T20:57:06.557942Z",
     "shell.execute_reply": "2024-12-07T20:57:06.557561Z"
    },
    "papermill": {
     "duration": 0.00845,
     "end_time": "2024-12-07T20:57:06.558601",
     "exception": false,
     "start_time": "2024-12-07T20:57:06.550151",
     "status": "completed"
    },
    "tags": []
   },
   "outputs": [],
   "source": [
    "split_root = Path(\"data-split\")\n",
    "split_dir = split_root / dataset"
   ]
  },
  {
   "cell_type": "code",
   "execution_count": 14,
   "id": "88fc0d4e",
   "metadata": {
    "execution": {
     "iopub.execute_input": "2024-12-07T20:57:06.570467Z",
     "iopub.status.busy": "2024-12-07T20:57:06.570256Z",
     "iopub.status.idle": "2024-12-07T20:57:06.661372Z",
     "shell.execute_reply": "2024-12-07T20:57:06.660959Z"
    },
    "papermill": {
     "duration": 0.098943,
     "end_time": "2024-12-07T20:57:06.662210",
     "exception": false,
     "start_time": "2024-12-07T20:57:06.563267",
     "status": "completed"
    },
    "tags": []
   },
   "outputs": [
    {
     "data": {
      "text/html": [
       "<div>\n",
       "<style scoped>\n",
       "    .dataframe tbody tr th:only-of-type {\n",
       "        vertical-align: middle;\n",
       "    }\n",
       "\n",
       "    .dataframe tbody tr th {\n",
       "        vertical-align: top;\n",
       "    }\n",
       "\n",
       "    .dataframe thead th {\n",
       "        text-align: right;\n",
       "    }\n",
       "</style>\n",
       "<table border=\"1\" class=\"dataframe\">\n",
       "  <thead>\n",
       "    <tr style=\"text-align: right;\">\n",
       "      <th></th>\n",
       "      <th>user</th>\n",
       "      <th>item</th>\n",
       "      <th>rating</th>\n",
       "      <th>timestamp</th>\n",
       "      <th>part</th>\n",
       "    </tr>\n",
       "    <tr>\n",
       "      <th>index</th>\n",
       "      <th></th>\n",
       "      <th></th>\n",
       "      <th></th>\n",
       "      <th></th>\n",
       "      <th></th>\n",
       "    </tr>\n",
       "  </thead>\n",
       "  <tbody>\n",
       "    <tr>\n",
       "      <th>364</th>\n",
       "      <td>5</td>\n",
       "      <td>321</td>\n",
       "      <td>3.0</td>\n",
       "      <td>978245863</td>\n",
       "      <td>test-3</td>\n",
       "    </tr>\n",
       "    <tr>\n",
       "      <th>360</th>\n",
       "      <td>5</td>\n",
       "      <td>1719</td>\n",
       "      <td>3.0</td>\n",
       "      <td>978244205</td>\n",
       "      <td>test-3</td>\n",
       "    </tr>\n",
       "    <tr>\n",
       "      <th>319</th>\n",
       "      <td>5</td>\n",
       "      <td>1554</td>\n",
       "      <td>3.0</td>\n",
       "      <td>978244540</td>\n",
       "      <td>test-3</td>\n",
       "    </tr>\n",
       "    <tr>\n",
       "      <th>372</th>\n",
       "      <td>5</td>\n",
       "      <td>3105</td>\n",
       "      <td>2.0</td>\n",
       "      <td>978246576</td>\n",
       "      <td>test-3</td>\n",
       "    </tr>\n",
       "    <tr>\n",
       "      <th>386</th>\n",
       "      <td>5</td>\n",
       "      <td>2028</td>\n",
       "      <td>2.0</td>\n",
       "      <td>978244053</td>\n",
       "      <td>test-3</td>\n",
       "    </tr>\n",
       "  </tbody>\n",
       "</table>\n",
       "</div>"
      ],
      "text/plain": [
       "       user  item  rating  timestamp    part\n",
       "index                                       \n",
       "364       5   321     3.0  978245863  test-3\n",
       "360       5  1719     3.0  978244205  test-3\n",
       "319       5  1554     3.0  978244540  test-3\n",
       "372       5  3105     2.0  978246576  test-3\n",
       "386       5  2028     2.0  978244053  test-3"
      ]
     },
     "execution_count": 14,
     "metadata": {},
     "output_type": "execute_result"
    }
   ],
   "source": [
    "test = []\n",
    "for file in split_dir.glob(\"test-*.parquet\"):\n",
    "    test.append(pd.read_parquet(file,).assign(part=file.stem.replace('.parquet', '')))\n",
    "\n",
    "test = pd.concat(test).rename(columns={\n",
    "    'user_id': 'user',\n",
    "    'item_id': 'item',\n",
    "})\n",
    "test.head()"
   ]
  },
  {
   "cell_type": "markdown",
   "id": "5770c372",
   "metadata": {
    "papermill": {
     "duration": 0.005176,
     "end_time": "2024-12-07T20:57:06.673346",
     "exception": false,
     "start_time": "2024-12-07T20:57:06.668170",
     "status": "completed"
    },
    "tags": []
   },
   "source": [
    "# Top-N Metrics"
   ]
  },
  {
   "cell_type": "markdown",
   "id": "8e347325",
   "metadata": {
    "papermill": {
     "duration": 0.004889,
     "end_time": "2024-12-07T20:57:06.683195",
     "exception": false,
     "start_time": "2024-12-07T20:57:06.678306",
     "status": "completed"
    },
    "tags": []
   },
   "source": [
    "The topn.RecListAnalysis class computes top-N metrics for recommendation list and takes care of making sure that the recommendations and ground truths are properly matched. Refer to the documentation for detailed explanation of the purpose for the RecListAnalysis class and how the analysis is done - https://lkpy.lenskit.org/en/stable/evaluation/topn-metrics.html"
   ]
  },
  {
   "cell_type": "code",
   "execution_count": 15,
   "id": "198eda4d",
   "metadata": {
    "execution": {
     "iopub.execute_input": "2024-12-07T20:57:06.693902Z",
     "iopub.status.busy": "2024-12-07T20:57:06.693668Z",
     "iopub.status.idle": "2024-12-07T20:57:09.205914Z",
     "shell.execute_reply": "2024-12-07T20:57:09.205493Z"
    },
    "papermill": {
     "duration": 2.518668,
     "end_time": "2024-12-07T20:57:09.206719",
     "exception": false,
     "start_time": "2024-12-07T20:57:06.688051",
     "status": "completed"
    },
    "tags": []
   },
   "outputs": [
    {
     "name": "stdout",
     "output_type": "stream",
     "text": [
      "[   INFO] lenskit.topn analyzing 4228000 recommendations (30200 truth rows)\n"
     ]
    },
    {
     "name": "stdout",
     "output_type": "stream",
     "text": [
      "[   INFO] lenskit.topn using rec key columns ['algorithm', 'user']\n"
     ]
    },
    {
     "name": "stdout",
     "output_type": "stream",
     "text": [
      "[   INFO] lenskit.topn using truth key columns ['user']\n"
     ]
    },
    {
     "name": "stdout",
     "output_type": "stream",
     "text": [
      "[   INFO] lenskit.topn numbering truth lists\n"
     ]
    },
    {
     "name": "stdout",
     "output_type": "stream",
     "text": [
      "[   INFO] lenskit.topn numbering rec lists\n"
     ]
    },
    {
     "name": "stdout",
     "output_type": "stream",
     "text": [
      "[   INFO] lenskit.topn collecting metric results\n"
     ]
    },
    {
     "name": "stdout",
     "output_type": "stream",
     "text": [
      "[   INFO] lenskit.topn measured 42280 lists in 1.84s\n"
     ]
    },
    {
     "name": "stdout",
     "output_type": "stream",
     "text": [
      "[   INFO] lenskit.topn filling in missing user info (42280 initial rows)\n"
     ]
    },
    {
     "name": "stderr",
     "output_type": "stream",
     "text": [
      "/home/mde48/micromamba/envs/lkdemo/lib/python3.10/site-packages/lenskit/topn.py:152: FutureWarning: In a future version of pandas, a length 1 tuple will be returned when iterating over a groupby with a grouper equal to a list of length 1. Don't supply a list with a single grouper to avoid this warning.\n",
      "  for key, df in res.groupby(ug_cols):\n"
     ]
    },
    {
     "data": {
      "text/html": [
       "<div>\n",
       "<style scoped>\n",
       "    .dataframe tbody tr th:only-of-type {\n",
       "        vertical-align: middle;\n",
       "    }\n",
       "\n",
       "    .dataframe tbody tr th {\n",
       "        vertical-align: top;\n",
       "    }\n",
       "\n",
       "    .dataframe thead th {\n",
       "        text-align: right;\n",
       "    }\n",
       "</style>\n",
       "<table border=\"1\" class=\"dataframe\">\n",
       "  <thead>\n",
       "    <tr style=\"text-align: right;\">\n",
       "      <th></th>\n",
       "      <th></th>\n",
       "      <th>nrecs</th>\n",
       "      <th>precision</th>\n",
       "      <th>recip_rank</th>\n",
       "      <th>ndcg</th>\n",
       "      <th>ntruth</th>\n",
       "    </tr>\n",
       "    <tr>\n",
       "      <th>algorithm</th>\n",
       "      <th>user</th>\n",
       "      <th></th>\n",
       "      <th></th>\n",
       "      <th></th>\n",
       "      <th></th>\n",
       "      <th></th>\n",
       "    </tr>\n",
       "  </thead>\n",
       "  <tbody>\n",
       "    <tr>\n",
       "      <th rowspan=\"5\" valign=\"top\">ALS</th>\n",
       "      <th>3</th>\n",
       "      <td>100</td>\n",
       "      <td>0.00</td>\n",
       "      <td>0.000000</td>\n",
       "      <td>0.000000</td>\n",
       "      <td>5</td>\n",
       "    </tr>\n",
       "    <tr>\n",
       "      <th>4</th>\n",
       "      <td>100</td>\n",
       "      <td>0.00</td>\n",
       "      <td>0.000000</td>\n",
       "      <td>0.000000</td>\n",
       "      <td>5</td>\n",
       "    </tr>\n",
       "    <tr>\n",
       "      <th>7</th>\n",
       "      <td>100</td>\n",
       "      <td>0.01</td>\n",
       "      <td>0.018868</td>\n",
       "      <td>0.049018</td>\n",
       "      <td>5</td>\n",
       "    </tr>\n",
       "    <tr>\n",
       "      <th>9</th>\n",
       "      <td>100</td>\n",
       "      <td>0.01</td>\n",
       "      <td>0.029412</td>\n",
       "      <td>0.055189</td>\n",
       "      <td>5</td>\n",
       "    </tr>\n",
       "    <tr>\n",
       "      <th>11</th>\n",
       "      <td>100</td>\n",
       "      <td>0.01</td>\n",
       "      <td>0.014706</td>\n",
       "      <td>0.046123</td>\n",
       "      <td>5</td>\n",
       "    </tr>\n",
       "  </tbody>\n",
       "</table>\n",
       "</div>"
      ],
      "text/plain": [
       "                nrecs  precision  recip_rank      ndcg  ntruth\n",
       "algorithm user                                                \n",
       "ALS       3       100       0.00    0.000000  0.000000       5\n",
       "          4       100       0.00    0.000000  0.000000       5\n",
       "          7       100       0.01    0.018868  0.049018       5\n",
       "          9       100       0.01    0.029412  0.055189       5\n",
       "          11      100       0.01    0.014706  0.046123       5"
      ]
     },
     "execution_count": 15,
     "metadata": {},
     "output_type": "execute_result"
    }
   ],
   "source": [
    "rla = topn.RecListAnalysis()\n",
    "\n",
    "rla.add_metric(topn.precision)\n",
    "rla.add_metric(topn.recip_rank)\n",
    "rla.add_metric(topn.ndcg)\n",
    "results = rla.compute(recs, test.drop(columns=['rating']), include_missing=True)\n",
    "results = results.fillna(0)\n",
    "results.head()"
   ]
  },
  {
   "cell_type": "markdown",
   "id": "75dbe033",
   "metadata": {
    "papermill": {
     "duration": 0.005611,
     "end_time": "2024-12-07T20:57:09.219330",
     "exception": false,
     "start_time": "2024-12-07T20:57:09.213719",
     "status": "completed"
    },
    "tags": []
   },
   "source": [
    "We will reshape the 'results' dataframe by stacking the columns to index and then use the bar chart to visualize the performance of our algorithms with respect to the precision, reciprocal rank and ndcg metrics"
   ]
  },
  {
   "cell_type": "code",
   "execution_count": 16,
   "id": "4c7ffaf7",
   "metadata": {
    "execution": {
     "iopub.execute_input": "2024-12-07T20:57:09.231266Z",
     "iopub.status.busy": "2024-12-07T20:57:09.231027Z",
     "iopub.status.idle": "2024-12-07T20:57:09.246156Z",
     "shell.execute_reply": "2024-12-07T20:57:09.245773Z"
    },
    "papermill": {
     "duration": 0.022042,
     "end_time": "2024-12-07T20:57:09.246853",
     "exception": false,
     "start_time": "2024-12-07T20:57:09.224811",
     "status": "completed"
    },
    "tags": []
   },
   "outputs": [
    {
     "data": {
      "text/html": [
       "<div>\n",
       "<style scoped>\n",
       "    .dataframe tbody tr th:only-of-type {\n",
       "        vertical-align: middle;\n",
       "    }\n",
       "\n",
       "    .dataframe tbody tr th {\n",
       "        vertical-align: top;\n",
       "    }\n",
       "\n",
       "    .dataframe thead th {\n",
       "        text-align: right;\n",
       "    }\n",
       "</style>\n",
       "<table border=\"1\" class=\"dataframe\">\n",
       "  <thead>\n",
       "    <tr style=\"text-align: right;\">\n",
       "      <th></th>\n",
       "      <th>algorithm</th>\n",
       "      <th>user</th>\n",
       "      <th>metric</th>\n",
       "      <th>val</th>\n",
       "    </tr>\n",
       "  </thead>\n",
       "  <tbody>\n",
       "    <tr>\n",
       "      <th>0</th>\n",
       "      <td>ALS</td>\n",
       "      <td>3</td>\n",
       "      <td>precision</td>\n",
       "      <td>0.0</td>\n",
       "    </tr>\n",
       "    <tr>\n",
       "      <th>1</th>\n",
       "      <td>ALS</td>\n",
       "      <td>3</td>\n",
       "      <td>recip_rank</td>\n",
       "      <td>0.0</td>\n",
       "    </tr>\n",
       "    <tr>\n",
       "      <th>2</th>\n",
       "      <td>ALS</td>\n",
       "      <td>3</td>\n",
       "      <td>ndcg</td>\n",
       "      <td>0.0</td>\n",
       "    </tr>\n",
       "    <tr>\n",
       "      <th>3</th>\n",
       "      <td>ALS</td>\n",
       "      <td>4</td>\n",
       "      <td>precision</td>\n",
       "      <td>0.0</td>\n",
       "    </tr>\n",
       "    <tr>\n",
       "      <th>4</th>\n",
       "      <td>ALS</td>\n",
       "      <td>4</td>\n",
       "      <td>recip_rank</td>\n",
       "      <td>0.0</td>\n",
       "    </tr>\n",
       "  </tbody>\n",
       "</table>\n",
       "</div>"
      ],
      "text/plain": [
       "  algorithm  user      metric  val\n",
       "0       ALS     3   precision  0.0\n",
       "1       ALS     3  recip_rank  0.0\n",
       "2       ALS     3        ndcg  0.0\n",
       "3       ALS     4   precision  0.0\n",
       "4       ALS     4  recip_rank  0.0"
      ]
     },
     "execution_count": 16,
     "metadata": {},
     "output_type": "execute_result"
    }
   ],
   "source": [
    "pltData = (results.drop(columns=['nrecs', 'ntruth']).stack()).reset_index()\n",
    "pltData.columns = ['algorithm', 'user', 'metric', 'val']\n",
    "pltData.head()"
   ]
  },
  {
   "cell_type": "markdown",
   "id": "66c6e8ba",
   "metadata": {
    "papermill": {
     "duration": 0.005416,
     "end_time": "2024-12-07T20:57:09.257877",
     "exception": false,
     "start_time": "2024-12-07T20:57:09.252461",
     "status": "completed"
    },
    "tags": []
   },
   "source": [
    "We need to determine if the differences we observe in the performances of the algorithms for the various metrics are statistically significant. To achieve this, we will need to use either a parametric or non-parametric statistical test for comparing the differences. We will consider a parametric test - repeated ANOVA measure cause our sample groups are correlated."
   ]
  },
  {
   "cell_type": "code",
   "execution_count": 17,
   "id": "bd651349",
   "metadata": {
    "execution": {
     "iopub.execute_input": "2024-12-07T20:57:09.269799Z",
     "iopub.status.busy": "2024-12-07T20:57:09.269574Z",
     "iopub.status.idle": "2024-12-07T20:57:11.423044Z",
     "shell.execute_reply": "2024-12-07T20:57:11.422613Z"
    },
    "papermill": {
     "duration": 2.160256,
     "end_time": "2024-12-07T20:57:11.423853",
     "exception": false,
     "start_time": "2024-12-07T20:57:09.263597",
     "status": "completed"
    },
    "tags": []
   },
   "outputs": [
    {
     "data": {
      "image/png": "[encoded data removed]",
      "text/plain": [
       "<Figure size 1091.11x300 with 3 Axes>"
      ]
     },
     "metadata": {},
     "output_type": "display_data"
    }
   ],
   "source": [
    "g = sns.catplot(x = \"algorithm\", y = \"val\", data = pltData, kind=\"bar\", col = \"metric\", aspect=1.2, height=3, sharey=False)"
   ]
  },
  {
   "cell_type": "markdown",
   "id": "9e32b381",
   "metadata": {
    "papermill": {
     "duration": 0.006328,
     "end_time": "2024-12-07T20:57:11.437646",
     "exception": false,
     "start_time": "2024-12-07T20:57:11.431318",
     "status": "completed"
    },
    "tags": []
   },
   "source": [
    "## Prediction RMSE\n",
    "\n",
    "We will also look at the prediction RMSE."
   ]
  },
  {
   "cell_type": "code",
   "execution_count": 18,
   "id": "fb282b1c",
   "metadata": {
    "execution": {
     "iopub.execute_input": "2024-12-07T20:57:11.450393Z",
     "iopub.status.busy": "2024-12-07T20:57:11.450158Z",
     "iopub.status.idle": "2024-12-07T20:57:25.574447Z",
     "shell.execute_reply": "2024-12-07T20:57:25.573808Z"
    },
    "papermill": {
     "duration": 14.132042,
     "end_time": "2024-12-07T20:57:25.575465",
     "exception": false,
     "start_time": "2024-12-07T20:57:11.443423",
     "status": "completed"
    },
    "tags": []
   },
   "outputs": [],
   "source": [
    "preds = preds.rename(columns={'score': 'prediction'})\n",
    "user_rmse = preds.groupby(['algorithm', 'user']).apply(lambda df: rmse(df['prediction'], df['rating']))\n",
    "user_rmse = user_rmse.reset_index(name='RMSE')"
   ]
  },
  {
   "cell_type": "code",
   "execution_count": 19,
   "id": "73116a6d",
   "metadata": {
    "execution": {
     "iopub.execute_input": "2024-12-07T20:57:25.590676Z",
     "iopub.status.busy": "2024-12-07T20:57:25.590400Z",
     "iopub.status.idle": "2024-12-07T20:57:26.095624Z",
     "shell.execute_reply": "2024-12-07T20:57:26.095208Z"
    },
    "papermill": {
     "duration": 0.512965,
     "end_time": "2024-12-07T20:57:26.096379",
     "exception": false,
     "start_time": "2024-12-07T20:57:25.583414",
     "status": "completed"
    },
    "tags": []
   },
   "outputs": [
    {
     "data": {
      "text/plain": [
       "<seaborn.axisgrid.FacetGrid at 0x1554f5cb80d0>"
      ]
     },
     "execution_count": 19,
     "metadata": {},
     "output_type": "execute_result"
    },
    {
     "data": {
      "image/png": "[encoded data removed]",
      "text/plain": [
       "<Figure size 511.111x500 with 1 Axes>"
      ]
     },
     "metadata": {},
     "output_type": "display_data"
    }
   ],
   "source": [
    "sns.catplot(x='algorithm', y='RMSE', data=user_rmse, kind='bar')"
   ]
  },
  {
   "cell_type": "markdown",
   "id": "ffbd7ba0",
   "metadata": {
    "papermill": {
     "duration": 0.006196,
     "end_time": "2024-12-07T20:57:26.109691",
     "exception": false,
     "start_time": "2024-12-07T20:57:26.103495",
     "status": "completed"
    },
    "tags": []
   },
   "source": [
    "## Save Metrics\n",
    "\n",
    "We'll now save the top-N recommendation metrics."
   ]
  },
  {
   "cell_type": "code",
   "execution_count": 20,
   "id": "1b776675",
   "metadata": {
    "execution": {
     "iopub.execute_input": "2024-12-07T20:57:26.123099Z",
     "iopub.status.busy": "2024-12-07T20:57:26.122847Z",
     "iopub.status.idle": "2024-12-07T20:57:26.133048Z",
     "shell.execute_reply": "2024-12-07T20:57:26.132671Z"
    },
    "papermill": {
     "duration": 0.017916,
     "end_time": "2024-12-07T20:57:26.133739",
     "exception": false,
     "start_time": "2024-12-07T20:57:26.115823",
     "status": "completed"
    },
    "tags": []
   },
   "outputs": [
    {
     "data": {
      "text/html": [
       "<div>\n",
       "<style scoped>\n",
       "    .dataframe tbody tr th:only-of-type {\n",
       "        vertical-align: middle;\n",
       "    }\n",
       "\n",
       "    .dataframe tbody tr th {\n",
       "        vertical-align: top;\n",
       "    }\n",
       "\n",
       "    .dataframe thead th {\n",
       "        text-align: right;\n",
       "    }\n",
       "</style>\n",
       "<table border=\"1\" class=\"dataframe\">\n",
       "  <thead>\n",
       "    <tr style=\"text-align: right;\">\n",
       "      <th></th>\n",
       "      <th>RecipRank</th>\n",
       "      <th>NDCG</th>\n",
       "    </tr>\n",
       "    <tr>\n",
       "      <th>algorithm</th>\n",
       "      <th></th>\n",
       "      <th></th>\n",
       "    </tr>\n",
       "  </thead>\n",
       "  <tbody>\n",
       "    <tr>\n",
       "      <th>ALS</th>\n",
       "      <td>0.053269</td>\n",
       "      <td>0.053823</td>\n",
       "    </tr>\n",
       "    <tr>\n",
       "      <th>Bias</th>\n",
       "      <td>0.043377</td>\n",
       "      <td>0.050045</td>\n",
       "    </tr>\n",
       "    <tr>\n",
       "      <th>IALS</th>\n",
       "      <td>0.213257</td>\n",
       "      <td>0.231143</td>\n",
       "    </tr>\n",
       "    <tr>\n",
       "      <th>IIE</th>\n",
       "      <td>0.025549</td>\n",
       "      <td>0.038885</td>\n",
       "    </tr>\n",
       "    <tr>\n",
       "      <th>III</th>\n",
       "      <td>0.255053</td>\n",
       "      <td>0.192291</td>\n",
       "    </tr>\n",
       "    <tr>\n",
       "      <th>Pop</th>\n",
       "      <td>0.152608</td>\n",
       "      <td>0.130418</td>\n",
       "    </tr>\n",
       "    <tr>\n",
       "      <th>UUE</th>\n",
       "      <td>0.016278</td>\n",
       "      <td>0.031407</td>\n",
       "    </tr>\n",
       "  </tbody>\n",
       "</table>\n",
       "</div>"
      ],
      "text/plain": [
       "           RecipRank      NDCG\n",
       "algorithm                     \n",
       "ALS         0.053269  0.053823\n",
       "Bias        0.043377  0.050045\n",
       "IALS        0.213257  0.231143\n",
       "IIE         0.025549  0.038885\n",
       "III         0.255053  0.192291\n",
       "Pop         0.152608  0.130418\n",
       "UUE         0.016278  0.031407"
      ]
     },
     "execution_count": 20,
     "metadata": {},
     "output_type": "execute_result"
    }
   ],
   "source": [
    "saved = results[['recip_rank', 'ndcg']].rename(columns={'ndcg': 'NDCG', 'recip_rank': 'RecipRank'})\n",
    "saved = saved.groupby('algorithm').agg('mean')\n",
    "saved"
   ]
  },
  {
   "cell_type": "code",
   "execution_count": 21,
   "id": "c4083a95",
   "metadata": {
    "execution": {
     "iopub.execute_input": "2024-12-07T20:57:26.147128Z",
     "iopub.status.busy": "2024-12-07T20:57:26.146897Z",
     "iopub.status.idle": "2024-12-07T20:57:26.151492Z",
     "shell.execute_reply": "2024-12-07T20:57:26.151106Z"
    },
    "papermill": {
     "duration": 0.012185,
     "end_time": "2024-12-07T20:57:26.152259",
     "exception": false,
     "start_time": "2024-12-07T20:57:26.140074",
     "status": "completed"
    },
    "tags": []
   },
   "outputs": [],
   "source": [
    "saved.to_json(f'eval-metrics.{dataset}.json', orient='index')"
   ]
  }
 ],
 "metadata": {
  "jupytext": {
   "formats": "ipynb,md",
   "notebook_metadata_filter": "split_at_heading"
  },
  "kernelspec": {
   "display_name": "Python 3 (ipykernel)",
   "language": "python",
   "name": "python3"
  },
  "language_info": {
   "codemirror_mode": {
    "name": "ipython",
    "version": 3
   },
   "file_extension": ".py",
   "mimetype": "text/x-python",
   "name": "python",
   "nbconvert_exporter": "python",
   "pygments_lexer": "ipython3",
   "version": "3.10.16"
  },
  "papermill": {
   "default_parameters": {},
   "duration": 35.897875,
   "end_time": "2024-12-07T20:57:26.574634",
   "environment_variables": {},
   "exception": null,
   "input_path": "eval-report.ipynb",
   "output_path": "eval-report.ml1m.ipynb",
   "parameters": {
    "dataset": "ml1m"
   },
   "start_time": "2024-12-07T20:56:50.676759",
   "version": "2.6.0"
  },
  "split_at_heading": true
 },
 "nbformat": 4,
 "nbformat_minor": 5
}