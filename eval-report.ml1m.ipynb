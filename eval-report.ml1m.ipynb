{
 "cells": [
  {
   "cell_type": "markdown",
   "id": "6fe6319c",
   "metadata": {
    "papermill": {
     "duration": 0.024004,
     "end_time": "2022-02-15T23:43:30.410242",
     "exception": false,
     "start_time": "2022-02-15T23:43:30.386238",
     "status": "completed"
    },
    "tags": []
   },
   "source": [
    "# Evaluation Analysis for Recommender Output"
   ]
  },
  {
   "cell_type": "markdown",
   "id": "3ce068b3",
   "metadata": {
    "papermill": {
     "duration": 0.023004,
     "end_time": "2022-02-15T23:43:30.459279",
     "exception": false,
     "start_time": "2022-02-15T23:43:30.436275",
     "status": "completed"
    },
    "tags": []
   },
   "source": [
    "In this section we will analyze and compare the generated recommendations and predictions from a predefined list of algorithms with the goal of assessing the performance of each algorithm with respect to a metric. In other words, we would rank the algorithms for each metric considered with respect to performance."
   ]
  },
  {
   "cell_type": "markdown",
   "id": "65cd6d2c",
   "metadata": {
    "papermill": {
     "duration": 0.023,
     "end_time": "2022-02-15T23:43:30.506269",
     "exception": false,
     "start_time": "2022-02-15T23:43:30.483269",
     "status": "completed"
    },
    "tags": []
   },
   "source": [
    "# Setup"
   ]
  },
  {
   "cell_type": "markdown",
   "id": "adf23531",
   "metadata": {
    "papermill": {
     "duration": 0.022,
     "end_time": "2022-02-15T23:43:30.551268",
     "exception": false,
     "start_time": "2022-02-15T23:43:30.529268",
     "status": "completed"
    },
    "tags": []
   },
   "source": [
    "Below are the list of packages required to successfully run the analysis. They are divided into partitions to signify their specific task.<br>\n",
    "We need the pathlib package for working with files and folders"
   ]
  },
  {
   "cell_type": "code",
   "execution_count": 1,
   "id": "395268a3",
   "metadata": {
    "execution": {
     "iopub.execute_input": "2022-02-15T23:43:30.599485Z",
     "iopub.status.busy": "2022-02-15T23:43:30.599485Z",
     "iopub.status.idle": "2022-02-15T23:43:30.621495Z",
     "shell.execute_reply": "2022-02-15T23:43:30.620651Z"
    },
    "papermill": {
     "duration": 0.047049,
     "end_time": "2022-02-15T23:43:30.622495",
     "exception": false,
     "start_time": "2022-02-15T23:43:30.575446",
     "status": "completed"
    },
    "tags": []
   },
   "outputs": [],
   "source": [
    "from pathlib import Path"
   ]
  },
  {
   "cell_type": "markdown",
   "id": "8630abe5",
   "metadata": {
    "papermill": {
     "duration": 0.023971,
     "end_time": "2022-02-15T23:43:30.669493",
     "exception": false,
     "start_time": "2022-02-15T23:43:30.645522",
     "status": "completed"
    },
    "tags": []
   },
   "source": [
    "We would use the pandas for analyzing and manipulating our data while seaborn and matplotlib are used for data visualization. statsmodels.graphics.gofplots and scipy.stats.shapiro are used for normality check. Scipy.stats.friedmanchisquare is a non-parametric test used to determine the statistical significance in metric results and the wilcoxon test is used for pairwise comparison of sample data."
   ]
  },
  {
   "cell_type": "code",
   "execution_count": 2,
   "id": "b59dfe04",
   "metadata": {
    "execution": {
     "iopub.execute_input": "2022-02-15T23:43:30.716526Z",
     "iopub.status.busy": "2022-02-15T23:43:30.715492Z",
     "iopub.status.idle": "2022-02-15T23:43:32.150307Z",
     "shell.execute_reply": "2022-02-15T23:43:32.150307Z"
    },
    "papermill": {
     "duration": 1.460785,
     "end_time": "2022-02-15T23:43:32.152308",
     "exception": false,
     "start_time": "2022-02-15T23:43:30.691523",
     "status": "completed"
    },
    "tags": []
   },
   "outputs": [],
   "source": [
    "import pandas as pd\n",
    "import seaborn as sns\n",
    "import matplotlib.pyplot as plt\n",
    "from statsmodels.graphics.gofplots import qqplot\n",
    "from scipy.stats import shapiro\n",
    "from scipy.stats import friedmanchisquare, wilcoxon\n",
    "from itertools import combinations"
   ]
  },
  {
   "cell_type": "markdown",
   "id": "a07eb1af",
   "metadata": {
    "papermill": {
     "duration": 0.025034,
     "end_time": "2022-02-15T23:43:32.202342",
     "exception": false,
     "start_time": "2022-02-15T23:43:32.177308",
     "status": "completed"
    },
    "tags": []
   },
   "source": [
    "Logging to show what's happening in LensKit routines:"
   ]
  },
  {
   "cell_type": "code",
   "execution_count": 3,
   "id": "4d471acc",
   "metadata": {
    "execution": {
     "iopub.execute_input": "2022-02-15T23:43:32.250346Z",
     "iopub.status.busy": "2022-02-15T23:43:32.250346Z",
     "iopub.status.idle": "2022-02-15T23:43:32.293551Z",
     "shell.execute_reply": "2022-02-15T23:43:32.293551Z"
    },
    "papermill": {
     "duration": 0.06914,
     "end_time": "2022-02-15T23:43:32.295516",
     "exception": false,
     "start_time": "2022-02-15T23:43:32.226376",
     "status": "completed"
    },
    "tags": []
   },
   "outputs": [
    {
     "name": "stdout",
     "output_type": "stream",
     "text": [
      "[   INFO] lenskit.util.log notebook logging configured\n"
     ]
    }
   ],
   "source": [
    "from lenskit import util\n",
    "util.log_to_notebook()"
   ]
  },
  {
   "cell_type": "markdown",
   "id": "971b825b",
   "metadata": {
    "papermill": {
     "duration": 0.023641,
     "end_time": "2022-02-15T23:43:32.343156",
     "exception": false,
     "start_time": "2022-02-15T23:43:32.319515",
     "status": "completed"
    },
    "tags": []
   },
   "source": [
    "We will use lenskit for training, running, and evaluating recommender algorithms"
   ]
  },
  {
   "cell_type": "code",
   "execution_count": 4,
   "id": "9f99a908",
   "metadata": {
    "execution": {
     "iopub.execute_input": "2022-02-15T23:43:32.390155Z",
     "iopub.status.busy": "2022-02-15T23:43:32.390155Z",
     "iopub.status.idle": "2022-02-15T23:43:32.404155Z",
     "shell.execute_reply": "2022-02-15T23:43:32.404155Z"
    },
    "papermill": {
     "duration": 0.039998,
     "end_time": "2022-02-15T23:43:32.406154",
     "exception": false,
     "start_time": "2022-02-15T23:43:32.366156",
     "status": "completed"
    },
    "tags": []
   },
   "outputs": [],
   "source": [
    "from lenskit import topn\n",
    "from lenskit.metrics.predict import rmse"
   ]
  },
  {
   "cell_type": "markdown",
   "id": "f706e83e",
   "metadata": {
    "papermill": {
     "duration": 0.024115,
     "end_time": "2022-02-15T23:43:32.452864",
     "exception": false,
     "start_time": "2022-02-15T23:43:32.428749",
     "status": "completed"
    },
    "tags": []
   },
   "source": [
    "# Load Data"
   ]
  },
  {
   "cell_type": "markdown",
   "id": "48b00e48",
   "metadata": {
    "papermill": {
     "duration": 0.023968,
     "end_time": "2022-02-15T23:43:32.499863",
     "exception": false,
     "start_time": "2022-02-15T23:43:32.475895",
     "status": "completed"
    },
    "tags": []
   },
   "source": [
    "We specify the dataset we will use for our analysis and the main directory from where we read the recommendation and prediction files. From the main directory we find all the directories associated with the dataset and then read the recommendation and predictions files from those directories."
   ]
  },
  {
   "cell_type": "code",
   "execution_count": 5,
   "id": "bb26ef48",
   "metadata": {
    "execution": {
     "iopub.execute_input": "2022-02-15T23:43:32.549510Z",
     "iopub.status.busy": "2022-02-15T23:43:32.548484Z",
     "iopub.status.idle": "2022-02-15T23:43:32.560472Z",
     "shell.execute_reply": "2022-02-15T23:43:32.559532Z"
    },
    "papermill": {
     "duration": 0.03764,
     "end_time": "2022-02-15T23:43:32.561502",
     "exception": false,
     "start_time": "2022-02-15T23:43:32.523862",
     "status": "completed"
    },
    "tags": [
     "parameters"
    ]
   },
   "outputs": [],
   "source": [
    "dataset = \"ml10m\""
   ]
  },
  {
   "cell_type": "code",
   "execution_count": 6,
   "id": "60e57082",
   "metadata": {
    "execution": {
     "iopub.execute_input": "2022-02-15T23:43:32.610510Z",
     "iopub.status.busy": "2022-02-15T23:43:32.610510Z",
     "iopub.status.idle": "2022-02-15T23:43:32.623472Z",
     "shell.execute_reply": "2022-02-15T23:43:32.622624Z"
    },
    "papermill": {
     "duration": 0.038578,
     "end_time": "2022-02-15T23:43:32.624050",
     "exception": false,
     "start_time": "2022-02-15T23:43:32.585472",
     "status": "completed"
    },
    "tags": [
     "injected-parameters"
    ]
   },
   "outputs": [],
   "source": [
    "# Parameters\n",
    "dataset = \"ml1m\"\n"
   ]
  },
  {
   "cell_type": "code",
   "execution_count": 7,
   "id": "1055196d",
   "metadata": {
    "execution": {
     "iopub.execute_input": "2022-02-15T23:43:32.672013Z",
     "iopub.status.busy": "2022-02-15T23:43:32.672013Z",
     "iopub.status.idle": "2022-02-15T23:43:32.686985Z",
     "shell.execute_reply": "2022-02-15T23:43:32.686136Z"
    },
    "papermill": {
     "duration": 0.039968,
     "end_time": "2022-02-15T23:43:32.687984",
     "exception": false,
     "start_time": "2022-02-15T23:43:32.648016",
     "status": "completed"
    },
    "tags": []
   },
   "outputs": [],
   "source": [
    "output_root = Path(\"runs\")"
   ]
  },
  {
   "cell_type": "code",
   "execution_count": 8,
   "id": "021297d4",
   "metadata": {
    "execution": {
     "iopub.execute_input": "2022-02-15T23:43:32.736983Z",
     "iopub.status.busy": "2022-02-15T23:43:32.736983Z",
     "iopub.status.idle": "2022-02-15T23:43:32.749780Z",
     "shell.execute_reply": "2022-02-15T23:43:32.749262Z"
    },
    "papermill": {
     "duration": 0.039759,
     "end_time": "2022-02-15T23:43:32.751777",
     "exception": false,
     "start_time": "2022-02-15T23:43:32.712018",
     "status": "completed"
    },
    "tags": []
   },
   "outputs": [],
   "source": [
    "dirs = [fld for fld in output_root.glob(f'{dataset}-*')]"
   ]
  },
  {
   "cell_type": "code",
   "execution_count": 9,
   "id": "a487809b",
   "metadata": {
    "execution": {
     "iopub.execute_input": "2022-02-15T23:43:32.800813Z",
     "iopub.status.busy": "2022-02-15T23:43:32.799776Z",
     "iopub.status.idle": "2022-02-15T23:43:34.753679Z",
     "shell.execute_reply": "2022-02-15T23:43:34.753679Z"
    },
    "papermill": {
     "duration": 1.980902,
     "end_time": "2022-02-15T23:43:34.755679",
     "exception": false,
     "start_time": "2022-02-15T23:43:32.774777",
     "status": "completed"
    },
    "tags": []
   },
   "outputs": [
    {
     "name": "stdout",
     "output_type": "stream",
     "text": [
      "<class 'pandas.core.frame.DataFrame'>\n",
      "RangeIndex: 3624000 entries, 0 to 3623999\n",
      "Data columns (total 5 columns):\n",
      " #   Column     Dtype   \n",
      "---  ------     -----   \n",
      " 0   item       int64   \n",
      " 1   score      float64 \n",
      " 2   user       int64   \n",
      " 3   rank       int64   \n",
      " 4   algorithm  category\n",
      "dtypes: category(1), float64(1), int64(3)\n",
      "memory usage: 114.1 MB\n"
     ]
    }
   ],
   "source": [
    "recs = []\n",
    "for fld in dirs: \n",
    "    for file in fld.glob(\"recs-*\"):\n",
    "        rec = pd.read_csv(file, sep=',')\n",
    "        rec[\"algorithm\"] = fld.name.split(\"-\")[1]\n",
    "        recs.append(rec)\n",
    "\n",
    "recs = pd.concat(recs, ignore_index=True)\n",
    "recs = recs.astype({'algorithm': 'category'})\n",
    "recs.info()"
   ]
  },
  {
   "cell_type": "code",
   "execution_count": 10,
   "id": "2e3f4e6d",
   "metadata": {
    "execution": {
     "iopub.execute_input": "2022-02-15T23:43:34.805854Z",
     "iopub.status.busy": "2022-02-15T23:43:34.804822Z",
     "iopub.status.idle": "2022-02-15T23:43:34.832824Z",
     "shell.execute_reply": "2022-02-15T23:43:34.831979Z"
    },
    "papermill": {
     "duration": 0.054,
     "end_time": "2022-02-15T23:43:34.833822",
     "exception": false,
     "start_time": "2022-02-15T23:43:34.779822",
     "status": "completed"
    },
    "tags": []
   },
   "outputs": [
    {
     "data": {
      "text/plain": [
       "['ALS', 'Bias', 'IALS', 'II', 'Pop', 'UU']\n",
       "Categories (6, object): ['ALS', 'Bias', 'IALS', 'II', 'Pop', 'UU']"
      ]
     },
     "execution_count": 10,
     "metadata": {},
     "output_type": "execute_result"
    }
   ],
   "source": [
    "rec_algos = recs['algorithm'].unique()\n",
    "rec_algos"
   ]
  },
  {
   "cell_type": "code",
   "execution_count": 11,
   "id": "8bba8cd2",
   "metadata": {
    "execution": {
     "iopub.execute_input": "2022-02-15T23:43:34.883822Z",
     "iopub.status.busy": "2022-02-15T23:43:34.883822Z",
     "iopub.status.idle": "2022-02-15T23:43:35.082442Z",
     "shell.execute_reply": "2022-02-15T23:43:35.082442Z"
    },
    "papermill": {
     "duration": 0.225584,
     "end_time": "2022-02-15T23:43:35.084436",
     "exception": false,
     "start_time": "2022-02-15T23:43:34.858852",
     "status": "completed"
    },
    "tags": []
   },
   "outputs": [
    {
     "name": "stdout",
     "output_type": "stream",
     "text": [
      "<class 'pandas.core.frame.DataFrame'>\n",
      "RangeIndex: 151000 entries, 0 to 150999\n",
      "Data columns (total 6 columns):\n",
      " #   Column      Non-Null Count   Dtype   \n",
      "---  ------      --------------   -----   \n",
      " 0   user        151000 non-null  int64   \n",
      " 1   item        151000 non-null  int64   \n",
      " 2   rating      151000 non-null  float64 \n",
      " 3   timestamp   151000 non-null  int64   \n",
      " 4   prediction  150961 non-null  float64 \n",
      " 5   algorithm   151000 non-null  category\n",
      "dtypes: category(1), float64(2), int64(3)\n",
      "memory usage: 5.9 MB\n"
     ]
    }
   ],
   "source": [
    "preds = []\n",
    "for fld in dirs:\n",
    "    for file in fld.glob(\"pred-*\"):\n",
    "        pred = pd.read_csv(file, sep=',')\n",
    "        pred[\"algorithm\"] = fld.name.split(\"-\")[1]\n",
    "        preds.append(pred)\n",
    "\n",
    "preds = pd.concat(preds, ignore_index=True)\n",
    "preds = preds.astype({'algorithm': 'category'})\n",
    "preds.info()"
   ]
  },
  {
   "cell_type": "markdown",
   "id": "ddfea5b8",
   "metadata": {
    "papermill": {
     "duration": 0.027011,
     "end_time": "2022-02-15T23:43:35.135446",
     "exception": false,
     "start_time": "2022-02-15T23:43:35.108435",
     "status": "completed"
    },
    "tags": []
   },
   "source": [
    "We need to load the test data so that we have the ground truths for computing accuracy "
   ]
  },
  {
   "cell_type": "code",
   "execution_count": 12,
   "id": "287027ca",
   "metadata": {
    "execution": {
     "iopub.execute_input": "2022-02-15T23:43:35.197435Z",
     "iopub.status.busy": "2022-02-15T23:43:35.197435Z",
     "iopub.status.idle": "2022-02-15T23:43:35.208442Z",
     "shell.execute_reply": "2022-02-15T23:43:35.208442Z"
    },
    "papermill": {
     "duration": 0.041,
     "end_time": "2022-02-15T23:43:35.210435",
     "exception": false,
     "start_time": "2022-02-15T23:43:35.169435",
     "status": "completed"
    },
    "tags": []
   },
   "outputs": [],
   "source": [
    "split_root = Path(\"data-split\")\n",
    "split_dir = split_root / dataset"
   ]
  },
  {
   "cell_type": "code",
   "execution_count": 13,
   "id": "dd5c9461",
   "metadata": {
    "execution": {
     "iopub.execute_input": "2022-02-15T23:43:35.262435Z",
     "iopub.status.busy": "2022-02-15T23:43:35.262435Z",
     "iopub.status.idle": "2022-02-15T23:43:35.302441Z",
     "shell.execute_reply": "2022-02-15T23:43:35.302441Z"
    },
    "papermill": {
     "duration": 0.068998,
     "end_time": "2022-02-15T23:43:35.304434",
     "exception": false,
     "start_time": "2022-02-15T23:43:35.235436",
     "status": "completed"
    },
    "tags": []
   },
   "outputs": [],
   "source": [
    "test = []\n",
    "for file in split_dir.glob(\"test-*.csv.gz\"):\n",
    "    test.append(pd.read_csv(file, sep=','))\n",
    "\n",
    "test = pd.concat(test, ignore_index=True)"
   ]
  },
  {
   "cell_type": "markdown",
   "id": "438948fd",
   "metadata": {
    "papermill": {
     "duration": 0.026002,
     "end_time": "2022-02-15T23:43:35.358435",
     "exception": false,
     "start_time": "2022-02-15T23:43:35.332433",
     "status": "completed"
    },
    "tags": []
   },
   "source": [
    "# Top-N Metrics"
   ]
  },
  {
   "cell_type": "markdown",
   "id": "17d0f711",
   "metadata": {
    "papermill": {
     "duration": 0.026998,
     "end_time": "2022-02-15T23:43:35.413070",
     "exception": false,
     "start_time": "2022-02-15T23:43:35.386072",
     "status": "completed"
    },
    "tags": []
   },
   "source": [
    "The topn.RecListAnalysis class computes top-N metrics for recommendation list and takes care of making sure that the recommendations and ground truths are properly matched. Refer to the documentation for detailed explanation of the purpose for the RecListAnalysis class and how the analysis is done - https://lkpy.lenskit.org/en/stable/evaluation/topn-metrics.html "
   ]
  },
  {
   "cell_type": "code",
   "execution_count": 14,
   "id": "3dd5f1fb",
   "metadata": {
    "execution": {
     "iopub.execute_input": "2022-02-15T23:43:35.464071Z",
     "iopub.status.busy": "2022-02-15T23:43:35.464071Z",
     "iopub.status.idle": "2022-02-15T23:43:37.836836Z",
     "shell.execute_reply": "2022-02-15T23:43:37.835982Z"
    },
    "papermill": {
     "duration": 2.398751,
     "end_time": "2022-02-15T23:43:37.837837",
     "exception": false,
     "start_time": "2022-02-15T23:43:35.439086",
     "status": "completed"
    },
    "tags": []
   },
   "outputs": [
    {
     "name": "stdout",
     "output_type": "stream",
     "text": [
      "[   INFO] lenskit.topn analyzing 3624000 recommendations (30200 truth rows)\n"
     ]
    },
    {
     "name": "stdout",
     "output_type": "stream",
     "text": [
      "[   INFO] lenskit.topn using rec key columns ['algorithm', 'user']\n"
     ]
    },
    {
     "name": "stdout",
     "output_type": "stream",
     "text": [
      "[   INFO] lenskit.topn using truth key columns ['user']\n"
     ]
    },
    {
     "name": "stdout",
     "output_type": "stream",
     "text": [
      "[   INFO] lenskit.topn numbering truth lists\n"
     ]
    },
    {
     "name": "stdout",
     "output_type": "stream",
     "text": [
      "[   INFO] lenskit.topn numbering rec lists\n"
     ]
    },
    {
     "name": "stdout",
     "output_type": "stream",
     "text": [
      "[   INFO] lenskit.topn collecting metric results\n"
     ]
    },
    {
     "name": "stdout",
     "output_type": "stream",
     "text": [
      "[   INFO] lenskit.topn measured 36240 lists in 1.66s\n"
     ]
    },
    {
     "name": "stdout",
     "output_type": "stream",
     "text": [
      "[   INFO] lenskit.topn filling in missing user info (36240 initial rows)\n"
     ]
    },
    {
     "data": {
      "text/html": [
       "<div>\n",
       "<style scoped>\n",
       "    .dataframe tbody tr th:only-of-type {\n",
       "        vertical-align: middle;\n",
       "    }\n",
       "\n",
       "    .dataframe tbody tr th {\n",
       "        vertical-align: top;\n",
       "    }\n",
       "\n",
       "    .dataframe thead th {\n",
       "        text-align: right;\n",
       "    }\n",
       "</style>\n",
       "<table border=\"1\" class=\"dataframe\">\n",
       "  <thead>\n",
       "    <tr style=\"text-align: right;\">\n",
       "      <th></th>\n",
       "      <th></th>\n",
       "      <th>level_1</th>\n",
       "      <th>nrecs</th>\n",
       "      <th>precision</th>\n",
       "      <th>recip_rank</th>\n",
       "      <th>ndcg</th>\n",
       "      <th>ntruth</th>\n",
       "    </tr>\n",
       "    <tr>\n",
       "      <th>algorithm</th>\n",
       "      <th>user</th>\n",
       "      <th></th>\n",
       "      <th></th>\n",
       "      <th></th>\n",
       "      <th></th>\n",
       "      <th></th>\n",
       "      <th></th>\n",
       "    </tr>\n",
       "  </thead>\n",
       "  <tbody>\n",
       "    <tr>\n",
       "      <th rowspan=\"5\" valign=\"top\">ALS</th>\n",
       "      <th>3</th>\n",
       "      <td>0</td>\n",
       "      <td>100</td>\n",
       "      <td>0.00</td>\n",
       "      <td>0.000000</td>\n",
       "      <td>0.000000</td>\n",
       "      <td>5</td>\n",
       "    </tr>\n",
       "    <tr>\n",
       "      <th>4</th>\n",
       "      <td>1</td>\n",
       "      <td>100</td>\n",
       "      <td>0.00</td>\n",
       "      <td>0.000000</td>\n",
       "      <td>0.000000</td>\n",
       "      <td>5</td>\n",
       "    </tr>\n",
       "    <tr>\n",
       "      <th>7</th>\n",
       "      <td>2</td>\n",
       "      <td>100</td>\n",
       "      <td>0.01</td>\n",
       "      <td>0.018868</td>\n",
       "      <td>0.053730</td>\n",
       "      <td>5</td>\n",
       "    </tr>\n",
       "    <tr>\n",
       "      <th>9</th>\n",
       "      <td>3</td>\n",
       "      <td>100</td>\n",
       "      <td>0.01</td>\n",
       "      <td>0.029412</td>\n",
       "      <td>0.056909</td>\n",
       "      <td>5</td>\n",
       "    </tr>\n",
       "    <tr>\n",
       "      <th>11</th>\n",
       "      <td>4</td>\n",
       "      <td>100</td>\n",
       "      <td>0.01</td>\n",
       "      <td>0.014706</td>\n",
       "      <td>0.044144</td>\n",
       "      <td>5</td>\n",
       "    </tr>\n",
       "  </tbody>\n",
       "</table>\n",
       "</div>"
      ],
      "text/plain": [
       "                level_1  nrecs  precision  recip_rank      ndcg  ntruth\n",
       "algorithm user                                                         \n",
       "ALS       3           0    100       0.00    0.000000  0.000000       5\n",
       "          4           1    100       0.00    0.000000  0.000000       5\n",
       "          7           2    100       0.01    0.018868  0.053730       5\n",
       "          9           3    100       0.01    0.029412  0.056909       5\n",
       "          11          4    100       0.01    0.014706  0.044144       5"
      ]
     },
     "execution_count": 14,
     "metadata": {},
     "output_type": "execute_result"
    }
   ],
   "source": [
    "rla = topn.RecListAnalysis()\n",
    "\n",
    "rla.add_metric(topn.precision)\n",
    "rla.add_metric(topn.recip_rank)\n",
    "rla.add_metric(topn.ndcg)\n",
    "results = rla.compute(recs, test, include_missing=True)\n",
    "results = results.fillna(0)\n",
    "results.head()"
   ]
  },
  {
   "cell_type": "markdown",
   "id": "71f216db",
   "metadata": {
    "papermill": {
     "duration": 0.027971,
     "end_time": "2022-02-15T23:43:37.892837",
     "exception": false,
     "start_time": "2022-02-15T23:43:37.864866",
     "status": "completed"
    },
    "tags": []
   },
   "source": [
    "We will reshape the 'results' dataframe by stacking the columns to index and then use the bar chart to visualize the performance of our algorithms with respect to the precision, reciprocal rank and ndcg metrics"
   ]
  },
  {
   "cell_type": "code",
   "execution_count": 15,
   "id": "638849ec",
   "metadata": {
    "execution": {
     "iopub.execute_input": "2022-02-15T23:43:37.949834Z",
     "iopub.status.busy": "2022-02-15T23:43:37.948833Z",
     "iopub.status.idle": "2022-02-15T23:43:37.977906Z",
     "shell.execute_reply": "2022-02-15T23:43:37.977906Z"
    },
    "papermill": {
     "duration": 0.058969,
     "end_time": "2022-02-15T23:43:37.979836",
     "exception": false,
     "start_time": "2022-02-15T23:43:37.920867",
     "status": "completed"
    },
    "tags": []
   },
   "outputs": [
    {
     "data": {
      "text/html": [
       "<div>\n",
       "<style scoped>\n",
       "    .dataframe tbody tr th:only-of-type {\n",
       "        vertical-align: middle;\n",
       "    }\n",
       "\n",
       "    .dataframe tbody tr th {\n",
       "        vertical-align: top;\n",
       "    }\n",
       "\n",
       "    .dataframe thead th {\n",
       "        text-align: right;\n",
       "    }\n",
       "</style>\n",
       "<table border=\"1\" class=\"dataframe\">\n",
       "  <thead>\n",
       "    <tr style=\"text-align: right;\">\n",
       "      <th></th>\n",
       "      <th>algorithm</th>\n",
       "      <th>user</th>\n",
       "      <th>metric</th>\n",
       "      <th>val</th>\n",
       "    </tr>\n",
       "  </thead>\n",
       "  <tbody>\n",
       "    <tr>\n",
       "      <th>0</th>\n",
       "      <td>ALS</td>\n",
       "      <td>3</td>\n",
       "      <td>level_1</td>\n",
       "      <td>0.0</td>\n",
       "    </tr>\n",
       "    <tr>\n",
       "      <th>1</th>\n",
       "      <td>ALS</td>\n",
       "      <td>3</td>\n",
       "      <td>precision</td>\n",
       "      <td>0.0</td>\n",
       "    </tr>\n",
       "    <tr>\n",
       "      <th>2</th>\n",
       "      <td>ALS</td>\n",
       "      <td>3</td>\n",
       "      <td>recip_rank</td>\n",
       "      <td>0.0</td>\n",
       "    </tr>\n",
       "    <tr>\n",
       "      <th>3</th>\n",
       "      <td>ALS</td>\n",
       "      <td>3</td>\n",
       "      <td>ndcg</td>\n",
       "      <td>0.0</td>\n",
       "    </tr>\n",
       "    <tr>\n",
       "      <th>4</th>\n",
       "      <td>ALS</td>\n",
       "      <td>4</td>\n",
       "      <td>level_1</td>\n",
       "      <td>1.0</td>\n",
       "    </tr>\n",
       "  </tbody>\n",
       "</table>\n",
       "</div>"
      ],
      "text/plain": [
       "  algorithm  user      metric  val\n",
       "0       ALS     3     level_1  0.0\n",
       "1       ALS     3   precision  0.0\n",
       "2       ALS     3  recip_rank  0.0\n",
       "3       ALS     3        ndcg  0.0\n",
       "4       ALS     4     level_1  1.0"
      ]
     },
     "execution_count": 15,
     "metadata": {},
     "output_type": "execute_result"
    }
   ],
   "source": [
    "pltData = (results.drop(columns=['nrecs', 'ntruth']).stack()).reset_index()\n",
    "pltData.columns = ['algorithm', 'user', 'metric', 'val']\n",
    "pltData.head()"
   ]
  },
  {
   "cell_type": "markdown",
   "id": "a8777803",
   "metadata": {
    "papermill": {
     "duration": 0.028994,
     "end_time": "2022-02-15T23:43:38.037834",
     "exception": false,
     "start_time": "2022-02-15T23:43:38.008840",
     "status": "completed"
    },
    "tags": []
   },
   "source": [
    "We need to determine if the differences we observe in the performances of the algorithms for the various metrics are statistically significant. To achieve this, we will need to use either a parametric or non-parametric statistical test for comparing the differences. We will consider a parametric test - repeated ANOVA measure cause our sample groups are correlated."
   ]
  },
  {
   "cell_type": "code",
   "execution_count": 16,
   "id": "bc8b2450",
   "metadata": {
    "execution": {
     "iopub.execute_input": "2022-02-15T23:43:38.093831Z",
     "iopub.status.busy": "2022-02-15T23:43:38.093831Z",
     "iopub.status.idle": "2022-02-15T23:43:40.101501Z",
     "shell.execute_reply": "2022-02-15T23:43:40.101501Z"
    },
    "papermill": {
     "duration": 2.037669,
     "end_time": "2022-02-15T23:43:40.103502",
     "exception": false,
     "start_time": "2022-02-15T23:43:38.065833",
     "status": "completed"
    },
    "tags": []
   },
   "outputs": [
    {
     "data": {
      "image/png": "[encoded data removed]",
      "text/plain": [
       "<Figure size 1036.8x216 with 4 Axes>"
      ]
     },
     "metadata": {
      "needs_background": "light"
     },
     "output_type": "display_data"
    }
   ],
   "source": [
    "g = sns.catplot(x = \"algorithm\", y = \"val\", data = pltData, kind=\"bar\", col = \"metric\", aspect=1.2, height=3, sharey=False)"
   ]
  },
  {
   "cell_type": "markdown",
   "id": "e66179eb",
   "metadata": {
    "papermill": {
     "duration": 0.032967,
     "end_time": "2022-02-15T23:43:40.164499",
     "exception": false,
     "start_time": "2022-02-15T23:43:40.131532",
     "status": "completed"
    },
    "tags": []
   },
   "source": [
    "### Statistical Testing"
   ]
  },
  {
   "cell_type": "markdown",
   "id": "07137f82",
   "metadata": {
    "papermill": {
     "duration": 0.028969,
     "end_time": "2022-02-15T23:43:40.225499",
     "exception": false,
     "start_time": "2022-02-15T23:43:40.196530",
     "status": "completed"
    },
    "tags": []
   },
   "source": [
    "We will now examine these metrics in more detail and test for statistical significance.  Best practice for statistical testing for recommender systems is still a work in progress, but this method avoids most of the validity problems we know about.\n",
    "\n",
    "The Friedman $\\chi^2$ test will test the null hypothesis that there is no difference between algorithms in terms of their performance."
   ]
  },
  {
   "cell_type": "code",
   "execution_count": 17,
   "id": "78ef376a",
   "metadata": {
    "execution": {
     "iopub.execute_input": "2022-02-15T23:43:40.284533Z",
     "iopub.status.busy": "2022-02-15T23:43:40.284533Z",
     "iopub.status.idle": "2022-02-15T23:43:40.293498Z",
     "shell.execute_reply": "2022-02-15T23:43:40.292571Z"
    },
    "papermill": {
     "duration": 0.039999,
     "end_time": "2022-02-15T23:43:40.294498",
     "exception": false,
     "start_time": "2022-02-15T23:43:40.254499",
     "status": "completed"
    },
    "tags": []
   },
   "outputs": [],
   "source": [
    "def metric_friedman(metric):\n",
    "    groups = [df[metric] for a, df in results.groupby('algorithm')]\n",
    "\n",
    "    stat, p = friedmanchisquare(*groups)\n",
    "    return pd.Series({'stat': stat, 'p': p}, name=metric)"
   ]
  },
  {
   "cell_type": "markdown",
   "id": "b75ac2c6",
   "metadata": {
    "papermill": {
     "duration": 0.029008,
     "end_time": "2022-02-15T23:43:40.351537",
     "exception": false,
     "start_time": "2022-02-15T23:43:40.322529",
     "status": "completed"
    },
    "tags": []
   },
   "source": [
    "If the test detects significance, we have at least one pair of different algorithms - but which pairs?  Unfortunately, the good tests aren't readily available in scipy and friends, so we're going to take a conservative approch and perform pairwise Wilconxon signed-rank tests with a Bonferroni adjustment."
   ]
  },
  {
   "cell_type": "code",
   "execution_count": 18,
   "id": "3ad37dd1",
   "metadata": {
    "execution": {
     "iopub.execute_input": "2022-02-15T23:43:40.411134Z",
     "iopub.status.busy": "2022-02-15T23:43:40.411134Z",
     "iopub.status.idle": "2022-02-15T23:43:40.420103Z",
     "shell.execute_reply": "2022-02-15T23:43:40.419250Z"
    },
    "papermill": {
     "duration": 0.041573,
     "end_time": "2022-02-15T23:43:40.422101",
     "exception": false,
     "start_time": "2022-02-15T23:43:40.380528",
     "status": "completed"
    },
    "tags": []
   },
   "outputs": [],
   "source": [
    "pairs = pd.DataFrame.from_records(combinations(rec_algos, 2), columns=['A1', 'A2'])\n",
    "def am_wilcox(metric, p_scale = len(pairs)):\n",
    "    def compute(df):\n",
    "        vs1 = results.loc[df['A1'], metric]\n",
    "        vs2 = results.loc[df['A2'], metric]\n",
    "        diff = (vs1 - vs2).mean()\n",
    "        stat, p = wilcoxon(vs1, vs2)\n",
    "        return pd.Series({'diff': diff, 'stat': stat, 'p': p, 'adj_p': p * p_scale})\n",
    "    scores = pairs.apply(compute, axis=1)\n",
    "    return pairs.join(scores)"
   ]
  },
  {
   "cell_type": "markdown",
   "id": "49a438a7",
   "metadata": {
    "papermill": {
     "duration": 0.02901,
     "end_time": "2022-02-15T23:43:40.479140",
     "exception": false,
     "start_time": "2022-02-15T23:43:40.450130",
     "status": "completed"
    },
    "tags": []
   },
   "source": [
    "## Precision"
   ]
  },
  {
   "cell_type": "code",
   "execution_count": 19,
   "id": "4d1f0c25",
   "metadata": {
    "execution": {
     "iopub.execute_input": "2022-02-15T23:43:40.539186Z",
     "iopub.status.busy": "2022-02-15T23:43:40.539186Z",
     "iopub.status.idle": "2022-02-15T23:43:41.018816Z",
     "shell.execute_reply": "2022-02-15T23:43:41.017962Z"
    },
    "papermill": {
     "duration": 0.511686,
     "end_time": "2022-02-15T23:43:41.019816",
     "exception": false,
     "start_time": "2022-02-15T23:43:40.508130",
     "status": "completed"
    },
    "tags": []
   },
   "outputs": [
    {
     "data": {
      "text/plain": [
       "stat    15159.771621\n",
       "p           0.000000\n",
       "Name: precision, dtype: float64"
      ]
     },
     "execution_count": 19,
     "metadata": {},
     "output_type": "execute_result"
    }
   ],
   "source": [
    "metric_friedman('precision')"
   ]
  },
  {
   "cell_type": "markdown",
   "id": "2ab86e37",
   "metadata": {
    "papermill": {
     "duration": 0.03,
     "end_time": "2022-02-15T23:43:41.079817",
     "exception": false,
     "start_time": "2022-02-15T23:43:41.049817",
     "status": "completed"
    },
    "tags": []
   },
   "source": [
    "This indicates a statistically significant difference exists - but where is it?\n",
    "\n",
    "To answer that question, we need a post-hoc test. "
   ]
  },
  {
   "cell_type": "code",
   "execution_count": 20,
   "id": "014a8c41",
   "metadata": {
    "execution": {
     "iopub.execute_input": "2022-02-15T23:43:41.142815Z",
     "iopub.status.busy": "2022-02-15T23:43:41.142815Z",
     "iopub.status.idle": "2022-02-15T23:43:41.194828Z",
     "shell.execute_reply": "2022-02-15T23:43:41.193817Z"
    },
    "papermill": {
     "duration": 0.087971,
     "end_time": "2022-02-15T23:43:41.196818",
     "exception": false,
     "start_time": "2022-02-15T23:43:41.108847",
     "status": "completed"
    },
    "tags": []
   },
   "outputs": [
    {
     "data": {
      "text/html": [
       "<div>\n",
       "<style scoped>\n",
       "    .dataframe tbody tr th:only-of-type {\n",
       "        vertical-align: middle;\n",
       "    }\n",
       "\n",
       "    .dataframe tbody tr th {\n",
       "        vertical-align: top;\n",
       "    }\n",
       "\n",
       "    .dataframe thead th {\n",
       "        text-align: right;\n",
       "    }\n",
       "</style>\n",
       "<table border=\"1\" class=\"dataframe\">\n",
       "  <thead>\n",
       "    <tr style=\"text-align: right;\">\n",
       "      <th></th>\n",
       "      <th>A1</th>\n",
       "      <th>A2</th>\n",
       "      <th>diff</th>\n",
       "      <th>stat</th>\n",
       "      <th>p</th>\n",
       "      <th>adj_p</th>\n",
       "    </tr>\n",
       "  </thead>\n",
       "  <tbody>\n",
       "    <tr>\n",
       "      <th>11</th>\n",
       "      <td>IALS</td>\n",
       "      <td>UU</td>\n",
       "      <td>0.022785</td>\n",
       "      <td>114975.0</td>\n",
       "      <td>0.000000e+00</td>\n",
       "      <td>0.000000e+00</td>\n",
       "    </tr>\n",
       "    <tr>\n",
       "      <th>9</th>\n",
       "      <td>IALS</td>\n",
       "      <td>II</td>\n",
       "      <td>0.022060</td>\n",
       "      <td>147679.5</td>\n",
       "      <td>0.000000e+00</td>\n",
       "      <td>0.000000e+00</td>\n",
       "    </tr>\n",
       "    <tr>\n",
       "      <th>10</th>\n",
       "      <td>IALS</td>\n",
       "      <td>Pop</td>\n",
       "      <td>0.013073</td>\n",
       "      <td>876801.5</td>\n",
       "      <td>0.000000e+00</td>\n",
       "      <td>0.000000e+00</td>\n",
       "    </tr>\n",
       "    <tr>\n",
       "      <th>14</th>\n",
       "      <td>Pop</td>\n",
       "      <td>UU</td>\n",
       "      <td>0.009712</td>\n",
       "      <td>623588.5</td>\n",
       "      <td>0.000000e+00</td>\n",
       "      <td>0.000000e+00</td>\n",
       "    </tr>\n",
       "    <tr>\n",
       "      <th>4</th>\n",
       "      <td>ALS</td>\n",
       "      <td>UU</td>\n",
       "      <td>0.001821</td>\n",
       "      <td>639741.0</td>\n",
       "      <td>6.348876e-71</td>\n",
       "      <td>9.523314e-70</td>\n",
       "    </tr>\n",
       "    <tr>\n",
       "      <th>8</th>\n",
       "      <td>Bias</td>\n",
       "      <td>UU</td>\n",
       "      <td>0.001604</td>\n",
       "      <td>820468.0</td>\n",
       "      <td>1.839196e-50</td>\n",
       "      <td>2.758793e-49</td>\n",
       "    </tr>\n",
       "    <tr>\n",
       "      <th>2</th>\n",
       "      <td>ALS</td>\n",
       "      <td>II</td>\n",
       "      <td>0.001096</td>\n",
       "      <td>499001.0</td>\n",
       "      <td>9.212382e-41</td>\n",
       "      <td>1.381857e-39</td>\n",
       "    </tr>\n",
       "    <tr>\n",
       "      <th>6</th>\n",
       "      <td>Bias</td>\n",
       "      <td>II</td>\n",
       "      <td>0.000879</td>\n",
       "      <td>895747.0</td>\n",
       "      <td>1.679598e-20</td>\n",
       "      <td>2.519398e-19</td>\n",
       "    </tr>\n",
       "    <tr>\n",
       "      <th>13</th>\n",
       "      <td>II</td>\n",
       "      <td>UU</td>\n",
       "      <td>0.000725</td>\n",
       "      <td>941183.0</td>\n",
       "      <td>1.441671e-12</td>\n",
       "      <td>2.162507e-11</td>\n",
       "    </tr>\n",
       "    <tr>\n",
       "      <th>0</th>\n",
       "      <td>ALS</td>\n",
       "      <td>Bias</td>\n",
       "      <td>0.000217</td>\n",
       "      <td>621712.0</td>\n",
       "      <td>1.662795e-02</td>\n",
       "      <td>2.494192e-01</td>\n",
       "    </tr>\n",
       "    <tr>\n",
       "      <th>3</th>\n",
       "      <td>ALS</td>\n",
       "      <td>Pop</td>\n",
       "      <td>-0.007891</td>\n",
       "      <td>1103696.0</td>\n",
       "      <td>0.000000e+00</td>\n",
       "      <td>0.000000e+00</td>\n",
       "    </tr>\n",
       "    <tr>\n",
       "      <th>7</th>\n",
       "      <td>Bias</td>\n",
       "      <td>Pop</td>\n",
       "      <td>-0.008108</td>\n",
       "      <td>1071256.5</td>\n",
       "      <td>0.000000e+00</td>\n",
       "      <td>0.000000e+00</td>\n",
       "    </tr>\n",
       "    <tr>\n",
       "      <th>12</th>\n",
       "      <td>II</td>\n",
       "      <td>Pop</td>\n",
       "      <td>-0.008987</td>\n",
       "      <td>922749.5</td>\n",
       "      <td>0.000000e+00</td>\n",
       "      <td>0.000000e+00</td>\n",
       "    </tr>\n",
       "    <tr>\n",
       "      <th>1</th>\n",
       "      <td>ALS</td>\n",
       "      <td>IALS</td>\n",
       "      <td>-0.020964</td>\n",
       "      <td>214373.0</td>\n",
       "      <td>0.000000e+00</td>\n",
       "      <td>0.000000e+00</td>\n",
       "    </tr>\n",
       "    <tr>\n",
       "      <th>5</th>\n",
       "      <td>Bias</td>\n",
       "      <td>IALS</td>\n",
       "      <td>-0.021180</td>\n",
       "      <td>194707.5</td>\n",
       "      <td>0.000000e+00</td>\n",
       "      <td>0.000000e+00</td>\n",
       "    </tr>\n",
       "  </tbody>\n",
       "</table>\n",
       "</div>"
      ],
      "text/plain": [
       "      A1    A2      diff       stat             p         adj_p\n",
       "11  IALS    UU  0.022785   114975.0  0.000000e+00  0.000000e+00\n",
       "9   IALS    II  0.022060   147679.5  0.000000e+00  0.000000e+00\n",
       "10  IALS   Pop  0.013073   876801.5  0.000000e+00  0.000000e+00\n",
       "14   Pop    UU  0.009712   623588.5  0.000000e+00  0.000000e+00\n",
       "4    ALS    UU  0.001821   639741.0  6.348876e-71  9.523314e-70\n",
       "8   Bias    UU  0.001604   820468.0  1.839196e-50  2.758793e-49\n",
       "2    ALS    II  0.001096   499001.0  9.212382e-41  1.381857e-39\n",
       "6   Bias    II  0.000879   895747.0  1.679598e-20  2.519398e-19\n",
       "13    II    UU  0.000725   941183.0  1.441671e-12  2.162507e-11\n",
       "0    ALS  Bias  0.000217   621712.0  1.662795e-02  2.494192e-01\n",
       "3    ALS   Pop -0.007891  1103696.0  0.000000e+00  0.000000e+00\n",
       "7   Bias   Pop -0.008108  1071256.5  0.000000e+00  0.000000e+00\n",
       "12    II   Pop -0.008987   922749.5  0.000000e+00  0.000000e+00\n",
       "1    ALS  IALS -0.020964   214373.0  0.000000e+00  0.000000e+00\n",
       "5   Bias  IALS -0.021180   194707.5  0.000000e+00  0.000000e+00"
      ]
     },
     "execution_count": 20,
     "metadata": {},
     "output_type": "execute_result"
    }
   ],
   "source": [
    "am_wilcox('precision').sort_values('diff', ascending=False)"
   ]
  },
  {
   "cell_type": "markdown",
   "id": "644b8d28",
   "metadata": {
    "papermill": {
     "duration": 0.030005,
     "end_time": "2022-02-15T23:43:41.256823",
     "exception": false,
     "start_time": "2022-02-15T23:43:41.226818",
     "status": "completed"
    },
    "tags": []
   },
   "source": [
    "We can consider pairs with an adjusted $p$ value less than 0.05 (5.0e-2) to be statistically significant.  However, we have so many data points, the substance of significance is questionable.  Pay attention to the 'diff' column, which is the difference between A1 and A2 (how much A1 outperforms A2)."
   ]
  },
  {
   "cell_type": "markdown",
   "id": "f4e9229f",
   "metadata": {
    "papermill": {
     "duration": 0.030967,
     "end_time": "2022-02-15T23:43:41.317813",
     "exception": false,
     "start_time": "2022-02-15T23:43:41.286846",
     "status": "completed"
    },
    "tags": []
   },
   "source": [
    "### nDCG"
   ]
  },
  {
   "cell_type": "markdown",
   "id": "7ff8a1b7",
   "metadata": {
    "papermill": {
     "duration": 0.029999,
     "end_time": "2022-02-15T23:43:41.378842",
     "exception": false,
     "start_time": "2022-02-15T23:43:41.348843",
     "status": "completed"
    },
    "tags": []
   },
   "source": [
    "Now let's do the same for nDCG:"
   ]
  },
  {
   "cell_type": "code",
   "execution_count": 21,
   "id": "7c390487",
   "metadata": {
    "execution": {
     "iopub.execute_input": "2022-02-15T23:43:41.446849Z",
     "iopub.status.busy": "2022-02-15T23:43:41.445812Z",
     "iopub.status.idle": "2022-02-15T23:43:41.871912Z",
     "shell.execute_reply": "2022-02-15T23:43:41.870898Z"
    },
    "papermill": {
     "duration": 0.461048,
     "end_time": "2022-02-15T23:43:41.872891",
     "exception": false,
     "start_time": "2022-02-15T23:43:41.411843",
     "status": "completed"
    },
    "tags": []
   },
   "outputs": [
    {
     "data": {
      "text/plain": [
       "stat    12950.64578\n",
       "p           0.00000\n",
       "Name: ndcg, dtype: float64"
      ]
     },
     "execution_count": 21,
     "metadata": {},
     "output_type": "execute_result"
    }
   ],
   "source": [
    "metric_friedman('ndcg')"
   ]
  },
  {
   "cell_type": "code",
   "execution_count": 22,
   "id": "ea9f6d66",
   "metadata": {
    "execution": {
     "iopub.execute_input": "2022-02-15T23:43:41.937890Z",
     "iopub.status.busy": "2022-02-15T23:43:41.937890Z",
     "iopub.status.idle": "2022-02-15T23:43:41.980861Z",
     "shell.execute_reply": "2022-02-15T23:43:41.980006Z"
    },
    "papermill": {
     "duration": 0.074983,
     "end_time": "2022-02-15T23:43:41.981861",
     "exception": false,
     "start_time": "2022-02-15T23:43:41.906878",
     "status": "completed"
    },
    "tags": []
   },
   "outputs": [
    {
     "data": {
      "text/html": [
       "<div>\n",
       "<style scoped>\n",
       "    .dataframe tbody tr th:only-of-type {\n",
       "        vertical-align: middle;\n",
       "    }\n",
       "\n",
       "    .dataframe tbody tr th {\n",
       "        vertical-align: top;\n",
       "    }\n",
       "\n",
       "    .dataframe thead th {\n",
       "        text-align: right;\n",
       "    }\n",
       "</style>\n",
       "<table border=\"1\" class=\"dataframe\">\n",
       "  <thead>\n",
       "    <tr style=\"text-align: right;\">\n",
       "      <th></th>\n",
       "      <th>A1</th>\n",
       "      <th>A2</th>\n",
       "      <th>diff</th>\n",
       "      <th>stat</th>\n",
       "      <th>p</th>\n",
       "      <th>adj_p</th>\n",
       "    </tr>\n",
       "  </thead>\n",
       "  <tbody>\n",
       "    <tr>\n",
       "      <th>11</th>\n",
       "      <td>IALS</td>\n",
       "      <td>UU</td>\n",
       "      <td>0.190018</td>\n",
       "      <td>289196.5</td>\n",
       "      <td>0.000000e+00</td>\n",
       "      <td>0.000000e+00</td>\n",
       "    </tr>\n",
       "    <tr>\n",
       "      <th>9</th>\n",
       "      <td>IALS</td>\n",
       "      <td>II</td>\n",
       "      <td>0.181802</td>\n",
       "      <td>413707.5</td>\n",
       "      <td>0.000000e+00</td>\n",
       "      <td>0.000000e+00</td>\n",
       "    </tr>\n",
       "    <tr>\n",
       "      <th>14</th>\n",
       "      <td>Pop</td>\n",
       "      <td>UU</td>\n",
       "      <td>0.097387</td>\n",
       "      <td>752987.5</td>\n",
       "      <td>0.000000e+00</td>\n",
       "      <td>0.000000e+00</td>\n",
       "    </tr>\n",
       "    <tr>\n",
       "      <th>10</th>\n",
       "      <td>IALS</td>\n",
       "      <td>Pop</td>\n",
       "      <td>0.092631</td>\n",
       "      <td>3852649.0</td>\n",
       "      <td>0.000000e+00</td>\n",
       "      <td>0.000000e+00</td>\n",
       "    </tr>\n",
       "    <tr>\n",
       "      <th>4</th>\n",
       "      <td>ALS</td>\n",
       "      <td>UU</td>\n",
       "      <td>0.023985</td>\n",
       "      <td>1444030.5</td>\n",
       "      <td>5.437075e-157</td>\n",
       "      <td>8.155612e-156</td>\n",
       "    </tr>\n",
       "    <tr>\n",
       "      <th>8</th>\n",
       "      <td>Bias</td>\n",
       "      <td>UU</td>\n",
       "      <td>0.018583</td>\n",
       "      <td>1833958.0</td>\n",
       "      <td>2.618196e-99</td>\n",
       "      <td>3.927294e-98</td>\n",
       "    </tr>\n",
       "    <tr>\n",
       "      <th>2</th>\n",
       "      <td>ALS</td>\n",
       "      <td>II</td>\n",
       "      <td>0.015769</td>\n",
       "      <td>1625113.0</td>\n",
       "      <td>3.107048e-102</td>\n",
       "      <td>4.660571e-101</td>\n",
       "    </tr>\n",
       "    <tr>\n",
       "      <th>6</th>\n",
       "      <td>Bias</td>\n",
       "      <td>II</td>\n",
       "      <td>0.010367</td>\n",
       "      <td>2320128.0</td>\n",
       "      <td>1.608550e-38</td>\n",
       "      <td>2.412825e-37</td>\n",
       "    </tr>\n",
       "    <tr>\n",
       "      <th>13</th>\n",
       "      <td>II</td>\n",
       "      <td>UU</td>\n",
       "      <td>0.008216</td>\n",
       "      <td>2175082.0</td>\n",
       "      <td>1.683183e-32</td>\n",
       "      <td>2.524774e-31</td>\n",
       "    </tr>\n",
       "    <tr>\n",
       "      <th>0</th>\n",
       "      <td>ALS</td>\n",
       "      <td>Bias</td>\n",
       "      <td>0.005403</td>\n",
       "      <td>2569465.5</td>\n",
       "      <td>1.580436e-10</td>\n",
       "      <td>2.370654e-09</td>\n",
       "    </tr>\n",
       "    <tr>\n",
       "      <th>3</th>\n",
       "      <td>ALS</td>\n",
       "      <td>Pop</td>\n",
       "      <td>-0.073402</td>\n",
       "      <td>2120739.5</td>\n",
       "      <td>0.000000e+00</td>\n",
       "      <td>0.000000e+00</td>\n",
       "    </tr>\n",
       "    <tr>\n",
       "      <th>7</th>\n",
       "      <td>Bias</td>\n",
       "      <td>Pop</td>\n",
       "      <td>-0.078804</td>\n",
       "      <td>1884713.0</td>\n",
       "      <td>0.000000e+00</td>\n",
       "      <td>0.000000e+00</td>\n",
       "    </tr>\n",
       "    <tr>\n",
       "      <th>12</th>\n",
       "      <td>II</td>\n",
       "      <td>Pop</td>\n",
       "      <td>-0.089171</td>\n",
       "      <td>1378835.5</td>\n",
       "      <td>0.000000e+00</td>\n",
       "      <td>0.000000e+00</td>\n",
       "    </tr>\n",
       "    <tr>\n",
       "      <th>1</th>\n",
       "      <td>ALS</td>\n",
       "      <td>IALS</td>\n",
       "      <td>-0.166033</td>\n",
       "      <td>923817.5</td>\n",
       "      <td>0.000000e+00</td>\n",
       "      <td>0.000000e+00</td>\n",
       "    </tr>\n",
       "    <tr>\n",
       "      <th>5</th>\n",
       "      <td>Bias</td>\n",
       "      <td>IALS</td>\n",
       "      <td>-0.171435</td>\n",
       "      <td>744067.5</td>\n",
       "      <td>0.000000e+00</td>\n",
       "      <td>0.000000e+00</td>\n",
       "    </tr>\n",
       "  </tbody>\n",
       "</table>\n",
       "</div>"
      ],
      "text/plain": [
       "      A1    A2      diff       stat              p          adj_p\n",
       "11  IALS    UU  0.190018   289196.5   0.000000e+00   0.000000e+00\n",
       "9   IALS    II  0.181802   413707.5   0.000000e+00   0.000000e+00\n",
       "14   Pop    UU  0.097387   752987.5   0.000000e+00   0.000000e+00\n",
       "10  IALS   Pop  0.092631  3852649.0   0.000000e+00   0.000000e+00\n",
       "4    ALS    UU  0.023985  1444030.5  5.437075e-157  8.155612e-156\n",
       "8   Bias    UU  0.018583  1833958.0   2.618196e-99   3.927294e-98\n",
       "2    ALS    II  0.015769  1625113.0  3.107048e-102  4.660571e-101\n",
       "6   Bias    II  0.010367  2320128.0   1.608550e-38   2.412825e-37\n",
       "13    II    UU  0.008216  2175082.0   1.683183e-32   2.524774e-31\n",
       "0    ALS  Bias  0.005403  2569465.5   1.580436e-10   2.370654e-09\n",
       "3    ALS   Pop -0.073402  2120739.5   0.000000e+00   0.000000e+00\n",
       "7   Bias   Pop -0.078804  1884713.0   0.000000e+00   0.000000e+00\n",
       "12    II   Pop -0.089171  1378835.5   0.000000e+00   0.000000e+00\n",
       "1    ALS  IALS -0.166033   923817.5   0.000000e+00   0.000000e+00\n",
       "5   Bias  IALS -0.171435   744067.5   0.000000e+00   0.000000e+00"
      ]
     },
     "execution_count": 22,
     "metadata": {},
     "output_type": "execute_result"
    }
   ],
   "source": [
    "am_wilcox('ndcg').sort_values('diff', ascending=False)"
   ]
  },
  {
   "cell_type": "markdown",
   "id": "775c312a",
   "metadata": {
    "papermill": {
     "duration": 0.030999,
     "end_time": "2022-02-15T23:43:42.044854",
     "exception": false,
     "start_time": "2022-02-15T23:43:42.013855",
     "status": "completed"
    },
    "tags": []
   },
   "source": [
    "### Reciprocal Rank\n",
    "\n",
    "We'll do this also for reciprocal rank (what is aggregated to compute MRR):"
   ]
  },
  {
   "cell_type": "code",
   "execution_count": 23,
   "id": "69e0e43c",
   "metadata": {
    "execution": {
     "iopub.execute_input": "2022-02-15T23:43:42.106857Z",
     "iopub.status.busy": "2022-02-15T23:43:42.105858Z",
     "iopub.status.idle": "2022-02-15T23:43:42.543595Z",
     "shell.execute_reply": "2022-02-15T23:43:42.542292Z"
    },
    "papermill": {
     "duration": 0.470385,
     "end_time": "2022-02-15T23:43:42.545268",
     "exception": false,
     "start_time": "2022-02-15T23:43:42.074883",
     "status": "completed"
    },
    "tags": []
   },
   "outputs": [
    {
     "data": {
      "text/plain": [
       "stat    11282.896141\n",
       "p           0.000000\n",
       "Name: recip_rank, dtype: float64"
      ]
     },
     "execution_count": 23,
     "metadata": {},
     "output_type": "execute_result"
    }
   ],
   "source": [
    "metric_friedman('recip_rank')"
   ]
  },
  {
   "cell_type": "code",
   "execution_count": 24,
   "id": "2da494a3",
   "metadata": {
    "execution": {
     "iopub.execute_input": "2022-02-15T23:43:42.683773Z",
     "iopub.status.busy": "2022-02-15T23:43:42.683277Z",
     "iopub.status.idle": "2022-02-15T23:43:42.761276Z",
     "shell.execute_reply": "2022-02-15T23:43:42.761276Z"
    },
    "papermill": {
     "duration": 0.187,
     "end_time": "2022-02-15T23:43:42.763274",
     "exception": false,
     "start_time": "2022-02-15T23:43:42.576274",
     "status": "completed"
    },
    "tags": []
   },
   "outputs": [
    {
     "data": {
      "text/html": [
       "<div>\n",
       "<style scoped>\n",
       "    .dataframe tbody tr th:only-of-type {\n",
       "        vertical-align: middle;\n",
       "    }\n",
       "\n",
       "    .dataframe tbody tr th {\n",
       "        vertical-align: top;\n",
       "    }\n",
       "\n",
       "    .dataframe thead th {\n",
       "        text-align: right;\n",
       "    }\n",
       "</style>\n",
       "<table border=\"1\" class=\"dataframe\">\n",
       "  <thead>\n",
       "    <tr style=\"text-align: right;\">\n",
       "      <th></th>\n",
       "      <th>A1</th>\n",
       "      <th>A2</th>\n",
       "      <th>diff</th>\n",
       "      <th>stat</th>\n",
       "      <th>p</th>\n",
       "      <th>adj_p</th>\n",
       "    </tr>\n",
       "  </thead>\n",
       "  <tbody>\n",
       "    <tr>\n",
       "      <th>11</th>\n",
       "      <td>IALS</td>\n",
       "      <td>UU</td>\n",
       "      <td>0.197069</td>\n",
       "      <td>742693.5</td>\n",
       "      <td>0.000000e+00</td>\n",
       "      <td>0.000000e+00</td>\n",
       "    </tr>\n",
       "    <tr>\n",
       "      <th>9</th>\n",
       "      <td>IALS</td>\n",
       "      <td>II</td>\n",
       "      <td>0.187799</td>\n",
       "      <td>1093013.0</td>\n",
       "      <td>0.000000e+00</td>\n",
       "      <td>0.000000e+00</td>\n",
       "    </tr>\n",
       "    <tr>\n",
       "      <th>14</th>\n",
       "      <td>Pop</td>\n",
       "      <td>UU</td>\n",
       "      <td>0.136330</td>\n",
       "      <td>741299.0</td>\n",
       "      <td>0.000000e+00</td>\n",
       "      <td>0.000000e+00</td>\n",
       "    </tr>\n",
       "    <tr>\n",
       "      <th>10</th>\n",
       "      <td>IALS</td>\n",
       "      <td>Pop</td>\n",
       "      <td>0.060739</td>\n",
       "      <td>6007570.5</td>\n",
       "      <td>5.787493e-79</td>\n",
       "      <td>8.681240e-78</td>\n",
       "    </tr>\n",
       "    <tr>\n",
       "      <th>4</th>\n",
       "      <td>ALS</td>\n",
       "      <td>UU</td>\n",
       "      <td>0.036990</td>\n",
       "      <td>1307313.5</td>\n",
       "      <td>6.523763e-181</td>\n",
       "      <td>9.785644e-180</td>\n",
       "    </tr>\n",
       "    <tr>\n",
       "      <th>2</th>\n",
       "      <td>ALS</td>\n",
       "      <td>II</td>\n",
       "      <td>0.027720</td>\n",
       "      <td>1567433.0</td>\n",
       "      <td>4.984826e-106</td>\n",
       "      <td>7.477239e-105</td>\n",
       "    </tr>\n",
       "    <tr>\n",
       "      <th>8</th>\n",
       "      <td>Bias</td>\n",
       "      <td>UU</td>\n",
       "      <td>0.027099</td>\n",
       "      <td>1575356.5</td>\n",
       "      <td>3.631493e-140</td>\n",
       "      <td>5.447239e-139</td>\n",
       "    </tr>\n",
       "    <tr>\n",
       "      <th>6</th>\n",
       "      <td>Bias</td>\n",
       "      <td>II</td>\n",
       "      <td>0.017828</td>\n",
       "      <td>2121727.5</td>\n",
       "      <td>6.842229e-54</td>\n",
       "      <td>1.026334e-52</td>\n",
       "    </tr>\n",
       "    <tr>\n",
       "      <th>0</th>\n",
       "      <td>ALS</td>\n",
       "      <td>Bias</td>\n",
       "      <td>0.009892</td>\n",
       "      <td>2604513.5</td>\n",
       "      <td>1.853701e-05</td>\n",
       "      <td>2.780552e-04</td>\n",
       "    </tr>\n",
       "    <tr>\n",
       "      <th>13</th>\n",
       "      <td>II</td>\n",
       "      <td>UU</td>\n",
       "      <td>0.009270</td>\n",
       "      <td>2057388.5</td>\n",
       "      <td>1.618495e-42</td>\n",
       "      <td>2.427743e-41</td>\n",
       "    </tr>\n",
       "    <tr>\n",
       "      <th>3</th>\n",
       "      <td>ALS</td>\n",
       "      <td>Pop</td>\n",
       "      <td>-0.099339</td>\n",
       "      <td>2382596.0</td>\n",
       "      <td>0.000000e+00</td>\n",
       "      <td>0.000000e+00</td>\n",
       "    </tr>\n",
       "    <tr>\n",
       "      <th>7</th>\n",
       "      <td>Bias</td>\n",
       "      <td>Pop</td>\n",
       "      <td>-0.109231</td>\n",
       "      <td>2308362.0</td>\n",
       "      <td>0.000000e+00</td>\n",
       "      <td>0.000000e+00</td>\n",
       "    </tr>\n",
       "    <tr>\n",
       "      <th>12</th>\n",
       "      <td>II</td>\n",
       "      <td>Pop</td>\n",
       "      <td>-0.127059</td>\n",
       "      <td>1485604.0</td>\n",
       "      <td>0.000000e+00</td>\n",
       "      <td>0.000000e+00</td>\n",
       "    </tr>\n",
       "    <tr>\n",
       "      <th>1</th>\n",
       "      <td>ALS</td>\n",
       "      <td>IALS</td>\n",
       "      <td>-0.160079</td>\n",
       "      <td>2097172.0</td>\n",
       "      <td>0.000000e+00</td>\n",
       "      <td>0.000000e+00</td>\n",
       "    </tr>\n",
       "    <tr>\n",
       "      <th>5</th>\n",
       "      <td>Bias</td>\n",
       "      <td>IALS</td>\n",
       "      <td>-0.169970</td>\n",
       "      <td>1953874.0</td>\n",
       "      <td>0.000000e+00</td>\n",
       "      <td>0.000000e+00</td>\n",
       "    </tr>\n",
       "  </tbody>\n",
       "</table>\n",
       "</div>"
      ],
      "text/plain": [
       "      A1    A2      diff       stat              p          adj_p\n",
       "11  IALS    UU  0.197069   742693.5   0.000000e+00   0.000000e+00\n",
       "9   IALS    II  0.187799  1093013.0   0.000000e+00   0.000000e+00\n",
       "14   Pop    UU  0.136330   741299.0   0.000000e+00   0.000000e+00\n",
       "10  IALS   Pop  0.060739  6007570.5   5.787493e-79   8.681240e-78\n",
       "4    ALS    UU  0.036990  1307313.5  6.523763e-181  9.785644e-180\n",
       "2    ALS    II  0.027720  1567433.0  4.984826e-106  7.477239e-105\n",
       "8   Bias    UU  0.027099  1575356.5  3.631493e-140  5.447239e-139\n",
       "6   Bias    II  0.017828  2121727.5   6.842229e-54   1.026334e-52\n",
       "0    ALS  Bias  0.009892  2604513.5   1.853701e-05   2.780552e-04\n",
       "13    II    UU  0.009270  2057388.5   1.618495e-42   2.427743e-41\n",
       "3    ALS   Pop -0.099339  2382596.0   0.000000e+00   0.000000e+00\n",
       "7   Bias   Pop -0.109231  2308362.0   0.000000e+00   0.000000e+00\n",
       "12    II   Pop -0.127059  1485604.0   0.000000e+00   0.000000e+00\n",
       "1    ALS  IALS -0.160079  2097172.0   0.000000e+00   0.000000e+00\n",
       "5   Bias  IALS -0.169970  1953874.0   0.000000e+00   0.000000e+00"
      ]
     },
     "execution_count": 24,
     "metadata": {},
     "output_type": "execute_result"
    }
   ],
   "source": [
    "am_wilcox('recip_rank').sort_values('diff', ascending=False)"
   ]
  },
  {
   "cell_type": "markdown",
   "id": "14e1d514",
   "metadata": {
    "papermill": {
     "duration": 0.034997,
     "end_time": "2022-02-15T23:43:42.838271",
     "exception": false,
     "start_time": "2022-02-15T23:43:42.803274",
     "status": "completed"
    },
    "tags": []
   },
   "source": [
    "## Prediction RMSE\n",
    "\n",
    "We will also look at the prediction RMSE."
   ]
  },
  {
   "cell_type": "code",
   "execution_count": 25,
   "id": "0ee6ba12",
   "metadata": {
    "execution": {
     "iopub.execute_input": "2022-02-15T23:43:42.908911Z",
     "iopub.status.busy": "2022-02-15T23:43:42.908911Z",
     "iopub.status.idle": "2022-02-15T23:43:59.920856Z",
     "shell.execute_reply": "2022-02-15T23:43:59.920856Z"
    },
    "papermill": {
     "duration": 17.049801,
     "end_time": "2022-02-15T23:43:59.922703",
     "exception": false,
     "start_time": "2022-02-15T23:43:42.872902",
     "status": "completed"
    },
    "tags": []
   },
   "outputs": [],
   "source": [
    "user_rmse = preds.groupby(['algorithm', 'user']).apply(lambda df: rmse(df['prediction'], df['rating']))\n",
    "user_rmse = user_rmse.reset_index(name='RMSE')"
   ]
  },
  {
   "cell_type": "code",
   "execution_count": 26,
   "id": "cababe55",
   "metadata": {
    "execution": {
     "iopub.execute_input": "2022-02-15T23:43:59.990702Z",
     "iopub.status.busy": "2022-02-15T23:43:59.990702Z",
     "iopub.status.idle": "2022-02-15T23:44:00.439793Z",
     "shell.execute_reply": "2022-02-15T23:44:00.439793Z"
    },
    "papermill": {
     "duration": 0.48509,
     "end_time": "2022-02-15T23:44:00.441793",
     "exception": false,
     "start_time": "2022-02-15T23:43:59.956703",
     "status": "completed"
    },
    "tags": []
   },
   "outputs": [
    {
     "data": {
      "text/plain": [
       "<seaborn.axisgrid.FacetGrid at 0x2807d50cfa0>"
      ]
     },
     "execution_count": 26,
     "metadata": {},
     "output_type": "execute_result"
    },
    {
     "data": {
      "image/png": "[encoded data removed]",
      "text/plain": [
       "<Figure size 360x360 with 1 Axes>"
      ]
     },
     "metadata": {
      "needs_background": "light"
     },
     "output_type": "display_data"
    }
   ],
   "source": [
    "sns.catplot(x='algorithm', y='RMSE', data=user_rmse, kind='bar')"
   ]
  },
  {
   "cell_type": "code",
   "execution_count": null,
   "id": "07fcdfdf",
   "metadata": {
    "papermill": {
     "duration": 0.036996,
     "end_time": "2022-02-15T23:44:00.512787",
     "exception": false,
     "start_time": "2022-02-15T23:44:00.475791",
     "status": "completed"
    },
    "tags": []
   },
   "outputs": [],
   "source": []
  }
 ],
 "metadata": {
  "kernelspec": {
   "display_name": "Python 3 (ipykernel)",
   "language": "python",
   "name": "python3"
  },
  "language_info": {
   "codemirror_mode": {
    "name": "ipython",
    "version": 3
   },
   "file_extension": ".py",
   "mimetype": "text/x-python",
   "name": "python",
   "nbconvert_exporter": "python",
   "pygments_lexer": "ipython3",
   "version": "3.9.7"
  },
  "papermill": {
   "default_parameters": {},
   "duration": 32.406811,
   "end_time": "2022-02-15T23:44:00.784860",
   "environment_variables": {},
   "exception": null,
   "input_path": "eval-report.ipynb",
   "output_path": "eval-report.ml1m.ipynb",
   "parameters": {
    "dataset": "ml1m"
   },
   "start_time": "2022-02-15T23:43:28.378049",
   "version": "2.3.3"
  }
 },
 "nbformat": 4,
 "nbformat_minor": 5
}