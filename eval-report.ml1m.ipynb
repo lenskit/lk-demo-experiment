{
 "cells": [
  {
   "cell_type": "markdown",
   "id": "93740f9f",
   "metadata": {
    "papermill": {
     "duration": 0.0105,
     "end_time": "2024-12-19T15:15:50.257470",
     "exception": false,
     "start_time": "2024-12-19T15:15:50.246970",
     "status": "completed"
    },
    "tags": []
   },
   "source": [
    "# Evaluation Analysis for Recommender Output"
   ]
  },
  {
   "cell_type": "markdown",
   "id": "678b1137",
   "metadata": {
    "papermill": {
     "duration": 0.001124,
     "end_time": "2024-12-19T15:15:50.259866",
     "exception": false,
     "start_time": "2024-12-19T15:15:50.258742",
     "status": "completed"
    },
    "tags": []
   },
   "source": [
    "In this section we will analyze and compare the generated recommendations and predictions from a predefined list of algorithms with the goal of assessing the performance of each algorithm with respect to a metric. In other words, we would rank the algorithms for each metric considered with respect to performance."
   ]
  },
  {
   "cell_type": "markdown",
   "id": "e1501de5",
   "metadata": {
    "papermill": {
     "duration": 0.001039,
     "end_time": "2024-12-19T15:15:50.262000",
     "exception": false,
     "start_time": "2024-12-19T15:15:50.260961",
     "status": "completed"
    },
    "tags": []
   },
   "source": [
    "## Setup"
   ]
  },
  {
   "cell_type": "markdown",
   "id": "78e0ea5a",
   "metadata": {
    "papermill": {
     "duration": 0.001031,
     "end_time": "2024-12-19T15:15:50.264134",
     "exception": false,
     "start_time": "2024-12-19T15:15:50.263103",
     "status": "completed"
    },
    "tags": []
   },
   "source": [
    "Below are the list of packages required to successfully run the analysis. They are divided into partitions to signify their specific task.<br>\n",
    "We need the pathlib package for working with files and folders"
   ]
  },
  {
   "cell_type": "code",
   "execution_count": 1,
   "id": "aa9b9024",
   "metadata": {
    "execution": {
     "iopub.execute_input": "2024-12-19T15:15:50.267108Z",
     "iopub.status.busy": "2024-12-19T15:15:50.266942Z",
     "iopub.status.idle": "2024-12-19T15:15:50.269697Z",
     "shell.execute_reply": "2024-12-19T15:15:50.269360Z"
    },
    "papermill": {
     "duration": 0.005123,
     "end_time": "2024-12-19T15:15:50.270303",
     "exception": false,
     "start_time": "2024-12-19T15:15:50.265180",
     "status": "completed"
    },
    "tags": []
   },
   "outputs": [],
   "source": [
    "from pathlib import Path\n",
    "import json"
   ]
  },
  {
   "cell_type": "markdown",
   "id": "4a21d11d",
   "metadata": {
    "papermill": {
     "duration": 0.001068,
     "end_time": "2024-12-19T15:15:50.272504",
     "exception": false,
     "start_time": "2024-12-19T15:15:50.271436",
     "status": "completed"
    },
    "tags": []
   },
   "source": [
    "We would use the pandas for analyzing and manipulating our data while seaborn and matplotlib are used for data visualization. statsmodels.graphics.gofplots and scipy.stats.shapiro are used for normality check. Scipy.stats.friedmanchisquare is a non-parametric test used to determine the statistical significance in metric results and the wilcoxon test is used for pairwise comparison of sample data."
   ]
  },
  {
   "cell_type": "code",
   "execution_count": 2,
   "id": "a72bade7",
   "metadata": {
    "execution": {
     "iopub.execute_input": "2024-12-19T15:15:50.275110Z",
     "iopub.status.busy": "2024-12-19T15:15:50.275001Z",
     "iopub.status.idle": "2024-12-19T15:15:50.727825Z",
     "shell.execute_reply": "2024-12-19T15:15:50.727449Z"
    },
    "lines_to_next_cell": 2,
    "papermill": {
     "duration": 0.455008,
     "end_time": "2024-12-19T15:15:50.728632",
     "exception": false,
     "start_time": "2024-12-19T15:15:50.273624",
     "status": "completed"
    },
    "tags": []
   },
   "outputs": [],
   "source": [
    "import pandas as pd\n",
    "import seaborn as sns\n",
    "import matplotlib.pyplot as plt\n",
    "from statsmodels.graphics.gofplots import qqplot\n",
    "from scipy.stats import shapiro\n",
    "from scipy.stats import friedmanchisquare, wilcoxon\n",
    "from itertools import combinations"
   ]
  },
  {
   "cell_type": "markdown",
   "id": "e3a36d16",
   "metadata": {
    "papermill": {
     "duration": 0.009008,
     "end_time": "2024-12-19T15:15:50.739052",
     "exception": false,
     "start_time": "2024-12-19T15:15:50.730044",
     "status": "completed"
    },
    "tags": []
   },
   "source": [
    "Import the LensKit metrics for analysis:"
   ]
  },
  {
   "cell_type": "code",
   "execution_count": 3,
   "id": "14187914",
   "metadata": {
    "execution": {
     "iopub.execute_input": "2024-12-19T15:15:50.741868Z",
     "iopub.status.busy": "2024-12-19T15:15:50.741745Z",
     "iopub.status.idle": "2024-12-19T15:15:51.347868Z",
     "shell.execute_reply": "2024-12-19T15:15:51.347351Z"
    },
    "papermill": {
     "duration": 0.608398,
     "end_time": "2024-12-19T15:15:51.348659",
     "exception": false,
     "start_time": "2024-12-19T15:15:50.740261",
     "status": "completed"
    },
    "tags": []
   },
   "outputs": [],
   "source": [
    "from lenskit.data import ItemListCollection, UserIDKey\n",
    "from lenskit.metrics import RunAnalysis, RMSE, NDCG, RecipRank, RBP"
   ]
  },
  {
   "cell_type": "markdown",
   "id": "8a2f1201",
   "metadata": {
    "papermill": {
     "duration": 0.009096,
     "end_time": "2024-12-19T15:15:51.359170",
     "exception": false,
     "start_time": "2024-12-19T15:15:51.350074",
     "status": "completed"
    },
    "tags": []
   },
   "source": [
    "## Load Data\n",
    "\n",
    "The recommendations are in `runs`, and we will need to reassemble the test data from `test`."
   ]
  },
  {
   "cell_type": "code",
   "execution_count": 4,
   "id": "322018fa",
   "metadata": {
    "execution": {
     "iopub.execute_input": "2024-12-19T15:15:51.362316Z",
     "iopub.status.busy": "2024-12-19T15:15:51.362217Z",
     "iopub.status.idle": "2024-12-19T15:15:51.364297Z",
     "shell.execute_reply": "2024-12-19T15:15:51.363910Z"
    },
    "papermill": {
     "duration": 0.004431,
     "end_time": "2024-12-19T15:15:51.364868",
     "exception": false,
     "start_time": "2024-12-19T15:15:51.360437",
     "status": "completed"
    },
    "tags": [
     "parameters"
    ]
   },
   "outputs": [],
   "source": [
    "dataset = \"ml100k\""
   ]
  },
  {
   "cell_type": "code",
   "execution_count": 5,
   "id": "84376cea",
   "metadata": {
    "execution": {
     "iopub.execute_input": "2024-12-19T15:15:51.367583Z",
     "iopub.status.busy": "2024-12-19T15:15:51.367509Z",
     "iopub.status.idle": "2024-12-19T15:15:51.369113Z",
     "shell.execute_reply": "2024-12-19T15:15:51.368852Z"
    },
    "papermill": {
     "duration": 0.003483,
     "end_time": "2024-12-19T15:15:51.369542",
     "exception": false,
     "start_time": "2024-12-19T15:15:51.366059",
     "status": "completed"
    },
    "tags": [
     "injected-parameters"
    ]
   },
   "outputs": [],
   "source": [
    "# Parameters\n",
    "dataset = \"ml1m\"\n"
   ]
  },
  {
   "cell_type": "code",
   "execution_count": 6,
   "id": "bcc16ac2",
   "metadata": {
    "execution": {
     "iopub.execute_input": "2024-12-19T15:15:51.372651Z",
     "iopub.status.busy": "2024-12-19T15:15:51.372559Z",
     "iopub.status.idle": "2024-12-19T15:15:51.373838Z",
     "shell.execute_reply": "2024-12-19T15:15:51.373707Z"
    },
    "papermill": {
     "duration": 0.00351,
     "end_time": "2024-12-19T15:15:51.374271",
     "exception": false,
     "start_time": "2024-12-19T15:15:51.370761",
     "status": "completed"
    },
    "tags": []
   },
   "outputs": [],
   "source": [
    "output_root = Path(\"runs\")"
   ]
  },
  {
   "cell_type": "code",
   "execution_count": 7,
   "id": "ceb1ee76",
   "metadata": {
    "execution": {
     "iopub.execute_input": "2024-12-19T15:15:51.376771Z",
     "iopub.status.busy": "2024-12-19T15:15:51.376705Z",
     "iopub.status.idle": "2024-12-19T15:15:51.378229Z",
     "shell.execute_reply": "2024-12-19T15:15:51.378090Z"
    },
    "papermill": {
     "duration": 0.003161,
     "end_time": "2024-12-19T15:15:51.378590",
     "exception": false,
     "start_time": "2024-12-19T15:15:51.375429",
     "status": "completed"
    },
    "tags": []
   },
   "outputs": [],
   "source": [
    "dirs = [fld for fld in output_root.glob(f'{dataset}-*')]"
   ]
  },
  {
   "cell_type": "code",
   "execution_count": 8,
   "id": "ba136ca4",
   "metadata": {
    "execution": {
     "iopub.execute_input": "2024-12-19T15:15:51.381142Z",
     "iopub.status.busy": "2024-12-19T15:15:51.381076Z",
     "iopub.status.idle": "2024-12-19T15:15:52.163510Z",
     "shell.execute_reply": "2024-12-19T15:15:52.163069Z"
    },
    "papermill": {
     "duration": 0.784564,
     "end_time": "2024-12-19T15:15:52.164296",
     "exception": false,
     "start_time": "2024-12-19T15:15:51.379732",
     "status": "completed"
    },
    "tags": []
   },
   "outputs": [],
   "source": [
    "recs = ItemListCollection(['model', 'user_id'], index=False)\n",
    "for fld in dirs:\n",
    "    for file in fld.glob(\"recs-*\"):\n",
    "        rec = ItemListCollection.load_parquet(file)\n",
    "        recs.add_from(rec, model=fld.name.split(\"-\")[1])"
   ]
  },
  {
   "cell_type": "code",
   "execution_count": 9,
   "id": "0a0716f7",
   "metadata": {
    "execution": {
     "iopub.execute_input": "2024-12-19T15:15:52.167645Z",
     "iopub.status.busy": "2024-12-19T15:15:52.167524Z",
     "iopub.status.idle": "2024-12-19T15:15:52.173423Z",
     "shell.execute_reply": "2024-12-19T15:15:52.173244Z"
    },
    "papermill": {
     "duration": 0.008279,
     "end_time": "2024-12-19T15:15:52.174010",
     "exception": false,
     "start_time": "2024-12-19T15:15:52.165731",
     "status": "completed"
    },
    "tags": []
   },
   "outputs": [
    {
     "data": {
      "text/plain": [
       "['ALS', 'Bias', 'IALS', 'IIE', 'III', 'Pop', 'UUE']"
      ]
     },
     "execution_count": 9,
     "metadata": {},
     "output_type": "execute_result"
    }
   ],
   "source": [
    "rec_algos = sorted(set(a for (a, _u) in recs.keys()))\n",
    "rec_algos"
   ]
  },
  {
   "cell_type": "code",
   "execution_count": 10,
   "id": "71d6c2ed",
   "metadata": {
    "execution": {
     "iopub.execute_input": "2024-12-19T15:15:52.177012Z",
     "iopub.status.busy": "2024-12-19T15:15:52.176935Z",
     "iopub.status.idle": "2024-12-19T15:15:52.886572Z",
     "shell.execute_reply": "2024-12-19T15:15:52.886121Z"
    },
    "papermill": {
     "duration": 0.712093,
     "end_time": "2024-12-19T15:15:52.887418",
     "exception": false,
     "start_time": "2024-12-19T15:15:52.175325",
     "status": "completed"
    },
    "tags": []
   },
   "outputs": [],
   "source": [
    "preds = ItemListCollection(['model', 'user_id'], index=False)\n",
    "for fld in dirs:\n",
    "    for file in fld.glob(\"pred-*\"):\n",
    "        pred = ItemListCollection.load_parquet(file)\n",
    "        preds.add_from(pred, model=fld.name.split(\"-\")[1])"
   ]
  },
  {
   "cell_type": "markdown",
   "id": "c1ffa3a5",
   "metadata": {
    "papermill": {
     "duration": 0.001252,
     "end_time": "2024-12-19T15:15:52.890139",
     "exception": false,
     "start_time": "2024-12-19T15:15:52.888887",
     "status": "completed"
    },
    "tags": []
   },
   "source": [
    "We need to load the test data so that we have the ground truths for computing accuracy"
   ]
  },
  {
   "cell_type": "code",
   "execution_count": 11,
   "id": "131e4d84",
   "metadata": {
    "execution": {
     "iopub.execute_input": "2024-12-19T15:15:52.893525Z",
     "iopub.status.busy": "2024-12-19T15:15:52.893434Z",
     "iopub.status.idle": "2024-12-19T15:15:52.895439Z",
     "shell.execute_reply": "2024-12-19T15:15:52.895022Z"
    },
    "papermill": {
     "duration": 0.004346,
     "end_time": "2024-12-19T15:15:52.895817",
     "exception": false,
     "start_time": "2024-12-19T15:15:52.891471",
     "status": "completed"
    },
    "tags": []
   },
   "outputs": [],
   "source": [
    "split_root = Path(\"data-split\")\n",
    "split_dir = split_root / dataset"
   ]
  },
  {
   "cell_type": "code",
   "execution_count": 12,
   "id": "c38bfbfc",
   "metadata": {
    "execution": {
     "iopub.execute_input": "2024-12-19T15:15:52.898663Z",
     "iopub.status.busy": "2024-12-19T15:15:52.898588Z",
     "iopub.status.idle": "2024-12-19T15:15:53.141153Z",
     "shell.execute_reply": "2024-12-19T15:15:53.140745Z"
    },
    "papermill": {
     "duration": 0.244902,
     "end_time": "2024-12-19T15:15:53.141995",
     "exception": false,
     "start_time": "2024-12-19T15:15:52.897093",
     "status": "completed"
    },
    "tags": []
   },
   "outputs": [],
   "source": [
    "test = ItemListCollection(UserIDKey)\n",
    "for file in split_dir.glob(\"test-*.parquet\"):\n",
    "    df = pd.read_parquet(file)\n",
    "    part = ItemListCollection.from_df(df, UserIDKey)\n",
    "    test.add_from(part)"
   ]
  },
  {
   "cell_type": "markdown",
   "id": "d33a9869",
   "metadata": {
    "papermill": {
     "duration": 0.001218,
     "end_time": "2024-12-19T15:15:53.144694",
     "exception": false,
     "start_time": "2024-12-19T15:15:53.143476",
     "status": "completed"
    },
    "tags": []
   },
   "source": [
    "## Top-N Metrics\n",
    "\n",
    "`RunListAnalysis` computes metrics for recommendation results and takes care of\n",
    "matching recommendations and ground truth."
   ]
  },
  {
   "cell_type": "code",
   "execution_count": 13,
   "id": "d648b629",
   "metadata": {
    "execution": {
     "iopub.execute_input": "2024-12-19T15:15:53.147726Z",
     "iopub.status.busy": "2024-12-19T15:15:53.147643Z",
     "iopub.status.idle": "2024-12-19T15:15:55.839767Z",
     "shell.execute_reply": "2024-12-19T15:15:55.839606Z"
    },
    "papermill": {
     "duration": 2.694249,
     "end_time": "2024-12-19T15:15:55.840222",
     "exception": false,
     "start_time": "2024-12-19T15:15:53.145973",
     "status": "completed"
    },
    "tags": []
   },
   "outputs": [
    {
     "name": "stderr",
     "output_type": "stream",
     "text": [
      "/home/mde48/lenskit/lkpy/lenskit/lenskit/metrics/bulk.py:121: FutureWarning: The previous implementation of stack is deprecated and will be removed in a future version of pandas. See the What's New notes for pandas 2.1.0 for details. Specify future_stack=True to adopt the new implementation and silence this warning.\n",
      "  df = scores.groupby(list(keys)).agg([\"mean\", \"median\", \"std\"]).stack(level=0)\n"
     ]
    },
    {
     "data": {
      "text/html": [
       "<div>\n",
       "<style scoped>\n",
       "    .dataframe tbody tr th:only-of-type {\n",
       "        vertical-align: middle;\n",
       "    }\n",
       "\n",
       "    .dataframe tbody tr th {\n",
       "        vertical-align: top;\n",
       "    }\n",
       "\n",
       "    .dataframe thead th {\n",
       "        text-align: right;\n",
       "    }\n",
       "</style>\n",
       "<table border=\"1\" class=\"dataframe\">\n",
       "  <thead>\n",
       "    <tr style=\"text-align: right;\">\n",
       "      <th></th>\n",
       "      <th></th>\n",
       "      <th>mean</th>\n",
       "      <th>median</th>\n",
       "      <th>std</th>\n",
       "    </tr>\n",
       "    <tr>\n",
       "      <th>model</th>\n",
       "      <th></th>\n",
       "      <th></th>\n",
       "      <th></th>\n",
       "      <th></th>\n",
       "    </tr>\n",
       "  </thead>\n",
       "  <tbody>\n",
       "    <tr>\n",
       "      <th rowspan=\"3\" valign=\"top\">ALS</th>\n",
       "      <th>NDCG</th>\n",
       "      <td>0.054589</td>\n",
       "      <td>4.254180e-02</td>\n",
       "      <td>0.081139</td>\n",
       "    </tr>\n",
       "    <tr>\n",
       "      <th>RBP</th>\n",
       "      <td>0.017554</td>\n",
       "      <td>6.310887e-30</td>\n",
       "      <td>0.080965</td>\n",
       "    </tr>\n",
       "    <tr>\n",
       "      <th>RecipRank</th>\n",
       "      <td>0.057287</td>\n",
       "      <td>1.030928e-02</td>\n",
       "      <td>0.159843</td>\n",
       "    </tr>\n",
       "    <tr>\n",
       "      <th rowspan=\"3\" valign=\"top\">Bias</th>\n",
       "      <th>NDCG</th>\n",
       "      <td>0.051140</td>\n",
       "      <td>0.000000e+00</td>\n",
       "      <td>0.074195</td>\n",
       "    </tr>\n",
       "    <tr>\n",
       "      <th>RBP</th>\n",
       "      <td>0.011416</td>\n",
       "      <td>0.000000e+00</td>\n",
       "      <td>0.056560</td>\n",
       "    </tr>\n",
       "    <tr>\n",
       "      <th>RecipRank</th>\n",
       "      <td>0.046661</td>\n",
       "      <td>0.000000e+00</td>\n",
       "      <td>0.118922</td>\n",
       "    </tr>\n",
       "    <tr>\n",
       "      <th rowspan=\"3\" valign=\"top\">IALS</th>\n",
       "      <th>NDCG</th>\n",
       "      <td>0.231528</td>\n",
       "      <td>1.985044e-01</td>\n",
       "      <td>0.154456</td>\n",
       "    </tr>\n",
       "    <tr>\n",
       "      <th>RBP</th>\n",
       "      <td>0.086681</td>\n",
       "      <td>4.959107e-04</td>\n",
       "      <td>0.171649</td>\n",
       "    </tr>\n",
       "    <tr>\n",
       "      <th>RecipRank</th>\n",
       "      <td>0.215743</td>\n",
       "      <td>9.090909e-02</td>\n",
       "      <td>0.286158</td>\n",
       "    </tr>\n",
       "    <tr>\n",
       "      <th rowspan=\"3\" valign=\"top\">IIE</th>\n",
       "      <th>NDCG</th>\n",
       "      <td>0.038817</td>\n",
       "      <td>0.000000e+00</td>\n",
       "      <td>0.057927</td>\n",
       "    </tr>\n",
       "    <tr>\n",
       "      <th>RBP</th>\n",
       "      <td>0.004410</td>\n",
       "      <td>0.000000e+00</td>\n",
       "      <td>0.036557</td>\n",
       "    </tr>\n",
       "    <tr>\n",
       "      <th>RecipRank</th>\n",
       "      <td>0.027254</td>\n",
       "      <td>0.000000e+00</td>\n",
       "      <td>0.079880</td>\n",
       "    </tr>\n",
       "    <tr>\n",
       "      <th rowspan=\"3\" valign=\"top\">III</th>\n",
       "      <th>NDCG</th>\n",
       "      <td>0.190297</td>\n",
       "      <td>1.466250e-01</td>\n",
       "      <td>0.159578</td>\n",
       "    </tr>\n",
       "    <tr>\n",
       "      <th>RBP</th>\n",
       "      <td>0.113569</td>\n",
       "      <td>2.441406e-04</td>\n",
       "      <td>0.200111</td>\n",
       "    </tr>\n",
       "    <tr>\n",
       "      <th>RecipRank</th>\n",
       "      <td>0.253246</td>\n",
       "      <td>8.333333e-02</td>\n",
       "      <td>0.339992</td>\n",
       "    </tr>\n",
       "    <tr>\n",
       "      <th rowspan=\"3\" valign=\"top\">Pop</th>\n",
       "      <th>NDCG</th>\n",
       "      <td>0.128726</td>\n",
       "      <td>9.538786e-02</td>\n",
       "      <td>0.125925</td>\n",
       "    </tr>\n",
       "    <tr>\n",
       "      <th>RBP</th>\n",
       "      <td>0.056643</td>\n",
       "      <td>1.192093e-07</td>\n",
       "      <td>0.141211</td>\n",
       "    </tr>\n",
       "    <tr>\n",
       "      <th>RecipRank</th>\n",
       "      <td>0.149781</td>\n",
       "      <td>4.347826e-02</td>\n",
       "      <td>0.258971</td>\n",
       "    </tr>\n",
       "    <tr>\n",
       "      <th rowspan=\"3\" valign=\"top\">UUE</th>\n",
       "      <th>NDCG</th>\n",
       "      <td>0.031288</td>\n",
       "      <td>0.000000e+00</td>\n",
       "      <td>0.044110</td>\n",
       "    </tr>\n",
       "    <tr>\n",
       "      <th>RBP</th>\n",
       "      <td>0.001108</td>\n",
       "      <td>0.000000e+00</td>\n",
       "      <td>0.012447</td>\n",
       "    </tr>\n",
       "    <tr>\n",
       "      <th>RecipRank</th>\n",
       "      <td>0.016615</td>\n",
       "      <td>0.000000e+00</td>\n",
       "      <td>0.039211</td>\n",
       "    </tr>\n",
       "  </tbody>\n",
       "</table>\n",
       "</div>"
      ],
      "text/plain": [
       "                     mean        median       std\n",
       "model                                            \n",
       "ALS   NDCG       0.054589  4.254180e-02  0.081139\n",
       "      RBP        0.017554  6.310887e-30  0.080965\n",
       "      RecipRank  0.057287  1.030928e-02  0.159843\n",
       "Bias  NDCG       0.051140  0.000000e+00  0.074195\n",
       "      RBP        0.011416  0.000000e+00  0.056560\n",
       "      RecipRank  0.046661  0.000000e+00  0.118922\n",
       "IALS  NDCG       0.231528  1.985044e-01  0.154456\n",
       "      RBP        0.086681  4.959107e-04  0.171649\n",
       "      RecipRank  0.215743  9.090909e-02  0.286158\n",
       "IIE   NDCG       0.038817  0.000000e+00  0.057927\n",
       "      RBP        0.004410  0.000000e+00  0.036557\n",
       "      RecipRank  0.027254  0.000000e+00  0.079880\n",
       "III   NDCG       0.190297  1.466250e-01  0.159578\n",
       "      RBP        0.113569  2.441406e-04  0.200111\n",
       "      RecipRank  0.253246  8.333333e-02  0.339992\n",
       "Pop   NDCG       0.128726  9.538786e-02  0.125925\n",
       "      RBP        0.056643  1.192093e-07  0.141211\n",
       "      RecipRank  0.149781  4.347826e-02  0.258971\n",
       "UUE   NDCG       0.031288  0.000000e+00  0.044110\n",
       "      RBP        0.001108  0.000000e+00  0.012447\n",
       "      RecipRank  0.016615  0.000000e+00  0.039211"
      ]
     },
     "execution_count": 13,
     "metadata": {},
     "output_type": "execute_result"
    }
   ],
   "source": [
    "ra = RunAnalysis()\n",
    "\n",
    "ra.add_metric(NDCG())\n",
    "ra.add_metric(RecipRank())\n",
    "ra.add_metric(RBP())\n",
    "\n",
    "rec_results = ra.compute(recs, test)\n",
    "rec_results.list_summary('model')"
   ]
  },
  {
   "cell_type": "markdown",
   "id": "f8842c48",
   "metadata": {
    "papermill": {
     "duration": 0.001503,
     "end_time": "2024-12-19T15:15:55.843347",
     "exception": false,
     "start_time": "2024-12-19T15:15:55.841844",
     "status": "completed"
    },
    "tags": []
   },
   "source": [
    "We can reshape the list metrics and plot them:"
   ]
  },
  {
   "cell_type": "code",
   "execution_count": 14,
   "id": "11308253",
   "metadata": {
    "execution": {
     "iopub.execute_input": "2024-12-19T15:15:55.846567Z",
     "iopub.status.busy": "2024-12-19T15:15:55.846485Z",
     "iopub.status.idle": "2024-12-19T15:15:56.481661Z",
     "shell.execute_reply": "2024-12-19T15:15:56.481401Z"
    },
    "papermill": {
     "duration": 0.637518,
     "end_time": "2024-12-19T15:15:56.482234",
     "exception": false,
     "start_time": "2024-12-19T15:15:55.844716",
     "status": "completed"
    },
    "tags": []
   },
   "outputs": [
    {
     "data": {
      "image/png": "[encoded data removed]",
      "text/plain": [
       "<Figure size 1511.11x500 with 3 Axes>"
      ]
     },
     "metadata": {},
     "output_type": "display_data"
    }
   ],
   "source": [
    "metrics = rec_results.list_metrics()\n",
    "metrics = metrics.melt(var_name='metric', ignore_index=False).reset_index()\n",
    "sns.catplot(metrics, x='model', y='value', col='metric', kind='bar')\n",
    "plt.show()"
   ]
  },
  {
   "cell_type": "markdown",
   "id": "ed2b7ce3",
   "metadata": {
    "papermill": {
     "duration": 0.001548,
     "end_time": "2024-12-19T15:15:56.485514",
     "exception": false,
     "start_time": "2024-12-19T15:15:56.483966",
     "status": "completed"
    },
    "tags": []
   },
   "source": [
    "## Prediction RMSE\n",
    "\n",
    "We will also look at the prediction RMSE."
   ]
  },
  {
   "cell_type": "code",
   "execution_count": 15,
   "id": "fb241eec",
   "metadata": {
    "execution": {
     "iopub.execute_input": "2024-12-19T15:15:56.488965Z",
     "iopub.status.busy": "2024-12-19T15:15:56.488863Z",
     "iopub.status.idle": "2024-12-19T15:16:00.026746Z",
     "shell.execute_reply": "2024-12-19T15:16:00.026443Z"
    },
    "papermill": {
     "duration": 3.540275,
     "end_time": "2024-12-19T15:16:00.027270",
     "exception": false,
     "start_time": "2024-12-19T15:15:56.486995",
     "status": "completed"
    },
    "tags": []
   },
   "outputs": [
    {
     "name": "stderr",
     "output_type": "stream",
     "text": [
      "/home/mde48/lenskit/lkpy/lenskit/lenskit/metrics/bulk.py:121: FutureWarning: The previous implementation of stack is deprecated and will be removed in a future version of pandas. See the What's New notes for pandas 2.1.0 for details. Specify future_stack=True to adopt the new implementation and silence this warning.\n",
      "  df = scores.groupby(list(keys)).agg([\"mean\", \"median\", \"std\"]).stack(level=0)\n"
     ]
    },
    {
     "data": {
      "text/html": [
       "<div>\n",
       "<style scoped>\n",
       "    .dataframe tbody tr th:only-of-type {\n",
       "        vertical-align: middle;\n",
       "    }\n",
       "\n",
       "    .dataframe tbody tr th {\n",
       "        vertical-align: top;\n",
       "    }\n",
       "\n",
       "    .dataframe thead th {\n",
       "        text-align: right;\n",
       "    }\n",
       "</style>\n",
       "<table border=\"1\" class=\"dataframe\">\n",
       "  <thead>\n",
       "    <tr style=\"text-align: right;\">\n",
       "      <th></th>\n",
       "      <th></th>\n",
       "      <th>mean</th>\n",
       "      <th>median</th>\n",
       "      <th>std</th>\n",
       "    </tr>\n",
       "    <tr>\n",
       "      <th>model</th>\n",
       "      <th></th>\n",
       "      <th></th>\n",
       "      <th></th>\n",
       "      <th></th>\n",
       "    </tr>\n",
       "  </thead>\n",
       "  <tbody>\n",
       "    <tr>\n",
       "      <th>ALS</th>\n",
       "      <th>RMSE</th>\n",
       "      <td>0.824278</td>\n",
       "      <td>0.783634</td>\n",
       "      <td>0.318664</td>\n",
       "    </tr>\n",
       "    <tr>\n",
       "      <th>Bias</th>\n",
       "      <th>RMSE</th>\n",
       "      <td>0.865571</td>\n",
       "      <td>0.816323</td>\n",
       "      <td>0.328988</td>\n",
       "    </tr>\n",
       "    <tr>\n",
       "      <th>IIE</th>\n",
       "      <th>RMSE</th>\n",
       "      <td>0.814396</td>\n",
       "      <td>0.771670</td>\n",
       "      <td>0.317325</td>\n",
       "    </tr>\n",
       "    <tr>\n",
       "      <th>UUE</th>\n",
       "      <th>RMSE</th>\n",
       "      <td>0.851926</td>\n",
       "      <td>0.808180</td>\n",
       "      <td>0.335587</td>\n",
       "    </tr>\n",
       "  </tbody>\n",
       "</table>\n",
       "</div>"
      ],
      "text/plain": [
       "                mean    median       std\n",
       "model                                   \n",
       "ALS   RMSE  0.824278  0.783634  0.318664\n",
       "Bias  RMSE  0.865571  0.816323  0.328988\n",
       "IIE   RMSE  0.814396  0.771670  0.317325\n",
       "UUE   RMSE  0.851926  0.808180  0.335587"
      ]
     },
     "execution_count": 15,
     "metadata": {},
     "output_type": "execute_result"
    }
   ],
   "source": [
    "pa = RunAnalysis()\n",
    "\n",
    "pa.add_metric(RMSE(missing_scores='ignore', missing_truth='ignore'))\n",
    "\n",
    "pred_results = pa.compute(preds, test)\n",
    "pred_results.list_summary('model')"
   ]
  },
  {
   "cell_type": "code",
   "execution_count": 16,
   "id": "92a98510",
   "metadata": {
    "execution": {
     "iopub.execute_input": "2024-12-19T15:16:00.038484Z",
     "iopub.status.busy": "2024-12-19T15:16:00.038405Z",
     "iopub.status.idle": "2024-12-19T15:16:00.164667Z",
     "shell.execute_reply": "2024-12-19T15:16:00.164436Z"
    },
    "papermill": {
     "duration": 0.136309,
     "end_time": "2024-12-19T15:16:00.165313",
     "exception": false,
     "start_time": "2024-12-19T15:16:00.029004",
     "status": "completed"
    },
    "tags": []
   },
   "outputs": [
    {
     "data": {
      "image/png": "[encoded data removed]",
      "text/plain": [
       "<Figure size 511.111x500 with 1 Axes>"
      ]
     },
     "metadata": {},
     "output_type": "display_data"
    }
   ],
   "source": [
    "sns.catplot(pred_results.list_metrics().reset_index(), x='model', y='RMSE', kind='bar')\n",
    "plt.show()"
   ]
  },
  {
   "cell_type": "markdown",
   "id": "c9a309d6",
   "metadata": {
    "papermill": {
     "duration": 0.008972,
     "end_time": "2024-12-19T15:16:00.177604",
     "exception": false,
     "start_time": "2024-12-19T15:16:00.168632",
     "status": "completed"
    },
    "tags": []
   },
   "source": [
    "## Save Metrics\n",
    "\n",
    "We'll now save the metrics to a file."
   ]
  },
  {
   "cell_type": "code",
   "execution_count": 17,
   "id": "68b047dc",
   "metadata": {
    "execution": {
     "iopub.execute_input": "2024-12-19T15:16:00.181138Z",
     "iopub.status.busy": "2024-12-19T15:16:00.181056Z",
     "iopub.status.idle": "2024-12-19T15:16:00.190152Z",
     "shell.execute_reply": "2024-12-19T15:16:00.190010Z"
    },
    "papermill": {
     "duration": 0.011291,
     "end_time": "2024-12-19T15:16:00.190465",
     "exception": false,
     "start_time": "2024-12-19T15:16:00.179174",
     "status": "completed"
    },
    "tags": []
   },
   "outputs": [
    {
     "name": "stderr",
     "output_type": "stream",
     "text": [
      "/home/mde48/lenskit/lkpy/lenskit/lenskit/metrics/bulk.py:121: FutureWarning: The previous implementation of stack is deprecated and will be removed in a future version of pandas. See the What's New notes for pandas 2.1.0 for details. Specify future_stack=True to adopt the new implementation and silence this warning.\n",
      "  df = scores.groupby(list(keys)).agg([\"mean\", \"median\", \"std\"]).stack(level=0)\n"
     ]
    },
    {
     "data": {
      "text/html": [
       "<div>\n",
       "<style scoped>\n",
       "    .dataframe tbody tr th:only-of-type {\n",
       "        vertical-align: middle;\n",
       "    }\n",
       "\n",
       "    .dataframe tbody tr th {\n",
       "        vertical-align: top;\n",
       "    }\n",
       "\n",
       "    .dataframe thead th {\n",
       "        text-align: right;\n",
       "    }\n",
       "</style>\n",
       "<table border=\"1\" class=\"dataframe\">\n",
       "  <thead>\n",
       "    <tr style=\"text-align: right;\">\n",
       "      <th></th>\n",
       "      <th>NDCG</th>\n",
       "      <th>RBP</th>\n",
       "      <th>RecipRank</th>\n",
       "    </tr>\n",
       "    <tr>\n",
       "      <th>model</th>\n",
       "      <th></th>\n",
       "      <th></th>\n",
       "      <th></th>\n",
       "    </tr>\n",
       "  </thead>\n",
       "  <tbody>\n",
       "    <tr>\n",
       "      <th>ALS</th>\n",
       "      <td>0.054589</td>\n",
       "      <td>0.017554</td>\n",
       "      <td>0.057287</td>\n",
       "    </tr>\n",
       "    <tr>\n",
       "      <th>Bias</th>\n",
       "      <td>0.051140</td>\n",
       "      <td>0.011416</td>\n",
       "      <td>0.046661</td>\n",
       "    </tr>\n",
       "    <tr>\n",
       "      <th>IALS</th>\n",
       "      <td>0.231528</td>\n",
       "      <td>0.086681</td>\n",
       "      <td>0.215743</td>\n",
       "    </tr>\n",
       "    <tr>\n",
       "      <th>IIE</th>\n",
       "      <td>0.038817</td>\n",
       "      <td>0.004410</td>\n",
       "      <td>0.027254</td>\n",
       "    </tr>\n",
       "    <tr>\n",
       "      <th>III</th>\n",
       "      <td>0.190297</td>\n",
       "      <td>0.113569</td>\n",
       "      <td>0.253246</td>\n",
       "    </tr>\n",
       "    <tr>\n",
       "      <th>Pop</th>\n",
       "      <td>0.128726</td>\n",
       "      <td>0.056643</td>\n",
       "      <td>0.149781</td>\n",
       "    </tr>\n",
       "    <tr>\n",
       "      <th>UUE</th>\n",
       "      <td>0.031288</td>\n",
       "      <td>0.001108</td>\n",
       "      <td>0.016615</td>\n",
       "    </tr>\n",
       "  </tbody>\n",
       "</table>\n",
       "</div>"
      ],
      "text/plain": [
       "           NDCG       RBP  RecipRank\n",
       "model                               \n",
       "ALS    0.054589  0.017554   0.057287\n",
       "Bias   0.051140  0.011416   0.046661\n",
       "IALS   0.231528  0.086681   0.215743\n",
       "IIE    0.038817  0.004410   0.027254\n",
       "III    0.190297  0.113569   0.253246\n",
       "Pop    0.128726  0.056643   0.149781\n",
       "UUE    0.031288  0.001108   0.016615"
      ]
     },
     "execution_count": 17,
     "metadata": {},
     "output_type": "execute_result"
    }
   ],
   "source": [
    "rlsum = rec_results.list_summary('model')['mean'].unstack()\n",
    "rlsum"
   ]
  },
  {
   "cell_type": "code",
   "execution_count": 18,
   "id": "5582d5d8",
   "metadata": {
    "execution": {
     "iopub.execute_input": "2024-12-19T15:16:00.194032Z",
     "iopub.status.busy": "2024-12-19T15:16:00.193956Z",
     "iopub.status.idle": "2024-12-19T15:16:00.195739Z",
     "shell.execute_reply": "2024-12-19T15:16:00.195592Z"
    },
    "papermill": {
     "duration": 0.004016,
     "end_time": "2024-12-19T15:16:00.196093",
     "exception": false,
     "start_time": "2024-12-19T15:16:00.192077",
     "status": "completed"
    },
    "tags": []
   },
   "outputs": [],
   "source": [
    "rlsum.to_json(f'eval-metrics.{dataset}.json', orient='index')"
   ]
  }
 ],
 "metadata": {
  "jupytext": {
   "formats": "ipynb,md",
   "notebook_metadata_filter": "split_at_heading"
  },
  "kernelspec": {
   "display_name": "Python 3 (ipykernel)",
   "language": "python",
   "name": "python3"
  },
  "language_info": {
   "codemirror_mode": {
    "name": "ipython",
    "version": 3
   },
   "file_extension": ".py",
   "mimetype": "text/x-python",
   "name": "python",
   "nbconvert_exporter": "python",
   "pygments_lexer": "ipython3",
   "version": "3.12.8"
  },
  "papermill": {
   "default_parameters": {},
   "duration": 11.149778,
   "end_time": "2024-12-19T15:16:00.711897",
   "environment_variables": {},
   "exception": null,
   "input_path": "eval-report.ipynb",
   "output_path": "eval-report.ml1m.ipynb",
   "parameters": {
    "dataset": "ml1m"
   },
   "start_time": "2024-12-19T15:15:49.562119",
   "version": "2.6.0"
  },
  "split_at_heading": true
 },
 "nbformat": 4,
 "nbformat_minor": 5
}