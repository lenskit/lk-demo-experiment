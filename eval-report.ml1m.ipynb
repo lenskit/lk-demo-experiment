{
 "cells": [
  {
   "cell_type": "markdown",
   "id": "7291eba0",
   "metadata": {
    "papermill": {
     "duration": 0.010424,
     "end_time": "2024-12-14T20:47:52.227938",
     "exception": false,
     "start_time": "2024-12-14T20:47:52.217514",
     "status": "completed"
    },
    "tags": []
   },
   "source": [
    "# Evaluation Analysis for Recommender Output"
   ]
  },
  {
   "cell_type": "markdown",
   "id": "872010be",
   "metadata": {
    "papermill": {
     "duration": 0.001079,
     "end_time": "2024-12-14T20:47:52.230305",
     "exception": false,
     "start_time": "2024-12-14T20:47:52.229226",
     "status": "completed"
    },
    "tags": []
   },
   "source": [
    "In this section we will analyze and compare the generated recommendations and predictions from a predefined list of algorithms with the goal of assessing the performance of each algorithm with respect to a metric. In other words, we would rank the algorithms for each metric considered with respect to performance."
   ]
  },
  {
   "cell_type": "markdown",
   "id": "aaaf15df",
   "metadata": {
    "papermill": {
     "duration": 0.001047,
     "end_time": "2024-12-14T20:47:52.232500",
     "exception": false,
     "start_time": "2024-12-14T20:47:52.231453",
     "status": "completed"
    },
    "tags": []
   },
   "source": [
    "## Setup"
   ]
  },
  {
   "cell_type": "markdown",
   "id": "8684b9cf",
   "metadata": {
    "papermill": {
     "duration": 0.001053,
     "end_time": "2024-12-14T20:47:52.234559",
     "exception": false,
     "start_time": "2024-12-14T20:47:52.233506",
     "status": "completed"
    },
    "tags": []
   },
   "source": [
    "Below are the list of packages required to successfully run the analysis. They are divided into partitions to signify their specific task.<br>\n",
    "We need the pathlib package for working with files and folders"
   ]
  },
  {
   "cell_type": "code",
   "execution_count": 1,
   "id": "ee069941",
   "metadata": {
    "execution": {
     "iopub.execute_input": "2024-12-14T20:47:52.237421Z",
     "iopub.status.busy": "2024-12-14T20:47:52.237267Z",
     "iopub.status.idle": "2024-12-14T20:47:52.239315Z",
     "shell.execute_reply": "2024-12-14T20:47:52.239098Z"
    },
    "papermill": {
     "duration": 0.004263,
     "end_time": "2024-12-14T20:47:52.239884",
     "exception": false,
     "start_time": "2024-12-14T20:47:52.235621",
     "status": "completed"
    },
    "tags": []
   },
   "outputs": [],
   "source": [
    "from pathlib import Path\n",
    "import json"
   ]
  },
  {
   "cell_type": "markdown",
   "id": "50590acc",
   "metadata": {
    "papermill": {
     "duration": 0.001066,
     "end_time": "2024-12-14T20:47:52.242464",
     "exception": false,
     "start_time": "2024-12-14T20:47:52.241398",
     "status": "completed"
    },
    "tags": []
   },
   "source": [
    "We would use the pandas for analyzing and manipulating our data while seaborn and matplotlib are used for data visualization. statsmodels.graphics.gofplots and scipy.stats.shapiro are used for normality check. Scipy.stats.friedmanchisquare is a non-parametric test used to determine the statistical significance in metric results and the wilcoxon test is used for pairwise comparison of sample data."
   ]
  },
  {
   "cell_type": "code",
   "execution_count": 2,
   "id": "d40cc792",
   "metadata": {
    "execution": {
     "iopub.execute_input": "2024-12-14T20:47:52.245331Z",
     "iopub.status.busy": "2024-12-14T20:47:52.245052Z",
     "iopub.status.idle": "2024-12-14T20:47:52.677985Z",
     "shell.execute_reply": "2024-12-14T20:47:52.677598Z"
    },
    "lines_to_next_cell": 2,
    "papermill": {
     "duration": 0.435161,
     "end_time": "2024-12-14T20:47:52.678708",
     "exception": false,
     "start_time": "2024-12-14T20:47:52.243547",
     "status": "completed"
    },
    "tags": []
   },
   "outputs": [],
   "source": [
    "import pandas as pd\n",
    "import seaborn as sns\n",
    "import matplotlib.pyplot as plt\n",
    "from statsmodels.graphics.gofplots import qqplot\n",
    "from scipy.stats import shapiro\n",
    "from scipy.stats import friedmanchisquare, wilcoxon\n",
    "from itertools import combinations"
   ]
  },
  {
   "cell_type": "markdown",
   "id": "76360899",
   "metadata": {
    "papermill": {
     "duration": 0.00898,
     "end_time": "2024-12-14T20:47:52.689092",
     "exception": false,
     "start_time": "2024-12-14T20:47:52.680112",
     "status": "completed"
    },
    "tags": []
   },
   "source": [
    "Import the LensKit metrics for analysis:"
   ]
  },
  {
   "cell_type": "code",
   "execution_count": 3,
   "id": "9f0614f8",
   "metadata": {
    "execution": {
     "iopub.execute_input": "2024-12-14T20:47:52.692240Z",
     "iopub.status.busy": "2024-12-14T20:47:52.692063Z",
     "iopub.status.idle": "2024-12-14T20:47:53.335014Z",
     "shell.execute_reply": "2024-12-14T20:47:53.334531Z"
    },
    "papermill": {
     "duration": 0.645444,
     "end_time": "2024-12-14T20:47:53.335820",
     "exception": false,
     "start_time": "2024-12-14T20:47:52.690376",
     "status": "completed"
    },
    "tags": []
   },
   "outputs": [],
   "source": [
    "from lenskit.data import ItemListCollection, UserIDKey\n",
    "from lenskit.metrics import RunAnalysis, RMSE, NDCG, RecipRank, RBP"
   ]
  },
  {
   "cell_type": "markdown",
   "id": "44472f41",
   "metadata": {
    "papermill": {
     "duration": 0.009062,
     "end_time": "2024-12-14T20:47:53.346346",
     "exception": false,
     "start_time": "2024-12-14T20:47:53.337284",
     "status": "completed"
    },
    "tags": []
   },
   "source": [
    "## Load Data\n",
    "\n",
    "The recommendations are in `runs`, and we will need to reassemble the test data from `test`."
   ]
  },
  {
   "cell_type": "code",
   "execution_count": 4,
   "id": "a854029a",
   "metadata": {
    "execution": {
     "iopub.execute_input": "2024-12-14T20:47:53.349290Z",
     "iopub.status.busy": "2024-12-14T20:47:53.349194Z",
     "iopub.status.idle": "2024-12-14T20:47:53.351054Z",
     "shell.execute_reply": "2024-12-14T20:47:53.350730Z"
    },
    "papermill": {
     "duration": 0.004055,
     "end_time": "2024-12-14T20:47:53.351577",
     "exception": false,
     "start_time": "2024-12-14T20:47:53.347522",
     "status": "completed"
    },
    "tags": [
     "parameters"
    ]
   },
   "outputs": [],
   "source": [
    "dataset = \"ml100k\""
   ]
  },
  {
   "cell_type": "code",
   "execution_count": 5,
   "id": "c43971b5",
   "metadata": {
    "execution": {
     "iopub.execute_input": "2024-12-14T20:47:53.354334Z",
     "iopub.status.busy": "2024-12-14T20:47:53.354263Z",
     "iopub.status.idle": "2024-12-14T20:47:53.355879Z",
     "shell.execute_reply": "2024-12-14T20:47:53.355687Z"
    },
    "papermill": {
     "duration": 0.003583,
     "end_time": "2024-12-14T20:47:53.356340",
     "exception": false,
     "start_time": "2024-12-14T20:47:53.352757",
     "status": "completed"
    },
    "tags": [
     "injected-parameters"
    ]
   },
   "outputs": [],
   "source": [
    "# Parameters\n",
    "dataset = \"ml1m\"\n"
   ]
  },
  {
   "cell_type": "code",
   "execution_count": 6,
   "id": "58b1ab64",
   "metadata": {
    "execution": {
     "iopub.execute_input": "2024-12-14T20:47:53.359079Z",
     "iopub.status.busy": "2024-12-14T20:47:53.359010Z",
     "iopub.status.idle": "2024-12-14T20:47:53.360406Z",
     "shell.execute_reply": "2024-12-14T20:47:53.360209Z"
    },
    "papermill": {
     "duration": 0.003394,
     "end_time": "2024-12-14T20:47:53.360905",
     "exception": false,
     "start_time": "2024-12-14T20:47:53.357511",
     "status": "completed"
    },
    "tags": []
   },
   "outputs": [],
   "source": [
    "output_root = Path(\"runs\")"
   ]
  },
  {
   "cell_type": "code",
   "execution_count": 7,
   "id": "291fdc84",
   "metadata": {
    "execution": {
     "iopub.execute_input": "2024-12-14T20:47:53.363639Z",
     "iopub.status.busy": "2024-12-14T20:47:53.363574Z",
     "iopub.status.idle": "2024-12-14T20:47:53.365161Z",
     "shell.execute_reply": "2024-12-14T20:47:53.364951Z"
    },
    "papermill": {
     "duration": 0.003605,
     "end_time": "2024-12-14T20:47:53.365662",
     "exception": false,
     "start_time": "2024-12-14T20:47:53.362057",
     "status": "completed"
    },
    "tags": []
   },
   "outputs": [],
   "source": [
    "dirs = [fld for fld in output_root.glob(f'{dataset}-*')]"
   ]
  },
  {
   "cell_type": "code",
   "execution_count": 8,
   "id": "e47fe658",
   "metadata": {
    "execution": {
     "iopub.execute_input": "2024-12-14T20:47:53.368228Z",
     "iopub.status.busy": "2024-12-14T20:47:53.368162Z",
     "iopub.status.idle": "2024-12-14T20:47:54.006997Z",
     "shell.execute_reply": "2024-12-14T20:47:54.006392Z"
    },
    "papermill": {
     "duration": 0.640988,
     "end_time": "2024-12-14T20:47:54.007771",
     "exception": false,
     "start_time": "2024-12-14T20:47:53.366783",
     "status": "completed"
    },
    "tags": []
   },
   "outputs": [],
   "source": [
    "recs = ItemListCollection(['model', 'user_id'], index=False)\n",
    "for fld in dirs:\n",
    "    for file in fld.glob(\"recs-*\"):\n",
    "        rec = ItemListCollection.load_parquet(file)\n",
    "        recs.add_from(rec, model=fld.name.split(\"-\")[1])"
   ]
  },
  {
   "cell_type": "code",
   "execution_count": 9,
   "id": "36d675e6",
   "metadata": {
    "execution": {
     "iopub.execute_input": "2024-12-14T20:47:54.018644Z",
     "iopub.status.busy": "2024-12-14T20:47:54.018545Z",
     "iopub.status.idle": "2024-12-14T20:47:54.023723Z",
     "shell.execute_reply": "2024-12-14T20:47:54.023364Z"
    },
    "papermill": {
     "duration": 0.014965,
     "end_time": "2024-12-14T20:47:54.024175",
     "exception": false,
     "start_time": "2024-12-14T20:47:54.009210",
     "status": "completed"
    },
    "tags": []
   },
   "outputs": [
    {
     "data": {
      "text/plain": [
       "['ALS', 'Bias', 'IALS', 'IIE', 'III', 'Pop']"
      ]
     },
     "execution_count": 9,
     "metadata": {},
     "output_type": "execute_result"
    }
   ],
   "source": [
    "rec_algos = sorted(set(a for (a, _u) in recs.keys()))\n",
    "rec_algos"
   ]
  },
  {
   "cell_type": "code",
   "execution_count": 10,
   "id": "530bbfda",
   "metadata": {
    "execution": {
     "iopub.execute_input": "2024-12-14T20:47:54.027271Z",
     "iopub.status.busy": "2024-12-14T20:47:54.027168Z",
     "iopub.status.idle": "2024-12-14T20:47:54.440305Z",
     "shell.execute_reply": "2024-12-14T20:47:54.439802Z"
    },
    "papermill": {
     "duration": 0.415648,
     "end_time": "2024-12-14T20:47:54.441061",
     "exception": false,
     "start_time": "2024-12-14T20:47:54.025413",
     "status": "completed"
    },
    "tags": []
   },
   "outputs": [],
   "source": [
    "preds = ItemListCollection(['model', 'user_id'], index=False)\n",
    "for fld in dirs:\n",
    "    for file in fld.glob(\"pred-*\"):\n",
    "        pred = ItemListCollection.load_parquet(file)\n",
    "        preds.add_from(pred, model=fld.name.split(\"-\")[1])"
   ]
  },
  {
   "cell_type": "markdown",
   "id": "737fbf6f",
   "metadata": {
    "papermill": {
     "duration": 0.009048,
     "end_time": "2024-12-14T20:47:54.451654",
     "exception": false,
     "start_time": "2024-12-14T20:47:54.442606",
     "status": "completed"
    },
    "tags": []
   },
   "source": [
    "We need to load the test data so that we have the ground truths for computing accuracy"
   ]
  },
  {
   "cell_type": "code",
   "execution_count": 11,
   "id": "094c6750",
   "metadata": {
    "execution": {
     "iopub.execute_input": "2024-12-14T20:47:54.455015Z",
     "iopub.status.busy": "2024-12-14T20:47:54.454921Z",
     "iopub.status.idle": "2024-12-14T20:47:54.456599Z",
     "shell.execute_reply": "2024-12-14T20:47:54.456390Z"
    },
    "papermill": {
     "duration": 0.004122,
     "end_time": "2024-12-14T20:47:54.457160",
     "exception": false,
     "start_time": "2024-12-14T20:47:54.453038",
     "status": "completed"
    },
    "tags": []
   },
   "outputs": [],
   "source": [
    "split_root = Path(\"data-split\")\n",
    "split_dir = split_root / dataset"
   ]
  },
  {
   "cell_type": "code",
   "execution_count": 12,
   "id": "b6b27b83",
   "metadata": {
    "execution": {
     "iopub.execute_input": "2024-12-14T20:47:54.460100Z",
     "iopub.status.busy": "2024-12-14T20:47:54.460027Z",
     "iopub.status.idle": "2024-12-14T20:47:54.813149Z",
     "shell.execute_reply": "2024-12-14T20:47:54.812648Z"
    },
    "papermill": {
     "duration": 0.355607,
     "end_time": "2024-12-14T20:47:54.813985",
     "exception": false,
     "start_time": "2024-12-14T20:47:54.458378",
     "status": "completed"
    },
    "tags": []
   },
   "outputs": [],
   "source": [
    "test = ItemListCollection(UserIDKey)\n",
    "for file in split_dir.glob(\"test-*.parquet\"):\n",
    "    df = pd.read_parquet(file)\n",
    "    part = ItemListCollection.from_df(df, UserIDKey)\n",
    "    test.add_from(part)"
   ]
  },
  {
   "cell_type": "markdown",
   "id": "fed8bea2",
   "metadata": {
    "papermill": {
     "duration": 0.009032,
     "end_time": "2024-12-14T20:47:54.824561",
     "exception": false,
     "start_time": "2024-12-14T20:47:54.815529",
     "status": "completed"
    },
    "tags": []
   },
   "source": [
    "## Top-N Metrics\n",
    "\n",
    "`RunListAnalysis` computes metrics for recommendation results and takes care of\n",
    "matching recommendations and ground truth."
   ]
  },
  {
   "cell_type": "code",
   "execution_count": 13,
   "id": "7b68ce95",
   "metadata": {
    "execution": {
     "iopub.execute_input": "2024-12-14T20:47:54.827851Z",
     "iopub.status.busy": "2024-12-14T20:47:54.827761Z",
     "iopub.status.idle": "2024-12-14T20:47:57.098204Z",
     "shell.execute_reply": "2024-12-14T20:47:57.097974Z"
    },
    "papermill": {
     "duration": 2.272814,
     "end_time": "2024-12-14T20:47:57.098764",
     "exception": false,
     "start_time": "2024-12-14T20:47:54.825950",
     "status": "completed"
    },
    "tags": []
   },
   "outputs": [
    {
     "name": "stderr",
     "output_type": "stream",
     "text": [
      "/home/mde48/lenskit/lk-demo-experiment/.pixi/envs/cuda/lib/python3.12/site-packages/lenskit/metrics/bulk.py:116: FutureWarning: The previous implementation of stack is deprecated and will be removed in a future version of pandas. See the What's New notes for pandas 2.1.0 for details. Specify future_stack=True to adopt the new implementation and silence this warning.\n",
      "  df = scores.groupby(list(keys)).agg([\"mean\", \"median\", \"std\"]).stack(level=0)\n"
     ]
    },
    {
     "data": {
      "text/html": [
       "<div>\n",
       "<style scoped>\n",
       "    .dataframe tbody tr th:only-of-type {\n",
       "        vertical-align: middle;\n",
       "    }\n",
       "\n",
       "    .dataframe tbody tr th {\n",
       "        vertical-align: top;\n",
       "    }\n",
       "\n",
       "    .dataframe thead th {\n",
       "        text-align: right;\n",
       "    }\n",
       "</style>\n",
       "<table border=\"1\" class=\"dataframe\">\n",
       "  <thead>\n",
       "    <tr style=\"text-align: right;\">\n",
       "      <th></th>\n",
       "      <th></th>\n",
       "      <th>mean</th>\n",
       "      <th>median</th>\n",
       "      <th>std</th>\n",
       "    </tr>\n",
       "    <tr>\n",
       "      <th>model</th>\n",
       "      <th></th>\n",
       "      <th></th>\n",
       "      <th></th>\n",
       "      <th></th>\n",
       "    </tr>\n",
       "  </thead>\n",
       "  <tbody>\n",
       "    <tr>\n",
       "      <th rowspan=\"3\" valign=\"top\">ALS</th>\n",
       "      <th>NDCG</th>\n",
       "      <td>0.053046</td>\n",
       "      <td>0.000000e+00</td>\n",
       "      <td>0.082675</td>\n",
       "    </tr>\n",
       "    <tr>\n",
       "      <th>RBP</th>\n",
       "      <td>0.016682</td>\n",
       "      <td>0.000000e+00</td>\n",
       "      <td>0.076668</td>\n",
       "    </tr>\n",
       "    <tr>\n",
       "      <th>RecipRank</th>\n",
       "      <td>0.054174</td>\n",
       "      <td>0.000000e+00</td>\n",
       "      <td>0.152701</td>\n",
       "    </tr>\n",
       "    <tr>\n",
       "      <th rowspan=\"3\" valign=\"top\">Bias</th>\n",
       "      <th>NDCG</th>\n",
       "      <td>0.049744</td>\n",
       "      <td>0.000000e+00</td>\n",
       "      <td>0.075282</td>\n",
       "    </tr>\n",
       "    <tr>\n",
       "      <th>RBP</th>\n",
       "      <td>0.010717</td>\n",
       "      <td>0.000000e+00</td>\n",
       "      <td>0.056017</td>\n",
       "    </tr>\n",
       "    <tr>\n",
       "      <th>RecipRank</th>\n",
       "      <td>0.044258</td>\n",
       "      <td>0.000000e+00</td>\n",
       "      <td>0.118458</td>\n",
       "    </tr>\n",
       "    <tr>\n",
       "      <th rowspan=\"3\" valign=\"top\">IALS</th>\n",
       "      <th>NDCG</th>\n",
       "      <td>0.231801</td>\n",
       "      <td>2.009854e-01</td>\n",
       "      <td>0.153612</td>\n",
       "    </tr>\n",
       "    <tr>\n",
       "      <th>RBP</th>\n",
       "      <td>0.086439</td>\n",
       "      <td>5.188739e-04</td>\n",
       "      <td>0.170963</td>\n",
       "    </tr>\n",
       "    <tr>\n",
       "      <th>RecipRank</th>\n",
       "      <td>0.216609</td>\n",
       "      <td>9.090909e-02</td>\n",
       "      <td>0.288559</td>\n",
       "    </tr>\n",
       "    <tr>\n",
       "      <th rowspan=\"3\" valign=\"top\">IIE</th>\n",
       "      <th>NDCG</th>\n",
       "      <td>0.038123</td>\n",
       "      <td>0.000000e+00</td>\n",
       "      <td>0.057696</td>\n",
       "    </tr>\n",
       "    <tr>\n",
       "      <th>RBP</th>\n",
       "      <td>0.004345</td>\n",
       "      <td>0.000000e+00</td>\n",
       "      <td>0.035248</td>\n",
       "    </tr>\n",
       "    <tr>\n",
       "      <th>RecipRank</th>\n",
       "      <td>0.026552</td>\n",
       "      <td>0.000000e+00</td>\n",
       "      <td>0.079340</td>\n",
       "    </tr>\n",
       "    <tr>\n",
       "      <th rowspan=\"3\" valign=\"top\">III</th>\n",
       "      <th>NDCG</th>\n",
       "      <td>0.188728</td>\n",
       "      <td>1.437144e-01</td>\n",
       "      <td>0.159716</td>\n",
       "    </tr>\n",
       "    <tr>\n",
       "      <th>RBP</th>\n",
       "      <td>0.108998</td>\n",
       "      <td>2.441406e-04</td>\n",
       "      <td>0.195514</td>\n",
       "    </tr>\n",
       "    <tr>\n",
       "      <th>RecipRank</th>\n",
       "      <td>0.245997</td>\n",
       "      <td>8.333333e-02</td>\n",
       "      <td>0.332014</td>\n",
       "    </tr>\n",
       "    <tr>\n",
       "      <th rowspan=\"3\" valign=\"top\">Pop</th>\n",
       "      <th>NDCG</th>\n",
       "      <td>0.130506</td>\n",
       "      <td>9.633708e-02</td>\n",
       "      <td>0.128663</td>\n",
       "    </tr>\n",
       "    <tr>\n",
       "      <th>RBP</th>\n",
       "      <td>0.060303</td>\n",
       "      <td>5.960464e-08</td>\n",
       "      <td>0.146928</td>\n",
       "    </tr>\n",
       "    <tr>\n",
       "      <th>RecipRank</th>\n",
       "      <td>0.155132</td>\n",
       "      <td>4.166667e-02</td>\n",
       "      <td>0.268589</td>\n",
       "    </tr>\n",
       "  </tbody>\n",
       "</table>\n",
       "</div>"
      ],
      "text/plain": [
       "                     mean        median       std\n",
       "model                                            \n",
       "ALS   NDCG       0.053046  0.000000e+00  0.082675\n",
       "      RBP        0.016682  0.000000e+00  0.076668\n",
       "      RecipRank  0.054174  0.000000e+00  0.152701\n",
       "Bias  NDCG       0.049744  0.000000e+00  0.075282\n",
       "      RBP        0.010717  0.000000e+00  0.056017\n",
       "      RecipRank  0.044258  0.000000e+00  0.118458\n",
       "IALS  NDCG       0.231801  2.009854e-01  0.153612\n",
       "      RBP        0.086439  5.188739e-04  0.170963\n",
       "      RecipRank  0.216609  9.090909e-02  0.288559\n",
       "IIE   NDCG       0.038123  0.000000e+00  0.057696\n",
       "      RBP        0.004345  0.000000e+00  0.035248\n",
       "      RecipRank  0.026552  0.000000e+00  0.079340\n",
       "III   NDCG       0.188728  1.437144e-01  0.159716\n",
       "      RBP        0.108998  2.441406e-04  0.195514\n",
       "      RecipRank  0.245997  8.333333e-02  0.332014\n",
       "Pop   NDCG       0.130506  9.633708e-02  0.128663\n",
       "      RBP        0.060303  5.960464e-08  0.146928\n",
       "      RecipRank  0.155132  4.166667e-02  0.268589"
      ]
     },
     "execution_count": 13,
     "metadata": {},
     "output_type": "execute_result"
    }
   ],
   "source": [
    "ra = RunAnalysis()\n",
    "\n",
    "ra.add_metric(NDCG())\n",
    "ra.add_metric(RecipRank())\n",
    "ra.add_metric(RBP())\n",
    "\n",
    "rec_results = ra.compute(recs, test)\n",
    "rec_results.list_summary('model')"
   ]
  },
  {
   "cell_type": "markdown",
   "id": "8cba4e78",
   "metadata": {
    "papermill": {
     "duration": 0.008953,
     "end_time": "2024-12-14T20:47:57.109268",
     "exception": false,
     "start_time": "2024-12-14T20:47:57.100315",
     "status": "completed"
    },
    "tags": []
   },
   "source": [
    "We can reshape the list metrics and plot them:"
   ]
  },
  {
   "cell_type": "code",
   "execution_count": 14,
   "id": "238604c3",
   "metadata": {
    "execution": {
     "iopub.execute_input": "2024-12-14T20:47:57.113439Z",
     "iopub.status.busy": "2024-12-14T20:47:57.113342Z",
     "iopub.status.idle": "2024-12-14T20:47:57.745127Z",
     "shell.execute_reply": "2024-12-14T20:47:57.744771Z"
    },
    "papermill": {
     "duration": 0.634267,
     "end_time": "2024-12-14T20:47:57.745733",
     "exception": false,
     "start_time": "2024-12-14T20:47:57.111466",
     "status": "completed"
    },
    "tags": []
   },
   "outputs": [
    {
     "data": {
      "image/png": "[encoded data removed]",
      "text/plain": [
       "<Figure size 1511.11x500 with 3 Axes>"
      ]
     },
     "metadata": {},
     "output_type": "display_data"
    }
   ],
   "source": [
    "metrics = rec_results.list_metrics()\n",
    "metrics = metrics.melt(var_name='metric', ignore_index=False).reset_index()\n",
    "sns.catplot(metrics, x='model', y='value', col='metric', kind='bar')\n",
    "plt.show()"
   ]
  },
  {
   "cell_type": "markdown",
   "id": "d6f202d4",
   "metadata": {
    "papermill": {
     "duration": 0.009228,
     "end_time": "2024-12-14T20:47:57.756673",
     "exception": false,
     "start_time": "2024-12-14T20:47:57.747445",
     "status": "completed"
    },
    "tags": []
   },
   "source": [
    "## Prediction RMSE\n",
    "\n",
    "We will also look at the prediction RMSE."
   ]
  },
  {
   "cell_type": "code",
   "execution_count": 15,
   "id": "c78c5ff6",
   "metadata": {
    "execution": {
     "iopub.execute_input": "2024-12-14T20:47:57.760176Z",
     "iopub.status.busy": "2024-12-14T20:47:57.760041Z",
     "iopub.status.idle": "2024-12-14T20:48:03.729254Z",
     "shell.execute_reply": "2024-12-14T20:48:03.729096Z"
    },
    "papermill": {
     "duration": 5.9717,
     "end_time": "2024-12-14T20:48:03.729835",
     "exception": false,
     "start_time": "2024-12-14T20:47:57.758135",
     "status": "completed"
    },
    "tags": []
   },
   "outputs": [
    {
     "name": "stderr",
     "output_type": "stream",
     "text": [
      "/home/mde48/lenskit/lk-demo-experiment/.pixi/envs/cuda/lib/python3.12/site-packages/lenskit/metrics/bulk.py:116: FutureWarning: The previous implementation of stack is deprecated and will be removed in a future version of pandas. See the What's New notes for pandas 2.1.0 for details. Specify future_stack=True to adopt the new implementation and silence this warning.\n",
      "  df = scores.groupby(list(keys)).agg([\"mean\", \"median\", \"std\"]).stack(level=0)\n"
     ]
    },
    {
     "data": {
      "text/html": [
       "<div>\n",
       "<style scoped>\n",
       "    .dataframe tbody tr th:only-of-type {\n",
       "        vertical-align: middle;\n",
       "    }\n",
       "\n",
       "    .dataframe tbody tr th {\n",
       "        vertical-align: top;\n",
       "    }\n",
       "\n",
       "    .dataframe thead th {\n",
       "        text-align: right;\n",
       "    }\n",
       "</style>\n",
       "<table border=\"1\" class=\"dataframe\">\n",
       "  <thead>\n",
       "    <tr style=\"text-align: right;\">\n",
       "      <th></th>\n",
       "      <th></th>\n",
       "      <th>mean</th>\n",
       "      <th>median</th>\n",
       "      <th>std</th>\n",
       "    </tr>\n",
       "    <tr>\n",
       "      <th>model</th>\n",
       "      <th></th>\n",
       "      <th></th>\n",
       "      <th></th>\n",
       "      <th></th>\n",
       "    </tr>\n",
       "  </thead>\n",
       "  <tbody>\n",
       "    <tr>\n",
       "      <th>ALS</th>\n",
       "      <th>RMSE</th>\n",
       "      <td>0.829243</td>\n",
       "      <td>0.789964</td>\n",
       "      <td>0.318975</td>\n",
       "    </tr>\n",
       "    <tr>\n",
       "      <th>Bias</th>\n",
       "      <th>RMSE</th>\n",
       "      <td>0.871160</td>\n",
       "      <td>0.827136</td>\n",
       "      <td>0.331031</td>\n",
       "    </tr>\n",
       "    <tr>\n",
       "      <th>IIE</th>\n",
       "      <th>RMSE</th>\n",
       "      <td>0.818480</td>\n",
       "      <td>0.777677</td>\n",
       "      <td>0.321417</td>\n",
       "    </tr>\n",
       "  </tbody>\n",
       "</table>\n",
       "</div>"
      ],
      "text/plain": [
       "                mean    median       std\n",
       "model                                   \n",
       "ALS   RMSE  0.829243  0.789964  0.318975\n",
       "Bias  RMSE  0.871160  0.827136  0.331031\n",
       "IIE   RMSE  0.818480  0.777677  0.321417"
      ]
     },
     "execution_count": 15,
     "metadata": {},
     "output_type": "execute_result"
    }
   ],
   "source": [
    "pa = RunAnalysis()\n",
    "\n",
    "pa.add_metric(RMSE(missing_scores='ignore', missing_truth='ignore'))\n",
    "\n",
    "pred_results = pa.compute(preds, test)\n",
    "pred_results.list_summary('model')"
   ]
  },
  {
   "cell_type": "code",
   "execution_count": 16,
   "id": "929287d6",
   "metadata": {
    "execution": {
     "iopub.execute_input": "2024-12-14T20:48:03.741326Z",
     "iopub.status.busy": "2024-12-14T20:48:03.741250Z",
     "iopub.status.idle": "2024-12-14T20:48:03.865182Z",
     "shell.execute_reply": "2024-12-14T20:48:03.865024Z"
    },
    "papermill": {
     "duration": 0.134079,
     "end_time": "2024-12-14T20:48:03.865688",
     "exception": false,
     "start_time": "2024-12-14T20:48:03.731609",
     "status": "completed"
    },
    "tags": []
   },
   "outputs": [
    {
     "data": {
      "image/png": "[encoded data removed]",
      "text/plain": [
       "<Figure size 511.111x500 with 1 Axes>"
      ]
     },
     "metadata": {},
     "output_type": "display_data"
    }
   ],
   "source": [
    "sns.catplot(pred_results.list_metrics().reset_index(), x='model', y='RMSE', kind='bar')\n",
    "plt.show()"
   ]
  },
  {
   "cell_type": "markdown",
   "id": "0caac7ca",
   "metadata": {
    "papermill": {
     "duration": 0.001617,
     "end_time": "2024-12-14T20:48:03.869123",
     "exception": false,
     "start_time": "2024-12-14T20:48:03.867506",
     "status": "completed"
    },
    "tags": []
   },
   "source": [
    "## Save Metrics\n",
    "\n",
    "We'll now save the metrics to a file."
   ]
  },
  {
   "cell_type": "code",
   "execution_count": 17,
   "id": "4e43b021",
   "metadata": {
    "execution": {
     "iopub.execute_input": "2024-12-14T20:48:03.872758Z",
     "iopub.status.busy": "2024-12-14T20:48:03.872681Z",
     "iopub.status.idle": "2024-12-14T20:48:03.881534Z",
     "shell.execute_reply": "2024-12-14T20:48:03.881390Z"
    },
    "papermill": {
     "duration": 0.011261,
     "end_time": "2024-12-14T20:48:03.881983",
     "exception": false,
     "start_time": "2024-12-14T20:48:03.870722",
     "status": "completed"
    },
    "tags": []
   },
   "outputs": [
    {
     "name": "stderr",
     "output_type": "stream",
     "text": [
      "/home/mde48/lenskit/lk-demo-experiment/.pixi/envs/cuda/lib/python3.12/site-packages/lenskit/metrics/bulk.py:116: FutureWarning: The previous implementation of stack is deprecated and will be removed in a future version of pandas. See the What's New notes for pandas 2.1.0 for details. Specify future_stack=True to adopt the new implementation and silence this warning.\n",
      "  df = scores.groupby(list(keys)).agg([\"mean\", \"median\", \"std\"]).stack(level=0)\n"
     ]
    },
    {
     "data": {
      "text/html": [
       "<div>\n",
       "<style scoped>\n",
       "    .dataframe tbody tr th:only-of-type {\n",
       "        vertical-align: middle;\n",
       "    }\n",
       "\n",
       "    .dataframe tbody tr th {\n",
       "        vertical-align: top;\n",
       "    }\n",
       "\n",
       "    .dataframe thead th {\n",
       "        text-align: right;\n",
       "    }\n",
       "</style>\n",
       "<table border=\"1\" class=\"dataframe\">\n",
       "  <thead>\n",
       "    <tr style=\"text-align: right;\">\n",
       "      <th></th>\n",
       "      <th>NDCG</th>\n",
       "      <th>RBP</th>\n",
       "      <th>RecipRank</th>\n",
       "    </tr>\n",
       "    <tr>\n",
       "      <th>model</th>\n",
       "      <th></th>\n",
       "      <th></th>\n",
       "      <th></th>\n",
       "    </tr>\n",
       "  </thead>\n",
       "  <tbody>\n",
       "    <tr>\n",
       "      <th>ALS</th>\n",
       "      <td>0.053046</td>\n",
       "      <td>0.016682</td>\n",
       "      <td>0.054174</td>\n",
       "    </tr>\n",
       "    <tr>\n",
       "      <th>Bias</th>\n",
       "      <td>0.049744</td>\n",
       "      <td>0.010717</td>\n",
       "      <td>0.044258</td>\n",
       "    </tr>\n",
       "    <tr>\n",
       "      <th>IALS</th>\n",
       "      <td>0.231801</td>\n",
       "      <td>0.086439</td>\n",
       "      <td>0.216609</td>\n",
       "    </tr>\n",
       "    <tr>\n",
       "      <th>IIE</th>\n",
       "      <td>0.038123</td>\n",
       "      <td>0.004345</td>\n",
       "      <td>0.026552</td>\n",
       "    </tr>\n",
       "    <tr>\n",
       "      <th>III</th>\n",
       "      <td>0.188728</td>\n",
       "      <td>0.108998</td>\n",
       "      <td>0.245997</td>\n",
       "    </tr>\n",
       "    <tr>\n",
       "      <th>Pop</th>\n",
       "      <td>0.130506</td>\n",
       "      <td>0.060303</td>\n",
       "      <td>0.155132</td>\n",
       "    </tr>\n",
       "  </tbody>\n",
       "</table>\n",
       "</div>"
      ],
      "text/plain": [
       "           NDCG       RBP  RecipRank\n",
       "model                               \n",
       "ALS    0.053046  0.016682   0.054174\n",
       "Bias   0.049744  0.010717   0.044258\n",
       "IALS   0.231801  0.086439   0.216609\n",
       "IIE    0.038123  0.004345   0.026552\n",
       "III    0.188728  0.108998   0.245997\n",
       "Pop    0.130506  0.060303   0.155132"
      ]
     },
     "execution_count": 17,
     "metadata": {},
     "output_type": "execute_result"
    }
   ],
   "source": [
    "rlsum = rec_results.list_summary('model')['mean'].unstack()\n",
    "rlsum"
   ]
  },
  {
   "cell_type": "code",
   "execution_count": 18,
   "id": "cae53f67",
   "metadata": {
    "execution": {
     "iopub.execute_input": "2024-12-14T20:48:03.885706Z",
     "iopub.status.busy": "2024-12-14T20:48:03.885636Z",
     "iopub.status.idle": "2024-12-14T20:48:03.887725Z",
     "shell.execute_reply": "2024-12-14T20:48:03.887575Z"
    },
    "papermill": {
     "duration": 0.004592,
     "end_time": "2024-12-14T20:48:03.888234",
     "exception": false,
     "start_time": "2024-12-14T20:48:03.883642",
     "status": "completed"
    },
    "tags": []
   },
   "outputs": [],
   "source": [
    "rlsum.to_json(f'eval-metrics.{dataset}.json', orient='index')"
   ]
  }
 ],
 "metadata": {
  "jupytext": {
   "formats": "ipynb,md",
   "notebook_metadata_filter": "split_at_heading"
  },
  "kernelspec": {
   "display_name": "Python 3 (ipykernel)",
   "language": "python",
   "name": "python3"
  },
  "language_info": {
   "codemirror_mode": {
    "name": "ipython",
    "version": 3
   },
   "file_extension": ".py",
   "mimetype": "text/x-python",
   "name": "python",
   "nbconvert_exporter": "python",
   "pygments_lexer": "ipython3",
   "version": "3.12.8"
  },
  "papermill": {
   "default_parameters": {},
   "duration": 12.870967,
   "end_time": "2024-12-14T20:48:04.404547",
   "environment_variables": {},
   "exception": null,
   "input_path": "eval-report.ipynb",
   "output_path": "eval-report.ml1m.ipynb",
   "parameters": {
    "dataset": "ml1m"
   },
   "start_time": "2024-12-14T20:47:51.533580",
   "version": "2.6.0"
  },
  "split_at_heading": true
 },
 "nbformat": 4,
 "nbformat_minor": 5
}