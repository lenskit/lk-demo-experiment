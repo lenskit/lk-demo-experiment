{
 "cells": [
  {
   "cell_type": "markdown",
   "id": "9f9f8320",
   "metadata": {
    "papermill": {
     "duration": 0.023046,
     "end_time": "2022-02-16T20:21:06.537108",
     "exception": false,
     "start_time": "2022-02-16T20:21:06.514062",
     "status": "completed"
    },
    "tags": []
   },
   "source": [
    "# Evaluation Analysis for Recommender Output"
   ]
  },
  {
   "cell_type": "markdown",
   "id": "4853c42c",
   "metadata": {
    "papermill": {
     "duration": 0.021008,
     "end_time": "2022-02-16T20:21:06.579372",
     "exception": false,
     "start_time": "2022-02-16T20:21:06.558364",
     "status": "completed"
    },
    "tags": []
   },
   "source": [
    "In this section we will analyze and compare the generated recommendations and predictions from a predefined list of algorithms with the goal of assessing the performance of each algorithm with respect to a metric. In other words, we would rank the algorithms for each metric considered with respect to performance."
   ]
  },
  {
   "cell_type": "markdown",
   "id": "c5a0457b",
   "metadata": {
    "papermill": {
     "duration": 0.019894,
     "end_time": "2022-02-16T20:21:06.619501",
     "exception": false,
     "start_time": "2022-02-16T20:21:06.599607",
     "status": "completed"
    },
    "tags": []
   },
   "source": [
    "# Setup"
   ]
  },
  {
   "cell_type": "markdown",
   "id": "687dbbfe",
   "metadata": {
    "papermill": {
     "duration": 0.026393,
     "end_time": "2022-02-16T20:21:06.665774",
     "exception": false,
     "start_time": "2022-02-16T20:21:06.639381",
     "status": "completed"
    },
    "tags": []
   },
   "source": [
    "Below are the list of packages required to successfully run the analysis. They are divided into partitions to signify their specific task.<br>\n",
    "We need the pathlib package for working with files and folders"
   ]
  },
  {
   "cell_type": "code",
   "execution_count": 1,
   "id": "a7528656",
   "metadata": {
    "execution": {
     "iopub.execute_input": "2022-02-16T20:21:06.706517Z",
     "iopub.status.busy": "2022-02-16T20:21:06.706334Z",
     "iopub.status.idle": "2022-02-16T20:21:06.712276Z",
     "shell.execute_reply": "2022-02-16T20:21:06.711919Z"
    },
    "papermill": {
     "duration": 0.027958,
     "end_time": "2022-02-16T20:21:06.713593",
     "exception": false,
     "start_time": "2022-02-16T20:21:06.685635",
     "status": "completed"
    },
    "tags": []
   },
   "outputs": [],
   "source": [
    "from pathlib import Path"
   ]
  },
  {
   "cell_type": "markdown",
   "id": "f9b930cf",
   "metadata": {
    "papermill": {
     "duration": 0.021003,
     "end_time": "2022-02-16T20:21:06.754995",
     "exception": false,
     "start_time": "2022-02-16T20:21:06.733992",
     "status": "completed"
    },
    "tags": []
   },
   "source": [
    "We would use the pandas for analyzing and manipulating our data while seaborn and matplotlib are used for data visualization. statsmodels.graphics.gofplots and scipy.stats.shapiro are used for normality check. Scipy.stats.friedmanchisquare is a non-parametric test used to determine the statistical significance in metric results and the wilcoxon test is used for pairwise comparison of sample data."
   ]
  },
  {
   "cell_type": "code",
   "execution_count": 2,
   "id": "41f5c83d",
   "metadata": {
    "execution": {
     "iopub.execute_input": "2022-02-16T20:21:06.797044Z",
     "iopub.status.busy": "2022-02-16T20:21:06.796728Z",
     "iopub.status.idle": "2022-02-16T20:21:08.878733Z",
     "shell.execute_reply": "2022-02-16T20:21:08.878232Z"
    },
    "papermill": {
     "duration": 2.105388,
     "end_time": "2022-02-16T20:21:08.880492",
     "exception": false,
     "start_time": "2022-02-16T20:21:06.775104",
     "status": "completed"
    },
    "tags": []
   },
   "outputs": [],
   "source": [
    "import pandas as pd\n",
    "import seaborn as sns\n",
    "import matplotlib.pyplot as plt\n",
    "from statsmodels.graphics.gofplots import qqplot\n",
    "from scipy.stats import shapiro\n",
    "from scipy.stats import friedmanchisquare, wilcoxon\n",
    "from itertools import combinations"
   ]
  },
  {
   "cell_type": "markdown",
   "id": "6dfc0cdd",
   "metadata": {
    "papermill": {
     "duration": 0.021547,
     "end_time": "2022-02-16T20:21:08.924305",
     "exception": false,
     "start_time": "2022-02-16T20:21:08.902758",
     "status": "completed"
    },
    "tags": []
   },
   "source": [
    "Logging to show what's happening in LensKit routines:"
   ]
  },
  {
   "cell_type": "code",
   "execution_count": 3,
   "id": "e7edbf7a",
   "metadata": {
    "execution": {
     "iopub.execute_input": "2022-02-16T20:21:08.966618Z",
     "iopub.status.busy": "2022-02-16T20:21:08.966424Z",
     "iopub.status.idle": "2022-02-16T20:21:08.988601Z",
     "shell.execute_reply": "2022-02-16T20:21:08.988211Z"
    },
    "papermill": {
     "duration": 0.044396,
     "end_time": "2022-02-16T20:21:08.989811",
     "exception": false,
     "start_time": "2022-02-16T20:21:08.945415",
     "status": "completed"
    },
    "tags": []
   },
   "outputs": [
    {
     "name": "stdout",
     "output_type": "stream",
     "text": [
      "[   INFO] lenskit.util.log notebook logging configured\n"
     ]
    }
   ],
   "source": [
    "from lenskit import util\n",
    "util.log_to_notebook()"
   ]
  },
  {
   "cell_type": "code",
   "execution_count": 4,
   "id": "123b031c",
   "metadata": {
    "execution": {
     "iopub.execute_input": "2022-02-16T20:21:09.033619Z",
     "iopub.status.busy": "2022-02-16T20:21:09.033272Z",
     "iopub.status.idle": "2022-02-16T20:21:09.035771Z",
     "shell.execute_reply": "2022-02-16T20:21:09.035397Z"
    },
    "papermill": {
     "duration": 0.024937,
     "end_time": "2022-02-16T20:21:09.036982",
     "exception": false,
     "start_time": "2022-02-16T20:21:09.012045",
     "status": "completed"
    },
    "tags": []
   },
   "outputs": [],
   "source": [
    "import logging\n",
    "_log = logging.getLogger('eval-report')"
   ]
  },
  {
   "cell_type": "markdown",
   "id": "149cfce5",
   "metadata": {
    "papermill": {
     "duration": 0.02143,
     "end_time": "2022-02-16T20:21:09.079594",
     "exception": false,
     "start_time": "2022-02-16T20:21:09.058164",
     "status": "completed"
    },
    "tags": []
   },
   "source": [
    "We will use lenskit for training, running, and evaluating recommender algorithms"
   ]
  },
  {
   "cell_type": "code",
   "execution_count": 5,
   "id": "8612857b",
   "metadata": {
    "execution": {
     "iopub.execute_input": "2022-02-16T20:21:09.122332Z",
     "iopub.status.busy": "2022-02-16T20:21:09.122185Z",
     "iopub.status.idle": "2022-02-16T20:21:09.127092Z",
     "shell.execute_reply": "2022-02-16T20:21:09.126727Z"
    },
    "papermill": {
     "duration": 0.027476,
     "end_time": "2022-02-16T20:21:09.128464",
     "exception": false,
     "start_time": "2022-02-16T20:21:09.100988",
     "status": "completed"
    },
    "tags": []
   },
   "outputs": [],
   "source": [
    "from lenskit import topn\n",
    "from lenskit.metrics.predict import rmse"
   ]
  },
  {
   "cell_type": "markdown",
   "id": "1c4604ef",
   "metadata": {
    "papermill": {
     "duration": 0.020478,
     "end_time": "2022-02-16T20:21:09.171223",
     "exception": false,
     "start_time": "2022-02-16T20:21:09.150745",
     "status": "completed"
    },
    "tags": []
   },
   "source": [
    "# Load Data"
   ]
  },
  {
   "cell_type": "markdown",
   "id": "929eb950",
   "metadata": {
    "papermill": {
     "duration": 0.02064,
     "end_time": "2022-02-16T20:21:09.212439",
     "exception": false,
     "start_time": "2022-02-16T20:21:09.191799",
     "status": "completed"
    },
    "tags": []
   },
   "source": [
    "We specify the dataset we will use for our analysis and the main directory from where we read the recommendation and prediction files. From the main directory we find all the directories associated with the dataset and then read the recommendation and predictions files from those directories."
   ]
  },
  {
   "cell_type": "code",
   "execution_count": 6,
   "id": "8e3877a4",
   "metadata": {
    "execution": {
     "iopub.execute_input": "2022-02-16T20:21:09.254181Z",
     "iopub.status.busy": "2022-02-16T20:21:09.254035Z",
     "iopub.status.idle": "2022-02-16T20:21:09.256464Z",
     "shell.execute_reply": "2022-02-16T20:21:09.256108Z"
    },
    "papermill": {
     "duration": 0.024821,
     "end_time": "2022-02-16T20:21:09.257715",
     "exception": false,
     "start_time": "2022-02-16T20:21:09.232894",
     "status": "completed"
    },
    "tags": [
     "parameters"
    ]
   },
   "outputs": [],
   "source": [
    "dataset = \"ml100k\""
   ]
  },
  {
   "cell_type": "code",
   "execution_count": 7,
   "id": "7e066c1c",
   "metadata": {
    "execution": {
     "iopub.execute_input": "2022-02-16T20:21:09.300793Z",
     "iopub.status.busy": "2022-02-16T20:21:09.300644Z",
     "iopub.status.idle": "2022-02-16T20:21:09.303088Z",
     "shell.execute_reply": "2022-02-16T20:21:09.302724Z"
    },
    "papermill": {
     "duration": 0.024736,
     "end_time": "2022-02-16T20:21:09.304219",
     "exception": false,
     "start_time": "2022-02-16T20:21:09.279483",
     "status": "completed"
    },
    "tags": [
     "injected-parameters"
    ]
   },
   "outputs": [],
   "source": [
    "# Parameters\n",
    "dataset = \"ml1m\"\n"
   ]
  },
  {
   "cell_type": "code",
   "execution_count": 8,
   "id": "abe4e26e",
   "metadata": {
    "execution": {
     "iopub.execute_input": "2022-02-16T20:21:09.348861Z",
     "iopub.status.busy": "2022-02-16T20:21:09.348563Z",
     "iopub.status.idle": "2022-02-16T20:21:09.350841Z",
     "shell.execute_reply": "2022-02-16T20:21:09.350488Z"
    },
    "papermill": {
     "duration": 0.026041,
     "end_time": "2022-02-16T20:21:09.352006",
     "exception": false,
     "start_time": "2022-02-16T20:21:09.325965",
     "status": "completed"
    },
    "tags": []
   },
   "outputs": [],
   "source": [
    "output_root = Path(\"runs\")"
   ]
  },
  {
   "cell_type": "code",
   "execution_count": 9,
   "id": "d2c87b09",
   "metadata": {
    "execution": {
     "iopub.execute_input": "2022-02-16T20:21:09.396520Z",
     "iopub.status.busy": "2022-02-16T20:21:09.396372Z",
     "iopub.status.idle": "2022-02-16T20:21:09.399463Z",
     "shell.execute_reply": "2022-02-16T20:21:09.399117Z"
    },
    "papermill": {
     "duration": 0.026668,
     "end_time": "2022-02-16T20:21:09.400598",
     "exception": false,
     "start_time": "2022-02-16T20:21:09.373930",
     "status": "completed"
    },
    "tags": []
   },
   "outputs": [],
   "source": [
    "dirs = [fld for fld in output_root.glob(f'{dataset}-*')]"
   ]
  },
  {
   "cell_type": "code",
   "execution_count": 10,
   "id": "ad1cd1ac",
   "metadata": {
    "execution": {
     "iopub.execute_input": "2022-02-16T20:21:09.443815Z",
     "iopub.status.busy": "2022-02-16T20:21:09.443656Z",
     "iopub.status.idle": "2022-02-16T20:21:12.237007Z",
     "shell.execute_reply": "2022-02-16T20:21:12.236547Z"
    },
    "papermill": {
     "duration": 2.816525,
     "end_time": "2022-02-16T20:21:12.238319",
     "exception": false,
     "start_time": "2022-02-16T20:21:09.421794",
     "status": "completed"
    },
    "tags": []
   },
   "outputs": [
    {
     "name": "stdout",
     "output_type": "stream",
     "text": [
      "<class 'pandas.core.frame.DataFrame'>\n",
      "RangeIndex: 4228000 entries, 0 to 4227999\n",
      "Data columns (total 5 columns):\n",
      " #   Column     Dtype   \n",
      "---  ------     -----   \n",
      " 0   item       int64   \n",
      " 1   score      float64 \n",
      " 2   user       int64   \n",
      " 3   rank       int64   \n",
      " 4   algorithm  category\n",
      "dtypes: category(1), float64(1), int64(3)\n",
      "memory usage: 133.1 MB\n"
     ]
    }
   ],
   "source": [
    "recs = []\n",
    "for fld in dirs: \n",
    "    for file in fld.glob(\"recs-*\"):\n",
    "        rec = pd.read_csv(file, sep=',')\n",
    "        rec[\"algorithm\"] = fld.name.split(\"-\")[1]\n",
    "        recs.append(rec)\n",
    "\n",
    "recs = pd.concat(recs, ignore_index=True)\n",
    "recs = recs.astype({'algorithm': 'category'})\n",
    "recs.info()"
   ]
  },
  {
   "cell_type": "code",
   "execution_count": 11,
   "id": "8c0e5c9d",
   "metadata": {
    "execution": {
     "iopub.execute_input": "2022-02-16T20:21:12.284794Z",
     "iopub.status.busy": "2022-02-16T20:21:12.284627Z",
     "iopub.status.idle": "2022-02-16T20:21:12.309171Z",
     "shell.execute_reply": "2022-02-16T20:21:12.308824Z"
    },
    "papermill": {
     "duration": 0.049065,
     "end_time": "2022-02-16T20:21:12.310403",
     "exception": false,
     "start_time": "2022-02-16T20:21:12.261338",
     "status": "completed"
    },
    "tags": []
   },
   "outputs": [
    {
     "data": {
      "text/plain": [
       "['Pop', 'Bias', 'IIE', 'UUE', 'ALS', 'III', 'IALS']\n",
       "Categories (7, object): ['ALS', 'Bias', 'IALS', 'IIE', 'III', 'Pop', 'UUE']"
      ]
     },
     "execution_count": 11,
     "metadata": {},
     "output_type": "execute_result"
    }
   ],
   "source": [
    "rec_algos = recs['algorithm'].unique()\n",
    "rec_algos"
   ]
  },
  {
   "cell_type": "code",
   "execution_count": 12,
   "id": "4defa506",
   "metadata": {
    "execution": {
     "iopub.execute_input": "2022-02-16T20:21:12.356556Z",
     "iopub.status.busy": "2022-02-16T20:21:12.356412Z",
     "iopub.status.idle": "2022-02-16T20:21:12.564340Z",
     "shell.execute_reply": "2022-02-16T20:21:12.563920Z"
    },
    "papermill": {
     "duration": 0.232562,
     "end_time": "2022-02-16T20:21:12.565631",
     "exception": false,
     "start_time": "2022-02-16T20:21:12.333069",
     "status": "completed"
    },
    "tags": []
   },
   "outputs": [
    {
     "name": "stdout",
     "output_type": "stream",
     "text": [
      "<class 'pandas.core.frame.DataFrame'>\n",
      "RangeIndex: 181200 entries, 0 to 181199\n",
      "Data columns (total 6 columns):\n",
      " #   Column      Non-Null Count   Dtype   \n",
      "---  ------      --------------   -----   \n",
      " 0   user        181200 non-null  int64   \n",
      " 1   item        181200 non-null  int64   \n",
      " 2   rating      181200 non-null  float64 \n",
      " 3   timestamp   181200 non-null  int64   \n",
      " 4   prediction  181154 non-null  float64 \n",
      " 5   algorithm   181200 non-null  category\n",
      "dtypes: category(1), float64(2), int64(3)\n",
      "memory usage: 7.1 MB\n"
     ]
    }
   ],
   "source": [
    "preds = []\n",
    "for fld in dirs:\n",
    "    for file in fld.glob(\"pred-*\"):\n",
    "        pred = pd.read_csv(file, sep=',')\n",
    "        pred[\"algorithm\"] = fld.name.split(\"-\")[1]\n",
    "        preds.append(pred)\n",
    "\n",
    "preds = pd.concat(preds, ignore_index=True)\n",
    "preds = preds.astype({'algorithm': 'category'})\n",
    "preds.info()"
   ]
  },
  {
   "cell_type": "markdown",
   "id": "76e2cc65",
   "metadata": {
    "papermill": {
     "duration": 0.023025,
     "end_time": "2022-02-16T20:21:12.611819",
     "exception": false,
     "start_time": "2022-02-16T20:21:12.588794",
     "status": "completed"
    },
    "tags": []
   },
   "source": [
    "We need to load the test data so that we have the ground truths for computing accuracy "
   ]
  },
  {
   "cell_type": "code",
   "execution_count": 13,
   "id": "6777cbcf",
   "metadata": {
    "execution": {
     "iopub.execute_input": "2022-02-16T20:21:12.658537Z",
     "iopub.status.busy": "2022-02-16T20:21:12.658371Z",
     "iopub.status.idle": "2022-02-16T20:21:12.661115Z",
     "shell.execute_reply": "2022-02-16T20:21:12.660722Z"
    },
    "papermill": {
     "duration": 0.027428,
     "end_time": "2022-02-16T20:21:12.662349",
     "exception": false,
     "start_time": "2022-02-16T20:21:12.634921",
     "status": "completed"
    },
    "tags": []
   },
   "outputs": [],
   "source": [
    "split_root = Path(\"data-split\")\n",
    "split_dir = split_root / dataset"
   ]
  },
  {
   "cell_type": "code",
   "execution_count": 14,
   "id": "d330ffbb",
   "metadata": {
    "execution": {
     "iopub.execute_input": "2022-02-16T20:21:12.708025Z",
     "iopub.status.busy": "2022-02-16T20:21:12.707883Z",
     "iopub.status.idle": "2022-02-16T20:21:12.745728Z",
     "shell.execute_reply": "2022-02-16T20:21:12.745393Z"
    },
    "papermill": {
     "duration": 0.061542,
     "end_time": "2022-02-16T20:21:12.746888",
     "exception": false,
     "start_time": "2022-02-16T20:21:12.685346",
     "status": "completed"
    },
    "tags": []
   },
   "outputs": [
    {
     "data": {
      "text/html": [
       "<div>\n",
       "<style scoped>\n",
       "    .dataframe tbody tr th:only-of-type {\n",
       "        vertical-align: middle;\n",
       "    }\n",
       "\n",
       "    .dataframe tbody tr th {\n",
       "        vertical-align: top;\n",
       "    }\n",
       "\n",
       "    .dataframe thead th {\n",
       "        text-align: right;\n",
       "    }\n",
       "</style>\n",
       "<table border=\"1\" class=\"dataframe\">\n",
       "  <thead>\n",
       "    <tr style=\"text-align: right;\">\n",
       "      <th></th>\n",
       "      <th>user</th>\n",
       "      <th>item</th>\n",
       "      <th>rating</th>\n",
       "      <th>timestamp</th>\n",
       "      <th>part</th>\n",
       "    </tr>\n",
       "    <tr>\n",
       "      <th>index</th>\n",
       "      <th></th>\n",
       "      <th></th>\n",
       "      <th></th>\n",
       "      <th></th>\n",
       "      <th></th>\n",
       "    </tr>\n",
       "  </thead>\n",
       "  <tbody>\n",
       "    <tr>\n",
       "      <th>364</th>\n",
       "      <td>5</td>\n",
       "      <td>321</td>\n",
       "      <td>3.0</td>\n",
       "      <td>978245863</td>\n",
       "      <td>test-3</td>\n",
       "    </tr>\n",
       "    <tr>\n",
       "      <th>360</th>\n",
       "      <td>5</td>\n",
       "      <td>1719</td>\n",
       "      <td>3.0</td>\n",
       "      <td>978244205</td>\n",
       "      <td>test-3</td>\n",
       "    </tr>\n",
       "    <tr>\n",
       "      <th>319</th>\n",
       "      <td>5</td>\n",
       "      <td>1554</td>\n",
       "      <td>3.0</td>\n",
       "      <td>978244540</td>\n",
       "      <td>test-3</td>\n",
       "    </tr>\n",
       "    <tr>\n",
       "      <th>372</th>\n",
       "      <td>5</td>\n",
       "      <td>3105</td>\n",
       "      <td>2.0</td>\n",
       "      <td>978246576</td>\n",
       "      <td>test-3</td>\n",
       "    </tr>\n",
       "    <tr>\n",
       "      <th>386</th>\n",
       "      <td>5</td>\n",
       "      <td>2028</td>\n",
       "      <td>2.0</td>\n",
       "      <td>978244053</td>\n",
       "      <td>test-3</td>\n",
       "    </tr>\n",
       "  </tbody>\n",
       "</table>\n",
       "</div>"
      ],
      "text/plain": [
       "       user  item  rating  timestamp    part\n",
       "index                                       \n",
       "364       5   321     3.0  978245863  test-3\n",
       "360       5  1719     3.0  978244205  test-3\n",
       "319       5  1554     3.0  978244540  test-3\n",
       "372       5  3105     2.0  978246576  test-3\n",
       "386       5  2028     2.0  978244053  test-3"
      ]
     },
     "execution_count": 14,
     "metadata": {},
     "output_type": "execute_result"
    }
   ],
   "source": [
    "test = []\n",
    "for file in split_dir.glob(\"test-*.csv.gz\"):\n",
    "    test.append(pd.read_csv(file, sep=',', index_col='index').assign(part=file.stem.replace('.csv', '')))\n",
    "\n",
    "test = pd.concat(test)\n",
    "test.head()"
   ]
  },
  {
   "cell_type": "markdown",
   "id": "30fe8c09",
   "metadata": {
    "papermill": {
     "duration": 0.022381,
     "end_time": "2022-02-16T20:21:12.793018",
     "exception": false,
     "start_time": "2022-02-16T20:21:12.770637",
     "status": "completed"
    },
    "tags": []
   },
   "source": [
    "# Top-N Metrics"
   ]
  },
  {
   "cell_type": "markdown",
   "id": "2dff3d9a",
   "metadata": {
    "papermill": {
     "duration": 0.022624,
     "end_time": "2022-02-16T20:21:12.838290",
     "exception": false,
     "start_time": "2022-02-16T20:21:12.815666",
     "status": "completed"
    },
    "tags": []
   },
   "source": [
    "The topn.RecListAnalysis class computes top-N metrics for recommendation list and takes care of making sure that the recommendations and ground truths are properly matched. Refer to the documentation for detailed explanation of the purpose for the RecListAnalysis class and how the analysis is done - https://lkpy.lenskit.org/en/stable/evaluation/topn-metrics.html "
   ]
  },
  {
   "cell_type": "code",
   "execution_count": 15,
   "id": "9fdd29f3",
   "metadata": {
    "execution": {
     "iopub.execute_input": "2022-02-16T20:21:12.884575Z",
     "iopub.status.busy": "2022-02-16T20:21:12.884103Z",
     "iopub.status.idle": "2022-02-16T20:21:16.067687Z",
     "shell.execute_reply": "2022-02-16T20:21:16.067215Z"
    },
    "papermill": {
     "duration": 3.208214,
     "end_time": "2022-02-16T20:21:16.069034",
     "exception": false,
     "start_time": "2022-02-16T20:21:12.860820",
     "status": "completed"
    },
    "tags": []
   },
   "outputs": [
    {
     "name": "stdout",
     "output_type": "stream",
     "text": [
      "[   INFO] lenskit.topn analyzing 4228000 recommendations (30200 truth rows)\n"
     ]
    },
    {
     "name": "stdout",
     "output_type": "stream",
     "text": [
      "[   INFO] lenskit.topn using rec key columns ['algorithm', 'user']\n"
     ]
    },
    {
     "name": "stdout",
     "output_type": "stream",
     "text": [
      "[   INFO] lenskit.topn using truth key columns ['user']\n"
     ]
    },
    {
     "name": "stdout",
     "output_type": "stream",
     "text": [
      "[   INFO] lenskit.topn numbering truth lists\n"
     ]
    },
    {
     "name": "stdout",
     "output_type": "stream",
     "text": [
      "[   INFO] lenskit.topn numbering rec lists\n"
     ]
    },
    {
     "name": "stdout",
     "output_type": "stream",
     "text": [
      "[   INFO] lenskit.topn collecting metric results\n"
     ]
    },
    {
     "name": "stdout",
     "output_type": "stream",
     "text": [
      "[   INFO] lenskit.topn measured 42280 lists in 2.23s\n"
     ]
    },
    {
     "name": "stdout",
     "output_type": "stream",
     "text": [
      "[   INFO] lenskit.topn filling in missing user info (42280 initial rows)\n"
     ]
    },
    {
     "data": {
      "text/html": [
       "<div>\n",
       "<style scoped>\n",
       "    .dataframe tbody tr th:only-of-type {\n",
       "        vertical-align: middle;\n",
       "    }\n",
       "\n",
       "    .dataframe tbody tr th {\n",
       "        vertical-align: top;\n",
       "    }\n",
       "\n",
       "    .dataframe thead th {\n",
       "        text-align: right;\n",
       "    }\n",
       "</style>\n",
       "<table border=\"1\" class=\"dataframe\">\n",
       "  <thead>\n",
       "    <tr style=\"text-align: right;\">\n",
       "      <th></th>\n",
       "      <th></th>\n",
       "      <th>level_1</th>\n",
       "      <th>nrecs</th>\n",
       "      <th>precision</th>\n",
       "      <th>recip_rank</th>\n",
       "      <th>ndcg</th>\n",
       "      <th>ntruth</th>\n",
       "    </tr>\n",
       "    <tr>\n",
       "      <th>algorithm</th>\n",
       "      <th>user</th>\n",
       "      <th></th>\n",
       "      <th></th>\n",
       "      <th></th>\n",
       "      <th></th>\n",
       "      <th></th>\n",
       "      <th></th>\n",
       "    </tr>\n",
       "  </thead>\n",
       "  <tbody>\n",
       "    <tr>\n",
       "      <th rowspan=\"5\" valign=\"top\">ALS</th>\n",
       "      <th>1</th>\n",
       "      <td>24160</td>\n",
       "      <td>100</td>\n",
       "      <td>0.02</td>\n",
       "      <td>0.083333</td>\n",
       "      <td>0.119873</td>\n",
       "      <td>5</td>\n",
       "    </tr>\n",
       "    <tr>\n",
       "      <th>6</th>\n",
       "      <td>24161</td>\n",
       "      <td>100</td>\n",
       "      <td>0.00</td>\n",
       "      <td>0.000000</td>\n",
       "      <td>0.000000</td>\n",
       "      <td>5</td>\n",
       "    </tr>\n",
       "    <tr>\n",
       "      <th>10</th>\n",
       "      <td>24162</td>\n",
       "      <td>100</td>\n",
       "      <td>0.02</td>\n",
       "      <td>0.500000</td>\n",
       "      <td>0.338785</td>\n",
       "      <td>5</td>\n",
       "    </tr>\n",
       "    <tr>\n",
       "      <th>16</th>\n",
       "      <td>24163</td>\n",
       "      <td>100</td>\n",
       "      <td>0.00</td>\n",
       "      <td>0.000000</td>\n",
       "      <td>0.000000</td>\n",
       "      <td>5</td>\n",
       "    </tr>\n",
       "    <tr>\n",
       "      <th>17</th>\n",
       "      <td>24164</td>\n",
       "      <td>100</td>\n",
       "      <td>0.01</td>\n",
       "      <td>0.125000</td>\n",
       "      <td>0.093591</td>\n",
       "      <td>5</td>\n",
       "    </tr>\n",
       "  </tbody>\n",
       "</table>\n",
       "</div>"
      ],
      "text/plain": [
       "                level_1  nrecs  precision  recip_rank      ndcg  ntruth\n",
       "algorithm user                                                         \n",
       "ALS       1       24160    100       0.02    0.083333  0.119873       5\n",
       "          6       24161    100       0.00    0.000000  0.000000       5\n",
       "          10      24162    100       0.02    0.500000  0.338785       5\n",
       "          16      24163    100       0.00    0.000000  0.000000       5\n",
       "          17      24164    100       0.01    0.125000  0.093591       5"
      ]
     },
     "execution_count": 15,
     "metadata": {},
     "output_type": "execute_result"
    }
   ],
   "source": [
    "rla = topn.RecListAnalysis()\n",
    "\n",
    "rla.add_metric(topn.precision)\n",
    "rla.add_metric(topn.recip_rank)\n",
    "rla.add_metric(topn.ndcg)\n",
    "results = rla.compute(recs, test, include_missing=True)\n",
    "results = results.fillna(0)\n",
    "results.head()"
   ]
  },
  {
   "cell_type": "markdown",
   "id": "e6e9f17e",
   "metadata": {
    "papermill": {
     "duration": 0.026007,
     "end_time": "2022-02-16T20:21:16.121599",
     "exception": false,
     "start_time": "2022-02-16T20:21:16.095592",
     "status": "completed"
    },
    "tags": []
   },
   "source": [
    "We will reshape the 'results' dataframe by stacking the columns to index and then use the bar chart to visualize the performance of our algorithms with respect to the precision, reciprocal rank and ndcg metrics"
   ]
  },
  {
   "cell_type": "code",
   "execution_count": 16,
   "id": "035fa23b",
   "metadata": {
    "execution": {
     "iopub.execute_input": "2022-02-16T20:21:16.174411Z",
     "iopub.status.busy": "2022-02-16T20:21:16.174241Z",
     "iopub.status.idle": "2022-02-16T20:21:16.191788Z",
     "shell.execute_reply": "2022-02-16T20:21:16.191418Z"
    },
    "papermill": {
     "duration": 0.045528,
     "end_time": "2022-02-16T20:21:16.193034",
     "exception": false,
     "start_time": "2022-02-16T20:21:16.147506",
     "status": "completed"
    },
    "tags": []
   },
   "outputs": [
    {
     "data": {
      "text/html": [
       "<div>\n",
       "<style scoped>\n",
       "    .dataframe tbody tr th:only-of-type {\n",
       "        vertical-align: middle;\n",
       "    }\n",
       "\n",
       "    .dataframe tbody tr th {\n",
       "        vertical-align: top;\n",
       "    }\n",
       "\n",
       "    .dataframe thead th {\n",
       "        text-align: right;\n",
       "    }\n",
       "</style>\n",
       "<table border=\"1\" class=\"dataframe\">\n",
       "  <thead>\n",
       "    <tr style=\"text-align: right;\">\n",
       "      <th></th>\n",
       "      <th>algorithm</th>\n",
       "      <th>user</th>\n",
       "      <th>metric</th>\n",
       "      <th>val</th>\n",
       "    </tr>\n",
       "  </thead>\n",
       "  <tbody>\n",
       "    <tr>\n",
       "      <th>0</th>\n",
       "      <td>ALS</td>\n",
       "      <td>1</td>\n",
       "      <td>level_1</td>\n",
       "      <td>24160.000000</td>\n",
       "    </tr>\n",
       "    <tr>\n",
       "      <th>1</th>\n",
       "      <td>ALS</td>\n",
       "      <td>1</td>\n",
       "      <td>precision</td>\n",
       "      <td>0.020000</td>\n",
       "    </tr>\n",
       "    <tr>\n",
       "      <th>2</th>\n",
       "      <td>ALS</td>\n",
       "      <td>1</td>\n",
       "      <td>recip_rank</td>\n",
       "      <td>0.083333</td>\n",
       "    </tr>\n",
       "    <tr>\n",
       "      <th>3</th>\n",
       "      <td>ALS</td>\n",
       "      <td>1</td>\n",
       "      <td>ndcg</td>\n",
       "      <td>0.119873</td>\n",
       "    </tr>\n",
       "    <tr>\n",
       "      <th>4</th>\n",
       "      <td>ALS</td>\n",
       "      <td>6</td>\n",
       "      <td>level_1</td>\n",
       "      <td>24161.000000</td>\n",
       "    </tr>\n",
       "  </tbody>\n",
       "</table>\n",
       "</div>"
      ],
      "text/plain": [
       "  algorithm  user      metric           val\n",
       "0       ALS     1     level_1  24160.000000\n",
       "1       ALS     1   precision      0.020000\n",
       "2       ALS     1  recip_rank      0.083333\n",
       "3       ALS     1        ndcg      0.119873\n",
       "4       ALS     6     level_1  24161.000000"
      ]
     },
     "execution_count": 16,
     "metadata": {},
     "output_type": "execute_result"
    }
   ],
   "source": [
    "pltData = (results.drop(columns=['nrecs', 'ntruth']).stack()).reset_index()\n",
    "pltData.columns = ['algorithm', 'user', 'metric', 'val']\n",
    "pltData.head()"
   ]
  },
  {
   "cell_type": "markdown",
   "id": "2910087f",
   "metadata": {
    "papermill": {
     "duration": 0.026045,
     "end_time": "2022-02-16T20:21:16.245379",
     "exception": false,
     "start_time": "2022-02-16T20:21:16.219334",
     "status": "completed"
    },
    "tags": []
   },
   "source": [
    "We need to determine if the differences we observe in the performances of the algorithms for the various metrics are statistically significant. To achieve this, we will need to use either a parametric or non-parametric statistical test for comparing the differences. We will consider a parametric test - repeated ANOVA measure cause our sample groups are correlated."
   ]
  },
  {
   "cell_type": "code",
   "execution_count": 17,
   "id": "22d99c50",
   "metadata": {
    "execution": {
     "iopub.execute_input": "2022-02-16T20:21:16.296898Z",
     "iopub.status.busy": "2022-02-16T20:21:16.296746Z",
     "iopub.status.idle": "2022-02-16T20:21:18.249247Z",
     "shell.execute_reply": "2022-02-16T20:21:18.248833Z"
    },
    "papermill": {
     "duration": 1.980152,
     "end_time": "2022-02-16T20:21:18.250607",
     "exception": false,
     "start_time": "2022-02-16T20:21:16.270455",
     "status": "completed"
    },
    "tags": []
   },
   "outputs": [
    {
     "data": {
      "image/png": "[encoded data removed]",
      "text/plain": [
       "<Figure size 1036.8x216 with 4 Axes>"
      ]
     },
     "metadata": {
      "needs_background": "light"
     },
     "output_type": "display_data"
    }
   ],
   "source": [
    "g = sns.catplot(x = \"algorithm\", y = \"val\", data = pltData, kind=\"bar\", col = \"metric\", aspect=1.2, height=3, sharey=False)"
   ]
  },
  {
   "cell_type": "markdown",
   "id": "c26cb44b",
   "metadata": {
    "papermill": {
     "duration": 0.027751,
     "end_time": "2022-02-16T20:21:18.305672",
     "exception": false,
     "start_time": "2022-02-16T20:21:18.277921",
     "status": "completed"
    },
    "tags": []
   },
   "source": [
    "### Statistical Testing"
   ]
  },
  {
   "cell_type": "markdown",
   "id": "64ca2bf9",
   "metadata": {
    "papermill": {
     "duration": 0.025671,
     "end_time": "2022-02-16T20:21:18.356672",
     "exception": false,
     "start_time": "2022-02-16T20:21:18.331001",
     "status": "completed"
    },
    "tags": []
   },
   "source": [
    "We will now examine these metrics in more detail and test for statistical significance.  Best practice for statistical testing for recommender systems is still a work in progress, but this method avoids most of the validity problems we know about.\n",
    "\n",
    "The Friedman $\\chi^2$ test will test the null hypothesis that there is no difference between algorithms in terms of their performance."
   ]
  },
  {
   "cell_type": "code",
   "execution_count": 18,
   "id": "1f38b7b8",
   "metadata": {
    "execution": {
     "iopub.execute_input": "2022-02-16T20:21:18.408746Z",
     "iopub.status.busy": "2022-02-16T20:21:18.408559Z",
     "iopub.status.idle": "2022-02-16T20:21:18.412169Z",
     "shell.execute_reply": "2022-02-16T20:21:18.411802Z"
    },
    "papermill": {
     "duration": 0.03111,
     "end_time": "2022-02-16T20:21:18.413392",
     "exception": false,
     "start_time": "2022-02-16T20:21:18.382282",
     "status": "completed"
    },
    "tags": []
   },
   "outputs": [],
   "source": [
    "def metric_friedman(metric):\n",
    "    groups = [df[metric] for a, df in results.groupby('algorithm')]\n",
    "\n",
    "    stat, p = friedmanchisquare(*groups)\n",
    "    return pd.Series({'stat': stat, 'p': p}, name=metric)"
   ]
  },
  {
   "cell_type": "markdown",
   "id": "0c27b54b",
   "metadata": {
    "papermill": {
     "duration": 0.027196,
     "end_time": "2022-02-16T20:21:18.467482",
     "exception": false,
     "start_time": "2022-02-16T20:21:18.440286",
     "status": "completed"
    },
    "tags": []
   },
   "source": [
    "If the test detects significance, we have at least one pair of different algorithms - but which pairs?  Unfortunately, the good tests aren't readily available in scipy and friends, so we're going to take a conservative approch and perform pairwise Wilconxon signed-rank tests with a Bonferroni adjustment."
   ]
  },
  {
   "cell_type": "code",
   "execution_count": 19,
   "id": "d7e0ab5a",
   "metadata": {
    "execution": {
     "iopub.execute_input": "2022-02-16T20:21:18.522147Z",
     "iopub.status.busy": "2022-02-16T20:21:18.522003Z",
     "iopub.status.idle": "2022-02-16T20:21:18.526941Z",
     "shell.execute_reply": "2022-02-16T20:21:18.526579Z"
    },
    "papermill": {
     "duration": 0.033669,
     "end_time": "2022-02-16T20:21:18.528098",
     "exception": false,
     "start_time": "2022-02-16T20:21:18.494429",
     "status": "completed"
    },
    "tags": []
   },
   "outputs": [],
   "source": [
    "pairs = pd.DataFrame.from_records(combinations(rec_algos, 2), columns=['A1', 'A2'])\n",
    "def am_wilcox(metric, p_scale = len(pairs)):\n",
    "    def compute(df):\n",
    "        vs1 = results.loc[df['A1'], metric]\n",
    "        vs2 = results.loc[df['A2'], metric]\n",
    "        diff = (vs1 - vs2).mean()\n",
    "        stat, p = wilcoxon(vs1, vs2)\n",
    "        return pd.Series({'diff': diff, 'stat': stat, 'p': p, 'adj_p': p * p_scale})\n",
    "    scores = pairs.apply(compute, axis=1)\n",
    "    return pairs.join(scores)"
   ]
  },
  {
   "cell_type": "markdown",
   "id": "8e0205aa",
   "metadata": {
    "papermill": {
     "duration": 0.026799,
     "end_time": "2022-02-16T20:21:18.581883",
     "exception": false,
     "start_time": "2022-02-16T20:21:18.555084",
     "status": "completed"
    },
    "tags": []
   },
   "source": [
    "## Precision"
   ]
  },
  {
   "cell_type": "code",
   "execution_count": 20,
   "id": "adc13e2f",
   "metadata": {
    "execution": {
     "iopub.execute_input": "2022-02-16T20:21:18.636991Z",
     "iopub.status.busy": "2022-02-16T20:21:18.636849Z",
     "iopub.status.idle": "2022-02-16T20:21:18.963107Z",
     "shell.execute_reply": "2022-02-16T20:21:18.962778Z"
    },
    "papermill": {
     "duration": 0.355222,
     "end_time": "2022-02-16T20:21:18.964279",
     "exception": false,
     "start_time": "2022-02-16T20:21:18.609057",
     "status": "completed"
    },
    "tags": []
   },
   "outputs": [
    {
     "data": {
      "text/plain": [
       "stat    17661.83209\n",
       "p           0.00000\n",
       "Name: precision, dtype: float64"
      ]
     },
     "execution_count": 20,
     "metadata": {},
     "output_type": "execute_result"
    }
   ],
   "source": [
    "metric_friedman('precision')"
   ]
  },
  {
   "cell_type": "markdown",
   "id": "95927733",
   "metadata": {
    "papermill": {
     "duration": 0.027472,
     "end_time": "2022-02-16T20:21:19.018999",
     "exception": false,
     "start_time": "2022-02-16T20:21:18.991527",
     "status": "completed"
    },
    "tags": []
   },
   "source": [
    "This indicates a statistically significant difference exists - but where is it?\n",
    "\n",
    "To answer that question, we need a post-hoc test. "
   ]
  },
  {
   "cell_type": "code",
   "execution_count": 21,
   "id": "0e4b5144",
   "metadata": {
    "execution": {
     "iopub.execute_input": "2022-02-16T20:21:19.074934Z",
     "iopub.status.busy": "2022-02-16T20:21:19.074623Z",
     "iopub.status.idle": "2022-02-16T20:21:19.133324Z",
     "shell.execute_reply": "2022-02-16T20:21:19.132995Z"
    },
    "papermill": {
     "duration": 0.088027,
     "end_time": "2022-02-16T20:21:19.134542",
     "exception": false,
     "start_time": "2022-02-16T20:21:19.046515",
     "status": "completed"
    },
    "tags": []
   },
   "outputs": [
    {
     "data": {
      "text/html": [
       "<div>\n",
       "<style scoped>\n",
       "    .dataframe tbody tr th:only-of-type {\n",
       "        vertical-align: middle;\n",
       "    }\n",
       "\n",
       "    .dataframe tbody tr th {\n",
       "        vertical-align: top;\n",
       "    }\n",
       "\n",
       "    .dataframe thead th {\n",
       "        text-align: right;\n",
       "    }\n",
       "</style>\n",
       "<table border=\"1\" class=\"dataframe\">\n",
       "  <thead>\n",
       "    <tr style=\"text-align: right;\">\n",
       "      <th></th>\n",
       "      <th>A1</th>\n",
       "      <th>A2</th>\n",
       "      <th>diff</th>\n",
       "      <th>stat</th>\n",
       "      <th>p</th>\n",
       "      <th>adj_p</th>\n",
       "    </tr>\n",
       "  </thead>\n",
       "  <tbody>\n",
       "    <tr>\n",
       "      <th>2</th>\n",
       "      <td>Pop</td>\n",
       "      <td>UUE</td>\n",
       "      <td>0.009712</td>\n",
       "      <td>991629.5</td>\n",
       "      <td>0.000000e+00</td>\n",
       "      <td>0.000000e+00</td>\n",
       "    </tr>\n",
       "    <tr>\n",
       "      <th>1</th>\n",
       "      <td>Pop</td>\n",
       "      <td>IIE</td>\n",
       "      <td>0.008987</td>\n",
       "      <td>1289201.0</td>\n",
       "      <td>0.000000e+00</td>\n",
       "      <td>0.000000e+00</td>\n",
       "    </tr>\n",
       "    <tr>\n",
       "      <th>0</th>\n",
       "      <td>Pop</td>\n",
       "      <td>Bias</td>\n",
       "      <td>0.008108</td>\n",
       "      <td>1536872.5</td>\n",
       "      <td>0.000000e+00</td>\n",
       "      <td>0.000000e+00</td>\n",
       "    </tr>\n",
       "    <tr>\n",
       "      <th>3</th>\n",
       "      <td>Pop</td>\n",
       "      <td>ALS</td>\n",
       "      <td>0.007891</td>\n",
       "      <td>1596572.0</td>\n",
       "      <td>0.000000e+00</td>\n",
       "      <td>0.000000e+00</td>\n",
       "    </tr>\n",
       "    <tr>\n",
       "      <th>7</th>\n",
       "      <td>Bias</td>\n",
       "      <td>UUE</td>\n",
       "      <td>0.001604</td>\n",
       "      <td>820468.0</td>\n",
       "      <td>1.839196e-50</td>\n",
       "      <td>3.862311e-49</td>\n",
       "    </tr>\n",
       "    <tr>\n",
       "      <th>6</th>\n",
       "      <td>Bias</td>\n",
       "      <td>IIE</td>\n",
       "      <td>0.000879</td>\n",
       "      <td>895747.0</td>\n",
       "      <td>1.679598e-20</td>\n",
       "      <td>3.527157e-19</td>\n",
       "    </tr>\n",
       "    <tr>\n",
       "      <th>11</th>\n",
       "      <td>IIE</td>\n",
       "      <td>UUE</td>\n",
       "      <td>0.000725</td>\n",
       "      <td>941183.0</td>\n",
       "      <td>1.441671e-12</td>\n",
       "      <td>3.027509e-11</td>\n",
       "    </tr>\n",
       "    <tr>\n",
       "      <th>8</th>\n",
       "      <td>Bias</td>\n",
       "      <td>ALS</td>\n",
       "      <td>-0.000217</td>\n",
       "      <td>621712.0</td>\n",
       "      <td>1.662795e-02</td>\n",
       "      <td>3.491869e-01</td>\n",
       "    </tr>\n",
       "    <tr>\n",
       "      <th>12</th>\n",
       "      <td>IIE</td>\n",
       "      <td>ALS</td>\n",
       "      <td>-0.001096</td>\n",
       "      <td>499001.0</td>\n",
       "      <td>9.212382e-41</td>\n",
       "      <td>1.934600e-39</td>\n",
       "    </tr>\n",
       "    <tr>\n",
       "      <th>15</th>\n",
       "      <td>UUE</td>\n",
       "      <td>ALS</td>\n",
       "      <td>-0.001821</td>\n",
       "      <td>639741.0</td>\n",
       "      <td>6.348876e-71</td>\n",
       "      <td>1.333264e-69</td>\n",
       "    </tr>\n",
       "    <tr>\n",
       "      <th>4</th>\n",
       "      <td>Pop</td>\n",
       "      <td>III</td>\n",
       "      <td>-0.004697</td>\n",
       "      <td>2328097.5</td>\n",
       "      <td>1.353232e-125</td>\n",
       "      <td>2.841786e-124</td>\n",
       "    </tr>\n",
       "    <tr>\n",
       "      <th>20</th>\n",
       "      <td>III</td>\n",
       "      <td>IALS</td>\n",
       "      <td>-0.008329</td>\n",
       "      <td>1400611.5</td>\n",
       "      <td>0.000000e+00</td>\n",
       "      <td>0.000000e+00</td>\n",
       "    </tr>\n",
       "    <tr>\n",
       "      <th>18</th>\n",
       "      <td>ALS</td>\n",
       "      <td>III</td>\n",
       "      <td>-0.012588</td>\n",
       "      <td>621681.0</td>\n",
       "      <td>0.000000e+00</td>\n",
       "      <td>0.000000e+00</td>\n",
       "    </tr>\n",
       "    <tr>\n",
       "      <th>9</th>\n",
       "      <td>Bias</td>\n",
       "      <td>III</td>\n",
       "      <td>-0.012805</td>\n",
       "      <td>598888.5</td>\n",
       "      <td>0.000000e+00</td>\n",
       "      <td>0.000000e+00</td>\n",
       "    </tr>\n",
       "    <tr>\n",
       "      <th>5</th>\n",
       "      <td>Pop</td>\n",
       "      <td>IALS</td>\n",
       "      <td>-0.013026</td>\n",
       "      <td>1303915.0</td>\n",
       "      <td>0.000000e+00</td>\n",
       "      <td>0.000000e+00</td>\n",
       "    </tr>\n",
       "    <tr>\n",
       "      <th>13</th>\n",
       "      <td>IIE</td>\n",
       "      <td>III</td>\n",
       "      <td>-0.013684</td>\n",
       "      <td>461484.0</td>\n",
       "      <td>0.000000e+00</td>\n",
       "      <td>0.000000e+00</td>\n",
       "    </tr>\n",
       "    <tr>\n",
       "      <th>16</th>\n",
       "      <td>UUE</td>\n",
       "      <td>III</td>\n",
       "      <td>-0.014409</td>\n",
       "      <td>312505.0</td>\n",
       "      <td>0.000000e+00</td>\n",
       "      <td>0.000000e+00</td>\n",
       "    </tr>\n",
       "    <tr>\n",
       "      <th>19</th>\n",
       "      <td>ALS</td>\n",
       "      <td>IALS</td>\n",
       "      <td>-0.020917</td>\n",
       "      <td>224087.5</td>\n",
       "      <td>0.000000e+00</td>\n",
       "      <td>0.000000e+00</td>\n",
       "    </tr>\n",
       "    <tr>\n",
       "      <th>10</th>\n",
       "      <td>Bias</td>\n",
       "      <td>IALS</td>\n",
       "      <td>-0.021134</td>\n",
       "      <td>200990.0</td>\n",
       "      <td>0.000000e+00</td>\n",
       "      <td>0.000000e+00</td>\n",
       "    </tr>\n",
       "    <tr>\n",
       "      <th>14</th>\n",
       "      <td>IIE</td>\n",
       "      <td>IALS</td>\n",
       "      <td>-0.022013</td>\n",
       "      <td>158015.5</td>\n",
       "      <td>0.000000e+00</td>\n",
       "      <td>0.000000e+00</td>\n",
       "    </tr>\n",
       "    <tr>\n",
       "      <th>17</th>\n",
       "      <td>UUE</td>\n",
       "      <td>IALS</td>\n",
       "      <td>-0.022738</td>\n",
       "      <td>122734.0</td>\n",
       "      <td>0.000000e+00</td>\n",
       "      <td>0.000000e+00</td>\n",
       "    </tr>\n",
       "  </tbody>\n",
       "</table>\n",
       "</div>"
      ],
      "text/plain": [
       "      A1    A2      diff       stat              p          adj_p\n",
       "2    Pop   UUE  0.009712   991629.5   0.000000e+00   0.000000e+00\n",
       "1    Pop   IIE  0.008987  1289201.0   0.000000e+00   0.000000e+00\n",
       "0    Pop  Bias  0.008108  1536872.5   0.000000e+00   0.000000e+00\n",
       "3    Pop   ALS  0.007891  1596572.0   0.000000e+00   0.000000e+00\n",
       "7   Bias   UUE  0.001604   820468.0   1.839196e-50   3.862311e-49\n",
       "6   Bias   IIE  0.000879   895747.0   1.679598e-20   3.527157e-19\n",
       "11   IIE   UUE  0.000725   941183.0   1.441671e-12   3.027509e-11\n",
       "8   Bias   ALS -0.000217   621712.0   1.662795e-02   3.491869e-01\n",
       "12   IIE   ALS -0.001096   499001.0   9.212382e-41   1.934600e-39\n",
       "15   UUE   ALS -0.001821   639741.0   6.348876e-71   1.333264e-69\n",
       "4    Pop   III -0.004697  2328097.5  1.353232e-125  2.841786e-124\n",
       "20   III  IALS -0.008329  1400611.5   0.000000e+00   0.000000e+00\n",
       "18   ALS   III -0.012588   621681.0   0.000000e+00   0.000000e+00\n",
       "9   Bias   III -0.012805   598888.5   0.000000e+00   0.000000e+00\n",
       "5    Pop  IALS -0.013026  1303915.0   0.000000e+00   0.000000e+00\n",
       "13   IIE   III -0.013684   461484.0   0.000000e+00   0.000000e+00\n",
       "16   UUE   III -0.014409   312505.0   0.000000e+00   0.000000e+00\n",
       "19   ALS  IALS -0.020917   224087.5   0.000000e+00   0.000000e+00\n",
       "10  Bias  IALS -0.021134   200990.0   0.000000e+00   0.000000e+00\n",
       "14   IIE  IALS -0.022013   158015.5   0.000000e+00   0.000000e+00\n",
       "17   UUE  IALS -0.022738   122734.0   0.000000e+00   0.000000e+00"
      ]
     },
     "execution_count": 21,
     "metadata": {},
     "output_type": "execute_result"
    }
   ],
   "source": [
    "am_wilcox('precision').sort_values('diff', ascending=False)"
   ]
  },
  {
   "cell_type": "markdown",
   "id": "263b5d4b",
   "metadata": {
    "papermill": {
     "duration": 0.02798,
     "end_time": "2022-02-16T20:21:19.190682",
     "exception": false,
     "start_time": "2022-02-16T20:21:19.162702",
     "status": "completed"
    },
    "tags": []
   },
   "source": [
    "We can consider pairs with an adjusted $p$ value less than 0.05 (5.0e-2) to be statistically significant.  However, we have so many data points, the substance of significance is questionable.  Pay attention to the 'diff' column, which is the difference between A1 and A2 (how much A1 outperforms A2)."
   ]
  },
  {
   "cell_type": "markdown",
   "id": "7050898b",
   "metadata": {
    "papermill": {
     "duration": 0.028027,
     "end_time": "2022-02-16T20:21:19.247104",
     "exception": false,
     "start_time": "2022-02-16T20:21:19.219077",
     "status": "completed"
    },
    "tags": []
   },
   "source": [
    "### nDCG"
   ]
  },
  {
   "cell_type": "markdown",
   "id": "fb444a27",
   "metadata": {
    "papermill": {
     "duration": 0.03371,
     "end_time": "2022-02-16T20:21:19.308973",
     "exception": false,
     "start_time": "2022-02-16T20:21:19.275263",
     "status": "completed"
    },
    "tags": []
   },
   "source": [
    "Now let's do the same for nDCG:"
   ]
  },
  {
   "cell_type": "code",
   "execution_count": 22,
   "id": "be28ecdb",
   "metadata": {
    "execution": {
     "iopub.execute_input": "2022-02-16T20:21:19.365671Z",
     "iopub.status.busy": "2022-02-16T20:21:19.365529Z",
     "iopub.status.idle": "2022-02-16T20:21:19.682729Z",
     "shell.execute_reply": "2022-02-16T20:21:19.682406Z"
    },
    "papermill": {
     "duration": 0.347119,
     "end_time": "2022-02-16T20:21:19.684103",
     "exception": false,
     "start_time": "2022-02-16T20:21:19.336984",
     "status": "completed"
    },
    "tags": []
   },
   "outputs": [
    {
     "data": {
      "text/plain": [
       "stat    15548.598899\n",
       "p           0.000000\n",
       "Name: ndcg, dtype: float64"
      ]
     },
     "execution_count": 22,
     "metadata": {},
     "output_type": "execute_result"
    }
   ],
   "source": [
    "metric_friedman('ndcg')"
   ]
  },
  {
   "cell_type": "code",
   "execution_count": 23,
   "id": "57ac0adf",
   "metadata": {
    "execution": {
     "iopub.execute_input": "2022-02-16T20:21:19.739385Z",
     "iopub.status.busy": "2022-02-16T20:21:19.739081Z",
     "iopub.status.idle": "2022-02-16T20:21:19.805653Z",
     "shell.execute_reply": "2022-02-16T20:21:19.805337Z"
    },
    "papermill": {
     "duration": 0.095969,
     "end_time": "2022-02-16T20:21:19.806820",
     "exception": false,
     "start_time": "2022-02-16T20:21:19.710851",
     "status": "completed"
    },
    "tags": []
   },
   "outputs": [
    {
     "data": {
      "text/html": [
       "<div>\n",
       "<style scoped>\n",
       "    .dataframe tbody tr th:only-of-type {\n",
       "        vertical-align: middle;\n",
       "    }\n",
       "\n",
       "    .dataframe tbody tr th {\n",
       "        vertical-align: top;\n",
       "    }\n",
       "\n",
       "    .dataframe thead th {\n",
       "        text-align: right;\n",
       "    }\n",
       "</style>\n",
       "<table border=\"1\" class=\"dataframe\">\n",
       "  <thead>\n",
       "    <tr style=\"text-align: right;\">\n",
       "      <th></th>\n",
       "      <th>A1</th>\n",
       "      <th>A2</th>\n",
       "      <th>diff</th>\n",
       "      <th>stat</th>\n",
       "      <th>p</th>\n",
       "      <th>adj_p</th>\n",
       "    </tr>\n",
       "  </thead>\n",
       "  <tbody>\n",
       "    <tr>\n",
       "      <th>2</th>\n",
       "      <td>Pop</td>\n",
       "      <td>UUE</td>\n",
       "      <td>0.097387</td>\n",
       "      <td>1310875.0</td>\n",
       "      <td>0.000000e+00</td>\n",
       "      <td>0.000000e+00</td>\n",
       "    </tr>\n",
       "    <tr>\n",
       "      <th>1</th>\n",
       "      <td>Pop</td>\n",
       "      <td>IIE</td>\n",
       "      <td>0.089171</td>\n",
       "      <td>1894946.5</td>\n",
       "      <td>0.000000e+00</td>\n",
       "      <td>0.000000e+00</td>\n",
       "    </tr>\n",
       "    <tr>\n",
       "      <th>0</th>\n",
       "      <td>Pop</td>\n",
       "      <td>Bias</td>\n",
       "      <td>0.078804</td>\n",
       "      <td>2528290.0</td>\n",
       "      <td>0.000000e+00</td>\n",
       "      <td>0.000000e+00</td>\n",
       "    </tr>\n",
       "    <tr>\n",
       "      <th>3</th>\n",
       "      <td>Pop</td>\n",
       "      <td>ALS</td>\n",
       "      <td>0.073402</td>\n",
       "      <td>2828294.0</td>\n",
       "      <td>0.000000e+00</td>\n",
       "      <td>0.000000e+00</td>\n",
       "    </tr>\n",
       "    <tr>\n",
       "      <th>7</th>\n",
       "      <td>Bias</td>\n",
       "      <td>UUE</td>\n",
       "      <td>0.018583</td>\n",
       "      <td>1833958.0</td>\n",
       "      <td>2.618196e-99</td>\n",
       "      <td>5.498212e-98</td>\n",
       "    </tr>\n",
       "    <tr>\n",
       "      <th>6</th>\n",
       "      <td>Bias</td>\n",
       "      <td>IIE</td>\n",
       "      <td>0.010367</td>\n",
       "      <td>2320128.0</td>\n",
       "      <td>1.608550e-38</td>\n",
       "      <td>3.377956e-37</td>\n",
       "    </tr>\n",
       "    <tr>\n",
       "      <th>11</th>\n",
       "      <td>IIE</td>\n",
       "      <td>UUE</td>\n",
       "      <td>0.008216</td>\n",
       "      <td>2175082.0</td>\n",
       "      <td>1.683183e-32</td>\n",
       "      <td>3.534684e-31</td>\n",
       "    </tr>\n",
       "    <tr>\n",
       "      <th>8</th>\n",
       "      <td>Bias</td>\n",
       "      <td>ALS</td>\n",
       "      <td>-0.005403</td>\n",
       "      <td>2569465.5</td>\n",
       "      <td>1.580436e-10</td>\n",
       "      <td>3.318916e-09</td>\n",
       "    </tr>\n",
       "    <tr>\n",
       "      <th>12</th>\n",
       "      <td>IIE</td>\n",
       "      <td>ALS</td>\n",
       "      <td>-0.015769</td>\n",
       "      <td>1625113.0</td>\n",
       "      <td>3.107048e-102</td>\n",
       "      <td>6.524800e-101</td>\n",
       "    </tr>\n",
       "    <tr>\n",
       "      <th>15</th>\n",
       "      <td>UUE</td>\n",
       "      <td>ALS</td>\n",
       "      <td>-0.023985</td>\n",
       "      <td>1444030.5</td>\n",
       "      <td>5.437075e-157</td>\n",
       "      <td>1.141786e-155</td>\n",
       "    </tr>\n",
       "    <tr>\n",
       "      <th>20</th>\n",
       "      <td>III</td>\n",
       "      <td>IALS</td>\n",
       "      <td>-0.030820</td>\n",
       "      <td>6931190.0</td>\n",
       "      <td>4.664003e-49</td>\n",
       "      <td>9.794406e-48</td>\n",
       "    </tr>\n",
       "    <tr>\n",
       "      <th>4</th>\n",
       "      <td>Pop</td>\n",
       "      <td>III</td>\n",
       "      <td>-0.061362</td>\n",
       "      <td>4870495.0</td>\n",
       "      <td>1.328788e-159</td>\n",
       "      <td>2.790456e-158</td>\n",
       "    </tr>\n",
       "    <tr>\n",
       "      <th>5</th>\n",
       "      <td>Pop</td>\n",
       "      <td>IALS</td>\n",
       "      <td>-0.092182</td>\n",
       "      <td>4127088.0</td>\n",
       "      <td>1.150892e-282</td>\n",
       "      <td>2.416872e-281</td>\n",
       "    </tr>\n",
       "    <tr>\n",
       "      <th>18</th>\n",
       "      <td>ALS</td>\n",
       "      <td>III</td>\n",
       "      <td>-0.134764</td>\n",
       "      <td>1178863.5</td>\n",
       "      <td>0.000000e+00</td>\n",
       "      <td>0.000000e+00</td>\n",
       "    </tr>\n",
       "    <tr>\n",
       "      <th>9</th>\n",
       "      <td>Bias</td>\n",
       "      <td>III</td>\n",
       "      <td>-0.140166</td>\n",
       "      <td>988771.0</td>\n",
       "      <td>0.000000e+00</td>\n",
       "      <td>0.000000e+00</td>\n",
       "    </tr>\n",
       "    <tr>\n",
       "      <th>13</th>\n",
       "      <td>IIE</td>\n",
       "      <td>III</td>\n",
       "      <td>-0.150533</td>\n",
       "      <td>669749.5</td>\n",
       "      <td>0.000000e+00</td>\n",
       "      <td>0.000000e+00</td>\n",
       "    </tr>\n",
       "    <tr>\n",
       "      <th>16</th>\n",
       "      <td>UUE</td>\n",
       "      <td>III</td>\n",
       "      <td>-0.158749</td>\n",
       "      <td>367538.5</td>\n",
       "      <td>0.000000e+00</td>\n",
       "      <td>0.000000e+00</td>\n",
       "    </tr>\n",
       "    <tr>\n",
       "      <th>19</th>\n",
       "      <td>ALS</td>\n",
       "      <td>IALS</td>\n",
       "      <td>-0.165584</td>\n",
       "      <td>937317.0</td>\n",
       "      <td>0.000000e+00</td>\n",
       "      <td>0.000000e+00</td>\n",
       "    </tr>\n",
       "    <tr>\n",
       "      <th>10</th>\n",
       "      <td>Bias</td>\n",
       "      <td>IALS</td>\n",
       "      <td>-0.170986</td>\n",
       "      <td>753195.0</td>\n",
       "      <td>0.000000e+00</td>\n",
       "      <td>0.000000e+00</td>\n",
       "    </tr>\n",
       "    <tr>\n",
       "      <th>14</th>\n",
       "      <td>IIE</td>\n",
       "      <td>IALS</td>\n",
       "      <td>-0.181353</td>\n",
       "      <td>425243.0</td>\n",
       "      <td>0.000000e+00</td>\n",
       "      <td>0.000000e+00</td>\n",
       "    </tr>\n",
       "    <tr>\n",
       "      <th>17</th>\n",
       "      <td>UUE</td>\n",
       "      <td>IALS</td>\n",
       "      <td>-0.189569</td>\n",
       "      <td>295730.0</td>\n",
       "      <td>0.000000e+00</td>\n",
       "      <td>0.000000e+00</td>\n",
       "    </tr>\n",
       "  </tbody>\n",
       "</table>\n",
       "</div>"
      ],
      "text/plain": [
       "      A1    A2      diff       stat              p          adj_p\n",
       "2    Pop   UUE  0.097387  1310875.0   0.000000e+00   0.000000e+00\n",
       "1    Pop   IIE  0.089171  1894946.5   0.000000e+00   0.000000e+00\n",
       "0    Pop  Bias  0.078804  2528290.0   0.000000e+00   0.000000e+00\n",
       "3    Pop   ALS  0.073402  2828294.0   0.000000e+00   0.000000e+00\n",
       "7   Bias   UUE  0.018583  1833958.0   2.618196e-99   5.498212e-98\n",
       "6   Bias   IIE  0.010367  2320128.0   1.608550e-38   3.377956e-37\n",
       "11   IIE   UUE  0.008216  2175082.0   1.683183e-32   3.534684e-31\n",
       "8   Bias   ALS -0.005403  2569465.5   1.580436e-10   3.318916e-09\n",
       "12   IIE   ALS -0.015769  1625113.0  3.107048e-102  6.524800e-101\n",
       "15   UUE   ALS -0.023985  1444030.5  5.437075e-157  1.141786e-155\n",
       "20   III  IALS -0.030820  6931190.0   4.664003e-49   9.794406e-48\n",
       "4    Pop   III -0.061362  4870495.0  1.328788e-159  2.790456e-158\n",
       "5    Pop  IALS -0.092182  4127088.0  1.150892e-282  2.416872e-281\n",
       "18   ALS   III -0.134764  1178863.5   0.000000e+00   0.000000e+00\n",
       "9   Bias   III -0.140166   988771.0   0.000000e+00   0.000000e+00\n",
       "13   IIE   III -0.150533   669749.5   0.000000e+00   0.000000e+00\n",
       "16   UUE   III -0.158749   367538.5   0.000000e+00   0.000000e+00\n",
       "19   ALS  IALS -0.165584   937317.0   0.000000e+00   0.000000e+00\n",
       "10  Bias  IALS -0.170986   753195.0   0.000000e+00   0.000000e+00\n",
       "14   IIE  IALS -0.181353   425243.0   0.000000e+00   0.000000e+00\n",
       "17   UUE  IALS -0.189569   295730.0   0.000000e+00   0.000000e+00"
      ]
     },
     "execution_count": 23,
     "metadata": {},
     "output_type": "execute_result"
    }
   ],
   "source": [
    "am_wilcox('ndcg').sort_values('diff', ascending=False)"
   ]
  },
  {
   "cell_type": "markdown",
   "id": "e3aba53c",
   "metadata": {
    "papermill": {
     "duration": 0.027435,
     "end_time": "2022-02-16T20:21:19.861840",
     "exception": false,
     "start_time": "2022-02-16T20:21:19.834405",
     "status": "completed"
    },
    "tags": []
   },
   "source": [
    "### Reciprocal Rank\n",
    "\n",
    "We'll do this also for reciprocal rank (what is aggregated to compute MRR):"
   ]
  },
  {
   "cell_type": "code",
   "execution_count": 24,
   "id": "aa13a820",
   "metadata": {
    "execution": {
     "iopub.execute_input": "2022-02-16T20:21:19.917376Z",
     "iopub.status.busy": "2022-02-16T20:21:19.917237Z",
     "iopub.status.idle": "2022-02-16T20:21:20.256787Z",
     "shell.execute_reply": "2022-02-16T20:21:20.256453Z"
    },
    "papermill": {
     "duration": 0.368667,
     "end_time": "2022-02-16T20:21:20.258019",
     "exception": false,
     "start_time": "2022-02-16T20:21:19.889352",
     "status": "completed"
    },
    "tags": []
   },
   "outputs": [
    {
     "data": {
      "text/plain": [
       "stat    14030.709454\n",
       "p           0.000000\n",
       "Name: recip_rank, dtype: float64"
      ]
     },
     "execution_count": 24,
     "metadata": {},
     "output_type": "execute_result"
    }
   ],
   "source": [
    "metric_friedman('recip_rank')"
   ]
  },
  {
   "cell_type": "code",
   "execution_count": 25,
   "id": "1bab9211",
   "metadata": {
    "execution": {
     "iopub.execute_input": "2022-02-16T20:21:20.314586Z",
     "iopub.status.busy": "2022-02-16T20:21:20.314445Z",
     "iopub.status.idle": "2022-02-16T20:21:20.383584Z",
     "shell.execute_reply": "2022-02-16T20:21:20.383253Z"
    },
    "papermill": {
     "duration": 0.099258,
     "end_time": "2022-02-16T20:21:20.384761",
     "exception": false,
     "start_time": "2022-02-16T20:21:20.285503",
     "status": "completed"
    },
    "tags": []
   },
   "outputs": [
    {
     "data": {
      "text/html": [
       "<div>\n",
       "<style scoped>\n",
       "    .dataframe tbody tr th:only-of-type {\n",
       "        vertical-align: middle;\n",
       "    }\n",
       "\n",
       "    .dataframe tbody tr th {\n",
       "        vertical-align: top;\n",
       "    }\n",
       "\n",
       "    .dataframe thead th {\n",
       "        text-align: right;\n",
       "    }\n",
       "</style>\n",
       "<table border=\"1\" class=\"dataframe\">\n",
       "  <thead>\n",
       "    <tr style=\"text-align: right;\">\n",
       "      <th></th>\n",
       "      <th>A1</th>\n",
       "      <th>A2</th>\n",
       "      <th>diff</th>\n",
       "      <th>stat</th>\n",
       "      <th>p</th>\n",
       "      <th>adj_p</th>\n",
       "    </tr>\n",
       "  </thead>\n",
       "  <tbody>\n",
       "    <tr>\n",
       "      <th>2</th>\n",
       "      <td>Pop</td>\n",
       "      <td>UUE</td>\n",
       "      <td>0.136330</td>\n",
       "      <td>1248464.5</td>\n",
       "      <td>0.000000e+00</td>\n",
       "      <td>0.000000e+00</td>\n",
       "    </tr>\n",
       "    <tr>\n",
       "      <th>1</th>\n",
       "      <td>Pop</td>\n",
       "      <td>IIE</td>\n",
       "      <td>0.127059</td>\n",
       "      <td>1930998.5</td>\n",
       "      <td>0.000000e+00</td>\n",
       "      <td>0.000000e+00</td>\n",
       "    </tr>\n",
       "    <tr>\n",
       "      <th>0</th>\n",
       "      <td>Pop</td>\n",
       "      <td>Bias</td>\n",
       "      <td>0.109231</td>\n",
       "      <td>2848842.0</td>\n",
       "      <td>2.967352e-305</td>\n",
       "      <td>6.231439e-304</td>\n",
       "    </tr>\n",
       "    <tr>\n",
       "      <th>3</th>\n",
       "      <td>Pop</td>\n",
       "      <td>ALS</td>\n",
       "      <td>0.099339</td>\n",
       "      <td>2964267.0</td>\n",
       "      <td>9.011936e-288</td>\n",
       "      <td>1.892507e-286</td>\n",
       "    </tr>\n",
       "    <tr>\n",
       "      <th>20</th>\n",
       "      <td>III</td>\n",
       "      <td>IALS</td>\n",
       "      <td>0.041904</td>\n",
       "      <td>7592939.5</td>\n",
       "      <td>4.150075e-05</td>\n",
       "      <td>8.715157e-04</td>\n",
       "    </tr>\n",
       "    <tr>\n",
       "      <th>7</th>\n",
       "      <td>Bias</td>\n",
       "      <td>UUE</td>\n",
       "      <td>0.027099</td>\n",
       "      <td>1575356.5</td>\n",
       "      <td>3.631493e-140</td>\n",
       "      <td>7.626135e-139</td>\n",
       "    </tr>\n",
       "    <tr>\n",
       "      <th>6</th>\n",
       "      <td>Bias</td>\n",
       "      <td>IIE</td>\n",
       "      <td>0.017828</td>\n",
       "      <td>2121727.5</td>\n",
       "      <td>6.842229e-54</td>\n",
       "      <td>1.436868e-52</td>\n",
       "    </tr>\n",
       "    <tr>\n",
       "      <th>11</th>\n",
       "      <td>IIE</td>\n",
       "      <td>UUE</td>\n",
       "      <td>0.009270</td>\n",
       "      <td>2057388.5</td>\n",
       "      <td>1.618495e-42</td>\n",
       "      <td>3.398840e-41</td>\n",
       "    </tr>\n",
       "    <tr>\n",
       "      <th>8</th>\n",
       "      <td>Bias</td>\n",
       "      <td>ALS</td>\n",
       "      <td>-0.009892</td>\n",
       "      <td>2604513.5</td>\n",
       "      <td>1.853701e-05</td>\n",
       "      <td>3.892772e-04</td>\n",
       "    </tr>\n",
       "    <tr>\n",
       "      <th>12</th>\n",
       "      <td>IIE</td>\n",
       "      <td>ALS</td>\n",
       "      <td>-0.027720</td>\n",
       "      <td>1567433.0</td>\n",
       "      <td>4.984826e-106</td>\n",
       "      <td>1.046814e-104</td>\n",
       "    </tr>\n",
       "    <tr>\n",
       "      <th>15</th>\n",
       "      <td>UUE</td>\n",
       "      <td>ALS</td>\n",
       "      <td>-0.036990</td>\n",
       "      <td>1307313.5</td>\n",
       "      <td>6.523763e-181</td>\n",
       "      <td>1.369990e-179</td>\n",
       "    </tr>\n",
       "    <tr>\n",
       "      <th>5</th>\n",
       "      <td>Pop</td>\n",
       "      <td>IALS</td>\n",
       "      <td>-0.060541</td>\n",
       "      <td>6017504.5</td>\n",
       "      <td>3.114782e-80</td>\n",
       "      <td>6.541042e-79</td>\n",
       "    </tr>\n",
       "    <tr>\n",
       "      <th>4</th>\n",
       "      <td>Pop</td>\n",
       "      <td>III</td>\n",
       "      <td>-0.102445</td>\n",
       "      <td>4878656.5</td>\n",
       "      <td>7.664668e-119</td>\n",
       "      <td>1.609580e-117</td>\n",
       "    </tr>\n",
       "    <tr>\n",
       "      <th>19</th>\n",
       "      <td>ALS</td>\n",
       "      <td>IALS</td>\n",
       "      <td>-0.159880</td>\n",
       "      <td>2105046.0</td>\n",
       "      <td>0.000000e+00</td>\n",
       "      <td>0.000000e+00</td>\n",
       "    </tr>\n",
       "    <tr>\n",
       "      <th>10</th>\n",
       "      <td>Bias</td>\n",
       "      <td>IALS</td>\n",
       "      <td>-0.169772</td>\n",
       "      <td>1968078.5</td>\n",
       "      <td>0.000000e+00</td>\n",
       "      <td>0.000000e+00</td>\n",
       "    </tr>\n",
       "    <tr>\n",
       "      <th>14</th>\n",
       "      <td>IIE</td>\n",
       "      <td>IALS</td>\n",
       "      <td>-0.187600</td>\n",
       "      <td>1099539.0</td>\n",
       "      <td>0.000000e+00</td>\n",
       "      <td>0.000000e+00</td>\n",
       "    </tr>\n",
       "    <tr>\n",
       "      <th>17</th>\n",
       "      <td>UUE</td>\n",
       "      <td>IALS</td>\n",
       "      <td>-0.196871</td>\n",
       "      <td>758502.5</td>\n",
       "      <td>0.000000e+00</td>\n",
       "      <td>0.000000e+00</td>\n",
       "    </tr>\n",
       "    <tr>\n",
       "      <th>18</th>\n",
       "      <td>ALS</td>\n",
       "      <td>III</td>\n",
       "      <td>-0.201784</td>\n",
       "      <td>1586866.5</td>\n",
       "      <td>0.000000e+00</td>\n",
       "      <td>0.000000e+00</td>\n",
       "    </tr>\n",
       "    <tr>\n",
       "      <th>9</th>\n",
       "      <td>Bias</td>\n",
       "      <td>III</td>\n",
       "      <td>-0.211676</td>\n",
       "      <td>1521957.0</td>\n",
       "      <td>0.000000e+00</td>\n",
       "      <td>0.000000e+00</td>\n",
       "    </tr>\n",
       "    <tr>\n",
       "      <th>13</th>\n",
       "      <td>IIE</td>\n",
       "      <td>III</td>\n",
       "      <td>-0.229504</td>\n",
       "      <td>869103.5</td>\n",
       "      <td>0.000000e+00</td>\n",
       "      <td>0.000000e+00</td>\n",
       "    </tr>\n",
       "    <tr>\n",
       "      <th>16</th>\n",
       "      <td>UUE</td>\n",
       "      <td>III</td>\n",
       "      <td>-0.238775</td>\n",
       "      <td>453556.0</td>\n",
       "      <td>0.000000e+00</td>\n",
       "      <td>0.000000e+00</td>\n",
       "    </tr>\n",
       "  </tbody>\n",
       "</table>\n",
       "</div>"
      ],
      "text/plain": [
       "      A1    A2      diff       stat              p          adj_p\n",
       "2    Pop   UUE  0.136330  1248464.5   0.000000e+00   0.000000e+00\n",
       "1    Pop   IIE  0.127059  1930998.5   0.000000e+00   0.000000e+00\n",
       "0    Pop  Bias  0.109231  2848842.0  2.967352e-305  6.231439e-304\n",
       "3    Pop   ALS  0.099339  2964267.0  9.011936e-288  1.892507e-286\n",
       "20   III  IALS  0.041904  7592939.5   4.150075e-05   8.715157e-04\n",
       "7   Bias   UUE  0.027099  1575356.5  3.631493e-140  7.626135e-139\n",
       "6   Bias   IIE  0.017828  2121727.5   6.842229e-54   1.436868e-52\n",
       "11   IIE   UUE  0.009270  2057388.5   1.618495e-42   3.398840e-41\n",
       "8   Bias   ALS -0.009892  2604513.5   1.853701e-05   3.892772e-04\n",
       "12   IIE   ALS -0.027720  1567433.0  4.984826e-106  1.046814e-104\n",
       "15   UUE   ALS -0.036990  1307313.5  6.523763e-181  1.369990e-179\n",
       "5    Pop  IALS -0.060541  6017504.5   3.114782e-80   6.541042e-79\n",
       "4    Pop   III -0.102445  4878656.5  7.664668e-119  1.609580e-117\n",
       "19   ALS  IALS -0.159880  2105046.0   0.000000e+00   0.000000e+00\n",
       "10  Bias  IALS -0.169772  1968078.5   0.000000e+00   0.000000e+00\n",
       "14   IIE  IALS -0.187600  1099539.0   0.000000e+00   0.000000e+00\n",
       "17   UUE  IALS -0.196871   758502.5   0.000000e+00   0.000000e+00\n",
       "18   ALS   III -0.201784  1586866.5   0.000000e+00   0.000000e+00\n",
       "9   Bias   III -0.211676  1521957.0   0.000000e+00   0.000000e+00\n",
       "13   IIE   III -0.229504   869103.5   0.000000e+00   0.000000e+00\n",
       "16   UUE   III -0.238775   453556.0   0.000000e+00   0.000000e+00"
      ]
     },
     "execution_count": 25,
     "metadata": {},
     "output_type": "execute_result"
    }
   ],
   "source": [
    "am_wilcox('recip_rank').sort_values('diff', ascending=False)"
   ]
  },
  {
   "cell_type": "markdown",
   "id": "a2d697b0",
   "metadata": {
    "papermill": {
     "duration": 0.02839,
     "end_time": "2022-02-16T20:21:20.441471",
     "exception": false,
     "start_time": "2022-02-16T20:21:20.413081",
     "status": "completed"
    },
    "tags": []
   },
   "source": [
    "## Prediction RMSE\n",
    "\n",
    "We will also look at the prediction RMSE."
   ]
  },
  {
   "cell_type": "code",
   "execution_count": 26,
   "id": "dc1ef919",
   "metadata": {
    "execution": {
     "iopub.execute_input": "2022-02-16T20:21:20.499175Z",
     "iopub.status.busy": "2022-02-16T20:21:20.498864Z",
     "iopub.status.idle": "2022-02-16T20:21:37.730861Z",
     "shell.execute_reply": "2022-02-16T20:21:37.730063Z"
    },
    "papermill": {
     "duration": 17.262386,
     "end_time": "2022-02-16T20:21:37.732280",
     "exception": false,
     "start_time": "2022-02-16T20:21:20.469894",
     "status": "completed"
    },
    "tags": []
   },
   "outputs": [],
   "source": [
    "user_rmse = preds.groupby(['algorithm', 'user']).apply(lambda df: rmse(df['prediction'], df['rating']))\n",
    "user_rmse = user_rmse.reset_index(name='RMSE')"
   ]
  },
  {
   "cell_type": "code",
   "execution_count": 27,
   "id": "1b2b6cd6",
   "metadata": {
    "execution": {
     "iopub.execute_input": "2022-02-16T20:21:37.790640Z",
     "iopub.status.busy": "2022-02-16T20:21:37.790451Z",
     "iopub.status.idle": "2022-02-16T20:21:38.208505Z",
     "shell.execute_reply": "2022-02-16T20:21:38.208128Z"
    },
    "papermill": {
     "duration": 0.448519,
     "end_time": "2022-02-16T20:21:38.209681",
     "exception": false,
     "start_time": "2022-02-16T20:21:37.761162",
     "status": "completed"
    },
    "tags": []
   },
   "outputs": [
    {
     "data": {
      "text/plain": [
       "<seaborn.axisgrid.FacetGrid at 0x7fffcc9bffd0>"
      ]
     },
     "execution_count": 27,
     "metadata": {},
     "output_type": "execute_result"
    },
    {
     "data": {
      "image/png": "[encoded data removed]",
      "text/plain": [
       "<Figure size 360x360 with 1 Axes>"
      ]
     },
     "metadata": {
      "needs_background": "light"
     },
     "output_type": "display_data"
    }
   ],
   "source": [
    "sns.catplot(x='algorithm', y='RMSE', data=user_rmse, kind='bar')"
   ]
  },
  {
   "cell_type": "code",
   "execution_count": null,
   "id": "adace214",
   "metadata": {
    "papermill": {
     "duration": 0.029188,
     "end_time": "2022-02-16T20:21:38.268014",
     "exception": false,
     "start_time": "2022-02-16T20:21:38.238826",
     "status": "completed"
    },
    "tags": []
   },
   "outputs": [],
   "source": []
  }
 ],
 "metadata": {
  "kernelspec": {
   "display_name": "Python 3 (ipykernel)",
   "language": "python",
   "name": "python3"
  },
  "language_info": {
   "codemirror_mode": {
    "name": "ipython",
    "version": 3
   },
   "file_extension": ".py",
   "mimetype": "text/x-python",
   "name": "python",
   "nbconvert_exporter": "python",
   "pygments_lexer": "ipython3",
   "version": "3.9.10"
  },
  "papermill": {
   "default_parameters": {},
   "duration": 36.397605,
   "end_time": "2022-02-16T20:21:38.728699",
   "environment_variables": {},
   "exception": null,
   "input_path": "eval-report.ipynb",
   "output_path": "eval-report.ml1m.ipynb",
   "parameters": {
    "dataset": "ml1m"
   },
   "start_time": "2022-02-16T20:21:02.331094",
   "version": "2.3.4"
  }
 },
 "nbformat": 4,
 "nbformat_minor": 5
}