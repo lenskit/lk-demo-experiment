{
 "cells": [
  {
   "cell_type": "markdown",
   "id": "93740f9f",
   "metadata": {
    "papermill": {
     "duration": 0.002547,
     "end_time": "2024-12-18T00:12:41.223993",
     "exception": false,
     "start_time": "2024-12-18T00:12:41.221446",
     "status": "completed"
    },
    "tags": []
   },
   "source": [
    "# Evaluation Analysis for Recommender Output"
   ]
  },
  {
   "cell_type": "markdown",
   "id": "678b1137",
   "metadata": {
    "papermill": {
     "duration": 0.001056,
     "end_time": "2024-12-18T00:12:41.226384",
     "exception": false,
     "start_time": "2024-12-18T00:12:41.225328",
     "status": "completed"
    },
    "tags": []
   },
   "source": [
    "In this section we will analyze and compare the generated recommendations and predictions from a predefined list of algorithms with the goal of assessing the performance of each algorithm with respect to a metric. In other words, we would rank the algorithms for each metric considered with respect to performance."
   ]
  },
  {
   "cell_type": "markdown",
   "id": "e1501de5",
   "metadata": {
    "papermill": {
     "duration": 0.001037,
     "end_time": "2024-12-18T00:12:41.228502",
     "exception": false,
     "start_time": "2024-12-18T00:12:41.227465",
     "status": "completed"
    },
    "tags": []
   },
   "source": [
    "## Setup"
   ]
  },
  {
   "cell_type": "markdown",
   "id": "78e0ea5a",
   "metadata": {
    "papermill": {
     "duration": 0.001031,
     "end_time": "2024-12-18T00:12:41.230593",
     "exception": false,
     "start_time": "2024-12-18T00:12:41.229562",
     "status": "completed"
    },
    "tags": []
   },
   "source": [
    "Below are the list of packages required to successfully run the analysis. They are divided into partitions to signify their specific task.<br>\n",
    "We need the pathlib package for working with files and folders"
   ]
  },
  {
   "cell_type": "code",
   "execution_count": 1,
   "id": "aa9b9024",
   "metadata": {
    "execution": {
     "iopub.execute_input": "2024-12-18T00:12:41.233370Z",
     "iopub.status.busy": "2024-12-18T00:12:41.233212Z",
     "iopub.status.idle": "2024-12-18T00:12:41.235773Z",
     "shell.execute_reply": "2024-12-18T00:12:41.235232Z"
    },
    "papermill": {
     "duration": 0.004636,
     "end_time": "2024-12-18T00:12:41.236286",
     "exception": false,
     "start_time": "2024-12-18T00:12:41.231650",
     "status": "completed"
    },
    "tags": []
   },
   "outputs": [],
   "source": [
    "from pathlib import Path\n",
    "import json"
   ]
  },
  {
   "cell_type": "markdown",
   "id": "4a21d11d",
   "metadata": {
    "papermill": {
     "duration": 0.001063,
     "end_time": "2024-12-18T00:12:41.238460",
     "exception": false,
     "start_time": "2024-12-18T00:12:41.237397",
     "status": "completed"
    },
    "tags": []
   },
   "source": [
    "We would use the pandas for analyzing and manipulating our data while seaborn and matplotlib are used for data visualization. statsmodels.graphics.gofplots and scipy.stats.shapiro are used for normality check. Scipy.stats.friedmanchisquare is a non-parametric test used to determine the statistical significance in metric results and the wilcoxon test is used for pairwise comparison of sample data."
   ]
  },
  {
   "cell_type": "code",
   "execution_count": 2,
   "id": "a72bade7",
   "metadata": {
    "execution": {
     "iopub.execute_input": "2024-12-18T00:12:41.241168Z",
     "iopub.status.busy": "2024-12-18T00:12:41.240912Z",
     "iopub.status.idle": "2024-12-18T00:12:41.698818Z",
     "shell.execute_reply": "2024-12-18T00:12:41.698425Z"
    },
    "lines_to_next_cell": 2,
    "papermill": {
     "duration": 0.460099,
     "end_time": "2024-12-18T00:12:41.699639",
     "exception": false,
     "start_time": "2024-12-18T00:12:41.239540",
     "status": "completed"
    },
    "tags": []
   },
   "outputs": [],
   "source": [
    "import pandas as pd\n",
    "import seaborn as sns\n",
    "import matplotlib.pyplot as plt\n",
    "from statsmodels.graphics.gofplots import qqplot\n",
    "from scipy.stats import shapiro\n",
    "from scipy.stats import friedmanchisquare, wilcoxon\n",
    "from itertools import combinations"
   ]
  },
  {
   "cell_type": "markdown",
   "id": "e3a36d16",
   "metadata": {
    "papermill": {
     "duration": 0.009137,
     "end_time": "2024-12-18T00:12:41.710131",
     "exception": false,
     "start_time": "2024-12-18T00:12:41.700994",
     "status": "completed"
    },
    "tags": []
   },
   "source": [
    "Import the LensKit metrics for analysis:"
   ]
  },
  {
   "cell_type": "code",
   "execution_count": 3,
   "id": "14187914",
   "metadata": {
    "execution": {
     "iopub.execute_input": "2024-12-18T00:12:41.712936Z",
     "iopub.status.busy": "2024-12-18T00:12:41.712813Z",
     "iopub.status.idle": "2024-12-18T00:12:42.333318Z",
     "shell.execute_reply": "2024-12-18T00:12:42.332783Z"
    },
    "papermill": {
     "duration": 0.622831,
     "end_time": "2024-12-18T00:12:42.334184",
     "exception": false,
     "start_time": "2024-12-18T00:12:41.711353",
     "status": "completed"
    },
    "tags": []
   },
   "outputs": [],
   "source": [
    "from lenskit.data import ItemListCollection, UserIDKey\n",
    "from lenskit.metrics import RunAnalysis, RMSE, NDCG, RecipRank, RBP"
   ]
  },
  {
   "cell_type": "markdown",
   "id": "8a2f1201",
   "metadata": {
    "papermill": {
     "duration": 0.00921,
     "end_time": "2024-12-18T00:12:42.344800",
     "exception": false,
     "start_time": "2024-12-18T00:12:42.335590",
     "status": "completed"
    },
    "tags": []
   },
   "source": [
    "## Load Data\n",
    "\n",
    "The recommendations are in `runs`, and we will need to reassemble the test data from `test`."
   ]
  },
  {
   "cell_type": "code",
   "execution_count": 4,
   "id": "322018fa",
   "metadata": {
    "execution": {
     "iopub.execute_input": "2024-12-18T00:12:42.347877Z",
     "iopub.status.busy": "2024-12-18T00:12:42.347742Z",
     "iopub.status.idle": "2024-12-18T00:12:42.350037Z",
     "shell.execute_reply": "2024-12-18T00:12:42.349634Z"
    },
    "papermill": {
     "duration": 0.004536,
     "end_time": "2024-12-18T00:12:42.350431",
     "exception": false,
     "start_time": "2024-12-18T00:12:42.345895",
     "status": "completed"
    },
    "tags": [
     "parameters"
    ]
   },
   "outputs": [],
   "source": [
    "dataset = \"ml100k\""
   ]
  },
  {
   "cell_type": "code",
   "execution_count": 5,
   "id": "571247b4",
   "metadata": {
    "execution": {
     "iopub.execute_input": "2024-12-18T00:12:42.353040Z",
     "iopub.status.busy": "2024-12-18T00:12:42.352969Z",
     "iopub.status.idle": "2024-12-18T00:12:42.354368Z",
     "shell.execute_reply": "2024-12-18T00:12:42.354165Z"
    },
    "papermill": {
     "duration": 0.003182,
     "end_time": "2024-12-18T00:12:42.354792",
     "exception": false,
     "start_time": "2024-12-18T00:12:42.351610",
     "status": "completed"
    },
    "tags": [
     "injected-parameters"
    ]
   },
   "outputs": [],
   "source": [
    "# Parameters\n",
    "dataset = \"ml1m\"\n"
   ]
  },
  {
   "cell_type": "code",
   "execution_count": 6,
   "id": "bcc16ac2",
   "metadata": {
    "execution": {
     "iopub.execute_input": "2024-12-18T00:12:42.357670Z",
     "iopub.status.busy": "2024-12-18T00:12:42.357604Z",
     "iopub.status.idle": "2024-12-18T00:12:42.359004Z",
     "shell.execute_reply": "2024-12-18T00:12:42.358806Z"
    },
    "papermill": {
     "duration": 0.003328,
     "end_time": "2024-12-18T00:12:42.359273",
     "exception": false,
     "start_time": "2024-12-18T00:12:42.355945",
     "status": "completed"
    },
    "tags": []
   },
   "outputs": [],
   "source": [
    "output_root = Path(\"runs\")"
   ]
  },
  {
   "cell_type": "code",
   "execution_count": 7,
   "id": "ceb1ee76",
   "metadata": {
    "execution": {
     "iopub.execute_input": "2024-12-18T00:12:42.361819Z",
     "iopub.status.busy": "2024-12-18T00:12:42.361756Z",
     "iopub.status.idle": "2024-12-18T00:12:42.363346Z",
     "shell.execute_reply": "2024-12-18T00:12:42.363137Z"
    },
    "papermill": {
     "duration": 0.003214,
     "end_time": "2024-12-18T00:12:42.363636",
     "exception": false,
     "start_time": "2024-12-18T00:12:42.360422",
     "status": "completed"
    },
    "tags": []
   },
   "outputs": [],
   "source": [
    "dirs = [fld for fld in output_root.glob(f'{dataset}-*')]"
   ]
  },
  {
   "cell_type": "code",
   "execution_count": 8,
   "id": "ba136ca4",
   "metadata": {
    "execution": {
     "iopub.execute_input": "2024-12-18T00:12:42.366141Z",
     "iopub.status.busy": "2024-12-18T00:12:42.366076Z",
     "iopub.status.idle": "2024-12-18T00:12:43.077240Z",
     "shell.execute_reply": "2024-12-18T00:12:43.076693Z"
    },
    "papermill": {
     "duration": 0.71329,
     "end_time": "2024-12-18T00:12:43.078075",
     "exception": false,
     "start_time": "2024-12-18T00:12:42.364785",
     "status": "completed"
    },
    "tags": []
   },
   "outputs": [],
   "source": [
    "recs = ItemListCollection(['model', 'user_id'], index=False)\n",
    "for fld in dirs:\n",
    "    for file in fld.glob(\"recs-*\"):\n",
    "        rec = ItemListCollection.load_parquet(file)\n",
    "        recs.add_from(rec, model=fld.name.split(\"-\")[1])"
   ]
  },
  {
   "cell_type": "code",
   "execution_count": 9,
   "id": "0a0716f7",
   "metadata": {
    "execution": {
     "iopub.execute_input": "2024-12-18T00:12:43.089248Z",
     "iopub.status.busy": "2024-12-18T00:12:43.089159Z",
     "iopub.status.idle": "2024-12-18T00:12:43.094015Z",
     "shell.execute_reply": "2024-12-18T00:12:43.093808Z"
    },
    "papermill": {
     "duration": 0.014871,
     "end_time": "2024-12-18T00:12:43.094374",
     "exception": false,
     "start_time": "2024-12-18T00:12:43.079503",
     "status": "completed"
    },
    "tags": []
   },
   "outputs": [
    {
     "data": {
      "text/plain": [
       "['ALS', 'Bias', 'IALS', 'IIE', 'III', 'Pop', 'UUE']"
      ]
     },
     "execution_count": 9,
     "metadata": {},
     "output_type": "execute_result"
    }
   ],
   "source": [
    "rec_algos = sorted(set(a for (a, _u) in recs.keys()))\n",
    "rec_algos"
   ]
  },
  {
   "cell_type": "code",
   "execution_count": 10,
   "id": "71d6c2ed",
   "metadata": {
    "execution": {
     "iopub.execute_input": "2024-12-18T00:12:43.097295Z",
     "iopub.status.busy": "2024-12-18T00:12:43.097222Z",
     "iopub.status.idle": "2024-12-18T00:12:43.752912Z",
     "shell.execute_reply": "2024-12-18T00:12:43.752374Z"
    },
    "papermill": {
     "duration": 0.658025,
     "end_time": "2024-12-18T00:12:43.753668",
     "exception": false,
     "start_time": "2024-12-18T00:12:43.095643",
     "status": "completed"
    },
    "tags": []
   },
   "outputs": [],
   "source": [
    "preds = ItemListCollection(['model', 'user_id'], index=False)\n",
    "for fld in dirs:\n",
    "    for file in fld.glob(\"pred-*\"):\n",
    "        pred = ItemListCollection.load_parquet(file)\n",
    "        preds.add_from(pred, model=fld.name.split(\"-\")[1])"
   ]
  },
  {
   "cell_type": "markdown",
   "id": "c1ffa3a5",
   "metadata": {
    "papermill": {
     "duration": 0.009092,
     "end_time": "2024-12-18T00:12:43.764220",
     "exception": false,
     "start_time": "2024-12-18T00:12:43.755128",
     "status": "completed"
    },
    "tags": []
   },
   "source": [
    "We need to load the test data so that we have the ground truths for computing accuracy"
   ]
  },
  {
   "cell_type": "code",
   "execution_count": 11,
   "id": "131e4d84",
   "metadata": {
    "execution": {
     "iopub.execute_input": "2024-12-18T00:12:43.767376Z",
     "iopub.status.busy": "2024-12-18T00:12:43.767239Z",
     "iopub.status.idle": "2024-12-18T00:12:43.769018Z",
     "shell.execute_reply": "2024-12-18T00:12:43.768789Z"
    },
    "papermill": {
     "duration": 0.003772,
     "end_time": "2024-12-18T00:12:43.769357",
     "exception": false,
     "start_time": "2024-12-18T00:12:43.765585",
     "status": "completed"
    },
    "tags": []
   },
   "outputs": [],
   "source": [
    "split_root = Path(\"data-split\")\n",
    "split_dir = split_root / dataset"
   ]
  },
  {
   "cell_type": "code",
   "execution_count": 12,
   "id": "c38bfbfc",
   "metadata": {
    "execution": {
     "iopub.execute_input": "2024-12-18T00:12:43.772074Z",
     "iopub.status.busy": "2024-12-18T00:12:43.772009Z",
     "iopub.status.idle": "2024-12-18T00:12:44.008718Z",
     "shell.execute_reply": "2024-12-18T00:12:44.008294Z"
    },
    "papermill": {
     "duration": 0.238801,
     "end_time": "2024-12-18T00:12:44.009431",
     "exception": false,
     "start_time": "2024-12-18T00:12:43.770630",
     "status": "completed"
    },
    "tags": []
   },
   "outputs": [],
   "source": [
    "test = ItemListCollection(UserIDKey)\n",
    "for file in split_dir.glob(\"test-*.parquet\"):\n",
    "    df = pd.read_parquet(file)\n",
    "    part = ItemListCollection.from_df(df, UserIDKey)\n",
    "    test.add_from(part)"
   ]
  },
  {
   "cell_type": "markdown",
   "id": "d33a9869",
   "metadata": {
    "papermill": {
     "duration": 0.008872,
     "end_time": "2024-12-18T00:12:44.019703",
     "exception": false,
     "start_time": "2024-12-18T00:12:44.010831",
     "status": "completed"
    },
    "tags": []
   },
   "source": [
    "## Top-N Metrics\n",
    "\n",
    "`RunListAnalysis` computes metrics for recommendation results and takes care of\n",
    "matching recommendations and ground truth."
   ]
  },
  {
   "cell_type": "code",
   "execution_count": 13,
   "id": "d648b629",
   "metadata": {
    "execution": {
     "iopub.execute_input": "2024-12-18T00:12:44.022524Z",
     "iopub.status.busy": "2024-12-18T00:12:44.022420Z",
     "iopub.status.idle": "2024-12-18T00:12:46.689179Z",
     "shell.execute_reply": "2024-12-18T00:12:46.689012Z"
    },
    "papermill": {
     "duration": 2.668696,
     "end_time": "2024-12-18T00:12:46.689613",
     "exception": false,
     "start_time": "2024-12-18T00:12:44.020917",
     "status": "completed"
    },
    "tags": []
   },
   "outputs": [
    {
     "name": "stderr",
     "output_type": "stream",
     "text": [
      "/home/mde48/lenskit/lk-demo-experiment/.venv/lib/python3.12/site-packages/lenskit/metrics/bulk.py:121: FutureWarning: The previous implementation of stack is deprecated and will be removed in a future version of pandas. See the What's New notes for pandas 2.1.0 for details. Specify future_stack=True to adopt the new implementation and silence this warning.\n",
      "  df = scores.groupby(list(keys)).agg([\"mean\", \"median\", \"std\"]).stack(level=0)\n"
     ]
    },
    {
     "data": {
      "text/html": [
       "<div>\n",
       "<style scoped>\n",
       "    .dataframe tbody tr th:only-of-type {\n",
       "        vertical-align: middle;\n",
       "    }\n",
       "\n",
       "    .dataframe tbody tr th {\n",
       "        vertical-align: top;\n",
       "    }\n",
       "\n",
       "    .dataframe thead th {\n",
       "        text-align: right;\n",
       "    }\n",
       "</style>\n",
       "<table border=\"1\" class=\"dataframe\">\n",
       "  <thead>\n",
       "    <tr style=\"text-align: right;\">\n",
       "      <th></th>\n",
       "      <th></th>\n",
       "      <th>mean</th>\n",
       "      <th>median</th>\n",
       "      <th>std</th>\n",
       "    </tr>\n",
       "    <tr>\n",
       "      <th>model</th>\n",
       "      <th></th>\n",
       "      <th></th>\n",
       "      <th></th>\n",
       "      <th></th>\n",
       "    </tr>\n",
       "  </thead>\n",
       "  <tbody>\n",
       "    <tr>\n",
       "      <th rowspan=\"3\" valign=\"top\">ALS</th>\n",
       "      <th>NDCG</th>\n",
       "      <td>0.054589</td>\n",
       "      <td>4.254180e-02</td>\n",
       "      <td>0.081139</td>\n",
       "    </tr>\n",
       "    <tr>\n",
       "      <th>RBP</th>\n",
       "      <td>0.017554</td>\n",
       "      <td>6.310887e-30</td>\n",
       "      <td>0.080965</td>\n",
       "    </tr>\n",
       "    <tr>\n",
       "      <th>RecipRank</th>\n",
       "      <td>0.057287</td>\n",
       "      <td>1.030928e-02</td>\n",
       "      <td>0.159843</td>\n",
       "    </tr>\n",
       "    <tr>\n",
       "      <th rowspan=\"3\" valign=\"top\">Bias</th>\n",
       "      <th>NDCG</th>\n",
       "      <td>0.051140</td>\n",
       "      <td>0.000000e+00</td>\n",
       "      <td>0.074195</td>\n",
       "    </tr>\n",
       "    <tr>\n",
       "      <th>RBP</th>\n",
       "      <td>0.011416</td>\n",
       "      <td>0.000000e+00</td>\n",
       "      <td>0.056560</td>\n",
       "    </tr>\n",
       "    <tr>\n",
       "      <th>RecipRank</th>\n",
       "      <td>0.046661</td>\n",
       "      <td>0.000000e+00</td>\n",
       "      <td>0.118922</td>\n",
       "    </tr>\n",
       "    <tr>\n",
       "      <th rowspan=\"3\" valign=\"top\">IALS</th>\n",
       "      <th>NDCG</th>\n",
       "      <td>0.231528</td>\n",
       "      <td>1.985044e-01</td>\n",
       "      <td>0.154456</td>\n",
       "    </tr>\n",
       "    <tr>\n",
       "      <th>RBP</th>\n",
       "      <td>0.086681</td>\n",
       "      <td>4.959107e-04</td>\n",
       "      <td>0.171649</td>\n",
       "    </tr>\n",
       "    <tr>\n",
       "      <th>RecipRank</th>\n",
       "      <td>0.215743</td>\n",
       "      <td>9.090909e-02</td>\n",
       "      <td>0.286158</td>\n",
       "    </tr>\n",
       "    <tr>\n",
       "      <th rowspan=\"3\" valign=\"top\">IIE</th>\n",
       "      <th>NDCG</th>\n",
       "      <td>0.038817</td>\n",
       "      <td>0.000000e+00</td>\n",
       "      <td>0.057927</td>\n",
       "    </tr>\n",
       "    <tr>\n",
       "      <th>RBP</th>\n",
       "      <td>0.004410</td>\n",
       "      <td>0.000000e+00</td>\n",
       "      <td>0.036557</td>\n",
       "    </tr>\n",
       "    <tr>\n",
       "      <th>RecipRank</th>\n",
       "      <td>0.027254</td>\n",
       "      <td>0.000000e+00</td>\n",
       "      <td>0.079880</td>\n",
       "    </tr>\n",
       "    <tr>\n",
       "      <th rowspan=\"3\" valign=\"top\">III</th>\n",
       "      <th>NDCG</th>\n",
       "      <td>0.190297</td>\n",
       "      <td>1.466250e-01</td>\n",
       "      <td>0.159578</td>\n",
       "    </tr>\n",
       "    <tr>\n",
       "      <th>RBP</th>\n",
       "      <td>0.113569</td>\n",
       "      <td>2.441406e-04</td>\n",
       "      <td>0.200111</td>\n",
       "    </tr>\n",
       "    <tr>\n",
       "      <th>RecipRank</th>\n",
       "      <td>0.253246</td>\n",
       "      <td>8.333333e-02</td>\n",
       "      <td>0.339992</td>\n",
       "    </tr>\n",
       "    <tr>\n",
       "      <th rowspan=\"3\" valign=\"top\">Pop</th>\n",
       "      <th>NDCG</th>\n",
       "      <td>0.128726</td>\n",
       "      <td>9.538786e-02</td>\n",
       "      <td>0.125925</td>\n",
       "    </tr>\n",
       "    <tr>\n",
       "      <th>RBP</th>\n",
       "      <td>0.056643</td>\n",
       "      <td>1.192093e-07</td>\n",
       "      <td>0.141211</td>\n",
       "    </tr>\n",
       "    <tr>\n",
       "      <th>RecipRank</th>\n",
       "      <td>0.149781</td>\n",
       "      <td>4.347826e-02</td>\n",
       "      <td>0.258971</td>\n",
       "    </tr>\n",
       "    <tr>\n",
       "      <th rowspan=\"3\" valign=\"top\">UUE</th>\n",
       "      <th>NDCG</th>\n",
       "      <td>0.031288</td>\n",
       "      <td>0.000000e+00</td>\n",
       "      <td>0.044110</td>\n",
       "    </tr>\n",
       "    <tr>\n",
       "      <th>RBP</th>\n",
       "      <td>0.001108</td>\n",
       "      <td>0.000000e+00</td>\n",
       "      <td>0.012447</td>\n",
       "    </tr>\n",
       "    <tr>\n",
       "      <th>RecipRank</th>\n",
       "      <td>0.016615</td>\n",
       "      <td>0.000000e+00</td>\n",
       "      <td>0.039211</td>\n",
       "    </tr>\n",
       "  </tbody>\n",
       "</table>\n",
       "</div>"
      ],
      "text/plain": [
       "                     mean        median       std\n",
       "model                                            \n",
       "ALS   NDCG       0.054589  4.254180e-02  0.081139\n",
       "      RBP        0.017554  6.310887e-30  0.080965\n",
       "      RecipRank  0.057287  1.030928e-02  0.159843\n",
       "Bias  NDCG       0.051140  0.000000e+00  0.074195\n",
       "      RBP        0.011416  0.000000e+00  0.056560\n",
       "      RecipRank  0.046661  0.000000e+00  0.118922\n",
       "IALS  NDCG       0.231528  1.985044e-01  0.154456\n",
       "      RBP        0.086681  4.959107e-04  0.171649\n",
       "      RecipRank  0.215743  9.090909e-02  0.286158\n",
       "IIE   NDCG       0.038817  0.000000e+00  0.057927\n",
       "      RBP        0.004410  0.000000e+00  0.036557\n",
       "      RecipRank  0.027254  0.000000e+00  0.079880\n",
       "III   NDCG       0.190297  1.466250e-01  0.159578\n",
       "      RBP        0.113569  2.441406e-04  0.200111\n",
       "      RecipRank  0.253246  8.333333e-02  0.339992\n",
       "Pop   NDCG       0.128726  9.538786e-02  0.125925\n",
       "      RBP        0.056643  1.192093e-07  0.141211\n",
       "      RecipRank  0.149781  4.347826e-02  0.258971\n",
       "UUE   NDCG       0.031288  0.000000e+00  0.044110\n",
       "      RBP        0.001108  0.000000e+00  0.012447\n",
       "      RecipRank  0.016615  0.000000e+00  0.039211"
      ]
     },
     "execution_count": 13,
     "metadata": {},
     "output_type": "execute_result"
    }
   ],
   "source": [
    "ra = RunAnalysis()\n",
    "\n",
    "ra.add_metric(NDCG())\n",
    "ra.add_metric(RecipRank())\n",
    "ra.add_metric(RBP())\n",
    "\n",
    "rec_results = ra.compute(recs, test)\n",
    "rec_results.list_summary('model')"
   ]
  },
  {
   "cell_type": "markdown",
   "id": "f8842c48",
   "metadata": {
    "papermill": {
     "duration": 0.008593,
     "end_time": "2024-12-18T00:12:46.699837",
     "exception": false,
     "start_time": "2024-12-18T00:12:46.691244",
     "status": "completed"
    },
    "tags": []
   },
   "source": [
    "We can reshape the list metrics and plot them:"
   ]
  },
  {
   "cell_type": "code",
   "execution_count": 14,
   "id": "11308253",
   "metadata": {
    "execution": {
     "iopub.execute_input": "2024-12-18T00:12:46.703022Z",
     "iopub.status.busy": "2024-12-18T00:12:46.702941Z",
     "iopub.status.idle": "2024-12-18T00:12:47.304229Z",
     "shell.execute_reply": "2024-12-18T00:12:47.304040Z"
    },
    "papermill": {
     "duration": 0.603504,
     "end_time": "2024-12-18T00:12:47.304779",
     "exception": false,
     "start_time": "2024-12-18T00:12:46.701275",
     "status": "completed"
    },
    "tags": []
   },
   "outputs": [
    {
     "data": {
      "image/png": "[encoded data removed]",
      "text/plain": [
       "<Figure size 1511.11x500 with 3 Axes>"
      ]
     },
     "metadata": {},
     "output_type": "display_data"
    }
   ],
   "source": [
    "metrics = rec_results.list_metrics()\n",
    "metrics = metrics.melt(var_name='metric', ignore_index=False).reset_index()\n",
    "sns.catplot(metrics, x='model', y='value', col='metric', kind='bar')\n",
    "plt.show()"
   ]
  },
  {
   "cell_type": "markdown",
   "id": "ed2b7ce3",
   "metadata": {
    "papermill": {
     "duration": 0.008825,
     "end_time": "2024-12-18T00:12:47.315280",
     "exception": false,
     "start_time": "2024-12-18T00:12:47.306455",
     "status": "completed"
    },
    "tags": []
   },
   "source": [
    "## Prediction RMSE\n",
    "\n",
    "We will also look at the prediction RMSE."
   ]
  },
  {
   "cell_type": "code",
   "execution_count": 15,
   "id": "fb241eec",
   "metadata": {
    "execution": {
     "iopub.execute_input": "2024-12-18T00:12:47.318812Z",
     "iopub.status.busy": "2024-12-18T00:12:47.318702Z",
     "iopub.status.idle": "2024-12-18T00:12:50.780699Z",
     "shell.execute_reply": "2024-12-18T00:12:50.780520Z"
    },
    "papermill": {
     "duration": 3.464525,
     "end_time": "2024-12-18T00:12:50.781226",
     "exception": false,
     "start_time": "2024-12-18T00:12:47.316701",
     "status": "completed"
    },
    "tags": []
   },
   "outputs": [
    {
     "name": "stderr",
     "output_type": "stream",
     "text": [
      "/home/mde48/lenskit/lk-demo-experiment/.venv/lib/python3.12/site-packages/lenskit/metrics/bulk.py:121: FutureWarning: The previous implementation of stack is deprecated and will be removed in a future version of pandas. See the What's New notes for pandas 2.1.0 for details. Specify future_stack=True to adopt the new implementation and silence this warning.\n",
      "  df = scores.groupby(list(keys)).agg([\"mean\", \"median\", \"std\"]).stack(level=0)\n"
     ]
    },
    {
     "data": {
      "text/html": [
       "<div>\n",
       "<style scoped>\n",
       "    .dataframe tbody tr th:only-of-type {\n",
       "        vertical-align: middle;\n",
       "    }\n",
       "\n",
       "    .dataframe tbody tr th {\n",
       "        vertical-align: top;\n",
       "    }\n",
       "\n",
       "    .dataframe thead th {\n",
       "        text-align: right;\n",
       "    }\n",
       "</style>\n",
       "<table border=\"1\" class=\"dataframe\">\n",
       "  <thead>\n",
       "    <tr style=\"text-align: right;\">\n",
       "      <th></th>\n",
       "      <th></th>\n",
       "      <th>mean</th>\n",
       "      <th>median</th>\n",
       "      <th>std</th>\n",
       "    </tr>\n",
       "    <tr>\n",
       "      <th>model</th>\n",
       "      <th></th>\n",
       "      <th></th>\n",
       "      <th></th>\n",
       "      <th></th>\n",
       "    </tr>\n",
       "  </thead>\n",
       "  <tbody>\n",
       "    <tr>\n",
       "      <th>ALS</th>\n",
       "      <th>RMSE</th>\n",
       "      <td>0.824278</td>\n",
       "      <td>0.783634</td>\n",
       "      <td>0.318664</td>\n",
       "    </tr>\n",
       "    <tr>\n",
       "      <th>Bias</th>\n",
       "      <th>RMSE</th>\n",
       "      <td>0.865571</td>\n",
       "      <td>0.816323</td>\n",
       "      <td>0.328988</td>\n",
       "    </tr>\n",
       "    <tr>\n",
       "      <th>IIE</th>\n",
       "      <th>RMSE</th>\n",
       "      <td>0.814396</td>\n",
       "      <td>0.771670</td>\n",
       "      <td>0.317325</td>\n",
       "    </tr>\n",
       "    <tr>\n",
       "      <th>UUE</th>\n",
       "      <th>RMSE</th>\n",
       "      <td>0.851926</td>\n",
       "      <td>0.808180</td>\n",
       "      <td>0.335587</td>\n",
       "    </tr>\n",
       "  </tbody>\n",
       "</table>\n",
       "</div>"
      ],
      "text/plain": [
       "                mean    median       std\n",
       "model                                   \n",
       "ALS   RMSE  0.824278  0.783634  0.318664\n",
       "Bias  RMSE  0.865571  0.816323  0.328988\n",
       "IIE   RMSE  0.814396  0.771670  0.317325\n",
       "UUE   RMSE  0.851926  0.808180  0.335587"
      ]
     },
     "execution_count": 15,
     "metadata": {},
     "output_type": "execute_result"
    }
   ],
   "source": [
    "pa = RunAnalysis()\n",
    "\n",
    "pa.add_metric(RMSE(missing_scores='ignore', missing_truth='ignore'))\n",
    "\n",
    "pred_results = pa.compute(preds, test)\n",
    "pred_results.list_summary('model')"
   ]
  },
  {
   "cell_type": "code",
   "execution_count": 16,
   "id": "92a98510",
   "metadata": {
    "execution": {
     "iopub.execute_input": "2024-12-18T00:12:50.801850Z",
     "iopub.status.busy": "2024-12-18T00:12:50.801767Z",
     "iopub.status.idle": "2024-12-18T00:12:50.927333Z",
     "shell.execute_reply": "2024-12-18T00:12:50.927154Z"
    },
    "papermill": {
     "duration": 0.144914,
     "end_time": "2024-12-18T00:12:50.927814",
     "exception": false,
     "start_time": "2024-12-18T00:12:50.782900",
     "status": "completed"
    },
    "tags": []
   },
   "outputs": [
    {
     "data": {
      "image/png": "[encoded data removed]",
      "text/plain": [
       "<Figure size 511.111x500 with 1 Axes>"
      ]
     },
     "metadata": {},
     "output_type": "display_data"
    }
   ],
   "source": [
    "sns.catplot(pred_results.list_metrics().reset_index(), x='model', y='RMSE', kind='bar')\n",
    "plt.show()"
   ]
  },
  {
   "cell_type": "markdown",
   "id": "c9a309d6",
   "metadata": {
    "papermill": {
     "duration": 0.009137,
     "end_time": "2024-12-18T00:12:50.938639",
     "exception": false,
     "start_time": "2024-12-18T00:12:50.929502",
     "status": "completed"
    },
    "tags": []
   },
   "source": [
    "## Save Metrics\n",
    "\n",
    "We'll now save the metrics to a file."
   ]
  },
  {
   "cell_type": "code",
   "execution_count": 17,
   "id": "68b047dc",
   "metadata": {
    "execution": {
     "iopub.execute_input": "2024-12-18T00:12:50.942402Z",
     "iopub.status.busy": "2024-12-18T00:12:50.942262Z",
     "iopub.status.idle": "2024-12-18T00:12:50.951709Z",
     "shell.execute_reply": "2024-12-18T00:12:50.951535Z"
    },
    "papermill": {
     "duration": 0.011827,
     "end_time": "2024-12-18T00:12:50.952056",
     "exception": false,
     "start_time": "2024-12-18T00:12:50.940229",
     "status": "completed"
    },
    "tags": []
   },
   "outputs": [
    {
     "name": "stderr",
     "output_type": "stream",
     "text": [
      "/home/mde48/lenskit/lk-demo-experiment/.venv/lib/python3.12/site-packages/lenskit/metrics/bulk.py:121: FutureWarning: The previous implementation of stack is deprecated and will be removed in a future version of pandas. See the What's New notes for pandas 2.1.0 for details. Specify future_stack=True to adopt the new implementation and silence this warning.\n",
      "  df = scores.groupby(list(keys)).agg([\"mean\", \"median\", \"std\"]).stack(level=0)\n"
     ]
    },
    {
     "data": {
      "text/html": [
       "<div>\n",
       "<style scoped>\n",
       "    .dataframe tbody tr th:only-of-type {\n",
       "        vertical-align: middle;\n",
       "    }\n",
       "\n",
       "    .dataframe tbody tr th {\n",
       "        vertical-align: top;\n",
       "    }\n",
       "\n",
       "    .dataframe thead th {\n",
       "        text-align: right;\n",
       "    }\n",
       "</style>\n",
       "<table border=\"1\" class=\"dataframe\">\n",
       "  <thead>\n",
       "    <tr style=\"text-align: right;\">\n",
       "      <th></th>\n",
       "      <th>NDCG</th>\n",
       "      <th>RBP</th>\n",
       "      <th>RecipRank</th>\n",
       "    </tr>\n",
       "    <tr>\n",
       "      <th>model</th>\n",
       "      <th></th>\n",
       "      <th></th>\n",
       "      <th></th>\n",
       "    </tr>\n",
       "  </thead>\n",
       "  <tbody>\n",
       "    <tr>\n",
       "      <th>ALS</th>\n",
       "      <td>0.054589</td>\n",
       "      <td>0.017554</td>\n",
       "      <td>0.057287</td>\n",
       "    </tr>\n",
       "    <tr>\n",
       "      <th>Bias</th>\n",
       "      <td>0.051140</td>\n",
       "      <td>0.011416</td>\n",
       "      <td>0.046661</td>\n",
       "    </tr>\n",
       "    <tr>\n",
       "      <th>IALS</th>\n",
       "      <td>0.231528</td>\n",
       "      <td>0.086681</td>\n",
       "      <td>0.215743</td>\n",
       "    </tr>\n",
       "    <tr>\n",
       "      <th>IIE</th>\n",
       "      <td>0.038817</td>\n",
       "      <td>0.004410</td>\n",
       "      <td>0.027254</td>\n",
       "    </tr>\n",
       "    <tr>\n",
       "      <th>III</th>\n",
       "      <td>0.190297</td>\n",
       "      <td>0.113569</td>\n",
       "      <td>0.253246</td>\n",
       "    </tr>\n",
       "    <tr>\n",
       "      <th>Pop</th>\n",
       "      <td>0.128726</td>\n",
       "      <td>0.056643</td>\n",
       "      <td>0.149781</td>\n",
       "    </tr>\n",
       "    <tr>\n",
       "      <th>UUE</th>\n",
       "      <td>0.031288</td>\n",
       "      <td>0.001108</td>\n",
       "      <td>0.016615</td>\n",
       "    </tr>\n",
       "  </tbody>\n",
       "</table>\n",
       "</div>"
      ],
      "text/plain": [
       "           NDCG       RBP  RecipRank\n",
       "model                               \n",
       "ALS    0.054589  0.017554   0.057287\n",
       "Bias   0.051140  0.011416   0.046661\n",
       "IALS   0.231528  0.086681   0.215743\n",
       "IIE    0.038817  0.004410   0.027254\n",
       "III    0.190297  0.113569   0.253246\n",
       "Pop    0.128726  0.056643   0.149781\n",
       "UUE    0.031288  0.001108   0.016615"
      ]
     },
     "execution_count": 17,
     "metadata": {},
     "output_type": "execute_result"
    }
   ],
   "source": [
    "rlsum = rec_results.list_summary('model')['mean'].unstack()\n",
    "rlsum"
   ]
  },
  {
   "cell_type": "code",
   "execution_count": 18,
   "id": "5582d5d8",
   "metadata": {
    "execution": {
     "iopub.execute_input": "2024-12-18T00:12:50.955702Z",
     "iopub.status.busy": "2024-12-18T00:12:50.955625Z",
     "iopub.status.idle": "2024-12-18T00:12:50.957502Z",
     "shell.execute_reply": "2024-12-18T00:12:50.957197Z"
    },
    "papermill": {
     "duration": 0.004256,
     "end_time": "2024-12-18T00:12:50.957930",
     "exception": false,
     "start_time": "2024-12-18T00:12:50.953674",
     "status": "completed"
    },
    "tags": []
   },
   "outputs": [],
   "source": [
    "rlsum.to_json(f'eval-metrics.{dataset}.json', orient='index')"
   ]
  }
 ],
 "metadata": {
  "jupytext": {
   "formats": "ipynb,md",
   "notebook_metadata_filter": "split_at_heading"
  },
  "kernelspec": {
   "display_name": "Python 3 (ipykernel)",
   "language": "python",
   "name": "python3"
  },
  "language_info": {
   "codemirror_mode": {
    "name": "ipython",
    "version": 3
   },
   "file_extension": ".py",
   "mimetype": "text/x-python",
   "name": "python",
   "nbconvert_exporter": "python",
   "pygments_lexer": "ipython3",
   "version": "3.12.8"
  },
  "papermill": {
   "default_parameters": {},
   "duration": 10.934115,
   "end_time": "2024-12-18T00:12:51.474693",
   "environment_variables": {},
   "exception": null,
   "input_path": "eval-report.ipynb",
   "output_path": "eval-report.ml1m.ipynb",
   "parameters": {
    "dataset": "ml1m"
   },
   "start_time": "2024-12-18T00:12:40.540578",
   "version": "2.6.0"
  },
  "split_at_heading": true
 },
 "nbformat": 4,
 "nbformat_minor": 5
}